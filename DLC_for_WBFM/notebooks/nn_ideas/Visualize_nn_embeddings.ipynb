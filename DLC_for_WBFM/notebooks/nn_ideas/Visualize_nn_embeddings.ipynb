{
 "cells": [
  {
   "cell_type": "code",
   "execution_count": 14,
   "id": "66e7b139-befd-4ea5-a6c8-bc99bea440ab",
   "metadata": {},
   "outputs": [
    {
     "name": "stdout",
     "output_type": "stream",
     "text": [
      "The autoreload extension is already loaded. To reload it, use:\n",
      "  %reload_ext autoreload\n"
     ]
    }
   ],
   "source": [
    "%load_ext autoreload\n",
    "%autoreload 2\n",
    "import matplotlib.pyplot as plt\n",
    "from DLC_for_WBFM.utils.projects.finished_project_data import ProjectData\n",
    "import napari\n",
    "import pandas as pd\n",
    "import numpy as np\n",
    "from torch.utils.data import random_split\n",
    "from DLC_for_WBFM.utils.nn_utils.data_loading import NeuronTripletDataset\n",
    "from torch.utils.data import DataLoader\n",
    "import os\n",
    "from tqdm.auto import tqdm\n",
    "import torch"
   ]
  },
  {
   "cell_type": "code",
   "execution_count": 15,
   "id": "3ce5daf1-c091-4c52-8652-22a896aacbec",
   "metadata": {},
   "outputs": [],
   "source": [
    "project_dir = \"/scratch/zimmer/Charles/dlc_stacks/worm3-newseg-2021_11_17/\""
   ]
  },
  {
   "cell_type": "code",
   "execution_count": 16,
   "id": "5213cbf6-d14a-4a0e-bb58-cb64610928bc",
   "metadata": {},
   "outputs": [],
   "source": [
    "\n",
    "training_folder = os.path.join(project_dir, 'nn_training')\n",
    "training_dataset = NeuronTripletDataset(training_folder)\n",
    "train_loader = DataLoader(training_dataset, batch_size=4)\n",
    "small_dataset, large_dataset = random_split(training_dataset, [100, 900], generator=torch.Generator().manual_seed(42))"
   ]
  },
  {
   "cell_type": "code",
   "execution_count": null,
   "id": "21cafa50-db22-447d-b2a1-64b4431d219a",
   "metadata": {},
   "outputs": [],
   "source": []
  },
  {
   "cell_type": "code",
   "execution_count": 17,
   "id": "11829425-170c-40e2-a2d7-0940cd06dea9",
   "metadata": {},
   "outputs": [
    {
     "data": {
      "application/vnd.jupyter.widget-view+json": {
       "model_id": "821c566d70f8445fae6e2565288f474e",
       "version_major": 2,
       "version_minor": 0
      },
      "text/plain": [
       "Validating:   0%|          | 0/100 [00:00<?, ?it/s]"
      ]
     },
     "metadata": {},
     "output_type": "display_data"
    },
    {
     "ename": "NameError",
     "evalue": "name 'model' is not defined",
     "output_type": "error",
     "traceback": [
      "\u001b[0;31m---------------------------------------------------------------------------\u001b[0m",
      "\u001b[0;31mNameError\u001b[0m                                 Traceback (most recent call last)",
      "\u001b[0;32m/tmp/ipykernel_378405/1479171520.py\u001b[0m in \u001b[0;36m<module>\u001b[0;34m\u001b[0m\n\u001b[1;32m      8\u001b[0m \u001b[0;34m\u001b[0m\u001b[0m\n\u001b[1;32m      9\u001b[0m \u001b[0;32mfor\u001b[0m \u001b[0mstep\u001b[0m\u001b[0;34m,\u001b[0m \u001b[0;34m(\u001b[0m\u001b[0manchor_img\u001b[0m\u001b[0;34m,\u001b[0m \u001b[0mpositive_img\u001b[0m\u001b[0;34m,\u001b[0m \u001b[0mpos_label\u001b[0m\u001b[0;34m,\u001b[0m \u001b[0mnegative_img\u001b[0m\u001b[0;34m,\u001b[0m \u001b[0mneg_label\u001b[0m\u001b[0;34m)\u001b[0m \u001b[0;32min\u001b[0m \u001b[0menumerate\u001b[0m\u001b[0;34m(\u001b[0m\u001b[0mtqdm\u001b[0m\u001b[0;34m(\u001b[0m\u001b[0mtest_loader\u001b[0m\u001b[0;34m,\u001b[0m \u001b[0mdesc\u001b[0m\u001b[0;34m=\u001b[0m\u001b[0;34m\"Validating\"\u001b[0m\u001b[0;34m,\u001b[0m \u001b[0mleave\u001b[0m\u001b[0;34m=\u001b[0m\u001b[0;32mFalse\u001b[0m\u001b[0;34m)\u001b[0m\u001b[0;34m)\u001b[0m\u001b[0;34m:\u001b[0m\u001b[0;34m\u001b[0m\u001b[0;34m\u001b[0m\u001b[0m\n\u001b[0;32m---> 10\u001b[0;31m     \u001b[0manchor_out\u001b[0m \u001b[0;34m=\u001b[0m \u001b[0mmodel\u001b[0m\u001b[0;34m(\u001b[0m\u001b[0manchor_img\u001b[0m\u001b[0;34m)\u001b[0m\u001b[0;34m\u001b[0m\u001b[0;34m\u001b[0m\u001b[0m\n\u001b[0m\u001b[1;32m     11\u001b[0m     \u001b[0mpositive_out\u001b[0m \u001b[0;34m=\u001b[0m \u001b[0mmodel\u001b[0m\u001b[0;34m(\u001b[0m\u001b[0mpositive_img\u001b[0m\u001b[0;34m)\u001b[0m\u001b[0;34m\u001b[0m\u001b[0;34m\u001b[0m\u001b[0m\n\u001b[1;32m     12\u001b[0m     \u001b[0mnegative_out\u001b[0m \u001b[0;34m=\u001b[0m \u001b[0mmodel\u001b[0m\u001b[0;34m(\u001b[0m\u001b[0mnegative_img\u001b[0m\u001b[0;34m)\u001b[0m\u001b[0;34m\u001b[0m\u001b[0;34m\u001b[0m\u001b[0m\n",
      "\u001b[0;31mNameError\u001b[0m: name 'model' is not defined"
     ]
    }
   ],
   "source": [
    "# PCA plot\n",
    "test_loader = DataLoader(small_dataset, batch_size=1)\n",
    "all_data = []\n",
    "label_of_each_row = []\n",
    "all_val_loss = []\n",
    "\n",
    "triplets_to_visualize = 200\n",
    "\n",
    "for step, (anchor_img, positive_img, pos_label, negative_img, neg_label) in enumerate(tqdm(test_loader, desc=\"Validating\", leave=False)):\n",
    "    anchor_out = model(anchor_img)\n",
    "    positive_out = model(positive_img)\n",
    "    negative_out = model(negative_img)\n",
    "    all_data.append(anchor_out.detach().numpy().T)\n",
    "    all_data.append(positive_out.detach().numpy().T)\n",
    "    all_data.append(negative_out.detach().numpy().T)\n",
    "    \n",
    "    label_of_each_row.append(pos_label)\n",
    "    label_of_each_row.append(pos_label)\n",
    "    label_of_each_row.append(neg_label)\n",
    "    \n",
    "    loss = criterion(anchor_out, positive_out, negative_out)\n",
    "    all_val_loss.append(loss.cpu().detach().numpy())\n",
    "    \n",
    "    if step > triplets_to_visualize:\n",
    "        break\n",
    "\n",
    "array_data = np.array(all_data)"
   ]
  },
  {
   "cell_type": "code",
   "execution_count": null,
   "id": "d056a968-62fd-4c6e-a0b9-4e2ca9d98081",
   "metadata": {},
   "outputs": [],
   "source": []
  }
 ],
 "metadata": {
  "kernelspec": {
   "display_name": "Python 3 (ipykernel)",
   "language": "python",
   "name": "python3"
  },
  "language_info": {
   "codemirror_mode": {
    "name": "ipython",
    "version": 3
   },
   "file_extension": ".py",
   "mimetype": "text/x-python",
   "name": "python",
   "nbconvert_exporter": "python",
   "pygments_lexer": "ipython3",
   "version": "3.7.11"
  }
 },
 "nbformat": 4,
 "nbformat_minor": 5
}
