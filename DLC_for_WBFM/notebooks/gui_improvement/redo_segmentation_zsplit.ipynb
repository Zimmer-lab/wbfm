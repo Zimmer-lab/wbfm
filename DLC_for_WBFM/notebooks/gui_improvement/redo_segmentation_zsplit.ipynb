{
 "cells": [
  {
   "cell_type": "code",
   "execution_count": 12,
   "id": "26cb16aa-203e-453a-9e20-89b53a6e881f",
   "metadata": {},
   "outputs": [
    {
     "name": "stdout",
     "output_type": "stream",
     "text": [
      "The autoreload extension is already loaded. To reload it, use:\n",
      "  %reload_ext autoreload\n"
     ]
    }
   ],
   "source": [
    "%load_ext autoreload\n",
    "%autoreload 2\n",
    "import matplotlib.pyplot as plt\n",
    "from DLC_for_WBFM.utils.projects.finished_project_data import ProjectData\n",
    "import napari\n",
    "import pandas as pd\n",
    "import numpy as np\n",
    "from DLC_for_WBFM.utils.general.postprocessing.utils_metadata import regionprops_one_volume_one_channel"
   ]
  },
  {
   "cell_type": "code",
   "execution_count": 5,
   "id": "528fa81a-8299-46e7-a81e-da7dea0c7c79",
   "metadata": {},
   "outputs": [],
   "source": [
    "from segmentation.util.utils_pipeline import perform_post_processing_2d"
   ]
  },
  {
   "cell_type": "code",
   "execution_count": 2,
   "id": "9601b24e-0792-46aa-86a2-63db2b5a6b9b",
   "metadata": {},
   "outputs": [
    {
     "name": "stdout",
     "output_type": "stream",
     "text": [
      "=======================================\n",
      "Project data for directory:\n",
      "/home/charles/dlc_stacks/students-worm4-LOCAL \n",
      "Found the following data files:\n",
      "============Raw========================\n",
      "red_data:                 True\n",
      "green_data:               True\n",
      "============Annotations================\n",
      "behavior_annotations:     True\n",
      "============Training================\n",
      "df_training_tracklets:    True\n",
      "============Segmentation===============\n",
      "raw_segmentation:         True\n",
      "colored_segmentation:     True\n",
      "============Traces=====================\n",
      "red_traces:               True\n",
      "green_traces:             True\n",
      "\n"
     ]
    }
   ],
   "source": [
    "# fname = \"/scratch/zimmer/Charles/dlc_stacks/project_pytest/project_config.yaml\"\n",
    "fname = \"/home/charles/dlc_stacks/students-worm4-LOCAL/project_config.yaml\"\n",
    "\n",
    "project_data = ProjectData.load_final_project_data_from_config(fname, to_load_tracklets=True, to_load_segmentation_metadata=True)"
   ]
  },
  {
   "cell_type": "markdown",
   "id": "b57fb082-5b90-4a28-b601-c013e6122d00",
   "metadata": {},
   "source": [
    "# Try to automatically resegment using a hierarchy of methods:\n",
    "\n",
    "1. Initially, just gaussian fitting (already tried)\n",
    "2. If that fails, use centroid motion?\n",
    "3. If that fails, use inner-product \n",
    "\n",
    "Also, try to split triple-squished neurons"
   ]
  },
  {
   "cell_type": "markdown",
   "id": "8db02b9e-9621-4d74-986d-f10ed675ae39",
   "metadata": {},
   "source": [
    "## First, reproduce the segmentation from the used settings\n"
   ]
  },
  {
   "cell_type": "code",
   "execution_count": 446,
   "id": "1a556d74-c75f-47ce-9a6a-9c6403481829",
   "metadata": {},
   "outputs": [],
   "source": [
    "ind = 53\n",
    "t = 2\n",
    "seg = project_data.raw_segmentation[t, ...]\n",
    "red = project_data.red_data[t, ...]"
   ]
  },
  {
   "cell_type": "code",
   "execution_count": 447,
   "id": "fdf5a215-376b-4cbc-8d8d-b990c1fa63f5",
   "metadata": {},
   "outputs": [],
   "source": [
    "seg_cfg = project_data.project_config.get_segmentation_config()\n",
    "opt = seg_cfg.config['postprocessing_params']"
   ]
  },
  {
   "cell_type": "code",
   "execution_count": 448,
   "id": "c4f71a62-4e24-44b2-9551-c623f25d547a",
   "metadata": {},
   "outputs": [
    {
     "data": {
      "application/vnd.jupyter.widget-view+json": {
       "model_id": "441c927325804cf68e24fc8cdcc77f98",
       "version_major": 2,
       "version_minor": 0
      },
      "text/plain": [
       "  0%|          | 0/718 [00:00<?, ?it/s]"
      ]
     },
     "metadata": {},
     "output_type": "display_data"
    },
    {
     "ename": "IndexError",
     "evalue": "index 18 is out of bounds for axis 0 with size 18",
     "output_type": "error",
     "traceback": [
      "\u001b[0;31m---------------------------------------------------------------------------\u001b[0m",
      "\u001b[0;31mIndexError\u001b[0m                                Traceback (most recent call last)",
      "\u001b[0;32m/tmp/ipykernel_55185/3971568925.py\u001b[0m in \u001b[0;36m<module>\u001b[0;34m\u001b[0m\n\u001b[0;32m----> 1\u001b[0;31m \u001b[0mnew_seg\u001b[0m \u001b[0;34m=\u001b[0m \u001b[0mperform_post_processing_2d\u001b[0m\u001b[0;34m(\u001b[0m\u001b[0mseg\u001b[0m\u001b[0;34m,\u001b[0m \u001b[0mred\u001b[0m\u001b[0;34m,\u001b[0m \u001b[0;34m**\u001b[0m\u001b[0mopt\u001b[0m\u001b[0;34m)\u001b[0m\u001b[0;34m\u001b[0m\u001b[0;34m\u001b[0m\u001b[0m\n\u001b[0m",
      "\u001b[0;32m~/Current_work/repos/segmentation/segmentation/util/utils_pipeline.py\u001b[0m in \u001b[0;36mperform_post_processing_2d\u001b[0;34m(mask_array, img_volume, border_width_to_remove, to_remove_border, upper_length_threshold, lower_length_threshold, to_remove_dim_slices, stitch_via_watershed, min_separation, verbose, DEBUG)\u001b[0m\n\u001b[1;32m    399\u001b[0m                                     \u001b[0mneuron_planes\u001b[0m\u001b[0;34m,\u001b[0m\u001b[0;34m\u001b[0m\u001b[0;34m\u001b[0m\u001b[0m\n\u001b[1;32m    400\u001b[0m                                     \u001b[0mmin_separation\u001b[0m\u001b[0;34m,\u001b[0m\u001b[0;34m\u001b[0m\u001b[0;34m\u001b[0m\u001b[0m\n\u001b[0;32m--> 401\u001b[0;31m                                     verbose=verbose - 1)\n\u001b[0m\u001b[1;32m    402\u001b[0m         \u001b[0;32mif\u001b[0m \u001b[0mverbose\u001b[0m \u001b[0;34m>=\u001b[0m \u001b[0;36m1\u001b[0m\u001b[0;34m:\u001b[0m\u001b[0;34m\u001b[0m\u001b[0;34m\u001b[0m\u001b[0m\n\u001b[1;32m    403\u001b[0m             \u001b[0mprint\u001b[0m\u001b[0;34m(\u001b[0m\u001b[0;34mf\"After splitting: {len(np.unique(split_masks)) - 1}\"\u001b[0m\u001b[0;34m)\u001b[0m\u001b[0;34m\u001b[0m\u001b[0;34m\u001b[0m\u001b[0m\n",
      "\u001b[0;32m~/Current_work/repos/segmentation/segmentation/util/utils_postprocessing.py\u001b[0m in \u001b[0;36msplit_long_neurons\u001b[0;34m(mask_array, neuron_lengths, neuron_brightnesses, global_current_neuron, maximum_length, neuron_z_planes, min_separation, verbose)\u001b[0m\n\u001b[1;32m    731\u001b[0m                                                                            \u001b[0mmin_separation\u001b[0m\u001b[0;34m,\u001b[0m\u001b[0;34m\u001b[0m\u001b[0;34m\u001b[0m\u001b[0m\n\u001b[1;32m    732\u001b[0m                                                                            \u001b[0mnum_gaussians\u001b[0m\u001b[0;34m=\u001b[0m\u001b[0mnum_gaussians\u001b[0m\u001b[0;34m,\u001b[0m\u001b[0;34m\u001b[0m\u001b[0;34m\u001b[0m\u001b[0m\n\u001b[0;32m--> 733\u001b[0;31m                                                                            verbose=verbose - 1)\n\u001b[0m\u001b[1;32m    734\u001b[0m             \u001b[0;32mexcept\u001b[0m \u001b[0;34m(\u001b[0m\u001b[0mValueError\u001b[0m\u001b[0;34m,\u001b[0m \u001b[0mTypeError\u001b[0m\u001b[0;34m)\u001b[0m \u001b[0;32mas\u001b[0m \u001b[0merr\u001b[0m\u001b[0;34m:\u001b[0m\u001b[0;34m\u001b[0m\u001b[0;34m\u001b[0m\u001b[0m\n\u001b[1;32m    735\u001b[0m                 \u001b[0;32mif\u001b[0m \u001b[0mverbose\u001b[0m \u001b[0;34m>=\u001b[0m \u001b[0;36m1\u001b[0m\u001b[0;34m:\u001b[0m\u001b[0;34m\u001b[0m\u001b[0;34m\u001b[0m\u001b[0m\n",
      "\u001b[0;32m~/Current_work/repos/segmentation/segmentation/util/utils_postprocessing.py\u001b[0m in \u001b[0;36mcalc_split_point_via_brightnesses\u001b[0;34m(brightnesses, min_separation, num_gaussians, min_height, plots, verbose, to_save_plot, return_all)\u001b[0m\n\u001b[1;32m    416\u001b[0m         \u001b[0mexplanation\u001b[0m \u001b[0;34m=\u001b[0m \u001b[0;34m[\u001b[0m\u001b[0;34m\"Single gaussian (aicc)\"\u001b[0m\u001b[0;34m]\u001b[0m\u001b[0;34m\u001b[0m\u001b[0;34m\u001b[0m\u001b[0m\n\u001b[1;32m    417\u001b[0m     \u001b[0;32melif\u001b[0m \u001b[0mi_best\u001b[0m \u001b[0;34m==\u001b[0m \u001b[0;36m1\u001b[0m\u001b[0;34m:\u001b[0m\u001b[0;34m\u001b[0m\u001b[0;34m\u001b[0m\u001b[0m\n\u001b[0;32m--> 418\u001b[0;31m         \u001b[0msplit_point\u001b[0m \u001b[0;34m=\u001b[0m \u001b[0mcalc_split_point_from_gaussians\u001b[0m\u001b[0;34m(\u001b[0m\u001b[0mmodel\u001b[0m\u001b[0;34m)\u001b[0m\u001b[0;34m\u001b[0m\u001b[0;34m\u001b[0m\u001b[0m\n\u001b[0m\u001b[1;32m    419\u001b[0m         \u001b[0mexplanation\u001b[0m \u001b[0;34m=\u001b[0m \u001b[0;34m[\u001b[0m\u001b[0;34m\"Two gaussians (aicc)\"\u001b[0m\u001b[0;34m]\u001b[0m\u001b[0;34m\u001b[0m\u001b[0;34m\u001b[0m\u001b[0m\n\u001b[1;32m    420\u001b[0m     \u001b[0;32melse\u001b[0m\u001b[0;34m:\u001b[0m\u001b[0;34m\u001b[0m\u001b[0;34m\u001b[0m\u001b[0m\n",
      "\u001b[0;32m~/Current_work/repos/segmentation/segmentation/util/util_curve_fitting.py\u001b[0m in \u001b[0;36mcalc_split_point_from_gaussians\u001b[0;34m(result)\u001b[0m\n\u001b[1;32m    111\u001b[0m \u001b[0;34m\u001b[0m\u001b[0m\n\u001b[1;32m    112\u001b[0m     \u001b[0mind\u001b[0m \u001b[0;34m=\u001b[0m \u001b[0mpeaks_of_gaussians\u001b[0m\u001b[0;34m[\u001b[0m\u001b[0;36m0\u001b[0m\u001b[0;34m]\u001b[0m \u001b[0;34m+\u001b[0m \u001b[0mnp\u001b[0m\u001b[0;34m.\u001b[0m\u001b[0marray\u001b[0m\u001b[0;34m(\u001b[0m\u001b[0mrange\u001b[0m\u001b[0;34m(\u001b[0m\u001b[0;36m0\u001b[0m\u001b[0;34m,\u001b[0m \u001b[0mpeaks_of_gaussians\u001b[0m\u001b[0;34m[\u001b[0m\u001b[0;36m1\u001b[0m\u001b[0;34m]\u001b[0m \u001b[0;34m+\u001b[0m \u001b[0;36m1\u001b[0m\u001b[0;34m)\u001b[0m\u001b[0;34m)\u001b[0m\u001b[0;34m\u001b[0m\u001b[0;34m\u001b[0m\u001b[0m\n\u001b[0;32m--> 113\u001b[0;31m     \u001b[0minter_peak_diff\u001b[0m \u001b[0;34m=\u001b[0m \u001b[0mnp\u001b[0m\u001b[0;34m.\u001b[0m\u001b[0marray\u001b[0m\u001b[0;34m(\u001b[0m\u001b[0mdiff\u001b[0m\u001b[0;34m[\u001b[0m\u001b[0mind\u001b[0m\u001b[0;34m]\u001b[0m\u001b[0;34m)\u001b[0m\u001b[0;34m\u001b[0m\u001b[0;34m\u001b[0m\u001b[0m\n\u001b[0m\u001b[1;32m    114\u001b[0m \u001b[0;34m\u001b[0m\u001b[0m\n\u001b[1;32m    115\u001b[0m     \u001b[0;32mtry\u001b[0m\u001b[0;34m:\u001b[0m\u001b[0;34m\u001b[0m\u001b[0;34m\u001b[0m\u001b[0m\n",
      "\u001b[0;31mIndexError\u001b[0m: index 18 is out of bounds for axis 0 with size 18"
     ]
    }
   ],
   "source": [
    "new_seg = perform_post_processing_2d(seg, red, **opt)"
   ]
  },
  {
   "cell_type": "code",
   "execution_count": 10,
   "id": "ab41fb62-60e2-45af-987e-f920466d3879",
   "metadata": {},
   "outputs": [
    {
     "name": "stderr",
     "output_type": "stream",
     "text": [
      "/home/charles/anaconda3/envs/torch/lib/python3.7/site-packages/napari/plugins/_plugin_manager.py:511: UserWarning: Plugin 'napari-animated-gif-io' has already registered a function widget 'save as animated gif' which has now been overwritten\n",
      "  warn(message=warn_message)\n"
     ]
    },
    {
     "data": {
      "text/plain": [
       "<Image layer 'red' at 0x7fb85f57f850>"
      ]
     },
     "execution_count": 10,
     "metadata": {},
     "output_type": "execute_result"
    }
   ],
   "source": [
    "v = napari.view_labels(seg, ndisplay=3)\n",
    "v.add_labels(new_seg, rendering='translucent')\n",
    "v.add_image(red, colormap='PiYG')"
   ]
  },
  {
   "cell_type": "code",
   "execution_count": null,
   "id": "4a0e1eac-9049-4770-aefb-56635e14d543",
   "metadata": {},
   "outputs": [],
   "source": [
    "old_props = regionprops_one_volume_one_channel(seg, red, ['intensity_image'], name_mode='neuron')\n",
    "new_props = regionprops_one_volume_one_channel(new_seg, red, ['intensity_image'], name_mode='neuron')"
   ]
  },
  {
   "cell_type": "code",
   "execution_count": 51,
   "id": "78495a1e-f926-4ab5-b475-82dd55b225db",
   "metadata": {},
   "outputs": [
    {
     "name": "stdout",
     "output_type": "stream",
     "text": [
      "Different values for neuron_022: 48640 != 32011\n",
      "Different values for neuron_127: 17597 != 15158\n",
      "Different values for neuron_129: 15007 != 12926\n"
     ]
    }
   ],
   "source": [
    "# Get differences (should only be due to gaussian splitting initialization)\n",
    "for k, v in new_props.items():\n",
    "    v_old = old_props.get(k, None)\n",
    "    if v_old is None:\n",
    "        print(f\"{k} is missing in the old set of neurons\")\n",
    "    elif v_old == v:\n",
    "        pass\n",
    "    else:\n",
    "        print(f\"Different values for {k[0]}: {v_old} != {v}\")\n",
    "        "
   ]
  },
  {
   "cell_type": "markdown",
   "id": "3987d7fe-1c87-4cbe-b6ef-fe817a227a81",
   "metadata": {},
   "source": [
    "## Second, change the settings to fix known errors"
   ]
  },
  {
   "cell_type": "code",
   "execution_count": 495,
   "id": "a4fef477-283c-4142-8523-529669f8fa5d",
   "metadata": {},
   "outputs": [],
   "source": [
    "# ind = 53\n",
    "# t = 0\n",
    "ind = 31\n",
    "t = 2#68\n",
    "seg = project_data.raw_segmentation[t, ...]\n",
    "red = project_data.red_data[t, ...]"
   ]
  },
  {
   "cell_type": "code",
   "execution_count": 496,
   "id": "f4029e5c-c2dd-4c96-aa90-3c81343be300",
   "metadata": {},
   "outputs": [],
   "source": [
    "seg_cfg = project_data.project_config.get_segmentation_config()\n",
    "opt = seg_cfg.config['postprocessing_params']\n",
    "\n",
    "opt['min_separation'] = 20 # Force failure of splits"
   ]
  },
  {
   "cell_type": "code",
   "execution_count": 497,
   "id": "1d95bec8-f88e-440e-b02e-3641adef0e1d",
   "metadata": {},
   "outputs": [
    {
     "data": {
      "application/vnd.jupyter.widget-view+json": {
       "model_id": "b26d78766f014fe8a095917229753b1c",
       "version_major": 2,
       "version_minor": 0
      },
      "text/plain": [
       "  0%|          | 0/718 [00:00<?, ?it/s]"
      ]
     },
     "metadata": {},
     "output_type": "display_data"
    }
   ],
   "source": [
    "new_seg = perform_post_processing_2d(seg, red, **opt)"
   ]
  },
  {
   "cell_type": "code",
   "execution_count": 498,
   "id": "339a4e51-3226-43be-b962-98a0411c9bbd",
   "metadata": {},
   "outputs": [
    {
     "name": "stdout",
     "output_type": "stream",
     "text": [
      "> \u001b[0;32m/tmp/ipykernel_55185/282779551.py\u001b[0m(1)\u001b[0;36m<module>\u001b[0;34m()\u001b[0m\n",
      "\u001b[0;32m----> 1 \u001b[0;31m\u001b[0my\u001b[0m \u001b[0;34m=\u001b[0m \u001b[0mresult\u001b[0m\u001b[0;34m.\u001b[0m\u001b[0mdata\u001b[0m\u001b[0;34m\u001b[0m\u001b[0;34m\u001b[0m\u001b[0m\n",
      "\u001b[0m\u001b[0;32m      2 \u001b[0;31m\u001b[0mx\u001b[0m \u001b[0;34m=\u001b[0m \u001b[0mnp\u001b[0m\u001b[0;34m.\u001b[0m\u001b[0marange\u001b[0m\u001b[0;34m(\u001b[0m\u001b[0mlen\u001b[0m\u001b[0;34m(\u001b[0m\u001b[0my\u001b[0m\u001b[0;34m)\u001b[0m\u001b[0;34m)\u001b[0m\u001b[0;34m\u001b[0m\u001b[0;34m\u001b[0m\u001b[0m\n",
      "\u001b[0m\u001b[0;32m      3 \u001b[0;31m\u001b[0;34m\u001b[0m\u001b[0m\n",
      "\u001b[0m\u001b[0;32m      4 \u001b[0;31m\u001b[0mg1\u001b[0m \u001b[0;34m=\u001b[0m \u001b[0mresult\u001b[0m\u001b[0;34m.\u001b[0m\u001b[0meval_components\u001b[0m\u001b[0;34m(\u001b[0m\u001b[0mx\u001b[0m\u001b[0;34m=\u001b[0m\u001b[0mnp\u001b[0m\u001b[0;34m.\u001b[0m\u001b[0marray\u001b[0m\u001b[0;34m(\u001b[0m\u001b[0mx\u001b[0m\u001b[0;34m)\u001b[0m\u001b[0;34m)\u001b[0m\u001b[0;34m[\u001b[0m\u001b[0;34m'g1_'\u001b[0m\u001b[0;34m]\u001b[0m\u001b[0;34m\u001b[0m\u001b[0;34m\u001b[0m\u001b[0m\n",
      "\u001b[0m\u001b[0;32m      5 \u001b[0;31m\u001b[0mg2\u001b[0m \u001b[0;34m=\u001b[0m \u001b[0mresult\u001b[0m\u001b[0;34m.\u001b[0m\u001b[0meval_components\u001b[0m\u001b[0;34m(\u001b[0m\u001b[0mx\u001b[0m\u001b[0;34m=\u001b[0m\u001b[0mnp\u001b[0m\u001b[0;34m.\u001b[0m\u001b[0marray\u001b[0m\u001b[0;34m(\u001b[0m\u001b[0mx\u001b[0m\u001b[0;34m)\u001b[0m\u001b[0;34m)\u001b[0m\u001b[0;34m[\u001b[0m\u001b[0;34m'g2_'\u001b[0m\u001b[0;34m]\u001b[0m\u001b[0;34m\u001b[0m\u001b[0;34m\u001b[0m\u001b[0m\n",
      "\u001b[0m\n"
     ]
    },
    {
     "name": "stdin",
     "output_type": "stream",
     "text": [
      "ipdb>  q\n"
     ]
    }
   ],
   "source": [
    "%debug"
   ]
  },
  {
   "cell_type": "code",
   "execution_count": 281,
   "id": "7d75b821-3172-4ac3-ac0e-41edbd054821",
   "metadata": {},
   "outputs": [
    {
     "name": "stderr",
     "output_type": "stream",
     "text": [
      "/home/charles/anaconda3/envs/torch/lib/python3.7/site-packages/napari/plugins/_plugin_manager.py:511: UserWarning: Plugin 'napari-animated-gif-io' has already registered a function widget 'save as animated gif' which has now been overwritten\n",
      "  warn(message=warn_message)\n"
     ]
    },
    {
     "data": {
      "text/plain": [
       "<Image layer 'red' at 0x7fb6df067c90>"
      ]
     },
     "execution_count": 281,
     "metadata": {},
     "output_type": "execute_result"
    },
    {
     "name": "stderr",
     "output_type": "stream",
     "text": [
      "/home/charles/anaconda3/envs/torch/lib/python3.7/site-packages/napari/layers/labels/labels.py:917: UserWarning: Contours are not displayed during 3D rendering\n",
      "  deferred=True,\n",
      "/home/charles/anaconda3/envs/torch/lib/python3.7/site-packages/napari/layers/labels/labels.py:917: UserWarning: Contours are not displayed during 3D rendering\n",
      "  deferred=True,\n"
     ]
    }
   ],
   "source": [
    "v = napari.view_labels(seg, ndisplay=3)\n",
    "v.add_labels(new_seg, rendering='translucent')\n",
    "v.add_image(red, colormap='PiYG')"
   ]
  },
  {
   "cell_type": "code",
   "execution_count": 500,
   "id": "77be1ce3-fc0e-4ec1-8ffd-8bda844fbd54",
   "metadata": {},
   "outputs": [],
   "source": [
    "old_props = regionprops_one_volume_one_channel(seg, red, ['intensity_image'], name_mode='neuron')\n",
    "new_props = regionprops_one_volume_one_channel(new_seg, red, ['intensity_image'], name_mode='neuron')"
   ]
  },
  {
   "cell_type": "code",
   "execution_count": 501,
   "id": "36eca6d8-4e71-4fe4-9152-afbe61463e69",
   "metadata": {},
   "outputs": [
    {
     "name": "stdout",
     "output_type": "stream",
     "text": [
      "Different values; neuron_005: old=64745 != new=36150\n",
      "Different values; neuron_008: old=40253 != new=37359\n",
      "Different values; neuron_026: old=20712 != new=37669\n",
      "Different values; neuron_031: old=52704 != new=50242\n",
      "Different values; neuron_039: old=34455 != new=60377\n",
      "Different values; neuron_043: old=39583 != new=48132\n",
      "Different values; neuron_044: old=18906 != new=62364\n",
      "Different values; neuron_046: old=54292 != new=64767\n",
      "Different values; neuron_050: old=23614 != new=40342\n",
      "Different values; neuron_059: old=19168 != new=31747\n",
      "Different values; neuron_064: old=15658 != new=26810\n",
      "Different values; neuron_065: old=30518 != new=48903\n",
      "Different values; neuron_066: old=18005 != new=48144\n",
      "('neuron_108', 'intensity_image') is missing in the old set of neurons\n",
      "Different values; neuron_109: old=19257 != new=16960\n",
      "Different values; neuron_110: old=16960 != new=21847\n",
      "Different values; neuron_111: old=21847 != new=13869\n",
      "Different values; neuron_112: old=13869 != new=20807\n",
      "Different values; neuron_113: old=20807 != new=14993\n",
      "Different values; neuron_114: old=14993 != new=17426\n",
      "Different values; neuron_115: old=17426 != new=7827\n",
      "Different values; neuron_116: old=7827 != new=16696\n",
      "Different values; neuron_117: old=16696 != new=21951\n",
      "Different values; neuron_118: old=21951 != new=9627\n",
      "Different values; neuron_119: old=9627 != new=13679\n",
      "Different values; neuron_120: old=13679 != new=10486\n",
      "('neuron_121', 'intensity_image') is missing in the old set of neurons\n",
      "Different values; neuron_122: old=10486 != new=11563\n",
      "('neuron_123', 'intensity_image') is missing in the old set of neurons\n",
      "Different values; neuron_124: old=12155 != new=10507\n",
      "Different values; neuron_125: old=11563 != new=11865\n",
      "Different values; neuron_126: old=15826 != new=7748\n",
      "Different values; neuron_127: old=10507 != new=75489\n",
      "Different values; neuron_128: old=13953 != new=37204\n",
      "Different values; neuron_129: old=7748 != new=27182\n"
     ]
    }
   ],
   "source": [
    "# Get differences\n",
    "for k, v in new_props.items():\n",
    "    v_old = old_props.get(k, None)\n",
    "    if v_old is None:\n",
    "        print(f\"{k} is missing in the old set of neurons\")\n",
    "    elif v_old == v:\n",
    "        pass\n",
    "    else:\n",
    "        print(f\"Different values; {k[0]}: old={v_old} != new={v}\")\n",
    "        "
   ]
  },
  {
   "cell_type": "markdown",
   "id": "a7b31819-c059-4ad4-beea-713ee7e6d604",
   "metadata": {},
   "source": [
    "# Use package lmfit for multi-gaussian fitting and AIC comparison\n",
    "\n",
    "https://lmfit.github.io/lmfit-py/builtin_models.html#example-1-fit-peak-data-to-gaussian-lorentzian-and-voigt-profiles"
   ]
  },
  {
   "cell_type": "code",
   "execution_count": 499,
   "id": "7083143e-5e19-4a9d-88e4-3b8cdabac784",
   "metadata": {},
   "outputs": [],
   "source": [
    "# First, rebuild the brightnesses as a function of z\n",
    "from segmentation.util.utils_postprocessing import get_neuron_lengths_dict, calc_brightness"
   ]
  },
  {
   "cell_type": "code",
   "execution_count": 505,
   "id": "b961eb11-6507-446b-b9e1-b7960b65ac41",
   "metadata": {},
   "outputs": [],
   "source": [
    "neuron_lengths = get_neuron_lengths_dict(seg)\n",
    "brightnesses, neuron_planes = calc_brightness(red, seg, neuron_lengths)"
   ]
  },
  {
   "cell_type": "code",
   "execution_count": 508,
   "id": "f87456f3-9287-41ac-9683-ab9511c10f29",
   "metadata": {},
   "outputs": [
    {
     "data": {
      "text/plain": [
       "<matplotlib.legend.Legend at 0x7fb76073b8d0>"
      ]
     },
     "execution_count": 508,
     "metadata": {},
     "output_type": "execute_result"
    },
    {
     "data": {
      "image/png": "[encoded data removed]",
      "text/plain": [
       "<Figure size 432x288 with 1 Axes>"
      ]
     },
     "metadata": {
      "needs_background": "light"
     },
     "output_type": "display_data"
    }
   ],
   "source": [
    "to_test = []\n",
    "for k, b in brightnesses.items():\n",
    "    if len(b) > 8:\n",
    "        plt.plot(b, label=f\"{k}\")\n",
    "        to_test.append(k)\n",
    "plt.legend()"
   ]
  },
  {
   "cell_type": "code",
   "execution_count": 509,
   "id": "b81f7c2e-caf6-41f0-b936-d90ff15a7261",
   "metadata": {},
   "outputs": [],
   "source": [
    "# # i = 50 # Should be 2\n",
    "# i = 71 # Should be 1\n",
    "\n",
    "# y = brightnesses[i]\n",
    "# x = neuron_planes[i]\n",
    "# plt.plot(x, y)"
   ]
  },
  {
   "cell_type": "code",
   "execution_count": 510,
   "id": "6d0ef8c8-5e6f-44f0-9e61-f22ee46bdebf",
   "metadata": {},
   "outputs": [],
   "source": [
    "from lmfit.models import GaussianModel, ConstantModel"
   ]
  },
  {
   "cell_type": "code",
   "execution_count": 511,
   "id": "0d12e2c5-f60e-438d-bca4-8731401e4d9e",
   "metadata": {},
   "outputs": [
    {
     "data": {
      "text/plain": [
       "48.90909090909091"
      ]
     },
     "execution_count": 511,
     "metadata": {},
     "output_type": "execute_result"
    }
   ],
   "source": [
    "np.mean(y)"
   ]
  },
  {
   "cell_type": "code",
   "execution_count": 528,
   "id": "bcbd8f3c-00e9-4a2e-85bd-264344fd94e7",
   "metadata": {},
   "outputs": [],
   "source": [
    "def aicc_correction(p, n):\n",
    "    return 2*p*(p+1) / (n-p-1)\n",
    "\n",
    "def compare_gaussian_fits(x, y):\n",
    "\n",
    "    min_separation = 2\n",
    "    # x, y = np.array(x), np.array(y)\n",
    "    x, y = np.arange(len(x)), np.array(y)\n",
    "    \n",
    "    background = 14\n",
    "    y -= background\n",
    "\n",
    "    # background = ConstantModel()\n",
    "    # pars = background.make_params()\n",
    "    # pars['c'].set(value=np.min(y), min=14)\n",
    "    # background = 14\n",
    "\n",
    "    gauss1 = GaussianModel(prefix='g1_')\n",
    "    pars = gauss1.make_params()\n",
    "    # pars.update(gauss1.make_params())\n",
    "\n",
    "    pars['g1_center'].set(value=len(y) / 4.0, min=0, max=len(y))\n",
    "    pars['g1_sigma'].set(value=2.0, min=1, max=3)\n",
    "    pars['g1_amplitude'].set(value=np.mean(y), min=0)\n",
    "\n",
    "    gauss2 = GaussianModel(prefix='g2_')\n",
    "    pars.update(gauss2.make_params())\n",
    "\n",
    "    pars['g2_center'].set(value=3 * len(y) / 4.0, min=0, max=len(y))\n",
    "    pars['g2_sigma'].set(value=2.0, min=1, max=3)\n",
    "    pars['g2_amplitude'].set(value=np.mean(y), min=0)\n",
    "\n",
    "    mod = gauss1 + gauss2# + background\n",
    "\n",
    "    init = mod.eval(pars, x=x)\n",
    "    out = mod.fit(y, pars, x=x)\n",
    "\n",
    "    # print(out.fit_report(min_correl=0.5))\n",
    "\n",
    "#     fig, axes = plt.subplots(1, 2, figsize=(12.8, 4.8))\n",
    "#     axes[0].plot(x, y)\n",
    "#     axes[0].plot(x, init, '--', label='initial fit')\n",
    "#     axes[0].plot(x, out.best_fit, '-', label='best fit')\n",
    "#     axes[0].legend()\n",
    "\n",
    "#     comps = out.eval_components(x=x)\n",
    "#     axes[1].plot(x, y)\n",
    "#     axes[1].plot(x, comps['g1_'], '--', label='Gaussian component 1')\n",
    "#     axes[1].plot(x, comps['g2_'], '--', label='Gaussian component 2')\n",
    "#     axes[1].legend()\n",
    "\n",
    "#     plt.show()\n",
    "\n",
    "    results_2gauss = out\n",
    "    \n",
    "\n",
    "    gauss1 = GaussianModel(prefix='g1_')\n",
    "    pars = gauss1.make_params()\n",
    "    # pars.update(gauss1.make_params())\n",
    "    pars['g1_center'].set(value=len(y) / 2.0, min=0, max=len(y))\n",
    "    pars['g1_sigma'].set(value=2.0, min=1, max=3)\n",
    "    pars['g1_amplitude'].set(value=np.mean(y), min=0)\n",
    "\n",
    "    mod = gauss1\n",
    "\n",
    "    init = mod.eval(pars, x=x)\n",
    "    out = mod.fit(y, pars, x=x)\n",
    "\n",
    "#     fig, axes = plt.subplots(1, 2, figsize=(12.8, 4.8))\n",
    "#     axes[0].plot(x, y)\n",
    "#     axes[0].plot(x, init, '--', label='initial fit')\n",
    "#     axes[0].plot(x, out.best_fit, '-', label='best fit')\n",
    "#     axes[0].legend()\n",
    "\n",
    "#     comps = out.eval_components(x=x)\n",
    "#     axes[1].plot(x, y)\n",
    "#     axes[1].plot(x, comps['g1_'], '--', label='Gaussian component 1')\n",
    "#     axes[1].legend()\n",
    "\n",
    "#     plt.show()\n",
    "\n",
    "    results_1gauss = out\n",
    "    \n",
    "    \n",
    "#     gauss1 = GaussianModel(prefix='g1_')\n",
    "#     pars = gauss1.make_params()\n",
    "#     # pars.update(gauss1.make_params())\n",
    "\n",
    "#     pars['g1_center'].set(value=len(y) / 4.0, min=0, max=len(y))\n",
    "#     pars['g1_sigma'].set(value=min_separation/2, min=1, max=3)\n",
    "#     pars['g1_amplitude'].set(value=np.mean(y), min=0)\n",
    "\n",
    "#     gauss2 = GaussianModel(prefix='g2_')\n",
    "#     pars.update(gauss2.make_params())\n",
    "\n",
    "#     pars['g2_center'].set(value=3 * len(y) / 4.0, min=0, max=len(y))\n",
    "#     pars['g2_sigma'].set(value=min_separation/2, min=1, max=3)\n",
    "#     pars['g2_amplitude'].set(value=np.mean(y), min=0)\n",
    "    \n",
    "#     gauss3 = GaussianModel(prefix='g3_')\n",
    "#     pars.update(gauss3.make_params())\n",
    "\n",
    "#     pars['g3_center'].set(value=3 * len(y) / 4.0, min=0, max=len(y))\n",
    "#     pars['g3_sigma'].set(value=min_separation/2, min=1, max=3)\n",
    "#     pars['g3_amplitude'].set(value=np.mean(y), min=0)\n",
    "\n",
    "#     mod = gauss1 + gauss2 + gauss3\n",
    "\n",
    "#     init = mod.eval(pars, x=x)\n",
    "#     out = mod.fit(y, pars, x=x)\n",
    "    \n",
    "#     fig, axes = plt.subplots(1, 2, figsize=(12.8, 4.8))\n",
    "#     axes[0].plot(x, y)\n",
    "#     axes[0].plot(x, init, '--', label='initial fit')\n",
    "#     axes[0].plot(x, out.best_fit, '-', label='best fit')\n",
    "#     axes[0].legend()\n",
    "\n",
    "#     comps = out.eval_components(x=x)\n",
    "#     axes[1].plot(x, y)\n",
    "#     axes[1].plot(x, comps['g1_'], '--', label='Gaussian component 1')\n",
    "#     axes[1].plot(x, comps['g2_'], '--', label='Gaussian component 2')\n",
    "#     axes[1].plot(x, comps['g3_'], '--', label='Gaussian component 3')\n",
    "#     axes[1].legend()\n",
    "\n",
    "#     plt.show()\n",
    "\n",
    "    results_3gauss = out\n",
    "    \n",
    "    return results_1gauss, results_2gauss, results_3gauss, axes\n",
    "\n",
    "\n",
    "from segmentation.util.utils_postprocessing import calc_split_point_from_gaussians\n",
    "def calc_split_point_from_gaussians2(result):\n",
    "    peak1 = result.values['g1_center']\n",
    "    peak2 = result.values['g2_center']\n",
    "    y = result.data\n",
    "    \n",
    "    split_point = calc_split_point_from_gaussians(result)\n",
    "    # split_point = calc_split_point_from_gaussians([int(np.floor(peak1)), int(np.ceil(peak2))], y)\n",
    "    return split_point"
   ]
  },
  {
   "cell_type": "code",
   "execution_count": 534,
   "id": "f02f263b-d434-400c-9191-53cdcd2ada14",
   "metadata": {},
   "outputs": [
    {
     "name": "stdout",
     "output_type": "stream",
     "text": [
      "===================================================\n",
      "Testing neuron 5\n",
      "===================================================\n",
      "===================================================\n",
      "TWO GAUSSIANS\n"
     ]
    },
    {
     "data": {
      "image/png": "[encoded data removed]",
      "text/plain": [
       "<Figure size 921.6x345.6 with 2 Axes>"
      ]
     },
     "metadata": {
      "needs_background": "light"
     },
     "output_type": "display_data"
    },
    {
     "name": "stdout",
     "output_type": "stream",
     "text": [
      "5\n",
      "===================================================\n"
     ]
    }
   ],
   "source": [
    "# to_test\n",
    "\n",
    "from segmentation.util.util_curve_fitting import plot_gaussians, get_best_model_using_aicc, calculate_multi_gaussian_fits\n",
    "\n",
    "for i in to_test:\n",
    "    print(\"===================================================\")\n",
    "    print(f\"Testing neuron {i}\")\n",
    "    print(\"===================================================\")\n",
    "    y = brightnesses[i]\n",
    "    x = neuron_planes[i]\n",
    "\n",
    "    # res1, res2, res3, axes = compare_gaussian_fits(x, y)\n",
    "    list_of_models = calculate_multi_gaussian_fits(y, background=14)\n",
    "    # list_of_models = [res1, res2]\n",
    "    i_best = get_best_model_using_aicc(list_of_models)\n",
    "    \n",
    "    # aic1, aic2, aic3 = res1.aic, res2.aic, res3.aic\n",
    "    # aicc1 = aic1 + aicc_correction(res1.nvarys, len(y))\n",
    "    # aicc2 = aic2 + aicc_correction(res2.nvarys, len(y))\n",
    "    # aicc3 = aic3 + aicc_correction(res3.nvarys, len(y))\n",
    "    \n",
    "    print(\"===================================================\")\n",
    "    if i_best == 0:\n",
    "        print(\"ONE GAUSSIAN\")\n",
    "        split = None\n",
    "    elif i_best == 1:\n",
    "        print(\"TWO GAUSSIANS\")\n",
    "        # Also plot split point, IF ANY\n",
    "        split = calc_split_point_from_gaussians(list_of_models[1])\n",
    "    else:\n",
    "        print(\"THREE GAUSSIANS\")\n",
    "\n",
    "    plot_gaussians(list_of_models[1], split)\n",
    "    # axes[1].plot([split, split], [0, np.max(y)])\n",
    "    print(split)\n",
    "    # if split is None:\n",
    "    #     break\n",
    "    # plt.show()\n",
    "    \n",
    "    # print(aic1, aic2, aic3)\n",
    "    # print(aicc1, aicc2, aicc3)\n",
    "    print(\"===================================================\")\n",
    "    break"
   ]
  },
  {
   "cell_type": "code",
   "execution_count": 535,
   "id": "e84f41a8-ca2e-4ff2-864d-455426199571",
   "metadata": {},
   "outputs": [],
   "source": [
    "# calc_split_point_from_gaussians(res2)"
   ]
  },
  {
   "cell_type": "code",
   "execution_count": null,
   "id": "b7b25893-a791-4285-abde-1f98dd713268",
   "metadata": {},
   "outputs": [],
   "source": []
  },
  {
   "cell_type": "code",
   "execution_count": 517,
   "id": "a464103d-f2a4-4139-9313-b2854f0d3874",
   "metadata": {},
   "outputs": [],
   "source": [
    "result = res2\n",
    "\n",
    "\n",
    "y = result.data\n",
    "x = np.arange(len(y))\n",
    "\n",
    "g1 = result.eval_components(x=np.array(x))['g1_']\n",
    "g2 = result.eval_components(x=np.array(x))['g2_']\n",
    "diff = np.array(np.abs(g1 - g2))\n",
    "\n",
    "peak1 = result.values['g1_center']\n",
    "peak2 = result.values['g2_center']\n",
    "if peak1 > peak2:\n",
    "    peak1, peak2 = peak2, peak1\n",
    "# print(peak1, peak2)\n",
    "peaks_of_gaussians = [int(np.floor(peak1)), int(np.ceil(peak2))]\n",
    "\n",
    "ind = peaks_of_gaussians[0] + np.array(range(0, peaks_of_gaussians[1] + 1))\n",
    "ind = np.clip(ind, 0, len(diff)-1)\n",
    "inter_peak_diff = np.array(diff[ind])"
   ]
  },
  {
   "cell_type": "code",
   "execution_count": 518,
   "id": "4aa7c3ea-fd79-4d3f-a8a7-7a516f9e2f66",
   "metadata": {},
   "outputs": [
    {
     "data": {
      "text/plain": [
       "[<matplotlib.lines.Line2D at 0x7fb692cafe50>]"
      ]
     },
     "execution_count": 518,
     "metadata": {},
     "output_type": "execute_result"
    },
    {
     "data": {
      "image/png": "[encoded data removed]",
      "text/plain": [
       "<Figure size 432x288 with 1 Axes>"
      ]
     },
     "metadata": {
      "needs_background": "light"
     },
     "output_type": "display_data"
    }
   ],
   "source": [
    "plt.plot(inter_peak_diff)"
   ]
  },
  {
   "cell_type": "code",
   "execution_count": 522,
   "id": "e0310601-9983-4122-b745-6f4e9f5189c2",
   "metadata": {},
   "outputs": [
    {
     "data": {
      "text/plain": [
       "(4.989228237998518, 8.999960333112343)"
      ]
     },
     "execution_count": 522,
     "metadata": {},
     "output_type": "execute_result"
    }
   ],
   "source": [
    "peak1, peak2"
   ]
  },
  {
   "cell_type": "code",
   "execution_count": 520,
   "id": "8fc9c389-8583-4d68-ad78-f7adbd65917b",
   "metadata": {},
   "outputs": [
    {
     "data": {
      "text/plain": [
       "(array([1]), {})"
      ]
     },
     "execution_count": 520,
     "metadata": {},
     "output_type": "execute_result"
    }
   ],
   "source": [
    "find_peaks(inter_peak_diff)"
   ]
  },
  {
   "cell_type": "code",
   "execution_count": 425,
   "id": "978744b4-e42a-494d-924a-642e44104d96",
   "metadata": {},
   "outputs": [
    {
     "data": {
      "text/plain": [
       "[<matplotlib.lines.Line2D at 0x7fb7026e0310>]"
      ]
     },
     "execution_count": 425,
     "metadata": {},
     "output_type": "execute_result"
    },
    {
     "data": {
      "image/png": "[encoded data removed]",
      "text/plain": [
       "<Figure size 432x288 with 1 Axes>"
      ]
     },
     "metadata": {
      "needs_background": "light"
     },
     "output_type": "display_data"
    }
   ],
   "source": [
    "g1 = res2.eval_components(x=np.array(x))['g1_']\n",
    "g2 = res2.eval_components(x=np.array(x))['g2_']\n",
    "diff = np.array(np.abs(g1 - g2))\n",
    "\n",
    "plt.plot(x, diff)\n",
    "plt.plot(x, g1)\n",
    "plt.plot(x, g2)"
   ]
  },
  {
   "cell_type": "code",
   "execution_count": 432,
   "id": "8a2d36ff-3aaa-49ac-a491-a67283fa60c9",
   "metadata": {},
   "outputs": [
    {
     "name": "stdout",
     "output_type": "stream",
     "text": [
      "0.5263479165951477 5.7526590168393295\n"
     ]
    }
   ],
   "source": [
    "\n",
    "peak1 = res2.values['g1_center'] - x[0]\n",
    "peak2 = res2.values['g2_center'] - x[0]\n",
    "print(peak1, peak2)\n",
    "peaks_of_gaussians = [int(np.floor(peak1)), int(np.ceil(peak2))]\n",
    "\n",
    "ind = peaks_of_gaussians[0] + np.array(range(0,peaks_of_gaussians[1]+1))\n",
    "inter_peak_diff = np.array(diff[ind])"
   ]
  },
  {
   "cell_type": "code",
   "execution_count": 536,
   "id": "61af28ac-b6b2-4faa-9e61-d3da8ae7efae",
   "metadata": {},
   "outputs": [],
   "source": [
    "# from scipy.signal._peak_finding import find_peaks\n",
    "# find_peaks(inter_peak_diff)[0][0]"
   ]
  },
  {
   "cell_type": "code",
   "execution_count": 537,
   "id": "0fa4be08-abab-4c5f-b2ba-4b1e8fadc5e7",
   "metadata": {},
   "outputs": [],
   "source": [
    "# res2.data"
   ]
  },
  {
   "cell_type": "markdown",
   "id": "663b362c-8757-4142-b242-79c1ee2856c8",
   "metadata": {},
   "source": [
    "# Debug package functions"
   ]
  },
  {
   "cell_type": "code",
   "execution_count": 599,
   "id": "c63199ea-9fd6-42a3-9401-897ea2cf4c8d",
   "metadata": {},
   "outputs": [],
   "source": [
    "project_path = \"/home/charles/dlc_stacks/students-worm4-LOCAL-resegment/project_config.yaml\"\n",
    "from DLC_for_WBFM.utils.projects.project_config_classes import ModularProjectConfig\n",
    "from segmentation.util.utils_config_files import _unpack_config_file\n",
    "from segmentation.util.utils_pipeline import *\n",
    "from segmentation.util.utils_pipeline import _only_postprocess2d\n",
    "from DLC_for_WBFM.utils.projects.utils_project import safe_cd\n",
    "\n",
    "project_cfg = ModularProjectConfig(project_path)"
   ]
  },
  {
   "cell_type": "code",
   "execution_count": 613,
   "id": "bac1767a-45e1-4fc6-9457-059f63ef3c3e",
   "metadata": {},
   "outputs": [],
   "source": [
    "segment_cfg = project_cfg.get_segmentation_config()\n",
    "continue_from_frame = None\n",
    "DEBUG=False"
   ]
  },
  {
   "cell_type": "code",
   "execution_count": 614,
   "id": "805c022a-9475-4622-9d7f-79ad465b06ef",
   "metadata": {},
   "outputs": [],
   "source": [
    "with safe_cd(project_cfg.project_dir):\n",
    "    frame_list, mask_fname, metadata_fname, num_frames, _, verbose, video_path, zero_out_borders, all_bounding_boxes = _unpack_config_file(\n",
    "        segment_cfg, project_cfg, DEBUG)\n",
    "\n",
    "    check_all_needed_data_for_step(project_cfg.self_path, 2)\n",
    "    masks_zarr = zarr.open(mask_fname)\n",
    "    old_masks = np.array(masks_zarr[:10])\n",
    "    masks_zarr = np.array(masks_zarr[:10])\n",
    "    \n",
    "    video_dat = zarr.open(video_path)\n",
    "\n",
    "    opt_postprocessing = segment_cfg.config['postprocessing_params']  # Unique to 2d\n",
    "    opt_postprocessing['already_stitched'] = True\n",
    "    opt = {'masks_zarr': masks_zarr, 'opt_postprocessing': opt_postprocessing,\n",
    "           'verbose': verbose,\n",
    "           'all_bounding_boxes': all_bounding_boxes}\n",
    "    if continue_from_frame is None:\n",
    "        # Note that this does NOT have a separate 'do first volume' function\n",
    "        continue_from_frame = 0"
   ]
  },
  {
   "cell_type": "code",
   "execution_count": 615,
   "id": "db178424-990b-4409-b288-c84e61dc0e03",
   "metadata": {},
   "outputs": [
    {
     "name": "stdout",
     "output_type": "stream",
     "text": [
      "(0, 0)\n",
      "Starting preprocessing with 148 neurons\n",
      "Note: not yet stitched in z\n",
      "Removing large areas in all planes\n",
      "After large area removal: 148\n",
      "After stitching: 148\n",
      "After splitting: 150\n",
      "After short neuron removal: 150\n",
      "After border removal: 151\n",
      "Postprocessing finished\n",
      "(1, 1)\n",
      "Starting preprocessing with 140 neurons\n",
      "Note: not yet stitched in z\n",
      "Removing large areas in all planes\n",
      "After large area removal: 140\n",
      "After stitching: 140\n",
      "After splitting: 140\n",
      "After short neuron removal: 140\n",
      "After border removal: 141\n",
      "Postprocessing finished\n",
      "(2, 2)\n",
      "Starting preprocessing with 139 neurons\n",
      "Note: not yet stitched in z\n",
      "Removing large areas in all planes\n",
      "After large area removal: 139\n",
      "After stitching: 139\n",
      "After splitting: 139\n",
      "After short neuron removal: 139\n",
      "After border removal: 140\n",
      "Postprocessing finished\n",
      "(3, 3)\n",
      "Starting preprocessing with 148 neurons\n",
      "Note: not yet stitched in z\n",
      "Removing large areas in all planes\n",
      "After large area removal: 148\n",
      "After stitching: 148\n",
      "After splitting: 148\n",
      "After short neuron removal: 148\n",
      "After border removal: 149\n",
      "Postprocessing finished\n",
      "(4, 4)\n",
      "Starting preprocessing with 150 neurons\n",
      "Note: not yet stitched in z\n",
      "Removing large areas in all planes\n",
      "After large area removal: 150\n",
      "After stitching: 150\n",
      "After splitting: 150\n",
      "After short neuron removal: 150\n",
      "After border removal: 151\n",
      "Postprocessing finished\n"
     ]
    }
   ],
   "source": [
    "opt['verbose'] = 2\n",
    "\n",
    "for i_both in enumerate(frame_list[continue_from_frame:]):\n",
    "    i_out, i_vol = i_both\n",
    "    print(i_both)\n",
    "    _only_postprocess2d(i_out + continue_from_frame, i_vol, video_dat=video_dat, **opt)"
   ]
  },
  {
   "cell_type": "code",
   "execution_count": 610,
   "id": "f90e843c-d565-4ae3-969a-0c66e4f0ecbc",
   "metadata": {},
   "outputs": [],
   "source": [
    "frame_list = list(range(10))\n",
    "continue_from_frame = 0"
   ]
  },
  {
   "cell_type": "code",
   "execution_count": 619,
   "id": "17c665ff-180f-42ea-8fbd-af460362ef14",
   "metadata": {},
   "outputs": [],
   "source": [
    "all_bounding_boxes"
   ]
  },
  {
   "cell_type": "code",
   "execution_count": 616,
   "id": "c7e4f3d8-4944-469c-a724-ae726a6fd43a",
   "metadata": {},
   "outputs": [
    {
     "name": "stderr",
     "output_type": "stream",
     "text": [
      "/home/charles/anaconda3/envs/torch/lib/python3.7/site-packages/napari/plugins/_plugin_manager.py:511: UserWarning: Plugin 'napari-animated-gif-io' has already registered a function widget 'save as animated gif' which has now been overwritten\n",
      "  warn(message=warn_message)\n"
     ]
    },
    {
     "data": {
      "text/plain": [
       "<Labels layer 'old_masks' at 0x7fb7d081d210>"
      ]
     },
     "execution_count": 616,
     "metadata": {},
     "output_type": "execute_result"
    }
   ],
   "source": [
    "v = napari.view_labels(masks_zarr[:10])\n",
    "v.add_labels(old_masks)"
   ]
  },
  {
   "cell_type": "code",
   "execution_count": 603,
   "id": "46875fd9-3cde-4c60-8feb-8e790dd31f0d",
   "metadata": {},
   "outputs": [
    {
     "data": {
      "text/plain": [
       "array([-1], dtype=int32)"
      ]
     },
     "execution_count": 603,
     "metadata": {},
     "output_type": "execute_result"
    }
   ],
   "source": [
    "i = 0\n",
    "\n",
    "np.unique(np.where(np.abs(masks_zarr[i] - old_masks[i]) > 0, old_masks[i], -1))"
   ]
  },
  {
   "cell_type": "code",
   "execution_count": 604,
   "id": "c6ea64ac-9790-435c-ba3b-4666631a3a4b",
   "metadata": {},
   "outputs": [
    {
     "data": {
      "text/plain": [
       "array([-1, 13], dtype=int32)"
      ]
     },
     "execution_count": 604,
     "metadata": {},
     "output_type": "execute_result"
    }
   ],
   "source": [
    "np.unique(np.where(old_masks[i]==13, masks_zarr[i], -1))"
   ]
  },
  {
   "cell_type": "code",
   "execution_count": 633,
   "id": "7263e70a-ffb5-4c5c-9c14-1c3287d29e46",
   "metadata": {},
   "outputs": [
    {
     "ename": "NameError",
     "evalue": "name 'df_sparse' is not defined",
     "output_type": "error",
     "traceback": [
      "\u001b[0;31m---------------------------------------------------------------------------\u001b[0m",
      "\u001b[0;31mNameError\u001b[0m                                 Traceback (most recent call last)",
      "\u001b[0;32m/tmp/ipykernel_55185/3004369383.py\u001b[0m in \u001b[0;36m<module>\u001b[0;34m\u001b[0m\n\u001b[0;32m----> 1\u001b[0;31m \u001b[0mdf_sparse\u001b[0m\u001b[0;34m[\u001b[0m\u001b[0;34m'tracklet_0000001'\u001b[0m\u001b[0;34m]\u001b[0m\u001b[0;34m[\u001b[0m\u001b[0;34m'raw_segmentation_id'\u001b[0m\u001b[0;34m]\u001b[0m\u001b[0;34m[\u001b[0m\u001b[0;36m0\u001b[0m\u001b[0;34m]\u001b[0m\u001b[0;34m\u001b[0m\u001b[0;34m\u001b[0m\u001b[0m\n\u001b[0m",
      "\u001b[0;31mNameError\u001b[0m: name 'df_sparse' is not defined"
     ]
    }
   ],
   "source": []
  },
  {
   "cell_type": "markdown",
   "id": "27b7eef0-47c9-4909-b888-c4cc0d06173e",
   "metadata": {},
   "source": [
    "# View results from function"
   ]
  },
  {
   "cell_type": "code",
   "execution_count": 629,
   "id": "ec6a002f-69b9-4404-bd41-403043416841",
   "metadata": {},
   "outputs": [
    {
     "name": "stderr",
     "output_type": "stream",
     "text": [
      "/home/charles/anaconda3/envs/torch/lib/python3.7/site-packages/napari/plugins/_plugin_manager.py:511: UserWarning: Plugin 'napari-animated-gif-io' has already registered a function widget 'save as animated gif' which has now been overwritten\n",
      "  warn(message=warn_message)\n"
     ]
    }
   ],
   "source": [
    "fname = '/home/charles/dlc_stacks/students-worm4-LOCAL-resegment/1-segmentation/masks.zarr'\n",
    "z = zarr.open(fname)\n",
    "v = napari.view_labels(z)\n",
    "\n",
    "fname = '/home/charles/dlc_stacks/students-worm4-LOCAL-resegment/1-segmentation/masks-backup.zarr'\n",
    "z2 = zarr.open(fname)\n",
    "v = v.add_labels(z2)"
   ]
  },
  {
   "cell_type": "code",
   "execution_count": 627,
   "id": "23bdd12f-1b95-40e1-b2ca-15ce726c3aac",
   "metadata": {},
   "outputs": [
    {
     "data": {
      "text/plain": [
       "(23, 650, 900)"
      ]
     },
     "execution_count": 627,
     "metadata": {},
     "output_type": "execute_result"
    }
   ],
   "source": [
    "np.array(z2[0, ...]).shape"
   ]
  },
  {
   "cell_type": "code",
   "execution_count": null,
   "id": "79900b5f-fefb-4f8e-8685-5b86f799306a",
   "metadata": {},
   "outputs": [],
   "source": []
  },
  {
   "cell_type": "code",
   "execution_count": null,
   "id": "897edd73-a811-4439-9daa-a23af633237d",
   "metadata": {},
   "outputs": [],
   "source": []
  },
  {
   "cell_type": "code",
   "execution_count": null,
   "id": "19785cb7-6614-40b9-a257-d8253af1432d",
   "metadata": {},
   "outputs": [],
   "source": []
  },
  {
   "cell_type": "code",
   "execution_count": null,
   "id": "ae15bdfc-494d-45b6-87e5-26362c8891e6",
   "metadata": {},
   "outputs": [],
   "source": []
  },
  {
   "cell_type": "code",
   "execution_count": null,
   "id": "fe57a094-dc95-4b3f-a36e-66c00704e691",
   "metadata": {},
   "outputs": [],
   "source": []
  },
  {
   "cell_type": "code",
   "execution_count": 183,
   "id": "be0bf029-1f18-4395-8161-663bd32962a5",
   "metadata": {},
   "outputs": [],
   "source": [
    "from sklearn.model_selection import cross_val_score, cross_validate"
   ]
  },
  {
   "cell_type": "code",
   "execution_count": 185,
   "id": "21ad2d29-8901-4ed4-b26f-21d251b0f6d0",
   "metadata": {},
   "outputs": [],
   "source": [
    "# def residual_score(model, x, y):\n",
    "#     return np.linalg.norm(model.eval(x=x) - y)\n",
    "\n",
    "# scores = cross_validate(mod, x, y, cv=5, scoring=residual_score)\n",
    "# print(\"%0.2f accuracy with a standard deviation of %0.2f\" % (scores.mean(), scores.std()))"
   ]
  },
  {
   "cell_type": "code",
   "execution_count": 181,
   "id": "cb64097d-8f77-4433-aa4c-96dcf03ad9f5",
   "metadata": {},
   "outputs": [
    {
     "data": {
      "text/plain": [
       "array([-17.20211544, -17.51605855, -20.89201807, -24.9911363 ,\n",
       "       -32.99973234, -36.99999703, -37.99999999, -35.        ,\n",
       "       -28.        , -22.        , -19.        ])"
      ]
     },
     "execution_count": 181,
     "metadata": {},
     "output_type": "execute_result"
    }
   ],
   "source": [
    "mod.eval(x=x) - y"
   ]
  },
  {
   "cell_type": "code",
   "execution_count": 217,
   "id": "c665e9b8-efe5-4ae1-a52d-155f096b24e5",
   "metadata": {},
   "outputs": [],
   "source": [
    "from sklearn import mixture\n",
    "from sklearn.preprocessing import StandardScaler\n"
   ]
  },
  {
   "cell_type": "code",
   "execution_count": 235,
   "id": "a1be43a3-2bab-4b1f-b83a-9a239e4495d4",
   "metadata": {},
   "outputs": [
    {
     "data": {
      "text/plain": [
       "36.012438276105044"
      ]
     },
     "execution_count": 235,
     "metadata": {},
     "output_type": "execute_result"
    }
   ],
   "source": [
    "x2 = x.reshape(-1,1)\n",
    "scaler = StandardScaler()\n",
    "y2 = scaler.fit_transform(y.reshape(-1,1))\n",
    "y2 -= np.min(y2)\n",
    "\n",
    "gmm1 = mixture.GaussianMixture(\n",
    "    n_components=1, means_init=np.array([[len(y)/2.0]]).T, covariance_type='diag'\n",
    ")\n",
    "gmm1.fit(y2)\n",
    "gmm1.bic(y2)"
   ]
  },
  {
   "cell_type": "code",
   "execution_count": 236,
   "id": "1dbbf197-6109-48d3-be5f-b2eb42da4cfc",
   "metadata": {},
   "outputs": [
    {
     "data": {
      "text/plain": [
       "43.20612388656385"
      ]
     },
     "execution_count": 236,
     "metadata": {},
     "output_type": "execute_result"
    }
   ],
   "source": [
    "gmm2 = mixture.GaussianMixture(\n",
    "    n_components=2, means_init=np.array([[len(y)/4.0, 3*len(y)/4.0]]).T, covariance_type='diag'\n",
    ")\n",
    "gmm2.fit(y2)\n",
    "gmm2.bic(y2)"
   ]
  },
  {
   "cell_type": "code",
   "execution_count": 237,
   "id": "f7f247d9-dbbf-4c37-ace2-201cec00f30b",
   "metadata": {},
   "outputs": [
    {
     "data": {
      "text/plain": [
       "<matplotlib.legend.Legend at 0x7fb7033f5810>"
      ]
     },
     "execution_count": 237,
     "metadata": {},
     "output_type": "execute_result"
    },
    {
     "data": {
      "image/png": "[encoded data removed]",
      "text/plain": [
       "<Figure size 432x288 with 1 Axes>"
      ]
     },
     "metadata": {
      "needs_background": "light"
     },
     "output_type": "display_data"
    }
   ],
   "source": [
    "x2 = x.reshape(-1,1)\n",
    "\n",
    "plt.plot(x2, y2, label=\"data\")\n",
    "plt.plot(gmm2.predict(x2), label=\"Fit (2)\")\n",
    "plt.plot(gmm1.predict(x2), label=\"Fit (1)\")\n",
    "plt.legend()"
   ]
  },
  {
   "cell_type": "code",
   "execution_count": null,
   "id": "732957c7-3172-4a75-bcd7-d8eb2549e38e",
   "metadata": {},
   "outputs": [],
   "source": []
  }
 ],
 "metadata": {
  "kernelspec": {
   "display_name": "Python 3 (ipykernel)",
   "language": "python",
   "name": "python3"
  },
  "language_info": {
   "codemirror_mode": {
    "name": "ipython",
    "version": 3
   },
   "file_extension": ".py",
   "mimetype": "text/x-python",
   "name": "python",
   "nbconvert_exporter": "python",
   "pygments_lexer": "ipython3",
   "version": "3.7.11"
  }
 },
 "nbformat": 4,
 "nbformat_minor": 5
}
