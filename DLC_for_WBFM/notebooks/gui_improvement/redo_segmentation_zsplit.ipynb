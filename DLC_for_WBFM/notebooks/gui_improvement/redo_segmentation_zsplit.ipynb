{
 "cells": [
  {
   "cell_type": "code",
   "execution_count": 12,
   "id": "26cb16aa-203e-453a-9e20-89b53a6e881f",
   "metadata": {},
   "outputs": [
    {
     "name": "stdout",
     "output_type": "stream",
     "text": [
      "The autoreload extension is already loaded. To reload it, use:\n",
      "  %reload_ext autoreload\n"
     ]
    }
   ],
   "source": [
    "%load_ext autoreload\n",
    "%autoreload 2\n",
    "import matplotlib.pyplot as plt\n",
    "from DLC_for_WBFM.utils.projects.finished_project_data import ProjectData\n",
    "import napari\n",
    "import pandas as pd\n",
    "import numpy as np\n",
    "from DLC_for_WBFM.utils.general.postprocessing.utils_metadata import regionprops_one_volume_one_channel"
   ]
  },
  {
   "cell_type": "code",
   "execution_count": 5,
   "id": "528fa81a-8299-46e7-a81e-da7dea0c7c79",
   "metadata": {},
   "outputs": [],
   "source": [
    "from segmentation.util.utils_pipeline import perform_post_processing_2d"
   ]
  },
  {
   "cell_type": "code",
   "execution_count": 2,
   "id": "9601b24e-0792-46aa-86a2-63db2b5a6b9b",
   "metadata": {},
   "outputs": [
    {
     "name": "stdout",
     "output_type": "stream",
     "text": [
      "=======================================\n",
      "Project data for directory:\n",
      "/home/charles/dlc_stacks/students-worm4-LOCAL \n",
      "Found the following data files:\n",
      "============Raw========================\n",
      "red_data:                 True\n",
      "green_data:               True\n",
      "============Annotations================\n",
      "behavior_annotations:     True\n",
      "============Training================\n",
      "df_training_tracklets:    True\n",
      "============Segmentation===============\n",
      "raw_segmentation:         True\n",
      "colored_segmentation:     True\n",
      "============Traces=====================\n",
      "red_traces:               True\n",
      "green_traces:             True\n",
      "\n"
     ]
    }
   ],
   "source": [
    "# fname = \"/scratch/zimmer/Charles/dlc_stacks/project_pytest/project_config.yaml\"\n",
    "fname = \"/home/charles/dlc_stacks/students-worm4-LOCAL/project_config.yaml\"\n",
    "\n",
    "project_data = ProjectData.load_final_project_data_from_config(fname, to_load_tracklets=True, to_load_segmentation_metadata=True)"
   ]
  },
  {
   "cell_type": "markdown",
   "id": "b57fb082-5b90-4a28-b601-c013e6122d00",
   "metadata": {},
   "source": [
    "# Try to automatically resegment using a hierarchy of methods:\n",
    "\n",
    "1. Initially, just gaussian fitting (already tried)\n",
    "2. If that fails, use centroid motion?\n",
    "3. If that fails, use inner-product \n",
    "\n",
    "Also, try to split triple-squished neurons"
   ]
  },
  {
   "cell_type": "markdown",
   "id": "8db02b9e-9621-4d74-986d-f10ed675ae39",
   "metadata": {},
   "source": [
    "## First, reproduce the segmentation from the used settings\n"
   ]
  },
  {
   "cell_type": "code",
   "execution_count": 46,
   "id": "1a556d74-c75f-47ce-9a6a-9c6403481829",
   "metadata": {},
   "outputs": [],
   "source": [
    "ind = 53\n",
    "t = 0\n",
    "seg = project_data.raw_segmentation[t, ...]\n",
    "red = project_data.red_data[t, ...]"
   ]
  },
  {
   "cell_type": "code",
   "execution_count": 47,
   "id": "fdf5a215-376b-4cbc-8d8d-b990c1fa63f5",
   "metadata": {},
   "outputs": [],
   "source": [
    "seg_cfg = project_data.project_config.get_segmentation_config()\n",
    "opt = seg_cfg.config['postprocessing_params']"
   ]
  },
  {
   "cell_type": "code",
   "execution_count": 48,
   "id": "c4f71a62-4e24-44b2-9551-c623f25d547a",
   "metadata": {},
   "outputs": [
    {
     "data": {
      "application/vnd.jupyter.widget-view+json": {
       "model_id": "e4d338035ff84467b63400cb7767b4a2",
       "version_major": 2,
       "version_minor": 0
      },
      "text/plain": [
       "  0%|          | 0/749 [00:00<?, ?it/s]"
      ]
     },
     "metadata": {},
     "output_type": "display_data"
    },
    {
     "name": "stderr",
     "output_type": "stream",
     "text": [
      "/home/charles/anaconda3/envs/torch/lib/python3.7/site-packages/scipy/optimize/minpack.py:834: OptimizeWarning: Covariance of the parameters could not be estimated\n",
      "  category=OptimizeWarning)\n"
     ]
    }
   ],
   "source": [
    "new_seg = perform_post_processing_2d(seg, red, **opt)"
   ]
  },
  {
   "cell_type": "code",
   "execution_count": 10,
   "id": "ab41fb62-60e2-45af-987e-f920466d3879",
   "metadata": {},
   "outputs": [
    {
     "name": "stderr",
     "output_type": "stream",
     "text": [
      "/home/charles/anaconda3/envs/torch/lib/python3.7/site-packages/napari/plugins/_plugin_manager.py:511: UserWarning: Plugin 'napari-animated-gif-io' has already registered a function widget 'save as animated gif' which has now been overwritten\n",
      "  warn(message=warn_message)\n"
     ]
    },
    {
     "data": {
      "text/plain": [
       "<Image layer 'red' at 0x7fb85f57f850>"
      ]
     },
     "execution_count": 10,
     "metadata": {},
     "output_type": "execute_result"
    }
   ],
   "source": [
    "v = napari.view_labels(seg, ndisplay=3)\n",
    "v.add_labels(new_seg, rendering='translucent')\n",
    "v.add_image(red, colormap='PiYG')"
   ]
  },
  {
   "cell_type": "code",
   "execution_count": 49,
   "id": "4a0e1eac-9049-4770-aefb-56635e14d543",
   "metadata": {},
   "outputs": [],
   "source": [
    "old_props = regionprops_one_volume_one_channel(seg, red, ['intensity_image'], name_mode='neuron')\n",
    "new_props = regionprops_one_volume_one_channel(new_seg, red, ['intensity_image'], name_mode='neuron')"
   ]
  },
  {
   "cell_type": "code",
   "execution_count": 51,
   "id": "78495a1e-f926-4ab5-b475-82dd55b225db",
   "metadata": {},
   "outputs": [
    {
     "name": "stdout",
     "output_type": "stream",
     "text": [
      "Different values for neuron_022: 48640 != 32011\n",
      "Different values for neuron_127: 17597 != 15158\n",
      "Different values for neuron_129: 15007 != 12926\n"
     ]
    }
   ],
   "source": [
    "# Get differences (should only be due to gaussian splitting initialization)\n",
    "for k, v in new_props.items():\n",
    "    v_old = old_props.get(k, None)\n",
    "    if v_old is None:\n",
    "        print(f\"{k} is missing in the old set of neurons\")\n",
    "    elif v_old == v:\n",
    "        pass\n",
    "    else:\n",
    "        print(f\"Different values for {k[0]}: {v_old} != {v}\")\n",
    "        "
   ]
  },
  {
   "cell_type": "markdown",
   "id": "3987d7fe-1c87-4cbe-b6ef-fe817a227a81",
   "metadata": {},
   "source": [
    "## Second, change the settings to fix known errors"
   ]
  },
  {
   "cell_type": "code",
   "execution_count": 282,
   "id": "a4fef477-283c-4142-8523-529669f8fa5d",
   "metadata": {},
   "outputs": [],
   "source": [
    "# ind = 53\n",
    "# t = 0\n",
    "ind = 31\n",
    "t = 68\n",
    "seg = project_data.raw_segmentation[t, ...]\n",
    "red = project_data.red_data[t, ...]"
   ]
  },
  {
   "cell_type": "code",
   "execution_count": 283,
   "id": "f4029e5c-c2dd-4c96-aa90-3c81343be300",
   "metadata": {},
   "outputs": [],
   "source": [
    "seg_cfg = project_data.project_config.get_segmentation_config()\n",
    "opt = seg_cfg.config['postprocessing_params']\n",
    "\n",
    "opt['min_separation'] = 20 # Force failure of splits"
   ]
  },
  {
   "cell_type": "code",
   "execution_count": 284,
   "id": "1d95bec8-f88e-440e-b02e-3641adef0e1d",
   "metadata": {},
   "outputs": [
    {
     "data": {
      "application/vnd.jupyter.widget-view+json": {
       "model_id": "84780dca327b411b97ce7d573c5ebb7c",
       "version_major": 2,
       "version_minor": 0
      },
      "text/plain": [
       "  0%|          | 0/783 [00:00<?, ?it/s]"
      ]
     },
     "metadata": {},
     "output_type": "display_data"
    },
    {
     "name": "stderr",
     "output_type": "stream",
     "text": [
      "/home/charles/anaconda3/envs/torch/lib/python3.7/site-packages/scipy/optimize/minpack.py:834: OptimizeWarning: Covariance of the parameters could not be estimated\n",
      "  return popt, pcov\n"
     ]
    }
   ],
   "source": [
    "new_seg = perform_post_processing_2d(seg, red, **opt)"
   ]
  },
  {
   "cell_type": "code",
   "execution_count": 281,
   "id": "7d75b821-3172-4ac3-ac0e-41edbd054821",
   "metadata": {},
   "outputs": [
    {
     "name": "stderr",
     "output_type": "stream",
     "text": [
      "/home/charles/anaconda3/envs/torch/lib/python3.7/site-packages/napari/plugins/_plugin_manager.py:511: UserWarning: Plugin 'napari-animated-gif-io' has already registered a function widget 'save as animated gif' which has now been overwritten\n",
      "  warn(message=warn_message)\n"
     ]
    },
    {
     "data": {
      "text/plain": [
       "<Image layer 'red' at 0x7fb6df067c90>"
      ]
     },
     "execution_count": 281,
     "metadata": {},
     "output_type": "execute_result"
    },
    {
     "name": "stderr",
     "output_type": "stream",
     "text": [
      "/home/charles/anaconda3/envs/torch/lib/python3.7/site-packages/napari/layers/labels/labels.py:917: UserWarning: Contours are not displayed during 3D rendering\n",
      "  deferred=True,\n",
      "/home/charles/anaconda3/envs/torch/lib/python3.7/site-packages/napari/layers/labels/labels.py:917: UserWarning: Contours are not displayed during 3D rendering\n",
      "  deferred=True,\n"
     ]
    }
   ],
   "source": [
    "v = napari.view_labels(seg, ndisplay=3)\n",
    "v.add_labels(new_seg, rendering='translucent')\n",
    "v.add_image(red, colormap='PiYG')"
   ]
  },
  {
   "cell_type": "code",
   "execution_count": 55,
   "id": "77be1ce3-fc0e-4ec1-8ffd-8bda844fbd54",
   "metadata": {},
   "outputs": [],
   "source": [
    "old_props = regionprops_one_volume_one_channel(seg, red, ['intensity_image'], name_mode='neuron')\n",
    "new_props = regionprops_one_volume_one_channel(new_seg, red, ['intensity_image'], name_mode='neuron')"
   ]
  },
  {
   "cell_type": "code",
   "execution_count": 57,
   "id": "36eca6d8-4e71-4fe4-9152-afbe61463e69",
   "metadata": {},
   "outputs": [
    {
     "name": "stdout",
     "output_type": "stream",
     "text": [
      "Different values; neuron_008: old=26236 != new=72260\n",
      "Different values; neuron_009: old=36673 != new=70867\n",
      "Different values; neuron_016: old=34233 != new=56164\n",
      "Different values; neuron_023: old=20810 != new=37129\n",
      "Different values; neuron_031: old=30233 != new=49506\n",
      "Different values; neuron_032: old=28817 != new=54161\n",
      "Different values; neuron_037: old=30257 != new=55720\n",
      "Different values; neuron_039: old=58193 != new=88195\n",
      "Different values; neuron_045: old=33271 != new=85027\n",
      "Different values; neuron_049: old=19589 != new=55667\n",
      "Different values; neuron_050: old=26422 != new=42260\n",
      "Different values; neuron_052: old=17748 != new=28802\n",
      "Different values; neuron_058: old=21270 != new=33655\n",
      "Different values; neuron_060: old=30219 != new=45450\n",
      "Different values; neuron_063: old=13823 != new=26513\n",
      "Different values; neuron_068: old=31294 != new=76457\n",
      "Different values; neuron_085: old=13637 != new=23405\n",
      "Different values; neuron_127: old=17597 != new=15158\n",
      "Different values; neuron_129: old=15007 != new=12926\n"
     ]
    }
   ],
   "source": [
    "# Get differences\n",
    "for k, v in new_props.items():\n",
    "    v_old = old_props.get(k, None)\n",
    "    if v_old is None:\n",
    "        print(f\"{k} is missing in the old set of neurons\")\n",
    "    elif v_old == v:\n",
    "        pass\n",
    "    else:\n",
    "        print(f\"Different values; {k[0]}: old={v_old} != new={v}\")\n",
    "        "
   ]
  },
  {
   "cell_type": "markdown",
   "id": "a7b31819-c059-4ad4-beea-713ee7e6d604",
   "metadata": {},
   "source": [
    "# Use package lmfit for multi-gaussian fitting and AIC comparison\n",
    "\n",
    "https://lmfit.github.io/lmfit-py/builtin_models.html#example-1-fit-peak-data-to-gaussian-lorentzian-and-voigt-profiles"
   ]
  },
  {
   "cell_type": "code",
   "execution_count": 285,
   "id": "7083143e-5e19-4a9d-88e4-3b8cdabac784",
   "metadata": {},
   "outputs": [],
   "source": [
    "# First, rebuild the brightnesses as a function of z\n",
    "from segmentation.util.utils_postprocessing import get_neuron_lengths_dict, calc_brightness"
   ]
  },
  {
   "cell_type": "code",
   "execution_count": 286,
   "id": "b961eb11-6507-446b-b9e1-b7960b65ac41",
   "metadata": {},
   "outputs": [],
   "source": [
    "neuron_lengths = get_neuron_lengths_dict(new_seg)\n",
    "brightnesses, neuron_planes = calc_brightness(red, new_seg, neuron_lengths)"
   ]
  },
  {
   "cell_type": "code",
   "execution_count": 288,
   "id": "f87456f3-9287-41ac-9683-ab9511c10f29",
   "metadata": {},
   "outputs": [
    {
     "data": {
      "text/plain": [
       "<matplotlib.legend.Legend at 0x7fb702fa6c90>"
      ]
     },
     "execution_count": 288,
     "metadata": {},
     "output_type": "execute_result"
    },
    {
     "data": {
      "image/png": "[encoded data removed]",
      "text/plain": [
       "<Figure size 432x288 with 1 Axes>"
      ]
     },
     "metadata": {
      "needs_background": "light"
     },
     "output_type": "display_data"
    }
   ],
   "source": [
    "to_test = []\n",
    "for k, b in brightnesses.items():\n",
    "    if len(b) > 10:\n",
    "        plt.plot(b, label=f\"{k}\")\n",
    "        to_test.append(k)\n",
    "plt.legend()"
   ]
  },
  {
   "cell_type": "code",
   "execution_count": 290,
   "id": "b81f7c2e-caf6-41f0-b936-d90ff15a7261",
   "metadata": {},
   "outputs": [],
   "source": [
    "# # i = 50 # Should be 2\n",
    "# i = 71 # Should be 1\n",
    "\n",
    "# y = brightnesses[i]\n",
    "# x = neuron_planes[i]\n",
    "# plt.plot(x, y)"
   ]
  },
  {
   "cell_type": "code",
   "execution_count": 291,
   "id": "6d0ef8c8-5e6f-44f0-9e61-f22ee46bdebf",
   "metadata": {},
   "outputs": [],
   "source": [
    "from lmfit.models import GaussianModel, ConstantModel"
   ]
  },
  {
   "cell_type": "code",
   "execution_count": 292,
   "id": "0d12e2c5-f60e-438d-bca4-8731401e4d9e",
   "metadata": {},
   "outputs": [
    {
     "data": {
      "text/plain": [
       "24.833333333333332"
      ]
     },
     "execution_count": 292,
     "metadata": {},
     "output_type": "execute_result"
    }
   ],
   "source": [
    "np.mean(y)"
   ]
  },
  {
   "cell_type": "code",
   "execution_count": 314,
   "id": "bcbd8f3c-00e9-4a2e-85bd-264344fd94e7",
   "metadata": {},
   "outputs": [],
   "source": [
    "def aicc_correction(p, n):\n",
    "    return 2*p*(p+1) / (n-p-1)\n",
    "\n",
    "def compare_gaussian_fits(x, y):\n",
    "\n",
    "    min_separation = 4\n",
    "    # x, y = np.array(x), np.array(y)\n",
    "    x, y = np.arange(len(x)), np.array(y)\n",
    "    \n",
    "    background = 14\n",
    "    y -= background\n",
    "\n",
    "    # background = ConstantModel()\n",
    "    # pars = background.make_params()\n",
    "    # pars['c'].set(value=np.min(y), min=14)\n",
    "    # background = 14\n",
    "\n",
    "    gauss1 = GaussianModel(prefix='g1_')\n",
    "    pars = gauss1.make_params()\n",
    "    # pars.update(gauss1.make_params())\n",
    "\n",
    "    pars['g1_center'].set(value=len(y) / 4.0, min=0, max=len(y))\n",
    "    pars['g1_sigma'].set(value=min_separation/2, min=1, max=3)\n",
    "    pars['g1_amplitude'].set(value=np.mean(y), min=0)\n",
    "\n",
    "    gauss2 = GaussianModel(prefix='g2_')\n",
    "    pars.update(gauss2.make_params())\n",
    "\n",
    "    pars['g2_center'].set(value=3 * len(y) / 4.0, min=0, max=len(y))\n",
    "    pars['g2_sigma'].set(value=min_separation/2, min=1, max=3)\n",
    "    pars['g2_amplitude'].set(value=np.mean(y), min=0)\n",
    "\n",
    "    mod = gauss1 + gauss2# + background\n",
    "\n",
    "    init = mod.eval(pars, x=x)\n",
    "    out = mod.fit(y, pars, x=x)\n",
    "\n",
    "    # print(out.fit_report(min_correl=0.5))\n",
    "\n",
    "    fig, axes = plt.subplots(1, 2, figsize=(12.8, 4.8))\n",
    "    axes[0].plot(x, y)\n",
    "    axes[0].plot(x, init, '--', label='initial fit')\n",
    "    axes[0].plot(x, out.best_fit, '-', label='best fit')\n",
    "    axes[0].legend()\n",
    "\n",
    "    comps = out.eval_components(x=x)\n",
    "    axes[1].plot(x, y)\n",
    "    axes[1].plot(x, comps['g1_'], '--', label='Gaussian component 1')\n",
    "    axes[1].plot(x, comps['g2_'], '--', label='Gaussian component 2')\n",
    "    axes[1].legend()\n",
    "\n",
    "    plt.show()\n",
    "\n",
    "    results_2gauss = out\n",
    "    \n",
    "\n",
    "    gauss1 = GaussianModel(prefix='g1_')\n",
    "    pars = gauss1.make_params()\n",
    "    # pars.update(gauss1.make_params())\n",
    "    pars['g1_center'].set(value=len(y) / 2.0, min=0, max=len(y))\n",
    "    pars['g1_sigma'].set(value=min_separation/2, min=1, max=3)\n",
    "    pars['g1_amplitude'].set(value=np.mean(y), min=0)\n",
    "\n",
    "    mod = gauss1\n",
    "\n",
    "#     init = mod.eval(pars, x=x)\n",
    "#     out = mod.fit(y, pars, x=x)\n",
    "\n",
    "#     fig, axes = plt.subplots(1, 2, figsize=(12.8, 4.8))\n",
    "#     axes[0].plot(x, y)\n",
    "#     axes[0].plot(x, init, '--', label='initial fit')\n",
    "#     axes[0].plot(x, out.best_fit, '-', label='best fit')\n",
    "#     axes[0].legend()\n",
    "\n",
    "#     comps = out.eval_components(x=x)\n",
    "#     axes[1].plot(x, y)\n",
    "#     axes[1].plot(x, comps['g1_'], '--', label='Gaussian component 1')\n",
    "#     axes[1].legend()\n",
    "\n",
    "#     plt.show()\n",
    "\n",
    "    results_1gauss = out\n",
    "    \n",
    "    \n",
    "    gauss1 = GaussianModel(prefix='g1_')\n",
    "    pars = gauss1.make_params()\n",
    "    # pars.update(gauss1.make_params())\n",
    "\n",
    "    pars['g1_center'].set(value=len(y) / 4.0, min=0, max=len(y))\n",
    "    pars['g1_sigma'].set(value=min_separation/2, min=1, max=3)\n",
    "    pars['g1_amplitude'].set(value=np.mean(y), min=0)\n",
    "\n",
    "    gauss2 = GaussianModel(prefix='g2_')\n",
    "    pars.update(gauss2.make_params())\n",
    "\n",
    "    pars['g2_center'].set(value=3 * len(y) / 4.0, min=0, max=len(y))\n",
    "    pars['g2_sigma'].set(value=min_separation/2, min=1, max=3)\n",
    "    pars['g2_amplitude'].set(value=np.mean(y), min=0)\n",
    "    \n",
    "    gauss3 = GaussianModel(prefix='g3_')\n",
    "    pars.update(gauss3.make_params())\n",
    "\n",
    "    pars['g3_center'].set(value=3 * len(y) / 4.0, min=0, max=len(y))\n",
    "    pars['g3_sigma'].set(value=min_separation/2, min=1, max=3)\n",
    "    pars['g3_amplitude'].set(value=np.mean(y), min=0)\n",
    "\n",
    "    mod = gauss1 + gauss2 + gauss3\n",
    "\n",
    "    init = mod.eval(pars, x=x)\n",
    "    out = mod.fit(y, pars, x=x)\n",
    "    \n",
    "    \n",
    "#     fig, axes = plt.subplots(1, 2, figsize=(12.8, 4.8))\n",
    "#     axes[0].plot(x, y)\n",
    "#     axes[0].plot(x, init, '--', label='initial fit')\n",
    "#     axes[0].plot(x, out.best_fit, '-', label='best fit')\n",
    "#     axes[0].legend()\n",
    "\n",
    "#     comps = out.eval_components(x=x)\n",
    "#     axes[1].plot(x, y)\n",
    "#     axes[1].plot(x, comps['g1_'], '--', label='Gaussian component 1')\n",
    "#     axes[1].plot(x, comps['g2_'], '--', label='Gaussian component 2')\n",
    "#     axes[1].plot(x, comps['g3_'], '--', label='Gaussian component 3')\n",
    "#     axes[1].legend()\n",
    "\n",
    "#     plt.show()\n",
    "\n",
    "    results_3gauss = out\n",
    "    \n",
    "    return results_1gauss, results_2gauss, results_3gauss\n",
    "\n",
    "\n",
    "def calc_split_point_from_gaussians2(result):\n",
    "    from segmentation.util.utils_postprocessing import calc_split_point_from_gaussians\n",
    "    peak1 = result.values['g1_center']\n",
    "    peak2 = result.values['g2_center']\n",
    "    y = result.data\n",
    "    \n",
    "    split_point = calc_split_point_from_gaussians(np.array([np.floor(peak1), np.ceil(peak2)]), y)\n",
    "    return split_point"
   ]
  },
  {
   "cell_type": "code",
   "execution_count": 315,
   "id": "f02f263b-d434-400c-9191-53cdcd2ada14",
   "metadata": {},
   "outputs": [
    {
     "name": "stdout",
     "output_type": "stream",
     "text": [
      "===================================================\n",
      "Testing neuron 15\n",
      "===================================================\n"
     ]
    },
    {
     "data": {
      "image/png": "[encoded data removed]",
      "text/plain": [
       "<Figure size 921.6x345.6 with 2 Axes>"
      ]
     },
     "metadata": {
      "needs_background": "light"
     },
     "output_type": "display_data"
    },
    {
     "ename": "TypeError",
     "evalue": "slice indices must be integers or None or have an __index__ method",
     "output_type": "error",
     "traceback": [
      "\u001b[0;31m---------------------------------------------------------------------------\u001b[0m",
      "\u001b[0;31mTypeError\u001b[0m                                 Traceback (most recent call last)",
      "\u001b[0;32m/tmp/ipykernel_55185/1573341728.py\u001b[0m in \u001b[0;36m<module>\u001b[0;34m\u001b[0m\n\u001b[1;32m     10\u001b[0m \u001b[0;34m\u001b[0m\u001b[0m\n\u001b[1;32m     11\u001b[0m     \u001b[0;31m# Also plot split point\u001b[0m\u001b[0;34m\u001b[0m\u001b[0;34m\u001b[0m\u001b[0;34m\u001b[0m\u001b[0m\n\u001b[0;32m---> 12\u001b[0;31m     \u001b[0mx\u001b[0m \u001b[0;34m=\u001b[0m \u001b[0mcalc_split_point_from_gaussians2\u001b[0m\u001b[0;34m(\u001b[0m\u001b[0mres2\u001b[0m\u001b[0;34m)\u001b[0m\u001b[0;34m\u001b[0m\u001b[0;34m\u001b[0m\u001b[0m\n\u001b[0m\u001b[1;32m     13\u001b[0m     \u001b[0mplt\u001b[0m\u001b[0;34m.\u001b[0m\u001b[0mplot\u001b[0m\u001b[0;34m(\u001b[0m\u001b[0;34m[\u001b[0m\u001b[0mx\u001b[0m\u001b[0;34m,\u001b[0m \u001b[0mx\u001b[0m\u001b[0;34m]\u001b[0m\u001b[0;34m,\u001b[0m \u001b[0;34m[\u001b[0m\u001b[0mnp\u001b[0m\u001b[0;34m.\u001b[0m\u001b[0mmin\u001b[0m\u001b[0;34m(\u001b[0m\u001b[0my\u001b[0m\u001b[0;34m)\u001b[0m\u001b[0;34m,\u001b[0m \u001b[0mnp\u001b[0m\u001b[0;34m.\u001b[0m\u001b[0mmax\u001b[0m\u001b[0;34m(\u001b[0m\u001b[0my\u001b[0m\u001b[0;34m)\u001b[0m\u001b[0;34m]\u001b[0m\u001b[0;34m)\u001b[0m\u001b[0;34m\u001b[0m\u001b[0;34m\u001b[0m\u001b[0m\n\u001b[1;32m     14\u001b[0m \u001b[0;34m\u001b[0m\u001b[0m\n",
      "\u001b[0;32m/tmp/ipykernel_55185/1617730083.py\u001b[0m in \u001b[0;36mcalc_split_point_from_gaussians2\u001b[0;34m(result)\u001b[0m\n\u001b[1;32m    137\u001b[0m     \u001b[0my\u001b[0m \u001b[0;34m=\u001b[0m \u001b[0mresult\u001b[0m\u001b[0;34m.\u001b[0m\u001b[0mdata\u001b[0m\u001b[0;34m\u001b[0m\u001b[0;34m\u001b[0m\u001b[0m\n\u001b[1;32m    138\u001b[0m \u001b[0;34m\u001b[0m\u001b[0m\n\u001b[0;32m--> 139\u001b[0;31m     \u001b[0msplit_point\u001b[0m \u001b[0;34m=\u001b[0m \u001b[0mcalc_split_point_from_gaussians\u001b[0m\u001b[0;34m(\u001b[0m\u001b[0mnp\u001b[0m\u001b[0;34m.\u001b[0m\u001b[0marray\u001b[0m\u001b[0;34m(\u001b[0m\u001b[0;34m[\u001b[0m\u001b[0mnp\u001b[0m\u001b[0;34m.\u001b[0m\u001b[0mfloor\u001b[0m\u001b[0;34m(\u001b[0m\u001b[0mpeak1\u001b[0m\u001b[0;34m)\u001b[0m\u001b[0;34m,\u001b[0m \u001b[0mnp\u001b[0m\u001b[0;34m.\u001b[0m\u001b[0mceil\u001b[0m\u001b[0;34m(\u001b[0m\u001b[0mpeak2\u001b[0m\u001b[0;34m)\u001b[0m\u001b[0;34m]\u001b[0m\u001b[0;34m)\u001b[0m\u001b[0;34m,\u001b[0m \u001b[0my\u001b[0m\u001b[0;34m)\u001b[0m\u001b[0;34m\u001b[0m\u001b[0;34m\u001b[0m\u001b[0m\n\u001b[0m\u001b[1;32m    140\u001b[0m     \u001b[0;32mreturn\u001b[0m \u001b[0msplit_point\u001b[0m\u001b[0;34m\u001b[0m\u001b[0;34m\u001b[0m\u001b[0m\n",
      "\u001b[0;32m~/Current_work/repos/segmentation/segmentation/util/utils_postprocessing.py\u001b[0m in \u001b[0;36mcalc_split_point_from_gaussians\u001b[0;34m(peaks_of_gaussians, y_data)\u001b[0m\n\u001b[1;32m    585\u001b[0m         \u001b[0;32mreturn\u001b[0m \u001b[0;32mNone\u001b[0m\u001b[0;34m\u001b[0m\u001b[0;34m\u001b[0m\u001b[0m\n\u001b[1;32m    586\u001b[0m     \u001b[0;31m# Plan a: find the peak between the gaussian blobs\u001b[0m\u001b[0;34m\u001b[0m\u001b[0;34m\u001b[0m\u001b[0;34m\u001b[0m\u001b[0m\n\u001b[0;32m--> 587\u001b[0;31m     \u001b[0minter_peak_brightnesses\u001b[0m \u001b[0;34m=\u001b[0m \u001b[0mnp\u001b[0m\u001b[0;34m.\u001b[0m\u001b[0marray\u001b[0m\u001b[0;34m(\u001b[0m\u001b[0my_data\u001b[0m\u001b[0;34m[\u001b[0m\u001b[0mpeaks_of_gaussians\u001b[0m\u001b[0;34m[\u001b[0m\u001b[0;36m0\u001b[0m\u001b[0;34m]\u001b[0m \u001b[0;34m+\u001b[0m \u001b[0;36m1\u001b[0m\u001b[0;34m:\u001b[0m\u001b[0mpeaks_of_gaussians\u001b[0m\u001b[0;34m[\u001b[0m\u001b[0;36m1\u001b[0m\u001b[0;34m]\u001b[0m\u001b[0;34m]\u001b[0m\u001b[0;34m)\u001b[0m\u001b[0;34m\u001b[0m\u001b[0;34m\u001b[0m\u001b[0m\n\u001b[0m\u001b[1;32m    588\u001b[0m     \u001b[0msplit_point\u001b[0m\u001b[0;34m,\u001b[0m \u001b[0m_\u001b[0m \u001b[0;34m=\u001b[0m \u001b[0mfind_peaks\u001b[0m\u001b[0;34m(\u001b[0m\u001b[0;34m-\u001b[0m\u001b[0minter_peak_brightnesses\u001b[0m\u001b[0;34m)\u001b[0m\u001b[0;34m\u001b[0m\u001b[0;34m\u001b[0m\u001b[0m\n\u001b[1;32m    589\u001b[0m     \u001b[0;32mif\u001b[0m \u001b[0mlen\u001b[0m\u001b[0;34m(\u001b[0m\u001b[0msplit_point\u001b[0m\u001b[0;34m)\u001b[0m \u001b[0;34m>\u001b[0m \u001b[0;36m0\u001b[0m\u001b[0;34m:\u001b[0m\u001b[0;34m\u001b[0m\u001b[0;34m\u001b[0m\u001b[0m\n",
      "\u001b[0;31mTypeError\u001b[0m: slice indices must be integers or None or have an __index__ method"
     ]
    }
   ],
   "source": [
    "# to_test\n",
    "for i in to_test:\n",
    "    print(\"===================================================\")\n",
    "    print(f\"Testing neuron {i}\")\n",
    "    print(\"===================================================\")\n",
    "    y = brightnesses[i]\n",
    "    x = neuron_planes[i]\n",
    "\n",
    "    res1, res2, res3 = compare_gaussian_fits(x, y)\n",
    "    \n",
    "    # Also plot split point\n",
    "    x = calc_split_point_from_gaussians2(res2)\n",
    "    plt.plot([x, x], [np.min(y), np.max(y)])\n",
    "    \n",
    "    aic1, aic2, aic3 = res1.aic, res2.aic, res3.aic\n",
    "    aicc1 = aic1 + aicc_correction(res1.nvarys, len(y))\n",
    "    aicc2 = aic2 + aicc_correction(res2.nvarys, len(y))\n",
    "    aicc3 = aic3 + aicc_correction(res3.nvarys, len(y))\n",
    "    print(\"===================================================\")\n",
    "    if np.argmin([aicc1, aicc2, aicc3]) == 0:\n",
    "        print(\"ONE GAUSSIAN\")\n",
    "    elif np.argmin([aicc1, aicc2, aicc3]) == 1:\n",
    "        print(\"TWO GAUSSIANS\")\n",
    "    else:\n",
    "        print(\"THREE GAUSSIANS\")\n",
    "\n",
    "    print(aic1, aic2, aic3)\n",
    "    print(aicc1, aicc2, aicc3)\n",
    "    print(\"===================================================\")"
   ]
  },
  {
   "cell_type": "code",
   "execution_count": 313,
   "id": "c9ebee38-4760-4e78-9a60-ccdab263accd",
   "metadata": {},
   "outputs": [
    {
     "name": "stdout",
     "output_type": "stream",
     "text": [
      "> \u001b[0;32m/home/charles/Current_work/repos/segmentation/segmentation/util/utils_postprocessing.py\u001b[0m(587)\u001b[0;36mcalc_split_point_from_gaussians\u001b[0;34m()\u001b[0m\n",
      "\u001b[0;32m    585 \u001b[0;31m        \u001b[0;32mreturn\u001b[0m \u001b[0;32mNone\u001b[0m\u001b[0;34m\u001b[0m\u001b[0;34m\u001b[0m\u001b[0m\n",
      "\u001b[0m\u001b[0;32m    586 \u001b[0;31m    \u001b[0;31m# Plan a: find the peak between the gaussian blobs\u001b[0m\u001b[0;34m\u001b[0m\u001b[0;34m\u001b[0m\u001b[0;34m\u001b[0m\u001b[0m\n",
      "\u001b[0m\u001b[0;32m--> 587 \u001b[0;31m    \u001b[0minter_peak_brightnesses\u001b[0m \u001b[0;34m=\u001b[0m \u001b[0mnp\u001b[0m\u001b[0;34m.\u001b[0m\u001b[0marray\u001b[0m\u001b[0;34m(\u001b[0m\u001b[0my_data\u001b[0m\u001b[0;34m[\u001b[0m\u001b[0mpeaks_of_gaussians\u001b[0m\u001b[0;34m[\u001b[0m\u001b[0;36m0\u001b[0m\u001b[0;34m]\u001b[0m \u001b[0;34m+\u001b[0m \u001b[0;36m1\u001b[0m\u001b[0;34m:\u001b[0m\u001b[0mpeaks_of_gaussians\u001b[0m\u001b[0;34m[\u001b[0m\u001b[0;36m1\u001b[0m\u001b[0;34m]\u001b[0m\u001b[0;34m]\u001b[0m\u001b[0;34m)\u001b[0m\u001b[0;34m\u001b[0m\u001b[0;34m\u001b[0m\u001b[0m\n",
      "\u001b[0m\u001b[0;32m    588 \u001b[0;31m    \u001b[0msplit_point\u001b[0m\u001b[0;34m,\u001b[0m \u001b[0m_\u001b[0m \u001b[0;34m=\u001b[0m \u001b[0mfind_peaks\u001b[0m\u001b[0;34m(\u001b[0m\u001b[0;34m-\u001b[0m\u001b[0minter_peak_brightnesses\u001b[0m\u001b[0;34m)\u001b[0m\u001b[0;34m\u001b[0m\u001b[0;34m\u001b[0m\u001b[0m\n",
      "\u001b[0m\u001b[0;32m    589 \u001b[0;31m    \u001b[0;32mif\u001b[0m \u001b[0mlen\u001b[0m\u001b[0;34m(\u001b[0m\u001b[0msplit_point\u001b[0m\u001b[0;34m)\u001b[0m \u001b[0;34m>\u001b[0m \u001b[0;36m0\u001b[0m\u001b[0;34m:\u001b[0m\u001b[0;34m\u001b[0m\u001b[0;34m\u001b[0m\u001b[0m\n",
      "\u001b[0m\n"
     ]
    },
    {
     "name": "stdin",
     "output_type": "stream",
     "text": [
      "ipdb>  peaks_of_gaussians\n"
     ]
    },
    {
     "name": "stdout",
     "output_type": "stream",
     "text": [
      "array([3.52634792, 8.75265902])\n"
     ]
    },
    {
     "name": "stdin",
     "output_type": "stream",
     "text": [
      "ipdb>  y_data\n"
     ]
    },
    {
     "name": "stdout",
     "output_type": "stream",
     "text": [
      "array([21., 42., 65., 66., 74., 68., 55., 61., 66., 66., 47., 25.])\n"
     ]
    },
    {
     "name": "stdin",
     "output_type": "stream",
     "text": [
      "ipdb>  y_data[peaks_of_gaussians[0]\n"
     ]
    },
    {
     "name": "stdout",
     "output_type": "stream",
     "text": [
      "*** SyntaxError: unexpected EOF while parsing\n"
     ]
    },
    {
     "name": "stdin",
     "output_type": "stream",
     "text": [
      "ipdb>  y_data[peaks_of_gaussians[0]]\n"
     ]
    },
    {
     "name": "stdout",
     "output_type": "stream",
     "text": [
      "*** IndexError: only integers, slices (`:`), ellipsis (`...`), numpy.newaxis (`None`) and integer or boolean arrays are valid indices\n"
     ]
    },
    {
     "name": "stdin",
     "output_type": "stream",
     "text": [
      "ipdb>  peaks_of_gaussians[0]\n"
     ]
    },
    {
     "name": "stdout",
     "output_type": "stream",
     "text": [
      "3.5263479165951477\n"
     ]
    },
    {
     "name": "stdin",
     "output_type": "stream",
     "text": [
      "ipdb>  q\n"
     ]
    }
   ],
   "source": [
    "%debug"
   ]
  },
  {
   "cell_type": "code",
   "execution_count": 167,
   "id": "db178424-990b-4409-b288-c84e61dc0e03",
   "metadata": {},
   "outputs": [
    {
     "data": {
      "text/plain": [
       "(26.358423028118168, -10.974910305215168)"
      ]
     },
     "execution_count": 167,
     "metadata": {},
     "output_type": "execute_result"
    }
   ],
   "source": [
    "def aicc_correction(p, n):\n",
    "    return 2*p*(p+1) / (n-p-1)\n",
    "\n",
    "p, n = 7, len(y)\n",
    "aicc2 = results_2gauss.aic + aicc_correction(p,n)\n",
    "\n",
    "p, n = 4, len(y)\n",
    "aicc1 = results_1gauss.aic + aicc_correction(p,n)\n",
    "\n",
    "aicc2, aicc"
   ]
  },
  {
   "cell_type": "code",
   "execution_count": 263,
   "id": "9f431ddc-4bec-4813-a023-354f51b459b4",
   "metadata": {},
   "outputs": [
    {
     "data": {
      "text/plain": [
       "(21.0, 3.4285714285714284)"
      ]
     },
     "execution_count": 263,
     "metadata": {},
     "output_type": "execute_result"
    }
   ],
   "source": [
    "p2, n = 6, 11\n",
    "p1 = 3\n",
    "aicc_correction(p2,n), aicc_correction(p1,n)"
   ]
  },
  {
   "cell_type": "code",
   "execution_count": 183,
   "id": "be0bf029-1f18-4395-8161-663bd32962a5",
   "metadata": {},
   "outputs": [],
   "source": [
    "from sklearn.model_selection import cross_val_score, cross_validate"
   ]
  },
  {
   "cell_type": "code",
   "execution_count": 185,
   "id": "21ad2d29-8901-4ed4-b26f-21d251b0f6d0",
   "metadata": {},
   "outputs": [],
   "source": [
    "# def residual_score(model, x, y):\n",
    "#     return np.linalg.norm(model.eval(x=x) - y)\n",
    "\n",
    "# scores = cross_validate(mod, x, y, cv=5, scoring=residual_score)\n",
    "# print(\"%0.2f accuracy with a standard deviation of %0.2f\" % (scores.mean(), scores.std()))"
   ]
  },
  {
   "cell_type": "code",
   "execution_count": 181,
   "id": "cb64097d-8f77-4433-aa4c-96dcf03ad9f5",
   "metadata": {},
   "outputs": [
    {
     "data": {
      "text/plain": [
       "array([-17.20211544, -17.51605855, -20.89201807, -24.9911363 ,\n",
       "       -32.99973234, -36.99999703, -37.99999999, -35.        ,\n",
       "       -28.        , -22.        , -19.        ])"
      ]
     },
     "execution_count": 181,
     "metadata": {},
     "output_type": "execute_result"
    }
   ],
   "source": [
    "mod.eval(x=x) - y"
   ]
  },
  {
   "cell_type": "code",
   "execution_count": 217,
   "id": "c665e9b8-efe5-4ae1-a52d-155f096b24e5",
   "metadata": {},
   "outputs": [],
   "source": [
    "from sklearn import mixture\n",
    "from sklearn.preprocessing import StandardScaler\n"
   ]
  },
  {
   "cell_type": "code",
   "execution_count": 235,
   "id": "a1be43a3-2bab-4b1f-b83a-9a239e4495d4",
   "metadata": {},
   "outputs": [
    {
     "data": {
      "text/plain": [
       "36.012438276105044"
      ]
     },
     "execution_count": 235,
     "metadata": {},
     "output_type": "execute_result"
    }
   ],
   "source": [
    "x2 = x.reshape(-1,1)\n",
    "scaler = StandardScaler()\n",
    "y2 = scaler.fit_transform(y.reshape(-1,1))\n",
    "y2 -= np.min(y2)\n",
    "\n",
    "gmm1 = mixture.GaussianMixture(\n",
    "    n_components=1, means_init=np.array([[len(y)/2.0]]).T, covariance_type='diag'\n",
    ")\n",
    "gmm1.fit(y2)\n",
    "gmm1.bic(y2)"
   ]
  },
  {
   "cell_type": "code",
   "execution_count": 236,
   "id": "1dbbf197-6109-48d3-be5f-b2eb42da4cfc",
   "metadata": {},
   "outputs": [
    {
     "data": {
      "text/plain": [
       "43.20612388656385"
      ]
     },
     "execution_count": 236,
     "metadata": {},
     "output_type": "execute_result"
    }
   ],
   "source": [
    "gmm2 = mixture.GaussianMixture(\n",
    "    n_components=2, means_init=np.array([[len(y)/4.0, 3*len(y)/4.0]]).T, covariance_type='diag'\n",
    ")\n",
    "gmm2.fit(y2)\n",
    "gmm2.bic(y2)"
   ]
  },
  {
   "cell_type": "code",
   "execution_count": 237,
   "id": "f7f247d9-dbbf-4c37-ace2-201cec00f30b",
   "metadata": {},
   "outputs": [
    {
     "data": {
      "text/plain": [
       "<matplotlib.legend.Legend at 0x7fb7033f5810>"
      ]
     },
     "execution_count": 237,
     "metadata": {},
     "output_type": "execute_result"
    },
    {
     "data": {
      "image/png": "[encoded data removed]",
      "text/plain": [
       "<Figure size 432x288 with 1 Axes>"
      ]
     },
     "metadata": {
      "needs_background": "light"
     },
     "output_type": "display_data"
    }
   ],
   "source": [
    "x2 = x.reshape(-1,1)\n",
    "\n",
    "plt.plot(x2, y2, label=\"data\")\n",
    "plt.plot(gmm2.predict(x2), label=\"Fit (2)\")\n",
    "plt.plot(gmm1.predict(x2), label=\"Fit (1)\")\n",
    "plt.legend()"
   ]
  },
  {
   "cell_type": "code",
   "execution_count": null,
   "id": "732957c7-3172-4a75-bcd7-d8eb2549e38e",
   "metadata": {},
   "outputs": [],
   "source": []
  }
 ],
 "metadata": {
  "kernelspec": {
   "display_name": "Python 3 (ipykernel)",
   "language": "python",
   "name": "python3"
  },
  "language_info": {
   "codemirror_mode": {
    "name": "ipython",
    "version": 3
   },
   "file_extension": ".py",
   "mimetype": "text/x-python",
   "name": "python",
   "nbconvert_exporter": "python",
   "pygments_lexer": "ipython3",
   "version": "3.7.11"
  }
 },
 "nbformat": 4,
 "nbformat_minor": 5
}
