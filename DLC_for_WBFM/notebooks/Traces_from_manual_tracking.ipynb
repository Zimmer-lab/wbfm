{
 "cells": [
  {
   "cell_type": "code",
   "execution_count": 109,
   "id": "c7f247d0-9894-4308-9db4-4d15205ced28",
   "metadata": {},
   "outputs": [],
   "source": [
    "import pandas as pd\n",
    "from DLC_for_WBFM.utils.projects.utils_project import safe_cd, load_config\n",
    "from DLC_for_WBFM.utils.pipeline.traces_pipeline import _unpack_configs_for_traces, get_traces_from_3d_tracks\n",
    "import os\n",
    "from pathlib import Path\n",
    "import pickle\n",
    "import matplotlib.pyplot as plt"
   ]
  },
  {
   "cell_type": "code",
   "execution_count": 130,
   "id": "31b1aefa-a37d-42fc-93ef-bff39948f508",
   "metadata": {},
   "outputs": [],
   "source": [
    "project_dir = r\"Y:\\shared_projects\\wbfm\\dlc_stacks\\Charlie-worm3-long\"\n",
    "\n",
    "with safe_cd(project_dir):\n",
    "    name = 'neuron4207'\n",
    "    fname = f\"3-tracking/manual_tracking/{name}.csv\"\n",
    "    neuron1 = pd.read_csv(fname, header=[0,1], index_col=0)\n",
    "    \n",
    "    name = 'neuron4453'\n",
    "    fname = f\"3-tracking/manual_tracking/{name}.csv\"\n",
    "    neuron2 = pd.read_csv(fname, header=[0,1], index_col=0)\n",
    "    \n",
    "    name = 'neuron4528'\n",
    "    fname = f\"3-tracking/manual_tracking/{name}.csv\"\n",
    "    neuron3 = pd.read_csv(fname, header=[0,1], index_col=0)\n",
    "    \n",
    "    neuron_zxy = neuron1.join(neuron2)\n",
    "    neuron_zxy = neuron_zxy.join(neuron3)\n",
    "    neuron_zxy = neuron_zxy.replace(np.nan, 0.0)\n",
    "    \n",
    "    fname = r\"3-tracking\\manual_tracking\\worm3_neurons.xlsx\"\n",
    "    manual_tracks = pd.read_excel(fname, sheet_name=name)\n",
    "    \n",
    "    project_cfg = load_config('project_config.yaml')\n",
    "    \n",
    "    segment_fname = Path(project_cfg['subfolder_configs']['segmentation'])\n",
    "    segment_cfg = dict(load_config(segment_fname))\n",
    "    \n",
    "    track_fname = Path(project_cfg['subfolder_configs']['tracking'])\n",
    "    track_cfg = dict(load_config(track_fname))\n"
   ]
  },
  {
   "cell_type": "markdown",
   "id": "bea424bc-0e1c-4780-85ee-10feb6ab814f",
   "metadata": {},
   "source": [
    "## See get_traces_from_3d_tracks_using_config"
   ]
  },
  {
   "cell_type": "code",
   "execution_count": 131,
   "id": "f901b055-322f-473c-987f-5a0aaedc672e",
   "metadata": {},
   "outputs": [],
   "source": [
    "with safe_cd(project_dir):\n",
    "    _, green_fname, is_mirrored, mask_array, max_dist, num_frames, num_slices, params_start_volume, segmentation_metadata, z_to_xy_ratio = _unpack_configs_for_traces(\n",
    "            project_cfg, segment_cfg, track_cfg)"
   ]
  },
  {
   "cell_type": "code",
   "execution_count": 132,
   "id": "4dbe5732-6da1-481b-86f6-87c38bcb0976",
   "metadata": {
    "tags": []
   },
   "outputs": [
    {
     "name": "stderr",
     "output_type": "stream",
     "text": [
      "  0%|                                                                                         | 0/1500 [00:00<?, ?it/s]c:\\users\\charles.fieseler\\documents\\current_work\\dlc_for_wbfm\\DLC_for_WBFM\\utils\\pipeline\\traces_pipeline.py:119: VisibleDeprecationWarning: Creating an ndarray from ragged nested sequences (which is a list-or-tuple of lists-or-tuples-or ndarrays with different lengths or shapes) is deprecated. If you meant to do this, you must specify 'dtype=object' when creating the ndarray.\n",
      "  all_matches[i_volume] = np.array([(m[0] + 1, m[1] + 1, c) for m, c in zip(matches, conf)])\n",
      "  1%|▍                                                                                | 8/1500 [00:00<00:18, 79.55it/s]"
     ]
    },
    {
     "name": "stdout",
     "output_type": "stream",
     "text": [
      "Matching segmentation and DLC tracking...\n"
     ]
    },
    {
     "name": "stderr",
     "output_type": "stream",
     "text": [
      "100%|██████████████████████████████████████████████████████████████████████████████| 1500/1500 [00:15<00:00, 95.25it/s]\n",
      "  0%|                                                                                         | 0/1500 [00:00<?, ?it/s]"
     ]
    },
    {
     "name": "stdout",
     "output_type": "stream",
     "text": [
      "Extracting green traces...\n"
     ]
    },
    {
     "name": "stderr",
     "output_type": "stream",
     "text": [
      "100%|██████████████████████████████████████████████████████████████████████████████| 1500/1500 [32:44<00:00,  1.31s/it]\n"
     ]
    }
   ],
   "source": [
    "# Use custom track (one neuron) instead of old ones\n",
    "DEBUG = False\n",
    "all_matches, all_neuron_names, green_dat, red_dat = get_traces_from_3d_tracks(DEBUG, neuron_zxy, green_fname,\n",
    "                                                                                  is_mirrored, mask_array, max_dist,\n",
    "                                                                                  num_frames, num_slices,\n",
    "                                                                                  params_start_volume,\n",
    "                                                                                  segmentation_metadata, z_to_xy_ratio)"
   ]
  },
  {
   "cell_type": "markdown",
   "id": "875093fd-487a-4062-a80f-5b2cd2b772da",
   "metadata": {},
   "source": [
    "# Save"
   ]
  },
  {
   "cell_type": "code",
   "execution_count": 133,
   "id": "7432c6e8-9dcb-4529-8de5-7c811eea1d8d",
   "metadata": {},
   "outputs": [],
   "source": [
    "with safe_cd(project_dir):\n",
    "    out_fname = \"4-traces/retracked_neurons/green_traces.h5\"\n",
    "    green_dat.to_hdf(out_fname, \"df_with_missing\")\n",
    "    \n",
    "    out_fname = \"4-traces/retracked_neurons/red_traces.h5\"\n",
    "    red_dat.to_hdf(out_fname, \"df_with_missing\")\n",
    "    \n",
    "    out_fname = \"4-traces/retracked_neurons/matches.pickle\"\n",
    "    with open(out_fname, 'wb') as f:\n",
    "        pickle.dump(all_matches, f)"
   ]
  },
  {
   "cell_type": "code",
   "execution_count": null,
   "id": "da8bdd0e-ded0-46c1-bfad-75c3e9b9ea86",
   "metadata": {},
   "outputs": [],
   "source": []
  }
 ],
 "metadata": {
  "kernelspec": {
   "display_name": "Python [conda env:DLC-for-WBFM] *",
   "language": "python",
   "name": "conda-env-DLC-for-WBFM-py"
  },
  "language_info": {
   "codemirror_mode": {
    "name": "ipython",
    "version": 3
   },
   "file_extension": ".py",
   "mimetype": "text/x-python",
   "name": "python",
   "nbconvert_exporter": "python",
   "pygments_lexer": "ipython3",
   "version": "3.7.10"
  }
 },
 "nbformat": 4,
 "nbformat_minor": 5
}
