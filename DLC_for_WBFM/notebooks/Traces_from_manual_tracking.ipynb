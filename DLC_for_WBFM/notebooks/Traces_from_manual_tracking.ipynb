{
 "cells": [
  {
   "cell_type": "code",
   "execution_count": 1,
   "id": "c7f247d0-9894-4308-9db4-4d15205ced28",
   "metadata": {},
   "outputs": [
    {
     "name": "stderr",
     "output_type": "stream",
     "text": [
      "In C:\\Users\\charles.fieseler\\Anaconda3\\envs\\DLC-for-WBFM\\lib\\site-packages\\matplotlib\\mpl-data\\stylelib\\_classic_test.mplstyle: \n",
      "The text.latex.preview rcparam was deprecated in Matplotlib 3.3 and will be removed two minor releases later.\n",
      "In C:\\Users\\charles.fieseler\\Anaconda3\\envs\\DLC-for-WBFM\\lib\\site-packages\\matplotlib\\mpl-data\\stylelib\\_classic_test.mplstyle: \n",
      "The mathtext.fallback_to_cm rcparam was deprecated in Matplotlib 3.3 and will be removed two minor releases later.\n",
      "In C:\\Users\\charles.fieseler\\Anaconda3\\envs\\DLC-for-WBFM\\lib\\site-packages\\matplotlib\\mpl-data\\stylelib\\_classic_test.mplstyle: Support for setting the 'mathtext.fallback_to_cm' rcParam is deprecated since 3.3 and will be removed two minor releases later; use 'mathtext.fallback : 'cm' instead.\n",
      "In C:\\Users\\charles.fieseler\\Anaconda3\\envs\\DLC-for-WBFM\\lib\\site-packages\\matplotlib\\mpl-data\\stylelib\\_classic_test.mplstyle: \n",
      "The validate_bool_maybe_none function was deprecated in Matplotlib 3.3 and will be removed two minor releases later.\n",
      "In C:\\Users\\charles.fieseler\\Anaconda3\\envs\\DLC-for-WBFM\\lib\\site-packages\\matplotlib\\mpl-data\\stylelib\\_classic_test.mplstyle: \n",
      "The savefig.jpeg_quality rcparam was deprecated in Matplotlib 3.3 and will be removed two minor releases later.\n",
      "In C:\\Users\\charles.fieseler\\Anaconda3\\envs\\DLC-for-WBFM\\lib\\site-packages\\matplotlib\\mpl-data\\stylelib\\_classic_test.mplstyle: \n",
      "The keymap.all_axes rcparam was deprecated in Matplotlib 3.3 and will be removed two minor releases later.\n",
      "In C:\\Users\\charles.fieseler\\Anaconda3\\envs\\DLC-for-WBFM\\lib\\site-packages\\matplotlib\\mpl-data\\stylelib\\_classic_test.mplstyle: \n",
      "The animation.avconv_path rcparam was deprecated in Matplotlib 3.3 and will be removed two minor releases later.\n",
      "In C:\\Users\\charles.fieseler\\Anaconda3\\envs\\DLC-for-WBFM\\lib\\site-packages\\matplotlib\\mpl-data\\stylelib\\_classic_test.mplstyle: \n",
      "The animation.avconv_args rcparam was deprecated in Matplotlib 3.3 and will be removed two minor releases later.\n"
     ]
    }
   ],
   "source": [
    "import pandas as pd\n",
    "from DLC_for_WBFM.utils.projects.utils_project import safe_cd, load_config\n",
    "from DLC_for_WBFM.utils.pipeline.traces_pipeline import _unpack_configs_for_traces, get_traces_from_3d_tracks\n",
    "from DLC_for_WBFM.utils.preprocessing.utils_tif import preprocess_all_frames_using_config\n",
    "import os\n",
    "from pathlib import Path\n",
    "import pickle\n",
    "import numpy as np\n",
    "import matplotlib.pyplot as plt\n",
    "%load_ext autoreload\n",
    "%autoreload 2"
   ]
  },
  {
   "cell_type": "code",
   "execution_count": 2,
   "id": "31b1aefa-a37d-42fc-93ef-bff39948f508",
   "metadata": {},
   "outputs": [],
   "source": [
    "project_dir = r\"Y:\\shared_projects\\wbfm\\dlc_stacks\\Charlie-worm3-long\"\n",
    "\n",
    "with safe_cd(project_dir):\n",
    "    name = 'neuron4207'\n",
    "    fname = f\"3-tracking/manual_tracking/{name}.csv\"\n",
    "    neuron1 = pd.read_csv(fname, header=[0,1], index_col=0)\n",
    "    \n",
    "    name = 'neuron4453'\n",
    "    fname = f\"3-tracking/manual_tracking/{name}.csv\"\n",
    "    neuron2 = pd.read_csv(fname, header=[0,1], index_col=0)\n",
    "    \n",
    "    name = 'neuron4528'\n",
    "    fname = f\"3-tracking/manual_tracking/{name}.csv\"\n",
    "    neuron3 = pd.read_csv(fname, header=[0,1], index_col=0)\n",
    "    \n",
    "    neuron_zxy = neuron1.join(neuron2)\n",
    "    neuron_zxy = neuron_zxy.join(neuron3)\n",
    "    neuron_zxy = neuron_zxy.replace(np.nan, 0.0)\n",
    "    \n",
    "    fname = r\"3-tracking\\manual_tracking\\worm3_neurons.xlsx\"\n",
    "    manual_tracks = pd.read_excel(fname, sheet_name=name)\n",
    "    \n",
    "    project_cfg = load_config('project_config.yaml')\n",
    "    \n",
    "    segment_fname = Path(project_cfg['subfolder_configs']['segmentation'])\n",
    "    segment_cfg = dict(load_config(segment_fname))\n",
    "    \n",
    "    track_fname = Path(project_cfg['subfolder_configs']['tracking'])\n",
    "    track_cfg = dict(load_config(track_fname))\n"
   ]
  },
  {
   "cell_type": "markdown",
   "id": "bea424bc-0e1c-4780-85ee-10feb6ab814f",
   "metadata": {},
   "source": [
    "## See get_traces_from_3d_tracks_using_config"
   ]
  },
  {
   "cell_type": "code",
   "execution_count": 3,
   "id": "f901b055-322f-473c-987f-5a0aaedc672e",
   "metadata": {},
   "outputs": [],
   "source": [
    "with safe_cd(project_dir):\n",
    "    _, green_fname, is_mirrored, mask_array, max_dist, num_frames, num_slices, params_start_volume, segmentation_metadata, z_to_xy_ratio = _unpack_configs_for_traces(\n",
    "            project_cfg, segment_cfg, track_cfg)"
   ]
  },
  {
   "cell_type": "code",
   "execution_count": 5,
   "id": "154f436e-73c1-47ba-8234-e69ef111c3c4",
   "metadata": {},
   "outputs": [
    {
     "data": {
      "application/vnd.jupyter.widget-view+json": {
       "model_id": "676f01e833634b06856dc63b10e298d3",
       "version_major": 2,
       "version_minor": 0
      },
      "text/plain": [
       "  0%|          | 0/1500 [00:00<?, ?it/s]"
      ]
     },
     "metadata": {},
     "output_type": "display_data"
    }
   ],
   "source": [
    "with safe_cd(project_dir):\n",
    "    DEBUG=False\n",
    "    cfg = project_cfg.copy()\n",
    "    cfg['preprocessing_config'] = track_cfg['preprocessing_config']\n",
    "    green_video, _ = preprocess_all_frames_using_config(DEBUG, cfg, verbose=0, vid_fname=green_fname)"
   ]
  },
  {
   "cell_type": "code",
   "execution_count": 13,
   "id": "7637344d-150e-41c3-ab96-b6c714fc370f",
   "metadata": {},
   "outputs": [],
   "source": [
    "# Save it!\n",
    "from pathlib import Path\n",
    "fname = r\"Y:\\shared_projects\\wbfm\\dat\\ZIM2051\\2021-03-04_16-07-57_worm3_ZIM2051\\2021-03-04_16-07-57_worm3_ZIM2051-channel-1-pco_camera2\\2021-03-04_16-07-57_worm3_ZIM2051-channel-1-pco_camera2bigtiff.btf\"\n",
    "fname = str(Path(fname).with_suffix('.zarr'))\n",
    "import zarr\n",
    "zarr.save_array(fname, green_video)"
   ]
  },
  {
   "cell_type": "code",
   "execution_count": 10,
   "id": "4dbe5732-6da1-481b-86f6-87c38bcb0976",
   "metadata": {
    "tags": []
   },
   "outputs": [
    {
     "name": "stderr",
     "output_type": "stream",
     "text": [
      "  0%|▏                                                                                | 4/1500 [00:00<00:38, 39.00it/s]"
     ]
    },
    {
     "name": "stdout",
     "output_type": "stream",
     "text": [
      "Matching segmentation and DLC tracking...\n"
     ]
    },
    {
     "name": "stderr",
     "output_type": "stream",
     "text": [
      "100%|██████████████████████████████████████████████████████████████████████████████| 1500/1500 [00:31<00:00, 47.03it/s]\n",
      "  0%|                                                                                         | 0/1500 [00:00<?, ?it/s]"
     ]
    },
    {
     "name": "stdout",
     "output_type": "stream",
     "text": [
      "Extracting green traces...\n"
     ]
    },
    {
     "name": "stderr",
     "output_type": "stream",
     "text": [
      "100%|██████████████████████████████████████████████████████████████████████████████| 1500/1500 [08:01<00:00,  3.11it/s]\n"
     ]
    }
   ],
   "source": [
    "# Use custom track (one neuron) instead of old ones\n",
    "DEBUG = False\n",
    "all_matches, all_neuron_names, green_dat, red_dat = get_traces_from_3d_tracks(DEBUG, neuron_zxy, green_video,\n",
    "                                                                                  is_mirrored, mask_array, max_dist,\n",
    "                                                                                  num_frames, num_slices,\n",
    "                                                                                  params_start_volume,\n",
    "                                                                                  segmentation_metadata, z_to_xy_ratio)"
   ]
  },
  {
   "cell_type": "markdown",
   "id": "875093fd-487a-4062-a80f-5b2cd2b772da",
   "metadata": {},
   "source": [
    "# Save"
   ]
  },
  {
   "cell_type": "code",
   "execution_count": 11,
   "id": "7432c6e8-9dcb-4529-8de5-7c811eea1d8d",
   "metadata": {},
   "outputs": [
    {
     "name": "stderr",
     "output_type": "stream",
     "text": [
      "C:\\Users\\charles.fieseler\\Anaconda3\\envs\\DLC-for-WBFM\\lib\\site-packages\\pandas\\core\\generic.py:2621: PerformanceWarning: \n",
      "your performance may suffer as PyTables will pickle object types that it cannot\n",
      "map directly to c-types [inferred_type->mixed,key->block1_values] [items->MultiIndex([('neuron4207', 'all_values'),\n",
      "            ('neuron4453', 'all_values'),\n",
      "            ('neuron4528', 'all_values')],\n",
      "           names=['neurons', 'data'])]\n",
      "\n",
      "  encoding=encoding,\n"
     ]
    }
   ],
   "source": [
    "with safe_cd(project_dir):\n",
    "    out_fname = \"4-traces/retracked_neurons/green_traces.h5\"\n",
    "    green_dat.to_hdf(out_fname, \"df_with_missing\")\n",
    "    \n",
    "    out_fname = \"4-traces/retracked_neurons/red_traces.h5\"\n",
    "    red_dat.to_hdf(out_fname, \"df_with_missing\")\n",
    "    \n",
    "    out_fname = \"4-traces/retracked_neurons/matches.pickle\"\n",
    "    with open(out_fname, 'wb') as f:\n",
    "        pickle.dump(all_matches, f)"
   ]
  },
  {
   "cell_type": "code",
   "execution_count": null,
   "id": "da8bdd0e-ded0-46c1-bfad-75c3e9b9ea86",
   "metadata": {},
   "outputs": [],
   "source": []
  },
  {
   "cell_type": "markdown",
   "id": "c1035ed8-9e51-42ac-9c47-9f461ddc83e2",
   "metadata": {},
   "source": [
    "# Scratch"
   ]
  },
  {
   "cell_type": "code",
   "execution_count": 154,
   "id": "a67ded37-be52-486f-a2c8-ce0a9b64670c",
   "metadata": {},
   "outputs": [
    {
     "data": {
      "text/plain": [
       "167558.0"
      ]
     },
     "execution_count": 154,
     "metadata": {},
     "output_type": "execute_result"
    }
   ],
   "source": [
    "\n",
    "\n",
    "def rebuild_hist(frame_df, which_neuron):\n",
    "    # I accidentally didn't save the full histogram... so I remake it\n",
    "    frame = segmentation_metadata[0]\n",
    "    counts, edges = frame.loc[which_neuron,'pixel_counts'], frame.loc[which_neuron,'pixel_values']\n",
    "    pixel_vals = np.repeat(edges, counts)\n",
    "    return pixel_vals"
   ]
  },
  {
   "cell_type": "code",
   "execution_count": null,
   "id": "f27b97b6-ee87-4983-ae3c-a016503b0094",
   "metadata": {},
   "outputs": [],
   "source": [
    "rebuild_hist"
   ]
  }
 ],
 "metadata": {
  "kernelspec": {
   "display_name": "Python [conda env:DLC-for-WBFM] *",
   "language": "python",
   "name": "conda-env-DLC-for-WBFM-py"
  },
  "language_info": {
   "codemirror_mode": {
    "name": "ipython",
    "version": 3
   },
   "file_extension": ".py",
   "mimetype": "text/x-python",
   "name": "python",
   "nbconvert_exporter": "python",
   "pygments_lexer": "ipython3",
   "version": "3.7.10"
  }
 },
 "nbformat": 4,
 "nbformat_minor": 5
}
