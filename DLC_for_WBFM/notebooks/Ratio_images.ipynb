{
 "cells": [
  {
   "cell_type": "code",
   "execution_count": 1,
   "id": "a1481904-f31b-46f5-bf43-51b6798aa02b",
   "metadata": {},
   "outputs": [
    {
     "name": "stderr",
     "output_type": "stream",
     "text": [
      "In C:\\Users\\charles.fieseler\\Anaconda3\\envs\\DLC-for-WBFM\\lib\\site-packages\\matplotlib\\mpl-data\\stylelib\\_classic_test.mplstyle: \n",
      "The text.latex.preview rcparam was deprecated in Matplotlib 3.3 and will be removed two minor releases later.\n",
      "In C:\\Users\\charles.fieseler\\Anaconda3\\envs\\DLC-for-WBFM\\lib\\site-packages\\matplotlib\\mpl-data\\stylelib\\_classic_test.mplstyle: \n",
      "The mathtext.fallback_to_cm rcparam was deprecated in Matplotlib 3.3 and will be removed two minor releases later.\n",
      "In C:\\Users\\charles.fieseler\\Anaconda3\\envs\\DLC-for-WBFM\\lib\\site-packages\\matplotlib\\mpl-data\\stylelib\\_classic_test.mplstyle: Support for setting the 'mathtext.fallback_to_cm' rcParam is deprecated since 3.3 and will be removed two minor releases later; use 'mathtext.fallback : 'cm' instead.\n",
      "In C:\\Users\\charles.fieseler\\Anaconda3\\envs\\DLC-for-WBFM\\lib\\site-packages\\matplotlib\\mpl-data\\stylelib\\_classic_test.mplstyle: \n",
      "The validate_bool_maybe_none function was deprecated in Matplotlib 3.3 and will be removed two minor releases later.\n",
      "In C:\\Users\\charles.fieseler\\Anaconda3\\envs\\DLC-for-WBFM\\lib\\site-packages\\matplotlib\\mpl-data\\stylelib\\_classic_test.mplstyle: \n",
      "The savefig.jpeg_quality rcparam was deprecated in Matplotlib 3.3 and will be removed two minor releases later.\n",
      "In C:\\Users\\charles.fieseler\\Anaconda3\\envs\\DLC-for-WBFM\\lib\\site-packages\\matplotlib\\mpl-data\\stylelib\\_classic_test.mplstyle: \n",
      "The keymap.all_axes rcparam was deprecated in Matplotlib 3.3 and will be removed two minor releases later.\n",
      "In C:\\Users\\charles.fieseler\\Anaconda3\\envs\\DLC-for-WBFM\\lib\\site-packages\\matplotlib\\mpl-data\\stylelib\\_classic_test.mplstyle: \n",
      "The animation.avconv_path rcparam was deprecated in Matplotlib 3.3 and will be removed two minor releases later.\n",
      "In C:\\Users\\charles.fieseler\\Anaconda3\\envs\\DLC-for-WBFM\\lib\\site-packages\\matplotlib\\mpl-data\\stylelib\\_classic_test.mplstyle: \n",
      "The animation.avconv_args rcparam was deprecated in Matplotlib 3.3 and will be removed two minor releases later.\n",
      "Unable to load numpy_formathandler accelerator from OpenGL_accelerate\n"
     ]
    }
   ],
   "source": [
    "import zarr\n",
    "import napari\n",
    "import pandas as pd\n",
    "import matplotlib.pyplot as plt\n",
    "import numpy as np\n",
    "import seaborn as sns\n",
    "import os\n",
    "\n",
    "fname = r\"Y:\\shared_projects\\wbfm\\dlc_stacks\\Charlie-worm3-long\\4-traces\\reindexed_masks.zarr\"\n",
    "seg = zarr.open(fname)\n",
    "fname = r\"Y:\\shared_projects\\wbfm\\dat\\ZIM2051\\2021-03-04_16-07-57_worm3_ZIM2051\\2021-03-04_16-07-57_worm3_ZIM2051-channel-1-pco_camera2\\2021-03-04_16-07-57_worm3_ZIM2051-channel-1-pco_camera2bigtiff.zarr\"\n",
    "dat_green = zarr.open(fname) #np.fliplr(zarr.open(fname))\n",
    "\n",
    "fname = r\"Y:\\shared_projects\\wbfm\\dat\\ZIM2051\\2021-03-04_16-07-57_worm3_ZIM2051\\2021-03-04_16-07-57_worm3_ZIM2051-channel-0-pco_camera1\\2021-03-04_16-07-57_worm3_ZIM2051-channel-0-pco_camera1bigtiff.zarr\"\n",
    "dat_red = zarr.open(fname)\n",
    "# cmap = {i+1:'gray' for i in range(5000)}\n",
    "viewer = napari.view_labels(seg, ndisplay=3);\n",
    "viewer.add_image(dat_red);\n",
    "viewer.add_image(dat_green);"
   ]
  },
  {
   "cell_type": "code",
   "execution_count": 13,
   "id": "eefebf94-b18d-4ec3-b2b3-87a01cd910cf",
   "metadata": {},
   "outputs": [],
   "source": [
    "\n",
    "fname = r\"Y:\\shared_projects\\wbfm\\dat\\ZIM2051\\2021-03-04_16-07-57_worm3_ZIM2051\\2021-03-04_16-07-57_worm3_ZIM2051-channel-1-pco_camera2\\2021-03-04_16-07-57_worm3_ZIM2051-channel-1-pco_camera2bigtiff.zarr\"\n",
    "dat_green = zarr.open(fname) #np.fliplr(zarr.open(fname))\n",
    "\n",
    "fname = r\"Y:\\shared_projects\\wbfm\\dat\\ZIM2051\\2021-03-04_16-07-57_worm3_ZIM2051\\2021-03-04_16-07-57_worm3_ZIM2051-channel-0-pco_camera1\\2021-03-04_16-07-57_worm3_ZIM2051-channel-0-pco_camera1bigtiff.zarr\"\n",
    "dat_red = zarr.open(fname)\n",
    "\n",
    "g1 = dat_green[10:20,...]\n",
    "r1 = dat_red[10:20,...]\n",
    "ratio_image = r1 / (g1+10)\n",
    "\n",
    "# cmap = {i+1:'gray' for i in range(5000)}\n",
    "viewer = napari.view_image(ratio_image);"
   ]
  },
  {
   "cell_type": "code",
   "execution_count": 10,
   "id": "5a62bd8e-01e1-41c5-8d24-48fc7d07567c",
   "metadata": {},
   "outputs": [
    {
     "data": {
      "text/plain": [
       "array([[[0, 0, 0, ..., 0, 0, 0],\n",
       "        [0, 0, 0, ..., 0, 0, 0],\n",
       "        [0, 0, 0, ..., 0, 0, 0],\n",
       "        ...,\n",
       "        [0, 0, 0, ..., 0, 0, 0],\n",
       "        [0, 0, 0, ..., 0, 0, 0],\n",
       "        [0, 0, 0, ..., 0, 0, 0]],\n",
       "\n",
       "       [[0, 0, 0, ..., 0, 0, 0],\n",
       "        [0, 0, 0, ..., 0, 0, 0],\n",
       "        [0, 0, 0, ..., 0, 0, 0],\n",
       "        ...,\n",
       "        [0, 0, 0, ..., 0, 0, 0],\n",
       "        [0, 0, 0, ..., 0, 0, 0],\n",
       "        [0, 0, 0, ..., 0, 0, 0]],\n",
       "\n",
       "       [[0, 0, 0, ..., 0, 0, 0],\n",
       "        [0, 0, 0, ..., 0, 0, 0],\n",
       "        [0, 0, 0, ..., 0, 0, 0],\n",
       "        ...,\n",
       "        [0, 0, 0, ..., 0, 0, 0],\n",
       "        [0, 0, 0, ..., 0, 0, 0],\n",
       "        [0, 0, 0, ..., 0, 0, 0]],\n",
       "\n",
       "       ...,\n",
       "\n",
       "       [[0, 0, 0, ..., 0, 0, 0],\n",
       "        [0, 0, 0, ..., 0, 0, 0],\n",
       "        [0, 0, 0, ..., 0, 0, 0],\n",
       "        ...,\n",
       "        [0, 0, 0, ..., 0, 0, 0],\n",
       "        [0, 0, 0, ..., 0, 0, 0],\n",
       "        [0, 0, 0, ..., 0, 0, 0]],\n",
       "\n",
       "       [[0, 0, 0, ..., 0, 0, 0],\n",
       "        [0, 0, 0, ..., 0, 0, 0],\n",
       "        [0, 0, 0, ..., 0, 0, 0],\n",
       "        ...,\n",
       "        [0, 0, 0, ..., 0, 0, 0],\n",
       "        [0, 0, 0, ..., 0, 0, 0],\n",
       "        [0, 0, 0, ..., 0, 0, 0]],\n",
       "\n",
       "       [[0, 0, 0, ..., 0, 0, 0],\n",
       "        [0, 0, 0, ..., 0, 0, 0],\n",
       "        [0, 0, 0, ..., 0, 0, 0],\n",
       "        ...,\n",
       "        [0, 0, 0, ..., 0, 0, 0],\n",
       "        [0, 0, 0, ..., 0, 0, 0],\n",
       "        [0, 0, 0, ..., 0, 0, 0]]], dtype=uint8)"
      ]
     },
     "execution_count": 10,
     "metadata": {},
     "output_type": "execute_result"
    }
   ],
   "source": [
    "g1"
   ]
  },
  {
   "cell_type": "code",
   "execution_count": null,
   "id": "b690539f-e7b7-454d-ab96-584729689103",
   "metadata": {},
   "outputs": [],
   "source": []
  }
 ],
 "metadata": {
  "kernelspec": {
   "display_name": "Python [conda env:DLC-for-WBFM]",
   "language": "python",
   "name": "conda-env-DLC-for-WBFM-py"
  },
  "language_info": {
   "codemirror_mode": {
    "name": "ipython",
    "version": 3
   },
   "file_extension": ".py",
   "mimetype": "text/x-python",
   "name": "python",
   "nbconvert_exporter": "python",
   "pygments_lexer": "ipython3",
   "version": "3.7.10"
  }
 },
 "nbformat": 4,
 "nbformat_minor": 5
}
