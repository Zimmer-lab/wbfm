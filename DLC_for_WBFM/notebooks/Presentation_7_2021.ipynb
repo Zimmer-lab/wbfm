{
 "cells": [
  {
   "cell_type": "code",
   "execution_count": 1,
   "id": "bab83012-012a-462c-9ff4-26e563bfd846",
   "metadata": {},
   "outputs": [],
   "source": [
    "import zarr\n",
    "import napari"
   ]
  },
  {
   "cell_type": "markdown",
   "id": "fc88913c-e76d-4a45-a331-4715c8db63b9",
   "metadata": {},
   "source": [
    "# Immobilized"
   ]
  },
  {
   "cell_type": "markdown",
   "id": "111fb678-1d31-45a9-a384-4d6a1ff3d720",
   "metadata": {},
   "source": [
    "## Segmentation"
   ]
  },
  {
   "cell_type": "code",
   "execution_count": 13,
   "id": "1652b8a7-50a0-4174-85d3-518f2028bbbc",
   "metadata": {},
   "outputs": [],
   "source": [
    "fname = r\"Y:\\shared_projects\\wbfm\\dlc_stacks\\Charlie-immobilized-long\\1-segmentation\\masks_4500.zarr\"\n",
    "z = zarr.open(fname)\n",
    "cmap = {i+1:'gray' for i in range(5000)}\n",
    "napari.view_labels(z, ndisplay=3, color=cmap);"
   ]
  },
  {
   "cell_type": "markdown",
   "id": "afddc09c-bd93-4804-8ab2-405c32e45c04",
   "metadata": {},
   "source": [
    "## Training data"
   ]
  },
  {
   "cell_type": "code",
   "execution_count": 9,
   "id": "7eea57df-ecd1-4349-b2c9-66426f0dd2c0",
   "metadata": {},
   "outputs": [],
   "source": [
    "fname = r\"Y:\\shared_projects\\wbfm\\dlc_stacks\\Charlie-immobilized-long\\2-training_data\\reindexed_segmentation.zarr\"\n",
    "z = zarr.open(fname)\n",
    "napari.view_labels(z, ndisplay=3);"
   ]
  },
  {
   "cell_type": "markdown",
   "id": "05986cc2-30bb-4385-8bac-9d4a8512a257",
   "metadata": {},
   "source": [
    "## Tracking"
   ]
  },
  {
   "cell_type": "code",
   "execution_count": 10,
   "id": "2b600688-e50e-4a59-8781-fc975e3751bc",
   "metadata": {},
   "outputs": [],
   "source": [
    "fname = r\"Y:\\shared_projects\\wbfm\\dlc_stacks\\Charlie-immobilized-long\\3-tracking\\segmentation_from_tracking.zarr\"\n",
    "z = zarr.open(fname)\n",
    "napari.view_labels(z, ndisplay=3);"
   ]
  },
  {
   "cell_type": "markdown",
   "id": "ab4e4176-2402-4316-a1e8-6e6633249d49",
   "metadata": {},
   "source": [
    "## Final Matches"
   ]
  },
  {
   "cell_type": "code",
   "execution_count": 11,
   "id": "c37b04a0-5921-4dda-bab4-76a2950610f8",
   "metadata": {},
   "outputs": [],
   "source": [
    "fname = r\"Y:\\shared_projects\\wbfm\\dlc_stacks\\Charlie-immobilized-long\\4-traces\\reindexed_masks.zarr\"\n",
    "z = zarr.open(fname)\n",
    "napari.view_labels(z, ndisplay=3);"
   ]
  },
  {
   "cell_type": "code",
   "execution_count": null,
   "id": "e9e2de88-57fb-4764-b795-0d1fc77e35cf",
   "metadata": {},
   "outputs": [],
   "source": []
  }
 ],
 "metadata": {
  "kernelspec": {
   "display_name": "Python [conda env:DLC-for-WBFM] *",
   "language": "python",
   "name": "conda-env-DLC-for-WBFM-py"
  },
  "language_info": {
   "codemirror_mode": {
    "name": "ipython",
    "version": 3
   },
   "file_extension": ".py",
   "mimetype": "text/x-python",
   "name": "python",
   "nbconvert_exporter": "python",
   "pygments_lexer": "ipython3",
   "version": "3.7.10"
  }
 },
 "nbformat": 4,
 "nbformat_minor": 5
}
