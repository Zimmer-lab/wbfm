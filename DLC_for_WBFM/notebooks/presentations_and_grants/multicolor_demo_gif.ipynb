{
 "cells": [
  {
   "cell_type": "code",
   "execution_count": 6,
   "id": "387d6994-dd1c-48a0-8fc5-c7b799e4d91a",
   "metadata": {},
   "outputs": [
    {
     "name": "stdout",
     "output_type": "stream",
     "text": [
      "The autoreload extension is already loaded. To reload it, use:\n",
      "  %reload_ext autoreload\n"
     ]
    }
   ],
   "source": [
    "%load_ext autoreload\n",
    "%autoreload 2\n",
    "import matplotlib.pyplot as plt\n",
    "from DLC_for_WBFM.utils.projects.finished_project_data import ProjectData\n",
    "import napari\n",
    "import pandas as pd\n",
    "import numpy as np\n",
    "from DLC_for_WBFM.gui.utils.utils_gui import build_tracks_from_dataframe"
   ]
  },
  {
   "cell_type": "code",
   "execution_count": 2,
   "id": "d8f8dafa-aa64-4dbc-bb6c-5cd3caed4db8",
   "metadata": {},
   "outputs": [
    {
     "name": "stderr",
     "output_type": "stream",
     "text": [
      "WARNING:root:Did not find file /scratch/zimmer/Charles/dlc_stacks/worm3-2021_09_29/2-training_data/training_data_tracks.h5\n",
      "WARNING:root:Not using most recently modified file (mode wiggle)\n",
      "WARNING:root:Not using most recently modified file (mode automatic)\n"
     ]
    },
    {
     "name": "stdout",
     "output_type": "stream",
     "text": [
      "Original fname /home/charles/dlc_stacks/worm3-tracklet_wiggle/3-tracking/manual_annotation/global2tracklet_manual-4.pickle exists, so will be suffixed\n",
      "Removed suffix -4, so the basename is taken as: global2tracklet_manual\n",
      "Original fname /home/charles/dlc_stacks/worm3-tracklet_wiggle/3-tracking/manual_annotation/manually_split_tracklets-4.h5 exists, so will be suffixed\n",
      "Removed suffix -4, so the basename is taken as: manually_split_tracklets\n",
      "Output files for annotator: /home/charles/dlc_stacks/worm3-tracklet_wiggle/3-tracking/manual_annotation/global2tracklet_manual-4.pickle, /home/charles/dlc_stacks/worm3-tracklet_wiggle/3-tracking/manual_annotation/manually_split_tracklets-4.h5, /home/charles/dlc_stacks/worm3-tracklet_wiggle/3-tracking/manual_annotation/split_names.pickle, /home/charles/dlc_stacks/worm3-tracklet_wiggle/3-tracking/manual_annotation/split_times.pickle\n",
      "=======================================\n",
      "Project data for directory:\n",
      "/home/charles/dlc_stacks/worm3-tracklet_wiggle \n",
      "Found the following data files:\n",
      "============Raw========================\n",
      "red_data:                 True\n",
      "green_data:               True\n",
      "============Annotations================\n",
      "behavior_annotations:     True\n",
      "============Training================\n",
      "df_training_tracklets:    False\n",
      "============Segmentation===============\n",
      "raw_segmentation:         True\n",
      "colored_segmentation:     True\n",
      "============Traces=====================\n",
      "red_traces:               True\n",
      "green_traces:             True\n",
      "\n"
     ]
    }
   ],
   "source": [
    "fname = \"/home/charles/dlc_stacks/worm3-tracklet_wiggle/project_config.yaml\"\n",
    "project_data = ProjectData.load_final_project_data_from_config(fname, to_load_tracklets=True, to_load_segmentation_metadata=True)"
   ]
  },
  {
   "cell_type": "markdown",
   "id": "19be24bc-f26a-451b-be16-c366d0147566",
   "metadata": {},
   "source": [
    "# Open a napari window, and add a multi-color track to it"
   ]
  },
  {
   "cell_type": "code",
   "execution_count": 7,
   "id": "1bd6712d-a301-43c3-9339-46a8d7a3ce48",
   "metadata": {},
   "outputs": [],
   "source": [
    "df = project_data.final_tracks"
   ]
  },
  {
   "cell_type": "code",
   "execution_count": 27,
   "id": "b4e53742-7bbf-4567-a049-52acd9dbb364",
   "metadata": {},
   "outputs": [],
   "source": [
    "likelihood_threshold = 0.0\n",
    "\n",
    "all_names = ['neuron_001', 'neuron_040', 'neuron_047', 'neuron_016', 'neuron_058', 'neuron_033', 'neuron_014', 'neuron_058']\n",
    "\n",
    "all_tracks = []\n",
    "\n",
    "for i, name in enumerate(all_names):\n",
    "    df_single_track = df[name]\n",
    "    _, track_of_point, to_remove = build_tracks_from_dataframe(df_single_track, likelihood_threshold)\n",
    "    \n",
    "    track_of_point[:, 0] *= i\n",
    "    \n",
    "    all_tracks.append(track_of_point)\n",
    "\n",
    "all_tracks = np.vstack(all_tracks)"
   ]
  },
  {
   "cell_type": "code",
   "execution_count": 35,
   "id": "9b99beee-7cc4-4342-aed6-aa29d50400fe",
   "metadata": {
    "collapsed": true,
    "jupyter": {
     "outputs_hidden": true
    },
    "tags": []
   },
   "outputs": [
    {
     "name": "stderr",
     "output_type": "stream",
     "text": [
      "/home/charles/anaconda3/envs/torch/lib/python3.7/site-packages/napari/plugins/_plugin_manager.py:510: UserWarning: Plugin 'napari-animated-gif-io' has already registered a function widget 'save as animated gif' which has now been overwritten\n",
      "  warn(message=warn_message)\n",
      "ERROR:tornado.general:Uncaught exception in ZMQStream callback\n",
      "Traceback (most recent call last):\n",
      "  File \"/home/charles/anaconda3/envs/torch/lib/python3.7/site-packages/zmq/eventloop/zmqstream.py\", line 431, in _run_callback\n",
      "    callback(*args, **kwargs)\n",
      "  File \"/home/charles/anaconda3/envs/torch/lib/python3.7/site-packages/jupyter_client/threaded.py\", line 121, in _handle_recv\n",
      "    msg_list = self.ioloop._asyncio_event_loop.run_until_complete(get_msg(future_msg))\n",
      "  File \"/home/charles/anaconda3/envs/torch/lib/python3.7/asyncio/base_events.py\", line 563, in run_until_complete\n",
      "    self._check_runnung()\n",
      "  File \"/home/charles/anaconda3/envs/torch/lib/python3.7/asyncio/base_events.py\", line 526, in _check_runnung\n",
      "    'Cannot run the event loop while another loop is running')\n",
      "RuntimeError: Cannot run the event loop while another loop is running\n",
      "ERROR:tornado.general:Uncaught exception in ZMQStream callback\n",
      "Traceback (most recent call last):\n",
      "  File \"/home/charles/anaconda3/envs/torch/lib/python3.7/site-packages/zmq/eventloop/zmqstream.py\", line 431, in _run_callback\n",
      "    callback(*args, **kwargs)\n",
      "  File \"/home/charles/anaconda3/envs/torch/lib/python3.7/site-packages/jupyter_client/threaded.py\", line 121, in _handle_recv\n",
      "    msg_list = self.ioloop._asyncio_event_loop.run_until_complete(get_msg(future_msg))\n",
      "  File \"/home/charles/anaconda3/envs/torch/lib/python3.7/asyncio/base_events.py\", line 563, in run_until_complete\n",
      "    self._check_runnung()\n",
      "  File \"/home/charles/anaconda3/envs/torch/lib/python3.7/asyncio/base_events.py\", line 526, in _check_runnung\n",
      "    'Cannot run the event loop while another loop is running')\n",
      "RuntimeError: Cannot run the event loop while another loop is running\n",
      "ERROR:tornado.general:Uncaught exception in zmqstream callback\n",
      "Traceback (most recent call last):\n",
      "  File \"/home/charles/anaconda3/envs/torch/lib/python3.7/site-packages/zmq/eventloop/zmqstream.py\", line 448, in _handle_events\n",
      "    self._handle_recv()\n",
      "  File \"/home/charles/anaconda3/envs/torch/lib/python3.7/site-packages/zmq/eventloop/zmqstream.py\", line 477, in _handle_recv\n",
      "    self._run_callback(callback, msg)\n",
      "  File \"/home/charles/anaconda3/envs/torch/lib/python3.7/site-packages/zmq/eventloop/zmqstream.py\", line 431, in _run_callback\n",
      "    callback(*args, **kwargs)\n",
      "  File \"/home/charles/anaconda3/envs/torch/lib/python3.7/site-packages/jupyter_client/threaded.py\", line 121, in _handle_recv\n",
      "    msg_list = self.ioloop._asyncio_event_loop.run_until_complete(get_msg(future_msg))\n",
      "  File \"/home/charles/anaconda3/envs/torch/lib/python3.7/asyncio/base_events.py\", line 563, in run_until_complete\n",
      "    self._check_runnung()\n",
      "  File \"/home/charles/anaconda3/envs/torch/lib/python3.7/asyncio/base_events.py\", line 526, in _check_runnung\n",
      "    'Cannot run the event loop while another loop is running')\n",
      "RuntimeError: Cannot run the event loop while another loop is running\n",
      "ERROR:tornado.general:Uncaught exception in zmqstream callback\n",
      "Traceback (most recent call last):\n",
      "  File \"/home/charles/anaconda3/envs/torch/lib/python3.7/site-packages/zmq/eventloop/zmqstream.py\", line 448, in _handle_events\n",
      "    self._handle_recv()\n",
      "  File \"/home/charles/anaconda3/envs/torch/lib/python3.7/site-packages/zmq/eventloop/zmqstream.py\", line 477, in _handle_recv\n",
      "    self._run_callback(callback, msg)\n",
      "  File \"/home/charles/anaconda3/envs/torch/lib/python3.7/site-packages/zmq/eventloop/zmqstream.py\", line 431, in _run_callback\n",
      "    callback(*args, **kwargs)\n",
      "  File \"/home/charles/anaconda3/envs/torch/lib/python3.7/site-packages/jupyter_client/threaded.py\", line 121, in _handle_recv\n",
      "    msg_list = self.ioloop._asyncio_event_loop.run_until_complete(get_msg(future_msg))\n",
      "  File \"/home/charles/anaconda3/envs/torch/lib/python3.7/asyncio/base_events.py\", line 563, in run_until_complete\n",
      "    self._check_runnung()\n",
      "  File \"/home/charles/anaconda3/envs/torch/lib/python3.7/asyncio/base_events.py\", line 526, in _check_runnung\n",
      "    'Cannot run the event loop while another loop is running')\n",
      "RuntimeError: Cannot run the event loop while another loop is running\n",
      "ERROR:asyncio:Exception in callback BaseAsyncIOLoop._handle_events(483, 1)\n",
      "handle: <Handle BaseAsyncIOLoop._handle_events(483, 1)>\n",
      "Traceback (most recent call last):\n",
      "  File \"/home/charles/anaconda3/envs/torch/lib/python3.7/asyncio/events.py\", line 88, in _run\n",
      "    self._context.run(self._callback, *self._args)\n",
      "  File \"/home/charles/anaconda3/envs/torch/lib/python3.7/site-packages/tornado/platform/asyncio.py\", line 189, in _handle_events\n",
      "    handler_func(fileobj, events)\n",
      "  File \"/home/charles/anaconda3/envs/torch/lib/python3.7/site-packages/zmq/eventloop/zmqstream.py\", line 448, in _handle_events\n",
      "    self._handle_recv()\n",
      "  File \"/home/charles/anaconda3/envs/torch/lib/python3.7/site-packages/zmq/eventloop/zmqstream.py\", line 477, in _handle_recv\n",
      "    self._run_callback(callback, msg)\n",
      "  File \"/home/charles/anaconda3/envs/torch/lib/python3.7/site-packages/zmq/eventloop/zmqstream.py\", line 431, in _run_callback\n",
      "    callback(*args, **kwargs)\n",
      "  File \"/home/charles/anaconda3/envs/torch/lib/python3.7/site-packages/jupyter_client/threaded.py\", line 121, in _handle_recv\n",
      "    msg_list = self.ioloop._asyncio_event_loop.run_until_complete(get_msg(future_msg))\n",
      "  File \"/home/charles/anaconda3/envs/torch/lib/python3.7/asyncio/base_events.py\", line 563, in run_until_complete\n",
      "    self._check_runnung()\n",
      "  File \"/home/charles/anaconda3/envs/torch/lib/python3.7/asyncio/base_events.py\", line 526, in _check_runnung\n",
      "    'Cannot run the event loop while another loop is running')\n",
      "RuntimeError: Cannot run the event loop while another loop is running\n",
      "/home/charles/anaconda3/envs/torch/lib/python3.7/site-packages/napari/utils/events/event.py:870: RuntimeWarning: coroutine 'get_msg' was never awaited\n",
      "  emitter.connect((self.source, self.auto_connect_format % name))\n",
      "RuntimeWarning: Enable tracemalloc to get the object allocation traceback\n"
     ]
    },
    {
     "data": {
      "text/plain": [
       "<Tracks layer 'all_tracks' at 0x7eff16105e10>"
      ]
     },
     "execution_count": 35,
     "metadata": {},
     "output_type": "execute_result"
    }
   ],
   "source": [
    "v = napari.Viewer(ndisplay=3)\n",
    "\n",
    "clipping_list = [{'position': [2, 0, 0], 'normal': [1, 0, 0], 'enabled': True}]\n",
    "    \n",
    "v.add_image(project_data.red_data, contrast_limits=[0, 150],\n",
    "                             experimental_clipping_planes=clipping_list)\n",
    "v.add_tracks(all_tracks, blending='opaque', colormap='hsv')"
   ]
  },
  {
   "cell_type": "code",
   "execution_count": 40,
   "id": "708136a0-efce-4e26-8f54-580fa741f572",
   "metadata": {
    "tags": []
   },
   "outputs": [
    {
     "name": "stdout",
     "output_type": "stream",
     "text": [
      "napari_screenshots/frame_19.png\n",
      "napari_screenshots/frame_20.png\n",
      "napari_screenshots/frame_21.png\n",
      "napari_screenshots/frame_22.png\n",
      "napari_screenshots/frame_23.png\n",
      "napari_screenshots/frame_24.png\n"
     ]
    }
   ],
   "source": [
    "out_folder = 'napari_screenshots'\n",
    "import os\n",
    "from DLC_for_WBFM.gui.utils.utils_gui import change_viewer_time_point\n",
    "\n",
    "\n",
    "for i in range(19, 25):\n",
    "    change_viewer_time_point(v, t_target=i)\n",
    "    out_fname = os.path.join(out_folder, f\"frame_{i:02d}.png\")\n",
    "    print(out_fname)\n",
    "    v.screenshot(out_fname)"
   ]
  },
  {
   "cell_type": "code",
   "execution_count": 16,
   "id": "8c06dc92-1b3f-478d-8502-d41a835cc753",
   "metadata": {},
   "outputs": [
    {
     "data": {
      "text/plain": [
       "<Tracks layer 'all_tracks' at 0x7eff1ce19dd0>"
      ]
     },
     "execution_count": 16,
     "metadata": {},
     "output_type": "execute_result"
    }
   ],
   "source": []
  },
  {
   "cell_type": "code",
   "execution_count": 38,
   "id": "e7770717-d00f-46d2-bed0-bfed8a68337d",
   "metadata": {},
   "outputs": [],
   "source": [
    "# project_data.napari_of_single_match((0,1))"
   ]
  },
  {
   "cell_type": "markdown",
   "id": "ba744a32-8c02-4603-a40c-86335bd3a5fe",
   "metadata": {},
   "source": [
    "# Scratch"
   ]
  },
  {
   "cell_type": "code",
   "execution_count": 41,
   "id": "852c3deb-c43e-4f41-a7b0-de2cb836ec86",
   "metadata": {},
   "outputs": [],
   "source": [
    "import numpy as np"
   ]
  },
  {
   "cell_type": "code",
   "execution_count": 47,
   "id": "ad812f49-714d-4155-a3f8-13f41d93176d",
   "metadata": {},
   "outputs": [],
   "source": [
    "x0 = np.random.randn(5, 3)"
   ]
  },
  {
   "cell_type": "code",
   "execution_count": 55,
   "id": "260601cf-00d0-4bb0-b1c9-53b16d7f52b3",
   "metadata": {},
   "outputs": [
    {
     "data": {
      "text/plain": [
       "array([[ 0.793754  , -0.57832857, -1.79579661],\n",
       "       [ 1.36244983,  0.76343309,  1.361672  ],\n",
       "       [-1.94063748,  0.49934255,  0.80826693],\n",
       "       [ 0.71740934, -0.35356236,  0.84598824],\n",
       "       [ 0.31076835, -1.13739263,  0.72913414]])"
      ]
     },
     "execution_count": 55,
     "metadata": {},
     "output_type": "execute_result"
    }
   ],
   "source": [
    "x0 * (1 + 0.2*np.random.randn(x0.shape[0], x0.shape[1]))"
   ]
  },
  {
   "cell_type": "code",
   "execution_count": 49,
   "id": "3d271a34-8729-43dc-87e1-c31ae58fd54f",
   "metadata": {},
   "outputs": [
    {
     "data": {
      "text/plain": [
       "array([[ 0.77754183, -0.73812383, -1.74083183],\n",
       "       [ 1.33632257,  0.73607234,  1.24214819],\n",
       "       [-1.64064652,  0.38575689,  1.02203224],\n",
       "       [ 0.89830847, -0.32224886,  0.75510837],\n",
       "       [ 0.29947215, -0.84569445,  0.5124928 ]])"
      ]
     },
     "execution_count": 49,
     "metadata": {},
     "output_type": "execute_result"
    }
   ],
   "source": [
    "x0"
   ]
  },
  {
   "cell_type": "code",
   "execution_count": null,
   "id": "1c944722-a58c-4472-b186-42d1a3757a58",
   "metadata": {},
   "outputs": [],
   "source": []
  }
 ],
 "metadata": {
  "kernelspec": {
   "display_name": "Python 3 (ipykernel)",
   "language": "python",
   "name": "python3"
  },
  "language_info": {
   "codemirror_mode": {
    "name": "ipython",
    "version": 3
   },
   "file_extension": ".py",
   "mimetype": "text/x-python",
   "name": "python",
   "nbconvert_exporter": "python",
   "pygments_lexer": "ipython3",
   "version": "3.7.11"
  }
 },
 "nbformat": 4,
 "nbformat_minor": 5
}
