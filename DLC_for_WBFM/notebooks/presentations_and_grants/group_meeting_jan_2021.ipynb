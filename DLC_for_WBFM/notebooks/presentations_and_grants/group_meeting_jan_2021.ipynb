{
 "cells": [
  {
   "cell_type": "markdown",
   "id": "401c6d50-49c5-4bd1-8583-e4bd128a1d65",
   "metadata": {},
   "source": [
    "# Several quite different sections"
   ]
  },
  {
   "cell_type": "code",
   "execution_count": 2,
   "id": "20a3fede-f2d2-4ef3-803d-44d06fa94d03",
   "metadata": {},
   "outputs": [
    {
     "name": "stdout",
     "output_type": "stream",
     "text": [
      "The autoreload extension is already loaded. To reload it, use:\n",
      "  %reload_ext autoreload\n"
     ]
    }
   ],
   "source": [
    "%load_ext autoreload\n",
    "%autoreload 2\n",
    "import matplotlib.pyplot as plt\n",
    "from DLC_for_WBFM.utils.projects.finished_project_data import ProjectData\n",
    "import napari\n",
    "from DLC_for_WBFM.utils.projects.utils_neuron_names import int2name_neuron\n",
    "from collections import defaultdict\n",
    "from tqdm.auto import tqdm\n",
    "import seaborn as sns\n",
    "import numpy as np\n",
    "import pandas as pd"
   ]
  },
  {
   "cell_type": "code",
   "execution_count": 5,
   "id": "d3390b1e-22ef-44c4-8739-36efb20b0585",
   "metadata": {},
   "outputs": [
    {
     "name": "stderr",
     "output_type": "stream",
     "text": [
      "WARNING:root:Did not find file /home/charles/dlc_stacks/worm3-newseg-2021_11_17/2-training_data/training_data_tracks.h5\n"
     ]
    },
    {
     "name": "stdout",
     "output_type": "stream",
     "text": [
      "=======================================\n",
      "Project data for directory:\n",
      "/home/charles/dlc_stacks/worm3-newseg-2021_11_17 \n",
      "=======================================\n",
      "Found the following raw data files:\n",
      "red_data: True\n",
      "green_data: True\n",
      "============Segmentation===============\n",
      "raw_segmentation: True\n",
      "segmentation: True\n",
      "============Tracklets==================\n",
      "df_training_tracklets: False\n",
      "reindexed_masks_training: True\n",
      "============Traces=====================\n",
      "red_traces: True\n",
      "green_traces: True\n",
      "final_tracks: True\n",
      "behavior_annotations: True\n",
      "\n"
     ]
    }
   ],
   "source": [
    "# fname = \"/scratch/zimmer/Charles/dlc_stacks/worm3-tracklet_wiggle/project_config.yaml\"\n",
    "# fname = \"/home/charles/dlc_stacks/worm3-newseg-2021_11_17/project_config.yaml\"\n",
    "fname = \"/home/charles/dlc_stacks/worm3-tracklet_wiggle/project_config.yaml\"\n",
    "\n",
    "project_data = ProjectData.load_final_project_data_from_config(fname)"
   ]
  },
  {
   "cell_type": "markdown",
   "id": "b2137129-b297-4b5a-a45d-43fb00731933",
   "metadata": {},
   "source": [
    "# Accuracy of leifer method (fdnc)"
   ]
  },
  {
   "cell_type": "code",
   "execution_count": null,
   "id": "ef8b4ab9-da09-4e75-85da-940fb6302e95",
   "metadata": {},
   "outputs": [],
   "source": [
    "from DLC_for_WBFM.utils.performance.comparing_ground_truth import calc_all_dist, calc_accuracy"
   ]
  },
  {
   "cell_type": "code",
   "execution_count": 6,
   "id": "2d5f394b-edb4-4d78-9754-d69b2f3422b1",
   "metadata": {},
   "outputs": [],
   "source": [
    "track_cfg = project_data.project_config.get_tracking_config()\n",
    "fname = track_cfg.resolve_relative_path_from_config('final_3d_tracks_df')\n",
    "\n",
    "df_tracks = pd.read_hdf(fname)\n",
    "df_tracks.replace(0.0, np.nan, inplace=True)"
   ]
  },
  {
   "cell_type": "code",
   "execution_count": 7,
   "id": "91d04a86-491f-40a0-8b3f-ddf4ab9aeec0",
   "metadata": {},
   "outputs": [],
   "source": [
    "# From different project, but same templates\n",
    "# ... note that I manually moved this off the cluster\n",
    "# fname = \"/scratch/zimmer/Charles/dlc_stacks/worm3-multiple_templates/3-tracking/postprocessing/leifer_tracks.h5\"\n",
    "fname = \"/home/charles/dlc_stacks/worm3-multiple_templates/3-tracking/postprocessing/leifer_tracks.h5\"\n",
    "\n",
    "df_leifer = pd.read_hdf(fname)\n",
    "df_leifer.replace(0.0, np.nan, inplace=True)"
   ]
  },
  {
   "cell_type": "code",
   "execution_count": null,
   "id": "9a73f847-edcb-4339-9a2f-40b03888ed62",
   "metadata": {},
   "outputs": [],
   "source": []
  }
 ],
 "metadata": {
  "kernelspec": {
   "display_name": "Python 3 (ipykernel)",
   "language": "python",
   "name": "python3"
  },
  "language_info": {
   "codemirror_mode": {
    "name": "ipython",
    "version": 3
   },
   "file_extension": ".py",
   "mimetype": "text/x-python",
   "name": "python",
   "nbconvert_exporter": "python",
   "pygments_lexer": "ipython3",
   "version": "3.7.11"
  }
 },
 "nbformat": 4,
 "nbformat_minor": 5
}
