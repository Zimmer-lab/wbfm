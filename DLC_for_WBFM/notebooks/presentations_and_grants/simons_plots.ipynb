{
 "cells": [
  {
   "cell_type": "markdown",
   "id": "fcd1c170-b82e-42d4-a8ec-d09b2c13d66f",
   "metadata": {},
   "source": [
    "# Simons plots: segmentation"
   ]
  },
  {
   "cell_type": "code",
   "execution_count": 27,
   "id": "94e7155e-4cb0-4661-ac02-e4c5368d0b45",
   "metadata": {},
   "outputs": [],
   "source": [
    "from wbfm.utils.projects.finished_project_data import finished_project_data\n",
    "import numpy as np\n",
    "import tifffile\n",
    "import matplotlib.pyplot as plt\n",
    "import napari, zarr"
   ]
  },
  {
   "cell_type": "code",
   "execution_count": 28,
   "id": "c5f26119-6959-44eb-8116-3a562e50fe62",
   "metadata": {},
   "outputs": [],
   "source": [
    "fname = \"/project/neurobiology/zimmer/wbfm/dlc_stacks_updated/Charlie-worm3-new-seg/project_config.yaml\"\n",
    "dat_worm3 = finished_project_data.load_final_project_data_from_config(fname)\n",
    "\n",
    "fname = \"/project/neurobiology/zimmer/wbfm/dlc_stacks_updated/Charlie-worm3-new-seg/project_config.yaml\"\n",
    "dat_gfp = finished_project_data.load_final_project_data_from_config(fname)"
   ]
  },
  {
   "cell_type": "markdown",
   "id": "1b877464-81d9-4534-8565-3d8f5fea2ac9",
   "metadata": {},
   "source": [
    "# Just look at it"
   ]
  },
  {
   "cell_type": "code",
   "execution_count": 32,
   "id": "701e30ac-4f44-4015-b1ce-253484b43c17",
   "metadata": {},
   "outputs": [
    {
     "data": {
      "text/plain": [
       "(3000, 32, 700, 900)"
      ]
     },
     "execution_count": 32,
     "metadata": {},
     "output_type": "execute_result"
    }
   ],
   "source": [
    "\n",
    "fname = \"/project/neurobiology/zimmer/wbfm/dat/ZIM2278_GFP_Control/2021-03-04_14-53-15_worm2_ZIM2278_low/2021-03-04_14-53-15_worm2_ZIM2278_low-channel-0-pco_camera1/gfp_red.zarr\"\n",
    "dat = zarr.open(fname)\n",
    "dat.shape"
   ]
  },
  {
   "cell_type": "markdown",
   "id": "531cfa04-520a-4fe3-8080-f3a505ed9a9b",
   "metadata": {},
   "source": [
    "# Example segmentations (3d)"
   ]
  },
  {
   "cell_type": "code",
   "execution_count": 29,
   "id": "cac44949-ace0-4cea-a234-66b23ead22e2",
   "metadata": {},
   "outputs": [],
   "source": []
  },
  {
   "cell_type": "code",
   "execution_count": 8,
   "id": "badfba62-00c5-4680-83a3-861dcb05425a",
   "metadata": {},
   "outputs": [
    {
     "data": {
      "text/plain": [
       "<Image layer 'dat' at 0x7f56c3b67490>"
      ]
     },
     "execution_count": 8,
     "metadata": {},
     "output_type": "execute_result"
    }
   ],
   "source": [
    "# # First, the watershed based segmentation\n",
    "# # seg = zarr.open(fname)\n",
    "# seg = dat_gfp.raw_segmentation\n",
    "# # dat = dat_gfp.red_data\n",
    "# fname = \"/project/neurobiology/zimmer/wbfm/dat/ZIM2278_GFP_Control/2021-03-04_14-53-15_worm2_ZIM2278_low/2021-03-04_14-53-15_worm2_ZIM2278_low-channel-0-pco_camera1/gfp_red.zarr\"\n",
    "# dat = zarr.open(fname)\n",
    "\n",
    "# v = napari.view_labels(seg, ndisplay=3)\n",
    "# v.add_image(dat)"
   ]
  },
  {
   "cell_type": "code",
   "execution_count": 20,
   "id": "81c6e1b4-15a8-42f2-b447-b5cccf8af288",
   "metadata": {},
   "outputs": [],
   "source": [
    "# Jump back to the annotation party: normal worm\n",
    "from pathlib import Path\n",
    "folder_name = Path(\"/project/neurobiology/zimmer/wbfm/Annotation_party/Party-GFP_normal-2021_05_28/\")\n",
    "\n",
    "dat_fname = folder_name.joinpath('data_subset.tiff')\n",
    "dat = tifffile.imread(dat_fname)[:,1:,:,:]"
   ]
  },
  {
   "cell_type": "code",
   "execution_count": 21,
   "id": "8c7bf827-9edc-4d00-9186-b814594e7261",
   "metadata": {},
   "outputs": [],
   "source": [
    "\n",
    "seg_fname = folder_name.joinpath('1-segmentation').joinpath('masks_subset.zarr')\n",
    "seg = zarr.open(seg_fname)[:,1:,:,:]"
   ]
  },
  {
   "cell_type": "code",
   "execution_count": 22,
   "id": "6011d5c7-9638-413c-8eee-96f9145ed4d7",
   "metadata": {},
   "outputs": [
    {
     "data": {
      "text/plain": [
       "<Image layer 'dat' at 0x7f56c172fa50>"
      ]
     },
     "execution_count": 22,
     "metadata": {},
     "output_type": "execute_result"
    }
   ],
   "source": [
    "\n",
    "v = napari.view_labels(seg, ndisplay=3)\n",
    "v.add_image(dat)\n"
   ]
  },
  {
   "cell_type": "code",
   "execution_count": 23,
   "id": "e464accd-cdd6-4813-a5fa-816d3ae21131",
   "metadata": {},
   "outputs": [],
   "source": [
    "# NEXT: turning gfp worm\n",
    "\n",
    "# Jump back to the annotation party: normal worm\n",
    "from pathlib import Path\n",
    "folder_name = Path(\"/project/neurobiology/zimmer/wbfm/Annotation_party/Party-GFP_turning_3d-2021_05_28/\")\n",
    "\n",
    "dat_fname = folder_name.joinpath('data_subset.tiff')\n",
    "dat = tifffile.imread(dat_fname)[:,1:,:,:]\n",
    "\n",
    "seg_fname = folder_name.joinpath('1-segmentation').joinpath('masks_subset.zarr')\n",
    "seg = zarr.open(seg_fname)[:,1:,:,:]"
   ]
  },
  {
   "cell_type": "code",
   "execution_count": 24,
   "id": "58a06ad9-a795-492d-9e7a-c7b3f5a4597b",
   "metadata": {},
   "outputs": [
    {
     "data": {
      "text/plain": [
       "<Image layer 'dat' at 0x7f56c172f550>"
      ]
     },
     "execution_count": 24,
     "metadata": {},
     "output_type": "execute_result"
    },
    {
     "name": "stderr",
     "output_type": "stream",
     "text": [
      "Exception in callback BaseAsyncIOLoop._handle_events(376, 1)\n",
      "handle: <Handle BaseAsyncIOLoop._handle_events(376, 1)>\n",
      "Traceback (most recent call last):\n",
      "  File \"/home/charles/anaconda3/envs/segmentation/lib/python3.7/asyncio/events.py\", line 88, in _run\n",
      "    self._context.run(self._callback, *self._args)\n",
      "  File \"/home/charles/anaconda3/envs/segmentation/lib/python3.7/site-packages/tornado/platform/asyncio.py\", line 189, in _handle_events\n",
      "    handler_func(fileobj, events)\n",
      "  File \"/home/charles/anaconda3/envs/segmentation/lib/python3.7/site-packages/zmq/eventloop/zmqstream.py\", line 448, in _handle_events\n",
      "    self._handle_recv()\n",
      "  File \"/home/charles/anaconda3/envs/segmentation/lib/python3.7/site-packages/zmq/eventloop/zmqstream.py\", line 477, in _handle_recv\n",
      "    self._run_callback(callback, msg)\n",
      "  File \"/home/charles/anaconda3/envs/segmentation/lib/python3.7/site-packages/zmq/eventloop/zmqstream.py\", line 431, in _run_callback\n",
      "    callback(*args, **kwargs)\n",
      "  File \"/home/charles/anaconda3/envs/segmentation/lib/python3.7/site-packages/jupyter_client/threaded.py\", line 121, in _handle_recv\n",
      "    msg_list = self.ioloop._asyncio_event_loop.run_until_complete(get_msg(future_msg))\n",
      "  File \"/home/charles/anaconda3/envs/segmentation/lib/python3.7/asyncio/base_events.py\", line 563, in run_until_complete\n",
      "    self._check_runnung()\n",
      "  File \"/home/charles/anaconda3/envs/segmentation/lib/python3.7/asyncio/base_events.py\", line 526, in _check_runnung\n",
      "    'Cannot run the event loop while another loop is running')\n",
      "RuntimeError: Cannot run the event loop while another loop is running\n"
     ]
    }
   ],
   "source": [
    "\n",
    "v = napari.view_labels(seg, ndisplay=3)\n",
    "v.add_image(dat)\n"
   ]
  },
  {
   "cell_type": "markdown",
   "id": "33aa9de3-bacf-46e9-9fbf-4d0ebbf33dc0",
   "metadata": {},
   "source": []
  },
  {
   "cell_type": "markdown",
   "id": "90088224-9526-4faf-be02-e1c6e3a4559d",
   "metadata": {},
   "source": [
    "# Example segmentation (2d)"
   ]
  },
  {
   "cell_type": "code",
   "execution_count": 25,
   "id": "182d4a37-e390-40d6-8292-9df4cf7bd567",
   "metadata": {},
   "outputs": [],
   "source": [
    "# NEXT: turning gfp worm\n",
    "\n",
    "# Jump back to the annotation party: normal worm\n",
    "from pathlib import Path\n",
    "folder_name = Path(\"/project/neurobiology/zimmer/wbfm/Annotation_party/Party-GFP_turning_2d-2021_05_28/\")\n",
    "\n",
    "dat_fname = folder_name.joinpath('data_subset.tiff')\n",
    "dat = tifffile.imread(dat_fname)[:,1:,:,:]\n",
    "\n",
    "seg_fname = folder_name.joinpath('1-segmentation').joinpath('masks_subset.zarr')\n",
    "seg = zarr.open(seg_fname)[:,1:,:,:]"
   ]
  },
  {
   "cell_type": "code",
   "execution_count": 26,
   "id": "184d403f-a4f4-4446-9d1d-4284f3200a61",
   "metadata": {},
   "outputs": [
    {
     "data": {
      "text/plain": [
       "<Image layer 'dat' at 0x7f56c14690d0>"
      ]
     },
     "execution_count": 26,
     "metadata": {},
     "output_type": "execute_result"
    },
    {
     "name": "stderr",
     "output_type": "stream",
     "text": [
      "Exception in callback BaseAsyncIOLoop._handle_events(396, 1)\n",
      "handle: <Handle BaseAsyncIOLoop._handle_events(396, 1)>\n",
      "Traceback (most recent call last):\n",
      "  File \"/home/charles/anaconda3/envs/segmentation/lib/python3.7/asyncio/events.py\", line 88, in _run\n",
      "    self._context.run(self._callback, *self._args)\n",
      "  File \"/home/charles/anaconda3/envs/segmentation/lib/python3.7/site-packages/tornado/platform/asyncio.py\", line 189, in _handle_events\n",
      "    handler_func(fileobj, events)\n",
      "  File \"/home/charles/anaconda3/envs/segmentation/lib/python3.7/site-packages/zmq/eventloop/zmqstream.py\", line 448, in _handle_events\n",
      "    self._handle_recv()\n",
      "  File \"/home/charles/anaconda3/envs/segmentation/lib/python3.7/site-packages/zmq/eventloop/zmqstream.py\", line 477, in _handle_recv\n",
      "    self._run_callback(callback, msg)\n",
      "  File \"/home/charles/anaconda3/envs/segmentation/lib/python3.7/site-packages/zmq/eventloop/zmqstream.py\", line 431, in _run_callback\n",
      "    callback(*args, **kwargs)\n",
      "  File \"/home/charles/anaconda3/envs/segmentation/lib/python3.7/site-packages/jupyter_client/threaded.py\", line 121, in _handle_recv\n",
      "    msg_list = self.ioloop._asyncio_event_loop.run_until_complete(get_msg(future_msg))\n",
      "  File \"/home/charles/anaconda3/envs/segmentation/lib/python3.7/asyncio/base_events.py\", line 563, in run_until_complete\n",
      "    self._check_runnung()\n",
      "  File \"/home/charles/anaconda3/envs/segmentation/lib/python3.7/asyncio/base_events.py\", line 526, in _check_runnung\n",
      "    'Cannot run the event loop while another loop is running')\n",
      "RuntimeError: Cannot run the event loop while another loop is running\n"
     ]
    }
   ],
   "source": [
    "v = napari.view_labels(seg, ndisplay=3)\n",
    "v.add_image(dat)"
   ]
  },
  {
   "cell_type": "code",
   "execution_count": null,
   "id": "d25583f5-db1a-42c9-99ad-1267b34f3949",
   "metadata": {},
   "outputs": [],
   "source": []
  }
 ],
 "metadata": {
  "kernelspec": {
   "display_name": "Python [conda env:segmentation] *",
   "language": "python",
   "name": "conda-env-segmentation-py"
  },
  "language_info": {
   "codemirror_mode": {
    "name": "ipython",
    "version": 3
   },
   "file_extension": ".py",
   "mimetype": "text/x-python",
   "name": "python",
   "nbconvert_exporter": "python",
   "pygments_lexer": "ipython3",
   "version": "3.7.11"
  }
 },
 "nbformat": 4,
 "nbformat_minor": 5
}
