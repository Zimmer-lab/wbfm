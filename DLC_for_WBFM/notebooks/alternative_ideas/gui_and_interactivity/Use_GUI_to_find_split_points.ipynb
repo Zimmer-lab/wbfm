{
 "cells": [
  {
   "cell_type": "code",
   "execution_count": 1,
   "id": "0922fe66-9b80-47e4-97c5-b94c37cfac5a",
   "metadata": {},
   "outputs": [
    {
     "name": "stderr",
     "output_type": "stream",
     "text": [
      "\n",
      "Bad key \"text.kerning_factor\" on line 4 in\n",
      "/home/charles/anaconda3/envs/torch/lib/python3.7/site-packages/matplotlib/mpl-data/stylelib/_classic_test_patch.mplstyle.\n",
      "You probably need to get an updated matplotlibrc file from\n",
      "http://github.com/matplotlib/matplotlib/blob/master/matplotlibrc.template\n",
      "or from the matplotlib source distribution\n"
     ]
    }
   ],
   "source": [
    "%load_ext autoreload\n",
    "%autoreload 2\n",
    "import matplotlib.pyplot as plt\n",
    "from DLC_for_WBFM.utils.projects.finished_project_data import ProjectData\n",
    "from sklearn.experimental import enable_iterative_imputer\n",
    "import napari\n",
    "from sklearn.impute import IterativeImputer\n",
    "import numpy as np"
   ]
  },
  {
   "cell_type": "code",
   "execution_count": 2,
   "id": "e1533c70-c724-44b7-bd56-81dfad39d423",
   "metadata": {},
   "outputs": [
    {
     "ename": "AssertionError",
     "evalue": "/scratch/zimmer/Charles/dlc_stacks/worm3-newseg-2021_11_17/project_config.yaml not found!",
     "output_type": "error",
     "traceback": [
      "\u001b[0;31m---------------------------------------------------------------------------\u001b[0m",
      "\u001b[0;31mAssertionError\u001b[0m                            Traceback (most recent call last)",
      "\u001b[0;32m/tmp/ipykernel_10404/90651409.py\u001b[0m in \u001b[0;36m<module>\u001b[0;34m\u001b[0m\n\u001b[1;32m      1\u001b[0m \u001b[0mfname\u001b[0m \u001b[0;34m=\u001b[0m \u001b[0;34m\"/scratch/zimmer/Charles/dlc_stacks/worm3-newseg-2021_11_17/project_config.yaml\"\u001b[0m\u001b[0;34m\u001b[0m\u001b[0;34m\u001b[0m\u001b[0m\n\u001b[0;32m----> 2\u001b[0;31m \u001b[0mproject_data\u001b[0m \u001b[0;34m=\u001b[0m \u001b[0mProjectData\u001b[0m\u001b[0;34m.\u001b[0m\u001b[0mload_final_project_data_from_config\u001b[0m\u001b[0;34m(\u001b[0m\u001b[0mfname\u001b[0m\u001b[0;34m,\u001b[0m \u001b[0mto_load_tracklets\u001b[0m\u001b[0;34m=\u001b[0m\u001b[0;32mTrue\u001b[0m\u001b[0;34m)\u001b[0m\u001b[0;34m\u001b[0m\u001b[0;34m\u001b[0m\u001b[0m\n\u001b[0m",
      "\u001b[0;32m~/Current_work/repos/dlc_for_wbfm/DLC_for_WBFM/utils/projects/finished_project_data.py\u001b[0m in \u001b[0;36mload_final_project_data_from_config\u001b[0;34m(project_path, to_load_tracklets)\u001b[0m\n\u001b[1;32m    279\u001b[0m     \u001b[0;32mdef\u001b[0m \u001b[0mload_final_project_data_from_config\u001b[0m\u001b[0;34m(\u001b[0m\u001b[0mproject_path\u001b[0m\u001b[0;34m,\u001b[0m \u001b[0mto_load_tracklets\u001b[0m\u001b[0;34m=\u001b[0m\u001b[0;32mFalse\u001b[0m\u001b[0;34m)\u001b[0m\u001b[0;34m:\u001b[0m\u001b[0;34m\u001b[0m\u001b[0;34m\u001b[0m\u001b[0m\n\u001b[1;32m    280\u001b[0m         \u001b[0;32mif\u001b[0m \u001b[0misinstance\u001b[0m\u001b[0;34m(\u001b[0m\u001b[0mproject_path\u001b[0m\u001b[0;34m,\u001b[0m \u001b[0;34m(\u001b[0m\u001b[0mstr\u001b[0m\u001b[0;34m,\u001b[0m \u001b[0mos\u001b[0m\u001b[0;34m.\u001b[0m\u001b[0mPathLike\u001b[0m\u001b[0;34m)\u001b[0m\u001b[0;34m)\u001b[0m\u001b[0;34m:\u001b[0m\u001b[0;34m\u001b[0m\u001b[0;34m\u001b[0m\u001b[0m\n\u001b[0;32m--> 281\u001b[0;31m             \u001b[0margs\u001b[0m \u001b[0;34m=\u001b[0m \u001b[0mProjectData\u001b[0m\u001b[0;34m.\u001b[0m\u001b[0munpack_config_file\u001b[0m\u001b[0;34m(\u001b[0m\u001b[0mproject_path\u001b[0m\u001b[0;34m)\u001b[0m\u001b[0;34m\u001b[0m\u001b[0;34m\u001b[0m\u001b[0m\n\u001b[0m\u001b[1;32m    282\u001b[0m             \u001b[0;32mreturn\u001b[0m \u001b[0mProjectData\u001b[0m\u001b[0;34m.\u001b[0m\u001b[0m_load_data_from_configs\u001b[0m\u001b[0;34m(\u001b[0m\u001b[0;34m*\u001b[0m\u001b[0margs\u001b[0m\u001b[0;34m,\u001b[0m \u001b[0mto_load_tracklets\u001b[0m\u001b[0;34m=\u001b[0m\u001b[0mto_load_tracklets\u001b[0m\u001b[0;34m)\u001b[0m\u001b[0;34m\u001b[0m\u001b[0;34m\u001b[0m\u001b[0m\n\u001b[1;32m    283\u001b[0m         \u001b[0;32melif\u001b[0m \u001b[0misinstance\u001b[0m\u001b[0;34m(\u001b[0m\u001b[0mproject_path\u001b[0m\u001b[0;34m,\u001b[0m \u001b[0mModularProjectConfig\u001b[0m\u001b[0;34m)\u001b[0m\u001b[0;34m:\u001b[0m\u001b[0;34m\u001b[0m\u001b[0;34m\u001b[0m\u001b[0m\n",
      "\u001b[0;32m~/Current_work/repos/dlc_for_wbfm/DLC_for_WBFM/utils/projects/finished_project_data.py\u001b[0m in \u001b[0;36munpack_config_file\u001b[0;34m(project_path)\u001b[0m\n\u001b[1;32m    181\u001b[0m     \u001b[0;34m@\u001b[0m\u001b[0mstaticmethod\u001b[0m\u001b[0;34m\u001b[0m\u001b[0;34m\u001b[0m\u001b[0m\n\u001b[1;32m    182\u001b[0m     \u001b[0;32mdef\u001b[0m \u001b[0munpack_config_file\u001b[0m\u001b[0;34m(\u001b[0m\u001b[0mproject_path\u001b[0m\u001b[0;34m)\u001b[0m\u001b[0;34m:\u001b[0m\u001b[0;34m\u001b[0m\u001b[0;34m\u001b[0m\u001b[0m\n\u001b[0;32m--> 183\u001b[0;31m         \u001b[0mcfg\u001b[0m \u001b[0;34m=\u001b[0m \u001b[0mModularProjectConfig\u001b[0m\u001b[0;34m(\u001b[0m\u001b[0mproject_path\u001b[0m\u001b[0;34m)\u001b[0m\u001b[0;34m\u001b[0m\u001b[0;34m\u001b[0m\u001b[0m\n\u001b[0m\u001b[1;32m    184\u001b[0m         \u001b[0mproject_dir\u001b[0m \u001b[0;34m=\u001b[0m \u001b[0mcfg\u001b[0m\u001b[0;34m.\u001b[0m\u001b[0mproject_dir\u001b[0m\u001b[0;34m\u001b[0m\u001b[0;34m\u001b[0m\u001b[0m\n\u001b[1;32m    185\u001b[0m \u001b[0;34m\u001b[0m\u001b[0m\n",
      "\u001b[0;32m~/Current_work/repos/dlc_for_wbfm/DLC_for_WBFM/utils/projects/utils_filepaths.py\u001b[0m in \u001b[0;36m__init__\u001b[0;34m(self, self_path, config, project_dir)\u001b[0m\n",
      "\u001b[0;32m~/Current_work/repos/dlc_for_wbfm/DLC_for_WBFM/utils/projects/utils_filepaths.py\u001b[0m in \u001b[0;36m__post_init__\u001b[0;34m(self)\u001b[0m\n\u001b[1;32m    108\u001b[0m \u001b[0;34m\u001b[0m\u001b[0m\n\u001b[1;32m    109\u001b[0m     \u001b[0;32mdef\u001b[0m \u001b[0m__post_init__\u001b[0m\u001b[0;34m(\u001b[0m\u001b[0mself\u001b[0m\u001b[0;34m)\u001b[0m\u001b[0;34m:\u001b[0m\u001b[0;34m\u001b[0m\u001b[0;34m\u001b[0m\u001b[0m\n\u001b[0;32m--> 110\u001b[0;31m         \u001b[0mself\u001b[0m\u001b[0;34m.\u001b[0m\u001b[0mconfig\u001b[0m \u001b[0;34m=\u001b[0m \u001b[0mload_config\u001b[0m\u001b[0;34m(\u001b[0m\u001b[0mself\u001b[0m\u001b[0;34m.\u001b[0m\u001b[0mself_path\u001b[0m\u001b[0;34m)\u001b[0m\u001b[0;34m\u001b[0m\u001b[0;34m\u001b[0m\u001b[0m\n\u001b[0m\u001b[1;32m    111\u001b[0m         \u001b[0mself\u001b[0m\u001b[0;34m.\u001b[0m\u001b[0mproject_dir\u001b[0m \u001b[0;34m=\u001b[0m \u001b[0mstr\u001b[0m\u001b[0;34m(\u001b[0m\u001b[0mPath\u001b[0m\u001b[0;34m(\u001b[0m\u001b[0mself\u001b[0m\u001b[0;34m.\u001b[0m\u001b[0mself_path\u001b[0m\u001b[0;34m)\u001b[0m\u001b[0;34m.\u001b[0m\u001b[0mparent\u001b[0m\u001b[0;34m)\u001b[0m\u001b[0;34m\u001b[0m\u001b[0;34m\u001b[0m\u001b[0m\n\u001b[1;32m    112\u001b[0m \u001b[0;34m\u001b[0m\u001b[0m\n",
      "\u001b[0;32m~/Current_work/repos/dlc_for_wbfm/DLC_for_WBFM/utils/projects/utils_project.py\u001b[0m in \u001b[0;36mload_config\u001b[0;34m(config_fname)\u001b[0m\n\u001b[1;32m    126\u001b[0m \u001b[0;34m\u001b[0m\u001b[0m\n\u001b[1;32m    127\u001b[0m \u001b[0;32mdef\u001b[0m \u001b[0mload_config\u001b[0m\u001b[0;34m(\u001b[0m\u001b[0mconfig_fname\u001b[0m\u001b[0;34m:\u001b[0m \u001b[0mtyping\u001b[0m\u001b[0;34m.\u001b[0m\u001b[0mUnion\u001b[0m\u001b[0;34m[\u001b[0m\u001b[0mstr\u001b[0m\u001b[0;34m,\u001b[0m \u001b[0mpathlib\u001b[0m\u001b[0;34m.\u001b[0m\u001b[0mPath\u001b[0m\u001b[0;34m]\u001b[0m\u001b[0;34m)\u001b[0m \u001b[0;34m->\u001b[0m \u001b[0mdict\u001b[0m\u001b[0;34m:\u001b[0m\u001b[0;34m\u001b[0m\u001b[0;34m\u001b[0m\u001b[0m\n\u001b[0;32m--> 128\u001b[0;31m     \u001b[0;32massert\u001b[0m \u001b[0mosp\u001b[0m\u001b[0;34m.\u001b[0m\u001b[0mexists\u001b[0m\u001b[0;34m(\u001b[0m\u001b[0mconfig_fname\u001b[0m\u001b[0;34m)\u001b[0m\u001b[0;34m,\u001b[0m \u001b[0;34mf\"{config_fname} not found!\"\u001b[0m\u001b[0;34m\u001b[0m\u001b[0;34m\u001b[0m\u001b[0m\n\u001b[0m\u001b[1;32m    129\u001b[0m \u001b[0;34m\u001b[0m\u001b[0m\n\u001b[1;32m    130\u001b[0m     \u001b[0;32mwith\u001b[0m \u001b[0mopen\u001b[0m\u001b[0;34m(\u001b[0m\u001b[0mconfig_fname\u001b[0m\u001b[0;34m,\u001b[0m \u001b[0;34m'r'\u001b[0m\u001b[0;34m)\u001b[0m \u001b[0;32mas\u001b[0m \u001b[0mf\u001b[0m\u001b[0;34m:\u001b[0m\u001b[0;34m\u001b[0m\u001b[0;34m\u001b[0m\u001b[0m\n",
      "\u001b[0;31mAssertionError\u001b[0m: /scratch/zimmer/Charles/dlc_stacks/worm3-newseg-2021_11_17/project_config.yaml not found!"
     ]
    }
   ],
   "source": [
    "fname = \"/scratch/zimmer/Charles/dlc_stacks/worm3-newseg-2021_11_17/project_config.yaml\"\n",
    "project_data = ProjectData.load_final_project_data_from_config(fname, to_load_tracklets=True)"
   ]
  },
  {
   "cell_type": "code",
   "execution_count": null,
   "id": "4640c954-eac2-4436-b5d4-73845bbcc7ea",
   "metadata": {},
   "outputs": [],
   "source": [
    "all_tracklets = project_data.df_all_tracklets"
   ]
  },
  {
   "cell_type": "code",
   "execution_count": null,
   "id": "de212d07-a299-4a5c-b545-4b8733475df5",
   "metadata": {},
   "outputs": [],
   "source": [
    "all_matches = project_data.raw_matches"
   ]
  },
  {
   "cell_type": "markdown",
   "id": "810417bc-240f-47f1-8d60-ef7d6201d5f4",
   "metadata": {},
   "source": []
  },
  {
   "cell_type": "markdown",
   "id": "c137c317-9263-4064-a948-00939d892162",
   "metadata": {},
   "source": [
    "# Look at a known incorrect match"
   ]
  },
  {
   "cell_type": "code",
   "execution_count": 52,
   "id": "1e1439f1-20c9-4b98-8f29-93f2c44587ed",
   "metadata": {},
   "outputs": [],
   "source": [
    "time = (430, 431)"
   ]
  },
  {
   "cell_type": "code",
   "execution_count": 53,
   "id": "6ca04516-170c-407e-8025-2dd4e73b90b3",
   "metadata": {
    "tags": []
   },
   "outputs": [],
   "source": [
    "m = all_matches[time]\n",
    "# m.calc_final_matches(method='unanimous')"
   ]
  },
  {
   "cell_type": "code",
   "execution_count": 54,
   "id": "fe3f1061-4d88-4e42-8515-e184cac7a21f",
   "metadata": {},
   "outputs": [
    {
     "data": {
      "text/plain": [
       "Viewer(axes=Axes(visible=False, labels=True, colored=True, dashed=False, arrows=True), camera=Camera(center=(15.5, 349.5, 449.5), zoom=1.8524320457796852, angles=(0.0, 0.0, 90.0), perspective=0.0, interactive=True), cursor=Cursor(position=(1.0, 1.0, 0.0, 0.0), scaled=True, size=1, style=<CursorStyle.STANDARD: 'standard'>), dims=Dims(ndim=4, ndisplay=3, last_used=3, range=((0.0, 1.0, 1.0), (0.0, 31.0, 1.0), (0.0, 699.0, 1.0), (0.0, 899.0, 1.0)), current_step=(0, 0, 0, 0), order=(0, 1, 2, 3), axis_labels=('0', '1', '2', '3')), grid=GridCanvas(stride=1, shape=(-1, -1), enabled=False), layers=[<Image layer 'raw_red_data' at 0x7f856822d710>, <Points layer 'n0_zxy_raw' at 0x7f854b42b1d0>, <Points layer 'n1_zxy_raw' at 0x7f856e6ab1d0>, <Tracks layer 'final_matches' at 0x7f8572568f90>, <Points layer 'Raw IDs' at 0x7f86280e6e50>], scale_bar=ScaleBar(visible=False, colored=False, ticks=True, position=<Position.BOTTOM_RIGHT: 'bottom_right'>, font_size=10.0, unit=None), text_overlay=TextOverlay(visible=False, color=array([0.5, 0.5, 0.5, 1. ]), font_size=10.0, position=<TextOverlayPosition.TOP_LEFT: 'top_left'>, text=''), help='', status='Ready', tooltip=Tooltip(visible=False, text=''), theme='dark', title='napari', mouse_move_callbacks=[], mouse_drag_callbacks=[], mouse_double_click_callbacks=[], mouse_wheel_callbacks=[<function dims_scroll at 0x7f8683e7c8c0>], _persisted_mouse_event={}, _mouse_drag_gen={}, _mouse_wheel_gen={}, keymap={'Control-Shift-C': <bound method QtViewer.toggle_console_visibility of <napari._qt.qt_viewer.QtViewer object at 0x7f85ea6db370>>})"
      ]
     },
     "execution_count": 54,
     "metadata": {},
     "output_type": "execute_result"
    },
    {
     "name": "stderr",
     "output_type": "stream",
     "text": [
      "ERROR:tornado.general:Uncaught exception in ZMQStream callback\n",
      "Traceback (most recent call last):\n",
      "  File \"/home/charles/anaconda3/envs/torch/lib/python3.7/site-packages/zmq/eventloop/zmqstream.py\", line 431, in _run_callback\n",
      "    callback(*args, **kwargs)\n",
      "  File \"/home/charles/anaconda3/envs/torch/lib/python3.7/site-packages/jupyter_client/threaded.py\", line 121, in _handle_recv\n",
      "    msg_list = self.ioloop._asyncio_event_loop.run_until_complete(get_msg(future_msg))\n",
      "  File \"/home/charles/anaconda3/envs/torch/lib/python3.7/asyncio/base_events.py\", line 563, in run_until_complete\n",
      "    self._check_runnung()\n",
      "  File \"/home/charles/anaconda3/envs/torch/lib/python3.7/asyncio/base_events.py\", line 526, in _check_runnung\n",
      "    'Cannot run the event loop while another loop is running')\n",
      "RuntimeError: Cannot run the event loop while another loop is running\n",
      "ERROR:tornado.general:Uncaught exception in ZMQStream callback\n",
      "Traceback (most recent call last):\n",
      "  File \"/home/charles/anaconda3/envs/torch/lib/python3.7/site-packages/zmq/eventloop/zmqstream.py\", line 431, in _run_callback\n",
      "    callback(*args, **kwargs)\n",
      "  File \"/home/charles/anaconda3/envs/torch/lib/python3.7/site-packages/jupyter_client/threaded.py\", line 121, in _handle_recv\n",
      "    msg_list = self.ioloop._asyncio_event_loop.run_until_complete(get_msg(future_msg))\n",
      "  File \"/home/charles/anaconda3/envs/torch/lib/python3.7/asyncio/base_events.py\", line 563, in run_until_complete\n",
      "    self._check_runnung()\n",
      "  File \"/home/charles/anaconda3/envs/torch/lib/python3.7/asyncio/base_events.py\", line 526, in _check_runnung\n",
      "    'Cannot run the event loop while another loop is running')\n",
      "RuntimeError: Cannot run the event loop while another loop is running\n",
      "ERROR:tornado.general:Uncaught exception in zmqstream callback\n",
      "Traceback (most recent call last):\n",
      "  File \"/home/charles/anaconda3/envs/torch/lib/python3.7/site-packages/zmq/eventloop/zmqstream.py\", line 448, in _handle_events\n",
      "    self._handle_recv()\n",
      "  File \"/home/charles/anaconda3/envs/torch/lib/python3.7/site-packages/zmq/eventloop/zmqstream.py\", line 477, in _handle_recv\n",
      "    self._run_callback(callback, msg)\n",
      "  File \"/home/charles/anaconda3/envs/torch/lib/python3.7/site-packages/zmq/eventloop/zmqstream.py\", line 431, in _run_callback\n",
      "    callback(*args, **kwargs)\n",
      "  File \"/home/charles/anaconda3/envs/torch/lib/python3.7/site-packages/jupyter_client/threaded.py\", line 121, in _handle_recv\n",
      "    msg_list = self.ioloop._asyncio_event_loop.run_until_complete(get_msg(future_msg))\n",
      "  File \"/home/charles/anaconda3/envs/torch/lib/python3.7/asyncio/base_events.py\", line 563, in run_until_complete\n",
      "    self._check_runnung()\n",
      "  File \"/home/charles/anaconda3/envs/torch/lib/python3.7/asyncio/base_events.py\", line 526, in _check_runnung\n",
      "    'Cannot run the event loop while another loop is running')\n",
      "RuntimeError: Cannot run the event loop while another loop is running\n",
      "ERROR:tornado.general:Uncaught exception in zmqstream callback\n",
      "Traceback (most recent call last):\n",
      "  File \"/home/charles/anaconda3/envs/torch/lib/python3.7/site-packages/zmq/eventloop/zmqstream.py\", line 448, in _handle_events\n",
      "    self._handle_recv()\n",
      "  File \"/home/charles/anaconda3/envs/torch/lib/python3.7/site-packages/zmq/eventloop/zmqstream.py\", line 477, in _handle_recv\n",
      "    self._run_callback(callback, msg)\n",
      "  File \"/home/charles/anaconda3/envs/torch/lib/python3.7/site-packages/zmq/eventloop/zmqstream.py\", line 431, in _run_callback\n",
      "    callback(*args, **kwargs)\n",
      "  File \"/home/charles/anaconda3/envs/torch/lib/python3.7/site-packages/jupyter_client/threaded.py\", line 121, in _handle_recv\n",
      "    msg_list = self.ioloop._asyncio_event_loop.run_until_complete(get_msg(future_msg))\n",
      "  File \"/home/charles/anaconda3/envs/torch/lib/python3.7/asyncio/base_events.py\", line 563, in run_until_complete\n",
      "    self._check_runnung()\n",
      "  File \"/home/charles/anaconda3/envs/torch/lib/python3.7/asyncio/base_events"
     ]
    }
   ],
   "source": [
    "project_data.napari_of_single_match(time)"
   ]
  },
  {
   "cell_type": "code",
   "execution_count": 57,
   "id": "86cb9c0f-1ae4-4c65-9751-66edcd4d3f87",
   "metadata": {},
   "outputs": [],
   "source": [
    "# m.final_matches[:3]"
   ]
  },
  {
   "cell_type": "code",
   "execution_count": 58,
   "id": "2b7e9c46-b1ae-4300-9bd2-96c2e589c921",
   "metadata": {},
   "outputs": [],
   "source": [
    "# m.get_f0_to_f1_dict()"
   ]
  },
  {
   "cell_type": "code",
   "execution_count": 59,
   "id": "581d8052-b463-40c1-a5eb-83bbf3cd6dc4",
   "metadata": {},
   "outputs": [
    {
     "name": "stdout",
     "output_type": "stream",
     "text": [
      "Found match (8, 2) with confidence 0.5479729355328001\n",
      "Different match from feature method: 5 with confidence: 0.19717200409792618\n",
      "Same match from affine method with confidence: 0.28290932024844484\n",
      "Same match from gaussian process method with confidence: 0.9480501950629567\n",
      "Same match from fdnc (neural network) method with confidence: 0.5479729355328001\n"
     ]
    }
   ],
   "source": [
    "m.print_reason_for_match((8,2))"
   ]
  },
  {
   "cell_type": "code",
   "execution_count": 51,
   "id": "fabce20e-1a92-4abe-a49a-5b58f74bd3e5",
   "metadata": {},
   "outputs": [],
   "source": [
    "m.print_reason_for_match((8,2))"
   ]
  },
  {
   "cell_type": "code",
   "execution_count": null,
   "id": "412bf1bd-e32d-4a38-af42-6b27505cb2e1",
   "metadata": {},
   "outputs": [],
   "source": []
  },
  {
   "cell_type": "code",
   "execution_count": null,
   "id": "8a518a18-9a30-48da-a5c5-1760dcff4308",
   "metadata": {},
   "outputs": [],
   "source": []
  },
  {
   "cell_type": "code",
   "execution_count": null,
   "id": "59f8a58e-8728-4e55-8800-aa8f344379db",
   "metadata": {},
   "outputs": [],
   "source": []
  },
  {
   "cell_type": "markdown",
   "id": "2d7bebcf-2591-400d-9758-3f5727ebc31c",
   "metadata": {},
   "source": [
    "# Look at a known incorrect match"
   ]
  },
  {
   "cell_type": "code",
   "execution_count": 20,
   "id": "f8ced50a-3958-4330-8a8b-31edaba078af",
   "metadata": {},
   "outputs": [],
   "source": [
    "time = (673, 674)"
   ]
  },
  {
   "cell_type": "code",
   "execution_count": 21,
   "id": "4ef77ca4-5d1f-4939-b097-ad0e62f30735",
   "metadata": {},
   "outputs": [
    {
     "data": {
      "text/plain": [
       "Viewer(axes=Axes(visible=False, labels=True, colored=True, dashed=False, arrows=True), camera=Camera(center=(15.5, 349.5, 449.5), zoom=1.8524320457796852, angles=(0.0, 0.0, 90.0), perspective=0.0, interactive=True), cursor=Cursor(position=(1.0, 1.0, 0.0, 0.0), scaled=True, size=1, style=<CursorStyle.STANDARD: 'standard'>), dims=Dims(ndim=4, ndisplay=3, last_used=3, range=((0.0, 1.0, 1.0), (0.0, 31.0, 1.0), (0.0, 699.0, 1.0), (0.0, 899.0, 1.0)), current_step=(0, 0, 0, 0), order=(0, 1, 2, 3), axis_labels=('0', '1', '2', '3')), grid=GridCanvas(stride=1, shape=(-1, -1), enabled=False), layers=[<Image layer 'raw_red_data' at 0x7f85680f3650>, <Points layer 'n0_zxy_raw' at 0x7f85f26cca50>, <Points layer 'n1_zxy_raw' at 0x7f85566d5390>, <Tracks layer 'final_matches' at 0x7f862f041b90>, <Points layer 'Raw IDs' at 0x7f856b4f8690>], scale_bar=ScaleBar(visible=False, colored=False, ticks=True, position=<Position.BOTTOM_RIGHT: 'bottom_right'>, font_size=10.0, unit=None), text_overlay=TextOverlay(visible=False, color=array([0.5, 0.5, 0.5, 1. ]), font_size=10.0, position=<TextOverlayPosition.TOP_LEFT: 'top_left'>, text=''), help='', status='Ready', tooltip=Tooltip(visible=False, text=''), theme='dark', title='napari', mouse_move_callbacks=[], mouse_drag_callbacks=[], mouse_double_click_callbacks=[], mouse_wheel_callbacks=[<function dims_scroll at 0x7f8683e7c8c0>], _persisted_mouse_event={}, _mouse_drag_gen={}, _mouse_wheel_gen={}, keymap={'Control-Shift-C': <bound method QtViewer.toggle_console_visibility of <napari._qt.qt_viewer.QtViewer object at 0x7f8612ffde10>>})"
      ]
     },
     "execution_count": 21,
     "metadata": {},
     "output_type": "execute_result"
    },
    {
     "name": "stderr",
     "output_type": "stream",
     "text": [
      "ERROR:tornado.general:Uncaught exception in ZMQStream callback\n",
      "Traceback (most recent call last):\n",
      "  File \"/home/charles/anaconda3/envs/torch/lib/python3.7/site-packages/zmq/eventloop/zmqstream.py\", line 431, in _run_callback\n",
      "    callback(*args, **kwargs)\n",
      "  File \"/home/charles/anaconda3/envs/torch/lib/python3.7/site-packages/jupyter_client/threaded.py\", line 121, in _handle_recv\n",
      "    msg_list = self.ioloop._asyncio_event_loop.run_until_complete(get_msg(future_msg))\n",
      "  File \"/home/charles/anaconda3/envs/torch/lib/python3.7/asyncio/base_events.py\", line 563, in run_until_complete\n",
      "    self._check_runnung()\n",
      "  File \"/home/charles/anaconda3/envs/torch/lib/python3.7/asyncio/base_events.py\", line 526, in _check_runnung\n",
      "    'Cannot run the event loop while another loop is running')\n",
      "RuntimeError: Cannot run the event loop while another loop is running\n",
      "ERROR:tornado.general:Uncaught exception in ZMQStream callback\n",
      "Traceback (most recent call last):\n",
      "  File \"/home/charles/anaconda3/envs/torch/lib/python3.7/site-packages/zmq/eventloop/zmqstream.py\", line 431, in _run_callback\n",
      "    callback(*args, **kwargs)\n",
      "  File \"/home/charles/anaconda3/envs/torch/lib/python3.7/site-packages/jupyter_client/threaded.py\", line 121, in _handle_recv\n",
      "    msg_list = self.ioloop._asyncio_event_loop.run_until_complete(get_msg(future_msg))\n",
      "  File \"/home/charles/anaconda3/envs/torch/lib/python3.7/asyncio/base_events.py\", line 563, in run_until_complete\n",
      "    self._check_runnung()\n",
      "  File \"/home/charles/anaconda3/envs/torch/lib/python3.7/asyncio/base_events.py\", line 526, in _check_runnung\n",
      "    'Cannot run the event loop while another loop is running')\n",
      "RuntimeError: Cannot run the event loop while another loop is running\n"
     ]
    }
   ],
   "source": [
    "project_data.napari_of_single_match(time)"
   ]
  },
  {
   "cell_type": "code",
   "execution_count": 7,
   "id": "e1ffc588-aef9-47a1-969b-efa0b4820ef1",
   "metadata": {},
   "outputs": [],
   "source": [
    "m = all_matches[time]"
   ]
  },
  {
   "cell_type": "code",
   "execution_count": 8,
   "id": "eb333378-b13c-4b1a-9b1f-08abd92f0ed4",
   "metadata": {},
   "outputs": [
    {
     "name": "stdout",
     "output_type": "stream",
     "text": [
      "Found match (8, 2) with confidence 0.8428574178329873\n",
      "Different match from feature method: 5 with confidence: 0.19717200409792618\n",
      "Same match from affine method with confidence: 0.28290932024844484\n",
      "Same match from gaussian process method with confidence: 0.9480501950629567\n",
      "Same match from fdnc (neural network) method with confidence: 0.8428574178329873\n"
     ]
    }
   ],
   "source": [
    "m.print_reason_for_match((8,2))"
   ]
  },
  {
   "cell_type": "code",
   "execution_count": 16,
   "id": "01678aff-d1c2-4c69-9057-f960dcc81b53",
   "metadata": {},
   "outputs": [],
   "source": [
    "# m.calc_final_matches_using_unanimous_voting()"
   ]
  },
  {
   "cell_type": "code",
   "execution_count": null,
   "id": "ebaa4307-f383-4f69-aef2-556eecb6fcbe",
   "metadata": {},
   "outputs": [],
   "source": []
  },
  {
   "cell_type": "markdown",
   "id": "f45dfb17-e1d1-44a3-973e-9fc85bc35c58",
   "metadata": {},
   "source": [
    "# Another match"
   ]
  },
  {
   "cell_type": "code",
   "execution_count": 13,
   "id": "9ac1c816-31af-4dd7-8a90-b19bb04542c8",
   "metadata": {},
   "outputs": [],
   "source": [
    "time = (1240, 1241)"
   ]
  },
  {
   "cell_type": "code",
   "execution_count": 15,
   "id": "c77d57e1-85bd-466b-b8ea-66e62c8d59e0",
   "metadata": {},
   "outputs": [
    {
     "data": {
      "text/plain": [
       "Viewer(axes=Axes(visible=False, labels=True, colored=True, dashed=False, arrows=True), camera=Camera(center=(15.5, 349.5, 449.5), zoom=1.8524320457796852, angles=(0.0, 0.0, 90.0), perspective=0.0, interactive=True), cursor=Cursor(position=(1.0, 1.0, 0.0, 0.0), scaled=True, size=1, style=<CursorStyle.STANDARD: 'standard'>), dims=Dims(ndim=4, ndisplay=3, last_used=3, range=((0.0, 1.0, 1.0), (0.0, 31.0, 1.0), (0.0, 699.0, 1.0), (0.0, 899.0, 1.0)), current_step=(0, 0, 0, 0), order=(0, 1, 2, 3), axis_labels=('0', '1', '2', '3')), grid=GridCanvas(stride=1, shape=(-1, -1), enabled=False), layers=[<Image layer 'raw_red_data' at 0x7fa5ae42e490>, <Points layer 'n0_zxy_raw' at 0x7fa5a618cd90>, <Points layer 'n1_zxy_raw' at 0x7fa5b564d990>, <Tracks layer 'final_matches' at 0x7fa58e773090>, <Points layer 'Raw IDs' at 0x7fa61c1cf550>], scale_bar=ScaleBar(visible=False, colored=False, ticks=True, position=<Position.BOTTOM_RIGHT: 'bottom_right'>, font_size=10.0, unit=None), text_overlay=TextOverlay(visible=False, color=array([0.5, 0.5, 0.5, 1. ]), font_size=10.0, position=<TextOverlayPosition.TOP_LEFT: 'top_left'>, text=''), help='', status='Ready', tooltip=Tooltip(visible=False, text=''), theme='dark', title='napari', mouse_move_callbacks=[], mouse_drag_callbacks=[], mouse_double_click_callbacks=[], mouse_wheel_callbacks=[<function dims_scroll at 0x7fa65dd16830>], _persisted_mouse_event={}, _mouse_drag_gen={}, _mouse_wheel_gen={}, keymap={'Control-Shift-C': <bound method QtViewer.toggle_console_visibility of <napari._qt.qt_viewer.QtViewer object at 0x7fa5a6190690>>})"
      ]
     },
     "execution_count": 15,
     "metadata": {},
     "output_type": "execute_result"
    },
    {
     "name": "stderr",
     "output_type": "stream",
     "text": [
      "ERROR:tornado.general:Uncaught exception in ZMQStream callback\n",
      "Traceback (most recent call last):\n",
      "  File \"/home/charles/anaconda3/envs/torch/lib/python3.7/site-packages/zmq/eventloop/zmqstream.py\", line 431, in _run_callback\n",
      "    callback(*args, **kwargs)\n",
      "  File \"/home/charles/anaconda3/envs/torch/lib/python3.7/site-packages/jupyter_client/threaded.py\", line 121, in _handle_recv\n",
      "    msg_list = self.ioloop._asyncio_event_loop.run_until_complete(get_msg(future_msg))\n",
      "  File \"/home/charles/anaconda3/envs/torch/lib/python3.7/asyncio/base_events.py\", line 563, in run_until_complete\n",
      "    self._check_runnung()\n",
      "  File \"/home/charles/anaconda3/envs/torch/lib/python3.7/asyncio/base_events.py\", line 526, in _check_runnung\n",
      "    'Cannot run the event loop while another loop is running')\n",
      "RuntimeError: Cannot run the event loop while another loop is running\n",
      "ERROR:tornado.general:Uncaught exception in ZMQStream callback\n",
      "Traceback (most recent call last):\n",
      "  File \"/home/charles/anaconda3/envs/torch/lib/python3.7/site-packages/zmq/eventloop/zmqstream.py\", line 431, in _run_callback\n",
      "    callback(*args, **kwargs)\n",
      "  File \"/home/charles/anaconda3/envs/torch/lib/python3.7/site-packages/jupyter_client/threaded.py\", line 121, in _handle_recv\n",
      "    msg_list = self.ioloop._asyncio_event_loop.run_until_complete(get_msg(future_msg))\n",
      "  File \"/home/charles/anaconda3/envs/torch/lib/python3.7/asyncio/base_events.py\", line 563, in run_until_complete\n",
      "    self._check_runnung()\n",
      "  File \"/home/charles/anaconda3/envs/torch/lib/python3.7/asyncio/base_events.py\", line 526, in _check_runnung\n",
      "    'Cannot run the event loop while another loop is running')\n",
      "RuntimeError: Cannot run the event loop while another loop is running\n"
     ]
    }
   ],
   "source": [
    "project_data.napari_of_single_match(time)"
   ]
  },
  {
   "cell_type": "code",
   "execution_count": 16,
   "id": "8f212520-86a1-4e7b-b9b9-2d6af821a820",
   "metadata": {},
   "outputs": [],
   "source": [
    "m2 = all_matches[time]"
   ]
  },
  {
   "cell_type": "code",
   "execution_count": 17,
   "id": "c280c5f6-0329-4d09-95c5-d39810408d99",
   "metadata": {},
   "outputs": [
    {
     "name": "stdout",
     "output_type": "stream",
     "text": [
      "Found match (36, 17) with confidence 0.7816792870727564\n",
      "Different match from feature method: 34 with confidence: 0.23355880203522106\n",
      "Same match from affine method with confidence: 0.15938977909927576\n",
      "Same match from gaussian process method with confidence: 0.8902834590704554\n",
      "Same match from fdnc (neural network) method with confidence: 0.7816792870727564\n"
     ]
    }
   ],
   "source": [
    "m2.print_reason_for_match((36,17))"
   ]
  },
  {
   "cell_type": "code",
   "execution_count": null,
   "id": "39d35346-34cc-4de7-be77-fd4129b51615",
   "metadata": {},
   "outputs": [],
   "source": []
  },
  {
   "cell_type": "markdown",
   "id": "838e3560-007c-4781-8331-fdb77d6d34e9",
   "metadata": {},
   "source": [
    "# Another match"
   ]
  },
  {
   "cell_type": "code",
   "execution_count": 18,
   "id": "591ebe73-3a5a-4592-9904-69808df09a0c",
   "metadata": {},
   "outputs": [],
   "source": [
    "time = (1200, 1201)"
   ]
  },
  {
   "cell_type": "code",
   "execution_count": 23,
   "id": "0fff8205-0c22-4b01-9ed0-5d56180c05d1",
   "metadata": {},
   "outputs": [
    {
     "data": {
      "text/plain": [
       "Viewer(axes=Axes(visible=False, labels=True, colored=True, dashed=False, arrows=True), camera=Camera(center=(15.5, 349.5, 449.5), zoom=1.8524320457796852, angles=(0.0, 0.0, 90.0), perspective=0.0, interactive=True), cursor=Cursor(position=(1.0, 1.0, 0.0, 0.0), scaled=True, size=1, style=<CursorStyle.STANDARD: 'standard'>), dims=Dims(ndim=4, ndisplay=3, last_used=3, range=((0.0, 1.0, 1.0), (0.0, 31.0, 1.0), (0.0, 699.0, 1.0), (0.0, 899.0, 1.0)), current_step=(0, 0, 0, 0), order=(0, 1, 2, 3), axis_labels=('0', '1', '2', '3')), grid=GridCanvas(stride=1, shape=(-1, -1), enabled=False), layers=[<Image layer 'raw_red_data' at 0x7fa5adbcea50>, <Points layer 'n0_zxy_raw' at 0x7fa5e01a9c90>, <Points layer 'n1_zxy_raw' at 0x7fa5adbce350>, <Tracks layer 'final_matches' at 0x7fa5c33cb750>, <Points layer 'Raw IDs' at 0x7fa5b3f22610>], scale_bar=ScaleBar(visible=False, colored=False, ticks=True, position=<Position.BOTTOM_RIGHT: 'bottom_right'>, font_size=10.0, unit=None), text_overlay=TextOverlay(visible=False, color=array([0.5, 0.5, 0.5, 1. ]), font_size=10.0, position=<TextOverlayPosition.TOP_LEFT: 'top_left'>, text=''), help='', status='Ready', tooltip=Tooltip(visible=False, text=''), theme='dark', title='napari', mouse_move_callbacks=[], mouse_drag_callbacks=[], mouse_double_click_callbacks=[], mouse_wheel_callbacks=[<function dims_scroll at 0x7fa65dd16830>], _persisted_mouse_event={}, _mouse_drag_gen={}, _mouse_wheel_gen={}, keymap={'Control-Shift-C': <bound method QtViewer.toggle_console_visibility of <napari._qt.qt_viewer.QtViewer object at 0x7fa5d71a8a50>>})"
      ]
     },
     "execution_count": 23,
     "metadata": {},
     "output_type": "execute_result"
    },
    {
     "name": "stderr",
     "output_type": "stream",
     "text": [
      "ERROR:tornado.general:Uncaught exception in ZMQStream callback\n",
      "Traceback (most recent call last):\n",
      "  File \"/home/charles/anaconda3/envs/torch/lib/python3.7/site-packages/zmq/eventloop/zmqstream.py\", line 431, in _run_callback\n",
      "    callback(*args, **kwargs)\n",
      "  File \"/home/charles/anaconda3/envs/torch/lib/python3.7/site-packages/jupyter_client/threaded.py\", line 121, in _handle_recv\n",
      "    msg_list = self.ioloop._asyncio_event_loop.run_until_complete(get_msg(future_msg))\n",
      "  File \"/home/charles/anaconda3/envs/torch/lib/python3.7/asyncio/base_events.py\", line 563, in run_until_complete\n",
      "    self._check_runnung()\n",
      "  File \"/home/charles/anaconda3/envs/torch/lib/python3.7/asyncio/base_events.py\", line 526, in _check_runnung\n",
      "    'Cannot run the event loop while another loop is running')\n",
      "RuntimeError: Cannot run the event loop while another loop is running\n"
     ]
    }
   ],
   "source": [
    "project_data.napari_of_single_match(time)"
   ]
  },
  {
   "cell_type": "code",
   "execution_count": 20,
   "id": "5a92daea-bdb1-4b4c-b840-3d90680ede53",
   "metadata": {},
   "outputs": [],
   "source": [
    "m2 = all_matches[time]"
   ]
  },
  {
   "cell_type": "code",
   "execution_count": 21,
   "id": "56e20f6f-8474-49df-8ff5-021426ee11e2",
   "metadata": {},
   "outputs": [
    {
     "name": "stdout",
     "output_type": "stream",
     "text": [
      "Found match (30, 15) with confidence 0.5826271753627474\n",
      "Different match from feature method: 34 with confidence: 0.2884566068528635\n",
      "Same match from affine method with confidence: 0.18171741643454928\n",
      "Same match from gaussian process method with confidence: 0.4847133976292746\n",
      "Same match from fdnc (neural network) method with confidence: 0.5826271753627474\n"
     ]
    }
   ],
   "source": [
    "m2.print_reason_for_match((30,15))"
   ]
  },
  {
   "cell_type": "code",
   "execution_count": 24,
   "id": "a2f26824-f20d-489a-bf35-f93a8204002e",
   "metadata": {},
   "outputs": [
    {
     "name": "stdout",
     "output_type": "stream",
     "text": [
      "Found match (89, 104) with confidence 0.7609078682517638\n",
      "Different match from feature method: 94 with confidence: 0.16993986451122603\n",
      "Same match from affine method with confidence: 0.7530356465583101\n",
      "Same match from gaussian process method with confidence: 0.2453322650082666\n",
      "Same match from fdnc (neural network) method with confidence: 0.7609078682517638\n"
     ]
    }
   ],
   "source": [
    "m2.print_reason_for_match((89,104))"
   ]
  },
  {
   "cell_type": "code",
   "execution_count": 25,
   "id": "71881bb4-2000-43ea-b2ea-8c2626464ae6",
   "metadata": {},
   "outputs": [],
   "source": [
    "# m2.print_reason_for_all_final_matches()"
   ]
  },
  {
   "cell_type": "code",
   "execution_count": 26,
   "id": "da716f6a-9e41-4b45-9761-d4c9c4390dcd",
   "metadata": {},
   "outputs": [
    {
     "ename": "TypeError",
     "evalue": "'int' object is not subscriptable",
     "output_type": "error",
     "traceback": [
      "\u001b[0;31m---------------------------------------------------------------------------\u001b[0m",
      "\u001b[0;31mTypeError\u001b[0m                                 Traceback (most recent call last)",
      "\u001b[0;32m/tmp/ipykernel_3038296/4167368556.py\u001b[0m in \u001b[0;36m<module>\u001b[0;34m\u001b[0m\n\u001b[0;32m----> 1\u001b[0;31m \u001b[0mm2\u001b[0m\u001b[0;34m.\u001b[0m\u001b[0mcalc_final_matches_using_unanimous_voting\u001b[0m\u001b[0;34m(\u001b[0m\u001b[0;34m)\u001b[0m\u001b[0;34m\u001b[0m\u001b[0;34m\u001b[0m\u001b[0m\n\u001b[0m",
      "\u001b[0;32m~/Current_work/repos/dlc_for_wbfm/DLC_for_WBFM/utils/feature_detection/class_frame_pair.py\u001b[0m in \u001b[0;36mcalc_final_matches_using_unanimous_voting\u001b[0;34m(self, min_confidence, z_threshold)\u001b[0m\n\u001b[1;32m    151\u001b[0m \u001b[0;34m\u001b[0m\u001b[0m\n\u001b[1;32m    152\u001b[0m         \u001b[0;31m# conf_dict = {k: np.tanh(v) for k, v in conf_dict.items()}\u001b[0m\u001b[0;34m\u001b[0m\u001b[0;34m\u001b[0m\u001b[0;34m\u001b[0m\u001b[0m\n\u001b[0;32m--> 153\u001b[0;31m         \u001b[0mfinal_matches\u001b[0m \u001b[0;34m=\u001b[0m\u001b[0;34m[\u001b[0m\u001b[0;34m[\u001b[0m\u001b[0mk\u001b[0m\u001b[0;34m[\u001b[0m\u001b[0;36m0\u001b[0m\u001b[0;34m]\u001b[0m\u001b[0;34m,\u001b[0m \u001b[0mk\u001b[0m\u001b[0;34m[\u001b[0m\u001b[0;36m1\u001b[0m\u001b[0;34m]\u001b[0m\u001b[0;34m,\u001b[0m \u001b[0mnp\u001b[0m\u001b[0;34m.\u001b[0m\u001b[0mmean\u001b[0m\u001b[0;34m(\u001b[0m\u001b[0mv\u001b[0m\u001b[0;34m)\u001b[0m\u001b[0;34m]\u001b[0m \u001b[0;32mfor\u001b[0m \u001b[0mk\u001b[0m\u001b[0;34m,\u001b[0m \u001b[0mv\u001b[0m \u001b[0;32min\u001b[0m \u001b[0mconf_dict\u001b[0m \u001b[0;32mif\u001b[0m \u001b[0mv\u001b[0m \u001b[0;32mis\u001b[0m \u001b[0;32mnot\u001b[0m \u001b[0;32mNone\u001b[0m\u001b[0;34m]\u001b[0m\u001b[0;34m\u001b[0m\u001b[0;34m\u001b[0m\u001b[0m\n\u001b[0m\u001b[1;32m    154\u001b[0m \u001b[0;34m\u001b[0m\u001b[0m\n\u001b[1;32m    155\u001b[0m         \u001b[0mself\u001b[0m\u001b[0;34m.\u001b[0m\u001b[0mfinal_matches\u001b[0m \u001b[0;34m=\u001b[0m \u001b[0mfinal_matches\u001b[0m\u001b[0;34m\u001b[0m\u001b[0;34m\u001b[0m\u001b[0m\n",
      "\u001b[0;32m~/Current_work/repos/dlc_for_wbfm/DLC_for_WBFM/utils/feature_detection/class_frame_pair.py\u001b[0m in \u001b[0;36m<listcomp>\u001b[0;34m(.0)\u001b[0m\n\u001b[1;32m    151\u001b[0m \u001b[0;34m\u001b[0m\u001b[0m\n\u001b[1;32m    152\u001b[0m         \u001b[0;31m# conf_dict = {k: np.tanh(v) for k, v in conf_dict.items()}\u001b[0m\u001b[0;34m\u001b[0m\u001b[0;34m\u001b[0m\u001b[0;34m\u001b[0m\u001b[0m\n\u001b[0;32m--> 153\u001b[0;31m         \u001b[0mfinal_matches\u001b[0m \u001b[0;34m=\u001b[0m\u001b[0;34m[\u001b[0m\u001b[0;34m[\u001b[0m\u001b[0mk\u001b[0m\u001b[0;34m[\u001b[0m\u001b[0;36m0\u001b[0m\u001b[0;34m]\u001b[0m\u001b[0;34m,\u001b[0m \u001b[0mk\u001b[0m\u001b[0;34m[\u001b[0m\u001b[0;36m1\u001b[0m\u001b[0;34m]\u001b[0m\u001b[0;34m,\u001b[0m \u001b[0mnp\u001b[0m\u001b[0;34m.\u001b[0m\u001b[0mmean\u001b[0m\u001b[0;34m(\u001b[0m\u001b[0mv\u001b[0m\u001b[0;34m)\u001b[0m\u001b[0;34m]\u001b[0m \u001b[0;32mfor\u001b[0m \u001b[0mk\u001b[0m\u001b[0;34m,\u001b[0m \u001b[0mv\u001b[0m \u001b[0;32min\u001b[0m \u001b[0mconf_dict\u001b[0m \u001b[0;32mif\u001b[0m \u001b[0mv\u001b[0m \u001b[0;32mis\u001b[0m \u001b[0;32mnot\u001b[0m \u001b[0;32mNone\u001b[0m\u001b[0;34m]\u001b[0m\u001b[0;34m\u001b[0m\u001b[0;34m\u001b[0m\u001b[0m\n\u001b[0m\u001b[1;32m    154\u001b[0m \u001b[0;34m\u001b[0m\u001b[0m\n\u001b[1;32m    155\u001b[0m         \u001b[0mself\u001b[0m\u001b[0;34m.\u001b[0m\u001b[0mfinal_matches\u001b[0m \u001b[0;34m=\u001b[0m \u001b[0mfinal_matches\u001b[0m\u001b[0;34m\u001b[0m\u001b[0;34m\u001b[0m\u001b[0m\n",
      "\u001b[0;31mTypeError\u001b[0m: 'int' object is not subscriptable"
     ]
    }
   ],
   "source": [
    "m2.calc_final_matches_using_unanimous_voting()"
   ]
  },
  {
   "cell_type": "code",
   "execution_count": null,
   "id": "7dc61c1e-8dff-4a17-aaff-7b9be742435b",
   "metadata": {},
   "outputs": [],
   "source": [
    "%debug"
   ]
  },
  {
   "cell_type": "code",
   "execution_count": null,
   "id": "fd75dd2f-64f7-4c82-b0f4-b9b55cf5f80e",
   "metadata": {},
   "outputs": [],
   "source": []
  }
 ],
 "metadata": {
  "kernelspec": {
   "display_name": "Python 3 (ipykernel)",
   "language": "python",
   "name": "python3"
  },
  "language_info": {
   "codemirror_mode": {
    "name": "ipython",
    "version": 3
   },
   "file_extension": ".py",
   "mimetype": "text/x-python",
   "name": "python",
   "nbconvert_exporter": "python",
   "pygments_lexer": "ipython3",
   "version": "3.7.11"
  }
 },
 "nbformat": 4,
 "nbformat_minor": 5
}
