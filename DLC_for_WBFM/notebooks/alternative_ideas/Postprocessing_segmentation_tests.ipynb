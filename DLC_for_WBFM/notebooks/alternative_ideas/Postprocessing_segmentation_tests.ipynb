{
 "cells": [
  {
   "cell_type": "code",
   "execution_count": 12,
   "id": "fd51e5f8",
   "metadata": {},
   "outputs": [
    {
     "name": "stdout",
     "output_type": "stream",
     "text": [
      "The autoreload extension is already loaded. To reload it, use:\n",
      "  %reload_ext autoreload\n"
     ]
    }
   ],
   "source": [
    "# %load_ext line_profiler\n",
    "%load_ext autoreload\n",
    "%autoreload 2\n",
    "\n",
    "from segmentation.util.utils_pipeline import segment_video_using_config_2d\n",
    "from DLC_for_WBFM.utils.projects.utils_project import load_config, safe_cd\n",
    "from pathlib import Path\n",
    "import zarr\n",
    "import os\n",
    "import numpy as np\n",
    "import napari\n",
    "from DLC_for_WBFM.utils.video_and_data_conversion.import_video_as_array import get_single_volume"
   ]
  },
  {
   "cell_type": "code",
   "execution_count": 32,
   "id": "7556a493",
   "metadata": {},
   "outputs": [],
   "source": [
    "# project_fname = r'Y:\\shared_projects\\wbfm\\dlc_stacks\\Charlie-immobilized-long\\project_config.yaml'\n",
    "# project_fname = r'Y:\\shared_projects\\wbfm\\dlc_stacks\\Charlie-immobilized-2021_05_11\\project_config.yaml'\n",
    "project_fname = r\"C:\\dlc_stacks\\Test_project\\project_config.yaml\"\n",
    "\n",
    "project_cfg = load_config(project_fname)\n",
    "segment_fname = project_cfg['subfolder_configs']['segmentation']\n",
    "project_dir = Path(project_fname).parent\n",
    "with safe_cd(project_dir):\n",
    "    segment_cfg = load_config(segment_fname)\n",
    "\n",
    "this_config = segment_cfg.copy()\n",
    "this_config['dataset_params'] = project_cfg['dataset_params'].copy()\n",
    "\n",
    "red_data_fname = project_cfg['preprocessed_red']\n",
    "\n",
    "red = zarr.open(red_data_fname)"
   ]
  },
  {
   "cell_type": "code",
   "execution_count": 15,
   "id": "9c1f59a7",
   "metadata": {},
   "outputs": [],
   "source": [
    "with safe_cd(project_dir):\n",
    "    fname = segment_cfg['output_masks']\n",
    "    z = zarr.open(fname)"
   ]
  },
  {
   "cell_type": "code",
   "execution_count": 16,
   "id": "6f1e8ca9",
   "metadata": {},
   "outputs": [
    {
     "name": "stderr",
     "output_type": "stream",
     "text": [
      "vispy_camera.py (109): divide by zero encountered in true_divide\n"
     ]
    }
   ],
   "source": [
    "viewer = napari.view_labels(z)"
   ]
  },
  {
   "cell_type": "markdown",
   "id": "ec9b5001",
   "metadata": {},
   "source": [
    "## View original"
   ]
  },
  {
   "cell_type": "code",
   "execution_count": 13,
   "id": "3fb924c7",
   "metadata": {},
   "outputs": [],
   "source": [
    "mask0_raw = np.array(z[0,...])\n",
    "dat0_raw = get_single_volume(red_data_fname, 0, 33, dtype='uint16')"
   ]
  },
  {
   "cell_type": "code",
   "execution_count": 49,
   "id": "7d79254d",
   "metadata": {},
   "outputs": [
    {
     "data": {
      "text/plain": [
       "<Image layer 'dat0_raw' at 0x21ca6b7c688>"
      ]
     },
     "execution_count": 49,
     "metadata": {},
     "output_type": "execute_result"
    }
   ],
   "source": [
    "viewer = napari.view_labels(mask0_raw)\n",
    "viewer.add_image(dat0_raw)"
   ]
  },
  {
   "cell_type": "markdown",
   "id": "c1c0174f",
   "metadata": {},
   "source": [
    "## Remove globally dim pixels and re-stitch"
   ]
  },
  {
   "cell_type": "code",
   "execution_count": 9,
   "id": "66cb9dfe",
   "metadata": {},
   "outputs": [],
   "source": [
    "from segmentation.util.utils_postprocessing import *"
   ]
  },
  {
   "cell_type": "code",
   "execution_count": 46,
   "id": "c52fd69b",
   "metadata": {},
   "outputs": [
    {
     "name": "stdout",
     "output_type": "stream",
     "text": [
      "Background measured as: 233.30953810953812\n"
     ]
    }
   ],
   "source": [
    "background = 2 * np.mean(dat0_raw)\n",
    "print(f\"Background measured as: {background}\")\n",
    "dim_pixels = dat0_raw < background\n",
    "\n",
    "mask0_dim_removed = mask0_raw.copy()\n",
    "mask0_dim_removed[dim_pixels] = 0"
   ]
  },
  {
   "cell_type": "code",
   "execution_count": 91,
   "id": "5a1e0638",
   "metadata": {},
   "outputs": [
    {
     "data": {
      "text/plain": [
       "<Labels layer 'mask0_dim_removed' at 0x21ca9300588>"
      ]
     },
     "execution_count": 91,
     "metadata": {},
     "output_type": "execute_result"
    }
   ],
   "source": [
    "viewer = napari.view_labels(mask0_raw)\n",
    "viewer.add_labels(mask0_dim_removed)\n",
    "# viewer.add_image(dat0_raw)"
   ]
  },
  {
   "cell_type": "markdown",
   "id": "0a6a12c2",
   "metadata": {},
   "source": [
    "## 3d stardist"
   ]
  },
  {
   "cell_type": "code",
   "execution_count": 81,
   "id": "588ec1eb",
   "metadata": {},
   "outputs": [
    {
     "name": "stdout",
     "output_type": "stream",
     "text": [
      "Getting Stardist model: charlie_3d\n",
      "Loading network weights from 'weights_best.h5'.\n",
      "Loading thresholds from 'thresholds.json'.\n",
      "Using default values: prob_thresh=0.353429, nms_thresh=0.3.\n"
     ]
    }
   ],
   "source": [
    "from segmentation.util.utils_model import segment_with_stardist_3d\n",
    "from segmentation.util.utils_model import get_stardist_model\n",
    "from csbdeep.utils import Path, normalize\n",
    "\n",
    "model_name = 'charlie_3d'\n",
    "sd_model = get_stardist_model(model_name, verbose=2)"
   ]
  },
  {
   "cell_type": "code",
   "execution_count": 82,
   "id": "41a2c05c",
   "metadata": {},
   "outputs": [],
   "source": [
    "def _segment3d(dat, model, prob_thresh=0.5):\n",
    "    # From: segment_with_stardist_3d\n",
    "    \n",
    "    # initialize variables\n",
    "    axis_norm = (0, 1, 2)\n",
    "    n_channel = 1\n",
    "\n",
    "    # normalizing images (stardist function)\n",
    "    img = normalize(dat, 1, 99.8, axis=axis_norm)\n",
    "\n",
    "    # run the prediction\n",
    "    labels, details = model.predict_instances(img, prob_thresh=prob_thresh)\n",
    "    \n",
    "    print(\"Finished\")\n",
    "    return labels"
   ]
  },
  {
   "cell_type": "code",
   "execution_count": 83,
   "id": "74652d33",
   "metadata": {},
   "outputs": [
    {
     "name": "stdout",
     "output_type": "stream",
     "text": [
      "Finished\n"
     ]
    }
   ],
   "source": [
    "mask0_3d = _segment3d(dat0_raw, sd_model, prob_thresh=None)"
   ]
  },
  {
   "cell_type": "code",
   "execution_count": 90,
   "id": "2c4c54ad",
   "metadata": {},
   "outputs": [],
   "source": [
    "viewer = napari.view_labels(mask0_3d)\n",
    "# viewer.add_image(dat0_raw)"
   ]
  },
  {
   "cell_type": "code",
   "execution_count": null,
   "id": "43425e19",
   "metadata": {},
   "outputs": [],
   "source": [
    "# sd_model.predict_instances()"
   ]
  },
  {
   "cell_type": "code",
   "execution_count": null,
   "id": "f7b3fb55-a168-4dac-bea5-72bd8d720718",
   "metadata": {},
   "outputs": [],
   "source": []
  },
  {
   "cell_type": "markdown",
   "id": "695bfa54-cacc-4b8d-bb0b-839820968411",
   "metadata": {},
   "source": [
    "# Look at the segmentation metadata"
   ]
  },
  {
   "cell_type": "code",
   "execution_count": 4,
   "id": "417422cf-9ab2-4c8f-aa80-9d9f7abd398b",
   "metadata": {},
   "outputs": [],
   "source": [
    "import pickle"
   ]
  },
  {
   "cell_type": "code",
   "execution_count": 5,
   "id": "c4f90800-62a3-495d-a25a-b7f018fd779c",
   "metadata": {},
   "outputs": [],
   "source": [
    "fname = r\"C:\\dlc_stacks\\Test_project\\1-segmentation\\metadata_3.pickle\"\n",
    "with open(fname, 'rb') as f:\n",
    "    dat = pickle.load(f)"
   ]
  },
  {
   "cell_type": "code",
   "execution_count": 8,
   "id": "edf06803-c76a-418d-ad16-ba73707a7e71",
   "metadata": {},
   "outputs": [
    {
     "data": {
      "text/html": [
       "<div>\n",
       "<style scoped>\n",
       "    .dataframe tbody tr th:only-of-type {\n",
       "        vertical-align: middle;\n",
       "    }\n",
       "\n",
       "    .dataframe tbody tr th {\n",
       "        vertical-align: top;\n",
       "    }\n",
       "\n",
       "    .dataframe thead th {\n",
       "        text-align: right;\n",
       "    }\n",
       "</style>\n",
       "<table border=\"1\" class=\"dataframe\">\n",
       "  <thead>\n",
       "    <tr style=\"text-align: right;\">\n",
       "      <th></th>\n",
       "      <th>total_brightness</th>\n",
       "      <th>neuron_volume</th>\n",
       "      <th>centroids</th>\n",
       "      <th>all_values</th>\n",
       "    </tr>\n",
       "  </thead>\n",
       "  <tbody>\n",
       "    <tr>\n",
       "      <th>1</th>\n",
       "      <td>53231</td>\n",
       "      <td>1007</td>\n",
       "      <td>(5.734856007944389, 261.28103277060575, 408.89...</td>\n",
       "      <td>[25, 26, 26, 25, 26, 26, 28, 30, 29, 28, 27, 2...</td>\n",
       "    </tr>\n",
       "    <tr>\n",
       "      <th>2</th>\n",
       "      <td>54561</td>\n",
       "      <td>1111</td>\n",
       "      <td>(4.923492349234923, 279.96129612961295, 407.92...</td>\n",
       "      <td>[25, 24, 24, 24, 24, 29, 29, 27, 27, 23, 24, 2...</td>\n",
       "    </tr>\n",
       "    <tr>\n",
       "      <th>4</th>\n",
       "      <td>45378</td>\n",
       "      <td>1047</td>\n",
       "      <td>(5.204393505253104, 303.31232091690543, 395.39...</td>\n",
       "      <td>[25, 25, 30, 27, 27, 28, 29, 29, 27, 27, 28, 2...</td>\n",
       "    </tr>\n",
       "    <tr>\n",
       "      <th>5</th>\n",
       "      <td>17120</td>\n",
       "      <td>486</td>\n",
       "      <td>(3.5102880658436213, 298.3168724279835, 412.98...</td>\n",
       "      <td>[20, 21, 21, 20, 20, 19, 22, 23, 23, 25, 24, 2...</td>\n",
       "    </tr>\n",
       "    <tr>\n",
       "      <th>6</th>\n",
       "      <td>8518</td>\n",
       "      <td>220</td>\n",
       "      <td>(3.4045454545454548, 106.24545454545455, 714.7...</td>\n",
       "      <td>[28, 31, 32, 27, 28, 33, 39, 39, 40, 37, 30, 2...</td>\n",
       "    </tr>\n",
       "    <tr>\n",
       "      <th>...</th>\n",
       "      <td>...</td>\n",
       "      <td>...</td>\n",
       "      <td>...</td>\n",
       "      <td>...</td>\n",
       "    </tr>\n",
       "    <tr>\n",
       "      <th>166</th>\n",
       "      <td>90673</td>\n",
       "      <td>2690</td>\n",
       "      <td>(18.596654275092938, 265.8171003717472, 468.32...</td>\n",
       "      <td>[18, 20, 21, 22, 23, 26, 28, 29, 29, 21, 20, 2...</td>\n",
       "    </tr>\n",
       "    <tr>\n",
       "      <th>167</th>\n",
       "      <td>87521</td>\n",
       "      <td>1491</td>\n",
       "      <td>(18.41649899396378, 239.6056338028169, 401.817...</td>\n",
       "      <td>[26, 29, 26, 29, 29, 29, 31, 30, 34, 34, 34, 3...</td>\n",
       "    </tr>\n",
       "    <tr>\n",
       "      <th>168</th>\n",
       "      <td>55936</td>\n",
       "      <td>1249</td>\n",
       "      <td>(19.518014411529222, 254.06725380304243, 275.9...</td>\n",
       "      <td>[22, 24, 27, 24, 24, 28, 32, 26, 26, 31, 34, 2...</td>\n",
       "    </tr>\n",
       "    <tr>\n",
       "      <th>169</th>\n",
       "      <td>28704</td>\n",
       "      <td>869</td>\n",
       "      <td>(17.743383199079403, 222.409666283084, 331.594...</td>\n",
       "      <td>[19, 20, 20, 18, 19, 21, 20, 21, 20, 19, 18, 1...</td>\n",
       "    </tr>\n",
       "    <tr>\n",
       "      <th>170</th>\n",
       "      <td>59017</td>\n",
       "      <td>1360</td>\n",
       "      <td>(17.90073529411765, 287.9455882352941, 334.201...</td>\n",
       "      <td>[25, 29, 39, 34, 25, 27, 25, 28, 30, 28, 28, 2...</td>\n",
       "    </tr>\n",
       "  </tbody>\n",
       "</table>\n",
       "<p>136 rows × 4 columns</p>\n",
       "</div>"
      ],
      "text/plain": [
       "    total_brightness neuron_volume  \\\n",
       "1              53231          1007   \n",
       "2              54561          1111   \n",
       "4              45378          1047   \n",
       "5              17120           486   \n",
       "6               8518           220   \n",
       "..               ...           ...   \n",
       "166            90673          2690   \n",
       "167            87521          1491   \n",
       "168            55936          1249   \n",
       "169            28704           869   \n",
       "170            59017          1360   \n",
       "\n",
       "                                             centroids  \\\n",
       "1    (5.734856007944389, 261.28103277060575, 408.89...   \n",
       "2    (4.923492349234923, 279.96129612961295, 407.92...   \n",
       "4    (5.204393505253104, 303.31232091690543, 395.39...   \n",
       "5    (3.5102880658436213, 298.3168724279835, 412.98...   \n",
       "6    (3.4045454545454548, 106.24545454545455, 714.7...   \n",
       "..                                                 ...   \n",
       "166  (18.596654275092938, 265.8171003717472, 468.32...   \n",
       "167  (18.41649899396378, 239.6056338028169, 401.817...   \n",
       "168  (19.518014411529222, 254.06725380304243, 275.9...   \n",
       "169  (17.743383199079403, 222.409666283084, 331.594...   \n",
       "170  (17.90073529411765, 287.9455882352941, 334.201...   \n",
       "\n",
       "                                            all_values  \n",
       "1    [25, 26, 26, 25, 26, 26, 28, 30, 29, 28, 27, 2...  \n",
       "2    [25, 24, 24, 24, 24, 29, 29, 27, 27, 23, 24, 2...  \n",
       "4    [25, 25, 30, 27, 27, 28, 29, 29, 27, 27, 28, 2...  \n",
       "5    [20, 21, 21, 20, 20, 19, 22, 23, 23, 25, 24, 2...  \n",
       "6    [28, 31, 32, 27, 28, 33, 39, 39, 40, 37, 30, 2...  \n",
       "..                                                 ...  \n",
       "166  [18, 20, 21, 22, 23, 26, 28, 29, 29, 21, 20, 2...  \n",
       "167  [26, 29, 26, 29, 29, 29, 31, 30, 34, 34, 34, 3...  \n",
       "168  [22, 24, 27, 24, 24, 28, 32, 26, 26, 31, 34, 2...  \n",
       "169  [19, 20, 20, 18, 19, 21, 20, 21, 20, 19, 18, 1...  \n",
       "170  [25, 29, 39, 34, 25, 27, 25, 28, 30, 28, 28, 2...  \n",
       "\n",
       "[136 rows x 4 columns]"
      ]
     },
     "execution_count": 8,
     "metadata": {},
     "output_type": "execute_result"
    }
   ],
   "source": [
    "dat[1]"
   ]
  },
  {
   "cell_type": "code",
   "execution_count": 9,
   "id": "d81b0c38-ef0c-416d-a624-093a6d3ae1b4",
   "metadata": {},
   "outputs": [
    {
     "data": {
      "text/html": [
       "<div>\n",
       "<style scoped>\n",
       "    .dataframe tbody tr th:only-of-type {\n",
       "        vertical-align: middle;\n",
       "    }\n",
       "\n",
       "    .dataframe tbody tr th {\n",
       "        vertical-align: top;\n",
       "    }\n",
       "\n",
       "    .dataframe thead th {\n",
       "        text-align: right;\n",
       "    }\n",
       "</style>\n",
       "<table border=\"1\" class=\"dataframe\">\n",
       "  <thead>\n",
       "    <tr style=\"text-align: right;\">\n",
       "      <th></th>\n",
       "      <th>total_brightness</th>\n",
       "      <th>neuron_volume</th>\n",
       "      <th>centroids</th>\n",
       "      <th>all_values</th>\n",
       "    </tr>\n",
       "  </thead>\n",
       "  <tbody>\n",
       "    <tr>\n",
       "      <th>1</th>\n",
       "      <td>55865</td>\n",
       "      <td>991</td>\n",
       "      <td>(4.9212916246215945, 297.89404641775985, 424.0...</td>\n",
       "      <td>[24, 24, 21, 22, 25, 25, 26, 27, 24, 23, 25, 2...</td>\n",
       "    </tr>\n",
       "    <tr>\n",
       "      <th>2</th>\n",
       "      <td>51494</td>\n",
       "      <td>960</td>\n",
       "      <td>(5.907291666666667, 279.96458333333334, 418.15)</td>\n",
       "      <td>[22, 21, 23, 22, 22, 23, 24, 24, 22, 24, 22, 1...</td>\n",
       "    </tr>\n",
       "    <tr>\n",
       "      <th>3</th>\n",
       "      <td>17623</td>\n",
       "      <td>477</td>\n",
       "      <td>(4.517819706498952, 313.251572327044, 433.0775...</td>\n",
       "      <td>[20, 23, 24, 25, 21, 23, 27, 28, 27, 26, 25, 2...</td>\n",
       "    </tr>\n",
       "    <tr>\n",
       "      <th>4</th>\n",
       "      <td>38043</td>\n",
       "      <td>682</td>\n",
       "      <td>(5.4340175953079175, 324.3123167155425, 419.81...</td>\n",
       "      <td>[25, 25, 22, 26, 26, 28, 26, 27, 22, 24, 25, 2...</td>\n",
       "    </tr>\n",
       "    <tr>\n",
       "      <th>5</th>\n",
       "      <td>40658</td>\n",
       "      <td>819</td>\n",
       "      <td>(6.617826617826617, 333.7435897435897, 426.553...</td>\n",
       "      <td>[21, 21, 22, 23, 21, 20, 23, 26, 24, 26, 23, 2...</td>\n",
       "    </tr>\n",
       "    <tr>\n",
       "      <th>...</th>\n",
       "      <td>...</td>\n",
       "      <td>...</td>\n",
       "      <td>...</td>\n",
       "      <td>...</td>\n",
       "    </tr>\n",
       "    <tr>\n",
       "      <th>146</th>\n",
       "      <td>83620</td>\n",
       "      <td>2207</td>\n",
       "      <td>(19.604893520616223, 265.806524694155, 477.065...</td>\n",
       "      <td>[27, 28, 31, 26, 29, 29, 30, 29, 24, 27, 25, 3...</td>\n",
       "    </tr>\n",
       "    <tr>\n",
       "      <th>147</th>\n",
       "      <td>84275</td>\n",
       "      <td>1377</td>\n",
       "      <td>(19.531590413943356, 265.6608569353667, 407.95...</td>\n",
       "      <td>[36, 28, 34, 42, 51, 52, 28, 35, 43, 50, 61, 6...</td>\n",
       "    </tr>\n",
       "    <tr>\n",
       "      <th>148</th>\n",
       "      <td>27954</td>\n",
       "      <td>758</td>\n",
       "      <td>(18.811345646437996, 266.29947229551453, 338.4...</td>\n",
       "      <td>[20, 21, 24, 22, 20, 23, 25, 26, 25, 21, 23, 2...</td>\n",
       "    </tr>\n",
       "    <tr>\n",
       "      <th>149</th>\n",
       "      <td>55272</td>\n",
       "      <td>1241</td>\n",
       "      <td>(19.381144238517326, 327.7655116841257, 353.49...</td>\n",
       "      <td>[30, 31, 33, 27, 29, 24, 28, 29, 30, 28, 24, 3...</td>\n",
       "    </tr>\n",
       "    <tr>\n",
       "      <th>150</th>\n",
       "      <td>42454</td>\n",
       "      <td>973</td>\n",
       "      <td>(21.38540596094553, 278.1788283658787, 379.461...</td>\n",
       "      <td>[30, 29, 31, 30, 27, 34, 37, 40, 40, 36, 33, 3...</td>\n",
       "    </tr>\n",
       "  </tbody>\n",
       "</table>\n",
       "<p>125 rows × 4 columns</p>\n",
       "</div>"
      ],
      "text/plain": [
       "    total_brightness neuron_volume  \\\n",
       "1              55865           991   \n",
       "2              51494           960   \n",
       "3              17623           477   \n",
       "4              38043           682   \n",
       "5              40658           819   \n",
       "..               ...           ...   \n",
       "146            83620          2207   \n",
       "147            84275          1377   \n",
       "148            27954           758   \n",
       "149            55272          1241   \n",
       "150            42454           973   \n",
       "\n",
       "                                             centroids  \\\n",
       "1    (4.9212916246215945, 297.89404641775985, 424.0...   \n",
       "2      (5.907291666666667, 279.96458333333334, 418.15)   \n",
       "3    (4.517819706498952, 313.251572327044, 433.0775...   \n",
       "4    (5.4340175953079175, 324.3123167155425, 419.81...   \n",
       "5    (6.617826617826617, 333.7435897435897, 426.553...   \n",
       "..                                                 ...   \n",
       "146  (19.604893520616223, 265.806524694155, 477.065...   \n",
       "147  (19.531590413943356, 265.6608569353667, 407.95...   \n",
       "148  (18.811345646437996, 266.29947229551453, 338.4...   \n",
       "149  (19.381144238517326, 327.7655116841257, 353.49...   \n",
       "150  (21.38540596094553, 278.1788283658787, 379.461...   \n",
       "\n",
       "                                            all_values  \n",
       "1    [24, 24, 21, 22, 25, 25, 26, 27, 24, 23, 25, 2...  \n",
       "2    [22, 21, 23, 22, 22, 23, 24, 24, 22, 24, 22, 1...  \n",
       "3    [20, 23, 24, 25, 21, 23, 27, 28, 27, 26, 25, 2...  \n",
       "4    [25, 25, 22, 26, 26, 28, 26, 27, 22, 24, 25, 2...  \n",
       "5    [21, 21, 22, 23, 21, 20, 23, 26, 24, 26, 23, 2...  \n",
       "..                                                 ...  \n",
       "146  [27, 28, 31, 26, 29, 29, 30, 29, 24, 27, 25, 3...  \n",
       "147  [36, 28, 34, 42, 51, 52, 28, 35, 43, 50, 61, 6...  \n",
       "148  [20, 21, 24, 22, 20, 23, 25, 26, 25, 21, 23, 2...  \n",
       "149  [30, 31, 33, 27, 29, 24, 28, 29, 30, 28, 24, 3...  \n",
       "150  [30, 29, 31, 30, 27, 34, 37, 40, 40, 36, 33, 3...  \n",
       "\n",
       "[125 rows x 4 columns]"
      ]
     },
     "execution_count": 9,
     "metadata": {},
     "output_type": "execute_result"
    }
   ],
   "source": [
    "dat[0]"
   ]
  },
  {
   "cell_type": "markdown",
   "id": "22d850ce-87ce-4e4d-8a38-c820a81f5f90",
   "metadata": {},
   "source": [
    "# Remove small objects"
   ]
  },
  {
   "cell_type": "code",
   "execution_count": 28,
   "id": "b7c06c53-faa4-4239-ad06-f4871fd20eee",
   "metadata": {},
   "outputs": [],
   "source": [
    "import skimage\n",
    "from skimage.segmentation import watershed\n",
    "from scipy import ndimage as ndi\n",
    "from skimage.feature import peak_local_max\n"
   ]
  },
  {
   "cell_type": "code",
   "execution_count": 34,
   "id": "ca242e09-334b-4c46-992b-6ed519d2cc51",
   "metadata": {},
   "outputs": [
    {
     "name": "stdout",
     "output_type": "stream",
     "text": [
      "Resegmenting using watershed...\n"
     ]
    }
   ],
   "source": [
    "z_raw = np.array(z[1,...])\n",
    "red_raw = np.array(red[1,...])\n",
    "\n",
    "z2 = skimage.morphology.remove_small_objects(z_raw, 30)\n",
    "z_binary = skimage.morphology.remove_small_holes(z2.astype(bool), 10)\n",
    "z_distance = ndi.distance_transform_edt(z_binary)\n",
    "z_dist_times_brightness = z_distance*red_raw\n",
    "\n",
    "coords = peak_local_max(z_dist_times_brightness, footprint=np.ones((5, 11, 11)), labels=z_binary)\n",
    "mask = np.zeros(z_distance.shape, dtype=bool)\n",
    "mask[tuple(coords.T)] = True\n",
    "markers, _ = ndi.label(mask)\n",
    "\n",
    "print(\"Resegmenting using watershed...\")\n",
    "labels = watershed(-z_dist_times_brightness, markers, mask=z_binary)"
   ]
  },
  {
   "cell_type": "code",
   "execution_count": 36,
   "id": "baf56f8a-d252-49d8-86ec-c25aa8da2a20",
   "metadata": {},
   "outputs": [
    {
     "name": "stderr",
     "output_type": "stream",
     "text": [
      "vispy_camera.py (109): divide by zero encountered in true_divide\n"
     ]
    },
    {
     "data": {
      "text/plain": [
       "<Labels layer 'z_raw' at 0x291ac3496c8>"
      ]
     },
     "execution_count": 36,
     "metadata": {},
     "output_type": "execute_result"
    }
   ],
   "source": [
    "v = napari.view_labels(labels)\n",
    "v.add_labels(z_raw)"
   ]
  },
  {
   "cell_type": "code",
   "execution_count": 31,
   "id": "1748387f-9e51-465d-ac1d-c1ac8efd91c1",
   "metadata": {},
   "outputs": [
    {
     "name": "stderr",
     "output_type": "stream",
     "text": [
      "vispy_camera.py (109): divide by zero encountered in true_divide\n"
     ]
    }
   ],
   "source": [
    "v = napari.view_labels(z2)\n"
   ]
  },
  {
   "cell_type": "markdown",
   "id": "00dc935d-41b4-49e7-9fcd-8ee769455c5e",
   "metadata": {},
   "source": [
    "# Combine basic local thresholding"
   ]
  },
  {
   "cell_type": "code",
   "execution_count": 39,
   "id": "62d11c81-48b0-4b5e-92a3-8ba9a10876ce",
   "metadata": {},
   "outputs": [],
   "source": [
    "from skimage.filters import threshold_otsu, threshold_local\n",
    "from magicgui import magicgui\n",
    "from napari.types import LayerDataTuple"
   ]
  },
  {
   "cell_type": "code",
   "execution_count": 44,
   "id": "37057865-18c0-4465-b8ad-e9101eebf5f4",
   "metadata": {},
   "outputs": [],
   "source": [
    "z_raw = np.array(z[1,...])\n",
    "red_raw = np.array(red[1,...])"
   ]
  },
  {
   "cell_type": "code",
   "execution_count": 52,
   "id": "ec7efc60-6e64-4a02-876b-5063e42d9f57",
   "metadata": {},
   "outputs": [],
   "source": [
    "# TAKES A VERY LONG TIME\n",
    "\n",
    "# @magicgui(\n",
    "#     call_button=\"Apply local threshold\")\n",
    "# def apply_distance_transform(viewer: napari.Viewer, sigma=1, offset=10,block_size=35) -> LayerDataTuple:\n",
    "#     red_dat = viewer.layers['red_dat'].data[0,...]\n",
    "    \n",
    "#     # Filter the brightness\n",
    "#     filtered_red = skimage.filters.gaussian(red_dat, sigma=sigma)\n",
    "    \n",
    "#     print(\"Doing local threshold...\")\n",
    "#     local_thresh = threshold_local(image, block_size, offset=offset, method='mean')\n",
    "#     binary_local = image > local_thresh\n",
    "#     print(\"Finished\")\n",
    "    \n",
    "#     return [(binary_local, {'name': 'binary_local'}, 'labels'), \n",
    "#             (filtered_red, {'name': 'filtered_red'}, 'image')]"
   ]
  },
  {
   "cell_type": "code",
   "execution_count": 53,
   "id": "dc381b59-ea8b-485a-aff4-c5fcbfd45bc6",
   "metadata": {},
   "outputs": [
    {
     "name": "stderr",
     "output_type": "stream",
     "text": [
      "vispy_camera.py (109): divide by zero encountered in true_divide\n"
     ]
    },
    {
     "data": {
      "text/plain": [
       "<Labels layer 'seg_dat' at 0x291a9daaf48>"
      ]
     },
     "execution_count": 53,
     "metadata": {},
     "output_type": "execute_result"
    }
   ],
   "source": [
    "viewer = napari.view_image(red_raw, name='red_dat')\n",
    "viewer.add_labels(z_raw, name=\"seg_dat\")"
   ]
  },
  {
   "cell_type": "code",
   "execution_count": 54,
   "id": "12ba2415-873e-4d59-8976-5c8c64c47ed0",
   "metadata": {},
   "outputs": [
    {
     "data": {
      "text/plain": [
       "<napari._qt.widgets.qt_viewer_dock_widget.QtViewerDockWidget at 0x291a83c3048>"
      ]
     },
     "execution_count": 54,
     "metadata": {},
     "output_type": "execute_result"
    },
    {
     "name": "stdout",
     "output_type": "stream",
     "text": [
      "Doing local threshold...\n"
     ]
    }
   ],
   "source": [
    "viewer.window.add_dock_widget(apply_distance_transform)"
   ]
  },
  {
   "cell_type": "code",
   "execution_count": 72,
   "id": "edaa350e-eb92-4b65-858a-847c2304598b",
   "metadata": {},
   "outputs": [
    {
     "data": {
      "image/png": "[encoded data removed]",
      "text/plain": [
       "<Figure size 432x288 with 1 Axes>"
      ]
     },
     "metadata": {
      "needs_background": "light"
     },
     "output_type": "display_data"
    }
   ],
   "source": [
    "import matplotlib.pyplot as plt\n",
    "filtered_red = skimage.filters.gaussian(red_raw, sigma=2)\n",
    "thresh = 0.08\n",
    "\n",
    "plt.hist(filtered_red[filtered_red>thresh], bins=255);"
   ]
  },
  {
   "cell_type": "code",
   "execution_count": 69,
   "id": "ea1f84ef-809f-4698-9c0d-3321019081a3",
   "metadata": {},
   "outputs": [
    {
     "data": {
      "text/plain": [
       "0.05751434748173632"
      ]
     },
     "execution_count": 69,
     "metadata": {},
     "output_type": "execute_result"
    }
   ],
   "source": [
    "np.mean(filtered_red)"
   ]
  },
  {
   "cell_type": "code",
   "execution_count": null,
   "id": "ad0dfbd2-2f80-4b57-86ce-a6d2bd57c47c",
   "metadata": {},
   "outputs": [],
   "source": []
  }
 ],
 "metadata": {
  "kernelspec": {
   "display_name": "Python [conda env:segmentation] *",
   "language": "python",
   "name": "conda-env-segmentation-py"
  },
  "language_info": {
   "codemirror_mode": {
    "name": "ipython",
    "version": 3
   },
   "file_extension": ".py",
   "mimetype": "text/x-python",
   "name": "python",
   "nbconvert_exporter": "python",
   "pygments_lexer": "ipython3",
   "version": "3.7.11"
  }
 },
 "nbformat": 4,
 "nbformat_minor": 5
}
