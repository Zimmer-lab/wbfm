{
 "cells": [
  {
   "cell_type": "code",
   "execution_count": 16,
   "id": "c5fee729-34a2-45cd-84a7-dbf5f6a9196e",
   "metadata": {},
   "outputs": [
    {
     "name": "stdout",
     "output_type": "stream",
     "text": [
      "The autoreload extension is already loaded. To reload it, use:\n",
      "  %reload_ext autoreload\n"
     ]
    }
   ],
   "source": [
    "%load_ext autoreload\n",
    "%autoreload 2\n",
    "import matplotlib.pyplot as plt\n",
    "from DLC_for_WBFM.utils.projects.finished_project_data import ProjectData\n",
    "import napari\n",
    "import pandas as pd\n",
    "import numpy as np\n",
    "from DLC_for_WBFM.utils.feature_detection.class_frame_pair import FramePair\n",
    "from sklearn.decomposition import PCA\n",
    "from sklearn.neighbors import NearestNeighbors\n",
    "\n",
    "import matplotlib as mpl\n",
    "mpl.rcParams['font.size'] = 32\n",
    "from tqdm.auto import tqdm\n",
    "from DLC_for_WBFM.utils.postures.centerline_pca import WormFullVideoPosture, WormReferencePosture\n",
    "from DLC_for_WBFM.utils.pipeline.long_range_matching import initialize_worm_object"
   ]
  },
  {
   "cell_type": "code",
   "execution_count": 2,
   "id": "68887ef7-4eb7-4b85-9589-8b14466b542b",
   "metadata": {},
   "outputs": [
    {
     "name": "stderr",
     "output_type": "stream",
     "text": [
      "WARNING:root:Did not find file /home/charles/dlc_stacks/worm3-newseg-2021_11_17/2-training_data/training_data_tracks.h5\n",
      "WARNING:root:Did not find file /home/charles/dlc_stacks/worm3-newseg-2021_11_17/3-tracking/manual_annotation/split_names.pickle\n",
      "WARNING:root:Did not find file /home/charles/dlc_stacks/worm3-newseg-2021_11_17/3-tracking/manual_annotation/split_times.pickle\n"
     ]
    },
    {
     "name": "stdout",
     "output_type": "stream",
     "text": [
      "Output files: /home/charles/dlc_stacks/worm3-newseg-2021_11_17/3-tracking/manual_annotation/global2tracklet_manual.pickle, /home/charles/dlc_stacks/worm3-newseg-2021_11_17/3-tracking/manual_annotation/manually_split_tracklets.h5, /home/charles/dlc_stacks/worm3-newseg-2021_11_17/3-tracking/manual_annotation/split_names.pickle, /home/charles/dlc_stacks/worm3-newseg-2021_11_17/3-tracking/manual_annotation/split_times.pickle\n",
      "=======================================\n",
      "Project data for directory:\n",
      "/home/charles/dlc_stacks/worm3-newseg-2021_11_17 \n",
      "=======================================\n",
      "Found the following raw data files:\n",
      "red_data: True\n",
      "green_data: True\n",
      "============Segmentation===============\n",
      "raw_segmentation: True\n",
      "segmentation: True\n",
      "============Tracklets==================\n",
      "df_training_tracklets: False\n",
      "reindexed_masks_training: True\n",
      "============Traces=====================\n",
      "red_traces: True\n",
      "green_traces: True\n",
      "final_tracks: True\n",
      "behavior_annotations: True\n",
      "\n"
     ]
    }
   ],
   "source": [
    "# fname = \"/scratch/zimmer/Charles/dlc_stacks/worm3-tracklet_wiggle/project_config.yaml\"\n",
    "fname = \"/home/charles/dlc_stacks/worm3-newseg-2021_11_17/project_config.yaml\"\n",
    "\n",
    "project_data = ProjectData.load_final_project_data_from_config(fname, to_load_tracklets=True, to_load_frames=True)"
   ]
  },
  {
   "cell_type": "code",
   "execution_count": 6,
   "id": "d823b8d2-b0fb-41d2-80db-8c0f63b63f56",
   "metadata": {},
   "outputs": [],
   "source": [
    "df_tracklets = project_data.df_all_tracklets\n",
    "segmentation_metadata = project_data.segmentation_metadata\n",
    "all_frames = project_data.raw_frames\n",
    "all_matches = project_data.raw_matches\n",
    "raw_clust = project_data.raw_clust"
   ]
  },
  {
   "cell_type": "code",
   "execution_count": 5,
   "id": "904b2d7b-8800-458a-bab2-35e6366a7740",
   "metadata": {},
   "outputs": [],
   "source": [
    "frame_pair_options = all_matches[(0, 1)].options"
   ]
  },
  {
   "cell_type": "code",
   "execution_count": 11,
   "id": "d79ef515-b617-4433-b2f5-02c90250277f",
   "metadata": {},
   "outputs": [
    {
     "data": {
      "application/vnd.jupyter.widget-view+json": {
       "model_id": "ca73ddbd36ce45409e3825e3cab34e25",
       "version_major": 2,
       "version_minor": 0
      },
      "text/plain": [
       "  0%|          | 0/16624 [00:00<?, ?it/s]"
      ]
     },
     "metadata": {},
     "output_type": "display_data"
    }
   ],
   "source": [
    "fname = \"/project/neurobiology/zimmer/wbfm/centerline/wbfm_ulises_centerline_for_charlie/2021-03-04_16-17-30_worm3_ZIM2051-_spline_K.csv\"\n",
    "fname_X = \"/project/neurobiology/zimmer/wbfm/centerline/wbfm_ulises_centerline_for_charlie/2021-03-04_16-17-30_worm3_ZIM2051-_spline_X_coords.csv\"\n",
    "fname_Y = \"/project/neurobiology/zimmer/wbfm/centerline/wbfm_ulises_centerline_for_charlie/2021-03-04_16-17-30_worm3_ZIM2051-_spline_Y_coords.csv\"\n",
    "\n",
    "full_posture = WormFullVideoPosture(fname, fname_X, fname_Y)\n",
    "reference_posture = WormReferencePosture(0, full_posture)\n",
    "\n",
    "# Initialize TrackedNeurons at 0, and initialize the TrackedWorm\n",
    "# Get all tracklets that start at t=0\n",
    "all_tracklet_names = df_tracklets.columns.get_level_values(0).drop_duplicates()\n",
    "\n",
    "worm_obj = initialize_worm_object(all_tracklet_names, df_tracklets, raw_clust, segmentation_metadata)"
   ]
  },
  {
   "cell_type": "markdown",
   "id": "863b5862-dee1-4217-bbf0-0b133a901e6f",
   "metadata": {},
   "source": [
    "# Get the set of indices with similar postures"
   ]
  },
  {
   "cell_type": "code",
   "execution_count": 12,
   "id": "a987f7a2-72d4-46b0-8e69-22118b7ae4fc",
   "metadata": {},
   "outputs": [],
   "source": [
    "indices_to_check = reference_posture.indices_close_to_reference[1:]\n",
    "indices_to_check = [i for i in indices_to_check if i < len(all_frames)]"
   ]
  },
  {
   "cell_type": "code",
   "execution_count": 13,
   "id": "7b10934b-1a07-42e3-aaf1-fcd83222fa74",
   "metadata": {},
   "outputs": [
    {
     "data": {
      "text/plain": [
       "[1, 16, 17, 18, 19, 39, 40, 41, 72, 73]"
      ]
     },
     "execution_count": 13,
     "metadata": {},
     "output_type": "execute_result"
    }
   ],
   "source": [
    "indices_to_check[:10]"
   ]
  },
  {
   "cell_type": "markdown",
   "id": "fc4de74b-eecf-4d52-80ad-9e23d1fcd508",
   "metadata": {},
   "source": [
    "# Match the long-range frames"
   ]
  },
  {
   "cell_type": "code",
   "execution_count": 14,
   "id": "a55bb8e1-b193-4886-b867-46ec08b26962",
   "metadata": {},
   "outputs": [],
   "source": [
    "from DLC_for_WBFM.utils.feature_detection.class_frame_pair import calc_FramePair_from_Frames\n"
   ]
  },
  {
   "cell_type": "code",
   "execution_count": 17,
   "id": "a4892943-5d44-46c1-b431-cf3fe9a91214",
   "metadata": {},
   "outputs": [
    {
     "data": {
      "application/vnd.jupyter.widget-view+json": {
       "model_id": "c2b81a628c174a03a05a845effd9712a",
       "version_major": 2,
       "version_minor": 0
      },
      "text/plain": [
       "  0%|          | 0/199 [00:00<?, ?it/s]"
      ]
     },
     "metadata": {},
     "output_type": "display_data"
    },
    {
     "data": {
      "application/vnd.jupyter.widget-view+json": {
       "model_id": "",
       "version_major": 2,
       "version_minor": 0
      },
      "text/plain": [
       "  0%|          | 0/32 [00:00<?, ?it/s]"
      ]
     },
     "metadata": {},
     "output_type": "display_data"
    },
    {
     "name": "stdout",
     "output_type": "stream",
     "text": [
      "Jupyter environment detected. Enabling Open3D WebVisualizer.\n",
      "[Open3D INFO] WebRTC GUI backend enabled.\n",
      "[Open3D INFO] WebRTCWindowSystem: HTTP handshake server disabled.\n"
     ]
    },
    {
     "data": {
      "application/vnd.jupyter.widget-view+json": {
       "model_id": "",
       "version_major": 2,
       "version_minor": 0
      },
      "text/plain": [
       "  0%|          | 0/32 [00:00<?, ?it/s]"
      ]
     },
     "metadata": {},
     "output_type": "display_data"
    },
    {
     "data": {
      "application/vnd.jupyter.widget-view+json": {
       "model_id": "",
       "version_major": 2,
       "version_minor": 0
      },
      "text/plain": [
       "  0%|          | 0/32 [00:00<?, ?it/s]"
      ]
     },
     "metadata": {},
     "output_type": "display_data"
    },
    {
     "data": {
      "application/vnd.jupyter.widget-view+json": {
       "model_id": "",
       "version_major": 2,
       "version_minor": 0
      },
      "text/plain": [
       "  0%|          | 0/32 [00:00<?, ?it/s]"
      ]
     },
     "metadata": {},
     "output_type": "display_data"
    },
    {
     "data": {
      "application/vnd.jupyter.widget-view+json": {
       "model_id": "",
       "version_major": 2,
       "version_minor": 0
      },
      "text/plain": [
       "  0%|          | 0/32 [00:00<?, ?it/s]"
      ]
     },
     "metadata": {},
     "output_type": "display_data"
    },
    {
     "data": {
      "application/vnd.jupyter.widget-view+json": {
       "model_id": "",
       "version_major": 2,
       "version_minor": 0
      },
      "text/plain": [
       "  0%|          | 0/32 [00:00<?, ?it/s]"
      ]
     },
     "metadata": {},
     "output_type": "display_data"
    },
    {
     "data": {
      "application/vnd.jupyter.widget-view+json": {
       "model_id": "",
       "version_major": 2,
       "version_minor": 0
      },
      "text/plain": [
       "  0%|          | 0/32 [00:00<?, ?it/s]"
      ]
     },
     "metadata": {},
     "output_type": "display_data"
    },
    {
     "data": {
      "application/vnd.jupyter.widget-view+json": {
       "model_id": "",
       "version_major": 2,
       "version_minor": 0
      },
      "text/plain": [
       "  0%|          | 0/32 [00:00<?, ?it/s]"
      ]
     },
     "metadata": {},
     "output_type": "display_data"
    },
    {
     "data": {
      "application/vnd.jupyter.widget-view+json": {
       "model_id": "",
       "version_major": 2,
       "version_minor": 0
      },
      "text/plain": [
       "  0%|          | 0/32 [00:00<?, ?it/s]"
      ]
     },
     "metadata": {},
     "output_type": "display_data"
    },
    {
     "data": {
      "application/vnd.jupyter.widget-view+json": {
       "model_id": "",
       "version_major": 2,
       "version_minor": 0
      },
      "text/plain": [
       "  0%|          | 0/32 [00:00<?, ?it/s]"
      ]
     },
     "metadata": {},
     "output_type": "display_data"
    },
    {
     "data": {
      "application/vnd.jupyter.widget-view+json": {
       "model_id": "",
       "version_major": 2,
       "version_minor": 0
      },
      "text/plain": [
       "  0%|          | 0/32 [00:00<?, ?it/s]"
      ]
     },
     "metadata": {},
     "output_type": "display_data"
    },
    {
     "data": {
      "application/vnd.jupyter.widget-view+json": {
       "model_id": "",
       "version_major": 2,
       "version_minor": 0
      },
      "text/plain": [
       "  0%|          | 0/32 [00:00<?, ?it/s]"
      ]
     },
     "metadata": {},
     "output_type": "display_data"
    },
    {
     "data": {
      "application/vnd.jupyter.widget-view+json": {
       "model_id": "",
       "version_major": 2,
       "version_minor": 0
      },
      "text/plain": [
       "  0%|          | 0/32 [00:00<?, ?it/s]"
      ]
     },
     "metadata": {},
     "output_type": "display_data"
    },
    {
     "data": {
      "application/vnd.jupyter.widget-view+json": {
       "model_id": "",
       "version_major": 2,
       "version_minor": 0
      },
      "text/plain": [
       "  0%|          | 0/32 [00:00<?, ?it/s]"
      ]
     },
     "metadata": {},
     "output_type": "display_data"
    },
    {
     "data": {
      "application/vnd.jupyter.widget-view+json": {
       "model_id": "",
       "version_major": 2,
       "version_minor": 0
      },
      "text/plain": [
       "  0%|          | 0/32 [00:00<?, ?it/s]"
      ]
     },
     "metadata": {},
     "output_type": "display_data"
    },
    {
     "data": {
      "application/vnd.jupyter.widget-view+json": {
       "model_id": "",
       "version_major": 2,
       "version_minor": 0
      },
      "text/plain": [
       "  0%|          | 0/32 [00:00<?, ?it/s]"
      ]
     },
     "metadata": {},
     "output_type": "display_data"
    },
    {
     "data": {
      "application/vnd.jupyter.widget-view+json": {
       "model_id": "",
       "version_major": 2,
       "version_minor": 0
      },
      "text/plain": [
       "  0%|          | 0/32 [00:00<?, ?it/s]"
      ]
     },
     "metadata": {},
     "output_type": "display_data"
    },
    {
     "data": {
      "application/vnd.jupyter.widget-view+json": {
       "model_id": "",
       "version_major": 2,
       "version_minor": 0
      },
      "text/plain": [
       "  0%|          | 0/32 [00:00<?, ?it/s]"
      ]
     },
     "metadata": {},
     "output_type": "display_data"
    },
    {
     "data": {
      "application/vnd.jupyter.widget-view+json": {
       "model_id": "",
       "version_major": 2,
       "version_minor": 0
      },
      "text/plain": [
       "  0%|          | 0/32 [00:00<?, ?it/s]"
      ]
     },
     "metadata": {},
     "output_type": "display_data"
    },
    {
     "data": {
      "application/vnd.jupyter.widget-view+json": {
       "model_id": "",
       "version_major": 2,
       "version_minor": 0
      },
      "text/plain": [
       "  0%|          | 0/32 [00:00<?, ?it/s]"
      ]
     },
     "metadata": {},
     "output_type": "display_data"
    },
    {
     "data": {
      "application/vnd.jupyter.widget-view+json": {
       "model_id": "",
       "version_major": 2,
       "version_minor": 0
      },
      "text/plain": [
       "  0%|          | 0/32 [00:00<?, ?it/s]"
      ]
     },
     "metadata": {},
     "output_type": "display_data"
    },
    {
     "data": {
      "application/vnd.jupyter.widget-view+json": {
       "model_id": "",
       "version_major": 2,
       "version_minor": 0
      },
      "text/plain": [
       "  0%|          | 0/32 [00:00<?, ?it/s]"
      ]
     },
     "metadata": {},
     "output_type": "display_data"
    },
    {
     "data": {
      "application/vnd.jupyter.widget-view+json": {
       "model_id": "",
       "version_major": 2,
       "version_minor": 0
      },
      "text/plain": [
       "  0%|          | 0/32 [00:00<?, ?it/s]"
      ]
     },
     "metadata": {},
     "output_type": "display_data"
    },
    {
     "data": {
      "application/vnd.jupyter.widget-view+json": {
       "model_id": "",
       "version_major": 2,
       "version_minor": 0
      },
      "text/plain": [
       "  0%|          | 0/32 [00:00<?, ?it/s]"
      ]
     },
     "metadata": {},
     "output_type": "display_data"
    },
    {
     "data": {
      "application/vnd.jupyter.widget-view+json": {
       "model_id": "",
       "version_major": 2,
       "version_minor": 0
      },
      "text/plain": [
       "  0%|          | 0/32 [00:00<?, ?it/s]"
      ]
     },
     "metadata": {},
     "output_type": "display_data"
    },
    {
     "data": {
      "application/vnd.jupyter.widget-view+json": {
       "model_id": "",
       "version_major": 2,
       "version_minor": 0
      },
      "text/plain": [
       "  0%|          | 0/32 [00:00<?, ?it/s]"
      ]
     },
     "metadata": {},
     "output_type": "display_data"
    },
    {
     "data": {
      "application/vnd.jupyter.widget-view+json": {
       "model_id": "",
       "version_major": 2,
       "version_minor": 0
      },
      "text/plain": [
       "  0%|          | 0/32 [00:00<?, ?it/s]"
      ]
     },
     "metadata": {},
     "output_type": "display_data"
    },
    {
     "data": {
      "application/vnd.jupyter.widget-view+json": {
       "model_id": "",
       "version_major": 2,
       "version_minor": 0
      },
      "text/plain": [
       "  0%|          | 0/32 [00:00<?, ?it/s]"
      ]
     },
     "metadata": {},
     "output_type": "display_data"
    },
    {
     "data": {
      "application/vnd.jupyter.widget-view+json": {
       "model_id": "",
       "version_major": 2,
       "version_minor": 0
      },
      "text/plain": [
       "  0%|          | 0/32 [00:00<?, ?it/s]"
      ]
     },
     "metadata": {},
     "output_type": "display_data"
    },
    {
     "data": {
      "application/vnd.jupyter.widget-view+json": {
       "model_id": "",
       "version_major": 2,
       "version_minor": 0
      },
      "text/plain": [
       "  0%|          | 0/32 [00:00<?, ?it/s]"
      ]
     },
     "metadata": {},
     "output_type": "display_data"
    },
    {
     "data": {
      "application/vnd.jupyter.widget-view+json": {
       "model_id": "",
       "version_major": 2,
       "version_minor": 0
      },
      "text/plain": [
       "  0%|          | 0/32 [00:00<?, ?it/s]"
      ]
     },
     "metadata": {},
     "output_type": "display_data"
    },
    {
     "data": {
      "application/vnd.jupyter.widget-view+json": {
       "model_id": "",
       "version_major": 2,
       "version_minor": 0
      },
      "text/plain": [
       "  0%|          | 0/32 [00:00<?, ?it/s]"
      ]
     },
     "metadata": {},
     "output_type": "display_data"
    },
    {
     "data": {
      "application/vnd.jupyter.widget-view+json": {
       "model_id": "",
       "version_major": 2,
       "version_minor": 0
      },
      "text/plain": [
       "  0%|          | 0/32 [00:00<?, ?it/s]"
      ]
     },
     "metadata": {},
     "output_type": "display_data"
    },
    {
     "data": {
      "application/vnd.jupyter.widget-view+json": {
       "model_id": "",
       "version_major": 2,
       "version_minor": 0
      },
      "text/plain": [
       "  0%|          | 0/32 [00:00<?, ?it/s]"
      ]
     },
     "metadata": {},
     "output_type": "display_data"
    },
    {
     "data": {
      "application/vnd.jupyter.widget-view+json": {
       "model_id": "",
       "version_major": 2,
       "version_minor": 0
      },
      "text/plain": [
       "  0%|          | 0/32 [00:00<?, ?it/s]"
      ]
     },
     "metadata": {},
     "output_type": "display_data"
    },
    {
     "data": {
      "application/vnd.jupyter.widget-view+json": {
       "model_id": "",
       "version_major": 2,
       "version_minor": 0
      },
      "text/plain": [
       "  0%|          | 0/32 [00:00<?, ?it/s]"
      ]
     },
     "metadata": {},
     "output_type": "display_data"
    },
    {
     "data": {
      "application/vnd.jupyter.widget-view+json": {
       "model_id": "",
       "version_major": 2,
       "version_minor": 0
      },
      "text/plain": [
       "  0%|          | 0/32 [00:00<?, ?it/s]"
      ]
     },
     "metadata": {},
     "output_type": "display_data"
    },
    {
     "data": {
      "application/vnd.jupyter.widget-view+json": {
       "model_id": "",
       "version_major": 2,
       "version_minor": 0
      },
      "text/plain": [
       "  0%|          | 0/32 [00:00<?, ?it/s]"
      ]
     },
     "metadata": {},
     "output_type": "display_data"
    },
    {
     "data": {
      "application/vnd.jupyter.widget-view+json": {
       "model_id": "",
       "version_major": 2,
       "version_minor": 0
      },
      "text/plain": [
       "  0%|          | 0/32 [00:00<?, ?it/s]"
      ]
     },
     "metadata": {},
     "output_type": "display_data"
    },
    {
     "data": {
      "application/vnd.jupyter.widget-view+json": {
       "model_id": "",
       "version_major": 2,
       "version_minor": 0
      },
      "text/plain": [
       "  0%|          | 0/32 [00:00<?, ?it/s]"
      ]
     },
     "metadata": {},
     "output_type": "display_data"
    },
    {
     "data": {
      "application/vnd.jupyter.widget-view+json": {
       "model_id": "",
       "version_major": 2,
       "version_minor": 0
      },
      "text/plain": [
       "  0%|          | 0/32 [00:00<?, ?it/s]"
      ]
     },
     "metadata": {},
     "output_type": "display_data"
    },
    {
     "data": {
      "application/vnd.jupyter.widget-view+json": {
       "model_id": "",
       "version_major": 2,
       "version_minor": 0
      },
      "text/plain": [
       "  0%|          | 0/32 [00:00<?, ?it/s]"
      ]
     },
     "metadata": {},
     "output_type": "display_data"
    },
    {
     "data": {
      "application/vnd.jupyter.widget-view+json": {
       "model_id": "",
       "version_major": 2,
       "version_minor": 0
      },
      "text/plain": [
       "  0%|          | 0/32 [00:00<?, ?it/s]"
      ]
     },
     "metadata": {},
     "output_type": "display_data"
    },
    {
     "data": {
      "application/vnd.jupyter.widget-view+json": {
       "model_id": "",
       "version_major": 2,
       "version_minor": 0
      },
      "text/plain": [
       "  0%|          | 0/32 [00:00<?, ?it/s]"
      ]
     },
     "metadata": {},
     "output_type": "display_data"
    },
    {
     "data": {
      "application/vnd.jupyter.widget-view+json": {
       "model_id": "",
       "version_major": 2,
       "version_minor": 0
      },
      "text/plain": [
       "  0%|          | 0/32 [00:00<?, ?it/s]"
      ]
     },
     "metadata": {},
     "output_type": "display_data"
    },
    {
     "data": {
      "application/vnd.jupyter.widget-view+json": {
       "model_id": "",
       "version_major": 2,
       "version_minor": 0
      },
      "text/plain": [
       "  0%|          | 0/32 [00:00<?, ?it/s]"
      ]
     },
     "metadata": {},
     "output_type": "display_data"
    },
    {
     "data": {
      "application/vnd.jupyter.widget-view+json": {
       "model_id": "",
       "version_major": 2,
       "version_minor": 0
      },
      "text/plain": [
       "  0%|          | 0/32 [00:00<?, ?it/s]"
      ]
     },
     "metadata": {},
     "output_type": "display_data"
    },
    {
     "data": {
      "application/vnd.jupyter.widget-view+json": {
       "model_id": "",
       "version_major": 2,
       "version_minor": 0
      },
      "text/plain": [
       "  0%|          | 0/32 [00:00<?, ?it/s]"
      ]
     },
     "metadata": {},
     "output_type": "display_data"
    },
    {
     "data": {
      "application/vnd.jupyter.widget-view+json": {
       "model_id": "",
       "version_major": 2,
       "version_minor": 0
      },
      "text/plain": [
       "  0%|          | 0/32 [00:00<?, ?it/s]"
      ]
     },
     "metadata": {},
     "output_type": "display_data"
    },
    {
     "data": {
      "application/vnd.jupyter.widget-view+json": {
       "model_id": "",
       "version_major": 2,
       "version_minor": 0
      },
      "text/plain": [
       "  0%|          | 0/32 [00:00<?, ?it/s]"
      ]
     },
     "metadata": {},
     "output_type": "display_data"
    },
    {
     "data": {
      "application/vnd.jupyter.widget-view+json": {
       "model_id": "",
       "version_major": 2,
       "version_minor": 0
      },
      "text/plain": [
       "  0%|          | 0/32 [00:00<?, ?it/s]"
      ]
     },
     "metadata": {},
     "output_type": "display_data"
    },
    {
     "data": {
      "application/vnd.jupyter.widget-view+json": {
       "model_id": "",
       "version_major": 2,
       "version_minor": 0
      },
      "text/plain": [
       "  0%|          | 0/32 [00:00<?, ?it/s]"
      ]
     },
     "metadata": {},
     "output_type": "display_data"
    },
    {
     "data": {
      "application/vnd.jupyter.widget-view+json": {
       "model_id": "",
       "version_major": 2,
       "version_minor": 0
      },
      "text/plain": [
       "  0%|          | 0/32 [00:00<?, ?it/s]"
      ]
     },
     "metadata": {},
     "output_type": "display_data"
    },
    {
     "data": {
      "application/vnd.jupyter.widget-view+json": {
       "model_id": "",
       "version_major": 2,
       "version_minor": 0
      },
      "text/plain": [
       "  0%|          | 0/32 [00:00<?, ?it/s]"
      ]
     },
     "metadata": {},
     "output_type": "display_data"
    },
    {
     "data": {
      "application/vnd.jupyter.widget-view+json": {
       "model_id": "",
       "version_major": 2,
       "version_minor": 0
      },
      "text/plain": [
       "  0%|          | 0/32 [00:00<?, ?it/s]"
      ]
     },
     "metadata": {},
     "output_type": "display_data"
    },
    {
     "data": {
      "application/vnd.jupyter.widget-view+json": {
       "model_id": "",
       "version_major": 2,
       "version_minor": 0
      },
      "text/plain": [
       "  0%|          | 0/32 [00:00<?, ?it/s]"
      ]
     },
     "metadata": {},
     "output_type": "display_data"
    },
    {
     "data": {
      "application/vnd.jupyter.widget-view+json": {
       "model_id": "",
       "version_major": 2,
       "version_minor": 0
      },
      "text/plain": [
       "  0%|          | 0/32 [00:00<?, ?it/s]"
      ]
     },
     "metadata": {},
     "output_type": "display_data"
    },
    {
     "data": {
      "application/vnd.jupyter.widget-view+json": {
       "model_id": "",
       "version_major": 2,
       "version_minor": 0
      },
      "text/plain": [
       "  0%|          | 0/32 [00:00<?, ?it/s]"
      ]
     },
     "metadata": {},
     "output_type": "display_data"
    },
    {
     "data": {
      "application/vnd.jupyter.widget-view+json": {
       "model_id": "",
       "version_major": 2,
       "version_minor": 0
      },
      "text/plain": [
       "  0%|          | 0/32 [00:00<?, ?it/s]"
      ]
     },
     "metadata": {},
     "output_type": "display_data"
    },
    {
     "data": {
      "application/vnd.jupyter.widget-view+json": {
       "model_id": "",
       "version_major": 2,
       "version_minor": 0
      },
      "text/plain": [
       "  0%|          | 0/32 [00:00<?, ?it/s]"
      ]
     },
     "metadata": {},
     "output_type": "display_data"
    },
    {
     "data": {
      "application/vnd.jupyter.widget-view+json": {
       "model_id": "",
       "version_major": 2,
       "version_minor": 0
      },
      "text/plain": [
       "  0%|          | 0/32 [00:00<?, ?it/s]"
      ]
     },
     "metadata": {},
     "output_type": "display_data"
    },
    {
     "data": {
      "application/vnd.jupyter.widget-view+json": {
       "model_id": "",
       "version_major": 2,
       "version_minor": 0
      },
      "text/plain": [
       "  0%|          | 0/32 [00:00<?, ?it/s]"
      ]
     },
     "metadata": {},
     "output_type": "display_data"
    },
    {
     "data": {
      "application/vnd.jupyter.widget-view+json": {
       "model_id": "",
       "version_major": 2,
       "version_minor": 0
      },
      "text/plain": [
       "  0%|          | 0/32 [00:00<?, ?it/s]"
      ]
     },
     "metadata": {},
     "output_type": "display_data"
    },
    {
     "data": {
      "application/vnd.jupyter.widget-view+json": {
       "model_id": "",
       "version_major": 2,
       "version_minor": 0
      },
      "text/plain": [
       "  0%|          | 0/32 [00:00<?, ?it/s]"
      ]
     },
     "metadata": {},
     "output_type": "display_data"
    },
    {
     "data": {
      "application/vnd.jupyter.widget-view+json": {
       "model_id": "",
       "version_major": 2,
       "version_minor": 0
      },
      "text/plain": [
       "  0%|          | 0/32 [00:00<?, ?it/s]"
      ]
     },
     "metadata": {},
     "output_type": "display_data"
    },
    {
     "data": {
      "application/vnd.jupyter.widget-view+json": {
       "model_id": "",
       "version_major": 2,
       "version_minor": 0
      },
      "text/plain": [
       "  0%|          | 0/32 [00:00<?, ?it/s]"
      ]
     },
     "metadata": {},
     "output_type": "display_data"
    },
    {
     "data": {
      "application/vnd.jupyter.widget-view+json": {
       "model_id": "",
       "version_major": 2,
       "version_minor": 0
      },
      "text/plain": [
       "  0%|          | 0/32 [00:00<?, ?it/s]"
      ]
     },
     "metadata": {},
     "output_type": "display_data"
    },
    {
     "data": {
      "application/vnd.jupyter.widget-view+json": {
       "model_id": "",
       "version_major": 2,
       "version_minor": 0
      },
      "text/plain": [
       "  0%|          | 0/32 [00:00<?, ?it/s]"
      ]
     },
     "metadata": {},
     "output_type": "display_data"
    },
    {
     "data": {
      "application/vnd.jupyter.widget-view+json": {
       "model_id": "",
       "version_major": 2,
       "version_minor": 0
      },
      "text/plain": [
       "  0%|          | 0/32 [00:00<?, ?it/s]"
      ]
     },
     "metadata": {},
     "output_type": "display_data"
    },
    {
     "data": {
      "application/vnd.jupyter.widget-view+json": {
       "model_id": "",
       "version_major": 2,
       "version_minor": 0
      },
      "text/plain": [
       "  0%|          | 0/32 [00:00<?, ?it/s]"
      ]
     },
     "metadata": {},
     "output_type": "display_data"
    },
    {
     "data": {
      "application/vnd.jupyter.widget-view+json": {
       "model_id": "",
       "version_major": 2,
       "version_minor": 0
      },
      "text/plain": [
       "  0%|          | 0/32 [00:00<?, ?it/s]"
      ]
     },
     "metadata": {},
     "output_type": "display_data"
    },
    {
     "data": {
      "application/vnd.jupyter.widget-view+json": {
       "model_id": "",
       "version_major": 2,
       "version_minor": 0
      },
      "text/plain": [
       "  0%|          | 0/32 [00:00<?, ?it/s]"
      ]
     },
     "metadata": {},
     "output_type": "display_data"
    },
    {
     "data": {
      "application/vnd.jupyter.widget-view+json": {
       "model_id": "",
       "version_major": 2,
       "version_minor": 0
      },
      "text/plain": [
       "  0%|          | 0/32 [00:00<?, ?it/s]"
      ]
     },
     "metadata": {},
     "output_type": "display_data"
    },
    {
     "data": {
      "application/vnd.jupyter.widget-view+json": {
       "model_id": "",
       "version_major": 2,
       "version_minor": 0
      },
      "text/plain": [
       "  0%|          | 0/32 [00:00<?, ?it/s]"
      ]
     },
     "metadata": {},
     "output_type": "display_data"
    },
    {
     "data": {
      "application/vnd.jupyter.widget-view+json": {
       "model_id": "",
       "version_major": 2,
       "version_minor": 0
      },
      "text/plain": [
       "  0%|          | 0/32 [00:00<?, ?it/s]"
      ]
     },
     "metadata": {},
     "output_type": "display_data"
    },
    {
     "data": {
      "application/vnd.jupyter.widget-view+json": {
       "model_id": "",
       "version_major": 2,
       "version_minor": 0
      },
      "text/plain": [
       "  0%|          | 0/32 [00:00<?, ?it/s]"
      ]
     },
     "metadata": {},
     "output_type": "display_data"
    },
    {
     "data": {
      "application/vnd.jupyter.widget-view+json": {
       "model_id": "",
       "version_major": 2,
       "version_minor": 0
      },
      "text/plain": [
       "  0%|          | 0/32 [00:00<?, ?it/s]"
      ]
     },
     "metadata": {},
     "output_type": "display_data"
    },
    {
     "data": {
      "application/vnd.jupyter.widget-view+json": {
       "model_id": "",
       "version_major": 2,
       "version_minor": 0
      },
      "text/plain": [
       "  0%|          | 0/32 [00:00<?, ?it/s]"
      ]
     },
     "metadata": {},
     "output_type": "display_data"
    },
    {
     "data": {
      "application/vnd.jupyter.widget-view+json": {
       "model_id": "",
       "version_major": 2,
       "version_minor": 0
      },
      "text/plain": [
       "  0%|          | 0/32 [00:00<?, ?it/s]"
      ]
     },
     "metadata": {},
     "output_type": "display_data"
    },
    {
     "data": {
      "application/vnd.jupyter.widget-view+json": {
       "model_id": "",
       "version_major": 2,
       "version_minor": 0
      },
      "text/plain": [
       "  0%|          | 0/32 [00:00<?, ?it/s]"
      ]
     },
     "metadata": {},
     "output_type": "display_data"
    },
    {
     "data": {
      "application/vnd.jupyter.widget-view+json": {
       "model_id": "",
       "version_major": 2,
       "version_minor": 0
      },
      "text/plain": [
       "  0%|          | 0/32 [00:00<?, ?it/s]"
      ]
     },
     "metadata": {},
     "output_type": "display_data"
    },
    {
     "data": {
      "application/vnd.jupyter.widget-view+json": {
       "model_id": "",
       "version_major": 2,
       "version_minor": 0
      },
      "text/plain": [
       "  0%|          | 0/32 [00:00<?, ?it/s]"
      ]
     },
     "metadata": {},
     "output_type": "display_data"
    },
    {
     "data": {
      "application/vnd.jupyter.widget-view+json": {
       "model_id": "",
       "version_major": 2,
       "version_minor": 0
      },
      "text/plain": [
       "  0%|          | 0/32 [00:00<?, ?it/s]"
      ]
     },
     "metadata": {},
     "output_type": "display_data"
    },
    {
     "data": {
      "application/vnd.jupyter.widget-view+json": {
       "model_id": "",
       "version_major": 2,
       "version_minor": 0
      },
      "text/plain": [
       "  0%|          | 0/32 [00:00<?, ?it/s]"
      ]
     },
     "metadata": {},
     "output_type": "display_data"
    },
    {
     "data": {
      "application/vnd.jupyter.widget-view+json": {
       "model_id": "",
       "version_major": 2,
       "version_minor": 0
      },
      "text/plain": [
       "  0%|          | 0/32 [00:00<?, ?it/s]"
      ]
     },
     "metadata": {},
     "output_type": "display_data"
    },
    {
     "data": {
      "application/vnd.jupyter.widget-view+json": {
       "model_id": "",
       "version_major": 2,
       "version_minor": 0
      },
      "text/plain": [
       "  0%|          | 0/32 [00:00<?, ?it/s]"
      ]
     },
     "metadata": {},
     "output_type": "display_data"
    },
    {
     "data": {
      "application/vnd.jupyter.widget-view+json": {
       "model_id": "",
       "version_major": 2,
       "version_minor": 0
      },
      "text/plain": [
       "  0%|          | 0/32 [00:00<?, ?it/s]"
      ]
     },
     "metadata": {},
     "output_type": "display_data"
    },
    {
     "data": {
      "application/vnd.jupyter.widget-view+json": {
       "model_id": "",
       "version_major": 2,
       "version_minor": 0
      },
      "text/plain": [
       "  0%|          | 0/32 [00:00<?, ?it/s]"
      ]
     },
     "metadata": {},
     "output_type": "display_data"
    },
    {
     "data": {
      "application/vnd.jupyter.widget-view+json": {
       "model_id": "",
       "version_major": 2,
       "version_minor": 0
      },
      "text/plain": [
       "  0%|          | 0/32 [00:00<?, ?it/s]"
      ]
     },
     "metadata": {},
     "output_type": "display_data"
    },
    {
     "data": {
      "application/vnd.jupyter.widget-view+json": {
       "model_id": "",
       "version_major": 2,
       "version_minor": 0
      },
      "text/plain": [
       "  0%|          | 0/32 [00:00<?, ?it/s]"
      ]
     },
     "metadata": {},
     "output_type": "display_data"
    },
    {
     "data": {
      "application/vnd.jupyter.widget-view+json": {
       "model_id": "",
       "version_major": 2,
       "version_minor": 0
      },
      "text/plain": [
       "  0%|          | 0/32 [00:00<?, ?it/s]"
      ]
     },
     "metadata": {},
     "output_type": "display_data"
    },
    {
     "data": {
      "application/vnd.jupyter.widget-view+json": {
       "model_id": "",
       "version_major": 2,
       "version_minor": 0
      },
      "text/plain": [
       "  0%|          | 0/32 [00:00<?, ?it/s]"
      ]
     },
     "metadata": {},
     "output_type": "display_data"
    },
    {
     "data": {
      "application/vnd.jupyter.widget-view+json": {
       "model_id": "",
       "version_major": 2,
       "version_minor": 0
      },
      "text/plain": [
       "  0%|          | 0/32 [00:00<?, ?it/s]"
      ]
     },
     "metadata": {},
     "output_type": "display_data"
    },
    {
     "data": {
      "application/vnd.jupyter.widget-view+json": {
       "model_id": "",
       "version_major": 2,
       "version_minor": 0
      },
      "text/plain": [
       "  0%|          | 0/32 [00:00<?, ?it/s]"
      ]
     },
     "metadata": {},
     "output_type": "display_data"
    },
    {
     "data": {
      "application/vnd.jupyter.widget-view+json": {
       "model_id": "",
       "version_major": 2,
       "version_minor": 0
      },
      "text/plain": [
       "  0%|          | 0/32 [00:00<?, ?it/s]"
      ]
     },
     "metadata": {},
     "output_type": "display_data"
    },
    {
     "data": {
      "application/vnd.jupyter.widget-view+json": {
       "model_id": "",
       "version_major": 2,
       "version_minor": 0
      },
      "text/plain": [
       "  0%|          | 0/32 [00:00<?, ?it/s]"
      ]
     },
     "metadata": {},
     "output_type": "display_data"
    },
    {
     "data": {
      "application/vnd.jupyter.widget-view+json": {
       "model_id": "",
       "version_major": 2,
       "version_minor": 0
      },
      "text/plain": [
       "  0%|          | 0/32 [00:00<?, ?it/s]"
      ]
     },
     "metadata": {},
     "output_type": "display_data"
    },
    {
     "data": {
      "application/vnd.jupyter.widget-view+json": {
       "model_id": "",
       "version_major": 2,
       "version_minor": 0
      },
      "text/plain": [
       "  0%|          | 0/32 [00:00<?, ?it/s]"
      ]
     },
     "metadata": {},
     "output_type": "display_data"
    },
    {
     "data": {
      "application/vnd.jupyter.widget-view+json": {
       "model_id": "",
       "version_major": 2,
       "version_minor": 0
      },
      "text/plain": [
       "  0%|          | 0/32 [00:00<?, ?it/s]"
      ]
     },
     "metadata": {},
     "output_type": "display_data"
    },
    {
     "data": {
      "application/vnd.jupyter.widget-view+json": {
       "model_id": "",
       "version_major": 2,
       "version_minor": 0
      },
      "text/plain": [
       "  0%|          | 0/32 [00:00<?, ?it/s]"
      ]
     },
     "metadata": {},
     "output_type": "display_data"
    },
    {
     "data": {
      "application/vnd.jupyter.widget-view+json": {
       "model_id": "",
       "version_major": 2,
       "version_minor": 0
      },
      "text/plain": [
       "  0%|          | 0/32 [00:00<?, ?it/s]"
      ]
     },
     "metadata": {},
     "output_type": "display_data"
    },
    {
     "data": {
      "application/vnd.jupyter.widget-view+json": {
       "model_id": "",
       "version_major": 2,
       "version_minor": 0
      },
      "text/plain": [
       "  0%|          | 0/32 [00:00<?, ?it/s]"
      ]
     },
     "metadata": {},
     "output_type": "display_data"
    },
    {
     "data": {
      "application/vnd.jupyter.widget-view+json": {
       "model_id": "",
       "version_major": 2,
       "version_minor": 0
      },
      "text/plain": [
       "  0%|          | 0/32 [00:00<?, ?it/s]"
      ]
     },
     "metadata": {},
     "output_type": "display_data"
    },
    {
     "data": {
      "application/vnd.jupyter.widget-view+json": {
       "model_id": "",
       "version_major": 2,
       "version_minor": 0
      },
      "text/plain": [
       "  0%|          | 0/32 [00:00<?, ?it/s]"
      ]
     },
     "metadata": {},
     "output_type": "display_data"
    },
    {
     "data": {
      "application/vnd.jupyter.widget-view+json": {
       "model_id": "",
       "version_major": 2,
       "version_minor": 0
      },
      "text/plain": [
       "  0%|          | 0/32 [00:00<?, ?it/s]"
      ]
     },
     "metadata": {},
     "output_type": "display_data"
    },
    {
     "data": {
      "application/vnd.jupyter.widget-view+json": {
       "model_id": "",
       "version_major": 2,
       "version_minor": 0
      },
      "text/plain": [
       "  0%|          | 0/32 [00:00<?, ?it/s]"
      ]
     },
     "metadata": {},
     "output_type": "display_data"
    },
    {
     "data": {
      "application/vnd.jupyter.widget-view+json": {
       "model_id": "",
       "version_major": 2,
       "version_minor": 0
      },
      "text/plain": [
       "  0%|          | 0/32 [00:00<?, ?it/s]"
      ]
     },
     "metadata": {},
     "output_type": "display_data"
    },
    {
     "data": {
      "application/vnd.jupyter.widget-view+json": {
       "model_id": "",
       "version_major": 2,
       "version_minor": 0
      },
      "text/plain": [
       "  0%|          | 0/32 [00:00<?, ?it/s]"
      ]
     },
     "metadata": {},
     "output_type": "display_data"
    },
    {
     "data": {
      "application/vnd.jupyter.widget-view+json": {
       "model_id": "",
       "version_major": 2,
       "version_minor": 0
      },
      "text/plain": [
       "  0%|          | 0/32 [00:00<?, ?it/s]"
      ]
     },
     "metadata": {},
     "output_type": "display_data"
    },
    {
     "data": {
      "application/vnd.jupyter.widget-view+json": {
       "model_id": "",
       "version_major": 2,
       "version_minor": 0
      },
      "text/plain": [
       "  0%|          | 0/32 [00:00<?, ?it/s]"
      ]
     },
     "metadata": {},
     "output_type": "display_data"
    },
    {
     "data": {
      "application/vnd.jupyter.widget-view+json": {
       "model_id": "",
       "version_major": 2,
       "version_minor": 0
      },
      "text/plain": [
       "  0%|          | 0/32 [00:00<?, ?it/s]"
      ]
     },
     "metadata": {},
     "output_type": "display_data"
    },
    {
     "data": {
      "application/vnd.jupyter.widget-view+json": {
       "model_id": "",
       "version_major": 2,
       "version_minor": 0
      },
      "text/plain": [
       "  0%|          | 0/32 [00:00<?, ?it/s]"
      ]
     },
     "metadata": {},
     "output_type": "display_data"
    },
    {
     "data": {
      "application/vnd.jupyter.widget-view+json": {
       "model_id": "",
       "version_major": 2,
       "version_minor": 0
      },
      "text/plain": [
       "  0%|          | 0/32 [00:00<?, ?it/s]"
      ]
     },
     "metadata": {},
     "output_type": "display_data"
    },
    {
     "data": {
      "application/vnd.jupyter.widget-view+json": {
       "model_id": "",
       "version_major": 2,
       "version_minor": 0
      },
      "text/plain": [
       "  0%|          | 0/32 [00:00<?, ?it/s]"
      ]
     },
     "metadata": {},
     "output_type": "display_data"
    },
    {
     "data": {
      "application/vnd.jupyter.widget-view+json": {
       "model_id": "",
       "version_major": 2,
       "version_minor": 0
      },
      "text/plain": [
       "  0%|          | 0/32 [00:00<?, ?it/s]"
      ]
     },
     "metadata": {},
     "output_type": "display_data"
    },
    {
     "data": {
      "application/vnd.jupyter.widget-view+json": {
       "model_id": "",
       "version_major": 2,
       "version_minor": 0
      },
      "text/plain": [
       "  0%|          | 0/32 [00:00<?, ?it/s]"
      ]
     },
     "metadata": {},
     "output_type": "display_data"
    },
    {
     "data": {
      "application/vnd.jupyter.widget-view+json": {
       "model_id": "",
       "version_major": 2,
       "version_minor": 0
      },
      "text/plain": [
       "  0%|          | 0/32 [00:00<?, ?it/s]"
      ]
     },
     "metadata": {},
     "output_type": "display_data"
    },
    {
     "data": {
      "application/vnd.jupyter.widget-view+json": {
       "model_id": "",
       "version_major": 2,
       "version_minor": 0
      },
      "text/plain": [
       "  0%|          | 0/32 [00:00<?, ?it/s]"
      ]
     },
     "metadata": {},
     "output_type": "display_data"
    },
    {
     "data": {
      "application/vnd.jupyter.widget-view+json": {
       "model_id": "",
       "version_major": 2,
       "version_minor": 0
      },
      "text/plain": [
       "  0%|          | 0/32 [00:00<?, ?it/s]"
      ]
     },
     "metadata": {},
     "output_type": "display_data"
    },
    {
     "data": {
      "application/vnd.jupyter.widget-view+json": {
       "model_id": "",
       "version_major": 2,
       "version_minor": 0
      },
      "text/plain": [
       "  0%|          | 0/32 [00:00<?, ?it/s]"
      ]
     },
     "metadata": {},
     "output_type": "display_data"
    },
    {
     "data": {
      "application/vnd.jupyter.widget-view+json": {
       "model_id": "",
       "version_major": 2,
       "version_minor": 0
      },
      "text/plain": [
       "  0%|          | 0/32 [00:00<?, ?it/s]"
      ]
     },
     "metadata": {},
     "output_type": "display_data"
    },
    {
     "data": {
      "application/vnd.jupyter.widget-view+json": {
       "model_id": "",
       "version_major": 2,
       "version_minor": 0
      },
      "text/plain": [
       "  0%|          | 0/32 [00:00<?, ?it/s]"
      ]
     },
     "metadata": {},
     "output_type": "display_data"
    },
    {
     "data": {
      "application/vnd.jupyter.widget-view+json": {
       "model_id": "",
       "version_major": 2,
       "version_minor": 0
      },
      "text/plain": [
       "  0%|          | 0/32 [00:00<?, ?it/s]"
      ]
     },
     "metadata": {},
     "output_type": "display_data"
    },
    {
     "data": {
      "application/vnd.jupyter.widget-view+json": {
       "model_id": "",
       "version_major": 2,
       "version_minor": 0
      },
      "text/plain": [
       "  0%|          | 0/32 [00:00<?, ?it/s]"
      ]
     },
     "metadata": {},
     "output_type": "display_data"
    },
    {
     "data": {
      "application/vnd.jupyter.widget-view+json": {
       "model_id": "",
       "version_major": 2,
       "version_minor": 0
      },
      "text/plain": [
       "  0%|          | 0/32 [00:00<?, ?it/s]"
      ]
     },
     "metadata": {},
     "output_type": "display_data"
    },
    {
     "data": {
      "application/vnd.jupyter.widget-view+json": {
       "model_id": "",
       "version_major": 2,
       "version_minor": 0
      },
      "text/plain": [
       "  0%|          | 0/32 [00:00<?, ?it/s]"
      ]
     },
     "metadata": {},
     "output_type": "display_data"
    },
    {
     "data": {
      "application/vnd.jupyter.widget-view+json": {
       "model_id": "",
       "version_major": 2,
       "version_minor": 0
      },
      "text/plain": [
       "  0%|          | 0/32 [00:00<?, ?it/s]"
      ]
     },
     "metadata": {},
     "output_type": "display_data"
    },
    {
     "data": {
      "application/vnd.jupyter.widget-view+json": {
       "model_id": "",
       "version_major": 2,
       "version_minor": 0
      },
      "text/plain": [
       "  0%|          | 0/32 [00:00<?, ?it/s]"
      ]
     },
     "metadata": {},
     "output_type": "display_data"
    },
    {
     "data": {
      "application/vnd.jupyter.widget-view+json": {
       "model_id": "",
       "version_major": 2,
       "version_minor": 0
      },
      "text/plain": [
       "  0%|          | 0/32 [00:00<?, ?it/s]"
      ]
     },
     "metadata": {},
     "output_type": "display_data"
    },
    {
     "data": {
      "application/vnd.jupyter.widget-view+json": {
       "model_id": "",
       "version_major": 2,
       "version_minor": 0
      },
      "text/plain": [
       "  0%|          | 0/32 [00:00<?, ?it/s]"
      ]
     },
     "metadata": {},
     "output_type": "display_data"
    },
    {
     "data": {
      "application/vnd.jupyter.widget-view+json": {
       "model_id": "",
       "version_major": 2,
       "version_minor": 0
      },
      "text/plain": [
       "  0%|          | 0/32 [00:00<?, ?it/s]"
      ]
     },
     "metadata": {},
     "output_type": "display_data"
    },
    {
     "data": {
      "application/vnd.jupyter.widget-view+json": {
       "model_id": "",
       "version_major": 2,
       "version_minor": 0
      },
      "text/plain": [
       "  0%|          | 0/32 [00:00<?, ?it/s]"
      ]
     },
     "metadata": {},
     "output_type": "display_data"
    },
    {
     "data": {
      "application/vnd.jupyter.widget-view+json": {
       "model_id": "",
       "version_major": 2,
       "version_minor": 0
      },
      "text/plain": [
       "  0%|          | 0/32 [00:00<?, ?it/s]"
      ]
     },
     "metadata": {},
     "output_type": "display_data"
    },
    {
     "data": {
      "application/vnd.jupyter.widget-view+json": {
       "model_id": "",
       "version_major": 2,
       "version_minor": 0
      },
      "text/plain": [
       "  0%|          | 0/32 [00:00<?, ?it/s]"
      ]
     },
     "metadata": {},
     "output_type": "display_data"
    },
    {
     "data": {
      "application/vnd.jupyter.widget-view+json": {
       "model_id": "",
       "version_major": 2,
       "version_minor": 0
      },
      "text/plain": [
       "  0%|          | 0/32 [00:00<?, ?it/s]"
      ]
     },
     "metadata": {},
     "output_type": "display_data"
    },
    {
     "data": {
      "application/vnd.jupyter.widget-view+json": {
       "model_id": "",
       "version_major": 2,
       "version_minor": 0
      },
      "text/plain": [
       "  0%|          | 0/32 [00:00<?, ?it/s]"
      ]
     },
     "metadata": {},
     "output_type": "display_data"
    },
    {
     "data": {
      "application/vnd.jupyter.widget-view+json": {
       "model_id": "",
       "version_major": 2,
       "version_minor": 0
      },
      "text/plain": [
       "  0%|          | 0/32 [00:00<?, ?it/s]"
      ]
     },
     "metadata": {},
     "output_type": "display_data"
    },
    {
     "data": {
      "application/vnd.jupyter.widget-view+json": {
       "model_id": "",
       "version_major": 2,
       "version_minor": 0
      },
      "text/plain": [
       "  0%|          | 0/32 [00:00<?, ?it/s]"
      ]
     },
     "metadata": {},
     "output_type": "display_data"
    },
    {
     "data": {
      "application/vnd.jupyter.widget-view+json": {
       "model_id": "",
       "version_major": 2,
       "version_minor": 0
      },
      "text/plain": [
       "  0%|          | 0/32 [00:00<?, ?it/s]"
      ]
     },
     "metadata": {},
     "output_type": "display_data"
    },
    {
     "data": {
      "application/vnd.jupyter.widget-view+json": {
       "model_id": "",
       "version_major": 2,
       "version_minor": 0
      },
      "text/plain": [
       "  0%|          | 0/32 [00:00<?, ?it/s]"
      ]
     },
     "metadata": {},
     "output_type": "display_data"
    },
    {
     "data": {
      "application/vnd.jupyter.widget-view+json": {
       "model_id": "",
       "version_major": 2,
       "version_minor": 0
      },
      "text/plain": [
       "  0%|          | 0/32 [00:00<?, ?it/s]"
      ]
     },
     "metadata": {},
     "output_type": "display_data"
    },
    {
     "data": {
      "application/vnd.jupyter.widget-view+json": {
       "model_id": "",
       "version_major": 2,
       "version_minor": 0
      },
      "text/plain": [
       "  0%|          | 0/32 [00:00<?, ?it/s]"
      ]
     },
     "metadata": {},
     "output_type": "display_data"
    },
    {
     "data": {
      "application/vnd.jupyter.widget-view+json": {
       "model_id": "",
       "version_major": 2,
       "version_minor": 0
      },
      "text/plain": [
       "  0%|          | 0/32 [00:00<?, ?it/s]"
      ]
     },
     "metadata": {},
     "output_type": "display_data"
    },
    {
     "data": {
      "application/vnd.jupyter.widget-view+json": {
       "model_id": "",
       "version_major": 2,
       "version_minor": 0
      },
      "text/plain": [
       "  0%|          | 0/32 [00:00<?, ?it/s]"
      ]
     },
     "metadata": {},
     "output_type": "display_data"
    },
    {
     "data": {
      "application/vnd.jupyter.widget-view+json": {
       "model_id": "",
       "version_major": 2,
       "version_minor": 0
      },
      "text/plain": [
       "  0%|          | 0/32 [00:00<?, ?it/s]"
      ]
     },
     "metadata": {},
     "output_type": "display_data"
    },
    {
     "data": {
      "application/vnd.jupyter.widget-view+json": {
       "model_id": "",
       "version_major": 2,
       "version_minor": 0
      },
      "text/plain": [
       "  0%|          | 0/32 [00:00<?, ?it/s]"
      ]
     },
     "metadata": {},
     "output_type": "display_data"
    },
    {
     "data": {
      "application/vnd.jupyter.widget-view+json": {
       "model_id": "",
       "version_major": 2,
       "version_minor": 0
      },
      "text/plain": [
       "  0%|          | 0/32 [00:00<?, ?it/s]"
      ]
     },
     "metadata": {},
     "output_type": "display_data"
    },
    {
     "data": {
      "application/vnd.jupyter.widget-view+json": {
       "model_id": "",
       "version_major": 2,
       "version_minor": 0
      },
      "text/plain": [
       "  0%|          | 0/32 [00:00<?, ?it/s]"
      ]
     },
     "metadata": {},
     "output_type": "display_data"
    },
    {
     "data": {
      "application/vnd.jupyter.widget-view+json": {
       "model_id": "",
       "version_major": 2,
       "version_minor": 0
      },
      "text/plain": [
       "  0%|          | 0/32 [00:00<?, ?it/s]"
      ]
     },
     "metadata": {},
     "output_type": "display_data"
    },
    {
     "data": {
      "application/vnd.jupyter.widget-view+json": {
       "model_id": "",
       "version_major": 2,
       "version_minor": 0
      },
      "text/plain": [
       "  0%|          | 0/32 [00:00<?, ?it/s]"
      ]
     },
     "metadata": {},
     "output_type": "display_data"
    },
    {
     "data": {
      "application/vnd.jupyter.widget-view+json": {
       "model_id": "",
       "version_major": 2,
       "version_minor": 0
      },
      "text/plain": [
       "  0%|          | 0/32 [00:00<?, ?it/s]"
      ]
     },
     "metadata": {},
     "output_type": "display_data"
    },
    {
     "data": {
      "application/vnd.jupyter.widget-view+json": {
       "model_id": "",
       "version_major": 2,
       "version_minor": 0
      },
      "text/plain": [
       "  0%|          | 0/32 [00:00<?, ?it/s]"
      ]
     },
     "metadata": {},
     "output_type": "display_data"
    },
    {
     "data": {
      "application/vnd.jupyter.widget-view+json": {
       "model_id": "",
       "version_major": 2,
       "version_minor": 0
      },
      "text/plain": [
       "  0%|          | 0/32 [00:00<?, ?it/s]"
      ]
     },
     "metadata": {},
     "output_type": "display_data"
    },
    {
     "data": {
      "application/vnd.jupyter.widget-view+json": {
       "model_id": "",
       "version_major": 2,
       "version_minor": 0
      },
      "text/plain": [
       "  0%|          | 0/32 [00:00<?, ?it/s]"
      ]
     },
     "metadata": {},
     "output_type": "display_data"
    },
    {
     "data": {
      "application/vnd.jupyter.widget-view+json": {
       "model_id": "",
       "version_major": 2,
       "version_minor": 0
      },
      "text/plain": [
       "  0%|          | 0/32 [00:00<?, ?it/s]"
      ]
     },
     "metadata": {},
     "output_type": "display_data"
    },
    {
     "data": {
      "application/vnd.jupyter.widget-view+json": {
       "model_id": "",
       "version_major": 2,
       "version_minor": 0
      },
      "text/plain": [
       "  0%|          | 0/32 [00:00<?, ?it/s]"
      ]
     },
     "metadata": {},
     "output_type": "display_data"
    },
    {
     "data": {
      "application/vnd.jupyter.widget-view+json": {
       "model_id": "",
       "version_major": 2,
       "version_minor": 0
      },
      "text/plain": [
       "  0%|          | 0/32 [00:00<?, ?it/s]"
      ]
     },
     "metadata": {},
     "output_type": "display_data"
    },
    {
     "data": {
      "application/vnd.jupyter.widget-view+json": {
       "model_id": "",
       "version_major": 2,
       "version_minor": 0
      },
      "text/plain": [
       "  0%|          | 0/32 [00:00<?, ?it/s]"
      ]
     },
     "metadata": {},
     "output_type": "display_data"
    },
    {
     "data": {
      "application/vnd.jupyter.widget-view+json": {
       "model_id": "",
       "version_major": 2,
       "version_minor": 0
      },
      "text/plain": [
       "  0%|          | 0/32 [00:00<?, ?it/s]"
      ]
     },
     "metadata": {},
     "output_type": "display_data"
    },
    {
     "data": {
      "application/vnd.jupyter.widget-view+json": {
       "model_id": "",
       "version_major": 2,
       "version_minor": 0
      },
      "text/plain": [
       "  0%|          | 0/32 [00:00<?, ?it/s]"
      ]
     },
     "metadata": {},
     "output_type": "display_data"
    },
    {
     "data": {
      "application/vnd.jupyter.widget-view+json": {
       "model_id": "",
       "version_major": 2,
       "version_minor": 0
      },
      "text/plain": [
       "  0%|          | 0/32 [00:00<?, ?it/s]"
      ]
     },
     "metadata": {},
     "output_type": "display_data"
    },
    {
     "data": {
      "application/vnd.jupyter.widget-view+json": {
       "model_id": "",
       "version_major": 2,
       "version_minor": 0
      },
      "text/plain": [
       "  0%|          | 0/32 [00:00<?, ?it/s]"
      ]
     },
     "metadata": {},
     "output_type": "display_data"
    },
    {
     "data": {
      "application/vnd.jupyter.widget-view+json": {
       "model_id": "",
       "version_major": 2,
       "version_minor": 0
      },
      "text/plain": [
       "  0%|          | 0/32 [00:00<?, ?it/s]"
      ]
     },
     "metadata": {},
     "output_type": "display_data"
    },
    {
     "data": {
      "application/vnd.jupyter.widget-view+json": {
       "model_id": "",
       "version_major": 2,
       "version_minor": 0
      },
      "text/plain": [
       "  0%|          | 0/32 [00:00<?, ?it/s]"
      ]
     },
     "metadata": {},
     "output_type": "display_data"
    },
    {
     "data": {
      "application/vnd.jupyter.widget-view+json": {
       "model_id": "",
       "version_major": 2,
       "version_minor": 0
      },
      "text/plain": [
       "  0%|          | 0/32 [00:00<?, ?it/s]"
      ]
     },
     "metadata": {},
     "output_type": "display_data"
    },
    {
     "data": {
      "application/vnd.jupyter.widget-view+json": {
       "model_id": "",
       "version_major": 2,
       "version_minor": 0
      },
      "text/plain": [
       "  0%|          | 0/32 [00:00<?, ?it/s]"
      ]
     },
     "metadata": {},
     "output_type": "display_data"
    },
    {
     "data": {
      "application/vnd.jupyter.widget-view+json": {
       "model_id": "",
       "version_major": 2,
       "version_minor": 0
      },
      "text/plain": [
       "  0%|          | 0/32 [00:00<?, ?it/s]"
      ]
     },
     "metadata": {},
     "output_type": "display_data"
    },
    {
     "data": {
      "application/vnd.jupyter.widget-view+json": {
       "model_id": "",
       "version_major": 2,
       "version_minor": 0
      },
      "text/plain": [
       "  0%|          | 0/32 [00:00<?, ?it/s]"
      ]
     },
     "metadata": {},
     "output_type": "display_data"
    },
    {
     "data": {
      "application/vnd.jupyter.widget-view+json": {
       "model_id": "",
       "version_major": 2,
       "version_minor": 0
      },
      "text/plain": [
       "  0%|          | 0/32 [00:00<?, ?it/s]"
      ]
     },
     "metadata": {},
     "output_type": "display_data"
    },
    {
     "data": {
      "application/vnd.jupyter.widget-view+json": {
       "model_id": "",
       "version_major": 2,
       "version_minor": 0
      },
      "text/plain": [
       "  0%|          | 0/32 [00:00<?, ?it/s]"
      ]
     },
     "metadata": {},
     "output_type": "display_data"
    },
    {
     "data": {
      "application/vnd.jupyter.widget-view+json": {
       "model_id": "",
       "version_major": 2,
       "version_minor": 0
      },
      "text/plain": [
       "  0%|          | 0/32 [00:00<?, ?it/s]"
      ]
     },
     "metadata": {},
     "output_type": "display_data"
    },
    {
     "data": {
      "application/vnd.jupyter.widget-view+json": {
       "model_id": "",
       "version_major": 2,
       "version_minor": 0
      },
      "text/plain": [
       "  0%|          | 0/32 [00:00<?, ?it/s]"
      ]
     },
     "metadata": {},
     "output_type": "display_data"
    },
    {
     "data": {
      "application/vnd.jupyter.widget-view+json": {
       "model_id": "",
       "version_major": 2,
       "version_minor": 0
      },
      "text/plain": [
       "  0%|          | 0/32 [00:00<?, ?it/s]"
      ]
     },
     "metadata": {},
     "output_type": "display_data"
    },
    {
     "data": {
      "application/vnd.jupyter.widget-view+json": {
       "model_id": "",
       "version_major": 2,
       "version_minor": 0
      },
      "text/plain": [
       "  0%|          | 0/32 [00:00<?, ?it/s]"
      ]
     },
     "metadata": {},
     "output_type": "display_data"
    },
    {
     "data": {
      "application/vnd.jupyter.widget-view+json": {
       "model_id": "",
       "version_major": 2,
       "version_minor": 0
      },
      "text/plain": [
       "  0%|          | 0/32 [00:00<?, ?it/s]"
      ]
     },
     "metadata": {},
     "output_type": "display_data"
    },
    {
     "data": {
      "application/vnd.jupyter.widget-view+json": {
       "model_id": "",
       "version_major": 2,
       "version_minor": 0
      },
      "text/plain": [
       "  0%|          | 0/32 [00:00<?, ?it/s]"
      ]
     },
     "metadata": {},
     "output_type": "display_data"
    },
    {
     "data": {
      "application/vnd.jupyter.widget-view+json": {
       "model_id": "",
       "version_major": 2,
       "version_minor": 0
      },
      "text/plain": [
       "  0%|          | 0/32 [00:00<?, ?it/s]"
      ]
     },
     "metadata": {},
     "output_type": "display_data"
    },
    {
     "data": {
      "application/vnd.jupyter.widget-view+json": {
       "model_id": "",
       "version_major": 2,
       "version_minor": 0
      },
      "text/plain": [
       "  0%|          | 0/32 [00:00<?, ?it/s]"
      ]
     },
     "metadata": {},
     "output_type": "display_data"
    },
    {
     "data": {
      "application/vnd.jupyter.widget-view+json": {
       "model_id": "",
       "version_major": 2,
       "version_minor": 0
      },
      "text/plain": [
       "  0%|          | 0/32 [00:00<?, ?it/s]"
      ]
     },
     "metadata": {},
     "output_type": "display_data"
    },
    {
     "data": {
      "application/vnd.jupyter.widget-view+json": {
       "model_id": "",
       "version_major": 2,
       "version_minor": 0
      },
      "text/plain": [
       "  0%|          | 0/32 [00:00<?, ?it/s]"
      ]
     },
     "metadata": {},
     "output_type": "display_data"
    },
    {
     "data": {
      "application/vnd.jupyter.widget-view+json": {
       "model_id": "",
       "version_major": 2,
       "version_minor": 0
      },
      "text/plain": [
       "  0%|          | 0/32 [00:00<?, ?it/s]"
      ]
     },
     "metadata": {},
     "output_type": "display_data"
    },
    {
     "data": {
      "application/vnd.jupyter.widget-view+json": {
       "model_id": "",
       "version_major": 2,
       "version_minor": 0
      },
      "text/plain": [
       "  0%|          | 0/32 [00:00<?, ?it/s]"
      ]
     },
     "metadata": {},
     "output_type": "display_data"
    },
    {
     "data": {
      "application/vnd.jupyter.widget-view+json": {
       "model_id": "",
       "version_major": 2,
       "version_minor": 0
      },
      "text/plain": [
       "  0%|          | 0/32 [00:00<?, ?it/s]"
      ]
     },
     "metadata": {},
     "output_type": "display_data"
    },
    {
     "data": {
      "application/vnd.jupyter.widget-view+json": {
       "model_id": "",
       "version_major": 2,
       "version_minor": 0
      },
      "text/plain": [
       "  0%|          | 0/32 [00:00<?, ?it/s]"
      ]
     },
     "metadata": {},
     "output_type": "display_data"
    },
    {
     "data": {
      "application/vnd.jupyter.widget-view+json": {
       "model_id": "",
       "version_major": 2,
       "version_minor": 0
      },
      "text/plain": [
       "  0%|          | 0/32 [00:00<?, ?it/s]"
      ]
     },
     "metadata": {},
     "output_type": "display_data"
    },
    {
     "data": {
      "application/vnd.jupyter.widget-view+json": {
       "model_id": "",
       "version_major": 2,
       "version_minor": 0
      },
      "text/plain": [
       "  0%|          | 0/32 [00:00<?, ?it/s]"
      ]
     },
     "metadata": {},
     "output_type": "display_data"
    },
    {
     "data": {
      "application/vnd.jupyter.widget-view+json": {
       "model_id": "",
       "version_major": 2,
       "version_minor": 0
      },
      "text/plain": [
       "  0%|          | 0/32 [00:00<?, ?it/s]"
      ]
     },
     "metadata": {},
     "output_type": "display_data"
    },
    {
     "data": {
      "application/vnd.jupyter.widget-view+json": {
       "model_id": "",
       "version_major": 2,
       "version_minor": 0
      },
      "text/plain": [
       "  0%|          | 0/32 [00:00<?, ?it/s]"
      ]
     },
     "metadata": {},
     "output_type": "display_data"
    },
    {
     "data": {
      "application/vnd.jupyter.widget-view+json": {
       "model_id": "",
       "version_major": 2,
       "version_minor": 0
      },
      "text/plain": [
       "  0%|          | 0/32 [00:00<?, ?it/s]"
      ]
     },
     "metadata": {},
     "output_type": "display_data"
    },
    {
     "data": {
      "application/vnd.jupyter.widget-view+json": {
       "model_id": "",
       "version_major": 2,
       "version_minor": 0
      },
      "text/plain": [
       "  0%|          | 0/32 [00:00<?, ?it/s]"
      ]
     },
     "metadata": {},
     "output_type": "display_data"
    },
    {
     "data": {
      "application/vnd.jupyter.widget-view+json": {
       "model_id": "",
       "version_major": 2,
       "version_minor": 0
      },
      "text/plain": [
       "  0%|          | 0/32 [00:00<?, ?it/s]"
      ]
     },
     "metadata": {},
     "output_type": "display_data"
    },
    {
     "data": {
      "application/vnd.jupyter.widget-view+json": {
       "model_id": "",
       "version_major": 2,
       "version_minor": 0
      },
      "text/plain": [
       "  0%|          | 0/32 [00:00<?, ?it/s]"
      ]
     },
     "metadata": {},
     "output_type": "display_data"
    },
    {
     "data": {
      "application/vnd.jupyter.widget-view+json": {
       "model_id": "",
       "version_major": 2,
       "version_minor": 0
      },
      "text/plain": [
       "  0%|          | 0/32 [00:00<?, ?it/s]"
      ]
     },
     "metadata": {},
     "output_type": "display_data"
    },
    {
     "data": {
      "application/vnd.jupyter.widget-view+json": {
       "model_id": "",
       "version_major": 2,
       "version_minor": 0
      },
      "text/plain": [
       "  0%|          | 0/32 [00:00<?, ?it/s]"
      ]
     },
     "metadata": {},
     "output_type": "display_data"
    },
    {
     "data": {
      "application/vnd.jupyter.widget-view+json": {
       "model_id": "",
       "version_major": 2,
       "version_minor": 0
      },
      "text/plain": [
       "  0%|          | 0/32 [00:00<?, ?it/s]"
      ]
     },
     "metadata": {},
     "output_type": "display_data"
    },
    {
     "data": {
      "application/vnd.jupyter.widget-view+json": {
       "model_id": "",
       "version_major": 2,
       "version_minor": 0
      },
      "text/plain": [
       "  0%|          | 0/32 [00:00<?, ?it/s]"
      ]
     },
     "metadata": {},
     "output_type": "display_data"
    },
    {
     "data": {
      "application/vnd.jupyter.widget-view+json": {
       "model_id": "",
       "version_major": 2,
       "version_minor": 0
      },
      "text/plain": [
       "  0%|          | 0/32 [00:00<?, ?it/s]"
      ]
     },
     "metadata": {},
     "output_type": "display_data"
    },
    {
     "data": {
      "application/vnd.jupyter.widget-view+json": {
       "model_id": "",
       "version_major": 2,
       "version_minor": 0
      },
      "text/plain": [
       "  0%|          | 0/32 [00:00<?, ?it/s]"
      ]
     },
     "metadata": {},
     "output_type": "display_data"
    },
    {
     "data": {
      "application/vnd.jupyter.widget-view+json": {
       "model_id": "",
       "version_major": 2,
       "version_minor": 0
      },
      "text/plain": [
       "  0%|          | 0/32 [00:00<?, ?it/s]"
      ]
     },
     "metadata": {},
     "output_type": "display_data"
    }
   ],
   "source": [
    "all_adjacent_long_range_matches = {}\n",
    "i_previous = 0\n",
    "for i_next in tqdm(indices_to_check):\n",
    "    pair = (i_previous, i_next)\n",
    "    i_previous = i_next\n",
    "    anchor_frame = all_frames[pair[0]]\n",
    "    long_range_frame = all_frames[pair[1]]\n",
    "    long_range_pair = calc_FramePair_from_Frames(frame0=anchor_frame, frame1=long_range_frame,\n",
    "                                                 frame_pair_options=frame_pair_options)\n",
    "    all_adjacent_long_range_matches[pair] = long_range_pair"
   ]
  },
  {
   "cell_type": "code",
   "execution_count": 23,
   "id": "22f90975-dd21-4bb9-8e9d-e9e4ce5dcf32",
   "metadata": {},
   "outputs": [],
   "source": [
    "[m.calc_final_matches() for m in tqdm(all_adjacent_long_range_matches.values())]\n",
    "project_data.raw_matches.update(all_adjacent_long_range_matches)"
   ]
  },
  {
   "cell_type": "markdown",
   "id": "801cf85e-f059-4673-bd6f-38981b5058b8",
   "metadata": {},
   "source": [
    "# Visualize"
   ]
  },
  {
   "cell_type": "code",
   "execution_count": 115,
   "id": "e9bffd55-5992-4e23-aa94-52f482daa97f",
   "metadata": {},
   "outputs": [],
   "source": [
    "# A pair that is very difficult to judge due to rotated posture\n",
    "pair = (41, 72)"
   ]
  },
  {
   "cell_type": "code",
   "execution_count": 123,
   "id": "d14006b7-c349-4747-9aab-d1b306ade272",
   "metadata": {},
   "outputs": [
    {
     "data": {
      "text/plain": [
       "Viewer(axes=Axes(visible=False, labels=True, colored=True, dashed=False, arrows=True), camera=Camera(center=(15.5, 349.5, 449.5), zoom=1.8524320457796852, angles=(0.0, 0.0, 90.0), perspective=0.0, interactive=True), cursor=Cursor(position=(1.0, 1.0, 0.0, 0.0), scaled=True, size=1, style=<CursorStyle.STANDARD: 'standard'>), dims=Dims(ndim=4, ndisplay=3, last_used=3, range=((0.0, 1.0, 1.0), (0.0, 31.0, 1.0), (0.0, 699.0, 1.0), (0.0, 899.0, 1.0)), current_step=(0, 0, 0, 0), order=(0, 1, 2, 3), axis_labels=('0', '1', '2', '3')), grid=GridCanvas(stride=1, shape=(-1, -1), enabled=False), layers=[<Image layer 'raw_red_data' at 0x7fb0203ccc10>, <Points layer 'n0_zxy' at 0x7fb2683d5250>, <Points layer 'n1_zxy' at 0x7fb020369d50>, <Tracks layer 'final_matches' at 0x7fb020258590>, <Points layer 'Raw IDs' at 0x7fb0200bbe90>], scale_bar=ScaleBar(visible=False, colored=False, ticks=True, position=<Position.BOTTOM_RIGHT: 'bottom_right'>, font_size=10.0, unit=None), text_overlay=TextOverlay(visible=False, color=array([0.5, 0.5, 0.5, 1. ]), font_size=10.0, position=<TextOverlayPosition.TOP_LEFT: 'top_left'>, text=''), help='', status='Ready', tooltip=Tooltip(visible=False, text=''), theme='dark', title='napari', mouse_move_callbacks=[], mouse_drag_callbacks=[], mouse_double_click_callbacks=[], mouse_wheel_callbacks=[<function dims_scroll at 0x7fb416149dd0>], _persisted_mouse_event={}, _mouse_drag_gen={}, _mouse_wheel_gen={}, keymap={'Control-Shift-C': <bound method QtViewer.toggle_console_visibility of <napari._qt.qt_viewer.QtViewer object at 0x7fb0df142f50>>})"
      ]
     },
     "execution_count": 123,
     "metadata": {},
     "output_type": "execute_result"
    }
   ],
   "source": [
    "project_data.napari_of_single_match(pair, rigidly_align_volumetric_images=False)"
   ]
  },
  {
   "cell_type": "code",
   "execution_count": 124,
   "id": "bc8e1c4f-62ff-42a8-a692-0325b466bce1",
   "metadata": {
    "collapsed": true,
    "jupyter": {
     "outputs_hidden": true
    },
    "tags": []
   },
   "outputs": [
    {
     "name": "stderr",
     "output_type": "stream",
     "text": [
      "ERROR:tornado.general:Uncaught exception in ZMQStream callback\n",
      "Traceback (most recent call last):\n",
      "  File \"/home/charles/anaconda3/envs/torch/lib/python3.7/site-packages/zmq/eventloop/zmqstream.py\", line 431, in _run_callback\n",
      "    callback(*args, **kwargs)\n",
      "  File \"/home/charles/anaconda3/envs/torch/lib/python3.7/site-packages/jupyter_client/threaded.py\", line 121, in _handle_recv\n",
      "    msg_list = self.ioloop._asyncio_event_loop.run_until_complete(get_msg(future_msg))\n",
      "  File \"/home/charles/anaconda3/envs/torch/lib/python3.7/asyncio/base_events.py\", line 563, in run_until_complete\n",
      "    self._check_runnung()\n",
      "  File \"/home/charles/anaconda3/envs/torch/lib/python3.7/asyncio/base_events.py\", line 526, in _check_runnung\n",
      "    'Cannot run the event loop while another loop is running')\n",
      "RuntimeError: Cannot run the event loop while another loop is running\n",
      "ERROR:tornado.general:Uncaught exception in ZMQStream callback\n",
      "Traceback (most recent call last):\n",
      "  File \"/home/charles/anaconda3/envs/torch/lib/python3.7/site-packages/zmq/eventloop/zmqstream.py\", line 431, in _run_callback\n",
      "    callback(*args, **kwargs)\n",
      "  File \"/home/charles/anaconda3/envs/torch/lib/python3.7/site-packages/jupyter_client/threaded.py\", line 121, in _handle_recv\n",
      "    msg_list = self.ioloop._asyncio_event_loop.run_until_complete(get_msg(future_msg))\n",
      "  File \"/home/charles/anaconda3/envs/torch/lib/python3.7/asyncio/base_events.py\", line 563, in run_until_complete\n",
      "    self._check_runnung()\n",
      "  File \"/home/charles/anaconda3/envs/torch/lib/python3.7/asyncio/base_events.py\", line 526, in _check_runnung\n",
      "    'Cannot run the event loop while another loop is running')\n",
      "RuntimeError: Cannot run the event loop while another loop is running\n",
      "ERROR:tornado.general:Uncaught exception in zmqstream callback\n",
      "Traceback (most recent call last):\n",
      "  File \"/home/charles/anaconda3/envs/torch/lib/python3.7/site-packages/zmq/eventloop/zmqstream.py\", line 448, in _handle_events\n",
      "    self._handle_recv()\n",
      "  File \"/home/charles/anaconda3/envs/torch/lib/python3.7/site-packages/zmq/eventloop/zmqstream.py\", line 477, in _handle_recv\n",
      "    self._run_callback(callback, msg)\n",
      "  File \"/home/charles/anaconda3/envs/torch/lib/python3.7/site-packages/zmq/eventloop/zmqstream.py\", line 431, in _run_callback\n",
      "    callback(*args, **kwargs)\n",
      "  File \"/home/charles/anaconda3/envs/torch/lib/python3.7/site-packages/jupyter_client/threaded.py\", line 121, in _handle_recv\n",
      "    msg_list = self.ioloop._asyncio_event_loop.run_until_complete(get_msg(future_msg))\n",
      "  File \"/home/charles/anaconda3/envs/torch/lib/python3.7/asyncio/base_events.py\", line 563, in run_until_complete\n",
      "    self._check_runnung()\n",
      "  File \"/home/charles/anaconda3/envs/torch/lib/python3.7/asyncio/base_eventsERROR:tornado.general:Uncaught exception in zmqstream callback\n",
      "Traceback (most recent call last):\n",
      "  File \"/home/charles/anaconda3/envs/torch/lib/python3.7/site-packages/zmq/eventloop/zmqstream.py\", line 448, in _handle_events\n",
      "    self._handle_recv()\n",
      "  File \"/home/charles/anaconda3/envs/torch/lib/python3.7/site-packages/zmq/eventloop/zmqstream.py\", line 477, in _handle_recv\n",
      "    self._run_callback(callback, msg)\n",
      "  File \"/home/charles/anaconda3/envs/torch/lib/python3.7/site-packages/zmq/eventloop/zmqstream.py\", line 431, in _run_callback\n",
      "    callback(*args, **kwargs)\n",
      "  File \"/home/charles/anaconda3/envs/torch/lib/python3.7/site-packages/jupyter_client/threaded.py\", line 121, in _handle_recv\n",
      "    msg_list = self.ioloop._asyncio_event_loop.run_until_complete(get_msg(future_msg))\n",
      "  File \"/home/charles/anaconda3/envs/torch/lib/python3.7/asyncio/base_events.py\", line 563, in run_until_complete\n",
      "    self._check_runnung()\n",
      "  File \"/home/charles/anaconda3/envs/torch/lib/python3.7/asyncio/base_events.py\", line 526, in _check_runnung\n",
      "    'Cannot run the event loop while another loop is running')\n",
      "RuntimeError: Cannot run the event loop while another loop is running\n",
      ".py\", line 526, in _check_runnung\n",
      "    'Cannot run the event loop while another loop is running')\n",
      "RuntimeError: Cannot run the event loop while another loop is running\n",
      "ERROR:asyncio:Exception in callback BaseAsyncIOLoop._handle_events(1264, 1)\n",
      "handle: <Handle BaseAsyncIOLoop._handle_events(1264, 1)>\n",
      "Traceback (most recent call last):\n",
      "  File \"/home/charles/anaconda3/envs/torch/lib/python3.7/asyncio/events.py\", line 88, in _run\n",
      "    self._context.run(self._callback, *self._args)\n",
      "  File \"/home/charles/anaconda3/envs/torch/lib/python3.7/site-packages/tornado/platform/asyncio.py\", line 189, in _handle_events\n",
      "    handler_func(fileobj, events)\n",
      "  File \"/home/charles/anaconda3/envs/torch/lib/python3.7/site-packages/zmq/eventloop/zmqstream.py\", line 448, in _handle_events\n",
      "    self._handle_recv()\n",
      "  File \"/home/charles/anaconda3/envs/torch/lib/python3.7/site-packages/zmq/eventloop/zmqstream.py\", line 477, in _handle_recv\n",
      "    self._run_callback(callback, msg)\n",
      "  File \"/home/charles/anaconda3/envs/torch/lib/python3.7/site-packages/zmq/eventloop/zmqstream.py\", line 431, in _run_callback\n",
      "    callback(*args, **kwargs)\n",
      "  File \"/home/charles/anaconda3/envs/torch/lib/python3.7/site-packages/jupyter_client/threaded.py\", line 121, in _handle_recv\n",
      "    msg_list = self.ioloop._asyncio_event_loop.run_until_complete(get_msg(future_msg))\n",
      "  File \"/home/charles/anaconda3/envs/torch/lib/python3.7/asyncio/base_events.py\", line 563, in run_until_complete\n",
      "    self._check_runnung()\n",
      "  File \"/home/charles/anaconda3/envs/torch/lib/python3.7/asyncio/base_events.py\", line 526, in _check_runnung\n",
      "    'Cannot run the event loop while another loop is running')\n",
      "RuntimeError: Cannot run the event loop while another loop is running\n",
      "/home/charles/anaconda3/envs/torch/lib/python3.7/site-packages/zmq/sugar/poll.py:105: RuntimeWarning: coroutine 'get_msg' was never awaited\n",
      "  return zmq_poll(self.sockets, timeout=timeout)\n",
      "RuntimeWarning: Enable tracemalloc to get the object allocation traceback\n"
     ]
    },
    {
     "data": {
      "text/plain": [
       "Viewer(axes=Axes(visible=False, labels=True, colored=True, dashed=False, arrows=True), camera=Camera(center=(15.5, 349.5, 449.5), zoom=1.8524320457796852, angles=(0.0, 0.0, 90.0), perspective=0.0, interactive=True), cursor=Cursor(position=(1.0, 1.0, 0.0, 0.0), scaled=True, size=1, style=<CursorStyle.STANDARD: 'standard'>), dims=Dims(ndim=4, ndisplay=3, last_used=3, range=((0.0, 1.0, 1.0), (0.0, 31.0, 1.0), (0.0, 699.0, 1.0), (0.0, 899.0, 1.0)), current_step=(0, 0, 0, 0), order=(0, 1, 2, 3), axis_labels=('0', '1', '2', '3')), grid=GridCanvas(stride=1, shape=(-1, -1), enabled=False), layers=[<Image layer 'raw_red_data' at 0x7fb0dcda87d0>, <Points layer 'n0_zxy' at 0x7fb02689ad50>, <Points layer 'n1_zxy' at 0x7fb0dcd02210>, <Tracks layer 'final_matches' at 0x7fb0dcc15190>, <Points layer 'Raw IDs' at 0x7fb08caeacd0>], scale_bar=ScaleBar(visible=False, colored=False, ticks=True, position=<Position.BOTTOM_RIGHT: 'bottom_right'>, font_size=10.0, unit=None), text_overlay=TextOverlay(visible=False, color=array([0.5, 0.5, 0.5, 1. ]), font_size=10.0, position=<TextOverlayPosition.TOP_LEFT: 'top_left'>, text=''), help='', status='Ready', tooltip=Tooltip(visible=False, text=''), theme='dark', title='napari', mouse_move_callbacks=[], mouse_drag_callbacks=[], mouse_double_click_callbacks=[], mouse_wheel_callbacks=[<function dims_scroll at 0x7fb416149dd0>], _persisted_mouse_event={}, _mouse_drag_gen={}, _mouse_wheel_gen={}, keymap={'Control-Shift-C': <bound method QtViewer.toggle_console_visibility of <napari._qt.qt_viewer.QtViewer object at 0x7fb01878a4b0>>})"
      ]
     },
     "execution_count": 124,
     "metadata": {},
     "output_type": "execute_result"
    }
   ],
   "source": [
    "project_data.napari_of_single_match(pair, rigidly_align_volumetric_images=True)"
   ]
  },
  {
   "cell_type": "code",
   "execution_count": 114,
   "id": "0d95aea6-b7ba-4eed-b191-5980d21a264f",
   "metadata": {
    "collapsed": true,
    "jupyter": {
     "outputs_hidden": true
    },
    "tags": []
   },
   "outputs": [
    {
     "name": "stderr",
     "output_type": "stream",
     "text": [
      ".py\", line 526, in _check_runnung\n",
      "    'Cannot run the event loop while another loop is running')\n",
      "RuntimeError: Cannot run the event loop while another loop is running\n",
      "ERROR:asyncio:Exception in callback BaseAsyncIOLoop._handle_events(1114, 1)\n",
      "handle: <Handle BaseAsyncIOLoop._handle_events(1114, 1)>\n",
      "Traceback (most recent call last):\n",
      "  File \"/home/charles/anaconda3/envs/torch/lib/python3.7/asyncio/events.py\", line 88, in _run\n",
      "    self._context.run(self._callback, *self._args)\n",
      "  File \"/home/charles/anaconda3/envs/torch/lib/python3.7/site-packages/tornado/platform/asyncio.py\", line 189, in _handle_events\n",
      "    handler_func(fileobj, events)\n",
      "  File \"/home/charles/anaconda3/envs/torch/lib/python3.7/site-packages/zmq/eventloop/zmqstream.py\", line 448, in _handle_events\n",
      "    self._handle_recv()\n",
      "  File \"/home/charles/anaconda3/envs/torch/lib/python3.7/site-packages/zmq/eventloop/zmqstream.py\", line 477, in _handle_recv\n",
      "    self._run_callback(callback, msg)\n",
      "  File \"/home/charles/anaconda3/envs/torch/lib/python3.7/site-packages/zmq/eventloop/zmqstream.py\", line 431, in _run_callback\n",
      "    callback(*args, **kwargs)\n",
      "  File \"/home/charles/anaconda3/envs/torch/lib/python3.7/site-packages/jupyter_client/threaded.py\", line 121, in _handle_recv\n",
      "    msg_list = self.ioloop._asyncio_event_loop.run_until_complete(get_msg(future_msg))\n",
      "  File \"/home/charles/anaconda3/envs/torch/lib/python3.7/asyncio/base_events.py\", line 563, in run_until_complete\n",
      "    self._check_runnung()\n",
      "  File \"/home/charles/anaconda3/envs/torch/lib/python3.7/asyncio/base_events.py\", line 526, in _check_runnung\n",
      "    'Cannot run the event loop while another loop is running')\n",
      "RuntimeError: Cannot run the event loop while another loop is running\n",
      "ERROR:tornado.general:Uncaught exception in ZMQStream callback\n",
      "Traceback (most recent call last):\n",
      "  File \"/home/charles/anaconda3/envs/torch/lib/python3.7/site-packages/zmq/eventloop/zmqstream.py\", line 431, in _run_callback\n",
      "    callback(*args, **kwargs)\n",
      "  File \"/home/charles/anaconda3/envs/torch/lib/python3.7/site-packages/jupyter_client/threaded.py\", line 121, in _handle_recv\n",
      "    msg_list = self.ioloop._asyncio_event_loop.run_until_complete(get_msg(future_msg))\n",
      "  File \"/home/charles/anaconda3/envs/torch/lib/python3.7/asyncio/base_events.py\", line 563, in run_until_complete\n",
      "    self._check_runnung()\n",
      "  File \"/home/charles/anaconda3/envs/torch/lib/python3.7/asyncio/base_events.py\", line 526, in _check_runnung\n",
      "    'Cannot run the event loop while another loop is running')\n",
      "RuntimeError: Cannot run the event loop while another loop is running\n",
      "ERROR:tornado.general:Uncaught exception in ZMQStream callback\n",
      "Traceback (most recent call last):\n",
      "  File \"/home/charles/anaconda3/envs/torch/lib/python3.7/site-packages/zmq/eventloop/zmqstream.py\", line 431, in _run_callback\n",
      "    callback(*args, **kwargs)\n",
      "  File \"/home/charles/anaconda3/envs/torch/lib/python3.7/site-packages/jupyter_client/threaded.py\", line 121, in _handle_recv\n",
      "    msg_list = self.ioloop._asyncio_event_loop.run_until_complete(get_msg(future_msg))\n",
      "  File \"/home/charles/anaconda3/envs/torch/lib/python3.7/asyncio/base_events.py\", line 563, in run_until_complete\n",
      "    self._check_runnung()\n",
      "  File \"/home/charles/anaconda3/envs/torch/lib/python3.7/asyncio/base_events.py\", line 526, in _check_runnung\n",
      "    'Cannot run the event loop while another loop is running')\n",
      "RuntimeError: Cannot run the event loop while another loop is running\n",
      "ERROR:tornado.general:Uncaught exception in zmqstream callback\n",
      "Traceback (most recent call last):\n",
      "  File \"/home/charles/anaconda3/envs/torch/lib/python3.7/site-packages/zmq/eventloop/zmqstream.py\", line 448, in _handle_events\n",
      "    self._handle_recv()\n",
      "  File \"/home/charles/anaconda3/envs/torch/lib/python3.7/site-packages/zmq/eventloop/zmqstream.py\", line 477, in _handle_recv\n",
      "    self._run_callback(callback, msg)\n",
      "  File \"/home/charles/anaconda3/envs/torch/lib/python3.7/site-packages/zmq/eventloop/zmqstream.py\", line 431, in _run_callback\n",
      "    callback(*args, **kwargs)\n",
      "  File \"/home/charles/anaconda3/envs/torch/lib/python3.7/site-packages/jupyter_client/threaded.py\", line 121, in _handle_recv\n",
      "    msg_list = self.ioloop._asyncio_event_loop.run_until_complete(get_msg(future_msg))\n",
      "  File \"/home/charles/anaconda3/envs/torch/lib/python3.7/asyncio/base_events.py\", line 563, in run_until_complete\n",
      "    self._check_runnung()\n",
      "  File \"/home/charles/anaconda3/envs/torch/lib/python3.7/asyncio/base_events.py\", line 526, in _check_runnung\n",
      "    'Cannot run the event loop while another loop is running')\n",
      "RuntimeError: Cannot run the event loop while another loop is running\n",
      "ERROR:tornado.general:Uncaught exception in zmqstream callback\n",
      "Traceback (most recent call last):\n",
      "  File \"/home/charles/anaconda3/envs/torch/lib/python3.7/site-packages/zmq/eventloop/zmqstream.py\", line 448, in _handle_events\n",
      "    self._handle_recv()\n",
      "  File \"/home/charles/anaconda3/envs/torch/lib/python3.7/site-packages/zmq/eventloop/zmqstream.py\", line 477, in _handle_recv\n",
      "    self._run_callback(callback, msg)\n",
      "  File \"/home/charles/anaconda3/envs/torch/lib/python3.7/site-packages/zmq/eventloop/zmqstream.py\", line 431, in _run_callback\n",
      "    callback(*args, **kwargs)\n",
      "  File \"/home/charles/anaconda3/envs/torch/lib/python3.7/site-packages/jupyter_client/threaded.py\", line 121, in _handle_recv\n",
      "    msg_list = self.ioloop._asyncio_event_loop.run_until_complete(get_msg(future_msg))\n",
      "  File \"/home/charles/anaconda3/envs/torch/lib/python3.7/asyncio/base_events.py\", line 563, in run_until_complete\n",
      "    self._check_runnung()\n",
      "  File \"/home/charles/anaconda3/envs/torch/lib/python3.7/asyncio/base_events.py\", line 526, in _check_runnung\n",
      "    'Cannot run the event loop while another loop is running')\n",
      "RuntimeError: Cannot run the event loop while another loop is running\n",
      "ERROR:asyncio:Exception in callback BaseAsyncIOLoop._handle_events(1081, 1)\n",
      "handle: <Handle BaseAsyncIOLoop._handle_events(1081, 1)>\n",
      "Traceback (most recent call last):\n",
      "  File \"/home/charles/anaconda3/envs/torch/lib/python3.7/asyncio/events.py\", line 88, in _run\n",
      "    self._context.run(self._callback, *self._args)\n",
      "  File \"/home/charles/anaconda3/envs/torch/lib/python3.7/site-packages/tornado/platform/asyncio.py\", line 189, in _handle_events\n",
      "    handler_func(fileobj, events)\n",
      "  File \"/home/charles/anaconda3/envs/torch/lib/python3.7/site-packages/zmq/eventloop/zmqstream.py\", line 448, in _handle_events\n",
      "    self._handle_recv()\n",
      "  File \"/home/charles/anaconda3/envs/torch/lib/python3.7/site-packages/zmq/eventloop/zmqstream.py\", line 477, in _handle_recv\n",
      "    self._run_callback(callback, msg)\n",
      "  File \"/home/charles/anaconda3/envs/torch/lib/python3.7/site-packages/zmq/eventloop/zmqstream.py\", line 431, in _run_callback\n",
      "    callback(*args, **kwargs)\n",
      "  File \"/home/charles/anaconda3/envs/torch/lib/python3.7/site-packages/jupyter_client/threaded.py\", line 121, in _handle_recv\n",
      "    msg_list = self.ioloop._asyncio_event_loop.run_until_complete(get_msg(future_msg))\n",
      "  File \"/home/charles/anaconda3/envs/torch/lib/python3.7/asyncio/base_events.py\", line 563, in run_until_complete\n",
      "    self._check_runnung()\n",
      "  File \"/home/charles/anaconda3/envs/torch/lib/python3.7/asyncio/base_events.py\", line 526, in _check_runnung\n",
      "    'Cannot run the event loop while another loop is running')\n",
      "RuntimeError: Cannot run the event loop while another loop is running\n"
     ]
    },
    {
     "name": "stdout",
     "output_type": "stream",
     "text": [
      "Found match (11, 31) with confidence 0.17031543930755277\n",
      "Same match from feature method with confidence: 0.17199150825224715\n",
      "Neuron not matched using affine method\n",
      "Different match from gaussian process method: 22 with confidence: 0.10371331502900215\n",
      "Same match from fdnc (neural network) method with confidence: 0.17031543930755277\n"
     ]
    },
    {
     "name": "stderr",
     "output_type": "stream",
     "text": [
      "/home/charles/Current_work/repos/dlc_for_wbfm/DLC_for_WBFM/utils/feature_detection/class_frame_pair.py:280: RuntimeWarning: coroutine 'get_msg' was never awaited\n",
      "  return {(n0, n1): c for n0, n1, c in matches}\n",
      "RuntimeWarning: Enable tracemalloc to get the object allocation traceback\n"
     ]
    }
   ],
   "source": [
    "this_match.print_reason_for_match((11, 31))"
   ]
  },
  {
   "cell_type": "markdown",
   "id": "ae863f4e-27ae-4f7e-96fb-b1e88becf316",
   "metadata": {},
   "source": [
    "# Compare to a time-adjacent match"
   ]
  },
  {
   "cell_type": "code",
   "execution_count": 104,
   "id": "5cd6ef66-0bb6-4941-adf8-53d81faa00fb",
   "metadata": {},
   "outputs": [],
   "source": [
    "pair2 = (19, 20)"
   ]
  },
  {
   "cell_type": "code",
   "execution_count": 121,
   "id": "e2a71545-4b16-485c-857d-d0192e19bf0f",
   "metadata": {},
   "outputs": [
    {
     "data": {
      "text/plain": [
       "Viewer(axes=Axes(visible=False, labels=True, colored=True, dashed=False, arrows=True), camera=Camera(center=(15.5, 349.5, 449.5), zoom=1.8524320457796852, angles=(0.0, 0.0, 90.0), perspective=0.0, interactive=True), cursor=Cursor(position=(1.0, 1.0, 0.0, 0.0), scaled=True, size=1, style=<CursorStyle.STANDARD: 'standard'>), dims=Dims(ndim=4, ndisplay=3, last_used=3, range=((0.0, 1.0, 1.0), (0.0, 31.0, 1.0), (0.0, 699.0, 1.0), (0.0, 899.0, 1.0)), current_step=(0, 0, 0, 0), order=(0, 1, 2, 3), axis_labels=('0', '1', '2', '3')), grid=GridCanvas(stride=1, shape=(-1, -1), enabled=False), layers=[<Image layer 'raw_red_data' at 0x7fb0df336710>, <Points layer 'n0_zxy' at 0x7fb08d1cf0d0>, <Points layer 'n1_zxy' at 0x7fb0df204c90>, <Tracks layer 'final_matches' at 0x7fb0df8f6690>, <Points layer 'Raw IDs' at 0x7fb0df0a6110>], scale_bar=ScaleBar(visible=False, colored=False, ticks=True, position=<Position.BOTTOM_RIGHT: 'bottom_right'>, font_size=10.0, unit=None), text_overlay=TextOverlay(visible=False, color=array([0.5, 0.5, 0.5, 1. ]), font_size=10.0, position=<TextOverlayPosition.TOP_LEFT: 'top_left'>, text=''), help='', status='Ready', tooltip=Tooltip(visible=False, text=''), theme='dark', title='napari', mouse_move_callbacks=[], mouse_drag_callbacks=[], mouse_double_click_callbacks=[], mouse_wheel_callbacks=[<function dims_scroll at 0x7fb416149dd0>], _persisted_mouse_event={}, _mouse_drag_gen={}, _mouse_wheel_gen={}, keymap={'Control-Shift-C': <bound method QtViewer.toggle_console_visibility of <napari._qt.qt_viewer.QtViewer object at 0x7fb2d054a410>>})"
      ]
     },
     "execution_count": 121,
     "metadata": {},
     "output_type": "execute_result"
    }
   ],
   "source": [
    "project_data.napari_of_single_match(pair2, rigidly_align_volumetric_images=True)"
   ]
  },
  {
   "cell_type": "code",
   "execution_count": 107,
   "id": "c8b83d1a-2859-4d67-8896-9276d3150d56",
   "metadata": {},
   "outputs": [],
   "source": [
    "match2 = project_data.raw_matches[pair2]"
   ]
  },
  {
   "cell_type": "code",
   "execution_count": 108,
   "id": "ff8fd868-4721-4095-bb44-83399bf134a0",
   "metadata": {},
   "outputs": [
    {
     "name": "stdout",
     "output_type": "stream",
     "text": [
      "Candidate: (24, 48, 0.16404473141225326)\n",
      "Candidate: (24, 24, 0.6428518645736653)\n",
      "Candidate: (24, 24, 0.37601332275602467)\n"
     ]
    }
   ],
   "source": [
    "match2.print_candidates_for_neuron(24)"
   ]
  },
  {
   "cell_type": "code",
   "execution_count": 109,
   "id": "09911ab1-c096-4078-b831-a756c2bc45df",
   "metadata": {},
   "outputs": [
    {
     "name": "stdout",
     "output_type": "stream",
     "text": [
      "Candidate: (52, 170, 0.14554029549733993)\n",
      "Candidate: (52, 159, 0.232427112932847)\n",
      "Candidate: (52, 159, 0.13147291183042129)\n"
     ]
    }
   ],
   "source": [
    "match2.print_candidates_for_neuron(52)"
   ]
  },
  {
   "cell_type": "code",
   "execution_count": 110,
   "id": "d8ed6a0b-fffe-478a-a9c5-fd344c93a90c",
   "metadata": {},
   "outputs": [
    {
     "name": "stdout",
     "output_type": "stream",
     "text": [
      "Candidate: (155, 159, 0.16361477214813003)\n",
      "Candidate: (155, 107, 0.5402441601508519)\n",
      "Candidate: (155, 107, 0.5210786940035103)\n"
     ]
    }
   ],
   "source": [
    "match2.print_candidates_for_neuron(155)"
   ]
  },
  {
   "cell_type": "code",
   "execution_count": 120,
   "id": "87637bd8-376d-4f0d-aa18-da56319ec72c",
   "metadata": {
    "collapsed": true,
    "jupyter": {
     "outputs_hidden": true
    },
    "tags": []
   },
   "outputs": [
    {
     "data": {
      "text/plain": [
       "[(0, 150, 0.852374758901934),\n",
       " (1, 7, 0.7830180184853922),\n",
       " (2, 4, 0.8136085475027723),\n",
       " (3, 5, 0.7916699080174857),\n",
       " (4, 3, 0.8461989362122421),\n",
       " (5, 0, 0.8602418809041176),\n",
       " (6, 2, 0.8595335940790549),\n",
       " (7, 6, 0.8743687756147265),\n",
       " (8, 8, 0.8713962875687311),\n",
       " (9, 9, 0.23824721066461435),\n",
       " (10, 19, 0.836261389198005),\n",
       " (11, 13, 0.7611787204259876),\n",
       " (12, 20, 0.8824928557050995),\n",
       " (13, 16, 0.8045071985916269),\n",
       " (14, 12, 0.8947651313547785),\n",
       " (15, 10, 0.6225941888986092),\n",
       " (16, 23, 0.7963042580340466),\n",
       " (17, 50, 0.3136640213644505),\n",
       " (18, 22, 0.8302666151482179),\n",
       " (19, 17, 0.6795790650538052),\n",
       " (20, 21, 0.8549865343442382),\n",
       " (21, 11, 0.738175601420146),\n",
       " (22, 18, 0.8681962914433063),\n",
       " (23, 14, 0.8427190220905658),\n",
       " (24, 24, 0.7694039164767803),\n",
       " (25, 25, 0.8069627100434412),\n",
       " (26, 27, 0.626347632064786),\n",
       " (27, 35, 0.8529009534766184),\n",
       " (28, 30, 0.7645391224493254),\n",
       " (29, 28, 0.8105444093254619),\n",
       " (30, 26, 0.8150476239371951),\n",
       " (31, 31, 0.8831628382800951),\n",
       " (32, 36, 0.8346806736558801),\n",
       " (33, 33, 0.7161454418209715),\n",
       " (34, 39, 0.6846425851395721),\n",
       " (35, 37, 0.8120526315895036),\n",
       " (36, 32, 0.8422359417677407),\n",
       " (37, 29, 0.7542951866852191),\n",
       " (38, 47, 0.23341131941891258),\n",
       " (39, 38, 0.8289212871619938),\n",
       " (40, 42, 0.7694630900036302),\n",
       " (41, 40, 0.8988798983965781),\n",
       " (42, 34, 0.9339881726313343),\n",
       " (43, 43, 0.6621909256299149),\n",
       " (44, 44, 0.903904405754385),\n",
       " (45, 52, 0.8607977366795476),\n",
       " (46, 46, 0.7688071019268359),\n",
       " (47, 41, 0.8728391731959482),\n",
       " (48, 49, 0.8616092075642006),\n",
       " (49, 51, 0.7285613825236879),\n",
       " (50, 15, 0.4832416903744689),\n",
       " (51, 54, 0.9234606507038842),\n",
       " (53, 53, 0.9008287649511151),\n",
       " (54, 58, 0.9112704753168174),\n",
       " (55, 55, 0.8465528936372788),\n",
       " (56, 56, 0.8567814924783661),\n",
       " (58, 57, 0.7817198291556483),\n",
       " (59, 61, 0.7876491033966182),\n",
       " (60, 59, 0.9624590296691764),\n",
       " (61, 63, 0.8437924600410612),\n",
       " (62, 60, 0.9288285958992266),\n",
       " (64, 65, 0.805703868337604),\n",
       " (66, 66, 0.958618527055309),\n",
       " (67, 67, 0.8898168897599744),\n",
       " (68, 69, 0.8810701207065348),\n",
       " (69, 64, 0.8345267150595513),\n",
       " (70, 71, 0.7753816584222152),\n",
       " (71, 68, 0.9064554670668872),\n",
       " (72, 70, 0.8539281810919566),\n",
       " (73, 73, 0.9074845421836585),\n",
       " (74, 72, 0.870641438396857),\n",
       " (75, 74, 0.959740347272422),\n",
       " (76, 75, 0.9538213187215723),\n",
       " (77, 76, 0.9301922629986721),\n",
       " (78, 79, 0.9704235126885291),\n",
       " (79, 77, 0.7774483683235017),\n",
       " (81, 80, 0.9433290198925538),\n",
       " (82, 92, 0.2607703017117072),\n",
       " (83, 62, 0.4459432774748009),\n",
       " (84, 90, 0.8535405282741272),\n",
       " (85, 89, 0.3507619338964736),\n",
       " (86, 99, 0.24486475766493498),\n",
       " (87, 96, 0.2703305105306578),\n",
       " (88, 85, 0.35946759191877603),\n",
       " (91, 93, 0.33161143778075386),\n",
       " (92, 94, 0.9049107291805283),\n",
       " (94, 91, 0.8138779833509333),\n",
       " (95, 160, 0.13549474089778502),\n",
       " (96, 81, 0.6730790242739543),\n",
       " (97, 88, 0.7338947458128126),\n",
       " (98, 103, 0.9276654301485611),\n",
       " (99, 100, 0.9569143096175642),\n",
       " (100, 105, 0.9080502206029966),\n",
       " (101, 87, 0.5133006634004321),\n",
       " (102, 101, 0.8855615407530097),\n",
       " (103, 95, 0.2394316557286663),\n",
       " (104, 106, 0.6774541238830005),\n",
       " (105, 104, 0.7124024241013408),\n",
       " (107, 102, 0.8220722645887983),\n",
       " (108, 115, 0.7818134134177251),\n",
       " (109, 112, 0.6583576197145307),\n",
       " (110, 116, 0.7496366213687062),\n",
       " (111, 156, 0.5122493980009919),\n",
       " (112, 108, 0.817124307797405),\n",
       " (113, 83, 0.5548018192005975),\n",
       " (114, 117, 0.6864773154735088),\n",
       " (115, 113, 0.7497159633486002),\n",
       " (116, 121, 0.8840928974682697),\n",
       " (117, 110, 0.4348166244320122),\n",
       " (118, 109, 0.6147262978141577),\n",
       " (119, 114, 0.6078422582344589),\n",
       " (120, 119, 0.8307991920865084),\n",
       " (121, 126, 0.8463314367570748),\n",
       " (122, 166, 0.8408707911890899),\n",
       " (123, 122, 0.6886605784488038),\n",
       " (124, 128, 0.804066164691592),\n",
       " (125, 131, 0.9270278198189461),\n",
       " (126, 129, 0.7898923747652061),\n",
       " (127, 123, 0.6083637628353382),\n",
       " (128, 127, 0.8689777764088426),\n",
       " (129, 124, 0.8139029727577458),\n",
       " (130, 134, 0.7710554176710596),\n",
       " (131, 135, 0.71935861292174),\n",
       " (132, 142, 0.887484890332742),\n",
       " (133, 136, 0.8503174753715061),\n",
       " (134, 132, 0.7910241916248448),\n",
       " (135, 130, 0.8498633648521993),\n",
       " (136, 138, 0.8171527794279938),\n",
       " (137, 137, 0.7495199180500094),\n",
       " (138, 133, 0.8243062513763593),\n",
       " (139, 140, 0.8629512259206402),\n",
       " (142, 139, 0.8709769600671693),\n",
       " (143, 141, 0.7462691717189858),\n",
       " (144, 143, 0.737454317702422),\n",
       " (145, 145, 0.6699315880713977),\n",
       " (146, 147, 0.7388963867201259),\n",
       " (147, 146, 0.8210907014658382),\n",
       " (148, 149, 0.8650155016922337),\n",
       " (149, 152, 0.9004490940999722),\n",
       " (150, 111, 0.5484767837952313),\n",
       " (151, 153, 0.947931553702202),\n",
       " (152, 154, 0.8218864452490473),\n",
       " (153, 155, 0.8486987801753663),\n",
       " (154, 157, 0.8175257450679803),\n",
       " (155, 107, 0.7861696320864027),\n",
       " (156, 158, 0.91550113925541),\n",
       " (157, 97, 0.48440794591833325),\n",
       " (158, 162, 0.8048128967038585),\n",
       " (159, 161, 0.7538282242147417),\n",
       " (160, 163, 0.8169650199267042),\n",
       " (161, 164, 0.5562235224949266),\n",
       " (162, 118, 0.9321275709079045),\n",
       " (163, 165, 0.8981807967799398),\n",
       " (164, 151, 0.9139775585529747),\n",
       " (165, 167, 0.7862952150237107),\n",
       " (166, 168, 0.8636621538803112),\n",
       " (167, 169, 0.9043499247858168),\n",
       " (168, 172, 0.7653222691650862)]"
      ]
     },
     "execution_count": 120,
     "metadata": {},
     "output_type": "execute_result"
    }
   ],
   "source": [
    "match2.calc_final_matches()"
   ]
  },
  {
   "cell_type": "markdown",
   "id": "6f420735-117a-4722-b31c-bee1371bd651",
   "metadata": {},
   "source": [
    "# Look at a pair with low performance"
   ]
  },
  {
   "cell_type": "code",
   "execution_count": 135,
   "id": "473d3620-1909-4026-b2e2-93e8fc4eb2d1",
   "metadata": {},
   "outputs": [
    {
     "data": {
      "application/vnd.jupyter.widget-view+json": {
       "model_id": "f1eee6d07ce34037ab6aa3063713369f",
       "version_major": 2,
       "version_minor": 0
      },
      "text/plain": [
       "  0%|          | 0/199 [00:00<?, ?it/s]"
      ]
     },
     "metadata": {},
     "output_type": "display_data"
    }
   ],
   "source": [
    "x = []\n",
    "y = []\n",
    "for key, match in tqdm(all_adjacent_long_range_matches.items()):\n",
    "    x.append(key[0])\n",
    "    match.calc_final_matches()\n",
    "    y.append(len(match.final_matches) / match.num_possible_matches)"
   ]
  },
  {
   "cell_type": "code",
   "execution_count": 136,
   "id": "daba9989-e658-4355-ac11-f206e096b943",
   "metadata": {},
   "outputs": [
    {
     "data": {
      "text/plain": [
       "Text(0.5, 1.0, 'Matches between similar postures (adjacent mode)')"
      ]
     },
     "execution_count": 136,
     "metadata": {},
     "output_type": "execute_result"
    },
    {
     "data": {
      "image/png": "[encoded data removed]",
      "text/plain": [
       "<Figure size 1080x1080 with 1 Axes>"
      ]
     },
     "metadata": {
      "needs_background": "light"
     },
     "output_type": "display_data"
    }
   ],
   "source": [
    "plt.figure(figsize=(15,15))\n",
    "\n",
    "plt.plot(x, y, 'o')\n",
    "plt.xlabel(\"Match frame (time; fps~5)\")\n",
    "plt.ylabel(\"Fraction of matches (may have mistakes)\")\n",
    "plt.title(\"Matches between similar postures (adjacent mode)\")"
   ]
  },
  {
   "cell_type": "code",
   "execution_count": 139,
   "id": "3a298b99-1258-4a1f-865b-d6cea3384598",
   "metadata": {},
   "outputs": [
    {
     "data": {
      "text/plain": [
       "(153, 0.28187919463087246)"
      ]
     },
     "execution_count": 139,
     "metadata": {},
     "output_type": "execute_result"
    }
   ],
   "source": [
    "m = np.argmin(y)\n",
    "m, y[m]"
   ]
  },
  {
   "cell_type": "code",
   "execution_count": 140,
   "id": "480deb8b-a9bd-47de-9331-931ac408f0c6",
   "metadata": {},
   "outputs": [
    {
     "data": {
      "text/plain": [
       "1120"
      ]
     },
     "execution_count": 140,
     "metadata": {},
     "output_type": "execute_result"
    }
   ],
   "source": [
    "x[m]"
   ]
  },
  {
   "cell_type": "code",
   "execution_count": 130,
   "id": "6374aee6-0f71-4e66-99b3-b4b41d67df8c",
   "metadata": {},
   "outputs": [
    {
     "data": {
      "text/plain": [
       "dict_keys([(0, 1), (1, 16), (16, 17), (17, 18), (18, 19), (19, 39), (39, 40), (40, 41), (41, 72), (72, 73), (73, 74), (74, 84), (84, 85), (85, 101), (101, 102), (102, 182), (182, 183), (183, 184), (184, 185), (185, 201), (201, 202), (202, 203), (203, 217), (217, 218), (218, 219), (219, 220), (220, 236), (236, 237), (237, 238), (238, 252), (252, 253), (253, 254), (254, 255), (255, 256), (256, 273), (273, 288), (288, 289), (289, 290), (290, 291), (291, 292), (292, 322), (322, 323), (323, 324), (324, 325), (325, 338), (338, 339), (339, 372), (372, 373), (373, 386), (386, 387), (387, 388), (388, 389), (389, 402), (402, 403), (403, 404), (404, 405), (405, 423), (423, 424), (424, 425), (425, 438), (438, 439), (439, 440), (440, 441), (441, 472), (472, 473), (473, 474), (474, 487), (487, 488), (488, 489), (489, 504), (504, 505), (505, 522), (522, 523), (523, 524), (524, 561), (561, 562), (562, 563), (563, 582), (582, 583), (583, 584), (584, 618), (618, 619), (619, 632), (632, 633), (633, 651), (651, 667), (667, 668), (668, 682), (682, 683), (683, 684), (684, 685), (685, 698), (698, 699), (699, 700), (700, 712), (712, 713), (713, 714), (714, 715), (715, 727), (727, 728), (728, 729), (729, 750), (750, 751), (751, 752), (752, 769), (769, 770), (770, 771), (771, 795), (795, 796), (796, 819), (819, 835), (835, 836), (836, 837), (837, 870), (870, 871), (871, 872), (872, 888), (888, 889), (889, 890), (890, 904), (904, 905), (905, 906), (906, 907), (907, 922), (922, 923), (923, 938), (938, 939), (939, 955), (955, 956), (956, 957), (957, 958), (958, 972), (972, 973), (973, 974), (974, 987), (987, 988), (988, 989), (989, 1008), (1008, 1009), (1009, 1010), (1010, 1011), (1011, 1027), (1027, 1028), (1028, 1043), (1043, 1044), (1044, 1045), (1045, 1072), (1072, 1073), (1073, 1092), (1092, 1093), (1093, 1094), (1094, 1119), (1119, 1120), (1120, 1175), (1175, 1176), (1176, 1177), (1177, 1196), (1196, 1197), (1197, 1198), (1198, 1213), (1213, 1214), (1214, 1215), (1215, 1250), (1250, 1251), (1251, 1252), (1252, 1268), (1268, 1269), (1269, 1285), (1285, 1286), (1286, 1300), (1300, 1301), (1301, 1302), (1302, 1303), (1303, 1316), (1316, 1317), (1317, 1318), (1318, 1319), (1319, 1336), (1336, 1350), (1350, 1351), (1351, 1352), (1352, 1366), (1366, 1367), (1367, 1368), (1368, 1384), (1384, 1385), (1385, 1386), (1386, 1400), (1400, 1401), (1401, 1402), (1402, 1403), (1403, 1420), (1420, 1421), (1421, 1452), (1452, 1453), (1453, 1454), (1454, 1474), (1474, 1475), (1475, 1476)])"
      ]
     },
     "execution_count": 130,
     "metadata": {},
     "output_type": "execute_result"
    }
   ],
   "source": [
    "all_adjacent_long_range_matches.keys()"
   ]
  },
  {
   "cell_type": "code",
   "execution_count": 143,
   "id": "66fe1e22-8f7b-4c2b-8960-058e6afa2fba",
   "metadata": {},
   "outputs": [
    {
     "data": {
      "text/plain": [
       "Viewer(axes=Axes(visible=False, labels=True, colored=True, dashed=False, arrows=True), camera=Camera(center=(15.5, 349.5, 449.5), zoom=1.8524320457796852, angles=(0.0, 0.0, 90.0), perspective=0.0, interactive=True), cursor=Cursor(position=(1.0, 1.0, 0.0, 0.0), scaled=True, size=1, style=<CursorStyle.STANDARD: 'standard'>), dims=Dims(ndim=4, ndisplay=3, last_used=3, range=((0.0, 1.0, 1.0), (-10.859664236579789, 32.51708889450095, 1.0), (-97.79165945043201, 699.0, 1.0), (0.0, 899.0, 1.0)), current_step=(0, 0, 0, 0), order=(0, 1, 2, 3), axis_labels=('0', '1', '2', '3')), grid=GridCanvas(stride=1, shape=(-1, -1), enabled=False), layers=[<Image layer 'raw_red_data' at 0x7faff41b4650>, <Points layer 'n0_zxy' at 0x7fb018452e10>, <Points layer 'n1_zxy' at 0x7fafe4d31ed0>, <Tracks layer 'final_matches' at 0x7fafe4c59810>, <Points layer 'Raw IDs' at 0x7fafe4b54150>], scale_bar=ScaleBar(visible=False, colored=False, ticks=True, position=<Position.BOTTOM_RIGHT: 'bottom_right'>, font_size=10.0, unit=None), text_overlay=TextOverlay(visible=False, color=array([0.5, 0.5, 0.5, 1. ]), font_size=10.0, position=<TextOverlayPosition.TOP_LEFT: 'top_left'>, text=''), help='', status='Ready', tooltip=Tooltip(visible=False, text=''), theme='dark', title='napari', mouse_move_callbacks=[], mouse_drag_callbacks=[], mouse_double_click_callbacks=[], mouse_wheel_callbacks=[<function dims_scroll at 0x7fb416149dd0>], _persisted_mouse_event={}, _mouse_drag_gen={}, _mouse_wheel_gen={}, keymap={'Control-Shift-C': <bound method QtViewer.toggle_console_visibility of <napari._qt.qt_viewer.QtViewer object at 0x7fb0dcda0eb0>>})"
      ]
     },
     "execution_count": 143,
     "metadata": {},
     "output_type": "execute_result"
    }
   ],
   "source": [
    "pair = (1120, 1175)\n",
    "\n",
    "project_data.napari_of_single_match(pair, rigidly_align_volumetric_images=True)"
   ]
  },
  {
   "cell_type": "code",
   "execution_count": 142,
   "id": "3e6fa38b-545a-432f-9d9a-033f364e4a5d",
   "metadata": {},
   "outputs": [
    {
     "data": {
      "text/plain": [
       "Viewer(axes=Axes(visible=False, labels=True, colored=True, dashed=False, arrows=True), camera=Camera(center=(15.5, 349.5, 449.5), zoom=1.8524320457796852, angles=(0.0, 0.0, 90.0), perspective=0.0, interactive=True), cursor=Cursor(position=(1.0, 1.0, 0.0, 0.0), scaled=True, size=1, style=<CursorStyle.STANDARD: 'standard'>), dims=Dims(ndim=4, ndisplay=3, last_used=3, range=((0.0, 1.0, 1.0), (0.0, 31.0, 1.0), (0.0, 699.0, 1.0), (0.0, 899.0, 1.0)), current_step=(0, 0, 0, 0), order=(0, 1, 2, 3), axis_labels=('0', '1', '2', '3')), grid=GridCanvas(stride=1, shape=(-1, -1), enabled=False), layers=[<Image layer 'raw_red_data' at 0x7fb018493750>, <Points layer 'n0_zxy' at 0x7fb021f5ea10>, <Points layer 'n1_zxy' at 0x7fb018425290>, <Tracks layer 'final_matches' at 0x7fb018305e50>, <Points layer 'Raw IDs' at 0x7faff43770d0>], scale_bar=ScaleBar(visible=False, colored=False, ticks=True, position=<Position.BOTTOM_RIGHT: 'bottom_right'>, font_size=10.0, unit=None), text_overlay=TextOverlay(visible=False, color=array([0.5, 0.5, 0.5, 1. ]), font_size=10.0, position=<TextOverlayPosition.TOP_LEFT: 'top_left'>, text=''), help='', status='Ready', tooltip=Tooltip(visible=False, text=''), theme='dark', title='napari', mouse_move_callbacks=[], mouse_drag_callbacks=[], mouse_double_click_callbacks=[], mouse_wheel_callbacks=[<function dims_scroll at 0x7fb416149dd0>], _persisted_mouse_event={}, _mouse_drag_gen={}, _mouse_wheel_gen={}, keymap={'Control-Shift-C': <bound method QtViewer.toggle_console_visibility of <napari._qt.qt_viewer.QtViewer object at 0x7fb0207bf0f0>>})"
      ]
     },
     "execution_count": 142,
     "metadata": {},
     "output_type": "execute_result"
    }
   ],
   "source": [
    "project_data.napari_of_single_match(pair, rigidly_align_volumetric_images=False)"
   ]
  },
  {
   "cell_type": "markdown",
   "id": "39ebd8a1-be10-408e-920c-af32a76bd09d",
   "metadata": {},
   "source": [
    "# Match the additional neighboring volumes in similar posture space"
   ]
  },
  {
   "cell_type": "code",
   "execution_count": 176,
   "id": "bf5a4325-482f-4cd7-8207-98d8be788ff9",
   "metadata": {},
   "outputs": [],
   "source": [
    "bad_pair = (1120, 1175)\n",
    "additional_candidates = [(1119, 1175), (1120, 1176), (1119, 1176)]"
   ]
  },
  {
   "cell_type": "code",
   "execution_count": 189,
   "id": "03b2b4a0-be88-483f-91a4-5d1fd4adf427",
   "metadata": {},
   "outputs": [],
   "source": [
    "frame_pair_options.min_confidence = 0.001"
   ]
  },
  {
   "cell_type": "code",
   "execution_count": 190,
   "id": "4d6e0959-9cad-46d1-aebd-9c85cccf935b",
   "metadata": {},
   "outputs": [
    {
     "data": {
      "application/vnd.jupyter.widget-view+json": {
       "model_id": "41ee299b02aa454b8a4ad7206942c23e",
       "version_major": 2,
       "version_minor": 0
      },
      "text/plain": [
       "  0%|          | 0/3 [00:00<?, ?it/s]"
      ]
     },
     "metadata": {},
     "output_type": "display_data"
    },
    {
     "data": {
      "application/vnd.jupyter.widget-view+json": {
       "model_id": "",
       "version_major": 2,
       "version_minor": 0
      },
      "text/plain": [
       "  0%|          | 0/32 [00:00<?, ?it/s]"
      ]
     },
     "metadata": {},
     "output_type": "display_data"
    },
    {
     "data": {
      "application/vnd.jupyter.widget-view+json": {
       "model_id": "",
       "version_major": 2,
       "version_minor": 0
      },
      "text/plain": [
       "  0%|          | 0/32 [00:00<?, ?it/s]"
      ]
     },
     "metadata": {},
     "output_type": "display_data"
    },
    {
     "data": {
      "application/vnd.jupyter.widget-view+json": {
       "model_id": "",
       "version_major": 2,
       "version_minor": 0
      },
      "text/plain": [
       "  0%|          | 0/32 [00:00<?, ?it/s]"
      ]
     },
     "metadata": {},
     "output_type": "display_data"
    }
   ],
   "source": [
    "additional_candidates_matches = {}\n",
    "i_previous = 0\n",
    "for pair in tqdm(additional_candidates):\n",
    "    anchor_frame = all_frames[pair[0]]\n",
    "    long_range_frame = all_frames[pair[1]]\n",
    "    long_range_pair = calc_FramePair_from_Frames(frame0=anchor_frame, frame1=long_range_frame,\n",
    "                                                 frame_pair_options=frame_pair_options)\n",
    "    additional_candidates_matches[pair] = long_range_pair"
   ]
  },
  {
   "cell_type": "code",
   "execution_count": 191,
   "id": "6a35d9c1-89c8-42ad-9dab-69841246edf3",
   "metadata": {},
   "outputs": [
    {
     "data": {
      "application/vnd.jupyter.widget-view+json": {
       "model_id": "6c361e338b4142c49d4b67dd560c4f9c",
       "version_major": 2,
       "version_minor": 0
      },
      "text/plain": [
       "  0%|          | 0/3 [00:00<?, ?it/s]"
      ]
     },
     "metadata": {},
     "output_type": "display_data"
    },
    {
     "data": {
      "text/plain": [
       "Text(0.5, 1.0, 'Matches between similar postures (adjacent mode)')"
      ]
     },
     "execution_count": 191,
     "metadata": {},
     "output_type": "execute_result"
    },
    {
     "data": {
      "image/png": "[encoded data removed]",
      "text/plain": [
       "<Figure size 1080x1080 with 1 Axes>"
      ]
     },
     "metadata": {
      "needs_background": "light"
     },
     "output_type": "display_data"
    }
   ],
   "source": [
    "x = []\n",
    "y = []\n",
    "for key, match in tqdm(additional_candidates_matches.items()):\n",
    "    x.append(key[0])\n",
    "    match.calc_final_matches()\n",
    "    y.append(len(match.final_matches) / match.num_possible_matches)\n",
    "\n",
    "plt.figure(figsize=(15,15))\n",
    "\n",
    "plt.plot(x, y, 'o')\n",
    "plt.xlabel(\"Match frame (time; fps~5)\")\n",
    "plt.ylabel(\"Fraction of matches (may have mistakes)\")\n",
    "plt.title(\"Matches between similar postures (adjacent mode)\")"
   ]
  },
  {
   "cell_type": "code",
   "execution_count": 192,
   "id": "e75b1fa1-816a-4ee4-b60e-6de497e9e5e1",
   "metadata": {},
   "outputs": [],
   "source": [
    "i = 0\n",
    "this_pair = additional_candidates[i]\n",
    "match_to_check = additional_candidates_matches[this_pair]\n",
    "project_data.napari_of_single_match(this_pair, rigidly_align_volumetric_images=True, this_match=match_to_check);"
   ]
  },
  {
   "cell_type": "code",
   "execution_count": 193,
   "id": "784adad3-27ea-46c5-923d-8a4ea57eda0f",
   "metadata": {
    "collapsed": true,
    "jupyter": {
     "outputs_hidden": true
    },
    "tags": []
   },
   "outputs": [
    {
     "name": "stderr",
     "output_type": "stream",
     "text": [
      "ERROR:tornado.general:Uncaught exception in ZMQStream callback\n",
      "Traceback (most recent call last):\n",
      "  File \"/home/charles/anaconda3/envs/torch/lib/python3.7/site-packages/zmq/eventloop/zmqstream.py\", line 431, in _run_callback\n",
      "    callback(*args, **kwargs)\n",
      "  File \"/home/charles/anaconda3/envs/torch/lib/python3.7/site-packages/jupyter_client/threaded.py\", line 121, in _handle_recv\n",
      "    msg_list = self.ioloop._asyncio_event_loop.run_until_complete(get_msg(future_msg))\n",
      "  File \"/home/charles/anaconda3/envs/torch/lib/python3.7/asyncio/base_events.py\", line 563, in run_until_complete\n",
      "    self._check_runnung()\n",
      "  File \"/home/charles/anaconda3/envs/torch/lib/python3.7/asyncio/base_events.py\", line 526, in _check_runnung\n",
      "    'Cannot run the event loop while another loop is running')\n",
      "RuntimeError: Cannot run the event loop while another loop is running\n",
      "ERROR:tornado.general:Uncaught exception in ZMQStream callback\n",
      "Traceback (most recent call last):\n",
      "  File \"/home/charles/anaconda3/envs/torch/lib/python3.7/site-packages/zmq/eventloop/zmqstream.py\", line 431, in _run_callback\n",
      "    callback(*args, **kwargs)\n",
      "  File \"/home/charles/anaconda3/envs/torch/lib/python3.7/site-packages/jupyter_client/threaded.py\", line 121, in _handle_recv\n",
      "    msg_list = self.ioloop._asyncio_event_loop.run_until_complete(get_msg(future_msg))\n",
      "  File \"/home/charles/anaconda3/envs/torch/lib/python3.7/asyncio/base_events.py\", line 563, in run_until_complete\n",
      "    self._check_runnung()\n",
      "  File \"/home/charles/anaconda3/envs/torch/lib/python3.7/asyncio/base_events.py\", line 526, in _check_runnung\n",
      "    'Cannot run the event loop while another loop is running')\n",
      "RuntimeError: Cannot run the event loop while another loop is running\n",
      "ERROR:tornado.general:Uncaught exception in zmqstream callback\n",
      "Traceback (most recent call last):\n",
      "  File \"/home/charles/anaconda3/envs/torch/lib/python3.7/site-packages/zmq/eventloop/zmqstream.py\", line 448, in _handle_events\n",
      "    self._handle_recv()\n",
      "  File \"/home/charles/anaconda3/envs/torch/lib/python3.7/site-packages/zmq/eventloop/zmqstream.py\", line 477, in _handle_recv\n",
      "    self._run_callback(callback, msg)\n",
      "  File \"/home/charles/anaconda3/envs/torch/lib/python3.7/site-packages/zmq/eventloop/zmqstream.py\", line 431, in _run_callback\n",
      "    callback(*args, **kwargs)\n",
      "  File \"/home/charles/anaconda3/envs/torch/lib/python3.7/site-packages/jupyter_client/threaded.py\", line 121, in _handle_recv\n",
      "    msg_list = self.ioloop._asyncio_event_loop.run_until_complete(get_msg(future_msg))\n",
      "  File \"/home/charles/anaconda3/envs/torch/lib/python3.7/asyncio/base_events.py\", line 563, in run_until_complete\n",
      "    self._check_runnung()\n",
      "  File \"/home/charles/anaconda3/envs/torch/lib/python3.7/asyncio/base_eventsERROR:tornado.general:Uncaught exception in zmqstream callback\n",
      "Traceback (most recent call last):\n",
      "  File \"/home/charles/anaconda3/envs/torch/lib/python3.7/site-packages/zmq/eventloop/zmqstream.py\", line 448, in _handle_events\n",
      "    self._handle_recv()\n",
      "  File \"/home/charles/anaconda3/envs/torch/lib/python3.7/site-packages/zmq/eventloop/zmqstream.py\", line 477, in _handle_recv\n",
      "    self._run_callback(callback, msg)\n",
      "  File \"/home/charles/anaconda3/envs/torch/lib/python3.7/site-packages/zmq/eventloop/zmqstream.py\", line 431, in _run_callback\n",
      "    callback(*args, **kwargs)\n",
      "  File \"/home/charles/anaconda3/envs/torch/lib/python3.7/site-packages/jupyter_client/threaded.py\", line 121, in _handle_recv\n",
      "    msg_list = self.ioloop._asyncio_event_loop.run_until_complete(get_msg(future_msg))\n",
      "  File \"/home/charles/anaconda3/envs/torch/lib/python3.7/asyncio/base_events.py\", line 563, in run_until_complete\n",
      "    self._check_runnung()\n",
      "  File \"/home/charles/anaconda3/envs/torch/lib/python3.7/asyncio/base_events.py\", line 526, in _check_runnung\n",
      "    'Cannot run the event loop while another loop is running')\n",
      "RuntimeError: Cannot run the event loop while another loop is running\n",
      ".py\", line 526, in _check_runnung\n",
      "    'Cannot run the event loop while another loop is running')\n",
      "RuntimeError: Cannot run the event loop while another loop is running\n",
      "ERROR:asyncio:Exception in callback BaseAsyncIOLoop._handle_events(1773, 1)\n",
      "handle: <Handle BaseAsyncIOLoop._handle_events(1773, 1)>\n",
      "Traceback (most recent call last):\n",
      "  File \"/home/charles/anaconda3/envs/torch/lib/python3.7/asyncio/events.py\", line 88, in _run\n",
      "    self._context.run(self._callback, *self._args)\n",
      "  File \"/home/charles/anaconda3/envs/torch/lib/python3.7/site-packages/tornado/platform/asyncio.py\", line 189, in _handle_events\n",
      "    handler_func(fileobj, events)\n",
      "  File \"/home/charles/anaconda3/envs/torch/lib/python3.7/site-packages/zmq/eventloop/zmqstream.py\", line 448, in _handle_events\n",
      "    self._handle_recv()\n",
      "  File \"/home/charles/anaconda3/envs/torch/lib/python3.7/site-packages/zmq/eventloop/zmqstream.py\", line 477, in _handle_recv\n",
      "    self._run_callback(callback, msg)\n",
      "  File \"/home/charles/anaconda3/envs/torch/lib/python3.7/site-packages/zmq/eventloop/zmqstream.py\", line 431, in _run_callback\n",
      "    callback(*args, **kwargs)\n",
      "  File \"/home/charles/anaconda3/envs/torch/lib/python3.7/site-packages/jupyter_client/threaded.py\", line 121, in _handle_recv\n",
      "    msg_list = self.ioloop._asyncio_event_loop.run_until_complete(get_msg(future_msg))\n",
      "  File \"/home/charles/anaconda3/envs/torch/lib/python3.7/asyncio/base_events.py\", line 563, in run_until_complete\n",
      "    self._check_runnung()\n",
      "  File \"/home/charles/anaconda3/envs/torch/lib/python3.7/asyncio/base_events.py\", line 526, in _check_runnung\n",
      "    'Cannot run the event loop while another loop is running')\n",
      "RuntimeError: Cannot run the event loop while another loop is running\n"
     ]
    },
    {
     "name": "stdout",
     "output_type": "stream",
     "text": [
      "Candidate: (35, 28, 0.16584736794799584)\n",
      "Candidate: (35, 32, 0.0675604610640055)\n"
     ]
    }
   ],
   "source": [
    "match_to_check.print_candidates_for_neuron(35)"
   ]
  },
  {
   "cell_type": "code",
   "execution_count": 195,
   "id": "3e4b7b8d-f9dc-42aa-8ef7-74ee86181e94",
   "metadata": {},
   "outputs": [
    {
     "name": "stdout",
     "output_type": "stream",
     "text": [
      "Found match (35, 28) with confidence 0.16434334992922484\n",
      "Same match as feature method with confidence: 0.16584736794799584\n",
      "Neuron 35 not matched using affine method\n",
      "Different match than gaussian process method: 32 with confidence: 0.0675604610640055\n",
      "Neuron 35 not matched using fdnc (neural network) method\n"
     ]
    }
   ],
   "source": [
    "match_to_check.print_reason_for_match((35, 28))"
   ]
  },
  {
   "cell_type": "code",
   "execution_count": 196,
   "id": "1027c245-ef00-4b9c-89ca-c9725ef8ed31",
   "metadata": {},
   "outputs": [
    {
     "name": "stdout",
     "output_type": "stream",
     "text": [
      "Candidate: (144, 141, 0.13162312367132337)\n"
     ]
    }
   ],
   "source": [
    "match_to_check.print_candidates_for_neuron(144)"
   ]
  },
  {
   "cell_type": "code",
   "execution_count": 197,
   "id": "9ef14f34-d2f7-4c76-ae24-172eab51f597",
   "metadata": {},
   "outputs": [
    {
     "name": "stdout",
     "output_type": "stream",
     "text": [
      "Candidate: (1, 1, 0.1291221491968067)\n",
      "Candidate: (1, 2, 0.98989916)\n"
     ]
    }
   ],
   "source": [
    "match_to_check.print_candidates_for_neuron(1)"
   ]
  },
  {
   "cell_type": "code",
   "execution_count": 184,
   "id": "a6adab1d-ca5a-45e6-92b1-2c5b28e288a2",
   "metadata": {},
   "outputs": [
    {
     "data": {
      "text/plain": [
       "Viewer(axes=Axes(visible=False, labels=True, colored=True, dashed=False, arrows=True), camera=Camera(center=(15.5, 349.5, 449.5), zoom=1.8524320457796852, angles=(0.0, 0.0, 90.0), perspective=0.0, interactive=True), cursor=Cursor(position=(1.0, 1.0, 0.0, 0.0), scaled=True, size=1, style=<CursorStyle.STANDARD: 'standard'>), dims=Dims(ndim=4, ndisplay=3, last_used=3, range=((0.0, 1.0, 1.0), (0.0, 31.0, 1.0), (0.0, 699.0, 1.0), (0.0, 899.0, 1.0)), current_step=(0, 0, 0, 0), order=(0, 1, 2, 3), axis_labels=('0', '1', '2', '3')), grid=GridCanvas(stride=1, shape=(-1, -1), enabled=False), layers=[<Image layer 'raw_red_data' at 0x7faf1ea29790>, <Points layer 'n0_zxy' at 0x7fac8b8d6650>, <Points layer 'n1_zxy' at 0x7faf1e95cf50>, <Tracks layer 'final_matches' at 0x7faf1e865e10>, <Points layer 'Raw IDs' at 0x7faf1e87d410>], scale_bar=ScaleBar(visible=False, colored=False, ticks=True, position=<Position.BOTTOM_RIGHT: 'bottom_right'>, font_size=10.0, unit=None), text_overlay=TextOverlay(visible=False, color=array([0.5, 0.5, 0.5, 1. ]), font_size=10.0, position=<TextOverlayPosition.TOP_LEFT: 'top_left'>, text=''), help='', status='Ready', tooltip=Tooltip(visible=False, text=''), theme='dark', title='napari', mouse_move_callbacks=[], mouse_drag_callbacks=[], mouse_double_click_callbacks=[], mouse_wheel_callbacks=[<function dims_scroll at 0x7fb416149dd0>], _persisted_mouse_event={}, _mouse_drag_gen={}, _mouse_wheel_gen={}, keymap={'Control-Shift-C': <bound method QtViewer.toggle_console_visibility of <napari._qt.qt_viewer.QtViewer object at 0x7fb0e54d5410>>})"
      ]
     },
     "execution_count": 184,
     "metadata": {},
     "output_type": "execute_result"
    }
   ],
   "source": [
    "i = 1\n",
    "this_pair = additional_candidates[i]\n",
    "match_to_check = additional_candidates_matches[this_pair]\n",
    "\n",
    "project_data.napari_of_single_match(this_pair, rigidly_align_volumetric_images=True, this_match=match_to_check);"
   ]
  },
  {
   "cell_type": "code",
   "execution_count": 185,
   "id": "eebb93cb-dee1-4d57-b778-424cfb2360e4",
   "metadata": {},
   "outputs": [
    {
     "data": {
      "text/plain": [
       "Viewer(axes=Axes(visible=False, labels=True, colored=True, dashed=False, arrows=True), camera=Camera(center=(15.5, 349.5, 449.5), zoom=1.8524320457796852, angles=(0.0, 0.0, 90.0), perspective=0.0, interactive=True), cursor=Cursor(position=(1.0, 1.0, 0.0, 0.0), scaled=True, size=1, style=<CursorStyle.STANDARD: 'standard'>), dims=Dims(ndim=4, ndisplay=3, last_used=3, range=((0.0, 1.0, 1.0), (-12.172859201209144, 31.0, 1.0), (-14.325254072818666, 699.0, 1.0), (0.0, 899.0, 1.0)), current_step=(0, 0, 0, 0), order=(0, 1, 2, 3), axis_labels=('0', '1', '2', '3')), grid=GridCanvas(stride=1, shape=(-1, -1), enabled=False), layers=[<Image layer 'raw_red_data' at 0x7fafaf441e50>, <Points layer 'n0_zxy' at 0x7fafaf703110>, <Points layer 'n1_zxy' at 0x7fafac75be50>, <Tracks layer 'final_matches' at 0x7fafac6d8d10>, <Points layer 'Raw IDs' at 0x7fafac55dbd0>], scale_bar=ScaleBar(visible=False, colored=False, ticks=True, position=<Position.BOTTOM_RIGHT: 'bottom_right'>, font_size=10.0, unit=None), text_overlay=TextOverlay(visible=False, color=array([0.5, 0.5, 0.5, 1. ]), font_size=10.0, position=<TextOverlayPosition.TOP_LEFT: 'top_left'>, text=''), help='', status='Ready', tooltip=Tooltip(visible=False, text=''), theme='dark', title='napari', mouse_move_callbacks=[], mouse_drag_callbacks=[], mouse_double_click_callbacks=[], mouse_wheel_callbacks=[<function dims_scroll at 0x7fb416149dd0>], _persisted_mouse_event={}, _mouse_drag_gen={}, _mouse_wheel_gen={}, keymap={'Control-Shift-C': <bound method QtViewer.toggle_console_visibility of <napari._qt.qt_viewer.QtViewer object at 0x7faf1e99caf0>>})"
      ]
     },
     "execution_count": 185,
     "metadata": {},
     "output_type": "execute_result"
    }
   ],
   "source": [
    "i = 2\n",
    "this_pair = additional_candidates[i]\n",
    "match_to_check = additional_candidates_matches[this_pair]\n",
    "\n",
    "project_data.napari_of_single_match(this_pair, rigidly_align_volumetric_images=True, this_match=match_to_check);"
   ]
  },
  {
   "cell_type": "code",
   "execution_count": 187,
   "id": "9f3d143c-0ea5-4e24-9259-734ef3f2efc4",
   "metadata": {},
   "outputs": [
    {
     "name": "stdout",
     "output_type": "stream",
     "text": [
      "Candidate: (27, 4, 0.12445842271306573)\n",
      "Candidate: (27, 22, 0.6514834)\n"
     ]
    }
   ],
   "source": [
    "match_to_check.print_candidates_for_neuron(27)"
   ]
  },
  {
   "cell_type": "code",
   "execution_count": 186,
   "id": "23e81afd-4862-420c-bbb8-0a55c78f44c2",
   "metadata": {},
   "outputs": [
    {
     "name": "stdout",
     "output_type": "stream",
     "text": [
      "Found match (27, 22) with confidence 0.572667745521458\n",
      "Neuron not matched using feature method\n",
      "Neuron not matched using affine method\n",
      "Different match from gaussian process method: 4 with confidence: 0.12445842271306573\n",
      "Same match from fdnc (neural network) method with confidence: 0.651483416557312\n"
     ]
    }
   ],
   "source": [
    "match_to_check.print_reason_for_match((27, 22))"
   ]
  },
  {
   "cell_type": "code",
   "execution_count": 188,
   "id": "240f561b-d2e7-4111-9ab8-20899fa78f68",
   "metadata": {},
   "outputs": [
    {
     "data": {
      "text/plain": [
       "FramePairOptions(embedding_matches_to_keep=1.0, embedding_use_GMS=False, crossCheck=True, add_affine_to_candidates=True, start_plane=4, num_features_per_plane=10000, affine_matches_to_keep=0.8, affine_use_GMS=True, min_matches=20, allow_z_change=False, affine_num_candidates=1, add_gp_to_candidates=True, starting_matches='affine_matches', gp_num_candidates=1, add_fdnc_to_candidates=True, fdnc_options={'cuda': False, 'model_path': '/scratch/zimmer/Charles/github_repos/fDNC_Neuron_ID/model/model.bin', 'topn': 1}, z_threshold=3, min_confidence=0.1, z_to_xy_ratio=3.0, preprocess_using_global_rotation=True)"
      ]
     },
     "execution_count": 188,
     "metadata": {},
     "output_type": "execute_result"
    }
   ],
   "source": [
    "match_to_check.options"
   ]
  },
  {
   "cell_type": "markdown",
   "id": "4588cc0c-9195-4ba5-9bd6-7b2b7aaf4caa",
   "metadata": {},
   "source": [
    "# Scratch"
   ]
  },
  {
   "cell_type": "code",
   "execution_count": null,
   "id": "fa8054fd-51c2-44a5-935b-e0d6b20a9ee2",
   "metadata": {},
   "outputs": [],
   "source": []
  },
  {
   "cell_type": "code",
   "execution_count": null,
   "id": "e9bdcfb4-8009-4055-891d-796e8710e452",
   "metadata": {},
   "outputs": [],
   "source": []
  },
  {
   "cell_type": "markdown",
   "id": "8567c653-351f-4356-81c1-ec538fff3382",
   "metadata": {},
   "source": [
    "# Quick check: redo the matches on the pre-rotated data"
   ]
  },
  {
   "cell_type": "code",
   "execution_count": 159,
   "id": "3f02347a-c94c-451d-8859-f00a1fe9e62f",
   "metadata": {},
   "outputs": [],
   "source": [
    "pair = (1120, 1175)\n",
    "\n",
    "this_match = project_data.raw_matches[pair]"
   ]
  },
  {
   "cell_type": "code",
   "execution_count": 160,
   "id": "1fbe736f-c688-4692-8718-467d53f6a57b",
   "metadata": {
    "tags": []
   },
   "outputs": [
    {
     "name": "stdout",
     "output_type": "stream",
     "text": [
      "Found match (28, 40) with confidence 0.150103346465022\n",
      "Same match from feature method with confidence: 0.15124616289747264\n",
      "Neuron not matched using affine method\n",
      "Different match from gaussian process method: 31 with confidence: 0.07423840196214136\n",
      "Same match from fdnc (neural network) method with confidence: 0.150103346465022\n"
     ]
    }
   ],
   "source": [
    "# Very wrong match; note that there are MANY incorrect matches\n",
    "this_match.print_reason_for_match((28,40))"
   ]
  },
  {
   "cell_type": "code",
   "execution_count": 169,
   "id": "5fe62dc0-7c77-41fb-812e-39328bcecfee",
   "metadata": {},
   "outputs": [
    {
     "name": "stdout",
     "output_type": "stream",
     "text": [
      "Candidate: (28, 40, 0.15124616289747264)\n",
      "Candidate: (28, 31, 0.07423840196214136)\n"
     ]
    }
   ],
   "source": [
    "this_match.print_candidates_for_neuron(28)"
   ]
  },
  {
   "cell_type": "code",
   "execution_count": 161,
   "id": "06d43823-0d36-4fc2-8005-6be25a0ba0af",
   "metadata": {},
   "outputs": [],
   "source": [
    "f0, f1 = this_match.frame0, this_match.frame1\n",
    "options = frame_pair_options\n",
    "\n",
    "options.preprocess_using_global_rotation = True\n",
    "options.add_fdnc_to_candidates = True"
   ]
  },
  {
   "cell_type": "code",
   "execution_count": 162,
   "id": "77056c9d-3fda-4ae9-9d85-ab6aab3a5538",
   "metadata": {},
   "outputs": [
    {
     "data": {
      "text/plain": [
       "FramePairOptions(embedding_matches_to_keep=1.0, embedding_use_GMS=False, crossCheck=True, add_affine_to_candidates=True, start_plane=4, num_features_per_plane=10000, affine_matches_to_keep=0.8, affine_use_GMS=True, min_matches=20, allow_z_change=False, affine_num_candidates=1, add_gp_to_candidates=True, starting_matches='affine_matches', gp_num_candidates=1, add_fdnc_to_candidates=True, fdnc_options={'cuda': False, 'model_path': '/scratch/zimmer/Charles/github_repos/fDNC_Neuron_ID/model/model.bin', 'topn': 1}, z_threshold=3, min_confidence=0.1, z_to_xy_ratio=3.0, preprocess_using_global_rotation=True)"
      ]
     },
     "execution_count": 162,
     "metadata": {},
     "output_type": "execute_result"
    }
   ],
   "source": [
    "options"
   ]
  },
  {
   "cell_type": "code",
   "execution_count": 163,
   "id": "7927b8a8-a7df-4d12-b153-bba2edec2037",
   "metadata": {},
   "outputs": [
    {
     "data": {
      "application/vnd.jupyter.widget-view+json": {
       "model_id": "",
       "version_major": 2,
       "version_minor": 0
      },
      "text/plain": [
       "  0%|          | 0/32 [00:00<?, ?it/s]"
      ]
     },
     "metadata": {},
     "output_type": "display_data"
    }
   ],
   "source": [
    "new_match = FramePair(options=options, frame0=f0, frame1=f1)\n",
    "# Do the invididual matches (WITHOUT preprocessing)\n",
    "new_match.match_using_feature_embedding()\n",
    "new_match.match_using_local_affine()\n",
    "new_match.match_using_gp()\n",
    "new_match.match_using_fdnc()\n",
    "\n",
    "new_match.calc_final_matches();"
   ]
  },
  {
   "cell_type": "code",
   "execution_count": 168,
   "id": "f0920e01-7bae-40e5-98a8-83b3ee50c169",
   "metadata": {},
   "outputs": [
    {
     "name": "stdout",
     "output_type": "stream",
     "text": [
      "Candidate: (28, 40, 0.15124616289747264)\n",
      "Candidate: (28, 31, 0.07423554605802611)\n",
      "Candidate: (28, 41, 0.99999917)\n"
     ]
    }
   ],
   "source": [
    "new_match.print_candidates_for_neuron(28)"
   ]
  },
  {
   "cell_type": "code",
   "execution_count": 164,
   "id": "37e6beb7-8caa-4eb7-b39e-33e938b05660",
   "metadata": {},
   "outputs": [],
   "source": [
    "new_match.preprocess_data()"
   ]
  },
  {
   "cell_type": "code",
   "execution_count": 167,
   "id": "dc28c7ed-4ae4-46d7-b4b6-5be3c5eb8bc7",
   "metadata": {},
   "outputs": [
    {
     "data": {
      "text/plain": [
       "<Image layer 'Raw 1' at 0x7fafd26ceb10>"
      ]
     },
     "execution_count": 167,
     "metadata": {},
     "output_type": "execute_result"
    }
   ],
   "source": [
    "v = napari.view_image(new_match.dat0, name=\"Raw 0\", colormap='red')\n",
    "v.add_image(new_match.dat0_preprocessed, name=\"Rotated 0\", colormap='green')\n",
    "v.add_image(new_match.dat1, name=\"Raw 1\", colormap='blue')"
   ]
  },
  {
   "cell_type": "code",
   "execution_count": 170,
   "id": "4f4c042b-6c06-4673-901e-8b5649cea0fd",
   "metadata": {
    "tags": []
   },
   "outputs": [
    {
     "data": {
      "application/vnd.jupyter.widget-view+json": {
       "model_id": "",
       "version_major": 2,
       "version_minor": 0
      },
      "text/plain": [
       "  0%|          | 0/32 [00:00<?, ?it/s]"
      ]
     },
     "metadata": {},
     "output_type": "display_data"
    }
   ],
   "source": [
    "# Now redo the individual methods\n",
    "new_match.match_using_feature_embedding()\n",
    "new_match.match_using_local_affine()\n",
    "new_match.match_using_gp()\n",
    "new_match.match_using_fdnc()\n",
    "\n",
    "new_match.calc_final_matches();"
   ]
  },
  {
   "cell_type": "code",
   "execution_count": 171,
   "id": "99ce4804-fd34-497a-af8c-841319b46d02",
   "metadata": {},
   "outputs": [
    {
     "name": "stdout",
     "output_type": "stream",
     "text": [
      "Candidate: (28, 40, 0.15124616289747264)\n",
      "Candidate: (28, 51, 0.06850184203338695)\n",
      "Candidate: (28, 51, 0.03820456510595883)\n",
      "Candidate: (28, 41, 0.99988085)\n"
     ]
    }
   ],
   "source": [
    "new_match.print_candidates_for_neuron(28)"
   ]
  },
  {
   "cell_type": "code",
   "execution_count": 155,
   "id": "5df66946-add3-4e38-bad2-48a8129b43e6",
   "metadata": {},
   "outputs": [
    {
     "data": {
      "text/plain": [
       "Viewer(axes=Axes(visible=False, labels=True, colored=True, dashed=False, arrows=True), camera=Camera(center=(15.5, 349.5, 449.5), zoom=1.8524320457796852, angles=(0.0, 0.0, 90.0), perspective=0.0, interactive=True), cursor=Cursor(position=(1.0, 1.0, 0.0, 0.0), scaled=True, size=1, style=<CursorStyle.STANDARD: 'standard'>), dims=Dims(ndim=4, ndisplay=3, last_used=3, range=((0.0, 1.0, 1.0), (0.0, 31.0, 1.0), (0.0, 699.0, 1.0), (0.0, 899.0, 1.0)), current_step=(0, 0, 0, 0), order=(0, 1, 2, 3), axis_labels=('0', '1', '2', '3')), grid=GridCanvas(stride=1, shape=(-1, -1), enabled=False), layers=[<Image layer 'raw_red_data' at 0x7fafe56c36d0>, <Points layer 'n0_zxy' at 0x7fb13c709f10>, <Points layer 'n1_zxy' at 0x7faff44120d0>, <Tracks layer 'final_matches' at 0x7fafe56958d0>, <Points layer 'Raw IDs' at 0x7faff4452250>], scale_bar=ScaleBar(visible=False, colored=False, ticks=True, position=<Position.BOTTOM_RIGHT: 'bottom_right'>, font_size=10.0, unit=None), text_overlay=TextOverlay(visible=False, color=array([0.5, 0.5, 0.5, 1. ]), font_size=10.0, position=<TextOverlayPosition.TOP_LEFT: 'top_left'>, text=''), help='', status='Ready', tooltip=Tooltip(visible=False, text=''), theme='dark', title='napari', mouse_move_callbacks=[], mouse_drag_callbacks=[], mouse_double_click_callbacks=[], mouse_wheel_callbacks=[<function dims_scroll at 0x7fb416149dd0>], _persisted_mouse_event={}, _mouse_drag_gen={}, _mouse_wheel_gen={}, keymap={'Control-Shift-C': <bound method QtViewer.toggle_console_visibility of <napari._qt.qt_viewer.QtViewer object at 0x7faff41847d0>>})"
      ]
     },
     "execution_count": 155,
     "metadata": {},
     "output_type": "execute_result"
    }
   ],
   "source": [
    "project_data.napari_of_single_match(pair, rigidly_align_volumetric_images=False, this_match=new_match)"
   ]
  },
  {
   "cell_type": "code",
   "execution_count": 172,
   "id": "a3471074-d223-4f76-bcf0-7d32500a847d",
   "metadata": {},
   "outputs": [
    {
     "data": {
      "text/plain": [
       "Viewer(axes=Axes(visible=False, labels=True, colored=True, dashed=False, arrows=True), camera=Camera(center=(15.5, 349.5, 449.5), zoom=1.8524320457796852, angles=(0.0, 0.0, 90.0), perspective=0.0, interactive=True), cursor=Cursor(position=(1.0, 1.0, 0.0, 0.0), scaled=True, size=1, style=<CursorStyle.STANDARD: 'standard'>), dims=Dims(ndim=4, ndisplay=3, last_used=3, range=((0.0, 1.0, 1.0), (-20.648201469077392, 31.0, 1.0), (0.0, 699.0, 1.0), (0.0, 899.0, 1.0)), current_step=(0, 0, 0, 0), order=(0, 1, 2, 3), axis_labels=('0', '1', '2', '3')), grid=GridCanvas(stride=1, shape=(-1, -1), enabled=False), layers=[<Image layer 'raw_red_data' at 0x7fafd337ed50>, <Points layer 'n0_zxy' at 0x7fafd23fe990>, <Points layer 'n1_zxy' at 0x7fafd347cd90>, <Tracks layer 'final_matches' at 0x7fb0698d1e50>, <Points layer 'Raw IDs' at 0x7fb13b220d50>], scale_bar=ScaleBar(visible=False, colored=False, ticks=True, position=<Position.BOTTOM_RIGHT: 'bottom_right'>, font_size=10.0, unit=None), text_overlay=TextOverlay(visible=False, color=array([0.5, 0.5, 0.5, 1. ]), font_size=10.0, position=<TextOverlayPosition.TOP_LEFT: 'top_left'>, text=''), help='', status='Ready', tooltip=Tooltip(visible=False, text=''), theme='dark', title='napari', mouse_move_callbacks=[], mouse_drag_callbacks=[], mouse_double_click_callbacks=[], mouse_wheel_callbacks=[<function dims_scroll at 0x7fb416149dd0>], _persisted_mouse_event={}, _mouse_drag_gen={}, _mouse_wheel_gen={}, keymap={'Control-Shift-C': <bound method QtViewer.toggle_console_visibility of <napari._qt.qt_viewer.QtViewer object at 0x7fafe43690f0>>})"
      ]
     },
     "execution_count": 172,
     "metadata": {},
     "output_type": "execute_result"
    }
   ],
   "source": [
    "project_data.napari_of_single_match(pair, rigidly_align_volumetric_images=True, this_match=new_match)"
   ]
  },
  {
   "cell_type": "code",
   "execution_count": 173,
   "id": "40aa663b-5235-4d88-84ee-d7bcfff45e7c",
   "metadata": {},
   "outputs": [
    {
     "name": "stdout",
     "output_type": "stream",
     "text": [
      "Candidate: (9, 124, 0.15271691090188055)\n",
      "Candidate: (9, 70, 0.08888830546506453)\n",
      "Candidate: (9, 5, 0.44361165)\n"
     ]
    }
   ],
   "source": [
    "new_match.print_candidates_for_neuron(9)"
   ]
  },
  {
   "cell_type": "code",
   "execution_count": 175,
   "id": "07d3b5e3-459f-4f21-96b0-a2c096388668",
   "metadata": {},
   "outputs": [
    {
     "name": "stdout",
     "output_type": "stream",
     "text": [
      "Found match (9, 5) with confidence 0.41663365531771707\n",
      "Different match from feature method: 124 with confidence: 0.15271691090188055\n",
      "Different match from affine method: 70 with confidence: 0.08888830546506453\n",
      "Neuron not matched using gaussian process method\n",
      "Same match from fdnc (neural network) method with confidence: 0.44361165165901184\n"
     ]
    }
   ],
   "source": [
    "new_match.print_reason_for_match((9, 5))"
   ]
  },
  {
   "cell_type": "code",
   "execution_count": null,
   "id": "60e55509-08c0-4012-83e2-1f639b9d75c2",
   "metadata": {},
   "outputs": [],
   "source": []
  }
 ],
 "metadata": {
  "kernelspec": {
   "display_name": "Python 3 (ipykernel)",
   "language": "python",
   "name": "python3"
  },
  "language_info": {
   "codemirror_mode": {
    "name": "ipython",
    "version": 3
   },
   "file_extension": ".py",
   "mimetype": "text/x-python",
   "name": "python",
   "nbconvert_exporter": "python",
   "pygments_lexer": "ipython3",
   "version": "3.7.11"
  }
 },
 "nbformat": 4,
 "nbformat_minor": 5
}
