{
 "cells": [
  {
   "cell_type": "markdown",
   "id": "f2548f93-baf6-409b-a494-c14f65b7cf70",
   "metadata": {},
   "source": [
    "# Remove obvious outlier matches using GMS"
   ]
  },
  {
   "cell_type": "code",
   "execution_count": 1,
   "id": "7b9305cf-69a6-43f8-ba58-08d415dec3f7",
   "metadata": {},
   "outputs": [
    {
     "name": "stderr",
     "output_type": "stream",
     "text": [
      "\n",
      "Bad key \"text.kerning_factor\" on line 4 in\n",
      "/home/charles/anaconda3/envs/torch/lib/python3.7/site-packages/matplotlib/mpl-data/stylelib/_classic_test_patch.mplstyle.\n",
      "You probably need to get an updated matplotlibrc file from\n",
      "http://github.com/matplotlib/matplotlib/blob/master/matplotlibrc.template\n",
      "or from the matplotlib source distribution\n"
     ]
    }
   ],
   "source": [
    "%load_ext autoreload\n",
    "%autoreload 2\n",
    "import matplotlib.pyplot as plt\n",
    "from DLC_for_WBFM.utils.projects.finished_project_data import ProjectData\n",
    "import napari\n",
    "import pandas as pd\n",
    "import numpy as np\n",
    "from DLC_for_WBFM.utils.feature_detection.class_frame_pair import FramePair\n",
    "from sklearn.decomposition import PCA\n",
    "from sklearn.neighbors import NearestNeighbors\n",
    "\n",
    "import matplotlib as mpl\n",
    "mpl.rcParams['font.size'] = 32\n",
    "from tqdm.auto import tqdm\n",
    "from DLC_for_WBFM.utils.postures.centerline_pca import WormFullVideoPosture, WormReferencePosture\n",
    "from DLC_for_WBFM.utils.pipeline.long_range_matching import initialize_worm_object"
   ]
  },
  {
   "cell_type": "code",
   "execution_count": 2,
   "id": "94dca760-62eb-41d4-8cfe-3e416fc9cc49",
   "metadata": {},
   "outputs": [
    {
     "name": "stderr",
     "output_type": "stream",
     "text": [
      "WARNING:root:Did not find file /home/charles/dlc_stacks/worm3-newseg-2021_11_17/2-training_data/training_data_tracks.h5\n",
      "WARNING:root:Did not find file /home/charles/dlc_stacks/worm3-newseg-2021_11_17/3-tracking/manual_annotation/split_names.pickle\n",
      "WARNING:root:Did not find file /home/charles/dlc_stacks/worm3-newseg-2021_11_17/3-tracking/manual_annotation/split_times.pickle\n"
     ]
    },
    {
     "name": "stdout",
     "output_type": "stream",
     "text": [
      "Output files: /home/charles/dlc_stacks/worm3-newseg-2021_11_17/3-tracking/manual_annotation/global2tracklet_manual.pickle, /home/charles/dlc_stacks/worm3-newseg-2021_11_17/3-tracking/manual_annotation/manually_split_tracklets.h5, /home/charles/dlc_stacks/worm3-newseg-2021_11_17/3-tracking/manual_annotation/split_names.pickle, /home/charles/dlc_stacks/worm3-newseg-2021_11_17/3-tracking/manual_annotation/split_times.pickle\n",
      "=======================================\n",
      "Project data for directory:\n",
      "/home/charles/dlc_stacks/worm3-newseg-2021_11_17 \n",
      "=======================================\n",
      "Found the following raw data files:\n",
      "red_data: True\n",
      "green_data: True\n",
      "============Segmentation===============\n",
      "raw_segmentation: True\n",
      "segmentation: True\n",
      "============Tracklets==================\n",
      "df_training_tracklets: False\n",
      "reindexed_masks_training: True\n",
      "============Traces=====================\n",
      "red_traces: True\n",
      "green_traces: True\n",
      "final_tracks: True\n",
      "behavior_annotations: True\n",
      "\n"
     ]
    }
   ],
   "source": [
    "# fname = \"/scratch/zimmer/Charles/dlc_stacks/worm3-tracklet_wiggle/project_config.yaml\"\n",
    "fname = \"/home/charles/dlc_stacks/worm3-newseg-2021_11_17/project_config.yaml\"\n",
    "\n",
    "project_data = ProjectData.load_final_project_data_from_config(fname, to_load_tracklets=True, to_load_frames=True)"
   ]
  },
  {
   "cell_type": "code",
   "execution_count": 3,
   "id": "3ecb0345-c716-4b46-8951-01ecba50fe02",
   "metadata": {},
   "outputs": [],
   "source": [
    "df_tracklets = project_data.df_all_tracklets\n",
    "segmentation_metadata = project_data.segmentation_metadata\n",
    "all_frames = project_data.raw_frames\n",
    "all_matches = project_data.raw_matches\n",
    "raw_clust = project_data.raw_clust"
   ]
  },
  {
   "cell_type": "code",
   "execution_count": 4,
   "id": "c8af5598-b66b-48ca-8331-efdded7086e2",
   "metadata": {},
   "outputs": [],
   "source": [
    "# fname = \"/project/neurobiology/zimmer/wbfm/centerline/wbfm_ulises_centerline_for_charlie/2021-03-04_16-17-30_worm3_ZIM2051-_spline_K.csv\"\n",
    "# fname_X = \"/project/neurobiology/zimmer/wbfm/centerline/wbfm_ulises_centerline_for_charlie/2021-03-04_16-17-30_worm3_ZIM2051-_spline_X_coords.csv\"\n",
    "# fname_Y = \"/project/neurobiology/zimmer/wbfm/centerline/wbfm_ulises_centerline_for_charlie/2021-03-04_16-17-30_worm3_ZIM2051-_spline_Y_coords.csv\"\n",
    "\n",
    "# full_posture = WormFullVideoPosture(fname, fname_X, fname_Y)\n",
    "# reference_posture = WormReferencePosture(0, full_posture)\n",
    "\n",
    "# # Initialize TrackedNeurons at 0, and initialize the TrackedWorm\n",
    "# # Get all tracklets that start at t=0\n",
    "# all_tracklet_names = df_tracklets.columns.get_level_values(0).drop_duplicates()\n",
    "\n",
    "# worm_obj = initialize_worm_object(all_tracklet_names, df_tracklets, raw_clust, segmentation_metadata)"
   ]
  },
  {
   "cell_type": "markdown",
   "id": "64c603a8-5a9e-43a7-9bda-d3aa3b3ad590",
   "metadata": {},
   "source": [
    "# Visualize a match with outliers"
   ]
  },
  {
   "cell_type": "code",
   "execution_count": 6,
   "id": "20bee8ef-eae5-41ce-80f7-77835e1788fe",
   "metadata": {},
   "outputs": [
    {
     "data": {
      "text/plain": [
       "Viewer(axes=Axes(visible=False, labels=True, colored=True, dashed=False, arrows=True), camera=Camera(center=(15.5, 349.5, 449.5), zoom=1.8524320457796852, angles=(0.0, 0.0, 90.0), perspective=0.0, interactive=True), cursor=Cursor(position=(1.0, 1.0, 0.0, 0.0), scaled=True, size=1, style=<CursorStyle.STANDARD: 'standard'>), dims=Dims(ndim=4, ndisplay=3, last_used=3, range=((0.0, 1.0, 1.0), (0.0, 31.0, 1.0), (0.0, 699.0, 1.0), (0.0, 899.0, 1.0)), current_step=(0, 0, 0, 0), order=(0, 1, 2, 3), axis_labels=('0', '1', '2', '3')), grid=GridCanvas(stride=1, shape=(-1, -1), enabled=False), layers=[<Image layer 'raw_red_data' at 0x7f14aa201390>, <Points layer 'n0_zxy' at 0x7f14ab749750>, <Points layer 'n1_zxy' at 0x7f14aa1245d0>, <Tracks layer 'final_matches' at 0x7f14a9f8d210>, <Points layer 'Raw IDs' at 0x7f14aa1a3790>], scale_bar=ScaleBar(visible=False, colored=False, ticks=True, position=<Position.BOTTOM_RIGHT: 'bottom_right'>, font_size=10.0, unit=None), text_overlay=TextOverlay(visible=False, color=array([0.5, 0.5, 0.5, 1. ]), font_size=10.0, position=<TextOverlayPosition.TOP_LEFT: 'top_left'>, text=''), help='', status='Ready', tooltip=Tooltip(visible=False, text=''), theme='dark', title='napari', mouse_move_callbacks=[], mouse_drag_callbacks=[], mouse_double_click_callbacks=[], mouse_wheel_callbacks=[<function dims_scroll at 0x7f14d0d41e60>], _persisted_mouse_event={}, _mouse_drag_gen={}, _mouse_wheel_gen={}, keymap={'Control-Shift-C': <bound method QtViewer.toggle_console_visibility of <napari._qt.qt_viewer.QtViewer object at 0x7f13cfc070f0>>})"
      ]
     },
     "execution_count": 6,
     "metadata": {},
     "output_type": "execute_result"
    },
    {
     "name": "stderr",
     "output_type": "stream",
     "text": [
      "ERROR:tornado.general:Uncaught exception in ZMQStream callback\n",
      "Traceback (most recent call last):\n",
      "  File \"/home/charles/anaconda3/envs/torch/lib/python3.7/site-packages/zmq/eventloop/zmqstream.py\", line 431, in _run_callback\n",
      "    callback(*args, **kwargs)\n",
      "  File \"/home/charles/anaconda3/envs/torch/lib/python3.7/site-packages/jupyter_client/threaded.py\", line 121, in _handle_recv\n",
      "    msg_list = self.ioloop._asyncio_event_loop.run_until_complete(get_msg(future_msg))\n",
      "  File \"/home/charles/anaconda3/envs/torch/lib/python3.7/asyncio/base_events.py\", line 563, in run_until_complete\n",
      "    self._check_runnung()\n",
      "  File \"/home/charles/anaconda3/envs/torch/lib/python3.7/asyncio/base_events.py\", line 526, in _check_runnung\n",
      "    'Cannot run the event loop while another loop is running')\n",
      "RuntimeError: Cannot run the event loop while another loop is running\n",
      "ERROR:tornado.general:Uncaught exception in ZMQStream callback\n",
      "Traceback (most recent call last):\n",
      "  File \"/home/charles/anaconda3/envs/torch/lib/python3.7/site-packages/zmq/eventloop/zmqstream.py\", line 431, in _run_callback\n",
      "    callback(*args, **kwargs)\n",
      "  File \"/home/charles/anaconda3/envs/torch/lib/python3.7/site-packages/jupyter_client/threaded.py\", line 121, in _handle_recv\n",
      "    msg_list = self.ioloop._asyncio_event_loop.run_until_complete(get_msg(future_msg))\n",
      "  File \"/home/charles/anaconda3/envs/torch/lib/python3.7/asyncio/base_events.py\", line 563, in run_until_complete\n",
      "    self._check_runnung()\n",
      "  File \"/home/charles/anaconda3/envs/torch/lib/python3.7/asyncio/base_events.py\", line 526, in _check_runnung\n",
      "    'Cannot run the event loop while another loop is running')\n",
      "RuntimeError: Cannot run the event loop while another loop is running\n",
      "ERROR:tornado.general:Uncaught exception in zmqstream callback\n",
      "Traceback (most recent call last):\n",
      "  File \"/home/charles/anaconda3/envs/torch/lib/python3.7/site-packages/zmq/eventloop/zmqstream.py\", line 448, in _handle_events\n",
      "    self._handle_recv()\n",
      "  File \"/home/charles/anaconda3/envs/torch/lib/python3.7/site-packages/zmq/eventloop/zmqstream.py\", line 477, in _handle_recv\n",
      "    self._run_callback(callback, msg)\n",
      "  File \"/home/charles/anaconda3/envs/torch/lib/python3.7/site-packages/zmq/eventloop/zmqstream.py\", line 431, in _run_callback\n",
      "    callback(*args, **kwargs)\n",
      "  File \"/home/charles/anaconda3/envs/torch/lib/python3.7/site-packages/jupyter_client/threaded.py\", line 121, in _handle_recv\n",
      "    msg_list = self.ioloop._asyncio_event_loop.run_until_complete(get_msg(future_msg))\n",
      "  File \"/home/charles/anaconda3/envs/torch/lib/python3.7/asyncio/base_events.py\", line 563, in run_until_complete\n",
      "    self._check_runnung()\n",
      "  File \"/home/charles/anaconda3/envs/torch/lib/python3.7/asyncio/base_events.py\", line 526, in _check_runnung\n",
      "    'Cannot run the event loop while another loop is running')\n",
      "RuntimeError: Cannot run the event loop while another loop is running\n",
      "ERROR:tornado.general:Uncaught exception in zmqstream callback\n",
      "Traceback (most recent call last):\n",
      "  File \"/home/charles/anaconda3/envs/torch/lib/python3.7/site-packages/zmq/eventloop/zmqstream.py\", line 448, in _handle_events\n",
      "    self._handle_recv()\n",
      "  File \"/home/charles/anaconda3/envs/torch/lib/python3.7/site-packages/zmq/eventloop/zmqstream.py\", line 477, in _handle_recv\n",
      "    self._run_callback(callback, msg)\n",
      "  File \"/home/charles/anaconda3/envs/torch/lib/python3.7/site-packages/zmq/eventloop/zmqstream.py\", line 431, in _run_callback\n",
      "    callback(*args, **kwargs)\n",
      "  File \"/home/charles/anaconda3/envs/torch/lib/python3.7/site-packages/jupyter_client/threaded.py\", line 121, in _handle_recv\n",
      "    msg_list = self.ioloop._asyncio_event_loop.run_until_complete(get_msg(future_msg))\n",
      "  File \"/home/charles/anaconda3/envs/torch/lib/python3.7/asyncio/base_events.py\", line 563, in run_until_complete\n",
      "    self._check_runnung()\n",
      "  File \"/home/charles/anaconda3/envs/torch/lib/python3.7/asyncio/base_events.py\", line 526, in _check_runnung\n",
      "    'Cannot run the event loop while another loop is running')\n",
      "RuntimeError: Cannot run the event loop while another loop is running\n",
      "ERROR:asyncio:Exception in callback BaseAsyncIOLoop._handle_events(183, 1)\n",
      "handle: <Handle BaseAsyncIOLoop._handle_events(183, 1)>\n",
      "Traceback (most recent call last):\n",
      "  File \"/home/charles/anaconda3/envs/torch/lib/python3.7/asyncio/events.py\", line 88, in _run\n",
      "    self._context.run(self._callback, *self._args)\n",
      "  File \"/home/charles/anaconda3/envs/torch/lib/python3.7/site-packages/tornado/platform/asyncio.py\", line 189, in _handle_events\n",
      "    handler_func(fileobj, events)\n",
      "  File \"/home/charles/anaconda3/envs/torch/lib/python3.7/site-packages/zmq/eventloop/zmqstream.py\", line 448, in _handle_events\n",
      "    self._handle_recv()\n",
      "  File \"/home/charles/anaconda3/envs/torch/lib/python3.7/site-packages/zmq/eventloop/zmqstream.py\", line 477, in _handle_recv\n",
      "    self._run_callback(callback, msg)\n",
      "  File \"/home/charles/anaconda3/envs/torch/lib/python3.7/site-packages/zmq/eventloop/zmqstream.py\", line 431, in _run_callback\n",
      "    callback(*args, **kwargs)\n",
      "  File \"/home/charles/anaconda3/envs/torch/lib/python3.7/site-packages/jupyter_client/threaded.py\", line 121, in _handle_recv\n",
      "    msg_list = self.ioloop._asyncio_event_loop.run_until_complete(get_msg(future_msg))\n",
      "  File \"/home/charles/anaconda3/envs/torch/lib/python3.7/asyncio/base_events.py\", line 563, in run_until_complete\n",
      "    self._check_runnung()\n",
      "  File \"/home/charles/anaconda3/envs/torch/lib/python3.7/asyncio/base_events.py\", line 526, in _check_runnung\n",
      "    'Cannot run the event loop while another loop is running')\n",
      "RuntimeError: Cannot run the event loop while another loop is running\n",
      "/home/charles/anaconda3/envs/torch/lib/python3.7/site-packages/freetype/__init__.py:990: RuntimeWarning: coroutine 'get_msg' was never awaited\n",
      "  return Bitmap( self._FT_GlyphSlot.contents.bitmap )\n",
      "RuntimeWarning: Enable tracemalloc to get the object allocation traceback\n"
     ]
    }
   ],
   "source": [
    "pair = (1,2)\n",
    "\n",
    "project_data.napari_of_single_match(pair, rigidly_align_volumetric_images=True)"
   ]
  },
  {
   "cell_type": "code",
   "execution_count": 18,
   "id": "c6f85c1e-6eca-46f5-bc4b-5e7f9f6614a9",
   "metadata": {},
   "outputs": [],
   "source": [
    "for f in all_frames.values():\n",
    "    f.video_fname = project_data.project_config.config['preprocessed_red']"
   ]
  },
  {
   "cell_type": "markdown",
   "id": "5e985588-58e0-4857-a7ab-4d43c422bae6",
   "metadata": {},
   "source": [
    "# Get a match with outliers"
   ]
  },
  {
   "cell_type": "code",
   "execution_count": 26,
   "id": "825cad3e-f679-4f56-a20d-7408a2b81c00",
   "metadata": {},
   "outputs": [],
   "source": [
    "frame_pair_options = all_matches[(0, 1)].options\n",
    "frame_pair_options.preprocess_using_global_rotation = True\n",
    "frame_pair_options.add_fdnc_to_candidates = True\n",
    "this_pair = (1119, 1175)"
   ]
  },
  {
   "cell_type": "code",
   "execution_count": 27,
   "id": "5e170188-de81-4043-b37e-f6a90889e424",
   "metadata": {},
   "outputs": [
    {
     "data": {
      "application/vnd.jupyter.widget-view+json": {
       "model_id": "",
       "version_major": 2,
       "version_minor": 0
      },
      "text/plain": [
       "  0%|          | 0/32 [00:00<?, ?it/s]"
      ]
     },
     "metadata": {},
     "output_type": "display_data"
    },
    {
     "name": "stderr",
     "output_type": "stream",
     "text": [
      "/home/charles/Current_work/repos/fDNC_Neuron_ID/fDNC/src/model.py:604: UserWarning: Creating a tensor from a list of numpy.ndarrays is extremely slow. Please consider converting the list to a single numpy.ndarray with numpy.array() before converting to a tensor. (Triggered internally at  ../torch/csrc/utils/tensor_new.cpp:201.)\n",
      "  sents_var = torch.tensor(sents_padded, dtype=torch.float, device=self.device)\n"
     ]
    }
   ],
   "source": [
    "frame0 = all_frames[this_pair[0]]\n",
    "frame1 = all_frames[this_pair[1]]\n",
    "\n",
    "match_to_check = calc_FramePair_from_Frames(frame0, frame1, frame_pair_options=frame_pair_options)"
   ]
  },
  {
   "cell_type": "code",
   "execution_count": 28,
   "id": "9b5a8066-8520-4845-b405-ee4ed7648502",
   "metadata": {},
   "outputs": [],
   "source": [
    "v = project_data.napari_of_single_match(this_pair, rigidly_align_volumetric_images=True, this_match=match_to_check);"
   ]
  },
  {
   "cell_type": "code",
   "execution_count": 25,
   "id": "a76d2da8-6543-476b-af9c-17a35ee1bb8a",
   "metadata": {},
   "outputs": [
    {
     "name": "stdout",
     "output_type": "stream",
     "text": [
      "Candidate: (35, 28, 0.16584736794799584)\n",
      "Candidate: (35, 32, 0.06513595432206461)\n"
     ]
    }
   ],
   "source": [
    "match_to_check.print_candidates_for_neuron(35)"
   ]
  },
  {
   "cell_type": "code",
   "execution_count": 29,
   "id": "d51cd28c-daa6-44f9-9c0a-e9620eb5def9",
   "metadata": {},
   "outputs": [
    {
     "name": "stdout",
     "output_type": "stream",
     "text": [
      "Candidate: (62, 57, 0.1206121522934768)\n",
      "Candidate: (62, 63, 0.88446075)\n"
     ]
    }
   ],
   "source": [
    "match_to_check.print_candidates_for_neuron(62)"
   ]
  },
  {
   "cell_type": "code",
   "execution_count": null,
   "id": "5e1a78de-d5a6-46e5-b95a-61444f5d6bcc",
   "metadata": {},
   "outputs": [],
   "source": []
  },
  {
   "cell_type": "markdown",
   "id": "b6fc7ebf-762c-44a6-9930-68f45a876998",
   "metadata": {},
   "source": [
    "# Use GMS to postprocess final matches (and remove obviously wrong ones)"
   ]
  },
  {
   "cell_type": "code",
   "execution_count": 30,
   "id": "db4cd1f0-f0c1-48e5-9366-47dcd8e877a6",
   "metadata": {},
   "outputs": [],
   "source": [
    "vec, pts0, pts1 = match_to_check.vector_field"
   ]
  },
  {
   "cell_type": "code",
   "execution_count": 39,
   "id": "d08846d7-25ac-494d-870f-574136921980",
   "metadata": {},
   "outputs": [],
   "source": [
    "dict_pair_to_conf = match_to_check.get_pair_to_conf_dict()"
   ]
  },
  {
   "cell_type": "code",
   "execution_count": 31,
   "id": "eb051b4e-2c45-4d67-a015-14f9972714e8",
   "metadata": {},
   "outputs": [],
   "source": [
    "import cv2"
   ]
  },
  {
   "cell_type": "code",
   "execution_count": 47,
   "id": "283ff65e-cb4c-4e0e-a3ce-c44ee3adf21e",
   "metadata": {},
   "outputs": [],
   "source": [
    "# Convert to opencv keypoints and match class\n",
    "sz = 31.0\n",
    "kp0 = [cv2.KeyPoint(x, y, 31.0) for z, x, y in pts0]\n",
    "kp1 = [cv2.KeyPoint(x, y, 31.0) for z, x, y in pts1]\n",
    "\n",
    "cv2_matches = [cv2.DMatch(int(m0), int(m1), 1.0/conf) for (m0, m1), conf in dict_pair_to_conf.items()]\n",
    "\n",
    "im1_shape = match_to_check.dat0.shape[1:]\n",
    "im2_shape = im1_shape"
   ]
  },
  {
   "cell_type": "code",
   "execution_count": 60,
   "id": "0e4cc37e-f5ba-457e-a795-eea305ffe78b",
   "metadata": {},
   "outputs": [],
   "source": [
    "options = {'keypoints1': kp0,\n",
    "           'keypoints2': kp1,\n",
    "           'matches1to2': cv2_matches,\n",
    "           'withRotation': False,\n",
    "           'thresholdFactor': 1.0}\n",
    "final_matches = cv2.xfeatures2d.matchGMS(im1_shape, im2_shape, **options)"
   ]
  },
  {
   "cell_type": "code",
   "execution_count": 61,
   "id": "c00acb85-5677-4e98-bce9-72c66c5ce977",
   "metadata": {},
   "outputs": [],
   "source": [
    "from DLC_for_WBFM.utils.feature_detection.utils_features import extract_map1to2_from_matches"
   ]
  },
  {
   "cell_type": "code",
   "execution_count": 62,
   "id": "6cd3ae0c-2942-404e-b5e8-ae28688dc523",
   "metadata": {},
   "outputs": [],
   "source": [
    "gms_matches = extract_map1to2_from_matches(final_matches)"
   ]
  },
  {
   "cell_type": "code",
   "execution_count": 63,
   "id": "7ff99f2a-98de-4f2e-bc59-5ad33fbd9dbb",
   "metadata": {},
   "outputs": [],
   "source": [
    "initial_matches = match_to_check.get_f0_to_f1_dict()"
   ]
  },
  {
   "cell_type": "code",
   "execution_count": 64,
   "id": "ebb6a84c-b470-4e2a-9b6f-b235dd2fb1a1",
   "metadata": {},
   "outputs": [],
   "source": [
    "gms_matches_list = [[k, v, 1.0] for k, v in gms_matches.items()]"
   ]
  },
  {
   "cell_type": "code",
   "execution_count": 65,
   "id": "38dd9790-64c6-4265-8121-55de14b1af23",
   "metadata": {},
   "outputs": [],
   "source": [
    "match_to_check.final_matches = gms_matches_list"
   ]
  },
  {
   "cell_type": "code",
   "execution_count": 67,
   "id": "2840b4cc-9a9f-4749-8ba5-e81840767e84",
   "metadata": {},
   "outputs": [],
   "source": [
    "v = project_data.napari_of_single_match(this_pair, rigidly_align_volumetric_images=True, this_match=match_to_check);"
   ]
  },
  {
   "cell_type": "code",
   "execution_count": null,
   "id": "6822f03c-b4ea-4602-909e-12c978c331bb",
   "metadata": {},
   "outputs": [],
   "source": []
  }
 ],
 "metadata": {
  "kernelspec": {
   "display_name": "Python 3 (ipykernel)",
   "language": "python",
   "name": "python3"
  },
  "language_info": {
   "codemirror_mode": {
    "name": "ipython",
    "version": 3
   },
   "file_extension": ".py",
   "mimetype": "text/x-python",
   "name": "python",
   "nbconvert_exporter": "python",
   "pygments_lexer": "ipython3",
   "version": "3.7.11"
  }
 },
 "nbformat": 4,
 "nbformat_minor": 5
}
