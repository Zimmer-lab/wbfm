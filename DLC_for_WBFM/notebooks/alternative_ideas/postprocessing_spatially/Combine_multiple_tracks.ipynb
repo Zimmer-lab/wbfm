{
 "cells": [
  {
   "cell_type": "markdown",
   "id": "20c05ced-3bd0-4e7e-a9c0-66863e109db7",
   "metadata": {},
   "source": [
    "# Combine multiple single-template tracks into a single final track"
   ]
  },
  {
   "cell_type": "code",
   "execution_count": 11,
   "id": "ce8c918d-f1b2-4991-b552-dd8e13edcdd6",
   "metadata": {},
   "outputs": [],
   "source": [
    "from DLC_for_WBFM.utils.postprocessing.postprocessing_utils import remove_outliers_to_combine_tracks\n",
    "from DLC_for_WBFM.utils.projects.finished_project_data import ProjectData\n"
   ]
  },
  {
   "cell_type": "code",
   "execution_count": 4,
   "id": "461c29d4-7fee-41a3-846b-d2083ebb3dc5",
   "metadata": {},
   "outputs": [],
   "source": [
    "import pandas as pd\n",
    "all_dfs = []\n",
    "for i in range(30):\n",
    "    fname = f\"/scratch/zimmer/Charles/dlc_stacks/worm3-ns-random_templates/3-tracking/postprocessing/leifer_tracks-{i}.h5).h5\"\n",
    "    all_dfs.append(pd.read_hdf(fname))"
   ]
  },
  {
   "cell_type": "code",
   "execution_count": 6,
   "id": "57a53ec1-c859-4dae-a4ee-1708adee26ab",
   "metadata": {},
   "outputs": [
    {
     "data": {
      "application/vnd.jupyter.widget-view+json": {
       "model_id": "9f5c4fd2c1324672868512239692f32e",
       "version_major": 2,
       "version_minor": 0
      },
      "text/plain": [
       "  0%|          | 0/149 [00:00<?, ?it/s]"
      ]
     },
     "metadata": {},
     "output_type": "display_data"
    },
    {
     "data": {
      "application/vnd.jupyter.widget-view+json": {
       "model_id": "",
       "version_major": 2,
       "version_minor": 0
      },
      "text/plain": [
       "  0%|          | 0/1500 [00:00<?, ?it/s]"
      ]
     },
     "metadata": {},
     "output_type": "display_data"
    },
    {
     "data": {
      "application/vnd.jupyter.widget-view+json": {
       "model_id": "",
       "version_major": 2,
       "version_minor": 0
      },
      "text/plain": [
       "  0%|          | 0/1500 [00:00<?, ?it/s]"
      ]
     },
     "metadata": {},
     "output_type": "display_data"
    },
    {
     "data": {
      "application/vnd.jupyter.widget-view+json": {
       "model_id": "",
       "version_major": 2,
       "version_minor": 0
      },
      "text/plain": [
       "  0%|          | 0/1500 [00:00<?, ?it/s]"
      ]
     },
     "metadata": {},
     "output_type": "display_data"
    },
    {
     "data": {
      "application/vnd.jupyter.widget-view+json": {
       "model_id": "",
       "version_major": 2,
       "version_minor": 0
      },
      "text/plain": [
       "  0%|          | 0/1500 [00:00<?, ?it/s]"
      ]
     },
     "metadata": {},
     "output_type": "display_data"
    },
    {
     "data": {
      "application/vnd.jupyter.widget-view+json": {
       "model_id": "",
       "version_major": 2,
       "version_minor": 0
      },
      "text/plain": [
       "  0%|          | 0/1500 [00:00<?, ?it/s]"
      ]
     },
     "metadata": {},
     "output_type": "display_data"
    },
    {
     "data": {
      "application/vnd.jupyter.widget-view+json": {
       "model_id": "",
       "version_major": 2,
       "version_minor": 0
      },
      "text/plain": [
       "  0%|          | 0/1500 [00:00<?, ?it/s]"
      ]
     },
     "metadata": {},
     "output_type": "display_data"
    },
    {
     "data": {
      "application/vnd.jupyter.widget-view+json": {
       "model_id": "",
       "version_major": 2,
       "version_minor": 0
      },
      "text/plain": [
       "  0%|          | 0/1500 [00:00<?, ?it/s]"
      ]
     },
     "metadata": {},
     "output_type": "display_data"
    },
    {
     "data": {
      "application/vnd.jupyter.widget-view+json": {
       "model_id": "",
       "version_major": 2,
       "version_minor": 0
      },
      "text/plain": [
       "  0%|          | 0/1500 [00:00<?, ?it/s]"
      ]
     },
     "metadata": {},
     "output_type": "display_data"
    },
    {
     "data": {
      "application/vnd.jupyter.widget-view+json": {
       "model_id": "",
       "version_major": 2,
       "version_minor": 0
      },
      "text/plain": [
       "  0%|          | 0/1500 [00:00<?, ?it/s]"
      ]
     },
     "metadata": {},
     "output_type": "display_data"
    },
    {
     "data": {
      "application/vnd.jupyter.widget-view+json": {
       "model_id": "",
       "version_major": 2,
       "version_minor": 0
      },
      "text/plain": [
       "  0%|          | 0/1500 [00:00<?, ?it/s]"
      ]
     },
     "metadata": {},
     "output_type": "display_data"
    },
    {
     "data": {
      "application/vnd.jupyter.widget-view+json": {
       "model_id": "",
       "version_major": 2,
       "version_minor": 0
      },
      "text/plain": [
       "  0%|          | 0/1500 [00:00<?, ?it/s]"
      ]
     },
     "metadata": {},
     "output_type": "display_data"
    },
    {
     "data": {
      "application/vnd.jupyter.widget-view+json": {
       "model_id": "",
       "version_major": 2,
       "version_minor": 0
      },
      "text/plain": [
       "  0%|          | 0/1500 [00:00<?, ?it/s]"
      ]
     },
     "metadata": {},
     "output_type": "display_data"
    },
    {
     "data": {
      "application/vnd.jupyter.widget-view+json": {
       "model_id": "",
       "version_major": 2,
       "version_minor": 0
      },
      "text/plain": [
       "  0%|          | 0/1500 [00:00<?, ?it/s]"
      ]
     },
     "metadata": {},
     "output_type": "display_data"
    },
    {
     "data": {
      "application/vnd.jupyter.widget-view+json": {
       "model_id": "",
       "version_major": 2,
       "version_minor": 0
      },
      "text/plain": [
       "  0%|          | 0/1500 [00:00<?, ?it/s]"
      ]
     },
     "metadata": {},
     "output_type": "display_data"
    },
    {
     "data": {
      "application/vnd.jupyter.widget-view+json": {
       "model_id": "",
       "version_major": 2,
       "version_minor": 0
      },
      "text/plain": [
       "  0%|          | 0/1500 [00:00<?, ?it/s]"
      ]
     },
     "metadata": {},
     "output_type": "display_data"
    },
    {
     "data": {
      "application/vnd.jupyter.widget-view+json": {
       "model_id": "",
       "version_major": 2,
       "version_minor": 0
      },
      "text/plain": [
       "  0%|          | 0/1500 [00:00<?, ?it/s]"
      ]
     },
     "metadata": {},
     "output_type": "display_data"
    },
    {
     "data": {
      "application/vnd.jupyter.widget-view+json": {
       "model_id": "",
       "version_major": 2,
       "version_minor": 0
      },
      "text/plain": [
       "  0%|          | 0/1500 [00:00<?, ?it/s]"
      ]
     },
     "metadata": {},
     "output_type": "display_data"
    },
    {
     "data": {
      "application/vnd.jupyter.widget-view+json": {
       "model_id": "",
       "version_major": 2,
       "version_minor": 0
      },
      "text/plain": [
       "  0%|          | 0/1500 [00:00<?, ?it/s]"
      ]
     },
     "metadata": {},
     "output_type": "display_data"
    },
    {
     "data": {
      "application/vnd.jupyter.widget-view+json": {
       "model_id": "",
       "version_major": 2,
       "version_minor": 0
      },
      "text/plain": [
       "  0%|          | 0/1500 [00:00<?, ?it/s]"
      ]
     },
     "metadata": {},
     "output_type": "display_data"
    },
    {
     "data": {
      "application/vnd.jupyter.widget-view+json": {
       "model_id": "",
       "version_major": 2,
       "version_minor": 0
      },
      "text/plain": [
       "  0%|          | 0/1500 [00:00<?, ?it/s]"
      ]
     },
     "metadata": {},
     "output_type": "display_data"
    },
    {
     "data": {
      "application/vnd.jupyter.widget-view+json": {
       "model_id": "",
       "version_major": 2,
       "version_minor": 0
      },
      "text/plain": [
       "  0%|          | 0/1500 [00:00<?, ?it/s]"
      ]
     },
     "metadata": {},
     "output_type": "display_data"
    },
    {
     "data": {
      "application/vnd.jupyter.widget-view+json": {
       "model_id": "",
       "version_major": 2,
       "version_minor": 0
      },
      "text/plain": [
       "  0%|          | 0/1500 [00:00<?, ?it/s]"
      ]
     },
     "metadata": {},
     "output_type": "display_data"
    },
    {
     "data": {
      "application/vnd.jupyter.widget-view+json": {
       "model_id": "",
       "version_major": 2,
       "version_minor": 0
      },
      "text/plain": [
       "  0%|          | 0/1500 [00:00<?, ?it/s]"
      ]
     },
     "metadata": {},
     "output_type": "display_data"
    },
    {
     "data": {
      "application/vnd.jupyter.widget-view+json": {
       "model_id": "",
       "version_major": 2,
       "version_minor": 0
      },
      "text/plain": [
       "  0%|          | 0/1500 [00:00<?, ?it/s]"
      ]
     },
     "metadata": {},
     "output_type": "display_data"
    },
    {
     "data": {
      "application/vnd.jupyter.widget-view+json": {
       "model_id": "",
       "version_major": 2,
       "version_minor": 0
      },
      "text/plain": [
       "  0%|          | 0/1500 [00:00<?, ?it/s]"
      ]
     },
     "metadata": {},
     "output_type": "display_data"
    },
    {
     "data": {
      "application/vnd.jupyter.widget-view+json": {
       "model_id": "",
       "version_major": 2,
       "version_minor": 0
      },
      "text/plain": [
       "  0%|          | 0/1500 [00:00<?, ?it/s]"
      ]
     },
     "metadata": {},
     "output_type": "display_data"
    },
    {
     "data": {
      "application/vnd.jupyter.widget-view+json": {
       "model_id": "",
       "version_major": 2,
       "version_minor": 0
      },
      "text/plain": [
       "  0%|          | 0/1500 [00:00<?, ?it/s]"
      ]
     },
     "metadata": {},
     "output_type": "display_data"
    },
    {
     "data": {
      "application/vnd.jupyter.widget-view+json": {
       "model_id": "",
       "version_major": 2,
       "version_minor": 0
      },
      "text/plain": [
       "  0%|          | 0/1500 [00:00<?, ?it/s]"
      ]
     },
     "metadata": {},
     "output_type": "display_data"
    },
    {
     "data": {
      "application/vnd.jupyter.widget-view+json": {
       "model_id": "",
       "version_major": 2,
       "version_minor": 0
      },
      "text/plain": [
       "  0%|          | 0/1500 [00:00<?, ?it/s]"
      ]
     },
     "metadata": {},
     "output_type": "display_data"
    },
    {
     "data": {
      "application/vnd.jupyter.widget-view+json": {
       "model_id": "",
       "version_major": 2,
       "version_minor": 0
      },
      "text/plain": [
       "  0%|          | 0/1500 [00:00<?, ?it/s]"
      ]
     },
     "metadata": {},
     "output_type": "display_data"
    },
    {
     "data": {
      "application/vnd.jupyter.widget-view+json": {
       "model_id": "",
       "version_major": 2,
       "version_minor": 0
      },
      "text/plain": [
       "  0%|          | 0/1500 [00:00<?, ?it/s]"
      ]
     },
     "metadata": {},
     "output_type": "display_data"
    },
    {
     "data": {
      "application/vnd.jupyter.widget-view+json": {
       "model_id": "",
       "version_major": 2,
       "version_minor": 0
      },
      "text/plain": [
       "  0%|          | 0/1500 [00:00<?, ?it/s]"
      ]
     },
     "metadata": {},
     "output_type": "display_data"
    },
    {
     "data": {
      "application/vnd.jupyter.widget-view+json": {
       "model_id": "",
       "version_major": 2,
       "version_minor": 0
      },
      "text/plain": [
       "  0%|          | 0/1500 [00:00<?, ?it/s]"
      ]
     },
     "metadata": {},
     "output_type": "display_data"
    },
    {
     "data": {
      "application/vnd.jupyter.widget-view+json": {
       "model_id": "",
       "version_major": 2,
       "version_minor": 0
      },
      "text/plain": [
       "  0%|          | 0/1500 [00:00<?, ?it/s]"
      ]
     },
     "metadata": {},
     "output_type": "display_data"
    },
    {
     "data": {
      "application/vnd.jupyter.widget-view+json": {
       "model_id": "",
       "version_major": 2,
       "version_minor": 0
      },
      "text/plain": [
       "  0%|          | 0/1500 [00:00<?, ?it/s]"
      ]
     },
     "metadata": {},
     "output_type": "display_data"
    },
    {
     "data": {
      "application/vnd.jupyter.widget-view+json": {
       "model_id": "",
       "version_major": 2,
       "version_minor": 0
      },
      "text/plain": [
       "  0%|          | 0/1500 [00:00<?, ?it/s]"
      ]
     },
     "metadata": {},
     "output_type": "display_data"
    },
    {
     "data": {
      "application/vnd.jupyter.widget-view+json": {
       "model_id": "",
       "version_major": 2,
       "version_minor": 0
      },
      "text/plain": [
       "  0%|          | 0/1500 [00:00<?, ?it/s]"
      ]
     },
     "metadata": {},
     "output_type": "display_data"
    },
    {
     "data": {
      "application/vnd.jupyter.widget-view+json": {
       "model_id": "",
       "version_major": 2,
       "version_minor": 0
      },
      "text/plain": [
       "  0%|          | 0/1500 [00:00<?, ?it/s]"
      ]
     },
     "metadata": {},
     "output_type": "display_data"
    },
    {
     "data": {
      "application/vnd.jupyter.widget-view+json": {
       "model_id": "",
       "version_major": 2,
       "version_minor": 0
      },
      "text/plain": [
       "  0%|          | 0/1500 [00:00<?, ?it/s]"
      ]
     },
     "metadata": {},
     "output_type": "display_data"
    },
    {
     "data": {
      "application/vnd.jupyter.widget-view+json": {
       "model_id": "",
       "version_major": 2,
       "version_minor": 0
      },
      "text/plain": [
       "  0%|          | 0/1500 [00:00<?, ?it/s]"
      ]
     },
     "metadata": {},
     "output_type": "display_data"
    },
    {
     "data": {
      "application/vnd.jupyter.widget-view+json": {
       "model_id": "",
       "version_major": 2,
       "version_minor": 0
      },
      "text/plain": [
       "  0%|          | 0/1500 [00:00<?, ?it/s]"
      ]
     },
     "metadata": {},
     "output_type": "display_data"
    },
    {
     "data": {
      "application/vnd.jupyter.widget-view+json": {
       "model_id": "",
       "version_major": 2,
       "version_minor": 0
      },
      "text/plain": [
       "  0%|          | 0/1500 [00:00<?, ?it/s]"
      ]
     },
     "metadata": {},
     "output_type": "display_data"
    },
    {
     "data": {
      "application/vnd.jupyter.widget-view+json": {
       "model_id": "",
       "version_major": 2,
       "version_minor": 0
      },
      "text/plain": [
       "  0%|          | 0/1500 [00:00<?, ?it/s]"
      ]
     },
     "metadata": {},
     "output_type": "display_data"
    },
    {
     "data": {
      "application/vnd.jupyter.widget-view+json": {
       "model_id": "",
       "version_major": 2,
       "version_minor": 0
      },
      "text/plain": [
       "  0%|          | 0/1500 [00:00<?, ?it/s]"
      ]
     },
     "metadata": {},
     "output_type": "display_data"
    },
    {
     "data": {
      "application/vnd.jupyter.widget-view+json": {
       "model_id": "",
       "version_major": 2,
       "version_minor": 0
      },
      "text/plain": [
       "  0%|          | 0/1500 [00:00<?, ?it/s]"
      ]
     },
     "metadata": {},
     "output_type": "display_data"
    },
    {
     "data": {
      "application/vnd.jupyter.widget-view+json": {
       "model_id": "",
       "version_major": 2,
       "version_minor": 0
      },
      "text/plain": [
       "  0%|          | 0/1500 [00:00<?, ?it/s]"
      ]
     },
     "metadata": {},
     "output_type": "display_data"
    },
    {
     "data": {
      "application/vnd.jupyter.widget-view+json": {
       "model_id": "",
       "version_major": 2,
       "version_minor": 0
      },
      "text/plain": [
       "  0%|          | 0/1500 [00:00<?, ?it/s]"
      ]
     },
     "metadata": {},
     "output_type": "display_data"
    },
    {
     "data": {
      "application/vnd.jupyter.widget-view+json": {
       "model_id": "",
       "version_major": 2,
       "version_minor": 0
      },
      "text/plain": [
       "  0%|          | 0/1500 [00:00<?, ?it/s]"
      ]
     },
     "metadata": {},
     "output_type": "display_data"
    },
    {
     "data": {
      "application/vnd.jupyter.widget-view+json": {
       "model_id": "",
       "version_major": 2,
       "version_minor": 0
      },
      "text/plain": [
       "  0%|          | 0/1500 [00:00<?, ?it/s]"
      ]
     },
     "metadata": {},
     "output_type": "display_data"
    },
    {
     "data": {
      "application/vnd.jupyter.widget-view+json": {
       "model_id": "",
       "version_major": 2,
       "version_minor": 0
      },
      "text/plain": [
       "  0%|          | 0/1500 [00:00<?, ?it/s]"
      ]
     },
     "metadata": {},
     "output_type": "display_data"
    },
    {
     "data": {
      "application/vnd.jupyter.widget-view+json": {
       "model_id": "",
       "version_major": 2,
       "version_minor": 0
      },
      "text/plain": [
       "  0%|          | 0/1500 [00:00<?, ?it/s]"
      ]
     },
     "metadata": {},
     "output_type": "display_data"
    },
    {
     "data": {
      "application/vnd.jupyter.widget-view+json": {
       "model_id": "",
       "version_major": 2,
       "version_minor": 0
      },
      "text/plain": [
       "  0%|          | 0/1500 [00:00<?, ?it/s]"
      ]
     },
     "metadata": {},
     "output_type": "display_data"
    },
    {
     "data": {
      "application/vnd.jupyter.widget-view+json": {
       "model_id": "",
       "version_major": 2,
       "version_minor": 0
      },
      "text/plain": [
       "  0%|          | 0/1500 [00:00<?, ?it/s]"
      ]
     },
     "metadata": {},
     "output_type": "display_data"
    },
    {
     "data": {
      "application/vnd.jupyter.widget-view+json": {
       "model_id": "",
       "version_major": 2,
       "version_minor": 0
      },
      "text/plain": [
       "  0%|          | 0/1500 [00:00<?, ?it/s]"
      ]
     },
     "metadata": {},
     "output_type": "display_data"
    },
    {
     "data": {
      "application/vnd.jupyter.widget-view+json": {
       "model_id": "",
       "version_major": 2,
       "version_minor": 0
      },
      "text/plain": [
       "  0%|          | 0/1500 [00:00<?, ?it/s]"
      ]
     },
     "metadata": {},
     "output_type": "display_data"
    },
    {
     "data": {
      "application/vnd.jupyter.widget-view+json": {
       "model_id": "",
       "version_major": 2,
       "version_minor": 0
      },
      "text/plain": [
       "  0%|          | 0/1500 [00:00<?, ?it/s]"
      ]
     },
     "metadata": {},
     "output_type": "display_data"
    },
    {
     "data": {
      "application/vnd.jupyter.widget-view+json": {
       "model_id": "",
       "version_major": 2,
       "version_minor": 0
      },
      "text/plain": [
       "  0%|          | 0/1500 [00:00<?, ?it/s]"
      ]
     },
     "metadata": {},
     "output_type": "display_data"
    },
    {
     "data": {
      "application/vnd.jupyter.widget-view+json": {
       "model_id": "",
       "version_major": 2,
       "version_minor": 0
      },
      "text/plain": [
       "  0%|          | 0/1500 [00:00<?, ?it/s]"
      ]
     },
     "metadata": {},
     "output_type": "display_data"
    },
    {
     "data": {
      "application/vnd.jupyter.widget-view+json": {
       "model_id": "",
       "version_major": 2,
       "version_minor": 0
      },
      "text/plain": [
       "  0%|          | 0/1500 [00:00<?, ?it/s]"
      ]
     },
     "metadata": {},
     "output_type": "display_data"
    },
    {
     "data": {
      "application/vnd.jupyter.widget-view+json": {
       "model_id": "",
       "version_major": 2,
       "version_minor": 0
      },
      "text/plain": [
       "  0%|          | 0/1500 [00:00<?, ?it/s]"
      ]
     },
     "metadata": {},
     "output_type": "display_data"
    },
    {
     "data": {
      "application/vnd.jupyter.widget-view+json": {
       "model_id": "",
       "version_major": 2,
       "version_minor": 0
      },
      "text/plain": [
       "  0%|          | 0/1500 [00:00<?, ?it/s]"
      ]
     },
     "metadata": {},
     "output_type": "display_data"
    },
    {
     "data": {
      "application/vnd.jupyter.widget-view+json": {
       "model_id": "",
       "version_major": 2,
       "version_minor": 0
      },
      "text/plain": [
       "  0%|          | 0/1500 [00:00<?, ?it/s]"
      ]
     },
     "metadata": {},
     "output_type": "display_data"
    },
    {
     "data": {
      "application/vnd.jupyter.widget-view+json": {
       "model_id": "",
       "version_major": 2,
       "version_minor": 0
      },
      "text/plain": [
       "  0%|          | 0/1500 [00:00<?, ?it/s]"
      ]
     },
     "metadata": {},
     "output_type": "display_data"
    },
    {
     "data": {
      "application/vnd.jupyter.widget-view+json": {
       "model_id": "",
       "version_major": 2,
       "version_minor": 0
      },
      "text/plain": [
       "  0%|          | 0/1500 [00:00<?, ?it/s]"
      ]
     },
     "metadata": {},
     "output_type": "display_data"
    },
    {
     "data": {
      "application/vnd.jupyter.widget-view+json": {
       "model_id": "",
       "version_major": 2,
       "version_minor": 0
      },
      "text/plain": [
       "  0%|          | 0/1500 [00:00<?, ?it/s]"
      ]
     },
     "metadata": {},
     "output_type": "display_data"
    },
    {
     "data": {
      "application/vnd.jupyter.widget-view+json": {
       "model_id": "",
       "version_major": 2,
       "version_minor": 0
      },
      "text/plain": [
       "  0%|          | 0/1500 [00:00<?, ?it/s]"
      ]
     },
     "metadata": {},
     "output_type": "display_data"
    },
    {
     "data": {
      "application/vnd.jupyter.widget-view+json": {
       "model_id": "",
       "version_major": 2,
       "version_minor": 0
      },
      "text/plain": [
       "  0%|          | 0/1500 [00:00<?, ?it/s]"
      ]
     },
     "metadata": {},
     "output_type": "display_data"
    },
    {
     "data": {
      "application/vnd.jupyter.widget-view+json": {
       "model_id": "",
       "version_major": 2,
       "version_minor": 0
      },
      "text/plain": [
       "  0%|          | 0/1500 [00:00<?, ?it/s]"
      ]
     },
     "metadata": {},
     "output_type": "display_data"
    },
    {
     "data": {
      "application/vnd.jupyter.widget-view+json": {
       "model_id": "",
       "version_major": 2,
       "version_minor": 0
      },
      "text/plain": [
       "  0%|          | 0/1500 [00:00<?, ?it/s]"
      ]
     },
     "metadata": {},
     "output_type": "display_data"
    },
    {
     "data": {
      "application/vnd.jupyter.widget-view+json": {
       "model_id": "",
       "version_major": 2,
       "version_minor": 0
      },
      "text/plain": [
       "  0%|          | 0/1500 [00:00<?, ?it/s]"
      ]
     },
     "metadata": {},
     "output_type": "display_data"
    },
    {
     "data": {
      "application/vnd.jupyter.widget-view+json": {
       "model_id": "",
       "version_major": 2,
       "version_minor": 0
      },
      "text/plain": [
       "  0%|          | 0/1500 [00:00<?, ?it/s]"
      ]
     },
     "metadata": {},
     "output_type": "display_data"
    },
    {
     "data": {
      "application/vnd.jupyter.widget-view+json": {
       "model_id": "",
       "version_major": 2,
       "version_minor": 0
      },
      "text/plain": [
       "  0%|          | 0/1500 [00:00<?, ?it/s]"
      ]
     },
     "metadata": {},
     "output_type": "display_data"
    },
    {
     "data": {
      "application/vnd.jupyter.widget-view+json": {
       "model_id": "",
       "version_major": 2,
       "version_minor": 0
      },
      "text/plain": [
       "  0%|          | 0/1500 [00:00<?, ?it/s]"
      ]
     },
     "metadata": {},
     "output_type": "display_data"
    },
    {
     "data": {
      "application/vnd.jupyter.widget-view+json": {
       "model_id": "",
       "version_major": 2,
       "version_minor": 0
      },
      "text/plain": [
       "  0%|          | 0/1500 [00:00<?, ?it/s]"
      ]
     },
     "metadata": {},
     "output_type": "display_data"
    },
    {
     "data": {
      "application/vnd.jupyter.widget-view+json": {
       "model_id": "",
       "version_major": 2,
       "version_minor": 0
      },
      "text/plain": [
       "  0%|          | 0/1500 [00:00<?, ?it/s]"
      ]
     },
     "metadata": {},
     "output_type": "display_data"
    },
    {
     "data": {
      "application/vnd.jupyter.widget-view+json": {
       "model_id": "",
       "version_major": 2,
       "version_minor": 0
      },
      "text/plain": [
       "  0%|          | 0/1500 [00:00<?, ?it/s]"
      ]
     },
     "metadata": {},
     "output_type": "display_data"
    },
    {
     "data": {
      "application/vnd.jupyter.widget-view+json": {
       "model_id": "",
       "version_major": 2,
       "version_minor": 0
      },
      "text/plain": [
       "  0%|          | 0/1500 [00:00<?, ?it/s]"
      ]
     },
     "metadata": {},
     "output_type": "display_data"
    },
    {
     "data": {
      "application/vnd.jupyter.widget-view+json": {
       "model_id": "",
       "version_major": 2,
       "version_minor": 0
      },
      "text/plain": [
       "  0%|          | 0/1500 [00:00<?, ?it/s]"
      ]
     },
     "metadata": {},
     "output_type": "display_data"
    },
    {
     "data": {
      "application/vnd.jupyter.widget-view+json": {
       "model_id": "",
       "version_major": 2,
       "version_minor": 0
      },
      "text/plain": [
       "  0%|          | 0/1500 [00:00<?, ?it/s]"
      ]
     },
     "metadata": {},
     "output_type": "display_data"
    },
    {
     "data": {
      "application/vnd.jupyter.widget-view+json": {
       "model_id": "",
       "version_major": 2,
       "version_minor": 0
      },
      "text/plain": [
       "  0%|          | 0/1500 [00:00<?, ?it/s]"
      ]
     },
     "metadata": {},
     "output_type": "display_data"
    },
    {
     "data": {
      "application/vnd.jupyter.widget-view+json": {
       "model_id": "",
       "version_major": 2,
       "version_minor": 0
      },
      "text/plain": [
       "  0%|          | 0/1500 [00:00<?, ?it/s]"
      ]
     },
     "metadata": {},
     "output_type": "display_data"
    },
    {
     "data": {
      "application/vnd.jupyter.widget-view+json": {
       "model_id": "",
       "version_major": 2,
       "version_minor": 0
      },
      "text/plain": [
       "  0%|          | 0/1500 [00:00<?, ?it/s]"
      ]
     },
     "metadata": {},
     "output_type": "display_data"
    },
    {
     "data": {
      "application/vnd.jupyter.widget-view+json": {
       "model_id": "",
       "version_major": 2,
       "version_minor": 0
      },
      "text/plain": [
       "  0%|          | 0/1500 [00:00<?, ?it/s]"
      ]
     },
     "metadata": {},
     "output_type": "display_data"
    },
    {
     "data": {
      "application/vnd.jupyter.widget-view+json": {
       "model_id": "",
       "version_major": 2,
       "version_minor": 0
      },
      "text/plain": [
       "  0%|          | 0/1500 [00:00<?, ?it/s]"
      ]
     },
     "metadata": {},
     "output_type": "display_data"
    },
    {
     "data": {
      "application/vnd.jupyter.widget-view+json": {
       "model_id": "",
       "version_major": 2,
       "version_minor": 0
      },
      "text/plain": [
       "  0%|          | 0/1500 [00:00<?, ?it/s]"
      ]
     },
     "metadata": {},
     "output_type": "display_data"
    },
    {
     "data": {
      "application/vnd.jupyter.widget-view+json": {
       "model_id": "",
       "version_major": 2,
       "version_minor": 0
      },
      "text/plain": [
       "  0%|          | 0/1500 [00:00<?, ?it/s]"
      ]
     },
     "metadata": {},
     "output_type": "display_data"
    },
    {
     "data": {
      "application/vnd.jupyter.widget-view+json": {
       "model_id": "",
       "version_major": 2,
       "version_minor": 0
      },
      "text/plain": [
       "  0%|          | 0/1500 [00:00<?, ?it/s]"
      ]
     },
     "metadata": {},
     "output_type": "display_data"
    },
    {
     "data": {
      "application/vnd.jupyter.widget-view+json": {
       "model_id": "",
       "version_major": 2,
       "version_minor": 0
      },
      "text/plain": [
       "  0%|          | 0/1500 [00:00<?, ?it/s]"
      ]
     },
     "metadata": {},
     "output_type": "display_data"
    },
    {
     "data": {
      "application/vnd.jupyter.widget-view+json": {
       "model_id": "",
       "version_major": 2,
       "version_minor": 0
      },
      "text/plain": [
       "  0%|          | 0/1500 [00:00<?, ?it/s]"
      ]
     },
     "metadata": {},
     "output_type": "display_data"
    },
    {
     "data": {
      "application/vnd.jupyter.widget-view+json": {
       "model_id": "",
       "version_major": 2,
       "version_minor": 0
      },
      "text/plain": [
       "  0%|          | 0/1500 [00:00<?, ?it/s]"
      ]
     },
     "metadata": {},
     "output_type": "display_data"
    },
    {
     "data": {
      "application/vnd.jupyter.widget-view+json": {
       "model_id": "",
       "version_major": 2,
       "version_minor": 0
      },
      "text/plain": [
       "  0%|          | 0/1500 [00:00<?, ?it/s]"
      ]
     },
     "metadata": {},
     "output_type": "display_data"
    },
    {
     "data": {
      "application/vnd.jupyter.widget-view+json": {
       "model_id": "",
       "version_major": 2,
       "version_minor": 0
      },
      "text/plain": [
       "  0%|          | 0/1500 [00:00<?, ?it/s]"
      ]
     },
     "metadata": {},
     "output_type": "display_data"
    },
    {
     "data": {
      "application/vnd.jupyter.widget-view+json": {
       "model_id": "",
       "version_major": 2,
       "version_minor": 0
      },
      "text/plain": [
       "  0%|          | 0/1500 [00:00<?, ?it/s]"
      ]
     },
     "metadata": {},
     "output_type": "display_data"
    },
    {
     "data": {
      "application/vnd.jupyter.widget-view+json": {
       "model_id": "",
       "version_major": 2,
       "version_minor": 0
      },
      "text/plain": [
       "  0%|          | 0/1500 [00:00<?, ?it/s]"
      ]
     },
     "metadata": {},
     "output_type": "display_data"
    },
    {
     "data": {
      "application/vnd.jupyter.widget-view+json": {
       "model_id": "",
       "version_major": 2,
       "version_minor": 0
      },
      "text/plain": [
       "  0%|          | 0/1500 [00:00<?, ?it/s]"
      ]
     },
     "metadata": {},
     "output_type": "display_data"
    },
    {
     "data": {
      "application/vnd.jupyter.widget-view+json": {
       "model_id": "",
       "version_major": 2,
       "version_minor": 0
      },
      "text/plain": [
       "  0%|          | 0/1500 [00:00<?, ?it/s]"
      ]
     },
     "metadata": {},
     "output_type": "display_data"
    },
    {
     "data": {
      "application/vnd.jupyter.widget-view+json": {
       "model_id": "",
       "version_major": 2,
       "version_minor": 0
      },
      "text/plain": [
       "  0%|          | 0/1500 [00:00<?, ?it/s]"
      ]
     },
     "metadata": {},
     "output_type": "display_data"
    },
    {
     "data": {
      "application/vnd.jupyter.widget-view+json": {
       "model_id": "",
       "version_major": 2,
       "version_minor": 0
      },
      "text/plain": [
       "  0%|          | 0/1500 [00:00<?, ?it/s]"
      ]
     },
     "metadata": {},
     "output_type": "display_data"
    },
    {
     "data": {
      "application/vnd.jupyter.widget-view+json": {
       "model_id": "",
       "version_major": 2,
       "version_minor": 0
      },
      "text/plain": [
       "  0%|          | 0/1500 [00:00<?, ?it/s]"
      ]
     },
     "metadata": {},
     "output_type": "display_data"
    },
    {
     "data": {
      "application/vnd.jupyter.widget-view+json": {
       "model_id": "",
       "version_major": 2,
       "version_minor": 0
      },
      "text/plain": [
       "  0%|          | 0/1500 [00:00<?, ?it/s]"
      ]
     },
     "metadata": {},
     "output_type": "display_data"
    },
    {
     "data": {
      "application/vnd.jupyter.widget-view+json": {
       "model_id": "",
       "version_major": 2,
       "version_minor": 0
      },
      "text/plain": [
       "  0%|          | 0/1500 [00:00<?, ?it/s]"
      ]
     },
     "metadata": {},
     "output_type": "display_data"
    },
    {
     "data": {
      "application/vnd.jupyter.widget-view+json": {
       "model_id": "",
       "version_major": 2,
       "version_minor": 0
      },
      "text/plain": [
       "  0%|          | 0/1500 [00:00<?, ?it/s]"
      ]
     },
     "metadata": {},
     "output_type": "display_data"
    },
    {
     "data": {
      "application/vnd.jupyter.widget-view+json": {
       "model_id": "",
       "version_major": 2,
       "version_minor": 0
      },
      "text/plain": [
       "  0%|          | 0/1500 [00:00<?, ?it/s]"
      ]
     },
     "metadata": {},
     "output_type": "display_data"
    },
    {
     "data": {
      "application/vnd.jupyter.widget-view+json": {
       "model_id": "",
       "version_major": 2,
       "version_minor": 0
      },
      "text/plain": [
       "  0%|          | 0/1500 [00:00<?, ?it/s]"
      ]
     },
     "metadata": {},
     "output_type": "display_data"
    },
    {
     "data": {
      "application/vnd.jupyter.widget-view+json": {
       "model_id": "",
       "version_major": 2,
       "version_minor": 0
      },
      "text/plain": [
       "  0%|          | 0/1500 [00:00<?, ?it/s]"
      ]
     },
     "metadata": {},
     "output_type": "display_data"
    },
    {
     "data": {
      "application/vnd.jupyter.widget-view+json": {
       "model_id": "",
       "version_major": 2,
       "version_minor": 0
      },
      "text/plain": [
       "  0%|          | 0/1500 [00:00<?, ?it/s]"
      ]
     },
     "metadata": {},
     "output_type": "display_data"
    },
    {
     "data": {
      "application/vnd.jupyter.widget-view+json": {
       "model_id": "",
       "version_major": 2,
       "version_minor": 0
      },
      "text/plain": [
       "  0%|          | 0/1500 [00:00<?, ?it/s]"
      ]
     },
     "metadata": {},
     "output_type": "display_data"
    },
    {
     "data": {
      "application/vnd.jupyter.widget-view+json": {
       "model_id": "",
       "version_major": 2,
       "version_minor": 0
      },
      "text/plain": [
       "  0%|          | 0/1500 [00:00<?, ?it/s]"
      ]
     },
     "metadata": {},
     "output_type": "display_data"
    },
    {
     "data": {
      "application/vnd.jupyter.widget-view+json": {
       "model_id": "",
       "version_major": 2,
       "version_minor": 0
      },
      "text/plain": [
       "  0%|          | 0/1500 [00:00<?, ?it/s]"
      ]
     },
     "metadata": {},
     "output_type": "display_data"
    },
    {
     "data": {
      "application/vnd.jupyter.widget-view+json": {
       "model_id": "",
       "version_major": 2,
       "version_minor": 0
      },
      "text/plain": [
       "  0%|          | 0/1500 [00:00<?, ?it/s]"
      ]
     },
     "metadata": {},
     "output_type": "display_data"
    },
    {
     "data": {
      "application/vnd.jupyter.widget-view+json": {
       "model_id": "",
       "version_major": 2,
       "version_minor": 0
      },
      "text/plain": [
       "  0%|          | 0/1500 [00:00<?, ?it/s]"
      ]
     },
     "metadata": {},
     "output_type": "display_data"
    },
    {
     "data": {
      "application/vnd.jupyter.widget-view+json": {
       "model_id": "",
       "version_major": 2,
       "version_minor": 0
      },
      "text/plain": [
       "  0%|          | 0/1500 [00:00<?, ?it/s]"
      ]
     },
     "metadata": {},
     "output_type": "display_data"
    },
    {
     "data": {
      "application/vnd.jupyter.widget-view+json": {
       "model_id": "",
       "version_major": 2,
       "version_minor": 0
      },
      "text/plain": [
       "  0%|          | 0/1500 [00:00<?, ?it/s]"
      ]
     },
     "metadata": {},
     "output_type": "display_data"
    },
    {
     "data": {
      "application/vnd.jupyter.widget-view+json": {
       "model_id": "",
       "version_major": 2,
       "version_minor": 0
      },
      "text/plain": [
       "  0%|          | 0/1500 [00:00<?, ?it/s]"
      ]
     },
     "metadata": {},
     "output_type": "display_data"
    },
    {
     "data": {
      "application/vnd.jupyter.widget-view+json": {
       "model_id": "",
       "version_major": 2,
       "version_minor": 0
      },
      "text/plain": [
       "  0%|          | 0/1500 [00:00<?, ?it/s]"
      ]
     },
     "metadata": {},
     "output_type": "display_data"
    },
    {
     "data": {
      "application/vnd.jupyter.widget-view+json": {
       "model_id": "",
       "version_major": 2,
       "version_minor": 0
      },
      "text/plain": [
       "  0%|          | 0/1500 [00:00<?, ?it/s]"
      ]
     },
     "metadata": {},
     "output_type": "display_data"
    },
    {
     "data": {
      "application/vnd.jupyter.widget-view+json": {
       "model_id": "",
       "version_major": 2,
       "version_minor": 0
      },
      "text/plain": [
       "  0%|          | 0/1500 [00:00<?, ?it/s]"
      ]
     },
     "metadata": {},
     "output_type": "display_data"
    },
    {
     "data": {
      "application/vnd.jupyter.widget-view+json": {
       "model_id": "",
       "version_major": 2,
       "version_minor": 0
      },
      "text/plain": [
       "  0%|          | 0/1500 [00:00<?, ?it/s]"
      ]
     },
     "metadata": {},
     "output_type": "display_data"
    },
    {
     "data": {
      "application/vnd.jupyter.widget-view+json": {
       "model_id": "",
       "version_major": 2,
       "version_minor": 0
      },
      "text/plain": [
       "  0%|          | 0/1500 [00:00<?, ?it/s]"
      ]
     },
     "metadata": {},
     "output_type": "display_data"
    },
    {
     "data": {
      "application/vnd.jupyter.widget-view+json": {
       "model_id": "",
       "version_major": 2,
       "version_minor": 0
      },
      "text/plain": [
       "  0%|          | 0/1500 [00:00<?, ?it/s]"
      ]
     },
     "metadata": {},
     "output_type": "display_data"
    },
    {
     "data": {
      "application/vnd.jupyter.widget-view+json": {
       "model_id": "",
       "version_major": 2,
       "version_minor": 0
      },
      "text/plain": [
       "  0%|          | 0/1500 [00:00<?, ?it/s]"
      ]
     },
     "metadata": {},
     "output_type": "display_data"
    },
    {
     "data": {
      "application/vnd.jupyter.widget-view+json": {
       "model_id": "",
       "version_major": 2,
       "version_minor": 0
      },
      "text/plain": [
       "  0%|          | 0/1500 [00:00<?, ?it/s]"
      ]
     },
     "metadata": {},
     "output_type": "display_data"
    },
    {
     "data": {
      "application/vnd.jupyter.widget-view+json": {
       "model_id": "",
       "version_major": 2,
       "version_minor": 0
      },
      "text/plain": [
       "  0%|          | 0/1500 [00:00<?, ?it/s]"
      ]
     },
     "metadata": {},
     "output_type": "display_data"
    },
    {
     "data": {
      "application/vnd.jupyter.widget-view+json": {
       "model_id": "",
       "version_major": 2,
       "version_minor": 0
      },
      "text/plain": [
       "  0%|          | 0/1500 [00:00<?, ?it/s]"
      ]
     },
     "metadata": {},
     "output_type": "display_data"
    },
    {
     "data": {
      "application/vnd.jupyter.widget-view+json": {
       "model_id": "",
       "version_major": 2,
       "version_minor": 0
      },
      "text/plain": [
       "  0%|          | 0/1500 [00:00<?, ?it/s]"
      ]
     },
     "metadata": {},
     "output_type": "display_data"
    },
    {
     "data": {
      "application/vnd.jupyter.widget-view+json": {
       "model_id": "",
       "version_major": 2,
       "version_minor": 0
      },
      "text/plain": [
       "  0%|          | 0/1500 [00:00<?, ?it/s]"
      ]
     },
     "metadata": {},
     "output_type": "display_data"
    },
    {
     "data": {
      "application/vnd.jupyter.widget-view+json": {
       "model_id": "",
       "version_major": 2,
       "version_minor": 0
      },
      "text/plain": [
       "  0%|          | 0/1500 [00:00<?, ?it/s]"
      ]
     },
     "metadata": {},
     "output_type": "display_data"
    },
    {
     "data": {
      "application/vnd.jupyter.widget-view+json": {
       "model_id": "",
       "version_major": 2,
       "version_minor": 0
      },
      "text/plain": [
       "  0%|          | 0/1500 [00:00<?, ?it/s]"
      ]
     },
     "metadata": {},
     "output_type": "display_data"
    },
    {
     "data": {
      "application/vnd.jupyter.widget-view+json": {
       "model_id": "",
       "version_major": 2,
       "version_minor": 0
      },
      "text/plain": [
       "  0%|          | 0/1500 [00:00<?, ?it/s]"
      ]
     },
     "metadata": {},
     "output_type": "display_data"
    },
    {
     "data": {
      "application/vnd.jupyter.widget-view+json": {
       "model_id": "",
       "version_major": 2,
       "version_minor": 0
      },
      "text/plain": [
       "  0%|          | 0/1500 [00:00<?, ?it/s]"
      ]
     },
     "metadata": {},
     "output_type": "display_data"
    },
    {
     "data": {
      "application/vnd.jupyter.widget-view+json": {
       "model_id": "",
       "version_major": 2,
       "version_minor": 0
      },
      "text/plain": [
       "  0%|          | 0/1500 [00:00<?, ?it/s]"
      ]
     },
     "metadata": {},
     "output_type": "display_data"
    },
    {
     "data": {
      "application/vnd.jupyter.widget-view+json": {
       "model_id": "",
       "version_major": 2,
       "version_minor": 0
      },
      "text/plain": [
       "  0%|          | 0/1500 [00:00<?, ?it/s]"
      ]
     },
     "metadata": {},
     "output_type": "display_data"
    },
    {
     "data": {
      "application/vnd.jupyter.widget-view+json": {
       "model_id": "",
       "version_major": 2,
       "version_minor": 0
      },
      "text/plain": [
       "  0%|          | 0/1500 [00:00<?, ?it/s]"
      ]
     },
     "metadata": {},
     "output_type": "display_data"
    },
    {
     "data": {
      "application/vnd.jupyter.widget-view+json": {
       "model_id": "",
       "version_major": 2,
       "version_minor": 0
      },
      "text/plain": [
       "  0%|          | 0/1500 [00:00<?, ?it/s]"
      ]
     },
     "metadata": {},
     "output_type": "display_data"
    },
    {
     "data": {
      "application/vnd.jupyter.widget-view+json": {
       "model_id": "",
       "version_major": 2,
       "version_minor": 0
      },
      "text/plain": [
       "  0%|          | 0/1500 [00:00<?, ?it/s]"
      ]
     },
     "metadata": {},
     "output_type": "display_data"
    },
    {
     "data": {
      "application/vnd.jupyter.widget-view+json": {
       "model_id": "",
       "version_major": 2,
       "version_minor": 0
      },
      "text/plain": [
       "  0%|          | 0/1500 [00:00<?, ?it/s]"
      ]
     },
     "metadata": {},
     "output_type": "display_data"
    },
    {
     "data": {
      "application/vnd.jupyter.widget-view+json": {
       "model_id": "",
       "version_major": 2,
       "version_minor": 0
      },
      "text/plain": [
       "  0%|          | 0/1500 [00:00<?, ?it/s]"
      ]
     },
     "metadata": {},
     "output_type": "display_data"
    },
    {
     "data": {
      "application/vnd.jupyter.widget-view+json": {
       "model_id": "",
       "version_major": 2,
       "version_minor": 0
      },
      "text/plain": [
       "  0%|          | 0/1500 [00:00<?, ?it/s]"
      ]
     },
     "metadata": {},
     "output_type": "display_data"
    },
    {
     "data": {
      "application/vnd.jupyter.widget-view+json": {
       "model_id": "",
       "version_major": 2,
       "version_minor": 0
      },
      "text/plain": [
       "  0%|          | 0/1500 [00:00<?, ?it/s]"
      ]
     },
     "metadata": {},
     "output_type": "display_data"
    },
    {
     "data": {
      "application/vnd.jupyter.widget-view+json": {
       "model_id": "",
       "version_major": 2,
       "version_minor": 0
      },
      "text/plain": [
       "  0%|          | 0/1500 [00:00<?, ?it/s]"
      ]
     },
     "metadata": {},
     "output_type": "display_data"
    },
    {
     "data": {
      "application/vnd.jupyter.widget-view+json": {
       "model_id": "",
       "version_major": 2,
       "version_minor": 0
      },
      "text/plain": [
       "  0%|          | 0/1500 [00:00<?, ?it/s]"
      ]
     },
     "metadata": {},
     "output_type": "display_data"
    },
    {
     "data": {
      "application/vnd.jupyter.widget-view+json": {
       "model_id": "",
       "version_major": 2,
       "version_minor": 0
      },
      "text/plain": [
       "  0%|          | 0/1500 [00:00<?, ?it/s]"
      ]
     },
     "metadata": {},
     "output_type": "display_data"
    },
    {
     "data": {
      "application/vnd.jupyter.widget-view+json": {
       "model_id": "",
       "version_major": 2,
       "version_minor": 0
      },
      "text/plain": [
       "  0%|          | 0/1500 [00:00<?, ?it/s]"
      ]
     },
     "metadata": {},
     "output_type": "display_data"
    },
    {
     "data": {
      "application/vnd.jupyter.widget-view+json": {
       "model_id": "",
       "version_major": 2,
       "version_minor": 0
      },
      "text/plain": [
       "  0%|          | 0/1500 [00:00<?, ?it/s]"
      ]
     },
     "metadata": {},
     "output_type": "display_data"
    },
    {
     "data": {
      "application/vnd.jupyter.widget-view+json": {
       "model_id": "",
       "version_major": 2,
       "version_minor": 0
      },
      "text/plain": [
       "  0%|          | 0/1500 [00:00<?, ?it/s]"
      ]
     },
     "metadata": {},
     "output_type": "display_data"
    },
    {
     "data": {
      "application/vnd.jupyter.widget-view+json": {
       "model_id": "",
       "version_major": 2,
       "version_minor": 0
      },
      "text/plain": [
       "  0%|          | 0/1500 [00:00<?, ?it/s]"
      ]
     },
     "metadata": {},
     "output_type": "display_data"
    },
    {
     "data": {
      "application/vnd.jupyter.widget-view+json": {
       "model_id": "",
       "version_major": 2,
       "version_minor": 0
      },
      "text/plain": [
       "  0%|          | 0/1500 [00:00<?, ?it/s]"
      ]
     },
     "metadata": {},
     "output_type": "display_data"
    },
    {
     "data": {
      "application/vnd.jupyter.widget-view+json": {
       "model_id": "",
       "version_major": 2,
       "version_minor": 0
      },
      "text/plain": [
       "  0%|          | 0/1500 [00:00<?, ?it/s]"
      ]
     },
     "metadata": {},
     "output_type": "display_data"
    },
    {
     "data": {
      "application/vnd.jupyter.widget-view+json": {
       "model_id": "",
       "version_major": 2,
       "version_minor": 0
      },
      "text/plain": [
       "  0%|          | 0/1500 [00:00<?, ?it/s]"
      ]
     },
     "metadata": {},
     "output_type": "display_data"
    },
    {
     "name": "stderr",
     "output_type": "stream",
     "text": [
      "/home/charles/anaconda3/envs/torch/lib/python3.7/site-packages/sklearn/neighbors/_lof.py:277: UserWarning: n_neighbors (10) is greater than the total number of samples (7). n_neighbors will be set to (n_samples - 1) for estimation.\n",
      "  % (self.n_neighbors, n_samples))\n",
      "/home/charles/anaconda3/envs/torch/lib/python3.7/site-packages/sklearn/neighbors/_lof.py:277: UserWarning: n_neighbors (10) is greater than the total number of samples (7). n_neighbors will be set to (n_samples - 1) for estimation.\n",
      "  % (self.n_neighbors, n_samples))\n",
      "/home/charles/anaconda3/envs/torch/lib/python3.7/site-packages/sklearn/neighbors/_lof.py:277: UserWarning: n_neighbors (10) is greater than the total number of samples (7). n_neighbors will be set to (n_samples - 1) for estimation.\n",
      "  % (self.n_neighbors, n_samples))\n",
      "/home/charles/anaconda3/envs/torch/lib/python3.7/site-packages/sklearn/neighbors/_lof.py:277: UserWarning: n_neighbors (10) is greater than the total number of samples (7). n_neighbors will be set to (n_samples - 1) for estimation.\n",
      "  % (self.n_neighbors, n_samples))\n",
      "/home/charles/anaconda3/envs/torch/lib/python3.7/site-packages/sklearn/neighbors/_lof.py:277: UserWarning: n_neighbors (10) is greater than the total number of samples (7). n_neighbors will be set to (n_samples - 1) for estimation.\n",
      "  % (self.n_neighbors, n_samples))\n",
      "/home/charles/anaconda3/envs/torch/lib/python3.7/site-packages/sklearn/neighbors/_lof.py:277: UserWarning: n_neighbors (10) is greater than the total number of samples (7). n_neighbors will be set to (n_samples - 1) for estimation.\n",
      "  % (self.n_neighbors, n_samples))\n",
      "/home/charles/anaconda3/envs/torch/lib/python3.7/site-packages/sklearn/neighbors/_lof.py:277: UserWarning: n_neighbors (10) is greater than the total number of samples (7). n_neighbors will be set to (n_samples - 1) for estimation.\n",
      "  % (self.n_neighbors, n_samples))\n",
      "/home/charles/anaconda3/envs/torch/lib/python3.7/site-packages/sklearn/neighbors/_lof.py:277: UserWarning: n_neighbors (10) is greater than the total number of samples (7). n_neighbors will be set to (n_samples - 1) for estimation.\n",
      "  % (self.n_neighbors, n_samples))\n",
      "/home/charles/anaconda3/envs/torch/lib/python3.7/site-packages/sklearn/neighbors/_lof.py:277: UserWarning: n_neighbors (10) is greater than the total number of samples (7). n_neighbors will be set to (n_samples - 1) for estimation.\n",
      "  % (self.n_neighbors, n_samples))\n",
      "/home/charles/anaconda3/envs/torch/lib/python3.7/site-packages/sklearn/neighbors/_lof.py:277: UserWarning: n_neighbors (10) is greater than the total number of samples (7). n_neighbors will be set to (n_samples - 1) for estimation.\n",
      "  % (self.n_neighbors, n_samples))\n",
      "/home/charles/anaconda3/envs/torch/lib/python3.7/site-packages/sklearn/neighbors/_lof.py:277: UserWarning: n_neighbors (10) is greater than the total number of samples (7). n_neighbors will be set to (n_samples - 1) for estimation.\n",
      "  % (self.n_neighbors, n_samples))\n",
      "/home/charles/anaconda3/envs/torch/lib/python3.7/site-packages/sklearn/neighbors/_lof.py:277: UserWarning: n_neighbors (10) is greater than the total number of samples (7). n_neighbors will be set to (n_samples - 1) for estimation.\n",
      "  % (self.n_neighbors, n_samples))\n",
      "/home/charles/anaconda3/envs/torch/lib/python3.7/site-packages/sklearn/neighbors/_lof.py:277: UserWarning: n_neighbors (10) is greater than the total number of samples (7). n_neighbors will be set to (n_samples - 1) for estimation.\n",
      "  % (self.n_neighbors, n_samples))\n",
      "/home/charles/anaconda3/envs/torch/lib/python3.7/site-packages/sklearn/neighbors/_lof.py:277: UserWarning: n_neighbors (10) is greater than the total number of samples (7). n_neighbors will be set to (n_samples - 1) for estimation.\n",
      "  % (self.n_neighbors, n_samples))\n",
      "/home/charles/anaconda3/envs/torch/lib/python3.7/site-packages/sklearn/neighbors/_lof.py:277: UserWarning: n_neighbors (10) is greater than the total number of samples (7). n_neighbors will be set to (n_samples - 1) for estimation.\n",
      "  % (self.n_neighbors, n_samples))\n",
      "/home/charles/anaconda3/envs/torch/lib/python3.7/site-packages/sklearn/neighbors/_lof.py:277: UserWarning: n_neighbors (10) is greater than the total number of samples (7). n_neighbors will be set to (n_samples - 1) for estimation.\n",
      "  % (self.n_neighbors, n_samples))\n",
      "/home/charles/anaconda3/envs/torch/lib/python3.7/site-packages/sklearn/neighbors/_lof.py:277: UserWarning: n_neighbors (10) is greater than the total number of samples (7). n_neighbors will be set to (n_samples - 1) for estimation.\n",
      "  % (self.n_neighbors, n_samples))\n",
      "/home/charles/anaconda3/envs/torch/lib/python3.7/site-packages/sklearn/neighbors/_lof.py:277: UserWarning: n_neighbors (10) is greater than the total number of samples (7). n_neighbors will be set to (n_samples - 1) for estimation.\n",
      "  % (self.n_neighbors, n_samples))\n",
      "/home/charles/anaconda3/envs/torch/lib/python3.7/site-packages/sklearn/neighbors/_lof.py:277: UserWarning: n_neighbors (10) is greater than the total number of samples (7). n_neighbors will be set to (n_samples - 1) for estimation.\n",
      "  % (self.n_neighbors, n_samples))\n",
      "/home/charles/anaconda3/envs/torch/lib/python3.7/site-packages/sklearn/neighbors/_lof.py:277: UserWarning: n_neighbors (10) is greater than the total number of samples (7). n_neighbors will be set to (n_samples - 1) for estimation.\n",
      "  % (self.n_neighbors, n_samples))\n",
      "/home/charles/anaconda3/envs/torch/lib/python3.7/site-packages/sklearn/neighbors/_lof.py:277: UserWarning: n_neighbors (10) is greater than the total number of samples (7). n_neighbors will be set to (n_samples - 1) for estimation.\n",
      "  % (self.n_neighbors, n_samples))\n",
      "/home/charles/anaconda3/envs/torch/lib/python3.7/site-packages/sklearn/neighbors/_lof.py:277: UserWarning: n_neighbors (10) is greater than the total number of samples (7). n_neighbors will be set to (n_samples - 1) for estimation.\n",
      "  % (self.n_neighbors, n_samples))\n",
      "/home/charles/anaconda3/envs/torch/lib/python3.7/site-packages/sklearn/neighbors/_lof.py:277: UserWarning: n_neighbors (10) is greater than the total number of samples (7). n_neighbors will be set to (n_samples - 1) for estimation.\n",
      "  % (self.n_neighbors, n_samples))\n",
      "/home/charles/anaconda3/envs/torch/lib/python3.7/site-packages/sklearn/neighbors/_lof.py:277: UserWarning: n_neighbors (10) is greater than the total number of samples (7). n_neighbors will be set to (n_samples - 1) for estimation.\n",
      "  % (self.n_neighbors, n_samples))\n",
      "/home/charles/anaconda3/envs/torch/lib/python3.7/site-packages/sklearn/neighbors/_lof.py:277: UserWarning: n_neighbors (10) is greater than the total number of samples (7). n_neighbors will be set to (n_samples - 1) for estimation.\n",
      "  % (self.n_neighbors, n_samples))\n",
      "/home/charles/anaconda3/envs/torch/lib/python3.7/site-packages/sklearn/neighbors/_lof.py:277: UserWarning: n_neighbors (10) is greater than the total number of samples (7). n_neighbors will be set to (n_samples - 1) for estimation.\n",
      "  % (self.n_neighbors, n_samples))\n",
      "/home/charles/anaconda3/envs/torch/lib/python3.7/site-packages/sklearn/neighbors/_lof.py:277: UserWarning: n_neighbors (10) is greater than the total number of samples (7). n_neighbors will be set to (n_samples - 1) for estimation.\n",
      "  % (self.n_neighbors, n_samples))\n",
      "/home/charles/anaconda3/envs/torch/lib/python3.7/site-packages/sklearn/neighbors/_lof.py:277: UserWarning: n_neighbors (10) is greater than the total number of samples (7). n_neighbors will be set to (n_samples - 1) for estimation.\n",
      "  % (self.n_neighbors, n_samples))\n",
      "/home/charles/anaconda3/envs/torch/lib/python3.7/site-packages/sklearn/neighbors/_lof.py:277: UserWarning: n_neighbors (10) is greater than the total number of samples (7). n_neighbors will be set to (n_samples - 1) for estimation.\n",
      "  % (self.n_neighbors, n_samples))\n",
      "/home/charles/anaconda3/envs/torch/lib/python3.7/site-packages/sklearn/neighbors/_lof.py:277: UserWarning: n_neighbors (10) is greater than the total number of samples (7). n_neighbors will be set to (n_samples - 1) for estimation.\n",
      "  % (self.n_neighbors, n_samples))\n",
      "/home/charles/anaconda3/envs/torch/lib/python3.7/site-packages/sklearn/neighbors/_lof.py:277: UserWarning: n_neighbors (10) is greater than the total number of samples (7). n_neighbors will be set to (n_samples - 1) for estimation.\n",
      "  % (self.n_neighbors, n_samples))\n",
      "/home/charles/anaconda3/envs/torch/lib/python3.7/site-packages/sklearn/neighbors/_lof.py:277: UserWarning: n_neighbors (10) is greater than the total number of samples (7). n_neighbors will be set to (n_samples - 1) for estimation.\n",
      "  % (self.n_neighbors, n_samples))\n",
      "/home/charles/anaconda3/envs/torch/lib/python3.7/site-packages/sklearn/neighbors/_lof.py:277: UserWarning: n_neighbors (10) is greater than the total number of samples (7). n_neighbors will be set to (n_samples - 1) for estimation.\n",
      "  % (self.n_neighbors, n_samples))\n",
      "/home/charles/anaconda3/envs/torch/lib/python3.7/site-packages/sklearn/neighbors/_lof.py:277: UserWarning: n_neighbors (10) is greater than the total number of samples (7). n_neighbors will be set to (n_samples - 1) for estimation.\n",
      "  % (self.n_neighbors, n_samples))\n",
      "/home/charles/anaconda3/envs/torch/lib/python3.7/site-packages/sklearn/neighbors/_lof.py:277: UserWarning: n_neighbors (10) is greater than the total number of samples (7). n_neighbors will be set to (n_samples - 1) for estimation.\n",
      "  % (self.n_neighbors, n_samples))\n",
      "/home/charles/anaconda3/envs/torch/lib/python3.7/site-packages/sklearn/neighbors/_lof.py:277: UserWarning: n_neighbors (10) is greater than the total number of samples (7). n_neighbors will be set to (n_samples - 1) for estimation.\n",
      "  % (self.n_neighbors, n_samples))\n",
      "/home/charles/anaconda3/envs/torch/lib/python3.7/site-packages/sklearn/neighbors/_lof.py:277: UserWarning: n_neighbors (10) is greater than the total number of samples (7). n_neighbors will be set to (n_samples - 1) for estimation.\n",
      "  % (self.n_neighbors, n_samples))\n",
      "/home/charles/anaconda3/envs/torch/lib/python3.7/site-packages/sklearn/neighbors/_lof.py:277: UserWarning: n_neighbors (10) is greater than the total number of samples (7). n_neighbors will be set to (n_samples - 1) for estimation.\n",
      "  % (self.n_neighbors, n_samples))\n",
      "/home/charles/anaconda3/envs/torch/lib/python3.7/site-packages/sklearn/neighbors/_lof.py:277: UserWarning: n_neighbors (10) is greater than the total number of samples (7). n_neighbors will be set to (n_samples - 1) for estimation.\n",
      "  % (self.n_neighbors, n_samples))\n",
      "/home/charles/anaconda3/envs/torch/lib/python3.7/site-packages/sklearn/neighbors/_lof.py:277: UserWarning: n_neighbors (10) is greater than the total number of samples (7). n_neighbors will be set to (n_samples - 1) for estimation.\n",
      "  % (self.n_neighbors, n_samples))\n",
      "/home/charles/anaconda3/envs/torch/lib/python3.7/site-packages/sklearn/neighbors/_lof.py:277: UserWarning: n_neighbors (10) is greater than the total number of samples (7). n_neighbors will be set to (n_samples - 1) for estimation.\n",
      "  % (self.n_neighbors, n_samples))\n",
      "/home/charles/anaconda3/envs/torch/lib/python3.7/site-packages/sklearn/neighbors/_lof.py:277: UserWarning: n_neighbors (10) is greater than the total number of samples (7). n_neighbors will be set to (n_samples - 1) for estimation.\n",
      "  % (self.n_neighbors, n_samples))\n",
      "/home/charles/anaconda3/envs/torch/lib/python3.7/site-packages/sklearn/neighbors/_lof.py:277: UserWarning: n_neighbors (10) is greater than the total number of samples (7). n_neighbors will be set to (n_samples - 1) for estimation.\n",
      "  % (self.n_neighbors, n_samples))\n",
      "/home/charles/anaconda3/envs/torch/lib/python3.7/site-packages/sklearn/neighbors/_lof.py:277: UserWarning: n_neighbors (10) is greater than the total number of samples (7). n_neighbors will be set to (n_samples - 1) for estimation.\n",
      "  % (self.n_neighbors, n_samples))\n",
      "/home/charles/anaconda3/envs/torch/lib/python3.7/site-packages/sklearn/neighbors/_lof.py:277: UserWarning: n_neighbors (10) is greater than the total number of samples (7). n_neighbors will be set to (n_samples - 1) for estimation.\n",
      "  % (self.n_neighbors, n_samples))\n",
      "/home/charles/anaconda3/envs/torch/lib/python3.7/site-packages/sklearn/neighbors/_lof.py:277: UserWarning: n_neighbors (10) is greater than the total number of samples (7). n_neighbors will be set to (n_samples - 1) for estimation.\n",
      "  % (self.n_neighbors, n_samples))\n",
      "/home/charles/anaconda3/envs/torch/lib/python3.7/site-packages/sklearn/neighbors/_lof.py:277: UserWarning: n_neighbors (10) is greater than the total number of samples (7). n_neighbors will be set to (n_samples - 1) for estimation.\n",
      "  % (self.n_neighbors, n_samples))\n",
      "/home/charles/anaconda3/envs/torch/lib/python3.7/site-packages/sklearn/neighbors/_lof.py:277: UserWarning: n_neighbors (10) is greater than the total number of samples (7). n_neighbors will be set to (n_samples - 1) for estimation.\n",
      "  % (self.n_neighbors, n_samples))\n",
      "/home/charles/anaconda3/envs/torch/lib/python3.7/site-packages/sklearn/neighbors/_lof.py:277: UserWarning: n_neighbors (10) is greater than the total number of samples (7). n_neighbors will be set to (n_samples - 1) for estimation.\n",
      "  % (self.n_neighbors, n_samples))\n",
      "/home/charles/anaconda3/envs/torch/lib/python3.7/site-packages/sklearn/neighbors/_lof.py:277: UserWarning: n_neighbors (10) is greater than the total number of samples (7). n_neighbors will be set to (n_samples - 1) for estimation.\n",
      "  % (self.n_neighbors, n_samples))\n",
      "/home/charles/anaconda3/envs/torch/lib/python3.7/site-packages/sklearn/neighbors/_lof.py:277: UserWarning: n_neighbors (10) is greater than the total number of samples (7). n_neighbors will be set to (n_samples - 1) for estimation.\n",
      "  % (self.n_neighbors, n_samples))\n",
      "/home/charles/anaconda3/envs/torch/lib/python3.7/site-packages/sklearn/neighbors/_lof.py:277: UserWarning: n_neighbors (10) is greater than the total number of samples (7). n_neighbors will be set to (n_samples - 1) for estimation.\n",
      "  % (self.n_neighbors, n_samples))\n",
      "/home/charles/anaconda3/envs/torch/lib/python3.7/site-packages/sklearn/neighbors/_lof.py:277: UserWarning: n_neighbors (10) is greater than the total number of samples (7). n_neighbors will be set to (n_samples - 1) for estimation.\n",
      "  % (self.n_neighbors, n_samples))\n",
      "/home/charles/anaconda3/envs/torch/lib/python3.7/site-packages/sklearn/neighbors/_lof.py:277: UserWarning: n_neighbors (10) is greater than the total number of samples (7). n_neighbors will be set to (n_samples - 1) for estimation.\n",
      "  % (self.n_neighbors, n_samples))\n",
      "/home/charles/anaconda3/envs/torch/lib/python3.7/site-packages/sklearn/neighbors/_lof.py:277: UserWarning: n_neighbors (10) is greater than the total number of samples (7). n_neighbors will be set to (n_samples - 1) for estimation.\n",
      "  % (self.n_neighbors, n_samples))\n",
      "/home/charles/anaconda3/envs/torch/lib/python3.7/site-packages/sklearn/neighbors/_lof.py:277: UserWarning: n_neighbors (10) is greater than the total number of samples (7). n_neighbors will be set to (n_samples - 1) for estimation.\n",
      "  % (self.n_neighbors, n_samples))\n",
      "/home/charles/anaconda3/envs/torch/lib/python3.7/site-packages/sklearn/neighbors/_lof.py:277: UserWarning: n_neighbors (10) is greater than the total number of samples (7). n_neighbors will be set to (n_samples - 1) for estimation.\n",
      "  % (self.n_neighbors, n_samples))\n",
      "/home/charles/anaconda3/envs/torch/lib/python3.7/site-packages/sklearn/neighbors/_lof.py:277: UserWarning: n_neighbors (10) is greater than the total number of samples (7). n_neighbors will be set to (n_samples - 1) for estimation.\n",
      "  % (self.n_neighbors, n_samples))\n",
      "/home/charles/anaconda3/envs/torch/lib/python3.7/site-packages/sklearn/neighbors/_lof.py:277: UserWarning: n_neighbors (10) is greater than the total number of samples (7). n_neighbors will be set to (n_samples - 1) for estimation.\n",
      "  % (self.n_neighbors, n_samples))\n",
      "/home/charles/anaconda3/envs/torch/lib/python3.7/site-packages/sklearn/neighbors/_lof.py:277: UserWarning: n_neighbors (10) is greater than the total number of samples (7). n_neighbors will be set to (n_samples - 1) for estimation.\n",
      "  % (self.n_neighbors, n_samples))\n",
      "/home/charles/anaconda3/envs/torch/lib/python3.7/site-packages/sklearn/neighbors/_lof.py:277: UserWarning: n_neighbors (10) is greater than the total number of samples (7). n_neighbors will be set to (n_samples - 1) for estimation.\n",
      "  % (self.n_neighbors, n_samples))\n",
      "/home/charles/anaconda3/envs/torch/lib/python3.7/site-packages/sklearn/neighbors/_lof.py:277: UserWarning: n_neighbors (10) is greater than the total number of samples (7). n_neighbors will be set to (n_samples - 1) for estimation.\n",
      "  % (self.n_neighbors, n_samples))\n",
      "/home/charles/anaconda3/envs/torch/lib/python3.7/site-packages/sklearn/neighbors/_lof.py:277: UserWarning: n_neighbors (10) is greater than the total number of samples (7). n_neighbors will be set to (n_samples - 1) for estimation.\n",
      "  % (self.n_neighbors, n_samples))\n",
      "/home/charles/anaconda3/envs/torch/lib/python3.7/site-packages/sklearn/neighbors/_lof.py:277: UserWarning: n_neighbors (10) is greater than the total number of samples (7). n_neighbors will be set to (n_samples - 1) for estimation.\n",
      "  % (self.n_neighbors, n_samples))\n",
      "/home/charles/anaconda3/envs/torch/lib/python3.7/site-packages/sklearn/neighbors/_lof.py:277: UserWarning: n_neighbors (10) is greater than the total number of samples (7). n_neighbors will be set to (n_samples - 1) for estimation.\n",
      "  % (self.n_neighbors, n_samples))\n",
      "/home/charles/anaconda3/envs/torch/lib/python3.7/site-packages/sklearn/neighbors/_lof.py:277: UserWarning: n_neighbors (10) is greater than the total number of samples (7). n_neighbors will be set to (n_samples - 1) for estimation.\n",
      "  % (self.n_neighbors, n_samples))\n",
      "/home/charles/anaconda3/envs/torch/lib/python3.7/site-packages/sklearn/neighbors/_lof.py:277: UserWarning: n_neighbors (10) is greater than the total number of samples (7). n_neighbors will be set to (n_samples - 1) for estimation.\n",
      "  % (self.n_neighbors, n_samples))\n",
      "/home/charles/anaconda3/envs/torch/lib/python3.7/site-packages/sklearn/neighbors/_lof.py:277: UserWarning: n_neighbors (10) is greater than the total number of samples (7). n_neighbors will be set to (n_samples - 1) for estimation.\n",
      "  % (self.n_neighbors, n_samples))\n",
      "/home/charles/anaconda3/envs/torch/lib/python3.7/site-packages/sklearn/neighbors/_lof.py:277: UserWarning: n_neighbors (10) is greater than the total number of samples (7). n_neighbors will be set to (n_samples - 1) for estimation.\n",
      "  % (self.n_neighbors, n_samples))\n",
      "/home/charles/anaconda3/envs/torch/lib/python3.7/site-packages/sklearn/neighbors/_lof.py:277: UserWarning: n_neighbors (10) is greater than the total number of samples (7). n_neighbors will be set to (n_samples - 1) for estimation.\n",
      "  % (self.n_neighbors, n_samples))\n",
      "/home/charles/anaconda3/envs/torch/lib/python3.7/site-packages/sklearn/neighbors/_lof.py:277: UserWarning: n_neighbors (10) is greater than the total number of samples (7). n_neighbors will be set to (n_samples - 1) for estimation.\n",
      "  % (self.n_neighbors, n_samples))\n",
      "/home/charles/anaconda3/envs/torch/lib/python3.7/site-packages/sklearn/neighbors/_lof.py:277: UserWarning: n_neighbors (10) is greater than the total number of samples (7). n_neighbors will be set to (n_samples - 1) for estimation.\n",
      "  % (self.n_neighbors, n_samples))\n",
      "/home/charles/anaconda3/envs/torch/lib/python3.7/site-packages/sklearn/neighbors/_lof.py:277: UserWarning: n_neighbors (10) is greater than the total number of samples (7). n_neighbors will be set to (n_samples - 1) for estimation.\n",
      "  % (self.n_neighbors, n_samples))\n",
      "/home/charles/anaconda3/envs/torch/lib/python3.7/site-packages/sklearn/neighbors/_lof.py:277: UserWarning: n_neighbors (10) is greater than the total number of samples (7). n_neighbors will be set to (n_samples - 1) for estimation.\n",
      "  % (self.n_neighbors, n_samples))\n",
      "/home/charles/anaconda3/envs/torch/lib/python3.7/site-packages/sklearn/neighbors/_lof.py:277: UserWarning: n_neighbors (10) is greater than the total number of samples (7). n_neighbors will be set to (n_samples - 1) for estimation.\n",
      "  % (self.n_neighbors, n_samples))\n",
      "/home/charles/anaconda3/envs/torch/lib/python3.7/site-packages/sklearn/neighbors/_lof.py:277: UserWarning: n_neighbors (10) is greater than the total number of samples (7). n_neighbors will be set to (n_samples - 1) for estimation.\n",
      "  % (self.n_neighbors, n_samples))\n",
      "/home/charles/anaconda3/envs/torch/lib/python3.7/site-packages/sklearn/neighbors/_lof.py:277: UserWarning: n_neighbors (10) is greater than the total number of samples (7). n_neighbors will be set to (n_samples - 1) for estimation.\n",
      "  % (self.n_neighbors, n_samples))\n",
      "/home/charles/anaconda3/envs/torch/lib/python3.7/site-packages/sklearn/neighbors/_lof.py:277: UserWarning: n_neighbors (10) is greater than the total number of samples (7). n_neighbors will be set to (n_samples - 1) for estimation.\n",
      "  % (self.n_neighbors, n_samples))\n",
      "/home/charles/anaconda3/envs/torch/lib/python3.7/site-packages/sklearn/neighbors/_lof.py:277: UserWarning: n_neighbors (10) is greater than the total number of samples (7). n_neighbors will be set to (n_samples - 1) for estimation.\n",
      "  % (self.n_neighbors, n_samples))\n",
      "/home/charles/anaconda3/envs/torch/lib/python3.7/site-packages/sklearn/neighbors/_lof.py:277: UserWarning: n_neighbors (10) is greater than the total number of samples (7). n_neighbors will be set to (n_samples - 1) for estimation.\n",
      "  % (self.n_neighbors, n_samples))\n",
      "/home/charles/anaconda3/envs/torch/lib/python3.7/site-packages/sklearn/neighbors/_lof.py:277: UserWarning: n_neighbors (10) is greater than the total number of samples (7). n_neighbors will be set to (n_samples - 1) for estimation.\n",
      "  % (self.n_neighbors, n_samples))\n",
      "/home/charles/anaconda3/envs/torch/lib/python3.7/site-packages/sklearn/neighbors/_lof.py:277: UserWarning: n_neighbors (10) is greater than the total number of samples (7). n_neighbors will be set to (n_samples - 1) for estimation.\n",
      "  % (self.n_neighbors, n_samples))\n",
      "/home/charles/anaconda3/envs/torch/lib/python3.7/site-packages/sklearn/neighbors/_lof.py:277: UserWarning: n_neighbors (10) is greater than the total number of samples (7). n_neighbors will be set to (n_samples - 1) for estimation.\n",
      "  % (self.n_neighbors, n_samples))\n",
      "/home/charles/anaconda3/envs/torch/lib/python3.7/site-packages/sklearn/neighbors/_lof.py:277: UserWarning: n_neighbors (10) is greater than the total number of samples (7). n_neighbors will be set to (n_samples - 1) for estimation.\n",
      "  % (self.n_neighbors, n_samples))\n",
      "/home/charles/anaconda3/envs/torch/lib/python3.7/site-packages/sklearn/neighbors/_lof.py:277: UserWarning: n_neighbors (10) is greater than the total number of samples (7). n_neighbors will be set to (n_samples - 1) for estimation.\n",
      "  % (self.n_neighbors, n_samples))\n",
      "/home/charles/anaconda3/envs/torch/lib/python3.7/site-packages/sklearn/neighbors/_lof.py:277: UserWarning: n_neighbors (10) is greater than the total number of samples (7). n_neighbors will be set to (n_samples - 1) for estimation.\n",
      "  % (self.n_neighbors, n_samples))\n",
      "/home/charles/anaconda3/envs/torch/lib/python3.7/site-packages/sklearn/neighbors/_lof.py:277: UserWarning: n_neighbors (10) is greater than the total number of samples (7). n_neighbors will be set to (n_samples - 1) for estimation.\n",
      "  % (self.n_neighbors, n_samples))\n",
      "/home/charles/anaconda3/envs/torch/lib/python3.7/site-packages/sklearn/neighbors/_lof.py:277: UserWarning: n_neighbors (10) is greater than the total number of samples (7). n_neighbors will be set to (n_samples - 1) for estimation.\n",
      "  % (self.n_neighbors, n_samples))\n",
      "/home/charles/anaconda3/envs/torch/lib/python3.7/site-packages/sklearn/neighbors/_lof.py:277: UserWarning: n_neighbors (10) is greater than the total number of samples (7). n_neighbors will be set to (n_samples - 1) for estimation.\n",
      "  % (self.n_neighbors, n_samples))\n",
      "/home/charles/anaconda3/envs/torch/lib/python3.7/site-packages/sklearn/neighbors/_lof.py:277: UserWarning: n_neighbors (10) is greater than the total number of samples (7). n_neighbors will be set to (n_samples - 1) for estimation.\n",
      "  % (self.n_neighbors, n_samples))\n",
      "/home/charles/anaconda3/envs/torch/lib/python3.7/site-packages/sklearn/neighbors/_lof.py:277: UserWarning: n_neighbors (10) is greater than the total number of samples (7). n_neighbors will be set to (n_samples - 1) for estimation.\n",
      "  % (self.n_neighbors, n_samples))\n",
      "/home/charles/anaconda3/envs/torch/lib/python3.7/site-packages/sklearn/neighbors/_lof.py:277: UserWarning: n_neighbors (10) is greater than the total number of samples (7). n_neighbors will be set to (n_samples - 1) for estimation.\n",
      "  % (self.n_neighbors, n_samples))\n",
      "/home/charles/anaconda3/envs/torch/lib/python3.7/site-packages/sklearn/neighbors/_lof.py:277: UserWarning: n_neighbors (10) is greater than the total number of samples (7). n_neighbors will be set to (n_samples - 1) for estimation.\n",
      "  % (self.n_neighbors, n_samples))\n",
      "/home/charles/anaconda3/envs/torch/lib/python3.7/site-packages/sklearn/neighbors/_lof.py:277: UserWarning: n_neighbors (10) is greater than the total number of samples (7). n_neighbors will be set to (n_samples - 1) for estimation.\n",
      "  % (self.n_neighbors, n_samples))\n",
      "/home/charles/anaconda3/envs/torch/lib/python3.7/site-packages/sklearn/neighbors/_lof.py:277: UserWarning: n_neighbors (10) is greater than the total number of samples (7). n_neighbors will be set to (n_samples - 1) for estimation.\n",
      "  % (self.n_neighbors, n_samples))\n",
      "/home/charles/anaconda3/envs/torch/lib/python3.7/site-packages/sklearn/neighbors/_lof.py:277: UserWarning: n_neighbors (10) is greater than the total number of samples (7). n_neighbors will be set to (n_samples - 1) for estimation.\n",
      "  % (self.n_neighbors, n_samples))\n",
      "/home/charles/anaconda3/envs/torch/lib/python3.7/site-packages/sklearn/neighbors/_lof.py:277: UserWarning: n_neighbors (10) is greater than the total number of samples (7). n_neighbors will be set to (n_samples - 1) for estimation.\n",
      "  % (self.n_neighbors, n_samples))\n",
      "/home/charles/anaconda3/envs/torch/lib/python3.7/site-packages/sklearn/neighbors/_lof.py:277: UserWarning: n_neighbors (10) is greater than the total number of samples (7). n_neighbors will be set to (n_samples - 1) for estimation.\n",
      "  % (self.n_neighbors, n_samples))\n",
      "/home/charles/anaconda3/envs/torch/lib/python3.7/site-packages/sklearn/neighbors/_lof.py:277: UserWarning: n_neighbors (10) is greater than the total number of samples (7). n_neighbors will be set to (n_samples - 1) for estimation.\n",
      "  % (self.n_neighbors, n_samples))\n",
      "/home/charles/anaconda3/envs/torch/lib/python3.7/site-packages/sklearn/neighbors/_lof.py:277: UserWarning: n_neighbors (10) is greater than the total number of samples (7). n_neighbors will be set to (n_samples - 1) for estimation.\n",
      "  % (self.n_neighbors, n_samples))\n",
      "/home/charles/anaconda3/envs/torch/lib/python3.7/site-packages/sklearn/neighbors/_lof.py:277: UserWarning: n_neighbors (10) is greater than the total number of samples (7). n_neighbors will be set to (n_samples - 1) for estimation.\n",
      "  % (self.n_neighbors, n_samples))\n",
      "/home/charles/anaconda3/envs/torch/lib/python3.7/site-packages/sklearn/neighbors/_lof.py:277: UserWarning: n_neighbors (10) is greater than the total number of samples (7). n_neighbors will be set to (n_samples - 1) for estimation.\n",
      "  % (self.n_neighbors, n_samples))\n",
      "/home/charles/anaconda3/envs/torch/lib/python3.7/site-packages/sklearn/neighbors/_lof.py:277: UserWarning: n_neighbors (10) is greater than the total number of samples (7). n_neighbors will be set to (n_samples - 1) for estimation.\n",
      "  % (self.n_neighbors, n_samples))\n",
      "/home/charles/anaconda3/envs/torch/lib/python3.7/site-packages/sklearn/neighbors/_lof.py:277: UserWarning: n_neighbors (10) is greater than the total number of samples (7). n_neighbors will be set to (n_samples - 1) for estimation.\n",
      "  % (self.n_neighbors, n_samples))\n",
      "/home/charles/anaconda3/envs/torch/lib/python3.7/site-packages/sklearn/neighbors/_lof.py:277: UserWarning: n_neighbors (10) is greater than the total number of samples (7). n_neighbors will be set to (n_samples - 1) for estimation.\n",
      "  % (self.n_neighbors, n_samples))\n",
      "/home/charles/anaconda3/envs/torch/lib/python3.7/site-packages/sklearn/neighbors/_lof.py:277: UserWarning: n_neighbors (10) is greater than the total number of samples (7). n_neighbors will be set to (n_samples - 1) for estimation.\n",
      "  % (self.n_neighbors, n_samples))\n",
      "/home/charles/anaconda3/envs/torch/lib/python3.7/site-packages/sklearn/neighbors/_lof.py:277: UserWarning: n_neighbors (10) is greater than the total number of samples (7). n_neighbors will be set to (n_samples - 1) for estimation.\n",
      "  % (self.n_neighbors, n_samples))\n",
      "/home/charles/anaconda3/envs/torch/lib/python3.7/site-packages/sklearn/neighbors/_lof.py:277: UserWarning: n_neighbors (10) is greater than the total number of samples (7). n_neighbors will be set to (n_samples - 1) for estimation.\n",
      "  % (self.n_neighbors, n_samples))\n",
      "/home/charles/anaconda3/envs/torch/lib/python3.7/site-packages/sklearn/neighbors/_lof.py:277: UserWarning: n_neighbors (10) is greater than the total number of samples (7). n_neighbors will be set to (n_samples - 1) for estimation.\n",
      "  % (self.n_neighbors, n_samples))\n",
      "/home/charles/anaconda3/envs/torch/lib/python3.7/site-packages/sklearn/neighbors/_lof.py:277: UserWarning: n_neighbors (10) is greater than the total number of samples (7). n_neighbors will be set to (n_samples - 1) for estimation.\n",
      "  % (self.n_neighbors, n_samples))\n",
      "/home/charles/anaconda3/envs/torch/lib/python3.7/site-packages/sklearn/neighbors/_lof.py:277: UserWarning: n_neighbors (10) is greater than the total number of samples (7). n_neighbors will be set to (n_samples - 1) for estimation.\n",
      "  % (self.n_neighbors, n_samples))\n",
      "/home/charles/anaconda3/envs/torch/lib/python3.7/site-packages/sklearn/neighbors/_lof.py:277: UserWarning: n_neighbors (10) is greater than the total number of samples (7). n_neighbors will be set to (n_samples - 1) for estimation.\n",
      "  % (self.n_neighbors, n_samples))\n",
      "/home/charles/anaconda3/envs/torch/lib/python3.7/site-packages/sklearn/neighbors/_lof.py:277: UserWarning: n_neighbors (10) is greater than the total number of samples (7). n_neighbors will be set to (n_samples - 1) for estimation.\n",
      "  % (self.n_neighbors, n_samples))\n",
      "/home/charles/anaconda3/envs/torch/lib/python3.7/site-packages/sklearn/neighbors/_lof.py:277: UserWarning: n_neighbors (10) is greater than the total number of samples (7). n_neighbors will be set to (n_samples - 1) for estimation.\n",
      "  % (self.n_neighbors, n_samples))\n",
      "/home/charles/anaconda3/envs/torch/lib/python3.7/site-packages/sklearn/neighbors/_lof.py:277: UserWarning: n_neighbors (10) is greater than the total number of samples (7). n_neighbors will be set to (n_samples - 1) for estimation.\n",
      "  % (self.n_neighbors, n_samples))\n",
      "/home/charles/anaconda3/envs/torch/lib/python3.7/site-packages/sklearn/neighbors/_lof.py:277: UserWarning: n_neighbors (10) is greater than the total number of samples (7). n_neighbors will be set to (n_samples - 1) for estimation.\n",
      "  % (self.n_neighbors, n_samples))\n",
      "/home/charles/anaconda3/envs/torch/lib/python3.7/site-packages/sklearn/neighbors/_lof.py:277: UserWarning: n_neighbors (10) is greater than the total number of samples (7). n_neighbors will be set to (n_samples - 1) for estimation.\n",
      "  % (self.n_neighbors, n_samples))\n",
      "/home/charles/anaconda3/envs/torch/lib/python3.7/site-packages/sklearn/neighbors/_lof.py:277: UserWarning: n_neighbors (10) is greater than the total number of samples (7). n_neighbors will be set to (n_samples - 1) for estimation.\n",
      "  % (self.n_neighbors, n_samples))\n",
      "/home/charles/anaconda3/envs/torch/lib/python3.7/site-packages/sklearn/neighbors/_lof.py:277: UserWarning: n_neighbors (10) is greater than the total number of samples (7). n_neighbors will be set to (n_samples - 1) for estimation.\n",
      "  % (self.n_neighbors, n_samples))\n",
      "/home/charles/anaconda3/envs/torch/lib/python3.7/site-packages/sklearn/neighbors/_lof.py:277: UserWarning: n_neighbors (10) is greater than the total number of samples (7). n_neighbors will be set to (n_samples - 1) for estimation.\n",
      "  % (self.n_neighbors, n_samples))\n",
      "/home/charles/anaconda3/envs/torch/lib/python3.7/site-packages/sklearn/neighbors/_lof.py:277: UserWarning: n_neighbors (10) is greater than the total number of samples (7). n_neighbors will be set to (n_samples - 1) for estimation.\n",
      "  % (self.n_neighbors, n_samples))\n",
      "/home/charles/anaconda3/envs/torch/lib/python3.7/site-packages/sklearn/neighbors/_lof.py:277: UserWarning: n_neighbors (10) is greater than the total number of samples (7). n_neighbors will be set to (n_samples - 1) for estimation.\n",
      "  % (self.n_neighbors, n_samples))\n",
      "/home/charles/anaconda3/envs/torch/lib/python3.7/site-packages/sklearn/neighbors/_lof.py:277: UserWarning: n_neighbors (10) is greater than the total number of samples (7). n_neighbors will be set to (n_samples - 1) for estimation.\n",
      "  % (self.n_neighbors, n_samples))\n",
      "/home/charles/anaconda3/envs/torch/lib/python3.7/site-packages/sklearn/neighbors/_lof.py:277: UserWarning: n_neighbors (10) is greater than the total number of samples (7). n_neighbors will be set to (n_samples - 1) for estimation.\n",
      "  % (self.n_neighbors, n_samples))\n",
      "/home/charles/anaconda3/envs/torch/lib/python3.7/site-packages/sklearn/neighbors/_lof.py:277: UserWarning: n_neighbors (10) is greater than the total number of samples (7). n_neighbors will be set to (n_samples - 1) for estimation.\n",
      "  % (self.n_neighbors, n_samples))\n",
      "/home/charles/anaconda3/envs/torch/lib/python3.7/site-packages/sklearn/neighbors/_lof.py:277: UserWarning: n_neighbors (10) is greater than the total number of samples (7). n_neighbors will be set to (n_samples - 1) for estimation.\n",
      "  % (self.n_neighbors, n_samples))\n",
      "/home/charles/anaconda3/envs/torch/lib/python3.7/site-packages/sklearn/neighbors/_lof.py:277: UserWarning: n_neighbors (10) is greater than the total number of samples (7). n_neighbors will be set to (n_samples - 1) for estimation.\n",
      "  % (self.n_neighbors, n_samples))\n",
      "/home/charles/anaconda3/envs/torch/lib/python3.7/site-packages/sklearn/neighbors/_lof.py:277: UserWarning: n_neighbors (10) is greater than the total number of samples (7). n_neighbors will be set to (n_samples - 1) for estimation.\n",
      "  % (self.n_neighbors, n_samples))\n",
      "/home/charles/anaconda3/envs/torch/lib/python3.7/site-packages/sklearn/neighbors/_lof.py:277: UserWarning: n_neighbors (10) is greater than the total number of samples (7). n_neighbors will be set to (n_samples - 1) for estimation.\n",
      "  % (self.n_neighbors, n_samples))\n",
      "/home/charles/anaconda3/envs/torch/lib/python3.7/site-packages/sklearn/neighbors/_lof.py:277: UserWarning: n_neighbors (10) is greater than the total number of samples (7). n_neighbors will be set to (n_samples - 1) for estimation.\n",
      "  % (self.n_neighbors, n_samples))\n",
      "/home/charles/anaconda3/envs/torch/lib/python3.7/site-packages/sklearn/neighbors/_lof.py:277: UserWarning: n_neighbors (10) is greater than the total number of samples (7). n_neighbors will be set to (n_samples - 1) for estimation.\n",
      "  % (self.n_neighbors, n_samples))\n",
      "/home/charles/anaconda3/envs/torch/lib/python3.7/site-packages/sklearn/neighbors/_lof.py:277: UserWarning: n_neighbors (10) is greater than the total number of samples (7). n_neighbors will be set to (n_samples - 1) for estimation.\n",
      "  % (self.n_neighbors, n_samples))\n",
      "/home/charles/anaconda3/envs/torch/lib/python3.7/site-packages/sklearn/neighbors/_lof.py:277: UserWarning: n_neighbors (10) is greater than the total number of samples (7). n_neighbors will be set to (n_samples - 1) for estimation.\n",
      "  % (self.n_neighbors, n_samples))\n",
      "/home/charles/anaconda3/envs/torch/lib/python3.7/site-packages/sklearn/neighbors/_lof.py:277: UserWarning: n_neighbors (10) is greater than the total number of samples (7). n_neighbors will be set to (n_samples - 1) for estimation.\n",
      "  % (self.n_neighbors, n_samples))\n",
      "/home/charles/anaconda3/envs/torch/lib/python3.7/site-packages/sklearn/neighbors/_lof.py:277: UserWarning: n_neighbors (10) is greater than the total number of samples (7). n_neighbors will be set to (n_samples - 1) for estimation.\n",
      "  % (self.n_neighbors, n_samples))\n",
      "/home/charles/anaconda3/envs/torch/lib/python3.7/site-packages/sklearn/neighbors/_lof.py:277: UserWarning: n_neighbors (10) is greater than the total number of samples (7). n_neighbors will be set to (n_samples - 1) for estimation.\n",
      "  % (self.n_neighbors, n_samples))\n",
      "/home/charles/anaconda3/envs/torch/lib/python3.7/site-packages/sklearn/neighbors/_lof.py:277: UserWarning: n_neighbors (10) is greater than the total number of samples (7). n_neighbors will be set to (n_samples - 1) for estimation.\n",
      "  % (self.n_neighbors, n_samples))\n",
      "/home/charles/anaconda3/envs/torch/lib/python3.7/site-packages/sklearn/neighbors/_lof.py:277: UserWarning: n_neighbors (10) is greater than the total number of samples (7). n_neighbors will be set to (n_samples - 1) for estimation.\n",
      "  % (self.n_neighbors, n_samples))\n",
      "/home/charles/anaconda3/envs/torch/lib/python3.7/site-packages/sklearn/neighbors/_lof.py:277: UserWarning: n_neighbors (10) is greater than the total number of samples (7). n_neighbors will be set to (n_samples - 1) for estimation.\n",
      "  % (self.n_neighbors, n_samples))\n",
      "/home/charles/anaconda3/envs/torch/lib/python3.7/site-packages/sklearn/neighbors/_lof.py:277: UserWarning: n_neighbors (10) is greater than the total number of samples (7). n_neighbors will be set to (n_samples - 1) for estimation.\n",
      "  % (self.n_neighbors, n_samples))\n",
      "/home/charles/anaconda3/envs/torch/lib/python3.7/site-packages/sklearn/neighbors/_lof.py:277: UserWarning: n_neighbors (10) is greater than the total number of samples (7). n_neighbors will be set to (n_samples - 1) for estimation.\n",
      "  % (self.n_neighbors, n_samples))\n",
      "/home/charles/anaconda3/envs/torch/lib/python3.7/site-packages/sklearn/neighbors/_lof.py:277: UserWarning: n_neighbors (10) is greater than the total number of samples (7). n_neighbors will be set to (n_samples - 1) for estimation.\n",
      "  % (self.n_neighbors, n_samples))\n",
      "/home/charles/anaconda3/envs/torch/lib/python3.7/site-packages/sklearn/neighbors/_lof.py:277: UserWarning: n_neighbors (10) is greater than the total number of samples (7). n_neighbors will be set to (n_samples - 1) for estimation.\n",
      "  % (self.n_neighbors, n_samples))\n",
      "/home/charles/anaconda3/envs/torch/lib/python3.7/site-packages/sklearn/neighbors/_lof.py:277: UserWarning: n_neighbors (10) is greater than the total number of samples (7). n_neighbors will be set to (n_samples - 1) for estimation.\n",
      "  % (self.n_neighbors, n_samples))\n",
      "/home/charles/anaconda3/envs/torch/lib/python3.7/site-packages/sklearn/neighbors/_lof.py:277: UserWarning: n_neighbors (10) is greater than the total number of samples (7). n_neighbors will be set to (n_samples - 1) for estimation.\n",
      "  % (self.n_neighbors, n_samples))\n",
      "/home/charles/anaconda3/envs/torch/lib/python3.7/site-packages/sklearn/neighbors/_lof.py:277: UserWarning: n_neighbors (10) is greater than the total number of samples (7). n_neighbors will be set to (n_samples - 1) for estimation.\n",
      "  % (self.n_neighbors, n_samples))\n",
      "/home/charles/anaconda3/envs/torch/lib/python3.7/site-packages/sklearn/neighbors/_lof.py:277: UserWarning: n_neighbors (10) is greater than the total number of samples (7). n_neighbors will be set to (n_samples - 1) for estimation.\n",
      "  % (self.n_neighbors, n_samples))\n",
      "/home/charles/anaconda3/envs/torch/lib/python3.7/site-packages/sklearn/neighbors/_lof.py:277: UserWarning: n_neighbors (10) is greater than the total number of samples (7). n_neighbors will be set to (n_samples - 1) for estimation.\n",
      "  % (self.n_neighbors, n_samples))\n",
      "/home/charles/anaconda3/envs/torch/lib/python3.7/site-packages/sklearn/neighbors/_lof.py:277: UserWarning: n_neighbors (10) is greater than the total number of samples (7). n_neighbors will be set to (n_samples - 1) for estimation.\n",
      "  % (self.n_neighbors, n_samples))\n",
      "/home/charles/anaconda3/envs/torch/lib/python3.7/site-packages/sklearn/neighbors/_lof.py:277: UserWarning: n_neighbors (10) is greater than the total number of samples (7). n_neighbors will be set to (n_samples - 1) for estimation.\n",
      "  % (self.n_neighbors, n_samples))\n",
      "/home/charles/anaconda3/envs/torch/lib/python3.7/site-packages/sklearn/neighbors/_lof.py:277: UserWarning: n_neighbors (10) is greater than the total number of samples (7). n_neighbors will be set to (n_samples - 1) for estimation.\n",
      "  % (self.n_neighbors, n_samples))\n",
      "/home/charles/anaconda3/envs/torch/lib/python3.7/site-packages/sklearn/neighbors/_lof.py:277: UserWarning: n_neighbors (10) is greater than the total number of samples (7). n_neighbors will be set to (n_samples - 1) for estimation.\n",
      "  % (self.n_neighbors, n_samples))\n",
      "/home/charles/anaconda3/envs/torch/lib/python3.7/site-packages/sklearn/neighbors/_lof.py:277: UserWarning: n_neighbors (10) is greater than the total number of samples (7). n_neighbors will be set to (n_samples - 1) for estimation.\n",
      "  % (self.n_neighbors, n_samples))\n",
      "/home/charles/anaconda3/envs/torch/lib/python3.7/site-packages/sklearn/neighbors/_lof.py:277: UserWarning: n_neighbors (10) is greater than the total number of samples (7). n_neighbors will be set to (n_samples - 1) for estimation.\n",
      "  % (self.n_neighbors, n_samples))\n",
      "/home/charles/anaconda3/envs/torch/lib/python3.7/site-packages/sklearn/neighbors/_lof.py:277: UserWarning: n_neighbors (10) is greater than the total number of samples (7). n_neighbors will be set to (n_samples - 1) for estimation.\n",
      "  % (self.n_neighbors, n_samples))\n",
      "/home/charles/anaconda3/envs/torch/lib/python3.7/site-packages/sklearn/neighbors/_lof.py:277: UserWarning: n_neighbors (10) is greater than the total number of samples (7). n_neighbors will be set to (n_samples - 1) for estimation.\n",
      "  % (self.n_neighbors, n_samples))\n",
      "/home/charles/anaconda3/envs/torch/lib/python3.7/site-packages/sklearn/neighbors/_lof.py:277: UserWarning: n_neighbors (10) is greater than the total number of samples (7). n_neighbors will be set to (n_samples - 1) for estimation.\n",
      "  % (self.n_neighbors, n_samples))\n",
      "/home/charles/anaconda3/envs/torch/lib/python3.7/site-packages/sklearn/neighbors/_lof.py:277: UserWarning: n_neighbors (10) is greater than the total number of samples (7). n_neighbors will be set to (n_samples - 1) for estimation.\n",
      "  % (self.n_neighbors, n_samples))\n",
      "/home/charles/anaconda3/envs/torch/lib/python3.7/site-packages/sklearn/neighbors/_lof.py:277: UserWarning: n_neighbors (10) is greater than the total number of samples (7). n_neighbors will be set to (n_samples - 1) for estimation.\n",
      "  % (self.n_neighbors, n_samples))\n",
      "/home/charles/anaconda3/envs/torch/lib/python3.7/site-packages/sklearn/neighbors/_lof.py:277: UserWarning: n_neighbors (10) is greater than the total number of samples (7). n_neighbors will be set to (n_samples - 1) for estimation.\n",
      "  % (self.n_neighbors, n_samples))\n",
      "/home/charles/anaconda3/envs/torch/lib/python3.7/site-packages/sklearn/neighbors/_lof.py:277: UserWarning: n_neighbors (10) is greater than the total number of samples (7). n_neighbors will be set to (n_samples - 1) for estimation.\n",
      "  % (self.n_neighbors, n_samples))\n",
      "/home/charles/anaconda3/envs/torch/lib/python3.7/site-packages/sklearn/neighbors/_lof.py:277: UserWarning: n_neighbors (10) is greater than the total number of samples (7). n_neighbors will be set to (n_samples - 1) for estimation.\n",
      "  % (self.n_neighbors, n_samples))\n",
      "/home/charles/anaconda3/envs/torch/lib/python3.7/site-packages/sklearn/neighbors/_lof.py:277: UserWarning: n_neighbors (10) is greater than the total number of samples (7). n_neighbors will be set to (n_samples - 1) for estimation.\n",
      "  % (self.n_neighbors, n_samples))\n",
      "/home/charles/anaconda3/envs/torch/lib/python3.7/site-packages/sklearn/neighbors/_lof.py:277: UserWarning: n_neighbors (10) is greater than the total number of samples (7). n_neighbors will be set to (n_samples - 1) for estimation.\n",
      "  % (self.n_neighbors, n_samples))\n",
      "/home/charles/anaconda3/envs/torch/lib/python3.7/site-packages/sklearn/neighbors/_lof.py:277: UserWarning: n_neighbors (10) is greater than the total number of samples (7). n_neighbors will be set to (n_samples - 1) for estimation.\n",
      "  % (self.n_neighbors, n_samples))\n",
      "/home/charles/anaconda3/envs/torch/lib/python3.7/site-packages/sklearn/neighbors/_lof.py:277: UserWarning: n_neighbors (10) is greater than the total number of samples (7). n_neighbors will be set to (n_samples - 1) for estimation.\n",
      "  % (self.n_neighbors, n_samples))\n",
      "/home/charles/anaconda3/envs/torch/lib/python3.7/site-packages/sklearn/neighbors/_lof.py:277: UserWarning: n_neighbors (10) is greater than the total number of samples (7). n_neighbors will be set to (n_samples - 1) for estimation.\n",
      "  % (self.n_neighbors, n_samples))\n",
      "/home/charles/anaconda3/envs/torch/lib/python3.7/site-packages/sklearn/neighbors/_lof.py:277: UserWarning: n_neighbors (10) is greater than the total number of samples (7). n_neighbors will be set to (n_samples - 1) for estimation.\n",
      "  % (self.n_neighbors, n_samples))\n",
      "/home/charles/anaconda3/envs/torch/lib/python3.7/site-packages/sklearn/neighbors/_lof.py:277: UserWarning: n_neighbors (10) is greater than the total number of samples (7). n_neighbors will be set to (n_samples - 1) for estimation.\n",
      "  % (self.n_neighbors, n_samples))\n",
      "/home/charles/anaconda3/envs/torch/lib/python3.7/site-packages/sklearn/neighbors/_lof.py:277: UserWarning: n_neighbors (10) is greater than the total number of samples (7). n_neighbors will be set to (n_samples - 1) for estimation.\n",
      "  % (self.n_neighbors, n_samples))\n",
      "/home/charles/anaconda3/envs/torch/lib/python3.7/site-packages/sklearn/neighbors/_lof.py:277: UserWarning: n_neighbors (10) is greater than the total number of samples (7). n_neighbors will be set to (n_samples - 1) for estimation.\n",
      "  % (self.n_neighbors, n_samples))\n",
      "/home/charles/anaconda3/envs/torch/lib/python3.7/site-packages/sklearn/neighbors/_lof.py:277: UserWarning: n_neighbors (10) is greater than the total number of samples (7). n_neighbors will be set to (n_samples - 1) for estimation.\n",
      "  % (self.n_neighbors, n_samples))\n",
      "/home/charles/anaconda3/envs/torch/lib/python3.7/site-packages/sklearn/neighbors/_lof.py:277: UserWarning: n_neighbors (10) is greater than the total number of samples (7). n_neighbors will be set to (n_samples - 1) for estimation.\n",
      "  % (self.n_neighbors, n_samples))\n",
      "/home/charles/anaconda3/envs/torch/lib/python3.7/site-packages/sklearn/neighbors/_lof.py:277: UserWarning: n_neighbors (10) is greater than the total number of samples (7). n_neighbors will be set to (n_samples - 1) for estimation.\n",
      "  % (self.n_neighbors, n_samples))\n",
      "/home/charles/anaconda3/envs/torch/lib/python3.7/site-packages/sklearn/neighbors/_lof.py:277: UserWarning: n_neighbors (10) is greater than the total number of samples (7). n_neighbors will be set to (n_samples - 1) for estimation.\n",
      "  % (self.n_neighbors, n_samples))\n",
      "/home/charles/anaconda3/envs/torch/lib/python3.7/site-packages/sklearn/neighbors/_lof.py:277: UserWarning: n_neighbors (10) is greater than the total number of samples (7). n_neighbors will be set to (n_samples - 1) for estimation.\n",
      "  % (self.n_neighbors, n_samples))\n",
      "/home/charles/anaconda3/envs/torch/lib/python3.7/site-packages/sklearn/neighbors/_lof.py:277: UserWarning: n_neighbors (10) is greater than the total number of samples (7). n_neighbors will be set to (n_samples - 1) for estimation.\n",
      "  % (self.n_neighbors, n_samples))\n",
      "/home/charles/anaconda3/envs/torch/lib/python3.7/site-packages/sklearn/neighbors/_lof.py:277: UserWarning: n_neighbors (10) is greater than the total number of samples (7). n_neighbors will be set to (n_samples - 1) for estimation.\n",
      "  % (self.n_neighbors, n_samples))\n",
      "/home/charles/anaconda3/envs/torch/lib/python3.7/site-packages/sklearn/neighbors/_lof.py:277: UserWarning: n_neighbors (10) is greater than the total number of samples (7). n_neighbors will be set to (n_samples - 1) for estimation.\n",
      "  % (self.n_neighbors, n_samples))\n",
      "/home/charles/anaconda3/envs/torch/lib/python3.7/site-packages/sklearn/neighbors/_lof.py:277: UserWarning: n_neighbors (10) is greater than the total number of samples (7). n_neighbors will be set to (n_samples - 1) for estimation.\n",
      "  % (self.n_neighbors, n_samples))\n",
      "/home/charles/anaconda3/envs/torch/lib/python3.7/site-packages/sklearn/neighbors/_lof.py:277: UserWarning: n_neighbors (10) is greater than the total number of samples (7). n_neighbors will be set to (n_samples - 1) for estimation.\n",
      "  % (self.n_neighbors, n_samples))\n",
      "/home/charles/anaconda3/envs/torch/lib/python3.7/site-packages/sklearn/neighbors/_lof.py:277: UserWarning: n_neighbors (10) is greater than the total number of samples (7). n_neighbors will be set to (n_samples - 1) for estimation.\n",
      "  % (self.n_neighbors, n_samples))\n",
      "/home/charles/anaconda3/envs/torch/lib/python3.7/site-packages/sklearn/neighbors/_lof.py:277: UserWarning: n_neighbors (10) is greater than the total number of samples (7). n_neighbors will be set to (n_samples - 1) for estimation.\n",
      "  % (self.n_neighbors, n_samples))\n",
      "/home/charles/anaconda3/envs/torch/lib/python3.7/site-packages/sklearn/neighbors/_lof.py:277: UserWarning: n_neighbors (10) is greater than the total number of samples (7). n_neighbors will be set to (n_samples - 1) for estimation.\n",
      "  % (self.n_neighbors, n_samples))\n",
      "/home/charles/anaconda3/envs/torch/lib/python3.7/site-packages/sklearn/neighbors/_lof.py:277: UserWarning: n_neighbors (10) is greater than the total number of samples (7). n_neighbors will be set to (n_samples - 1) for estimation.\n",
      "  % (self.n_neighbors, n_samples))\n",
      "/home/charles/anaconda3/envs/torch/lib/python3.7/site-packages/sklearn/neighbors/_lof.py:277: UserWarning: n_neighbors (10) is greater than the total number of samples (7). n_neighbors will be set to (n_samples - 1) for estimation.\n",
      "  % (self.n_neighbors, n_samples))\n",
      "/home/charles/anaconda3/envs/torch/lib/python3.7/site-packages/sklearn/neighbors/_lof.py:277: UserWarning: n_neighbors (10) is greater than the total number of samples (7). n_neighbors will be set to (n_samples - 1) for estimation.\n",
      "  % (self.n_neighbors, n_samples))\n",
      "/home/charles/anaconda3/envs/torch/lib/python3.7/site-packages/sklearn/neighbors/_lof.py:277: UserWarning: n_neighbors (10) is greater than the total number of samples (7). n_neighbors will be set to (n_samples - 1) for estimation.\n",
      "  % (self.n_neighbors, n_samples))\n",
      "/home/charles/anaconda3/envs/torch/lib/python3.7/site-packages/sklearn/neighbors/_lof.py:277: UserWarning: n_neighbors (10) is greater than the total number of samples (7). n_neighbors will be set to (n_samples - 1) for estimation.\n",
      "  % (self.n_neighbors, n_samples))\n",
      "/home/charles/anaconda3/envs/torch/lib/python3.7/site-packages/sklearn/neighbors/_lof.py:277: UserWarning: n_neighbors (10) is greater than the total number of samples (7). n_neighbors will be set to (n_samples - 1) for estimation.\n",
      "  % (self.n_neighbors, n_samples))\n",
      "/home/charles/anaconda3/envs/torch/lib/python3.7/site-packages/sklearn/neighbors/_lof.py:277: UserWarning: n_neighbors (10) is greater than the total number of samples (7). n_neighbors will be set to (n_samples - 1) for estimation.\n",
      "  % (self.n_neighbors, n_samples))\n",
      "/home/charles/anaconda3/envs/torch/lib/python3.7/site-packages/sklearn/neighbors/_lof.py:277: UserWarning: n_neighbors (10) is greater than the total number of samples (7). n_neighbors will be set to (n_samples - 1) for estimation.\n",
      "  % (self.n_neighbors, n_samples))\n",
      "/home/charles/anaconda3/envs/torch/lib/python3.7/site-packages/sklearn/neighbors/_lof.py:277: UserWarning: n_neighbors (10) is greater than the total number of samples (7). n_neighbors will be set to (n_samples - 1) for estimation.\n",
      "  % (self.n_neighbors, n_samples))\n",
      "/home/charles/anaconda3/envs/torch/lib/python3.7/site-packages/sklearn/neighbors/_lof.py:277: UserWarning: n_neighbors (10) is greater than the total number of samples (7). n_neighbors will be set to (n_samples - 1) for estimation.\n",
      "  % (self.n_neighbors, n_samples))\n",
      "/home/charles/anaconda3/envs/torch/lib/python3.7/site-packages/sklearn/neighbors/_lof.py:277: UserWarning: n_neighbors (10) is greater than the total number of samples (7). n_neighbors will be set to (n_samples - 1) for estimation.\n",
      "  % (self.n_neighbors, n_samples))\n",
      "/home/charles/anaconda3/envs/torch/lib/python3.7/site-packages/sklearn/neighbors/_lof.py:277: UserWarning: n_neighbors (10) is greater than the total number of samples (7). n_neighbors will be set to (n_samples - 1) for estimation.\n",
      "  % (self.n_neighbors, n_samples))\n",
      "/home/charles/anaconda3/envs/torch/lib/python3.7/site-packages/sklearn/neighbors/_lof.py:277: UserWarning: n_neighbors (10) is greater than the total number of samples (7). n_neighbors will be set to (n_samples - 1) for estimation.\n",
      "  % (self.n_neighbors, n_samples))\n",
      "/home/charles/anaconda3/envs/torch/lib/python3.7/site-packages/sklearn/neighbors/_lof.py:277: UserWarning: n_neighbors (10) is greater than the total number of samples (7). n_neighbors will be set to (n_samples - 1) for estimation.\n",
      "  % (self.n_neighbors, n_samples))\n",
      "/home/charles/anaconda3/envs/torch/lib/python3.7/site-packages/sklearn/neighbors/_lof.py:277: UserWarning: n_neighbors (10) is greater than the total number of samples (7). n_neighbors will be set to (n_samples - 1) for estimation.\n",
      "  % (self.n_neighbors, n_samples))\n",
      "/home/charles/anaconda3/envs/torch/lib/python3.7/site-packages/sklearn/neighbors/_lof.py:277: UserWarning: n_neighbors (10) is greater than the total number of samples (7). n_neighbors will be set to (n_samples - 1) for estimation.\n",
      "  % (self.n_neighbors, n_samples))\n",
      "/home/charles/anaconda3/envs/torch/lib/python3.7/site-packages/sklearn/neighbors/_lof.py:277: UserWarning: n_neighbors (10) is greater than the total number of samples (7). n_neighbors will be set to (n_samples - 1) for estimation.\n",
      "  % (self.n_neighbors, n_samples))\n",
      "/home/charles/anaconda3/envs/torch/lib/python3.7/site-packages/sklearn/neighbors/_lof.py:277: UserWarning: n_neighbors (10) is greater than the total number of samples (7). n_neighbors will be set to (n_samples - 1) for estimation.\n",
      "  % (self.n_neighbors, n_samples))\n",
      "/home/charles/anaconda3/envs/torch/lib/python3.7/site-packages/sklearn/neighbors/_lof.py:277: UserWarning: n_neighbors (10) is greater than the total number of samples (7). n_neighbors will be set to (n_samples - 1) for estimation.\n",
      "  % (self.n_neighbors, n_samples))\n",
      "/home/charles/anaconda3/envs/torch/lib/python3.7/site-packages/sklearn/neighbors/_lof.py:277: UserWarning: n_neighbors (10) is greater than the total number of samples (7). n_neighbors will be set to (n_samples - 1) for estimation.\n",
      "  % (self.n_neighbors, n_samples))\n",
      "/home/charles/anaconda3/envs/torch/lib/python3.7/site-packages/sklearn/neighbors/_lof.py:277: UserWarning: n_neighbors (10) is greater than the total number of samples (7). n_neighbors will be set to (n_samples - 1) for estimation.\n",
      "  % (self.n_neighbors, n_samples))\n",
      "/home/charles/anaconda3/envs/torch/lib/python3.7/site-packages/sklearn/neighbors/_lof.py:277: UserWarning: n_neighbors (10) is greater than the total number of samples (7). n_neighbors will be set to (n_samples - 1) for estimation.\n",
      "  % (self.n_neighbors, n_samples))\n",
      "/home/charles/anaconda3/envs/torch/lib/python3.7/site-packages/sklearn/neighbors/_lof.py:277: UserWarning: n_neighbors (10) is greater than the total number of samples (7). n_neighbors will be set to (n_samples - 1) for estimation.\n",
      "  % (self.n_neighbors, n_samples))\n",
      "/home/charles/anaconda3/envs/torch/lib/python3.7/site-packages/sklearn/neighbors/_lof.py:277: UserWarning: n_neighbors (10) is greater than the total number of samples (7). n_neighbors will be set to (n_samples - 1) for estimation.\n",
      "  % (self.n_neighbors, n_samples))\n",
      "/home/charles/anaconda3/envs/torch/lib/python3.7/site-packages/sklearn/neighbors/_lof.py:277: UserWarning: n_neighbors (10) is greater than the total number of samples (7). n_neighbors will be set to (n_samples - 1) for estimation.\n",
      "  % (self.n_neighbors, n_samples))\n",
      "/home/charles/anaconda3/envs/torch/lib/python3.7/site-packages/sklearn/neighbors/_lof.py:277: UserWarning: n_neighbors (10) is greater than the total number of samples (7). n_neighbors will be set to (n_samples - 1) for estimation.\n",
      "  % (self.n_neighbors, n_samples))\n",
      "/home/charles/anaconda3/envs/torch/lib/python3.7/site-packages/sklearn/neighbors/_lof.py:277: UserWarning: n_neighbors (10) is greater than the total number of samples (7). n_neighbors will be set to (n_samples - 1) for estimation.\n",
      "  % (self.n_neighbors, n_samples))\n",
      "/home/charles/anaconda3/envs/torch/lib/python3.7/site-packages/sklearn/neighbors/_lof.py:277: UserWarning: n_neighbors (10) is greater than the total number of samples (7). n_neighbors will be set to (n_samples - 1) for estimation.\n",
      "  % (self.n_neighbors, n_samples))\n",
      "/home/charles/anaconda3/envs/torch/lib/python3.7/site-packages/sklearn/neighbors/_lof.py:277: UserWarning: n_neighbors (10) is greater than the total number of samples (7). n_neighbors will be set to (n_samples - 1) for estimation.\n",
      "  % (self.n_neighbors, n_samples))\n",
      "/home/charles/anaconda3/envs/torch/lib/python3.7/site-packages/sklearn/neighbors/_lof.py:277: UserWarning: n_neighbors (10) is greater than the total number of samples (7). n_neighbors will be set to (n_samples - 1) for estimation.\n",
      "  % (self.n_neighbors, n_samples))\n",
      "/home/charles/anaconda3/envs/torch/lib/python3.7/site-packages/sklearn/neighbors/_lof.py:277: UserWarning: n_neighbors (10) is greater than the total number of samples (7). n_neighbors will be set to (n_samples - 1) for estimation.\n",
      "  % (self.n_neighbors, n_samples))\n",
      "/home/charles/anaconda3/envs/torch/lib/python3.7/site-packages/sklearn/neighbors/_lof.py:277: UserWarning: n_neighbors (10) is greater than the total number of samples (7). n_neighbors will be set to (n_samples - 1) for estimation.\n",
      "  % (self.n_neighbors, n_samples))\n",
      "/home/charles/anaconda3/envs/torch/lib/python3.7/site-packages/sklearn/neighbors/_lof.py:277: UserWarning: n_neighbors (10) is greater than the total number of samples (7). n_neighbors will be set to (n_samples - 1) for estimation.\n",
      "  % (self.n_neighbors, n_samples))\n",
      "/home/charles/anaconda3/envs/torch/lib/python3.7/site-packages/sklearn/neighbors/_lof.py:277: UserWarning: n_neighbors (10) is greater than the total number of samples (7). n_neighbors will be set to (n_samples - 1) for estimation.\n",
      "  % (self.n_neighbors, n_samples))\n",
      "/home/charles/anaconda3/envs/torch/lib/python3.7/site-packages/sklearn/neighbors/_lof.py:277: UserWarning: n_neighbors (10) is greater than the total number of samples (7). n_neighbors will be set to (n_samples - 1) for estimation.\n",
      "  % (self.n_neighbors, n_samples))\n",
      "/home/charles/anaconda3/envs/torch/lib/python3.7/site-packages/sklearn/neighbors/_lof.py:277: UserWarning: n_neighbors (10) is greater than the total number of samples (7). n_neighbors will be set to (n_samples - 1) for estimation.\n",
      "  % (self.n_neighbors, n_samples))\n",
      "/home/charles/anaconda3/envs/torch/lib/python3.7/site-packages/sklearn/neighbors/_lof.py:277: UserWarning: n_neighbors (10) is greater than the total number of samples (7). n_neighbors will be set to (n_samples - 1) for estimation.\n",
      "  % (self.n_neighbors, n_samples))\n",
      "/home/charles/anaconda3/envs/torch/lib/python3.7/site-packages/sklearn/neighbors/_lof.py:277: UserWarning: n_neighbors (10) is greater than the total number of samples (7). n_neighbors will be set to (n_samples - 1) for estimation.\n",
      "  % (self.n_neighbors, n_samples))\n",
      "/home/charles/anaconda3/envs/torch/lib/python3.7/site-packages/sklearn/neighbors/_lof.py:277: UserWarning: n_neighbors (10) is greater than the total number of samples (7). n_neighbors will be set to (n_samples - 1) for estimation.\n",
      "  % (self.n_neighbors, n_samples))\n",
      "/home/charles/anaconda3/envs/torch/lib/python3.7/site-packages/sklearn/neighbors/_lof.py:277: UserWarning: n_neighbors (10) is greater than the total number of samples (7). n_neighbors will be set to (n_samples - 1) for estimation.\n",
      "  % (self.n_neighbors, n_samples))\n",
      "/home/charles/anaconda3/envs/torch/lib/python3.7/site-packages/sklearn/neighbors/_lof.py:277: UserWarning: n_neighbors (10) is greater than the total number of samples (7). n_neighbors will be set to (n_samples - 1) for estimation.\n",
      "  % (self.n_neighbors, n_samples))\n",
      "/home/charles/anaconda3/envs/torch/lib/python3.7/site-packages/sklearn/neighbors/_lof.py:277: UserWarning: n_neighbors (10) is greater than the total number of samples (7). n_neighbors will be set to (n_samples - 1) for estimation.\n",
      "  % (self.n_neighbors, n_samples))\n",
      "/home/charles/anaconda3/envs/torch/lib/python3.7/site-packages/sklearn/neighbors/_lof.py:277: UserWarning: n_neighbors (10) is greater than the total number of samples (7). n_neighbors will be set to (n_samples - 1) for estimation.\n",
      "  % (self.n_neighbors, n_samples))\n",
      "/home/charles/anaconda3/envs/torch/lib/python3.7/site-packages/sklearn/neighbors/_lof.py:277: UserWarning: n_neighbors (10) is greater than the total number of samples (7). n_neighbors will be set to (n_samples - 1) for estimation.\n",
      "  % (self.n_neighbors, n_samples))\n",
      "/home/charles/anaconda3/envs/torch/lib/python3.7/site-packages/sklearn/neighbors/_lof.py:277: UserWarning: n_neighbors (10) is greater than the total number of samples (7). n_neighbors will be set to (n_samples - 1) for estimation.\n",
      "  % (self.n_neighbors, n_samples))\n",
      "/home/charles/anaconda3/envs/torch/lib/python3.7/site-packages/sklearn/neighbors/_lof.py:277: UserWarning: n_neighbors (10) is greater than the total number of samples (7). n_neighbors will be set to (n_samples - 1) for estimation.\n",
      "  % (self.n_neighbors, n_samples))\n",
      "/home/charles/anaconda3/envs/torch/lib/python3.7/site-packages/sklearn/neighbors/_lof.py:277: UserWarning: n_neighbors (10) is greater than the total number of samples (7). n_neighbors will be set to (n_samples - 1) for estimation.\n",
      "  % (self.n_neighbors, n_samples))\n",
      "/home/charles/anaconda3/envs/torch/lib/python3.7/site-packages/sklearn/neighbors/_lof.py:277: UserWarning: n_neighbors (10) is greater than the total number of samples (7). n_neighbors will be set to (n_samples - 1) for estimation.\n",
      "  % (self.n_neighbors, n_samples))\n",
      "/home/charles/anaconda3/envs/torch/lib/python3.7/site-packages/sklearn/neighbors/_lof.py:277: UserWarning: n_neighbors (10) is greater than the total number of samples (7). n_neighbors will be set to (n_samples - 1) for estimation.\n",
      "  % (self.n_neighbors, n_samples))\n",
      "/home/charles/anaconda3/envs/torch/lib/python3.7/site-packages/sklearn/neighbors/_lof.py:277: UserWarning: n_neighbors (10) is greater than the total number of samples (7). n_neighbors will be set to (n_samples - 1) for estimation.\n",
      "  % (self.n_neighbors, n_samples))\n",
      "/home/charles/anaconda3/envs/torch/lib/python3.7/site-packages/sklearn/neighbors/_lof.py:277: UserWarning: n_neighbors (10) is greater than the total number of samples (7). n_neighbors will be set to (n_samples - 1) for estimation.\n",
      "  % (self.n_neighbors, n_samples))\n",
      "/home/charles/anaconda3/envs/torch/lib/python3.7/site-packages/sklearn/neighbors/_lof.py:277: UserWarning: n_neighbors (10) is greater than the total number of samples (7). n_neighbors will be set to (n_samples - 1) for estimation.\n",
      "  % (self.n_neighbors, n_samples))\n",
      "/home/charles/anaconda3/envs/torch/lib/python3.7/site-packages/sklearn/neighbors/_lof.py:277: UserWarning: n_neighbors (10) is greater than the total number of samples (7). n_neighbors will be set to (n_samples - 1) for estimation.\n",
      "  % (self.n_neighbors, n_samples))\n",
      "/home/charles/anaconda3/envs/torch/lib/python3.7/site-packages/sklearn/neighbors/_lof.py:277: UserWarning: n_neighbors (10) is greater than the total number of samples (7). n_neighbors will be set to (n_samples - 1) for estimation.\n",
      "  % (self.n_neighbors, n_samples))\n",
      "/home/charles/anaconda3/envs/torch/lib/python3.7/site-packages/sklearn/neighbors/_lof.py:277: UserWarning: n_neighbors (10) is greater than the total number of samples (7). n_neighbors will be set to (n_samples - 1) for estimation.\n",
      "  % (self.n_neighbors, n_samples))\n",
      "/home/charles/anaconda3/envs/torch/lib/python3.7/site-packages/sklearn/neighbors/_lof.py:277: UserWarning: n_neighbors (10) is greater than the total number of samples (7). n_neighbors will be set to (n_samples - 1) for estimation.\n",
      "  % (self.n_neighbors, n_samples))\n",
      "/home/charles/anaconda3/envs/torch/lib/python3.7/site-packages/sklearn/neighbors/_lof.py:277: UserWarning: n_neighbors (10) is greater than the total number of samples (7). n_neighbors will be set to (n_samples - 1) for estimation.\n",
      "  % (self.n_neighbors, n_samples))\n",
      "/home/charles/anaconda3/envs/torch/lib/python3.7/site-packages/sklearn/neighbors/_lof.py:277: UserWarning: n_neighbors (10) is greater than the total number of samples (7). n_neighbors will be set to (n_samples - 1) for estimation.\n",
      "  % (self.n_neighbors, n_samples))\n",
      "/home/charles/anaconda3/envs/torch/lib/python3.7/site-packages/sklearn/neighbors/_lof.py:277: UserWarning: n_neighbors (10) is greater than the total number of samples (7). n_neighbors will be set to (n_samples - 1) for estimation.\n",
      "  % (self.n_neighbors, n_samples))\n",
      "/home/charles/anaconda3/envs/torch/lib/python3.7/site-packages/sklearn/neighbors/_lof.py:277: UserWarning: n_neighbors (10) is greater than the total number of samples (7). n_neighbors will be set to (n_samples - 1) for estimation.\n",
      "  % (self.n_neighbors, n_samples))\n",
      "/home/charles/anaconda3/envs/torch/lib/python3.7/site-packages/sklearn/neighbors/_lof.py:277: UserWarning: n_neighbors (10) is greater than the total number of samples (7). n_neighbors will be set to (n_samples - 1) for estimation.\n",
      "  % (self.n_neighbors, n_samples))\n",
      "/home/charles/anaconda3/envs/torch/lib/python3.7/site-packages/sklearn/neighbors/_lof.py:277: UserWarning: n_neighbors (10) is greater than the total number of samples (7). n_neighbors will be set to (n_samples - 1) for estimation.\n",
      "  % (self.n_neighbors, n_samples))\n",
      "/home/charles/anaconda3/envs/torch/lib/python3.7/site-packages/sklearn/neighbors/_lof.py:277: UserWarning: n_neighbors (10) is greater than the total number of samples (7). n_neighbors will be set to (n_samples - 1) for estimation.\n",
      "  % (self.n_neighbors, n_samples))\n",
      "/home/charles/anaconda3/envs/torch/lib/python3.7/site-packages/sklearn/neighbors/_lof.py:277: UserWarning: n_neighbors (10) is greater than the total number of samples (7). n_neighbors will be set to (n_samples - 1) for estimation.\n",
      "  % (self.n_neighbors, n_samples))\n",
      "/home/charles/anaconda3/envs/torch/lib/python3.7/site-packages/sklearn/neighbors/_lof.py:277: UserWarning: n_neighbors (10) is greater than the total number of samples (7). n_neighbors will be set to (n_samples - 1) for estimation.\n",
      "  % (self.n_neighbors, n_samples))\n",
      "/home/charles/anaconda3/envs/torch/lib/python3.7/site-packages/sklearn/neighbors/_lof.py:277: UserWarning: n_neighbors (10) is greater than the total number of samples (7). n_neighbors will be set to (n_samples - 1) for estimation.\n",
      "  % (self.n_neighbors, n_samples))\n",
      "/home/charles/anaconda3/envs/torch/lib/python3.7/site-packages/sklearn/neighbors/_lof.py:277: UserWarning: n_neighbors (10) is greater than the total number of samples (7). n_neighbors will be set to (n_samples - 1) for estimation.\n",
      "  % (self.n_neighbors, n_samples))\n",
      "/home/charles/anaconda3/envs/torch/lib/python3.7/site-packages/sklearn/neighbors/_lof.py:277: UserWarning: n_neighbors (10) is greater than the total number of samples (7). n_neighbors will be set to (n_samples - 1) for estimation.\n",
      "  % (self.n_neighbors, n_samples))\n",
      "/home/charles/anaconda3/envs/torch/lib/python3.7/site-packages/sklearn/neighbors/_lof.py:277: UserWarning: n_neighbors (10) is greater than the total number of samples (7). n_neighbors will be set to (n_samples - 1) for estimation.\n",
      "  % (self.n_neighbors, n_samples))\n",
      "/home/charles/anaconda3/envs/torch/lib/python3.7/site-packages/sklearn/neighbors/_lof.py:277: UserWarning: n_neighbors (10) is greater than the total number of samples (7). n_neighbors will be set to (n_samples - 1) for estimation.\n",
      "  % (self.n_neighbors, n_samples))\n",
      "/home/charles/anaconda3/envs/torch/lib/python3.7/site-packages/sklearn/neighbors/_lof.py:277: UserWarning: n_neighbors (10) is greater than the total number of samples (7). n_neighbors will be set to (n_samples - 1) for estimation.\n",
      "  % (self.n_neighbors, n_samples))\n",
      "/home/charles/anaconda3/envs/torch/lib/python3.7/site-packages/sklearn/neighbors/_lof.py:277: UserWarning: n_neighbors (10) is greater than the total number of samples (7). n_neighbors will be set to (n_samples - 1) for estimation.\n",
      "  % (self.n_neighbors, n_samples))\n",
      "/home/charles/anaconda3/envs/torch/lib/python3.7/site-packages/sklearn/neighbors/_lof.py:277: UserWarning: n_neighbors (10) is greater than the total number of samples (7). n_neighbors will be set to (n_samples - 1) for estimation.\n",
      "  % (self.n_neighbors, n_samples))\n",
      "/home/charles/anaconda3/envs/torch/lib/python3.7/site-packages/sklearn/neighbors/_lof.py:277: UserWarning: n_neighbors (10) is greater than the total number of samples (7). n_neighbors will be set to (n_samples - 1) for estimation.\n",
      "  % (self.n_neighbors, n_samples))\n",
      "/home/charles/anaconda3/envs/torch/lib/python3.7/site-packages/sklearn/neighbors/_lof.py:277: UserWarning: n_neighbors (10) is greater than the total number of samples (7). n_neighbors will be set to (n_samples - 1) for estimation.\n",
      "  % (self.n_neighbors, n_samples))\n",
      "/home/charles/anaconda3/envs/torch/lib/python3.7/site-packages/sklearn/neighbors/_lof.py:277: UserWarning: n_neighbors (10) is greater than the total number of samples (7). n_neighbors will be set to (n_samples - 1) for estimation.\n",
      "  % (self.n_neighbors, n_samples))\n",
      "/home/charles/anaconda3/envs/torch/lib/python3.7/site-packages/sklearn/neighbors/_lof.py:277: UserWarning: n_neighbors (10) is greater than the total number of samples (7). n_neighbors will be set to (n_samples - 1) for estimation.\n",
      "  % (self.n_neighbors, n_samples))\n",
      "/home/charles/anaconda3/envs/torch/lib/python3.7/site-packages/sklearn/neighbors/_lof.py:277: UserWarning: n_neighbors (10) is greater than the total number of samples (7). n_neighbors will be set to (n_samples - 1) for estimation.\n",
      "  % (self.n_neighbors, n_samples))\n",
      "/home/charles/anaconda3/envs/torch/lib/python3.7/site-packages/sklearn/neighbors/_lof.py:277: UserWarning: n_neighbors (10) is greater than the total number of samples (7). n_neighbors will be set to (n_samples - 1) for estimation.\n",
      "  % (self.n_neighbors, n_samples))\n",
      "/home/charles/anaconda3/envs/torch/lib/python3.7/site-packages/sklearn/neighbors/_lof.py:277: UserWarning: n_neighbors (10) is greater than the total number of samples (7). n_neighbors will be set to (n_samples - 1) for estimation.\n",
      "  % (self.n_neighbors, n_samples))\n",
      "/home/charles/anaconda3/envs/torch/lib/python3.7/site-packages/sklearn/neighbors/_lof.py:277: UserWarning: n_neighbors (10) is greater than the total number of samples (7). n_neighbors will be set to (n_samples - 1) for estimation.\n",
      "  % (self.n_neighbors, n_samples))\n",
      "/home/charles/anaconda3/envs/torch/lib/python3.7/site-packages/sklearn/neighbors/_lof.py:277: UserWarning: n_neighbors (10) is greater than the total number of samples (7). n_neighbors will be set to (n_samples - 1) for estimation.\n",
      "  % (self.n_neighbors, n_samples))\n",
      "/home/charles/anaconda3/envs/torch/lib/python3.7/site-packages/sklearn/neighbors/_lof.py:277: UserWarning: n_neighbors (10) is greater than the total number of samples (7). n_neighbors will be set to (n_samples - 1) for estimation.\n",
      "  % (self.n_neighbors, n_samples))\n",
      "/home/charles/anaconda3/envs/torch/lib/python3.7/site-packages/sklearn/neighbors/_lof.py:277: UserWarning: n_neighbors (10) is greater than the total number of samples (7). n_neighbors will be set to (n_samples - 1) for estimation.\n",
      "  % (self.n_neighbors, n_samples))\n",
      "/home/charles/anaconda3/envs/torch/lib/python3.7/site-packages/sklearn/neighbors/_lof.py:277: UserWarning: n_neighbors (10) is greater than the total number of samples (7). n_neighbors will be set to (n_samples - 1) for estimation.\n",
      "  % (self.n_neighbors, n_samples))\n",
      "/home/charles/anaconda3/envs/torch/lib/python3.7/site-packages/sklearn/neighbors/_lof.py:277: UserWarning: n_neighbors (10) is greater than the total number of samples (7). n_neighbors will be set to (n_samples - 1) for estimation.\n",
      "  % (self.n_neighbors, n_samples))\n",
      "/home/charles/anaconda3/envs/torch/lib/python3.7/site-packages/sklearn/neighbors/_lof.py:277: UserWarning: n_neighbors (10) is greater than the total number of samples (7). n_neighbors will be set to (n_samples - 1) for estimation.\n",
      "  % (self.n_neighbors, n_samples))\n",
      "/home/charles/anaconda3/envs/torch/lib/python3.7/site-packages/sklearn/neighbors/_lof.py:277: UserWarning: n_neighbors (10) is greater than the total number of samples (7). n_neighbors will be set to (n_samples - 1) for estimation.\n",
      "  % (self.n_neighbors, n_samples))\n",
      "/home/charles/anaconda3/envs/torch/lib/python3.7/site-packages/sklearn/neighbors/_lof.py:277: UserWarning: n_neighbors (10) is greater than the total number of samples (7). n_neighbors will be set to (n_samples - 1) for estimation.\n",
      "  % (self.n_neighbors, n_samples))\n",
      "/home/charles/anaconda3/envs/torch/lib/python3.7/site-packages/sklearn/neighbors/_lof.py:277: UserWarning: n_neighbors (10) is greater than the total number of samples (7). n_neighbors will be set to (n_samples - 1) for estimation.\n",
      "  % (self.n_neighbors, n_samples))\n",
      "/home/charles/anaconda3/envs/torch/lib/python3.7/site-packages/sklearn/neighbors/_lof.py:277: UserWarning: n_neighbors (10) is greater than the total number of samples (7). n_neighbors will be set to (n_samples - 1) for estimation.\n",
      "  % (self.n_neighbors, n_samples))\n",
      "/home/charles/anaconda3/envs/torch/lib/python3.7/site-packages/sklearn/neighbors/_lof.py:277: UserWarning: n_neighbors (10) is greater than the total number of samples (7). n_neighbors will be set to (n_samples - 1) for estimation.\n",
      "  % (self.n_neighbors, n_samples))\n",
      "/home/charles/anaconda3/envs/torch/lib/python3.7/site-packages/sklearn/neighbors/_lof.py:277: UserWarning: n_neighbors (10) is greater than the total number of samples (7). n_neighbors will be set to (n_samples - 1) for estimation.\n",
      "  % (self.n_neighbors, n_samples))\n",
      "/home/charles/anaconda3/envs/torch/lib/python3.7/site-packages/sklearn/neighbors/_lof.py:277: UserWarning: n_neighbors (10) is greater than the total number of samples (7). n_neighbors will be set to (n_samples - 1) for estimation.\n",
      "  % (self.n_neighbors, n_samples))\n",
      "/home/charles/anaconda3/envs/torch/lib/python3.7/site-packages/sklearn/neighbors/_lof.py:277: UserWarning: n_neighbors (10) is greater than the total number of samples (7). n_neighbors will be set to (n_samples - 1) for estimation.\n",
      "  % (self.n_neighbors, n_samples))\n",
      "/home/charles/anaconda3/envs/torch/lib/python3.7/site-packages/sklearn/neighbors/_lof.py:277: UserWarning: n_neighbors (10) is greater than the total number of samples (7). n_neighbors will be set to (n_samples - 1) for estimation.\n",
      "  % (self.n_neighbors, n_samples))\n",
      "/home/charles/anaconda3/envs/torch/lib/python3.7/site-packages/sklearn/neighbors/_lof.py:277: UserWarning: n_neighbors (10) is greater than the total number of samples (7). n_neighbors will be set to (n_samples - 1) for estimation.\n",
      "  % (self.n_neighbors, n_samples))\n",
      "/home/charles/anaconda3/envs/torch/lib/python3.7/site-packages/sklearn/neighbors/_lof.py:277: UserWarning: n_neighbors (10) is greater than the total number of samples (7). n_neighbors will be set to (n_samples - 1) for estimation.\n",
      "  % (self.n_neighbors, n_samples))\n",
      "/home/charles/anaconda3/envs/torch/lib/python3.7/site-packages/sklearn/neighbors/_lof.py:277: UserWarning: n_neighbors (10) is greater than the total number of samples (7). n_neighbors will be set to (n_samples - 1) for estimation.\n",
      "  % (self.n_neighbors, n_samples))\n",
      "/home/charles/anaconda3/envs/torch/lib/python3.7/site-packages/sklearn/neighbors/_lof.py:277: UserWarning: n_neighbors (10) is greater than the total number of samples (7). n_neighbors will be set to (n_samples - 1) for estimation.\n",
      "  % (self.n_neighbors, n_samples))\n",
      "/home/charles/anaconda3/envs/torch/lib/python3.7/site-packages/sklearn/neighbors/_lof.py:277: UserWarning: n_neighbors (10) is greater than the total number of samples (7). n_neighbors will be set to (n_samples - 1) for estimation.\n",
      "  % (self.n_neighbors, n_samples))\n",
      "/home/charles/anaconda3/envs/torch/lib/python3.7/site-packages/sklearn/neighbors/_lof.py:277: UserWarning: n_neighbors (10) is greater than the total number of samples (7). n_neighbors will be set to (n_samples - 1) for estimation.\n",
      "  % (self.n_neighbors, n_samples))\n",
      "/home/charles/anaconda3/envs/torch/lib/python3.7/site-packages/sklearn/neighbors/_lof.py:277: UserWarning: n_neighbors (10) is greater than the total number of samples (7). n_neighbors will be set to (n_samples - 1) for estimation.\n",
      "  % (self.n_neighbors, n_samples))\n",
      "/home/charles/anaconda3/envs/torch/lib/python3.7/site-packages/sklearn/neighbors/_lof.py:277: UserWarning: n_neighbors (10) is greater than the total number of samples (7). n_neighbors will be set to (n_samples - 1) for estimation.\n",
      "  % (self.n_neighbors, n_samples))\n",
      "/home/charles/anaconda3/envs/torch/lib/python3.7/site-packages/sklearn/neighbors/_lof.py:277: UserWarning: n_neighbors (10) is greater than the total number of samples (7). n_neighbors will be set to (n_samples - 1) for estimation.\n",
      "  % (self.n_neighbors, n_samples))\n",
      "/home/charles/anaconda3/envs/torch/lib/python3.7/site-packages/sklearn/neighbors/_lof.py:277: UserWarning: n_neighbors (10) is greater than the total number of samples (7). n_neighbors will be set to (n_samples - 1) for estimation.\n",
      "  % (self.n_neighbors, n_samples))\n",
      "/home/charles/anaconda3/envs/torch/lib/python3.7/site-packages/sklearn/neighbors/_lof.py:277: UserWarning: n_neighbors (10) is greater than the total number of samples (7). n_neighbors will be set to (n_samples - 1) for estimation.\n",
      "  % (self.n_neighbors, n_samples))\n",
      "/home/charles/anaconda3/envs/torch/lib/python3.7/site-packages/sklearn/neighbors/_lof.py:277: UserWarning: n_neighbors (10) is greater than the total number of samples (7). n_neighbors will be set to (n_samples - 1) for estimation.\n",
      "  % (self.n_neighbors, n_samples))\n",
      "/home/charles/anaconda3/envs/torch/lib/python3.7/site-packages/sklearn/neighbors/_lof.py:277: UserWarning: n_neighbors (10) is greater than the total number of samples (7). n_neighbors will be set to (n_samples - 1) for estimation.\n",
      "  % (self.n_neighbors, n_samples))\n",
      "/home/charles/anaconda3/envs/torch/lib/python3.7/site-packages/sklearn/neighbors/_lof.py:277: UserWarning: n_neighbors (10) is greater than the total number of samples (7). n_neighbors will be set to (n_samples - 1) for estimation.\n",
      "  % (self.n_neighbors, n_samples))\n",
      "/home/charles/anaconda3/envs/torch/lib/python3.7/site-packages/sklearn/neighbors/_lof.py:277: UserWarning: n_neighbors (10) is greater than the total number of samples (7). n_neighbors will be set to (n_samples - 1) for estimation.\n",
      "  % (self.n_neighbors, n_samples))\n",
      "/home/charles/anaconda3/envs/torch/lib/python3.7/site-packages/sklearn/neighbors/_lof.py:277: UserWarning: n_neighbors (10) is greater than the total number of samples (7). n_neighbors will be set to (n_samples - 1) for estimation.\n",
      "  % (self.n_neighbors, n_samples))\n",
      "/home/charles/anaconda3/envs/torch/lib/python3.7/site-packages/sklearn/neighbors/_lof.py:277: UserWarning: n_neighbors (10) is greater than the total number of samples (7). n_neighbors will be set to (n_samples - 1) for estimation.\n",
      "  % (self.n_neighbors, n_samples))\n",
      "/home/charles/anaconda3/envs/torch/lib/python3.7/site-packages/sklearn/neighbors/_lof.py:277: UserWarning: n_neighbors (10) is greater than the total number of samples (7). n_neighbors will be set to (n_samples - 1) for estimation.\n",
      "  % (self.n_neighbors, n_samples))\n",
      "/home/charles/anaconda3/envs/torch/lib/python3.7/site-packages/sklearn/neighbors/_lof.py:277: UserWarning: n_neighbors (10) is greater than the total number of samples (7). n_neighbors will be set to (n_samples - 1) for estimation.\n",
      "  % (self.n_neighbors, n_samples))\n",
      "/home/charles/anaconda3/envs/torch/lib/python3.7/site-packages/sklearn/neighbors/_lof.py:277: UserWarning: n_neighbors (10) is greater than the total number of samples (7). n_neighbors will be set to (n_samples - 1) for estimation.\n",
      "  % (self.n_neighbors, n_samples))\n",
      "/home/charles/anaconda3/envs/torch/lib/python3.7/site-packages/sklearn/neighbors/_lof.py:277: UserWarning: n_neighbors (10) is greater than the total number of samples (7). n_neighbors will be set to (n_samples - 1) for estimation.\n",
      "  % (self.n_neighbors, n_samples))\n",
      "/home/charles/anaconda3/envs/torch/lib/python3.7/site-packages/sklearn/neighbors/_lof.py:277: UserWarning: n_neighbors (10) is greater than the total number of samples (7). n_neighbors will be set to (n_samples - 1) for estimation.\n",
      "  % (self.n_neighbors, n_samples))\n",
      "/home/charles/anaconda3/envs/torch/lib/python3.7/site-packages/sklearn/neighbors/_lof.py:277: UserWarning: n_neighbors (10) is greater than the total number of samples (7). n_neighbors will be set to (n_samples - 1) for estimation.\n",
      "  % (self.n_neighbors, n_samples))\n",
      "/home/charles/anaconda3/envs/torch/lib/python3.7/site-packages/sklearn/neighbors/_lof.py:277: UserWarning: n_neighbors (10) is greater than the total number of samples (7). n_neighbors will be set to (n_samples - 1) for estimation.\n",
      "  % (self.n_neighbors, n_samples))\n",
      "/home/charles/anaconda3/envs/torch/lib/python3.7/site-packages/sklearn/neighbors/_lof.py:277: UserWarning: n_neighbors (10) is greater than the total number of samples (7). n_neighbors will be set to (n_samples - 1) for estimation.\n",
      "  % (self.n_neighbors, n_samples))\n",
      "/home/charles/anaconda3/envs/torch/lib/python3.7/site-packages/sklearn/neighbors/_lof.py:277: UserWarning: n_neighbors (10) is greater than the total number of samples (7). n_neighbors will be set to (n_samples - 1) for estimation.\n",
      "  % (self.n_neighbors, n_samples))\n",
      "/home/charles/anaconda3/envs/torch/lib/python3.7/site-packages/sklearn/neighbors/_lof.py:277: UserWarning: n_neighbors (10) is greater than the total number of samples (7). n_neighbors will be set to (n_samples - 1) for estimation.\n",
      "  % (self.n_neighbors, n_samples))\n",
      "/home/charles/anaconda3/envs/torch/lib/python3.7/site-packages/sklearn/neighbors/_lof.py:277: UserWarning: n_neighbors (10) is greater than the total number of samples (7). n_neighbors will be set to (n_samples - 1) for estimation.\n",
      "  % (self.n_neighbors, n_samples))\n",
      "/home/charles/anaconda3/envs/torch/lib/python3.7/site-packages/sklearn/neighbors/_lof.py:277: UserWarning: n_neighbors (10) is greater than the total number of samples (7). n_neighbors will be set to (n_samples - 1) for estimation.\n",
      "  % (self.n_neighbors, n_samples))\n",
      "/home/charles/anaconda3/envs/torch/lib/python3.7/site-packages/sklearn/neighbors/_lof.py:277: UserWarning: n_neighbors (10) is greater than the total number of samples (7). n_neighbors will be set to (n_samples - 1) for estimation.\n",
      "  % (self.n_neighbors, n_samples))\n",
      "/home/charles/anaconda3/envs/torch/lib/python3.7/site-packages/sklearn/neighbors/_lof.py:277: UserWarning: n_neighbors (10) is greater than the total number of samples (7). n_neighbors will be set to (n_samples - 1) for estimation.\n",
      "  % (self.n_neighbors, n_samples))\n",
      "/home/charles/anaconda3/envs/torch/lib/python3.7/site-packages/sklearn/neighbors/_lof.py:277: UserWarning: n_neighbors (10) is greater than the total number of samples (7). n_neighbors will be set to (n_samples - 1) for estimation.\n",
      "  % (self.n_neighbors, n_samples))\n",
      "/home/charles/anaconda3/envs/torch/lib/python3.7/site-packages/sklearn/neighbors/_lof.py:277: UserWarning: n_neighbors (10) is greater than the total number of samples (7). n_neighbors will be set to (n_samples - 1) for estimation.\n",
      "  % (self.n_neighbors, n_samples))\n",
      "/home/charles/anaconda3/envs/torch/lib/python3.7/site-packages/sklearn/neighbors/_lof.py:277: UserWarning: n_neighbors (10) is greater than the total number of samples (7). n_neighbors will be set to (n_samples - 1) for estimation.\n",
      "  % (self.n_neighbors, n_samples))\n",
      "/home/charles/anaconda3/envs/torch/lib/python3.7/site-packages/sklearn/neighbors/_lof.py:277: UserWarning: n_neighbors (10) is greater than the total number of samples (7). n_neighbors will be set to (n_samples - 1) for estimation.\n",
      "  % (self.n_neighbors, n_samples))\n",
      "/home/charles/anaconda3/envs/torch/lib/python3.7/site-packages/sklearn/neighbors/_lof.py:277: UserWarning: n_neighbors (10) is greater than the total number of samples (7). n_neighbors will be set to (n_samples - 1) for estimation.\n",
      "  % (self.n_neighbors, n_samples))\n",
      "/home/charles/anaconda3/envs/torch/lib/python3.7/site-packages/sklearn/neighbors/_lof.py:277: UserWarning: n_neighbors (10) is greater than the total number of samples (7). n_neighbors will be set to (n_samples - 1) for estimation.\n",
      "  % (self.n_neighbors, n_samples))\n",
      "/home/charles/anaconda3/envs/torch/lib/python3.7/site-packages/sklearn/neighbors/_lof.py:277: UserWarning: n_neighbors (10) is greater than the total number of samples (7). n_neighbors will be set to (n_samples - 1) for estimation.\n",
      "  % (self.n_neighbors, n_samples))\n",
      "/home/charles/anaconda3/envs/torch/lib/python3.7/site-packages/sklearn/neighbors/_lof.py:277: UserWarning: n_neighbors (10) is greater than the total number of samples (7). n_neighbors will be set to (n_samples - 1) for estimation.\n",
      "  % (self.n_neighbors, n_samples))\n",
      "/home/charles/anaconda3/envs/torch/lib/python3.7/site-packages/sklearn/neighbors/_lof.py:277: UserWarning: n_neighbors (10) is greater than the total number of samples (7). n_neighbors will be set to (n_samples - 1) for estimation.\n",
      "  % (self.n_neighbors, n_samples))\n",
      "/home/charles/anaconda3/envs/torch/lib/python3.7/site-packages/sklearn/neighbors/_lof.py:277: UserWarning: n_neighbors (10) is greater than the total number of samples (7). n_neighbors will be set to (n_samples - 1) for estimation.\n",
      "  % (self.n_neighbors, n_samples))\n",
      "/home/charles/anaconda3/envs/torch/lib/python3.7/site-packages/sklearn/neighbors/_lof.py:277: UserWarning: n_neighbors (10) is greater than the total number of samples (7). n_neighbors will be set to (n_samples - 1) for estimation.\n",
      "  % (self.n_neighbors, n_samples))\n",
      "/home/charles/anaconda3/envs/torch/lib/python3.7/site-packages/sklearn/neighbors/_lof.py:277: UserWarning: n_neighbors (10) is greater than the total number of samples (7). n_neighbors will be set to (n_samples - 1) for estimation.\n",
      "  % (self.n_neighbors, n_samples))\n",
      "/home/charles/anaconda3/envs/torch/lib/python3.7/site-packages/sklearn/neighbors/_lof.py:277: UserWarning: n_neighbors (10) is greater than the total number of samples (7). n_neighbors will be set to (n_samples - 1) for estimation.\n",
      "  % (self.n_neighbors, n_samples))\n",
      "/home/charles/anaconda3/envs/torch/lib/python3.7/site-packages/sklearn/neighbors/_lof.py:277: UserWarning: n_neighbors (10) is greater than the total number of samples (7). n_neighbors will be set to (n_samples - 1) for estimation.\n",
      "  % (self.n_neighbors, n_samples))\n",
      "/home/charles/anaconda3/envs/torch/lib/python3.7/site-packages/sklearn/neighbors/_lof.py:277: UserWarning: n_neighbors (10) is greater than the total number of samples (7). n_neighbors will be set to (n_samples - 1) for estimation.\n",
      "  % (self.n_neighbors, n_samples))\n",
      "/home/charles/anaconda3/envs/torch/lib/python3.7/site-packages/sklearn/neighbors/_lof.py:277: UserWarning: n_neighbors (10) is greater than the total number of samples (7). n_neighbors will be set to (n_samples - 1) for estimation.\n",
      "  % (self.n_neighbors, n_samples))\n",
      "/home/charles/anaconda3/envs/torch/lib/python3.7/site-packages/sklearn/neighbors/_lof.py:277: UserWarning: n_neighbors (10) is greater than the total number of samples (7). n_neighbors will be set to (n_samples - 1) for estimation.\n",
      "  % (self.n_neighbors, n_samples))\n",
      "/home/charles/anaconda3/envs/torch/lib/python3.7/site-packages/sklearn/neighbors/_lof.py:277: UserWarning: n_neighbors (10) is greater than the total number of samples (7). n_neighbors will be set to (n_samples - 1) for estimation.\n",
      "  % (self.n_neighbors, n_samples))\n",
      "/home/charles/anaconda3/envs/torch/lib/python3.7/site-packages/sklearn/neighbors/_lof.py:277: UserWarning: n_neighbors (10) is greater than the total number of samples (7). n_neighbors will be set to (n_samples - 1) for estimation.\n",
      "  % (self.n_neighbors, n_samples))\n",
      "/home/charles/anaconda3/envs/torch/lib/python3.7/site-packages/sklearn/neighbors/_lof.py:277: UserWarning: n_neighbors (10) is greater than the total number of samples (7). n_neighbors will be set to (n_samples - 1) for estimation.\n",
      "  % (self.n_neighbors, n_samples))\n",
      "/home/charles/anaconda3/envs/torch/lib/python3.7/site-packages/sklearn/neighbors/_lof.py:277: UserWarning: n_neighbors (10) is greater than the total number of samples (7). n_neighbors will be set to (n_samples - 1) for estimation.\n",
      "  % (self.n_neighbors, n_samples))\n",
      "/home/charles/anaconda3/envs/torch/lib/python3.7/site-packages/sklearn/neighbors/_lof.py:277: UserWarning: n_neighbors (10) is greater than the total number of samples (7). n_neighbors will be set to (n_samples - 1) for estimation.\n",
      "  % (self.n_neighbors, n_samples))\n",
      "/home/charles/anaconda3/envs/torch/lib/python3.7/site-packages/sklearn/neighbors/_lof.py:277: UserWarning: n_neighbors (10) is greater than the total number of samples (7). n_neighbors will be set to (n_samples - 1) for estimation.\n",
      "  % (self.n_neighbors, n_samples))\n",
      "/home/charles/anaconda3/envs/torch/lib/python3.7/site-packages/sklearn/neighbors/_lof.py:277: UserWarning: n_neighbors (10) is greater than the total number of samples (7). n_neighbors will be set to (n_samples - 1) for estimation.\n",
      "  % (self.n_neighbors, n_samples))\n",
      "/home/charles/anaconda3/envs/torch/lib/python3.7/site-packages/sklearn/neighbors/_lof.py:277: UserWarning: n_neighbors (10) is greater than the total number of samples (7). n_neighbors will be set to (n_samples - 1) for estimation.\n",
      "  % (self.n_neighbors, n_samples))\n",
      "/home/charles/anaconda3/envs/torch/lib/python3.7/site-packages/sklearn/neighbors/_lof.py:277: UserWarning: n_neighbors (10) is greater than the total number of samples (7). n_neighbors will be set to (n_samples - 1) for estimation.\n",
      "  % (self.n_neighbors, n_samples))\n",
      "/home/charles/anaconda3/envs/torch/lib/python3.7/site-packages/sklearn/neighbors/_lof.py:277: UserWarning: n_neighbors (10) is greater than the total number of samples (7). n_neighbors will be set to (n_samples - 1) for estimation.\n",
      "  % (self.n_neighbors, n_samples))\n",
      "/home/charles/anaconda3/envs/torch/lib/python3.7/site-packages/sklearn/neighbors/_lof.py:277: UserWarning: n_neighbors (10) is greater than the total number of samples (7). n_neighbors will be set to (n_samples - 1) for estimation.\n",
      "  % (self.n_neighbors, n_samples))\n",
      "/home/charles/anaconda3/envs/torch/lib/python3.7/site-packages/sklearn/neighbors/_lof.py:277: UserWarning: n_neighbors (10) is greater than the total number of samples (7). n_neighbors will be set to (n_samples - 1) for estimation.\n",
      "  % (self.n_neighbors, n_samples))\n",
      "/home/charles/anaconda3/envs/torch/lib/python3.7/site-packages/sklearn/neighbors/_lof.py:277: UserWarning: n_neighbors (10) is greater than the total number of samples (7). n_neighbors will be set to (n_samples - 1) for estimation.\n",
      "  % (self.n_neighbors, n_samples))\n",
      "/home/charles/anaconda3/envs/torch/lib/python3.7/site-packages/sklearn/neighbors/_lof.py:277: UserWarning: n_neighbors (10) is greater than the total number of samples (7). n_neighbors will be set to (n_samples - 1) for estimation.\n",
      "  % (self.n_neighbors, n_samples))\n",
      "/home/charles/anaconda3/envs/torch/lib/python3.7/site-packages/sklearn/neighbors/_lof.py:277: UserWarning: n_neighbors (10) is greater than the total number of samples (7). n_neighbors will be set to (n_samples - 1) for estimation.\n",
      "  % (self.n_neighbors, n_samples))\n",
      "/home/charles/anaconda3/envs/torch/lib/python3.7/site-packages/sklearn/neighbors/_lof.py:277: UserWarning: n_neighbors (10) is greater than the total number of samples (7). n_neighbors will be set to (n_samples - 1) for estimation.\n",
      "  % (self.n_neighbors, n_samples))\n",
      "/home/charles/anaconda3/envs/torch/lib/python3.7/site-packages/sklearn/neighbors/_lof.py:277: UserWarning: n_neighbors (10) is greater than the total number of samples (7). n_neighbors will be set to (n_samples - 1) for estimation.\n",
      "  % (self.n_neighbors, n_samples))\n",
      "/home/charles/anaconda3/envs/torch/lib/python3.7/site-packages/sklearn/neighbors/_lof.py:277: UserWarning: n_neighbors (10) is greater than the total number of samples (7). n_neighbors will be set to (n_samples - 1) for estimation.\n",
      "  % (self.n_neighbors, n_samples))\n",
      "/home/charles/anaconda3/envs/torch/lib/python3.7/site-packages/sklearn/neighbors/_lof.py:277: UserWarning: n_neighbors (10) is greater than the total number of samples (7). n_neighbors will be set to (n_samples - 1) for estimation.\n",
      "  % (self.n_neighbors, n_samples))\n",
      "/home/charles/anaconda3/envs/torch/lib/python3.7/site-packages/sklearn/neighbors/_lof.py:277: UserWarning: n_neighbors (10) is greater than the total number of samples (7). n_neighbors will be set to (n_samples - 1) for estimation.\n",
      "  % (self.n_neighbors, n_samples))\n",
      "/home/charles/anaconda3/envs/torch/lib/python3.7/site-packages/sklearn/neighbors/_lof.py:277: UserWarning: n_neighbors (10) is greater than the total number of samples (7). n_neighbors will be set to (n_samples - 1) for estimation.\n",
      "  % (self.n_neighbors, n_samples))\n",
      "/home/charles/anaconda3/envs/torch/lib/python3.7/site-packages/sklearn/neighbors/_lof.py:277: UserWarning: n_neighbors (10) is greater than the total number of samples (7). n_neighbors will be set to (n_samples - 1) for estimation.\n",
      "  % (self.n_neighbors, n_samples))\n",
      "/home/charles/anaconda3/envs/torch/lib/python3.7/site-packages/sklearn/neighbors/_lof.py:277: UserWarning: n_neighbors (10) is greater than the total number of samples (7). n_neighbors will be set to (n_samples - 1) for estimation.\n",
      "  % (self.n_neighbors, n_samples))\n",
      "/home/charles/anaconda3/envs/torch/lib/python3.7/site-packages/sklearn/neighbors/_lof.py:277: UserWarning: n_neighbors (10) is greater than the total number of samples (7). n_neighbors will be set to (n_samples - 1) for estimation.\n",
      "  % (self.n_neighbors, n_samples))\n",
      "/home/charles/anaconda3/envs/torch/lib/python3.7/site-packages/sklearn/neighbors/_lof.py:277: UserWarning: n_neighbors (10) is greater than the total number of samples (7). n_neighbors will be set to (n_samples - 1) for estimation.\n",
      "  % (self.n_neighbors, n_samples))\n",
      "/home/charles/anaconda3/envs/torch/lib/python3.7/site-packages/sklearn/neighbors/_lof.py:277: UserWarning: n_neighbors (10) is greater than the total number of samples (7). n_neighbors will be set to (n_samples - 1) for estimation.\n",
      "  % (self.n_neighbors, n_samples))\n",
      "/home/charles/anaconda3/envs/torch/lib/python3.7/site-packages/sklearn/neighbors/_lof.py:277: UserWarning: n_neighbors (10) is greater than the total number of samples (7). n_neighbors will be set to (n_samples - 1) for estimation.\n",
      "  % (self.n_neighbors, n_samples))\n",
      "/home/charles/anaconda3/envs/torch/lib/python3.7/site-packages/sklearn/neighbors/_lof.py:277: UserWarning: n_neighbors (10) is greater than the total number of samples (7). n_neighbors will be set to (n_samples - 1) for estimation.\n",
      "  % (self.n_neighbors, n_samples))\n",
      "/home/charles/anaconda3/envs/torch/lib/python3.7/site-packages/sklearn/neighbors/_lof.py:277: UserWarning: n_neighbors (10) is greater than the total number of samples (7). n_neighbors will be set to (n_samples - 1) for estimation.\n",
      "  % (self.n_neighbors, n_samples))\n",
      "/home/charles/anaconda3/envs/torch/lib/python3.7/site-packages/sklearn/neighbors/_lof.py:277: UserWarning: n_neighbors (10) is greater than the total number of samples (7). n_neighbors will be set to (n_samples - 1) for estimation.\n",
      "  % (self.n_neighbors, n_samples))\n",
      "/home/charles/anaconda3/envs/torch/lib/python3.7/site-packages/sklearn/neighbors/_lof.py:277: UserWarning: n_neighbors (10) is greater than the total number of samples (7). n_neighbors will be set to (n_samples - 1) for estimation.\n",
      "  % (self.n_neighbors, n_samples))\n",
      "/home/charles/anaconda3/envs/torch/lib/python3.7/site-packages/sklearn/neighbors/_lof.py:277: UserWarning: n_neighbors (10) is greater than the total number of samples (7). n_neighbors will be set to (n_samples - 1) for estimation.\n",
      "  % (self.n_neighbors, n_samples))\n",
      "/home/charles/anaconda3/envs/torch/lib/python3.7/site-packages/sklearn/neighbors/_lof.py:277: UserWarning: n_neighbors (10) is greater than the total number of samples (7). n_neighbors will be set to (n_samples - 1) for estimation.\n",
      "  % (self.n_neighbors, n_samples))\n",
      "/home/charles/anaconda3/envs/torch/lib/python3.7/site-packages/sklearn/neighbors/_lof.py:277: UserWarning: n_neighbors (10) is greater than the total number of samples (7). n_neighbors will be set to (n_samples - 1) for estimation.\n",
      "  % (self.n_neighbors, n_samples))\n",
      "/home/charles/anaconda3/envs/torch/lib/python3.7/site-packages/sklearn/neighbors/_lof.py:277: UserWarning: n_neighbors (10) is greater than the total number of samples (7). n_neighbors will be set to (n_samples - 1) for estimation.\n",
      "  % (self.n_neighbors, n_samples))\n",
      "/home/charles/anaconda3/envs/torch/lib/python3.7/site-packages/sklearn/neighbors/_lof.py:277: UserWarning: n_neighbors (10) is greater than the total number of samples (7). n_neighbors will be set to (n_samples - 1) for estimation.\n",
      "  % (self.n_neighbors, n_samples))\n",
      "/home/charles/anaconda3/envs/torch/lib/python3.7/site-packages/sklearn/neighbors/_lof.py:277: UserWarning: n_neighbors (10) is greater than the total number of samples (7). n_neighbors will be set to (n_samples - 1) for estimation.\n",
      "  % (self.n_neighbors, n_samples))\n",
      "/home/charles/anaconda3/envs/torch/lib/python3.7/site-packages/sklearn/neighbors/_lof.py:277: UserWarning: n_neighbors (10) is greater than the total number of samples (7). n_neighbors will be set to (n_samples - 1) for estimation.\n",
      "  % (self.n_neighbors, n_samples))\n",
      "/home/charles/anaconda3/envs/torch/lib/python3.7/site-packages/sklearn/neighbors/_lof.py:277: UserWarning: n_neighbors (10) is greater than the total number of samples (7). n_neighbors will be set to (n_samples - 1) for estimation.\n",
      "  % (self.n_neighbors, n_samples))\n",
      "/home/charles/anaconda3/envs/torch/lib/python3.7/site-packages/sklearn/neighbors/_lof.py:277: UserWarning: n_neighbors (10) is greater than the total number of samples (7). n_neighbors will be set to (n_samples - 1) for estimation.\n",
      "  % (self.n_neighbors, n_samples))\n",
      "/home/charles/anaconda3/envs/torch/lib/python3.7/site-packages/sklearn/neighbors/_lof.py:277: UserWarning: n_neighbors (10) is greater than the total number of samples (7). n_neighbors will be set to (n_samples - 1) for estimation.\n",
      "  % (self.n_neighbors, n_samples))\n",
      "/home/charles/anaconda3/envs/torch/lib/python3.7/site-packages/sklearn/neighbors/_lof.py:277: UserWarning: n_neighbors (10) is greater than the total number of samples (7). n_neighbors will be set to (n_samples - 1) for estimation.\n",
      "  % (self.n_neighbors, n_samples))\n",
      "/home/charles/anaconda3/envs/torch/lib/python3.7/site-packages/sklearn/neighbors/_lof.py:277: UserWarning: n_neighbors (10) is greater than the total number of samples (7). n_neighbors will be set to (n_samples - 1) for estimation.\n",
      "  % (self.n_neighbors, n_samples))\n",
      "/home/charles/anaconda3/envs/torch/lib/python3.7/site-packages/sklearn/neighbors/_lof.py:277: UserWarning: n_neighbors (10) is greater than the total number of samples (7). n_neighbors will be set to (n_samples - 1) for estimation.\n",
      "  % (self.n_neighbors, n_samples))\n",
      "/home/charles/anaconda3/envs/torch/lib/python3.7/site-packages/sklearn/neighbors/_lof.py:277: UserWarning: n_neighbors (10) is greater than the total number of samples (7). n_neighbors will be set to (n_samples - 1) for estimation.\n",
      "  % (self.n_neighbors, n_samples))\n",
      "/home/charles/anaconda3/envs/torch/lib/python3.7/site-packages/sklearn/neighbors/_lof.py:277: UserWarning: n_neighbors (10) is greater than the total number of samples (7). n_neighbors will be set to (n_samples - 1) for estimation.\n",
      "  % (self.n_neighbors, n_samples))\n",
      "/home/charles/anaconda3/envs/torch/lib/python3.7/site-packages/sklearn/neighbors/_lof.py:277: UserWarning: n_neighbors (10) is greater than the total number of samples (7). n_neighbors will be set to (n_samples - 1) for estimation.\n",
      "  % (self.n_neighbors, n_samples))\n",
      "/home/charles/anaconda3/envs/torch/lib/python3.7/site-packages/sklearn/neighbors/_lof.py:277: UserWarning: n_neighbors (10) is greater than the total number of samples (7). n_neighbors will be set to (n_samples - 1) for estimation.\n",
      "  % (self.n_neighbors, n_samples))\n",
      "/home/charles/anaconda3/envs/torch/lib/python3.7/site-packages/sklearn/neighbors/_lof.py:277: UserWarning: n_neighbors (10) is greater than the total number of samples (7). n_neighbors will be set to (n_samples - 1) for estimation.\n",
      "  % (self.n_neighbors, n_samples))\n",
      "/home/charles/anaconda3/envs/torch/lib/python3.7/site-packages/sklearn/neighbors/_lof.py:277: UserWarning: n_neighbors (10) is greater than the total number of samples (7). n_neighbors will be set to (n_samples - 1) for estimation.\n",
      "  % (self.n_neighbors, n_samples))\n",
      "/home/charles/anaconda3/envs/torch/lib/python3.7/site-packages/sklearn/neighbors/_lof.py:277: UserWarning: n_neighbors (10) is greater than the total number of samples (7). n_neighbors will be set to (n_samples - 1) for estimation.\n",
      "  % (self.n_neighbors, n_samples))\n",
      "/home/charles/anaconda3/envs/torch/lib/python3.7/site-packages/sklearn/neighbors/_lof.py:277: UserWarning: n_neighbors (10) is greater than the total number of samples (7). n_neighbors will be set to (n_samples - 1) for estimation.\n",
      "  % (self.n_neighbors, n_samples))\n",
      "/home/charles/anaconda3/envs/torch/lib/python3.7/site-packages/sklearn/neighbors/_lof.py:277: UserWarning: n_neighbors (10) is greater than the total number of samples (7). n_neighbors will be set to (n_samples - 1) for estimation.\n",
      "  % (self.n_neighbors, n_samples))\n",
      "/home/charles/anaconda3/envs/torch/lib/python3.7/site-packages/sklearn/neighbors/_lof.py:277: UserWarning: n_neighbors (10) is greater than the total number of samples (7). n_neighbors will be set to (n_samples - 1) for estimation.\n",
      "  % (self.n_neighbors, n_samples))\n",
      "/home/charles/anaconda3/envs/torch/lib/python3.7/site-packages/sklearn/neighbors/_lof.py:277: UserWarning: n_neighbors (10) is greater than the total number of samples (7). n_neighbors will be set to (n_samples - 1) for estimation.\n",
      "  % (self.n_neighbors, n_samples))\n",
      "/home/charles/anaconda3/envs/torch/lib/python3.7/site-packages/sklearn/neighbors/_lof.py:277: UserWarning: n_neighbors (10) is greater than the total number of samples (7). n_neighbors will be set to (n_samples - 1) for estimation.\n",
      "  % (self.n_neighbors, n_samples))\n",
      "/home/charles/anaconda3/envs/torch/lib/python3.7/site-packages/sklearn/neighbors/_lof.py:277: UserWarning: n_neighbors (10) is greater than the total number of samples (7). n_neighbors will be set to (n_samples - 1) for estimation.\n",
      "  % (self.n_neighbors, n_samples))\n",
      "/home/charles/anaconda3/envs/torch/lib/python3.7/site-packages/sklearn/neighbors/_lof.py:277: UserWarning: n_neighbors (10) is greater than the total number of samples (7). n_neighbors will be set to (n_samples - 1) for estimation.\n",
      "  % (self.n_neighbors, n_samples))\n",
      "/home/charles/anaconda3/envs/torch/lib/python3.7/site-packages/sklearn/neighbors/_lof.py:277: UserWarning: n_neighbors (10) is greater than the total number of samples (7). n_neighbors will be set to (n_samples - 1) for estimation.\n",
      "  % (self.n_neighbors, n_samples))\n",
      "/home/charles/anaconda3/envs/torch/lib/python3.7/site-packages/sklearn/neighbors/_lof.py:277: UserWarning: n_neighbors (10) is greater than the total number of samples (7). n_neighbors will be set to (n_samples - 1) for estimation.\n",
      "  % (self.n_neighbors, n_samples))\n",
      "/home/charles/anaconda3/envs/torch/lib/python3.7/site-packages/sklearn/neighbors/_lof.py:277: UserWarning: n_neighbors (10) is greater than the total number of samples (7). n_neighbors will be set to (n_samples - 1) for estimation.\n",
      "  % (self.n_neighbors, n_samples))\n",
      "/home/charles/anaconda3/envs/torch/lib/python3.7/site-packages/sklearn/neighbors/_lof.py:277: UserWarning: n_neighbors (10) is greater than the total number of samples (7). n_neighbors will be set to (n_samples - 1) for estimation.\n",
      "  % (self.n_neighbors, n_samples))\n",
      "/home/charles/anaconda3/envs/torch/lib/python3.7/site-packages/sklearn/neighbors/_lof.py:277: UserWarning: n_neighbors (10) is greater than the total number of samples (7). n_neighbors will be set to (n_samples - 1) for estimation.\n",
      "  % (self.n_neighbors, n_samples))\n",
      "/home/charles/anaconda3/envs/torch/lib/python3.7/site-packages/sklearn/neighbors/_lof.py:277: UserWarning: n_neighbors (10) is greater than the total number of samples (7). n_neighbors will be set to (n_samples - 1) for estimation.\n",
      "  % (self.n_neighbors, n_samples))\n",
      "/home/charles/anaconda3/envs/torch/lib/python3.7/site-packages/sklearn/neighbors/_lof.py:277: UserWarning: n_neighbors (10) is greater than the total number of samples (7). n_neighbors will be set to (n_samples - 1) for estimation.\n",
      "  % (self.n_neighbors, n_samples))\n",
      "/home/charles/anaconda3/envs/torch/lib/python3.7/site-packages/sklearn/neighbors/_lof.py:277: UserWarning: n_neighbors (10) is greater than the total number of samples (7). n_neighbors will be set to (n_samples - 1) for estimation.\n",
      "  % (self.n_neighbors, n_samples))\n",
      "/home/charles/anaconda3/envs/torch/lib/python3.7/site-packages/sklearn/neighbors/_lof.py:277: UserWarning: n_neighbors (10) is greater than the total number of samples (7). n_neighbors will be set to (n_samples - 1) for estimation.\n",
      "  % (self.n_neighbors, n_samples))\n",
      "/home/charles/anaconda3/envs/torch/lib/python3.7/site-packages/sklearn/neighbors/_lof.py:277: UserWarning: n_neighbors (10) is greater than the total number of samples (7). n_neighbors will be set to (n_samples - 1) for estimation.\n",
      "  % (self.n_neighbors, n_samples))\n",
      "/home/charles/anaconda3/envs/torch/lib/python3.7/site-packages/sklearn/neighbors/_lof.py:277: UserWarning: n_neighbors (10) is greater than the total number of samples (7). n_neighbors will be set to (n_samples - 1) for estimation.\n",
      "  % (self.n_neighbors, n_samples))\n",
      "/home/charles/anaconda3/envs/torch/lib/python3.7/site-packages/sklearn/neighbors/_lof.py:277: UserWarning: n_neighbors (10) is greater than the total number of samples (7). n_neighbors will be set to (n_samples - 1) for estimation.\n",
      "  % (self.n_neighbors, n_samples))\n",
      "/home/charles/anaconda3/envs/torch/lib/python3.7/site-packages/sklearn/neighbors/_lof.py:277: UserWarning: n_neighbors (10) is greater than the total number of samples (7). n_neighbors will be set to (n_samples - 1) for estimation.\n",
      "  % (self.n_neighbors, n_samples))\n",
      "/home/charles/anaconda3/envs/torch/lib/python3.7/site-packages/sklearn/neighbors/_lof.py:277: UserWarning: n_neighbors (10) is greater than the total number of samples (7). n_neighbors will be set to (n_samples - 1) for estimation.\n",
      "  % (self.n_neighbors, n_samples))\n",
      "/home/charles/anaconda3/envs/torch/lib/python3.7/site-packages/sklearn/neighbors/_lof.py:277: UserWarning: n_neighbors (10) is greater than the total number of samples (7). n_neighbors will be set to (n_samples - 1) for estimation.\n",
      "  % (self.n_neighbors, n_samples))\n",
      "/home/charles/anaconda3/envs/torch/lib/python3.7/site-packages/sklearn/neighbors/_lof.py:277: UserWarning: n_neighbors (10) is greater than the total number of samples (7). n_neighbors will be set to (n_samples - 1) for estimation.\n",
      "  % (self.n_neighbors, n_samples))\n",
      "/home/charles/anaconda3/envs/torch/lib/python3.7/site-packages/sklearn/neighbors/_lof.py:277: UserWarning: n_neighbors (10) is greater than the total number of samples (7). n_neighbors will be set to (n_samples - 1) for estimation.\n",
      "  % (self.n_neighbors, n_samples))\n",
      "/home/charles/anaconda3/envs/torch/lib/python3.7/site-packages/sklearn/neighbors/_lof.py:277: UserWarning: n_neighbors (10) is greater than the total number of samples (7). n_neighbors will be set to (n_samples - 1) for estimation.\n",
      "  % (self.n_neighbors, n_samples))\n",
      "/home/charles/anaconda3/envs/torch/lib/python3.7/site-packages/sklearn/neighbors/_lof.py:277: UserWarning: n_neighbors (10) is greater than the total number of samples (7). n_neighbors will be set to (n_samples - 1) for estimation.\n",
      "  % (self.n_neighbors, n_samples))\n",
      "/home/charles/anaconda3/envs/torch/lib/python3.7/site-packages/sklearn/neighbors/_lof.py:277: UserWarning: n_neighbors (10) is greater than the total number of samples (7). n_neighbors will be set to (n_samples - 1) for estimation.\n",
      "  % (self.n_neighbors, n_samples))\n",
      "/home/charles/anaconda3/envs/torch/lib/python3.7/site-packages/sklearn/neighbors/_lof.py:277: UserWarning: n_neighbors (10) is greater than the total number of samples (7). n_neighbors will be set to (n_samples - 1) for estimation.\n",
      "  % (self.n_neighbors, n_samples))\n",
      "/home/charles/anaconda3/envs/torch/lib/python3.7/site-packages/sklearn/neighbors/_lof.py:277: UserWarning: n_neighbors (10) is greater than the total number of samples (7). n_neighbors will be set to (n_samples - 1) for estimation.\n",
      "  % (self.n_neighbors, n_samples))\n",
      "/home/charles/anaconda3/envs/torch/lib/python3.7/site-packages/sklearn/neighbors/_lof.py:277: UserWarning: n_neighbors (10) is greater than the total number of samples (7). n_neighbors will be set to (n_samples - 1) for estimation.\n",
      "  % (self.n_neighbors, n_samples))\n",
      "/home/charles/anaconda3/envs/torch/lib/python3.7/site-packages/sklearn/neighbors/_lof.py:277: UserWarning: n_neighbors (10) is greater than the total number of samples (7). n_neighbors will be set to (n_samples - 1) for estimation.\n",
      "  % (self.n_neighbors, n_samples))\n",
      "/home/charles/anaconda3/envs/torch/lib/python3.7/site-packages/sklearn/neighbors/_lof.py:277: UserWarning: n_neighbors (10) is greater than the total number of samples (7). n_neighbors will be set to (n_samples - 1) for estimation.\n",
      "  % (self.n_neighbors, n_samples))\n",
      "/home/charles/anaconda3/envs/torch/lib/python3.7/site-packages/sklearn/neighbors/_lof.py:277: UserWarning: n_neighbors (10) is greater than the total number of samples (7). n_neighbors will be set to (n_samples - 1) for estimation.\n",
      "  % (self.n_neighbors, n_samples))\n",
      "/home/charles/anaconda3/envs/torch/lib/python3.7/site-packages/sklearn/neighbors/_lof.py:277: UserWarning: n_neighbors (10) is greater than the total number of samples (7). n_neighbors will be set to (n_samples - 1) for estimation.\n",
      "  % (self.n_neighbors, n_samples))\n",
      "/home/charles/anaconda3/envs/torch/lib/python3.7/site-packages/sklearn/neighbors/_lof.py:277: UserWarning: n_neighbors (10) is greater than the total number of samples (7). n_neighbors will be set to (n_samples - 1) for estimation.\n",
      "  % (self.n_neighbors, n_samples))\n",
      "/home/charles/anaconda3/envs/torch/lib/python3.7/site-packages/sklearn/neighbors/_lof.py:277: UserWarning: n_neighbors (10) is greater than the total number of samples (7). n_neighbors will be set to (n_samples - 1) for estimation.\n",
      "  % (self.n_neighbors, n_samples))\n",
      "/home/charles/anaconda3/envs/torch/lib/python3.7/site-packages/sklearn/neighbors/_lof.py:277: UserWarning: n_neighbors (10) is greater than the total number of samples (7). n_neighbors will be set to (n_samples - 1) for estimation.\n",
      "  % (self.n_neighbors, n_samples))\n",
      "/home/charles/anaconda3/envs/torch/lib/python3.7/site-packages/sklearn/neighbors/_lof.py:277: UserWarning: n_neighbors (10) is greater than the total number of samples (7). n_neighbors will be set to (n_samples - 1) for estimation.\n",
      "  % (self.n_neighbors, n_samples))\n",
      "/home/charles/anaconda3/envs/torch/lib/python3.7/site-packages/sklearn/neighbors/_lof.py:277: UserWarning: n_neighbors (10) is greater than the total number of samples (7). n_neighbors will be set to (n_samples - 1) for estimation.\n",
      "  % (self.n_neighbors, n_samples))\n",
      "/home/charles/anaconda3/envs/torch/lib/python3.7/site-packages/sklearn/neighbors/_lof.py:277: UserWarning: n_neighbors (10) is greater than the total number of samples (7). n_neighbors will be set to (n_samples - 1) for estimation.\n",
      "  % (self.n_neighbors, n_samples))\n",
      "/home/charles/anaconda3/envs/torch/lib/python3.7/site-packages/sklearn/neighbors/_lof.py:277: UserWarning: n_neighbors (10) is greater than the total number of samples (7). n_neighbors will be set to (n_samples - 1) for estimation.\n",
      "  % (self.n_neighbors, n_samples))\n",
      "/home/charles/anaconda3/envs/torch/lib/python3.7/site-packages/sklearn/neighbors/_lof.py:277: UserWarning: n_neighbors (10) is greater than the total number of samples (7). n_neighbors will be set to (n_samples - 1) for estimation.\n",
      "  % (self.n_neighbors, n_samples))\n",
      "/home/charles/anaconda3/envs/torch/lib/python3.7/site-packages/sklearn/neighbors/_lof.py:277: UserWarning: n_neighbors (10) is greater than the total number of samples (7). n_neighbors will be set to (n_samples - 1) for estimation.\n",
      "  % (self.n_neighbors, n_samples))\n",
      "/home/charles/anaconda3/envs/torch/lib/python3.7/site-packages/sklearn/neighbors/_lof.py:277: UserWarning: n_neighbors (10) is greater than the total number of samples (7). n_neighbors will be set to (n_samples - 1) for estimation.\n",
      "  % (self.n_neighbors, n_samples))\n",
      "/home/charles/anaconda3/envs/torch/lib/python3.7/site-packages/sklearn/neighbors/_lof.py:277: UserWarning: n_neighbors (10) is greater than the total number of samples (7). n_neighbors will be set to (n_samples - 1) for estimation.\n",
      "  % (self.n_neighbors, n_samples))\n",
      "/home/charles/anaconda3/envs/torch/lib/python3.7/site-packages/sklearn/neighbors/_lof.py:277: UserWarning: n_neighbors (10) is greater than the total number of samples (7). n_neighbors will be set to (n_samples - 1) for estimation.\n",
      "  % (self.n_neighbors, n_samples))\n",
      "/home/charles/anaconda3/envs/torch/lib/python3.7/site-packages/sklearn/neighbors/_lof.py:277: UserWarning: n_neighbors (10) is greater than the total number of samples (7). n_neighbors will be set to (n_samples - 1) for estimation.\n",
      "  % (self.n_neighbors, n_samples))\n",
      "/home/charles/anaconda3/envs/torch/lib/python3.7/site-packages/sklearn/neighbors/_lof.py:277: UserWarning: n_neighbors (10) is greater than the total number of samples (7). n_neighbors will be set to (n_samples - 1) for estimation.\n",
      "  % (self.n_neighbors, n_samples))\n",
      "/home/charles/anaconda3/envs/torch/lib/python3.7/site-packages/sklearn/neighbors/_lof.py:277: UserWarning: n_neighbors (10) is greater than the total number of samples (7). n_neighbors will be set to (n_samples - 1) for estimation.\n",
      "  % (self.n_neighbors, n_samples))\n",
      "/home/charles/anaconda3/envs/torch/lib/python3.7/site-packages/sklearn/neighbors/_lof.py:277: UserWarning: n_neighbors (10) is greater than the total number of samples (7). n_neighbors will be set to (n_samples - 1) for estimation.\n",
      "  % (self.n_neighbors, n_samples))\n",
      "/home/charles/anaconda3/envs/torch/lib/python3.7/site-packages/sklearn/neighbors/_lof.py:277: UserWarning: n_neighbors (10) is greater than the total number of samples (7). n_neighbors will be set to (n_samples - 1) for estimation.\n",
      "  % (self.n_neighbors, n_samples))\n",
      "/home/charles/anaconda3/envs/torch/lib/python3.7/site-packages/sklearn/neighbors/_lof.py:277: UserWarning: n_neighbors (10) is greater than the total number of samples (7). n_neighbors will be set to (n_samples - 1) for estimation.\n",
      "  % (self.n_neighbors, n_samples))\n",
      "/home/charles/anaconda3/envs/torch/lib/python3.7/site-packages/sklearn/neighbors/_lof.py:277: UserWarning: n_neighbors (10) is greater than the total number of samples (7). n_neighbors will be set to (n_samples - 1) for estimation.\n",
      "  % (self.n_neighbors, n_samples))\n",
      "/home/charles/anaconda3/envs/torch/lib/python3.7/site-packages/sklearn/neighbors/_lof.py:277: UserWarning: n_neighbors (10) is greater than the total number of samples (7). n_neighbors will be set to (n_samples - 1) for estimation.\n",
      "  % (self.n_neighbors, n_samples))\n",
      "/home/charles/anaconda3/envs/torch/lib/python3.7/site-packages/sklearn/neighbors/_lof.py:277: UserWarning: n_neighbors (10) is greater than the total number of samples (7). n_neighbors will be set to (n_samples - 1) for estimation.\n",
      "  % (self.n_neighbors, n_samples))\n",
      "/home/charles/anaconda3/envs/torch/lib/python3.7/site-packages/sklearn/neighbors/_lof.py:277: UserWarning: n_neighbors (10) is greater than the total number of samples (7). n_neighbors will be set to (n_samples - 1) for estimation.\n",
      "  % (self.n_neighbors, n_samples))\n",
      "/home/charles/anaconda3/envs/torch/lib/python3.7/site-packages/sklearn/neighbors/_lof.py:277: UserWarning: n_neighbors (10) is greater than the total number of samples (7). n_neighbors will be set to (n_samples - 1) for estimation.\n",
      "  % (self.n_neighbors, n_samples))\n",
      "/home/charles/anaconda3/envs/torch/lib/python3.7/site-packages/sklearn/neighbors/_lof.py:277: UserWarning: n_neighbors (10) is greater than the total number of samples (7). n_neighbors will be set to (n_samples - 1) for estimation.\n",
      "  % (self.n_neighbors, n_samples))\n",
      "/home/charles/anaconda3/envs/torch/lib/python3.7/site-packages/sklearn/neighbors/_lof.py:277: UserWarning: n_neighbors (10) is greater than the total number of samples (7). n_neighbors will be set to (n_samples - 1) for estimation.\n",
      "  % (self.n_neighbors, n_samples))\n",
      "/home/charles/anaconda3/envs/torch/lib/python3.7/site-packages/sklearn/neighbors/_lof.py:277: UserWarning: n_neighbors (10) is greater than the total number of samples (7). n_neighbors will be set to (n_samples - 1) for estimation.\n",
      "  % (self.n_neighbors, n_samples))\n",
      "/home/charles/anaconda3/envs/torch/lib/python3.7/site-packages/sklearn/neighbors/_lof.py:277: UserWarning: n_neighbors (10) is greater than the total number of samples (7). n_neighbors will be set to (n_samples - 1) for estimation.\n",
      "  % (self.n_neighbors, n_samples))\n",
      "/home/charles/anaconda3/envs/torch/lib/python3.7/site-packages/sklearn/neighbors/_lof.py:277: UserWarning: n_neighbors (10) is greater than the total number of samples (7). n_neighbors will be set to (n_samples - 1) for estimation.\n",
      "  % (self.n_neighbors, n_samples))\n",
      "/home/charles/anaconda3/envs/torch/lib/python3.7/site-packages/sklearn/neighbors/_lof.py:277: UserWarning: n_neighbors (10) is greater than the total number of samples (7). n_neighbors will be set to (n_samples - 1) for estimation.\n",
      "  % (self.n_neighbors, n_samples))\n",
      "/home/charles/anaconda3/envs/torch/lib/python3.7/site-packages/sklearn/neighbors/_lof.py:277: UserWarning: n_neighbors (10) is greater than the total number of samples (7). n_neighbors will be set to (n_samples - 1) for estimation.\n",
      "  % (self.n_neighbors, n_samples))\n",
      "/home/charles/anaconda3/envs/torch/lib/python3.7/site-packages/sklearn/neighbors/_lof.py:277: UserWarning: n_neighbors (10) is greater than the total number of samples (7). n_neighbors will be set to (n_samples - 1) for estimation.\n",
      "  % (self.n_neighbors, n_samples))\n",
      "/home/charles/anaconda3/envs/torch/lib/python3.7/site-packages/sklearn/neighbors/_lof.py:277: UserWarning: n_neighbors (10) is greater than the total number of samples (7). n_neighbors will be set to (n_samples - 1) for estimation.\n",
      "  % (self.n_neighbors, n_samples))\n",
      "/home/charles/anaconda3/envs/torch/lib/python3.7/site-packages/sklearn/neighbors/_lof.py:277: UserWarning: n_neighbors (10) is greater than the total number of samples (7). n_neighbors will be set to (n_samples - 1) for estimation.\n",
      "  % (self.n_neighbors, n_samples))\n",
      "/home/charles/anaconda3/envs/torch/lib/python3.7/site-packages/sklearn/neighbors/_lof.py:277: UserWarning: n_neighbors (10) is greater than the total number of samples (7). n_neighbors will be set to (n_samples - 1) for estimation.\n",
      "  % (self.n_neighbors, n_samples))\n",
      "/home/charles/anaconda3/envs/torch/lib/python3.7/site-packages/sklearn/neighbors/_lof.py:277: UserWarning: n_neighbors (10) is greater than the total number of samples (7). n_neighbors will be set to (n_samples - 1) for estimation.\n",
      "  % (self.n_neighbors, n_samples))\n",
      "/home/charles/anaconda3/envs/torch/lib/python3.7/site-packages/sklearn/neighbors/_lof.py:277: UserWarning: n_neighbors (10) is greater than the total number of samples (7). n_neighbors will be set to (n_samples - 1) for estimation.\n",
      "  % (self.n_neighbors, n_samples))\n",
      "/home/charles/anaconda3/envs/torch/lib/python3.7/site-packages/sklearn/neighbors/_lof.py:277: UserWarning: n_neighbors (10) is greater than the total number of samples (7). n_neighbors will be set to (n_samples - 1) for estimation.\n",
      "  % (self.n_neighbors, n_samples))\n",
      "/home/charles/anaconda3/envs/torch/lib/python3.7/site-packages/sklearn/neighbors/_lof.py:277: UserWarning: n_neighbors (10) is greater than the total number of samples (7). n_neighbors will be set to (n_samples - 1) for estimation.\n",
      "  % (self.n_neighbors, n_samples))\n",
      "/home/charles/anaconda3/envs/torch/lib/python3.7/site-packages/sklearn/neighbors/_lof.py:277: UserWarning: n_neighbors (10) is greater than the total number of samples (7). n_neighbors will be set to (n_samples - 1) for estimation.\n",
      "  % (self.n_neighbors, n_samples))\n",
      "/home/charles/anaconda3/envs/torch/lib/python3.7/site-packages/sklearn/neighbors/_lof.py:277: UserWarning: n_neighbors (10) is greater than the total number of samples (7). n_neighbors will be set to (n_samples - 1) for estimation.\n",
      "  % (self.n_neighbors, n_samples))\n",
      "/home/charles/anaconda3/envs/torch/lib/python3.7/site-packages/sklearn/neighbors/_lof.py:277: UserWarning: n_neighbors (10) is greater than the total number of samples (7). n_neighbors will be set to (n_samples - 1) for estimation.\n",
      "  % (self.n_neighbors, n_samples))\n",
      "/home/charles/anaconda3/envs/torch/lib/python3.7/site-packages/sklearn/neighbors/_lof.py:277: UserWarning: n_neighbors (10) is greater than the total number of samples (7). n_neighbors will be set to (n_samples - 1) for estimation.\n",
      "  % (self.n_neighbors, n_samples))\n",
      "/home/charles/anaconda3/envs/torch/lib/python3.7/site-packages/sklearn/neighbors/_lof.py:277: UserWarning: n_neighbors (10) is greater than the total number of samples (7). n_neighbors will be set to (n_samples - 1) for estimation.\n",
      "  % (self.n_neighbors, n_samples))\n",
      "/home/charles/anaconda3/envs/torch/lib/python3.7/site-packages/sklearn/neighbors/_lof.py:277: UserWarning: n_neighbors (10) is greater than the total number of samples (7). n_neighbors will be set to (n_samples - 1) for estimation.\n",
      "  % (self.n_neighbors, n_samples))\n",
      "/home/charles/anaconda3/envs/torch/lib/python3.7/site-packages/sklearn/neighbors/_lof.py:277: UserWarning: n_neighbors (10) is greater than the total number of samples (7). n_neighbors will be set to (n_samples - 1) for estimation.\n",
      "  % (self.n_neighbors, n_samples))\n",
      "/home/charles/anaconda3/envs/torch/lib/python3.7/site-packages/sklearn/neighbors/_lof.py:277: UserWarning: n_neighbors (10) is greater than the total number of samples (7). n_neighbors will be set to (n_samples - 1) for estimation.\n",
      "  % (self.n_neighbors, n_samples))\n",
      "/home/charles/anaconda3/envs/torch/lib/python3.7/site-packages/sklearn/neighbors/_lof.py:277: UserWarning: n_neighbors (10) is greater than the total number of samples (7). n_neighbors will be set to (n_samples - 1) for estimation.\n",
      "  % (self.n_neighbors, n_samples))\n",
      "/home/charles/anaconda3/envs/torch/lib/python3.7/site-packages/sklearn/neighbors/_lof.py:277: UserWarning: n_neighbors (10) is greater than the total number of samples (7). n_neighbors will be set to (n_samples - 1) for estimation.\n",
      "  % (self.n_neighbors, n_samples))\n",
      "/home/charles/anaconda3/envs/torch/lib/python3.7/site-packages/sklearn/neighbors/_lof.py:277: UserWarning: n_neighbors (10) is greater than the total number of samples (7). n_neighbors will be set to (n_samples - 1) for estimation.\n",
      "  % (self.n_neighbors, n_samples))\n",
      "/home/charles/anaconda3/envs/torch/lib/python3.7/site-packages/sklearn/neighbors/_lof.py:277: UserWarning: n_neighbors (10) is greater than the total number of samples (7). n_neighbors will be set to (n_samples - 1) for estimation.\n",
      "  % (self.n_neighbors, n_samples))\n",
      "/home/charles/anaconda3/envs/torch/lib/python3.7/site-packages/sklearn/neighbors/_lof.py:277: UserWarning: n_neighbors (10) is greater than the total number of samples (7). n_neighbors will be set to (n_samples - 1) for estimation.\n",
      "  % (self.n_neighbors, n_samples))\n",
      "/home/charles/anaconda3/envs/torch/lib/python3.7/site-packages/sklearn/neighbors/_lof.py:277: UserWarning: n_neighbors (10) is greater than the total number of samples (7). n_neighbors will be set to (n_samples - 1) for estimation.\n",
      "  % (self.n_neighbors, n_samples))\n",
      "/home/charles/anaconda3/envs/torch/lib/python3.7/site-packages/sklearn/neighbors/_lof.py:277: UserWarning: n_neighbors (10) is greater than the total number of samples (7). n_neighbors will be set to (n_samples - 1) for estimation.\n",
      "  % (self.n_neighbors, n_samples))\n",
      "/home/charles/anaconda3/envs/torch/lib/python3.7/site-packages/sklearn/neighbors/_lof.py:277: UserWarning: n_neighbors (10) is greater than the total number of samples (7). n_neighbors will be set to (n_samples - 1) for estimation.\n",
      "  % (self.n_neighbors, n_samples))\n",
      "/home/charles/anaconda3/envs/torch/lib/python3.7/site-packages/sklearn/neighbors/_lof.py:277: UserWarning: n_neighbors (10) is greater than the total number of samples (7). n_neighbors will be set to (n_samples - 1) for estimation.\n",
      "  % (self.n_neighbors, n_samples))\n",
      "/home/charles/anaconda3/envs/torch/lib/python3.7/site-packages/sklearn/neighbors/_lof.py:277: UserWarning: n_neighbors (10) is greater than the total number of samples (7). n_neighbors will be set to (n_samples - 1) for estimation.\n",
      "  % (self.n_neighbors, n_samples))\n",
      "/home/charles/anaconda3/envs/torch/lib/python3.7/site-packages/sklearn/neighbors/_lof.py:277: UserWarning: n_neighbors (10) is greater than the total number of samples (7). n_neighbors will be set to (n_samples - 1) for estimation.\n",
      "  % (self.n_neighbors, n_samples))\n",
      "/home/charles/anaconda3/envs/torch/lib/python3.7/site-packages/sklearn/neighbors/_lof.py:277: UserWarning: n_neighbors (10) is greater than the total number of samples (7). n_neighbors will be set to (n_samples - 1) for estimation.\n",
      "  % (self.n_neighbors, n_samples))\n",
      "/home/charles/anaconda3/envs/torch/lib/python3.7/site-packages/sklearn/neighbors/_lof.py:277: UserWarning: n_neighbors (10) is greater than the total number of samples (7). n_neighbors will be set to (n_samples - 1) for estimation.\n",
      "  % (self.n_neighbors, n_samples))\n",
      "/home/charles/anaconda3/envs/torch/lib/python3.7/site-packages/sklearn/neighbors/_lof.py:277: UserWarning: n_neighbors (10) is greater than the total number of samples (7). n_neighbors will be set to (n_samples - 1) for estimation.\n",
      "  % (self.n_neighbors, n_samples))\n",
      "/home/charles/anaconda3/envs/torch/lib/python3.7/site-packages/sklearn/neighbors/_lof.py:277: UserWarning: n_neighbors (10) is greater than the total number of samples (7). n_neighbors will be set to (n_samples - 1) for estimation.\n",
      "  % (self.n_neighbors, n_samples))\n",
      "/home/charles/anaconda3/envs/torch/lib/python3.7/site-packages/sklearn/neighbors/_lof.py:277: UserWarning: n_neighbors (10) is greater than the total number of samples (7). n_neighbors will be set to (n_samples - 1) for estimation.\n",
      "  % (self.n_neighbors, n_samples))\n",
      "/home/charles/anaconda3/envs/torch/lib/python3.7/site-packages/sklearn/neighbors/_lof.py:277: UserWarning: n_neighbors (10) is greater than the total number of samples (7). n_neighbors will be set to (n_samples - 1) for estimation.\n",
      "  % (self.n_neighbors, n_samples))\n",
      "/home/charles/anaconda3/envs/torch/lib/python3.7/site-packages/sklearn/neighbors/_lof.py:277: UserWarning: n_neighbors (10) is greater than the total number of samples (7). n_neighbors will be set to (n_samples - 1) for estimation.\n",
      "  % (self.n_neighbors, n_samples))\n",
      "/home/charles/anaconda3/envs/torch/lib/python3.7/site-packages/sklearn/neighbors/_lof.py:277: UserWarning: n_neighbors (10) is greater than the total number of samples (7). n_neighbors will be set to (n_samples - 1) for estimation.\n",
      "  % (self.n_neighbors, n_samples))\n",
      "/home/charles/anaconda3/envs/torch/lib/python3.7/site-packages/sklearn/neighbors/_lof.py:277: UserWarning: n_neighbors (10) is greater than the total number of samples (7). n_neighbors will be set to (n_samples - 1) for estimation.\n",
      "  % (self.n_neighbors, n_samples))\n",
      "/home/charles/anaconda3/envs/torch/lib/python3.7/site-packages/sklearn/neighbors/_lof.py:277: UserWarning: n_neighbors (10) is greater than the total number of samples (7). n_neighbors will be set to (n_samples - 1) for estimation.\n",
      "  % (self.n_neighbors, n_samples))\n",
      "/home/charles/anaconda3/envs/torch/lib/python3.7/site-packages/sklearn/neighbors/_lof.py:277: UserWarning: n_neighbors (10) is greater than the total number of samples (7). n_neighbors will be set to (n_samples - 1) for estimation.\n",
      "  % (self.n_neighbors, n_samples))\n",
      "/home/charles/anaconda3/envs/torch/lib/python3.7/site-packages/sklearn/neighbors/_lof.py:277: UserWarning: n_neighbors (10) is greater than the total number of samples (7). n_neighbors will be set to (n_samples - 1) for estimation.\n",
      "  % (self.n_neighbors, n_samples))\n",
      "/home/charles/anaconda3/envs/torch/lib/python3.7/site-packages/sklearn/neighbors/_lof.py:277: UserWarning: n_neighbors (10) is greater than the total number of samples (7). n_neighbors will be set to (n_samples - 1) for estimation.\n",
      "  % (self.n_neighbors, n_samples))\n",
      "/home/charles/anaconda3/envs/torch/lib/python3.7/site-packages/sklearn/neighbors/_lof.py:277: UserWarning: n_neighbors (10) is greater than the total number of samples (7). n_neighbors will be set to (n_samples - 1) for estimation.\n",
      "  % (self.n_neighbors, n_samples))\n",
      "/home/charles/anaconda3/envs/torch/lib/python3.7/site-packages/sklearn/neighbors/_lof.py:277: UserWarning: n_neighbors (10) is greater than the total number of samples (7). n_neighbors will be set to (n_samples - 1) for estimation.\n",
      "  % (self.n_neighbors, n_samples))\n",
      "/home/charles/anaconda3/envs/torch/lib/python3.7/site-packages/sklearn/neighbors/_lof.py:277: UserWarning: n_neighbors (10) is greater than the total number of samples (7). n_neighbors will be set to (n_samples - 1) for estimation.\n",
      "  % (self.n_neighbors, n_samples))\n",
      "/home/charles/anaconda3/envs/torch/lib/python3.7/site-packages/sklearn/neighbors/_lof.py:277: UserWarning: n_neighbors (10) is greater than the total number of samples (7). n_neighbors will be set to (n_samples - 1) for estimation.\n",
      "  % (self.n_neighbors, n_samples))\n",
      "/home/charles/anaconda3/envs/torch/lib/python3.7/site-packages/sklearn/neighbors/_lof.py:277: UserWarning: n_neighbors (10) is greater than the total number of samples (7). n_neighbors will be set to (n_samples - 1) for estimation.\n",
      "  % (self.n_neighbors, n_samples))\n",
      "/home/charles/anaconda3/envs/torch/lib/python3.7/site-packages/sklearn/neighbors/_lof.py:277: UserWarning: n_neighbors (10) is greater than the total number of samples (7). n_neighbors will be set to (n_samples - 1) for estimation.\n",
      "  % (self.n_neighbors, n_samples))\n",
      "/home/charles/anaconda3/envs/torch/lib/python3.7/site-packages/sklearn/neighbors/_lof.py:277: UserWarning: n_neighbors (10) is greater than the total number of samples (7). n_neighbors will be set to (n_samples - 1) for estimation.\n",
      "  % (self.n_neighbors, n_samples))\n",
      "/home/charles/anaconda3/envs/torch/lib/python3.7/site-packages/sklearn/neighbors/_lof.py:277: UserWarning: n_neighbors (10) is greater than the total number of samples (7). n_neighbors will be set to (n_samples - 1) for estimation.\n",
      "  % (self.n_neighbors, n_samples))\n",
      "/home/charles/anaconda3/envs/torch/lib/python3.7/site-packages/sklearn/neighbors/_lof.py:277: UserWarning: n_neighbors (10) is greater than the total number of samples (7). n_neighbors will be set to (n_samples - 1) for estimation.\n",
      "  % (self.n_neighbors, n_samples))\n",
      "/home/charles/anaconda3/envs/torch/lib/python3.7/site-packages/sklearn/neighbors/_lof.py:277: UserWarning: n_neighbors (10) is greater than the total number of samples (7). n_neighbors will be set to (n_samples - 1) for estimation.\n",
      "  % (self.n_neighbors, n_samples))\n",
      "/home/charles/anaconda3/envs/torch/lib/python3.7/site-packages/sklearn/neighbors/_lof.py:277: UserWarning: n_neighbors (10) is greater than the total number of samples (7). n_neighbors will be set to (n_samples - 1) for estimation.\n",
      "  % (self.n_neighbors, n_samples))\n",
      "/home/charles/anaconda3/envs/torch/lib/python3.7/site-packages/sklearn/neighbors/_lof.py:277: UserWarning: n_neighbors (10) is greater than the total number of samples (7). n_neighbors will be set to (n_samples - 1) for estimation.\n",
      "  % (self.n_neighbors, n_samples))\n",
      "/home/charles/anaconda3/envs/torch/lib/python3.7/site-packages/sklearn/neighbors/_lof.py:277: UserWarning: n_neighbors (10) is greater than the total number of samples (7). n_neighbors will be set to (n_samples - 1) for estimation.\n",
      "  % (self.n_neighbors, n_samples))\n",
      "/home/charles/anaconda3/envs/torch/lib/python3.7/site-packages/sklearn/neighbors/_lof.py:277: UserWarning: n_neighbors (10) is greater than the total number of samples (7). n_neighbors will be set to (n_samples - 1) for estimation.\n",
      "  % (self.n_neighbors, n_samples))\n",
      "/home/charles/anaconda3/envs/torch/lib/python3.7/site-packages/sklearn/neighbors/_lof.py:277: UserWarning: n_neighbors (10) is greater than the total number of samples (7). n_neighbors will be set to (n_samples - 1) for estimation.\n",
      "  % (self.n_neighbors, n_samples))\n",
      "/home/charles/anaconda3/envs/torch/lib/python3.7/site-packages/sklearn/neighbors/_lof.py:277: UserWarning: n_neighbors (10) is greater than the total number of samples (7). n_neighbors will be set to (n_samples - 1) for estimation.\n",
      "  % (self.n_neighbors, n_samples))\n",
      "/home/charles/anaconda3/envs/torch/lib/python3.7/site-packages/sklearn/neighbors/_lof.py:277: UserWarning: n_neighbors (10) is greater than the total number of samples (7). n_neighbors will be set to (n_samples - 1) for estimation.\n",
      "  % (self.n_neighbors, n_samples))\n",
      "/home/charles/anaconda3/envs/torch/lib/python3.7/site-packages/sklearn/neighbors/_lof.py:277: UserWarning: n_neighbors (10) is greater than the total number of samples (7). n_neighbors will be set to (n_samples - 1) for estimation.\n",
      "  % (self.n_neighbors, n_samples))\n",
      "/home/charles/anaconda3/envs/torch/lib/python3.7/site-packages/sklearn/neighbors/_lof.py:277: UserWarning: n_neighbors (10) is greater than the total number of samples (7). n_neighbors will be set to (n_samples - 1) for estimation.\n",
      "  % (self.n_neighbors, n_samples))\n",
      "/home/charles/anaconda3/envs/torch/lib/python3.7/site-packages/sklearn/neighbors/_lof.py:277: UserWarning: n_neighbors (10) is greater than the total number of samples (7). n_neighbors will be set to (n_samples - 1) for estimation.\n",
      "  % (self.n_neighbors, n_samples))\n",
      "/home/charles/anaconda3/envs/torch/lib/python3.7/site-packages/sklearn/neighbors/_lof.py:277: UserWarning: n_neighbors (10) is greater than the total number of samples (7). n_neighbors will be set to (n_samples - 1) for estimation.\n",
      "  % (self.n_neighbors, n_samples))\n",
      "/home/charles/anaconda3/envs/torch/lib/python3.7/site-packages/sklearn/neighbors/_lof.py:277: UserWarning: n_neighbors (10) is greater than the total number of samples (7). n_neighbors will be set to (n_samples - 1) for estimation.\n",
      "  % (self.n_neighbors, n_samples))\n",
      "/home/charles/anaconda3/envs/torch/lib/python3.7/site-packages/sklearn/neighbors/_lof.py:277: UserWarning: n_neighbors (10) is greater than the total number of samples (7). n_neighbors will be set to (n_samples - 1) for estimation.\n",
      "  % (self.n_neighbors, n_samples))\n",
      "/home/charles/anaconda3/envs/torch/lib/python3.7/site-packages/sklearn/neighbors/_lof.py:277: UserWarning: n_neighbors (10) is greater than the total number of samples (7). n_neighbors will be set to (n_samples - 1) for estimation.\n",
      "  % (self.n_neighbors, n_samples))\n",
      "/home/charles/anaconda3/envs/torch/lib/python3.7/site-packages/sklearn/neighbors/_lof.py:277: UserWarning: n_neighbors (10) is greater than the total number of samples (7). n_neighbors will be set to (n_samples - 1) for estimation.\n",
      "  % (self.n_neighbors, n_samples))\n",
      "/home/charles/anaconda3/envs/torch/lib/python3.7/site-packages/sklearn/neighbors/_lof.py:277: UserWarning: n_neighbors (10) is greater than the total number of samples (7). n_neighbors will be set to (n_samples - 1) for estimation.\n",
      "  % (self.n_neighbors, n_samples))\n",
      "/home/charles/anaconda3/envs/torch/lib/python3.7/site-packages/sklearn/neighbors/_lof.py:277: UserWarning: n_neighbors (10) is greater than the total number of samples (7). n_neighbors will be set to (n_samples - 1) for estimation.\n",
      "  % (self.n_neighbors, n_samples))\n",
      "/home/charles/anaconda3/envs/torch/lib/python3.7/site-packages/sklearn/neighbors/_lof.py:277: UserWarning: n_neighbors (10) is greater than the total number of samples (7). n_neighbors will be set to (n_samples - 1) for estimation.\n",
      "  % (self.n_neighbors, n_samples))\n",
      "/home/charles/anaconda3/envs/torch/lib/python3.7/site-packages/sklearn/neighbors/_lof.py:277: UserWarning: n_neighbors (10) is greater than the total number of samples (7). n_neighbors will be set to (n_samples - 1) for estimation.\n",
      "  % (self.n_neighbors, n_samples))\n",
      "/home/charles/anaconda3/envs/torch/lib/python3.7/site-packages/sklearn/neighbors/_lof.py:277: UserWarning: n_neighbors (10) is greater than the total number of samples (7). n_neighbors will be set to (n_samples - 1) for estimation.\n",
      "  % (self.n_neighbors, n_samples))\n",
      "/home/charles/anaconda3/envs/torch/lib/python3.7/site-packages/sklearn/neighbors/_lof.py:277: UserWarning: n_neighbors (10) is greater than the total number of samples (7). n_neighbors will be set to (n_samples - 1) for estimation.\n",
      "  % (self.n_neighbors, n_samples))\n",
      "/home/charles/anaconda3/envs/torch/lib/python3.7/site-packages/sklearn/neighbors/_lof.py:277: UserWarning: n_neighbors (10) is greater than the total number of samples (7). n_neighbors will be set to (n_samples - 1) for estimation.\n",
      "  % (self.n_neighbors, n_samples))\n",
      "/home/charles/anaconda3/envs/torch/lib/python3.7/site-packages/sklearn/neighbors/_lof.py:277: UserWarning: n_neighbors (10) is greater than the total number of samples (7). n_neighbors will be set to (n_samples - 1) for estimation.\n",
      "  % (self.n_neighbors, n_samples))\n",
      "/home/charles/anaconda3/envs/torch/lib/python3.7/site-packages/sklearn/neighbors/_lof.py:277: UserWarning: n_neighbors (10) is greater than the total number of samples (7). n_neighbors will be set to (n_samples - 1) for estimation.\n",
      "  % (self.n_neighbors, n_samples))\n",
      "/home/charles/anaconda3/envs/torch/lib/python3.7/site-packages/sklearn/neighbors/_lof.py:277: UserWarning: n_neighbors (10) is greater than the total number of samples (7). n_neighbors will be set to (n_samples - 1) for estimation.\n",
      "  % (self.n_neighbors, n_samples))\n",
      "/home/charles/anaconda3/envs/torch/lib/python3.7/site-packages/sklearn/neighbors/_lof.py:277: UserWarning: n_neighbors (10) is greater than the total number of samples (7). n_neighbors will be set to (n_samples - 1) for estimation.\n",
      "  % (self.n_neighbors, n_samples))\n",
      "/home/charles/anaconda3/envs/torch/lib/python3.7/site-packages/sklearn/neighbors/_lof.py:277: UserWarning: n_neighbors (10) is greater than the total number of samples (7). n_neighbors will be set to (n_samples - 1) for estimation.\n",
      "  % (self.n_neighbors, n_samples))\n",
      "/home/charles/anaconda3/envs/torch/lib/python3.7/site-packages/sklearn/neighbors/_lof.py:277: UserWarning: n_neighbors (10) is greater than the total number of samples (7). n_neighbors will be set to (n_samples - 1) for estimation.\n",
      "  % (self.n_neighbors, n_samples))\n",
      "/home/charles/anaconda3/envs/torch/lib/python3.7/site-packages/sklearn/neighbors/_lof.py:277: UserWarning: n_neighbors (10) is greater than the total number of samples (7). n_neighbors will be set to (n_samples - 1) for estimation.\n",
      "  % (self.n_neighbors, n_samples))\n",
      "/home/charles/anaconda3/envs/torch/lib/python3.7/site-packages/sklearn/neighbors/_lof.py:277: UserWarning: n_neighbors (10) is greater than the total number of samples (7). n_neighbors will be set to (n_samples - 1) for estimation.\n",
      "  % (self.n_neighbors, n_samples))\n",
      "/home/charles/anaconda3/envs/torch/lib/python3.7/site-packages/sklearn/neighbors/_lof.py:277: UserWarning: n_neighbors (10) is greater than the total number of samples (7). n_neighbors will be set to (n_samples - 1) for estimation.\n",
      "  % (self.n_neighbors, n_samples))\n",
      "/home/charles/anaconda3/envs/torch/lib/python3.7/site-packages/sklearn/neighbors/_lof.py:277: UserWarning: n_neighbors (10) is greater than the total number of samples (7). n_neighbors will be set to (n_samples - 1) for estimation.\n",
      "  % (self.n_neighbors, n_samples))\n",
      "/home/charles/anaconda3/envs/torch/lib/python3.7/site-packages/sklearn/neighbors/_lof.py:277: UserWarning: n_neighbors (10) is greater than the total number of samples (7). n_neighbors will be set to (n_samples - 1) for estimation.\n",
      "  % (self.n_neighbors, n_samples))\n",
      "/home/charles/anaconda3/envs/torch/lib/python3.7/site-packages/sklearn/neighbors/_lof.py:277: UserWarning: n_neighbors (10) is greater than the total number of samples (7). n_neighbors will be set to (n_samples - 1) for estimation.\n",
      "  % (self.n_neighbors, n_samples))\n",
      "/home/charles/anaconda3/envs/torch/lib/python3.7/site-packages/sklearn/neighbors/_lof.py:277: UserWarning: n_neighbors (10) is greater than the total number of samples (7). n_neighbors will be set to (n_samples - 1) for estimation.\n",
      "  % (self.n_neighbors, n_samples))\n",
      "/home/charles/anaconda3/envs/torch/lib/python3.7/site-packages/sklearn/neighbors/_lof.py:277: UserWarning: n_neighbors (10) is greater than the total number of samples (7). n_neighbors will be set to (n_samples - 1) for estimation.\n",
      "  % (self.n_neighbors, n_samples))\n",
      "/home/charles/anaconda3/envs/torch/lib/python3.7/site-packages/sklearn/neighbors/_lof.py:277: UserWarning: n_neighbors (10) is greater than the total number of samples (7). n_neighbors will be set to (n_samples - 1) for estimation.\n",
      "  % (self.n_neighbors, n_samples))\n",
      "/home/charles/anaconda3/envs/torch/lib/python3.7/site-packages/sklearn/neighbors/_lof.py:277: UserWarning: n_neighbors (10) is greater than the total number of samples (7). n_neighbors will be set to (n_samples - 1) for estimation.\n",
      "  % (self.n_neighbors, n_samples))\n",
      "/home/charles/anaconda3/envs/torch/lib/python3.7/site-packages/sklearn/neighbors/_lof.py:277: UserWarning: n_neighbors (10) is greater than the total number of samples (7). n_neighbors will be set to (n_samples - 1) for estimation.\n",
      "  % (self.n_neighbors, n_samples))\n",
      "/home/charles/anaconda3/envs/torch/lib/python3.7/site-packages/sklearn/neighbors/_lof.py:277: UserWarning: n_neighbors (10) is greater than the total number of samples (7). n_neighbors will be set to (n_samples - 1) for estimation.\n",
      "  % (self.n_neighbors, n_samples))\n",
      "/home/charles/anaconda3/envs/torch/lib/python3.7/site-packages/sklearn/neighbors/_lof.py:277: UserWarning: n_neighbors (10) is greater than the total number of samples (7). n_neighbors will be set to (n_samples - 1) for estimation.\n",
      "  % (self.n_neighbors, n_samples))\n",
      "/home/charles/anaconda3/envs/torch/lib/python3.7/site-packages/sklearn/neighbors/_lof.py:277: UserWarning: n_neighbors (10) is greater than the total number of samples (7). n_neighbors will be set to (n_samples - 1) for estimation.\n",
      "  % (self.n_neighbors, n_samples))\n",
      "/home/charles/anaconda3/envs/torch/lib/python3.7/site-packages/sklearn/neighbors/_lof.py:277: UserWarning: n_neighbors (10) is greater than the total number of samples (7). n_neighbors will be set to (n_samples - 1) for estimation.\n",
      "  % (self.n_neighbors, n_samples))\n",
      "/home/charles/anaconda3/envs/torch/lib/python3.7/site-packages/sklearn/neighbors/_lof.py:277: UserWarning: n_neighbors (10) is greater than the total number of samples (7). n_neighbors will be set to (n_samples - 1) for estimation.\n",
      "  % (self.n_neighbors, n_samples))\n",
      "/home/charles/anaconda3/envs/torch/lib/python3.7/site-packages/sklearn/neighbors/_lof.py:277: UserWarning: n_neighbors (10) is greater than the total number of samples (7). n_neighbors will be set to (n_samples - 1) for estimation.\n",
      "  % (self.n_neighbors, n_samples))\n",
      "/home/charles/anaconda3/envs/torch/lib/python3.7/site-packages/sklearn/neighbors/_lof.py:277: UserWarning: n_neighbors (10) is greater than the total number of samples (7). n_neighbors will be set to (n_samples - 1) for estimation.\n",
      "  % (self.n_neighbors, n_samples))\n",
      "/home/charles/anaconda3/envs/torch/lib/python3.7/site-packages/sklearn/neighbors/_lof.py:277: UserWarning: n_neighbors (10) is greater than the total number of samples (7). n_neighbors will be set to (n_samples - 1) for estimation.\n",
      "  % (self.n_neighbors, n_samples))\n",
      "/home/charles/anaconda3/envs/torch/lib/python3.7/site-packages/sklearn/neighbors/_lof.py:277: UserWarning: n_neighbors (10) is greater than the total number of samples (7). n_neighbors will be set to (n_samples - 1) for estimation.\n",
      "  % (self.n_neighbors, n_samples))\n",
      "/home/charles/anaconda3/envs/torch/lib/python3.7/site-packages/sklearn/neighbors/_lof.py:277: UserWarning: n_neighbors (10) is greater than the total number of samples (7). n_neighbors will be set to (n_samples - 1) for estimation.\n",
      "  % (self.n_neighbors, n_samples))\n",
      "/home/charles/anaconda3/envs/torch/lib/python3.7/site-packages/sklearn/neighbors/_lof.py:277: UserWarning: n_neighbors (10) is greater than the total number of samples (7). n_neighbors will be set to (n_samples - 1) for estimation.\n",
      "  % (self.n_neighbors, n_samples))\n",
      "/home/charles/anaconda3/envs/torch/lib/python3.7/site-packages/sklearn/neighbors/_lof.py:277: UserWarning: n_neighbors (10) is greater than the total number of samples (7). n_neighbors will be set to (n_samples - 1) for estimation.\n",
      "  % (self.n_neighbors, n_samples))\n",
      "/home/charles/anaconda3/envs/torch/lib/python3.7/site-packages/sklearn/neighbors/_lof.py:277: UserWarning: n_neighbors (10) is greater than the total number of samples (7). n_neighbors will be set to (n_samples - 1) for estimation.\n",
      "  % (self.n_neighbors, n_samples))\n",
      "/home/charles/anaconda3/envs/torch/lib/python3.7/site-packages/sklearn/neighbors/_lof.py:277: UserWarning: n_neighbors (10) is greater than the total number of samples (7). n_neighbors will be set to (n_samples - 1) for estimation.\n",
      "  % (self.n_neighbors, n_samples))\n",
      "/home/charles/anaconda3/envs/torch/lib/python3.7/site-packages/sklearn/neighbors/_lof.py:277: UserWarning: n_neighbors (10) is greater than the total number of samples (7). n_neighbors will be set to (n_samples - 1) for estimation.\n",
      "  % (self.n_neighbors, n_samples))\n",
      "/home/charles/anaconda3/envs/torch/lib/python3.7/site-packages/sklearn/neighbors/_lof.py:277: UserWarning: n_neighbors (10) is greater than the total number of samples (7). n_neighbors will be set to (n_samples - 1) for estimation.\n",
      "  % (self.n_neighbors, n_samples))\n",
      "/home/charles/anaconda3/envs/torch/lib/python3.7/site-packages/sklearn/neighbors/_lof.py:277: UserWarning: n_neighbors (10) is greater than the total number of samples (7). n_neighbors will be set to (n_samples - 1) for estimation.\n",
      "  % (self.n_neighbors, n_samples))\n",
      "/home/charles/anaconda3/envs/torch/lib/python3.7/site-packages/sklearn/neighbors/_lof.py:277: UserWarning: n_neighbors (10) is greater than the total number of samples (7). n_neighbors will be set to (n_samples - 1) for estimation.\n",
      "  % (self.n_neighbors, n_samples))\n",
      "/home/charles/anaconda3/envs/torch/lib/python3.7/site-packages/sklearn/neighbors/_lof.py:277: UserWarning: n_neighbors (10) is greater than the total number of samples (7). n_neighbors will be set to (n_samples - 1) for estimation.\n",
      "  % (self.n_neighbors, n_samples))\n",
      "/home/charles/anaconda3/envs/torch/lib/python3.7/site-packages/sklearn/neighbors/_lof.py:277: UserWarning: n_neighbors (10) is greater than the total number of samples (7). n_neighbors will be set to (n_samples - 1) for estimation.\n",
      "  % (self.n_neighbors, n_samples))\n",
      "/home/charles/anaconda3/envs/torch/lib/python3.7/site-packages/sklearn/neighbors/_lof.py:277: UserWarning: n_neighbors (10) is greater than the total number of samples (7). n_neighbors will be set to (n_samples - 1) for estimation.\n",
      "  % (self.n_neighbors, n_samples))\n",
      "/home/charles/anaconda3/envs/torch/lib/python3.7/site-packages/sklearn/neighbors/_lof.py:277: UserWarning: n_neighbors (10) is greater than the total number of samples (7). n_neighbors will be set to (n_samples - 1) for estimation.\n",
      "  % (self.n_neighbors, n_samples))\n",
      "/home/charles/anaconda3/envs/torch/lib/python3.7/site-packages/sklearn/neighbors/_lof.py:277: UserWarning: n_neighbors (10) is greater than the total number of samples (7). n_neighbors will be set to (n_samples - 1) for estimation.\n",
      "  % (self.n_neighbors, n_samples))\n",
      "/home/charles/anaconda3/envs/torch/lib/python3.7/site-packages/sklearn/neighbors/_lof.py:277: UserWarning: n_neighbors (10) is greater than the total number of samples (7). n_neighbors will be set to (n_samples - 1) for estimation.\n",
      "  % (self.n_neighbors, n_samples))\n",
      "/home/charles/anaconda3/envs/torch/lib/python3.7/site-packages/sklearn/neighbors/_lof.py:277: UserWarning: n_neighbors (10) is greater than the total number of samples (7). n_neighbors will be set to (n_samples - 1) for estimation.\n",
      "  % (self.n_neighbors, n_samples))\n",
      "/home/charles/anaconda3/envs/torch/lib/python3.7/site-packages/sklearn/neighbors/_lof.py:277: UserWarning: n_neighbors (10) is greater than the total number of samples (7). n_neighbors will be set to (n_samples - 1) for estimation.\n",
      "  % (self.n_neighbors, n_samples))\n",
      "/home/charles/anaconda3/envs/torch/lib/python3.7/site-packages/sklearn/neighbors/_lof.py:277: UserWarning: n_neighbors (10) is greater than the total number of samples (7). n_neighbors will be set to (n_samples - 1) for estimation.\n",
      "  % (self.n_neighbors, n_samples))\n",
      "/home/charles/anaconda3/envs/torch/lib/python3.7/site-packages/sklearn/neighbors/_lof.py:277: UserWarning: n_neighbors (10) is greater than the total number of samples (7). n_neighbors will be set to (n_samples - 1) for estimation.\n",
      "  % (self.n_neighbors, n_samples))\n",
      "/home/charles/anaconda3/envs/torch/lib/python3.7/site-packages/sklearn/neighbors/_lof.py:277: UserWarning: n_neighbors (10) is greater than the total number of samples (7). n_neighbors will be set to (n_samples - 1) for estimation.\n",
      "  % (self.n_neighbors, n_samples))\n",
      "/home/charles/anaconda3/envs/torch/lib/python3.7/site-packages/sklearn/neighbors/_lof.py:277: UserWarning: n_neighbors (10) is greater than the total number of samples (7). n_neighbors will be set to (n_samples - 1) for estimation.\n",
      "  % (self.n_neighbors, n_samples))\n",
      "/home/charles/anaconda3/envs/torch/lib/python3.7/site-packages/sklearn/neighbors/_lof.py:277: UserWarning: n_neighbors (10) is greater than the total number of samples (7). n_neighbors will be set to (n_samples - 1) for estimation.\n",
      "  % (self.n_neighbors, n_samples))\n",
      "/home/charles/anaconda3/envs/torch/lib/python3.7/site-packages/sklearn/neighbors/_lof.py:277: UserWarning: n_neighbors (10) is greater than the total number of samples (7). n_neighbors will be set to (n_samples - 1) for estimation.\n",
      "  % (self.n_neighbors, n_samples))\n",
      "/home/charles/anaconda3/envs/torch/lib/python3.7/site-packages/sklearn/neighbors/_lof.py:277: UserWarning: n_neighbors (10) is greater than the total number of samples (7). n_neighbors will be set to (n_samples - 1) for estimation.\n",
      "  % (self.n_neighbors, n_samples))\n",
      "/home/charles/anaconda3/envs/torch/lib/python3.7/site-packages/sklearn/neighbors/_lof.py:277: UserWarning: n_neighbors (10) is greater than the total number of samples (7). n_neighbors will be set to (n_samples - 1) for estimation.\n",
      "  % (self.n_neighbors, n_samples))\n",
      "/home/charles/anaconda3/envs/torch/lib/python3.7/site-packages/sklearn/neighbors/_lof.py:277: UserWarning: n_neighbors (10) is greater than the total number of samples (7). n_neighbors will be set to (n_samples - 1) for estimation.\n",
      "  % (self.n_neighbors, n_samples))\n",
      "/home/charles/anaconda3/envs/torch/lib/python3.7/site-packages/sklearn/neighbors/_lof.py:277: UserWarning: n_neighbors (10) is greater than the total number of samples (7). n_neighbors will be set to (n_samples - 1) for estimation.\n",
      "  % (self.n_neighbors, n_samples))\n",
      "/home/charles/anaconda3/envs/torch/lib/python3.7/site-packages/sklearn/neighbors/_lof.py:277: UserWarning: n_neighbors (10) is greater than the total number of samples (7). n_neighbors will be set to (n_samples - 1) for estimation.\n",
      "  % (self.n_neighbors, n_samples))\n",
      "/home/charles/anaconda3/envs/torch/lib/python3.7/site-packages/sklearn/neighbors/_lof.py:277: UserWarning: n_neighbors (10) is greater than the total number of samples (7). n_neighbors will be set to (n_samples - 1) for estimation.\n",
      "  % (self.n_neighbors, n_samples))\n",
      "/home/charles/anaconda3/envs/torch/lib/python3.7/site-packages/sklearn/neighbors/_lof.py:277: UserWarning: n_neighbors (10) is greater than the total number of samples (7). n_neighbors will be set to (n_samples - 1) for estimation.\n",
      "  % (self.n_neighbors, n_samples))\n",
      "/home/charles/anaconda3/envs/torch/lib/python3.7/site-packages/sklearn/neighbors/_lof.py:277: UserWarning: n_neighbors (10) is greater than the total number of samples (7). n_neighbors will be set to (n_samples - 1) for estimation.\n",
      "  % (self.n_neighbors, n_samples))\n",
      "/home/charles/anaconda3/envs/torch/lib/python3.7/site-packages/sklearn/neighbors/_lof.py:277: UserWarning: n_neighbors (10) is greater than the total number of samples (7). n_neighbors will be set to (n_samples - 1) for estimation.\n",
      "  % (self.n_neighbors, n_samples))\n",
      "/home/charles/anaconda3/envs/torch/lib/python3.7/site-packages/sklearn/neighbors/_lof.py:277: UserWarning: n_neighbors (10) is greater than the total number of samples (7). n_neighbors will be set to (n_samples - 1) for estimation.\n",
      "  % (self.n_neighbors, n_samples))\n",
      "/home/charles/anaconda3/envs/torch/lib/python3.7/site-packages/sklearn/neighbors/_lof.py:277: UserWarning: n_neighbors (10) is greater than the total number of samples (7). n_neighbors will be set to (n_samples - 1) for estimation.\n",
      "  % (self.n_neighbors, n_samples))\n",
      "/home/charles/anaconda3/envs/torch/lib/python3.7/site-packages/sklearn/neighbors/_lof.py:277: UserWarning: n_neighbors (10) is greater than the total number of samples (7). n_neighbors will be set to (n_samples - 1) for estimation.\n",
      "  % (self.n_neighbors, n_samples))\n",
      "/home/charles/anaconda3/envs/torch/lib/python3.7/site-packages/sklearn/neighbors/_lof.py:277: UserWarning: n_neighbors (10) is greater than the total number of samples (7). n_neighbors will be set to (n_samples - 1) for estimation.\n",
      "  % (self.n_neighbors, n_samples))\n",
      "/home/charles/anaconda3/envs/torch/lib/python3.7/site-packages/sklearn/neighbors/_lof.py:277: UserWarning: n_neighbors (10) is greater than the total number of samples (7). n_neighbors will be set to (n_samples - 1) for estimation.\n",
      "  % (self.n_neighbors, n_samples))\n",
      "/home/charles/anaconda3/envs/torch/lib/python3.7/site-packages/sklearn/neighbors/_lof.py:277: UserWarning: n_neighbors (10) is greater than the total number of samples (7). n_neighbors will be set to (n_samples - 1) for estimation.\n",
      "  % (self.n_neighbors, n_samples))\n",
      "/home/charles/anaconda3/envs/torch/lib/python3.7/site-packages/sklearn/neighbors/_lof.py:277: UserWarning: n_neighbors (10) is greater than the total number of samples (7). n_neighbors will be set to (n_samples - 1) for estimation.\n",
      "  % (self.n_neighbors, n_samples))\n",
      "/home/charles/anaconda3/envs/torch/lib/python3.7/site-packages/sklearn/neighbors/_lof.py:277: UserWarning: n_neighbors (10) is greater than the total number of samples (7). n_neighbors will be set to (n_samples - 1) for estimation.\n",
      "  % (self.n_neighbors, n_samples))\n",
      "/home/charles/anaconda3/envs/torch/lib/python3.7/site-packages/sklearn/neighbors/_lof.py:277: UserWarning: n_neighbors (10) is greater than the total number of samples (7). n_neighbors will be set to (n_samples - 1) for estimation.\n",
      "  % (self.n_neighbors, n_samples))\n",
      "/home/charles/anaconda3/envs/torch/lib/python3.7/site-packages/sklearn/neighbors/_lof.py:277: UserWarning: n_neighbors (10) is greater than the total number of samples (7). n_neighbors will be set to (n_samples - 1) for estimation.\n",
      "  % (self.n_neighbors, n_samples))\n",
      "/home/charles/anaconda3/envs/torch/lib/python3.7/site-packages/sklearn/neighbors/_lof.py:277: UserWarning: n_neighbors (10) is greater than the total number of samples (7). n_neighbors will be set to (n_samples - 1) for estimation.\n",
      "  % (self.n_neighbors, n_samples))\n",
      "/home/charles/anaconda3/envs/torch/lib/python3.7/site-packages/sklearn/neighbors/_lof.py:277: UserWarning: n_neighbors (10) is greater than the total number of samples (7). n_neighbors will be set to (n_samples - 1) for estimation.\n",
      "  % (self.n_neighbors, n_samples))\n",
      "/home/charles/anaconda3/envs/torch/lib/python3.7/site-packages/sklearn/neighbors/_lof.py:277: UserWarning: n_neighbors (10) is greater than the total number of samples (7). n_neighbors will be set to (n_samples - 1) for estimation.\n",
      "  % (self.n_neighbors, n_samples))\n",
      "/home/charles/anaconda3/envs/torch/lib/python3.7/site-packages/sklearn/neighbors/_lof.py:277: UserWarning: n_neighbors (10) is greater than the total number of samples (7). n_neighbors will be set to (n_samples - 1) for estimation.\n",
      "  % (self.n_neighbors, n_samples))\n",
      "/home/charles/anaconda3/envs/torch/lib/python3.7/site-packages/sklearn/neighbors/_lof.py:277: UserWarning: n_neighbors (10) is greater than the total number of samples (7). n_neighbors will be set to (n_samples - 1) for estimation.\n",
      "  % (self.n_neighbors, n_samples))\n",
      "/home/charles/anaconda3/envs/torch/lib/python3.7/site-packages/sklearn/neighbors/_lof.py:277: UserWarning: n_neighbors (10) is greater than the total number of samples (7). n_neighbors will be set to (n_samples - 1) for estimation.\n",
      "  % (self.n_neighbors, n_samples))\n",
      "/home/charles/anaconda3/envs/torch/lib/python3.7/site-packages/sklearn/neighbors/_lof.py:277: UserWarning: n_neighbors (10) is greater than the total number of samples (7). n_neighbors will be set to (n_samples - 1) for estimation.\n",
      "  % (self.n_neighbors, n_samples))\n",
      "/home/charles/anaconda3/envs/torch/lib/python3.7/site-packages/sklearn/neighbors/_lof.py:277: UserWarning: n_neighbors (10) is greater than the total number of samples (7). n_neighbors will be set to (n_samples - 1) for estimation.\n",
      "  % (self.n_neighbors, n_samples))\n",
      "/home/charles/anaconda3/envs/torch/lib/python3.7/site-packages/sklearn/neighbors/_lof.py:277: UserWarning: n_neighbors (10) is greater than the total number of samples (7). n_neighbors will be set to (n_samples - 1) for estimation.\n",
      "  % (self.n_neighbors, n_samples))\n",
      "/home/charles/anaconda3/envs/torch/lib/python3.7/site-packages/sklearn/neighbors/_lof.py:277: UserWarning: n_neighbors (10) is greater than the total number of samples (7). n_neighbors will be set to (n_samples - 1) for estimation.\n",
      "  % (self.n_neighbors, n_samples))\n",
      "/home/charles/anaconda3/envs/torch/lib/python3.7/site-packages/sklearn/neighbors/_lof.py:277: UserWarning: n_neighbors (10) is greater than the total number of samples (7). n_neighbors will be set to (n_samples - 1) for estimation.\n",
      "  % (self.n_neighbors, n_samples))\n",
      "/home/charles/anaconda3/envs/torch/lib/python3.7/site-packages/sklearn/neighbors/_lof.py:277: UserWarning: n_neighbors (10) is greater than the total number of samples (7). n_neighbors will be set to (n_samples - 1) for estimation.\n",
      "  % (self.n_neighbors, n_samples))\n",
      "/home/charles/anaconda3/envs/torch/lib/python3.7/site-packages/sklearn/neighbors/_lof.py:277: UserWarning: n_neighbors (10) is greater than the total number of samples (7). n_neighbors will be set to (n_samples - 1) for estimation.\n",
      "  % (self.n_neighbors, n_samples))\n",
      "/home/charles/anaconda3/envs/torch/lib/python3.7/site-packages/sklearn/neighbors/_lof.py:277: UserWarning: n_neighbors (10) is greater than the total number of samples (7). n_neighbors will be set to (n_samples - 1) for estimation.\n",
      "  % (self.n_neighbors, n_samples))\n",
      "/home/charles/anaconda3/envs/torch/lib/python3.7/site-packages/sklearn/neighbors/_lof.py:277: UserWarning: n_neighbors (10) is greater than the total number of samples (7). n_neighbors will be set to (n_samples - 1) for estimation.\n",
      "  % (self.n_neighbors, n_samples))\n",
      "/home/charles/anaconda3/envs/torch/lib/python3.7/site-packages/sklearn/neighbors/_lof.py:277: UserWarning: n_neighbors (10) is greater than the total number of samples (7). n_neighbors will be set to (n_samples - 1) for estimation.\n",
      "  % (self.n_neighbors, n_samples))\n",
      "/home/charles/anaconda3/envs/torch/lib/python3.7/site-packages/sklearn/neighbors/_lof.py:277: UserWarning: n_neighbors (10) is greater than the total number of samples (7). n_neighbors will be set to (n_samples - 1) for estimation.\n",
      "  % (self.n_neighbors, n_samples))\n",
      "/home/charles/anaconda3/envs/torch/lib/python3.7/site-packages/sklearn/neighbors/_lof.py:277: UserWarning: n_neighbors (10) is greater than the total number of samples (7). n_neighbors will be set to (n_samples - 1) for estimation.\n",
      "  % (self.n_neighbors, n_samples))\n",
      "/home/charles/anaconda3/envs/torch/lib/python3.7/site-packages/sklearn/neighbors/_lof.py:277: UserWarning: n_neighbors (10) is greater than the total number of samples (7). n_neighbors will be set to (n_samples - 1) for estimation.\n",
      "  % (self.n_neighbors, n_samples))\n",
      "/home/charles/anaconda3/envs/torch/lib/python3.7/site-packages/sklearn/neighbors/_lof.py:277: UserWarning: n_neighbors (10) is greater than the total number of samples (7). n_neighbors will be set to (n_samples - 1) for estimation.\n",
      "  % (self.n_neighbors, n_samples))\n",
      "/home/charles/anaconda3/envs/torch/lib/python3.7/site-packages/sklearn/neighbors/_lof.py:277: UserWarning: n_neighbors (10) is greater than the total number of samples (7). n_neighbors will be set to (n_samples - 1) for estimation.\n",
      "  % (self.n_neighbors, n_samples))\n",
      "/home/charles/anaconda3/envs/torch/lib/python3.7/site-packages/sklearn/neighbors/_lof.py:277: UserWarning: n_neighbors (10) is greater than the total number of samples (7). n_neighbors will be set to (n_samples - 1) for estimation.\n",
      "  % (self.n_neighbors, n_samples))\n",
      "/home/charles/anaconda3/envs/torch/lib/python3.7/site-packages/sklearn/neighbors/_lof.py:277: UserWarning: n_neighbors (10) is greater than the total number of samples (7). n_neighbors will be set to (n_samples - 1) for estimation.\n",
      "  % (self.n_neighbors, n_samples))\n",
      "/home/charles/anaconda3/envs/torch/lib/python3.7/site-packages/sklearn/neighbors/_lof.py:277: UserWarning: n_neighbors (10) is greater than the total number of samples (7). n_neighbors will be set to (n_samples - 1) for estimation.\n",
      "  % (self.n_neighbors, n_samples))\n",
      "/home/charles/anaconda3/envs/torch/lib/python3.7/site-packages/sklearn/neighbors/_lof.py:277: UserWarning: n_neighbors (10) is greater than the total number of samples (7). n_neighbors will be set to (n_samples - 1) for estimation.\n",
      "  % (self.n_neighbors, n_samples))\n",
      "/home/charles/anaconda3/envs/torch/lib/python3.7/site-packages/sklearn/neighbors/_lof.py:277: UserWarning: n_neighbors (10) is greater than the total number of samples (7). n_neighbors will be set to (n_samples - 1) for estimation.\n",
      "  % (self.n_neighbors, n_samples))\n",
      "/home/charles/anaconda3/envs/torch/lib/python3.7/site-packages/sklearn/neighbors/_lof.py:277: UserWarning: n_neighbors (10) is greater than the total number of samples (7). n_neighbors will be set to (n_samples - 1) for estimation.\n",
      "  % (self.n_neighbors, n_samples))\n",
      "/home/charles/anaconda3/envs/torch/lib/python3.7/site-packages/sklearn/neighbors/_lof.py:277: UserWarning: n_neighbors (10) is greater than the total number of samples (7). n_neighbors will be set to (n_samples - 1) for estimation.\n",
      "  % (self.n_neighbors, n_samples))\n",
      "/home/charles/anaconda3/envs/torch/lib/python3.7/site-packages/sklearn/neighbors/_lof.py:277: UserWarning: n_neighbors (10) is greater than the total number of samples (7). n_neighbors will be set to (n_samples - 1) for estimation.\n",
      "  % (self.n_neighbors, n_samples))\n",
      "/home/charles/anaconda3/envs/torch/lib/python3.7/site-packages/sklearn/neighbors/_lof.py:277: UserWarning: n_neighbors (10) is greater than the total number of samples (7). n_neighbors will be set to (n_samples - 1) for estimation.\n",
      "  % (self.n_neighbors, n_samples))\n",
      "/home/charles/anaconda3/envs/torch/lib/python3.7/site-packages/sklearn/neighbors/_lof.py:277: UserWarning: n_neighbors (10) is greater than the total number of samples (7). n_neighbors will be set to (n_samples - 1) for estimation.\n",
      "  % (self.n_neighbors, n_samples))\n",
      "/home/charles/anaconda3/envs/torch/lib/python3.7/site-packages/sklearn/neighbors/_lof.py:277: UserWarning: n_neighbors (10) is greater than the total number of samples (7). n_neighbors will be set to (n_samples - 1) for estimation.\n",
      "  % (self.n_neighbors, n_samples))\n",
      "/home/charles/anaconda3/envs/torch/lib/python3.7/site-packages/sklearn/neighbors/_lof.py:277: UserWarning: n_neighbors (10) is greater than the total number of samples (7). n_neighbors will be set to (n_samples - 1) for estimation.\n",
      "  % (self.n_neighbors, n_samples))\n",
      "/home/charles/anaconda3/envs/torch/lib/python3.7/site-packages/sklearn/neighbors/_lof.py:277: UserWarning: n_neighbors (10) is greater than the total number of samples (7). n_neighbors will be set to (n_samples - 1) for estimation.\n",
      "  % (self.n_neighbors, n_samples))\n",
      "/home/charles/anaconda3/envs/torch/lib/python3.7/site-packages/sklearn/neighbors/_lof.py:277: UserWarning: n_neighbors (10) is greater than the total number of samples (7). n_neighbors will be set to (n_samples - 1) for estimation.\n",
      "  % (self.n_neighbors, n_samples))\n",
      "/home/charles/anaconda3/envs/torch/lib/python3.7/site-packages/sklearn/neighbors/_lof.py:277: UserWarning: n_neighbors (10) is greater than the total number of samples (7). n_neighbors will be set to (n_samples - 1) for estimation.\n",
      "  % (self.n_neighbors, n_samples))\n",
      "/home/charles/anaconda3/envs/torch/lib/python3.7/site-packages/sklearn/neighbors/_lof.py:277: UserWarning: n_neighbors (10) is greater than the total number of samples (7). n_neighbors will be set to (n_samples - 1) for estimation.\n",
      "  % (self.n_neighbors, n_samples))\n",
      "/home/charles/anaconda3/envs/torch/lib/python3.7/site-packages/sklearn/neighbors/_lof.py:277: UserWarning: n_neighbors (10) is greater than the total number of samples (7). n_neighbors will be set to (n_samples - 1) for estimation.\n",
      "  % (self.n_neighbors, n_samples))\n",
      "/home/charles/anaconda3/envs/torch/lib/python3.7/site-packages/sklearn/neighbors/_lof.py:277: UserWarning: n_neighbors (10) is greater than the total number of samples (7). n_neighbors will be set to (n_samples - 1) for estimation.\n",
      "  % (self.n_neighbors, n_samples))\n",
      "/home/charles/anaconda3/envs/torch/lib/python3.7/site-packages/sklearn/neighbors/_lof.py:277: UserWarning: n_neighbors (10) is greater than the total number of samples (7). n_neighbors will be set to (n_samples - 1) for estimation.\n",
      "  % (self.n_neighbors, n_samples))\n",
      "/home/charles/anaconda3/envs/torch/lib/python3.7/site-packages/sklearn/neighbors/_lof.py:277: UserWarning: n_neighbors (10) is greater than the total number of samples (7). n_neighbors will be set to (n_samples - 1) for estimation.\n",
      "  % (self.n_neighbors, n_samples))\n",
      "/home/charles/anaconda3/envs/torch/lib/python3.7/site-packages/sklearn/neighbors/_lof.py:277: UserWarning: n_neighbors (10) is greater than the total number of samples (7). n_neighbors will be set to (n_samples - 1) for estimation.\n",
      "  % (self.n_neighbors, n_samples))\n",
      "/home/charles/anaconda3/envs/torch/lib/python3.7/site-packages/sklearn/neighbors/_lof.py:277: UserWarning: n_neighbors (10) is greater than the total number of samples (7). n_neighbors will be set to (n_samples - 1) for estimation.\n",
      "  % (self.n_neighbors, n_samples))\n",
      "/home/charles/anaconda3/envs/torch/lib/python3.7/site-packages/sklearn/neighbors/_lof.py:277: UserWarning: n_neighbors (10) is greater than the total number of samples (7). n_neighbors will be set to (n_samples - 1) for estimation.\n",
      "  % (self.n_neighbors, n_samples))\n",
      "/home/charles/anaconda3/envs/torch/lib/python3.7/site-packages/sklearn/neighbors/_lof.py:277: UserWarning: n_neighbors (10) is greater than the total number of samples (7). n_neighbors will be set to (n_samples - 1) for estimation.\n",
      "  % (self.n_neighbors, n_samples))\n",
      "/home/charles/anaconda3/envs/torch/lib/python3.7/site-packages/sklearn/neighbors/_lof.py:277: UserWarning: n_neighbors (10) is greater than the total number of samples (7). n_neighbors will be set to (n_samples - 1) for estimation.\n",
      "  % (self.n_neighbors, n_samples))\n",
      "/home/charles/anaconda3/envs/torch/lib/python3.7/site-packages/sklearn/neighbors/_lof.py:277: UserWarning: n_neighbors (10) is greater than the total number of samples (7). n_neighbors will be set to (n_samples - 1) for estimation.\n",
      "  % (self.n_neighbors, n_samples))\n",
      "/home/charles/anaconda3/envs/torch/lib/python3.7/site-packages/sklearn/neighbors/_lof.py:277: UserWarning: n_neighbors (10) is greater than the total number of samples (7). n_neighbors will be set to (n_samples - 1) for estimation.\n",
      "  % (self.n_neighbors, n_samples))\n",
      "/home/charles/anaconda3/envs/torch/lib/python3.7/site-packages/sklearn/neighbors/_lof.py:277: UserWarning: n_neighbors (10) is greater than the total number of samples (7). n_neighbors will be set to (n_samples - 1) for estimation.\n",
      "  % (self.n_neighbors, n_samples))\n",
      "/home/charles/anaconda3/envs/torch/lib/python3.7/site-packages/sklearn/neighbors/_lof.py:277: UserWarning: n_neighbors (10) is greater than the total number of samples (7). n_neighbors will be set to (n_samples - 1) for estimation.\n",
      "  % (self.n_neighbors, n_samples))\n",
      "/home/charles/anaconda3/envs/torch/lib/python3.7/site-packages/sklearn/neighbors/_lof.py:277: UserWarning: n_neighbors (10) is greater than the total number of samples (7). n_neighbors will be set to (n_samples - 1) for estimation.\n",
      "  % (self.n_neighbors, n_samples))\n",
      "/home/charles/anaconda3/envs/torch/lib/python3.7/site-packages/sklearn/neighbors/_lof.py:277: UserWarning: n_neighbors (10) is greater than the total number of samples (7). n_neighbors will be set to (n_samples - 1) for estimation.\n",
      "  % (self.n_neighbors, n_samples))\n",
      "/home/charles/anaconda3/envs/torch/lib/python3.7/site-packages/sklearn/neighbors/_lof.py:277: UserWarning: n_neighbors (10) is greater than the total number of samples (7). n_neighbors will be set to (n_samples - 1) for estimation.\n",
      "  % (self.n_neighbors, n_samples))\n",
      "/home/charles/anaconda3/envs/torch/lib/python3.7/site-packages/sklearn/neighbors/_lof.py:277: UserWarning: n_neighbors (10) is greater than the total number of samples (7). n_neighbors will be set to (n_samples - 1) for estimation.\n",
      "  % (self.n_neighbors, n_samples))\n",
      "/home/charles/anaconda3/envs/torch/lib/python3.7/site-packages/sklearn/neighbors/_lof.py:277: UserWarning: n_neighbors (10) is greater than the total number of samples (7). n_neighbors will be set to (n_samples - 1) for estimation.\n",
      "  % (self.n_neighbors, n_samples))\n",
      "/home/charles/anaconda3/envs/torch/lib/python3.7/site-packages/sklearn/neighbors/_lof.py:277: UserWarning: n_neighbors (10) is greater than the total number of samples (7). n_neighbors will be set to (n_samples - 1) for estimation.\n",
      "  % (self.n_neighbors, n_samples))\n",
      "/home/charles/anaconda3/envs/torch/lib/python3.7/site-packages/sklearn/neighbors/_lof.py:277: UserWarning: n_neighbors (10) is greater than the total number of samples (7). n_neighbors will be set to (n_samples - 1) for estimation.\n",
      "  % (self.n_neighbors, n_samples))\n",
      "/home/charles/anaconda3/envs/torch/lib/python3.7/site-packages/sklearn/neighbors/_lof.py:277: UserWarning: n_neighbors (10) is greater than the total number of samples (7). n_neighbors will be set to (n_samples - 1) for estimation.\n",
      "  % (self.n_neighbors, n_samples))\n",
      "/home/charles/anaconda3/envs/torch/lib/python3.7/site-packages/sklearn/neighbors/_lof.py:277: UserWarning: n_neighbors (10) is greater than the total number of samples (7). n_neighbors will be set to (n_samples - 1) for estimation.\n",
      "  % (self.n_neighbors, n_samples))\n",
      "/home/charles/anaconda3/envs/torch/lib/python3.7/site-packages/sklearn/neighbors/_lof.py:277: UserWarning: n_neighbors (10) is greater than the total number of samples (7). n_neighbors will be set to (n_samples - 1) for estimation.\n",
      "  % (self.n_neighbors, n_samples))\n",
      "/home/charles/anaconda3/envs/torch/lib/python3.7/site-packages/sklearn/neighbors/_lof.py:277: UserWarning: n_neighbors (10) is greater than the total number of samples (7). n_neighbors will be set to (n_samples - 1) for estimation.\n",
      "  % (self.n_neighbors, n_samples))\n",
      "/home/charles/anaconda3/envs/torch/lib/python3.7/site-packages/sklearn/neighbors/_lof.py:277: UserWarning: n_neighbors (10) is greater than the total number of samples (7). n_neighbors will be set to (n_samples - 1) for estimation.\n",
      "  % (self.n_neighbors, n_samples))\n",
      "/home/charles/anaconda3/envs/torch/lib/python3.7/site-packages/sklearn/neighbors/_lof.py:277: UserWarning: n_neighbors (10) is greater than the total number of samples (7). n_neighbors will be set to (n_samples - 1) for estimation.\n",
      "  % (self.n_neighbors, n_samples))\n",
      "/home/charles/anaconda3/envs/torch/lib/python3.7/site-packages/sklearn/neighbors/_lof.py:277: UserWarning: n_neighbors (10) is greater than the total number of samples (7). n_neighbors will be set to (n_samples - 1) for estimation.\n",
      "  % (self.n_neighbors, n_samples))\n",
      "/home/charles/anaconda3/envs/torch/lib/python3.7/site-packages/sklearn/neighbors/_lof.py:277: UserWarning: n_neighbors (10) is greater than the total number of samples (7). n_neighbors will be set to (n_samples - 1) for estimation.\n",
      "  % (self.n_neighbors, n_samples))\n",
      "/home/charles/anaconda3/envs/torch/lib/python3.7/site-packages/sklearn/neighbors/_lof.py:277: UserWarning: n_neighbors (10) is greater than the total number of samples (7). n_neighbors will be set to (n_samples - 1) for estimation.\n",
      "  % (self.n_neighbors, n_samples))\n",
      "/home/charles/anaconda3/envs/torch/lib/python3.7/site-packages/sklearn/neighbors/_lof.py:277: UserWarning: n_neighbors (10) is greater than the total number of samples (7). n_neighbors will be set to (n_samples - 1) for estimation.\n",
      "  % (self.n_neighbors, n_samples))\n",
      "/home/charles/anaconda3/envs/torch/lib/python3.7/site-packages/sklearn/neighbors/_lof.py:277: UserWarning: n_neighbors (10) is greater than the total number of samples (7). n_neighbors will be set to (n_samples - 1) for estimation.\n",
      "  % (self.n_neighbors, n_samples))\n",
      "/home/charles/anaconda3/envs/torch/lib/python3.7/site-packages/sklearn/neighbors/_lof.py:277: UserWarning: n_neighbors (10) is greater than the total number of samples (7). n_neighbors will be set to (n_samples - 1) for estimation.\n",
      "  % (self.n_neighbors, n_samples))\n",
      "/home/charles/anaconda3/envs/torch/lib/python3.7/site-packages/sklearn/neighbors/_lof.py:277: UserWarning: n_neighbors (10) is greater than the total number of samples (7). n_neighbors will be set to (n_samples - 1) for estimation.\n",
      "  % (self.n_neighbors, n_samples))\n",
      "/home/charles/anaconda3/envs/torch/lib/python3.7/site-packages/sklearn/neighbors/_lof.py:277: UserWarning: n_neighbors (10) is greater than the total number of samples (7). n_neighbors will be set to (n_samples - 1) for estimation.\n",
      "  % (self.n_neighbors, n_samples))\n",
      "/home/charles/anaconda3/envs/torch/lib/python3.7/site-packages/sklearn/neighbors/_lof.py:277: UserWarning: n_neighbors (10) is greater than the total number of samples (7). n_neighbors will be set to (n_samples - 1) for estimation.\n",
      "  % (self.n_neighbors, n_samples))\n",
      "/home/charles/anaconda3/envs/torch/lib/python3.7/site-packages/sklearn/neighbors/_lof.py:277: UserWarning: n_neighbors (10) is greater than the total number of samples (7). n_neighbors will be set to (n_samples - 1) for estimation.\n",
      "  % (self.n_neighbors, n_samples))\n",
      "/home/charles/anaconda3/envs/torch/lib/python3.7/site-packages/sklearn/neighbors/_lof.py:277: UserWarning: n_neighbors (10) is greater than the total number of samples (7). n_neighbors will be set to (n_samples - 1) for estimation.\n",
      "  % (self.n_neighbors, n_samples))\n",
      "/home/charles/anaconda3/envs/torch/lib/python3.7/site-packages/sklearn/neighbors/_lof.py:277: UserWarning: n_neighbors (10) is greater than the total number of samples (7). n_neighbors will be set to (n_samples - 1) for estimation.\n",
      "  % (self.n_neighbors, n_samples))\n",
      "/home/charles/anaconda3/envs/torch/lib/python3.7/site-packages/sklearn/neighbors/_lof.py:277: UserWarning: n_neighbors (10) is greater than the total number of samples (7). n_neighbors will be set to (n_samples - 1) for estimation.\n",
      "  % (self.n_neighbors, n_samples))\n",
      "/home/charles/anaconda3/envs/torch/lib/python3.7/site-packages/sklearn/neighbors/_lof.py:277: UserWarning: n_neighbors (10) is greater than the total number of samples (7). n_neighbors will be set to (n_samples - 1) for estimation.\n",
      "  % (self.n_neighbors, n_samples))\n",
      "/home/charles/anaconda3/envs/torch/lib/python3.7/site-packages/sklearn/neighbors/_lof.py:277: UserWarning: n_neighbors (10) is greater than the total number of samples (7). n_neighbors will be set to (n_samples - 1) for estimation.\n",
      "  % (self.n_neighbors, n_samples))\n",
      "/home/charles/anaconda3/envs/torch/lib/python3.7/site-packages/sklearn/neighbors/_lof.py:277: UserWarning: n_neighbors (10) is greater than the total number of samples (7). n_neighbors will be set to (n_samples - 1) for estimation.\n",
      "  % (self.n_neighbors, n_samples))\n",
      "/home/charles/anaconda3/envs/torch/lib/python3.7/site-packages/sklearn/neighbors/_lof.py:277: UserWarning: n_neighbors (10) is greater than the total number of samples (7). n_neighbors will be set to (n_samples - 1) for estimation.\n",
      "  % (self.n_neighbors, n_samples))\n",
      "/home/charles/anaconda3/envs/torch/lib/python3.7/site-packages/sklearn/neighbors/_lof.py:277: UserWarning: n_neighbors (10) is greater than the total number of samples (7). n_neighbors will be set to (n_samples - 1) for estimation.\n",
      "  % (self.n_neighbors, n_samples))\n",
      "/home/charles/anaconda3/envs/torch/lib/python3.7/site-packages/sklearn/neighbors/_lof.py:277: UserWarning: n_neighbors (10) is greater than the total number of samples (7). n_neighbors will be set to (n_samples - 1) for estimation.\n",
      "  % (self.n_neighbors, n_samples))\n",
      "/home/charles/anaconda3/envs/torch/lib/python3.7/site-packages/sklearn/neighbors/_lof.py:277: UserWarning: n_neighbors (10) is greater than the total number of samples (7). n_neighbors will be set to (n_samples - 1) for estimation.\n",
      "  % (self.n_neighbors, n_samples))\n",
      "/home/charles/anaconda3/envs/torch/lib/python3.7/site-packages/sklearn/neighbors/_lof.py:277: UserWarning: n_neighbors (10) is greater than the total number of samples (7). n_neighbors will be set to (n_samples - 1) for estimation.\n",
      "  % (self.n_neighbors, n_samples))\n",
      "/home/charles/anaconda3/envs/torch/lib/python3.7/site-packages/sklearn/neighbors/_lof.py:277: UserWarning: n_neighbors (10) is greater than the total number of samples (7). n_neighbors will be set to (n_samples - 1) for estimation.\n",
      "  % (self.n_neighbors, n_samples))\n",
      "/home/charles/anaconda3/envs/torch/lib/python3.7/site-packages/sklearn/neighbors/_lof.py:277: UserWarning: n_neighbors (10) is greater than the total number of samples (7). n_neighbors will be set to (n_samples - 1) for estimation.\n",
      "  % (self.n_neighbors, n_samples))\n",
      "/home/charles/anaconda3/envs/torch/lib/python3.7/site-packages/sklearn/neighbors/_lof.py:277: UserWarning: n_neighbors (10) is greater than the total number of samples (7). n_neighbors will be set to (n_samples - 1) for estimation.\n",
      "  % (self.n_neighbors, n_samples))\n",
      "/home/charles/anaconda3/envs/torch/lib/python3.7/site-packages/sklearn/neighbors/_lof.py:277: UserWarning: n_neighbors (10) is greater than the total number of samples (7). n_neighbors will be set to (n_samples - 1) for estimation.\n",
      "  % (self.n_neighbors, n_samples))\n",
      "/home/charles/anaconda3/envs/torch/lib/python3.7/site-packages/sklearn/neighbors/_lof.py:277: UserWarning: n_neighbors (10) is greater than the total number of samples (7). n_neighbors will be set to (n_samples - 1) for estimation.\n",
      "  % (self.n_neighbors, n_samples))\n",
      "/home/charles/anaconda3/envs/torch/lib/python3.7/site-packages/sklearn/neighbors/_lof.py:277: UserWarning: n_neighbors (10) is greater than the total number of samples (7). n_neighbors will be set to (n_samples - 1) for estimation.\n",
      "  % (self.n_neighbors, n_samples))\n",
      "/home/charles/anaconda3/envs/torch/lib/python3.7/site-packages/sklearn/neighbors/_lof.py:277: UserWarning: n_neighbors (10) is greater than the total number of samples (7). n_neighbors will be set to (n_samples - 1) for estimation.\n",
      "  % (self.n_neighbors, n_samples))\n",
      "/home/charles/anaconda3/envs/torch/lib/python3.7/site-packages/sklearn/neighbors/_lof.py:277: UserWarning: n_neighbors (10) is greater than the total number of samples (7). n_neighbors will be set to (n_samples - 1) for estimation.\n",
      "  % (self.n_neighbors, n_samples))\n",
      "/home/charles/anaconda3/envs/torch/lib/python3.7/site-packages/sklearn/neighbors/_lof.py:277: UserWarning: n_neighbors (10) is greater than the total number of samples (7). n_neighbors will be set to (n_samples - 1) for estimation.\n",
      "  % (self.n_neighbors, n_samples))\n",
      "/home/charles/anaconda3/envs/torch/lib/python3.7/site-packages/sklearn/neighbors/_lof.py:277: UserWarning: n_neighbors (10) is greater than the total number of samples (7). n_neighbors will be set to (n_samples - 1) for estimation.\n",
      "  % (self.n_neighbors, n_samples))\n",
      "/home/charles/anaconda3/envs/torch/lib/python3.7/site-packages/sklearn/neighbors/_lof.py:277: UserWarning: n_neighbors (10) is greater than the total number of samples (7). n_neighbors will be set to (n_samples - 1) for estimation.\n",
      "  % (self.n_neighbors, n_samples))\n",
      "/home/charles/anaconda3/envs/torch/lib/python3.7/site-packages/sklearn/neighbors/_lof.py:277: UserWarning: n_neighbors (10) is greater than the total number of samples (7). n_neighbors will be set to (n_samples - 1) for estimation.\n",
      "  % (self.n_neighbors, n_samples))\n",
      "/home/charles/anaconda3/envs/torch/lib/python3.7/site-packages/sklearn/neighbors/_lof.py:277: UserWarning: n_neighbors (10) is greater than the total number of samples (7). n_neighbors will be set to (n_samples - 1) for estimation.\n",
      "  % (self.n_neighbors, n_samples))\n",
      "/home/charles/anaconda3/envs/torch/lib/python3.7/site-packages/sklearn/neighbors/_lof.py:277: UserWarning: n_neighbors (10) is greater than the total number of samples (7). n_neighbors will be set to (n_samples - 1) for estimation.\n",
      "  % (self.n_neighbors, n_samples))\n",
      "/home/charles/anaconda3/envs/torch/lib/python3.7/site-packages/sklearn/neighbors/_lof.py:277: UserWarning: n_neighbors (10) is greater than the total number of samples (7). n_neighbors will be set to (n_samples - 1) for estimation.\n",
      "  % (self.n_neighbors, n_samples))\n",
      "/home/charles/anaconda3/envs/torch/lib/python3.7/site-packages/sklearn/neighbors/_lof.py:277: UserWarning: n_neighbors (10) is greater than the total number of samples (7). n_neighbors will be set to (n_samples - 1) for estimation.\n",
      "  % (self.n_neighbors, n_samples))\n",
      "/home/charles/anaconda3/envs/torch/lib/python3.7/site-packages/sklearn/neighbors/_lof.py:277: UserWarning: n_neighbors (10) is greater than the total number of samples (7). n_neighbors will be set to (n_samples - 1) for estimation.\n",
      "  % (self.n_neighbors, n_samples))\n",
      "/home/charles/anaconda3/envs/torch/lib/python3.7/site-packages/sklearn/neighbors/_lof.py:277: UserWarning: n_neighbors (10) is greater than the total number of samples (7). n_neighbors will be set to (n_samples - 1) for estimation.\n",
      "  % (self.n_neighbors, n_samples))\n",
      "/home/charles/anaconda3/envs/torch/lib/python3.7/site-packages/sklearn/neighbors/_lof.py:277: UserWarning: n_neighbors (10) is greater than the total number of samples (7). n_neighbors will be set to (n_samples - 1) for estimation.\n",
      "  % (self.n_neighbors, n_samples))\n",
      "/home/charles/anaconda3/envs/torch/lib/python3.7/site-packages/sklearn/neighbors/_lof.py:277: UserWarning: n_neighbors (10) is greater than the total number of samples (7). n_neighbors will be set to (n_samples - 1) for estimation.\n",
      "  % (self.n_neighbors, n_samples))\n",
      "/home/charles/anaconda3/envs/torch/lib/python3.7/site-packages/sklearn/neighbors/_lof.py:277: UserWarning: n_neighbors (10) is greater than the total number of samples (7). n_neighbors will be set to (n_samples - 1) for estimation.\n",
      "  % (self.n_neighbors, n_samples))\n",
      "/home/charles/anaconda3/envs/torch/lib/python3.7/site-packages/sklearn/neighbors/_lof.py:277: UserWarning: n_neighbors (10) is greater than the total number of samples (7). n_neighbors will be set to (n_samples - 1) for estimation.\n",
      "  % (self.n_neighbors, n_samples))\n",
      "/home/charles/anaconda3/envs/torch/lib/python3.7/site-packages/sklearn/neighbors/_lof.py:277: UserWarning: n_neighbors (10) is greater than the total number of samples (7). n_neighbors will be set to (n_samples - 1) for estimation.\n",
      "  % (self.n_neighbors, n_samples))\n",
      "/home/charles/anaconda3/envs/torch/lib/python3.7/site-packages/sklearn/neighbors/_lof.py:277: UserWarning: n_neighbors (10) is greater than the total number of samples (7). n_neighbors will be set to (n_samples - 1) for estimation.\n",
      "  % (self.n_neighbors, n_samples))\n",
      "/home/charles/anaconda3/envs/torch/lib/python3.7/site-packages/sklearn/neighbors/_lof.py:277: UserWarning: n_neighbors (10) is greater than the total number of samples (7). n_neighbors will be set to (n_samples - 1) for estimation.\n",
      "  % (self.n_neighbors, n_samples))\n",
      "/home/charles/anaconda3/envs/torch/lib/python3.7/site-packages/sklearn/neighbors/_lof.py:277: UserWarning: n_neighbors (10) is greater than the total number of samples (7). n_neighbors will be set to (n_samples - 1) for estimation.\n",
      "  % (self.n_neighbors, n_samples))\n",
      "/home/charles/anaconda3/envs/torch/lib/python3.7/site-packages/sklearn/neighbors/_lof.py:277: UserWarning: n_neighbors (10) is greater than the total number of samples (7). n_neighbors will be set to (n_samples - 1) for estimation.\n",
      "  % (self.n_neighbors, n_samples))\n",
      "/home/charles/anaconda3/envs/torch/lib/python3.7/site-packages/sklearn/neighbors/_lof.py:277: UserWarning: n_neighbors (10) is greater than the total number of samples (7). n_neighbors will be set to (n_samples - 1) for estimation.\n",
      "  % (self.n_neighbors, n_samples))\n",
      "/home/charles/anaconda3/envs/torch/lib/python3.7/site-packages/sklearn/neighbors/_lof.py:277: UserWarning: n_neighbors (10) is greater than the total number of samples (7). n_neighbors will be set to (n_samples - 1) for estimation.\n",
      "  % (self.n_neighbors, n_samples))\n",
      "/home/charles/anaconda3/envs/torch/lib/python3.7/site-packages/sklearn/neighbors/_lof.py:277: UserWarning: n_neighbors (10) is greater than the total number of samples (7). n_neighbors will be set to (n_samples - 1) for estimation.\n",
      "  % (self.n_neighbors, n_samples))\n",
      "/home/charles/anaconda3/envs/torch/lib/python3.7/site-packages/sklearn/neighbors/_lof.py:277: UserWarning: n_neighbors (10) is greater than the total number of samples (7). n_neighbors will be set to (n_samples - 1) for estimation.\n",
      "  % (self.n_neighbors, n_samples))\n",
      "/home/charles/anaconda3/envs/torch/lib/python3.7/site-packages/sklearn/neighbors/_lof.py:277: UserWarning: n_neighbors (10) is greater than the total number of samples (7). n_neighbors will be set to (n_samples - 1) for estimation.\n",
      "  % (self.n_neighbors, n_samples))\n",
      "/home/charles/anaconda3/envs/torch/lib/python3.7/site-packages/sklearn/neighbors/_lof.py:277: UserWarning: n_neighbors (10) is greater than the total number of samples (7). n_neighbors will be set to (n_samples - 1) for estimation.\n",
      "  % (self.n_neighbors, n_samples))\n",
      "/home/charles/anaconda3/envs/torch/lib/python3.7/site-packages/sklearn/neighbors/_lof.py:277: UserWarning: n_neighbors (10) is greater than the total number of samples (7). n_neighbors will be set to (n_samples - 1) for estimation.\n",
      "  % (self.n_neighbors, n_samples))\n",
      "/home/charles/anaconda3/envs/torch/lib/python3.7/site-packages/sklearn/neighbors/_lof.py:277: UserWarning: n_neighbors (10) is greater than the total number of samples (7). n_neighbors will be set to (n_samples - 1) for estimation.\n",
      "  % (self.n_neighbors, n_samples))\n",
      "/home/charles/anaconda3/envs/torch/lib/python3.7/site-packages/sklearn/neighbors/_lof.py:277: UserWarning: n_neighbors (10) is greater than the total number of samples (7). n_neighbors will be set to (n_samples - 1) for estimation.\n",
      "  % (self.n_neighbors, n_samples))\n",
      "/home/charles/anaconda3/envs/torch/lib/python3.7/site-packages/sklearn/neighbors/_lof.py:277: UserWarning: n_neighbors (10) is greater than the total number of samples (7). n_neighbors will be set to (n_samples - 1) for estimation.\n",
      "  % (self.n_neighbors, n_samples))\n",
      "/home/charles/anaconda3/envs/torch/lib/python3.7/site-packages/sklearn/neighbors/_lof.py:277: UserWarning: n_neighbors (10) is greater than the total number of samples (7). n_neighbors will be set to (n_samples - 1) for estimation.\n",
      "  % (self.n_neighbors, n_samples))\n",
      "/home/charles/anaconda3/envs/torch/lib/python3.7/site-packages/sklearn/neighbors/_lof.py:277: UserWarning: n_neighbors (10) is greater than the total number of samples (7). n_neighbors will be set to (n_samples - 1) for estimation.\n",
      "  % (self.n_neighbors, n_samples))\n",
      "/home/charles/anaconda3/envs/torch/lib/python3.7/site-packages/sklearn/neighbors/_lof.py:277: UserWarning: n_neighbors (10) is greater than the total number of samples (7). n_neighbors will be set to (n_samples - 1) for estimation.\n",
      "  % (self.n_neighbors, n_samples))\n",
      "/home/charles/anaconda3/envs/torch/lib/python3.7/site-packages/sklearn/neighbors/_lof.py:277: UserWarning: n_neighbors (10) is greater than the total number of samples (7). n_neighbors will be set to (n_samples - 1) for estimation.\n",
      "  % (self.n_neighbors, n_samples))\n",
      "/home/charles/anaconda3/envs/torch/lib/python3.7/site-packages/sklearn/neighbors/_lof.py:277: UserWarning: n_neighbors (10) is greater than the total number of samples (7). n_neighbors will be set to (n_samples - 1) for estimation.\n",
      "  % (self.n_neighbors, n_samples))\n",
      "/home/charles/anaconda3/envs/torch/lib/python3.7/site-packages/sklearn/neighbors/_lof.py:277: UserWarning: n_neighbors (10) is greater than the total number of samples (7). n_neighbors will be set to (n_samples - 1) for estimation.\n",
      "  % (self.n_neighbors, n_samples))\n",
      "/home/charles/anaconda3/envs/torch/lib/python3.7/site-packages/sklearn/neighbors/_lof.py:277: UserWarning: n_neighbors (10) is greater than the total number of samples (7). n_neighbors will be set to (n_samples - 1) for estimation.\n",
      "  % (self.n_neighbors, n_samples))\n",
      "/home/charles/anaconda3/envs/torch/lib/python3.7/site-packages/sklearn/neighbors/_lof.py:277: UserWarning: n_neighbors (10) is greater than the total number of samples (7). n_neighbors will be set to (n_samples - 1) for estimation.\n",
      "  % (self.n_neighbors, n_samples))\n",
      "/home/charles/anaconda3/envs/torch/lib/python3.7/site-packages/sklearn/neighbors/_lof.py:277: UserWarning: n_neighbors (10) is greater than the total number of samples (7). n_neighbors will be set to (n_samples - 1) for estimation.\n",
      "  % (self.n_neighbors, n_samples))\n",
      "/home/charles/anaconda3/envs/torch/lib/python3.7/site-packages/sklearn/neighbors/_lof.py:277: UserWarning: n_neighbors (10) is greater than the total number of samples (7). n_neighbors will be set to (n_samples - 1) for estimation.\n",
      "  % (self.n_neighbors, n_samples))\n",
      "/home/charles/anaconda3/envs/torch/lib/python3.7/site-packages/sklearn/neighbors/_lof.py:277: UserWarning: n_neighbors (10) is greater than the total number of samples (7). n_neighbors will be set to (n_samples - 1) for estimation.\n",
      "  % (self.n_neighbors, n_samples))\n",
      "/home/charles/anaconda3/envs/torch/lib/python3.7/site-packages/sklearn/neighbors/_lof.py:277: UserWarning: n_neighbors (10) is greater than the total number of samples (7). n_neighbors will be set to (n_samples - 1) for estimation.\n",
      "  % (self.n_neighbors, n_samples))\n",
      "/home/charles/anaconda3/envs/torch/lib/python3.7/site-packages/sklearn/neighbors/_lof.py:277: UserWarning: n_neighbors (10) is greater than the total number of samples (7). n_neighbors will be set to (n_samples - 1) for estimation.\n",
      "  % (self.n_neighbors, n_samples))\n",
      "/home/charles/anaconda3/envs/torch/lib/python3.7/site-packages/sklearn/neighbors/_lof.py:277: UserWarning: n_neighbors (10) is greater than the total number of samples (7). n_neighbors will be set to (n_samples - 1) for estimation.\n",
      "  % (self.n_neighbors, n_samples))\n",
      "/home/charles/anaconda3/envs/torch/lib/python3.7/site-packages/sklearn/neighbors/_lof.py:277: UserWarning: n_neighbors (10) is greater than the total number of samples (7). n_neighbors will be set to (n_samples - 1) for estimation.\n",
      "  % (self.n_neighbors, n_samples))\n",
      "/home/charles/anaconda3/envs/torch/lib/python3.7/site-packages/sklearn/neighbors/_lof.py:277: UserWarning: n_neighbors (10) is greater than the total number of samples (7). n_neighbors will be set to (n_samples - 1) for estimation.\n",
      "  % (self.n_neighbors, n_samples))\n",
      "/home/charles/anaconda3/envs/torch/lib/python3.7/site-packages/sklearn/neighbors/_lof.py:277: UserWarning: n_neighbors (10) is greater than the total number of samples (7). n_neighbors will be set to (n_samples - 1) for estimation.\n",
      "  % (self.n_neighbors, n_samples))\n",
      "/home/charles/anaconda3/envs/torch/lib/python3.7/site-packages/sklearn/neighbors/_lof.py:277: UserWarning: n_neighbors (10) is greater than the total number of samples (7). n_neighbors will be set to (n_samples - 1) for estimation.\n",
      "  % (self.n_neighbors, n_samples))\n",
      "/home/charles/anaconda3/envs/torch/lib/python3.7/site-packages/sklearn/neighbors/_lof.py:277: UserWarning: n_neighbors (10) is greater than the total number of samples (7). n_neighbors will be set to (n_samples - 1) for estimation.\n",
      "  % (self.n_neighbors, n_samples))\n",
      "/home/charles/anaconda3/envs/torch/lib/python3.7/site-packages/sklearn/neighbors/_lof.py:277: UserWarning: n_neighbors (10) is greater than the total number of samples (7). n_neighbors will be set to (n_samples - 1) for estimation.\n",
      "  % (self.n_neighbors, n_samples))\n",
      "/home/charles/anaconda3/envs/torch/lib/python3.7/site-packages/sklearn/neighbors/_lof.py:277: UserWarning: n_neighbors (10) is greater than the total number of samples (7). n_neighbors will be set to (n_samples - 1) for estimation.\n",
      "  % (self.n_neighbors, n_samples))\n",
      "/home/charles/anaconda3/envs/torch/lib/python3.7/site-packages/sklearn/neighbors/_lof.py:277: UserWarning: n_neighbors (10) is greater than the total number of samples (7). n_neighbors will be set to (n_samples - 1) for estimation.\n",
      "  % (self.n_neighbors, n_samples))\n",
      "/home/charles/anaconda3/envs/torch/lib/python3.7/site-packages/sklearn/neighbors/_lof.py:277: UserWarning: n_neighbors (10) is greater than the total number of samples (7). n_neighbors will be set to (n_samples - 1) for estimation.\n",
      "  % (self.n_neighbors, n_samples))\n",
      "/home/charles/anaconda3/envs/torch/lib/python3.7/site-packages/sklearn/neighbors/_lof.py:277: UserWarning: n_neighbors (10) is greater than the total number of samples (7). n_neighbors will be set to (n_samples - 1) for estimation.\n",
      "  % (self.n_neighbors, n_samples))\n",
      "/home/charles/anaconda3/envs/torch/lib/python3.7/site-packages/sklearn/neighbors/_lof.py:277: UserWarning: n_neighbors (10) is greater than the total number of samples (7). n_neighbors will be set to (n_samples - 1) for estimation.\n",
      "  % (self.n_neighbors, n_samples))\n",
      "/home/charles/anaconda3/envs/torch/lib/python3.7/site-packages/sklearn/neighbors/_lof.py:277: UserWarning: n_neighbors (10) is greater than the total number of samples (7). n_neighbors will be set to (n_samples - 1) for estimation.\n",
      "  % (self.n_neighbors, n_samples))\n",
      "/home/charles/anaconda3/envs/torch/lib/python3.7/site-packages/sklearn/neighbors/_lof.py:277: UserWarning: n_neighbors (10) is greater than the total number of samples (7). n_neighbors will be set to (n_samples - 1) for estimation.\n",
      "  % (self.n_neighbors, n_samples))\n",
      "/home/charles/anaconda3/envs/torch/lib/python3.7/site-packages/sklearn/neighbors/_lof.py:277: UserWarning: n_neighbors (10) is greater than the total number of samples (7). n_neighbors will be set to (n_samples - 1) for estimation.\n",
      "  % (self.n_neighbors, n_samples))\n",
      "/home/charles/anaconda3/envs/torch/lib/python3.7/site-packages/sklearn/neighbors/_lof.py:277: UserWarning: n_neighbors (10) is greater than the total number of samples (7). n_neighbors will be set to (n_samples - 1) for estimation.\n",
      "  % (self.n_neighbors, n_samples))\n",
      "/home/charles/anaconda3/envs/torch/lib/python3.7/site-packages/sklearn/neighbors/_lof.py:277: UserWarning: n_neighbors (10) is greater than the total number of samples (7). n_neighbors will be set to (n_samples - 1) for estimation.\n",
      "  % (self.n_neighbors, n_samples))\n",
      "/home/charles/anaconda3/envs/torch/lib/python3.7/site-packages/sklearn/neighbors/_lof.py:277: UserWarning: n_neighbors (10) is greater than the total number of samples (7). n_neighbors will be set to (n_samples - 1) for estimation.\n",
      "  % (self.n_neighbors, n_samples))\n",
      "/home/charles/anaconda3/envs/torch/lib/python3.7/site-packages/sklearn/neighbors/_lof.py:277: UserWarning: n_neighbors (10) is greater than the total number of samples (7). n_neighbors will be set to (n_samples - 1) for estimation.\n",
      "  % (self.n_neighbors, n_samples))\n",
      "/home/charles/anaconda3/envs/torch/lib/python3.7/site-packages/sklearn/neighbors/_lof.py:277: UserWarning: n_neighbors (10) is greater than the total number of samples (7). n_neighbors will be set to (n_samples - 1) for estimation.\n",
      "  % (self.n_neighbors, n_samples))\n",
      "/home/charles/anaconda3/envs/torch/lib/python3.7/site-packages/sklearn/neighbors/_lof.py:277: UserWarning: n_neighbors (10) is greater than the total number of samples (7). n_neighbors will be set to (n_samples - 1) for estimation.\n",
      "  % (self.n_neighbors, n_samples))\n",
      "/home/charles/anaconda3/envs/torch/lib/python3.7/site-packages/sklearn/neighbors/_lof.py:277: UserWarning: n_neighbors (10) is greater than the total number of samples (7). n_neighbors will be set to (n_samples - 1) for estimation.\n",
      "  % (self.n_neighbors, n_samples))\n",
      "/home/charles/anaconda3/envs/torch/lib/python3.7/site-packages/sklearn/neighbors/_lof.py:277: UserWarning: n_neighbors (10) is greater than the total number of samples (7). n_neighbors will be set to (n_samples - 1) for estimation.\n",
      "  % (self.n_neighbors, n_samples))\n",
      "/home/charles/anaconda3/envs/torch/lib/python3.7/site-packages/sklearn/neighbors/_lof.py:277: UserWarning: n_neighbors (10) is greater than the total number of samples (7). n_neighbors will be set to (n_samples - 1) for estimation.\n",
      "  % (self.n_neighbors, n_samples))\n",
      "/home/charles/anaconda3/envs/torch/lib/python3.7/site-packages/sklearn/neighbors/_lof.py:277: UserWarning: n_neighbors (10) is greater than the total number of samples (7). n_neighbors will be set to (n_samples - 1) for estimation.\n",
      "  % (self.n_neighbors, n_samples))\n",
      "/home/charles/anaconda3/envs/torch/lib/python3.7/site-packages/sklearn/neighbors/_lof.py:277: UserWarning: n_neighbors (10) is greater than the total number of samples (7). n_neighbors will be set to (n_samples - 1) for estimation.\n",
      "  % (self.n_neighbors, n_samples))\n",
      "/home/charles/anaconda3/envs/torch/lib/python3.7/site-packages/sklearn/neighbors/_lof.py:277: UserWarning: n_neighbors (10) is greater than the total number of samples (7). n_neighbors will be set to (n_samples - 1) for estimation.\n",
      "  % (self.n_neighbors, n_samples))\n",
      "/home/charles/anaconda3/envs/torch/lib/python3.7/site-packages/sklearn/neighbors/_lof.py:277: UserWarning: n_neighbors (10) is greater than the total number of samples (7). n_neighbors will be set to (n_samples - 1) for estimation.\n",
      "  % (self.n_neighbors, n_samples))\n",
      "/home/charles/anaconda3/envs/torch/lib/python3.7/site-packages/sklearn/neighbors/_lof.py:277: UserWarning: n_neighbors (10) is greater than the total number of samples (7). n_neighbors will be set to (n_samples - 1) for estimation.\n",
      "  % (self.n_neighbors, n_samples))\n",
      "/home/charles/anaconda3/envs/torch/lib/python3.7/site-packages/sklearn/neighbors/_lof.py:277: UserWarning: n_neighbors (10) is greater than the total number of samples (7). n_neighbors will be set to (n_samples - 1) for estimation.\n",
      "  % (self.n_neighbors, n_samples))\n",
      "/home/charles/anaconda3/envs/torch/lib/python3.7/site-packages/sklearn/neighbors/_lof.py:277: UserWarning: n_neighbors (10) is greater than the total number of samples (7). n_neighbors will be set to (n_samples - 1) for estimation.\n",
      "  % (self.n_neighbors, n_samples))\n",
      "/home/charles/anaconda3/envs/torch/lib/python3.7/site-packages/sklearn/neighbors/_lof.py:277: UserWarning: n_neighbors (10) is greater than the total number of samples (7). n_neighbors will be set to (n_samples - 1) for estimation.\n",
      "  % (self.n_neighbors, n_samples))\n",
      "/home/charles/anaconda3/envs/torch/lib/python3.7/site-packages/sklearn/neighbors/_lof.py:277: UserWarning: n_neighbors (10) is greater than the total number of samples (7). n_neighbors will be set to (n_samples - 1) for estimation.\n",
      "  % (self.n_neighbors, n_samples))\n",
      "/home/charles/anaconda3/envs/torch/lib/python3.7/site-packages/sklearn/neighbors/_lof.py:277: UserWarning: n_neighbors (10) is greater than the total number of samples (7). n_neighbors will be set to (n_samples - 1) for estimation.\n",
      "  % (self.n_neighbors, n_samples))\n",
      "/home/charles/anaconda3/envs/torch/lib/python3.7/site-packages/sklearn/neighbors/_lof.py:277: UserWarning: n_neighbors (10) is greater than the total number of samples (7). n_neighbors will be set to (n_samples - 1) for estimation.\n",
      "  % (self.n_neighbors, n_samples))\n",
      "/home/charles/anaconda3/envs/torch/lib/python3.7/site-packages/sklearn/neighbors/_lof.py:277: UserWarning: n_neighbors (10) is greater than the total number of samples (7). n_neighbors will be set to (n_samples - 1) for estimation.\n",
      "  % (self.n_neighbors, n_samples))\n",
      "/home/charles/anaconda3/envs/torch/lib/python3.7/site-packages/sklearn/neighbors/_lof.py:277: UserWarning: n_neighbors (10) is greater than the total number of samples (7). n_neighbors will be set to (n_samples - 1) for estimation.\n",
      "  % (self.n_neighbors, n_samples))\n",
      "/home/charles/anaconda3/envs/torch/lib/python3.7/site-packages/sklearn/neighbors/_lof.py:277: UserWarning: n_neighbors (10) is greater than the total number of samples (7). n_neighbors will be set to (n_samples - 1) for estimation.\n",
      "  % (self.n_neighbors, n_samples))\n",
      "/home/charles/anaconda3/envs/torch/lib/python3.7/site-packages/sklearn/neighbors/_lof.py:277: UserWarning: n_neighbors (10) is greater than the total number of samples (7). n_neighbors will be set to (n_samples - 1) for estimation.\n",
      "  % (self.n_neighbors, n_samples))\n",
      "/home/charles/anaconda3/envs/torch/lib/python3.7/site-packages/sklearn/neighbors/_lof.py:277: UserWarning: n_neighbors (10) is greater than the total number of samples (7). n_neighbors will be set to (n_samples - 1) for estimation.\n",
      "  % (self.n_neighbors, n_samples))\n",
      "/home/charles/anaconda3/envs/torch/lib/python3.7/site-packages/sklearn/neighbors/_lof.py:277: UserWarning: n_neighbors (10) is greater than the total number of samples (7). n_neighbors will be set to (n_samples - 1) for estimation.\n",
      "  % (self.n_neighbors, n_samples))\n",
      "/home/charles/anaconda3/envs/torch/lib/python3.7/site-packages/sklearn/neighbors/_lof.py:277: UserWarning: n_neighbors (10) is greater than the total number of samples (7). n_neighbors will be set to (n_samples - 1) for estimation.\n",
      "  % (self.n_neighbors, n_samples))\n",
      "/home/charles/anaconda3/envs/torch/lib/python3.7/site-packages/sklearn/neighbors/_lof.py:277: UserWarning: n_neighbors (10) is greater than the total number of samples (7). n_neighbors will be set to (n_samples - 1) for estimation.\n",
      "  % (self.n_neighbors, n_samples))\n",
      "/home/charles/anaconda3/envs/torch/lib/python3.7/site-packages/sklearn/neighbors/_lof.py:277: UserWarning: n_neighbors (10) is greater than the total number of samples (7). n_neighbors will be set to (n_samples - 1) for estimation.\n",
      "  % (self.n_neighbors, n_samples))\n",
      "/home/charles/anaconda3/envs/torch/lib/python3.7/site-packages/sklearn/neighbors/_lof.py:277: UserWarning: n_neighbors (10) is greater than the total number of samples (7). n_neighbors will be set to (n_samples - 1) for estimation.\n",
      "  % (self.n_neighbors, n_samples))\n",
      "/home/charles/anaconda3/envs/torch/lib/python3.7/site-packages/sklearn/neighbors/_lof.py:277: UserWarning: n_neighbors (10) is greater than the total number of samples (7). n_neighbors will be set to (n_samples - 1) for estimation.\n",
      "  % (self.n_neighbors, n_samples))\n",
      "/home/charles/anaconda3/envs/torch/lib/python3.7/site-packages/sklearn/neighbors/_lof.py:277: UserWarning: n_neighbors (10) is greater than the total number of samples (7). n_neighbors will be set to (n_samples - 1) for estimation.\n",
      "  % (self.n_neighbors, n_samples))\n",
      "/home/charles/anaconda3/envs/torch/lib/python3.7/site-packages/sklearn/neighbors/_lof.py:277: UserWarning: n_neighbors (10) is greater than the total number of samples (7). n_neighbors will be set to (n_samples - 1) for estimation.\n",
      "  % (self.n_neighbors, n_samples))\n",
      "/home/charles/anaconda3/envs/torch/lib/python3.7/site-packages/sklearn/neighbors/_lof.py:277: UserWarning: n_neighbors (10) is greater than the total number of samples (7). n_neighbors will be set to (n_samples - 1) for estimation.\n",
      "  % (self.n_neighbors, n_samples))\n",
      "/home/charles/anaconda3/envs/torch/lib/python3.7/site-packages/sklearn/neighbors/_lof.py:277: UserWarning: n_neighbors (10) is greater than the total number of samples (7). n_neighbors will be set to (n_samples - 1) for estimation.\n",
      "  % (self.n_neighbors, n_samples))\n",
      "/home/charles/anaconda3/envs/torch/lib/python3.7/site-packages/sklearn/neighbors/_lof.py:277: UserWarning: n_neighbors (10) is greater than the total number of samples (7). n_neighbors will be set to (n_samples - 1) for estimation.\n",
      "  % (self.n_neighbors, n_samples))\n",
      "/home/charles/anaconda3/envs/torch/lib/python3.7/site-packages/sklearn/neighbors/_lof.py:277: UserWarning: n_neighbors (10) is greater than the total number of samples (7). n_neighbors will be set to (n_samples - 1) for estimation.\n",
      "  % (self.n_neighbors, n_samples))\n",
      "/home/charles/anaconda3/envs/torch/lib/python3.7/site-packages/sklearn/neighbors/_lof.py:277: UserWarning: n_neighbors (10) is greater than the total number of samples (7). n_neighbors will be set to (n_samples - 1) for estimation.\n",
      "  % (self.n_neighbors, n_samples))\n",
      "/home/charles/anaconda3/envs/torch/lib/python3.7/site-packages/sklearn/neighbors/_lof.py:277: UserWarning: n_neighbors (10) is greater than the total number of samples (7). n_neighbors will be set to (n_samples - 1) for estimation.\n",
      "  % (self.n_neighbors, n_samples))\n",
      "/home/charles/anaconda3/envs/torch/lib/python3.7/site-packages/sklearn/neighbors/_lof.py:277: UserWarning: n_neighbors (10) is greater than the total number of samples (7). n_neighbors will be set to (n_samples - 1) for estimation.\n",
      "  % (self.n_neighbors, n_samples))\n",
      "/home/charles/anaconda3/envs/torch/lib/python3.7/site-packages/sklearn/neighbors/_lof.py:277: UserWarning: n_neighbors (10) is greater than the total number of samples (7). n_neighbors will be set to (n_samples - 1) for estimation.\n",
      "  % (self.n_neighbors, n_samples))\n",
      "/home/charles/anaconda3/envs/torch/lib/python3.7/site-packages/sklearn/neighbors/_lof.py:277: UserWarning: n_neighbors (10) is greater than the total number of samples (7). n_neighbors will be set to (n_samples - 1) for estimation.\n",
      "  % (self.n_neighbors, n_samples))\n",
      "/home/charles/anaconda3/envs/torch/lib/python3.7/site-packages/sklearn/neighbors/_lof.py:277: UserWarning: n_neighbors (10) is greater than the total number of samples (7). n_neighbors will be set to (n_samples - 1) for estimation.\n",
      "  % (self.n_neighbors, n_samples))\n",
      "/home/charles/anaconda3/envs/torch/lib/python3.7/site-packages/sklearn/neighbors/_lof.py:277: UserWarning: n_neighbors (10) is greater than the total number of samples (7). n_neighbors will be set to (n_samples - 1) for estimation.\n",
      "  % (self.n_neighbors, n_samples))\n",
      "/home/charles/anaconda3/envs/torch/lib/python3.7/site-packages/sklearn/neighbors/_lof.py:277: UserWarning: n_neighbors (10) is greater than the total number of samples (7). n_neighbors will be set to (n_samples - 1) for estimation.\n",
      "  % (self.n_neighbors, n_samples))\n",
      "/home/charles/anaconda3/envs/torch/lib/python3.7/site-packages/sklearn/neighbors/_lof.py:277: UserWarning: n_neighbors (10) is greater than the total number of samples (7). n_neighbors will be set to (n_samples - 1) for estimation.\n",
      "  % (self.n_neighbors, n_samples))\n",
      "/home/charles/anaconda3/envs/torch/lib/python3.7/site-packages/sklearn/neighbors/_lof.py:277: UserWarning: n_neighbors (10) is greater than the total number of samples (7). n_neighbors will be set to (n_samples - 1) for estimation.\n",
      "  % (self.n_neighbors, n_samples))\n",
      "/home/charles/anaconda3/envs/torch/lib/python3.7/site-packages/sklearn/neighbors/_lof.py:277: UserWarning: n_neighbors (10) is greater than the total number of samples (7). n_neighbors will be set to (n_samples - 1) for estimation.\n",
      "  % (self.n_neighbors, n_samples))\n",
      "/home/charles/anaconda3/envs/torch/lib/python3.7/site-packages/sklearn/neighbors/_lof.py:277: UserWarning: n_neighbors (10) is greater than the total number of samples (7). n_neighbors will be set to (n_samples - 1) for estimation.\n",
      "  % (self.n_neighbors, n_samples))\n",
      "/home/charles/anaconda3/envs/torch/lib/python3.7/site-packages/sklearn/neighbors/_lof.py:277: UserWarning: n_neighbors (10) is greater than the total number of samples (7). n_neighbors will be set to (n_samples - 1) for estimation.\n",
      "  % (self.n_neighbors, n_samples))\n",
      "/home/charles/anaconda3/envs/torch/lib/python3.7/site-packages/sklearn/neighbors/_lof.py:277: UserWarning: n_neighbors (10) is greater than the total number of samples (7). n_neighbors will be set to (n_samples - 1) for estimation.\n",
      "  % (self.n_neighbors, n_samples))\n",
      "/home/charles/anaconda3/envs/torch/lib/python3.7/site-packages/sklearn/neighbors/_lof.py:277: UserWarning: n_neighbors (10) is greater than the total number of samples (7). n_neighbors will be set to (n_samples - 1) for estimation.\n",
      "  % (self.n_neighbors, n_samples))\n",
      "/home/charles/anaconda3/envs/torch/lib/python3.7/site-packages/sklearn/neighbors/_lof.py:277: UserWarning: n_neighbors (10) is greater than the total number of samples (7). n_neighbors will be set to (n_samples - 1) for estimation.\n",
      "  % (self.n_neighbors, n_samples))\n",
      "/home/charles/anaconda3/envs/torch/lib/python3.7/site-packages/sklearn/neighbors/_lof.py:277: UserWarning: n_neighbors (10) is greater than the total number of samples (7). n_neighbors will be set to (n_samples - 1) for estimation.\n",
      "  % (self.n_neighbors, n_samples))\n",
      "/home/charles/anaconda3/envs/torch/lib/python3.7/site-packages/sklearn/neighbors/_lof.py:277: UserWarning: n_neighbors (10) is greater than the total number of samples (7). n_neighbors will be set to (n_samples - 1) for estimation.\n",
      "  % (self.n_neighbors, n_samples))\n",
      "/home/charles/anaconda3/envs/torch/lib/python3.7/site-packages/sklearn/neighbors/_lof.py:277: UserWarning: n_neighbors (10) is greater than the total number of samples (7). n_neighbors will be set to (n_samples - 1) for estimation.\n",
      "  % (self.n_neighbors, n_samples))\n",
      "/home/charles/anaconda3/envs/torch/lib/python3.7/site-packages/sklearn/neighbors/_lof.py:277: UserWarning: n_neighbors (10) is greater than the total number of samples (7). n_neighbors will be set to (n_samples - 1) for estimation.\n",
      "  % (self.n_neighbors, n_samples))\n",
      "/home/charles/anaconda3/envs/torch/lib/python3.7/site-packages/sklearn/neighbors/_lof.py:277: UserWarning: n_neighbors (10) is greater than the total number of samples (7). n_neighbors will be set to (n_samples - 1) for estimation.\n",
      "  % (self.n_neighbors, n_samples))\n",
      "/home/charles/anaconda3/envs/torch/lib/python3.7/site-packages/sklearn/neighbors/_lof.py:277: UserWarning: n_neighbors (10) is greater than the total number of samples (7). n_neighbors will be set to (n_samples - 1) for estimation.\n",
      "  % (self.n_neighbors, n_samples))\n",
      "/home/charles/anaconda3/envs/torch/lib/python3.7/site-packages/sklearn/neighbors/_lof.py:277: UserWarning: n_neighbors (10) is greater than the total number of samples (7). n_neighbors will be set to (n_samples - 1) for estimation.\n",
      "  % (self.n_neighbors, n_samples))\n",
      "/home/charles/anaconda3/envs/torch/lib/python3.7/site-packages/sklearn/neighbors/_lof.py:277: UserWarning: n_neighbors (10) is greater than the total number of samples (7). n_neighbors will be set to (n_samples - 1) for estimation.\n",
      "  % (self.n_neighbors, n_samples))\n",
      "/home/charles/anaconda3/envs/torch/lib/python3.7/site-packages/sklearn/neighbors/_lof.py:277: UserWarning: n_neighbors (10) is greater than the total number of samples (7). n_neighbors will be set to (n_samples - 1) for estimation.\n",
      "  % (self.n_neighbors, n_samples))\n",
      "/home/charles/anaconda3/envs/torch/lib/python3.7/site-packages/sklearn/neighbors/_lof.py:277: UserWarning: n_neighbors (10) is greater than the total number of samples (7). n_neighbors will be set to (n_samples - 1) for estimation.\n",
      "  % (self.n_neighbors, n_samples))\n",
      "/home/charles/anaconda3/envs/torch/lib/python3.7/site-packages/sklearn/neighbors/_lof.py:277: UserWarning: n_neighbors (10) is greater than the total number of samples (7). n_neighbors will be set to (n_samples - 1) for estimation.\n",
      "  % (self.n_neighbors, n_samples))\n",
      "/home/charles/anaconda3/envs/torch/lib/python3.7/site-packages/sklearn/neighbors/_lof.py:277: UserWarning: n_neighbors (10) is greater than the total number of samples (7). n_neighbors will be set to (n_samples - 1) for estimation.\n",
      "  % (self.n_neighbors, n_samples))\n",
      "/home/charles/anaconda3/envs/torch/lib/python3.7/site-packages/sklearn/neighbors/_lof.py:277: UserWarning: n_neighbors (10) is greater than the total number of samples (7). n_neighbors will be set to (n_samples - 1) for estimation.\n",
      "  % (self.n_neighbors, n_samples))\n",
      "/home/charles/anaconda3/envs/torch/lib/python3.7/site-packages/sklearn/neighbors/_lof.py:277: UserWarning: n_neighbors (10) is greater than the total number of samples (7). n_neighbors will be set to (n_samples - 1) for estimation.\n",
      "  % (self.n_neighbors, n_samples))\n",
      "/home/charles/anaconda3/envs/torch/lib/python3.7/site-packages/sklearn/neighbors/_lof.py:277: UserWarning: n_neighbors (10) is greater than the total number of samples (7). n_neighbors will be set to (n_samples - 1) for estimation.\n",
      "  % (self.n_neighbors, n_samples))\n",
      "/home/charles/anaconda3/envs/torch/lib/python3.7/site-packages/sklearn/neighbors/_lof.py:277: UserWarning: n_neighbors (10) is greater than the total number of samples (7). n_neighbors will be set to (n_samples - 1) for estimation.\n",
      "  % (self.n_neighbors, n_samples))\n",
      "/home/charles/anaconda3/envs/torch/lib/python3.7/site-packages/sklearn/neighbors/_lof.py:277: UserWarning: n_neighbors (10) is greater than the total number of samples (7). n_neighbors will be set to (n_samples - 1) for estimation.\n",
      "  % (self.n_neighbors, n_samples))\n",
      "/home/charles/anaconda3/envs/torch/lib/python3.7/site-packages/sklearn/neighbors/_lof.py:277: UserWarning: n_neighbors (10) is greater than the total number of samples (7). n_neighbors will be set to (n_samples - 1) for estimation.\n",
      "  % (self.n_neighbors, n_samples))\n",
      "/home/charles/anaconda3/envs/torch/lib/python3.7/site-packages/sklearn/neighbors/_lof.py:277: UserWarning: n_neighbors (10) is greater than the total number of samples (7). n_neighbors will be set to (n_samples - 1) for estimation.\n",
      "  % (self.n_neighbors, n_samples))\n",
      "/home/charles/anaconda3/envs/torch/lib/python3.7/site-packages/sklearn/neighbors/_lof.py:277: UserWarning: n_neighbors (10) is greater than the total number of samples (7). n_neighbors will be set to (n_samples - 1) for estimation.\n",
      "  % (self.n_neighbors, n_samples))\n",
      "/home/charles/anaconda3/envs/torch/lib/python3.7/site-packages/sklearn/neighbors/_lof.py:277: UserWarning: n_neighbors (10) is greater than the total number of samples (7). n_neighbors will be set to (n_samples - 1) for estimation.\n",
      "  % (self.n_neighbors, n_samples))\n",
      "/home/charles/anaconda3/envs/torch/lib/python3.7/site-packages/sklearn/neighbors/_lof.py:277: UserWarning: n_neighbors (10) is greater than the total number of samples (7). n_neighbors will be set to (n_samples - 1) for estimation.\n",
      "  % (self.n_neighbors, n_samples))\n",
      "/home/charles/anaconda3/envs/torch/lib/python3.7/site-packages/sklearn/neighbors/_lof.py:277: UserWarning: n_neighbors (10) is greater than the total number of samples (7). n_neighbors will be set to (n_samples - 1) for estimation.\n",
      "  % (self.n_neighbors, n_samples))\n",
      "/home/charles/anaconda3/envs/torch/lib/python3.7/site-packages/sklearn/neighbors/_lof.py:277: UserWarning: n_neighbors (10) is greater than the total number of samples (7). n_neighbors will be set to (n_samples - 1) for estimation.\n",
      "  % (self.n_neighbors, n_samples))\n",
      "/home/charles/anaconda3/envs/torch/lib/python3.7/site-packages/sklearn/neighbors/_lof.py:277: UserWarning: n_neighbors (10) is greater than the total number of samples (7). n_neighbors will be set to (n_samples - 1) for estimation.\n",
      "  % (self.n_neighbors, n_samples))\n",
      "/home/charles/anaconda3/envs/torch/lib/python3.7/site-packages/sklearn/neighbors/_lof.py:277: UserWarning: n_neighbors (10) is greater than the total number of samples (7). n_neighbors will be set to (n_samples - 1) for estimation.\n",
      "  % (self.n_neighbors, n_samples))\n",
      "/home/charles/anaconda3/envs/torch/lib/python3.7/site-packages/sklearn/neighbors/_lof.py:277: UserWarning: n_neighbors (10) is greater than the total number of samples (7). n_neighbors will be set to (n_samples - 1) for estimation.\n",
      "  % (self.n_neighbors, n_samples))\n",
      "/home/charles/anaconda3/envs/torch/lib/python3.7/site-packages/sklearn/neighbors/_lof.py:277: UserWarning: n_neighbors (10) is greater than the total number of samples (7). n_neighbors will be set to (n_samples - 1) for estimation.\n",
      "  % (self.n_neighbors, n_samples))\n",
      "/home/charles/anaconda3/envs/torch/lib/python3.7/site-packages/sklearn/neighbors/_lof.py:277: UserWarning: n_neighbors (10) is greater than the total number of samples (7). n_neighbors will be set to (n_samples - 1) for estimation.\n",
      "  % (self.n_neighbors, n_samples))\n",
      "/home/charles/anaconda3/envs/torch/lib/python3.7/site-packages/sklearn/neighbors/_lof.py:277: UserWarning: n_neighbors (10) is greater than the total number of samples (7). n_neighbors will be set to (n_samples - 1) for estimation.\n",
      "  % (self.n_neighbors, n_samples))\n",
      "/home/charles/anaconda3/envs/torch/lib/python3.7/site-packages/sklearn/neighbors/_lof.py:277: UserWarning: n_neighbors (10) is greater than the total number of samples (7). n_neighbors will be set to (n_samples - 1) for estimation.\n",
      "  % (self.n_neighbors, n_samples))\n",
      "/home/charles/anaconda3/envs/torch/lib/python3.7/site-packages/sklearn/neighbors/_lof.py:277: UserWarning: n_neighbors (10) is greater than the total number of samples (7). n_neighbors will be set to (n_samples - 1) for estimation.\n",
      "  % (self.n_neighbors, n_samples))\n",
      "/home/charles/anaconda3/envs/torch/lib/python3.7/site-packages/sklearn/neighbors/_lof.py:277: UserWarning: n_neighbors (10) is greater than the total number of samples (7). n_neighbors will be set to (n_samples - 1) for estimation.\n",
      "  % (self.n_neighbors, n_samples))\n",
      "/home/charles/anaconda3/envs/torch/lib/python3.7/site-packages/sklearn/neighbors/_lof.py:277: UserWarning: n_neighbors (10) is greater than the total number of samples (7). n_neighbors will be set to (n_samples - 1) for estimation.\n",
      "  % (self.n_neighbors, n_samples))\n",
      "/home/charles/anaconda3/envs/torch/lib/python3.7/site-packages/sklearn/neighbors/_lof.py:277: UserWarning: n_neighbors (10) is greater than the total number of samples (7). n_neighbors will be set to (n_samples - 1) for estimation.\n",
      "  % (self.n_neighbors, n_samples))\n",
      "/home/charles/anaconda3/envs/torch/lib/python3.7/site-packages/sklearn/neighbors/_lof.py:277: UserWarning: n_neighbors (10) is greater than the total number of samples (7). n_neighbors will be set to (n_samples - 1) for estimation.\n",
      "  % (self.n_neighbors, n_samples))\n",
      "/home/charles/anaconda3/envs/torch/lib/python3.7/site-packages/sklearn/neighbors/_lof.py:277: UserWarning: n_neighbors (10) is greater than the total number of samples (7). n_neighbors will be set to (n_samples - 1) for estimation.\n",
      "  % (self.n_neighbors, n_samples))\n",
      "/home/charles/anaconda3/envs/torch/lib/python3.7/site-packages/sklearn/neighbors/_lof.py:277: UserWarning: n_neighbors (10) is greater than the total number of samples (7). n_neighbors will be set to (n_samples - 1) for estimation.\n",
      "  % (self.n_neighbors, n_samples))\n",
      "/home/charles/anaconda3/envs/torch/lib/python3.7/site-packages/sklearn/neighbors/_lof.py:277: UserWarning: n_neighbors (10) is greater than the total number of samples (7). n_neighbors will be set to (n_samples - 1) for estimation.\n",
      "  % (self.n_neighbors, n_samples))\n",
      "/home/charles/anaconda3/envs/torch/lib/python3.7/site-packages/sklearn/neighbors/_lof.py:277: UserWarning: n_neighbors (10) is greater than the total number of samples (7). n_neighbors will be set to (n_samples - 1) for estimation.\n",
      "  % (self.n_neighbors, n_samples))\n",
      "/home/charles/anaconda3/envs/torch/lib/python3.7/site-packages/sklearn/neighbors/_lof.py:277: UserWarning: n_neighbors (10) is greater than the total number of samples (7). n_neighbors will be set to (n_samples - 1) for estimation.\n",
      "  % (self.n_neighbors, n_samples))\n",
      "/home/charles/anaconda3/envs/torch/lib/python3.7/site-packages/sklearn/neighbors/_lof.py:277: UserWarning: n_neighbors (10) is greater than the total number of samples (7). n_neighbors will be set to (n_samples - 1) for estimation.\n",
      "  % (self.n_neighbors, n_samples))\n",
      "/home/charles/anaconda3/envs/torch/lib/python3.7/site-packages/sklearn/neighbors/_lof.py:277: UserWarning: n_neighbors (10) is greater than the total number of samples (7). n_neighbors will be set to (n_samples - 1) for estimation.\n",
      "  % (self.n_neighbors, n_samples))\n",
      "/home/charles/anaconda3/envs/torch/lib/python3.7/site-packages/sklearn/neighbors/_lof.py:277: UserWarning: n_neighbors (10) is greater than the total number of samples (7). n_neighbors will be set to (n_samples - 1) for estimation.\n",
      "  % (self.n_neighbors, n_samples))\n",
      "/home/charles/anaconda3/envs/torch/lib/python3.7/site-packages/sklearn/neighbors/_lof.py:277: UserWarning: n_neighbors (10) is greater than the total number of samples (7). n_neighbors will be set to (n_samples - 1) for estimation.\n",
      "  % (self.n_neighbors, n_samples))\n",
      "/home/charles/anaconda3/envs/torch/lib/python3.7/site-packages/sklearn/neighbors/_lof.py:277: UserWarning: n_neighbors (10) is greater than the total number of samples (7). n_neighbors will be set to (n_samples - 1) for estimation.\n",
      "  % (self.n_neighbors, n_samples))\n",
      "/home/charles/anaconda3/envs/torch/lib/python3.7/site-packages/sklearn/neighbors/_lof.py:277: UserWarning: n_neighbors (10) is greater than the total number of samples (7). n_neighbors will be set to (n_samples - 1) for estimation.\n",
      "  % (self.n_neighbors, n_samples))\n",
      "/home/charles/anaconda3/envs/torch/lib/python3.7/site-packages/sklearn/neighbors/_lof.py:277: UserWarning: n_neighbors (10) is greater than the total number of samples (7). n_neighbors will be set to (n_samples - 1) for estimation.\n",
      "  % (self.n_neighbors, n_samples))\n",
      "/home/charles/anaconda3/envs/torch/lib/python3.7/site-packages/sklearn/neighbors/_lof.py:277: UserWarning: n_neighbors (10) is greater than the total number of samples (7). n_neighbors will be set to (n_samples - 1) for estimation.\n",
      "  % (self.n_neighbors, n_samples))\n",
      "/home/charles/anaconda3/envs/torch/lib/python3.7/site-packages/sklearn/neighbors/_lof.py:277: UserWarning: n_neighbors (10) is greater than the total number of samples (7). n_neighbors will be set to (n_samples - 1) for estimation.\n",
      "  % (self.n_neighbors, n_samples))\n",
      "/home/charles/anaconda3/envs/torch/lib/python3.7/site-packages/sklearn/neighbors/_lof.py:277: UserWarning: n_neighbors (10) is greater than the total number of samples (7). n_neighbors will be set to (n_samples - 1) for estimation.\n",
      "  % (self.n_neighbors, n_samples))\n",
      "/home/charles/anaconda3/envs/torch/lib/python3.7/site-packages/sklearn/neighbors/_lof.py:277: UserWarning: n_neighbors (10) is greater than the total number of samples (7). n_neighbors will be set to (n_samples - 1) for estimation.\n",
      "  % (self.n_neighbors, n_samples))\n",
      "/home/charles/anaconda3/envs/torch/lib/python3.7/site-packages/sklearn/neighbors/_lof.py:277: UserWarning: n_neighbors (10) is greater than the total number of samples (7). n_neighbors will be set to (n_samples - 1) for estimation.\n",
      "  % (self.n_neighbors, n_samples))\n",
      "/home/charles/anaconda3/envs/torch/lib/python3.7/site-packages/sklearn/neighbors/_lof.py:277: UserWarning: n_neighbors (10) is greater than the total number of samples (7). n_neighbors will be set to (n_samples - 1) for estimation.\n",
      "  % (self.n_neighbors, n_samples))\n",
      "/home/charles/anaconda3/envs/torch/lib/python3.7/site-packages/sklearn/neighbors/_lof.py:277: UserWarning: n_neighbors (10) is greater than the total number of samples (7). n_neighbors will be set to (n_samples - 1) for estimation.\n",
      "  % (self.n_neighbors, n_samples))\n",
      "/home/charles/anaconda3/envs/torch/lib/python3.7/site-packages/sklearn/neighbors/_lof.py:277: UserWarning: n_neighbors (10) is greater than the total number of samples (7). n_neighbors will be set to (n_samples - 1) for estimation.\n",
      "  % (self.n_neighbors, n_samples))\n",
      "/home/charles/anaconda3/envs/torch/lib/python3.7/site-packages/sklearn/neighbors/_lof.py:277: UserWarning: n_neighbors (10) is greater than the total number of samples (7). n_neighbors will be set to (n_samples - 1) for estimation.\n",
      "  % (self.n_neighbors, n_samples))\n",
      "/home/charles/anaconda3/envs/torch/lib/python3.7/site-packages/sklearn/neighbors/_lof.py:277: UserWarning: n_neighbors (10) is greater than the total number of samples (7). n_neighbors will be set to (n_samples - 1) for estimation.\n",
      "  % (self.n_neighbors, n_samples))\n",
      "/home/charles/anaconda3/envs/torch/lib/python3.7/site-packages/sklearn/neighbors/_lof.py:277: UserWarning: n_neighbors (10) is greater than the total number of samples (7). n_neighbors will be set to (n_samples - 1) for estimation.\n",
      "  % (self.n_neighbors, n_samples))\n",
      "/home/charles/anaconda3/envs/torch/lib/python3.7/site-packages/sklearn/neighbors/_lof.py:277: UserWarning: n_neighbors (10) is greater than the total number of samples (7). n_neighbors will be set to (n_samples - 1) for estimation.\n",
      "  % (self.n_neighbors, n_samples))\n",
      "/home/charles/anaconda3/envs/torch/lib/python3.7/site-packages/sklearn/neighbors/_lof.py:277: UserWarning: n_neighbors (10) is greater than the total number of samples (7). n_neighbors will be set to (n_samples - 1) for estimation.\n",
      "  % (self.n_neighbors, n_samples))\n",
      "/home/charles/anaconda3/envs/torch/lib/python3.7/site-packages/sklearn/neighbors/_lof.py:277: UserWarning: n_neighbors (10) is greater than the total number of samples (7). n_neighbors will be set to (n_samples - 1) for estimation.\n",
      "  % (self.n_neighbors, n_samples))\n",
      "/home/charles/anaconda3/envs/torch/lib/python3.7/site-packages/sklearn/neighbors/_lof.py:277: UserWarning: n_neighbors (10) is greater than the total number of samples (7). n_neighbors will be set to (n_samples - 1) for estimation.\n",
      "  % (self.n_neighbors, n_samples))\n",
      "/home/charles/anaconda3/envs/torch/lib/python3.7/site-packages/sklearn/neighbors/_lof.py:277: UserWarning: n_neighbors (10) is greater than the total number of samples (7). n_neighbors will be set to (n_samples - 1) for estimation.\n",
      "  % (self.n_neighbors, n_samples))\n",
      "/home/charles/anaconda3/envs/torch/lib/python3.7/site-packages/sklearn/neighbors/_lof.py:277: UserWarning: n_neighbors (10) is greater than the total number of samples (7). n_neighbors will be set to (n_samples - 1) for estimation.\n",
      "  % (self.n_neighbors, n_samples))\n",
      "/home/charles/anaconda3/envs/torch/lib/python3.7/site-packages/sklearn/neighbors/_lof.py:277: UserWarning: n_neighbors (10) is greater than the total number of samples (7). n_neighbors will be set to (n_samples - 1) for estimation.\n",
      "  % (self.n_neighbors, n_samples))\n",
      "/home/charles/anaconda3/envs/torch/lib/python3.7/site-packages/sklearn/neighbors/_lof.py:277: UserWarning: n_neighbors (10) is greater than the total number of samples (7). n_neighbors will be set to (n_samples - 1) for estimation.\n",
      "  % (self.n_neighbors, n_samples))\n",
      "/home/charles/anaconda3/envs/torch/lib/python3.7/site-packages/sklearn/neighbors/_lof.py:277: UserWarning: n_neighbors (10) is greater than the total number of samples (7). n_neighbors will be set to (n_samples - 1) for estimation.\n",
      "  % (self.n_neighbors, n_samples))\n",
      "/home/charles/anaconda3/envs/torch/lib/python3.7/site-packages/sklearn/neighbors/_lof.py:277: UserWarning: n_neighbors (10) is greater than the total number of samples (7). n_neighbors will be set to (n_samples - 1) for estimation.\n",
      "  % (self.n_neighbors, n_samples))\n",
      "/home/charles/anaconda3/envs/torch/lib/python3.7/site-packages/sklearn/neighbors/_lof.py:277: UserWarning: n_neighbors (10) is greater than the total number of samples (7). n_neighbors will be set to (n_samples - 1) for estimation.\n",
      "  % (self.n_neighbors, n_samples))\n",
      "/home/charles/anaconda3/envs/torch/lib/python3.7/site-packages/sklearn/neighbors/_lof.py:277: UserWarning: n_neighbors (10) is greater than the total number of samples (7). n_neighbors will be set to (n_samples - 1) for estimation.\n",
      "  % (self.n_neighbors, n_samples))\n",
      "/home/charles/anaconda3/envs/torch/lib/python3.7/site-packages/sklearn/neighbors/_lof.py:277: UserWarning: n_neighbors (10) is greater than the total number of samples (7). n_neighbors will be set to (n_samples - 1) for estimation.\n",
      "  % (self.n_neighbors, n_samples))\n",
      "/home/charles/anaconda3/envs/torch/lib/python3.7/site-packages/sklearn/neighbors/_lof.py:277: UserWarning: n_neighbors (10) is greater than the total number of samples (7). n_neighbors will be set to (n_samples - 1) for estimation.\n",
      "  % (self.n_neighbors, n_samples))\n",
      "/home/charles/anaconda3/envs/torch/lib/python3.7/site-packages/sklearn/neighbors/_lof.py:277: UserWarning: n_neighbors (10) is greater than the total number of samples (7). n_neighbors will be set to (n_samples - 1) for estimation.\n",
      "  % (self.n_neighbors, n_samples))\n",
      "/home/charles/anaconda3/envs/torch/lib/python3.7/site-packages/sklearn/neighbors/_lof.py:277: UserWarning: n_neighbors (10) is greater than the total number of samples (7). n_neighbors will be set to (n_samples - 1) for estimation.\n",
      "  % (self.n_neighbors, n_samples))\n",
      "/home/charles/anaconda3/envs/torch/lib/python3.7/site-packages/sklearn/neighbors/_lof.py:277: UserWarning: n_neighbors (10) is greater than the total number of samples (7). n_neighbors will be set to (n_samples - 1) for estimation.\n",
      "  % (self.n_neighbors, n_samples))\n",
      "/home/charles/anaconda3/envs/torch/lib/python3.7/site-packages/sklearn/neighbors/_lof.py:277: UserWarning: n_neighbors (10) is greater than the total number of samples (7). n_neighbors will be set to (n_samples - 1) for estimation.\n",
      "  % (self.n_neighbors, n_samples))\n",
      "/home/charles/anaconda3/envs/torch/lib/python3.7/site-packages/sklearn/neighbors/_lof.py:277: UserWarning: n_neighbors (10) is greater than the total number of samples (7). n_neighbors will be set to (n_samples - 1) for estimation.\n",
      "  % (self.n_neighbors, n_samples))\n",
      "/home/charles/anaconda3/envs/torch/lib/python3.7/site-packages/sklearn/neighbors/_lof.py:277: UserWarning: n_neighbors (10) is greater than the total number of samples (7). n_neighbors will be set to (n_samples - 1) for estimation.\n",
      "  % (self.n_neighbors, n_samples))\n",
      "/home/charles/anaconda3/envs/torch/lib/python3.7/site-packages/sklearn/neighbors/_lof.py:277: UserWarning: n_neighbors (10) is greater than the total number of samples (7). n_neighbors will be set to (n_samples - 1) for estimation.\n",
      "  % (self.n_neighbors, n_samples))\n",
      "/home/charles/anaconda3/envs/torch/lib/python3.7/site-packages/sklearn/neighbors/_lof.py:277: UserWarning: n_neighbors (10) is greater than the total number of samples (7). n_neighbors will be set to (n_samples - 1) for estimation.\n",
      "  % (self.n_neighbors, n_samples))\n",
      "/home/charles/anaconda3/envs/torch/lib/python3.7/site-packages/sklearn/neighbors/_lof.py:277: UserWarning: n_neighbors (10) is greater than the total number of samples (7). n_neighbors will be set to (n_samples - 1) for estimation.\n",
      "  % (self.n_neighbors, n_samples))\n",
      "/home/charles/anaconda3/envs/torch/lib/python3.7/site-packages/sklearn/neighbors/_lof.py:277: UserWarning: n_neighbors (10) is greater than the total number of samples (7). n_neighbors will be set to (n_samples - 1) for estimation.\n",
      "  % (self.n_neighbors, n_samples))\n",
      "/home/charles/anaconda3/envs/torch/lib/python3.7/site-packages/sklearn/neighbors/_lof.py:277: UserWarning: n_neighbors (10) is greater than the total number of samples (7). n_neighbors will be set to (n_samples - 1) for estimation.\n",
      "  % (self.n_neighbors, n_samples))\n",
      "/home/charles/anaconda3/envs/torch/lib/python3.7/site-packages/sklearn/neighbors/_lof.py:277: UserWarning: n_neighbors (10) is greater than the total number of samples (7). n_neighbors will be set to (n_samples - 1) for estimation.\n",
      "  % (self.n_neighbors, n_samples))\n",
      "/home/charles/anaconda3/envs/torch/lib/python3.7/site-packages/sklearn/neighbors/_lof.py:277: UserWarning: n_neighbors (10) is greater than the total number of samples (7). n_neighbors will be set to (n_samples - 1) for estimation.\n",
      "  % (self.n_neighbors, n_samples))\n",
      "/home/charles/anaconda3/envs/torch/lib/python3.7/site-packages/sklearn/neighbors/_lof.py:277: UserWarning: n_neighbors (10) is greater than the total number of samples (7). n_neighbors will be set to (n_samples - 1) for estimation.\n",
      "  % (self.n_neighbors, n_samples))\n",
      "/home/charles/anaconda3/envs/torch/lib/python3.7/site-packages/sklearn/neighbors/_lof.py:277: UserWarning: n_neighbors (10) is greater than the total number of samples (7). n_neighbors will be set to (n_samples - 1) for estimation.\n",
      "  % (self.n_neighbors, n_samples))\n",
      "/home/charles/anaconda3/envs/torch/lib/python3.7/site-packages/sklearn/neighbors/_lof.py:277: UserWarning: n_neighbors (10) is greater than the total number of samples (7). n_neighbors will be set to (n_samples - 1) for estimation.\n",
      "  % (self.n_neighbors, n_samples))\n",
      "/home/charles/anaconda3/envs/torch/lib/python3.7/site-packages/sklearn/neighbors/_lof.py:277: UserWarning: n_neighbors (10) is greater than the total number of samples (7). n_neighbors will be set to (n_samples - 1) for estimation.\n",
      "  % (self.n_neighbors, n_samples))\n",
      "/home/charles/anaconda3/envs/torch/lib/python3.7/site-packages/sklearn/neighbors/_lof.py:277: UserWarning: n_neighbors (10) is greater than the total number of samples (7). n_neighbors will be set to (n_samples - 1) for estimation.\n",
      "  % (self.n_neighbors, n_samples))\n",
      "/home/charles/anaconda3/envs/torch/lib/python3.7/site-packages/sklearn/neighbors/_lof.py:277: UserWarning: n_neighbors (10) is greater than the total number of samples (7). n_neighbors will be set to (n_samples - 1) for estimation.\n",
      "  % (self.n_neighbors, n_samples))\n",
      "/home/charles/anaconda3/envs/torch/lib/python3.7/site-packages/sklearn/neighbors/_lof.py:277: UserWarning: n_neighbors (10) is greater than the total number of samples (7). n_neighbors will be set to (n_samples - 1) for estimation.\n",
      "  % (self.n_neighbors, n_samples))\n",
      "/home/charles/anaconda3/envs/torch/lib/python3.7/site-packages/sklearn/neighbors/_lof.py:277: UserWarning: n_neighbors (10) is greater than the total number of samples (7). n_neighbors will be set to (n_samples - 1) for estimation.\n",
      "  % (self.n_neighbors, n_samples))\n",
      "/home/charles/anaconda3/envs/torch/lib/python3.7/site-packages/sklearn/neighbors/_lof.py:277: UserWarning: n_neighbors (10) is greater than the total number of samples (7). n_neighbors will be set to (n_samples - 1) for estimation.\n",
      "  % (self.n_neighbors, n_samples))\n",
      "/home/charles/anaconda3/envs/torch/lib/python3.7/site-packages/sklearn/neighbors/_lof.py:277: UserWarning: n_neighbors (10) is greater than the total number of samples (7). n_neighbors will be set to (n_samples - 1) for estimation.\n",
      "  % (self.n_neighbors, n_samples))\n",
      "/home/charles/anaconda3/envs/torch/lib/python3.7/site-packages/sklearn/neighbors/_lof.py:277: UserWarning: n_neighbors (10) is greater than the total number of samples (7). n_neighbors will be set to (n_samples - 1) for estimation.\n",
      "  % (self.n_neighbors, n_samples))\n",
      "/home/charles/anaconda3/envs/torch/lib/python3.7/site-packages/sklearn/neighbors/_lof.py:277: UserWarning: n_neighbors (10) is greater than the total number of samples (7). n_neighbors will be set to (n_samples - 1) for estimation.\n",
      "  % (self.n_neighbors, n_samples))\n",
      "/home/charles/anaconda3/envs/torch/lib/python3.7/site-packages/sklearn/neighbors/_lof.py:277: UserWarning: n_neighbors (10) is greater than the total number of samples (7). n_neighbors will be set to (n_samples - 1) for estimation.\n",
      "  % (self.n_neighbors, n_samples))\n",
      "/home/charles/anaconda3/envs/torch/lib/python3.7/site-packages/sklearn/neighbors/_lof.py:277: UserWarning: n_neighbors (10) is greater than the total number of samples (7). n_neighbors will be set to (n_samples - 1) for estimation.\n",
      "  % (self.n_neighbors, n_samples))\n",
      "/home/charles/anaconda3/envs/torch/lib/python3.7/site-packages/sklearn/neighbors/_lof.py:277: UserWarning: n_neighbors (10) is greater than the total number of samples (7). n_neighbors will be set to (n_samples - 1) for estimation.\n",
      "  % (self.n_neighbors, n_samples))\n",
      "/home/charles/anaconda3/envs/torch/lib/python3.7/site-packages/sklearn/neighbors/_lof.py:277: UserWarning: n_neighbors (10) is greater than the total number of samples (7). n_neighbors will be set to (n_samples - 1) for estimation.\n",
      "  % (self.n_neighbors, n_samples))\n",
      "/home/charles/anaconda3/envs/torch/lib/python3.7/site-packages/sklearn/neighbors/_lof.py:277: UserWarning: n_neighbors (10) is greater than the total number of samples (7). n_neighbors will be set to (n_samples - 1) for estimation.\n",
      "  % (self.n_neighbors, n_samples))\n",
      "/home/charles/anaconda3/envs/torch/lib/python3.7/site-packages/sklearn/neighbors/_lof.py:277: UserWarning: n_neighbors (10) is greater than the total number of samples (7). n_neighbors will be set to (n_samples - 1) for estimation.\n",
      "  % (self.n_neighbors, n_samples))\n",
      "/home/charles/anaconda3/envs/torch/lib/python3.7/site-packages/sklearn/neighbors/_lof.py:277: UserWarning: n_neighbors (10) is greater than the total number of samples (7). n_neighbors will be set to (n_samples - 1) for estimation.\n",
      "  % (self.n_neighbors, n_samples))\n",
      "/home/charles/anaconda3/envs/torch/lib/python3.7/site-packages/sklearn/neighbors/_lof.py:277: UserWarning: n_neighbors (10) is greater than the total number of samples (7). n_neighbors will be set to (n_samples - 1) for estimation.\n",
      "  % (self.n_neighbors, n_samples))\n",
      "/home/charles/anaconda3/envs/torch/lib/python3.7/site-packages/sklearn/neighbors/_lof.py:277: UserWarning: n_neighbors (10) is greater than the total number of samples (7). n_neighbors will be set to (n_samples - 1) for estimation.\n",
      "  % (self.n_neighbors, n_samples))\n",
      "/home/charles/anaconda3/envs/torch/lib/python3.7/site-packages/sklearn/neighbors/_lof.py:277: UserWarning: n_neighbors (10) is greater than the total number of samples (7). n_neighbors will be set to (n_samples - 1) for estimation.\n",
      "  % (self.n_neighbors, n_samples))\n",
      "/home/charles/anaconda3/envs/torch/lib/python3.7/site-packages/sklearn/neighbors/_lof.py:277: UserWarning: n_neighbors (10) is greater than the total number of samples (7). n_neighbors will be set to (n_samples - 1) for estimation.\n",
      "  % (self.n_neighbors, n_samples))\n",
      "/home/charles/anaconda3/envs/torch/lib/python3.7/site-packages/sklearn/neighbors/_lof.py:277: UserWarning: n_neighbors (10) is greater than the total number of samples (7). n_neighbors will be set to (n_samples - 1) for estimation.\n",
      "  % (self.n_neighbors, n_samples))\n",
      "/home/charles/anaconda3/envs/torch/lib/python3.7/site-packages/sklearn/neighbors/_lof.py:277: UserWarning: n_neighbors (10) is greater than the total number of samples (7). n_neighbors will be set to (n_samples - 1) for estimation.\n",
      "  % (self.n_neighbors, n_samples))\n",
      "/home/charles/anaconda3/envs/torch/lib/python3.7/site-packages/sklearn/neighbors/_lof.py:277: UserWarning: n_neighbors (10) is greater than the total number of samples (7). n_neighbors will be set to (n_samples - 1) for estimation.\n",
      "  % (self.n_neighbors, n_samples))\n",
      "/home/charles/anaconda3/envs/torch/lib/python3.7/site-packages/sklearn/neighbors/_lof.py:277: UserWarning: n_neighbors (10) is greater than the total number of samples (7). n_neighbors will be set to (n_samples - 1) for estimation.\n",
      "  % (self.n_neighbors, n_samples))\n",
      "/home/charles/anaconda3/envs/torch/lib/python3.7/site-packages/sklearn/neighbors/_lof.py:277: UserWarning: n_neighbors (10) is greater than the total number of samples (7). n_neighbors will be set to (n_samples - 1) for estimation.\n",
      "  % (self.n_neighbors, n_samples))\n",
      "/home/charles/anaconda3/envs/torch/lib/python3.7/site-packages/sklearn/neighbors/_lof.py:277: UserWarning: n_neighbors (10) is greater than the total number of samples (7). n_neighbors will be set to (n_samples - 1) for estimation.\n",
      "  % (self.n_neighbors, n_samples))\n",
      "/home/charles/anaconda3/envs/torch/lib/python3.7/site-packages/sklearn/neighbors/_lof.py:277: UserWarning: n_neighbors (10) is greater than the total number of samples (7). n_neighbors will be set to (n_samples - 1) for estimation.\n",
      "  % (self.n_neighbors, n_samples))\n",
      "/home/charles/anaconda3/envs/torch/lib/python3.7/site-packages/sklearn/neighbors/_lof.py:277: UserWarning: n_neighbors (10) is greater than the total number of samples (7). n_neighbors will be set to (n_samples - 1) for estimation.\n",
      "  % (self.n_neighbors, n_samples))\n",
      "/home/charles/anaconda3/envs/torch/lib/python3.7/site-packages/sklearn/neighbors/_lof.py:277: UserWarning: n_neighbors (10) is greater than the total number of samples (7). n_neighbors will be set to (n_samples - 1) for estimation.\n",
      "  % (self.n_neighbors, n_samples))\n",
      "/home/charles/anaconda3/envs/torch/lib/python3.7/site-packages/sklearn/neighbors/_lof.py:277: UserWarning: n_neighbors (10) is greater than the total number of samples (7). n_neighbors will be set to (n_samples - 1) for estimation.\n",
      "  % (self.n_neighbors, n_samples))\n",
      "/home/charles/anaconda3/envs/torch/lib/python3.7/site-packages/sklearn/neighbors/_lof.py:277: UserWarning: n_neighbors (10) is greater than the total number of samples (7). n_neighbors will be set to (n_samples - 1) for estimation.\n",
      "  % (self.n_neighbors, n_samples))\n",
      "/home/charles/anaconda3/envs/torch/lib/python3.7/site-packages/sklearn/neighbors/_lof.py:277: UserWarning: n_neighbors (10) is greater than the total number of samples (7). n_neighbors will be set to (n_samples - 1) for estimation.\n",
      "  % (self.n_neighbors, n_samples))\n",
      "/home/charles/anaconda3/envs/torch/lib/python3.7/site-packages/sklearn/neighbors/_lof.py:277: UserWarning: n_neighbors (10) is greater than the total number of samples (7). n_neighbors will be set to (n_samples - 1) for estimation.\n",
      "  % (self.n_neighbors, n_samples))\n",
      "/home/charles/anaconda3/envs/torch/lib/python3.7/site-packages/sklearn/neighbors/_lof.py:277: UserWarning: n_neighbors (10) is greater than the total number of samples (7). n_neighbors will be set to (n_samples - 1) for estimation.\n",
      "  % (self.n_neighbors, n_samples))\n",
      "/home/charles/anaconda3/envs/torch/lib/python3.7/site-packages/sklearn/neighbors/_lof.py:277: UserWarning: n_neighbors (10) is greater than the total number of samples (7). n_neighbors will be set to (n_samples - 1) for estimation.\n",
      "  % (self.n_neighbors, n_samples))\n",
      "/home/charles/anaconda3/envs/torch/lib/python3.7/site-packages/sklearn/neighbors/_lof.py:277: UserWarning: n_neighbors (10) is greater than the total number of samples (7). n_neighbors will be set to (n_samples - 1) for estimation.\n",
      "  % (self.n_neighbors, n_samples))\n",
      "/home/charles/anaconda3/envs/torch/lib/python3.7/site-packages/sklearn/neighbors/_lof.py:277: UserWarning: n_neighbors (10) is greater than the total number of samples (7). n_neighbors will be set to (n_samples - 1) for estimation.\n",
      "  % (self.n_neighbors, n_samples))\n",
      "/home/charles/anaconda3/envs/torch/lib/python3.7/site-packages/sklearn/neighbors/_lof.py:277: UserWarning: n_neighbors (10) is greater than the total number of samples (7). n_neighbors will be set to (n_samples - 1) for estimation.\n",
      "  % (self.n_neighbors, n_samples))\n",
      "/home/charles/anaconda3/envs/torch/lib/python3.7/site-packages/sklearn/neighbors/_lof.py:277: UserWarning: n_neighbors (10) is greater than the total number of samples (7). n_neighbors will be set to (n_samples - 1) for estimation.\n",
      "  % (self.n_neighbors, n_samples))\n",
      "/home/charles/anaconda3/envs/torch/lib/python3.7/site-packages/sklearn/neighbors/_lof.py:277: UserWarning: n_neighbors (10) is greater than the total number of samples (7). n_neighbors will be set to (n_samples - 1) for estimation.\n",
      "  % (self.n_neighbors, n_samples))\n",
      "/home/charles/anaconda3/envs/torch/lib/python3.7/site-packages/sklearn/neighbors/_lof.py:277: UserWarning: n_neighbors (10) is greater than the total number of samples (7). n_neighbors will be set to (n_samples - 1) for estimation.\n",
      "  % (self.n_neighbors, n_samples))\n",
      "/home/charles/anaconda3/envs/torch/lib/python3.7/site-packages/sklearn/neighbors/_lof.py:277: UserWarning: n_neighbors (10) is greater than the total number of samples (7). n_neighbors will be set to (n_samples - 1) for estimation.\n",
      "  % (self.n_neighbors, n_samples))\n",
      "/home/charles/anaconda3/envs/torch/lib/python3.7/site-packages/sklearn/neighbors/_lof.py:277: UserWarning: n_neighbors (10) is greater than the total number of samples (7). n_neighbors will be set to (n_samples - 1) for estimation.\n",
      "  % (self.n_neighbors, n_samples))\n",
      "/home/charles/anaconda3/envs/torch/lib/python3.7/site-packages/sklearn/neighbors/_lof.py:277: UserWarning: n_neighbors (10) is greater than the total number of samples (7). n_neighbors will be set to (n_samples - 1) for estimation.\n",
      "  % (self.n_neighbors, n_samples))\n",
      "/home/charles/anaconda3/envs/torch/lib/python3.7/site-packages/sklearn/neighbors/_lof.py:277: UserWarning: n_neighbors (10) is greater than the total number of samples (7). n_neighbors will be set to (n_samples - 1) for estimation.\n",
      "  % (self.n_neighbors, n_samples))\n",
      "/home/charles/anaconda3/envs/torch/lib/python3.7/site-packages/sklearn/neighbors/_lof.py:277: UserWarning: n_neighbors (10) is greater than the total number of samples (7). n_neighbors will be set to (n_samples - 1) for estimation.\n",
      "  % (self.n_neighbors, n_samples))\n",
      "/home/charles/anaconda3/envs/torch/lib/python3.7/site-packages/sklearn/neighbors/_lof.py:277: UserWarning: n_neighbors (10) is greater than the total number of samples (7). n_neighbors will be set to (n_samples - 1) for estimation.\n",
      "  % (self.n_neighbors, n_samples))\n",
      "/home/charles/anaconda3/envs/torch/lib/python3.7/site-packages/sklearn/neighbors/_lof.py:277: UserWarning: n_neighbors (10) is greater than the total number of samples (7). n_neighbors will be set to (n_samples - 1) for estimation.\n",
      "  % (self.n_neighbors, n_samples))\n",
      "/home/charles/anaconda3/envs/torch/lib/python3.7/site-packages/sklearn/neighbors/_lof.py:277: UserWarning: n_neighbors (10) is greater than the total number of samples (7). n_neighbors will be set to (n_samples - 1) for estimation.\n",
      "  % (self.n_neighbors, n_samples))\n",
      "/home/charles/anaconda3/envs/torch/lib/python3.7/site-packages/sklearn/neighbors/_lof.py:277: UserWarning: n_neighbors (10) is greater than the total number of samples (7). n_neighbors will be set to (n_samples - 1) for estimation.\n",
      "  % (self.n_neighbors, n_samples))\n",
      "/home/charles/anaconda3/envs/torch/lib/python3.7/site-packages/sklearn/neighbors/_lof.py:277: UserWarning: n_neighbors (10) is greater than the total number of samples (7). n_neighbors will be set to (n_samples - 1) for estimation.\n",
      "  % (self.n_neighbors, n_samples))\n",
      "/home/charles/anaconda3/envs/torch/lib/python3.7/site-packages/sklearn/neighbors/_lof.py:277: UserWarning: n_neighbors (10) is greater than the total number of samples (7). n_neighbors will be set to (n_samples - 1) for estimation.\n",
      "  % (self.n_neighbors, n_samples))\n",
      "/home/charles/anaconda3/envs/torch/lib/python3.7/site-packages/sklearn/neighbors/_lof.py:277: UserWarning: n_neighbors (10) is greater than the total number of samples (7). n_neighbors will be set to (n_samples - 1) for estimation.\n",
      "  % (self.n_neighbors, n_samples))\n",
      "/home/charles/anaconda3/envs/torch/lib/python3.7/site-packages/sklearn/neighbors/_lof.py:277: UserWarning: n_neighbors (10) is greater than the total number of samples (7). n_neighbors will be set to (n_samples - 1) for estimation.\n",
      "  % (self.n_neighbors, n_samples))\n",
      "/home/charles/anaconda3/envs/torch/lib/python3.7/site-packages/sklearn/neighbors/_lof.py:277: UserWarning: n_neighbors (10) is greater than the total number of samples (7). n_neighbors will be set to (n_samples - 1) for estimation.\n",
      "  % (self.n_neighbors, n_samples))\n",
      "/home/charles/anaconda3/envs/torch/lib/python3.7/site-packages/sklearn/neighbors/_lof.py:277: UserWarning: n_neighbors (10) is greater than the total number of samples (7). n_neighbors will be set to (n_samples - 1) for estimation.\n",
      "  % (self.n_neighbors, n_samples))\n",
      "/home/charles/anaconda3/envs/torch/lib/python3.7/site-packages/sklearn/neighbors/_lof.py:277: UserWarning: n_neighbors (10) is greater than the total number of samples (7). n_neighbors will be set to (n_samples - 1) for estimation.\n",
      "  % (self.n_neighbors, n_samples))\n",
      "/home/charles/anaconda3/envs/torch/lib/python3.7/site-packages/sklearn/neighbors/_lof.py:277: UserWarning: n_neighbors (10) is greater than the total number of samples (7). n_neighbors will be set to (n_samples - 1) for estimation.\n",
      "  % (self.n_neighbors, n_samples))\n",
      "/home/charles/anaconda3/envs/torch/lib/python3.7/site-packages/sklearn/neighbors/_lof.py:277: UserWarning: n_neighbors (10) is greater than the total number of samples (7). n_neighbors will be set to (n_samples - 1) for estimation.\n",
      "  % (self.n_neighbors, n_samples))\n",
      "/home/charles/anaconda3/envs/torch/lib/python3.7/site-packages/sklearn/neighbors/_lof.py:277: UserWarning: n_neighbors (10) is greater than the total number of samples (7). n_neighbors will be set to (n_samples - 1) for estimation.\n",
      "  % (self.n_neighbors, n_samples))\n",
      "/home/charles/anaconda3/envs/torch/lib/python3.7/site-packages/sklearn/neighbors/_lof.py:277: UserWarning: n_neighbors (10) is greater than the total number of samples (7). n_neighbors will be set to (n_samples - 1) for estimation.\n",
      "  % (self.n_neighbors, n_samples))\n",
      "/home/charles/anaconda3/envs/torch/lib/python3.7/site-packages/sklearn/neighbors/_lof.py:277: UserWarning: n_neighbors (10) is greater than the total number of samples (7). n_neighbors will be set to (n_samples - 1) for estimation.\n",
      "  % (self.n_neighbors, n_samples))\n",
      "/home/charles/anaconda3/envs/torch/lib/python3.7/site-packages/sklearn/neighbors/_lof.py:277: UserWarning: n_neighbors (10) is greater than the total number of samples (7). n_neighbors will be set to (n_samples - 1) for estimation.\n",
      "  % (self.n_neighbors, n_samples))\n",
      "/home/charles/anaconda3/envs/torch/lib/python3.7/site-packages/sklearn/neighbors/_lof.py:277: UserWarning: n_neighbors (10) is greater than the total number of samples (7). n_neighbors will be set to (n_samples - 1) for estimation.\n",
      "  % (self.n_neighbors, n_samples))\n",
      "/home/charles/anaconda3/envs/torch/lib/python3.7/site-packages/sklearn/neighbors/_lof.py:277: UserWarning: n_neighbors (10) is greater than the total number of samples (7). n_neighbors will be set to (n_samples - 1) for estimation.\n",
      "  % (self.n_neighbors, n_samples))\n",
      "/home/charles/anaconda3/envs/torch/lib/python3.7/site-packages/sklearn/neighbors/_lof.py:277: UserWarning: n_neighbors (10) is greater than the total number of samples (7). n_neighbors will be set to (n_samples - 1) for estimation.\n",
      "  % (self.n_neighbors, n_samples))\n",
      "/home/charles/anaconda3/envs/torch/lib/python3.7/site-packages/sklearn/neighbors/_lof.py:277: UserWarning: n_neighbors (10) is greater than the total number of samples (7). n_neighbors will be set to (n_samples - 1) for estimation.\n",
      "  % (self.n_neighbors, n_samples))\n",
      "/home/charles/anaconda3/envs/torch/lib/python3.7/site-packages/sklearn/neighbors/_lof.py:277: UserWarning: n_neighbors (10) is greater than the total number of samples (7). n_neighbors will be set to (n_samples - 1) for estimation.\n",
      "  % (self.n_neighbors, n_samples))\n",
      "/home/charles/anaconda3/envs/torch/lib/python3.7/site-packages/sklearn/neighbors/_lof.py:277: UserWarning: n_neighbors (10) is greater than the total number of samples (7). n_neighbors will be set to (n_samples - 1) for estimation.\n",
      "  % (self.n_neighbors, n_samples))\n",
      "/home/charles/anaconda3/envs/torch/lib/python3.7/site-packages/sklearn/neighbors/_lof.py:277: UserWarning: n_neighbors (10) is greater than the total number of samples (7). n_neighbors will be set to (n_samples - 1) for estimation.\n",
      "  % (self.n_neighbors, n_samples))\n",
      "/home/charles/anaconda3/envs/torch/lib/python3.7/site-packages/sklearn/neighbors/_lof.py:277: UserWarning: n_neighbors (10) is greater than the total number of samples (7). n_neighbors will be set to (n_samples - 1) for estimation.\n",
      "  % (self.n_neighbors, n_samples))\n",
      "/home/charles/anaconda3/envs/torch/lib/python3.7/site-packages/sklearn/neighbors/_lof.py:277: UserWarning: n_neighbors (10) is greater than the total number of samples (7). n_neighbors will be set to (n_samples - 1) for estimation.\n",
      "  % (self.n_neighbors, n_samples))\n",
      "/home/charles/anaconda3/envs/torch/lib/python3.7/site-packages/sklearn/neighbors/_lof.py:277: UserWarning: n_neighbors (10) is greater than the total number of samples (7). n_neighbors will be set to (n_samples - 1) for estimation.\n",
      "  % (self.n_neighbors, n_samples))\n",
      "/home/charles/anaconda3/envs/torch/lib/python3.7/site-packages/sklearn/neighbors/_lof.py:277: UserWarning: n_neighbors (10) is greater than the total number of samples (7). n_neighbors will be set to (n_samples - 1) for estimation.\n",
      "  % (self.n_neighbors, n_samples))\n",
      "/home/charles/anaconda3/envs/torch/lib/python3.7/site-packages/sklearn/neighbors/_lof.py:277: UserWarning: n_neighbors (10) is greater than the total number of samples (7). n_neighbors will be set to (n_samples - 1) for estimation.\n",
      "  % (self.n_neighbors, n_samples))\n",
      "/home/charles/anaconda3/envs/torch/lib/python3.7/site-packages/sklearn/neighbors/_lof.py:277: UserWarning: n_neighbors (10) is greater than the total number of samples (7). n_neighbors will be set to (n_samples - 1) for estimation.\n",
      "  % (self.n_neighbors, n_samples))\n",
      "/home/charles/anaconda3/envs/torch/lib/python3.7/site-packages/sklearn/neighbors/_lof.py:277: UserWarning: n_neighbors (10) is greater than the total number of samples (7). n_neighbors will be set to (n_samples - 1) for estimation.\n",
      "  % (self.n_neighbors, n_samples))\n",
      "/home/charles/anaconda3/envs/torch/lib/python3.7/site-packages/sklearn/neighbors/_lof.py:277: UserWarning: n_neighbors (10) is greater than the total number of samples (7). n_neighbors will be set to (n_samples - 1) for estimation.\n",
      "  % (self.n_neighbors, n_samples))\n",
      "/home/charles/anaconda3/envs/torch/lib/python3.7/site-packages/sklearn/neighbors/_lof.py:277: UserWarning: n_neighbors (10) is greater than the total number of samples (7). n_neighbors will be set to (n_samples - 1) for estimation.\n",
      "  % (self.n_neighbors, n_samples))\n",
      "/home/charles/anaconda3/envs/torch/lib/python3.7/site-packages/sklearn/neighbors/_lof.py:277: UserWarning: n_neighbors (10) is greater than the total number of samples (7). n_neighbors will be set to (n_samples - 1) for estimation.\n",
      "  % (self.n_neighbors, n_samples))\n",
      "/home/charles/anaconda3/envs/torch/lib/python3.7/site-packages/sklearn/neighbors/_lof.py:277: UserWarning: n_neighbors (10) is greater than the total number of samples (7). n_neighbors will be set to (n_samples - 1) for estimation.\n",
      "  % (self.n_neighbors, n_samples))\n",
      "/home/charles/anaconda3/envs/torch/lib/python3.7/site-packages/sklearn/neighbors/_lof.py:277: UserWarning: n_neighbors (10) is greater than the total number of samples (7). n_neighbors will be set to (n_samples - 1) for estimation.\n",
      "  % (self.n_neighbors, n_samples))\n",
      "/home/charles/anaconda3/envs/torch/lib/python3.7/site-packages/sklearn/neighbors/_lof.py:277: UserWarning: n_neighbors (10) is greater than the total number of samples (7). n_neighbors will be set to (n_samples - 1) for estimation.\n",
      "  % (self.n_neighbors, n_samples))\n",
      "/home/charles/anaconda3/envs/torch/lib/python3.7/site-packages/sklearn/neighbors/_lof.py:277: UserWarning: n_neighbors (10) is greater than the total number of samples (7). n_neighbors will be set to (n_samples - 1) for estimation.\n",
      "  % (self.n_neighbors, n_samples))\n",
      "/home/charles/anaconda3/envs/torch/lib/python3.7/site-packages/sklearn/neighbors/_lof.py:277: UserWarning: n_neighbors (10) is greater than the total number of samples (7). n_neighbors will be set to (n_samples - 1) for estimation.\n",
      "  % (self.n_neighbors, n_samples))\n",
      "/home/charles/anaconda3/envs/torch/lib/python3.7/site-packages/sklearn/neighbors/_lof.py:277: UserWarning: n_neighbors (10) is greater than the total number of samples (7). n_neighbors will be set to (n_samples - 1) for estimation.\n",
      "  % (self.n_neighbors, n_samples))\n",
      "/home/charles/anaconda3/envs/torch/lib/python3.7/site-packages/sklearn/neighbors/_lof.py:277: UserWarning: n_neighbors (10) is greater than the total number of samples (7). n_neighbors will be set to (n_samples - 1) for estimation.\n",
      "  % (self.n_neighbors, n_samples))\n",
      "/home/charles/anaconda3/envs/torch/lib/python3.7/site-packages/sklearn/neighbors/_lof.py:277: UserWarning: n_neighbors (10) is greater than the total number of samples (7). n_neighbors will be set to (n_samples - 1) for estimation.\n",
      "  % (self.n_neighbors, n_samples))\n",
      "/home/charles/anaconda3/envs/torch/lib/python3.7/site-packages/sklearn/neighbors/_lof.py:277: UserWarning: n_neighbors (10) is greater than the total number of samples (7). n_neighbors will be set to (n_samples - 1) for estimation.\n",
      "  % (self.n_neighbors, n_samples))\n",
      "/home/charles/anaconda3/envs/torch/lib/python3.7/site-packages/sklearn/neighbors/_lof.py:277: UserWarning: n_neighbors (10) is greater than the total number of samples (7). n_neighbors will be set to (n_samples - 1) for estimation.\n",
      "  % (self.n_neighbors, n_samples))\n",
      "/home/charles/anaconda3/envs/torch/lib/python3.7/site-packages/sklearn/neighbors/_lof.py:277: UserWarning: n_neighbors (10) is greater than the total number of samples (7). n_neighbors will be set to (n_samples - 1) for estimation.\n",
      "  % (self.n_neighbors, n_samples))\n",
      "/home/charles/anaconda3/envs/torch/lib/python3.7/site-packages/sklearn/neighbors/_lof.py:277: UserWarning: n_neighbors (10) is greater than the total number of samples (7). n_neighbors will be set to (n_samples - 1) for estimation.\n",
      "  % (self.n_neighbors, n_samples))\n",
      "/home/charles/anaconda3/envs/torch/lib/python3.7/site-packages/sklearn/neighbors/_lof.py:277: UserWarning: n_neighbors (10) is greater than the total number of samples (7). n_neighbors will be set to (n_samples - 1) for estimation.\n",
      "  % (self.n_neighbors, n_samples))\n",
      "/home/charles/anaconda3/envs/torch/lib/python3.7/site-packages/sklearn/neighbors/_lof.py:277: UserWarning: n_neighbors (10) is greater than the total number of samples (7). n_neighbors will be set to (n_samples - 1) for estimation.\n",
      "  % (self.n_neighbors, n_samples))\n",
      "/home/charles/anaconda3/envs/torch/lib/python3.7/site-packages/sklearn/neighbors/_lof.py:277: UserWarning: n_neighbors (10) is greater than the total number of samples (7). n_neighbors will be set to (n_samples - 1) for estimation.\n",
      "  % (self.n_neighbors, n_samples))\n",
      "/home/charles/anaconda3/envs/torch/lib/python3.7/site-packages/sklearn/neighbors/_lof.py:277: UserWarning: n_neighbors (10) is greater than the total number of samples (7). n_neighbors will be set to (n_samples - 1) for estimation.\n",
      "  % (self.n_neighbors, n_samples))\n",
      "/home/charles/anaconda3/envs/torch/lib/python3.7/site-packages/sklearn/neighbors/_lof.py:277: UserWarning: n_neighbors (10) is greater than the total number of samples (7). n_neighbors will be set to (n_samples - 1) for estimation.\n",
      "  % (self.n_neighbors, n_samples))\n",
      "/home/charles/anaconda3/envs/torch/lib/python3.7/site-packages/sklearn/neighbors/_lof.py:277: UserWarning: n_neighbors (10) is greater than the total number of samples (7). n_neighbors will be set to (n_samples - 1) for estimation.\n",
      "  % (self.n_neighbors, n_samples))\n",
      "/home/charles/anaconda3/envs/torch/lib/python3.7/site-packages/sklearn/neighbors/_lof.py:277: UserWarning: n_neighbors (10) is greater than the total number of samples (7). n_neighbors will be set to (n_samples - 1) for estimation.\n",
      "  % (self.n_neighbors, n_samples))\n",
      "/home/charles/anaconda3/envs/torch/lib/python3.7/site-packages/sklearn/neighbors/_lof.py:277: UserWarning: n_neighbors (10) is greater than the total number of samples (7). n_neighbors will be set to (n_samples - 1) for estimation.\n",
      "  % (self.n_neighbors, n_samples))\n",
      "/home/charles/anaconda3/envs/torch/lib/python3.7/site-packages/sklearn/neighbors/_lof.py:277: UserWarning: n_neighbors (10) is greater than the total number of samples (7). n_neighbors will be set to (n_samples - 1) for estimation.\n",
      "  % (self.n_neighbors, n_samples))\n",
      "/home/charles/anaconda3/envs/torch/lib/python3.7/site-packages/sklearn/neighbors/_lof.py:277: UserWarning: n_neighbors (10) is greater than the total number of samples (7). n_neighbors will be set to (n_samples - 1) for estimation.\n",
      "  % (self.n_neighbors, n_samples))\n",
      "/home/charles/anaconda3/envs/torch/lib/python3.7/site-packages/sklearn/neighbors/_lof.py:277: UserWarning: n_neighbors (10) is greater than the total number of samples (7). n_neighbors will be set to (n_samples - 1) for estimation.\n",
      "  % (self.n_neighbors, n_samples))\n",
      "/home/charles/anaconda3/envs/torch/lib/python3.7/site-packages/sklearn/neighbors/_lof.py:277: UserWarning: n_neighbors (10) is greater than the total number of samples (7). n_neighbors will be set to (n_samples - 1) for estimation.\n",
      "  % (self.n_neighbors, n_samples))\n",
      "/home/charles/anaconda3/envs/torch/lib/python3.7/site-packages/sklearn/neighbors/_lof.py:277: UserWarning: n_neighbors (10) is greater than the total number of samples (7). n_neighbors will be set to (n_samples - 1) for estimation.\n",
      "  % (self.n_neighbors, n_samples))\n",
      "/home/charles/anaconda3/envs/torch/lib/python3.7/site-packages/sklearn/neighbors/_lof.py:277: UserWarning: n_neighbors (10) is greater than the total number of samples (7). n_neighbors will be set to (n_samples - 1) for estimation.\n",
      "  % (self.n_neighbors, n_samples))\n",
      "/home/charles/anaconda3/envs/torch/lib/python3.7/site-packages/sklearn/neighbors/_lof.py:277: UserWarning: n_neighbors (10) is greater than the total number of samples (7). n_neighbors will be set to (n_samples - 1) for estimation.\n",
      "  % (self.n_neighbors, n_samples))\n",
      "/home/charles/anaconda3/envs/torch/lib/python3.7/site-packages/sklearn/neighbors/_lof.py:277: UserWarning: n_neighbors (10) is greater than the total number of samples (7). n_neighbors will be set to (n_samples - 1) for estimation.\n",
      "  % (self.n_neighbors, n_samples))\n",
      "/home/charles/anaconda3/envs/torch/lib/python3.7/site-packages/sklearn/neighbors/_lof.py:277: UserWarning: n_neighbors (10) is greater than the total number of samples (7). n_neighbors will be set to (n_samples - 1) for estimation.\n",
      "  % (self.n_neighbors, n_samples))\n",
      "/home/charles/anaconda3/envs/torch/lib/python3.7/site-packages/sklearn/neighbors/_lof.py:277: UserWarning: n_neighbors (10) is greater than the total number of samples (7). n_neighbors will be set to (n_samples - 1) for estimation.\n",
      "  % (self.n_neighbors, n_samples))\n",
      "/home/charles/anaconda3/envs/torch/lib/python3.7/site-packages/sklearn/neighbors/_lof.py:277: UserWarning: n_neighbors (10) is greater than the total number of samples (7). n_neighbors will be set to (n_samples - 1) for estimation.\n",
      "  % (self.n_neighbors, n_samples))\n",
      "/home/charles/anaconda3/envs/torch/lib/python3.7/site-packages/sklearn/neighbors/_lof.py:277: UserWarning: n_neighbors (10) is greater than the total number of samples (7). n_neighbors will be set to (n_samples - 1) for estimation.\n",
      "  % (self.n_neighbors, n_samples))\n",
      "/home/charles/anaconda3/envs/torch/lib/python3.7/site-packages/sklearn/neighbors/_lof.py:277: UserWarning: n_neighbors (10) is greater than the total number of samples (7). n_neighbors will be set to (n_samples - 1) for estimation.\n",
      "  % (self.n_neighbors, n_samples))\n",
      "/home/charles/anaconda3/envs/torch/lib/python3.7/site-packages/sklearn/neighbors/_lof.py:277: UserWarning: n_neighbors (10) is greater than the total number of samples (7). n_neighbors will be set to (n_samples - 1) for estimation.\n",
      "  % (self.n_neighbors, n_samples))\n",
      "/home/charles/anaconda3/envs/torch/lib/python3.7/site-packages/sklearn/neighbors/_lof.py:277: UserWarning: n_neighbors (10) is greater than the total number of samples (7). n_neighbors will be set to (n_samples - 1) for estimation.\n",
      "  % (self.n_neighbors, n_samples))\n",
      "/home/charles/anaconda3/envs/torch/lib/python3.7/site-packages/sklearn/neighbors/_lof.py:277: UserWarning: n_neighbors (10) is greater than the total number of samples (7). n_neighbors will be set to (n_samples - 1) for estimation.\n",
      "  % (self.n_neighbors, n_samples))\n",
      "/home/charles/anaconda3/envs/torch/lib/python3.7/site-packages/sklearn/neighbors/_lof.py:277: UserWarning: n_neighbors (10) is greater than the total number of samples (7). n_neighbors will be set to (n_samples - 1) for estimation.\n",
      "  % (self.n_neighbors, n_samples))\n",
      "/home/charles/anaconda3/envs/torch/lib/python3.7/site-packages/sklearn/neighbors/_lof.py:277: UserWarning: n_neighbors (10) is greater than the total number of samples (7). n_neighbors will be set to (n_samples - 1) for estimation.\n",
      "  % (self.n_neighbors, n_samples))\n",
      "/home/charles/anaconda3/envs/torch/lib/python3.7/site-packages/sklearn/neighbors/_lof.py:277: UserWarning: n_neighbors (10) is greater than the total number of samples (7). n_neighbors will be set to (n_samples - 1) for estimation.\n",
      "  % (self.n_neighbors, n_samples))\n",
      "/home/charles/anaconda3/envs/torch/lib/python3.7/site-packages/sklearn/neighbors/_lof.py:277: UserWarning: n_neighbors (10) is greater than the total number of samples (7). n_neighbors will be set to (n_samples - 1) for estimation.\n",
      "  % (self.n_neighbors, n_samples))\n",
      "/home/charles/anaconda3/envs/torch/lib/python3.7/site-packages/sklearn/neighbors/_lof.py:277: UserWarning: n_neighbors (10) is greater than the total number of samples (7). n_neighbors will be set to (n_samples - 1) for estimation.\n",
      "  % (self.n_neighbors, n_samples))\n",
      "/home/charles/anaconda3/envs/torch/lib/python3.7/site-packages/sklearn/neighbors/_lof.py:277: UserWarning: n_neighbors (10) is greater than the total number of samples (7). n_neighbors will be set to (n_samples - 1) for estimation.\n",
      "  % (self.n_neighbors, n_samples))\n",
      "/home/charles/anaconda3/envs/torch/lib/python3.7/site-packages/sklearn/neighbors/_lof.py:277: UserWarning: n_neighbors (10) is greater than the total number of samples (7). n_neighbors will be set to (n_samples - 1) for estimation.\n",
      "  % (self.n_neighbors, n_samples))\n",
      "/home/charles/anaconda3/envs/torch/lib/python3.7/site-packages/sklearn/neighbors/_lof.py:277: UserWarning: n_neighbors (10) is greater than the total number of samples (7). n_neighbors will be set to (n_samples - 1) for estimation.\n",
      "  % (self.n_neighbors, n_samples))\n",
      "/home/charles/anaconda3/envs/torch/lib/python3.7/site-packages/sklearn/neighbors/_lof.py:277: UserWarning: n_neighbors (10) is greater than the total number of samples (7). n_neighbors will be set to (n_samples - 1) for estimation.\n",
      "  % (self.n_neighbors, n_samples))\n",
      "/home/charles/anaconda3/envs/torch/lib/python3.7/site-packages/sklearn/neighbors/_lof.py:277: UserWarning: n_neighbors (10) is greater than the total number of samples (7). n_neighbors will be set to (n_samples - 1) for estimation.\n",
      "  % (self.n_neighbors, n_samples))\n",
      "/home/charles/anaconda3/envs/torch/lib/python3.7/site-packages/sklearn/neighbors/_lof.py:277: UserWarning: n_neighbors (10) is greater than the total number of samples (7). n_neighbors will be set to (n_samples - 1) for estimation.\n",
      "  % (self.n_neighbors, n_samples))\n",
      "/home/charles/anaconda3/envs/torch/lib/python3.7/site-packages/sklearn/neighbors/_lof.py:277: UserWarning: n_neighbors (10) is greater than the total number of samples (7). n_neighbors will be set to (n_samples - 1) for estimation.\n",
      "  % (self.n_neighbors, n_samples))\n",
      "/home/charles/anaconda3/envs/torch/lib/python3.7/site-packages/sklearn/neighbors/_lof.py:277: UserWarning: n_neighbors (10) is greater than the total number of samples (7). n_neighbors will be set to (n_samples - 1) for estimation.\n",
      "  % (self.n_neighbors, n_samples))\n",
      "/home/charles/anaconda3/envs/torch/lib/python3.7/site-packages/sklearn/neighbors/_lof.py:277: UserWarning: n_neighbors (10) is greater than the total number of samples (7). n_neighbors will be set to (n_samples - 1) for estimation.\n",
      "  % (self.n_neighbors, n_samples))\n",
      "/home/charles/anaconda3/envs/torch/lib/python3.7/site-packages/sklearn/neighbors/_lof.py:277: UserWarning: n_neighbors (10) is greater than the total number of samples (7). n_neighbors will be set to (n_samples - 1) for estimation.\n",
      "  % (self.n_neighbors, n_samples))\n",
      "/home/charles/anaconda3/envs/torch/lib/python3.7/site-packages/sklearn/neighbors/_lof.py:277: UserWarning: n_neighbors (10) is greater than the total number of samples (7). n_neighbors will be set to (n_samples - 1) for estimation.\n",
      "  % (self.n_neighbors, n_samples))\n",
      "/home/charles/anaconda3/envs/torch/lib/python3.7/site-packages/sklearn/neighbors/_lof.py:277: UserWarning: n_neighbors (10) is greater than the total number of samples (7). n_neighbors will be set to (n_samples - 1) for estimation.\n",
      "  % (self.n_neighbors, n_samples))\n",
      "/home/charles/anaconda3/envs/torch/lib/python3.7/site-packages/sklearn/neighbors/_lof.py:277: UserWarning: n_neighbors (10) is greater than the total number of samples (7). n_neighbors will be set to (n_samples - 1) for estimation.\n",
      "  % (self.n_neighbors, n_samples))\n",
      "/home/charles/anaconda3/envs/torch/lib/python3.7/site-packages/sklearn/neighbors/_lof.py:277: UserWarning: n_neighbors (10) is greater than the total number of samples (7). n_neighbors will be set to (n_samples - 1) for estimation.\n",
      "  % (self.n_neighbors, n_samples))\n",
      "/home/charles/anaconda3/envs/torch/lib/python3.7/site-packages/sklearn/neighbors/_lof.py:277: UserWarning: n_neighbors (10) is greater than the total number of samples (7). n_neighbors will be set to (n_samples - 1) for estimation.\n",
      "  % (self.n_neighbors, n_samples))\n",
      "/home/charles/anaconda3/envs/torch/lib/python3.7/site-packages/sklearn/neighbors/_lof.py:277: UserWarning: n_neighbors (10) is greater than the total number of samples (7). n_neighbors will be set to (n_samples - 1) for estimation.\n",
      "  % (self.n_neighbors, n_samples))\n",
      "/home/charles/anaconda3/envs/torch/lib/python3.7/site-packages/sklearn/neighbors/_lof.py:277: UserWarning: n_neighbors (10) is greater than the total number of samples (7). n_neighbors will be set to (n_samples - 1) for estimation.\n",
      "  % (self.n_neighbors, n_samples))\n",
      "/home/charles/anaconda3/envs/torch/lib/python3.7/site-packages/sklearn/neighbors/_lof.py:277: UserWarning: n_neighbors (10) is greater than the total number of samples (7). n_neighbors will be set to (n_samples - 1) for estimation.\n",
      "  % (self.n_neighbors, n_samples))\n",
      "/home/charles/anaconda3/envs/torch/lib/python3.7/site-packages/sklearn/neighbors/_lof.py:277: UserWarning: n_neighbors (10) is greater than the total number of samples (7). n_neighbors will be set to (n_samples - 1) for estimation.\n",
      "  % (self.n_neighbors, n_samples))\n",
      "/home/charles/anaconda3/envs/torch/lib/python3.7/site-packages/sklearn/neighbors/_lof.py:277: UserWarning: n_neighbors (10) is greater than the total number of samples (7). n_neighbors will be set to (n_samples - 1) for estimation.\n",
      "  % (self.n_neighbors, n_samples))\n",
      "/home/charles/anaconda3/envs/torch/lib/python3.7/site-packages/sklearn/neighbors/_lof.py:277: UserWarning: n_neighbors (10) is greater than the total number of samples (7). n_neighbors will be set to (n_samples - 1) for estimation.\n",
      "  % (self.n_neighbors, n_samples))\n",
      "/home/charles/anaconda3/envs/torch/lib/python3.7/site-packages/sklearn/neighbors/_lof.py:277: UserWarning: n_neighbors (10) is greater than the total number of samples (7). n_neighbors will be set to (n_samples - 1) for estimation.\n",
      "  % (self.n_neighbors, n_samples))\n",
      "/home/charles/anaconda3/envs/torch/lib/python3.7/site-packages/sklearn/neighbors/_lof.py:277: UserWarning: n_neighbors (10) is greater than the total number of samples (7). n_neighbors will be set to (n_samples - 1) for estimation.\n",
      "  % (self.n_neighbors, n_samples))\n",
      "/home/charles/anaconda3/envs/torch/lib/python3.7/site-packages/sklearn/neighbors/_lof.py:277: UserWarning: n_neighbors (10) is greater than the total number of samples (7). n_neighbors will be set to (n_samples - 1) for estimation.\n",
      "  % (self.n_neighbors, n_samples))\n",
      "/home/charles/anaconda3/envs/torch/lib/python3.7/site-packages/sklearn/neighbors/_lof.py:277: UserWarning: n_neighbors (10) is greater than the total number of samples (7). n_neighbors will be set to (n_samples - 1) for estimation.\n",
      "  % (self.n_neighbors, n_samples))\n",
      "/home/charles/anaconda3/envs/torch/lib/python3.7/site-packages/sklearn/neighbors/_lof.py:277: UserWarning: n_neighbors (10) is greater than the total number of samples (7). n_neighbors will be set to (n_samples - 1) for estimation.\n",
      "  % (self.n_neighbors, n_samples))\n",
      "/home/charles/anaconda3/envs/torch/lib/python3.7/site-packages/sklearn/neighbors/_lof.py:277: UserWarning: n_neighbors (10) is greater than the total number of samples (7). n_neighbors will be set to (n_samples - 1) for estimation.\n",
      "  % (self.n_neighbors, n_samples))\n",
      "/home/charles/anaconda3/envs/torch/lib/python3.7/site-packages/sklearn/neighbors/_lof.py:277: UserWarning: n_neighbors (10) is greater than the total number of samples (7). n_neighbors will be set to (n_samples - 1) for estimation.\n",
      "  % (self.n_neighbors, n_samples))\n",
      "/home/charles/anaconda3/envs/torch/lib/python3.7/site-packages/sklearn/neighbors/_lof.py:277: UserWarning: n_neighbors (10) is greater than the total number of samples (7). n_neighbors will be set to (n_samples - 1) for estimation.\n",
      "  % (self.n_neighbors, n_samples))\n",
      "/home/charles/anaconda3/envs/torch/lib/python3.7/site-packages/sklearn/neighbors/_lof.py:277: UserWarning: n_neighbors (10) is greater than the total number of samples (7). n_neighbors will be set to (n_samples - 1) for estimation.\n",
      "  % (self.n_neighbors, n_samples))\n",
      "/home/charles/anaconda3/envs/torch/lib/python3.7/site-packages/sklearn/neighbors/_lof.py:277: UserWarning: n_neighbors (10) is greater than the total number of samples (7). n_neighbors will be set to (n_samples - 1) for estimation.\n",
      "  % (self.n_neighbors, n_samples))\n",
      "/home/charles/anaconda3/envs/torch/lib/python3.7/site-packages/sklearn/neighbors/_lof.py:277: UserWarning: n_neighbors (10) is greater than the total number of samples (7). n_neighbors will be set to (n_samples - 1) for estimation.\n",
      "  % (self.n_neighbors, n_samples))\n",
      "/home/charles/anaconda3/envs/torch/lib/python3.7/site-packages/sklearn/neighbors/_lof.py:277: UserWarning: n_neighbors (10) is greater than the total number of samples (7). n_neighbors will be set to (n_samples - 1) for estimation.\n",
      "  % (self.n_neighbors, n_samples))\n",
      "/home/charles/anaconda3/envs/torch/lib/python3.7/site-packages/sklearn/neighbors/_lof.py:277: UserWarning: n_neighbors (10) is greater than the total number of samples (7). n_neighbors will be set to (n_samples - 1) for estimation.\n",
      "  % (self.n_neighbors, n_samples))\n",
      "/home/charles/anaconda3/envs/torch/lib/python3.7/site-packages/sklearn/neighbors/_lof.py:277: UserWarning: n_neighbors (10) is greater than the total number of samples (7). n_neighbors will be set to (n_samples - 1) for estimation.\n",
      "  % (self.n_neighbors, n_samples))\n",
      "/home/charles/anaconda3/envs/torch/lib/python3.7/site-packages/sklearn/neighbors/_lof.py:277: UserWarning: n_neighbors (10) is greater than the total number of samples (7). n_neighbors will be set to (n_samples - 1) for estimation.\n",
      "  % (self.n_neighbors, n_samples))\n",
      "/home/charles/anaconda3/envs/torch/lib/python3.7/site-packages/sklearn/neighbors/_lof.py:277: UserWarning: n_neighbors (10) is greater than the total number of samples (7). n_neighbors will be set to (n_samples - 1) for estimation.\n",
      "  % (self.n_neighbors, n_samples))\n",
      "/home/charles/anaconda3/envs/torch/lib/python3.7/site-packages/sklearn/neighbors/_lof.py:277: UserWarning: n_neighbors (10) is greater than the total number of samples (7). n_neighbors will be set to (n_samples - 1) for estimation.\n",
      "  % (self.n_neighbors, n_samples))\n",
      "/home/charles/anaconda3/envs/torch/lib/python3.7/site-packages/sklearn/neighbors/_lof.py:277: UserWarning: n_neighbors (10) is greater than the total number of samples (7). n_neighbors will be set to (n_samples - 1) for estimation.\n",
      "  % (self.n_neighbors, n_samples))\n",
      "/home/charles/anaconda3/envs/torch/lib/python3.7/site-packages/sklearn/neighbors/_lof.py:277: UserWarning: n_neighbors (10) is greater than the total number of samples (7). n_neighbors will be set to (n_samples - 1) for estimation.\n",
      "  % (self.n_neighbors, n_samples))\n",
      "/home/charles/anaconda3/envs/torch/lib/python3.7/site-packages/sklearn/neighbors/_lof.py:277: UserWarning: n_neighbors (10) is greater than the total number of samples (7). n_neighbors will be set to (n_samples - 1) for estimation.\n",
      "  % (self.n_neighbors, n_samples))\n",
      "/home/charles/anaconda3/envs/torch/lib/python3.7/site-packages/sklearn/neighbors/_lof.py:277: UserWarning: n_neighbors (10) is greater than the total number of samples (7). n_neighbors will be set to (n_samples - 1) for estimation.\n",
      "  % (self.n_neighbors, n_samples))\n",
      "/home/charles/anaconda3/envs/torch/lib/python3.7/site-packages/sklearn/neighbors/_lof.py:277: UserWarning: n_neighbors (10) is greater than the total number of samples (7). n_neighbors will be set to (n_samples - 1) for estimation.\n",
      "  % (self.n_neighbors, n_samples))\n",
      "/home/charles/anaconda3/envs/torch/lib/python3.7/site-packages/sklearn/neighbors/_lof.py:277: UserWarning: n_neighbors (10) is greater than the total number of samples (7). n_neighbors will be set to (n_samples - 1) for estimation.\n",
      "  % (self.n_neighbors, n_samples))\n",
      "/home/charles/anaconda3/envs/torch/lib/python3.7/site-packages/sklearn/neighbors/_lof.py:277: UserWarning: n_neighbors (10) is greater than the total number of samples (7). n_neighbors will be set to (n_samples - 1) for estimation.\n",
      "  % (self.n_neighbors, n_samples))\n",
      "/home/charles/anaconda3/envs/torch/lib/python3.7/site-packages/sklearn/neighbors/_lof.py:277: UserWarning: n_neighbors (10) is greater than the total number of samples (7). n_neighbors will be set to (n_samples - 1) for estimation.\n",
      "  % (self.n_neighbors, n_samples))\n",
      "/home/charles/anaconda3/envs/torch/lib/python3.7/site-packages/sklearn/neighbors/_lof.py:277: UserWarning: n_neighbors (10) is greater than the total number of samples (7). n_neighbors will be set to (n_samples - 1) for estimation.\n",
      "  % (self.n_neighbors, n_samples))\n",
      "/home/charles/anaconda3/envs/torch/lib/python3.7/site-packages/sklearn/neighbors/_lof.py:277: UserWarning: n_neighbors (10) is greater than the total number of samples (7). n_neighbors will be set to (n_samples - 1) for estimation.\n",
      "  % (self.n_neighbors, n_samples))\n",
      "/home/charles/anaconda3/envs/torch/lib/python3.7/site-packages/sklearn/neighbors/_lof.py:277: UserWarning: n_neighbors (10) is greater than the total number of samples (7). n_neighbors will be set to (n_samples - 1) for estimation.\n",
      "  % (self.n_neighbors, n_samples))\n",
      "/home/charles/anaconda3/envs/torch/lib/python3.7/site-packages/sklearn/neighbors/_lof.py:277: UserWarning: n_neighbors (10) is greater than the total number of samples (7). n_neighbors will be set to (n_samples - 1) for estimation.\n",
      "  % (self.n_neighbors, n_samples))\n",
      "/home/charles/anaconda3/envs/torch/lib/python3.7/site-packages/sklearn/neighbors/_lof.py:277: UserWarning: n_neighbors (10) is greater than the total number of samples (7). n_neighbors will be set to (n_samples - 1) for estimation.\n",
      "  % (self.n_neighbors, n_samples))\n",
      "/home/charles/anaconda3/envs/torch/lib/python3.7/site-packages/sklearn/neighbors/_lof.py:277: UserWarning: n_neighbors (10) is greater than the total number of samples (7). n_neighbors will be set to (n_samples - 1) for estimation.\n",
      "  % (self.n_neighbors, n_samples))\n",
      "/home/charles/anaconda3/envs/torch/lib/python3.7/site-packages/sklearn/neighbors/_lof.py:277: UserWarning: n_neighbors (10) is greater than the total number of samples (7). n_neighbors will be set to (n_samples - 1) for estimation.\n",
      "  % (self.n_neighbors, n_samples))\n",
      "/home/charles/anaconda3/envs/torch/lib/python3.7/site-packages/sklearn/neighbors/_lof.py:277: UserWarning: n_neighbors (10) is greater than the total number of samples (7). n_neighbors will be set to (n_samples - 1) for estimation.\n",
      "  % (self.n_neighbors, n_samples))\n",
      "/home/charles/anaconda3/envs/torch/lib/python3.7/site-packages/sklearn/neighbors/_lof.py:277: UserWarning: n_neighbors (10) is greater than the total number of samples (7). n_neighbors will be set to (n_samples - 1) for estimation.\n",
      "  % (self.n_neighbors, n_samples))\n",
      "/home/charles/anaconda3/envs/torch/lib/python3.7/site-packages/sklearn/neighbors/_lof.py:277: UserWarning: n_neighbors (10) is greater than the total number of samples (7). n_neighbors will be set to (n_samples - 1) for estimation.\n",
      "  % (self.n_neighbors, n_samples))\n",
      "/home/charles/anaconda3/envs/torch/lib/python3.7/site-packages/sklearn/neighbors/_lof.py:277: UserWarning: n_neighbors (10) is greater than the total number of samples (7). n_neighbors will be set to (n_samples - 1) for estimation.\n",
      "  % (self.n_neighbors, n_samples))\n",
      "/home/charles/anaconda3/envs/torch/lib/python3.7/site-packages/sklearn/neighbors/_lof.py:277: UserWarning: n_neighbors (10) is greater than the total number of samples (7). n_neighbors will be set to (n_samples - 1) for estimation.\n",
      "  % (self.n_neighbors, n_samples))\n",
      "/home/charles/anaconda3/envs/torch/lib/python3.7/site-packages/sklearn/neighbors/_lof.py:277: UserWarning: n_neighbors (10) is greater than the total number of samples (7). n_neighbors will be set to (n_samples - 1) for estimation.\n",
      "  % (self.n_neighbors, n_samples))\n",
      "/home/charles/anaconda3/envs/torch/lib/python3.7/site-packages/sklearn/neighbors/_lof.py:277: UserWarning: n_neighbors (10) is greater than the total number of samples (7). n_neighbors will be set to (n_samples - 1) for estimation.\n",
      "  % (self.n_neighbors, n_samples))\n",
      "/home/charles/anaconda3/envs/torch/lib/python3.7/site-packages/sklearn/neighbors/_lof.py:277: UserWarning: n_neighbors (10) is greater than the total number of samples (7). n_neighbors will be set to (n_samples - 1) for estimation.\n",
      "  % (self.n_neighbors, n_samples))\n",
      "/home/charles/anaconda3/envs/torch/lib/python3.7/site-packages/sklearn/neighbors/_lof.py:277: UserWarning: n_neighbors (10) is greater than the total number of samples (7). n_neighbors will be set to (n_samples - 1) for estimation.\n",
      "  % (self.n_neighbors, n_samples))\n",
      "/home/charles/anaconda3/envs/torch/lib/python3.7/site-packages/sklearn/neighbors/_lof.py:277: UserWarning: n_neighbors (10) is greater than the total number of samples (7). n_neighbors will be set to (n_samples - 1) for estimation.\n",
      "  % (self.n_neighbors, n_samples))\n",
      "/home/charles/anaconda3/envs/torch/lib/python3.7/site-packages/sklearn/neighbors/_lof.py:277: UserWarning: n_neighbors (10) is greater than the total number of samples (7). n_neighbors will be set to (n_samples - 1) for estimation.\n",
      "  % (self.n_neighbors, n_samples))\n",
      "/home/charles/anaconda3/envs/torch/lib/python3.7/site-packages/sklearn/neighbors/_lof.py:277: UserWarning: n_neighbors (10) is greater than the total number of samples (7). n_neighbors will be set to (n_samples - 1) for estimation.\n",
      "  % (self.n_neighbors, n_samples))\n",
      "/home/charles/anaconda3/envs/torch/lib/python3.7/site-packages/sklearn/neighbors/_lof.py:277: UserWarning: n_neighbors (10) is greater than the total number of samples (7). n_neighbors will be set to (n_samples - 1) for estimation.\n",
      "  % (self.n_neighbors, n_samples))\n",
      "/home/charles/anaconda3/envs/torch/lib/python3.7/site-packages/sklearn/neighbors/_lof.py:277: UserWarning: n_neighbors (10) is greater than the total number of samples (7). n_neighbors will be set to (n_samples - 1) for estimation.\n",
      "  % (self.n_neighbors, n_samples))\n",
      "/home/charles/anaconda3/envs/torch/lib/python3.7/site-packages/sklearn/neighbors/_lof.py:277: UserWarning: n_neighbors (10) is greater than the total number of samples (7). n_neighbors will be set to (n_samples - 1) for estimation.\n",
      "  % (self.n_neighbors, n_samples))\n",
      "/home/charles/anaconda3/envs/torch/lib/python3.7/site-packages/sklearn/neighbors/_lof.py:277: UserWarning: n_neighbors (10) is greater than the total number of samples (7). n_neighbors will be set to (n_samples - 1) for estimation.\n",
      "  % (self.n_neighbors, n_samples))\n",
      "/home/charles/anaconda3/envs/torch/lib/python3.7/site-packages/sklearn/neighbors/_lof.py:277: UserWarning: n_neighbors (10) is greater than the total number of samples (7). n_neighbors will be set to (n_samples - 1) for estimation.\n",
      "  % (self.n_neighbors, n_samples))\n",
      "/home/charles/anaconda3/envs/torch/lib/python3.7/site-packages/sklearn/neighbors/_lof.py:277: UserWarning: n_neighbors (10) is greater than the total number of samples (7). n_neighbors will be set to (n_samples - 1) for estimation.\n",
      "  % (self.n_neighbors, n_samples))\n",
      "/home/charles/anaconda3/envs/torch/lib/python3.7/site-packages/sklearn/neighbors/_lof.py:277: UserWarning: n_neighbors (10) is greater than the total number of samples (7). n_neighbors will be set to (n_samples - 1) for estimation.\n",
      "  % (self.n_neighbors, n_samples))\n",
      "/home/charles/anaconda3/envs/torch/lib/python3.7/site-packages/sklearn/neighbors/_lof.py:277: UserWarning: n_neighbors (10) is greater than the total number of samples (7). n_neighbors will be set to (n_samples - 1) for estimation.\n",
      "  % (self.n_neighbors, n_samples))\n",
      "/home/charles/anaconda3/envs/torch/lib/python3.7/site-packages/sklearn/neighbors/_lof.py:277: UserWarning: n_neighbors (10) is greater than the total number of samples (7). n_neighbors will be set to (n_samples - 1) for estimation.\n",
      "  % (self.n_neighbors, n_samples))\n",
      "/home/charles/anaconda3/envs/torch/lib/python3.7/site-packages/sklearn/neighbors/_lof.py:277: UserWarning: n_neighbors (10) is greater than the total number of samples (7). n_neighbors will be set to (n_samples - 1) for estimation.\n",
      "  % (self.n_neighbors, n_samples))\n",
      "/home/charles/anaconda3/envs/torch/lib/python3.7/site-packages/sklearn/neighbors/_lof.py:277: UserWarning: n_neighbors (10) is greater than the total number of samples (7). n_neighbors will be set to (n_samples - 1) for estimation.\n",
      "  % (self.n_neighbors, n_samples))\n",
      "/home/charles/anaconda3/envs/torch/lib/python3.7/site-packages/sklearn/neighbors/_lof.py:277: UserWarning: n_neighbors (10) is greater than the total number of samples (7). n_neighbors will be set to (n_samples - 1) for estimation.\n",
      "  % (self.n_neighbors, n_samples))\n",
      "/home/charles/anaconda3/envs/torch/lib/python3.7/site-packages/sklearn/neighbors/_lof.py:277: UserWarning: n_neighbors (10) is greater than the total number of samples (7). n_neighbors will be set to (n_samples - 1) for estimation.\n",
      "  % (self.n_neighbors, n_samples))\n",
      "/home/charles/anaconda3/envs/torch/lib/python3.7/site-packages/sklearn/neighbors/_lof.py:277: UserWarning: n_neighbors (10) is greater than the total number of samples (7). n_neighbors will be set to (n_samples - 1) for estimation.\n",
      "  % (self.n_neighbors, n_samples))\n",
      "/home/charles/anaconda3/envs/torch/lib/python3.7/site-packages/sklearn/neighbors/_lof.py:277: UserWarning: n_neighbors (10) is greater than the total number of samples (7). n_neighbors will be set to (n_samples - 1) for estimation.\n",
      "  % (self.n_neighbors, n_samples))\n",
      "/home/charles/anaconda3/envs/torch/lib/python3.7/site-packages/sklearn/neighbors/_lof.py:277: UserWarning: n_neighbors (10) is greater than the total number of samples (7). n_neighbors will be set to (n_samples - 1) for estimation.\n",
      "  % (self.n_neighbors, n_samples))\n",
      "/home/charles/anaconda3/envs/torch/lib/python3.7/site-packages/sklearn/neighbors/_lof.py:277: UserWarning: n_neighbors (10) is greater than the total number of samples (7). n_neighbors will be set to (n_samples - 1) for estimation.\n",
      "  % (self.n_neighbors, n_samples))\n",
      "/home/charles/anaconda3/envs/torch/lib/python3.7/site-packages/sklearn/neighbors/_lof.py:277: UserWarning: n_neighbors (10) is greater than the total number of samples (7). n_neighbors will be set to (n_samples - 1) for estimation.\n",
      "  % (self.n_neighbors, n_samples))\n",
      "/home/charles/anaconda3/envs/torch/lib/python3.7/site-packages/sklearn/neighbors/_lof.py:277: UserWarning: n_neighbors (10) is greater than the total number of samples (7). n_neighbors will be set to (n_samples - 1) for estimation.\n",
      "  % (self.n_neighbors, n_samples))\n",
      "/home/charles/anaconda3/envs/torch/lib/python3.7/site-packages/sklearn/neighbors/_lof.py:277: UserWarning: n_neighbors (10) is greater than the total number of samples (7). n_neighbors will be set to (n_samples - 1) for estimation.\n",
      "  % (self.n_neighbors, n_samples))\n",
      "/home/charles/anaconda3/envs/torch/lib/python3.7/site-packages/sklearn/neighbors/_lof.py:277: UserWarning: n_neighbors (10) is greater than the total number of samples (7). n_neighbors will be set to (n_samples - 1) for estimation.\n",
      "  % (self.n_neighbors, n_samples))\n",
      "/home/charles/anaconda3/envs/torch/lib/python3.7/site-packages/sklearn/neighbors/_lof.py:277: UserWarning: n_neighbors (10) is greater than the total number of samples (7). n_neighbors will be set to (n_samples - 1) for estimation.\n",
      "  % (self.n_neighbors, n_samples))\n",
      "/home/charles/anaconda3/envs/torch/lib/python3.7/site-packages/sklearn/neighbors/_lof.py:277: UserWarning: n_neighbors (10) is greater than the total number of samples (7). n_neighbors will be set to (n_samples - 1) for estimation.\n",
      "  % (self.n_neighbors, n_samples))\n",
      "/home/charles/anaconda3/envs/torch/lib/python3.7/site-packages/sklearn/neighbors/_lof.py:277: UserWarning: n_neighbors (10) is greater than the total number of samples (7). n_neighbors will be set to (n_samples - 1) for estimation.\n",
      "  % (self.n_neighbors, n_samples))\n",
      "/home/charles/anaconda3/envs/torch/lib/python3.7/site-packages/sklearn/neighbors/_lof.py:277: UserWarning: n_neighbors (10) is greater than the total number of samples (7). n_neighbors will be set to (n_samples - 1) for estimation.\n",
      "  % (self.n_neighbors, n_samples))\n",
      "/home/charles/anaconda3/envs/torch/lib/python3.7/site-packages/sklearn/neighbors/_lof.py:277: UserWarning: n_neighbors (10) is greater than the total number of samples (7). n_neighbors will be set to (n_samples - 1) for estimation.\n",
      "  % (self.n_neighbors, n_samples))\n",
      "/home/charles/anaconda3/envs/torch/lib/python3.7/site-packages/sklearn/neighbors/_lof.py:277: UserWarning: n_neighbors (10) is greater than the total number of samples (7). n_neighbors will be set to (n_samples - 1) for estimation.\n",
      "  % (self.n_neighbors, n_samples))\n",
      "/home/charles/anaconda3/envs/torch/lib/python3.7/site-packages/sklearn/neighbors/_lof.py:277: UserWarning: n_neighbors (10) is greater than the total number of samples (7). n_neighbors will be set to (n_samples - 1) for estimation.\n",
      "  % (self.n_neighbors, n_samples))\n",
      "/home/charles/anaconda3/envs/torch/lib/python3.7/site-packages/sklearn/neighbors/_lof.py:277: UserWarning: n_neighbors (10) is greater than the total number of samples (7). n_neighbors will be set to (n_samples - 1) for estimation.\n",
      "  % (self.n_neighbors, n_samples))\n",
      "/home/charles/anaconda3/envs/torch/lib/python3.7/site-packages/sklearn/neighbors/_lof.py:277: UserWarning: n_neighbors (10) is greater than the total number of samples (7). n_neighbors will be set to (n_samples - 1) for estimation.\n",
      "  % (self.n_neighbors, n_samples))\n",
      "/home/charles/anaconda3/envs/torch/lib/python3.7/site-packages/sklearn/neighbors/_lof.py:277: UserWarning: n_neighbors (10) is greater than the total number of samples (7). n_neighbors will be set to (n_samples - 1) for estimation.\n",
      "  % (self.n_neighbors, n_samples))\n",
      "/home/charles/anaconda3/envs/torch/lib/python3.7/site-packages/sklearn/neighbors/_lof.py:277: UserWarning: n_neighbors (10) is greater than the total number of samples (7). n_neighbors will be set to (n_samples - 1) for estimation.\n",
      "  % (self.n_neighbors, n_samples))\n",
      "/home/charles/anaconda3/envs/torch/lib/python3.7/site-packages/sklearn/neighbors/_lof.py:277: UserWarning: n_neighbors (10) is greater than the total number of samples (7). n_neighbors will be set to (n_samples - 1) for estimation.\n",
      "  % (self.n_neighbors, n_samples))\n",
      "/home/charles/anaconda3/envs/torch/lib/python3.7/site-packages/sklearn/neighbors/_lof.py:277: UserWarning: n_neighbors (10) is greater than the total number of samples (7). n_neighbors will be set to (n_samples - 1) for estimation.\n",
      "  % (self.n_neighbors, n_samples))\n",
      "/home/charles/anaconda3/envs/torch/lib/python3.7/site-packages/sklearn/neighbors/_lof.py:277: UserWarning: n_neighbors (10) is greater than the total number of samples (7). n_neighbors will be set to (n_samples - 1) for estimation.\n",
      "  % (self.n_neighbors, n_samples))\n",
      "/home/charles/anaconda3/envs/torch/lib/python3.7/site-packages/sklearn/neighbors/_lof.py:277: UserWarning: n_neighbors (10) is greater than the total number of samples (7). n_neighbors will be set to (n_samples - 1) for estimation.\n",
      "  % (self.n_neighbors, n_samples))\n",
      "/home/charles/anaconda3/envs/torch/lib/python3.7/site-packages/sklearn/neighbors/_lof.py:277: UserWarning: n_neighbors (10) is greater than the total number of samples (7). n_neighbors will be set to (n_samples - 1) for estimation.\n",
      "  % (self.n_neighbors, n_samples))\n",
      "/home/charles/anaconda3/envs/torch/lib/python3.7/site-packages/sklearn/neighbors/_lof.py:277: UserWarning: n_neighbors (10) is greater than the total number of samples (7). n_neighbors will be set to (n_samples - 1) for estimation.\n",
      "  % (self.n_neighbors, n_samples))\n",
      "/home/charles/anaconda3/envs/torch/lib/python3.7/site-packages/sklearn/neighbors/_lof.py:277: UserWarning: n_neighbors (10) is greater than the total number of samples (7). n_neighbors will be set to (n_samples - 1) for estimation.\n",
      "  % (self.n_neighbors, n_samples))\n",
      "/home/charles/anaconda3/envs/torch/lib/python3.7/site-packages/sklearn/neighbors/_lof.py:277: UserWarning: n_neighbors (10) is greater than the total number of samples (7). n_neighbors will be set to (n_samples - 1) for estimation.\n",
      "  % (self.n_neighbors, n_samples))\n",
      "/home/charles/anaconda3/envs/torch/lib/python3.7/site-packages/sklearn/neighbors/_lof.py:277: UserWarning: n_neighbors (10) is greater than the total number of samples (7). n_neighbors will be set to (n_samples - 1) for estimation.\n",
      "  % (self.n_neighbors, n_samples))\n",
      "/home/charles/anaconda3/envs/torch/lib/python3.7/site-packages/sklearn/neighbors/_lof.py:277: UserWarning: n_neighbors (10) is greater than the total number of samples (7). n_neighbors will be set to (n_samples - 1) for estimation.\n",
      "  % (self.n_neighbors, n_samples))\n",
      "/home/charles/anaconda3/envs/torch/lib/python3.7/site-packages/sklearn/neighbors/_lof.py:277: UserWarning: n_neighbors (10) is greater than the total number of samples (7). n_neighbors will be set to (n_samples - 1) for estimation.\n",
      "  % (self.n_neighbors, n_samples))\n",
      "/home/charles/anaconda3/envs/torch/lib/python3.7/site-packages/sklearn/neighbors/_lof.py:277: UserWarning: n_neighbors (10) is greater than the total number of samples (7). n_neighbors will be set to (n_samples - 1) for estimation.\n",
      "  % (self.n_neighbors, n_samples))\n",
      "/home/charles/anaconda3/envs/torch/lib/python3.7/site-packages/sklearn/neighbors/_lof.py:277: UserWarning: n_neighbors (10) is greater than the total number of samples (7). n_neighbors will be set to (n_samples - 1) for estimation.\n",
      "  % (self.n_neighbors, n_samples))\n",
      "/home/charles/anaconda3/envs/torch/lib/python3.7/site-packages/sklearn/neighbors/_lof.py:277: UserWarning: n_neighbors (10) is greater than the total number of samples (7). n_neighbors will be set to (n_samples - 1) for estimation.\n",
      "  % (self.n_neighbors, n_samples))\n",
      "/home/charles/anaconda3/envs/torch/lib/python3.7/site-packages/sklearn/neighbors/_lof.py:277: UserWarning: n_neighbors (10) is greater than the total number of samples (7). n_neighbors will be set to (n_samples - 1) for estimation.\n",
      "  % (self.n_neighbors, n_samples))\n",
      "/home/charles/anaconda3/envs/torch/lib/python3.7/site-packages/sklearn/neighbors/_lof.py:277: UserWarning: n_neighbors (10) is greater than the total number of samples (7). n_neighbors will be set to (n_samples - 1) for estimation.\n",
      "  % (self.n_neighbors, n_samples))\n",
      "/home/charles/anaconda3/envs/torch/lib/python3.7/site-packages/sklearn/neighbors/_lof.py:277: UserWarning: n_neighbors (10) is greater than the total number of samples (7). n_neighbors will be set to (n_samples - 1) for estimation.\n",
      "  % (self.n_neighbors, n_samples))\n",
      "/home/charles/anaconda3/envs/torch/lib/python3.7/site-packages/sklearn/neighbors/_lof.py:277: UserWarning: n_neighbors (10) is greater than the total number of samples (7). n_neighbors will be set to (n_samples - 1) for estimation.\n",
      "  % (self.n_neighbors, n_samples))\n",
      "/home/charles/anaconda3/envs/torch/lib/python3.7/site-packages/sklearn/neighbors/_lof.py:277: UserWarning: n_neighbors (10) is greater than the total number of samples (7). n_neighbors will be set to (n_samples - 1) for estimation.\n",
      "  % (self.n_neighbors, n_samples))\n",
      "/home/charles/anaconda3/envs/torch/lib/python3.7/site-packages/sklearn/neighbors/_lof.py:277: UserWarning: n_neighbors (10) is greater than the total number of samples (7). n_neighbors will be set to (n_samples - 1) for estimation.\n",
      "  % (self.n_neighbors, n_samples))\n",
      "/home/charles/anaconda3/envs/torch/lib/python3.7/site-packages/sklearn/neighbors/_lof.py:277: UserWarning: n_neighbors (10) is greater than the total number of samples (7). n_neighbors will be set to (n_samples - 1) for estimation.\n",
      "  % (self.n_neighbors, n_samples))\n",
      "/home/charles/anaconda3/envs/torch/lib/python3.7/site-packages/sklearn/neighbors/_lof.py:277: UserWarning: n_neighbors (10) is greater than the total number of samples (7). n_neighbors will be set to (n_samples - 1) for estimation.\n",
      "  % (self.n_neighbors, n_samples))\n",
      "/home/charles/anaconda3/envs/torch/lib/python3.7/site-packages/sklearn/neighbors/_lof.py:277: UserWarning: n_neighbors (10) is greater than the total number of samples (7). n_neighbors will be set to (n_samples - 1) for estimation.\n",
      "  % (self.n_neighbors, n_samples))\n",
      "/home/charles/anaconda3/envs/torch/lib/python3.7/site-packages/sklearn/neighbors/_lof.py:277: UserWarning: n_neighbors (10) is greater than the total number of samples (7). n_neighbors will be set to (n_samples - 1) for estimation.\n",
      "  % (self.n_neighbors, n_samples))\n",
      "/home/charles/anaconda3/envs/torch/lib/python3.7/site-packages/sklearn/neighbors/_lof.py:277: UserWarning: n_neighbors (10) is greater than the total number of samples (7). n_neighbors will be set to (n_samples - 1) for estimation.\n",
      "  % (self.n_neighbors, n_samples))\n",
      "/home/charles/anaconda3/envs/torch/lib/python3.7/site-packages/sklearn/neighbors/_lof.py:277: UserWarning: n_neighbors (10) is greater than the total number of samples (7). n_neighbors will be set to (n_samples - 1) for estimation.\n",
      "  % (self.n_neighbors, n_samples))\n",
      "/home/charles/anaconda3/envs/torch/lib/python3.7/site-packages/sklearn/neighbors/_lof.py:277: UserWarning: n_neighbors (10) is greater than the total number of samples (7). n_neighbors will be set to (n_samples - 1) for estimation.\n",
      "  % (self.n_neighbors, n_samples))\n",
      "/home/charles/anaconda3/envs/torch/lib/python3.7/site-packages/sklearn/neighbors/_lof.py:277: UserWarning: n_neighbors (10) is greater than the total number of samples (7). n_neighbors will be set to (n_samples - 1) for estimation.\n",
      "  % (self.n_neighbors, n_samples))\n",
      "/home/charles/anaconda3/envs/torch/lib/python3.7/site-packages/sklearn/neighbors/_lof.py:277: UserWarning: n_neighbors (10) is greater than the total number of samples (7). n_neighbors will be set to (n_samples - 1) for estimation.\n",
      "  % (self.n_neighbors, n_samples))\n",
      "/home/charles/anaconda3/envs/torch/lib/python3.7/site-packages/sklearn/neighbors/_lof.py:277: UserWarning: n_neighbors (10) is greater than the total number of samples (7). n_neighbors will be set to (n_samples - 1) for estimation.\n",
      "  % (self.n_neighbors, n_samples))\n",
      "/home/charles/anaconda3/envs/torch/lib/python3.7/site-packages/sklearn/neighbors/_lof.py:277: UserWarning: n_neighbors (10) is greater than the total number of samples (7). n_neighbors will be set to (n_samples - 1) for estimation.\n",
      "  % (self.n_neighbors, n_samples))\n",
      "/home/charles/anaconda3/envs/torch/lib/python3.7/site-packages/sklearn/neighbors/_lof.py:277: UserWarning: n_neighbors (10) is greater than the total number of samples (7). n_neighbors will be set to (n_samples - 1) for estimation.\n",
      "  % (self.n_neighbors, n_samples))\n",
      "/home/charles/anaconda3/envs/torch/lib/python3.7/site-packages/sklearn/neighbors/_lof.py:277: UserWarning: n_neighbors (10) is greater than the total number of samples (7). n_neighbors will be set to (n_samples - 1) for estimation.\n",
      "  % (self.n_neighbors, n_samples))\n",
      "/home/charles/anaconda3/envs/torch/lib/python3.7/site-packages/sklearn/neighbors/_lof.py:277: UserWarning: n_neighbors (10) is greater than the total number of samples (7). n_neighbors will be set to (n_samples - 1) for estimation.\n",
      "  % (self.n_neighbors, n_samples))\n",
      "/home/charles/anaconda3/envs/torch/lib/python3.7/site-packages/sklearn/neighbors/_lof.py:277: UserWarning: n_neighbors (10) is greater than the total number of samples (7). n_neighbors will be set to (n_samples - 1) for estimation.\n",
      "  % (self.n_neighbors, n_samples))\n",
      "/home/charles/anaconda3/envs/torch/lib/python3.7/site-packages/sklearn/neighbors/_lof.py:277: UserWarning: n_neighbors (10) is greater than the total number of samples (7). n_neighbors will be set to (n_samples - 1) for estimation.\n",
      "  % (self.n_neighbors, n_samples))\n",
      "/home/charles/anaconda3/envs/torch/lib/python3.7/site-packages/sklearn/neighbors/_lof.py:277: UserWarning: n_neighbors (10) is greater than the total number of samples (7). n_neighbors will be set to (n_samples - 1) for estimation.\n",
      "  % (self.n_neighbors, n_samples))\n",
      "/home/charles/anaconda3/envs/torch/lib/python3.7/site-packages/sklearn/neighbors/_lof.py:277: UserWarning: n_neighbors (10) is greater than the total number of samples (7). n_neighbors will be set to (n_samples - 1) for estimation.\n",
      "  % (self.n_neighbors, n_samples))\n",
      "/home/charles/anaconda3/envs/torch/lib/python3.7/site-packages/sklearn/neighbors/_lof.py:277: UserWarning: n_neighbors (10) is greater than the total number of samples (7). n_neighbors will be set to (n_samples - 1) for estimation.\n",
      "  % (self.n_neighbors, n_samples))\n",
      "/home/charles/anaconda3/envs/torch/lib/python3.7/site-packages/sklearn/neighbors/_lof.py:277: UserWarning: n_neighbors (10) is greater than the total number of samples (7). n_neighbors will be set to (n_samples - 1) for estimation.\n",
      "  % (self.n_neighbors, n_samples))\n",
      "/home/charles/anaconda3/envs/torch/lib/python3.7/site-packages/sklearn/neighbors/_lof.py:277: UserWarning: n_neighbors (10) is greater than the total number of samples (7). n_neighbors will be set to (n_samples - 1) for estimation.\n",
      "  % (self.n_neighbors, n_samples))\n",
      "/home/charles/anaconda3/envs/torch/lib/python3.7/site-packages/sklearn/neighbors/_lof.py:277: UserWarning: n_neighbors (10) is greater than the total number of samples (7). n_neighbors will be set to (n_samples - 1) for estimation.\n",
      "  % (self.n_neighbors, n_samples))\n",
      "/home/charles/anaconda3/envs/torch/lib/python3.7/site-packages/sklearn/neighbors/_lof.py:277: UserWarning: n_neighbors (10) is greater than the total number of samples (7). n_neighbors will be set to (n_samples - 1) for estimation.\n",
      "  % (self.n_neighbors, n_samples))\n",
      "/home/charles/anaconda3/envs/torch/lib/python3.7/site-packages/sklearn/neighbors/_lof.py:277: UserWarning: n_neighbors (10) is greater than the total number of samples (7). n_neighbors will be set to (n_samples - 1) for estimation.\n",
      "  % (self.n_neighbors, n_samples))\n",
      "/home/charles/anaconda3/envs/torch/lib/python3.7/site-packages/sklearn/neighbors/_lof.py:277: UserWarning: n_neighbors (10) is greater than the total number of samples (7). n_neighbors will be set to (n_samples - 1) for estimation.\n",
      "  % (self.n_neighbors, n_samples))\n",
      "/home/charles/anaconda3/envs/torch/lib/python3.7/site-packages/sklearn/neighbors/_lof.py:277: UserWarning: n_neighbors (10) is greater than the total number of samples (7). n_neighbors will be set to (n_samples - 1) for estimation.\n",
      "  % (self.n_neighbors, n_samples))\n",
      "/home/charles/anaconda3/envs/torch/lib/python3.7/site-packages/sklearn/neighbors/_lof.py:277: UserWarning: n_neighbors (10) is greater than the total number of samples (7). n_neighbors will be set to (n_samples - 1) for estimation.\n",
      "  % (self.n_neighbors, n_samples))\n",
      "/home/charles/anaconda3/envs/torch/lib/python3.7/site-packages/sklearn/neighbors/_lof.py:277: UserWarning: n_neighbors (10) is greater than the total number of samples (7). n_neighbors will be set to (n_samples - 1) for estimation.\n",
      "  % (self.n_neighbors, n_samples))\n",
      "/home/charles/anaconda3/envs/torch/lib/python3.7/site-packages/sklearn/neighbors/_lof.py:277: UserWarning: n_neighbors (10) is greater than the total number of samples (7). n_neighbors will be set to (n_samples - 1) for estimation.\n",
      "  % (self.n_neighbors, n_samples))\n",
      "/home/charles/anaconda3/envs/torch/lib/python3.7/site-packages/sklearn/neighbors/_lof.py:277: UserWarning: n_neighbors (10) is greater than the total number of samples (7). n_neighbors will be set to (n_samples - 1) for estimation.\n",
      "  % (self.n_neighbors, n_samples))\n",
      "/home/charles/anaconda3/envs/torch/lib/python3.7/site-packages/sklearn/neighbors/_lof.py:277: UserWarning: n_neighbors (10) is greater than the total number of samples (7). n_neighbors will be set to (n_samples - 1) for estimation.\n",
      "  % (self.n_neighbors, n_samples))\n",
      "/home/charles/anaconda3/envs/torch/lib/python3.7/site-packages/sklearn/neighbors/_lof.py:277: UserWarning: n_neighbors (10) is greater than the total number of samples (7). n_neighbors will be set to (n_samples - 1) for estimation.\n",
      "  % (self.n_neighbors, n_samples))\n",
      "/home/charles/anaconda3/envs/torch/lib/python3.7/site-packages/sklearn/neighbors/_lof.py:277: UserWarning: n_neighbors (10) is greater than the total number of samples (7). n_neighbors will be set to (n_samples - 1) for estimation.\n",
      "  % (self.n_neighbors, n_samples))\n",
      "/home/charles/anaconda3/envs/torch/lib/python3.7/site-packages/sklearn/neighbors/_lof.py:277: UserWarning: n_neighbors (10) is greater than the total number of samples (7). n_neighbors will be set to (n_samples - 1) for estimation.\n",
      "  % (self.n_neighbors, n_samples))\n",
      "/home/charles/anaconda3/envs/torch/lib/python3.7/site-packages/sklearn/neighbors/_lof.py:277: UserWarning: n_neighbors (10) is greater than the total number of samples (7). n_neighbors will be set to (n_samples - 1) for estimation.\n",
      "  % (self.n_neighbors, n_samples))\n",
      "/home/charles/anaconda3/envs/torch/lib/python3.7/site-packages/sklearn/neighbors/_lof.py:277: UserWarning: n_neighbors (10) is greater than the total number of samples (7). n_neighbors will be set to (n_samples - 1) for estimation.\n",
      "  % (self.n_neighbors, n_samples))\n",
      "/home/charles/anaconda3/envs/torch/lib/python3.7/site-packages/sklearn/neighbors/_lof.py:277: UserWarning: n_neighbors (10) is greater than the total number of samples (7). n_neighbors will be set to (n_samples - 1) for estimation.\n",
      "  % (self.n_neighbors, n_samples))\n",
      "/home/charles/anaconda3/envs/torch/lib/python3.7/site-packages/sklearn/neighbors/_lof.py:277: UserWarning: n_neighbors (10) is greater than the total number of samples (7). n_neighbors will be set to (n_samples - 1) for estimation.\n",
      "  % (self.n_neighbors, n_samples))\n",
      "/home/charles/anaconda3/envs/torch/lib/python3.7/site-packages/sklearn/neighbors/_lof.py:277: UserWarning: n_neighbors (10) is greater than the total number of samples (7). n_neighbors will be set to (n_samples - 1) for estimation.\n",
      "  % (self.n_neighbors, n_samples))\n",
      "/home/charles/anaconda3/envs/torch/lib/python3.7/site-packages/sklearn/neighbors/_lof.py:277: UserWarning: n_neighbors (10) is greater than the total number of samples (7). n_neighbors will be set to (n_samples - 1) for estimation.\n",
      "  % (self.n_neighbors, n_samples))\n",
      "/home/charles/anaconda3/envs/torch/lib/python3.7/site-packages/sklearn/neighbors/_lof.py:277: UserWarning: n_neighbors (10) is greater than the total number of samples (7). n_neighbors will be set to (n_samples - 1) for estimation.\n",
      "  % (self.n_neighbors, n_samples))\n",
      "/home/charles/anaconda3/envs/torch/lib/python3.7/site-packages/sklearn/neighbors/_lof.py:277: UserWarning: n_neighbors (10) is greater than the total number of samples (7). n_neighbors will be set to (n_samples - 1) for estimation.\n",
      "  % (self.n_neighbors, n_samples))\n",
      "/home/charles/anaconda3/envs/torch/lib/python3.7/site-packages/sklearn/neighbors/_lof.py:277: UserWarning: n_neighbors (10) is greater than the total number of samples (7). n_neighbors will be set to (n_samples - 1) for estimation.\n",
      "  % (self.n_neighbors, n_samples))\n",
      "/home/charles/anaconda3/envs/torch/lib/python3.7/site-packages/sklearn/neighbors/_lof.py:277: UserWarning: n_neighbors (10) is greater than the total number of samples (7). n_neighbors will be set to (n_samples - 1) for estimation.\n",
      "  % (self.n_neighbors, n_samples))\n",
      "/home/charles/anaconda3/envs/torch/lib/python3.7/site-packages/sklearn/neighbors/_lof.py:277: UserWarning: n_neighbors (10) is greater than the total number of samples (7). n_neighbors will be set to (n_samples - 1) for estimation.\n",
      "  % (self.n_neighbors, n_samples))\n",
      "/home/charles/anaconda3/envs/torch/lib/python3.7/site-packages/sklearn/neighbors/_lof.py:277: UserWarning: n_neighbors (10) is greater than the total number of samples (7). n_neighbors will be set to (n_samples - 1) for estimation.\n",
      "  % (self.n_neighbors, n_samples))\n",
      "/home/charles/anaconda3/envs/torch/lib/python3.7/site-packages/sklearn/neighbors/_lof.py:277: UserWarning: n_neighbors (10) is greater than the total number of samples (7). n_neighbors will be set to (n_samples - 1) for estimation.\n",
      "  % (self.n_neighbors, n_samples))\n",
      "/home/charles/anaconda3/envs/torch/lib/python3.7/site-packages/sklearn/neighbors/_lof.py:277: UserWarning: n_neighbors (10) is greater than the total number of samples (7). n_neighbors will be set to (n_samples - 1) for estimation.\n",
      "  % (self.n_neighbors, n_samples))\n",
      "/home/charles/anaconda3/envs/torch/lib/python3.7/site-packages/sklearn/neighbors/_lof.py:277: UserWarning: n_neighbors (10) is greater than the total number of samples (7). n_neighbors will be set to (n_samples - 1) for estimation.\n",
      "  % (self.n_neighbors, n_samples))\n",
      "/home/charles/anaconda3/envs/torch/lib/python3.7/site-packages/sklearn/neighbors/_lof.py:277: UserWarning: n_neighbors (10) is greater than the total number of samples (7). n_neighbors will be set to (n_samples - 1) for estimation.\n",
      "  % (self.n_neighbors, n_samples))\n",
      "/home/charles/anaconda3/envs/torch/lib/python3.7/site-packages/sklearn/neighbors/_lof.py:277: UserWarning: n_neighbors (10) is greater than the total number of samples (7). n_neighbors will be set to (n_samples - 1) for estimation.\n",
      "  % (self.n_neighbors, n_samples))\n",
      "/home/charles/anaconda3/envs/torch/lib/python3.7/site-packages/sklearn/neighbors/_lof.py:277: UserWarning: n_neighbors (10) is greater than the total number of samples (7). n_neighbors will be set to (n_samples - 1) for estimation.\n",
      "  % (self.n_neighbors, n_samples))\n",
      "/home/charles/anaconda3/envs/torch/lib/python3.7/site-packages/sklearn/neighbors/_lof.py:277: UserWarning: n_neighbors (10) is greater than the total number of samples (7). n_neighbors will be set to (n_samples - 1) for estimation.\n",
      "  % (self.n_neighbors, n_samples))\n",
      "/home/charles/anaconda3/envs/torch/lib/python3.7/site-packages/sklearn/neighbors/_lof.py:277: UserWarning: n_neighbors (10) is greater than the total number of samples (7). n_neighbors will be set to (n_samples - 1) for estimation.\n",
      "  % (self.n_neighbors, n_samples))\n",
      "/home/charles/anaconda3/envs/torch/lib/python3.7/site-packages/sklearn/neighbors/_lof.py:277: UserWarning: n_neighbors (10) is greater than the total number of samples (7). n_neighbors will be set to (n_samples - 1) for estimation.\n",
      "  % (self.n_neighbors, n_samples))\n",
      "/home/charles/anaconda3/envs/torch/lib/python3.7/site-packages/sklearn/neighbors/_lof.py:277: UserWarning: n_neighbors (10) is greater than the total number of samples (7). n_neighbors will be set to (n_samples - 1) for estimation.\n",
      "  % (self.n_neighbors, n_samples))\n",
      "/home/charles/anaconda3/envs/torch/lib/python3.7/site-packages/sklearn/neighbors/_lof.py:277: UserWarning: n_neighbors (10) is greater than the total number of samples (7). n_neighbors will be set to (n_samples - 1) for estimation.\n",
      "  % (self.n_neighbors, n_samples))\n",
      "/home/charles/anaconda3/envs/torch/lib/python3.7/site-packages/sklearn/neighbors/_lof.py:277: UserWarning: n_neighbors (10) is greater than the total number of samples (7). n_neighbors will be set to (n_samples - 1) for estimation.\n",
      "  % (self.n_neighbors, n_samples))\n",
      "/home/charles/anaconda3/envs/torch/lib/python3.7/site-packages/sklearn/neighbors/_lof.py:277: UserWarning: n_neighbors (10) is greater than the total number of samples (7). n_neighbors will be set to (n_samples - 1) for estimation.\n",
      "  % (self.n_neighbors, n_samples))\n",
      "/home/charles/anaconda3/envs/torch/lib/python3.7/site-packages/sklearn/neighbors/_lof.py:277: UserWarning: n_neighbors (10) is greater than the total number of samples (7). n_neighbors will be set to (n_samples - 1) for estimation.\n",
      "  % (self.n_neighbors, n_samples))\n",
      "/home/charles/anaconda3/envs/torch/lib/python3.7/site-packages/sklearn/neighbors/_lof.py:277: UserWarning: n_neighbors (10) is greater than the total number of samples (7). n_neighbors will be set to (n_samples - 1) for estimation.\n",
      "  % (self.n_neighbors, n_samples))\n",
      "/home/charles/anaconda3/envs/torch/lib/python3.7/site-packages/sklearn/neighbors/_lof.py:277: UserWarning: n_neighbors (10) is greater than the total number of samples (7). n_neighbors will be set to (n_samples - 1) for estimation.\n",
      "  % (self.n_neighbors, n_samples))\n",
      "/home/charles/anaconda3/envs/torch/lib/python3.7/site-packages/sklearn/neighbors/_lof.py:277: UserWarning: n_neighbors (10) is greater than the total number of samples (7). n_neighbors will be set to (n_samples - 1) for estimation.\n",
      "  % (self.n_neighbors, n_samples))\n",
      "/home/charles/anaconda3/envs/torch/lib/python3.7/site-packages/sklearn/neighbors/_lof.py:277: UserWarning: n_neighbors (10) is greater than the total number of samples (7). n_neighbors will be set to (n_samples - 1) for estimation.\n",
      "  % (self.n_neighbors, n_samples))\n",
      "/home/charles/anaconda3/envs/torch/lib/python3.7/site-packages/sklearn/neighbors/_lof.py:277: UserWarning: n_neighbors (10) is greater than the total number of samples (7). n_neighbors will be set to (n_samples - 1) for estimation.\n",
      "  % (self.n_neighbors, n_samples))\n",
      "/home/charles/anaconda3/envs/torch/lib/python3.7/site-packages/sklearn/neighbors/_lof.py:277: UserWarning: n_neighbors (10) is greater than the total number of samples (7). n_neighbors will be set to (n_samples - 1) for estimation.\n",
      "  % (self.n_neighbors, n_samples))\n",
      "/home/charles/anaconda3/envs/torch/lib/python3.7/site-packages/sklearn/neighbors/_lof.py:277: UserWarning: n_neighbors (10) is greater than the total number of samples (7). n_neighbors will be set to (n_samples - 1) for estimation.\n",
      "  % (self.n_neighbors, n_samples))\n",
      "/home/charles/anaconda3/envs/torch/lib/python3.7/site-packages/sklearn/neighbors/_lof.py:277: UserWarning: n_neighbors (10) is greater than the total number of samples (7). n_neighbors will be set to (n_samples - 1) for estimation.\n",
      "  % (self.n_neighbors, n_samples))\n",
      "/home/charles/anaconda3/envs/torch/lib/python3.7/site-packages/sklearn/neighbors/_lof.py:277: UserWarning: n_neighbors (10) is greater than the total number of samples (7). n_neighbors will be set to (n_samples - 1) for estimation.\n",
      "  % (self.n_neighbors, n_samples))\n",
      "/home/charles/anaconda3/envs/torch/lib/python3.7/site-packages/sklearn/neighbors/_lof.py:277: UserWarning: n_neighbors (10) is greater than the total number of samples (7). n_neighbors will be set to (n_samples - 1) for estimation.\n",
      "  % (self.n_neighbors, n_samples))\n",
      "/home/charles/anaconda3/envs/torch/lib/python3.7/site-packages/sklearn/neighbors/_lof.py:277: UserWarning: n_neighbors (10) is greater than the total number of samples (7). n_neighbors will be set to (n_samples - 1) for estimation.\n",
      "  % (self.n_neighbors, n_samples))\n",
      "/home/charles/anaconda3/envs/torch/lib/python3.7/site-packages/sklearn/neighbors/_lof.py:277: UserWarning: n_neighbors (10) is greater than the total number of samples (7). n_neighbors will be set to (n_samples - 1) for estimation.\n",
      "  % (self.n_neighbors, n_samples))\n",
      "/home/charles/anaconda3/envs/torch/lib/python3.7/site-packages/sklearn/neighbors/_lof.py:277: UserWarning: n_neighbors (10) is greater than the total number of samples (7). n_neighbors will be set to (n_samples - 1) for estimation.\n",
      "  % (self.n_neighbors, n_samples))\n",
      "/home/charles/anaconda3/envs/torch/lib/python3.7/site-packages/sklearn/neighbors/_lof.py:277: UserWarning: n_neighbors (10) is greater than the total number of samples (7). n_neighbors will be set to (n_samples - 1) for estimation.\n",
      "  % (self.n_neighbors, n_samples))\n",
      "/home/charles/anaconda3/envs/torch/lib/python3.7/site-packages/sklearn/neighbors/_lof.py:277: UserWarning: n_neighbors (10) is greater than the total number of samples (7). n_neighbors will be set to (n_samples - 1) for estimation.\n",
      "  % (self.n_neighbors, n_samples))\n",
      "/home/charles/anaconda3/envs/torch/lib/python3.7/site-packages/sklearn/neighbors/_lof.py:277: UserWarning: n_neighbors (10) is greater than the total number of samples (7). n_neighbors will be set to (n_samples - 1) for estimation.\n",
      "  % (self.n_neighbors, n_samples))\n",
      "/home/charles/anaconda3/envs/torch/lib/python3.7/site-packages/sklearn/neighbors/_lof.py:277: UserWarning: n_neighbors (10) is greater than the total number of samples (7). n_neighbors will be set to (n_samples - 1) for estimation.\n",
      "  % (self.n_neighbors, n_samples))\n",
      "/home/charles/anaconda3/envs/torch/lib/python3.7/site-packages/sklearn/neighbors/_lof.py:277: UserWarning: n_neighbors (10) is greater than the total number of samples (7). n_neighbors will be set to (n_samples - 1) for estimation.\n",
      "  % (self.n_neighbors, n_samples))\n",
      "/home/charles/anaconda3/envs/torch/lib/python3.7/site-packages/sklearn/neighbors/_lof.py:277: UserWarning: n_neighbors (10) is greater than the total number of samples (7). n_neighbors will be set to (n_samples - 1) for estimation.\n",
      "  % (self.n_neighbors, n_samples))\n",
      "/home/charles/anaconda3/envs/torch/lib/python3.7/site-packages/sklearn/neighbors/_lof.py:277: UserWarning: n_neighbors (10) is greater than the total number of samples (7). n_neighbors will be set to (n_samples - 1) for estimation.\n",
      "  % (self.n_neighbors, n_samples))\n",
      "/home/charles/anaconda3/envs/torch/lib/python3.7/site-packages/sklearn/neighbors/_lof.py:277: UserWarning: n_neighbors (10) is greater than the total number of samples (7). n_neighbors will be set to (n_samples - 1) for estimation.\n",
      "  % (self.n_neighbors, n_samples))\n",
      "/home/charles/anaconda3/envs/torch/lib/python3.7/site-packages/sklearn/neighbors/_lof.py:277: UserWarning: n_neighbors (10) is greater than the total number of samples (7). n_neighbors will be set to (n_samples - 1) for estimation.\n",
      "  % (self.n_neighbors, n_samples))\n",
      "/home/charles/anaconda3/envs/torch/lib/python3.7/site-packages/sklearn/neighbors/_lof.py:277: UserWarning: n_neighbors (10) is greater than the total number of samples (7). n_neighbors will be set to (n_samples - 1) for estimation.\n",
      "  % (self.n_neighbors, n_samples))\n",
      "/home/charles/anaconda3/envs/torch/lib/python3.7/site-packages/sklearn/neighbors/_lof.py:277: UserWarning: n_neighbors (10) is greater than the total number of samples (7). n_neighbors will be set to (n_samples - 1) for estimation.\n",
      "  % (self.n_neighbors, n_samples))\n",
      "/home/charles/anaconda3/envs/torch/lib/python3.7/site-packages/sklearn/neighbors/_lof.py:277: UserWarning: n_neighbors (10) is greater than the total number of samples (7). n_neighbors will be set to (n_samples - 1) for estimation.\n",
      "  % (self.n_neighbors, n_samples))\n",
      "/home/charles/anaconda3/envs/torch/lib/python3.7/site-packages/sklearn/neighbors/_lof.py:277: UserWarning: n_neighbors (10) is greater than the total number of samples (7). n_neighbors will be set to (n_samples - 1) for estimation.\n",
      "  % (self.n_neighbors, n_samples))\n",
      "/home/charles/anaconda3/envs/torch/lib/python3.7/site-packages/sklearn/neighbors/_lof.py:277: UserWarning: n_neighbors (10) is greater than the total number of samples (7). n_neighbors will be set to (n_samples - 1) for estimation.\n",
      "  % (self.n_neighbors, n_samples))\n",
      "/home/charles/anaconda3/envs/torch/lib/python3.7/site-packages/sklearn/neighbors/_lof.py:277: UserWarning: n_neighbors (10) is greater than the total number of samples (7). n_neighbors will be set to (n_samples - 1) for estimation.\n",
      "  % (self.n_neighbors, n_samples))\n",
      "/home/charles/anaconda3/envs/torch/lib/python3.7/site-packages/sklearn/neighbors/_lof.py:277: UserWarning: n_neighbors (10) is greater than the total number of samples (7). n_neighbors will be set to (n_samples - 1) for estimation.\n",
      "  % (self.n_neighbors, n_samples))\n",
      "/home/charles/anaconda3/envs/torch/lib/python3.7/site-packages/sklearn/neighbors/_lof.py:277: UserWarning: n_neighbors (10) is greater than the total number of samples (7). n_neighbors will be set to (n_samples - 1) for estimation.\n",
      "  % (self.n_neighbors, n_samples))\n",
      "/home/charles/anaconda3/envs/torch/lib/python3.7/site-packages/sklearn/neighbors/_lof.py:277: UserWarning: n_neighbors (10) is greater than the total number of samples (7). n_neighbors will be set to (n_samples - 1) for estimation.\n",
      "  % (self.n_neighbors, n_samples))\n",
      "/home/charles/anaconda3/envs/torch/lib/python3.7/site-packages/sklearn/neighbors/_lof.py:277: UserWarning: n_neighbors (10) is greater than the total number of samples (7). n_neighbors will be set to (n_samples - 1) for estimation.\n",
      "  % (self.n_neighbors, n_samples))\n",
      "/home/charles/anaconda3/envs/torch/lib/python3.7/site-packages/sklearn/neighbors/_lof.py:277: UserWarning: n_neighbors (10) is greater than the total number of samples (7). n_neighbors will be set to (n_samples - 1) for estimation.\n",
      "  % (self.n_neighbors, n_samples))\n",
      "/home/charles/anaconda3/envs/torch/lib/python3.7/site-packages/sklearn/neighbors/_lof.py:277: UserWarning: n_neighbors (10) is greater than the total number of samples (7). n_neighbors will be set to (n_samples - 1) for estimation.\n",
      "  % (self.n_neighbors, n_samples))\n",
      "/home/charles/anaconda3/envs/torch/lib/python3.7/site-packages/sklearn/neighbors/_lof.py:277: UserWarning: n_neighbors (10) is greater than the total number of samples (7). n_neighbors will be set to (n_samples - 1) for estimation.\n",
      "  % (self.n_neighbors, n_samples))\n",
      "/home/charles/anaconda3/envs/torch/lib/python3.7/site-packages/sklearn/neighbors/_lof.py:277: UserWarning: n_neighbors (10) is greater than the total number of samples (7). n_neighbors will be set to (n_samples - 1) for estimation.\n",
      "  % (self.n_neighbors, n_samples))\n",
      "/home/charles/anaconda3/envs/torch/lib/python3.7/site-packages/sklearn/neighbors/_lof.py:277: UserWarning: n_neighbors (10) is greater than the total number of samples (7). n_neighbors will be set to (n_samples - 1) for estimation.\n",
      "  % (self.n_neighbors, n_samples))\n",
      "/home/charles/anaconda3/envs/torch/lib/python3.7/site-packages/sklearn/neighbors/_lof.py:277: UserWarning: n_neighbors (10) is greater than the total number of samples (7). n_neighbors will be set to (n_samples - 1) for estimation.\n",
      "  % (self.n_neighbors, n_samples))\n",
      "/home/charles/anaconda3/envs/torch/lib/python3.7/site-packages/sklearn/neighbors/_lof.py:277: UserWarning: n_neighbors (10) is greater than the total number of samples (7). n_neighbors will be set to (n_samples - 1) for estimation.\n",
      "  % (self.n_neighbors, n_samples))\n",
      "/home/charles/anaconda3/envs/torch/lib/python3.7/site-packages/sklearn/neighbors/_lof.py:277: UserWarning: n_neighbors (10) is greater than the total number of samples (7). n_neighbors will be set to (n_samples - 1) for estimation.\n",
      "  % (self.n_neighbors, n_samples))\n",
      "/home/charles/anaconda3/envs/torch/lib/python3.7/site-packages/sklearn/neighbors/_lof.py:277: UserWarning: n_neighbors (10) is greater than the total number of samples (7). n_neighbors will be set to (n_samples - 1) for estimation.\n",
      "  % (self.n_neighbors, n_samples))\n",
      "/home/charles/anaconda3/envs/torch/lib/python3.7/site-packages/sklearn/neighbors/_lof.py:277: UserWarning: n_neighbors (10) is greater than the total number of samples (7). n_neighbors will be set to (n_samples - 1) for estimation.\n",
      "  % (self.n_neighbors, n_samples))\n",
      "/home/charles/anaconda3/envs/torch/lib/python3.7/site-packages/sklearn/neighbors/_lof.py:277: UserWarning: n_neighbors (10) is greater than the total number of samples (7). n_neighbors will be set to (n_samples - 1) for estimation.\n",
      "  % (self.n_neighbors, n_samples))\n",
      "/home/charles/anaconda3/envs/torch/lib/python3.7/site-packages/sklearn/neighbors/_lof.py:277: UserWarning: n_neighbors (10) is greater than the total number of samples (7). n_neighbors will be set to (n_samples - 1) for estimation.\n",
      "  % (self.n_neighbors, n_samples))\n",
      "/home/charles/anaconda3/envs/torch/lib/python3.7/site-packages/sklearn/neighbors/_lof.py:277: UserWarning: n_neighbors (10) is greater than the total number of samples (7). n_neighbors will be set to (n_samples - 1) for estimation.\n",
      "  % (self.n_neighbors, n_samples))\n",
      "/home/charles/anaconda3/envs/torch/lib/python3.7/site-packages/sklearn/neighbors/_lof.py:277: UserWarning: n_neighbors (10) is greater than the total number of samples (7). n_neighbors will be set to (n_samples - 1) for estimation.\n",
      "  % (self.n_neighbors, n_samples))\n",
      "/home/charles/anaconda3/envs/torch/lib/python3.7/site-packages/sklearn/neighbors/_lof.py:277: UserWarning: n_neighbors (10) is greater than the total number of samples (7). n_neighbors will be set to (n_samples - 1) for estimation.\n",
      "  % (self.n_neighbors, n_samples))\n",
      "/home/charles/anaconda3/envs/torch/lib/python3.7/site-packages/sklearn/neighbors/_lof.py:277: UserWarning: n_neighbors (10) is greater than the total number of samples (7). n_neighbors will be set to (n_samples - 1) for estimation.\n",
      "  % (self.n_neighbors, n_samples))\n",
      "/home/charles/anaconda3/envs/torch/lib/python3.7/site-packages/sklearn/neighbors/_lof.py:277: UserWarning: n_neighbors (10) is greater than the total number of samples (7). n_neighbors will be set to (n_samples - 1) for estimation.\n",
      "  % (self.n_neighbors, n_samples))\n",
      "/home/charles/anaconda3/envs/torch/lib/python3.7/site-packages/sklearn/neighbors/_lof.py:277: UserWarning: n_neighbors (10) is greater than the total number of samples (7). n_neighbors will be set to (n_samples - 1) for estimation.\n",
      "  % (self.n_neighbors, n_samples))\n",
      "/home/charles/anaconda3/envs/torch/lib/python3.7/site-packages/sklearn/neighbors/_lof.py:277: UserWarning: n_neighbors (10) is greater than the total number of samples (7). n_neighbors will be set to (n_samples - 1) for estimation.\n",
      "  % (self.n_neighbors, n_samples))\n",
      "/home/charles/anaconda3/envs/torch/lib/python3.7/site-packages/sklearn/neighbors/_lof.py:277: UserWarning: n_neighbors (10) is greater than the total number of samples (7). n_neighbors will be set to (n_samples - 1) for estimation.\n",
      "  % (self.n_neighbors, n_samples))\n",
      "/home/charles/anaconda3/envs/torch/lib/python3.7/site-packages/sklearn/neighbors/_lof.py:277: UserWarning: n_neighbors (10) is greater than the total number of samples (7). n_neighbors will be set to (n_samples - 1) for estimation.\n",
      "  % (self.n_neighbors, n_samples))\n",
      "/home/charles/anaconda3/envs/torch/lib/python3.7/site-packages/sklearn/neighbors/_lof.py:277: UserWarning: n_neighbors (10) is greater than the total number of samples (7). n_neighbors will be set to (n_samples - 1) for estimation.\n",
      "  % (self.n_neighbors, n_samples))\n",
      "/home/charles/anaconda3/envs/torch/lib/python3.7/site-packages/sklearn/neighbors/_lof.py:277: UserWarning: n_neighbors (10) is greater than the total number of samples (7). n_neighbors will be set to (n_samples - 1) for estimation.\n",
      "  % (self.n_neighbors, n_samples))\n",
      "/home/charles/anaconda3/envs/torch/lib/python3.7/site-packages/sklearn/neighbors/_lof.py:277: UserWarning: n_neighbors (10) is greater than the total number of samples (7). n_neighbors will be set to (n_samples - 1) for estimation.\n",
      "  % (self.n_neighbors, n_samples))\n",
      "/home/charles/anaconda3/envs/torch/lib/python3.7/site-packages/sklearn/neighbors/_lof.py:277: UserWarning: n_neighbors (10) is greater than the total number of samples (7). n_neighbors will be set to (n_samples - 1) for estimation.\n",
      "  % (self.n_neighbors, n_samples))\n",
      "/home/charles/anaconda3/envs/torch/lib/python3.7/site-packages/sklearn/neighbors/_lof.py:277: UserWarning: n_neighbors (10) is greater than the total number of samples (7). n_neighbors will be set to (n_samples - 1) for estimation.\n",
      "  % (self.n_neighbors, n_samples))\n",
      "/home/charles/anaconda3/envs/torch/lib/python3.7/site-packages/sklearn/neighbors/_lof.py:277: UserWarning: n_neighbors (10) is greater than the total number of samples (7). n_neighbors will be set to (n_samples - 1) for estimation.\n",
      "  % (self.n_neighbors, n_samples))\n",
      "/home/charles/anaconda3/envs/torch/lib/python3.7/site-packages/sklearn/neighbors/_lof.py:277: UserWarning: n_neighbors (10) is greater than the total number of samples (7). n_neighbors will be set to (n_samples - 1) for estimation.\n",
      "  % (self.n_neighbors, n_samples))\n",
      "/home/charles/anaconda3/envs/torch/lib/python3.7/site-packages/sklearn/neighbors/_lof.py:277: UserWarning: n_neighbors (10) is greater than the total number of samples (7). n_neighbors will be set to (n_samples - 1) for estimation.\n",
      "  % (self.n_neighbors, n_samples))\n",
      "/home/charles/anaconda3/envs/torch/lib/python3.7/site-packages/sklearn/neighbors/_lof.py:277: UserWarning: n_neighbors (10) is greater than the total number of samples (7). n_neighbors will be set to (n_samples - 1) for estimation.\n",
      "  % (self.n_neighbors, n_samples))\n",
      "/home/charles/anaconda3/envs/torch/lib/python3.7/site-packages/sklearn/neighbors/_lof.py:277: UserWarning: n_neighbors (10) is greater than the total number of samples (7). n_neighbors will be set to (n_samples - 1) for estimation.\n",
      "  % (self.n_neighbors, n_samples))\n",
      "/home/charles/anaconda3/envs/torch/lib/python3.7/site-packages/sklearn/neighbors/_lof.py:277: UserWarning: n_neighbors (10) is greater than the total number of samples (7). n_neighbors will be set to (n_samples - 1) for estimation.\n",
      "  % (self.n_neighbors, n_samples))\n",
      "/home/charles/anaconda3/envs/torch/lib/python3.7/site-packages/sklearn/neighbors/_lof.py:277: UserWarning: n_neighbors (10) is greater than the total number of samples (7). n_neighbors will be set to (n_samples - 1) for estimation.\n",
      "  % (self.n_neighbors, n_samples))\n",
      "/home/charles/anaconda3/envs/torch/lib/python3.7/site-packages/sklearn/neighbors/_lof.py:277: UserWarning: n_neighbors (10) is greater than the total number of samples (7). n_neighbors will be set to (n_samples - 1) for estimation.\n",
      "  % (self.n_neighbors, n_samples))\n",
      "/home/charles/anaconda3/envs/torch/lib/python3.7/site-packages/sklearn/neighbors/_lof.py:277: UserWarning: n_neighbors (10) is greater than the total number of samples (7). n_neighbors will be set to (n_samples - 1) for estimation.\n",
      "  % (self.n_neighbors, n_samples))\n",
      "/home/charles/anaconda3/envs/torch/lib/python3.7/site-packages/sklearn/neighbors/_lof.py:277: UserWarning: n_neighbors (10) is greater than the total number of samples (7). n_neighbors will be set to (n_samples - 1) for estimation.\n",
      "  % (self.n_neighbors, n_samples))\n",
      "/home/charles/anaconda3/envs/torch/lib/python3.7/site-packages/sklearn/neighbors/_lof.py:277: UserWarning: n_neighbors (10) is greater than the total number of samples (7). n_neighbors will be set to (n_samples - 1) for estimation.\n",
      "  % (self.n_neighbors, n_samples))\n",
      "/home/charles/anaconda3/envs/torch/lib/python3.7/site-packages/sklearn/neighbors/_lof.py:277: UserWarning: n_neighbors (10) is greater than the total number of samples (7). n_neighbors will be set to (n_samples - 1) for estimation.\n",
      "  % (self.n_neighbors, n_samples))\n",
      "/home/charles/anaconda3/envs/torch/lib/python3.7/site-packages/sklearn/neighbors/_lof.py:277: UserWarning: n_neighbors (10) is greater than the total number of samples (7). n_neighbors will be set to (n_samples - 1) for estimation.\n",
      "  % (self.n_neighbors, n_samples))\n",
      "/home/charles/anaconda3/envs/torch/lib/python3.7/site-packages/sklearn/neighbors/_lof.py:277: UserWarning: n_neighbors (10) is greater than the total number of samples (7). n_neighbors will be set to (n_samples - 1) for estimation.\n",
      "  % (self.n_neighbors, n_samples))\n",
      "/home/charles/anaconda3/envs/torch/lib/python3.7/site-packages/sklearn/neighbors/_lof.py:277: UserWarning: n_neighbors (10) is greater than the total number of samples (7). n_neighbors will be set to (n_samples - 1) for estimation.\n",
      "  % (self.n_neighbors, n_samples))\n",
      "/home/charles/anaconda3/envs/torch/lib/python3.7/site-packages/sklearn/neighbors/_lof.py:277: UserWarning: n_neighbors (10) is greater than the total number of samples (7). n_neighbors will be set to (n_samples - 1) for estimation.\n",
      "  % (self.n_neighbors, n_samples))\n",
      "/home/charles/anaconda3/envs/torch/lib/python3.7/site-packages/sklearn/neighbors/_lof.py:277: UserWarning: n_neighbors (10) is greater than the total number of samples (7). n_neighbors will be set to (n_samples - 1) for estimation.\n",
      "  % (self.n_neighbors, n_samples))\n",
      "/home/charles/anaconda3/envs/torch/lib/python3.7/site-packages/sklearn/neighbors/_lof.py:277: UserWarning: n_neighbors (10) is greater than the total number of samples (7). n_neighbors will be set to (n_samples - 1) for estimation.\n",
      "  % (self.n_neighbors, n_samples))\n",
      "/home/charles/anaconda3/envs/torch/lib/python3.7/site-packages/sklearn/neighbors/_lof.py:277: UserWarning: n_neighbors (10) is greater than the total number of samples (7). n_neighbors will be set to (n_samples - 1) for estimation.\n",
      "  % (self.n_neighbors, n_samples))\n",
      "/home/charles/anaconda3/envs/torch/lib/python3.7/site-packages/sklearn/neighbors/_lof.py:277: UserWarning: n_neighbors (10) is greater than the total number of samples (7). n_neighbors will be set to (n_samples - 1) for estimation.\n",
      "  % (self.n_neighbors, n_samples))\n",
      "/home/charles/anaconda3/envs/torch/lib/python3.7/site-packages/sklearn/neighbors/_lof.py:277: UserWarning: n_neighbors (10) is greater than the total number of samples (7). n_neighbors will be set to (n_samples - 1) for estimation.\n",
      "  % (self.n_neighbors, n_samples))\n",
      "/home/charles/anaconda3/envs/torch/lib/python3.7/site-packages/sklearn/neighbors/_lof.py:277: UserWarning: n_neighbors (10) is greater than the total number of samples (7). n_neighbors will be set to (n_samples - 1) for estimation.\n",
      "  % (self.n_neighbors, n_samples))\n",
      "/home/charles/anaconda3/envs/torch/lib/python3.7/site-packages/sklearn/neighbors/_lof.py:277: UserWarning: n_neighbors (10) is greater than the total number of samples (7). n_neighbors will be set to (n_samples - 1) for estimation.\n",
      "  % (self.n_neighbors, n_samples))\n",
      "/home/charles/anaconda3/envs/torch/lib/python3.7/site-packages/sklearn/neighbors/_lof.py:277: UserWarning: n_neighbors (10) is greater than the total number of samples (7). n_neighbors will be set to (n_samples - 1) for estimation.\n",
      "  % (self.n_neighbors, n_samples))\n",
      "/home/charles/anaconda3/envs/torch/lib/python3.7/site-packages/sklearn/neighbors/_lof.py:277: UserWarning: n_neighbors (10) is greater than the total number of samples (7). n_neighbors will be set to (n_samples - 1) for estimation.\n",
      "  % (self.n_neighbors, n_samples))\n",
      "/home/charles/anaconda3/envs/torch/lib/python3.7/site-packages/sklearn/neighbors/_lof.py:277: UserWarning: n_neighbors (10) is greater than the total number of samples (7). n_neighbors will be set to (n_samples - 1) for estimation.\n",
      "  % (self.n_neighbors, n_samples))\n",
      "/home/charles/anaconda3/envs/torch/lib/python3.7/site-packages/sklearn/neighbors/_lof.py:277: UserWarning: n_neighbors (10) is greater than the total number of samples (7). n_neighbors will be set to (n_samples - 1) for estimation.\n",
      "  % (self.n_neighbors, n_samples))\n",
      "/home/charles/anaconda3/envs/torch/lib/python3.7/site-packages/sklearn/neighbors/_lof.py:277: UserWarning: n_neighbors (10) is greater than the total number of samples (7). n_neighbors will be set to (n_samples - 1) for estimation.\n",
      "  % (self.n_neighbors, n_samples))\n",
      "/home/charles/anaconda3/envs/torch/lib/python3.7/site-packages/sklearn/neighbors/_lof.py:277: UserWarning: n_neighbors (10) is greater than the total number of samples (7). n_neighbors will be set to (n_samples - 1) for estimation.\n",
      "  % (self.n_neighbors, n_samples))\n",
      "/home/charles/anaconda3/envs/torch/lib/python3.7/site-packages/sklearn/neighbors/_lof.py:277: UserWarning: n_neighbors (10) is greater than the total number of samples (7). n_neighbors will be set to (n_samples - 1) for estimation.\n",
      "  % (self.n_neighbors, n_samples))\n",
      "/home/charles/anaconda3/envs/torch/lib/python3.7/site-packages/sklearn/neighbors/_lof.py:277: UserWarning: n_neighbors (10) is greater than the total number of samples (7). n_neighbors will be set to (n_samples - 1) for estimation.\n",
      "  % (self.n_neighbors, n_samples))\n",
      "/home/charles/anaconda3/envs/torch/lib/python3.7/site-packages/sklearn/neighbors/_lof.py:277: UserWarning: n_neighbors (10) is greater than the total number of samples (7). n_neighbors will be set to (n_samples - 1) for estimation.\n",
      "  % (self.n_neighbors, n_samples))\n",
      "/home/charles/anaconda3/envs/torch/lib/python3.7/site-packages/sklearn/neighbors/_lof.py:277: UserWarning: n_neighbors (10) is greater than the total number of samples (7). n_neighbors will be set to (n_samples - 1) for estimation.\n",
      "  % (self.n_neighbors, n_samples))\n",
      "/home/charles/anaconda3/envs/torch/lib/python3.7/site-packages/sklearn/neighbors/_lof.py:277: UserWarning: n_neighbors (10) is greater than the total number of samples (7). n_neighbors will be set to (n_samples - 1) for estimation.\n",
      "  % (self.n_neighbors, n_samples))\n",
      "/home/charles/anaconda3/envs/torch/lib/python3.7/site-packages/sklearn/neighbors/_lof.py:277: UserWarning: n_neighbors (10) is greater than the total number of samples (7). n_neighbors will be set to (n_samples - 1) for estimation.\n",
      "  % (self.n_neighbors, n_samples))\n",
      "/home/charles/anaconda3/envs/torch/lib/python3.7/site-packages/sklearn/neighbors/_lof.py:277: UserWarning: n_neighbors (10) is greater than the total number of samples (7). n_neighbors will be set to (n_samples - 1) for estimation.\n",
      "  % (self.n_neighbors, n_samples))\n",
      "/home/charles/anaconda3/envs/torch/lib/python3.7/site-packages/sklearn/neighbors/_lof.py:277: UserWarning: n_neighbors (10) is greater than the total number of samples (7). n_neighbors will be set to (n_samples - 1) for estimation.\n",
      "  % (self.n_neighbors, n_samples))\n",
      "/home/charles/anaconda3/envs/torch/lib/python3.7/site-packages/sklearn/neighbors/_lof.py:277: UserWarning: n_neighbors (10) is greater than the total number of samples (7). n_neighbors will be set to (n_samples - 1) for estimation.\n",
      "  % (self.n_neighbors, n_samples))\n",
      "/home/charles/anaconda3/envs/torch/lib/python3.7/site-packages/sklearn/neighbors/_lof.py:277: UserWarning: n_neighbors (10) is greater than the total number of samples (7). n_neighbors will be set to (n_samples - 1) for estimation.\n",
      "  % (self.n_neighbors, n_samples))\n",
      "/home/charles/anaconda3/envs/torch/lib/python3.7/site-packages/sklearn/neighbors/_lof.py:277: UserWarning: n_neighbors (10) is greater than the total number of samples (7). n_neighbors will be set to (n_samples - 1) for estimation.\n",
      "  % (self.n_neighbors, n_samples))\n",
      "/home/charles/anaconda3/envs/torch/lib/python3.7/site-packages/sklearn/neighbors/_lof.py:277: UserWarning: n_neighbors (10) is greater than the total number of samples (7). n_neighbors will be set to (n_samples - 1) for estimation.\n",
      "  % (self.n_neighbors, n_samples))\n",
      "/home/charles/anaconda3/envs/torch/lib/python3.7/site-packages/sklearn/neighbors/_lof.py:277: UserWarning: n_neighbors (10) is greater than the total number of samples (7). n_neighbors will be set to (n_samples - 1) for estimation.\n",
      "  % (self.n_neighbors, n_samples))\n",
      "/home/charles/anaconda3/envs/torch/lib/python3.7/site-packages/sklearn/neighbors/_lof.py:277: UserWarning: n_neighbors (10) is greater than the total number of samples (7). n_neighbors will be set to (n_samples - 1) for estimation.\n",
      "  % (self.n_neighbors, n_samples))\n",
      "/home/charles/anaconda3/envs/torch/lib/python3.7/site-packages/sklearn/neighbors/_lof.py:277: UserWarning: n_neighbors (10) is greater than the total number of samples (7). n_neighbors will be set to (n_samples - 1) for estimation.\n",
      "  % (self.n_neighbors, n_samples))\n",
      "/home/charles/anaconda3/envs/torch/lib/python3.7/site-packages/sklearn/neighbors/_lof.py:277: UserWarning: n_neighbors (10) is greater than the total number of samples (7). n_neighbors will be set to (n_samples - 1) for estimation.\n",
      "  % (self.n_neighbors, n_samples))\n",
      "/home/charles/anaconda3/envs/torch/lib/python3.7/site-packages/sklearn/neighbors/_lof.py:277: UserWarning: n_neighbors (10) is greater than the total number of samples (7). n_neighbors will be set to (n_samples - 1) for estimation.\n",
      "  % (self.n_neighbors, n_samples))\n",
      "/home/charles/anaconda3/envs/torch/lib/python3.7/site-packages/sklearn/neighbors/_lof.py:277: UserWarning: n_neighbors (10) is greater than the total number of samples (7). n_neighbors will be set to (n_samples - 1) for estimation.\n",
      "  % (self.n_neighbors, n_samples))\n",
      "/home/charles/anaconda3/envs/torch/lib/python3.7/site-packages/sklearn/neighbors/_lof.py:277: UserWarning: n_neighbors (10) is greater than the total number of samples (7). n_neighbors will be set to (n_samples - 1) for estimation.\n",
      "  % (self.n_neighbors, n_samples))\n",
      "/home/charles/anaconda3/envs/torch/lib/python3.7/site-packages/sklearn/neighbors/_lof.py:277: UserWarning: n_neighbors (10) is greater than the total number of samples (7). n_neighbors will be set to (n_samples - 1) for estimation.\n",
      "  % (self.n_neighbors, n_samples))\n",
      "/home/charles/anaconda3/envs/torch/lib/python3.7/site-packages/sklearn/neighbors/_lof.py:277: UserWarning: n_neighbors (10) is greater than the total number of samples (7). n_neighbors will be set to (n_samples - 1) for estimation.\n",
      "  % (self.n_neighbors, n_samples))\n",
      "/home/charles/anaconda3/envs/torch/lib/python3.7/site-packages/sklearn/neighbors/_lof.py:277: UserWarning: n_neighbors (10) is greater than the total number of samples (7). n_neighbors will be set to (n_samples - 1) for estimation.\n",
      "  % (self.n_neighbors, n_samples))\n",
      "/home/charles/anaconda3/envs/torch/lib/python3.7/site-packages/sklearn/neighbors/_lof.py:277: UserWarning: n_neighbors (10) is greater than the total number of samples (7). n_neighbors will be set to (n_samples - 1) for estimation.\n",
      "  % (self.n_neighbors, n_samples))\n",
      "/home/charles/anaconda3/envs/torch/lib/python3.7/site-packages/sklearn/neighbors/_lof.py:277: UserWarning: n_neighbors (10) is greater than the total number of samples (7). n_neighbors will be set to (n_samples - 1) for estimation.\n",
      "  % (self.n_neighbors, n_samples))\n",
      "/home/charles/anaconda3/envs/torch/lib/python3.7/site-packages/sklearn/neighbors/_lof.py:277: UserWarning: n_neighbors (10) is greater than the total number of samples (7). n_neighbors will be set to (n_samples - 1) for estimation.\n",
      "  % (self.n_neighbors, n_samples))\n",
      "/home/charles/anaconda3/envs/torch/lib/python3.7/site-packages/sklearn/neighbors/_lof.py:277: UserWarning: n_neighbors (10) is greater than the total number of samples (7). n_neighbors will be set to (n_samples - 1) for estimation.\n",
      "  % (self.n_neighbors, n_samples))\n",
      "/home/charles/anaconda3/envs/torch/lib/python3.7/site-packages/sklearn/neighbors/_lof.py:277: UserWarning: n_neighbors (10) is greater than the total number of samples (7). n_neighbors will be set to (n_samples - 1) for estimation.\n",
      "  % (self.n_neighbors, n_samples))\n",
      "/home/charles/anaconda3/envs/torch/lib/python3.7/site-packages/sklearn/neighbors/_lof.py:277: UserWarning: n_neighbors (10) is greater than the total number of samples (7). n_neighbors will be set to (n_samples - 1) for estimation.\n",
      "  % (self.n_neighbors, n_samples))\n",
      "/home/charles/anaconda3/envs/torch/lib/python3.7/site-packages/sklearn/neighbors/_lof.py:277: UserWarning: n_neighbors (10) is greater than the total number of samples (7). n_neighbors will be set to (n_samples - 1) for estimation.\n",
      "  % (self.n_neighbors, n_samples))\n",
      "/home/charles/anaconda3/envs/torch/lib/python3.7/site-packages/sklearn/neighbors/_lof.py:277: UserWarning: n_neighbors (10) is greater than the total number of samples (7). n_neighbors will be set to (n_samples - 1) for estimation.\n",
      "  % (self.n_neighbors, n_samples))\n",
      "/home/charles/anaconda3/envs/torch/lib/python3.7/site-packages/sklearn/neighbors/_lof.py:277: UserWarning: n_neighbors (10) is greater than the total number of samples (7). n_neighbors will be set to (n_samples - 1) for estimation.\n",
      "  % (self.n_neighbors, n_samples))\n",
      "/home/charles/anaconda3/envs/torch/lib/python3.7/site-packages/sklearn/neighbors/_lof.py:277: UserWarning: n_neighbors (10) is greater than the total number of samples (7). n_neighbors will be set to (n_samples - 1) for estimation.\n",
      "  % (self.n_neighbors, n_samples))\n",
      "/home/charles/anaconda3/envs/torch/lib/python3.7/site-packages/sklearn/neighbors/_lof.py:277: UserWarning: n_neighbors (10) is greater than the total number of samples (7). n_neighbors will be set to (n_samples - 1) for estimation.\n",
      "  % (self.n_neighbors, n_samples))\n",
      "/home/charles/anaconda3/envs/torch/lib/python3.7/site-packages/sklearn/neighbors/_lof.py:277: UserWarning: n_neighbors (10) is greater than the total number of samples (7). n_neighbors will be set to (n_samples - 1) for estimation.\n",
      "  % (self.n_neighbors, n_samples))\n",
      "/home/charles/anaconda3/envs/torch/lib/python3.7/site-packages/sklearn/neighbors/_lof.py:277: UserWarning: n_neighbors (10) is greater than the total number of samples (7). n_neighbors will be set to (n_samples - 1) for estimation.\n",
      "  % (self.n_neighbors, n_samples))\n",
      "/home/charles/anaconda3/envs/torch/lib/python3.7/site-packages/sklearn/neighbors/_lof.py:277: UserWarning: n_neighbors (10) is greater than the total number of samples (7). n_neighbors will be set to (n_samples - 1) for estimation.\n",
      "  % (self.n_neighbors, n_samples))\n",
      "/home/charles/anaconda3/envs/torch/lib/python3.7/site-packages/sklearn/neighbors/_lof.py:277: UserWarning: n_neighbors (10) is greater than the total number of samples (7). n_neighbors will be set to (n_samples - 1) for estimation.\n",
      "  % (self.n_neighbors, n_samples))\n",
      "/home/charles/anaconda3/envs/torch/lib/python3.7/site-packages/sklearn/neighbors/_lof.py:277: UserWarning: n_neighbors (10) is greater than the total number of samples (7). n_neighbors will be set to (n_samples - 1) for estimation.\n",
      "  % (self.n_neighbors, n_samples))\n",
      "/home/charles/anaconda3/envs/torch/lib/python3.7/site-packages/sklearn/neighbors/_lof.py:277: UserWarning: n_neighbors (10) is greater than the total number of samples (7). n_neighbors will be set to (n_samples - 1) for estimation.\n",
      "  % (self.n_neighbors, n_samples))\n",
      "/home/charles/anaconda3/envs/torch/lib/python3.7/site-packages/sklearn/neighbors/_lof.py:277: UserWarning: n_neighbors (10) is greater than the total number of samples (7). n_neighbors will be set to (n_samples - 1) for estimation.\n",
      "  % (self.n_neighbors, n_samples))\n",
      "/home/charles/anaconda3/envs/torch/lib/python3.7/site-packages/sklearn/neighbors/_lof.py:277: UserWarning: n_neighbors (10) is greater than the total number of samples (7). n_neighbors will be set to (n_samples - 1) for estimation.\n",
      "  % (self.n_neighbors, n_samples))\n",
      "/home/charles/anaconda3/envs/torch/lib/python3.7/site-packages/sklearn/neighbors/_lof.py:277: UserWarning: n_neighbors (10) is greater than the total number of samples (7). n_neighbors will be set to (n_samples - 1) for estimation.\n",
      "  % (self.n_neighbors, n_samples))\n",
      "/home/charles/anaconda3/envs/torch/lib/python3.7/site-packages/sklearn/neighbors/_lof.py:277: UserWarning: n_neighbors (10) is greater than the total number of samples (7). n_neighbors will be set to (n_samples - 1) for estimation.\n",
      "  % (self.n_neighbors, n_samples))\n",
      "/home/charles/anaconda3/envs/torch/lib/python3.7/site-packages/sklearn/neighbors/_lof.py:277: UserWarning: n_neighbors (10) is greater than the total number of samples (7). n_neighbors will be set to (n_samples - 1) for estimation.\n",
      "  % (self.n_neighbors, n_samples))\n",
      "/home/charles/anaconda3/envs/torch/lib/python3.7/site-packages/sklearn/neighbors/_lof.py:277: UserWarning: n_neighbors (10) is greater than the total number of samples (7). n_neighbors will be set to (n_samples - 1) for estimation.\n",
      "  % (self.n_neighbors, n_samples))\n",
      "/home/charles/anaconda3/envs/torch/lib/python3.7/site-packages/sklearn/neighbors/_lof.py:277: UserWarning: n_neighbors (10) is greater than the total number of samples (7). n_neighbors will be set to (n_samples - 1) for estimation.\n",
      "  % (self.n_neighbors, n_samples))\n",
      "/home/charles/anaconda3/envs/torch/lib/python3.7/site-packages/sklearn/neighbors/_lof.py:277: UserWarning: n_neighbors (10) is greater than the total number of samples (7). n_neighbors will be set to (n_samples - 1) for estimation.\n",
      "  % (self.n_neighbors, n_samples))\n",
      "/home/charles/anaconda3/envs/torch/lib/python3.7/site-packages/sklearn/neighbors/_lof.py:277: UserWarning: n_neighbors (10) is greater than the total number of samples (7). n_neighbors will be set to (n_samples - 1) for estimation.\n",
      "  % (self.n_neighbors, n_samples))\n",
      "/home/charles/anaconda3/envs/torch/lib/python3.7/site-packages/sklearn/neighbors/_lof.py:277: UserWarning: n_neighbors (10) is greater than the total number of samples (7). n_neighbors will be set to (n_samples - 1) for estimation.\n",
      "  % (self.n_neighbors, n_samples))\n",
      "/home/charles/anaconda3/envs/torch/lib/python3.7/site-packages/sklearn/neighbors/_lof.py:277: UserWarning: n_neighbors (10) is greater than the total number of samples (7). n_neighbors will be set to (n_samples - 1) for estimation.\n",
      "  % (self.n_neighbors, n_samples))\n",
      "/home/charles/anaconda3/envs/torch/lib/python3.7/site-packages/sklearn/neighbors/_lof.py:277: UserWarning: n_neighbors (10) is greater than the total number of samples (7). n_neighbors will be set to (n_samples - 1) for estimation.\n",
      "  % (self.n_neighbors, n_samples))\n",
      "/home/charles/anaconda3/envs/torch/lib/python3.7/site-packages/sklearn/neighbors/_lof.py:277: UserWarning: n_neighbors (10) is greater than the total number of samples (7). n_neighbors will be set to (n_samples - 1) for estimation.\n",
      "  % (self.n_neighbors, n_samples))\n",
      "/home/charles/anaconda3/envs/torch/lib/python3.7/site-packages/sklearn/neighbors/_lof.py:277: UserWarning: n_neighbors (10) is greater than the total number of samples (7). n_neighbors will be set to (n_samples - 1) for estimation.\n",
      "  % (self.n_neighbors, n_samples))\n",
      "/home/charles/anaconda3/envs/torch/lib/python3.7/site-packages/sklearn/neighbors/_lof.py:277: UserWarning: n_neighbors (10) is greater than the total number of samples (7). n_neighbors will be set to (n_samples - 1) for estimation.\n",
      "  % (self.n_neighbors, n_samples))\n",
      "/home/charles/anaconda3/envs/torch/lib/python3.7/site-packages/sklearn/neighbors/_lof.py:277: UserWarning: n_neighbors (10) is greater than the total number of samples (7). n_neighbors will be set to (n_samples - 1) for estimation.\n",
      "  % (self.n_neighbors, n_samples))\n",
      "/home/charles/anaconda3/envs/torch/lib/python3.7/site-packages/sklearn/neighbors/_lof.py:277: UserWarning: n_neighbors (10) is greater than the total number of samples (7). n_neighbors will be set to (n_samples - 1) for estimation.\n",
      "  % (self.n_neighbors, n_samples))\n",
      "/home/charles/anaconda3/envs/torch/lib/python3.7/site-packages/sklearn/neighbors/_lof.py:277: UserWarning: n_neighbors (10) is greater than the total number of samples (7). n_neighbors will be set to (n_samples - 1) for estimation.\n",
      "  % (self.n_neighbors, n_samples))\n",
      "/home/charles/anaconda3/envs/torch/lib/python3.7/site-packages/sklearn/neighbors/_lof.py:277: UserWarning: n_neighbors (10) is greater than the total number of samples (7). n_neighbors will be set to (n_samples - 1) for estimation.\n",
      "  % (self.n_neighbors, n_samples))\n",
      "/home/charles/anaconda3/envs/torch/lib/python3.7/site-packages/sklearn/neighbors/_lof.py:277: UserWarning: n_neighbors (10) is greater than the total number of samples (7). n_neighbors will be set to (n_samples - 1) for estimation.\n",
      "  % (self.n_neighbors, n_samples))\n",
      "/home/charles/anaconda3/envs/torch/lib/python3.7/site-packages/sklearn/neighbors/_lof.py:277: UserWarning: n_neighbors (10) is greater than the total number of samples (7). n_neighbors will be set to (n_samples - 1) for estimation.\n",
      "  % (self.n_neighbors, n_samples))\n",
      "/home/charles/anaconda3/envs/torch/lib/python3.7/site-packages/sklearn/neighbors/_lof.py:277: UserWarning: n_neighbors (10) is greater than the total number of samples (7). n_neighbors will be set to (n_samples - 1) for estimation.\n",
      "  % (self.n_neighbors, n_samples))\n",
      "/home/charles/anaconda3/envs/torch/lib/python3.7/site-packages/sklearn/neighbors/_lof.py:277: UserWarning: n_neighbors (10) is greater than the total number of samples (7). n_neighbors will be set to (n_samples - 1) for estimation.\n",
      "  % (self.n_neighbors, n_samples))\n",
      "/home/charles/anaconda3/envs/torch/lib/python3.7/site-packages/sklearn/neighbors/_lof.py:277: UserWarning: n_neighbors (10) is greater than the total number of samples (7). n_neighbors will be set to (n_samples - 1) for estimation.\n",
      "  % (self.n_neighbors, n_samples))\n",
      "/home/charles/anaconda3/envs/torch/lib/python3.7/site-packages/sklearn/neighbors/_lof.py:277: UserWarning: n_neighbors (10) is greater than the total number of samples (7). n_neighbors will be set to (n_samples - 1) for estimation.\n",
      "  % (self.n_neighbors, n_samples))\n",
      "/home/charles/anaconda3/envs/torch/lib/python3.7/site-packages/sklearn/neighbors/_lof.py:277: UserWarning: n_neighbors (10) is greater than the total number of samples (7). n_neighbors will be set to (n_samples - 1) for estimation.\n",
      "  % (self.n_neighbors, n_samples))\n",
      "/home/charles/anaconda3/envs/torch/lib/python3.7/site-packages/sklearn/neighbors/_lof.py:277: UserWarning: n_neighbors (10) is greater than the total number of samples (7). n_neighbors will be set to (n_samples - 1) for estimation.\n",
      "  % (self.n_neighbors, n_samples))\n",
      "/home/charles/anaconda3/envs/torch/lib/python3.7/site-packages/sklearn/neighbors/_lof.py:277: UserWarning: n_neighbors (10) is greater than the total number of samples (7). n_neighbors will be set to (n_samples - 1) for estimation.\n",
      "  % (self.n_neighbors, n_samples))\n",
      "/home/charles/anaconda3/envs/torch/lib/python3.7/site-packages/sklearn/neighbors/_lof.py:277: UserWarning: n_neighbors (10) is greater than the total number of samples (7). n_neighbors will be set to (n_samples - 1) for estimation.\n",
      "  % (self.n_neighbors, n_samples))\n",
      "/home/charles/anaconda3/envs/torch/lib/python3.7/site-packages/sklearn/neighbors/_lof.py:277: UserWarning: n_neighbors (10) is greater than the total number of samples (7). n_neighbors will be set to (n_samples - 1) for estimation.\n",
      "  % (self.n_neighbors, n_samples))\n",
      "/home/charles/anaconda3/envs/torch/lib/python3.7/site-packages/sklearn/neighbors/_lof.py:277: UserWarning: n_neighbors (10) is greater than the total number of samples (7). n_neighbors will be set to (n_samples - 1) for estimation.\n",
      "  % (self.n_neighbors, n_samples))\n",
      "/home/charles/anaconda3/envs/torch/lib/python3.7/site-packages/sklearn/neighbors/_lof.py:277: UserWarning: n_neighbors (10) is greater than the total number of samples (7). n_neighbors will be set to (n_samples - 1) for estimation.\n",
      "  % (self.n_neighbors, n_samples))\n",
      "/home/charles/anaconda3/envs/torch/lib/python3.7/site-packages/sklearn/neighbors/_lof.py:277: UserWarning: n_neighbors (10) is greater than the total number of samples (7). n_neighbors will be set to (n_samples - 1) for estimation.\n",
      "  % (self.n_neighbors, n_samples))\n",
      "/home/charles/anaconda3/envs/torch/lib/python3.7/site-packages/sklearn/neighbors/_lof.py:277: UserWarning: n_neighbors (10) is greater than the total number of samples (7). n_neighbors will be set to (n_samples - 1) for estimation.\n",
      "  % (self.n_neighbors, n_samples))\n",
      "/home/charles/anaconda3/envs/torch/lib/python3.7/site-packages/sklearn/neighbors/_lof.py:277: UserWarning: n_neighbors (10) is greater than the total number of samples (7). n_neighbors will be set to (n_samples - 1) for estimation.\n",
      "  % (self.n_neighbors, n_samples))\n",
      "/home/charles/anaconda3/envs/torch/lib/python3.7/site-packages/sklearn/neighbors/_lof.py:277: UserWarning: n_neighbors (10) is greater than the total number of samples (7). n_neighbors will be set to (n_samples - 1) for estimation.\n",
      "  % (self.n_neighbors, n_samples))\n",
      "/home/charles/anaconda3/envs/torch/lib/python3.7/site-packages/sklearn/neighbors/_lof.py:277: UserWarning: n_neighbors (10) is greater than the total number of samples (7). n_neighbors will be set to (n_samples - 1) for estimation.\n",
      "  % (self.n_neighbors, n_samples))\n",
      "/home/charles/anaconda3/envs/torch/lib/python3.7/site-packages/sklearn/neighbors/_lof.py:277: UserWarning: n_neighbors (10) is greater than the total number of samples (7). n_neighbors will be set to (n_samples - 1) for estimation.\n",
      "  % (self.n_neighbors, n_samples))\n",
      "/home/charles/anaconda3/envs/torch/lib/python3.7/site-packages/sklearn/neighbors/_lof.py:277: UserWarning: n_neighbors (10) is greater than the total number of samples (7). n_neighbors will be set to (n_samples - 1) for estimation.\n",
      "  % (self.n_neighbors, n_samples))\n",
      "/home/charles/anaconda3/envs/torch/lib/python3.7/site-packages/sklearn/neighbors/_lof.py:277: UserWarning: n_neighbors (10) is greater than the total number of samples (7). n_neighbors will be set to (n_samples - 1) for estimation.\n",
      "  % (self.n_neighbors, n_samples))\n",
      "/home/charles/anaconda3/envs/torch/lib/python3.7/site-packages/sklearn/neighbors/_lof.py:277: UserWarning: n_neighbors (10) is greater than the total number of samples (7). n_neighbors will be set to (n_samples - 1) for estimation.\n",
      "  % (self.n_neighbors, n_samples))\n",
      "/home/charles/anaconda3/envs/torch/lib/python3.7/site-packages/sklearn/neighbors/_lof.py:277: UserWarning: n_neighbors (10) is greater than the total number of samples (7). n_neighbors will be set to (n_samples - 1) for estimation.\n",
      "  % (self.n_neighbors, n_samples))\n",
      "/home/charles/anaconda3/envs/torch/lib/python3.7/site-packages/sklearn/neighbors/_lof.py:277: UserWarning: n_neighbors (10) is greater than the total number of samples (7). n_neighbors will be set to (n_samples - 1) for estimation.\n",
      "  % (self.n_neighbors, n_samples))\n",
      "/home/charles/anaconda3/envs/torch/lib/python3.7/site-packages/sklearn/neighbors/_lof.py:277: UserWarning: n_neighbors (10) is greater than the total number of samples (7). n_neighbors will be set to (n_samples - 1) for estimation.\n",
      "  % (self.n_neighbors, n_samples))\n",
      "/home/charles/anaconda3/envs/torch/lib/python3.7/site-packages/sklearn/neighbors/_lof.py:277: UserWarning: n_neighbors (10) is greater than the total number of samples (7). n_neighbors will be set to (n_samples - 1) for estimation.\n",
      "  % (self.n_neighbors, n_samples))\n",
      "/home/charles/anaconda3/envs/torch/lib/python3.7/site-packages/sklearn/neighbors/_lof.py:277: UserWarning: n_neighbors (10) is greater than the total number of samples (7). n_neighbors will be set to (n_samples - 1) for estimation.\n",
      "  % (self.n_neighbors, n_samples))\n",
      "/home/charles/anaconda3/envs/torch/lib/python3.7/site-packages/sklearn/neighbors/_lof.py:277: UserWarning: n_neighbors (10) is greater than the total number of samples (7). n_neighbors will be set to (n_samples - 1) for estimation.\n",
      "  % (self.n_neighbors, n_samples))\n",
      "/home/charles/anaconda3/envs/torch/lib/python3.7/site-packages/sklearn/neighbors/_lof.py:277: UserWarning: n_neighbors (10) is greater than the total number of samples (7). n_neighbors will be set to (n_samples - 1) for estimation.\n",
      "  % (self.n_neighbors, n_samples))\n",
      "/home/charles/anaconda3/envs/torch/lib/python3.7/site-packages/sklearn/neighbors/_lof.py:277: UserWarning: n_neighbors (10) is greater than the total number of samples (7). n_neighbors will be set to (n_samples - 1) for estimation.\n",
      "  % (self.n_neighbors, n_samples))\n",
      "/home/charles/anaconda3/envs/torch/lib/python3.7/site-packages/sklearn/neighbors/_lof.py:277: UserWarning: n_neighbors (10) is greater than the total number of samples (7). n_neighbors will be set to (n_samples - 1) for estimation.\n",
      "  % (self.n_neighbors, n_samples))\n",
      "/home/charles/anaconda3/envs/torch/lib/python3.7/site-packages/sklearn/neighbors/_lof.py:277: UserWarning: n_neighbors (10) is greater than the total number of samples (7). n_neighbors will be set to (n_samples - 1) for estimation.\n",
      "  % (self.n_neighbors, n_samples))\n",
      "/home/charles/anaconda3/envs/torch/lib/python3.7/site-packages/sklearn/neighbors/_lof.py:277: UserWarning: n_neighbors (10) is greater than the total number of samples (7). n_neighbors will be set to (n_samples - 1) for estimation.\n",
      "  % (self.n_neighbors, n_samples))\n",
      "/home/charles/anaconda3/envs/torch/lib/python3.7/site-packages/sklearn/neighbors/_lof.py:277: UserWarning: n_neighbors (10) is greater than the total number of samples (7). n_neighbors will be set to (n_samples - 1) for estimation.\n",
      "  % (self.n_neighbors, n_samples))\n",
      "/home/charles/anaconda3/envs/torch/lib/python3.7/site-packages/sklearn/neighbors/_lof.py:277: UserWarning: n_neighbors (10) is greater than the total number of samples (7). n_neighbors will be set to (n_samples - 1) for estimation.\n",
      "  % (self.n_neighbors, n_samples))\n",
      "/home/charles/anaconda3/envs/torch/lib/python3.7/site-packages/sklearn/neighbors/_lof.py:277: UserWarning: n_neighbors (10) is greater than the total number of samples (7). n_neighbors will be set to (n_samples - 1) for estimation.\n",
      "  % (self.n_neighbors, n_samples))\n",
      "/home/charles/anaconda3/envs/torch/lib/python3.7/site-packages/sklearn/neighbors/_lof.py:277: UserWarning: n_neighbors (10) is greater than the total number of samples (7). n_neighbors will be set to (n_samples - 1) for estimation.\n",
      "  % (self.n_neighbors, n_samples))\n",
      "/home/charles/anaconda3/envs/torch/lib/python3.7/site-packages/sklearn/neighbors/_lof.py:277: UserWarning: n_neighbors (10) is greater than the total number of samples (7). n_neighbors will be set to (n_samples - 1) for estimation.\n",
      "  % (self.n_neighbors, n_samples))\n",
      "/home/charles/anaconda3/envs/torch/lib/python3.7/site-packages/sklearn/neighbors/_lof.py:277: UserWarning: n_neighbors (10) is greater than the total number of samples (7). n_neighbors will be set to (n_samples - 1) for estimation.\n",
      "  % (self.n_neighbors, n_samples))\n",
      "/home/charles/anaconda3/envs/torch/lib/python3.7/site-packages/sklearn/neighbors/_lof.py:277: UserWarning: n_neighbors (10) is greater than the total number of samples (7). n_neighbors will be set to (n_samples - 1) for estimation.\n",
      "  % (self.n_neighbors, n_samples))\n",
      "/home/charles/anaconda3/envs/torch/lib/python3.7/site-packages/sklearn/neighbors/_lof.py:277: UserWarning: n_neighbors (10) is greater than the total number of samples (7). n_neighbors will be set to (n_samples - 1) for estimation.\n",
      "  % (self.n_neighbors, n_samples))\n",
      "/home/charles/anaconda3/envs/torch/lib/python3.7/site-packages/sklearn/neighbors/_lof.py:277: UserWarning: n_neighbors (10) is greater than the total number of samples (7). n_neighbors will be set to (n_samples - 1) for estimation.\n",
      "  % (self.n_neighbors, n_samples))\n",
      "/home/charles/anaconda3/envs/torch/lib/python3.7/site-packages/sklearn/neighbors/_lof.py:277: UserWarning: n_neighbors (10) is greater than the total number of samples (7). n_neighbors will be set to (n_samples - 1) for estimation.\n",
      "  % (self.n_neighbors, n_samples))\n",
      "/home/charles/anaconda3/envs/torch/lib/python3.7/site-packages/sklearn/neighbors/_lof.py:277: UserWarning: n_neighbors (10) is greater than the total number of samples (7). n_neighbors will be set to (n_samples - 1) for estimation.\n",
      "  % (self.n_neighbors, n_samples))\n",
      "/home/charles/anaconda3/envs/torch/lib/python3.7/site-packages/sklearn/neighbors/_lof.py:277: UserWarning: n_neighbors (10) is greater than the total number of samples (7). n_neighbors will be set to (n_samples - 1) for estimation.\n",
      "  % (self.n_neighbors, n_samples))\n",
      "/home/charles/anaconda3/envs/torch/lib/python3.7/site-packages/sklearn/neighbors/_lof.py:277: UserWarning: n_neighbors (10) is greater than the total number of samples (7). n_neighbors will be set to (n_samples - 1) for estimation.\n",
      "  % (self.n_neighbors, n_samples))\n",
      "/home/charles/anaconda3/envs/torch/lib/python3.7/site-packages/sklearn/neighbors/_lof.py:277: UserWarning: n_neighbors (10) is greater than the total number of samples (7). n_neighbors will be set to (n_samples - 1) for estimation.\n",
      "  % (self.n_neighbors, n_samples))\n",
      "/home/charles/anaconda3/envs/torch/lib/python3.7/site-packages/sklearn/neighbors/_lof.py:277: UserWarning: n_neighbors (10) is greater than the total number of samples (7). n_neighbors will be set to (n_samples - 1) for estimation.\n",
      "  % (self.n_neighbors, n_samples))\n",
      "/home/charles/anaconda3/envs/torch/lib/python3.7/site-packages/sklearn/neighbors/_lof.py:277: UserWarning: n_neighbors (10) is greater than the total number of samples (7). n_neighbors will be set to (n_samples - 1) for estimation.\n",
      "  % (self.n_neighbors, n_samples))\n",
      "/home/charles/anaconda3/envs/torch/lib/python3.7/site-packages/sklearn/neighbors/_lof.py:277: UserWarning: n_neighbors (10) is greater than the total number of samples (7). n_neighbors will be set to (n_samples - 1) for estimation.\n",
      "  % (self.n_neighbors, n_samples))\n",
      "/home/charles/anaconda3/envs/torch/lib/python3.7/site-packages/sklearn/neighbors/_lof.py:277: UserWarning: n_neighbors (10) is greater than the total number of samples (7). n_neighbors will be set to (n_samples - 1) for estimation.\n",
      "  % (self.n_neighbors, n_samples))\n",
      "/home/charles/anaconda3/envs/torch/lib/python3.7/site-packages/sklearn/neighbors/_lof.py:277: UserWarning: n_neighbors (10) is greater than the total number of samples (7). n_neighbors will be set to (n_samples - 1) for estimation.\n",
      "  % (self.n_neighbors, n_samples))\n",
      "/home/charles/anaconda3/envs/torch/lib/python3.7/site-packages/sklearn/neighbors/_lof.py:277: UserWarning: n_neighbors (10) is greater than the total number of samples (7). n_neighbors will be set to (n_samples - 1) for estimation.\n",
      "  % (self.n_neighbors, n_samples))\n",
      "/home/charles/anaconda3/envs/torch/lib/python3.7/site-packages/sklearn/neighbors/_lof.py:277: UserWarning: n_neighbors (10) is greater than the total number of samples (7). n_neighbors will be set to (n_samples - 1) for estimation.\n",
      "  % (self.n_neighbors, n_samples))\n",
      "/home/charles/anaconda3/envs/torch/lib/python3.7/site-packages/sklearn/neighbors/_lof.py:277: UserWarning: n_neighbors (10) is greater than the total number of samples (7). n_neighbors will be set to (n_samples - 1) for estimation.\n",
      "  % (self.n_neighbors, n_samples))\n",
      "/home/charles/anaconda3/envs/torch/lib/python3.7/site-packages/sklearn/neighbors/_lof.py:277: UserWarning: n_neighbors (10) is greater than the total number of samples (7). n_neighbors will be set to (n_samples - 1) for estimation.\n",
      "  % (self.n_neighbors, n_samples))\n",
      "/home/charles/anaconda3/envs/torch/lib/python3.7/site-packages/sklearn/neighbors/_lof.py:277: UserWarning: n_neighbors (10) is greater than the total number of samples (7). n_neighbors will be set to (n_samples - 1) for estimation.\n",
      "  % (self.n_neighbors, n_samples))\n",
      "/home/charles/anaconda3/envs/torch/lib/python3.7/site-packages/sklearn/neighbors/_lof.py:277: UserWarning: n_neighbors (10) is greater than the total number of samples (7). n_neighbors will be set to (n_samples - 1) for estimation.\n",
      "  % (self.n_neighbors, n_samples))\n",
      "/home/charles/anaconda3/envs/torch/lib/python3.7/site-packages/sklearn/neighbors/_lof.py:277: UserWarning: n_neighbors (10) is greater than the total number of samples (7). n_neighbors will be set to (n_samples - 1) for estimation.\n",
      "  % (self.n_neighbors, n_samples))\n",
      "/home/charles/anaconda3/envs/torch/lib/python3.7/site-packages/sklearn/neighbors/_lof.py:277: UserWarning: n_neighbors (10) is greater than the total number of samples (7). n_neighbors will be set to (n_samples - 1) for estimation.\n",
      "  % (self.n_neighbors, n_samples))\n",
      "/home/charles/anaconda3/envs/torch/lib/python3.7/site-packages/sklearn/neighbors/_lof.py:277: UserWarning: n_neighbors (10) is greater than the total number of samples (7). n_neighbors will be set to (n_samples - 1) for estimation.\n",
      "  % (self.n_neighbors, n_samples))\n",
      "/home/charles/anaconda3/envs/torch/lib/python3.7/site-packages/sklearn/neighbors/_lof.py:277: UserWarning: n_neighbors (10) is greater than the total number of samples (7). n_neighbors will be set to (n_samples - 1) for estimation.\n",
      "  % (self.n_neighbors, n_samples))\n",
      "/home/charles/anaconda3/envs/torch/lib/python3.7/site-packages/sklearn/neighbors/_lof.py:277: UserWarning: n_neighbors (10) is greater than the total number of samples (7). n_neighbors will be set to (n_samples - 1) for estimation.\n",
      "  % (self.n_neighbors, n_samples))\n",
      "/home/charles/anaconda3/envs/torch/lib/python3.7/site-packages/sklearn/neighbors/_lof.py:277: UserWarning: n_neighbors (10) is greater than the total number of samples (7). n_neighbors will be set to (n_samples - 1) for estimation.\n",
      "  % (self.n_neighbors, n_samples))\n",
      "/home/charles/anaconda3/envs/torch/lib/python3.7/site-packages/sklearn/neighbors/_lof.py:277: UserWarning: n_neighbors (10) is greater than the total number of samples (7). n_neighbors will be set to (n_samples - 1) for estimation.\n",
      "  % (self.n_neighbors, n_samples))\n",
      "/home/charles/anaconda3/envs/torch/lib/python3.7/site-packages/sklearn/neighbors/_lof.py:277: UserWarning: n_neighbors (10) is greater than the total number of samples (7). n_neighbors will be set to (n_samples - 1) for estimation.\n",
      "  % (self.n_neighbors, n_samples))\n",
      "/home/charles/anaconda3/envs/torch/lib/python3.7/site-packages/sklearn/neighbors/_lof.py:277: UserWarning: n_neighbors (10) is greater than the total number of samples (7). n_neighbors will be set to (n_samples - 1) for estimation.\n",
      "  % (self.n_neighbors, n_samples))\n",
      "/home/charles/anaconda3/envs/torch/lib/python3.7/site-packages/sklearn/neighbors/_lof.py:277: UserWarning: n_neighbors (10) is greater than the total number of samples (7). n_neighbors will be set to (n_samples - 1) for estimation.\n",
      "  % (self.n_neighbors, n_samples))\n",
      "/home/charles/anaconda3/envs/torch/lib/python3.7/site-packages/sklearn/neighbors/_lof.py:277: UserWarning: n_neighbors (10) is greater than the total number of samples (7). n_neighbors will be set to (n_samples - 1) for estimation.\n",
      "  % (self.n_neighbors, n_samples))\n",
      "/home/charles/anaconda3/envs/torch/lib/python3.7/site-packages/sklearn/neighbors/_lof.py:277: UserWarning: n_neighbors (10) is greater than the total number of samples (7). n_neighbors will be set to (n_samples - 1) for estimation.\n",
      "  % (self.n_neighbors, n_samples))\n",
      "/home/charles/anaconda3/envs/torch/lib/python3.7/site-packages/sklearn/neighbors/_lof.py:277: UserWarning: n_neighbors (10) is greater than the total number of samples (7). n_neighbors will be set to (n_samples - 1) for estimation.\n",
      "  % (self.n_neighbors, n_samples))\n",
      "/home/charles/anaconda3/envs/torch/lib/python3.7/site-packages/sklearn/neighbors/_lof.py:277: UserWarning: n_neighbors (10) is greater than the total number of samples (7). n_neighbors will be set to (n_samples - 1) for estimation.\n",
      "  % (self.n_neighbors, n_samples))\n",
      "/home/charles/anaconda3/envs/torch/lib/python3.7/site-packages/sklearn/neighbors/_lof.py:277: UserWarning: n_neighbors (10) is greater than the total number of samples (7). n_neighbors will be set to (n_samples - 1) for estimation.\n",
      "  % (self.n_neighbors, n_samples))\n",
      "/home/charles/anaconda3/envs/torch/lib/python3.7/site-packages/sklearn/neighbors/_lof.py:277: UserWarning: n_neighbors (10) is greater than the total number of samples (7). n_neighbors will be set to (n_samples - 1) for estimation.\n",
      "  % (self.n_neighbors, n_samples))\n",
      "/home/charles/anaconda3/envs/torch/lib/python3.7/site-packages/sklearn/neighbors/_lof.py:277: UserWarning: n_neighbors (10) is greater than the total number of samples (7). n_neighbors will be set to (n_samples - 1) for estimation.\n",
      "  % (self.n_neighbors, n_samples))\n",
      "/home/charles/anaconda3/envs/torch/lib/python3.7/site-packages/sklearn/neighbors/_lof.py:277: UserWarning: n_neighbors (10) is greater than the total number of samples (7). n_neighbors will be set to (n_samples - 1) for estimation.\n",
      "  % (self.n_neighbors, n_samples))\n",
      "/home/charles/anaconda3/envs/torch/lib/python3.7/site-packages/sklearn/neighbors/_lof.py:277: UserWarning: n_neighbors (10) is greater than the total number of samples (7). n_neighbors will be set to (n_samples - 1) for estimation.\n",
      "  % (self.n_neighbors, n_samples))\n",
      "/home/charles/anaconda3/envs/torch/lib/python3.7/site-packages/sklearn/neighbors/_lof.py:277: UserWarning: n_neighbors (10) is greater than the total number of samples (7). n_neighbors will be set to (n_samples - 1) for estimation.\n",
      "  % (self.n_neighbors, n_samples))\n",
      "/home/charles/anaconda3/envs/torch/lib/python3.7/site-packages/sklearn/neighbors/_lof.py:277: UserWarning: n_neighbors (10) is greater than the total number of samples (7). n_neighbors will be set to (n_samples - 1) for estimation.\n",
      "  % (self.n_neighbors, n_samples))\n",
      "/home/charles/anaconda3/envs/torch/lib/python3.7/site-packages/sklearn/neighbors/_lof.py:277: UserWarning: n_neighbors (10) is greater than the total number of samples (7). n_neighbors will be set to (n_samples - 1) for estimation.\n",
      "  % (self.n_neighbors, n_samples))\n",
      "/home/charles/anaconda3/envs/torch/lib/python3.7/site-packages/sklearn/neighbors/_lof.py:277: UserWarning: n_neighbors (10) is greater than the total number of samples (7). n_neighbors will be set to (n_samples - 1) for estimation.\n",
      "  % (self.n_neighbors, n_samples))\n",
      "/home/charles/anaconda3/envs/torch/lib/python3.7/site-packages/sklearn/neighbors/_lof.py:277: UserWarning: n_neighbors (10) is greater than the total number of samples (7). n_neighbors will be set to (n_samples - 1) for estimation.\n",
      "  % (self.n_neighbors, n_samples))\n",
      "/home/charles/anaconda3/envs/torch/lib/python3.7/site-packages/sklearn/neighbors/_lof.py:277: UserWarning: n_neighbors (10) is greater than the total number of samples (7). n_neighbors will be set to (n_samples - 1) for estimation.\n",
      "  % (self.n_neighbors, n_samples))\n",
      "/home/charles/anaconda3/envs/torch/lib/python3.7/site-packages/sklearn/neighbors/_lof.py:277: UserWarning: n_neighbors (10) is greater than the total number of samples (7). n_neighbors will be set to (n_samples - 1) for estimation.\n",
      "  % (self.n_neighbors, n_samples))\n",
      "/home/charles/anaconda3/envs/torch/lib/python3.7/site-packages/sklearn/neighbors/_lof.py:277: UserWarning: n_neighbors (10) is greater than the total number of samples (7). n_neighbors will be set to (n_samples - 1) for estimation.\n",
      "  % (self.n_neighbors, n_samples))\n",
      "/home/charles/anaconda3/envs/torch/lib/python3.7/site-packages/sklearn/neighbors/_lof.py:277: UserWarning: n_neighbors (10) is greater than the total number of samples (7). n_neighbors will be set to (n_samples - 1) for estimation.\n",
      "  % (self.n_neighbors, n_samples))\n",
      "/home/charles/anaconda3/envs/torch/lib/python3.7/site-packages/sklearn/neighbors/_lof.py:277: UserWarning: n_neighbors (10) is greater than the total number of samples (7). n_neighbors will be set to (n_samples - 1) for estimation.\n",
      "  % (self.n_neighbors, n_samples))\n",
      "/home/charles/anaconda3/envs/torch/lib/python3.7/site-packages/sklearn/neighbors/_lof.py:277: UserWarning: n_neighbors (10) is greater than the total number of samples (7). n_neighbors will be set to (n_samples - 1) for estimation.\n",
      "  % (self.n_neighbors, n_samples))\n",
      "/home/charles/anaconda3/envs/torch/lib/python3.7/site-packages/sklearn/neighbors/_lof.py:277: UserWarning: n_neighbors (10) is greater than the total number of samples (7). n_neighbors will be set to (n_samples - 1) for estimation.\n",
      "  % (self.n_neighbors, n_samples))\n",
      "/home/charles/anaconda3/envs/torch/lib/python3.7/site-packages/sklearn/neighbors/_lof.py:277: UserWarning: n_neighbors (10) is greater than the total number of samples (7). n_neighbors will be set to (n_samples - 1) for estimation.\n",
      "  % (self.n_neighbors, n_samples))\n",
      "/home/charles/anaconda3/envs/torch/lib/python3.7/site-packages/sklearn/neighbors/_lof.py:277: UserWarning: n_neighbors (10) is greater than the total number of samples (7). n_neighbors will be set to (n_samples - 1) for estimation.\n",
      "  % (self.n_neighbors, n_samples))\n",
      "/home/charles/anaconda3/envs/torch/lib/python3.7/site-packages/sklearn/neighbors/_lof.py:277: UserWarning: n_neighbors (10) is greater than the total number of samples (7). n_neighbors will be set to (n_samples - 1) for estimation.\n",
      "  % (self.n_neighbors, n_samples))\n",
      "/home/charles/anaconda3/envs/torch/lib/python3.7/site-packages/sklearn/neighbors/_lof.py:277: UserWarning: n_neighbors (10) is greater than the total number of samples (7). n_neighbors will be set to (n_samples - 1) for estimation.\n",
      "  % (self.n_neighbors, n_samples))\n",
      "/home/charles/anaconda3/envs/torch/lib/python3.7/site-packages/sklearn/neighbors/_lof.py:277: UserWarning: n_neighbors (10) is greater than the total number of samples (7). n_neighbors will be set to (n_samples - 1) for estimation.\n",
      "  % (self.n_neighbors, n_samples))\n",
      "/home/charles/anaconda3/envs/torch/lib/python3.7/site-packages/sklearn/neighbors/_lof.py:277: UserWarning: n_neighbors (10) is greater than the total number of samples (7). n_neighbors will be set to (n_samples - 1) for estimation.\n",
      "  % (self.n_neighbors, n_samples))\n",
      "/home/charles/anaconda3/envs/torch/lib/python3.7/site-packages/sklearn/neighbors/_lof.py:277: UserWarning: n_neighbors (10) is greater than the total number of samples (7). n_neighbors will be set to (n_samples - 1) for estimation.\n",
      "  % (self.n_neighbors, n_samples))\n",
      "/home/charles/anaconda3/envs/torch/lib/python3.7/site-packages/sklearn/neighbors/_lof.py:277: UserWarning: n_neighbors (10) is greater than the total number of samples (7). n_neighbors will be set to (n_samples - 1) for estimation.\n",
      "  % (self.n_neighbors, n_samples))\n",
      "/home/charles/anaconda3/envs/torch/lib/python3.7/site-packages/sklearn/neighbors/_lof.py:277: UserWarning: n_neighbors (10) is greater than the total number of samples (7). n_neighbors will be set to (n_samples - 1) for estimation.\n",
      "  % (self.n_neighbors, n_samples))\n",
      "/home/charles/anaconda3/envs/torch/lib/python3.7/site-packages/sklearn/neighbors/_lof.py:277: UserWarning: n_neighbors (10) is greater than the total number of samples (7). n_neighbors will be set to (n_samples - 1) for estimation.\n",
      "  % (self.n_neighbors, n_samples))\n",
      "/home/charles/anaconda3/envs/torch/lib/python3.7/site-packages/sklearn/neighbors/_lof.py:277: UserWarning: n_neighbors (10) is greater than the total number of samples (7). n_neighbors will be set to (n_samples - 1) for estimation.\n",
      "  % (self.n_neighbors, n_samples))\n",
      "/home/charles/anaconda3/envs/torch/lib/python3.7/site-packages/sklearn/neighbors/_lof.py:277: UserWarning: n_neighbors (10) is greater than the total number of samples (7). n_neighbors will be set to (n_samples - 1) for estimation.\n",
      "  % (self.n_neighbors, n_samples))\n",
      "/home/charles/anaconda3/envs/torch/lib/python3.7/site-packages/sklearn/neighbors/_lof.py:277: UserWarning: n_neighbors (10) is greater than the total number of samples (7). n_neighbors will be set to (n_samples - 1) for estimation.\n",
      "  % (self.n_neighbors, n_samples))\n",
      "/home/charles/anaconda3/envs/torch/lib/python3.7/site-packages/sklearn/neighbors/_lof.py:277: UserWarning: n_neighbors (10) is greater than the total number of samples (7). n_neighbors will be set to (n_samples - 1) for estimation.\n",
      "  % (self.n_neighbors, n_samples))\n",
      "/home/charles/anaconda3/envs/torch/lib/python3.7/site-packages/sklearn/neighbors/_lof.py:277: UserWarning: n_neighbors (10) is greater than the total number of samples (7). n_neighbors will be set to (n_samples - 1) for estimation.\n",
      "  % (self.n_neighbors, n_samples))\n",
      "/home/charles/anaconda3/envs/torch/lib/python3.7/site-packages/sklearn/neighbors/_lof.py:277: UserWarning: n_neighbors (10) is greater than the total number of samples (7). n_neighbors will be set to (n_samples - 1) for estimation.\n",
      "  % (self.n_neighbors, n_samples))\n",
      "/home/charles/anaconda3/envs/torch/lib/python3.7/site-packages/sklearn/neighbors/_lof.py:277: UserWarning: n_neighbors (10) is greater than the total number of samples (7). n_neighbors will be set to (n_samples - 1) for estimation.\n",
      "  % (self.n_neighbors, n_samples))\n",
      "/home/charles/anaconda3/envs/torch/lib/python3.7/site-packages/sklearn/neighbors/_lof.py:277: UserWarning: n_neighbors (10) is greater than the total number of samples (7). n_neighbors will be set to (n_samples - 1) for estimation.\n",
      "  % (self.n_neighbors, n_samples))\n",
      "/home/charles/anaconda3/envs/torch/lib/python3.7/site-packages/sklearn/neighbors/_lof.py:277: UserWarning: n_neighbors (10) is greater than the total number of samples (7). n_neighbors will be set to (n_samples - 1) for estimation.\n",
      "  % (self.n_neighbors, n_samples))\n",
      "/home/charles/anaconda3/envs/torch/lib/python3.7/site-packages/sklearn/neighbors/_lof.py:277: UserWarning: n_neighbors (10) is greater than the total number of samples (7). n_neighbors will be set to (n_samples - 1) for estimation.\n",
      "  % (self.n_neighbors, n_samples))\n",
      "/home/charles/anaconda3/envs/torch/lib/python3.7/site-packages/sklearn/neighbors/_lof.py:277: UserWarning: n_neighbors (10) is greater than the total number of samples (7). n_neighbors will be set to (n_samples - 1) for estimation.\n",
      "  % (self.n_neighbors, n_samples))\n",
      "/home/charles/anaconda3/envs/torch/lib/python3.7/site-packages/sklearn/neighbors/_lof.py:277: UserWarning: n_neighbors (10) is greater than the total number of samples (7). n_neighbors will be set to (n_samples - 1) for estimation.\n",
      "  % (self.n_neighbors, n_samples))\n",
      "/home/charles/anaconda3/envs/torch/lib/python3.7/site-packages/sklearn/neighbors/_lof.py:277: UserWarning: n_neighbors (10) is greater than the total number of samples (7). n_neighbors will be set to (n_samples - 1) for estimation.\n",
      "  % (self.n_neighbors, n_samples))\n",
      "/home/charles/anaconda3/envs/torch/lib/python3.7/site-packages/sklearn/neighbors/_lof.py:277: UserWarning: n_neighbors (10) is greater than the total number of samples (7). n_neighbors will be set to (n_samples - 1) for estimation.\n",
      "  % (self.n_neighbors, n_samples))\n",
      "/home/charles/anaconda3/envs/torch/lib/python3.7/site-packages/sklearn/neighbors/_lof.py:277: UserWarning: n_neighbors (10) is greater than the total number of samples (7). n_neighbors will be set to (n_samples - 1) for estimation.\n",
      "  % (self.n_neighbors, n_samples))\n",
      "/home/charles/anaconda3/envs/torch/lib/python3.7/site-packages/sklearn/neighbors/_lof.py:277: UserWarning: n_neighbors (10) is greater than the total number of samples (7). n_neighbors will be set to (n_samples - 1) for estimation.\n",
      "  % (self.n_neighbors, n_samples))\n",
      "/home/charles/anaconda3/envs/torch/lib/python3.7/site-packages/sklearn/neighbors/_lof.py:277: UserWarning: n_neighbors (10) is greater than the total number of samples (7). n_neighbors will be set to (n_samples - 1) for estimation.\n",
      "  % (self.n_neighbors, n_samples))\n",
      "/home/charles/anaconda3/envs/torch/lib/python3.7/site-packages/sklearn/neighbors/_lof.py:277: UserWarning: n_neighbors (10) is greater than the total number of samples (7). n_neighbors will be set to (n_samples - 1) for estimation.\n",
      "  % (self.n_neighbors, n_samples))\n",
      "/home/charles/anaconda3/envs/torch/lib/python3.7/site-packages/sklearn/neighbors/_lof.py:277: UserWarning: n_neighbors (10) is greater than the total number of samples (7). n_neighbors will be set to (n_samples - 1) for estimation.\n",
      "  % (self.n_neighbors, n_samples))\n",
      "/home/charles/anaconda3/envs/torch/lib/python3.7/site-packages/sklearn/neighbors/_lof.py:277: UserWarning: n_neighbors (10) is greater than the total number of samples (7). n_neighbors will be set to (n_samples - 1) for estimation.\n",
      "  % (self.n_neighbors, n_samples))\n",
      "/home/charles/anaconda3/envs/torch/lib/python3.7/site-packages/sklearn/neighbors/_lof.py:277: UserWarning: n_neighbors (10) is greater than the total number of samples (7). n_neighbors will be set to (n_samples - 1) for estimation.\n",
      "  % (self.n_neighbors, n_samples))\n",
      "/home/charles/anaconda3/envs/torch/lib/python3.7/site-packages/sklearn/neighbors/_lof.py:277: UserWarning: n_neighbors (10) is greater than the total number of samples (7). n_neighbors will be set to (n_samples - 1) for estimation.\n",
      "  % (self.n_neighbors, n_samples))\n",
      "/home/charles/anaconda3/envs/torch/lib/python3.7/site-packages/sklearn/neighbors/_lof.py:277: UserWarning: n_neighbors (10) is greater than the total number of samples (7). n_neighbors will be set to (n_samples - 1) for estimation.\n",
      "  % (self.n_neighbors, n_samples))\n",
      "/home/charles/anaconda3/envs/torch/lib/python3.7/site-packages/sklearn/neighbors/_lof.py:277: UserWarning: n_neighbors (10) is greater than the total number of samples (7). n_neighbors will be set to (n_samples - 1) for estimation.\n",
      "  % (self.n_neighbors, n_samples))\n",
      "/home/charles/anaconda3/envs/torch/lib/python3.7/site-packages/sklearn/neighbors/_lof.py:277: UserWarning: n_neighbors (10) is greater than the total number of samples (7). n_neighbors will be set to (n_samples - 1) for estimation.\n",
      "  % (self.n_neighbors, n_samples))\n",
      "/home/charles/anaconda3/envs/torch/lib/python3.7/site-packages/sklearn/neighbors/_lof.py:277: UserWarning: n_neighbors (10) is greater than the total number of samples (7). n_neighbors will be set to (n_samples - 1) for estimation.\n",
      "  % (self.n_neighbors, n_samples))\n",
      "/home/charles/anaconda3/envs/torch/lib/python3.7/site-packages/sklearn/neighbors/_lof.py:277: UserWarning: n_neighbors (10) is greater than the total number of samples (7). n_neighbors will be set to (n_samples - 1) for estimation.\n",
      "  % (self.n_neighbors, n_samples))\n",
      "/home/charles/anaconda3/envs/torch/lib/python3.7/site-packages/sklearn/neighbors/_lof.py:277: UserWarning: n_neighbors (10) is greater than the total number of samples (7). n_neighbors will be set to (n_samples - 1) for estimation.\n",
      "  % (self.n_neighbors, n_samples))\n",
      "/home/charles/anaconda3/envs/torch/lib/python3.7/site-packages/sklearn/neighbors/_lof.py:277: UserWarning: n_neighbors (10) is greater than the total number of samples (7). n_neighbors will be set to (n_samples - 1) for estimation.\n",
      "  % (self.n_neighbors, n_samples))\n",
      "/home/charles/anaconda3/envs/torch/lib/python3.7/site-packages/sklearn/neighbors/_lof.py:277: UserWarning: n_neighbors (10) is greater than the total number of samples (7). n_neighbors will be set to (n_samples - 1) for estimation.\n",
      "  % (self.n_neighbors, n_samples))\n",
      "/home/charles/anaconda3/envs/torch/lib/python3.7/site-packages/sklearn/neighbors/_lof.py:277: UserWarning: n_neighbors (10) is greater than the total number of samples (7). n_neighbors will be set to (n_samples - 1) for estimation.\n",
      "  % (self.n_neighbors, n_samples))\n",
      "/home/charles/anaconda3/envs/torch/lib/python3.7/site-packages/sklearn/neighbors/_lof.py:277: UserWarning: n_neighbors (10) is greater than the total number of samples (7). n_neighbors will be set to (n_samples - 1) for estimation.\n",
      "  % (self.n_neighbors, n_samples))\n",
      "/home/charles/anaconda3/envs/torch/lib/python3.7/site-packages/sklearn/neighbors/_lof.py:277: UserWarning: n_neighbors (10) is greater than the total number of samples (7). n_neighbors will be set to (n_samples - 1) for estimation.\n",
      "  % (self.n_neighbors, n_samples))\n",
      "/home/charles/anaconda3/envs/torch/lib/python3.7/site-packages/sklearn/neighbors/_lof.py:277: UserWarning: n_neighbors (10) is greater than the total number of samples (7). n_neighbors will be set to (n_samples - 1) for estimation.\n",
      "  % (self.n_neighbors, n_samples))\n",
      "/home/charles/anaconda3/envs/torch/lib/python3.7/site-packages/sklearn/neighbors/_lof.py:277: UserWarning: n_neighbors (10) is greater than the total number of samples (7). n_neighbors will be set to (n_samples - 1) for estimation.\n",
      "  % (self.n_neighbors, n_samples))\n",
      "/home/charles/anaconda3/envs/torch/lib/python3.7/site-packages/sklearn/neighbors/_lof.py:277: UserWarning: n_neighbors (10) is greater than the total number of samples (7). n_neighbors will be set to (n_samples - 1) for estimation.\n",
      "  % (self.n_neighbors, n_samples))\n",
      "/home/charles/anaconda3/envs/torch/lib/python3.7/site-packages/sklearn/neighbors/_lof.py:277: UserWarning: n_neighbors (10) is greater than the total number of samples (7). n_neighbors will be set to (n_samples - 1) for estimation.\n",
      "  % (self.n_neighbors, n_samples))\n",
      "/home/charles/anaconda3/envs/torch/lib/python3.7/site-packages/sklearn/neighbors/_lof.py:277: UserWarning: n_neighbors (10) is greater than the total number of samples (7). n_neighbors will be set to (n_samples - 1) for estimation.\n",
      "  % (self.n_neighbors, n_samples))\n",
      "/home/charles/anaconda3/envs/torch/lib/python3.7/site-packages/sklearn/neighbors/_lof.py:277: UserWarning: n_neighbors (10) is greater than the total number of samples (7). n_neighbors will be set to (n_samples - 1) for estimation.\n",
      "  % (self.n_neighbors, n_samples))\n",
      "/home/charles/anaconda3/envs/torch/lib/python3.7/site-packages/sklearn/neighbors/_lof.py:277: UserWarning: n_neighbors (10) is greater than the total number of samples (7). n_neighbors will be set to (n_samples - 1) for estimation.\n",
      "  % (self.n_neighbors, n_samples))\n",
      "/home/charles/anaconda3/envs/torch/lib/python3.7/site-packages/sklearn/neighbors/_lof.py:277: UserWarning: n_neighbors (10) is greater than the total number of samples (7). n_neighbors will be set to (n_samples - 1) for estimation.\n",
      "  % (self.n_neighbors, n_samples))\n",
      "/home/charles/anaconda3/envs/torch/lib/python3.7/site-packages/sklearn/neighbors/_lof.py:277: UserWarning: n_neighbors (10) is greater than the total number of samples (7). n_neighbors will be set to (n_samples - 1) for estimation.\n",
      "  % (self.n_neighbors, n_samples))\n",
      "/home/charles/anaconda3/envs/torch/lib/python3.7/site-packages/sklearn/neighbors/_lof.py:277: UserWarning: n_neighbors (10) is greater than the total number of samples (7). n_neighbors will be set to (n_samples - 1) for estimation.\n",
      "  % (self.n_neighbors, n_samples))\n",
      "/home/charles/anaconda3/envs/torch/lib/python3.7/site-packages/sklearn/neighbors/_lof.py:277: UserWarning: n_neighbors (10) is greater than the total number of samples (7). n_neighbors will be set to (n_samples - 1) for estimation.\n",
      "  % (self.n_neighbors, n_samples))\n",
      "/home/charles/anaconda3/envs/torch/lib/python3.7/site-packages/sklearn/neighbors/_lof.py:277: UserWarning: n_neighbors (10) is greater than the total number of samples (7). n_neighbors will be set to (n_samples - 1) for estimation.\n",
      "  % (self.n_neighbors, n_samples))\n",
      "/home/charles/anaconda3/envs/torch/lib/python3.7/site-packages/sklearn/neighbors/_lof.py:277: UserWarning: n_neighbors (10) is greater than the total number of samples (7). n_neighbors will be set to (n_samples - 1) for estimation.\n",
      "  % (self.n_neighbors, n_samples))\n",
      "/home/charles/anaconda3/envs/torch/lib/python3.7/site-packages/sklearn/neighbors/_lof.py:277: UserWarning: n_neighbors (10) is greater than the total number of samples (7). n_neighbors will be set to (n_samples - 1) for estimation.\n",
      "  % (self.n_neighbors, n_samples))\n",
      "/home/charles/anaconda3/envs/torch/lib/python3.7/site-packages/sklearn/neighbors/_lof.py:277: UserWarning: n_neighbors (10) is greater than the total number of samples (7). n_neighbors will be set to (n_samples - 1) for estimation.\n",
      "  % (self.n_neighbors, n_samples))\n",
      "/home/charles/anaconda3/envs/torch/lib/python3.7/site-packages/sklearn/neighbors/_lof.py:277: UserWarning: n_neighbors (10) is greater than the total number of samples (7). n_neighbors will be set to (n_samples - 1) for estimation.\n",
      "  % (self.n_neighbors, n_samples))\n",
      "/home/charles/anaconda3/envs/torch/lib/python3.7/site-packages/sklearn/neighbors/_lof.py:277: UserWarning: n_neighbors (10) is greater than the total number of samples (7). n_neighbors will be set to (n_samples - 1) for estimation.\n",
      "  % (self.n_neighbors, n_samples))\n",
      "/home/charles/anaconda3/envs/torch/lib/python3.7/site-packages/sklearn/neighbors/_lof.py:277: UserWarning: n_neighbors (10) is greater than the total number of samples (7). n_neighbors will be set to (n_samples - 1) for estimation.\n",
      "  % (self.n_neighbors, n_samples))\n",
      "/home/charles/anaconda3/envs/torch/lib/python3.7/site-packages/sklearn/neighbors/_lof.py:277: UserWarning: n_neighbors (10) is greater than the total number of samples (7). n_neighbors will be set to (n_samples - 1) for estimation.\n",
      "  % (self.n_neighbors, n_samples))\n",
      "/home/charles/anaconda3/envs/torch/lib/python3.7/site-packages/sklearn/neighbors/_lof.py:277: UserWarning: n_neighbors (10) is greater than the total number of samples (7). n_neighbors will be set to (n_samples - 1) for estimation.\n",
      "  % (self.n_neighbors, n_samples))\n",
      "/home/charles/anaconda3/envs/torch/lib/python3.7/site-packages/sklearn/neighbors/_lof.py:277: UserWarning: n_neighbors (10) is greater than the total number of samples (7). n_neighbors will be set to (n_samples - 1) for estimation.\n",
      "  % (self.n_neighbors, n_samples))\n",
      "/home/charles/anaconda3/envs/torch/lib/python3.7/site-packages/sklearn/neighbors/_lof.py:277: UserWarning: n_neighbors (10) is greater than the total number of samples (7). n_neighbors will be set to (n_samples - 1) for estimation.\n",
      "  % (self.n_neighbors, n_samples))\n",
      "/home/charles/anaconda3/envs/torch/lib/python3.7/site-packages/sklearn/neighbors/_lof.py:277: UserWarning: n_neighbors (10) is greater than the total number of samples (7). n_neighbors will be set to (n_samples - 1) for estimation.\n",
      "  % (self.n_neighbors, n_samples))\n",
      "/home/charles/anaconda3/envs/torch/lib/python3.7/site-packages/sklearn/neighbors/_lof.py:277: UserWarning: n_neighbors (10) is greater than the total number of samples (7). n_neighbors will be set to (n_samples - 1) for estimation.\n",
      "  % (self.n_neighbors, n_samples))\n",
      "/home/charles/anaconda3/envs/torch/lib/python3.7/site-packages/sklearn/neighbors/_lof.py:277: UserWarning: n_neighbors (10) is greater than the total number of samples (7). n_neighbors will be set to (n_samples - 1) for estimation.\n",
      "  % (self.n_neighbors, n_samples))\n",
      "/home/charles/anaconda3/envs/torch/lib/python3.7/site-packages/sklearn/neighbors/_lof.py:277: UserWarning: n_neighbors (10) is greater than the total number of samples (7). n_neighbors will be set to (n_samples - 1) for estimation.\n",
      "  % (self.n_neighbors, n_samples))\n",
      "/home/charles/anaconda3/envs/torch/lib/python3.7/site-packages/sklearn/neighbors/_lof.py:277: UserWarning: n_neighbors (10) is greater than the total number of samples (7). n_neighbors will be set to (n_samples - 1) for estimation.\n",
      "  % (self.n_neighbors, n_samples))\n",
      "/home/charles/anaconda3/envs/torch/lib/python3.7/site-packages/sklearn/neighbors/_lof.py:277: UserWarning: n_neighbors (10) is greater than the total number of samples (7). n_neighbors will be set to (n_samples - 1) for estimation.\n",
      "  % (self.n_neighbors, n_samples))\n",
      "/home/charles/anaconda3/envs/torch/lib/python3.7/site-packages/sklearn/neighbors/_lof.py:277: UserWarning: n_neighbors (10) is greater than the total number of samples (7). n_neighbors will be set to (n_samples - 1) for estimation.\n",
      "  % (self.n_neighbors, n_samples))\n",
      "/home/charles/anaconda3/envs/torch/lib/python3.7/site-packages/sklearn/neighbors/_lof.py:277: UserWarning: n_neighbors (10) is greater than the total number of samples (7). n_neighbors will be set to (n_samples - 1) for estimation.\n",
      "  % (self.n_neighbors, n_samples))\n",
      "/home/charles/anaconda3/envs/torch/lib/python3.7/site-packages/sklearn/neighbors/_lof.py:277: UserWarning: n_neighbors (10) is greater than the total number of samples (7). n_neighbors will be set to (n_samples - 1) for estimation.\n",
      "  % (self.n_neighbors, n_samples))\n",
      "/home/charles/anaconda3/envs/torch/lib/python3.7/site-packages/sklearn/neighbors/_lof.py:277: UserWarning: n_neighbors (10) is greater than the total number of samples (7). n_neighbors will be set to (n_samples - 1) for estimation.\n",
      "  % (self.n_neighbors, n_samples))\n",
      "/home/charles/anaconda3/envs/torch/lib/python3.7/site-packages/sklearn/neighbors/_lof.py:277: UserWarning: n_neighbors (10) is greater than the total number of samples (7). n_neighbors will be set to (n_samples - 1) for estimation.\n",
      "  % (self.n_neighbors, n_samples))\n",
      "/home/charles/anaconda3/envs/torch/lib/python3.7/site-packages/sklearn/neighbors/_lof.py:277: UserWarning: n_neighbors (10) is greater than the total number of samples (7). n_neighbors will be set to (n_samples - 1) for estimation.\n",
      "  % (self.n_neighbors, n_samples))\n",
      "/home/charles/anaconda3/envs/torch/lib/python3.7/site-packages/sklearn/neighbors/_lof.py:277: UserWarning: n_neighbors (10) is greater than the total number of samples (7). n_neighbors will be set to (n_samples - 1) for estimation.\n",
      "  % (self.n_neighbors, n_samples))\n",
      "/home/charles/anaconda3/envs/torch/lib/python3.7/site-packages/sklearn/neighbors/_lof.py:277: UserWarning: n_neighbors (10) is greater than the total number of samples (7). n_neighbors will be set to (n_samples - 1) for estimation.\n",
      "  % (self.n_neighbors, n_samples))\n",
      "/home/charles/anaconda3/envs/torch/lib/python3.7/site-packages/sklearn/neighbors/_lof.py:277: UserWarning: n_neighbors (10) is greater than the total number of samples (7). n_neighbors will be set to (n_samples - 1) for estimation.\n",
      "  % (self.n_neighbors, n_samples))\n",
      "/home/charles/anaconda3/envs/torch/lib/python3.7/site-packages/sklearn/neighbors/_lof.py:277: UserWarning: n_neighbors (10) is greater than the total number of samples (7). n_neighbors will be set to (n_samples - 1) for estimation.\n",
      "  % (self.n_neighbors, n_samples))\n",
      "/home/charles/anaconda3/envs/torch/lib/python3.7/site-packages/sklearn/neighbors/_lof.py:277: UserWarning: n_neighbors (10) is greater than the total number of samples (7). n_neighbors will be set to (n_samples - 1) for estimation.\n",
      "  % (self.n_neighbors, n_samples))\n",
      "/home/charles/anaconda3/envs/torch/lib/python3.7/site-packages/sklearn/neighbors/_lof.py:277: UserWarning: n_neighbors (10) is greater than the total number of samples (7). n_neighbors will be set to (n_samples - 1) for estimation.\n",
      "  % (self.n_neighbors, n_samples))\n",
      "/home/charles/anaconda3/envs/torch/lib/python3.7/site-packages/sklearn/neighbors/_lof.py:277: UserWarning: n_neighbors (10) is greater than the total number of samples (7). n_neighbors will be set to (n_samples - 1) for estimation.\n",
      "  % (self.n_neighbors, n_samples))\n",
      "/home/charles/anaconda3/envs/torch/lib/python3.7/site-packages/sklearn/neighbors/_lof.py:277: UserWarning: n_neighbors (10) is greater than the total number of samples (7). n_neighbors will be set to (n_samples - 1) for estimation.\n",
      "  % (self.n_neighbors, n_samples))\n",
      "/home/charles/anaconda3/envs/torch/lib/python3.7/site-packages/sklearn/neighbors/_lof.py:277: UserWarning: n_neighbors (10) is greater than the total number of samples (7). n_neighbors will be set to (n_samples - 1) for estimation.\n",
      "  % (self.n_neighbors, n_samples))\n",
      "/home/charles/anaconda3/envs/torch/lib/python3.7/site-packages/sklearn/neighbors/_lof.py:277: UserWarning: n_neighbors (10) is greater than the total number of samples (7). n_neighbors will be set to (n_samples - 1) for estimation.\n",
      "  % (self.n_neighbors, n_samples))\n",
      "/home/charles/anaconda3/envs/torch/lib/python3.7/site-packages/sklearn/neighbors/_lof.py:277: UserWarning: n_neighbors (10) is greater than the total number of samples (7). n_neighbors will be set to (n_samples - 1) for estimation.\n",
      "  % (self.n_neighbors, n_samples))\n",
      "/home/charles/anaconda3/envs/torch/lib/python3.7/site-packages/sklearn/neighbors/_lof.py:277: UserWarning: n_neighbors (10) is greater than the total number of samples (7). n_neighbors will be set to (n_samples - 1) for estimation.\n",
      "  % (self.n_neighbors, n_samples))\n",
      "/home/charles/anaconda3/envs/torch/lib/python3.7/site-packages/sklearn/neighbors/_lof.py:277: UserWarning: n_neighbors (10) is greater than the total number of samples (7). n_neighbors will be set to (n_samples - 1) for estimation.\n",
      "  % (self.n_neighbors, n_samples))\n",
      "/home/charles/anaconda3/envs/torch/lib/python3.7/site-packages/sklearn/neighbors/_lof.py:277: UserWarning: n_neighbors (10) is greater than the total number of samples (7). n_neighbors will be set to (n_samples - 1) for estimation.\n",
      "  % (self.n_neighbors, n_samples))\n",
      "/home/charles/anaconda3/envs/torch/lib/python3.7/site-packages/sklearn/neighbors/_lof.py:277: UserWarning: n_neighbors (10) is greater than the total number of samples (7). n_neighbors will be set to (n_samples - 1) for estimation.\n",
      "  % (self.n_neighbors, n_samples))\n",
      "/home/charles/anaconda3/envs/torch/lib/python3.7/site-packages/sklearn/neighbors/_lof.py:277: UserWarning: n_neighbors (10) is greater than the total number of samples (7). n_neighbors will be set to (n_samples - 1) for estimation.\n",
      "  % (self.n_neighbors, n_samples))\n",
      "/home/charles/anaconda3/envs/torch/lib/python3.7/site-packages/sklearn/neighbors/_lof.py:277: UserWarning: n_neighbors (10) is greater than the total number of samples (7). n_neighbors will be set to (n_samples - 1) for estimation.\n",
      "  % (self.n_neighbors, n_samples))\n"
     ]
    }
   ],
   "source": [
    "\n",
    "df_combined = remove_outliers_to_combine_tracks(all_dfs)"
   ]
  },
  {
   "cell_type": "code",
   "execution_count": 14,
   "id": "30d5a13a-0fc3-446b-9d02-ffc729bf0680",
   "metadata": {},
   "outputs": [
    {
     "name": "stderr",
     "output_type": "stream",
     "text": [
      "WARNING:root:Did not find file /scratch/zimmer/Charles/dlc_stacks/worm3-ns-random_templates/4-traces/reindexed_masks.zarr\n",
      "WARNING:root:Overwriting existing file\n"
     ]
    },
    {
     "name": "stdout",
     "output_type": "stream",
     "text": [
      "=======================================\n",
      "Project data for directory:\n",
      "/scratch/zimmer/Charles/dlc_stacks/worm3-ns-random_templates \n",
      "=======================================\n",
      "Found the following raw data files:\n",
      "red_data: True\n",
      "green_data: True\n",
      "============Segmentation===============\n",
      "raw_segmentation: True\n",
      "segmentation: False\n",
      "============Tracklets==================\n",
      "df_training_tracklets: True\n",
      "reindexed_masks_training: True\n",
      "============Traces=====================\n",
      "red_traces: False\n",
      "green_traces: False\n",
      "final_tracks: False\n",
      "behavior_annotations: True\n",
      "\n"
     ]
    }
   ],
   "source": [
    "import os\n",
    "from pathlib import Path\n",
    "from DLC_for_WBFM.utils.xinwei_fdnc.predict import _save_final_tracks\n",
    "\n",
    "fname = \"/scratch/zimmer/Charles/dlc_stacks/worm3-ns-random_templates/project_config.yaml\"\n",
    "project_data = ProjectData.load_final_project_data_from_config(fname)\n",
    "\n",
    "project_cfg = project_data.project_config\n",
    "tracks_cfg = project_cfg.get_tracking_config()\n",
    "\n",
    "df_fname = Path(os.path.join(project_cfg.project_dir, tracks_cfg.config['leifer_params']['output_df_fname']))\n",
    "_save_final_tracks(df_combined, tracks_cfg, df_fname)"
   ]
  },
  {
   "cell_type": "code",
   "execution_count": 15,
   "id": "a973521a-e42c-417a-b24a-05b53187b6c1",
   "metadata": {},
   "outputs": [
    {
     "data": {
      "text/plain": [
       "PosixPath('/scratch/zimmer/Charles/dlc_stacks/worm3-ns-random_templates/3-tracking/postprocessing/leifer_tracks.h5')"
      ]
     },
     "execution_count": 15,
     "metadata": {},
     "output_type": "execute_result"
    }
   ],
   "source": [
    "df_fname"
   ]
  },
  {
   "cell_type": "code",
   "execution_count": 16,
   "id": "d7ed90cd-8c45-4bcd-847e-f71bad147c30",
   "metadata": {},
   "outputs": [
    {
     "data": {
      "text/html": [
       "<div>\n",
       "<style scoped>\n",
       "    .dataframe tbody tr th:only-of-type {\n",
       "        vertical-align: middle;\n",
       "    }\n",
       "\n",
       "    .dataframe tbody tr th {\n",
       "        vertical-align: top;\n",
       "    }\n",
       "\n",
       "    .dataframe thead tr th {\n",
       "        text-align: left;\n",
       "    }\n",
       "</style>\n",
       "<table border=\"1\" class=\"dataframe\">\n",
       "  <thead>\n",
       "    <tr>\n",
       "      <th></th>\n",
       "      <th colspan=\"4\" halign=\"left\">neuron_002</th>\n",
       "      <th colspan=\"4\" halign=\"left\">neuron_003</th>\n",
       "      <th colspan=\"2\" halign=\"left\">neuron_004</th>\n",
       "      <th>...</th>\n",
       "      <th colspan=\"2\" halign=\"left\">neuron_167</th>\n",
       "      <th colspan=\"4\" halign=\"left\">neuron_168</th>\n",
       "      <th colspan=\"4\" halign=\"left\">neuron_170</th>\n",
       "    </tr>\n",
       "    <tr>\n",
       "      <th></th>\n",
       "      <th>z</th>\n",
       "      <th>x</th>\n",
       "      <th>y</th>\n",
       "      <th>likelihood</th>\n",
       "      <th>z</th>\n",
       "      <th>x</th>\n",
       "      <th>y</th>\n",
       "      <th>likelihood</th>\n",
       "      <th>z</th>\n",
       "      <th>x</th>\n",
       "      <th>...</th>\n",
       "      <th>y</th>\n",
       "      <th>likelihood</th>\n",
       "      <th>z</th>\n",
       "      <th>x</th>\n",
       "      <th>y</th>\n",
       "      <th>likelihood</th>\n",
       "      <th>z</th>\n",
       "      <th>x</th>\n",
       "      <th>y</th>\n",
       "      <th>likelihood</th>\n",
       "    </tr>\n",
       "  </thead>\n",
       "  <tbody>\n",
       "    <tr>\n",
       "      <th>0</th>\n",
       "      <td>6.471824</td>\n",
       "      <td>305.497505</td>\n",
       "      <td>419.991735</td>\n",
       "      <td>0.878358</td>\n",
       "      <td>6.213212</td>\n",
       "      <td>305.099868</td>\n",
       "      <td>419.819037</td>\n",
       "      <td>0.769589</td>\n",
       "      <td>5.919751</td>\n",
       "      <td>309.820815</td>\n",
       "      <td>...</td>\n",
       "      <td>264.658149</td>\n",
       "      <td>0.490553</td>\n",
       "      <td>11.080535</td>\n",
       "      <td>120.335012</td>\n",
       "      <td>161.248138</td>\n",
       "      <td>0.413209</td>\n",
       "      <td>17.562314</td>\n",
       "      <td>206.015866</td>\n",
       "      <td>279.108327</td>\n",
       "      <td>0.701520</td>\n",
       "    </tr>\n",
       "    <tr>\n",
       "      <th>1</th>\n",
       "      <td>3.033243</td>\n",
       "      <td>156.455905</td>\n",
       "      <td>217.566560</td>\n",
       "      <td>0.429438</td>\n",
       "      <td>5.558560</td>\n",
       "      <td>285.946536</td>\n",
       "      <td>404.252013</td>\n",
       "      <td>0.765268</td>\n",
       "      <td>4.977237</td>\n",
       "      <td>285.633589</td>\n",
       "      <td>...</td>\n",
       "      <td>232.086336</td>\n",
       "      <td>0.370846</td>\n",
       "      <td>6.606507</td>\n",
       "      <td>64.171740</td>\n",
       "      <td>93.851842</td>\n",
       "      <td>0.226268</td>\n",
       "      <td>20.588569</td>\n",
       "      <td>217.430234</td>\n",
       "      <td>325.108689</td>\n",
       "      <td>0.712172</td>\n",
       "    </tr>\n",
       "    <tr>\n",
       "      <th>2</th>\n",
       "      <td>2.898961</td>\n",
       "      <td>124.213045</td>\n",
       "      <td>177.450495</td>\n",
       "      <td>0.308128</td>\n",
       "      <td>5.940452</td>\n",
       "      <td>279.976866</td>\n",
       "      <td>400.256866</td>\n",
       "      <td>0.606069</td>\n",
       "      <td>3.456127</td>\n",
       "      <td>166.945352</td>\n",
       "      <td>...</td>\n",
       "      <td>264.755039</td>\n",
       "      <td>0.335533</td>\n",
       "      <td>12.713195</td>\n",
       "      <td>121.532015</td>\n",
       "      <td>182.600853</td>\n",
       "      <td>0.231183</td>\n",
       "      <td>17.334645</td>\n",
       "      <td>180.498821</td>\n",
       "      <td>277.279519</td>\n",
       "      <td>0.474132</td>\n",
       "    </tr>\n",
       "    <tr>\n",
       "      <th>3</th>\n",
       "      <td>3.546552</td>\n",
       "      <td>151.879920</td>\n",
       "      <td>227.201128</td>\n",
       "      <td>0.317758</td>\n",
       "      <td>3.349379</td>\n",
       "      <td>160.495229</td>\n",
       "      <td>229.936130</td>\n",
       "      <td>0.369521</td>\n",
       "      <td>2.537428</td>\n",
       "      <td>108.962933</td>\n",
       "      <td>...</td>\n",
       "      <td>261.922777</td>\n",
       "      <td>0.384706</td>\n",
       "      <td>12.771688</td>\n",
       "      <td>113.157983</td>\n",
       "      <td>184.217098</td>\n",
       "      <td>0.255017</td>\n",
       "      <td>16.934321</td>\n",
       "      <td>161.419932</td>\n",
       "      <td>276.906300</td>\n",
       "      <td>0.558324</td>\n",
       "    </tr>\n",
       "    <tr>\n",
       "      <th>4</th>\n",
       "      <td>6.063051</td>\n",
       "      <td>258.077166</td>\n",
       "      <td>406.140772</td>\n",
       "      <td>0.751681</td>\n",
       "      <td>3.508233</td>\n",
       "      <td>166.576857</td>\n",
       "      <td>258.908365</td>\n",
       "      <td>0.457239</td>\n",
       "      <td>4.964624</td>\n",
       "      <td>261.026128</td>\n",
       "      <td>...</td>\n",
       "      <td>249.458385</td>\n",
       "      <td>0.348500</td>\n",
       "      <td>10.912481</td>\n",
       "      <td>108.703900</td>\n",
       "      <td>153.095356</td>\n",
       "      <td>0.263041</td>\n",
       "      <td>21.973171</td>\n",
       "      <td>216.996530</td>\n",
       "      <td>318.575868</td>\n",
       "      <td>0.605862</td>\n",
       "    </tr>\n",
       "    <tr>\n",
       "      <th>...</th>\n",
       "      <td>...</td>\n",
       "      <td>...</td>\n",
       "      <td>...</td>\n",
       "      <td>...</td>\n",
       "      <td>...</td>\n",
       "      <td>...</td>\n",
       "      <td>...</td>\n",
       "      <td>...</td>\n",
       "      <td>...</td>\n",
       "      <td>...</td>\n",
       "      <td>...</td>\n",
       "      <td>...</td>\n",
       "      <td>...</td>\n",
       "      <td>...</td>\n",
       "      <td>...</td>\n",
       "      <td>...</td>\n",
       "      <td>...</td>\n",
       "      <td>...</td>\n",
       "      <td>...</td>\n",
       "      <td>...</td>\n",
       "      <td>...</td>\n",
       "    </tr>\n",
       "    <tr>\n",
       "      <th>1495</th>\n",
       "      <td>6.856644</td>\n",
       "      <td>210.389502</td>\n",
       "      <td>389.953357</td>\n",
       "      <td>0.714243</td>\n",
       "      <td>3.980298</td>\n",
       "      <td>125.839369</td>\n",
       "      <td>231.191914</td>\n",
       "      <td>0.468009</td>\n",
       "      <td>3.392564</td>\n",
       "      <td>118.242115</td>\n",
       "      <td>...</td>\n",
       "      <td>227.596489</td>\n",
       "      <td>0.423201</td>\n",
       "      <td>13.144729</td>\n",
       "      <td>131.142506</td>\n",
       "      <td>205.192390</td>\n",
       "      <td>0.426761</td>\n",
       "      <td>18.267297</td>\n",
       "      <td>177.312990</td>\n",
       "      <td>286.325795</td>\n",
       "      <td>0.656342</td>\n",
       "    </tr>\n",
       "    <tr>\n",
       "      <th>1496</th>\n",
       "      <td>5.948170</td>\n",
       "      <td>219.646130</td>\n",
       "      <td>382.716571</td>\n",
       "      <td>0.910958</td>\n",
       "      <td>5.619841</td>\n",
       "      <td>219.557226</td>\n",
       "      <td>379.933475</td>\n",
       "      <td>0.820311</td>\n",
       "      <td>5.138659</td>\n",
       "      <td>218.379352</td>\n",
       "      <td>...</td>\n",
       "      <td>315.963330</td>\n",
       "      <td>0.478141</td>\n",
       "      <td>13.126458</td>\n",
       "      <td>131.513201</td>\n",
       "      <td>205.632693</td>\n",
       "      <td>0.444491</td>\n",
       "      <td>17.560280</td>\n",
       "      <td>181.025144</td>\n",
       "      <td>281.561264</td>\n",
       "      <td>0.504080</td>\n",
       "    </tr>\n",
       "    <tr>\n",
       "      <th>1497</th>\n",
       "      <td>6.147194</td>\n",
       "      <td>228.085520</td>\n",
       "      <td>380.467060</td>\n",
       "      <td>0.787184</td>\n",
       "      <td>3.094847</td>\n",
       "      <td>127.951543</td>\n",
       "      <td>210.791688</td>\n",
       "      <td>0.503782</td>\n",
       "      <td>5.247433</td>\n",
       "      <td>229.932905</td>\n",
       "      <td>...</td>\n",
       "      <td>318.868336</td>\n",
       "      <td>0.534290</td>\n",
       "      <td>10.699405</td>\n",
       "      <td>112.112220</td>\n",
       "      <td>175.579036</td>\n",
       "      <td>0.391505</td>\n",
       "      <td>14.591228</td>\n",
       "      <td>152.053127</td>\n",
       "      <td>219.866621</td>\n",
       "      <td>0.498812</td>\n",
       "    </tr>\n",
       "    <tr>\n",
       "      <th>1498</th>\n",
       "      <td>3.743640</td>\n",
       "      <td>141.081327</td>\n",
       "      <td>230.103196</td>\n",
       "      <td>0.466960</td>\n",
       "      <td>3.212024</td>\n",
       "      <td>145.407132</td>\n",
       "      <td>228.730590</td>\n",
       "      <td>0.489885</td>\n",
       "      <td>5.205666</td>\n",
       "      <td>232.992436</td>\n",
       "      <td>...</td>\n",
       "      <td>328.415926</td>\n",
       "      <td>0.521190</td>\n",
       "      <td>12.743690</td>\n",
       "      <td>137.849013</td>\n",
       "      <td>212.290266</td>\n",
       "      <td>0.428731</td>\n",
       "      <td>17.771094</td>\n",
       "      <td>191.497792</td>\n",
       "      <td>289.605516</td>\n",
       "      <td>0.573184</td>\n",
       "    </tr>\n",
       "    <tr>\n",
       "      <th>1499</th>\n",
       "      <td>3.586938</td>\n",
       "      <td>136.008741</td>\n",
       "      <td>217.766617</td>\n",
       "      <td>0.462218</td>\n",
       "      <td>3.042863</td>\n",
       "      <td>131.853419</td>\n",
       "      <td>206.238633</td>\n",
       "      <td>0.446147</td>\n",
       "      <td>3.690804</td>\n",
       "      <td>128.805907</td>\n",
       "      <td>...</td>\n",
       "      <td>276.847532</td>\n",
       "      <td>0.496723</td>\n",
       "      <td>8.142629</td>\n",
       "      <td>93.434358</td>\n",
       "      <td>131.118735</td>\n",
       "      <td>0.243328</td>\n",
       "      <td>13.408093</td>\n",
       "      <td>158.622595</td>\n",
       "      <td>219.700476</td>\n",
       "      <td>0.532322</td>\n",
       "    </tr>\n",
       "  </tbody>\n",
       "</table>\n",
       "<p>1500 rows × 596 columns</p>\n",
       "</div>"
      ],
      "text/plain": [
       "     neuron_002                                    neuron_003              \\\n",
       "              z           x           y likelihood          z           x   \n",
       "0      6.471824  305.497505  419.991735   0.878358   6.213212  305.099868   \n",
       "1      3.033243  156.455905  217.566560   0.429438   5.558560  285.946536   \n",
       "2      2.898961  124.213045  177.450495   0.308128   5.940452  279.976866   \n",
       "3      3.546552  151.879920  227.201128   0.317758   3.349379  160.495229   \n",
       "4      6.063051  258.077166  406.140772   0.751681   3.508233  166.576857   \n",
       "...         ...         ...         ...        ...        ...         ...   \n",
       "1495   6.856644  210.389502  389.953357   0.714243   3.980298  125.839369   \n",
       "1496   5.948170  219.646130  382.716571   0.910958   5.619841  219.557226   \n",
       "1497   6.147194  228.085520  380.467060   0.787184   3.094847  127.951543   \n",
       "1498   3.743640  141.081327  230.103196   0.466960   3.212024  145.407132   \n",
       "1499   3.586938  136.008741  217.766617   0.462218   3.042863  131.853419   \n",
       "\n",
       "                            neuron_004              ...  neuron_167  \\\n",
       "               y likelihood          z           x  ...           y   \n",
       "0     419.819037   0.769589   5.919751  309.820815  ...  264.658149   \n",
       "1     404.252013   0.765268   4.977237  285.633589  ...  232.086336   \n",
       "2     400.256866   0.606069   3.456127  166.945352  ...  264.755039   \n",
       "3     229.936130   0.369521   2.537428  108.962933  ...  261.922777   \n",
       "4     258.908365   0.457239   4.964624  261.026128  ...  249.458385   \n",
       "...          ...        ...        ...         ...  ...         ...   \n",
       "1495  231.191914   0.468009   3.392564  118.242115  ...  227.596489   \n",
       "1496  379.933475   0.820311   5.138659  218.379352  ...  315.963330   \n",
       "1497  210.791688   0.503782   5.247433  229.932905  ...  318.868336   \n",
       "1498  228.730590   0.489885   5.205666  232.992436  ...  328.415926   \n",
       "1499  206.238633   0.446147   3.690804  128.805907  ...  276.847532   \n",
       "\n",
       "                neuron_168                                    neuron_170  \\\n",
       "     likelihood          z           x           y likelihood          z   \n",
       "0      0.490553  11.080535  120.335012  161.248138   0.413209  17.562314   \n",
       "1      0.370846   6.606507   64.171740   93.851842   0.226268  20.588569   \n",
       "2      0.335533  12.713195  121.532015  182.600853   0.231183  17.334645   \n",
       "3      0.384706  12.771688  113.157983  184.217098   0.255017  16.934321   \n",
       "4      0.348500  10.912481  108.703900  153.095356   0.263041  21.973171   \n",
       "...         ...        ...         ...         ...        ...        ...   \n",
       "1495   0.423201  13.144729  131.142506  205.192390   0.426761  18.267297   \n",
       "1496   0.478141  13.126458  131.513201  205.632693   0.444491  17.560280   \n",
       "1497   0.534290  10.699405  112.112220  175.579036   0.391505  14.591228   \n",
       "1498   0.521190  12.743690  137.849013  212.290266   0.428731  17.771094   \n",
       "1499   0.496723   8.142629   93.434358  131.118735   0.243328  13.408093   \n",
       "\n",
       "                                         \n",
       "               x           y likelihood  \n",
       "0     206.015866  279.108327   0.701520  \n",
       "1     217.430234  325.108689   0.712172  \n",
       "2     180.498821  277.279519   0.474132  \n",
       "3     161.419932  276.906300   0.558324  \n",
       "4     216.996530  318.575868   0.605862  \n",
       "...          ...         ...        ...  \n",
       "1495  177.312990  286.325795   0.656342  \n",
       "1496  181.025144  281.561264   0.504080  \n",
       "1497  152.053127  219.866621   0.498812  \n",
       "1498  191.497792  289.605516   0.573184  \n",
       "1499  158.622595  219.700476   0.532322  \n",
       "\n",
       "[1500 rows x 596 columns]"
      ]
     },
     "execution_count": 16,
     "metadata": {},
     "output_type": "execute_result"
    }
   ],
   "source": [
    "df_combined"
   ]
  },
  {
   "cell_type": "code",
   "execution_count": null,
   "id": "fc1d5f02-7110-4714-be7f-119232b947da",
   "metadata": {},
   "outputs": [],
   "source": []
  }
 ],
 "metadata": {
  "kernelspec": {
   "display_name": "Python [conda env:torch]",
   "language": "python",
   "name": "conda-env-torch-py"
  },
  "language_info": {
   "codemirror_mode": {
    "name": "ipython",
    "version": 3
   },
   "file_extension": ".py",
   "mimetype": "text/x-python",
   "name": "python",
   "nbconvert_exporter": "python",
   "pygments_lexer": "ipython3",
   "version": "3.7.11"
  }
 },
 "nbformat": 4,
 "nbformat_minor": 5
}
