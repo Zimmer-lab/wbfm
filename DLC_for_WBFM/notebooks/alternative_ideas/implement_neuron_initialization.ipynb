{
 "cells": [
  {
   "cell_type": "code",
   "execution_count": 1,
   "id": "04cb309a-366f-4840-b350-c0053c426008",
   "metadata": {},
   "outputs": [
    {
     "name": "stderr",
     "output_type": "stream",
     "text": [
      "\n",
      "Bad key \"text.kerning_factor\" on line 4 in\n",
      "/home/charles/anaconda3/envs/torch/lib/python3.7/site-packages/matplotlib/mpl-data/stylelib/_classic_test_patch.mplstyle.\n",
      "You probably need to get an updated matplotlibrc file from\n",
      "http://github.com/matplotlib/matplotlib/blob/master/matplotlibrc.template\n",
      "or from the matplotlib source distribution\n"
     ]
    }
   ],
   "source": [
    "%load_ext autoreload\n",
    "%autoreload 2\n",
    "import matplotlib.pyplot as plt\n",
    "from DLC_for_WBFM.utils.projects.finished_project_data import ProjectData\n",
    "import napari\n",
    "import pandas as pd\n",
    "import numpy as np\n",
    "from DLC_for_WBFM.utils.feature_detection.class_frame_pair import FramePair\n"
   ]
  },
  {
   "cell_type": "code",
   "execution_count": 2,
   "id": "c6615e22-3c9c-4c62-a8db-6c9b64e65432",
   "metadata": {},
   "outputs": [
    {
     "name": "stderr",
     "output_type": "stream",
     "text": [
      "WARNING:root:Did not find file /scratch/zimmer/Charles/dlc_stacks/worm10-gui_test/4-traces/reindexed_masks.zarr\n",
      "WARNING:root:Did not find file /scratch/zimmer/Charles/dlc_stacks/worm10-gui_test/3-tracking/postprocessing/manual_behavior_annotation.xlsx\n",
      "WARNING:root:Did not find file /scratch/zimmer/Charles/dlc_stacks/worm10-gui_test/3-tracking/manual_annotation/split_names.pickle\n",
      "WARNING:root:Did not find file /scratch/zimmer/Charles/dlc_stacks/worm10-gui_test/3-tracking/manual_annotation/split_times.pickle\n"
     ]
    },
    {
     "name": "stdout",
     "output_type": "stream",
     "text": [
      "Output files for annotator: /scratch/zimmer/Charles/dlc_stacks/worm10-gui_test/3-tracking/manual_annotation/global2tracklet_manual.pickle, /scratch/zimmer/Charles/dlc_stacks/worm10-gui_test/3-tracking/manual_annotation/manually_split_tracklets.h5, /scratch/zimmer/Charles/dlc_stacks/worm10-gui_test/3-tracking/manual_annotation/split_names.pickle, /scratch/zimmer/Charles/dlc_stacks/worm10-gui_test/3-tracking/manual_annotation/split_times.pickle\n",
      "=======================================\n",
      "Project data for directory:\n",
      "/scratch/zimmer/Charles/dlc_stacks/worm10-gui_test \n",
      "=======================================\n",
      "Found the following raw data files:\n",
      "red_data:                 True\n",
      "green_data:               True\n",
      "============Segmentation===============\n",
      "raw_segmentation:         True\n",
      "segmentation:             False\n",
      "============Tracklets==================\n",
      "df_training_tracklets:    True\n",
      "reindexed_masks_training: True\n",
      "============Traces=====================\n",
      "red_traces:               False\n",
      "green_traces:             False\n",
      "final_tracks:             True\n",
      "behavior_annotations:     False\n",
      "\n"
     ]
    }
   ],
   "source": [
    "fname = \"/scratch/zimmer/Charles/dlc_stacks/worm10-gui_test/project_config.yaml\"\n",
    "project_data = ProjectData.load_final_project_data_from_config(fname, to_load_tracklets=True, to_load_segmentation_metadata=True)"
   ]
  },
  {
   "cell_type": "code",
   "execution_count": 3,
   "id": "74dfeb8a-4e63-4709-94e8-e4974173c492",
   "metadata": {},
   "outputs": [],
   "source": [
    "# fname = \"/home/charles/dlc_stacks/worm3-tracklet_wiggle/project_config.yaml\"\n",
    "# project_data2 = ProjectData.load_final_project_data_from_config(fname, to_load_tracklets=True, to_load_segmentation_metadata=True)"
   ]
  },
  {
   "cell_type": "code",
   "execution_count": 4,
   "id": "68174cc6-7696-46c7-8cb5-8686b6437b5b",
   "metadata": {},
   "outputs": [],
   "source": [
    "# project_data2.red_traces.head()"
   ]
  },
  {
   "cell_type": "markdown",
   "id": "b1e2b008-f48c-457c-a31f-af9304355711",
   "metadata": {},
   "source": [
    "# Initialize neurons, order tracklets to get candidates, and add tracklets in a loop"
   ]
  },
  {
   "cell_type": "markdown",
   "id": "7cc28f70-213b-486a-9e1e-a4f8dbadc44d",
   "metadata": {},
   "source": [
    "### Initialize"
   ]
  },
  {
   "cell_type": "code",
   "execution_count": 158,
   "id": "97fb6646-9261-48ad-b9af-165ae068b279",
   "metadata": {},
   "outputs": [],
   "source": [
    "from DLC_for_WBFM.utils.pipeline.tracklet_class import TrackedWorm\n",
    "from DLC_for_WBFM.utils.training_data.tracklet_to_DLC import translate_training_names_to_raw_names\n",
    "from tqdm.auto import tqdm"
   ]
  },
  {
   "cell_type": "code",
   "execution_count": 159,
   "id": "60f0b0a2-5dd9-4f1c-99ca-09ba1fc11a06",
   "metadata": {},
   "outputs": [],
   "source": [
    "tracklets_and_neurons_class = project_data.tracklets_and_neurons_class\n",
    "worm_obj = TrackedWorm(detections=tracklets_and_neurons_class, verbose=1)\n",
    "df_training_data = project_data.df_training_tracklets"
   ]
  },
  {
   "cell_type": "code",
   "execution_count": 160,
   "id": "d7cd4848-d780-4898-aaaf-956e63064f72",
   "metadata": {},
   "outputs": [],
   "source": [
    "worm_obj.initialize_neurons_from_training_data(df_training_data)"
   ]
  },
  {
   "cell_type": "code",
   "execution_count": 161,
   "id": "c60e638d-8ee5-4ca0-9498-876f32ff27aa",
   "metadata": {},
   "outputs": [
    {
     "data": {
      "text/plain": [
       "Worm with 144 neurons"
      ]
     },
     "execution_count": 161,
     "metadata": {},
     "output_type": "execute_result"
    }
   ],
   "source": [
    "worm_obj"
   ]
  },
  {
   "cell_type": "code",
   "execution_count": 9,
   "id": "3b56d9f5-c3d7-44d9-8c47-99dfd2fa877f",
   "metadata": {},
   "outputs": [],
   "source": [
    "# worm_obj.global_name_to_neuron"
   ]
  },
  {
   "cell_type": "markdown",
   "id": "2f03fba4-ddae-4fcd-85a3-77b346170b6e",
   "metadata": {},
   "source": [
    "### Order the tracklets and do many-to-one matching"
   ]
  },
  {
   "cell_type": "code",
   "execution_count": 141,
   "id": "33618f80-4402-475c-bfc1-2fc9b6af844c",
   "metadata": {},
   "outputs": [],
   "source": [
    "from DLC_for_WBFM.utils.postprocessing.combine_tracklets_and_DLC_tracks import calc_global_track_to_tracklet_distances\n",
    "from DLC_for_WBFM.utils.external.utils_pandas import dataframe_to_dataframe_zxy_format\n",
    "from DLC_for_WBFM.utils.external.utils_networkx import dist2conf"
   ]
  },
  {
   "cell_type": "code",
   "execution_count": 177,
   "id": "8fe65ce4-b82e-4b7a-9fb7-29b7970dba66",
   "metadata": {},
   "outputs": [],
   "source": [
    "del project_data.intermediate_global_tracks"
   ]
  },
  {
   "cell_type": "code",
   "execution_count": 178,
   "id": "833d82be-3e42-4d2a-875f-2bc0f41b1e5b",
   "metadata": {},
   "outputs": [],
   "source": [
    "df_global_tracks = project_data.intermediate_global_tracks\n",
    "# df_global_tracks[('neuron_007', 'z')].replace(0.0, np.nan).plot()"
   ]
  },
  {
   "cell_type": "code",
   "execution_count": 126,
   "id": "629c999e-fb20-4641-8bf5-0215e257cda7",
   "metadata": {},
   "outputs": [
    {
     "data": {
      "application/vnd.jupyter.widget-view+json": {
       "model_id": "56067c26e00443358857a8ada1618452",
       "version_major": 2,
       "version_minor": 0
      },
      "text/plain": [
       "  0%|          | 0/15702 [00:00<?, ?it/s]"
      ]
     },
     "metadata": {},
     "output_type": "display_data"
    }
   ],
   "source": [
    "\n",
    "df_tracklets = project_data.df_all_tracklets\n",
    "# Pre-make coordinates so that the dataframe is not continuously indexed\n",
    "coords = ['z', 'x', 'y']\n",
    "all_tracklet_names = list(df_tracklets.columns.levels[0])\n",
    "list_tracklets_zxy = [df_tracklets[name][coords].to_numpy() for name in tqdm(all_tracklet_names)]"
   ]
  },
  {
   "cell_type": "code",
   "execution_count": 127,
   "id": "2bdfdf8b-7cd1-4241-ae39-88394c617c81",
   "metadata": {},
   "outputs": [],
   "source": [
    "min_overlap = 5\n",
    "d_max = 5\n",
    "used_names = []"
   ]
  },
  {
   "cell_type": "code",
   "execution_count": 128,
   "id": "10cb70b0-2fe6-4e4c-8142-dbf6bbcae5d0",
   "metadata": {},
   "outputs": [],
   "source": [
    "worm_obj.initialize_all_neuron_tracklet_classifiers()"
   ]
  },
  {
   "cell_type": "code",
   "execution_count": 142,
   "id": "39b6755b-44db-431b-a644-4f926b2d35de",
   "metadata": {
    "collapsed": true,
    "jupyter": {
     "outputs_hidden": true
    },
    "tags": []
   },
   "outputs": [
    {
     "data": {
      "application/vnd.jupyter.widget-view+json": {
       "model_id": "7054f0a58b514fc390b2410729a28ebe",
       "version_major": 2,
       "version_minor": 0
      },
      "text/plain": [
       "  0%|          | 0/144 [00:00<?, ?it/s]"
      ]
     },
     "metadata": {},
     "output_type": "display_data"
    },
    {
     "name": "stdout",
     "output_type": "stream",
     "text": [
      "Adding tracklet: tracklet_0002118\n",
      "0.0\n",
      "Adding tracklet: tracklet_0008759\n",
      "0.0\n",
      "Adding tracklet: tracklet_0010753\n",
      "0.0\n",
      "Adding tracklet: tracklet_0008866\n",
      "0.0\n",
      "Adding tracklet: tracklet_0008891\n",
      "0.0\n",
      "Adding tracklet: tracklet_0003913\n",
      "0.0\n",
      "Adding tracklet: tracklet_0018447\n",
      "0.0\n",
      "Adding tracklet: tracklet_0003830\n",
      "0.0\n",
      "Adding tracklet: tracklet_0003826\n",
      "0.0\n",
      "Adding tracklet: tracklet_0003715\n",
      "0.0\n",
      "Adding tracklet: tracklet_0001377\n",
      "0.0\n",
      "Adding tracklet: tracklet_0018384\n",
      "0.0\n",
      "Adding tracklet: tracklet_0003593\n",
      "0.0\n",
      "Adding tracklet: tracklet_0013444\n",
      "0.0\n",
      "Adding tracklet: tracklet_0018337\n",
      "0.0\n",
      "Adding tracklet: tracklet_0003366\n",
      "0.0\n",
      "Adding tracklet: tracklet_0003323\n",
      "0.0\n",
      "Adding tracklet: tracklet_0009253\n",
      "0.0\n",
      "Adding tracklet: tracklet_0013358\n",
      "0.0\n",
      "Adding tracklet: tracklet_0007143\n",
      "0.0\n",
      "Adding tracklet: tracklet_0001548\n",
      "0.0\n",
      "Adding tracklet: tracklet_0007134\n",
      "0.0\n",
      "Adding tracklet: tracklet_0015120\n",
      "0.0\n",
      "Adding tracklet: tracklet_0001672\n",
      "0.0\n",
      "Adding tracklet: tracklet_0011621\n",
      "0.0\n",
      "Adding tracklet: tracklet_0011623\n",
      "0.0\n",
      "Adding tracklet: tracklet_0007079\n",
      "0.0\n",
      "Adding tracklet: tracklet_0000086\n",
      "0.0\n",
      "Adding tracklet: tracklet_0017450\n",
      "0.0\n",
      "Adding tracklet: tracklet_0000074\n",
      "0.0\n",
      "Adding tracklet: tracklet_0000272\n",
      "0.0\n",
      "Adding tracklet: tracklet_0000073\n",
      "0.0\n",
      "Adding tracklet: tracklet_0007368\n",
      "0.0\n",
      "Adding tracklet: tracklet_0018638\n",
      "0.0\n",
      "Adding tracklet: tracklet_0005479\n",
      "0.0\n",
      "Adding tracklet: tracklet_0007943\n",
      "0.0\n",
      "Adding tracklet: tracklet_0005622\n",
      "0.0\n",
      "Adding tracklet: tracklet_0007754\n",
      "0.0\n",
      "Adding tracklet: tracklet_0012159\n",
      "0.0\n",
      "Adding tracklet: tracklet_0011280\n",
      "0.0\n",
      "Adding tracklet: tracklet_0007656\n",
      "0.0\n",
      "Adding tracklet: tracklet_0000611\n",
      "0.0\n",
      "Adding tracklet: tracklet_0005227\n",
      "0.0\n",
      "Adding tracklet: tracklet_0016153\n",
      "0.0\n",
      "Adding tracklet: tracklet_0000398\n",
      "0.0\n",
      "Adding tracklet: tracklet_0000394\n",
      "0.0\n",
      "Adding tracklet: tracklet_0011001\n",
      "0.0\n",
      "Adding tracklet: tracklet_0007601\n",
      "0.0\n",
      "Adding tracklet: tracklet_0000723\n",
      "0.0\n",
      "Adding tracklet: tracklet_0014466\n",
      "0.0\n",
      "Adding tracklet: tracklet_0000757\n",
      "0.0\n",
      "Adding tracklet: tracklet_0000793\n",
      "0.0\n",
      "Adding tracklet: tracklet_0000801\n",
      "0.0\n",
      "Adding tracklet: tracklet_0016410\n",
      "0.0\n",
      "Adding tracklet: tracklet_0007522\n",
      "0.0\n",
      "Adding tracklet: tracklet_0012344\n",
      "0.0\n",
      "Adding tracklet: tracklet_0012358\n",
      "0.0\n",
      "Adding tracklet: tracklet_0000866\n",
      "0.0\n",
      "Adding tracklet: tracklet_0008544\n",
      "0.0\n",
      "Adding tracklet: tracklet_0004569\n",
      "0.0\n",
      "Adding tracklet: tracklet_0004537\n",
      "0.0\n",
      "Adding tracklet: tracklet_0004514\n",
      "0.0\n",
      "Adding tracklet: tracklet_0008658\n",
      "0.0\n",
      "Adding tracklet: tracklet_0004325\n",
      "0.0\n",
      "Adding tracklet: tracklet_0002840\n",
      "0.0\n",
      "Adding tracklet: tracklet_0015347\n",
      "0.0\n",
      "Adding tracklet: tracklet_0010394\n",
      "0.0\n",
      "Adding tracklet: tracklet_0010152\n",
      "0.0\n",
      "Adding tracklet: tracklet_0010320\n",
      "0.0\n",
      "Adding tracklet: tracklet_0014996\n",
      "0.0\n",
      "Adding tracklet: tracklet_0011661\n",
      "0.0\n",
      "Adding tracklet: tracklet_0012963\n",
      "0.0\n",
      "Adding tracklet: tracklet_0012968\n",
      "0.0\n",
      "Adding tracklet: tracklet_0009904\n",
      "0.0\n",
      "Adding tracklet: tracklet_0002047\n",
      "0.0\n",
      "Adding tracklet: tracklet_0002003\n",
      "0.0\n",
      "Adding tracklet: tracklet_0010060\n",
      "0.0\n",
      "Adding tracklet: tracklet_0010224\n",
      "0.0\n",
      "Adding tracklet: tracklet_0002192\n",
      "0.0\n",
      "Adding tracklet: tracklet_0007060\n",
      "0.0\n",
      "Adding tracklet: tracklet_0015611\n",
      "1.001020170500961\n",
      "Adding tracklet: tracklet_0010748\n",
      "2.7333947025172414\n",
      "Adding tracklet: tracklet_0006500\n",
      "2.791784852328919\n",
      "Adding tracklet: tracklet_0001632\n",
      "2.969554296198624\n",
      "Adding tracklet: tracklet_0008055\n",
      "2.9849296689329154\n",
      "Adding tracklet: tracklet_0004338\n",
      "2.9905894628596084\n",
      "Adding tracklet: tracklet_0010676\n",
      "3.054533865736192\n",
      "Adding tracklet: tracklet_0011455\n",
      "3.6395214195567576\n",
      "Adding tracklet: tracklet_0010760\n",
      "3.7736512282915715\n",
      "Adding tracklet: tracklet_0016060\n",
      "3.942865712467387\n",
      "Adding tracklet: tracklet_0003393\n",
      "3.981360128262071\n",
      "Adding tracklet: tracklet_0016078\n",
      "4.036659168798577\n",
      "Adding tracklet: tracklet_0017480\n",
      "4.321683395765075\n",
      "Adding tracklet: tracklet_0015475\n",
      "4.4233589708892564\n",
      "Adding tracklet: tracklet_0010391\n",
      "4.847452027735541\n",
      "Adding tracklet: tracklet_0008155\n",
      "4.878962717901498\n",
      "Breaking at distance: 5.049603590964726\n"
     ]
    }
   ],
   "source": [
    "# For each neuron, calculate all tracklet distances (percent inliers)\n",
    "# If passes threshold 1:\n",
    "#   Then check z/volume threshold 2:\n",
    "#     Directly add the tracklets to the neurons within worm_obj\n",
    "#   Else simply do not add\n",
    "# Finally, do b_matching\n",
    "\n",
    "for name, neuron in tqdm(worm_obj.global_name_to_neuron.items()):\n",
    "    # For now just use the tracklet as defined by the training data\n",
    "    # this_global_track = worm_obj.get_tracklets_for_neuron(name)[0]\n",
    "    # this_global_track = this_global_track[coords].to_numpy(float)\n",
    "    \n",
    "    # New: use the track as produced by the global tracking\n",
    "    # TODO: confirm that the worm_obj has the same neuron names as leifer\n",
    "    this_global_track = df_global_tracks[name][coords][:-1].replace(0.0, np.nan).to_numpy(float)\n",
    "    \n",
    "    # TODO: calculate distance using percent inliers\n",
    "    dist = calc_global_track_to_tracklet_distances(this_global_track, list_tracklets_zxy, all_tracklet_names, used_names,\n",
    "                                                   min_overlap=min_overlap)\n",
    "    \n",
    "    # Loop through candidates, and attempt to add\n",
    "    all_summarized_dist = list(map(lambda x: np.nanquantile(x, 0.1), dist))\n",
    "    i_sorted_by_median_distance = np.argsort(all_summarized_dist)\n",
    "    \n",
    "    for i_tracklet in i_sorted_by_median_distance:\n",
    "        # Check distance; break because they are sorted by distance\n",
    "        this_distance = all_summarized_dist[i_tracklet]\n",
    "        if this_distance > d_max:\n",
    "            print(f\"Breaking at distance: {this_distance}\")\n",
    "            break\n",
    "        \n",
    "        candidate_name = all_tracklet_names[i_tracklet]\n",
    "        candidate_tracklet = df_tracklets[[candidate_name]]\n",
    "        conf = dist2conf(this_distance)\n",
    "        is_match_added = neuron.add_tracklet(i_tracklet, conf, candidate_tracklet, metadata=candidate_name,\n",
    "                                             check_using_classifier=True)\n",
    "        \n",
    "        if is_good:\n",
    "            print(f\"Adding tracklet: {candidate_name} with distance {this_distance}\")\n",
    "        else:\n",
    "            print(f\"Not adding {candidate_name}\")\n",
    "        \n",
    "    break"
   ]
  },
  {
   "cell_type": "code",
   "execution_count": 109,
   "id": "676e9111-0876-419d-af66-2bcb91dd1a75",
   "metadata": {},
   "outputs": [],
   "source": [
    "from DLC_for_WBFM.utils.pipeline.long_range_matching import b_matching_via_node_copying\n",
    "from DLC_for_WBFM.utils.pipeline.long_range_matching import combine_tracklets_using_matching"
   ]
  },
  {
   "cell_type": "code",
   "execution_count": null,
   "id": "fec06da7-08b8-40d3-a049-f3fa85df2af5",
   "metadata": {},
   "outputs": [],
   "source": [
    "global_tracklet_neuron_graph = worm_obj.compose_global_neuron_and_tracklet_graph()\n",
    "final_matching = b_matching_via_node_copying(global_tracklet_neuron_graph)\n",
    "df_new = combine_tracklets_using_matching(all_tracklet_names, df_tracklets, final_matching)"
   ]
  },
  {
   "cell_type": "code",
   "execution_count": null,
   "id": "c6a4fa54-c658-41a7-ac68-db5ba92fd1b7",
   "metadata": {},
   "outputs": [],
   "source": []
  },
  {
   "cell_type": "code",
   "execution_count": null,
   "id": "2053ab33-d684-42a6-9c55-02b3e2e297a8",
   "metadata": {},
   "outputs": [],
   "source": []
  },
  {
   "cell_type": "markdown",
   "id": "0035da1e-f247-41ba-be3b-f46542d2ce08",
   "metadata": {},
   "source": [
    "# Same, using functions"
   ]
  },
  {
   "cell_type": "code",
   "execution_count": 147,
   "id": "39f352ed-12e6-4ce4-a1f3-168736d40e4d",
   "metadata": {},
   "outputs": [],
   "source": [
    "project_path = project_data.project_config.self_path"
   ]
  },
  {
   "cell_type": "code",
   "execution_count": 150,
   "id": "35618861-df11-4d9f-b402-c28bfe10413e",
   "metadata": {},
   "outputs": [
    {
     "name": "stderr",
     "output_type": "stream",
     "text": [
      "DEBUG:root:test\n"
     ]
    }
   ],
   "source": [
    "from DLC_for_WBFM.utils.pipeline.long_range_matching import global_track_matches_from_config\n",
    "import logging\n",
    "logger = logging.getLogger()\n",
    "logger.setLevel(logging.DEBUG)\n",
    "logging.debug(\"test\")"
   ]
  },
  {
   "cell_type": "code",
   "execution_count": 303,
   "id": "e592bfc1-a526-45e9-b92d-9db6230b306e",
   "metadata": {
    "tags": []
   },
   "outputs": [
    {
     "name": "stderr",
     "output_type": "stream",
     "text": [
      "INFO:root:File for mode fdnc exists at precendence: 3/3\n",
      "INFO:root:Read data from: /scratch/zimmer/Charles/dlc_stacks/worm10-gui_test/3-tracking/postprocessing/leifer_tracks.h5\n",
      "INFO:root:Using most recently modified file\n",
      "INFO:root:Starting threads to read data...\n",
      "INFO:root:First time loading the all tracklets, may take a while...\n",
      "WARNING:root:Did not find file /scratch/zimmer/Charles/dlc_stacks/worm10-gui_test/3-tracking/postprocessing/manual_behavior_annotation.xlsx\n",
      "INFO:root:File for mode automatic exists at precendence: 3/3\n",
      "INFO:root:Read data from: /scratch/zimmer/Charles/dlc_stacks/worm10-gui_test/2-training_data/all_tracklets.h5\n",
      "INFO:root:Using most recently modified file\n",
      "INFO:root:Found no files of possibilities: {'manual': '/scratch/zimmer/Charles/dlc_stacks/worm10-gui_test/3-tracking/manual_annotation/global2tracklet_manual.pickle', 'automatic': '/scratch/zimmer/Charles/dlc_stacks/worm10-gui_test/3-tracking/global2tracklet.pickle'}\n",
      "WARNING:root:Did not find file /scratch/zimmer/Charles/dlc_stacks/worm10-gui_test/3-tracking/manual_annotation/split_names.pickle\n",
      "WARNING:root:Did not find file /scratch/zimmer/Charles/dlc_stacks/worm10-gui_test/3-tracking/manual_annotation/split_times.pickle\n",
      "INFO:root:First time loading the raw cluster dataframe, may take a while...\n"
     ]
    },
    {
     "name": "stdout",
     "output_type": "stream",
     "text": [
      "Output files for annotator: /scratch/zimmer/Charles/dlc_stacks/worm10-gui_test/3-tracking/manual_annotation/global2tracklet_manual.pickle, /scratch/zimmer/Charles/dlc_stacks/worm10-gui_test/3-tracking/manual_annotation/manually_split_tracklets.h5, /scratch/zimmer/Charles/dlc_stacks/worm10-gui_test/3-tracking/manual_annotation/split_names.pickle, /scratch/zimmer/Charles/dlc_stacks/worm10-gui_test/3-tracking/manual_annotation/split_times.pickle\n"
     ]
    },
    {
     "name": "stderr",
     "output_type": "stream",
     "text": [
      "INFO:root:Read all data\n"
     ]
    },
    {
     "name": "stdout",
     "output_type": "stream",
     "text": [
      "=======================================\n",
      "Project data for directory:\n",
      "/scratch/zimmer/Charles/dlc_stacks/worm10-gui_test \n",
      "Found the following data files:\n",
      "============Raw========================\n",
      "red_data:                 True\n",
      "green_data:               True\n",
      "============Annotations================\n",
      "behavior_annotations:     False\n",
      "============Training================\n",
      "df_training_tracklets:    True\n",
      "============Segmentation===============\n",
      "raw_segmentation:         True\n",
      "colored_segmentation:     True\n",
      "============Traces=====================\n",
      "red_traces:               True\n",
      "green_traces:             True\n",
      "\n",
      "Initialized worm object: Worm with 144 neurons\n"
     ]
    },
    {
     "data": {
      "application/vnd.jupyter.widget-view+json": {
       "model_id": "f050cf1e0047418cb44df0ebbe19e4fa",
       "version_major": 2,
       "version_minor": 0
      },
      "text/plain": [
       "  0%|          | 0/15702 [00:00<?, ?it/s]"
      ]
     },
     "metadata": {},
     "output_type": "display_data"
    },
    {
     "data": {
      "application/vnd.jupyter.widget-view+json": {
       "model_id": "f4ee1ce681134989b87dffeee99368aa",
       "version_major": 2,
       "version_minor": 0
      },
      "text/plain": [
       "  0%|          | 0/144 [00:00<?, ?it/s]"
      ]
     },
     "metadata": {},
     "output_type": "display_data"
    },
    {
     "name": "stderr",
     "output_type": "stream",
     "text": [
      "/home/charles/anaconda3/envs/torch/lib/python3.7/site-packages/numpy/lib/function_base.py:3968: RuntimeWarning: invalid value encountered in multiply\n",
      "  x2 = take(ap, indices_above, axis=axis) * weights_above\n"
     ]
    },
    {
     "name": "stdout",
     "output_type": "stream",
     "text": [
      "96 candidate tracklets\n",
      "Tracklets added to make neuron: Neuron neuron_001 (index=0) with 19 tracklets from time 1656 to 1479\n"
     ]
    },
    {
     "name": "stderr",
     "output_type": "stream",
     "text": [
      "/home/charles/anaconda3/envs/torch/lib/python3.7/site-packages/numpy/lib/function_base.py:3968: RuntimeWarning: invalid value encountered in multiply\n",
      "  x2 = take(ap, indices_above, axis=axis) * weights_above\n"
     ]
    },
    {
     "name": "stdout",
     "output_type": "stream",
     "text": [
      "147 candidate tracklets\n",
      "Tracklets added to make neuron: Neuron neuron_002 (index=1) with 36 tracklets from time 1659 to 1736\n"
     ]
    },
    {
     "name": "stderr",
     "output_type": "stream",
     "text": [
      "/home/charles/anaconda3/envs/torch/lib/python3.7/site-packages/numpy/lib/function_base.py:3968: RuntimeWarning: invalid value encountered in multiply\n",
      "  x2 = take(ap, indices_above, axis=axis) * weights_above\n"
     ]
    },
    {
     "name": "stdout",
     "output_type": "stream",
     "text": [
      "202 candidate tracklets\n",
      "Tracklets added to make neuron: Neuron neuron_003 (index=2) with 130 tracklets from time 1659 to 1267\n"
     ]
    },
    {
     "name": "stderr",
     "output_type": "stream",
     "text": [
      "/home/charles/anaconda3/envs/torch/lib/python3.7/site-packages/numpy/lib/function_base.py:3968: RuntimeWarning: invalid value encountered in multiply\n",
      "  x2 = take(ap, indices_above, axis=axis) * weights_above\n",
      "INFO:root:Matching using b_matching_via_node_copying\n"
     ]
    },
    {
     "name": "stdout",
     "output_type": "stream",
     "text": [
      "77 candidate tracklets\n",
      "Tracklets added to make neuron: Neuron neuron_004 (index=3) with 20 tracklets from time 1659 to 1017\n"
     ]
    },
    {
     "data": {
      "application/vnd.jupyter.widget-view+json": {
       "model_id": "407b1805d91e4084810e9895760a3a2b",
       "version_major": 2,
       "version_minor": 0
      },
      "text/plain": [
       "  0%|          | 0/342 [00:00<?, ?it/s]"
      ]
     },
     "metadata": {},
     "output_type": "display_data"
    },
    {
     "name": "stderr",
     "output_type": "stream",
     "text": [
      "INFO:root:Saving at: 3-tracking/postprocessing/combined_3d_tracks.h5\n",
      "INFO:root:Saving at: 3-tracking/global2tracklet.pickle\n"
     ]
    }
   ],
   "source": [
    "df_new, final_matching, global_tracklet_neuron_graph, worm_obj = global_track_matches_from_config(project_path, to_save=True, verbose=2, DEBUG=True)"
   ]
  },
  {
   "cell_type": "code",
   "execution_count": 280,
   "id": "5c554111-d40a-48fb-9bbb-539586022fbb",
   "metadata": {},
   "outputs": [
    {
     "name": "stdout",
     "output_type": "stream",
     "text": [
      "> \u001b[0;32m/home/charles/Current_work/repos/dlc_for_wbfm/DLC_for_WBFM/utils/pipeline/long_range_matching.py\u001b[0m(308)\u001b[0;36m<setcomp>\u001b[0;34m()\u001b[0m\n",
      "\u001b[0;32m    306 \u001b[0;31m            \u001b[0;31m# Add a copy of the node for each edge, which has all the original edges\u001b[0m\u001b[0;34m\u001b[0m\u001b[0;34m\u001b[0m\u001b[0;34m\u001b[0m\u001b[0m\n",
      "\u001b[0m\u001b[0;32m    307 \u001b[0;31m            \u001b[0mnew_edges\u001b[0m \u001b[0;34m=\u001b[0m \u001b[0;34m[\u001b[0m\u001b[0;34m[\u001b[0m\u001b[0mnew_name\u001b[0m\u001b[0;34m,\u001b[0m \u001b[0me\u001b[0m\u001b[0;34m[\u001b[0m\u001b[0;36m1\u001b[0m\u001b[0;34m]\u001b[0m\u001b[0;34m,\u001b[0m \u001b[0me\u001b[0m\u001b[0;34m[\u001b[0m\u001b[0;36m2\u001b[0m\u001b[0;34m]\u001b[0m\u001b[0;34m]\u001b[0m \u001b[0;32mfor\u001b[0m \u001b[0me\u001b[0m \u001b[0;32min\u001b[0m \u001b[0moriginal_edges\u001b[0m\u001b[0;34m]\u001b[0m\u001b[0;34m\u001b[0m\u001b[0;34m\u001b[0m\u001b[0m\n",
      "\u001b[0m\u001b[0;32m--> 308 \u001b[0;31m            \u001b[0mglobal_tracklet_neuron_graph_with_copies\u001b[0m\u001b[0;34m.\u001b[0m\u001b[0madd_edges_from\u001b[0m\u001b[0;34m(\u001b[0m\u001b[0mnew_edges\u001b[0m\u001b[0;34m)\u001b[0m\u001b[0;34m\u001b[0m\u001b[0;34m\u001b[0m\u001b[0m\n",
      "\u001b[0m\u001b[0;32m    309 \u001b[0;31m\u001b[0;34m\u001b[0m\u001b[0m\n",
      "\u001b[0m\u001b[0;32m    310 \u001b[0;31m    \u001b[0;31m# Do normal bipartite matching, such that each tracklet gets a match to some copy of a neuron\u001b[0m\u001b[0;34m\u001b[0m\u001b[0;34m\u001b[0m\u001b[0;34m\u001b[0m\u001b[0m\n",
      "\u001b[0m\n"
     ]
    },
    {
     "name": "stdin",
     "output_type": "stream",
     "text": [
      "ipdb>  q\n"
     ]
    }
   ],
   "source": [
    "%debug"
   ]
  },
  {
   "cell_type": "code",
   "execution_count": null,
   "id": "ab00413e-ab6f-4ecb-baa3-082e0150210f",
   "metadata": {},
   "outputs": [],
   "source": []
  },
  {
   "cell_type": "markdown",
   "id": "6911d947-0d47-4da1-af53-de44d7bf5ed3",
   "metadata": {},
   "source": [
    "# Look at performance, and improvement from intermediate global tracks"
   ]
  },
  {
   "cell_type": "code",
   "execution_count": 304,
   "id": "5eef1406-e9fc-4a20-b5b9-a29cef2c5be4",
   "metadata": {
    "collapsed": true,
    "jupyter": {
     "outputs_hidden": true
    },
    "tags": []
   },
   "outputs": [
    {
     "name": "stderr",
     "output_type": "stream",
     "text": [
      "INFO:root:File for mode automatic exists at precendence: 1/3\n",
      "INFO:root:Read data from: /scratch/zimmer/Charles/dlc_stacks/worm10-gui_test/3-tracking/postprocessing/combined_3d_tracks.h5\n",
      "INFO:root:Using most recently modified file\n",
      "INFO:root:Starting threads to read data...\n",
      "INFO:root:First time loading the all tracklets, may take a while...\n",
      "WARNING:root:Did not find file /scratch/zimmer/Charles/dlc_stacks/worm10-gui_test/3-tracking/postprocessing/manual_behavior_annotation.xlsx\n",
      "INFO:root:File for mode automatic exists at precendence: 3/3\n",
      "INFO:root:Read data from: /scratch/zimmer/Charles/dlc_stacks/worm10-gui_test/2-training_data/all_tracklets.h5\n",
      "INFO:root:Using most recently modified file\n",
      "INFO:root:File for mode automatic exists at precendence: 2/2\n",
      "INFO:root:Read data from: /scratch/zimmer/Charles/dlc_stacks/worm10-gui_test/3-tracking/global2tracklet.pickle\n",
      "INFO:root:Using most recently modified file\n",
      "DEBUG:root:Removed repeated indices (256 -> 128)\n",
      "DEBUG:root:Original list: ['tracklet_0016883', 'tracklet_0018962', 'tracklet_0001867', 'tracklet_0000628', 'tracklet_0012941', 'tracklet_0013666', 'tracklet_0013815', 'tracklet_0000746', 'tracklet_0017013', 'tracklet_0000329', 'tracklet_0003384', 'tracklet_0011617', 'tracklet_0009479', 'tracklet_0003907', 'tracklet_0017674', 'tracklet_0003692', 'tracklet_0017965', 'tracklet_0011552', 'tracklet_0008914', 'tracklet_0008761', 'tracklet_0006856', 'tracklet_0000277', 'tracklet_0007480', 'tracklet_0012760', 'tracklet_0008474', 'tracklet_0009867', 'tracklet_0016239', 'tracklet_0004379', 'tracklet_0005310', 'tracklet_0016003', 'tracklet_0014460', 'tracklet_0001541', 'tracklet_0010752', 'tracklet_0011422', 'tracklet_0001041', 'tracklet_0012966', 'tracklet_0009538', 'tracklet_0002120', 'tracklet_0013754', 'tracklet_0011797', 'tracklet_0005551', 'tracklet_0009301', 'tracklet_0005838', 'tracklet_0007291', 'tracklet_0011353', 'tracklet_0004747', 'tracklet_0010604', 'tracklet_0006154', 'tracklet_0004503', 'tracklet_0018836', 'tracklet_0015076', 'tracklet_0007442', 'tracklet_0007006', 'tracklet_0017446', 'tracklet_0001309', 'tracklet_0005596', 'tracklet_0011337', 'tracklet_0016093', 'tracklet_0005418', 'tracklet_0000501', 'tracklet_0013470', 'tracklet_0016713', 'tracklet_0017631', 'tracklet_0001404', 'tracklet_0012451', 'tracklet_0013667', 'tracklet_0012409', 'tracklet_0004129', 'tracklet_0012459', 'tracklet_0005038', 'tracklet_0000896', 'tracklet_0003698', 'tracklet_0016761', 'tracklet_0006233', 'tracklet_0007331', 'tracklet_0011451', 'tracklet_0005944', 'tracklet_0003111', 'tracklet_0005746', 'tracklet_0003300', 'tracklet_0017420', 'tracklet_0007716', 'tracklet_0008526', 'tracklet_0017568', 'tracklet_0017048', 'tracklet_0005983', 'tracklet_0001321', 'tracklet_0009164', 'tracklet_0002721', 'tracklet_0002427', 'tracklet_0001429', 'tracklet_0003444', 'tracklet_0008188', 'tracklet_0005565', 'tracklet_0006035', 'tracklet_0007205', 'tracklet_0014371', 'tracklet_0018783', 'tracklet_0018504', 'tracklet_0006472', 'tracklet_0008680', 'tracklet_0010170', 'tracklet_0017209', 'tracklet_0000189', 'tracklet_0005701', 'tracklet_0013056', 'tracklet_0011439', 'tracklet_0009041', 'tracklet_0005133', 'tracklet_0000449', 'tracklet_0014043', 'tracklet_0008781', 'tracklet_0016076', 'tracklet_0002309', 'tracklet_0014189', 'tracklet_0000835', 'tracklet_0002098', 'tracklet_0003949', 'tracklet_0005051', 'tracklet_0017765', 'tracklet_0006087', 'tracklet_0007688', 'tracklet_0008337', 'tracklet_0008835', 'tracklet_0007382', 'tracklet_0018056', 'tracklet_0017406', 'tracklet_0005291', 'tracklet_0013056', 'tracklet_0011617', 'tracklet_0002427', 'tracklet_0004747', 'tracklet_0017013', 'tracklet_0014189', 'tracklet_0005133', 'tracklet_0009479', 'tracklet_0015076', 'tracklet_0007006', 'tracklet_0003692', 'tracklet_0005051', 'tracklet_0017420', 'tracklet_0004503', 'tracklet_0005838', 'tracklet_0016761', 'tracklet_0016076', 'tracklet_0011552', 'tracklet_0011797', 'tracklet_0016093', 'tracklet_0011451', 'tracklet_0009164', 'tracklet_0000449', 'tracklet_0011439', 'tracklet_0012459', 'tracklet_0008914', 'tracklet_0011337', 'tracklet_0016239', 'tracklet_0008337', 'tracklet_0010752', 'tracklet_0001404', 'tracklet_0000189', 'tracklet_0000628', 'tracklet_0017568', 'tracklet_0007382', 'tracklet_0007716', 'tracklet_0007291', 'tracklet_0012760', 'tracklet_0006233', 'tracklet_0005983', 'tracklet_0018962', 'tracklet_0003384', 'tracklet_0000501', 'tracklet_0009867', 'tracklet_0016713', 'tracklet_0013470', 'tracklet_0004379', 'tracklet_0000277', 'tracklet_0000746', 'tracklet_0007688', 'tracklet_0006472', 'tracklet_0013815', 'tracklet_0009538', 'tracklet_0005418', 'tracklet_0004129', 'tracklet_0012941', 'tracklet_0017048', 'tracklet_0005746', 'tracklet_0001041', 'tracklet_0017209', 'tracklet_0002120', 'tracklet_0017631', 'tracklet_0002098', 'tracklet_0018783', 'tracklet_0011422', 'tracklet_0005701', 'tracklet_0006154', 'tracklet_0001309', 'tracklet_0001429', 'tracklet_0003907', 'tracklet_0010604', 'tracklet_0013754', 'tracklet_0003111', 'tracklet_0012451', 'tracklet_0005038', 'tracklet_0017965', 'tracklet_0017765', 'tracklet_0017446', 'tracklet_0012409', 'tracklet_0003444', 'tracklet_0007442', 'tracklet_0008526', 'tracklet_0001541', 'tracklet_0017406', 'tracklet_0010170', 'tracklet_0002721', 'tracklet_0008761', 'tracklet_0006087', 'tracklet_0007480', 'tracklet_0006035', 'tracklet_0016883', 'tracklet_0005551', 'tracklet_0005291', 'tracklet_0016003', 'tracklet_0008474', 'tracklet_0018056', 'tracklet_0003698', 'tracklet_0009301', 'tracklet_0008781', 'tracklet_0018836', 'tracklet_0008188', 'tracklet_0005565', 'tracklet_0014371', 'tracklet_0008680', 'tracklet_0005310', 'tracklet_0018504', 'tracklet_0009041', 'tracklet_0014460', 'tracklet_0013666', 'tracklet_0002309', 'tracklet_0003300', 'tracklet_0005944', 'tracklet_0000896', 'tracklet_0000835', 'tracklet_0000329', 'tracklet_0007205', 'tracklet_0013667', 'tracklet_0011353', 'tracklet_0007331', 'tracklet_0014043', 'tracklet_0001321', 'tracklet_0012966', 'tracklet_0001867', 'tracklet_0008835', 'tracklet_0005596', 'tracklet_0003949', 'tracklet_0006856', 'tracklet_0017674']\n",
      "DEBUG:root:Removed repeated indices (38 -> 19)\n",
      "DEBUG:root:Original list: ['tracklet_0002192', 'tracklet_0007134', 'tracklet_0010676', 'tracklet_0010748', 'tracklet_0008658', 'tracklet_0000801', 'tracklet_0003830', 'tracklet_0007601', 'tracklet_0010060', 'tracklet_0017450', 'tracklet_0013444', 'tracklet_0016410', 'tracklet_0015611', 'tracklet_0018337', 'tracklet_0009904', 'tracklet_0002840', 'tracklet_0000000', 'tracklet_0007143', 'tracklet_0015347', 'tracklet_0002192', 'tracklet_0013444', 'tracklet_0002840', 'tracklet_0000000', 'tracklet_0015347', 'tracklet_0007134', 'tracklet_0018337', 'tracklet_0008658', 'tracklet_0017450', 'tracklet_0007601', 'tracklet_0015611', 'tracklet_0010676', 'tracklet_0009904', 'tracklet_0000801', 'tracklet_0010748', 'tracklet_0007143', 'tracklet_0003830', 'tracklet_0010060', 'tracklet_0016410']\n",
      "DEBUG:root:Removed repeated indices (2 -> 1)\n",
      "DEBUG:root:Original list: ['tracklet_0014518', 'tracklet_0014518']\n",
      "DEBUG:root:Removed repeated indices (70 -> 35)\n",
      "DEBUG:root:Original list: ['tracklet_0007342', 'tracklet_0004374', 'tracklet_0012405', 'tracklet_0018430', 'tracklet_0007899', 'tracklet_0016981', 'tracklet_0018099', 'tracklet_0013218', 'tracklet_0010315', 'tracklet_0002146', 'tracklet_0006479', 'tracklet_0012464', 'tracklet_0010120', 'tracklet_0003224', 'tracklet_0007201', 'tracklet_0010516', 'tracklet_0008500', 'tracklet_0004150', 'tracklet_0016722', 'tracklet_0017217', 'tracklet_0003878', 'tracklet_0014001', 'tracklet_0005533', 'tracklet_0017362', 'tracklet_0010236', 'tracklet_0007219', 'tracklet_0018798', 'tracklet_0001227', 'tracklet_0003550', 'tracklet_0005180', 'tracklet_0004535', 'tracklet_0005504', 'tracklet_0000763', 'tracklet_0004639', 'tracklet_0012996', 'tracklet_0000763', 'tracklet_0017362', 'tracklet_0005533', 'tracklet_0018099', 'tracklet_0010120', 'tracklet_0004374', 'tracklet_0008500', 'tracklet_0005180', 'tracklet_0018798', 'tracklet_0013218', 'tracklet_0002146', 'tracklet_0003550', 'tracklet_0007899', 'tracklet_0010315', 'tracklet_0005504', 'tracklet_0004639', 'tracklet_0003878', 'tracklet_0007342', 'tracklet_0017217', 'tracklet_0016981', 'tracklet_0012464', 'tracklet_0014001', 'tracklet_0007201', 'tracklet_0006479', 'tracklet_0010236', 'tracklet_0007219', 'tracklet_0003224', 'tracklet_0004535', 'tracklet_0012405', 'tracklet_0010516', 'tracklet_0001227', 'tracklet_0012996', 'tracklet_0018430', 'tracklet_0004150', 'tracklet_0016722']\n",
      "DEBUG:root:Removed repeated indices (2 -> 1)\n",
      "DEBUG:root:Original list: ['tracklet_0014845', 'tracklet_0014845']\n",
      "DEBUG:root:Removed repeated indices (2 -> 1)\n",
      "DEBUG:root:Original list: ['tracklet_0013632', 'tracklet_0013632']\n",
      "DEBUG:root:Removed repeated indices (40 -> 20)\n",
      "DEBUG:root:Original list: ['tracklet_0000651', 'tracklet_0007141', 'tracklet_0015526', 'tracklet_0000398', 'tracklet_0007368', 'tracklet_0008086', 'tracklet_0011543', 'tracklet_0006288', 'tracklet_0007388', 'tracklet_0010753', 'tracklet_0000468', 'tracklet_0012413', 'tracklet_0006392', 'tracklet_0000723', 'tracklet_0018638', 'tracklet_0003913', 'tracklet_0004665', 'tracklet_0007657', 'tracklet_0008055', 'tracklet_0016660', 'tracklet_0006288', 'tracklet_0011543', 'tracklet_0015526', 'tracklet_0003913', 'tracklet_0004665', 'tracklet_0008086', 'tracklet_0000651', 'tracklet_0007141', 'tracklet_0000468', 'tracklet_0010753', 'tracklet_0007368', 'tracklet_0018638', 'tracklet_0000723', 'tracklet_0012413', 'tracklet_0008055', 'tracklet_0006392', 'tracklet_0007388', 'tracklet_0016660', 'tracklet_0007657', 'tracklet_0000398']\n",
      "DEBUG:root:Removed repeated indices (2 -> 1)\n",
      "DEBUG:root:Original list: ['tracklet_0014904', 'tracklet_0014904']\n",
      "DEBUG:root:Removed repeated indices (2 -> 1)\n",
      "DEBUG:root:Original list: ['tracklet_0014713', 'tracklet_0014713']\n",
      "DEBUG:root:Removed repeated indices (2 -> 1)\n",
      "DEBUG:root:Original list: ['tracklet_0013304', 'tracklet_0013304']\n",
      "DEBUG:root:Removed repeated indices (2 -> 1)\n",
      "DEBUG:root:Original list: ['tracklet_0014858', 'tracklet_0014858']\n",
      "DEBUG:root:Removed repeated indices (2 -> 1)\n",
      "DEBUG:root:Original list: ['tracklet_0014916', 'tracklet_0014916']\n",
      "DEBUG:root:Removed repeated indices (2 -> 1)\n",
      "DEBUG:root:Original list: ['tracklet_0014954', 'tracklet_0014954']\n",
      "DEBUG:root:Removed repeated indices (2 -> 1)\n",
      "DEBUG:root:Original list: ['tracklet_0014753', 'tracklet_0014753']\n",
      "DEBUG:root:Removed repeated indices (2 -> 1)\n",
      "DEBUG:root:Original list: ['tracklet_0014834', 'tracklet_0014834']\n",
      "DEBUG:root:Removed repeated indices (2 -> 1)\n",
      "DEBUG:root:Original list: ['tracklet_0014758', 'tracklet_0014758']\n",
      "DEBUG:root:Removed repeated indices (2 -> 1)\n",
      "DEBUG:root:Original list: ['tracklet_0014733', 'tracklet_0014733']\n",
      "DEBUG:root:Removed repeated indices (2 -> 1)\n",
      "DEBUG:root:Original list: ['tracklet_0014548', 'tracklet_0014548']\n",
      "DEBUG:root:Removed repeated indices (2 -> 1)\n",
      "DEBUG:root:Original list: ['tracklet_0012460', 'tracklet_0012460']\n",
      "DEBUG:root:Removed repeated indices (2 -> 1)\n",
      "DEBUG:root:Original list: ['tracklet_0013886', 'tracklet_0013886']\n",
      "DEBUG:root:Removed repeated indices (2 -> 1)\n",
      "DEBUG:root:Original list: ['tracklet_0014553', 'tracklet_0014553']\n",
      "DEBUG:root:Removed repeated indices (2 -> 1)\n",
      "DEBUG:root:Original list: ['tracklet_0013870', 'tracklet_0013870']\n",
      "DEBUG:root:Removed repeated indices (2 -> 1)\n",
      "DEBUG:root:Original list: ['tracklet_0014766', 'tracklet_0014766']\n",
      "DEBUG:root:Removed repeated indices (2 -> 1)\n",
      "DEBUG:root:Original list: ['tracklet_0014732', 'tracklet_0014732']\n",
      "DEBUG:root:Removed repeated indices (2 -> 1)\n",
      "DEBUG:root:Original list: ['tracklet_0014897', 'tracklet_0014897']\n",
      "DEBUG:root:Removed repeated indices (2 -> 1)\n",
      "DEBUG:root:Original list: ['tracklet_0014772', 'tracklet_0014772']\n",
      "DEBUG:root:Removed repeated indices (2 -> 1)\n",
      "DEBUG:root:Original list: ['tracklet_0014865', 'tracklet_0014865']\n",
      "DEBUG:root:Removed repeated indices (2 -> 1)\n",
      "DEBUG:root:Original list: ['tracklet_0014905', 'tracklet_0014905']\n",
      "DEBUG:root:Removed repeated indices (2 -> 1)\n",
      "DEBUG:root:Original list: ['tracklet_0014926', 'tracklet_0014926']\n",
      "DEBUG:root:Removed repeated indices (2 -> 1)\n",
      "DEBUG:root:Original list: ['tracklet_0014802', 'tracklet_0014802']\n",
      "DEBUG:root:Removed repeated indices (2 -> 1)\n",
      "DEBUG:root:Original list: ['tracklet_0014951', 'tracklet_0014951']\n",
      "DEBUG:root:Removed repeated indices (2 -> 1)\n",
      "DEBUG:root:Original list: ['tracklet_0014729', 'tracklet_0014729']\n",
      "DEBUG:root:Removed repeated indices (2 -> 1)\n",
      "DEBUG:root:Original list: ['tracklet_0014072', 'tracklet_0014072']\n",
      "DEBUG:root:Removed repeated indices (2 -> 1)\n",
      "DEBUG:root:Original list: ['tracklet_0014836', 'tracklet_0014836']\n",
      "DEBUG:root:Removed repeated indices (2 -> 1)\n",
      "DEBUG:root:Original list: ['tracklet_0014771', 'tracklet_0014771']\n",
      "DEBUG:root:Removed repeated indices (2 -> 1)\n",
      "DEBUG:root:Original list: ['tracklet_0014915', 'tracklet_0014915']\n",
      "DEBUG:root:Removed repeated indices (2 -> 1)\n",
      "DEBUG:root:Original list: ['tracklet_0014839', 'tracklet_0014839']\n",
      "DEBUG:root:Removed repeated indices (2 -> 1)\n",
      "DEBUG:root:Original list: ['tracklet_0014202', 'tracklet_0014202']\n",
      "DEBUG:root:Removed repeated indices (2 -> 1)\n",
      "DEBUG:root:Original list: ['tracklet_0014592', 'tracklet_0014592']\n",
      "DEBUG:root:Removed repeated indices (2 -> 1)\n",
      "DEBUG:root:Original list: ['tracklet_0014869', 'tracklet_0014869']\n",
      "DEBUG:root:Removed repeated indices (2 -> 1)\n",
      "DEBUG:root:Original list: ['tracklet_0014934', 'tracklet_0014934']\n",
      "DEBUG:root:Removed repeated indices (2 -> 1)\n",
      "DEBUG:root:Original list: ['tracklet_0012446', 'tracklet_0012446']\n",
      "DEBUG:root:Removed repeated indices (2 -> 1)\n",
      "DEBUG:root:Original list: ['tracklet_0014614', 'tracklet_0014614']\n",
      "DEBUG:root:Removed repeated indices (2 -> 1)\n",
      "DEBUG:root:Original list: ['tracklet_0014932', 'tracklet_0014932']\n",
      "DEBUG:root:Removed repeated indices (2 -> 1)\n",
      "DEBUG:root:Original list: ['tracklet_0014812', 'tracklet_0014812']\n",
      "DEBUG:root:Removed repeated indices (2 -> 1)\n",
      "DEBUG:root:Original list: ['tracklet_0014739', 'tracklet_0014739']\n",
      "DEBUG:root:Removed repeated indices (2 -> 1)\n",
      "DEBUG:root:Original list: ['tracklet_0014949', 'tracklet_0014949']\n",
      "DEBUG:root:Removed repeated indices (2 -> 1)\n",
      "DEBUG:root:Original list: ['tracklet_0014589', 'tracklet_0014589']\n",
      "DEBUG:root:Removed repeated indices (2 -> 1)\n",
      "DEBUG:root:Original list: ['tracklet_0014055', 'tracklet_0014055']\n",
      "DEBUG:root:Removed repeated indices (2 -> 1)\n",
      "DEBUG:root:Original list: ['tracklet_0014955', 'tracklet_0014955']\n",
      "DEBUG:root:Removed repeated indices (2 -> 1)\n",
      "DEBUG:root:Original list: ['tracklet_0014879', 'tracklet_0014879']\n",
      "DEBUG:root:Removed repeated indices (2 -> 1)\n",
      "DEBUG:root:Original list: ['tracklet_0014923', 'tracklet_0014923']\n",
      "DEBUG:root:Removed repeated indices (2 -> 1)\n",
      "DEBUG:root:Original list: ['tracklet_0014931', 'tracklet_0014931']\n",
      "DEBUG:root:Removed repeated indices (2 -> 1)\n",
      "DEBUG:root:Original list: ['tracklet_0014752', 'tracklet_0014752']\n",
      "DEBUG:root:Removed repeated indices (2 -> 1)\n",
      "DEBUG:root:Original list: ['tracklet_0014461', 'tracklet_0014461']\n",
      "DEBUG:root:Removed repeated indices (2 -> 1)\n",
      "DEBUG:root:Original list: ['tracklet_0014958', 'tracklet_0014958']\n",
      "DEBUG:root:Removed repeated indices (2 -> 1)\n",
      "DEBUG:root:Original list: ['tracklet_0014838', 'tracklet_0014838']\n",
      "DEBUG:root:Removed repeated indices (2 -> 1)\n",
      "DEBUG:root:Original list: ['tracklet_0013247', 'tracklet_0013247']\n",
      "DEBUG:root:Removed repeated indices (2 -> 1)\n",
      "DEBUG:root:Original list: ['tracklet_0014808', 'tracklet_0014808']\n",
      "DEBUG:root:Removed repeated indices (2 -> 1)\n",
      "DEBUG:root:Original list: ['tracklet_0014855', 'tracklet_0014855']\n",
      "DEBUG:root:Removed repeated indices (2 -> 1)\n",
      "DEBUG:root:Original list: ['tracklet_0014910', 'tracklet_0014910']\n",
      "DEBUG:root:Removed repeated indices (2 -> 1)\n",
      "DEBUG:root:Original list: ['tracklet_0014828', 'tracklet_0014828']\n",
      "DEBUG:root:Removed repeated indices (2 -> 1)\n",
      "DEBUG:root:Original list: ['tracklet_0014345', 'tracklet_0014345']\n",
      "DEBUG:root:Removed repeated indices (2 -> 1)\n",
      "DEBUG:root:Original list: ['tracklet_0014959', 'tracklet_0014959']\n",
      "DEBUG:root:Removed repeated indices (2 -> 1)\n",
      "DEBUG:root:Original list: ['tracklet_0014929', 'tracklet_0014929']\n",
      "DEBUG:root:Removed repeated indices (2 -> 1)\n",
      "DEBUG:root:Original list: ['tracklet_0014791', 'tracklet_0014791']\n",
      "DEBUG:root:Removed repeated indices (2 -> 1)\n",
      "DEBUG:root:Original list: ['tracklet_0012478', 'tracklet_0012478']\n",
      "DEBUG:root:Removed repeated indices (2 -> 1)\n",
      "DEBUG:root:Original list: ['tracklet_0014821', 'tracklet_0014821']\n",
      "DEBUG:root:Removed repeated indices (2 -> 1)\n",
      "DEBUG:root:Original list: ['tracklet_0014826', 'tracklet_0014826']\n",
      "DEBUG:root:Removed repeated indices (2 -> 1)\n",
      "DEBUG:root:Original list: ['tracklet_0014875', 'tracklet_0014875']\n",
      "DEBUG:root:Removed repeated indices (2 -> 1)\n",
      "DEBUG:root:Original list: ['tracklet_0014849', 'tracklet_0014849']\n",
      "DEBUG:root:Removed repeated indices (2 -> 1)\n",
      "DEBUG:root:Original list: ['tracklet_0014735', 'tracklet_0014735']\n",
      "DEBUG:root:Removed repeated indices (2 -> 1)\n",
      "DEBUG:root:Original list: ['tracklet_0014862', 'tracklet_0014862']\n",
      "DEBUG:root:Removed repeated indices (2 -> 1)\n",
      "DEBUG:root:Original list: ['tracklet_0014895', 'tracklet_0014895']\n",
      "DEBUG:root:Removed repeated indices (2 -> 1)\n",
      "DEBUG:root:Original list: ['tracklet_0014952', 'tracklet_0014952']\n",
      "DEBUG:root:Removed repeated indices (2 -> 1)\n",
      "DEBUG:root:Original list: ['tracklet_0014903', 'tracklet_0014903']\n",
      "DEBUG:root:Removed repeated indices (2 -> 1)\n",
      "DEBUG:root:Original list: ['tracklet_0012437', 'tracklet_0012437']\n",
      "DEBUG:root:Removed repeated indices (2 -> 1)\n",
      "DEBUG:root:Original list: ['tracklet_0013383', 'tracklet_0013383']\n",
      "DEBUG:root:Removed repeated indices (2 -> 1)\n",
      "DEBUG:root:Original list: ['tracklet_0014583', 'tracklet_0014583']\n",
      "DEBUG:root:Removed repeated indices (2 -> 1)\n",
      "DEBUG:root:Original list: ['tracklet_0014825', 'tracklet_0014825']\n",
      "DEBUG:root:Removed repeated indices (2 -> 1)\n",
      "DEBUG:root:Original list: ['tracklet_0012452', 'tracklet_0012452']\n",
      "DEBUG:root:Removed repeated indices (2 -> 1)\n",
      "DEBUG:root:Original list: ['tracklet_0014884', 'tracklet_0014884']\n",
      "DEBUG:root:Removed repeated indices (2 -> 1)\n",
      "DEBUG:root:Original list: ['tracklet_0014854', 'tracklet_0014854']\n",
      "DEBUG:root:Removed repeated indices (2 -> 1)\n",
      "DEBUG:root:Original list: ['tracklet_0014930', 'tracklet_0014930']\n",
      "DEBUG:root:Removed repeated indices (2 -> 1)\n",
      "DEBUG:root:Original list: ['tracklet_0014925', 'tracklet_0014925']\n",
      "DEBUG:root:Removed repeated indices (2 -> 1)\n",
      "DEBUG:root:Original list: ['tracklet_0014283', 'tracklet_0014283']\n",
      "DEBUG:root:Removed repeated indices (2 -> 1)\n",
      "DEBUG:root:Original list: ['tracklet_0014935', 'tracklet_0014935']\n",
      "DEBUG:root:Removed repeated indices (2 -> 1)\n",
      "DEBUG:root:Original list: ['tracklet_0014900', 'tracklet_0014900']\n",
      "DEBUG:root:Removed repeated indices (2 -> 1)\n",
      "DEBUG:root:Original list: ['tracklet_0014947', 'tracklet_0014947']\n",
      "DEBUG:root:Removed repeated indices (2 -> 1)\n",
      "DEBUG:root:Original list: ['tracklet_0013974', 'tracklet_0013974']\n",
      "DEBUG:root:Removed repeated indices (2 -> 1)\n",
      "DEBUG:root:Original list: ['tracklet_0014702', 'tracklet_0014702']\n",
      "DEBUG:root:Removed repeated indices (2 -> 1)\n",
      "DEBUG:root:Original list: ['tracklet_0014228', 'tracklet_0014228']\n",
      "DEBUG:root:Removed repeated indices (2 -> 1)\n",
      "DEBUG:root:Original list: ['tracklet_0014906', 'tracklet_0014906']\n",
      "DEBUG:root:Removed repeated indices (2 -> 1)\n",
      "DEBUG:root:Original list: ['tracklet_0014686', 'tracklet_0014686']\n",
      "DEBUG:root:Removed repeated indices (2 -> 1)\n",
      "DEBUG:root:Original list: ['tracklet_0014921', 'tracklet_0014921']\n",
      "DEBUG:root:Removed repeated indices (2 -> 1)\n",
      "DEBUG:root:Original list: ['tracklet_0012499', 'tracklet_0012499']\n",
      "DEBUG:root:Removed repeated indices (2 -> 1)\n",
      "DEBUG:root:Original list: ['tracklet_0012416', 'tracklet_0012416']\n",
      "DEBUG:root:Removed repeated indices (2 -> 1)\n",
      "DEBUG:root:Original list: ['tracklet_0014853', 'tracklet_0014853']\n",
      "DEBUG:root:Removed repeated indices (2 -> 1)\n",
      "DEBUG:root:Original list: ['tracklet_0014750', 'tracklet_0014750']\n",
      "DEBUG:root:Removed repeated indices (2 -> 1)\n",
      "DEBUG:root:Original list: ['tracklet_0013940', 'tracklet_0013940']\n",
      "DEBUG:root:Removed repeated indices (2 -> 1)\n",
      "DEBUG:root:Original list: ['tracklet_0014870', 'tracklet_0014870']\n",
      "DEBUG:root:Removed repeated indices (2 -> 1)\n",
      "DEBUG:root:Original list: ['tracklet_0014908', 'tracklet_0014908']\n",
      "DEBUG:root:Removed repeated indices (2 -> 1)\n",
      "DEBUG:root:Original list: ['tracklet_0014835', 'tracklet_0014835']\n",
      "DEBUG:root:Removed repeated indices (2 -> 1)\n",
      "DEBUG:root:Original list: ['tracklet_0012414', 'tracklet_0012414']\n",
      "DEBUG:root:Removed repeated indices (2 -> 1)\n",
      "DEBUG:root:Original list: ['tracklet_0014872', 'tracklet_0014872']\n",
      "DEBUG:root:Removed repeated indices (2 -> 1)\n",
      "DEBUG:root:Original list: ['tracklet_0012429', 'tracklet_0012429']\n",
      "DEBUG:root:Removed repeated indices (2 -> 1)\n",
      "DEBUG:root:Original list: ['tracklet_0013883', 'tracklet_0013883']\n",
      "DEBUG:root:Removed repeated indices (2 -> 1)\n",
      "DEBUG:root:Original list: ['tracklet_0014167', 'tracklet_0014167']\n",
      "DEBUG:root:Removed repeated indices (2 -> 1)\n",
      "DEBUG:root:Original list: ['tracklet_0013968', 'tracklet_0013968']\n",
      "DEBUG:root:Removed repeated indices (2 -> 1)\n",
      "DEBUG:root:Original list: ['tracklet_0012482', 'tracklet_0012482']\n",
      "DEBUG:root:Removed repeated indices (2 -> 1)\n",
      "DEBUG:root:Original list: ['tracklet_0014578', 'tracklet_0014578']\n",
      "DEBUG:root:Removed repeated indices (2 -> 1)\n",
      "DEBUG:root:Original list: ['tracklet_0013864', 'tracklet_0013864']\n",
      "DEBUG:root:Removed repeated indices (2 -> 1)\n",
      "DEBUG:root:Original list: ['tracklet_0014789', 'tracklet_0014789']\n",
      "DEBUG:root:Removed repeated indices (2 -> 1)\n",
      "DEBUG:root:Original list: ['tracklet_0014561', 'tracklet_0014561']\n",
      "DEBUG:root:Removed repeated indices (2 -> 1)\n",
      "DEBUG:root:Original list: ['tracklet_0014700', 'tracklet_0014700']\n",
      "DEBUG:root:Removed repeated indices (2 -> 1)\n",
      "DEBUG:root:Original list: ['tracklet_0014898', 'tracklet_0014898']\n",
      "DEBUG:root:Removed repeated indices (2 -> 1)\n",
      "DEBUG:root:Original list: ['tracklet_0014846', 'tracklet_0014846']\n",
      "DEBUG:root:Removed repeated indices (2 -> 1)\n",
      "DEBUG:root:Original list: ['tracklet_0014761', 'tracklet_0014761']\n",
      "DEBUG:root:Removed repeated indices (2 -> 1)\n",
      "DEBUG:root:Original list: ['tracklet_0012493', 'tracklet_0012493']\n",
      "DEBUG:root:Removed repeated indices (2 -> 1)\n",
      "DEBUG:root:Original list: ['tracklet_0014948', 'tracklet_0014948']\n",
      "DEBUG:root:Removed repeated indices (2 -> 1)\n",
      "DEBUG:root:Original list: ['tracklet_0014813', 'tracklet_0014813']\n",
      "DEBUG:root:Removed repeated indices (2 -> 1)\n",
      "DEBUG:root:Original list: ['tracklet_0013537', 'tracklet_0013537']\n",
      "DEBUG:root:Removed repeated indices (2 -> 1)\n",
      "DEBUG:root:Original list: ['tracklet_0014924', 'tracklet_0014924']\n",
      "DEBUG:root:Removed repeated indices (2 -> 1)\n",
      "DEBUG:root:Original list: ['tracklet_0012502', 'tracklet_0012502']\n",
      "DEBUG:root:Removed repeated indices (2 -> 1)\n",
      "DEBUG:root:Original list: ['tracklet_0014720', 'tracklet_0014720']\n",
      "DEBUG:root:Removed repeated indices (2 -> 1)\n",
      "DEBUG:root:Original list: ['tracklet_0014902', 'tracklet_0014902']\n",
      "DEBUG:root:Removed repeated indices (2 -> 1)\n",
      "DEBUG:root:Original list: ['tracklet_0012498', 'tracklet_0012498']\n",
      "DEBUG:root:Removed repeated indices (2 -> 1)\n",
      "DEBUG:root:Original list: ['tracklet_0014780', 'tracklet_0014780']\n",
      "DEBUG:root:Removed repeated indices (2 -> 1)\n",
      "DEBUG:root:Original list: ['tracklet_0014956', 'tracklet_0014956']\n",
      "DEBUG:root:Removed repeated indices (2 -> 1)\n",
      "DEBUG:root:Original list: ['tracklet_0014790', 'tracklet_0014790']\n",
      "DEBUG:root:Removed repeated indices (2 -> 1)\n",
      "DEBUG:root:Original list: ['tracklet_0014871', 'tracklet_0014871']\n",
      "DEBUG:root:Removed repeated indices (2 -> 1)\n",
      "DEBUG:root:Original list: ['tracklet_0014159', 'tracklet_0014159']\n",
      "DEBUG:root:Removed repeated indices (2 -> 1)\n",
      "DEBUG:root:Original list: ['tracklet_0014466', 'tracklet_0014466']\n",
      "DEBUG:root:Removed repeated indices (2 -> 1)\n",
      "DEBUG:root:Original list: ['tracklet_0013265', 'tracklet_0013265']\n",
      "DEBUG:root:Removed repeated indices (2 -> 1)\n",
      "DEBUG:root:Original list: ['tracklet_0014933', 'tracklet_0014933']\n",
      "DEBUG:root:Removed repeated indices (2 -> 1)\n",
      "DEBUG:root:Original list: ['tracklet_0013858', 'tracklet_0013858']\n",
      "DEBUG:root:Removed repeated indices (2 -> 1)\n",
      "DEBUG:root:Original list: ['tracklet_0014851', 'tracklet_0014851']\n",
      "DEBUG:root:Removed repeated indices (2 -> 1)\n",
      "DEBUG:root:Original list: ['tracklet_0014693', 'tracklet_0014693']\n",
      "DEBUG:root:Removed repeated indices (2 -> 1)\n",
      "DEBUG:root:Original list: ['tracklet_0014944', 'tracklet_0014944']\n",
      "DEBUG:root:Removed repeated indices (2 -> 1)\n",
      "DEBUG:root:Original list: ['tracklet_0014473', 'tracklet_0014473']\n",
      "DEBUG:root:Removed repeated indices (2 -> 1)\n",
      "DEBUG:root:Original list: ['tracklet_0014907', 'tracklet_0014907']\n",
      "DEBUG:root:Removed repeated indices (2 -> 1)\n",
      "DEBUG:root:Original list: ['tracklet_0014655', 'tracklet_0014655']\n",
      "DEBUG:root:Removed repeated indices (2 -> 1)\n",
      "DEBUG:root:Original list: ['tracklet_0014893', 'tracklet_0014893']\n",
      "DEBUG:root:Removed repeated indices (2 -> 1)\n",
      "DEBUG:root:Original list: ['tracklet_0014819', 'tracklet_0014819']\n",
      "WARNING:root:Did not find file /scratch/zimmer/Charles/dlc_stacks/worm10-gui_test/3-tracking/manual_annotation/split_names.pickle\n",
      "WARNING:root:Did not find file /scratch/zimmer/Charles/dlc_stacks/worm10-gui_test/3-tracking/manual_annotation/split_times.pickle\n",
      "INFO:root:First time loading the raw cluster dataframe, may take a while...\n"
     ]
    },
    {
     "name": "stdout",
     "output_type": "stream",
     "text": [
      "Output files for annotator: /scratch/zimmer/Charles/dlc_stacks/worm10-gui_test/3-tracking/manual_annotation/global2tracklet_manual.pickle, /scratch/zimmer/Charles/dlc_stacks/worm10-gui_test/3-tracking/manual_annotation/manually_split_tracklets.h5, /scratch/zimmer/Charles/dlc_stacks/worm10-gui_test/3-tracking/manual_annotation/split_names.pickle, /scratch/zimmer/Charles/dlc_stacks/worm10-gui_test/3-tracking/manual_annotation/split_times.pickle\n"
     ]
    },
    {
     "name": "stderr",
     "output_type": "stream",
     "text": [
      "INFO:root:Read all data\n"
     ]
    },
    {
     "name": "stdout",
     "output_type": "stream",
     "text": [
      "=======================================\n",
      "Project data for directory:\n",
      "/scratch/zimmer/Charles/dlc_stacks/worm10-gui_test \n",
      "Found the following data files:\n",
      "============Raw========================\n",
      "red_data:                 True\n",
      "green_data:               True\n",
      "============Annotations================\n",
      "behavior_annotations:     False\n",
      "============Training================\n",
      "df_training_tracklets:    True\n",
      "============Segmentation===============\n",
      "raw_segmentation:         True\n",
      "colored_segmentation:     True\n",
      "============Traces=====================\n",
      "red_traces:               True\n",
      "green_traces:             True\n",
      "\n"
     ]
    }
   ],
   "source": [
    "fname = \"/scratch/zimmer/Charles/dlc_stacks/worm10-gui_test/project_config.yaml\"\n",
    "project_data_final = ProjectData.load_final_project_data_from_config(fname, to_load_tracklets=True)"
   ]
  },
  {
   "cell_type": "code",
   "execution_count": 322,
   "id": "523ab6dc-d6a4-438d-93c7-407cb2f4b55a",
   "metadata": {},
   "outputs": [
    {
     "data": {
      "text/plain": [
       "array([    0.,   801.,  2192.,  2840.,  3830.,  7134.,  7143.,  7601.,\n",
       "        8658.,  9904., 10676., 10748., 13444., 15347., 16410., 17450.,\n",
       "       18337.])"
      ]
     },
     "execution_count": 322,
     "metadata": {},
     "output_type": "execute_result"
    }
   ],
   "source": [
    "df_global_tracks = project_data_final.intermediate_global_tracks\n",
    "df_final = project_data_final.final_tracks\n",
    "np.unique(df_final['neuron_001']['raw_tracklet_id'].dropna())"
   ]
  },
  {
   "cell_type": "code",
   "execution_count": 308,
   "id": "7c3e9559-fc1b-4ed0-a4ab-0bd722a86b6a",
   "metadata": {},
   "outputs": [
    {
     "data": {
      "text/plain": [
       "<matplotlib.axes._subplots.AxesSubplot at 0x7fde2ba06290>"
      ]
     },
     "execution_count": 308,
     "metadata": {},
     "output_type": "execute_result"
    },
    {
     "data": {
      "image/png": "[encoded data removed]",
      "text/plain": [
       "<Figure size 3240x360 with 1 Axes>"
      ]
     },
     "metadata": {
      "needs_background": "light"
     },
     "output_type": "display_data"
    }
   ],
   "source": [
    "n = 'neuron_001'\n",
    "\n",
    "plt.figure(figsize=(45,5))\n",
    "df_global_tracks[n]['z'].replace(0, np.nan).plot()\n",
    "df_new[n]['z'].plot()\n",
    "df_final[n]['z'].plot()"
   ]
  },
  {
   "cell_type": "code",
   "execution_count": 309,
   "id": "eb0f7dc6-00e5-4c52-bba3-5661b8f9a46d",
   "metadata": {},
   "outputs": [
    {
     "data": {
      "text/plain": [
       "[1992, 1993, 1994, 1995, 1996, 1997, 1998, 1999, 2000, 2001]"
      ]
     },
     "execution_count": 309,
     "metadata": {},
     "output_type": "execute_result"
    }
   ],
   "source": [
    "project_data.which_training_frames"
   ]
  },
  {
   "cell_type": "code",
   "execution_count": 310,
   "id": "56614248-ebe4-4ba9-8eab-c6755512fe9f",
   "metadata": {},
   "outputs": [
    {
     "data": {
      "text/html": [
       "<div>\n",
       "<style scoped>\n",
       "    .dataframe tbody tr th:only-of-type {\n",
       "        vertical-align: middle;\n",
       "    }\n",
       "\n",
       "    .dataframe tbody tr th {\n",
       "        vertical-align: top;\n",
       "    }\n",
       "\n",
       "    .dataframe thead tr th {\n",
       "        text-align: left;\n",
       "    }\n",
       "</style>\n",
       "<table border=\"1\" class=\"dataframe\">\n",
       "  <thead>\n",
       "    <tr>\n",
       "      <th>bodyparts</th>\n",
       "      <th colspan=\"7\" halign=\"left\">tracklet_0012358</th>\n",
       "      <th colspan=\"3\" halign=\"left\">tracklet_0012405</th>\n",
       "      <th>...</th>\n",
       "      <th colspan=\"3\" halign=\"left\">tracklet_0014958</th>\n",
       "      <th colspan=\"7\" halign=\"left\">tracklet_0014959</th>\n",
       "    </tr>\n",
       "    <tr>\n",
       "      <th>coords</th>\n",
       "      <th>z</th>\n",
       "      <th>x</th>\n",
       "      <th>y</th>\n",
       "      <th>likelihood</th>\n",
       "      <th>raw_neuron_id</th>\n",
       "      <th>brightness_red</th>\n",
       "      <th>volume</th>\n",
       "      <th>z</th>\n",
       "      <th>x</th>\n",
       "      <th>y</th>\n",
       "      <th>...</th>\n",
       "      <th>raw_neuron_id</th>\n",
       "      <th>brightness_red</th>\n",
       "      <th>volume</th>\n",
       "      <th>z</th>\n",
       "      <th>x</th>\n",
       "      <th>y</th>\n",
       "      <th>likelihood</th>\n",
       "      <th>raw_neuron_id</th>\n",
       "      <th>brightness_red</th>\n",
       "      <th>volume</th>\n",
       "    </tr>\n",
       "  </thead>\n",
       "  <tbody>\n",
       "    <tr>\n",
       "      <th>0</th>\n",
       "      <td>11.938685</td>\n",
       "      <td>460.630640</td>\n",
       "      <td>579.105540</td>\n",
       "      <td>0.509339</td>\n",
       "      <td>106.0</td>\n",
       "      <td>34641.0</td>\n",
       "      <td>1071.0</td>\n",
       "      <td>6.855850</td>\n",
       "      <td>260.534651</td>\n",
       "      <td>501.272936</td>\n",
       "      <td>...</td>\n",
       "      <td>171.0</td>\n",
       "      <td>5621.0</td>\n",
       "      <td>317.0</td>\n",
       "      <td>17.994650</td>\n",
       "      <td>611.562193</td>\n",
       "      <td>671.065091</td>\n",
       "      <td>0.298282</td>\n",
       "      <td>174.0</td>\n",
       "      <td>2243.0</td>\n",
       "      <td>110.0</td>\n",
       "    </tr>\n",
       "    <tr>\n",
       "      <th>1</th>\n",
       "      <td>11.768766</td>\n",
       "      <td>459.930506</td>\n",
       "      <td>587.662247</td>\n",
       "      <td>0.603110</td>\n",
       "      <td>98.0</td>\n",
       "      <td>31600.0</td>\n",
       "      <td>895.0</td>\n",
       "      <td>6.922629</td>\n",
       "      <td>260.707140</td>\n",
       "      <td>495.506856</td>\n",
       "      <td>...</td>\n",
       "      <td>158.0</td>\n",
       "      <td>6062.0</td>\n",
       "      <td>331.0</td>\n",
       "      <td>17.015607</td>\n",
       "      <td>598.999527</td>\n",
       "      <td>698.670135</td>\n",
       "      <td>0.302837</td>\n",
       "      <td>154.0</td>\n",
       "      <td>4229.0</td>\n",
       "      <td>220.0</td>\n",
       "    </tr>\n",
       "    <tr>\n",
       "      <th>2</th>\n",
       "      <td>11.694199</td>\n",
       "      <td>462.653889</td>\n",
       "      <td>592.806141</td>\n",
       "      <td>0.608984</td>\n",
       "      <td>99.0</td>\n",
       "      <td>32374.0</td>\n",
       "      <td>886.0</td>\n",
       "      <td>6.994180</td>\n",
       "      <td>263.516688</td>\n",
       "      <td>497.972374</td>\n",
       "      <td>...</td>\n",
       "      <td>164.0</td>\n",
       "      <td>5919.0</td>\n",
       "      <td>325.0</td>\n",
       "      <td>17.496892</td>\n",
       "      <td>588.274517</td>\n",
       "      <td>720.192680</td>\n",
       "      <td>0.313620</td>\n",
       "      <td>167.0</td>\n",
       "      <td>2896.0</td>\n",
       "      <td>146.0</td>\n",
       "    </tr>\n",
       "    <tr>\n",
       "      <th>3</th>\n",
       "      <td>12.027528</td>\n",
       "      <td>464.391869</td>\n",
       "      <td>594.488130</td>\n",
       "      <td>0.497688</td>\n",
       "      <td>94.0</td>\n",
       "      <td>34583.0</td>\n",
       "      <td>995.0</td>\n",
       "      <td>6.931070</td>\n",
       "      <td>264.849939</td>\n",
       "      <td>495.464213</td>\n",
       "      <td>...</td>\n",
       "      <td>159.0</td>\n",
       "      <td>6152.0</td>\n",
       "      <td>334.0</td>\n",
       "      <td>16.455936</td>\n",
       "      <td>575.992772</td>\n",
       "      <td>738.764804</td>\n",
       "      <td>0.288731</td>\n",
       "      <td>156.0</td>\n",
       "      <td>3597.0</td>\n",
       "      <td>180.0</td>\n",
       "    </tr>\n",
       "    <tr>\n",
       "      <th>4</th>\n",
       "      <td>12.081451</td>\n",
       "      <td>464.859793</td>\n",
       "      <td>591.918236</td>\n",
       "      <td>0.439350</td>\n",
       "      <td>98.0</td>\n",
       "      <td>35248.0</td>\n",
       "      <td>1049.0</td>\n",
       "      <td>6.694420</td>\n",
       "      <td>266.822970</td>\n",
       "      <td>493.609533</td>\n",
       "      <td>...</td>\n",
       "      <td>165.0</td>\n",
       "      <td>5952.0</td>\n",
       "      <td>325.0</td>\n",
       "      <td>16.916552</td>\n",
       "      <td>558.859280</td>\n",
       "      <td>752.152135</td>\n",
       "      <td>0.256201</td>\n",
       "      <td>158.0</td>\n",
       "      <td>5081.0</td>\n",
       "      <td>265.0</td>\n",
       "    </tr>\n",
       "    <tr>\n",
       "      <th>5</th>\n",
       "      <td>11.942532</td>\n",
       "      <td>471.557482</td>\n",
       "      <td>591.241745</td>\n",
       "      <td>0.520358</td>\n",
       "      <td>99.0</td>\n",
       "      <td>35707.0</td>\n",
       "      <td>1072.0</td>\n",
       "      <td>6.718500</td>\n",
       "      <td>267.497862</td>\n",
       "      <td>494.006632</td>\n",
       "      <td>...</td>\n",
       "      <td>165.0</td>\n",
       "      <td>5913.0</td>\n",
       "      <td>325.0</td>\n",
       "      <td>16.925693</td>\n",
       "      <td>546.105956</td>\n",
       "      <td>763.153529</td>\n",
       "      <td>0.314893</td>\n",
       "      <td>161.0</td>\n",
       "      <td>5087.0</td>\n",
       "      <td>268.0</td>\n",
       "    </tr>\n",
       "    <tr>\n",
       "      <th>6</th>\n",
       "      <td>11.679048</td>\n",
       "      <td>481.950944</td>\n",
       "      <td>582.005162</td>\n",
       "      <td>0.464217</td>\n",
       "      <td>101.0</td>\n",
       "      <td>34675.0</td>\n",
       "      <td>988.0</td>\n",
       "      <td>6.968202</td>\n",
       "      <td>272.133324</td>\n",
       "      <td>493.108126</td>\n",
       "      <td>...</td>\n",
       "      <td>164.0</td>\n",
       "      <td>5813.0</td>\n",
       "      <td>320.0</td>\n",
       "      <td>16.879814</td>\n",
       "      <td>542.347056</td>\n",
       "      <td>762.114653</td>\n",
       "      <td>0.319148</td>\n",
       "      <td>160.0</td>\n",
       "      <td>4518.0</td>\n",
       "      <td>240.0</td>\n",
       "    </tr>\n",
       "    <tr>\n",
       "      <th>7</th>\n",
       "      <td>11.342823</td>\n",
       "      <td>493.994361</td>\n",
       "      <td>570.197761</td>\n",
       "      <td>0.469542</td>\n",
       "      <td>104.0</td>\n",
       "      <td>36357.0</td>\n",
       "      <td>1062.0</td>\n",
       "      <td>7.134259</td>\n",
       "      <td>279.720656</td>\n",
       "      <td>490.931917</td>\n",
       "      <td>...</td>\n",
       "      <td>167.0</td>\n",
       "      <td>5827.0</td>\n",
       "      <td>320.0</td>\n",
       "      <td>16.968157</td>\n",
       "      <td>541.767912</td>\n",
       "      <td>755.554603</td>\n",
       "      <td>0.311812</td>\n",
       "      <td>164.0</td>\n",
       "      <td>4899.0</td>\n",
       "      <td>264.0</td>\n",
       "    </tr>\n",
       "    <tr>\n",
       "      <th>8</th>\n",
       "      <td>11.205919</td>\n",
       "      <td>507.679739</td>\n",
       "      <td>555.131667</td>\n",
       "      <td>0.525858</td>\n",
       "      <td>95.0</td>\n",
       "      <td>38962.0</td>\n",
       "      <td>1138.0</td>\n",
       "      <td>7.041103</td>\n",
       "      <td>283.153602</td>\n",
       "      <td>490.867370</td>\n",
       "      <td>...</td>\n",
       "      <td>164.0</td>\n",
       "      <td>5850.0</td>\n",
       "      <td>321.0</td>\n",
       "      <td>16.919271</td>\n",
       "      <td>546.948627</td>\n",
       "      <td>743.938684</td>\n",
       "      <td>0.323226</td>\n",
       "      <td>162.0</td>\n",
       "      <td>4224.0</td>\n",
       "      <td>236.0</td>\n",
       "    </tr>\n",
       "    <tr>\n",
       "      <th>9</th>\n",
       "      <td>11.016922</td>\n",
       "      <td>512.228516</td>\n",
       "      <td>540.371411</td>\n",
       "      <td>0.529176</td>\n",
       "      <td>89.0</td>\n",
       "      <td>41485.0</td>\n",
       "      <td>1224.0</td>\n",
       "      <td>7.055998</td>\n",
       "      <td>283.458284</td>\n",
       "      <td>490.199415</td>\n",
       "      <td>...</td>\n",
       "      <td>162.0</td>\n",
       "      <td>6047.0</td>\n",
       "      <td>337.0</td>\n",
       "      <td>16.476753</td>\n",
       "      <td>551.044568</td>\n",
       "      <td>731.801494</td>\n",
       "      <td>0.293327</td>\n",
       "      <td>161.0</td>\n",
       "      <td>4151.0</td>\n",
       "      <td>222.0</td>\n",
       "    </tr>\n",
       "  </tbody>\n",
       "</table>\n",
       "<p>10 rows × 1008 columns</p>\n",
       "</div>"
      ],
      "text/plain": [
       "bodyparts tracklet_0012358                                                   \\\n",
       "coords                   z           x           y likelihood raw_neuron_id   \n",
       "0                11.938685  460.630640  579.105540   0.509339         106.0   \n",
       "1                11.768766  459.930506  587.662247   0.603110          98.0   \n",
       "2                11.694199  462.653889  592.806141   0.608984          99.0   \n",
       "3                12.027528  464.391869  594.488130   0.497688          94.0   \n",
       "4                12.081451  464.859793  591.918236   0.439350          98.0   \n",
       "5                11.942532  471.557482  591.241745   0.520358          99.0   \n",
       "6                11.679048  481.950944  582.005162   0.464217         101.0   \n",
       "7                11.342823  493.994361  570.197761   0.469542         104.0   \n",
       "8                11.205919  507.679739  555.131667   0.525858          95.0   \n",
       "9                11.016922  512.228516  540.371411   0.529176          89.0   \n",
       "\n",
       "bodyparts                        tracklet_0012405                          \\\n",
       "coords    brightness_red  volume                z           x           y   \n",
       "0                34641.0  1071.0         6.855850  260.534651  501.272936   \n",
       "1                31600.0   895.0         6.922629  260.707140  495.506856   \n",
       "2                32374.0   886.0         6.994180  263.516688  497.972374   \n",
       "3                34583.0   995.0         6.931070  264.849939  495.464213   \n",
       "4                35248.0  1049.0         6.694420  266.822970  493.609533   \n",
       "5                35707.0  1072.0         6.718500  267.497862  494.006632   \n",
       "6                34675.0   988.0         6.968202  272.133324  493.108126   \n",
       "7                36357.0  1062.0         7.134259  279.720656  490.931917   \n",
       "8                38962.0  1138.0         7.041103  283.153602  490.867370   \n",
       "9                41485.0  1224.0         7.055998  283.458284  490.199415   \n",
       "\n",
       "bodyparts  ... tracklet_0014958                       tracklet_0014959  \\\n",
       "coords     ...    raw_neuron_id brightness_red volume                z   \n",
       "0          ...            171.0         5621.0  317.0        17.994650   \n",
       "1          ...            158.0         6062.0  331.0        17.015607   \n",
       "2          ...            164.0         5919.0  325.0        17.496892   \n",
       "3          ...            159.0         6152.0  334.0        16.455936   \n",
       "4          ...            165.0         5952.0  325.0        16.916552   \n",
       "5          ...            165.0         5913.0  325.0        16.925693   \n",
       "6          ...            164.0         5813.0  320.0        16.879814   \n",
       "7          ...            167.0         5827.0  320.0        16.968157   \n",
       "8          ...            164.0         5850.0  321.0        16.919271   \n",
       "9          ...            162.0         6047.0  337.0        16.476753   \n",
       "\n",
       "bodyparts                                                                  \\\n",
       "coords              x           y likelihood raw_neuron_id brightness_red   \n",
       "0          611.562193  671.065091   0.298282         174.0         2243.0   \n",
       "1          598.999527  698.670135   0.302837         154.0         4229.0   \n",
       "2          588.274517  720.192680   0.313620         167.0         2896.0   \n",
       "3          575.992772  738.764804   0.288731         156.0         3597.0   \n",
       "4          558.859280  752.152135   0.256201         158.0         5081.0   \n",
       "5          546.105956  763.153529   0.314893         161.0         5087.0   \n",
       "6          542.347056  762.114653   0.319148         160.0         4518.0   \n",
       "7          541.767912  755.554603   0.311812         164.0         4899.0   \n",
       "8          546.948627  743.938684   0.323226         162.0         4224.0   \n",
       "9          551.044568  731.801494   0.293327         161.0         4151.0   \n",
       "\n",
       "bodyparts         \n",
       "coords    volume  \n",
       "0          110.0  \n",
       "1          220.0  \n",
       "2          146.0  \n",
       "3          180.0  \n",
       "4          265.0  \n",
       "5          268.0  \n",
       "6          240.0  \n",
       "7          264.0  \n",
       "8          236.0  \n",
       "9          222.0  \n",
       "\n",
       "[10 rows x 1008 columns]"
      ]
     },
     "execution_count": 310,
     "metadata": {},
     "output_type": "execute_result"
    }
   ],
   "source": [
    "df_training_data"
   ]
  },
  {
   "cell_type": "code",
   "execution_count": 314,
   "id": "a28d63a6-3758-4748-bd28-ba2a53ebff44",
   "metadata": {},
   "outputs": [],
   "source": [
    "from DLC_for_WBFM.utils.projects.utils_filenames import pickle_load_binary\n",
    "fname = \"/scratch/zimmer/Charles/dlc_stacks/worm10-gui_test/3-tracking/global2tracklet.pickle\"\n",
    "g2t = pickle_load_binary(fname)"
   ]
  },
  {
   "cell_type": "code",
   "execution_count": 317,
   "id": "4ce0c587-3810-4813-a879-321db4d3c1b6",
   "metadata": {},
   "outputs": [
    {
     "data": {
      "text/plain": [
       "False"
      ]
     },
     "execution_count": 317,
     "metadata": {},
     "output_type": "execute_result"
    }
   ],
   "source": [
    "'tracklet_0012358' in g2t['neuron_001']"
   ]
  },
  {
   "cell_type": "code",
   "execution_count": 344,
   "id": "f6f3ad85-5462-4688-81c9-ffc9b33a2709",
   "metadata": {},
   "outputs": [
    {
     "data": {
      "application/vnd.jupyter.widget-view+json": {
       "model_id": "817f4ec03a5c493cb81ae124c379b590",
       "version_major": 2,
       "version_minor": 0
      },
      "text/plain": [
       "  0%|          | 0/144 [00:00<?, ?it/s]"
      ]
     },
     "metadata": {},
     "output_type": "display_data"
    },
    {
     "name": "stdout",
     "output_type": "stream",
     "text": [
      "neuron_001\n",
      "True\n",
      "bipartite_0_frame_0_neuron_001\n",
      "['bipartite_1_trackletGroup_1_tracklet_0000000', 'bipartite_1_trackletGroup_1_tracklet_0003195', 'bipartite_1_trackletGroup_1_tracklet_0011087', 'bipartite_1_trackletGroup_1_tracklet_0015138', 'bipartite_1_trackletGroup_1_tracklet_0005892', 'bipartite_1_trackletGroup_1_tracklet_0005888', 'bipartite_1_trackletGroup_1_tracklet_0014398', 'bipartite_1_trackletGroup_1_tracklet_0006269', 'bipartite_1_trackletGroup_1_tracklet_0000688', 'bipartite_1_trackletGroup_1_tracklet_0013563', 'bipartite_1_trackletGroup_1_tracklet_0007141', 'bipartite_1_trackletGroup_1_tracklet_0002382', 'bipartite_1_trackletGroup_1_tracklet_0012682', 'bipartite_1_trackletGroup_1_tracklet_0008177', 'bipartite_1_trackletGroup_1_tracklet_0008300', 'bipartite_1_trackletGroup_1_tracklet_0001842', 'bipartite_1_trackletGroup_1_tracklet_0012905', 'bipartite_1_trackletGroup_1_tracklet_0008871', 'bipartite_1_trackletGroup_1_tracklet_0008812']\n",
      "True\n"
     ]
    }
   ],
   "source": [
    "for i, (name, neuron) in enumerate(tqdm(worm_obj.global_name_to_neuron.items())):\n",
    "    print(name)\n",
    "    print('tracklet_0012358' in neuron.get_raw_tracklet_names())\n",
    "    \n",
    "    n = neuron.name_in_graph\n",
    "    print(n)\n",
    "    neighbors = neuron.neuron2tracklets.get_all_matches(name=n)\n",
    "    print(neighbors)\n",
    "    print('tracklet_0012358' in [neuron.neuron2tracklets.nodes(data=True)[n]['metadata'] for n in neighbors])\n",
    "    break"
   ]
  },
  {
   "cell_type": "code",
   "execution_count": 337,
   "id": "6eadce5a-f1aa-4ef9-a15a-67257a00b0eb",
   "metadata": {},
   "outputs": [
    {
     "data": {
      "text/plain": [
       "MatchesAsGraph object with 1 class A nodes and 19 class B nodes, with 19 edges"
      ]
     },
     "execution_count": 337,
     "metadata": {},
     "output_type": "execute_result"
    }
   ],
   "source": [
    "neuron.neuron2tracklets"
   ]
  },
  {
   "cell_type": "code",
   "execution_count": 332,
   "id": "74fca324-eb2f-40c7-9d9e-047d42022ecf",
   "metadata": {},
   "outputs": [
    {
     "name": "stdout",
     "output_type": "stream",
     "text": [
      "bipartite_0_frame_0_neuron_001\n"
     ]
    },
    {
     "data": {
      "text/plain": [
       "False"
      ]
     },
     "execution_count": 332,
     "metadata": {},
     "output_type": "execute_result"
    }
   ],
   "source": [
    "n = global_tracklet_neuron_graph.raw_name_to_network_name('neuron_001')\n",
    "print(n)\n",
    "'tracklet_0012358' in global_tracklet_neuron_graph.get_all_matches(name=n)"
   ]
  },
  {
   "cell_type": "code",
   "execution_count": 351,
   "id": "1fcd8fa2-ab9f-4128-a07d-f2feee0aa377",
   "metadata": {},
   "outputs": [
    {
     "name": "stdout",
     "output_type": "stream",
     "text": [
      "bipartite_0_frame_0_neuron_001\n",
      "['tracklet_0000000', 'tracklet_0003830', 'tracklet_0013444', 'tracklet_0018337', 'tracklet_0007143', 'tracklet_0007134', 'tracklet_0017450', 'tracklet_0007601', 'tracklet_0000801', 'tracklet_0016410', 'tracklet_0008658', 'tracklet_0002840', 'tracklet_0015347', 'tracklet_0009904', 'tracklet_0010060', 'tracklet_0002192', 'tracklet_0015611', 'tracklet_0010748', 'tracklet_0010676']\n"
     ]
    }
   ],
   "source": [
    "\n",
    "neighbors = global_tracklet_neuron_graph.get_all_matches(name=n)\n",
    "print(n)\n",
    "print([global_tracklet_neuron_graph.nodes(data=True)[n]['metadata'] for n in neighbors])"
   ]
  },
  {
   "cell_type": "code",
   "execution_count": 352,
   "id": "04831cf2-ad28-463b-b97c-fd88493af366",
   "metadata": {},
   "outputs": [
    {
     "data": {
      "text/plain": [
       "{'bipartite': 1,\n",
       " 'group_ind': 0,\n",
       " 'local_ind': 2,\n",
       " 'metadata': 'tracklet_0000000'}"
      ]
     },
     "execution_count": 352,
     "metadata": {},
     "output_type": "execute_result"
    }
   ],
   "source": [
    "worm_obj.compose_global_neuron_and_tracklet_graph().nodes(data=True)['bipartite_1_trackletGroup_1_tracklet_0000000']"
   ]
  },
  {
   "cell_type": "code",
   "execution_count": 357,
   "id": "bf23fbe0-77c2-4796-8233-7664157fdaa2",
   "metadata": {},
   "outputs": [
    {
     "name": "stdout",
     "output_type": "stream",
     "text": [
      "{'bipartite': 1, 'group_ind': 0, 'local_ind': 0, 'metadata': 'tracklet_0012358'}\n",
      "{'bipartite': 1, 'group_ind': 0, 'local_ind': 2, 'metadata': 'tracklet_0000000'}\n"
     ]
    }
   ],
   "source": [
    "for n in worm_obj.global_name_to_neuron.values():\n",
    "    try:\n",
    "        print(n.neuron2tracklets.nodes(data=True)['bipartite_1_trackletGroup_1_tracklet_0000000'])\n",
    "    except KeyError:\n",
    "        pass"
   ]
  },
  {
   "cell_type": "code",
   "execution_count": null,
   "id": "ddd94030-c36a-4ba5-8ad4-7ea213ddbc01",
   "metadata": {},
   "outputs": [],
   "source": []
  },
  {
   "cell_type": "markdown",
   "id": "886cc28a-52a4-4c0f-920b-f3914111eaa5",
   "metadata": {},
   "source": [
    "# Debug getting tracklets using project data"
   ]
  },
  {
   "cell_type": "code",
   "execution_count": 294,
   "id": "22080717-6cc9-4b60-af20-16301bd1ca6a",
   "metadata": {},
   "outputs": [
    {
     "ename": "TypeError",
     "evalue": "'NoneType' object is not subscriptable",
     "output_type": "error",
     "traceback": [
      "\u001b[0;31m---------------------------------------------------------------------------\u001b[0m",
      "\u001b[0;31mTypeError\u001b[0m                                 Traceback (most recent call last)",
      "\u001b[0;32m/tmp/ipykernel_19491/2691809052.py\u001b[0m in \u001b[0;36m<module>\u001b[0;34m\u001b[0m\n\u001b[1;32m      1\u001b[0m \u001b[0mn\u001b[0m \u001b[0;34m=\u001b[0m \u001b[0;34m'neuron_002'\u001b[0m\u001b[0;34m\u001b[0m\u001b[0;34m\u001b[0m\u001b[0m\n\u001b[0;32m----> 2\u001b[0;31m \u001b[0mproject_data\u001b[0m\u001b[0;34m.\u001b[0m\u001b[0mtracklet_annotator\u001b[0m\u001b[0;34m.\u001b[0m\u001b[0mcalculate_tracklets_for_neuron\u001b[0m\u001b[0;34m(\u001b[0m\u001b[0mn\u001b[0m\u001b[0;34m)\u001b[0m\u001b[0;34m\u001b[0m\u001b[0;34m\u001b[0m\u001b[0m\n\u001b[0m",
      "\u001b[0;32m~/Current_work/repos/dlc_for_wbfm/DLC_for_WBFM/utils/projects/plotting_classes.py\u001b[0m in \u001b[0;36mcalculate_tracklets_for_neuron\u001b[0;34m(self, neuron_name)\u001b[0m\n\u001b[1;32m    208\u001b[0m             \u001b[0;32mraise\u001b[0m \u001b[0mValueError\u001b[0m\u001b[0;34m(\u001b[0m\u001b[0;34m\"Must pass neuron name explicitly or have one saved in the object\"\u001b[0m\u001b[0;34m)\u001b[0m\u001b[0;34m\u001b[0m\u001b[0;34m\u001b[0m\u001b[0m\n\u001b[1;32m    209\u001b[0m         \u001b[0;31m# Returns a list of pd.DataFrames with columns x, y, z, and likelihood, which can be plotted in a loop\u001b[0m\u001b[0;34m\u001b[0m\u001b[0;34m\u001b[0m\u001b[0;34m\u001b[0m\u001b[0m\n\u001b[0;32m--> 210\u001b[0;31m         \u001b[0mthese_names\u001b[0m \u001b[0;34m=\u001b[0m \u001b[0mself\u001b[0m\u001b[0;34m.\u001b[0m\u001b[0mglobal2tracklet\u001b[0m\u001b[0;34m[\u001b[0m\u001b[0mneuron_name\u001b[0m\u001b[0;34m]\u001b[0m\u001b[0;34m.\u001b[0m\u001b[0mcopy\u001b[0m\u001b[0;34m(\u001b[0m\u001b[0;34m)\u001b[0m\u001b[0;34m\u001b[0m\u001b[0;34m\u001b[0m\u001b[0m\n\u001b[0m\u001b[1;32m    211\u001b[0m         \u001b[0;31m# all_tracklet_names = lexigraphically_sort(list(self.df_tracklet_obj.data.columns.levels[0]))\u001b[0m\u001b[0;34m\u001b[0m\u001b[0;34m\u001b[0m\u001b[0;34m\u001b[0m\u001b[0m\n\u001b[1;32m    212\u001b[0m         \u001b[0;31m# all_tracklet_names = list(self.df_tracklet_obj.data.columns.levels[0])\u001b[0m\u001b[0;34m\u001b[0m\u001b[0;34m\u001b[0m\u001b[0;34m\u001b[0m\u001b[0m\n",
      "\u001b[0;31mTypeError\u001b[0m: 'NoneType' object is not subscriptable"
     ]
    }
   ],
   "source": [
    "\n",
    "n = 'neuron_002'\n",
    "project_data.tracklet_annotator.calculate_tracklets_for_neuron(n)"
   ]
  },
  {
   "cell_type": "code",
   "execution_count": 298,
   "id": "9c6bca35-d3c2-4db5-8c2f-fd48fa436f3c",
   "metadata": {},
   "outputs": [
    {
     "data": {
      "text/plain": [
       "defaultdict(list,\n",
       "            {'neuron_003': ['tracklet_0016883',\n",
       "              'tracklet_0018962',\n",
       "              'tracklet_0001867',\n",
       "              'tracklet_0000628',\n",
       "              'tracklet_0012941',\n",
       "              'tracklet_0013666',\n",
       "              'tracklet_0013815',\n",
       "              'tracklet_0000746',\n",
       "              'tracklet_0017013',\n",
       "              'tracklet_0000329',\n",
       "              'tracklet_0003384',\n",
       "              'tracklet_0011617',\n",
       "              'tracklet_0009479',\n",
       "              'tracklet_0003907',\n",
       "              'tracklet_0017674',\n",
       "              'tracklet_0003692',\n",
       "              'tracklet_0017965',\n",
       "              'tracklet_0011552',\n",
       "              'tracklet_0008914',\n",
       "              'tracklet_0008761',\n",
       "              'tracklet_0006856',\n",
       "              'tracklet_0000277',\n",
       "              'tracklet_0007480',\n",
       "              'tracklet_0012760',\n",
       "              'tracklet_0008474',\n",
       "              'tracklet_0009867',\n",
       "              'tracklet_0016239',\n",
       "              'tracklet_0004379',\n",
       "              'tracklet_0005310',\n",
       "              'tracklet_0016003',\n",
       "              'tracklet_0014460',\n",
       "              'tracklet_0001541',\n",
       "              'tracklet_0010752',\n",
       "              'tracklet_0011422',\n",
       "              'tracklet_0001041',\n",
       "              'tracklet_0012966',\n",
       "              'tracklet_0009538',\n",
       "              'tracklet_0002120',\n",
       "              'tracklet_0013754',\n",
       "              'tracklet_0011797',\n",
       "              'tracklet_0005551',\n",
       "              'tracklet_0009301',\n",
       "              'tracklet_0005838',\n",
       "              'tracklet_0007291',\n",
       "              'tracklet_0011353',\n",
       "              'tracklet_0004747',\n",
       "              'tracklet_0010604',\n",
       "              'tracklet_0006154',\n",
       "              'tracklet_0004503',\n",
       "              'tracklet_0018836',\n",
       "              'tracklet_0015076',\n",
       "              'tracklet_0007442',\n",
       "              'tracklet_0007006',\n",
       "              'tracklet_0017446',\n",
       "              'tracklet_0001309',\n",
       "              'tracklet_0005596',\n",
       "              'tracklet_0011337',\n",
       "              'tracklet_0016093',\n",
       "              'tracklet_0005418',\n",
       "              'tracklet_0000501',\n",
       "              'tracklet_0013470',\n",
       "              'tracklet_0016713',\n",
       "              'tracklet_0017631',\n",
       "              'tracklet_0001404',\n",
       "              'tracklet_0012451',\n",
       "              'tracklet_0013667',\n",
       "              'tracklet_0012409',\n",
       "              'tracklet_0004129',\n",
       "              'tracklet_0012459',\n",
       "              'tracklet_0005038',\n",
       "              'tracklet_0000896',\n",
       "              'tracklet_0003698',\n",
       "              'tracklet_0016761',\n",
       "              'tracklet_0006233',\n",
       "              'tracklet_0007331',\n",
       "              'tracklet_0011451',\n",
       "              'tracklet_0005944',\n",
       "              'tracklet_0003111',\n",
       "              'tracklet_0005746',\n",
       "              'tracklet_0003300',\n",
       "              'tracklet_0017420',\n",
       "              'tracklet_0007716',\n",
       "              'tracklet_0008526',\n",
       "              'tracklet_0017568',\n",
       "              'tracklet_0017048',\n",
       "              'tracklet_0005983',\n",
       "              'tracklet_0001321',\n",
       "              'tracklet_0009164',\n",
       "              'tracklet_0002721',\n",
       "              'tracklet_0002427',\n",
       "              'tracklet_0001429',\n",
       "              'tracklet_0003444',\n",
       "              'tracklet_0008188',\n",
       "              'tracklet_0005565',\n",
       "              'tracklet_0006035',\n",
       "              'tracklet_0007205',\n",
       "              'tracklet_0014371',\n",
       "              'tracklet_0018783',\n",
       "              'tracklet_0018504',\n",
       "              'tracklet_0006472',\n",
       "              'tracklet_0008680',\n",
       "              'tracklet_0010170',\n",
       "              'tracklet_0017209',\n",
       "              'tracklet_0000189',\n",
       "              'tracklet_0005701',\n",
       "              'tracklet_0013056',\n",
       "              'tracklet_0011439',\n",
       "              'tracklet_0009041',\n",
       "              'tracklet_0005133',\n",
       "              'tracklet_0000449',\n",
       "              'tracklet_0014043',\n",
       "              'tracklet_0008781',\n",
       "              'tracklet_0016076',\n",
       "              'tracklet_0002309',\n",
       "              'tracklet_0014189',\n",
       "              'tracklet_0000835',\n",
       "              'tracklet_0002098',\n",
       "              'tracklet_0003949',\n",
       "              'tracklet_0005051',\n",
       "              'tracklet_0017765',\n",
       "              'tracklet_0006087',\n",
       "              'tracklet_0007688',\n",
       "              'tracklet_0008337',\n",
       "              'tracklet_0008835',\n",
       "              'tracklet_0007382',\n",
       "              'tracklet_0018056',\n",
       "              'tracklet_0017406',\n",
       "              'tracklet_0005291',\n",
       "              'tracklet_0013056',\n",
       "              'tracklet_0011617',\n",
       "              'tracklet_0002427',\n",
       "              'tracklet_0004747',\n",
       "              'tracklet_0017013',\n",
       "              'tracklet_0014189',\n",
       "              'tracklet_0005133',\n",
       "              'tracklet_0009479',\n",
       "              'tracklet_0015076',\n",
       "              'tracklet_0007006',\n",
       "              'tracklet_0003692',\n",
       "              'tracklet_0005051',\n",
       "              'tracklet_0017420',\n",
       "              'tracklet_0004503',\n",
       "              'tracklet_0005838',\n",
       "              'tracklet_0016761',\n",
       "              'tracklet_0016076',\n",
       "              'tracklet_0011552',\n",
       "              'tracklet_0011797',\n",
       "              'tracklet_0016093',\n",
       "              'tracklet_0011451',\n",
       "              'tracklet_0009164',\n",
       "              'tracklet_0000449',\n",
       "              'tracklet_0011439',\n",
       "              'tracklet_0012459',\n",
       "              'tracklet_0008914',\n",
       "              'tracklet_0011337',\n",
       "              'tracklet_0016239',\n",
       "              'tracklet_0008337',\n",
       "              'tracklet_0010752',\n",
       "              'tracklet_0001404',\n",
       "              'tracklet_0000189',\n",
       "              'tracklet_0000628',\n",
       "              'tracklet_0017568',\n",
       "              'tracklet_0007382',\n",
       "              'tracklet_0007716',\n",
       "              'tracklet_0007291',\n",
       "              'tracklet_0012760',\n",
       "              'tracklet_0006233',\n",
       "              'tracklet_0005983',\n",
       "              'tracklet_0018962',\n",
       "              'tracklet_0003384',\n",
       "              'tracklet_0000501',\n",
       "              'tracklet_0009867',\n",
       "              'tracklet_0016713',\n",
       "              'tracklet_0013470',\n",
       "              'tracklet_0004379',\n",
       "              'tracklet_0000277',\n",
       "              'tracklet_0000746',\n",
       "              'tracklet_0007688',\n",
       "              'tracklet_0006472',\n",
       "              'tracklet_0013815',\n",
       "              'tracklet_0009538',\n",
       "              'tracklet_0005418',\n",
       "              'tracklet_0004129',\n",
       "              'tracklet_0012941',\n",
       "              'tracklet_0017048',\n",
       "              'tracklet_0005746',\n",
       "              'tracklet_0001041',\n",
       "              'tracklet_0017209',\n",
       "              'tracklet_0002120',\n",
       "              'tracklet_0017631',\n",
       "              'tracklet_0002098',\n",
       "              'tracklet_0018783',\n",
       "              'tracklet_0011422',\n",
       "              'tracklet_0005701',\n",
       "              'tracklet_0006154',\n",
       "              'tracklet_0001309',\n",
       "              'tracklet_0001429',\n",
       "              'tracklet_0003907',\n",
       "              'tracklet_0010604',\n",
       "              'tracklet_0013754',\n",
       "              'tracklet_0003111',\n",
       "              'tracklet_0012451',\n",
       "              'tracklet_0005038',\n",
       "              'tracklet_0017965',\n",
       "              'tracklet_0017765',\n",
       "              'tracklet_0017446',\n",
       "              'tracklet_0012409',\n",
       "              'tracklet_0003444',\n",
       "              'tracklet_0007442',\n",
       "              'tracklet_0008526',\n",
       "              'tracklet_0001541',\n",
       "              'tracklet_0017406',\n",
       "              'tracklet_0010170',\n",
       "              'tracklet_0002721',\n",
       "              'tracklet_0008761',\n",
       "              'tracklet_0006087',\n",
       "              'tracklet_0007480',\n",
       "              'tracklet_0006035',\n",
       "              'tracklet_0016883',\n",
       "              'tracklet_0005551',\n",
       "              'tracklet_0005291',\n",
       "              'tracklet_0016003',\n",
       "              'tracklet_0008474',\n",
       "              'tracklet_0018056',\n",
       "              'tracklet_0003698',\n",
       "              'tracklet_0009301',\n",
       "              'tracklet_0008781',\n",
       "              'tracklet_0018836',\n",
       "              'tracklet_0008188',\n",
       "              'tracklet_0005565',\n",
       "              'tracklet_0014371',\n",
       "              'tracklet_0008680',\n",
       "              'tracklet_0005310',\n",
       "              'tracklet_0018504',\n",
       "              'tracklet_0009041',\n",
       "              'tracklet_0014460',\n",
       "              'tracklet_0013666',\n",
       "              'tracklet_0002309',\n",
       "              'tracklet_0003300',\n",
       "              'tracklet_0005944',\n",
       "              'tracklet_0000896',\n",
       "              'tracklet_0000835',\n",
       "              'tracklet_0000329',\n",
       "              'tracklet_0007205',\n",
       "              'tracklet_0013667',\n",
       "              'tracklet_0011353',\n",
       "              'tracklet_0007331',\n",
       "              'tracklet_0014043',\n",
       "              'tracklet_0001321',\n",
       "              'tracklet_0012966',\n",
       "              'tracklet_0001867',\n",
       "              'tracklet_0008835',\n",
       "              'tracklet_0005596',\n",
       "              'tracklet_0003949',\n",
       "              'tracklet_0006856',\n",
       "              'tracklet_0017674'],\n",
       "             'neuron_001': ['tracklet_0002192',\n",
       "              'tracklet_0007134',\n",
       "              'tracklet_0010676',\n",
       "              'tracklet_0010748',\n",
       "              'tracklet_0008658',\n",
       "              'tracklet_0000801',\n",
       "              'tracklet_0003830',\n",
       "              'tracklet_0007601',\n",
       "              'tracklet_0010060',\n",
       "              'tracklet_0017450',\n",
       "              'tracklet_0013444',\n",
       "              'tracklet_0016410',\n",
       "              'tracklet_0015611',\n",
       "              'tracklet_0018337',\n",
       "              'tracklet_0009904',\n",
       "              'tracklet_0002840',\n",
       "              'tracklet_0000000',\n",
       "              'tracklet_0007143',\n",
       "              'tracklet_0015347',\n",
       "              'tracklet_0002192',\n",
       "              'tracklet_0013444',\n",
       "              'tracklet_0002840',\n",
       "              'tracklet_0000000',\n",
       "              'tracklet_0015347',\n",
       "              'tracklet_0007134',\n",
       "              'tracklet_0018337',\n",
       "              'tracklet_0008658',\n",
       "              'tracklet_0017450',\n",
       "              'tracklet_0007601',\n",
       "              'tracklet_0015611',\n",
       "              'tracklet_0010676',\n",
       "              'tracklet_0009904',\n",
       "              'tracklet_0000801',\n",
       "              'tracklet_0010748',\n",
       "              'tracklet_0007143',\n",
       "              'tracklet_0003830',\n",
       "              'tracklet_0010060',\n",
       "              'tracklet_0016410'],\n",
       "             'neuron_043': ['tracklet_0014518', 'tracklet_0014518'],\n",
       "             'neuron_002': ['tracklet_0007342',\n",
       "              'tracklet_0004374',\n",
       "              'tracklet_0012405',\n",
       "              'tracklet_0018430',\n",
       "              'tracklet_0007899',\n",
       "              'tracklet_0016981',\n",
       "              'tracklet_0018099',\n",
       "              'tracklet_0013218',\n",
       "              'tracklet_0010315',\n",
       "              'tracklet_0002146',\n",
       "              'tracklet_0006479',\n",
       "              'tracklet_0012464',\n",
       "              'tracklet_0010120',\n",
       "              'tracklet_0003224',\n",
       "              'tracklet_0007201',\n",
       "              'tracklet_0010516',\n",
       "              'tracklet_0008500',\n",
       "              'tracklet_0004150',\n",
       "              'tracklet_0016722',\n",
       "              'tracklet_0017217',\n",
       "              'tracklet_0003878',\n",
       "              'tracklet_0014001',\n",
       "              'tracklet_0005533',\n",
       "              'tracklet_0017362',\n",
       "              'tracklet_0010236',\n",
       "              'tracklet_0007219',\n",
       "              'tracklet_0018798',\n",
       "              'tracklet_0001227',\n",
       "              'tracklet_0003550',\n",
       "              'tracklet_0005180',\n",
       "              'tracklet_0004535',\n",
       "              'tracklet_0005504',\n",
       "              'tracklet_0000763',\n",
       "              'tracklet_0004639',\n",
       "              'tracklet_0012996',\n",
       "              'tracklet_0000763',\n",
       "              'tracklet_0017362',\n",
       "              'tracklet_0005533',\n",
       "              'tracklet_0018099',\n",
       "              'tracklet_0010120',\n",
       "              'tracklet_0004374',\n",
       "              'tracklet_0008500',\n",
       "              'tracklet_0005180',\n",
       "              'tracklet_0018798',\n",
       "              'tracklet_0013218',\n",
       "              'tracklet_0002146',\n",
       "              'tracklet_0003550',\n",
       "              'tracklet_0007899',\n",
       "              'tracklet_0010315',\n",
       "              'tracklet_0005504',\n",
       "              'tracklet_0004639',\n",
       "              'tracklet_0003878',\n",
       "              'tracklet_0007342',\n",
       "              'tracklet_0017217',\n",
       "              'tracklet_0016981',\n",
       "              'tracklet_0012464',\n",
       "              'tracklet_0014001',\n",
       "              'tracklet_0007201',\n",
       "              'tracklet_0006479',\n",
       "              'tracklet_0010236',\n",
       "              'tracklet_0007219',\n",
       "              'tracklet_0003224',\n",
       "              'tracklet_0004535',\n",
       "              'tracklet_0012405',\n",
       "              'tracklet_0010516',\n",
       "              'tracklet_0001227',\n",
       "              'tracklet_0012996',\n",
       "              'tracklet_0018430',\n",
       "              'tracklet_0004150',\n",
       "              'tracklet_0016722'],\n",
       "             'neuron_090': ['tracklet_0014845', 'tracklet_0014845'],\n",
       "             'neuron_023': ['tracklet_0013632', 'tracklet_0013632'],\n",
       "             'neuron_004': ['tracklet_0000651',\n",
       "              'tracklet_0007141',\n",
       "              'tracklet_0015526',\n",
       "              'tracklet_0000398',\n",
       "              'tracklet_0007368',\n",
       "              'tracklet_0008086',\n",
       "              'tracklet_0011543',\n",
       "              'tracklet_0006288',\n",
       "              'tracklet_0007388',\n",
       "              'tracklet_0010753',\n",
       "              'tracklet_0000468',\n",
       "              'tracklet_0012413',\n",
       "              'tracklet_0006392',\n",
       "              'tracklet_0000723',\n",
       "              'tracklet_0018638',\n",
       "              'tracklet_0003913',\n",
       "              'tracklet_0004665',\n",
       "              'tracklet_0007657',\n",
       "              'tracklet_0008055',\n",
       "              'tracklet_0016660',\n",
       "              'tracklet_0006288',\n",
       "              'tracklet_0011543',\n",
       "              'tracklet_0015526',\n",
       "              'tracklet_0003913',\n",
       "              'tracklet_0004665',\n",
       "              'tracklet_0008086',\n",
       "              'tracklet_0000651',\n",
       "              'tracklet_0007141',\n",
       "              'tracklet_0000468',\n",
       "              'tracklet_0010753',\n",
       "              'tracklet_0007368',\n",
       "              'tracklet_0018638',\n",
       "              'tracklet_0000723',\n",
       "              'tracklet_0012413',\n",
       "              'tracklet_0008055',\n",
       "              'tracklet_0006392',\n",
       "              'tracklet_0007388',\n",
       "              'tracklet_0016660',\n",
       "              'tracklet_0007657',\n",
       "              'tracklet_0000398'],\n",
       "             'neuron_114': ['tracklet_0014904', 'tracklet_0014904'],\n",
       "             'neuron_057': ['tracklet_0014713', 'tracklet_0014713'],\n",
       "             'neuron_020': ['tracklet_0013304', 'tracklet_0013304'],\n",
       "             'neuron_097': ['tracklet_0014858', 'tracklet_0014858'],\n",
       "             'neuron_121': ['tracklet_0014916', 'tracklet_0014916'],\n",
       "             'neuron_140': ['tracklet_0014954', 'tracklet_0014954'],\n",
       "             'neuron_066': ['tracklet_0014753', 'tracklet_0014753'],\n",
       "             'neuron_085': ['tracklet_0014834', 'tracklet_0014834'],\n",
       "             'neuron_067': ['tracklet_0014758', 'tracklet_0014758'],\n",
       "             'neuron_061': ['tracklet_0014733', 'tracklet_0014733'],\n",
       "             'neuron_044': ['tracklet_0014548', 'tracklet_0014548'],\n",
       "             'neuron_011': ['tracklet_0012460', 'tracklet_0012460'],\n",
       "             'neuron_028': ['tracklet_0013886', 'tracklet_0013886'],\n",
       "             'neuron_045': ['tracklet_0014553', 'tracklet_0014553'],\n",
       "             'neuron_026': ['tracklet_0013870', 'tracklet_0013870'],\n",
       "             'neuron_069': ['tracklet_0014766', 'tracklet_0014766'],\n",
       "             'neuron_060': ['tracklet_0014732', 'tracklet_0014732'],\n",
       "             'neuron_109': ['tracklet_0014897', 'tracklet_0014897'],\n",
       "             'neuron_071': ['tracklet_0014772', 'tracklet_0014772'],\n",
       "             'neuron_099': ['tracklet_0014865', 'tracklet_0014865'],\n",
       "             'neuron_115': ['tracklet_0014905', 'tracklet_0014905'],\n",
       "             'neuron_126': ['tracklet_0014926', 'tracklet_0014926'],\n",
       "             'neuron_076': ['tracklet_0014802', 'tracklet_0014802'],\n",
       "             'neuron_138': ['tracklet_0014951', 'tracklet_0014951'],\n",
       "             'neuron_059': ['tracklet_0014729', 'tracklet_0014729'],\n",
       "             'neuron_033': ['tracklet_0014072', 'tracklet_0014072'],\n",
       "             'neuron_087': ['tracklet_0014836', 'tracklet_0014836'],\n",
       "             'neuron_070': ['tracklet_0014771', 'tracklet_0014771'],\n",
       "             'neuron_120': ['tracklet_0014915', 'tracklet_0014915'],\n",
       "             'neuron_089': ['tracklet_0014839', 'tracklet_0014839'],\n",
       "             'neuron_036': ['tracklet_0014202', 'tracklet_0014202'],\n",
       "             'neuron_050': ['tracklet_0014592', 'tracklet_0014592'],\n",
       "             'neuron_100': ['tracklet_0014869', 'tracklet_0014869'],\n",
       "             'neuron_132': ['tracklet_0014934', 'tracklet_0014934'],\n",
       "             'neuron_009': ['tracklet_0012446', 'tracklet_0012446'],\n",
       "             'neuron_051': ['tracklet_0014614', 'tracklet_0014614'],\n",
       "             'neuron_130': ['tracklet_0014932', 'tracklet_0014932'],\n",
       "             'neuron_078': ['tracklet_0014812', 'tracklet_0014812'],\n",
       "             'neuron_063': ['tracklet_0014739', 'tracklet_0014739'],\n",
       "             'neuron_137': ['tracklet_0014949', 'tracklet_0014949'],\n",
       "             'neuron_049': ['tracklet_0014589', 'tracklet_0014589'],\n",
       "             'neuron_032': ['tracklet_0014055', 'tracklet_0014055'],\n",
       "             'neuron_141': ['tracklet_0014955', 'tracklet_0014955'],\n",
       "             'neuron_105': ['tracklet_0014879', 'tracklet_0014879'],\n",
       "             'neuron_123': ['tracklet_0014923', 'tracklet_0014923'],\n",
       "             'neuron_129': ['tracklet_0014931', 'tracklet_0014931'],\n",
       "             'neuron_065': ['tracklet_0014752', 'tracklet_0014752'],\n",
       "             'neuron_040': ['tracklet_0014461', 'tracklet_0014461'],\n",
       "             'neuron_143': ['tracklet_0014958', 'tracklet_0014958'],\n",
       "             'neuron_088': ['tracklet_0014838', 'tracklet_0014838'],\n",
       "             'neuron_018': ['tracklet_0013247', 'tracklet_0013247'],\n",
       "             'neuron_077': ['tracklet_0014808', 'tracklet_0014808'],\n",
       "             'neuron_096': ['tracklet_0014855', 'tracklet_0014855'],\n",
       "             'neuron_119': ['tracklet_0014910', 'tracklet_0014910'],\n",
       "             'neuron_084': ['tracklet_0014828', 'tracklet_0014828'],\n",
       "             'neuron_039': ['tracklet_0014345', 'tracklet_0014345'],\n",
       "             'neuron_144': ['tracklet_0014959', 'tracklet_0014959'],\n",
       "             'neuron_127': ['tracklet_0014929', 'tracklet_0014929'],\n",
       "             'neuron_075': ['tracklet_0014791', 'tracklet_0014791'],\n",
       "             'neuron_012': ['tracklet_0012478', 'tracklet_0012478'],\n",
       "             'neuron_081': ['tracklet_0014821', 'tracklet_0014821'],\n",
       "             'neuron_083': ['tracklet_0014826', 'tracklet_0014826'],\n",
       "             'neuron_104': ['tracklet_0014875', 'tracklet_0014875'],\n",
       "             'neuron_092': ['tracklet_0014849', 'tracklet_0014849'],\n",
       "             'neuron_062': ['tracklet_0014735', 'tracklet_0014735'],\n",
       "             'neuron_098': ['tracklet_0014862', 'tracklet_0014862'],\n",
       "             'neuron_108': ['tracklet_0014895', 'tracklet_0014895'],\n",
       "             'neuron_139': ['tracklet_0014952', 'tracklet_0014952'],\n",
       "             'neuron_113': ['tracklet_0014903', 'tracklet_0014903'],\n",
       "             'neuron_008': ['tracklet_0012437', 'tracklet_0012437'],\n",
       "             'neuron_021': ['tracklet_0013383', 'tracklet_0013383'],\n",
       "             'neuron_048': ['tracklet_0014583', 'tracklet_0014583'],\n",
       "             'neuron_082': ['tracklet_0014825', 'tracklet_0014825'],\n",
       "             'neuron_010': ['tracklet_0012452', 'tracklet_0012452'],\n",
       "             'neuron_106': ['tracklet_0014884', 'tracklet_0014884'],\n",
       "             'neuron_095': ['tracklet_0014854', 'tracklet_0014854'],\n",
       "             'neuron_128': ['tracklet_0014930', 'tracklet_0014930'],\n",
       "             'neuron_125': ['tracklet_0014925', 'tracklet_0014925'],\n",
       "             'neuron_038': ['tracklet_0014283', 'tracklet_0014283'],\n",
       "             'neuron_133': ['tracklet_0014935', 'tracklet_0014935'],\n",
       "             'neuron_111': ['tracklet_0014900', 'tracklet_0014900'],\n",
       "             'neuron_135': ['tracklet_0014947', 'tracklet_0014947'],\n",
       "             'neuron_031': ['tracklet_0013974', 'tracklet_0013974'],\n",
       "             'neuron_056': ['tracklet_0014702', 'tracklet_0014702'],\n",
       "             'neuron_037': ['tracklet_0014228', 'tracklet_0014228'],\n",
       "             'neuron_116': ['tracklet_0014906', 'tracklet_0014906'],\n",
       "             'neuron_053': ['tracklet_0014686', 'tracklet_0014686'],\n",
       "             'neuron_122': ['tracklet_0014921', 'tracklet_0014921'],\n",
       "             'neuron_016': ['tracklet_0012499', 'tracklet_0012499'],\n",
       "             'neuron_006': ['tracklet_0012416', 'tracklet_0012416'],\n",
       "             'neuron_094': ['tracklet_0014853', 'tracklet_0014853'],\n",
       "             'neuron_064': ['tracklet_0014750', 'tracklet_0014750'],\n",
       "             'neuron_029': ['tracklet_0013940', 'tracklet_0013940'],\n",
       "             'neuron_101': ['tracklet_0014870', 'tracklet_0014870'],\n",
       "             'neuron_118': ['tracklet_0014908', 'tracklet_0014908'],\n",
       "             'neuron_086': ['tracklet_0014835', 'tracklet_0014835'],\n",
       "             'neuron_005': ['tracklet_0012414', 'tracklet_0012414'],\n",
       "             'neuron_103': ['tracklet_0014872', 'tracklet_0014872'],\n",
       "             'neuron_007': ['tracklet_0012429', 'tracklet_0012429'],\n",
       "             'neuron_027': ['tracklet_0013883', 'tracklet_0013883'],\n",
       "             'neuron_035': ['tracklet_0014167', 'tracklet_0014167'],\n",
       "             'neuron_030': ['tracklet_0013968', 'tracklet_0013968'],\n",
       "             'neuron_013': ['tracklet_0012482', 'tracklet_0012482'],\n",
       "             'neuron_047': ['tracklet_0014578', 'tracklet_0014578'],\n",
       "             'neuron_025': ['tracklet_0013864', 'tracklet_0013864'],\n",
       "             'neuron_073': ['tracklet_0014789', 'tracklet_0014789'],\n",
       "             'neuron_046': ['tracklet_0014561', 'tracklet_0014561'],\n",
       "             'neuron_055': ['tracklet_0014700', 'tracklet_0014700'],\n",
       "             'neuron_110': ['tracklet_0014898', 'tracklet_0014898'],\n",
       "             'neuron_091': ['tracklet_0014846', 'tracklet_0014846'],\n",
       "             'neuron_068': ['tracklet_0014761', 'tracklet_0014761'],\n",
       "             'neuron_014': ['tracklet_0012493', 'tracklet_0012493'],\n",
       "             'neuron_136': ['tracklet_0014948', 'tracklet_0014948'],\n",
       "             'neuron_079': ['tracklet_0014813', 'tracklet_0014813'],\n",
       "             'neuron_022': ['tracklet_0013537', 'tracklet_0013537'],\n",
       "             'neuron_124': ['tracklet_0014924', 'tracklet_0014924'],\n",
       "             'neuron_017': ['tracklet_0012502', 'tracklet_0012502'],\n",
       "             'neuron_058': ['tracklet_0014720', 'tracklet_0014720'],\n",
       "             'neuron_112': ['tracklet_0014902', 'tracklet_0014902'],\n",
       "             'neuron_015': ['tracklet_0012498', 'tracklet_0012498'],\n",
       "             'neuron_072': ['tracklet_0014780', 'tracklet_0014780'],\n",
       "             'neuron_142': ['tracklet_0014956', 'tracklet_0014956'],\n",
       "             'neuron_074': ['tracklet_0014790', 'tracklet_0014790'],\n",
       "             'neuron_102': ['tracklet_0014871', 'tracklet_0014871'],\n",
       "             'neuron_034': ['tracklet_0014159', 'tracklet_0014159'],\n",
       "             'neuron_041': ['tracklet_0014466', 'tracklet_0014466'],\n",
       "             'neuron_019': ['tracklet_0013265', 'tracklet_0013265'],\n",
       "             'neuron_131': ['tracklet_0014933', 'tracklet_0014933'],\n",
       "             'neuron_024': ['tracklet_0013858', 'tracklet_0013858'],\n",
       "             'neuron_093': ['tracklet_0014851', 'tracklet_0014851'],\n",
       "             'neuron_054': ['tracklet_0014693', 'tracklet_0014693'],\n",
       "             'neuron_134': ['tracklet_0014944', 'tracklet_0014944'],\n",
       "             'neuron_042': ['tracklet_0014473', 'tracklet_0014473'],\n",
       "             'neuron_117': ['tracklet_0014907', 'tracklet_0014907'],\n",
       "             'neuron_052': ['tracklet_0014655', 'tracklet_0014655'],\n",
       "             'neuron_107': ['tracklet_0014893', 'tracklet_0014893'],\n",
       "             'neuron_080': ['tracklet_0014819', 'tracklet_0014819']})"
      ]
     },
     "execution_count": 298,
     "metadata": {},
     "output_type": "execute_result"
    }
   ],
   "source": [
    "# final_matching.get_mapping_0_to_1(unique=False)\n",
    "final_mapping.get_mapping_pair_to_conf()"
   ]
  },
  {
   "cell_type": "code",
   "execution_count": null,
   "id": "ae0516f3-5434-47c9-af92-d6bf95edee19",
   "metadata": {},
   "outputs": [],
   "source": []
  },
  {
   "cell_type": "code",
   "execution_count": null,
   "id": "c6bbaaa1-29a9-4ed7-bed0-34df5662e2e3",
   "metadata": {},
   "outputs": [],
   "source": []
  },
  {
   "cell_type": "markdown",
   "id": "146605e6-b894-4c4c-b473-3bc64a38cbca",
   "metadata": {},
   "source": [
    "# Debug: some neurons are missing, leading to lots of off-by-one errors"
   ]
  },
  {
   "cell_type": "code",
   "execution_count": 223,
   "id": "623d8409-0ec6-48b8-9266-51ece91ccc22",
   "metadata": {},
   "outputs": [
    {
     "data": {
      "text/plain": [
       "Neuron neuron_010 (index=9) with 33 tracklets from time 1660 to 1374"
      ]
     },
     "execution_count": 223,
     "metadata": {},
     "output_type": "execute_result"
    }
   ],
   "source": [
    "worm_obj.global_name_to_neuron['neuron_010']"
   ]
  },
  {
   "cell_type": "code",
   "execution_count": 224,
   "id": "04810726-e466-4305-8ecf-00b5e4be1efc",
   "metadata": {},
   "outputs": [
    {
     "data": {
      "text/plain": [
       "Neuron neuron_001 (index=0) with 19 tracklets from time 1656 to 1479"
      ]
     },
     "execution_count": 224,
     "metadata": {},
     "output_type": "execute_result"
    }
   ],
   "source": [
    "worm_obj.global_name_to_neuron['neuron_001']"
   ]
  },
  {
   "cell_type": "code",
   "execution_count": 243,
   "id": "868142e1-4897-4a34-b300-65872047cec8",
   "metadata": {
    "collapsed": true,
    "jupyter": {
     "outputs_hidden": true
    },
    "tags": []
   },
   "outputs": [
    {
     "data": {
      "text/plain": [
       "['bipartite_1_trackletGroup_1_tracklet_0014400',\n",
       " 'bipartite_1_trackletGroup_1_tracklet_0000009',\n",
       " 'bipartite_1_trackletGroup_1_tracklet_0008446',\n",
       " 'bipartite_1_trackletGroup_1_tracklet_0010119',\n",
       " 'bipartite_1_trackletGroup_1_tracklet_0005946',\n",
       " 'bipartite_1_trackletGroup_1_tracklet_0012886',\n",
       " 'bipartite_1_trackletGroup_1_tracklet_0013143',\n",
       " 'bipartite_1_trackletGroup_1_tracklet_0004065',\n",
       " 'bipartite_1_trackletGroup_1_tracklet_0007197',\n",
       " 'bipartite_1_trackletGroup_1_tracklet_0009142',\n",
       " 'bipartite_1_trackletGroup_1_tracklet_0007715',\n",
       " 'bipartite_1_trackletGroup_1_tracklet_0008911',\n",
       " 'bipartite_1_trackletGroup_1_tracklet_0008307',\n",
       " 'bipartite_1_trackletGroup_1_tracklet_0006899',\n",
       " 'bipartite_1_trackletGroup_1_tracklet_0012418',\n",
       " 'bipartite_1_trackletGroup_1_tracklet_0001340',\n",
       " 'bipartite_1_trackletGroup_1_tracklet_0012551',\n",
       " 'bipartite_1_trackletGroup_1_tracklet_0006998',\n",
       " 'bipartite_1_trackletGroup_1_tracklet_0003527',\n",
       " 'bipartite_1_trackletGroup_1_tracklet_0005930',\n",
       " 'bipartite_1_trackletGroup_1_tracklet_0012452',\n",
       " 'bipartite_1_trackletGroup_1_tracklet_0011709',\n",
       " 'bipartite_1_trackletGroup_1_tracklet_0013466',\n",
       " 'bipartite_1_trackletGroup_1_tracklet_0010264',\n",
       " 'bipartite_1_trackletGroup_1_tracklet_0005840',\n",
       " 'bipartite_1_trackletGroup_1_tracklet_0014539',\n",
       " 'bipartite_1_trackletGroup_1_tracklet_0004999',\n",
       " 'bipartite_1_trackletGroup_1_tracklet_0012926',\n",
       " 'bipartite_1_trackletGroup_1_tracklet_0009483',\n",
       " 'bipartite_1_trackletGroup_1_tracklet_0014494',\n",
       " 'bipartite_1_trackletGroup_1_tracklet_0003852',\n",
       " 'bipartite_1_trackletGroup_1_tracklet_0012989',\n",
       " 'bipartite_1_trackletGroup_1_tracklet_0008233']"
      ]
     },
     "execution_count": 243,
     "metadata": {},
     "output_type": "execute_result"
    }
   ],
   "source": [
    "# Neuron exists here, but NOT in final_matches...\n",
    "network_name = global_tracklet_neuron_graph.raw_name_to_network_name('neuron_010')\n",
    "global_tracklet_neuron_graph.get_all_matches(name=network_name)"
   ]
  },
  {
   "cell_type": "code",
   "execution_count": 254,
   "id": "37f7c2a4-101d-42cd-acfe-a8a29fbe9d3c",
   "metadata": {},
   "outputs": [
    {
     "data": {
      "text/plain": [
       "['bipartite_0_frame_0_neuron_010',\n",
       " 'bipartite_0_frame_0_neuron_068',\n",
       " 'bipartite_0_frame_0_neuron_126']"
      ]
     },
     "execution_count": 254,
     "metadata": {},
     "output_type": "execute_result"
    }
   ],
   "source": [
    "# This tracklet should only have a single match\n",
    "# It's training data!\n",
    "global_tracklet_neuron_graph.get_all_matches(name='bipartite_1_trackletGroup_1_tracklet_0012452')"
   ]
  },
  {
   "cell_type": "code",
   "execution_count": 249,
   "id": "0e0bebb8-3fb7-412d-a52f-c811e25ef372",
   "metadata": {
    "collapsed": true,
    "jupyter": {
     "outputs_hidden": true
    },
    "tags": []
   },
   "outputs": [
    {
     "data": {
      "text/plain": [
       "['tracklet_0012452',\n",
       " 'tracklet_0010233',\n",
       " 'tracklet_0012259',\n",
       " 'tracklet_0007216',\n",
       " 'tracklet_0015588',\n",
       " 'tracklet_0015887',\n",
       " 'tracklet_0004876',\n",
       " 'tracklet_0008727',\n",
       " 'tracklet_0011070',\n",
       " 'tracklet_0009345',\n",
       " 'tracklet_0010792',\n",
       " 'tracklet_0017454',\n",
       " 'tracklet_0010067',\n",
       " 'tracklet_0008376',\n",
       " 'tracklet_0015035',\n",
       " 'tracklet_0001597',\n",
       " 'tracklet_0015193',\n",
       " 'tracklet_0008490',\n",
       " 'tracklet_0004229',\n",
       " 'tracklet_0007199',\n",
       " 'tracklet_0015074',\n",
       " 'tracklet_0014182',\n",
       " 'tracklet_0016288',\n",
       " 'tracklet_0012470',\n",
       " 'tracklet_0007057',\n",
       " 'tracklet_0017620',\n",
       " 'tracklet_0006034',\n",
       " 'tracklet_0015637',\n",
       " 'tracklet_0011491',\n",
       " 'tracklet_0017572',\n",
       " 'tracklet_0004602',\n",
       " 'tracklet_0015710',\n",
       " 'tracklet_0009980']"
      ]
     },
     "execution_count": 249,
     "metadata": {},
     "output_type": "execute_result"
    }
   ],
   "source": [
    "neuron = worm_obj.global_name_to_neuron['neuron_010']\n",
    "neuron.get_raw_tracklet_names()"
   ]
  },
  {
   "cell_type": "code",
   "execution_count": 256,
   "id": "52eb2569-80d6-42bb-920c-2140956ea125",
   "metadata": {},
   "outputs": [],
   "source": [
    "# neuron.neuron2tracklets.get_nodes_of_class(1)"
   ]
  },
  {
   "cell_type": "code",
   "execution_count": 258,
   "id": "1551fa71-ed31-455d-9be7-6a73f00b1b78",
   "metadata": {},
   "outputs": [],
   "source": [
    "# df_training_data.loc(axis=1)[:, 'z']"
   ]
  },
  {
   "cell_type": "code",
   "execution_count": 259,
   "id": "7afa5e9a-018c-48b0-82af-0eca7bc77d9e",
   "metadata": {},
   "outputs": [
    {
     "ename": "KeyError",
     "evalue": "'neuron_010'",
     "output_type": "error",
     "traceback": [
      "\u001b[0;31m---------------------------------------------------------------------------\u001b[0m",
      "\u001b[0;31mKeyError\u001b[0m                                  Traceback (most recent call last)",
      "\u001b[0;32m/tmp/ipykernel_19491/4027802354.py\u001b[0m in \u001b[0;36m<module>\u001b[0;34m\u001b[0m\n\u001b[0;32m----> 1\u001b[0;31m \u001b[0mfinal_matching\u001b[0m\u001b[0;34m.\u001b[0m\u001b[0mget_mapping_0_to_1\u001b[0m\u001b[0;34m(\u001b[0m\u001b[0;34m)\u001b[0m\u001b[0;34m[\u001b[0m\u001b[0;34m'neuron_010'\u001b[0m\u001b[0;34m]\u001b[0m\u001b[0;34m\u001b[0m\u001b[0;34m\u001b[0m\u001b[0m\n\u001b[0m",
      "\u001b[0;31mKeyError\u001b[0m: 'neuron_010'"
     ]
    }
   ],
   "source": [
    "# This should not be an error\n",
    "final_matching.get_mapping_0_to_1()['neuron_010']"
   ]
  },
  {
   "cell_type": "code",
   "execution_count": null,
   "id": "c96cead1-d656-444e-8c5f-41844eb4bcc1",
   "metadata": {},
   "outputs": [],
   "source": []
  },
  {
   "cell_type": "code",
   "execution_count": null,
   "id": "eb637552-d599-4062-8a51-ee66e39883a7",
   "metadata": {},
   "outputs": [],
   "source": []
  },
  {
   "cell_type": "code",
   "execution_count": null,
   "id": "55110592-3431-49e9-b991-cf789dd87bdf",
   "metadata": {},
   "outputs": [],
   "source": []
  },
  {
   "cell_type": "code",
   "execution_count": 271,
   "id": "35898c8a-0546-47e9-9db1-e247a3eae873",
   "metadata": {},
   "outputs": [
    {
     "data": {
      "text/plain": [
       "[1992, 1993, 1994, 1995, 1996, 1997, 1998, 1999, 2000, 2001]"
      ]
     },
     "execution_count": 271,
     "metadata": {},
     "output_type": "execute_result"
    }
   ],
   "source": [
    "project_data.which_training_frames"
   ]
  },
  {
   "cell_type": "code",
   "execution_count": 260,
   "id": "4bb44458-32a7-4f93-a183-8befd152fb5f",
   "metadata": {},
   "outputs": [],
   "source": [
    "tracklets_and_neurons_class = project_data.tracklets_and_neurons_class\n",
    "worm_obj_raw = TrackedWorm(detections=tracklets_and_neurons_class, verbose=1)\n",
    "# df_training_data = project_data.df_training_tracklets"
   ]
  },
  {
   "cell_type": "code",
   "execution_count": 261,
   "id": "f8d01330-1a8e-4535-b7ec-e4c19abd4418",
   "metadata": {},
   "outputs": [],
   "source": [
    "worm_obj_raw.initialize_neurons_from_training_data(df_training_data)"
   ]
  },
  {
   "cell_type": "code",
   "execution_count": 262,
   "id": "061e1d52-ddbe-47c7-b433-58881979aee9",
   "metadata": {},
   "outputs": [
    {
     "data": {
      "text/plain": [
       "Worm with 144 neurons"
      ]
     },
     "execution_count": 262,
     "metadata": {},
     "output_type": "execute_result"
    }
   ],
   "source": [
    "worm_obj_raw"
   ]
  },
  {
   "cell_type": "code",
   "execution_count": 266,
   "id": "074e65ad-4d73-4115-9e00-0d3ff8cd9609",
   "metadata": {},
   "outputs": [
    {
     "data": {
      "text/plain": [
       "['tracklet_0012452']"
      ]
     },
     "execution_count": 266,
     "metadata": {},
     "output_type": "execute_result"
    }
   ],
   "source": [
    "neuron = worm_obj_raw.global_name_to_neuron['neuron_010']\n",
    "neuron.get_raw_tracklet_names()"
   ]
  },
  {
   "cell_type": "code",
   "execution_count": 267,
   "id": "944ea9d5-68fc-4ef2-8392-332b4ea97e59",
   "metadata": {},
   "outputs": [],
   "source": [
    "\n",
    "used_names = []\n",
    "for _, neuron in worm_obj_raw.global_name_to_neuron.items():\n",
    "    used_names.extend(neuron.get_raw_tracklet_names())"
   ]
  },
  {
   "cell_type": "code",
   "execution_count": 270,
   "id": "387ed499-4601-4a09-88a9-28f7bdadaf69",
   "metadata": {},
   "outputs": [
    {
     "data": {
      "text/plain": [
       "'tracklet_0012452'"
      ]
     },
     "execution_count": 270,
     "metadata": {},
     "output_type": "execute_result"
    }
   ],
   "source": [
    "used_names[9]"
   ]
  },
  {
   "cell_type": "code",
   "execution_count": null,
   "id": "15154e7e-d564-4c72-a888-b32a03835fb3",
   "metadata": {},
   "outputs": [],
   "source": []
  },
  {
   "cell_type": "code",
   "execution_count": null,
   "id": "6ddba65d-5ea7-463d-a86e-08c160b10096",
   "metadata": {},
   "outputs": [],
   "source": []
  },
  {
   "cell_type": "markdown",
   "id": "cb19ea9f-192b-4339-b4d3-38a2d7e1e9cc",
   "metadata": {},
   "source": [
    "# DEBUGGING: Initialize neurons, and add tracklets in a loop"
   ]
  },
  {
   "cell_type": "code",
   "execution_count": 10,
   "id": "c163e3b1-e9c9-4375-b25c-3b3838748c30",
   "metadata": {},
   "outputs": [],
   "source": [
    "# Which fdnc neuron corresponds to which training tracklet?"
   ]
  },
  {
   "cell_type": "code",
   "execution_count": 11,
   "id": "3fd36b31-3e10-4afc-9687-ce1f2eaa9de1",
   "metadata": {},
   "outputs": [],
   "source": [
    "from DLC_for_WBFM.utils.nn_utils.fdnc_predict import generate_templates_from_training_data"
   ]
  },
  {
   "cell_type": "code",
   "execution_count": 12,
   "id": "d3628153-fc00-4117-961e-4f90d89ca499",
   "metadata": {},
   "outputs": [],
   "source": [
    "physical_unit_conversion = project_data.project_config.get_physical_unit_conversion_class()"
   ]
  },
  {
   "cell_type": "code",
   "execution_count": 13,
   "id": "18a8c668-5c97-404c-abec-9bb4ae467fe0",
   "metadata": {},
   "outputs": [],
   "source": [
    "templates = generate_templates_from_training_data(project_data, physical_unit_conversion)"
   ]
  },
  {
   "cell_type": "code",
   "execution_count": 14,
   "id": "a69eb2f5-425c-4ac3-9c2d-61ac99dbacf5",
   "metadata": {},
   "outputs": [
    {
     "data": {
      "text/html": [
       "<div>\n",
       "<style scoped>\n",
       "    .dataframe tbody tr th:only-of-type {\n",
       "        vertical-align: middle;\n",
       "    }\n",
       "\n",
       "    .dataframe tbody tr th {\n",
       "        vertical-align: top;\n",
       "    }\n",
       "\n",
       "    .dataframe thead th {\n",
       "        text-align: right;\n",
       "    }\n",
       "</style>\n",
       "<table border=\"1\" class=\"dataframe\">\n",
       "  <thead>\n",
       "    <tr style=\"text-align: right;\">\n",
       "      <th>coords</th>\n",
       "      <th>z</th>\n",
       "      <th>x</th>\n",
       "      <th>y</th>\n",
       "      <th>likelihood</th>\n",
       "      <th>raw_neuron_id</th>\n",
       "      <th>brightness_red</th>\n",
       "      <th>volume</th>\n",
       "    </tr>\n",
       "  </thead>\n",
       "  <tbody>\n",
       "    <tr>\n",
       "      <th>0</th>\n",
       "      <td>11.938685</td>\n",
       "      <td>460.630640</td>\n",
       "      <td>579.105540</td>\n",
       "      <td>0.509339</td>\n",
       "      <td>106.0</td>\n",
       "      <td>34641.0</td>\n",
       "      <td>1071.0</td>\n",
       "    </tr>\n",
       "    <tr>\n",
       "      <th>1</th>\n",
       "      <td>11.768766</td>\n",
       "      <td>459.930506</td>\n",
       "      <td>587.662247</td>\n",
       "      <td>0.603110</td>\n",
       "      <td>98.0</td>\n",
       "      <td>31600.0</td>\n",
       "      <td>895.0</td>\n",
       "    </tr>\n",
       "    <tr>\n",
       "      <th>2</th>\n",
       "      <td>11.694199</td>\n",
       "      <td>462.653889</td>\n",
       "      <td>592.806141</td>\n",
       "      <td>0.608984</td>\n",
       "      <td>99.0</td>\n",
       "      <td>32374.0</td>\n",
       "      <td>886.0</td>\n",
       "    </tr>\n",
       "    <tr>\n",
       "      <th>3</th>\n",
       "      <td>12.027528</td>\n",
       "      <td>464.391869</td>\n",
       "      <td>594.488130</td>\n",
       "      <td>0.497688</td>\n",
       "      <td>94.0</td>\n",
       "      <td>34583.0</td>\n",
       "      <td>995.0</td>\n",
       "    </tr>\n",
       "    <tr>\n",
       "      <th>4</th>\n",
       "      <td>12.081451</td>\n",
       "      <td>464.859793</td>\n",
       "      <td>591.918236</td>\n",
       "      <td>0.439350</td>\n",
       "      <td>98.0</td>\n",
       "      <td>35248.0</td>\n",
       "      <td>1049.0</td>\n",
       "    </tr>\n",
       "    <tr>\n",
       "      <th>5</th>\n",
       "      <td>11.942532</td>\n",
       "      <td>471.557482</td>\n",
       "      <td>591.241745</td>\n",
       "      <td>0.520358</td>\n",
       "      <td>99.0</td>\n",
       "      <td>35707.0</td>\n",
       "      <td>1072.0</td>\n",
       "    </tr>\n",
       "    <tr>\n",
       "      <th>6</th>\n",
       "      <td>11.679048</td>\n",
       "      <td>481.950944</td>\n",
       "      <td>582.005162</td>\n",
       "      <td>0.464217</td>\n",
       "      <td>101.0</td>\n",
       "      <td>34675.0</td>\n",
       "      <td>988.0</td>\n",
       "    </tr>\n",
       "    <tr>\n",
       "      <th>7</th>\n",
       "      <td>11.342823</td>\n",
       "      <td>493.994361</td>\n",
       "      <td>570.197761</td>\n",
       "      <td>0.469542</td>\n",
       "      <td>104.0</td>\n",
       "      <td>36357.0</td>\n",
       "      <td>1062.0</td>\n",
       "    </tr>\n",
       "    <tr>\n",
       "      <th>8</th>\n",
       "      <td>11.205919</td>\n",
       "      <td>507.679739</td>\n",
       "      <td>555.131667</td>\n",
       "      <td>0.525858</td>\n",
       "      <td>95.0</td>\n",
       "      <td>38962.0</td>\n",
       "      <td>1138.0</td>\n",
       "    </tr>\n",
       "    <tr>\n",
       "      <th>9</th>\n",
       "      <td>11.016922</td>\n",
       "      <td>512.228516</td>\n",
       "      <td>540.371411</td>\n",
       "      <td>0.529176</td>\n",
       "      <td>89.0</td>\n",
       "      <td>41485.0</td>\n",
       "      <td>1224.0</td>\n",
       "    </tr>\n",
       "  </tbody>\n",
       "</table>\n",
       "</div>"
      ],
      "text/plain": [
       "coords          z           x           y  likelihood  raw_neuron_id  \\\n",
       "0       11.938685  460.630640  579.105540    0.509339          106.0   \n",
       "1       11.768766  459.930506  587.662247    0.603110           98.0   \n",
       "2       11.694199  462.653889  592.806141    0.608984           99.0   \n",
       "3       12.027528  464.391869  594.488130    0.497688           94.0   \n",
       "4       12.081451  464.859793  591.918236    0.439350           98.0   \n",
       "5       11.942532  471.557482  591.241745    0.520358           99.0   \n",
       "6       11.679048  481.950944  582.005162    0.464217          101.0   \n",
       "7       11.342823  493.994361  570.197761    0.469542          104.0   \n",
       "8       11.205919  507.679739  555.131667    0.525858           95.0   \n",
       "9       11.016922  512.228516  540.371411    0.529176           89.0   \n",
       "\n",
       "coords  brightness_red  volume  \n",
       "0              34641.0  1071.0  \n",
       "1              31600.0   895.0  \n",
       "2              32374.0   886.0  \n",
       "3              34583.0   995.0  \n",
       "4              35248.0  1049.0  \n",
       "5              35707.0  1072.0  \n",
       "6              34675.0   988.0  \n",
       "7              36357.0  1062.0  \n",
       "8              38962.0  1138.0  \n",
       "9              41485.0  1224.0  "
      ]
     },
     "execution_count": 14,
     "metadata": {},
     "output_type": "execute_result"
    }
   ],
   "source": [
    "df = project_data.df_training_tracklets\n",
    "training_names = list(df.columns.levels[0])\n",
    "n0 = training_names[0]\n",
    "df[n0]"
   ]
  },
  {
   "cell_type": "code",
   "execution_count": null,
   "id": "61ca7ca1-4e16-425d-80f0-79f6844b4646",
   "metadata": {},
   "outputs": [],
   "source": []
  },
  {
   "cell_type": "code",
   "execution_count": 15,
   "id": "6aaa1dc9-dec4-4ca9-9ee0-b968320f3254",
   "metadata": {},
   "outputs": [],
   "source": [
    "from DLC_for_WBFM.utils.external.utils_pandas import dataframe_to_dataframe_zxy_format\n",
    "from DLC_for_WBFM.utils.external.utils_pandas import dataframe_to_numpy_zxy_single_frame"
   ]
  },
  {
   "cell_type": "code",
   "execution_count": 17,
   "id": "527cc7e7-914d-4c1a-b0e6-1028e9b92f3c",
   "metadata": {},
   "outputs": [
    {
     "data": {
      "text/plain": [
       "(144, 3)"
      ]
     },
     "execution_count": 17,
     "metadata": {},
     "output_type": "execute_result"
    }
   ],
   "source": [
    "dataframe_to_dataframe_zxy_format(project_data.df_training_tracklets.iloc[[0], :]).to_numpy().reshape(-1, 3).shape"
   ]
  },
  {
   "cell_type": "code",
   "execution_count": 18,
   "id": "52061172-5d47-4f0a-942b-6a8280321cff",
   "metadata": {},
   "outputs": [
    {
     "data": {
      "text/plain": [
       "(144, 3)"
      ]
     },
     "execution_count": 18,
     "metadata": {},
     "output_type": "execute_result"
    }
   ],
   "source": [
    "project_data.get_centroids_as_numpy_training(0).shape"
   ]
  },
  {
   "cell_type": "code",
   "execution_count": null,
   "id": "00291254-8e40-471f-b661-e6143b145734",
   "metadata": {},
   "outputs": [],
   "source": [
    "from DLC_for_WBFM.utils.training_data.tracklet_to_DLC import build_subset_df_from_tracklets"
   ]
  },
  {
   "cell_type": "code",
   "execution_count": null,
   "id": "154c669c-c13b-48cc-a534-3f7046bcfd54",
   "metadata": {},
   "outputs": [],
   "source": [
    "df = project_data.df_training_tracklets"
   ]
  },
  {
   "cell_type": "code",
   "execution_count": null,
   "id": "950b3bde-d541-43fa-94b7-dc67455e3fe2",
   "metadata": {},
   "outputs": [],
   "source": [
    "dataframe_to_numpy_zxy_single_frame(df, t=0).shape"
   ]
  },
  {
   "cell_type": "code",
   "execution_count": null,
   "id": "d6545a15-e2e0-4bc1-aeb4-dbcb3bf25e69",
   "metadata": {},
   "outputs": [],
   "source": [
    "# df_train = build_subset_df_from_tracklets(df, project_data.which_training_frames)\n",
    "df.shape"
   ]
  },
  {
   "cell_type": "code",
   "execution_count": null,
   "id": "9eed0ff4-9848-4f0d-a543-e8a63fbbb30f",
   "metadata": {},
   "outputs": [],
   "source": [
    "err"
   ]
  },
  {
   "cell_type": "code",
   "execution_count": null,
   "id": "17c4cd08-b558-4002-963a-96f873e7b571",
   "metadata": {},
   "outputs": [],
   "source": []
  },
  {
   "cell_type": "code",
   "execution_count": null,
   "id": "25e4fa4e-c1be-46be-91e1-cb33235d25eb",
   "metadata": {},
   "outputs": [],
   "source": []
  },
  {
   "cell_type": "code",
   "execution_count": null,
   "id": "5db1fafd-49fe-461f-b4e3-5dbf4c63944a",
   "metadata": {},
   "outputs": [],
   "source": [
    "from DLC_for_WBFM.utils.pipeline.tracklet_class import TrackedWorm\n",
    "from DLC_for_WBFM.utils.training_data.tracklet_to_DLC import translate_training_names_to_raw_names\n",
    "from tqdm.auto import tqdm"
   ]
  },
  {
   "cell_type": "code",
   "execution_count": null,
   "id": "c098b6d3-cf96-4606-9bd1-9273869797ed",
   "metadata": {},
   "outputs": [],
   "source": [
    "tracklets_and_neurons_class = project_data.tracklets_and_neurons_class\n",
    "worm_obj = TrackedWorm(detections=tracklets_and_neurons_class, verbose=1)\n",
    "df_training_data = project_data.df_training_tracklets"
   ]
  },
  {
   "cell_type": "code",
   "execution_count": null,
   "id": "80976518-14c2-4e43-9fc5-0574afd3bc8b",
   "metadata": {},
   "outputs": [],
   "source": [
    "worm_obj.initialize_neurons_from_training_data(df_training_data)"
   ]
  },
  {
   "cell_type": "code",
   "execution_count": null,
   "id": "2fbf685c-1647-460b-9de6-95ca2fff3ea2",
   "metadata": {},
   "outputs": [],
   "source": [
    "worm_obj"
   ]
  },
  {
   "cell_type": "code",
   "execution_count": null,
   "id": "4d03d6a1-7e34-4def-accd-6b9acb3bedf2",
   "metadata": {},
   "outputs": [],
   "source": [
    "# For each neuron:\n",
    "# Calculate initial similarity to other tracklets based on global tracking (leifer fdnc)"
   ]
  },
  {
   "cell_type": "code",
   "execution_count": null,
   "id": "367202dc-413f-46ce-8351-db5273c54100",
   "metadata": {},
   "outputs": [],
   "source": [
    "from DLC_for_WBFM.utils.pipeline.long_range_matching import b_matching_via_node_copying\n",
    "from DLC_for_WBFM.utils.postprocessing.combine_tracklets_and_DLC_tracks import calc_global_track_to_tracklet_distances\n",
    "from DLC_for_WBFM.utils.postprocessing.combine_tracklets_and_DLC_tracks import _unpack_tracklets_for_combining\n",
    "from DLC_for_WBFM.utils.external.utils_pandas import dataframe_to_standard_zxy_format\n",
    "from DLC_for_WBFM.utils.postprocessing.postprocessing_utils import distance_between_2_tracks, num_inliers_between_tracks"
   ]
  },
  {
   "cell_type": "code",
   "execution_count": null,
   "id": "30048140-3f69-465f-b3c1-0cae99adee2a",
   "metadata": {},
   "outputs": [],
   "source": [
    "project_cfg = project_data.project_config\n",
    "training_cfg = project_cfg.get_training_config()\n",
    "track_config = project_cfg.get_tracking_config()\n",
    "use_imputed_df = False\n",
    "start_from_manual_matches = False"
   ]
  },
  {
   "cell_type": "code",
   "execution_count": null,
   "id": "f5124b76-627c-491a-a0c4-c026cc9b642a",
   "metadata": {},
   "outputs": [],
   "source": [
    "d_max, df_global_tracks, df_tracklets, min_overlap, output_df_fname, \\\n",
    "    keep_only_tracklets_in_final_tracks, global2tracklet, used_names,\\\n",
    "    allowed_tracklet_endpoint_wiggle = _unpack_tracklets_for_combining(\n",
    "        project_cfg, training_cfg, track_config, use_imputed_df, start_from_manual_matches)\n",
    "\n",
    "# Match tracklets to global neurons (which have noisy tracks)\n",
    "global_neuron_names = list(df_global_tracks.columns.levels[0])\n",
    "num_initial_tracklets = int(df_tracklets.shape[1]/4)\n",
    "num_initial_matches = len(used_names)\n",
    "\n",
    "verbose = 0\n",
    "\n",
    "# Pre-make coordinates so that the dataframe is not continuously indexed\n",
    "coords = ['z', 'x', 'y']\n",
    "all_tracklet_names = list(df_tracklets.columns.levels[0])\n",
    "list_tracklets_zxy = [df_tracklets[name][coords].to_numpy() for name in all_tracklet_names]"
   ]
  },
  {
   "cell_type": "code",
   "execution_count": null,
   "id": "d802a262-19b6-49cd-82da-3fd3476a0ef2",
   "metadata": {},
   "outputs": [],
   "source": [
    "i = 2\n",
    "global_name = global_neuron_names[i]\n",
    "print(global_name)\n",
    "# for i, global_name in enumerate(tqdm(global_neuron_names)):\n",
    "\n",
    "# TODO: use confidence of dlc tracks\n",
    "this_global_track = df_global_tracks[global_name][coords].to_numpy()\n",
    "\n",
    "this_global_track.shape"
   ]
  },
  {
   "cell_type": "code",
   "execution_count": null,
   "id": "0d86ceb8-6215-4b86-b951-f5a08ffa49db",
   "metadata": {},
   "outputs": [],
   "source": [
    "# df_global_tracks"
   ]
  },
  {
   "cell_type": "code",
   "execution_count": null,
   "id": "a9a7c478-2f71-4889-9121-93c30088b0ab",
   "metadata": {},
   "outputs": [],
   "source": [
    "# i = 0\n",
    "# names = worm_obj.neuron_names\n",
    "# this_neuron = names[i]\n",
    "\n",
    "# df_this_global_track = worm_obj.get_tracklets_for_neuron(this_neuron)[0]"
   ]
  },
  {
   "cell_type": "code",
   "execution_count": null,
   "id": "4962e763-4572-479c-8156-9bb252473757",
   "metadata": {},
   "outputs": [],
   "source": [
    "# coords = ['z', 'x', 'y']\n",
    "# df_this_global_track[coords]"
   ]
  },
  {
   "cell_type": "code",
   "execution_count": null,
   "id": "7258402e-511b-4ee5-918a-78d3ed519320",
   "metadata": {},
   "outputs": [],
   "source": [
    "list_tracklets_zxy[0].shape"
   ]
  },
  {
   "cell_type": "code",
   "execution_count": null,
   "id": "74561f7c-590f-4fa0-817b-7b55af7a4aa0",
   "metadata": {},
   "outputs": [],
   "source": [
    "# TODO: make the tracklets the proper length before this\n",
    "# this_global_track = this_global_track[:-1, :]\n",
    "# dist = calc_global_track_to_tracklet_distances(this_global_track, list_tracklets_zxy, used_names,\n",
    "#                                       all_tracklet_names,\n",
    "#                                       min_overlap=min_overlap)\n",
    "\n",
    "# break\n",
    "# previous_matches = global2tracklet[global_name]\n",
    "# covering_time_points = get_already_covered_indices(df_tracklets, previous_matches)\n",
    "# out = calc_covering_from_distances(dist, df_tracklets, used_names,\n",
    "#                                    covering_time_points=covering_time_points,\n",
    "#                                    covering_tracklet_names=previous_matches,\n",
    "#                                    allowed_tracklet_endpoint_wiggle=allowed_tracklet_endpoint_wiggle,\n",
    "#                                    d_max=d_max, verbose=verbose)\n",
    "# # covering_time_points, covering_ind, these_dist = out\n",
    "# _, _, covering_names, df_tracklets = out\n",
    "# # all_covering_ind.append(covering_ind)\n",
    "# global2tracklet[global_name].extend(covering_names)\n",
    "# used_names.update(covering_names)\n",
    "# # used_indices.update(covering_ind)"
   ]
  },
  {
   "cell_type": "markdown",
   "id": "ecbe3672-23dd-4007-9daa-8dbb495c298f",
   "metadata": {},
   "source": [
    "### Which neuron in the global track correponds to which training tracklet?\n",
    "\n",
    "The training tracklets (and the associated global neuron) should have at least 10 inliers between the training tracklet... unless the templates could not be self-matched by fdnc, which is quite possible"
   ]
  },
  {
   "cell_type": "code",
   "execution_count": null,
   "id": "81b856d3-9013-4b6c-8a15-62585656b870",
   "metadata": {},
   "outputs": [],
   "source": [
    "all_inlier_nums = []\n",
    "for zxy in tqdm(list_tracklets_zxy):\n",
    "    \n",
    "    out = num_inliers_between_tracks(this_global_track[:-1,:], zxy, inlier_threshold=5)\n",
    "    all_inlier_nums.append(out)"
   ]
  },
  {
   "cell_type": "code",
   "execution_count": null,
   "id": "95bef2dc-c49b-4ba6-af3f-a5f4441131a7",
   "metadata": {},
   "outputs": [],
   "source": [
    "tracklets_with_inliers = np.where(np.array(all_inlier_nums) > 0)[0]\n",
    "names_with_inliers = [all_tracklet_names[i] for i in tracklets_with_inliers]"
   ]
  },
  {
   "cell_type": "code",
   "execution_count": null,
   "id": "20ae020d-6ee2-4c9a-aa8d-3d5af6e92559",
   "metadata": {},
   "outputs": [],
   "source": [
    "plt.plot(all_inlier_nums, 'o')"
   ]
  },
  {
   "cell_type": "code",
   "execution_count": null,
   "id": "5e75bee5-8162-47bc-b1db-11f2051ee737",
   "metadata": {},
   "outputs": [],
   "source": [
    "tracklets_of_global_neurons = translate_training_names_to_raw_names(df_training_data)"
   ]
  },
  {
   "cell_type": "code",
   "execution_count": null,
   "id": "ad80f9cc-bd6d-418d-bb76-6ab37c754b51",
   "metadata": {},
   "outputs": [],
   "source": [
    "for i in range(len(tracklets_of_global_neurons)):\n",
    "    this_global_tracklet = tracklets_of_global_neurons[i]\n",
    "    if this_global_tracklet in names_with_inliers:\n",
    "        print(i, this_global_tracklet)\n",
    "        break\n",
    "else:\n",
    "    print(\"None of the training data tracklets had ANY inliers for this global track\")"
   ]
  },
  {
   "cell_type": "markdown",
   "id": "fe8c6a86-01fb-4cd6-83ce-eb7f79e6870c",
   "metadata": {},
   "source": [
    "### Fix indexing offset caused by empty volumes"
   ]
  },
  {
   "cell_type": "code",
   "execution_count": null,
   "id": "aaf5765b-0690-4eaa-8555-565bc7cd3ec3",
   "metadata": {},
   "outputs": [],
   "source": [
    "all_frame_dict = project_data.raw_frames"
   ]
  },
  {
   "cell_type": "code",
   "execution_count": null,
   "id": "e808324b-3290-4cde-adf8-40c2f3f75f0d",
   "metadata": {},
   "outputs": [],
   "source": [
    "all_zxy = {k: f.neuron_locs for k, f in all_frame_dict.items()}"
   ]
  },
  {
   "cell_type": "code",
   "execution_count": null,
   "id": "04b75ee6-9ebb-431b-a071-5958f0921b30",
   "metadata": {},
   "outputs": [],
   "source": [
    "plt.plot(list(map(len, all_zxy.values())))"
   ]
  },
  {
   "cell_type": "code",
   "execution_count": null,
   "id": "c756b611-d1d7-44f1-a525-5bd8a9eaaf73",
   "metadata": {},
   "outputs": [],
   "source": [
    "empty_ind = []\n",
    "for k, v in all_zxy.items():\n",
    "    if v is None:\n",
    "        empty_ind.append(k)"
   ]
  },
  {
   "cell_type": "code",
   "execution_count": null,
   "id": "9881e83c-7140-4562-abf4-407090428de6",
   "metadata": {},
   "outputs": [],
   "source": [
    "# Create empty rows at each index, then reset the index\n",
    "# Note: if there sequential indices that are missed, then the new indices need to be BEFORE the current dataframe\n",
    "# e.g.:\n",
    "#  Current dataframe has 90, 91, 92\n",
    "#  But, 91 and 92 are empty and need to be inserted back in\n",
    "#  Therefore the new temporary indices for the empty rows should be 90.1, 90.2 (or something between 90 and 91)\n",
    "#  But if 94 was then empty (but not 93), the new index should be 94.5\n",
    "#\n",
    "# BUT it also should be done sequentially, because an empty 94.5 only makese sense if the previous empty 91 and 92 are filled\n",
    "\n",
    "df_tracklets_new = df_tracklets.copy()\n",
    "for i in tqdm(empty_ind):    \n",
    "    new_empty_row = pd.DataFrame(np.nan, columns=df_tracklets.columns, index=[i+0.5])\n",
    "    df_tracklets_new = df_tracklets_new.append(new_empty_row, ignore_index=False)\n",
    "    df_tracklets_new = df_tracklets_new.sort_index().reset_index(drop=True)"
   ]
  },
  {
   "cell_type": "code",
   "execution_count": null,
   "id": "13fe8480-107c-4bab-9f4b-627594c48a66",
   "metadata": {},
   "outputs": [],
   "source": [
    "df_tracklets_new.shape, df_tracklets.shape"
   ]
  },
  {
   "cell_type": "code",
   "execution_count": null,
   "id": "fbb54982-b402-4806-8424-21b9f650e7c5",
   "metadata": {},
   "outputs": [],
   "source": [
    "df_tracklets_new.index.astype(int)"
   ]
  },
  {
   "cell_type": "code",
   "execution_count": null,
   "id": "76d2c4f2-f08e-4778-9b47-618eaa5c6a2a",
   "metadata": {},
   "outputs": [],
   "source": []
  },
  {
   "cell_type": "code",
   "execution_count": null,
   "id": "96470b1a-c192-404b-a4fd-653f46b0f4aa",
   "metadata": {},
   "outputs": [],
   "source": []
  },
  {
   "cell_type": "code",
   "execution_count": null,
   "id": "aaf532ec-ef82-48a5-830d-8f28383c692d",
   "metadata": {},
   "outputs": [],
   "source": [
    "all_dist = dist\n",
    "all_summarized_dist = list(map(lambda x: np.nanquantile(x, 0.1), all_dist ))\n",
    "i_sorted_by_median_distance = np.argsort(all_summarized_dist)\n",
    "\n",
    "all_summarized_dist_sorted = np.sort(all_summarized_dist)"
   ]
  },
  {
   "cell_type": "code",
   "execution_count": null,
   "id": "1d795e4a-18fb-4502-bc5e-4427f14eb2f7",
   "metadata": {},
   "outputs": [],
   "source": [
    "i_sorted_by_median_distance"
   ]
  },
  {
   "cell_type": "code",
   "execution_count": null,
   "id": "58d7d687-e520-405a-95aa-fb0e3c8bf9b4",
   "metadata": {},
   "outputs": [],
   "source": [
    "all_summarized_dist_sorted[:10]"
   ]
  },
  {
   "cell_type": "code",
   "execution_count": null,
   "id": "70cebcc5-5134-49ac-8c50-c5464ba3481e",
   "metadata": {},
   "outputs": [],
   "source": [
    "plt.plot(all_dist[i_sorted_by_median_distance[3]])"
   ]
  },
  {
   "cell_type": "code",
   "execution_count": null,
   "id": "c59a7288-f2fe-4517-88aa-1e97b6c9d88e",
   "metadata": {},
   "outputs": [],
   "source": []
  },
  {
   "cell_type": "code",
   "execution_count": null,
   "id": "930d426f-4848-45c5-aba2-34c4b566f97d",
   "metadata": {},
   "outputs": [],
   "source": []
  },
  {
   "cell_type": "code",
   "execution_count": null,
   "id": "6099f509-0846-4e11-bb43-9a17ea03ca9c",
   "metadata": {},
   "outputs": [],
   "source": [
    "# Then loop through the tracklets and attempt to add\n",
    "# Important: check using the per-neuron classifier"
   ]
  },
  {
   "cell_type": "code",
   "execution_count": null,
   "id": "6b2e7ed1-04aa-4894-80b6-7d83e7129b73",
   "metadata": {},
   "outputs": [],
   "source": []
  },
  {
   "cell_type": "code",
   "execution_count": null,
   "id": "36e247fa-baf7-44db-bda0-c7b7d3b6d0e1",
   "metadata": {},
   "outputs": [],
   "source": []
  },
  {
   "cell_type": "code",
   "execution_count": null,
   "id": "dd116236-22c3-44c4-bcf9-3d9783046af7",
   "metadata": {},
   "outputs": [],
   "source": []
  },
  {
   "cell_type": "code",
   "execution_count": null,
   "id": "cff3792e-257e-40a0-8147-cfc14ae8e230",
   "metadata": {},
   "outputs": [],
   "source": []
  },
  {
   "cell_type": "code",
   "execution_count": null,
   "id": "947ba0cd-42db-43d8-a44c-9921f3c136c9",
   "metadata": {},
   "outputs": [],
   "source": []
  },
  {
   "cell_type": "code",
   "execution_count": null,
   "id": "fc352060-1a78-4370-8d69-8bea6ee66fda",
   "metadata": {},
   "outputs": [],
   "source": []
  },
  {
   "cell_type": "code",
   "execution_count": null,
   "id": "f5b2af89-bcc9-412b-ac0d-530702ab43ea",
   "metadata": {},
   "outputs": [],
   "source": []
  },
  {
   "cell_type": "code",
   "execution_count": null,
   "id": "52efaf55-17d0-4539-92e2-494f372735fb",
   "metadata": {},
   "outputs": [],
   "source": [
    "# translate_training_names_to_raw_names(df_training_data)"
   ]
  },
  {
   "cell_type": "code",
   "execution_count": null,
   "id": "e5315851-61af-4602-87b5-68187848110a",
   "metadata": {},
   "outputs": [],
   "source": [
    "fname = \"/scratch/zimmer/Charles/dlc_stacks/worm10-gui_test/2-training_data/all_tracklets.h5\"\n",
    "df_raw = pd.read_hdf(fname)"
   ]
  },
  {
   "cell_type": "code",
   "execution_count": null,
   "id": "8e4e467a-2b93-41c8-ba28-bce3d81aebee",
   "metadata": {},
   "outputs": [],
   "source": [
    "df_raw.shape"
   ]
  },
  {
   "cell_type": "code",
   "execution_count": null,
   "id": "97cf6727-7224-4844-9c8b-b0dc4d2e6a75",
   "metadata": {},
   "outputs": [],
   "source": [
    "project_data.segmentation_metadata.num_frames"
   ]
  },
  {
   "cell_type": "code",
   "execution_count": null,
   "id": "e98c812c-bdf5-4151-b458-a9a4b241b237",
   "metadata": {},
   "outputs": [],
   "source": [
    "len(project_data.segmentation_metadata.which_frames)"
   ]
  },
  {
   "cell_type": "code",
   "execution_count": null,
   "id": "66c5a51f-c641-4320-b7a2-23594d03ed3b",
   "metadata": {},
   "outputs": [],
   "source": [
    "project_data.segmentation_metadata.volumes_with_no_neurons"
   ]
  },
  {
   "cell_type": "code",
   "execution_count": null,
   "id": "f7b2393b-da60-4162-803a-2ca8dbcdb79b",
   "metadata": {},
   "outputs": [],
   "source": []
  },
  {
   "cell_type": "markdown",
   "id": "b2aa38c9-c53e-402c-9fdd-4c87d129380f",
   "metadata": {},
   "source": [
    "# Scratch: refactor subset df"
   ]
  },
  {
   "cell_type": "code",
   "execution_count": null,
   "id": "dee218b6-ba62-44d3-b196-6546e2898ab1",
   "metadata": {},
   "outputs": [],
   "source": [
    "df = project_data.df_all_tracklets"
   ]
  },
  {
   "cell_type": "code",
   "execution_count": null,
   "id": "71689a74-3d85-4dc1-9753-496ef4f153ec",
   "metadata": {},
   "outputs": [],
   "source": [
    "which_slices = [0, 1, 2]"
   ]
  },
  {
   "cell_type": "code",
   "execution_count": null,
   "id": "218ae258-7de7-4eb9-b463-aa2db9d30824",
   "metadata": {},
   "outputs": [],
   "source": [
    "df_time_subset = df.loc(axis=1)[:, 'z'].iloc[which_slices]"
   ]
  },
  {
   "cell_type": "code",
   "execution_count": null,
   "id": "c1863b48-6080-4de3-953f-836b841d575a",
   "metadata": {},
   "outputs": [],
   "source": [
    "isnan_idx = df_time_subset.isna().sum() == 0\n",
    "isnan_idx"
   ]
  },
  {
   "cell_type": "code",
   "execution_count": null,
   "id": "f33ebaa1-f52e-44ac-b56c-0ece1b819849",
   "metadata": {},
   "outputs": [],
   "source": [
    "isnan_idx = isnan_idx.droplevel(1)"
   ]
  },
  {
   "cell_type": "code",
   "execution_count": null,
   "id": "6e996526-5f94-417a-b979-121ad3a412be",
   "metadata": {},
   "outputs": [],
   "source": [
    "to_keep = [idx for idx in isnan_idx.index if isnan_idx[idx]]\n",
    "to_drop = [idx for idx in isnan_idx.index if not isnan_idx[idx]]"
   ]
  },
  {
   "cell_type": "code",
   "execution_count": null,
   "id": "59793e4e-63e2-48bd-a671-a0a55c70fb63",
   "metadata": {},
   "outputs": [],
   "source": [
    "to_keep[:3]"
   ]
  },
  {
   "cell_type": "code",
   "execution_count": null,
   "id": "04a65f9d-aad8-4447-8f29-1cf342558602",
   "metadata": {},
   "outputs": [],
   "source": []
  },
  {
   "cell_type": "code",
   "execution_count": null,
   "id": "3983de85-62f2-49c5-8701-5f5bcc9dae14",
   "metadata": {},
   "outputs": [],
   "source": [
    "df[to_keep].columns.levels[0]"
   ]
  },
  {
   "cell_type": "code",
   "execution_count": null,
   "id": "439eab90-bf49-42e4-8bfb-6c6738fd5cd3",
   "metadata": {},
   "outputs": [],
   "source": [
    "df2 = df[to_keep].copy()\n",
    "# df2 = df.drop(to_drop, axis=1)\n",
    "# df2.sort_index(inplace=True)"
   ]
  },
  {
   "cell_type": "code",
   "execution_count": null,
   "id": "1b416d3c-5f10-48fc-af48-f16c7ae16051",
   "metadata": {},
   "outputs": [],
   "source": [
    "df2.columns.levels[0]"
   ]
  },
  {
   "cell_type": "code",
   "execution_count": null,
   "id": "cbf4eced-a9b8-4f26-93ba-dc315488a266",
   "metadata": {},
   "outputs": [],
   "source": [
    "# df2.columns"
   ]
  },
  {
   "cell_type": "code",
   "execution_count": null,
   "id": "36b459ec-e493-4c53-952d-703a8bcc5830",
   "metadata": {},
   "outputs": [],
   "source": [
    "# df2.reindex(columns=to_keep, level=0).columns.levels[0]"
   ]
  },
  {
   "cell_type": "code",
   "execution_count": null,
   "id": "4ba7f1c7-217e-477f-a610-cd35f8e4383a",
   "metadata": {},
   "outputs": [],
   "source": []
  },
  {
   "cell_type": "code",
   "execution_count": null,
   "id": "70618a59-bf5b-4fbc-9aa2-bd5c796ad4a6",
   "metadata": {},
   "outputs": [],
   "source": []
  },
  {
   "cell_type": "code",
   "execution_count": null,
   "id": "06412279-d037-4156-97eb-93f2120b4f21",
   "metadata": {},
   "outputs": [],
   "source": [
    "df_time_subset = df.loc(axis=1)[:, 'z'].loc[which_frames]\n",
    "isnan_idx = df_time_subset.isna().sum() == 0\n",
    "isnan_idx = isnan_idx.droplevel(1)\n",
    "to_keep = [idx for idx in isnan_idx.index if isnan_idx[idx]]\n",
    "\n",
    "df_subset = df_tracklets[to_keep]\n",
    "df_subset = df_subset.reindex(columns=to_keep, level=0)  # Otherwise the dropped names remain"
   ]
  },
  {
   "cell_type": "code",
   "execution_count": null,
   "id": "1e98eada-4b03-4992-8400-2bf19a39784d",
   "metadata": {},
   "outputs": [],
   "source": [
    "isnan_idx['tracklet_0014983']"
   ]
  },
  {
   "cell_type": "code",
   "execution_count": null,
   "id": "f62703ed-d7dc-417e-a103-9854a3ba0131",
   "metadata": {},
   "outputs": [],
   "source": [
    "df_time_subset"
   ]
  },
  {
   "cell_type": "code",
   "execution_count": null,
   "id": "9701be9c-8b23-4176-a40c-88aa457c7a18",
   "metadata": {},
   "outputs": [],
   "source": [
    "# Refactor to get luts\n",
    "from DLC_for_WBFM.utils.projects.utils_neuron_names import name2int_neuron_and_tracklet\n",
    "from DLC_for_WBFM.utils.training_data.tracklet_to_DLC import build_subset_df_from_tracklets"
   ]
  },
  {
   "cell_type": "code",
   "execution_count": null,
   "id": "e6932f85-0ecc-4ea8-8ff6-b21d04f5eee9",
   "metadata": {},
   "outputs": [],
   "source": [
    "df2 = build_subset_df_from_tracklets(df_raw, which_frames)"
   ]
  },
  {
   "cell_type": "code",
   "execution_count": null,
   "id": "711e5ffb-9e97-4d05-92f6-b9c2ba732dda",
   "metadata": {},
   "outputs": [],
   "source": [
    "tracklet_names = list(df2.columns.levels[0])\n",
    "\n",
    "all_matches = {}\n",
    "for t in which_frames:\n",
    "    matches = []\n",
    "    for name in tracklet_names:\n",
    "        global_ind = name2int_neuron_and_tracklet(name) + 1\n",
    "        neuron_df = df2[name]\n",
    "        raw_neuron_id = neuron_df['raw_neuron_id'].at[t]\n",
    "        matches.append([global_ind, int(raw_neuron_id)])\n",
    "    all_matches[t] = matches\n",
    "    "
   ]
  },
  {
   "cell_type": "code",
   "execution_count": null,
   "id": "ece72034-360a-451c-b77b-f42bc6931cc0",
   "metadata": {},
   "outputs": [],
   "source": [
    "# all_matches"
   ]
  },
  {
   "cell_type": "code",
   "execution_count": null,
   "id": "7f26c6ff-ccf1-4740-bf88-960cfbd55024",
   "metadata": {},
   "outputs": [],
   "source": [
    "\n",
    "# for name in tracklet_names:\n",
    "#     # print(df2[name]['raw_neuron_id'].loc[which_frames])\n",
    "#     print(df2[[name]].loc[which_frames])"
   ]
  },
  {
   "cell_type": "code",
   "execution_count": null,
   "id": "e987af57-c057-4531-9836-32f580fca652",
   "metadata": {},
   "outputs": [],
   "source": []
  },
  {
   "cell_type": "code",
   "execution_count": null,
   "id": "2d9946e5-9fa6-4b2b-8af3-71115db83ace",
   "metadata": {},
   "outputs": [],
   "source": []
  },
  {
   "cell_type": "markdown",
   "id": "f5a59740-b620-4fa0-8fba-2ada7236214a",
   "metadata": {},
   "source": [
    "# Scratch: Expand training data function"
   ]
  },
  {
   "cell_type": "code",
   "execution_count": null,
   "id": "9987db1e-5f85-4736-b640-3be782014dbd",
   "metadata": {},
   "outputs": [],
   "source": [
    "from DLC_for_WBFM.utils.projects.utils_project import safe_cd\n",
    "import os\n",
    "from DLC_for_WBFM.utils.training_data.tracklet_to_DLC import get_or_recalculate_which_frames\n",
    "from DLC_for_WBFM.utils.training_data.tracklet_to_DLC import build_subset_df_from_tracklets"
   ]
  },
  {
   "cell_type": "code",
   "execution_count": null,
   "id": "1d32fc6b-e913-4e97-98d1-768782b825e0",
   "metadata": {},
   "outputs": [],
   "source": [
    "cfg = project_data.project_config\n",
    "segment_cfg = cfg.get_segmentation_config()\n",
    "training_cfg = cfg.get_training_config()\n",
    "keep_raw_segmentation_index = True\n",
    "DEBUG=False"
   ]
  },
  {
   "cell_type": "code",
   "execution_count": null,
   "id": "e8ac19f3-72ec-410e-b202-574cb55029c0",
   "metadata": {},
   "outputs": [],
   "source": [
    "num_frames = cfg.config['dataset_params']['num_frames']\n",
    "\n",
    "# Get ALL matches to the segmentation, then subset\n",
    "with safe_cd(cfg.project_dir):\n",
    "    # TODO: not hardcoded\n",
    "    fname = os.path.join('raw', 'clust_df_dat.pickle')\n",
    "    fname = training_cfg.resolve_relative_path(fname, prepend_subfolder=True)\n",
    "    df = pd.read_pickle(fname)\n",
    "\n",
    "    # Get the frames chosen as training data, or recalculate\n",
    "    which_frames = get_or_recalculate_which_frames(DEBUG, df, num_frames, training_cfg)\n",
    "    # logging.log(f\"Which frames to use for training data: {which_frames}\")\n",
    "\n",
    "    # Build a sub-df with only the relevant neurons; all slices\n",
    "    # Todo: connect up to actually tracked z slices?\n",
    "    subset_opt = {'which_z': None,\n",
    "                  'max_z_dist': None,\n",
    "                  'verbose': 1}\n",
    "    subset_df = build_subset_df_from_tracklets(df, which_frames, **subset_opt)\n"
   ]
  },
  {
   "cell_type": "code",
   "execution_count": null,
   "id": "1148bbc6-0599-4a4b-a185-7de8c6fbd40c",
   "metadata": {},
   "outputs": [],
   "source": [
    "# %debug"
   ]
  },
  {
   "cell_type": "code",
   "execution_count": null,
   "id": "4ae2e277-b88f-42fd-bdf7-cf760cf1403b",
   "metadata": {},
   "outputs": [],
   "source": [
    "# subset_df"
   ]
  },
  {
   "cell_type": "code",
   "execution_count": null,
   "id": "88c7c513-56cb-4b04-bb73-55aeb91724c6",
   "metadata": {},
   "outputs": [],
   "source": []
  },
  {
   "cell_type": "code",
   "execution_count": null,
   "id": "264297d1-84bb-462a-aab0-04e405da95be",
   "metadata": {},
   "outputs": [],
   "source": []
  },
  {
   "cell_type": "code",
   "execution_count": null,
   "id": "1c5b4847-1e8d-4dea-898d-fede617d3664",
   "metadata": {},
   "outputs": [],
   "source": []
  },
  {
   "cell_type": "code",
   "execution_count": null,
   "id": "a85e9f5a-0997-45ef-b84b-bdb64c46036e",
   "metadata": {},
   "outputs": [],
   "source": []
  },
  {
   "cell_type": "code",
   "execution_count": null,
   "id": "d5ee1bf7-ac1b-4865-9a17-11845321893f",
   "metadata": {},
   "outputs": [],
   "source": []
  },
  {
   "cell_type": "code",
   "execution_count": null,
   "id": "9f4abdea-8a60-4819-a647-8ebc62ea8765",
   "metadata": {},
   "outputs": [],
   "source": [
    "from DLC_for_WBFM.utils.pipeline.tracklet_pipeline import postprocess_and_build_matches_from_config\n",
    "from DLC_for_WBFM.utils.pipeline.tracklet_pipeline import _unpack_config_for_tracklets\n",
    "from DLC_for_WBFM.utils.pipeline.tracklet_pipeline import postprocess_and_build_tracklets_from_matches"
   ]
  },
  {
   "cell_type": "code",
   "execution_count": null,
   "id": "a61a32a0-0129-4c81-a04a-597865132ec9",
   "metadata": {},
   "outputs": [],
   "source": [
    "project_config = project_data.project_config\n",
    "segmentation_config = project_config.get_segmentation_config()\n",
    "training_config = project_config.get_training_config()"
   ]
  },
  {
   "cell_type": "code",
   "execution_count": null,
   "id": "537b276d-0d72-40ed-8e4f-1e49b963df05",
   "metadata": {},
   "outputs": [],
   "source": [
    "# all_frame_dict, all_frame_pairs, z_threshold, min_confidence, segmentation_metadata = \\\n",
    "#         _unpack_config_for_tracklets(training_config, segmentation_config)\n",
    "\n",
    "# # Sanity check\n",
    "# val = len(all_frame_pairs)\n",
    "# expected = project_config.config['dataset_params']['num_frames'] - 1\n",
    "# msg = f\"Incorrect number of frame pairs ({val} != {expected})\"\n",
    "# assert val == expected, msg\n",
    "\n",
    "# # Calculate and save in both raw and dataframe format\n",
    "# df_custom_format = postprocess_and_build_tracklets_from_matches(all_frame_dict, all_frame_pairs,\n",
    "#                                                                 z_threshold, min_confidence)"
   ]
  },
  {
   "cell_type": "code",
   "execution_count": null,
   "id": "dd939564-5cb8-430c-b61c-d39cad6ad7fb",
   "metadata": {},
   "outputs": [],
   "source": [
    "training_config.config"
   ]
  },
  {
   "cell_type": "code",
   "execution_count": null,
   "id": "9a6a8ad9-7154-439c-8e60-f7bdc446c077",
   "metadata": {},
   "outputs": [],
   "source": []
  }
 ],
 "metadata": {
  "kernelspec": {
   "display_name": "Python 3 (ipykernel)",
   "language": "python",
   "name": "python3"
  },
  "language_info": {
   "codemirror_mode": {
    "name": "ipython",
    "version": 3
   },
   "file_extension": ".py",
   "mimetype": "text/x-python",
   "name": "python",
   "nbconvert_exporter": "python",
   "pygments_lexer": "ipython3",
   "version": "3.7.11"
  }
 },
 "nbformat": 4,
 "nbformat_minor": 5
}
