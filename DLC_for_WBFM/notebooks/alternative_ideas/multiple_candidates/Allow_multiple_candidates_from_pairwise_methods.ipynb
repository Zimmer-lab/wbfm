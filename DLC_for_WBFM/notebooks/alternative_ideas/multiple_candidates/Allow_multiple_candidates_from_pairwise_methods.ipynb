{
 "cells": [
  {
   "cell_type": "code",
   "execution_count": 4,
   "id": "29bf192e",
   "metadata": {},
   "outputs": [
    {
     "name": "stdout",
     "output_type": "stream",
     "text": [
      "The autoreload extension is already loaded. To reload it, use:\n",
      "  %reload_ext autoreload\n"
     ]
    }
   ],
   "source": [
    "%load_ext autoreload\n",
    "%autoreload 2\n",
    "import matplotlib.pyplot as plt\n",
    "from wbfm.utils.xinwei_fdnc.formatting import zimmer2leifer\n",
    "from wbfm.utils.xinwei_fdnc.predict import load_fdnc_options_and_template, track_using_fdnc\n",
    "import numpy as np\n",
    "import pandas as pd\n",
    "from collections import defaultdict\n",
    "from tqdm.auto import tqdm\n",
    "import os\n",
    "from fDNC.src.DNC_predict import pre_matt, predict_matches, filter_matches\n",
    "from wbfm.utils.projects.utils_neuron_names import int2name\n",
    "from wbfm.utils.feature_detection.utils_candidate_matches import matches_to_sparse_matrix"
   ]
  },
  {
   "cell_type": "code",
   "execution_count": 5,
   "id": "7176f1cd",
   "metadata": {},
   "outputs": [
    {
     "name": "stderr",
     "output_type": "stream",
     "text": [
      "WARNING:root:Did not find file /scratch/zimmer/Charles/dlc_stacks/worm3-fdnc_pairwise/3-tracking/postprocessing/manual_behavior_annotation.xlsx\n"
     ]
    },
    {
     "name": "stdout",
     "output_type": "stream",
     "text": [
      "=======================================\n",
      "Project data for directory:\n",
      "/scratch/zimmer/Charles/dlc_stacks/worm3-fdnc_pairwise \n",
      "=======================================\n",
      "Found the following raw data files:\n",
      "red_data: True\n",
      "green_data: True\n",
      "============Segmentation===============\n",
      "raw_segmentation: True\n",
      "segmentation: True\n",
      "============Tracklets==================\n",
      "df_training_tracklets: True\n",
      "reindexed_masks_training: True\n",
      "============Traces=====================\n",
      "red_traces: True\n",
      "green_traces: True\n",
      "final_tracks: True\n",
      "behavior_annotations: False\n",
      "\n"
     ]
    }
   ],
   "source": [
    "from wbfm.utils.projects.finished_project_data import ProjectData\n",
    "fname = \"/scratch/zimmer/Charles/dlc_stacks/worm3-fdnc_pairwise/project_config.yaml\"\n",
    "# fname = \"/scratch/zimmer/Charles/dlc_stacks/project-pytest/project_config.yaml\"\n",
    "project_data = ProjectData.load_final_project_data_from_config(fname)"
   ]
  },
  {
   "cell_type": "code",
   "execution_count": 6,
   "id": "ef303f04",
   "metadata": {},
   "outputs": [],
   "source": [
    "all_matches = project_data.raw_matches"
   ]
  },
  {
   "cell_type": "code",
   "execution_count": null,
   "id": "189b4986",
   "metadata": {},
   "outputs": [],
   "source": []
  },
  {
   "cell_type": "code",
   "execution_count": 7,
   "id": "eb1afdcd",
   "metadata": {},
   "outputs": [],
   "source": [
    "pair = (0,1)\n",
    "m = all_matches[pair]"
   ]
  },
  {
   "cell_type": "code",
   "execution_count": 72,
   "id": "ccd82041",
   "metadata": {
    "scrolled": true
   },
   "outputs": [
    {
     "data": {
      "text/plain": [
       "Viewer(axes=Axes(visible=False, labels=True, colored=True, dashed=False, arrows=True), camera=Camera(center=(15.5, 349.5, 449.5), zoom=1.8524320457796852, angles=(0.0, 0.0, 90.0), perspective=0.0, interactive=True), cursor=Cursor(position=(1.0, 1.0, 0.0, 0.0), scaled=True, size=1, style=<CursorStyle.STANDARD: 'standard'>), dims=Dims(ndim=4, ndisplay=3, last_used=3, range=((0.0, 1.0, 1.0), (0.0, 31.0, 1.0), (0.0, 699.0, 1.0), (0.0, 899.0, 1.0)), current_step=(0, 0, 0, 0), order=(0, 1, 2, 3), axis_labels=('0', '1', '2', '3')), grid=GridCanvas(stride=1, shape=(-1, -1), enabled=False), layers=[<Image layer 'raw_red_data' at 0x7f516190b710>, <Points layer 'n0_zxy_raw' at 0x7f51855013d0>, <Points layer 'n1_zxy_raw' at 0x7f514e88b890>, <Tracks layer 'final_matches' at 0x7f51a8508a90>, <Points layer 'Raw IDs' at 0x7f5155726fd0>], scale_bar=ScaleBar(visible=False, colored=False, ticks=True, position=<Position.BOTTOM_RIGHT: 'bottom_right'>, font_size=10.0, unit=None), text_overlay=TextOverlay(visible=False, color=array([0.5, 0.5, 0.5, 1. ]), font_size=10.0, position=<TextOverlayPosition.TOP_LEFT: 'top_left'>, text=''), help='', status='Ready', tooltip=Tooltip(visible=False, text=''), theme='dark', title='napari', mouse_move_callbacks=[], mouse_drag_callbacks=[], mouse_double_click_callbacks=[], mouse_wheel_callbacks=[<function dims_scroll at 0x7f51f5477680>], _persisted_mouse_event={}, _mouse_drag_gen={}, _mouse_wheel_gen={}, keymap={'Control-Shift-C': <bound method QtViewer.toggle_console_visibility of <napari._qt.qt_viewer.QtViewer object at 0x7f51951a8e10>>})"
      ]
     },
     "execution_count": 72,
     "metadata": {},
     "output_type": "execute_result"
    },
    {
     "name": "stderr",
     "output_type": "stream",
     "text": [
      "ERROR:tornado.general:Uncaught exception in ZMQStream callback\n",
      "Traceback (most recent call last):\n",
      "  File \"/home/charles/anaconda3/envs/torch/lib/python3.7/site-packages/zmq/eventloop/zmqstream.py\", line 431, in _run_callback\n",
      "    callback(*args, **kwargs)\n",
      "  File \"/home/charles/anaconda3/envs/torch/lib/python3.7/site-packages/jupyter_client/threaded.py\", line 121, in _handle_recv\n",
      "    msg_list = self.ioloop._asyncio_event_loop.run_until_complete(get_msg(future_msg))\n",
      "  File \"/home/charles/anaconda3/envs/torch/lib/python3.7/asyncio/base_events.py\", line 563, in run_until_complete\n",
      "    self._check_runnung()\n",
      "  File \"/home/charles/anaconda3/envs/torch/lib/python3.7/asyncio/base_events.py\", line 526, in _check_runnung\n",
      "    'Cannot run the event loop while another loop is running')\n",
      "RuntimeError: Cannot run the event loop while another loop is running\n",
      "ERROR:tornado.general:Uncaught exception in ZMQStream callback\n",
      "Traceback (most recent call last):\n",
      "  File \"/home/charles/anaconda3/envs/torch/lib/python3.7/site-packages/zmq/eventloop/zmqstream.py\", line 431, in _run_callback\n",
      "    callback(*args, **kwargs)\n",
      "  File \"/home/charles/anaconda3/envs/torch/lib/python3.7/site-packages/jupyter_client/threaded.py\", line 121, in _handle_recv\n",
      "    msg_list = self.ioloop._asyncio_event_loop.run_until_complete(get_msg(future_msg))\n",
      "  File \"/home/charles/anaconda3/envs/torch/lib/python3.7/asyncio/base_events.py\", line 563, in run_until_complete\n",
      "    self._check_runnung()\n",
      "  File \"/home/charles/anaconda3/envs/torch/lib/python3.7/asyncio/base_events.py\", line 526, in _check_runnung\n",
      "    'Cannot run the event loop while another loop is running')\n",
      "RuntimeError: Cannot run the event loop while another loop is running\n",
      "ERROR:tornado.general:Uncaught exception in zmqstream callback\n",
      "Traceback (most recent call last):\n",
      "  File \"/home/charles/anaconda3/envs/torch/lib/python3.7/site-packages/zmq/eventloop/zmqstream.py\", line 448, in _handle_events\n",
      "    self._handle_recv()\n",
      "  File \"/home/charles/anaconda3/envs/torch/lib/python3.7/site-packages/zmq/eventloop/zmqstream.py\", line 477, in _handle_recv\n",
      "    self._run_callback(callback, msg)\n",
      "  File \"/home/charles/anaconda3/envs/torch/lib/python3.7/site-packages/zmq/eventloop/zmqstream.py\", line 431, in _run_callback\n",
      "    callback(*args, **kwargs)\n",
      "  File \"/home/charles/anaconda3/envs/torch/lib/python3.7/site-packages/jupyter_client/threaded.py\", line 121, in _handle_recv\n",
      "    msg_list = self.ioloop._asyncio_event_loop.run_until_complete(get_msg(future_msg))\n",
      "  File \"/home/charles/anaconda3/envs/torch/lib/python3.7/asyncio/base_events.py\", line 563, in run_until_complete\n",
      "    self._check_runnung()\n",
      "  File \"/home/charles/anaconda3/envs/torch/lib/python3.7/asyncio/base_events.py\", line 526, in _check_runnung\n",
      "    'Cannot run the event loop while another loop is running')\n",
      "RuntimeError: Cannot run the event loop while another loop is running\n",
      "ERROR:tornado.general:Uncaught exception in zmqstream callback\n",
      "Traceback (most recent call last):\n",
      "  File \"/home/charles/anaconda3/envs/torch/lib/python3.7/site-packages/zmq/eventloop/zmqstream.py\", line 448, in _handle_events\n",
      "    self._handle_recv()\n",
      "  File \"/home/charles/anaconda3/envs/torch/lib/python3.7/site-packages/zmq/eventloop/zmqstream.py\", line 477, in _handle_recv\n",
      "    self._run_callback(callback, msg)\n",
      "  File \"/home/charles/anaconda3/envs/torch/lib/python3.7/site-packages/zmq/eventloop/zmqstream.py\", line 431, in _run_callback\n",
      "    callback(*args, **kwargs)\n",
      "  File \"/home/charles/anaconda3/envs/torch/lib/python3.7/site-packages/jupyter_client/threaded.py\", line 121, in _handle_recv\n",
      "    msg_list = self.ioloop._asyncio_event_loop.run_until_complete(get_msg(future_msg))\n",
      "  File \"/home/charles/anaconda3/envs/torch/lib/python3.7/asyncio/base_events.py\", line 563, in run_until_complete\n",
      "    self._check_runnung()\n",
      "  File \"/home/charles/anaconda3/envs/torch/lib/python3.7/asyncio/base_events.py\", line 526, in _check_runnung\n",
      "    'Cannot run the event loop while another loop is running')\n",
      "RuntimeError: Cannot run the event loop while another loop is running\n",
      "ERROR:asyncio:Exception in callback BaseAsyncIOLoop._handle_events(145, 1)\n",
      "handle: <Handle BaseAsyncIOLoop._handle_events(145, 1)>\n",
      "Traceback (most recent call last):\n",
      "  File \"/home/charles/anaconda3/envs/torch/lib/python3.7/asyncio/events.py\", line 88, in _run\n",
      "    self._context.run(self._callback, *self._args)\n",
      "  File \"/home/charles/anaconda3/envs/torch/lib/python3.7/site-packages/tornado/platform/asyncio.py\", line 189, in _handle_events\n",
      "    handler_func(fileobj, events)\n",
      "  File \"/home/charles/anaconda3/envs/torch/lib/python3.7/site-packages/zmq/eventloop/zmqstream.py\", line 448, in _handle_events\n",
      "    self._handle_recv()\n",
      "  File \"/home/charles/anaconda3/envs/torch/lib/python3.7/site-packages/zmq/eventloop/zmqstream.py\", line 477, in _handle_recv\n",
      "    self._run_callback(callback, msg)\n",
      "  File \"/home/charles/anaconda3/envs/torch/lib/python3.7/site-packages/zmq/eventloop/zmqstream.py\", line 431, in _run_callback\n",
      "    callback(*args, **kwargs)\n",
      "  File \"/home/charles/anaconda3/envs/torch/lib/python3.7/site-packages/jupyter_client/threaded.py\", line 121, in _handle_recv\n",
      "    msg_list = self.ioloop._asyncio_event_loop.run_until_complete(get_msg(future_msg))\n",
      "  File \"/home/charles/anaconda3/envs/torch/lib/python3.7/asyncio/base_events.py\", line 563, in run_until_complete\n",
      "    self._check_runnung()\n",
      "  File \"/home/charles/anaconda3/envs/torch/lib/python3.7/asyncio/base_events.py\", line 526, in _check_runnung\n",
      "    'Cannot run the event loop while another loop is running')\n",
      "RuntimeError: Cannot run the event loop while another loop is running\n"
     ]
    }
   ],
   "source": [
    "project_data.napari_of_single_match(pair)"
   ]
  },
  {
   "cell_type": "code",
   "execution_count": 62,
   "id": "d241d8c0",
   "metadata": {},
   "outputs": [
    {
     "data": {
      "application/vnd.jupyter.widget-view+json": {
       "model_id": "",
       "version_major": 2,
       "version_minor": 0
      },
      "text/plain": [
       "  0%|          | 0/32 [00:00<?, ?it/s]"
      ]
     },
     "metadata": {},
     "output_type": "display_data"
    }
   ],
   "source": [
    "m.options.fdnc_options['topn'] = 3\n",
    "m.options.affine_num_candidates = 3\n",
    "m.options.gp_num_candidates = 3\n",
    "\n",
    "m.match_using_local_affine()\n",
    "m.match_using_gp()\n",
    "m.match_using_fdnc()"
   ]
  },
  {
   "cell_type": "code",
   "execution_count": 63,
   "id": "93531b6f",
   "metadata": {
    "scrolled": true
   },
   "outputs": [
    {
     "name": "stdout",
     "output_type": "stream",
     "text": [
      "Candidate: (34, 22, 0.12828506412735577)\n",
      "Candidate: (34, 38, 0.08218959156929707)\n",
      "Candidate: (34, 22, 0.11269338491026125)\n",
      "Candidate: (34, 38, 0.06186985303264858)\n",
      "Candidate: (34, 18, 0.042727289487510485)\n",
      "Candidate: (34, 18, 0.25106072)\n",
      "Candidate: (34, 22, 0.48169032)\n",
      "Candidate: (34, 27, 0.083414815)\n",
      "Candidate: (34, 38, 0.61578053)\n",
      "Candidate: (34, 64, 0.17085364)\n",
      "Candidate: (34, 150, 0.039738607)\n"
     ]
    }
   ],
   "source": [
    "m.print_candidates_for_neuron(34)"
   ]
  },
  {
   "cell_type": "code",
   "execution_count": 73,
   "id": "4de95441",
   "metadata": {},
   "outputs": [
    {
     "name": "stdout",
     "output_type": "stream",
     "text": [
      "Candidate: (17, 17, 0.22438898730022577)\n",
      "Candidate: (17, 17, 0.08267403811665573)\n",
      "Candidate: (17, 17, 0.09847124482072768)\n",
      "Candidate: (17, 4, 0.05902416054054193)\n",
      "Candidate: (17, 3, 0.047173040897111385)\n",
      "Candidate: (17, 3, 0.0038649866)\n",
      "Candidate: (17, 11, 0.0037047665)\n",
      "Candidate: (17, 17, 0.22010763)\n",
      "Candidate: (17, 23, 0.03553561)\n",
      "Candidate: (17, 43, 0.09468804)\n"
     ]
    }
   ],
   "source": [
    "m.print_candidates_for_neuron(17)"
   ]
  },
  {
   "cell_type": "code",
   "execution_count": 64,
   "id": "ec8d04cf",
   "metadata": {},
   "outputs": [
    {
     "name": "stdout",
     "output_type": "stream",
     "text": [
      "Candidate: (23, 22, 0.2823131087939511)\n",
      "Candidate: (23, 22, 0.22357340527827058)\n",
      "Candidate: (34, 22, 0.12828506412735577)\n",
      "Candidate: (14, 22, 0.05226103677359605)\n",
      "Candidate: (23, 22, 0.10217517499405428)\n",
      "Candidate: (34, 22, 0.11269338491026125)\n",
      "Candidate: (34, 22, 0.48169032)\n",
      "Candidate: (23, 22, 0.42206722)\n",
      "Candidate: (14, 22, 0.07752046)\n"
     ]
    }
   ],
   "source": [
    "m.print_candidates_for_neuron(22, 1)"
   ]
  },
  {
   "cell_type": "code",
   "execution_count": 65,
   "id": "6a49be68",
   "metadata": {},
   "outputs": [
    {
     "name": "stdout",
     "output_type": "stream",
     "text": [
      "Candidate: (138, 38, 0.31615974186233947)\n",
      "Candidate: (34, 38, 0.08218959156929707)\n",
      "Candidate: (23, 38, 0.037147702065015276)\n",
      "Candidate: (34, 38, 0.06186985303264858)\n",
      "Candidate: (34, 38, 0.61578053)\n",
      "Candidate: (23, 38, 0.27889913)\n",
      "Candidate: (138, 38, 0.058087867)\n"
     ]
    }
   ],
   "source": [
    "m.print_candidates_for_neuron(38, 1)"
   ]
  },
  {
   "cell_type": "code",
   "execution_count": 66,
   "id": "844863eb",
   "metadata": {},
   "outputs": [],
   "source": [
    "m.calc_final_matches_using_bipartite_matching();"
   ]
  },
  {
   "cell_type": "code",
   "execution_count": 71,
   "id": "b152e5aa",
   "metadata": {
    "scrolled": true
   },
   "outputs": [
    {
     "data": {
      "text/plain": [
       "38"
      ]
     },
     "execution_count": 71,
     "metadata": {},
     "output_type": "execute_result"
    }
   ],
   "source": [
    "m.get_f0_to_f1_dict()[34]"
   ]
  },
  {
   "cell_type": "code",
   "execution_count": 75,
   "id": "797be661",
   "metadata": {},
   "outputs": [],
   "source": [
    "m.options.min_confidence = 0.4\n",
    "m.calc_final_matches_using_bipartite_matching();"
   ]
  },
  {
   "cell_type": "code",
   "execution_count": 76,
   "id": "aaaf2fbe",
   "metadata": {},
   "outputs": [
    {
     "data": {
      "text/plain": [
       "Viewer(axes=Axes(visible=False, labels=True, colored=True, dashed=False, arrows=True), camera=Camera(center=(15.5, 349.5, 449.5), zoom=1.8524320457796852, angles=(0.0, 0.0, 90.0), perspective=0.0, interactive=True), cursor=Cursor(position=(1.0, 1.0, 0.0, 0.0), scaled=True, size=1, style=<CursorStyle.STANDARD: 'standard'>), dims=Dims(ndim=4, ndisplay=3, last_used=3, range=((0.0, 1.0, 1.0), (0.0, 31.0, 1.0), (0.0, 699.0, 1.0), (0.0, 899.0, 1.0)), current_step=(0, 0, 0, 0), order=(0, 1, 2, 3), axis_labels=('0', '1', '2', '3')), grid=GridCanvas(stride=1, shape=(-1, -1), enabled=False), layers=[<Image layer 'raw_red_data' at 0x7f5176d5fbd0>, <Points layer 'n0_zxy_raw' at 0x7f515497ed50>, <Points layer 'n1_zxy_raw' at 0x7f51b4636c50>, <Tracks layer 'final_matches' at 0x7f518daec190>, <Points layer 'Raw IDs' at 0x7f515a030210>], scale_bar=ScaleBar(visible=False, colored=False, ticks=True, position=<Position.BOTTOM_RIGHT: 'bottom_right'>, font_size=10.0, unit=None), text_overlay=TextOverlay(visible=False, color=array([0.5, 0.5, 0.5, 1. ]), font_size=10.0, position=<TextOverlayPosition.TOP_LEFT: 'top_left'>, text=''), help='', status='Ready', tooltip=Tooltip(visible=False, text=''), theme='dark', title='napari', mouse_move_callbacks=[], mouse_drag_callbacks=[], mouse_double_click_callbacks=[], mouse_wheel_callbacks=[<function dims_scroll at 0x7f51f5477680>], _persisted_mouse_event={}, _mouse_drag_gen={}, _mouse_wheel_gen={}, keymap={'Control-Shift-C': <bound method QtViewer.toggle_console_visibility of <napari._qt.qt_viewer.QtViewer object at 0x7f514d7dcd70>>})"
      ]
     },
     "execution_count": 76,
     "metadata": {},
     "output_type": "execute_result"
    },
    {
     "name": "stderr",
     "output_type": "stream",
     "text": [
      "ERROR:tornado.general:Uncaught exception in ZMQStream callback\n",
      "Traceback (most recent call last):\n",
      "  File \"/home/charles/anaconda3/envs/torch/lib/python3.7/site-packages/zmq/eventloop/zmqstream.py\", line 431, in _run_callback\n",
      "    callback(*args, **kwargs)\n",
      "  File \"/home/charles/anaconda3/envs/torch/lib/python3.7/site-packages/jupyter_client/threaded.py\", line 121, in _handle_recv\n",
      "    msg_list = self.ioloop._asyncio_event_loop.run_until_complete(get_msg(future_msg))\n",
      "  File \"/home/charles/anaconda3/envs/torch/lib/python3.7/asyncio/base_events.py\", line 563, in run_until_complete\n",
      "    self._check_runnung()\n",
      "  File \"/home/charles/anaconda3/envs/torch/lib/python3.7/asyncio/base_events.py\", line 526, in _check_runnung\n",
      "    'Cannot run the event loop while another loop is running')\n",
      "RuntimeError: Cannot run the event loop while another loop is running\n",
      "ERROR:tornado.general:Uncaught exception in ZMQStream callback\n",
      "Traceback (most recent call last):\n",
      "  File \"/home/charles/anaconda3/envs/torch/lib/python3.7/site-packages/zmq/eventloop/zmqstream.py\", line 431, in _run_callback\n",
      "    callback(*args, **kwargs)\n",
      "  File \"/home/charles/anaconda3/envs/torch/lib/python3.7/site-packages/jupyter_client/threaded.py\", line 121, in _handle_recv\n",
      "    msg_list = self.ioloop._asyncio_event_loop.run_until_complete(get_msg(future_msg))\n",
      "  File \"/home/charles/anaconda3/envs/torch/lib/python3.7/asyncio/base_events.py\", line 563, in run_until_complete\n",
      "    self._check_runnung()\n",
      "  File \"/home/charles/anaconda3/envs/torch/lib/python3.7/asyncio/base_events.py\", line 526, in _check_runnung\n",
      "    'Cannot run the event loop while another loop is running')\n",
      "RuntimeError: Cannot run the event loop while another loop is running\n"
     ]
    }
   ],
   "source": [
    "project_data.napari_of_single_match(pair)"
   ]
  }
 ],
 "metadata": {
  "kernelspec": {
   "display_name": "Python 3 (ipykernel)",
   "language": "python",
   "name": "python3"
  },
  "language_info": {
   "codemirror_mode": {
    "name": "ipython",
    "version": 3
   },
   "file_extension": ".py",
   "mimetype": "text/x-python",
   "name": "python",
   "nbconvert_exporter": "python",
   "pygments_lexer": "ipython3",
   "version": "3.7.11"
  }
 },
 "nbformat": 4,
 "nbformat_minor": 5
}
