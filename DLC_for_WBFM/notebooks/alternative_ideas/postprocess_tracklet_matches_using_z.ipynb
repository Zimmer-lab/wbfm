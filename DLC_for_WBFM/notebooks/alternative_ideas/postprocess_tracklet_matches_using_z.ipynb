{
 "cells": [
  {
   "cell_type": "code",
   "execution_count": 1,
   "id": "d0a81b00-d4df-462f-acfb-f1051f3d8456",
   "metadata": {},
   "outputs": [
    {
     "name": "stderr",
     "output_type": "stream",
     "text": [
      "\n",
      "Bad key \"text.kerning_factor\" on line 4 in\n",
      "/home/charles/anaconda3/envs/torch/lib/python3.7/site-packages/matplotlib/mpl-data/stylelib/_classic_test_patch.mplstyle.\n",
      "You probably need to get an updated matplotlibrc file from\n",
      "http://github.com/matplotlib/matplotlib/blob/master/matplotlibrc.template\n",
      "or from the matplotlib source distribution\n"
     ]
    }
   ],
   "source": [
    "%load_ext autoreload\n",
    "%autoreload 2\n",
    "import matplotlib.pyplot as plt\n",
    "from DLC_for_WBFM.utils.projects.finished_project_data import ProjectData\n",
    "import napari\n",
    "import pandas as pd\n",
    "import numpy as np\n",
    "from DLC_for_WBFM.utils.feature_detection.class_frame_pair import FramePair\n"
   ]
  },
  {
   "cell_type": "code",
   "execution_count": 2,
   "id": "68a82ccf-9afe-4c69-a4e1-6c821c8bbb9b",
   "metadata": {},
   "outputs": [
    {
     "name": "stderr",
     "output_type": "stream",
     "text": [
      "WARNING:root:Did not find file /scratch/zimmer/Charles/dlc_stacks/worm9-gui_test/3-tracking/manual_annotation/split_names.pickle\n",
      "WARNING:root:Did not find file /scratch/zimmer/Charles/dlc_stacks/worm9-gui_test/3-tracking/manual_annotation/split_times.pickle\n"
     ]
    },
    {
     "name": "stdout",
     "output_type": "stream",
     "text": [
      "Output files: /scratch/zimmer/Charles/dlc_stacks/worm9-gui_test/3-tracking/manual_annotation/global2tracklet_manual.pickle, /scratch/zimmer/Charles/dlc_stacks/worm9-gui_test/3-tracking/manual_annotation/manually_split_tracklets.h5, /scratch/zimmer/Charles/dlc_stacks/worm9-gui_test/3-tracking/manual_annotation/split_names.pickle, /scratch/zimmer/Charles/dlc_stacks/worm9-gui_test/3-tracking/manual_annotation/split_times.pickle\n",
      "=======================================\n",
      "Project data for directory:\n",
      "/scratch/zimmer/Charles/dlc_stacks/worm9-gui_test \n",
      "=======================================\n",
      "Found the following raw data files:\n",
      "red_data:                 True\n",
      "green_data:               True\n",
      "============Segmentation===============\n",
      "raw_segmentation:         True\n",
      "segmentation:             True\n",
      "============Tracklets==================\n",
      "df_training_tracklets:    True\n",
      "reindexed_masks_training: True\n",
      "============Traces=====================\n",
      "red_traces:               True\n",
      "green_traces:             True\n",
      "final_tracks:             True\n",
      "behavior_annotations:     True\n",
      "\n"
     ]
    }
   ],
   "source": [
    "fname = \"/scratch/zimmer/Charles/dlc_stacks/worm9-gui_test/project_config.yaml\"\n",
    "project_data = ProjectData.load_final_project_data_from_config(fname, to_load_tracklets=True, to_load_segmentation_metadata=True)"
   ]
  },
  {
   "cell_type": "markdown",
   "id": "44d4cdb2-2219-4399-9cb5-45817d57b910",
   "metadata": {},
   "source": [
    "# Look at tracklets that were correctly and incorrectly assigned"
   ]
  },
  {
   "cell_type": "code",
   "execution_count": 3,
   "id": "dd14c48a-2af7-4b0a-8330-13ee8164b085",
   "metadata": {},
   "outputs": [],
   "source": [
    "df_tracklets = project_data.df_all_tracklets"
   ]
  },
  {
   "cell_type": "code",
   "execution_count": 4,
   "id": "99d62353-dd58-4657-8dc2-d54700992edb",
   "metadata": {},
   "outputs": [],
   "source": [
    "# Neuron 2\n",
    "i_was_assigned_good = 'tracklet_0000076'\n",
    "was_assigned_good = df_tracklets[i_was_assigned_good]\n",
    "i_was_assigned_bad = 'tracklet_0003725'\n",
    "was_assigned_bad = df_tracklets[i_was_assigned_bad]"
   ]
  },
  {
   "cell_type": "code",
   "execution_count": 5,
   "id": "b09df041-e8be-4ae4-bc71-28d27a6993bd",
   "metadata": {},
   "outputs": [],
   "source": [
    "i_not_assigned_good = 'tracklet_0003411'\n",
    "not_assigned_good = df_tracklets[i_not_assigned_good]"
   ]
  },
  {
   "cell_type": "code",
   "execution_count": 23,
   "id": "c3e039d7-17dc-4ed7-b9e7-f9e3511abad9",
   "metadata": {},
   "outputs": [
    {
     "data": {
      "text/html": [
       "<div>\n",
       "<style scoped>\n",
       "    .dataframe tbody tr th:only-of-type {\n",
       "        vertical-align: middle;\n",
       "    }\n",
       "\n",
       "    .dataframe tbody tr th {\n",
       "        vertical-align: top;\n",
       "    }\n",
       "\n",
       "    .dataframe thead th {\n",
       "        text-align: right;\n",
       "    }\n",
       "</style>\n",
       "<table border=\"1\" class=\"dataframe\">\n",
       "  <thead>\n",
       "    <tr style=\"text-align: right;\">\n",
       "      <th>coords</th>\n",
       "      <th>z</th>\n",
       "      <th>x</th>\n",
       "      <th>y</th>\n",
       "      <th>likelihood</th>\n",
       "      <th>raw_neuron_id</th>\n",
       "      <th>brightness_red</th>\n",
       "      <th>volume</th>\n",
       "    </tr>\n",
       "  </thead>\n",
       "  <tbody>\n",
       "    <tr>\n",
       "      <th>0</th>\n",
       "      <td>10.422511</td>\n",
       "      <td>223.389691</td>\n",
       "      <td>563.542558</td>\n",
       "      <td>0.600999</td>\n",
       "      <td>81.0</td>\n",
       "      <td>14686.0</td>\n",
       "      <td>577.0</td>\n",
       "    </tr>\n",
       "    <tr>\n",
       "      <th>1</th>\n",
       "      <td>10.503183</td>\n",
       "      <td>221.308208</td>\n",
       "      <td>556.427538</td>\n",
       "      <td>0.728719</td>\n",
       "      <td>78.0</td>\n",
       "      <td>14925.0</td>\n",
       "      <td>562.0</td>\n",
       "    </tr>\n",
       "    <tr>\n",
       "      <th>2</th>\n",
       "      <td>10.520984</td>\n",
       "      <td>210.890190</td>\n",
       "      <td>531.396608</td>\n",
       "      <td>0.608017</td>\n",
       "      <td>80.0</td>\n",
       "      <td>15035.0</td>\n",
       "      <td>563.0</td>\n",
       "    </tr>\n",
       "    <tr>\n",
       "      <th>3</th>\n",
       "      <td>10.584052</td>\n",
       "      <td>211.489506</td>\n",
       "      <td>516.604448</td>\n",
       "      <td>0.504838</td>\n",
       "      <td>79.0</td>\n",
       "      <td>15199.0</td>\n",
       "      <td>576.0</td>\n",
       "    </tr>\n",
       "    <tr>\n",
       "      <th>4</th>\n",
       "      <td>10.943973</td>\n",
       "      <td>218.568154</td>\n",
       "      <td>500.607507</td>\n",
       "      <td>0.522517</td>\n",
       "      <td>82.0</td>\n",
       "      <td>16492.0</td>\n",
       "      <td>609.0</td>\n",
       "    </tr>\n",
       "  </tbody>\n",
       "</table>\n",
       "</div>"
      ],
      "text/plain": [
       "coords          z           x           y  likelihood  raw_neuron_id  \\\n",
       "0       10.422511  223.389691  563.542558    0.600999           81.0   \n",
       "1       10.503183  221.308208  556.427538    0.728719           78.0   \n",
       "2       10.520984  210.890190  531.396608    0.608017           80.0   \n",
       "3       10.584052  211.489506  516.604448    0.504838           79.0   \n",
       "4       10.943973  218.568154  500.607507    0.522517           82.0   \n",
       "\n",
       "coords  brightness_red  volume  \n",
       "0              14686.0   577.0  \n",
       "1              14925.0   562.0  \n",
       "2              15035.0   563.0  \n",
       "3              15199.0   576.0  \n",
       "4              16492.0   609.0  "
      ]
     },
     "execution_count": 23,
     "metadata": {},
     "output_type": "execute_result"
    }
   ],
   "source": [
    "was_assigned_good.head()"
   ]
  },
  {
   "cell_type": "code",
   "execution_count": 26,
   "id": "09c9df31-1e6e-49e7-815d-1746809659fa",
   "metadata": {},
   "outputs": [],
   "source": [
    "to_plot = 'brightness_red'\n",
    "\n",
    "x1 = was_assigned_good[to_plot]\n",
    "x2 = not_assigned_good[to_plot]\n",
    "y1 = was_assigned_bad[to_plot]"
   ]
  },
  {
   "cell_type": "code",
   "execution_count": 27,
   "id": "50c3d5fc-c996-429b-b30d-25b651c8190c",
   "metadata": {},
   "outputs": [
    {
     "data": {
      "text/plain": [
       "([array([ 1.,  5., 15., 62., 75., 74., 74., 53., 19.,  4.]),\n",
       "  array([ 2.,  4., 21., 74., 86., 90., 37., 26., 12.,  5.]),\n",
       "  array([ 0.,  5., 18., 24., 17.,  5.,  4.,  2.,  3.,  1.])],\n",
       " array([ 8155. , 10104.6, 12054.2, 14003.8, 15953.4, 17903. , 19852.6,\n",
       "        21802.2, 23751.8, 25701.4, 27651. ]),\n",
       " <a list of 3 Lists of Patches objects>)"
      ]
     },
     "execution_count": 27,
     "metadata": {},
     "output_type": "execute_result"
    },
    {
     "data": {
      "image/png": "[encoded data removed]",
      "text/plain": [
       "<Figure size 432x288 with 1 Axes>"
      ]
     },
     "metadata": {
      "needs_background": "light"
     },
     "output_type": "display_data"
    }
   ],
   "source": [
    "plt.hist([x1, x2, y1])"
   ]
  },
  {
   "cell_type": "markdown",
   "id": "c073c1e3-154f-400b-9513-4c047c0b62ff",
   "metadata": {},
   "source": [
    "# Try simple outlier detection"
   ]
  },
  {
   "cell_type": "code",
   "execution_count": 33,
   "id": "a61bb67c-0a0b-4761-8372-0e9005ccbdb6",
   "metadata": {},
   "outputs": [],
   "source": [
    "from sklearn.covariance import EllipticEnvelope\n",
    "from sklearn.svm import OneClassSVM\n",
    "# from sklearn.linear_model import SGDOneClassSVM"
   ]
  },
  {
   "cell_type": "code",
   "execution_count": 45,
   "id": "e225d17d-ce50-4678-8bc9-16a544facae7",
   "metadata": {},
   "outputs": [],
   "source": [
    "to_plot = ['brightness_red', 'z', 'volume']\n",
    "\n",
    "# x1 = was_assigned_good[to_plot].dropna().to_numpy().reshape(-1,1)\n",
    "# x2 = not_assigned_good[to_plot].dropna().to_numpy().reshape(-1,1)\n",
    "# y1 = was_assigned_bad[to_plot].dropna().to_numpy().reshape(-1,1)\n",
    "x1 = was_assigned_good[to_plot].dropna().to_numpy()\n",
    "x2 = not_assigned_good[to_plot].dropna().to_numpy()\n",
    "y1 = was_assigned_bad[to_plot].dropna().to_numpy()"
   ]
  },
  {
   "cell_type": "code",
   "execution_count": 46,
   "id": "5ae376e1-3e7e-475f-bf11-765317aec00d",
   "metadata": {},
   "outputs": [
    {
     "data": {
      "text/plain": [
       "(382, 3)"
      ]
     },
     "execution_count": 46,
     "metadata": {},
     "output_type": "execute_result"
    }
   ],
   "source": [
    "x1.shape"
   ]
  },
  {
   "cell_type": "code",
   "execution_count": 51,
   "id": "97f4411a-527c-4434-b455-91c7e403263c",
   "metadata": {},
   "outputs": [
    {
     "name": "stdout",
     "output_type": "stream",
     "text": [
      "37.7 ms ± 9.17 ms per loop (mean ± std. dev. of 7 runs, 10 loops each)\n"
     ]
    }
   ],
   "source": [
    "%%timeit\n",
    "classifier = EllipticEnvelope(support_fraction=1.0, contamination=0.05).fit(x1)\n",
    "classifier.predict(y1)"
   ]
  },
  {
   "cell_type": "code",
   "execution_count": 52,
   "id": "7cee99e9-3bf4-4f8f-bc49-6621a8bce32b",
   "metadata": {},
   "outputs": [
    {
     "name": "stdout",
     "output_type": "stream",
     "text": [
      "9.91 ms ± 1.65 ms per loop (mean ± std. dev. of 7 runs, 100 loops each)\n"
     ]
    }
   ],
   "source": [
    "%%timeit\n",
    "classifier = OneClassSVM().fit(x1)\n",
    "classifier.predict(y1)"
   ]
  },
  {
   "cell_type": "code",
   "execution_count": 53,
   "id": "97f4ef2d-8c11-45d5-a2f6-ee6d8f8b2765",
   "metadata": {},
   "outputs": [
    {
     "data": {
      "text/plain": [
       "array([-1, -1,  1, -1, -1, -1,  1,  1,  1,  1,  1,  1,  1, -1, -1, -1, -1,\n",
       "       -1, -1, -1, -1, -1, -1, -1, -1,  1, -1, -1, -1, -1, -1, -1, -1, -1,\n",
       "        1,  1,  1,  1,  1,  1,  1,  1, -1,  1, -1, -1, -1, -1, -1, -1, -1,\n",
       "       -1, -1, -1, -1, -1, -1, -1, -1, -1, -1, -1,  1,  1, -1, -1, -1, -1,\n",
       "       -1, -1, -1, -1, -1,  1, -1, -1, -1,  1, -1])"
      ]
     },
     "execution_count": 53,
     "metadata": {},
     "output_type": "execute_result"
    }
   ],
   "source": [
    "classifier.predict(y1)"
   ]
  },
  {
   "cell_type": "code",
   "execution_count": 117,
   "id": "23b6c216-a640-43ad-a9b7-02aed598c5fe",
   "metadata": {},
   "outputs": [
    {
     "name": "stderr",
     "output_type": "stream",
     "text": [
      "[autoreload of DLC_for_WBFM.utils.pipeline.tracklet_class failed: Traceback (most recent call last):\n",
      "  File \"/home/charles/anaconda3/envs/torch/lib/python3.7/site-packages/IPython/extensions/autoreload.py\", line 245, in check\n",
      "    superreload(m, reload, self.old_objects)\n",
      "  File \"/home/charles/anaconda3/envs/torch/lib/python3.7/site-packages/IPython/extensions/autoreload.py\", line 394, in superreload\n",
      "    module = reload(module)\n",
      "  File \"/home/charles/anaconda3/envs/torch/lib/python3.7/imp.py\", line 314, in reload\n",
      "    return importlib.reload(module)\n",
      "  File \"/home/charles/anaconda3/envs/torch/lib/python3.7/importlib/__init__.py\", line 169, in reload\n",
      "    _bootstrap._exec(spec, module)\n",
      "  File \"<frozen importlib._bootstrap>\", line 630, in _exec\n",
      "  File \"<frozen importlib._bootstrap_external>\", line 724, in exec_module\n",
      "  File \"<frozen importlib._bootstrap_external>\", line 860, in get_code\n",
      "  File \"<frozen importlib._bootstrap_external>\", line 791, in source_to_code\n",
      "  File \"<frozen importlib._bootstrap>\", line 219, in _call_with_frames_removed\n",
      "  File \"/home/charles/Current_work/repos/dlc_for_wbfm/DLC_for_WBFM/utils/pipeline/tracklet_class.py\", line 58\n",
      "    else:\n",
      "       ^\n",
      "IndentationError: expected an indented block\n",
      "]\n"
     ]
    },
    {
     "data": {
      "text/plain": [
       "-0.4430379746835443"
      ]
     },
     "execution_count": 117,
     "metadata": {},
     "output_type": "execute_result"
    }
   ],
   "source": [
    "np.mean(classifier.predict(y1))"
   ]
  },
  {
   "cell_type": "markdown",
   "id": "93ee3ce4-1a30-45b9-a68f-debeaab8f61a",
   "metadata": {},
   "source": [
    "# Use classes (initialize on training data)"
   ]
  },
  {
   "cell_type": "code",
   "execution_count": null,
   "id": "6c6a595b-5571-4cc9-85a1-3daa213cfcc8",
   "metadata": {},
   "outputs": [],
   "source": []
  },
  {
   "cell_type": "code",
   "execution_count": null,
   "id": "c9d1a87e-0819-42c9-b0dd-142c0d4e5f08",
   "metadata": {},
   "outputs": [],
   "source": []
  },
  {
   "cell_type": "code",
   "execution_count": null,
   "id": "15c80715-f03b-4c15-b7a0-ebc8c8be2042",
   "metadata": {},
   "outputs": [],
   "source": []
  },
  {
   "cell_type": "markdown",
   "id": "92c1689f-b654-4132-92bf-666713f52c30",
   "metadata": {},
   "source": [
    "# Scratch: Use neuron/tracklet classes"
   ]
  },
  {
   "cell_type": "code",
   "execution_count": 104,
   "id": "f390a05c-27ec-41a6-921d-2b67a64b6cf4",
   "metadata": {},
   "outputs": [],
   "source": [
    "from DLC_for_WBFM.utils.pipeline.tracklet_class import TrackedWorm"
   ]
  },
  {
   "cell_type": "code",
   "execution_count": 105,
   "id": "3154856c-d25d-4df4-8582-3e8066289f82",
   "metadata": {},
   "outputs": [],
   "source": [
    "tracklets_and_neurons_class = project_data.tracklets_and_neurons_class\n",
    "\n",
    "worm_obj = TrackedWorm(detections=tracklets_and_neurons_class, verbose=1)"
   ]
  },
  {
   "cell_type": "code",
   "execution_count": 106,
   "id": "a56b51df-8ce7-4303-848d-a0b70b1187cc",
   "metadata": {},
   "outputs": [],
   "source": [
    "worm_obj.initialize_neurons_at_time_0()"
   ]
  },
  {
   "cell_type": "code",
   "execution_count": 107,
   "id": "2eb8be05-1160-44c4-8f2a-f889d2e53a9c",
   "metadata": {},
   "outputs": [
    {
     "data": {
      "text/plain": [
       "Neuron neuron_001 (index=0) with 1 tracklets from time 0 to 373"
      ]
     },
     "execution_count": 107,
     "metadata": {},
     "output_type": "execute_result"
    }
   ],
   "source": [
    "worm_obj.global_name_to_neuron['neuron_001']"
   ]
  },
  {
   "cell_type": "code",
   "execution_count": 108,
   "id": "c6138838-9502-4411-9534-4a46cbd3ee8b",
   "metadata": {},
   "outputs": [
    {
     "data": {
      "text/html": [
       "<div>\n",
       "<style scoped>\n",
       "    .dataframe tbody tr th:only-of-type {\n",
       "        vertical-align: middle;\n",
       "    }\n",
       "\n",
       "    .dataframe tbody tr th {\n",
       "        vertical-align: top;\n",
       "    }\n",
       "\n",
       "    .dataframe thead th {\n",
       "        text-align: right;\n",
       "    }\n",
       "</style>\n",
       "<table border=\"1\" class=\"dataframe\">\n",
       "  <thead>\n",
       "    <tr style=\"text-align: right;\">\n",
       "      <th>coords</th>\n",
       "      <th>z</th>\n",
       "      <th>x</th>\n",
       "      <th>y</th>\n",
       "      <th>likelihood</th>\n",
       "      <th>raw_neuron_id</th>\n",
       "      <th>brightness_red</th>\n",
       "      <th>volume</th>\n",
       "    </tr>\n",
       "  </thead>\n",
       "  <tbody>\n",
       "    <tr>\n",
       "      <th>0</th>\n",
       "      <td>4.152485</td>\n",
       "      <td>275.693147</td>\n",
       "      <td>552.621238</td>\n",
       "      <td>0.542036</td>\n",
       "      <td>1.0</td>\n",
       "      <td>30803.0</td>\n",
       "      <td>800.0</td>\n",
       "    </tr>\n",
       "    <tr>\n",
       "      <th>1</th>\n",
       "      <td>3.468167</td>\n",
       "      <td>274.280342</td>\n",
       "      <td>556.839252</td>\n",
       "      <td>0.760970</td>\n",
       "      <td>5.0</td>\n",
       "      <td>31540.0</td>\n",
       "      <td>781.0</td>\n",
       "    </tr>\n",
       "    <tr>\n",
       "      <th>2</th>\n",
       "      <td>3.360745</td>\n",
       "      <td>263.394089</td>\n",
       "      <td>552.938977</td>\n",
       "      <td>0.436579</td>\n",
       "      <td>4.0</td>\n",
       "      <td>29841.0</td>\n",
       "      <td>753.0</td>\n",
       "    </tr>\n",
       "    <tr>\n",
       "      <th>3</th>\n",
       "      <td>3.284924</td>\n",
       "      <td>258.567386</td>\n",
       "      <td>545.282091</td>\n",
       "      <td>0.471898</td>\n",
       "      <td>6.0</td>\n",
       "      <td>29650.0</td>\n",
       "      <td>776.0</td>\n",
       "    </tr>\n",
       "    <tr>\n",
       "      <th>4</th>\n",
       "      <td>3.493030</td>\n",
       "      <td>258.036256</td>\n",
       "      <td>540.754655</td>\n",
       "      <td>0.389865</td>\n",
       "      <td>4.0</td>\n",
       "      <td>29485.0</td>\n",
       "      <td>752.0</td>\n",
       "    </tr>\n",
       "    <tr>\n",
       "      <th>...</th>\n",
       "      <td>...</td>\n",
       "      <td>...</td>\n",
       "      <td>...</td>\n",
       "      <td>...</td>\n",
       "      <td>...</td>\n",
       "      <td>...</td>\n",
       "      <td>...</td>\n",
       "    </tr>\n",
       "    <tr>\n",
       "      <th>1994</th>\n",
       "      <td>NaN</td>\n",
       "      <td>NaN</td>\n",
       "      <td>NaN</td>\n",
       "      <td>NaN</td>\n",
       "      <td>NaN</td>\n",
       "      <td>NaN</td>\n",
       "      <td>NaN</td>\n",
       "    </tr>\n",
       "    <tr>\n",
       "      <th>1995</th>\n",
       "      <td>NaN</td>\n",
       "      <td>NaN</td>\n",
       "      <td>NaN</td>\n",
       "      <td>NaN</td>\n",
       "      <td>NaN</td>\n",
       "      <td>NaN</td>\n",
       "      <td>NaN</td>\n",
       "    </tr>\n",
       "    <tr>\n",
       "      <th>1996</th>\n",
       "      <td>NaN</td>\n",
       "      <td>NaN</td>\n",
       "      <td>NaN</td>\n",
       "      <td>NaN</td>\n",
       "      <td>NaN</td>\n",
       "      <td>NaN</td>\n",
       "      <td>NaN</td>\n",
       "    </tr>\n",
       "    <tr>\n",
       "      <th>1997</th>\n",
       "      <td>NaN</td>\n",
       "      <td>NaN</td>\n",
       "      <td>NaN</td>\n",
       "      <td>NaN</td>\n",
       "      <td>NaN</td>\n",
       "      <td>NaN</td>\n",
       "      <td>NaN</td>\n",
       "    </tr>\n",
       "    <tr>\n",
       "      <th>1998</th>\n",
       "      <td>NaN</td>\n",
       "      <td>NaN</td>\n",
       "      <td>NaN</td>\n",
       "      <td>NaN</td>\n",
       "      <td>NaN</td>\n",
       "      <td>NaN</td>\n",
       "      <td>NaN</td>\n",
       "    </tr>\n",
       "  </tbody>\n",
       "</table>\n",
       "<p>1999 rows × 7 columns</p>\n",
       "</div>"
      ],
      "text/plain": [
       "coords         z           x           y  likelihood  raw_neuron_id  \\\n",
       "0       4.152485  275.693147  552.621238    0.542036            1.0   \n",
       "1       3.468167  274.280342  556.839252    0.760970            5.0   \n",
       "2       3.360745  263.394089  552.938977    0.436579            4.0   \n",
       "3       3.284924  258.567386  545.282091    0.471898            6.0   \n",
       "4       3.493030  258.036256  540.754655    0.389865            4.0   \n",
       "...          ...         ...         ...         ...            ...   \n",
       "1994         NaN         NaN         NaN         NaN            NaN   \n",
       "1995         NaN         NaN         NaN         NaN            NaN   \n",
       "1996         NaN         NaN         NaN         NaN            NaN   \n",
       "1997         NaN         NaN         NaN         NaN            NaN   \n",
       "1998         NaN         NaN         NaN         NaN            NaN   \n",
       "\n",
       "coords  brightness_red  volume  \n",
       "0              30803.0   800.0  \n",
       "1              31540.0   781.0  \n",
       "2              29841.0   753.0  \n",
       "3              29650.0   776.0  \n",
       "4              29485.0   752.0  \n",
       "...                ...     ...  \n",
       "1994               NaN     NaN  \n",
       "1995               NaN     NaN  \n",
       "1996               NaN     NaN  \n",
       "1997               NaN     NaN  \n",
       "1998               NaN     NaN  \n",
       "\n",
       "[1999 rows x 7 columns]"
      ]
     },
     "execution_count": 108,
     "metadata": {},
     "output_type": "execute_result"
    }
   ],
   "source": [
    "tracklets_and_neurons_class.df_tracklets_zxy['tracklet_0000000']"
   ]
  },
  {
   "cell_type": "code",
   "execution_count": 109,
   "id": "4e9c7303-caa6-47ae-8938-f4ca9682247c",
   "metadata": {},
   "outputs": [],
   "source": [
    "neuron = worm_obj.global_name_to_neuron['neuron_001']"
   ]
  },
  {
   "cell_type": "code",
   "execution_count": 110,
   "id": "4d3fd01b-a0b5-4959-809d-12ef169eb24c",
   "metadata": {},
   "outputs": [
    {
     "data": {
      "text/plain": [
       "NodeDataView({'bipartite_0_frame_0_neuron_001': {'bipartite': 0, 'group_ind': 0, 'local_ind': 0, 'metadata': 'neuron_001'}, 'bipartite_1_trackletGroup_1_tracklet_0000000': {'bipartite': 1, 'group_ind': 0, 'local_ind': 0, 'metadata': 'tracklet_0000000'}})"
      ]
     },
     "execution_count": 110,
     "metadata": {},
     "output_type": "execute_result"
    }
   ],
   "source": [
    "neuron.neuron2tracklets.nodes(data=True)"
   ]
  },
  {
   "cell_type": "code",
   "execution_count": 115,
   "id": "2f7aa320-3b30-473c-a6f9-aac9fd260d0b",
   "metadata": {},
   "outputs": [
    {
     "data": {
      "text/plain": [
       "[coords         z           x           y  likelihood  raw_neuron_id  \\\n",
       " 0       4.152485  275.693147  552.621238    0.542036            1.0   \n",
       " 1       3.468167  274.280342  556.839252    0.760970            5.0   \n",
       " 2       3.360745  263.394089  552.938977    0.436579            4.0   \n",
       " 3       3.284924  258.567386  545.282091    0.471898            6.0   \n",
       " 4       3.493030  258.036256  540.754655    0.389865            4.0   \n",
       " ...          ...         ...         ...         ...            ...   \n",
       " 1994         NaN         NaN         NaN         NaN            NaN   \n",
       " 1995         NaN         NaN         NaN         NaN            NaN   \n",
       " 1996         NaN         NaN         NaN         NaN            NaN   \n",
       " 1997         NaN         NaN         NaN         NaN            NaN   \n",
       " 1998         NaN         NaN         NaN         NaN            NaN   \n",
       " \n",
       " coords  brightness_red  volume  \n",
       " 0              30803.0   800.0  \n",
       " 1              31540.0   781.0  \n",
       " 2              29841.0   753.0  \n",
       " 3              29650.0   776.0  \n",
       " 4              29485.0   752.0  \n",
       " ...                ...     ...  \n",
       " 1994               NaN     NaN  \n",
       " 1995               NaN     NaN  \n",
       " 1996               NaN     NaN  \n",
       " 1997               NaN     NaN  \n",
       " 1998               NaN     NaN  \n",
       " \n",
       " [1999 rows x 7 columns]]"
      ]
     },
     "execution_count": 115,
     "metadata": {},
     "output_type": "execute_result"
    }
   ],
   "source": [
    "worm_obj.get_tracklets_for_neuron('neuron_001')"
   ]
  },
  {
   "cell_type": "code",
   "execution_count": null,
   "id": "a7197398-f9d7-4ac8-9ee4-5f8a4aff6f9c",
   "metadata": {},
   "outputs": [],
   "source": []
  },
  {
   "cell_type": "code",
   "execution_count": null,
   "id": "f3bfa060-4f15-4434-bd9e-07a50e8c08ed",
   "metadata": {},
   "outputs": [],
   "source": []
  },
  {
   "cell_type": "code",
   "execution_count": null,
   "id": "6df467af-ac27-43db-95d7-791c4cf429ad",
   "metadata": {},
   "outputs": [],
   "source": []
  },
  {
   "cell_type": "code",
   "execution_count": null,
   "id": "ad6d6d65-466e-4f58-8d3b-ddcaa6c7bd30",
   "metadata": {},
   "outputs": [],
   "source": []
  },
  {
   "cell_type": "code",
   "execution_count": 118,
   "id": "b8a8f079-9265-42d9-bf2d-c01c1f417071",
   "metadata": {},
   "outputs": [
    {
     "name": "stderr",
     "output_type": "stream",
     "text": [
      "[autoreload of DLC_for_WBFM.utils.pipeline.tracklet_class failed: Traceback (most recent call last):\n",
      "  File \"/home/charles/anaconda3/envs/torch/lib/python3.7/site-packages/IPython/extensions/autoreload.py\", line 245, in check\n",
      "    superreload(m, reload, self.old_objects)\n",
      "  File \"/home/charles/anaconda3/envs/torch/lib/python3.7/site-packages/IPython/extensions/autoreload.py\", line 410, in superreload\n",
      "    update_generic(old_obj, new_obj)\n",
      "  File \"/home/charles/anaconda3/envs/torch/lib/python3.7/site-packages/IPython/extensions/autoreload.py\", line 347, in update_generic\n",
      "    update(a, b)\n",
      "  File \"/home/charles/anaconda3/envs/torch/lib/python3.7/site-packages/IPython/extensions/autoreload.py\", line 302, in update_class\n",
      "    if update_generic(old_obj, new_obj): continue\n",
      "  File \"/home/charles/anaconda3/envs/torch/lib/python3.7/site-packages/IPython/extensions/autoreload.py\", line 347, in update_generic\n",
      "    update(a, b)\n",
      "  File \"/home/charles/anaconda3/envs/torch/lib/python3.7/site-packages/IPython/extensions/autoreload.py\", line 266, in update_function\n",
      "    setattr(old, name, getattr(new, name))\n",
      "ValueError: __repr__() requires a code object with 2 free vars, not 0\n",
      "]\n"
     ]
    }
   ],
   "source": [
    "fname = \"/scratch/zimmer/Charles/dlc_stacks/worm9-gui_test/2-training_data/training_data_tracks.h5\"\n",
    "df = pd.read_hdf(fname)"
   ]
  },
  {
   "cell_type": "code",
   "execution_count": 122,
   "id": "723d87b6-a0c5-46a3-89ee-028ad0b7acbb",
   "metadata": {},
   "outputs": [
    {
     "data": {
      "text/plain": [
       "Index(['tracklet_0004291', 'tracklet_0005884', 'tracklet_0006008',\n",
       "       'tracklet_0006367', 'tracklet_0006408', 'tracklet_0007044',\n",
       "       'tracklet_0007709', 'tracklet_0008595', 'tracklet_0008757',\n",
       "       'tracklet_0008948',\n",
       "       ...\n",
       "       'tracklet_0011687', 'tracklet_0011688', 'tracklet_0011691',\n",
       "       'tracklet_0011695', 'tracklet_0011703', 'tracklet_0011707',\n",
       "       'tracklet_0011710', 'tracklet_0011713', 'tracklet_0011715',\n",
       "       'tracklet_0011722'],\n",
       "      dtype='object', length=134)"
      ]
     },
     "execution_count": 122,
     "metadata": {},
     "output_type": "execute_result"
    }
   ],
   "source": [
    "df.columns.levels[0]"
   ]
  },
  {
   "cell_type": "code",
   "execution_count": null,
   "id": "b7e42d95-2b8e-4bd7-9b44-1018a5e4563a",
   "metadata": {},
   "outputs": [],
   "source": []
  }
 ],
 "metadata": {
  "kernelspec": {
   "display_name": "Python 3 (ipykernel)",
   "language": "python",
   "name": "python3"
  },
  "language_info": {
   "codemirror_mode": {
    "name": "ipython",
    "version": 3
   },
   "file_extension": ".py",
   "mimetype": "text/x-python",
   "name": "python",
   "nbconvert_exporter": "python",
   "pygments_lexer": "ipython3",
   "version": "3.7.11"
  }
 },
 "nbformat": 4,
 "nbformat_minor": 5
}
