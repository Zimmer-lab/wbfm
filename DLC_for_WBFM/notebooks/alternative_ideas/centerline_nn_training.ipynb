{
 "cells": [
  {
   "cell_type": "code",
   "execution_count": 1,
   "id": "288848aa-f220-425d-9887-ce7eb0deab01",
   "metadata": {},
   "outputs": [
    {
     "name": "stderr",
     "output_type": "stream",
     "text": [
      "\n",
      "Bad key \"text.kerning_factor\" on line 4 in\n",
      "/home/charles/anaconda3/envs/torch/lib/python3.7/site-packages/matplotlib/mpl-data/stylelib/_classic_test_patch.mplstyle.\n",
      "You probably need to get an updated matplotlibrc file from\n",
      "http://github.com/matplotlib/matplotlib/blob/master/matplotlibrc.template\n",
      "or from the matplotlib source distribution\n"
     ]
    }
   ],
   "source": [
    "%load_ext autoreload\n",
    "%autoreload 2\n",
    "import matplotlib.pyplot as plt\n",
    "from DLC_for_WBFM.utils.projects.finished_project_data import ProjectData\n",
    "import napari\n",
    "import pandas as pd\n",
    "import numpy as np\n",
    "from DLC_for_WBFM.utils.feature_detection.class_frame_pair import FramePair\n",
    "from sklearn.decomposition import PCA\n",
    "from sklearn.neighbors import NearestNeighbors\n",
    "from DLC_for_WBFM.utils.postures.centerline_pca import WormFullVideoPosture, WormSinglePosture\n",
    "from DLC_for_WBFM.utils.external.centerline_utils import transform_neuron_point_cloud"
   ]
  },
  {
   "cell_type": "code",
   "execution_count": 3,
   "id": "23907502-c340-4f4b-9c9a-e4dff26ef899",
   "metadata": {},
   "outputs": [
    {
     "name": "stderr",
     "output_type": "stream",
     "text": [
      "WARNING:root:Did not find file /home/charles/dlc_stacks/worm3-newseg-2021_11_17/2-training_data/training_data_tracks.h5\n",
      "WARNING:root:Did not find file /home/charles/dlc_stacks/worm3-newseg-2021_11_17/3-tracking/manual_annotation/split_names.pickle\n",
      "WARNING:root:Did not find file /home/charles/dlc_stacks/worm3-newseg-2021_11_17/3-tracking/manual_annotation/split_times.pickle\n"
     ]
    },
    {
     "name": "stdout",
     "output_type": "stream",
     "text": [
      "Output files: /home/charles/dlc_stacks/worm3-newseg-2021_11_17/3-tracking/manual_annotation/global2tracklet_manual.pickle, /home/charles/dlc_stacks/worm3-newseg-2021_11_17/3-tracking/manual_annotation/manually_split_tracklets.h5, /home/charles/dlc_stacks/worm3-newseg-2021_11_17/3-tracking/manual_annotation/split_names.pickle, /home/charles/dlc_stacks/worm3-newseg-2021_11_17/3-tracking/manual_annotation/split_times.pickle\n",
      "=======================================\n",
      "Project data for directory:\n",
      "/home/charles/dlc_stacks/worm3-newseg-2021_11_17 \n",
      "=======================================\n",
      "Found the following raw data files:\n",
      "red_data: True\n",
      "green_data: True\n",
      "============Segmentation===============\n",
      "raw_segmentation: True\n",
      "segmentation: True\n",
      "============Tracklets==================\n",
      "df_training_tracklets: False\n",
      "reindexed_masks_training: True\n",
      "============Traces=====================\n",
      "red_traces: True\n",
      "green_traces: True\n",
      "final_tracks: True\n",
      "behavior_annotations: True\n",
      "\n"
     ]
    }
   ],
   "source": [
    "# fname = \"/scratch/zimmer/Charles/dlc_stacks/worm3-tracklet_wiggle/project_config.yaml\"\n",
    "fname = \"/home/charles/dlc_stacks/worm3-newseg-2021_11_17/project_config.yaml\"\n",
    "\n",
    "project_data = ProjectData.load_final_project_data_from_config(fname, to_load_tracklets=True)"
   ]
  },
  {
   "cell_type": "code",
   "execution_count": 4,
   "id": "4850f3d1-595d-4e4c-b885-f63fdf3db32f",
   "metadata": {},
   "outputs": [],
   "source": [
    "\n",
    "fname1 = \"/project/neurobiology/zimmer/wbfm/centerline/wbfm_ulises_centerline_for_charlie/2021-03-04_16-17-30_worm3_ZIM2051-_spline_X_coords.csv\"\n",
    "fname2 = \"/project/neurobiology/zimmer/wbfm/centerline/wbfm_ulises_centerline_for_charlie/2021-03-04_16-17-30_worm3_ZIM2051-_spline_Y_coords.csv\"\n",
    "fname3 = \"/project/neurobiology/zimmer/wbfm/centerline/wbfm_ulises_centerline_for_charlie/2021-03-04_16-17-30_worm3_ZIM2051-_spline_K.csv\"\n",
    "\n",
    "worm_posture = WormFullVideoPosture(fname1, fname2, fname3)"
   ]
  },
  {
   "cell_type": "markdown",
   "id": "141844a5-f3f1-4b77-803d-6d52f93b1482",
   "metadata": {},
   "source": [
    "# Scratch: Use a transformer to encode"
   ]
  },
  {
   "cell_type": "code",
   "execution_count": 5,
   "id": "3e793c99-2099-4f97-a105-f10ed7dfe258",
   "metadata": {},
   "outputs": [],
   "source": [
    "t = 0\n",
    "def build_worm_at_time(t):\n",
    "    pts0 = transform_neuron_point_cloud(project_data.get_centroids_as_numpy(t))\n",
    "    centerline0 = worm_posture.get_centerline_for_time(t)\n",
    "    return WormSinglePosture(pts0, centerline0)"
   ]
  },
  {
   "cell_type": "code",
   "execution_count": 6,
   "id": "42e034fa-903f-4524-8907-83157241a666",
   "metadata": {},
   "outputs": [],
   "source": [
    "n_neighbors = 20\n",
    "i_anchor = 50\n",
    "\n",
    "n0 = worm0.get_neighbors_in_local_coordinate_system(i_anchor=i_anchor, n_neighbors=n_neighbors)"
   ]
  },
  {
   "cell_type": "code",
   "execution_count": 7,
   "id": "9707839e-706d-4d84-9178-285ad5ab9319",
   "metadata": {},
   "outputs": [
    {
     "data": {
      "text/plain": [
       "(20, 3)"
      ]
     },
     "execution_count": 7,
     "metadata": {},
     "output_type": "execute_result"
    }
   ],
   "source": [
    "n0.shape"
   ]
  },
  {
   "cell_type": "code",
   "execution_count": 8,
   "id": "026cd372-4cd6-44bf-bb1c-11de101b500c",
   "metadata": {},
   "outputs": [],
   "source": [
    "import torch\n",
    "from self_attention_cv import AxialAttentionBlock"
   ]
  },
  {
   "cell_type": "code",
   "execution_count": 9,
   "id": "5aad9eb5-e86b-4319-a861-f7c44767b99e",
   "metadata": {},
   "outputs": [
    {
     "ename": "NameError",
     "evalue": "name 'RectAxialAttentionBlock' is not defined",
     "output_type": "error",
     "traceback": [
      "\u001b[0;31m---------------------------------------------------------------------------\u001b[0m",
      "\u001b[0;31mNameError\u001b[0m                                 Traceback (most recent call last)",
      "\u001b[0;32m/tmp/ipykernel_538734/1862769930.py\u001b[0m in \u001b[0;36m<module>\u001b[0;34m\u001b[0m\n\u001b[0;32m----> 1\u001b[0;31m \u001b[0mmodel\u001b[0m \u001b[0;34m=\u001b[0m \u001b[0mRectAxialAttentionBlock\u001b[0m\u001b[0;34m(\u001b[0m\u001b[0min_channels\u001b[0m\u001b[0;34m=\u001b[0m\u001b[0;36m1\u001b[0m\u001b[0;34m,\u001b[0m \u001b[0mdim_h\u001b[0m\u001b[0;34m=\u001b[0m\u001b[0;36m20\u001b[0m\u001b[0;34m,\u001b[0m \u001b[0mdim_w\u001b[0m\u001b[0;34m=\u001b[0m\u001b[0;36m3\u001b[0m\u001b[0;34m,\u001b[0m \u001b[0mheads\u001b[0m\u001b[0;34m=\u001b[0m\u001b[0;36m8\u001b[0m\u001b[0;34m)\u001b[0m\u001b[0;34m\u001b[0m\u001b[0;34m\u001b[0m\u001b[0m\n\u001b[0m\u001b[1;32m      2\u001b[0m \u001b[0;31m# x = torch.rand(1, 256, 20, 20)  # [batch, tokens, dim, dim]\u001b[0m\u001b[0;34m\u001b[0m\u001b[0;34m\u001b[0m\u001b[0;34m\u001b[0m\u001b[0m\n\u001b[1;32m      3\u001b[0m \u001b[0mt_n0\u001b[0m \u001b[0;34m=\u001b[0m \u001b[0mtorch\u001b[0m\u001b[0;34m.\u001b[0m\u001b[0munsqueeze\u001b[0m\u001b[0;34m(\u001b[0m\u001b[0mtorch\u001b[0m\u001b[0;34m.\u001b[0m\u001b[0mfrom_numpy\u001b[0m\u001b[0;34m(\u001b[0m\u001b[0mnp\u001b[0m\u001b[0;34m.\u001b[0m\u001b[0marray\u001b[0m\u001b[0;34m(\u001b[0m\u001b[0;34m[\u001b[0m\u001b[0mn0\u001b[0m\u001b[0;34m]\u001b[0m\u001b[0;34m)\u001b[0m\u001b[0;34m)\u001b[0m\u001b[0;34m,\u001b[0m \u001b[0mdim\u001b[0m\u001b[0;34m=\u001b[0m\u001b[0;36m0\u001b[0m\u001b[0;34m)\u001b[0m\u001b[0;34m.\u001b[0m\u001b[0mfloat\u001b[0m\u001b[0;34m(\u001b[0m\u001b[0;34m)\u001b[0m\u001b[0;34m\u001b[0m\u001b[0;34m\u001b[0m\u001b[0m\n\u001b[1;32m      4\u001b[0m \u001b[0my\u001b[0m \u001b[0;34m=\u001b[0m \u001b[0mmodel\u001b[0m\u001b[0;34m(\u001b[0m\u001b[0mt_n0\u001b[0m\u001b[0;34m)\u001b[0m\u001b[0;34m\u001b[0m\u001b[0;34m\u001b[0m\u001b[0m\n",
      "\u001b[0;31mNameError\u001b[0m: name 'RectAxialAttentionBlock' is not defined"
     ]
    }
   ],
   "source": [
    "\n",
    "model = RectAxialAttentionBlock(in_channels=1, dim_h=20, dim_w=3, heads=8)\n",
    "# x = torch.rand(1, 256, 20, 20)  # [batch, tokens, dim, dim]\n",
    "t_n0 = torch.unsqueeze(torch.from_numpy(np.array([n0])), dim=0).float()\n",
    "y = model(t_n0)\n"
   ]
  },
  {
   "cell_type": "code",
   "execution_count": null,
   "id": "b6ce55b3-79ab-4c97-a670-8bf234991674",
   "metadata": {},
   "outputs": [],
   "source": [
    "\n",
    "model = RectAxialEncoder(in_channels=1, dim_h=20, dim_w=3, heads=8)\n",
    "\n",
    "device = 'cuda' if torch.cuda.is_available() else 'cpu'\n",
    "model.to(device)\n",
    "\n",
    "y = model(t_n0.to(device))\n",
    "y"
   ]
  },
  {
   "cell_type": "markdown",
   "id": "30b0ab36-9a1c-4a0a-b5cb-8a9c5f0e0f9f",
   "metadata": {},
   "source": [
    "# Build a student and teacher model"
   ]
  },
  {
   "cell_type": "code",
   "execution_count": 352,
   "id": "68aee797-cce4-42eb-84b1-f070084f4bf7",
   "metadata": {},
   "outputs": [],
   "source": [
    "import time\n",
    "from torch.utils.data import DataLoader\n"
   ]
  },
  {
   "cell_type": "code",
   "execution_count": null,
   "id": "3e9c9a6f-7ef6-4b25-a1e3-76b49ca37846",
   "metadata": {},
   "outputs": [],
   "source": [
    "\n",
    "# Get test data\n",
    "# i_anchor = 0\n",
    "# test_data = []\n",
    "# for i_anchor in range(len(worm0.neuron_zxy)):\n",
    "#     pts = worm0.get_neighbors_in_local_coordinate_system(i_anchor=i_anchor, n_neighbors=n_neighbors)\n",
    "#     test_data.append(torch.from_numpy(np.expand_dims(pts, axis=0)))"
   ]
  },
  {
   "cell_type": "code",
   "execution_count": 373,
   "id": "d2a5f0b9-4436-4b02-8e97-bbce82c337d8",
   "metadata": {},
   "outputs": [
    {
     "data": {
      "application/vnd.jupyter.widget-view+json": {
       "model_id": "6e24a07aa37b408d8a41f1a0b8c709e1",
       "version_major": 2,
       "version_minor": 0
      },
      "text/plain": [
       "  0%|          | 0/40 [00:00<?, ?it/s]"
      ]
     },
     "metadata": {},
     "output_type": "display_data"
    },
    {
     "name": "stdout",
     "output_type": "stream",
     "text": [
      "skipped an index error\n",
      "skipped an index error\n",
      "skipped an index error\n",
      "skipped an index error\n"
     ]
    },
    {
     "data": {
      "application/vnd.jupyter.widget-view+json": {
       "model_id": "3b001daf15e54dfb86b0795201f195f2",
       "version_major": 2,
       "version_minor": 0
      },
      "text/plain": [
       "  0%|          | 0/10 [00:00<?, ?it/s]"
      ]
     },
     "metadata": {},
     "output_type": "display_data"
    }
   ],
   "source": [
    "def build_worm_at_time(t):\n",
    "    pts0 = transform_neuron_point_cloud(project_data.get_centroids_as_numpy(t))\n",
    "    centerline0 = worm_posture.get_centerline_for_time(t)\n",
    "    return WormSinglePosture(pts0, centerline0)\n",
    "\n",
    "# ============ preparing data ... ============\n",
    "n_neighbors = dim_h = 50\n",
    "dim_w = 3\n",
    "batch_sz = 1\n",
    "local_crops_number = 2\n",
    "\n",
    "augmentation = PointCloudAugmentationDINO(\n",
    "    global_crops_scale=1, \n",
    "    local_crops_scale=3, \n",
    "    local_crops_number=local_crops_number\n",
    ")\n",
    "\n",
    "class PointCloudDataset():\n",
    "    \n",
    "    def __init__(self, augmentation, num_volumes=1, start_volume=0):\n",
    "        \n",
    "        preloaded_data = []\n",
    "        for t in tqdm(range(start_volume, start_volume+num_volumes)):\n",
    "            worm = build_worm_at_time(t)\n",
    "            try:\n",
    "                for i_anchor in range(len(worm0.neuron_zxy)):\n",
    "                    pts = worm.get_neighbors_in_local_coordinate_system(i_anchor=i_anchor, n_neighbors=n_neighbors)\n",
    "                    preloaded_data.append(torch.from_numpy(np.expand_dims(pts, axis=0)))\n",
    "            except IndexError:\n",
    "                print(\"skipped an index error\")\n",
    "                pass\n",
    "        \n",
    "        self.preloaded_data = preloaded_data\n",
    "        self.augmentation = augmentation\n",
    "    \n",
    "    def __len__(self):\n",
    "        return len(self.preloaded_data)\n",
    "\n",
    "    def __getitem__(self, idx):\n",
    "        return self.augmentation(self.preloaded_data[idx]), None\n",
    "\n",
    "training_data = PointCloudDataset(augmentation, num_volumes=40)\n",
    "# train_dataloader = DataLoader(training_data, batch_size=1, shuffle=True)\n",
    "test_data = PointCloudDataset(augmentation, num_volumes=10, start_volume=100)\n",
    "# test_dataloader = DataLoader(test_data, batch_size=1, shuffle=True)"
   ]
  },
  {
   "cell_type": "code",
   "execution_count": 178,
   "id": "13a93618",
   "metadata": {},
   "outputs": [
    {
     "name": "stdout",
     "output_type": "stream",
     "text": [
      "Initialized\n"
     ]
    }
   ],
   "source": [
    "# ============ building student and teacher networks ... ============\n",
    "model_opt = dict(in_channels=batch_sz, dim_h=n_neighbors, dim_w=3, heads=8)\n",
    "device = 'cuda' if torch.cuda.is_available() else 'cpu'\n",
    "\n",
    "student = RectAxialEncoder(**model_opt).to(device)\n",
    "teacher = RectAxialEncoder(**model_opt).to(device)\n",
    "\n",
    "# teacher and student start with the same weights\n",
    "teacher.load_state_dict(student.state_dict())\n",
    "# there is no backpropagation through the teacher, so no need for gradients\n",
    "for p in teacher.parameters():\n",
    "    p.requires_grad = False\n",
    "\n",
    "print(\"Initialized\")"
   ]
  },
  {
   "cell_type": "code",
   "execution_count": 357,
   "id": "be488e55-0d7f-4f28-ac1a-5d8362cf1568",
   "metadata": {},
   "outputs": [],
   "source": [
    "# ============ preparing loss ... ============\n",
    "nepochs = 10\n",
    "\n",
    "args = dict(epochs=nepochs, clip_grad=False, freeze_last_layer=False)\n",
    "\n",
    "dino_loss = DINOLoss(\n",
    "    dim_h,\n",
    "    dim_w,\n",
    "    local_crops_number + 2,  # total number of crops = 2 global crops + local_crops_number\n",
    "    nepochs=nepochs\n",
    ").cuda()"
   ]
  },
  {
   "cell_type": "code",
   "execution_count": 358,
   "id": "e3b043bf-942f-4560-b626-ed91832fe87b",
   "metadata": {},
   "outputs": [],
   "source": [
    "lr = 0.001\n",
    "wd = 1e-5\n",
    "momentum = 0.9\n",
    "\n",
    "optimizer = torch.optim.Adam(student.parameters(), lr = lr, weight_decay = wd)"
   ]
  },
  {
   "cell_type": "code",
   "execution_count": null,
   "id": "e1f92d58-68df-4651-b515-c9dc3b16b6f2",
   "metadata": {
    "tags": []
   },
   "outputs": [
    {
     "name": "stdout",
     "output_type": "stream",
     "text": [
      "Starting DINO training !\n"
     ]
    },
    {
     "data": {
      "application/vnd.jupyter.widget-view+json": {
       "model_id": "99504fcf307846ef92af421db5bc34d6",
       "version_major": 2,
       "version_minor": 0
      },
      "text/plain": [
       "  0%|          | 0/10 [00:00<?, ?it/s]"
      ]
     },
     "metadata": {},
     "output_type": "display_data"
    }
   ],
   "source": [
    "import math\n",
    "from tqdm.auto import tqdm\n",
    "\n",
    "start_epoch = 0\n",
    "\n",
    "start_time = time.time()\n",
    "print(\"Starting DINO training !\")\n",
    "for epoch in tqdm(range(start_epoch, args['epochs'])):\n",
    "    # data_loader.sampler.set_epoch(epoch)\n",
    "\n",
    "    # ============ training one epoch of DINO ... ============\n",
    "    train_stats = train_one_epoch(student, teacher, None, dino_loss, training_data,\n",
    "                    optimizer, lr, wd, momentum, epoch,\n",
    "                    None, args)\n",
    "\n",
    "    # ============ writing logs ... ============\n",
    "    save_dict = {\n",
    "        'student': student.state_dict(),\n",
    "        'teacher': teacher.state_dict(),\n",
    "        'optimizer': optimizer.state_dict(),\n",
    "        'epoch': epoch + 1,\n",
    "        'args': args,\n",
    "        'dino_loss': dino_loss.state_dict(),\n",
    "    }\n",
    "#     if fp16_scaler is not None:\n",
    "#         save_dict['fp16_scaler'] = fp16_scaler.state_dict()\n",
    "        \n",
    "#     utils.save_on_master(save_dict, os.path.join(args.output_dir, 'checkpoint.pth'))\n",
    "#     if args.saveckp_freq and epoch % args.saveckp_freq == 0:\n",
    "#         utils.save_on_master(save_dict, os.path.join(args.output_dir, f'checkpoint{epoch:04}.pth'))\n",
    "    # log_stats = {**{f'train_{k}': v for k, v in train_stats.items()},\n",
    "    #              'epoch': epoch}"
   ]
  },
  {
   "cell_type": "markdown",
   "id": "dcb71d5a-25f5-4e10-bace-38b37fe5bcad",
   "metadata": {},
   "source": [
    "# Apply to next volume using knn"
   ]
  },
  {
   "cell_type": "code",
   "execution_count": 313,
   "id": "d721a97a-478e-4fff-9556-335267f15418",
   "metadata": {},
   "outputs": [],
   "source": [
    "all_embeddings = [teacher(torch.unsqueeze(dat.float(), dim=0).to(device)).to('cpu') for dat in test_data]"
   ]
  },
  {
   "cell_type": "code",
   "execution_count": 338,
   "id": "7813f8fe-bbb1-45bd-9d05-662eea9babf4",
   "metadata": {},
   "outputs": [],
   "source": [
    "t = 0\n",
    "worm0 = build_worm_at_time(t)\n",
    "\n",
    "# Get next data\n",
    "first_data = []\n",
    "for i_anchor in range(len(worm0.neuron_zxy)):\n",
    "    pts = worm0.get_neighbors_in_local_coordinate_system(i_anchor=i_anchor, n_neighbors=n_neighbors)\n",
    "    first_data.append(torch.from_numpy(np.expand_dims(pts, axis=0)))\n",
    "\n",
    "all_first_embeddings = [teacher(torch.unsqueeze(dat.float(), dim=0).to(device)).to('cpu') for dat in first_data]\n",
    "\n",
    "t = 1\n",
    "worm1 = build_worm_at_time(t)\n",
    "\n",
    "# Get next data\n",
    "next_data = []\n",
    "for i_anchor in range(len(worm0.neuron_zxy)):\n",
    "    pts = worm1.get_neighbors_in_local_coordinate_system(i_anchor=i_anchor, n_neighbors=n_neighbors)\n",
    "    next_data.append(torch.from_numpy(np.expand_dims(pts, axis=0)))\n",
    "\n",
    "all_next_embeddings = [teacher(torch.unsqueeze(dat.float(), dim=0).to(device)).to('cpu') for dat in next_data]"
   ]
  },
  {
   "cell_type": "code",
   "execution_count": 339,
   "id": "f023fa6a-576c-4907-935c-e0399aa1c8ec",
   "metadata": {},
   "outputs": [],
   "source": [
    "def flatten_embeddings(list_of_embedding):\n",
    "    flat_list = [np.reshape(np.squeeze(emb), (-1, 1)).numpy() for emb in list_of_embedding]\n",
    "    return np.hstack(flat_list).T\n",
    "    "
   ]
  },
  {
   "cell_type": "code",
   "execution_count": 340,
   "id": "2b5f4249-82ee-43e7-b94f-4c3fd191fbfc",
   "metadata": {},
   "outputs": [],
   "source": [
    "all_v1_embeddings = flatten_embeddings(all_next_embeddings)\n",
    "all_v0_embeddings = flatten_embeddings(all_first_embeddings)"
   ]
  },
  {
   "cell_type": "code",
   "execution_count": 341,
   "id": "8102b4c5-66a7-47f9-a535-63312be07be8",
   "metadata": {},
   "outputs": [],
   "source": [
    "from sklearn.neighbors import NearestNeighbors\n",
    "\n",
    "v0_neighbor_obj = NearestNeighbors(n_neighbors=10).fit(all_v0_embeddings)\n",
    "\n",
    "matches_with_conf = []\n",
    "for i, embedding1 in enumerate(all_v1_embeddings):\n",
    "    closest_dist, closest_ind = v0_neighbor_obj.kneighbors(np.reshape(embedding1, (1, -1)), 1)\n",
    "    matches_with_conf.append((i, closest_ind[0][0], closest_dist[0][0]))"
   ]
  },
  {
   "cell_type": "code",
   "execution_count": 345,
   "id": "e8ee9cab-320b-49b0-801a-d9c7e8687919",
   "metadata": {},
   "outputs": [],
   "source": [
    "# matches_with_conf"
   ]
  },
  {
   "cell_type": "code",
   "execution_count": 350,
   "id": "efbdb76e-be64-4903-bd71-e0b1644723d6",
   "metadata": {},
   "outputs": [],
   "source": [
    "from DLC_for_WBFM.utils.pipeline.matches_class import MatchesWithConfidence \n",
    "from scipy.spatial import distance\n",
    "\n",
    "dino_dist = distance.cdist(all_v1_embeddings, all_v0_embeddings)\n",
    "dino_matches = MatchesWithConfidence.matches_from_distance_matrix(dino_dist)\n",
    "# dino_matches.get_mapping_0_to_1()"
   ]
  },
  {
   "cell_type": "code",
   "execution_count": 351,
   "id": "f6bbdce5-1ed1-49c6-9d15-6901152c0bfd",
   "metadata": {},
   "outputs": [],
   "source": [
    "# project_data.raw_matches[(0,1)].final_matches"
   ]
  },
  {
   "cell_type": "code",
   "execution_count": 321,
   "id": "aa373d82-072d-42fa-812e-673e53729d0c",
   "metadata": {},
   "outputs": [],
   "source": [
    "# Plot PCA projections\n",
    "from sklearn.decomposition import PCA\n",
    "\n",
    "pca = PCA(n_components=2, whiten=True).fit(all_v0_embeddings)\n",
    "pca_proj_v0 = pca.transform(all_v0_embeddings)\n",
    "pca_proj_v1 = pca.transform(all_v1_embeddings)\n"
   ]
  },
  {
   "cell_type": "code",
   "execution_count": 322,
   "id": "b3bb9591-6217-4ddf-9b7e-28cf7c868769",
   "metadata": {
    "collapsed": true,
    "jupyter": {
     "outputs_hidden": true
    },
    "tags": []
   },
   "outputs": [
    {
     "data": {
      "text/plain": [
       "[<matplotlib.lines.Line2D at 0x7f55990bec90>]"
      ]
     },
     "execution_count": 322,
     "metadata": {},
     "output_type": "execute_result"
    },
    {
     "data": {
      "image/png": "[encoded data removed]",
      "text/plain": [
       "<Figure size 1800x1800 with 1 Axes>"
      ]
     },
     "metadata": {
      "needs_background": "light"
     },
     "output_type": "display_data"
    }
   ],
   "source": [
    "plt.figure(figsize=(25,25))\n",
    "plt.plot(pca_proj_v0[:, 0], pca_proj_v0[:, 1], 'o')\n",
    "plt.plot(pca_proj_v1[:, 0], pca_proj_v1[:, 1], 'o')"
   ]
  },
  {
   "cell_type": "code",
   "execution_count": 324,
   "id": "793c521b-ba2f-4147-ac9b-64d9c91480b1",
   "metadata": {},
   "outputs": [
    {
     "data": {
      "text/plain": [
       "[<matplotlib.lines.Line2D at 0x7f561b2d6f50>]"
      ]
     },
     "execution_count": 324,
     "metadata": {},
     "output_type": "execute_result"
    },
    {
     "data": {
      "image/png": "[encoded data removed]",
      "text/plain": [
       "<Figure size 432x288 with 1 Axes>"
      ]
     },
     "metadata": {
      "needs_background": "light"
     },
     "output_type": "display_data"
    }
   ],
   "source": [
    "pca = PCA(n_components=60, whiten=True).fit(all_v0_embeddings)\n",
    "plt.plot(pca.explained_variance_ratio_)"
   ]
  },
  {
   "cell_type": "code",
   "execution_count": 274,
   "id": "bac64caa-a121-4443-af47-9bcc7341c09c",
   "metadata": {},
   "outputs": [],
   "source": [
    "# project_data.napari_of_single_match((0,1))"
   ]
  },
  {
   "cell_type": "markdown",
   "id": "3f9aedf9-ca72-4816-94a1-8c6b564184ec",
   "metadata": {},
   "source": [
    "# t-SNE instead of PCA"
   ]
  },
  {
   "cell_type": "code",
   "execution_count": 335,
   "id": "a8a3e012-fabd-495d-8378-67e8dd3540ca",
   "metadata": {},
   "outputs": [],
   "source": [
    "from sklearn.manifold import TSNE\n",
    "\n",
    "tsne_embeddings = TSNE(n_components=2, init='random').fit_transform(all_v0_embeddings.T)\n",
    "# tsne_proj_v0 = tsne.transform(all_v0_embeddings)\n",
    "# tsne_proj_v1 = tsne.transform(all_v1_embeddings)"
   ]
  },
  {
   "cell_type": "code",
   "execution_count": 336,
   "id": "c4775ce4-a1cb-4044-a645-6a6687adf225",
   "metadata": {},
   "outputs": [
    {
     "data": {
      "text/plain": [
       "(150, 2)"
      ]
     },
     "execution_count": 336,
     "metadata": {},
     "output_type": "execute_result"
    }
   ],
   "source": [
    "tsne_embeddings.shape"
   ]
  },
  {
   "cell_type": "code",
   "execution_count": 337,
   "id": "28488d61-4d82-4244-b1e0-f31bfac687cf",
   "metadata": {},
   "outputs": [
    {
     "data": {
      "text/plain": [
       "[<matplotlib.lines.Line2D at 0x7f56dfff1b90>]"
      ]
     },
     "execution_count": 337,
     "metadata": {},
     "output_type": "execute_result"
    },
    {
     "data": {
      "image/png": "[encoded data removed]",
      "text/plain": [
       "<Figure size 432x288 with 1 Axes>"
      ]
     },
     "metadata": {
      "needs_background": "light"
     },
     "output_type": "display_data"
    }
   ],
   "source": [
    "plt.plot(tsne_embeddings[:, 0], tsne_embeddings[:, 1], 'o')"
   ]
  },
  {
   "cell_type": "code",
   "execution_count": null,
   "id": "deb9539c-f45f-482b-8d1c-ff2b2e96bc7c",
   "metadata": {},
   "outputs": [],
   "source": []
  },
  {
   "cell_type": "markdown",
   "id": "1f329d35-348e-473d-b901-b29396c5d5b1",
   "metadata": {},
   "source": [
    "# Rewrite the axial attention block to deal with rectangular input"
   ]
  },
  {
   "cell_type": "code",
   "execution_count": 10,
   "id": "76d8cb48-886f-420a-a00e-fe02ce3e1bcf",
   "metadata": {
    "tags": []
   },
   "outputs": [],
   "source": [
    "from einops import rearrange\n",
    "from torch import nn\n",
    "\n",
    "from self_attention_cv import AxialAttention\n",
    "\n",
    "def _conv2d1x1(in_channels, out_channels, stride=1):\n",
    "    \"\"\"1x1 convolution for contraction and expansion of the channels dimension\n",
    "    conv is followed by batch norm\"\"\"\n",
    "    return nn.Sequential(nn.Conv2d(in_channels, out_channels, kernel_size=1, stride=stride, bias=False),\n",
    "                         nn.BatchNorm2d(out_channels))\n",
    "\n",
    "\n",
    "class RectAxialAttentionBlock(nn.Module):\n",
    "    def __init__(self, in_channels, dim_h, dim_w, heads=8, dim_head=None):\n",
    "        \"\"\"\n",
    "        Slight modification: different dims for x and y\n",
    "        \n",
    "        Axial-attention block implementation as described in:\n",
    "        paper: https://arxiv.org/abs/2003.07853 , Fig. 2 page 7\n",
    "        blogpost: TBA\n",
    "        official code: https://github.com/csrhddlam/axial-deeplab\n",
    "        Args:\n",
    "            in_channels:\n",
    "            dim: token's dim\n",
    "            heads: the number of distict head representations\n",
    "            axial_att: whether to use axial att or MHSA\n",
    "            dim_head: for MHSA only\n",
    "        \"\"\"\n",
    "        super().__init__()\n",
    "        self.dim_h = dim_h\n",
    "        self.dim_w = dim_w\n",
    "        self.heads = heads\n",
    "        d_in = 128  # hardcoded\n",
    "\n",
    "        # brings the input channels to 128 feature maps\n",
    "        self.in_conv1x1 = _conv2d1x1(in_channels, d_in)\n",
    "        self.out_conv1x1 = _conv2d1x1(d_in, in_channels)\n",
    "        self.relu = nn.ReLU(inplace=True)\n",
    "\n",
    "        self.dim_head = d_in // self.heads\n",
    "        self.height_att = AxialAttention(dim=dim_h, in_channels=d_in, heads=heads)\n",
    "        self.width_att = AxialAttention(dim=dim_w, in_channels=d_in, heads=heads)\n",
    "\n",
    "    def forward(self, x_in):\n",
    "        assert x_in.dim() == 4, f'Ensure your input is 4D: [batch,channels, height,width], not {x_in.dim()}'\n",
    "        x = self.relu(self.in_conv1x1(x_in))\n",
    "        # merge batch dim with width\n",
    "        x = rearrange(x, 'b c h w -> (b w) c h')\n",
    "        x = self.height_att(x)\n",
    "        # decompose width + merge batch with height\n",
    "        x = rearrange(x, '(b w) c h  -> (b h) c w', w=self.dim_w)\n",
    "        x = self.relu(self.width_att(x))\n",
    "        x = rearrange(x, '(b h) c w -> b c h w', h=self.dim_h)\n",
    "        return self.relu(self.out_conv1x1(x) + x_in)"
   ]
  },
  {
   "cell_type": "code",
   "execution_count": 11,
   "id": "bbf0d850-dd22-4133-82a7-a6d57a8829a9",
   "metadata": {},
   "outputs": [],
   "source": [
    "class RectAxialEncoder(nn.Module):\n",
    "    \"\"\"\n",
    "    Uses just RectAxialAttentionBlock blocks instead of regular transformers\n",
    "    \"\"\"\n",
    "    \n",
    "    def __init__(self, in_channels, dim_h, dim_w, blocks=6, heads=8, dim_head=None):\n",
    "        super().__init__()\n",
    "        self.block_list = [RectAxialAttentionBlock(in_channels, dim_h, dim_w, heads, dim_head) for _ in range(blocks)]\n",
    "        self.layers = nn.ModuleList(self.block_list)\n",
    "\n",
    "    def forward(self, x):\n",
    "        for layer in self.layers:\n",
    "            x = layer(x)\n",
    "        return x"
   ]
  },
  {
   "cell_type": "code",
   "execution_count": 156,
   "id": "793f1603-7fe1-4459-af12-3aa6f6d0f6e0",
   "metadata": {
    "tags": []
   },
   "outputs": [],
   "source": [
    "from torchvision import transforms\n",
    "from torch import nn\n",
    "\n",
    "class ReplaceRandomPoint(nn.Module):\n",
    "    def __init__(self, num_to_replace=1, scale=1, DEBUG=False):\n",
    "        self.num_to_replace = num_to_replace\n",
    "        self.scale = scale\n",
    "        self.DEBUG = DEBUG\n",
    "    \n",
    "    def __call__(self, pts):\n",
    "        i_to_replace = torch.randperm(pts.shape[0])[:self.num_to_replace]\n",
    "        pt_sz = pts[0].shape\n",
    "        if self.DEBUG:\n",
    "            print(i_to_replace)\n",
    "            print(\"Original points: \", pts)\n",
    "        \n",
    "        for i in i_to_replace:\n",
    "            new_pt = self.scale * torch.rand(pt_sz)\n",
    "            pts[i, :] = new_pt\n",
    "            if self.DEBUG:\n",
    "                print(new_pt)\n",
    "            \n",
    "        return pts\n",
    "\n",
    "            \n",
    "class PointCloudAugmentationDINO(object):\n",
    "    \"\"\"\n",
    "    Following augmentations:\n",
    "        Replace neuron with outlier\n",
    "        Add jitter to location\n",
    "        Scale\n",
    "    TODO:\n",
    "        RandomAffine\n",
    "        (see: https://pytorch3d.readthedocs.io/en/latest/modules/transforms.html)\n",
    "    \"\"\"\n",
    "    def __init__(self, global_crops_scale, local_crops_scale, local_crops_number):\n",
    "        normalize = nn.Sequential(\n",
    "            transforms.Normalize(0.0, 0.229),\n",
    "        )\n",
    "        # normalize = transforms.Compose([\n",
    "        #     transforms.ToTensor(),\n",
    "        #     # transforms.Normalize((0.485, 0.456, 0.406), (0.229, 0.224, 0.225)),\n",
    "        # ])\n",
    "        \n",
    "        replace_single_random = ReplaceRandomPoint(num_to_replace=1, scale=global_crops_scale)\n",
    "        replace_many_random = ReplaceRandomPoint(num_to_replace=5, scale=local_crops_scale)\n",
    "\n",
    "        # first global crop\n",
    "        self.global_transfo1 = nn.Sequential(\n",
    "            replace_single_random,\n",
    "            normalize,\n",
    "            # torch.squeeze # Output has a middle dimension of 1 for some reason\n",
    "        )\n",
    "        # second global crop\n",
    "        self.global_transfo2 = nn.Sequential(\n",
    "            replace_single_random,\n",
    "            normalize,\n",
    "            # torch.squeeze\n",
    "        )\n",
    "        # transformation for the local small crops\n",
    "        self.local_crops_number = local_crops_number\n",
    "        self.local_transfo = nn.Sequential(\n",
    "            replace_many_random,\n",
    "            normalize,\n",
    "            # torch.squeeze\n",
    "        )\n",
    "\n",
    "    def __call__(self, pts):\n",
    "        crops = []\n",
    "        crops.append(self.global_transfo1(pts))\n",
    "        crops.append(self.global_transfo2(pts))\n",
    "        for _ in range(self.local_crops_number):\n",
    "            crops.append(self.local_transfo(pts))\n",
    "        # Return full shape\n",
    "        crops = torch.cat([torch.unsqueeze(c, dim=0).float() for c in crops], dim=0)\n",
    "        # for c in crops:\n",
    "        #     c = torch.unsqueeze(c, dim=0)\n",
    "        return crops"
   ]
  },
  {
   "cell_type": "code",
   "execution_count": 98,
   "id": "58bd2824-6e20-4577-9e78-12ac14177ad4",
   "metadata": {
    "tags": []
   },
   "outputs": [],
   "source": [
    "\n",
    "import torch.nn.functional as F\n",
    "# import torch.distributed as dist\n",
    "\n",
    "class DINOLoss(nn.Module):\n",
    "    def __init__(self, dim_h, dim_w, ncrops, warmup_teacher_temp=0.04, teacher_temp=0.04,\n",
    "                 warmup_teacher_temp_epochs=0, nepochs=10, student_temp=0.1,\n",
    "                 center_momentum=0.9):\n",
    "        super().__init__()\n",
    "        self.student_temp = student_temp\n",
    "        self.center_momentum = center_momentum\n",
    "        self.ncrops = ncrops\n",
    "        # Will be same size as the output of a block; in this case, 2d\n",
    "        self.register_buffer(\"center\", torch.zeros(1, dim_h, dim_w))\n",
    "        # we apply a warm up for the teacher temperature because\n",
    "        # a too high temperature makes the training instable at the beginning\n",
    "        self.teacher_temp_schedule = np.concatenate((\n",
    "            np.linspace(warmup_teacher_temp,\n",
    "                        teacher_temp, warmup_teacher_temp_epochs),\n",
    "            np.ones(nepochs - warmup_teacher_temp_epochs) * teacher_temp\n",
    "        ))\n",
    "\n",
    "    def forward(self, student_output, teacher_output, epoch):\n",
    "        \"\"\"\n",
    "        Cross-entropy between softmax outputs of the teacher and student networks.\n",
    "        \"\"\"\n",
    "        student_out = student_output / self.student_temp\n",
    "        student_out = student_out.chunk(self.ncrops)\n",
    "\n",
    "        # teacher centering and sharpening\n",
    "        temp = self.teacher_temp_schedule[epoch]\n",
    "        teacher_out = F.softmax((teacher_output - self.center) / temp, dim=-1)\n",
    "        teacher_out = teacher_out.detach().chunk(2)\n",
    "\n",
    "        total_loss = 0\n",
    "        n_loss_terms = 0\n",
    "        for iq, q in enumerate(teacher_out):\n",
    "            for v in range(len(student_out)):\n",
    "                if v == iq:\n",
    "                    # we skip cases where student and teacher operate on the same view\n",
    "                    continue\n",
    "                loss = torch.sum(-q * F.log_softmax(student_out[v], dim=-1), dim=-1)\n",
    "                total_loss += loss.mean()\n",
    "                n_loss_terms += 1\n",
    "        total_loss /= n_loss_terms\n",
    "        self.update_center(teacher_output)\n",
    "        return total_loss\n",
    "\n",
    "    @torch.no_grad()\n",
    "    def update_center(self, teacher_output):\n",
    "        \"\"\"\n",
    "        Update center used for teacher output.\n",
    "        \"\"\"\n",
    "        batch_center = torch.sum(teacher_output, dim=0, keepdim=True)\n",
    "        batch_center = batch_center / len(teacher_output)\n",
    "        # dist.all_reduce(batch_center)\n",
    "        # batch_center = batch_center / (len(teacher_output) * dist.get_world_size())\n",
    "\n",
    "        # ema update\n",
    "        self.center = self.center * self.center_momentum + batch_center * (1 - self.center_momentum)"
   ]
  },
  {
   "cell_type": "code",
   "execution_count": 223,
   "id": "79bdeb88-873d-4ab4-9d54-ba29661e6a94",
   "metadata": {
    "tags": []
   },
   "outputs": [],
   "source": [
    "def train_one_epoch(student, teacher, _teacher_without_ddp, dino_loss, data_loader,\n",
    "                    optimizer, lr, wd, momentum, epoch,\n",
    "                    fp16_scaler, args):\n",
    "    # metric_logger = utils.MetricLogger(delimiter=\"  \")\n",
    "    # header = 'Epoch: [{}/{}]'.format(epoch, args.epochs)\n",
    "    for it, (images, _) in enumerate(data_loader):\n",
    "        # update weight decay and learning rate according to their schedule\n",
    "        it = len(data_loader) * epoch + it  # global training iteration\n",
    "        for i, param_group in enumerate(optimizer.param_groups):\n",
    "            # param_group[\"lr\"] = lr_schedule[it]\n",
    "            param_group[\"lr\"] = lr\n",
    "            if i == 0:  # only the first group is regularized\n",
    "                # param_group[\"weight_decay\"] = wd_schedule[it]\n",
    "                param_group[\"weight_decay\"] = wd\n",
    "\n",
    "        # move images to gpu\n",
    "        images = [im.cuda(non_blocking=True) for im in images]\n",
    "        images = torch.unsqueeze(torch.cat(images), dim=1)\n",
    "        # teacher and student forward passes + compute dino loss\n",
    "        with torch.cuda.amp.autocast(fp16_scaler is not None):\n",
    "            teacher_output = teacher(images[:2])  # only the 2 global views pass through the teacher\n",
    "            student_output = student(images)\n",
    "            loss = dino_loss(student_output, teacher_output, epoch)\n",
    "\n",
    "        if not math.isfinite(loss.item()):\n",
    "            print(\"Loss is {}, stopping training\".format(loss.item()))\n",
    "            sys.exit(1)\n",
    "        # else:\n",
    "        #     print(\"Loss is {}\".format(loss.item()))\n",
    "            \n",
    "        # student update\n",
    "        optimizer.zero_grad()\n",
    "        param_norms = None\n",
    "        if fp16_scaler is None:\n",
    "            loss.backward()\n",
    "            if args['clip_grad']:\n",
    "                param_norms = utils.clip_gradients(student, args['clip_grad'])\n",
    "            # utils.cancel_gradients_last_layer(epoch, student,\n",
    "            #                                   args['freeze_last_layer'])\n",
    "            optimizer.step()\n",
    "        else:\n",
    "            fp16_scaler.scale(loss).backward()\n",
    "            if args['clip_grad']:\n",
    "                fp16_scaler.unscale_(optimizer)  # unscale the gradients of optimizer's assigned params in-place\n",
    "                param_norms = utils.clip_gradients(student, args['clip_grad'])\n",
    "            utils.cancel_gradients_last_layer(epoch, student,\n",
    "                                              args['freeze_last_layer'])\n",
    "            fp16_scaler.step(optimizer)\n",
    "            fp16_scaler.update()\n",
    "\n",
    "        # EMA update for the teacher\n",
    "        with torch.no_grad():\n",
    "            # m = momentum_schedule[it]  # momentum parameter\n",
    "            m = momentum\n",
    "            for param_q, param_k in zip(student.parameters(), teacher.parameters()):\n",
    "                param_k.data.mul_(m).add_((1 - m) * param_q.detach().data)\n",
    "\n",
    "        # logging\n",
    "        torch.cuda.synchronize()\n",
    "        # metric_logger.update(loss=loss.item())\n",
    "        # metric_logger.update(lr=optimizer.param_groups[0][\"lr\"])\n",
    "        # metric_logger.update(wd=optimizer.param_groups[0][\"weight_decay\"])\n",
    "    print(\"Loss is {}\".format(loss.item()))\n",
    "    # gather the stats from all processes\n",
    "    # metric_logger.synchronize_between_processes()\n",
    "    # print(\"Averaged stats:\", metric_logger)\n",
    "    # return {k: meter.global_avg for k, meter in metric_logger.meters.items()}"
   ]
  },
  {
   "cell_type": "code",
   "execution_count": null,
   "id": "5c5c7a1e-77ef-447e-ae04-4a5c1e715e5d",
   "metadata": {},
   "outputs": [],
   "source": []
  },
  {
   "cell_type": "code",
   "execution_count": null,
   "id": "7c3d5c23-d033-4cc9-916b-c32f78c94f7c",
   "metadata": {},
   "outputs": [],
   "source": []
  },
  {
   "cell_type": "code",
   "execution_count": null,
   "id": "31dc417f-18be-4d69-a555-fa09c1bfeaff",
   "metadata": {},
   "outputs": [],
   "source": []
  },
  {
   "cell_type": "code",
   "execution_count": 52,
   "id": "3e96b079-cc91-440d-b04b-8a6fc76c6d00",
   "metadata": {},
   "outputs": [],
   "source": [
    "aug = PointCloudAugmentationDINO(10, 1, 2)\n",
    "\n",
    "out = aug(torch.from_numpy(np.expand_dims(n0, axis=0)))"
   ]
  },
  {
   "cell_type": "code",
   "execution_count": 53,
   "id": "1729c160-bb4d-4aa2-afd1-17d8a4ca5ff8",
   "metadata": {},
   "outputs": [
    {
     "data": {
      "text/plain": [
       "torch.Size([1, 20, 3])"
      ]
     },
     "execution_count": 53,
     "metadata": {},
     "output_type": "execute_result"
    }
   ],
   "source": [
    "out[0].shape"
   ]
  },
  {
   "cell_type": "code",
   "execution_count": 54,
   "id": "b86d67ca-66ef-45e6-9ac7-d2394ca09120",
   "metadata": {},
   "outputs": [
    {
     "data": {
      "text/plain": [
       "torch.Size([1, 1, 20, 3])"
      ]
     },
     "execution_count": 54,
     "metadata": {},
     "output_type": "execute_result"
    }
   ],
   "source": [
    "torch.unsqueeze(out[0], dim=0).shape"
   ]
  },
  {
   "cell_type": "code",
   "execution_count": 55,
   "id": "7bc3ee45-2686-485f-a8a6-0243800cdfc1",
   "metadata": {},
   "outputs": [
    {
     "data": {
      "text/plain": [
       "(20, 3)"
      ]
     },
     "execution_count": 55,
     "metadata": {},
     "output_type": "execute_result"
    }
   ],
   "source": [
    "n0.shape"
   ]
  },
  {
   "cell_type": "code",
   "execution_count": 56,
   "id": "8e13706c-5b14-4313-b337-6ca0a67f3efe",
   "metadata": {},
   "outputs": [
    {
     "data": {
      "text/plain": [
       "(20, 3)"
      ]
     },
     "execution_count": 56,
     "metadata": {},
     "output_type": "execute_result"
    }
   ],
   "source": [
    "f = ReplaceRandomPoint(1, 100, DEBUG=False)\n",
    "\n",
    "f(n0).shape"
   ]
  },
  {
   "cell_type": "code",
   "execution_count": 58,
   "id": "268e338e-b0b6-481d-aa39-05237935be54",
   "metadata": {},
   "outputs": [],
   "source": [
    "normalize = transforms.Compose([\n",
    "            transforms.ToTensor(),\n",
    "            transforms.Normalize(0.485, 0.229),\n",
    "        ])"
   ]
  },
  {
   "cell_type": "code",
   "execution_count": 59,
   "id": "c57d5623-b6b0-416c-9625-975a74e538de",
   "metadata": {},
   "outputs": [
    {
     "data": {
      "text/plain": [
       "torch.Size([1, 20, 3])"
      ]
     },
     "execution_count": 59,
     "metadata": {},
     "output_type": "execute_result"
    }
   ],
   "source": [
    "normalize(n0).shape"
   ]
  },
  {
   "cell_type": "code",
   "execution_count": 60,
   "id": "9a2da7ce-6639-4c04-84d9-9bd6cfd6f151",
   "metadata": {},
   "outputs": [
    {
     "data": {
      "text/plain": [
       "torch.Size([1, 20, 3])"
      ]
     },
     "execution_count": 60,
     "metadata": {},
     "output_type": "execute_result"
    }
   ],
   "source": [
    "normalize(f(n0)).shape"
   ]
  },
  {
   "cell_type": "code",
   "execution_count": null,
   "id": "70382d25-811b-4bb3-b195-538505e3a0fe",
   "metadata": {},
   "outputs": [],
   "source": []
  },
  {
   "cell_type": "code",
   "execution_count": null,
   "id": "c4cd08a1-dca2-4f5e-bd2d-6ad722070380",
   "metadata": {},
   "outputs": [],
   "source": []
  }
 ],
 "metadata": {
  "kernelspec": {
   "display_name": "Python 3 (ipykernel)",
   "language": "python",
   "name": "python3"
  },
  "language_info": {
   "codemirror_mode": {
    "name": "ipython",
    "version": 3
   },
   "file_extension": ".py",
   "mimetype": "text/x-python",
   "name": "python",
   "nbconvert_exporter": "python",
   "pygments_lexer": "ipython3",
   "version": "3.7.11"
  }
 },
 "nbformat": 4,
 "nbformat_minor": 5
}
