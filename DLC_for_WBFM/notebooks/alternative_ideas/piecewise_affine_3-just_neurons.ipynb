{
 "cells": [
  {
   "cell_type": "markdown",
   "id": "5830b566-e6b5-40ab-ae07-c2fc4b1c75cc",
   "metadata": {},
   "source": [
    "# Experiments with GP pushing and then simulated annealing for finalization"
   ]
  },
  {
   "cell_type": "code",
   "execution_count": 1,
   "id": "852a500a-c726-458b-b2a1-e07ebaac1bc6",
   "metadata": {},
   "outputs": [],
   "source": [
    "%load_ext autoreload\n",
    "%autoreload 2\n",
    "from DLC_for_WBFM.utils.projects.finished_project_data import finished_project_data\n",
    "import numpy as np\n",
    "import matplotlib.pyplot as plt\n",
    "import pickle\n",
    "import napari, zarr"
   ]
  },
  {
   "cell_type": "code",
   "execution_count": 190,
   "id": "e99ec9f1-3239-4260-abdf-e40d99492b5a",
   "metadata": {},
   "outputs": [],
   "source": [
    "fname = r\"C:\\dlc_stacks\\Charlie-worm3-new-seg\\project_config.yaml\"\n",
    "dat = finished_project_data.load_final_project_data_from_config(fname)"
   ]
  },
  {
   "cell_type": "code",
   "execution_count": 3,
   "id": "1f8477c0-ba7a-4a3b-9458-e4dbaa113c15",
   "metadata": {},
   "outputs": [
    {
     "name": "stdout",
     "output_type": "stream",
     "text": [
      "Jupyter environment detected. Enabling Open3D WebVisualizer.\n",
      "[Open3D INFO] WebRTC GUI backend enabled.\n",
      "[Open3D INFO] WebRTCWindowSystem: HTTP handshake server disabled.\n"
     ]
    }
   ],
   "source": [
    "fname = r\"C:\\dlc_stacks\\Charlie-worm3-new-seg\\2-training_data\\raw\\match_dat.pickle\"\n",
    "with open(fname, 'rb') as f:\n",
    "    matches = pickle.load(f)\n",
    "    \n",
    "fname = r\"C:\\dlc_stacks\\Charlie-worm3-new-seg\\2-training_data\\raw\\frame_dat.pickle\"\n",
    "with open(fname, 'rb') as f:\n",
    "    frames = pickle.load(f)"
   ]
  },
  {
   "cell_type": "code",
   "execution_count": 192,
   "id": "57fe9c63-414a-4aeb-92d2-2fdd1ebaa048",
   "metadata": {},
   "outputs": [],
   "source": [
    "cfg = dat.unpack_config_file(fname)[0]"
   ]
  },
  {
   "cell_type": "code",
   "execution_count": 194,
   "id": "87fd3e20-ef70-4639-b039-729f827f94ec",
   "metadata": {},
   "outputs": [
    {
     "data": {
      "text/plain": [
       "ordereddict([('task_name', 'test'), ('experimenter', 'Charlie'), ('project_dir', 'C:/dlc_stacks/Charlie-worm3-new-seg'), ('project_path', None), ('red_bigtiff_fname', 'Y:/shared_projects/wbfm/dat/ZIM2051/2021-03-04_16-07-57_worm3_ZIM2051/2021-03-04_16-07-57_worm3_ZIM2051-channel-0-pco_camera1/2021-03-04_16-07-57_worm3_ZIM2051-channel-0-pco_camera1bigtiff.btf'), ('green_bigtiff_fname', 'Y:/shared_projects/wbfm/dat/ZIM2051/2021-03-04_16-07-57_worm3_ZIM2051/2021-03-04_16-07-57_worm3_ZIM2051-channel-1-pco_camera2/2021-03-04_16-07-57_worm3_ZIM2051-channel-1-pco_camera2bigtiff.btf'), ('preprocessing_config', 'preprocessing_config.yaml'), ('preprocessed_red', 'D:/2021-03-04_16-07-57_worm3_ZIM2051/2021-03-04_16-07-57_worm3_ZIM2051-channel-0-pco_camera1/2021-03-04_16-07-57_worm3_ZIM2051-channel-0-pco_camera1bigtiff.zarr'), ('preprocessed_green', 'D:/2021-03-04_16-07-57_worm3_ZIM2051/2021-03-04_16-07-57_worm3_ZIM2051-channel-1-pco_camera2/2021-03-04_16-07-57_worm3_ZIM2051-channel-1-pco_camera2bigtiff.zarr'), ('dataset_params', ordereddict([('start_volume', 0), ('num_frames', 1500), ('fps', 5.0), ('num_slices', 32), ('z_to_xy_ratio', 1.0), ('red_and_green_mirrored', True)])), ('subfolder_configs', ordereddict([('segmentation', '1-segmentation/segment_config.yaml'), ('training_data', '2-training_data/training_data_config.yaml'), ('tracking', '3-tracking/tracking_config.yaml'), ('traces', '4-traces/traces_config.yaml')])), ('current_status', ordereddict([('segmentation', False), ('training_data_3d', False), ('training_data_2d', False), ('dlc_networks', False), ('traces', False)])), ('other', ordereddict([('verbose', 2), ('DEBUG', False)])), ('seed', 226587197)])"
      ]
     },
     "execution_count": 194,
     "metadata": {},
     "output_type": "execute_result"
    }
   ],
   "source": [
    "cfg.config."
   ]
  },
  {
   "cell_type": "markdown",
   "id": "aa5a64f2-2a49-4e4d-a10f-fea62a1c6e17",
   "metadata": {},
   "source": [
    "# Visualize the pushed neurons on the next frame"
   ]
  },
  {
   "cell_type": "code",
   "execution_count": 4,
   "id": "7c271727-fc5e-470b-8762-0fe8765f7bfc",
   "metadata": {},
   "outputs": [
    {
     "name": "stdout",
     "output_type": "stream",
     "text": [
      "FramePair with 134 matches \n",
      "\n",
      "=======================================\n",
      "ReferenceFrame:\n",
      "Frame index: 0 \n",
      "Number of neurons: 148 \n",
      "Number of keypoints: 148 \n",
      " =======================================\n",
      "ReferenceFrame:\n",
      "Frame index: 1 \n",
      "Number of neurons: 151 \n",
      "Number of keypoints: 151 \n",
      "\n"
     ]
    }
   ],
   "source": [
    "pair = (0, 1)\n",
    "print(matches[pair])\n",
    "print(frames[pair[0]], frames[pair[1]])"
   ]
  },
  {
   "cell_type": "code",
   "execution_count": 5,
   "id": "aa9cf427-9789-40ac-a225-9fea34f97756",
   "metadata": {},
   "outputs": [],
   "source": [
    "# Get locations of target neurons\n",
    "target_zxy = frames[pair[1]].neuron_locs\n",
    "target_zxy = target_zxy[:, [0,2,1]]"
   ]
  },
  {
   "cell_type": "code",
   "execution_count": 6,
   "id": "5db58fcd-c212-4aae-9ce5-a0742c3fcef7",
   "metadata": {},
   "outputs": [],
   "source": [
    "# Get gp pushed locations\n",
    "\n",
    "gp_zxy = matches[pair].gp_pushed_locations\n",
    "# Replace z coordinate, which is somehow crazy\n",
    "gp_zxy[:, 0] = frames[pair[0]].neuron_locs[:, 0]\n",
    "gp_zxy = gp_zxy[:, [0,2,1]]\n",
    "\n",
    "affine_zxy = matches[pair].affine_pushed_locations\n",
    "# Replace z coordinate, which is somehow crazy\n",
    "# affine_zxy[:, 0] = frames[pair[0]].neuron_locs[:, 0]\n",
    "affine_zxy = affine_zxy[:, [0,2,1]]"
   ]
  },
  {
   "cell_type": "code",
   "execution_count": 7,
   "id": "faf756d6-bddb-438c-b1b7-98458e3a6cde",
   "metadata": {},
   "outputs": [],
   "source": [
    "# Split by \"has match\"\n",
    "f0_to_f1_matches = {n0: n1 for n0, n1, _ in matches[pair].final_matches}\n",
    "\n",
    "# F1 matches\n",
    "has_match_ind = set(f0_to_f1_matches.values())\n",
    "target_xyz_matched = [row for i, row in enumerate(target_zxy) if i in has_match_ind]\n",
    "target_xyz_unmatched = [row for i, row in enumerate(target_zxy) if i not in has_match_ind]\n",
    "\n",
    "# F0 matches\n",
    "has_match_ind = set(f0_to_f1_matches.keys())\n",
    "\n",
    "gp_xyz_matched = [row for i, row in enumerate(gp_zxy) if i in has_match_ind]\n",
    "gp_xyz_unmatched = [row for i, row in enumerate(gp_zxy) if i not in has_match_ind]\n",
    "\n",
    "affine_xyz_matched = [row for i, row in enumerate(affine_zxy) if i in has_match_ind]\n",
    "affine_xyz_unmatched = [row for i, row in enumerate(affine_zxy) if i not in has_match_ind]"
   ]
  },
  {
   "cell_type": "code",
   "execution_count": 8,
   "id": "f956a44b-cfeb-4cf5-9658-95c5065e7595",
   "metadata": {},
   "outputs": [],
   "source": [
    "# # Plot using napari\n",
    "# v = napari.view_image(dat.red_data[pair[1]], ndisplay=3)\n",
    "# # v.add_points(gp_xyz_matched, size=3, face_color='green', n_dimensional=True)\n",
    "# v.add_points(gp_xyz_unmatched, size=3, face_color='red', n_dimensional=True)\n",
    "# # v.add_points(affine_xyz_matched, size=3, face_color='green', symbol='x', n_dimensional=True)\n",
    "# v.add_points(affine_xyz_unmatched, size=3, face_color='red', symbol='x', n_dimensional=True)\n",
    "# v.add_points(target_xyz_matched, size=5, symbol='ring', face_color='blue', n_dimensional=True)\n",
    "# v.add_points(target_xyz_unmatched, size=5, symbol='ring', face_color='red', n_dimensional=True)"
   ]
  },
  {
   "cell_type": "code",
   "execution_count": 9,
   "id": "ba692ea2-9a06-4000-b6b0-46e3798cdacb",
   "metadata": {},
   "outputs": [],
   "source": [
    "\n",
    "# Get gradient images (not in z)\n",
    "# vol = dat.red_data[pair[1], ...]\n",
    "# vol_filtered = gaussian(vol, sigma=1)\n",
    "# thresh = 1.5*np.mean(vol_filtered)\n",
    "# mask = vol_filtered > thresh\n",
    "# vol_gradient_x = sobel_h(vol_filtered, mask)\n",
    "# vol_gradient_y = sobel_v(vol_filtered, mask)"
   ]
  },
  {
   "cell_type": "markdown",
   "id": "deea031a-a12a-4a11-9d42-6c8f9522c6d7",
   "metadata": {},
   "source": [
    "# Actually do it (no annealing)"
   ]
  },
  {
   "cell_type": "code",
   "execution_count": 10,
   "id": "32a8e0c7-c9e5-4ef1-aaa7-183b9d945d5d",
   "metadata": {},
   "outputs": [],
   "source": [
    "# from skimage.filters import gaussian, sobel_h, sobel_v\n",
    "from scipy.spatial import KDTree"
   ]
  },
  {
   "cell_type": "code",
   "execution_count": 11,
   "id": "19146984-7d0a-4aee-b6eb-9e5dbde90279",
   "metadata": {},
   "outputs": [],
   "source": [
    "pair = (1, 2)"
   ]
  },
  {
   "cell_type": "code",
   "execution_count": 12,
   "id": "baf294f3-9fee-4f4c-8f98-e48a63ac3b4a",
   "metadata": {},
   "outputs": [],
   "source": [
    "# Get initial affine locations\n",
    "affine_zxy = matches[pair].affine_pushed_locations\n",
    "affine_zxy = affine_zxy[:, [0,2,1]]\n",
    "\n",
    "# Get image\n",
    "vol = dat.red_data[pair[1], ...]\n",
    "# vol_filtered = gaussian(vol, sigma=1)\n",
    "\n",
    "# Get locations of target neurons\n",
    "target_zxy = frames[pair[1]].neuron_locs\n",
    "target_zxy = target_zxy[:, [0,2,1]]"
   ]
  },
  {
   "cell_type": "code",
   "execution_count": 13,
   "id": "1b1dfa1b-f7cc-4a5e-95ef-3ed7cd2e7686",
   "metadata": {},
   "outputs": [],
   "source": [
    "# Only check the ones with no match\n",
    "f0_to_f1_matches = {n0: n1 for n0, n1, _ in matches[pair].final_matches}\n",
    "has_match_ind = list(f0_to_f1_matches.keys())\n",
    "no_match_ind = list(range(frames[pair[0]].num_neurons()))\n",
    "[no_match_ind.remove(i) for i in has_match_ind]\n",
    "\n",
    "# Set up kdtree to check nearest neighbor\n",
    "tree = KDTree(target_zxy)\n",
    "\n",
    "# Parameters\n",
    "brightness_thresh = 25\n",
    "distance_thresh = 5.0"
   ]
  },
  {
   "cell_type": "code",
   "execution_count": 14,
   "id": "aec94ec7-4bd5-40d0-a7c3-906313864388",
   "metadata": {},
   "outputs": [
    {
     "name": "stdout",
     "output_type": "stream",
     "text": [
      "False 0 278.634677184079\n",
      "False 22 6.514810434866421\n",
      "True 40 8.798306660844792\n",
      "False 31 3.65074508888712\n",
      "False 34 4.273267236144742\n",
      "True 36 9.445009640142503\n",
      "True 27 12.186874485455414\n",
      "True 35 7.80057086110525\n",
      "Added 4 neurons\n"
     ]
    }
   ],
   "source": [
    "new_f1_zxy = []\n",
    "new_matches = []\n",
    "next_f1_ind = frames[pair[1]].num_neurons() + 1\n",
    "\n",
    "for ind_f0 in no_match_ind:\n",
    "    pushed_zxy = affine_zxy[ind_f0, :]\n",
    "    z, x, y = int(pushed_zxy[0]), int(pushed_zxy[1]), int(pushed_zxy[2])\n",
    "    brightness = vol[z, x, y]\n",
    "    \n",
    "    nn_dist, _ = tree.query(pushed_zxy, k=1)\n",
    "    \n",
    "    to_keep = (brightness > brightness_thresh) and (nn_dist > distance_thresh)\n",
    "    print(to_keep, brightness, nn_dist)\n",
    "    if to_keep:\n",
    "        new_matches.append([ind_f0, next_f1_ind, 1.0])\n",
    "        next_f1_ind += 1\n",
    "        new_f1_zxy.append(pushed_zxy)\n",
    "\n",
    "print(f\"Added {len(new_matches)} neurons\")"
   ]
  },
  {
   "cell_type": "code",
   "execution_count": 15,
   "id": "d0da1640-d584-4017-8970-4845eb50a00c",
   "metadata": {},
   "outputs": [],
   "source": [
    "# # Plot using napari\n",
    "# v = napari.view_image(dat.red_data[pair[1]], ndisplay=3)\n",
    "# v.add_points(new_f1_zxy, size=3, face_color='green', symbol='x', n_dimensional=True)\n",
    "# v.add_points(affine_xyz_unmatched, size=3, face_color='red', symbol='x', n_dimensional=True)\n",
    "# v.add_points(target_xyz_matched, size=5, symbol='ring', face_color='blue', n_dimensional=True)\n",
    "# v.add_points(target_xyz_unmatched, size=5, symbol='ring', face_color='red', n_dimensional=True)"
   ]
  },
  {
   "cell_type": "code",
   "execution_count": 16,
   "id": "a3a6a3ac-f770-4dea-ab0a-837bf377d912",
   "metadata": {},
   "outputs": [],
   "source": [
    "f0, f1 = frames[pair[0]], frames[pair[1]]"
   ]
  },
  {
   "cell_type": "code",
   "execution_count": 17,
   "id": "2a99f243-e643-44ad-9919-63419db880f0",
   "metadata": {},
   "outputs": [
    {
     "data": {
      "text/plain": [
       "151"
      ]
     },
     "execution_count": 17,
     "metadata": {},
     "output_type": "execute_result"
    }
   ],
   "source": [
    "len(f0.keypoint_locs)"
   ]
  },
  {
   "cell_type": "markdown",
   "id": "7457a5f3-b1de-4993-8e91-fcf3c2140f5e",
   "metadata": {},
   "source": [
    "# Use piecewise affine with only matched neurons"
   ]
  },
  {
   "cell_type": "code",
   "execution_count": 18,
   "id": "1cc64b3e-d382-4565-8b74-28a456e1e87b",
   "metadata": {},
   "outputs": [],
   "source": [
    "from skimage.transform import PiecewiseAffineTransform, warp"
   ]
  },
  {
   "cell_type": "code",
   "execution_count": 19,
   "id": "f7a9e2fb-06df-4048-9af6-abc80998ce0a",
   "metadata": {
    "tags": []
   },
   "outputs": [
    {
     "name": "stdout",
     "output_type": "stream",
     "text": [
      "FramePair with 134 matches \n",
      "\n",
      "=======================================\n",
      "ReferenceFrame:\n",
      "Frame index: 0 \n",
      "Number of neurons: 148 \n",
      "Number of keypoints: 148 \n",
      " =======================================\n",
      "ReferenceFrame:\n",
      "Frame index: 1 \n",
      "Number of neurons: 151 \n",
      "Number of keypoints: 151 \n",
      "\n"
     ]
    }
   ],
   "source": [
    "pair = (0, 1)\n",
    "print(matches[pair])\n",
    "print(frames[pair[0]], frames[pair[1]])"
   ]
  },
  {
   "cell_type": "code",
   "execution_count": 20,
   "id": "69d19f68-d279-4d8c-b9ac-f41030df5120",
   "metadata": {},
   "outputs": [],
   "source": [
    "m = matches[pair]\n",
    "f0, f1 = frames[pair[0]], frames[pair[1]]"
   ]
  },
  {
   "cell_type": "code",
   "execution_count": 21,
   "id": "f2b2ffe7-5bff-477d-84f2-2e5d9a5deda3",
   "metadata": {},
   "outputs": [],
   "source": [
    "f0_to_f1 = m.get_f0_to_f1_dict()"
   ]
  },
  {
   "cell_type": "code",
   "execution_count": 22,
   "id": "60dda4a2-473f-4253-8d62-4d9802a95e5a",
   "metadata": {},
   "outputs": [],
   "source": [
    "src_matched = np.array([f0.keypoint_locs[k,[2,1]] for k in f0_to_f1.keys()])\n",
    "src_all_xy = np.array(f0.keypoint_locs[:,[2,1]])\n",
    "src_z = np.array(f0.keypoint_locs[:,[0]])\n",
    "\n",
    "dst_matched = np.array([f1.keypoint_locs[v,[2,1]] for v in f0_to_f1.values()])\n",
    "dst_all_xy = np.array(f0.keypoint_locs[:,[2,1]])\n",
    "dst_z = np.array(f0.keypoint_locs[:,[0]])"
   ]
  },
  {
   "cell_type": "code",
   "execution_count": 23,
   "id": "27bc9700-f6a3-40f7-9835-9a7a7a8d0b76",
   "metadata": {},
   "outputs": [
    {
     "data": {
      "text/plain": [
       "True"
      ]
     },
     "execution_count": 23,
     "metadata": {},
     "output_type": "execute_result"
    }
   ],
   "source": [
    "\n",
    "tform = PiecewiseAffineTransform()\n",
    "tform.estimate(src_matched, dst_matched)"
   ]
  },
  {
   "cell_type": "code",
   "execution_count": 24,
   "id": "092c3266-449a-4c48-ba86-8ed77f1a1ebe",
   "metadata": {},
   "outputs": [],
   "source": [
    "transformed = tform.inverse(dst_all_xy)\n",
    "# src_transformed = tform.inverse(src)\n",
    "\n",
    "transformed = np.where(transformed==-1, np.nan, transformed)\n",
    "\n",
    "transformed = np.hstack([dst_z, transformed]) #[:, [0,2,1]]"
   ]
  },
  {
   "cell_type": "code",
   "execution_count": 25,
   "id": "793ca1e5-1b3e-4b2a-a22c-46f012e8e7d6",
   "metadata": {},
   "outputs": [],
   "source": [
    "# Get locations of target neurons\n",
    "target_zxy = frames[pair[1]].neuron_locs\n",
    "target_zxy = target_zxy[:, [0,2,1]]\n",
    "\n",
    "affine_zxy = matches[pair].affine_pushed_locations\n",
    "affine_zxy = affine_zxy[:, [0,2,1]]\n",
    "\n",
    "# Split by \"has match\"\n",
    "f0_to_f1_matches = {n0: n1 for n0, n1, _ in matches[pair].final_matches}\n",
    "\n",
    "# F1 matches\n",
    "has_match_ind = set(f0_to_f1_matches.values())\n",
    "target_xyz_matched = [row for i, row in enumerate(target_zxy) if i in has_match_ind]\n",
    "target_xyz_unmatched = [row for i, row in enumerate(target_zxy) if i not in has_match_ind]\n",
    "\n",
    "# F0 matches\n",
    "has_match_ind = set(f0_to_f1_matches.keys())\n",
    "\n",
    "affine_xyz_matched = [row for i, row in enumerate(affine_zxy) if i in has_match_ind]\n",
    "affine_xyz_unmatched = [row for i, row in enumerate(affine_zxy) if i not in has_match_ind]"
   ]
  },
  {
   "cell_type": "code",
   "execution_count": 26,
   "id": "d8bd27ad-495d-4658-b2d5-605fec31a24e",
   "metadata": {},
   "outputs": [],
   "source": [
    "# # Plot using napari\n",
    "# v = napari.view_image(dat.red_data[pair[0]], ndisplay=3, name='f0_red')\n",
    "# v.add_image(dat.red_data[pair[1]], name='f1_red')\n",
    "# v.add_points(transformed, size=3, face_color='red', n_dimensional=True, name='piecewise_affine_transformed')\n",
    "# v.add_points(affine_xyz_matched, size=3, face_color='green', symbol='x', n_dimensional=True, name='f0_affine_matched')\n",
    "# # v.add_points(affine_xyz_unmatched, size=3, face_color='red', symbol='x', n_dimensional=True)\n",
    "# v.add_points(target_xyz_matched, size=5, symbol='ring', face_color='blue', n_dimensional=True, name='f1_matched')\n",
    "# v.add_points(target_xyz_unmatched, size=5, symbol='ring', face_color='red', n_dimensional=True, name='f1_unmatched')"
   ]
  },
  {
   "cell_type": "code",
   "execution_count": 27,
   "id": "8d9537e5-8995-4fab-b857-c46025130065",
   "metadata": {},
   "outputs": [],
   "source": [
    "\n",
    "# tform.estimate(dst, src)\n",
    "# src_transformed = tform.inverse(src)\n",
    "# # src_transformed = tform.inverse(f0.keypoint_locs[:,[2,1]])\n",
    "\n",
    "# src_transformed[:3], dst[:3], src[:3]"
   ]
  },
  {
   "cell_type": "code",
   "execution_count": null,
   "id": "8d06ddc9-5a51-4c91-b1ce-c06c0febd697",
   "metadata": {},
   "outputs": [],
   "source": []
  },
  {
   "cell_type": "code",
   "execution_count": null,
   "id": "25ec6920-a662-4625-a23f-cbac26fa8fab",
   "metadata": {},
   "outputs": [],
   "source": []
  },
  {
   "cell_type": "code",
   "execution_count": null,
   "id": "5be9b897-b205-4b15-a223-db4949f2034d",
   "metadata": {},
   "outputs": [],
   "source": []
  },
  {
   "cell_type": "markdown",
   "id": "c3ede5b2-c115-45c9-bf4e-41167351121a",
   "metadata": {},
   "source": [
    "# Piecewise affine, but add additional ORB features"
   ]
  },
  {
   "cell_type": "code",
   "execution_count": 28,
   "id": "e6b6db17-1c58-422a-9cca-ab4c6b154d3e",
   "metadata": {},
   "outputs": [],
   "source": [
    "from skimage.transform import PiecewiseAffineTransform, warp"
   ]
  },
  {
   "cell_type": "code",
   "execution_count": 29,
   "id": "a6410cce-0ec5-4348-81fc-e0d3db0c5d11",
   "metadata": {
    "tags": []
   },
   "outputs": [
    {
     "name": "stdout",
     "output_type": "stream",
     "text": [
      "FramePair with 134 matches \n",
      "\n",
      "=======================================\n",
      "ReferenceFrame:\n",
      "Frame index: 0 \n",
      "Number of neurons: 148 \n",
      "Number of keypoints: 148 \n",
      " =======================================\n",
      "ReferenceFrame:\n",
      "Frame index: 1 \n",
      "Number of neurons: 151 \n",
      "Number of keypoints: 151 \n",
      "\n"
     ]
    }
   ],
   "source": [
    "pair = (0, 1)\n",
    "pair_obj = matches[pair]\n",
    "print(pair_obj)\n",
    "f0, f1 = frames[pair[0]], frames[pair[1]]\n",
    "print(f0, f1)"
   ]
  },
  {
   "cell_type": "code",
   "execution_count": 30,
   "id": "3d29afc0-7ed3-4dc3-9d70-41ae09aa60ed",
   "metadata": {},
   "outputs": [],
   "source": [
    "# Update Frame classes, if old style\n",
    "pair_obj.frame0, pair_obj.frame1 = f0, f1"
   ]
  },
  {
   "cell_type": "code",
   "execution_count": 31,
   "id": "a02ad2a9-f984-4bfd-87b8-3d0d478cb4b8",
   "metadata": {},
   "outputs": [
    {
     "ename": "NameError",
     "evalue": "name 'err' is not defined",
     "output_type": "error",
     "traceback": [
      "\u001b[1;31m---------------------------------------------------------------------------\u001b[0m",
      "\u001b[1;31mNameError\u001b[0m                                 Traceback (most recent call last)",
      "\u001b[1;32m<ipython-input-31-ea5d7e39dd60>\u001b[0m in \u001b[0;36m<module>\u001b[1;34m\u001b[0m\n\u001b[1;32m----> 1\u001b[1;33m \u001b[0merr\u001b[0m\u001b[1;33m\u001b[0m\u001b[1;33m\u001b[0m\u001b[0m\n\u001b[0m",
      "\u001b[1;31mNameError\u001b[0m: name 'err' is not defined"
     ]
    }
   ],
   "source": [
    "err"
   ]
  },
  {
   "cell_type": "code",
   "execution_count": null,
   "id": "223ea1fc-f2c5-4aec-82aa-3c817fd1c734",
   "metadata": {},
   "outputs": [],
   "source": []
  },
  {
   "cell_type": "code",
   "execution_count": 41,
   "id": "3fccf45b-7782-4c47-ab4f-cf380575f21e",
   "metadata": {},
   "outputs": [
    {
     "data": {
      "text/plain": [
       "ReferenceFrame with 148 neurons "
      ]
     },
     "execution_count": 41,
     "metadata": {},
     "output_type": "execute_result"
    }
   ],
   "source": [
    "f0"
   ]
  },
  {
   "cell_type": "code",
   "execution_count": null,
   "id": "195633be-0d80-448e-af52-f0720470b1fe",
   "metadata": {
    "tags": []
   },
   "outputs": [],
   "source": [
    "video_dat = dat.red_data[pair[0],...]\n",
    "\n",
    "# f0.detect_non_neuron_keypoints(video_dat, append_to_existing_keypoints=True)\n",
    "f0.encode_all_keypoints(video_dat, z_depth=0)\n",
    "# f0.build_nontrivial_keypoint_to_neuron_mapping(neuron_feature_radius=3)"
   ]
  },
  {
   "cell_type": "code",
   "execution_count": null,
   "id": "607132bd-7696-4183-b2aa-77a0cc2ffe53",
   "metadata": {},
   "outputs": [],
   "source": [
    "from DLC_for_WBFM.utils.feature_detection.utils_features import convert_to_grayscale\n",
    "import cv2\n",
    "\n",
    "loc = f0.neuron_locs[0]\n",
    "\n",
    "z, x, y = loc\n",
    "kp_2d = cv2.KeyPoint(x, y, 31.0)\n",
    "base_2d_encoder = cv2.xfeatures2d.VGG_create()\n",
    "im_3d_gray = [convert_to_grayscale(xy).astype('uint8') for xy in video_dat]\n",
    "im_2d = im_3d_gray[int(5)]\n",
    "_, this_ds = base_2d_encoder.compute(im_2d, [kp_2d])"
   ]
  },
  {
   "cell_type": "code",
   "execution_count": null,
   "id": "a4ae1ee6-ad4d-43e4-b3aa-8874d86cb3ee",
   "metadata": {},
   "outputs": [],
   "source": []
  },
  {
   "cell_type": "code",
   "execution_count": null,
   "id": "ac1806c6-a3c1-4ec2-ae0e-43b76d332fec",
   "metadata": {},
   "outputs": [],
   "source": [
    "f0.all_features.shape"
   ]
  },
  {
   "cell_type": "code",
   "execution_count": null,
   "id": "86c7c295-9616-4dfa-8573-b94fbdd8d3a8",
   "metadata": {},
   "outputs": [],
   "source": [
    "m = matches[pair]\n",
    "f0, f1 = frames[pair[0]], frames[pair[1]]"
   ]
  },
  {
   "cell_type": "code",
   "execution_count": null,
   "id": "f1669491-744f-43ec-93cd-32c82adf9bef",
   "metadata": {},
   "outputs": [],
   "source": [
    "f0_to_f1 = m.get_f0_to_f1_dict()"
   ]
  },
  {
   "cell_type": "code",
   "execution_count": null,
   "id": "aae7f25f-03c3-49a4-a57b-01cb9aee4680",
   "metadata": {},
   "outputs": [],
   "source": [
    "src_matched = np.array([f0.neuron_locs[k,[2,1]] for k in f0_to_f1.keys()])\n",
    "src_all_xy = np.array(f0.neuron_locs[:,[2,1]])\n",
    "src_z = np.array(f0.neuron_locs[:,[0]])\n",
    "\n",
    "dst_matched = np.array([f1.neuron_locs[v,[2,1]] for v in f0_to_f1.values()])\n",
    "dst_all_xy = np.array(f0.neuron_locs[:,[2,1]])\n",
    "dst_z = np.array(f0.neuron_locs[:,[0]])"
   ]
  },
  {
   "cell_type": "code",
   "execution_count": null,
   "id": "b51b3b7d-69b5-4f06-ab3b-77c5d2e9d83e",
   "metadata": {},
   "outputs": [],
   "source": [
    "tform = PiecewiseAffineTransform()\n",
    "tform.estimate(src_matched, dst_matched)"
   ]
  },
  {
   "cell_type": "code",
   "execution_count": null,
   "id": "91af59b0-0b5d-42dd-a9d0-c1e4f77cc244",
   "metadata": {},
   "outputs": [],
   "source": [
    "transformed = tform.inverse(dst_all_xy)\n",
    "# src_transformed = tform.inverse(src)\n",
    "\n",
    "transformed = np.where(transformed==-1, np.nan, transformed)\n",
    "\n",
    "transformed = np.hstack([dst_z, transformed]) #[:, [0,2,1]]"
   ]
  },
  {
   "cell_type": "code",
   "execution_count": null,
   "id": "f5edb1ab-25a0-4b69-a7e8-388a4b993afb",
   "metadata": {},
   "outputs": [],
   "source": [
    "# Get locations of target neurons\n",
    "target_zxy = frames[pair[1]].neuron_locs\n",
    "target_zxy = target_zxy[:, [0,2,1]]\n",
    "\n",
    "affine_zxy = matches[pair].affine_pushed_locations\n",
    "affine_zxy = affine_zxy[:, [0,2,1]]\n",
    "\n",
    "# Split by \"has match\"\n",
    "f0_to_f1_matches = {n0: n1 for n0, n1, _ in matches[pair].final_matches}\n",
    "\n",
    "# F1 matches\n",
    "has_match_ind = set(f0_to_f1_matches.values())\n",
    "target_xyz_matched = [row for i, row in enumerate(target_zxy) if i in has_match_ind]\n",
    "target_xyz_unmatched = [row for i, row in enumerate(target_zxy) if i not in has_match_ind]\n",
    "\n",
    "# F0 matches\n",
    "has_match_ind = set(f0_to_f1_matches.keys())\n",
    "\n",
    "affine_xyz_matched = [row for i, row in enumerate(affine_zxy) if i in has_match_ind]\n",
    "affine_xyz_unmatched = [row for i, row in enumerate(affine_zxy) if i not in has_match_ind]"
   ]
  },
  {
   "cell_type": "code",
   "execution_count": null,
   "id": "d989f975-16d3-422d-91ed-e95fb58cebe9",
   "metadata": {},
   "outputs": [],
   "source": [
    "# Plot using napari\n",
    "v = napari.view_image(dat.red_data[pair[0]], ndisplay=3, name='f0_red')\n",
    "v.add_image(dat.red_data[pair[1]], name='f1_red')\n",
    "v.add_points(transformed, size=3, face_color='red', n_dimensional=True, name='piecewise_affine_transformed')\n",
    "v.add_points(affine_xyz_matched, size=3, face_color='green', symbol='x', n_dimensional=True, name='f0_affine_matched')\n",
    "# v.add_points(affine_xyz_unmatched, size=3, face_color='red', symbol='x', n_dimensional=True)\n",
    "v.add_points(target_xyz_matched, size=5, symbol='ring', face_color='blue', n_dimensional=True, name='f1_matched')\n",
    "v.add_points(target_xyz_unmatched, size=5, symbol='ring', face_color='red', n_dimensional=True, name='f1_unmatched')"
   ]
  },
  {
   "cell_type": "code",
   "execution_count": null,
   "id": "62c673ce-4959-4ce8-aa1d-c9d02f766e46",
   "metadata": {},
   "outputs": [],
   "source": []
  },
  {
   "cell_type": "code",
   "execution_count": null,
   "id": "f4171802-2a2f-4638-b7f5-bf16f06d82d8",
   "metadata": {},
   "outputs": [],
   "source": []
  },
  {
   "cell_type": "code",
   "execution_count": null,
   "id": "8b6e18db-9174-40dd-a403-cda79c052b7a",
   "metadata": {},
   "outputs": [],
   "source": []
  },
  {
   "cell_type": "code",
   "execution_count": null,
   "id": "3bcae7b3-512e-4d6f-8d56-6ffb8abb23a2",
   "metadata": {},
   "outputs": [],
   "source": []
  },
  {
   "cell_type": "markdown",
   "id": "5ff75a15-6f36-4e6e-abb2-89b12278d753",
   "metadata": {},
   "source": [
    "# Basic encoding tests: do matches change based on VGG z depth?"
   ]
  },
  {
   "cell_type": "code",
   "execution_count": 50,
   "id": "52ac1960-b347-439d-b5ed-ebba3dcee82e",
   "metadata": {},
   "outputs": [],
   "source": [
    "from DLC_for_WBFM.utils.feature_detection.class_frame_pair import calc_FramePair_like"
   ]
  },
  {
   "cell_type": "code",
   "execution_count": 47,
   "id": "030f9409-bfa2-4d4d-89fb-42360031f1b5",
   "metadata": {},
   "outputs": [
    {
     "name": "stdout",
     "output_type": "stream",
     "text": [
      "FramePair with 134/148 matches \n",
      "\n"
     ]
    }
   ],
   "source": [
    "pair = (0, 1)\n",
    "pair_obj = matches[pair]\n",
    "print(pair_obj)\n",
    "f0, f1 = frames[pair[0]], frames[pair[1]]\n",
    "# print(f0, f1)"
   ]
  },
  {
   "cell_type": "code",
   "execution_count": 132,
   "id": "7d767c0f-c7ee-4134-82e1-484a3c8c796a",
   "metadata": {},
   "outputs": [],
   "source": [
    "# Fix old style and add metadata\n",
    "pair_obj.frame0, pair_obj.frame1 = f0, f1\n",
    "\n",
    "pair_obj.add_affine_to_candidates=True\n",
    "pair_obj.add_gp_to_candidates=True\n",
    "\n",
    "pair_obj.min_confidence = 0.3"
   ]
  },
  {
   "cell_type": "code",
   "execution_count": 133,
   "id": "0ad079f7-4edb-4e15-aefc-6e0f85c314d3",
   "metadata": {},
   "outputs": [
    {
     "name": "stdout",
     "output_type": "stream",
     "text": [
      "Overwriting existing keypoints...\n"
     ]
    },
    {
     "data": {
      "application/vnd.jupyter.widget-view+json": {
       "model_id": "",
       "version_major": 2,
       "version_minor": 0
      },
      "text/plain": [
       "  0%|          | 0/148 [00:00<?, ?it/s]"
      ]
     },
     "metadata": {},
     "output_type": "display_data"
    },
    {
     "name": "stdout",
     "output_type": "stream",
     "text": [
      "Overwriting existing keypoints...\n"
     ]
    },
    {
     "data": {
      "application/vnd.jupyter.widget-view+json": {
       "model_id": "",
       "version_major": 2,
       "version_minor": 0
      },
      "text/plain": [
       "  0%|          | 0/151 [00:00<?, ?it/s]"
      ]
     },
     "metadata": {},
     "output_type": "display_data"
    }
   ],
   "source": [
    "f0_video_dat = dat.red_data[pair[0],...]\n",
    "f1_video_dat = dat.red_data[pair[1],...]\n",
    "\n",
    "# Redo encoding with no z depth\n",
    "f0.rebuild_keypoints()\n",
    "f0.encode_all_keypoints(f0_video_dat, z_depth=5)\n",
    "f1.rebuild_keypoints()\n",
    "f1.encode_all_keypoints(f1_video_dat, z_depth=5);\n",
    "# Note: do not need to change keypoint-neuron matching"
   ]
  },
  {
   "cell_type": "code",
   "execution_count": 134,
   "id": "97184704-74cf-4d30-a3f6-4d31c25c5d26",
   "metadata": {},
   "outputs": [
    {
     "name": "stdout",
     "output_type": "stream",
     "text": [
      "FramePair with 120/148 matches \n",
      "\n"
     ]
    },
    {
     "name": "stderr",
     "output_type": "stream",
     "text": [
      "C:\\Users\\charles.fieseler\\Anaconda3\\envs\\segmentation\\lib\\site-packages\\sklearn\\gaussian_process\\kernels.py:409: ConvergenceWarning: The optimal value found for dimension 0 of parameter k1__sigma_0 is close to the specified lower bound 0.001. Decreasing the bound and calling fit again may find a better value.\n",
      "  ConvergenceWarning)\n",
      "C:\\Users\\charles.fieseler\\Anaconda3\\envs\\segmentation\\lib\\site-packages\\sklearn\\gaussian_process\\kernels.py:409: ConvergenceWarning: The optimal value found for dimension 0 of parameter k2__length_scale is close to the specified lower bound 1e-08. Decreasing the bound and calling fit again may find a better value.\n",
      "  ConvergenceWarning)\n"
     ]
    }
   ],
   "source": [
    "# Redo matching (new pair object)\n",
    "new_pair5 = calc_FramePair_like(pair_obj, f0, f1)\n",
    "\n",
    "# Compare\n",
    "print(new_pair5)"
   ]
  },
  {
   "cell_type": "code",
   "execution_count": 135,
   "id": "228e4aa5-92e3-4add-a405-736e59b6cdb2",
   "metadata": {
    "tags": []
   },
   "outputs": [
    {
     "name": "stdout",
     "output_type": "stream",
     "text": [
      "Overwriting existing keypoints...\n"
     ]
    },
    {
     "data": {
      "application/vnd.jupyter.widget-view+json": {
       "model_id": "",
       "version_major": 2,
       "version_minor": 0
      },
      "text/plain": [
       "  0%|          | 0/148 [00:00<?, ?it/s]"
      ]
     },
     "metadata": {},
     "output_type": "display_data"
    },
    {
     "name": "stdout",
     "output_type": "stream",
     "text": [
      "Overwriting existing keypoints...\n"
     ]
    },
    {
     "data": {
      "application/vnd.jupyter.widget-view+json": {
       "model_id": "",
       "version_major": 2,
       "version_minor": 0
      },
      "text/plain": [
       "  0%|          | 0/151 [00:00<?, ?it/s]"
      ]
     },
     "metadata": {},
     "output_type": "display_data"
    }
   ],
   "source": [
    "f0_video_dat = dat.red_data[pair[0],...]\n",
    "f1_video_dat = dat.red_data[pair[1],...]\n",
    "\n",
    "# Redo encoding with no z depth\n",
    "f0.rebuild_keypoints()\n",
    "f0.encode_all_keypoints(f0_video_dat, z_depth=0)\n",
    "f1.rebuild_keypoints()\n",
    "f1.encode_all_keypoints(f1_video_dat, z_depth=0);"
   ]
  },
  {
   "cell_type": "code",
   "execution_count": 136,
   "id": "78925580-e9d0-458d-8467-7104508f922a",
   "metadata": {},
   "outputs": [
    {
     "name": "stderr",
     "output_type": "stream",
     "text": [
      "C:\\Users\\charles.fieseler\\Anaconda3\\envs\\segmentation\\lib\\site-packages\\sklearn\\gaussian_process\\kernels.py:409: ConvergenceWarning: The optimal value found for dimension 0 of parameter k1__sigma_0 is close to the specified lower bound 0.001. Decreasing the bound and calling fit again may find a better value.\n",
      "  ConvergenceWarning)\n"
     ]
    },
    {
     "name": "stdout",
     "output_type": "stream",
     "text": [
      "FramePair with 127/148 matches \n",
      "\n"
     ]
    }
   ],
   "source": [
    "# Redo matching (new pair object)\n",
    "new_pair0 = calc_FramePair_like(pair_obj, f0, f1)\n",
    "\n",
    "# Compare\n",
    "print(new_pair0)"
   ]
  },
  {
   "cell_type": "code",
   "execution_count": 137,
   "id": "17930c2d-81d6-43a0-b4d2-cb66570c5a9a",
   "metadata": {},
   "outputs": [],
   "source": [
    "f0_map_0 = new_pair0.get_f0_to_f1_dict()\n",
    "f0_map_5 = new_pair5.get_f0_to_f1_dict()\n",
    "\n",
    "f0_conf_0 = new_pair0.get_pair_to_conf_dict()\n",
    "f0_conf_5 = new_pair5.get_pair_to_conf_dict()"
   ]
  },
  {
   "cell_type": "code",
   "execution_count": 138,
   "id": "21dc326d-4313-4e71-9a05-2fb09491aec0",
   "metadata": {
    "collapsed": true,
    "jupyter": {
     "outputs_hidden": true
    },
    "tags": []
   },
   "outputs": [
    {
     "name": "stdout",
     "output_type": "stream",
     "text": [
      "0 : 68 None\n",
      "conf:  0.5802337759857685 None\n",
      "7 : 130 None\n",
      "conf:  0.5486832314830761 None\n",
      "13 : 138 None\n",
      "conf:  0.5371344019298478 None\n",
      "39 : 133 83\n",
      "conf:  0.8262777632713082 0.6598924939585387\n",
      "53 : None 3\n",
      "conf:  None 0.8526980230820976\n",
      "73 : 35 None\n",
      "conf:  0.980316170613662 None\n",
      "89 : 104 141\n",
      "conf:  0.83746353324169 0.5308542620316973\n",
      "92 : 123 147\n",
      "conf:  0.9653892651475615 0.8826619719723844\n",
      "96 : 26 None\n",
      "conf:  0.5436642479928631 None\n",
      "119 : None 72\n",
      "conf:  None 0.33635003150777815\n",
      "134 : 145 None\n",
      "conf:  0.8160640144787115 None\n",
      "138 : 106 None\n",
      "conf:  0.4602121839039434 None\n",
      "139 : None 150\n",
      "conf:  None 0.6968154628490295\n",
      "140 : 31 None\n",
      "conf:  0.4584115341724631 None\n",
      "144 : 119 None\n",
      "conf:  0.7999233563587401 None\n",
      "145 : 3 None\n",
      "conf:  0.5017519312086033 None\n",
      "Number of mismatches 16\n"
     ]
    }
   ],
   "source": [
    "num_mismatches = 0\n",
    "all_keys = set(f0_map_0.keys())\n",
    "all_keys.update(tuple(f0_map_5.keys()))\n",
    "for i in all_keys:\n",
    "    m0, m5 = f0_map_0.get(i,None), f0_map_5.get(i,None)\n",
    "    if m0 != m5:\n",
    "        print(i, ':', m0, m5)\n",
    "        print('conf: ', f0_conf_0.get((i, m0), None), f0_conf_5.get((i, m5), None))\n",
    "        num_mismatches += 1\n",
    "print(f\"Number of mismatches {num_mismatches}\")"
   ]
  },
  {
   "cell_type": "markdown",
   "id": "0fa7530c-480b-4f39-92cc-c1b9a1b11ba9",
   "metadata": {},
   "source": [
    "# Prep for manual correction"
   ]
  },
  {
   "cell_type": "code",
   "execution_count": 150,
   "id": "d23147ff-05d2-4d2c-9355-f46649db57d5",
   "metadata": {},
   "outputs": [],
   "source": [
    "target_dir = '.'\n",
    "pair_obj.save_matches_as_excel(target_dir)"
   ]
  },
  {
   "cell_type": "code",
   "execution_count": 151,
   "id": "10d13612-d204-4d2d-8adf-92e55460023c",
   "metadata": {},
   "outputs": [],
   "source": [
    "import pandas as pd\n",
    "fname = r\"C:\\Users\\charles.fieseler\\Documents\\Current_work\\DLC_for_WBFM\\DLC_for_WBFM\\alternative_ideas\\matches_f0_f1.xlsx\"\n",
    "df = pd.read_excel(fname)"
   ]
  },
  {
   "cell_type": "code",
   "execution_count": 179,
   "id": "f3c5ab5a-5334-4706-b6c0-7965639a6b81",
   "metadata": {},
   "outputs": [],
   "source": [
    "# df"
   ]
  },
  {
   "cell_type": "code",
   "execution_count": null,
   "id": "9d1185d6-ac14-47f8-8bfe-9dd41ff48924",
   "metadata": {},
   "outputs": [],
   "source": []
  },
  {
   "cell_type": "markdown",
   "id": "f8ae8bc5-e850-4967-afe3-5872a5e21163",
   "metadata": {},
   "source": [
    "# Check methods using manual ground truth"
   ]
  },
  {
   "cell_type": "code",
   "execution_count": null,
   "id": "bb30c8fc-bac3-4865-9761-8a14eb08c60c",
   "metadata": {},
   "outputs": [],
   "source": [
    "from DLC_for_WBFM.utils.performance.comparing_ground_truth import *"
   ]
  },
  {
   "cell_type": "code",
   "execution_count": 180,
   "id": "ca2c75f6-745d-4e53-9ab1-36c3d01b3e6a",
   "metadata": {},
   "outputs": [],
   "source": [
    "fname = r\"C:\\dlc_stacks\\Charlie-worm3-new-seg\\2-training_data\\manual_tracking\\matches_f0_f1.xlsx\"\n",
    "df_gt = pd.read_excel(fname)"
   ]
  },
  {
   "cell_type": "code",
   "execution_count": 182,
   "id": "ec16ad50-8f78-49e2-92a9-92778dcda16d",
   "metadata": {},
   "outputs": [],
   "source": [
    "gt_f0_to_f1 = {n0: n1 for n0, n1 in zip(df_gt['Neuron_in_f0'], df_gt['Neuron_in_f1'])}"
   ]
  },
  {
   "cell_type": "code",
   "execution_count": 186,
   "id": "f3f6f508-aa0d-42c7-9a35-45c6774fe169",
   "metadata": {
    "tags": []
   },
   "outputs": [],
   "source": []
  },
  {
   "cell_type": "code",
   "execution_count": 188,
   "id": "ab9f5288-e79a-48f2-a2e2-2ee018747689",
   "metadata": {},
   "outputs": [
    {
     "name": "stdout",
     "output_type": "stream",
     "text": [
      "tp: 113, mismatch: 14, missing: 18\n"
     ]
    }
   ],
   "source": [
    "tp_0 = calc_true_positive(gt_f0_to_f1, f0_map_0)\n",
    "mismatch_0 = calc_mismatches(gt_f0_to_f1, f0_map_0)\n",
    "missing_0 = calc_missing_matches(gt_f0_to_f1, f0_map_0)\n",
    "\n",
    "print(f'tp: {tp_0}, mismatch: {mismatch_0}, missing: {missing_0}')"
   ]
  },
  {
   "cell_type": "code",
   "execution_count": 189,
   "id": "7f5ca6a1-9e11-4174-bff0-fd815b4bcfa4",
   "metadata": {},
   "outputs": [
    {
     "name": "stdout",
     "output_type": "stream",
     "text": [
      "tp: 118, mismatch: 2, missing: 23\n"
     ]
    }
   ],
   "source": [
    "tp_5 = calc_true_positive(gt_f0_to_f1, f0_map_5)\n",
    "mismatch_5 = calc_mismatches(gt_f0_to_f1, f0_map_5)\n",
    "missing_5 = calc_missing_matches(gt_f0_to_f1, f0_map_5)\n",
    "\n",
    "print(f'tp: {tp_5}, mismatch: {mismatch_5}, missing: {missing_5}')"
   ]
  },
  {
   "cell_type": "code",
   "execution_count": null,
   "id": "1bd4e795-1336-4af0-b89d-6d73f2afac62",
   "metadata": {},
   "outputs": [],
   "source": []
  },
  {
   "cell_type": "markdown",
   "id": "3c80bcf4-8026-4bdf-83f1-a0720894492c",
   "metadata": {},
   "source": [
    "# Scratch: sanity checks for the frames"
   ]
  },
  {
   "cell_type": "code",
   "execution_count": null,
   "id": "b1ad216e-7a66-4088-bb24-fb0833d25c43",
   "metadata": {},
   "outputs": [],
   "source": [
    "fname = r\"C:\\dlc_stacks\\Test_project\\2-training_data\\all_tracklets.h5\"\n",
    "import pandas as pd\n",
    "\n",
    "df = pd.read_hdf(fname)"
   ]
  },
  {
   "cell_type": "code",
   "execution_count": null,
   "id": "9c1562aa-4f94-4409-b096-b801b6485ff6",
   "metadata": {},
   "outputs": [],
   "source": [
    "df"
   ]
  },
  {
   "cell_type": "code",
   "execution_count": null,
   "id": "ff625f0f-b2f4-4d9e-a263-f392ac1d7706",
   "metadata": {},
   "outputs": [],
   "source": [
    "df.diff()[1:]\n"
   ]
  },
  {
   "cell_type": "code",
   "execution_count": null,
   "id": "ef729d7d-533c-4a13-bfcb-fb94610436b6",
   "metadata": {},
   "outputs": [],
   "source": [
    "all_neurons = list(df.columns.levels[0])\n",
    "for n in all_neurons:\n",
    "    zd = df.diff()[1:][n]['z']\n",
    "    if all(abs(zd) > 2):\n",
    "        print(n, list(zd))"
   ]
  },
  {
   "cell_type": "code",
   "execution_count": null,
   "id": "5ec681db-8dc6-4e21-9562-46468edc68e2",
   "metadata": {},
   "outputs": [],
   "source": [
    "np.quantile(np.arange(10), 0.9)"
   ]
  },
  {
   "cell_type": "code",
   "execution_count": 79,
   "id": "64542362-f76c-4702-9a85-e23068395918",
   "metadata": {},
   "outputs": [
    {
     "data": {
      "text/plain": [
       "array([5])"
      ]
     },
     "execution_count": 79,
     "metadata": {},
     "output_type": "execute_result"
    }
   ],
   "source": [
    "np.arange(5,6)"
   ]
  },
  {
   "cell_type": "code",
   "execution_count": 155,
   "id": "aba8ba08-5c4d-43e7-bcea-cf3ca8730688",
   "metadata": {},
   "outputs": [],
   "source": [
    "# fname = r\"C:\\dlc_stacks\\Charlie-worm3-new-seg\\4-traces\\green_traces.h5\"\n",
    "fname = r\"C:\\dlc_stacks\\Charlie-worm3-new-seg\\2-training_data\\all_tracklets.h5\"\n",
    "df = pd.read_hdf(fname)"
   ]
  },
  {
   "cell_type": "code",
   "execution_count": 156,
   "id": "e38e6f93-f0fc-4c10-9b08-baebc375e617",
   "metadata": {},
   "outputs": [
    {
     "data": {
      "text/html": [
       "<div>\n",
       "<style scoped>\n",
       "    .dataframe tbody tr th:only-of-type {\n",
       "        vertical-align: middle;\n",
       "    }\n",
       "\n",
       "    .dataframe tbody tr th {\n",
       "        vertical-align: top;\n",
       "    }\n",
       "\n",
       "    .dataframe thead tr th {\n",
       "        text-align: left;\n",
       "    }\n",
       "</style>\n",
       "<table border=\"1\" class=\"dataframe\">\n",
       "  <thead>\n",
       "    <tr>\n",
       "      <th>bodyparts</th>\n",
       "      <th colspan=\"4\" halign=\"left\">neuron1</th>\n",
       "      <th colspan=\"4\" halign=\"left\">neuron3</th>\n",
       "      <th colspan=\"2\" halign=\"left\">neuron4</th>\n",
       "      <th>...</th>\n",
       "      <th colspan=\"2\" halign=\"left\">neuron14933</th>\n",
       "      <th colspan=\"4\" halign=\"left\">neuron14942</th>\n",
       "      <th colspan=\"4\" halign=\"left\">neuron14947</th>\n",
       "    </tr>\n",
       "    <tr>\n",
       "      <th>coords</th>\n",
       "      <th>z</th>\n",
       "      <th>x</th>\n",
       "      <th>y</th>\n",
       "      <th>likelihood</th>\n",
       "      <th>z</th>\n",
       "      <th>x</th>\n",
       "      <th>y</th>\n",
       "      <th>likelihood</th>\n",
       "      <th>z</th>\n",
       "      <th>x</th>\n",
       "      <th>...</th>\n",
       "      <th>y</th>\n",
       "      <th>likelihood</th>\n",
       "      <th>z</th>\n",
       "      <th>x</th>\n",
       "      <th>y</th>\n",
       "      <th>likelihood</th>\n",
       "      <th>z</th>\n",
       "      <th>x</th>\n",
       "      <th>y</th>\n",
       "      <th>likelihood</th>\n",
       "    </tr>\n",
       "  </thead>\n",
       "  <tbody>\n",
       "    <tr>\n",
       "      <th>0</th>\n",
       "      <td>8.446753</td>\n",
       "      <td>498.350649</td>\n",
       "      <td>275.957143</td>\n",
       "      <td>1.0</td>\n",
       "      <td>22.439336</td>\n",
       "      <td>314.361430</td>\n",
       "      <td>285.966794</td>\n",
       "      <td>1.0</td>\n",
       "      <td>18.452477</td>\n",
       "      <td>238.413655</td>\n",
       "      <td>...</td>\n",
       "      <td>NaN</td>\n",
       "      <td>NaN</td>\n",
       "      <td>NaN</td>\n",
       "      <td>NaN</td>\n",
       "      <td>NaN</td>\n",
       "      <td>NaN</td>\n",
       "      <td>NaN</td>\n",
       "      <td>NaN</td>\n",
       "      <td>NaN</td>\n",
       "      <td>NaN</td>\n",
       "    </tr>\n",
       "    <tr>\n",
       "      <th>1</th>\n",
       "      <td>8.444737</td>\n",
       "      <td>484.360526</td>\n",
       "      <td>289.947368</td>\n",
       "      <td>1.0</td>\n",
       "      <td>22.398551</td>\n",
       "      <td>300.369565</td>\n",
       "      <td>238.050725</td>\n",
       "      <td>1.0</td>\n",
       "      <td>18.310245</td>\n",
       "      <td>220.197691</td>\n",
       "      <td>...</td>\n",
       "      <td>NaN</td>\n",
       "      <td>NaN</td>\n",
       "      <td>NaN</td>\n",
       "      <td>NaN</td>\n",
       "      <td>NaN</td>\n",
       "      <td>NaN</td>\n",
       "      <td>NaN</td>\n",
       "      <td>NaN</td>\n",
       "      <td>NaN</td>\n",
       "      <td>NaN</td>\n",
       "    </tr>\n",
       "    <tr>\n",
       "      <th>2</th>\n",
       "      <td>6.431944</td>\n",
       "      <td>480.381944</td>\n",
       "      <td>283.933333</td>\n",
       "      <td>1.0</td>\n",
       "      <td>24.373353</td>\n",
       "      <td>306.052709</td>\n",
       "      <td>235.695461</td>\n",
       "      <td>1.0</td>\n",
       "      <td>18.430311</td>\n",
       "      <td>234.339648</td>\n",
       "      <td>...</td>\n",
       "      <td>NaN</td>\n",
       "      <td>NaN</td>\n",
       "      <td>NaN</td>\n",
       "      <td>NaN</td>\n",
       "      <td>NaN</td>\n",
       "      <td>NaN</td>\n",
       "      <td>NaN</td>\n",
       "      <td>NaN</td>\n",
       "      <td>NaN</td>\n",
       "      <td>NaN</td>\n",
       "    </tr>\n",
       "    <tr>\n",
       "      <th>3</th>\n",
       "      <td>8.410738</td>\n",
       "      <td>472.357047</td>\n",
       "      <td>267.971812</td>\n",
       "      <td>1.0</td>\n",
       "      <td>24.356125</td>\n",
       "      <td>287.955840</td>\n",
       "      <td>231.786325</td>\n",
       "      <td>1.0</td>\n",
       "      <td>16.334828</td>\n",
       "      <td>206.173393</td>\n",
       "      <td>...</td>\n",
       "      <td>NaN</td>\n",
       "      <td>NaN</td>\n",
       "      <td>NaN</td>\n",
       "      <td>NaN</td>\n",
       "      <td>NaN</td>\n",
       "      <td>NaN</td>\n",
       "      <td>NaN</td>\n",
       "      <td>NaN</td>\n",
       "      <td>NaN</td>\n",
       "      <td>NaN</td>\n",
       "    </tr>\n",
       "    <tr>\n",
       "      <th>4</th>\n",
       "      <td>8.450135</td>\n",
       "      <td>486.397574</td>\n",
       "      <td>247.900270</td>\n",
       "      <td>1.0</td>\n",
       "      <td>22.410832</td>\n",
       "      <td>296.363276</td>\n",
       "      <td>265.988111</td>\n",
       "      <td>1.0</td>\n",
       "      <td>18.415531</td>\n",
       "      <td>212.557221</td>\n",
       "      <td>...</td>\n",
       "      <td>NaN</td>\n",
       "      <td>NaN</td>\n",
       "      <td>NaN</td>\n",
       "      <td>NaN</td>\n",
       "      <td>NaN</td>\n",
       "      <td>NaN</td>\n",
       "      <td>NaN</td>\n",
       "      <td>NaN</td>\n",
       "      <td>NaN</td>\n",
       "      <td>NaN</td>\n",
       "    </tr>\n",
       "    <tr>\n",
       "      <th>...</th>\n",
       "      <td>...</td>\n",
       "      <td>...</td>\n",
       "      <td>...</td>\n",
       "      <td>...</td>\n",
       "      <td>...</td>\n",
       "      <td>...</td>\n",
       "      <td>...</td>\n",
       "      <td>...</td>\n",
       "      <td>...</td>\n",
       "      <td>...</td>\n",
       "      <td>...</td>\n",
       "      <td>...</td>\n",
       "      <td>...</td>\n",
       "      <td>...</td>\n",
       "      <td>...</td>\n",
       "      <td>...</td>\n",
       "      <td>...</td>\n",
       "      <td>...</td>\n",
       "      <td>...</td>\n",
       "      <td>...</td>\n",
       "      <td>...</td>\n",
       "    </tr>\n",
       "    <tr>\n",
       "      <th>1493</th>\n",
       "      <td>NaN</td>\n",
       "      <td>NaN</td>\n",
       "      <td>NaN</td>\n",
       "      <td>NaN</td>\n",
       "      <td>NaN</td>\n",
       "      <td>NaN</td>\n",
       "      <td>NaN</td>\n",
       "      <td>NaN</td>\n",
       "      <td>NaN</td>\n",
       "      <td>NaN</td>\n",
       "      <td>...</td>\n",
       "      <td>194.364000</td>\n",
       "      <td>1.0</td>\n",
       "      <td>16.865350</td>\n",
       "      <td>430.815081</td>\n",
       "      <td>228.280072</td>\n",
       "      <td>1.0</td>\n",
       "      <td>20.689394</td>\n",
       "      <td>430.340909</td>\n",
       "      <td>279.860606</td>\n",
       "      <td>1.0</td>\n",
       "    </tr>\n",
       "    <tr>\n",
       "      <th>1494</th>\n",
       "      <td>NaN</td>\n",
       "      <td>NaN</td>\n",
       "      <td>NaN</td>\n",
       "      <td>NaN</td>\n",
       "      <td>NaN</td>\n",
       "      <td>NaN</td>\n",
       "      <td>NaN</td>\n",
       "      <td>NaN</td>\n",
       "      <td>NaN</td>\n",
       "      <td>NaN</td>\n",
       "      <td>...</td>\n",
       "      <td>218.574000</td>\n",
       "      <td>1.0</td>\n",
       "      <td>18.389344</td>\n",
       "      <td>424.262295</td>\n",
       "      <td>237.949454</td>\n",
       "      <td>1.0</td>\n",
       "      <td>20.585859</td>\n",
       "      <td>446.311688</td>\n",
       "      <td>281.793651</td>\n",
       "      <td>1.0</td>\n",
       "    </tr>\n",
       "    <tr>\n",
       "      <th>1495</th>\n",
       "      <td>NaN</td>\n",
       "      <td>NaN</td>\n",
       "      <td>NaN</td>\n",
       "      <td>NaN</td>\n",
       "      <td>NaN</td>\n",
       "      <td>NaN</td>\n",
       "      <td>NaN</td>\n",
       "      <td>NaN</td>\n",
       "      <td>NaN</td>\n",
       "      <td>NaN</td>\n",
       "      <td>...</td>\n",
       "      <td>248.150685</td>\n",
       "      <td>1.0</td>\n",
       "      <td>18.568794</td>\n",
       "      <td>388.365957</td>\n",
       "      <td>257.853901</td>\n",
       "      <td>1.0</td>\n",
       "      <td>20.540382</td>\n",
       "      <td>428.086637</td>\n",
       "      <td>289.975037</td>\n",
       "      <td>1.0</td>\n",
       "    </tr>\n",
       "    <tr>\n",
       "      <th>1496</th>\n",
       "      <td>NaN</td>\n",
       "      <td>NaN</td>\n",
       "      <td>NaN</td>\n",
       "      <td>NaN</td>\n",
       "      <td>NaN</td>\n",
       "      <td>NaN</td>\n",
       "      <td>NaN</td>\n",
       "      <td>NaN</td>\n",
       "      <td>NaN</td>\n",
       "      <td>NaN</td>\n",
       "      <td>...</td>\n",
       "      <td>261.994513</td>\n",
       "      <td>1.0</td>\n",
       "      <td>16.970990</td>\n",
       "      <td>390.798635</td>\n",
       "      <td>265.643345</td>\n",
       "      <td>1.0</td>\n",
       "      <td>20.395722</td>\n",
       "      <td>436.323529</td>\n",
       "      <td>285.927807</td>\n",
       "      <td>1.0</td>\n",
       "    </tr>\n",
       "    <tr>\n",
       "      <th>1497</th>\n",
       "      <td>NaN</td>\n",
       "      <td>NaN</td>\n",
       "      <td>NaN</td>\n",
       "      <td>NaN</td>\n",
       "      <td>NaN</td>\n",
       "      <td>NaN</td>\n",
       "      <td>NaN</td>\n",
       "      <td>NaN</td>\n",
       "      <td>NaN</td>\n",
       "      <td>NaN</td>\n",
       "      <td>...</td>\n",
       "      <td>276.023129</td>\n",
       "      <td>1.0</td>\n",
       "      <td>16.878354</td>\n",
       "      <td>394.506261</td>\n",
       "      <td>273.343470</td>\n",
       "      <td>1.0</td>\n",
       "      <td>18.560519</td>\n",
       "      <td>446.168588</td>\n",
       "      <td>285.969741</td>\n",
       "      <td>1.0</td>\n",
       "    </tr>\n",
       "  </tbody>\n",
       "</table>\n",
       "<p>1498 rows × 22200 columns</p>\n",
       "</div>"
      ],
      "text/plain": [
       "bodyparts   neuron1                                       neuron3              \\\n",
       "coords            z           x           y likelihood          z           x   \n",
       "0          8.446753  498.350649  275.957143        1.0  22.439336  314.361430   \n",
       "1          8.444737  484.360526  289.947368        1.0  22.398551  300.369565   \n",
       "2          6.431944  480.381944  283.933333        1.0  24.373353  306.052709   \n",
       "3          8.410738  472.357047  267.971812        1.0  24.356125  287.955840   \n",
       "4          8.450135  486.397574  247.900270        1.0  22.410832  296.363276   \n",
       "...             ...         ...         ...        ...        ...         ...   \n",
       "1493            NaN         NaN         NaN        NaN        NaN         NaN   \n",
       "1494            NaN         NaN         NaN        NaN        NaN         NaN   \n",
       "1495            NaN         NaN         NaN        NaN        NaN         NaN   \n",
       "1496            NaN         NaN         NaN        NaN        NaN         NaN   \n",
       "1497            NaN         NaN         NaN        NaN        NaN         NaN   \n",
       "\n",
       "bodyparts                           neuron4              ... neuron14933  \\\n",
       "coords              y likelihood          z           x  ...           y   \n",
       "0          285.966794        1.0  18.452477  238.413655  ...         NaN   \n",
       "1          238.050725        1.0  18.310245  220.197691  ...         NaN   \n",
       "2          235.695461        1.0  18.430311  234.339648  ...         NaN   \n",
       "3          231.786325        1.0  16.334828  206.173393  ...         NaN   \n",
       "4          265.988111        1.0  18.415531  212.557221  ...         NaN   \n",
       "...               ...        ...        ...         ...  ...         ...   \n",
       "1493              NaN        NaN        NaN         NaN  ...  194.364000   \n",
       "1494              NaN        NaN        NaN         NaN  ...  218.574000   \n",
       "1495              NaN        NaN        NaN         NaN  ...  248.150685   \n",
       "1496              NaN        NaN        NaN         NaN  ...  261.994513   \n",
       "1497              NaN        NaN        NaN         NaN  ...  276.023129   \n",
       "\n",
       "bodyparts            neuron14942                                     \\\n",
       "coords    likelihood           z           x           y likelihood   \n",
       "0                NaN         NaN         NaN         NaN        NaN   \n",
       "1                NaN         NaN         NaN         NaN        NaN   \n",
       "2                NaN         NaN         NaN         NaN        NaN   \n",
       "3                NaN         NaN         NaN         NaN        NaN   \n",
       "4                NaN         NaN         NaN         NaN        NaN   \n",
       "...              ...         ...         ...         ...        ...   \n",
       "1493             1.0   16.865350  430.815081  228.280072        1.0   \n",
       "1494             1.0   18.389344  424.262295  237.949454        1.0   \n",
       "1495             1.0   18.568794  388.365957  257.853901        1.0   \n",
       "1496             1.0   16.970990  390.798635  265.643345        1.0   \n",
       "1497             1.0   16.878354  394.506261  273.343470        1.0   \n",
       "\n",
       "bodyparts neuron14947                                     \n",
       "coords              z           x           y likelihood  \n",
       "0                 NaN         NaN         NaN        NaN  \n",
       "1                 NaN         NaN         NaN        NaN  \n",
       "2                 NaN         NaN         NaN        NaN  \n",
       "3                 NaN         NaN         NaN        NaN  \n",
       "4                 NaN         NaN         NaN        NaN  \n",
       "...               ...         ...         ...        ...  \n",
       "1493        20.689394  430.340909  279.860606        1.0  \n",
       "1494        20.585859  446.311688  281.793651        1.0  \n",
       "1495        20.540382  428.086637  289.975037        1.0  \n",
       "1496        20.395722  436.323529  285.927807        1.0  \n",
       "1497        18.560519  446.168588  285.969741        1.0  \n",
       "\n",
       "[1498 rows x 22200 columns]"
      ]
     },
     "execution_count": 156,
     "metadata": {},
     "output_type": "execute_result"
    }
   ],
   "source": [
    "df\n"
   ]
  },
  {
   "cell_type": "code",
   "execution_count": 164,
   "id": "2cc57352-59d1-4eb8-bffe-62b51b560cee",
   "metadata": {},
   "outputs": [],
   "source": [
    "fname = r\"C:\\dlc_stacks\\Charlie-worm3-new-seg\\2-training_data\\raw\\match_dat.pickle\"\n",
    "import pickle\n",
    "with open(fname, 'rb') as f:\n",
    "    matches = pickle.load(f)"
   ]
  },
  {
   "cell_type": "code",
   "execution_count": 165,
   "id": "b6bf8ca2-15d8-4d8c-b491-e9c7447c62c1",
   "metadata": {
    "collapsed": true,
    "jupyter": {
     "outputs_hidden": true
    },
    "tags": []
   },
   "outputs": [
    {
     "data": {
      "text/plain": [
       "[(0, 132, 0.19394127314555554),\n",
       " (1, 13, 0.8909203601726373),\n",
       " (2, 21, 0.6891357463350856),\n",
       " (3, 60, 0.7933977349967598),\n",
       " (4, 135, 0.6513890239764673),\n",
       " (5, 15, 0.8782441680213988),\n",
       " (6, 63, 0.5489565919109868),\n",
       " (7, 130, 0.18145020257382444),\n",
       " (9, 57, 0.5326748136395983),\n",
       " (10, 16, 0.5756298461358522),\n",
       " (11, 52, 0.9507971331859374),\n",
       " (12, 69, 0.8932474953010683),\n",
       " (13, 138, 0.17542194947816742),\n",
       " (14, 7, 0.8866151172334347),\n",
       " (15, 115, 0.5482619015814976),\n",
       " (16, 42, 0.8694483281384128),\n",
       " (17, 1, 0.8828029321421539),\n",
       " (18, 4, 0.9504420227414255),\n",
       " (19, 0, 0.6024151438447899),\n",
       " (20, 5, 0.6391916308619207),\n",
       " (21, 96, 0.8768781131841831),\n",
       " (22, 36, 0.7434910172759591),\n",
       " (23, 12, 0.5947882001962271),\n",
       " (24, 30, 0.479254314453236),\n",
       " (25, 58, 0.8779022716123891),\n",
       " (26, 6, 0.899642420290553),\n",
       " (27, 51, 0.6878049108466145),\n",
       " (28, 23, 0.9101107094656156),\n",
       " (29, 22, 0.9786965174455088),\n",
       " (30, 53, 0.5023898674371623),\n",
       " (31, 54, 0.7715761425091863),\n",
       " (32, 17, 0.912707603924168),\n",
       " (33, 33, 0.6603785996993792),\n",
       " (34, 10, 0.7339697189725527),\n",
       " (35, 39, 0.938426827553473),\n",
       " (36, 32, 0.8384307306459258),\n",
       " (37, 118, 0.8772282246256379),\n",
       " (38, 46, 0.8558194512405312),\n",
       " (39, 83, 0.6598926960984359),\n",
       " (40, 19, 0.788266765564116),\n",
       " (41, 20, 0.9646179888522719),\n",
       " (42, 90, 0.4409887071286841),\n",
       " (43, 62, 0.8919594221094531),\n",
       " (44, 80, 0.6142385716312506),\n",
       " (45, 9, 0.7571782767231967),\n",
       " (46, 29, 0.818124682539253),\n",
       " (47, 49, 0.6933080584731204),\n",
       " (48, 45, 0.6159300728400906),\n",
       " (49, 85, 0.9025801224033574),\n",
       " (50, 44, 0.877090836866673),\n",
       " (51, 24, 0.6294443218366783),\n",
       " (52, 27, 0.8917656109243878),\n",
       " (53, 3, 0.8526980255130897),\n",
       " (54, 55, 0.678850472118972),\n",
       " (55, 40, 0.949386360046487),\n",
       " (56, 50, 0.8587126570815384),\n",
       " (57, 94, 0.6202754041500427),\n",
       " (58, 38, 0.8701641672687603),\n",
       " (59, 67, 0.4241769886056414),\n",
       " (60, 143, 0.8544725501768524),\n",
       " (62, 14, 0.7553404796319244),\n",
       " (63, 37, 0.9096507576155131),\n",
       " (64, 8, 0.6539685522149312),\n",
       " (65, 28, 0.08590809330511022),\n",
       " (66, 34, 0.7507562923951147),\n",
       " (67, 75, 0.9339046862723117),\n",
       " (68, 87, 0.7595538465765792),\n",
       " (69, 18, 0.9760376067390363),\n",
       " (70, 48, 0.8917630633775775),\n",
       " (71, 61, 0.8694614915001259),\n",
       " (73, 35, 0.22606166886717827),\n",
       " (75, 95, 0.8951512194199266),\n",
       " (76, 105, 0.9569364543916715),\n",
       " (77, 41, 0.5548556014937326),\n",
       " (78, 89, 0.8414639510686457),\n",
       " (80, 97, 0.9613889384864922),\n",
       " (82, 126, 0.5093426626351796),\n",
       " (83, 73, 0.9763097015340141),\n",
       " (84, 88, 0.9436916421802184),\n",
       " (85, 140, 0.9617956764699974),\n",
       " (88, 70, 0.7592899958777798),\n",
       " (89, 141, 0.5308542887994817),\n",
       " (90, 117, 0.9108098624952821),\n",
       " (91, 84, 0.7305640075115148),\n",
       " (92, 147, 0.882661972045409),\n",
       " (93, 2, 0.6580976856452723),\n",
       " (94, 81, 0.583189813133931),\n",
       " (95, 144, 0.8524926555299273),\n",
       " (97, 56, 0.9248514744510783),\n",
       " (98, 43, 0.8792127183484805),\n",
       " (99, 59, 0.6821910862586353),\n",
       " (100, 114, 0.7853713367132817),\n",
       " (101, 116, 0.775056235169405),\n",
       " (102, 79, 0.6945550636221768),\n",
       " (103, 71, 0.8483867180799212),\n",
       " (104, 98, 0.9226997485917329),\n",
       " (105, 146, 0.9634670043099012),\n",
       " (106, 65, 0.6120643642039024),\n",
       " (107, 111, 0.9526845579234211),\n",
       " (108, 47, 0.06833514735122477),\n",
       " (109, 129, 0.9787874050907025),\n",
       " (110, 124, 0.9616970531749665),\n",
       " (111, 93, 0.49836217345651607),\n",
       " (112, 99, 0.0797458694337008),\n",
       " (113, 11, 0.8870392813141654),\n",
       " (114, 77, 0.8992314213623842),\n",
       " (115, 101, 0.9658207992973707),\n",
       " (116, 139, 0.5831779872154278),\n",
       " (117, 127, 0.6532086513905657),\n",
       " (118, 121, 0.7689095547840774),\n",
       " (119, 72, 0.3363500337283297),\n",
       " (120, 112, 0.891103863291059),\n",
       " (121, 113, 0.7467396140551263),\n",
       " (122, 82, 0.42625925091212113),\n",
       " (123, 109, 0.8948417157060027),\n",
       " (124, 128, 0.5913434637417997),\n",
       " (125, 26, 0.18304152447565425),\n",
       " (126, 66, 0.7235974827977869),\n",
       " (127, 86, 0.9752928550092722),\n",
       " (128, 120, 0.9396762381689775),\n",
       " (129, 25, 0.7771945356143826),\n",
       " (130, 108, 0.6912244687797319),\n",
       " (131, 102, 0.35808458115104236),\n",
       " (132, 103, 0.6311575904196971),\n",
       " (133, 110, 0.3212738268924844),\n",
       " (134, 64, 0.14700837814657383),\n",
       " (135, 122, 0.8978826408035399),\n",
       " (136, 133, 0.10718406329304887),\n",
       " (137, 145, 0.04954659689372857),\n",
       " (138, 131, 0.14859702931744703),\n",
       " (139, 150, 0.6968157652893969),\n",
       " (140, 74, 0.1644526550717106),\n",
       " (144, 119, 0.09778248209233781),\n",
       " (146, 92, 0.8575797122741025)]"
      ]
     },
     "execution_count": 165,
     "metadata": {},
     "output_type": "execute_result"
    }
   ],
   "source": [
    "matches[(0,1)].final_matches"
   ]
  },
  {
   "cell_type": "code",
   "execution_count": 172,
   "id": "c4e7488a-65e5-434c-b48f-eab90f1a448c",
   "metadata": {},
   "outputs": [],
   "source": [
    "from DLC_for_WBFM.utils.visualization.napari_from_config import napari_labels_from_frames"
   ]
  },
  {
   "cell_type": "code",
   "execution_count": 176,
   "id": "9b17b390-bfe5-4dfd-8e2d-f2387f99b0c5",
   "metadata": {},
   "outputs": [],
   "source": [
    "opt = napari_labels_from_frames(frames, num_frames=1)"
   ]
  },
  {
   "cell_type": "code",
   "execution_count": 178,
   "id": "3f7379aa-7fc8-446b-a4d1-6cc2a914e513",
   "metadata": {},
   "outputs": [],
   "source": [
    "# opt"
   ]
  },
  {
   "cell_type": "code",
   "execution_count": null,
   "id": "3e563791-128c-4d1a-9d3b-8faaae942f35",
   "metadata": {},
   "outputs": [],
   "source": []
  }
 ],
 "metadata": {
  "kernelspec": {
   "display_name": "Python [conda env:segmentation]",
   "language": "python",
   "name": "conda-env-segmentation-py"
  },
  "language_info": {
   "codemirror_mode": {
    "name": "ipython",
    "version": 3
   },
   "file_extension": ".py",
   "mimetype": "text/x-python",
   "name": "python",
   "nbconvert_exporter": "python",
   "pygments_lexer": "ipython3",
   "version": "3.7.10"
  }
 },
 "nbformat": 4,
 "nbformat_minor": 5
}
