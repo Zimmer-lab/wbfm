{
 "cells": [
  {
   "cell_type": "code",
   "execution_count": 84,
   "id": "9e2c48f9-b63d-4f02-b467-bfb462848fc2",
   "metadata": {},
   "outputs": [
    {
     "name": "stdout",
     "output_type": "stream",
     "text": [
      "The autoreload extension is already loaded. To reload it, use:\n",
      "  %reload_ext autoreload\n"
     ]
    }
   ],
   "source": [
    "%load_ext autoreload\n",
    "%autoreload 2\n",
    "import matplotlib.pyplot as plt"
   ]
  },
  {
   "cell_type": "code",
   "execution_count": 2,
   "id": "7fdd8ad1-5114-4e95-968e-c4f231c54d8f",
   "metadata": {},
   "outputs": [
    {
     "name": "stderr",
     "output_type": "stream",
     "text": [
      "WARNING:root:Did not find file 4-traces/red_traces.h5\n",
      "WARNING:root:Did not find file 4-traces/green_traces.h5\n",
      "WARNING:root:Did not find file /scratch/zimmer/Charles/dlc_stacks/worm3-2021_09_29/4-traces/reindexed_masks.zarr\n",
      "WARNING:root:Did not find file 3-tracking/postprocessing/manual_behavior_annotation.xlsx\n"
     ]
    },
    {
     "name": "stdout",
     "output_type": "stream",
     "text": [
      "=======================================\n",
      "Project data for directory:\n",
      "/scratch/zimmer/Charles/dlc_stacks/worm3-2021_09_29 \n",
      "=======================================\n",
      "Found the following data files:\n",
      "red_data: True\n",
      "green_data: True\n",
      "============Segmentation===============\n",
      "raw_segmentation: True\n",
      "segmentation: False\n",
      "============Tracklets==================\n",
      "df_training_tracklets: True\n",
      "reindexed_masks_training: True\n",
      "============Traces=====================\n",
      "red_traces: False\n",
      "green_traces: False\n",
      "final_tracks: True\n",
      "behavior_annotations: False\n",
      "\n"
     ]
    }
   ],
   "source": [
    "from DLC_for_WBFM.utils.projects.finished_project_data import ProjectData\n",
    "\n",
    "# fname = \"/scratch/zimmer/Charles/dlc_stacks/worm3-2021_09_29/project_config.yaml\"\n",
    "fname = \"/scratch/zimmer/Charles/dlc_stacks/project-pytest/project_config.yaml\"\n",
    "project_data = ProjectData.load_final_project_data_from_config(fname)"
   ]
  },
  {
   "cell_type": "markdown",
   "id": "29177460-0c1b-4fb6-aca6-6f48ac68d1f1",
   "metadata": {},
   "source": [
    "# Check the frame pairs and their methods"
   ]
  },
  {
   "cell_type": "code",
   "execution_count": 3,
   "id": "0fc4d117-49e0-477f-85f7-3b8427f739c4",
   "metadata": {
    "tags": []
   },
   "outputs": [],
   "source": [
    "# frames = project_data.raw_frames\n",
    "matches = project_data.raw_matches"
   ]
  },
  {
   "cell_type": "code",
   "execution_count": 68,
   "id": "31d78060-95f3-4551-a163-7e082d897efc",
   "metadata": {},
   "outputs": [
    {
     "name": "stdout",
     "output_type": "stream",
     "text": [
      "FramePair with 97/155 matches \n",
      "\n"
     ]
    },
    {
     "data": {
      "text/plain": [
       "0.0001"
      ]
     },
     "execution_count": 68,
     "metadata": {},
     "output_type": "execute_result"
    }
   ],
   "source": [
    "key = (0, 1)\n",
    "m = matches[key]\n",
    "print(m)\n",
    "m.min_confidence"
   ]
  },
  {
   "cell_type": "code",
   "execution_count": 69,
   "id": "1f67026e-ff5c-4b60-a815-932139558a7c",
   "metadata": {},
   "outputs": [
    {
     "name": "stdout",
     "output_type": "stream",
     "text": [
      "Found 56 candidates via feature matching\n",
      "Found 85 candidates via affine matching\n",
      "Found 105 candidates via gaussian process matching\n",
      "Processed these into 97 final matches candidates\n"
     ]
    }
   ],
   "source": [
    "m.print_candidates_by_method()"
   ]
  },
  {
   "cell_type": "code",
   "execution_count": 72,
   "id": "a59e3284-cf86-4f40-bdd0-2ab2c2a6cb0b",
   "metadata": {},
   "outputs": [
    {
     "data": {
      "text/plain": [
       "FramePair with 37/155 matches "
      ]
     },
     "execution_count": 72,
     "metadata": {},
     "output_type": "execute_result"
    }
   ],
   "source": [
    "m.calc_final_matches_using_bipartite_matching(min_confidence=0.1, z_threshold=3)\n",
    "m"
   ]
  },
  {
   "cell_type": "code",
   "execution_count": 71,
   "id": "ddb5453a-252e-4854-826d-5cb0cfe0bd66",
   "metadata": {},
   "outputs": [
    {
     "name": "stdout",
     "output_type": "stream",
     "text": [
      "Found 56 candidates via feature matching\n",
      "Found 85 candidates via affine matching\n",
      "Found 105 candidates via gaussian process matching\n",
      "Processed these into 80 final matches candidates\n"
     ]
    }
   ],
   "source": [
    "m.print_candidates_by_method()"
   ]
  },
  {
   "cell_type": "code",
   "execution_count": 59,
   "id": "6b06c2b8-bcaa-4eef-be4d-12b87d8736fb",
   "metadata": {},
   "outputs": [
    {
     "name": "stdout",
     "output_type": "stream",
     "text": [
      "Found match (2, 45) with confidence 0.16636827748857533\n",
      "Same match from feature method with confidence: 0.1679292194164154\n",
      "Neuron not matched using affine method\n",
      "Neuron not matched using gaussian process method\n"
     ]
    }
   ],
   "source": [
    "test_match = (2,45)\n",
    "\n",
    "m.print_reason_for_match(test_match)\n",
    "            "
   ]
  },
  {
   "cell_type": "code",
   "execution_count": 60,
   "id": "e4e80049-71ee-46f5-aad4-c40989416c23",
   "metadata": {
    "tags": []
   },
   "outputs": [],
   "source": [
    "# m.print_reason_for_all_final_matches()"
   ]
  },
  {
   "cell_type": "code",
   "execution_count": 80,
   "id": "fa626e0b-3c8c-47a2-9fad-61caaab684d5",
   "metadata": {},
   "outputs": [
    {
     "data": {
      "text/plain": [
       "FramePair with 56/155 matches "
      ]
     },
     "execution_count": 80,
     "metadata": {},
     "output_type": "execute_result"
    }
   ],
   "source": [
    "m.add_affine_to_candidates = False\n",
    "m.add_gp_to_candidates = False\n",
    "\n",
    "m.calc_final_matches_using_bipartite_matching(min_confidence=0.1, z_threshold=30)\n",
    "m"
   ]
  },
  {
   "cell_type": "code",
   "execution_count": 75,
   "id": "fd00a195-d134-44fd-9dfa-c7985778a898",
   "metadata": {},
   "outputs": [
    {
     "name": "stdout",
     "output_type": "stream",
     "text": [
      "Found 56 candidates via feature matching\n",
      "Found 85 candidates via affine matching\n",
      "Found 105 candidates via gaussian process matching\n",
      "Processed these into 26 final matches candidates\n"
     ]
    }
   ],
   "source": [
    "m.print_candidates_by_method()"
   ]
  },
  {
   "cell_type": "code",
   "execution_count": null,
   "id": "5d6a2963-c08a-4b67-be26-8043af7b1a56",
   "metadata": {},
   "outputs": [],
   "source": [
    "# m.final_matches"
   ]
  },
  {
   "cell_type": "code",
   "execution_count": 43,
   "id": "52a793a1-8f6e-4bbe-9541-11b51d84b957",
   "metadata": {},
   "outputs": [],
   "source": [
    "import pandas as pd\n",
    "\n",
    "df = pd.DataFrame(m.final_matches, columns=['index_frame0', 'index_frame1', 'likelihood'])"
   ]
  },
  {
   "cell_type": "code",
   "execution_count": 76,
   "id": "6abaa641-b580-4540-9742-11a4dd360005",
   "metadata": {
    "collapsed": true,
    "jupyter": {
     "outputs_hidden": true
    },
    "tags": []
   },
   "outputs": [
    {
     "data": {
      "text/plain": [
       "[45,\n",
       " 61,\n",
       " 9,\n",
       " 54,\n",
       " 46,\n",
       " 21,\n",
       " 72,\n",
       " 30,\n",
       " 35,\n",
       " 14,\n",
       " 44,\n",
       " 34,\n",
       " 152,\n",
       " 171,\n",
       " 94,\n",
       " 69,\n",
       " 102,\n",
       " 38,\n",
       " 0,\n",
       " 67,\n",
       " 2,\n",
       " 43,\n",
       " 37,\n",
       " 73,\n",
       " 16,\n",
       " 77,\n",
       " 4,\n",
       " 128,\n",
       " 85,\n",
       " 36,\n",
       " 24,\n",
       " 71,\n",
       " 33,\n",
       " 79,\n",
       " 112,\n",
       " 12,\n",
       " 167,\n",
       " 148,\n",
       " 52,\n",
       " 146,\n",
       " 60,\n",
       " 155,\n",
       " 107,\n",
       " 161,\n",
       " 170,\n",
       " 103,\n",
       " 111,\n",
       " 97,\n",
       " 89,\n",
       " 75,\n",
       " 66,\n",
       " 3,\n",
       " 96,\n",
       " 90,\n",
       " 13,\n",
       " 68,\n",
       " 117,\n",
       " 169,\n",
       " 139,\n",
       " 119,\n",
       " 116,\n",
       " 129,\n",
       " 123,\n",
       " 160,\n",
       " 55,\n",
       " 41,\n",
       " 20,\n",
       " 131,\n",
       " 126,\n",
       " 136,\n",
       " 165,\n",
       " 86,\n",
       " 25,\n",
       " 151,\n",
       " 135,\n",
       " 132,\n",
       " 137,\n",
       " 156,\n",
       " 140,\n",
       " 125,\n",
       " 40,\n",
       " 150,\n",
       " 104,\n",
       " 114,\n",
       " 70,\n",
       " 51,\n",
       " 142,\n",
       " 101,\n",
       " 134,\n",
       " 133,\n",
       " 118,\n",
       " 122,\n",
       " 92,\n",
       " 105,\n",
       " 130,\n",
       " 138,\n",
       " 113]"
      ]
     },
     "execution_count": 76,
     "metadata": {},
     "output_type": "execute_result"
    }
   ],
   "source": [
    "list(df['index_frame1'])"
   ]
  },
  {
   "cell_type": "code",
   "execution_count": 45,
   "id": "70bad44b-96a8-4085-b073-029c165fe057",
   "metadata": {},
   "outputs": [],
   "source": [
    "df.to_csv('training_matches01.csv')"
   ]
  },
  {
   "cell_type": "code",
   "execution_count": null,
   "id": "cfc11862-3d26-43c0-8c55-51ce98f112a1",
   "metadata": {},
   "outputs": [],
   "source": []
  },
  {
   "cell_type": "markdown",
   "id": "396645ca-5f40-4455-9da9-95ea8a427e8e",
   "metadata": {},
   "source": [
    "# Napari of single match"
   ]
  },
  {
   "cell_type": "code",
   "execution_count": 33,
   "id": "29d2d2a6-32eb-4191-ae9a-c55dfc1356fe",
   "metadata": {},
   "outputs": [],
   "source": [
    "pair = (0,1)\n",
    "which_matches = 'feature_matches'\n",
    "project_data.napari_of_single_match(pair, which_matches)"
   ]
  },
  {
   "cell_type": "code",
   "execution_count": 3,
   "id": "6d6b8ae2-73fe-423b-a0fc-5752725ed97e",
   "metadata": {},
   "outputs": [],
   "source": [
    "from DLC_for_WBFM.utils.feature_detection.utils_features import detect_features_and_match\n",
    "import cv2"
   ]
  },
  {
   "cell_type": "code",
   "execution_count": 53,
   "id": "1c91eaf5-5ce4-4275-9847-c621f5495f63",
   "metadata": {},
   "outputs": [
    {
     "data": {
      "text/plain": [
       "(FramePair with 67/155 matches ,\n",
       " ReferenceFrame with 155 neurons ,\n",
       " ReferenceFrame with 172 neurons )"
      ]
     },
     "execution_count": 53,
     "metadata": {},
     "output_type": "execute_result"
    }
   ],
   "source": [
    "pair = (0,1)\n",
    "\n",
    "this_match = project_data.raw_matches[pair]\n",
    "f0, f1 = this_match.frame0, this_match.frame1\n",
    "this_match, f0, f1"
   ]
  },
  {
   "cell_type": "markdown",
   "id": "00635983-6cdf-422b-a7ee-aef7dc303f55",
   "metadata": {},
   "source": [
    "## Redo affine matching"
   ]
  },
  {
   "cell_type": "code",
   "execution_count": 44,
   "id": "93f42648-cff2-4b5d-b5f5-300bb35787d1",
   "metadata": {},
   "outputs": [
    {
     "data": {
      "application/vnd.jupyter.widget-view+json": {
       "model_id": "",
       "version_major": 2,
       "version_minor": 0
      },
      "text/plain": [
       "  0%|          | 0/32 [00:00<?, ?it/s]"
      ]
     },
     "metadata": {},
     "output_type": "display_data"
    }
   ],
   "source": [
    "this_match.match_using_local_affine()"
   ]
  },
  {
   "cell_type": "code",
   "execution_count": 48,
   "id": "7b13de4b-bc1c-4990-bae2-6ce5a2ec88c5",
   "metadata": {},
   "outputs": [],
   "source": [
    "this_match.calc_final_matches_using_bipartite_matching();"
   ]
  },
  {
   "cell_type": "code",
   "execution_count": 52,
   "id": "41629649-bc5d-4a6f-8870-81fbec95e224",
   "metadata": {},
   "outputs": [],
   "source": [
    "which_matches = 'affine_matches'\n",
    "project_data.napari_of_single_match(pair, which_matches)"
   ]
  },
  {
   "cell_type": "code",
   "execution_count": 49,
   "id": "0aaf9e0b-34c3-4590-abfd-d230e2724c6d",
   "metadata": {},
   "outputs": [],
   "source": [
    "which_matches = 'final_matches'\n",
    "project_data.napari_of_single_match(pair, which_matches)"
   ]
  },
  {
   "cell_type": "markdown",
   "id": "dfe618db-6d9b-4d2c-845b-613ee87d7950",
   "metadata": {},
   "source": [
    "## Redo feature embedding with different settings"
   ]
  },
  {
   "cell_type": "code",
   "execution_count": null,
   "id": "7f5bef31-68be-48de-8e2b-cd7d58d4ce14",
   "metadata": {},
   "outputs": [],
   "source": [
    "pair = (0,1)\n",
    "match = project_data.raw_matches\n",
    "f0, f1 = match.frame0, match.frame1"
   ]
  },
  {
   "cell_type": "code",
   "execution_count": null,
   "id": "9ed68fb8-a7d1-45e3-bb57-f95f8bcc34b2",
   "metadata": {},
   "outputs": [],
   "source": [
    "f0.options_2d_encoder = {'scale_factor': 16.0}\n",
    "f1.options_2d_encoder = {'scale_factor': 16.0}"
   ]
  },
  {
   "cell_type": "code",
   "execution_count": null,
   "id": "e3ef683a-40c1-49e3-ba45-70358a76387c",
   "metadata": {},
   "outputs": [],
   "source": []
  },
  {
   "cell_type": "code",
   "execution_count": 74,
   "id": "c1bf112e-41b3-419f-912d-0aa413f1e335",
   "metadata": {},
   "outputs": [],
   "source": [
    "this_match.match_using_feature_embedding(matches_to_keep=0.9, crossCheck=False)"
   ]
  },
  {
   "cell_type": "code",
   "execution_count": 75,
   "id": "c114e313-440d-4bdf-9258-d169ccfeddb3",
   "metadata": {},
   "outputs": [],
   "source": [
    "# this_match.calc_final_matches_using_bipartite_matching();"
   ]
  },
  {
   "cell_type": "code",
   "execution_count": 80,
   "id": "bbfb5321-e52b-4f7d-b108-aa761470902d",
   "metadata": {},
   "outputs": [],
   "source": [
    "which_matches = 'feature_matches'\n",
    "project_data.napari_of_single_match(pair, which_matches)"
   ]
  },
  {
   "cell_type": "code",
   "execution_count": 79,
   "id": "2f11e393-89e7-458a-afbf-cf320f7cc4db",
   "metadata": {},
   "outputs": [
    {
     "data": {
      "text/plain": [
       "<xfeatures2d_VGG 0x7f8514829bf0>"
      ]
     },
     "execution_count": 79,
     "metadata": {},
     "output_type": "execute_result"
    }
   ],
   "source": [
    "this_match.frame0.get_default_base_2d_encoder()"
   ]
  },
  {
   "cell_type": "code",
   "execution_count": null,
   "id": "00b32ee0-e0a7-4dc8-8326-9da40492b582",
   "metadata": {},
   "outputs": [],
   "source": [
    "cv2.xfeatures2d.VGG_create()"
   ]
  },
  {
   "cell_type": "code",
   "execution_count": 5,
   "id": "adbc6110-7cbc-4db1-b1da-a86ade6b5fa7",
   "metadata": {
    "tags": []
   },
   "outputs": [],
   "source": [
    "# i = 16\n",
    "\n",
    "# f0 = this_match.frame0\n",
    "# im0 = f0.get_raw_data()[i,...]\n",
    "# # im0 = np.max(f0.get_raw_data(), axis=0)\n",
    "\n",
    "# f1 = this_match.frame1\n",
    "# im1 = f1.get_raw_data()[i,...]\n",
    "# # im1 = np.max(f1.get_raw_data(), axis=0)"
   ]
  },
  {
   "cell_type": "code",
   "execution_count": 6,
   "id": "f914bd20-216e-46f3-bc9b-430e4debfa17",
   "metadata": {},
   "outputs": [],
   "source": [
    "# %matplotlib inline\n",
    "# plt.imshow(f1_mip)"
   ]
  },
  {
   "cell_type": "code",
   "execution_count": 7,
   "id": "429c746c-65ca-470b-a309-8158b8dd3661",
   "metadata": {},
   "outputs": [],
   "source": [
    "\n",
    "# keypoints0, keypoints1, matches = detect_features_and_match(im0, im1, 10000, 0.8, True)"
   ]
  },
  {
   "cell_type": "code",
   "execution_count": 8,
   "id": "8ca902ad-f2dc-456d-a4f7-dd9ebe72f510",
   "metadata": {},
   "outputs": [],
   "source": [
    "\n",
    "# imMatches = cv2.drawMatches(im0, keypoints0, im1, keypoints1, matches, None)\n",
    "# fig, axis = plt.subplots(figsize=(45, 15))\n",
    "# plt.imshow(imMatches)"
   ]
  },
  {
   "cell_type": "code",
   "execution_count": 78,
   "id": "2262c6d8-be6d-42d7-bafc-f6f31854b8b1",
   "metadata": {},
   "outputs": [
    {
     "data": {
      "text/plain": [
       "array([[  4.94108405, 297.76355067, 424.09347997],\n",
       "       [  4.53575358, 313.32233223, 433.17491749],\n",
       "       [  5.66034483, 279.91896552, 418.12758621],\n",
       "       [  5.89900427, 300.15647226, 349.30440967],\n",
       "       [  6.06699752, 308.28411911, 399.21712159]])"
      ]
     },
     "execution_count": 78,
     "metadata": {},
     "output_type": "execute_result"
    }
   ],
   "source": [
    "f0.keypoint_locs[:5]"
   ]
  },
  {
   "cell_type": "code",
   "execution_count": 79,
   "id": "dc39b00a-af5b-4b79-866b-3947658e8004",
   "metadata": {},
   "outputs": [
    {
     "data": {
      "text/plain": [
       "array([[  4.94108405, 297.76355067, 424.09347997],\n",
       "       [  4.53575358, 313.32233223, 433.17491749],\n",
       "       [  5.66034483, 279.91896552, 418.12758621],\n",
       "       [  5.89900427, 300.15647226, 349.30440967],\n",
       "       [  6.06699752, 308.28411911, 399.21712159]])"
      ]
     },
     "execution_count": 79,
     "metadata": {},
     "output_type": "execute_result"
    }
   ],
   "source": [
    "f0.neuron_locs[:5]"
   ]
  },
  {
   "cell_type": "code",
   "execution_count": 83,
   "id": "eb55dbb7-1b63-4149-924a-9400bd024e22",
   "metadata": {},
   "outputs": [
    {
     "data": {
      "text/plain": [
       "[(2, 45, 0.1679292194164154),\n",
       " (8, 21, 0.18317314442107907),\n",
       " (12, 35, 0.1720259091798729),\n",
       " (16, 44, 0.18153404747547808),\n",
       " (18, 166, 0.14453631350279791)]"
      ]
     },
     "execution_count": 83,
     "metadata": {},
     "output_type": "execute_result"
    }
   ],
   "source": [
    "this_match.keypoint_matches[:5]"
   ]
  },
  {
   "cell_type": "code",
   "execution_count": 84,
   "id": "ff606ea2-008f-4989-ad9a-ae48409d0d74",
   "metadata": {},
   "outputs": [
    {
     "data": {
      "text/plain": [
       "[(2, 45, 0.1679292194164154),\n",
       " (8, 21, 0.18317314442107907),\n",
       " (12, 35, 0.1720259091798729),\n",
       " (16, 44, 0.18153404747547808),\n",
       " (18, 166, 0.14453631350279791)]"
      ]
     },
     "execution_count": 84,
     "metadata": {},
     "output_type": "execute_result"
    }
   ],
   "source": [
    "this_match.feature_matches[:5]"
   ]
  },
  {
   "cell_type": "code",
   "execution_count": 98,
   "id": "e0b48432-f3ae-4f0d-ba5e-1e550ca7bf91",
   "metadata": {},
   "outputs": [
    {
     "data": {
      "application/vnd.jupyter.widget-view+json": {
       "model_id": "",
       "version_major": 2,
       "version_minor": 0
      },
      "text/plain": [
       "  0%|          | 0/32 [00:00<?, ?it/s]"
      ]
     },
     "metadata": {},
     "output_type": "display_data"
    },
    {
     "ename": "AttributeError",
     "evalue": "'list' object has no attribute 'queryIdx'",
     "output_type": "error",
     "traceback": [
      "\u001b[0;31m---------------------------------------------------------------------------\u001b[0m",
      "\u001b[0;31mAttributeError\u001b[0m                            Traceback (most recent call last)",
      "\u001b[0;32m<ipython-input-98-d9698abf090c>\u001b[0m in \u001b[0;36m<module>\u001b[0;34m\u001b[0m\n\u001b[0;32m----> 1\u001b[0;31m \u001b[0mthis_match\u001b[0m\u001b[0;34m.\u001b[0m\u001b[0mmatch_using_local_affine\u001b[0m\u001b[0;34m(\u001b[0m\u001b[0;34m)\u001b[0m\u001b[0;34m\u001b[0m\u001b[0;34m\u001b[0m\u001b[0m\n\u001b[0m",
      "\u001b[0;32m~/Current_work/repos/dlc_for_wbfm/DLC_for_WBFM/utils/feature_detection/class_frame_pair.py\u001b[0m in \u001b[0;36mmatch_using_local_affine\u001b[0;34m(self)\u001b[0m\n\u001b[1;32m    187\u001b[0m         \u001b[0mframe1\u001b[0m\u001b[0;34m.\u001b[0m\u001b[0mkeypoint_locs\u001b[0m \u001b[0;34m=\u001b[0m \u001b[0mkp1_locs\u001b[0m\u001b[0;34m\u001b[0m\u001b[0;34m\u001b[0m\u001b[0m\n\u001b[1;32m    188\u001b[0m         \u001b[0mframe1\u001b[0m\u001b[0;34m.\u001b[0m\u001b[0mkeypoints\u001b[0m \u001b[0;34m=\u001b[0m \u001b[0mall_kp1\u001b[0m\u001b[0;34m\u001b[0m\u001b[0;34m\u001b[0m\u001b[0m\n\u001b[0;32m--> 189\u001b[0;31m         \u001b[0mkp_matches\u001b[0m \u001b[0;34m=\u001b[0m \u001b[0mrecursive_cast_matches_as_array\u001b[0m\u001b[0;34m(\u001b[0m\u001b[0mkp_matches\u001b[0m\u001b[0;34m,\u001b[0m \u001b[0mgamma\u001b[0m\u001b[0;34m=\u001b[0m\u001b[0;36m1.0\u001b[0m\u001b[0;34m)\u001b[0m\u001b[0;34m\u001b[0m\u001b[0;34m\u001b[0m\u001b[0m\n\u001b[0m\u001b[1;32m    190\u001b[0m         \u001b[0mself\u001b[0m\u001b[0;34m.\u001b[0m\u001b[0mkeypoint_matches\u001b[0m \u001b[0;34m=\u001b[0m \u001b[0mkp_matches\u001b[0m\u001b[0;34m\u001b[0m\u001b[0;34m\u001b[0m\u001b[0m\n\u001b[1;32m    191\u001b[0m         \u001b[0;31m# Then match using distance from neuron position to keypoint cloud\u001b[0m\u001b[0;34m\u001b[0m\u001b[0;34m\u001b[0m\u001b[0;34m\u001b[0m\u001b[0m\n",
      "\u001b[0;32m~/Current_work/repos/dlc_for_wbfm/DLC_for_WBFM/utils/external/utils_cv2.py\u001b[0m in \u001b[0;36mcast_matches_as_array\u001b[0;34m(cv2_matches, gamma, index_offset)\u001b[0m\n\u001b[1;32m     90\u001b[0m         \u001b[0;32mreturn\u001b[0m \u001b[0mnp\u001b[0m\u001b[0;34m.\u001b[0m\u001b[0mtanh\u001b[0m\u001b[0;34m(\u001b[0m\u001b[0mgamma\u001b[0m \u001b[0;34m/\u001b[0m \u001b[0;34m(\u001b[0m\u001b[0mdist\u001b[0m \u001b[0;34m+\u001b[0m \u001b[0;36m1e-9\u001b[0m \u001b[0;34m*\u001b[0m \u001b[0mgamma\u001b[0m\u001b[0;34m)\u001b[0m\u001b[0;34m)\u001b[0m\u001b[0;34m\u001b[0m\u001b[0;34m\u001b[0m\u001b[0m\n\u001b[1;32m     91\u001b[0m \u001b[0;34m\u001b[0m\u001b[0m\n\u001b[0;32m---> 92\u001b[0;31m     \u001b[0;32mreturn\u001b[0m \u001b[0;34m[\u001b[0m\u001b[0;34m(\u001b[0m\u001b[0mm\u001b[0m\u001b[0;34m.\u001b[0m\u001b[0mqueryIdx\u001b[0m\u001b[0;34m+\u001b[0m\u001b[0mindex_offset\u001b[0m\u001b[0;34m,\u001b[0m \u001b[0mm\u001b[0m\u001b[0;34m.\u001b[0m\u001b[0mtrainIdx\u001b[0m\u001b[0;34m+\u001b[0m\u001b[0mindex_offset\u001b[0m\u001b[0;34m,\u001b[0m \u001b[0mconf\u001b[0m\u001b[0;34m(\u001b[0m\u001b[0mm\u001b[0m\u001b[0;34m.\u001b[0m\u001b[0mdistance\u001b[0m\u001b[0;34m)\u001b[0m\u001b[0;34m)\u001b[0m \u001b[0;32mfor\u001b[0m \u001b[0mm\u001b[0m \u001b[0;32min\u001b[0m \u001b[0mcv2_matches\u001b[0m\u001b[0;34m]\u001b[0m\u001b[0;34m\u001b[0m\u001b[0;34m\u001b[0m\u001b[0m\n\u001b[0m",
      "\u001b[0;32m~/Current_work/repos/dlc_for_wbfm/DLC_for_WBFM/utils/external/utils_cv2.py\u001b[0m in \u001b[0;36m<listcomp>\u001b[0;34m(.0)\u001b[0m\n\u001b[1;32m     90\u001b[0m         \u001b[0;32mreturn\u001b[0m \u001b[0mnp\u001b[0m\u001b[0;34m.\u001b[0m\u001b[0mtanh\u001b[0m\u001b[0;34m(\u001b[0m\u001b[0mgamma\u001b[0m \u001b[0;34m/\u001b[0m \u001b[0;34m(\u001b[0m\u001b[0mdist\u001b[0m \u001b[0;34m+\u001b[0m \u001b[0;36m1e-9\u001b[0m \u001b[0;34m*\u001b[0m \u001b[0mgamma\u001b[0m\u001b[0;34m)\u001b[0m\u001b[0;34m)\u001b[0m\u001b[0;34m\u001b[0m\u001b[0;34m\u001b[0m\u001b[0m\n\u001b[1;32m     91\u001b[0m \u001b[0;34m\u001b[0m\u001b[0m\n\u001b[0;32m---> 92\u001b[0;31m     \u001b[0;32mreturn\u001b[0m \u001b[0;34m[\u001b[0m\u001b[0;34m(\u001b[0m\u001b[0mm\u001b[0m\u001b[0;34m.\u001b[0m\u001b[0mqueryIdx\u001b[0m\u001b[0;34m+\u001b[0m\u001b[0mindex_offset\u001b[0m\u001b[0;34m,\u001b[0m \u001b[0mm\u001b[0m\u001b[0;34m.\u001b[0m\u001b[0mtrainIdx\u001b[0m\u001b[0;34m+\u001b[0m\u001b[0mindex_offset\u001b[0m\u001b[0;34m,\u001b[0m \u001b[0mconf\u001b[0m\u001b[0;34m(\u001b[0m\u001b[0mm\u001b[0m\u001b[0;34m.\u001b[0m\u001b[0mdistance\u001b[0m\u001b[0;34m)\u001b[0m\u001b[0;34m)\u001b[0m \u001b[0;32mfor\u001b[0m \u001b[0mm\u001b[0m \u001b[0;32min\u001b[0m \u001b[0mcv2_matches\u001b[0m\u001b[0;34m]\u001b[0m\u001b[0;34m\u001b[0m\u001b[0;34m\u001b[0m\u001b[0m\n\u001b[0m",
      "\u001b[0;31mAttributeError\u001b[0m: 'list' object has no attribute 'queryIdx'"
     ]
    }
   ],
   "source": []
  },
  {
   "cell_type": "code",
   "execution_count": 97,
   "id": "40e9574a-a0e9-4eef-b27f-a925029e025a",
   "metadata": {
    "tags": []
   },
   "outputs": [
    {
     "name": "stdout",
     "output_type": "stream",
     "text": [
      "> \u001b[0;32m/home/charles/Current_work/repos/dlc_for_wbfm/DLC_for_WBFM/utils/external/utils_cv2.py\u001b[0m(90)\u001b[0;36m<listcomp>\u001b[0;34m()\u001b[0m\n",
      "\u001b[0;32m     86 \u001b[0;31m\u001b[0;34m\u001b[0m\u001b[0m\n",
      "\u001b[0m\u001b[0;32m     87 \u001b[0;31m    \u001b[0;32mdef\u001b[0m \u001b[0mconf\u001b[0m\u001b[0;34m(\u001b[0m\u001b[0mdist\u001b[0m\u001b[0;34m)\u001b[0m\u001b[0;34m:\u001b[0m\u001b[0;34m\u001b[0m\u001b[0;34m\u001b[0m\u001b[0m\n",
      "\u001b[0m\u001b[0;32m     88 \u001b[0;31m        \u001b[0;32mreturn\u001b[0m \u001b[0mnp\u001b[0m\u001b[0;34m.\u001b[0m\u001b[0mtanh\u001b[0m\u001b[0;34m(\u001b[0m\u001b[0mgamma\u001b[0m \u001b[0;34m/\u001b[0m \u001b[0;34m(\u001b[0m\u001b[0mdist\u001b[0m \u001b[0;34m+\u001b[0m \u001b[0;36m1e-9\u001b[0m \u001b[0;34m*\u001b[0m \u001b[0mgamma\u001b[0m\u001b[0;34m)\u001b[0m\u001b[0;34m)\u001b[0m\u001b[0;34m\u001b[0m\u001b[0;34m\u001b[0m\u001b[0m\n",
      "\u001b[0m\u001b[0;32m     89 \u001b[0;31m\u001b[0;34m\u001b[0m\u001b[0m\n",
      "\u001b[0m\u001b[0;32m---> 90 \u001b[0;31m    \u001b[0;32mreturn\u001b[0m \u001b[0;34m[\u001b[0m\u001b[0;34m(\u001b[0m\u001b[0mm\u001b[0m\u001b[0;34m.\u001b[0m\u001b[0mqueryIdx\u001b[0m\u001b[0;34m+\u001b[0m\u001b[0mindex_offset\u001b[0m\u001b[0;34m,\u001b[0m \u001b[0mm\u001b[0m\u001b[0;34m.\u001b[0m\u001b[0mtrainIdx\u001b[0m\u001b[0;34m+\u001b[0m\u001b[0mindex_offset\u001b[0m\u001b[0;34m,\u001b[0m \u001b[0mconf\u001b[0m\u001b[0;34m(\u001b[0m\u001b[0mm\u001b[0m\u001b[0;34m.\u001b[0m\u001b[0mdistance\u001b[0m\u001b[0;34m)\u001b[0m\u001b[0;34m)\u001b[0m \u001b[0;32mfor\u001b[0m \u001b[0mm\u001b[0m \u001b[0;32min\u001b[0m \u001b[0mcv2_matches\u001b[0m\u001b[0;34m]\u001b[0m\u001b[0;34m\u001b[0m\u001b[0;34m\u001b[0m\u001b[0m\n",
      "\u001b[0m\n"
     ]
    },
    {
     "name": "stdin",
     "output_type": "stream",
     "text": [
      "ipdb>  u\n"
     ]
    },
    {
     "name": "stdout",
     "output_type": "stream",
     "text": [
      "> \u001b[0;32m/home/charles/Current_work/repos/dlc_for_wbfm/DLC_for_WBFM/utils/external/utils_cv2.py\u001b[0m(90)\u001b[0;36mcast_matches_as_array\u001b[0;34m()\u001b[0m\n",
      "\u001b[0;32m     86 \u001b[0;31m\u001b[0;34m\u001b[0m\u001b[0m\n",
      "\u001b[0m\u001b[0;32m     87 \u001b[0;31m    \u001b[0;32mdef\u001b[0m \u001b[0mconf\u001b[0m\u001b[0;34m(\u001b[0m\u001b[0mdist\u001b[0m\u001b[0;34m)\u001b[0m\u001b[0;34m:\u001b[0m\u001b[0;34m\u001b[0m\u001b[0;34m\u001b[0m\u001b[0m\n",
      "\u001b[0m\u001b[0;32m     88 \u001b[0;31m        \u001b[0;32mreturn\u001b[0m \u001b[0mnp\u001b[0m\u001b[0;34m.\u001b[0m\u001b[0mtanh\u001b[0m\u001b[0;34m(\u001b[0m\u001b[0mgamma\u001b[0m \u001b[0;34m/\u001b[0m \u001b[0;34m(\u001b[0m\u001b[0mdist\u001b[0m \u001b[0;34m+\u001b[0m \u001b[0;36m1e-9\u001b[0m \u001b[0;34m*\u001b[0m \u001b[0mgamma\u001b[0m\u001b[0;34m)\u001b[0m\u001b[0;34m)\u001b[0m\u001b[0;34m\u001b[0m\u001b[0;34m\u001b[0m\u001b[0m\n",
      "\u001b[0m\u001b[0;32m     89 \u001b[0;31m\u001b[0;34m\u001b[0m\u001b[0m\n",
      "\u001b[0m\u001b[0;32m---> 90 \u001b[0;31m    \u001b[0;32mreturn\u001b[0m \u001b[0;34m[\u001b[0m\u001b[0;34m(\u001b[0m\u001b[0mm\u001b[0m\u001b[0;34m.\u001b[0m\u001b[0mqueryIdx\u001b[0m\u001b[0;34m+\u001b[0m\u001b[0mindex_offset\u001b[0m\u001b[0;34m,\u001b[0m \u001b[0mm\u001b[0m\u001b[0;34m.\u001b[0m\u001b[0mtrainIdx\u001b[0m\u001b[0;34m+\u001b[0m\u001b[0mindex_offset\u001b[0m\u001b[0;34m,\u001b[0m \u001b[0mconf\u001b[0m\u001b[0;34m(\u001b[0m\u001b[0mm\u001b[0m\u001b[0;34m.\u001b[0m\u001b[0mdistance\u001b[0m\u001b[0;34m)\u001b[0m\u001b[0;34m)\u001b[0m \u001b[0;32mfor\u001b[0m \u001b[0mm\u001b[0m \u001b[0;32min\u001b[0m \u001b[0mcv2_matches\u001b[0m\u001b[0;34m]\u001b[0m\u001b[0;34m\u001b[0m\u001b[0;34m\u001b[0m\u001b[0m\n",
      "\u001b[0m\n"
     ]
    },
    {
     "name": "stdin",
     "output_type": "stream",
     "text": [
      "ipdb>  u\n"
     ]
    },
    {
     "name": "stdout",
     "output_type": "stream",
     "text": [
      "> \u001b[0;32m/home/charles/Current_work/repos/dlc_for_wbfm/DLC_for_WBFM/utils/feature_detection/class_frame_pair.py\u001b[0m(189)\u001b[0;36mmatch_using_local_affine\u001b[0;34m()\u001b[0m\n",
      "\u001b[0;32m    187 \u001b[0;31m        \u001b[0mframe1\u001b[0m\u001b[0;34m.\u001b[0m\u001b[0mkeypoint_locs\u001b[0m \u001b[0;34m=\u001b[0m \u001b[0mkp1_locs\u001b[0m\u001b[0;34m\u001b[0m\u001b[0;34m\u001b[0m\u001b[0m\n",
      "\u001b[0m\u001b[0;32m    188 \u001b[0;31m        \u001b[0mframe1\u001b[0m\u001b[0;34m.\u001b[0m\u001b[0mkeypoints\u001b[0m \u001b[0;34m=\u001b[0m \u001b[0mall_kp1\u001b[0m\u001b[0;34m\u001b[0m\u001b[0;34m\u001b[0m\u001b[0m\n",
      "\u001b[0m\u001b[0;32m--> 189 \u001b[0;31m        \u001b[0mkp_matches\u001b[0m \u001b[0;34m=\u001b[0m \u001b[0mrecursive_cast_matches_as_array\u001b[0m\u001b[0;34m(\u001b[0m\u001b[0mkp_matches\u001b[0m\u001b[0;34m,\u001b[0m \u001b[0mgamma\u001b[0m\u001b[0;34m=\u001b[0m\u001b[0;36m1.0\u001b[0m\u001b[0;34m)\u001b[0m\u001b[0;34m\u001b[0m\u001b[0;34m\u001b[0m\u001b[0m\n",
      "\u001b[0m\u001b[0;32m    190 \u001b[0;31m        \u001b[0mself\u001b[0m\u001b[0;34m.\u001b[0m\u001b[0mkeypoint_matches\u001b[0m \u001b[0;34m=\u001b[0m \u001b[0mkp_matches\u001b[0m\u001b[0;34m\u001b[0m\u001b[0;34m\u001b[0m\u001b[0m\n",
      "\u001b[0m\u001b[0;32m    191 \u001b[0;31m        \u001b[0;31m# Then match using distance from neuron position to keypoint cloud\u001b[0m\u001b[0;34m\u001b[0m\u001b[0;34m\u001b[0m\u001b[0;34m\u001b[0m\u001b[0m\n",
      "\u001b[0m\n"
     ]
    },
    {
     "name": "stdin",
     "output_type": "stream",
     "text": [
      "ipdb>  d\n"
     ]
    },
    {
     "name": "stdout",
     "output_type": "stream",
     "text": [
      "> \u001b[0;32m/home/charles/Current_work/repos/dlc_for_wbfm/DLC_for_WBFM/utils/external/utils_cv2.py\u001b[0m(90)\u001b[0;36mcast_matches_as_array\u001b[0;34m()\u001b[0m\n",
      "\u001b[0;32m     86 \u001b[0;31m\u001b[0;34m\u001b[0m\u001b[0m\n",
      "\u001b[0m\u001b[0;32m     87 \u001b[0;31m    \u001b[0;32mdef\u001b[0m \u001b[0mconf\u001b[0m\u001b[0;34m(\u001b[0m\u001b[0mdist\u001b[0m\u001b[0;34m)\u001b[0m\u001b[0;34m:\u001b[0m\u001b[0;34m\u001b[0m\u001b[0;34m\u001b[0m\u001b[0m\n",
      "\u001b[0m\u001b[0;32m     88 \u001b[0;31m        \u001b[0;32mreturn\u001b[0m \u001b[0mnp\u001b[0m\u001b[0;34m.\u001b[0m\u001b[0mtanh\u001b[0m\u001b[0;34m(\u001b[0m\u001b[0mgamma\u001b[0m \u001b[0;34m/\u001b[0m \u001b[0;34m(\u001b[0m\u001b[0mdist\u001b[0m \u001b[0;34m+\u001b[0m \u001b[0;36m1e-9\u001b[0m \u001b[0;34m*\u001b[0m \u001b[0mgamma\u001b[0m\u001b[0;34m)\u001b[0m\u001b[0;34m)\u001b[0m\u001b[0;34m\u001b[0m\u001b[0;34m\u001b[0m\u001b[0m\n",
      "\u001b[0m\u001b[0;32m     89 \u001b[0;31m\u001b[0;34m\u001b[0m\u001b[0m\n",
      "\u001b[0m\u001b[0;32m---> 90 \u001b[0;31m    \u001b[0;32mreturn\u001b[0m \u001b[0;34m[\u001b[0m\u001b[0;34m(\u001b[0m\u001b[0mm\u001b[0m\u001b[0;34m.\u001b[0m\u001b[0mqueryIdx\u001b[0m\u001b[0;34m+\u001b[0m\u001b[0mindex_offset\u001b[0m\u001b[0;34m,\u001b[0m \u001b[0mm\u001b[0m\u001b[0;34m.\u001b[0m\u001b[0mtrainIdx\u001b[0m\u001b[0;34m+\u001b[0m\u001b[0mindex_offset\u001b[0m\u001b[0;34m,\u001b[0m \u001b[0mconf\u001b[0m\u001b[0;34m(\u001b[0m\u001b[0mm\u001b[0m\u001b[0;34m.\u001b[0m\u001b[0mdistance\u001b[0m\u001b[0;34m)\u001b[0m\u001b[0;34m)\u001b[0m \u001b[0;32mfor\u001b[0m \u001b[0mm\u001b[0m \u001b[0;32min\u001b[0m \u001b[0mcv2_matches\u001b[0m\u001b[0;34m]\u001b[0m\u001b[0;34m\u001b[0m\u001b[0;34m\u001b[0m\u001b[0m\n",
      "\u001b[0m\n"
     ]
    },
    {
     "name": "stdin",
     "output_type": "stream",
     "text": [
      "ipdb>  q\n"
     ]
    }
   ],
   "source": [
    "%debug"
   ]
  },
  {
   "cell_type": "code",
   "execution_count": 89,
   "id": "44336732-ae01-4029-909f-4a76916f5609",
   "metadata": {},
   "outputs": [
    {
     "data": {
      "text/plain": [
       "[(5, 9, 0.10664930928913127),\n",
       " (8, 21, 0.8394756255038409),\n",
       " (12, 35, 0.8349478951539584),\n",
       " (16, 44, 0.17956585981719214),\n",
       " (43, 43, 0.84885344892994),\n",
       " (44, 37, 0.11685128653108444),\n",
       " (51, 85, 0.25780942376488936),\n",
       " (55, 71, 0.845149949328259),\n",
       " (57, 79, 0.8219293506450835),\n",
       " (65, 146, 0.13224653472811124),\n",
       " (75, 161, 0.35186514736304203),\n",
       " (77, 103, 0.8909225482458489),\n",
       " (82, 97, 0.16936013942180073),\n",
       " (83, 89, 0.146637456126493),\n",
       " (86, 66, 0.35553324082900384),\n",
       " (89, 96, 0.20123047112487855),\n",
       " (90, 90, 0.8650401580931686),\n",
       " (102, 116, 0.21765459415362684),\n",
       " (103, 129, 0.16864172649745937),\n",
       " (104, 123, 0.8296511518132528),\n",
       " (115, 131, 0.23441914460936078),\n",
       " (116, 126, 0.21390742578557848),\n",
       " (117, 136, 0.38958833634777984),\n",
       " (124, 135, 0.20468550754577922),\n",
       " (125, 132, 0.22285427130257393),\n",
       " (127, 137, 0.19591889296164688),\n",
       " (129, 140, 0.2214390134778058),\n",
       " (131, 125, 0.21141014283515877),\n",
       " (134, 104, 0.2878642663659094),\n",
       " (139, 114, 0.2262245402153866),\n",
       " (140, 70, 0.6581799798246538),\n",
       " (144, 101, 0.19987677512330002),\n",
       " (146, 133, 0.199625432683072),\n",
       " (149, 122, 0.1853030012400116),\n",
       " (151, 105, 0.19459607371604734),\n",
       " (152, 130, 0.8468816286069092),\n",
       " (153, 138, 0.8364175368925045)]"
      ]
     },
     "execution_count": 89,
     "metadata": {},
     "output_type": "execute_result"
    }
   ],
   "source": [
    "this_match.final_matches"
   ]
  },
  {
   "cell_type": "markdown",
   "id": "c6de3f04-b72e-43d7-800c-339742e78504",
   "metadata": {},
   "source": [
    "# Redo the processing step"
   ]
  },
  {
   "cell_type": "code",
   "execution_count": 53,
   "id": "19558972-f14b-48c0-9b01-45556b6a2202",
   "metadata": {},
   "outputs": [],
   "source": [
    "from DLC_for_WBFM.utils.pipeline.tracklet_pipeline import postprocess_and_build_tracklets_from_matches"
   ]
  },
  {
   "cell_type": "code",
   "execution_count": 54,
   "id": "7068f93c-46df-4c51-81d5-5d0717caba16",
   "metadata": {},
   "outputs": [],
   "source": [
    "z_threshold, min_confidence = 3, 0.01"
   ]
  },
  {
   "cell_type": "code",
   "execution_count": 87,
   "id": "a381f903-d07e-4415-93fe-9325d4526b7c",
   "metadata": {},
   "outputs": [
    {
     "data": {
      "application/vnd.jupyter.widget-view+json": {
       "model_id": "f6df302be2424558b7cb9fe4ff9f88bd",
       "version_major": 2,
       "version_minor": 0
      },
      "text/plain": [
       "  0%|          | 0/1499 [00:00<?, ?it/s]"
      ]
     },
     "metadata": {},
     "output_type": "display_data"
    },
    {
     "data": {
      "application/vnd.jupyter.widget-view+json": {
       "model_id": "4efaa4f72a6543d1be15c2afc7733b41",
       "version_major": 2,
       "version_minor": 0
      },
      "text/plain": [
       "  0%|          | 0/85259 [00:00<?, ?it/s]"
      ]
     },
     "metadata": {},
     "output_type": "display_data"
    }
   ],
   "source": [
    "df_custom_format = postprocess_and_build_tracklets_from_matches(frames, matches, z_threshold, min_confidence, verbose=0)"
   ]
  },
  {
   "cell_type": "code",
   "execution_count": 88,
   "id": "18e99f2f-69e6-4798-8e58-945b59872581",
   "metadata": {},
   "outputs": [],
   "source": [
    "# %debug"
   ]
  },
  {
   "cell_type": "code",
   "execution_count": null,
   "id": "0362530f-7c67-45a9-8549-f42dd81d63d8",
   "metadata": {},
   "outputs": [],
   "source": []
  },
  {
   "cell_type": "code",
   "execution_count": 94,
   "id": "3d8972c2-290e-428e-965a-d4b75259b1d7",
   "metadata": {},
   "outputs": [
    {
     "data": {
      "text/plain": [
       "[array([  7.56994819, 284.36787565, 313.07668394]),\n",
       " array([  8.86567164, 237.89280868, 246.81682497]),\n",
       " array([  7.83292079, 239.8279703 , 249.45420792]),\n",
       " array([  7.17473118, 220.67741935, 249.70564516])]"
      ]
     },
     "execution_count": 94,
     "metadata": {},
     "output_type": "execute_result"
    }
   ],
   "source": [
    "df_custom_format['all_xyz'].iloc[3]"
   ]
  },
  {
   "cell_type": "code",
   "execution_count": 70,
   "id": "1298cb98-6d05-4abb-b8d4-2b88c2eba9a5",
   "metadata": {},
   "outputs": [],
   "source": [
    "f = lambda m: len(m.final_matches)\n",
    "list_of_all_possible_matches = list(map(f, matches.values()))"
   ]
  },
  {
   "cell_type": "code",
   "execution_count": 72,
   "id": "c6b70b46-32ca-4491-8aec-55daf6dd4d39",
   "metadata": {},
   "outputs": [
    {
     "data": {
      "text/plain": [
       "85259"
      ]
     },
     "execution_count": 72,
     "metadata": {},
     "output_type": "execute_result"
    }
   ],
   "source": [
    "sum(list_of_all_possible_matches)"
   ]
  },
  {
   "cell_type": "code",
   "execution_count": null,
   "id": "c0f3d17b-bd02-4e32-8b15-376c83e16717",
   "metadata": {},
   "outputs": [],
   "source": [
    "# matches"
   ]
  },
  {
   "cell_type": "markdown",
   "id": "01970bd1-dbe0-4ed8-b915-7fc8f170458a",
   "metadata": {},
   "source": [
    "# Napari of data and segmentation"
   ]
  },
  {
   "cell_type": "code",
   "execution_count": null,
   "id": "f010e42c-860d-45e6-95e7-4421c2915e4e",
   "metadata": {},
   "outputs": [],
   "source": []
  },
  {
   "cell_type": "code",
   "execution_count": null,
   "id": "d21fd366-d48e-43e2-a814-e2efe1e5872e",
   "metadata": {},
   "outputs": [],
   "source": []
  },
  {
   "cell_type": "markdown",
   "id": "576f8dd2-26de-43b9-9c39-65403aec142c",
   "metadata": {},
   "source": [
    "# Check the training data tracklets"
   ]
  },
  {
   "cell_type": "code",
   "execution_count": null,
   "id": "5176da29-bef8-46a2-b492-57af1bff4d2c",
   "metadata": {},
   "outputs": [],
   "source": []
  },
  {
   "cell_type": "code",
   "execution_count": 6,
   "id": "0ab812cb-e0da-438b-a1bf-95d61d36236e",
   "metadata": {},
   "outputs": [
    {
     "data": {
      "text/html": [
       "<div>\n",
       "<style scoped>\n",
       "    .dataframe tbody tr th:only-of-type {\n",
       "        vertical-align: middle;\n",
       "    }\n",
       "\n",
       "    .dataframe tbody tr th {\n",
       "        vertical-align: top;\n",
       "    }\n",
       "\n",
       "    .dataframe thead tr th {\n",
       "        text-align: left;\n",
       "    }\n",
       "</style>\n",
       "<table border=\"1\" class=\"dataframe\">\n",
       "  <thead>\n",
       "    <tr>\n",
       "      <th>bodyparts</th>\n",
       "      <th colspan=\"4\" halign=\"left\">neuron41334</th>\n",
       "    </tr>\n",
       "    <tr>\n",
       "      <th>coords</th>\n",
       "      <th>z</th>\n",
       "      <th>x</th>\n",
       "      <th>y</th>\n",
       "      <th>likelihood</th>\n",
       "    </tr>\n",
       "  </thead>\n",
       "  <tbody>\n",
       "    <tr>\n",
       "      <th>1154</th>\n",
       "      <td>17.714404</td>\n",
       "      <td>45.809603</td>\n",
       "      <td>803.128311</td>\n",
       "      <td>0.761594</td>\n",
       "    </tr>\n",
       "    <tr>\n",
       "      <th>1155</th>\n",
       "      <td>17.434368</td>\n",
       "      <td>89.210024</td>\n",
       "      <td>797.273667</td>\n",
       "      <td>0.761594</td>\n",
       "    </tr>\n",
       "    <tr>\n",
       "      <th>1156</th>\n",
       "      <td>16.923127</td>\n",
       "      <td>195.759609</td>\n",
       "      <td>809.196743</td>\n",
       "      <td>0.761594</td>\n",
       "    </tr>\n",
       "    <tr>\n",
       "      <th>1157</th>\n",
       "      <td>16.544801</td>\n",
       "      <td>282.892086</td>\n",
       "      <td>814.283846</td>\n",
       "      <td>0.761594</td>\n",
       "    </tr>\n",
       "    <tr>\n",
       "      <th>1158</th>\n",
       "      <td>16.699187</td>\n",
       "      <td>299.646341</td>\n",
       "      <td>815.391260</td>\n",
       "      <td>0.761594</td>\n",
       "    </tr>\n",
       "    <tr>\n",
       "      <th>1159</th>\n",
       "      <td>16.878049</td>\n",
       "      <td>296.252772</td>\n",
       "      <td>822.522173</td>\n",
       "      <td>0.761594</td>\n",
       "    </tr>\n",
       "    <tr>\n",
       "      <th>1160</th>\n",
       "      <td>16.875261</td>\n",
       "      <td>283.800697</td>\n",
       "      <td>843.716376</td>\n",
       "      <td>0.761594</td>\n",
       "    </tr>\n",
       "    <tr>\n",
       "      <th>1161</th>\n",
       "      <td>17.330734</td>\n",
       "      <td>254.048083</td>\n",
       "      <td>848.465237</td>\n",
       "      <td>0.761594</td>\n",
       "    </tr>\n",
       "    <tr>\n",
       "      <th>1162</th>\n",
       "      <td>17.074151</td>\n",
       "      <td>221.875260</td>\n",
       "      <td>844.092169</td>\n",
       "      <td>0.761594</td>\n",
       "    </tr>\n",
       "    <tr>\n",
       "      <th>1163</th>\n",
       "      <td>17.297656</td>\n",
       "      <td>179.088281</td>\n",
       "      <td>830.907031</td>\n",
       "      <td>0.761594</td>\n",
       "    </tr>\n",
       "  </tbody>\n",
       "</table>\n",
       "</div>"
      ],
      "text/plain": [
       "bodyparts neuron41334                                   \n",
       "coords              z           x           y likelihood\n",
       "1154        17.714404   45.809603  803.128311   0.761594\n",
       "1155        17.434368   89.210024  797.273667   0.761594\n",
       "1156        16.923127  195.759609  809.196743   0.761594\n",
       "1157        16.544801  282.892086  814.283846   0.761594\n",
       "1158        16.699187  299.646341  815.391260   0.761594\n",
       "1159        16.878049  296.252772  822.522173   0.761594\n",
       "1160        16.875261  283.800697  843.716376   0.761594\n",
       "1161        17.330734  254.048083  848.465237   0.761594\n",
       "1162        17.074151  221.875260  844.092169   0.761594\n",
       "1163        17.297656  179.088281  830.907031   0.761594"
      ]
     },
     "execution_count": 6,
     "metadata": {},
     "output_type": "execute_result"
    }
   ],
   "source": [
    "project_data.df_training_tracklets"
   ]
  },
  {
   "cell_type": "code",
   "execution_count": 7,
   "id": "78f60d89-6ba6-4df5-91ab-3007ac01a573",
   "metadata": {},
   "outputs": [],
   "source": [
    "df = project_data.df_all_tracklets"
   ]
  },
  {
   "cell_type": "code",
   "execution_count": 8,
   "id": "f195c6fd-f760-4a58-a3c6-0bfe19cc4a6d",
   "metadata": {},
   "outputs": [
    {
     "data": {
      "text/html": [
       "<div>\n",
       "<style scoped>\n",
       "    .dataframe tbody tr th:only-of-type {\n",
       "        vertical-align: middle;\n",
       "    }\n",
       "\n",
       "    .dataframe tbody tr th {\n",
       "        vertical-align: top;\n",
       "    }\n",
       "\n",
       "    .dataframe thead tr th {\n",
       "        text-align: left;\n",
       "    }\n",
       "</style>\n",
       "<table border=\"1\" class=\"dataframe\">\n",
       "  <thead>\n",
       "    <tr>\n",
       "      <th>bodyparts</th>\n",
       "      <th colspan=\"4\" halign=\"left\">neuron0</th>\n",
       "      <th colspan=\"4\" halign=\"left\">neuron1</th>\n",
       "      <th colspan=\"2\" halign=\"left\">neuron2</th>\n",
       "      <th>...</th>\n",
       "      <th colspan=\"2\" halign=\"left\">neuron53392</th>\n",
       "      <th colspan=\"4\" halign=\"left\">neuron53393</th>\n",
       "      <th colspan=\"4\" halign=\"left\">neuron53394</th>\n",
       "    </tr>\n",
       "    <tr>\n",
       "      <th>coords</th>\n",
       "      <th>z</th>\n",
       "      <th>x</th>\n",
       "      <th>y</th>\n",
       "      <th>likelihood</th>\n",
       "      <th>z</th>\n",
       "      <th>x</th>\n",
       "      <th>y</th>\n",
       "      <th>likelihood</th>\n",
       "      <th>z</th>\n",
       "      <th>x</th>\n",
       "      <th>...</th>\n",
       "      <th>y</th>\n",
       "      <th>likelihood</th>\n",
       "      <th>z</th>\n",
       "      <th>x</th>\n",
       "      <th>y</th>\n",
       "      <th>likelihood</th>\n",
       "      <th>z</th>\n",
       "      <th>x</th>\n",
       "      <th>y</th>\n",
       "      <th>likelihood</th>\n",
       "    </tr>\n",
       "  </thead>\n",
       "  <tbody>\n",
       "    <tr>\n",
       "      <th>0</th>\n",
       "      <td>5.660345</td>\n",
       "      <td>279.918966</td>\n",
       "      <td>418.127586</td>\n",
       "      <td>0.166368</td>\n",
       "      <td>7.202731</td>\n",
       "      <td>333.414916</td>\n",
       "      <td>426.399160</td>\n",
       "      <td>0.106649</td>\n",
       "      <td>7.211518</td>\n",
       "      <td>319.289005</td>\n",
       "      <td>...</td>\n",
       "      <td>NaN</td>\n",
       "      <td>NaN</td>\n",
       "      <td>NaN</td>\n",
       "      <td>NaN</td>\n",
       "      <td>NaN</td>\n",
       "      <td>NaN</td>\n",
       "      <td>NaN</td>\n",
       "      <td>NaN</td>\n",
       "      <td>NaN</td>\n",
       "      <td>NaN</td>\n",
       "    </tr>\n",
       "    <tr>\n",
       "      <th>1</th>\n",
       "      <td>10.238095</td>\n",
       "      <td>198.596120</td>\n",
       "      <td>252.074074</td>\n",
       "      <td>0.514725</td>\n",
       "      <td>6.767978</td>\n",
       "      <td>255.838535</td>\n",
       "      <td>334.919946</td>\n",
       "      <td>0.715013</td>\n",
       "      <td>7.003396</td>\n",
       "      <td>238.960951</td>\n",
       "      <td>...</td>\n",
       "      <td>NaN</td>\n",
       "      <td>NaN</td>\n",
       "      <td>NaN</td>\n",
       "      <td>NaN</td>\n",
       "      <td>NaN</td>\n",
       "      <td>NaN</td>\n",
       "      <td>NaN</td>\n",
       "      <td>NaN</td>\n",
       "      <td>NaN</td>\n",
       "      <td>NaN</td>\n",
       "    </tr>\n",
       "    <tr>\n",
       "      <th>2</th>\n",
       "      <td>10.190883</td>\n",
       "      <td>202.854701</td>\n",
       "      <td>253.915954</td>\n",
       "      <td>0.000000</td>\n",
       "      <td>6.342752</td>\n",
       "      <td>248.229730</td>\n",
       "      <td>337.696560</td>\n",
       "      <td>0.220564</td>\n",
       "      <td>6.903636</td>\n",
       "      <td>233.285455</td>\n",
       "      <td>...</td>\n",
       "      <td>NaN</td>\n",
       "      <td>NaN</td>\n",
       "      <td>NaN</td>\n",
       "      <td>NaN</td>\n",
       "      <td>NaN</td>\n",
       "      <td>NaN</td>\n",
       "      <td>NaN</td>\n",
       "      <td>NaN</td>\n",
       "      <td>NaN</td>\n",
       "      <td>NaN</td>\n",
       "    </tr>\n",
       "    <tr>\n",
       "      <th>3</th>\n",
       "      <td>NaN</td>\n",
       "      <td>NaN</td>\n",
       "      <td>NaN</td>\n",
       "      <td>NaN</td>\n",
       "      <td>8.016667</td>\n",
       "      <td>251.007576</td>\n",
       "      <td>350.295455</td>\n",
       "      <td>0.000000</td>\n",
       "      <td>5.798103</td>\n",
       "      <td>236.638211</td>\n",
       "      <td>...</td>\n",
       "      <td>NaN</td>\n",
       "      <td>NaN</td>\n",
       "      <td>NaN</td>\n",
       "      <td>NaN</td>\n",
       "      <td>NaN</td>\n",
       "      <td>NaN</td>\n",
       "      <td>NaN</td>\n",
       "      <td>NaN</td>\n",
       "      <td>NaN</td>\n",
       "      <td>NaN</td>\n",
       "    </tr>\n",
       "    <tr>\n",
       "      <th>4</th>\n",
       "      <td>NaN</td>\n",
       "      <td>NaN</td>\n",
       "      <td>NaN</td>\n",
       "      <td>NaN</td>\n",
       "      <td>NaN</td>\n",
       "      <td>NaN</td>\n",
       "      <td>NaN</td>\n",
       "      <td>NaN</td>\n",
       "      <td>NaN</td>\n",
       "      <td>NaN</td>\n",
       "      <td>...</td>\n",
       "      <td>NaN</td>\n",
       "      <td>NaN</td>\n",
       "      <td>NaN</td>\n",
       "      <td>NaN</td>\n",
       "      <td>NaN</td>\n",
       "      <td>NaN</td>\n",
       "      <td>NaN</td>\n",
       "      <td>NaN</td>\n",
       "      <td>NaN</td>\n",
       "      <td>NaN</td>\n",
       "    </tr>\n",
       "    <tr>\n",
       "      <th>...</th>\n",
       "      <td>...</td>\n",
       "      <td>...</td>\n",
       "      <td>...</td>\n",
       "      <td>...</td>\n",
       "      <td>...</td>\n",
       "      <td>...</td>\n",
       "      <td>...</td>\n",
       "      <td>...</td>\n",
       "      <td>...</td>\n",
       "      <td>...</td>\n",
       "      <td>...</td>\n",
       "      <td>...</td>\n",
       "      <td>...</td>\n",
       "      <td>...</td>\n",
       "      <td>...</td>\n",
       "      <td>...</td>\n",
       "      <td>...</td>\n",
       "      <td>...</td>\n",
       "      <td>...</td>\n",
       "      <td>...</td>\n",
       "      <td>...</td>\n",
       "    </tr>\n",
       "    <tr>\n",
       "      <th>1494</th>\n",
       "      <td>NaN</td>\n",
       "      <td>NaN</td>\n",
       "      <td>NaN</td>\n",
       "      <td>NaN</td>\n",
       "      <td>NaN</td>\n",
       "      <td>NaN</td>\n",
       "      <td>NaN</td>\n",
       "      <td>NaN</td>\n",
       "      <td>NaN</td>\n",
       "      <td>NaN</td>\n",
       "      <td>...</td>\n",
       "      <td>NaN</td>\n",
       "      <td>NaN</td>\n",
       "      <td>NaN</td>\n",
       "      <td>NaN</td>\n",
       "      <td>NaN</td>\n",
       "      <td>NaN</td>\n",
       "      <td>NaN</td>\n",
       "      <td>NaN</td>\n",
       "      <td>NaN</td>\n",
       "      <td>NaN</td>\n",
       "    </tr>\n",
       "    <tr>\n",
       "      <th>1495</th>\n",
       "      <td>NaN</td>\n",
       "      <td>NaN</td>\n",
       "      <td>NaN</td>\n",
       "      <td>NaN</td>\n",
       "      <td>NaN</td>\n",
       "      <td>NaN</td>\n",
       "      <td>NaN</td>\n",
       "      <td>NaN</td>\n",
       "      <td>NaN</td>\n",
       "      <td>NaN</td>\n",
       "      <td>...</td>\n",
       "      <td>NaN</td>\n",
       "      <td>NaN</td>\n",
       "      <td>NaN</td>\n",
       "      <td>NaN</td>\n",
       "      <td>NaN</td>\n",
       "      <td>NaN</td>\n",
       "      <td>NaN</td>\n",
       "      <td>NaN</td>\n",
       "      <td>NaN</td>\n",
       "      <td>NaN</td>\n",
       "    </tr>\n",
       "    <tr>\n",
       "      <th>1496</th>\n",
       "      <td>NaN</td>\n",
       "      <td>NaN</td>\n",
       "      <td>NaN</td>\n",
       "      <td>NaN</td>\n",
       "      <td>NaN</td>\n",
       "      <td>NaN</td>\n",
       "      <td>NaN</td>\n",
       "      <td>NaN</td>\n",
       "      <td>NaN</td>\n",
       "      <td>NaN</td>\n",
       "      <td>...</td>\n",
       "      <td>389.761290</td>\n",
       "      <td>0.720831</td>\n",
       "      <td>24.197368</td>\n",
       "      <td>266.289474</td>\n",
       "      <td>350.701754</td>\n",
       "      <td>0.247594</td>\n",
       "      <td>21.697744</td>\n",
       "      <td>264.097744</td>\n",
       "      <td>389.206015</td>\n",
       "      <td>0.236089</td>\n",
       "    </tr>\n",
       "    <tr>\n",
       "      <th>1497</th>\n",
       "      <td>NaN</td>\n",
       "      <td>NaN</td>\n",
       "      <td>NaN</td>\n",
       "      <td>NaN</td>\n",
       "      <td>NaN</td>\n",
       "      <td>NaN</td>\n",
       "      <td>NaN</td>\n",
       "      <td>NaN</td>\n",
       "      <td>NaN</td>\n",
       "      <td>NaN</td>\n",
       "      <td>...</td>\n",
       "      <td>396.166090</td>\n",
       "      <td>0.628005</td>\n",
       "      <td>23.145642</td>\n",
       "      <td>281.173165</td>\n",
       "      <td>355.608945</td>\n",
       "      <td>0.529280</td>\n",
       "      <td>23.728856</td>\n",
       "      <td>275.677861</td>\n",
       "      <td>382.752488</td>\n",
       "      <td>0.314322</td>\n",
       "    </tr>\n",
       "    <tr>\n",
       "      <th>1498</th>\n",
       "      <td>NaN</td>\n",
       "      <td>NaN</td>\n",
       "      <td>NaN</td>\n",
       "      <td>NaN</td>\n",
       "      <td>NaN</td>\n",
       "      <td>NaN</td>\n",
       "      <td>NaN</td>\n",
       "      <td>NaN</td>\n",
       "      <td>NaN</td>\n",
       "      <td>NaN</td>\n",
       "      <td>...</td>\n",
       "      <td>401.056954</td>\n",
       "      <td>0.000000</td>\n",
       "      <td>20.920354</td>\n",
       "      <td>288.932743</td>\n",
       "      <td>360.299115</td>\n",
       "      <td>0.000000</td>\n",
       "      <td>25.120983</td>\n",
       "      <td>280.839319</td>\n",
       "      <td>385.992439</td>\n",
       "      <td>0.000000</td>\n",
       "    </tr>\n",
       "  </tbody>\n",
       "</table>\n",
       "<p>1499 rows × 82944 columns</p>\n",
       "</div>"
      ],
      "text/plain": [
       "bodyparts    neuron0                                      neuron1              \\\n",
       "coords             z           x           y likelihood         z           x   \n",
       "0           5.660345  279.918966  418.127586   0.166368  7.202731  333.414916   \n",
       "1          10.238095  198.596120  252.074074   0.514725  6.767978  255.838535   \n",
       "2          10.190883  202.854701  253.915954   0.000000  6.342752  248.229730   \n",
       "3                NaN         NaN         NaN        NaN  8.016667  251.007576   \n",
       "4                NaN         NaN         NaN        NaN       NaN         NaN   \n",
       "...              ...         ...         ...        ...       ...         ...   \n",
       "1494             NaN         NaN         NaN        NaN       NaN         NaN   \n",
       "1495             NaN         NaN         NaN        NaN       NaN         NaN   \n",
       "1496             NaN         NaN         NaN        NaN       NaN         NaN   \n",
       "1497             NaN         NaN         NaN        NaN       NaN         NaN   \n",
       "1498             NaN         NaN         NaN        NaN       NaN         NaN   \n",
       "\n",
       "bodyparts                          neuron2              ... neuron53392  \\\n",
       "coords              y likelihood         z           x  ...           y   \n",
       "0          426.399160   0.106649  7.211518  319.289005  ...         NaN   \n",
       "1          334.919946   0.715013  7.003396  238.960951  ...         NaN   \n",
       "2          337.696560   0.220564  6.903636  233.285455  ...         NaN   \n",
       "3          350.295455   0.000000  5.798103  236.638211  ...         NaN   \n",
       "4                 NaN        NaN       NaN         NaN  ...         NaN   \n",
       "...               ...        ...       ...         ...  ...         ...   \n",
       "1494              NaN        NaN       NaN         NaN  ...         NaN   \n",
       "1495              NaN        NaN       NaN         NaN  ...         NaN   \n",
       "1496              NaN        NaN       NaN         NaN  ...  389.761290   \n",
       "1497              NaN        NaN       NaN         NaN  ...  396.166090   \n",
       "1498              NaN        NaN       NaN         NaN  ...  401.056954   \n",
       "\n",
       "bodyparts            neuron53393                                     \\\n",
       "coords    likelihood           z           x           y likelihood   \n",
       "0                NaN         NaN         NaN         NaN        NaN   \n",
       "1                NaN         NaN         NaN         NaN        NaN   \n",
       "2                NaN         NaN         NaN         NaN        NaN   \n",
       "3                NaN         NaN         NaN         NaN        NaN   \n",
       "4                NaN         NaN         NaN         NaN        NaN   \n",
       "...              ...         ...         ...         ...        ...   \n",
       "1494             NaN         NaN         NaN         NaN        NaN   \n",
       "1495             NaN         NaN         NaN         NaN        NaN   \n",
       "1496        0.720831   24.197368  266.289474  350.701754   0.247594   \n",
       "1497        0.628005   23.145642  281.173165  355.608945   0.529280   \n",
       "1498        0.000000   20.920354  288.932743  360.299115   0.000000   \n",
       "\n",
       "bodyparts neuron53394                                     \n",
       "coords              z           x           y likelihood  \n",
       "0                 NaN         NaN         NaN        NaN  \n",
       "1                 NaN         NaN         NaN        NaN  \n",
       "2                 NaN         NaN         NaN        NaN  \n",
       "3                 NaN         NaN         NaN        NaN  \n",
       "4                 NaN         NaN         NaN        NaN  \n",
       "...               ...         ...         ...        ...  \n",
       "1494              NaN         NaN         NaN        NaN  \n",
       "1495              NaN         NaN         NaN        NaN  \n",
       "1496        21.697744  264.097744  389.206015   0.236089  \n",
       "1497        23.728856  275.677861  382.752488   0.314322  \n",
       "1498        25.120983  280.839319  385.992439   0.000000  \n",
       "\n",
       "[1499 rows x 82944 columns]"
      ]
     },
     "execution_count": 8,
     "metadata": {},
     "output_type": "execute_result"
    }
   ],
   "source": [
    "df"
   ]
  },
  {
   "cell_type": "code",
   "execution_count": 11,
   "id": "27df7eac-2ccb-40fd-8f47-5201000c79dd",
   "metadata": {},
   "outputs": [
    {
     "data": {
      "text/plain": [
       "(array([6.7836e+04, 8.4840e+03, 3.7440e+03, 1.4880e+03, 7.5200e+02,\n",
       "        4.7600e+02, 5.6000e+01, 7.2000e+01, 1.2000e+01, 2.4000e+01]),\n",
       " array([ 3. ,  4.2,  5.4,  6.6,  7.8,  9. , 10.2, 11.4, 12.6, 13.8, 15. ]),\n",
       " <BarContainer object of 10 artists>)"
      ]
     },
     "execution_count": 11,
     "metadata": {},
     "output_type": "execute_result"
    },
    {
     "data": {
      "image/png": "[encoded data removed]",
      "text/plain": [
       "<Figure size 432x288 with 1 Axes>"
      ]
     },
     "metadata": {
      "needs_background": "light"
     },
     "output_type": "display_data"
    }
   ],
   "source": [
    "%matplotlib inline\n",
    "plt.hist(df.count())"
   ]
  },
  {
   "cell_type": "code",
   "execution_count": 12,
   "id": "301a2fe8-e440-4dfb-8288-e9fcb9ecdfee",
   "metadata": {},
   "outputs": [
    {
     "data": {
      "text/plain": [
       "(array([ 62., 312., 466., 331., 156.,  85.,  42.,  14.,  23.,   8.]),\n",
       " array([ 11. ,  24.1,  37.2,  50.3,  63.4,  76.5,  89.6, 102.7, 115.8,\n",
       "        128.9, 142. ]),\n",
       " <BarContainer object of 10 artists>)"
      ]
     },
     "execution_count": 12,
     "metadata": {},
     "output_type": "execute_result"
    },
    {
     "data": {
      "image/png": "[encoded data removed]",
      "text/plain": [
       "<Figure size 432x288 with 1 Axes>"
      ]
     },
     "metadata": {
      "needs_background": "light"
     },
     "output_type": "display_data"
    }
   ],
   "source": [
    "plt.hist(df.count(axis=1)/4.0)"
   ]
  },
  {
   "cell_type": "markdown",
   "id": "6478aa13-9933-49a1-94f2-f8003b16ad1a",
   "metadata": {},
   "source": [
    "# Get multiple templates using training data"
   ]
  },
  {
   "cell_type": "code",
   "execution_count": 8,
   "id": "31d5b37b-6801-4eb4-8d9b-70f3084dc5ab",
   "metadata": {},
   "outputs": [
    {
     "data": {
      "text/plain": [
       "array([[ 17.71623418,  45.81714154, 803.1216552 ]])"
      ]
     },
     "execution_count": 8,
     "metadata": {},
     "output_type": "execute_result"
    }
   ],
   "source": [
    "project_data.get_centroids_as_numpy_training(0)"
   ]
  },
  {
   "cell_type": "code",
   "execution_count": 9,
   "id": "d435bab9-f101-4c59-b7ea-e423a1e64f96",
   "metadata": {},
   "outputs": [
    {
     "data": {
      "text/plain": [
       "array([[ 17.43519699,  89.21272234, 797.28342661]])"
      ]
     },
     "execution_count": 9,
     "metadata": {},
     "output_type": "execute_result"
    }
   ],
   "source": [
    "project_data.get_centroids_as_numpy_training(1)"
   ]
  },
  {
   "cell_type": "code",
   "execution_count": null,
   "id": "32783b1f-58d5-4574-b538-84e5251a16e2",
   "metadata": {},
   "outputs": [],
   "source": []
  },
  {
   "cell_type": "code",
   "execution_count": null,
   "id": "b6ac28df-8732-4f54-a42e-64c8ab15df0d",
   "metadata": {},
   "outputs": [],
   "source": []
  },
  {
   "cell_type": "code",
   "execution_count": null,
   "id": "48179e56-0627-4da3-9eb6-f130b0f759b9",
   "metadata": {},
   "outputs": [],
   "source": []
  },
  {
   "cell_type": "code",
   "execution_count": 48,
   "id": "8fc5f379-85b7-4d6a-a995-1fa3c3c2c017",
   "metadata": {},
   "outputs": [],
   "source": [
    "a = [dict(a='', b='')]"
   ]
  },
  {
   "cell_type": "code",
   "execution_count": 50,
   "id": "e412bbdb-fadf-4cfd-bd81-739ae2379c21",
   "metadata": {},
   "outputs": [
    {
     "data": {
      "text/plain": [
       "[2]"
      ]
     },
     "execution_count": 50,
     "metadata": {},
     "output_type": "execute_result"
    }
   ],
   "source": [
    "list(map(len, a))\n"
   ]
  },
  {
   "cell_type": "code",
   "execution_count": null,
   "id": "6ef19c4f-cfcb-4239-a344-9cb781ab6020",
   "metadata": {},
   "outputs": [],
   "source": []
  }
 ],
 "metadata": {
  "kernelspec": {
   "display_name": "Python 3",
   "language": "python",
   "name": "python3"
  },
  "language_info": {
   "codemirror_mode": {
    "name": "ipython",
    "version": 3
   },
   "file_extension": ".py",
   "mimetype": "text/x-python",
   "name": "python",
   "nbconvert_exporter": "python",
   "pygments_lexer": "ipython3",
   "version": "3.7.11"
  }
 },
 "nbformat": 4,
 "nbformat_minor": 5
}
