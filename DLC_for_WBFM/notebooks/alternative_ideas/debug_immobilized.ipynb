{
 "cells": [
  {
   "cell_type": "code",
   "execution_count": 1,
   "id": "a87f3945",
   "metadata": {},
   "outputs": [],
   "source": [
    "%load_ext autoreload\n",
    "%autoreload 2\n",
    "import matplotlib.pyplot as plt\n",
    "import numpy as np"
   ]
  },
  {
   "cell_type": "code",
   "execution_count": 2,
   "id": "6cf46af6",
   "metadata": {},
   "outputs": [
    {
     "name": "stderr",
     "output_type": "stream",
     "text": [
      "WARNING:root:Did not find file /scratch/zimmer/Charles/dlc_stacks/immobilized-2021_10_25/4-traces/red_traces.h5\n",
      "WARNING:root:Did not find file /scratch/zimmer/Charles/dlc_stacks/immobilized-2021_10_25/4-traces/green_traces.h5\n",
      "WARNING:root:Did not find file /scratch/zimmer/Charles/dlc_stacks/immobilized-2021_10_25/2-training_data/training_data_tracks.h5\n",
      "WARNING:root:Did not find file /scratch/zimmer/Charles/dlc_stacks/immobilized-2021_10_25/2-training_data/reindexed_masks.zarr\n",
      "WARNING:root:Did not find file /scratch/zimmer/Charles/dlc_stacks/immobilized-2021_10_25/4-traces/reindexed_masks.zarr\n",
      "WARNING:root:Did not find file /scratch/zimmer/Charles/dlc_stacks/immobilized-2021_10_25/3-tracking/postprocessing/manual_behavior_annotation.xlsx\n"
     ]
    },
    {
     "name": "stdout",
     "output_type": "stream",
     "text": [
      "=======================================\n",
      "Project data for directory:\n",
      "/scratch/zimmer/Charles/dlc_stacks/immobilized-2021_10_25 \n",
      "=======================================\n",
      "Found the following raw data files:\n",
      "red_data: True\n",
      "green_data: True\n",
      "============Segmentation===============\n",
      "raw_segmentation: True\n",
      "segmentation: False\n",
      "============Tracklets==================\n",
      "df_training_tracklets: False\n",
      "reindexed_masks_training: False\n",
      "============Traces=====================\n",
      "red_traces: False\n",
      "green_traces: False\n",
      "final_tracks: True\n",
      "behavior_annotations: False\n",
      "\n"
     ]
    }
   ],
   "source": [
    "from DLC_for_WBFM.utils.projects.finished_project_data import ProjectData\n",
    "fname = \"/scratch/zimmer/Charles/dlc_stacks/immobilized-2021_10_25/project_config.yaml\"\n",
    "project_data = ProjectData.load_final_project_data_from_config(fname)"
   ]
  },
  {
   "cell_type": "markdown",
   "id": "d808af24",
   "metadata": {},
   "source": [
    "# Look at final tracks"
   ]
  },
  {
   "cell_type": "code",
   "execution_count": null,
   "id": "fd54de03",
   "metadata": {},
   "outputs": [],
   "source": [
    "df = project_data.final_tracks"
   ]
  },
  {
   "cell_type": "code",
   "execution_count": null,
   "id": "feeb4c5c",
   "metadata": {},
   "outputs": [],
   "source": [
    "dat = df['neuron_030']\n",
    "dat.head()"
   ]
  },
  {
   "cell_type": "code",
   "execution_count": null,
   "id": "3bc2eeff",
   "metadata": {},
   "outputs": [],
   "source": [
    "%matplotlib widget\n",
    "plt.plot(dat['likelihood'])"
   ]
  },
  {
   "cell_type": "code",
   "execution_count": 16,
   "id": "94cbbd9a",
   "metadata": {
    "scrolled": false
   },
   "outputs": [
    {
     "data": {
      "text/plain": [
       "[<matplotlib.lines.Line2D at 0x7fdeafa8f1d0>]"
      ]
     },
     "execution_count": 16,
     "metadata": {},
     "output_type": "execute_result"
    },
    {
     "data": {
      "application/vnd.jupyter.widget-view+json": {
       "model_id": "94a9e00825d4481e8c303ae7c385bec1",
       "version_major": 2,
       "version_minor": 0
      },
      "image/png": "[encoded data removed]",
      "text/plain": [
       "Canvas(toolbar=Toolbar(toolitems=[('Home', 'Reset original view', 'home', 'home'), ('Back', 'Back to previous …"
      ]
     },
     "metadata": {},
     "output_type": "display_data"
    }
   ],
   "source": [
    "%matplotlib widget\n",
    "plt.plot(dat['x'], dat['y'], 'o')"
   ]
  },
  {
   "cell_type": "markdown",
   "id": "ac12f3e7-3d80-48d3-b467-b62146fc820f",
   "metadata": {},
   "source": [
    "# Look at matches on one frame transition"
   ]
  },
  {
   "cell_type": "code",
   "execution_count": 17,
   "id": "7aad16f2-19dc-4100-a663-dcc1bda1ef0b",
   "metadata": {
    "scrolled": true
   },
   "outputs": [
    {
     "data": {
      "text/plain": [
       "Viewer(axes=Axes(visible=False, labels=True, colored=True, dashed=False, arrows=True), camera=Camera(center=(16.0, 66.0, 166.0), zoom=9.809469696969696, angles=(0.0, 0.0, 90.0), perspective=0.0, interactive=True), cursor=Cursor(position=(1.0, 1.0, 0.0, 0.0), scaled=True, size=1, style=<CursorStyle.STANDARD: 'standard'>), dims=Dims(ndim=4, ndisplay=3, last_used=3, range=((0.0, 1.0, 1.0), (0.0, 32.0, 1.0), (0.0, 132.0, 1.0), (0.0, 332.0, 1.0)), current_step=(0, 0, 0, 0), order=(0, 1, 2, 3), axis_labels=('0', '1', '2', '3')), grid=GridCanvas(stride=1, shape=(-1, -1), enabled=False), layers=[<Image layer 'raw_red_data' at 0x7fde60d97110>, <Points layer 'n0_zxy_raw' at 0x7fdeac2ab050>, <Points layer 'n1_zxy_raw' at 0x7fde5edf63d0>, <Tracks layer 'final_matches' at 0x7fde5efd7450>, <Points layer 'Raw IDs' at 0x7fde5e095ad0>], scale_bar=ScaleBar(visible=False, colored=False, ticks=True, position=<Position.BOTTOM_RIGHT: 'bottom_right'>, font_size=10.0, unit=None), text_overlay=TextOverlay(visible=False, color=array([0.5, 0.5, 0.5, 1. ]), font_size=10.0, position=<TextOverlayPosition.TOP_LEFT: 'top_left'>, text=''), help='', status='Ready', tooltip=Tooltip(visible=False, text=''), theme='dark', title='napari', mouse_move_callbacks=[], mouse_drag_callbacks=[], mouse_double_click_callbacks=[], mouse_wheel_callbacks=[<function dims_scroll at 0x7fdeb081d5f0>], _persisted_mouse_event={}, _mouse_drag_gen={}, _mouse_wheel_gen={}, keymap={'Control-Shift-C': <bound method QtViewer.toggle_console_visibility of <napari._qt.qt_viewer.QtViewer object at 0x7fde7aee12d0>>})"
      ]
     },
     "execution_count": 17,
     "metadata": {},
     "output_type": "execute_result"
    },
    {
     "name": "stderr",
     "output_type": "stream",
     "text": [
      "ERROR:tornado.general:Uncaught exception in ZMQStream callback\n",
      "Traceback (most recent call last):\n",
      "  File \"/home/charles/anaconda3/envs/segmentation/lib/python3.7/site-packages/zmq/eventloop/zmqstream.py\", line 431, in _run_callback\n",
      "    callback(*args, **kwargs)\n",
      "  File \"/home/charles/anaconda3/envs/segmentation/lib/python3.7/site-packages/jupyter_client/threaded.py\", line 121, in _handle_recv\n",
      "    msg_list = self.ioloop._asyncio_event_loop.run_until_complete(get_msg(future_msg))\n",
      "  File \"/home/charles/anaconda3/envs/segmentation/lib/python3.7/asyncio/base_events.py\", line 563, in run_until_complete\n",
      "    self._check_runnung()\n",
      "  File \"/home/charles/anaconda3/envs/segmentation/lib/python3.7/asyncio/base_events.py\", line 526, in _check_runnung\n",
      "    'Cannot run the event loop while another loop is running')\n",
      "RuntimeError: Cannot run the event loop while another loop is running\n",
      "ERROR:tornado.general:Uncaught exception in zmqstream callback\n",
      "Traceback (most recent call last):\n",
      "  File \"/home/charles/anaconda3/envs/segmentation/lib/python3.7/site-packages/zmq/eventloop/zmqstream.py\", line 448, in _handle_events\n",
      "    self._handle_recv()\n",
      "  File \"/home/charles/anaconda3/envs/segmentation/lib/python3.7/site-packages/zmq/eventloop/zmqstream.py\", line 477, in _handle_recv\n",
      "    self._run_callback(callback, msg)\n",
      "  File \"/home/charles/anaconda3/envs/segmentation/lib/python3.7/site-packages/zmq/eventloop/zmqstream.py\", line 431, in _run_callback\n",
      "    callback(*args, **kwargs)\n",
      "  File \"/home/charles/anaconda3/envs/segmentation/lib/python3.7/site-packages/jupyter_client/threaded.py\", line 121, in _handle_recv\n",
      "    msg_list = self.ioloop._asyncio_event_loop.run_until_complete(get_msg(future_msg))\n",
      "  File \"/home/charles/anaconda3/envs/segmentation/lib/python3.7/asyncio/base_events.py\", line 563, in run_until_complete\n",
      "    self._check_runnung()\n",
      "  File \"/home/charles/anaconda3/envs/segmentation/lib/python3.7/asyncio/base_events.py\", line 526, in _check_runnung\n",
      "    'Cannot run the event loop while another loop is running')\n",
      "RuntimeError: Cannot run the event loop while another loop is running\n",
      "ERROR:asyncio:Exception in callback BaseAsyncIOLoop._handle_events(144, 1)\n",
      "handle: <Handle BaseAsyncIOLoop._handle_events(144, 1)>\n",
      "Traceback (most recent call last):\n",
      "  File \"/home/charles/anaconda3/envs/segmentation/lib/python3.7/asyncio/events.py\", line 88, in _run\n",
      "    self._context.run(self._callback, *self._args)\n",
      "  File \"/home/charles/anaconda3/envs/segmentation/lib/python3.7/site-packages/tornado/platform/asyncio.py\", line 189, in _handle_events\n",
      "    handler_func(fileobj, events)\n",
      "  File \"/home/charles/anaconda3/envs/segmentation/lib/python3.7/site-packages/zmq/eventloop/zmqstream.py\", line 448, in _handle_events\n",
      "    self._handle_recv()\n",
      "  File \"/home/charles/anaconda3/envs/segmentation/lib/python3.7/site-packages/zmq/eventloop/zmqstream.py\", line 477, in _handle_recv\n",
      "    self._run_callback(callback, msg)\n",
      "  File \"/home/charles/anaconda3/envs/segmentation/lib/python3.7/site-packages/zmq/eventloop/zmqstream.py\", line 431, in _run_callback\n",
      "    callback(*args, **kwargs)\n",
      "  File \"/home/charles/anaconda3/envs/segmentation/lib/python3.7/site-packages/jupyter_client/threaded.py\", line 121, in _handle_recv\n",
      "    msg_list = self.ioloop._asyncio_event_loop.run_until_complete(get_msg(future_msg))\n",
      "  File \"/home/charles/anaconda3/envs/segmentation/lib/python3.7/asyncio/base_events.py\", line 563, in run_until_complete\n",
      "    self._check_runnung()\n",
      "  File \"/home/charles/anaconda3/envs/segmentation/lib/python3.7/asyncio/base_events.py\", line 526, in _check_runnung\n",
      "    'Cannot run the event loop while another loop is running')\n",
      "RuntimeError: Cannot run the event loop while another loop is running\n"
     ]
    }
   ],
   "source": [
    "pair = (1984, 1985)\n",
    "project_data.napari_of_single_match(pair)"
   ]
  },
  {
   "cell_type": "code",
   "execution_count": 18,
   "id": "d32d73ef-7ce0-4a49-8d13-e58cbef0c8aa",
   "metadata": {},
   "outputs": [],
   "source": [
    "m = project_data.raw_matches[pair]"
   ]
  },
  {
   "cell_type": "code",
   "execution_count": 21,
   "id": "391e44f0-5487-4248-9490-89e67b9c73d8",
   "metadata": {},
   "outputs": [],
   "source": [
    "# m.print_reason_for_all_final_matches()"
   ]
  },
  {
   "cell_type": "markdown",
   "id": "746c5bb3-f0ab-443b-b108-0ad3705b3b73",
   "metadata": {},
   "source": [
    "# Look at raw fdnc tracks"
   ]
  },
  {
   "cell_type": "code",
   "execution_count": 3,
   "id": "49e96165-71a9-49ef-a35d-324beaaa9f29",
   "metadata": {},
   "outputs": [],
   "source": [
    "df_fdnc = project_data.df_fdnc_tracks"
   ]
  },
  {
   "cell_type": "code",
   "execution_count": 99,
   "id": "be9473c1-6536-4893-b3b4-aaff706d7f64",
   "metadata": {},
   "outputs": [],
   "source": [
    "dat = df_fdnc['neuron_014']"
   ]
  },
  {
   "cell_type": "code",
   "execution_count": 100,
   "id": "1b4e1187-2fdd-4975-a7c3-2cac3a8ddd9c",
   "metadata": {},
   "outputs": [
    {
     "data": {
      "text/plain": [
       "[<matplotlib.lines.Line2D at 0x2b24eb92fd90>]"
      ]
     },
     "execution_count": 100,
     "metadata": {},
     "output_type": "execute_result"
    },
    {
     "data": {
      "image/png": "[encoded data removed]",
      "text/plain": [
       "<Figure size 1080x360 with 1 Axes>"
      ]
     },
     "metadata": {
      "needs_background": "light"
     },
     "output_type": "display_data"
    }
   ],
   "source": [
    "# %matplotlib inline\n",
    "plt.figure(figsize=(15,5))\n",
    "plt.plot(dat['likelihood'], 'o')"
   ]
  },
  {
   "cell_type": "code",
   "execution_count": 101,
   "id": "60cf55e0",
   "metadata": {},
   "outputs": [
    {
     "data": {
      "text/plain": [
       "(array([4.90059471, 0.        , 0.21558172, 0.25114159, 0.2466966 ,\n",
       "        0.2200267 , 0.25558657, 0.34670874, 0.7712047 , 2.79367236]),\n",
       " array([0.        , 0.09998786, 0.19997573, 0.29996359, 0.39995146,\n",
       "        0.49993932, 0.59992719, 0.69991505, 0.79990292, 0.89989078,\n",
       "        0.99987864]),\n",
       " <a list of 10 Patch objects>)"
      ]
     },
     "execution_count": 101,
     "metadata": {},
     "output_type": "execute_result"
    },
    {
     "data": {
      "image/png": "[encoded data removed]",
      "text/plain": [
       "<Figure size 432x288 with 1 Axes>"
      ]
     },
     "metadata": {
      "needs_background": "light"
     },
     "output_type": "display_data"
    }
   ],
   "source": [
    "plt.hist(dat['likelihood'], density=True)"
   ]
  },
  {
   "cell_type": "code",
   "execution_count": 102,
   "id": "610e346e-1f63-4f4c-b424-ecced17f29f4",
   "metadata": {},
   "outputs": [
    {
     "data": {
      "text/plain": [
       "[<matplotlib.lines.Line2D at 0x2b24eba1c2d0>]"
      ]
     },
     "execution_count": 102,
     "metadata": {},
     "output_type": "execute_result"
    },
    {
     "data": {
      "image/png": "[encoded data removed]",
      "text/plain": [
       "<Figure size 1080x360 with 1 Axes>"
      ]
     },
     "metadata": {
      "needs_background": "light"
     },
     "output_type": "display_data"
    }
   ],
   "source": [
    "%matplotlib inline\n",
    "plt.figure(figsize=(15,5))\n",
    "dat['likelihood'].replace(0.0, np.nan, inplace=True)\n",
    "plt.plot(dat['likelihood'].rolling(7, min_periods=1, center=True).mean())"
   ]
  },
  {
   "cell_type": "code",
   "execution_count": 103,
   "id": "0062e0f3-e28a-4923-a377-be987ed8ac49",
   "metadata": {},
   "outputs": [
    {
     "data": {
      "text/plain": [
       "<matplotlib.colorbar.Colorbar at 0x2b24ebac3590>"
      ]
     },
     "execution_count": 103,
     "metadata": {},
     "output_type": "execute_result"
    },
    {
     "data": {
      "image/png": "[encoded data removed]",
      "text/plain": [
       "<Figure size 1080x360 with 2 Axes>"
      ]
     },
     "metadata": {
      "needs_background": "light"
     },
     "output_type": "display_data"
    }
   ],
   "source": [
    "%matplotlib inline\n",
    "plt.figure(figsize=(15,5))\n",
    "plt.scatter(dat['x'], dat['y'], c=dat['likelihood'])\n",
    "plt.colorbar()"
   ]
  },
  {
   "cell_type": "markdown",
   "id": "2e628949-2549-43d3-baf9-5b49d70234a3",
   "metadata": {},
   "source": [
    "# Look at tracklets"
   ]
  },
  {
   "cell_type": "code",
   "execution_count": 29,
   "id": "5b60facb-6bb4-4482-87a5-52c3b8feb2cd",
   "metadata": {},
   "outputs": [],
   "source": [
    "df_tracklets = project_data.df_all_tracklets"
   ]
  },
  {
   "cell_type": "code",
   "execution_count": 35,
   "id": "81206de2-9c46-4af3-98d5-cdcd665dcbf3",
   "metadata": {},
   "outputs": [
    {
     "data": {
      "text/html": [
       "<div>\n",
       "<style scoped>\n",
       "    .dataframe tbody tr th:only-of-type {\n",
       "        vertical-align: middle;\n",
       "    }\n",
       "\n",
       "    .dataframe tbody tr th {\n",
       "        vertical-align: top;\n",
       "    }\n",
       "\n",
       "    .dataframe thead th {\n",
       "        text-align: right;\n",
       "    }\n",
       "</style>\n",
       "<table border=\"1\" class=\"dataframe\">\n",
       "  <thead>\n",
       "    <tr style=\"text-align: right;\">\n",
       "      <th>coords</th>\n",
       "      <th>z</th>\n",
       "      <th>x</th>\n",
       "      <th>y</th>\n",
       "      <th>likelihood</th>\n",
       "    </tr>\n",
       "  </thead>\n",
       "  <tbody>\n",
       "    <tr>\n",
       "      <th>0</th>\n",
       "      <td>6.080020</td>\n",
       "      <td>69.302966</td>\n",
       "      <td>159.701721</td>\n",
       "      <td>0.912546</td>\n",
       "    </tr>\n",
       "    <tr>\n",
       "      <th>1</th>\n",
       "      <td>6.161319</td>\n",
       "      <td>69.226898</td>\n",
       "      <td>159.728756</td>\n",
       "      <td>0.892547</td>\n",
       "    </tr>\n",
       "    <tr>\n",
       "      <th>2</th>\n",
       "      <td>6.129887</td>\n",
       "      <td>69.281279</td>\n",
       "      <td>159.751170</td>\n",
       "      <td>0.958359</td>\n",
       "    </tr>\n",
       "    <tr>\n",
       "      <th>3</th>\n",
       "      <td>6.132883</td>\n",
       "      <td>69.245238</td>\n",
       "      <td>159.839365</td>\n",
       "      <td>0.918087</td>\n",
       "    </tr>\n",
       "    <tr>\n",
       "      <th>4</th>\n",
       "      <td>5.894877</td>\n",
       "      <td>69.396359</td>\n",
       "      <td>160.036186</td>\n",
       "      <td>0.878171</td>\n",
       "    </tr>\n",
       "    <tr>\n",
       "      <th>5</th>\n",
       "      <td>6.324737</td>\n",
       "      <td>69.262881</td>\n",
       "      <td>159.862763</td>\n",
       "      <td>0.767576</td>\n",
       "    </tr>\n",
       "    <tr>\n",
       "      <th>6</th>\n",
       "      <td>6.076518</td>\n",
       "      <td>69.215286</td>\n",
       "      <td>159.860632</td>\n",
       "      <td>0.947029</td>\n",
       "    </tr>\n",
       "    <tr>\n",
       "      <th>7</th>\n",
       "      <td>6.155495</td>\n",
       "      <td>69.270243</td>\n",
       "      <td>159.777132</td>\n",
       "      <td>0.000000</td>\n",
       "    </tr>\n",
       "    <tr>\n",
       "      <th>8</th>\n",
       "      <td>NaN</td>\n",
       "      <td>NaN</td>\n",
       "      <td>NaN</td>\n",
       "      <td>NaN</td>\n",
       "    </tr>\n",
       "    <tr>\n",
       "      <th>9</th>\n",
       "      <td>NaN</td>\n",
       "      <td>NaN</td>\n",
       "      <td>NaN</td>\n",
       "      <td>NaN</td>\n",
       "    </tr>\n",
       "  </tbody>\n",
       "</table>\n",
       "</div>"
      ],
      "text/plain": [
       "coords         z          x           y  likelihood\n",
       "0       6.080020  69.302966  159.701721    0.912546\n",
       "1       6.161319  69.226898  159.728756    0.892547\n",
       "2       6.129887  69.281279  159.751170    0.958359\n",
       "3       6.132883  69.245238  159.839365    0.918087\n",
       "4       5.894877  69.396359  160.036186    0.878171\n",
       "5       6.324737  69.262881  159.862763    0.767576\n",
       "6       6.076518  69.215286  159.860632    0.947029\n",
       "7       6.155495  69.270243  159.777132    0.000000\n",
       "8            NaN        NaN         NaN         NaN\n",
       "9            NaN        NaN         NaN         NaN"
      ]
     },
     "execution_count": 35,
     "metadata": {},
     "output_type": "execute_result"
    }
   ],
   "source": [
    "df_tracklets['neuron0'][:10]"
   ]
  },
  {
   "cell_type": "code",
   "execution_count": 68,
   "id": "9839f020-e3ca-4223-874a-53cd740e429c",
   "metadata": {},
   "outputs": [],
   "source": [
    "pair = (7,8)"
   ]
  },
  {
   "cell_type": "code",
   "execution_count": 36,
   "id": "116a6fc6-784c-4cb8-9bfa-f0dec6ab2fdc",
   "metadata": {},
   "outputs": [
    {
     "data": {
      "text/plain": [
       "Viewer(axes=Axes(visible=False, labels=True, colored=True, dashed=False, arrows=True), camera=Camera(center=(16.0, 66.0, 166.0), zoom=9.809469696969696, angles=(0.0, 0.0, 90.0), perspective=0.0, interactive=True), cursor=Cursor(position=(1.0, 1.0, 0.0, 0.0), scaled=True, size=1, style=<CursorStyle.STANDARD: 'standard'>), dims=Dims(ndim=4, ndisplay=3, last_used=3, range=((0.0, 1.0, 1.0), (0.0, 32.0, 1.0), (0.0, 132.0, 1.0), (0.0, 332.0, 1.0)), current_step=(0, 0, 0, 0), order=(0, 1, 2, 3), axis_labels=('0', '1', '2', '3')), grid=GridCanvas(stride=1, shape=(-1, -1), enabled=False), layers=[<Image layer 'raw_red_data' at 0x7fde45926610>, <Points layer 'n0_zxy_raw' at 0x7fde42b83090>, <Points layer 'n1_zxy_raw' at 0x7fde45b64cd0>, <Tracks layer 'final_matches' at 0x7fde3e9e0210>, <Points layer 'Raw IDs' at 0x7fde3e03d650>], scale_bar=ScaleBar(visible=False, colored=False, ticks=True, position=<Position.BOTTOM_RIGHT: 'bottom_right'>, font_size=10.0, unit=None), text_overlay=TextOverlay(visible=False, color=array([0.5, 0.5, 0.5, 1. ]), font_size=10.0, position=<TextOverlayPosition.TOP_LEFT: 'top_left'>, text=''), help='', status='Ready', tooltip=Tooltip(visible=False, text=''), theme='dark', title='napari', mouse_move_callbacks=[], mouse_drag_callbacks=[], mouse_double_click_callbacks=[], mouse_wheel_callbacks=[<function dims_scroll at 0x7fdeb081d5f0>], _persisted_mouse_event={}, _mouse_drag_gen={}, _mouse_wheel_gen={}, keymap={'Control-Shift-C': <bound method QtViewer.toggle_console_visibility of <napari._qt.qt_viewer.QtViewer object at 0x7fde64616b90>>})"
      ]
     },
     "execution_count": 36,
     "metadata": {},
     "output_type": "execute_result"
    },
    {
     "name": "stderr",
     "output_type": "stream",
     "text": [
      "ERROR:tornado.general:Uncaught exception in ZMQStream callback\n",
      "Traceback (most recent call last):\n",
      "  File \"/home/charles/anaconda3/envs/segmentation/lib/python3.7/site-packages/zmq/eventloop/zmqstream.py\", line 431, in _run_callback\n",
      "    callback(*args, **kwargs)\n",
      "  File \"/home/charles/anaconda3/envs/segmentation/lib/python3.7/site-packages/jupyter_client/threaded.py\", line 121, in _handle_recv\n",
      "    msg_list = self.ioloop._asyncio_event_loop.run_until_complete(get_msg(future_msg))\n",
      "  File \"/home/charles/anaconda3/envs/segmentation/lib/python3.7/asyncio/base_events.py\", line 563, in run_until_complete\n",
      "    self._check_runnung()\n",
      "  File \"/home/charles/anaconda3/envs/segmentation/lib/python3.7/asyncio/base_events.py\", line 526, in _check_runnung\n",
      "    'Cannot run the event loop while another loop is running')\n",
      "RuntimeError: Cannot run the event loop while another loop is running\n",
      "ERROR:tornado.general:Uncaught exception in zmqstream callback\n",
      "Traceback (most recent call last):\n",
      "  File \"/home/charles/anaconda3/envs/segmentation/lib/python3.7/site-packages/zmq/eventloop/zmqstream.py\", line 448, in _handle_events\n",
      "    self._handle_recv()\n",
      "  File \"/home/charles/anaconda3/envs/segmentation/lib/python3.7/site-packages/zmq/eventloop/zmqstream.py\", line 477, in _handle_recv\n",
      "    self._run_callback(callback, msg)\n",
      "  File \"/home/charles/anaconda3/envs/segmentation/lib/python3.7/site-packages/zmq/eventloop/zmqstream.py\", line 431, in _run_callback\n",
      "    callback(*args, **kwargs)\n",
      "  File \"/home/charles/anaconda3/envs/segmentation/lib/python3.7/site-packages/jupyter_client/threaded.py\", line 121, in _handle_recv\n",
      "    msg_list = self.ioloop._asyncio_event_loop.run_until_complete(get_msg(future_msg))\n",
      "  File \"/home/charles/anaconda3/envs/segmentation/lib/python3.7/asyncio/base_events.py\", line 563, in run_until_complete\n",
      "    self._check_runnung()\n",
      "  File \"/home/charles/anaconda3/envs/segmentation/lib/python3.7/asyncio/base_events.py\", line 526, in _check_runnung\n",
      "    'Cannot run the event loop while another loop is running')\n",
      "RuntimeError: Cannot run the event loop while another loop is running\n",
      "ERROR:asyncio:Exception in callback BaseAsyncIOLoop._handle_events(174, 1)\n",
      "handle: <Handle BaseAsyncIOLoop._handle_events(174, 1)>\n",
      "Traceback (most recent call last):\n",
      "  File \"/home/charles/anaconda3/envs/segmentation/lib/python3.7/asyncio/events.py\", line 88, in _run\n",
      "    self._context.run(self._callback, *self._args)\n",
      "  File \"/home/charles/anaconda3/envs/segmentation/lib/python3.7/site-packages/tornado/platform/asyncio.py\", line 189, in _handle_events\n",
      "    handler_func(fileobj, events)\n",
      "  File \"/home/charles/anaconda3/envs/segmentation/lib/python3.7/site-packages/zmq/eventloop/zmqstream.py\", line 448, in _handle_events\n",
      "    self._handle_recv()\n",
      "  File \"/home/charles/anaconda3/envs/segmentation/lib/python3.7/site-packages/zmq/eventloop/zmqstream.py\", line 477, in _handle_recv\n",
      "    self._run_callback(callback, msg)\n",
      "  File \"/home/charles/anaconda3/envs/segmentation/lib/python3.7/site-packages/zmq/eventloop/zmqstream.py\", line 431, in _run_callback\n",
      "    callback(*args, **kwargs)\n",
      "  File \"/home/charles/anaconda3/envs/segmentation/lib/python3.7/site-packages/jupyter_client/threaded.py\", line 121, in _handle_recv\n",
      "    msg_list = self.ioloop._asyncio_event_loop.run_until_complete(get_msg(future_msg))\n",
      "  File \"/home/charles/anaconda3/envs/segmentation/lib/python3.7/asyncio/base_events.py\", line 563, in run_until_complete\n",
      "    self._check_runnung()\n",
      "  File \"/home/charles/anaconda3/envs/segmentation/lib/python3.7/asyncio/base_events.py\", line 526, in _check_runnung\n",
      "    'Cannot run the event loop while another loop is running')\n",
      "RuntimeError: Cannot run the event loop while another loop is running\n"
     ]
    }
   ],
   "source": [
    "project_data.napari_of_single_match(pair)"
   ]
  },
  {
   "cell_type": "code",
   "execution_count": 69,
   "id": "c6534cca-0993-4298-b426-ee2e0e2107a0",
   "metadata": {},
   "outputs": [],
   "source": [
    "m = project_data.raw_matches[pair]"
   ]
  },
  {
   "cell_type": "code",
   "execution_count": 71,
   "id": "1e3fb00d-57bc-45e4-b939-3b4fd81e710f",
   "metadata": {},
   "outputs": [],
   "source": [
    "# m.print_reason_for_match((0,0))"
   ]
  },
  {
   "cell_type": "code",
   "execution_count": 72,
   "id": "b85358ed-fe3f-48d7-be9f-3773a6aaa567",
   "metadata": {},
   "outputs": [
    {
     "data": {
      "text/plain": [
       "[(2, 1, 0.6775051995612745),\n",
       " (3, 3, 0.6783416131091446),\n",
       " (4, 5, 0.5434417878487712),\n",
       " (5, 6, 0.6106734896863842),\n",
       " (6, 2, 0.6235570994755707),\n",
       " (7, 7, 0.6386861630463097),\n",
       " (8, 10, 0.6185830622898157),\n",
       " (9, 9, 0.6463615664003777),\n",
       " (10, 8, 0.9438189830569902),\n",
       " (11, 12, 0.6056564245307297),\n",
       " (12, 13, 0.5512497103658227),\n",
       " (13, 14, 0.9356048807998871),\n",
       " (14, 11, 0.5788599399854687),\n",
       " (15, 15, 0.6485232573995627),\n",
       " (16, 16, 0.9659481911177741),\n",
       " (17, 17, 0.6096923090426637),\n",
       " (18, 20, 0.9440843331421043),\n",
       " (19, 18, 0.9466795032058861),\n",
       " (20, 19, 0.9658820456474688),\n",
       " (21, 21, 0.7085164807787749),\n",
       " (22, 22, 0.9137242628757578),\n",
       " (23, 23, 0.6726124058269928),\n",
       " (24, 25, 0.549021689195078),\n",
       " (25, 24, 0.970153219316059),\n",
       " (26, 27, 0.9482295893290612),\n",
       " (27, 26, 0.9424537580565131),\n",
       " (28, 28, 0.9690735113242459),\n",
       " (29, 30, 0.6709353069278541),\n",
       " (30, 31, 0.9415835184072386),\n",
       " (31, 29, 0.9173058505263841),\n",
       " (32, 33, 0.7585878212324584),\n",
       " (33, 32, 0.5911659908145263),\n",
       " (34, 34, 0.6068259659439669),\n",
       " (35, 35, 0.968317091364149),\n",
       " (36, 36, 0.9555958850581574),\n",
       " (37, 37, 0.599204753413558),\n",
       " (38, 39, 0.6657041215336822),\n",
       " (39, 38, 0.7597303675988362),\n",
       " (40, 41, 0.6421147038774815),\n",
       " (41, 40, 0.6407597790556584),\n",
       " (42, 43, 0.4758039948906067),\n",
       " (44, 44, 0.6876766103744545),\n",
       " (45, 46, 0.9727305937761934),\n",
       " (46, 45, 0.9751933370482364),\n",
       " (47, 48, 0.4371512168670435),\n",
       " (49, 47, 0.445852286203295),\n",
       " (50, 49, 0.971242076696583),\n",
       " (51, 51, 0.7744813249694733),\n",
       " (52, 52, 0.747880733424063),\n",
       " (53, 53, 0.6199832819572105),\n",
       " (54, 54, 0.6854964239094085),\n",
       " (55, 55, 0.7469772351801807),\n",
       " (56, 56, 0.7554294730064759),\n",
       " (57, 57, 0.48238653589617836),\n",
       " (58, 58, 0.7622249631423257),\n",
       " (59, 59, 0.6179383049802951),\n",
       " (60, 62, 0.9754398769220347),\n",
       " (61, 60, 0.6503720010462894),\n",
       " (63, 63, 0.9773625226043675),\n",
       " (64, 64, 0.4505224975441267),\n",
       " (65, 65, 0.7425129430433869),\n",
       " (66, 66, 0.9465186203277164),\n",
       " (67, 68, 0.9902107603349167),\n",
       " (68, 67, 0.6766073233866402),\n",
       " (69, 69, 0.9884892292767958),\n",
       " (70, 70, 0.9824730804930616),\n",
       " (71, 71, 0.740082566298313),\n",
       " (72, 72, 0.6735675638340733),\n",
       " (74, 73, 0.7247267325356123),\n",
       " (75, 75, 0.6567867468047993),\n",
       " (76, 78, 0.9866349652716623),\n",
       " (77, 76, 0.42940190871754097),\n",
       " (78, 77, 0.9634039816757145),\n",
       " (79, 79, 0.9624107506150629),\n",
       " (80, 82, 0.8632769236744846),\n",
       " (81, 83, 0.958479252425638),\n",
       " (82, 81, 0.8967226838626006),\n",
       " (83, 86, 0.6155069277255177),\n",
       " (85, 84, 0.6950784214627932),\n",
       " (86, 91, 0.9123428288428566),\n",
       " (87, 88, 0.7278015517064814),\n",
       " (88, 85, 0.6227813111317082),\n",
       " (89, 93, 0.9612062538743268),\n",
       " (90, 92, 0.7880944684663229),\n",
       " (91, 87, 0.7183826553722809),\n",
       " (92, 90, 0.9608406326809065),\n",
       " (93, 94, 0.6810185692305631),\n",
       " (94, 95, 0.8762766969781357),\n",
       " (95, 96, 0.91073906439713),\n",
       " (97, 104, 0.44312203049327775),\n",
       " (98, 106, 0.43406130210274096),\n",
       " (99, 100, 0.9474841124183114),\n",
       " (100, 98, 0.7157398864365422),\n",
       " (101, 99, 0.6373004359190488),\n",
       " (102, 103, 0.6588767784211188),\n",
       " (103, 102, 0.9158157353170027),\n",
       " (104, 105, 0.9555996882663123),\n",
       " (105, 108, 0.6015948149612109),\n",
       " (106, 101, 0.6643653414953982),\n",
       " (108, 110, 0.7182684087067895),\n",
       " (109, 109, 0.8693559065191006),\n",
       " (110, 114, 0.9484052674476046),\n",
       " (111, 111, 0.9497966330064307),\n",
       " (112, 113, 0.9359442536435373),\n",
       " (113, 115, 0.45896802640846107),\n",
       " (114, 112, 0.630756866564786),\n",
       " (115, 118, 0.580881194173667),\n",
       " (116, 116, 0.6546369745802805),\n",
       " (117, 107, 0.5796816937053303),\n",
       " (118, 117, 0.42267088526912533),\n",
       " (119, 120, 0.5333958877932218),\n",
       " (121, 121, 0.5762573755239939),\n",
       " (122, 122, 0.5704660785821489),\n",
       " (123, 123, 0.5408298574292125),\n",
       " (124, 124, 0.40078592388783363),\n",
       " (125, 126, 0.47269715450486804),\n",
       " (126, 125, 0.5767543834417842),\n",
       " (127, 127, 0.5001837047906001),\n",
       " (128, 74, 0.9518126286203087),\n",
       " (129, 80, 0.955413856917497),\n",
       " (130, 128, 0.7002515885042568),\n",
       " (131, 129, 0.5494418507136103),\n",
       " (132, 130, 0.6533608189578051),\n",
       " (134, 132, 0.6634031922820537),\n",
       " (135, 133, 0.8025776755886058),\n",
       " (136, 134, 0.6159014380854168),\n",
       " (138, 135, 0.44136096255910534)]"
      ]
     },
     "execution_count": 72,
     "metadata": {},
     "output_type": "execute_result"
    }
   ],
   "source": [
    "m.final_matches"
   ]
  },
  {
   "cell_type": "code",
   "execution_count": null,
   "id": "dc90ea53-5454-44b8-a6e1-324ef8f4b133",
   "metadata": {},
   "outputs": [],
   "source": []
  },
  {
   "cell_type": "markdown",
   "id": "a80adce5-d5e5-47cf-a060-2d3b21a60006",
   "metadata": {},
   "source": [
    "# Look at raw matches"
   ]
  },
  {
   "cell_type": "code",
   "execution_count": 41,
   "id": "7309f176-f22a-4ac3-a38e-395d6acf6f3c",
   "metadata": {},
   "outputs": [],
   "source": [
    "raw_clusters = project_data.raw_clust"
   ]
  },
  {
   "cell_type": "code",
   "execution_count": 44,
   "id": "1c6e26be-d17e-4b71-b3d1-575e5332b1c9",
   "metadata": {},
   "outputs": [
    {
     "data": {
      "text/plain": [
       "clust_ind                                                        0\n",
       "all_ind_local                             [0, 0, 0, 0, 0, 0, 0, 0]\n",
       "all_xyz          [[6.080019528866106, 69.30296594653973, 159.70...\n",
       "all_prob         [[0.912546141370372], [0.8925467658557634], [0...\n",
       "slice_ind                                 [0, 1, 2, 3, 4, 5, 6, 7]\n",
       "Name: 0, dtype: object"
      ]
     },
     "execution_count": 44,
     "metadata": {},
     "output_type": "execute_result"
    }
   ],
   "source": [
    "raw_clusters.iloc[0]"
   ]
  },
  {
   "cell_type": "markdown",
   "id": "29f8eca3-9bb4-4543-8412-282b07427c57",
   "metadata": {},
   "source": [
    "# Detail: why are these tracklets so short??"
   ]
  },
  {
   "cell_type": "code",
   "execution_count": 54,
   "id": "72fcc303-1544-4cc8-8a35-9fb0b408b08b",
   "metadata": {},
   "outputs": [],
   "source": [
    "\n",
    "from DLC_for_WBFM.utils.feature_detection.feature_pipeline import track_neurons_full_video\n",
    "from DLC_for_WBFM.utils.feature_detection.utils_tracklets import build_tracklets_dfs\n",
    "from DLC_for_WBFM.utils.projects.utils_filepaths import ModularProjectConfig, SubfolderConfigFile, \\\n",
    "    pickle_load_binary\n",
    "from DLC_for_WBFM.utils.projects.utils_project import safe_cd\n",
    "from DLC_for_WBFM.utils.training_data.tracklet_to_DLC import convert_training_dataframe_to_dlc_format\n",
    "import logging\n",
    "from tqdm.auto import tqdm"
   ]
  },
  {
   "cell_type": "code",
   "execution_count": 55,
   "id": "5c72d99e-002a-4dda-8dd2-4e2f12157973",
   "metadata": {},
   "outputs": [],
   "source": [
    "all_frame_dict = project_data.raw_frames\n",
    "all_frame_pairs = project_data.raw_matches\n",
    "verbose = 1"
   ]
  },
  {
   "cell_type": "code",
   "execution_count": 57,
   "id": "28586796-040f-4bf0-85e7-76c6da79bdf4",
   "metadata": {},
   "outputs": [
    {
     "data": {
      "application/vnd.jupyter.widget-view+json": {
       "model_id": "0d64d2a5161541caaa1ad604feeb01f1",
       "version_major": 2,
       "version_minor": 0
      },
      "text/plain": [
       "  0%|          | 0/4499 [00:00<?, ?it/s]"
      ]
     },
     "metadata": {},
     "output_type": "display_data"
    }
   ],
   "source": [
    "\n",
    "opt = dict(z_threshold=3.5, min_confidence=0.4)\n",
    "# all_matches_list = {k: pair.calc_final_matches_using_bipartite_matching(**opt)\n",
    "#                     for k, pair in tqdm(all_frame_pairs.items())}\n",
    "all_matches_list = {k: pair.final_matches for k, pair in tqdm(all_frame_pairs.items())}\n",
    "logging.info(\"Extracting locations of neurons\")\n",
    "all_zxy = {k: f.neuron_locs for k, f in all_frame_dict.items()}\n",
    "logging.info(\"Building tracklets\")\n",
    "# df = build_tracklets_dfs(all_matches_list, all_zxy, verbose=verbose)"
   ]
  },
  {
   "cell_type": "code",
   "execution_count": 67,
   "id": "8493621b-b581-41a8-b8ff-8935d4f08fd0",
   "metadata": {},
   "outputs": [
    {
     "data": {
      "text/plain": [
       "[(2, 1, 0.6775051995612745),\n",
       " (3, 3, 0.6783416131091446),\n",
       " (4, 5, 0.5434417878487712),\n",
       " (5, 6, 0.6106734896863842),\n",
       " (6, 2, 0.6235570994755707),\n",
       " (7, 7, 0.6386861630463097),\n",
       " (8, 10, 0.6185830622898157),\n",
       " (9, 9, 0.6463615664003777),\n",
       " (10, 8, 0.9438189830569902),\n",
       " (11, 12, 0.6056564245307297),\n",
       " (12, 13, 0.5512497103658227),\n",
       " (13, 14, 0.9356048807998871),\n",
       " (14, 11, 0.5788599399854687),\n",
       " (15, 15, 0.6485232573995627),\n",
       " (16, 16, 0.9659481911177741),\n",
       " (17, 17, 0.6096923090426637),\n",
       " (18, 20, 0.9440843331421043),\n",
       " (19, 18, 0.9466795032058861),\n",
       " (20, 19, 0.9658820456474688),\n",
       " (21, 21, 0.7085164807787749),\n",
       " (22, 22, 0.9137242628757578),\n",
       " (23, 23, 0.6726124058269928),\n",
       " (24, 25, 0.549021689195078),\n",
       " (25, 24, 0.970153219316059),\n",
       " (26, 27, 0.9482295893290612),\n",
       " (27, 26, 0.9424537580565131),\n",
       " (28, 28, 0.9690735113242459),\n",
       " (29, 30, 0.6709353069278541),\n",
       " (30, 31, 0.9415835184072386),\n",
       " (31, 29, 0.9173058505263841),\n",
       " (32, 33, 0.7585878212324584),\n",
       " (33, 32, 0.5911659908145263),\n",
       " (34, 34, 0.6068259659439669),\n",
       " (35, 35, 0.968317091364149),\n",
       " (36, 36, 0.9555958850581574),\n",
       " (37, 37, 0.599204753413558),\n",
       " (38, 39, 0.6657041215336822),\n",
       " (39, 38, 0.7597303675988362),\n",
       " (40, 41, 0.6421147038774815),\n",
       " (41, 40, 0.6407597790556584),\n",
       " (42, 43, 0.4758039948906067),\n",
       " (44, 44, 0.6876766103744545),\n",
       " (45, 46, 0.9727305937761934),\n",
       " (46, 45, 0.9751933370482364),\n",
       " (47, 48, 0.4371512168670435),\n",
       " (49, 47, 0.445852286203295),\n",
       " (50, 49, 0.971242076696583),\n",
       " (51, 51, 0.7744813249694733),\n",
       " (52, 52, 0.747880733424063),\n",
       " (53, 53, 0.6199832819572105),\n",
       " (54, 54, 0.6854964239094085),\n",
       " (55, 55, 0.7469772351801807),\n",
       " (56, 56, 0.7554294730064759),\n",
       " (57, 57, 0.48238653589617836),\n",
       " (58, 58, 0.7622249631423257),\n",
       " (59, 59, 0.6179383049802951),\n",
       " (60, 62, 0.9754398769220347),\n",
       " (61, 60, 0.6503720010462894),\n",
       " (63, 63, 0.9773625226043675),\n",
       " (64, 64, 0.4505224975441267),\n",
       " (65, 65, 0.7425129430433869),\n",
       " (66, 66, 0.9465186203277164),\n",
       " (67, 68, 0.9902107603349167),\n",
       " (68, 67, 0.6766073233866402),\n",
       " (69, 69, 0.9884892292767958),\n",
       " (70, 70, 0.9824730804930616),\n",
       " (71, 71, 0.740082566298313),\n",
       " (72, 72, 0.6735675638340733),\n",
       " (74, 73, 0.7247267325356123),\n",
       " (75, 75, 0.6567867468047993),\n",
       " (76, 78, 0.9866349652716623),\n",
       " (77, 76, 0.42940190871754097),\n",
       " (78, 77, 0.9634039816757145),\n",
       " (79, 79, 0.9624107506150629),\n",
       " (80, 82, 0.8632769236744846),\n",
       " (81, 83, 0.958479252425638),\n",
       " (82, 81, 0.8967226838626006),\n",
       " (83, 86, 0.6155069277255177),\n",
       " (85, 84, 0.6950784214627932),\n",
       " (86, 91, 0.9123428288428566),\n",
       " (87, 88, 0.7278015517064814),\n",
       " (88, 85, 0.6227813111317082),\n",
       " (89, 93, 0.9612062538743268),\n",
       " (90, 92, 0.7880944684663229),\n",
       " (91, 87, 0.7183826553722809),\n",
       " (92, 90, 0.9608406326809065),\n",
       " (93, 94, 0.6810185692305631),\n",
       " (94, 95, 0.8762766969781357),\n",
       " (95, 96, 0.91073906439713),\n",
       " (97, 104, 0.44312203049327775),\n",
       " (98, 106, 0.43406130210274096),\n",
       " (99, 100, 0.9474841124183114),\n",
       " (100, 98, 0.7157398864365422),\n",
       " (101, 99, 0.6373004359190488),\n",
       " (102, 103, 0.6588767784211188),\n",
       " (103, 102, 0.9158157353170027),\n",
       " (104, 105, 0.9555996882663123),\n",
       " (105, 108, 0.6015948149612109),\n",
       " (106, 101, 0.6643653414953982),\n",
       " (108, 110, 0.7182684087067895),\n",
       " (109, 109, 0.8693559065191006),\n",
       " (110, 114, 0.9484052674476046),\n",
       " (111, 111, 0.9497966330064307),\n",
       " (112, 113, 0.9359442536435373),\n",
       " (113, 115, 0.45896802640846107),\n",
       " (114, 112, 0.630756866564786),\n",
       " (115, 118, 0.580881194173667),\n",
       " (116, 116, 0.6546369745802805),\n",
       " (117, 107, 0.5796816937053303),\n",
       " (118, 117, 0.42267088526912533),\n",
       " (119, 120, 0.5333958877932218),\n",
       " (121, 121, 0.5762573755239939),\n",
       " (122, 122, 0.5704660785821489),\n",
       " (123, 123, 0.5408298574292125),\n",
       " (124, 124, 0.40078592388783363),\n",
       " (125, 126, 0.47269715450486804),\n",
       " (126, 125, 0.5767543834417842),\n",
       " (127, 127, 0.5001837047906001),\n",
       " (128, 74, 0.9518126286203087),\n",
       " (129, 80, 0.955413856917497),\n",
       " (130, 128, 0.7002515885042568),\n",
       " (131, 129, 0.5494418507136103),\n",
       " (132, 130, 0.6533608189578051),\n",
       " (134, 132, 0.6634031922820537),\n",
       " (135, 133, 0.8025776755886058),\n",
       " (136, 134, 0.6159014380854168),\n",
       " (138, 135, 0.44136096255910534)]"
      ]
     },
     "execution_count": 67,
     "metadata": {},
     "output_type": "execute_result"
    }
   ],
   "source": [
    "i = 7\n",
    "all_matches_list[(i, i+1)]"
   ]
  },
  {
   "cell_type": "code",
   "execution_count": null,
   "id": "7ad92d1d-e97d-4c60-bb05-f50ad4e76b5e",
   "metadata": {},
   "outputs": [],
   "source": []
  }
 ],
 "metadata": {
  "kernelspec": {
   "display_name": "Python 3 (ipykernel)",
   "language": "python",
   "name": "python3"
  },
  "language_info": {
   "codemirror_mode": {
    "name": "ipython",
    "version": 3
   },
   "file_extension": ".py",
   "mimetype": "text/x-python",
   "name": "python",
   "nbconvert_exporter": "python",
   "pygments_lexer": "ipython3",
   "version": "3.7.11"
  }
 },
 "nbformat": 4,
 "nbformat_minor": 5
}
