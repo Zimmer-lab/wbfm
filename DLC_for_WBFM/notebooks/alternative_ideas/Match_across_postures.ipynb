{
 "cells": [
  {
   "cell_type": "code",
   "execution_count": null,
   "id": "2a8e1b8e-c66a-4e48-8a1b-d590647f426b",
   "metadata": {},
   "outputs": [],
   "source": [
    "%load_ext autoreload\n",
    "%autoreload 2\n",
    "import matplotlib.pyplot as plt\n",
    "from DLC_for_WBFM.utils.projects.finished_project_data import ProjectData\n",
    "import napari\n",
    "import pandas as pd\n",
    "import numpy as np\n",
    "from DLC_for_WBFM.utils.feature_detection.class_frame_pair import FramePair\n",
    "from sklearn.decomposition import PCA\n",
    "from sklearn.neighbors import NearestNeighbors\n"
   ]
  },
  {
   "cell_type": "code",
   "execution_count": 236,
   "id": "0d307bf5-61ad-40c1-9ee0-e165530e1edb",
   "metadata": {},
   "outputs": [
    {
     "name": "stderr",
     "output_type": "stream",
     "text": [
      "WARNING:root:Did not find file /scratch/zimmer/Charles/dlc_stacks/worm3-newseg-2021_11_17/3-tracking/manual_annotation/split_names.pickle\n",
      "WARNING:root:Did not find file /scratch/zimmer/Charles/dlc_stacks/worm3-newseg-2021_11_17/3-tracking/manual_annotation/split_times.pickle\n"
     ]
    },
    {
     "name": "stdout",
     "output_type": "stream",
     "text": [
      "Output files: /scratch/zimmer/Charles/dlc_stacks/worm3-newseg-2021_11_17/3-tracking/manual_annotation/global2tracklet_manual.pickle, /scratch/zimmer/Charles/dlc_stacks/worm3-newseg-2021_11_17/3-tracking/manual_annotation/manually_split_tracklets.h5, /scratch/zimmer/Charles/dlc_stacks/worm3-newseg-2021_11_17/3-tracking/manual_annotation/split_names.pickle, /scratch/zimmer/Charles/dlc_stacks/worm3-newseg-2021_11_17/3-tracking/manual_annotation/split_times.pickle\n",
      "=======================================\n",
      "Project data for directory:\n",
      "/scratch/zimmer/Charles/dlc_stacks/worm3-newseg-2021_11_17 \n",
      "=======================================\n",
      "Found the following raw data files:\n",
      "red_data: True\n",
      "green_data: True\n",
      "============Segmentation===============\n",
      "raw_segmentation: True\n",
      "segmentation: True\n",
      "============Tracklets==================\n",
      "df_training_tracklets: True\n",
      "reindexed_masks_training: True\n",
      "============Traces=====================\n",
      "red_traces: True\n",
      "green_traces: True\n",
      "final_tracks: True\n",
      "behavior_annotations: True\n",
      "\n"
     ]
    }
   ],
   "source": [
    "# fname = \"/scratch/zimmer/Charles/dlc_stacks/worm3-tracklet_wiggle/project_config.yaml\"\n",
    "fname = \"/scratch/zimmer/Charles/dlc_stacks/worm3-newseg-2021_11_17/project_config.yaml\"\n",
    "\n",
    "project_data = ProjectData.load_final_project_data_from_config(fname, to_load_tracklets=True, to_load_frames=True)"
   ]
  },
  {
   "cell_type": "code",
   "execution_count": 8,
   "id": "b5c8dfd9-4b26-414e-bb70-642b29da6611",
   "metadata": {},
   "outputs": [],
   "source": [
    "all_frames = project_data.raw_frames"
   ]
  },
  {
   "cell_type": "code",
   "execution_count": 9,
   "id": "bb0ecc1e-062a-4d6b-8865-d3b2e2ec341e",
   "metadata": {
    "collapsed": true,
    "jupyter": {
     "outputs_hidden": true
    },
    "tags": []
   },
   "outputs": [
    {
     "ename": "KeyboardInterrupt",
     "evalue": "",
     "output_type": "error",
     "traceback": [
      "\u001b[0;31m---------------------------------------------------------------------------\u001b[0m",
      "\u001b[0;31mKeyboardInterrupt\u001b[0m                         Traceback (most recent call last)",
      "\u001b[0;32m~/Current_work/repos/dlc_for_wbfm/DLC_for_WBFM/utils/projects/utils_filepaths.py\u001b[0m in \u001b[0;36mpickle_load_binary\u001b[0;34m(fname)\u001b[0m\n\u001b[1;32m    235\u001b[0m     \u001b[0;32mwith\u001b[0m \u001b[0mopen\u001b[0m\u001b[0;34m(\u001b[0m\u001b[0mfname\u001b[0m\u001b[0;34m,\u001b[0m \u001b[0;34m'rb'\u001b[0m\u001b[0;34m)\u001b[0m \u001b[0;32mas\u001b[0m \u001b[0mf\u001b[0m\u001b[0;34m:\u001b[0m\u001b[0;34m\u001b[0m\u001b[0;34m\u001b[0m\u001b[0m\n\u001b[0;32m--> 236\u001b[0;31m         \u001b[0mdat\u001b[0m \u001b[0;34m=\u001b[0m \u001b[0mpickle\u001b[0m\u001b[0;34m.\u001b[0m\u001b[0mload\u001b[0m\u001b[0;34m(\u001b[0m\u001b[0mf\u001b[0m\u001b[0;34m)\u001b[0m\u001b[0;34m\u001b[0m\u001b[0;34m\u001b[0m\u001b[0m\n\u001b[0m\u001b[1;32m    237\u001b[0m     \u001b[0;32mreturn\u001b[0m \u001b[0mdat\u001b[0m\u001b[0;34m\u001b[0m\u001b[0;34m\u001b[0m\u001b[0m\n",
      "\u001b[0;32m~/anaconda3/envs/torch/lib/python3.7/site-packages/sklearn/base.py\u001b[0m in \u001b[0;36m__setstate__\u001b[0;34m(self, state)\u001b[0m\n\u001b[1;32m    305\u001b[0m \u001b[0;34m\u001b[0m\u001b[0m\n\u001b[0;32m--> 306\u001b[0;31m     \u001b[0;32mdef\u001b[0m \u001b[0m__setstate__\u001b[0m\u001b[0;34m(\u001b[0m\u001b[0mself\u001b[0m\u001b[0;34m,\u001b[0m \u001b[0mstate\u001b[0m\u001b[0;34m)\u001b[0m\u001b[0;34m:\u001b[0m\u001b[0;34m\u001b[0m\u001b[0;34m\u001b[0m\u001b[0m\n\u001b[0m\u001b[1;32m    307\u001b[0m         \u001b[0;32mif\u001b[0m \u001b[0mtype\u001b[0m\u001b[0;34m(\u001b[0m\u001b[0mself\u001b[0m\u001b[0;34m)\u001b[0m\u001b[0;34m.\u001b[0m\u001b[0m__module__\u001b[0m\u001b[0;34m.\u001b[0m\u001b[0mstartswith\u001b[0m\u001b[0;34m(\u001b[0m\u001b[0;34m'sklearn.'\u001b[0m\u001b[0;34m)\u001b[0m\u001b[0;34m:\u001b[0m\u001b[0;34m\u001b[0m\u001b[0;34m\u001b[0m\u001b[0m\n",
      "\u001b[0;31mKeyboardInterrupt\u001b[0m: ",
      "\nDuring handling of the above exception, another exception occurred:\n",
      "\u001b[0;31mKeyboardInterrupt\u001b[0m                         Traceback (most recent call last)",
      "\u001b[0;32m/tmp/ipykernel_8958/2483972617.py\u001b[0m in \u001b[0;36m<module>\u001b[0;34m\u001b[0m\n\u001b[0;32m----> 1\u001b[0;31m \u001b[0mall_matches\u001b[0m \u001b[0;34m=\u001b[0m \u001b[0mproject_data\u001b[0m\u001b[0;34m.\u001b[0m\u001b[0mraw_matches\u001b[0m\u001b[0;34m\u001b[0m\u001b[0;34m\u001b[0m\u001b[0m\n\u001b[0m",
      "\u001b[0;32m~/anaconda3/envs/torch/lib/python3.7/site-packages/backports/cached_property/__init__.py\u001b[0m in \u001b[0;36m__get__\u001b[0;34m(self, instance, owner)\u001b[0m\n\u001b[1;32m     78\u001b[0m                     \u001b[0mval\u001b[0m \u001b[0;34m=\u001b[0m \u001b[0mcache\u001b[0m\u001b[0;34m.\u001b[0m\u001b[0mget\u001b[0m\u001b[0;34m(\u001b[0m\u001b[0mself\u001b[0m\u001b[0;34m.\u001b[0m\u001b[0mattrname\u001b[0m\u001b[0;34m,\u001b[0m \u001b[0m_NOT_FOUND\u001b[0m\u001b[0;34m)\u001b[0m\u001b[0;34m\u001b[0m\u001b[0;34m\u001b[0m\u001b[0m\n\u001b[1;32m     79\u001b[0m                     \u001b[0;32mif\u001b[0m \u001b[0mval\u001b[0m \u001b[0;32mis\u001b[0m \u001b[0m_NOT_FOUND\u001b[0m\u001b[0;34m:\u001b[0m\u001b[0;34m\u001b[0m\u001b[0;34m\u001b[0m\u001b[0m\n\u001b[0;32m---> 80\u001b[0;31m                         \u001b[0mval\u001b[0m \u001b[0;34m=\u001b[0m \u001b[0mself\u001b[0m\u001b[0;34m.\u001b[0m\u001b[0mfunc\u001b[0m\u001b[0;34m(\u001b[0m\u001b[0minstance\u001b[0m\u001b[0;34m)\u001b[0m\u001b[0;34m\u001b[0m\u001b[0;34m\u001b[0m\u001b[0m\n\u001b[0m\u001b[1;32m     81\u001b[0m                         \u001b[0;32mtry\u001b[0m\u001b[0;34m:\u001b[0m\u001b[0;34m\u001b[0m\u001b[0;34m\u001b[0m\u001b[0m\n\u001b[1;32m     82\u001b[0m                             \u001b[0mcache\u001b[0m\u001b[0;34m[\u001b[0m\u001b[0mself\u001b[0m\u001b[0;34m.\u001b[0m\u001b[0mattrname\u001b[0m\u001b[0;34m]\u001b[0m \u001b[0;34m=\u001b[0m \u001b[0mval\u001b[0m\u001b[0;34m\u001b[0m\u001b[0;34m\u001b[0m\u001b[0m\n",
      "\u001b[0;32m~/Current_work/repos/dlc_for_wbfm/DLC_for_WBFM/utils/projects/finished_project_data.py\u001b[0m in \u001b[0;36mraw_matches\u001b[0;34m(self)\u001b[0m\n\u001b[1;32m    113\u001b[0m         \u001b[0mfname\u001b[0m \u001b[0;34m=\u001b[0m \u001b[0mos\u001b[0m\u001b[0;34m.\u001b[0m\u001b[0mpath\u001b[0m\u001b[0;34m.\u001b[0m\u001b[0mjoin\u001b[0m\u001b[0;34m(\u001b[0m\u001b[0;34m'raw'\u001b[0m\u001b[0;34m,\u001b[0m \u001b[0;34m'match_dat.pickle'\u001b[0m\u001b[0;34m)\u001b[0m\u001b[0;34m\u001b[0m\u001b[0;34m\u001b[0m\u001b[0m\n\u001b[1;32m    114\u001b[0m         \u001b[0mfname\u001b[0m \u001b[0;34m=\u001b[0m \u001b[0mtrain_cfg\u001b[0m\u001b[0;34m.\u001b[0m\u001b[0mresolve_relative_path\u001b[0m\u001b[0;34m(\u001b[0m\u001b[0mfname\u001b[0m\u001b[0;34m,\u001b[0m \u001b[0mprepend_subfolder\u001b[0m\u001b[0;34m=\u001b[0m\u001b[0;32mTrue\u001b[0m\u001b[0;34m)\u001b[0m\u001b[0;34m\u001b[0m\u001b[0;34m\u001b[0m\u001b[0m\n\u001b[0;32m--> 115\u001b[0;31m         \u001b[0mmatches\u001b[0m \u001b[0;34m=\u001b[0m \u001b[0mpickle_load_binary\u001b[0m\u001b[0;34m(\u001b[0m\u001b[0mfname\u001b[0m\u001b[0;34m)\u001b[0m\u001b[0;34m\u001b[0m\u001b[0;34m\u001b[0m\u001b[0m\n\u001b[0m\u001b[1;32m    116\u001b[0m         \u001b[0;32mreturn\u001b[0m \u001b[0mmatches\u001b[0m\u001b[0;34m\u001b[0m\u001b[0;34m\u001b[0m\u001b[0m\n\u001b[1;32m    117\u001b[0m \u001b[0;34m\u001b[0m\u001b[0m\n",
      "\u001b[0;32m~/Current_work/repos/dlc_for_wbfm/DLC_for_WBFM/utils/projects/utils_filepaths.py\u001b[0m in \u001b[0;36mpickle_load_binary\u001b[0;34m(fname)\u001b[0m\n\u001b[1;32m    234\u001b[0m \u001b[0;32mdef\u001b[0m \u001b[0mpickle_load_binary\u001b[0m\u001b[0;34m(\u001b[0m\u001b[0mfname\u001b[0m\u001b[0;34m)\u001b[0m\u001b[0;34m:\u001b[0m\u001b[0;34m\u001b[0m\u001b[0;34m\u001b[0m\u001b[0m\n\u001b[1;32m    235\u001b[0m     \u001b[0;32mwith\u001b[0m \u001b[0mopen\u001b[0m\u001b[0;34m(\u001b[0m\u001b[0mfname\u001b[0m\u001b[0;34m,\u001b[0m \u001b[0;34m'rb'\u001b[0m\u001b[0;34m)\u001b[0m \u001b[0;32mas\u001b[0m \u001b[0mf\u001b[0m\u001b[0;34m:\u001b[0m\u001b[0;34m\u001b[0m\u001b[0;34m\u001b[0m\u001b[0m\n\u001b[0;32m--> 236\u001b[0;31m         \u001b[0mdat\u001b[0m \u001b[0;34m=\u001b[0m \u001b[0mpickle\u001b[0m\u001b[0;34m.\u001b[0m\u001b[0mload\u001b[0m\u001b[0;34m(\u001b[0m\u001b[0mf\u001b[0m\u001b[0;34m)\u001b[0m\u001b[0;34m\u001b[0m\u001b[0;34m\u001b[0m\u001b[0m\n\u001b[0m\u001b[1;32m    237\u001b[0m     \u001b[0;32mreturn\u001b[0m \u001b[0mdat\u001b[0m\u001b[0;34m\u001b[0m\u001b[0;34m\u001b[0m\u001b[0m\n\u001b[1;32m    238\u001b[0m \u001b[0;34m\u001b[0m\u001b[0m\n",
      "\u001b[0;31mKeyboardInterrupt\u001b[0m: "
     ]
    },
    {
     "name": "stdout",
     "output_type": "stream",
     "text": [
      "Error in callback <bound method AutoreloadMagics.post_execute_hook of <autoreload.AutoreloadMagics object at 0x7f9d8033e410>> (for post_execute):\n"
     ]
    },
    {
     "ename": "KeyboardInterrupt",
     "evalue": "",
     "output_type": "error",
     "traceback": [
      "\u001b[0;31m---------------------------------------------------------------------------\u001b[0m",
      "\u001b[0;31mKeyboardInterrupt\u001b[0m                         Traceback (most recent call last)",
      "\u001b[0;32m~/anaconda3/envs/torch/lib/python3.7/site-packages/IPython/extensions/autoreload.py\u001b[0m in \u001b[0;36mpost_execute_hook\u001b[0;34m(self)\u001b[0m\n\u001b[1;32m    534\u001b[0m         \"\"\"Cache the modification times of any modules imported in this execution\n\u001b[1;32m    535\u001b[0m         \"\"\"\n\u001b[0;32m--> 536\u001b[0;31m         \u001b[0mnewly_loaded_modules\u001b[0m \u001b[0;34m=\u001b[0m \u001b[0mset\u001b[0m\u001b[0;34m(\u001b[0m\u001b[0msys\u001b[0m\u001b[0;34m.\u001b[0m\u001b[0mmodules\u001b[0m\u001b[0;34m)\u001b[0m \u001b[0;34m-\u001b[0m \u001b[0mself\u001b[0m\u001b[0;34m.\u001b[0m\u001b[0mloaded_modules\u001b[0m\u001b[0;34m\u001b[0m\u001b[0;34m\u001b[0m\u001b[0m\n\u001b[0m\u001b[1;32m    537\u001b[0m         \u001b[0;32mfor\u001b[0m \u001b[0mmodname\u001b[0m \u001b[0;32min\u001b[0m \u001b[0mnewly_loaded_modules\u001b[0m\u001b[0;34m:\u001b[0m\u001b[0;34m\u001b[0m\u001b[0;34m\u001b[0m\u001b[0m\n\u001b[1;32m    538\u001b[0m             \u001b[0m_\u001b[0m\u001b[0;34m,\u001b[0m \u001b[0mpymtime\u001b[0m \u001b[0;34m=\u001b[0m \u001b[0mself\u001b[0m\u001b[0;34m.\u001b[0m\u001b[0m_reloader\u001b[0m\u001b[0;34m.\u001b[0m\u001b[0mfilename_and_mtime\u001b[0m\u001b[0;34m(\u001b[0m\u001b[0msys\u001b[0m\u001b[0;34m.\u001b[0m\u001b[0mmodules\u001b[0m\u001b[0;34m[\u001b[0m\u001b[0mmodname\u001b[0m\u001b[0;34m]\u001b[0m\u001b[0;34m)\u001b[0m\u001b[0;34m\u001b[0m\u001b[0;34m\u001b[0m\u001b[0m\n",
      "\u001b[0;31mKeyboardInterrupt\u001b[0m: "
     ]
    }
   ],
   "source": [
    "all_matches = project_data.raw_matches"
   ]
  },
  {
   "cell_type": "markdown",
   "id": "faa61c87-0a7c-4cfb-b957-b76595fe361d",
   "metadata": {
    "jupyter": {
     "source_hidden": true
    },
    "tags": []
   },
   "source": [
    "# Starting from a single frame, match to others in the future that (we hope) are similar in posture and therefore (we hope) better matches"
   ]
  },
  {
   "cell_type": "code",
   "execution_count": null,
   "id": "10457dde-6c6a-41ec-8ef5-665e0bdb0004",
   "metadata": {},
   "outputs": [],
   "source": [
    "f0 = all_frames[0]\n",
    "\n",
    "frame_pair_options = all_matches[(0,1)].options"
   ]
  },
  {
   "cell_type": "code",
   "execution_count": null,
   "id": "297b03fc-49d2-42c4-9bf0-b921e3977e62",
   "metadata": {},
   "outputs": [],
   "source": [
    "frame_pair_options"
   ]
  },
  {
   "cell_type": "code",
   "execution_count": null,
   "id": "db8fba0e-2f6c-4555-b5d9-36a172b660b0",
   "metadata": {},
   "outputs": [],
   "source": [
    "all_pairs = []\n",
    "to_extend = False"
   ]
  },
  {
   "cell_type": "code",
   "execution_count": 21,
   "id": "70bc9dea-049f-4acb-80eb-861ba917700a",
   "metadata": {},
   "outputs": [
    {
     "data": {
      "application/vnd.jupyter.widget-view+json": {
       "model_id": "",
       "version_major": 2,
       "version_minor": 0
      },
      "text/plain": [
       "  0%|          | 0/32 [00:00<?, ?it/s]"
      ]
     },
     "metadata": {},
     "output_type": "display_data"
    },
    {
     "data": {
      "application/vnd.jupyter.widget-view+json": {
       "model_id": "",
       "version_major": 2,
       "version_minor": 0
      },
      "text/plain": [
       "  0%|          | 0/32 [00:00<?, ?it/s]"
      ]
     },
     "metadata": {},
     "output_type": "display_data"
    },
    {
     "data": {
      "application/vnd.jupyter.widget-view+json": {
       "model_id": "",
       "version_major": 2,
       "version_minor": 0
      },
      "text/plain": [
       "  0%|          | 0/32 [00:00<?, ?it/s]"
      ]
     },
     "metadata": {},
     "output_type": "display_data"
    },
    {
     "data": {
      "application/vnd.jupyter.widget-view+json": {
       "model_id": "",
       "version_major": 2,
       "version_minor": 0
      },
      "text/plain": [
       "  0%|          | 0/32 [00:00<?, ?it/s]"
      ]
     },
     "metadata": {},
     "output_type": "display_data"
    },
    {
     "data": {
      "application/vnd.jupyter.widget-view+json": {
       "model_id": "",
       "version_major": 2,
       "version_minor": 0
      },
      "text/plain": [
       "  0%|          | 0/32 [00:00<?, ?it/s]"
      ]
     },
     "metadata": {},
     "output_type": "display_data"
    },
    {
     "data": {
      "application/vnd.jupyter.widget-view+json": {
       "model_id": "",
       "version_major": 2,
       "version_minor": 0
      },
      "text/plain": [
       "  0%|          | 0/32 [00:00<?, ?it/s]"
      ]
     },
     "metadata": {},
     "output_type": "display_data"
    },
    {
     "data": {
      "application/vnd.jupyter.widget-view+json": {
       "model_id": "",
       "version_major": 2,
       "version_minor": 0
      },
      "text/plain": [
       "  0%|          | 0/32 [00:00<?, ?it/s]"
      ]
     },
     "metadata": {},
     "output_type": "display_data"
    },
    {
     "data": {
      "application/vnd.jupyter.widget-view+json": {
       "model_id": "",
       "version_major": 2,
       "version_minor": 0
      },
      "text/plain": [
       "  0%|          | 0/32 [00:00<?, ?it/s]"
      ]
     },
     "metadata": {},
     "output_type": "display_data"
    },
    {
     "data": {
      "application/vnd.jupyter.widget-view+json": {
       "model_id": "",
       "version_major": 2,
       "version_minor": 0
      },
      "text/plain": [
       "  0%|          | 0/32 [00:00<?, ?it/s]"
      ]
     },
     "metadata": {},
     "output_type": "display_data"
    },
    {
     "data": {
      "application/vnd.jupyter.widget-view+json": {
       "model_id": "",
       "version_major": 2,
       "version_minor": 0
      },
      "text/plain": [
       "  0%|          | 0/32 [00:00<?, ?it/s]"
      ]
     },
     "metadata": {},
     "output_type": "display_data"
    },
    {
     "data": {
      "application/vnd.jupyter.widget-view+json": {
       "model_id": "",
       "version_major": 2,
       "version_minor": 0
      },
      "text/plain": [
       "  0%|          | 0/32 [00:00<?, ?it/s]"
      ]
     },
     "metadata": {},
     "output_type": "display_data"
    },
    {
     "data": {
      "application/vnd.jupyter.widget-view+json": {
       "model_id": "",
       "version_major": 2,
       "version_minor": 0
      },
      "text/plain": [
       "  0%|          | 0/32 [00:00<?, ?it/s]"
      ]
     },
     "metadata": {},
     "output_type": "display_data"
    },
    {
     "data": {
      "application/vnd.jupyter.widget-view+json": {
       "model_id": "",
       "version_major": 2,
       "version_minor": 0
      },
      "text/plain": [
       "  0%|          | 0/32 [00:00<?, ?it/s]"
      ]
     },
     "metadata": {},
     "output_type": "display_data"
    },
    {
     "data": {
      "application/vnd.jupyter.widget-view+json": {
       "model_id": "",
       "version_major": 2,
       "version_minor": 0
      },
      "text/plain": [
       "  0%|          | 0/32 [00:00<?, ?it/s]"
      ]
     },
     "metadata": {},
     "output_type": "display_data"
    },
    {
     "data": {
      "application/vnd.jupyter.widget-view+json": {
       "model_id": "",
       "version_major": 2,
       "version_minor": 0
      },
      "text/plain": [
       "  0%|          | 0/32 [00:00<?, ?it/s]"
      ]
     },
     "metadata": {},
     "output_type": "display_data"
    },
    {
     "data": {
      "application/vnd.jupyter.widget-view+json": {
       "model_id": "",
       "version_major": 2,
       "version_minor": 0
      },
      "text/plain": [
       "  0%|          | 0/32 [00:00<?, ?it/s]"
      ]
     },
     "metadata": {},
     "output_type": "display_data"
    },
    {
     "data": {
      "application/vnd.jupyter.widget-view+json": {
       "model_id": "",
       "version_major": 2,
       "version_minor": 0
      },
      "text/plain": [
       "  0%|          | 0/32 [00:00<?, ?it/s]"
      ]
     },
     "metadata": {},
     "output_type": "display_data"
    },
    {
     "data": {
      "application/vnd.jupyter.widget-view+json": {
       "model_id": "",
       "version_major": 2,
       "version_minor": 0
      },
      "text/plain": [
       "  0%|          | 0/32 [00:00<?, ?it/s]"
      ]
     },
     "metadata": {},
     "output_type": "display_data"
    },
    {
     "data": {
      "application/vnd.jupyter.widget-view+json": {
       "model_id": "",
       "version_major": 2,
       "version_minor": 0
      },
      "text/plain": [
       "  0%|          | 0/32 [00:00<?, ?it/s]"
      ]
     },
     "metadata": {},
     "output_type": "display_data"
    },
    {
     "data": {
      "application/vnd.jupyter.widget-view+json": {
       "model_id": "",
       "version_major": 2,
       "version_minor": 0
      },
      "text/plain": [
       "  0%|          | 0/32 [00:00<?, ?it/s]"
      ]
     },
     "metadata": {},
     "output_type": "display_data"
    },
    {
     "data": {
      "application/vnd.jupyter.widget-view+json": {
       "model_id": "",
       "version_major": 2,
       "version_minor": 0
      },
      "text/plain": [
       "  0%|          | 0/32 [00:00<?, ?it/s]"
      ]
     },
     "metadata": {},
     "output_type": "display_data"
    },
    {
     "data": {
      "application/vnd.jupyter.widget-view+json": {
       "model_id": "",
       "version_major": 2,
       "version_minor": 0
      },
      "text/plain": [
       "  0%|          | 0/32 [00:00<?, ?it/s]"
      ]
     },
     "metadata": {},
     "output_type": "display_data"
    },
    {
     "data": {
      "application/vnd.jupyter.widget-view+json": {
       "model_id": "",
       "version_major": 2,
       "version_minor": 0
      },
      "text/plain": [
       "  0%|          | 0/32 [00:00<?, ?it/s]"
      ]
     },
     "metadata": {},
     "output_type": "display_data"
    },
    {
     "data": {
      "application/vnd.jupyter.widget-view+json": {
       "model_id": "",
       "version_major": 2,
       "version_minor": 0
      },
      "text/plain": [
       "  0%|          | 0/32 [00:00<?, ?it/s]"
      ]
     },
     "metadata": {},
     "output_type": "display_data"
    },
    {
     "data": {
      "application/vnd.jupyter.widget-view+json": {
       "model_id": "",
       "version_major": 2,
       "version_minor": 0
      },
      "text/plain": [
       "  0%|          | 0/32 [00:00<?, ?it/s]"
      ]
     },
     "metadata": {},
     "output_type": "display_data"
    },
    {
     "data": {
      "application/vnd.jupyter.widget-view+json": {
       "model_id": "",
       "version_major": 2,
       "version_minor": 0
      },
      "text/plain": [
       "  0%|          | 0/32 [00:00<?, ?it/s]"
      ]
     },
     "metadata": {},
     "output_type": "display_data"
    },
    {
     "data": {
      "application/vnd.jupyter.widget-view+json": {
       "model_id": "",
       "version_major": 2,
       "version_minor": 0
      },
      "text/plain": [
       "  0%|          | 0/32 [00:00<?, ?it/s]"
      ]
     },
     "metadata": {},
     "output_type": "display_data"
    },
    {
     "data": {
      "application/vnd.jupyter.widget-view+json": {
       "model_id": "",
       "version_major": 2,
       "version_minor": 0
      },
      "text/plain": [
       "  0%|          | 0/32 [00:00<?, ?it/s]"
      ]
     },
     "metadata": {},
     "output_type": "display_data"
    },
    {
     "data": {
      "application/vnd.jupyter.widget-view+json": {
       "model_id": "",
       "version_major": 2,
       "version_minor": 0
      },
      "text/plain": [
       "  0%|          | 0/32 [00:00<?, ?it/s]"
      ]
     },
     "metadata": {},
     "output_type": "display_data"
    },
    {
     "data": {
      "application/vnd.jupyter.widget-view+json": {
       "model_id": "",
       "version_major": 2,
       "version_minor": 0
      },
      "text/plain": [
       "  0%|          | 0/32 [00:00<?, ?it/s]"
      ]
     },
     "metadata": {},
     "output_type": "display_data"
    }
   ],
   "source": [
    "window_size = 90\n",
    "\n",
    "for i in range(len(all_pairs)+2, window_size):\n",
    "    \n",
    "    f1 = all_frames[i]\n",
    "    \n",
    "    frame_pair = FramePair(options=frame_pair_options, frame0=f0, frame1=f1)\n",
    "    \n",
    "    # Core matching algorithm\n",
    "    frame_pair.match_using_feature_embedding()\n",
    "\n",
    "    # Add additional candidates; the class checks if they are used\n",
    "    frame_pair.match_using_local_affine()\n",
    "    frame_pair.match_using_gp()\n",
    "    frame_pair.match_using_fdnc()\n",
    "    \n",
    "    all_pairs.append(frame_pair)"
   ]
  },
  {
   "cell_type": "code",
   "execution_count": 22,
   "id": "5d7465fe-70eb-492f-b1ca-caff4558178f",
   "metadata": {},
   "outputs": [],
   "source": [
    "num_matches = []\n",
    "\n",
    "for p in all_pairs:\n",
    "    p.calc_final_matches_using_bipartite_matching()\n",
    "    num_matches.append(len(p.final_matches) / p.num_possible_matches)"
   ]
  },
  {
   "cell_type": "code",
   "execution_count": 29,
   "id": "c4df8249-b1da-4dec-b6fe-c3768d81520e",
   "metadata": {},
   "outputs": [
    {
     "data": {
      "image/png": "[encoded data removed]",
      "text/plain": [
       "<Figure size 432x288 with 1 Axes>"
      ]
     },
     "metadata": {
      "needs_background": "light"
     },
     "output_type": "display_data"
    }
   ],
   "source": [
    "plt.plot(num_matches)\n",
    "plt.xlim([0, 100])\n",
    "project_data.shade_axis_using_behavior()"
   ]
  },
  {
   "cell_type": "code",
   "execution_count": 25,
   "id": "5095cb9e-07e5-453c-a01f-131df8f894a3",
   "metadata": {},
   "outputs": [],
   "source": [
    "total_matches = [len(p.final_matches) / p.num_possible_matches for k, p in all_matches.items()]"
   ]
  },
  {
   "cell_type": "code",
   "execution_count": 27,
   "id": "5d470f69-0cd0-432f-986b-ccf16f7195e5",
   "metadata": {},
   "outputs": [
    {
     "data": {
      "text/plain": [
       "[<matplotlib.lines.Line2D at 0x7f8437e28350>]"
      ]
     },
     "execution_count": 27,
     "metadata": {},
     "output_type": "execute_result"
    },
    {
     "data": {
      "image/png": "[encoded data removed]",
      "text/plain": [
       "<Figure size 1080x1080 with 1 Axes>"
      ]
     },
     "metadata": {
      "needs_background": "light"
     },
     "output_type": "display_data"
    }
   ],
   "source": [
    "plt.figure(figsize=(15,15))\n",
    "plt.plot(total_matches)"
   ]
  },
  {
   "cell_type": "markdown",
   "id": "ca420d2e-047f-44ef-9dc4-f79a97cee3ad",
   "metadata": {},
   "source": [
    "# Look at the posture using the centerlines"
   ]
  },
  {
   "cell_type": "code",
   "execution_count": null,
   "id": "3d0d2d2a-10be-4179-8d28-79467942e6d3",
   "metadata": {},
   "outputs": [],
   "source": [
    "\n",
    "fname = \"/project/neurobiology/zimmer/wbfm/centerline/wbfm_ulises_centerline_for_charlie/2021-03-04_16-17-30_worm3_ZIM2051-_spline_X_coords.csv\"\n",
    "centerlineX = pd.read_csv(fname)\n",
    "fname = \"/project/neurobiology/zimmer/wbfm/centerline/wbfm_ulises_centerline_for_charlie/2021-03-04_16-17-30_worm3_ZIM2051-_spline_Y_coords.csv\"\n",
    "centerlineY = pd.read_csv(fname)"
   ]
  },
  {
   "cell_type": "code",
   "execution_count": null,
   "id": "9cd1698b-df45-4c82-a5d8-7e9673382024",
   "metadata": {},
   "outputs": [],
   "source": [
    "fname = \"/project/neurobiology/zimmer/wbfm/centerline/wbfm_ulises_centerline_for_charlie/2021-03-04_16-17-30_worm3_ZIM2051-_spline_K.csv\"\n",
    "centerlineK = pd.read_csv(fname)"
   ]
  },
  {
   "cell_type": "code",
   "execution_count": 36,
   "id": "452b583c-46af-4bb2-a4cd-b32ab785e355",
   "metadata": {},
   "outputs": [
    {
     "data": {
      "image/png": "[encoded data removed]",
      "text/plain": [
       "<Figure size 432x288 with 1 Axes>"
      ]
     },
     "metadata": {
      "needs_background": "light"
     },
     "output_type": "display_data"
    }
   ],
   "source": [
    "plt.plot(centerlineK);"
   ]
  },
  {
   "cell_type": "code",
   "execution_count": null,
   "id": "39e1d36f-1859-4af7-b5e8-13015baf5f81",
   "metadata": {},
   "outputs": [],
   "source": [
    "pca = PCA(n_components=5, whiten=True)\n",
    "centerlineK_nonan = centerlineK.replace(np.nan, 0.0)\n"
   ]
  },
  {
   "cell_type": "code",
   "execution_count": null,
   "id": "36f3deb1-5cb9-456f-b5fa-c547315ffa8f",
   "metadata": {},
   "outputs": [],
   "source": [
    "PCA"
   ]
  },
  {
   "cell_type": "code",
   "execution_count": null,
   "id": "c65ab2b7-0122-44a3-a5a0-c2c9c1668801",
   "metadata": {},
   "outputs": [],
   "source": [
    "i_start = 2\n",
    "i_end = -20\n",
    "tspan = centerlineK.shape[0]\n",
    "pca_proj = pca.fit_transform(centerlineK_nonan.iloc[:,i_start:i_end])\n",
    "from mpl_toolkits.mplot3d import Axes3D\n",
    "fig = plt.figure(figsize=(15,15))\n",
    "ax = fig.add_subplot(111, projection='3d')\n",
    "plt.scatter(pca_proj[:, 0], pca_proj[:, 1], pca_proj[:, 2], c=np.arange(tspan)/1e6)\n",
    "plt.colorbar()"
   ]
  },
  {
   "cell_type": "markdown",
   "id": "d0fad2fe-4723-4463-869d-455d88cb9c17",
   "metadata": {},
   "source": [
    "# Get nearest neighbors from a reference point"
   ]
  },
  {
   "cell_type": "code",
   "execution_count": 81,
   "id": "692c0049-6f3f-468a-9752-5a06b0052c62",
   "metadata": {},
   "outputs": [
    {
     "data": {
      "text/plain": [
       "NearestNeighbors(n_neighbors=3)"
      ]
     },
     "execution_count": 81,
     "metadata": {},
     "output_type": "execute_result"
    }
   ],
   "source": [
    "neigh = NearestNeighbors(n_neighbors=3)\n",
    "neigh.fit(pca_proj[:, :3])"
   ]
  },
  {
   "cell_type": "code",
   "execution_count": 122,
   "id": "9ab7af11-8b79-41dd-ad26-af1638f344be",
   "metadata": {},
   "outputs": [
    {
     "data": {
      "text/plain": [
       "array([0.        , 0.0409015 , 0.05292293, 0.07339312, 0.11044909])"
      ]
     },
     "execution_count": 122,
     "metadata": {},
     "output_type": "execute_result"
    },
    {
     "data": {
      "image/png": "[encoded data removed]",
      "text/plain": [
       "<Figure size 3960x360 with 1 Axes>"
      ]
     },
     "metadata": {
      "needs_background": "light"
     },
     "output_type": "display_data"
    }
   ],
   "source": [
    "reference_pose = pca_proj[[0], :3]\n",
    "\n",
    "all_dist = np.linalg.norm(pca_proj[:, :3] - reference_pose, axis=1)\n",
    "plt.figure(figsize=(55,5))\n",
    "plt.plot(all_dist)\n",
    "all_dist[:5]"
   ]
  },
  {
   "cell_type": "code",
   "execution_count": 123,
   "id": "09c3e1b9-e570-4601-8c22-c1459058d381",
   "metadata": {},
   "outputs": [],
   "source": [
    "radius = 0.7\n",
    "\n",
    "pts, neighboring_ind = neigh.radius_neighbors(reference_pose, radius=radius)\n",
    "neighboring_ind = neighboring_ind[0]"
   ]
  },
  {
   "cell_type": "code",
   "execution_count": 126,
   "id": "bd32d3fd-21ce-448a-8636-ff40b1adacff",
   "metadata": {},
   "outputs": [
    {
     "ename": "TypeError",
     "evalue": "unsupported operand type(s) for /: 'list' and 'int'",
     "output_type": "error",
     "traceback": [
      "\u001b[0;31m---------------------------------------------------------------------------\u001b[0m",
      "\u001b[0;31mTypeError\u001b[0m                                 Traceback (most recent call last)",
      "\u001b[0;32m/tmp/ipykernel_379058/779235838.py\u001b[0m in \u001b[0;36m<module>\u001b[0;34m\u001b[0m\n\u001b[1;32m      1\u001b[0m \u001b[0;31m# Convert to closest volume, round, and remove repeats\u001b[0m\u001b[0;34m\u001b[0m\u001b[0;34m\u001b[0m\u001b[0;34m\u001b[0m\u001b[0m\n\u001b[1;32m      2\u001b[0m \u001b[0mframes_per_volume\u001b[0m \u001b[0;34m=\u001b[0m \u001b[0;36m32\u001b[0m\u001b[0;34m\u001b[0m\u001b[0;34m\u001b[0m\u001b[0m\n\u001b[0;32m----> 3\u001b[0;31m \u001b[0mneighboring_ind\u001b[0m \u001b[0;34m=\u001b[0m \u001b[0mnp\u001b[0m\u001b[0;34m.\u001b[0m\u001b[0mround\u001b[0m\u001b[0;34m(\u001b[0m\u001b[0mneighboring_ind\u001b[0m \u001b[0;34m/\u001b[0m \u001b[0mframes_per_volume\u001b[0m\u001b[0;34m)\u001b[0m\u001b[0;34m.\u001b[0m\u001b[0mastype\u001b[0m\u001b[0;34m(\u001b[0m\u001b[0mint\u001b[0m\u001b[0;34m)\u001b[0m\u001b[0;34m\u001b[0m\u001b[0;34m\u001b[0m\u001b[0m\n\u001b[0m\u001b[1;32m      4\u001b[0m \u001b[0mneighboring_ind\u001b[0m \u001b[0;34m=\u001b[0m \u001b[0mlist\u001b[0m\u001b[0;34m(\u001b[0m\u001b[0mset\u001b[0m\u001b[0;34m(\u001b[0m\u001b[0mneighboring_ind\u001b[0m\u001b[0;34m)\u001b[0m\u001b[0;34m)\u001b[0m\u001b[0;34m\u001b[0m\u001b[0;34m\u001b[0m\u001b[0m\n\u001b[1;32m      5\u001b[0m \u001b[0mneighboring_ind\u001b[0m\u001b[0;34m.\u001b[0m\u001b[0msort\u001b[0m\u001b[0;34m(\u001b[0m\u001b[0;34m)\u001b[0m\u001b[0;34m\u001b[0m\u001b[0;34m\u001b[0m\u001b[0m\n",
      "\u001b[0;31mTypeError\u001b[0m: unsupported operand type(s) for /: 'list' and 'int'"
     ]
    }
   ],
   "source": [
    "# Convert to closest volume, round, and remove repeats\n",
    "frames_per_volume = 32\n",
    "neighboring_ind = np.round(neighboring_ind / frames_per_volume).astype(int)\n",
    "neighboring_ind = list(set(neighboring_ind))\n",
    "neighboring_ind.sort()\n",
    "# neighboring_ind"
   ]
  },
  {
   "cell_type": "markdown",
   "id": "40c1a236-6b52-4a8c-b7a9-6231a3be89ab",
   "metadata": {},
   "source": [
    "# Use classes"
   ]
  },
  {
   "cell_type": "code",
   "execution_count": 19,
   "id": "b406d994-16ff-47e8-af27-9f6b137e7ce6",
   "metadata": {},
   "outputs": [
    {
     "name": "stdout",
     "output_type": "stream",
     "text": [
      "The autoreload extension is already loaded. To reload it, use:\n",
      "  %reload_ext autoreload\n"
     ]
    }
   ],
   "source": [
    "%load_ext autoreload\n",
    "%autoreload 2\n",
    "from DLC_for_WBFM.utils.postures.centerline_pca import WormFullVideoPosture, WormReferencePosture\n",
    "from DLC_for_WBFM.utils.pipeline.tracklet_class import NeuronComposedOfTracklets, TrackedWorm, DetectedTrackletsAndNeurons\n",
    "from DLC_for_WBFM.utils.projects.finished_project_data import ProjectData\n",
    "import numpy as np\n",
    "import pandas as pd\n",
    "from DLC_for_WBFM.utils.pipeline.matches_class import MatchesWithConfidence\n",
    "from DLC_for_WBFM.utils.feature_detection.class_frame_pair import calc_FramePair_from_Frames\n",
    "from tqdm.auto import tqdm\n",
    "from DLC_for_WBFM.utils.pipeline.matches_class import get_tracklet_name_from_full_name\n",
    "import importlib"
   ]
  },
  {
   "cell_type": "code",
   "execution_count": 3,
   "id": "fd72da53-9913-478c-a715-367bf4b26af0",
   "metadata": {},
   "outputs": [
    {
     "name": "stderr",
     "output_type": "stream",
     "text": [
      "WARNING:root:Did not find file /scratch/zimmer/Charles/dlc_stacks/worm3-newseg-2021_11_17/3-tracking/manual_annotation/split_names.pickle\n",
      "WARNING:root:Did not find file /scratch/zimmer/Charles/dlc_stacks/worm3-newseg-2021_11_17/3-tracking/manual_annotation/split_times.pickle\n"
     ]
    },
    {
     "name": "stdout",
     "output_type": "stream",
     "text": [
      "Output files: /scratch/zimmer/Charles/dlc_stacks/worm3-newseg-2021_11_17/3-tracking/manual_annotation/global2tracklet_manual.pickle, /scratch/zimmer/Charles/dlc_stacks/worm3-newseg-2021_11_17/3-tracking/manual_annotation/manually_split_tracklets.h5, /scratch/zimmer/Charles/dlc_stacks/worm3-newseg-2021_11_17/3-tracking/manual_annotation/split_names.pickle, /scratch/zimmer/Charles/dlc_stacks/worm3-newseg-2021_11_17/3-tracking/manual_annotation/split_times.pickle\n",
      "=======================================\n",
      "Project data for directory:\n",
      "/scratch/zimmer/Charles/dlc_stacks/worm3-newseg-2021_11_17 \n",
      "=======================================\n",
      "Found the following raw data files:\n",
      "red_data: True\n",
      "green_data: True\n",
      "============Segmentation===============\n",
      "raw_segmentation: True\n",
      "segmentation: True\n",
      "============Tracklets==================\n",
      "df_training_tracklets: True\n",
      "reindexed_masks_training: True\n",
      "============Traces=====================\n",
      "red_traces: True\n",
      "green_traces: True\n",
      "final_tracks: True\n",
      "behavior_annotations: True\n",
      "\n"
     ]
    }
   ],
   "source": [
    "# fname = \"/scratch/zimmer/Charles/dlc_stacks/worm3-tracklet_wiggle/project_config.yaml\"\n",
    "fname = \"/scratch/zimmer/Charles/dlc_stacks/worm3-newseg-2021_11_17/project_config.yaml\"\n",
    "\n",
    "project_data = ProjectData.load_final_project_data_from_config(fname, to_load_tracklets=True, to_load_frames=True)"
   ]
  },
  {
   "cell_type": "code",
   "execution_count": 20,
   "id": "e6529d50-7212-4e4d-8c6f-0ffb5629bce9",
   "metadata": {},
   "outputs": [],
   "source": [
    "df_tracklets = project_data.df_all_tracklets\n",
    "num_frames = project_data.num_frames\n",
    "all_frames = project_data.raw_frames\n",
    "all_matches = project_data.raw_matches\n",
    "raw_clust = project_data.raw_clust\n",
    "\n",
    "frame_pair_options = all_matches[(0,1)].options"
   ]
  },
  {
   "cell_type": "code",
   "execution_count": null,
   "id": "77e50e7a-f9be-4da8-94c8-ea72adb445e8",
   "metadata": {},
   "outputs": [],
   "source": []
  },
  {
   "cell_type": "code",
   "execution_count": 193,
   "id": "ceeaa516-a368-49ba-aef7-f0f470017730",
   "metadata": {},
   "outputs": [
    {
     "data": {
      "application/vnd.jupyter.widget-view+json": {
       "model_id": "06fd4a5407154f99a917ced8f3b9f302",
       "version_major": 2,
       "version_minor": 0
      },
      "text/plain": [
       "  0%|          | 0/16624 [00:00<?, ?it/s]"
      ]
     },
     "metadata": {},
     "output_type": "display_data"
    }
   ],
   "source": [
    "# Build intermediate object: mapping from neurons within a frame to their tracklet ID\n",
    "from DLC_for_WBFM.utils.pipeline.matches_class import MatchesAsGraph\n",
    "import DLC_for_WBFM.utils.pipeline.matches_class as matches_class\n",
    "importlib.reload(matches_class)\n",
    "\n",
    "local_neuron_to_tracklet = MatchesAsGraph(offset_convention=[True, False],\n",
    "                                          naming_convention=['neuron', 'tracklet'],\n",
    "                                          name_prefixes=['frame', 'trackletGroup'])\n",
    "\n",
    "for i, row in tqdm(raw_clust.iterrows(), total=len(raw_clust)):\n",
    "    i_tracklet = int(row['clust_ind'])\n",
    "    for i_local_frame, (i_local_neuron, i_global_frame) in enumerate(zip(row['all_ind_local'], row['slice_ind'])):\n",
    "        try:\n",
    "            conf = row['all_prob'][i_local_frame]\n",
    "        except IndexError:\n",
    "            conf = np.nan\n",
    "        local_neuron_to_tracklet.add_match_if_not_present([i_local_neuron, i_tracklet, conf], group_ind0=i_global_frame)"
   ]
  },
  {
   "cell_type": "code",
   "execution_count": null,
   "id": "fba131df-3368-43cb-9260-cd6cc5e1227b",
   "metadata": {},
   "outputs": [],
   "source": []
  },
  {
   "cell_type": "code",
   "execution_count": 23,
   "id": "b5e73ba2-9310-4963-a115-fb19d5fcc36c",
   "metadata": {},
   "outputs": [],
   "source": [
    "fname = \"/project/neurobiology/zimmer/wbfm/centerline/wbfm_ulises_centerline_for_charlie/2021-03-04_16-17-30_worm3_ZIM2051-_spline_K.csv\"\n",
    "\n",
    "full_posture = WormFullVideoPosture(fname)"
   ]
  },
  {
   "cell_type": "code",
   "execution_count": 24,
   "id": "2ad0a56a-2668-4b98-a25a-67aa27ba8753",
   "metadata": {},
   "outputs": [],
   "source": [
    "reference_posture = WormReferencePosture(0, full_posture)"
   ]
  },
  {
   "cell_type": "code",
   "execution_count": 173,
   "id": "34d89eea-60ed-4810-974e-38da2c668a2b",
   "metadata": {
    "tags": []
   },
   "outputs": [],
   "source": [
    "# Initialize TrackedNeurons at 0, and initialize the TrackedWorm\n",
    "# Get all tracklets that start at t=0\n",
    "all_tracklet_names = df_tracklets.columns.get_level_values(0).drop_duplicates()\n",
    "\n",
    "detections = DetectedTrackletsAndNeurons(df_tracklets, \n",
    "                                         project_data.segmentation_metadata,\n",
    "                                         df_tracklet_matches=raw_clust)\n",
    "worm_obj = TrackedWorm(detections=detections, verbose=1)\n",
    "\n",
    "for i, name in enumerate(all_tracklet_names):\n",
    "    tracklet = df_tracklets[name]\n",
    "    if np.isnan(tracklet['z'].iloc[0]):\n",
    "        break\n",
    "    new_neuron = worm_obj.initialize_new_neuron()\n",
    "    new_neuron.add_tracklet(i, 1.0, tracklet, metadata=f\"Initial tracklet\")"
   ]
  },
  {
   "cell_type": "code",
   "execution_count": null,
   "id": "f0c3eaef-bc02-40b3-a1ee-52b556754992",
   "metadata": {},
   "outputs": [],
   "source": [
    "\n",
    "all_long_range_matches = {}\n",
    "anchor_ind = 0\n",
    "anchor_frame = all_frames[anchor_ind]\n",
    "verbose = 2"
   ]
  },
  {
   "cell_type": "code",
   "execution_count": 174,
   "id": "7ce8b8a9-cbb7-4302-8515-8115ed25bddb",
   "metadata": {
    "tags": []
   },
   "outputs": [
    {
     "data": {
      "application/vnd.jupyter.widget-view+json": {
       "model_id": "bf46a52b16524ca19fc61d2086da79ff",
       "version_major": 2,
       "version_minor": 0
      },
      "text/plain": [
       "  0%|          | 0/1499 [00:00<?, ?it/s]"
      ]
     },
     "metadata": {},
     "output_type": "display_data"
    },
    {
     "name": "stdout",
     "output_type": "stream",
     "text": [
      "At time 6, extended 4/4 tracks\n",
      "At time 7, extended 3/3 tracks\n",
      "At time 8, extended 10/11 tracks\n",
      "At time 9, extended 3/4 tracks\n",
      "At time 10, extended 2/3 tracks\n",
      "At time 11, extended 6/8 tracks\n"
     ]
    }
   ],
   "source": [
    "# Loop over times, and if any TrackedNeuron's have a gap, use the WormReferencePosture to attempt a long-distance match\n",
    "for t in tqdm(range(1, num_frames)):\n",
    "    \n",
    "    tracks_with_gap = worm_obj.tracks_with_gap_at_or_after_time(t)\n",
    "    if not tracks_with_gap:\n",
    "        continue\n",
    "    \n",
    "    # Then do one volume-volume match to try and continue all ended tracklets\n",
    "    i_next_similar_posture = reference_posture.get_next_close_index(t)\n",
    "    pair_indices = (anchor_ind, i_next_similar_posture)\n",
    "    long_range_pair = all_long_range_matches.get(pair_indices, None)\n",
    "    if long_range_pair is None:\n",
    "        long_range_frame = all_frames[i_next_similar_posture]\n",
    "        if verbose >= 2:\n",
    "            print(f\"Calculating matches for pair: {pair_indices}\")\n",
    "        long_range_pair = calc_FramePair_from_Frames(frame0=anchor_frame, frame1=long_range_frame, frame_pair_options=frame_pair_options)\n",
    "\n",
    "        all_long_range_matches[pair_indices] = long_range_pair\n",
    "    else:\n",
    "        if verbose >= 3:\n",
    "            print(f\"Reusing matches for pair: {pair_indices}\")\n",
    "    \n",
    "    # Build convinience class\n",
    "    long_range_pair.calc_final_matches()\n",
    "    long_range_matches = MatchesWithConfidence.matches_from_array(np.array(long_range_pair.final_matches))\n",
    "    mapping_to_long_range = long_range_matches.get_mapping_0_to_1()\n",
    "    mapping_to_confidence = long_range_matches.get_mapping_pair_to_conf()\n",
    "    \n",
    "    tracks_that_are_filled = 0\n",
    "    for track_name, track in tracks_with_gap.items():\n",
    "        \n",
    "        # From the starting neuron, get the long-range match\n",
    "        i_starting_neuron = track.neuron_ind\n",
    "        i_matched_neuron = mapping_to_long_range.get(i_starting_neuron, None)\n",
    "        if i_matched_neuron is None:\n",
    "            continue\n",
    "        # if i_matched_neuron is None:\n",
    "        #     print(f\"No matched neuron for track {track_name}\")\n",
    "        # else:\n",
    "        #     print(f\"Found a match for {track_name}: {i_matched_neuron}\")\n",
    "        conf = mapping_to_confidence[(i_starting_neuron, i_matched_neuron)]\n",
    "        \n",
    "        # From the long-range match (including frame information), get the tracklet\n",
    "        # For now, just accept it\n",
    "        full_index = (0, i_matched_neuron, i_next_similar_posture)\n",
    "        matched_tracklet_graph_name = local_neuron_to_tracklet.get_unique_match(full_index)\n",
    "        if matched_tracklet_graph_name is None:\n",
    "            # i.e. there was a neuron match, but it doesn't belong to any tracklet\n",
    "            continue\n",
    "        _, _, matched_tracklet_ind = local_neuron_to_tracklet.name2tuple(matched_tracklet_graph_name)\n",
    "        matched_tracklet_local_name = worm_obj.detections.int_to_tracklet_name(matched_tracklet_ind)\n",
    "        # matched_tracklet_local_name = get_tracklet_name_from_full_name(matched_tracklet_graph_name)\n",
    "        df_matched_tracklet = worm_obj.detections.df_tracklets_zxy[matched_tracklet_local_name]\n",
    "        track.add_tracklet(matched_tracklet_ind, \n",
    "                           confidence=conf, \n",
    "                           tracklet=df_matched_tracklet, \n",
    "                           metadata=f\"Match due to pair {pair_indices}\")\n",
    "        \n",
    "        # TODO: Also record if the matched neurons match the tracklets that didn't end\n",
    "        tracks_that_are_filled += 1\n",
    "        \n",
    "    if verbose >= 2:\n",
    "        print(f\"At time {t}, extended {tracks_that_are_filled}/{len(tracks_with_gap)} tracks\")\n",
    "    \n",
    "    if t > 10:\n",
    "        break"
   ]
  },
  {
   "cell_type": "code",
   "execution_count": 192,
   "id": "a1d670cd-802e-42eb-a318-14716c16f6b4",
   "metadata": {},
   "outputs": [
    {
     "data": {
      "text/plain": [
       "[True, False]"
      ]
     },
     "execution_count": 192,
     "metadata": {},
     "output_type": "execute_result"
    }
   ],
   "source": [
    "local_neuron_to_tracklet.offset_convention"
   ]
  },
  {
   "cell_type": "code",
   "execution_count": 194,
   "id": "17355ccf-de1e-4b74-9d08-0727967dc23e",
   "metadata": {},
   "outputs": [
    {
     "data": {
      "text/plain": [
       "('bipartite_1_trackletGroup_1_neuron162', (1, 40, 145))"
      ]
     },
     "execution_count": 194,
     "metadata": {},
     "output_type": "execute_result"
    }
   ],
   "source": [
    "matched_tracklet_graph_name, local_neuron_to_tracklet.name2tuple(matched_tracklet_graph_name)"
   ]
  },
  {
   "cell_type": "code",
   "execution_count": 196,
   "id": "8fce3ce1-b32d-4651-86d7-6c119857eb09",
   "metadata": {},
   "outputs": [
    {
     "data": {
      "text/plain": [
       "'neuron190'"
      ]
     },
     "execution_count": 196,
     "metadata": {},
     "output_type": "execute_result"
    }
   ],
   "source": [
    "worm_obj.detections.int_to_tracklet_name(145)"
   ]
  },
  {
   "cell_type": "code",
   "execution_count": 177,
   "id": "b3f22d51-6827-403c-8453-5a7cad917546",
   "metadata": {
    "tags": []
   },
   "outputs": [
    {
     "name": "stdout",
     "output_type": "stream",
     "text": [
      "neuron_015 10\n",
      "neuron_053 5\n",
      "neuron_070 10\n",
      "neuron_097 7\n",
      "neuron_109 6\n",
      "neuron_115 7\n",
      "neuron_118 10\n"
     ]
    }
   ],
   "source": [
    "for k, v in worm_obj.global_name_to_neuron.items():\n",
    "    if t > v.next_gap:\n",
    "        print(k, v.next_gap)"
   ]
  },
  {
   "cell_type": "code",
   "execution_count": 190,
   "id": "5d97a673-a9cc-4f31-8284-37bf8413232e",
   "metadata": {},
   "outputs": [
    {
     "data": {
      "text/plain": [
       "'neuron190'"
      ]
     },
     "execution_count": 190,
     "metadata": {},
     "output_type": "execute_result"
    }
   ],
   "source": [
    "worm_obj.detections.int_to_tracklet_name(145)"
   ]
  },
  {
   "cell_type": "code",
   "execution_count": 224,
   "id": "06ed96f3-100c-498e-8d55-b9e052e24fa8",
   "metadata": {},
   "outputs": [
    {
     "name": "stderr",
     "output_type": "stream",
     "text": [
      "/home/charles/anaconda3/envs/torch/lib/python3.7/site-packages/ipykernel_launcher.py:1: SettingWithCopyWarning: \n",
      "A value is trying to be set on a copy of a slice from a DataFrame\n",
      "\n",
      "See the caveats in the documentation: https://pandas.pydata.org/pandas-docs/stable/user_guide/indexing.html#returning-a-view-versus-a-copy\n",
      "  \"\"\"Entry point for launching an IPython kernel.\n"
     ]
    }
   ],
   "source": [
    "df_tracklets['neuron11']['likelihood'][0] = 1.0"
   ]
  },
  {
   "cell_type": "code",
   "execution_count": 232,
   "id": "560b506c-d5e9-406f-89af-5bc21158deb1",
   "metadata": {},
   "outputs": [
    {
     "data": {
      "text/plain": [
       "0       1.0\n",
       "1       1.0\n",
       "2       1.0\n",
       "3       1.0\n",
       "4       1.0\n",
       "       ... \n",
       "1494    NaN\n",
       "1495    NaN\n",
       "1496    NaN\n",
       "1497    NaN\n",
       "1498    NaN\n",
       "Name: likelihood, Length: 1499, dtype: float64"
      ]
     },
     "execution_count": 232,
     "metadata": {},
     "output_type": "execute_result"
    }
   ],
   "source": [
    "df_tracklets['neuron11']['likelihood']"
   ]
  },
  {
   "cell_type": "code",
   "execution_count": 231,
   "id": "a2f19c28-750b-4293-a5c5-3badc595952d",
   "metadata": {},
   "outputs": [],
   "source": [
    "df_tracklets['neuron11', 'likelihood'][0:10] = 1.0"
   ]
  },
  {
   "cell_type": "code",
   "execution_count": 181,
   "id": "a55e6954-ba65-4500-9b70-4d962713f982",
   "metadata": {
    "tags": []
   },
   "outputs": [
    {
     "data": {
      "text/plain": [
       "array([0, 1, 2, 3, 4, 5, 6, 7, 8, 9, 0, 1, 2, 3, 4])"
      ]
     },
     "execution_count": 181,
     "metadata": {},
     "output_type": "execute_result"
    }
   ],
   "source": [
    "name = 'neuron_053'\n",
    "\n",
    "np.array(worm_obj.global_name_to_neuron[name].tracklet_covering_ind)"
   ]
  },
  {
   "cell_type": "code",
   "execution_count": 182,
   "id": "3af96d9d-4d71-4da4-9eb9-51cd2d8a5807",
   "metadata": {},
   "outputs": [
    {
     "data": {
      "text/plain": [
       "EdgeDataView([('bipartite_0_neuron_0_neuron_053', 'bipartite_1_trackletGroup_1_neuron52', {'metadata': 'Initial tracklet', 'weight': 1.0}), ('bipartite_0_neuron_0_neuron_053', 'bipartite_1_trackletGroup_1_neuron43', {'metadata': 'Match due to pair (0, 16)', 'weight': 0.7021018516832751})])"
      ]
     },
     "execution_count": 182,
     "metadata": {},
     "output_type": "execute_result"
    }
   ],
   "source": [
    "worm_obj.global_name_to_neuron[name].neuron2tracklets.edges(data=True)"
   ]
  },
  {
   "cell_type": "code",
   "execution_count": 183,
   "id": "44e1968f-9f73-4b70-ba52-f447dbb3bbf7",
   "metadata": {},
   "outputs": [
    {
     "data": {
      "text/plain": [
       "NodeDataView({'bipartite_0_neuron_0_neuron_053': {'bipartite': 0, 'local_ind': 52, 'group_ind': 0}, 'bipartite_1_trackletGroup_1_neuron52': {'bipartite': 1, 'local_ind': 52, 'group_ind': 0}, 'bipartite_1_trackletGroup_1_neuron43': {'bipartite': 1, 'local_ind': 52, 'group_ind': 0}})"
      ]
     },
     "execution_count": 183,
     "metadata": {},
     "output_type": "execute_result"
    }
   ],
   "source": [
    "worm_obj.global_name_to_neuron[name].neuron2tracklets.nodes(data=True)"
   ]
  },
  {
   "cell_type": "code",
   "execution_count": 47,
   "id": "d2f4a639-2a3d-4cc6-94a0-063ba6c96073",
   "metadata": {},
   "outputs": [],
   "source": [
    "\n",
    "def get_tracklet_name_from_full_name(name):\n",
    "    \"\"\"Assume name is like: bipartite_1_trackletGroup_1_neuron228\"\"\"\n",
    "    return name.split('_')[-1]\n"
   ]
  },
  {
   "cell_type": "code",
   "execution_count": null,
   "id": "57a998a7-b907-40e4-8e29-0d42f1ebb11f",
   "metadata": {},
   "outputs": [],
   "source": [
    "import DLC_for_WBFM.utils.pipeline.matches_class as matches_class\n",
    "importlib.reload(matches_class)\n",
    "long_range_pair.calc_final_matches()\n",
    "long_range_matches = MatchesWithConfidence.matches_from_array(long_range_pair.final_matches)\n",
    "mapping_to_long_range = long_range_matches.get_mapping_0_to_1()"
   ]
  },
  {
   "cell_type": "code",
   "execution_count": null,
   "id": "5c06f569-81c2-4be0-ab56-39d06b0a5726",
   "metadata": {},
   "outputs": [],
   "source": []
  },
  {
   "cell_type": "code",
   "execution_count": 22,
   "id": "80b9ac7d-7fed-498c-b443-376e3b3372f1",
   "metadata": {},
   "outputs": [
    {
     "ename": "AttributeError",
     "evalue": "'TrackedNeuron' object has no attribute 'neuron_ind'",
     "output_type": "error",
     "traceback": [
      "\u001b[0;31m---------------------------------------------------------------------------\u001b[0m",
      "\u001b[0;31mAttributeError\u001b[0m                            Traceback (most recent call last)",
      "\u001b[0;32m/tmp/ipykernel_569903/3208442010.py\u001b[0m in \u001b[0;36m<module>\u001b[0;34m\u001b[0m\n\u001b[1;32m      5\u001b[0m \u001b[0mthis_neuron_obj\u001b[0m \u001b[0;34m=\u001b[0m \u001b[0mtracks_with_gap\u001b[0m\u001b[0;34m[\u001b[0m\u001b[0mkey\u001b[0m\u001b[0;34m]\u001b[0m\u001b[0;34m\u001b[0m\u001b[0;34m\u001b[0m\u001b[0m\n\u001b[1;32m      6\u001b[0m \u001b[0;34m\u001b[0m\u001b[0m\n\u001b[0;32m----> 7\u001b[0;31m \u001b[0mi_tracklet\u001b[0m \u001b[0;34m=\u001b[0m \u001b[0mthis_neuron_obj\u001b[0m\u001b[0;34m.\u001b[0m\u001b[0mneuron_ind\u001b[0m\u001b[0;34m\u001b[0m\u001b[0;34m\u001b[0m\u001b[0m\n\u001b[0m\u001b[1;32m      8\u001b[0m \u001b[0mtracklet_dictionary\u001b[0m\u001b[0;34m.\u001b[0m\u001b[0mget_neuron_index_within_tracklet\u001b[0m\u001b[0;34m(\u001b[0m\u001b[0mi_tracklet\u001b[0m\u001b[0;34m,\u001b[0m \u001b[0mt_local\u001b[0m\u001b[0;34m=\u001b[0m\u001b[0;36m0\u001b[0m\u001b[0;34m)\u001b[0m\u001b[0;34m\u001b[0m\u001b[0;34m\u001b[0m\u001b[0m\n\u001b[1;32m      9\u001b[0m \u001b[0;34m\u001b[0m\u001b[0m\n",
      "\u001b[0;31mAttributeError\u001b[0m: 'TrackedNeuron' object has no attribute 'neuron_ind'"
     ]
    }
   ],
   "source": [
    "tracklet_dictionary = TrackletDictionary(df_tracklets, project_data.segmentation_metadata, raw_clust)\n",
    "\n",
    "# Get the relevant neuron index in the reference frame\n",
    "key = 'neuron_041'\n",
    "this_neuron_obj = tracks_with_gap[key]\n",
    "\n",
    "i_tracklet = this_neuron_obj.neuron_ind\n",
    "tracklet_dictionary.get_neuron_index_within_tracklet(i_tracklet, t_local=0)\n",
    "\n",
    "# Get the match in frame1\n",
    "\n",
    "# Get the position in frame1\n",
    "\n",
    "# Get the corresponding tracklet"
   ]
  },
  {
   "cell_type": "code",
   "execution_count": null,
   "id": "4b4c52d6-317c-415b-91c4-d901bcd27fee",
   "metadata": {},
   "outputs": [],
   "source": []
  },
  {
   "cell_type": "code",
   "execution_count": null,
   "id": "a0ffc4ef-86da-48db-a9fe-6ac15decd5ae",
   "metadata": {},
   "outputs": [],
   "source": []
  },
  {
   "cell_type": "code",
   "execution_count": null,
   "id": "cdb6ba2c-ebd5-4a2a-96f2-939324637f01",
   "metadata": {},
   "outputs": [],
   "source": []
  },
  {
   "cell_type": "code",
   "execution_count": null,
   "id": "438794d5-3f94-4802-9638-f91413a0753c",
   "metadata": {},
   "outputs": [],
   "source": []
  },
  {
   "cell_type": "markdown",
   "id": "535d936f-c047-4941-b944-a9b6e30ad3a2",
   "metadata": {},
   "source": [
    "# Scratch"
   ]
  },
  {
   "cell_type": "code",
   "execution_count": 249,
   "id": "cedc319c-ecdf-45ba-afa7-72f947621e31",
   "metadata": {},
   "outputs": [
    {
     "data": {
      "text/plain": [
       "64096"
      ]
     },
     "execution_count": 249,
     "metadata": {},
     "output_type": "execute_result"
    }
   ],
   "source": [
    "import matplotlib.pyplot as plt\n",
    "\n"
   ]
  },
  {
   "cell_type": "code",
   "execution_count": 238,
   "id": "49652238-b0bd-4a1e-bbc7-4552b56ca9de",
   "metadata": {},
   "outputs": [
    {
     "data": {
      "text/html": [
       "<div>\n",
       "<style scoped>\n",
       "    .dataframe tbody tr th:only-of-type {\n",
       "        vertical-align: middle;\n",
       "    }\n",
       "\n",
       "    .dataframe tbody tr th {\n",
       "        vertical-align: top;\n",
       "    }\n",
       "\n",
       "    .dataframe thead th {\n",
       "        text-align: right;\n",
       "    }\n",
       "</style>\n",
       "<table border=\"1\" class=\"dataframe\">\n",
       "  <thead>\n",
       "    <tr style=\"text-align: right;\">\n",
       "      <th></th>\n",
       "      <th>clust_ind</th>\n",
       "      <th>all_ind_local</th>\n",
       "      <th>all_xyz</th>\n",
       "      <th>all_prob</th>\n",
       "      <th>slice_ind</th>\n",
       "    </tr>\n",
       "  </thead>\n",
       "  <tbody>\n",
       "    <tr>\n",
       "      <th>0</th>\n",
       "      <td>0</td>\n",
       "      <td>[0, 5, 1, 1, 1, 1, 4, 4, 3, 0, 4, 4, 2, 4, 3, ...</td>\n",
       "      <td>[[4.8771146066011655, 297.7740983145629, 424.0...</td>\n",
       "      <td>[[0.3664077302417685], [0.15163196729664105], ...</td>\n",
       "      <td>[0, 1, 2, 3, 4, 5, 6, 7, 8, 9, 10, 11, 12, 13,...</td>\n",
       "    </tr>\n",
       "    <tr>\n",
       "      <th>1</th>\n",
       "      <td>1</td>\n",
       "      <td>[1, 4, 4, 2, 5, 7, 6, 7, 7, 7, 7, 1, 3, 9, 10,...</td>\n",
       "      <td>[[4.5420842803383135, 313.3114124967398, 433.1...</td>\n",
       "      <td>[[0.2292424971146307], [0.25094726101312165], ...</td>\n",
       "      <td>[0, 1, 2, 3, 4, 5, 6, 7, 8, 9, 10, 11, 12, 13,...</td>\n",
       "    </tr>\n",
       "    <tr>\n",
       "      <th>2</th>\n",
       "      <td>2</td>\n",
       "      <td>[2, 2, 0, 5, 6, 8, 8, 12, 9, 9, 6, 2, 7, 1, 0,...</td>\n",
       "      <td>[[5.850456465458509, 279.90286483172093, 417.9...</td>\n",
       "      <td>[[0.32134276791509425], [0.25540217827506717],...</td>\n",
       "      <td>[0, 1, 2, 3, 4, 5, 6, 7, 8, 9, 10, 11, 12, 13,...</td>\n",
       "    </tr>\n",
       "    <tr>\n",
       "      <th>3</th>\n",
       "      <td>3</td>\n",
       "      <td>[3, 9, 6, 6, 8, 10, 9, 154, 146, 6, 5, 0, 4, 7...</td>\n",
       "      <td>[[6.150039738760841, 300.02505269705244, 349.5...</td>\n",
       "      <td>[[0.2654288643409178], [0.430321175706038], [0...</td>\n",
       "      <td>[0, 1, 2, 3, 4, 5, 6, 7, 8, 9, 10, 11, 12, 13,...</td>\n",
       "    </tr>\n",
       "    <tr>\n",
       "      <th>4</th>\n",
       "      <td>4</td>\n",
       "      <td>[4, 8, 8, 9, 9, 11, 13, 13, 10, 13, 10, 9, 14,...</td>\n",
       "      <td>[[6.238351989685284, 308.2635234132333, 399.32...</td>\n",
       "      <td>[[0.3794733326848895], [0.3498234953136751], [...</td>\n",
       "      <td>[0, 1, 2, 3, 4, 5, 6, 7, 8, 9, 10, 11, 12, 13,...</td>\n",
       "    </tr>\n",
       "    <tr>\n",
       "      <th>...</th>\n",
       "      <td>...</td>\n",
       "      <td>...</td>\n",
       "      <td>...</td>\n",
       "      <td>...</td>\n",
       "      <td>...</td>\n",
       "    </tr>\n",
       "    <tr>\n",
       "      <th>16619</th>\n",
       "      <td>16619</td>\n",
       "      <td>[123, 137]</td>\n",
       "      <td>[[22.47536527353041, 225.210499490316, 444.939...</td>\n",
       "      <td>[[0.3087716962826537], [0.0]]</td>\n",
       "      <td>[1497, 1498]</td>\n",
       "    </tr>\n",
       "    <tr>\n",
       "      <th>16620</th>\n",
       "      <td>16620</td>\n",
       "      <td>[125, 93]</td>\n",
       "      <td>[[23.031576980568012, 247.93609865470853, 514....</td>\n",
       "      <td>[[0.302108269841081], [0.0]]</td>\n",
       "      <td>[1497, 1498]</td>\n",
       "    </tr>\n",
       "    <tr>\n",
       "      <th>16621</th>\n",
       "      <td>16621</td>\n",
       "      <td>[135, 135]</td>\n",
       "      <td>[[25.22053515868077, 239.75756067205972, 421.7...</td>\n",
       "      <td>[[0.41354483858232116], [0.0]]</td>\n",
       "      <td>[1497, 1498]</td>\n",
       "    </tr>\n",
       "    <tr>\n",
       "      <th>16622</th>\n",
       "      <td>16622</td>\n",
       "      <td>[146, 132]</td>\n",
       "      <td>[[29.038951494365506, 241.31945124938755, 398....</td>\n",
       "      <td>[[0.2476820022724967], [0.0]]</td>\n",
       "      <td>[1497, 1498]</td>\n",
       "    </tr>\n",
       "    <tr>\n",
       "      <th>16623</th>\n",
       "      <td>16623</td>\n",
       "      <td>[158, 157]</td>\n",
       "      <td>[[27.5202903560318, 273.5913584514345, 409.293...</td>\n",
       "      <td>[[0.30690583288529466], [0.0]]</td>\n",
       "      <td>[1497, 1498]</td>\n",
       "    </tr>\n",
       "  </tbody>\n",
       "</table>\n",
       "<p>16624 rows × 5 columns</p>\n",
       "</div>"
      ],
      "text/plain": [
       "       clust_ind                                      all_ind_local  \\\n",
       "0              0  [0, 5, 1, 1, 1, 1, 4, 4, 3, 0, 4, 4, 2, 4, 3, ...   \n",
       "1              1  [1, 4, 4, 2, 5, 7, 6, 7, 7, 7, 7, 1, 3, 9, 10,...   \n",
       "2              2  [2, 2, 0, 5, 6, 8, 8, 12, 9, 9, 6, 2, 7, 1, 0,...   \n",
       "3              3  [3, 9, 6, 6, 8, 10, 9, 154, 146, 6, 5, 0, 4, 7...   \n",
       "4              4  [4, 8, 8, 9, 9, 11, 13, 13, 10, 13, 10, 9, 14,...   \n",
       "...          ...                                                ...   \n",
       "16619      16619                                         [123, 137]   \n",
       "16620      16620                                          [125, 93]   \n",
       "16621      16621                                         [135, 135]   \n",
       "16622      16622                                         [146, 132]   \n",
       "16623      16623                                         [158, 157]   \n",
       "\n",
       "                                                 all_xyz  \\\n",
       "0      [[4.8771146066011655, 297.7740983145629, 424.0...   \n",
       "1      [[4.5420842803383135, 313.3114124967398, 433.1...   \n",
       "2      [[5.850456465458509, 279.90286483172093, 417.9...   \n",
       "3      [[6.150039738760841, 300.02505269705244, 349.5...   \n",
       "4      [[6.238351989685284, 308.2635234132333, 399.32...   \n",
       "...                                                  ...   \n",
       "16619  [[22.47536527353041, 225.210499490316, 444.939...   \n",
       "16620  [[23.031576980568012, 247.93609865470853, 514....   \n",
       "16621  [[25.22053515868077, 239.75756067205972, 421.7...   \n",
       "16622  [[29.038951494365506, 241.31945124938755, 398....   \n",
       "16623  [[27.5202903560318, 273.5913584514345, 409.293...   \n",
       "\n",
       "                                                all_prob  \\\n",
       "0      [[0.3664077302417685], [0.15163196729664105], ...   \n",
       "1      [[0.2292424971146307], [0.25094726101312165], ...   \n",
       "2      [[0.32134276791509425], [0.25540217827506717],...   \n",
       "3      [[0.2654288643409178], [0.430321175706038], [0...   \n",
       "4      [[0.3794733326848895], [0.3498234953136751], [...   \n",
       "...                                                  ...   \n",
       "16619                      [[0.3087716962826537], [0.0]]   \n",
       "16620                       [[0.302108269841081], [0.0]]   \n",
       "16621                     [[0.41354483858232116], [0.0]]   \n",
       "16622                      [[0.2476820022724967], [0.0]]   \n",
       "16623                     [[0.30690583288529466], [0.0]]   \n",
       "\n",
       "                                               slice_ind  \n",
       "0      [0, 1, 2, 3, 4, 5, 6, 7, 8, 9, 10, 11, 12, 13,...  \n",
       "1      [0, 1, 2, 3, 4, 5, 6, 7, 8, 9, 10, 11, 12, 13,...  \n",
       "2      [0, 1, 2, 3, 4, 5, 6, 7, 8, 9, 10, 11, 12, 13,...  \n",
       "3      [0, 1, 2, 3, 4, 5, 6, 7, 8, 9, 10, 11, 12, 13,...  \n",
       "4      [0, 1, 2, 3, 4, 5, 6, 7, 8, 9, 10, 11, 12, 13,...  \n",
       "...                                                  ...  \n",
       "16619                                       [1497, 1498]  \n",
       "16620                                       [1497, 1498]  \n",
       "16621                                       [1497, 1498]  \n",
       "16622                                       [1497, 1498]  \n",
       "16623                                       [1497, 1498]  \n",
       "\n",
       "[16624 rows x 5 columns]"
      ]
     },
     "execution_count": 238,
     "metadata": {},
     "output_type": "execute_result"
    }
   ],
   "source": [
    "raw_clust"
   ]
  },
  {
   "cell_type": "code",
   "execution_count": 253,
   "id": "774a5b79-3344-4f35-950a-7ca4b4d54db6",
   "metadata": {},
   "outputs": [],
   "source": [
    "ind = raw_clust.at[0, 'all_ind_local']\n",
    "slices = raw_clust.at[0, 'slice_ind']"
   ]
  },
  {
   "cell_type": "code",
   "execution_count": 261,
   "id": "e32778c8-dfe3-42ea-b104-57d9cb19856c",
   "metadata": {},
   "outputs": [],
   "source": [
    "segmentation_metadata = project_data.segmentation_metadata\n",
    "this_local_ind = ind\n",
    "which_frames = slices\n",
    "\n",
    "# NOTE: these local indices start at 0, which are direct list indices, not the dataframe indices\n",
    "this_brightness, this_volume = [], []\n",
    "for i_local, i_frame in zip(this_local_ind, which_frames):\n",
    "    this_brightness.append(segmentation_metadata.get_all_brightnesses(i_frame).iloc[i_local])\n",
    "    this_volume.append(segmentation_metadata.get_all_volumes(i_frame).iloc[i_local])\n",
    "this_brightness = np.expand_dims(np.array(this_brightness), -1)\n",
    "this_volume = np.expand_dims(np.array(this_volume), -1)"
   ]
  },
  {
   "cell_type": "code",
   "execution_count": 263,
   "id": "ef561b9c-c429-4113-9c59-6bd6f7e587ea",
   "metadata": {},
   "outputs": [
    {
     "data": {
      "text/plain": [
       "(117, 1)"
      ]
     },
     "execution_count": 263,
     "metadata": {},
     "output_type": "execute_result"
    }
   ],
   "source": [
    "this_brightness.shape"
   ]
  },
  {
   "cell_type": "code",
   "execution_count": null,
   "id": "a38967ea-221e-4bb9-ae69-eebf17303291",
   "metadata": {},
   "outputs": [],
   "source": []
  },
  {
   "cell_type": "code",
   "execution_count": null,
   "id": "c29664d8-e3c3-4fe0-a021-b290ca261e42",
   "metadata": {},
   "outputs": [],
   "source": []
  },
  {
   "cell_type": "code",
   "execution_count": null,
   "id": "b2b3015a-59a7-4630-9668-bd0f7da2985d",
   "metadata": {},
   "outputs": [],
   "source": [
    "m = MatchesWithConfidence()"
   ]
  },
  {
   "cell_type": "code",
   "execution_count": 18,
   "id": "069d2f2f-6bad-4e8a-8f8f-e8a89d80fd61",
   "metadata": {},
   "outputs": [
    {
     "data": {
      "text/html": [
       "<div>\n",
       "<style scoped>\n",
       "    .dataframe tbody tr th:only-of-type {\n",
       "        vertical-align: middle;\n",
       "    }\n",
       "\n",
       "    .dataframe tbody tr th {\n",
       "        vertical-align: top;\n",
       "    }\n",
       "\n",
       "    .dataframe thead tr th {\n",
       "        text-align: left;\n",
       "    }\n",
       "</style>\n",
       "<table border=\"1\" class=\"dataframe\">\n",
       "  <thead>\n",
       "    <tr>\n",
       "      <th>bodyparts</th>\n",
       "      <th colspan=\"4\" halign=\"left\">neuron0</th>\n",
       "      <th colspan=\"4\" halign=\"left\">neuron1</th>\n",
       "      <th colspan=\"2\" halign=\"left\">neuron2</th>\n",
       "      <th>...</th>\n",
       "      <th colspan=\"2\" halign=\"left\">neuron1010807</th>\n",
       "      <th colspan=\"4\" halign=\"left\">neuron1010808</th>\n",
       "      <th colspan=\"4\" halign=\"left\">neuron1010809</th>\n",
       "    </tr>\n",
       "    <tr>\n",
       "      <th>coords</th>\n",
       "      <th>z</th>\n",
       "      <th>x</th>\n",
       "      <th>y</th>\n",
       "      <th>likelihood</th>\n",
       "      <th>z</th>\n",
       "      <th>x</th>\n",
       "      <th>y</th>\n",
       "      <th>likelihood</th>\n",
       "      <th>z</th>\n",
       "      <th>x</th>\n",
       "      <th>...</th>\n",
       "      <th>y</th>\n",
       "      <th>likelihood</th>\n",
       "      <th>z</th>\n",
       "      <th>x</th>\n",
       "      <th>y</th>\n",
       "      <th>likelihood</th>\n",
       "      <th>z</th>\n",
       "      <th>x</th>\n",
       "      <th>y</th>\n",
       "      <th>likelihood</th>\n",
       "    </tr>\n",
       "  </thead>\n",
       "  <tbody>\n",
       "    <tr>\n",
       "      <th>0</th>\n",
       "      <td>4.877115</td>\n",
       "      <td>297.774098</td>\n",
       "      <td>424.044846</td>\n",
       "      <td>0.366408</td>\n",
       "      <td>4.542084</td>\n",
       "      <td>313.311412</td>\n",
       "      <td>433.153732</td>\n",
       "      <td>0.229242</td>\n",
       "      <td>5.850456</td>\n",
       "      <td>279.902865</td>\n",
       "      <td>...</td>\n",
       "      <td>NaN</td>\n",
       "      <td>NaN</td>\n",
       "      <td>NaN</td>\n",
       "      <td>NaN</td>\n",
       "      <td>NaN</td>\n",
       "      <td>NaN</td>\n",
       "      <td>NaN</td>\n",
       "      <td>NaN</td>\n",
       "      <td>NaN</td>\n",
       "      <td>NaN</td>\n",
       "    </tr>\n",
       "    <tr>\n",
       "      <th>1</th>\n",
       "      <td>4.495950</td>\n",
       "      <td>280.282714</td>\n",
       "      <td>407.775260</td>\n",
       "      <td>0.151632</td>\n",
       "      <td>4.130645</td>\n",
       "      <td>298.316611</td>\n",
       "      <td>412.867468</td>\n",
       "      <td>0.250947</td>\n",
       "      <td>5.305299</td>\n",
       "      <td>261.702269</td>\n",
       "      <td>...</td>\n",
       "      <td>NaN</td>\n",
       "      <td>NaN</td>\n",
       "      <td>NaN</td>\n",
       "      <td>NaN</td>\n",
       "      <td>NaN</td>\n",
       "      <td>NaN</td>\n",
       "      <td>NaN</td>\n",
       "      <td>NaN</td>\n",
       "      <td>NaN</td>\n",
       "      <td>NaN</td>\n",
       "    </tr>\n",
       "    <tr>\n",
       "      <th>2</th>\n",
       "      <td>6.018471</td>\n",
       "      <td>272.740668</td>\n",
       "      <td>406.364028</td>\n",
       "      <td>0.431153</td>\n",
       "      <td>4.173412</td>\n",
       "      <td>287.559807</td>\n",
       "      <td>406.981428</td>\n",
       "      <td>0.337725</td>\n",
       "      <td>6.034031</td>\n",
       "      <td>253.445313</td>\n",
       "      <td>...</td>\n",
       "      <td>NaN</td>\n",
       "      <td>NaN</td>\n",
       "      <td>NaN</td>\n",
       "      <td>NaN</td>\n",
       "      <td>NaN</td>\n",
       "      <td>NaN</td>\n",
       "      <td>NaN</td>\n",
       "      <td>NaN</td>\n",
       "      <td>NaN</td>\n",
       "      <td>NaN</td>\n",
       "    </tr>\n",
       "    <tr>\n",
       "      <th>3</th>\n",
       "      <td>5.427147</td>\n",
       "      <td>255.625872</td>\n",
       "      <td>396.335380</td>\n",
       "      <td>0.304492</td>\n",
       "      <td>4.098089</td>\n",
       "      <td>271.716247</td>\n",
       "      <td>396.642877</td>\n",
       "      <td>0.269064</td>\n",
       "      <td>6.139057</td>\n",
       "      <td>237.078493</td>\n",
       "      <td>...</td>\n",
       "      <td>NaN</td>\n",
       "      <td>NaN</td>\n",
       "      <td>NaN</td>\n",
       "      <td>NaN</td>\n",
       "      <td>NaN</td>\n",
       "      <td>NaN</td>\n",
       "      <td>NaN</td>\n",
       "      <td>NaN</td>\n",
       "      <td>NaN</td>\n",
       "      <td>NaN</td>\n",
       "    </tr>\n",
       "    <tr>\n",
       "      <th>4</th>\n",
       "      <td>5.120417</td>\n",
       "      <td>249.088674</td>\n",
       "      <td>407.942513</td>\n",
       "      <td>0.399028</td>\n",
       "      <td>3.630491</td>\n",
       "      <td>264.485370</td>\n",
       "      <td>415.498987</td>\n",
       "      <td>0.265040</td>\n",
       "      <td>6.745626</td>\n",
       "      <td>232.108068</td>\n",
       "      <td>...</td>\n",
       "      <td>NaN</td>\n",
       "      <td>NaN</td>\n",
       "      <td>NaN</td>\n",
       "      <td>NaN</td>\n",
       "      <td>NaN</td>\n",
       "      <td>NaN</td>\n",
       "      <td>NaN</td>\n",
       "      <td>NaN</td>\n",
       "      <td>NaN</td>\n",
       "      <td>NaN</td>\n",
       "    </tr>\n",
       "    <tr>\n",
       "      <th>...</th>\n",
       "      <td>...</td>\n",
       "      <td>...</td>\n",
       "      <td>...</td>\n",
       "      <td>...</td>\n",
       "      <td>...</td>\n",
       "      <td>...</td>\n",
       "      <td>...</td>\n",
       "      <td>...</td>\n",
       "      <td>...</td>\n",
       "      <td>...</td>\n",
       "      <td>...</td>\n",
       "      <td>...</td>\n",
       "      <td>...</td>\n",
       "      <td>...</td>\n",
       "      <td>...</td>\n",
       "      <td>...</td>\n",
       "      <td>...</td>\n",
       "      <td>...</td>\n",
       "      <td>...</td>\n",
       "      <td>...</td>\n",
       "      <td>...</td>\n",
       "    </tr>\n",
       "    <tr>\n",
       "      <th>1494</th>\n",
       "      <td>NaN</td>\n",
       "      <td>NaN</td>\n",
       "      <td>NaN</td>\n",
       "      <td>NaN</td>\n",
       "      <td>NaN</td>\n",
       "      <td>NaN</td>\n",
       "      <td>NaN</td>\n",
       "      <td>NaN</td>\n",
       "      <td>NaN</td>\n",
       "      <td>NaN</td>\n",
       "      <td>...</td>\n",
       "      <td>NaN</td>\n",
       "      <td>NaN</td>\n",
       "      <td>NaN</td>\n",
       "      <td>NaN</td>\n",
       "      <td>NaN</td>\n",
       "      <td>NaN</td>\n",
       "      <td>NaN</td>\n",
       "      <td>NaN</td>\n",
       "      <td>NaN</td>\n",
       "      <td>NaN</td>\n",
       "    </tr>\n",
       "    <tr>\n",
       "      <th>1495</th>\n",
       "      <td>NaN</td>\n",
       "      <td>NaN</td>\n",
       "      <td>NaN</td>\n",
       "      <td>NaN</td>\n",
       "      <td>NaN</td>\n",
       "      <td>NaN</td>\n",
       "      <td>NaN</td>\n",
       "      <td>NaN</td>\n",
       "      <td>NaN</td>\n",
       "      <td>NaN</td>\n",
       "      <td>...</td>\n",
       "      <td>NaN</td>\n",
       "      <td>NaN</td>\n",
       "      <td>NaN</td>\n",
       "      <td>NaN</td>\n",
       "      <td>NaN</td>\n",
       "      <td>NaN</td>\n",
       "      <td>NaN</td>\n",
       "      <td>NaN</td>\n",
       "      <td>NaN</td>\n",
       "      <td>NaN</td>\n",
       "    </tr>\n",
       "    <tr>\n",
       "      <th>1496</th>\n",
       "      <td>NaN</td>\n",
       "      <td>NaN</td>\n",
       "      <td>NaN</td>\n",
       "      <td>NaN</td>\n",
       "      <td>NaN</td>\n",
       "      <td>NaN</td>\n",
       "      <td>NaN</td>\n",
       "      <td>NaN</td>\n",
       "      <td>NaN</td>\n",
       "      <td>NaN</td>\n",
       "      <td>...</td>\n",
       "      <td>NaN</td>\n",
       "      <td>NaN</td>\n",
       "      <td>NaN</td>\n",
       "      <td>NaN</td>\n",
       "      <td>NaN</td>\n",
       "      <td>NaN</td>\n",
       "      <td>NaN</td>\n",
       "      <td>NaN</td>\n",
       "      <td>NaN</td>\n",
       "      <td>NaN</td>\n",
       "    </tr>\n",
       "    <tr>\n",
       "      <th>1497</th>\n",
       "      <td>NaN</td>\n",
       "      <td>NaN</td>\n",
       "      <td>NaN</td>\n",
       "      <td>NaN</td>\n",
       "      <td>NaN</td>\n",
       "      <td>NaN</td>\n",
       "      <td>NaN</td>\n",
       "      <td>NaN</td>\n",
       "      <td>NaN</td>\n",
       "      <td>NaN</td>\n",
       "      <td>...</td>\n",
       "      <td>NaN</td>\n",
       "      <td>NaN</td>\n",
       "      <td>NaN</td>\n",
       "      <td>NaN</td>\n",
       "      <td>NaN</td>\n",
       "      <td>NaN</td>\n",
       "      <td>NaN</td>\n",
       "      <td>NaN</td>\n",
       "      <td>NaN</td>\n",
       "      <td>NaN</td>\n",
       "    </tr>\n",
       "    <tr>\n",
       "      <th>1498</th>\n",
       "      <td>NaN</td>\n",
       "      <td>NaN</td>\n",
       "      <td>NaN</td>\n",
       "      <td>NaN</td>\n",
       "      <td>NaN</td>\n",
       "      <td>NaN</td>\n",
       "      <td>NaN</td>\n",
       "      <td>NaN</td>\n",
       "      <td>NaN</td>\n",
       "      <td>NaN</td>\n",
       "      <td>...</td>\n",
       "      <td>NaN</td>\n",
       "      <td>NaN</td>\n",
       "      <td>NaN</td>\n",
       "      <td>NaN</td>\n",
       "      <td>NaN</td>\n",
       "      <td>NaN</td>\n",
       "      <td>NaN</td>\n",
       "      <td>NaN</td>\n",
       "      <td>NaN</td>\n",
       "      <td>NaN</td>\n",
       "    </tr>\n",
       "  </tbody>\n",
       "</table>\n",
       "<p>1499 rows × 43236 columns</p>\n",
       "</div>"
      ],
      "text/plain": [
       "bodyparts   neuron0                                      neuron1              \\\n",
       "coords            z           x           y likelihood         z           x   \n",
       "0          4.877115  297.774098  424.044846   0.366408  4.542084  313.311412   \n",
       "1          4.495950  280.282714  407.775260   0.151632  4.130645  298.316611   \n",
       "2          6.018471  272.740668  406.364028   0.431153  4.173412  287.559807   \n",
       "3          5.427147  255.625872  396.335380   0.304492  4.098089  271.716247   \n",
       "4          5.120417  249.088674  407.942513   0.399028  3.630491  264.485370   \n",
       "...             ...         ...         ...        ...       ...         ...   \n",
       "1494            NaN         NaN         NaN        NaN       NaN         NaN   \n",
       "1495            NaN         NaN         NaN        NaN       NaN         NaN   \n",
       "1496            NaN         NaN         NaN        NaN       NaN         NaN   \n",
       "1497            NaN         NaN         NaN        NaN       NaN         NaN   \n",
       "1498            NaN         NaN         NaN        NaN       NaN         NaN   \n",
       "\n",
       "bodyparts                          neuron2              ... neuron1010807  \\\n",
       "coords              y likelihood         z           x  ...             y   \n",
       "0          433.153732   0.229242  5.850456  279.902865  ...           NaN   \n",
       "1          412.867468   0.250947  5.305299  261.702269  ...           NaN   \n",
       "2          406.981428   0.337725  6.034031  253.445313  ...           NaN   \n",
       "3          396.642877   0.269064  6.139057  237.078493  ...           NaN   \n",
       "4          415.498987   0.265040  6.745626  232.108068  ...           NaN   \n",
       "...               ...        ...       ...         ...  ...           ...   \n",
       "1494              NaN        NaN       NaN         NaN  ...           NaN   \n",
       "1495              NaN        NaN       NaN         NaN  ...           NaN   \n",
       "1496              NaN        NaN       NaN         NaN  ...           NaN   \n",
       "1497              NaN        NaN       NaN         NaN  ...           NaN   \n",
       "1498              NaN        NaN       NaN         NaN  ...           NaN   \n",
       "\n",
       "bodyparts            neuron1010808                    neuron1010809          \\\n",
       "coords    likelihood             z   x   y likelihood             z   x   y   \n",
       "0                NaN           NaN NaN NaN        NaN           NaN NaN NaN   \n",
       "1                NaN           NaN NaN NaN        NaN           NaN NaN NaN   \n",
       "2                NaN           NaN NaN NaN        NaN           NaN NaN NaN   \n",
       "3                NaN           NaN NaN NaN        NaN           NaN NaN NaN   \n",
       "4                NaN           NaN NaN NaN        NaN           NaN NaN NaN   \n",
       "...              ...           ...  ..  ..        ...           ...  ..  ..   \n",
       "1494             NaN           NaN NaN NaN        NaN           NaN NaN NaN   \n",
       "1495             NaN           NaN NaN NaN        NaN           NaN NaN NaN   \n",
       "1496             NaN           NaN NaN NaN        NaN           NaN NaN NaN   \n",
       "1497             NaN           NaN NaN NaN        NaN           NaN NaN NaN   \n",
       "1498             NaN           NaN NaN NaN        NaN           NaN NaN NaN   \n",
       "\n",
       "bodyparts             \n",
       "coords    likelihood  \n",
       "0                NaN  \n",
       "1                NaN  \n",
       "2                NaN  \n",
       "3                NaN  \n",
       "4                NaN  \n",
       "...              ...  \n",
       "1494             NaN  \n",
       "1495             NaN  \n",
       "1496             NaN  \n",
       "1497             NaN  \n",
       "1498             NaN  \n",
       "\n",
       "[1499 rows x 43236 columns]"
      ]
     },
     "execution_count": 18,
     "metadata": {},
     "output_type": "execute_result"
    }
   ],
   "source": [
    "tracklet_dictionary.df_tracklets_zxy"
   ]
  },
  {
   "cell_type": "code",
   "execution_count": null,
   "id": "07428a7f-ff88-48b9-a570-bb78c9d107c9",
   "metadata": {},
   "outputs": [],
   "source": []
  },
  {
   "cell_type": "code",
   "execution_count": 147,
   "id": "2b339f39-c93f-451c-961e-038db019dbdf",
   "metadata": {},
   "outputs": [
    {
     "data": {
      "text/plain": [
       "(array([  0,   1,   2,   3,   4,   5,   6,   7,   8,   9,  10,  11,  12,\n",
       "         13,  14,  15,  16,  17,  18,  19,  20,  21,  22,  23,  24,  25,\n",
       "         26,  27,  28,  29,  30,  31,  32,  33,  34,  35,  36,  37,  38,\n",
       "         39,  40,  41,  42,  43,  44,  45,  46,  47,  48,  49,  50,  51,\n",
       "         52,  53,  54,  55,  56,  57,  58,  59,  60,  61,  62,  63,  64,\n",
       "         65,  66,  67,  68,  69,  70,  71,  72,  73,  74,  75,  76,  77,\n",
       "         78,  79,  80,  81,  82,  83,  84,  85,  86,  87,  88,  89,  90,\n",
       "         91,  92,  93,  94,  95,  96,  97,  98,  99, 100, 101, 102, 103,\n",
       "        104, 105, 106, 107, 108, 109, 110, 111, 112, 113, 114, 115, 116]),)"
      ]
     },
     "execution_count": 147,
     "metadata": {},
     "output_type": "execute_result"
    }
   ],
   "source": [
    "np.where(df_tracklets['neuron0']['z'].notnull())"
   ]
  },
  {
   "cell_type": "code",
   "execution_count": 151,
   "id": "a67a9767-d78b-4782-a15d-c9cd3d5ceb0e",
   "metadata": {},
   "outputs": [
    {
     "data": {
      "text/plain": [
       "4.8771146066011655"
      ]
     },
     "execution_count": 151,
     "metadata": {},
     "output_type": "execute_result"
    }
   ],
   "source": [
    "tracklet['z'].iloc[0]"
   ]
  },
  {
   "cell_type": "code",
   "execution_count": 161,
   "id": "b96e1cbc-6548-4bba-a54b-25e998241f2a",
   "metadata": {},
   "outputs": [
    {
     "data": {
      "text/plain": [
       "Index(['neuron0', 'neuron1', 'neuron2', 'neuron3', 'neuron4', 'neuron5',\n",
       "       'neuron6', 'neuron7', 'neuron8', 'neuron9',\n",
       "       ...\n",
       "       'neuron1010800', 'neuron1010801', 'neuron1010802', 'neuron1010803',\n",
       "       'neuron1010804', 'neuron1010805', 'neuron1010806', 'neuron1010807',\n",
       "       'neuron1010808', 'neuron1010809'],\n",
       "      dtype='object', name='bodyparts', length=10809)"
      ]
     },
     "execution_count": 161,
     "metadata": {},
     "output_type": "execute_result"
    }
   ],
   "source": [
    "all_tracklet_names = df_tracklets.columns.get_level_values(0).drop_duplicates()\n",
    "all_tracklet_names"
   ]
  },
  {
   "cell_type": "code",
   "execution_count": null,
   "id": "a7dbcd0b-26ee-42ec-9a66-6c85b3023c4b",
   "metadata": {},
   "outputs": [],
   "source": []
  },
  {
   "cell_type": "code",
   "execution_count": null,
   "id": "2497d145-4049-4d67-9a2a-bfcdee43df26",
   "metadata": {},
   "outputs": [],
   "source": []
  },
  {
   "cell_type": "code",
   "execution_count": null,
   "id": "fb393fcb-19d1-4a3b-a5fd-64da2574ac6a",
   "metadata": {},
   "outputs": [],
   "source": []
  },
  {
   "cell_type": "code",
   "execution_count": null,
   "id": "bdd7149c-5fbb-4729-88d6-f2fe6d11f524",
   "metadata": {},
   "outputs": [],
   "source": []
  },
  {
   "cell_type": "code",
   "execution_count": 41,
   "id": "9948fd62-df9a-400f-8250-b04c12c72b06",
   "metadata": {},
   "outputs": [
    {
     "data": {
      "text/plain": [
       "(array([], dtype=int64),)"
      ]
     },
     "execution_count": 41,
     "metadata": {},
     "output_type": "execute_result"
    }
   ],
   "source": [
    "np.where(~np.isfinite(centerlineK.shape))"
   ]
  },
  {
   "cell_type": "code",
   "execution_count": 45,
   "id": "4dfb8f16-be3e-41b3-9fa0-60c7f5d28b0a",
   "metadata": {},
   "outputs": [
    {
     "data": {
      "text/plain": [
       "[<matplotlib.lines.Line2D at 0x7f843744ca50>]"
      ]
     },
     "execution_count": 45,
     "metadata": {},
     "output_type": "execute_result"
    },
    {
     "data": {
      "image/png": "[encoded data removed]",
      "text/plain": [
       "<Figure size 432x288 with 1 Axes>"
      ]
     },
     "metadata": {
      "needs_background": "light"
     },
     "output_type": "display_data"
    }
   ],
   "source": [
    "plt.plot(centerlineK.count(axis=1))"
   ]
  },
  {
   "cell_type": "code",
   "execution_count": 56,
   "id": "86afe1a9-97f1-4f78-a980-e7db605e8bae",
   "metadata": {},
   "outputs": [
    {
     "data": {
      "text/plain": [
       "(67995, 100)"
      ]
     },
     "execution_count": 56,
     "metadata": {},
     "output_type": "execute_result"
    }
   ],
   "source": [
    "centerlineK.shape"
   ]
  },
  {
   "cell_type": "code",
   "execution_count": 53,
   "id": "fbc72a06-d486-4134-b97f-22fd6485323b",
   "metadata": {},
   "outputs": [
    {
     "data": {
      "text/plain": [
       "-20.097424644876696"
      ]
     },
     "execution_count": 53,
     "metadata": {},
     "output_type": "execute_result"
    }
   ],
   "source": [
    "np.nanmin(centerlineK)"
   ]
  },
  {
   "cell_type": "code",
   "execution_count": null,
   "id": "438d6457-21f3-4673-91f6-17c800351d2c",
   "metadata": {},
   "outputs": [],
   "source": []
  },
  {
   "cell_type": "code",
   "execution_count": null,
   "id": "d55f76a8-4dd8-4def-b840-045b9c57fc31",
   "metadata": {},
   "outputs": [],
   "source": []
  },
  {
   "cell_type": "code",
   "execution_count": null,
   "id": "d711ae2c-0c92-4824-b316-4e6cfebf3a43",
   "metadata": {},
   "outputs": [],
   "source": []
  }
 ],
 "metadata": {
  "kernelspec": {
   "display_name": "Python 3 (ipykernel)",
   "language": "python",
   "name": "python3"
  },
  "language_info": {
   "codemirror_mode": {
    "name": "ipython",
    "version": 3
   },
   "file_extension": ".py",
   "mimetype": "text/x-python",
   "name": "python",
   "nbconvert_exporter": "python",
   "pygments_lexer": "ipython3",
   "version": "3.7.11"
  }
 },
 "nbformat": 4,
 "nbformat_minor": 5
}
