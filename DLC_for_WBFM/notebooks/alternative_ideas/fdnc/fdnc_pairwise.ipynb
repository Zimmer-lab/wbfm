{
 "cells": [
  {
   "cell_type": "markdown",
   "id": "2b33f005",
   "metadata": {},
   "source": [
    "# Template matching but using all neurons, not just the template ones"
   ]
  },
  {
   "cell_type": "code",
   "execution_count": 10,
   "id": "43458c58",
   "metadata": {},
   "outputs": [
    {
     "name": "stdout",
     "output_type": "stream",
     "text": [
      "The autoreload extension is already loaded. To reload it, use:\n",
      "  %reload_ext autoreload\n"
     ]
    }
   ],
   "source": [
    "%load_ext autoreload\n",
    "%autoreload 2\n",
    "import matplotlib.pyplot as plt\n",
    "from wbfm.utils.xinwei_fdnc.formatting import zimmer2leifer\n",
    "from wbfm.utils.xinwei_fdnc.predict import load_fdnc_options_and_template, track_using_fdnc\n",
    "import numpy as np\n",
    "import pandas as pd\n",
    "from collections import defaultdict\n",
    "from tqdm.auto import tqdm\n",
    "import os\n",
    "from fDNC.src.DNC_predict import pre_matt, predict_matches, filter_matches\n",
    "from wbfm.utils.projects.utils_neuron_names import int2name\n",
    "from wbfm.utils.feature_detection.utils_candidate_matches import matches_to_sparse_matrix"
   ]
  },
  {
   "cell_type": "code",
   "execution_count": 25,
   "id": "513c5628",
   "metadata": {},
   "outputs": [
    {
     "name": "stderr",
     "output_type": "stream",
     "text": [
      "WARNING:root:Did not find file /scratch/zimmer/Charles/dlc_stacks/worm3-fdnc_pairwise/3-tracking/postprocessing/manual_behavior_annotation.xlsx\n"
     ]
    },
    {
     "name": "stdout",
     "output_type": "stream",
     "text": [
      "=======================================\n",
      "Project data for directory:\n",
      "/scratch/zimmer/Charles/dlc_stacks/worm3-fdnc_pairwise \n",
      "=======================================\n",
      "Found the following raw data files:\n",
      "red_data: True\n",
      "green_data: True\n",
      "============Segmentation===============\n",
      "raw_segmentation: True\n",
      "segmentation: True\n",
      "============Tracklets==================\n",
      "df_training_tracklets: True\n",
      "reindexed_masks_training: True\n",
      "============Traces=====================\n",
      "red_traces: True\n",
      "green_traces: True\n",
      "final_tracks: True\n",
      "behavior_annotations: False\n",
      "\n"
     ]
    }
   ],
   "source": [
    "from wbfm.utils.projects.finished_project_data import ProjectData\n",
    "fname = \"/scratch/zimmer/Charles/dlc_stacks/worm3-fdnc_pairwise/project_config.yaml\"\n",
    "# fname = \"/scratch/zimmer/Charles/dlc_stacks/project-pytest/project_config.yaml\"\n",
    "project_data = ProjectData.load_final_project_data_from_config(fname)"
   ]
  },
  {
   "cell_type": "code",
   "execution_count": 26,
   "id": "3b340f3b",
   "metadata": {},
   "outputs": [],
   "source": [
    "default_package_path = \"/scratch/zimmer/Charles/github_repos/fDNC_Neuron_ID\"\n",
    "\n",
    "def __load_fdnc_template():\n",
    "    temp_fname = os.path.join(default_package_path, 'Data', 'Example', 'template.data')\n",
    "    temp = pre_matt(temp_fname)\n",
    "    return temp"
   ]
  },
  {
   "cell_type": "code",
   "execution_count": 27,
   "id": "3c99f1cd",
   "metadata": {},
   "outputs": [],
   "source": [
    "all_matches = project_data.raw_matches"
   ]
  },
  {
   "cell_type": "markdown",
   "id": "8440aebf",
   "metadata": {},
   "source": [
    "# Look at performance of direct pair-wise fdnc"
   ]
  },
  {
   "cell_type": "code",
   "execution_count": 28,
   "id": "46fae7e9",
   "metadata": {},
   "outputs": [],
   "source": [
    "obj = all_matches[(0,1)]\n",
    "m = obj.final_matches"
   ]
  },
  {
   "cell_type": "code",
   "execution_count": 37,
   "id": "77b2a1db",
   "metadata": {},
   "outputs": [],
   "source": [
    "cm = obj.all_candidate_matches"
   ]
  },
  {
   "cell_type": "code",
   "execution_count": 39,
   "id": "559f25bf",
   "metadata": {},
   "outputs": [
    {
     "data": {
      "text/plain": [
       "[(23, 22, 0.2823131087939511),\n",
       " (23, 22, 0.22357245526322228),\n",
       " (23, 22, 0.40404177320914814),\n",
       " (23, 18, 0.5766722)]"
      ]
     },
     "execution_count": 39,
     "metadata": {},
     "output_type": "execute_result"
    }
   ],
   "source": [
    "[match for match in cm if match[0]==23]"
   ]
  },
  {
   "cell_type": "code",
   "execution_count": 40,
   "id": "4b661fab",
   "metadata": {},
   "outputs": [
    {
     "data": {
      "text/plain": [
       "[(34, 22, 0.1282840805842943),\n",
       " (34, 22, 0.7265759451673162),\n",
       " (34, 22, 0.48169032)]"
      ]
     },
     "execution_count": 40,
     "metadata": {},
     "output_type": "execute_result"
    }
   ],
   "source": [
    "[match for match in cm if match[0]==34]"
   ]
  },
  {
   "cell_type": "code",
   "execution_count": 36,
   "id": "8eacac2d",
   "metadata": {
    "scrolled": true
   },
   "outputs": [
    {
     "name": "stdout",
     "output_type": "stream",
     "text": [
      "Found match (34, 22) with confidence 0.8708411870796702\n",
      "Neuron not matched using feature method\n",
      "Same match from affine method with confidence: 0.1282840805842943\n",
      "Same match from gaussian process method with confidence: 0.7265759451673162\n",
      "Same match from fdnc (neural network) method with confidence: 0.48169031739234924\n"
     ]
    }
   ],
   "source": [
    "obj.print_reason_for_match((34, 22))"
   ]
  },
  {
   "cell_type": "code",
   "execution_count": 41,
   "id": "537c6a1e",
   "metadata": {},
   "outputs": [],
   "source": [
    "# v = project_data.napari_of_single_match((0,1))"
   ]
  },
  {
   "cell_type": "code",
   "execution_count": 42,
   "id": "1eb93f61",
   "metadata": {
    "scrolled": true
   },
   "outputs": [],
   "source": [
    "# obj.print_reason_for_all_final_matches()"
   ]
  },
  {
   "cell_type": "code",
   "execution_count": null,
   "id": "dd0c9ccd",
   "metadata": {},
   "outputs": [],
   "source": []
  }
 ],
 "metadata": {
  "kernelspec": {
   "display_name": "Python 3 (ipykernel)",
   "language": "python",
   "name": "python3"
  },
  "language_info": {
   "codemirror_mode": {
    "name": "ipython",
    "version": 3
   },
   "file_extension": ".py",
   "mimetype": "text/x-python",
   "name": "python",
   "nbconvert_exporter": "python",
   "pygments_lexer": "ipython3",
   "version": "3.7.11"
  }
 },
 "nbformat": 4,
 "nbformat_minor": 5
}
