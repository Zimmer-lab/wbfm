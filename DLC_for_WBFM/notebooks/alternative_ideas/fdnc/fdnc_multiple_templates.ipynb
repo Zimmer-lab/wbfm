{
 "cells": [
  {
   "cell_type": "markdown",
   "id": "5e60b06b-228a-4abf-a71b-6e769f30605e",
   "metadata": {},
   "source": [
    "# Use metadata from multiple templates for fdnc"
   ]
  },
  {
   "cell_type": "code",
   "execution_count": 15,
   "id": "bbc5ae23-bf47-46ca-920f-6f3d1be18d0d",
   "metadata": {},
   "outputs": [
    {
     "name": "stdout",
     "output_type": "stream",
     "text": [
      "The autoreload extension is already loaded. To reload it, use:\n",
      "  %reload_ext autoreload\n"
     ]
    }
   ],
   "source": [
    "%load_ext autoreload\n",
    "%autoreload 2\n",
    "import matplotlib.pyplot as plt\n",
    "from DLC_for_WBFM.utils.xinwei_fdnc.formatting import zimmer2leifer\n",
    "from DLC_for_WBFM.utils.xinwei_fdnc.predict import load_fdnc_options_and_template, track_using_fdnc\n",
    "import numpy as np"
   ]
  },
  {
   "cell_type": "code",
   "execution_count": 16,
   "id": "6542bd92-59a3-473e-bede-cff0a0e1f12d",
   "metadata": {},
   "outputs": [
    {
     "name": "stderr",
     "output_type": "stream",
     "text": [
      "WARNING:root:Did not find file /scratch/zimmer/Charles/dlc_stacks/worm3-2021_09_29/4-traces/red_traces.h5\n",
      "WARNING:root:Did not find file /scratch/zimmer/Charles/dlc_stacks/worm3-2021_09_29/4-traces/green_traces.h5\n",
      "WARNING:root:Did not find file /scratch/zimmer/Charles/dlc_stacks/worm3-2021_09_29/4-traces/reindexed_masks.zarr\n"
     ]
    },
    {
     "name": "stdout",
     "output_type": "stream",
     "text": [
      "=======================================\n",
      "Project data for directory:\n",
      "/scratch/zimmer/Charles/dlc_stacks/worm3-2021_09_29 \n",
      "=======================================\n",
      "Found the following raw data files:\n",
      "red_data: True\n",
      "green_data: True\n",
      "============Segmentation===============\n",
      "raw_segmentation: True\n",
      "segmentation: False\n",
      "============Tracklets==================\n",
      "df_training_tracklets: True\n",
      "reindexed_masks_training: True\n",
      "============Traces=====================\n",
      "red_traces: False\n",
      "green_traces: False\n",
      "final_tracks: True\n",
      "behavior_annotations: True\n",
      "\n"
     ]
    }
   ],
   "source": [
    "from DLC_for_WBFM.utils.projects.finished_project_data import ProjectData\n",
    "fname = \"/scratch/zimmer/Charles/dlc_stacks/worm3-2021_09_29/project_config.yaml\"\n",
    "# fname = \"/scratch/zimmer/Charles/dlc_stacks/project-pytest/project_config.yaml\"\n",
    "project_data = ProjectData.load_final_project_data_from_config(fname)"
   ]
  },
  {
   "cell_type": "code",
   "execution_count": 17,
   "id": "58549918-e906-4144-88d9-84ffd2f5f747",
   "metadata": {},
   "outputs": [],
   "source": [
    "import pandas as pd\n",
    "from collections import defaultdict\n",
    "from tqdm.auto import tqdm\n",
    "from fDNC.src.DNC_predict import pre_matt, predict_matches, filter_matches\n",
    "from DLC_for_WBFM.utils.projects.utils_neuron_names import int2name\n",
    "\n",
    "def track_using_fdnc_ONLY_TRAINING(project_dat: ProjectData,\n",
    "                                   template_pos,\n",
    "                                   prediction_options,\n",
    "                                   match_confidence_threshold,\n",
    "                                   num_frames):\n",
    "    # Loop through detections and match all to template\n",
    "\n",
    "    # Initialize\n",
    "#     num_frames = project_dat.num_frames - 1\n",
    "    coords = ['z', 'x', 'y', 'likelihood']\n",
    "\n",
    "    sz = (num_frames, len(coords))\n",
    "    neuron_arrays = defaultdict(lambda: np.zeros(sz))\n",
    "    all_matches = []\n",
    "    for i_frame in tqdm(range(num_frames), total=num_frames, leave=False):\n",
    "\n",
    "        pts = project_dat.get_centroids_as_numpy_training(i_frame)\n",
    "        pts_scaled = zimmer2leifer(pts)\n",
    "        # Match\n",
    "        matches = predict_matches(test_pos=pts_scaled, template_pos=template_pos, **prediction_options)\n",
    "        matches = filter_matches(matches, match_confidence_threshold)\n",
    "\n",
    "        # For each match, save location\n",
    "        for m in matches:\n",
    "            this_unscaled_pt = pts[m[1]]\n",
    "            this_template_idx = m[0]\n",
    "\n",
    "            neuron_arrays[this_template_idx][i_frame, :3] = this_unscaled_pt\n",
    "            neuron_arrays[this_template_idx][i_frame, 3] = m[2]  # Match confidence\n",
    "        all_matches.append(matches)\n",
    "\n",
    "    # Convert to pandas multiindexing formatting\n",
    "    new_dict = {}\n",
    "    for i_template, data in neuron_arrays.items():\n",
    "        for i_col, coord_name in enumerate(coords):\n",
    "            # Note: these neuron names are final for all subsequent steps\n",
    "            k = (int2name(i_template + 1), coord_name)\n",
    "            new_dict[k] = data[:, i_col]\n",
    "\n",
    "    df = pd.DataFrame(new_dict)\n",
    "\n",
    "    return df, all_matches\n",
    "\n",
    "def generate_template(i):\n",
    "    custom_template = project_data.get_centroids_as_numpy_training(i)\n",
    "    return zimmer2leifer(custom_template)"
   ]
  },
  {
   "cell_type": "code",
   "execution_count": 18,
   "id": "023418e2-61bb-48fd-b5b9-41b6060adc9c",
   "metadata": {},
   "outputs": [],
   "source": [
    "num_templates = project_data.reindexed_metadata_training.num_frames\n",
    "all_templates = [generate_template(i) for i in range(num_templates)]\n",
    "\n",
    "base_prediction_options, _, _ = load_fdnc_options_and_template()\n",
    "\n",
    "match_confidence_threshold = 0.3"
   ]
  },
  {
   "cell_type": "code",
   "execution_count": 19,
   "id": "c9c4ebe8-fbb0-4673-a740-cb71febcd196",
   "metadata": {},
   "outputs": [
    {
     "data": {
      "application/vnd.jupyter.widget-view+json": {
       "model_id": "4c30896ca5f24c2389cde392f1d3ed1d",
       "version_major": 2,
       "version_minor": 0
      },
      "text/plain": [
       "  0%|          | 0/10 [00:00<?, ?it/s]"
      ]
     },
     "metadata": {},
     "output_type": "display_data"
    },
    {
     "data": {
      "application/vnd.jupyter.widget-view+json": {
       "model_id": "",
       "version_major": 2,
       "version_minor": 0
      },
      "text/plain": [
       "  0%|          | 0/10 [00:00<?, ?it/s]"
      ]
     },
     "metadata": {},
     "output_type": "display_data"
    },
    {
     "data": {
      "application/vnd.jupyter.widget-view+json": {
       "model_id": "",
       "version_major": 2,
       "version_minor": 0
      },
      "text/plain": [
       "  0%|          | 0/10 [00:00<?, ?it/s]"
      ]
     },
     "metadata": {},
     "output_type": "display_data"
    },
    {
     "data": {
      "application/vnd.jupyter.widget-view+json": {
       "model_id": "",
       "version_major": 2,
       "version_minor": 0
      },
      "text/plain": [
       "  0%|          | 0/10 [00:00<?, ?it/s]"
      ]
     },
     "metadata": {},
     "output_type": "display_data"
    },
    {
     "data": {
      "application/vnd.jupyter.widget-view+json": {
       "model_id": "",
       "version_major": 2,
       "version_minor": 0
      },
      "text/plain": [
       "  0%|          | 0/10 [00:00<?, ?it/s]"
      ]
     },
     "metadata": {},
     "output_type": "display_data"
    },
    {
     "data": {
      "application/vnd.jupyter.widget-view+json": {
       "model_id": "",
       "version_major": 2,
       "version_minor": 0
      },
      "text/plain": [
       "  0%|          | 0/10 [00:00<?, ?it/s]"
      ]
     },
     "metadata": {},
     "output_type": "display_data"
    },
    {
     "data": {
      "application/vnd.jupyter.widget-view+json": {
       "model_id": "",
       "version_major": 2,
       "version_minor": 0
      },
      "text/plain": [
       "  0%|          | 0/10 [00:00<?, ?it/s]"
      ]
     },
     "metadata": {},
     "output_type": "display_data"
    },
    {
     "data": {
      "application/vnd.jupyter.widget-view+json": {
       "model_id": "",
       "version_major": 2,
       "version_minor": 0
      },
      "text/plain": [
       "  0%|          | 0/10 [00:00<?, ?it/s]"
      ]
     },
     "metadata": {},
     "output_type": "display_data"
    },
    {
     "data": {
      "application/vnd.jupyter.widget-view+json": {
       "model_id": "",
       "version_major": 2,
       "version_minor": 0
      },
      "text/plain": [
       "  0%|          | 0/10 [00:00<?, ?it/s]"
      ]
     },
     "metadata": {},
     "output_type": "display_data"
    },
    {
     "data": {
      "application/vnd.jupyter.widget-view+json": {
       "model_id": "",
       "version_major": 2,
       "version_minor": 0
      },
      "text/plain": [
       "  0%|          | 0/10 [00:00<?, ?it/s]"
      ]
     },
     "metadata": {},
     "output_type": "display_data"
    },
    {
     "data": {
      "application/vnd.jupyter.widget-view+json": {
       "model_id": "",
       "version_major": 2,
       "version_minor": 0
      },
      "text/plain": [
       "  0%|          | 0/10 [00:00<?, ?it/s]"
      ]
     },
     "metadata": {},
     "output_type": "display_data"
    }
   ],
   "source": [
    "df_per_template = []\n",
    "matches_per_template = []\n",
    "for template in tqdm(all_templates):\n",
    "    df, matches = track_using_fdnc_ONLY_TRAINING(project_data, template, base_prediction_options, match_confidence_threshold, num_frames=num_templates)\n",
    "    df_per_template.append(df)\n",
    "    matches_per_template.append(matches)"
   ]
  },
  {
   "cell_type": "code",
   "execution_count": 20,
   "id": "0d55eb63-4d77-44ec-84cb-1c36bfbba8f4",
   "metadata": {},
   "outputs": [],
   "source": [
    "# Process into single set of matches\n",
    "from scipy.optimize import linear_sum_assignment"
   ]
  },
  {
   "cell_type": "code",
   "execution_count": 22,
   "id": "8e6f932a-a767-4e76-8d0b-20eaf5415afb",
   "metadata": {},
   "outputs": [],
   "source": [
    "# linear_sum_assignment(all_final_conf[0].toarray())"
   ]
  },
  {
   "cell_type": "code",
   "execution_count": 23,
   "id": "d480b2e2-281c-41bc-ae1e-c1df4b8bf3d4",
   "metadata": {},
   "outputs": [],
   "source": [
    "import numpy as np\n",
    "from scipy.sparse import coo_matrix"
   ]
  },
  {
   "cell_type": "code",
   "execution_count": 24,
   "id": "af89336d-6a03-446d-b559-2d1f7158fe97",
   "metadata": {},
   "outputs": [],
   "source": [
    "# Note: the second index in the match is the template\n",
    "# Combine the matches from each template by summing the confidence\n",
    "\n",
    "# First, convert each to a sparse matrix\n",
    "# i_match = 0\n",
    "all_final_conf = []\n",
    "all_individual_conf = []\n",
    "shape = (130, 130)\n",
    "\n",
    "for i_match in range(num_templates):\n",
    "    all_conf = []\n",
    "\n",
    "    for i_template in range(num_templates):\n",
    "        m = np.array(matches_per_template[i_template][i_match])\n",
    "        row, col, data = m[:,0], m[:,1], m[:,2]\n",
    "    #     shape = (int(max(row))+1, int(max(col))+1)\n",
    "        conf = coo_matrix((data, (row, col)), shape=shape, dtype=float)\n",
    "        all_conf.append(conf)\n",
    "    final_conf = sum(all_conf)\n",
    "    \n",
    "    all_individual_conf.append(all_conf)\n",
    "    all_final_conf.append(final_conf)\n",
    "#     other_frame_conf = sum(all_conf[1:])\n"
   ]
  },
  {
   "cell_type": "markdown",
   "id": "f37daab7",
   "metadata": {},
   "source": [
    "# Visualize the matches (2d)"
   ]
  },
  {
   "cell_type": "code",
   "execution_count": 25,
   "id": "69c20dc4-f2f7-4b8a-903b-f93269539a5c",
   "metadata": {},
   "outputs": [],
   "source": [
    "# i_test = 0\n",
    "\n",
    "# plt.figure(figsize=(25, 15))\n",
    "# plt.imshow(all_final_conf[i_test].toarray())\n",
    "# plt.title(\"Accuracy for 2 template frames\")"
   ]
  },
  {
   "cell_type": "code",
   "execution_count": 26,
   "id": "5a03d4e6-878b-4dd0-b2a8-6c1ec2933f81",
   "metadata": {
    "jupyter": {
     "outputs_hidden": true
    },
    "tags": []
   },
   "outputs": [
    {
     "data": {
      "application/vnd.jupyter.widget-view+json": {
       "model_id": "929f2c5e80574cf9a6eb717537fb8bd1",
       "version_major": 2,
       "version_minor": 0
      },
      "text/plain": [
       "interactive(children=(IntSlider(value=4, description='i_test', max=9), Output()), _dom_classes=('widget-intera…"
      ]
     },
     "metadata": {},
     "output_type": "display_data"
    },
    {
     "data": {
      "text/plain": [
       "<function __main__.f(i_test)>"
      ]
     },
     "execution_count": 26,
     "metadata": {},
     "output_type": "execute_result"
    }
   ],
   "source": [
    "from ipywidgets import interact\n",
    "def f(i_test):\n",
    "    %matplotlib inline\n",
    "    plt.figure(figsize=(25, 15))\n",
    "    plt.imshow(all_final_conf[i_test].toarray())\n",
    "    plt.title(\"Accuracy all templates\")\n",
    "    plt.colorbar()\n",
    "    \n",
    "    plt.show()\n",
    "\n",
    "interact(f, i_test=(0,9))"
   ]
  },
  {
   "cell_type": "code",
   "execution_count": 62,
   "id": "e137f1df-b0d3-42dd-9e72-8c4d77066d5d",
   "metadata": {
    "jupyter": {
     "outputs_hidden": true
    },
    "tags": []
   },
   "outputs": [
    {
     "data": {
      "application/vnd.jupyter.widget-view+json": {
       "model_id": "082ef6424aa9402287595dbd56439286",
       "version_major": 2,
       "version_minor": 0
      },
      "text/plain": [
       "interactive(children=(IntSlider(value=4, description='i_template', max=9), IntSlider(value=4, description='i_t…"
      ]
     },
     "metadata": {},
     "output_type": "display_data"
    },
    {
     "data": {
      "text/plain": [
       "<function __main__.f(i_template, i_test)>"
      ]
     },
     "execution_count": 62,
     "metadata": {},
     "output_type": "execute_result"
    }
   ],
   "source": [
    "from ipywidgets import interact\n",
    "def f(i_template, i_test):\n",
    "    %matplotlib inline\n",
    "    plt.figure(figsize=(25, 15))\n",
    "    plt.imshow(all_individual_conf[i_test][i_template].toarray())\n",
    "    plt.title(\"Accuracy for 1 template frame\")\n",
    "    plt.colorbar()\n",
    "    \n",
    "    plt.show()\n",
    "\n",
    "interact(f, i_template=(0,9), i_test=(0,9))"
   ]
  },
  {
   "cell_type": "markdown",
   "id": "901b7369",
   "metadata": {},
   "source": [
    "# Summary functions"
   ]
  },
  {
   "cell_type": "code",
   "execution_count": 58,
   "id": "797c7d5d",
   "metadata": {},
   "outputs": [],
   "source": [
    "from DLC_for_WBFM.utils.performance.comparing_ground_truth import calc_summary_scores_for_training_data\n",
    "from DLC_for_WBFM.utils.xinwei_fdnc.formatting import flatten_nested_list\n",
    "from DLC_for_WBFM.utils.feature_detection.utils_networkx import calc_bipartite_from_candidates"
   ]
  },
  {
   "cell_type": "code",
   "execution_count": 61,
   "id": "941c9d91",
   "metadata": {},
   "outputs": [
    {
     "name": "stdout",
     "output_type": "stream",
     "text": [
      "For pose 0, tp:  1.00, outliers:  0.00\n",
      "For pose 1, tp:  1.00, outliers:  0.00\n",
      "For pose 2, tp:  1.00, outliers:  0.00\n",
      "For pose 3, tp:  1.00, outliers:  0.00\n",
      "For pose 4, tp:  1.00, outliers:  0.00\n",
      "For pose 5, tp:  1.00, outliers:  0.00\n",
      "For pose 6, tp:  0.97, outliers:  0.01\n",
      "For pose 7, tp:  0.97, outliers:  0.00\n",
      "For pose 8, tp:  0.93, outliers:  0.03\n",
      "For pose 9, tp:  0.85, outliers:  0.06\n"
     ]
    }
   ],
   "source": [
    "for i in range(10):\n",
    "    m = matches_per_template[i]\n",
    "    m = flatten_nested_list(m)\n",
    "    m = np.array(m)\n",
    "    m[:,2] /= 10\n",
    "    matches, conf, _ = calc_bipartite_from_candidates(m, min_conf=0.1)\n",
    "    m_final = [(m[0],m[1], c) for m, c in zip(matches, conf)]\n",
    "\n",
    "    num_tp, num_outliers, num_missing, max_possible = calc_summary_scores_for_training_data(m_final)\n",
    "\n",
    "    print(f\"For pose {i}, tp: {num_tp / max_possible: .2f}, outliers: {num_outliers / max_possible: .2f}\")"
   ]
  },
  {
   "cell_type": "code",
   "execution_count": null,
   "id": "23ebc2dd",
   "metadata": {},
   "outputs": [],
   "source": []
  },
  {
   "cell_type": "code",
   "execution_count": null,
   "id": "742e346c",
   "metadata": {},
   "outputs": [],
   "source": []
  },
  {
   "cell_type": "markdown",
   "id": "1ec882b8",
   "metadata": {},
   "source": [
    "# Visualize the matches (in zxy)"
   ]
  },
  {
   "cell_type": "code",
   "execution_count": 32,
   "id": "45e55fb4",
   "metadata": {
    "scrolled": false
   },
   "outputs": [],
   "source": [
    "from DLC_for_WBFM.utils.visualization.visualization_tracks import visualize_tracks"
   ]
  },
  {
   "cell_type": "code",
   "execution_count": 52,
   "id": "1ba8fb5f",
   "metadata": {},
   "outputs": [],
   "source": [
    "pair = (0, 9)\n",
    "\n",
    "n0, n1 = project_data.get_centroids_as_numpy_training(pair[0]), project_data.get_centroids_as_numpy_training(pair[1])\n",
    "n0, n1 = zimmer2leifer(n0), zimmer2leifer(n1)\n",
    "\n",
    "# Treat the first of the pair as the template\n",
    "m = matches_per_template[pair[0]][pair[1]]"
   ]
  },
  {
   "cell_type": "code",
   "execution_count": 53,
   "id": "7f64cab6",
   "metadata": {},
   "outputs": [
    {
     "data": {
      "text/plain": [
       "[LineSet with 77 lines.,\n",
       " PointCloud with 120 points.,\n",
       " PointCloud with 120 points.]"
      ]
     },
     "execution_count": 53,
     "metadata": {},
     "output_type": "execute_result"
    }
   ],
   "source": [
    "visualize_tracks(n0, n1, m)"
   ]
  },
  {
   "cell_type": "code",
   "execution_count": null,
   "id": "0ed2c99b",
   "metadata": {},
   "outputs": [],
   "source": []
  },
  {
   "cell_type": "code",
   "execution_count": null,
   "id": "8f360c5c",
   "metadata": {},
   "outputs": [],
   "source": []
  },
  {
   "cell_type": "markdown",
   "id": "4f34c55b-e09b-495a-98eb-9e2fa34a958d",
   "metadata": {},
   "source": [
    "# Debugging actual function"
   ]
  },
  {
   "cell_type": "code",
   "execution_count": 82,
   "id": "cf265d0e-160d-44ac-a97b-c69dbcaa0856",
   "metadata": {},
   "outputs": [
    {
     "name": "stderr",
     "output_type": "stream",
     "text": [
      "WARNING:root:Did not find file /scratch/zimmer/Charles/dlc_stacks/worm3-multiple_templates/4-traces/reindexed_masks.zarr\n",
      "WARNING:root:Did not find file 3-tracking/postprocessing/manual_behavior_annotation.xlsx\n"
     ]
    },
    {
     "name": "stdout",
     "output_type": "stream",
     "text": [
      "=======================================\n",
      "Project data for directory:\n",
      "/scratch/zimmer/Charles/dlc_stacks/worm3-multiple_templates \n",
      "=======================================\n",
      "Found the following data files:\n",
      "red_data: True\n",
      "green_data: True\n",
      "============Segmentation===============\n",
      "raw_segmentation: True\n",
      "segmentation: False\n",
      "============Tracklets==================\n",
      "df_training_tracklets: True\n",
      "reindexed_masks_training: True\n",
      "============Traces=====================\n",
      "red_traces: False\n",
      "green_traces: False\n",
      "final_tracks: True\n",
      "behavior_annotations: False\n",
      "\n"
     ]
    },
    {
     "data": {
      "application/vnd.jupyter.widget-view+json": {
       "model_id": "",
       "version_major": 2,
       "version_minor": 0
      },
      "text/plain": [
       "  0%|          | 0/2 [00:00<?, ?it/s]"
      ]
     },
     "metadata": {},
     "output_type": "display_data"
    },
    {
     "data": {
      "application/vnd.jupyter.widget-view+json": {
       "model_id": "",
       "version_major": 2,
       "version_minor": 0
      },
      "text/plain": [
       "  0%|          | 0/2 [00:00<?, ?it/s]"
      ]
     },
     "metadata": {},
     "output_type": "display_data"
    },
    {
     "data": {
      "application/vnd.jupyter.widget-view+json": {
       "model_id": "",
       "version_major": 2,
       "version_minor": 0
      },
      "text/plain": [
       "  0%|          | 0/2 [00:00<?, ?it/s]"
      ]
     },
     "metadata": {},
     "output_type": "display_data"
    },
    {
     "data": {
      "application/vnd.jupyter.widget-view+json": {
       "model_id": "",
       "version_major": 2,
       "version_minor": 0
      },
      "text/plain": [
       "  0%|          | 0/2 [00:00<?, ?it/s]"
      ]
     },
     "metadata": {},
     "output_type": "display_data"
    },
    {
     "data": {
      "application/vnd.jupyter.widget-view+json": {
       "model_id": "",
       "version_major": 2,
       "version_minor": 0
      },
      "text/plain": [
       "  0%|          | 0/2 [00:00<?, ?it/s]"
      ]
     },
     "metadata": {},
     "output_type": "display_data"
    },
    {
     "data": {
      "application/vnd.jupyter.widget-view+json": {
       "model_id": "",
       "version_major": 2,
       "version_minor": 0
      },
      "text/plain": [
       "  0%|          | 0/2 [00:00<?, ?it/s]"
      ]
     },
     "metadata": {},
     "output_type": "display_data"
    },
    {
     "data": {
      "application/vnd.jupyter.widget-view+json": {
       "model_id": "",
       "version_major": 2,
       "version_minor": 0
      },
      "text/plain": [
       "  0%|          | 0/2 [00:00<?, ?it/s]"
      ]
     },
     "metadata": {},
     "output_type": "display_data"
    },
    {
     "data": {
      "application/vnd.jupyter.widget-view+json": {
       "model_id": "",
       "version_major": 2,
       "version_minor": 0
      },
      "text/plain": [
       "  0%|          | 0/2 [00:00<?, ?it/s]"
      ]
     },
     "metadata": {},
     "output_type": "display_data"
    },
    {
     "data": {
      "application/vnd.jupyter.widget-view+json": {
       "model_id": "",
       "version_major": 2,
       "version_minor": 0
      },
      "text/plain": [
       "  0%|          | 0/2 [00:00<?, ?it/s]"
      ]
     },
     "metadata": {},
     "output_type": "display_data"
    },
    {
     "data": {
      "application/vnd.jupyter.widget-view+json": {
       "model_id": "",
       "version_major": 2,
       "version_minor": 0
      },
      "text/plain": [
       "  0%|          | 0/2 [00:00<?, ?it/s]"
      ]
     },
     "metadata": {},
     "output_type": "display_data"
    },
    {
     "data": {
      "application/vnd.jupyter.widget-view+json": {
       "model_id": "",
       "version_major": 2,
       "version_minor": 0
      },
      "text/plain": [
       "  0%|          | 0/2 [00:00<?, ?it/s]"
      ]
     },
     "metadata": {},
     "output_type": "display_data"
    }
   ],
   "source": [
    "from DLC_for_WBFM.utils.xinwei_fdnc.predict import track_using_fdnc_from_config\n",
    "from DLC_for_WBFM.utils.projects.utils_filepaths import ModularProjectConfig\n",
    "project_path = \"/scratch/zimmer/Charles/dlc_stacks/worm3-multiple_templates/project_config.yaml\"\n",
    "\n",
    "project_cfg = ModularProjectConfig(project_path)\n",
    "tracks_cfg = project_cfg.get_tracking_config()\n",
    "\n",
    "track_using_fdnc_from_config(project_cfg, tracks_cfg, True)"
   ]
  },
  {
   "cell_type": "code",
   "execution_count": null,
   "id": "e06355dd-aab2-4773-ac67-3457d0579fb1",
   "metadata": {},
   "outputs": [],
   "source": [
    "%debug"
   ]
  },
  {
   "cell_type": "code",
   "execution_count": null,
   "id": "aef927d4-863b-4ee5-8d94-43a89d7dd71b",
   "metadata": {},
   "outputs": [],
   "source": []
  },
  {
   "cell_type": "code",
   "execution_count": null,
   "id": "74d18994-357d-4146-bacf-c9f30e0b47fb",
   "metadata": {},
   "outputs": [],
   "source": []
  },
  {
   "cell_type": "code",
   "execution_count": null,
   "id": "06a86239-6e04-4ee8-a11d-e8202d8c67b0",
   "metadata": {},
   "outputs": [],
   "source": []
  },
  {
   "cell_type": "markdown",
   "id": "5d14bccc-9cba-4580-98eb-c79a98f0e437",
   "metadata": {},
   "source": [
    "# Multiprocessing version"
   ]
  },
  {
   "cell_type": "code",
   "execution_count": 41,
   "id": "4952131c-5d5e-4025-8c87-87cde6604d26",
   "metadata": {},
   "outputs": [],
   "source": [
    "import concurrent.futures\n",
    "import numpy as np"
   ]
  },
  {
   "cell_type": "code",
   "execution_count": 42,
   "id": "82dec92a-3b98-4903-8139-ac948f9d5411",
   "metadata": {},
   "outputs": [],
   "source": [
    "num_templates = 10\n",
    "all_templates = [generate_template(i) for i in range(num_templates)]\n",
    "\n",
    "base_prediction_options = load_prediction_options()\n",
    "\n",
    "match_confidence_threshold = 0.3"
   ]
  },
  {
   "cell_type": "code",
   "execution_count": 45,
   "id": "038a6ecf-6fdd-4749-84e9-ec4250bfccfd",
   "metadata": {},
   "outputs": [
    {
     "data": {
      "application/vnd.jupyter.widget-view+json": {
       "model_id": "",
       "version_major": 2,
       "version_minor": 0
      },
      "text/plain": [
       "  0%|          | 0/10 [00:00<?, ?it/s]"
      ]
     },
     "metadata": {},
     "output_type": "display_data"
    },
    {
     "data": {
      "application/vnd.jupyter.widget-view+json": {
       "model_id": "",
       "version_major": 2,
       "version_minor": 0
      },
      "text/plain": [
       "  0%|          | 0/10 [00:00<?, ?it/s]"
      ]
     },
     "metadata": {},
     "output_type": "display_data"
    },
    {
     "data": {
      "application/vnd.jupyter.widget-view+json": {
       "model_id": "",
       "version_major": 2,
       "version_minor": 0
      },
      "text/plain": [
       "  0%|          | 0/10 [00:00<?, ?it/s]"
      ]
     },
     "metadata": {},
     "output_type": "display_data"
    },
    {
     "data": {
      "application/vnd.jupyter.widget-view+json": {
       "model_id": "",
       "version_major": 2,
       "version_minor": 0
      },
      "text/plain": [
       "  0%|          | 0/10 [00:00<?, ?it/s]"
      ]
     },
     "metadata": {},
     "output_type": "display_data"
    },
    {
     "data": {
      "application/vnd.jupyter.widget-view+json": {
       "model_id": "",
       "version_major": 2,
       "version_minor": 0
      },
      "text/plain": [
       "  0%|          | 0/10 [00:00<?, ?it/s]"
      ]
     },
     "metadata": {},
     "output_type": "display_data"
    },
    {
     "data": {
      "application/vnd.jupyter.widget-view+json": {
       "model_id": "",
       "version_major": 2,
       "version_minor": 0
      },
      "text/plain": [
       "  0%|          | 0/10 [00:00<?, ?it/s]"
      ]
     },
     "metadata": {},
     "output_type": "display_data"
    },
    {
     "data": {
      "application/vnd.jupyter.widget-view+json": {
       "model_id": "",
       "version_major": 2,
       "version_minor": 0
      },
      "text/plain": [
       "  0%|          | 0/10 [00:00<?, ?it/s]"
      ]
     },
     "metadata": {},
     "output_type": "display_data"
    },
    {
     "data": {
      "application/vnd.jupyter.widget-view+json": {
       "model_id": "",
       "version_major": 2,
       "version_minor": 0
      },
      "text/plain": [
       "  0%|          | 0/10 [00:00<?, ?it/s]"
      ]
     },
     "metadata": {},
     "output_type": "display_data"
    },
    {
     "data": {
      "application/vnd.jupyter.widget-view+json": {
       "model_id": "",
       "version_major": 2,
       "version_minor": 0
      },
      "text/plain": [
       "  0%|          | 0/10 [00:00<?, ?it/s]"
      ]
     },
     "metadata": {},
     "output_type": "display_data"
    },
    {
     "data": {
      "application/vnd.jupyter.widget-view+json": {
       "model_id": "",
       "version_major": 2,
       "version_minor": 0
      },
      "text/plain": [
       "  0%|          | 0/10 [00:00<?, ?it/s]"
      ]
     },
     "metadata": {},
     "output_type": "display_data"
    },
    {
     "name": "stdout",
     "output_type": "stream",
     "text": [
      "CPU times: user 15min 7s, sys: 17min 22s, total: 32min 29s\n",
      "Wall time: 48.3 s\n"
     ]
    }
   ],
   "source": [
    "%%time\n",
    "df_per_template = []\n",
    "matches_per_template = []\n",
    "\n",
    "def _parallel_func(template):\n",
    "#     print(\"Starting to track...\")\n",
    "    base_prediction_options['template_pos'] = template\n",
    "    df, matches = track_using_fdnc_ONLY_TRAINING(project_data, base_prediction_options, match_confidence_threshold, num_frames=num_templates)\n",
    "    return df, matches\n",
    "\n",
    "# with concurrent.futures.ProcessPoolExecutor(max_workers=2) as executor:\n",
    "with concurrent.futures.ThreadPoolExecutor() as executor:\n",
    "    submitted_jobs = [executor.submit(_parallel_func, template) for template in all_templates]\n",
    "    results = [job.result() for job in submitted_jobs]\n",
    "    \n",
    "    for r in results:\n",
    "        df_per_template.append(r[0])\n",
    "        matches_per_template.append(r[1])"
   ]
  },
  {
   "cell_type": "code",
   "execution_count": 62,
   "id": "4ece36e1-2c0e-4f8c-93e0-a427e804a499",
   "metadata": {},
   "outputs": [
    {
     "data": {
      "application/vnd.jupyter.widget-view+json": {
       "model_id": "",
       "version_major": 2,
       "version_minor": 0
      },
      "text/plain": [
       "  0%|          | 0/10 [00:00<?, ?it/s]"
      ]
     },
     "metadata": {},
     "output_type": "display_data"
    },
    {
     "data": {
      "application/vnd.jupyter.widget-view+json": {
       "model_id": "",
       "version_major": 2,
       "version_minor": 0
      },
      "text/plain": [
       "  0%|          | 0/10 [00:00<?, ?it/s]"
      ]
     },
     "metadata": {},
     "output_type": "display_data"
    },
    {
     "data": {
      "application/vnd.jupyter.widget-view+json": {
       "model_id": "",
       "version_major": 2,
       "version_minor": 0
      },
      "text/plain": [
       "  0%|          | 0/10 [00:00<?, ?it/s]"
      ]
     },
     "metadata": {},
     "output_type": "display_data"
    },
    {
     "data": {
      "application/vnd.jupyter.widget-view+json": {
       "model_id": "",
       "version_major": 2,
       "version_minor": 0
      },
      "text/plain": [
       "  0%|          | 0/10 [00:00<?, ?it/s]"
      ]
     },
     "metadata": {},
     "output_type": "display_data"
    },
    {
     "data": {
      "application/vnd.jupyter.widget-view+json": {
       "model_id": "",
       "version_major": 2,
       "version_minor": 0
      },
      "text/plain": [
       "  0%|          | 0/10 [00:00<?, ?it/s]"
      ]
     },
     "metadata": {},
     "output_type": "display_data"
    },
    {
     "data": {
      "application/vnd.jupyter.widget-view+json": {
       "model_id": "",
       "version_major": 2,
       "version_minor": 0
      },
      "text/plain": [
       "  0%|          | 0/10 [00:00<?, ?it/s]"
      ]
     },
     "metadata": {},
     "output_type": "display_data"
    },
    {
     "data": {
      "application/vnd.jupyter.widget-view+json": {
       "model_id": "",
       "version_major": 2,
       "version_minor": 0
      },
      "text/plain": [
       "  0%|          | 0/10 [00:00<?, ?it/s]"
      ]
     },
     "metadata": {},
     "output_type": "display_data"
    },
    {
     "data": {
      "application/vnd.jupyter.widget-view+json": {
       "model_id": "",
       "version_major": 2,
       "version_minor": 0
      },
      "text/plain": [
       "  0%|          | 0/10 [00:00<?, ?it/s]"
      ]
     },
     "metadata": {},
     "output_type": "display_data"
    },
    {
     "data": {
      "application/vnd.jupyter.widget-view+json": {
       "model_id": "",
       "version_major": 2,
       "version_minor": 0
      },
      "text/plain": [
       "  0%|          | 0/10 [00:00<?, ?it/s]"
      ]
     },
     "metadata": {},
     "output_type": "display_data"
    },
    {
     "data": {
      "application/vnd.jupyter.widget-view+json": {
       "model_id": "",
       "version_major": 2,
       "version_minor": 0
      },
      "text/plain": [
       "  0%|          | 0/10 [00:00<?, ?it/s]"
      ]
     },
     "metadata": {},
     "output_type": "display_data"
    },
    {
     "name": "stdout",
     "output_type": "stream",
     "text": [
      "10\n",
      "10\n",
      "CPU times: user 14min 40s, sys: 15min 33s, total: 30min 14s\n",
      "Wall time: 42.5 s\n"
     ]
    }
   ],
   "source": [
    "%%time\n",
    "df_per_template = []\n",
    "matches_per_template = []\n",
    "\n",
    "with concurrent.futures.ThreadPoolExecutor(max_workers=5) as executor:\n",
    "    submitted_jobs = [executor.submit(_parallel_func, template) for template in all_templates]\n",
    "    results = [job.result() for job in submitted_jobs]\n",
    "    \n",
    "    for r in results:\n",
    "        df_per_template.append(r[0])\n",
    "        matches_per_template.append(r[1])\n",
    "print(len(matches_per_template))\n",
    "print(len(matches_per_template[0]))"
   ]
  },
  {
   "cell_type": "code",
   "execution_count": 46,
   "id": "6303ee05-ddb0-4789-9c4a-2a93c216d298",
   "metadata": {},
   "outputs": [
    {
     "data": {
      "application/vnd.jupyter.widget-view+json": {
       "model_id": "",
       "version_major": 2,
       "version_minor": 0
      },
      "text/plain": [
       "  0%|          | 0/10 [00:00<?, ?it/s]"
      ]
     },
     "metadata": {},
     "output_type": "display_data"
    },
    {
     "data": {
      "application/vnd.jupyter.widget-view+json": {
       "model_id": "",
       "version_major": 2,
       "version_minor": 0
      },
      "text/plain": [
       "  0%|          | 0/10 [00:00<?, ?it/s]"
      ]
     },
     "metadata": {},
     "output_type": "display_data"
    },
    {
     "data": {
      "application/vnd.jupyter.widget-view+json": {
       "model_id": "",
       "version_major": 2,
       "version_minor": 0
      },
      "text/plain": [
       "  0%|          | 0/10 [00:00<?, ?it/s]"
      ]
     },
     "metadata": {},
     "output_type": "display_data"
    },
    {
     "data": {
      "application/vnd.jupyter.widget-view+json": {
       "model_id": "",
       "version_major": 2,
       "version_minor": 0
      },
      "text/plain": [
       "  0%|          | 0/10 [00:00<?, ?it/s]"
      ]
     },
     "metadata": {},
     "output_type": "display_data"
    },
    {
     "data": {
      "application/vnd.jupyter.widget-view+json": {
       "model_id": "",
       "version_major": 2,
       "version_minor": 0
      },
      "text/plain": [
       "  0%|          | 0/10 [00:00<?, ?it/s]"
      ]
     },
     "metadata": {},
     "output_type": "display_data"
    },
    {
     "data": {
      "application/vnd.jupyter.widget-view+json": {
       "model_id": "",
       "version_major": 2,
       "version_minor": 0
      },
      "text/plain": [
       "  0%|          | 0/10 [00:00<?, ?it/s]"
      ]
     },
     "metadata": {},
     "output_type": "display_data"
    },
    {
     "data": {
      "application/vnd.jupyter.widget-view+json": {
       "model_id": "",
       "version_major": 2,
       "version_minor": 0
      },
      "text/plain": [
       "  0%|          | 0/10 [00:00<?, ?it/s]"
      ]
     },
     "metadata": {},
     "output_type": "display_data"
    },
    {
     "data": {
      "application/vnd.jupyter.widget-view+json": {
       "model_id": "",
       "version_major": 2,
       "version_minor": 0
      },
      "text/plain": [
       "  0%|          | 0/10 [00:00<?, ?it/s]"
      ]
     },
     "metadata": {},
     "output_type": "display_data"
    },
    {
     "data": {
      "application/vnd.jupyter.widget-view+json": {
       "model_id": "",
       "version_major": 2,
       "version_minor": 0
      },
      "text/plain": [
       "  0%|          | 0/10 [00:00<?, ?it/s]"
      ]
     },
     "metadata": {},
     "output_type": "display_data"
    },
    {
     "data": {
      "application/vnd.jupyter.widget-view+json": {
       "model_id": "",
       "version_major": 2,
       "version_minor": 0
      },
      "text/plain": [
       "  0%|          | 0/10 [00:00<?, ?it/s]"
      ]
     },
     "metadata": {},
     "output_type": "display_data"
    },
    {
     "name": "stdout",
     "output_type": "stream",
     "text": [
      "CPU times: user 10min 31s, sys: 8min 39s, total: 19min 10s\n",
      "Wall time: 44.4 s\n"
     ]
    }
   ],
   "source": [
    "%%time\n",
    "df_per_template = []\n",
    "matches_per_template = []\n",
    "\n",
    "with concurrent.futures.ThreadPoolExecutor(max_workers=2) as executor:\n",
    "    submitted_jobs = [executor.submit(_parallel_func, template) for template in all_templates]\n",
    "    results = [job.result() for job in submitted_jobs]\n",
    "    \n",
    "    for r in results:\n",
    "        df_per_template.append(r[0])\n",
    "        matches_per_template.append(r[1])\n",
    "print(len(matches_per_template))\n",
    "print(len(matches_per_template[0]))"
   ]
  },
  {
   "cell_type": "code",
   "execution_count": 47,
   "id": "8fed10cf-1623-460c-ba90-05552fc98ea1",
   "metadata": {},
   "outputs": [
    {
     "data": {
      "application/vnd.jupyter.widget-view+json": {
       "model_id": "a9f38c1b57654c88a5c08215c8979ed3",
       "version_major": 2,
       "version_minor": 0
      },
      "text/plain": [
       "  0%|          | 0/10 [00:00<?, ?it/s]"
      ]
     },
     "metadata": {},
     "output_type": "display_data"
    },
    {
     "data": {
      "application/vnd.jupyter.widget-view+json": {
       "model_id": "",
       "version_major": 2,
       "version_minor": 0
      },
      "text/plain": [
       "  0%|          | 0/10 [00:00<?, ?it/s]"
      ]
     },
     "metadata": {},
     "output_type": "display_data"
    },
    {
     "data": {
      "application/vnd.jupyter.widget-view+json": {
       "model_id": "",
       "version_major": 2,
       "version_minor": 0
      },
      "text/plain": [
       "  0%|          | 0/10 [00:00<?, ?it/s]"
      ]
     },
     "metadata": {},
     "output_type": "display_data"
    },
    {
     "data": {
      "application/vnd.jupyter.widget-view+json": {
       "model_id": "",
       "version_major": 2,
       "version_minor": 0
      },
      "text/plain": [
       "  0%|          | 0/10 [00:00<?, ?it/s]"
      ]
     },
     "metadata": {},
     "output_type": "display_data"
    },
    {
     "data": {
      "application/vnd.jupyter.widget-view+json": {
       "model_id": "",
       "version_major": 2,
       "version_minor": 0
      },
      "text/plain": [
       "  0%|          | 0/10 [00:00<?, ?it/s]"
      ]
     },
     "metadata": {},
     "output_type": "display_data"
    },
    {
     "data": {
      "application/vnd.jupyter.widget-view+json": {
       "model_id": "",
       "version_major": 2,
       "version_minor": 0
      },
      "text/plain": [
       "  0%|          | 0/10 [00:00<?, ?it/s]"
      ]
     },
     "metadata": {},
     "output_type": "display_data"
    },
    {
     "data": {
      "application/vnd.jupyter.widget-view+json": {
       "model_id": "",
       "version_major": 2,
       "version_minor": 0
      },
      "text/plain": [
       "  0%|          | 0/10 [00:00<?, ?it/s]"
      ]
     },
     "metadata": {},
     "output_type": "display_data"
    },
    {
     "data": {
      "application/vnd.jupyter.widget-view+json": {
       "model_id": "",
       "version_major": 2,
       "version_minor": 0
      },
      "text/plain": [
       "  0%|          | 0/10 [00:00<?, ?it/s]"
      ]
     },
     "metadata": {},
     "output_type": "display_data"
    },
    {
     "data": {
      "application/vnd.jupyter.widget-view+json": {
       "model_id": "",
       "version_major": 2,
       "version_minor": 0
      },
      "text/plain": [
       "  0%|          | 0/10 [00:00<?, ?it/s]"
      ]
     },
     "metadata": {},
     "output_type": "display_data"
    },
    {
     "data": {
      "application/vnd.jupyter.widget-view+json": {
       "model_id": "",
       "version_major": 2,
       "version_minor": 0
      },
      "text/plain": [
       "  0%|          | 0/10 [00:00<?, ?it/s]"
      ]
     },
     "metadata": {},
     "output_type": "display_data"
    },
    {
     "data": {
      "application/vnd.jupyter.widget-view+json": {
       "model_id": "",
       "version_major": 2,
       "version_minor": 0
      },
      "text/plain": [
       "  0%|          | 0/10 [00:00<?, ?it/s]"
      ]
     },
     "metadata": {},
     "output_type": "display_data"
    },
    {
     "name": "stdout",
     "output_type": "stream",
     "text": [
      "CPU times: user 13min 49s, sys: 16.1 s, total: 14min 5s\n",
      "Wall time: 1min 7s\n"
     ]
    }
   ],
   "source": [
    "%%time\n",
    "df_per_template = []\n",
    "matches_per_template = []\n",
    "for template in tqdm(all_templates):\n",
    "    base_prediction_options['template_pos'] = template\n",
    "    df, matches = track_using_fdnc_ONLY_TRAINING(project_data, base_prediction_options, match_confidence_threshold, num_frames=num_templates)\n",
    "    df_per_template.append(df)\n",
    "    matches_per_template.append(matches)"
   ]
  },
  {
   "cell_type": "code",
   "execution_count": 48,
   "id": "8184a6ca-32f9-4815-b9f6-beb3f66b4827",
   "metadata": {
    "collapsed": true,
    "jupyter": {
     "outputs_hidden": true
    },
    "tags": []
   },
   "outputs": [
    {
     "ename": "KeyboardInterrupt",
     "evalue": "",
     "output_type": "error",
     "traceback": [
      "\u001b[0;31m---------------------------------------------------------------------------\u001b[0m",
      "\u001b[0;31mKeyboardInterrupt\u001b[0m                         Traceback (most recent call last)",
      "\u001b[0;32m<timed exec>\u001b[0m in \u001b[0;36m<module>\u001b[0;34m\u001b[0m\n",
      "\u001b[0;32m<timed exec>\u001b[0m in \u001b[0;36m<listcomp>\u001b[0;34m(.0)\u001b[0m\n",
      "\u001b[0;32m~/anaconda3/envs/torch/lib/python3.7/concurrent/futures/_base.py\u001b[0m in \u001b[0;36mresult\u001b[0;34m(self, timeout)\u001b[0m\n\u001b[1;32m    429\u001b[0m \u001b[0;34m\u001b[0m\u001b[0m\n\u001b[0;32m--> 430\u001b[0;31m             \u001b[0mself\u001b[0m\u001b[0;34m.\u001b[0m\u001b[0m_condition\u001b[0m\u001b[0;34m.\u001b[0m\u001b[0mwait\u001b[0m\u001b[0;34m(\u001b[0m\u001b[0mtimeout\u001b[0m\u001b[0;34m)\u001b[0m\u001b[0;34m\u001b[0m\u001b[0;34m\u001b[0m\u001b[0m\n\u001b[0m\u001b[1;32m    431\u001b[0m \u001b[0;34m\u001b[0m\u001b[0m\n",
      "\u001b[0;32m~/anaconda3/envs/torch/lib/python3.7/threading.py\u001b[0m in \u001b[0;36mwait\u001b[0;34m(self, timeout)\u001b[0m\n\u001b[1;32m    295\u001b[0m             \u001b[0;32mif\u001b[0m \u001b[0mtimeout\u001b[0m \u001b[0;32mis\u001b[0m \u001b[0;32mNone\u001b[0m\u001b[0;34m:\u001b[0m\u001b[0;34m\u001b[0m\u001b[0;34m\u001b[0m\u001b[0m\n\u001b[0;32m--> 296\u001b[0;31m                 \u001b[0mwaiter\u001b[0m\u001b[0;34m.\u001b[0m\u001b[0macquire\u001b[0m\u001b[0;34m(\u001b[0m\u001b[0;34m)\u001b[0m\u001b[0;34m\u001b[0m\u001b[0;34m\u001b[0m\u001b[0m\n\u001b[0m\u001b[1;32m    297\u001b[0m                 \u001b[0mgotit\u001b[0m \u001b[0;34m=\u001b[0m \u001b[0;32mTrue\u001b[0m\u001b[0;34m\u001b[0m\u001b[0;34m\u001b[0m\u001b[0m\n",
      "\u001b[0;31mKeyboardInterrupt\u001b[0m: ",
      "\nDuring handling of the above exception, another exception occurred:\n",
      "\u001b[0;31mKeyboardInterrupt\u001b[0m                         Traceback (most recent call last)",
      "\u001b[0;32m<timed exec>\u001b[0m in \u001b[0;36m<module>\u001b[0;34m\u001b[0m\n",
      "\u001b[0;32m~/anaconda3/envs/torch/lib/python3.7/concurrent/futures/_base.py\u001b[0m in \u001b[0;36m__exit__\u001b[0;34m(self, exc_type, exc_val, exc_tb)\u001b[0m\n\u001b[1;32m    621\u001b[0m \u001b[0;34m\u001b[0m\u001b[0m\n\u001b[1;32m    622\u001b[0m     \u001b[0;32mdef\u001b[0m \u001b[0m__exit__\u001b[0m\u001b[0;34m(\u001b[0m\u001b[0mself\u001b[0m\u001b[0;34m,\u001b[0m \u001b[0mexc_type\u001b[0m\u001b[0;34m,\u001b[0m \u001b[0mexc_val\u001b[0m\u001b[0;34m,\u001b[0m \u001b[0mexc_tb\u001b[0m\u001b[0;34m)\u001b[0m\u001b[0;34m:\u001b[0m\u001b[0;34m\u001b[0m\u001b[0;34m\u001b[0m\u001b[0m\n\u001b[0;32m--> 623\u001b[0;31m         \u001b[0mself\u001b[0m\u001b[0;34m.\u001b[0m\u001b[0mshutdown\u001b[0m\u001b[0;34m(\u001b[0m\u001b[0mwait\u001b[0m\u001b[0;34m=\u001b[0m\u001b[0;32mTrue\u001b[0m\u001b[0;34m)\u001b[0m\u001b[0;34m\u001b[0m\u001b[0;34m\u001b[0m\u001b[0m\n\u001b[0m\u001b[1;32m    624\u001b[0m         \u001b[0;32mreturn\u001b[0m \u001b[0;32mFalse\u001b[0m\u001b[0;34m\u001b[0m\u001b[0;34m\u001b[0m\u001b[0m\n\u001b[1;32m    625\u001b[0m \u001b[0;34m\u001b[0m\u001b[0m\n",
      "\u001b[0;32m~/anaconda3/envs/torch/lib/python3.7/concurrent/futures/process.py\u001b[0m in \u001b[0;36mshutdown\u001b[0;34m(self, wait)\u001b[0m\n\u001b[1;32m    679\u001b[0m             \u001b[0mself\u001b[0m\u001b[0;34m.\u001b[0m\u001b[0m_queue_management_thread_wakeup\u001b[0m\u001b[0;34m.\u001b[0m\u001b[0mwakeup\u001b[0m\u001b[0;34m(\u001b[0m\u001b[0;34m)\u001b[0m\u001b[0;34m\u001b[0m\u001b[0;34m\u001b[0m\u001b[0m\n\u001b[1;32m    680\u001b[0m             \u001b[0;32mif\u001b[0m \u001b[0mwait\u001b[0m\u001b[0;34m:\u001b[0m\u001b[0;34m\u001b[0m\u001b[0;34m\u001b[0m\u001b[0m\n\u001b[0;32m--> 681\u001b[0;31m                 \u001b[0mself\u001b[0m\u001b[0;34m.\u001b[0m\u001b[0m_queue_management_thread\u001b[0m\u001b[0;34m.\u001b[0m\u001b[0mjoin\u001b[0m\u001b[0;34m(\u001b[0m\u001b[0;34m)\u001b[0m\u001b[0;34m\u001b[0m\u001b[0;34m\u001b[0m\u001b[0m\n\u001b[0m\u001b[1;32m    682\u001b[0m         \u001b[0;31m# To reduce the risk of opening too many files, remove references to\u001b[0m\u001b[0;34m\u001b[0m\u001b[0;34m\u001b[0m\u001b[0;34m\u001b[0m\u001b[0m\n\u001b[1;32m    683\u001b[0m         \u001b[0;31m# objects that use file descriptors.\u001b[0m\u001b[0;34m\u001b[0m\u001b[0;34m\u001b[0m\u001b[0;34m\u001b[0m\u001b[0m\n",
      "\u001b[0;32m~/anaconda3/envs/torch/lib/python3.7/threading.py\u001b[0m in \u001b[0;36mjoin\u001b[0;34m(self, timeout)\u001b[0m\n\u001b[1;32m   1042\u001b[0m \u001b[0;34m\u001b[0m\u001b[0m\n\u001b[1;32m   1043\u001b[0m         \u001b[0;32mif\u001b[0m \u001b[0mtimeout\u001b[0m \u001b[0;32mis\u001b[0m \u001b[0;32mNone\u001b[0m\u001b[0;34m:\u001b[0m\u001b[0;34m\u001b[0m\u001b[0;34m\u001b[0m\u001b[0m\n\u001b[0;32m-> 1044\u001b[0;31m             \u001b[0mself\u001b[0m\u001b[0;34m.\u001b[0m\u001b[0m_wait_for_tstate_lock\u001b[0m\u001b[0;34m(\u001b[0m\u001b[0;34m)\u001b[0m\u001b[0;34m\u001b[0m\u001b[0;34m\u001b[0m\u001b[0m\n\u001b[0m\u001b[1;32m   1045\u001b[0m         \u001b[0;32melse\u001b[0m\u001b[0;34m:\u001b[0m\u001b[0;34m\u001b[0m\u001b[0;34m\u001b[0m\u001b[0m\n\u001b[1;32m   1046\u001b[0m             \u001b[0;31m# the behavior of a negative timeout isn't documented, but\u001b[0m\u001b[0;34m\u001b[0m\u001b[0;34m\u001b[0m\u001b[0;34m\u001b[0m\u001b[0m\n",
      "\u001b[0;32m~/anaconda3/envs/torch/lib/python3.7/threading.py\u001b[0m in \u001b[0;36m_wait_for_tstate_lock\u001b[0;34m(self, block, timeout)\u001b[0m\n\u001b[1;32m   1058\u001b[0m         \u001b[0;32mif\u001b[0m \u001b[0mlock\u001b[0m \u001b[0;32mis\u001b[0m \u001b[0;32mNone\u001b[0m\u001b[0;34m:\u001b[0m  \u001b[0;31m# already determined that the C code is done\u001b[0m\u001b[0;34m\u001b[0m\u001b[0;34m\u001b[0m\u001b[0m\n\u001b[1;32m   1059\u001b[0m             \u001b[0;32massert\u001b[0m \u001b[0mself\u001b[0m\u001b[0;34m.\u001b[0m\u001b[0m_is_stopped\u001b[0m\u001b[0;34m\u001b[0m\u001b[0;34m\u001b[0m\u001b[0m\n\u001b[0;32m-> 1060\u001b[0;31m         \u001b[0;32melif\u001b[0m \u001b[0mlock\u001b[0m\u001b[0;34m.\u001b[0m\u001b[0macquire\u001b[0m\u001b[0;34m(\u001b[0m\u001b[0mblock\u001b[0m\u001b[0;34m,\u001b[0m \u001b[0mtimeout\u001b[0m\u001b[0;34m)\u001b[0m\u001b[0;34m:\u001b[0m\u001b[0;34m\u001b[0m\u001b[0;34m\u001b[0m\u001b[0m\n\u001b[0m\u001b[1;32m   1061\u001b[0m             \u001b[0mlock\u001b[0m\u001b[0;34m.\u001b[0m\u001b[0mrelease\u001b[0m\u001b[0;34m(\u001b[0m\u001b[0;34m)\u001b[0m\u001b[0;34m\u001b[0m\u001b[0;34m\u001b[0m\u001b[0m\n\u001b[1;32m   1062\u001b[0m             \u001b[0mself\u001b[0m\u001b[0;34m.\u001b[0m\u001b[0m_stop\u001b[0m\u001b[0;34m(\u001b[0m\u001b[0;34m)\u001b[0m\u001b[0;34m\u001b[0m\u001b[0;34m\u001b[0m\u001b[0m\n",
      "\u001b[0;31mKeyboardInterrupt\u001b[0m: "
     ]
    },
    {
     "ename": "KeyboardInterrupt",
     "evalue": "",
     "output_type": "error",
     "traceback": [
      "\u001b[0;31m---------------------------------------------------------------------------\u001b[0m",
      "\u001b[0;31mKeyboardInterrupt\u001b[0m                         Traceback (most recent call last)",
      "\u001b[0;31mKeyboardInterrupt\u001b[0m: "
     ]
    }
   ],
   "source": [
    "%%time\n",
    "df_per_template = []\n",
    "matches_per_template = []\n",
    "\n",
    "with concurrent.futures.ProcessPoolExecutor(max_workers=2) as executor:\n",
    "    submitted_jobs = [executor.submit(_parallel_func, template) for template in all_templates]\n",
    "    results = [job.result() for job in submitted_jobs]\n",
    "    \n",
    "    for r in results:\n",
    "        df_per_template.append(r[0])\n",
    "        matches_per_template.append(r[1])"
   ]
  },
  {
   "cell_type": "markdown",
   "id": "231887cd-74a3-40b6-8bcb-e1ad73d36b8c",
   "metadata": {},
   "source": [
    "# Use leifer template to get putative names"
   ]
  },
  {
   "cell_type": "code",
   "execution_count": 166,
   "id": "7c70f243-cc1b-4841-a1b2-3f4d5fe15955",
   "metadata": {},
   "outputs": [],
   "source": [
    "from DLC_for_WBFM.utils.xinwei_fdnc.predict import load_prediction_options\n",
    "from fDNC.src.DNC_predict import pre_matt, predict_label, predict_matches\n",
    "from DLC_for_WBFM.utils.projects.utils_neuron_names import int2name\n",
    "from collections import defaultdict"
   ]
  },
  {
   "cell_type": "code",
   "execution_count": 167,
   "id": "1501f067-e986-48fc-9327-22439c2d6629",
   "metadata": {},
   "outputs": [],
   "source": [
    "prediction_options, template, template_label = load_prediction_options()"
   ]
  },
  {
   "cell_type": "code",
   "execution_count": 95,
   "id": "af613ded-2151-46c7-a2e4-f0e58903009d",
   "metadata": {},
   "outputs": [],
   "source": [
    "# Just convert the training data to names (not all frames)"
   ]
  },
  {
   "cell_type": "code",
   "execution_count": 116,
   "id": "079394f0-7ebd-497a-8a74-38e875df8697",
   "metadata": {},
   "outputs": [
    {
     "data": {
      "application/vnd.jupyter.widget-view+json": {
       "model_id": "1d0132ecfbf14c61acaa05ef339fbb42",
       "version_major": 2,
       "version_minor": 0
      },
      "text/plain": [
       "  0%|          | 0/10 [00:00<?, ?it/s]"
      ]
     },
     "metadata": {},
     "output_type": "display_data"
    }
   ],
   "source": [
    "\n",
    "# all_top5_dict = defaultdict(list)\n",
    "# all_only_top_dict = defaultdict(list)\n",
    "# num_templates = project_data.reindexed_metadata_training.num_frames\n",
    "\n",
    "# for i_template in tqdm(range(num_templates)):\n",
    "#     pts = project_data.get_centroids_as_numpy_training(i_template)\n",
    "#     labels = predict_label(test_pos=pts, template_pos=template, template_label=template_label, **prediction_options)\n",
    "#     template_top5 = labels[1]\n",
    "    \n",
    "#     num_candidates = 5\n",
    "\n",
    "#     for i, neuron_top5 in enumerate(template_top5):\n",
    "#         name = int2name(i+1)\n",
    "#         sub_names = list(range(num_candidates))\n",
    "#         neuron_key = (name, )\n",
    "#         for i_candidate in range(num_candidates):\n",
    "#             candidate_key = neuron_key + (i_candidate, )\n",
    "#             for i_name_or_conf in range(2):\n",
    "#                 if i_name_or_conf==0:\n",
    "#                     key = candidate_key + ('name', )\n",
    "#                 else:\n",
    "#                     key = candidate_key + ('likelihood', )\n",
    "#                 val = neuron_top5[i_candidate][i_name_or_conf]\n",
    "#                 all_top5_dict[key].append(val)\n",
    "#                 if i_candidate == 0:\n",
    "#                     key = key[0,2]\n",
    "#                     all_only_top_dict[key].append(val)\n",
    "\n",
    "# # df = pd.DataFrame(all_dict, index=[0])\n",
    "# df5 = pd.DataFrame(all_top5_dict)\n",
    "# df1 = pd.DataFrame(all_only_top_dict)"
   ]
  },
  {
   "cell_type": "code",
   "execution_count": 168,
   "id": "0cb49bab-22d0-4033-9282-7abe3444b846",
   "metadata": {},
   "outputs": [
    {
     "data": {
      "application/vnd.jupyter.widget-view+json": {
       "model_id": "7d30ebd3dae3449780350cd15fa93bbc",
       "version_major": 2,
       "version_minor": 0
      },
      "text/plain": [
       "  0%|          | 0/10 [00:00<?, ?it/s]"
      ]
     },
     "metadata": {},
     "output_type": "display_data"
    }
   ],
   "source": [
    "all_only_top_dict = defaultdict(list)\n",
    "num_templates = project_data.reindexed_metadata_training.num_frames\n",
    "\n",
    "for i_template in tqdm(range(num_templates)):\n",
    "    pts = project_data.get_centroids_as_numpy_training(i_template)\n",
    "    pts = zimmer2leifer(pts)\n",
    "    labels = predict_label(test_pos=pts, template_pos=template, template_label=template_label, **prediction_options)\n",
    "    template_top1 = labels[0]\n",
    "\n",
    "    for i_neuron, neuron_top_candidate in enumerate(template_top1):\n",
    "        name = int2name(i_neuron+1)\n",
    "        neuron_key = (name, )\n",
    "        for i_name_or_conf in range(2):\n",
    "            if i_name_or_conf==0:\n",
    "                key = neuron_key + ('name', )\n",
    "            else:\n",
    "                key = neuron_key + ('likelihood', )\n",
    "            val = neuron_top_candidate[i_name_or_conf]\n",
    "            all_only_top_dict[key].append(val)\n",
    "\n",
    "df1 = pd.DataFrame(all_only_top_dict)"
   ]
  },
  {
   "cell_type": "code",
   "execution_count": 169,
   "id": "0680182c-d9e3-4a87-8eff-545c685cc7ac",
   "metadata": {},
   "outputs": [
    {
     "data": {
      "text/html": [
       "<div>\n",
       "<style scoped>\n",
       "    .dataframe tbody tr th:only-of-type {\n",
       "        vertical-align: middle;\n",
       "    }\n",
       "\n",
       "    .dataframe tbody tr th {\n",
       "        vertical-align: top;\n",
       "    }\n",
       "\n",
       "    .dataframe thead tr th {\n",
       "        text-align: left;\n",
       "    }\n",
       "</style>\n",
       "<table border=\"1\" class=\"dataframe\">\n",
       "  <thead>\n",
       "    <tr>\n",
       "      <th></th>\n",
       "      <th colspan=\"2\" halign=\"left\">neuron_001</th>\n",
       "      <th colspan=\"2\" halign=\"left\">neuron_002</th>\n",
       "      <th colspan=\"2\" halign=\"left\">neuron_003</th>\n",
       "      <th colspan=\"2\" halign=\"left\">neuron_004</th>\n",
       "      <th colspan=\"2\" halign=\"left\">neuron_005</th>\n",
       "      <th>...</th>\n",
       "      <th colspan=\"2\" halign=\"left\">neuron_116</th>\n",
       "      <th colspan=\"2\" halign=\"left\">neuron_117</th>\n",
       "      <th colspan=\"2\" halign=\"left\">neuron_118</th>\n",
       "      <th colspan=\"2\" halign=\"left\">neuron_119</th>\n",
       "      <th colspan=\"2\" halign=\"left\">neuron_120</th>\n",
       "    </tr>\n",
       "    <tr>\n",
       "      <th></th>\n",
       "      <th>name</th>\n",
       "      <th>likelihood</th>\n",
       "      <th>name</th>\n",
       "      <th>likelihood</th>\n",
       "      <th>name</th>\n",
       "      <th>likelihood</th>\n",
       "      <th>name</th>\n",
       "      <th>likelihood</th>\n",
       "      <th>name</th>\n",
       "      <th>likelihood</th>\n",
       "      <th>...</th>\n",
       "      <th>name</th>\n",
       "      <th>likelihood</th>\n",
       "      <th>name</th>\n",
       "      <th>likelihood</th>\n",
       "      <th>name</th>\n",
       "      <th>likelihood</th>\n",
       "      <th>name</th>\n",
       "      <th>likelihood</th>\n",
       "      <th>name</th>\n",
       "      <th>likelihood</th>\n",
       "    </tr>\n",
       "  </thead>\n",
       "  <tbody>\n",
       "    <tr>\n",
       "      <th>0</th>\n",
       "      <td></td>\n",
       "      <td>0.023176</td>\n",
       "      <td>AWAR</td>\n",
       "      <td>0.085650</td>\n",
       "      <td></td>\n",
       "      <td>0.987076</td>\n",
       "      <td>ASHL</td>\n",
       "      <td>0.090837</td>\n",
       "      <td>AVDR</td>\n",
       "      <td>0.999914</td>\n",
       "      <td>...</td>\n",
       "      <td>AVAL</td>\n",
       "      <td>0.999222</td>\n",
       "      <td></td>\n",
       "      <td>0.026363</td>\n",
       "      <td>IL2DR</td>\n",
       "      <td>0.999759</td>\n",
       "      <td></td>\n",
       "      <td>0.011920</td>\n",
       "      <td>SMDDL</td>\n",
       "      <td>0.838886</td>\n",
       "    </tr>\n",
       "    <tr>\n",
       "      <th>1</th>\n",
       "      <td></td>\n",
       "      <td>0.032906</td>\n",
       "      <td></td>\n",
       "      <td>0.080329</td>\n",
       "      <td>AVAR</td>\n",
       "      <td>0.997236</td>\n",
       "      <td>ASHL</td>\n",
       "      <td>0.178929</td>\n",
       "      <td>AVDR</td>\n",
       "      <td>0.999969</td>\n",
       "      <td>...</td>\n",
       "      <td>AVAL</td>\n",
       "      <td>0.999873</td>\n",
       "      <td></td>\n",
       "      <td>0.185598</td>\n",
       "      <td>IL1DR</td>\n",
       "      <td>0.006079</td>\n",
       "      <td></td>\n",
       "      <td>0.052935</td>\n",
       "      <td>CEPVL</td>\n",
       "      <td>0.086580</td>\n",
       "    </tr>\n",
       "    <tr>\n",
       "      <th>2</th>\n",
       "      <td></td>\n",
       "      <td>0.329082</td>\n",
       "      <td>AWAR</td>\n",
       "      <td>0.572790</td>\n",
       "      <td></td>\n",
       "      <td>0.976606</td>\n",
       "      <td>ASHL</td>\n",
       "      <td>0.947157</td>\n",
       "      <td>AVDR</td>\n",
       "      <td>0.999463</td>\n",
       "      <td>...</td>\n",
       "      <td>AVEL</td>\n",
       "      <td>0.904060</td>\n",
       "      <td></td>\n",
       "      <td>0.997262</td>\n",
       "      <td>IL2DR</td>\n",
       "      <td>0.313265</td>\n",
       "      <td></td>\n",
       "      <td>0.002763</td>\n",
       "      <td>SMDDL</td>\n",
       "      <td>0.700700</td>\n",
       "    </tr>\n",
       "    <tr>\n",
       "      <th>3</th>\n",
       "      <td></td>\n",
       "      <td>0.945163</td>\n",
       "      <td>AWAR</td>\n",
       "      <td>0.995136</td>\n",
       "      <td>AVAR</td>\n",
       "      <td>0.999990</td>\n",
       "      <td>ASHL</td>\n",
       "      <td>0.747061</td>\n",
       "      <td>AVDR</td>\n",
       "      <td>0.999687</td>\n",
       "      <td>...</td>\n",
       "      <td>AVAL</td>\n",
       "      <td>0.999824</td>\n",
       "      <td></td>\n",
       "      <td>0.045976</td>\n",
       "      <td>IL1DR</td>\n",
       "      <td>0.999993</td>\n",
       "      <td></td>\n",
       "      <td>0.574828</td>\n",
       "      <td>SMDDL</td>\n",
       "      <td>0.983317</td>\n",
       "    </tr>\n",
       "    <tr>\n",
       "      <th>4</th>\n",
       "      <td></td>\n",
       "      <td>0.998380</td>\n",
       "      <td>AWAR</td>\n",
       "      <td>0.849006</td>\n",
       "      <td>AVAR</td>\n",
       "      <td>0.997956</td>\n",
       "      <td>ASEL</td>\n",
       "      <td>0.025400</td>\n",
       "      <td>AVDR</td>\n",
       "      <td>0.999828</td>\n",
       "      <td>...</td>\n",
       "      <td>AVEL</td>\n",
       "      <td>1.000000</td>\n",
       "      <td></td>\n",
       "      <td>0.583538</td>\n",
       "      <td>IL1DR</td>\n",
       "      <td>0.998634</td>\n",
       "      <td></td>\n",
       "      <td>0.277075</td>\n",
       "      <td>SMDDL</td>\n",
       "      <td>0.998468</td>\n",
       "    </tr>\n",
       "    <tr>\n",
       "      <th>5</th>\n",
       "      <td></td>\n",
       "      <td>0.999665</td>\n",
       "      <td>AWAR</td>\n",
       "      <td>0.944810</td>\n",
       "      <td>AVAR</td>\n",
       "      <td>0.999210</td>\n",
       "      <td>AWAL</td>\n",
       "      <td>0.964365</td>\n",
       "      <td>AVDR</td>\n",
       "      <td>0.994892</td>\n",
       "      <td>...</td>\n",
       "      <td>AVAL</td>\n",
       "      <td>0.999172</td>\n",
       "      <td></td>\n",
       "      <td>0.901490</td>\n",
       "      <td>IL1DR</td>\n",
       "      <td>0.005085</td>\n",
       "      <td></td>\n",
       "      <td>0.003928</td>\n",
       "      <td>SMDDL</td>\n",
       "      <td>0.950200</td>\n",
       "    </tr>\n",
       "    <tr>\n",
       "      <th>6</th>\n",
       "      <td></td>\n",
       "      <td>0.998931</td>\n",
       "      <td>ASER</td>\n",
       "      <td>0.700420</td>\n",
       "      <td>AVAR</td>\n",
       "      <td>0.978411</td>\n",
       "      <td>AWAL</td>\n",
       "      <td>0.980261</td>\n",
       "      <td></td>\n",
       "      <td>0.413217</td>\n",
       "      <td>...</td>\n",
       "      <td>AVAL</td>\n",
       "      <td>0.998701</td>\n",
       "      <td></td>\n",
       "      <td>0.855018</td>\n",
       "      <td>OLLR</td>\n",
       "      <td>0.999769</td>\n",
       "      <td></td>\n",
       "      <td>0.047571</td>\n",
       "      <td>CEPVL</td>\n",
       "      <td>0.954131</td>\n",
       "    </tr>\n",
       "    <tr>\n",
       "      <th>7</th>\n",
       "      <td></td>\n",
       "      <td>0.987724</td>\n",
       "      <td>ASER</td>\n",
       "      <td>0.593533</td>\n",
       "      <td>AVAR</td>\n",
       "      <td>0.946832</td>\n",
       "      <td>AWAL</td>\n",
       "      <td>0.990574</td>\n",
       "      <td></td>\n",
       "      <td>0.702032</td>\n",
       "      <td>...</td>\n",
       "      <td>AVAL</td>\n",
       "      <td>0.983646</td>\n",
       "      <td></td>\n",
       "      <td>0.035192</td>\n",
       "      <td>OLLR</td>\n",
       "      <td>0.997548</td>\n",
       "      <td>ALA</td>\n",
       "      <td>0.017137</td>\n",
       "      <td>URAVL</td>\n",
       "      <td>0.350184</td>\n",
       "    </tr>\n",
       "    <tr>\n",
       "      <th>8</th>\n",
       "      <td></td>\n",
       "      <td>0.965484</td>\n",
       "      <td>ASER</td>\n",
       "      <td>0.633699</td>\n",
       "      <td>AFDR</td>\n",
       "      <td>0.031765</td>\n",
       "      <td>AWAL</td>\n",
       "      <td>0.938154</td>\n",
       "      <td></td>\n",
       "      <td>0.717761</td>\n",
       "      <td>...</td>\n",
       "      <td>AVAL</td>\n",
       "      <td>0.960533</td>\n",
       "      <td></td>\n",
       "      <td>0.037762</td>\n",
       "      <td></td>\n",
       "      <td>0.004685</td>\n",
       "      <td></td>\n",
       "      <td>0.130703</td>\n",
       "      <td>URAVL</td>\n",
       "      <td>0.711316</td>\n",
       "    </tr>\n",
       "    <tr>\n",
       "      <th>9</th>\n",
       "      <td></td>\n",
       "      <td>0.010058</td>\n",
       "      <td>ASER</td>\n",
       "      <td>0.775891</td>\n",
       "      <td></td>\n",
       "      <td>0.111918</td>\n",
       "      <td>AWAL</td>\n",
       "      <td>0.602933</td>\n",
       "      <td></td>\n",
       "      <td>0.628345</td>\n",
       "      <td>...</td>\n",
       "      <td>AVAL</td>\n",
       "      <td>0.912368</td>\n",
       "      <td></td>\n",
       "      <td>0.082425</td>\n",
       "      <td>OLLR</td>\n",
       "      <td>0.880843</td>\n",
       "      <td></td>\n",
       "      <td>0.090704</td>\n",
       "      <td>CEPVL</td>\n",
       "      <td>0.813478</td>\n",
       "    </tr>\n",
       "  </tbody>\n",
       "</table>\n",
       "<p>10 rows × 240 columns</p>\n",
       "</div>"
      ],
      "text/plain": [
       "  neuron_001            neuron_002            neuron_003             \\\n",
       "        name likelihood       name likelihood       name likelihood   \n",
       "0              0.023176       AWAR   0.085650              0.987076   \n",
       "1              0.032906              0.080329       AVAR   0.997236   \n",
       "2              0.329082       AWAR   0.572790              0.976606   \n",
       "3              0.945163       AWAR   0.995136       AVAR   0.999990   \n",
       "4              0.998380       AWAR   0.849006       AVAR   0.997956   \n",
       "5              0.999665       AWAR   0.944810       AVAR   0.999210   \n",
       "6              0.998931       ASER   0.700420       AVAR   0.978411   \n",
       "7              0.987724       ASER   0.593533       AVAR   0.946832   \n",
       "8              0.965484       ASER   0.633699       AFDR   0.031765   \n",
       "9              0.010058       ASER   0.775891              0.111918   \n",
       "\n",
       "  neuron_004            neuron_005             ... neuron_116             \\\n",
       "        name likelihood       name likelihood  ...       name likelihood   \n",
       "0       ASHL   0.090837       AVDR   0.999914  ...       AVAL   0.999222   \n",
       "1       ASHL   0.178929       AVDR   0.999969  ...       AVAL   0.999873   \n",
       "2       ASHL   0.947157       AVDR   0.999463  ...       AVEL   0.904060   \n",
       "3       ASHL   0.747061       AVDR   0.999687  ...       AVAL   0.999824   \n",
       "4       ASEL   0.025400       AVDR   0.999828  ...       AVEL   1.000000   \n",
       "5       AWAL   0.964365       AVDR   0.994892  ...       AVAL   0.999172   \n",
       "6       AWAL   0.980261              0.413217  ...       AVAL   0.998701   \n",
       "7       AWAL   0.990574              0.702032  ...       AVAL   0.983646   \n",
       "8       AWAL   0.938154              0.717761  ...       AVAL   0.960533   \n",
       "9       AWAL   0.602933              0.628345  ...       AVAL   0.912368   \n",
       "\n",
       "  neuron_117            neuron_118            neuron_119             \\\n",
       "        name likelihood       name likelihood       name likelihood   \n",
       "0              0.026363      IL2DR   0.999759              0.011920   \n",
       "1              0.185598      IL1DR   0.006079              0.052935   \n",
       "2              0.997262      IL2DR   0.313265              0.002763   \n",
       "3              0.045976      IL1DR   0.999993              0.574828   \n",
       "4              0.583538      IL1DR   0.998634              0.277075   \n",
       "5              0.901490      IL1DR   0.005085              0.003928   \n",
       "6              0.855018       OLLR   0.999769              0.047571   \n",
       "7              0.035192       OLLR   0.997548        ALA   0.017137   \n",
       "8              0.037762              0.004685              0.130703   \n",
       "9              0.082425       OLLR   0.880843              0.090704   \n",
       "\n",
       "  neuron_120             \n",
       "        name likelihood  \n",
       "0      SMDDL   0.838886  \n",
       "1      CEPVL   0.086580  \n",
       "2      SMDDL   0.700700  \n",
       "3      SMDDL   0.983317  \n",
       "4      SMDDL   0.998468  \n",
       "5      SMDDL   0.950200  \n",
       "6      CEPVL   0.954131  \n",
       "7      URAVL   0.350184  \n",
       "8      URAVL   0.711316  \n",
       "9      CEPVL   0.813478  \n",
       "\n",
       "[10 rows x 240 columns]"
      ]
     },
     "execution_count": 169,
     "metadata": {},
     "output_type": "execute_result"
    }
   ],
   "source": [
    "df1"
   ]
  },
  {
   "cell_type": "code",
   "execution_count": 170,
   "id": "a06f2846-228a-466e-bbd6-b9bd2486b399",
   "metadata": {},
   "outputs": [],
   "source": [
    "# import dtale\n",
    "\n",
    "# dtale.show(df1)"
   ]
  },
  {
   "cell_type": "code",
   "execution_count": 187,
   "id": "26f3d3ba-83a6-4646-9d74-4de694fdeaa8",
   "metadata": {},
   "outputs": [],
   "source": [
    "raw_names = list(df1.columns.levels[0])\n",
    "\n",
    "all_match_dict = {}\n",
    "all_conf_dict = {}\n",
    "\n",
    "for n in raw_names:\n",
    "\n",
    "    this_df = df1[n]\n",
    "    candidate_names = this_df['name'].unique()\n",
    "    candidate_conf = np.zeros_like(candidate_names)\n",
    "\n",
    "    conf_func = lambda x: sum(x) / df1.shape[0]\n",
    "\n",
    "    for i, c in enumerate(candidate_names):\n",
    "        ind = this_df['name'] == c\n",
    "        candidate_conf[i] = conf_func(this_df['likelihood'].loc[ind])\n",
    "\n",
    "    # Just take the max value\n",
    "    i_max = np.argmax(candidate_conf)\n",
    "    this_name = candidate_names[i_max]\n",
    "    if this_name != '':\n",
    "        all_match_dict[n] = this_name\n",
    "    else:\n",
    "        all_match_dict[n] = n\n",
    "    all_conf_dict[n] = candidate_conf[i_max]"
   ]
  },
  {
   "cell_type": "code",
   "execution_count": 212,
   "id": "398ca4b9-16ba-4490-a6d0-3cf841f9a3d8",
   "metadata": {},
   "outputs": [],
   "source": [
    "# df_out = pd.DataFrame(index=[all_match_dict.keys()], data=[all_conf_dict.values(), all_match_dict.values()])\n",
    "df_out1 = pd.DataFrame.from_dict(all_match_dict, orient='index', columns=['name'])\n",
    "df_out2 = pd.DataFrame.from_dict(all_conf_dict, orient='index', columns=['likelihood'])\n",
    "df_out = pd.concat([df_out1, df_out2], axis=1)"
   ]
  },
  {
   "cell_type": "code",
   "execution_count": 214,
   "id": "52f586f4-2cc0-4f2e-9c06-0da2c9db6ece",
   "metadata": {},
   "outputs": [],
   "source": [
    "df_out.to_csv('test.csv')"
   ]
  },
  {
   "cell_type": "code",
   "execution_count": null,
   "id": "29c5e05c-879b-4f8b-871f-24d27084e032",
   "metadata": {},
   "outputs": [],
   "source": []
  },
  {
   "cell_type": "code",
   "execution_count": null,
   "id": "a780fe71-4deb-40cd-974a-66d33218f536",
   "metadata": {},
   "outputs": [],
   "source": []
  },
  {
   "cell_type": "code",
   "execution_count": null,
   "id": "cd7e989f-98b3-4681-973c-a25dc2b97389",
   "metadata": {},
   "outputs": [],
   "source": []
  },
  {
   "cell_type": "markdown",
   "id": "fd7353f4-09e5-4bc7-848b-62cf711f908f",
   "metadata": {},
   "source": [
    "# Get the names for the neurons in the training data"
   ]
  },
  {
   "cell_type": "code",
   "execution_count": 144,
   "id": "82ac2fc4-f188-4b92-9792-1a3c6eb2cc9b",
   "metadata": {},
   "outputs": [],
   "source": [
    "from DLC_for_WBFM.utils.xinwei_fdnc.predict import load_prediction_options\n",
    "from fDNC.src.DNC_predict import pre_matt, predict_label, predict_matches\n",
    "from DLC_for_WBFM.utils.projects.utils_neuron_names import int2name\n",
    "from collections import defaultdict\n",
    "from DLC_for_WBFM.utils.xinwei_fdnc.predict import combine_multiple_template_matches"
   ]
  },
  {
   "cell_type": "code",
   "execution_count": 140,
   "id": "a82e0213-d0f9-4e4b-bbd7-828fc52316a8",
   "metadata": {},
   "outputs": [],
   "source": [
    "prediction_options, template, template_label = load_prediction_options()\n",
    "match_confidence_threshold = 0.1"
   ]
  },
  {
   "cell_type": "code",
   "execution_count": 141,
   "id": "517e4721-7f0b-4dc3-895e-9d21272bfd9a",
   "metadata": {},
   "outputs": [
    {
     "data": {
      "application/vnd.jupyter.widget-view+json": {
       "model_id": "",
       "version_major": 2,
       "version_minor": 0
      },
      "text/plain": [
       "  0%|          | 0/10 [00:00<?, ?it/s]"
      ]
     },
     "metadata": {},
     "output_type": "display_data"
    }
   ],
   "source": [
    "matches = track_using_fdnc(project_data,\n",
    "                         prediction_options,\n",
    "                         template,\n",
    "                         match_confidence_threshold,\n",
    "                          full_video_not_training=False)"
   ]
  },
  {
   "cell_type": "code",
   "execution_count": 135,
   "id": "ff402e74-6383-4a26-bfa2-93006c3fb37d",
   "metadata": {},
   "outputs": [
    {
     "data": {
      "text/plain": [
       "array(['I1R', 'I1L', 'AMSOL', 'AMSOR', 'IL2VL', 'I2R', 'I2L', '', 'I3',\n",
       "       'M3R', 'M3L', '', 'IL2DL', 'IL1VL', 'OLLL', 'IL2VR', 'URADL',\n",
       "       'IL2DR', 'IL1VR', 'OLLR', 'IL1DL', 'URBL', 'URYVL', 'IL1DR',\n",
       "       'URYDL', 'URYVR', 'URAVR', 'URBR', 'OLQVL', 'URAVL', 'OLQVR',\n",
       "       'OLQDL', 'URYDR', 'OLQDR', 'RMEL', 'CEPVL', 'RMED', '', 'RMER',\n",
       "       'SMDDL', 'CEPVR', '', 'RMDVR', 'SAAVR', 'RMDVL', 'SAAVL', 'URXL',\n",
       "       'AVAR', 'CEPDL', 'SMDVR', 'AVAL', '', '', 'URXR', '', 'AVER',\n",
       "       'AFDL', 'CEPDR', '', 'AFDR', '', 'AVEL', '', 'ASGR', '', '', '',\n",
       "       '', 'ALA', 'AWAR', 'ASHL', 'ASHR', 'AWAL', 'ASER', '', 'ASGL', '',\n",
       "       'AVHR', '', 'AVDR', 'AVJR', '', 'ASEL', '', '', '', 'AVHL', 'RIVR',\n",
       "       '', 'AVJL', 'AVDL', 'RIVL', '', '', '', '', '', '', '', '', '', '',\n",
       "       '', '', '', '', '', '', '', '', '', '', '', '', '', '', '', '', '',\n",
       "       '', '', '', '', '', '', '', ''], dtype='<U5')"
      ]
     },
     "execution_count": 135,
     "metadata": {},
     "output_type": "execute_result"
    }
   ],
   "source": [
    "template_label"
   ]
  },
  {
   "cell_type": "code",
   "execution_count": 159,
   "id": "ed91da7c-3fea-4e7c-aab2-49b26d505ee1",
   "metadata": {},
   "outputs": [],
   "source": [
    "formatted_matches = [[m] for m in matches]"
   ]
  },
  {
   "cell_type": "code",
   "execution_count": 161,
   "id": "7a2c2d0f-0625-471b-908a-452973607455",
   "metadata": {},
   "outputs": [],
   "source": [
    "final_matches = combine_multiple_template_matches(formatted_matches)"
   ]
  },
  {
   "cell_type": "code",
   "execution_count": 162,
   "id": "bef98c07-534d-4b9b-b203-7cc7d16c3767",
   "metadata": {},
   "outputs": [
    {
     "data": {
      "text/plain": [
       "[[(0, 82, 0.4495253116882295),\n",
       "  (1, 76, 0.37007150380593834),\n",
       "  (3, 57, 0.2523733413266211),\n",
       "  (4, 55, 0.38780313439560027),\n",
       "  (5, 37, 0.19443571890377612),\n",
       "  (6, 64, 0.36496252609822444),\n",
       "  (7, 59, 0.3106561278671764),\n",
       "  (8, 92, 0.2939097567642998),\n",
       "  (9, 47, 0.29130571231512337),\n",
       "  (12, 89, 0.5367727536677025),\n",
       "  (13, 18, 0.532127051109205),\n",
       "  (14, 26, 0.4596465290129981),\n",
       "  (16, 66, 0.32005341766540707),\n",
       "  (17, 36, 0.3792585263677911),\n",
       "  (19, 35, 0.5360513095009017),\n",
       "  (20, 19, 0.29122395566397086),\n",
       "  (21, 24, 0.6006764287304671),\n",
       "  (22, 102, 0.23255701156552014),\n",
       "  (23, 117, 0.19724341767889883),\n",
       "  (24, 14, 0.4411829744900122),\n",
       "  (25, 50, 0.2762231219554822),\n",
       "  (26, 107, 0.2644773254234498),\n",
       "  (27, 44, 0.33890519841191225),\n",
       "  (28, 20, 0.3524002552039589),\n",
       "  (30, 51, 0.24584277091556764),\n",
       "  (31, 63, 0.2749804455606422),\n",
       "  (32, 114, 0.4122230061534514),\n",
       "  (33, 49, 0.5918621679289955),\n",
       "  (34, 27, 0.7615081837235786),\n",
       "  (36, 60, 0.7484437806420352),\n",
       "  (37, 41, 0.3345911090961652),\n",
       "  (38, 40, 0.36781741650075245),\n",
       "  (39, 119, 0.4195592666798756),\n",
       "  (41, 16, 0.315055314119022),\n",
       "  (42, 43, 0.5407955963582335),\n",
       "  (43, 45, 0.7534359952231181),\n",
       "  (44, 74, 0.7539694863295581),\n",
       "  (45, 8, 0.6634944476874407),\n",
       "  (46, 17, 0.7185078537480729),\n",
       "  (47, 2, 0.5313062736749834),\n",
       "  (49, 42, 0.3769156193747089),\n",
       "  (50, 115, 0.6557576712591859),\n",
       "  (51, 7, 0.5745165849937506),\n",
       "  (52, 15, 0.7424652598539375),\n",
       "  (53, 84, 0.2900856621443435),\n",
       "  (55, 94, 0.4793850009797786),\n",
       "  (56, 111, 0.6999826849804794),\n",
       "  (57, 13, 0.6271665085197531),\n",
       "  (59, 10, 0.3605795708292767),\n",
       "  (60, 67, 0.13141745728504933),\n",
       "  (61, 85, 0.32642258903775684),\n",
       "  (62, 21, 0.6396225646379925),\n",
       "  (63, 113, 0.2906901023630447),\n",
       "  (65, 12, 0.19680130363509069),\n",
       "  (66, 73, 0.4537534899069299),\n",
       "  (67, 28, 0.37692799699114526),\n",
       "  (69, 1, 0.3240576877325557),\n",
       "  (70, 97, 0.28081868026003126),\n",
       "  (71, 104, 0.5031777037359522),\n",
       "  (72, 3, 0.41994784595967044),\n",
       "  (73, 48, 0.40284071350984146),\n",
       "  (76, 90, 0.16203506401444265),\n",
       "  (78, 38, 0.46087948877920315),\n",
       "  (79, 4, 0.5366049473115888),\n",
       "  (80, 11, 0.33803601149145956),\n",
       "  (82, 25, 0.29629149034630686),\n",
       "  (83, 9, 0.44026608350033275),\n",
       "  (84, 91, 0.44874973316357514),\n",
       "  (85, 75, 0.21231105750385806),\n",
       "  (86, 72, 0.3859455289491075),\n",
       "  (87, 29, 0.17396719608448838),\n",
       "  (88, 56, 0.3735883082695733),\n",
       "  (89, 6, 0.5011616069353484),\n",
       "  (91, 65, 0.47174700996215274),\n",
       "  (92, 112, 0.7613317965857889),\n",
       "  (93, 77, 0.37133221827290946),\n",
       "  (94, 96, 0.5075048568814431),\n",
       "  (96, 54, 0.18550710498567893),\n",
       "  (97, 32, 0.5284784211396278),\n",
       "  (99, 116, 0.24732771575697085),\n",
       "  (101, 52, 0.7613355825571969),\n",
       "  (102, 71, 0.21546202930321587),\n",
       "  (103, 106, 0.40346500253704015),\n",
       "  (104, 79, 0.5370485702838009),\n",
       "  (105, 70, 0.5367065494277923),\n",
       "  (106, 46, 0.5798343675582093),\n",
       "  (107, 88, 0.5249011144156447),\n",
       "  (110, 83, 0.4091326647058619),\n",
       "  (111, 61, 0.1075415843408029),\n",
       "  (112, 62, 0.1560627131097356),\n",
       "  (113, 31, 0.23806738101690747),\n",
       "  (114, 53, 0.23547507978936555),\n",
       "  (115, 86, 0.3296899888825662),\n",
       "  (116, 58, 0.2861391341543675),\n",
       "  (117, 0, 0.5295608848250855),\n",
       "  (118, 95, 0.25673771277887364),\n",
       "  (119, 39, 0.14332677183697626),\n",
       "  (120, 101, 0.26454605427961086),\n",
       "  (121, 99, 0.11071154603728363),\n",
       "  (122, 105, 0.24582574406491955),\n",
       "  (123, 34, 0.17070999693077507),\n",
       "  (125, 33, 0.3502694259548485),\n",
       "  (126, 68, 0.13541733502376052)]]"
      ]
     },
     "execution_count": 162,
     "metadata": {},
     "output_type": "execute_result"
    }
   ],
   "source": [
    "final_matches"
   ]
  },
  {
   "cell_type": "code",
   "execution_count": null,
   "id": "40faa287-8b9a-43f3-a35b-b9577cee15a7",
   "metadata": {},
   "outputs": [],
   "source": []
  },
  {
   "cell_type": "markdown",
   "id": "7a672f3d-d44f-473a-9354-a199a5920338",
   "metadata": {},
   "source": [
    "# Scratch: try some purely classical matching"
   ]
  },
  {
   "cell_type": "code",
   "execution_count": 19,
   "id": "f1c3b101-0060-471c-a73a-ff28d3756e32",
   "metadata": {},
   "outputs": [],
   "source": [
    "import open3d as o3d\n",
    "from probreg import bcpd, cpd\n",
    "from probreg import callbacks\n",
    "from DLC_for_WBFM.utils.point_clouds.utils_bcpd import match_2vol_BCPD, match_2vol_rigid\n",
    "from DLC_for_WBFM.utils.xinwei_fdnc.formatting import zimmer2leifer"
   ]
  },
  {
   "cell_type": "code",
   "execution_count": 160,
   "id": "79319400-10f9-4aea-acc9-afa758224676",
   "metadata": {},
   "outputs": [],
   "source": [
    "\n",
    "source = o3d.geometry.PointCloud()\n",
    "target = o3d.geometry.PointCloud()\n",
    "\n",
    "pts0 = project_data.get_centroids_as_numpy_training(0)\n",
    "source.points = o3d.utility.Vector3dVector(pts0)\n",
    "pts1 = project_data.get_centroids_as_numpy_training(1)\n",
    "target.points = o3d.utility.Vector3dVector(pts1)\n"
   ]
  },
  {
   "cell_type": "code",
   "execution_count": 2,
   "id": "dc8804c4-e36b-4727-a149-dc00e1445c31",
   "metadata": {},
   "outputs": [],
   "source": [
    "# to_plot = True\n",
    "# if to_plot:\n",
    "#     cbs = [callbacks.Open3dVisualizerCallback(source, target)]\n",
    "# tf_param = bcpd.registration_bcpd(source, target, w=1e-12,\n",
    "#                                   maxiter=100,\n",
    "#                                   callbacks=cbs)"
   ]
  },
  {
   "cell_type": "code",
   "execution_count": 30,
   "id": "b67a581c-e2ca-4d88-99a4-48c6d339098f",
   "metadata": {},
   "outputs": [
    {
     "data": {
      "text/plain": [
       "(array([[  0, 115],\n",
       "        [  1,   1],\n",
       "        [  2,   1],\n",
       "        [  3,  97],\n",
       "        [  4, 112],\n",
       "        [  5, 112],\n",
       "        [  6, 112],\n",
       "        [  7, 115],\n",
       "        [  8, 115],\n",
       "        [  9, 112],\n",
       "        [ 10,  97],\n",
       "        [ 11,  69],\n",
       "        [ 12,  97],\n",
       "        [ 13, 115],\n",
       "        [ 14,  23],\n",
       "        [ 15, 115],\n",
       "        [ 16,  49],\n",
       "        [ 17, 115],\n",
       "        [ 18, 117],\n",
       "        [ 19,  23],\n",
       "        [ 20,  23],\n",
       "        [ 21,  97],\n",
       "        [ 22, 115],\n",
       "        [ 23,  49],\n",
       "        [ 24,  24],\n",
       "        [ 25,  90],\n",
       "        [ 26, 117],\n",
       "        [ 27,  49],\n",
       "        [ 28,  90],\n",
       "        [ 29, 112],\n",
       "        [ 30,  52],\n",
       "        [ 31, 112],\n",
       "        [ 32, 112],\n",
       "        [ 33,  62],\n",
       "        [ 34,  52],\n",
       "        [ 35, 117],\n",
       "        [ 36, 117],\n",
       "        [ 37, 117],\n",
       "        [ 38,  97],\n",
       "        [ 39,  62],\n",
       "        [ 40,  49],\n",
       "        [ 41,  23],\n",
       "        [ 42, 115],\n",
       "        [ 43, 115],\n",
       "        [ 44,  23],\n",
       "        [ 45, 115],\n",
       "        [ 46,  29],\n",
       "        [ 47,  92],\n",
       "        [ 48,  90],\n",
       "        [ 49,  49],\n",
       "        [ 50, 102],\n",
       "        [ 51, 102],\n",
       "        [ 52, 112],\n",
       "        [ 53,  31],\n",
       "        [ 54, 112],\n",
       "        [ 55,  76],\n",
       "        [ 56,  69],\n",
       "        [ 57,  92],\n",
       "        [ 58,  79],\n",
       "        [ 59,  92],\n",
       "        [ 60,  49],\n",
       "        [ 61,  46],\n",
       "        [ 62,  58],\n",
       "        [ 63,  49],\n",
       "        [ 64,  92],\n",
       "        [ 65,  90],\n",
       "        [ 66, 117],\n",
       "        [ 67,  97],\n",
       "        [ 68,  87],\n",
       "        [ 69, 112],\n",
       "        [ 70, 112],\n",
       "        [ 71,  90],\n",
       "        [ 72, 112],\n",
       "        [ 73, 115],\n",
       "        [ 74,  84],\n",
       "        [ 75,  69],\n",
       "        [ 76,  76],\n",
       "        [ 77, 112],\n",
       "        [ 78,  69],\n",
       "        [ 79, 112],\n",
       "        [ 80,  76],\n",
       "        [ 81, 112],\n",
       "        [ 82,  76],\n",
       "        [ 83, 112],\n",
       "        [ 84, 115],\n",
       "        [ 85, 115],\n",
       "        [ 86,  61],\n",
       "        [ 87,  98],\n",
       "        [ 88, 112],\n",
       "        [ 89, 117],\n",
       "        [ 90,  97],\n",
       "        [ 91,  90],\n",
       "        [ 92, 117],\n",
       "        [ 93,  76],\n",
       "        [ 94, 115],\n",
       "        [ 95,  62],\n",
       "        [ 96, 112],\n",
       "        [ 97,   3],\n",
       "        [ 98,  39],\n",
       "        [ 99, 105],\n",
       "        [100, 100],\n",
       "        [101,  53],\n",
       "        [102, 102],\n",
       "        [103, 103],\n",
       "        [104,  97],\n",
       "        [105,  39],\n",
       "        [106, 112],\n",
       "        [107,  23],\n",
       "        [108,  99],\n",
       "        [109,  47],\n",
       "        [110,  46],\n",
       "        [111, 115],\n",
       "        [112, 112],\n",
       "        [113,  97],\n",
       "        [114,  23],\n",
       "        [115, 115],\n",
       "        [116, 112],\n",
       "        [117, 102],\n",
       "        [118, 108],\n",
       "        [119,  20]]),\n",
       " array([[0.10471414],\n",
       "        [0.00148345],\n",
       "        [0.00104941],\n",
       "        [0.13568071],\n",
       "        [0.08924439],\n",
       "        [0.128478  ],\n",
       "        [0.09252715],\n",
       "        [0.10724178],\n",
       "        [0.11955702],\n",
       "        [0.08809293],\n",
       "        [0.13775287],\n",
       "        [0.14349526],\n",
       "        [0.13776075],\n",
       "        [0.10746414],\n",
       "        [0.15893586],\n",
       "        [0.14431874],\n",
       "        [0.1838105 ],\n",
       "        [0.11571992],\n",
       "        [0.1566982 ],\n",
       "        [0.16043139],\n",
       "        [0.16492574],\n",
       "        [0.11814254],\n",
       "        [0.11115985],\n",
       "        [0.16287134],\n",
       "        [0.17569463],\n",
       "        [0.14860922],\n",
       "        [0.14959797],\n",
       "        [0.17904479],\n",
       "        [0.13579566],\n",
       "        [0.05842177],\n",
       "        [0.08990866],\n",
       "        [0.1198239 ],\n",
       "        [0.00917602],\n",
       "        [0.04655185],\n",
       "        [0.11428899],\n",
       "        [0.16894359],\n",
       "        [0.16047163],\n",
       "        [0.14944004],\n",
       "        [0.14509173],\n",
       "        [0.07111152],\n",
       "        [0.16696749],\n",
       "        [0.16410415],\n",
       "        [0.11171329],\n",
       "        [0.13135137],\n",
       "        [0.16221354],\n",
       "        [0.11431872],\n",
       "        [0.09472091],\n",
       "        [0.13243024],\n",
       "        [0.13826683],\n",
       "        [0.16667351],\n",
       "        [0.17271905],\n",
       "        [0.17026031],\n",
       "        [0.03916793],\n",
       "        [0.19616718],\n",
       "        [0.01490679],\n",
       "        [0.14493878],\n",
       "        [0.10337649],\n",
       "        [0.13056596],\n",
       "        [0.097305  ],\n",
       "        [0.14114597],\n",
       "        [0.20252221],\n",
       "        [0.16169722],\n",
       "        [0.15966469],\n",
       "        [0.16639225],\n",
       "        [0.1453378 ],\n",
       "        [0.14659443],\n",
       "        [0.17126383],\n",
       "        [0.13156664],\n",
       "        [0.03608389],\n",
       "        [0.10854824],\n",
       "        [0.04211596],\n",
       "        [0.12163277],\n",
       "        [0.12669897],\n",
       "        [0.12083918],\n",
       "        [0.1505998 ],\n",
       "        [0.13785861],\n",
       "        [0.14153531],\n",
       "        [0.03240637],\n",
       "        [0.11796495],\n",
       "        [0.07263622],\n",
       "        [0.11147107],\n",
       "        [0.06291405],\n",
       "        [0.13080299],\n",
       "        [0.04971014],\n",
       "        [0.11727759],\n",
       "        [0.12389338],\n",
       "        [0.06882229],\n",
       "        [0.02848728],\n",
       "        [0.08757349],\n",
       "        [0.16672471],\n",
       "        [0.13297651],\n",
       "        [0.14470316],\n",
       "        [0.15521793],\n",
       "        [0.11301281],\n",
       "        [0.12276018],\n",
       "        [0.0514718 ],\n",
       "        [0.04559179],\n",
       "        [0.14459252],\n",
       "        [0.1184127 ],\n",
       "        [0.04301838],\n",
       "        [0.07987285],\n",
       "        [0.15409159],\n",
       "        [0.16639966],\n",
       "        [0.00281897],\n",
       "        [0.14013071],\n",
       "        [0.08531413],\n",
       "        [0.04666547],\n",
       "        [0.16533553],\n",
       "        [0.04078043],\n",
       "        [0.15452837],\n",
       "        [0.1185224 ],\n",
       "        [0.11833529],\n",
       "        [0.09430256],\n",
       "        [0.1407343 ],\n",
       "        [0.15983521],\n",
       "        [0.11139341],\n",
       "        [0.02567772],\n",
       "        [0.16652529],\n",
       "        [0.34961454],\n",
       "        [0.16718925]]))"
      ]
     },
     "execution_count": 30,
     "metadata": {},
     "output_type": "execute_result"
    }
   ],
   "source": [
    "\n",
    "bcpd_kwargs = {'lmd': 0.1}\n",
    "\n",
    "pts0 = zimmer2leifer(project_data.get_centroids_as_numpy_training(5))\n",
    "pts1 = zimmer2leifer(project_data.get_centroids_as_numpy_training(4))\n",
    "match_2vol_BCPD(pts0, pts1, w=1e-10, bcpd_kwargs=bcpd_kwargs)\n",
    "# match_2vol_rigid(pts0, pts1)"
   ]
  },
  {
   "cell_type": "code",
   "execution_count": null,
   "id": "753eace0-cd20-4b58-9768-fee6f2347537",
   "metadata": {},
   "outputs": [],
   "source": []
  }
 ],
 "metadata": {
  "kernelspec": {
   "display_name": "Python 3 (ipykernel)",
   "language": "python",
   "name": "python3"
  },
  "language_info": {
   "codemirror_mode": {
    "name": "ipython",
    "version": 3
   },
   "file_extension": ".py",
   "mimetype": "text/x-python",
   "name": "python",
   "nbconvert_exporter": "python",
   "pygments_lexer": "ipython3",
   "version": "3.7.11"
  }
 },
 "nbformat": 4,
 "nbformat_minor": 5
}
