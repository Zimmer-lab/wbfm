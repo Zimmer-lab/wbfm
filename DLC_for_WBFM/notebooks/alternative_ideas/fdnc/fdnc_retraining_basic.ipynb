{
 "cells": [
  {
   "cell_type": "code",
   "execution_count": 1,
   "id": "a5426d2d-c29b-4f9e-b374-9cf002c3ffba",
   "metadata": {},
   "outputs": [
    {
     "name": "stderr",
     "output_type": "stream",
     "text": [
      "\n",
      "Bad key \"text.kerning_factor\" on line 4 in\n",
      "/home/charles/anaconda3/envs/torch/lib/python3.7/site-packages/matplotlib/mpl-data/stylelib/_classic_test_patch.mplstyle.\n",
      "You probably need to get an updated matplotlibrc file from\n",
      "http://github.com/matplotlib/matplotlib/blob/master/matplotlibrc.template\n",
      "or from the matplotlib source distribution\n"
     ]
    }
   ],
   "source": [
    "%load_ext autoreload\n",
    "%autoreload 2\n",
    "import matplotlib.pyplot as plt\n",
    "from DLC_for_WBFM.utils.projects.finished_project_data import ProjectData\n",
    "import napari\n",
    "import pandas as pd\n",
    "import numpy as np\n",
    "import argparse\n",
    "from torch.utils.data import DataLoader\n",
    "from fDNC.src.model import NIT_Registration, neuron_data_pytorch\n",
    "import torch\n",
    "import math\n",
    "import time\n",
    "import os\n",
    "from torch import nn\n",
    "import numpy as np\n",
    "from tqdm.auto import tqdm\n",
    "import torch.nn.functional as F\n"
   ]
  },
  {
   "cell_type": "code",
   "execution_count": 2,
   "id": "9f8afeb7-81a4-4eef-ade9-a6edcc4aa512",
   "metadata": {},
   "outputs": [],
   "source": [
    "DATA_PATH=\"/home/charles/Current_work/repos/fDNC_Neuron_ID/Data\"\n",
    "train_path = f\"{DATA_PATH}/train_synthetic\" \n",
    "eval_path = f\"{DATA_PATH}/validation_synthetic\"\n",
    "\n",
    "model_path = \"/home/charles/Current_work/repos/fDNC_Neuron_ID/fDNC/model/model.bin\"\n",
    "\n",
    "batch_size = 64\n",
    "data_mode = 'all'\n",
    "\n",
    "n_hidden = 128\n",
    "f_trans = 0\n",
    "p_rotate = 0\n",
    "n_layer = 6"
   ]
  },
  {
   "cell_type": "code",
   "execution_count": 3,
   "id": "73728665-3580-4054-a67e-c558998b402f",
   "metadata": {},
   "outputs": [
    {
     "name": "stdout",
     "output_type": "stream",
     "text": [
      "total volumes:236800\n",
      "total volumes:12800\n"
     ]
    }
   ],
   "source": [
    "# loading the data\n",
    "train_data = neuron_data_pytorch(train_path, batch_sz=batch_size, shuffle=True, rotate=True, mode=data_mode)\n",
    "dev_data = neuron_data_pytorch(eval_path, batch_sz=batch_size, shuffle=False, rotate=True, mode=data_mode)\n"
   ]
  },
  {
   "cell_type": "code",
   "execution_count": 4,
   "id": "ad9d8205-bd1f-41a6-b24c-df30a6647184",
   "metadata": {},
   "outputs": [],
   "source": [
    "train_data_loader = DataLoader(train_data, shuffle=False, num_workers=1, collate_fn=train_data.custom_collate_fn)\n",
    "dev_data_loader = DataLoader(dev_data, shuffle=False, num_workers=1, collate_fn=dev_data.custom_collate_fn)"
   ]
  },
  {
   "cell_type": "code",
   "execution_count": 130,
   "id": "de187559-81f7-41a2-b254-467ce4666d48",
   "metadata": {},
   "outputs": [],
   "source": [
    "# Get the first set of data\n",
    "for data_batch in dev_data_loader:\n",
    "    # print(t)\n",
    "    pt_batch = data_batch['pt_batch']\n",
    "    match_dict = data_batch['match_dict']\n",
    "    ref_idx=data_batch['ref_i']\n",
    "    \n",
    "    # batch_loss, out = model(pt_batch, match_dict=match_dict, ref_idx=ref_idx , mode='eval')\n",
    "    break\n"
   ]
  },
  {
   "cell_type": "code",
   "execution_count": 124,
   "id": "b3e88733-c0d6-4273-b652-c4169a9163ee",
   "metadata": {},
   "outputs": [],
   "source": [
    "# The input isn't words, but actually locations, so use a custom encoder that can deal with that\n",
    "# From: https://github.com/pytorch/examples/blob/master/word_language_model/model.py\n",
    "\n",
    "class TransformerModel(nn.Module):\n",
    "\n",
    "    def __init__(self, n_dim_input, ntoken, ninp, nhead=8, nhid=128, nlayers=6, dropout=0.5, device=None):\n",
    "        super(TransformerModel, self).__init__()\n",
    "        try:\n",
    "            from torch.nn import TransformerEncoder, TransformerEncoderLayer\n",
    "        except:\n",
    "            raise ImportError('TransformerEncoder module does not exist in PyTorch 1.1 or lower.')\n",
    "        self.model_type = 'Transformer'\n",
    "        # self.length_to_pad = ntoken\n",
    "        self.src_mask = None\n",
    "        encoder_layers = TransformerEncoderLayer(ninp, nhead, nhid, dropout)\n",
    "        self.transformer_encoder = TransformerEncoder(encoder_layers, nlayers)\n",
    "        self.encoder = nn.Linear(n_dim_input, ninp)\n",
    "        self.ninp = ninp\n",
    "        self.decoder = nn.Linear(ninp, ntoken) # Decode into categorical\n",
    "        if device is None:\n",
    "            self.device = \"cuda:0\" if torch.cuda.is_available() else \"cpu\"\n",
    "\n",
    "        self.init_weights()\n",
    "\n",
    "    def _generate_square_subsequent_mask(self, sz):\n",
    "        mask = (torch.triu(torch.ones(sz, sz)) == 1).transpose(0, 1)\n",
    "        mask = mask.float().masked_fill(mask == 0, float('-inf')).masked_fill(mask == 1, float(0.0))\n",
    "        return mask\n",
    "\n",
    "    def init_weights(self):\n",
    "        initrange = 0.1\n",
    "        nn.init.uniform_(self.encoder.weight, -initrange, initrange)\n",
    "        nn.init.zeros_(self.decoder.weight)\n",
    "        nn.init.uniform_(self.decoder.weight, -initrange, initrange)\n",
    "\n",
    "    def forward(self, src, has_mask=True):\n",
    "        if has_mask:\n",
    "            device = src.device\n",
    "            if self.src_mask is None or self.src_mask.size(0) != len(src):\n",
    "                mask = self._generate_square_subsequent_mask(len(src)).to(device)\n",
    "                self.src_mask = mask\n",
    "        else:\n",
    "            self.src_mask = None\n",
    "            \n",
    "        # src = self.pad_to_target_length(src)\n",
    "\n",
    "        src = self.encoder(src) * math.sqrt(self.ninp)\n",
    "        output = self.transformer_encoder(src, self.src_mask)\n",
    "        output = self.decoder(output)\n",
    "        return F.log_softmax(output, dim=-1)\n",
    "    \n",
    "    def pad_to_target_length(self, pts, pad_pt=None):\n",
    "        if pad_pt is None:\n",
    "            pad_pt = [0, 0, 0]\n",
    "        list_of_padded_pts = []\n",
    "        for s in pts:\n",
    "            length_difference = self.length_to_pad - len(s)\n",
    "            if length_difference > 0:\n",
    "                padded = [pad_pt] * length_difference\n",
    "                s = torch.tensor(torch.cat([s, torch.tensor(padded)]))\n",
    "            elif length_difference < 0:\n",
    "                s = s[:length_difference]\n",
    "            list_of_padded_pts.append(s)\n",
    "            # padded[:len(s)] = s\n",
    "            # padding_var.append(padded)\n",
    "        # output_tensor = list_of_padded_pts\n",
    "        # output_tensor = torch.tensor(list_of_padded_pts, dtype=torch.float, device=self.device)\n",
    "        output_tensor = torch.cat(list_of_padded_pts)\n",
    "        return output_tensor  # torch.t(sents_var)"
   ]
  },
  {
   "cell_type": "code",
   "execution_count": 125,
   "id": "c26a0fa8-bb3a-4374-aa5a-6653f972dd6c",
   "metadata": {},
   "outputs": [],
   "source": [
    "n_dim_input, ntoken, ninp = 3, 150, 128\n",
    "model = TransformerModel(n_dim_input, ntoken, ninp)"
   ]
  },
  {
   "cell_type": "code",
   "execution_count": 126,
   "id": "46b0401b-938c-47aa-bd1c-dbefec50535a",
   "metadata": {},
   "outputs": [],
   "source": [
    "dat = torch.unsqueeze(torch.from_numpy(pt_batch[0]), dim=0).float()\n",
    "out = model(dat)"
   ]
  },
  {
   "cell_type": "code",
   "execution_count": 127,
   "id": "f4d4f3f1-56a7-482e-981d-ffd3f6af9a3e",
   "metadata": {},
   "outputs": [
    {
     "data": {
      "text/plain": [
       "(torch.Size([1, 107, 3]), torch.Size([1, 107, 150]))"
      ]
     },
     "execution_count": 127,
     "metadata": {},
     "output_type": "execute_result"
    }
   ],
   "source": [
    "dat.shape, out.shape"
   ]
  },
  {
   "cell_type": "code",
   "execution_count": 129,
   "id": "ef82ef4b-1868-4155-a66b-099971e64402",
   "metadata": {},
   "outputs": [
    {
     "data": {
      "text/plain": [
       "Text(0.5, 1.0, 'Untrained encoding for neuron 1')"
      ]
     },
     "execution_count": 129,
     "metadata": {},
     "output_type": "execute_result"
    },
    {
     "data": {
      "image/png": "[encoded data removed]",
      "text/plain": [
       "<Figure size 432x288 with 1 Axes>"
      ]
     },
     "metadata": {
      "needs_background": "light"
     },
     "output_type": "display_data"
    }
   ],
   "source": [
    "i_neuron = 1\n",
    "plt.plot(np.squeeze(out[:, i_neuron, :].detach().numpy()));\n",
    "plt.title(f\"Untrained encoding for neuron {i_neuron}\")"
   ]
  },
  {
   "cell_type": "markdown",
   "id": "cad97d58-db3e-4a3f-af29-b31943ea553c",
   "metadata": {},
   "source": [
    "# Use the match_dict to create the target one-hot encoded embedding"
   ]
  },
  {
   "cell_type": "code",
   "execution_count": 165,
   "id": "14d3e675-8eba-49f5-a50d-d3cd30c1f867",
   "metadata": {},
   "outputs": [],
   "source": [
    "\n",
    "target_labels = F.one_hot(torch.from_numpy(match_dict[1][:, 1]), num_classes=ntoken)"
   ]
  },
  {
   "cell_type": "code",
   "execution_count": 202,
   "id": "6630961e-31ee-4eaf-9ad3-c5ed780cdfe5",
   "metadata": {},
   "outputs": [
    {
     "data": {
      "text/plain": [
       "torch.Size([64, 150, 150])"
      ]
     },
     "execution_count": 202,
     "metadata": {},
     "output_type": "execute_result"
    }
   ],
   "source": [
    "all_matches = []\n",
    "all_valid_inds = []\n",
    "for k, v in match_dict.items():\n",
    "    if not isinstance(k, int):\n",
    "        continue\n",
    "    # if 'outlier' in k or 'unlabel' in k:\n",
    "    #     continue\n",
    "    num_to_pad = ntoken - len(v[:, 1])\n",
    "    all_matches.append(np.pad(v[:, 1], (0, num_to_pad)))\n",
    "    all_valid_inds.append(v[:, 0])\n",
    "all_matches = np.stack(all_matches)\n",
    "\n",
    "target_labels = F.one_hot(torch.from_numpy(all_matches), num_classes=ntoken)\n",
    "target_labels.shape"
   ]
  },
  {
   "cell_type": "code",
   "execution_count": 145,
   "id": "fdac13ff-c3b0-4a75-a2ba-b801ea7f6245",
   "metadata": {},
   "outputs": [],
   "source": [
    "dat = torch.unsqueeze(torch.from_numpy(pt_batch[1]), dim=0).float()\n",
    "out = model(dat)"
   ]
  },
  {
   "cell_type": "markdown",
   "id": "a785a5e2-a806-4c38-84d3-5d73cb5e9cf5",
   "metadata": {},
   "source": [
    "# Lightning version"
   ]
  },
  {
   "cell_type": "code",
   "execution_count": 30,
   "id": "c73c1e17-4a47-497c-95f2-b088391984c9",
   "metadata": {},
   "outputs": [],
   "source": [
    "import os\n",
    "\n",
    "import torch\n",
    "from pytorch_lightning import LightningModule, Trainer\n",
    "from torch import nn\n",
    "from torch.nn import functional as F\n",
    "from torch.utils.data import DataLoader, random_split\n",
    "from torchmetrics import Accuracy\n",
    "from torchvision import transforms\n",
    "from torchvision.datasets import MNIST\n",
    "\n",
    "# The input isn't words, but actually locations, so use a custom encoder that can deal with that\n",
    "# From: https://github.com/pytorch/examples/blob/master/word_language_model/model.py\n",
    "\n",
    "class LightningTransformerModel(LightningModule):\n",
    "\n",
    "    def __init__(self, n_dim_input, ntoken, ninp, nhead=8, nhid=128, nlayers=6, dropout=0.5, device=None, \n",
    "                 learning_rate=2e-4):\n",
    "        super(LightningTransformerModel, self).__init__()\n",
    "        try:\n",
    "            from torch.nn import TransformerEncoder, TransformerEncoderLayer\n",
    "        except:\n",
    "            raise ImportError('TransformerEncoder module does not exist in PyTorch 1.1 or lower.')\n",
    "        self.model_type = 'Transformer'\n",
    "        self.learning_rate = learning_rate\n",
    "        self.src_mask = None\n",
    "        encoder_layers = TransformerEncoderLayer(ninp, nhead, nhid, dropout)\n",
    "        self.transformer_encoder = TransformerEncoder(encoder_layers, nlayers)\n",
    "        self.encoder = nn.Linear(n_dim_input, ninp)\n",
    "        self.ninp = ninp\n",
    "        self.ntoken = ntoken\n",
    "        self.decoder = nn.Linear(ninp, ntoken) # Decode into categorical\n",
    "        # if device is None:\n",
    "        #     self.device = \"cuda:0\" if torch.cuda.is_available() else \"cpu\"\n",
    "\n",
    "        self.init_weights()\n",
    "        \n",
    "        self.criterion = nn.BCELoss()\n",
    "\n",
    "    def _generate_square_subsequent_mask(self, sz):\n",
    "        mask = (torch.triu(torch.ones(sz, sz)) == 1).transpose(0, 1)\n",
    "        mask = mask.float().masked_fill(mask == 0, float('-inf')).masked_fill(mask == 1, float(0.0))\n",
    "        return mask\n",
    "\n",
    "    def init_weights(self):\n",
    "        initrange = 0.1\n",
    "        nn.init.uniform_(self.encoder.weight, -initrange, initrange)\n",
    "        nn.init.zeros_(self.decoder.weight)\n",
    "        nn.init.uniform_(self.decoder.weight, -initrange, initrange)\n",
    "\n",
    "    def forward(self, src, has_mask=False):\n",
    "        if has_mask:\n",
    "            device = src.device\n",
    "            if self.src_mask is None or self.src_mask.size(0) != len(src):\n",
    "                mask = self._generate_square_subsequent_mask(len(src)).to(device)\n",
    "                self.src_mask = mask\n",
    "        else:\n",
    "            self.src_mask = None\n",
    "            \n",
    "        src = self.encoder(src) * math.sqrt(self.ninp)\n",
    "        output = self.transformer_encoder(src, self.src_mask)\n",
    "        output = self.decoder(output)\n",
    "        # return F.log_softmax(output, dim=-1)\n",
    "        return F.softmax(output, dim=-1)\n",
    "\n",
    "    def training_step(self, batch, batch_idx):\n",
    "        loss, _ = self._calc_loss(batch)\n",
    "        self.log(\"my_loss\", loss)\n",
    "        return loss\n",
    "\n",
    "    def validation_step(self, batch, batch_idx):\n",
    "        loss, predictions = self._calc_loss(batch)\n",
    "        # preds = torch.argmax(predictions, dim=1)\n",
    "        # self.accuracy(preds, y)\n",
    "\n",
    "        # Calling self.log will surface up scalars for you in TensorBoard\n",
    "        self.log(\"val_loss\", loss, prog_bar=True)\n",
    "        # self.log(\"val_acc\", self.accuracy, prog_bar=True)\n",
    "        return loss\n",
    "\n",
    "    def test_step(self, batch, batch_idx):\n",
    "        # Here we just reuse the validation_step for testing\n",
    "        return self.validation_step(batch, batch_idx)\n",
    "\n",
    "    def configure_optimizers(self):\n",
    "        optimizer = torch.optim.Adam(self.parameters(), lr=self.learning_rate)\n",
    "        return optimizer\n",
    "    \n",
    "    def _calc_loss(self, batch):\n",
    "        x, y = self._unpack_batch_and_pad(batch)\n",
    "        predictions = self(x)\n",
    "        loss = self.criterion(predictions, y)\n",
    "        return loss, predictions\n",
    "    \n",
    "    def _unpack_batch_and_pad(self, batch, to_pad=True):\n",
    "        all_short_x = batch['pt_batch']\n",
    "        x = []\n",
    "        for short_x in all_short_x:\n",
    "            if to_pad:\n",
    "                num_to_pad = self.ntoken - len(short_x)\n",
    "                short_x = torch.unsqueeze(torch.from_numpy(np.pad(short_x, ((0, num_to_pad), (0, 0)))), dim=0).float()\n",
    "            else:\n",
    "                short_x = torch.from_numpy(short_x).float()\n",
    "            x.append(short_x)\n",
    "        x = torch.cat(x)\n",
    "        match_dict = batch['match_dict']\n",
    "        y = self._convert_all_matches_to_one_hot(match_dict, to_pad)\n",
    "        # ref_idx=batch['ref_i']\n",
    "        return x.to(self.device), y.to(self.device)\n",
    "    \n",
    "    def _convert_matches_to_one_hot(self, match_dict, i, to_pad):\n",
    "        # match_dict may not be in monotonic order, or may skip some\n",
    "        # For now, always pad\n",
    "        target_labels = torch.zeros((self.ntoken, self.ntoken))\n",
    "        for this_ind, ref_ind in match_dict[i]:\n",
    "            target_labels[this_ind, :] = F.one_hot(torch.tensor(ref_ind), num_classes=self.ntoken)\n",
    "        # these_vals = match_dict[i][:, 1]\n",
    "        # these_ind = match_dict[i][:, 0]\n",
    "        # if to_pad:\n",
    "        #     num_to_pad = ntoken - len(these_vals)\n",
    "        #     these_vals = np.pad(these_vals, (0, num_to_pad))\n",
    "        # target_labels = F.one_hot(torch.from_numpy(these_vals), num_classes=self.ntoken)\n",
    "        return target_labels\n",
    "    \n",
    "    def _convert_all_matches_to_one_hot(self, match_dict, to_pad):\n",
    "        target_labels = []\n",
    "        # target_labels = torch.zeros((1, ))\n",
    "        for batch_key, _ in match_dict.items():\n",
    "            if not isinstance(batch_key, int):\n",
    "                continue\n",
    "            if to_pad:\n",
    "                target_labels.append(torch.unsqueeze(self._convert_matches_to_one_hot(match_dict, batch_key, to_pad=to_pad), dim=0).float())\n",
    "            else:\n",
    "                target_labels.append(self._convert_matches_to_one_hot(match_dict, batch_key, to_pad=to_pad).float())\n",
    "        return torch.cat(target_labels)\n",
    "    \n",
    "    def _get_valid_ind(self, match_dict):\n",
    "        valid_ind = []\n",
    "        for k, v in match_dict.items():\n",
    "            if not isinstance(k, int):\n",
    "                continue\n",
    "            valid_ind.append(torch.from_numpy(v[:, 0]))\n",
    "        return valid_ind\n",
    "\n",
    "    ####################\n",
    "    # DATA RELATED HOOKS\n",
    "    ####################\n",
    "\n",
    "    def prepare_data(self):\n",
    "        DATA_PATH=\"/home/charles/Current_work/repos/fDNC_Neuron_ID/Data\"\n",
    "        train_path = f\"{DATA_PATH}/train_synthetic\" \n",
    "        eval_path = f\"{DATA_PATH}/validation_synthetic\"\n",
    "        \n",
    "        # loading the data\n",
    "        self.train_data = neuron_data_pytorch(train_path, batch_sz=batch_size, shuffle=True, rotate=True, mode=data_mode)\n",
    "        self.dev_data = neuron_data_pytorch(eval_path, batch_sz=batch_size, shuffle=False, rotate=True, mode=data_mode)\n",
    "\n",
    "\n",
    "#     def setup(self, stage=None):\n",
    "\n",
    "#         # Assign train/val datasets for use in dataloaders\n",
    "#         if stage == \"fit\" or stage is None:\n",
    "#             mnist_full = MNIST(self.data_dir, train=True, transform=self.transform)\n",
    "#             self.mnist_train, self.mnist_val = random_split(mnist_full, [55000, 5000])\n",
    "\n",
    "#         # Assign test dataset for use in dataloader(s)\n",
    "#         if stage == \"test\" or stage is None:\n",
    "#             self.mnist_test = MNIST(self.data_dir, train=False, transform=self.transform)\n",
    "\n",
    "    def train_dataloader(self):\n",
    "        return DataLoader(self.train_data, shuffle=False, num_workers=1, collate_fn=self.train_data.custom_collate_fn)\n",
    "\n",
    "    def val_dataloader(self):\n",
    "        return DataLoader(self.dev_data, shuffle=False, num_workers=1, collate_fn=self.dev_data.custom_collate_fn)\n",
    "\n",
    "    # def test_dataloader(self):\n",
    "    #     return DataLoader(self.mnist_test, batch_size=BATCH_SIZE)"
   ]
  },
  {
   "cell_type": "code",
   "execution_count": 31,
   "id": "49665773-2eb1-4883-be0e-a381446d96f4",
   "metadata": {},
   "outputs": [
    {
     "name": "stderr",
     "output_type": "stream",
     "text": [
      "GPU available: True, used: True\n",
      "TPU available: False, using: 0 TPU cores\n",
      "IPU available: False, using: 0 IPUs\n"
     ]
    }
   ],
   "source": [
    "n_dim_input, ntoken, ninp = 3, 180, 128\n",
    "\n",
    "model = LightningTransformerModel(n_dim_input, ntoken, ninp)\n",
    "\n",
    "\n",
    "AVAIL_GPUS = min(1, torch.cuda.device_count())\n",
    "\n",
    "trainer = Trainer(\n",
    "    gpus=AVAIL_GPUS,\n",
    "    max_epochs=100,\n",
    "    progress_bar_refresh_rate=100,\n",
    ")"
   ]
  },
  {
   "cell_type": "code",
   "execution_count": 32,
   "id": "1dca3d94-79ce-4db2-af01-5c34be3a6e62",
   "metadata": {},
   "outputs": [],
   "source": [
    "# model.prepare_data()\n",
    "# for batch in model.train_dataloader():\n",
    "#     model.validation_step(batch, 0)\n",
    "#     break"
   ]
  },
  {
   "cell_type": "code",
   "execution_count": 33,
   "id": "f6b648b1-e3ea-47a3-992d-0ae72f2ac70b",
   "metadata": {
    "tags": []
   },
   "outputs": [
    {
     "name": "stderr",
     "output_type": "stream",
     "text": [
      "LOCAL_RANK: 0 - CUDA_VISIBLE_DEVICES: [0]\n",
      "\n",
      "  | Name                | Type               | Params\n",
      "-----------------------------------------------------------\n",
      "0 | transformer_encoder | TransformerEncoder | 597 K \n",
      "1 | encoder             | Linear             | 512   \n",
      "2 | decoder             | Linear             | 23.2 K\n",
      "3 | criterion           | BCELoss            | 0     \n",
      "-----------------------------------------------------------\n",
      "621 K     Trainable params\n",
      "0         Non-trainable params\n",
      "621 K     Total params\n",
      "2.485     Total estimated model params size (MB)\n"
     ]
    },
    {
     "name": "stdout",
     "output_type": "stream",
     "text": [
      "total volumes:236800\n",
      "total volumes:12800\n"
     ]
    },
    {
     "data": {
      "application/vnd.jupyter.widget-view+json": {
       "model_id": "",
       "version_major": 2,
       "version_minor": 0
      },
      "text/plain": [
       "Validation sanity check: 0it [00:00, ?it/s]"
      ]
     },
     "metadata": {},
     "output_type": "display_data"
    },
    {
     "name": "stderr",
     "output_type": "stream",
     "text": [
      "/home/charles/anaconda3/envs/torch/lib/python3.7/site-packages/pytorch_lightning/trainer/data_loading.py:117: UserWarning: The dataloader, train_dataloader, does not have many workers which may be a bottleneck. Consider increasing the value of the `num_workers` argument` (try 56 which is the number of cpus on this machine) in the `DataLoader` init to improve performance.\n",
      "  f\"The dataloader, {name}, does not have many workers which may be a bottleneck.\"\n"
     ]
    },
    {
     "data": {
      "application/vnd.jupyter.widget-view+json": {
       "model_id": "f62452856126448cac284dca34d7953b",
       "version_major": 2,
       "version_minor": 0
      },
      "text/plain": [
       "Training: 0it [00:00, ?it/s]"
      ]
     },
     "metadata": {},
     "output_type": "display_data"
    },
    {
     "data": {
      "application/vnd.jupyter.widget-view+json": {
       "model_id": "",
       "version_major": 2,
       "version_minor": 0
      },
      "text/plain": [
       "Validating: 0it [00:00, ?it/s]"
      ]
     },
     "metadata": {},
     "output_type": "display_data"
    },
    {
     "data": {
      "application/vnd.jupyter.widget-view+json": {
       "model_id": "",
       "version_major": 2,
       "version_minor": 0
      },
      "text/plain": [
       "Validating: 0it [00:00, ?it/s]"
      ]
     },
     "metadata": {},
     "output_type": "display_data"
    },
    {
     "data": {
      "application/vnd.jupyter.widget-view+json": {
       "model_id": "",
       "version_major": 2,
       "version_minor": 0
      },
      "text/plain": [
       "Validating: 0it [00:00, ?it/s]"
      ]
     },
     "metadata": {},
     "output_type": "display_data"
    },
    {
     "data": {
      "application/vnd.jupyter.widget-view+json": {
       "model_id": "",
       "version_major": 2,
       "version_minor": 0
      },
      "text/plain": [
       "Validating: 0it [00:00, ?it/s]"
      ]
     },
     "metadata": {},
     "output_type": "display_data"
    },
    {
     "data": {
      "application/vnd.jupyter.widget-view+json": {
       "model_id": "",
       "version_major": 2,
       "version_minor": 0
      },
      "text/plain": [
       "Validating: 0it [00:00, ?it/s]"
      ]
     },
     "metadata": {},
     "output_type": "display_data"
    },
    {
     "data": {
      "application/vnd.jupyter.widget-view+json": {
       "model_id": "",
       "version_major": 2,
       "version_minor": 0
      },
      "text/plain": [
       "Validating: 0it [00:00, ?it/s]"
      ]
     },
     "metadata": {},
     "output_type": "display_data"
    },
    {
     "data": {
      "application/vnd.jupyter.widget-view+json": {
       "model_id": "",
       "version_major": 2,
       "version_minor": 0
      },
      "text/plain": [
       "Validating: 0it [00:00, ?it/s]"
      ]
     },
     "metadata": {},
     "output_type": "display_data"
    },
    {
     "name": "stderr",
     "output_type": "stream",
     "text": [
      "/home/charles/anaconda3/envs/torch/lib/python3.7/site-packages/pytorch_lightning/trainer/trainer.py:685: UserWarning: Detected KeyboardInterrupt, attempting graceful shutdown...\n",
      "  rank_zero_warn(\"Detected KeyboardInterrupt, attempting graceful shutdown...\")\n",
      "Process Process-220:\n",
      "Process Process-205:\n",
      "Traceback (most recent call last):\n",
      "Traceback (most recent call last):\n",
      "  File \"/home/charles/anaconda3/envs/torch/lib/python3.7/multiprocessing/process.py\", line 300, in _bootstrap\n",
      "    util._exit_function()\n",
      "  File \"/home/charles/anaconda3/envs/torch/lib/python3.7/multiprocessing/process.py\", line 300, in _bootstrap\n",
      "    util._exit_function()\n",
      "  File \"/home/charles/anaconda3/envs/torch/lib/python3.7/multiprocessing/util.py\", line 360, in _exit_function\n",
      "    _run_finalizers()\n",
      "  File \"/home/charles/anaconda3/envs/torch/lib/python3.7/multiprocessing/util.py\", line 360, in _exit_function\n",
      "    _run_finalizers()\n",
      "  File \"/home/charles/anaconda3/envs/torch/lib/python3.7/multiprocessing/util.py\", line 300, in _run_finalizers\n",
      "    finalizer()\n",
      "  File \"/home/charles/anaconda3/envs/torch/lib/python3.7/multiprocessing/util.py\", line 300, in _run_finalizers\n",
      "    finalizer()\n",
      "  File \"/home/charles/anaconda3/envs/torch/lib/python3.7/multiprocessing/util.py\", line 224, in __call__\n",
      "    res = self._callback(*self._args, **self._kwargs)\n",
      "  File \"/home/charles/anaconda3/envs/torch/lib/python3.7/multiprocessing/util.py\", line 224, in __call__\n",
      "    res = self._callback(*self._args, **self._kwargs)\n",
      "  File \"/home/charles/anaconda3/envs/torch/lib/python3.7/multiprocessing/queues.py\", line 192, in _finalize_join\n",
      "    thread.join()\n",
      "  File \"/home/charles/anaconda3/envs/torch/lib/python3.7/multiprocessing/queues.py\", line 192, in _finalize_join\n",
      "    thread.join()\n",
      "  File \"/home/charles/anaconda3/envs/torch/lib/python3.7/threading.py\", line 1044, in join\n",
      "    self._wait_for_tstate_lock()\n",
      "  File \"/home/charles/anaconda3/envs/torch/lib/python3.7/threading.py\", line 1044, in join\n",
      "    self._wait_for_tstate_lock()\n",
      "  File \"/home/charles/anaconda3/envs/torch/lib/python3.7/threading.py\", line 1060, in _wait_for_tstate_lock\n",
      "    elif lock.acquire(block, timeout):\n",
      "  File \"/home/charles/anaconda3/envs/torch/lib/python3.7/threading.py\", line 1060, in _wait_for_tstate_lock\n",
      "    elif lock.acquire(block, timeout):\n",
      "KeyboardInterrupt\n",
      "KeyboardInterrupt\n"
     ]
    }
   ],
   "source": [
    "trainer.fit(model)"
   ]
  },
  {
   "cell_type": "markdown",
   "id": "883e713c-36b9-4337-ad11-d7aa9ca2f6b4",
   "metadata": {},
   "source": [
    "# Look at some encodings"
   ]
  },
  {
   "cell_type": "code",
   "execution_count": 8,
   "id": "b59191b8-3d58-49a9-b311-77ce966574e4",
   "metadata": {},
   "outputs": [],
   "source": [
    "dev_data_loader = model.train_dataloader()"
   ]
  },
  {
   "cell_type": "code",
   "execution_count": 9,
   "id": "ed9c82cd-d7eb-4d50-9d8f-a06cc8f743be",
   "metadata": {},
   "outputs": [],
   "source": [
    "# Get the first set of data\n",
    "for data_batch in dev_data_loader:\n",
    "    # print(t)\n",
    "    pt_batch = data_batch['pt_batch']\n",
    "    match_dict = data_batch['match_dict']\n",
    "    ref_idx=data_batch['ref_i']\n",
    "    \n",
    "    # batch_loss, out = model(pt_batch, match_dict=match_dict, ref_idx=ref_idx , mode='eval')\n",
    "    break\n"
   ]
  },
  {
   "cell_type": "code",
   "execution_count": 20,
   "id": "60f3ede0-9eb8-42ad-820f-bb21fd7bf673",
   "metadata": {},
   "outputs": [
    {
     "data": {
      "text/plain": [
       "torch.Size([64, 180, 180])"
      ]
     },
     "execution_count": 20,
     "metadata": {},
     "output_type": "execute_result"
    }
   ],
   "source": [
    "out = model._convert_all_matches_to_one_hot(match_dict, to_pad=True)\n",
    "out.shape"
   ]
  },
  {
   "cell_type": "code",
   "execution_count": 10,
   "id": "d3559ed3-5742-4d1f-b619-da701d157eeb",
   "metadata": {},
   "outputs": [],
   "source": [
    "dat = torch.unsqueeze(torch.from_numpy(pt_batch[0]), dim=0).float()\n",
    "out = model(dat)"
   ]
  },
  {
   "cell_type": "code",
   "execution_count": 11,
   "id": "102f14d7-deeb-48a9-b721-abd3bbcc8f8d",
   "metadata": {},
   "outputs": [
    {
     "data": {
      "text/plain": [
       "(torch.Size([1, 106, 3]), torch.Size([1, 106, 180]))"
      ]
     },
     "execution_count": 11,
     "metadata": {},
     "output_type": "execute_result"
    }
   ],
   "source": [
    "dat.shape, out.shape"
   ]
  },
  {
   "cell_type": "code",
   "execution_count": 12,
   "id": "7ad3b55a-1cd4-4c7a-a59f-8b303feea3a9",
   "metadata": {},
   "outputs": [
    {
     "data": {
      "text/plain": [
       "Text(0.5, 1.0, 'Untrained encoding for neuron 1')"
      ]
     },
     "execution_count": 12,
     "metadata": {},
     "output_type": "execute_result"
    },
    {
     "data": {
      "image/png": "[encoded data removed]",
      "text/plain": [
       "<Figure size 432x288 with 1 Axes>"
      ]
     },
     "metadata": {
      "needs_background": "light"
     },
     "output_type": "display_data"
    }
   ],
   "source": [
    "i_neuron = 1\n",
    "plt.plot(np.squeeze(out[:, i_neuron, :].detach().numpy()));\n",
    "plt.title(f\"Untrained encoding for neuron {i_neuron}\")"
   ]
  },
  {
   "cell_type": "code",
   "execution_count": 17,
   "id": "43502cc5-4d1b-4236-b8b1-f70cf35742f1",
   "metadata": {},
   "outputs": [
    {
     "data": {
      "text/plain": [
       "Text(0.5, 1.0, 'Untrained encoding for neuron 100')"
      ]
     },
     "execution_count": 17,
     "metadata": {},
     "output_type": "execute_result"
    },
    {
     "data": {
      "image/png": "[encoded data removed]",
      "text/plain": [
       "<Figure size 432x288 with 1 Axes>"
      ]
     },
     "metadata": {
      "needs_background": "light"
     },
     "output_type": "display_data"
    }
   ],
   "source": [
    "i_neuron = 100\n",
    "plt.plot(np.squeeze(out[:, i_neuron, :].detach().numpy()));\n",
    "plt.title(f\"Untrained encoding for neuron {i_neuron}\")"
   ]
  },
  {
   "cell_type": "code",
   "execution_count": null,
   "id": "d3468404-e361-48cd-b7bb-ff0dee2d1fc6",
   "metadata": {},
   "outputs": [],
   "source": []
  }
 ],
 "metadata": {
  "kernelspec": {
   "display_name": "Python 3 (ipykernel)",
   "language": "python",
   "name": "python3"
  },
  "language_info": {
   "codemirror_mode": {
    "name": "ipython",
    "version": 3
   },
   "file_extension": ".py",
   "mimetype": "text/x-python",
   "name": "python",
   "nbconvert_exporter": "python",
   "pygments_lexer": "ipython3",
   "version": "3.7.11"
  }
 },
 "nbformat": 4,
 "nbformat_minor": 5
}
