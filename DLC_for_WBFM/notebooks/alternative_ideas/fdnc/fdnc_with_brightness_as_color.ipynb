{
 "cells": [
  {
   "cell_type": "code",
   "execution_count": 21,
   "id": "cd7af76b",
   "metadata": {},
   "outputs": [
    {
     "name": "stdout",
     "output_type": "stream",
     "text": [
      "The autoreload extension is already loaded. To reload it, use:\n",
      "  %reload_ext autoreload\n"
     ]
    }
   ],
   "source": [
    "%load_ext autoreload\n",
    "%autoreload 2\n",
    "import matplotlib.pyplot as plt\n",
    "from wbfm.utils.xinwei_fdnc.formatting import zimmer2leifer\n",
    "from wbfm.utils.xinwei_fdnc.predict import load_fdnc_options_and_template, track_using_fdnc\n",
    "import numpy as np\n",
    "import pandas as pd\n",
    "from collections import defaultdict\n",
    "from tqdm.auto import tqdm\n",
    "import os\n",
    "from wbfm.utils.xinwei_fdnc.formatting import flatten_nested_list\n",
    "\n",
    "from fDNC.src.DNC_predict import pre_matt, predict_matches, filter_matches\n",
    "from wbfm.utils.projects.utils_neuron_names import int2name"
   ]
  },
  {
   "cell_type": "code",
   "execution_count": 22,
   "id": "f242fb7c",
   "metadata": {},
   "outputs": [
    {
     "name": "stdout",
     "output_type": "stream",
     "text": [
      "=======================================\n",
      "Project data for directory:\n",
      "/scratch/zimmer/Charles/dlc_stacks/worm3-multiple_templates \n",
      "=======================================\n",
      "Found the following raw data files:\n",
      "red_data: True\n",
      "green_data: True\n",
      "============Segmentation===============\n",
      "raw_segmentation: True\n",
      "segmentation: True\n",
      "============Tracklets==================\n",
      "df_training_tracklets: True\n",
      "reindexed_masks_training: True\n",
      "============Traces=====================\n",
      "red_traces: True\n",
      "green_traces: True\n",
      "final_tracks: True\n",
      "behavior_annotations: True\n",
      "\n"
     ]
    }
   ],
   "source": [
    "from wbfm.utils.projects.finished_project_data import ProjectData\n",
    "fname = \"/scratch/zimmer/Charles/dlc_stacks/worm3-multiple_templates/project_config.yaml\"\n",
    "# fname = \"/scratch/zimmer/Charles/dlc_stacks/project-pytest/project_config.yaml\"\n",
    "project_data = ProjectData.load_final_project_data_from_config(fname)"
   ]
  },
  {
   "cell_type": "code",
   "execution_count": 23,
   "id": "c91f028d",
   "metadata": {},
   "outputs": [],
   "source": [
    "default_package_path = \"/scratch/zimmer/Charles/github_repos/fDNC_Neuron_ID\"\n",
    "\n",
    "def __load_fdnc_template():\n",
    "    temp_fname = os.path.join(default_package_path, 'Data', 'Example', 'template.data')\n",
    "    temp = pre_matt(temp_fname)\n",
    "    return temp"
   ]
  },
  {
   "cell_type": "code",
   "execution_count": 24,
   "id": "2238e117",
   "metadata": {},
   "outputs": [],
   "source": [
    "# plt.plot(template['color'])"
   ]
  },
  {
   "cell_type": "code",
   "execution_count": 25,
   "id": "90356161",
   "metadata": {},
   "outputs": [],
   "source": [
    "# project_data.reindexed_metadata_training.get_normalized_intensity(0).to_numpy().astype(float)"
   ]
  },
  {
   "cell_type": "code",
   "execution_count": 26,
   "id": "77f96012",
   "metadata": {},
   "outputs": [],
   "source": [
    "def get_colors_and_scale(i):\n",
    "    colors = project_data.reindexed_metadata_training.get_normalized_intensity(i, is_relative_index=True).to_numpy().astype(float)\n",
    "    # Heuristic\n",
    "    colors *= 255.0 / 50000\n",
    "    # Take this to be just the red channel of a nominally multicolor feature\n",
    "    num_neurons = colors.shape[0]\n",
    "    final_colors = np.zeros((num_neurons, 4))\n",
    "    final_colors[:, 0] = colors\n",
    "    return final_colors    \n",
    "    \n",
    "\n",
    "def track_using_fdnc_ONLY_TRAINING(project_data: ProjectData,\n",
    "                                   template_pos,\n",
    "                                   template_color,\n",
    "                                   prediction_options,\n",
    "                                   match_confidence_threshold,\n",
    "                                   num_frames):\n",
    "    # Loop through detections and match all to template\n",
    "\n",
    "    # Initialize\n",
    "#     num_frames = project_dat.num_frames - 1\n",
    "    coords = ['z', 'x', 'y', 'likelihood']\n",
    "\n",
    "    sz = (num_frames, len(coords))\n",
    "    neuron_arrays = defaultdict(lambda: np.zeros(sz))\n",
    "    all_matches = []\n",
    "    for i_frame in tqdm(range(num_frames), total=num_frames, leave=False):\n",
    "\n",
    "        pts = project_data.get_centroids_as_numpy_training(i_frame)\n",
    "        pts_scaled = zimmer2leifer(pts)\n",
    "        pts_color = get_colors_and_scale(i_frame)\n",
    "        # Match\n",
    "        _, matches = predict_matches(test_pos=pts_scaled, test_color=pts_color,\n",
    "                                  template_pos=template_pos, temp_color=template_color,\n",
    "                                  **prediction_options)\n",
    "        matches = flatten_nested_list(matches)\n",
    "        matches = filter_matches(matches, match_confidence_threshold)\n",
    "\n",
    "        # For each match, save location\n",
    "        for m in matches:\n",
    "            this_unscaled_pt = pts[m[1]]\n",
    "            this_template_idx = m[0]\n",
    "\n",
    "            neuron_arrays[this_template_idx][i_frame, :3] = this_unscaled_pt\n",
    "            neuron_arrays[this_template_idx][i_frame, 3] = m[2]  # Match confidence\n",
    "        all_matches.append(matches)\n",
    "\n",
    "    # Convert to pandas multiindexing formatting\n",
    "    new_dict = {}\n",
    "    for i_template, data in neuron_arrays.items():\n",
    "        for i_col, coord_name in enumerate(coords):\n",
    "            # Note: these neuron names are final for all subsequent steps\n",
    "            k = (int2name(i_template + 1), coord_name)\n",
    "            new_dict[k] = data[:, i_col]\n",
    "\n",
    "    df = pd.DataFrame(new_dict)\n",
    "\n",
    "    return df, all_matches\n",
    "\n",
    "def generate_template_pos(i):\n",
    "    custom_template = project_data.get_centroids_as_numpy_training(i, is_relative_index=True)\n",
    "    return zimmer2leifer(custom_template)"
   ]
  },
  {
   "cell_type": "code",
   "execution_count": 27,
   "id": "ae9889cf",
   "metadata": {},
   "outputs": [],
   "source": [
    "num_templates = project_data.reindexed_metadata_training.num_frames\n",
    "all_template_pos = [generate_template_pos(i) for i in range(num_templates)]\n",
    "all_template_color = [get_colors_and_scale(i) for i in range(num_templates)]\n",
    "\n",
    "base_prediction_options, _, _ = load_fdnc_options_and_template()\n",
    "base_prediction_options['encoding_opt'] = dict(color_matrix_multiplier=1.0)\n",
    "base_prediction_options['topn'] = 3\n",
    "\n",
    "match_confidence_threshold = 0.3"
   ]
  },
  {
   "cell_type": "code",
   "execution_count": 28,
   "id": "71fcd01c",
   "metadata": {
    "scrolled": true
   },
   "outputs": [
    {
     "data": {
      "application/vnd.jupyter.widget-view+json": {
       "model_id": "059b3ec9963b449aad717106c1cef57b",
       "version_major": 2,
       "version_minor": 0
      },
      "text/plain": [
       "  0%|          | 0/10 [00:00<?, ?it/s]"
      ]
     },
     "metadata": {},
     "output_type": "display_data"
    },
    {
     "data": {
      "application/vnd.jupyter.widget-view+json": {
       "model_id": "",
       "version_major": 2,
       "version_minor": 0
      },
      "text/plain": [
       "  0%|          | 0/10 [00:00<?, ?it/s]"
      ]
     },
     "metadata": {},
     "output_type": "display_data"
    },
    {
     "data": {
      "application/vnd.jupyter.widget-view+json": {
       "model_id": "",
       "version_major": 2,
       "version_minor": 0
      },
      "text/plain": [
       "  0%|          | 0/10 [00:00<?, ?it/s]"
      ]
     },
     "metadata": {},
     "output_type": "display_data"
    },
    {
     "data": {
      "application/vnd.jupyter.widget-view+json": {
       "model_id": "",
       "version_major": 2,
       "version_minor": 0
      },
      "text/plain": [
       "  0%|          | 0/10 [00:00<?, ?it/s]"
      ]
     },
     "metadata": {},
     "output_type": "display_data"
    },
    {
     "data": {
      "application/vnd.jupyter.widget-view+json": {
       "model_id": "",
       "version_major": 2,
       "version_minor": 0
      },
      "text/plain": [
       "  0%|          | 0/10 [00:00<?, ?it/s]"
      ]
     },
     "metadata": {},
     "output_type": "display_data"
    },
    {
     "data": {
      "application/vnd.jupyter.widget-view+json": {
       "model_id": "",
       "version_major": 2,
       "version_minor": 0
      },
      "text/plain": [
       "  0%|          | 0/10 [00:00<?, ?it/s]"
      ]
     },
     "metadata": {},
     "output_type": "display_data"
    },
    {
     "data": {
      "application/vnd.jupyter.widget-view+json": {
       "model_id": "",
       "version_major": 2,
       "version_minor": 0
      },
      "text/plain": [
       "  0%|          | 0/10 [00:00<?, ?it/s]"
      ]
     },
     "metadata": {},
     "output_type": "display_data"
    },
    {
     "data": {
      "application/vnd.jupyter.widget-view+json": {
       "model_id": "",
       "version_major": 2,
       "version_minor": 0
      },
      "text/plain": [
       "  0%|          | 0/10 [00:00<?, ?it/s]"
      ]
     },
     "metadata": {},
     "output_type": "display_data"
    },
    {
     "data": {
      "application/vnd.jupyter.widget-view+json": {
       "model_id": "",
       "version_major": 2,
       "version_minor": 0
      },
      "text/plain": [
       "  0%|          | 0/10 [00:00<?, ?it/s]"
      ]
     },
     "metadata": {},
     "output_type": "display_data"
    },
    {
     "data": {
      "application/vnd.jupyter.widget-view+json": {
       "model_id": "",
       "version_major": 2,
       "version_minor": 0
      },
      "text/plain": [
       "  0%|          | 0/10 [00:00<?, ?it/s]"
      ]
     },
     "metadata": {},
     "output_type": "display_data"
    },
    {
     "data": {
      "application/vnd.jupyter.widget-view+json": {
       "model_id": "",
       "version_major": 2,
       "version_minor": 0
      },
      "text/plain": [
       "  0%|          | 0/10 [00:00<?, ?it/s]"
      ]
     },
     "metadata": {},
     "output_type": "display_data"
    }
   ],
   "source": [
    "# np.set_printoptions(precision=10)\n",
    "\n",
    "df_per_template = []\n",
    "matches_per_template = []\n",
    "opt = dict(prediction_options=base_prediction_options, \n",
    "           match_confidence_threshold=match_confidence_threshold, \n",
    "           num_frames=num_templates,\n",
    "           project_data=project_data)\n",
    "for pos, col in tqdm(zip(all_template_pos, all_template_color), total=num_templates):\n",
    "    df, matches = track_using_fdnc_ONLY_TRAINING(template_pos=pos, template_color=col, **opt)\n",
    "    df_per_template.append(df)\n",
    "    matches_per_template.append(matches)\n",
    "#     break"
   ]
  },
  {
   "cell_type": "markdown",
   "id": "a3e2c7a3",
   "metadata": {},
   "source": [
    "# Performance of template matching"
   ]
  },
  {
   "cell_type": "code",
   "execution_count": 31,
   "id": "f721fe1e",
   "metadata": {},
   "outputs": [],
   "source": [
    "from wbfm.utils.performance.comparing_ground_truth import calc_summary_scores_for_training_data\n",
    "from wbfm.utils.feature_detection.utils_networkx import calc_bipartite_from_candidates"
   ]
  },
  {
   "cell_type": "code",
   "execution_count": 36,
   "id": "18d2034d",
   "metadata": {},
   "outputs": [
    {
     "name": "stdout",
     "output_type": "stream",
     "text": [
      "For pose 0, tp:  1.00, outliers:  0.00\n",
      "For pose 1, tp:  1.00, outliers:  0.00\n",
      "For pose 2, tp:  1.00, outliers:  0.00\n",
      "For pose 3, tp:  1.00, outliers:  0.00\n",
      "For pose 4, tp:  1.00, outliers:  0.00\n",
      "For pose 5, tp:  1.00, outliers:  0.00\n",
      "For pose 6, tp:  0.96, outliers:  0.03\n",
      "For pose 7, tp:  0.93, outliers:  0.04\n",
      "For pose 8, tp:  0.91, outliers:  0.05\n",
      "For pose 9, tp:  0.79, outliers:  0.13\n"
     ]
    }
   ],
   "source": [
    "for i in range(10):\n",
    "    m = matches_per_template[i]\n",
    "    m = flatten_nested_list(m)\n",
    "    m = np.array(m)\n",
    "    m[:,2] /= 10\n",
    "    matches, conf, _ = calc_bipartite_from_candidates(m, min_conf=0.1)\n",
    "    m_final = [(m[0],m[1], c) for m, c in zip(matches, conf)]\n",
    "\n",
    "    num_tp, num_outliers, num_missing, max_possible = calc_summary_scores_for_training_data(m_final)\n",
    "    print(f\"For pose {i}, tp: {num_tp / max_possible: .2f}, outliers: {num_outliers / max_possible: .2f}\")"
   ]
  },
  {
   "cell_type": "code",
   "execution_count": null,
   "id": "0ef2359e",
   "metadata": {},
   "outputs": [],
   "source": []
  },
  {
   "cell_type": "code",
   "execution_count": null,
   "id": "662f06bc",
   "metadata": {},
   "outputs": [],
   "source": []
  },
  {
   "cell_type": "code",
   "execution_count": null,
   "id": "e24d4084",
   "metadata": {},
   "outputs": [],
   "source": []
  },
  {
   "cell_type": "code",
   "execution_count": null,
   "id": "211a5b00",
   "metadata": {},
   "outputs": [],
   "source": []
  },
  {
   "cell_type": "code",
   "execution_count": null,
   "id": "2739f845",
   "metadata": {},
   "outputs": [],
   "source": []
  },
  {
   "cell_type": "code",
   "execution_count": null,
   "id": "62747565",
   "metadata": {},
   "outputs": [],
   "source": []
  },
  {
   "cell_type": "code",
   "execution_count": null,
   "id": "4849b1d1",
   "metadata": {},
   "outputs": [],
   "source": []
  },
  {
   "cell_type": "code",
   "execution_count": null,
   "id": "88153427",
   "metadata": {},
   "outputs": [],
   "source": []
  },
  {
   "cell_type": "code",
   "execution_count": null,
   "id": "65baa07f",
   "metadata": {},
   "outputs": [],
   "source": []
  },
  {
   "cell_type": "markdown",
   "id": "79f16671",
   "metadata": {},
   "source": [
    "# Scratch: debugging the colors"
   ]
  },
  {
   "cell_type": "code",
   "execution_count": null,
   "id": "5fa48034",
   "metadata": {},
   "outputs": [],
   "source": [
    "c0, c1 = all_template_color[0], all_template_color[1]"
   ]
  },
  {
   "cell_type": "code",
   "execution_count": null,
   "id": "50010f27",
   "metadata": {},
   "outputs": [],
   "source": [
    "from scipy.spatial import distance\n",
    "from scipy.special import softmax\n",
    "\n",
    "out = distance.cdist(c0, c1, 'euclidean')\n",
    "# out /= np.sum(out, axis=0)\n",
    "# out =  np.log(softmax(out))\n",
    "# out = distance.cdist(c0/np.sum(c0, axis=1, keepdims=True), c1/np.sum(c1, axis=1, keepdims=True), 'jensenshannon')"
   ]
  },
  {
   "cell_type": "code",
   "execution_count": 13,
   "id": "ad1d6626",
   "metadata": {},
   "outputs": [
    {
     "ename": "NameError",
     "evalue": "name 'softmax' is not defined",
     "output_type": "error",
     "traceback": [
      "\u001b[0;31m---------------------------------------------------------------------------\u001b[0m",
      "\u001b[0;31mNameError\u001b[0m                                 Traceback (most recent call last)",
      "\u001b[0;32m/tmp/ipykernel_3643038/358689899.py\u001b[0m in \u001b[0;36m<module>\u001b[0;34m\u001b[0m\n\u001b[0;32m----> 1\u001b[0;31m \u001b[0mnp\u001b[0m\u001b[0;34m.\u001b[0m\u001b[0munique\u001b[0m\u001b[0;34m(\u001b[0m\u001b[0msoftmax\u001b[0m\u001b[0;34m(\u001b[0m\u001b[0mout\u001b[0m\u001b[0;34m)\u001b[0m\u001b[0;34m)\u001b[0m\u001b[0;34m\u001b[0m\u001b[0;34m\u001b[0m\u001b[0m\n\u001b[0m",
      "\u001b[0;31mNameError\u001b[0m: name 'softmax' is not defined"
     ]
    }
   ],
   "source": [
    "# np.unique(softmax(out))"
   ]
  },
  {
   "cell_type": "code",
   "execution_count": null,
   "id": "040511d5",
   "metadata": {},
   "outputs": [],
   "source": [
    "plt.imshow(np.tanh(1/(out+1e-3)))\n",
    "plt.colorbar();"
   ]
  },
  {
   "cell_type": "code",
   "execution_count": 13,
   "id": "af9e444c",
   "metadata": {},
   "outputs": [
    {
     "data": {
      "application/vnd.jupyter.widget-view+json": {
       "model_id": "999765ae28344c5a9e2eae34346f510b",
       "version_major": 2,
       "version_minor": 0
      },
      "text/plain": [
       "interactive(children=(IntSlider(value=60, description='i', max=120), Output()), _dom_classes=('widget-interact…"
      ]
     },
     "metadata": {},
     "output_type": "display_data"
    },
    {
     "data": {
      "text/plain": [
       "<function __main__.<lambda>(i)>"
      ]
     },
     "execution_count": 13,
     "metadata": {},
     "output_type": "execute_result"
    }
   ],
   "source": [
    "from ipywidgets import interact\n",
    "p0, p1 = all_template_pos[0], all_template_pos[1]\n",
    "\n",
    "# f = lambda i: print(p0[i], p1[i])\n",
    "f = lambda i: print(c0[i], c1[i])\n",
    "interact(f, i=(0, 120))"
   ]
  },
  {
   "cell_type": "code",
   "execution_count": 14,
   "id": "77d83f2e",
   "metadata": {
    "scrolled": false
   },
   "outputs": [
    {
     "data": {
      "text/plain": [
       "[-0.6732000000000014,\n",
       " 0.8975999999999971,\n",
       " 6.854399999999998,\n",
       " 32.894999999999996,\n",
       " 6.3851999999999975,\n",
       " 3.044700000000006,\n",
       " 14.881800000000005,\n",
       " 0.40800000000000125,\n",
       " 3.121199999999998,\n",
       " 2.8355999999999995]"
      ]
     },
     "execution_count": 14,
     "metadata": {},
     "output_type": "execute_result"
    }
   ],
   "source": [
    "all_deltas = [c0[i][0] - c1[i][0] for i in range(len(c0))]\n",
    "all_deltas[:10]"
   ]
  },
  {
   "cell_type": "code",
   "execution_count": 44,
   "id": "297addf8",
   "metadata": {},
   "outputs": [
    {
     "data": {
      "application/vnd.jupyter.widget-view+json": {
       "model_id": "b12f45f7f9e64512abc806628a5c2d6d",
       "version_major": 2,
       "version_minor": 0
      },
      "text/plain": [
       "interactive(children=(IntSlider(value=60, description='i', max=120), Output()), _dom_classes=('widget-interact…"
      ]
     },
     "metadata": {},
     "output_type": "display_data"
    },
    {
     "data": {
      "text/plain": [
       "<function __main__.print_things(i)>"
      ]
     },
     "execution_count": 44,
     "metadata": {},
     "output_type": "execute_result"
    }
   ],
   "source": [
    "\n",
    "def print_things(i):\n",
    "    z0 = project_data.get_centroids_as_numpy_training(0)[i]\n",
    "    z1 = project_data.get_centroids_as_numpy_training(1)[i]\n",
    "    \n",
    "    c0 = project_data.reindexed_metadata_training.get_normalized_intensity(0, is_relative_index=True).to_numpy()[i]\n",
    "    c1 = project_data.reindexed_metadata_training.get_normalized_intensity(1, is_relative_index=True).to_numpy()[i]\n",
    "    \n",
    "    b0 = project_data.reindexed_metadata_training.get_all_brightnesses(0, is_relative_index=True).to_numpy()[i]\n",
    "    b1 = project_data.reindexed_metadata_training.get_all_brightnesses(1, is_relative_index=True).to_numpy()[i]\n",
    "    \n",
    "    v0 = project_data.reindexed_metadata_training.get_all_volumes(0, is_relative_index=True).to_numpy()[i]\n",
    "    v1 = project_data.reindexed_metadata_training.get_all_volumes(1, is_relative_index=True).to_numpy()[i]\n",
    "    \n",
    "    print(z0, z1)\n",
    "    print(c0, c1)\n",
    "    print(b0, b1)\n",
    "    print(v0, v1)\n",
    "    print(b0/v0, b1/v1)\n",
    "interact(print_things, i=(0,120))"
   ]
  },
  {
   "cell_type": "code",
   "execution_count": 46,
   "id": "e3081422",
   "metadata": {},
   "outputs": [
    {
     "data": {
      "text/plain": [
       "Text(0.5, 1.0, 'Red channels for training tracklets (volumes 0 and 1)')"
      ]
     },
     "execution_count": 46,
     "metadata": {},
     "output_type": "execute_result"
    },
    {
     "data": {
      "image/png": "[encoded data removed]",
      "text/plain": [
       "<Figure size 1800x1080 with 1 Axes>"
      ]
     },
     "metadata": {
      "needs_background": "light"
     },
     "output_type": "display_data"
    }
   ],
   "source": [
    "%matplotlib inline\n",
    "plt.figure(figsize=(25,15))\n",
    "plt.plot(c0[:,0])\n",
    "plt.plot(c1[:,0])\n",
    "plt.title(\"Red channels for training tracklets (volumes 0 and 1)\")"
   ]
  },
  {
   "cell_type": "code",
   "execution_count": 18,
   "id": "f3e9e206",
   "metadata": {},
   "outputs": [
    {
     "data": {
      "text/plain": [
       "(90.7035, 41.2794)"
      ]
     },
     "execution_count": 18,
     "metadata": {},
     "output_type": "execute_result"
    }
   ],
   "source": [
    "c0[1,0], c1[1,0]"
   ]
  },
  {
   "cell_type": "code",
   "execution_count": 19,
   "id": "86599beb",
   "metadata": {},
   "outputs": [
    {
     "data": {
      "text/plain": [
       "[<matplotlib.lines.Line2D at 0x7f06ea667d90>]"
      ]
     },
     "execution_count": 19,
     "metadata": {},
     "output_type": "execute_result"
    },
    {
     "data": {
      "image/png": "[encoded data removed]",
      "text/plain": [
       "<Figure size 432x288 with 1 Axes>"
      ]
     },
     "metadata": {
      "needs_background": "light"
     },
     "output_type": "display_data"
    }
   ],
   "source": [
    "plt.plot(project_data.calculate_traces('red', 'integration', 'neuron_001'))"
   ]
  },
  {
   "cell_type": "code",
   "execution_count": 18,
   "id": "e693f18a",
   "metadata": {},
   "outputs": [],
   "source": [
    "df_train = project_data.df_training_tracklets\n",
    "# df_train"
   ]
  },
  {
   "cell_type": "code",
   "execution_count": 19,
   "id": "477d7416",
   "metadata": {},
   "outputs": [],
   "source": [
    "# list(df_train.columns.levels[0])"
   ]
  },
  {
   "cell_type": "code",
   "execution_count": 20,
   "id": "f2b9a909",
   "metadata": {},
   "outputs": [
    {
     "data": {
      "text/html": [
       "<div>\n",
       "<style scoped>\n",
       "    .dataframe tbody tr th:only-of-type {\n",
       "        vertical-align: middle;\n",
       "    }\n",
       "\n",
       "    .dataframe tbody tr th {\n",
       "        vertical-align: top;\n",
       "    }\n",
       "\n",
       "    .dataframe thead th {\n",
       "        text-align: right;\n",
       "    }\n",
       "</style>\n",
       "<table border=\"1\" class=\"dataframe\">\n",
       "  <thead>\n",
       "    <tr style=\"text-align: right;\">\n",
       "      <th>coords</th>\n",
       "      <th>z</th>\n",
       "      <th>x</th>\n",
       "      <th>y</th>\n",
       "      <th>likelihood</th>\n",
       "    </tr>\n",
       "  </thead>\n",
       "  <tbody>\n",
       "    <tr>\n",
       "      <th>1154</th>\n",
       "      <td>8.326415</td>\n",
       "      <td>292.669811</td>\n",
       "      <td>370.390566</td>\n",
       "      <td>0.829999</td>\n",
       "    </tr>\n",
       "    <tr>\n",
       "      <th>1155</th>\n",
       "      <td>7.436047</td>\n",
       "      <td>276.054264</td>\n",
       "      <td>363.397287</td>\n",
       "      <td>0.816262</td>\n",
       "    </tr>\n",
       "    <tr>\n",
       "      <th>1156</th>\n",
       "      <td>8.392273</td>\n",
       "      <td>251.381872</td>\n",
       "      <td>356.127786</td>\n",
       "      <td>0.861834</td>\n",
       "    </tr>\n",
       "    <tr>\n",
       "      <th>1157</th>\n",
       "      <td>7.773179</td>\n",
       "      <td>255.700331</td>\n",
       "      <td>364.130795</td>\n",
       "      <td>0.878108</td>\n",
       "    </tr>\n",
       "    <tr>\n",
       "      <th>1158</th>\n",
       "      <td>7.738579</td>\n",
       "      <td>261.145939</td>\n",
       "      <td>370.619289</td>\n",
       "      <td>0.876143</td>\n",
       "    </tr>\n",
       "    <tr>\n",
       "      <th>1159</th>\n",
       "      <td>7.421208</td>\n",
       "      <td>266.650957</td>\n",
       "      <td>377.534610</td>\n",
       "      <td>0.828575</td>\n",
       "    </tr>\n",
       "    <tr>\n",
       "      <th>1160</th>\n",
       "      <td>7.669739</td>\n",
       "      <td>276.270353</td>\n",
       "      <td>384.070661</td>\n",
       "      <td>0.878376</td>\n",
       "    </tr>\n",
       "    <tr>\n",
       "      <th>1161</th>\n",
       "      <td>8.014859</td>\n",
       "      <td>278.815750</td>\n",
       "      <td>386.444279</td>\n",
       "      <td>0.817545</td>\n",
       "    </tr>\n",
       "    <tr>\n",
       "      <th>1162</th>\n",
       "      <td>8.412518</td>\n",
       "      <td>286.972973</td>\n",
       "      <td>386.623044</td>\n",
       "      <td>0.912030</td>\n",
       "    </tr>\n",
       "    <tr>\n",
       "      <th>1163</th>\n",
       "      <td>8.094964</td>\n",
       "      <td>292.251799</td>\n",
       "      <td>382.037410</td>\n",
       "      <td>0.869125</td>\n",
       "    </tr>\n",
       "  </tbody>\n",
       "</table>\n",
       "</div>"
      ],
      "text/plain": [
       "coords         z           x           y  likelihood\n",
       "1154    8.326415  292.669811  370.390566    0.829999\n",
       "1155    7.436047  276.054264  363.397287    0.816262\n",
       "1156    8.392273  251.381872  356.127786    0.861834\n",
       "1157    7.773179  255.700331  364.130795    0.878108\n",
       "1158    7.738579  261.145939  370.619289    0.876143\n",
       "1159    7.421208  266.650957  377.534610    0.828575\n",
       "1160    7.669739  276.270353  384.070661    0.878376\n",
       "1161    8.014859  278.815750  386.444279    0.817545\n",
       "1162    8.412518  286.972973  386.623044    0.912030\n",
       "1163    8.094964  292.251799  382.037410    0.869125"
      ]
     },
     "execution_count": 20,
     "metadata": {},
     "output_type": "execute_result"
    }
   ],
   "source": [
    "df_train['neuron10908']"
   ]
  },
  {
   "cell_type": "code",
   "execution_count": 27,
   "id": "c164b689",
   "metadata": {},
   "outputs": [],
   "source": [
    "dat0 = project_data.reindexed_metadata_training.segmentation_metadata[1154]\n",
    "dat1 = project_data.reindexed_metadata_training.segmentation_metadata[1155]\n",
    "\n",
    "i_neuron = 3"
   ]
  },
  {
   "cell_type": "code",
   "execution_count": 28,
   "id": "5f470f7e",
   "metadata": {},
   "outputs": [
    {
     "data": {
      "text/html": [
       "<div>\n",
       "<style scoped>\n",
       "    .dataframe tbody tr th:only-of-type {\n",
       "        vertical-align: middle;\n",
       "    }\n",
       "\n",
       "    .dataframe tbody tr th {\n",
       "        vertical-align: top;\n",
       "    }\n",
       "\n",
       "    .dataframe thead th {\n",
       "        text-align: right;\n",
       "    }\n",
       "</style>\n",
       "<table border=\"1\" class=\"dataframe\">\n",
       "  <thead>\n",
       "    <tr style=\"text-align: right;\">\n",
       "      <th></th>\n",
       "      <th>total_brightness</th>\n",
       "      <th>neuron_volume</th>\n",
       "      <th>centroids</th>\n",
       "      <th>all_values</th>\n",
       "    </tr>\n",
       "  </thead>\n",
       "  <tbody>\n",
       "    <tr>\n",
       "      <th>10734</th>\n",
       "      <td>18757</td>\n",
       "      <td>741</td>\n",
       "      <td>(6.532814415951378, 277.87119475395855, 492.24...</td>\n",
       "      <td>[17, 17, 19, 18, 17, 17, 17, 16, 18, 18, 20, 1...</td>\n",
       "    </tr>\n",
       "    <tr>\n",
       "      <th>10909</th>\n",
       "      <td>13877</td>\n",
       "      <td>530</td>\n",
       "      <td>(8.365929235425524, 292.71369892628087, 370.51...</td>\n",
       "      <td>[22, 20, 21, 22, 21, 19, 20, 19, 21, 24, 22, 2...</td>\n",
       "    </tr>\n",
       "    <tr>\n",
       "      <th>10939</th>\n",
       "      <td>20862</td>\n",
       "      <td>780</td>\n",
       "      <td>(7.129182245230563, 278.8900393059151, 358.470...</td>\n",
       "      <td>[21, 19, 20, 20, 21, 19, 19, 19, 20, 21, 21, 2...</td>\n",
       "    </tr>\n",
       "    <tr>\n",
       "      <th>10993</th>\n",
       "      <td>22224</td>\n",
       "      <td>753</td>\n",
       "      <td>(23.694789416846653, 271.9842512598992, 380.42...</td>\n",
       "      <td>[22, 23, 22, 23, 23, 21, 22, 23, 23, 24, 24, 2...</td>\n",
       "    </tr>\n",
       "    <tr>\n",
       "      <th>11148</th>\n",
       "      <td>23138</td>\n",
       "      <td>694</td>\n",
       "      <td>(6.1415420520356125, 283.9942950989714, 407.16...</td>\n",
       "      <td>[22, 23, 23, 24, 21, 23, 21, 25, 26, 25, 24, 2...</td>\n",
       "    </tr>\n",
       "  </tbody>\n",
       "</table>\n",
       "</div>"
      ],
      "text/plain": [
       "      total_brightness neuron_volume  \\\n",
       "10734            18757           741   \n",
       "10909            13877           530   \n",
       "10939            20862           780   \n",
       "10993            22224           753   \n",
       "11148            23138           694   \n",
       "\n",
       "                                               centroids  \\\n",
       "10734  (6.532814415951378, 277.87119475395855, 492.24...   \n",
       "10909  (8.365929235425524, 292.71369892628087, 370.51...   \n",
       "10939  (7.129182245230563, 278.8900393059151, 358.470...   \n",
       "10993  (23.694789416846653, 271.9842512598992, 380.42...   \n",
       "11148  (6.1415420520356125, 283.9942950989714, 407.16...   \n",
       "\n",
       "                                              all_values  \n",
       "10734  [17, 17, 19, 18, 17, 17, 17, 16, 18, 18, 20, 1...  \n",
       "10909  [22, 20, 21, 22, 21, 19, 20, 19, 21, 24, 22, 2...  \n",
       "10939  [21, 19, 20, 20, 21, 19, 19, 19, 20, 21, 21, 2...  \n",
       "10993  [22, 23, 22, 23, 23, 21, 22, 23, 23, 24, 24, 2...  \n",
       "11148  [22, 23, 23, 24, 21, 23, 21, 25, 26, 25, 24, 2...  "
      ]
     },
     "execution_count": 28,
     "metadata": {},
     "output_type": "execute_result"
    }
   ],
   "source": [
    "dat0.head()"
   ]
  },
  {
   "cell_type": "code",
   "execution_count": 29,
   "id": "4fb02fed",
   "metadata": {},
   "outputs": [
    {
     "data": {
      "text/html": [
       "<div>\n",
       "<style scoped>\n",
       "    .dataframe tbody tr th:only-of-type {\n",
       "        vertical-align: middle;\n",
       "    }\n",
       "\n",
       "    .dataframe tbody tr th {\n",
       "        vertical-align: top;\n",
       "    }\n",
       "\n",
       "    .dataframe thead th {\n",
       "        text-align: right;\n",
       "    }\n",
       "</style>\n",
       "<table border=\"1\" class=\"dataframe\">\n",
       "  <thead>\n",
       "    <tr style=\"text-align: right;\">\n",
       "      <th></th>\n",
       "      <th>total_brightness</th>\n",
       "      <th>neuron_volume</th>\n",
       "      <th>centroids</th>\n",
       "      <th>all_values</th>\n",
       "    </tr>\n",
       "  </thead>\n",
       "  <tbody>\n",
       "    <tr>\n",
       "      <th>10734</th>\n",
       "      <td>18091</td>\n",
       "      <td>684</td>\n",
       "      <td>(6.341937980211155, 287.74910176330775, 484.56...</td>\n",
       "      <td>[17, 18, 18, 18, 17, 19, 19, 19, 19, 20, 20, 2...</td>\n",
       "    </tr>\n",
       "    <tr>\n",
       "      <th>10909</th>\n",
       "      <td>13505</td>\n",
       "      <td>516</td>\n",
       "      <td>(7.585338763420955, 276.0966308774528, 363.489...</td>\n",
       "      <td>[19, 20, 21, 22, 19, 19, 19, 23, 22, 25, 22, 2...</td>\n",
       "    </tr>\n",
       "    <tr>\n",
       "      <th>10939</th>\n",
       "      <td>16704</td>\n",
       "      <td>579</td>\n",
       "      <td>(7.137033045977011, 259.4836566091954, 354.524...</td>\n",
       "      <td>[22, 23, 21, 21, 23, 24, 23, 23, 24, 22, 21, 2...</td>\n",
       "    </tr>\n",
       "    <tr>\n",
       "      <th>10993</th>\n",
       "      <td>10006</td>\n",
       "      <td>341</td>\n",
       "      <td>(22.973715770537677, 255.75354787127722, 374.5...</td>\n",
       "      <td>[22, 24, 26, 25, 24, 23, 27, 27, 25, 25, 24, 2...</td>\n",
       "    </tr>\n",
       "    <tr>\n",
       "      <th>11148</th>\n",
       "      <td>20206</td>\n",
       "      <td>574</td>\n",
       "      <td>(5.675195486489162, 274.5082153815698, 400.802...</td>\n",
       "      <td>[22, 21, 22, 24, 24, 22, 23, 21, 24, 26, 27, 2...</td>\n",
       "    </tr>\n",
       "  </tbody>\n",
       "</table>\n",
       "</div>"
      ],
      "text/plain": [
       "      total_brightness neuron_volume  \\\n",
       "10734            18091           684   \n",
       "10909            13505           516   \n",
       "10939            16704           579   \n",
       "10993            10006           341   \n",
       "11148            20206           574   \n",
       "\n",
       "                                               centroids  \\\n",
       "10734  (6.341937980211155, 287.74910176330775, 484.56...   \n",
       "10909  (7.585338763420955, 276.0966308774528, 363.489...   \n",
       "10939  (7.137033045977011, 259.4836566091954, 354.524...   \n",
       "10993  (22.973715770537677, 255.75354787127722, 374.5...   \n",
       "11148  (5.675195486489162, 274.5082153815698, 400.802...   \n",
       "\n",
       "                                              all_values  \n",
       "10734  [17, 18, 18, 18, 17, 19, 19, 19, 19, 20, 20, 2...  \n",
       "10909  [19, 20, 21, 22, 19, 19, 19, 23, 22, 25, 22, 2...  \n",
       "10939  [22, 23, 21, 21, 23, 24, 23, 23, 24, 22, 21, 2...  \n",
       "10993  [22, 24, 26, 25, 24, 23, 27, 27, 25, 25, 24, 2...  \n",
       "11148  [22, 21, 22, 24, 24, 22, 23, 21, 24, 26, 27, 2...  "
      ]
     },
     "execution_count": 29,
     "metadata": {},
     "output_type": "execute_result"
    }
   ],
   "source": [
    "dat1.head()"
   ]
  },
  {
   "cell_type": "code",
   "execution_count": 32,
   "id": "92a31bb1",
   "metadata": {},
   "outputs": [],
   "source": [
    "all0 = dat0['all_values'].iloc[i_neuron]\n",
    "all1 = dat1['all_values'].iloc[i_neuron]"
   ]
  },
  {
   "cell_type": "code",
   "execution_count": 33,
   "id": "8eee1d8d",
   "metadata": {},
   "outputs": [
    {
     "name": "stderr",
     "output_type": "stream",
     "text": [
      "/home/charles/anaconda3/envs/torch/lib/python3.7/site-packages/numpy/core/_asarray.py:83: VisibleDeprecationWarning: Creating an ndarray from ragged nested sequences (which is a list-or-tuple of lists-or-tuples-or ndarrays with different lengths or shapes) is deprecated. If you meant to do this, you must specify 'dtype=object' when creating the ndarray\n",
      "  return array(a, dtype, copy=False, order=order)\n"
     ]
    },
    {
     "data": {
      "text/plain": [
       "Text(0.5, 1.0, 'Histogram of all values from training data')"
      ]
     },
     "execution_count": 33,
     "metadata": {},
     "output_type": "execute_result"
    },
    {
     "data": {
      "image/png": "[encoded data removed]",
      "text/plain": [
       "<Figure size 432x288 with 1 Axes>"
      ]
     },
     "metadata": {
      "needs_background": "light"
     },
     "output_type": "display_data"
    }
   ],
   "source": [
    "plt.hist([all0, all1], stacked=True)\n",
    "plt.title(\"Histogram of all values from training data\")"
   ]
  },
  {
   "cell_type": "code",
   "execution_count": 15,
   "id": "ef3df7e4",
   "metadata": {},
   "outputs": [
    {
     "data": {
      "text/plain": [
       "(25205, 15318)"
      ]
     },
     "execution_count": 15,
     "metadata": {},
     "output_type": "execute_result"
    }
   ],
   "source": [
    "np.sum(all0), np.sum(all1)"
   ]
  },
  {
   "cell_type": "code",
   "execution_count": 16,
   "id": "63358099",
   "metadata": {},
   "outputs": [
    {
     "name": "stdout",
     "output_type": "stream",
     "text": [
      "530 516\n",
      "47.556603773584904 29.686046511627907\n"
     ]
    }
   ],
   "source": [
    "v0, v1 = dat0['neuron_volume'].iloc[i_neuron], dat1['neuron_volume'].iloc[i_neuron]\n",
    "print(v0, v1)\n",
    "print(np.sum(all0)/v0, np.sum(all1)/v1)"
   ]
  },
  {
   "cell_type": "code",
   "execution_count": 17,
   "id": "5ff172a9",
   "metadata": {},
   "outputs": [
    {
     "name": "stdout",
     "output_type": "stream",
     "text": [
      "25205 15318\n"
     ]
    }
   ],
   "source": [
    "x0, x1 = dat0['total_brightness'].iloc[i_neuron], dat1['total_brightness'].iloc[i_neuron]\n",
    "print(x0, x1)"
   ]
  },
  {
   "cell_type": "code",
   "execution_count": 27,
   "id": "3d5acfe0",
   "metadata": {},
   "outputs": [
    {
     "data": {
      "text/plain": [
       "1154"
      ]
     },
     "execution_count": 27,
     "metadata": {},
     "output_type": "execute_result"
    }
   ],
   "source": [
    "project_data.project_config.get_training_config().config['training_data_3d']['which_frames'][0]"
   ]
  },
  {
   "cell_type": "markdown",
   "id": "0b26c5e7",
   "metadata": {},
   "source": [
    "# Look at the full metadata, not the training"
   ]
  },
  {
   "cell_type": "code",
   "execution_count": 18,
   "id": "94effc3a",
   "metadata": {},
   "outputs": [],
   "source": [
    "dat0_full = project_data.segmentation_metadata.segmentation_metadata[1154]\n",
    "dat1_full = project_data.segmentation_metadata.segmentation_metadata[1155]"
   ]
  },
  {
   "cell_type": "code",
   "execution_count": 19,
   "id": "496eb5a6",
   "metadata": {},
   "outputs": [
    {
     "name": "stdout",
     "output_type": "stream",
     "text": [
      "total_brightness                                                20862\n",
      "neuron_volume                                                     780\n",
      "centroids           (7.18974358974359, 278.87051282051283, 358.514...\n",
      "all_values          [21, 19, 20, 20, 21, 19, 19, 19, 20, 21, 21, 2...\n",
      "Name: 28, dtype: object\n",
      "Neuron 28 is close to the target point\n"
     ]
    }
   ],
   "source": [
    "target_pt = [7.6, 276, 362]\n",
    "tol = 5.0\n",
    "\n",
    "for i, row in dat0_full.iterrows():\n",
    "    dist = np.linalg.norm(np.array(row['centroids']) - target_pt)\n",
    "    if dist < tol:\n",
    "        print(row)\n",
    "        print(f\"Neuron {row.name} is close to the target point\")\n",
    "        i_best = i\n"
   ]
  },
  {
   "cell_type": "code",
   "execution_count": 21,
   "id": "69552abc",
   "metadata": {},
   "outputs": [
    {
     "data": {
      "text/plain": [
       "total_brightness                                                33101\n",
       "neuron_volume                                                     944\n",
       "centroids              (8.8125, 322.8135593220339, 398.2775423728813)\n",
       "all_values          [24, 21, 21, 28, 25, 25, 24, 23, 20, 19, 25, 2...\n",
       "Name: 28, dtype: object"
      ]
     },
     "execution_count": 21,
     "metadata": {},
     "output_type": "execute_result"
    }
   ],
   "source": [
    "dat1_full.loc[i_best]"
   ]
  },
  {
   "cell_type": "code",
   "execution_count": 22,
   "id": "af905a33",
   "metadata": {},
   "outputs": [
    {
     "data": {
      "text/html": [
       "<div>\n",
       "<style scoped>\n",
       "    .dataframe tbody tr th:only-of-type {\n",
       "        vertical-align: middle;\n",
       "    }\n",
       "\n",
       "    .dataframe tbody tr th {\n",
       "        vertical-align: top;\n",
       "    }\n",
       "\n",
       "    .dataframe thead th {\n",
       "        text-align: right;\n",
       "    }\n",
       "</style>\n",
       "<table border=\"1\" class=\"dataframe\">\n",
       "  <thead>\n",
       "    <tr style=\"text-align: right;\">\n",
       "      <th></th>\n",
       "      <th>total_brightness</th>\n",
       "      <th>neuron_volume</th>\n",
       "      <th>centroids</th>\n",
       "      <th>all_values</th>\n",
       "    </tr>\n",
       "  </thead>\n",
       "  <tbody>\n",
       "    <tr>\n",
       "      <th>1</th>\n",
       "      <td>52951</td>\n",
       "      <td>1475</td>\n",
       "      <td>(5.2806779661016945, 288.3905084745763, 418.68...</td>\n",
       "      <td>[21, 19, 18, 19, 22, 23, 23, 21, 22, 20, 20, 2...</td>\n",
       "    </tr>\n",
       "    <tr>\n",
       "      <th>2</th>\n",
       "      <td>20015</td>\n",
       "      <td>755</td>\n",
       "      <td>(3.556291390728477, 304.1867549668874, 421.565...</td>\n",
       "      <td>[19, 18, 18, 18, 19, 19, 21, 19, 19, 18, 23, 2...</td>\n",
       "    </tr>\n",
       "    <tr>\n",
       "      <th>3</th>\n",
       "      <td>36624</td>\n",
       "      <td>1066</td>\n",
       "      <td>(6.107879924953096, 270.765478424015, 513.7992...</td>\n",
       "      <td>[17, 19, 19, 21, 20, 19, 18, 17, 21, 22, 26, 2...</td>\n",
       "    </tr>\n",
       "    <tr>\n",
       "      <th>5</th>\n",
       "      <td>44687</td>\n",
       "      <td>1081</td>\n",
       "      <td>(4.979648473635523, 271.104532839963, 417.1600...</td>\n",
       "      <td>[26, 25, 25, 23, 31, 31, 27, 24, 23, 30, 32, 3...</td>\n",
       "    </tr>\n",
       "    <tr>\n",
       "      <th>9</th>\n",
       "      <td>8679</td>\n",
       "      <td>386</td>\n",
       "      <td>(2.8419689119170983, 175.63989637305698, 778.9...</td>\n",
       "      <td>[17, 17, 19, 19, 16, 17, 18, 19, 20, 20, 20, 1...</td>\n",
       "    </tr>\n",
       "    <tr>\n",
       "      <th>...</th>\n",
       "      <td>...</td>\n",
       "      <td>...</td>\n",
       "      <td>...</td>\n",
       "      <td>...</td>\n",
       "    </tr>\n",
       "    <tr>\n",
       "      <th>178</th>\n",
       "      <td>30511</td>\n",
       "      <td>1035</td>\n",
       "      <td>(20.80289855072464, 186.6792270531401, 258.585...</td>\n",
       "      <td>[19, 18, 20, 17, 20, 23, 24, 25, 22, 21, 19, 2...</td>\n",
       "    </tr>\n",
       "    <tr>\n",
       "      <th>179</th>\n",
       "      <td>8009</td>\n",
       "      <td>266</td>\n",
       "      <td>(22.526315789473685, 230.18796992481202, 506.2...</td>\n",
       "      <td>[22, 26, 22, 21, 21, 24, 30, 32, 37, 31, 23, 3...</td>\n",
       "    </tr>\n",
       "    <tr>\n",
       "      <th>180</th>\n",
       "      <td>8113</td>\n",
       "      <td>396</td>\n",
       "      <td>(24.944444444444443, 244.55555555555554, 486.4...</td>\n",
       "      <td>[19, 20, 20, 21, 20, 19, 18, 19, 20, 20, 21, 2...</td>\n",
       "    </tr>\n",
       "    <tr>\n",
       "      <th>181</th>\n",
       "      <td>12395</td>\n",
       "      <td>495</td>\n",
       "      <td>(23.848484848484848, 216.0787878787879, 556.57...</td>\n",
       "      <td>[17, 17, 18, 18, 21, 20, 26, 27, 27, 29, 26, 2...</td>\n",
       "    </tr>\n",
       "    <tr>\n",
       "      <th>183</th>\n",
       "      <td>12091</td>\n",
       "      <td>527</td>\n",
       "      <td>(25.79696394686907, 264.15939278937384, 426.20...</td>\n",
       "      <td>[19, 18, 20, 19, 20, 21, 20, 22, 21, 19, 21, 2...</td>\n",
       "    </tr>\n",
       "  </tbody>\n",
       "</table>\n",
       "<p>161 rows × 4 columns</p>\n",
       "</div>"
      ],
      "text/plain": [
       "    total_brightness neuron_volume  \\\n",
       "1              52951          1475   \n",
       "2              20015           755   \n",
       "3              36624          1066   \n",
       "5              44687          1081   \n",
       "9               8679           386   \n",
       "..               ...           ...   \n",
       "178            30511          1035   \n",
       "179             8009           266   \n",
       "180             8113           396   \n",
       "181            12395           495   \n",
       "183            12091           527   \n",
       "\n",
       "                                             centroids  \\\n",
       "1    (5.2806779661016945, 288.3905084745763, 418.68...   \n",
       "2    (3.556291390728477, 304.1867549668874, 421.565...   \n",
       "3    (6.107879924953096, 270.765478424015, 513.7992...   \n",
       "5    (4.979648473635523, 271.104532839963, 417.1600...   \n",
       "9    (2.8419689119170983, 175.63989637305698, 778.9...   \n",
       "..                                                 ...   \n",
       "178  (20.80289855072464, 186.6792270531401, 258.585...   \n",
       "179  (22.526315789473685, 230.18796992481202, 506.2...   \n",
       "180  (24.944444444444443, 244.55555555555554, 486.4...   \n",
       "181  (23.848484848484848, 216.0787878787879, 556.57...   \n",
       "183  (25.79696394686907, 264.15939278937384, 426.20...   \n",
       "\n",
       "                                            all_values  \n",
       "1    [21, 19, 18, 19, 22, 23, 23, 21, 22, 20, 20, 2...  \n",
       "2    [19, 18, 18, 18, 19, 19, 21, 19, 19, 18, 23, 2...  \n",
       "3    [17, 19, 19, 21, 20, 19, 18, 17, 21, 22, 26, 2...  \n",
       "5    [26, 25, 25, 23, 31, 31, 27, 24, 23, 30, 32, 3...  \n",
       "9    [17, 17, 19, 19, 16, 17, 18, 19, 20, 20, 20, 1...  \n",
       "..                                                 ...  \n",
       "178  [19, 18, 20, 17, 20, 23, 24, 25, 22, 21, 19, 2...  \n",
       "179  [22, 26, 22, 21, 21, 24, 30, 32, 37, 31, 23, 3...  \n",
       "180  [19, 20, 20, 21, 20, 19, 18, 19, 20, 20, 21, 2...  \n",
       "181  [17, 17, 18, 18, 21, 20, 26, 27, 27, 29, 26, 2...  \n",
       "183  [19, 18, 20, 19, 20, 21, 20, 22, 21, 19, 21, 2...  \n",
       "\n",
       "[161 rows x 4 columns]"
      ]
     },
     "execution_count": 22,
     "metadata": {},
     "output_type": "execute_result"
    }
   ],
   "source": [
    "dat0_full"
   ]
  },
  {
   "cell_type": "markdown",
   "id": "72bf509c",
   "metadata": {},
   "source": [
    "# Recalculate the metadata: is Niklas' code wrong?\n"
   ]
  },
  {
   "cell_type": "code",
   "execution_count": 27,
   "id": "b07ed784",
   "metadata": {},
   "outputs": [],
   "source": [
    "from wbfm.utils.pipeline.traces_pipeline import region_props_all_volumes, _convert_nested_dict_to_dataframe"
   ]
  },
  {
   "cell_type": "code",
   "execution_count": 47,
   "id": "0be60296",
   "metadata": {},
   "outputs": [
    {
     "data": {
      "text/plain": [
       "[1154, 1155, 1156, 1157, 1158, 1159, 1160, 1161, 1162, 1163]"
      ]
     },
     "execution_count": 47,
     "metadata": {},
     "output_type": "execute_result"
    }
   ],
   "source": [
    "project_data.which_training_frames"
   ]
  },
  {
   "cell_type": "code",
   "execution_count": 48,
   "id": "9d015ac5",
   "metadata": {},
   "outputs": [],
   "source": [
    "reindexed_masks = project_data.reindexed_masks_training\n",
    "frame_list = project_data.which_training_frames\n",
    "params_start_volume = 1154\n",
    "coords = ['z', 'x', 'y']\n",
    "\n",
    "lut = np.zeros(np.max(reindexed_masks)+1)\n",
    "vals = np.unique(reindexed_masks)\n",
    "for i, v in enumerate(vals):\n",
    "    lut[v] = i\n"
   ]
  },
  {
   "cell_type": "code",
   "execution_count": 36,
   "id": "92d25982",
   "metadata": {},
   "outputs": [],
   "source": [
    "reindexed_masks2 = np.zeros_like(reindexed_masks)"
   ]
  },
  {
   "cell_type": "code",
   "execution_count": 38,
   "id": "aad5e5ce",
   "metadata": {},
   "outputs": [],
   "source": [
    "num_frames = 10\n",
    "for i in range(num_frames):\n",
    "    reindexed_masks2[i, ...] = lut[reindexed_masks[i, ...]]\n",
    "# reindexed_masks2 = lut[reindexed_masks]"
   ]
  },
  {
   "cell_type": "code",
   "execution_count": 49,
   "id": "9a7b4332",
   "metadata": {},
   "outputs": [
    {
     "name": "stderr",
     "output_type": "stream",
     "text": [
      "100%|███████████████████████████████████████████| 10/10 [00:09<00:00,  1.09it/s]\n"
     ]
    },
    {
     "ename": "IndexError",
     "evalue": "index 1163 is out of bounds for axis 0 with size 10",
     "output_type": "error",
     "traceback": [
      "\u001b[0;31m---------------------------------------------------------------------------\u001b[0m",
      "\u001b[0;31mIndexError\u001b[0m                                Traceback (most recent call last)",
      "\u001b[0;32m/tmp/ipykernel_3543039/1018609884.py\u001b[0m in \u001b[0;36m<module>\u001b[0;34m\u001b[0m\n\u001b[1;32m      7\u001b[0m )\n\u001b[1;32m      8\u001b[0m \u001b[0;34m\u001b[0m\u001b[0m\n\u001b[0;32m----> 9\u001b[0;31m \u001b[0mdf_green\u001b[0m\u001b[0;34m,\u001b[0m \u001b[0mdf_red\u001b[0m \u001b[0;34m=\u001b[0m \u001b[0m_convert_nested_dict_to_dataframe\u001b[0m\u001b[0;34m(\u001b[0m\u001b[0mcoords\u001b[0m\u001b[0;34m,\u001b[0m \u001b[0mframe_list\u001b[0m\u001b[0;34m,\u001b[0m \u001b[0mgreen_all_neurons\u001b[0m\u001b[0;34m,\u001b[0m \u001b[0mred_all_neurons\u001b[0m\u001b[0;34m)\u001b[0m\u001b[0;34m\u001b[0m\u001b[0;34m\u001b[0m\u001b[0m\n\u001b[0m\u001b[1;32m     10\u001b[0m \u001b[0;34m\u001b[0m\u001b[0m\n\u001b[1;32m     11\u001b[0m \u001b[0;31m# TODO: make sure these are strings\u001b[0m\u001b[0;34m\u001b[0m\u001b[0;34m\u001b[0m\u001b[0;34m\u001b[0m\u001b[0m\n",
      "\u001b[0;32m~/Current_work/repos/dlc_for_wbfm/wbfm/utils/pipeline/traces_pipeline.py\u001b[0m in \u001b[0;36m_convert_nested_dict_to_dataframe\u001b[0;34m(coords, frame_list, green_all_neurons, red_all_neurons)\u001b[0m\n\u001b[1;32m    102\u001b[0m                     \u001b[0mtmp_green\u001b[0m\u001b[0;34m[\u001b[0m\u001b[0mnew_key\u001b[0m\u001b[0;34m]\u001b[0m\u001b[0;34m[\u001b[0m\u001b[0mi_vol\u001b[0m\u001b[0;34m]\u001b[0m \u001b[0;34m=\u001b[0m \u001b[0mgreen_props\u001b[0m\u001b[0;34m[\u001b[0m\u001b[0mkey\u001b[0m\u001b[0;34m]\u001b[0m\u001b[0;34m[\u001b[0m\u001b[0mi\u001b[0m\u001b[0;34m]\u001b[0m\u001b[0;34m\u001b[0m\u001b[0;34m\u001b[0m\u001b[0m\n\u001b[1;32m    103\u001b[0m             \u001b[0;32melse\u001b[0m\u001b[0;34m:\u001b[0m\u001b[0;34m\u001b[0m\u001b[0;34m\u001b[0m\u001b[0m\n\u001b[0;32m--> 104\u001b[0;31m                 \u001b[0mtmp_red\u001b[0m\u001b[0;34m[\u001b[0m\u001b[0mkey\u001b[0m\u001b[0;34m]\u001b[0m\u001b[0;34m[\u001b[0m\u001b[0mi_vol\u001b[0m\u001b[0;34m]\u001b[0m \u001b[0;34m=\u001b[0m \u001b[0mred_props\u001b[0m\u001b[0;34m[\u001b[0m\u001b[0mkey\u001b[0m\u001b[0;34m]\u001b[0m\u001b[0;34m\u001b[0m\u001b[0;34m\u001b[0m\u001b[0m\n\u001b[0m\u001b[1;32m    105\u001b[0m                 \u001b[0mtmp_green\u001b[0m\u001b[0;34m[\u001b[0m\u001b[0mkey\u001b[0m\u001b[0;34m]\u001b[0m\u001b[0;34m[\u001b[0m\u001b[0mi_vol\u001b[0m\u001b[0;34m]\u001b[0m \u001b[0;34m=\u001b[0m \u001b[0mgreen_props\u001b[0m\u001b[0;34m[\u001b[0m\u001b[0mkey\u001b[0m\u001b[0;34m]\u001b[0m\u001b[0;34m\u001b[0m\u001b[0;34m\u001b[0m\u001b[0m\n\u001b[1;32m    106\u001b[0m     \u001b[0mdf_red\u001b[0m \u001b[0;34m=\u001b[0m \u001b[0mpd\u001b[0m\u001b[0;34m.\u001b[0m\u001b[0mDataFrame\u001b[0m\u001b[0;34m(\u001b[0m\u001b[0mtmp_red\u001b[0m\u001b[0;34m)\u001b[0m\u001b[0;34m\u001b[0m\u001b[0;34m\u001b[0m\u001b[0m\n",
      "\u001b[0;31mIndexError\u001b[0m: index 1163 is out of bounds for axis 0 with size 10"
     ]
    }
   ],
   "source": [
    "red_all_neurons, green_all_neurons = region_props_all_volumes(\n",
    "    reindexed_masks2,\n",
    "    project_data.red_data,\n",
    "    project_data.green_data,\n",
    "    frame_list,\n",
    "    params_start_volume\n",
    ")"
   ]
  },
  {
   "cell_type": "code",
   "execution_count": 60,
   "id": "7cd48a76",
   "metadata": {},
   "outputs": [],
   "source": [
    "df_green, df_red = _convert_nested_dict_to_dataframe(coords, frame_list, green_all_neurons, red_all_neurons)\n",
    "\n",
    "# TODO: make sure these are strings\n",
    "final_neuron_names = list(df_red.columns.levels[0])"
   ]
  },
  {
   "cell_type": "code",
   "execution_count": 61,
   "id": "6a93019b",
   "metadata": {},
   "outputs": [
    {
     "data": {
      "text/html": [
       "<div>\n",
       "<style scoped>\n",
       "    .dataframe tbody tr th:only-of-type {\n",
       "        vertical-align: middle;\n",
       "    }\n",
       "\n",
       "    .dataframe tbody tr th {\n",
       "        vertical-align: top;\n",
       "    }\n",
       "\n",
       "    .dataframe thead th {\n",
       "        text-align: right;\n",
       "    }\n",
       "</style>\n",
       "<table border=\"1\" class=\"dataframe\">\n",
       "  <thead>\n",
       "    <tr style=\"text-align: right;\">\n",
       "      <th></th>\n",
       "      <th>area</th>\n",
       "      <th>z</th>\n",
       "      <th>x</th>\n",
       "      <th>y</th>\n",
       "      <th>intensity_image</th>\n",
       "      <th>label</th>\n",
       "    </tr>\n",
       "  </thead>\n",
       "  <tbody>\n",
       "    <tr>\n",
       "      <th>1154</th>\n",
       "      <td>530.0</td>\n",
       "      <td>8.365929</td>\n",
       "      <td>292.713699</td>\n",
       "      <td>370.512575</td>\n",
       "      <td>13877.0</td>\n",
       "      <td>2.0</td>\n",
       "    </tr>\n",
       "    <tr>\n",
       "      <th>1155</th>\n",
       "      <td>516.0</td>\n",
       "      <td>7.585339</td>\n",
       "      <td>276.096631</td>\n",
       "      <td>363.489152</td>\n",
       "      <td>13505.0</td>\n",
       "      <td>2.0</td>\n",
       "    </tr>\n",
       "    <tr>\n",
       "      <th>1156</th>\n",
       "      <td>673.0</td>\n",
       "      <td>8.377027</td>\n",
       "      <td>251.466057</td>\n",
       "      <td>356.189643</td>\n",
       "      <td>17264.0</td>\n",
       "      <td>2.0</td>\n",
       "    </tr>\n",
       "    <tr>\n",
       "      <th>1157</th>\n",
       "      <td>604.0</td>\n",
       "      <td>7.769122</td>\n",
       "      <td>255.794342</td>\n",
       "      <td>364.197913</td>\n",
       "      <td>15623.0</td>\n",
       "      <td>2.0</td>\n",
       "    </tr>\n",
       "    <tr>\n",
       "      <th>1158</th>\n",
       "      <td>788.0</td>\n",
       "      <td>7.729789</td>\n",
       "      <td>261.234941</td>\n",
       "      <td>370.648844</td>\n",
       "      <td>19507.0</td>\n",
       "      <td>2.0</td>\n",
       "    </tr>\n",
       "    <tr>\n",
       "      <th>1159</th>\n",
       "      <td>679.0</td>\n",
       "      <td>7.511435</td>\n",
       "      <td>266.672268</td>\n",
       "      <td>377.600947</td>\n",
       "      <td>17316.0</td>\n",
       "      <td>2.0</td>\n",
       "    </tr>\n",
       "    <tr>\n",
       "      <th>1160</th>\n",
       "      <td>651.0</td>\n",
       "      <td>7.733587</td>\n",
       "      <td>276.283134</td>\n",
       "      <td>384.113008</td>\n",
       "      <td>17105.0</td>\n",
       "      <td>2.0</td>\n",
       "    </tr>\n",
       "    <tr>\n",
       "      <th>1161</th>\n",
       "      <td>673.0</td>\n",
       "      <td>8.015181</td>\n",
       "      <td>278.792851</td>\n",
       "      <td>386.515926</td>\n",
       "      <td>17456.0</td>\n",
       "      <td>2.0</td>\n",
       "    </tr>\n",
       "    <tr>\n",
       "      <th>1162</th>\n",
       "      <td>703.0</td>\n",
       "      <td>8.384874</td>\n",
       "      <td>286.906112</td>\n",
       "      <td>386.703883</td>\n",
       "      <td>18128.0</td>\n",
       "      <td>2.0</td>\n",
       "    </tr>\n",
       "    <tr>\n",
       "      <th>1163</th>\n",
       "      <td>695.0</td>\n",
       "      <td>8.167151</td>\n",
       "      <td>292.129336</td>\n",
       "      <td>382.060062</td>\n",
       "      <td>18564.0</td>\n",
       "      <td>2.0</td>\n",
       "    </tr>\n",
       "  </tbody>\n",
       "</table>\n",
       "</div>"
      ],
      "text/plain": [
       "       area         z           x           y  intensity_image  label\n",
       "1154  530.0  8.365929  292.713699  370.512575          13877.0    2.0\n",
       "1155  516.0  7.585339  276.096631  363.489152          13505.0    2.0\n",
       "1156  673.0  8.377027  251.466057  356.189643          17264.0    2.0\n",
       "1157  604.0  7.769122  255.794342  364.197913          15623.0    2.0\n",
       "1158  788.0  7.729789  261.234941  370.648844          19507.0    2.0\n",
       "1159  679.0  7.511435  266.672268  377.600947          17316.0    2.0\n",
       "1160  651.0  7.733587  276.283134  384.113008          17105.0    2.0\n",
       "1161  673.0  8.015181  278.792851  386.515926          17456.0    2.0\n",
       "1162  703.0  8.384874  286.906112  386.703883          18128.0    2.0\n",
       "1163  695.0  8.167151  292.129336  382.060062          18564.0    2.0"
      ]
     },
     "execution_count": 61,
     "metadata": {},
     "output_type": "execute_result"
    }
   ],
   "source": [
    "df_red['neuron_002']"
   ]
  },
  {
   "cell_type": "code",
   "execution_count": 55,
   "id": "0cbcbd6a",
   "metadata": {},
   "outputs": [],
   "source": [
    "# # v = napari.view_image(project_data.red_data[])\n",
    "# import napari\n",
    "# napari.view_labels(reindexed_masks2)"
   ]
  },
  {
   "cell_type": "code",
   "execution_count": 56,
   "id": "3705bd52",
   "metadata": {},
   "outputs": [
    {
     "data": {
      "text/plain": [
       "1163    26.183019\n",
       "1160    26.172481\n",
       "1161    25.652303\n",
       "1162    25.865894\n",
       "1159    24.755076\n",
       "1154    25.502209\n",
       "1158    26.274962\n",
       "1155    25.937593\n",
       "1157    25.786629\n",
       "1156    26.710791\n",
       "dtype: float64"
      ]
     },
     "execution_count": 56,
     "metadata": {},
     "output_type": "execute_result"
    }
   ],
   "source": [
    "df_red['neuron_002']['intensity_image'] / df_red['neuron_002']['area']"
   ]
  },
  {
   "cell_type": "code",
   "execution_count": null,
   "id": "a3f84dc5",
   "metadata": {},
   "outputs": [],
   "source": []
  },
  {
   "cell_type": "code",
   "execution_count": null,
   "id": "df3452ca",
   "metadata": {},
   "outputs": [],
   "source": []
  },
  {
   "cell_type": "code",
   "execution_count": null,
   "id": "aa216882",
   "metadata": {},
   "outputs": [],
   "source": []
  },
  {
   "cell_type": "code",
   "execution_count": null,
   "id": "a65d0860",
   "metadata": {},
   "outputs": [],
   "source": []
  },
  {
   "cell_type": "code",
   "execution_count": null,
   "id": "034c991c",
   "metadata": {},
   "outputs": [],
   "source": []
  },
  {
   "cell_type": "code",
   "execution_count": null,
   "id": "af15ce14",
   "metadata": {},
   "outputs": [],
   "source": []
  },
  {
   "cell_type": "markdown",
   "id": "fd7c2d50",
   "metadata": {},
   "source": [
    "# Visualize matches"
   ]
  },
  {
   "cell_type": "code",
   "execution_count": 120,
   "id": "24c3a500",
   "metadata": {},
   "outputs": [],
   "source": [
    "# Process into single set of matches\n",
    "from scipy.optimize import linear_sum_assignment\n",
    "import numpy as np\n",
    "from scipy.sparse import coo_matrix"
   ]
  },
  {
   "cell_type": "code",
   "execution_count": 121,
   "id": "a812daaa",
   "metadata": {},
   "outputs": [],
   "source": [
    "# Note: the second index in the match is the template\n",
    "# Combine the matches from each template by summing the confidence\n",
    "\n",
    "# First, convert each to a sparse matrix\n",
    "# i_match = 0\n",
    "all_final_conf = []\n",
    "all_individual_conf = []\n",
    "shape = (121, 121)\n",
    "\n",
    "for i_match in range(num_templates):\n",
    "    all_conf = []\n",
    "\n",
    "    for i_template in range(num_templates):\n",
    "        m = np.array(matches_per_template[i_template][i_match])\n",
    "        row, col, data = m[:,0], m[:,1], m[:,2]\n",
    "    #     shape = (int(max(row))+1, int(max(col))+1)\n",
    "        conf = coo_matrix((data, (row, col)), shape=shape, dtype=float)\n",
    "        all_conf.append(conf)\n",
    "    final_conf = sum(all_conf)\n",
    "    \n",
    "    all_individual_conf.append(all_conf)\n",
    "    all_final_conf.append(final_conf)\n",
    "#     other_frame_conf = sum(all_conf[1:])\n"
   ]
  },
  {
   "cell_type": "code",
   "execution_count": 122,
   "id": "70288a07",
   "metadata": {},
   "outputs": [
    {
     "data": {
      "application/vnd.jupyter.widget-view+json": {
       "model_id": "f4601a9d4b31440eb2c10bd41b792ef8",
       "version_major": 2,
       "version_minor": 0
      },
      "text/plain": [
       "interactive(children=(IntSlider(value=0, description='i_template', max=9), IntSlider(value=7, description='i_t…"
      ]
     },
     "metadata": {},
     "output_type": "display_data"
    },
    {
     "data": {
      "text/plain": [
       "<function __main__.f(i_template=0, i_test=7)>"
      ]
     },
     "execution_count": 122,
     "metadata": {},
     "output_type": "execute_result"
    }
   ],
   "source": [
    "from ipywidgets import interact\n",
    "def f(i_template=0, i_test=7):\n",
    "    %matplotlib inline\n",
    "    plt.figure(figsize=(25, 15))\n",
    "    plt.imshow(all_individual_conf[i_test][i_template].toarray())\n",
    "    plt.title(\"Accuracy for 1 template frame\")\n",
    "    plt.colorbar()\n",
    "    \n",
    "    plt.show()\n",
    "\n",
    "interact(f, i_template=(0,num_templates-1), i_test=(0,num_templates-1))"
   ]
  },
  {
   "cell_type": "code",
   "execution_count": 123,
   "id": "8008e965",
   "metadata": {},
   "outputs": [
    {
     "data": {
      "application/vnd.jupyter.widget-view+json": {
       "model_id": "d7da3f4ce7cb4f129b1b27905b2eec96",
       "version_major": 2,
       "version_minor": 0
      },
      "text/plain": [
       "interactive(children=(IntSlider(value=4, description='i_test', max=9), Output()), _dom_classes=('widget-intera…"
      ]
     },
     "metadata": {},
     "output_type": "display_data"
    },
    {
     "data": {
      "text/plain": [
       "<function __main__.f(i_test)>"
      ]
     },
     "execution_count": 123,
     "metadata": {},
     "output_type": "execute_result"
    }
   ],
   "source": [
    "from ipywidgets import interact\n",
    "def f(i_test):\n",
    "    %matplotlib inline\n",
    "    plt.figure(figsize=(25, 15))\n",
    "    plt.imshow(all_final_conf[i_test].toarray())\n",
    "    plt.title(\"Accuracy all templates\")\n",
    "    plt.colorbar()\n",
    "    \n",
    "    plt.show()\n",
    "\n",
    "interact(f, i_test=(0,9))"
   ]
  },
  {
   "cell_type": "code",
   "execution_count": null,
   "id": "fe699d28",
   "metadata": {},
   "outputs": [],
   "source": []
  },
  {
   "cell_type": "code",
   "execution_count": null,
   "id": "b4d7d249",
   "metadata": {},
   "outputs": [],
   "source": []
  },
  {
   "cell_type": "markdown",
   "id": "f45e2f57",
   "metadata": {},
   "source": [
    "# What is the expected format for color input?"
   ]
  },
  {
   "cell_type": "code",
   "execution_count": null,
   "id": "33ff255c",
   "metadata": {},
   "outputs": [],
   "source": [
    "template = __load_fdnc_template()"
   ]
  },
  {
   "cell_type": "code",
   "execution_count": null,
   "id": "9827807e",
   "metadata": {
    "scrolled": false
   },
   "outputs": [],
   "source": [
    "template['color'].dtype"
   ]
  },
  {
   "cell_type": "code",
   "execution_count": null,
   "id": "093d8714",
   "metadata": {},
   "outputs": [],
   "source": []
  }
 ],
 "metadata": {
  "kernelspec": {
   "display_name": "Python 3 (ipykernel)",
   "language": "python",
   "name": "python3"
  },
  "language_info": {
   "codemirror_mode": {
    "name": "ipython",
    "version": 3
   },
   "file_extension": ".py",
   "mimetype": "text/x-python",
   "name": "python",
   "nbconvert_exporter": "python",
   "pygments_lexer": "ipython3",
   "version": "3.7.11"
  }
 },
 "nbformat": 4,
 "nbformat_minor": 5
}
