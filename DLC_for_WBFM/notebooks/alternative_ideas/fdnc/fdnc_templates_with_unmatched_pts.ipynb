{
 "cells": [
  {
   "cell_type": "code",
   "execution_count": 1,
   "id": "7de56f55",
   "metadata": {},
   "outputs": [
    {
     "name": "stderr",
     "output_type": "stream",
     "text": [
      "\n",
      "Bad key \"text.kerning_factor\" on line 4 in\n",
      "/home/charles/anaconda3/envs/torch/lib/python3.7/site-packages/matplotlib/mpl-data/stylelib/_classic_test_patch.mplstyle.\n",
      "You probably need to get an updated matplotlibrc file from\n",
      "http://github.com/matplotlib/matplotlib/blob/master/matplotlibrc.template\n",
      "or from the matplotlib source distribution\n"
     ]
    }
   ],
   "source": [
    "%load_ext autoreload\n",
    "%autoreload 2\n",
    "import matplotlib.pyplot as plt\n",
    "from DLC_for_WBFM.utils.xinwei_fdnc.formatting import zimmer2leifer\n",
    "from DLC_for_WBFM.utils.xinwei_fdnc.predict import load_fdnc_options_and_template, track_using_fdnc\n",
    "import numpy as np\n",
    "# Process into single set of matches\n",
    "from scipy.optimize import linear_sum_assignment\n",
    "import numpy as np\n",
    "from scipy.sparse import coo_matrix"
   ]
  },
  {
   "cell_type": "code",
   "execution_count": 2,
   "id": "f64207e9",
   "metadata": {},
   "outputs": [
    {
     "name": "stderr",
     "output_type": "stream",
     "text": [
      "WARNING:root:Did not find file /scratch/zimmer/Charles/dlc_stacks/worm3-2021_09_29/4-traces/red_traces.h5\n",
      "WARNING:root:Did not find file /scratch/zimmer/Charles/dlc_stacks/worm3-2021_09_29/4-traces/green_traces.h5\n",
      "WARNING:root:Did not find file /scratch/zimmer/Charles/dlc_stacks/worm3-2021_09_29/4-traces/reindexed_masks.zarr\n"
     ]
    },
    {
     "name": "stdout",
     "output_type": "stream",
     "text": [
      "=======================================\n",
      "Project data for directory:\n",
      "/scratch/zimmer/Charles/dlc_stacks/worm3-2021_09_29 \n",
      "=======================================\n",
      "Found the following raw data files:\n",
      "red_data: True\n",
      "green_data: True\n",
      "============Segmentation===============\n",
      "raw_segmentation: True\n",
      "segmentation: False\n",
      "============Tracklets==================\n",
      "df_training_tracklets: True\n",
      "reindexed_masks_training: True\n",
      "============Traces=====================\n",
      "red_traces: False\n",
      "green_traces: False\n",
      "final_tracks: True\n",
      "behavior_annotations: True\n",
      "\n"
     ]
    }
   ],
   "source": [
    "from DLC_for_WBFM.utils.projects.finished_project_data import ProjectData\n",
    "fname = \"/scratch/zimmer/Charles/dlc_stacks/worm3-2021_09_29/project_config.yaml\"\n",
    "# fname = \"/scratch/zimmer/Charles/dlc_stacks/project-pytest/project_config.yaml\"\n",
    "project_data = ProjectData.load_final_project_data_from_config(fname)"
   ]
  },
  {
   "cell_type": "code",
   "execution_count": 75,
   "id": "5f997793",
   "metadata": {},
   "outputs": [],
   "source": [
    "import pandas as pd\n",
    "from collections import defaultdict\n",
    "from tqdm.auto import tqdm\n",
    "from fDNC.src.DNC_predict import pre_matt, predict_matches, filter_matches\n",
    "from DLC_for_WBFM.utils.projects.utils_neuron_names import int2name\n",
    "from DLC_for_WBFM.utils.xinwei_fdnc.formatting import flatten_nested_list\n",
    "\n",
    "def track_using_fdnc_ONLY_TRAINING(project_dat: ProjectData,\n",
    "                                   template_pos,\n",
    "                                   prediction_options,\n",
    "                                   match_confidence_threshold,\n",
    "                                   num_frames):\n",
    "    # Loop through detections and match all to template\n",
    "\n",
    "    # Initialize\n",
    "#     num_frames = project_dat.num_frames - 1\n",
    "    coords = ['z', 'x', 'y', 'likelihood']\n",
    "\n",
    "    sz = (num_frames, len(coords))\n",
    "    neuron_arrays = defaultdict(lambda: np.zeros(sz))\n",
    "    all_matches = []\n",
    "    for i_frame in tqdm(range(num_frames), total=num_frames, leave=False):\n",
    "\n",
    "        pts = project_dat.get_centroids_as_numpy_training_with_unmatched(i_frame)\n",
    "        pts_scaled = zimmer2leifer(pts)\n",
    "        # Match\n",
    "        _, matches = predict_matches(test_pos=pts_scaled, template_pos=template_pos, **prediction_options)\n",
    "        matches = flatten_nested_list(matches)\n",
    "        matches = filter_matches(matches, match_confidence_threshold)\n",
    "\n",
    "        # For each match, save location\n",
    "        for m in matches:\n",
    "            this_unscaled_pt = pts[m[1]]\n",
    "            this_template_idx = m[0]\n",
    "\n",
    "            neuron_arrays[this_template_idx][i_frame, :3] = this_unscaled_pt\n",
    "            neuron_arrays[this_template_idx][i_frame, 3] = m[2]  # Match confidence\n",
    "        all_matches.append(matches)\n",
    "\n",
    "    # Convert to pandas multiindexing formatting\n",
    "    new_dict = {}\n",
    "    for i_template, data in neuron_arrays.items():\n",
    "        for i_col, coord_name in enumerate(coords):\n",
    "            # Note: these neuron names are final for all subsequent steps\n",
    "            k = (int2name(i_template + 1), coord_name)\n",
    "            new_dict[k] = data[:, i_col]\n",
    "\n",
    "    df = pd.DataFrame(new_dict)\n",
    "\n",
    "    return df, all_matches\n",
    "\n",
    "def generate_template(i):\n",
    "#     custom_template = project_data.get_centroids_as_numpy_training_with_unmatched(i)\n",
    "    custom_template = project_data.get_centroids_as_numpy_training(i)\n",
    "    return zimmer2leifer(custom_template)"
   ]
  },
  {
   "cell_type": "code",
   "execution_count": 76,
   "id": "a0316fad",
   "metadata": {},
   "outputs": [],
   "source": [
    "num_templates = project_data.reindexed_metadata_training.num_frames\n",
    "all_templates = [generate_template(i) for i in range(num_templates)]\n",
    "\n",
    "base_prediction_options, _, _ = load_fdnc_options_and_template()\n",
    "base_prediction_options['topn'] = 1\n",
    "\n",
    "match_confidence_threshold = 0.3"
   ]
  },
  {
   "cell_type": "code",
   "execution_count": 77,
   "id": "e57e610d",
   "metadata": {},
   "outputs": [
    {
     "data": {
      "text/plain": [
       "[120, 120, 120, 120, 120, 120, 120, 120, 120, 120]"
      ]
     },
     "execution_count": 77,
     "metadata": {},
     "output_type": "execute_result"
    }
   ],
   "source": [
    "[len(t) for t in all_templates]"
   ]
  },
  {
   "cell_type": "code",
   "execution_count": 78,
   "id": "be77dbe9",
   "metadata": {},
   "outputs": [
    {
     "data": {
      "application/vnd.jupyter.widget-view+json": {
       "model_id": "6a779e6355304183a34c0d4ead0b3eee",
       "version_major": 2,
       "version_minor": 0
      },
      "text/plain": [
       "  0%|          | 0/10 [00:00<?, ?it/s]"
      ]
     },
     "metadata": {},
     "output_type": "display_data"
    },
    {
     "data": {
      "application/vnd.jupyter.widget-view+json": {
       "model_id": "",
       "version_major": 2,
       "version_minor": 0
      },
      "text/plain": [
       "  0%|          | 0/10 [00:00<?, ?it/s]"
      ]
     },
     "metadata": {},
     "output_type": "display_data"
    },
    {
     "data": {
      "application/vnd.jupyter.widget-view+json": {
       "model_id": "",
       "version_major": 2,
       "version_minor": 0
      },
      "text/plain": [
       "  0%|          | 0/10 [00:00<?, ?it/s]"
      ]
     },
     "metadata": {},
     "output_type": "display_data"
    },
    {
     "data": {
      "application/vnd.jupyter.widget-view+json": {
       "model_id": "",
       "version_major": 2,
       "version_minor": 0
      },
      "text/plain": [
       "  0%|          | 0/10 [00:00<?, ?it/s]"
      ]
     },
     "metadata": {},
     "output_type": "display_data"
    },
    {
     "data": {
      "application/vnd.jupyter.widget-view+json": {
       "model_id": "",
       "version_major": 2,
       "version_minor": 0
      },
      "text/plain": [
       "  0%|          | 0/10 [00:00<?, ?it/s]"
      ]
     },
     "metadata": {},
     "output_type": "display_data"
    },
    {
     "data": {
      "application/vnd.jupyter.widget-view+json": {
       "model_id": "",
       "version_major": 2,
       "version_minor": 0
      },
      "text/plain": [
       "  0%|          | 0/10 [00:00<?, ?it/s]"
      ]
     },
     "metadata": {},
     "output_type": "display_data"
    },
    {
     "data": {
      "application/vnd.jupyter.widget-view+json": {
       "model_id": "",
       "version_major": 2,
       "version_minor": 0
      },
      "text/plain": [
       "  0%|          | 0/10 [00:00<?, ?it/s]"
      ]
     },
     "metadata": {},
     "output_type": "display_data"
    },
    {
     "data": {
      "application/vnd.jupyter.widget-view+json": {
       "model_id": "",
       "version_major": 2,
       "version_minor": 0
      },
      "text/plain": [
       "  0%|          | 0/10 [00:00<?, ?it/s]"
      ]
     },
     "metadata": {},
     "output_type": "display_data"
    },
    {
     "data": {
      "application/vnd.jupyter.widget-view+json": {
       "model_id": "",
       "version_major": 2,
       "version_minor": 0
      },
      "text/plain": [
       "  0%|          | 0/10 [00:00<?, ?it/s]"
      ]
     },
     "metadata": {},
     "output_type": "display_data"
    },
    {
     "data": {
      "application/vnd.jupyter.widget-view+json": {
       "model_id": "",
       "version_major": 2,
       "version_minor": 0
      },
      "text/plain": [
       "  0%|          | 0/10 [00:00<?, ?it/s]"
      ]
     },
     "metadata": {},
     "output_type": "display_data"
    },
    {
     "data": {
      "application/vnd.jupyter.widget-view+json": {
       "model_id": "",
       "version_major": 2,
       "version_minor": 0
      },
      "text/plain": [
       "  0%|          | 0/10 [00:00<?, ?it/s]"
      ]
     },
     "metadata": {},
     "output_type": "display_data"
    }
   ],
   "source": [
    "df_per_template = []\n",
    "matches_per_template = []\n",
    "for template in tqdm(all_templates):\n",
    "    df, matches = track_using_fdnc_ONLY_TRAINING(project_data, template, base_prediction_options, match_confidence_threshold, num_frames=num_templates)\n",
    "    df_per_template.append(df)\n",
    "    matches_per_template.append(matches)"
   ]
  },
  {
   "cell_type": "markdown",
   "id": "b65114ab",
   "metadata": {},
   "source": [
    "# Visualize"
   ]
  },
  {
   "cell_type": "code",
   "execution_count": 79,
   "id": "2d1c59d6",
   "metadata": {},
   "outputs": [],
   "source": [
    "# Note: the second index in the match is the template\n",
    "# Combine the matches from each template by summing the confidence\n",
    "\n",
    "# First, convert each to a sparse matrix\n",
    "# i_match = 0\n",
    "all_final_conf = []\n",
    "all_individual_conf = []\n",
    "shape = (180, 180)\n",
    "\n",
    "for i_match in range(num_templates):\n",
    "    all_conf = []\n",
    "\n",
    "    for i_template in range(num_templates):\n",
    "        m = np.array(matches_per_template[i_template][i_match])\n",
    "        row, col, data = m[:,0], m[:,1], m[:,2]\n",
    "    #     shape = (int(max(row))+1, int(max(col))+1)\n",
    "        conf = coo_matrix((data, (row, col)), shape=shape, dtype=float)\n",
    "        all_conf.append(conf)\n",
    "    final_conf = sum(all_conf)\n",
    "    \n",
    "    all_individual_conf.append(all_conf)\n",
    "    all_final_conf.append(final_conf)\n",
    "#     other_frame_conf = sum(all_conf[1:])\n"
   ]
  },
  {
   "cell_type": "code",
   "execution_count": 80,
   "id": "66fb3433",
   "metadata": {},
   "outputs": [],
   "source": [
    "# matches_per_template[i_template][i_match]\n"
   ]
  },
  {
   "cell_type": "code",
   "execution_count": 81,
   "id": "7f9534b3",
   "metadata": {},
   "outputs": [
    {
     "data": {
      "application/vnd.jupyter.widget-view+json": {
       "model_id": "bf42eb4f501e45a5b58d80aca87e8616",
       "version_major": 2,
       "version_minor": 0
      },
      "text/plain": [
       "interactive(children=(IntSlider(value=4, description='i_test', max=9), Output()), _dom_classes=('widget-intera…"
      ]
     },
     "metadata": {},
     "output_type": "display_data"
    },
    {
     "data": {
      "text/plain": [
       "<function __main__.f(i_test)>"
      ]
     },
     "execution_count": 81,
     "metadata": {},
     "output_type": "execute_result"
    }
   ],
   "source": [
    "from ipywidgets import interact\n",
    "def f(i_test):\n",
    "    %matplotlib inline\n",
    "    plt.figure(figsize=(25, 15))\n",
    "    plt.imshow(all_final_conf[i_test].toarray())\n",
    "    plt.title(\"Accuracy all templates\")\n",
    "    plt.colorbar()\n",
    "    \n",
    "    plt.show()\n",
    "\n",
    "interact(f, i_test=(0,9))"
   ]
  },
  {
   "cell_type": "markdown",
   "id": "1b52b9f1",
   "metadata": {},
   "source": [
    "# Just look at bipartite matching"
   ]
  },
  {
   "cell_type": "code",
   "execution_count": 82,
   "id": "46b80ab5",
   "metadata": {},
   "outputs": [],
   "source": [
    "from DLC_for_WBFM.utils.feature_detection.utils_networkx import calc_bipartite_from_candidates"
   ]
  },
  {
   "cell_type": "code",
   "execution_count": 83,
   "id": "cc9ba03d",
   "metadata": {
    "scrolled": false
   },
   "outputs": [],
   "source": [
    "m = matches_per_template[0]\n",
    "m = flatten_nested_list(m)\n",
    "m = np.array(m)\n",
    "m[:,2] /= 10\n",
    "matches, conf, _ = calc_bipartite_from_candidates(m, min_conf=0.1)\n",
    "m_final = [(m[0],m[1], c) for m, c in zip(matches, conf)]"
   ]
  },
  {
   "cell_type": "markdown",
   "id": "6f24baa3",
   "metadata": {},
   "source": [
    "# Summary metrics"
   ]
  },
  {
   "cell_type": "code",
   "execution_count": 87,
   "id": "fc24fdef",
   "metadata": {},
   "outputs": [],
   "source": [
    "from DLC_for_WBFM.utils.performance.comparing_ground_truth import calc_summary_scores_for_training_data, get_confidences_of_tp_and_outliers"
   ]
  },
  {
   "cell_type": "code",
   "execution_count": 88,
   "id": "2049d70e",
   "metadata": {},
   "outputs": [
    {
     "name": "stdout",
     "output_type": "stream",
     "text": [
      "For pose 0, tp:  0.92, outliers:  0.07\n",
      "For pose 1, tp:  0.93, outliers:  0.05\n",
      "For pose 2, tp:  0.76, outliers:  0.19\n",
      "For pose 3, tp:  0.97, outliers:  0.03\n",
      "For pose 4, tp:  0.94, outliers:  0.03\n",
      "For pose 5, tp:  0.95, outliers:  0.03\n",
      "For pose 6, tp:  0.87, outliers:  0.11\n",
      "For pose 7, tp:  0.85, outliers:  0.09\n",
      "For pose 8, tp:  0.87, outliers:  0.07\n",
      "For pose 9, tp:  0.72, outliers:  0.17\n"
     ]
    }
   ],
   "source": [
    "for i in range(10):\n",
    "    m = matches_per_template[i]\n",
    "    m = flatten_nested_list(m)\n",
    "    m = np.array(m)\n",
    "    m[:,2] /= 10\n",
    "    matches, conf, _ = calc_bipartite_from_candidates(m, min_conf=0.1)\n",
    "    m_final = [(m[0],m[1], c) for m, c in zip(matches, conf)]\n",
    "\n",
    "    num_tp, num_outliers, num_missing, max_possible = calc_summary_scores_for_training_data(m_final, max_possible=120)\n",
    "\n",
    "    print(f\"For pose {i}, tp: {num_tp / max_possible: .2f}, outliers: {num_outliers / max_possible: .2f}\")"
   ]
  },
  {
   "cell_type": "code",
   "execution_count": 94,
   "id": "a49e4f74",
   "metadata": {
    "scrolled": false
   },
   "outputs": [
    {
     "data": {
      "image/png": "[encoded data removed]",
      "text/plain": [
       "<Figure size 432x288 with 1 Axes>"
      ]
     },
     "metadata": {
      "needs_background": "light"
     },
     "output_type": "display_data"
    },
    {
     "data": {
      "image/png": "[encoded data removed]",
      "text/plain": [
       "<Figure size 432x288 with 1 Axes>"
      ]
     },
     "metadata": {
      "needs_background": "light"
     },
     "output_type": "display_data"
    },
    {
     "data": {
      "image/png": "[encoded data removed]",
      "text/plain": [
       "<Figure size 432x288 with 1 Axes>"
      ]
     },
     "metadata": {
      "needs_background": "light"
     },
     "output_type": "display_data"
    },
    {
     "data": {
      "image/png": "[encoded data removed]",
      "text/plain": [
       "<Figure size 432x288 with 1 Axes>"
      ]
     },
     "metadata": {
      "needs_background": "light"
     },
     "output_type": "display_data"
    },
    {
     "data": {
      "image/png": "[encoded data removed]",
      "text/plain": [
       "<Figure size 432x288 with 1 Axes>"
      ]
     },
     "metadata": {
      "needs_background": "light"
     },
     "output_type": "display_data"
    },
    {
     "data": {
      "image/png": "[encoded data removed]",
      "text/plain": [
       "<Figure size 432x288 with 1 Axes>"
      ]
     },
     "metadata": {
      "needs_background": "light"
     },
     "output_type": "display_data"
    },
    {
     "data": {
      "image/png": "[encoded data removed]",
      "text/plain": [
       "<Figure size 432x288 with 1 Axes>"
      ]
     },
     "metadata": {
      "needs_background": "light"
     },
     "output_type": "display_data"
    },
    {
     "data": {
      "image/png": "[encoded data removed]",
      "text/plain": [
       "<Figure size 432x288 with 1 Axes>"
      ]
     },
     "metadata": {
      "needs_background": "light"
     },
     "output_type": "display_data"
    },
    {
     "data": {
      "image/png": "[encoded data removed]",
      "text/plain": [
       "<Figure size 432x288 with 1 Axes>"
      ]
     },
     "metadata": {
      "needs_background": "light"
     },
     "output_type": "display_data"
    },
    {
     "data": {
      "image/png": "[encoded data removed]",
      "text/plain": [
       "<Figure size 432x288 with 1 Axes>"
      ]
     },
     "metadata": {
      "needs_background": "light"
     },
     "output_type": "display_data"
    }
   ],
   "source": [
    "for i in range(10):\n",
    "    m = matches_per_template[i]\n",
    "    m = flatten_nested_list(m)\n",
    "    m = np.array(m)\n",
    "    m[:,2] /= 10\n",
    "    matches, conf, _ = calc_bipartite_from_candidates(m, min_conf=0.0)\n",
    "    m_final = [(m[0], m[1], c) for m, c in zip(matches, conf)]\n",
    "    tp, out = get_confidences_of_tp_and_outliers(m_final)\n",
    "    plt.figure()\n",
    "    plt.hist([tp, out], stacked=True)\n",
    "    plt.title(f\"Pose {i}\")"
   ]
  },
  {
   "cell_type": "markdown",
   "id": "0ec1e455",
   "metadata": {},
   "source": [
    "# Total confidence of each template match set"
   ]
  },
  {
   "cell_type": "code",
   "execution_count": 118,
   "id": "898ed8ff",
   "metadata": {},
   "outputs": [],
   "source": [
    "all_confs = []\n",
    "\n",
    "for i in range(10):\n",
    "    matches_this_template = matches_per_template[i]\n",
    "    \n",
    "    these_conf = []\n",
    "    for i2, m in enumerate(matches_this_template):\n",
    "        m = np.array(m)\n",
    "        m = np.array(filter_matches(m, 0.0))\n",
    "        these_conf.append(np.sum(m[:, 2]))\n",
    "    all_confs.append(these_conf)\n",
    "#         print(f\"Template {i}, pose {i2}\", np.sum(m[:, 2]))\n",
    "    "
   ]
  },
  {
   "cell_type": "code",
   "execution_count": 120,
   "id": "2eb2e95a",
   "metadata": {},
   "outputs": [
    {
     "data": {
      "application/vnd.jupyter.widget-view+json": {
       "model_id": "f564f92086c4449abcac85d3806fa988",
       "version_major": 2,
       "version_minor": 0
      },
      "text/plain": [
       "interactive(children=(IntSlider(value=4, description='i', max=9), Output()), _dom_classes=('widget-interact',)…"
      ]
     },
     "metadata": {},
     "output_type": "display_data"
    },
    {
     "data": {
      "text/plain": [
       "<function __main__.f(i)>"
      ]
     },
     "execution_count": 120,
     "metadata": {},
     "output_type": "execute_result"
    }
   ],
   "source": [
    "def f(i):\n",
    "    plt.plot(all_confs[i])\n",
    "    plt.title(f\"{i}\")\n",
    "    plt.scatter(i, 100)\n",
    "    plt.show()\n",
    "    \n",
    "interact(f, i=(0,9))"
   ]
  },
  {
   "cell_type": "code",
   "execution_count": 121,
   "id": "ea1c01e1",
   "metadata": {},
   "outputs": [
    {
     "data": {
      "application/vnd.jupyter.widget-view+json": {
       "model_id": "1694ce6897e7411a99634ebe0a9ec252",
       "version_major": 2,
       "version_minor": 0
      },
      "text/plain": [
       "interactive(children=(IntSlider(value=4, description='i_template', max=9), IntSlider(value=4, description='i_t…"
      ]
     },
     "metadata": {},
     "output_type": "display_data"
    },
    {
     "data": {
      "text/plain": [
       "<function __main__.f(i_template, i_test)>"
      ]
     },
     "execution_count": 121,
     "metadata": {},
     "output_type": "execute_result"
    }
   ],
   "source": [
    "from ipywidgets import interact\n",
    "def f(i_template, i_test):\n",
    "    %matplotlib inline\n",
    "    plt.figure(figsize=(25, 15))\n",
    "    plt.imshow(all_individual_conf[i_test][i_template].toarray())\n",
    "    plt.title(\"Accuracy for 1 template frame\")\n",
    "    plt.colorbar()\n",
    "    \n",
    "    plt.show()\n",
    "\n",
    "interact(f, i_template=(0,9), i_test=(0,9))"
   ]
  },
  {
   "cell_type": "code",
   "execution_count": null,
   "id": "33976126",
   "metadata": {},
   "outputs": [],
   "source": []
  },
  {
   "cell_type": "code",
   "execution_count": null,
   "id": "566549ae",
   "metadata": {},
   "outputs": [],
   "source": []
  },
  {
   "cell_type": "markdown",
   "id": "620274ac",
   "metadata": {},
   "source": [
    "# Scratch"
   ]
  },
  {
   "cell_type": "code",
   "execution_count": 19,
   "id": "9e0342d3",
   "metadata": {},
   "outputs": [],
   "source": [
    "m = project_data.get_centroids_as_numpy_training_with_unmatched(0)"
   ]
  },
  {
   "cell_type": "code",
   "execution_count": 24,
   "id": "77f2c405",
   "metadata": {},
   "outputs": [
    {
     "data": {
      "text/plain": [
       "[<matplotlib.lines.Line2D at 0x7fa5da2f9290>]"
      ]
     },
     "execution_count": 24,
     "metadata": {},
     "output_type": "execute_result"
    },
    {
     "data": {
      "image/png": "[encoded data removed]",
      "text/plain": [
       "<Figure size 432x288 with 1 Axes>"
      ]
     },
     "metadata": {
      "needs_background": "light"
     },
     "output_type": "display_data"
    }
   ],
   "source": [
    "plt.plot(m[:, 1], m[:, 2], '.')"
   ]
  },
  {
   "cell_type": "code",
   "execution_count": 22,
   "id": "33c11b56",
   "metadata": {},
   "outputs": [],
   "source": [
    "m0 = project_data.get_centroids_as_numpy_training(0)\n",
    "m1 = project_data.get_centroids_as_numpy(1154)"
   ]
  },
  {
   "cell_type": "code",
   "execution_count": 23,
   "id": "7cf67bdf",
   "metadata": {},
   "outputs": [
    {
     "data": {
      "text/plain": [
       "[<matplotlib.lines.Line2D at 0x7fa5caf46190>]"
      ]
     },
     "execution_count": 23,
     "metadata": {},
     "output_type": "execute_result"
    },
    {
     "data": {
      "image/png": "[encoded data removed]",
      "text/plain": [
       "<Figure size 432x288 with 1 Axes>"
      ]
     },
     "metadata": {
      "needs_background": "light"
     },
     "output_type": "display_data"
    }
   ],
   "source": [
    "plt.plot(m0[:, 1], m0[:, 2], 'o')\n",
    "plt.plot(m1[:, 1], m1[:, 2], '*')"
   ]
  },
  {
   "cell_type": "code",
   "execution_count": 35,
   "id": "7b7a6204",
   "metadata": {},
   "outputs": [],
   "source": [
    "from scipy.spatial.distance import cdist\n",
    "tol = 2.0\n",
    "ind_unmatched = ~np.any(cdist(m1, m0) < tol, axis=1)"
   ]
  },
  {
   "cell_type": "code",
   "execution_count": 38,
   "id": "0de36907",
   "metadata": {},
   "outputs": [
    {
     "data": {
      "text/plain": [
       "array([False, False, False, False, False, False, False, False,  True,\n",
       "       False,  True, False, False, False, False, False, False, False,\n",
       "       False,  True, False,  True, False, False, False,  True, False,\n",
       "       False, False, False, False, False, False, False,  True,  True,\n",
       "       False, False,  True, False, False, False,  True, False, False,\n",
       "        True, False, False, False, False, False, False, False, False,\n",
       "       False,  True, False, False,  True,  True,  True, False, False,\n",
       "       False, False,  True, False, False, False,  True, False, False,\n",
       "       False,  True, False,  True, False,  True,  True, False, False,\n",
       "       False,  True,  True,  True, False, False,  True, False,  True,\n",
       "       False,  True,  True, False, False, False, False, False, False,\n",
       "       False, False, False, False, False, False,  True, False, False,\n",
       "       False, False,  True, False, False,  True, False, False, False,\n",
       "       False, False, False,  True, False,  True, False, False, False,\n",
       "        True,  True, False, False, False, False, False, False, False,\n",
       "        True, False,  True,  True, False, False, False, False, False,\n",
       "        True, False, False, False, False, False, False, False, False,\n",
       "       False, False,  True, False,  True, False, False,  True])"
      ]
     },
     "execution_count": 38,
     "metadata": {},
     "output_type": "execute_result"
    }
   ],
   "source": [
    "ind_unmatched"
   ]
  },
  {
   "cell_type": "code",
   "execution_count": 33,
   "id": "91546374",
   "metadata": {},
   "outputs": [
    {
     "data": {
      "text/plain": [
       "161"
      ]
     },
     "execution_count": 33,
     "metadata": {},
     "output_type": "execute_result"
    }
   ],
   "source": [
    "len(m1)"
   ]
  },
  {
   "cell_type": "code",
   "execution_count": null,
   "id": "f2bfed41",
   "metadata": {},
   "outputs": [],
   "source": []
  }
 ],
 "metadata": {
  "kernelspec": {
   "display_name": "Python 3 (ipykernel)",
   "language": "python",
   "name": "python3"
  },
  "language_info": {
   "codemirror_mode": {
    "name": "ipython",
    "version": 3
   },
   "file_extension": ".py",
   "mimetype": "text/x-python",
   "name": "python",
   "nbconvert_exporter": "python",
   "pygments_lexer": "ipython3",
   "version": "3.7.11"
  }
 },
 "nbformat": 4,
 "nbformat_minor": 5
}
