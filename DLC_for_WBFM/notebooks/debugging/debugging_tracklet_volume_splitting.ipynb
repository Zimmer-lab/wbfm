{
 "cells": [
  {
   "cell_type": "code",
   "execution_count": 5,
   "id": "e768c723-e783-48a5-9bdd-61d18e268820",
   "metadata": {},
   "outputs": [
    {
     "name": "stdout",
     "output_type": "stream",
     "text": [
      "The autoreload extension is already loaded. To reload it, use:\n",
      "  %reload_ext autoreload\n"
     ]
    }
   ],
   "source": [
    "%load_ext autoreload\n",
    "%autoreload 2\n",
    "import matplotlib.pyplot as plt\n",
    "from wbfm.utils.projects.finished_project_data import ProjectData\n",
    "import napari\n",
    "import pandas as pd\n",
    "import numpy as np\n",
    "from wbfm.utils.neuron_matching.class_frame_pair import FramePair\n"
   ]
  },
  {
   "cell_type": "code",
   "execution_count": 6,
   "id": "6db8e073-4831-47d2-966b-57f19ab82eac",
   "metadata": {},
   "outputs": [
    {
     "name": "stderr",
     "output_type": "stream",
     "text": [
      "WARNING:root:Did not find file /scratch/zimmer/Charles/dlc_stacks/worm10-gui_test/4-traces/red_traces.h5\n",
      "WARNING:root:Did not find file /scratch/zimmer/Charles/dlc_stacks/worm10-gui_test/4-traces/green_traces.h5\n",
      "WARNING:root:Did not find file /scratch/zimmer/Charles/dlc_stacks/worm10-gui_test/3-tracking/postprocessing/manual_behavior_annotation.xlsx\n",
      "WARNING:root:Did not find file /scratch/zimmer/Charles/dlc_stacks/worm10-gui_test/3-tracking/manual_annotation/split_names.pickle\n",
      "WARNING:root:Did not find file /scratch/zimmer/Charles/dlc_stacks/worm10-gui_test/3-tracking/manual_annotation/split_times.pickle\n"
     ]
    },
    {
     "name": "stdout",
     "output_type": "stream",
     "text": [
      "Output files for annotator: /scratch/zimmer/Charles/dlc_stacks/worm10-gui_test/3-tracking/manual_annotation/global2tracklet_manual.pickle, /scratch/zimmer/Charles/dlc_stacks/worm10-gui_test/3-tracking/manual_annotation/manually_split_tracklets.h5, /scratch/zimmer/Charles/dlc_stacks/worm10-gui_test/3-tracking/manual_annotation/split_names.pickle, /scratch/zimmer/Charles/dlc_stacks/worm10-gui_test/3-tracking/manual_annotation/split_times.pickle\n",
      "=======================================\n",
      "Project data for directory:\n",
      "/scratch/zimmer/Charles/dlc_stacks/worm10-gui_test \n",
      "Found the following data files:\n",
      "============Raw========================\n",
      "red_data:                 True\n",
      "green_data:               True\n",
      "============Annotations================\n",
      "behavior_annotations:     False\n",
      "============Training================\n",
      "df_training_tracklets:    True\n",
      "============Segmentation===============\n",
      "raw_segmentation:         True\n",
      "colored_segmentation:     True\n",
      "============Traces=====================\n",
      "red_traces:               False\n",
      "green_traces:             False\n",
      "\n"
     ]
    }
   ],
   "source": [
    "fname = \"/scratch/zimmer/Charles/dlc_stacks/worm10-gui_test/project_config.yaml\"\n",
    "project_data = ProjectData.load_final_project_data_from_config(fname, to_load_tracklets=True, to_load_segmentation_metadata=True)"
   ]
  },
  {
   "cell_type": "code",
   "execution_count": 29,
   "id": "8fd19df4-e9cb-4bb8-b6ca-00ab32cfe0a3",
   "metadata": {},
   "outputs": [],
   "source": [
    "df_all_tracklets = project_data.df_all_tracklets.copy()"
   ]
  },
  {
   "cell_type": "code",
   "execution_count": 30,
   "id": "b29451d7-ccbd-44aa-925f-4d6bb23ff6ca",
   "metadata": {},
   "outputs": [],
   "source": [
    "from wbfm.utils.tracklets.tracklet_pipeline import filter_tracklets_using_volume"
   ]
  },
  {
   "cell_type": "code",
   "execution_count": 78,
   "id": "fa025861-9a31-435e-9640-d45975be83bf",
   "metadata": {},
   "outputs": [
    {
     "name": "stdout",
     "output_type": "stream",
     "text": [
      "New tracklets starting at index: 19010\n"
     ]
    },
    {
     "data": {
      "application/vnd.jupyter.widget-view+json": {
       "model_id": "",
       "version_major": 2,
       "version_minor": 0
      },
      "text/plain": [
       "  0%|          | 0/15702 [00:00<?, ?it/s]"
      ]
     },
     "metadata": {},
     "output_type": "display_data"
    },
    {
     "name": "stdout",
     "output_type": "stream",
     "text": [
      "Split 15702 raw tracklets into 18614 new tracklets\n",
      "Now concatenating...\n",
      "Finished\n"
     ]
    },
    {
     "ename": "AttributeError",
     "evalue": "'tuple' object has no attribute 'head'",
     "output_type": "error",
     "traceback": [
      "\u001b[0;31m---------------------------------------------------------------------------\u001b[0m",
      "\u001b[0;31mAttributeError\u001b[0m                            Traceback (most recent call last)",
      "\u001b[0;32m/tmp/ipykernel_10060/845102981.py\u001b[0m in \u001b[0;36m<module>\u001b[0;34m\u001b[0m\n\u001b[1;32m      1\u001b[0m \u001b[0mout\u001b[0m \u001b[0;34m=\u001b[0m \u001b[0mfilter_tracklets_using_volume\u001b[0m\u001b[0;34m(\u001b[0m\u001b[0mdf_all_tracklets\u001b[0m\u001b[0;34m,\u001b[0m \u001b[0;36m0.4\u001b[0m\u001b[0;34m,\u001b[0m \u001b[0;36m5\u001b[0m\u001b[0;34m,\u001b[0m \u001b[0mverbose\u001b[0m\u001b[0;34m=\u001b[0m\u001b[0;36m2\u001b[0m\u001b[0;34m)\u001b[0m\u001b[0;34m\u001b[0m\u001b[0;34m\u001b[0m\u001b[0m\n\u001b[0;32m----> 2\u001b[0;31m \u001b[0mout\u001b[0m\u001b[0;34m.\u001b[0m\u001b[0mhead\u001b[0m\u001b[0;34m(\u001b[0m\u001b[0;34m)\u001b[0m\u001b[0;34m\u001b[0m\u001b[0;34m\u001b[0m\u001b[0m\n\u001b[0m",
      "\u001b[0;31mAttributeError\u001b[0m: 'tuple' object has no attribute 'head'"
     ]
    }
   ],
   "source": [
    "out = filter_tracklets_using_volume(df_all_tracklets, 0.4, 5, verbose=2)\n"
   ]
  },
  {
   "cell_type": "code",
   "execution_count": 79,
   "id": "fa61f66b-b541-455e-9f63-cef65b2e07a0",
   "metadata": {},
   "outputs": [
    {
     "data": {
      "text/html": [
       "<div>\n",
       "<style scoped>\n",
       "    .dataframe tbody tr th:only-of-type {\n",
       "        vertical-align: middle;\n",
       "    }\n",
       "\n",
       "    .dataframe tbody tr th {\n",
       "        vertical-align: top;\n",
       "    }\n",
       "\n",
       "    .dataframe thead tr th {\n",
       "        text-align: left;\n",
       "    }\n",
       "</style>\n",
       "<table border=\"1\" class=\"dataframe\">\n",
       "  <thead>\n",
       "    <tr>\n",
       "      <th>bodyparts</th>\n",
       "      <th colspan=\"7\" halign=\"left\">tracklet_0000000</th>\n",
       "      <th colspan=\"3\" halign=\"left\">tracklet_0019010</th>\n",
       "      <th>...</th>\n",
       "      <th colspan=\"3\" halign=\"left\">tracklet_0019008</th>\n",
       "      <th colspan=\"7\" halign=\"left\">tracklet_0019009</th>\n",
       "    </tr>\n",
       "    <tr>\n",
       "      <th>coords</th>\n",
       "      <th>z</th>\n",
       "      <th>x</th>\n",
       "      <th>y</th>\n",
       "      <th>likelihood</th>\n",
       "      <th>raw_neuron_id</th>\n",
       "      <th>brightness_red</th>\n",
       "      <th>volume</th>\n",
       "      <th>z</th>\n",
       "      <th>x</th>\n",
       "      <th>y</th>\n",
       "      <th>...</th>\n",
       "      <th>raw_neuron_id</th>\n",
       "      <th>brightness_red</th>\n",
       "      <th>volume</th>\n",
       "      <th>z</th>\n",
       "      <th>x</th>\n",
       "      <th>y</th>\n",
       "      <th>likelihood</th>\n",
       "      <th>raw_neuron_id</th>\n",
       "      <th>brightness_red</th>\n",
       "      <th>volume</th>\n",
       "    </tr>\n",
       "  </thead>\n",
       "  <tbody>\n",
       "    <tr>\n",
       "      <th>0</th>\n",
       "      <td>2.298340</td>\n",
       "      <td>369.992020</td>\n",
       "      <td>421.584452</td>\n",
       "      <td>0.489501</td>\n",
       "      <td>0.0</td>\n",
       "      <td>23309.0</td>\n",
       "      <td>623.0</td>\n",
       "      <td>NaN</td>\n",
       "      <td>NaN</td>\n",
       "      <td>NaN</td>\n",
       "      <td>...</td>\n",
       "      <td>NaN</td>\n",
       "      <td>NaN</td>\n",
       "      <td>NaN</td>\n",
       "      <td>NaN</td>\n",
       "      <td>NaN</td>\n",
       "      <td>NaN</td>\n",
       "      <td>NaN</td>\n",
       "      <td>NaN</td>\n",
       "      <td>NaN</td>\n",
       "      <td>NaN</td>\n",
       "    </tr>\n",
       "    <tr>\n",
       "      <th>1</th>\n",
       "      <td>2.329837</td>\n",
       "      <td>377.677613</td>\n",
       "      <td>426.027511</td>\n",
       "      <td>0.229169</td>\n",
       "      <td>5.0</td>\n",
       "      <td>24027.0</td>\n",
       "      <td>634.0</td>\n",
       "      <td>NaN</td>\n",
       "      <td>NaN</td>\n",
       "      <td>NaN</td>\n",
       "      <td>...</td>\n",
       "      <td>NaN</td>\n",
       "      <td>NaN</td>\n",
       "      <td>NaN</td>\n",
       "      <td>NaN</td>\n",
       "      <td>NaN</td>\n",
       "      <td>NaN</td>\n",
       "      <td>NaN</td>\n",
       "      <td>NaN</td>\n",
       "      <td>NaN</td>\n",
       "      <td>NaN</td>\n",
       "    </tr>\n",
       "    <tr>\n",
       "      <th>2</th>\n",
       "      <td>2.353745</td>\n",
       "      <td>389.446271</td>\n",
       "      <td>442.929934</td>\n",
       "      <td>0.450609</td>\n",
       "      <td>3.0</td>\n",
       "      <td>24577.0</td>\n",
       "      <td>646.0</td>\n",
       "      <td>NaN</td>\n",
       "      <td>NaN</td>\n",
       "      <td>NaN</td>\n",
       "      <td>...</td>\n",
       "      <td>NaN</td>\n",
       "      <td>NaN</td>\n",
       "      <td>NaN</td>\n",
       "      <td>NaN</td>\n",
       "      <td>NaN</td>\n",
       "      <td>NaN</td>\n",
       "      <td>NaN</td>\n",
       "      <td>NaN</td>\n",
       "      <td>NaN</td>\n",
       "      <td>NaN</td>\n",
       "    </tr>\n",
       "    <tr>\n",
       "      <th>3</th>\n",
       "      <td>2.587987</td>\n",
       "      <td>387.079347</td>\n",
       "      <td>461.766787</td>\n",
       "      <td>0.386212</td>\n",
       "      <td>5.0</td>\n",
       "      <td>27953.0</td>\n",
       "      <td>756.0</td>\n",
       "      <td>NaN</td>\n",
       "      <td>NaN</td>\n",
       "      <td>NaN</td>\n",
       "      <td>...</td>\n",
       "      <td>NaN</td>\n",
       "      <td>NaN</td>\n",
       "      <td>NaN</td>\n",
       "      <td>NaN</td>\n",
       "      <td>NaN</td>\n",
       "      <td>NaN</td>\n",
       "      <td>NaN</td>\n",
       "      <td>NaN</td>\n",
       "      <td>NaN</td>\n",
       "      <td>NaN</td>\n",
       "    </tr>\n",
       "    <tr>\n",
       "      <th>4</th>\n",
       "      <td>2.851653</td>\n",
       "      <td>380.041273</td>\n",
       "      <td>468.094948</td>\n",
       "      <td>0.489305</td>\n",
       "      <td>4.0</td>\n",
       "      <td>25319.0</td>\n",
       "      <td>649.0</td>\n",
       "      <td>NaN</td>\n",
       "      <td>NaN</td>\n",
       "      <td>NaN</td>\n",
       "      <td>...</td>\n",
       "      <td>NaN</td>\n",
       "      <td>NaN</td>\n",
       "      <td>NaN</td>\n",
       "      <td>NaN</td>\n",
       "      <td>NaN</td>\n",
       "      <td>NaN</td>\n",
       "      <td>NaN</td>\n",
       "      <td>NaN</td>\n",
       "      <td>NaN</td>\n",
       "      <td>NaN</td>\n",
       "    </tr>\n",
       "  </tbody>\n",
       "</table>\n",
       "<p>5 rows × 130298 columns</p>\n",
       "</div>"
      ],
      "text/plain": [
       "bodyparts tracklet_0000000                                                   \\\n",
       "coords                   z           x           y likelihood raw_neuron_id   \n",
       "0                 2.298340  369.992020  421.584452   0.489501           0.0   \n",
       "1                 2.329837  377.677613  426.027511   0.229169           5.0   \n",
       "2                 2.353745  389.446271  442.929934   0.450609           3.0   \n",
       "3                 2.587987  387.079347  461.766787   0.386212           5.0   \n",
       "4                 2.851653  380.041273  468.094948   0.489305           4.0   \n",
       "\n",
       "bodyparts                       tracklet_0019010          ...  \\\n",
       "coords    brightness_red volume                z   x   y  ...   \n",
       "0                23309.0  623.0              NaN NaN NaN  ...   \n",
       "1                24027.0  634.0              NaN NaN NaN  ...   \n",
       "2                24577.0  646.0              NaN NaN NaN  ...   \n",
       "3                27953.0  756.0              NaN NaN NaN  ...   \n",
       "4                25319.0  649.0              NaN NaN NaN  ...   \n",
       "\n",
       "bodyparts tracklet_0019008                       tracklet_0019009          \\\n",
       "coords       raw_neuron_id brightness_red volume                z   x   y   \n",
       "0                      NaN            NaN    NaN              NaN NaN NaN   \n",
       "1                      NaN            NaN    NaN              NaN NaN NaN   \n",
       "2                      NaN            NaN    NaN              NaN NaN NaN   \n",
       "3                      NaN            NaN    NaN              NaN NaN NaN   \n",
       "4                      NaN            NaN    NaN              NaN NaN NaN   \n",
       "\n",
       "bodyparts                                                 \n",
       "coords    likelihood raw_neuron_id brightness_red volume  \n",
       "0                NaN           NaN            NaN    NaN  \n",
       "1                NaN           NaN            NaN    NaN  \n",
       "2                NaN           NaN            NaN    NaN  \n",
       "3                NaN           NaN            NaN    NaN  \n",
       "4                NaN           NaN            NaN    NaN  \n",
       "\n",
       "[5 rows x 130298 columns]"
      ]
     },
     "execution_count": 79,
     "metadata": {},
     "output_type": "execute_result"
    }
   ],
   "source": [
    "out[0].head()"
   ]
  },
  {
   "cell_type": "code",
   "execution_count": null,
   "id": "8f9a3cb2-9bae-48b9-ac59-c8200a7d7adc",
   "metadata": {},
   "outputs": [],
   "source": [
    "# %debug"
   ]
  },
  {
   "cell_type": "code",
   "execution_count": null,
   "id": "518f6f0c-6339-4430-99a5-03167ccda835",
   "metadata": {},
   "outputs": [],
   "source": [
    "out['tracklet_0000000']['volume'].plot()\n"
   ]
  },
  {
   "cell_type": "code",
   "execution_count": null,
   "id": "1ad431f8-2fe2-4f76-abd6-66bbaedd3da5",
   "metadata": {},
   "outputs": [],
   "source": [
    "df_all_tracklets['tracklet_0000000']['volume'].plot()\n"
   ]
  },
  {
   "cell_type": "code",
   "execution_count": 80,
   "id": "771df87a-3524-4631-a7db-6559c6ae3b0c",
   "metadata": {},
   "outputs": [],
   "source": [
    "out_fname = '2-training_data/df_volume_split_tracklets.h5'\n",
    "cfg = project_data.project_config\n",
    "cfg.h5_in_local_project(out[0], out_fname)\n",
    "\n",
    "out_fname = '2-training_data/raw/volume_tracklet_split_points.pickle'\n",
    "cfg.pickle_in_local_project(out[1], out_fname)"
   ]
  },
  {
   "cell_type": "code",
   "execution_count": null,
   "id": "3c67599b-0778-47a1-a5d5-21314b6d8c36",
   "metadata": {},
   "outputs": [],
   "source": []
  }
 ],
 "metadata": {
  "kernelspec": {
   "display_name": "Python 3 (ipykernel)",
   "language": "python",
   "name": "python3"
  },
  "language_info": {
   "codemirror_mode": {
    "name": "ipython",
    "version": 3
   },
   "file_extension": ".py",
   "mimetype": "text/x-python",
   "name": "python",
   "nbconvert_exporter": "python",
   "pygments_lexer": "ipython3",
   "version": "3.7.11"
  }
 },
 "nbformat": 4,
 "nbformat_minor": 5
}
