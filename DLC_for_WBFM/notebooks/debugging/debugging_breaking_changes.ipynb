{
 "cells": [
  {
   "cell_type": "code",
   "execution_count": 1,
   "id": "b0b9a4f6-0681-4ba5-96cb-06144e714000",
   "metadata": {},
   "outputs": [
    {
     "name": "stderr",
     "output_type": "stream",
     "text": [
      "\n",
      "Bad key \"text.kerning_factor\" on line 4 in\n",
      "/home/charles/anaconda3/envs/torch/lib/python3.7/site-packages/matplotlib/mpl-data/stylelib/_classic_test_patch.mplstyle.\n",
      "You probably need to get an updated matplotlibrc file from\n",
      "http://github.com/matplotlib/matplotlib/blob/master/matplotlibrc.template\n",
      "or from the matplotlib source distribution\n"
     ]
    }
   ],
   "source": [
    "%load_ext autoreload\n",
    "%autoreload 2\n",
    "import matplotlib.pyplot as plt\n",
    "from DLC_for_WBFM.utils.projects.finished_project_data import ProjectData\n",
    "import napari\n",
    "import pandas as pd\n",
    "import numpy as np\n",
    "from DLC_for_WBFM.utils.feature_detection.class_frame_pair import FramePair\n"
   ]
  },
  {
   "cell_type": "code",
   "execution_count": 2,
   "id": "54440f09-b2e5-4d9b-b582-cda6bd3cc1ac",
   "metadata": {},
   "outputs": [
    {
     "name": "stderr",
     "output_type": "stream",
     "text": [
      "WARNING:root:Did not find file /home/charles/dlc_stacks/worm3-newseg-2021_11_17/4-traces/red_traces.h5\n",
      "WARNING:root:Did not find file /home/charles/dlc_stacks/worm3-newseg-2021_11_17/4-traces/green_traces.h5\n",
      "WARNING:root:Did not find file /home/charles/dlc_stacks/worm3-newseg-2021_11_17/2-training_data/training_data_tracks.h5\n",
      "WARNING:root:Did not find file /home/charles/dlc_stacks/worm3-newseg-2021_11_17/4-traces/reindexed_masks.zarr\n",
      "WARNING:root:Did not find file /home/charles/dlc_stacks/worm3-newseg-2021_11_17/3-tracking/manual_annotation/split_names.pickle\n",
      "WARNING:root:Did not find file /home/charles/dlc_stacks/worm3-newseg-2021_11_17/3-tracking/manual_annotation/split_times.pickle\n"
     ]
    },
    {
     "name": "stdout",
     "output_type": "stream",
     "text": [
      "Output files: /home/charles/dlc_stacks/worm3-newseg-2021_11_17/3-tracking/manual_annotation/global2tracklet_manual.pickle, /home/charles/dlc_stacks/worm3-newseg-2021_11_17/3-tracking/manual_annotation/manually_split_tracklets.h5, /home/charles/dlc_stacks/worm3-newseg-2021_11_17/3-tracking/manual_annotation/split_names.pickle, /home/charles/dlc_stacks/worm3-newseg-2021_11_17/3-tracking/manual_annotation/split_times.pickle\n",
      "=======================================\n",
      "Project data for directory:\n",
      "/home/charles/dlc_stacks/worm3-newseg-2021_11_17 \n",
      "=======================================\n",
      "Found the following raw data files:\n",
      "red_data: True\n",
      "green_data: True\n",
      "============Segmentation===============\n",
      "raw_segmentation: True\n",
      "segmentation: False\n",
      "============Tracklets==================\n",
      "df_training_tracklets: False\n",
      "reindexed_masks_training: True\n",
      "============Traces=====================\n",
      "red_traces: False\n",
      "green_traces: False\n",
      "final_tracks: False\n",
      "behavior_annotations: True\n",
      "\n"
     ]
    }
   ],
   "source": [
    "fname = \"/home/charles/dlc_stacks/worm3-newseg-2021_11_17/project_config.yaml\"\n",
    "project_data = ProjectData.load_final_project_data_from_config(fname, to_load_tracklets=True)"
   ]
  },
  {
   "cell_type": "markdown",
   "id": "a1b7e52b-ccb0-43ed-9db4-469a231fb975",
   "metadata": {},
   "source": [
    "# Check the tracklets"
   ]
  },
  {
   "cell_type": "code",
   "execution_count": 3,
   "id": "fe351bbc-97ff-4f33-9023-6f27a51fa8bf",
   "metadata": {},
   "outputs": [],
   "source": [
    "df_tracklets = project_data.df_all_tracklets"
   ]
  },
  {
   "cell_type": "code",
   "execution_count": 4,
   "id": "ea35a0f3-74ae-4e09-9c63-26099af16e7c",
   "metadata": {},
   "outputs": [
    {
     "data": {
      "text/html": [
       "<div>\n",
       "<style scoped>\n",
       "    .dataframe tbody tr th:only-of-type {\n",
       "        vertical-align: middle;\n",
       "    }\n",
       "\n",
       "    .dataframe tbody tr th {\n",
       "        vertical-align: top;\n",
       "    }\n",
       "\n",
       "    .dataframe thead tr th {\n",
       "        text-align: left;\n",
       "    }\n",
       "</style>\n",
       "<table border=\"1\" class=\"dataframe\">\n",
       "  <thead>\n",
       "    <tr>\n",
       "      <th>bodyparts</th>\n",
       "      <th colspan=\"7\" halign=\"left\">tracklet_0000000</th>\n",
       "      <th colspan=\"3\" halign=\"left\">tracklet_0000001</th>\n",
       "      <th>...</th>\n",
       "      <th colspan=\"3\" halign=\"left\">tracklet_0016591</th>\n",
       "      <th colspan=\"7\" halign=\"left\">tracklet_0016592</th>\n",
       "    </tr>\n",
       "    <tr>\n",
       "      <th>coords</th>\n",
       "      <th>z</th>\n",
       "      <th>x</th>\n",
       "      <th>y</th>\n",
       "      <th>likelihood</th>\n",
       "      <th>raw_neuron_id</th>\n",
       "      <th>brightness_red</th>\n",
       "      <th>volume</th>\n",
       "      <th>z</th>\n",
       "      <th>x</th>\n",
       "      <th>y</th>\n",
       "      <th>...</th>\n",
       "      <th>raw_neuron_id</th>\n",
       "      <th>brightness_red</th>\n",
       "      <th>volume</th>\n",
       "      <th>z</th>\n",
       "      <th>x</th>\n",
       "      <th>y</th>\n",
       "      <th>likelihood</th>\n",
       "      <th>raw_neuron_id</th>\n",
       "      <th>brightness_red</th>\n",
       "      <th>volume</th>\n",
       "    </tr>\n",
       "  </thead>\n",
       "  <tbody>\n",
       "    <tr>\n",
       "      <th>0</th>\n",
       "      <td>4.877115</td>\n",
       "      <td>297.774098</td>\n",
       "      <td>424.044846</td>\n",
       "      <td>0.366408</td>\n",
       "      <td>0.0</td>\n",
       "      <td>64019.0</td>\n",
       "      <td>1273.0</td>\n",
       "      <td>4.542084</td>\n",
       "      <td>313.311412</td>\n",
       "      <td>433.153732</td>\n",
       "      <td>...</td>\n",
       "      <td>NaN</td>\n",
       "      <td>NaN</td>\n",
       "      <td>NaN</td>\n",
       "      <td>NaN</td>\n",
       "      <td>NaN</td>\n",
       "      <td>NaN</td>\n",
       "      <td>NaN</td>\n",
       "      <td>NaN</td>\n",
       "      <td>NaN</td>\n",
       "      <td>NaN</td>\n",
       "    </tr>\n",
       "    <tr>\n",
       "      <th>1</th>\n",
       "      <td>4.495950</td>\n",
       "      <td>280.282714</td>\n",
       "      <td>407.775260</td>\n",
       "      <td>0.151632</td>\n",
       "      <td>5.0</td>\n",
       "      <td>65805.0</td>\n",
       "      <td>1532.0</td>\n",
       "      <td>4.130645</td>\n",
       "      <td>298.316611</td>\n",
       "      <td>412.867468</td>\n",
       "      <td>...</td>\n",
       "      <td>NaN</td>\n",
       "      <td>NaN</td>\n",
       "      <td>NaN</td>\n",
       "      <td>NaN</td>\n",
       "      <td>NaN</td>\n",
       "      <td>NaN</td>\n",
       "      <td>NaN</td>\n",
       "      <td>NaN</td>\n",
       "      <td>NaN</td>\n",
       "      <td>NaN</td>\n",
       "    </tr>\n",
       "    <tr>\n",
       "      <th>2</th>\n",
       "      <td>6.018471</td>\n",
       "      <td>272.740668</td>\n",
       "      <td>406.364028</td>\n",
       "      <td>0.431153</td>\n",
       "      <td>1.0</td>\n",
       "      <td>67242.0</td>\n",
       "      <td>1591.0</td>\n",
       "      <td>4.173412</td>\n",
       "      <td>287.559807</td>\n",
       "      <td>406.981428</td>\n",
       "      <td>...</td>\n",
       "      <td>NaN</td>\n",
       "      <td>NaN</td>\n",
       "      <td>NaN</td>\n",
       "      <td>NaN</td>\n",
       "      <td>NaN</td>\n",
       "      <td>NaN</td>\n",
       "      <td>NaN</td>\n",
       "      <td>NaN</td>\n",
       "      <td>NaN</td>\n",
       "      <td>NaN</td>\n",
       "    </tr>\n",
       "    <tr>\n",
       "      <th>3</th>\n",
       "      <td>5.427147</td>\n",
       "      <td>255.625872</td>\n",
       "      <td>396.335380</td>\n",
       "      <td>0.304492</td>\n",
       "      <td>1.0</td>\n",
       "      <td>58790.0</td>\n",
       "      <td>1325.0</td>\n",
       "      <td>4.098089</td>\n",
       "      <td>271.716247</td>\n",
       "      <td>396.642877</td>\n",
       "      <td>...</td>\n",
       "      <td>NaN</td>\n",
       "      <td>NaN</td>\n",
       "      <td>NaN</td>\n",
       "      <td>NaN</td>\n",
       "      <td>NaN</td>\n",
       "      <td>NaN</td>\n",
       "      <td>NaN</td>\n",
       "      <td>NaN</td>\n",
       "      <td>NaN</td>\n",
       "      <td>NaN</td>\n",
       "    </tr>\n",
       "    <tr>\n",
       "      <th>4</th>\n",
       "      <td>5.120417</td>\n",
       "      <td>249.088674</td>\n",
       "      <td>407.942513</td>\n",
       "      <td>0.399028</td>\n",
       "      <td>1.0</td>\n",
       "      <td>63006.0</td>\n",
       "      <td>1383.0</td>\n",
       "      <td>3.630491</td>\n",
       "      <td>264.485370</td>\n",
       "      <td>415.498987</td>\n",
       "      <td>...</td>\n",
       "      <td>NaN</td>\n",
       "      <td>NaN</td>\n",
       "      <td>NaN</td>\n",
       "      <td>NaN</td>\n",
       "      <td>NaN</td>\n",
       "      <td>NaN</td>\n",
       "      <td>NaN</td>\n",
       "      <td>NaN</td>\n",
       "      <td>NaN</td>\n",
       "      <td>NaN</td>\n",
       "    </tr>\n",
       "    <tr>\n",
       "      <th>...</th>\n",
       "      <td>...</td>\n",
       "      <td>...</td>\n",
       "      <td>...</td>\n",
       "      <td>...</td>\n",
       "      <td>...</td>\n",
       "      <td>...</td>\n",
       "      <td>...</td>\n",
       "      <td>...</td>\n",
       "      <td>...</td>\n",
       "      <td>...</td>\n",
       "      <td>...</td>\n",
       "      <td>...</td>\n",
       "      <td>...</td>\n",
       "      <td>...</td>\n",
       "      <td>...</td>\n",
       "      <td>...</td>\n",
       "      <td>...</td>\n",
       "      <td>...</td>\n",
       "      <td>...</td>\n",
       "      <td>...</td>\n",
       "      <td>...</td>\n",
       "    </tr>\n",
       "    <tr>\n",
       "      <th>1494</th>\n",
       "      <td>NaN</td>\n",
       "      <td>NaN</td>\n",
       "      <td>NaN</td>\n",
       "      <td>NaN</td>\n",
       "      <td>NaN</td>\n",
       "      <td>NaN</td>\n",
       "      <td>NaN</td>\n",
       "      <td>NaN</td>\n",
       "      <td>NaN</td>\n",
       "      <td>NaN</td>\n",
       "      <td>...</td>\n",
       "      <td>134.0</td>\n",
       "      <td>7293.0</td>\n",
       "      <td>321.0</td>\n",
       "      <td>21.953050</td>\n",
       "      <td>246.370100</td>\n",
       "      <td>434.576126</td>\n",
       "      <td>0.583826</td>\n",
       "      <td>141.0</td>\n",
       "      <td>35612.0</td>\n",
       "      <td>1149.0</td>\n",
       "    </tr>\n",
       "    <tr>\n",
       "      <th>1495</th>\n",
       "      <td>NaN</td>\n",
       "      <td>NaN</td>\n",
       "      <td>NaN</td>\n",
       "      <td>NaN</td>\n",
       "      <td>NaN</td>\n",
       "      <td>NaN</td>\n",
       "      <td>NaN</td>\n",
       "      <td>NaN</td>\n",
       "      <td>NaN</td>\n",
       "      <td>NaN</td>\n",
       "      <td>...</td>\n",
       "      <td>142.0</td>\n",
       "      <td>7920.0</td>\n",
       "      <td>353.0</td>\n",
       "      <td>21.881410</td>\n",
       "      <td>261.815564</td>\n",
       "      <td>402.035274</td>\n",
       "      <td>0.618481</td>\n",
       "      <td>147.0</td>\n",
       "      <td>38924.0</td>\n",
       "      <td>1217.0</td>\n",
       "    </tr>\n",
       "    <tr>\n",
       "      <th>1496</th>\n",
       "      <td>NaN</td>\n",
       "      <td>NaN</td>\n",
       "      <td>NaN</td>\n",
       "      <td>NaN</td>\n",
       "      <td>NaN</td>\n",
       "      <td>NaN</td>\n",
       "      <td>NaN</td>\n",
       "      <td>NaN</td>\n",
       "      <td>NaN</td>\n",
       "      <td>NaN</td>\n",
       "      <td>...</td>\n",
       "      <td>133.0</td>\n",
       "      <td>9718.0</td>\n",
       "      <td>423.0</td>\n",
       "      <td>22.034997</td>\n",
       "      <td>266.053027</td>\n",
       "      <td>403.813406</td>\n",
       "      <td>0.211373</td>\n",
       "      <td>148.0</td>\n",
       "      <td>40489.0</td>\n",
       "      <td>1236.0</td>\n",
       "    </tr>\n",
       "    <tr>\n",
       "      <th>1497</th>\n",
       "      <td>NaN</td>\n",
       "      <td>NaN</td>\n",
       "      <td>NaN</td>\n",
       "      <td>NaN</td>\n",
       "      <td>NaN</td>\n",
       "      <td>NaN</td>\n",
       "      <td>NaN</td>\n",
       "      <td>NaN</td>\n",
       "      <td>NaN</td>\n",
       "      <td>NaN</td>\n",
       "      <td>...</td>\n",
       "      <td>142.0</td>\n",
       "      <td>14260.0</td>\n",
       "      <td>610.0</td>\n",
       "      <td>19.681274</td>\n",
       "      <td>273.951602</td>\n",
       "      <td>407.529012</td>\n",
       "      <td>0.457777</td>\n",
       "      <td>80.0</td>\n",
       "      <td>29712.0</td>\n",
       "      <td>878.0</td>\n",
       "    </tr>\n",
       "    <tr>\n",
       "      <th>1498</th>\n",
       "      <td>NaN</td>\n",
       "      <td>NaN</td>\n",
       "      <td>NaN</td>\n",
       "      <td>NaN</td>\n",
       "      <td>NaN</td>\n",
       "      <td>NaN</td>\n",
       "      <td>NaN</td>\n",
       "      <td>NaN</td>\n",
       "      <td>NaN</td>\n",
       "      <td>NaN</td>\n",
       "      <td>...</td>\n",
       "      <td>141.0</td>\n",
       "      <td>16050.0</td>\n",
       "      <td>625.0</td>\n",
       "      <td>19.062731</td>\n",
       "      <td>278.125328</td>\n",
       "      <td>411.366388</td>\n",
       "      <td>0.000000</td>\n",
       "      <td>78.0</td>\n",
       "      <td>29698.0</td>\n",
       "      <td>853.0</td>\n",
       "    </tr>\n",
       "  </tbody>\n",
       "</table>\n",
       "<p>1499 rows × 73423 columns</p>\n",
       "</div>"
      ],
      "text/plain": [
       "bodyparts tracklet_0000000                                                   \\\n",
       "coords                   z           x           y likelihood raw_neuron_id   \n",
       "0                 4.877115  297.774098  424.044846   0.366408           0.0   \n",
       "1                 4.495950  280.282714  407.775260   0.151632           5.0   \n",
       "2                 6.018471  272.740668  406.364028   0.431153           1.0   \n",
       "3                 5.427147  255.625872  396.335380   0.304492           1.0   \n",
       "4                 5.120417  249.088674  407.942513   0.399028           1.0   \n",
       "...                    ...         ...         ...        ...           ...   \n",
       "1494                   NaN         NaN         NaN        NaN           NaN   \n",
       "1495                   NaN         NaN         NaN        NaN           NaN   \n",
       "1496                   NaN         NaN         NaN        NaN           NaN   \n",
       "1497                   NaN         NaN         NaN        NaN           NaN   \n",
       "1498                   NaN         NaN         NaN        NaN           NaN   \n",
       "\n",
       "bodyparts                        tracklet_0000001                          \\\n",
       "coords    brightness_red  volume                z           x           y   \n",
       "0                64019.0  1273.0         4.542084  313.311412  433.153732   \n",
       "1                65805.0  1532.0         4.130645  298.316611  412.867468   \n",
       "2                67242.0  1591.0         4.173412  287.559807  406.981428   \n",
       "3                58790.0  1325.0         4.098089  271.716247  396.642877   \n",
       "4                63006.0  1383.0         3.630491  264.485370  415.498987   \n",
       "...                  ...     ...              ...         ...         ...   \n",
       "1494                 NaN     NaN              NaN         NaN         NaN   \n",
       "1495                 NaN     NaN              NaN         NaN         NaN   \n",
       "1496                 NaN     NaN              NaN         NaN         NaN   \n",
       "1497                 NaN     NaN              NaN         NaN         NaN   \n",
       "1498                 NaN     NaN              NaN         NaN         NaN   \n",
       "\n",
       "bodyparts  ... tracklet_0016591                       tracklet_0016592  \\\n",
       "coords     ...    raw_neuron_id brightness_red volume                z   \n",
       "0          ...              NaN            NaN    NaN              NaN   \n",
       "1          ...              NaN            NaN    NaN              NaN   \n",
       "2          ...              NaN            NaN    NaN              NaN   \n",
       "3          ...              NaN            NaN    NaN              NaN   \n",
       "4          ...              NaN            NaN    NaN              NaN   \n",
       "...        ...              ...            ...    ...              ...   \n",
       "1494       ...            134.0         7293.0  321.0        21.953050   \n",
       "1495       ...            142.0         7920.0  353.0        21.881410   \n",
       "1496       ...            133.0         9718.0  423.0        22.034997   \n",
       "1497       ...            142.0        14260.0  610.0        19.681274   \n",
       "1498       ...            141.0        16050.0  625.0        19.062731   \n",
       "\n",
       "bodyparts                                                                  \\\n",
       "coords              x           y likelihood raw_neuron_id brightness_red   \n",
       "0                 NaN         NaN        NaN           NaN            NaN   \n",
       "1                 NaN         NaN        NaN           NaN            NaN   \n",
       "2                 NaN         NaN        NaN           NaN            NaN   \n",
       "3                 NaN         NaN        NaN           NaN            NaN   \n",
       "4                 NaN         NaN        NaN           NaN            NaN   \n",
       "...               ...         ...        ...           ...            ...   \n",
       "1494       246.370100  434.576126   0.583826         141.0        35612.0   \n",
       "1495       261.815564  402.035274   0.618481         147.0        38924.0   \n",
       "1496       266.053027  403.813406   0.211373         148.0        40489.0   \n",
       "1497       273.951602  407.529012   0.457777          80.0        29712.0   \n",
       "1498       278.125328  411.366388   0.000000          78.0        29698.0   \n",
       "\n",
       "bodyparts          \n",
       "coords     volume  \n",
       "0             NaN  \n",
       "1             NaN  \n",
       "2             NaN  \n",
       "3             NaN  \n",
       "4             NaN  \n",
       "...           ...  \n",
       "1494       1149.0  \n",
       "1495       1217.0  \n",
       "1496       1236.0  \n",
       "1497        878.0  \n",
       "1498        853.0  \n",
       "\n",
       "[1499 rows x 73423 columns]"
      ]
     },
     "execution_count": 4,
     "metadata": {},
     "output_type": "execute_result"
    }
   ],
   "source": [
    "df_tracklets"
   ]
  },
  {
   "cell_type": "code",
   "execution_count": 5,
   "id": "2705fa0c-961a-43c7-a4a9-b7afd4a809ef",
   "metadata": {},
   "outputs": [],
   "source": [
    "df_fname = \"/home/charles/dlc_stacks/worm3-newseg-2021_11_17/2-training_data/all_tracklets.h5\"\n",
    "\n",
    "df2 = pd.read_hdf(df_fname)"
   ]
  },
  {
   "cell_type": "code",
   "execution_count": 6,
   "id": "46efe936-c4b9-419a-9af9-409df597ba4e",
   "metadata": {},
   "outputs": [],
   "source": [
    "# df2"
   ]
  },
  {
   "cell_type": "markdown",
   "id": "25d39ecb-8bdc-44e2-96df-45dbf2e32e75",
   "metadata": {},
   "source": [
    "# Long-range matching"
   ]
  },
  {
   "cell_type": "code",
   "execution_count": 7,
   "id": "84e5807f-992f-48c3-b997-13e48bf05ec4",
   "metadata": {},
   "outputs": [
    {
     "name": "stdout",
     "output_type": "stream",
     "text": [
      "The autoreload extension is already loaded. To reload it, use:\n",
      "  %reload_ext autoreload\n"
     ]
    }
   ],
   "source": [
    "%load_ext autoreload\n",
    "%autoreload 2\n",
    "from DLC_for_WBFM.utils.postures.centerline_pca import WormFullVideoPosture, WormReferencePosture\n",
    "from DLC_for_WBFM.utils.pipeline.tracklet_class import NeuronComposedOfTracklets, TrackedWorm, DetectedTrackletsAndNeurons\n",
    "from DLC_for_WBFM.utils.projects.finished_project_data import ProjectData\n",
    "import numpy as np\n",
    "import pandas as pd\n",
    "from DLC_for_WBFM.utils.pipeline.matches_class import MatchesWithConfidence\n",
    "from DLC_for_WBFM.utils.feature_detection.class_frame_pair import calc_FramePair_from_Frames\n",
    "from tqdm.auto import tqdm\n",
    "from DLC_for_WBFM.utils.pipeline.matches_class import get_tracklet_name_from_full_name\n",
    "import importlib\n",
    "from DLC_for_WBFM.utils.pipeline.matches_class import MatchesAsGraph\n",
    "import DLC_for_WBFM.utils.pipeline.matches_class as matches_class"
   ]
  },
  {
   "cell_type": "code",
   "execution_count": 8,
   "id": "80e322fa-7fc9-48da-80b5-2cd5b02d50fe",
   "metadata": {},
   "outputs": [
    {
     "name": "stderr",
     "output_type": "stream",
     "text": [
      "WARNING:root:Did not find file /home/charles/dlc_stacks/worm3-newseg-2021_11_17/4-traces/red_traces.h5\n",
      "WARNING:root:Did not find file /home/charles/dlc_stacks/worm3-newseg-2021_11_17/4-traces/green_traces.h5\n",
      "WARNING:root:Did not find file /home/charles/dlc_stacks/worm3-newseg-2021_11_17/2-training_data/training_data_tracks.h5\n",
      "WARNING:root:Did not find file /home/charles/dlc_stacks/worm3-newseg-2021_11_17/4-traces/reindexed_masks.zarr\n",
      "WARNING:root:Did not find file /home/charles/dlc_stacks/worm3-newseg-2021_11_17/3-tracking/manual_annotation/split_names.pickle\n",
      "WARNING:root:Did not find file /home/charles/dlc_stacks/worm3-newseg-2021_11_17/3-tracking/manual_annotation/split_times.pickle\n"
     ]
    },
    {
     "name": "stdout",
     "output_type": "stream",
     "text": [
      "Output files: /home/charles/dlc_stacks/worm3-newseg-2021_11_17/3-tracking/manual_annotation/global2tracklet_manual.pickle, /home/charles/dlc_stacks/worm3-newseg-2021_11_17/3-tracking/manual_annotation/manually_split_tracklets.h5, /home/charles/dlc_stacks/worm3-newseg-2021_11_17/3-tracking/manual_annotation/split_names.pickle, /home/charles/dlc_stacks/worm3-newseg-2021_11_17/3-tracking/manual_annotation/split_times.pickle\n",
      "=======================================\n",
      "Project data for directory:\n",
      "/home/charles/dlc_stacks/worm3-newseg-2021_11_17 \n",
      "=======================================\n",
      "Found the following raw data files:\n",
      "red_data: True\n",
      "green_data: True\n",
      "============Segmentation===============\n",
      "raw_segmentation: True\n",
      "segmentation: False\n",
      "============Tracklets==================\n",
      "df_training_tracklets: False\n",
      "reindexed_masks_training: True\n",
      "============Traces=====================\n",
      "red_traces: False\n",
      "green_traces: False\n",
      "final_tracks: False\n",
      "behavior_annotations: True\n",
      "\n"
     ]
    }
   ],
   "source": [
    "fname = \"/home/charles/dlc_stacks/worm3-newseg-2021_11_17/project_config.yaml\"\n",
    "\n",
    "project_data = ProjectData.load_final_project_data_from_config(fname, to_load_tracklets=True, to_load_frames=True)"
   ]
  },
  {
   "cell_type": "code",
   "execution_count": 9,
   "id": "5cab5d35-c3f2-4f66-b93e-52c885f4dfbb",
   "metadata": {},
   "outputs": [],
   "source": [
    "df_tracklets = project_data.df_all_tracklets\n",
    "num_frames = project_data.num_frames\n",
    "all_frames = project_data.raw_frames\n",
    "all_matches = project_data.raw_matches\n",
    "raw_clust = project_data.raw_clust\n",
    "\n",
    "frame_pair_options = all_matches[(0,1)].options"
   ]
  },
  {
   "cell_type": "code",
   "execution_count": 10,
   "id": "813e36bc-de5e-4723-8569-c819ed57e633",
   "metadata": {},
   "outputs": [],
   "source": [
    "fname = \"/project/neurobiology/zimmer/wbfm/centerline/wbfm_ulises_centerline_for_charlie/2021-03-04_16-17-30_worm3_ZIM2051-_spline_K.csv\"\n",
    "\n",
    "full_posture = WormFullVideoPosture(fname)\n",
    "reference_posture = WormReferencePosture(0, full_posture)"
   ]
  },
  {
   "cell_type": "code",
   "execution_count": 11,
   "id": "2045dfc5-eccf-4bec-b377-32e3a77f0413",
   "metadata": {},
   "outputs": [],
   "source": [
    "\n",
    "all_long_range_matches = {}\n",
    "anchor_ind = 0\n",
    "anchor_frame = all_frames[anchor_ind]\n",
    "verbose = 2"
   ]
  },
  {
   "cell_type": "code",
   "execution_count": 12,
   "id": "b132fd37-e4af-49bf-aca6-9c0c8f17ed0a",
   "metadata": {},
   "outputs": [
    {
     "data": {
      "application/vnd.jupyter.widget-view+json": {
       "model_id": "b59aacb1113b44daad148d9596fa8533",
       "version_major": 2,
       "version_minor": 0
      },
      "text/plain": [
       "  0%|          | 0/16624 [00:00<?, ?it/s]"
      ]
     },
     "metadata": {},
     "output_type": "display_data"
    }
   ],
   "source": [
    "# Initialize TrackedNeurons at 0, and initialize the TrackedWorm\n",
    "# Get all tracklets that start at t=0\n",
    "all_tracklet_names = df_tracklets.columns.get_level_values(0).drop_duplicates()\n",
    "\n",
    "detections = DetectedTrackletsAndNeurons(df_tracklets, \n",
    "                                         project_data.segmentation_metadata,\n",
    "                                         df_tracklet_matches=raw_clust)\n",
    "worm_obj = TrackedWorm(detections=detections, verbose=1)\n",
    "\n",
    "for i, name in enumerate(all_tracklet_names):\n",
    "    tracklet = df_tracklets[[name]]\n",
    "    # Assume tracklets are ordered, such that the first tracklet which starts at t>0 mean all the rest do\n",
    "    if np.isnan(tracklet[name]['z'].iloc[0]):\n",
    "        break\n",
    "    new_neuron = worm_obj.initialize_new_neuron()\n",
    "    new_neuron.add_tracklet(i, 1.0, tracklet, metadata=f\"Initial tracklet\")"
   ]
  },
  {
   "cell_type": "code",
   "execution_count": null,
   "id": "f03c3195-5608-4a75-9d12-2cd174e41b65",
   "metadata": {},
   "outputs": [
    {
     "data": {
      "application/vnd.jupyter.widget-view+json": {
       "model_id": "357d4c0ba33f426898c9993d6b0146e9",
       "version_major": 2,
       "version_minor": 0
      },
      "text/plain": [
       "  0%|          | 0/197 [00:00<?, ?it/s]"
      ]
     },
     "metadata": {},
     "output_type": "display_data"
    },
    {
     "name": "stdout",
     "output_type": "stream",
     "text": [
      "Calculating matches for pair: (0, 16)\n"
     ]
    },
    {
     "data": {
      "application/vnd.jupyter.widget-view+json": {
       "model_id": "",
       "version_major": 2,
       "version_minor": 0
      },
      "text/plain": [
       "  0%|          | 0/32 [00:00<?, ?it/s]"
      ]
     },
     "metadata": {},
     "output_type": "display_data"
    },
    {
     "name": "stdout",
     "output_type": "stream",
     "text": [
      "Jupyter environment detected. Enabling Open3D WebVisualizer.\n",
      "[Open3D INFO] WebRTC GUI backend enabled.\n",
      "[Open3D INFO] WebRTCWindowSystem: HTTP handshake server disabled.\n",
      "At time 16, extended 41/49 tracks\n",
      "Calculating matches for pair: (0, 17)\n"
     ]
    },
    {
     "data": {
      "application/vnd.jupyter.widget-view+json": {
       "model_id": "",
       "version_major": 2,
       "version_minor": 0
      },
      "text/plain": [
       "  0%|          | 0/32 [00:00<?, ?it/s]"
      ]
     },
     "metadata": {},
     "output_type": "display_data"
    },
    {
     "name": "stdout",
     "output_type": "stream",
     "text": [
      "At time 17, extended 8/13 tracks\n",
      "Calculating matches for pair: (0, 18)\n"
     ]
    },
    {
     "data": {
      "application/vnd.jupyter.widget-view+json": {
       "model_id": "",
       "version_major": 2,
       "version_minor": 0
      },
      "text/plain": [
       "  0%|          | 0/32 [00:00<?, ?it/s]"
      ]
     },
     "metadata": {},
     "output_type": "display_data"
    },
    {
     "name": "stdout",
     "output_type": "stream",
     "text": [
      "At time 18, extended 7/13 tracks\n",
      "Calculating matches for pair: (0, 19)\n"
     ]
    },
    {
     "data": {
      "application/vnd.jupyter.widget-view+json": {
       "model_id": "",
       "version_major": 2,
       "version_minor": 0
      },
      "text/plain": [
       "  0%|          | 0/32 [00:00<?, ?it/s]"
      ]
     },
     "metadata": {},
     "output_type": "display_data"
    },
    {
     "name": "stdout",
     "output_type": "stream",
     "text": [
      "At time 19, extended 3/8 tracks\n",
      "Calculating matches for pair: (0, 39)\n"
     ]
    },
    {
     "data": {
      "application/vnd.jupyter.widget-view+json": {
       "model_id": "",
       "version_major": 2,
       "version_minor": 0
      },
      "text/plain": [
       "  0%|          | 0/32 [00:00<?, ?it/s]"
      ]
     },
     "metadata": {},
     "output_type": "display_data"
    },
    {
     "name": "stdout",
     "output_type": "stream",
     "text": [
      "At time 39, extended 40/82 tracks\n",
      "Calculating matches for pair: (0, 40)\n"
     ]
    },
    {
     "data": {
      "application/vnd.jupyter.widget-view+json": {
       "model_id": "",
       "version_major": 2,
       "version_minor": 0
      },
      "text/plain": [
       "  0%|          | 0/32 [00:00<?, ?it/s]"
      ]
     },
     "metadata": {},
     "output_type": "display_data"
    },
    {
     "name": "stdout",
     "output_type": "stream",
     "text": [
      "At time 40, extended 19/43 tracks\n",
      "Calculating matches for pair: (0, 41)\n"
     ]
    },
    {
     "data": {
      "application/vnd.jupyter.widget-view+json": {
       "model_id": "",
       "version_major": 2,
       "version_minor": 0
      },
      "text/plain": [
       "  0%|          | 0/32 [00:00<?, ?it/s]"
      ]
     },
     "metadata": {},
     "output_type": "display_data"
    },
    {
     "name": "stdout",
     "output_type": "stream",
     "text": [
      "At time 41, extended 5/28 tracks\n",
      "Calculating matches for pair: (0, 72)\n"
     ]
    },
    {
     "data": {
      "application/vnd.jupyter.widget-view+json": {
       "model_id": "",
       "version_major": 2,
       "version_minor": 0
      },
      "text/plain": [
       "  0%|          | 0/32 [00:00<?, ?it/s]"
      ]
     },
     "metadata": {},
     "output_type": "display_data"
    },
    {
     "name": "stdout",
     "output_type": "stream",
     "text": [
      "At time 72, extended 50/85 tracks\n",
      "Calculating matches for pair: (0, 73)\n"
     ]
    },
    {
     "data": {
      "application/vnd.jupyter.widget-view+json": {
       "model_id": "",
       "version_major": 2,
       "version_minor": 0
      },
      "text/plain": [
       "  0%|          | 0/32 [00:00<?, ?it/s]"
      ]
     },
     "metadata": {},
     "output_type": "display_data"
    },
    {
     "name": "stdout",
     "output_type": "stream",
     "text": [
      "At time 73, extended 10/35 tracks\n",
      "Calculating matches for pair: (0, 74)\n"
     ]
    },
    {
     "data": {
      "application/vnd.jupyter.widget-view+json": {
       "model_id": "",
       "version_major": 2,
       "version_minor": 0
      },
      "text/plain": [
       "  0%|          | 0/32 [00:00<?, ?it/s]"
      ]
     },
     "metadata": {},
     "output_type": "display_data"
    },
    {
     "name": "stdout",
     "output_type": "stream",
     "text": [
      "At time 74, extended 4/26 tracks\n",
      "Calculating matches for pair: (0, 84)\n"
     ]
    },
    {
     "data": {
      "application/vnd.jupyter.widget-view+json": {
       "model_id": "",
       "version_major": 2,
       "version_minor": 0
      },
      "text/plain": [
       "  0%|          | 0/32 [00:00<?, ?it/s]"
      ]
     },
     "metadata": {},
     "output_type": "display_data"
    },
    {
     "name": "stdout",
     "output_type": "stream",
     "text": [
      "At time 84, extended 20/46 tracks\n",
      "Calculating matches for pair: (0, 85)\n"
     ]
    },
    {
     "data": {
      "application/vnd.jupyter.widget-view+json": {
       "model_id": "",
       "version_major": 2,
       "version_minor": 0
      },
      "text/plain": [
       "  0%|          | 0/32 [00:00<?, ?it/s]"
      ]
     },
     "metadata": {},
     "output_type": "display_data"
    },
    {
     "name": "stdout",
     "output_type": "stream",
     "text": [
      "At time 85, extended 8/29 tracks\n",
      "Calculating matches for pair: (0, 101)\n"
     ]
    },
    {
     "data": {
      "application/vnd.jupyter.widget-view+json": {
       "model_id": "",
       "version_major": 2,
       "version_minor": 0
      },
      "text/plain": [
       "  0%|          | 0/32 [00:00<?, ?it/s]"
      ]
     },
     "metadata": {},
     "output_type": "display_data"
    },
    {
     "name": "stdout",
     "output_type": "stream",
     "text": [
      "At time 101, extended 33/63 tracks\n",
      "Calculating matches for pair: (0, 102)\n"
     ]
    },
    {
     "data": {
      "application/vnd.jupyter.widget-view+json": {
       "model_id": "",
       "version_major": 2,
       "version_minor": 0
      },
      "text/plain": [
       "  0%|          | 0/32 [00:00<?, ?it/s]"
      ]
     },
     "metadata": {},
     "output_type": "display_data"
    },
    {
     "name": "stdout",
     "output_type": "stream",
     "text": [
      "At time 102, extended 9/34 tracks\n",
      "Calculating matches for pair: (0, 182)\n"
     ]
    },
    {
     "data": {
      "application/vnd.jupyter.widget-view+json": {
       "model_id": "",
       "version_major": 2,
       "version_minor": 0
      },
      "text/plain": [
       "  0%|          | 0/32 [00:00<?, ?it/s]"
      ]
     },
     "metadata": {},
     "output_type": "display_data"
    },
    {
     "name": "stdout",
     "output_type": "stream",
     "text": [
      "At time 182, extended 55/105 tracks\n",
      "Calculating matches for pair: (0, 183)\n"
     ]
    },
    {
     "data": {
      "application/vnd.jupyter.widget-view+json": {
       "model_id": "",
       "version_major": 2,
       "version_minor": 0
      },
      "text/plain": [
       "  0%|          | 0/32 [00:00<?, ?it/s]"
      ]
     },
     "metadata": {},
     "output_type": "display_data"
    },
    {
     "name": "stdout",
     "output_type": "stream",
     "text": [
      "At time 183, extended 12/50 tracks\n",
      "Calculating matches for pair: (0, 184)\n"
     ]
    },
    {
     "data": {
      "application/vnd.jupyter.widget-view+json": {
       "model_id": "",
       "version_major": 2,
       "version_minor": 0
      },
      "text/plain": [
       "  0%|          | 0/32 [00:00<?, ?it/s]"
      ]
     },
     "metadata": {},
     "output_type": "display_data"
    },
    {
     "name": "stdout",
     "output_type": "stream",
     "text": [
      "At time 184, extended 17/38 tracks\n",
      "Calculating matches for pair: (0, 185)\n"
     ]
    },
    {
     "data": {
      "application/vnd.jupyter.widget-view+json": {
       "model_id": "",
       "version_major": 2,
       "version_minor": 0
      },
      "text/plain": [
       "  0%|          | 0/32 [00:00<?, ?it/s]"
      ]
     },
     "metadata": {},
     "output_type": "display_data"
    },
    {
     "name": "stdout",
     "output_type": "stream",
     "text": [
      "At time 185, extended 8/28 tracks\n",
      "Calculating matches for pair: (0, 201)\n"
     ]
    },
    {
     "data": {
      "application/vnd.jupyter.widget-view+json": {
       "model_id": "",
       "version_major": 2,
       "version_minor": 0
      },
      "text/plain": [
       "  0%|          | 0/32 [00:00<?, ?it/s]"
      ]
     },
     "metadata": {},
     "output_type": "display_data"
    },
    {
     "name": "stdout",
     "output_type": "stream",
     "text": [
      "At time 201, extended 30/66 tracks\n",
      "Calculating matches for pair: (0, 202)\n"
     ]
    },
    {
     "data": {
      "application/vnd.jupyter.widget-view+json": {
       "model_id": "",
       "version_major": 2,
       "version_minor": 0
      },
      "text/plain": [
       "  0%|          | 0/32 [00:00<?, ?it/s]"
      ]
     },
     "metadata": {},
     "output_type": "display_data"
    },
    {
     "name": "stdout",
     "output_type": "stream",
     "text": [
      "At time 202, extended 13/40 tracks\n",
      "Calculating matches for pair: (0, 203)\n"
     ]
    },
    {
     "data": {
      "application/vnd.jupyter.widget-view+json": {
       "model_id": "",
       "version_major": 2,
       "version_minor": 0
      },
      "text/plain": [
       "  0%|          | 0/32 [00:00<?, ?it/s]"
      ]
     },
     "metadata": {},
     "output_type": "display_data"
    }
   ],
   "source": [
    "# Loop over times, and if any TrackedNeuron's have a gap, use the WormReferencePosture to attempt a long-distance match\n",
    "# Loop over similar postures, not all times\n",
    "indices_to_check = reference_posture.indices_close_to_reference[1:]\n",
    "indices_to_check = [i for i in indices_to_check if i < project_data.num_frames]\n",
    "for i_next_similar_posture in tqdm(indices_to_check):\n",
    "    \n",
    "    tracks_with_gap = worm_obj.tracks_with_gap_at_or_after_time(i_next_similar_posture)\n",
    "    if not tracks_with_gap:\n",
    "        continue\n",
    "    \n",
    "    # Then do one volume-volume match to try and continue all ended tracklets\n",
    "    # i_next_similar_posture = reference_posture.get_next_close_index(t)\n",
    "    pair_indices = (anchor_ind, i_next_similar_posture)\n",
    "    long_range_pair = all_long_range_matches.get(pair_indices, None)\n",
    "    if long_range_pair is None:\n",
    "        long_range_frame = all_frames[i_next_similar_posture]\n",
    "        if verbose >= 2:\n",
    "            print(f\"Calculating matches for pair: {pair_indices}\")\n",
    "        long_range_pair = calc_FramePair_from_Frames(frame0=anchor_frame, frame1=long_range_frame, frame_pair_options=frame_pair_options)\n",
    "\n",
    "        all_long_range_matches[pair_indices] = long_range_pair\n",
    "    else:\n",
    "        if verbose >= 3:\n",
    "            print(f\"Reusing matches for pair: {pair_indices}\")\n",
    "    \n",
    "    # Build convinience class\n",
    "    long_range_pair.calc_final_matches()\n",
    "    long_range_matches = MatchesWithConfidence.matches_from_array(np.array(long_range_pair.final_matches))\n",
    "    mapping_to_long_range = long_range_matches.get_mapping_0_to_1()\n",
    "    mapping_to_confidence = long_range_matches.get_mapping_pair_to_conf()\n",
    "    \n",
    "    tracks_that_are_filled = 0\n",
    "    for track_name, track in tracks_with_gap.items():\n",
    "        \n",
    "        # From the starting neuron, get the long-range match\n",
    "        i_starting_neuron = track.neuron_ind\n",
    "        i_matched_neuron = mapping_to_long_range.get(i_starting_neuron, None)\n",
    "        if i_matched_neuron is None:\n",
    "            continue\n",
    "        conf = mapping_to_confidence[(i_starting_neuron, i_matched_neuron)]\n",
    "        \n",
    "        # From the long-range match (including frame information), get the tracklet\n",
    "        # For now, just accept it\n",
    "        matched_tracklet_ind, matched_tracklet_name = detections.get_tracklet_from_neuron_and_time(i_matched_neuron, i_next_similar_posture)\n",
    "        if matched_tracklet_name is None:\n",
    "            # i.e. there was a neuron match, but it doesn't belong to any tracklet\n",
    "            continue\n",
    "        matched_tracklet_df = worm_obj.detections.df_tracklets_zxy[[matched_tracklet_name]]\n",
    "        track.add_tracklet(matched_tracklet_ind, \n",
    "                           confidence=conf, \n",
    "                           tracklet=matched_tracklet_df, \n",
    "                           metadata=f\"Match due to pair {pair_indices}; original name {matched_tracklet_name}\")\n",
    "        \n",
    "        # TODO: Also record if the matched neurons match the tracklets that didn't end\n",
    "        tracks_that_are_filled += 1\n",
    "        \n",
    "    if verbose >= 2:\n",
    "        print(f\"At time {i_next_similar_posture}, extended {tracks_that_are_filled}/{len(tracks_with_gap)} tracks\")\n",
    "    \n",
    "    # break\n",
    "    # if i_next_similar_posture > 50:\n",
    "    #     break"
   ]
  },
  {
   "cell_type": "code",
   "execution_count": null,
   "id": "a7a3b00a-bfdf-4fb9-b284-237c2c892599",
   "metadata": {},
   "outputs": [],
   "source": [
    "worm_obj.global_name_to_neuron['neuron_015'].neuron2tracklets.edges"
   ]
  },
  {
   "cell_type": "code",
   "execution_count": null,
   "id": "104f81c2-f45d-4554-97a7-deff2959a66e",
   "metadata": {},
   "outputs": [],
   "source": [
    "name = 'neuron_053'\n",
    "worm_obj.global_name_to_neuron[name].neuron2tracklets.edges(data=True)"
   ]
  },
  {
   "cell_type": "code",
   "execution_count": null,
   "id": "6e25dde3-530d-47c0-b900-ab58ae46c8f2",
   "metadata": {},
   "outputs": [],
   "source": [
    "# worm_obj.global_name_to_neuron[name].tracklet_covering_ind"
   ]
  },
  {
   "cell_type": "markdown",
   "id": "81b228c4-e173-449c-846f-bb70d9fa57f8",
   "metadata": {},
   "source": [
    "# Build a full graph and do bipartite B-matching (many to one) between global neurons and tracklets"
   ]
  },
  {
   "cell_type": "code",
   "execution_count": null,
   "id": "25dbddae-02b1-4502-83a2-ac29a25b73d4",
   "metadata": {},
   "outputs": [],
   "source": [
    "import networkx as nx\n",
    "from networkx.algorithms import bipartite\n",
    "from collections import defaultdict"
   ]
  },
  {
   "cell_type": "code",
   "execution_count": null,
   "id": "5141d187-edaf-48e5-a1d0-10e1318d87eb",
   "metadata": {},
   "outputs": [],
   "source": [
    "global_tracklet_neuron_graph = nx.compose_all([g.neuron2tracklets for g in worm_obj.global_name_to_neuron.values()])"
   ]
  },
  {
   "cell_type": "code",
   "execution_count": null,
   "id": "8f853c2f-0ebd-4335-901f-d08e5da3ba4b",
   "metadata": {},
   "outputs": [],
   "source": [
    "# Copy the neuron nodes so that this becomes a normal bipartite matching problem, i.e. one-to-one, not many-to-one\n",
    "neuron_nodes = {n for n, d in global_tracklet_neuron_graph.nodes(data=True) if d[\"bipartite\"] == 0}\n",
    "tracklet_nodes = {n for n, d in global_tracklet_neuron_graph.nodes(data=True) if d[\"bipartite\"] == 1}\n",
    "global_tracklet_neuron_graph_with_copies = nx.Graph(global_tracklet_neuron_graph.subgraph(tracklet_nodes))\n",
    "\n",
    "new_name_to_original_name = dict()\n",
    "\n",
    "for n in neuron_nodes:\n",
    "    original_edges = list(global_tracklet_neuron_graph.edges(n, data=True))\n",
    "    \n",
    "    for i_copy in range(len(original_edges)):\n",
    "        # num_copies_already_added = len(original_neuron_to_copy_mapping[n])\n",
    "        new_name = f\"{n}_copy{i_copy}\"\n",
    "        new_name_to_original_name[new_name] = n\n",
    "\n",
    "        # Add a copy of the node for each edge, which has all the original edges\n",
    "        new_edges = [[new_name, e[1], e[2]] for e in original_edges]\n",
    "\n",
    "        global_tracklet_neuron_graph_with_copies.add_edges_from(new_edges)\n",
    "        # break"
   ]
  },
  {
   "cell_type": "code",
   "execution_count": null,
   "id": "2a298665-6dcb-4b3f-8f5b-8c6798864507",
   "metadata": {},
   "outputs": [],
   "source": [
    "# Do normal bipartite matching, such that each tracklet gets a match\n",
    "tracklet_nodes = {n for n, d in global_tracklet_neuron_graph.nodes(data=True) if d[\"bipartite\"] == 1}\n",
    "matching_with_copies = nx.bipartite.maximum_matching(global_tracklet_neuron_graph_with_copies, top_nodes=tracklet_nodes)"
   ]
  },
  {
   "cell_type": "code",
   "execution_count": null,
   "id": "a7c61914-0e87-40a8-a5fe-1907f2d52eb3",
   "metadata": {},
   "outputs": [],
   "source": [
    "# # Hacky way to get original tracklet name from metadata...\n",
    "\n",
    "# def get_tracklet_name_from_metadata(mdat_str):\n",
    "#     import re\n",
    "\n",
    "#     regex = r\"(?:original name (\\w+))\"\n",
    "#     matches = re.finditer(regex, mdat_str, re.MULTILINE)\n",
    "\n",
    "#     for matchNum, match in enumerate(matches, start=1):\n",
    "\n",
    "#         # print (\"Match {matchNum} was found at {start}-{end}: {match}\".format(matchNum = matchNum, start = match.start(), end = match.end(), match = match.group()))\n",
    "\n",
    "#         for groupNum in range(0, len(match.groups())):\n",
    "#             groupNum = groupNum + 1\n",
    "\n",
    "#             # print (\"Group {groupNum} found at {start}-{end}: {group}\".format(groupNum = groupNum, start = match.start(groupNum), end = match.end(groupNum), group = match.group(groupNum)))\n",
    "#     return match.group(groupNum)\n",
    "\n",
    "# def get_neuron_name_from_graph_name(neuron_name):\n",
    "#     return '_'.join(neuron_raw_name.split('_')[-2:])"
   ]
  },
  {
   "cell_type": "code",
   "execution_count": null,
   "id": "09aa2563-3778-4803-a08d-7eb394baf076",
   "metadata": {},
   "outputs": [],
   "source": [
    "# Collapse the added copies back to the original neuron, to get a many-to-one matching\n",
    "final_matching = MatchesWithConfidence()\n",
    "for name0, name1 in matching_with_copies.items():\n",
    "    if 'neuron' in name0:\n",
    "        neuron_copy_name = name0\n",
    "        tracklet_raw_name = name1\n",
    "    else:\n",
    "        tracklet_raw_name = name0\n",
    "        neuron_copy_name = name1\n",
    "        \n",
    "    # Get the names as they are in the graph above\n",
    "    neuron_raw_name = new_name_to_original_name[neuron_copy_name]\n",
    "    weight = global_tracklet_neuron_graph[neuron_raw_name][tracklet_raw_name]['weight']\n",
    "    \n",
    "    # TODO\n",
    "    # tracklet_metadata = global_tracklet_neuron_graph[tracklet_raw_name][neuron_raw_name]['metadata']\n",
    "    \n",
    "    # Get the final names, as they are in the previous dataframes\n",
    "    # tracklet_name = get_tracklet_name_from_metadata(tracklet_metadata)\n",
    "    # neuron_name = get_neuron_name_from_graph_name(neuron_raw_name)\n",
    "    tracklet_name = global_tracklet_neuron_graph.nodes[tracklet_raw_name]['metadata']\n",
    "    neuron_name = global_tracklet_neuron_graph.nodes[neuron_raw_name]['metadata']\n",
    "    \n",
    "    new_match = [neuron_name, tracklet_name, weight]\n",
    "    \n",
    "    final_matching.add_match(new_match)\n",
    "    "
   ]
  },
  {
   "cell_type": "code",
   "execution_count": null,
   "id": "0de7f3a6-8679-4610-bad8-5e31e37b901e",
   "metadata": {},
   "outputs": [],
   "source": [
    "# Finally, make the full dataframe \n",
    "\n",
    "# Initialize using the index and column structure of the tracklets\n",
    "# TODO: Add a column for tracklet ID\n",
    "num_neurons = final_matching.get_num_matches()\n",
    "tmp_names = all_tracklet_names[:num_neurons]\n",
    "df_new = df_tracklets.loc[:, tmp_names].copy()\n",
    "\n",
    "neuron_names = list(set(final_matching.indices0))\n",
    "neuron_names.sort()\n",
    "name_mapper = {t:n for t, n in zip(tmp_names, neuron_names)}\n",
    "df_new.rename(columns=name_mapper, inplace=True)\n",
    "df_new[:] = np.nan\n",
    "\n",
    "max_t = len(df_tracklets)\n",
    "id_vector = np.zeros(max_t)\n",
    "# Actually join\n",
    "for tracklet_name, neuron_name in tqdm(final_matching.get_mapping_1_to_0().items()):\n",
    "    this_tracklet = df_tracklets[tracklet_name]\n",
    "    # Preprocess the tracklet dataframe to have an additional column: the id of the tracklet\n",
    "\n",
    "    nonzero_ind = this_tracklet['z'].notnull()\n",
    "    tracklet_id = int(tracklet_name.split('_')[-1])\n",
    "    \n",
    "    df_new[neuron_name] = df_new[neuron_name].combine_first(this_tracklet)\n",
    "    try:\n",
    "        df_new.loc[nonzero_ind, (neuron_name, 'raw_tracklet_id')] = tracklet_id\n",
    "    except KeyError:\n",
    "        id_vector[:] = np.nan\n",
    "        id_vector[nonzero_ind] = tracklet_id\n",
    "        df_new[neuron_name, 'raw_tracklet_id'] = id_vector\n",
    "    "
   ]
  },
  {
   "cell_type": "markdown",
   "id": "2772dfe6-40cf-4f85-9407-35b6191c2d1b",
   "metadata": {},
   "source": [
    "# Now, save"
   ]
  },
  {
   "cell_type": "code",
   "execution_count": null,
   "id": "2a1894ad-82a4-49d7-b71e-b8ff68641112",
   "metadata": {},
   "outputs": [],
   "source": []
  },
  {
   "cell_type": "code",
   "execution_count": null,
   "id": "b33c0f2b-b59e-438d-97f6-8595878525d6",
   "metadata": {},
   "outputs": [],
   "source": []
  },
  {
   "cell_type": "code",
   "execution_count": null,
   "id": "b0fc1528-d0be-4240-bf99-51f694d36ee7",
   "metadata": {},
   "outputs": [],
   "source": []
  },
  {
   "cell_type": "code",
   "execution_count": null,
   "id": "8eb839f9-52cc-460a-9013-bdb4b85cfc75",
   "metadata": {},
   "outputs": [],
   "source": []
  },
  {
   "cell_type": "code",
   "execution_count": null,
   "id": "732a2f49-c7e3-4576-920e-ea954b313e61",
   "metadata": {},
   "outputs": [],
   "source": [
    "df_new['neuron_005', 'raw_tracklet_id'].plot()"
   ]
  },
  {
   "cell_type": "code",
   "execution_count": null,
   "id": "04ee36cc-9ff9-4725-986b-c8136a90e9af",
   "metadata": {
    "tags": []
   },
   "outputs": [],
   "source": [
    "np.isnan(pd.Series(id_vector))"
   ]
  },
  {
   "cell_type": "code",
   "execution_count": null,
   "id": "7170bd8e-c376-48b6-b2f0-13bb4f166afd",
   "metadata": {},
   "outputs": [],
   "source": [
    "df_new.loc[nonzero_ind, (neuron_name, 'raw_tracklet_id')]"
   ]
  },
  {
   "cell_type": "code",
   "execution_count": null,
   "id": "15a2cace-82f5-41b3-81ec-7c192216f89e",
   "metadata": {},
   "outputs": [],
   "source": [
    "max_t = len(df_tracklets)\n",
    "id_vector = np.zeros(max_t)\n",
    "id_vector[:] = np.nan\n",
    "nonzero_ind = df_tracklets['tracklet_0000001']['z'].notnull()\n",
    "id_vector[nonzero_ind] = 1\n",
    "\n",
    "df_tracklets['tracklet_0000001', 'raw_tracklet_id'] = id_vector\n",
    "df_tracklets['tracklet_0000001', 'raw_tracklet_id']"
   ]
  },
  {
   "cell_type": "code",
   "execution_count": null,
   "id": "7f15e754-c8ec-4ddb-8226-34a11bf315ce",
   "metadata": {},
   "outputs": [],
   "source": [
    "nonzero_ind"
   ]
  },
  {
   "cell_type": "code",
   "execution_count": null,
   "id": "a5de24d2-0e94-4e64-bbc4-0d48105b1a3f",
   "metadata": {},
   "outputs": [],
   "source": [
    "df_tracklets[]"
   ]
  },
  {
   "cell_type": "code",
   "execution_count": null,
   "id": "580fc48d-51e1-47cd-a5ba-0a56504ab9d1",
   "metadata": {},
   "outputs": [],
   "source": []
  },
  {
   "cell_type": "code",
   "execution_count": null,
   "id": "e7deaaec-ad14-4e8d-b1a9-126df89717cd",
   "metadata": {},
   "outputs": [],
   "source": [
    "matches = re.finditer(regex, mdat, re.MULTILINE)\n",
    "\n",
    "list(matches)"
   ]
  },
  {
   "cell_type": "code",
   "execution_count": null,
   "id": "8928eeb6-a14b-4998-9cc4-de54cc3cea3f",
   "metadata": {},
   "outputs": [],
   "source": [
    "mdat = global_tracklet_neuron_graph[neuron_raw_name][tracklet_name]['metadata']"
   ]
  },
  {
   "cell_type": "code",
   "execution_count": null,
   "id": "a59933b1-dbf6-4d22-b5f6-764ad121e581",
   "metadata": {},
   "outputs": [],
   "source": []
  }
 ],
 "metadata": {
  "kernelspec": {
   "display_name": "Python 3 (ipykernel)",
   "language": "python",
   "name": "python3"
  },
  "language_info": {
   "codemirror_mode": {
    "name": "ipython",
    "version": 3
   },
   "file_extension": ".py",
   "mimetype": "text/x-python",
   "name": "python",
   "nbconvert_exporter": "python",
   "pygments_lexer": "ipython3",
   "version": "3.7.11"
  }
 },
 "nbformat": 4,
 "nbformat_minor": 5
}
