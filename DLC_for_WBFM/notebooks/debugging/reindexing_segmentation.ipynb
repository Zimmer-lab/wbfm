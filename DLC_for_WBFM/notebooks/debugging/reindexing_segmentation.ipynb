{
 "cells": [
  {
   "cell_type": "code",
   "execution_count": null,
   "id": "elect-appendix",
   "metadata": {},
   "outputs": [],
   "source": [
    "%load_ext autoreload\n",
    "%autoreload 2\n",
    "\n",
    "from DLC_for_WBFM.utils.projects.utils_project import load_config, safe_cd\n",
    "from pathlib import Path\n",
    "import zarr\n",
    "import os\n",
    "import pickle\n",
    "import napari\n",
    "import numpy as np"
   ]
  },
  {
   "cell_type": "code",
   "execution_count": null,
   "id": "sustainable-gamma",
   "metadata": {},
   "outputs": [],
   "source": [
    "# I think there are several sources that have the original indices, but let me check\n",
    "\n",
    "# Option 1: The final traces objects\n",
    "\n",
    "# Option 2: The final matches object"
   ]
  },
  {
   "cell_type": "code",
   "execution_count": null,
   "id": "damaged-diploma",
   "metadata": {},
   "outputs": [],
   "source": [
    "project_fname = r'Y:\\shared_projects\\wbfm\\dlc_stacks\\Charlie-worm3-long\\project_config.yaml'\n",
    "project_cfg = load_config(project_fname)\n",
    "traces_fname = project_cfg['subfolder_configs']['traces']\n",
    "segment_fname = project_cfg['subfolder_configs']['segmentation']\n",
    "project_dir = Path(project_fname).parent\n",
    "with safe_cd(project_dir):\n",
    "    trace_cfg = load_config(traces_fname)\n",
    "    segment_cfg = load_config(segment_fname)"
   ]
  },
  {
   "cell_type": "code",
   "execution_count": null,
   "id": "appointed-split",
   "metadata": {},
   "outputs": [],
   "source": [
    "# Get matches and segmentation\n",
    "with safe_cd(project_dir):\n",
    "#     fname = trace_cfg['all_matches']\n",
    "#     with open(fname, 'rb') as f:\n",
    "#         all_matches = pickle.load(f)\n",
    "        \n",
    "    fname = segment_cfg['output']['masks']\n",
    "    masks = zarr.open(fname)\n",
    "    \n",
    "    segmentation_fname = segment_cfg['output']['metadata']\n",
    "    with open(segmentation_fname, 'rb') as f:\n",
    "        segmentation_metadata = pickle.load(f)"
   ]
  },
  {
   "cell_type": "code",
   "execution_count": null,
   "id": "varied-century",
   "metadata": {},
   "outputs": [],
   "source": [
    "viewer = napari.view_labels(masks)"
   ]
  },
  {
   "cell_type": "code",
   "execution_count": null,
   "id": "saved-uniform",
   "metadata": {},
   "outputs": [],
   "source": [
    "new_masks = zarr.zeros_like(masks)"
   ]
  },
  {
   "cell_type": "code",
   "execution_count": null,
   "id": "alleged-aquatic",
   "metadata": {},
   "outputs": [],
   "source": [
    "# Rename the first two volumes to be the global indices\n",
    "# i.e. column 0 of the all_matches dict\n",
    "\n",
    "\n",
    "# Build lookup table\n",
    "# Note: if not all neurons are in the matches, then they are set to 0\n",
    "def reindex_vol(i):\n",
    "    # for i_volume, match in tqdm(all_matches.items()):\n",
    "    match = all_matches[i]\n",
    "\n",
    "    final_ind = match[:, 0].astype(int) + 1\n",
    "    local_ind = match[:, 1].astype(int) + 1\n",
    "    lut = np.zeros(1000, dtype=int)  # TODO: Should be more than the maximum local index\n",
    "    # TODO: are the matches always the same length?\n",
    "    lut[local_ind] = final_ind  # Raw indices of the lut should match the local index\n",
    "\n",
    "    # Use lookup table\n",
    "    new_masks[i, ...] = lut[masks[i, ...]]"
   ]
  },
  {
   "cell_type": "code",
   "execution_count": null,
   "id": "acoustic-value",
   "metadata": {},
   "outputs": [],
   "source": [
    "[reindex_vol(i) for i in range(10)]"
   ]
  },
  {
   "cell_type": "code",
   "execution_count": null,
   "id": "current-millennium",
   "metadata": {},
   "outputs": [],
   "source": [
    "viewer = napari.view_labels(new_masks)"
   ]
  },
  {
   "cell_type": "markdown",
   "id": "verbal-nitrogen",
   "metadata": {},
   "source": [
    "## Look at the DLC notations"
   ]
  },
  {
   "cell_type": "code",
   "execution_count": null,
   "id": "placed-butterfly",
   "metadata": {},
   "outputs": [],
   "source": [
    "fname = r'Y:\\shared_projects\\wbfm\\dlc_stacks\\Charlie-immobilized-long\\3-tracking\\C-c10-C-2021-05-28\\videos\\center10DLC_resnet50_C-c10May28shuffle1_50000.h5'\n",
    "import pandas as pd\n",
    "\n",
    "df = pd.read_hdf(fname)"
   ]
  },
  {
   "cell_type": "code",
   "execution_count": null,
   "id": "whole-ivory",
   "metadata": {},
   "outputs": [],
   "source": [
    "# df.columns"
   ]
  },
  {
   "cell_type": "markdown",
   "id": "prepared-disaster",
   "metadata": {},
   "source": [
    "# Look at the original segmentation metadata"
   ]
  },
  {
   "cell_type": "code",
   "execution_count": null,
   "id": "killing-delivery",
   "metadata": {},
   "outputs": [],
   "source": [
    "# all_matches[0]\n"
   ]
  },
  {
   "cell_type": "markdown",
   "id": "enclosed-airfare",
   "metadata": {},
   "source": [
    "# Look at reindexed masks"
   ]
  },
  {
   "cell_type": "code",
   "execution_count": null,
   "id": "adopted-psychiatry",
   "metadata": {},
   "outputs": [],
   "source": [
    "# Get matches and segmentation\n",
    "with safe_cd(project_dir):\n",
    "    fname = os.path.join('4-traces', 'reindexed_masks.zarr')\n",
    "    new_masks = zarr.open(fname)"
   ]
  },
  {
   "cell_type": "code",
   "execution_count": null,
   "id": "center-italy",
   "metadata": {},
   "outputs": [],
   "source": [
    "# viewer = napari.view_labels(new_masks)"
   ]
  },
  {
   "cell_type": "markdown",
   "id": "direct-beast",
   "metadata": {},
   "source": [
    "# Part 2: reindexing just the tracklet training data"
   ]
  },
  {
   "cell_type": "code",
   "execution_count": 2,
   "id": "bibliographic-lying",
   "metadata": {},
   "outputs": [],
   "source": [
    "%load_ext autoreload\n",
    "%autoreload 2\n",
    "\n",
    "from DLC_for_WBFM.utils.projects.utils_project import load_config, safe_cd\n",
    "from pathlib import Path\n",
    "import zarr\n",
    "import os\n",
    "import pickle\n",
    "import napari\n",
    "import pandas as pd\n",
    "import numpy as np\n",
    "from DLC_for_WBFM.utils.visualization.utils_segmentation import all_matches_to_lookup_tables\n",
    "from tqdm.auto import tqdm\n",
    "from DLC_for_WBFM.utils.feature_detection.visualize_using_dlc import build_subset_df"
   ]
  },
  {
   "cell_type": "code",
   "execution_count": 3,
   "id": "desperate-angel",
   "metadata": {},
   "outputs": [],
   "source": [
    "project_fname = r'Y:\\shared_projects\\wbfm\\dlc_stacks\\Charlie-immobilized-long\\project_config.yaml'\n",
    "project_cfg = load_config(project_fname)\n",
    "traces_fname = project_cfg['subfolder_configs']['traces']\n",
    "segment_fname = project_cfg['subfolder_configs']['segmentation']\n",
    "track_fname = project_cfg['subfolder_configs']['tracking']\n",
    "project_dir = Path(project_fname).parent\n",
    "with safe_cd(project_dir):\n",
    "    trace_cfg = load_config(traces_fname)\n",
    "    segment_cfg = load_config(segment_fname)\n",
    "    track_cfg = load_config(track_fname)"
   ]
  },
  {
   "cell_type": "code",
   "execution_count": 4,
   "id": "electrical-zealand",
   "metadata": {},
   "outputs": [
    {
     "name": "stdout",
     "output_type": "stream",
     "text": [
      "104 tracklets overlap in time\n",
      "Keeping 104/327 tracklets\n"
     ]
    }
   ],
   "source": [
    "# Get the frames chosen as training data\n",
    "which_frames = track_cfg['training_data_3d']['which_frames']\n",
    "\n",
    "# Get ALL matches to the segmentation, then subset\n",
    "# Also get segmentation metadata\n",
    "with safe_cd(project_dir):\n",
    "    fname = os.path.join('2-training_data', 'raw', 'clust_df_dat.pickle')\n",
    "    df = pd.read_pickle(fname)\n",
    "    \n",
    "    _get_frames_for_dlc_training(DEBUG, config, df)\n",
    "    \n",
    "    # Build a sub-df with only the relevant neurons; all slices\n",
    "    subset_opt = {'which_z': None,\n",
    "                  'max_z_dist': None,\n",
    "                  'verbose': 1}\n",
    "    subset_df = build_subset_df(df, which_frames, **subset_opt)\n",
    "    \n",
    "    fname = segment_cfg['output']['metadata']\n",
    "    with open(fname, 'rb') as f:\n",
    "        segmentation_metadata = pickle.load(f)\n",
    "    \n",
    "    fname = segment_cfg['output']['masks']\n",
    "    masks = zarr.open(fname)"
   ]
  },
  {
   "cell_type": "code",
   "execution_count": 16,
   "id": "future-pencil",
   "metadata": {},
   "outputs": [
    {
     "data": {
      "application/vnd.jupyter.widget-view+json": {
       "model_id": "ef70c92b9a9f48b48bf1be83ce9a0553",
       "version_major": 2,
       "version_minor": 0
      },
      "text/plain": [
       "0it [00:00, ?it/s]"
      ]
     },
     "metadata": {},
     "output_type": "display_data"
    }
   ],
   "source": [
    "# Convert dataframe to matches per frame\n",
    "all_matches = {}\n",
    "for i, i_frame in tqdm(enumerate(which_frames)):\n",
    "    matches = []\n",
    "    for _, neuron_df in subset_df.iterrows():\n",
    "        i_tracklet = neuron_df['all_ind_local'][i].astype(int)\n",
    "        seg_ind = segmentation_metadata[i_frame].index[i_tracklet].astype(int)\n",
    "        global_ind = neuron_df['clust_ind'] + 1\n",
    "        matches.append([global_ind, seg_ind])\n",
    "    all_matches[i_frame] = np.array(matches)"
   ]
  },
  {
   "cell_type": "code",
   "execution_count": 28,
   "id": "numeric-silly",
   "metadata": {},
   "outputs": [
    {
     "data": {
      "application/vnd.jupyter.widget-view+json": {
       "model_id": "b14de6666c2d4de299937d27c9beb845",
       "version_major": 2,
       "version_minor": 0
      },
      "text/plain": [
       "0it [00:00, ?it/s]"
      ]
     },
     "metadata": {},
     "output_type": "display_data"
    }
   ],
   "source": [
    "all_lut = all_matches_to_lookup_tables(all_matches)\n",
    "\n",
    "new_sz = list(masks.shape)\n",
    "new_sz[0] = len(which_frames)\n",
    "# new_masks = zarr.zeros(new_sz, chunks=masks.chunks, dtype=int)\n",
    "out_fname = os.path.join(project_dir, '2-training_data', 'reindexed_segmentation.zarr')\n",
    "new_masks = zarr.open_like(masks, path=out_fname, shape=new_sz)\n",
    "\n",
    "# Reindex\n",
    "for i, (i_volume, lut) in tqdm(enumerate(all_lut.items())):\n",
    "    new_masks[i, ...] = lut[masks[i_volume, ...]]\n"
   ]
  },
  {
   "cell_type": "code",
   "execution_count": 18,
   "id": "fancy-crash",
   "metadata": {},
   "outputs": [
    {
     "name": "stderr",
     "output_type": "stream",
     "text": [
      "WARNING: QWindowsWindow::setGeometry: Unable to set geometry 1280x619+0+23 (frame: 1296x658-8-8) on QWidgetWindow/\"_QtMainWindowClassWindow\" on \"\\\\.\\DISPLAY1\". Resulting geometry: 1280x609+0+23 (frame: 1296x648-8-8) margins: 8, 31, 8, 8 minimum size: 608x619 MINMAXINFO maxSize=0,0 maxpos=0,0 mintrack=624,658 maxtrack=0,0)\n"
     ]
    }
   ],
   "source": [
    "%gui\n",
    "\n",
    "viewer = napari.view_labels(new_masks)\n"
   ]
  },
  {
   "cell_type": "code",
   "execution_count": 21,
   "id": "wooden-alarm",
   "metadata": {},
   "outputs": [],
   "source": [
    "\n",
    "out_fname = os.path.join('2-training_data', 'reindexed_segmentation.zarr')\n",
    "with safe_cd(project_dir):\n",
    "    zarr.save(out_fname, new_masks)"
   ]
  },
  {
   "cell_type": "code",
   "execution_count": 32,
   "id": "beaf7a37",
   "metadata": {},
   "outputs": [],
   "source": [
    "\n",
    "out_fname = os.path.join('2-training_data', 'tmp.zarr')\n",
    "with safe_cd(project_dir):\n",
    "    z = zarr.open(out_fname)"
   ]
  },
  {
   "cell_type": "code",
   "execution_count": 33,
   "id": "0f57afe8",
   "metadata": {},
   "outputs": [
    {
     "data": {
      "text/plain": [
       "<zarr.core.Array (31, 33, 133, 333) uint16>"
      ]
     },
     "execution_count": 33,
     "metadata": {},
     "output_type": "execute_result"
    }
   ],
   "source": [
    "z"
   ]
  },
  {
   "cell_type": "code",
   "execution_count": null,
   "id": "cdd730fc",
   "metadata": {},
   "outputs": [],
   "source": []
  }
 ],
 "metadata": {
  "kernelspec": {
   "display_name": "Python [conda env:DLC-for-WBFM] *",
   "language": "python",
   "name": "conda-env-DLC-for-WBFM-py"
  },
  "language_info": {
   "codemirror_mode": {
    "name": "ipython",
    "version": 3
   },
   "file_extension": ".py",
   "mimetype": "text/x-python",
   "name": "python",
   "nbconvert_exporter": "python",
   "pygments_lexer": "ipython3",
   "version": "3.7.10"
  }
 },
 "nbformat": 4,
 "nbformat_minor": 5
}
