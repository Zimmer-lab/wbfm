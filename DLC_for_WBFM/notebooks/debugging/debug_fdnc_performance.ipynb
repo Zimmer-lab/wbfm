{
 "cells": [
  {
   "cell_type": "code",
   "execution_count": 7,
   "id": "36709d8b-d674-4e44-aa58-caa1cadf7a49",
   "metadata": {},
   "outputs": [],
   "source": [
    "%load_ext autoreload\n",
    "%autoreload 2\n",
    "import matplotlib.pyplot as plt\n",
    "from DLC_for_WBFM.utils.projects.finished_project_data import ProjectData\n",
    "import napari\n",
    "import pandas as pd\n",
    "import numpy as np\n"
   ]
  },
  {
   "cell_type": "code",
   "execution_count": 8,
   "id": "db64450f-019e-4797-92f6-5e1cccb4898f",
   "metadata": {},
   "outputs": [
    {
     "name": "stderr",
     "output_type": "stream",
     "text": [
      "INFO - 2022-02-01 17:35:29,702 - utils_filenames - File for mode automatic exists at precendence: 1/3\n",
      "INFO - 2022-02-01 17:35:29,703 - utils_filenames - Read data from: /home/charles/dlc_stacks/worm3-tracklet_wiggle/3-tracking/postprocessing/combined_3d_tracks-6.h5\n",
      "INFO - 2022-02-01 17:35:29,704 - utils_filenames - Using most recently modified file\n",
      "INFO - 2022-02-01 17:35:29,706 - finished_project_data - Starting threads to read data...\n",
      "INFO - 2022-02-01 17:35:29,707 - finished_project_data - First time loading the all tracklets, may take a while...\n",
      "INFO - 2022-02-01 17:35:32,547 - utils_filenames - File for mode newest exists at precendence: 1/3\n",
      "INFO - 2022-02-01 17:35:32,550 - utils_filenames - Read data from: /home/charles/dlc_stacks/worm3-tracklet_wiggle/3-tracking/postprocessing/wiggle_split_tracklets.h5\n",
      "WARNING - 2022-02-01 17:35:32,551 - utils_filenames - Not using most recently modified file (mode wiggle)\n",
      "INFO - 2022-02-01 17:35:32,590 - utils_filenames - File for mode manual exists at precendence: 1/2\n",
      "INFO - 2022-02-01 17:35:32,591 - utils_filenames - Read data from: /home/charles/dlc_stacks/worm3-tracklet_wiggle/3-tracking/manual_annotation/global2tracklet_manual-4.pickle\n",
      "WARNING - 2022-02-01 17:35:32,592 - utils_filenames - Not using most recently modified file (mode automatic)\n",
      "INFO - 2022-02-01 17:35:32,597 - finished_project_data - First time loading the raw cluster dataframe, may take a while...\n"
     ]
    },
    {
     "name": "stdout",
     "output_type": "stream",
     "text": [
      "Original fname /home/charles/dlc_stacks/worm3-tracklet_wiggle/3-tracking/manual_annotation/global2tracklet_manual-4.pickle exists, so will be suffixed\n",
      "Removed suffix -4, so the basename is taken as: global2tracklet_manual\n",
      "Original fname /home/charles/dlc_stacks/worm3-tracklet_wiggle/3-tracking/manual_annotation/manually_split_tracklets-4.h5 exists, so will be suffixed\n",
      "Removed suffix -4, so the basename is taken as: manually_split_tracklets\n",
      "Output files for annotator: /home/charles/dlc_stacks/worm3-tracklet_wiggle/3-tracking/manual_annotation/global2tracklet_manual-4.pickle, /home/charles/dlc_stacks/worm3-tracklet_wiggle/3-tracking/manual_annotation/manually_split_tracklets-4.h5, /home/charles/dlc_stacks/worm3-tracklet_wiggle/3-tracking/manual_annotation/split_names.pickle, /home/charles/dlc_stacks/worm3-tracklet_wiggle/3-tracking/manual_annotation/split_times.pickle\n"
     ]
    },
    {
     "name": "stderr",
     "output_type": "stream",
     "text": [
      "INFO - 2022-02-01 17:35:33,169 - finished_project_data - Read all data\n"
     ]
    },
    {
     "name": "stdout",
     "output_type": "stream",
     "text": [
      "=======================================\n",
      "Project data for directory:\n",
      "/home/charles/dlc_stacks/worm3-tracklet_wiggle \n",
      "Found the following data files:\n",
      "============Raw========================\n",
      "red_data:                 True\n",
      "green_data:               True\n",
      "============Annotations================\n",
      "behavior_annotations:     True\n",
      "============Training================\n",
      "df_training_tracklets:    True\n",
      "============Segmentation===============\n",
      "raw_segmentation:         True\n",
      "colored_segmentation:     True\n",
      "============Traces=====================\n",
      "red_traces:               True\n",
      "green_traces:             True\n",
      "\n"
     ]
    }
   ],
   "source": [
    "# fname = \"/scratch/zimmer/Charles/dlc_stacks/worm10-gui_test/project_config.yaml\"\n",
    "fname = \"/home/charles/dlc_stacks/worm3-tracklet_wiggle/project_config.yaml\"\n",
    "project_data = ProjectData.load_final_project_data_from_config(fname, to_load_tracklets=True, to_load_segmentation_metadata=True)"
   ]
  },
  {
   "cell_type": "markdown",
   "id": "b4bc35d7-5bd5-439e-92fd-74c406a141be",
   "metadata": {},
   "source": [
    "# Build the fdnc prediction object, and visualize"
   ]
  },
  {
   "cell_type": "code",
   "execution_count": 35,
   "id": "ace59568-2fce-439e-a14b-c6cf2f9b7ae2",
   "metadata": {},
   "outputs": [],
   "source": [
    "from DLC_for_WBFM.utils.nn_utils.fdnc_class import fDNCTracker"
   ]
  },
  {
   "cell_type": "code",
   "execution_count": 36,
   "id": "fe7b74cb-f935-4965-95dd-286391b78fa2",
   "metadata": {},
   "outputs": [
    {
     "name": "stderr",
     "output_type": "stream",
     "text": [
      "INFO - 2022-02-01 17:42:37,168 - fdnc_predict - Found cuda!\n",
      "WARNING - 2022-02-01 17:42:37,169 - project_config_classes - Using default physical unit conversions\n"
     ]
    }
   ],
   "source": [
    "tracker = fDNCTracker.load_from_project_data(project_data)"
   ]
  },
  {
   "cell_type": "code",
   "execution_count": 37,
   "id": "37ff1071-fb3e-48c7-a33f-e13f989e3cbc",
   "metadata": {},
   "outputs": [],
   "source": [
    "pts1 = tracker.get_pts(project_data, 1)\n",
    "matches01 = tracker.predict_matches_from_points(pts1)"
   ]
  },
  {
   "cell_type": "code",
   "execution_count": 38,
   "id": "44d22e88-fa73-4415-aa61-bbd58fd0be8e",
   "metadata": {},
   "outputs": [
    {
     "data": {
      "text/plain": [
       "[(8, 0, 0.37564877),\n",
       " (7, 1, 0.82842296),\n",
       " (2, 2, 0.9179145),\n",
       " (5, 3, 0.31335077),\n",
       " (1, 4, 0.8594598)]"
      ]
     },
     "execution_count": 38,
     "metadata": {},
     "output_type": "execute_result"
    }
   ],
   "source": [
    "matches01[:5]"
   ]
  },
  {
   "cell_type": "code",
   "execution_count": 12,
   "id": "52c90784-2092-48ef-abeb-2290db3821d6",
   "metadata": {},
   "outputs": [],
   "source": [
    "from DLC_for_WBFM.utils.visualization.visualization_tracks import visualize_tracks\n",
    "from DLC_for_WBFM.utils.general.point_clouds.point_cloud_class import PointCloudPair"
   ]
  },
  {
   "cell_type": "code",
   "execution_count": 7,
   "id": "06779df5-d500-4604-bac6-8a74265ecdd6",
   "metadata": {},
   "outputs": [
    {
     "name": "stdout",
     "output_type": "stream",
     "text": [
      "Jupyter environment detected. Enabling Open3D WebVisualizer.\n",
      "[Open3D INFO] WebRTC GUI backend enabled.\n",
      "[Open3D INFO] WebRTCWindowSystem: HTTP handshake server disabled.\n"
     ]
    },
    {
     "data": {
      "text/plain": [
       "[LineSet with 138 lines.,\n",
       " PointCloud with 145 points.,\n",
       " PointCloud with 147 points.]"
      ]
     },
     "execution_count": 7,
     "metadata": {},
     "output_type": "execute_result"
    }
   ],
   "source": [
    "visualize_tracks(tracker.template, pts1, matches=np.array(matches01)[:, :2])"
   ]
  },
  {
   "cell_type": "code",
   "execution_count": 29,
   "id": "255a16c8-71d7-44ed-837d-6497e6df7e88",
   "metadata": {},
   "outputs": [],
   "source": [
    "pts1 = tracker.get_pts(project_data, 1)\n",
    "matches = tracker.visualize_matches_open3d(pts1);"
   ]
  },
  {
   "cell_type": "code",
   "execution_count": 30,
   "id": "f576d328-3c68-43d1-9907-44f037018f80",
   "metadata": {},
   "outputs": [],
   "source": [
    "pc_pair = PointCloudPair(tracker.template, pts1, matches)"
   ]
  },
  {
   "cell_type": "code",
   "execution_count": 31,
   "id": "0ee38a55-e966-4417-bbed-580513a69cec",
   "metadata": {},
   "outputs": [],
   "source": [
    "pc_pair.visualize_matches_open3d()"
   ]
  },
  {
   "cell_type": "code",
   "execution_count": 32,
   "id": "8fa37e44-367b-4925-8558-1df47252005c",
   "metadata": {},
   "outputs": [],
   "source": [
    "pc_pair.visualize_matches_open3d(True)"
   ]
  },
  {
   "cell_type": "markdown",
   "id": "0c0abc11-abd8-45c4-b8c2-aab7e03ee4a3",
   "metadata": {},
   "source": [
    "# Re-match using prerotation"
   ]
  },
  {
   "cell_type": "code",
   "execution_count": 121,
   "id": "d46c7038-14f4-4947-9621-422990be4d59",
   "metadata": {},
   "outputs": [],
   "source": [
    "pts1 = tracker.get_pts(project_data, 1)\n",
    "matches_raw = tracker.predict_matches_from_points(pts1);\n",
    "# Initial matches\n",
    "pc_pair_raw = PointCloudPair(tracker.template, pts1, matches_raw, confidence_threshold=0.1)\n",
    "\n",
    "transformed_pts1 = pc_pair_raw.transformed_pts1.copy()\n",
    "matches_transformed = tracker.predict_matches_from_points(transformed_pts1);\n",
    "pc_pair_transformed = PointCloudPair(tracker.template, transformed_pts1, matches_transformed, confidence_threshold=0.1)"
   ]
  },
  {
   "cell_type": "code",
   "execution_count": 122,
   "id": "821fdd62-41bf-436e-b7ee-48e6381772f1",
   "metadata": {},
   "outputs": [],
   "source": [
    "pc_pair_raw.visualize_matches_open3d(rigidly_rotate=False)"
   ]
  },
  {
   "cell_type": "code",
   "execution_count": 123,
   "id": "3e61c3ad-0661-4f54-87bc-9f0829ad285d",
   "metadata": {},
   "outputs": [],
   "source": [
    "pc_pair_raw.visualize_matches_open3d(rigidly_rotate=True)"
   ]
  },
  {
   "cell_type": "code",
   "execution_count": 57,
   "id": "904d1f6b-b42a-432a-afdb-79f2c122cdee",
   "metadata": {},
   "outputs": [],
   "source": [
    "pc_pair_transformed.visualize_matches_open3d()"
   ]
  },
  {
   "cell_type": "markdown",
   "id": "2b64c63a-1cda-41a7-89c7-74bf3be86cad",
   "metadata": {},
   "source": [
    "# Use the leifer template"
   ]
  },
  {
   "cell_type": "code",
   "execution_count": 87,
   "id": "a5c45810-0979-49b4-bb26-40cf2a29632b",
   "metadata": {},
   "outputs": [],
   "source": [
    "tracker = fDNCTracker.load_from_project_data(project_data, initialize_template=False)"
   ]
  },
  {
   "cell_type": "code",
   "execution_count": 94,
   "id": "c66dc370-35d9-468e-b1f1-f3ab73332163",
   "metadata": {},
   "outputs": [],
   "source": [
    "tracker.initialize_leifer_template()"
   ]
  },
  {
   "cell_type": "code",
   "execution_count": 113,
   "id": "74ddad32-8c14-429a-8ab1-4a6060d8d74b",
   "metadata": {},
   "outputs": [],
   "source": [
    "pts1 = tracker.get_pts(project_data, 177)\n",
    "matches_raw = tracker.predict_matches_from_points(pts1);\n",
    "# Initial matches\n",
    "pc_pair_raw = PointCloudPair(tracker.template, pts1, matches_raw, confidence_threshold=0.1)\n",
    "\n",
    "# transformed_pts1 = pc_pair_raw.transformed_pts1.copy()\n",
    "# matches_transformed = tracker.predict_matches_from_points(transformed_pts1);\n",
    "# pc_pair_transformed = PointCloudPair(tracker.template, transformed_pts1, matches_transformed, confidence_threshold=0.1)"
   ]
  },
  {
   "cell_type": "code",
   "execution_count": 114,
   "id": "a0b7c697-6e8f-4243-a67b-a9530e3e7d09",
   "metadata": {},
   "outputs": [],
   "source": [
    "pc_pair_raw.visualize_matches_open3d(rigidly_rotate=False)"
   ]
  },
  {
   "cell_type": "code",
   "execution_count": 115,
   "id": "acda6634-3e56-4adc-a76f-b2809969d823",
   "metadata": {},
   "outputs": [],
   "source": [
    "pc_pair_raw.visualize_matches_open3d(rigidly_rotate=True)"
   ]
  },
  {
   "cell_type": "markdown",
   "id": "61be00e1-a78f-4da8-aec5-a5c7bfeb3ee1",
   "metadata": {},
   "source": [
    "# Use CPD (leifer implementation)"
   ]
  },
  {
   "cell_type": "code",
   "execution_count": 9,
   "id": "6c48276f-8fe8-4be0-bb31-68ec43d4c4b1",
   "metadata": {},
   "outputs": [],
   "source": [
    "from fDNC.src.cpd_rigid_sep import register_rigid"
   ]
  },
  {
   "cell_type": "code",
   "execution_count": 11,
   "id": "17657d74-9c91-4082-a604-f6bd8d38cb79",
   "metadata": {},
   "outputs": [],
   "source": [
    "pts0 = tracker.template\n",
    "pts1 = tracker.get_pts(project_data, 1)\n",
    "\n",
    "# out = register_translation(pts0, pts1, w=0.1)"
   ]
  },
  {
   "cell_type": "code",
   "execution_count": 10,
   "id": "c3aa0970-0778-431a-ab8c-dd20af54d534",
   "metadata": {},
   "outputs": [],
   "source": [
    "from probreg import bcpd, cpd\n",
    "from DLC_for_WBFM.utils.visualization.visualization_tracks import build_pair_of_point_clouds\n",
    "from probreg import callbacks\n",
    "\n",
    "_, _, pc0, pc1 = build_pair_of_point_clouds(pts0, pts1)\n",
    "# cbs = [callbacks.Open3dVisualizerCallback(pc0, pc1)]\n",
    "\n",
    "bcpd_kwargs = {'lmd':5.0, 'k':1e20, 'gamma':0.1}\n",
    "options = {'w': 0.01, 'maxiter': 100, 'tol': 1e-16}\n",
    "tf_param = bcpd.registration_bcpd(pc0, pc1, **options, **bcpd_kwargs)\n",
    "\n",
    "transform_pc0 = tf_param.transform(pc0.points)\n",
    "pc_pair_cpd = PointCloudPair(pts0, np.array(transform_pc0), None, confidence_threshold=0.1)\n",
    "pc_pair_cpd.visualize_matches_open3d()"
   ]
  },
  {
   "cell_type": "markdown",
   "id": "c540b681-a393-4a7f-9cf1-1fccada67044",
   "metadata": {},
   "source": [
    "# Do filterreg"
   ]
  },
  {
   "cell_type": "code",
   "execution_count": 12,
   "id": "be69609c-e1cd-40f4-9917-644e5d92c43a",
   "metadata": {},
   "outputs": [],
   "source": [
    "from probreg import features\n",
    "from probreg import filterreg"
   ]
  },
  {
   "cell_type": "code",
   "execution_count": 3,
   "id": "d3b988c3-92cc-4595-813d-fba8f1fd827e",
   "metadata": {},
   "outputs": [
    {
     "ename": "NameError",
     "evalue": "name 'tracker' is not defined",
     "output_type": "error",
     "traceback": [
      "\u001b[0;31m---------------------------------------------------------------------------\u001b[0m",
      "\u001b[0;31mNameError\u001b[0m                                 Traceback (most recent call last)",
      "\u001b[0;32m/tmp/ipykernel_45036/1913062350.py\u001b[0m in \u001b[0;36m<module>\u001b[0;34m\u001b[0m\n\u001b[0;32m----> 1\u001b[0;31m \u001b[0mpts0\u001b[0m \u001b[0;34m=\u001b[0m \u001b[0mtracker\u001b[0m\u001b[0;34m.\u001b[0m\u001b[0mtemplate\u001b[0m\u001b[0;34m\u001b[0m\u001b[0;34m\u001b[0m\u001b[0m\n\u001b[0m\u001b[1;32m      2\u001b[0m \u001b[0mpts1\u001b[0m \u001b[0;34m=\u001b[0m \u001b[0mtracker\u001b[0m\u001b[0;34m.\u001b[0m\u001b[0mget_pts\u001b[0m\u001b[0;34m(\u001b[0m\u001b[0mproject_data\u001b[0m\u001b[0;34m,\u001b[0m \u001b[0;36m1\u001b[0m\u001b[0;34m)\u001b[0m\u001b[0;34m\u001b[0m\u001b[0;34m\u001b[0m\u001b[0m\n\u001b[1;32m      3\u001b[0m \u001b[0;34m\u001b[0m\u001b[0m\n\u001b[1;32m      4\u001b[0m \u001b[0m_\u001b[0m\u001b[0;34m,\u001b[0m \u001b[0m_\u001b[0m\u001b[0;34m,\u001b[0m \u001b[0mpc0\u001b[0m\u001b[0;34m,\u001b[0m \u001b[0mpc1\u001b[0m \u001b[0;34m=\u001b[0m \u001b[0mbuild_pair_of_point_clouds\u001b[0m\u001b[0;34m(\u001b[0m\u001b[0mpts0\u001b[0m\u001b[0;34m,\u001b[0m \u001b[0mpts1\u001b[0m\u001b[0;34m)\u001b[0m\u001b[0;34m\u001b[0m\u001b[0;34m\u001b[0m\u001b[0m\n\u001b[1;32m      5\u001b[0m \u001b[0mcbs\u001b[0m \u001b[0;34m=\u001b[0m \u001b[0;34m[\u001b[0m\u001b[0mcallbacks\u001b[0m\u001b[0;34m.\u001b[0m\u001b[0mOpen3dVisualizerCallback\u001b[0m\u001b[0;34m(\u001b[0m\u001b[0mpc0\u001b[0m\u001b[0;34m,\u001b[0m \u001b[0mpc1\u001b[0m\u001b[0;34m)\u001b[0m\u001b[0;34m]\u001b[0m\u001b[0;34m\u001b[0m\u001b[0;34m\u001b[0m\u001b[0m\n",
      "\u001b[0;31mNameError\u001b[0m: name 'tracker' is not defined"
     ]
    }
   ],
   "source": [
    "pts0 = tracker.template\n",
    "pts1 = tracker.get_pts(project_data, 1)\n",
    "\n",
    "_, _, pc0, pc1 = build_pair_of_point_clouds(pts0, pts1)\n",
    "cbs = [callbacks.Open3dVisualizerCallback(pc0, pc1)]\n",
    "# cbs = []\n",
    "\n",
    "objective_type = 'pt2pt'\n",
    "# tf_param, _, _ = filterreg.registration_filterreg(pc0, pc1,\n",
    "#                                                   maxiter=200,\n",
    "#                                                   w=0.1,\n",
    "#                                                   tol=1e-12,\n",
    "#                                                   objective_type=objective_type,\n",
    "#                                                   update_sigma2=True,\n",
    "#                                                   sigma2=1000000, feature_fn=features.FPFH(),\n",
    "#                                                   callbacks=cbs)"
   ]
  },
  {
   "cell_type": "code",
   "execution_count": 87,
   "id": "e9be185e-ff80-4d84-a2cb-1bccd52ced9b",
   "metadata": {},
   "outputs": [],
   "source": [
    "\n",
    "transform_pc0 = tf_param.transform(pc0.points)\n",
    "pc_pair_cpd = PointCloudPair(pts1, np.array(transform_pc0), None, confidence_threshold=0.1)\n",
    "pc_pair_cpd.visualize_matches_open3d()"
   ]
  },
  {
   "cell_type": "code",
   "execution_count": 81,
   "id": "beb34f17-ea49-4ee7-a71d-6f037dbc10e3",
   "metadata": {},
   "outputs": [],
   "source": [
    "# np.array(transform_pc0) - pts0\n",
    "# pc_pair_raw = PointCloudPair(pts0, pts1, None, confidence_threshold=0.1)\n",
    "# pc_pair_raw.visualize_matches_open3d()"
   ]
  },
  {
   "cell_type": "markdown",
   "id": "f0ce855b-cecb-4970-a550-48e5f02eb659",
   "metadata": {},
   "source": [
    "# Simple FPFH\n"
   ]
  },
  {
   "cell_type": "code",
   "execution_count": 43,
   "id": "90a47cf3-4fdd-4f7b-8384-b496a3f3b736",
   "metadata": {},
   "outputs": [],
   "source": [
    "from DLC_for_WBFM.utils.visualization.visualization_tracks import build_pair_of_point_clouds\n",
    "from DLC_for_WBFM.utils.external.utils_networkx import calc_bipartite_from_positions\n",
    "import open3d as o3d\n",
    "\n"
   ]
  },
  {
   "cell_type": "code",
   "execution_count": 97,
   "id": "7b66cb80-cf95-48f6-985d-6e8eddd0b83c",
   "metadata": {},
   "outputs": [],
   "source": [
    "\n",
    "pts0 = tracker.get_pts(project_data, 0)\n",
    "pts1 = tracker.get_pts(project_data, 1)\n",
    "_, _, pc0, pc1 = build_pair_of_point_clouds(pts0, pts1)\n",
    "\n",
    "radius_feature = 0.1\n",
    "radius_normal = 0.1\n",
    "max_nn = 100\n",
    "\n",
    "pc0.estimate_normals(\n",
    "    o3d.geometry.KDTreeSearchParamHybrid(radius=radius_normal, max_nn=max_nn))\n",
    "fpfh0 = o3d.pipelines.registration.compute_fpfh_feature(\n",
    "        pc0,\n",
    "        o3d.geometry.KDTreeSearchParamHybrid(radius=radius_feature, max_nn=max_nn))\n",
    "\n",
    "pc1.estimate_normals(\n",
    "    o3d.geometry.KDTreeSearchParamHybrid(radius=radius_normal, max_nn=max_nn))\n",
    "fpfh1 = o3d.pipelines.registration.compute_fpfh_feature(\n",
    "        pc1,\n",
    "        o3d.geometry.KDTreeSearchParamHybrid(radius=radius_feature, max_nn=max_nn))"
   ]
  },
  {
   "cell_type": "code",
   "execution_count": 98,
   "id": "ff673ce2-0670-4509-a9e5-5789d6495a63",
   "metadata": {},
   "outputs": [],
   "source": [
    "matches, conf, _ = calc_bipartite_from_positions(fpfh0.data.T, fpfh1.data.T)\n",
    "\n",
    "pc_pair_cpd = PointCloudPair(pts0, pts1, matches, confidence_threshold=0.0)\n",
    "pc_pair_cpd.visualize_matches_open3d()"
   ]
  },
  {
   "cell_type": "code",
   "execution_count": 74,
   "id": "ad1cd8f5-66c3-4bd5-aaef-8a89104c5a30",
   "metadata": {},
   "outputs": [
    {
     "data": {
      "text/plain": [
       "([array([ 0.,  4., 10., 25., 24., 37., 26., 12., 11.,  6.]),\n",
       "  array([ 1.,  2.,  1.,  9., 21., 80., 41.,  0.,  0.,  0.]),\n",
       "  array([ 0.,  0.,  0.,  0., 44., 95., 16.,  0.,  0.,  0.])],\n",
       " array([-0.93137836, -0.75906402, -0.58674969, -0.41443535, -0.24212101,\n",
       "        -0.06980667,  0.10250767,  0.274822  ,  0.44713634,  0.61945068,\n",
       "         0.79176502]),\n",
       " <a list of 3 Lists of Patches objects>)"
      ]
     },
     "execution_count": 74,
     "metadata": {},
     "output_type": "execute_result"
    },
    {
     "data": {
      "image/png": "[encoded data removed]",
      "text/plain": [
       "<Figure size 432x288 with 1 Axes>"
      ]
     },
     "metadata": {
      "needs_background": "light"
     },
     "output_type": "display_data"
    }
   ],
   "source": [
    "plt.hist(pts0)"
   ]
  },
  {
   "cell_type": "code",
   "execution_count": null,
   "id": "5123cf1d-2aa2-4437-b421-2e8b386f9dd3",
   "metadata": {},
   "outputs": [],
   "source": []
  }
 ],
 "metadata": {
  "kernelspec": {
   "display_name": "Python 3 (ipykernel)",
   "language": "python",
   "name": "python3"
  },
  "language_info": {
   "codemirror_mode": {
    "name": "ipython",
    "version": 3
   },
   "file_extension": ".py",
   "mimetype": "text/x-python",
   "name": "python",
   "nbconvert_exporter": "python",
   "pygments_lexer": "ipython3",
   "version": "3.7.11"
  }
 },
 "nbformat": 4,
 "nbformat_minor": 5
}
