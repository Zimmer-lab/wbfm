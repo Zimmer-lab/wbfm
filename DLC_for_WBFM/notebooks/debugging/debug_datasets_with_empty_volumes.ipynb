{
 "cells": [
  {
   "cell_type": "code",
   "execution_count": 1,
   "id": "1ae04a92-92fc-42b2-8d01-1bdadecf6778",
   "metadata": {},
   "outputs": [
    {
     "name": "stderr",
     "output_type": "stream",
     "text": [
      "\n",
      "Bad key \"text.kerning_factor\" on line 4 in\n",
      "/home/charles/anaconda3/envs/torch/lib/python3.7/site-packages/matplotlib/mpl-data/stylelib/_classic_test_patch.mplstyle.\n",
      "You probably need to get an updated matplotlibrc file from\n",
      "http://github.com/matplotlib/matplotlib/blob/master/matplotlibrc.template\n",
      "or from the matplotlib source distribution\n"
     ]
    }
   ],
   "source": [
    "%load_ext autoreload\n",
    "%autoreload 2\n",
    "import matplotlib.pyplot as plt\n",
    "from DLC_for_WBFM.utils.projects.finished_project_data import ProjectData\n",
    "import napari\n",
    "import pandas as pd\n",
    "import numpy as np\n",
    "from DLC_for_WBFM.utils.feature_detection.class_frame_pair import FramePair\n"
   ]
  },
  {
   "cell_type": "code",
   "execution_count": 2,
   "id": "a1829d16-4d1a-4588-a4fb-6fad8b647611",
   "metadata": {},
   "outputs": [
    {
     "name": "stderr",
     "output_type": "stream",
     "text": [
      "WARNING:root:Did not find file /scratch/zimmer/Charles/dlc_stacks/worm10-gui_test/2-training_data/training_tracklets.h5\n",
      "WARNING:root:Did not find file /scratch/zimmer/Charles/dlc_stacks/worm10-gui_test/2-training_data/reindexed_masks.zarr\n",
      "WARNING:root:Did not find file /scratch/zimmer/Charles/dlc_stacks/worm10-gui_test/3-tracking/manual_annotation/split_names.pickle\n",
      "WARNING:root:Did not find file /scratch/zimmer/Charles/dlc_stacks/worm10-gui_test/3-tracking/manual_annotation/split_times.pickle\n"
     ]
    },
    {
     "name": "stdout",
     "output_type": "stream",
     "text": [
      "Output files: /scratch/zimmer/Charles/dlc_stacks/worm10-gui_test/3-tracking/manual_annotation/global2tracklet_manual.pickle, /scratch/zimmer/Charles/dlc_stacks/worm10-gui_test/3-tracking/manual_annotation/manually_split_tracklets.h5, /scratch/zimmer/Charles/dlc_stacks/worm10-gui_test/3-tracking/manual_annotation/split_names.pickle, /scratch/zimmer/Charles/dlc_stacks/worm10-gui_test/3-tracking/manual_annotation/split_times.pickle\n"
     ]
    },
    {
     "name": "stderr",
     "output_type": "stream",
     "text": [
      "WARNING:root:Did not find file /scratch/zimmer/Charles/dlc_stacks/worm10-gui_test/4-traces/reindexed_masks.zarr\n",
      "WARNING:root:Did not find file /scratch/zimmer/Charles/dlc_stacks/worm10-gui_test/3-tracking/postprocessing/manual_behavior_annotation.xlsx\n"
     ]
    },
    {
     "name": "stdout",
     "output_type": "stream",
     "text": [
      "=======================================\n",
      "Project data for directory:\n",
      "/scratch/zimmer/Charles/dlc_stacks/worm10-gui_test \n",
      "=======================================\n",
      "Found the following raw data files:\n",
      "red_data:                 True\n",
      "green_data:               True\n",
      "============Segmentation===============\n",
      "raw_segmentation:         True\n",
      "segmentation:             False\n",
      "============Tracklets==================\n",
      "df_training_tracklets:    False\n",
      "reindexed_masks_training: False\n",
      "============Traces=====================\n",
      "red_traces:               False\n",
      "green_traces:             False\n",
      "final_tracks:             False\n",
      "behavior_annotations:     False\n",
      "\n"
     ]
    }
   ],
   "source": [
    "fname = \"/scratch/zimmer/Charles/dlc_stacks/worm10-gui_test/project_config.yaml\"\n",
    "project_data = ProjectData.load_final_project_data_from_config(fname, to_load_tracklets=True, to_load_segmentation_metadata=True)"
   ]
  },
  {
   "cell_type": "markdown",
   "id": "b94accb5-855c-4faf-b871-c17dec97d91c",
   "metadata": {},
   "source": [
    "# Just look"
   ]
  },
  {
   "cell_type": "code",
   "execution_count": null,
   "id": "5f2f7d9e-8aef-4ff9-b908-4685502bc2cb",
   "metadata": {},
   "outputs": [],
   "source": [
    "i_crash = 980"
   ]
  },
  {
   "cell_type": "code",
   "execution_count": null,
   "id": "bf7731de-813e-4c43-b4b3-c350db3da0f4",
   "metadata": {},
   "outputs": [],
   "source": [
    "# Use progress_gui"
   ]
  },
  {
   "cell_type": "markdown",
   "id": "7beaa188-4d4e-4eb6-84dd-c399c8544190",
   "metadata": {},
   "source": [
    "# Try to match volumes that keep crashing"
   ]
  },
  {
   "cell_type": "code",
   "execution_count": 3,
   "id": "ebed5008-629e-46fd-9a86-e3be7921c332",
   "metadata": {},
   "outputs": [],
   "source": [
    "all_frames = project_data.raw_frames"
   ]
  },
  {
   "cell_type": "code",
   "execution_count": 13,
   "id": "5174aca3-e5a7-41cf-aa3d-a33dae683422",
   "metadata": {},
   "outputs": [],
   "source": [
    "i_crash = 1651"
   ]
  },
  {
   "cell_type": "code",
   "execution_count": 14,
   "id": "a1ecca5d-427f-4016-99be-68a27a44a685",
   "metadata": {},
   "outputs": [],
   "source": [
    "f0, f1 = all_frames[i_crash], all_frames[i_crash+1]"
   ]
  },
  {
   "cell_type": "code",
   "execution_count": 15,
   "id": "8065f7fe-877c-47f6-847c-3b25f4a89207",
   "metadata": {},
   "outputs": [
    {
     "data": {
      "text/plain": [
       "ReferenceFrame with 38 neurons "
      ]
     },
     "execution_count": 15,
     "metadata": {},
     "output_type": "execute_result"
    }
   ],
   "source": [
    "f0"
   ]
  },
  {
   "cell_type": "code",
   "execution_count": 16,
   "id": "49a888ea-39d7-4833-bbf6-22cfd88fe536",
   "metadata": {},
   "outputs": [
    {
     "data": {
      "text/plain": [
       "ReferenceFrame with 37 neurons "
      ]
     },
     "execution_count": 16,
     "metadata": {},
     "output_type": "execute_result"
    }
   ],
   "source": [
    "f1"
   ]
  },
  {
   "cell_type": "code",
   "execution_count": 17,
   "id": "f3a0aad0-c5c9-4c19-b5fa-b3997415ed05",
   "metadata": {},
   "outputs": [],
   "source": [
    "pairwise_matches_params = project_data.project_config.get_frame_pair_options()"
   ]
  },
  {
   "cell_type": "code",
   "execution_count": 18,
   "id": "d0e6f80b-ce4b-4fbb-95fd-82393f8e7219",
   "metadata": {},
   "outputs": [],
   "source": [
    "from DLC_for_WBFM.utils.feature_detection.class_frame_pair import calc_FramePair_from_Frames"
   ]
  },
  {
   "cell_type": "code",
   "execution_count": 21,
   "id": "d7360183-5854-4899-9ee3-986dd897b803",
   "metadata": {},
   "outputs": [
    {
     "data": {
      "application/vnd.jupyter.widget-view+json": {
       "model_id": "",
       "version_major": 2,
       "version_minor": 0
      },
      "text/plain": [
       "  0%|          | 0/21 [00:00<?, ?it/s]"
      ]
     },
     "metadata": {},
     "output_type": "display_data"
    }
   ],
   "source": [
    "this_pair = calc_FramePair_from_Frames(f0, f1, frame_pair_options=pairwise_matches_params)"
   ]
  },
  {
   "cell_type": "code",
   "execution_count": 22,
   "id": "38cd9ca6-bb3c-451c-afb1-c649740899fc",
   "metadata": {},
   "outputs": [
    {
     "data": {
      "text/plain": [
       "FramePair with 3/37 matches "
      ]
     },
     "execution_count": 22,
     "metadata": {},
     "output_type": "execute_result"
    }
   ],
   "source": [
    "this_pair"
   ]
  },
  {
   "cell_type": "code",
   "execution_count": null,
   "id": "80185be8-2791-4c06-8456-8cdf869b119d",
   "metadata": {},
   "outputs": [],
   "source": []
  }
 ],
 "metadata": {
  "kernelspec": {
   "display_name": "Python 3 (ipykernel)",
   "language": "python",
   "name": "python3"
  },
  "language_info": {
   "codemirror_mode": {
    "name": "ipython",
    "version": 3
   },
   "file_extension": ".py",
   "mimetype": "text/x-python",
   "name": "python",
   "nbconvert_exporter": "python",
   "pygments_lexer": "ipython3",
   "version": "3.7.11"
  }
 },
 "nbformat": 4,
 "nbformat_minor": 5
}
