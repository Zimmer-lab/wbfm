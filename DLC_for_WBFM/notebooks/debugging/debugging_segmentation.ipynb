{
 "cells": [
  {
   "cell_type": "markdown",
   "id": "c33d6db3-8683-42c7-9bf8-0de5e66ca28e",
   "metadata": {},
   "source": []
  },
  {
   "cell_type": "code",
   "execution_count": 15,
   "id": "3ceb8d3f-bb0d-4708-8943-bdcc3713a21b",
   "metadata": {},
   "outputs": [
    {
     "name": "stdout",
     "output_type": "stream",
     "text": [
      "The autoreload extension is already loaded. To reload it, use:\n",
      "  %reload_ext autoreload\n"
     ]
    }
   ],
   "source": [
    "%load_ext autoreload\n",
    "%autoreload 2\n",
    "import zarr\n",
    "import napari\n",
    "import pandas as pd\n",
    "import matplotlib.pyplot as plt\n",
    "import numpy as np\n",
    "from pathlib import Path\n",
    "import os\n",
    "from wbfm.utils.projects.utils_project import load_config, safe_cd\n",
    "import tifffile"
   ]
  },
  {
   "cell_type": "markdown",
   "id": "0d300965-7d61-4ffc-b765-17df31b700cf",
   "metadata": {},
   "source": [
    "# New network: Freely moving project"
   ]
  },
  {
   "cell_type": "code",
   "execution_count": 7,
   "id": "604368e7-c652-47c5-9c7b-6f254c5c6e50",
   "metadata": {},
   "outputs": [],
   "source": [
    "project_path = r'Y:/shared_projects/wbfm/dlc_stacks/Charlie-worm3-new-seg/project_config.yaml'\n",
    "\n",
    "project_cfg = load_config(project_path)\n",
    "project_dir = Path(project_path).parent\n",
    "\n",
    "fname = project_cfg['preprocessed_red']\n",
    "red_dat = zarr.open(fname)\n",
    "\n",
    "fname = project_cfg['preprocessed_green']\n",
    "green_dat = zarr.open(fname)\n",
    "\n",
    "with safe_cd(project_dir):\n",
    "    fname = os.path.join('1-segmentation', 'masks_1500.zarr')\n",
    "    seg_dat = zarr.open(fname)"
   ]
  },
  {
   "cell_type": "code",
   "execution_count": 8,
   "id": "20ef4018-3d8f-4b8f-a819-fa40f9847050",
   "metadata": {},
   "outputs": [
    {
     "name": "stderr",
     "output_type": "stream",
     "text": [
      "C:\\Users\\charles.fieseler\\Anaconda3\\envs\\segmentation\\lib\\site-packages\\napari\\_vispy\\vispy_camera.py:109: RuntimeWarning: divide by zero encountered in true_divide\n",
      "  zoom = np.min(canvas_size / scale)\n"
     ]
    },
    {
     "data": {
      "text/plain": [
       "<Labels layer 'seg_dat' at 0x115334844c8>"
      ]
     },
     "execution_count": 8,
     "metadata": {},
     "output_type": "execute_result"
    }
   ],
   "source": [
    "viewer = napari.view_image(red_dat)\n",
    "viewer.add_labels(seg_dat)"
   ]
  },
  {
   "cell_type": "markdown",
   "id": "2972f9c6-60d8-4f1c-934d-c0f11c5d5383",
   "metadata": {},
   "source": [
    "# Old network: freely moving project"
   ]
  },
  {
   "cell_type": "code",
   "execution_count": 19,
   "id": "2fe2b3a8-31e3-45f2-8d84-5edcd4412a07",
   "metadata": {},
   "outputs": [],
   "source": [
    "project_path = r'Y:/shared_projects/wbfm/dlc_stacks/Charlie-worm3-long/project_config.yaml'\n",
    "\n",
    "project_cfg = load_config(project_path)\n",
    "project_dir = Path(project_path).parent\n",
    "\n",
    "fname = project_cfg['preprocessed_red']\n",
    "red_dat = zarr.open(fname)\n",
    "\n",
    "fname = project_cfg['preprocessed_green']\n",
    "green_dat = zarr.open(fname)\n",
    "\n",
    "with safe_cd(project_dir):\n",
    "    fname = os.path.join('1-segmentation', 'masks_1500.zarr')\n",
    "    seg_dat = zarr.open(fname)"
   ]
  },
  {
   "cell_type": "code",
   "execution_count": 20,
   "id": "5f76fe56-0a6c-41d1-9077-e27867035cbe",
   "metadata": {},
   "outputs": [
    {
     "name": "stderr",
     "output_type": "stream",
     "text": [
      "C:\\Users\\charles.fieseler\\Anaconda3\\envs\\segmentation\\lib\\site-packages\\napari\\_vispy\\vispy_camera.py:109: RuntimeWarning: divide by zero encountered in true_divide\n",
      "  zoom = np.min(canvas_size / scale)\n"
     ]
    },
    {
     "data": {
      "text/plain": [
       "<Labels layer 'seg_dat' at 0x11532240308>"
      ]
     },
     "execution_count": 20,
     "metadata": {},
     "output_type": "execute_result"
    }
   ],
   "source": [
    "viewer = napari.view_image(red_dat)\n",
    "viewer.add_labels(seg_dat)"
   ]
  },
  {
   "cell_type": "code",
   "execution_count": null,
   "id": "a0be77ec-e995-499f-bbf4-24b037310490",
   "metadata": {},
   "outputs": [],
   "source": []
  },
  {
   "cell_type": "markdown",
   "id": "0b83f155-f361-44f5-bf95-612c20c1409c",
   "metadata": {},
   "source": [
    "# Training data for the segmentation network"
   ]
  },
  {
   "cell_type": "code",
   "execution_count": 16,
   "id": "8a7e46fd-35f4-4db2-b6c8-0dfd6fdb502a",
   "metadata": {},
   "outputs": [],
   "source": [
    "fname = r\"C:\\Users\\charles.fieseler\\Documents\\Current_work\\segmentation\\segmentation\\notebooks\\data\\train_segmentation_party\\masks\\segmentation_party.tiff\"\n",
    "seg_party_dat = tifffile.imread(fname)\n",
    "\n",
    "fname = r\"C:\\Users\\charles.fieseler\\Documents\\Current_work\\segmentation\\segmentation\\notebooks\\data\\train_segmentation_party\\images\\segmentation_party.tiff\"\n",
    "red_party_dat = tifffile.imread(fname)"
   ]
  },
  {
   "cell_type": "code",
   "execution_count": 17,
   "id": "32303077-9b8a-49a5-a9dd-610028705b0c",
   "metadata": {},
   "outputs": [
    {
     "name": "stderr",
     "output_type": "stream",
     "text": [
      "C:\\Users\\charles.fieseler\\Anaconda3\\envs\\segmentation\\lib\\site-packages\\napari\\_vispy\\vispy_camera.py:109: RuntimeWarning: divide by zero encountered in true_divide\n",
      "  zoom = np.min(canvas_size / scale)\n"
     ]
    },
    {
     "data": {
      "text/plain": [
       "<Labels layer 'seg_party_dat' at 0x115321b7e08>"
      ]
     },
     "execution_count": 17,
     "metadata": {},
     "output_type": "execute_result"
    }
   ],
   "source": [
    "viewer = napari.view_image(red_party_dat)\n",
    "viewer.add_labels(seg_party_dat)"
   ]
  },
  {
   "cell_type": "markdown",
   "id": "52ae4bed-00d2-4d3d-8f19-7dc404824ab4",
   "metadata": {},
   "source": [
    "# Immobilized project"
   ]
  },
  {
   "cell_type": "code",
   "execution_count": 13,
   "id": "c3ee0a09-5b03-413e-af4a-9871d0c916e3",
   "metadata": {},
   "outputs": [],
   "source": [
    "project_path = r'Y:/shared_projects/wbfm/dlc_stacks/Charlie-immobilized-long/project_config.yaml'\n",
    "\n",
    "project_cfg = load_config(project_path)\n",
    "project_dir = Path(project_path).parent\n",
    "\n",
    "fname = project_cfg['preprocessed_red']\n",
    "red_dat = zarr.open(fname)\n",
    "\n",
    "fname = project_cfg['preprocessed_green']\n",
    "green_dat = zarr.open(fname)\n",
    "\n",
    "with safe_cd(project_dir):\n",
    "    fname = os.path.join('1-segmentation', 'masks_4500.zarr')\n",
    "    seg_dat = zarr.open(fname)"
   ]
  },
  {
   "cell_type": "code",
   "execution_count": 14,
   "id": "9cc58dc8-442d-4ad3-b943-f78cfbc83508",
   "metadata": {},
   "outputs": [
    {
     "name": "stderr",
     "output_type": "stream",
     "text": [
      "C:\\Users\\charles.fieseler\\Anaconda3\\envs\\segmentation\\lib\\site-packages\\napari\\_vispy\\vispy_camera.py:109: RuntimeWarning: divide by zero encountered in true_divide\n",
      "  zoom = np.min(canvas_size / scale)\n"
     ]
    },
    {
     "data": {
      "text/plain": [
       "<Labels layer 'seg_dat' at 0x1152b100bc8>"
      ]
     },
     "execution_count": 14,
     "metadata": {},
     "output_type": "execute_result"
    }
   ],
   "source": [
    "viewer = napari.view_image(red_dat)\n",
    "viewer.add_labels(seg_dat)"
   ]
  },
  {
   "cell_type": "code",
   "execution_count": null,
   "id": "2bacfbf0-4909-4779-86ce-5e42994e4854",
   "metadata": {},
   "outputs": [],
   "source": []
  }
 ],
 "metadata": {
  "kernelspec": {
   "display_name": "Python [conda env:segmentation]",
   "language": "python",
   "name": "conda-env-segmentation-py"
  },
  "language_info": {
   "codemirror_mode": {
    "name": "ipython",
    "version": 3
   },
   "file_extension": ".py",
   "mimetype": "text/x-python",
   "name": "python",
   "nbconvert_exporter": "python",
   "pygments_lexer": "ipython3",
   "version": "3.7.10"
  }
 },
 "nbformat": 4,
 "nbformat_minor": 5
}
