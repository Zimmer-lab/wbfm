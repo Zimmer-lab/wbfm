{
 "cells": [
  {
   "cell_type": "code",
   "execution_count": 64,
   "id": "4526166e-4385-457e-9648-fbc377c57a2e",
   "metadata": {},
   "outputs": [
    {
     "name": "stdout",
     "output_type": "stream",
     "text": [
      "The autoreload extension is already loaded. To reload it, use:\n",
      "  %reload_ext autoreload\n"
     ]
    }
   ],
   "source": [
    "%load_ext autoreload\n",
    "%autoreload 2\n",
    "import matplotlib.pyplot as plt\n",
    "from DLC_for_WBFM.utils.projects.finished_project_data import ProjectData\n",
    "from sklearn.experimental import enable_iterative_imputer\n",
    "import napari\n",
    "from sklearn.impute import IterativeImputer\n",
    "import numpy as np\n",
    "import pandas as pd"
   ]
  },
  {
   "cell_type": "code",
   "execution_count": 2,
   "id": "511b69a4-e188-4fa3-bd27-244d4de7482b",
   "metadata": {},
   "outputs": [
    {
     "name": "stdout",
     "output_type": "stream",
     "text": [
      "=======================================\n",
      "Project data for directory:\n",
      "/scratch/zimmer/Charles/dlc_stacks/worm3-multiple_templates \n",
      "=======================================\n",
      "Found the following raw data files:\n",
      "red_data: True\n",
      "green_data: True\n",
      "============Segmentation===============\n",
      "raw_segmentation: True\n",
      "segmentation: True\n",
      "============Tracklets==================\n",
      "df_training_tracklets: True\n",
      "reindexed_masks_training: True\n",
      "============Traces=====================\n",
      "red_traces: True\n",
      "green_traces: True\n",
      "final_tracks: True\n",
      "behavior_annotations: True\n",
      "\n"
     ]
    }
   ],
   "source": [
    "fname = \"/scratch/zimmer/Charles/dlc_stacks/worm3-multiple_templates/project_config.yaml\"\n",
    "project_data = ProjectData.load_final_project_data_from_config(fname, to_load_tracklets=True)"
   ]
  },
  {
   "cell_type": "markdown",
   "id": "08e0f818-979c-4f7b-b136-10d48f877a1d",
   "metadata": {},
   "source": [
    "# Split a tracklet and resave"
   ]
  },
  {
   "cell_type": "code",
   "execution_count": 6,
   "id": "e549ed23-c96d-4865-9154-308b14b5d92a",
   "metadata": {},
   "outputs": [],
   "source": [
    "df_tracklets = project_data.df_all_tracklets"
   ]
  },
  {
   "cell_type": "code",
   "execution_count": 15,
   "id": "ab5c92db-87e6-4fb5-bdcc-12d5613115bb",
   "metadata": {},
   "outputs": [],
   "source": [
    "old_name = 'neuron1'\n",
    "i_time = 3\n",
    "new_name = 'new_neuron1'"
   ]
  },
  {
   "cell_type": "code",
   "execution_count": 19,
   "id": "25e538bc-af7e-4c8b-b2b5-71ec1e89986f",
   "metadata": {},
   "outputs": [
    {
     "data": {
      "text/html": [
       "<div>\n",
       "<style scoped>\n",
       "    .dataframe tbody tr th:only-of-type {\n",
       "        vertical-align: middle;\n",
       "    }\n",
       "\n",
       "    .dataframe tbody tr th {\n",
       "        vertical-align: top;\n",
       "    }\n",
       "\n",
       "    .dataframe thead tr th {\n",
       "        text-align: left;\n",
       "    }\n",
       "</style>\n",
       "<table border=\"1\" class=\"dataframe\">\n",
       "  <thead>\n",
       "    <tr>\n",
       "      <th>bodyparts</th>\n",
       "      <th colspan=\"4\" halign=\"left\">neuron1</th>\n",
       "    </tr>\n",
       "    <tr>\n",
       "      <th>coords</th>\n",
       "      <th>z</th>\n",
       "      <th>x</th>\n",
       "      <th>y</th>\n",
       "      <th>likelihood</th>\n",
       "    </tr>\n",
       "  </thead>\n",
       "  <tbody>\n",
       "    <tr>\n",
       "      <th>0</th>\n",
       "      <td>4.535754</td>\n",
       "      <td>313.322332</td>\n",
       "      <td>433.174917</td>\n",
       "      <td>0.606776</td>\n",
       "    </tr>\n",
       "    <tr>\n",
       "      <th>1</th>\n",
       "      <td>4.195519</td>\n",
       "      <td>298.374745</td>\n",
       "      <td>412.863544</td>\n",
       "      <td>0.696387</td>\n",
       "    </tr>\n",
       "    <tr>\n",
       "      <th>2</th>\n",
       "      <td>3.580764</td>\n",
       "      <td>287.709001</td>\n",
       "      <td>407.241677</td>\n",
       "      <td>0.865204</td>\n",
       "    </tr>\n",
       "    <tr>\n",
       "      <th>3</th>\n",
       "      <td>3.619469</td>\n",
       "      <td>271.936789</td>\n",
       "      <td>396.795196</td>\n",
       "      <td>0.546072</td>\n",
       "    </tr>\n",
       "    <tr>\n",
       "      <th>4</th>\n",
       "      <td>3.527294</td>\n",
       "      <td>264.609756</td>\n",
       "      <td>415.465738</td>\n",
       "      <td>0.567441</td>\n",
       "    </tr>\n",
       "    <tr>\n",
       "      <th>...</th>\n",
       "      <td>...</td>\n",
       "      <td>...</td>\n",
       "      <td>...</td>\n",
       "      <td>...</td>\n",
       "    </tr>\n",
       "    <tr>\n",
       "      <th>1494</th>\n",
       "      <td>NaN</td>\n",
       "      <td>NaN</td>\n",
       "      <td>NaN</td>\n",
       "      <td>NaN</td>\n",
       "    </tr>\n",
       "    <tr>\n",
       "      <th>1495</th>\n",
       "      <td>NaN</td>\n",
       "      <td>NaN</td>\n",
       "      <td>NaN</td>\n",
       "      <td>NaN</td>\n",
       "    </tr>\n",
       "    <tr>\n",
       "      <th>1496</th>\n",
       "      <td>NaN</td>\n",
       "      <td>NaN</td>\n",
       "      <td>NaN</td>\n",
       "      <td>NaN</td>\n",
       "    </tr>\n",
       "    <tr>\n",
       "      <th>1497</th>\n",
       "      <td>NaN</td>\n",
       "      <td>NaN</td>\n",
       "      <td>NaN</td>\n",
       "      <td>NaN</td>\n",
       "    </tr>\n",
       "    <tr>\n",
       "      <th>1498</th>\n",
       "      <td>NaN</td>\n",
       "      <td>NaN</td>\n",
       "      <td>NaN</td>\n",
       "      <td>NaN</td>\n",
       "    </tr>\n",
       "  </tbody>\n",
       "</table>\n",
       "<p>1499 rows × 4 columns</p>\n",
       "</div>"
      ],
      "text/plain": [
       "bodyparts   neuron1                                   \n",
       "coords            z           x           y likelihood\n",
       "0          4.535754  313.322332  433.174917   0.606776\n",
       "1          4.195519  298.374745  412.863544   0.696387\n",
       "2          3.580764  287.709001  407.241677   0.865204\n",
       "3          3.619469  271.936789  396.795196   0.546072\n",
       "4          3.527294  264.609756  415.465738   0.567441\n",
       "...             ...         ...         ...        ...\n",
       "1494            NaN         NaN         NaN        NaN\n",
       "1495            NaN         NaN         NaN        NaN\n",
       "1496            NaN         NaN         NaN        NaN\n",
       "1497            NaN         NaN         NaN        NaN\n",
       "1498            NaN         NaN         NaN        NaN\n",
       "\n",
       "[1499 rows x 4 columns]"
      ]
     },
     "execution_count": 19,
     "metadata": {},
     "output_type": "execute_result"
    }
   ],
   "source": [
    "this_tracklet = df_tracklets[[old_name]]\n",
    "old_tracklet = this_tracklet.copy()\n",
    "new_tracklet = this_tracklet.copy()\n",
    "this_tracklet"
   ]
  },
  {
   "cell_type": "code",
   "execution_count": 20,
   "id": "5e3835d5-7c7d-4572-bd74-4355c37bc40f",
   "metadata": {},
   "outputs": [
    {
     "data": {
      "text/html": [
       "<div>\n",
       "<style scoped>\n",
       "    .dataframe tbody tr th:only-of-type {\n",
       "        vertical-align: middle;\n",
       "    }\n",
       "\n",
       "    .dataframe tbody tr th {\n",
       "        vertical-align: top;\n",
       "    }\n",
       "\n",
       "    .dataframe thead tr th {\n",
       "        text-align: left;\n",
       "    }\n",
       "</style>\n",
       "<table border=\"1\" class=\"dataframe\">\n",
       "  <thead>\n",
       "    <tr>\n",
       "      <th>bodyparts</th>\n",
       "      <th colspan=\"4\" halign=\"left\">neuron1</th>\n",
       "    </tr>\n",
       "    <tr>\n",
       "      <th>coords</th>\n",
       "      <th>z</th>\n",
       "      <th>x</th>\n",
       "      <th>y</th>\n",
       "      <th>likelihood</th>\n",
       "    </tr>\n",
       "  </thead>\n",
       "  <tbody>\n",
       "    <tr>\n",
       "      <th>0</th>\n",
       "      <td>4.535754</td>\n",
       "      <td>313.322332</td>\n",
       "      <td>433.174917</td>\n",
       "      <td>0.606776</td>\n",
       "    </tr>\n",
       "    <tr>\n",
       "      <th>1</th>\n",
       "      <td>4.195519</td>\n",
       "      <td>298.374745</td>\n",
       "      <td>412.863544</td>\n",
       "      <td>0.696387</td>\n",
       "    </tr>\n",
       "    <tr>\n",
       "      <th>2</th>\n",
       "      <td>3.580764</td>\n",
       "      <td>287.709001</td>\n",
       "      <td>407.241677</td>\n",
       "      <td>0.865204</td>\n",
       "    </tr>\n",
       "    <tr>\n",
       "      <th>3</th>\n",
       "      <td>NaN</td>\n",
       "      <td>NaN</td>\n",
       "      <td>NaN</td>\n",
       "      <td>NaN</td>\n",
       "    </tr>\n",
       "    <tr>\n",
       "      <th>4</th>\n",
       "      <td>NaN</td>\n",
       "      <td>NaN</td>\n",
       "      <td>NaN</td>\n",
       "      <td>NaN</td>\n",
       "    </tr>\n",
       "    <tr>\n",
       "      <th>...</th>\n",
       "      <td>...</td>\n",
       "      <td>...</td>\n",
       "      <td>...</td>\n",
       "      <td>...</td>\n",
       "    </tr>\n",
       "    <tr>\n",
       "      <th>1494</th>\n",
       "      <td>NaN</td>\n",
       "      <td>NaN</td>\n",
       "      <td>NaN</td>\n",
       "      <td>NaN</td>\n",
       "    </tr>\n",
       "    <tr>\n",
       "      <th>1495</th>\n",
       "      <td>NaN</td>\n",
       "      <td>NaN</td>\n",
       "      <td>NaN</td>\n",
       "      <td>NaN</td>\n",
       "    </tr>\n",
       "    <tr>\n",
       "      <th>1496</th>\n",
       "      <td>NaN</td>\n",
       "      <td>NaN</td>\n",
       "      <td>NaN</td>\n",
       "      <td>NaN</td>\n",
       "    </tr>\n",
       "    <tr>\n",
       "      <th>1497</th>\n",
       "      <td>NaN</td>\n",
       "      <td>NaN</td>\n",
       "      <td>NaN</td>\n",
       "      <td>NaN</td>\n",
       "    </tr>\n",
       "    <tr>\n",
       "      <th>1498</th>\n",
       "      <td>NaN</td>\n",
       "      <td>NaN</td>\n",
       "      <td>NaN</td>\n",
       "      <td>NaN</td>\n",
       "    </tr>\n",
       "  </tbody>\n",
       "</table>\n",
       "<p>1499 rows × 4 columns</p>\n",
       "</div>"
      ],
      "text/plain": [
       "bodyparts   neuron1                                   \n",
       "coords            z           x           y likelihood\n",
       "0          4.535754  313.322332  433.174917   0.606776\n",
       "1          4.195519  298.374745  412.863544   0.696387\n",
       "2          3.580764  287.709001  407.241677   0.865204\n",
       "3               NaN         NaN         NaN        NaN\n",
       "4               NaN         NaN         NaN        NaN\n",
       "...             ...         ...         ...        ...\n",
       "1494            NaN         NaN         NaN        NaN\n",
       "1495            NaN         NaN         NaN        NaN\n",
       "1496            NaN         NaN         NaN        NaN\n",
       "1497            NaN         NaN         NaN        NaN\n",
       "1498            NaN         NaN         NaN        NaN\n",
       "\n",
       "[1499 rows x 4 columns]"
      ]
     },
     "execution_count": 20,
     "metadata": {},
     "output_type": "execute_result"
    }
   ],
   "source": [
    "old_tracklet.iloc[i_time:] = np.nan\n",
    "old_tracklet"
   ]
  },
  {
   "cell_type": "code",
   "execution_count": 43,
   "id": "81211443-c20e-4045-a65f-d1b0fb3046e6",
   "metadata": {},
   "outputs": [
    {
     "data": {
      "text/html": [
       "<div>\n",
       "<style scoped>\n",
       "    .dataframe tbody tr th:only-of-type {\n",
       "        vertical-align: middle;\n",
       "    }\n",
       "\n",
       "    .dataframe tbody tr th {\n",
       "        vertical-align: top;\n",
       "    }\n",
       "\n",
       "    .dataframe thead tr th {\n",
       "        text-align: left;\n",
       "    }\n",
       "</style>\n",
       "<table border=\"1\" class=\"dataframe\">\n",
       "  <thead>\n",
       "    <tr>\n",
       "      <th>bodyparts</th>\n",
       "      <th colspan=\"4\" halign=\"left\">new_neuron1</th>\n",
       "    </tr>\n",
       "    <tr>\n",
       "      <th>coords</th>\n",
       "      <th>z</th>\n",
       "      <th>x</th>\n",
       "      <th>y</th>\n",
       "      <th>likelihood</th>\n",
       "    </tr>\n",
       "  </thead>\n",
       "  <tbody>\n",
       "    <tr>\n",
       "      <th>0</th>\n",
       "      <td>NaN</td>\n",
       "      <td>NaN</td>\n",
       "      <td>NaN</td>\n",
       "      <td>NaN</td>\n",
       "    </tr>\n",
       "    <tr>\n",
       "      <th>1</th>\n",
       "      <td>NaN</td>\n",
       "      <td>NaN</td>\n",
       "      <td>NaN</td>\n",
       "      <td>NaN</td>\n",
       "    </tr>\n",
       "    <tr>\n",
       "      <th>2</th>\n",
       "      <td>NaN</td>\n",
       "      <td>NaN</td>\n",
       "      <td>NaN</td>\n",
       "      <td>NaN</td>\n",
       "    </tr>\n",
       "    <tr>\n",
       "      <th>3</th>\n",
       "      <td>3.619469</td>\n",
       "      <td>271.936789</td>\n",
       "      <td>396.795196</td>\n",
       "      <td>0.546072</td>\n",
       "    </tr>\n",
       "    <tr>\n",
       "      <th>4</th>\n",
       "      <td>3.527294</td>\n",
       "      <td>264.609756</td>\n",
       "      <td>415.465738</td>\n",
       "      <td>0.567441</td>\n",
       "    </tr>\n",
       "    <tr>\n",
       "      <th>...</th>\n",
       "      <td>...</td>\n",
       "      <td>...</td>\n",
       "      <td>...</td>\n",
       "      <td>...</td>\n",
       "    </tr>\n",
       "    <tr>\n",
       "      <th>1494</th>\n",
       "      <td>NaN</td>\n",
       "      <td>NaN</td>\n",
       "      <td>NaN</td>\n",
       "      <td>NaN</td>\n",
       "    </tr>\n",
       "    <tr>\n",
       "      <th>1495</th>\n",
       "      <td>NaN</td>\n",
       "      <td>NaN</td>\n",
       "      <td>NaN</td>\n",
       "      <td>NaN</td>\n",
       "    </tr>\n",
       "    <tr>\n",
       "      <th>1496</th>\n",
       "      <td>NaN</td>\n",
       "      <td>NaN</td>\n",
       "      <td>NaN</td>\n",
       "      <td>NaN</td>\n",
       "    </tr>\n",
       "    <tr>\n",
       "      <th>1497</th>\n",
       "      <td>NaN</td>\n",
       "      <td>NaN</td>\n",
       "      <td>NaN</td>\n",
       "      <td>NaN</td>\n",
       "    </tr>\n",
       "    <tr>\n",
       "      <th>1498</th>\n",
       "      <td>NaN</td>\n",
       "      <td>NaN</td>\n",
       "      <td>NaN</td>\n",
       "      <td>NaN</td>\n",
       "    </tr>\n",
       "  </tbody>\n",
       "</table>\n",
       "<p>1499 rows × 4 columns</p>\n",
       "</div>"
      ],
      "text/plain": [
       "bodyparts new_neuron1                                   \n",
       "coords              z           x           y likelihood\n",
       "0                 NaN         NaN         NaN        NaN\n",
       "1                 NaN         NaN         NaN        NaN\n",
       "2                 NaN         NaN         NaN        NaN\n",
       "3            3.619469  271.936789  396.795196   0.546072\n",
       "4            3.527294  264.609756  415.465738   0.567441\n",
       "...               ...         ...         ...        ...\n",
       "1494              NaN         NaN         NaN        NaN\n",
       "1495              NaN         NaN         NaN        NaN\n",
       "1496              NaN         NaN         NaN        NaN\n",
       "1497              NaN         NaN         NaN        NaN\n",
       "1498              NaN         NaN         NaN        NaN\n",
       "\n",
       "[1499 rows x 4 columns]"
      ]
     },
     "execution_count": 43,
     "metadata": {},
     "output_type": "execute_result"
    }
   ],
   "source": [
    "new_tracklet.iloc[:i_time] = np.nan\n",
    "new_tracklet.rename(columns={old_name: new_name}, level=0, inplace=True)\n",
    "new_tracklet"
   ]
  },
  {
   "cell_type": "code",
   "execution_count": 116,
   "id": "581114e5-22e7-421a-9913-db8c4d64093e",
   "metadata": {},
   "outputs": [
    {
     "data": {
      "text/plain": [
       "114"
      ]
     },
     "execution_count": 116,
     "metadata": {},
     "output_type": "execute_result"
    }
   ],
   "source": [
    "new_tracklet[new_name]['z'].count()"
   ]
  },
  {
   "cell_type": "code",
   "execution_count": 28,
   "id": "2d92512b-fb8d-4127-bfe5-b4d9a1863fff",
   "metadata": {},
   "outputs": [],
   "source": [
    "df_tracklets[old_name] = old_tracklet[old_name]"
   ]
  },
  {
   "cell_type": "code",
   "execution_count": 92,
   "id": "ed53fd6e-aa5e-410a-954e-dad680cfc6f6",
   "metadata": {},
   "outputs": [
    {
     "data": {
      "text/html": [
       "<div>\n",
       "<style scoped>\n",
       "    .dataframe tbody tr th:only-of-type {\n",
       "        vertical-align: middle;\n",
       "    }\n",
       "\n",
       "    .dataframe tbody tr th {\n",
       "        vertical-align: top;\n",
       "    }\n",
       "\n",
       "    .dataframe thead tr th {\n",
       "        text-align: left;\n",
       "    }\n",
       "</style>\n",
       "<table border=\"1\" class=\"dataframe\">\n",
       "  <thead>\n",
       "    <tr>\n",
       "      <th>bodyparts</th>\n",
       "      <th colspan=\"4\" halign=\"left\">neuron0</th>\n",
       "      <th colspan=\"4\" halign=\"left\">neuron1</th>\n",
       "      <th colspan=\"2\" halign=\"left\">neuron2</th>\n",
       "      <th>...</th>\n",
       "      <th colspan=\"2\" halign=\"left\">neuron15328</th>\n",
       "      <th colspan=\"4\" halign=\"left\">neuron15329</th>\n",
       "      <th colspan=\"4\" halign=\"left\">new_neuron1</th>\n",
       "    </tr>\n",
       "    <tr>\n",
       "      <th>coords</th>\n",
       "      <th>z</th>\n",
       "      <th>x</th>\n",
       "      <th>y</th>\n",
       "      <th>likelihood</th>\n",
       "      <th>z</th>\n",
       "      <th>x</th>\n",
       "      <th>y</th>\n",
       "      <th>likelihood</th>\n",
       "      <th>z</th>\n",
       "      <th>x</th>\n",
       "      <th>...</th>\n",
       "      <th>y</th>\n",
       "      <th>likelihood</th>\n",
       "      <th>z</th>\n",
       "      <th>x</th>\n",
       "      <th>y</th>\n",
       "      <th>likelihood</th>\n",
       "      <th>z</th>\n",
       "      <th>x</th>\n",
       "      <th>y</th>\n",
       "      <th>likelihood</th>\n",
       "    </tr>\n",
       "  </thead>\n",
       "  <tbody>\n",
       "    <tr>\n",
       "      <th>0</th>\n",
       "      <td>4.941084</td>\n",
       "      <td>297.763551</td>\n",
       "      <td>424.093480</td>\n",
       "      <td>0.713248</td>\n",
       "      <td>4.535754</td>\n",
       "      <td>313.322332</td>\n",
       "      <td>433.174917</td>\n",
       "      <td>0.606776</td>\n",
       "      <td>5.660345</td>\n",
       "      <td>279.918966</td>\n",
       "      <td>...</td>\n",
       "      <td>NaN</td>\n",
       "      <td>NaN</td>\n",
       "      <td>NaN</td>\n",
       "      <td>NaN</td>\n",
       "      <td>NaN</td>\n",
       "      <td>NaN</td>\n",
       "      <td>NaN</td>\n",
       "      <td>NaN</td>\n",
       "      <td>NaN</td>\n",
       "      <td>NaN</td>\n",
       "    </tr>\n",
       "    <tr>\n",
       "      <th>1</th>\n",
       "      <td>5.009791</td>\n",
       "      <td>280.078982</td>\n",
       "      <td>407.770888</td>\n",
       "      <td>0.500743</td>\n",
       "      <td>4.195519</td>\n",
       "      <td>298.374745</td>\n",
       "      <td>412.863544</td>\n",
       "      <td>0.696387</td>\n",
       "      <td>5.410550</td>\n",
       "      <td>261.707951</td>\n",
       "      <td>...</td>\n",
       "      <td>NaN</td>\n",
       "      <td>NaN</td>\n",
       "      <td>NaN</td>\n",
       "      <td>NaN</td>\n",
       "      <td>NaN</td>\n",
       "      <td>NaN</td>\n",
       "      <td>NaN</td>\n",
       "      <td>NaN</td>\n",
       "      <td>NaN</td>\n",
       "      <td>NaN</td>\n",
       "    </tr>\n",
       "    <tr>\n",
       "      <th>2</th>\n",
       "      <td>6.264613</td>\n",
       "      <td>272.766185</td>\n",
       "      <td>406.453803</td>\n",
       "      <td>0.865892</td>\n",
       "      <td>3.580764</td>\n",
       "      <td>287.709001</td>\n",
       "      <td>407.241677</td>\n",
       "      <td>0.865204</td>\n",
       "      <td>5.688216</td>\n",
       "      <td>253.720131</td>\n",
       "      <td>...</td>\n",
       "      <td>NaN</td>\n",
       "      <td>NaN</td>\n",
       "      <td>NaN</td>\n",
       "      <td>NaN</td>\n",
       "      <td>NaN</td>\n",
       "      <td>NaN</td>\n",
       "      <td>NaN</td>\n",
       "      <td>NaN</td>\n",
       "      <td>NaN</td>\n",
       "      <td>NaN</td>\n",
       "    </tr>\n",
       "    <tr>\n",
       "      <th>3</th>\n",
       "      <td>5.469434</td>\n",
       "      <td>255.926792</td>\n",
       "      <td>396.395472</td>\n",
       "      <td>0.787858</td>\n",
       "      <td>NaN</td>\n",
       "      <td>NaN</td>\n",
       "      <td>NaN</td>\n",
       "      <td>NaN</td>\n",
       "      <td>5.850042</td>\n",
       "      <td>237.420388</td>\n",
       "      <td>...</td>\n",
       "      <td>NaN</td>\n",
       "      <td>NaN</td>\n",
       "      <td>NaN</td>\n",
       "      <td>NaN</td>\n",
       "      <td>NaN</td>\n",
       "      <td>NaN</td>\n",
       "      <td>3.619469</td>\n",
       "      <td>271.936789</td>\n",
       "      <td>396.795196</td>\n",
       "      <td>0.546072</td>\n",
       "    </tr>\n",
       "    <tr>\n",
       "      <th>4</th>\n",
       "      <td>5.080983</td>\n",
       "      <td>249.135213</td>\n",
       "      <td>407.994215</td>\n",
       "      <td>0.696746</td>\n",
       "      <td>NaN</td>\n",
       "      <td>NaN</td>\n",
       "      <td>NaN</td>\n",
       "      <td>NaN</td>\n",
       "      <td>6.719684</td>\n",
       "      <td>232.159930</td>\n",
       "      <td>...</td>\n",
       "      <td>NaN</td>\n",
       "      <td>NaN</td>\n",
       "      <td>NaN</td>\n",
       "      <td>NaN</td>\n",
       "      <td>NaN</td>\n",
       "      <td>NaN</td>\n",
       "      <td>3.527294</td>\n",
       "      <td>264.609756</td>\n",
       "      <td>415.465738</td>\n",
       "      <td>0.567441</td>\n",
       "    </tr>\n",
       "    <tr>\n",
       "      <th>...</th>\n",
       "      <td>...</td>\n",
       "      <td>...</td>\n",
       "      <td>...</td>\n",
       "      <td>...</td>\n",
       "      <td>...</td>\n",
       "      <td>...</td>\n",
       "      <td>...</td>\n",
       "      <td>...</td>\n",
       "      <td>...</td>\n",
       "      <td>...</td>\n",
       "      <td>...</td>\n",
       "      <td>...</td>\n",
       "      <td>...</td>\n",
       "      <td>...</td>\n",
       "      <td>...</td>\n",
       "      <td>...</td>\n",
       "      <td>...</td>\n",
       "      <td>...</td>\n",
       "      <td>...</td>\n",
       "      <td>...</td>\n",
       "      <td>...</td>\n",
       "    </tr>\n",
       "    <tr>\n",
       "      <th>1494</th>\n",
       "      <td>NaN</td>\n",
       "      <td>NaN</td>\n",
       "      <td>NaN</td>\n",
       "      <td>NaN</td>\n",
       "      <td>NaN</td>\n",
       "      <td>NaN</td>\n",
       "      <td>NaN</td>\n",
       "      <td>NaN</td>\n",
       "      <td>NaN</td>\n",
       "      <td>NaN</td>\n",
       "      <td>...</td>\n",
       "      <td>NaN</td>\n",
       "      <td>NaN</td>\n",
       "      <td>NaN</td>\n",
       "      <td>NaN</td>\n",
       "      <td>NaN</td>\n",
       "      <td>NaN</td>\n",
       "      <td>NaN</td>\n",
       "      <td>NaN</td>\n",
       "      <td>NaN</td>\n",
       "      <td>NaN</td>\n",
       "    </tr>\n",
       "    <tr>\n",
       "      <th>1495</th>\n",
       "      <td>NaN</td>\n",
       "      <td>NaN</td>\n",
       "      <td>NaN</td>\n",
       "      <td>NaN</td>\n",
       "      <td>NaN</td>\n",
       "      <td>NaN</td>\n",
       "      <td>NaN</td>\n",
       "      <td>NaN</td>\n",
       "      <td>NaN</td>\n",
       "      <td>NaN</td>\n",
       "      <td>...</td>\n",
       "      <td>NaN</td>\n",
       "      <td>NaN</td>\n",
       "      <td>NaN</td>\n",
       "      <td>NaN</td>\n",
       "      <td>NaN</td>\n",
       "      <td>NaN</td>\n",
       "      <td>NaN</td>\n",
       "      <td>NaN</td>\n",
       "      <td>NaN</td>\n",
       "      <td>NaN</td>\n",
       "    </tr>\n",
       "    <tr>\n",
       "      <th>1496</th>\n",
       "      <td>NaN</td>\n",
       "      <td>NaN</td>\n",
       "      <td>NaN</td>\n",
       "      <td>NaN</td>\n",
       "      <td>NaN</td>\n",
       "      <td>NaN</td>\n",
       "      <td>NaN</td>\n",
       "      <td>NaN</td>\n",
       "      <td>NaN</td>\n",
       "      <td>NaN</td>\n",
       "      <td>...</td>\n",
       "      <td>402.033898</td>\n",
       "      <td>0.708359</td>\n",
       "      <td>25.977816</td>\n",
       "      <td>211.312287</td>\n",
       "      <td>181.914676</td>\n",
       "      <td>0.646527</td>\n",
       "      <td>NaN</td>\n",
       "      <td>NaN</td>\n",
       "      <td>NaN</td>\n",
       "      <td>NaN</td>\n",
       "    </tr>\n",
       "    <tr>\n",
       "      <th>1497</th>\n",
       "      <td>NaN</td>\n",
       "      <td>NaN</td>\n",
       "      <td>NaN</td>\n",
       "      <td>NaN</td>\n",
       "      <td>NaN</td>\n",
       "      <td>NaN</td>\n",
       "      <td>NaN</td>\n",
       "      <td>NaN</td>\n",
       "      <td>NaN</td>\n",
       "      <td>NaN</td>\n",
       "      <td>...</td>\n",
       "      <td>403.336788</td>\n",
       "      <td>0.704018</td>\n",
       "      <td>23.024194</td>\n",
       "      <td>233.271505</td>\n",
       "      <td>180.751792</td>\n",
       "      <td>0.755784</td>\n",
       "      <td>NaN</td>\n",
       "      <td>NaN</td>\n",
       "      <td>NaN</td>\n",
       "      <td>NaN</td>\n",
       "    </tr>\n",
       "    <tr>\n",
       "      <th>1498</th>\n",
       "      <td>NaN</td>\n",
       "      <td>NaN</td>\n",
       "      <td>NaN</td>\n",
       "      <td>NaN</td>\n",
       "      <td>NaN</td>\n",
       "      <td>NaN</td>\n",
       "      <td>NaN</td>\n",
       "      <td>NaN</td>\n",
       "      <td>NaN</td>\n",
       "      <td>NaN</td>\n",
       "      <td>...</td>\n",
       "      <td>403.416667</td>\n",
       "      <td>0.000000</td>\n",
       "      <td>21.767921</td>\n",
       "      <td>236.520227</td>\n",
       "      <td>183.278921</td>\n",
       "      <td>0.000000</td>\n",
       "      <td>NaN</td>\n",
       "      <td>NaN</td>\n",
       "      <td>NaN</td>\n",
       "      <td>NaN</td>\n",
       "    </tr>\n",
       "  </tbody>\n",
       "</table>\n",
       "<p>1499 rows × 48708 columns</p>\n",
       "</div>"
      ],
      "text/plain": [
       "bodyparts   neuron0                                      neuron1              \\\n",
       "coords            z           x           y likelihood         z           x   \n",
       "0          4.941084  297.763551  424.093480   0.713248  4.535754  313.322332   \n",
       "1          5.009791  280.078982  407.770888   0.500743  4.195519  298.374745   \n",
       "2          6.264613  272.766185  406.453803   0.865892  3.580764  287.709001   \n",
       "3          5.469434  255.926792  396.395472   0.787858       NaN         NaN   \n",
       "4          5.080983  249.135213  407.994215   0.696746       NaN         NaN   \n",
       "...             ...         ...         ...        ...       ...         ...   \n",
       "1494            NaN         NaN         NaN        NaN       NaN         NaN   \n",
       "1495            NaN         NaN         NaN        NaN       NaN         NaN   \n",
       "1496            NaN         NaN         NaN        NaN       NaN         NaN   \n",
       "1497            NaN         NaN         NaN        NaN       NaN         NaN   \n",
       "1498            NaN         NaN         NaN        NaN       NaN         NaN   \n",
       "\n",
       "bodyparts                          neuron2              ... neuron15328  \\\n",
       "coords              y likelihood         z           x  ...           y   \n",
       "0          433.174917   0.606776  5.660345  279.918966  ...         NaN   \n",
       "1          412.863544   0.696387  5.410550  261.707951  ...         NaN   \n",
       "2          407.241677   0.865204  5.688216  253.720131  ...         NaN   \n",
       "3                 NaN        NaN  5.850042  237.420388  ...         NaN   \n",
       "4                 NaN        NaN  6.719684  232.159930  ...         NaN   \n",
       "...               ...        ...       ...         ...  ...         ...   \n",
       "1494              NaN        NaN       NaN         NaN  ...         NaN   \n",
       "1495              NaN        NaN       NaN         NaN  ...         NaN   \n",
       "1496              NaN        NaN       NaN         NaN  ...  402.033898   \n",
       "1497              NaN        NaN       NaN         NaN  ...  403.336788   \n",
       "1498              NaN        NaN       NaN         NaN  ...  403.416667   \n",
       "\n",
       "bodyparts            neuron15329                                     \\\n",
       "coords    likelihood           z           x           y likelihood   \n",
       "0                NaN         NaN         NaN         NaN        NaN   \n",
       "1                NaN         NaN         NaN         NaN        NaN   \n",
       "2                NaN         NaN         NaN         NaN        NaN   \n",
       "3                NaN         NaN         NaN         NaN        NaN   \n",
       "4                NaN         NaN         NaN         NaN        NaN   \n",
       "...              ...         ...         ...         ...        ...   \n",
       "1494             NaN         NaN         NaN         NaN        NaN   \n",
       "1495             NaN         NaN         NaN         NaN        NaN   \n",
       "1496        0.708359   25.977816  211.312287  181.914676   0.646527   \n",
       "1497        0.704018   23.024194  233.271505  180.751792   0.755784   \n",
       "1498        0.000000   21.767921  236.520227  183.278921   0.000000   \n",
       "\n",
       "bodyparts new_neuron1                                     \n",
       "coords              z           x           y likelihood  \n",
       "0                 NaN         NaN         NaN        NaN  \n",
       "1                 NaN         NaN         NaN        NaN  \n",
       "2                 NaN         NaN         NaN        NaN  \n",
       "3            3.619469  271.936789  396.795196   0.546072  \n",
       "4            3.527294  264.609756  415.465738   0.567441  \n",
       "...               ...         ...         ...        ...  \n",
       "1494              NaN         NaN         NaN        NaN  \n",
       "1495              NaN         NaN         NaN        NaN  \n",
       "1496              NaN         NaN         NaN        NaN  \n",
       "1497              NaN         NaN         NaN        NaN  \n",
       "1498              NaN         NaN         NaN        NaN  \n",
       "\n",
       "[1499 rows x 48708 columns]"
      ]
     },
     "execution_count": 92,
     "metadata": {},
     "output_type": "execute_result"
    }
   ],
   "source": [
    "tmp = pd.concat([df_tracklets, new_tracklet], axis=1)\n",
    "tmp[old_name] = old_tracklet[old_name].copy()\n",
    "tmp"
   ]
  },
  {
   "cell_type": "code",
   "execution_count": 93,
   "id": "4a037100-6473-4e50-88ab-71efb95a5ebd",
   "metadata": {},
   "outputs": [
    {
     "data": {
      "text/plain": [
       "(coords         z           x           y  likelihood\n",
       " 0       4.535754  313.322332  433.174917    0.606776\n",
       " 1       4.195519  298.374745  412.863544    0.696387\n",
       " 2       3.580764  287.709001  407.241677    0.865204\n",
       " 3            NaN         NaN         NaN         NaN\n",
       " 4            NaN         NaN         NaN         NaN\n",
       " ...          ...         ...         ...         ...\n",
       " 1494         NaN         NaN         NaN         NaN\n",
       " 1495         NaN         NaN         NaN         NaN\n",
       " 1496         NaN         NaN         NaN         NaN\n",
       " 1497         NaN         NaN         NaN         NaN\n",
       " 1498         NaN         NaN         NaN         NaN\n",
       " \n",
       " [1499 rows x 4 columns],\n",
       " coords         z           x           y  likelihood\n",
       " 0            NaN         NaN         NaN         NaN\n",
       " 1            NaN         NaN         NaN         NaN\n",
       " 2            NaN         NaN         NaN         NaN\n",
       " 3       3.619469  271.936789  396.795196    0.546072\n",
       " 4       3.527294  264.609756  415.465738    0.567441\n",
       " ...          ...         ...         ...         ...\n",
       " 1494         NaN         NaN         NaN         NaN\n",
       " 1495         NaN         NaN         NaN         NaN\n",
       " 1496         NaN         NaN         NaN         NaN\n",
       " 1497         NaN         NaN         NaN         NaN\n",
       " 1498         NaN         NaN         NaN         NaN\n",
       " \n",
       " [1499 rows x 4 columns])"
      ]
     },
     "execution_count": 93,
     "metadata": {},
     "output_type": "execute_result"
    }
   ],
   "source": [
    "tmp[old_name], tmp[new_name]\n"
   ]
  },
  {
   "cell_type": "code",
   "execution_count": 88,
   "id": "a2b97083-dee2-4438-b43c-c08a9d673d7f",
   "metadata": {},
   "outputs": [
    {
     "data": {
      "text/html": [
       "<div>\n",
       "<style scoped>\n",
       "    .dataframe tbody tr th:only-of-type {\n",
       "        vertical-align: middle;\n",
       "    }\n",
       "\n",
       "    .dataframe tbody tr th {\n",
       "        vertical-align: top;\n",
       "    }\n",
       "\n",
       "    .dataframe thead tr th {\n",
       "        text-align: left;\n",
       "    }\n",
       "</style>\n",
       "<table border=\"1\" class=\"dataframe\">\n",
       "  <thead>\n",
       "    <tr>\n",
       "      <th>bodyparts</th>\n",
       "      <th colspan=\"4\" halign=\"left\">neuron1</th>\n",
       "    </tr>\n",
       "    <tr>\n",
       "      <th>coords</th>\n",
       "      <th>z</th>\n",
       "      <th>x</th>\n",
       "      <th>y</th>\n",
       "      <th>likelihood</th>\n",
       "    </tr>\n",
       "  </thead>\n",
       "  <tbody>\n",
       "    <tr>\n",
       "      <th>0</th>\n",
       "      <td>4.535754</td>\n",
       "      <td>313.322332</td>\n",
       "      <td>433.174917</td>\n",
       "      <td>0.606776</td>\n",
       "    </tr>\n",
       "    <tr>\n",
       "      <th>1</th>\n",
       "      <td>4.195519</td>\n",
       "      <td>298.374745</td>\n",
       "      <td>412.863544</td>\n",
       "      <td>0.696387</td>\n",
       "    </tr>\n",
       "    <tr>\n",
       "      <th>2</th>\n",
       "      <td>3.580764</td>\n",
       "      <td>287.709001</td>\n",
       "      <td>407.241677</td>\n",
       "      <td>0.865204</td>\n",
       "    </tr>\n",
       "    <tr>\n",
       "      <th>3</th>\n",
       "      <td>NaN</td>\n",
       "      <td>NaN</td>\n",
       "      <td>NaN</td>\n",
       "      <td>NaN</td>\n",
       "    </tr>\n",
       "    <tr>\n",
       "      <th>4</th>\n",
       "      <td>NaN</td>\n",
       "      <td>NaN</td>\n",
       "      <td>NaN</td>\n",
       "      <td>NaN</td>\n",
       "    </tr>\n",
       "    <tr>\n",
       "      <th>...</th>\n",
       "      <td>...</td>\n",
       "      <td>...</td>\n",
       "      <td>...</td>\n",
       "      <td>...</td>\n",
       "    </tr>\n",
       "    <tr>\n",
       "      <th>1494</th>\n",
       "      <td>NaN</td>\n",
       "      <td>NaN</td>\n",
       "      <td>NaN</td>\n",
       "      <td>NaN</td>\n",
       "    </tr>\n",
       "    <tr>\n",
       "      <th>1495</th>\n",
       "      <td>NaN</td>\n",
       "      <td>NaN</td>\n",
       "      <td>NaN</td>\n",
       "      <td>NaN</td>\n",
       "    </tr>\n",
       "    <tr>\n",
       "      <th>1496</th>\n",
       "      <td>NaN</td>\n",
       "      <td>NaN</td>\n",
       "      <td>NaN</td>\n",
       "      <td>NaN</td>\n",
       "    </tr>\n",
       "    <tr>\n",
       "      <th>1497</th>\n",
       "      <td>NaN</td>\n",
       "      <td>NaN</td>\n",
       "      <td>NaN</td>\n",
       "      <td>NaN</td>\n",
       "    </tr>\n",
       "    <tr>\n",
       "      <th>1498</th>\n",
       "      <td>NaN</td>\n",
       "      <td>NaN</td>\n",
       "      <td>NaN</td>\n",
       "      <td>NaN</td>\n",
       "    </tr>\n",
       "  </tbody>\n",
       "</table>\n",
       "<p>1499 rows × 4 columns</p>\n",
       "</div>"
      ],
      "text/plain": [
       "bodyparts   neuron1                                   \n",
       "coords            z           x           y likelihood\n",
       "0          4.535754  313.322332  433.174917   0.606776\n",
       "1          4.195519  298.374745  412.863544   0.696387\n",
       "2          3.580764  287.709001  407.241677   0.865204\n",
       "3               NaN         NaN         NaN        NaN\n",
       "4               NaN         NaN         NaN        NaN\n",
       "...             ...         ...         ...        ...\n",
       "1494            NaN         NaN         NaN        NaN\n",
       "1495            NaN         NaN         NaN        NaN\n",
       "1496            NaN         NaN         NaN        NaN\n",
       "1497            NaN         NaN         NaN        NaN\n",
       "1498            NaN         NaN         NaN        NaN\n",
       "\n",
       "[1499 rows x 4 columns]"
      ]
     },
     "execution_count": 88,
     "metadata": {},
     "output_type": "execute_result"
    }
   ],
   "source": [
    "df_tracklets[[old_name]]"
   ]
  },
  {
   "cell_type": "code",
   "execution_count": null,
   "id": "e77caf21-2033-47f6-b308-98863b13f691",
   "metadata": {},
   "outputs": [],
   "source": []
  },
  {
   "cell_type": "markdown",
   "id": "d0a7c73c-1b99-49a0-9cb6-520396d52be8",
   "metadata": {},
   "source": [
    "# Load saved dataframes from disk and make sure they worked"
   ]
  },
  {
   "cell_type": "code",
   "execution_count": 124,
   "id": "674450f7-9ab9-4a4f-a3a1-7c2736ae43f7",
   "metadata": {},
   "outputs": [],
   "source": [
    "# First, just the matches\n",
    "import pickle\n",
    "# fname = \"/scratch/zimmer/Charles/dlc_stacks/worm3-imputation/3-tracking/manual_annotation/global2tracklet_manual-1-1-1-1-1.pickle\"\n",
    "fname = \"/scratch/zimmer/Charles/dlc_stacks/worm3-manual_annotation/3-tracking/manual_annotation/global2tracklet_manual.pickle\"\n",
    "\n",
    "with open(fname, 'rb') as f:\n",
    "    matches = pickle.load(f)"
   ]
  },
  {
   "cell_type": "code",
   "execution_count": 125,
   "id": "085f0ed6-66b2-4535-8af5-9448f1c1cbb7",
   "metadata": {},
   "outputs": [
    {
     "data": {
      "text/plain": [
       "['neuron16613',\n",
       " 'neuron16350',\n",
       " 'neuron13780',\n",
       " 'neuron14066',\n",
       " 'neuron212',\n",
       " 'neuron798',\n",
       " 'neuron798',\n",
       " 'neuron798',\n",
       " 'neuron1013699',\n",
       " 'neuron798',\n",
       " 'neuron1013699',\n",
       " 'neuron798',\n",
       " 'neuron1013699',\n",
       " 'neuron1519']"
      ]
     },
     "execution_count": 125,
     "metadata": {},
     "output_type": "execute_result"
    }
   ],
   "source": [
    "matches['neuron_001']"
   ]
  },
  {
   "cell_type": "code",
   "execution_count": 130,
   "id": "8bef25f6-9480-439a-aee5-52929b8b1685",
   "metadata": {},
   "outputs": [
    {
     "data": {
      "text/plain": [
       "True"
      ]
     },
     "execution_count": 130,
     "metadata": {},
     "output_type": "execute_result"
    }
   ],
   "source": [
    "type(indices[0]) == str"
   ]
  },
  {
   "cell_type": "code",
   "execution_count": 119,
   "id": "7d7efa31-bb51-4215-8d6f-d7f88dc3daf3",
   "metadata": {},
   "outputs": [],
   "source": [
    "# Second, the split tracklets\n",
    "import pandas as pd\n",
    "fname = \"/scratch/zimmer/Charles/dlc_stacks/worm3-imputation/3-tracking/manual_annotation/manually_split_tracklets-1-1-1-1-1.h5\"\n",
    "\n",
    "df = pd.read_hdf(fname)"
   ]
  },
  {
   "cell_type": "code",
   "execution_count": 123,
   "id": "12543732-5346-4194-b320-d10235c9a2af",
   "metadata": {
    "tags": []
   },
   "outputs": [
    {
     "data": {
      "text/plain": [
       "<matplotlib.axes._subplots.AxesSubplot at 0x7f3d3afd2b50>"
      ]
     },
     "execution_count": 123,
     "metadata": {},
     "output_type": "execute_result"
    },
    {
     "data": {
      "image/png": "[encoded data removed]",
      "text/plain": [
       "<Figure size 432x288 with 1 Axes>"
      ]
     },
     "metadata": {
      "needs_background": "light"
     },
     "output_type": "display_data"
    }
   ],
   "source": [
    "plt.figure()\n",
    "df['neuron10733']['z'].plot()"
   ]
  },
  {
   "cell_type": "code",
   "execution_count": 121,
   "id": "38a97f44-b871-4ee3-8713-00bc20095c3e",
   "metadata": {},
   "outputs": [
    {
     "data": {
      "text/plain": [
       "<matplotlib.axes._subplots.AxesSubplot at 0x7f3d3ad68310>"
      ]
     },
     "execution_count": 121,
     "metadata": {},
     "output_type": "execute_result"
    },
    {
     "data": {
      "image/png": "[encoded data removed]",
      "text/plain": [
       "<Figure size 432x288 with 1 Axes>"
      ]
     },
     "metadata": {
      "needs_background": "light"
     },
     "output_type": "display_data"
    }
   ],
   "source": [
    "\n",
    "df['neuron1012177']['z'].plot()"
   ]
  },
  {
   "cell_type": "markdown",
   "id": "acf55882-b631-46bc-97dc-36b1534faed3",
   "metadata": {},
   "source": [
    "# Scratch"
   ]
  },
  {
   "cell_type": "code",
   "execution_count": 63,
   "id": "3b1b851a-368d-454b-bfda-c855cf8e07f5",
   "metadata": {},
   "outputs": [
    {
     "data": {
      "text/plain": [
       "1498"
      ]
     },
     "execution_count": 63,
     "metadata": {},
     "output_type": "execute_result"
    }
   ],
   "source": [
    "list(df_tracklets['neuron0'].index).index(1498)"
   ]
  },
  {
   "cell_type": "code",
   "execution_count": 67,
   "id": "d5f033c1-8525-4210-92cc-d55a929a69b2",
   "metadata": {},
   "outputs": [
    {
     "data": {
      "text/plain": [
       "array([  6.05782793, 294.80959097, 410.4203103 ])"
      ]
     },
     "execution_count": 67,
     "metadata": {},
     "output_type": "execute_result"
    }
   ],
   "source": [
    "project_data.segmentation_metadata.mask_index_to_zxy(0, 10)"
   ]
  },
  {
   "cell_type": "code",
   "execution_count": 82,
   "id": "54219545-018d-436a-9130-ad117de44f69",
   "metadata": {},
   "outputs": [],
   "source": [
    "t0 = df_tracklets['neuron1000'].dropna().index"
   ]
  },
  {
   "cell_type": "code",
   "execution_count": 83,
   "id": "b368e974-ad54-42b8-be73-e87b1b1dad16",
   "metadata": {},
   "outputs": [],
   "source": [
    "t1 = df_tracklets['neuron1'].dropna().index"
   ]
  },
  {
   "cell_type": "code",
   "execution_count": 85,
   "id": "3afd71c8-a548-4c7c-8c34-e5551b19f8e6",
   "metadata": {},
   "outputs": [
    {
     "data": {
      "text/plain": [
       "0"
      ]
     },
     "execution_count": 85,
     "metadata": {},
     "output_type": "execute_result"
    }
   ],
   "source": [
    "len(t0.intersection(t1))"
   ]
  },
  {
   "cell_type": "code",
   "execution_count": 133,
   "id": "74a4d630-aa36-4348-acfb-45bb4a032ca0",
   "metadata": {},
   "outputs": [],
   "source": [
    "k = list(df_tracklets.columns.levels[0])[:5]"
   ]
  },
  {
   "cell_type": "code",
   "execution_count": 137,
   "id": "b8496762-41c4-4487-9875-3f3aaaa87bd6",
   "metadata": {},
   "outputs": [
    {
     "data": {
      "text/plain": [
       "True"
      ]
     },
     "execution_count": 137,
     "metadata": {},
     "output_type": "execute_result"
    }
   ],
   "source": [
    "all(map(lambda s: isinstance(s, str), k))"
   ]
  },
  {
   "cell_type": "code",
   "execution_count": 140,
   "id": "38952228-a345-4a45-99e1-c74ad011c0d2",
   "metadata": {},
   "outputs": [
    {
     "data": {
      "text/plain": [
       "48704"
      ]
     },
     "execution_count": 140,
     "metadata": {},
     "output_type": "execute_result"
    }
   ],
   "source": [
    "df_tracklets.shape[1]"
   ]
  },
  {
   "cell_type": "code",
   "execution_count": 141,
   "id": "179776a7-93ac-42aa-8bdd-e5d411ad5dd4",
   "metadata": {},
   "outputs": [
    {
     "data": {
      "text/plain": [
       "12176"
      ]
     },
     "execution_count": 141,
     "metadata": {},
     "output_type": "execute_result"
    }
   ],
   "source": [
    "len(list(df_tracklets.columns.levels[0]))"
   ]
  },
  {
   "cell_type": "code",
   "execution_count": null,
   "id": "0660b059-d01f-4db4-9960-05df28cf6c0b",
   "metadata": {},
   "outputs": [],
   "source": []
  }
 ],
 "metadata": {
  "kernelspec": {
   "display_name": "Python 3 (ipykernel)",
   "language": "python",
   "name": "python3"
  },
  "language_info": {
   "codemirror_mode": {
    "name": "ipython",
    "version": 3
   },
   "file_extension": ".py",
   "mimetype": "text/x-python",
   "name": "python",
   "nbconvert_exporter": "python",
   "pygments_lexer": "ipython3",
   "version": "3.7.11"
  }
 },
 "nbformat": 4,
 "nbformat_minor": 5
}
