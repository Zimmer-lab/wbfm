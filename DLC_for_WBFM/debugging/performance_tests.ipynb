{
 "cells": [
  {
   "cell_type": "code",
   "execution_count": null,
   "id": "basic-bangladesh",
   "metadata": {},
   "outputs": [],
   "source": [
    "%load_ext line_profiler"
   ]
  },
  {
   "cell_type": "code",
   "execution_count": null,
   "id": "painted-characterization",
   "metadata": {},
   "outputs": [],
   "source": [
    "from segmentation.util.utils_pipeline import segment_video_using_config_2d\n",
    "from DLC_for_WBFM.utils.projects.utils_project import load_config, safe_cd\n",
    "from DLC_for_WBFM.utils.video_and_data_conversion.import_video_as_array import get_single_volume\n",
    "from pathlib import Path\n",
    "import zarr\n",
    "import os"
   ]
  },
  {
   "cell_type": "code",
   "execution_count": null,
   "id": "threatened-relief",
   "metadata": {},
   "outputs": [],
   "source": [
    "project_fname = r'Y:\\shared_projects\\wbfm\\dlc_stacks\\Charlie-test-2021_04_26\\project_config.yaml'\n",
    "project_cfg = load_config(project_fname)\n",
    "segment_fname = project_cfg['subfolder_configs']['segmentation']\n",
    "project_dir = Path(project_fname).parent\n",
    "with safe_cd(project_dir):\n",
    "    segment_cfg = load_config(segment_fname)\n",
    "\n",
    "this_config = segment_cfg.copy()\n",
    "this_config['dataset_params'] = project_cfg['dataset_params'].copy()"
   ]
  },
  {
   "cell_type": "markdown",
   "id": "geographic-performer",
   "metadata": {},
   "source": [
    "# Hypothesis 1: early vs. late frames"
   ]
  },
  {
   "cell_type": "code",
   "execution_count": null,
   "id": "pharmaceutical-pilot",
   "metadata": {},
   "outputs": [],
   "source": [
    "def benchmark_get_volumes(fname, start_volume, num_frames):\n",
    "    for i in range(start_volume, start_volume + num_frames):\n",
    "        _ = get_single_volume(fname, i, num_slices=33)"
   ]
  },
  {
   "cell_type": "code",
   "execution_count": null,
   "id": "ranging-australian",
   "metadata": {},
   "outputs": [],
   "source": [
    "# fname = project_cfg['red_bigtiff_fname']\n",
    "# fname = 'Y:/shared_projects/ForCharlie/27082020_freelyimmobilized_trial2_ome_tiff_1601990420/ZIM2051_trial_21_HEAD_mcherry_FULL.ome.tiff'\n",
    "# LOCAL\n",
    "fname = r'D:\\freely_immobilized\\ZIM2051_trial_21_HEAD_mcherry_FULL_bigtiff.btf'\n",
    "\n",
    "%lprun -f benchmark_get_volumes benchmark_get_volumes(fname, 100, 110)"
   ]
  },
  {
   "cell_type": "code",
   "execution_count": null,
   "id": "confidential-marathon",
   "metadata": {},
   "outputs": [],
   "source": [
    "import tifffile\n",
    "with tifffile.TiffFile(fname) as f:\n",
    "    print(f\"Number of series in this file: {len(f.series)}\")"
   ]
  },
  {
   "cell_type": "markdown",
   "id": "infectious-valuable",
   "metadata": {},
   "source": [
    "# Hypothesis 2: single reader object"
   ]
  },
  {
   "cell_type": "code",
   "execution_count": null,
   "id": "catholic-screw",
   "metadata": {},
   "outputs": [],
   "source": [
    "fname = r'D:\\freely_immobilized\\ZIM2051_trial_21_HEAD_mcherry_FULL_bigtiff.btf'\n",
    "import tifffile\n",
    "\n",
    "def benchmark_get_volumes2(fname, start_volume, num_frames, num_slices=33):\n",
    "    with tifffile.TiffFile(fname) as f:\n",
    "        for which_vol in range(start_volume, start_volume + num_frames):\n",
    "#             start_ind = num_slices*which_vol\n",
    "#             key = range(start_ind, start_ind+num_slices)\n",
    "#             tmp = [f.pages[i].asarray() for i in key]\n",
    "#             dat = (f.pages[start_ind:start_ind+num_slices]).asarray()\n",
    "            get_single_volume(f, which_vol, num_slices=33)\n",
    "    return None"
   ]
  },
  {
   "cell_type": "code",
   "execution_count": null,
   "id": "adjacent-stranger",
   "metadata": {},
   "outputs": [],
   "source": [
    "%lprun -f benchmark_get_volumes2 benchmark_get_volumes2(fname, 500, 510)"
   ]
  },
  {
   "cell_type": "markdown",
   "id": "protecting-division",
   "metadata": {},
   "source": [
    "# Related: trying to write better bigtiffs"
   ]
  },
  {
   "cell_type": "code",
   "execution_count": null,
   "id": "liable-wellington",
   "metadata": {},
   "outputs": [],
   "source": [
    "%load_ext autoreload\n",
    "%autoreload 2\n",
    "from video_conversions.bigtiff.ometiff2bigtiff import ometiff2bigtiff"
   ]
  },
  {
   "cell_type": "code",
   "execution_count": null,
   "id": "congressional-headline",
   "metadata": {},
   "outputs": [],
   "source": [
    "fname = project_cfg['red_bigtiff_fname']"
   ]
  },
  {
   "cell_type": "code",
   "execution_count": null,
   "id": "educational-mother",
   "metadata": {},
   "outputs": [],
   "source": [
    "ometiff2bigtiff(fname, actually_write=True, num_slices=33)"
   ]
  },
  {
   "cell_type": "code",
   "execution_count": null,
   "id": "exclusive-remove",
   "metadata": {},
   "outputs": [],
   "source": [
    "# Re-benchmark\n",
    "\n",
    "fname = 'Y:/shared_projects/ForCharlie/27082020_freelyimmobilized_trial2_ome_tiff_1601990420/ZIM2051_trial_21_HEAD_gcamp_FULL_bigtiff.btf'\n",
    "%lprun -f benchmark_get_volumes benchmark_get_volumes(fname, 100, 110)"
   ]
  },
  {
   "cell_type": "code",
   "execution_count": null,
   "id": "acting-variance",
   "metadata": {},
   "outputs": [],
   "source": [
    "import tifffile"
   ]
  },
  {
   "cell_type": "code",
   "execution_count": null,
   "id": "offshore-least",
   "metadata": {},
   "outputs": [],
   "source": [
    "fname = 'Y:/shared_projects/ForCharlie/27082020_freelyimmobilized_trial2_ome_tiff_1601990420/ZIM2051_trial_21_HEAD_gcamp_FULL_bigtiff.btf'\n",
    "\n",
    "with tifffile.TiffFile(fname) as f:\n",
    "    print(len(f.series))"
   ]
  },
  {
   "cell_type": "code",
   "execution_count": null,
   "id": "flush-birmingham",
   "metadata": {},
   "outputs": [],
   "source": [
    "# OLD\n",
    "fname = 'Y:/shared_projects/ForCharlie/27082020_freelyimmobilized_trial2_ome_tiff_1601990420/ZIM2051_trial_21_HEAD_mcherry_FULL.ome.tiff'\n",
    "\n",
    "with tifffile.TiffFile(fname) as f:\n",
    "    print(len(f.series))"
   ]
  },
  {
   "cell_type": "markdown",
   "id": "advanced-provision",
   "metadata": {},
   "source": [
    "# Write it as a zarr"
   ]
  },
  {
   "cell_type": "code",
   "execution_count": 54,
   "id": "exotic-winter",
   "metadata": {},
   "outputs": [],
   "source": [
    "fname_in = r'D:\\freely_immobilized\\ZIM2051_trial_21_HEAD_mcherry_FULL_bigtiff.btf'\n",
    "# fname_out = r'D:\\freely_immobilized\\mcherry_test.zarr'\n",
    "import tifffile\n",
    "\n",
    "\n",
    "import zarr\n",
    "import dbm\n",
    "import numpy as np\n",
    "import os\n",
    "from DLC_for_WBFM.utils.video_and_data_conversion.import_video_as_array import get_single_volume\n",
    "from numcodecs import Blosc"
   ]
  },
  {
   "cell_type": "markdown",
   "id": "4b7da63f",
   "metadata": {},
   "source": [
    "## Write several different formats"
   ]
  },
  {
   "cell_type": "code",
   "execution_count": 22,
   "id": "worldwide-munich",
   "metadata": {},
   "outputs": [],
   "source": [
    "# Get some real data\n",
    "\n",
    "num_frames = 50\n",
    "with tifffile.TiffFile(fname_in) as f:\n",
    "    dat = [get_single_volume(f, i, 33) for i in range(num_frames)]"
   ]
  },
  {
   "cell_type": "code",
   "execution_count": 37,
   "id": "30486b76",
   "metadata": {},
   "outputs": [
    {
     "data": {
      "text/plain": [
       "(50, 33, 133, 333)"
      ]
     },
     "execution_count": 37,
     "metadata": {},
     "output_type": "execute_result"
    }
   ],
   "source": [
    "dat = np.array(dat)\n",
    "dat.shape"
   ]
  },
  {
   "cell_type": "code",
   "execution_count": 42,
   "id": "7e86a729",
   "metadata": {},
   "outputs": [],
   "source": [
    "dir_out = r'D:\\zarr_tests'\n",
    "chunks=(1, 33, 133, 333)"
   ]
  },
  {
   "cell_type": "code",
   "execution_count": 48,
   "id": "50132bb3",
   "metadata": {},
   "outputs": [],
   "source": [
    "\n",
    "fname_out = os.path.join(dir_out, 'tiff_test.btf')\n",
    "tifffile.imsave(fname_out, dat)"
   ]
  },
  {
   "cell_type": "code",
   "execution_count": 95,
   "id": "sitting-evans",
   "metadata": {},
   "outputs": [],
   "source": [
    "fname_out = os.path.join(dir_out, 'zip_test.zip')\n",
    "zarr.save_array(fname_out, dat, chunks=chunks)\n",
    "# with zarr.ZipStore(fname_out, mode='w') as store:\n",
    "#     zarr.save_array(fname_out, dat, chunks=chunks)"
   ]
  },
  {
   "cell_type": "code",
   "execution_count": 100,
   "id": "060ff897",
   "metadata": {},
   "outputs": [],
   "source": [
    "fname_out = os.path.join(dir_out, 'zip_compressor_test.zip')\n",
    "compressor = Blosc(cname='zstd', clevel=3, shuffle=Blosc.BITSHUFFLE)\n",
    "zarr.save_array(fname_out, dat, chunks=chunks, compressor=compressor)"
   ]
  },
  {
   "cell_type": "code",
   "execution_count": 44,
   "id": "95a0d95c",
   "metadata": {},
   "outputs": [],
   "source": [
    "fname_out = os.path.join(dir_out, 'default_test.zarr')\n",
    "zarr.save_array(fname_out, dat, chunks=chunks)"
   ]
  },
  {
   "cell_type": "code",
   "execution_count": 57,
   "id": "cb38d739",
   "metadata": {},
   "outputs": [],
   "source": [
    "\n",
    "fname_out = os.path.join(dir_out, 'default_compressor_test.zarr')\n",
    "compressor = Blosc(cname='zstd', clevel=3, shuffle=Blosc.BITSHUFFLE)\n",
    "zarr.save_array(fname_out, dat, chunks=chunks, compressor=compressor)"
   ]
  },
  {
   "cell_type": "code",
   "execution_count": 104,
   "id": "8d350019",
   "metadata": {},
   "outputs": [],
   "source": [
    "fname_out = os.path.join(dir_out, 'dbm_test.db')\n",
    "with zarr.DBMStore(fname_out, open=dbm.open) as store:\n",
    "\n",
    "    z = zarr.zeros((num_frames, 33, 133, 333), chunks=chunks, store=store, overwrite=True)\n",
    "\n",
    "    for i in range(num_frames):\n",
    "        z[i,...] = dat[i,...]"
   ]
  },
  {
   "cell_type": "code",
   "execution_count": 105,
   "id": "08740bd5",
   "metadata": {},
   "outputs": [],
   "source": [
    "fname_out = os.path.join(dir_out, 'dbm_compressor_test.db')\n",
    "compressor = Blosc(cname='zstd', clevel=3, shuffle=Blosc.BITSHUFFLE)\n",
    "with zarr.DBMStore(fname_out, open=dbm.open) as store:\n",
    "#     store = zarr.storage.DBMStore(fname_out)\n",
    "\n",
    "    z = zarr.zeros((num_frames, 33, 133, 333), chunks=chunks, store=store, compressor=compressor, overwrite=True)\n",
    "\n",
    "    for i in range(num_frames):\n",
    "        z[i,...] = dat[i,...]"
   ]
  },
  {
   "cell_type": "code",
   "execution_count": 52,
   "id": "018f61a5",
   "metadata": {},
   "outputs": [],
   "source": [
    "fname_out = os.path.join(dir_out, 'sql_test.sqldb')\n",
    "store = zarr.SQLiteStore(fname_out)\n",
    "\n",
    "z = zarr.zeros((num_frames, 33, 133, 333), chunks=chunks, store=store, overwrite=True)\n",
    "for i in range(num_frames):\n",
    "    z[i,...] = dat[i,...]\n",
    "\n",
    "store.close()"
   ]
  },
  {
   "cell_type": "code",
   "execution_count": 73,
   "id": "fe7ec1ea",
   "metadata": {},
   "outputs": [],
   "source": [
    "fname_out = os.path.join(dir_out, 'sql_compressor_test.sqldb')\n",
    "store = zarr.SQLiteStore(fname_out)\n",
    "\n",
    "compressor = Blosc(cname='zstd', clevel=3, shuffle=Blosc.BITSHUFFLE)\n",
    "z = zarr.zeros((num_frames, 33, 133, 333), chunks=chunks, store=store, compressor=compressor, overwrite=True)\n",
    "for i in range(num_frames):\n",
    "    z[i,...] = dat[i,...]\n",
    "\n",
    "store.close()"
   ]
  },
  {
   "cell_type": "markdown",
   "id": "25974244",
   "metadata": {},
   "source": [
    "## Test full-file read speeds"
   ]
  },
  {
   "cell_type": "code",
   "execution_count": 62,
   "id": "33688f59",
   "metadata": {},
   "outputs": [
    {
     "name": "stdout",
     "output_type": "stream",
     "text": [
      "124 ms ± 3.61 ms per loop (mean ± std. dev. of 7 runs, 10 loops each)\n"
     ]
    }
   ],
   "source": [
    "%%timeit\n",
    "\n",
    "fname_out = os.path.join(dir_out, 'tiff_test.btf')\n",
    "tmp = np.array(tifffile.imread(fname_out))"
   ]
  },
  {
   "cell_type": "code",
   "execution_count": 67,
   "id": "b7c7e4ee",
   "metadata": {},
   "outputs": [
    {
     "name": "stdout",
     "output_type": "stream",
     "text": [
      "166 ms ± 3.99 ms per loop (mean ± std. dev. of 7 runs, 1 loop each)\n"
     ]
    }
   ],
   "source": [
    "%%timeit\n",
    "\n",
    "fname_out = os.path.join(dir_out, 'default_test.zarr')\n",
    "tmp = np.array(zarr.open(fname_out))"
   ]
  },
  {
   "cell_type": "code",
   "execution_count": 68,
   "id": "68394f79",
   "metadata": {},
   "outputs": [
    {
     "name": "stdout",
     "output_type": "stream",
     "text": [
      "195 ms ± 4.51 ms per loop (mean ± std. dev. of 7 runs, 1 loop each)\n"
     ]
    }
   ],
   "source": [
    "%%timeit\n",
    "\n",
    "fname_out = os.path.join(dir_out, 'default_compressor_test.zarr')\n",
    "tmp = np.array(zarr.open(fname_out))"
   ]
  },
  {
   "cell_type": "code",
   "execution_count": 99,
   "id": "c1564f1f",
   "metadata": {},
   "outputs": [
    {
     "name": "stdout",
     "output_type": "stream",
     "text": [
      "235 ms ± 2.54 ms per loop (mean ± std. dev. of 7 runs, 1 loop each)\n"
     ]
    }
   ],
   "source": [
    "%%timeit\n",
    "\n",
    "fname_out = os.path.join(dir_out, 'zip_test.zip')\n",
    "tmp = np.array(zarr.load(fname_out))"
   ]
  },
  {
   "cell_type": "code",
   "execution_count": 101,
   "id": "e2fa10d7",
   "metadata": {},
   "outputs": [
    {
     "name": "stdout",
     "output_type": "stream",
     "text": [
      "252 ms ± 3.59 ms per loop (mean ± std. dev. of 7 runs, 1 loop each)\n"
     ]
    }
   ],
   "source": [
    "%%timeit\n",
    "\n",
    "fname_out = os.path.join(dir_out, 'zip_compressor_test.zip')\n",
    "tmp = np.array(zarr.load(fname_out))"
   ]
  },
  {
   "cell_type": "code",
   "execution_count": 148,
   "id": "41f0948e",
   "metadata": {},
   "outputs": [
    {
     "name": "stdout",
     "output_type": "stream",
     "text": [
      "872 ms ± 13.3 ms per loop (mean ± std. dev. of 7 runs, 1 loop each)\n"
     ]
    }
   ],
   "source": [
    "%%timeit\n",
    "\n",
    "fname_out = os.path.join(dir_out, 'dbm_test.db')\n",
    "store = zarr.DBMStore(fname_out)\n",
    "tmp = np.array(zarr.open_array(store=store, mode='r'))\n",
    "store.close()"
   ]
  },
  {
   "cell_type": "code",
   "execution_count": 147,
   "id": "bb235e8d",
   "metadata": {},
   "outputs": [
    {
     "name": "stdout",
     "output_type": "stream",
     "text": [
      "804 ms ± 14.6 ms per loop (mean ± std. dev. of 7 runs, 1 loop each)\n"
     ]
    }
   ],
   "source": [
    "%%timeit\n",
    "\n",
    "fname_out = os.path.join(dir_out, 'dbm_compressor_test.db')\n",
    "store = zarr.DBMStore(fname_out)\n",
    "tmp = np.array(zarr.open_array(store=store, mode='r'))\n",
    "store.close()"
   ]
  },
  {
   "cell_type": "code",
   "execution_count": 144,
   "id": "cc7dac0d",
   "metadata": {},
   "outputs": [
    {
     "name": "stdout",
     "output_type": "stream",
     "text": [
      "1.09 s ± 10.5 ms per loop (mean ± std. dev. of 7 runs, 1 loop each)\n"
     ]
    }
   ],
   "source": [
    "%%timeit\n",
    "\n",
    "fname_out = os.path.join(dir_out, 'sql_test.sqldb')\n",
    "store = zarr.SQLiteStore(fname_out)\n",
    "tmp = np.array(zarr.open_array(store=store, mode='r'))\n",
    "store.close()"
   ]
  },
  {
   "cell_type": "code",
   "execution_count": 146,
   "id": "54f09aa6",
   "metadata": {},
   "outputs": [
    {
     "name": "stdout",
     "output_type": "stream",
     "text": [
      "888 ms ± 13 ms per loop (mean ± std. dev. of 7 runs, 1 loop each)\n"
     ]
    }
   ],
   "source": [
    "%%timeit\n",
    "\n",
    "fname_out = os.path.join(dir_out, 'sql_compressor_test.sqldb')\n",
    "store = zarr.SQLiteStore(fname_out)\n",
    "tmp = np.array(zarr.open_array(store=store, mode='r'))\n",
    "store.close()"
   ]
  },
  {
   "cell_type": "markdown",
   "id": "9f47583f",
   "metadata": {},
   "source": [
    "## Test just last frame"
   ]
  },
  {
   "cell_type": "code",
   "execution_count": 149,
   "id": "54e4d4b6",
   "metadata": {},
   "outputs": [
    {
     "name": "stdout",
     "output_type": "stream",
     "text": [
      "17.4 ms ± 1.07 ms per loop (mean ± std. dev. of 7 runs, 100 loops each)\n"
     ]
    }
   ],
   "source": [
    "%%timeit\n",
    "\n",
    "fname_out = os.path.join(dir_out, 'tiff_test.btf')\n",
    "tmp = get_single_volume(fname_out, 49, 33)\n",
    "# tmp = np.array(tifffile.imread(fname_out))"
   ]
  },
  {
   "cell_type": "code",
   "execution_count": 150,
   "id": "26b1d4b4",
   "metadata": {},
   "outputs": [
    {
     "name": "stdout",
     "output_type": "stream",
     "text": [
      "4.6 ms ± 30.1 µs per loop (mean ± std. dev. of 7 runs, 100 loops each)\n"
     ]
    }
   ],
   "source": [
    "%%timeit\n",
    "\n",
    "fname_out = os.path.join(dir_out, 'default_test.zarr')\n",
    "tmp = np.array(zarr.open(fname_out)[49,...])"
   ]
  },
  {
   "cell_type": "code",
   "execution_count": 151,
   "id": "1d4ff39e",
   "metadata": {},
   "outputs": [
    {
     "name": "stdout",
     "output_type": "stream",
     "text": [
      "5.06 ms ± 28.1 µs per loop (mean ± std. dev. of 7 runs, 100 loops each)\n"
     ]
    }
   ],
   "source": [
    "%%timeit\n",
    "\n",
    "fname_out = os.path.join(dir_out, 'default_compressor_test.zarr')\n",
    "tmp = np.array(zarr.open(fname_out)[49,...])"
   ]
  },
  {
   "cell_type": "code",
   "execution_count": 152,
   "id": "3123cb68",
   "metadata": {},
   "outputs": [
    {
     "name": "stdout",
     "output_type": "stream",
     "text": [
      "190 ms ± 729 µs per loop (mean ± std. dev. of 7 runs, 10 loops each)\n"
     ]
    }
   ],
   "source": [
    "%%timeit\n",
    "\n",
    "fname_out = os.path.join(dir_out, 'zip_test.zip')\n",
    "tmp = np.array(zarr.load(fname_out)[49,...])"
   ]
  },
  {
   "cell_type": "code",
   "execution_count": 153,
   "id": "4f9270b4",
   "metadata": {},
   "outputs": [
    {
     "name": "stdout",
     "output_type": "stream",
     "text": [
      "207 ms ± 4.28 ms per loop (mean ± std. dev. of 7 runs, 1 loop each)\n"
     ]
    }
   ],
   "source": [
    "%%timeit\n",
    "\n",
    "fname_out = os.path.join(dir_out, 'zip_compressor_test.zip')\n",
    "tmp = np.array(zarr.load(fname_out)[49,...])"
   ]
  },
  {
   "cell_type": "code",
   "execution_count": 154,
   "id": "99ebcfed",
   "metadata": {},
   "outputs": [
    {
     "name": "stdout",
     "output_type": "stream",
     "text": [
      "28.8 ms ± 704 µs per loop (mean ± std. dev. of 7 runs, 10 loops each)\n"
     ]
    }
   ],
   "source": [
    "%%timeit\n",
    "\n",
    "fname_out = os.path.join(dir_out, 'dbm_test.db')\n",
    "store = zarr.DBMStore(fname_out)\n",
    "tmp = np.array(zarr.open_array(store=store, mode='r')[49,...])\n",
    "store.close()"
   ]
  },
  {
   "cell_type": "code",
   "execution_count": 155,
   "id": "7f444aac",
   "metadata": {},
   "outputs": [
    {
     "name": "stdout",
     "output_type": "stream",
     "text": [
      "25.6 ms ± 604 µs per loop (mean ± std. dev. of 7 runs, 10 loops each)\n"
     ]
    }
   ],
   "source": [
    "%%timeit\n",
    "\n",
    "fname_out = os.path.join(dir_out, 'dbm_compressor_test.db')\n",
    "store = zarr.DBMStore(fname_out)\n",
    "tmp = np.array(zarr.open_array(store=store, mode='r')[49,...])\n",
    "store.close()"
   ]
  },
  {
   "cell_type": "code",
   "execution_count": 156,
   "id": "37c06e03",
   "metadata": {},
   "outputs": [
    {
     "name": "stdout",
     "output_type": "stream",
     "text": [
      "32.6 ms ± 716 µs per loop (mean ± std. dev. of 7 runs, 10 loops each)\n"
     ]
    }
   ],
   "source": [
    "%%timeit\n",
    "\n",
    "fname_out = os.path.join(dir_out, 'sql_test.sqldb')\n",
    "store = zarr.SQLiteStore(fname_out)\n",
    "tmp = np.array(zarr.open_array(store=store, mode='r')[49,...])\n",
    "store.close()"
   ]
  },
  {
   "cell_type": "code",
   "execution_count": 157,
   "id": "34343f4c",
   "metadata": {},
   "outputs": [
    {
     "name": "stdout",
     "output_type": "stream",
     "text": [
      "27.7 ms ± 526 µs per loop (mean ± std. dev. of 7 runs, 10 loops each)\n"
     ]
    }
   ],
   "source": [
    "%%timeit\n",
    "\n",
    "fname_out = os.path.join(dir_out, 'sql_compressor_test.sqldb')\n",
    "store = zarr.SQLiteStore(fname_out)\n",
    "tmp = np.array(zarr.open_array(store=store, mode='r')[49,...])\n",
    "store.close()"
   ]
  },
  {
   "cell_type": "markdown",
   "id": "f7220337",
   "metadata": {},
   "source": [
    "## Don't test reopening the file"
   ]
  },
  {
   "cell_type": "code",
   "execution_count": 161,
   "id": "497a5feb",
   "metadata": {},
   "outputs": [
    {
     "name": "stdout",
     "output_type": "stream",
     "text": [
      "9.16 ms ± 247 µs per loop (mean ± std. dev. of 7 runs, 100 loops each)\n"
     ]
    }
   ],
   "source": [
    "fname_out = os.path.join(dir_out, 'tiff_test.btf')\n",
    "with tifffile.TiffFile(fname_out) as f:\n",
    "    %timeit tmp = get_single_volume(f, 49, 33)"
   ]
  },
  {
   "cell_type": "code",
   "execution_count": 173,
   "id": "d7525529",
   "metadata": {},
   "outputs": [
    {
     "name": "stdout",
     "output_type": "stream",
     "text": [
      "4.11 ms ± 24 µs per loop (mean ± std. dev. of 7 runs, 100 loops each)\n"
     ]
    }
   ],
   "source": [
    "fname_out = os.path.join(dir_out, 'default_test.zarr')\n",
    "z = zarr.open(fname_out)\n",
    "%timeit tmp = np.array(z[49,...])"
   ]
  },
  {
   "cell_type": "code",
   "execution_count": 172,
   "id": "bab40e26",
   "metadata": {},
   "outputs": [
    {
     "name": "stdout",
     "output_type": "stream",
     "text": [
      "4.83 ms ± 38 µs per loop (mean ± std. dev. of 7 runs, 100 loops each)\n"
     ]
    }
   ],
   "source": [
    "fname_out = os.path.join(dir_out, 'default_compressor_test.zarr')\n",
    "z = zarr.open(fname_out)\n",
    "%timeit tmp = np.array(z[49,...])"
   ]
  },
  {
   "cell_type": "code",
   "execution_count": 168,
   "id": "5ed3d12b",
   "metadata": {},
   "outputs": [
    {
     "name": "stdout",
     "output_type": "stream",
     "text": [
      "24.6 ms ± 587 µs per loop (mean ± std. dev. of 7 runs, 10 loops each)\n"
     ]
    }
   ],
   "source": [
    "fname_out = os.path.join(dir_out, 'dbm_test.db')\n",
    "store = zarr.DBMStore(fname_out)\n",
    "z = zarr.open_array(store=store, mode='r')\n",
    "%timeit tmp = np.array(z[49,...])\n",
    "store.close()"
   ]
  },
  {
   "cell_type": "code",
   "execution_count": 169,
   "id": "04040d73",
   "metadata": {},
   "outputs": [
    {
     "name": "stdout",
     "output_type": "stream",
     "text": [
      "27.7 ms ± 652 µs per loop (mean ± std. dev. of 7 runs, 10 loops each)\n"
     ]
    }
   ],
   "source": [
    "fname_out = os.path.join(dir_out, 'dbm_compressor_test.db')\n",
    "store = zarr.DBMStore(fname_out)\n",
    "z = zarr.open_array(store=store, mode='r')\n",
    "%timeit tmp = np.array(z[49,...])\n",
    "store.close()"
   ]
  },
  {
   "cell_type": "code",
   "execution_count": 166,
   "id": "ddda9789",
   "metadata": {},
   "outputs": [
    {
     "name": "stdout",
     "output_type": "stream",
     "text": [
      "25.6 ms ± 491 µs per loop (mean ± std. dev. of 7 runs, 10 loops each)\n"
     ]
    }
   ],
   "source": [
    "\n",
    "fname_out = os.path.join(dir_out, 'sql_compressor_test.sqldb')\n",
    "store = zarr.SQLiteStore(fname_out)\n",
    "z = zarr.open_array(store=store, mode='r')\n",
    "%timeit tmp = np.array(z[49,...])\n",
    "store.close()"
   ]
  },
  {
   "cell_type": "code",
   "execution_count": 167,
   "id": "3270fd4b",
   "metadata": {},
   "outputs": [
    {
     "name": "stdout",
     "output_type": "stream",
     "text": [
      "25.7 ms ± 760 µs per loop (mean ± std. dev. of 7 runs, 10 loops each)\n"
     ]
    }
   ],
   "source": [
    "fname_out = os.path.join(dir_out, 'sql_compressor_test.sqldb')\n",
    "store = zarr.SQLiteStore(fname_out)\n",
    "z = zarr.open_array(store=store, mode='r')\n",
    "%timeit tmp = np.array(z[49,...])\n",
    "store.close()"
   ]
  },
  {
   "cell_type": "markdown",
   "id": "3ff31069",
   "metadata": {},
   "source": [
    "## Look at the actually loaded variables"
   ]
  },
  {
   "cell_type": "code",
   "execution_count": 142,
   "id": "9ab0b0bc",
   "metadata": {},
   "outputs": [],
   "source": [
    "fname_out = os.path.join(dir_out, 'sql_test.sqldb')\n",
    "store = zarr.SQLiteStore(fname_out)\n",
    "z = zarr.open_array(store=store, mode='r')\n",
    "store.close()"
   ]
  },
  {
   "cell_type": "code",
   "execution_count": 139,
   "id": "b795c7c6",
   "metadata": {},
   "outputs": [],
   "source": []
  },
  {
   "cell_type": "code",
   "execution_count": 138,
   "id": "a8172e59",
   "metadata": {},
   "outputs": [
    {
     "data": {
      "text/plain": [
       "array([[[[ 99., 103.,  99., ..., 106., 105.,  96.],\n",
       "         [103.,  96., 100., ..., 105.,  98., 101.],\n",
       "         [101.,  96.,  99., ...,  98.,  94.,  99.],\n",
       "         ...,\n",
       "         [ 98.,  94., 100., ..., 110., 108., 109.],\n",
       "         [ 99.,  95., 102., ..., 100., 109., 101.],\n",
       "         [100., 101., 100., ..., 103., 108., 106.]],\n",
       "\n",
       "        [[100.,  99.,  93., ...,  98.,  93., 100.],\n",
       "         [ 99., 100., 101., ..., 104., 104.,  97.],\n",
       "         [ 95.,  97., 101., ...,  98.,  95.,  94.],\n",
       "         ...,\n",
       "         [ 99.,  98.,  99., ..., 109., 113., 114.],\n",
       "         [ 95., 100.,  98., ..., 100., 107.,  98.],\n",
       "         [ 64.,  98., 100., ..., 105., 108., 112.]],\n",
       "\n",
       "        [[ 98., 100., 100., ..., 109.,  96.,  94.],\n",
       "         [102.,  96., 103., ..., 102., 100., 102.],\n",
       "         [101.,  97., 100., ..., 100., 100.,  99.],\n",
       "         ...,\n",
       "         [ 99.,  94.,  94., ..., 103.,  92.,  98.],\n",
       "         [103., 100., 100., ...,  98., 114., 103.],\n",
       "         [ 97., 101., 102., ..., 101., 111., 106.]],\n",
       "\n",
       "        ...,\n",
       "\n",
       "        [[100., 100.,  98., ..., 100.,  94.,  99.],\n",
       "         [100., 101.,  98., ...,  99.,  95.,  95.],\n",
       "         [ 99.,  95.,  99., ...,  99.,  96.,  97.],\n",
       "         ...,\n",
       "         [100.,  92.,  98., ..., 103.,  93., 104.],\n",
       "         [ 97., 100., 101., ..., 108., 105., 105.],\n",
       "         [ 94.,  98., 103., ..., 109., 112., 105.]],\n",
       "\n",
       "        [[ 97., 103., 103., ..., 102., 100.,  98.],\n",
       "         [100.,  97., 105., ..., 100.,  96., 100.],\n",
       "         [ 98.,  99., 101., ..., 100.,  97., 101.],\n",
       "         ...,\n",
       "         [ 98.,  99.,  98., ..., 119.,  96., 109.],\n",
       "         [ 98.,  94.,  99., ..., 103.,  99., 104.],\n",
       "         [ 97.,  98.,  98., ..., 106., 102., 104.]],\n",
       "\n",
       "        [[102.,  98.,  99., ..., 101.,  96.,  99.],\n",
       "         [104., 100.,  99., ..., 101., 100.,  97.],\n",
       "         [102.,  96., 100., ...,  96.,  94., 102.],\n",
       "         ...,\n",
       "         [101.,  96.,  98., ..., 107., 103., 104.],\n",
       "         [ 96.,  95., 102., ..., 104., 107., 104.],\n",
       "         [ 95., 101., 100., ..., 111., 106., 104.]]],\n",
       "\n",
       "\n",
       "       [[[100.,  98.,  97., ...,  98.,  98.,  99.],\n",
       "         [101., 100., 103., ..., 104.,  95.,  99.],\n",
       "         [ 97.,  94., 102., ...,  98.,  94.,  96.],\n",
       "         ...,\n",
       "         [ 99.,  95., 100., ..., 110.,  96., 100.],\n",
       "         [ 99.,  96., 103., ..., 103., 108., 109.],\n",
       "         [ 97.,  98., 102., ..., 113., 102.,  98.]],\n",
       "\n",
       "        [[103., 102., 104., ...,  96.,  98., 101.],\n",
       "         [100., 101., 100., ..., 104., 100.,  98.],\n",
       "         [ 99.,  97., 100., ...,  96.,  95.,  96.],\n",
       "         ...,\n",
       "         [ 97.,  94.,  98., ..., 149., 124., 161.],\n",
       "         [ 99.,  99.,  98., ..., 115., 121., 129.],\n",
       "         [124., 105., 100., ..., 117., 113., 113.]],\n",
       "\n",
       "        [[100.,  93.,  98., ..., 101., 100.,  98.],\n",
       "         [106.,  98.,  98., ...,  99.,  99.,  95.],\n",
       "         [102.,  94., 102., ...,  99.,  94.,  98.],\n",
       "         ...,\n",
       "         [ 99.,  94.,  93., ..., 106.,  95., 106.],\n",
       "         [ 97.,  95., 101., ..., 101., 101., 102.],\n",
       "         [ 95., 105., 100., ..., 104., 103., 105.]],\n",
       "\n",
       "        ...,\n",
       "\n",
       "        [[100.,  99.,  98., ..., 100.,  96.,  96.],\n",
       "         [101.,  95.,  99., ..., 104., 100.,  98.],\n",
       "         [100.,  96., 108., ..., 100.,  97., 101.],\n",
       "         ...,\n",
       "         [101.,  94.,  97., ..., 106., 101.,  98.],\n",
       "         [103., 102.,  99., ...,  97., 106., 108.],\n",
       "         [102., 101., 101., ..., 122., 107., 100.]],\n",
       "\n",
       "        [[ 97.,  99., 101., ..., 100.,  98.,  99.],\n",
       "         [ 99.,  98., 100., ..., 103., 100.,  99.],\n",
       "         [ 97.,  98., 102., ...,  98.,  97.,  98.],\n",
       "         ...,\n",
       "         [102.,  94.,  94., ..., 114., 110., 109.],\n",
       "         [ 97., 101., 101., ..., 111., 108., 111.],\n",
       "         [103., 100.,  98., ..., 101., 104., 103.]],\n",
       "\n",
       "        [[103.,  99., 101., ..., 101.,  96.,  96.],\n",
       "         [ 99.,  96.,  99., ...,  99.,  98., 102.],\n",
       "         [108.,  99.,  98., ...,  99.,  90.,  98.],\n",
       "         ...,\n",
       "         [ 97.,  94.,  97., ..., 115., 110., 113.],\n",
       "         [ 94.,  93.,  98., ...,  99., 108., 106.],\n",
       "         [ 99.,  91., 105., ..., 106., 109., 107.]]],\n",
       "\n",
       "\n",
       "       [[[101., 102.,  98., ..., 101., 100.,  98.],\n",
       "         [102.,  98.,  99., ..., 104.,  95.,  98.],\n",
       "         [ 95.,  96., 102., ...,  99.,  98., 104.],\n",
       "         ...,\n",
       "         [ 98.,  97.,  98., ..., 105.,  98., 104.],\n",
       "         [ 99.,  97., 102., ..., 104., 107.,  98.],\n",
       "         [100.,  91.,  98., ..., 111., 106., 103.]],\n",
       "\n",
       "        [[106.,  97., 102., ..., 101.,  93., 100.],\n",
       "         [102.,  98.,  99., ..., 103.,  99., 100.],\n",
       "         [ 97.,  95., 111., ..., 103.,  93.,  95.],\n",
       "         ...,\n",
       "         [ 99.,  94.,  98., ..., 139., 118., 148.],\n",
       "         [ 96.,  96.,  99., ..., 115., 127., 147.],\n",
       "         [ 96.,  93.,  98., ..., 119., 114., 115.]],\n",
       "\n",
       "        [[ 98., 102., 100., ...,  99.,  96.,  99.],\n",
       "         [103., 101., 103., ..., 101.,  98.,  96.],\n",
       "         [ 89.,  95., 100., ..., 100.,  95.,  96.],\n",
       "         ...,\n",
       "         [ 99.,  95., 100., ..., 105., 102., 103.],\n",
       "         [103.,  99.,  97., ...,  99., 105., 111.],\n",
       "         [ 98.,  95.,  97., ..., 108., 100., 109.]],\n",
       "\n",
       "        ...,\n",
       "\n",
       "        [[100., 101.,  99., ..., 101.,  96.,  99.],\n",
       "         [ 99., 102.,  98., ..., 103.,  97., 100.],\n",
       "         [ 98.,  96.,  98., ...,  99.,  98.,  95.],\n",
       "         ...,\n",
       "         [ 98.,  95.,  98., ..., 122., 103., 105.],\n",
       "         [102.,  96., 102., ..., 117., 115., 109.],\n",
       "         [ 97.,  98.,  99., ..., 104., 100., 107.]],\n",
       "\n",
       "        [[101., 100., 100., ...,  99.,  98.,  99.],\n",
       "         [102.,  98., 100., ..., 104.,  94.,  99.],\n",
       "         [101.,  97., 104., ..., 102.,  95.,  98.],\n",
       "         ...,\n",
       "         [ 97.,  95., 100., ..., 103., 108., 103.],\n",
       "         [101.,  99., 101., ...,  98., 115., 105.],\n",
       "         [ 99.,  97., 105., ..., 108., 104.,  98.]],\n",
       "\n",
       "        [[100., 101.,  99., ...,  98.,  96., 100.],\n",
       "         [103., 100., 102., ..., 102., 103.,  97.],\n",
       "         [101.,  95.,  95., ..., 101.,  96.,  93.],\n",
       "         ...,\n",
       "         [103.,  92., 100., ..., 119., 105.,  99.],\n",
       "         [100.,  99.,  98., ...,  96.,  98., 106.],\n",
       "         [ 94.,  95., 100., ..., 111., 114., 111.]]],\n",
       "\n",
       "\n",
       "       ...,\n",
       "\n",
       "\n",
       "       [[[100., 103., 101., ..., 109.,  99., 100.],\n",
       "         [ 96., 102., 101., ..., 104.,  97., 101.],\n",
       "         [ 95.,  91., 101., ..., 101.,  99.,  95.],\n",
       "         ...,\n",
       "         [101.,  98.,  98., ..., 109.,  96., 112.],\n",
       "         [101., 101., 101., ..., 104., 104., 107.],\n",
       "         [101., 106., 104., ..., 108., 101., 102.]],\n",
       "\n",
       "        [[ 97., 102.,  99., ..., 108.,  95., 103.],\n",
       "         [ 98.,  99., 101., ...,  99.,  99.,  95.],\n",
       "         [ 95.,  97., 101., ...,  98.,  95.,  98.],\n",
       "         ...,\n",
       "         [ 97.,  94., 100., ..., 143., 126., 136.],\n",
       "         [ 99.,  95., 102., ..., 102., 122., 132.],\n",
       "         [ 97.,  94., 100., ..., 114., 116., 117.]],\n",
       "\n",
       "        [[101., 101., 102., ...,  99.,  96.,  99.],\n",
       "         [ 97., 100., 100., ..., 103.,  98.,  99.],\n",
       "         [ 98.,  95., 102., ...,  98.,  95.,  99.],\n",
       "         ...,\n",
       "         [ 97.,  98.,  99., ..., 107., 104., 117.],\n",
       "         [ 99.,  99., 102., ..., 101., 106., 105.],\n",
       "         [ 97., 100., 105., ..., 108., 102., 103.]],\n",
       "\n",
       "        ...,\n",
       "\n",
       "        [[ 99., 100., 102., ...,  97.,  98., 100.],\n",
       "         [100.,  96.,  99., ..., 102.,  98.,  97.],\n",
       "         [ 99.,  95., 104., ...,  99.,  94.,  96.],\n",
       "         ...,\n",
       "         [100.,  92.,  96., ..., 111., 104., 100.],\n",
       "         [102., 101., 102., ..., 108., 121., 108.],\n",
       "         [ 99.,  97., 105., ..., 111., 106., 101.]],\n",
       "\n",
       "        [[ 98., 100., 104., ..., 100.,  97., 100.],\n",
       "         [ 97.,  97., 101., ..., 103.,  97.,  99.],\n",
       "         [ 99.,  99., 104., ...,  99.,  99.,  92.],\n",
       "         ...,\n",
       "         [ 99.,  91.,  96., ..., 116., 105., 107.],\n",
       "         [ 96., 104., 104., ..., 102., 108., 111.],\n",
       "         [101., 100., 102., ..., 103., 108., 100.]],\n",
       "\n",
       "        [[ 99.,  99., 100., ..., 103.,  98.,  99.],\n",
       "         [ 99.,  98., 101., ..., 104.,  97.,  99.],\n",
       "         [ 95.,  99., 102., ..., 104.,  98.,  94.],\n",
       "         ...,\n",
       "         [102.,  96., 104., ..., 103.,  95., 108.],\n",
       "         [ 98.,  99.,  99., ..., 101., 106., 104.],\n",
       "         [100.,  97., 102., ..., 107., 117., 103.]]],\n",
       "\n",
       "\n",
       "       [[[ 96., 100., 103., ..., 100.,  95.,  98.],\n",
       "         [104.,  98.,  98., ..., 101., 103., 100.],\n",
       "         [ 94.,  95., 100., ..., 100.,  99.,  94.],\n",
       "         ...,\n",
       "         [ 97.,  96.,  97., ..., 104., 108., 105.],\n",
       "         [ 96., 102., 100., ...,  99., 111., 109.],\n",
       "         [ 99.,  98., 102., ..., 111., 115., 100.]],\n",
       "\n",
       "        [[102.,  98., 101., ...,  96.,  96.,  95.],\n",
       "         [ 99., 100., 100., ..., 102., 100., 102.],\n",
       "         [ 94.,  98., 101., ...,  97.,  92.,  97.],\n",
       "         ...,\n",
       "         [ 99.,  95.,  94., ..., 145., 119., 153.],\n",
       "         [ 96.,  94., 100., ..., 113., 135., 135.],\n",
       "         [ 95.,  96., 100., ..., 128., 116., 122.]],\n",
       "\n",
       "        [[101., 104., 103., ..., 101., 100., 100.],\n",
       "         [100.,  96., 101., ..., 108.,  94., 100.],\n",
       "         [ 99.,  94.,  99., ..., 100.,  94.,  98.],\n",
       "         ...,\n",
       "         [ 99.,  97.,  92., ..., 107., 103., 101.],\n",
       "         [ 94.,  95., 101., ..., 103., 103., 106.],\n",
       "         [ 97., 101., 100., ..., 114., 106.,  95.]],\n",
       "\n",
       "        ...,\n",
       "\n",
       "        [[ 99.,  98., 102., ..., 102.,  97., 102.],\n",
       "         [ 97., 100., 100., ..., 101.,  97.,  97.],\n",
       "         [ 95., 100., 102., ...,  99.,  93.,  94.],\n",
       "         ...,\n",
       "         [ 96.,  94.,  98., ..., 106.,  90.,  98.],\n",
       "         [ 99.,  98.,  98., ..., 100., 108., 106.],\n",
       "         [100.,  93., 102., ..., 104., 108., 107.]],\n",
       "\n",
       "        [[ 98., 100., 103., ..., 100.,  99.,  99.],\n",
       "         [ 99., 100., 100., ..., 104.,  97.,  99.],\n",
       "         [ 94.,  96., 102., ...,  99.,  99.,  97.],\n",
       "         ...,\n",
       "         [102., 100., 102., ...,  98.,  97., 111.],\n",
       "         [102.,  99., 100., ...,  99., 103., 114.],\n",
       "         [ 96., 105., 102., ..., 106., 108., 106.]],\n",
       "\n",
       "        [[ 99., 101.,  97., ...,  99.,  95.,  99.],\n",
       "         [ 99.,  98.,  97., ..., 102.,  97., 101.],\n",
       "         [ 98.,  97., 100., ...,  98.,  94.,  97.],\n",
       "         ...,\n",
       "         [100.,  95.,  99., ..., 106., 106., 111.],\n",
       "         [103.,  95., 100., ..., 102., 105.,  98.],\n",
       "         [ 97., 100., 103., ..., 110., 100., 102.]]],\n",
       "\n",
       "\n",
       "       [[[100., 101., 100., ..., 103.,  96.,  98.],\n",
       "         [ 99.,  99., 100., ..., 106., 100.,  99.],\n",
       "         [101.,  96., 103., ...,  98., 101.,  96.],\n",
       "         ...,\n",
       "         [ 99.,  95.,  99., ..., 100.,  95., 115.],\n",
       "         [ 96.,  95.,  99., ..., 101., 104., 110.],\n",
       "         [102., 101., 101., ..., 108., 112., 100.]],\n",
       "\n",
       "        [[ 99., 100., 100., ...,  98.,  95., 101.],\n",
       "         [ 95.,  98., 102., ..., 102.,  95.,  97.],\n",
       "         [ 99.,  96., 102., ...,  96.,  95.,  97.],\n",
       "         ...,\n",
       "         [ 99.,  94.,  99., ..., 130., 118., 167.],\n",
       "         [102.,  94., 105., ..., 122., 129., 147.],\n",
       "         [ 97.,  99.,  99., ..., 119., 114., 124.]],\n",
       "\n",
       "        [[100.,  98., 102., ...,  99.,  94.,  99.],\n",
       "         [100., 100.,  99., ..., 101.,  95.,  99.],\n",
       "         [ 99., 100., 106., ...,  96.,  90.,  94.],\n",
       "         ...,\n",
       "         [ 99.,  94.,  97., ..., 114.,  94., 103.],\n",
       "         [ 99.,  92.,  98., ..., 104., 106., 104.],\n",
       "         [102.,  93., 100., ..., 104., 108., 102.]],\n",
       "\n",
       "        ...,\n",
       "\n",
       "        [[104.,  98., 103., ..., 103.,  99.,  97.],\n",
       "         [102.,  97.,  99., ...,  99.,  99., 100.],\n",
       "         [ 98.,  95., 102., ..., 100.,  94.,  98.],\n",
       "         ...,\n",
       "         [100.,  97., 102., ..., 106., 106.,  98.],\n",
       "         [101.,  98., 103., ...,  96., 108., 106.],\n",
       "         [100.,  94., 102., ..., 116., 110., 106.]],\n",
       "\n",
       "        [[100., 105., 100., ...,  99.,  95., 100.],\n",
       "         [100.,  96.,  99., ..., 102.,  97.,  99.],\n",
       "         [ 98.,  96., 102., ...,  98.,  99., 100.],\n",
       "         ...,\n",
       "         [100.,  94.,  96., ..., 119.,  98., 107.],\n",
       "         [ 98.,  95., 102., ..., 103., 106., 107.],\n",
       "         [ 98.,  97.,  98., ..., 104., 114., 106.]],\n",
       "\n",
       "        [[100.,  99.,  99., ..., 102.,  97.,  96.],\n",
       "         [ 99.,  94., 100., ..., 100., 102., 100.],\n",
       "         [ 94.,  96., 101., ...,  97., 103.,  95.],\n",
       "         ...,\n",
       "         [ 97.,  96.,  98., ..., 110., 100., 108.],\n",
       "         [101.,  93., 100., ..., 105., 115., 112.],\n",
       "         [103.,  92.,  96., ..., 107., 103., 106.]]]])"
      ]
     },
     "execution_count": 138,
     "metadata": {},
     "output_type": "execute_result"
    }
   ],
   "source": []
  },
  {
   "cell_type": "code",
   "execution_count": 133,
   "id": "e6a224f6",
   "metadata": {},
   "outputs": [
    {
     "data": {
      "text/plain": [
       "array('D:\\\\zarr_tests\\\\sql_test.sqldb', dtype='<U28')"
      ]
     },
     "execution_count": 133,
     "metadata": {},
     "output_type": "execute_result"
    }
   ],
   "source": [
    "np.array(z)"
   ]
  },
  {
   "cell_type": "code",
   "execution_count": null,
   "id": "82594566",
   "metadata": {},
   "outputs": [],
   "source": []
  },
  {
   "cell_type": "code",
   "execution_count": 17,
   "id": "ed78c407",
   "metadata": {},
   "outputs": [],
   "source": [
    "# from dbm.gnu import open as dbm_open\n",
    "with zarr.DBMStore(fname_out, open=dbm.open) as store:\n",
    "    z = zarr.zeros((10, 10), chunks=(5, 5), store=store, overwrite=True)"
   ]
  },
  {
   "cell_type": "code",
   "execution_count": null,
   "id": "1d9fd20a",
   "metadata": {},
   "outputs": [],
   "source": []
  }
 ],
 "metadata": {
  "kernelspec": {
   "display_name": "Python [conda env:segmentation]",
   "language": "python",
   "name": "conda-env-segmentation-py"
  },
  "language_info": {
   "codemirror_mode": {
    "name": "ipython",
    "version": 3
   },
   "file_extension": ".py",
   "mimetype": "text/x-python",
   "name": "python",
   "nbconvert_exporter": "python",
   "pygments_lexer": "ipython3",
   "version": "3.7.10"
  }
 },
 "nbformat": 4,
 "nbformat_minor": 5
}
