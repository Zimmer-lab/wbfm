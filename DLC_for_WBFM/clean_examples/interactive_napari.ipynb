{
 "cells": [
  {
   "cell_type": "markdown",
   "id": "9556c38b-1b41-40bc-97ef-8523efc3fb43",
   "metadata": {
    "tags": []
   },
   "source": [
    "# First, load the data"
   ]
  },
  {
   "cell_type": "code",
   "execution_count": 6,
   "id": "944597d9-31f9-4056-a5ed-200b18fe6700",
   "metadata": {},
   "outputs": [
    {
     "name": "stdout",
     "output_type": "stream",
     "text": [
      "The autoreload extension is already loaded. To reload it, use:\n",
      "  %reload_ext autoreload\n"
     ]
    }
   ],
   "source": [
    "%load_ext autoreload\n",
    "%autoreload 2\n",
    "import matplotlib.pyplot as plt\n",
    "import os\n",
    "import napari\n",
    "import numpy as np\n",
    "from DLC_for_WBFM.utils.projects.finished_project_data import ProjectData"
   ]
  },
  {
   "cell_type": "code",
   "execution_count": 2,
   "id": "ef1e94ea-221d-484e-ac0f-ea6fb98d0755",
   "metadata": {},
   "outputs": [
    {
     "name": "stdout",
     "output_type": "stream",
     "text": [
      "ConfigFile  : INFO     Set up logger with name: ConfigFile\n"
     ]
    },
    {
     "name": "stderr",
     "output_type": "stream",
     "text": [
      "WARNING:root:Alpha is not set in the yaml; will have to be calculated from data\n"
     ]
    },
    {
     "name": "stdout",
     "output_type": "stream",
     "text": [
      "File for mode automatic exists at precendence: 1/3\n",
      "Read data from: /scratch/neurobiology/zimmer/Charles/dlc_stacks/students/bright_worm7/3-tracking/postprocessing/combined_3d_tracks.h5\n",
      "ConfigFile  : INFO     Starting threads to read data...\n"
     ]
    },
    {
     "name": "stderr",
     "output_type": "stream",
     "text": [
      "WARNING:root:Did not find file /scratch/neurobiology/zimmer/Charles/dlc_stacks/students/bright_worm7/2-training_data/training_data_tracks.pickle\n",
      "WARNING:root:Did not find file /scratch/neurobiology/zimmer/Charles/dlc_stacks/students/bright_worm7/2-training_data/reindexed_masks.zarr\n",
      "WARNING:root:Did not find file /scratch/neurobiology/zimmer/Charles/dlc_stacks/students/bright_worm7/3-tracking/postprocessing/manual_behavior_annotation.xlsx\n"
     ]
    },
    {
     "name": "stdout",
     "output_type": "stream",
     "text": [
      "ConfigFile  : INFO     Read all data from files: ['/scratch/neurobiology/zimmer/Charles/dlc_stacks/students/bright_worm7/3-tracking/postprocessing/combined_3d_tracks.h5', '/scratch/neurobiology/zimmer/ulises/wbfm/20211217/data/worm7/2021-12-17_17-38-56_worm7-channel-0-pco_camera1/2021-12-17_17-38-56_worm7-channel-0-pco_camera1bigtiff.zarr.zip', '/scratch/neurobiology/zimmer/ulises/wbfm/20211217/data/worm7/2021-12-17_17-38-56_worm7-channel-1-pco_camera2/2021-12-17_17-38-56_worm7-channel-1-pco_camera2bigtiff.zarr.zip', '/scratch/neurobiology/zimmer/Charles/dlc_stacks/students/bright_worm7/4-traces/red_traces.h5', '/scratch/neurobiology/zimmer/Charles/dlc_stacks/students/bright_worm7/4-traces/green_traces.h5', '/scratch/neurobiology/zimmer/Charles/dlc_stacks/students/bright_worm7/2-training_data/training_data_tracks.pickle', '/scratch/neurobiology/zimmer/Charles/dlc_stacks/students/bright_worm7/2-training_data/reindexed_masks.zarr', '/scratch/neurobiology/zimmer/Charles/dlc_stacks/students/bright_worm7/1-segmentation/masks.zarr', '/scratch/neurobiology/zimmer/Charles/dlc_stacks/students/bright_worm7/4-traces/reindexed_masks.zarr.zip', '/scratch/neurobiology/zimmer/Charles/dlc_stacks/students/bright_worm7/3-tracking/postprocessing/manual_behavior_annotation.xlsx']\n",
      "ConfigFile  : INFO     =======================================\n",
      "Project data for directory:\n",
      "/scratch/neurobiology/zimmer/Charles/dlc_stacks/students/bright_worm7 \n",
      "Found the following data files:\n",
      "============Raw========================\n",
      "red_data:                 True\n",
      "green_data:               True\n",
      "============Annotations================\n",
      "behavior_annotations:     False\n",
      "============Training================\n",
      "df_training_tracklets:    False\n",
      "============Segmentation===============\n",
      "raw_segmentation:         True\n",
      "colored_segmentation:     True\n",
      "============Traces=====================\n",
      "red_traces:               True\n",
      "green_traces:             True\n",
      "\n"
     ]
    }
   ],
   "source": [
    "folder_name = \"/scratch/neurobiology/zimmer/Charles/dlc_stacks/students\"\n",
    "\n",
    "fname = \"bright_worm7\"\n",
    "project_data = ProjectData.load_final_project_data_from_config(os.path.join(folder_name, fname))"
   ]
  },
  {
   "cell_type": "markdown",
   "id": "09d17366-689a-4faf-b366-04f7663b3d17",
   "metadata": {},
   "source": [
    "# Second, use napari to look at basic data"
   ]
  },
  {
   "cell_type": "markdown",
   "id": "5438f684-f95f-4a6b-a541-6e11a0bcb3d3",
   "metadata": {},
   "source": [
    "## Napari is organized in layers; start with one"
   ]
  },
  {
   "cell_type": "code",
   "execution_count": 22,
   "id": "aff32731-e4ce-4343-9109-5b42e5b69d14",
   "metadata": {},
   "outputs": [
    {
     "data": {
      "text/plain": [
       "<zarr.core.Array (1550, 21, 650, 900) uint8>"
      ]
     },
     "execution_count": 22,
     "metadata": {},
     "output_type": "execute_result"
    }
   ],
   "source": [
    "red_data = project_data.red_data\n",
    "red_data"
   ]
  },
  {
   "cell_type": "code",
   "execution_count": 23,
   "id": "c8a08c2e-0784-485b-b1d3-edc9230d0f0b",
   "metadata": {},
   "outputs": [
    {
     "name": "stderr",
     "output_type": "stream",
     "text": [
      "/home/charles/anaconda3/envs/torch/lib/python3.7/site-packages/napari/plugins/_plugin_manager.py:511: UserWarning: Plugin 'napari-animated-gif-io' has already registered a function widget 'save as animated gif' which has now been overwritten\n",
      "  warn(message=warn_message)\n"
     ]
    },
    {
     "data": {
      "text/plain": [
       "<Image layer 'red_data' at 0x7fbf8daae690>"
      ]
     },
     "execution_count": 23,
     "metadata": {},
     "output_type": "execute_result"
    }
   ],
   "source": [
    "viewer = napari.Viewer(ndisplay=3)\n",
    "viewer.add_image(red_data, colormap='red')"
   ]
  },
  {
   "cell_type": "markdown",
   "id": "f1c4a5ee-ae2c-436f-b7a4-3fc8dfcff431",
   "metadata": {},
   "source": [
    "## Add another layer to an existing viewer"
   ]
  },
  {
   "cell_type": "code",
   "execution_count": 24,
   "id": "a46e9fe4-f3cf-451a-a033-9894aedfeb99",
   "metadata": {},
   "outputs": [
    {
     "data": {
      "text/plain": [
       "<zarr.core.Array (1550, 21, 650, 900) uint8>"
      ]
     },
     "execution_count": 24,
     "metadata": {},
     "output_type": "execute_result"
    }
   ],
   "source": [
    "green_data = project_data.green_data\n",
    "green_data"
   ]
  },
  {
   "cell_type": "code",
   "execution_count": 25,
   "id": "2fd641d1-1928-4cb6-83b4-88852bc5ccda",
   "metadata": {},
   "outputs": [
    {
     "data": {
      "text/plain": [
       "<Image layer 'green_data' at 0x7fbf7cb46d90>"
      ]
     },
     "execution_count": 25,
     "metadata": {},
     "output_type": "execute_result"
    }
   ],
   "source": [
    "viewer.add_image(green_data, colormap='green', opacity=0.5)"
   ]
  },
  {
   "cell_type": "markdown",
   "id": "cec33903-4b8d-4248-980c-611c838c09de",
   "metadata": {},
   "source": [
    "## Add a different type of layer: segmentation"
   ]
  },
  {
   "cell_type": "code",
   "execution_count": 28,
   "id": "27b2de35-aa97-4275-b739-41d9554ce18e",
   "metadata": {},
   "outputs": [
    {
     "data": {
      "text/plain": [
       "<zarr.core.Array (1550, 21, 650, 900) uint16>"
      ]
     },
     "execution_count": 28,
     "metadata": {},
     "output_type": "execute_result"
    }
   ],
   "source": [
    "seg_data = project_data.raw_segmentation\n",
    "seg_data"
   ]
  },
  {
   "cell_type": "code",
   "execution_count": 27,
   "id": "d0579481-c41f-48d6-b14c-8a5960c94624",
   "metadata": {},
   "outputs": [
    {
     "data": {
      "text/plain": [
       "<Labels layer 'seg_data' at 0x7fbf7cba7a50>"
      ]
     },
     "execution_count": 27,
     "metadata": {},
     "output_type": "execute_result"
    }
   ],
   "source": [
    "viewer.add_labels(seg_data)"
   ]
  },
  {
   "cell_type": "markdown",
   "id": "1a0d8995-ea62-44e1-a708-9861afd8ee27",
   "metadata": {},
   "source": [
    "## Napari has many additional layers as well:\n",
    "\n",
    "https://napari.org/howtos/layers/index.html"
   ]
  },
  {
   "cell_type": "markdown",
   "id": "c646033b-965a-4dda-863c-198c6812f523",
   "metadata": {},
   "source": [
    "# Third, add interactivity to napari\n",
    "\n",
    "Using this library: https://napari.org/magicgui/examples/napari/napari_img_math.html"
   ]
  },
  {
   "cell_type": "code",
   "execution_count": 29,
   "id": "b6a5c189-f892-4266-be4e-bd5d62936a27",
   "metadata": {},
   "outputs": [],
   "source": [
    "from magicgui import magicgui"
   ]
  },
  {
   "cell_type": "markdown",
   "id": "36ee7569-eb07-41bb-bdc1-ac9a129d743b",
   "metadata": {},
   "source": [
    "## Add a changing layer"
   ]
  },
  {
   "cell_type": "code",
   "execution_count": 31,
   "id": "51c8e16f-131f-443b-ab61-18aeba556028",
   "metadata": {},
   "outputs": [
    {
     "name": "stderr",
     "output_type": "stream",
     "text": [
      "/home/charles/anaconda3/envs/torch/lib/python3.7/site-packages/napari/plugins/_plugin_manager.py:511: UserWarning: Plugin 'napari-animated-gif-io' has already registered a function widget 'save as animated gif' which has now been overwritten\n",
      "  warn(message=warn_message)\n"
     ]
    },
    {
     "data": {
      "text/plain": [
       "<napari._qt.widgets.qt_viewer_dock_widget.QtViewerDockWidget at 0x7fbee85baf50>"
      ]
     },
     "execution_count": 31,
     "metadata": {},
     "output_type": "execute_result"
    }
   ],
   "source": [
    "@magicgui(call_button=\"Change time point\")\n",
    "def display_target_volume(viewer: napari.Viewer, t=34):\n",
    "    \"\"\"Updates the data of a specific layer\"\"\"\n",
    "    target_volume = project_data.red_data[t]\n",
    "    viewer.layers['Target Volume'].data = target_volume\n",
    "    \n",
    "# create a viewer and add the data\n",
    "viewer = napari.Viewer(ndisplay=3)\n",
    "\n",
    "red_data = project_data.red_data\n",
    "viewer.add_image(red_data, colormap='red')\n",
    "\n",
    "# Initialize the changing layer\n",
    "viewer.add_image(red_data[34], name=\"Target Volume\", colormap=\"PiYG\", opacity=0.3)\n",
    "\n",
    "# add our new magicgui widget to the viewer\n",
    "viewer.window.add_dock_widget(display_target_volume)"
   ]
  },
  {
   "cell_type": "markdown",
   "id": "c638c7d0-a2b1-430f-bb80-232bee4ccbff",
   "metadata": {},
   "source": [
    "## Calculate something using a user-defined layer"
   ]
  },
  {
   "cell_type": "code",
   "execution_count": 43,
   "id": "1cbdf474-4757-4615-9fb7-410dff6559c8",
   "metadata": {},
   "outputs": [
    {
     "data": {
      "text/plain": [
       "<napari._qt.widgets.qt_viewer_dock_widget.QtViewerDockWidget at 0x7fbdf2fe64b0>"
      ]
     },
     "execution_count": 43,
     "metadata": {},
     "output_type": "execute_result"
    },
    {
     "name": "stdout",
     "output_type": "stream",
     "text": [
      "(650, 900)\n",
      "(650, 900)\n",
      "Value under the ROI: 9404\n",
      "(650, 900)\n",
      "(650, 900)\n",
      "Value under the ROI: 9404\n",
      "(650, 900)\n",
      "(650, 900)\n",
      "Value under the ROI: 9404\n",
      "(650, 900)\n",
      "(650, 900)\n",
      "Value under the ROI: 14642\n",
      "(650, 900)\n",
      "(650, 900)\n",
      "Value under the ROI: 253043\n"
     ]
    }
   ],
   "source": [
    "@magicgui(call_button=\"Sum ROI\")\n",
    "def sum_under_roi(viewer: napari.Viewer):\n",
    "    \"\"\"Sums values beneath a user-added layer\"\"\"\n",
    "    mask_layer = viewer.layers['Shapes']\n",
    "    masks = mask_layer.to_labels(red_data[0,0,...].shape)\n",
    "    # print(masks)\n",
    "    # dat = \n",
    "    # Get current values\n",
    "    t, z, x, y = viewer.dims.current_step\n",
    "    # Get just this slice\n",
    "    current_dat = viewer.layers['red_data'].data[t, z, ...]\n",
    "    \n",
    "    print(current_dat.shape)\n",
    "    print(masks.shape)\n",
    "    summed_roi = np.sum(current_dat[masks==1])\n",
    "    \n",
    "    print(f\"Value under the ROI: {summed_roi}\")\n",
    "\n",
    "# add our new magicgui widget to the viewer\n",
    "viewer.window.add_dock_widget(sum_under_roi)"
   ]
  },
  {
   "cell_type": "code",
   "execution_count": 39,
   "id": "76f02c42-6bc8-47c6-bfe8-c8b816a71b08",
   "metadata": {},
   "outputs": [
    {
     "data": {
      "text/plain": [
       "(33, 10, 325, 450)"
      ]
     },
     "execution_count": 39,
     "metadata": {},
     "output_type": "execute_result"
    }
   ],
   "source": [
    "viewer.dims.current_step"
   ]
  },
  {
   "cell_type": "code",
   "execution_count": null,
   "id": "0ecdf897-b18a-486b-bd58-0aef4830fa28",
   "metadata": {},
   "outputs": [],
   "source": []
  }
 ],
 "metadata": {
  "kernelspec": {
   "display_name": "Python 3 (ipykernel)",
   "language": "python",
   "name": "python3"
  },
  "language_info": {
   "codemirror_mode": {
    "name": "ipython",
    "version": 3
   },
   "file_extension": ".py",
   "mimetype": "text/x-python",
   "name": "python",
   "nbconvert_exporter": "python",
   "pygments_lexer": "ipython3",
   "version": "3.7.12"
  }
 },
 "nbformat": 4,
 "nbformat_minor": 5
}
