{
 "cells": [
  {
   "cell_type": "markdown",
   "id": "4216ea42-fbfd-4d73-b06c-329ba6efd606",
   "metadata": {},
   "source": [
    "# Combine DLC positions with my tracklets to impute missing values"
   ]
  },
  {
   "cell_type": "code",
   "execution_count": 1,
   "id": "66e005ec-fd1e-4715-8586-55ef22bcbd38",
   "metadata": {},
   "outputs": [
    {
     "name": "stderr",
     "output_type": "stream",
     "text": [
      "In C:\\Users\\charles.fieseler\\Anaconda3\\envs\\DLC-for-WBFM\\lib\\site-packages\\matplotlib\\mpl-data\\stylelib\\_classic_test.mplstyle: \n",
      "The text.latex.preview rcparam was deprecated in Matplotlib 3.3 and will be removed two minor releases later.\n",
      "In C:\\Users\\charles.fieseler\\Anaconda3\\envs\\DLC-for-WBFM\\lib\\site-packages\\matplotlib\\mpl-data\\stylelib\\_classic_test.mplstyle: \n",
      "The mathtext.fallback_to_cm rcparam was deprecated in Matplotlib 3.3 and will be removed two minor releases later.\n",
      "In C:\\Users\\charles.fieseler\\Anaconda3\\envs\\DLC-for-WBFM\\lib\\site-packages\\matplotlib\\mpl-data\\stylelib\\_classic_test.mplstyle: Support for setting the 'mathtext.fallback_to_cm' rcParam is deprecated since 3.3 and will be removed two minor releases later; use 'mathtext.fallback : 'cm' instead.\n",
      "In C:\\Users\\charles.fieseler\\Anaconda3\\envs\\DLC-for-WBFM\\lib\\site-packages\\matplotlib\\mpl-data\\stylelib\\_classic_test.mplstyle: \n",
      "The validate_bool_maybe_none function was deprecated in Matplotlib 3.3 and will be removed two minor releases later.\n",
      "In C:\\Users\\charles.fieseler\\Anaconda3\\envs\\DLC-for-WBFM\\lib\\site-packages\\matplotlib\\mpl-data\\stylelib\\_classic_test.mplstyle: \n",
      "The savefig.jpeg_quality rcparam was deprecated in Matplotlib 3.3 and will be removed two minor releases later.\n",
      "In C:\\Users\\charles.fieseler\\Anaconda3\\envs\\DLC-for-WBFM\\lib\\site-packages\\matplotlib\\mpl-data\\stylelib\\_classic_test.mplstyle: \n",
      "The keymap.all_axes rcparam was deprecated in Matplotlib 3.3 and will be removed two minor releases later.\n",
      "In C:\\Users\\charles.fieseler\\Anaconda3\\envs\\DLC-for-WBFM\\lib\\site-packages\\matplotlib\\mpl-data\\stylelib\\_classic_test.mplstyle: \n",
      "The animation.avconv_path rcparam was deprecated in Matplotlib 3.3 and will be removed two minor releases later.\n",
      "In C:\\Users\\charles.fieseler\\Anaconda3\\envs\\DLC-for-WBFM\\lib\\site-packages\\matplotlib\\mpl-data\\stylelib\\_classic_test.mplstyle: \n",
      "The animation.avconv_args rcparam was deprecated in Matplotlib 3.3 and will be removed two minor releases later.\n"
     ]
    }
   ],
   "source": [
    "%load_ext autoreload\n",
    "%autoreload 2\n",
    "\n",
    "from DLC_for_WBFM.utils.projects.utils_project import load_config, safe_cd\n",
    "from pathlib import Path\n",
    "import zarr\n",
    "import os\n",
    "import pandas as pd\n",
    "import numpy as np\n",
    "import napari\n",
    "from DLC_for_WBFM.utils.visualization.napari_from_config import dlc_to_napari_tracks\n",
    "from scipy.spatial import distance\n",
    "import matplotlib.pyplot as plt\n",
    "from tqdm.auto import tqdm"
   ]
  },
  {
   "cell_type": "code",
   "execution_count": 2,
   "id": "3f55cf45-2a2a-4ce7-8e7d-cfdc133348b8",
   "metadata": {},
   "outputs": [],
   "source": [
    "# project_fname = r\"Y:\\shared_projects\\wbfm\\dlc_stacks\\Charlie-worm3-new-seg\\project_config.yaml\"\n",
    "project_fname = r\"C:\\dlc_stacks\\Charlie-worm3-new-seg\\project_config.yaml\"\n",
    "project_cfg = load_config(project_fname)\n",
    "segment_fname = project_cfg['subfolder_configs']['segmentation']\n",
    "project_dir = Path(project_fname).parent\n",
    "\n",
    "tracklet_fname = os.path.join('2-training_data', 'all_tracklets.h5')\n",
    "dlc_fname = os.path.join('3-tracking', 'full_3d_tracks.h5')\n",
    "\n",
    "with safe_cd(project_dir):\n",
    "    segment_cfg = load_config(segment_fname)\n",
    "    df_tracklet = pd.read_hdf(tracklet_fname)\n",
    "    dlc_tracks = pd.read_hdf(dlc_fname)"
   ]
  },
  {
   "cell_type": "code",
   "execution_count": 3,
   "id": "37941e81-d1dc-4870-bf7e-921a3c48bc05",
   "metadata": {},
   "outputs": [],
   "source": [
    "dlc_tracks.replace(0, np.NaN, inplace=True)"
   ]
  },
  {
   "cell_type": "code",
   "execution_count": 4,
   "id": "c67dd3b4-25ab-4b2e-816a-73a14f94617b",
   "metadata": {},
   "outputs": [],
   "source": [
    "red_data_fname = project_cfg['preprocessed_red']\n",
    "red_data = zarr.open(red_data_fname)"
   ]
  },
  {
   "cell_type": "code",
   "execution_count": 5,
   "id": "d765b0a3-1de4-44af-b965-55dc34fa9995",
   "metadata": {},
   "outputs": [],
   "source": [
    "napari_tracklets = dlc_to_napari_tracks(df_tracklet, 0.0)"
   ]
  },
  {
   "cell_type": "code",
   "execution_count": 7,
   "id": "ade42698-d3c6-4701-a342-7fb5d2269495",
   "metadata": {},
   "outputs": [
    {
     "data": {
      "text/plain": [
       "<Tracks layer 'napari_tracklets' at 0x161737e2dc8>"
      ]
     },
     "execution_count": 7,
     "metadata": {},
     "output_type": "execute_result"
    },
    {
     "name": "stderr",
     "output_type": "stream",
     "text": [
      "Unable to load numpy_formathandler accelerator from OpenGL_accelerate\n"
     ]
    }
   ],
   "source": [
    "# Visualize everything\n",
    "viewer = napari.view_image(red_data)\n",
    "viewer.add_tracks(napari_tracklets)"
   ]
  },
  {
   "cell_type": "code",
   "execution_count": 6,
   "id": "2ee048af-8e76-491e-8d26-b85e0ad9fe1b",
   "metadata": {},
   "outputs": [],
   "source": [
    "# For one DLC track, look at the distribution of tracklet distances\n",
    "def calc_dlc_to_tracklet_distances(dlc_tracks, df_tracklet, dlc_name, all_covering_ind, min_overlap=5, min_dlc_confidence=0.6):\n",
    "    \"\"\"For one DLC neuron, calculate distances between that track and all tracklets\"\"\"\n",
    "    coords = ['z', 'x', 'y']\n",
    "\n",
    "    this_dlc = dlc_tracks[dlc_name][coords]\n",
    "    # Remove low confidence points\n",
    "#     low_conf = this_dlc['likelihood'] < min_dlc_confidence\n",
    "#     this_dlc.loc['x', low_conf].replace()\n",
    "\n",
    "    all_tracklet_names = list(df_tracklet.columns.levels[0])\n",
    "    all_dist = []\n",
    "    for i, name in enumerate(tqdm(all_tracklet_names, leave=False)):\n",
    "        # Check for already belonging to another track\n",
    "        if i not in all_covering_ind:\n",
    "            this_diff = df_tracklet[name][coords] - this_dlc\n",
    "            \n",
    "            # Check for enough common data points\n",
    "            num_common_pts = this_diff['x'].notnull().sum()\n",
    "            if num_common_pts >= min_overlap:\n",
    "                dist = np.linalg.norm(this_diff, axis=1)\n",
    "            else:\n",
    "                dist = np.inf\n",
    "        else:\n",
    "            dist = np.inf\n",
    "        \n",
    "        all_dist.append(dist)\n",
    "    \n",
    "    return all_dist\n",
    "\n",
    "\n",
    "def calc_covering_from_distances(all_dist, df_tracklet, all_covering_ind, d_max=5):\n",
    "    \"\"\"Given distances between a dlc track and all tracklets, make a time-unique covering from the tracklets\"\"\"\n",
    "    all_meds = list(map(np.nanmedian, all_dist))\n",
    "    ind = np.argsort(all_meds)\n",
    "    all_tracklet_names = list(df_tracklet.columns.levels[0])\n",
    "\n",
    "    covering_ind = []\n",
    "    covering_time_points = []\n",
    "    t = df_tracklet.index\n",
    "    these_dist = np.zeros_like(t, dtype=float)\n",
    "    \n",
    "    for i in ind:\n",
    "        # Check if this was used before\n",
    "        for old_coverings in all_covering_ind:\n",
    "            if i in old_coverings:\n",
    "                continue\n",
    "        # Check distance\n",
    "        if all_meds[i] > d_max:\n",
    "            break\n",
    "        # Check time overlap\n",
    "        name = all_tracklet_names[i]\n",
    "        is_nan = df_tracklet[name]['x'].isnull()\n",
    "        new_t = list(t[~is_nan])\n",
    "        if any([t in covering_time_points for t in new_t]):\n",
    "            continue\n",
    "\n",
    "        # Save\n",
    "        new_t = np.array(new_t)\n",
    "        covering_time_points.extend(new_t)\n",
    "        covering_ind.append(i)\n",
    "        these_dist[new_t] = all_dist[i][new_t]\n",
    "#         these_dist.append(all_dist[i])\n",
    "    print(f\"Covering of length {len(covering_time_points)} made from {len(covering_ind)} tracklets\")\n",
    "        \n",
    "    return covering_time_points, covering_ind, these_dist"
   ]
  },
  {
   "cell_type": "code",
   "execution_count": 7,
   "id": "c8369f50-cfd3-4e8d-8ddf-f1c2635c6c9e",
   "metadata": {
    "tags": []
   },
   "outputs": [
    {
     "data": {
      "application/vnd.jupyter.widget-view+json": {
       "model_id": "450eb3a749aa471a9769de99f41eade7",
       "version_major": 2,
       "version_minor": 0
      },
      "text/plain": [
       "  0%|          | 0/74 [00:00<?, ?it/s]"
      ]
     },
     "metadata": {},
     "output_type": "display_data"
    },
    {
     "data": {
      "application/vnd.jupyter.widget-view+json": {
       "model_id": "",
       "version_major": 2,
       "version_minor": 0
      },
      "text/plain": [
       "  0%|          | 0/5550 [00:00<?, ?it/s]"
      ]
     },
     "metadata": {},
     "output_type": "display_data"
    },
    {
     "name": "stdout",
     "output_type": "stream",
     "text": [
      "Covering of length 785 made from 8 tracklets\n"
     ]
    }
   ],
   "source": [
    "all_dlc_names = list(dlc_tracks.columns.levels[0])\n",
    "dlc_name = all_dlc_names[0]\n",
    "\n",
    "all_covering_dist = []\n",
    "all_covering_time_points = []\n",
    "all_covering_ind = []\n",
    "for dlc_name in tqdm(all_dlc_names):\n",
    "    dist = calc_dlc_to_tracklet_distances(dlc_tracks, df_tracklet, dlc_name, all_covering_ind)\n",
    "    covering_time_points, covering_ind, these_dist = calc_covering_from_distances(dist, df_tracklet, all_covering_ind, d_max=5)\n",
    "    \n",
    "    all_covering_dist.append(these_dist)\n",
    "    all_covering_time_points.append(covering_time_points)\n",
    "    all_covering_ind.append(covering_ind)\n",
    "    break"
   ]
  },
  {
   "cell_type": "code",
   "execution_count": 72,
   "id": "63ecda03-4a53-4066-9830-db76b9f29f2b",
   "metadata": {},
   "outputs": [],
   "source": [
    "# Distances\n",
    "# %matplotlib widget\n",
    "# plt.plot(all_covering_dist[0])\n",
    "# np.min(all_covering_dist[0])"
   ]
  },
  {
   "cell_type": "code",
   "execution_count": 8,
   "id": "a4acc549-6630-4869-aefa-e60abb56d8f6",
   "metadata": {},
   "outputs": [],
   "source": [
    "# Visualize coverings DLC + tracklets\n",
    "i = 0\n",
    "t_tracklet_covering = all_covering_time_points[i]\n",
    "# ind_covering = all_covering_ind[i]\n",
    "df_dlc = dlc_tracks[all_dlc_names[i]]\n",
    "is_nan = df_dlc['x'].isnull()\n",
    "t = df_dlc.index\n",
    "t_dlc_covering = list(t[~is_nan])\n",
    "\n",
    "# Process into: both, one, or neither\n",
    "t_both = []\n",
    "t_tracklet_only = []\n",
    "t_dlc_only = []\n",
    "t_gap = []\n",
    "set_dlc, set_tracklet = set(t_dlc_covering), set(t_tracklet_covering)\n",
    "\n",
    "for i in t:\n",
    "    in_dlc = i in set_dlc\n",
    "    in_tracklet = i in set_tracklet\n",
    "    if in_dlc and in_tracklet:\n",
    "        t_both.append(i)\n",
    "    elif in_dlc:\n",
    "        t_dlc_only.append(i)\n",
    "    elif in_tracklet:\n",
    "        t_tracklet_only.append(i)\n",
    "    else:\n",
    "        t_gap.append(i)\n",
    "        "
   ]
  },
  {
   "cell_type": "code",
   "execution_count": 30,
   "id": "7710bf33-6547-44d2-addd-8dc9e30907de",
   "metadata": {
    "tags": []
   },
   "outputs": [],
   "source": [
    "# %matplotlib widget\n",
    "# plt.plot(t_both, 1.3*np.ones_like(t_both), 'o', label=f'Covered by both: {len(t_both)}')\n",
    "# plt.plot(t_dlc_only, 1.2*np.ones_like(t_dlc_only), 'o', label=f'Points covered by only DLC: {len(t_dlc_only)}')\n",
    "# plt.plot(t_tracklet_only, 1.1*np.ones_like(t_tracklet_only), 'o', label=f'Points covered by only tracklets: {len(t_tracklet_only)}')\n",
    "# plt.plot(t_gap, np.ones_like(t_gap), 'o', label=f'Gaps: {len(t_gap)}')\n",
    "# plt.legend()"
   ]
  },
  {
   "cell_type": "code",
   "execution_count": 29,
   "id": "bdba3410-fe50-4b6d-9bc0-0cc552272ec7",
   "metadata": {
    "tags": []
   },
   "outputs": [],
   "source": [
    "# %matplotlib widget\n",
    "# plt.scatter(t_both, 1.3*np.ones_like(t_both), label=f'Covered by both: {len(t_both)}')\n",
    "# plt.scatter(t_dlc_only, 1.2*np.ones_like(t_dlc_only), label=f'Points covered by only DLC: {len(t_dlc_only)}')\n",
    "# plt.scatter(t_tracklet_only, 1.1*np.ones_like(t_tracklet_only), label=f'Points covered by only tracklets: {len(t_tracklet_only)}')\n",
    "# plt.scatter(t_gap, np.ones_like(t_gap), label=f'Gaps: {len(t_gap)}')\n",
    "# plt.legend()"
   ]
  },
  {
   "cell_type": "code",
   "execution_count": 26,
   "id": "62451d42-be64-4365-9cb9-9d1b7f81d804",
   "metadata": {},
   "outputs": [],
   "source": [
    "these_tracklets = all_covering_ind[0]\n",
    "tracklet_names = (df_tracklet.columns.levels[0])\n",
    "these_tracklet_names = [tracklet_names[i] for i in these_tracklets]\n",
    "\n",
    "# Combine tracklets\n",
    "new_df = df_tracklet[these_tracklet_names]\n",
    "coords = ['z', 'x', 'y']\n",
    "all_arrs = []\n",
    "for c in coords:\n",
    "    all_arrs.append(np.nansum([new_df[name][c] for name in these_tracklet_names], axis=0))\n",
    "summed_tracklet_array = np.stack(all_arrs, axis=1)\n",
    "\n",
    "# Morph to DLC format\n",
    "cols = [[dlc_tracks.columns.levels[0][0]], coords]\n",
    "cols = pd.MultiIndex.from_product(cols)\n",
    "summed_tracklet_df = pd.DataFrame(data=summed_tracklet_array, columns=cols)\n",
    "\n",
    "# Then cast as napari format\n",
    "napari_new_tracklets = dlc_to_napari_tracks(summed_tracklet_df, 0.0)\n",
    "\n",
    "# ALso get original DLC tracks\n",
    "dlc_name = all_dlc_names[0]\n",
    "napari_dlc_tracks = dlc_to_napari_tracks(dlc_tracks[[dlc_name]], 0.0)"
   ]
  },
  {
   "cell_type": "code",
   "execution_count": 27,
   "id": "5919ac2e-0f80-4420-a66f-914ac537fcf6",
   "metadata": {},
   "outputs": [
    {
     "data": {
      "text/plain": [
       "<Tracks layer 'napari_dlc_tracks' at 0x2200a5c8848>"
      ]
     },
     "execution_count": 27,
     "metadata": {},
     "output_type": "execute_result"
    }
   ],
   "source": [
    "# Visualize both tracklets on the data\n",
    "\n",
    "viewer = napari.view_image(red_data)\n",
    "viewer.add_tracks(napari_new_tracklets)\n",
    "viewer.add_tracks(napari_dlc_tracks)"
   ]
  },
  {
   "cell_type": "code",
   "execution_count": 28,
   "id": "5551658a-ddb2-48fd-b4ad-c88833533d8a",
   "metadata": {},
   "outputs": [
    {
     "data": {
      "text/html": [
       "<div>\n",
       "<style scoped>\n",
       "    .dataframe tbody tr th:only-of-type {\n",
       "        vertical-align: middle;\n",
       "    }\n",
       "\n",
       "    .dataframe tbody tr th {\n",
       "        vertical-align: top;\n",
       "    }\n",
       "\n",
       "    .dataframe thead tr th {\n",
       "        text-align: left;\n",
       "    }\n",
       "</style>\n",
       "<table border=\"1\" class=\"dataframe\">\n",
       "  <thead>\n",
       "    <tr>\n",
       "      <th></th>\n",
       "      <th colspan=\"3\" halign=\"left\">neuron1550</th>\n",
       "    </tr>\n",
       "    <tr>\n",
       "      <th></th>\n",
       "      <th>z</th>\n",
       "      <th>x</th>\n",
       "      <th>y</th>\n",
       "    </tr>\n",
       "  </thead>\n",
       "  <tbody>\n",
       "    <tr>\n",
       "      <th>0</th>\n",
       "      <td>8.446753</td>\n",
       "      <td>498.350649</td>\n",
       "      <td>275.957143</td>\n",
       "    </tr>\n",
       "    <tr>\n",
       "      <th>1</th>\n",
       "      <td>8.444737</td>\n",
       "      <td>484.360526</td>\n",
       "      <td>289.947368</td>\n",
       "    </tr>\n",
       "    <tr>\n",
       "      <th>2</th>\n",
       "      <td>6.431944</td>\n",
       "      <td>480.381944</td>\n",
       "      <td>283.933333</td>\n",
       "    </tr>\n",
       "    <tr>\n",
       "      <th>3</th>\n",
       "      <td>8.410738</td>\n",
       "      <td>472.357047</td>\n",
       "      <td>267.971812</td>\n",
       "    </tr>\n",
       "    <tr>\n",
       "      <th>4</th>\n",
       "      <td>8.450135</td>\n",
       "      <td>486.397574</td>\n",
       "      <td>247.900270</td>\n",
       "    </tr>\n",
       "    <tr>\n",
       "      <th>...</th>\n",
       "      <td>...</td>\n",
       "      <td>...</td>\n",
       "      <td>...</td>\n",
       "    </tr>\n",
       "    <tr>\n",
       "      <th>1493</th>\n",
       "      <td>0.000000</td>\n",
       "      <td>0.000000</td>\n",
       "      <td>0.000000</td>\n",
       "    </tr>\n",
       "    <tr>\n",
       "      <th>1494</th>\n",
       "      <td>0.000000</td>\n",
       "      <td>0.000000</td>\n",
       "      <td>0.000000</td>\n",
       "    </tr>\n",
       "    <tr>\n",
       "      <th>1495</th>\n",
       "      <td>0.000000</td>\n",
       "      <td>0.000000</td>\n",
       "      <td>0.000000</td>\n",
       "    </tr>\n",
       "    <tr>\n",
       "      <th>1496</th>\n",
       "      <td>0.000000</td>\n",
       "      <td>0.000000</td>\n",
       "      <td>0.000000</td>\n",
       "    </tr>\n",
       "    <tr>\n",
       "      <th>1497</th>\n",
       "      <td>0.000000</td>\n",
       "      <td>0.000000</td>\n",
       "      <td>0.000000</td>\n",
       "    </tr>\n",
       "  </tbody>\n",
       "</table>\n",
       "<p>1498 rows × 3 columns</p>\n",
       "</div>"
      ],
      "text/plain": [
       "     neuron1550                        \n",
       "              z           x           y\n",
       "0      8.446753  498.350649  275.957143\n",
       "1      8.444737  484.360526  289.947368\n",
       "2      6.431944  480.381944  283.933333\n",
       "3      8.410738  472.357047  267.971812\n",
       "4      8.450135  486.397574  247.900270\n",
       "...         ...         ...         ...\n",
       "1493   0.000000    0.000000    0.000000\n",
       "1494   0.000000    0.000000    0.000000\n",
       "1495   0.000000    0.000000    0.000000\n",
       "1496   0.000000    0.000000    0.000000\n",
       "1497   0.000000    0.000000    0.000000\n",
       "\n",
       "[1498 rows x 3 columns]"
      ]
     },
     "execution_count": 28,
     "metadata": {},
     "output_type": "execute_result"
    }
   ],
   "source": [
    "summed_tracklet_df"
   ]
  },
  {
   "cell_type": "code",
   "execution_count": null,
   "id": "08ace8c0-5d2a-43d8-b2da-9db3cf41dc5a",
   "metadata": {},
   "outputs": [],
   "source": []
  },
  {
   "cell_type": "code",
   "execution_count": null,
   "id": "7f0ca7ba-db3a-402a-b493-f77775bd37a6",
   "metadata": {},
   "outputs": [],
   "source": []
  },
  {
   "cell_type": "code",
   "execution_count": null,
   "id": "35916d58-80b7-40f8-85b6-88e903048083",
   "metadata": {},
   "outputs": [],
   "source": []
  },
  {
   "cell_type": "code",
   "execution_count": null,
   "id": "725d96be-437c-4618-b7a5-ead9cc29f847",
   "metadata": {},
   "outputs": [],
   "source": []
  },
  {
   "cell_type": "code",
   "execution_count": null,
   "id": "6a00b2f4-5401-4603-9798-3626e494157c",
   "metadata": {},
   "outputs": [],
   "source": []
  },
  {
   "cell_type": "code",
   "execution_count": null,
   "id": "8bf53cae-356e-4c26-88fc-521225db5c2e",
   "metadata": {},
   "outputs": [],
   "source": []
  },
  {
   "cell_type": "code",
   "execution_count": null,
   "id": "a26d6791-0b88-4b10-8312-dc603febc662",
   "metadata": {},
   "outputs": [],
   "source": []
  },
  {
   "cell_type": "code",
   "execution_count": null,
   "id": "4ca56158-e9bb-441c-a23c-df9799e011e5",
   "metadata": {},
   "outputs": [],
   "source": []
  },
  {
   "cell_type": "code",
   "execution_count": null,
   "id": "d80ac8b3-d1b2-4c94-92df-952daa633e9e",
   "metadata": {},
   "outputs": [],
   "source": []
  },
  {
   "cell_type": "code",
   "execution_count": 104,
   "id": "69b82499-7d3c-449b-b6e9-dba682340356",
   "metadata": {},
   "outputs": [],
   "source": [
    "# %matplotlib widget\n",
    "# # # from ipywidgets import interact\n",
    "# best_tracklets = np.argpartition(all_means, 10)[:10]\n",
    "# print(best_tracklets)\n",
    "# plt.hist([all_means[i] for i in best_tracklets])"
   ]
  },
  {
   "cell_type": "code",
   "execution_count": 64,
   "id": "6952021c-d566-4f80-b70c-ea197fc7f7df",
   "metadata": {},
   "outputs": [
    {
     "data": {
      "text/plain": [
       "array([1.1, 0.8, 3.2, 2. , 1.2, 2.4, 0.6, 2.8, 1.7, 1.2, 0.8, 0.9, 2.9,\n",
       "       0.6, 2.2, 3.7, 0.6, 0.6, 1.6, 2.2])"
      ]
     },
     "execution_count": 64,
     "metadata": {},
     "output_type": "execute_result"
    }
   ],
   "source": [
    "d = all_dist[0]\n",
    "np.round(d[~np.isnan(d)], 1)"
   ]
  },
  {
   "cell_type": "code",
   "execution_count": 67,
   "id": "6510d5c5-977b-4f8a-8452-93da2bb3bbcb",
   "metadata": {},
   "outputs": [
    {
     "data": {
      "text/html": [
       "<div>\n",
       "<style scoped>\n",
       "    .dataframe tbody tr th:only-of-type {\n",
       "        vertical-align: middle;\n",
       "    }\n",
       "\n",
       "    .dataframe tbody tr th {\n",
       "        vertical-align: top;\n",
       "    }\n",
       "\n",
       "    .dataframe thead th {\n",
       "        text-align: right;\n",
       "    }\n",
       "</style>\n",
       "<table border=\"1\" class=\"dataframe\">\n",
       "  <thead>\n",
       "    <tr style=\"text-align: right;\">\n",
       "      <th>coords</th>\n",
       "      <th>z</th>\n",
       "      <th>x</th>\n",
       "      <th>y</th>\n",
       "    </tr>\n",
       "  </thead>\n",
       "  <tbody>\n",
       "    <tr>\n",
       "      <th>1</th>\n",
       "      <td>8.444737</td>\n",
       "      <td>484.360526</td>\n",
       "      <td>289.947368</td>\n",
       "    </tr>\n",
       "    <tr>\n",
       "      <th>2</th>\n",
       "      <td>6.431944</td>\n",
       "      <td>480.381944</td>\n",
       "      <td>283.933333</td>\n",
       "    </tr>\n",
       "    <tr>\n",
       "      <th>3</th>\n",
       "      <td>8.410738</td>\n",
       "      <td>472.357047</td>\n",
       "      <td>267.971812</td>\n",
       "    </tr>\n",
       "    <tr>\n",
       "      <th>4</th>\n",
       "      <td>8.450135</td>\n",
       "      <td>486.397574</td>\n",
       "      <td>247.900270</td>\n",
       "    </tr>\n",
       "    <tr>\n",
       "      <th>5</th>\n",
       "      <td>8.447958</td>\n",
       "      <td>490.371542</td>\n",
       "      <td>235.891963</td>\n",
       "    </tr>\n",
       "    <tr>\n",
       "      <th>6</th>\n",
       "      <td>10.436702</td>\n",
       "      <td>480.283391</td>\n",
       "      <td>217.919861</td>\n",
       "    </tr>\n",
       "    <tr>\n",
       "      <th>7</th>\n",
       "      <td>8.451697</td>\n",
       "      <td>452.390339</td>\n",
       "      <td>199.921671</td>\n",
       "    </tr>\n",
       "    <tr>\n",
       "      <th>8</th>\n",
       "      <td>8.459060</td>\n",
       "      <td>446.424161</td>\n",
       "      <td>187.893960</td>\n",
       "    </tr>\n",
       "    <tr>\n",
       "      <th>9</th>\n",
       "      <td>8.443312</td>\n",
       "      <td>432.313376</td>\n",
       "      <td>177.970701</td>\n",
       "    </tr>\n",
       "    <tr>\n",
       "      <th>10</th>\n",
       "      <td>8.426020</td>\n",
       "      <td>406.274235</td>\n",
       "      <td>177.982143</td>\n",
       "    </tr>\n",
       "    <tr>\n",
       "      <th>11</th>\n",
       "      <td>8.411458</td>\n",
       "      <td>380.348958</td>\n",
       "      <td>185.941406</td>\n",
       "    </tr>\n",
       "    <tr>\n",
       "      <th>12</th>\n",
       "      <td>8.357895</td>\n",
       "      <td>380.238158</td>\n",
       "      <td>201.986842</td>\n",
       "    </tr>\n",
       "    <tr>\n",
       "      <th>13</th>\n",
       "      <td>8.427491</td>\n",
       "      <td>384.307692</td>\n",
       "      <td>197.974779</td>\n",
       "    </tr>\n",
       "    <tr>\n",
       "      <th>14</th>\n",
       "      <td>6.454294</td>\n",
       "      <td>414.362881</td>\n",
       "      <td>187.889197</td>\n",
       "    </tr>\n",
       "    <tr>\n",
       "      <th>15</th>\n",
       "      <td>6.441261</td>\n",
       "      <td>432.338109</td>\n",
       "      <td>187.925501</td>\n",
       "    </tr>\n",
       "    <tr>\n",
       "      <th>16</th>\n",
       "      <td>8.419562</td>\n",
       "      <td>468.326898</td>\n",
       "      <td>203.993565</td>\n",
       "    </tr>\n",
       "    <tr>\n",
       "      <th>17</th>\n",
       "      <td>8.425157</td>\n",
       "      <td>488.313208</td>\n",
       "      <td>235.964780</td>\n",
       "    </tr>\n",
       "    <tr>\n",
       "      <th>18</th>\n",
       "      <td>8.436658</td>\n",
       "      <td>496.361186</td>\n",
       "      <td>265.955526</td>\n",
       "    </tr>\n",
       "    <tr>\n",
       "      <th>19</th>\n",
       "      <td>6.445698</td>\n",
       "      <td>490.369535</td>\n",
       "      <td>285.916784</td>\n",
       "    </tr>\n",
       "  </tbody>\n",
       "</table>\n",
       "</div>"
      ],
      "text/plain": [
       "coords          z           x           y\n",
       "1        8.444737  484.360526  289.947368\n",
       "2        6.431944  480.381944  283.933333\n",
       "3        8.410738  472.357047  267.971812\n",
       "4        8.450135  486.397574  247.900270\n",
       "5        8.447958  490.371542  235.891963\n",
       "6       10.436702  480.283391  217.919861\n",
       "7        8.451697  452.390339  199.921671\n",
       "8        8.459060  446.424161  187.893960\n",
       "9        8.443312  432.313376  177.970701\n",
       "10       8.426020  406.274235  177.982143\n",
       "11       8.411458  380.348958  185.941406\n",
       "12       8.357895  380.238158  201.986842\n",
       "13       8.427491  384.307692  197.974779\n",
       "14       6.454294  414.362881  187.889197\n",
       "15       6.441261  432.338109  187.925501\n",
       "16       8.419562  468.326898  203.993565\n",
       "17       8.425157  488.313208  235.964780\n",
       "18       8.436658  496.361186  265.955526\n",
       "19       6.445698  490.369535  285.916784"
      ]
     },
     "execution_count": 67,
     "metadata": {},
     "output_type": "execute_result"
    }
   ],
   "source": [
    "name = 'neuron1'\n",
    "this_tracklet = df_tracklet[name][coords]\n",
    "this_tracklet.iloc[1:20, :]"
   ]
  },
  {
   "cell_type": "code",
   "execution_count": 68,
   "id": "3d2c73e8-85dc-472e-836e-e5f349af52da",
   "metadata": {},
   "outputs": [
    {
     "data": {
      "text/html": [
       "<div>\n",
       "<style scoped>\n",
       "    .dataframe tbody tr th:only-of-type {\n",
       "        vertical-align: middle;\n",
       "    }\n",
       "\n",
       "    .dataframe tbody tr th {\n",
       "        vertical-align: top;\n",
       "    }\n",
       "\n",
       "    .dataframe thead th {\n",
       "        text-align: right;\n",
       "    }\n",
       "</style>\n",
       "<table border=\"1\" class=\"dataframe\">\n",
       "  <thead>\n",
       "    <tr style=\"text-align: right;\">\n",
       "      <th>coords</th>\n",
       "      <th>z</th>\n",
       "      <th>x</th>\n",
       "      <th>y</th>\n",
       "    </tr>\n",
       "  </thead>\n",
       "  <tbody>\n",
       "    <tr>\n",
       "      <th>1</th>\n",
       "      <td>9</td>\n",
       "      <td>484.520248</td>\n",
       "      <td>290.520874</td>\n",
       "    </tr>\n",
       "    <tr>\n",
       "      <th>2</th>\n",
       "      <td>9</td>\n",
       "      <td>482.337982</td>\n",
       "      <td>284.265335</td>\n",
       "    </tr>\n",
       "    <tr>\n",
       "      <th>3</th>\n",
       "      <td>9</td>\n",
       "      <td>473.891083</td>\n",
       "      <td>269.164436</td>\n",
       "    </tr>\n",
       "    <tr>\n",
       "      <th>4</th>\n",
       "      <td>9</td>\n",
       "      <td>NaN</td>\n",
       "      <td>NaN</td>\n",
       "    </tr>\n",
       "    <tr>\n",
       "      <th>5</th>\n",
       "      <td>9</td>\n",
       "      <td>491.375468</td>\n",
       "      <td>235.572243</td>\n",
       "    </tr>\n",
       "    <tr>\n",
       "      <th>6</th>\n",
       "      <td>9</td>\n",
       "      <td>482.158783</td>\n",
       "      <td>218.350449</td>\n",
       "    </tr>\n",
       "    <tr>\n",
       "      <th>7</th>\n",
       "      <td>9</td>\n",
       "      <td>452.336416</td>\n",
       "      <td>199.883942</td>\n",
       "    </tr>\n",
       "    <tr>\n",
       "      <th>8</th>\n",
       "      <td>9</td>\n",
       "      <td>449.116119</td>\n",
       "      <td>187.569519</td>\n",
       "    </tr>\n",
       "    <tr>\n",
       "      <th>9</th>\n",
       "      <td>9</td>\n",
       "      <td>430.832611</td>\n",
       "      <td>178.534673</td>\n",
       "    </tr>\n",
       "    <tr>\n",
       "      <th>10</th>\n",
       "      <td>9</td>\n",
       "      <td>405.493876</td>\n",
       "      <td>178.703758</td>\n",
       "    </tr>\n",
       "    <tr>\n",
       "      <th>11</th>\n",
       "      <td>9</td>\n",
       "      <td>380.845917</td>\n",
       "      <td>185.746119</td>\n",
       "    </tr>\n",
       "    <tr>\n",
       "      <th>12</th>\n",
       "      <td>9</td>\n",
       "      <td>379.743515</td>\n",
       "      <td>201.507820</td>\n",
       "    </tr>\n",
       "    <tr>\n",
       "      <th>13</th>\n",
       "      <td>9</td>\n",
       "      <td>NaN</td>\n",
       "      <td>NaN</td>\n",
       "    </tr>\n",
       "    <tr>\n",
       "      <th>14</th>\n",
       "      <td>9</td>\n",
       "      <td>414.177032</td>\n",
       "      <td>186.533676</td>\n",
       "    </tr>\n",
       "    <tr>\n",
       "      <th>15</th>\n",
       "      <td>9</td>\n",
       "      <td>NaN</td>\n",
       "      <td>NaN</td>\n",
       "    </tr>\n",
       "    <tr>\n",
       "      <th>16</th>\n",
       "      <td>9</td>\n",
       "      <td>468.234548</td>\n",
       "      <td>203.747259</td>\n",
       "    </tr>\n",
       "    <tr>\n",
       "      <th>17</th>\n",
       "      <td>9</td>\n",
       "      <td>NaN</td>\n",
       "      <td>NaN</td>\n",
       "    </tr>\n",
       "    <tr>\n",
       "      <th>18</th>\n",
       "      <td>9</td>\n",
       "      <td>498.438858</td>\n",
       "      <td>265.937012</td>\n",
       "    </tr>\n",
       "    <tr>\n",
       "      <th>19</th>\n",
       "      <td>9</td>\n",
       "      <td>NaN</td>\n",
       "      <td>NaN</td>\n",
       "    </tr>\n",
       "  </tbody>\n",
       "</table>\n",
       "</div>"
      ],
      "text/plain": [
       "coords  z           x           y\n",
       "1       9  484.520248  290.520874\n",
       "2       9  482.337982  284.265335\n",
       "3       9  473.891083  269.164436\n",
       "4       9         NaN         NaN\n",
       "5       9  491.375468  235.572243\n",
       "6       9  482.158783  218.350449\n",
       "7       9  452.336416  199.883942\n",
       "8       9  449.116119  187.569519\n",
       "9       9  430.832611  178.534673\n",
       "10      9  405.493876  178.703758\n",
       "11      9  380.845917  185.746119\n",
       "12      9  379.743515  201.507820\n",
       "13      9         NaN         NaN\n",
       "14      9  414.177032  186.533676\n",
       "15      9         NaN         NaN\n",
       "16      9  468.234548  203.747259\n",
       "17      9         NaN         NaN\n",
       "18      9  498.438858  265.937012\n",
       "19      9         NaN         NaN"
      ]
     },
     "execution_count": 68,
     "metadata": {},
     "output_type": "execute_result"
    }
   ],
   "source": [
    "this_dlc.iloc[1:20, :]"
   ]
  },
  {
   "cell_type": "code",
   "execution_count": 73,
   "id": "0c6bdead-86bd-4497-8e48-de44779bc45b",
   "metadata": {},
   "outputs": [
    {
     "data": {
      "text/plain": [
       "5550"
      ]
     },
     "execution_count": 73,
     "metadata": {},
     "output_type": "execute_result"
    }
   ],
   "source": [
    "len(best_tracklets)"
   ]
  },
  {
   "cell_type": "code",
   "execution_count": null,
   "id": "1503b91d-a8e6-4666-b43b-fe5fdb08de57",
   "metadata": {},
   "outputs": [],
   "source": []
  }
 ],
 "metadata": {
  "kernelspec": {
   "display_name": "Python [conda env:DLC-for-WBFM] *",
   "language": "python",
   "name": "conda-env-DLC-for-WBFM-py"
  },
  "language_info": {
   "codemirror_mode": {
    "name": "ipython",
    "version": 3
   },
   "file_extension": ".py",
   "mimetype": "text/x-python",
   "name": "python",
   "nbconvert_exporter": "python",
   "pygments_lexer": "ipython3",
   "version": "3.7.10"
  }
 },
 "nbformat": 4,
 "nbformat_minor": 5
}
