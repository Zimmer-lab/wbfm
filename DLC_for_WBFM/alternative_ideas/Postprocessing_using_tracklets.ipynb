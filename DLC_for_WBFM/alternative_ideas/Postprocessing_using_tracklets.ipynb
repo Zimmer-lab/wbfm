{
 "cells": [
  {
   "cell_type": "markdown",
   "id": "4216ea42-fbfd-4d73-b06c-329ba6efd606",
   "metadata": {},
   "source": [
    "# Combine DLC positions with my tracklets to impute missing values"
   ]
  },
  {
   "cell_type": "code",
   "execution_count": null,
   "id": "66e005ec-fd1e-4715-8586-55ef22bcbd38",
   "metadata": {},
   "outputs": [],
   "source": []
  }
 ],
 "metadata": {
  "kernelspec": {
   "display_name": "Python [conda env:DLC-for-WBFM] *",
   "language": "python",
   "name": "conda-env-DLC-for-WBFM-py"
  },
  "language_info": {
   "codemirror_mode": {
    "name": "ipython",
    "version": 3
   },
   "file_extension": ".py",
   "mimetype": "text/x-python",
   "name": "python",
   "nbconvert_exporter": "python",
   "pygments_lexer": "ipython3",
   "version": "3.7.10"
  }
 },
 "nbformat": 4,
 "nbformat_minor": 5
}
