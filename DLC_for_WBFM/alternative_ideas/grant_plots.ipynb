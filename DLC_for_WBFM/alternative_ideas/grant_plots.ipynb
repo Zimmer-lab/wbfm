{
 "cells": [
  {
   "cell_type": "markdown",
   "id": "dfb1ab20-0866-4636-a681-85c6de4c28d2",
   "metadata": {},
   "source": [
    "# Raw Traces"
   ]
  },
  {
   "cell_type": "code",
   "execution_count": 1,
   "id": "b65d7c25-3e7a-4745-b73d-dcd98b16c405",
   "metadata": {},
   "outputs": [
    {
     "name": "stderr",
     "output_type": "stream",
     "text": [
      "In C:\\Users\\charles.fieseler\\Anaconda3\\envs\\DLC-for-WBFM\\lib\\site-packages\\matplotlib\\mpl-data\\stylelib\\_classic_test.mplstyle: \n",
      "The text.latex.preview rcparam was deprecated in Matplotlib 3.3 and will be removed two minor releases later.\n",
      "In C:\\Users\\charles.fieseler\\Anaconda3\\envs\\DLC-for-WBFM\\lib\\site-packages\\matplotlib\\mpl-data\\stylelib\\_classic_test.mplstyle: \n",
      "The mathtext.fallback_to_cm rcparam was deprecated in Matplotlib 3.3 and will be removed two minor releases later.\n",
      "In C:\\Users\\charles.fieseler\\Anaconda3\\envs\\DLC-for-WBFM\\lib\\site-packages\\matplotlib\\mpl-data\\stylelib\\_classic_test.mplstyle: Support for setting the 'mathtext.fallback_to_cm' rcParam is deprecated since 3.3 and will be removed two minor releases later; use 'mathtext.fallback : 'cm' instead.\n",
      "In C:\\Users\\charles.fieseler\\Anaconda3\\envs\\DLC-for-WBFM\\lib\\site-packages\\matplotlib\\mpl-data\\stylelib\\_classic_test.mplstyle: \n",
      "The validate_bool_maybe_none function was deprecated in Matplotlib 3.3 and will be removed two minor releases later.\n",
      "In C:\\Users\\charles.fieseler\\Anaconda3\\envs\\DLC-for-WBFM\\lib\\site-packages\\matplotlib\\mpl-data\\stylelib\\_classic_test.mplstyle: \n",
      "The savefig.jpeg_quality rcparam was deprecated in Matplotlib 3.3 and will be removed two minor releases later.\n",
      "In C:\\Users\\charles.fieseler\\Anaconda3\\envs\\DLC-for-WBFM\\lib\\site-packages\\matplotlib\\mpl-data\\stylelib\\_classic_test.mplstyle: \n",
      "The keymap.all_axes rcparam was deprecated in Matplotlib 3.3 and will be removed two minor releases later.\n",
      "In C:\\Users\\charles.fieseler\\Anaconda3\\envs\\DLC-for-WBFM\\lib\\site-packages\\matplotlib\\mpl-data\\stylelib\\_classic_test.mplstyle: \n",
      "The animation.avconv_path rcparam was deprecated in Matplotlib 3.3 and will be removed two minor releases later.\n",
      "In C:\\Users\\charles.fieseler\\Anaconda3\\envs\\DLC-for-WBFM\\lib\\site-packages\\matplotlib\\mpl-data\\stylelib\\_classic_test.mplstyle: \n",
      "The animation.avconv_args rcparam was deprecated in Matplotlib 3.3 and will be removed two minor releases later.\n"
     ]
    }
   ],
   "source": [
    "from DLC_for_WBFM.utils.projects.finished_project_data import finished_project_data\n",
    "import numpy as np\n",
    "import matplotlib.pyplot as plt"
   ]
  },
  {
   "cell_type": "code",
   "execution_count": 2,
   "id": "88fcce75-422a-4d41-935e-091c1d6f0f44",
   "metadata": {},
   "outputs": [],
   "source": [
    "fname = r\"C:\\dlc_stacks\\Charlie-worm3-new-seg\\project_config.yaml\"\n",
    "dat = finished_project_data.load_final_project_data_from_config(fname)"
   ]
  },
  {
   "cell_type": "code",
   "execution_count": 3,
   "id": "9f97216b-c6c6-4b97-9a79-23ca04176f03",
   "metadata": {
    "tags": []
   },
   "outputs": [
    {
     "name": "stdout",
     "output_type": "stream",
     "text": [
      "Calculating ratio trace for neuron35 for integration mode\n"
     ]
    },
    {
     "data": {
      "application/vnd.jupyter.widget-view+json": {
       "model_id": "ade6cd97aa864b4b800b63cbcc07258d",
       "version_major": 2,
       "version_minor": 0
      },
      "text/plain": [
       "Canvas(toolbar=Toolbar(toolitems=[('Home', 'Reset original view', 'home', 'home'), ('Back', 'Back to previous …"
      ]
     },
     "metadata": {},
     "output_type": "display_data"
    },
    {
     "name": "stdout",
     "output_type": "stream",
     "text": [
      "Calculating ratio trace for neuron33 for integration mode\n"
     ]
    },
    {
     "data": {
      "application/vnd.jupyter.widget-view+json": {
       "model_id": "727791f2e6964699b8d4ae5b24cb1ac9",
       "version_major": 2,
       "version_minor": 0
      },
      "text/plain": [
       "Canvas(toolbar=Toolbar(toolitems=[('Home', 'Reset original view', 'home', 'home'), ('Back', 'Back to previous …"
      ]
     },
     "metadata": {},
     "output_type": "display_data"
    },
    {
     "name": "stdout",
     "output_type": "stream",
     "text": [
      "Calculating ratio trace for neuron5 for integration mode\n"
     ]
    },
    {
     "data": {
      "application/vnd.jupyter.widget-view+json": {
       "model_id": "e05cf1e69d224d8f8debea77189da345",
       "version_major": 2,
       "version_minor": 0
      },
      "text/plain": [
       "Canvas(toolbar=Toolbar(toolitems=[('Home', 'Reset original view', 'home', 'home'), ('Back', 'Back to previous …"
      ]
     },
     "metadata": {},
     "output_type": "display_data"
    },
    {
     "name": "stdout",
     "output_type": "stream",
     "text": [
      "Calculating ratio trace for neuron3 for integration mode\n"
     ]
    },
    {
     "data": {
      "application/vnd.jupyter.widget-view+json": {
       "model_id": "da44fef8fc0a4612b5c8ced92b2d3cb3",
       "version_major": 2,
       "version_minor": 0
      },
      "text/plain": [
       "Canvas(toolbar=Toolbar(toolitems=[('Home', 'Reset original view', 'home', 'home'), ('Back', 'Back to previous …"
      ]
     },
     "metadata": {},
     "output_type": "display_data"
    },
    {
     "name": "stdout",
     "output_type": "stream",
     "text": [
      "Calculating ratio trace for neuron40 for integration mode\n"
     ]
    },
    {
     "data": {
      "application/vnd.jupyter.widget-view+json": {
       "model_id": "3a82598ea2d44af1b3c067292402eaee",
       "version_major": 2,
       "version_minor": 0
      },
      "text/plain": [
       "Canvas(toolbar=Toolbar(toolitems=[('Home', 'Reset original view', 'home', 'home'), ('Back', 'Back to previous …"
      ]
     },
     "metadata": {},
     "output_type": "display_data"
    },
    {
     "name": "stdout",
     "output_type": "stream",
     "text": [
      "Calculating ratio trace for neuron67 for integration mode\n"
     ]
    },
    {
     "data": {
      "application/vnd.jupyter.widget-view+json": {
       "model_id": "cf84acd0f8944dfa866bd35fa04b58ed",
       "version_major": 2,
       "version_minor": 0
      },
      "text/plain": [
       "Canvas(toolbar=Toolbar(toolitems=[('Home', 'Reset original view', 'home', 'home'), ('Back', 'Back to previous …"
      ]
     },
     "metadata": {},
     "output_type": "display_data"
    },
    {
     "name": "stdout",
     "output_type": "stream",
     "text": [
      "Calculating ratio trace for neuron66 for integration mode\n"
     ]
    },
    {
     "data": {
      "application/vnd.jupyter.widget-view+json": {
       "model_id": "2b3816a9757b471aa7800f468c274b33",
       "version_major": 2,
       "version_minor": 0
      },
      "text/plain": [
       "Canvas(toolbar=Toolbar(toolitems=[('Home', 'Reset original view', 'home', 'home'), ('Back', 'Back to previous …"
      ]
     },
     "metadata": {},
     "output_type": "display_data"
    }
   ],
   "source": [
    "name_guesses = {'neuron35': 'AVA',\n",
    "               'neuron33': 'AVE',\n",
    "               'neuron5': 'RIB',\n",
    "               'neuron3': 'RIM',\n",
    "               'neuron40': 'RID',\n",
    "               'neuron67': 'unknown',\n",
    "               'neuron66': 'AVB'}\n",
    "\n",
    "%matplotlib widget\n",
    "for k, v in name_guesses.items():\n",
    "    y = dat.calculate_traces('ratio', 'integration', k)\n",
    "    plt.figure(figsize=(25,5))\n",
    "    plt.plot(y)\n",
    "    plt.xlim([0, 1500])\n",
    "    plt.xlabel('Frames')\n",
    "    plt.ylabel('Green / Red')\n",
    "    plt.title(f\"Possible ID: {v}\")\n",
    "    dat.shade_axis_using_behavior(plt.gca())\n",
    "    \n",
    "    out_fname = f\"{v}_ratio.png\"\n",
    "#     plt.savefig(out_fname)"
   ]
  },
  {
   "cell_type": "markdown",
   "id": "8f61345f-4d57-4d38-bceb-eaaf3b8f06ed",
   "metadata": {},
   "source": [
    "# Filtered traces"
   ]
  },
  {
   "cell_type": "code",
   "execution_count": 42,
   "id": "ed20db2b-4576-47af-b0fa-adefc3f52200",
   "metadata": {
    "collapsed": true,
    "jupyter": {
     "outputs_hidden": true
    },
    "tags": []
   },
   "outputs": [
    {
     "name": "stdout",
     "output_type": "stream",
     "text": [
      "Calculating ratio trace for neuron35 for integration mode\n"
     ]
    },
    {
     "data": {
      "application/vnd.jupyter.widget-view+json": {
       "model_id": "ed7478e569004a3b8df97152a05f5a55",
       "version_major": 2,
       "version_minor": 0
      },
      "text/plain": [
       "Canvas(toolbar=Toolbar(toolitems=[('Home', 'Reset original view', 'home', 'home'), ('Back', 'Back to previous …"
      ]
     },
     "metadata": {},
     "output_type": "display_data"
    },
    {
     "name": "stdout",
     "output_type": "stream",
     "text": [
      "Calculating ratio trace for neuron33 for integration mode\n"
     ]
    },
    {
     "data": {
      "application/vnd.jupyter.widget-view+json": {
       "model_id": "56803440a17440e4b64bfc9bf8907bb3",
       "version_major": 2,
       "version_minor": 0
      },
      "text/plain": [
       "Canvas(toolbar=Toolbar(toolitems=[('Home', 'Reset original view', 'home', 'home'), ('Back', 'Back to previous …"
      ]
     },
     "metadata": {},
     "output_type": "display_data"
    },
    {
     "name": "stdout",
     "output_type": "stream",
     "text": [
      "Calculating ratio trace for neuron5 for integration mode\n"
     ]
    },
    {
     "data": {
      "application/vnd.jupyter.widget-view+json": {
       "model_id": "697f71368d3a4119866c08caea6392ab",
       "version_major": 2,
       "version_minor": 0
      },
      "text/plain": [
       "Canvas(toolbar=Toolbar(toolitems=[('Home', 'Reset original view', 'home', 'home'), ('Back', 'Back to previous …"
      ]
     },
     "metadata": {},
     "output_type": "display_data"
    },
    {
     "name": "stdout",
     "output_type": "stream",
     "text": [
      "Calculating ratio trace for neuron3 for integration mode\n"
     ]
    },
    {
     "data": {
      "application/vnd.jupyter.widget-view+json": {
       "model_id": "a9c16802571946f8978107cd6aa4aab0",
       "version_major": 2,
       "version_minor": 0
      },
      "text/plain": [
       "Canvas(toolbar=Toolbar(toolitems=[('Home', 'Reset original view', 'home', 'home'), ('Back', 'Back to previous …"
      ]
     },
     "metadata": {},
     "output_type": "display_data"
    },
    {
     "name": "stdout",
     "output_type": "stream",
     "text": [
      "Calculating ratio trace for neuron40 for integration mode\n"
     ]
    },
    {
     "data": {
      "application/vnd.jupyter.widget-view+json": {
       "model_id": "0fe40975b80d47c38bf5669f14e315c0",
       "version_major": 2,
       "version_minor": 0
      },
      "text/plain": [
       "Canvas(toolbar=Toolbar(toolitems=[('Home', 'Reset original view', 'home', 'home'), ('Back', 'Back to previous …"
      ]
     },
     "metadata": {},
     "output_type": "display_data"
    },
    {
     "name": "stdout",
     "output_type": "stream",
     "text": [
      "Calculating ratio trace for neuron67 for integration mode\n"
     ]
    },
    {
     "data": {
      "application/vnd.jupyter.widget-view+json": {
       "model_id": "83b73597dc5044b48a2a37c9ca002f15",
       "version_major": 2,
       "version_minor": 0
      },
      "text/plain": [
       "Canvas(toolbar=Toolbar(toolitems=[('Home', 'Reset original view', 'home', 'home'), ('Back', 'Back to previous …"
      ]
     },
     "metadata": {},
     "output_type": "display_data"
    },
    {
     "name": "stdout",
     "output_type": "stream",
     "text": [
      "Calculating ratio trace for neuron66 for integration mode\n"
     ]
    },
    {
     "data": {
      "application/vnd.jupyter.widget-view+json": {
       "model_id": "146e2a481e554b58a34873e0714bb479",
       "version_major": 2,
       "version_minor": 0
      },
      "text/plain": [
       "Canvas(toolbar=Toolbar(toolitems=[('Home', 'Reset original view', 'home', 'home'), ('Back', 'Back to previous …"
      ]
     },
     "metadata": {},
     "output_type": "display_data"
    },
    {
     "name": "stdout",
     "output_type": "stream",
     "text": [
      "Calculating ratio trace for neuron63 for integration mode\n"
     ]
    },
    {
     "data": {
      "application/vnd.jupyter.widget-view+json": {
       "model_id": "4d477eb23952463287ebcb364585bc8a",
       "version_major": 2,
       "version_minor": 0
      },
      "text/plain": [
       "Canvas(toolbar=Toolbar(toolitems=[('Home', 'Reset original view', 'home', 'home'), ('Back', 'Back to previous …"
      ]
     },
     "metadata": {},
     "output_type": "display_data"
    },
    {
     "name": "stdout",
     "output_type": "stream",
     "text": [
      "Calculating ratio trace for neuron43 for integration mode\n"
     ]
    },
    {
     "data": {
      "application/vnd.jupyter.widget-view+json": {
       "model_id": "f34e20fb0ada436db904f8a8749daf53",
       "version_major": 2,
       "version_minor": 0
      },
      "text/plain": [
       "Canvas(toolbar=Toolbar(toolitems=[('Home', 'Reset original view', 'home', 'home'), ('Back', 'Back to previous …"
      ]
     },
     "metadata": {},
     "output_type": "display_data"
    }
   ],
   "source": [
    "name_guesses = {'neuron35': 'AVA',\n",
    "               'neuron33': 'AVE',\n",
    "               'neuron5': 'RIB',\n",
    "               'neuron3': 'RIM',\n",
    "               'neuron40': 'RID',\n",
    "               'neuron67': 'unknown',\n",
    "               'neuron66': 'AVB',\n",
    "               'neuron63': 'unknown_bleaching',\n",
    "               'neuron43': 'unknown_oscillating'}\n",
    "\n",
    "# Outlier parameters\n",
    "thresh = 0.1\n",
    "\n",
    "%matplotlib widget\n",
    "for k, v in name_guesses.items():\n",
    "    y = dat.calculate_traces('ratio', 'integration', k)\n",
    "    plt.figure(figsize=(25,5))\n",
    "#     plt.plot(y, label='Raw signal')\n",
    "    plt.xlabel('Frames')\n",
    "    plt.xlim([0, 1500])\n",
    "    plt.ylabel('Green / Red')\n",
    "    plt.title(f\"Possible ID: {v}\")\n",
    "    dat.shade_axis_using_behavior(plt.gca(), behaviors_to_ignore=[2])\n",
    "    \n",
    "    # Remove outliers via simple error calculation\n",
    "    y_filt = y.rolling(10, min_periods=1).mean()\n",
    "    error = np.abs(y - y_filt)\n",
    "    is_outlier = error > thresh\n",
    "    y[is_outlier] = np.nan\n",
    "    \n",
    "#     y_filt = y.rolling(3, min_periods=1).mean()\n",
    "#     plt.plot(y_filt, label='Weakly filtered signal')\n",
    "    \n",
    "    y_filt = y.rolling(7, min_periods=3).mean()\n",
    "    plt.plot(y_filt, label='Strongly filtered signal')\n",
    "    \n",
    "#     plt.legend()\n",
    "    \n",
    "    out_fname = f\"{v}_filtered_only_ratio.png\"\n",
    "#     out_fname = f\"{v}_filtered_and_raw_ratio.png\"\n",
    "    plt.savefig(out_fname)"
   ]
  },
  {
   "cell_type": "markdown",
   "id": "a01827a0-73a2-42bb-9692-313144f519d4",
   "metadata": {},
   "source": [
    "# Do bicubic or linear instead of just rolling mean"
   ]
  },
  {
   "cell_type": "code",
   "execution_count": 14,
   "id": "7dbd41db-31bf-4a2e-a218-4c5b88edac93",
   "metadata": {},
   "outputs": [
    {
     "data": {
      "application/vnd.jupyter.widget-view+json": {
       "model_id": "688f88397f444dbeaab71e0fa766fb66",
       "version_major": 2,
       "version_minor": 0
      },
      "text/plain": [
       "Canvas(toolbar=Toolbar(toolitems=[('Home', 'Reset original view', 'home', 'home'), ('Back', 'Back to previous …"
      ]
     },
     "metadata": {},
     "output_type": "display_data"
    },
    {
     "name": "stderr",
     "output_type": "stream",
     "text": [
      "The PostScript backend does not support transparency; partially transparent artists will be rendered opaque.\n",
      "The PostScript backend does not support transparency; partially transparent artists will be rendered opaque.\n",
      "The PostScript backend does not support transparency; partially transparent artists will be rendered opaque.\n",
      "The PostScript backend does not support transparency; partially transparent artists will be rendered opaque.\n",
      "The PostScript backend does not support transparency; partially transparent artists will be rendered opaque.\n",
      "The PostScript backend does not support transparency; partially transparent artists will be rendered opaque.\n",
      "The PostScript backend does not support transparency; partially transparent artists will be rendered opaque.\n",
      "The PostScript backend does not support transparency; partially transparent artists will be rendered opaque.\n",
      "The PostScript backend does not support transparency; partially transparent artists will be rendered opaque.\n",
      "The PostScript backend does not support transparency; partially transparent artists will be rendered opaque.\n",
      "The PostScript backend does not support transparency; partially transparent artists will be rendered opaque.\n",
      "The PostScript backend does not support transparency; partially transparent artists will be rendered opaque.\n",
      "The PostScript backend does not support transparency; partially transparent artists will be rendered opaque.\n",
      "The PostScript backend does not support transparency; partially transparent artists will be rendered opaque.\n",
      "The PostScript backend does not support transparency; partially transparent artists will be rendered opaque.\n",
      "The PostScript backend does not support transparency; partially transparent artists will be rendered opaque.\n",
      "The PostScript backend does not support transparency; partially transparent artists will be rendered opaque.\n",
      "The PostScript backend does not support transparency; partially transparent artists will be rendered opaque.\n"
     ]
    },
    {
     "name": "stdout",
     "output_type": "stream",
     "text": [
      "Calculating ratio trace for neuron35 for integration mode\n",
      "Calculating ratio trace for neuron33 for integration mode\n",
      "Calculating ratio trace for neuron3 for integration mode\n",
      "Calculating ratio trace for neuron43 for integration mode\n",
      "Calculating ratio trace for neuron5 for integration mode\n",
      "Calculating ratio trace for neuron40 for integration mode\n",
      "Calculating ratio trace for neuron67 for integration mode\n",
      "Calculating ratio trace for neuron66 for integration mode\n",
      "Calculating ratio trace for neuron63 for integration mode\n"
     ]
    },
    {
     "name": "stderr",
     "output_type": "stream",
     "text": [
      "The PostScript backend does not support transparency; partially transparent artists will be rendered opaque.\n",
      "The PostScript backend does not support transparency; partially transparent artists will be rendered opaque.\n",
      "The PostScript backend does not support transparency; partially transparent artists will be rendered opaque.\n",
      "The PostScript backend does not support transparency; partially transparent artists will be rendered opaque.\n",
      "The PostScript backend does not support transparency; partially transparent artists will be rendered opaque.\n",
      "The PostScript backend does not support transparency; partially transparent artists will be rendered opaque.\n",
      "The PostScript backend does not support transparency; partially transparent artists will be rendered opaque.\n",
      "The PostScript backend does not support transparency; partially transparent artists will be rendered opaque.\n",
      "The PostScript backend does not support transparency; partially transparent artists will be rendered opaque.\n",
      "The PostScript backend does not support transparency; partially transparent artists will be rendered opaque.\n",
      "The PostScript backend does not support transparency; partially transparent artists will be rendered opaque.\n",
      "The PostScript backend does not support transparency; partially transparent artists will be rendered opaque.\n",
      "The PostScript backend does not support transparency; partially transparent artists will be rendered opaque.\n",
      "The PostScript backend does not support transparency; partially transparent artists will be rendered opaque.\n",
      "The PostScript backend does not support transparency; partially transparent artists will be rendered opaque.\n",
      "The PostScript backend does not support transparency; partially transparent artists will be rendered opaque.\n",
      "The PostScript backend does not support transparency; partially transparent artists will be rendered opaque.\n",
      "The PostScript backend does not support transparency; partially transparent artists will be rendered opaque.\n",
      "The PostScript backend does not support transparency; partially transparent artists will be rendered opaque.\n",
      "The PostScript backend does not support transparency; partially transparent artists will be rendered opaque.\n",
      "The PostScript backend does not support transparency; partially transparent artists will be rendered opaque.\n",
      "The PostScript backend does not support transparency; partially transparent artists will be rendered opaque.\n",
      "The PostScript backend does not support transparency; partially transparent artists will be rendered opaque.\n",
      "The PostScript backend does not support transparency; partially transparent artists will be rendered opaque.\n",
      "The PostScript backend does not support transparency; partially transparent artists will be rendered opaque.\n",
      "The PostScript backend does not support transparency; partially transparent artists will be rendered opaque.\n",
      "The PostScript backend does not support transparency; partially transparent artists will be rendered opaque.\n",
      "The PostScript backend does not support transparency; partially transparent artists will be rendered opaque.\n",
      "The PostScript backend does not support transparency; partially transparent artists will be rendered opaque.\n",
      "The PostScript backend does not support transparency; partially transparent artists will be rendered opaque.\n",
      "The PostScript backend does not support transparency; partially transparent artists will be rendered opaque.\n",
      "The PostScript backend does not support transparency; partially transparent artists will be rendered opaque.\n",
      "The PostScript backend does not support transparency; partially transparent artists will be rendered opaque.\n",
      "The PostScript backend does not support transparency; partially transparent artists will be rendered opaque.\n",
      "The PostScript backend does not support transparency; partially transparent artists will be rendered opaque.\n",
      "The PostScript backend does not support transparency; partially transparent artists will be rendered opaque.\n",
      "The PostScript backend does not support transparency; partially transparent artists will be rendered opaque.\n",
      "The PostScript backend does not support transparency; partially transparent artists will be rendered opaque.\n",
      "The PostScript backend does not support transparency; partially transparent artists will be rendered opaque.\n",
      "The PostScript backend does not support transparency; partially transparent artists will be rendered opaque.\n",
      "The PostScript backend does not support transparency; partially transparent artists will be rendered opaque.\n",
      "The PostScript backend does not support transparency; partially transparent artists will be rendered opaque.\n",
      "The PostScript backend does not support transparency; partially transparent artists will be rendered opaque.\n",
      "The PostScript backend does not support transparency; partially transparent artists will be rendered opaque.\n",
      "The PostScript backend does not support transparency; partially transparent artists will be rendered opaque.\n",
      "The PostScript backend does not support transparency; partially transparent artists will be rendered opaque.\n",
      "The PostScript backend does not support transparency; partially transparent artists will be rendered opaque.\n",
      "The PostScript backend does not support transparency; partially transparent artists will be rendered opaque.\n",
      "The PostScript backend does not support transparency; partially transparent artists will be rendered opaque.\n",
      "The PostScript backend does not support transparency; partially transparent artists will be rendered opaque.\n",
      "The PostScript backend does not support transparency; partially transparent artists will be rendered opaque.\n",
      "The PostScript backend does not support transparency; partially transparent artists will be rendered opaque.\n",
      "The PostScript backend does not support transparency; partially transparent artists will be rendered opaque.\n",
      "The PostScript backend does not support transparency; partially transparent artists will be rendered opaque.\n",
      "The PostScript backend does not support transparency; partially transparent artists will be rendered opaque.\n",
      "The PostScript backend does not support transparency; partially transparent artists will be rendered opaque.\n",
      "The PostScript backend does not support transparency; partially transparent artists will be rendered opaque.\n",
      "The PostScript backend does not support transparency; partially transparent artists will be rendered opaque.\n",
      "The PostScript backend does not support transparency; partially transparent artists will be rendered opaque.\n",
      "The PostScript backend does not support transparency; partially transparent artists will be rendered opaque.\n",
      "The PostScript backend does not support transparency; partially transparent artists will be rendered opaque.\n",
      "The PostScript backend does not support transparency; partially transparent artists will be rendered opaque.\n",
      "The PostScript backend does not support transparency; partially transparent artists will be rendered opaque.\n",
      "The PostScript backend does not support transparency; partially transparent artists will be rendered opaque.\n",
      "The PostScript backend does not support transparency; partially transparent artists will be rendered opaque.\n",
      "The PostScript backend does not support transparency; partially transparent artists will be rendered opaque.\n",
      "The PostScript backend does not support transparency; partially transparent artists will be rendered opaque.\n",
      "The PostScript backend does not support transparency; partially transparent artists will be rendered opaque.\n",
      "The PostScript backend does not support transparency; partially transparent artists will be rendered opaque.\n",
      "The PostScript backend does not support transparency; partially transparent artists will be rendered opaque.\n",
      "The PostScript backend does not support transparency; partially transparent artists will be rendered opaque.\n",
      "The PostScript backend does not support transparency; partially transparent artists will be rendered opaque.\n"
     ]
    }
   ],
   "source": [
    "# name_guesses = {'neuron35': 'AVA',\n",
    "#                'neuron33': 'AVE',\n",
    "#                'neuron5': 'RIB',\n",
    "#                'neuron3': 'RIM',\n",
    "#                'neuron40': 'RID',\n",
    "#                'neuron67': 'unknown',\n",
    "#                'neuron66': 'AVB',\n",
    "#                'neuron63': 'unknown_bleaching',\n",
    "#                'neuron43': 'unknown_oscillating'}\n",
    "name_guesses = {'neuron35': 'AVA',\n",
    "               'neuron33': 'AVE',\n",
    "               'neuron3': 'RIM',\n",
    "               'neuron43': '43',\n",
    "               'neuron5': 'RIB',\n",
    "               'neuron40': 'RID',\n",
    "               'neuron67': '67',\n",
    "               'neuron66': 'AVB',\n",
    "               'neuron63': '63'}\n",
    "\n",
    "# Outlier parameters\n",
    "thresh = 0.03\n",
    "to_plot_raw = False\n",
    "to_save = True\n",
    "\n",
    "fps = 1\n",
    "tspan = np.arange(1500) / fps\n",
    "xlim = [0, tspan[-1]]\n",
    "\n",
    "%matplotlib widget\n",
    "# plt.figure(figsize=(25,5))\n",
    "\n",
    "num_subplots = len(name_guesses)\n",
    "cmap = plt.get_cmap('tab10', num_subplots)\n",
    "fig, axes = plt.subplots(num_subplots, 1, figsize=(15,20))\n",
    "\n",
    "for i, (k, v) in enumerate(name_guesses.items()):\n",
    "    plt.sca(axes[i])\n",
    "    \n",
    "    y = dat.calculate_traces('ratio', 'integration', k)\n",
    "    if to_plot_raw:\n",
    "        plt.plot(tspan, y, '.', lw=3, label='Raw signal')\n",
    "    dat.shade_axis_using_behavior(plt.gca(), behaviors_to_ignore=[2])\n",
    "    \n",
    "    # Remove outliers via simple error calculation\n",
    "    y_filt = y.rolling(13, min_periods=1).mean()\n",
    "    error = np.abs(y - y_filt)\n",
    "    is_outlier = error > thresh\n",
    "    y[is_outlier] = np.nan\n",
    "    \n",
    "    # Main plotting\n",
    "    y_filt = y.interpolate(method='linear', limit=15, limit_direction='both')\n",
    "    y_filt = y_filt.rolling(7, min_periods=1).mean()\n",
    "    plt.plot(tspan, y_filt, label=f\"{v}\", c=cmap.colors[i, :])\n",
    "    \n",
    "    # Clean up axes\n",
    "#     plt.axis('off')\n",
    "    ax = axes[i]\n",
    "    ax.spines['top'].set_visible(False)\n",
    "    ax.spines['right'].set_visible(False)\n",
    "    ax.patch.set_alpha(0.0)\n",
    "    plt.xlim(xlim)\n",
    "    if i < (len(name_guesses)-1):\n",
    "        plt.xticks([])\n",
    "        ax.spines['bottom'].set_visible(False)\n",
    "    plt.ylabel('Green / Red')\n",
    "    \n",
    "    plt.legend()\n",
    "    \n",
    "#     out_fname = f\"{v}_linear_and_movmean_ratio.eps\"\n",
    "#     plt.savefig(out_fname)\n",
    "fig.subplots_adjust(hspace=0.0)\n",
    "plt.xlabel('Time (frames)')\n",
    "\n",
    "if to_save:\n",
    "    out_fname = f\"combined_linear_and_movmean_ratio.eps\"\n",
    "    plt.savefig(out_fname, format='eps', transparent=True)\n",
    "\n",
    "#     out_fname = f\"combined_linear_and_movmean_ratio.svg\"\n",
    "#     plt.savefig(out_fname, format='svg')"
   ]
  },
  {
   "cell_type": "code",
   "execution_count": 76,
   "id": "c831a99b-8ced-40fe-af1a-46419ff189bd",
   "metadata": {},
   "outputs": [],
   "source": []
  },
  {
   "cell_type": "markdown",
   "id": "ec8cef85-455a-43bc-9be8-7f617d1acbba",
   "metadata": {},
   "source": [
    "# Same filtering as above, but all on one axis"
   ]
  },
  {
   "cell_type": "code",
   "execution_count": 30,
   "id": "c38310f2-57cc-4692-85fc-478fb0115123",
   "metadata": {},
   "outputs": [
    {
     "data": {
      "application/vnd.jupyter.widget-view+json": {
       "model_id": "aef3ad7c0a124f3fbf8268be0dedfbec",
       "version_major": 2,
       "version_minor": 0
      },
      "text/plain": [
       "Canvas(toolbar=Toolbar(toolitems=[('Home', 'Reset original view', 'home', 'home'), ('Back', 'Back to previous …"
      ]
     },
     "metadata": {},
     "output_type": "display_data"
    },
    {
     "name": "stderr",
     "output_type": "stream",
     "text": [
      "The PostScript backend does not support transparency; partially transparent artists will be rendered opaque.\n",
      "The PostScript backend does not support transparency; partially transparent artists will be rendered opaque.\n",
      "The PostScript backend does not support transparency; partially transparent artists will be rendered opaque.\n",
      "The PostScript backend does not support transparency; partially transparent artists will be rendered opaque.\n",
      "The PostScript backend does not support transparency; partially transparent artists will be rendered opaque.\n",
      "The PostScript backend does not support transparency; partially transparent artists will be rendered opaque.\n",
      "The PostScript backend does not support transparency; partially transparent artists will be rendered opaque.\n",
      "The PostScript backend does not support transparency; partially transparent artists will be rendered opaque.\n",
      "The PostScript backend does not support transparency; partially transparent artists will be rendered opaque.\n",
      "The PostScript backend does not support transparency; partially transparent artists will be rendered opaque.\n",
      "The PostScript backend does not support transparency; partially transparent artists will be rendered opaque.\n",
      "The PostScript backend does not support transparency; partially transparent artists will be rendered opaque.\n",
      "The PostScript backend does not support transparency; partially transparent artists will be rendered opaque.\n",
      "The PostScript backend does not support transparency; partially transparent artists will be rendered opaque.\n",
      "The PostScript backend does not support transparency; partially transparent artists will be rendered opaque.\n",
      "The PostScript backend does not support transparency; partially transparent artists will be rendered opaque.\n",
      "The PostScript backend does not support transparency; partially transparent artists will be rendered opaque.\n"
     ]
    },
    {
     "name": "stdout",
     "output_type": "stream",
     "text": [
      "Calculating ratio trace for neuron35 for integration mode\n",
      "Calculating ratio trace for neuron33 for integration mode\n",
      "Calculating ratio trace for neuron3 for integration mode\n",
      "Calculating ratio trace for neuron43 for integration mode\n",
      "Calculating ratio trace for neuron5 for integration mode\n",
      "Calculating ratio trace for neuron40 for integration mode\n",
      "Calculating ratio trace for neuron63 for integration mode\n",
      "Calculating ratio trace for neuron66 for integration mode\n",
      "Calculating ratio trace for neuron67 for integration mode\n"
     ]
    },
    {
     "name": "stderr",
     "output_type": "stream",
     "text": [
      "The PostScript backend does not support transparency; partially transparent artists will be rendered opaque.\n",
      "The PostScript backend does not support transparency; partially transparent artists will be rendered opaque.\n",
      "The PostScript backend does not support transparency; partially transparent artists will be rendered opaque.\n",
      "The PostScript backend does not support transparency; partially transparent artists will be rendered opaque.\n",
      "The PostScript backend does not support transparency; partially transparent artists will be rendered opaque.\n",
      "The PostScript backend does not support transparency; partially transparent artists will be rendered opaque.\n",
      "The PostScript backend does not support transparency; partially transparent artists will be rendered opaque.\n",
      "The PostScript backend does not support transparency; partially transparent artists will be rendered opaque.\n",
      "The PostScript backend does not support transparency; partially transparent artists will be rendered opaque.\n",
      "The PostScript backend does not support transparency; partially transparent artists will be rendered opaque.\n",
      "The PostScript backend does not support transparency; partially transparent artists will be rendered opaque.\n",
      "The PostScript backend does not support transparency; partially transparent artists will be rendered opaque.\n",
      "The PostScript backend does not support transparency; partially transparent artists will be rendered opaque.\n",
      "The PostScript backend does not support transparency; partially transparent artists will be rendered opaque.\n",
      "The PostScript backend does not support transparency; partially transparent artists will be rendered opaque.\n",
      "The PostScript backend does not support transparency; partially transparent artists will be rendered opaque.\n",
      "The PostScript backend does not support transparency; partially transparent artists will be rendered opaque.\n",
      "The PostScript backend does not support transparency; partially transparent artists will be rendered opaque.\n",
      "The PostScript backend does not support transparency; partially transparent artists will be rendered opaque.\n",
      "The PostScript backend does not support transparency; partially transparent artists will be rendered opaque.\n",
      "The PostScript backend does not support transparency; partially transparent artists will be rendered opaque.\n",
      "The PostScript backend does not support transparency; partially transparent artists will be rendered opaque.\n",
      "The PostScript backend does not support transparency; partially transparent artists will be rendered opaque.\n",
      "The PostScript backend does not support transparency; partially transparent artists will be rendered opaque.\n",
      "The PostScript backend does not support transparency; partially transparent artists will be rendered opaque.\n",
      "The PostScript backend does not support transparency; partially transparent artists will be rendered opaque.\n",
      "The PostScript backend does not support transparency; partially transparent artists will be rendered opaque.\n",
      "The PostScript backend does not support transparency; partially transparent artists will be rendered opaque.\n",
      "The PostScript backend does not support transparency; partially transparent artists will be rendered opaque.\n",
      "The PostScript backend does not support transparency; partially transparent artists will be rendered opaque.\n",
      "The PostScript backend does not support transparency; partially transparent artists will be rendered opaque.\n",
      "The PostScript backend does not support transparency; partially transparent artists will be rendered opaque.\n",
      "The PostScript backend does not support transparency; partially transparent artists will be rendered opaque.\n",
      "The PostScript backend does not support transparency; partially transparent artists will be rendered opaque.\n",
      "The PostScript backend does not support transparency; partially transparent artists will be rendered opaque.\n",
      "The PostScript backend does not support transparency; partially transparent artists will be rendered opaque.\n",
      "The PostScript backend does not support transparency; partially transparent artists will be rendered opaque.\n",
      "The PostScript backend does not support transparency; partially transparent artists will be rendered opaque.\n",
      "The PostScript backend does not support transparency; partially transparent artists will be rendered opaque.\n",
      "The PostScript backend does not support transparency; partially transparent artists will be rendered opaque.\n",
      "The PostScript backend does not support transparency; partially transparent artists will be rendered opaque.\n",
      "The PostScript backend does not support transparency; partially transparent artists will be rendered opaque.\n",
      "The PostScript backend does not support transparency; partially transparent artists will be rendered opaque.\n",
      "The PostScript backend does not support transparency; partially transparent artists will be rendered opaque.\n",
      "The PostScript backend does not support transparency; partially transparent artists will be rendered opaque.\n",
      "The PostScript backend does not support transparency; partially transparent artists will be rendered opaque.\n",
      "The PostScript backend does not support transparency; partially transparent artists will be rendered opaque.\n",
      "The PostScript backend does not support transparency; partially transparent artists will be rendered opaque.\n",
      "The PostScript backend does not support transparency; partially transparent artists will be rendered opaque.\n",
      "The PostScript backend does not support transparency; partially transparent artists will be rendered opaque.\n",
      "The PostScript backend does not support transparency; partially transparent artists will be rendered opaque.\n",
      "The PostScript backend does not support transparency; partially transparent artists will be rendered opaque.\n",
      "The PostScript backend does not support transparency; partially transparent artists will be rendered opaque.\n",
      "The PostScript backend does not support transparency; partially transparent artists will be rendered opaque.\n",
      "The PostScript backend does not support transparency; partially transparent artists will be rendered opaque.\n",
      "The PostScript backend does not support transparency; partially transparent artists will be rendered opaque.\n",
      "The PostScript backend does not support transparency; partially transparent artists will be rendered opaque.\n"
     ]
    }
   ],
   "source": [
    "name_guesses = {'neuron35': 'AVA',\n",
    "               'neuron33': 'AVE',\n",
    "               'neuron3': 'RIM',\n",
    "               'neuron43': '43',\n",
    "               'neuron5': 'RIB',\n",
    "               'neuron40': 'RID',\n",
    "               'neuron63': '63',\n",
    "               'neuron66': 'AVB',\n",
    "               'neuron67': '67'}\n",
    "\n",
    "# Outlier parameters\n",
    "thresh = 0.03\n",
    "to_plot_raw = False\n",
    "to_save = True\n",
    "\n",
    "fps = 1\n",
    "tspan = np.arange(1500) / fps\n",
    "xlim = [0, tspan[-1]]\n",
    "\n",
    "y_offset_scale = 0.2\n",
    "\n",
    "%matplotlib widget\n",
    "num_subplots = len(name_guesses)\n",
    "cmap = plt.get_cmap('tab10', num_subplots)\n",
    "plt.figure(figsize=(15,20))\n",
    "\n",
    "for i, (k, v) in enumerate(name_guesses.items()):    \n",
    "    y = dat.calculate_traces('ratio', 'integration', k)\n",
    "    if to_plot_raw:\n",
    "        plt.plot(tspan, y, '.', lw=3, label='Raw signal')\n",
    "    dat.shade_axis_using_behavior(plt.gca(), behaviors_to_ignore=[2])\n",
    "    \n",
    "    # Remove outliers via simple error calculation\n",
    "    y_filt = y.rolling(13, min_periods=1).mean()\n",
    "    error = np.abs(y - y_filt)\n",
    "    is_outlier = error > thresh\n",
    "    y[is_outlier] = np.nan\n",
    "    \n",
    "    # Main plotting\n",
    "    y_filt = y.interpolate(method='linear', limit=15, limit_direction='both')\n",
    "    y_filt = y_filt.rolling(7, min_periods=1).mean()\n",
    "    y_offset = y_offset_scale*i\n",
    "    \n",
    "    plt.plot(tspan, y_filt + y_offset, label=f\"{v}\", c=cmap.colors[i, :])\n",
    "    \n",
    "    # Clean up axes\n",
    "    ax = plt.gca()\n",
    "    ax.spines['top'].set_visible(False)\n",
    "    ax.spines['right'].set_visible(False)\n",
    "    ax.patch.set_alpha(0.0)\n",
    "    plt.xlim(xlim)\n",
    "    plt.ylabel('Green / Red')\n",
    "    \n",
    "    plt.legend()\n",
    "    \n",
    "#     out_fname = f\"{v}_linear_and_movmean_ratio.eps\"\n",
    "#     plt.savefig(out_fname)\n",
    "fig.subplots_adjust(hspace=0.0)\n",
    "plt.xlabel('Time (frames)')\n",
    "\n",
    "ax = plt.gca()\n",
    "ax.set_yticks(np.arange(num_subplots)*y_offset_scale + y_offset_scale)\n",
    "ax.set_yticklabels([v for v in name_guesses.values()])\n",
    "[t.set_color(cmap.colors[i, :]) for i, t in enumerate(ax.yaxis.get_ticklabels())]\n",
    "\n",
    "if to_save:\n",
    "    out_fname = f\"combined_linear_and_movmean_ratio_unified.eps\"\n",
    "    plt.savefig(out_fname, format='eps', transparent=True)\n",
    "\n",
    "#     out_fname = f\"combined_linear_and_movmean_ratio.svg\"\n",
    "#     plt.savefig(out_fname, format='svg')"
   ]
  },
  {
   "cell_type": "code",
   "execution_count": null,
   "id": "2138253a-e3a8-4bee-9901-18d0a5f75211",
   "metadata": {},
   "outputs": [],
   "source": []
  },
  {
   "cell_type": "code",
   "execution_count": null,
   "id": "525fca54-e3b8-4835-a84c-386215c39def",
   "metadata": {},
   "outputs": [],
   "source": []
  },
  {
   "cell_type": "markdown",
   "id": "fd8416ff-0293-4049-aac8-d73c550a22c6",
   "metadata": {},
   "source": [
    "# Filtered Red"
   ]
  },
  {
   "cell_type": "code",
   "execution_count": 7,
   "id": "b2fd4af0-2a79-4921-b417-43bc68e10802",
   "metadata": {},
   "outputs": [
    {
     "name": "stdout",
     "output_type": "stream",
     "text": [
      "Calculating red trace for neuron35 for integration mode\n"
     ]
    },
    {
     "data": {
      "application/vnd.jupyter.widget-view+json": {
       "model_id": "7889690b6be84df283ff791264334caf",
       "version_major": 2,
       "version_minor": 0
      },
      "text/plain": [
       "Canvas(toolbar=Toolbar(toolitems=[('Home', 'Reset original view', 'home', 'home'), ('Back', 'Back to previous …"
      ]
     },
     "metadata": {},
     "output_type": "display_data"
    },
    {
     "name": "stdout",
     "output_type": "stream",
     "text": [
      "Calculating red trace for neuron33 for integration mode\n"
     ]
    },
    {
     "data": {
      "application/vnd.jupyter.widget-view+json": {
       "model_id": "888cc78c90de49e98d7974d963828957",
       "version_major": 2,
       "version_minor": 0
      },
      "text/plain": [
       "Canvas(toolbar=Toolbar(toolitems=[('Home', 'Reset original view', 'home', 'home'), ('Back', 'Back to previous …"
      ]
     },
     "metadata": {},
     "output_type": "display_data"
    },
    {
     "name": "stdout",
     "output_type": "stream",
     "text": [
      "Calculating red trace for neuron5 for integration mode\n"
     ]
    },
    {
     "data": {
      "application/vnd.jupyter.widget-view+json": {
       "model_id": "296e3aedcaa64bad85eccb374cf8e2cb",
       "version_major": 2,
       "version_minor": 0
      },
      "text/plain": [
       "Canvas(toolbar=Toolbar(toolitems=[('Home', 'Reset original view', 'home', 'home'), ('Back', 'Back to previous …"
      ]
     },
     "metadata": {},
     "output_type": "display_data"
    },
    {
     "name": "stdout",
     "output_type": "stream",
     "text": [
      "Calculating red trace for neuron3 for integration mode\n"
     ]
    },
    {
     "data": {
      "application/vnd.jupyter.widget-view+json": {
       "model_id": "ed35d2bf8da141d1829d635c10be6fa9",
       "version_major": 2,
       "version_minor": 0
      },
      "text/plain": [
       "Canvas(toolbar=Toolbar(toolitems=[('Home', 'Reset original view', 'home', 'home'), ('Back', 'Back to previous …"
      ]
     },
     "metadata": {},
     "output_type": "display_data"
    },
    {
     "name": "stdout",
     "output_type": "stream",
     "text": [
      "Calculating red trace for neuron40 for integration mode\n"
     ]
    },
    {
     "data": {
      "application/vnd.jupyter.widget-view+json": {
       "model_id": "1d787dabd60a4e1fa67f1b4d7e1e3822",
       "version_major": 2,
       "version_minor": 0
      },
      "text/plain": [
       "Canvas(toolbar=Toolbar(toolitems=[('Home', 'Reset original view', 'home', 'home'), ('Back', 'Back to previous …"
      ]
     },
     "metadata": {},
     "output_type": "display_data"
    },
    {
     "name": "stdout",
     "output_type": "stream",
     "text": [
      "Calculating red trace for neuron67 for integration mode\n"
     ]
    },
    {
     "data": {
      "application/vnd.jupyter.widget-view+json": {
       "model_id": "e203206105f941b39bc93fbe8d7d8b1f",
       "version_major": 2,
       "version_minor": 0
      },
      "text/plain": [
       "Canvas(toolbar=Toolbar(toolitems=[('Home', 'Reset original view', 'home', 'home'), ('Back', 'Back to previous …"
      ]
     },
     "metadata": {},
     "output_type": "display_data"
    },
    {
     "name": "stdout",
     "output_type": "stream",
     "text": [
      "Calculating red trace for neuron66 for integration mode\n"
     ]
    },
    {
     "data": {
      "application/vnd.jupyter.widget-view+json": {
       "model_id": "b55f37e1f0b74921887103a24c2a2168",
       "version_major": 2,
       "version_minor": 0
      },
      "text/plain": [
       "Canvas(toolbar=Toolbar(toolitems=[('Home', 'Reset original view', 'home', 'home'), ('Back', 'Back to previous …"
      ]
     },
     "metadata": {},
     "output_type": "display_data"
    },
    {
     "name": "stdout",
     "output_type": "stream",
     "text": [
      "Calculating red trace for neuron63 for integration mode\n"
     ]
    },
    {
     "data": {
      "application/vnd.jupyter.widget-view+json": {
       "model_id": "0bc1a21b36094ec0bec43146e70f165a",
       "version_major": 2,
       "version_minor": 0
      },
      "text/plain": [
       "Canvas(toolbar=Toolbar(toolitems=[('Home', 'Reset original view', 'home', 'home'), ('Back', 'Back to previous …"
      ]
     },
     "metadata": {},
     "output_type": "display_data"
    },
    {
     "name": "stdout",
     "output_type": "stream",
     "text": [
      "Calculating red trace for neuron43 for integration mode\n"
     ]
    },
    {
     "data": {
      "application/vnd.jupyter.widget-view+json": {
       "model_id": "789114261bb745639d50f7a808168415",
       "version_major": 2,
       "version_minor": 0
      },
      "text/plain": [
       "Canvas(toolbar=Toolbar(toolitems=[('Home', 'Reset original view', 'home', 'home'), ('Back', 'Back to previous …"
      ]
     },
     "metadata": {},
     "output_type": "display_data"
    }
   ],
   "source": [
    "name_guesses = {'neuron35': 'AVA',\n",
    "               'neuron33': 'AVE',\n",
    "               'neuron5': 'RIB',\n",
    "               'neuron3': 'RIM',\n",
    "               'neuron40': 'RID',\n",
    "               'neuron67': 'unknown',\n",
    "               'neuron66': 'AVB',\n",
    "               'neuron63': 'unknown_bleaching',\n",
    "               'neuron43': 'unknown_oscillating'}\n",
    "\n",
    "# Outlier parameters\n",
    "thresh = 10000\n",
    "\n",
    "%matplotlib widget\n",
    "for k, v in name_guesses.items():\n",
    "    y = dat.calculate_traces('red', 'integration', k)\n",
    "    plt.figure(figsize=(25,5))\n",
    "    plt.plot(y, label='Raw signal')\n",
    "    plt.xlabel('Frames')\n",
    "    plt.xlim([0, 1500])\n",
    "    plt.ylabel('Red')\n",
    "    plt.title(f\"Possible ID: {v}\")\n",
    "    dat.shade_axis_using_behavior(plt.gca(), behaviors_to_ignore=[2])\n",
    "    \n",
    "    # Remove outliers via simple error calculation\n",
    "    y_filt = y.rolling(10, min_periods=1).mean()\n",
    "    error = np.abs(y - y_filt)\n",
    "    is_outlier = error > thresh\n",
    "    y[is_outlier] = np.nan\n",
    "    \n",
    "    y_filt = y.rolling(7, min_periods=3).mean()\n",
    "    plt.plot(y_filt, label='Strongly filtered signal')\n",
    "    \n",
    "    plt.legend()\n",
    "    \n",
    "#     break\n",
    "    out_fname = f\"{v}_filtered_and_raw_red.png\"\n",
    "#     plt.savefig(out_fname)"
   ]
  },
  {
   "cell_type": "code",
   "execution_count": 20,
   "id": "2dd54bf8-639b-42a7-8cbc-1214ab72b0cc",
   "metadata": {},
   "outputs": [
    {
     "data": {
      "application/vnd.jupyter.widget-view+json": {
       "model_id": "11acc360d94b42dd8ec270abbbe57d5b",
       "version_major": 2,
       "version_minor": 0
      },
      "text/plain": [
       "Canvas(toolbar=Toolbar(toolitems=[('Home', 'Reset original view', 'home', 'home'), ('Back', 'Back to previous …"
      ]
     },
     "metadata": {},
     "output_type": "display_data"
    },
    {
     "data": {
      "text/plain": [
       "[<matplotlib.lines.Line2D at 0x27c8414f308>]"
      ]
     },
     "execution_count": 20,
     "metadata": {},
     "output_type": "execute_result"
    }
   ],
   "source": [
    "%matplotlib widget\n",
    "\n",
    "error = np.abs(y - y_filt)\n",
    "thresh = 0.1\n",
    "is_outlier = error > thresh\n",
    "plt.plot(is_outlier)"
   ]
  },
  {
   "cell_type": "code",
   "execution_count": 22,
   "id": "2885d302-1f1b-4e04-94df-eb6958be1a67",
   "metadata": {},
   "outputs": [],
   "source": [
    "y[is_outlier] = np.nan"
   ]
  },
  {
   "cell_type": "markdown",
   "id": "21b3c83d-0810-4d34-ab83-defe756faed5",
   "metadata": {},
   "source": [
    "# MIP with numbered neurons\n"
   ]
  },
  {
   "cell_type": "code",
   "execution_count": 3,
   "id": "ae63be4c-ff06-49e1-a3f6-dce153f92ce3",
   "metadata": {},
   "outputs": [],
   "source": [
    "from DLC_for_WBFM.utils.visualization.napari_from_config import create_text_labels_for_napari"
   ]
  },
  {
   "cell_type": "code",
   "execution_count": 4,
   "id": "36ddc285-c013-46a8-9e85-8f2c3b3c089b",
   "metadata": {},
   "outputs": [],
   "source": [
    "opt = create_text_labels_for_napari(dat.red_traces)"
   ]
  },
  {
   "cell_type": "code",
   "execution_count": null,
   "id": "67050f0c-5711-42b0-8202-961074584495",
   "metadata": {},
   "outputs": [],
   "source": []
  }
 ],
 "metadata": {
  "kernelspec": {
   "display_name": "Python [conda env:DLC-for-WBFM] *",
   "language": "python",
   "name": "conda-env-DLC-for-WBFM-py"
  },
  "language_info": {
   "codemirror_mode": {
    "name": "ipython",
    "version": 3
   },
   "file_extension": ".py",
   "mimetype": "text/x-python",
   "name": "python",
   "nbconvert_exporter": "python",
   "pygments_lexer": "ipython3",
   "version": "3.7.10"
  }
 },
 "nbformat": 4,
 "nbformat_minor": 5
}
