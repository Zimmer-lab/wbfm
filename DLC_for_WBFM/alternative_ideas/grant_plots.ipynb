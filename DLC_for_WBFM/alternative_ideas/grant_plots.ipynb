{
 "cells": [
  {
   "cell_type": "markdown",
   "id": "dfb1ab20-0866-4636-a681-85c6de4c28d2",
   "metadata": {},
   "source": [
    "# Raw Traces"
   ]
  },
  {
   "cell_type": "code",
   "execution_count": 19,
   "id": "b65d7c25-3e7a-4745-b73d-dcd98b16c405",
   "metadata": {},
   "outputs": [],
   "source": [
    "from DLC_for_WBFM.utils.projects.finished_project_data import finished_project_data\n",
    "import numpy as np\n",
    "import matplotlib.pyplot as plt"
   ]
  },
  {
   "cell_type": "code",
   "execution_count": 2,
   "id": "88fcce75-422a-4d41-935e-091c1d6f0f44",
   "metadata": {},
   "outputs": [],
   "source": [
    "fname = r\"C:\\dlc_stacks\\Charlie-worm3-new-seg\\project_config.yaml\"\n",
    "dat = finished_project_data.load_final_project_data_from_config(fname)"
   ]
  },
  {
   "cell_type": "code",
   "execution_count": 18,
   "id": "9f97216b-c6c6-4b97-9a79-23ca04176f03",
   "metadata": {
    "collapsed": true,
    "jupyter": {
     "outputs_hidden": true
    },
    "tags": []
   },
   "outputs": [
    {
     "name": "stdout",
     "output_type": "stream",
     "text": [
      "Calculating ratio trace for neuron35 for integration mode\n"
     ]
    },
    {
     "data": {
      "application/vnd.jupyter.widget-view+json": {
       "model_id": "fc4fb49dbad24b40b74fcf86e2cc317d",
       "version_major": 2,
       "version_minor": 0
      },
      "text/plain": [
       "Canvas(toolbar=Toolbar(toolitems=[('Home', 'Reset original view', 'home', 'home'), ('Back', 'Back to previous …"
      ]
     },
     "metadata": {},
     "output_type": "display_data"
    },
    {
     "name": "stdout",
     "output_type": "stream",
     "text": [
      "Calculating ratio trace for neuron33 for integration mode\n"
     ]
    },
    {
     "data": {
      "application/vnd.jupyter.widget-view+json": {
       "model_id": "6989cae2c15244fdb1e91e74dd635ce7",
       "version_major": 2,
       "version_minor": 0
      },
      "text/plain": [
       "Canvas(toolbar=Toolbar(toolitems=[('Home', 'Reset original view', 'home', 'home'), ('Back', 'Back to previous …"
      ]
     },
     "metadata": {},
     "output_type": "display_data"
    },
    {
     "name": "stdout",
     "output_type": "stream",
     "text": [
      "Calculating ratio trace for neuron5 for integration mode\n"
     ]
    },
    {
     "data": {
      "application/vnd.jupyter.widget-view+json": {
       "model_id": "ca14e802e5464788bd28b6a0d07a4963",
       "version_major": 2,
       "version_minor": 0
      },
      "text/plain": [
       "Canvas(toolbar=Toolbar(toolitems=[('Home', 'Reset original view', 'home', 'home'), ('Back', 'Back to previous …"
      ]
     },
     "metadata": {},
     "output_type": "display_data"
    },
    {
     "name": "stdout",
     "output_type": "stream",
     "text": [
      "Calculating ratio trace for neuron3 for integration mode\n"
     ]
    },
    {
     "data": {
      "application/vnd.jupyter.widget-view+json": {
       "model_id": "52b2876984254cf38330bb30316d5479",
       "version_major": 2,
       "version_minor": 0
      },
      "text/plain": [
       "Canvas(toolbar=Toolbar(toolitems=[('Home', 'Reset original view', 'home', 'home'), ('Back', 'Back to previous …"
      ]
     },
     "metadata": {},
     "output_type": "display_data"
    },
    {
     "name": "stdout",
     "output_type": "stream",
     "text": [
      "Calculating ratio trace for neuron40 for integration mode\n"
     ]
    },
    {
     "data": {
      "application/vnd.jupyter.widget-view+json": {
       "model_id": "7370b24a1a574c2589e73ee5e0884647",
       "version_major": 2,
       "version_minor": 0
      },
      "text/plain": [
       "Canvas(toolbar=Toolbar(toolitems=[('Home', 'Reset original view', 'home', 'home'), ('Back', 'Back to previous …"
      ]
     },
     "metadata": {},
     "output_type": "display_data"
    },
    {
     "name": "stdout",
     "output_type": "stream",
     "text": [
      "Calculating ratio trace for neuron67 for integration mode\n"
     ]
    },
    {
     "data": {
      "application/vnd.jupyter.widget-view+json": {
       "model_id": "f7fe1caf89fd43a8b3d1635967d41c9e",
       "version_major": 2,
       "version_minor": 0
      },
      "text/plain": [
       "Canvas(toolbar=Toolbar(toolitems=[('Home', 'Reset original view', 'home', 'home'), ('Back', 'Back to previous …"
      ]
     },
     "metadata": {},
     "output_type": "display_data"
    },
    {
     "name": "stdout",
     "output_type": "stream",
     "text": [
      "Calculating ratio trace for neuron66 for integration mode\n"
     ]
    },
    {
     "data": {
      "application/vnd.jupyter.widget-view+json": {
       "model_id": "a266be2773c84b9e8c448985820f74a5",
       "version_major": 2,
       "version_minor": 0
      },
      "text/plain": [
       "Canvas(toolbar=Toolbar(toolitems=[('Home', 'Reset original view', 'home', 'home'), ('Back', 'Back to previous …"
      ]
     },
     "metadata": {},
     "output_type": "display_data"
    }
   ],
   "source": [
    "name_guesses = {'neuron35': 'AVA',\n",
    "               'neuron33': 'AVE',\n",
    "               'neuron5': 'RIB',\n",
    "               'neuron3': 'RIM',\n",
    "               'neuron40': 'RID',\n",
    "               'neuron67': 'unknown',\n",
    "               'neuron66': 'AVB'}\n",
    "\n",
    "%matplotlib widget\n",
    "for k, v in name_guesses.items():\n",
    "    y = dat.calculate_traces('ratio', 'integration', k)\n",
    "    plt.figure(figsize=(25,5))\n",
    "    plt.plot(y)\n",
    "    plt.xlabel('Frames')\n",
    "    plt.ylabel('Green / Red')\n",
    "    plt.title(f\"Possible ID: {v}\")\n",
    "    dat.shade_axis_using_behavior(plt.gca())\n",
    "    \n",
    "    out_fname = f\"{v}_ratio.png\"\n",
    "    plt.savefig(out_fname)"
   ]
  },
  {
   "cell_type": "markdown",
   "id": "8f61345f-4d57-4d38-bceb-eaaf3b8f06ed",
   "metadata": {},
   "source": [
    "# Filtered traces"
   ]
  },
  {
   "cell_type": "code",
   "execution_count": 42,
   "id": "ed20db2b-4576-47af-b0fa-adefc3f52200",
   "metadata": {
    "collapsed": true,
    "jupyter": {
     "outputs_hidden": true
    },
    "tags": []
   },
   "outputs": [
    {
     "name": "stdout",
     "output_type": "stream",
     "text": [
      "Calculating ratio trace for neuron35 for integration mode\n"
     ]
    },
    {
     "data": {
      "application/vnd.jupyter.widget-view+json": {
       "model_id": "ed7478e569004a3b8df97152a05f5a55",
       "version_major": 2,
       "version_minor": 0
      },
      "text/plain": [
       "Canvas(toolbar=Toolbar(toolitems=[('Home', 'Reset original view', 'home', 'home'), ('Back', 'Back to previous …"
      ]
     },
     "metadata": {},
     "output_type": "display_data"
    },
    {
     "name": "stdout",
     "output_type": "stream",
     "text": [
      "Calculating ratio trace for neuron33 for integration mode\n"
     ]
    },
    {
     "data": {
      "application/vnd.jupyter.widget-view+json": {
       "model_id": "56803440a17440e4b64bfc9bf8907bb3",
       "version_major": 2,
       "version_minor": 0
      },
      "text/plain": [
       "Canvas(toolbar=Toolbar(toolitems=[('Home', 'Reset original view', 'home', 'home'), ('Back', 'Back to previous …"
      ]
     },
     "metadata": {},
     "output_type": "display_data"
    },
    {
     "name": "stdout",
     "output_type": "stream",
     "text": [
      "Calculating ratio trace for neuron5 for integration mode\n"
     ]
    },
    {
     "data": {
      "application/vnd.jupyter.widget-view+json": {
       "model_id": "697f71368d3a4119866c08caea6392ab",
       "version_major": 2,
       "version_minor": 0
      },
      "text/plain": [
       "Canvas(toolbar=Toolbar(toolitems=[('Home', 'Reset original view', 'home', 'home'), ('Back', 'Back to previous …"
      ]
     },
     "metadata": {},
     "output_type": "display_data"
    },
    {
     "name": "stdout",
     "output_type": "stream",
     "text": [
      "Calculating ratio trace for neuron3 for integration mode\n"
     ]
    },
    {
     "data": {
      "application/vnd.jupyter.widget-view+json": {
       "model_id": "a9c16802571946f8978107cd6aa4aab0",
       "version_major": 2,
       "version_minor": 0
      },
      "text/plain": [
       "Canvas(toolbar=Toolbar(toolitems=[('Home', 'Reset original view', 'home', 'home'), ('Back', 'Back to previous …"
      ]
     },
     "metadata": {},
     "output_type": "display_data"
    },
    {
     "name": "stdout",
     "output_type": "stream",
     "text": [
      "Calculating ratio trace for neuron40 for integration mode\n"
     ]
    },
    {
     "data": {
      "application/vnd.jupyter.widget-view+json": {
       "model_id": "0fe40975b80d47c38bf5669f14e315c0",
       "version_major": 2,
       "version_minor": 0
      },
      "text/plain": [
       "Canvas(toolbar=Toolbar(toolitems=[('Home', 'Reset original view', 'home', 'home'), ('Back', 'Back to previous …"
      ]
     },
     "metadata": {},
     "output_type": "display_data"
    },
    {
     "name": "stdout",
     "output_type": "stream",
     "text": [
      "Calculating ratio trace for neuron67 for integration mode\n"
     ]
    },
    {
     "data": {
      "application/vnd.jupyter.widget-view+json": {
       "model_id": "83b73597dc5044b48a2a37c9ca002f15",
       "version_major": 2,
       "version_minor": 0
      },
      "text/plain": [
       "Canvas(toolbar=Toolbar(toolitems=[('Home', 'Reset original view', 'home', 'home'), ('Back', 'Back to previous …"
      ]
     },
     "metadata": {},
     "output_type": "display_data"
    },
    {
     "name": "stdout",
     "output_type": "stream",
     "text": [
      "Calculating ratio trace for neuron66 for integration mode\n"
     ]
    },
    {
     "data": {
      "application/vnd.jupyter.widget-view+json": {
       "model_id": "146e2a481e554b58a34873e0714bb479",
       "version_major": 2,
       "version_minor": 0
      },
      "text/plain": [
       "Canvas(toolbar=Toolbar(toolitems=[('Home', 'Reset original view', 'home', 'home'), ('Back', 'Back to previous …"
      ]
     },
     "metadata": {},
     "output_type": "display_data"
    },
    {
     "name": "stdout",
     "output_type": "stream",
     "text": [
      "Calculating ratio trace for neuron63 for integration mode\n"
     ]
    },
    {
     "data": {
      "application/vnd.jupyter.widget-view+json": {
       "model_id": "4d477eb23952463287ebcb364585bc8a",
       "version_major": 2,
       "version_minor": 0
      },
      "text/plain": [
       "Canvas(toolbar=Toolbar(toolitems=[('Home', 'Reset original view', 'home', 'home'), ('Back', 'Back to previous …"
      ]
     },
     "metadata": {},
     "output_type": "display_data"
    },
    {
     "name": "stdout",
     "output_type": "stream",
     "text": [
      "Calculating ratio trace for neuron43 for integration mode\n"
     ]
    },
    {
     "data": {
      "application/vnd.jupyter.widget-view+json": {
       "model_id": "f34e20fb0ada436db904f8a8749daf53",
       "version_major": 2,
       "version_minor": 0
      },
      "text/plain": [
       "Canvas(toolbar=Toolbar(toolitems=[('Home', 'Reset original view', 'home', 'home'), ('Back', 'Back to previous …"
      ]
     },
     "metadata": {},
     "output_type": "display_data"
    }
   ],
   "source": [
    "name_guesses = {'neuron35': 'AVA',\n",
    "               'neuron33': 'AVE',\n",
    "               'neuron5': 'RIB',\n",
    "               'neuron3': 'RIM',\n",
    "               'neuron40': 'RID',\n",
    "               'neuron67': 'unknown',\n",
    "               'neuron66': 'AVB',\n",
    "               'neuron63': 'unknown_bleaching',\n",
    "               'neuron43': 'unknown_oscillating'}\n",
    "\n",
    "# Outlier parameters\n",
    "thresh = 0.1\n",
    "\n",
    "%matplotlib widget\n",
    "for k, v in name_guesses.items():\n",
    "    y = dat.calculate_traces('ratio', 'integration', k)\n",
    "    plt.figure(figsize=(25,5))\n",
    "#     plt.plot(y, label='Raw signal')\n",
    "    plt.xlabel('Frames')\n",
    "    plt.xlim([0, 1500])\n",
    "    plt.ylabel('Green / Red')\n",
    "    plt.title(f\"Possible ID: {v}\")\n",
    "    dat.shade_axis_using_behavior(plt.gca(), behaviors_to_ignore=[2])\n",
    "    \n",
    "    # Remove outliers via simple error calculation\n",
    "    y_filt = y.rolling(10, min_periods=1).mean()\n",
    "    error = np.abs(y - y_filt)\n",
    "    is_outlier = error > thresh\n",
    "    y[is_outlier] = np.nan\n",
    "    \n",
    "#     y_filt = y.rolling(3, min_periods=1).mean()\n",
    "#     plt.plot(y_filt, label='Weakly filtered signal')\n",
    "    \n",
    "    y_filt = y.rolling(7, min_periods=3).mean()\n",
    "    plt.plot(y_filt, label='Strongly filtered signal')\n",
    "    \n",
    "#     plt.legend()\n",
    "    \n",
    "    out_fname = f\"{v}_filtered_only_ratio.png\"\n",
    "#     out_fname = f\"{v}_filtered_and_raw_ratio.png\"\n",
    "    plt.savefig(out_fname)"
   ]
  },
  {
   "cell_type": "markdown",
   "id": "a01827a0-73a2-42bb-9692-313144f519d4",
   "metadata": {},
   "source": [
    "# Do bicubic instead of just rolling mean"
   ]
  },
  {
   "cell_type": "code",
   "execution_count": 60,
   "id": "7dbd41db-31bf-4a2e-a218-4c5b88edac93",
   "metadata": {},
   "outputs": [
    {
     "name": "stdout",
     "output_type": "stream",
     "text": [
      "Calculating ratio trace for neuron35 for integration mode\n"
     ]
    },
    {
     "data": {
      "application/vnd.jupyter.widget-view+json": {
       "model_id": "cbbebf870d584c06b831eeb42752f89e",
       "version_major": 2,
       "version_minor": 0
      },
      "text/plain": [
       "Canvas(toolbar=Toolbar(toolitems=[('Home', 'Reset original view', 'home', 'home'), ('Back', 'Back to previous …"
      ]
     },
     "metadata": {},
     "output_type": "display_data"
    },
    {
     "name": "stdout",
     "output_type": "stream",
     "text": [
      "Calculating ratio trace for neuron33 for integration mode\n"
     ]
    },
    {
     "data": {
      "application/vnd.jupyter.widget-view+json": {
       "model_id": "b04b4c1397b544da98dec8782bf23ea9",
       "version_major": 2,
       "version_minor": 0
      },
      "text/plain": [
       "Canvas(toolbar=Toolbar(toolitems=[('Home', 'Reset original view', 'home', 'home'), ('Back', 'Back to previous …"
      ]
     },
     "metadata": {},
     "output_type": "display_data"
    },
    {
     "name": "stdout",
     "output_type": "stream",
     "text": [
      "Calculating ratio trace for neuron5 for integration mode\n"
     ]
    },
    {
     "data": {
      "application/vnd.jupyter.widget-view+json": {
       "model_id": "132a5de6c09f49269e602a6b059db4b4",
       "version_major": 2,
       "version_minor": 0
      },
      "text/plain": [
       "Canvas(toolbar=Toolbar(toolitems=[('Home', 'Reset original view', 'home', 'home'), ('Back', 'Back to previous …"
      ]
     },
     "metadata": {},
     "output_type": "display_data"
    },
    {
     "name": "stdout",
     "output_type": "stream",
     "text": [
      "Calculating ratio trace for neuron3 for integration mode\n"
     ]
    },
    {
     "data": {
      "application/vnd.jupyter.widget-view+json": {
       "model_id": "4c1a677f22424ca38cb4045b847d0c69",
       "version_major": 2,
       "version_minor": 0
      },
      "text/plain": [
       "Canvas(toolbar=Toolbar(toolitems=[('Home', 'Reset original view', 'home', 'home'), ('Back', 'Back to previous …"
      ]
     },
     "metadata": {},
     "output_type": "display_data"
    },
    {
     "name": "stdout",
     "output_type": "stream",
     "text": [
      "Calculating ratio trace for neuron40 for integration mode\n"
     ]
    },
    {
     "data": {
      "application/vnd.jupyter.widget-view+json": {
       "model_id": "75c4ab948d19438fa0fbd350bc37a625",
       "version_major": 2,
       "version_minor": 0
      },
      "text/plain": [
       "Canvas(toolbar=Toolbar(toolitems=[('Home', 'Reset original view', 'home', 'home'), ('Back', 'Back to previous …"
      ]
     },
     "metadata": {},
     "output_type": "display_data"
    },
    {
     "name": "stdout",
     "output_type": "stream",
     "text": [
      "Calculating ratio trace for neuron67 for integration mode\n"
     ]
    },
    {
     "data": {
      "application/vnd.jupyter.widget-view+json": {
       "model_id": "ff12908371b5452dbaf024c621ccdc05",
       "version_major": 2,
       "version_minor": 0
      },
      "text/plain": [
       "Canvas(toolbar=Toolbar(toolitems=[('Home', 'Reset original view', 'home', 'home'), ('Back', 'Back to previous …"
      ]
     },
     "metadata": {},
     "output_type": "display_data"
    },
    {
     "name": "stdout",
     "output_type": "stream",
     "text": [
      "Calculating ratio trace for neuron66 for integration mode\n"
     ]
    },
    {
     "data": {
      "application/vnd.jupyter.widget-view+json": {
       "model_id": "06151684b1544d22bddc7f49234f51c7",
       "version_major": 2,
       "version_minor": 0
      },
      "text/plain": [
       "Canvas(toolbar=Toolbar(toolitems=[('Home', 'Reset original view', 'home', 'home'), ('Back', 'Back to previous …"
      ]
     },
     "metadata": {},
     "output_type": "display_data"
    },
    {
     "name": "stdout",
     "output_type": "stream",
     "text": [
      "Calculating ratio trace for neuron63 for integration mode\n"
     ]
    },
    {
     "data": {
      "application/vnd.jupyter.widget-view+json": {
       "model_id": "af35efc425214e74a9fb7651f6404540",
       "version_major": 2,
       "version_minor": 0
      },
      "text/plain": [
       "Canvas(toolbar=Toolbar(toolitems=[('Home', 'Reset original view', 'home', 'home'), ('Back', 'Back to previous …"
      ]
     },
     "metadata": {},
     "output_type": "display_data"
    },
    {
     "name": "stdout",
     "output_type": "stream",
     "text": [
      "Calculating ratio trace for neuron43 for integration mode\n"
     ]
    },
    {
     "data": {
      "application/vnd.jupyter.widget-view+json": {
       "model_id": "e3cb71b672ac429aa626573cbb3cdb54",
       "version_major": 2,
       "version_minor": 0
      },
      "text/plain": [
       "Canvas(toolbar=Toolbar(toolitems=[('Home', 'Reset original view', 'home', 'home'), ('Back', 'Back to previous …"
      ]
     },
     "metadata": {},
     "output_type": "display_data"
    }
   ],
   "source": [
    "name_guesses = {'neuron35': 'AVA',\n",
    "               'neuron33': 'AVE',\n",
    "               'neuron5': 'RIB',\n",
    "               'neuron3': 'RIM',\n",
    "               'neuron40': 'RID',\n",
    "               'neuron67': 'unknown',\n",
    "               'neuron66': 'AVB',\n",
    "               'neuron63': 'unknown_bleaching',\n",
    "               'neuron43': 'unknown_oscillating'}\n",
    "\n",
    "# Outlier parameters\n",
    "thresh = 0.05\n",
    "\n",
    "%matplotlib widget\n",
    "for k, v in name_guesses.items():\n",
    "    y = dat.calculate_traces('ratio', 'integration', k)\n",
    "    plt.figure(figsize=(25,5))\n",
    "    plt.plot(y, lw=3, label='Raw signal')\n",
    "    plt.xlabel('Frames')\n",
    "    plt.xlim([0, 1500])\n",
    "    plt.ylabel('Green / Red')\n",
    "    plt.title(f\"Possible ID: {v}\")\n",
    "    dat.shade_axis_using_behavior(plt.gca(), behaviors_to_ignore=[2])\n",
    "    \n",
    "    # Remove outliers via simple error calculation\n",
    "    y_filt = y.rolling(10, min_periods=1).mean()\n",
    "    error = np.abs(y - y_filt)\n",
    "    is_outlier = error > thresh\n",
    "    y[is_outlier] = np.nan\n",
    "    \n",
    "#     y_filt = y.rolling(3, min_periods=1).mean()\n",
    "#     plt.plot(y_filt, label='Weakly filtered signal')\n",
    "    \n",
    "    y_filt = y.interpolate(method='linear')\n",
    "    y_filt = y_filt.rolling(7, min_periods=1).mean()\n",
    "    plt.plot(y_filt, label='Bicubic filtered signal')\n",
    "    \n",
    "    plt.legend()\n",
    "    \n",
    "    out_fname = f\"{v}_linear_and_movmean_ratio.png\"\n",
    "    plt.savefig(out_fname)"
   ]
  },
  {
   "cell_type": "code",
   "execution_count": null,
   "id": "cfdcf81d-d3da-4e13-8f16-5ba8217f7bf3",
   "metadata": {},
   "outputs": [],
   "source": []
  },
  {
   "cell_type": "markdown",
   "id": "fd8416ff-0293-4049-aac8-d73c550a22c6",
   "metadata": {},
   "source": [
    "# Filtered Red"
   ]
  },
  {
   "cell_type": "code",
   "execution_count": 41,
   "id": "b2fd4af0-2a79-4921-b417-43bc68e10802",
   "metadata": {},
   "outputs": [
    {
     "name": "stdout",
     "output_type": "stream",
     "text": [
      "Calculating red trace for neuron35 for integration mode\n"
     ]
    },
    {
     "data": {
      "application/vnd.jupyter.widget-view+json": {
       "model_id": "5113a19fb80a438faecbb401c56eed29",
       "version_major": 2,
       "version_minor": 0
      },
      "text/plain": [
       "Canvas(toolbar=Toolbar(toolitems=[('Home', 'Reset original view', 'home', 'home'), ('Back', 'Back to previous …"
      ]
     },
     "metadata": {},
     "output_type": "display_data"
    },
    {
     "name": "stdout",
     "output_type": "stream",
     "text": [
      "Calculating red trace for neuron33 for integration mode\n"
     ]
    },
    {
     "data": {
      "application/vnd.jupyter.widget-view+json": {
       "model_id": "c65fc4a0f0154d2d9b7b057695083621",
       "version_major": 2,
       "version_minor": 0
      },
      "text/plain": [
       "Canvas(toolbar=Toolbar(toolitems=[('Home', 'Reset original view', 'home', 'home'), ('Back', 'Back to previous …"
      ]
     },
     "metadata": {},
     "output_type": "display_data"
    },
    {
     "name": "stdout",
     "output_type": "stream",
     "text": [
      "Calculating red trace for neuron5 for integration mode\n"
     ]
    },
    {
     "data": {
      "application/vnd.jupyter.widget-view+json": {
       "model_id": "b5606a6be9e945edb2e688a8cded326d",
       "version_major": 2,
       "version_minor": 0
      },
      "text/plain": [
       "Canvas(toolbar=Toolbar(toolitems=[('Home', 'Reset original view', 'home', 'home'), ('Back', 'Back to previous …"
      ]
     },
     "metadata": {},
     "output_type": "display_data"
    },
    {
     "name": "stdout",
     "output_type": "stream",
     "text": [
      "Calculating red trace for neuron3 for integration mode\n"
     ]
    },
    {
     "data": {
      "application/vnd.jupyter.widget-view+json": {
       "model_id": "1c64e47f7e6a41bb89c8466b38c711ba",
       "version_major": 2,
       "version_minor": 0
      },
      "text/plain": [
       "Canvas(toolbar=Toolbar(toolitems=[('Home', 'Reset original view', 'home', 'home'), ('Back', 'Back to previous …"
      ]
     },
     "metadata": {},
     "output_type": "display_data"
    },
    {
     "name": "stdout",
     "output_type": "stream",
     "text": [
      "Calculating red trace for neuron40 for integration mode\n"
     ]
    },
    {
     "data": {
      "application/vnd.jupyter.widget-view+json": {
       "model_id": "f1ba241a46c94589beef628bd3743a99",
       "version_major": 2,
       "version_minor": 0
      },
      "text/plain": [
       "Canvas(toolbar=Toolbar(toolitems=[('Home', 'Reset original view', 'home', 'home'), ('Back', 'Back to previous …"
      ]
     },
     "metadata": {},
     "output_type": "display_data"
    },
    {
     "name": "stdout",
     "output_type": "stream",
     "text": [
      "Calculating red trace for neuron67 for integration mode\n"
     ]
    },
    {
     "data": {
      "application/vnd.jupyter.widget-view+json": {
       "model_id": "f887fb2c78a549ba839f8e2e824195c2",
       "version_major": 2,
       "version_minor": 0
      },
      "text/plain": [
       "Canvas(toolbar=Toolbar(toolitems=[('Home', 'Reset original view', 'home', 'home'), ('Back', 'Back to previous …"
      ]
     },
     "metadata": {},
     "output_type": "display_data"
    },
    {
     "name": "stdout",
     "output_type": "stream",
     "text": [
      "Calculating red trace for neuron66 for integration mode\n"
     ]
    },
    {
     "data": {
      "application/vnd.jupyter.widget-view+json": {
       "model_id": "26676a542de54d6ea503b6599aeb9b42",
       "version_major": 2,
       "version_minor": 0
      },
      "text/plain": [
       "Canvas(toolbar=Toolbar(toolitems=[('Home', 'Reset original view', 'home', 'home'), ('Back', 'Back to previous …"
      ]
     },
     "metadata": {},
     "output_type": "display_data"
    },
    {
     "name": "stdout",
     "output_type": "stream",
     "text": [
      "Calculating red trace for neuron63 for integration mode\n"
     ]
    },
    {
     "data": {
      "application/vnd.jupyter.widget-view+json": {
       "model_id": "e265f1479f144e17b84118adfb6afdbe",
       "version_major": 2,
       "version_minor": 0
      },
      "text/plain": [
       "Canvas(toolbar=Toolbar(toolitems=[('Home', 'Reset original view', 'home', 'home'), ('Back', 'Back to previous …"
      ]
     },
     "metadata": {},
     "output_type": "display_data"
    },
    {
     "name": "stdout",
     "output_type": "stream",
     "text": [
      "Calculating red trace for neuron43 for integration mode\n"
     ]
    },
    {
     "data": {
      "application/vnd.jupyter.widget-view+json": {
       "model_id": "479174da948f4d638289a8fbe8dddb96",
       "version_major": 2,
       "version_minor": 0
      },
      "text/plain": [
       "Canvas(toolbar=Toolbar(toolitems=[('Home', 'Reset original view', 'home', 'home'), ('Back', 'Back to previous …"
      ]
     },
     "metadata": {},
     "output_type": "display_data"
    }
   ],
   "source": [
    "name_guesses = {'neuron35': 'AVA',\n",
    "               'neuron33': 'AVE',\n",
    "               'neuron5': 'RIB',\n",
    "               'neuron3': 'RIM',\n",
    "               'neuron40': 'RID',\n",
    "               'neuron67': 'unknown',\n",
    "               'neuron66': 'AVB',\n",
    "               'neuron63': 'unknown_bleaching',\n",
    "               'neuron43': 'unknown_oscillating'}\n",
    "\n",
    "# Outlier parameters\n",
    "thresh = 10000\n",
    "\n",
    "%matplotlib widget\n",
    "for k, v in name_guesses.items():\n",
    "    y = dat.calculate_traces('red', 'integration', k)\n",
    "    plt.figure(figsize=(25,5))\n",
    "    plt.plot(y, label='Raw signal')\n",
    "    plt.xlabel('Frames')\n",
    "    plt.xlim([0, 1500])\n",
    "    plt.ylabel('Red')\n",
    "    plt.title(f\"Possible ID: {v}\")\n",
    "    dat.shade_axis_using_behavior(plt.gca(), behaviors_to_ignore=[2])\n",
    "    \n",
    "    # Remove outliers via simple error calculation\n",
    "    y_filt = y.rolling(10, min_periods=1).mean()\n",
    "    error = np.abs(y - y_filt)\n",
    "    is_outlier = error > thresh\n",
    "    y[is_outlier] = np.nan\n",
    "    \n",
    "    y_filt = y.rolling(7, min_periods=3).mean()\n",
    "    plt.plot(y_filt, label='Strongly filtered signal')\n",
    "    \n",
    "    plt.legend()\n",
    "    \n",
    "#     break\n",
    "    out_fname = f\"{v}_filtered_and_raw_red.png\"\n",
    "    plt.savefig(out_fname)"
   ]
  },
  {
   "cell_type": "code",
   "execution_count": 20,
   "id": "2dd54bf8-639b-42a7-8cbc-1214ab72b0cc",
   "metadata": {},
   "outputs": [
    {
     "data": {
      "application/vnd.jupyter.widget-view+json": {
       "model_id": "11acc360d94b42dd8ec270abbbe57d5b",
       "version_major": 2,
       "version_minor": 0
      },
      "text/plain": [
       "Canvas(toolbar=Toolbar(toolitems=[('Home', 'Reset original view', 'home', 'home'), ('Back', 'Back to previous …"
      ]
     },
     "metadata": {},
     "output_type": "display_data"
    },
    {
     "data": {
      "text/plain": [
       "[<matplotlib.lines.Line2D at 0x27c8414f308>]"
      ]
     },
     "execution_count": 20,
     "metadata": {},
     "output_type": "execute_result"
    }
   ],
   "source": [
    "%matplotlib widget\n",
    "\n",
    "error = np.abs(y - y_filt)\n",
    "thresh = 0.1\n",
    "is_outlier = error > thresh\n",
    "plt.plot(is_outlier)"
   ]
  },
  {
   "cell_type": "code",
   "execution_count": 22,
   "id": "2885d302-1f1b-4e04-94df-eb6958be1a67",
   "metadata": {},
   "outputs": [],
   "source": [
    "y[is_outlier] = np.nan"
   ]
  },
  {
   "cell_type": "markdown",
   "id": "21b3c83d-0810-4d34-ab83-defe756faed5",
   "metadata": {},
   "source": [
    "# MIP with numbered neurons\n"
   ]
  },
  {
   "cell_type": "code",
   "execution_count": 3,
   "id": "ae63be4c-ff06-49e1-a3f6-dce153f92ce3",
   "metadata": {},
   "outputs": [],
   "source": [
    "from DLC_for_WBFM.utils.visualization.napari_from_config import create_text_labels_for_napari"
   ]
  },
  {
   "cell_type": "code",
   "execution_count": 4,
   "id": "36ddc285-c013-46a8-9e85-8f2c3b3c089b",
   "metadata": {},
   "outputs": [],
   "source": [
    "opt = create_text_labels_for_napari(dat.red_traces)"
   ]
  },
  {
   "cell_type": "code",
   "execution_count": null,
   "id": "67050f0c-5711-42b0-8202-961074584495",
   "metadata": {},
   "outputs": [],
   "source": []
  }
 ],
 "metadata": {
  "kernelspec": {
   "display_name": "Python [conda env:DLC-for-WBFM] *",
   "language": "python",
   "name": "conda-env-DLC-for-WBFM-py"
  },
  "language_info": {
   "codemirror_mode": {
    "name": "ipython",
    "version": 3
   },
   "file_extension": ".py",
   "mimetype": "text/x-python",
   "name": "python",
   "nbconvert_exporter": "python",
   "pygments_lexer": "ipython3",
   "version": "3.7.10"
  }
 },
 "nbformat": 4,
 "nbformat_minor": 5
}
