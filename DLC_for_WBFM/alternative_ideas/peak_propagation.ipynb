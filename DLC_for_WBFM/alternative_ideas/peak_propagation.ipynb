{
 "cells": [
  {
   "cell_type": "markdown",
   "id": "0c3aebdc-a253-4a79-982e-c516d234695d",
   "metadata": {},
   "source": [
    "# Peak propagation"
   ]
  },
  {
   "cell_type": "code",
   "execution_count": 2,
   "id": "18c2fd2b-9604-4a4a-bd21-7b0d3364d4bb",
   "metadata": {},
   "outputs": [],
   "source": [
    "from DLC_for_WBFM.utils.projects.finished_project_data import finished_project_data\n",
    "import numpy as np\n",
    "import matplotlib.pyplot as plt\n",
    "import pickle\n",
    "import napari, zarr\n",
    "from skimage.transform import PiecewiseAffineTransform, warp\n",
    "from scipy.spatial import KDTree"
   ]
  },
  {
   "cell_type": "code",
   "execution_count": 3,
   "id": "080fe236-fe1d-4a3c-807d-f5a99a69bf6f",
   "metadata": {},
   "outputs": [],
   "source": [
    "fname = r\"C:\\dlc_stacks\\Charlie-worm3-new-seg\\project_config.yaml\"\n",
    "dat = finished_project_data.load_final_project_data_from_config(fname)"
   ]
  },
  {
   "cell_type": "code",
   "execution_count": 5,
   "id": "aa54b7ea-0557-492c-96c5-34c6397114b8",
   "metadata": {},
   "outputs": [
    {
     "name": "stderr",
     "output_type": "stream",
     "text": [
      "C:\\Users\\charles.fieseler\\Anaconda3\\envs\\DLC-for-WBFM\\lib\\site-packages\\sklearn\\base.py:334: UserWarning: Trying to unpickle estimator GaussianProcessRegressor from version 0.24.2 when using version 0.23.2. This might lead to breaking code or invalid results. Use at your own risk.\n",
      "  UserWarning)\n"
     ]
    }
   ],
   "source": [
    "fname = r\"C:\\dlc_stacks\\Test_project\\2-training_data\\raw\\match_dat.pickle\"\n",
    "with open(fname, 'rb') as f:\n",
    "    matches = pickle.load(f)\n",
    "    \n",
    "fname = r\"C:\\dlc_stacks\\Test_project\\2-training_data\\raw\\frame_dat.pickle\"\n",
    "with open(fname, 'rb') as f:\n",
    "    frames = pickle.load(f)"
   ]
  },
  {
   "cell_type": "markdown",
   "id": "b5aa20e2-a709-4c44-bd7e-d32f982aaa28",
   "metadata": {},
   "source": [
    "# Check default affine to the points"
   ]
  },
  {
   "cell_type": "code",
   "execution_count": 11,
   "id": "a822a1d7-061f-4a2b-8d9f-f9e10d8d562c",
   "metadata": {},
   "outputs": [],
   "source": [
    "pair = (0, 1)\n",
    "f0, f1 = frames[pair[0]], frames[pair[1]]"
   ]
  },
  {
   "cell_type": "code",
   "execution_count": 17,
   "id": "c2784213-a7a7-4dc8-87de-74e7956916a9",
   "metadata": {},
   "outputs": [],
   "source": [
    "# Get initial affine locations\n",
    "affine_zxy = matches[pair].affine_pushed_locations\n",
    "affine_zxy = affine_zxy[:, [0,2,1]]\n",
    "\n",
    "# Get image\n",
    "vol = dat.red_data[pair[1], ...]\n",
    "# vol_filtered = gaussian(vol, sigma=1)\n",
    "\n",
    "# Get locations of target neurons\n",
    "target_zxy = f1.neuron_locs\n",
    "target_zxy = target_zxy[:, [0,2,1]]"
   ]
  },
  {
   "cell_type": "code",
   "execution_count": 18,
   "id": "f8e192da-5f11-4e1e-a18e-39a6690b0e4b",
   "metadata": {},
   "outputs": [],
   "source": [
    "# Only check the ones with no match\n",
    "f0_to_f1_matches = matches[pair].get_f0_to_f1_dict()\n",
    "has_match_ind = list(f0_to_f1_matches.keys())\n",
    "no_match_ind = list(range(frames[pair[0]].num_neurons()))\n",
    "[no_match_ind.remove(i) for i in has_match_ind]\n",
    "\n",
    "# Set up kdtree to check nearest neighbor\n",
    "tree = KDTree(target_zxy)\n",
    "\n",
    "# Parameters\n",
    "brightness_thresh = 25\n",
    "distance_thresh = 5.0"
   ]
  },
  {
   "cell_type": "code",
   "execution_count": 21,
   "id": "c13df121-0070-46d7-82eb-a5055b976922",
   "metadata": {},
   "outputs": [],
   "source": [
    "# F1 matches\n",
    "has_match_ind = set(f0_to_f1_matches.values())\n",
    "target_zxy_matched = [row for i, row in enumerate(target_zxy) if i in has_match_ind]\n",
    "target_zxy_unmatched = [row for i, row in enumerate(target_zxy) if i not in has_match_ind]\n",
    "\n",
    "# F0 matches\n",
    "has_match_ind = set(f0_to_f1_matches.keys())\n",
    "\n",
    "affine_zxy_matched = [row for i, row in enumerate(affine_zxy) if i in has_match_ind]\n",
    "affine_zxy_unmatched = [row for i, row in enumerate(affine_zxy) if i not in has_match_ind]"
   ]
  },
  {
   "cell_type": "code",
   "execution_count": 30,
   "id": "dfc110a6-9ad6-4320-9d20-9862c3ab7eec",
   "metadata": {},
   "outputs": [
    {
     "name": "stdout",
     "output_type": "stream",
     "text": [
      "Added? Brightness? Neighbor?\n",
      "True 45 6.821041040113981\n",
      "False 0 269.7365020135102\n",
      "False 0 269.7365020135102\n",
      "False 0 269.7365020135102\n",
      "True 26 13.320621685171922\n",
      "False 41 4.8755225475571695\n",
      "True 52 6.286293802576122\n",
      "True 33 5.373181147692626\n",
      "True 39 6.086906786119055\n",
      "False 21 14.908471174282477\n",
      "Added 5/10 neurons from f0 to f1\n"
     ]
    }
   ],
   "source": [
    "new_f1_zxy = []\n",
    "new_matches = []\n",
    "next_f1_ind = frames[pair[1]].num_neurons() + 1\n",
    "\n",
    "print(\"Added? Brightness? Neighbor?\")\n",
    "\n",
    "for ind_f0 in no_match_ind:\n",
    "    pushed_zxy = affine_zxy[ind_f0, :]\n",
    "    z, x, y = int(pushed_zxy[0]), int(pushed_zxy[1]), int(pushed_zxy[2])\n",
    "    brightness = vol[z, x, y]\n",
    "    \n",
    "    nn_dist, _ = tree.query(pushed_zxy, k=1)\n",
    "    \n",
    "    to_keep = (brightness > brightness_thresh) and (nn_dist > distance_thresh)\n",
    "    print(to_keep, brightness, nn_dist)\n",
    "    if to_keep:\n",
    "        new_matches.append([ind_f0, next_f1_ind, 1.0])\n",
    "        next_f1_ind += 1\n",
    "        new_f1_zxy.append(pushed_zxy)\n",
    "\n",
    "print(f\"Added {len(new_matches)}/{len(no_match_ind)} neurons from f0 to f1\")"
   ]
  },
  {
   "cell_type": "code",
   "execution_count": 24,
   "id": "8632b249-8ff8-41a8-bfc6-748e4ea96fb4",
   "metadata": {},
   "outputs": [
    {
     "data": {
      "text/plain": [
       "<Points layer 'Points [2]' at 0x1f18c682f88>"
      ]
     },
     "execution_count": 24,
     "metadata": {},
     "output_type": "execute_result"
    }
   ],
   "source": [
    "# Plot using napari\n",
    "v = napari.view_image(dat.red_data[pair[1]], ndisplay=3)\n",
    "v.add_points(new_f1_zxy, size=3, face_color='green', symbol='x', n_dimensional=True)\n",
    "# v.add_points(affine_zxy_unmatched, size=3, face_color='red', symbol='x', n_dimensional=True)\n",
    "v.add_points(target_zxy_matched, size=5, symbol='ring', face_color='blue', n_dimensional=True)\n",
    "v.add_points(target_zxy_unmatched, size=5, symbol='ring', face_color='red', n_dimensional=True)"
   ]
  },
  {
   "cell_type": "markdown",
   "id": "51b97c77-6267-49fd-a06b-bef26c7a73b1",
   "metadata": {},
   "source": [
    "# Improve the affine model using additional ORB feature matches"
   ]
  },
  {
   "cell_type": "code",
   "execution_count": 25,
   "id": "dcd81c80-f044-4eb6-9142-d3ef5f66f1e3",
   "metadata": {},
   "outputs": [
    {
     "data": {
      "text/plain": [
       "FramePair with 115 matches "
      ]
     },
     "execution_count": 25,
     "metadata": {},
     "output_type": "execute_result"
    }
   ],
   "source": [
    "matches[pair]"
   ]
  },
  {
   "cell_type": "code",
   "execution_count": 26,
   "id": "4d773efb-6e69-48a4-aa7a-42dc7767ad30",
   "metadata": {},
   "outputs": [
    {
     "data": {
      "text/plain": [
       "ReferenceFrame with 125 neurons "
      ]
     },
     "execution_count": 26,
     "metadata": {},
     "output_type": "execute_result"
    }
   ],
   "source": [
    "f0"
   ]
  },
  {
   "cell_type": "code",
   "execution_count": 27,
   "id": "bc182dd1-a574-43c9-b0fa-f434d8bdcd79",
   "metadata": {},
   "outputs": [
    {
     "data": {
      "text/plain": [
       "ReferenceFrame with 136 neurons "
      ]
     },
     "execution_count": 27,
     "metadata": {},
     "output_type": "execute_result"
    }
   ],
   "source": [
    "f1"
   ]
  },
  {
   "cell_type": "code",
   "execution_count": null,
   "id": "28d0b692-5a80-42fe-a8e6-7b9fc3f2f913",
   "metadata": {},
   "outputs": [],
   "source": []
  }
 ],
 "metadata": {
  "kernelspec": {
   "display_name": "Python [conda env:DLC-for-WBFM]",
   "language": "python",
   "name": "conda-env-DLC-for-WBFM-py"
  },
  "language_info": {
   "codemirror_mode": {
    "name": "ipython",
    "version": 3
   },
   "file_extension": ".py",
   "mimetype": "text/x-python",
   "name": "python",
   "nbconvert_exporter": "python",
   "pygments_lexer": "ipython3",
   "version": "3.7.10"
  }
 },
 "nbformat": 4,
 "nbformat_minor": 5
}
