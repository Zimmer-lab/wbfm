{
 "cells": [
  {
   "cell_type": "markdown",
   "id": "5830b566-e6b5-40ab-ae07-c2fc4b1c75cc",
   "metadata": {},
   "source": [
    "# Experiments with GP pushing and then simulated annealing for finalization"
   ]
  },
  {
   "cell_type": "code",
   "execution_count": 2,
   "id": "852a500a-c726-458b-b2a1-e07ebaac1bc6",
   "metadata": {},
   "outputs": [
    {
     "name": "stderr",
     "output_type": "stream",
     "text": [
      "In C:\\Users\\charles.fieseler\\Anaconda3\\envs\\DLC-for-WBFM\\lib\\site-packages\\matplotlib\\mpl-data\\stylelib\\_classic_test.mplstyle: \n",
      "The text.latex.preview rcparam was deprecated in Matplotlib 3.3 and will be removed two minor releases later.\n",
      "In C:\\Users\\charles.fieseler\\Anaconda3\\envs\\DLC-for-WBFM\\lib\\site-packages\\matplotlib\\mpl-data\\stylelib\\_classic_test.mplstyle: \n",
      "The mathtext.fallback_to_cm rcparam was deprecated in Matplotlib 3.3 and will be removed two minor releases later.\n",
      "In C:\\Users\\charles.fieseler\\Anaconda3\\envs\\DLC-for-WBFM\\lib\\site-packages\\matplotlib\\mpl-data\\stylelib\\_classic_test.mplstyle: Support for setting the 'mathtext.fallback_to_cm' rcParam is deprecated since 3.3 and will be removed two minor releases later; use 'mathtext.fallback : 'cm' instead.\n",
      "In C:\\Users\\charles.fieseler\\Anaconda3\\envs\\DLC-for-WBFM\\lib\\site-packages\\matplotlib\\mpl-data\\stylelib\\_classic_test.mplstyle: \n",
      "The validate_bool_maybe_none function was deprecated in Matplotlib 3.3 and will be removed two minor releases later.\n",
      "In C:\\Users\\charles.fieseler\\Anaconda3\\envs\\DLC-for-WBFM\\lib\\site-packages\\matplotlib\\mpl-data\\stylelib\\_classic_test.mplstyle: \n",
      "The savefig.jpeg_quality rcparam was deprecated in Matplotlib 3.3 and will be removed two minor releases later.\n",
      "In C:\\Users\\charles.fieseler\\Anaconda3\\envs\\DLC-for-WBFM\\lib\\site-packages\\matplotlib\\mpl-data\\stylelib\\_classic_test.mplstyle: \n",
      "The keymap.all_axes rcparam was deprecated in Matplotlib 3.3 and will be removed two minor releases later.\n",
      "In C:\\Users\\charles.fieseler\\Anaconda3\\envs\\DLC-for-WBFM\\lib\\site-packages\\matplotlib\\mpl-data\\stylelib\\_classic_test.mplstyle: \n",
      "The animation.avconv_path rcparam was deprecated in Matplotlib 3.3 and will be removed two minor releases later.\n",
      "In C:\\Users\\charles.fieseler\\Anaconda3\\envs\\DLC-for-WBFM\\lib\\site-packages\\matplotlib\\mpl-data\\stylelib\\_classic_test.mplstyle: \n",
      "The animation.avconv_args rcparam was deprecated in Matplotlib 3.3 and will be removed two minor releases later.\n"
     ]
    }
   ],
   "source": [
    "from DLC_for_WBFM.utils.projects.finished_project_data import finished_project_data\n",
    "import numpy as np\n",
    "import matplotlib.pyplot as plt\n",
    "import pickle\n",
    "import napari, zarr"
   ]
  },
  {
   "cell_type": "code",
   "execution_count": 3,
   "id": "e99ec9f1-3239-4260-abdf-e40d99492b5a",
   "metadata": {},
   "outputs": [],
   "source": [
    "fname = r\"C:\\dlc_stacks\\Charlie-worm3-new-seg\\project_config.yaml\"\n",
    "dat = finished_project_data.load_final_project_data_from_config(fname)"
   ]
  },
  {
   "cell_type": "code",
   "execution_count": 4,
   "id": "1f8477c0-ba7a-4a3b-9458-e4dbaa113c15",
   "metadata": {},
   "outputs": [
    {
     "name": "stderr",
     "output_type": "stream",
     "text": [
      "C:\\Users\\charles.fieseler\\Anaconda3\\envs\\DLC-for-WBFM\\lib\\site-packages\\sklearn\\base.py:334: UserWarning: Trying to unpickle estimator GaussianProcessRegressor from version 0.24.2 when using version 0.23.2. This might lead to breaking code or invalid results. Use at your own risk.\n",
      "  UserWarning)\n"
     ]
    }
   ],
   "source": [
    "fname = r\"C:\\dlc_stacks\\Charlie-worm3-new-seg\\2-training_data\\raw\\match_dat.pickle\"\n",
    "with open(fname, 'rb') as f:\n",
    "    matches = pickle.load(f)\n",
    "    \n",
    "fname = r\"C:\\dlc_stacks\\Charlie-worm3-new-seg\\2-training_data\\raw\\frame_dat.pickle\"\n",
    "with open(fname, 'rb') as f:\n",
    "    frames = pickle.load(f)"
   ]
  },
  {
   "cell_type": "markdown",
   "id": "aa5a64f2-2a49-4e4d-a10f-fea62a1c6e17",
   "metadata": {},
   "source": [
    "# Visualize the pushed neurons on the next frame"
   ]
  },
  {
   "cell_type": "code",
   "execution_count": 5,
   "id": "7c271727-fc5e-470b-8762-0fe8765f7bfc",
   "metadata": {},
   "outputs": [
    {
     "name": "stdout",
     "output_type": "stream",
     "text": [
      "FramePair with 134 matches \n",
      "\n",
      "=======================================\n",
      "                ReferenceFrame:\n",
      "                Frame index: 0 \n",
      "                Number of neurons: 148 \n",
      " =======================================\n",
      "                ReferenceFrame:\n",
      "                Frame index: 1 \n",
      "                Number of neurons: 151 \n",
      "\n"
     ]
    }
   ],
   "source": [
    "pair = (0, 1)\n",
    "print(matches[pair])\n",
    "print(frames[pair[0]], frames[pair[1]])"
   ]
  },
  {
   "cell_type": "code",
   "execution_count": 6,
   "id": "aa9cf427-9789-40ac-a225-9fea34f97756",
   "metadata": {},
   "outputs": [],
   "source": [
    "# Get locations of target neurons\n",
    "target_zxy = frames[pair[1]].neuron_locs\n",
    "target_zxy = target_zxy[:, [0,2,1]]"
   ]
  },
  {
   "cell_type": "code",
   "execution_count": 7,
   "id": "5db58fcd-c212-4aae-9ce5-a0742c3fcef7",
   "metadata": {},
   "outputs": [],
   "source": [
    "# Get gp pushed locations\n",
    "\n",
    "gp_zxy = matches[pair].gp_pushed_locations\n",
    "# Replace z coordinate, which is somehow crazy\n",
    "gp_zxy[:, 0] = frames[pair[0]].neuron_locs[:, 0]\n",
    "gp_zxy = gp_zxy[:, [0,2,1]]\n",
    "\n",
    "affine_zxy = matches[pair].affine_pushed_locations\n",
    "# Replace z coordinate, which is somehow crazy\n",
    "# affine_zxy[:, 0] = frames[pair[0]].neuron_locs[:, 0]\n",
    "affine_zxy = affine_zxy[:, [0,2,1]]"
   ]
  },
  {
   "cell_type": "code",
   "execution_count": 8,
   "id": "faf756d6-bddb-438c-b1b7-98458e3a6cde",
   "metadata": {},
   "outputs": [],
   "source": [
    "# Split by \"has match\"\n",
    "f0_to_f1_matches = {n0: n1 for n0, n1, _ in matches[pair].final_matches}\n",
    "\n",
    "# F1 matches\n",
    "has_match_ind = set(f0_to_f1_matches.values())\n",
    "target_xyz_matched = [row for i, row in enumerate(target_zxy) if i in has_match_ind]\n",
    "target_xyz_unmatched = [row for i, row in enumerate(target_zxy) if i not in has_match_ind]\n",
    "\n",
    "# F0 matches\n",
    "has_match_ind = set(f0_to_f1_matches.keys())\n",
    "\n",
    "gp_xyz_matched = [row for i, row in enumerate(gp_zxy) if i in has_match_ind]\n",
    "gp_xyz_unmatched = [row for i, row in enumerate(gp_zxy) if i not in has_match_ind]\n",
    "\n",
    "affine_xyz_matched = [row for i, row in enumerate(affine_zxy) if i in has_match_ind]\n",
    "affine_xyz_unmatched = [row for i, row in enumerate(affine_zxy) if i not in has_match_ind]"
   ]
  },
  {
   "cell_type": "code",
   "execution_count": 9,
   "id": "f956a44b-cfeb-4cf5-9658-95c5065e7595",
   "metadata": {},
   "outputs": [
    {
     "data": {
      "text/plain": [
       "<Points layer 'Points [3]' at 0x21deeb64588>"
      ]
     },
     "execution_count": 9,
     "metadata": {},
     "output_type": "execute_result"
    }
   ],
   "source": [
    "# Plot using napari\n",
    "v = napari.view_image(dat.red_data[pair[1]], ndisplay=3)\n",
    "# v.add_points(gp_xyz_matched, size=3, face_color='green', n_dimensional=True)\n",
    "v.add_points(gp_xyz_unmatched, size=3, face_color='red', n_dimensional=True)\n",
    "# v.add_points(affine_xyz_matched, size=3, face_color='green', symbol='x', n_dimensional=True)\n",
    "v.add_points(affine_xyz_unmatched, size=3, face_color='red', symbol='x', n_dimensional=True)\n",
    "v.add_points(target_xyz_matched, size=5, symbol='ring', face_color='blue', n_dimensional=True)\n",
    "v.add_points(target_xyz_unmatched, size=5, symbol='ring', face_color='red', n_dimensional=True)"
   ]
  },
  {
   "cell_type": "code",
   "execution_count": null,
   "id": "ba692ea2-9a06-4000-b6b0-46e3798cdacb",
   "metadata": {},
   "outputs": [],
   "source": [
    "\n",
    "# Get gradient images (not in z)\n",
    "# vol = dat.red_data[pair[1], ...]\n",
    "# vol_filtered = gaussian(vol, sigma=1)\n",
    "# thresh = 1.5*np.mean(vol_filtered)\n",
    "# mask = vol_filtered > thresh\n",
    "# vol_gradient_x = sobel_h(vol_filtered, mask)\n",
    "# vol_gradient_y = sobel_v(vol_filtered, mask)"
   ]
  },
  {
   "cell_type": "markdown",
   "id": "deea031a-a12a-4a11-9d42-6c8f9522c6d7",
   "metadata": {},
   "source": [
    "# Actually do it (no annealing)"
   ]
  },
  {
   "cell_type": "code",
   "execution_count": 10,
   "id": "32a8e0c7-c9e5-4ef1-aaa7-183b9d945d5d",
   "metadata": {},
   "outputs": [],
   "source": [
    "# from skimage.filters import gaussian, sobel_h, sobel_v\n",
    "from scipy.spatial import KDTree"
   ]
  },
  {
   "cell_type": "code",
   "execution_count": 11,
   "id": "19146984-7d0a-4aee-b6eb-9e5dbde90279",
   "metadata": {},
   "outputs": [],
   "source": [
    "pair = (1, 2)"
   ]
  },
  {
   "cell_type": "code",
   "execution_count": 12,
   "id": "baf294f3-9fee-4f4c-8f98-e48a63ac3b4a",
   "metadata": {},
   "outputs": [],
   "source": [
    "# Get initial affine locations\n",
    "affine_zxy = matches[pair].affine_pushed_locations\n",
    "affine_zxy = affine_zxy[:, [0,2,1]]\n",
    "\n",
    "# Get image\n",
    "vol = dat.red_data[pair[1], ...]\n",
    "# vol_filtered = gaussian(vol, sigma=1)\n",
    "\n",
    "# Get locations of target neurons\n",
    "target_zxy = frames[pair[1]].neuron_locs\n",
    "target_zxy = target_zxy[:, [0,2,1]]"
   ]
  },
  {
   "cell_type": "code",
   "execution_count": 13,
   "id": "1b1dfa1b-f7cc-4a5e-95ef-3ed7cd2e7686",
   "metadata": {},
   "outputs": [],
   "source": [
    "# Only check the ones with no match\n",
    "f0_to_f1_matches = {n0: n1 for n0, n1, _ in matches[pair].final_matches}\n",
    "has_match_ind = list(f0_to_f1_matches.keys())\n",
    "no_match_ind = list(range(frames[pair[0]].num_neurons()))\n",
    "[no_match_ind.remove(i) for i in has_match_ind]\n",
    "\n",
    "# Set up kdtree to check nearest neighbor\n",
    "tree = KDTree(target_zxy)\n",
    "\n",
    "# Parameters\n",
    "brightness_thresh = 25\n",
    "distance_thresh = 5.0"
   ]
  },
  {
   "cell_type": "code",
   "execution_count": 24,
   "id": "aec94ec7-4bd5-40d0-a7c3-906313864388",
   "metadata": {},
   "outputs": [
    {
     "name": "stdout",
     "output_type": "stream",
     "text": [
      "False 0 278.634677184079\n",
      "False 22 6.514810434866421\n",
      "True 40 8.798306660844792\n",
      "False 31 3.65074508888712\n",
      "False 34 4.273267236144742\n",
      "True 36 9.445009640142503\n",
      "True 27 12.186874485455414\n",
      "True 35 7.80057086110525\n",
      "Added 4 neurons\n"
     ]
    }
   ],
   "source": [
    "new_f1_zxy = []\n",
    "new_matches = []\n",
    "next_f1_ind = frames[pair[1]].num_neurons() + 1\n",
    "\n",
    "for ind_f0 in no_match_ind:\n",
    "    pushed_zxy = affine_zxy[ind_f0, :]\n",
    "    z, x, y = int(pushed_zxy[0]), int(pushed_zxy[1]), int(pushed_zxy[2])\n",
    "    brightness = vol[z, x, y]\n",
    "    \n",
    "    nn_dist, _ = tree.query(pushed_zxy, k=1)\n",
    "    \n",
    "    to_keep = (brightness > brightness_thresh) and (nn_dist > distance_thresh)\n",
    "    print(to_keep, brightness, nn_dist)\n",
    "    if to_keep:\n",
    "        new_matches.append([ind_f0, next_f1_ind, 1.0])\n",
    "        next_f1_ind += 1\n",
    "        new_f1_zxy.append(pushed_zxy)\n",
    "\n",
    "print(f\"Added {len(new_matches)} neurons\")"
   ]
  },
  {
   "cell_type": "code",
   "execution_count": 25,
   "id": "d0da1640-d584-4017-8970-4845eb50a00c",
   "metadata": {},
   "outputs": [
    {
     "data": {
      "text/plain": [
       "<Points layer 'Points [3]' at 0x21df8569fc8>"
      ]
     },
     "execution_count": 25,
     "metadata": {},
     "output_type": "execute_result"
    }
   ],
   "source": [
    "# Plot using napari\n",
    "v = napari.view_image(dat.red_data[pair[1]], ndisplay=3)\n",
    "v.add_points(new_f1_zxy, size=3, face_color='green', symbol='x', n_dimensional=True)\n",
    "v.add_points(affine_xyz_unmatched, size=3, face_color='red', symbol='x', n_dimensional=True)\n",
    "v.add_points(target_xyz_matched, size=5, symbol='ring', face_color='blue', n_dimensional=True)\n",
    "v.add_points(target_xyz_unmatched, size=5, symbol='ring', face_color='red', n_dimensional=True)"
   ]
  },
  {
   "cell_type": "code",
   "execution_count": 28,
   "id": "a3a6a3ac-f770-4dea-ab0a-837bf377d912",
   "metadata": {},
   "outputs": [],
   "source": [
    "f0, f1 = frames[pair[0]], frames[pair[1]]"
   ]
  },
  {
   "cell_type": "code",
   "execution_count": 35,
   "id": "2a99f243-e643-44ad-9919-63419db880f0",
   "metadata": {},
   "outputs": [
    {
     "data": {
      "text/plain": [
       "151"
      ]
     },
     "execution_count": 35,
     "metadata": {},
     "output_type": "execute_result"
    }
   ],
   "source": [
    "len(f0.keypoint_locs)"
   ]
  },
  {
   "cell_type": "markdown",
   "id": "7457a5f3-b1de-4993-8e91-fcf3c2140f5e",
   "metadata": {},
   "source": [
    "# Use piecewise affine"
   ]
  },
  {
   "cell_type": "code",
   "execution_count": 4,
   "id": "f7a9e2fb-06df-4048-9af6-abc80998ce0a",
   "metadata": {
    "tags": []
   },
   "outputs": [
    {
     "name": "stdout",
     "output_type": "stream",
     "text": [
      "FramePair with 134 matches \n",
      "\n",
      "=======================================\n",
      "                ReferenceFrame:\n",
      "                Frame index: 0 \n",
      "                Number of neurons: 148 \n",
      " =======================================\n",
      "                ReferenceFrame:\n",
      "                Frame index: 1 \n",
      "                Number of neurons: 151 \n",
      "\n"
     ]
    }
   ],
   "source": [
    "pair = (0, 1)\n",
    "print(matches[pair])\n",
    "print(frames[pair[0]], frames[pair[1]])"
   ]
  },
  {
   "cell_type": "code",
   "execution_count": 5,
   "id": "69d19f68-d279-4d8c-b9ac-f41030df5120",
   "metadata": {},
   "outputs": [],
   "source": [
    "m = matches[pair]\n",
    "f0, f1 = frames[pair[0]], frames[pair[1]]"
   ]
  },
  {
   "cell_type": "code",
   "execution_count": 11,
   "id": "f2b2ffe7-5bff-477d-84f2-2e5d9a5deda3",
   "metadata": {},
   "outputs": [],
   "source": [
    "f0_to_f1 = m.get_f0_to_f1_dict()"
   ]
  },
  {
   "cell_type": "code",
   "execution_count": 47,
   "id": "60dda4a2-473f-4253-8d62-4d9802a95e5a",
   "metadata": {},
   "outputs": [],
   "source": [
    "src = np.array([f0.keypoint_locs[k,[2,1]] for k in f0_to_f1.keys()])\n",
    "dst = np.array([f1.keypoint_locs[v,[2,1]] for v in f0_to_f1.values()])"
   ]
  },
  {
   "cell_type": "code",
   "execution_count": 48,
   "id": "27bc9700-f6a3-40f7-9835-9a7a7a8d0b76",
   "metadata": {},
   "outputs": [
    {
     "data": {
      "text/plain": [
       "True"
      ]
     },
     "execution_count": 48,
     "metadata": {},
     "output_type": "execute_result"
    }
   ],
   "source": [
    "\n",
    "tform = PiecewiseAffineTransform()\n",
    "tform.estimate(src, dst)"
   ]
  },
  {
   "cell_type": "code",
   "execution_count": 49,
   "id": "092c3266-449a-4c48-ba86-8ed77f1a1ebe",
   "metadata": {},
   "outputs": [],
   "source": [
    "src_transformed = tform.inverse(f0.keypoint_locs[:,[2,1]])\n",
    "src_transformed = np.where(src_transformed==-1, np.nan, src_transformed)\n",
    "\n",
    "src_transformed = np.hstack([f0.keypoint_locs[:,[0]], src_transformed]) #[:, [0,2,1]]"
   ]
  },
  {
   "cell_type": "code",
   "execution_count": 50,
   "id": "793ca1e5-1b3e-4b2a-a22c-46f012e8e7d6",
   "metadata": {},
   "outputs": [],
   "source": [
    "# Get locations of target neurons\n",
    "target_zxy = frames[pair[1]].neuron_locs\n",
    "target_zxy = target_zxy[:, [0,2,1]]\n",
    "\n",
    "affine_zxy = matches[pair].affine_pushed_locations\n",
    "affine_zxy = affine_zxy[:, [0,2,1]]\n",
    "\n",
    "# Split by \"has match\"\n",
    "f0_to_f1_matches = {n0: n1 for n0, n1, _ in matches[pair].final_matches}\n",
    "\n",
    "# F1 matches\n",
    "has_match_ind = set(f0_to_f1_matches.values())\n",
    "target_xyz_matched = [row for i, row in enumerate(target_zxy) if i in has_match_ind]\n",
    "target_xyz_unmatched = [row for i, row in enumerate(target_zxy) if i not in has_match_ind]\n",
    "\n",
    "# F0 matches\n",
    "has_match_ind = set(f0_to_f1_matches.keys())\n",
    "\n",
    "affine_xyz_matched = [row for i, row in enumerate(affine_zxy) if i in has_match_ind]\n",
    "affine_xyz_unmatched = [row for i, row in enumerate(affine_zxy) if i not in has_match_ind]"
   ]
  },
  {
   "cell_type": "code",
   "execution_count": 52,
   "id": "d8bd27ad-495d-4658-b2d5-605fec31a24e",
   "metadata": {},
   "outputs": [
    {
     "data": {
      "text/plain": [
       "<Points layer 'Points [2]' at 0x23cef3a4e08>"
      ]
     },
     "execution_count": 52,
     "metadata": {},
     "output_type": "execute_result"
    }
   ],
   "source": [
    "# Plot using napari\n",
    "v = napari.view_image(dat.red_data[pair[0]], ndisplay=3)\n",
    "v.add_points(src_transformed, size=3, face_color='red', n_dimensional=True)\n",
    "v.add_points(affine_xyz_matched, size=3, face_color='green', symbol='x', n_dimensional=True)\n",
    "# v.add_points(affine_xyz_unmatched, size=3, face_color='red', symbol='x', n_dimensional=True)\n",
    "v.add_points(target_xyz_matched, size=5, symbol='ring', face_color='blue', n_dimensional=True)\n",
    "v.add_points(target_xyz_unmatched, size=5, symbol='ring', face_color='red', n_dimensional=True)"
   ]
  },
  {
   "cell_type": "code",
   "execution_count": null,
   "id": "8d9537e5-8995-4fab-b857-c46025130065",
   "metadata": {},
   "outputs": [],
   "source": []
  },
  {
   "cell_type": "markdown",
   "id": "3c80bcf4-8026-4bdf-83f1-a0720894492c",
   "metadata": {},
   "source": [
    "# Scratch: sanity checks for the frames"
   ]
  },
  {
   "cell_type": "code",
   "execution_count": 36,
   "id": "b1ad216e-7a66-4088-bb24-fb0833d25c43",
   "metadata": {},
   "outputs": [],
   "source": [
    "fname = r\"C:\\dlc_stacks\\Test_project\\2-training_data\\all_tracklets.h5\"\n",
    "import pandas as pd\n",
    "\n",
    "df = pd.read_hdf(fname)"
   ]
  },
  {
   "cell_type": "code",
   "execution_count": 39,
   "id": "9c1562aa-4f94-4409-b096-b801b6485ff6",
   "metadata": {},
   "outputs": [
    {
     "data": {
      "text/html": [
       "<div>\n",
       "<style scoped>\n",
       "    .dataframe tbody tr th:only-of-type {\n",
       "        vertical-align: middle;\n",
       "    }\n",
       "\n",
       "    .dataframe tbody tr th {\n",
       "        vertical-align: top;\n",
       "    }\n",
       "\n",
       "    .dataframe thead tr th {\n",
       "        text-align: left;\n",
       "    }\n",
       "</style>\n",
       "<table border=\"1\" class=\"dataframe\">\n",
       "  <thead>\n",
       "    <tr>\n",
       "      <th>bodyparts</th>\n",
       "      <th colspan=\"4\" halign=\"left\">neuron0</th>\n",
       "      <th colspan=\"4\" halign=\"left\">neuron1</th>\n",
       "      <th colspan=\"2\" halign=\"left\">neuron2</th>\n",
       "      <th>...</th>\n",
       "      <th colspan=\"2\" halign=\"left\">neuron112</th>\n",
       "      <th colspan=\"4\" halign=\"left\">neuron113</th>\n",
       "      <th colspan=\"4\" halign=\"left\">neuron114</th>\n",
       "    </tr>\n",
       "    <tr>\n",
       "      <th>coords</th>\n",
       "      <th>z</th>\n",
       "      <th>x</th>\n",
       "      <th>y</th>\n",
       "      <th>likelihood</th>\n",
       "      <th>z</th>\n",
       "      <th>x</th>\n",
       "      <th>y</th>\n",
       "      <th>likelihood</th>\n",
       "      <th>z</th>\n",
       "      <th>x</th>\n",
       "      <th>...</th>\n",
       "      <th>y</th>\n",
       "      <th>likelihood</th>\n",
       "      <th>z</th>\n",
       "      <th>x</th>\n",
       "      <th>y</th>\n",
       "      <th>likelihood</th>\n",
       "      <th>z</th>\n",
       "      <th>x</th>\n",
       "      <th>y</th>\n",
       "      <th>likelihood</th>\n",
       "    </tr>\n",
       "  </thead>\n",
       "  <tbody>\n",
       "    <tr>\n",
       "      <th>0</th>\n",
       "      <td>4.921292</td>\n",
       "      <td>424.082745</td>\n",
       "      <td>297.894046</td>\n",
       "      <td>1.0</td>\n",
       "      <td>5.907292</td>\n",
       "      <td>418.150000</td>\n",
       "      <td>279.964583</td>\n",
       "      <td>1.0</td>\n",
       "      <td>4.517820</td>\n",
       "      <td>433.077568</td>\n",
       "      <td>...</td>\n",
       "      <td>266.299472</td>\n",
       "      <td>1.0</td>\n",
       "      <td>19.381144</td>\n",
       "      <td>353.493151</td>\n",
       "      <td>327.765512</td>\n",
       "      <td>1.0</td>\n",
       "      <td>21.385406</td>\n",
       "      <td>379.461459</td>\n",
       "      <td>278.178828</td>\n",
       "      <td>1.0</td>\n",
       "    </tr>\n",
       "    <tr>\n",
       "      <th>1</th>\n",
       "      <td>4.923492</td>\n",
       "      <td>407.928893</td>\n",
       "      <td>279.961296</td>\n",
       "      <td>1.0</td>\n",
       "      <td>5.734856</td>\n",
       "      <td>408.894737</td>\n",
       "      <td>261.281033</td>\n",
       "      <td>1.0</td>\n",
       "      <td>3.510288</td>\n",
       "      <td>412.983539</td>\n",
       "      <td>...</td>\n",
       "      <td>222.409666</td>\n",
       "      <td>1.0</td>\n",
       "      <td>17.900735</td>\n",
       "      <td>334.201471</td>\n",
       "      <td>287.945588</td>\n",
       "      <td>1.0</td>\n",
       "      <td>18.589015</td>\n",
       "      <td>369.868687</td>\n",
       "      <td>243.525884</td>\n",
       "      <td>1.0</td>\n",
       "    </tr>\n",
       "  </tbody>\n",
       "</table>\n",
       "<p>2 rows × 460 columns</p>\n",
       "</div>"
      ],
      "text/plain": [
       "bodyparts   neuron0                                      neuron1              \\\n",
       "coords            z           x           y likelihood         z           x   \n",
       "0          4.921292  424.082745  297.894046        1.0  5.907292  418.150000   \n",
       "1          4.923492  407.928893  279.961296        1.0  5.734856  408.894737   \n",
       "\n",
       "bodyparts                          neuron2              ...   neuron112  \\\n",
       "coords              y likelihood         z           x  ...           y   \n",
       "0          279.964583        1.0  4.517820  433.077568  ...  266.299472   \n",
       "1          261.281033        1.0  3.510288  412.983539  ...  222.409666   \n",
       "\n",
       "bodyparts             neuron113                                     neuron114  \\\n",
       "coords    likelihood          z           x           y likelihood          z   \n",
       "0                1.0  19.381144  353.493151  327.765512        1.0  21.385406   \n",
       "1                1.0  17.900735  334.201471  287.945588        1.0  18.589015   \n",
       "\n",
       "bodyparts                                     \n",
       "coords              x           y likelihood  \n",
       "0          379.461459  278.178828        1.0  \n",
       "1          369.868687  243.525884        1.0  \n",
       "\n",
       "[2 rows x 460 columns]"
      ]
     },
     "execution_count": 39,
     "metadata": {},
     "output_type": "execute_result"
    }
   ],
   "source": [
    "df"
   ]
  },
  {
   "cell_type": "code",
   "execution_count": 44,
   "id": "ff625f0f-b2f4-4d9e-a263-f392ac1d7706",
   "metadata": {},
   "outputs": [
    {
     "data": {
      "text/html": [
       "<div>\n",
       "<style scoped>\n",
       "    .dataframe tbody tr th:only-of-type {\n",
       "        vertical-align: middle;\n",
       "    }\n",
       "\n",
       "    .dataframe tbody tr th {\n",
       "        vertical-align: top;\n",
       "    }\n",
       "\n",
       "    .dataframe thead tr th {\n",
       "        text-align: left;\n",
       "    }\n",
       "</style>\n",
       "<table border=\"1\" class=\"dataframe\">\n",
       "  <thead>\n",
       "    <tr>\n",
       "      <th>bodyparts</th>\n",
       "      <th colspan=\"4\" halign=\"left\">neuron0</th>\n",
       "      <th colspan=\"4\" halign=\"left\">neuron1</th>\n",
       "      <th colspan=\"2\" halign=\"left\">neuron2</th>\n",
       "      <th>...</th>\n",
       "      <th colspan=\"2\" halign=\"left\">neuron112</th>\n",
       "      <th colspan=\"4\" halign=\"left\">neuron113</th>\n",
       "      <th colspan=\"4\" halign=\"left\">neuron114</th>\n",
       "    </tr>\n",
       "    <tr>\n",
       "      <th>coords</th>\n",
       "      <th>z</th>\n",
       "      <th>x</th>\n",
       "      <th>y</th>\n",
       "      <th>likelihood</th>\n",
       "      <th>z</th>\n",
       "      <th>x</th>\n",
       "      <th>y</th>\n",
       "      <th>likelihood</th>\n",
       "      <th>z</th>\n",
       "      <th>x</th>\n",
       "      <th>...</th>\n",
       "      <th>y</th>\n",
       "      <th>likelihood</th>\n",
       "      <th>z</th>\n",
       "      <th>x</th>\n",
       "      <th>y</th>\n",
       "      <th>likelihood</th>\n",
       "      <th>z</th>\n",
       "      <th>x</th>\n",
       "      <th>y</th>\n",
       "      <th>likelihood</th>\n",
       "    </tr>\n",
       "  </thead>\n",
       "  <tbody>\n",
       "    <tr>\n",
       "      <th>1</th>\n",
       "      <td>0.002201</td>\n",
       "      <td>-16.153852</td>\n",
       "      <td>-17.93275</td>\n",
       "      <td>0.0</td>\n",
       "      <td>-0.172436</td>\n",
       "      <td>-9.255263</td>\n",
       "      <td>-18.683551</td>\n",
       "      <td>0.0</td>\n",
       "      <td>-1.007532</td>\n",
       "      <td>-20.094029</td>\n",
       "      <td>...</td>\n",
       "      <td>-43.889806</td>\n",
       "      <td>0.0</td>\n",
       "      <td>-1.480409</td>\n",
       "      <td>-19.29168</td>\n",
       "      <td>-39.819923</td>\n",
       "      <td>0.0</td>\n",
       "      <td>-2.796391</td>\n",
       "      <td>-9.592773</td>\n",
       "      <td>-34.652945</td>\n",
       "      <td>0.0</td>\n",
       "    </tr>\n",
       "  </tbody>\n",
       "</table>\n",
       "<p>1 rows × 460 columns</p>\n",
       "</div>"
      ],
      "text/plain": [
       "bodyparts   neuron0                                   neuron1            \\\n",
       "coords            z          x         y likelihood         z         x   \n",
       "1          0.002201 -16.153852 -17.93275        0.0 -0.172436 -9.255263   \n",
       "\n",
       "bodyparts                         neuron2             ...  neuron112  \\\n",
       "coords             y likelihood         z          x  ...          y   \n",
       "1         -18.683551        0.0 -1.007532 -20.094029  ... -43.889806   \n",
       "\n",
       "bodyparts            neuron113                                 neuron114  \\\n",
       "coords    likelihood         z         x          y likelihood         z   \n",
       "1                0.0 -1.480409 -19.29168 -39.819923        0.0 -2.796391   \n",
       "\n",
       "bodyparts                                  \n",
       "coords            x          y likelihood  \n",
       "1         -9.592773 -34.652945        0.0  \n",
       "\n",
       "[1 rows x 460 columns]"
      ]
     },
     "execution_count": 44,
     "metadata": {},
     "output_type": "execute_result"
    }
   ],
   "source": [
    "df.diff()[1:]\n"
   ]
  },
  {
   "cell_type": "code",
   "execution_count": 56,
   "id": "ef729d7d-533c-4a13-bfcb-fb94610436b6",
   "metadata": {},
   "outputs": [
    {
     "name": "stdout",
     "output_type": "stream",
     "text": [
      "neuron10 [3.493177957801862]\n",
      "neuron108 [2.853986180347949]\n",
      "neuron114 [-2.7963908094303775]\n",
      "neuron15 [-2.8650967506389193]\n",
      "neuron21 [-3.075268817204302]\n",
      "neuron26 [-2.3528161778441987]\n",
      "neuron37 [2.2387787912592696]\n",
      "neuron40 [2.7618143527234444]\n",
      "neuron42 [2.7250721741061525]\n",
      "neuron44 [2.942191806542578]\n",
      "neuron45 [-2.006387197933959]\n",
      "neuron50 [2.8219336219336206]\n",
      "neuron54 [-2.2871859861414876]\n",
      "neuron55 [-3.189421109281737]\n",
      "neuron58 [-2.0960522975374456]\n",
      "neuron62 [-4.773072141094692]\n",
      "neuron65 [-2.2753794711659125]\n",
      "neuron67 [-2.0682962374138825]\n",
      "neuron7 [-2.1460816593923617]\n",
      "neuron77 [3.1148170157975557]\n",
      "neuron78 [-2.2900887573964503]\n",
      "neuron79 [2.3144520048602644]\n",
      "neuron81 [-4.213115478518322]\n",
      "neuron82 [-7.638868908594549]\n",
      "neuron89 [-2.3382365197099766]\n",
      "neuron99 [-2.5187500000000007]\n"
     ]
    }
   ],
   "source": [
    "all_neurons = list(df.columns.levels[0])\n",
    "for n in all_neurons:\n",
    "    zd = df.diff()[1:][n]['z']\n",
    "    if all(abs(zd) > 2):\n",
    "        print(n, list(zd))"
   ]
  },
  {
   "cell_type": "code",
   "execution_count": 58,
   "id": "5ec681db-8dc6-4e21-9562-46468edc68e2",
   "metadata": {},
   "outputs": [
    {
     "data": {
      "text/plain": [
       "8.1"
      ]
     },
     "execution_count": 58,
     "metadata": {},
     "output_type": "execute_result"
    }
   ],
   "source": [
    "np.quantile(np.arange(10), 0.9)"
   ]
  },
  {
   "cell_type": "code",
   "execution_count": null,
   "id": "64542362-f76c-4702-9a85-e23068395918",
   "metadata": {},
   "outputs": [],
   "source": []
  }
 ],
 "metadata": {
  "kernelspec": {
   "display_name": "Python [conda env:DLC-for-WBFM] *",
   "language": "python",
   "name": "conda-env-DLC-for-WBFM-py"
  },
  "language_info": {
   "codemirror_mode": {
    "name": "ipython",
    "version": 3
   },
   "file_extension": ".py",
   "mimetype": "text/x-python",
   "name": "python",
   "nbconvert_exporter": "python",
   "pygments_lexer": "ipython3",
   "version": "3.7.10"
  }
 },
 "nbformat": 4,
 "nbformat_minor": 5
}
