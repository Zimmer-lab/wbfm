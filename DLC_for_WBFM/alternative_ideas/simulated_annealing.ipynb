{
 "cells": [
  {
   "cell_type": "markdown",
   "id": "5830b566-e6b5-40ab-ae07-c2fc4b1c75cc",
   "metadata": {},
   "source": [
    "# Experiments with GP pushing and then simulated annealing for finalization"
   ]
  },
  {
   "cell_type": "code",
   "execution_count": 9,
   "id": "852a500a-c726-458b-b2a1-e07ebaac1bc6",
   "metadata": {},
   "outputs": [],
   "source": [
    "from DLC_for_WBFM.utils.projects.finished_project_data import finished_project_data\n",
    "import numpy as np\n",
    "import matplotlib.pyplot as plt\n",
    "import pickle\n",
    "import napari, zarr"
   ]
  },
  {
   "cell_type": "code",
   "execution_count": 2,
   "id": "e99ec9f1-3239-4260-abdf-e40d99492b5a",
   "metadata": {},
   "outputs": [],
   "source": [
    "fname = r\"C:\\dlc_stacks\\Charlie-worm3-new-seg\\project_config.yaml\"\n",
    "dat = finished_project_data.load_final_project_data_from_config(fname)"
   ]
  },
  {
   "cell_type": "code",
   "execution_count": 3,
   "id": "1f8477c0-ba7a-4a3b-9458-e4dbaa113c15",
   "metadata": {},
   "outputs": [
    {
     "name": "stderr",
     "output_type": "stream",
     "text": [
      "C:\\Users\\charles.fieseler\\Anaconda3\\envs\\DLC-for-WBFM\\lib\\site-packages\\sklearn\\base.py:334: UserWarning: Trying to unpickle estimator GaussianProcessRegressor from version 0.24.2 when using version 0.23.2. This might lead to breaking code or invalid results. Use at your own risk.\n",
      "  UserWarning)\n"
     ]
    }
   ],
   "source": [
    "fname = r\"C:\\dlc_stacks\\Charlie-worm3-new-seg\\2-training_data\\raw\\match_dat.pickle\"\n",
    "with open(fname, 'rb') as f:\n",
    "    matches = pickle.load(f)\n",
    "    \n",
    "fname = r\"C:\\dlc_stacks\\Charlie-worm3-new-seg\\2-training_data\\raw\\frame_dat.pickle\"\n",
    "with open(fname, 'rb') as f:\n",
    "    frames = pickle.load(f)"
   ]
  },
  {
   "cell_type": "markdown",
   "id": "aa5a64f2-2a49-4e4d-a10f-fea62a1c6e17",
   "metadata": {},
   "source": [
    "# Visualize the pushed neurons on the next frame"
   ]
  },
  {
   "cell_type": "code",
   "execution_count": 44,
   "id": "7c271727-fc5e-470b-8762-0fe8765f7bfc",
   "metadata": {},
   "outputs": [
    {
     "name": "stdout",
     "output_type": "stream",
     "text": [
      "FramePair with 134 matches \n",
      "\n",
      "=======================================\n",
      "                ReferenceFrame:\n",
      "                Frame index: 0 \n",
      "                Number of neurons: 148 \n",
      " =======================================\n",
      "                ReferenceFrame:\n",
      "                Frame index: 1 \n",
      "                Number of neurons: 151 \n",
      "\n"
     ]
    }
   ],
   "source": [
    "pair = (0, 1)\n",
    "print(matches[pair])\n",
    "print(frames[pair[0]], frames[pair[1]])"
   ]
  },
  {
   "cell_type": "code",
   "execution_count": 45,
   "id": "aa9cf427-9789-40ac-a225-9fea34f97756",
   "metadata": {},
   "outputs": [],
   "source": [
    "# Get locations of target neurons\n",
    "target_zxy = frames[pair[1]].neuron_locs\n",
    "target_zxy = target_zxy[:, [0,2,1]]"
   ]
  },
  {
   "cell_type": "code",
   "execution_count": 46,
   "id": "5db58fcd-c212-4aae-9ce5-a0742c3fcef7",
   "metadata": {},
   "outputs": [],
   "source": [
    "# Get gp pushed locations\n",
    "\n",
    "gp_zxy = matches[pair].gp_pushed_locations\n",
    "# Replace z coordinate, which is somehow crazy\n",
    "gp_zxy[:, 0] = frames[pair[0]].neuron_locs[:, 0]\n",
    "gp_zxy = gp_zxy[:, [0,2,1]]\n",
    "\n",
    "affine_zxy = matches[pair].affine_pushed_locations\n",
    "# Replace z coordinate, which is somehow crazy\n",
    "# affine_zxy[:, 0] = frames[pair[0]].neuron_locs[:, 0]\n",
    "affine_zxy = affine_zxy[:, [0,2,1]]"
   ]
  },
  {
   "cell_type": "code",
   "execution_count": 47,
   "id": "faf756d6-bddb-438c-b1b7-98458e3a6cde",
   "metadata": {},
   "outputs": [],
   "source": [
    "# Split by \"has match\"\n",
    "f0_to_f1_matches = {n0: n1 for n0, n1, _ in matches[pair].final_matches}\n",
    "\n",
    "# F1 matches\n",
    "has_match_ind = set(f0_to_f1_matches.values())\n",
    "target_xyz_matched = [row for i, row in enumerate(target_zxy) if i in has_match_ind]\n",
    "target_xyz_unmatched = [row for i, row in enumerate(target_zxy) if i not in has_match_ind]\n",
    "\n",
    "# F0 matches\n",
    "has_match_ind = set(f0_to_f1_matches.keys())\n",
    "\n",
    "gp_xyz_matched = [row for i, row in enumerate(gp_zxy) if i in has_match_ind]\n",
    "gp_xyz_unmatched = [row for i, row in enumerate(gp_zxy) if i not in has_match_ind]\n",
    "\n",
    "affine_xyz_matched = [row for i, row in enumerate(affine_zxy) if i in has_match_ind]\n",
    "affine_xyz_unmatched = [row for i, row in enumerate(affine_zxy) if i not in has_match_ind]"
   ]
  },
  {
   "cell_type": "code",
   "execution_count": 64,
   "id": "f956a44b-cfeb-4cf5-9658-95c5065e7595",
   "metadata": {},
   "outputs": [
    {
     "data": {
      "text/plain": [
       "<Points layer 'Points [3]' at 0x17cdc2573c8>"
      ]
     },
     "execution_count": 64,
     "metadata": {},
     "output_type": "execute_result"
    }
   ],
   "source": [
    "# Plot using napari\n",
    "v = napari.view_image(dat.red_data[pair[1]], ndisplay=3)\n",
    "# v.add_points(gp_xyz_matched, size=3, face_color='green', n_dimensional=True)\n",
    "v.add_points(gp_xyz_unmatched, size=3, face_color='red', n_dimensional=True)\n",
    "# v.add_points(affine_xyz_matched, size=3, face_color='green', symbol='x', n_dimensional=True)\n",
    "v.add_points(affine_xyz_unmatched, size=3, face_color='red', symbol='x', n_dimensional=True)\n",
    "v.add_points(target_xyz_matched, size=5, symbol='ring', face_color='blue', n_dimensional=True)\n",
    "v.add_points(target_xyz_unmatched, size=5, symbol='ring', face_color='red', n_dimensional=True)"
   ]
  },
  {
   "cell_type": "code",
   "execution_count": null,
   "id": "ba692ea2-9a06-4000-b6b0-46e3798cdacb",
   "metadata": {},
   "outputs": [],
   "source": [
    "\n",
    "# Get gradient images (not in z)\n",
    "# vol = dat.red_data[pair[1], ...]\n",
    "# vol_filtered = gaussian(vol, sigma=1)\n",
    "# thresh = 1.5*np.mean(vol_filtered)\n",
    "# mask = vol_filtered > thresh\n",
    "# vol_gradient_x = sobel_h(vol_filtered, mask)\n",
    "# vol_gradient_y = sobel_v(vol_filtered, mask)"
   ]
  },
  {
   "cell_type": "markdown",
   "id": "deea031a-a12a-4a11-9d42-6c8f9522c6d7",
   "metadata": {},
   "source": [
    "# Actually do it (no annealing)"
   ]
  },
  {
   "cell_type": "code",
   "execution_count": 93,
   "id": "32a8e0c7-c9e5-4ef1-aaa7-183b9d945d5d",
   "metadata": {},
   "outputs": [],
   "source": [
    "# from skimage.filters import gaussian, sobel_h, sobel_v\n",
    "from scipy.spatial import KDTree"
   ]
  },
  {
   "cell_type": "code",
   "execution_count": 94,
   "id": "19146984-7d0a-4aee-b6eb-9e5dbde90279",
   "metadata": {},
   "outputs": [],
   "source": [
    "pair = (1, 2)"
   ]
  },
  {
   "cell_type": "code",
   "execution_count": 95,
   "id": "baf294f3-9fee-4f4c-8f98-e48a63ac3b4a",
   "metadata": {},
   "outputs": [],
   "source": [
    "# Get initial affine locations\n",
    "affine_zxy = matches[pair].affine_pushed_locations\n",
    "affine_zxy = affine_zxy[:, [0,2,1]]\n",
    "\n",
    "# Get image\n",
    "vol = dat.red_data[pair[1], ...]\n",
    "# vol_filtered = gaussian(vol, sigma=1)\n",
    "\n",
    "# Get locations of target neurons\n",
    "target_zxy = frames[pair[1]].neuron_locs\n",
    "target_zxy = target_zxy[:, [0,2,1]]"
   ]
  },
  {
   "cell_type": "code",
   "execution_count": 100,
   "id": "1b1dfa1b-f7cc-4a5e-95ef-3ed7cd2e7686",
   "metadata": {},
   "outputs": [],
   "source": [
    "# Only check the ones with no match\n",
    "f0_to_f1_matches = {n0: n1 for n0, n1, _ in matches[pair].final_matches}\n",
    "has_match_ind = list(f0_to_f1_matches.keys())\n",
    "no_match_ind = list(range(frames[pair[0]].num_neurons()))\n",
    "[no_match_ind.remove(i) for i in has_match_ind]\n",
    "\n",
    "# Set up kdtree to check nearest neighbor\n",
    "tree = KDTree(target_zxy)\n",
    "\n",
    "# Parameters\n",
    "brightness_thresh = 25\n",
    "distance_thresh = 5.0"
   ]
  },
  {
   "cell_type": "code",
   "execution_count": 101,
   "id": "aec94ec7-4bd5-40d0-a7c3-906313864388",
   "metadata": {},
   "outputs": [
    {
     "name": "stdout",
     "output_type": "stream",
     "text": [
      "False 0 278.634677184079\n",
      "False 22 6.514810434866421\n",
      "True 40 8.798306660844792\n",
      "False 31 3.65074508888712\n",
      "False 34 4.273267236144742\n",
      "True 36 9.445009640142503\n",
      "True 27 12.186874485455414\n",
      "True 35 7.80057086110525\n"
     ]
    }
   ],
   "source": [
    "\n",
    "for i in no_match_ind:\n",
    "    zxy = affine_zxy[i, :]\n",
    "    z, x, y = int(zxy[0]), int(zxy[1]), int(zxy[2])\n",
    "    brightness = vol[z, x, y]\n",
    "    nn_dist, _ = tree.query(zxy, k=1)\n",
    "    \n",
    "    to_keep = (brightness > brightness_thresh) and (nn_dist > distance_thresh)\n",
    "    print(to_keep, brightness, nn_dist)\n",
    "    "
   ]
  },
  {
   "cell_type": "code",
   "execution_count": 97,
   "id": "d0da1640-d584-4017-8970-4845eb50a00c",
   "metadata": {},
   "outputs": [
    {
     "data": {
      "text/plain": [
       "151"
      ]
     },
     "execution_count": 97,
     "metadata": {},
     "output_type": "execute_result"
    }
   ],
   "source": [
    "frames[pair[0]].num_neurons()"
   ]
  },
  {
   "cell_type": "code",
   "execution_count": 99,
   "id": "49a5e20e-f08a-4adf-a04f-0dc05ef48507",
   "metadata": {},
   "outputs": [
    {
     "data": {
      "text/plain": [
       "[150,\n",
       " 149,\n",
       " 147,\n",
       " 146,\n",
       " 145,\n",
       " 144,\n",
       " 143,\n",
       " 142,\n",
       " 141,\n",
       " 140,\n",
       " 139,\n",
       " 138,\n",
       " 136,\n",
       " 135,\n",
       " 133,\n",
       " 132,\n",
       " 131,\n",
       " 130,\n",
       " 129,\n",
       " 128,\n",
       " 127,\n",
       " 126,\n",
       " 125,\n",
       " 121,\n",
       " 120,\n",
       " 119,\n",
       " 118,\n",
       " 117,\n",
       " 116,\n",
       " 115,\n",
       " 114,\n",
       " 113,\n",
       " 112,\n",
       " 111,\n",
       " 110,\n",
       " 109,\n",
       " 108,\n",
       " 107,\n",
       " 106,\n",
       " 105,\n",
       " 104,\n",
       " 103,\n",
       " 102,\n",
       " 101,\n",
       " 100,\n",
       " 99,\n",
       " 98,\n",
       " 97,\n",
       " 96,\n",
       " 95,\n",
       " 94,\n",
       " 93,\n",
       " 92,\n",
       " 91,\n",
       " 90,\n",
       " 89,\n",
       " 88,\n",
       " 87,\n",
       " 86,\n",
       " 85,\n",
       " 84,\n",
       " 83,\n",
       " 82,\n",
       " 81,\n",
       " 80,\n",
       " 79,\n",
       " 78,\n",
       " 77,\n",
       " 75,\n",
       " 74,\n",
       " 73,\n",
       " 72,\n",
       " 71,\n",
       " 70,\n",
       " 69,\n",
       " 67,\n",
       " 66,\n",
       " 65,\n",
       " 64,\n",
       " 63,\n",
       " 62,\n",
       " 61,\n",
       " 60,\n",
       " 59,\n",
       " 58,\n",
       " 57,\n",
       " 56,\n",
       " 55,\n",
       " 54,\n",
       " 53,\n",
       " 52,\n",
       " 51,\n",
       " 50,\n",
       " 49,\n",
       " 48,\n",
       " 47,\n",
       " 46,\n",
       " 45,\n",
       " 44,\n",
       " 43,\n",
       " 42,\n",
       " 41,\n",
       " 40,\n",
       " 39,\n",
       " 38,\n",
       " 37,\n",
       " 36,\n",
       " 35,\n",
       " 34,\n",
       " 33,\n",
       " 32,\n",
       " 31,\n",
       " 30,\n",
       " 29,\n",
       " 28,\n",
       " 27,\n",
       " 26,\n",
       " 25,\n",
       " 24,\n",
       " 23,\n",
       " 22,\n",
       " 21,\n",
       " 20,\n",
       " 19,\n",
       " 18,\n",
       " 17,\n",
       " 16,\n",
       " 15,\n",
       " 14,\n",
       " 13,\n",
       " 12,\n",
       " 11,\n",
       " 10,\n",
       " 9,\n",
       " 8,\n",
       " 7,\n",
       " 6,\n",
       " 5,\n",
       " 4,\n",
       " 3,\n",
       " 2,\n",
       " 1,\n",
       " 0]"
      ]
     },
     "execution_count": 99,
     "metadata": {},
     "output_type": "execute_result"
    }
   ],
   "source": [
    "has_match_ind"
   ]
  },
  {
   "cell_type": "markdown",
   "id": "7457a5f3-b1de-4993-8e91-fcf3c2140f5e",
   "metadata": {},
   "source": [
    "# Use piecewise affine"
   ]
  },
  {
   "cell_type": "code",
   "execution_count": 4,
   "id": "f7a9e2fb-06df-4048-9af6-abc80998ce0a",
   "metadata": {
    "tags": []
   },
   "outputs": [
    {
     "name": "stdout",
     "output_type": "stream",
     "text": [
      "FramePair with 134 matches \n",
      "\n",
      "=======================================\n",
      "                ReferenceFrame:\n",
      "                Frame index: 0 \n",
      "                Number of neurons: 148 \n",
      " =======================================\n",
      "                ReferenceFrame:\n",
      "                Frame index: 1 \n",
      "                Number of neurons: 151 \n",
      "\n"
     ]
    }
   ],
   "source": [
    "pair = (0, 1)\n",
    "print(matches[pair])\n",
    "print(frames[pair[0]], frames[pair[1]])"
   ]
  },
  {
   "cell_type": "code",
   "execution_count": 5,
   "id": "69d19f68-d279-4d8c-b9ac-f41030df5120",
   "metadata": {},
   "outputs": [],
   "source": [
    "m = matches[pair]\n",
    "f0, f1 = frames[pair[0]], frames[pair[1]]"
   ]
  },
  {
   "cell_type": "code",
   "execution_count": 11,
   "id": "f2b2ffe7-5bff-477d-84f2-2e5d9a5deda3",
   "metadata": {},
   "outputs": [],
   "source": [
    "f0_to_f1 = m.get_f0_to_f1_dict()"
   ]
  },
  {
   "cell_type": "code",
   "execution_count": 47,
   "id": "60dda4a2-473f-4253-8d62-4d9802a95e5a",
   "metadata": {},
   "outputs": [],
   "source": [
    "src = np.array([f0.keypoint_locs[k,[2,1]] for k in f0_to_f1.keys()])\n",
    "dst = np.array([f1.keypoint_locs[v,[2,1]] for v in f0_to_f1.values()])"
   ]
  },
  {
   "cell_type": "code",
   "execution_count": 48,
   "id": "27bc9700-f6a3-40f7-9835-9a7a7a8d0b76",
   "metadata": {},
   "outputs": [
    {
     "data": {
      "text/plain": [
       "True"
      ]
     },
     "execution_count": 48,
     "metadata": {},
     "output_type": "execute_result"
    }
   ],
   "source": [
    "\n",
    "tform = PiecewiseAffineTransform()\n",
    "tform.estimate(src, dst)"
   ]
  },
  {
   "cell_type": "code",
   "execution_count": 49,
   "id": "092c3266-449a-4c48-ba86-8ed77f1a1ebe",
   "metadata": {},
   "outputs": [],
   "source": [
    "src_transformed = tform.inverse(f0.keypoint_locs[:,[2,1]])\n",
    "src_transformed = np.where(src_transformed==-1, np.nan, src_transformed)\n",
    "\n",
    "src_transformed = np.hstack([f0.keypoint_locs[:,[0]], src_transformed]) #[:, [0,2,1]]"
   ]
  },
  {
   "cell_type": "code",
   "execution_count": 50,
   "id": "793ca1e5-1b3e-4b2a-a22c-46f012e8e7d6",
   "metadata": {},
   "outputs": [],
   "source": [
    "# Get locations of target neurons\n",
    "target_zxy = frames[pair[1]].neuron_locs\n",
    "target_zxy = target_zxy[:, [0,2,1]]\n",
    "\n",
    "affine_zxy = matches[pair].affine_pushed_locations\n",
    "affine_zxy = affine_zxy[:, [0,2,1]]\n",
    "\n",
    "# Split by \"has match\"\n",
    "f0_to_f1_matches = {n0: n1 for n0, n1, _ in matches[pair].final_matches}\n",
    "\n",
    "# F1 matches\n",
    "has_match_ind = set(f0_to_f1_matches.values())\n",
    "target_xyz_matched = [row for i, row in enumerate(target_zxy) if i in has_match_ind]\n",
    "target_xyz_unmatched = [row for i, row in enumerate(target_zxy) if i not in has_match_ind]\n",
    "\n",
    "# F0 matches\n",
    "has_match_ind = set(f0_to_f1_matches.keys())\n",
    "\n",
    "affine_xyz_matched = [row for i, row in enumerate(affine_zxy) if i in has_match_ind]\n",
    "affine_xyz_unmatched = [row for i, row in enumerate(affine_zxy) if i not in has_match_ind]"
   ]
  },
  {
   "cell_type": "code",
   "execution_count": 52,
   "id": "d8bd27ad-495d-4658-b2d5-605fec31a24e",
   "metadata": {},
   "outputs": [
    {
     "data": {
      "text/plain": [
       "<Points layer 'Points [2]' at 0x23cef3a4e08>"
      ]
     },
     "execution_count": 52,
     "metadata": {},
     "output_type": "execute_result"
    }
   ],
   "source": [
    "# Plot using napari\n",
    "v = napari.view_image(dat.red_data[pair[0]], ndisplay=3)\n",
    "v.add_points(src_transformed, size=3, face_color='red', n_dimensional=True)\n",
    "v.add_points(affine_xyz_matched, size=3, face_color='green', symbol='x', n_dimensional=True)\n",
    "# v.add_points(affine_xyz_unmatched, size=3, face_color='red', symbol='x', n_dimensional=True)\n",
    "v.add_points(target_xyz_matched, size=5, symbol='ring', face_color='blue', n_dimensional=True)\n",
    "v.add_points(target_xyz_unmatched, size=5, symbol='ring', face_color='red', n_dimensional=True)"
   ]
  }
 ],
 "metadata": {
  "kernelspec": {
   "display_name": "Python [conda env:DLC-for-WBFM] *",
   "language": "python",
   "name": "conda-env-DLC-for-WBFM-py"
  },
  "language_info": {
   "codemirror_mode": {
    "name": "ipython",
    "version": 3
   },
   "file_extension": ".py",
   "mimetype": "text/x-python",
   "name": "python",
   "nbconvert_exporter": "python",
   "pygments_lexer": "ipython3",
   "version": "3.7.10"
  }
 },
 "nbformat": 4,
 "nbformat_minor": 5
}
