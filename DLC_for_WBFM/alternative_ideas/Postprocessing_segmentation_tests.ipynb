{
 "cells": [
  {
   "cell_type": "code",
   "execution_count": 3,
   "metadata": {},
   "outputs": [],
   "source": [
    "%load_ext line_profiler\n",
    "%load_ext autoreload\n",
    "%autoreload 2\n",
    "\n",
    "from segmentation.util.utils_pipeline import segment_video_using_config_2d\n",
    "from DLC_for_WBFM.utils.projects.utils_project import load_config, safe_cd\n",
    "from pathlib import Path\n",
    "import zarr\n",
    "import os\n",
    "import numpy as np\n",
    "import napari\n",
    "from DLC_for_WBFM.utils.video_and_data_conversion.import_video_as_array import get_single_volume"
   ]
  },
  {
   "cell_type": "code",
   "execution_count": 5,
   "metadata": {},
   "outputs": [],
   "source": [
    "# project_fname = r'Y:\\shared_projects\\wbfm\\dlc_stacks\\Charlie-immobilized-long\\project_config.yaml'\n",
    "project_fname = r'Y:\\shared_projects\\wbfm\\dlc_stacks\\Charlie-immobilized-2021_05_11\\project_config.yaml'\n",
    "project_cfg = load_config(project_fname)\n",
    "segment_fname = project_cfg['subfolder_configs']['segmentation']\n",
    "project_dir = Path(project_fname).parent\n",
    "with safe_cd(project_dir):\n",
    "    segment_cfg = load_config(segment_fname)\n",
    "\n",
    "this_config = segment_cfg.copy()\n",
    "this_config['dataset_params'] = project_cfg['dataset_params'].copy()\n",
    "\n",
    "red_data_fname = project_cfg['red_bigtiff_fname']"
   ]
  },
  {
   "cell_type": "code",
   "execution_count": 6,
   "metadata": {},
   "outputs": [],
   "source": [
    "with safe_cd(project_dir):\n",
    "    fname = segment_cfg['output']['masks']\n",
    "    z = zarr.open(fname)"
   ]
  },
  {
   "cell_type": "code",
   "execution_count": 7,
   "metadata": {},
   "outputs": [],
   "source": [
    "viewer = napari.view_labels(z)"
   ]
  },
  {
   "cell_type": "markdown",
   "metadata": {},
   "source": [
    "## View original"
   ]
  },
  {
   "cell_type": "code",
   "execution_count": 13,
   "metadata": {},
   "outputs": [],
   "source": [
    "mask0_raw = np.array(z[0,...])\n",
    "dat0_raw = get_single_volume(red_data_fname, 0, 33, dtype='uint16')"
   ]
  },
  {
   "cell_type": "code",
   "execution_count": 49,
   "metadata": {},
   "outputs": [
    {
     "data": {
      "text/plain": [
       "<Image layer 'dat0_raw' at 0x21ca6b7c688>"
      ]
     },
     "execution_count": 49,
     "metadata": {},
     "output_type": "execute_result"
    }
   ],
   "source": [
    "viewer = napari.view_labels(mask0_raw)\n",
    "viewer.add_image(dat0_raw)"
   ]
  },
  {
   "cell_type": "markdown",
   "metadata": {},
   "source": [
    "## Remove globally dim pixels and re-stitch"
   ]
  },
  {
   "cell_type": "code",
   "execution_count": 9,
   "metadata": {},
   "outputs": [],
   "source": [
    "from segmentation.util.utils_postprocessing import *"
   ]
  },
  {
   "cell_type": "code",
   "execution_count": 46,
   "metadata": {},
   "outputs": [
    {
     "name": "stdout",
     "output_type": "stream",
     "text": [
      "Background measured as: 233.30953810953812\n"
     ]
    }
   ],
   "source": [
    "background = 2 * np.mean(dat0_raw)\n",
    "print(f\"Background measured as: {background}\")\n",
    "dim_pixels = dat0_raw < background\n",
    "\n",
    "mask0_dim_removed = mask0_raw.copy()\n",
    "mask0_dim_removed[dim_pixels] = 0"
   ]
  },
  {
   "cell_type": "code",
   "execution_count": 91,
   "metadata": {},
   "outputs": [
    {
     "data": {
      "text/plain": [
       "<Labels layer 'mask0_dim_removed' at 0x21ca9300588>"
      ]
     },
     "execution_count": 91,
     "metadata": {},
     "output_type": "execute_result"
    }
   ],
   "source": [
    "viewer = napari.view_labels(mask0_raw)\n",
    "viewer.add_labels(mask0_dim_removed)\n",
    "# viewer.add_image(dat0_raw)"
   ]
  },
  {
   "cell_type": "markdown",
   "metadata": {},
   "source": [
    "## 3d stardist"
   ]
  },
  {
   "cell_type": "code",
   "execution_count": 81,
   "metadata": {},
   "outputs": [
    {
     "name": "stdout",
     "output_type": "stream",
     "text": [
      "Getting Stardist model: charlie_3d\n",
      "Loading network weights from 'weights_best.h5'.\n",
      "Loading thresholds from 'thresholds.json'.\n",
      "Using default values: prob_thresh=0.353429, nms_thresh=0.3.\n"
     ]
    }
   ],
   "source": [
    "from segmentation.util.utils_model import segment_with_stardist_3d\n",
    "from segmentation.util.utils_model import get_stardist_model\n",
    "from csbdeep.utils import Path, normalize\n",
    "\n",
    "model_name = 'charlie_3d'\n",
    "sd_model = get_stardist_model(model_name, verbose=2)"
   ]
  },
  {
   "cell_type": "code",
   "execution_count": 82,
   "metadata": {},
   "outputs": [],
   "source": [
    "def _segment3d(dat, model, prob_thresh=0.5):\n",
    "    # From: segment_with_stardist_3d\n",
    "    \n",
    "    # initialize variables\n",
    "    axis_norm = (0, 1, 2)\n",
    "    n_channel = 1\n",
    "\n",
    "    # normalizing images (stardist function)\n",
    "    img = normalize(dat, 1, 99.8, axis=axis_norm)\n",
    "\n",
    "    # run the prediction\n",
    "    labels, details = model.predict_instances(img, prob_thresh=prob_thresh)\n",
    "    \n",
    "    print(\"Finished\")\n",
    "    return labels"
   ]
  },
  {
   "cell_type": "code",
   "execution_count": 83,
   "metadata": {},
   "outputs": [
    {
     "name": "stdout",
     "output_type": "stream",
     "text": [
      "Finished\n"
     ]
    }
   ],
   "source": [
    "mask0_3d = _segment3d(dat0_raw, sd_model, prob_thresh=None)"
   ]
  },
  {
   "cell_type": "code",
   "execution_count": 90,
   "metadata": {},
   "outputs": [],
   "source": [
    "viewer = napari.view_labels(mask0_3d)\n",
    "# viewer.add_image(dat0_raw)"
   ]
  },
  {
   "cell_type": "code",
   "execution_count": null,
   "metadata": {},
   "outputs": [],
   "source": [
    "# sd_model.predict_instances()"
   ]
  }
 ],
 "metadata": {
  "kernelspec": {
   "display_name": "Python [conda env:segmentation]",
   "language": "python",
   "name": "conda-env-segmentation-py"
  },
  "language_info": {
   "codemirror_mode": {
    "name": "ipython",
    "version": 3
   },
   "file_extension": ".py",
   "mimetype": "text/x-python",
   "name": "python",
   "nbconvert_exporter": "python",
   "pygments_lexer": "ipython3",
   "version": "3.7.10"
  }
 },
 "nbformat": 4,
 "nbformat_minor": 5
}
