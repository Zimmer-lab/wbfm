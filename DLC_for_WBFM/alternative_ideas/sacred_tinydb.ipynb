{
 "cells": [
  {
   "cell_type": "code",
   "execution_count": 1,
   "id": "3a3e952f-c11e-4b97-bffa-55068c206740",
   "metadata": {},
   "outputs": [],
   "source": [
    "from sacred.observers import TinyDbReader\n",
    "from pathlib import Path"
   ]
  },
  {
   "cell_type": "code",
   "execution_count": 2,
   "id": "61c5840a-2f89-4455-afb3-7bfd571c6f4e",
   "metadata": {},
   "outputs": [],
   "source": [
    "project_fname = r\"C:\\dlc_stacks\\Charlie-worm3-new-seg\\project_config.yaml\"\n",
    "project_dir = Path(project_fname).parent\n",
    "log_dir = project_dir.joinpath('log')\n",
    "\n",
    "reader = TinyDbReader(log_dir)"
   ]
  },
  {
   "cell_type": "code",
   "execution_count": 7,
   "id": "e38c38f4-5eee-49df-821e-99c666f66e84",
   "metadata": {},
   "outputs": [
    {
     "name": "stdout",
     "output_type": "stream",
     "text": [
      "\n",
      "-------------------------------------------------\n",
      "Experiment: 4-make_full_traces\n",
      "-------------------------------------------------\n",
      "ID: 5c5b51202100424f9f055976ad28487e\n",
      "Date: Wed 04 Aug 2021    Duration: 00:00:19.5\n",
      "\n",
      "Parameters:\n",
      "    DEBUG: True\n",
      "    log_dir: C:\\dlc_stacks\\Charlie-worm3-new-seg\\log\n",
      "    project_cfg: {'task_name': 'test', 'experimenter': 'Charlie', 'project_dir': 'C:/dlc_stacks/Charlie-worm3-new-seg', 'project_path': None,\n",
      "    'red_bigtiff_fname': 'Y:/shared_projects/wbfm/dat/ZIM2051/2021-03-04_16-07-57_worm3_ZIM2051/2021-03-04_16-07-57_worm3_ZIM2051-channel-0-pco_camera\n",
      "    1/2021-03-04_16-07-57_worm3_ZIM2051-channel-0-pco_camera1bigtiff.btf', 'green_bigtiff_fname': 'Y:/shared_projects/wbfm/dat/ZIM2051/2021-03-04_16-0\n",
      "    7-57_worm3_ZIM2051/2021-03-04_16-07-57_worm3_ZIM2051-channel-1-pco_camera2/2021-03-04_16-07-57_worm3_ZIM2051-channel-1-pco_camera2bigtiff.btf',\n",
      "    'preprocessing_config': 'preprocessing_config.yaml', 'preprocessed_red': 'D:\\\\2021-03-04_16-07-57_worm3_ZIM2051\\\\2021-03-04_16-07-57_worm3_ZIM2051\n",
      "    -channel-0-pco_camera1\\\\2021-03-04_16-07-57_worm3_ZIM2051-channel-0-pco_camera1bigtiff.zarr', 'preprocessed_green': 'D:\\\\2021-03-04_16-07-57_worm3\n",
      "    _ZIM2051\\\\2021-03-04_16-07-57_worm3_ZIM2051-channel-1-pco_camera2\\\\2021-03-04_16-07-57_worm3_ZIM2051-channel-1-pco_camera2bigtiff.zarr',\n",
      "    'dataset_params': {'start_volume': 0, 'num_frames': 1500, 'fps': 5.0, 'num_slices': 32, 'z_to_xy_ratio': 1.0, 'red_and_green_mirrored': True},\n",
      "    'subfolder_configs': {'segmentation': '1-segmentation/segment_config.yaml', 'training_data': '2-training_data/training_data_config.yaml',\n",
      "    'tracking': '3-tracking/tracking_config.yaml', 'traces': '4-traces/traces_config.yaml'}, 'current_status': {'segmentation': False,\n",
      "    'training_data_3d': False, 'training_data_2d': False, 'dlc_networks': False, 'traces': False}, 'other': {'verbose': 2, 'DEBUG': False}, 'seed':\n",
      "    226587197}\n",
      "    project_dir: C:\\dlc_stacks\\Charlie-worm3-new-seg\n",
      "    project_path: C:/dlc_stacks/Charlie-worm3-new-seg/project_config.yaml\n",
      "    seed: 134806094\n",
      "    seg_cfg: {'self_path': '1-segmentation/segment_config.yaml', 'video_path': 'Y:\\\\shared_projects\\\\wbfm\\\\dat\\\\ZIM2051\\\\2021-03-04_16-07-57_worm3_ZIM\n",
      "    2051\\\\2021-03-04_16-07-57_worm3_ZIM2051-channel-0-pco_camera1\\\\2021-03-04_16-07-57_worm3_ZIM2051-channel-0-pco_camera1bigtiff.zarr',\n",
      "    'segmentation_type': '2d', 'preprocessing_config': '1-segmentation/preprocessing_config.yaml', 'segmentation_params': {'stardist_model_name':\n",
      "    'lukas', 'zero_out_borders': True}, 'postprocessing_params': {'upper_length_threshold': 12, 'lower_length_threshold': 3, 'to_remove_border':\n",
      "    False, 'border_width_to_remove': 0, 'to_remove_dim_slices': True, 'stitch_via_watershed': True}, 'output': {'folder': '1-segmentation', 'masks':\n",
      "    '1-segmentation\\\\masks_1500-watershed.zarr', 'metadata': '1-segmentation\\\\metadata_1500-watershed.pickle'}, 'verbose': 1, 'DEBUG': False,\n",
      "    'dataset_params': {'start_volume': 0, 'num_frames': 1500, 'fps': 5.0, 'num_slices': 32, 'z_to_xy_ratio': 5.0, 'red_and_green_mirrored': True}}\n",
      "    seg_fname: 1-segmentation\\segment_config.yaml\n",
      "    trace_cfg: {'self_path': '4-traces/traces_config.yaml', 'reindexed_masks': '4-traces/reindexed_masks.zarr', 'traces': {'red':\n",
      "    '4-traces\\\\red_traces.h5', 'green': '4-traces\\\\green_traces.h5', 'neuron_names': ['neuron0', 'neuron1', 'neuron2', 'neuron3', 'neuron4',\n",
      "    'neuron5', 'neuron6', 'neuron7', 'neuron8', 'neuron9', 'neuron10', 'neuron11', 'neuron12', 'neuron13', 'neuron14', 'neuron15', 'neuron16',\n",
      "    'neuron17', 'neuron18', 'neuron19', 'neuron20', 'neuron21', 'neuron22', 'neuron23', 'neuron24', 'neuron25', 'neuron26', 'neuron27', 'neuron28',\n",
      "    'neuron29', 'neuron30', 'neuron31', 'neuron32', 'neuron33', 'neuron34', 'neuron35', 'neuron36', 'neuron37', 'neuron38', 'neuron39', 'neuron40',\n",
      "    'neuron41', 'neuron42', 'neuron43', 'neuron44', 'neuron45', 'neuron46', 'neuron47', 'neuron48', 'neuron49', 'neuron50', 'neuron51', 'neuron52',\n",
      "    'neuron53', 'neuron54', 'neuron55', 'neuron56', 'neuron57', 'neuron58', 'neuron59', 'neuron60', 'neuron61', 'neuron62', 'neuron63', 'neuron64',\n",
      "    'neuron65', 'neuron66', 'neuron67', 'neuron68', 'neuron69', 'neuron70', 'neuron71', 'neuron72', 'neuron73']}, 'all_matches':\n",
      "    '4-traces\\\\all_matches.pickle'}\n",
      "    trace_fname: 4-traces\\traces_config.yaml\n",
      "    track_cfg: {'self_path': '3-tracking/tracking_config.yaml', 'training_data_3d': {'num_training_frames': 30, 'annotation_fname':\n",
      "    '2-training_data/manual_tracking/corrected_tracks-Charlie.h5', 'which_frames': [527, 528, 529, 530, 531, 532, 533, 534, 535, 536, 537, 538, 539,\n",
      "    540, 541, 542, 543, 544, 545, 546, 547, 548, 549, 550, 551, 552, 553, 554, 555, 556, 557]}, 'training_data_2d': {'num_crop_slices': 1,\n",
      "    'all_center_slices': [5, 6, 7, 8, 9, 10, 11, 12, 13, 14, 15, 16, 17, 18, 19, 20, 21, 22, 23, 24, 25], 'max_z_dist_for_traces': 3, 'is_color':\n",
      "    True}, 'preprocessing_config': '2-training_data/preprocessing_config.yaml', 'dlc_projects': {'all_configs':\n",
      "    ['Y:\\\\shared_projects\\\\wbfm\\\\dlc_stacks\\\\Charlie-worm3-new-seg\\\\3-tracking\\\\C-c10-C-2021-07-19\\\\config.yaml',\n",
      "    'Y:\\\\shared_projects\\\\wbfm\\\\dlc_stacks\\\\Charlie-worm3-new-seg\\\\3-tracking\\\\C-c11-C-2021-07-19\\\\config.yaml',\n",
      "    'Y:\\\\shared_projects\\\\wbfm\\\\dlc_stacks\\\\Charlie-worm3-new-seg\\\\3-tracking\\\\C-c12-C-2021-07-19\\\\config.yaml',\n",
      "    'Y:\\\\shared_projects\\\\wbfm\\\\dlc_stacks\\\\Charlie-worm3-new-seg\\\\3-tracking\\\\C-c13-C-2021-07-19\\\\config.yaml',\n",
      "    'Y:\\\\shared_projects\\\\wbfm\\\\dlc_stacks\\\\Charlie-worm3-new-seg\\\\3-tracking\\\\C-c14-C-2021-07-19\\\\config.yaml',\n",
      "    'Y:\\\\shared_projects\\\\wbfm\\\\dlc_stacks\\\\Charlie-worm3-new-seg\\\\3-tracking\\\\C-c15-C-2021-07-19\\\\config.yaml',\n",
      "    'Y:\\\\shared_projects\\\\wbfm\\\\dlc_stacks\\\\Charlie-worm3-new-seg\\\\3-tracking\\\\C-c16-C-2021-07-19\\\\config.yaml',\n",
      "    'Y:\\\\shared_projects\\\\wbfm\\\\dlc_stacks\\\\Charlie-worm3-new-seg\\\\3-tracking\\\\C-c17-C-2021-07-19\\\\config.yaml',\n",
      "    'Y:\\\\shared_projects\\\\wbfm\\\\dlc_stacks\\\\Charlie-worm3-new-seg\\\\3-tracking\\\\C-c18-C-2021-07-19\\\\config.yaml',\n",
      "    'Y:\\\\shared_projects\\\\wbfm\\\\dlc_stacks\\\\Charlie-worm3-new-seg\\\\3-tracking\\\\C-c19-C-2021-07-19\\\\config.yaml',\n",
      "    'Y:\\\\shared_projects\\\\wbfm\\\\dlc_stacks\\\\Charlie-worm3-new-seg\\\\3-tracking\\\\C-c20-C-2021-07-19\\\\config.yaml',\n",
      "    'Y:\\\\shared_projects\\\\wbfm\\\\dlc_stacks\\\\Charlie-worm3-new-seg\\\\3-tracking\\\\C-c21-C-2021-07-19\\\\config.yaml',\n",
      "    'Y:\\\\shared_projects\\\\wbfm\\\\dlc_stacks\\\\Charlie-worm3-new-seg\\\\3-tracking\\\\C-c22-C-2021-07-19\\\\config.yaml',\n",
      "    'Y:\\\\shared_projects\\\\wbfm\\\\dlc_stacks\\\\Charlie-worm3-new-seg\\\\3-tracking\\\\C-c23-C-2021-07-19\\\\config.yaml',\n",
      "    'Y:\\\\shared_projects\\\\wbfm\\\\dlc_stacks\\\\Charlie-worm3-new-seg\\\\3-tracking\\\\C-c24-C-2021-07-19\\\\config.yaml',\n",
      "    'Y:\\\\shared_projects\\\\wbfm\\\\dlc_stacks\\\\Charlie-worm3-new-seg\\\\3-tracking\\\\C-c25-C-2021-07-19\\\\config.yaml',\n",
      "    'Y:\\\\shared_projects\\\\wbfm\\\\dlc_stacks\\\\Charlie-worm3-new-seg\\\\3-tracking\\\\C-c5-C-2021-07-19\\\\config.yaml',\n",
      "    'Y:\\\\shared_projects\\\\wbfm\\\\dlc_stacks\\\\Charlie-worm3-new-seg\\\\3-tracking\\\\C-c6-C-2021-07-19\\\\config.yaml',\n",
      "    'Y:\\\\shared_projects\\\\wbfm\\\\dlc_stacks\\\\Charlie-worm3-new-seg\\\\3-tracking\\\\C-c7-C-2021-07-19\\\\config.yaml',\n",
      "    'Y:\\\\shared_projects\\\\wbfm\\\\dlc_stacks\\\\Charlie-worm3-new-seg\\\\3-tracking\\\\C-c8-C-2021-07-19\\\\config.yaml',\n",
      "    'Y:\\\\shared_projects\\\\wbfm\\\\dlc_stacks\\\\Charlie-worm3-new-seg\\\\3-tracking\\\\C-c9-C-2021-07-19\\\\config.yaml']}, 'final_3d_tracks': {'df_fname':\n",
      "    '3-tracking/postprocessing/combined_3d_tracks.h5', 'max_dist': 5.0, 'max_dist_to_segmentation': 20.0, 'use_filtered': False},\n",
      "    'use_pretrained_dlc': True, 'pose_config_updates': {'rotation': 180, 'multi_step': [[0.0005, 10000], [0.0001, 20000], [5e-05, 50000], [1e-05,\n",
      "    100000]], 'pos_dist_thresh': 5}, 'dataset_params': {'start_volume': 0, 'num_frames': 1500, 'fps': 5.0, 'num_slices': 32, 'z_to_xy_ratio': 5.0,\n",
      "    'red_and_green_mirrored': True}, 'project_dir': 'Y:\\\\shared_projects\\\\wbfm\\\\dlc_stacks\\\\Charlie-worm3-new-seg'}\n",
      "    track_fname: 3-tracking\\tracking_config.yaml\n",
      "\n",
      "Result:\n",
      "    None\n",
      "\n",
      "Dependencies:\n",
      "    dlc-for-wbfm==0.2\n",
      "    munch==2.5.0\n",
      "    numpy==1.20.1\n",
      "    sacred==0.8.2\n",
      "\n",
      "Resources:\n",
      "    None\n",
      "\n",
      "Source Files:\n",
      "    4-make_full_traces.py\n",
      "\n",
      "Outputs:\n",
      "    None\n",
      "\n"
     ]
    }
   ],
   "source": [
    "results = reader.fetch_report(indices=-1)\n",
    "print(results[0])"
   ]
  },
  {
   "cell_type": "code",
   "execution_count": null,
   "id": "6dc533b5-51a7-44fb-a330-8afd1bbdcc0e",
   "metadata": {},
   "outputs": [],
   "source": []
  }
 ],
 "metadata": {
  "kernelspec": {
   "display_name": "Python [conda env:segmentation]",
   "language": "python",
   "name": "conda-env-segmentation-py"
  },
  "language_info": {
   "codemirror_mode": {
    "name": "ipython",
    "version": 3
   },
   "file_extension": ".py",
   "mimetype": "text/x-python",
   "name": "python",
   "nbconvert_exporter": "python",
   "pygments_lexer": "ipython3",
   "version": "3.7.10"
  }
 },
 "nbformat": 4,
 "nbformat_minor": 5
}
