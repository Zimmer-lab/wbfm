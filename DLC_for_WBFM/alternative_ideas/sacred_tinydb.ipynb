{
 "cells": [
  {
   "cell_type": "code",
   "execution_count": 1,
   "id": "3a3e952f-c11e-4b97-bffa-55068c206740",
   "metadata": {},
   "outputs": [],
   "source": [
    "from sacred.observers import TinyDbReader\n",
    "from pathlib import Path"
   ]
  },
  {
   "cell_type": "code",
   "execution_count": 2,
   "id": "61c5840a-2f89-4455-afb3-7bfd571c6f4e",
   "metadata": {},
   "outputs": [],
   "source": [
    "project_fname = r\"C:\\dlc_stacks\\Charlie-worm3-new-seg\\project_config.yaml\"\n",
    "project_dir = Path(project_fname).parent\n",
    "log_dir = project_dir.joinpath('log')\n",
    "\n",
    "reader = TinyDbReader(log_dir)"
   ]
  },
  {
   "cell_type": "code",
   "execution_count": 4,
   "id": "e38c38f4-5eee-49df-821e-99c666f66e84",
   "metadata": {},
   "outputs": [
    {
     "name": "stdout",
     "output_type": "stream",
     "text": [
      "\n",
      "-------------------------------------------------\n",
      "Experiment: 4+make_grid_plot\n",
      "-------------------------------------------------\n",
      "ID: eb82050279c3429c8d98135f6d7ffaa2\n",
      "Date: Tue 03 Aug 2021    Duration: 00:00:04.8\n",
      "\n",
      "Parameters:\n",
      "    log_dir: C:\\dlc_stacks\\Charlie-worm3-new-seg\\log\n",
      "    project_cfg: {'task_name': 'test', 'experimenter': 'Charlie', 'project_dir': 'Y:/shared_projects/wbfm/dlc_stacks', 'project_path': None,\n",
      "    'red_bigtiff_fname': 'Y:/shared_projects/wbfm/dat/ZIM2051/2021-03-04_16-07-57_worm3_ZIM2051/2021-03-04_16-07-57_worm3_ZIM2051-channel-0-pco_camera\n",
      "    1/2021-03-04_16-07-57_worm3_ZIM2051-channel-0-pco_camera1bigtiff.btf', 'green_bigtiff_fname': 'Y:/shared_projects/wbfm/dat/ZIM2051/2021-03-04_16-0\n",
      "    7-57_worm3_ZIM2051/2021-03-04_16-07-57_worm3_ZIM2051-channel-1-pco_camera2/2021-03-04_16-07-57_worm3_ZIM2051-channel-1-pco_camera2bigtiff.btf',\n",
      "    'preprocessing_config': 'preprocessing_config.yaml', 'preprocessed_red': 'D:\\\\2021-03-04_16-07-57_worm3_ZIM2051\\\\2021-03-04_16-07-57_worm3_ZIM2051\n",
      "    -channel-0-pco_camera1\\\\2021-03-04_16-07-57_worm3_ZIM2051-channel-0-pco_camera1bigtiff.zarr', 'preprocessed_green': 'D:\\\\2021-03-04_16-07-57_worm3\n",
      "    _ZIM2051\\\\2021-03-04_16-07-57_worm3_ZIM2051-channel-1-pco_camera2\\\\2021-03-04_16-07-57_worm3_ZIM2051-channel-1-pco_camera2bigtiff.zarr',\n",
      "    'dataset_params': {'start_volume': 0, 'num_frames': 1500, 'fps': 5.0, 'num_slices': 32, 'z_to_xy_ratio': 1.0, 'red_and_green_mirrored': True},\n",
      "    'subfolder_configs': {'segmentation': '1-segmentation/segment_config.yaml', 'training_data': '2-training_data/training_data_config.yaml',\n",
      "    'tracking': '3-tracking/tracking_config.yaml', 'traces': '4-traces/traces_config.yaml'}, 'current_status': {'segmentation': False,\n",
      "    'training_data_3d': False, 'training_data_2d': False, 'dlc_networks': False, 'traces': False}, 'other': {'verbose': 2, 'DEBUG': False}, 'seed':\n",
      "    226587197}\n",
      "    project_dir: C:\\dlc_stacks\\Charlie-worm3-new-seg\n",
      "    project_path: C:/dlc_stacks/Charlie-worm3-new-seg/project_config.yaml\n",
      "    seed: 242685136\n",
      "    trace_mode: green\n",
      "    traces_cfg: {'self_path': '4-traces/traces_config.yaml', 'traces': {'red': '4-traces\\\\red_traces.h5', 'green': '4-traces\\\\green_traces.h5',\n",
      "    'neuron_names': ['neuron1550', 'neuron1673', 'neuron2224', 'neuron3529', 'neuron3796', 'neuron4217', 'neuron4350', 'neuron4381', 'neuron4528',\n",
      "    'neuron4608', 'neuron4615', 'neuron4695', 'neuron4709', 'neuron4717', 'neuron4764', 'neuron4797', 'neuron4828', 'neuron4839', 'neuron4908',\n",
      "    'neuron5077', 'neuron5083', 'neuron5092', 'neuron5099', 'neuron5154', 'neuron5221', 'neuron5223', 'neuron5238', 'neuron5258', 'neuron5259',\n",
      "    'neuron5262', 'neuron5318', 'neuron5323', 'neuron5329', 'neuron5334', 'neuron5352', 'neuron5355', 'neuron5360', 'neuron5368', 'neuron5373',\n",
      "    'neuron5374', 'neuron5375', 'neuron5382', 'neuron5385', 'neuron5387', 'neuron5389', 'neuron5395', 'neuron5397', 'neuron5398', 'neuron5399',\n",
      "    'neuron5400', 'neuron5401', 'neuron5403', 'neuron5404', 'neuron5406', 'neuron5407', 'neuron5410', 'neuron5411', 'neuron5412', 'neuron5413',\n",
      "    'neuron5414', 'neuron5416', 'neuron5419', 'neuron5422', 'neuron5423', 'neuron5425', 'neuron5426', 'neuron5430', 'neuron5431', 'neuron5439',\n",
      "    'neuron5454', 'neuron5459', 'neuron5464', 'neuron5465', 'neuron67']}, 'all_matches': '4-traces\\\\all_matches.pickle'}\n",
      "    traces_fname: C:\\dlc_stacks\\Charlie-worm3-new-seg\\4-traces\\traces_config.yaml\n",
      "\n",
      "Result:\n",
      "    None\n",
      "\n",
      "Dependencies:\n",
      "    dlc-for-wbfm==0.2\n",
      "    numpy==1.20.3\n",
      "    sacred==0.8.2\n",
      "\n",
      "Resources:\n",
      "    None\n",
      "\n",
      "Source Files:\n",
      "    4+make_grid_plot.py\n",
      "\n",
      "Outputs:\n",
      "    None\n",
      "\n"
     ]
    }
   ],
   "source": [
    "results = reader.fetch_report(indices=-1)\n",
    "print(results[0])"
   ]
  },
  {
   "cell_type": "code",
   "execution_count": null,
   "id": "6dc533b5-51a7-44fb-a330-8afd1bbdcc0e",
   "metadata": {},
   "outputs": [],
   "source": []
  }
 ],
 "metadata": {
  "kernelspec": {
   "display_name": "Python [conda env:segmentation]",
   "language": "python",
   "name": "conda-env-segmentation-py"
  },
  "language_info": {
   "codemirror_mode": {
    "name": "ipython",
    "version": 3
   },
   "file_extension": ".py",
   "mimetype": "text/x-python",
   "name": "python",
   "nbconvert_exporter": "python",
   "pygments_lexer": "ipython3",
   "version": "3.7.10"
  }
 },
 "nbformat": 4,
 "nbformat_minor": 5
}
