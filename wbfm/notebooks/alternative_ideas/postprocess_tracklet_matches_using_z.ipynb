{
 "cells": [
  {
   "cell_type": "code",
   "execution_count": 1,
   "id": "d0a81b00-d4df-462f-acfb-f1051f3d8456",
   "metadata": {},
   "outputs": [
    {
     "name": "stderr",
     "output_type": "stream",
     "text": [
      "\n",
      "Bad key \"text.kerning_factor\" on line 4 in\n",
      "/home/charles/anaconda3/envs/torch/lib/python3.7/site-packages/matplotlib/mpl-data/stylelib/_classic_test_patch.mplstyle.\n",
      "You probably need to get an updated matplotlibrc file from\n",
      "http://github.com/matplotlib/matplotlib/blob/master/matplotlibrc.template\n",
      "or from the matplotlib source distribution\n"
     ]
    }
   ],
   "source": [
    "%load_ext autoreload\n",
    "%autoreload 2\n",
    "import matplotlib.pyplot as plt\n",
    "from wbfm.utils.projects.finished_project_data import ProjectData\n",
    "import napari\n",
    "import pandas as pd\n",
    "import numpy as np\n",
    "from wbfm.utils.feature_detection.class_frame_pair import FramePair\n"
   ]
  },
  {
   "cell_type": "code",
   "execution_count": 2,
   "id": "68a82ccf-9afe-4c69-a4e1-6c821c8bbb9b",
   "metadata": {},
   "outputs": [
    {
     "name": "stderr",
     "output_type": "stream",
     "text": [
      "WARNING:root:Did not find file /scratch/zimmer/Charles/dlc_stacks/worm9-gui_test/3-tracking/manual_annotation/split_names.pickle\n",
      "WARNING:root:Did not find file /scratch/zimmer/Charles/dlc_stacks/worm9-gui_test/3-tracking/manual_annotation/split_times.pickle\n"
     ]
    },
    {
     "name": "stdout",
     "output_type": "stream",
     "text": [
      "Output files: /scratch/zimmer/Charles/dlc_stacks/worm9-gui_test/3-tracking/manual_annotation/global2tracklet_manual.pickle, /scratch/zimmer/Charles/dlc_stacks/worm9-gui_test/3-tracking/manual_annotation/manually_split_tracklets.h5, /scratch/zimmer/Charles/dlc_stacks/worm9-gui_test/3-tracking/manual_annotation/split_names.pickle, /scratch/zimmer/Charles/dlc_stacks/worm9-gui_test/3-tracking/manual_annotation/split_times.pickle\n",
      "=======================================\n",
      "Project data for directory:\n",
      "/scratch/zimmer/Charles/dlc_stacks/worm9-gui_test \n",
      "=======================================\n",
      "Found the following raw data files:\n",
      "red_data:                 True\n",
      "green_data:               True\n",
      "============Segmentation===============\n",
      "raw_segmentation:         True\n",
      "segmentation:             True\n",
      "============Tracklets==================\n",
      "df_training_tracklets:    True\n",
      "reindexed_masks_training: True\n",
      "============Traces=====================\n",
      "red_traces:               True\n",
      "green_traces:             True\n",
      "final_tracks:             True\n",
      "behavior_annotations:     True\n",
      "\n"
     ]
    }
   ],
   "source": [
    "fname = \"/scratch/zimmer/Charles/dlc_stacks/worm9-gui_test/project_config.yaml\"\n",
    "project_data = ProjectData.load_final_project_data_from_config(fname, to_load_tracklets=True, to_load_segmentation_metadata=True)"
   ]
  },
  {
   "cell_type": "markdown",
   "id": "44d4cdb2-2219-4399-9cb5-45817d57b910",
   "metadata": {},
   "source": [
    "# Look at tracklets that were correctly and incorrectly assigned"
   ]
  },
  {
   "cell_type": "code",
   "execution_count": 3,
   "id": "dd14c48a-2af7-4b0a-8330-13ee8164b085",
   "metadata": {},
   "outputs": [],
   "source": [
    "df_tracklets = project_data.df_all_tracklets"
   ]
  },
  {
   "cell_type": "code",
   "execution_count": 4,
   "id": "99d62353-dd58-4657-8dc2-d54700992edb",
   "metadata": {},
   "outputs": [],
   "source": [
    "# Neuron 2\n",
    "i_was_assigned_good = 'tracklet_0000076'\n",
    "was_assigned_good = df_tracklets[i_was_assigned_good]\n",
    "i_was_assigned_bad = 'tracklet_0003725'\n",
    "was_assigned_bad = df_tracklets[i_was_assigned_bad]"
   ]
  },
  {
   "cell_type": "code",
   "execution_count": 5,
   "id": "b09df041-e8be-4ae4-bc71-28d27a6993bd",
   "metadata": {},
   "outputs": [],
   "source": [
    "i_not_assigned_good = 'tracklet_0003411'\n",
    "not_assigned_good = df_tracklets[i_not_assigned_good]"
   ]
  },
  {
   "cell_type": "code",
   "execution_count": 23,
   "id": "c3e039d7-17dc-4ed7-b9e7-f9e3511abad9",
   "metadata": {},
   "outputs": [
    {
     "data": {
      "text/html": [
       "<div>\n",
       "<style scoped>\n",
       "    .dataframe tbody tr th:only-of-type {\n",
       "        vertical-align: middle;\n",
       "    }\n",
       "\n",
       "    .dataframe tbody tr th {\n",
       "        vertical-align: top;\n",
       "    }\n",
       "\n",
       "    .dataframe thead th {\n",
       "        text-align: right;\n",
       "    }\n",
       "</style>\n",
       "<table border=\"1\" class=\"dataframe\">\n",
       "  <thead>\n",
       "    <tr style=\"text-align: right;\">\n",
       "      <th>coords</th>\n",
       "      <th>z</th>\n",
       "      <th>x</th>\n",
       "      <th>y</th>\n",
       "      <th>likelihood</th>\n",
       "      <th>raw_neuron_id</th>\n",
       "      <th>brightness_red</th>\n",
       "      <th>volume</th>\n",
       "    </tr>\n",
       "  </thead>\n",
       "  <tbody>\n",
       "    <tr>\n",
       "      <th>0</th>\n",
       "      <td>10.422511</td>\n",
       "      <td>223.389691</td>\n",
       "      <td>563.542558</td>\n",
       "      <td>0.600999</td>\n",
       "      <td>81.0</td>\n",
       "      <td>14686.0</td>\n",
       "      <td>577.0</td>\n",
       "    </tr>\n",
       "    <tr>\n",
       "      <th>1</th>\n",
       "      <td>10.503183</td>\n",
       "      <td>221.308208</td>\n",
       "      <td>556.427538</td>\n",
       "      <td>0.728719</td>\n",
       "      <td>78.0</td>\n",
       "      <td>14925.0</td>\n",
       "      <td>562.0</td>\n",
       "    </tr>\n",
       "    <tr>\n",
       "      <th>2</th>\n",
       "      <td>10.520984</td>\n",
       "      <td>210.890190</td>\n",
       "      <td>531.396608</td>\n",
       "      <td>0.608017</td>\n",
       "      <td>80.0</td>\n",
       "      <td>15035.0</td>\n",
       "      <td>563.0</td>\n",
       "    </tr>\n",
       "    <tr>\n",
       "      <th>3</th>\n",
       "      <td>10.584052</td>\n",
       "      <td>211.489506</td>\n",
       "      <td>516.604448</td>\n",
       "      <td>0.504838</td>\n",
       "      <td>79.0</td>\n",
       "      <td>15199.0</td>\n",
       "      <td>576.0</td>\n",
       "    </tr>\n",
       "    <tr>\n",
       "      <th>4</th>\n",
       "      <td>10.943973</td>\n",
       "      <td>218.568154</td>\n",
       "      <td>500.607507</td>\n",
       "      <td>0.522517</td>\n",
       "      <td>82.0</td>\n",
       "      <td>16492.0</td>\n",
       "      <td>609.0</td>\n",
       "    </tr>\n",
       "  </tbody>\n",
       "</table>\n",
       "</div>"
      ],
      "text/plain": [
       "coords          z           x           y  likelihood  raw_neuron_id  \\\n",
       "0       10.422511  223.389691  563.542558    0.600999           81.0   \n",
       "1       10.503183  221.308208  556.427538    0.728719           78.0   \n",
       "2       10.520984  210.890190  531.396608    0.608017           80.0   \n",
       "3       10.584052  211.489506  516.604448    0.504838           79.0   \n",
       "4       10.943973  218.568154  500.607507    0.522517           82.0   \n",
       "\n",
       "coords  brightness_red  volume  \n",
       "0              14686.0   577.0  \n",
       "1              14925.0   562.0  \n",
       "2              15035.0   563.0  \n",
       "3              15199.0   576.0  \n",
       "4              16492.0   609.0  "
      ]
     },
     "execution_count": 23,
     "metadata": {},
     "output_type": "execute_result"
    }
   ],
   "source": [
    "was_assigned_good.head()"
   ]
  },
  {
   "cell_type": "code",
   "execution_count": 26,
   "id": "09c9df31-1e6e-49e7-815d-1746809659fa",
   "metadata": {},
   "outputs": [],
   "source": [
    "to_plot = 'brightness_red'\n",
    "\n",
    "x1 = was_assigned_good[to_plot]\n",
    "x2 = not_assigned_good[to_plot]\n",
    "y1 = was_assigned_bad[to_plot]"
   ]
  },
  {
   "cell_type": "code",
   "execution_count": 27,
   "id": "50c3d5fc-c996-429b-b30d-25b651c8190c",
   "metadata": {},
   "outputs": [
    {
     "data": {
      "text/plain": [
       "([array([ 1.,  5., 15., 62., 75., 74., 74., 53., 19.,  4.]),\n",
       "  array([ 2.,  4., 21., 74., 86., 90., 37., 26., 12.,  5.]),\n",
       "  array([ 0.,  5., 18., 24., 17.,  5.,  4.,  2.,  3.,  1.])],\n",
       " array([ 8155. , 10104.6, 12054.2, 14003.8, 15953.4, 17903. , 19852.6,\n",
       "        21802.2, 23751.8, 25701.4, 27651. ]),\n",
       " <a list of 3 Lists of Patches objects>)"
      ]
     },
     "execution_count": 27,
     "metadata": {},
     "output_type": "execute_result"
    },
    {
     "data": {
      "image/png": "[encoded data removed]",
      "text/plain": [
       "<Figure size 432x288 with 1 Axes>"
      ]
     },
     "metadata": {
      "needs_background": "light"
     },
     "output_type": "display_data"
    }
   ],
   "source": [
    "plt.hist([x1, x2, y1])"
   ]
  },
  {
   "cell_type": "markdown",
   "id": "c073c1e3-154f-400b-9513-4c047c0b62ff",
   "metadata": {},
   "source": [
    "# Try simple outlier detection"
   ]
  },
  {
   "cell_type": "code",
   "execution_count": 33,
   "id": "a61bb67c-0a0b-4761-8372-0e9005ccbdb6",
   "metadata": {},
   "outputs": [],
   "source": [
    "from sklearn.covariance import EllipticEnvelope\n",
    "from sklearn.svm import OneClassSVM\n",
    "# from sklearn.linear_model import SGDOneClassSVM"
   ]
  },
  {
   "cell_type": "code",
   "execution_count": 45,
   "id": "e225d17d-ce50-4678-8bc9-16a544facae7",
   "metadata": {},
   "outputs": [],
   "source": [
    "to_plot = ['brightness_red', 'z', 'volume']\n",
    "\n",
    "# x1 = was_assigned_good[to_plot].dropna().to_numpy().reshape(-1,1)\n",
    "# x2 = not_assigned_good[to_plot].dropna().to_numpy().reshape(-1,1)\n",
    "# y1 = was_assigned_bad[to_plot].dropna().to_numpy().reshape(-1,1)\n",
    "x1 = was_assigned_good[to_plot].dropna().to_numpy()\n",
    "x2 = not_assigned_good[to_plot].dropna().to_numpy()\n",
    "y1 = was_assigned_bad[to_plot].dropna().to_numpy()"
   ]
  },
  {
   "cell_type": "code",
   "execution_count": 46,
   "id": "5ae376e1-3e7e-475f-bf11-765317aec00d",
   "metadata": {},
   "outputs": [
    {
     "data": {
      "text/plain": [
       "(382, 3)"
      ]
     },
     "execution_count": 46,
     "metadata": {},
     "output_type": "execute_result"
    }
   ],
   "source": [
    "x1.shape"
   ]
  },
  {
   "cell_type": "code",
   "execution_count": 51,
   "id": "97f4411a-527c-4434-b455-91c7e403263c",
   "metadata": {},
   "outputs": [
    {
     "name": "stdout",
     "output_type": "stream",
     "text": [
      "37.7 ms ± 9.17 ms per loop (mean ± std. dev. of 7 runs, 10 loops each)\n"
     ]
    }
   ],
   "source": [
    "%%timeit\n",
    "classifier = EllipticEnvelope(support_fraction=1.0, contamination=0.05).fit(x1)\n",
    "classifier.predict(y1)"
   ]
  },
  {
   "cell_type": "code",
   "execution_count": 52,
   "id": "7cee99e9-3bf4-4f8f-bc49-6621a8bce32b",
   "metadata": {},
   "outputs": [
    {
     "name": "stdout",
     "output_type": "stream",
     "text": [
      "9.91 ms ± 1.65 ms per loop (mean ± std. dev. of 7 runs, 100 loops each)\n"
     ]
    }
   ],
   "source": [
    "%%timeit\n",
    "classifier = OneClassSVM().fit(x1)\n",
    "classifier.predict(y1)"
   ]
  },
  {
   "cell_type": "code",
   "execution_count": 53,
   "id": "97f4ef2d-8c11-45d5-a2f6-ee6d8f8b2765",
   "metadata": {},
   "outputs": [
    {
     "data": {
      "text/plain": [
       "array([-1, -1,  1, -1, -1, -1,  1,  1,  1,  1,  1,  1,  1, -1, -1, -1, -1,\n",
       "       -1, -1, -1, -1, -1, -1, -1, -1,  1, -1, -1, -1, -1, -1, -1, -1, -1,\n",
       "        1,  1,  1,  1,  1,  1,  1,  1, -1,  1, -1, -1, -1, -1, -1, -1, -1,\n",
       "       -1, -1, -1, -1, -1, -1, -1, -1, -1, -1, -1,  1,  1, -1, -1, -1, -1,\n",
       "       -1, -1, -1, -1, -1,  1, -1, -1, -1,  1, -1])"
      ]
     },
     "execution_count": 53,
     "metadata": {},
     "output_type": "execute_result"
    }
   ],
   "source": [
    "classifier.predict(y1)"
   ]
  },
  {
   "cell_type": "code",
   "execution_count": 117,
   "id": "23b6c216-a640-43ad-a9b7-02aed598c5fe",
   "metadata": {},
   "outputs": [
    {
     "name": "stderr",
     "output_type": "stream",
     "text": [
      "[autoreload of wbfm.utils.pipeline.tracklet_class failed: Traceback (most recent call last):\n",
      "  File \"/home/charles/anaconda3/envs/torch/lib/python3.7/site-packages/IPython/extensions/autoreload.py\", line 245, in check\n",
      "    superreload(m, reload, self.old_objects)\n",
      "  File \"/home/charles/anaconda3/envs/torch/lib/python3.7/site-packages/IPython/extensions/autoreload.py\", line 394, in superreload\n",
      "    module = reload(module)\n",
      "  File \"/home/charles/anaconda3/envs/torch/lib/python3.7/imp.py\", line 314, in reload\n",
      "    return importlib.reload(module)\n",
      "  File \"/home/charles/anaconda3/envs/torch/lib/python3.7/importlib/__init__.py\", line 169, in reload\n",
      "    _bootstrap._exec(spec, module)\n",
      "  File \"<frozen importlib._bootstrap>\", line 630, in _exec\n",
      "  File \"<frozen importlib._bootstrap_external>\", line 724, in exec_module\n",
      "  File \"<frozen importlib._bootstrap_external>\", line 860, in get_code\n",
      "  File \"<frozen importlib._bootstrap_external>\", line 791, in source_to_code\n",
      "  File \"<frozen importlib._bootstrap>\", line 219, in _call_with_frames_removed\n",
      "  File \"/home/charles/Current_work/repos/dlc_for_wbfm/wbfm/utils/pipeline/tracklet_class.py\", line 58\n",
      "    else:\n",
      "       ^\n",
      "IndentationError: expected an indented block\n",
      "]\n"
     ]
    },
    {
     "data": {
      "text/plain": [
       "-0.4430379746835443"
      ]
     },
     "execution_count": 117,
     "metadata": {},
     "output_type": "execute_result"
    }
   ],
   "source": [
    "np.mean(classifier.predict(y1))"
   ]
  },
  {
   "cell_type": "markdown",
   "id": "93ee3ce4-1a30-45b9-a68f-debeaab8f61a",
   "metadata": {},
   "source": [
    "# Use classes (initialize on training data)"
   ]
  },
  {
   "cell_type": "code",
   "execution_count": null,
   "id": "6c6a595b-5571-4cc9-85a1-3daa213cfcc8",
   "metadata": {},
   "outputs": [],
   "source": []
  },
  {
   "cell_type": "code",
   "execution_count": null,
   "id": "c9d1a87e-0819-42c9-b0dd-142c0d4e5f08",
   "metadata": {},
   "outputs": [],
   "source": []
  },
  {
   "cell_type": "code",
   "execution_count": null,
   "id": "15c80715-f03b-4c15-b7a0-ebc8c8be2042",
   "metadata": {},
   "outputs": [],
   "source": []
  },
  {
   "cell_type": "markdown",
   "id": "92c1689f-b654-4132-92bf-666713f52c30",
   "metadata": {},
   "source": [
    "# Scratch: Use neuron/tracklet classes"
   ]
  },
  {
   "cell_type": "code",
   "execution_count": 104,
   "id": "f390a05c-27ec-41a6-921d-2b67a64b6cf4",
   "metadata": {},
   "outputs": [],
   "source": [
    "from wbfm.utils.pipeline.tracklet_class import TrackedWorm"
   ]
  },
  {
   "cell_type": "code",
   "execution_count": 105,
   "id": "3154856c-d25d-4df4-8582-3e8066289f82",
   "metadata": {},
   "outputs": [],
   "source": [
    "tracklets_and_neurons_class = project_data.tracklets_and_neurons_class\n",
    "\n",
    "worm_obj = TrackedWorm(detections=tracklets_and_neurons_class, verbose=1)"
   ]
  },
  {
   "cell_type": "code",
   "execution_count": 106,
   "id": "a56b51df-8ce7-4303-848d-a0b70b1187cc",
   "metadata": {},
   "outputs": [],
   "source": [
    "worm_obj.initialize_neurons_at_time_0()"
   ]
  },
  {
   "cell_type": "code",
   "execution_count": 107,
   "id": "2eb8be05-1160-44c4-8f2a-f889d2e53a9c",
   "metadata": {},
   "outputs": [
    {
     "data": {
      "text/plain": [
       "Neuron neuron_001 (index=0) with 1 tracklets from time 0 to 373"
      ]
     },
     "execution_count": 107,
     "metadata": {},
     "output_type": "execute_result"
    }
   ],
   "source": [
    "worm_obj.global_name_to_neuron['neuron_001']"
   ]
  },
  {
   "cell_type": "code",
   "execution_count": 108,
   "id": "c6138838-9502-4411-9534-4a46cbd3ee8b",
   "metadata": {},
   "outputs": [
    {
     "data": {
      "text/html": [
       "<div>\n",
       "<style scoped>\n",
       "    .dataframe tbody tr th:only-of-type {\n",
       "        vertical-align: middle;\n",
       "    }\n",
       "\n",
       "    .dataframe tbody tr th {\n",
       "        vertical-align: top;\n",
       "    }\n",
       "\n",
       "    .dataframe thead th {\n",
       "        text-align: right;\n",
       "    }\n",
       "</style>\n",
       "<table border=\"1\" class=\"dataframe\">\n",
       "  <thead>\n",
       "    <tr style=\"text-align: right;\">\n",
       "      <th>coords</th>\n",
       "      <th>z</th>\n",
       "      <th>x</th>\n",
       "      <th>y</th>\n",
       "      <th>likelihood</th>\n",
       "      <th>raw_neuron_id</th>\n",
       "      <th>brightness_red</th>\n",
       "      <th>volume</th>\n",
       "    </tr>\n",
       "  </thead>\n",
       "  <tbody>\n",
       "    <tr>\n",
       "      <th>0</th>\n",
       "      <td>4.152485</td>\n",
       "      <td>275.693147</td>\n",
       "      <td>552.621238</td>\n",
       "      <td>0.542036</td>\n",
       "      <td>1.0</td>\n",
       "      <td>30803.0</td>\n",
       "      <td>800.0</td>\n",
       "    </tr>\n",
       "    <tr>\n",
       "      <th>1</th>\n",
       "      <td>3.468167</td>\n",
       "      <td>274.280342</td>\n",
       "      <td>556.839252</td>\n",
       "      <td>0.760970</td>\n",
       "      <td>5.0</td>\n",
       "      <td>31540.0</td>\n",
       "      <td>781.0</td>\n",
       "    </tr>\n",
       "    <tr>\n",
       "      <th>2</th>\n",
       "      <td>3.360745</td>\n",
       "      <td>263.394089</td>\n",
       "      <td>552.938977</td>\n",
       "      <td>0.436579</td>\n",
       "      <td>4.0</td>\n",
       "      <td>29841.0</td>\n",
       "      <td>753.0</td>\n",
       "    </tr>\n",
       "    <tr>\n",
       "      <th>3</th>\n",
       "      <td>3.284924</td>\n",
       "      <td>258.567386</td>\n",
       "      <td>545.282091</td>\n",
       "      <td>0.471898</td>\n",
       "      <td>6.0</td>\n",
       "      <td>29650.0</td>\n",
       "      <td>776.0</td>\n",
       "    </tr>\n",
       "    <tr>\n",
       "      <th>4</th>\n",
       "      <td>3.493030</td>\n",
       "      <td>258.036256</td>\n",
       "      <td>540.754655</td>\n",
       "      <td>0.389865</td>\n",
       "      <td>4.0</td>\n",
       "      <td>29485.0</td>\n",
       "      <td>752.0</td>\n",
       "    </tr>\n",
       "    <tr>\n",
       "      <th>...</th>\n",
       "      <td>...</td>\n",
       "      <td>...</td>\n",
       "      <td>...</td>\n",
       "      <td>...</td>\n",
       "      <td>...</td>\n",
       "      <td>...</td>\n",
       "      <td>...</td>\n",
       "    </tr>\n",
       "    <tr>\n",
       "      <th>1994</th>\n",
       "      <td>NaN</td>\n",
       "      <td>NaN</td>\n",
       "      <td>NaN</td>\n",
       "      <td>NaN</td>\n",
       "      <td>NaN</td>\n",
       "      <td>NaN</td>\n",
       "      <td>NaN</td>\n",
       "    </tr>\n",
       "    <tr>\n",
       "      <th>1995</th>\n",
       "      <td>NaN</td>\n",
       "      <td>NaN</td>\n",
       "      <td>NaN</td>\n",
       "      <td>NaN</td>\n",
       "      <td>NaN</td>\n",
       "      <td>NaN</td>\n",
       "      <td>NaN</td>\n",
       "    </tr>\n",
       "    <tr>\n",
       "      <th>1996</th>\n",
       "      <td>NaN</td>\n",
       "      <td>NaN</td>\n",
       "      <td>NaN</td>\n",
       "      <td>NaN</td>\n",
       "      <td>NaN</td>\n",
       "      <td>NaN</td>\n",
       "      <td>NaN</td>\n",
       "    </tr>\n",
       "    <tr>\n",
       "      <th>1997</th>\n",
       "      <td>NaN</td>\n",
       "      <td>NaN</td>\n",
       "      <td>NaN</td>\n",
       "      <td>NaN</td>\n",
       "      <td>NaN</td>\n",
       "      <td>NaN</td>\n",
       "      <td>NaN</td>\n",
       "    </tr>\n",
       "    <tr>\n",
       "      <th>1998</th>\n",
       "      <td>NaN</td>\n",
       "      <td>NaN</td>\n",
       "      <td>NaN</td>\n",
       "      <td>NaN</td>\n",
       "      <td>NaN</td>\n",
       "      <td>NaN</td>\n",
       "      <td>NaN</td>\n",
       "    </tr>\n",
       "  </tbody>\n",
       "</table>\n",
       "<p>1999 rows × 7 columns</p>\n",
       "</div>"
      ],
      "text/plain": [
       "coords         z           x           y  likelihood  raw_neuron_id  \\\n",
       "0       4.152485  275.693147  552.621238    0.542036            1.0   \n",
       "1       3.468167  274.280342  556.839252    0.760970            5.0   \n",
       "2       3.360745  263.394089  552.938977    0.436579            4.0   \n",
       "3       3.284924  258.567386  545.282091    0.471898            6.0   \n",
       "4       3.493030  258.036256  540.754655    0.389865            4.0   \n",
       "...          ...         ...         ...         ...            ...   \n",
       "1994         NaN         NaN         NaN         NaN            NaN   \n",
       "1995         NaN         NaN         NaN         NaN            NaN   \n",
       "1996         NaN         NaN         NaN         NaN            NaN   \n",
       "1997         NaN         NaN         NaN         NaN            NaN   \n",
       "1998         NaN         NaN         NaN         NaN            NaN   \n",
       "\n",
       "coords  brightness_red  volume  \n",
       "0              30803.0   800.0  \n",
       "1              31540.0   781.0  \n",
       "2              29841.0   753.0  \n",
       "3              29650.0   776.0  \n",
       "4              29485.0   752.0  \n",
       "...                ...     ...  \n",
       "1994               NaN     NaN  \n",
       "1995               NaN     NaN  \n",
       "1996               NaN     NaN  \n",
       "1997               NaN     NaN  \n",
       "1998               NaN     NaN  \n",
       "\n",
       "[1999 rows x 7 columns]"
      ]
     },
     "execution_count": 108,
     "metadata": {},
     "output_type": "execute_result"
    }
   ],
   "source": [
    "tracklets_and_neurons_class.df_tracklets_zxy['tracklet_0000000']"
   ]
  },
  {
   "cell_type": "code",
   "execution_count": 109,
   "id": "4e9c7303-caa6-47ae-8938-f4ca9682247c",
   "metadata": {},
   "outputs": [],
   "source": [
    "neuron = worm_obj.global_name_to_neuron['neuron_001']"
   ]
  },
  {
   "cell_type": "code",
   "execution_count": 110,
   "id": "4d3fd01b-a0b5-4959-809d-12ef169eb24c",
   "metadata": {},
   "outputs": [
    {
     "data": {
      "text/plain": [
       "NodeDataView({'bipartite_0_frame_0_neuron_001': {'bipartite': 0, 'group_ind': 0, 'local_ind': 0, 'metadata': 'neuron_001'}, 'bipartite_1_trackletGroup_1_tracklet_0000000': {'bipartite': 1, 'group_ind': 0, 'local_ind': 0, 'metadata': 'tracklet_0000000'}})"
      ]
     },
     "execution_count": 110,
     "metadata": {},
     "output_type": "execute_result"
    }
   ],
   "source": [
    "neuron.neuron2tracklets.nodes(data=True)"
   ]
  },
  {
   "cell_type": "code",
   "execution_count": 115,
   "id": "2f7aa320-3b30-473c-a6f9-aac9fd260d0b",
   "metadata": {},
   "outputs": [
    {
     "data": {
      "text/plain": [
       "[coords         z           x           y  likelihood  raw_neuron_id  \\\n",
       " 0       4.152485  275.693147  552.621238    0.542036            1.0   \n",
       " 1       3.468167  274.280342  556.839252    0.760970            5.0   \n",
       " 2       3.360745  263.394089  552.938977    0.436579            4.0   \n",
       " 3       3.284924  258.567386  545.282091    0.471898            6.0   \n",
       " 4       3.493030  258.036256  540.754655    0.389865            4.0   \n",
       " ...          ...         ...         ...         ...            ...   \n",
       " 1994         NaN         NaN         NaN         NaN            NaN   \n",
       " 1995         NaN         NaN         NaN         NaN            NaN   \n",
       " 1996         NaN         NaN         NaN         NaN            NaN   \n",
       " 1997         NaN         NaN         NaN         NaN            NaN   \n",
       " 1998         NaN         NaN         NaN         NaN            NaN   \n",
       " \n",
       " coords  brightness_red  volume  \n",
       " 0              30803.0   800.0  \n",
       " 1              31540.0   781.0  \n",
       " 2              29841.0   753.0  \n",
       " 3              29650.0   776.0  \n",
       " 4              29485.0   752.0  \n",
       " ...                ...     ...  \n",
       " 1994               NaN     NaN  \n",
       " 1995               NaN     NaN  \n",
       " 1996               NaN     NaN  \n",
       " 1997               NaN     NaN  \n",
       " 1998               NaN     NaN  \n",
       " \n",
       " [1999 rows x 7 columns]]"
      ]
     },
     "execution_count": 115,
     "metadata": {},
     "output_type": "execute_result"
    }
   ],
   "source": [
    "worm_obj.get_tracklets_for_neuron('neuron_001')"
   ]
  },
  {
   "cell_type": "code",
   "execution_count": null,
   "id": "a7197398-f9d7-4ac8-9ee4-5f8a4aff6f9c",
   "metadata": {},
   "outputs": [],
   "source": []
  },
  {
   "cell_type": "code",
   "execution_count": null,
   "id": "f3bfa060-4f15-4434-bd9e-07a50e8c08ed",
   "metadata": {},
   "outputs": [],
   "source": []
  },
  {
   "cell_type": "code",
   "execution_count": null,
   "id": "6df467af-ac27-43db-95d7-791c4cf429ad",
   "metadata": {},
   "outputs": [],
   "source": []
  },
  {
   "cell_type": "code",
   "execution_count": null,
   "id": "ad6d6d65-466e-4f58-8d3b-ddcaa6c7bd30",
   "metadata": {},
   "outputs": [],
   "source": []
  },
  {
   "cell_type": "code",
   "execution_count": 118,
   "id": "b8a8f079-9265-42d9-bf2d-c01c1f417071",
   "metadata": {},
   "outputs": [
    {
     "name": "stderr",
     "output_type": "stream",
     "text": [
      "[autoreload of wbfm.utils.pipeline.tracklet_class failed: Traceback (most recent call last):\n",
      "  File \"/home/charles/anaconda3/envs/torch/lib/python3.7/site-packages/IPython/extensions/autoreload.py\", line 245, in check\n",
      "    superreload(m, reload, self.old_objects)\n",
      "  File \"/home/charles/anaconda3/envs/torch/lib/python3.7/site-packages/IPython/extensions/autoreload.py\", line 410, in superreload\n",
      "    update_generic(old_obj, new_obj)\n",
      "  File \"/home/charles/anaconda3/envs/torch/lib/python3.7/site-packages/IPython/extensions/autoreload.py\", line 347, in update_generic\n",
      "    update(a, b)\n",
      "  File \"/home/charles/anaconda3/envs/torch/lib/python3.7/site-packages/IPython/extensions/autoreload.py\", line 302, in update_class\n",
      "    if update_generic(old_obj, new_obj): continue\n",
      "  File \"/home/charles/anaconda3/envs/torch/lib/python3.7/site-packages/IPython/extensions/autoreload.py\", line 347, in update_generic\n",
      "    update(a, b)\n",
      "  File \"/home/charles/anaconda3/envs/torch/lib/python3.7/site-packages/IPython/extensions/autoreload.py\", line 266, in update_function\n",
      "    setattr(old, name, getattr(new, name))\n",
      "ValueError: __repr__() requires a code object with 2 free vars, not 0\n",
      "]\n"
     ]
    }
   ],
   "source": [
    "fname = \"/scratch/zimmer/Charles/dlc_stacks/worm9-gui_test/2-training_data/training_data_tracks.h5\"\n",
    "df = pd.read_hdf(fname)"
   ]
  },
  {
   "cell_type": "code",
   "execution_count": 122,
   "id": "723d87b6-a0c5-46a3-89ee-028ad0b7acbb",
   "metadata": {},
   "outputs": [
    {
     "data": {
      "text/plain": [
       "Index(['tracklet_0004291', 'tracklet_0005884', 'tracklet_0006008',\n",
       "       'tracklet_0006367', 'tracklet_0006408', 'tracklet_0007044',\n",
       "       'tracklet_0007709', 'tracklet_0008595', 'tracklet_0008757',\n",
       "       'tracklet_0008948',\n",
       "       ...\n",
       "       'tracklet_0011687', 'tracklet_0011688', 'tracklet_0011691',\n",
       "       'tracklet_0011695', 'tracklet_0011703', 'tracklet_0011707',\n",
       "       'tracklet_0011710', 'tracklet_0011713', 'tracklet_0011715',\n",
       "       'tracklet_0011722'],\n",
       "      dtype='object', length=134)"
      ]
     },
     "execution_count": 122,
     "metadata": {},
     "output_type": "execute_result"
    }
   ],
   "source": [
    "df.columns.levels[0]"
   ]
  },
  {
   "cell_type": "code",
   "execution_count": 146,
   "id": "b7e42d95-2b8e-4bd7-9b44-1018a5e4563a",
   "metadata": {},
   "outputs": [
    {
     "data": {
      "text/plain": [
       "([array([  0.,   0.,   0.,   0.,   1., 133.,   0.,   0.,   0.,   0.]),\n",
       "  array([ 3.,  5., 10., 25., 44., 24., 11.,  5.,  2.,  5.]),\n",
       "  array([ 0.,  0.,  0.,  2., 41., 84.,  2.,  2.,  0.,  3.])],\n",
       " array([-28.68407182, -23.22271242, -17.76135303, -12.29999363,\n",
       "         -6.83863423,  -1.37727484,   4.08408456,   9.54544396,\n",
       "         15.00680336,  20.46816275,  25.92952215]),\n",
       " <a list of 3 Lists of Patches objects>)"
      ]
     },
     "execution_count": 146,
     "metadata": {},
     "output_type": "execute_result"
    },
    {
     "data": {
      "image/png": "[encoded data removed]",
      "text/plain": [
       "<Figure size 432x288 with 1 Axes>"
      ]
     },
     "metadata": {
      "needs_background": "light"
     },
     "output_type": "display_data"
    }
   ],
   "source": [
    "plt.hist((project_data.get_centroids_as_numpy_training(1) - project_data.get_centroids_as_numpy_training(2)))"
   ]
  },
  {
   "cell_type": "code",
   "execution_count": 143,
   "id": "31dcebfd-3eed-4f4e-aec2-f912bfa5ff35",
   "metadata": {},
   "outputs": [
    {
     "data": {
      "text/plain": [
       "array([[  5.34002019, 266.14151737, 566.78110018],\n",
       "       [ 11.70637777, 226.22800704, 601.02273945],\n",
       "       [ 13.65441968, 267.22377658, 461.03264156],\n",
       "       [ 10.13397175, 269.66573433, 484.54105433],\n",
       "       [ 17.98593952, 318.14172256, 532.50123544]])"
      ]
     },
     "execution_count": 143,
     "metadata": {},
     "output_type": "execute_result"
    }
   ],
   "source": [
    "from wbfm.utils.external.utils_pandas import dataframe_to_standard_zxy_format\n",
    "df = project_data.df_training_tracklets\n",
    "out = []\n",
    "for i in range(5):\n",
    "    out.append(dataframe_to_standard_zxy_format(df).iloc[i, :].to_numpy().reshape(-1, 3))\n",
    "out[0][:5]"
   ]
  },
  {
   "cell_type": "code",
   "execution_count": 148,
   "id": "0008e974-d5a2-4435-b6e0-69c333f93dfd",
   "metadata": {},
   "outputs": [
    {
     "data": {
      "text/plain": [
       "array([[  5.41329912, 267.66726534, 568.11084028],\n",
       "       [ 12.03034551, 228.7489074 , 605.02861384],\n",
       "       [ 14.03399187, 261.50116212, 466.44718187],\n",
       "       [ 10.39362265, 265.97018612, 488.0521743 ],\n",
       "       [ 17.96163711, 318.83612133, 531.42293967]])"
      ]
     },
     "execution_count": 148,
     "metadata": {},
     "output_type": "execute_result"
    }
   ],
   "source": [
    "out[1][:5]"
   ]
  },
  {
   "cell_type": "code",
   "execution_count": 141,
   "id": "f2871439-fef7-4337-bb6c-fb58d7b1de58",
   "metadata": {},
   "outputs": [
    {
     "data": {
      "text/plain": [
       "array([[  5.34002019, 266.14151737, 566.78110018],\n",
       "       [ 11.70637777, 226.22800704, 601.02273945],\n",
       "       [ 13.65441968, 267.22377658, 461.03264156],\n",
       "       [ 10.13397175, 269.66573433, 484.54105433],\n",
       "       [ 17.98593952, 318.14172256, 532.50123544]])"
      ]
     },
     "execution_count": 141,
     "metadata": {},
     "output_type": "execute_result"
    }
   ],
   "source": [
    "project_data.get_centroids_as_numpy_training(0)[:5]"
   ]
  },
  {
   "cell_type": "code",
   "execution_count": 147,
   "id": "a6204a02-7b51-46b3-b5d7-a710fbee2c96",
   "metadata": {},
   "outputs": [
    {
     "data": {
      "text/plain": [
       "([array([  0.,   0.,   0.,   0.,   1., 133.,   0.,   0.,   0.,   0.]),\n",
       "  array([ 3.,  5., 10., 25., 44., 24., 11.,  5.,  2.,  5.]),\n",
       "  array([ 0.,  0.,  0.,  2., 41., 84.,  2.,  2.,  0.,  3.])],\n",
       " array([-28.68407182, -23.22271242, -17.76135303, -12.29999363,\n",
       "         -6.83863423,  -1.37727484,   4.08408456,   9.54544396,\n",
       "         15.00680336,  20.46816275,  25.92952215]),\n",
       " <a list of 3 Lists of Patches objects>)"
      ]
     },
     "execution_count": 147,
     "metadata": {},
     "output_type": "execute_result"
    },
    {
     "data": {
      "image/png": "[encoded data removed]",
      "text/plain": [
       "<Figure size 432x288 with 1 Axes>"
      ]
     },
     "metadata": {
      "needs_background": "light"
     },
     "output_type": "display_data"
    }
   ],
   "source": [
    "plt.hist(out[1] - out[2])"
   ]
  },
  {
   "cell_type": "code",
   "execution_count": 152,
   "id": "d440b526-6165-4a66-b188-822cc4761a16",
   "metadata": {},
   "outputs": [],
   "source": [
    "zxy = project_data.get_centroids_as_numpy(1000)\n",
    "phys = project_data.project_config.get_physical_unit_conversion_class()"
   ]
  },
  {
   "cell_type": "code",
   "execution_count": 153,
   "id": "fc2056bc-d908-416a-b619-fe7ca3c7234c",
   "metadata": {},
   "outputs": [
    {
     "data": {
      "text/plain": [
       "array([[-4.49640128e-01,  3.33181640e-01, -9.95331457e-02],\n",
       "       [ 2.34404112e-01, -2.33234483e-01, -1.25965810e-01],\n",
       "       [ 2.90584616e-01, -4.00393036e-01, -9.63465270e-02],\n",
       "       [-2.86950330e-01,  2.37742353e-01, -9.08058528e-02],\n",
       "       [-1.01216600e-01,  1.49144515e-01, -1.16194639e-01],\n",
       "       [-4.37927765e-02,  3.34311188e-02, -1.01882913e-01],\n",
       "       [-1.71536345e-01,  2.31330445e-01, -8.11370589e-02],\n",
       "       [-3.37825549e-01,  2.86630986e-01, -9.28439268e-02],\n",
       "       [ 4.11493929e-02, -5.26924838e-02, -1.13688017e-01],\n",
       "       [-9.33847096e-03, -2.15767978e-02, -1.05785373e-01],\n",
       "       [ 7.26277333e-02, -1.99360457e-02, -9.27530530e-02],\n",
       "       [ 2.01930246e-01, -1.26146697e-01, -1.14760633e-01],\n",
       "       [-2.55558999e-01,  2.02865834e-01, -8.72180622e-02],\n",
       "       [ 1.22091156e-01,  1.45960050e-02, -7.06548265e-02],\n",
       "       [ 1.31734484e-01, -3.72415769e-02, -8.58042866e-02],\n",
       "       [-3.18331606e-01,  2.06035105e-01, -9.19302747e-02],\n",
       "       [-1.46860153e-01,  1.23448716e-02, -4.68626993e-02],\n",
       "       [-2.91907780e-01,  2.76191229e-01, -9.90920916e-02],\n",
       "       [ 3.24786369e-02,  1.57501310e-02, -9.24051914e-02],\n",
       "       [ 3.01840016e-01, -4.40435409e-01, -1.00871573e-01],\n",
       "       [-3.95539558e-02,  1.23655675e-01, -9.45341352e-02],\n",
       "       [-7.15614256e-02,  9.03829327e-02, -9.39103580e-02],\n",
       "       [-1.09558368e-01,  5.56138116e-02, -9.69111357e-02],\n",
       "       [-2.10097147e-01,  1.94515542e-01, -8.52739696e-02],\n",
       "       [ 2.69621367e-02,  5.43518975e-02, -8.53463332e-02],\n",
       "       [-3.92993032e-01,  1.58577340e-01, -8.74275338e-02],\n",
       "       [-5.70692855e-02, -1.00416826e-03, -1.01623723e-01],\n",
       "       [-1.57400778e-01,  1.95246030e-01, -8.92274381e-02],\n",
       "       [-6.23438277e-01,  3.56337549e-01, -8.00694554e-02],\n",
       "       [-2.42621927e-01,  2.58218720e-01, -8.59648238e-02],\n",
       "       [ 3.10407516e-01, -3.55746426e-01, -8.22249711e-02],\n",
       "       [-9.93152383e-02,  8.90397746e-02, -7.58608842e-02],\n",
       "       [-2.03760174e-01,  2.64039944e-01, -5.52184792e-02],\n",
       "       [-3.21077524e-02,  7.40195487e-02, -8.83731375e-02],\n",
       "       [-2.49893761e-01,  1.52778193e-01, -7.69499920e-02],\n",
       "       [-3.24130511e-01,  3.68766263e-01, -5.24431246e-02],\n",
       "       [ 9.15545223e-02,  5.29088726e-02, -4.87634200e-02],\n",
       "       [ 1.49580293e-02,  1.00576734e-01, -5.26098991e-02],\n",
       "       [ 2.85055733e-01, -5.40740768e-02, -5.03211611e-02],\n",
       "       [-4.33810596e-01,  3.07201146e-01, -6.38010963e-02],\n",
       "       [ 3.54345852e-01, -2.56860223e-01, -5.30251393e-02],\n",
       "       [-8.82629503e-04, -1.78038707e-01, -6.21549159e-02],\n",
       "       [-4.41124393e-02, -3.03235218e-02, -8.27480254e-02],\n",
       "       [ 1.95105576e-01, -5.80384424e-02, -6.26493450e-02],\n",
       "       [-3.61784170e-01,  1.71598823e-01, -7.81283922e-02],\n",
       "       [ 2.10631986e-01,  3.01199508e-02, -5.44277057e-02],\n",
       "       [-3.02792318e-01,  1.67279445e-01, -6.05454363e-02],\n",
       "       [ 1.25598117e-01,  1.12180169e-01, -5.66357843e-02],\n",
       "       [-1.37219813e-01, -8.98832726e-03, -8.87156832e-02],\n",
       "       [ 2.65656803e-01, -1.42557909e-02, -4.62179121e-02],\n",
       "       [ 8.53819244e-02,  9.29276662e-02, -4.73183869e-02],\n",
       "       [ 1.49744593e-01,  7.09660583e-02, -3.24198201e-02],\n",
       "       [ 7.86658542e-02, -9.33763117e-02, -5.36969112e-02],\n",
       "       [-6.04742009e-02, -6.48964961e-02, -4.25825581e-02],\n",
       "       [ 2.60472223e-02,  1.29409674e-01, -6.28973513e-02],\n",
       "       [-9.86345368e-02, -3.25106658e-03, -4.78912070e-02],\n",
       "       [ 3.27812211e-01, -2.03750531e-01, -2.73117937e-02],\n",
       "       [ 1.84637595e-01,  5.72927895e-02, -3.60491393e-02],\n",
       "       [-9.34918687e-02,  2.23365597e-01, -3.77033747e-02],\n",
       "       [-2.38677280e-01,  1.16681597e-01, -3.32962688e-02],\n",
       "       [-1.29980649e-01,  2.23962727e-01, -5.26458799e-02],\n",
       "       [-4.61296891e-01,  1.95342389e-01, -3.83767903e-02],\n",
       "       [-1.44847066e-01,  5.97710038e-02, -4.63164363e-02],\n",
       "       [-4.95010335e-01,  1.84217454e-01, -2.94174994e-02],\n",
       "       [-1.85217571e-01,  3.57429341e-02, -1.08186793e-02],\n",
       "       [ 1.65150077e-01, -6.27439331e-02, -1.97797920e-02],\n",
       "       [ 3.02611476e-01, -1.49945527e-01, -1.07954963e-02],\n",
       "       [-5.86483306e-02,  2.07077527e-01,  2.88913558e-03],\n",
       "       [ 1.60483049e-02,  1.89296392e-01,  8.21283661e-03],\n",
       "       [ 4.54763496e-01, -5.34922305e-01,  9.54476120e-03],\n",
       "       [ 2.25863498e-01,  6.67074083e-03, -2.12874490e-02],\n",
       "       [-2.25625828e-01,  3.11296654e-01,  1.51578892e-02],\n",
       "       [ 4.65486350e-01, -7.50882140e-01,  2.27835397e-02],\n",
       "       [ 4.68784202e-01, -6.92112116e-01,  1.43084585e-02],\n",
       "       [ 4.50443653e-01, -4.71662661e-01,  1.32372590e-02],\n",
       "       [ 4.25298204e-01, -3.36097431e-01,  2.45195818e-02],\n",
       "       [ 4.36896077e-01, -3.81048485e-01,  1.95706473e-02],\n",
       "       [-2.96600079e-01,  3.36838665e-01,  8.02545488e-03],\n",
       "       [ 4.56481528e-01, -6.31413456e-01,  2.31422123e-02],\n",
       "       [ 4.51126663e-01, -4.26645848e-01,  2.69544377e-02],\n",
       "       [ 4.56900515e-01, -5.80949858e-01,  1.46648458e-02],\n",
       "       [ 4.08530283e-01, -2.30808035e-01,  4.05336016e-02],\n",
       "       [ 4.10502039e-01, -2.84216193e-01,  2.63810518e-02],\n",
       "       [ 4.67809062e-01, -9.10611613e-01,  3.52932321e-02],\n",
       "       [-4.82494668e-01,  3.27104113e-01,  5.53335918e-02],\n",
       "       [ 4.48179157e-01, -1.11355837e+00,  5.26535979e-02],\n",
       "       [-2.64357695e-01,  2.18120427e-01,  7.53344771e-02],\n",
       "       [-1.64215408e-01,  2.22034561e-01,  5.61632364e-02],\n",
       "       [-1.81243642e-02,  1.04426114e-01,  5.42051551e-02],\n",
       "       [-2.66448553e-01,  2.64012085e-01,  4.40889203e-02],\n",
       "       [ 9.38664714e-02, -7.58264193e-02,  5.45086652e-02],\n",
       "       [-8.99195780e-02, -1.43233650e-02,  7.36555336e-02],\n",
       "       [-3.36593492e-01,  2.26699197e-01,  6.83946569e-02],\n",
       "       [-1.40025376e-01,  5.65959701e-02,  4.28622909e-02],\n",
       "       [ 2.57285281e-01, -2.83120151e-02,  7.43918873e-02],\n",
       "       [ 6.97748083e-02,  6.25608358e-02,  5.09763072e-02],\n",
       "       [ 7.45097568e-02,  2.55062462e-02,  7.39973165e-02],\n",
       "       [-3.11695294e-01,  2.68965414e-01,  6.99019536e-02],\n",
       "       [-2.07283808e-01,  1.84441097e-01,  7.03186473e-02],\n",
       "       [-7.99944315e-02,  8.80916051e-02,  7.86378431e-02],\n",
       "       [ 1.12924082e-02,  8.53494260e-02,  7.79836050e-02],\n",
       "       [-2.60426891e-01,  1.82575883e-01,  6.94153118e-02],\n",
       "       [ 1.93894488e-01, -1.55714535e-02,  6.58799349e-02],\n",
       "       [-9.33690341e-02,  2.25007063e-02,  6.15290831e-02],\n",
       "       [-1.59885025e-01,  1.82456345e-01,  7.34127899e-02],\n",
       "       [-7.42114562e-02,  6.12201778e-02,  9.64927891e-02],\n",
       "       [-1.30969748e-01,  1.51753412e-01,  1.12426049e-01],\n",
       "       [-4.20102260e-02,  2.69763397e-02,  8.60703640e-02],\n",
       "       [-1.89648755e-02, -2.56517489e-02,  1.10302096e-01],\n",
       "       [-8.83796942e-03, -3.67311036e-03,  6.85418144e-02],\n",
       "       [ 4.90780689e-02, -6.37441001e-03,  9.68188855e-02],\n",
       "       [-1.33986484e-02,  5.47903535e-02,  8.86037991e-02],\n",
       "       [ 1.89841800e-01, -5.62468328e-02,  1.03890518e-01],\n",
       "       [ 6.30513911e-02, -5.35518195e-02,  1.22775325e-01],\n",
       "       [ 1.14646754e-01, -2.73177109e-01,  1.28251154e-01],\n",
       "       [ 2.08571142e-02, -4.32242432e-02,  1.19786855e-01],\n",
       "       [ 2.18651869e-01, -9.73393336e-02,  1.15380424e-01],\n",
       "       [ 3.40524752e-01, -3.18134575e-01,  1.22028006e-01],\n",
       "       [ 1.15339925e-01, -3.86991210e-03,  9.64970735e-02],\n",
       "       [ 1.63138169e-03,  1.80936820e-02,  1.03301864e-01],\n",
       "       [ 3.05582296e-01, -2.40362934e-01,  1.10872613e-01],\n",
       "       [-4.72832018e-02,  1.11964579e-01,  1.11295149e-01],\n",
       "       [ 3.35815316e-01, -3.88317631e-01,  1.37631661e-01],\n",
       "       [ 3.39644116e-01, -4.33769038e-01,  1.40864203e-01],\n",
       "       [-3.60172236e-01,  2.82063980e-01,  3.03513181e-02],\n",
       "       [ 1.54188734e-01,  1.35053363e-02,  5.78048218e-02],\n",
       "       [-1.27845270e-01,  2.93464927e-02,  7.62938857e-02],\n",
       "       [-3.89721921e-01,  1.87415741e-01, -1.79013078e-02],\n",
       "       [-6.09871834e-01,  3.52996370e-01,  3.78546356e-03],\n",
       "       [-2.14475394e-01,  2.51264312e-01,  4.55636445e-02],\n",
       "       [-3.17158392e-01,  3.70082570e-01,  3.59429466e-02],\n",
       "       [ 1.86523074e-02,  1.18290723e-01,  3.48372169e-02],\n",
       "       [-4.45003189e-01,  3.17283705e-01,  3.72699574e-02],\n",
       "       [ 2.04577339e-02, -1.52432347e-01,  4.51706000e-02],\n",
       "       [ 9.02253584e-02,  9.38495521e-02,  2.60735997e-02],\n",
       "       [ 1.34875645e-01,  7.68066527e-02,  5.40181135e-02],\n",
       "       [-6.66735209e-02, -5.11734755e-02,  5.26993132e-02],\n",
       "       [ 3.30929318e-01, -2.22639542e-01,  6.69479207e-02],\n",
       "       [ 1.78107285e-01,  4.51029199e-02,  3.93386866e-02],\n",
       "       [-1.18003198e-01,  2.30042277e-01,  2.80769576e-02],\n",
       "       [-2.42892292e-01,  1.53074386e-01,  8.16767882e-02],\n",
       "       [-9.95786410e-02,  1.94674598e-01,  8.39247208e-02],\n",
       "       [ 2.16379916e-01,  2.64343714e-03,  3.76633510e-02],\n",
       "       [ 4.81483090e-01, -6.83549240e-01,  7.33393920e-02],\n",
       "       [ 1.04604570e-01, -8.27949396e-02,  1.35672415e-01]])"
      ]
     },
     "execution_count": 153,
     "metadata": {},
     "output_type": "execute_result"
    }
   ],
   "source": [
    "phys.zimmer2leifer(zxy)"
   ]
  },
  {
   "cell_type": "code",
   "execution_count": null,
   "id": "51c7e614-0142-41e6-9f32-5c69e394b1d0",
   "metadata": {},
   "outputs": [],
   "source": []
  }
 ],
 "metadata": {
  "kernelspec": {
   "display_name": "Python 3 (ipykernel)",
   "language": "python",
   "name": "python3"
  },
  "language_info": {
   "codemirror_mode": {
    "name": "ipython",
    "version": 3
   },
   "file_extension": ".py",
   "mimetype": "text/x-python",
   "name": "python",
   "nbconvert_exporter": "python",
   "pygments_lexer": "ipython3",
   "version": "3.7.11"
  }
 },
 "nbformat": 4,
 "nbformat_minor": 5
}
