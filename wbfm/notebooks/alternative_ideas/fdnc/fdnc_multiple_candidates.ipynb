{
 "cells": [
  {
   "cell_type": "code",
   "execution_count": 1,
   "id": "7de56f55",
   "metadata": {},
   "outputs": [
    {
     "name": "stderr",
     "output_type": "stream",
     "text": [
      "\n",
      "Bad key \"text.kerning_factor\" on line 4 in\n",
      "/home/charles/anaconda3/envs/torch/lib/python3.7/site-packages/matplotlib/mpl-data/stylelib/_classic_test_patch.mplstyle.\n",
      "You probably need to get an updated matplotlibrc file from\n",
      "http://github.com/matplotlib/matplotlib/blob/master/matplotlibrc.template\n",
      "or from the matplotlib source distribution\n"
     ]
    }
   ],
   "source": [
    "%load_ext autoreload\n",
    "%autoreload 2\n",
    "import matplotlib.pyplot as plt\n",
    "from wbfm.utils.xinwei_fdnc.formatting import zimmer2leifer\n",
    "from wbfm.utils.xinwei_fdnc.predict import load_fdnc_options_and_template, track_using_fdnc\n",
    "import numpy as np\n",
    "# Process into single set of matches\n",
    "from scipy.optimize import linear_sum_assignment\n",
    "import numpy as np\n",
    "from scipy.sparse import coo_matrix"
   ]
  },
  {
   "cell_type": "code",
   "execution_count": 2,
   "id": "f64207e9",
   "metadata": {},
   "outputs": [
    {
     "name": "stderr",
     "output_type": "stream",
     "text": [
      "WARNING:root:Did not find file /scratch/zimmer/Charles/dlc_stacks/worm3-2021_09_29/4-traces/red_traces.h5\n",
      "WARNING:root:Did not find file /scratch/zimmer/Charles/dlc_stacks/worm3-2021_09_29/4-traces/green_traces.h5\n",
      "WARNING:root:Did not find file /scratch/zimmer/Charles/dlc_stacks/worm3-2021_09_29/4-traces/reindexed_masks.zarr\n"
     ]
    },
    {
     "name": "stdout",
     "output_type": "stream",
     "text": [
      "=======================================\n",
      "Project data for directory:\n",
      "/scratch/zimmer/Charles/dlc_stacks/worm3-2021_09_29 \n",
      "=======================================\n",
      "Found the following raw data files:\n",
      "red_data: True\n",
      "green_data: True\n",
      "============Segmentation===============\n",
      "raw_segmentation: True\n",
      "segmentation: False\n",
      "============Tracklets==================\n",
      "df_training_tracklets: True\n",
      "reindexed_masks_training: True\n",
      "============Traces=====================\n",
      "red_traces: False\n",
      "green_traces: False\n",
      "final_tracks: True\n",
      "behavior_annotations: True\n",
      "\n"
     ]
    }
   ],
   "source": [
    "from wbfm.utils.projects.finished_project_data import ProjectData\n",
    "fname = \"/scratch/zimmer/Charles/dlc_stacks/worm3-2021_09_29/project_config.yaml\"\n",
    "# fname = \"/scratch/zimmer/Charles/dlc_stacks/project-pytest/project_config.yaml\"\n",
    "project_data = ProjectData.load_final_project_data_from_config(fname)"
   ]
  },
  {
   "cell_type": "code",
   "execution_count": 3,
   "id": "5f997793",
   "metadata": {},
   "outputs": [],
   "source": [
    "import pandas as pd\n",
    "from collections import defaultdict\n",
    "from tqdm.auto import tqdm\n",
    "from fDNC.src.DNC_predict import pre_matt, predict_matches, filter_matches\n",
    "from wbfm.utils.projects.utils_neuron_names import int2name\n",
    "from wbfm.utils.xinwei_fdnc.formatting import flatten_nested_list\n",
    "\n",
    "def track_using_fdnc_ONLY_TRAINING(project_dat: ProjectData,\n",
    "                                   template_pos,\n",
    "                                   prediction_options,\n",
    "                                   match_confidence_threshold,\n",
    "                                   num_frames):\n",
    "    # Loop through detections and match all to template\n",
    "\n",
    "    # Initialize\n",
    "#     num_frames = project_dat.num_frames - 1\n",
    "    coords = ['z', 'x', 'y', 'likelihood']\n",
    "\n",
    "    sz = (num_frames, len(coords))\n",
    "    neuron_arrays = defaultdict(lambda: np.zeros(sz))\n",
    "    all_matches = []\n",
    "    for i_frame in tqdm(range(num_frames), total=num_frames, leave=False):\n",
    "\n",
    "        pts = project_dat.get_centroids_as_numpy_training(i_frame)\n",
    "        pts_scaled = zimmer2leifer(pts)\n",
    "        # Match\n",
    "        _, matches = predict_matches(test_pos=pts_scaled, template_pos=template_pos, **prediction_options)\n",
    "        matches = flatten_nested_list(matches)\n",
    "        matches = filter_matches(matches, match_confidence_threshold)\n",
    "\n",
    "        # For each match, save location\n",
    "        for m in matches:\n",
    "            this_unscaled_pt = pts[m[1]]\n",
    "            this_template_idx = m[0]\n",
    "\n",
    "            neuron_arrays[this_template_idx][i_frame, :3] = this_unscaled_pt\n",
    "            neuron_arrays[this_template_idx][i_frame, 3] = m[2]  # Match confidence\n",
    "        all_matches.append(matches)\n",
    "\n",
    "    # Convert to pandas multiindexing formatting\n",
    "    new_dict = {}\n",
    "    for i_template, data in neuron_arrays.items():\n",
    "        for i_col, coord_name in enumerate(coords):\n",
    "            # Note: these neuron names are final for all subsequent steps\n",
    "            k = (int2name(i_template + 1), coord_name)\n",
    "            new_dict[k] = data[:, i_col]\n",
    "\n",
    "    df = pd.DataFrame(new_dict)\n",
    "\n",
    "    return df, all_matches\n",
    "\n",
    "def generate_template(i):\n",
    "    custom_template = project_data.get_centroids_as_numpy_training(i)\n",
    "    return zimmer2leifer(custom_template)"
   ]
  },
  {
   "cell_type": "code",
   "execution_count": 4,
   "id": "a0316fad",
   "metadata": {},
   "outputs": [],
   "source": [
    "num_templates = project_data.reindexed_metadata_training.num_frames\n",
    "all_templates = [generate_template(i) for i in range(num_templates)]\n",
    "\n",
    "base_prediction_options, _, _ = load_fdnc_options_and_template()\n",
    "base_prediction_options['topn'] = 3\n",
    "\n",
    "match_confidence_threshold = 0.3"
   ]
  },
  {
   "cell_type": "code",
   "execution_count": 5,
   "id": "be77dbe9",
   "metadata": {},
   "outputs": [
    {
     "data": {
      "application/vnd.jupyter.widget-view+json": {
       "model_id": "c9168682234146948f4e9a09d412d7ac",
       "version_major": 2,
       "version_minor": 0
      },
      "text/plain": [
       "  0%|          | 0/10 [00:00<?, ?it/s]"
      ]
     },
     "metadata": {},
     "output_type": "display_data"
    },
    {
     "data": {
      "application/vnd.jupyter.widget-view+json": {
       "model_id": "",
       "version_major": 2,
       "version_minor": 0
      },
      "text/plain": [
       "  0%|          | 0/10 [00:00<?, ?it/s]"
      ]
     },
     "metadata": {},
     "output_type": "display_data"
    },
    {
     "data": {
      "application/vnd.jupyter.widget-view+json": {
       "model_id": "",
       "version_major": 2,
       "version_minor": 0
      },
      "text/plain": [
       "  0%|          | 0/10 [00:00<?, ?it/s]"
      ]
     },
     "metadata": {},
     "output_type": "display_data"
    },
    {
     "data": {
      "application/vnd.jupyter.widget-view+json": {
       "model_id": "",
       "version_major": 2,
       "version_minor": 0
      },
      "text/plain": [
       "  0%|          | 0/10 [00:00<?, ?it/s]"
      ]
     },
     "metadata": {},
     "output_type": "display_data"
    },
    {
     "data": {
      "application/vnd.jupyter.widget-view+json": {
       "model_id": "",
       "version_major": 2,
       "version_minor": 0
      },
      "text/plain": [
       "  0%|          | 0/10 [00:00<?, ?it/s]"
      ]
     },
     "metadata": {},
     "output_type": "display_data"
    },
    {
     "data": {
      "application/vnd.jupyter.widget-view+json": {
       "model_id": "",
       "version_major": 2,
       "version_minor": 0
      },
      "text/plain": [
       "  0%|          | 0/10 [00:00<?, ?it/s]"
      ]
     },
     "metadata": {},
     "output_type": "display_data"
    },
    {
     "data": {
      "application/vnd.jupyter.widget-view+json": {
       "model_id": "",
       "version_major": 2,
       "version_minor": 0
      },
      "text/plain": [
       "  0%|          | 0/10 [00:00<?, ?it/s]"
      ]
     },
     "metadata": {},
     "output_type": "display_data"
    },
    {
     "data": {
      "application/vnd.jupyter.widget-view+json": {
       "model_id": "",
       "version_major": 2,
       "version_minor": 0
      },
      "text/plain": [
       "  0%|          | 0/10 [00:00<?, ?it/s]"
      ]
     },
     "metadata": {},
     "output_type": "display_data"
    },
    {
     "data": {
      "application/vnd.jupyter.widget-view+json": {
       "model_id": "",
       "version_major": 2,
       "version_minor": 0
      },
      "text/plain": [
       "  0%|          | 0/10 [00:00<?, ?it/s]"
      ]
     },
     "metadata": {},
     "output_type": "display_data"
    },
    {
     "data": {
      "application/vnd.jupyter.widget-view+json": {
       "model_id": "",
       "version_major": 2,
       "version_minor": 0
      },
      "text/plain": [
       "  0%|          | 0/10 [00:00<?, ?it/s]"
      ]
     },
     "metadata": {},
     "output_type": "display_data"
    },
    {
     "data": {
      "application/vnd.jupyter.widget-view+json": {
       "model_id": "",
       "version_major": 2,
       "version_minor": 0
      },
      "text/plain": [
       "  0%|          | 0/10 [00:00<?, ?it/s]"
      ]
     },
     "metadata": {},
     "output_type": "display_data"
    }
   ],
   "source": [
    "df_per_template = []\n",
    "matches_per_template = []\n",
    "for template in tqdm(all_templates):\n",
    "    df, matches = track_using_fdnc_ONLY_TRAINING(project_data, template, base_prediction_options, match_confidence_threshold, num_frames=num_templates)\n",
    "    df_per_template.append(df)\n",
    "    matches_per_template.append(matches)"
   ]
  },
  {
   "cell_type": "markdown",
   "id": "b65114ab",
   "metadata": {},
   "source": [
    "# Visualize"
   ]
  },
  {
   "cell_type": "code",
   "execution_count": 6,
   "id": "2d1c59d6",
   "metadata": {},
   "outputs": [],
   "source": [
    "# Note: the second index in the match is the template\n",
    "# Combine the matches from each template by summing the confidence\n",
    "\n",
    "# First, convert each to a sparse matrix\n",
    "# i_match = 0\n",
    "all_final_conf = []\n",
    "all_individual_conf = []\n",
    "shape = (130, 130)\n",
    "\n",
    "for i_match in range(num_templates):\n",
    "    all_conf = []\n",
    "\n",
    "    for i_template in range(num_templates):\n",
    "        m = np.array(matches_per_template[i_template][i_match])\n",
    "        row, col, data = m[:,0], m[:,1], m[:,2]\n",
    "    #     shape = (int(max(row))+1, int(max(col))+1)\n",
    "        conf = coo_matrix((data, (row, col)), shape=shape, dtype=float)\n",
    "        all_conf.append(conf)\n",
    "    final_conf = sum(all_conf)\n",
    "    \n",
    "    all_individual_conf.append(all_conf)\n",
    "    all_final_conf.append(final_conf)\n",
    "#     other_frame_conf = sum(all_conf[1:])\n"
   ]
  },
  {
   "cell_type": "code",
   "execution_count": 7,
   "id": "7f9534b3",
   "metadata": {},
   "outputs": [
    {
     "data": {
      "application/vnd.jupyter.widget-view+json": {
       "model_id": "be2e3fcbf1704ebb9b5504b9bbfc2d2e",
       "version_major": 2,
       "version_minor": 0
      },
      "text/plain": [
       "interactive(children=(IntSlider(value=4, description='i_test', max=9), Output()), _dom_classes=('widget-intera…"
      ]
     },
     "metadata": {},
     "output_type": "display_data"
    },
    {
     "data": {
      "text/plain": [
       "<function __main__.f(i_test)>"
      ]
     },
     "execution_count": 7,
     "metadata": {},
     "output_type": "execute_result"
    }
   ],
   "source": [
    "from ipywidgets import interact\n",
    "def f(i_test):\n",
    "    %matplotlib inline\n",
    "    plt.figure(figsize=(25, 15))\n",
    "    plt.imshow(all_final_conf[i_test].toarray())\n",
    "    plt.title(\"Accuracy all templates\")\n",
    "    plt.colorbar()\n",
    "    \n",
    "    plt.show()\n",
    "\n",
    "interact(f, i_test=(0,9))"
   ]
  },
  {
   "cell_type": "markdown",
   "id": "8aff5825",
   "metadata": {},
   "source": [
    "# Just look at bipartite matching"
   ]
  },
  {
   "cell_type": "code",
   "execution_count": 10,
   "id": "34440419",
   "metadata": {},
   "outputs": [],
   "source": [
    "from wbfm.utils.feature_detection.utils_networkx import calc_bipartite_from_candidates"
   ]
  },
  {
   "cell_type": "code",
   "execution_count": 28,
   "id": "6249344d",
   "metadata": {
    "scrolled": false
   },
   "outputs": [],
   "source": [
    "m = matches_per_template[9]\n",
    "m = flatten_nested_list(m)\n",
    "m = np.array(m)\n",
    "m[:,2] /= 10\n",
    "matches, conf, _ = calc_bipartite_from_candidates(m, min_conf=0.1)\n",
    "[(m[0],m[1], c) for m, c in zip(matches, conf)];"
   ]
  },
  {
   "cell_type": "markdown",
   "id": "6492adfe",
   "metadata": {},
   "source": []
  },
  {
   "cell_type": "code",
   "execution_count": 34,
   "id": "fc522620",
   "metadata": {},
   "outputs": [],
   "source": [
    "from wbfm.utils.performance.comparing_ground_truth import calc_summary_scores_for_training_data"
   ]
  },
  {
   "cell_type": "code",
   "execution_count": 40,
   "id": "327cf8d5",
   "metadata": {},
   "outputs": [
    {
     "name": "stdout",
     "output_type": "stream",
     "text": [
      "For pose 0, tp:  1.00, outliers:  0.00\n",
      "For pose 1, tp:  1.00, outliers:  0.00\n",
      "For pose 2, tp:  1.00, outliers:  0.00\n",
      "For pose 3, tp:  1.00, outliers:  0.00\n",
      "For pose 4, tp:  1.00, outliers:  0.00\n",
      "For pose 5, tp:  1.00, outliers:  0.00\n",
      "For pose 6, tp:  0.96, outliers:  0.03\n",
      "For pose 7, tp:  0.93, outliers:  0.04\n",
      "For pose 8, tp:  0.89, outliers:  0.06\n",
      "For pose 9, tp:  0.75, outliers:  0.15\n"
     ]
    }
   ],
   "source": [
    "for i in range(10):\n",
    "    m = matches_per_template[i]\n",
    "    m = flatten_nested_list(m)\n",
    "    m = np.array(m)\n",
    "    m[:,2] /= 10\n",
    "    matches, conf, _ = calc_bipartite_from_candidates(m, min_conf=0.1)\n",
    "    m_final = [(m[0],m[1], c) for m, c in zip(matches, conf)]\n",
    "\n",
    "    num_tp, num_outliers, num_missing, max_possible = calc_summary_scores_for_training_data(m_final)\n",
    "\n",
    "    print(f\"For pose {i}, tp: {num_tp / max_possible: .2f}, outliers: {num_outliers / max_possible: .2f}\")"
   ]
  },
  {
   "cell_type": "code",
   "execution_count": 32,
   "id": "49c92510",
   "metadata": {},
   "outputs": [
    {
     "data": {
      "text/plain": [
       "119"
      ]
     },
     "execution_count": 32,
     "metadata": {},
     "output_type": "execute_result"
    }
   ],
   "source": [
    "max_possible\n"
   ]
  },
  {
   "cell_type": "code",
   "execution_count": 33,
   "id": "5711aa61",
   "metadata": {},
   "outputs": [
    {
     "data": {
      "text/plain": [
       "120"
      ]
     },
     "execution_count": 33,
     "metadata": {},
     "output_type": "execute_result"
    }
   ],
   "source": [
    "num_tp"
   ]
  },
  {
   "cell_type": "markdown",
   "id": "a53883b6",
   "metadata": {},
   "source": [
    "# Frame - number of template tradeoffs"
   ]
  },
  {
   "cell_type": "code",
   "execution_count": 57,
   "id": "5552124d",
   "metadata": {},
   "outputs": [],
   "source": [
    "from wbfm.utils.training_data.tracklet_to_DLC import get_or_recalculate_which_frames\n",
    "from wbfm.utils.visualization.visualization_tracks import hist_of_tracklet_lens,plot_tracklets_of_min_len,plot_tracklet_covering"
   ]
  },
  {
   "cell_type": "code",
   "execution_count": 41,
   "id": "8276f285",
   "metadata": {},
   "outputs": [
    {
     "name": "stderr",
     "output_type": "stream",
     "text": [
      "/home/charles/anaconda3/envs/torch/lib/python3.7/site-packages/sklearn/base.py:315: UserWarning: Trying to unpickle estimator GaussianProcessRegressor from version 1.0 when using version 0.24.2. This might lead to breaking code or invalid results. Use at your own risk.\n",
      "  UserWarning)\n"
     ]
    }
   ],
   "source": [
    "df_raw_matches = project_data.raw_matches"
   ]
  },
  {
   "cell_type": "code",
   "execution_count": 48,
   "id": "784eeecd",
   "metadata": {},
   "outputs": [],
   "source": [
    "df_clust = project_data.raw_clust"
   ]
  },
  {
   "cell_type": "code",
   "execution_count": 43,
   "id": "80bade34",
   "metadata": {},
   "outputs": [],
   "source": [
    "num_frames = project_data.project_config.config['dataset_params']['num_frames']\n",
    "DEBUG = False\n",
    "training_cfg= project_data.project_config.get_training_config()"
   ]
  },
  {
   "cell_type": "code",
   "execution_count": 46,
   "id": "efe06cb7",
   "metadata": {},
   "outputs": [],
   "source": [
    "which_frames = list(\n",
    "            get_or_recalculate_which_frames(DEBUG, df_raw_matches, num_frames,\n",
    "                                            training_cfg))"
   ]
  },
  {
   "cell_type": "code",
   "execution_count": 55,
   "id": "eb11b966",
   "metadata": {},
   "outputs": [
    {
     "data": {
      "image/png": "[encoded data removed]",
      "text/plain": [
       "<Figure size 432x288 with 1 Axes>"
      ]
     },
     "metadata": {
      "needs_background": "light"
     },
     "output_type": "display_data"
    }
   ],
   "source": [
    "plot_tracklets_of_min_len(df_clust, min_len=10);"
   ]
  },
  {
   "cell_type": "code",
   "execution_count": 74,
   "id": "ceaf6d2d",
   "metadata": {
    "scrolled": false
   },
   "outputs": [
    {
     "data": {
      "image/png": "[encoded data removed]",
      "text/plain": [
       "<Figure size 432x288 with 1 Axes>"
      ]
     },
     "metadata": {
      "needs_background": "light"
     },
     "output_type": "display_data"
    },
    {
     "data": {
      "text/plain": [
       "129"
      ]
     },
     "execution_count": 74,
     "metadata": {},
     "output_type": "execute_result"
    }
   ],
   "source": [
    "out = plot_tracklet_covering(df_clust, window_len=10)\n",
    "\n",
    "np.max(out[1])"
   ]
  },
  {
   "cell_type": "code",
   "execution_count": null,
   "id": "7378b715",
   "metadata": {},
   "outputs": [],
   "source": []
  }
 ],
 "metadata": {
  "kernelspec": {
   "display_name": "Python 3 (ipykernel)",
   "language": "python",
   "name": "python3"
  },
  "language_info": {
   "codemirror_mode": {
    "name": "ipython",
    "version": 3
   },
   "file_extension": ".py",
   "mimetype": "text/x-python",
   "name": "python",
   "nbconvert_exporter": "python",
   "pygments_lexer": "ipython3",
   "version": "3.7.11"
  }
 },
 "nbformat": 4,
 "nbformat_minor": 5
}
