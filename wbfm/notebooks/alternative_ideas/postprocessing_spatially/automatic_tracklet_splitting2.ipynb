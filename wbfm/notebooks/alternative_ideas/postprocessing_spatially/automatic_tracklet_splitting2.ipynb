{
 "cells": [
  {
   "cell_type": "code",
   "execution_count": 17,
   "id": "495b4aef-7b65-4365-8568-278f4c75489a",
   "metadata": {},
   "outputs": [
    {
     "name": "stdout",
     "output_type": "stream",
     "text": [
      "The autoreload extension is already loaded. To reload it, use:\n",
      "  %reload_ext autoreload\n"
     ]
    }
   ],
   "source": [
    "%load_ext autoreload\n",
    "%autoreload 2\n",
    "import matplotlib.pyplot as plt\n",
    "from wbfm.utils.projects.finished_project_data import ProjectData\n",
    "import napari\n",
    "import pandas as pd\n",
    "import numpy as np\n",
    "from wbfm.utils.feature_detection.class_frame_pair import FramePair\n",
    "from ipywidgets import interact"
   ]
  },
  {
   "cell_type": "code",
   "execution_count": 18,
   "id": "ae3449b1-2cc6-4e53-ad1f-6f1a2fb7f2db",
   "metadata": {},
   "outputs": [
    {
     "name": "stderr",
     "output_type": "stream",
     "text": [
      "WARNING:root:Did not find file /home/charles/dlc_stacks/worm3-newseg-2021_11_17/2-training_data/training_data_tracks.h5\n",
      "WARNING:root:Did not find file /home/charles/dlc_stacks/worm3-newseg-2021_11_17/3-tracking/manual_annotation/split_names.pickle\n",
      "WARNING:root:Did not find file /home/charles/dlc_stacks/worm3-newseg-2021_11_17/3-tracking/manual_annotation/split_times.pickle\n"
     ]
    },
    {
     "name": "stdout",
     "output_type": "stream",
     "text": [
      "Output files: /home/charles/dlc_stacks/worm3-newseg-2021_11_17/3-tracking/manual_annotation/global2tracklet_manual.pickle, /home/charles/dlc_stacks/worm3-newseg-2021_11_17/3-tracking/manual_annotation/manually_split_tracklets.h5, /home/charles/dlc_stacks/worm3-newseg-2021_11_17/3-tracking/manual_annotation/split_names.pickle, /home/charles/dlc_stacks/worm3-newseg-2021_11_17/3-tracking/manual_annotation/split_times.pickle\n",
      "=======================================\n",
      "Project data for directory:\n",
      "/home/charles/dlc_stacks/worm3-newseg-2021_11_17 \n",
      "=======================================\n",
      "Found the following raw data files:\n",
      "red_data: True\n",
      "green_data: True\n",
      "============Segmentation===============\n",
      "raw_segmentation: True\n",
      "segmentation: True\n",
      "============Tracklets==================\n",
      "df_training_tracklets: False\n",
      "reindexed_masks_training: True\n",
      "============Traces=====================\n",
      "red_traces: True\n",
      "green_traces: True\n",
      "final_tracks: True\n",
      "behavior_annotations: True\n",
      "\n"
     ]
    }
   ],
   "source": [
    "fname = \"/home/charles/dlc_stacks/worm3-newseg-2021_11_17/project_config.yaml\"\n",
    "project_data = ProjectData.load_final_project_data_from_config(fname, to_load_tracklets=True)"
   ]
  },
  {
   "cell_type": "code",
   "execution_count": 19,
   "id": "d94d723a-1094-4857-8e2d-fb2883016e86",
   "metadata": {},
   "outputs": [],
   "source": [
    "df_tracklets = project_data.df_all_tracklets"
   ]
  },
  {
   "cell_type": "code",
   "execution_count": 20,
   "id": "4fb062a5-4b8e-42a8-90bb-ba8d30c44b68",
   "metadata": {},
   "outputs": [],
   "source": [
    "tracklet_names = list(df_tracklets.columns.levels[0])"
   ]
  },
  {
   "cell_type": "code",
   "execution_count": 21,
   "id": "b062f88f-e71a-4843-b89d-d506d63d81fb",
   "metadata": {},
   "outputs": [],
   "source": [
    "def f(name):\n",
    "    track = df_tracklets[name]\n",
    "    t = track.index\n",
    "    \n",
    "    plt.figure(figsize=(25,5))\n",
    "    plt.plot(t, track['z'])\n",
    "    plt.title(\"Z\")\n",
    "    \n",
    "    plt.figure(figsize=(25,5))\n",
    "    plt.plot(t, track['brightness_red'])\n",
    "    plt.title(\"Brightness\")\n",
    "    \n",
    "    plt.figure(figsize=(25,5))\n",
    "    plt.plot(t, track['volume'])\n",
    "    plt.title(\"Volume\")\n",
    "    \n",
    "    # print(name)\n",
    "    \n",
    "    plt.show()"
   ]
  },
  {
   "cell_type": "code",
   "execution_count": 22,
   "id": "d2764af5-9924-41a5-9758-fde6faeafc6a",
   "metadata": {},
   "outputs": [
    {
     "data": {
      "application/vnd.jupyter.widget-view+json": {
       "model_id": "097319841cf5421798d64bc147790805",
       "version_major": 2,
       "version_minor": 0
      },
      "text/plain": [
       "interactive(children=(Dropdown(description='name', options=('tracklet_0000000', 'tracklet_0000001', 'tracklet_…"
      ]
     },
     "metadata": {},
     "output_type": "display_data"
    },
    {
     "data": {
      "text/plain": [
       "<function __main__.f(name)>"
      ]
     },
     "execution_count": 22,
     "metadata": {},
     "output_type": "execute_result"
    }
   ],
   "source": [
    "interact(f, name=tracklet_names)"
   ]
  },
  {
   "cell_type": "markdown",
   "id": "13cfa6f4-24d1-4777-b386-f5ca55bdbe7c",
   "metadata": {},
   "source": [
    "# Look at global2tracklet matches"
   ]
  },
  {
   "cell_type": "code",
   "execution_count": 24,
   "id": "35dc62de-27b1-494a-b154-a1f71f08bd09",
   "metadata": {},
   "outputs": [],
   "source": [
    "from wbfm.utils.projects.utils_filepaths import pickle_load_binary\n",
    "fname = \"/scratch/zimmer/Charles/dlc_stacks/worm3-newseg-2021_11_17/3-tracking/global2tracklet.pickle\"\n",
    "dat = pickle_load_binary(fname)"
   ]
  },
  {
   "cell_type": "code",
   "execution_count": 26,
   "id": "189969e4-84e0-40cd-8903-5142793b7a05",
   "metadata": {},
   "outputs": [],
   "source": [
    "# dat"
   ]
  },
  {
   "cell_type": "code",
   "execution_count": null,
   "id": "a33e0d9c-a87e-464b-86d9-f6dbc3d37026",
   "metadata": {},
   "outputs": [],
   "source": []
  }
 ],
 "metadata": {
  "kernelspec": {
   "display_name": "Python 3 (ipykernel)",
   "language": "python",
   "name": "python3"
  },
  "language_info": {
   "codemirror_mode": {
    "name": "ipython",
    "version": 3
   },
   "file_extension": ".py",
   "mimetype": "text/x-python",
   "name": "python",
   "nbconvert_exporter": "python",
   "pygments_lexer": "ipython3",
   "version": "3.7.11"
  }
 },
 "nbformat": 4,
 "nbformat_minor": 5
}
