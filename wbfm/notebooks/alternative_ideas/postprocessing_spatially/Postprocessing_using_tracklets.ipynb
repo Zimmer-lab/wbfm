{
 "cells": [
  {
   "cell_type": "markdown",
   "id": "4216ea42-fbfd-4d73-b06c-329ba6efd606",
   "metadata": {},
   "source": [
    "# Combine DLC positions with my tracklets to impute missing values"
   ]
  },
  {
   "cell_type": "code",
   "execution_count": 46,
   "id": "66e005ec-fd1e-4715-8586-55ef22bcbd38",
   "metadata": {},
   "outputs": [
    {
     "name": "stdout",
     "output_type": "stream",
     "text": [
      "The autoreload extension is already loaded. To reload it, use:\n",
      "  %reload_ext autoreload\n"
     ]
    }
   ],
   "source": [
    "%load_ext autoreload\n",
    "%autoreload 2\n",
    "\n",
    "from wbfm.utils.projects.utils_project import load_config, safe_cd\n",
    "from pathlib import Path\n",
    "import zarr\n",
    "import os\n",
    "import pandas as pd\n",
    "import numpy as np\n",
    "import napari\n",
    "from wbfm.utils.visualization.napari_from_config import dlc_to_napari_tracks\n",
    "from scipy.spatial import distance\n",
    "import matplotlib.pyplot as plt\n",
    "from tqdm.auto import tqdm\n",
    "\n",
    "from wbfm.utils.postprocessing.combine_tracklets_and_DLC_tracks import *"
   ]
  },
  {
   "cell_type": "code",
   "execution_count": 2,
   "id": "3f55cf45-2a2a-4ce7-8e7d-cfdc133348b8",
   "metadata": {},
   "outputs": [],
   "source": [
    "# project_fname = r\"Y:\\shared_projects\\wbfm\\dlc_stacks\\Charlie-worm3-new-seg\\project_config.yaml\"\n",
    "project_fname = r\"C:\\dlc_stacks\\Charlie-worm3-new-seg\\project_config.yaml\"\n",
    "project_cfg = load_config(project_fname)\n",
    "segment_fname = project_cfg['subfolder_configs']['segmentation']\n",
    "project_dir = Path(project_fname).parent\n",
    "\n",
    "tracklet_fname = os.path.join('2-training_data', 'all_tracklets.h5')\n",
    "dlc_fname = os.path.join('3-tracking', 'full_3d_tracks.h5')\n",
    "\n",
    "with safe_cd(project_dir):\n",
    "    segment_cfg = load_config(segment_fname)\n",
    "    df_tracklet = pd.read_hdf(tracklet_fname)\n",
    "    dlc_tracks = pd.read_hdf(dlc_fname)"
   ]
  },
  {
   "cell_type": "code",
   "execution_count": 3,
   "id": "37941e81-d1dc-4870-bf7e-921a3c48bc05",
   "metadata": {},
   "outputs": [],
   "source": [
    "dlc_tracks.replace(0, np.NaN, inplace=True)"
   ]
  },
  {
   "cell_type": "code",
   "execution_count": 4,
   "id": "c67dd3b4-25ab-4b2e-816a-73a14f94617b",
   "metadata": {},
   "outputs": [],
   "source": [
    "red_data_fname = project_cfg['preprocessed_red']\n",
    "red_data = zarr.open(red_data_fname)"
   ]
  },
  {
   "cell_type": "code",
   "execution_count": 5,
   "id": "d765b0a3-1de4-44af-b965-55dc34fa9995",
   "metadata": {},
   "outputs": [],
   "source": [
    "napari_tracklets = dlc_to_napari_tracks(df_tracklet, 0.0)"
   ]
  },
  {
   "cell_type": "code",
   "execution_count": 6,
   "id": "ade42698-d3c6-4701-a342-7fb5d2269495",
   "metadata": {},
   "outputs": [],
   "source": [
    "# Visualize everything\n",
    "# viewer = napari.view_image(red_data)\n",
    "# viewer.add_tracks(napari_tracklets)"
   ]
  },
  {
   "cell_type": "code",
   "execution_count": null,
   "id": "2ee048af-8e76-491e-8d26-b85e0ad9fe1b",
   "metadata": {},
   "outputs": [],
   "source": []
  },
  {
   "cell_type": "code",
   "execution_count": 83,
   "id": "c8369f50-cfd3-4e8d-8ddf-f1c2635c6c9e",
   "metadata": {
    "collapsed": true,
    "jupyter": {
     "outputs_hidden": true
    },
    "tags": []
   },
   "outputs": [
    {
     "data": {
      "application/vnd.jupyter.widget-view+json": {
       "model_id": "36bb4bfa74aa43cc97a9412d4341daa9",
       "version_major": 2,
       "version_minor": 0
      },
      "text/plain": [
       "  0%|          | 0/74 [00:00<?, ?it/s]"
      ]
     },
     "metadata": {},
     "output_type": "display_data"
    },
    {
     "data": {
      "application/vnd.jupyter.widget-view+json": {
       "model_id": "",
       "version_major": 2,
       "version_minor": 0
      },
      "text/plain": [
       "  0%|          | 0/5550 [00:00<?, ?it/s]"
      ]
     },
     "metadata": {},
     "output_type": "display_data"
    },
    {
     "name": "stdout",
     "output_type": "stream",
     "text": [
      "Covering of length 785 made from 8 tracklets\n"
     ]
    },
    {
     "data": {
      "application/vnd.jupyter.widget-view+json": {
       "model_id": "",
       "version_major": 2,
       "version_minor": 0
      },
      "text/plain": [
       "  0%|          | 0/5550 [00:00<?, ?it/s]"
      ]
     },
     "metadata": {},
     "output_type": "display_data"
    },
    {
     "name": "stdout",
     "output_type": "stream",
     "text": [
      "Covering of length 309 made from 5 tracklets\n"
     ]
    },
    {
     "data": {
      "application/vnd.jupyter.widget-view+json": {
       "model_id": "",
       "version_major": 2,
       "version_minor": 0
      },
      "text/plain": [
       "  0%|          | 0/5550 [00:00<?, ?it/s]"
      ]
     },
     "metadata": {},
     "output_type": "display_data"
    },
    {
     "name": "stdout",
     "output_type": "stream",
     "text": [
      "Covering of length 914 made from 8 tracklets\n"
     ]
    },
    {
     "data": {
      "application/vnd.jupyter.widget-view+json": {
       "model_id": "",
       "version_major": 2,
       "version_minor": 0
      },
      "text/plain": [
       "  0%|          | 0/5550 [00:00<?, ?it/s]"
      ]
     },
     "metadata": {},
     "output_type": "display_data"
    },
    {
     "name": "stdout",
     "output_type": "stream",
     "text": [
      "Covering of length 654 made from 18 tracklets\n"
     ]
    },
    {
     "data": {
      "application/vnd.jupyter.widget-view+json": {
       "model_id": "",
       "version_major": 2,
       "version_minor": 0
      },
      "text/plain": [
       "  0%|          | 0/5550 [00:00<?, ?it/s]"
      ]
     },
     "metadata": {},
     "output_type": "display_data"
    },
    {
     "name": "stdout",
     "output_type": "stream",
     "text": [
      "Covering of length 1012 made from 53 tracklets\n"
     ]
    },
    {
     "data": {
      "application/vnd.jupyter.widget-view+json": {
       "model_id": "",
       "version_major": 2,
       "version_minor": 0
      },
      "text/plain": [
       "  0%|          | 0/5550 [00:00<?, ?it/s]"
      ]
     },
     "metadata": {},
     "output_type": "display_data"
    },
    {
     "name": "stdout",
     "output_type": "stream",
     "text": [
      "Covering of length 696 made from 19 tracklets\n"
     ]
    },
    {
     "data": {
      "application/vnd.jupyter.widget-view+json": {
       "model_id": "",
       "version_major": 2,
       "version_minor": 0
      },
      "text/plain": [
       "  0%|          | 0/5550 [00:00<?, ?it/s]"
      ]
     },
     "metadata": {},
     "output_type": "display_data"
    },
    {
     "name": "stdout",
     "output_type": "stream",
     "text": [
      "Covering of length 949 made from 22 tracklets\n"
     ]
    },
    {
     "data": {
      "application/vnd.jupyter.widget-view+json": {
       "model_id": "",
       "version_major": 2,
       "version_minor": 0
      },
      "text/plain": [
       "  0%|          | 0/5550 [00:00<?, ?it/s]"
      ]
     },
     "metadata": {},
     "output_type": "display_data"
    },
    {
     "name": "stdout",
     "output_type": "stream",
     "text": [
      "Covering of length 429 made from 6 tracklets\n"
     ]
    },
    {
     "data": {
      "application/vnd.jupyter.widget-view+json": {
       "model_id": "",
       "version_major": 2,
       "version_minor": 0
      },
      "text/plain": [
       "  0%|          | 0/5550 [00:00<?, ?it/s]"
      ]
     },
     "metadata": {},
     "output_type": "display_data"
    },
    {
     "name": "stdout",
     "output_type": "stream",
     "text": [
      "Covering of length 748 made from 8 tracklets\n"
     ]
    },
    {
     "data": {
      "application/vnd.jupyter.widget-view+json": {
       "model_id": "",
       "version_major": 2,
       "version_minor": 0
      },
      "text/plain": [
       "  0%|          | 0/5550 [00:00<?, ?it/s]"
      ]
     },
     "metadata": {},
     "output_type": "display_data"
    },
    {
     "name": "stdout",
     "output_type": "stream",
     "text": [
      "Covering of length 756 made from 12 tracklets\n"
     ]
    },
    {
     "data": {
      "application/vnd.jupyter.widget-view+json": {
       "model_id": "",
       "version_major": 2,
       "version_minor": 0
      },
      "text/plain": [
       "  0%|          | 0/5550 [00:00<?, ?it/s]"
      ]
     },
     "metadata": {},
     "output_type": "display_data"
    },
    {
     "name": "stdout",
     "output_type": "stream",
     "text": [
      "Covering of length 572 made from 10 tracklets\n"
     ]
    },
    {
     "data": {
      "application/vnd.jupyter.widget-view+json": {
       "model_id": "",
       "version_major": 2,
       "version_minor": 0
      },
      "text/plain": [
       "  0%|          | 0/5550 [00:00<?, ?it/s]"
      ]
     },
     "metadata": {},
     "output_type": "display_data"
    },
    {
     "name": "stdout",
     "output_type": "stream",
     "text": [
      "Covering of length 719 made from 5 tracklets\n"
     ]
    },
    {
     "data": {
      "application/vnd.jupyter.widget-view+json": {
       "model_id": "",
       "version_major": 2,
       "version_minor": 0
      },
      "text/plain": [
       "  0%|          | 0/5550 [00:00<?, ?it/s]"
      ]
     },
     "metadata": {},
     "output_type": "display_data"
    },
    {
     "name": "stdout",
     "output_type": "stream",
     "text": [
      "Covering of length 1023 made from 12 tracklets\n"
     ]
    },
    {
     "data": {
      "application/vnd.jupyter.widget-view+json": {
       "model_id": "",
       "version_major": 2,
       "version_minor": 0
      },
      "text/plain": [
       "  0%|          | 0/5550 [00:00<?, ?it/s]"
      ]
     },
     "metadata": {},
     "output_type": "display_data"
    },
    {
     "name": "stdout",
     "output_type": "stream",
     "text": [
      "Covering of length 565 made from 30 tracklets\n"
     ]
    },
    {
     "data": {
      "application/vnd.jupyter.widget-view+json": {
       "model_id": "",
       "version_major": 2,
       "version_minor": 0
      },
      "text/plain": [
       "  0%|          | 0/5550 [00:00<?, ?it/s]"
      ]
     },
     "metadata": {},
     "output_type": "display_data"
    },
    {
     "name": "stdout",
     "output_type": "stream",
     "text": [
      "Covering of length 815 made from 13 tracklets\n"
     ]
    },
    {
     "data": {
      "application/vnd.jupyter.widget-view+json": {
       "model_id": "",
       "version_major": 2,
       "version_minor": 0
      },
      "text/plain": [
       "  0%|          | 0/5550 [00:00<?, ?it/s]"
      ]
     },
     "metadata": {},
     "output_type": "display_data"
    },
    {
     "name": "stdout",
     "output_type": "stream",
     "text": [
      "Covering of length 482 made from 9 tracklets\n"
     ]
    },
    {
     "data": {
      "application/vnd.jupyter.widget-view+json": {
       "model_id": "",
       "version_major": 2,
       "version_minor": 0
      },
      "text/plain": [
       "  0%|          | 0/5550 [00:00<?, ?it/s]"
      ]
     },
     "metadata": {},
     "output_type": "display_data"
    },
    {
     "name": "stdout",
     "output_type": "stream",
     "text": [
      "Covering of length 974 made from 15 tracklets\n"
     ]
    },
    {
     "data": {
      "application/vnd.jupyter.widget-view+json": {
       "model_id": "",
       "version_major": 2,
       "version_minor": 0
      },
      "text/plain": [
       "  0%|          | 0/5550 [00:00<?, ?it/s]"
      ]
     },
     "metadata": {},
     "output_type": "display_data"
    },
    {
     "name": "stdout",
     "output_type": "stream",
     "text": [
      "Covering of length 703 made from 11 tracklets\n"
     ]
    },
    {
     "data": {
      "application/vnd.jupyter.widget-view+json": {
       "model_id": "",
       "version_major": 2,
       "version_minor": 0
      },
      "text/plain": [
       "  0%|          | 0/5550 [00:00<?, ?it/s]"
      ]
     },
     "metadata": {},
     "output_type": "display_data"
    },
    {
     "name": "stdout",
     "output_type": "stream",
     "text": [
      "Covering of length 992 made from 5 tracklets\n"
     ]
    },
    {
     "data": {
      "application/vnd.jupyter.widget-view+json": {
       "model_id": "",
       "version_major": 2,
       "version_minor": 0
      },
      "text/plain": [
       "  0%|          | 0/5550 [00:00<?, ?it/s]"
      ]
     },
     "metadata": {},
     "output_type": "display_data"
    },
    {
     "name": "stdout",
     "output_type": "stream",
     "text": [
      "Covering of length 628 made from 17 tracklets\n"
     ]
    },
    {
     "data": {
      "application/vnd.jupyter.widget-view+json": {
       "model_id": "",
       "version_major": 2,
       "version_minor": 0
      },
      "text/plain": [
       "  0%|          | 0/5550 [00:00<?, ?it/s]"
      ]
     },
     "metadata": {},
     "output_type": "display_data"
    },
    {
     "name": "stdout",
     "output_type": "stream",
     "text": [
      "Covering of length 807 made from 24 tracklets\n"
     ]
    },
    {
     "data": {
      "application/vnd.jupyter.widget-view+json": {
       "model_id": "",
       "version_major": 2,
       "version_minor": 0
      },
      "text/plain": [
       "  0%|          | 0/5550 [00:00<?, ?it/s]"
      ]
     },
     "metadata": {},
     "output_type": "display_data"
    },
    {
     "name": "stdout",
     "output_type": "stream",
     "text": [
      "Covering of length 701 made from 28 tracklets\n"
     ]
    },
    {
     "data": {
      "application/vnd.jupyter.widget-view+json": {
       "model_id": "",
       "version_major": 2,
       "version_minor": 0
      },
      "text/plain": [
       "  0%|          | 0/5550 [00:00<?, ?it/s]"
      ]
     },
     "metadata": {},
     "output_type": "display_data"
    },
    {
     "name": "stdout",
     "output_type": "stream",
     "text": [
      "Covering of length 588 made from 14 tracklets\n"
     ]
    },
    {
     "data": {
      "application/vnd.jupyter.widget-view+json": {
       "model_id": "",
       "version_major": 2,
       "version_minor": 0
      },
      "text/plain": [
       "  0%|          | 0/5550 [00:00<?, ?it/s]"
      ]
     },
     "metadata": {},
     "output_type": "display_data"
    },
    {
     "name": "stdout",
     "output_type": "stream",
     "text": [
      "Covering of length 789 made from 9 tracklets\n"
     ]
    },
    {
     "data": {
      "application/vnd.jupyter.widget-view+json": {
       "model_id": "",
       "version_major": 2,
       "version_minor": 0
      },
      "text/plain": [
       "  0%|          | 0/5550 [00:00<?, ?it/s]"
      ]
     },
     "metadata": {},
     "output_type": "display_data"
    },
    {
     "name": "stdout",
     "output_type": "stream",
     "text": [
      "Covering of length 775 made from 42 tracklets\n"
     ]
    },
    {
     "data": {
      "application/vnd.jupyter.widget-view+json": {
       "model_id": "",
       "version_major": 2,
       "version_minor": 0
      },
      "text/plain": [
       "  0%|          | 0/5550 [00:00<?, ?it/s]"
      ]
     },
     "metadata": {},
     "output_type": "display_data"
    },
    {
     "name": "stdout",
     "output_type": "stream",
     "text": [
      "Covering of length 716 made from 17 tracklets\n"
     ]
    },
    {
     "data": {
      "application/vnd.jupyter.widget-view+json": {
       "model_id": "",
       "version_major": 2,
       "version_minor": 0
      },
      "text/plain": [
       "  0%|          | 0/5550 [00:00<?, ?it/s]"
      ]
     },
     "metadata": {},
     "output_type": "display_data"
    },
    {
     "name": "stdout",
     "output_type": "stream",
     "text": [
      "Covering of length 449 made from 13 tracklets\n"
     ]
    },
    {
     "data": {
      "application/vnd.jupyter.widget-view+json": {
       "model_id": "",
       "version_major": 2,
       "version_minor": 0
      },
      "text/plain": [
       "  0%|          | 0/5550 [00:00<?, ?it/s]"
      ]
     },
     "metadata": {},
     "output_type": "display_data"
    },
    {
     "name": "stdout",
     "output_type": "stream",
     "text": [
      "Covering of length 315 made from 15 tracklets\n"
     ]
    },
    {
     "data": {
      "application/vnd.jupyter.widget-view+json": {
       "model_id": "",
       "version_major": 2,
       "version_minor": 0
      },
      "text/plain": [
       "  0%|          | 0/5550 [00:00<?, ?it/s]"
      ]
     },
     "metadata": {},
     "output_type": "display_data"
    },
    {
     "name": "stdout",
     "output_type": "stream",
     "text": [
      "Covering of length 232 made from 12 tracklets\n"
     ]
    },
    {
     "data": {
      "application/vnd.jupyter.widget-view+json": {
       "model_id": "",
       "version_major": 2,
       "version_minor": 0
      },
      "text/plain": [
       "  0%|          | 0/5550 [00:00<?, ?it/s]"
      ]
     },
     "metadata": {},
     "output_type": "display_data"
    },
    {
     "name": "stdout",
     "output_type": "stream",
     "text": [
      "Covering of length 239 made from 14 tracklets\n"
     ]
    },
    {
     "data": {
      "application/vnd.jupyter.widget-view+json": {
       "model_id": "",
       "version_major": 2,
       "version_minor": 0
      },
      "text/plain": [
       "  0%|          | 0/5550 [00:00<?, ?it/s]"
      ]
     },
     "metadata": {},
     "output_type": "display_data"
    },
    {
     "name": "stdout",
     "output_type": "stream",
     "text": [
      "Covering of length 705 made from 21 tracklets\n"
     ]
    },
    {
     "data": {
      "application/vnd.jupyter.widget-view+json": {
       "model_id": "",
       "version_major": 2,
       "version_minor": 0
      },
      "text/plain": [
       "  0%|          | 0/5550 [00:00<?, ?it/s]"
      ]
     },
     "metadata": {},
     "output_type": "display_data"
    },
    {
     "name": "stdout",
     "output_type": "stream",
     "text": [
      "Covering of length 871 made from 22 tracklets\n"
     ]
    },
    {
     "data": {
      "application/vnd.jupyter.widget-view+json": {
       "model_id": "",
       "version_major": 2,
       "version_minor": 0
      },
      "text/plain": [
       "  0%|          | 0/5550 [00:00<?, ?it/s]"
      ]
     },
     "metadata": {},
     "output_type": "display_data"
    },
    {
     "name": "stdout",
     "output_type": "stream",
     "text": [
      "Covering of length 864 made from 32 tracklets\n"
     ]
    },
    {
     "data": {
      "application/vnd.jupyter.widget-view+json": {
       "model_id": "",
       "version_major": 2,
       "version_minor": 0
      },
      "text/plain": [
       "  0%|          | 0/5550 [00:00<?, ?it/s]"
      ]
     },
     "metadata": {},
     "output_type": "display_data"
    },
    {
     "name": "stdout",
     "output_type": "stream",
     "text": [
      "Covering of length 997 made from 11 tracklets\n"
     ]
    },
    {
     "data": {
      "application/vnd.jupyter.widget-view+json": {
       "model_id": "",
       "version_major": 2,
       "version_minor": 0
      },
      "text/plain": [
       "  0%|          | 0/5550 [00:00<?, ?it/s]"
      ]
     },
     "metadata": {},
     "output_type": "display_data"
    },
    {
     "name": "stdout",
     "output_type": "stream",
     "text": [
      "Covering of length 1002 made from 34 tracklets\n"
     ]
    },
    {
     "data": {
      "application/vnd.jupyter.widget-view+json": {
       "model_id": "",
       "version_major": 2,
       "version_minor": 0
      },
      "text/plain": [
       "  0%|          | 0/5550 [00:00<?, ?it/s]"
      ]
     },
     "metadata": {},
     "output_type": "display_data"
    },
    {
     "name": "stdout",
     "output_type": "stream",
     "text": [
      "Covering of length 91 made from 3 tracklets\n"
     ]
    },
    {
     "data": {
      "application/vnd.jupyter.widget-view+json": {
       "model_id": "",
       "version_major": 2,
       "version_minor": 0
      },
      "text/plain": [
       "  0%|          | 0/5550 [00:00<?, ?it/s]"
      ]
     },
     "metadata": {},
     "output_type": "display_data"
    },
    {
     "name": "stdout",
     "output_type": "stream",
     "text": [
      "Covering of length 374 made from 12 tracklets\n"
     ]
    },
    {
     "data": {
      "application/vnd.jupyter.widget-view+json": {
       "model_id": "",
       "version_major": 2,
       "version_minor": 0
      },
      "text/plain": [
       "  0%|          | 0/5550 [00:00<?, ?it/s]"
      ]
     },
     "metadata": {},
     "output_type": "display_data"
    },
    {
     "name": "stdout",
     "output_type": "stream",
     "text": [
      "Covering of length 818 made from 19 tracklets\n"
     ]
    },
    {
     "data": {
      "application/vnd.jupyter.widget-view+json": {
       "model_id": "",
       "version_major": 2,
       "version_minor": 0
      },
      "text/plain": [
       "  0%|          | 0/5550 [00:00<?, ?it/s]"
      ]
     },
     "metadata": {},
     "output_type": "display_data"
    },
    {
     "name": "stdout",
     "output_type": "stream",
     "text": [
      "Covering of length 533 made from 13 tracklets\n"
     ]
    },
    {
     "data": {
      "application/vnd.jupyter.widget-view+json": {
       "model_id": "",
       "version_major": 2,
       "version_minor": 0
      },
      "text/plain": [
       "  0%|          | 0/5550 [00:00<?, ?it/s]"
      ]
     },
     "metadata": {},
     "output_type": "display_data"
    },
    {
     "name": "stdout",
     "output_type": "stream",
     "text": [
      "Covering of length 773 made from 15 tracklets\n"
     ]
    },
    {
     "data": {
      "application/vnd.jupyter.widget-view+json": {
       "model_id": "",
       "version_major": 2,
       "version_minor": 0
      },
      "text/plain": [
       "  0%|          | 0/5550 [00:00<?, ?it/s]"
      ]
     },
     "metadata": {},
     "output_type": "display_data"
    },
    {
     "name": "stdout",
     "output_type": "stream",
     "text": [
      "Covering of length 715 made from 13 tracklets\n"
     ]
    },
    {
     "data": {
      "application/vnd.jupyter.widget-view+json": {
       "model_id": "",
       "version_major": 2,
       "version_minor": 0
      },
      "text/plain": [
       "  0%|          | 0/5550 [00:00<?, ?it/s]"
      ]
     },
     "metadata": {},
     "output_type": "display_data"
    },
    {
     "name": "stdout",
     "output_type": "stream",
     "text": [
      "Covering of length 450 made from 19 tracklets\n"
     ]
    },
    {
     "data": {
      "application/vnd.jupyter.widget-view+json": {
       "model_id": "",
       "version_major": 2,
       "version_minor": 0
      },
      "text/plain": [
       "  0%|          | 0/5550 [00:00<?, ?it/s]"
      ]
     },
     "metadata": {},
     "output_type": "display_data"
    },
    {
     "name": "stdout",
     "output_type": "stream",
     "text": [
      "Covering of length 667 made from 7 tracklets\n"
     ]
    },
    {
     "data": {
      "application/vnd.jupyter.widget-view+json": {
       "model_id": "",
       "version_major": 2,
       "version_minor": 0
      },
      "text/plain": [
       "  0%|          | 0/5550 [00:00<?, ?it/s]"
      ]
     },
     "metadata": {},
     "output_type": "display_data"
    },
    {
     "name": "stdout",
     "output_type": "stream",
     "text": [
      "Covering of length 1012 made from 17 tracklets\n"
     ]
    },
    {
     "data": {
      "application/vnd.jupyter.widget-view+json": {
       "model_id": "",
       "version_major": 2,
       "version_minor": 0
      },
      "text/plain": [
       "  0%|          | 0/5550 [00:00<?, ?it/s]"
      ]
     },
     "metadata": {},
     "output_type": "display_data"
    },
    {
     "name": "stdout",
     "output_type": "stream",
     "text": [
      "Covering of length 895 made from 22 tracklets\n"
     ]
    },
    {
     "data": {
      "application/vnd.jupyter.widget-view+json": {
       "model_id": "",
       "version_major": 2,
       "version_minor": 0
      },
      "text/plain": [
       "  0%|          | 0/5550 [00:00<?, ?it/s]"
      ]
     },
     "metadata": {},
     "output_type": "display_data"
    },
    {
     "name": "stdout",
     "output_type": "stream",
     "text": [
      "Covering of length 413 made from 12 tracklets\n"
     ]
    },
    {
     "data": {
      "application/vnd.jupyter.widget-view+json": {
       "model_id": "",
       "version_major": 2,
       "version_minor": 0
      },
      "text/plain": [
       "  0%|          | 0/5550 [00:00<?, ?it/s]"
      ]
     },
     "metadata": {},
     "output_type": "display_data"
    },
    {
     "name": "stdout",
     "output_type": "stream",
     "text": [
      "Covering of length 792 made from 24 tracklets\n"
     ]
    },
    {
     "data": {
      "application/vnd.jupyter.widget-view+json": {
       "model_id": "",
       "version_major": 2,
       "version_minor": 0
      },
      "text/plain": [
       "  0%|          | 0/5550 [00:00<?, ?it/s]"
      ]
     },
     "metadata": {},
     "output_type": "display_data"
    },
    {
     "name": "stdout",
     "output_type": "stream",
     "text": [
      "Covering of length 709 made from 16 tracklets\n"
     ]
    },
    {
     "data": {
      "application/vnd.jupyter.widget-view+json": {
       "model_id": "",
       "version_major": 2,
       "version_minor": 0
      },
      "text/plain": [
       "  0%|          | 0/5550 [00:00<?, ?it/s]"
      ]
     },
     "metadata": {},
     "output_type": "display_data"
    },
    {
     "name": "stdout",
     "output_type": "stream",
     "text": [
      "Covering of length 774 made from 18 tracklets\n"
     ]
    },
    {
     "data": {
      "application/vnd.jupyter.widget-view+json": {
       "model_id": "",
       "version_major": 2,
       "version_minor": 0
      },
      "text/plain": [
       "  0%|          | 0/5550 [00:00<?, ?it/s]"
      ]
     },
     "metadata": {},
     "output_type": "display_data"
    },
    {
     "name": "stdout",
     "output_type": "stream",
     "text": [
      "Covering of length 769 made from 18 tracklets\n"
     ]
    },
    {
     "data": {
      "application/vnd.jupyter.widget-view+json": {
       "model_id": "",
       "version_major": 2,
       "version_minor": 0
      },
      "text/plain": [
       "  0%|          | 0/5550 [00:00<?, ?it/s]"
      ]
     },
     "metadata": {},
     "output_type": "display_data"
    },
    {
     "name": "stdout",
     "output_type": "stream",
     "text": [
      "Covering of length 858 made from 18 tracklets\n"
     ]
    },
    {
     "data": {
      "application/vnd.jupyter.widget-view+json": {
       "model_id": "",
       "version_major": 2,
       "version_minor": 0
      },
      "text/plain": [
       "  0%|          | 0/5550 [00:00<?, ?it/s]"
      ]
     },
     "metadata": {},
     "output_type": "display_data"
    },
    {
     "name": "stdout",
     "output_type": "stream",
     "text": [
      "Covering of length 815 made from 26 tracklets\n"
     ]
    },
    {
     "data": {
      "application/vnd.jupyter.widget-view+json": {
       "model_id": "",
       "version_major": 2,
       "version_minor": 0
      },
      "text/plain": [
       "  0%|          | 0/5550 [00:00<?, ?it/s]"
      ]
     },
     "metadata": {},
     "output_type": "display_data"
    },
    {
     "name": "stdout",
     "output_type": "stream",
     "text": [
      "Covering of length 638 made from 20 tracklets\n"
     ]
    },
    {
     "data": {
      "application/vnd.jupyter.widget-view+json": {
       "model_id": "",
       "version_major": 2,
       "version_minor": 0
      },
      "text/plain": [
       "  0%|          | 0/5550 [00:00<?, ?it/s]"
      ]
     },
     "metadata": {},
     "output_type": "display_data"
    },
    {
     "name": "stdout",
     "output_type": "stream",
     "text": [
      "Covering of length 744 made from 30 tracklets\n"
     ]
    },
    {
     "data": {
      "application/vnd.jupyter.widget-view+json": {
       "model_id": "",
       "version_major": 2,
       "version_minor": 0
      },
      "text/plain": [
       "  0%|          | 0/5550 [00:00<?, ?it/s]"
      ]
     },
     "metadata": {},
     "output_type": "display_data"
    },
    {
     "name": "stdout",
     "output_type": "stream",
     "text": [
      "Covering of length 930 made from 36 tracklets\n"
     ]
    },
    {
     "data": {
      "application/vnd.jupyter.widget-view+json": {
       "model_id": "",
       "version_major": 2,
       "version_minor": 0
      },
      "text/plain": [
       "  0%|          | 0/5550 [00:00<?, ?it/s]"
      ]
     },
     "metadata": {},
     "output_type": "display_data"
    },
    {
     "name": "stdout",
     "output_type": "stream",
     "text": [
      "Covering of length 791 made from 18 tracklets\n"
     ]
    },
    {
     "data": {
      "application/vnd.jupyter.widget-view+json": {
       "model_id": "",
       "version_major": 2,
       "version_minor": 0
      },
      "text/plain": [
       "  0%|          | 0/5550 [00:00<?, ?it/s]"
      ]
     },
     "metadata": {},
     "output_type": "display_data"
    },
    {
     "name": "stdout",
     "output_type": "stream",
     "text": [
      "Covering of length 624 made from 23 tracklets\n"
     ]
    },
    {
     "data": {
      "application/vnd.jupyter.widget-view+json": {
       "model_id": "",
       "version_major": 2,
       "version_minor": 0
      },
      "text/plain": [
       "  0%|          | 0/5550 [00:00<?, ?it/s]"
      ]
     },
     "metadata": {},
     "output_type": "display_data"
    },
    {
     "name": "stdout",
     "output_type": "stream",
     "text": [
      "Covering of length 691 made from 25 tracklets\n"
     ]
    },
    {
     "data": {
      "application/vnd.jupyter.widget-view+json": {
       "model_id": "",
       "version_major": 2,
       "version_minor": 0
      },
      "text/plain": [
       "  0%|          | 0/5550 [00:00<?, ?it/s]"
      ]
     },
     "metadata": {},
     "output_type": "display_data"
    },
    {
     "name": "stdout",
     "output_type": "stream",
     "text": [
      "Covering of length 433 made from 23 tracklets\n"
     ]
    },
    {
     "data": {
      "application/vnd.jupyter.widget-view+json": {
       "model_id": "",
       "version_major": 2,
       "version_minor": 0
      },
      "text/plain": [
       "  0%|          | 0/5550 [00:00<?, ?it/s]"
      ]
     },
     "metadata": {},
     "output_type": "display_data"
    },
    {
     "name": "stdout",
     "output_type": "stream",
     "text": [
      "Covering of length 503 made from 16 tracklets\n"
     ]
    },
    {
     "data": {
      "application/vnd.jupyter.widget-view+json": {
       "model_id": "",
       "version_major": 2,
       "version_minor": 0
      },
      "text/plain": [
       "  0%|          | 0/5550 [00:00<?, ?it/s]"
      ]
     },
     "metadata": {},
     "output_type": "display_data"
    },
    {
     "name": "stdout",
     "output_type": "stream",
     "text": [
      "Covering of length 529 made from 20 tracklets\n"
     ]
    },
    {
     "data": {
      "application/vnd.jupyter.widget-view+json": {
       "model_id": "",
       "version_major": 2,
       "version_minor": 0
      },
      "text/plain": [
       "  0%|          | 0/5550 [00:00<?, ?it/s]"
      ]
     },
     "metadata": {},
     "output_type": "display_data"
    },
    {
     "name": "stdout",
     "output_type": "stream",
     "text": [
      "Covering of length 745 made from 27 tracklets\n"
     ]
    },
    {
     "data": {
      "application/vnd.jupyter.widget-view+json": {
       "model_id": "",
       "version_major": 2,
       "version_minor": 0
      },
      "text/plain": [
       "  0%|          | 0/5550 [00:00<?, ?it/s]"
      ]
     },
     "metadata": {},
     "output_type": "display_data"
    },
    {
     "name": "stdout",
     "output_type": "stream",
     "text": [
      "Covering of length 271 made from 17 tracklets\n"
     ]
    },
    {
     "data": {
      "application/vnd.jupyter.widget-view+json": {
       "model_id": "",
       "version_major": 2,
       "version_minor": 0
      },
      "text/plain": [
       "  0%|          | 0/5550 [00:00<?, ?it/s]"
      ]
     },
     "metadata": {},
     "output_type": "display_data"
    },
    {
     "name": "stdout",
     "output_type": "stream",
     "text": [
      "Covering of length 789 made from 30 tracklets\n"
     ]
    },
    {
     "data": {
      "application/vnd.jupyter.widget-view+json": {
       "model_id": "",
       "version_major": 2,
       "version_minor": 0
      },
      "text/plain": [
       "  0%|          | 0/5550 [00:00<?, ?it/s]"
      ]
     },
     "metadata": {},
     "output_type": "display_data"
    },
    {
     "name": "stdout",
     "output_type": "stream",
     "text": [
      "Covering of length 486 made from 17 tracklets\n"
     ]
    },
    {
     "data": {
      "application/vnd.jupyter.widget-view+json": {
       "model_id": "",
       "version_major": 2,
       "version_minor": 0
      },
      "text/plain": [
       "  0%|          | 0/5550 [00:00<?, ?it/s]"
      ]
     },
     "metadata": {},
     "output_type": "display_data"
    },
    {
     "name": "stdout",
     "output_type": "stream",
     "text": [
      "Covering of length 704 made from 28 tracklets\n"
     ]
    },
    {
     "data": {
      "application/vnd.jupyter.widget-view+json": {
       "model_id": "",
       "version_major": 2,
       "version_minor": 0
      },
      "text/plain": [
       "  0%|          | 0/5550 [00:00<?, ?it/s]"
      ]
     },
     "metadata": {},
     "output_type": "display_data"
    },
    {
     "name": "stdout",
     "output_type": "stream",
     "text": [
      "Covering of length 565 made from 16 tracklets\n"
     ]
    },
    {
     "data": {
      "application/vnd.jupyter.widget-view+json": {
       "model_id": "",
       "version_major": 2,
       "version_minor": 0
      },
      "text/plain": [
       "  0%|          | 0/5550 [00:00<?, ?it/s]"
      ]
     },
     "metadata": {},
     "output_type": "display_data"
    },
    {
     "name": "stdout",
     "output_type": "stream",
     "text": [
      "Covering of length 244 made from 12 tracklets\n"
     ]
    },
    {
     "data": {
      "application/vnd.jupyter.widget-view+json": {
       "model_id": "",
       "version_major": 2,
       "version_minor": 0
      },
      "text/plain": [
       "  0%|          | 0/5550 [00:00<?, ?it/s]"
      ]
     },
     "metadata": {},
     "output_type": "display_data"
    },
    {
     "name": "stdout",
     "output_type": "stream",
     "text": [
      "Covering of length 769 made from 13 tracklets\n"
     ]
    },
    {
     "data": {
      "application/vnd.jupyter.widget-view+json": {
       "model_id": "",
       "version_major": 2,
       "version_minor": 0
      },
      "text/plain": [
       "  0%|          | 0/5550 [00:00<?, ?it/s]"
      ]
     },
     "metadata": {},
     "output_type": "display_data"
    },
    {
     "name": "stdout",
     "output_type": "stream",
     "text": [
      "Covering of length 303 made from 8 tracklets\n"
     ]
    },
    {
     "data": {
      "application/vnd.jupyter.widget-view+json": {
       "model_id": "",
       "version_major": 2,
       "version_minor": 0
      },
      "text/plain": [
       "  0%|          | 0/5550 [00:00<?, ?it/s]"
      ]
     },
     "metadata": {},
     "output_type": "display_data"
    },
    {
     "name": "stdout",
     "output_type": "stream",
     "text": [
      "Covering of length 769 made from 14 tracklets\n"
     ]
    },
    {
     "data": {
      "application/vnd.jupyter.widget-view+json": {
       "model_id": "",
       "version_major": 2,
       "version_minor": 0
      },
      "text/plain": [
       "  0%|          | 0/5550 [00:00<?, ?it/s]"
      ]
     },
     "metadata": {},
     "output_type": "display_data"
    },
    {
     "name": "stdout",
     "output_type": "stream",
     "text": [
      "Covering of length 563 made from 24 tracklets\n"
     ]
    },
    {
     "data": {
      "application/vnd.jupyter.widget-view+json": {
       "model_id": "",
       "version_major": 2,
       "version_minor": 0
      },
      "text/plain": [
       "  0%|          | 0/5550 [00:00<?, ?it/s]"
      ]
     },
     "metadata": {},
     "output_type": "display_data"
    },
    {
     "name": "stdout",
     "output_type": "stream",
     "text": [
      "Covering of length 627 made from 17 tracklets\n"
     ]
    },
    {
     "data": {
      "application/vnd.jupyter.widget-view+json": {
       "model_id": "",
       "version_major": 2,
       "version_minor": 0
      },
      "text/plain": [
       "  0%|          | 0/5550 [00:00<?, ?it/s]"
      ]
     },
     "metadata": {},
     "output_type": "display_data"
    },
    {
     "name": "stdout",
     "output_type": "stream",
     "text": [
      "Covering of length 785 made from 6 tracklets\n"
     ]
    }
   ],
   "source": [
    "all_dlc_names = list(dlc_tracks.columns.levels[0])\n",
    "dlc_name = all_dlc_names[0]\n",
    "\n",
    "all_covering_dist = []\n",
    "all_covering_time_points = []\n",
    "all_covering_ind = []\n",
    "for i, dlc_name in enumerate(tqdm(all_dlc_names)):\n",
    "    dist = calc_dlc_to_tracklet_distances(dlc_tracks, df_tracklet, dlc_name, all_covering_ind)\n",
    "    covering_time_points, covering_ind, these_dist = calc_covering_from_distances(dist, df_tracklet, all_covering_ind, d_max=5)\n",
    "    \n",
    "    all_covering_dist.append(these_dist)\n",
    "    all_covering_time_points.append(covering_time_points)\n",
    "    all_covering_ind.append(covering_ind)"
   ]
  },
  {
   "cell_type": "code",
   "execution_count": 8,
   "id": "63ecda03-4a53-4066-9830-db76b9f29f2b",
   "metadata": {},
   "outputs": [],
   "source": [
    "# Distances\n",
    "# %matplotlib widget\n",
    "# plt.plot(all_covering_dist[0])\n",
    "# np.min(all_covering_dist[0])"
   ]
  },
  {
   "cell_type": "code",
   "execution_count": 18,
   "id": "a4acc549-6630-4869-aefa-e60abb56d8f6",
   "metadata": {
    "tags": []
   },
   "outputs": [],
   "source": [
    "# Visualize coverings DLC + tracklets\n",
    "i = 2\n",
    "t_tracklet_covering = all_covering_time_points[i]\n",
    "# ind_covering = all_covering_ind[i]\n",
    "df_dlc = dlc_tracks[all_dlc_names[i]]\n",
    "is_nan = df_dlc['x'].isnull()\n",
    "t = df_dlc.index\n",
    "t_dlc_covering = list(t[~is_nan])\n",
    "\n",
    "# Process into: both, one, or neither\n",
    "t_both = []\n",
    "t_tracklet_only = []\n",
    "t_dlc_only = []\n",
    "t_gap = []\n",
    "set_dlc, set_tracklet = set(t_dlc_covering), set(t_tracklet_covering)\n",
    "\n",
    "for i in t:\n",
    "    in_dlc = i in set_dlc\n",
    "    in_tracklet = i in set_tracklet\n",
    "    if in_dlc and in_tracklet:\n",
    "        t_both.append(i)\n",
    "    elif in_dlc:\n",
    "        t_dlc_only.append(i)\n",
    "    elif in_tracklet:\n",
    "        t_tracklet_only.append(i)\n",
    "    else:\n",
    "        t_gap.append(i)\n",
    "        "
   ]
  },
  {
   "cell_type": "code",
   "execution_count": 19,
   "id": "7710bf33-6547-44d2-addd-8dc9e30907de",
   "metadata": {
    "tags": []
   },
   "outputs": [],
   "source": [
    "# %matplotlib widget\n",
    "# plt.plot(t_both, 1.3*np.ones_like(t_both), 'o', label=f'Covered by both: {len(t_both)}')\n",
    "# plt.plot(t_dlc_only, 1.2*np.ones_like(t_dlc_only), 'o', label=f'Points covered by only DLC: {len(t_dlc_only)}')\n",
    "# plt.plot(t_tracklet_only, 1.1*np.ones_like(t_tracklet_only), 'o', label=f'Points covered by only tracklets: {len(t_tracklet_only)}')\n",
    "# plt.plot(t_gap, np.ones_like(t_gap), 'o', label=f'Gaps: {len(t_gap)}')\n",
    "# plt.legend()"
   ]
  },
  {
   "cell_type": "code",
   "execution_count": 108,
   "id": "bdba3410-fe50-4b6d-9bc0-0cc552272ec7",
   "metadata": {
    "tags": []
   },
   "outputs": [
    {
     "data": {
      "application/vnd.jupyter.widget-view+json": {
       "model_id": "6ce61182c83c4d2aa127d5d90c87e889",
       "version_major": 2,
       "version_minor": 0
      },
      "text/plain": [
       "Canvas(toolbar=Toolbar(toolitems=[('Home', 'Reset original view', 'home', 'home'), ('Back', 'Back to previous …"
      ]
     },
     "metadata": {},
     "output_type": "display_data"
    },
    {
     "data": {
      "text/plain": [
       "<matplotlib.legend.Legend at 0x21816959088>"
      ]
     },
     "execution_count": 108,
     "metadata": {},
     "output_type": "execute_result"
    }
   ],
   "source": [
    "%matplotlib widget\n",
    "plt.scatter(t_both, 1.3*np.ones_like(t_both), label=f'Covered by both: {len(t_both)}')\n",
    "plt.scatter(t_dlc_only, 1.2*np.ones_like(t_dlc_only), label=f'Points covered by only DLC: {len(t_dlc_only)}')\n",
    "plt.scatter(t_tracklet_only, 1.1*np.ones_like(t_tracklet_only), label=f'Points covered by only tracklets: {len(t_tracklet_only)}')\n",
    "plt.scatter(t_gap, np.ones_like(t_gap), label=f'Gaps: {len(t_gap)}')\n",
    "plt.legend()"
   ]
  },
  {
   "cell_type": "code",
   "execution_count": 103,
   "id": "62451d42-be64-4365-9cb9-9d1b7f81d804",
   "metadata": {},
   "outputs": [],
   "source": [
    "combined_df, new_tracklet_df = combine_all_dlc_and_tracklet_coverings(all_covering_ind, df_tracklet, dlc_tracks, verbose=0)\n"
   ]
  },
  {
   "cell_type": "code",
   "execution_count": 110,
   "id": "936bb898-c7e3-4c42-8093-aaa5bc332c35",
   "metadata": {},
   "outputs": [],
   "source": [
    "\n",
    "# Then cast as napari format\n",
    "dlc_name = all_dlc_names[0]\n",
    "napari_new_tracklets = dlc_to_napari_tracks(combined_df[[dlc_name]], 0.0)\n",
    "\n",
    "# ALso get original DLC tracks\n",
    "# dlc_name = all_dlc_names[0]\n",
    "napari_dlc_tracks = dlc_to_napari_tracks(dlc_tracks[[dlc_name]], 0.0)"
   ]
  },
  {
   "cell_type": "code",
   "execution_count": 111,
   "id": "5919ac2e-0f80-4420-a66f-914ac537fcf6",
   "metadata": {},
   "outputs": [
    {
     "data": {
      "text/plain": [
       "<Tracks layer 'napari_dlc_tracks' at 0x2182233de88>"
      ]
     },
     "execution_count": 111,
     "metadata": {},
     "output_type": "execute_result"
    }
   ],
   "source": [
    "# Visualize both tracklets on the data\n",
    "\n",
    "viewer = napari.view_image(red_data)\n",
    "viewer.add_tracks(napari_new_tracklets)\n",
    "viewer.add_tracks(napari_dlc_tracks)"
   ]
  },
  {
   "cell_type": "code",
   "execution_count": 107,
   "id": "6a00b2f4-5401-4603-9798-3626e494157c",
   "metadata": {},
   "outputs": [],
   "source": [
    "# from pathlib import Path\n",
    "\n",
    "# with safe_cd(project_dir):\n",
    "#     df_fname = os.path.join('3-tracking', 'postprocessing', 'combined_3d_tracks.h5')\n",
    "#     combined_df.to_hdf(df_fname, key='df_with_missing')\n",
    "    \n",
    "#     df_fname = Path(df_fname).with_suffix('.csv')\n",
    "#     combined_df.to_csv(df_fname)"
   ]
  },
  {
   "cell_type": "code",
   "execution_count": 104,
   "id": "d1b4ef61-490b-4cd3-9f64-05000285db22",
   "metadata": {},
   "outputs": [
    {
     "data": {
      "text/html": [
       "<div>\n",
       "<style scoped>\n",
       "    .dataframe tbody tr th:only-of-type {\n",
       "        vertical-align: middle;\n",
       "    }\n",
       "\n",
       "    .dataframe tbody tr th {\n",
       "        vertical-align: top;\n",
       "    }\n",
       "\n",
       "    .dataframe thead tr th {\n",
       "        text-align: left;\n",
       "    }\n",
       "</style>\n",
       "<table border=\"1\" class=\"dataframe\">\n",
       "  <thead>\n",
       "    <tr>\n",
       "      <th></th>\n",
       "      <th colspan=\"4\" halign=\"left\">neuron1550</th>\n",
       "      <th colspan=\"4\" halign=\"left\">neuron1673</th>\n",
       "      <th colspan=\"2\" halign=\"left\">neuron2224</th>\n",
       "      <th>...</th>\n",
       "      <th colspan=\"2\" halign=\"left\">neuron5464</th>\n",
       "      <th colspan=\"4\" halign=\"left\">neuron5465</th>\n",
       "      <th colspan=\"4\" halign=\"left\">neuron67</th>\n",
       "    </tr>\n",
       "    <tr>\n",
       "      <th></th>\n",
       "      <th>z</th>\n",
       "      <th>x</th>\n",
       "      <th>y</th>\n",
       "      <th>likelihood</th>\n",
       "      <th>z</th>\n",
       "      <th>x</th>\n",
       "      <th>y</th>\n",
       "      <th>likelihood</th>\n",
       "      <th>z</th>\n",
       "      <th>x</th>\n",
       "      <th>...</th>\n",
       "      <th>y</th>\n",
       "      <th>likelihood</th>\n",
       "      <th>z</th>\n",
       "      <th>x</th>\n",
       "      <th>y</th>\n",
       "      <th>likelihood</th>\n",
       "      <th>z</th>\n",
       "      <th>x</th>\n",
       "      <th>y</th>\n",
       "      <th>likelihood</th>\n",
       "    </tr>\n",
       "  </thead>\n",
       "  <tbody>\n",
       "    <tr>\n",
       "      <th>0</th>\n",
       "      <td>8.446753</td>\n",
       "      <td>498.350649</td>\n",
       "      <td>275.957143</td>\n",
       "      <td>1.000000</td>\n",
       "      <td>16.000000</td>\n",
       "      <td>NaN</td>\n",
       "      <td>NaN</td>\n",
       "      <td>NaN</td>\n",
       "      <td>12.417526</td>\n",
       "      <td>408.305412</td>\n",
       "      <td>...</td>\n",
       "      <td>271.956798</td>\n",
       "      <td>1.000000</td>\n",
       "      <td>21.000000</td>\n",
       "      <td>NaN</td>\n",
       "      <td>NaN</td>\n",
       "      <td>NaN</td>\n",
       "      <td>18.000000</td>\n",
       "      <td>413.120300</td>\n",
       "      <td>317.544464</td>\n",
       "      <td>0.403798</td>\n",
       "    </tr>\n",
       "    <tr>\n",
       "      <th>1</th>\n",
       "      <td>8.444737</td>\n",
       "      <td>484.360526</td>\n",
       "      <td>289.947368</td>\n",
       "      <td>1.000000</td>\n",
       "      <td>16.000000</td>\n",
       "      <td>NaN</td>\n",
       "      <td>NaN</td>\n",
       "      <td>NaN</td>\n",
       "      <td>12.387054</td>\n",
       "      <td>394.272127</td>\n",
       "      <td>...</td>\n",
       "      <td>226.173913</td>\n",
       "      <td>1.000000</td>\n",
       "      <td>21.000000</td>\n",
       "      <td>NaN</td>\n",
       "      <td>NaN</td>\n",
       "      <td>NaN</td>\n",
       "      <td>18.000000</td>\n",
       "      <td>NaN</td>\n",
       "      <td>NaN</td>\n",
       "      <td>NaN</td>\n",
       "    </tr>\n",
       "    <tr>\n",
       "      <th>2</th>\n",
       "      <td>6.431944</td>\n",
       "      <td>480.381944</td>\n",
       "      <td>283.933333</td>\n",
       "      <td>1.000000</td>\n",
       "      <td>16.000000</td>\n",
       "      <td>NaN</td>\n",
       "      <td>NaN</td>\n",
       "      <td>NaN</td>\n",
       "      <td>12.773228</td>\n",
       "      <td>396.313386</td>\n",
       "      <td>...</td>\n",
       "      <td>231.910209</td>\n",
       "      <td>1.000000</td>\n",
       "      <td>21.000000</td>\n",
       "      <td>767.385193</td>\n",
       "      <td>107.917740</td>\n",
       "      <td>0.570298</td>\n",
       "      <td>18.000000</td>\n",
       "      <td>396.202118</td>\n",
       "      <td>294.027313</td>\n",
       "      <td>0.454399</td>\n",
       "    </tr>\n",
       "    <tr>\n",
       "      <th>3</th>\n",
       "      <td>8.410738</td>\n",
       "      <td>472.357047</td>\n",
       "      <td>267.971812</td>\n",
       "      <td>1.000000</td>\n",
       "      <td>16.000000</td>\n",
       "      <td>NaN</td>\n",
       "      <td>NaN</td>\n",
       "      <td>NaN</td>\n",
       "      <td>12.391304</td>\n",
       "      <td>388.272379</td>\n",
       "      <td>...</td>\n",
       "      <td>256.312024</td>\n",
       "      <td>1.000000</td>\n",
       "      <td>21.000000</td>\n",
       "      <td>NaN</td>\n",
       "      <td>NaN</td>\n",
       "      <td>NaN</td>\n",
       "      <td>18.000000</td>\n",
       "      <td>NaN</td>\n",
       "      <td>NaN</td>\n",
       "      <td>NaN</td>\n",
       "    </tr>\n",
       "    <tr>\n",
       "      <th>4</th>\n",
       "      <td>8.450135</td>\n",
       "      <td>486.397574</td>\n",
       "      <td>247.900270</td>\n",
       "      <td>1.000000</td>\n",
       "      <td>16.000000</td>\n",
       "      <td>NaN</td>\n",
       "      <td>NaN</td>\n",
       "      <td>NaN</td>\n",
       "      <td>12.419562</td>\n",
       "      <td>386.323037</td>\n",
       "      <td>...</td>\n",
       "      <td>334.407240</td>\n",
       "      <td>1.000000</td>\n",
       "      <td>21.000000</td>\n",
       "      <td>524.624390</td>\n",
       "      <td>212.024414</td>\n",
       "      <td>0.415886</td>\n",
       "      <td>18.000000</td>\n",
       "      <td>NaN</td>\n",
       "      <td>NaN</td>\n",
       "      <td>NaN</td>\n",
       "    </tr>\n",
       "    <tr>\n",
       "      <th>...</th>\n",
       "      <td>...</td>\n",
       "      <td>...</td>\n",
       "      <td>...</td>\n",
       "      <td>...</td>\n",
       "      <td>...</td>\n",
       "      <td>...</td>\n",
       "      <td>...</td>\n",
       "      <td>...</td>\n",
       "      <td>...</td>\n",
       "      <td>...</td>\n",
       "      <td>...</td>\n",
       "      <td>...</td>\n",
       "      <td>...</td>\n",
       "      <td>...</td>\n",
       "      <td>...</td>\n",
       "      <td>...</td>\n",
       "      <td>...</td>\n",
       "      <td>...</td>\n",
       "      <td>...</td>\n",
       "      <td>...</td>\n",
       "      <td>...</td>\n",
       "    </tr>\n",
       "    <tr>\n",
       "      <th>1495</th>\n",
       "      <td>9.000000</td>\n",
       "      <td>310.213247</td>\n",
       "      <td>186.365255</td>\n",
       "      <td>0.718304</td>\n",
       "      <td>14.408560</td>\n",
       "      <td>288.334630</td>\n",
       "      <td>213.957198</td>\n",
       "      <td>1.000000</td>\n",
       "      <td>15.000000</td>\n",
       "      <td>396.490784</td>\n",
       "      <td>...</td>\n",
       "      <td>341.573401</td>\n",
       "      <td>0.634361</td>\n",
       "      <td>20.430968</td>\n",
       "      <td>276.304516</td>\n",
       "      <td>220.027097</td>\n",
       "      <td>1.000000</td>\n",
       "      <td>16.411097</td>\n",
       "      <td>408.271122</td>\n",
       "      <td>207.943253</td>\n",
       "      <td>1.000000</td>\n",
       "    </tr>\n",
       "    <tr>\n",
       "      <th>1496</th>\n",
       "      <td>9.000000</td>\n",
       "      <td>293.140793</td>\n",
       "      <td>208.934059</td>\n",
       "      <td>0.536002</td>\n",
       "      <td>14.415716</td>\n",
       "      <td>276.310520</td>\n",
       "      <td>239.956907</td>\n",
       "      <td>1.000000</td>\n",
       "      <td>15.000000</td>\n",
       "      <td>388.118805</td>\n",
       "      <td>...</td>\n",
       "      <td>NaN</td>\n",
       "      <td>NaN</td>\n",
       "      <td>20.422194</td>\n",
       "      <td>266.312500</td>\n",
       "      <td>247.980867</td>\n",
       "      <td>1.000000</td>\n",
       "      <td>16.393862</td>\n",
       "      <td>398.327366</td>\n",
       "      <td>211.953964</td>\n",
       "      <td>1.000000</td>\n",
       "    </tr>\n",
       "    <tr>\n",
       "      <th>1497</th>\n",
       "      <td>9.000000</td>\n",
       "      <td>291.674042</td>\n",
       "      <td>229.097054</td>\n",
       "      <td>0.762107</td>\n",
       "      <td>14.400485</td>\n",
       "      <td>276.184466</td>\n",
       "      <td>259.979369</td>\n",
       "      <td>1.000000</td>\n",
       "      <td>15.000000</td>\n",
       "      <td>401.882416</td>\n",
       "      <td>...</td>\n",
       "      <td>245.153366</td>\n",
       "      <td>0.601713</td>\n",
       "      <td>18.423729</td>\n",
       "      <td>266.360169</td>\n",
       "      <td>267.956215</td>\n",
       "      <td>1.000000</td>\n",
       "      <td>16.335099</td>\n",
       "      <td>396.348344</td>\n",
       "      <td>219.990728</td>\n",
       "      <td>1.000000</td>\n",
       "    </tr>\n",
       "    <tr>\n",
       "      <th>1498</th>\n",
       "      <td>9.000000</td>\n",
       "      <td>NaN</td>\n",
       "      <td>NaN</td>\n",
       "      <td>NaN</td>\n",
       "      <td>16.000000</td>\n",
       "      <td>276.371101</td>\n",
       "      <td>269.122490</td>\n",
       "      <td>0.749943</td>\n",
       "      <td>15.000000</td>\n",
       "      <td>401.865570</td>\n",
       "      <td>...</td>\n",
       "      <td>213.025027</td>\n",
       "      <td>0.627490</td>\n",
       "      <td>21.000000</td>\n",
       "      <td>NaN</td>\n",
       "      <td>NaN</td>\n",
       "      <td>NaN</td>\n",
       "      <td>18.000000</td>\n",
       "      <td>NaN</td>\n",
       "      <td>NaN</td>\n",
       "      <td>NaN</td>\n",
       "    </tr>\n",
       "    <tr>\n",
       "      <th>1499</th>\n",
       "      <td>9.000000</td>\n",
       "      <td>286.846710</td>\n",
       "      <td>236.807693</td>\n",
       "      <td>0.435736</td>\n",
       "      <td>16.000000</td>\n",
       "      <td>270.329163</td>\n",
       "      <td>264.846802</td>\n",
       "      <td>0.408717</td>\n",
       "      <td>15.000000</td>\n",
       "      <td>387.199478</td>\n",
       "      <td>...</td>\n",
       "      <td>203.983475</td>\n",
       "      <td>0.666500</td>\n",
       "      <td>21.000000</td>\n",
       "      <td>267.409302</td>\n",
       "      <td>273.584900</td>\n",
       "      <td>0.617089</td>\n",
       "      <td>18.000000</td>\n",
       "      <td>387.699972</td>\n",
       "      <td>227.496496</td>\n",
       "      <td>0.600636</td>\n",
       "    </tr>\n",
       "  </tbody>\n",
       "</table>\n",
       "<p>1500 rows × 296 columns</p>\n",
       "</div>"
      ],
      "text/plain": [
       "     neuron1550                                    neuron1673              \\\n",
       "              z           x           y likelihood          z           x   \n",
       "0      8.446753  498.350649  275.957143   1.000000  16.000000         NaN   \n",
       "1      8.444737  484.360526  289.947368   1.000000  16.000000         NaN   \n",
       "2      6.431944  480.381944  283.933333   1.000000  16.000000         NaN   \n",
       "3      8.410738  472.357047  267.971812   1.000000  16.000000         NaN   \n",
       "4      8.450135  486.397574  247.900270   1.000000  16.000000         NaN   \n",
       "...         ...         ...         ...        ...        ...         ...   \n",
       "1495   9.000000  310.213247  186.365255   0.718304  14.408560  288.334630   \n",
       "1496   9.000000  293.140793  208.934059   0.536002  14.415716  276.310520   \n",
       "1497   9.000000  291.674042  229.097054   0.762107  14.400485  276.184466   \n",
       "1498   9.000000         NaN         NaN        NaN  16.000000  276.371101   \n",
       "1499   9.000000  286.846710  236.807693   0.435736  16.000000  270.329163   \n",
       "\n",
       "                            neuron2224              ...  neuron5464  \\\n",
       "               y likelihood          z           x  ...           y   \n",
       "0            NaN        NaN  12.417526  408.305412  ...  271.956798   \n",
       "1            NaN        NaN  12.387054  394.272127  ...  226.173913   \n",
       "2            NaN        NaN  12.773228  396.313386  ...  231.910209   \n",
       "3            NaN        NaN  12.391304  388.272379  ...  256.312024   \n",
       "4            NaN        NaN  12.419562  386.323037  ...  334.407240   \n",
       "...          ...        ...        ...         ...  ...         ...   \n",
       "1495  213.957198   1.000000  15.000000  396.490784  ...  341.573401   \n",
       "1496  239.956907   1.000000  15.000000  388.118805  ...         NaN   \n",
       "1497  259.979369   1.000000  15.000000  401.882416  ...  245.153366   \n",
       "1498  269.122490   0.749943  15.000000  401.865570  ...  213.025027   \n",
       "1499  264.846802   0.408717  15.000000  387.199478  ...  203.983475   \n",
       "\n",
       "                neuron5465                                      neuron67  \\\n",
       "     likelihood          z           x           y likelihood          z   \n",
       "0      1.000000  21.000000         NaN         NaN        NaN  18.000000   \n",
       "1      1.000000  21.000000         NaN         NaN        NaN  18.000000   \n",
       "2      1.000000  21.000000  767.385193  107.917740   0.570298  18.000000   \n",
       "3      1.000000  21.000000         NaN         NaN        NaN  18.000000   \n",
       "4      1.000000  21.000000  524.624390  212.024414   0.415886  18.000000   \n",
       "...         ...        ...         ...         ...        ...        ...   \n",
       "1495   0.634361  20.430968  276.304516  220.027097   1.000000  16.411097   \n",
       "1496        NaN  20.422194  266.312500  247.980867   1.000000  16.393862   \n",
       "1497   0.601713  18.423729  266.360169  267.956215   1.000000  16.335099   \n",
       "1498   0.627490  21.000000         NaN         NaN        NaN  18.000000   \n",
       "1499   0.666500  21.000000  267.409302  273.584900   0.617089  18.000000   \n",
       "\n",
       "                                         \n",
       "               x           y likelihood  \n",
       "0     413.120300  317.544464   0.403798  \n",
       "1            NaN         NaN        NaN  \n",
       "2     396.202118  294.027313   0.454399  \n",
       "3            NaN         NaN        NaN  \n",
       "4            NaN         NaN        NaN  \n",
       "...          ...         ...        ...  \n",
       "1495  408.271122  207.943253   1.000000  \n",
       "1496  398.327366  211.953964   1.000000  \n",
       "1497  396.348344  219.990728   1.000000  \n",
       "1498         NaN         NaN        NaN  \n",
       "1499  387.699972  227.496496   0.600636  \n",
       "\n",
       "[1500 rows x 296 columns]"
      ]
     },
     "execution_count": 104,
     "metadata": {},
     "output_type": "execute_result"
    }
   ],
   "source": [
    "combined_df"
   ]
  },
  {
   "cell_type": "code",
   "execution_count": null,
   "id": "4ca56158-e9bb-441c-a23c-df9799e011e5",
   "metadata": {},
   "outputs": [],
   "source": []
  },
  {
   "cell_type": "code",
   "execution_count": null,
   "id": "d80ac8b3-d1b2-4c94-92df-952daa633e9e",
   "metadata": {},
   "outputs": [],
   "source": []
  },
  {
   "cell_type": "code",
   "execution_count": 104,
   "id": "69b82499-7d3c-449b-b6e9-dba682340356",
   "metadata": {},
   "outputs": [],
   "source": [
    "# %matplotlib widget\n",
    "# # # from ipywidgets import interact\n",
    "# best_tracklets = np.argpartition(all_means, 10)[:10]\n",
    "# print(best_tracklets)\n",
    "# plt.hist([all_means[i] for i in best_tracklets])"
   ]
  },
  {
   "cell_type": "code",
   "execution_count": 64,
   "id": "6952021c-d566-4f80-b70c-ea197fc7f7df",
   "metadata": {},
   "outputs": [
    {
     "data": {
      "text/plain": [
       "array([1.1, 0.8, 3.2, 2. , 1.2, 2.4, 0.6, 2.8, 1.7, 1.2, 0.8, 0.9, 2.9,\n",
       "       0.6, 2.2, 3.7, 0.6, 0.6, 1.6, 2.2])"
      ]
     },
     "execution_count": 64,
     "metadata": {},
     "output_type": "execute_result"
    }
   ],
   "source": [
    "d = all_dist[0]\n",
    "np.round(d[~np.isnan(d)], 1)"
   ]
  },
  {
   "cell_type": "code",
   "execution_count": 67,
   "id": "6510d5c5-977b-4f8a-8452-93da2bb3bbcb",
   "metadata": {},
   "outputs": [
    {
     "data": {
      "text/html": [
       "<div>\n",
       "<style scoped>\n",
       "    .dataframe tbody tr th:only-of-type {\n",
       "        vertical-align: middle;\n",
       "    }\n",
       "\n",
       "    .dataframe tbody tr th {\n",
       "        vertical-align: top;\n",
       "    }\n",
       "\n",
       "    .dataframe thead th {\n",
       "        text-align: right;\n",
       "    }\n",
       "</style>\n",
       "<table border=\"1\" class=\"dataframe\">\n",
       "  <thead>\n",
       "    <tr style=\"text-align: right;\">\n",
       "      <th>coords</th>\n",
       "      <th>z</th>\n",
       "      <th>x</th>\n",
       "      <th>y</th>\n",
       "    </tr>\n",
       "  </thead>\n",
       "  <tbody>\n",
       "    <tr>\n",
       "      <th>1</th>\n",
       "      <td>8.444737</td>\n",
       "      <td>484.360526</td>\n",
       "      <td>289.947368</td>\n",
       "    </tr>\n",
       "    <tr>\n",
       "      <th>2</th>\n",
       "      <td>6.431944</td>\n",
       "      <td>480.381944</td>\n",
       "      <td>283.933333</td>\n",
       "    </tr>\n",
       "    <tr>\n",
       "      <th>3</th>\n",
       "      <td>8.410738</td>\n",
       "      <td>472.357047</td>\n",
       "      <td>267.971812</td>\n",
       "    </tr>\n",
       "    <tr>\n",
       "      <th>4</th>\n",
       "      <td>8.450135</td>\n",
       "      <td>486.397574</td>\n",
       "      <td>247.900270</td>\n",
       "    </tr>\n",
       "    <tr>\n",
       "      <th>5</th>\n",
       "      <td>8.447958</td>\n",
       "      <td>490.371542</td>\n",
       "      <td>235.891963</td>\n",
       "    </tr>\n",
       "    <tr>\n",
       "      <th>6</th>\n",
       "      <td>10.436702</td>\n",
       "      <td>480.283391</td>\n",
       "      <td>217.919861</td>\n",
       "    </tr>\n",
       "    <tr>\n",
       "      <th>7</th>\n",
       "      <td>8.451697</td>\n",
       "      <td>452.390339</td>\n",
       "      <td>199.921671</td>\n",
       "    </tr>\n",
       "    <tr>\n",
       "      <th>8</th>\n",
       "      <td>8.459060</td>\n",
       "      <td>446.424161</td>\n",
       "      <td>187.893960</td>\n",
       "    </tr>\n",
       "    <tr>\n",
       "      <th>9</th>\n",
       "      <td>8.443312</td>\n",
       "      <td>432.313376</td>\n",
       "      <td>177.970701</td>\n",
       "    </tr>\n",
       "    <tr>\n",
       "      <th>10</th>\n",
       "      <td>8.426020</td>\n",
       "      <td>406.274235</td>\n",
       "      <td>177.982143</td>\n",
       "    </tr>\n",
       "    <tr>\n",
       "      <th>11</th>\n",
       "      <td>8.411458</td>\n",
       "      <td>380.348958</td>\n",
       "      <td>185.941406</td>\n",
       "    </tr>\n",
       "    <tr>\n",
       "      <th>12</th>\n",
       "      <td>8.357895</td>\n",
       "      <td>380.238158</td>\n",
       "      <td>201.986842</td>\n",
       "    </tr>\n",
       "    <tr>\n",
       "      <th>13</th>\n",
       "      <td>8.427491</td>\n",
       "      <td>384.307692</td>\n",
       "      <td>197.974779</td>\n",
       "    </tr>\n",
       "    <tr>\n",
       "      <th>14</th>\n",
       "      <td>6.454294</td>\n",
       "      <td>414.362881</td>\n",
       "      <td>187.889197</td>\n",
       "    </tr>\n",
       "    <tr>\n",
       "      <th>15</th>\n",
       "      <td>6.441261</td>\n",
       "      <td>432.338109</td>\n",
       "      <td>187.925501</td>\n",
       "    </tr>\n",
       "    <tr>\n",
       "      <th>16</th>\n",
       "      <td>8.419562</td>\n",
       "      <td>468.326898</td>\n",
       "      <td>203.993565</td>\n",
       "    </tr>\n",
       "    <tr>\n",
       "      <th>17</th>\n",
       "      <td>8.425157</td>\n",
       "      <td>488.313208</td>\n",
       "      <td>235.964780</td>\n",
       "    </tr>\n",
       "    <tr>\n",
       "      <th>18</th>\n",
       "      <td>8.436658</td>\n",
       "      <td>496.361186</td>\n",
       "      <td>265.955526</td>\n",
       "    </tr>\n",
       "    <tr>\n",
       "      <th>19</th>\n",
       "      <td>6.445698</td>\n",
       "      <td>490.369535</td>\n",
       "      <td>285.916784</td>\n",
       "    </tr>\n",
       "  </tbody>\n",
       "</table>\n",
       "</div>"
      ],
      "text/plain": [
       "coords          z           x           y\n",
       "1        8.444737  484.360526  289.947368\n",
       "2        6.431944  480.381944  283.933333\n",
       "3        8.410738  472.357047  267.971812\n",
       "4        8.450135  486.397574  247.900270\n",
       "5        8.447958  490.371542  235.891963\n",
       "6       10.436702  480.283391  217.919861\n",
       "7        8.451697  452.390339  199.921671\n",
       "8        8.459060  446.424161  187.893960\n",
       "9        8.443312  432.313376  177.970701\n",
       "10       8.426020  406.274235  177.982143\n",
       "11       8.411458  380.348958  185.941406\n",
       "12       8.357895  380.238158  201.986842\n",
       "13       8.427491  384.307692  197.974779\n",
       "14       6.454294  414.362881  187.889197\n",
       "15       6.441261  432.338109  187.925501\n",
       "16       8.419562  468.326898  203.993565\n",
       "17       8.425157  488.313208  235.964780\n",
       "18       8.436658  496.361186  265.955526\n",
       "19       6.445698  490.369535  285.916784"
      ]
     },
     "execution_count": 67,
     "metadata": {},
     "output_type": "execute_result"
    }
   ],
   "source": [
    "name = 'neuron1'\n",
    "this_tracklet = df_tracklet[name][coords]\n",
    "this_tracklet.iloc[1:20, :]"
   ]
  },
  {
   "cell_type": "code",
   "execution_count": 68,
   "id": "3d2c73e8-85dc-472e-836e-e5f349af52da",
   "metadata": {},
   "outputs": [
    {
     "data": {
      "text/html": [
       "<div>\n",
       "<style scoped>\n",
       "    .dataframe tbody tr th:only-of-type {\n",
       "        vertical-align: middle;\n",
       "    }\n",
       "\n",
       "    .dataframe tbody tr th {\n",
       "        vertical-align: top;\n",
       "    }\n",
       "\n",
       "    .dataframe thead th {\n",
       "        text-align: right;\n",
       "    }\n",
       "</style>\n",
       "<table border=\"1\" class=\"dataframe\">\n",
       "  <thead>\n",
       "    <tr style=\"text-align: right;\">\n",
       "      <th>coords</th>\n",
       "      <th>z</th>\n",
       "      <th>x</th>\n",
       "      <th>y</th>\n",
       "    </tr>\n",
       "  </thead>\n",
       "  <tbody>\n",
       "    <tr>\n",
       "      <th>1</th>\n",
       "      <td>9</td>\n",
       "      <td>484.520248</td>\n",
       "      <td>290.520874</td>\n",
       "    </tr>\n",
       "    <tr>\n",
       "      <th>2</th>\n",
       "      <td>9</td>\n",
       "      <td>482.337982</td>\n",
       "      <td>284.265335</td>\n",
       "    </tr>\n",
       "    <tr>\n",
       "      <th>3</th>\n",
       "      <td>9</td>\n",
       "      <td>473.891083</td>\n",
       "      <td>269.164436</td>\n",
       "    </tr>\n",
       "    <tr>\n",
       "      <th>4</th>\n",
       "      <td>9</td>\n",
       "      <td>NaN</td>\n",
       "      <td>NaN</td>\n",
       "    </tr>\n",
       "    <tr>\n",
       "      <th>5</th>\n",
       "      <td>9</td>\n",
       "      <td>491.375468</td>\n",
       "      <td>235.572243</td>\n",
       "    </tr>\n",
       "    <tr>\n",
       "      <th>6</th>\n",
       "      <td>9</td>\n",
       "      <td>482.158783</td>\n",
       "      <td>218.350449</td>\n",
       "    </tr>\n",
       "    <tr>\n",
       "      <th>7</th>\n",
       "      <td>9</td>\n",
       "      <td>452.336416</td>\n",
       "      <td>199.883942</td>\n",
       "    </tr>\n",
       "    <tr>\n",
       "      <th>8</th>\n",
       "      <td>9</td>\n",
       "      <td>449.116119</td>\n",
       "      <td>187.569519</td>\n",
       "    </tr>\n",
       "    <tr>\n",
       "      <th>9</th>\n",
       "      <td>9</td>\n",
       "      <td>430.832611</td>\n",
       "      <td>178.534673</td>\n",
       "    </tr>\n",
       "    <tr>\n",
       "      <th>10</th>\n",
       "      <td>9</td>\n",
       "      <td>405.493876</td>\n",
       "      <td>178.703758</td>\n",
       "    </tr>\n",
       "    <tr>\n",
       "      <th>11</th>\n",
       "      <td>9</td>\n",
       "      <td>380.845917</td>\n",
       "      <td>185.746119</td>\n",
       "    </tr>\n",
       "    <tr>\n",
       "      <th>12</th>\n",
       "      <td>9</td>\n",
       "      <td>379.743515</td>\n",
       "      <td>201.507820</td>\n",
       "    </tr>\n",
       "    <tr>\n",
       "      <th>13</th>\n",
       "      <td>9</td>\n",
       "      <td>NaN</td>\n",
       "      <td>NaN</td>\n",
       "    </tr>\n",
       "    <tr>\n",
       "      <th>14</th>\n",
       "      <td>9</td>\n",
       "      <td>414.177032</td>\n",
       "      <td>186.533676</td>\n",
       "    </tr>\n",
       "    <tr>\n",
       "      <th>15</th>\n",
       "      <td>9</td>\n",
       "      <td>NaN</td>\n",
       "      <td>NaN</td>\n",
       "    </tr>\n",
       "    <tr>\n",
       "      <th>16</th>\n",
       "      <td>9</td>\n",
       "      <td>468.234548</td>\n",
       "      <td>203.747259</td>\n",
       "    </tr>\n",
       "    <tr>\n",
       "      <th>17</th>\n",
       "      <td>9</td>\n",
       "      <td>NaN</td>\n",
       "      <td>NaN</td>\n",
       "    </tr>\n",
       "    <tr>\n",
       "      <th>18</th>\n",
       "      <td>9</td>\n",
       "      <td>498.438858</td>\n",
       "      <td>265.937012</td>\n",
       "    </tr>\n",
       "    <tr>\n",
       "      <th>19</th>\n",
       "      <td>9</td>\n",
       "      <td>NaN</td>\n",
       "      <td>NaN</td>\n",
       "    </tr>\n",
       "  </tbody>\n",
       "</table>\n",
       "</div>"
      ],
      "text/plain": [
       "coords  z           x           y\n",
       "1       9  484.520248  290.520874\n",
       "2       9  482.337982  284.265335\n",
       "3       9  473.891083  269.164436\n",
       "4       9         NaN         NaN\n",
       "5       9  491.375468  235.572243\n",
       "6       9  482.158783  218.350449\n",
       "7       9  452.336416  199.883942\n",
       "8       9  449.116119  187.569519\n",
       "9       9  430.832611  178.534673\n",
       "10      9  405.493876  178.703758\n",
       "11      9  380.845917  185.746119\n",
       "12      9  379.743515  201.507820\n",
       "13      9         NaN         NaN\n",
       "14      9  414.177032  186.533676\n",
       "15      9         NaN         NaN\n",
       "16      9  468.234548  203.747259\n",
       "17      9         NaN         NaN\n",
       "18      9  498.438858  265.937012\n",
       "19      9         NaN         NaN"
      ]
     },
     "execution_count": 68,
     "metadata": {},
     "output_type": "execute_result"
    }
   ],
   "source": [
    "this_dlc.iloc[1:20, :]"
   ]
  },
  {
   "cell_type": "code",
   "execution_count": 73,
   "id": "0c6bdead-86bd-4497-8e48-de44779bc45b",
   "metadata": {},
   "outputs": [
    {
     "data": {
      "text/plain": [
       "5550"
      ]
     },
     "execution_count": 73,
     "metadata": {},
     "output_type": "execute_result"
    }
   ],
   "source": [
    "len(best_tracklets)"
   ]
  },
  {
   "cell_type": "code",
   "execution_count": null,
   "id": "1503b91d-a8e6-4666-b43b-fe5fdb08de57",
   "metadata": {},
   "outputs": [],
   "source": []
  }
 ],
 "metadata": {
  "kernelspec": {
   "display_name": "Python [conda env:DLC-for-WBFM] *",
   "language": "python",
   "name": "conda-env-DLC-for-WBFM-py"
  },
  "language_info": {
   "codemirror_mode": {
    "name": "ipython",
    "version": 3
   },
   "file_extension": ".py",
   "mimetype": "text/x-python",
   "name": "python",
   "nbconvert_exporter": "python",
   "pygments_lexer": "ipython3",
   "version": "3.7.10"
  }
 },
 "nbformat": 4,
 "nbformat_minor": 5
}
