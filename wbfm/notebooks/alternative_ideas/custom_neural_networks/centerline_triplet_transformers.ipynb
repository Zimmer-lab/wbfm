{
 "cells": [
  {
   "cell_type": "code",
   "execution_count": 1,
   "id": "3bb85184-0a0c-4309-9089-7143b56770c9",
   "metadata": {},
   "outputs": [
    {
     "name": "stderr",
     "output_type": "stream",
     "text": [
      "\n",
      "Bad key \"text.kerning_factor\" on line 4 in\n",
      "/home/charles/anaconda3/envs/torch/lib/python3.7/site-packages/matplotlib/mpl-data/stylelib/_classic_test_patch.mplstyle.\n",
      "You probably need to get an updated matplotlibrc file from\n",
      "http://github.com/matplotlib/matplotlib/blob/master/matplotlibrc.template\n",
      "or from the matplotlib source distribution\n"
     ]
    }
   ],
   "source": [
    "%load_ext autoreload\n",
    "%autoreload 2\n",
    "import matplotlib.pyplot as plt\n",
    "from wbfm.utils.projects.finished_project_data import ProjectData\n",
    "import napari\n",
    "import pandas as pd\n",
    "import numpy as np\n",
    "from wbfm.utils.feature_detection.class_frame_pair import FramePair\n",
    "from sklearn.decomposition import PCA\n",
    "from sklearn.neighbors import NearestNeighbors\n",
    "from wbfm.utils.postures.centerline_pca import WormFullVideoPosture, WormSinglePosture\n",
    "from wbfm.utils.external.centerline_utils import transform_neuron_point_cloud\n",
    "import time\n",
    "from torch.utils.data import DataLoader\n",
    "import math\n",
    "from tqdm.auto import tqdm\n",
    "import wandb\n",
    "import torch.nn.functional as F\n",
    "import torch"
   ]
  },
  {
   "cell_type": "code",
   "execution_count": 2,
   "id": "7446b37a-d254-4b6a-bf14-517bb31082bd",
   "metadata": {},
   "outputs": [
    {
     "name": "stderr",
     "output_type": "stream",
     "text": [
      "WARNING:root:Did not find file /home/charles/dlc_stacks/worm3-newseg-2021_11_17/2-training_data/training_data_tracks.h5\n",
      "WARNING:root:Did not find file /home/charles/dlc_stacks/worm3-newseg-2021_11_17/3-tracking/manual_annotation/split_names.pickle\n",
      "WARNING:root:Did not find file /home/charles/dlc_stacks/worm3-newseg-2021_11_17/3-tracking/manual_annotation/split_times.pickle\n"
     ]
    },
    {
     "name": "stdout",
     "output_type": "stream",
     "text": [
      "Output files: /home/charles/dlc_stacks/worm3-newseg-2021_11_17/3-tracking/manual_annotation/global2tracklet_manual.pickle, /home/charles/dlc_stacks/worm3-newseg-2021_11_17/3-tracking/manual_annotation/manually_split_tracklets.h5, /home/charles/dlc_stacks/worm3-newseg-2021_11_17/3-tracking/manual_annotation/split_names.pickle, /home/charles/dlc_stacks/worm3-newseg-2021_11_17/3-tracking/manual_annotation/split_times.pickle\n",
      "=======================================\n",
      "Project data for directory:\n",
      "/home/charles/dlc_stacks/worm3-newseg-2021_11_17 \n",
      "=======================================\n",
      "Found the following raw data files:\n",
      "red_data: True\n",
      "green_data: True\n",
      "============Segmentation===============\n",
      "raw_segmentation: True\n",
      "segmentation: True\n",
      "============Tracklets==================\n",
      "df_training_tracklets: False\n",
      "reindexed_masks_training: True\n",
      "============Traces=====================\n",
      "red_traces: True\n",
      "green_traces: True\n",
      "final_tracks: True\n",
      "behavior_annotations: True\n",
      "\n"
     ]
    }
   ],
   "source": [
    "# fname = \"/scratch/zimmer/Charles/dlc_stacks/worm3-tracklet_wiggle/project_config.yaml\"\n",
    "fname = \"/home/charles/dlc_stacks/worm3-newseg-2021_11_17/project_config.yaml\"\n",
    "\n",
    "project_data = ProjectData.load_final_project_data_from_config(fname, to_load_tracklets=True)"
   ]
  },
  {
   "cell_type": "code",
   "execution_count": 3,
   "id": "1ddcbd42-36b2-45ca-add5-cf330ef5a9b7",
   "metadata": {},
   "outputs": [],
   "source": [
    "\n",
    "fname1 = \"/project/neurobiology/zimmer/wbfm/centerline/wbfm_ulises_centerline_for_charlie/2021-03-04_16-17-30_worm3_ZIM2051-_spline_X_coords.csv\"\n",
    "fname2 = \"/project/neurobiology/zimmer/wbfm/centerline/wbfm_ulises_centerline_for_charlie/2021-03-04_16-17-30_worm3_ZIM2051-_spline_Y_coords.csv\"\n",
    "fname3 = \"/project/neurobiology/zimmer/wbfm/centerline/wbfm_ulises_centerline_for_charlie/2021-03-04_16-17-30_worm3_ZIM2051-_spline_K.csv\"\n",
    "\n",
    "worm_posture = WormFullVideoPosture(fname1, fname2, fname3)"
   ]
  },
  {
   "cell_type": "markdown",
   "id": "d72cf2f8-b303-493f-b3ec-7c8427520c0e",
   "metadata": {},
   "source": [
    "# Starting from a tracklet, build a batch from nearest neighbor triplets"
   ]
  },
  {
   "cell_type": "code",
   "execution_count": 13,
   "id": "c1eadd34-aab1-4819-aa39-0d0c4bcb2397",
   "metadata": {},
   "outputs": [],
   "source": [
    "# Overall metadata\n",
    "tracklet_names = list(project_data.df_all_tracklets.columns.levels[0])\n",
    "df_tracklets = project_data.df_all_tracklets"
   ]
  },
  {
   "cell_type": "markdown",
   "id": "7f32e45d-575a-4f17-abbe-3a3faa95c794",
   "metadata": {},
   "source": [
    "## Do one tracklet first, and just the positive pair"
   ]
  },
  {
   "cell_type": "code",
   "execution_count": 20,
   "id": "c99b9c01-edec-41f7-a097-754d648c6884",
   "metadata": {},
   "outputs": [],
   "source": [
    "# Local time points, within the tracklet\n",
    "t0 = 0\n",
    "t1 = 1\n",
    "\n",
    "n_neighbors = 100\n",
    "\n",
    "i_tracklet = 0\n",
    "tracklet_name = tracklet_names[i_tracklet]\n",
    "this_tracklet = df_tracklets[tracklet_name]\n",
    "\n",
    "i_anchor = int(this_tracklet['raw_neuron_id'].iloc[t0])\n",
    "i_positive = int(this_tracklet['raw_neuron_id'].iloc[t1])\n"
   ]
  },
  {
   "cell_type": "code",
   "execution_count": 21,
   "id": "68f87f86-82f2-4766-92bf-bee3cc97ecfa",
   "metadata": {},
   "outputs": [],
   "source": [
    "pts0 = transform_neuron_point_cloud(project_data.get_centroids_as_numpy(t0))\n",
    "centerline0 = worm_posture.get_centerline_for_time(t0)\n",
    "worm0 = WormSinglePosture(pts0, centerline0)\n",
    "\n",
    "pts1 = transform_neuron_point_cloud(project_data.get_centroids_as_numpy(t1))\n",
    "centerline1 = worm_posture.get_centerline_for_time(t1)\n",
    "worm1 = WormSinglePosture(pts1, centerline1)"
   ]
  },
  {
   "cell_type": "code",
   "execution_count": 22,
   "id": "15ab06fa-643d-4a35-b444-091cb9202e14",
   "metadata": {},
   "outputs": [],
   "source": [
    "n0 = worm0.get_neighbors_in_local_coordinate_system(i_anchor=i_anchor, n_neighbors=n_neighbors)\n",
    "n1 = worm1.get_neighbors_in_local_coordinate_system(i_anchor=i_positive, n_neighbors=n_neighbors)"
   ]
  },
  {
   "cell_type": "code",
   "execution_count": 23,
   "id": "edd723ac-c742-42ad-8831-e126c8668feb",
   "metadata": {},
   "outputs": [
    {
     "data": {
      "text/plain": [
       "[<matplotlib.lines.Line2D at 0x7f8441fd8810>]"
      ]
     },
     "execution_count": 23,
     "metadata": {},
     "output_type": "execute_result"
    },
    {
     "data": {
      "image/png": "[encoded data removed]",
      "text/plain": [
       "<Figure size 432x288 with 1 Axes>"
      ]
     },
     "metadata": {
      "needs_background": "light"
     },
     "output_type": "display_data"
    }
   ],
   "source": [
    "plt.plot(n0[:, 1], n0[:, 2], 'o')\n",
    "plt.plot(n1[:, 1], n1[:, 2], '.')"
   ]
  },
  {
   "cell_type": "markdown",
   "id": "eb9d8bcc-70c9-4bae-a849-9d0ed7909f46",
   "metadata": {},
   "source": [
    "# Add negative examples using nearest neighbors of the positive example"
   ]
  },
  {
   "cell_type": "code",
   "execution_count": 27,
   "id": "872e396c-b03c-4d41-ba01-9f31af55c704",
   "metadata": {},
   "outputs": [],
   "source": [
    "batch_sz = 16\n",
    "\n",
    "num_negative_ind = int(batch_sz / 2)\n",
    "num_random_ind = num_negative_ind - 1"
   ]
  },
  {
   "cell_type": "code",
   "execution_count": 31,
   "id": "b69224ac-8d60-4c6e-8759-cdcf685f2b93",
   "metadata": {},
   "outputs": [
    {
     "data": {
      "text/plain": [
       "5"
      ]
     },
     "execution_count": 31,
     "metadata": {},
     "output_type": "execute_result"
    }
   ],
   "source": [
    "anchor_pt = worm1.neuron_zxy[i_positive]\n",
    "negative_pts, negative_ind = worm1.get_neighbors(anchor_pt=anchor_pt, n_neighbors=num_negative_ind)\n",
    "i_positive"
   ]
  },
  {
   "cell_type": "code",
   "execution_count": 45,
   "id": "e86a76cc-9d67-4dab-ae61-f4375d2b1aea",
   "metadata": {},
   "outputs": [],
   "source": [
    "def PointCloudTriplets(Dataset):\n",
    "    \n",
    "    def __init__(self, t0, t1, n_neighbors, i_tracklet, batch_sz, project_data):\n",
    "        self.n_neighbors = n_neighbors\n",
    "\n",
    "        self.batch_sz = batch_sz\n",
    "        num_negative_ind = int(batch_sz / 2)  # \"Hard\" examples\n",
    "        num_random_ind = num_negative_ind  # Random other points\n",
    "        \n",
    "        # TODO: switch\n",
    "        self.t0 = t0\n",
    "        self.t1 = t1\n",
    "        self.i_tracklet = i_tracklet\n",
    "        tracklet_names = list(project_data.df_all_tracklets.columns.levels[0])\n",
    "        df_tracklets = project_data.df_all_tracklets\n",
    "        \n",
    "        tracklet_name = tracklet_names[i_tracklet]\n",
    "        this_tracklet = df_tracklets[tracklet_name]\n",
    "        self.this_tracklet = this_tracklet\n",
    "\n",
    "        i_anchor = int(this_tracklet['raw_neuron_id'].iloc[t0])\n",
    "        i_positive = int(this_tracklet['raw_neuron_id'].iloc[t1])\n",
    "        self.i_anchor = i_anchor\n",
    "        self.i_positive = i_positive\n",
    "        \n",
    "        pts0 = transform_neuron_point_cloud(project_data.get_centroids_as_numpy(t0))\n",
    "        centerline0 = worm_posture.get_centerline_for_time(t0)\n",
    "        worm0 = WormSinglePosture(pts0, centerline0)\n",
    "        self.worm0 = worm0\n",
    "\n",
    "        pts1 = transform_neuron_point_cloud(project_data.get_centroids_as_numpy(t1))\n",
    "        centerline1 = worm_posture.get_centerline_for_time(t1)\n",
    "        worm1 = WormSinglePosture(pts1, centerline1)\n",
    "        self.worm1 = worm1\n",
    "        \n",
    "        n0 = worm0.get_neighbors_in_local_coordinate_system(i_anchor=i_anchor, n_neighbors=n_neighbors)\n",
    "        n1 = worm1.get_neighbors_in_local_coordinate_system(i_anchor=i_positive, n_neighbors=n_neighbors)\n",
    "        \n",
    "        self.n0 = n0\n",
    "        self.n1 = n1\n",
    "        \n",
    "        anchor_pt = worm1.neuron_zxy[self.i_positive]\n",
    "        negative_pts, negative_ind = worm1.get_neighbors(anchor_pt=anchor_pt, n_neighbors=num_negative_ind)\n",
    "        self.negative_ind = negative_ind\n",
    "        # Also add some random examples\n",
    "        all_ind = list(len(self.worm1.neuron_zxy))\n",
    "        all_ind.pop(i_positive)\n",
    "        all_ind.pop(negative_ind)\n",
    "        random.shuffle(all_ind)\n",
    "        self.negative_ind.extend(all_ind[:num_random_ind])\n",
    "    \n",
    "    def __len__(self):\n",
    "        return len(self.worm0.neuron_zxy)\n",
    "\n",
    "    def __getitem__(self, idx):\n",
    "        # Returns one triplet\n",
    "        return self.premade_batches[idx]\n",
    "    \n",
    "    def _get_triplet(self, idx_negative):\n",
    "        anchor_cloud = self.n0\n",
    "        positive_cloud = self.n1\n",
    "        \n",
    "        i_negative = self.negative_ind[idx_negative]\n",
    "        negative_cloud = self.worm1.get_neighbors_in_local_coordinate_system(i_anchor=i_negative, n_neighbors=self.n_neighbors)\n",
    "        \n",
    "        return anchor_cloud, positive_cloud, negative_cloud\n",
    "    \n",
    "    def custom_collate_fn(self, bundle):\n",
    "        # Generates a batch from a single anchor, not random anchors\n",
    "        self.premade_batches = []\n",
    "        for i in range(len(self)):\n",
    "            self.premade_batches.append(self._get_triplet(i))\n",
    "        # return batch"
   ]
  },
  {
   "cell_type": "code",
   "execution_count": 46,
   "id": "03e4fc8f-5b28-4785-97c7-d6915ca8d446",
   "metadata": {},
   "outputs": [
    {
     "ename": "TypeError",
     "evalue": "PointCloudTriplets() takes 1 positional argument but 6 were given",
     "output_type": "error",
     "traceback": [
      "\u001b[0;31m---------------------------------------------------------------------------\u001b[0m",
      "\u001b[0;31mTypeError\u001b[0m                                 Traceback (most recent call last)",
      "\u001b[0;32m/tmp/ipykernel_1126472/409682738.py\u001b[0m in \u001b[0;36m<module>\u001b[0;34m\u001b[0m\n\u001b[1;32m      1\u001b[0m \u001b[0mbatch_sz\u001b[0m \u001b[0;34m=\u001b[0m \u001b[0;36m16\u001b[0m\u001b[0;34m\u001b[0m\u001b[0;34m\u001b[0m\u001b[0m\n\u001b[0;32m----> 2\u001b[0;31m \u001b[0mdataset\u001b[0m \u001b[0;34m=\u001b[0m \u001b[0mPointCloudTriplets\u001b[0m\u001b[0;34m(\u001b[0m\u001b[0mt0\u001b[0m\u001b[0;34m,\u001b[0m \u001b[0mt1\u001b[0m\u001b[0;34m,\u001b[0m \u001b[0mn_neighbors\u001b[0m\u001b[0;34m,\u001b[0m \u001b[0mi_tracklet\u001b[0m\u001b[0;34m,\u001b[0m \u001b[0mbatch_sz\u001b[0m\u001b[0;34m,\u001b[0m \u001b[0mproject_data\u001b[0m\u001b[0;34m)\u001b[0m\u001b[0;34m\u001b[0m\u001b[0;34m\u001b[0m\u001b[0m\n\u001b[0m",
      "\u001b[0;31mTypeError\u001b[0m: PointCloudTriplets() takes 1 positional argument but 6 were given"
     ]
    }
   ],
   "source": [
    "batch_sz = 16\n",
    "dataset = PointCloudTriplets(t0, t1, n_neighbors, i_tracklet, batch_sz, project_data)"
   ]
  },
  {
   "cell_type": "markdown",
   "id": "003c56a8-5af8-48a7-975d-c65d92a7da0b",
   "metadata": {},
   "source": [
    "# Build a network structure"
   ]
  },
  {
   "cell_type": "code",
   "execution_count": null,
   "id": "c4d62510-d2dd-4979-82a0-cb6087091f2e",
   "metadata": {},
   "outputs": [],
   "source": [
    "import os\n",
    "\n",
    "import torch\n",
    "from pytorch_lightning import LightningModule, Trainer\n",
    "from torch import nn\n",
    "from torch.nn import functional as F\n",
    "from torch.utils.data import DataLoader, random_split\n",
    "from torchmetrics import Accuracy\n",
    "from torchvision import transforms\n",
    "from torchvision.datasets import MNIST\n",
    "\n",
    "# The input isn't words, but actually locations, so use a custom encoder that can deal with that\n",
    "# From: https://github.com/pytorch/examples/blob/master/word_language_model/model.py\n",
    "\n",
    "class LightningTransformerModel(LightningModule):\n",
    "\n",
    "    def __init__(self, n_dim_input, ninp, nhead=8, nhid=128, nlayers=6, dropout=0.5, device=None, \n",
    "                 learning_rate=2e-4):\n",
    "        super(LightningTransformerModel, self).__init__()\n",
    "        try:\n",
    "            from torch.nn import TransformerEncoder, TransformerEncoderLayer\n",
    "        except:\n",
    "            raise ImportError('TransformerEncoder module does not exist in PyTorch 1.1 or lower.')\n",
    "        self.model_type = 'Transformer'\n",
    "        self.learning_rate = learning_rate\n",
    "        self.src_mask = None\n",
    "        encoder_layers = TransformerEncoderLayer(ninp, nhead, nhid, dropout)\n",
    "        self.transformer_encoder = TransformerEncoder(encoder_layers, nlayers)\n",
    "        self.encoder = nn.Linear(n_dim_input, ninp)\n",
    "        self.ninp = ninp\n",
    "        # if device is None:\n",
    "        #     self.device = \"cuda:0\" if torch.cuda.is_available() else \"cpu\"\n",
    "\n",
    "        self.init_weights()\n",
    "        \n",
    "        # TODO\n",
    "        self.criterion = nn.BCELoss()\n",
    "\n",
    "    def _generate_square_subsequent_mask(self, sz):\n",
    "        mask = (torch.triu(torch.ones(sz, sz)) == 1).transpose(0, 1)\n",
    "        mask = mask.float().masked_fill(mask == 0, float('-inf')).masked_fill(mask == 1, float(0.0))\n",
    "        return mask\n",
    "\n",
    "    def init_weights(self):\n",
    "        initrange = 0.1\n",
    "        nn.init.uniform_(self.encoder.weight, -initrange, initrange)\n",
    "        nn.init.zeros_(self.decoder.weight)\n",
    "        nn.init.uniform_(self.decoder.weight, -initrange, initrange)\n",
    "\n",
    "    def forward(self, src, has_mask=False):\n",
    "        if has_mask:\n",
    "            device = src.device\n",
    "            if self.src_mask is None or self.src_mask.size(0) != len(src):\n",
    "                mask = self._generate_square_subsequent_mask(len(src)).to(device)\n",
    "                self.src_mask = mask\n",
    "        else:\n",
    "            self.src_mask = None\n",
    "            \n",
    "        src = self.encoder(src) * math.sqrt(self.ninp)\n",
    "        output = self.transformer_encoder(src, self.src_mask)\n",
    "        output = self.decoder(output)\n",
    "        # return F.log_softmax(output, dim=-1)\n",
    "        return F.softmax(output, dim=-1)\n",
    "\n",
    "    def training_step(self, batch, batch_idx):\n",
    "        loss, _ = self._calc_loss(batch)\n",
    "        self.log(\"my_loss\", loss)\n",
    "        return loss\n",
    "\n",
    "    def validation_step(self, batch, batch_idx):\n",
    "        loss, predictions = self._calc_loss(batch)\n",
    "\n",
    "        # Calling self.log will surface up scalars for you in TensorBoard\n",
    "        self.log(\"val_loss\", loss, prog_bar=True)\n",
    "        # self.log(\"val_acc\", self.accuracy, prog_bar=True)\n",
    "        return loss\n",
    "\n",
    "    def test_step(self, batch, batch_idx):\n",
    "        # Here we just reuse the validation_step for testing\n",
    "        return self.validation_step(batch, batch_idx)\n",
    "\n",
    "    def configure_optimizers(self):\n",
    "        optimizer = torch.optim.Adam(self.parameters(), lr=self.learning_rate)\n",
    "        return optimizer\n",
    "    \n",
    "    def _calc_loss(self, batch):\n",
    "        x, y = self._unpack_batch_and_pad(batch)\n",
    "        predictions = self(x)\n",
    "        loss = self.criterion(predictions, y)\n",
    "        return loss, predictions\n",
    "    \n",
    "    def _unpack_batch_and_pad(self, batch, to_pad=True):\n",
    "        all_short_x = batch['pt_batch']\n",
    "        x = []\n",
    "        for short_x in all_short_x:\n",
    "            if to_pad:\n",
    "                num_to_pad = self.ntoken - len(short_x)\n",
    "                short_x = torch.unsqueeze(torch.from_numpy(np.pad(short_x, ((0, num_to_pad), (0, 0)))), dim=0).float()\n",
    "            else:\n",
    "                short_x = torch.from_numpy(short_x).float()\n",
    "            x.append(short_x)\n",
    "        x = torch.cat(x)\n",
    "        match_dict = batch['match_dict']\n",
    "        y = self._convert_all_matches_to_one_hot(match_dict, to_pad)\n",
    "        # ref_idx=batch['ref_i']\n",
    "        return x.to(self.device), y.to(self.device)\n",
    "    \n",
    "    \n",
    "    def _get_valid_ind(self, match_dict):\n",
    "        valid_ind = []\n",
    "        for k, v in match_dict.items():\n",
    "            if not isinstance(k, int):\n",
    "                continue\n",
    "            valid_ind.append(torch.from_numpy(v[:, 0]))\n",
    "        return valid_ind\n",
    "\n",
    "    ####################\n",
    "    # DATA RELATED HOOKS\n",
    "    ####################\n",
    "\n",
    "    def prepare_data(self):\n",
    "        \n",
    "        # loading the data\n",
    "        self.train_data = neuron_data_pytorch(train_path, batch_sz=batch_size, shuffle=True, rotate=True, mode=data_mode)\n",
    "        self.dev_data = neuron_data_pytorch(eval_path, batch_sz=batch_size, shuffle=False, rotate=True, mode=data_mode)\n",
    "\n",
    "    def train_dataloader(self):\n",
    "        return DataLoader(self.train_data, shuffle=False, num_workers=1, collate_fn=self.train_data.custom_collate_fn)\n",
    "\n",
    "    def val_dataloader(self):\n",
    "        return DataLoader(self.dev_data, shuffle=False, num_workers=1, collate_fn=self.dev_data.custom_collate_fn)\n",
    "\n",
    "    # def test_dataloader(self):\n",
    "    #     return DataLoader(self.mnist_test, batch_size=BATCH_SIZE)"
   ]
  },
  {
   "cell_type": "code",
   "execution_count": null,
   "id": "54d39775-c851-442f-9e2f-2095813b33e3",
   "metadata": {},
   "outputs": [],
   "source": []
  },
  {
   "cell_type": "code",
   "execution_count": null,
   "id": "daad8688-9171-4026-a294-8bd48f66752c",
   "metadata": {},
   "outputs": [],
   "source": []
  },
  {
   "cell_type": "markdown",
   "id": "e787bfd2-89a5-40ba-85b1-334d660c04cd",
   "metadata": {},
   "source": [
    "# Actually train"
   ]
  },
  {
   "cell_type": "code",
   "execution_count": null,
   "id": "b2d1b0b6-fcdd-484c-80ca-a1cb5bad75dd",
   "metadata": {},
   "outputs": [],
   "source": []
  }
 ],
 "metadata": {
  "kernelspec": {
   "display_name": "Python 3 (ipykernel)",
   "language": "python",
   "name": "python3"
  },
  "language_info": {
   "codemirror_mode": {
    "name": "ipython",
    "version": 3
   },
   "file_extension": ".py",
   "mimetype": "text/x-python",
   "name": "python",
   "nbconvert_exporter": "python",
   "pygments_lexer": "ipython3",
   "version": "3.7.11"
  }
 },
 "nbformat": 4,
 "nbformat_minor": 5
}
