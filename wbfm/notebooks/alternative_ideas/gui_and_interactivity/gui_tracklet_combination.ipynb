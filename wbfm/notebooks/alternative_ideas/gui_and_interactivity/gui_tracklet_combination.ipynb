{
 "cells": [
  {
   "cell_type": "code",
   "execution_count": 1,
   "id": "30408a02-53f0-4c39-abcb-b68265e88508",
   "metadata": {},
   "outputs": [
    {
     "name": "stderr",
     "output_type": "stream",
     "text": [
      "\n",
      "Bad key \"text.kerning_factor\" on line 4 in\n",
      "/home/charles/anaconda3/envs/torch/lib/python3.7/site-packages/matplotlib/mpl-data/stylelib/_classic_test_patch.mplstyle.\n",
      "You probably need to get an updated matplotlibrc file from\n",
      "http://github.com/matplotlib/matplotlib/blob/master/matplotlibrc.template\n",
      "or from the matplotlib source distribution\n"
     ]
    }
   ],
   "source": [
    "%load_ext autoreload\n",
    "%autoreload 2\n",
    "import matplotlib.pyplot as plt\n",
    "from wbfm.utils.projects.finished_project_data import ProjectData\n",
    "import napari\n",
    "from wbfm.gui.utils.napari_trace_explorer import napari_trace_explorer\n",
    "import numpy as np"
   ]
  },
  {
   "cell_type": "code",
   "execution_count": 2,
   "id": "24473354-fd77-4a8e-bdc1-e3a901594947",
   "metadata": {},
   "outputs": [
    {
     "name": "stdout",
     "output_type": "stream",
     "text": [
      "=======================================\n",
      "Project data for directory:\n",
      "/scratch/zimmer/Charles/dlc_stacks/worm3-multiple_templates \n",
      "=======================================\n",
      "Found the following raw data files:\n",
      "red_data: True\n",
      "green_data: True\n",
      "============Segmentation===============\n",
      "raw_segmentation: True\n",
      "segmentation: True\n",
      "============Tracklets==================\n",
      "df_training_tracklets: True\n",
      "reindexed_masks_training: True\n",
      "============Traces=====================\n",
      "red_traces: True\n",
      "green_traces: True\n",
      "final_tracks: True\n",
      "behavior_annotations: True\n",
      "\n"
     ]
    }
   ],
   "source": [
    "fname = \"/scratch/zimmer/Charles/dlc_stacks/worm3-multiple_templates/project_config.yaml\"\n",
    "project_data = ProjectData.load_final_project_data_from_config(fname)"
   ]
  },
  {
   "cell_type": "code",
   "execution_count": null,
   "id": "9271d9b9-f561-48c3-800d-46c9e8282881",
   "metadata": {},
   "outputs": [],
   "source": [
    "# %gui qt\n",
    "# napari_trace_explorer(project_data, False)"
   ]
  },
  {
   "cell_type": "code",
   "execution_count": 4,
   "id": "b17e0433-142b-441e-873b-9c5e35451807",
   "metadata": {},
   "outputs": [],
   "source": [
    "v = napari.Viewer()"
   ]
  },
  {
   "cell_type": "code",
   "execution_count": 5,
   "id": "2b4ee435-e013-483e-ac05-e7e5f14dc3dd",
   "metadata": {},
   "outputs": [
    {
     "name": "stdout",
     "output_type": "stream",
     "text": [
      "Finished loading data, starting napari...\n"
     ]
    }
   ],
   "source": [
    "project_data.add_layers_to_viewer(v)"
   ]
  },
  {
   "cell_type": "code",
   "execution_count": 9,
   "id": "56e0a5a8-6508-4b09-a254-a9b5d5db5a60",
   "metadata": {},
   "outputs": [],
   "source": [
    "seg_layer = v.layers['Raw segmentation']\n",
    "\n",
    "@seg_layer.mouse_drag_callbacks.append\n",
    "def on_click(layer, event):\n",
    "    near_point, far_point = layer.get_ray_intersections(\n",
    "        event.position,\n",
    "        event.view_direction,\n",
    "        event.dims_displayed\n",
    "    )\n",
    "    print(\"Event triggered!\")\n",
    "    if (near_point is not None) and (far_point is not None):\n",
    "        ray_points = np.linspace(near_point, far_point, n_points, endpoint=True)\n",
    "        if ray_points.shape[1] != 0:\n",
    "            print(ray_points)"
   ]
  },
  {
   "cell_type": "code",
   "execution_count": null,
   "id": "11ad9f32-9ad6-44ff-81c7-16fb3ed8eb4d",
   "metadata": {},
   "outputs": [],
   "source": []
  }
 ],
 "metadata": {
  "kernelspec": {
   "display_name": "Python 3 (ipykernel)",
   "language": "python",
   "name": "python3"
  },
  "language_info": {
   "codemirror_mode": {
    "name": "ipython",
    "version": 3
   },
   "file_extension": ".py",
   "mimetype": "text/x-python",
   "name": "python",
   "nbconvert_exporter": "python",
   "pygments_lexer": "ipython3",
   "version": "3.7.11"
  }
 },
 "nbformat": 4,
 "nbformat_minor": 5
}
