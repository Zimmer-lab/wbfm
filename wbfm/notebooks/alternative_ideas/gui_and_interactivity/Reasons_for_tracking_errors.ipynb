{
 "cells": [
  {
   "cell_type": "code",
   "execution_count": 27,
   "id": "e490b110-34eb-44fb-92e0-b8b816012e32",
   "metadata": {},
   "outputs": [
    {
     "name": "stdout",
     "output_type": "stream",
     "text": [
      "The autoreload extension is already loaded. To reload it, use:\n",
      "  %reload_ext autoreload\n"
     ]
    }
   ],
   "source": [
    "%load_ext autoreload\n",
    "%autoreload 2\n",
    "from wbfm.utils.projects.finished_project_data import ProjectData\n",
    "import numpy as np\n",
    "import matplotlib.pyplot as plt"
   ]
  },
  {
   "cell_type": "code",
   "execution_count": 126,
   "id": "5e70090c-a978-46d0-870d-d5e9a719deac",
   "metadata": {},
   "outputs": [
    {
     "name": "stdout",
     "output_type": "stream",
     "text": [
      "=======================================\n",
      "Project data for directory:\n",
      "/scratch/zimmer/Charles/dlc_stacks/worm3-multiple_templates \n",
      "=======================================\n",
      "Found the following raw data files:\n",
      "red_data: True\n",
      "green_data: True\n",
      "============Segmentation===============\n",
      "raw_segmentation: True\n",
      "segmentation: True\n",
      "============Tracklets==================\n",
      "df_training_tracklets: True\n",
      "reindexed_masks_training: True\n",
      "============Traces=====================\n",
      "red_traces: True\n",
      "green_traces: True\n",
      "final_tracks: True\n",
      "behavior_annotations: True\n",
      "\n"
     ]
    }
   ],
   "source": [
    "# fname = \"/scratch/zimmer/Charles/dlc_stacks/project-pytest/project_config.yaml\"\n",
    "# fname = \"/scratch/zimmer/Charles/dlc_stacks/worm3-2021_09_29/project_config.yaml\"\n",
    "fname = \"/scratch/zimmer/Charles/dlc_stacks/worm3-multiple_templates/project_config.yaml\"\n",
    "\n",
    "# fname = \"/scratch/zimmer/Charles/dlc_stacks/worm3-leifer_template/project_config.yaml\"\n",
    "dat = ProjectData.load_final_project_data_from_config(fname)"
   ]
  },
  {
   "cell_type": "code",
   "execution_count": 127,
   "id": "446797d1-3cb8-4cf8-a341-a578c69e5a28",
   "metadata": {},
   "outputs": [
    {
     "name": "stderr",
     "output_type": "stream",
     "text": [
      "/home/charles/anaconda3/envs/segmentation/lib/python3.7/site-packages/sklearn/base.py:315: UserWarning: Trying to unpickle estimator GaussianProcessRegressor from version 1.0 when using version 0.24.2. This might lead to breaking code or invalid results. Use at your own risk.\n",
      "  UserWarning)\n"
     ]
    }
   ],
   "source": [
    "matches = dat.raw_matches\n"
   ]
  },
  {
   "cell_type": "code",
   "execution_count": 128,
   "id": "aaf06bd2-545a-48fb-ac71-e4f81001cd2f",
   "metadata": {},
   "outputs": [],
   "source": [
    "# pair = (63, 64)\n",
    "# pair = (740, 741)\n",
    "pair = (50, 51)\n",
    "# pair = (0,1)\n",
    "\n",
    "m = matches[pair]"
   ]
  },
  {
   "cell_type": "code",
   "execution_count": 129,
   "id": "ff75c60a-e7ca-4e05-97a2-cc7f2908c5c4",
   "metadata": {},
   "outputs": [
    {
     "name": "stdout",
     "output_type": "stream",
     "text": [
      "[ 10.12 349.35 377.14] [ 12.63 224.82 237.45] 2.514853063717011\n",
      "[ 11.25 314.3  648.07] [  8.15 275.85 704.9 ] -3.0939469099108337\n",
      "[ 13.84 248.7  546.26] [ 11.15 237.45 591.61] -2.683635999538547\n",
      "[ 17.82 306.17 559.28] [ 20.18 285.11 617.34] 2.3642270351008214\n",
      "[ 19.08 403.11 354.75] [ 21.1  286.29 205.53] 2.016483056756382\n",
      "[ 24.48 264.03 494.25] [ 26.72 273.21 541.87] 2.240189613622519\n",
      "[ 26.03 243.86 341.34] [ 22.78 309.98 382.84] -3.241670663895256\n",
      "[ 25.66  40.45 210.81] [ 23.37  41.21 139.26] -2.295045245135988\n",
      "[ 25.66  67.74 221.15] [ 23.48  58.75 145.18] -2.178441392855511\n",
      "[ 25.88 278.23 419.91] [ 23.63 309.96 471.19] -2.248983522030162\n",
      "[ 22.63 292.52 675.45] [ 20.28 274.45 723.21] -2.35103010768562\n",
      "[ 24.8  281.16 535.12] [ 22.01 275.28 582.58] -2.7890319658063447\n"
     ]
    }
   ],
   "source": [
    "import numpy as np\n",
    "np.set_printoptions(precision=2)\n",
    "\n",
    "for f in m.final_matches:\n",
    "    zxy0, zxy1 = m.frame0.neuron_locs[f[0]], m.frame1.neuron_locs[f[1]]\n",
    "    dz = zxy1[0] - zxy0[0]\n",
    "    if np.abs(dz) > 2:\n",
    "        print(zxy0, zxy1, dz)"
   ]
  },
  {
   "cell_type": "code",
   "execution_count": 131,
   "id": "9ddfed4f-e657-4522-aa0f-3c13c147e736",
   "metadata": {},
   "outputs": [],
   "source": [
    "df2 = dat.df_all_tracklets"
   ]
  },
  {
   "cell_type": "code",
   "execution_count": 132,
   "id": "a4a74497-2318-463d-9a17-ab1f7af275c4",
   "metadata": {
    "tags": []
   },
   "outputs": [],
   "source": [
    "# Redo the pytest test\n",
    "df_delta = df2.diff()[1:]\n",
    "all_neurons = list(df2.columns.levels[0])\n",
    "max_z_delta = 2\n",
    "\n",
    "for n in all_neurons:\n",
    "    z_delta_series = df_delta[n]['z']\n",
    "#     print(np.logical_or(np.abs(z_delta_series <= max_z_delta), np.isnan(z_delta_series)))\n",
    "#     print(z_delta_series)"
   ]
  },
  {
   "cell_type": "code",
   "execution_count": 133,
   "id": "ad39438c-98b7-4268-9ca6-4d0b70f4b8c0",
   "metadata": {},
   "outputs": [],
   "source": [
    "df_fdnc = dat.df_fdnc_tracklets\n",
    "df_final = dat.final_tracks\n",
    "df_tracklets = dat.df_all_tracklets"
   ]
  },
  {
   "cell_type": "code",
   "execution_count": 145,
   "id": "29e26687-6150-4f5d-9020-411d7cdb8759",
   "metadata": {},
   "outputs": [],
   "source": [
    "which_neuron = 'neuron_003'\n",
    "which_time = [50, 51, 52, 53]"
   ]
  },
  {
   "cell_type": "code",
   "execution_count": 146,
   "id": "17eff0b7-6568-4db6-97ac-d4f21b68c1f0",
   "metadata": {},
   "outputs": [
    {
     "data": {
      "text/html": [
       "<div>\n",
       "<style scoped>\n",
       "    .dataframe tbody tr th:only-of-type {\n",
       "        vertical-align: middle;\n",
       "    }\n",
       "\n",
       "    .dataframe tbody tr th {\n",
       "        vertical-align: top;\n",
       "    }\n",
       "\n",
       "    .dataframe thead th {\n",
       "        text-align: right;\n",
       "    }\n",
       "</style>\n",
       "<table border=\"1\" class=\"dataframe\">\n",
       "  <thead>\n",
       "    <tr style=\"text-align: right;\">\n",
       "      <th></th>\n",
       "      <th>z</th>\n",
       "      <th>x</th>\n",
       "      <th>y</th>\n",
       "      <th>likelihood</th>\n",
       "    </tr>\n",
       "  </thead>\n",
       "  <tbody>\n",
       "    <tr>\n",
       "      <th>50</th>\n",
       "      <td>8.723077</td>\n",
       "      <td>273.434188</td>\n",
       "      <td>491.977778</td>\n",
       "      <td>0.348506</td>\n",
       "    </tr>\n",
       "    <tr>\n",
       "      <th>51</th>\n",
       "      <td>7.545190</td>\n",
       "      <td>294.881438</td>\n",
       "      <td>508.822157</td>\n",
       "      <td>0.153086</td>\n",
       "    </tr>\n",
       "    <tr>\n",
       "      <th>52</th>\n",
       "      <td>4.254405</td>\n",
       "      <td>279.926211</td>\n",
       "      <td>484.392070</td>\n",
       "      <td>0.217261</td>\n",
       "    </tr>\n",
       "    <tr>\n",
       "      <th>53</th>\n",
       "      <td>7.783784</td>\n",
       "      <td>274.266003</td>\n",
       "      <td>492.874822</td>\n",
       "      <td>0.600524</td>\n",
       "    </tr>\n",
       "  </tbody>\n",
       "</table>\n",
       "</div>"
      ],
      "text/plain": [
       "           z           x           y  likelihood\n",
       "50  8.723077  273.434188  491.977778    0.348506\n",
       "51  7.545190  294.881438  508.822157    0.153086\n",
       "52  4.254405  279.926211  484.392070    0.217261\n",
       "53  7.783784  274.266003  492.874822    0.600524"
      ]
     },
     "execution_count": 146,
     "metadata": {},
     "output_type": "execute_result"
    }
   ],
   "source": [
    "df_fdnc[which_neuron].iloc[which_time]\n"
   ]
  },
  {
   "cell_type": "code",
   "execution_count": 147,
   "id": "fb030c0e-5624-489c-85c2-e5e6aaa7b5e2",
   "metadata": {},
   "outputs": [
    {
     "data": {
      "text/html": [
       "<div>\n",
       "<style scoped>\n",
       "    .dataframe tbody tr th:only-of-type {\n",
       "        vertical-align: middle;\n",
       "    }\n",
       "\n",
       "    .dataframe tbody tr th {\n",
       "        vertical-align: top;\n",
       "    }\n",
       "\n",
       "    .dataframe thead th {\n",
       "        text-align: right;\n",
       "    }\n",
       "</style>\n",
       "<table border=\"1\" class=\"dataframe\">\n",
       "  <thead>\n",
       "    <tr style=\"text-align: right;\">\n",
       "      <th></th>\n",
       "      <th>z</th>\n",
       "      <th>x</th>\n",
       "      <th>y</th>\n",
       "      <th>likelihood</th>\n",
       "    </tr>\n",
       "  </thead>\n",
       "  <tbody>\n",
       "    <tr>\n",
       "      <th>50</th>\n",
       "      <td>8.723077</td>\n",
       "      <td>273.434188</td>\n",
       "      <td>491.977778</td>\n",
       "      <td>0.348506</td>\n",
       "    </tr>\n",
       "    <tr>\n",
       "      <th>51</th>\n",
       "      <td>7.545190</td>\n",
       "      <td>294.881438</td>\n",
       "      <td>508.822157</td>\n",
       "      <td>0.153086</td>\n",
       "    </tr>\n",
       "    <tr>\n",
       "      <th>52</th>\n",
       "      <td>4.254405</td>\n",
       "      <td>279.926211</td>\n",
       "      <td>484.392070</td>\n",
       "      <td>0.217261</td>\n",
       "    </tr>\n",
       "    <tr>\n",
       "      <th>53</th>\n",
       "      <td>7.783784</td>\n",
       "      <td>274.266003</td>\n",
       "      <td>492.874822</td>\n",
       "      <td>0.600524</td>\n",
       "    </tr>\n",
       "  </tbody>\n",
       "</table>\n",
       "</div>"
      ],
      "text/plain": [
       "           z           x           y  likelihood\n",
       "50  8.723077  273.434188  491.977778    0.348506\n",
       "51  7.545190  294.881438  508.822157    0.153086\n",
       "52  4.254405  279.926211  484.392070    0.217261\n",
       "53  7.783784  274.266003  492.874822    0.600524"
      ]
     },
     "execution_count": 147,
     "metadata": {},
     "output_type": "execute_result"
    }
   ],
   "source": [
    "df_final[which_neuron].iloc[which_time]"
   ]
  },
  {
   "cell_type": "code",
   "execution_count": 150,
   "id": "205ff7e4-a289-4d07-a21b-49d4255ae760",
   "metadata": {},
   "outputs": [
    {
     "data": {
      "application/vnd.jupyter.widget-view+json": {
       "model_id": "2b5c87f391af44f8abf86fb8b7ce7933",
       "version_major": 2,
       "version_minor": 0
      },
      "text/plain": [
       "  0%|          | 0/12176 [00:00<?, ?it/s]"
      ]
     },
     "metadata": {},
     "output_type": "display_data"
    },
    {
     "name": "stdout",
     "output_type": "stream",
     "text": [
      "neuron768 coords         z           x           y  likelihood\n",
      "50      8.723077  273.434188  491.977778    0.779165\n",
      "51      8.083205  283.697997  554.053929    0.729823\n",
      "52      7.258250  277.946915  518.812052    0.894873\n",
      "53      7.274457  271.711957  476.620924    0.672661\n"
     ]
    }
   ],
   "source": [
    "all_neurons = list(df_tracklets.columns.levels[0])\n",
    "all_candidates = []\n",
    "from tqdm.auto import tqdm\n",
    "for n in tqdm(all_neurons):\n",
    "    zxy = df_tracklets[n].iloc[which_time]\n",
    "    z = zxy['z'].iloc[0]\n",
    "    if not np.isnan(z) and np.abs(z - 8.7) < 0.1:\n",
    "        print(n, zxy)\n",
    "        all_candidates.append(n)"
   ]
  },
  {
   "cell_type": "code",
   "execution_count": 151,
   "id": "dda85c86-d45f-4519-8f3d-dac9bbf98bb8",
   "metadata": {},
   "outputs": [
    {
     "name": "stdout",
     "output_type": "stream",
     "text": [
      "coords         z           x           y  likelihood\n",
      "46      7.856369  317.308943  443.261518    0.697491\n",
      "47      8.979969  304.468413  446.716487    0.840365\n",
      "48      8.432739  302.870340  458.583468    0.813983\n",
      "49      9.151468  280.281298  461.562597    0.868567\n",
      "50      8.723077  273.434188  491.977778    0.779165\n",
      "..           ...         ...         ...         ...\n",
      "111     8.869182  252.914465  408.079245    0.855718\n",
      "112     8.384045  246.612245  393.235622    0.835571\n",
      "113     8.300149  237.925706  393.745914    0.401518\n",
      "114     8.173913  248.806763  427.852657    0.855736\n",
      "115     7.698697  244.213355  441.174267    0.000000\n",
      "\n",
      "[70 rows x 4 columns]\n"
     ]
    }
   ],
   "source": [
    "tracklet_name = all_candidates[0]\n",
    "\n",
    "t = df_tracklets[tracklet_name]\n",
    "print(t[~np.isnan(t['z'])])"
   ]
  },
  {
   "cell_type": "code",
   "execution_count": 152,
   "id": "ff6ebef8-54e4-4bee-afa8-08afc68141c5",
   "metadata": {},
   "outputs": [
    {
     "data": {
      "text/html": [
       "<div>\n",
       "<style scoped>\n",
       "    .dataframe tbody tr th:only-of-type {\n",
       "        vertical-align: middle;\n",
       "    }\n",
       "\n",
       "    .dataframe tbody tr th {\n",
       "        vertical-align: top;\n",
       "    }\n",
       "\n",
       "    .dataframe thead th {\n",
       "        text-align: right;\n",
       "    }\n",
       "</style>\n",
       "<table border=\"1\" class=\"dataframe\">\n",
       "  <thead>\n",
       "    <tr style=\"text-align: right;\">\n",
       "      <th>coords</th>\n",
       "      <th>z</th>\n",
       "      <th>x</th>\n",
       "      <th>y</th>\n",
       "      <th>likelihood</th>\n",
       "    </tr>\n",
       "  </thead>\n",
       "  <tbody>\n",
       "    <tr>\n",
       "      <th>50</th>\n",
       "      <td>8.723077</td>\n",
       "      <td>273.434188</td>\n",
       "      <td>491.977778</td>\n",
       "      <td>0.779165</td>\n",
       "    </tr>\n",
       "    <tr>\n",
       "      <th>51</th>\n",
       "      <td>8.083205</td>\n",
       "      <td>283.697997</td>\n",
       "      <td>554.053929</td>\n",
       "      <td>0.729823</td>\n",
       "    </tr>\n",
       "    <tr>\n",
       "      <th>52</th>\n",
       "      <td>7.258250</td>\n",
       "      <td>277.946915</td>\n",
       "      <td>518.812052</td>\n",
       "      <td>0.894873</td>\n",
       "    </tr>\n",
       "    <tr>\n",
       "      <th>53</th>\n",
       "      <td>7.274457</td>\n",
       "      <td>271.711957</td>\n",
       "      <td>476.620924</td>\n",
       "      <td>0.672661</td>\n",
       "    </tr>\n",
       "  </tbody>\n",
       "</table>\n",
       "</div>"
      ],
      "text/plain": [
       "coords         z           x           y  likelihood\n",
       "50      8.723077  273.434188  491.977778    0.779165\n",
       "51      8.083205  283.697997  554.053929    0.729823\n",
       "52      7.258250  277.946915  518.812052    0.894873\n",
       "53      7.274457  271.711957  476.620924    0.672661"
      ]
     },
     "execution_count": 152,
     "metadata": {},
     "output_type": "execute_result"
    }
   ],
   "source": [
    "t.iloc[which_time]"
   ]
  },
  {
   "cell_type": "code",
   "execution_count": 155,
   "id": "73924ab5-2067-4c6a-838a-97070d74a80e",
   "metadata": {},
   "outputs": [
    {
     "data": {
      "text/plain": [
       "<AxesSubplot:>"
      ]
     },
     "execution_count": 155,
     "metadata": {},
     "output_type": "execute_result"
    },
    {
     "data": {
      "application/vnd.jupyter.widget-view+json": {
       "model_id": "a1d4502ffb4142b7838564995cfa77f1",
       "version_major": 2,
       "version_minor": 0
      },
      "image/png": "[encoded data removed]",
      "text/plain": [
       "Canvas(toolbar=Toolbar(toolitems=[('Home', 'Reset original view', 'home', 'home'), ('Back', 'Back to previous …"
      ]
     },
     "metadata": {},
     "output_type": "display_data"
    }
   ],
   "source": [
    "%matplotlib widget\n",
    "t[~np.isnan(t['z'])]['z'].plot()"
   ]
  },
  {
   "cell_type": "code",
   "execution_count": 156,
   "id": "cd0c99bc-a8d0-405f-9d0b-abb5cfc9498d",
   "metadata": {},
   "outputs": [
    {
     "data": {
      "text/plain": [
       "<AxesSubplot:>"
      ]
     },
     "execution_count": 156,
     "metadata": {},
     "output_type": "execute_result"
    },
    {
     "data": {
      "application/vnd.jupyter.widget-view+json": {
       "model_id": "d00d5736c6fe434281e67cd83f5f20a1",
       "version_major": 2,
       "version_minor": 0
      },
      "image/png": "[encoded data removed]",
      "text/plain": [
       "Canvas(toolbar=Toolbar(toolitems=[('Home', 'Reset original view', 'home', 'home'), ('Back', 'Back to previous …"
      ]
     },
     "metadata": {},
     "output_type": "display_data"
    }
   ],
   "source": [
    "%matplotlib widget\n",
    "t[~np.isnan(t['z'])]['likelihood'].plot()"
   ]
  },
  {
   "cell_type": "code",
   "execution_count": 170,
   "id": "5f2821d0-a93e-4d89-93a1-63e0bfeee286",
   "metadata": {},
   "outputs": [
    {
     "data": {
      "text/plain": [
       "<AxesSubplot:>"
      ]
     },
     "execution_count": 170,
     "metadata": {},
     "output_type": "execute_result"
    },
    {
     "data": {
      "application/vnd.jupyter.widget-view+json": {
       "model_id": "d531160d19ce4804a64efa1a0200d850",
       "version_major": 2,
       "version_minor": 0
      },
      "image/png": "[encoded data removed]",
      "text/plain": [
       "Canvas(toolbar=Toolbar(toolitems=[('Home', 'Reset original view', 'home', 'home'), ('Back', 'Back to previous …"
      ]
     },
     "metadata": {},
     "output_type": "display_data"
    }
   ],
   "source": [
    "%matplotlib widget\n",
    "t.plot()"
   ]
  },
  {
   "cell_type": "markdown",
   "id": "d4dbb735-1dbd-424f-87b1-33ea13f26864",
   "metadata": {},
   "source": [
    "# Look at reindexing"
   ]
  },
  {
   "cell_type": "code",
   "execution_count": 160,
   "id": "42c517bd-bef8-4589-b86a-a3d0b3309e78",
   "metadata": {},
   "outputs": [],
   "source": [
    "from wbfm.utils.projects.utils_filepaths import ModularProjectConfig, ConfigFileWithProjectContext, \\\n",
    "    pickle_load_binary"
   ]
  },
  {
   "cell_type": "code",
   "execution_count": 161,
   "id": "5a10dcfe-ad69-4211-9ea0-2707ab255cfe",
   "metadata": {},
   "outputs": [],
   "source": [
    "import os\n",
    "fname = os.path.join('4-traces', 'all_matches.pickle')\n",
    "fname = os.path.join(dat.project_config.project_dir, fname)\n",
    "reindexing_matches = pickle_load_binary(fname)"
   ]
  },
  {
   "cell_type": "code",
   "execution_count": 166,
   "id": "d50c8176-aded-47f2-9a11-07c41b303c44",
   "metadata": {},
   "outputs": [
    {
     "data": {
      "text/plain": [
       "array([[ 87., 135.,   1.],\n",
       "       [ 88., 190.,   1.],\n",
       "       [119., 130.,   1.],\n",
       "       [120., 112.,   1.],\n",
       "       [111., 188.,   1.],\n",
       "       [112., 146.,   1.],\n",
       "       [ 81.,  30.,   1.],\n",
       "       [ 82.,   5.,   1.],\n",
       "       [101., 171.,   1.],\n",
       "       [102., 192.,   1.],\n",
       "       [105.,  49.,   1.],\n",
       "       [106.,  92.,   1.],\n",
       "       [  4., 124.,   1.],\n",
       "       [  5.,  18.,   1.],\n",
       "       [  6.,   1.,   1.],\n",
       "       [ 83.,  48.,   1.],\n",
       "       [ 84.,  59.,   1.],\n",
       "       [ 31.,  14.,   1.],\n",
       "       [ 32.,  26.,   1.],\n",
       "       [ 27., 136.,   1.],\n",
       "       [ 28., 141.,   1.],\n",
       "       [ 13.,  84.,   1.],\n",
       "       [ 14.,  70.,   1.],\n",
       "       [ 15., 185.,   1.],\n",
       "       [ 79., 123.,   1.],\n",
       "       [ 80.,   6.,   1.],\n",
       "       [ 77., 170.,   1.],\n",
       "       [ 78., 175.,   1.],\n",
       "       [ 33.,   7.,   1.],\n",
       "       [ 34.,  32.,   1.],\n",
       "       [ 75., 143.,   1.],\n",
       "       [ 76., 142.,   1.],\n",
       "       [  7., 145.,   1.],\n",
       "       [  8., 114.,   1.],\n",
       "       [  9., 116.,   1.],\n",
       "       [113., 168.,   1.],\n",
       "       [114.,  23.,   1.],\n",
       "       [ 16.,  82.,   1.],\n",
       "       [ 17.,  76.,   1.],\n",
       "       [ 18., 182.,   1.],\n",
       "       [ 29., 150.,   1.],\n",
       "       [ 30.,   2.,   1.],\n",
       "       [ 19., 169.,   1.],\n",
       "       [ 20., 173.,   1.],\n",
       "       [ 21., 129.,   1.],\n",
       "       [ 22., 134.,   1.],\n",
       "       [ 23., 126.,   1.],\n",
       "       [ 24., 122.,   1.],\n",
       "       [ 73., 132.,   1.],\n",
       "       [ 74., 121.,   1.],\n",
       "       [  1.,  46.,   1.],\n",
       "       [  2.,  42.,   1.],\n",
       "       [  3.,  33.,   1.],\n",
       "       [ 25., 131.,   1.],\n",
       "       [ 26., 132.,   1.],\n",
       "       [ 97., 100.,   1.],\n",
       "       [ 98., 178.,   1.],\n",
       "       [ 85.,  44.,   1.],\n",
       "       [ 86.,  83.,   1.],\n",
       "       [ 95.,  43.,   1.],\n",
       "       [ 96.,  86.,   1.],\n",
       "       [ 89., 104.,   1.],\n",
       "       [ 90., 103.,   1.],\n",
       "       [ 91., 119.,   1.],\n",
       "       [ 92., 183.,   1.],\n",
       "       [ 10.,  31.,   1.],\n",
       "       [ 11.,  34.,   1.],\n",
       "       [ 12.,  11.,   1.],\n",
       "       [ 35.,  20.,   1.],\n",
       "       [ 36.,  35.,   1.],\n",
       "       [ 49.,  15.,   1.],\n",
       "       [ 50.,  63.,   1.],\n",
       "       [ 57.,  61.,   1.],\n",
       "       [ 58.,  71.,   1.],\n",
       "       [ 47.,  27.,   1.],\n",
       "       [ 48.,  48.,   1.],\n",
       "       [ 43.,  51.,   1.],\n",
       "       [ 44.,  12.,   1.],\n",
       "       [ 51.,  36.,   1.],\n",
       "       [ 52.,  29.,   1.],\n",
       "       [ 55.,  53.,   1.],\n",
       "       [ 56.,  62.,   1.],\n",
       "       [ 41.,  24.,   1.],\n",
       "       [ 42.,  13.,   1.],\n",
       "       [ 61.,  77.,   1.],\n",
       "       [ 62.,  79.,   1.],\n",
       "       [ 53., 167.,   1.],\n",
       "       [ 54.,  66.,   1.],\n",
       "       [115.,  40.,   1.],\n",
       "       [116., 113.,   1.],\n",
       "       [ 37.,  38.,   1.],\n",
       "       [ 38.,  19.,   1.],\n",
       "       [103., 107.,   1.],\n",
       "       [104.,  10.,   1.],\n",
       "       [ 59.,  97.,   1.],\n",
       "       [ 60.,  74.,   1.],\n",
       "       [ 45.,  39.,   1.],\n",
       "       [ 46.,  50.,   1.],\n",
       "       [ 65., 174.,   1.],\n",
       "       [ 66., 177.,   1.],\n",
       "       [ 99.,  99.,   1.],\n",
       "       [100., 117.,   1.],\n",
       "       [109.,  94.,   1.],\n",
       "       [110.,  91.,   1.],\n",
       "       [ 63., 176.,   1.],\n",
       "       [ 64., 181.,   1.],\n",
       "       [117.,   4.,   1.],\n",
       "       [118.,  73.,   1.],\n",
       "       [ 93.,  72.,   1.],\n",
       "       [ 94., 184.,   1.],\n",
       "       [ 71., 118.,   1.],\n",
       "       [ 72., 127.,   1.],\n",
       "       [ 39.,  56.,   1.],\n",
       "       [ 40.,  32.,   1.],\n",
       "       [ 69., 125.,   1.],\n",
       "       [ 70., 102.,   1.],\n",
       "       [107., 102.,   1.],\n",
       "       [108.,  81.,   1.],\n",
       "       [ 67., 110.,   1.],\n",
       "       [ 68., 180.,   1.]])"
      ]
     },
     "execution_count": 166,
     "metadata": {},
     "output_type": "execute_result"
    }
   ],
   "source": [
    "reindexing_matches[1]"
   ]
  },
  {
   "cell_type": "code",
   "execution_count": 165,
   "id": "0ec2f7ce-9ba4-4b3d-9ba1-63ef42637e71",
   "metadata": {},
   "outputs": [
    {
     "data": {
      "text/plain": [
       "(array([  0.,   0.,   0.,   0.,   0., 120.,   0.,   0.,   0.,   0.]),\n",
       " array([0.5, 0.6, 0.7, 0.8, 0.9, 1. , 1.1, 1.2, 1.3, 1.4, 1.5]),\n",
       " <BarContainer object of 10 artists>)"
      ]
     },
     "execution_count": 165,
     "metadata": {},
     "output_type": "execute_result"
    },
    {
     "data": {
      "application/vnd.jupyter.widget-view+json": {
       "model_id": "743b78d2e3504df2b14984e0ac923d17",
       "version_major": 2,
       "version_minor": 0
      },
      "image/png": "[encoded data removed]",
      "text/plain": [
       "Canvas(toolbar=Toolbar(toolitems=[('Home', 'Reset original view', 'home', 'home'), ('Back', 'Back to previous …"
      ]
     },
     "metadata": {},
     "output_type": "display_data"
    }
   ],
   "source": [
    "rm = reindexing_matches[4]\n",
    "%matplotlib widget\n",
    "plt.hist(rm[:, 2])"
   ]
  },
  {
   "cell_type": "code",
   "execution_count": 120,
   "id": "39c3ec90-bd89-4980-bbd2-5d45161a9510",
   "metadata": {},
   "outputs": [],
   "source": [
    "from wbfm.utils.visualization.utils_segmentation import all_matches_to_lookup_tables"
   ]
  },
  {
   "cell_type": "code",
   "execution_count": 121,
   "id": "f5f4c702-7bc1-4a77-9504-38d9ce981688",
   "metadata": {},
   "outputs": [],
   "source": [
    "all_lut = all_matches_to_lookup_tables(reindexing_matches)"
   ]
  },
  {
   "cell_type": "code",
   "execution_count": 125,
   "id": "a2a4d528-5e6c-4841-b2b2-b948e9ad7bfb",
   "metadata": {},
   "outputs": [
    {
     "data": {
      "text/plain": [
       "151"
      ]
     },
     "execution_count": 125,
     "metadata": {},
     "output_type": "execute_result"
    }
   ],
   "source": [
    "all_lut[0][172]"
   ]
  },
  {
   "cell_type": "code",
   "execution_count": null,
   "id": "3d1350d8-20c9-4fa0-b429-28e6c31bf441",
   "metadata": {},
   "outputs": [],
   "source": []
  }
 ],
 "metadata": {
  "kernelspec": {
   "display_name": "Python [conda env:segmentation] *",
   "language": "python",
   "name": "conda-env-segmentation-py"
  },
  "language_info": {
   "codemirror_mode": {
    "name": "ipython",
    "version": 3
   },
   "file_extension": ".py",
   "mimetype": "text/x-python",
   "name": "python",
   "nbconvert_exporter": "python",
   "pygments_lexer": "ipython3",
   "version": "3.7.11"
  }
 },
 "nbformat": 4,
 "nbformat_minor": 5
}
