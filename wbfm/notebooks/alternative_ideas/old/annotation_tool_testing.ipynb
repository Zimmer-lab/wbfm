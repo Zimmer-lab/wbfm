{
 "cells": [
  {
   "cell_type": "code",
   "execution_count": 1,
   "id": "african-activity",
   "metadata": {},
   "outputs": [
    {
     "ename": "ModuleNotFoundError",
     "evalue": "No module named 'napari'",
     "output_type": "error",
     "traceback": [
      "\u001b[1;31m---------------------------------------------------------------------------\u001b[0m",
      "\u001b[1;31mModuleNotFoundError\u001b[0m                       Traceback (most recent call last)",
      "\u001b[1;32m<ipython-input-1-7cfa3a64b2e0>\u001b[0m in \u001b[0;36m<module>\u001b[1;34m\u001b[0m\n\u001b[0;32m      3\u001b[0m \u001b[1;32mimport\u001b[0m \u001b[0msklearn\u001b[0m\u001b[1;33m.\u001b[0m\u001b[0mdatasets\u001b[0m \u001b[1;32mas\u001b[0m \u001b[0mskdat\u001b[0m\u001b[1;33m\u001b[0m\u001b[1;33m\u001b[0m\u001b[0m\n\u001b[0;32m      4\u001b[0m \u001b[1;32mfrom\u001b[0m \u001b[0mipywidgets\u001b[0m \u001b[1;32mimport\u001b[0m \u001b[0minteract\u001b[0m\u001b[1;33m\u001b[0m\u001b[1;33m\u001b[0m\u001b[0m\n\u001b[1;32m----> 5\u001b[1;33m \u001b[1;32mimport\u001b[0m \u001b[0mnapari\u001b[0m\u001b[1;33m\u001b[0m\u001b[1;33m\u001b[0m\u001b[0m\n\u001b[0m",
      "\u001b[1;31mModuleNotFoundError\u001b[0m: No module named 'napari'"
     ]
    }
   ],
   "source": [
    "import numpy as np\n",
    "import matplotlib.pyplot as plt\n",
    "import sklearn.datasets as skdat\n",
    "from ipywidgets import interact\n",
    "import napari"
   ]
  },
  {
   "cell_type": "markdown",
   "id": "about-pressing",
   "metadata": {},
   "source": [
    "# First, fake data"
   ]
  },
  {
   "cell_type": "code",
   "execution_count": 21,
   "id": "inner-jason",
   "metadata": {},
   "outputs": [
    {
     "data": {
      "text/plain": [
       "Text(0.5, 1.0, 'True signal')"
      ]
     },
     "execution_count": 21,
     "metadata": {},
     "output_type": "execute_result"
    },
    {
     "data": {
      "image/png": "[encoded data removed]",
      "text/plain": [
       "<Figure size 432x288 with 1 Axes>"
      ]
     },
     "metadata": {
      "needs_background": "light"
     },
     "output_type": "display_data"
    }
   ],
   "source": [
    "img_box = (-1, 1)\n",
    "\n",
    "signal_level = 10000\n",
    "\n",
    "opt = {\n",
    "    'centers': [[0.0, 0.0, 0.0]],\n",
    "    'cluster_std': 0.2,\n",
    "    'n_features': 3 # Dimension\n",
    "}\n",
    "opt['center_box'] = (img_box[0]+2*opt['cluster_std'], img_box[1]-2*opt['cluster_std'])\n",
    "\n",
    "num_frames = 100\n",
    "amp_true = signal_level*abs(np.sin(np.arange(num_frames)/10))+1\n",
    "amp_true = [int(a) for a in amp_true]\n",
    "\n",
    "plt.plot(amp_true)\n",
    "plt.title(\"True signal\")"
   ]
  },
  {
   "cell_type": "code",
   "execution_count": 22,
   "id": "loving-cathedral",
   "metadata": {},
   "outputs": [],
   "source": [
    "# Build photon coordinates\n",
    "all_dat = []\n",
    "for i in range(num_frames):\n",
    "    dat, _ = skdat.make_blobs(n_samples=amp_true[i], **opt)\n",
    "    all_dat.append(dat)\n",
    "# all_dat = all_dat\n",
    "\n",
    "# Build image\n",
    "pixel_sz = 0.1\n",
    "bins = int(np.ceil(2.0 / pixel_sz))\n",
    "\n",
    "vid_clean = np.zeros((num_frames, bins, bins, bins))\n",
    "\n",
    "for i, dat in enumerate(all_dat):\n",
    "    vid_clean[i,...] = np.histogramdd(dat, bins=bins)[0]"
   ]
  },
  {
   "cell_type": "code",
   "execution_count": 23,
   "id": "miniature-chancellor",
   "metadata": {},
   "outputs": [],
   "source": [
    "# Now, visualize\n",
    "viewer = napari.view_image(vid_clean)"
   ]
  },
  {
   "cell_type": "markdown",
   "id": "hundred-contents",
   "metadata": {},
   "source": [
    "# For segmentation: Niklas' annotated volume"
   ]
  },
  {
   "cell_type": "code",
   "execution_count": 70,
   "id": "light-muscle",
   "metadata": {},
   "outputs": [],
   "source": [
    "import tifffile"
   ]
  },
  {
   "cell_type": "code",
   "execution_count": 71,
   "id": "super-permit",
   "metadata": {},
   "outputs": [],
   "source": [
    "fname = r'Y:\\shared_projects\\wbfm\\test_volumes\\preprocessed_volume.tif'\n",
    "raw_dat = tifffile.imread(fname)\n",
    "\n",
    "fname = r'Y:\\shared_projects\\wbfm\\test_volumes\\segmented_masks.btf'\n",
    "seg_dat = tifffile.imread(fname)"
   ]
  },
  {
   "cell_type": "code",
   "execution_count": 107,
   "id": "early-essay",
   "metadata": {},
   "outputs": [],
   "source": [
    "viewer = napari.view_image(raw_dat)"
   ]
  },
  {
   "cell_type": "code",
   "execution_count": 108,
   "id": "worth-heavy",
   "metadata": {},
   "outputs": [
    {
     "name": "stderr",
     "output_type": "stream",
     "text": [
      "C:\\Users\\charles.fieseler\\Anaconda3\\envs\\track_using_features\\lib\\site-packages\\napari\\layers\\labels\\labels.py:383: UserWarning: Float dtypes are not supported for Labels layers. Converting data to integers...\n",
      "  \"Float dtypes are not supported for Labels layers. Converting data to integers...\"\n"
     ]
    },
    {
     "data": {
      "text/plain": [
       "<Labels layer 'Labels' at 0x2a30fb65ac8>"
      ]
     },
     "execution_count": 108,
     "metadata": {},
     "output_type": "execute_result"
    }
   ],
   "source": [
    "viewer.add_labels(seg_dat)"
   ]
  },
  {
   "cell_type": "markdown",
   "id": "juvenile-lodge",
   "metadata": {},
   "source": [
    "# For tracking"
   ]
  },
  {
   "cell_type": "code",
   "execution_count": 74,
   "id": "hybrid-source",
   "metadata": {},
   "outputs": [],
   "source": [
    "# Test of the track layer\n",
    "# NOTE: this can't be easily modified\n",
    "tracks_data = [\n",
    "    [1, 0, 236, 0],\n",
    "    [1, 1, 236, 100],\n",
    "    [1, 2, 236, 200],\n",
    "    [1, 3, 236, 500],\n",
    "    [1, 4, 236, 1000],\n",
    "    [2, 0, 436, 0],\n",
    "    [2, 1, 436, 100],\n",
    "    [2, 2, 436, 200],\n",
    "    [2, 3, 436, 500],\n",
    "    [2, 4, 436, 1000],\n",
    "    [3, 0, 636, 0],\n",
    "    [3, 1, 636, 100],\n",
    "    [3, 2, 636, 200],\n",
    "    [3, 3, 636, 500],\n",
    "    [3, 4, 636, 1000]\n",
    "]\n",
    "\n",
    "viewer = napari.view_tracks(tracks_data)"
   ]
  },
  {
   "cell_type": "markdown",
   "id": "smooth-grade",
   "metadata": {},
   "source": [
    "### Look at some actual data and try to modify"
   ]
  },
  {
   "cell_type": "code",
   "execution_count": 4,
   "id": "structural-sender",
   "metadata": {},
   "outputs": [],
   "source": [
    "from wbfm.utils.video_and_data_conversion.import_video_as_array import get_single_volume\n",
    "# from segmentation.util.utils_pipeline import segment_video_using_config_2d\n",
    "from pathlib import Path\n",
    "import os\n",
    "import napari\n",
    "import numpy as np\n",
    "import tifffile"
   ]
  },
  {
   "cell_type": "code",
   "execution_count": 2,
   "id": "raising-youth",
   "metadata": {},
   "outputs": [],
   "source": [
    "# fname = r'D:\\More-stabilized-wbfm\\test2020-10-22_16-15-20_test4-channel-0-pco_camera1\\test2020-10-22_16-15-20_test4-channel-0-pco_camera1bigtiff.btf'\n",
    "fname = r'Y:\\shared_projects\\wbfm\\dat\\ZIM2278_GFP_Control\\2021-03-04_14-00-52_worm1_ZIM2278_high\\2021-03-04_14-00-52_worm1_ZIM2278_high-channel-0-pco_camera1\\2021-03-04_14-00-52_worm1_ZIM2278_high-channel-0-pco_camera1bigtiff.btf'"
   ]
  },
  {
   "cell_type": "code",
   "execution_count": 3,
   "id": "healthy-lender",
   "metadata": {},
   "outputs": [],
   "source": [
    "opt = dict(num_slices=32, dtype='uint16')\n",
    "tspan = np.arange(50)\n",
    "\n",
    "dat = np.array([get_single_volume(fname, i, **opt) for i in tspan])"
   ]
  },
  {
   "cell_type": "code",
   "execution_count": 5,
   "id": "sharing-aviation",
   "metadata": {},
   "outputs": [
    {
     "data": {
      "text/plain": [
       "(50, 32, 700, 900)"
      ]
     },
     "execution_count": 5,
     "metadata": {},
     "output_type": "execute_result"
    }
   ],
   "source": [
    "dat.shape"
   ]
  },
  {
   "cell_type": "code",
   "execution_count": 8,
   "id": "occupied-terrain",
   "metadata": {},
   "outputs": [],
   "source": [
    "to_save = False\n",
    "if to_save:\n",
    "    out_fname = r'Y:\\shared_projects\\wbfm\\Annotation_party\\raw_data.tiff'\n",
    "#     with open(out_fname, 'w') as f:\n",
    "    tifffile.imwrite(out_fname, np.expand_dims(dat, 2), imagej=True, metadata={'axes': 'TZCYX'})"
   ]
  },
  {
   "cell_type": "code",
   "execution_count": 69,
   "id": "unusual-monkey",
   "metadata": {},
   "outputs": [],
   "source": [
    "viewer = napari.view_image(dat)"
   ]
  },
  {
   "cell_type": "code",
   "execution_count": 23,
   "id": "canadian-airplane",
   "metadata": {},
   "outputs": [
    {
     "name": "stdout",
     "output_type": "stream",
     "text": [
      "Path (2, 6, 3)\n"
     ]
    }
   ],
   "source": [
    "import numpy as np\n",
    "from skimage import data\n",
    "import napari\n",
    "\n",
    "\n",
    "blobs = data.binary_blobs(\n",
    "            length=128, blob_size_fraction=0.05, n_dim=3, volume_fraction=0.05\n",
    "        )\n",
    "\n",
    "viewer = napari.Viewer(ndisplay=3)\n",
    "viewer.add_image(blobs.astype(float))\n",
    "\n",
    "# sample vector coord-like data\n",
    "path = np.array([np.array([[0, 0, 0], [0, 10, 10], [0, 5, 15], [20, 5, 15],\n",
    "    [56, 70, 21], [127, 127, 127]]),\n",
    "    np.array([[0, 0, 0], [0, 10, 10], [0, 5, 15], [0, 5, 15],\n",
    "        [0, 70, 21], [0, 127, 127]])])\n",
    "\n",
    "print('Path', path.shape)\n",
    "layer = viewer.add_shapes(\n",
    "    path, shape_type='path', edge_width=4, edge_color=['red', 'blue']\n",
    ")\n",
    "\n",
    "napari.run()"
   ]
  },
  {
   "cell_type": "markdown",
   "id": "backed-placement",
   "metadata": {},
   "source": [
    "# Save some segmented masks as well"
   ]
  },
  {
   "cell_type": "code",
   "execution_count": 94,
   "id": "consolidated-advice",
   "metadata": {},
   "outputs": [],
   "source": [
    "from wbfm.utils.video_and_data_conversion.import_video_as_array import get_single_volume\n",
    "# from segmentation.util.utils_pipeline import segment_video_using_config_2d\n",
    "from pathlib import Path\n",
    "import os\n",
    "import napari\n",
    "import numpy as np\n",
    "import tifffile\n",
    "import h5py"
   ]
  },
  {
   "cell_type": "code",
   "execution_count": 109,
   "id": "narrative-integral",
   "metadata": {},
   "outputs": [],
   "source": [
    "fname_seg = r'C:\\Users\\charles.fieseler\\dlc\\Charlie-test-2021_04_14\\1-segmentation\\masks_500.btf'\n",
    "fname_dat = r'D:\\More-stabilized-wbfm\\test2020-10-22_16-15-20_test4-channel-0-pco_camera1\\test2020-10-22_16-15-20_test4-channel-0-pco_camera1bigtiff.btf'"
   ]
  },
  {
   "cell_type": "code",
   "execution_count": 110,
   "id": "satellite-marketing",
   "metadata": {},
   "outputs": [],
   "source": [
    "opt = dict(num_slices=33, dtype='uint16')\n",
    "tspan = np.arange(0, 10)\n",
    "\n",
    "seg = np.array([get_single_volume(fname_seg, i, **opt) for i in tspan])\n",
    "\n",
    "tspan = np.arange(100, 110)\n",
    "dat = np.array([get_single_volume(fname_dat, i, **opt) for i in tspan])"
   ]
  },
  {
   "cell_type": "code",
   "execution_count": 111,
   "id": "limited-covering",
   "metadata": {},
   "outputs": [
    {
     "data": {
      "text/plain": [
       "<Labels layer 'seg' at 0x2a30336d548>"
      ]
     },
     "execution_count": 111,
     "metadata": {},
     "output_type": "execute_result"
    }
   ],
   "source": [
    "viewer = napari.view_image(dat)\n",
    "viewer.add_labels(seg)"
   ]
  },
  {
   "cell_type": "code",
   "execution_count": 93,
   "id": "adequate-height",
   "metadata": {},
   "outputs": [],
   "source": [
    "out_folder = r'Y:\\shared_projects\\wbfm\\test_volumes'\n",
    "out_seg = os.path.join(out_folder, 'seg_100_110.tiff')\n",
    "# out_dat = os.path.join(out_folder, 'dat_100_110.tiff')\n",
    "\n",
    "tifffile.imwrite(out_seg, data=seg, shape=seg)"
   ]
  },
  {
   "cell_type": "code",
   "execution_count": 92,
   "id": "engaged-information",
   "metadata": {},
   "outputs": [
    {
     "data": {
      "text/plain": [
       "(10, 33, 700, 900, 1)"
      ]
     },
     "execution_count": 92,
     "metadata": {},
     "output_type": "execute_result"
    }
   ],
   "source": [
    "np.expand_dims(seg, -1).shape"
   ]
  },
  {
   "cell_type": "code",
   "execution_count": 104,
   "id": "plastic-revision",
   "metadata": {},
   "outputs": [
    {
     "data": {
      "text/plain": [
       "(10, 33, 700, 900, 2)"
      ]
     },
     "execution_count": 104,
     "metadata": {},
     "output_type": "execute_result"
    }
   ],
   "source": [
    "# Also try to save so Ilastik can read\n",
    "\n",
    "# First: binary\n",
    "out_folder = r'Y:\\shared_projects\\wbfm\\test_volumes'\n",
    "out_seg = os.path.join(out_folder, 'seg_binary_100_110.h5')\n",
    "\n",
    "seg_binary = np.stack([seg==0, seg!=0], axis=-1)\n",
    "seg_binary.shape\n"
   ]
  },
  {
   "cell_type": "code",
   "execution_count": 106,
   "id": "worth-worker",
   "metadata": {},
   "outputs": [],
   "source": [
    "\n",
    "chunks = (1, 33, 700, 900, 1)\n",
    "\n",
    "with h5py.File(out_seg, \"w\") as f:\n",
    "    dset = f.create_dataset(\"exported_data\", data=seg_binary, chunks=chunks)"
   ]
  },
  {
   "cell_type": "markdown",
   "id": "combined-webmaster",
   "metadata": {},
   "source": [
    "# Look at Ilastik output"
   ]
  },
  {
   "cell_type": "code",
   "execution_count": 59,
   "id": "encouraging-sugar",
   "metadata": {},
   "outputs": [],
   "source": [
    "import napari\n",
    "import h5py"
   ]
  },
  {
   "cell_type": "code",
   "execution_count": 61,
   "id": "tight-living",
   "metadata": {},
   "outputs": [],
   "source": [
    "folder = r'Y:\\shared_projects\\wbfm\\test_volumes'\n",
    "prob_fname = folder + r\"\\vols_100_110-exported_data_Probabilities.h5\"\n",
    "\n",
    "prob_dat = h5py.File(prob_fname, 'r')['exported_data']"
   ]
  },
  {
   "cell_type": "code",
   "execution_count": 62,
   "id": "solved-hydrogen",
   "metadata": {},
   "outputs": [
    {
     "data": {
      "text/plain": [
       "(10, 33, 700, 900, 2)"
      ]
     },
     "execution_count": 62,
     "metadata": {},
     "output_type": "execute_result"
    }
   ],
   "source": [
    "prob_dat.shape"
   ]
  },
  {
   "cell_type": "code",
   "execution_count": 64,
   "id": "persistent-slave",
   "metadata": {},
   "outputs": [
    {
     "data": {
      "text/plain": [
       "Viewer(axes=Axes(visible=False, labels=True, colored=True, dashed=False, arrows=True), camera=Camera(center=(0.0, 349.5, 449.5), zoom=0.9975528364849833, angles=(0.0, 0.0, 90.0), interactive=True), cursor=Cursor(position=(0.0, 0.0, 0.0), scaled=True, size=1, style='standard'), dims=Dims(ndim=3, ndisplay=2, last_used=2, range=((0.0, 32.0, 1.0), (0.0, 699.0, 1.0), (0.0, 899.0, 1.0)), current_step=(0, 0, 0), order=(0, 1, 2), axis_labels=('0', '1', '2')), grid=GridCanvas(enabled=False, stride=1, shape=(-1, -1)), layers=[<Image layer 'Image' at 0x2a314050e08>], scale_bar=ScaleBar(visible=False, colored=False, ticks=True, position='bottom_right'), active_layer=<Image layer 'Image' at 0x2a314050e08>, help='', status='Ready', theme='dark', title='napari', mouse_move_callbacks=[], mouse_drag_callbacks=[], mouse_wheel_callbacks=[<function dims_scroll at 0x000002A32E4A8798>], _persisted_mouse_event={}, _mouse_drag_gen={}, _mouse_wheel_gen={}, keymap={})"
      ]
     },
     "execution_count": 64,
     "metadata": {},
     "output_type": "execute_result"
    }
   ],
   "source": [
    "napari.view_image(prob_dat[0,...,1])"
   ]
  },
  {
   "cell_type": "markdown",
   "id": "amended-energy",
   "metadata": {},
   "source": [
    "# For annotation party: write data subset"
   ]
  },
  {
   "cell_type": "code",
   "execution_count": 1,
   "id": "understanding-cargo",
   "metadata": {
    "scrolled": true
   },
   "outputs": [
    {
     "name": "stderr",
     "output_type": "stream",
     "text": [
      "C:\\Users\\charles.fieseler\\Anaconda3\\envs\\DLC-GPU\\lib\\site-packages\\numpy\\_distributor_init.py:32: UserWarning: loaded more than 1 DLL from .libs:\n",
      "C:\\Users\\charles.fieseler\\Anaconda3\\envs\\DLC-GPU\\lib\\site-packages\\numpy\\.libs\\libopenblas.PYQHXLVVQ7VESDPUVUADXEVJOBGHJPAY.gfortran-win_amd64.dll\n",
      "C:\\Users\\charles.fieseler\\Anaconda3\\envs\\DLC-GPU\\lib\\site-packages\\numpy\\.libs\\libopenblas.TXA6YQSD3GCQQC22GEQ54J2UDCXDXHWN.gfortran-win_amd64.dll\n",
      "  stacklevel=1)\n",
      "C:\\Users\\charles.fieseler\\Anaconda3\\envs\\DLC-GPU\\lib\\site-packages\\tensorflow\\python\\framework\\dtypes.py:526: FutureWarning: Passing (type, 1) or '1type' as a synonym of type is deprecated; in a future version of numpy, it will be understood as (type, (1,)) / '(1,)type'.\n",
      "  _np_qint8 = np.dtype([(\"qint8\", np.int8, 1)])\n",
      "C:\\Users\\charles.fieseler\\Anaconda3\\envs\\DLC-GPU\\lib\\site-packages\\tensorflow\\python\\framework\\dtypes.py:527: FutureWarning: Passing (type, 1) or '1type' as a synonym of type is deprecated; in a future version of numpy, it will be understood as (type, (1,)) / '(1,)type'.\n",
      "  _np_quint8 = np.dtype([(\"quint8\", np.uint8, 1)])\n",
      "C:\\Users\\charles.fieseler\\Anaconda3\\envs\\DLC-GPU\\lib\\site-packages\\tensorflow\\python\\framework\\dtypes.py:528: FutureWarning: Passing (type, 1) or '1type' as a synonym of type is deprecated; in a future version of numpy, it will be understood as (type, (1,)) / '(1,)type'.\n",
      "  _np_qint16 = np.dtype([(\"qint16\", np.int16, 1)])\n",
      "C:\\Users\\charles.fieseler\\Anaconda3\\envs\\DLC-GPU\\lib\\site-packages\\tensorflow\\python\\framework\\dtypes.py:529: FutureWarning: Passing (type, 1) or '1type' as a synonym of type is deprecated; in a future version of numpy, it will be understood as (type, (1,)) / '(1,)type'.\n",
      "  _np_quint16 = np.dtype([(\"quint16\", np.uint16, 1)])\n",
      "C:\\Users\\charles.fieseler\\Anaconda3\\envs\\DLC-GPU\\lib\\site-packages\\tensorflow\\python\\framework\\dtypes.py:530: FutureWarning: Passing (type, 1) or '1type' as a synonym of type is deprecated; in a future version of numpy, it will be understood as (type, (1,)) / '(1,)type'.\n",
      "  _np_qint32 = np.dtype([(\"qint32\", np.int32, 1)])\n",
      "C:\\Users\\charles.fieseler\\Anaconda3\\envs\\DLC-GPU\\lib\\site-packages\\tensorflow\\python\\framework\\dtypes.py:535: FutureWarning: Passing (type, 1) or '1type' as a synonym of type is deprecated; in a future version of numpy, it will be understood as (type, (1,)) / '(1,)type'.\n",
      "  np_resource = np.dtype([(\"resource\", np.ubyte, 1)])\n"
     ]
    }
   ],
   "source": [
    "from wbfm.utils.projects.utils_data_subsets import write_data_subset_from_config\n"
   ]
  },
  {
   "cell_type": "code",
   "execution_count": 2,
   "id": "illegal-impression",
   "metadata": {
    "scrolled": true
   },
   "outputs": [
    {
     "name": "stderr",
     "output_type": "stream",
     "text": [
      "\r",
      "  0%|                                                                                           | 0/50 [00:00<?, ?it/s]"
     ]
    },
    {
     "name": "stdout",
     "output_type": "stream",
     "text": [
      "Preprocessing data, this could take a while...\n"
     ]
    },
    {
     "name": "stderr",
     "output_type": "stream",
     "text": [
      "100%|██████████████████████████████████████████████████████████████████████████████████| 50/50 [03:26<00:00,  4.13s/it]\n"
     ]
    },
    {
     "ename": "ValueError",
     "evalue": "ImageJ does not support data type 'd'",
     "output_type": "error",
     "traceback": [
      "\u001b[1;31m---------------------------------------------------------------------------\u001b[0m",
      "\u001b[1;31mValueError\u001b[0m                                Traceback (most recent call last)",
      "\u001b[1;32m<ipython-input-2-33acfbfc99aa>\u001b[0m in \u001b[0;36m<module>\u001b[1;34m\u001b[0m\n\u001b[0;32m      2\u001b[0m \u001b[0mproject_config\u001b[0m \u001b[1;33m=\u001b[0m \u001b[1;34mr'Y:\\shared_projects\\wbfm\\dlc_stacks\\Charlie-annotation-party\\project_config.yaml'\u001b[0m\u001b[1;33m\u001b[0m\u001b[1;33m\u001b[0m\u001b[0m\n\u001b[0;32m      3\u001b[0m \u001b[1;33m\u001b[0m\u001b[0m\n\u001b[1;32m----> 4\u001b[1;33m \u001b[0mwrite_data_subset_from_config\u001b[0m\u001b[1;33m(\u001b[0m\u001b[0mproject_config\u001b[0m\u001b[1;33m)\u001b[0m\u001b[1;33m\u001b[0m\u001b[1;33m\u001b[0m\u001b[0m\n\u001b[0m",
      "\u001b[1;32mc:\\users\\charles.fieseler\\documents\\current_work\\dlc_for_wbfm\\wbfm\\utils\\projects\\utils_data_subsets.py\u001b[0m in \u001b[0;36mwrite_data_subset_from_config\u001b[1;34m(project_config, out_fname)\u001b[0m\n\u001b[0;32m     24\u001b[0m \u001b[1;33m\u001b[0m\u001b[0m\n\u001b[0;32m     25\u001b[0m     \u001b[1;31m# Have to add a color channel to make format: TZCYX\u001b[0m\u001b[1;33m\u001b[0m\u001b[1;33m\u001b[0m\u001b[1;33m\u001b[0m\u001b[0m\n\u001b[1;32m---> 26\u001b[1;33m     \u001b[0mtifffile\u001b[0m\u001b[1;33m.\u001b[0m\u001b[0mimwrite\u001b[0m\u001b[1;33m(\u001b[0m\u001b[0mout_fname\u001b[0m\u001b[1;33m,\u001b[0m \u001b[0mnp\u001b[0m\u001b[1;33m.\u001b[0m\u001b[0mexpand_dims\u001b[0m\u001b[1;33m(\u001b[0m\u001b[0mpreprocessed_dat\u001b[0m\u001b[1;33m,\u001b[0m \u001b[1;36m2\u001b[0m\u001b[1;33m)\u001b[0m\u001b[1;33m,\u001b[0m \u001b[0mimagej\u001b[0m\u001b[1;33m=\u001b[0m\u001b[1;32mTrue\u001b[0m\u001b[1;33m,\u001b[0m \u001b[0mmetadata\u001b[0m\u001b[1;33m=\u001b[0m\u001b[1;33m{\u001b[0m\u001b[1;34m'axes'\u001b[0m\u001b[1;33m:\u001b[0m \u001b[1;34m'TZCYX'\u001b[0m\u001b[1;33m}\u001b[0m\u001b[1;33m)\u001b[0m\u001b[1;33m\u001b[0m\u001b[1;33m\u001b[0m\u001b[0m\n\u001b[0m",
      "\u001b[1;32m~\\Anaconda3\\envs\\DLC-GPU\\lib\\site-packages\\tifffile\\tifffile.py\u001b[0m in \u001b[0;36mimwrite\u001b[1;34m(file, data, shape, dtype, **kwargs)\u001b[0m\n\u001b[0;32m    785\u001b[0m \u001b[1;33m\u001b[0m\u001b[0m\n\u001b[0;32m    786\u001b[0m     \u001b[1;32mwith\u001b[0m \u001b[0mTiffWriter\u001b[0m\u001b[1;33m(\u001b[0m\u001b[0mfile\u001b[0m\u001b[1;33m,\u001b[0m \u001b[1;33m**\u001b[0m\u001b[0mtifargs\u001b[0m\u001b[1;33m)\u001b[0m \u001b[1;32mas\u001b[0m \u001b[0mtif\u001b[0m\u001b[1;33m:\u001b[0m\u001b[1;33m\u001b[0m\u001b[1;33m\u001b[0m\u001b[0m\n\u001b[1;32m--> 787\u001b[1;33m         \u001b[1;32mreturn\u001b[0m \u001b[0mtif\u001b[0m\u001b[1;33m.\u001b[0m\u001b[0mwrite\u001b[0m\u001b[1;33m(\u001b[0m\u001b[0mdata\u001b[0m\u001b[1;33m,\u001b[0m \u001b[0mshape\u001b[0m\u001b[1;33m,\u001b[0m \u001b[0mdtype\u001b[0m\u001b[1;33m,\u001b[0m \u001b[1;33m**\u001b[0m\u001b[0mkwargs\u001b[0m\u001b[1;33m)\u001b[0m\u001b[1;33m\u001b[0m\u001b[1;33m\u001b[0m\u001b[0m\n\u001b[0m\u001b[0;32m    788\u001b[0m \u001b[1;33m\u001b[0m\u001b[0m\n\u001b[0;32m    789\u001b[0m \u001b[1;33m\u001b[0m\u001b[0m\n",
      "\u001b[1;32m~\\Anaconda3\\envs\\DLC-GPU\\lib\\site-packages\\tifffile\\tifffile.py\u001b[0m in \u001b[0;36mwrite\u001b[1;34m(self, data, shape, dtype, photometric, planarconfig, extrasamples, volumetric, tile, contiguous, truncate, align, rowsperstrip, bitspersample, compression, predictor, subsampling, colormap, description, datetime, resolution, subfiletype, software, subifds, metadata, extratags, returnoffset, ijmetadata, compress)\u001b[0m\n\u001b[0;32m   1534\u001b[0m             \u001b[1;32mif\u001b[0m \u001b[0mdatadtypechar\u001b[0m \u001b[1;32mnot\u001b[0m \u001b[1;32min\u001b[0m \u001b[1;34m'BHhf'\u001b[0m\u001b[1;33m:\u001b[0m\u001b[1;33m\u001b[0m\u001b[1;33m\u001b[0m\u001b[0m\n\u001b[0;32m   1535\u001b[0m                 raise ValueError(\n\u001b[1;32m-> 1536\u001b[1;33m                     \u001b[1;34mf'ImageJ does not support data type {datadtypechar!r}'\u001b[0m\u001b[1;33m\u001b[0m\u001b[1;33m\u001b[0m\u001b[0m\n\u001b[0m\u001b[0;32m   1537\u001b[0m                 )\n\u001b[0;32m   1538\u001b[0m             \u001b[1;32mif\u001b[0m \u001b[0mvolumetric\u001b[0m \u001b[1;32mor\u001b[0m \u001b[1;33m(\u001b[0m\u001b[0mtile\u001b[0m \u001b[1;32mand\u001b[0m \u001b[0mlen\u001b[0m\u001b[1;33m(\u001b[0m\u001b[0mtile\u001b[0m\u001b[1;33m)\u001b[0m \u001b[1;33m>\u001b[0m \u001b[1;36m2\u001b[0m\u001b[1;33m)\u001b[0m\u001b[1;33m:\u001b[0m\u001b[1;33m\u001b[0m\u001b[1;33m\u001b[0m\u001b[0m\n",
      "\u001b[1;31mValueError\u001b[0m: ImageJ does not support data type 'd'"
     ]
    }
   ],
   "source": [
    "# FIRST, WRITE THE DATA\n",
    "project_config = r'Y:\\shared_projects\\wbfm\\dlc_stacks\\Charlie-annotation-party\\project_config.yaml'\n",
    "\n",
    "write_data_subset_from_config(project_config)"
   ]
  },
  {
   "cell_type": "markdown",
   "id": "pleasant-female",
   "metadata": {},
   "source": [
    "# Now, check for alignment"
   ]
  },
  {
   "cell_type": "code",
   "execution_count": 1,
   "id": "partial-hours",
   "metadata": {},
   "outputs": [
    {
     "name": "stderr",
     "output_type": "stream",
     "text": [
      "C:\\Users\\charles.fieseler\\Anaconda3\\envs\\DLC-GPU\\lib\\site-packages\\numpy\\_distributor_init.py:32: UserWarning: loaded more than 1 DLL from .libs:\n",
      "C:\\Users\\charles.fieseler\\Anaconda3\\envs\\DLC-GPU\\lib\\site-packages\\numpy\\.libs\\libopenblas.PYQHXLVVQ7VESDPUVUADXEVJOBGHJPAY.gfortran-win_amd64.dll\n",
      "C:\\Users\\charles.fieseler\\Anaconda3\\envs\\DLC-GPU\\lib\\site-packages\\numpy\\.libs\\libopenblas.TXA6YQSD3GCQQC22GEQ54J2UDCXDXHWN.gfortran-win_amd64.dll\n",
      "  stacklevel=1)\n"
     ]
    }
   ],
   "source": [
    "import tifffile, napari, zarr"
   ]
  },
  {
   "cell_type": "code",
   "execution_count": 29,
   "id": "dental-keyboard",
   "metadata": {},
   "outputs": [],
   "source": [
    "fname_dat = r'Y:\\shared_projects\\wbfm\\Annotation_party\\raw_data.tiff'\n",
    "dat = tifffile.imread(fname_dat)\n",
    "\n",
    "fname_seg = r'Y:\\shared_projects\\wbfm\\Annotation_party\\masks_50.zarr'\n",
    "seg = zarr.open(fname_seg, 'r')"
   ]
  },
  {
   "cell_type": "code",
   "execution_count": 3,
   "id": "desirable-humanitarian",
   "metadata": {
    "scrolled": true
   },
   "outputs": [
    {
     "data": {
      "text/plain": [
       "<Labels layer 'seg' at 0x1d101069d48>"
      ]
     },
     "execution_count": 3,
     "metadata": {},
     "output_type": "execute_result"
    }
   ],
   "source": [
    "\n",
    "viewer = napari.view_image(dat)\n",
    "viewer.add_labels(seg)"
   ]
  },
  {
   "cell_type": "markdown",
   "id": "rolled-gauge",
   "metadata": {},
   "source": [
    "# Check what removing dim slices would do"
   ]
  },
  {
   "cell_type": "code",
   "execution_count": 24,
   "id": "dried-gibraltar",
   "metadata": {},
   "outputs": [],
   "source": [
    "import numpy as np\n",
    "from tqdm.auto import tqdm"
   ]
  },
  {
   "cell_type": "code",
   "execution_count": 30,
   "id": "ordinary-protection",
   "metadata": {},
   "outputs": [],
   "source": [
    "# thresh = 15\n",
    "\n",
    "thresh_seg = np.array(seg)\n",
    "raw_vol, raw_seg = dat[0].copy(), seg[0].copy()\n"
   ]
  },
  {
   "cell_type": "code",
   "execution_count": 39,
   "id": "generic-analysis",
   "metadata": {
    "scrolled": false
   },
   "outputs": [
    {
     "data": {
      "application/vnd.jupyter.widget-view+json": {
       "model_id": "aba9fe9ad8f74fce9b9de64b63ac08ee",
       "version_major": 2,
       "version_minor": 0
      },
      "text/plain": [
       "HBox(children=(HTML(value=''), FloatProgress(value=1.0, bar_style='info', layout=Layout(width='20px'), max=1.0…"
      ]
     },
     "metadata": {},
     "output_type": "display_data"
    },
    {
     "data": {
      "application/vnd.jupyter.widget-view+json": {
       "model_id": "",
       "version_major": 2,
       "version_minor": 0
      },
      "text/plain": [
       "HBox(children=(HTML(value=''), FloatProgress(value=0.0, max=30.0), HTML(value='')))"
      ]
     },
     "metadata": {},
     "output_type": "display_data"
    },
    {
     "data": {
      "application/vnd.jupyter.widget-view+json": {
       "model_id": "",
       "version_major": 2,
       "version_minor": 0
      },
      "text/plain": [
       "HBox(children=(HTML(value=''), FloatProgress(value=0.0, max=43.0), HTML(value='')))"
      ]
     },
     "metadata": {},
     "output_type": "display_data"
    },
    {
     "data": {
      "application/vnd.jupyter.widget-view+json": {
       "model_id": "",
       "version_major": 2,
       "version_minor": 0
      },
      "text/plain": [
       "HBox(children=(HTML(value=''), FloatProgress(value=0.0, max=45.0), HTML(value='')))"
      ]
     },
     "metadata": {},
     "output_type": "display_data"
    },
    {
     "data": {
      "application/vnd.jupyter.widget-view+json": {
       "model_id": "",
       "version_major": 2,
       "version_minor": 0
      },
      "text/plain": [
       "HBox(children=(HTML(value=''), FloatProgress(value=0.0, max=38.0), HTML(value='')))"
      ]
     },
     "metadata": {},
     "output_type": "display_data"
    },
    {
     "data": {
      "application/vnd.jupyter.widget-view+json": {
       "model_id": "",
       "version_major": 2,
       "version_minor": 0
      },
      "text/plain": [
       "HBox(children=(HTML(value=''), FloatProgress(value=0.0, max=37.0), HTML(value='')))"
      ]
     },
     "metadata": {},
     "output_type": "display_data"
    },
    {
     "data": {
      "application/vnd.jupyter.widget-view+json": {
       "model_id": "",
       "version_major": 2,
       "version_minor": 0
      },
      "text/plain": [
       "HBox(children=(HTML(value=''), FloatProgress(value=0.0, max=44.0), HTML(value='')))"
      ]
     },
     "metadata": {},
     "output_type": "display_data"
    },
    {
     "data": {
      "application/vnd.jupyter.widget-view+json": {
       "model_id": "",
       "version_major": 2,
       "version_minor": 0
      },
      "text/plain": [
       "HBox(children=(HTML(value=''), FloatProgress(value=0.0, max=45.0), HTML(value='')))"
      ]
     },
     "metadata": {},
     "output_type": "display_data"
    },
    {
     "data": {
      "application/vnd.jupyter.widget-view+json": {
       "model_id": "",
       "version_major": 2,
       "version_minor": 0
      },
      "text/plain": [
       "HBox(children=(HTML(value=''), FloatProgress(value=0.0, max=41.0), HTML(value='')))"
      ]
     },
     "metadata": {},
     "output_type": "display_data"
    },
    {
     "data": {
      "application/vnd.jupyter.widget-view+json": {
       "model_id": "",
       "version_major": 2,
       "version_minor": 0
      },
      "text/plain": [
       "HBox(children=(HTML(value=''), FloatProgress(value=0.0, max=38.0), HTML(value='')))"
      ]
     },
     "metadata": {},
     "output_type": "display_data"
    },
    {
     "data": {
      "application/vnd.jupyter.widget-view+json": {
       "model_id": "",
       "version_major": 2,
       "version_minor": 0
      },
      "text/plain": [
       "HBox(children=(HTML(value=''), FloatProgress(value=0.0, max=36.0), HTML(value='')))"
      ]
     },
     "metadata": {},
     "output_type": "display_data"
    },
    {
     "data": {
      "application/vnd.jupyter.widget-view+json": {
       "model_id": "",
       "version_major": 2,
       "version_minor": 0
      },
      "text/plain": [
       "HBox(children=(HTML(value=''), FloatProgress(value=0.0, max=39.0), HTML(value='')))"
      ]
     },
     "metadata": {},
     "output_type": "display_data"
    },
    {
     "data": {
      "application/vnd.jupyter.widget-view+json": {
       "model_id": "",
       "version_major": 2,
       "version_minor": 0
      },
      "text/plain": [
       "HBox(children=(HTML(value=''), FloatProgress(value=0.0, max=44.0), HTML(value='')))"
      ]
     },
     "metadata": {},
     "output_type": "display_data"
    },
    {
     "data": {
      "application/vnd.jupyter.widget-view+json": {
       "model_id": "",
       "version_major": 2,
       "version_minor": 0
      },
      "text/plain": [
       "HBox(children=(HTML(value=''), FloatProgress(value=0.0, max=50.0), HTML(value='')))"
      ]
     },
     "metadata": {},
     "output_type": "display_data"
    },
    {
     "data": {
      "application/vnd.jupyter.widget-view+json": {
       "model_id": "",
       "version_major": 2,
       "version_minor": 0
      },
      "text/plain": [
       "HBox(children=(HTML(value=''), FloatProgress(value=0.0, max=53.0), HTML(value='')))"
      ]
     },
     "metadata": {},
     "output_type": "display_data"
    },
    {
     "data": {
      "application/vnd.jupyter.widget-view+json": {
       "model_id": "",
       "version_major": 2,
       "version_minor": 0
      },
      "text/plain": [
       "HBox(children=(HTML(value=''), FloatProgress(value=0.0, max=60.0), HTML(value='')))"
      ]
     },
     "metadata": {},
     "output_type": "display_data"
    },
    {
     "data": {
      "application/vnd.jupyter.widget-view+json": {
       "model_id": "",
       "version_major": 2,
       "version_minor": 0
      },
      "text/plain": [
       "HBox(children=(HTML(value=''), FloatProgress(value=0.0, max=62.0), HTML(value='')))"
      ]
     },
     "metadata": {},
     "output_type": "display_data"
    },
    {
     "data": {
      "application/vnd.jupyter.widget-view+json": {
       "model_id": "",
       "version_major": 2,
       "version_minor": 0
      },
      "text/plain": [
       "HBox(children=(HTML(value=''), FloatProgress(value=0.0, max=64.0), HTML(value='')))"
      ]
     },
     "metadata": {},
     "output_type": "display_data"
    },
    {
     "data": {
      "application/vnd.jupyter.widget-view+json": {
       "model_id": "",
       "version_major": 2,
       "version_minor": 0
      },
      "text/plain": [
       "HBox(children=(HTML(value=''), FloatProgress(value=0.0, max=62.0), HTML(value='')))"
      ]
     },
     "metadata": {},
     "output_type": "display_data"
    },
    {
     "data": {
      "application/vnd.jupyter.widget-view+json": {
       "model_id": "",
       "version_major": 2,
       "version_minor": 0
      },
      "text/plain": [
       "HBox(children=(HTML(value=''), FloatProgress(value=0.0, max=61.0), HTML(value='')))"
      ]
     },
     "metadata": {},
     "output_type": "display_data"
    },
    {
     "data": {
      "application/vnd.jupyter.widget-view+json": {
       "model_id": "",
       "version_major": 2,
       "version_minor": 0
      },
      "text/plain": [
       "HBox(children=(HTML(value=''), FloatProgress(value=0.0, max=55.0), HTML(value='')))"
      ]
     },
     "metadata": {},
     "output_type": "display_data"
    },
    {
     "data": {
      "application/vnd.jupyter.widget-view+json": {
       "model_id": "",
       "version_major": 2,
       "version_minor": 0
      },
      "text/plain": [
       "HBox(children=(HTML(value=''), FloatProgress(value=0.0, max=54.0), HTML(value='')))"
      ]
     },
     "metadata": {},
     "output_type": "display_data"
    },
    {
     "data": {
      "application/vnd.jupyter.widget-view+json": {
       "model_id": "",
       "version_major": 2,
       "version_minor": 0
      },
      "text/plain": [
       "HBox(children=(HTML(value=''), FloatProgress(value=0.0, max=54.0), HTML(value='')))"
      ]
     },
     "metadata": {},
     "output_type": "display_data"
    },
    {
     "data": {
      "application/vnd.jupyter.widget-view+json": {
       "model_id": "",
       "version_major": 2,
       "version_minor": 0
      },
      "text/plain": [
       "HBox(children=(HTML(value=''), FloatProgress(value=0.0, max=59.0), HTML(value='')))"
      ]
     },
     "metadata": {},
     "output_type": "display_data"
    },
    {
     "data": {
      "application/vnd.jupyter.widget-view+json": {
       "model_id": "",
       "version_major": 2,
       "version_minor": 0
      },
      "text/plain": [
       "HBox(children=(HTML(value=''), FloatProgress(value=0.0, max=61.0), HTML(value='')))"
      ]
     },
     "metadata": {},
     "output_type": "display_data"
    },
    {
     "data": {
      "application/vnd.jupyter.widget-view+json": {
       "model_id": "",
       "version_major": 2,
       "version_minor": 0
      },
      "text/plain": [
       "HBox(children=(HTML(value=''), FloatProgress(value=0.0, max=62.0), HTML(value='')))"
      ]
     },
     "metadata": {},
     "output_type": "display_data"
    },
    {
     "data": {
      "application/vnd.jupyter.widget-view+json": {
       "model_id": "",
       "version_major": 2,
       "version_minor": 0
      },
      "text/plain": [
       "HBox(children=(HTML(value=''), FloatProgress(value=0.0, max=62.0), HTML(value='')))"
      ]
     },
     "metadata": {},
     "output_type": "display_data"
    },
    {
     "data": {
      "application/vnd.jupyter.widget-view+json": {
       "model_id": "",
       "version_major": 2,
       "version_minor": 0
      },
      "text/plain": [
       "HBox(children=(HTML(value=''), FloatProgress(value=0.0, max=63.0), HTML(value='')))"
      ]
     },
     "metadata": {},
     "output_type": "display_data"
    },
    {
     "data": {
      "application/vnd.jupyter.widget-view+json": {
       "model_id": "",
       "version_major": 2,
       "version_minor": 0
      },
      "text/plain": [
       "HBox(children=(HTML(value=''), FloatProgress(value=0.0, max=64.0), HTML(value='')))"
      ]
     },
     "metadata": {},
     "output_type": "display_data"
    },
    {
     "data": {
      "application/vnd.jupyter.widget-view+json": {
       "model_id": "",
       "version_major": 2,
       "version_minor": 0
      },
      "text/plain": [
       "HBox(children=(HTML(value=''), FloatProgress(value=0.0, max=71.0), HTML(value='')))"
      ]
     },
     "metadata": {},
     "output_type": "display_data"
    },
    {
     "data": {
      "application/vnd.jupyter.widget-view+json": {
       "model_id": "",
       "version_major": 2,
       "version_minor": 0
      },
      "text/plain": [
       "HBox(children=(HTML(value=''), FloatProgress(value=0.0, max=75.0), HTML(value='')))"
      ]
     },
     "metadata": {},
     "output_type": "display_data"
    },
    {
     "data": {
      "application/vnd.jupyter.widget-view+json": {
       "model_id": "",
       "version_major": 2,
       "version_minor": 0
      },
      "text/plain": [
       "HBox(children=(HTML(value=''), FloatProgress(value=0.0, max=65.0), HTML(value='')))"
      ]
     },
     "metadata": {},
     "output_type": "display_data"
    },
    {
     "data": {
      "application/vnd.jupyter.widget-view+json": {
       "model_id": "",
       "version_major": 2,
       "version_minor": 0
      },
      "text/plain": [
       "HBox(children=(HTML(value=''), FloatProgress(value=0.0, max=58.0), HTML(value='')))"
      ]
     },
     "metadata": {},
     "output_type": "display_data"
    },
    {
     "name": "stdout",
     "output_type": "stream",
     "text": [
      "\n"
     ]
    }
   ],
   "source": [
    "\n",
    "new_seg = raw_seg.copy()\n",
    "thresh = 1.1 * np.mean(raw_vol)\n",
    "\n",
    "for vol_slice, seg_slice, new_seg_slice in tqdm(zip(raw_vol, raw_seg, new_seg)):\n",
    "    all_neurons = np.unique(seg_slice)\n",
    "    for neuron in tqdm(all_neurons, leave=False):\n",
    "        if neuron==0:\n",
    "            continue\n",
    "        mask = seg_slice==neuron\n",
    "        brightness = np.nanmean(vol_slice[mask])\n",
    "        if brightness < thresh:\n",
    "            new_seg_slice[mask] = 0"
   ]
  },
  {
   "cell_type": "code",
   "execution_count": 40,
   "id": "operational-repair",
   "metadata": {},
   "outputs": [
    {
     "data": {
      "text/plain": [
       "<Labels layer 'raw_seg' at 0x1d107cc4448>"
      ]
     },
     "execution_count": 40,
     "metadata": {},
     "output_type": "execute_result"
    }
   ],
   "source": [
    "\n",
    "viewer = napari.view_image(raw_vol)\n",
    "viewer.add_labels(new_seg)\n",
    "viewer.add_labels(raw_seg)"
   ]
  },
  {
   "cell_type": "code",
   "execution_count": null,
   "id": "desirable-favor",
   "metadata": {},
   "outputs": [],
   "source": []
  },
  {
   "cell_type": "code",
   "execution_count": null,
   "id": "controlled-appliance",
   "metadata": {},
   "outputs": [],
   "source": []
  },
  {
   "cell_type": "code",
   "execution_count": null,
   "id": "psychological-stone",
   "metadata": {},
   "outputs": [],
   "source": []
  },
  {
   "cell_type": "code",
   "execution_count": null,
   "id": "level-verse",
   "metadata": {},
   "outputs": [],
   "source": []
  },
  {
   "cell_type": "code",
   "execution_count": null,
   "id": "developmental-redhead",
   "metadata": {},
   "outputs": [],
   "source": []
  },
  {
   "cell_type": "code",
   "execution_count": null,
   "id": "negative-australia",
   "metadata": {},
   "outputs": [],
   "source": []
  },
  {
   "cell_type": "code",
   "execution_count": null,
   "id": "meaningful-grill",
   "metadata": {},
   "outputs": [],
   "source": []
  },
  {
   "cell_type": "code",
   "execution_count": null,
   "id": "moved-practice",
   "metadata": {},
   "outputs": [],
   "source": []
  },
  {
   "cell_type": "code",
   "execution_count": null,
   "id": "grateful-perry",
   "metadata": {},
   "outputs": [],
   "source": []
  },
  {
   "cell_type": "code",
   "execution_count": null,
   "id": "boring-portfolio",
   "metadata": {},
   "outputs": [],
   "source": []
  },
  {
   "cell_type": "code",
   "execution_count": null,
   "id": "reflected-spending",
   "metadata": {},
   "outputs": [],
   "source": []
  },
  {
   "cell_type": "code",
   "execution_count": null,
   "id": "ambient-pearl",
   "metadata": {},
   "outputs": [],
   "source": []
  }
 ],
 "metadata": {
  "kernelspec": {
   "display_name": "Python [conda env:DLC-GPU]",
   "language": "python",
   "name": "conda-env-DLC-GPU-py"
  },
  "language_info": {
   "codemirror_mode": {
    "name": "ipython",
    "version": 3
   },
   "file_extension": ".py",
   "mimetype": "text/x-python",
   "name": "python",
   "nbconvert_exporter": "python",
   "pygments_lexer": "ipython3",
   "version": "3.7.10"
  }
 },
 "nbformat": 4,
 "nbformat_minor": 5
}
