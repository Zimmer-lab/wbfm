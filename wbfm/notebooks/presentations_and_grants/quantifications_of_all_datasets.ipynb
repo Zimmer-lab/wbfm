{
 "cells": [
  {
   "cell_type": "code",
   "execution_count": 1,
   "id": "a2945f0b-8b2c-41f4-8de1-0d4383c11eea",
   "metadata": {},
   "outputs": [
    {
     "name": "stderr",
     "output_type": "stream",
     "text": [
      "/home/charles/anaconda3/envs/wbfm/lib/python3.7/site-packages/_distutils_hack/__init__.py:33: UserWarning: Setuptools is replacing distutils.\n",
      "  warnings.warn(\"Setuptools is replacing distutils.\")\n"
     ]
    }
   ],
   "source": [
    "%load_ext autoreload\n",
    "%autoreload 2\n",
    "import matplotlib.pyplot as plt\n",
    "from wbfm.utils.projects.finished_project_data import ProjectData\n",
    "import napari\n",
    "import pandas as pd\n",
    "from tqdm.auto import tqdm\n",
    "import numpy as np\n",
    "from pathlib import Path\n",
    "from collections import defaultdict\n",
    "import zarr\n",
    "import logging\n",
    "import seaborn as sns\n",
    "import glob\n",
    "import os"
   ]
  },
  {
   "cell_type": "markdown",
   "id": "6bf62703-5547-4b6f-a360-93cd52b745fe",
   "metadata": {
    "jp-MarkdownHeadingCollapsed": true,
    "tags": []
   },
   "source": [
    "# Functions"
   ]
  },
  {
   "cell_type": "code",
   "execution_count": 2,
   "id": "c849fe4a-1753-4a7d-999e-19ea69b8afa4",
   "metadata": {},
   "outputs": [],
   "source": [
    "def df_from_list(list_of_annotations, col_name_base):\n",
    "    all_vals = defaultdict(list)\n",
    "    for proj in list_of_annotations:\n",
    "        for k, v in proj.items():\n",
    "            if isinstance(v, list):\n",
    "                all_vals[k].append(len(v))\n",
    "                \n",
    "    all_vals['title'] = [col_name_base] * len(list_of_annotations)\n",
    "\n",
    "    idx_names = [f'{col_name_base}_{i}' for i in range(len(list_of_annotations))]\n",
    "    df = pd.DataFrame(all_vals, index=idx_names)\n",
    "    \n",
    "    return df"
   ]
  },
  {
   "cell_type": "code",
   "execution_count": 3,
   "id": "b6be0849-2b15-469d-9e39-f5b0cc2932e3",
   "metadata": {},
   "outputs": [],
   "source": [
    "def append_excel_counts_to_dataframe(df_all_datasets, fname, key):\n",
    "    # New method of loading (append directly to dataframe)\n",
    "    df = pd.read_excel(fname)\n",
    "    counts = df['List ID'].value_counts()\n",
    "    df_all_datasets.loc[key, :] = [int(counts[1]), int(counts[2]), 0, key.split('_')[0]]\n",
    "    \n",
    "    return df_all_datasets"
   ]
  },
  {
   "cell_type": "code",
   "execution_count": 4,
   "id": "d0851913-b64e-4679-aa80-29f76e9141f5",
   "metadata": {},
   "outputs": [],
   "source": [
    "def build_dataframe_from_projects_in_folder(folder, key):\n",
    "    all_dicts = dict()\n",
    "    index = 0\n",
    "    for project_path in glob.glob(f\"{folder}/*\"):\n",
    "        print(f\"Checking: {project_path}\")\n",
    "        if Path(project_path).is_dir():\n",
    "            fname = os.path.join(project_path, 'visualization', 'selected_neurons.csv')\n",
    "            if Path(fname).exists():\n",
    "                dict_key = f\"{key}_{index}\"                \n",
    "                \n",
    "                counts = pd.read_csv(fname)['List ID'].value_counts().to_dict()\n",
    "                these_counts = [int(counts.get(1, 0)), int(counts.get(2, 0)), 0, key]\n",
    "                if these_counts[0] == 0:\n",
    "                    # Then it wasn't actually annotated\n",
    "                    logging.warning(f\"Project {project_path} was not annotated\")\n",
    "                    continue\n",
    "                else:\n",
    "                    index += 1\n",
    "                    all_dicts[dict_key] = these_counts\n",
    "\n",
    "    df = pd.DataFrame(all_dicts).T\n",
    "    df.columns = ['high', 'low', 'possible', 'title']\n",
    "    \n",
    "    print(f\"Found {df.shape[0]} annotated projects\")\n",
    "    \n",
    "    return df"
   ]
  },
  {
   "cell_type": "markdown",
   "id": "ac58972c-b6ba-4768-b3f7-6fd83965da77",
   "metadata": {
    "tags": []
   },
   "source": [
    "# Loading all projects"
   ]
  },
  {
   "cell_type": "code",
   "execution_count": 5,
   "id": "67260c18-4cb1-4922-9967-13484bdb37f7",
   "metadata": {
    "tags": []
   },
   "outputs": [],
   "source": [
    "from wbfm.utils.visualization.load_all_projects import *"
   ]
  },
  {
   "cell_type": "code",
   "execution_count": null,
   "id": "f47c235c-9a58-4eb3-a7e3-351d76644d4a",
   "metadata": {},
   "outputs": [],
   "source": []
  },
  {
   "cell_type": "markdown",
   "id": "6837293c-7b49-4e0c-94db-30e4862dbc05",
   "metadata": {
    "tags": []
   },
   "source": [
    "# Manually annotate which neurons show high, low, or possible activity\n"
   ]
  },
  {
   "cell_type": "markdown",
   "id": "8246c33f-7bc7-4d65-8544-ce222fc96a01",
   "metadata": {},
   "source": [
    "\n",
    "High - Can almost certainly get good behavioral correlations. May still show motion artifacts\n",
    "\n",
    "Low - Probably can't do good correlation based work, but might after additional cleanup. Show low signal, significant artifacts, or lots of gaps\n",
    "\n",
    "Possible - Can't do work with this without significant cleanup. May be entirely artifact\n",
    "\n",
    "Also: a description of the level of motion artifacts. 0 = Not visible (none of the datasets); 1 = Low (Many neurons seem undisturbed by artifacts, but they are clear in low signal ones); 2 = Medium (Even neurons with signal have visible artifacts, but they are clearly lower amplitude); 3 = High (Even highest signal neurons have comparible artifacts)"
   ]
  },
  {
   "cell_type": "markdown",
   "id": "0b5a39cc-769f-4794-b901-5107f3660620",
   "metadata": {
    "tags": []
   },
   "source": [
    "## Original dim"
   ]
  },
  {
   "cell_type": "code",
   "execution_count": 6,
   "id": "bc69ca38-ca8e-4653-b9eb-348cd4e9a1fb",
   "metadata": {},
   "outputs": [],
   "source": [
    "project1_active = dict(\n",
    "    high = [1, 41, 111, 7, 17, 22, 27, 117, 28, 33, 118, 128, 20],\n",
    "    low = [6, 16, 21, 36, 71, 47, 122, 142, 13, 68, 105],\n",
    "    possible = [26, 76, 91, 116, 141, 12, 57, 102, 107, 83, 123, 29, 54, 59, 69, 74, 15, 25, 55, 60, 120, 125],\n",
    "    motion_artifact_level = 1)\n",
    "\n",
    "project2_active = dict(\n",
    "    high = [61, 87, 102, 128, 4, 103, 80],\n",
    "    low = [66, 62, 97, 3, 8, 93, 108, 118, 9, 24, 34, 93, 74, 94, 15, 40, 95],\n",
    "    possible = [7, 1, 6, 21, 26, 12, 147, 13, 38, 58, 68, 64, 79, 114, 20, 45, 70, 160],\n",
    "    motion_artifact_level = 1)\n",
    "\n",
    "\n",
    "project4_active = dict(\n",
    "    high = [83],\n",
    "    low = [88, 103, 119, 40, 70, 65, 130],\n",
    "    possible = [113, 140, 65, 14, 117],\n",
    "    motion_artifact_level = 2)\n",
    "\n",
    "annotations = [project1_active, project2_active, project4_active]\n",
    "df_dim = df_from_list(annotations, 'original_laser600')"
   ]
  },
  {
   "cell_type": "code",
   "execution_count": 7,
   "id": "c4de16f5-5c9d-4ec1-8647-659b35e820a0",
   "metadata": {},
   "outputs": [],
   "source": [
    "# df_dim"
   ]
  },
  {
   "cell_type": "code",
   "execution_count": 8,
   "id": "f5e2fb0a-c0a1-4336-990d-d2b874e5b152",
   "metadata": {},
   "outputs": [],
   "source": [
    "# Not manually annotated\n",
    "\n",
    "# Round 2 worm 3\n",
    "project3_active = dict(\n",
    "    high = [76, 121, 22, 32, 62, 143, 4, 59, 134, 75],\n",
    "    low = [11, 16, 56, 91, 126, 17, 8, 29, 34, 39, 84, 84, 94, 129, 139, 5, 35, 40, 85],\n",
    "    possible = [2, 52, 82, 132, 13, 33, 43, 63, 68, 103, 108, 99, 25, 140, 125],\n",
    "    motion_artifact_level = 1)\n",
    "\n",
    "# round2 worm4\n",
    "project5_active = dict(\n",
    "    high = [30, ],\n",
    "    low = [1, 138, 24, 138, 64, 15, 85, 145, 155],\n",
    "    possible = [],\n",
    "    motion_artifact_level = 1)\n",
    "\n",
    "# round2 worm4_1\n",
    "project6_active = dict(\n",
    "    high = [72, 19],\n",
    "    low = [11, 136, 57, 63, 19, 64, 124, 135],\n",
    "    possible = [],\n",
    "    motion_artifact_level = 1)\n",
    "\n",
    "\n",
    "annotations = [project1_active, project2_active, project3_active, project4_active, project5_active, project6_active]\n",
    "df_dim_all = df_from_list(annotations, 'original_laser600')"
   ]
  },
  {
   "cell_type": "markdown",
   "id": "647cfc6c-aef8-46c8-bbbe-4e96d147223c",
   "metadata": {
    "tags": []
   },
   "source": [
    "## Old bright"
   ]
  },
  {
   "cell_type": "code",
   "execution_count": 9,
   "id": "711b4ecb-47e1-4e55-b642-338c4c3a3b9c",
   "metadata": {},
   "outputs": [],
   "source": [
    "project_bright1_active = dict(\n",
    "    high = [1, 46, 26, 72, 117, 8, 23, 33, 38, 29, 39, 139, 55, ],\n",
    "    low = [6, 11 , 31, 36, 51, 61, 66, 106, 116, 136, 32, 102, 112, 122, 147, 13, 18, 128, 9, 19, 24, 34, 54, 79, 94, 20, 35, 40, 45, 50, 70, 95, 110, 120, 125, 140, 135, 145],\n",
    "    possible = [31, 7, 47],\n",
    "    motion_artifact_level = 1)\n",
    "\n",
    "project_bright2_active = dict(\n",
    "    high = [41, 91, 2, 62, 146, 20],\n",
    "    low = [16, 21, 56, 61, 71, 136, 27, 32, 57, 77, 87, 68, 73, 78, 133, 4, 94, 99, 114, 40, ],\n",
    "    possible = [103, 65, 85, 100, 115, 120, 145, 1, 7, 22, 31, 81, 126, 17, 8, 138],\n",
    "    motion_artifact_level = 3)\n",
    "\n",
    "annotations = [project_bright1_active, project_bright2_active]\n",
    "df_bright = df_from_list(annotations, 'december_laser800')"
   ]
  },
  {
   "cell_type": "code",
   "execution_count": 10,
   "id": "b959de0d-7be6-4a37-a2d8-8d0125c74129",
   "metadata": {},
   "outputs": [],
   "source": [
    "# Not manually annotated\n",
    "\n",
    "# Bright6\n",
    "project_bright3_active = dict(\n",
    "    high = [6, 26, 61, 61, 116, 102, 33, 43, 78, 108, 4, 39, 109, 70, 140, 4],\n",
    "    low = [86, 71, 111, 121, 141, 2, 27, 22, 77, 112, 137, 58, 108, 14, 24, 29, 34, 44, 94, 119, 10, 20, 25, 35, 30, 45, 55, 60, 90, 100, 105, 135],\n",
    "    possible = [],\n",
    "    motion_artifact_level = 1)\n",
    "\n",
    "annotations = [project_bright1_active, project_bright2_active, project_bright3_active]\n",
    "df_bright_all = df_from_list(annotations, 'december_laser800')"
   ]
  },
  {
   "cell_type": "markdown",
   "id": "3ff8b524-c1a5-431e-9864-37443cd5b1c8",
   "metadata": {
    "tags": []
   },
   "source": [
    "## New bright"
   ]
  },
  {
   "cell_type": "code",
   "execution_count": 11,
   "id": "7b0a613d-d33c-42d9-87a8-37c4db53d2a7",
   "metadata": {},
   "outputs": [],
   "source": [
    "# None manually annotated\n",
    "\n",
    "project_bright_C1_active = dict(\n",
    "    high = [138, 13, 86, ],\n",
    "    low = [41, 112, 113, ],\n",
    "    possible = [],\n",
    "    motion_artifact_level = 1)\n",
    "\n",
    "project_bright_C2_active = dict(\n",
    "    high = [7, 22, 68, 83, 19, 105, 135, 59],\n",
    "    low = [73, 98, 54, 74, 69, 35, 70, 100, 140],\n",
    "    possible = [],\n",
    "    motion_artifact_level = 2)\n",
    "\n",
    "project_bright_C3_active = dict(\n",
    "    high = [17, 38, 64, ],\n",
    "    low = [6, 31, 72, 56, 103, 4, 25, 100, 125],\n",
    "    possible = [],\n",
    "    motion_artifact_level = 1)\n",
    "\n",
    "project_bright_C4_active = dict(\n",
    "    high = [11, 26, 86, 17, 62, 3, 8, 64, 25, 60, ],\n",
    "    low = [6, 16, 96, 111, 47, 33, 4, 29, 49, 89, 104, 129, 75, 95, 100, 120],\n",
    "    possible = [],\n",
    "    motion_artifact_level = 1)\n",
    "\n",
    "\n",
    "annotations = [project_bright_C1_active, project_bright_C2_active, project_bright_C3_active, project_bright_C4_active]\n",
    "df_bright_new = df_from_list(annotations, 'new_laser800')"
   ]
  },
  {
   "cell_type": "markdown",
   "id": "f2dc7afc-4e17-4a1b-896f-065c3ed353d2",
   "metadata": {
    "tags": []
   },
   "source": [
    "## Exposure 12ms"
   ]
  },
  {
   "cell_type": "code",
   "execution_count": 12,
   "id": "581ab7d5-875b-4136-8726-0442661ac35a",
   "metadata": {},
   "outputs": [],
   "source": [
    "project_12exp1_active = dict(\n",
    "    high = [111, 126, 48, 44, 54, 59, 119, 25, 40, 45, 50],\n",
    "    low = [6, 141, 7, 22, 92, 127, 142, 123, 109, 35, 105, 135],\n",
    "    possible = [],\n",
    "    motion_artifact_level = 1)\n",
    "\n",
    "project_12exp2_active = dict(\n",
    "    high = [11, 41, 71, 96, 116, 106, 7, 17, 3, 43, 53, 58, 63, 143, 9, 14, 19, 24, 29, 74, 85],\n",
    "    low = [26, 36, 46, 81, 91, 136, 146, 2, 12, 42, 67, 72, 38, 28, 73, 108, 153, 4, 79, 124, 10, 20, 65, 90, 95, 120, 130, 150],\n",
    "    possible = [],\n",
    "    motion_artifact_level = 1)\n",
    "\n",
    "project_12exp3_active = dict(\n",
    "    high = [46, 61, 81, 122, 3, 28, 118, 49, 74, 135],\n",
    "    low = [6, 36, 96, 101, 126, 52, 57, 97, 8, 58, 63, 9, 4, 104, 94, 119, 144, 20, 10, 5, 40, 25, 75, 90, 100, 145, 155],\n",
    "    possible = [],\n",
    "    motion_artifact_level = 1)\n",
    "\n",
    "project_12exp4_active = dict(\n",
    "    high = [16, 66, 91, 7, 42, 18, 33, 63, 93, 133, 79, ],\n",
    "    low = [21, 26, 121, 126, 72, 82, 97, 157, 147, 43, 48, 58, 68, 73, 143, 4, 9, 14, 104, 99, 5, 25, 125, 120],\n",
    "    possible = [],\n",
    "    motion_artifact_level = 1)\n",
    "\n",
    "project_12exp6_active = dict(\n",
    "    high = [21, 31, 76, 131, 186, 115, 10, 85, 94],\n",
    "    low = [11, 56, 96, 151, 196, 127, 172, 182, 207, 3, 18, 53, 88, 163, 4, 134, 10, 85, 75, 60, ],\n",
    "    possible = [],\n",
    "    motion_artifact_level = 2)\n",
    "\n",
    "project_12exp11_active = dict(\n",
    "    high = [46, 56, 81, 106, 17, 47, 57, 97, 122, 157, 13, 23, 58, 83, 39, 44, 59, 69, 30, 80, 100, 110],\n",
    "    low = [16, 86, 146, 32, 72, 82, 132, 8, 68, 78, 98, 4, 14, 64, 74, 139, 30, 15, 105],\n",
    "    possible = [],\n",
    "    motion_artifact_level = 1)\n",
    "\n",
    "project_12exp12_active = dict(\n",
    "    high = [31, 66, 106, 121, 22, 37, 23, 33, 63, 118, 14, 84, 119, 5, 35, 40, 75, 85, 90, 95, 130, 119],\n",
    "    low = [1, 6, 56, 61, 81, 101, 141, 2, 7, 67, 82, 87, 92, 97, 152, 3, 8, 48, 93, 4, 49, 79, 84, 94, 25, 30, 50, 80, 140],\n",
    "    possible = [],\n",
    "    motion_artifact_level = 1)\n",
    "\n",
    "annotations = [project_12exp1_active, project_12exp2_active, project_12exp3_active, project_12exp4_active, project_12exp6_active, project_12exp11_active, project_12exp12_active]\n",
    "df_exp12 = df_from_list(annotations, 'exp12')"
   ]
  },
  {
   "cell_type": "code",
   "execution_count": 13,
   "id": "5eab58bd-029a-47db-8cf2-165df1f7a0f1",
   "metadata": {},
   "outputs": [],
   "source": [
    "project_12exp3_active = dict(\n",
    "    high = [],\n",
    "    low = [],\n",
    "    possible = [],\n",
    "    motion_artifact_level = 1)"
   ]
  },
  {
   "cell_type": "markdown",
   "id": "426cab96-bcd1-44fc-bdc4-1ff1e898b1cc",
   "metadata": {
    "tags": []
   },
   "source": [
    "## Double gcamp"
   ]
  },
  {
   "cell_type": "code",
   "execution_count": 14,
   "id": "a2cbe3d9-47b0-4fe9-a139-316fa2c55b4f",
   "metadata": {},
   "outputs": [],
   "source": [
    "project_1_2gcamp_6ms = dict(\n",
    "    high = [101, 111, 121, 126, 7, 12, 87, 97, 137, 78, 123, 34, 59, 84, 94, 104, 159, 10, 35, 75, 80, 130],\n",
    "    low = [1, 11, 16, 21, 26, 31, 92, 43, 44, 69, 74, 79, 15, 65, 110, 125],\n",
    "    possible = [],\n",
    "    motion_artifact_level = 1)\n",
    "\n",
    "project_2_2gcamp_6ms = dict(\n",
    "    high = [61, 86, 136, 2, 17, 23, 28, 98, 113, 4, 29, 49, 59, 84, 15, 75, 100, 110, 130],\n",
    "    low = [1, 11, 21, 26, 101, 111, 146, 7, 27, 118, 163, 9, 50, 55, 80],\n",
    "    possible = [],\n",
    "    motion_artifact_level = 1)\n",
    "\n",
    "\n",
    "annotations = [project_1_2gcamp_6ms, project_2_2gcamp_6ms]\n",
    "df_2gcamp_6ms = df_from_list(annotations, 'gcamp2_exp6')"
   ]
  },
  {
   "cell_type": "code",
   "execution_count": 15,
   "id": "aa356fc2-1d14-40d5-88de-89114aeb0100",
   "metadata": {},
   "outputs": [],
   "source": [
    "project_1_2gcamp_12ms = dict(\n",
    "    high = [6, 16, 61, 76, 81, 86, 91, 116, 121, 32, 72, 28, 53, 4, 19, 39, 10, 30, 35, 40, 45, 70, 90, 115],\n",
    "    low = [11, 51, 56, 66, 37, 102, 137, 38, 83, 118, 74, 114, 134, 5, 25, 65, 110],\n",
    "    possible = [],\n",
    "    motion_artifact_level = 1)\n",
    "\n",
    "project_2_2gcamp_12ms = dict(\n",
    "    high = [1, 2, 27, 102, 117, 18, 4, 49, 84, 35, 90, 105, 130, 34],\n",
    "    low = [6, 51, 106, 111, 42, 47, 127, 142, 172, 83, 103, 9, 59, 89, 139, 55, 85, 110],\n",
    "    possible = [],\n",
    "    motion_artifact_level = 1)\n",
    "\n",
    "\n",
    "annotations = [project_1_2gcamp_12ms, project_2_2gcamp_12ms]\n",
    "df_2gcamp_12ms = df_from_list(annotations, 'gcamp2_exp12')"
   ]
  },
  {
   "cell_type": "markdown",
   "id": "7e5ba46e-e148-429e-8c1a-dcb27cdb3baa",
   "metadata": {
    "tags": []
   },
   "source": [
    "## Gcamp7b"
   ]
  },
  {
   "cell_type": "code",
   "execution_count": 16,
   "id": "10ac909a-35ac-4e51-8cdc-094e488e2425",
   "metadata": {},
   "outputs": [],
   "source": [
    "project_1_gcamp7b = dict(\n",
    "    high = [6, 31, 36, 91, 111, 136, 176, 32, 57, 67, 87, 92, 18, 94, 35, 65, 85],\n",
    "    low = [1, 51, 101, 92, 102, 132, 3, 68, 223, 80, 125, 150, 200],\n",
    "    possible = [],\n",
    "    motion_artifact_level = 1)\n",
    "\n",
    "project_data3_gcamp7b = dict(\n",
    "    high = [6, 41, 46, 66, 71, 81, 111, 116, 2, 12, 32, 47, 57, 117, 3, 23, 58, 68, 98, 133, 29, 39, 79, 10, 30, 35, 55, 60, 85, 95],\n",
    "    low = [1, 61, 146, 17, 27, 77, 87, 97, 122, 147, 142, 53, 78, 83, 123, 153, 4, 9, 54, 109, 114, 5, 45, 80, 125, 135 ],\n",
    "    possible = [],\n",
    "    motion_artifact_level = 1)\n",
    "\n",
    "project_data4_gcamp7b = dict(\n",
    "    high = [36, 51, 66, 86, 101, 17, 27, 32, 42, 52, 67, 82, 92, 97, 102, 3, 38, 68, 78, 93, 113, 143, 9, 24, 34, 79, 99, 144, 10, 15, 35, 95, 150],\n",
    "    low = [16, 21, 26, 12, 107, 58, 88, 138, 4, 30, 20, 140],\n",
    "    possible = [],\n",
    "    motion_artifact_level = 1)\n",
    "\n",
    "project_data5_gcamp7b = dict(\n",
    "    high = [36, 51, 61, 81, 156, 7, 12, 42, 67, 87, 122, 132, 3, 18, 9, 14, 15, 55, 75, 135],\n",
    "    low = [6, 31, 126, 151, 17, 37, 48, 58, 153, 24, 69, 99, 159, 40, 115, 140, 150],\n",
    "    possible = [],\n",
    "    motion_artifact_level = 1)"
   ]
  },
  {
   "cell_type": "code",
   "execution_count": 17,
   "id": "31354671-b576-4a82-99b4-3943d27a65f8",
   "metadata": {},
   "outputs": [],
   "source": [
    "annotations = [project_1_gcamp7b, project_data3_gcamp7b, project_data4_gcamp7b, project_data5_gcamp7b]\n",
    "df_gcamp7b = df_from_list(annotations, 'gcamp7b')\n",
    "\n",
    "# New method of loading (append directly to above)\n",
    "fname = \"/scratch/neurobiology/zimmer/Charles/dlc_stacks/gcamp7b_sharpened/ZIM2165_Gcamp7b_worm6-2022_10_14_sharpened_1_10/visualization/selected_neurons.xlsx\"\n",
    "key = 'gcamp7b_4'\n",
    "df_gcamp7b = append_excel_counts_to_dataframe(df_gcamp7b, fname, key)\n",
    "\n",
    "fname = \"/scratch/neurobiology/zimmer/Charles/dlc_stacks/gcamp7b_sharpened/ZIM2165_Gcamp7b_worm7-2022_10_14_sharpened_1_10/visualization/selected_neurons.xlsx\"\n",
    "key = 'gcamp7b_5'\n",
    "df_gcamp7b = append_excel_counts_to_dataframe(df_gcamp7b, fname, key)\n",
    "\n",
    "fname = \"/scratch/neurobiology/zimmer/Charles/dlc_stacks/gcamp7b_sharpened/ZIM2165_Gcamp7b_worm9-2022_10_14_sharpened_1_10/visualization/selected_neurons.xlsx\"\n",
    "key = 'gcamp7b_6'\n",
    "df_gcamp7b = append_excel_counts_to_dataframe(df_gcamp7b, fname, key)"
   ]
  },
  {
   "cell_type": "markdown",
   "id": "21078777-f517-43e7-a033-56a450cde260",
   "metadata": {
    "tags": []
   },
   "source": [
    "## With spacer"
   ]
  },
  {
   "cell_type": "code",
   "execution_count": 18,
   "id": "1538478b-8685-4310-8470-8ecf5f346c4b",
   "metadata": {},
   "outputs": [
    {
     "name": "stdout",
     "output_type": "stream",
     "text": [
      "Checking: /scratch/neurobiology/zimmer/Charles/dlc_stacks/with_spacer_7b/worm1-2022_11_22\n",
      "Checking: /scratch/neurobiology/zimmer/Charles/dlc_stacks/with_spacer_7b/worm3-2022_11_22\n",
      "Checking: /scratch/neurobiology/zimmer/Charles/dlc_stacks/with_spacer_7b/worm4-2022_11_22\n",
      "Checking: /scratch/neurobiology/zimmer/Charles/dlc_stacks/with_spacer_7b/worm5-2022_11_22\n",
      "Checking: /scratch/neurobiology/zimmer/Charles/dlc_stacks/with_spacer_7b/worm5_2-2022_11_22\n",
      "Checking: /scratch/neurobiology/zimmer/Charles/dlc_stacks/with_spacer_7b/20221123-2022_11_2-10\n",
      "Checking: /scratch/neurobiology/zimmer/Charles/dlc_stacks/with_spacer_7b/20221123-2022_11_2-11\n",
      "Checking: /scratch/neurobiology/zimmer/Charles/dlc_stacks/with_spacer_7b/20221123-2022_11_2-12\n",
      "Checking: /scratch/neurobiology/zimmer/Charles/dlc_stacks/with_spacer_7b/20221123-2022_11_24-7\n",
      "Checking: /scratch/neurobiology/zimmer/Charles/dlc_stacks/with_spacer_7b/20221123-2022_11_24-8\n",
      "Checking: /scratch/neurobiology/zimmer/Charles/dlc_stacks/with_spacer_7b/20221123-2022_11_24-9\n",
      "Checking: /scratch/neurobiology/zimmer/Charles/dlc_stacks/with_spacer_7b/20221123-2022_11_24\n",
      "Found 10 annotated projects\n"
     ]
    }
   ],
   "source": [
    "folder = \"/scratch/neurobiology/zimmer/Charles/dlc_stacks/with_spacer_7b/\"\n",
    "key = \"gcamp7b_spacer\"\n",
    "df_gcamp7b_spacer = build_dataframe_from_projects_in_folder(folder, key)"
   ]
  },
  {
   "cell_type": "code",
   "execution_count": 19,
   "id": "a4924724-cceb-4d7d-ac61-3fc8251a0f5f",
   "metadata": {},
   "outputs": [
    {
     "name": "stdout",
     "output_type": "stream",
     "text": [
      "Checking: /scratch/neurobiology/zimmer/Charles/dlc_stacks/with_spacer_7b_2per_agar/20221123-2022_11_24-1\n",
      "Checking: /scratch/neurobiology/zimmer/Charles/dlc_stacks/with_spacer_7b_2per_agar/20221123-2022_11_24-2\n",
      "Checking: /scratch/neurobiology/zimmer/Charles/dlc_stacks/with_spacer_7b_2per_agar/20221123-2022_11_24-3\n",
      "Checking: /scratch/neurobiology/zimmer/Charles/dlc_stacks/with_spacer_7b_2per_agar/20221123-2022_11_2-13\n",
      "Checking: /scratch/neurobiology/zimmer/Charles/dlc_stacks/with_spacer_7b_2per_agar/20221123-2022_11_2-14\n",
      "Found 5 annotated projects\n"
     ]
    }
   ],
   "source": [
    "folder = \"/scratch/neurobiology/zimmer/Charles/dlc_stacks/with_spacer_7b_2per_agar/\"\n",
    "key = \"gcamp7b_spacer_2per\"\n",
    "df_gcamp7b_spacer_2per = build_dataframe_from_projects_in_folder(folder, key)"
   ]
  },
  {
   "cell_type": "code",
   "execution_count": 20,
   "id": "189f6976-b12f-47f4-8e19-b8b5d68100df",
   "metadata": {},
   "outputs": [
    {
     "name": "stdout",
     "output_type": "stream",
     "text": [
      "Checking: /scratch/neurobiology/zimmer/Charles/dlc_stacks/with_spacer_on_food/20221123-2022_11_24-4\n",
      "Checking: /scratch/neurobiology/zimmer/Charles/dlc_stacks/with_spacer_on_food/20221123-2022_11_24-5\n",
      "Checking: /scratch/neurobiology/zimmer/Charles/dlc_stacks/with_spacer_on_food/20221123-2022_11_24-6\n",
      "Found 3 annotated projects\n"
     ]
    }
   ],
   "source": [
    "folder = \"/scratch/neurobiology/zimmer/Charles/dlc_stacks/with_spacer_on_food/\"\n",
    "key = \"gcamp7b_spacer_food\"\n",
    "df_gcamp7b_spacer_food = build_dataframe_from_projects_in_folder(folder, key)"
   ]
  },
  {
   "cell_type": "code",
   "execution_count": 23,
   "id": "ca3af822-91ea-40e6-a4ab-f3b027b58749",
   "metadata": {},
   "outputs": [
    {
     "name": "stdout",
     "output_type": "stream",
     "text": [
      "Checking: /scratch/neurobiology/zimmer/Charles/dlc_stacks/with_spacer_7b_2per_round2/ZIM2165_Gcamp7b_worm4-2022_11_28\n",
      "Checking: /scratch/neurobiology/zimmer/Charles/dlc_stacks/with_spacer_7b_2per_round2/ZIM2165_Gcamp7b_worm1-2022_11_28\n",
      "Checking: /scratch/neurobiology/zimmer/Charles/dlc_stacks/with_spacer_7b_2per_round2/ZIM2165_Gcamp7b_worm8-2022_11_28\n",
      "Checking: /scratch/neurobiology/zimmer/Charles/dlc_stacks/with_spacer_7b_2per_round2/ZIM2165_Gcamp7b_worm6-2022_11_28\n",
      "Checking: /scratch/neurobiology/zimmer/Charles/dlc_stacks/with_spacer_7b_2per_round2/ZIM2165_Gcamp7b_worm9-2022_11_28\n",
      "Checking: /scratch/neurobiology/zimmer/Charles/dlc_stacks/with_spacer_7b_2per_round2/ZIM2165_Gcamp7b_worm5-2022_11_28\n",
      "Checking: /scratch/neurobiology/zimmer/Charles/dlc_stacks/with_spacer_7b_2per_round2/ZIM2165_Gcamp7b_worm3-2022_11_28\n",
      "Checking: /scratch/neurobiology/zimmer/Charles/dlc_stacks/with_spacer_7b_2per_round2/ZIM2165_Gcamp7b_worm7-2022_11_28\n",
      "Checking: /scratch/neurobiology/zimmer/Charles/dlc_stacks/with_spacer_7b_2per_round2/ZIM2165_Gcamp7b_worm2-2022_11_28\n",
      "Found 8 annotated projects\n"
     ]
    }
   ],
   "source": [
    "folder = \"/scratch/neurobiology/zimmer/Charles/dlc_stacks/with_spacer_7b_2per_round2/\"\n",
    "key = \"gcamp7b_spacer_2per_round2\"\n",
    "df_gcamp7b_spacer_2per_round2 = build_dataframe_from_projects_in_folder(folder, key)"
   ]
  },
  {
   "cell_type": "markdown",
   "id": "cd7b07bf-4bfe-43c6-8c58-0cc66ef13902",
   "metadata": {
    "tags": []
   },
   "source": [
    "## New dataset here"
   ]
  },
  {
   "cell_type": "code",
   "execution_count": null,
   "id": "86c669cd-e631-4b4c-8a37-cd4fff46cc16",
   "metadata": {},
   "outputs": [],
   "source": [
    "df_gcamp7b_spacer_food"
   ]
  },
  {
   "cell_type": "code",
   "execution_count": null,
   "id": "2404a95a-d712-4388-aba6-22c44a689b92",
   "metadata": {},
   "outputs": [],
   "source": [
    "df_gcamp7b_spacer_2per"
   ]
  },
  {
   "cell_type": "markdown",
   "id": "eac6227f-386e-4eeb-b3cd-6846a077cb1a",
   "metadata": {
    "jp-MarkdownHeadingCollapsed": true,
    "tags": []
   },
   "source": [
    "# Individual bar plots"
   ]
  },
  {
   "cell_type": "code",
   "execution_count": null,
   "id": "1b40a7aa-2344-4064-bb19-ff8e2229a7d8",
   "metadata": {},
   "outputs": [],
   "source": [
    "df_dim.plot(kind='bar')\n",
    "plt.title(\"Dim (original laser)\");\n",
    "plt.ylim([0, 40])"
   ]
  },
  {
   "cell_type": "code",
   "execution_count": null,
   "id": "aa0fce65-d6f1-405d-9120-0e64364728b8",
   "metadata": {},
   "outputs": [],
   "source": [
    "df_bright.plot(kind='bar')\n",
    "plt.title(\"Bright (old datsets)\");\n",
    "plt.ylim([0, 40])"
   ]
  },
  {
   "cell_type": "code",
   "execution_count": null,
   "id": "f87df19d-fc0e-4275-b2d9-c360d9430fb3",
   "metadata": {},
   "outputs": [],
   "source": [
    "df_bright_new.plot(kind='bar')\n",
    "plt.title(\"Bright (new datsets)\");\n",
    "plt.ylim([0, 40])"
   ]
  },
  {
   "cell_type": "code",
   "execution_count": null,
   "id": "91911938-330e-4d0b-9efb-fcab780456d2",
   "metadata": {},
   "outputs": [],
   "source": [
    "df_exp12.plot(kind='bar')\n",
    "plt.title(\"Exposure 12ms\");\n",
    "plt.ylim([0, 40])"
   ]
  },
  {
   "cell_type": "markdown",
   "id": "ac910fa6-efe0-45b0-9f3c-b24523c3024a",
   "metadata": {
    "jp-MarkdownHeadingCollapsed": true,
    "tags": []
   },
   "source": [
    "# Multiclass box plots\n",
    "\n",
    "First, only include manually annotated data"
   ]
  },
  {
   "cell_type": "code",
   "execution_count": null,
   "id": "1512494f-0203-4287-91d1-3c707aefbdef",
   "metadata": {},
   "outputs": [],
   "source": [
    "import seaborn as sns\n",
    "import matplotlib\n",
    "matplotlib.rcParams.update({'font.size': 22})\n"
   ]
  },
  {
   "cell_type": "code",
   "execution_count": null,
   "id": "a9a60771-7fe0-4e4b-ba80-4266b7c8544d",
   "metadata": {},
   "outputs": [],
   "source": [
    "df_manual = pd.concat([df_dim, df_bright])"
   ]
  },
  {
   "cell_type": "code",
   "execution_count": null,
   "id": "cb05d4a8-c295-4e49-9d59-920225074880",
   "metadata": {
    "tags": []
   },
   "outputs": [],
   "source": [
    "# plt.figure(figsize=(15, 15))\n",
    "# to_plot = 'high'\n",
    "\n",
    "# sns.barplot(data=df_manual, y=to_plot, x='title')\n",
    "# sns.scatterplot(data=df_manual, y=to_plot, x='title', legend=False, zorder=10, color='k')\n",
    "# plt.xlabel(\"Type of dataset\")\n",
    "# plt.ylabel(f\"Number of {to_plot} activity neurons\")\n",
    "# plt.title(\"Only manually annotated datasets\")"
   ]
  },
  {
   "cell_type": "code",
   "execution_count": null,
   "id": "565704eb-d382-4780-99c1-3481c973ee6b",
   "metadata": {},
   "outputs": [],
   "source": [
    "# plt.figure(figsize=(15, 15))\n",
    "# to_plot = 'low'\n",
    "\n",
    "# sns.barplot(data=df_manual, y=to_plot, x='title')\n",
    "# sns.scatterplot(data=df_manual, y=to_plot, x='title', legend=False, zorder=10, color='k')\n",
    "# plt.xlabel(\"Type of dataset\")\n",
    "# plt.ylabel(f\"Number of {to_plot} activity neurons\")\n",
    "# plt.title(\"Only manually annotated datasets\")"
   ]
  },
  {
   "cell_type": "markdown",
   "id": "cb2e5142-d5f8-443c-906b-d0705fe16e9a",
   "metadata": {
    "jp-MarkdownHeadingCollapsed": true,
    "tags": []
   },
   "source": [
    "## Same, but include non manually annotated data"
   ]
  },
  {
   "cell_type": "code",
   "execution_count": null,
   "id": "7f304b53-21d7-4334-b787-16a03e43acae",
   "metadata": {},
   "outputs": [],
   "source": [
    "df_all = pd.concat([df_dim_all, df_bright_all, df_bright_new, df_exp12])"
   ]
  },
  {
   "cell_type": "code",
   "execution_count": null,
   "id": "1d517fb0-fcfe-4ed7-8a79-fd7d0f456747",
   "metadata": {},
   "outputs": [],
   "source": [
    "plt.figure(figsize=(15, 15))\n",
    "\n",
    "to_plot = 'high'\n",
    "df = df_all\n",
    "\n",
    "ax = sns.barplot(data=df, y=to_plot, x='title')\n",
    "for index, row in df.iterrows():\n",
    "    ax.text(row.title, 2, f\"n={(df['title'] == row.title).value_counts()[True]}\",\n",
    "            color='white', ha='center')\n",
    "    \n",
    "sns.scatterplot(data=df, y=to_plot, x='title', legend=False, zorder=10, color='k')\n",
    "plt.xlabel(\"Type of dataset\")\n",
    "plt.xticks(rotation=10)\n",
    "plt.ylabel(f\"Number of {to_plot} activity neurons\")\n",
    "plt.title(\"Including automated-only datasets\")\n",
    "\n",
    "plt.savefig('hardware_quantifications/dataset_types_high_activity.png')"
   ]
  },
  {
   "cell_type": "code",
   "execution_count": null,
   "id": "700b5c1f-51ab-4661-920f-c10d69e6154c",
   "metadata": {},
   "outputs": [],
   "source": [
    "plt.figure(figsize=(15, 15))\n",
    "\n",
    "to_plot = 'low'\n",
    "df = df_all\n",
    "\n",
    "ax = sns.barplot(data=df, y=to_plot, x='title')\n",
    "for index, row in df.iterrows():\n",
    "    ax.text(row.title, 2, f\"n={(df['title'] == row.title).value_counts()[True]}\",\n",
    "            color='white', ha='center')\n",
    "    \n",
    "sns.scatterplot(data=df, y=to_plot, x='title', legend=False, zorder=10, color='k')\n",
    "plt.xlabel(\"Type of dataset\")\n",
    "plt.xticks(rotation=10)\n",
    "plt.ylabel(f\"Number of {to_plot} activity neurons\")\n",
    "plt.title(\"Including automated-only datasets\")\n",
    "\n",
    "plt.savefig('hardware_quantifications/dataset_types_low_activity.png')"
   ]
  },
  {
   "cell_type": "code",
   "execution_count": null,
   "id": "73d808cf-d98b-4935-9281-2eaddee6d0d3",
   "metadata": {},
   "outputs": [],
   "source": [
    "plt.figure(figsize=(15, 15))\n",
    "\n",
    "to_plot = 'low'\n",
    "df = df_all\n",
    "\n",
    "df_to_plot = df.drop(columns=['possible']).groupby('title')\n",
    "df_to_plot.mean().plot(kind='bar', stacked=True, figsize=(15,15))\n",
    "\n",
    "plt.xlabel(\"Type of dataset\")\n",
    "plt.ylabel(f\"Number of neurons\")\n",
    "plt.title(\"Average High and Low SNR neurons\")\n",
    "plt.xticks(rotation=10)\n",
    "\n",
    "plt.tight_layout()\n",
    "plt.savefig('hardware_quantifications/dataset_types_high_low_stacked_activity.png')"
   ]
  },
  {
   "cell_type": "markdown",
   "id": "116e15cd-7f7f-4058-a83c-f553f559f607",
   "metadata": {
    "tags": []
   },
   "source": [
    "# Include new gcamps"
   ]
  },
  {
   "cell_type": "code",
   "execution_count": 31,
   "id": "cb90dd82-a35f-47d2-915a-9c11cf194a32",
   "metadata": {},
   "outputs": [],
   "source": [
    "df_all = pd.concat([df_dim_all, df_bright_all, df_bright_new, df_exp12, df_2gcamp_6ms, df_2gcamp_12ms, \n",
    "                    df_gcamp7b, df_gcamp7b_spacer, df_gcamp7b_spacer_2per, df_gcamp7b_spacer_2per_round2])\n",
    "\n",
    "to_save = True"
   ]
  },
  {
   "cell_type": "code",
   "execution_count": null,
   "id": "83f7e625-4a07-4c46-933e-fce814c20cd5",
   "metadata": {},
   "outputs": [],
   "source": [
    "plt.figure(figsize=(10, 10), dpi=200)\n",
    "\n",
    "to_plot = 'high'\n",
    "df = df_all\n",
    "\n",
    "ax = sns.barplot(data=df, y=to_plot, x='title')\n",
    "for index, row in df.iterrows():\n",
    "    ax.text(row.title, 2, f\"n={(df['title'] == row.title).value_counts()[True]}\",\n",
    "            color='white', ha='center')\n",
    "    \n",
    "sns.scatterplot(data=df, y=to_plot, x='title', legend=False, zorder=10, color='k')\n",
    "plt.xlabel(\"Type of dataset\")\n",
    "plt.xticks(rotation=20)\n",
    "plt.ylabel(f\"Number of {to_plot} activity neurons\")\n",
    "plt.title(\"Including automated-only datasets\")\n",
    "\n",
    "if to_save:\n",
    "    plt.savefig('hardware_quantifications/dataset_types_high_activity_with_gcamp7b_and_spacers.png')"
   ]
  },
  {
   "cell_type": "code",
   "execution_count": null,
   "id": "5f773597-1322-4292-b62b-f90defffa820",
   "metadata": {
    "tags": []
   },
   "outputs": [],
   "source": [
    "fig, ax = plt.subplots(figsize=(10, 10), dpi=200)\n",
    "\n",
    "to_plot = 'low'\n",
    "df = df_all\n",
    "\n",
    "df_to_plot = df.drop(columns=['possible']).groupby('title')\n",
    "df_to_plot.mean().plot(kind='bar', stacked=True, ax=ax)\n",
    "\n",
    "plt.xlabel(\"Type of dataset\")\n",
    "plt.ylabel(f\"Number of neurons\")\n",
    "plt.title(\"Average High and Low SNR neurons\")\n",
    "plt.xticks(rotation=20)\n",
    "\n",
    "plt.tight_layout()\n",
    "if to_save:\n",
    "    plt.savefig('hardware_quantifications/dataset_types_high_low_stacked_activity_gcamp7b_and_spacers.png')"
   ]
  },
  {
   "cell_type": "markdown",
   "id": "c8009f7c-30be-47b1-ad38-4a29ba06a4be",
   "metadata": {
    "tags": []
   },
   "source": [
    "# Number of well-tracked neurons"
   ]
  },
  {
   "cell_type": "code",
   "execution_count": null,
   "id": "546f0aa0-0bc7-48f3-907d-c8a6439456cf",
   "metadata": {},
   "outputs": [],
   "source": [
    "projects_to_compare = dict(\n",
    "    nospacer_gfp = all_projects_gfp_exp12_smaller,\n",
    "    exp12 = all_projects_exp12,\n",
    "    gcamp7b = all_projects_gcamp7b,\n",
    "    gcamp7b_spacer = all_projects_spacer,\n",
    "    gcamp7b_spacer_2per = all_projects_spacer_2per,\n",
    "    gcamp7b_spacer_2per_round2 = all_projects_spacer_2per_day2\n",
    ")\n",
    "\n",
    "num_tracked_dict = {}\n",
    "i = 0\n",
    "thresholds = [0.95, 0.9, 0.75, 0.5]\n",
    "for key, project_list in tqdm(projects_to_compare.items()):\n",
    "    for p in project_list:\n",
    "        for t in thresholds:\n",
    "            new_key = f\"{key}_{i}\"\n",
    "            try:\n",
    "                num_tracked = len(p.well_tracked_neuron_names(t))\n",
    "                num_tracked_dict[new_key] = [num_tracked, t, key]\n",
    "                i += 1\n",
    "            except AttributeError:\n",
    "                pass\n",
    "        \n",
    "df_tracked = pd.DataFrame(num_tracked_dict).T\n",
    "df_tracked.columns = [\"num_tracked\", \"tracking_threshold\", \"dataset_title\"]"
   ]
  },
  {
   "cell_type": "code",
   "execution_count": null,
   "id": "5c98c2e2-7b59-4871-9657-9b32be4ff151",
   "metadata": {},
   "outputs": [],
   "source": [
    "plt.figure(figsize=(10, 10), dpi=200)\n",
    "\n",
    "to_plot = \"num_tracked\"\n",
    "df = df_tracked\n",
    "\n",
    "ax = sns.barplot(data=df, y=to_plot, x='tracking_threshold', hue='dataset_title')\n",
    "# for index, row in df.iterrows():\n",
    "#     ax.text(row.title, 2, f\"n={(df['title'] == row.title).value_counts()[True]}\",\n",
    "#             color='white', ha='center')\n",
    "# sns.scatterplot(data=df, y=to_plot, x='title', hue='tracking_threshold', \n",
    "#                 legend=False, zorder=10, color='k')\n",
    "plt.xlabel(\"Tracking threshold to be considered well-tracked\")\n",
    "# plt.xticks(rotation=10)\n",
    "plt.ylabel(f\"Number of well-tracked neurons\")\n",
    "plt.title(\"12ms exposure datasets\")\n",
    "\n",
    "if to_save:\n",
    "    plt.savefig('hardware_quantifications/well_tracked_neurons.png')"
   ]
  },
  {
   "cell_type": "markdown",
   "id": "7e1b810b-81a5-4f6f-92bd-7ecb5d992792",
   "metadata": {
    "jp-MarkdownHeadingCollapsed": true,
    "tags": []
   },
   "source": [
    "# Speed of the worms, and see if this is correlated to anything"
   ]
  },
  {
   "cell_type": "code",
   "execution_count": null,
   "id": "a40621e4-a820-4151-9de0-1221fbf052e9",
   "metadata": {},
   "outputs": [],
   "source": [
    "projects_to_compare = dict(\n",
    "    nospacer_gfp = all_projects_gfp_exp12_smaller,\n",
    "    exp12 = all_projects_exp12,\n",
    "    gcamp7b = all_projects_gcamp7b,\n",
    "    gcamp7b_spacer = all_projects_spacer,\n",
    "    gcamp7b_spacer_2per = all_projects_spacer_2per,\n",
    "    gcamp7b_spacer_2per_round2 = all_projects_spacer_2per_day2\n",
    ")\n",
    "\n",
    "avg_speed_dict = {}\n",
    "i = 0\n",
    "for key, project_list in tqdm(projects_to_compare.items()):\n",
    "    for p in tqdm(project_list, leave=False):\n",
    "        new_key = f\"{key}_{i}\"\n",
    "        avg_speed = np.nanmean(p.worm_posture_class.worm_speed_fluorescence_fps)\n",
    "        avg_speed_dict[new_key] = [avg_speed, key]\n",
    "        i += 1\n",
    "        \n",
    "df_speed = pd.DataFrame(avg_speed_dict).T\n",
    "df_speed.columns = [\"speed\", \"dataset_title\"]"
   ]
  },
  {
   "cell_type": "code",
   "execution_count": null,
   "id": "de41f59b-0163-4ff5-9fbd-dbb835ec0bd2",
   "metadata": {},
   "outputs": [],
   "source": [
    "plt.figure(figsize=(10, 10), dpi=200)\n",
    "\n",
    "to_plot = \"speed\"\n",
    "df = df_speed\n",
    "\n",
    "ax = sns.barplot(data=df, y=to_plot, x='dataset_title')\n",
    "plt.xlabel(\"Dataset type\")\n",
    "for index, row in df.iterrows():\n",
    "    ax.text(row.dataset_title, 0.01, f\"n={(df['dataset_title'] == row.dataset_title).value_counts()[True]}\",\n",
    "            color='white', ha='center')\n",
    "sns.scatterplot(data=df, y=to_plot, x='dataset_title',\n",
    "                legend=False, zorder=10, color='k')\n",
    "plt.xticks(rotation=10)\n",
    "plt.ylabel(f\"Average speed (mm / s)\")\n",
    "plt.title(\"12ms exposure datasets\")\n",
    "\n",
    "if to_save:\n",
    "    plt.savefig('hardware_quantifications/average_worm_speed.png')"
   ]
  },
  {
   "cell_type": "markdown",
   "id": "1418e4ba-aa3a-4040-bf5c-d3c9c94f2dc7",
   "metadata": {},
   "source": [
    "# Count number of reversals"
   ]
  },
  {
   "cell_type": "code",
   "execution_count": 25,
   "id": "ccb9c867-26eb-4a91-8b68-c0bd7ca957a9",
   "metadata": {},
   "outputs": [],
   "source": [
    "from wbfm.utils.external.utils_pandas import get_contiguous_blocks_from_column"
   ]
  },
  {
   "cell_type": "code",
   "execution_count": 26,
   "id": "04a95775-9a94-439d-b51e-6da06af7d2ea",
   "metadata": {},
   "outputs": [
    {
     "data": {
      "application/json": {
       "ascii": false,
       "bar_format": null,
       "colour": null,
       "elapsed": 0.022843599319458008,
       "initial": 0,
       "n": 0,
       "ncols": null,
       "nrows": 24,
       "postfix": null,
       "prefix": "",
       "rate": null,
       "total": 6,
       "unit": "it",
       "unit_divisor": 1000,
       "unit_scale": false
      },
      "application/vnd.jupyter.widget-view+json": {
       "model_id": "16fcb3d7b66a470ba0ba54c192b4ffb7",
       "version_major": 2,
       "version_minor": 0
      },
      "text/plain": [
       "  0%|          | 0/6 [00:00<?, ?it/s]"
      ]
     },
     "metadata": {},
     "output_type": "display_data"
    },
    {
     "data": {
      "application/json": {
       "ascii": false,
       "bar_format": null,
       "colour": null,
       "elapsed": 0.02359151840209961,
       "initial": 0,
       "n": 0,
       "ncols": null,
       "nrows": 24,
       "postfix": null,
       "prefix": "",
       "rate": null,
       "total": 5,
       "unit": "it",
       "unit_divisor": 1000,
       "unit_scale": false
      },
      "application/vnd.jupyter.widget-view+json": {
       "model_id": "",
       "version_major": 2,
       "version_minor": 0
      },
      "text/plain": [
       "  0%|          | 0/5 [00:00<?, ?it/s]"
      ]
     },
     "metadata": {},
     "output_type": "display_data"
    },
    {
     "data": {
      "application/json": {
       "ascii": false,
       "bar_format": null,
       "colour": null,
       "elapsed": 0.01600170135498047,
       "initial": 0,
       "n": 0,
       "ncols": null,
       "nrows": 24,
       "postfix": null,
       "prefix": "",
       "rate": null,
       "total": 6,
       "unit": "it",
       "unit_divisor": 1000,
       "unit_scale": false
      },
      "application/vnd.jupyter.widget-view+json": {
       "model_id": "",
       "version_major": 2,
       "version_minor": 0
      },
      "text/plain": [
       "  0%|          | 0/6 [00:00<?, ?it/s]"
      ]
     },
     "metadata": {},
     "output_type": "display_data"
    },
    {
     "data": {
      "application/json": {
       "ascii": false,
       "bar_format": null,
       "colour": null,
       "elapsed": 0.014873743057250977,
       "initial": 0,
       "n": 0,
       "ncols": null,
       "nrows": 24,
       "postfix": null,
       "prefix": "",
       "rate": null,
       "total": 4,
       "unit": "it",
       "unit_divisor": 1000,
       "unit_scale": false
      },
      "application/vnd.jupyter.widget-view+json": {
       "model_id": "",
       "version_major": 2,
       "version_minor": 0
      },
      "text/plain": [
       "  0%|          | 0/4 [00:00<?, ?it/s]"
      ]
     },
     "metadata": {},
     "output_type": "display_data"
    },
    {
     "data": {
      "application/json": {
       "ascii": false,
       "bar_format": null,
       "colour": null,
       "elapsed": 0.01550436019897461,
       "initial": 0,
       "n": 0,
       "ncols": null,
       "nrows": 24,
       "postfix": null,
       "prefix": "",
       "rate": null,
       "total": 12,
       "unit": "it",
       "unit_divisor": 1000,
       "unit_scale": false
      },
      "application/vnd.jupyter.widget-view+json": {
       "model_id": "",
       "version_major": 2,
       "version_minor": 0
      },
      "text/plain": [
       "  0%|          | 0/12 [00:00<?, ?it/s]"
      ]
     },
     "metadata": {},
     "output_type": "display_data"
    },
    {
     "data": {
      "application/json": {
       "ascii": false,
       "bar_format": null,
       "colour": null,
       "elapsed": 0.016368389129638672,
       "initial": 0,
       "n": 0,
       "ncols": null,
       "nrows": 24,
       "postfix": null,
       "prefix": "",
       "rate": null,
       "total": 5,
       "unit": "it",
       "unit_divisor": 1000,
       "unit_scale": false
      },
      "application/vnd.jupyter.widget-view+json": {
       "model_id": "",
       "version_major": 2,
       "version_minor": 0
      },
      "text/plain": [
       "  0%|          | 0/5 [00:00<?, ?it/s]"
      ]
     },
     "metadata": {},
     "output_type": "display_data"
    },
    {
     "data": {
      "application/json": {
       "ascii": false,
       "bar_format": null,
       "colour": null,
       "elapsed": 0.015030384063720703,
       "initial": 0,
       "n": 0,
       "ncols": null,
       "nrows": 24,
       "postfix": null,
       "prefix": "",
       "rate": null,
       "total": 9,
       "unit": "it",
       "unit_divisor": 1000,
       "unit_scale": false
      },
      "application/vnd.jupyter.widget-view+json": {
       "model_id": "",
       "version_major": 2,
       "version_minor": 0
      },
      "text/plain": [
       "  0%|          | 0/9 [00:00<?, ?it/s]"
      ]
     },
     "metadata": {},
     "output_type": "display_data"
    }
   ],
   "source": [
    "projects_to_compare = dict(\n",
    "    nospacer_gfp = all_projects_gfp_exp12_smaller,\n",
    "    exp12 = all_projects_exp12,\n",
    "    gcamp7b = all_projects_gcamp7b,\n",
    "    gcamp7b_spacer = all_projects_spacer,\n",
    "    gcamp7b_spacer_2per = all_projects_spacer_2per,\n",
    "    gcamp7b_spacer_2per_round2 = all_projects_spacer_2per_day2\n",
    ")\n",
    "\n",
    "num_rev_dict = {}\n",
    "for key, project_list in tqdm(projects_to_compare.items()):\n",
    "    i = 0\n",
    "    for p in tqdm(project_list, leave=False):\n",
    "        new_key = f\"{key}_{i}\"\n",
    "        beh_annotations = p.worm_posture_class.behavior_annotations_fluorescence_fps\n",
    "        try:\n",
    "            num_rev = len(get_contiguous_blocks_from_column(beh_annotations==1, already_boolean=True)[0])\n",
    "            num_rev_dict[new_key] = [num_rev, key]\n",
    "            i += 1\n",
    "        except AttributeError:\n",
    "            pass\n",
    "        \n",
    "df_rev = pd.DataFrame(num_rev_dict).T\n",
    "df_rev.columns = [\"num_reversals\", \"dataset_title\"]"
   ]
  },
  {
   "cell_type": "code",
   "execution_count": 27,
   "id": "a4cc5061-c1d1-42d3-8281-2989e6fcdb8e",
   "metadata": {},
   "outputs": [],
   "source": [
    "# df_rev"
   ]
  },
  {
   "cell_type": "code",
   "execution_count": 28,
   "id": "2c9101f9-e582-4831-ab1c-f1e1f9acb54a",
   "metadata": {},
   "outputs": [
    {
     "ename": "NameError",
     "evalue": "name 'to_save' is not defined",
     "output_type": "error",
     "traceback": [
      "\u001b[0;31m---------------------------------------------------------------------------\u001b[0m",
      "\u001b[0;31mNameError\u001b[0m                                 Traceback (most recent call last)",
      "\u001b[0;32m/tmp/ipykernel_64540/3334699240.py\u001b[0m in \u001b[0;36m<module>\u001b[0;34m\u001b[0m\n\u001b[1;32m     15\u001b[0m \u001b[0mplt\u001b[0m\u001b[0;34m.\u001b[0m\u001b[0mtitle\u001b[0m\u001b[0;34m(\u001b[0m\u001b[0;34m\"12ms exposure datasets\"\u001b[0m\u001b[0;34m)\u001b[0m\u001b[0;34m\u001b[0m\u001b[0;34m\u001b[0m\u001b[0m\n\u001b[1;32m     16\u001b[0m \u001b[0;34m\u001b[0m\u001b[0m\n\u001b[0;32m---> 17\u001b[0;31m \u001b[0;32mif\u001b[0m \u001b[0mto_save\u001b[0m\u001b[0;34m:\u001b[0m\u001b[0;34m\u001b[0m\u001b[0;34m\u001b[0m\u001b[0m\n\u001b[0m\u001b[1;32m     18\u001b[0m     \u001b[0mplt\u001b[0m\u001b[0;34m.\u001b[0m\u001b[0msavefig\u001b[0m\u001b[0;34m(\u001b[0m\u001b[0;34m'hardware_quantifications/number_of_reversals.png'\u001b[0m\u001b[0;34m)\u001b[0m\u001b[0;34m\u001b[0m\u001b[0;34m\u001b[0m\u001b[0m\n",
      "\u001b[0;31mNameError\u001b[0m: name 'to_save' is not defined"
     ]
    },
    {
     "data": {
      "image/png": "[encoded data removed]",
      "text/plain": [
       "<Figure size 2000x2000 with 1 Axes>"
      ]
     },
     "metadata": {
      "needs_background": "light"
     },
     "output_type": "display_data"
    }
   ],
   "source": [
    "plt.figure(figsize=(10, 10), dpi=200)\n",
    "\n",
    "to_plot = \"num_reversals\"\n",
    "df = df_rev\n",
    "\n",
    "ax = sns.barplot(data=df, y=to_plot, x='dataset_title')\n",
    "plt.xlabel(\"Dataset type\")\n",
    "# for index, row in df.iterrows():\n",
    "#     ax.text(row.dataset_title, 2, f\"n={(df['dataset_title'] == row.dataset_title).value_counts()[True]}\",\n",
    "#             color='white', ha='center')\n",
    "sns.scatterplot(data=df, y=to_plot, x='dataset_title',\n",
    "                legend=False, zorder=10, color='k')\n",
    "plt.xticks(rotation=10)\n",
    "plt.ylabel(f\"Number of reversals\")\n",
    "plt.title(\"12ms exposure datasets\")\n",
    "\n",
    "# if to_save:\n",
    "#     plt.savefig('hardware_quantifications/number_of_reversals.png')"
   ]
  },
  {
   "cell_type": "markdown",
   "id": "8aa5e0db-076b-48d6-8fe9-469ad4276b87",
   "metadata": {},
   "source": [
    "# Pairplots to see correlations"
   ]
  },
  {
   "cell_type": "code",
   "execution_count": 29,
   "id": "88f6f7d3-62b8-431c-9e9f-44d2ae20dcdb",
   "metadata": {},
   "outputs": [
    {
     "data": {
      "application/json": {
       "ascii": false,
       "bar_format": null,
       "colour": null,
       "elapsed": 0.016440153121948242,
       "initial": 0,
       "n": 0,
       "ncols": null,
       "nrows": 24,
       "postfix": null,
       "prefix": "",
       "rate": null,
       "total": 6,
       "unit": "it",
       "unit_divisor": 1000,
       "unit_scale": false
      },
      "application/vnd.jupyter.widget-view+json": {
       "model_id": "87c21fa052554e7eb480fe136515cf2a",
       "version_major": 2,
       "version_minor": 0
      },
      "text/plain": [
       "  0%|          | 0/6 [00:00<?, ?it/s]"
      ]
     },
     "metadata": {},
     "output_type": "display_data"
    },
    {
     "data": {
      "application/json": {
       "ascii": false,
       "bar_format": null,
       "colour": null,
       "elapsed": 0.015753984451293945,
       "initial": 0,
       "n": 0,
       "ncols": null,
       "nrows": 24,
       "postfix": null,
       "prefix": "",
       "rate": null,
       "total": 5,
       "unit": "it",
       "unit_divisor": 1000,
       "unit_scale": false
      },
      "application/vnd.jupyter.widget-view+json": {
       "model_id": "",
       "version_major": 2,
       "version_minor": 0
      },
      "text/plain": [
       "  0%|          | 0/5 [00:00<?, ?it/s]"
      ]
     },
     "metadata": {},
     "output_type": "display_data"
    },
    {
     "data": {
      "application/json": {
       "ascii": false,
       "bar_format": null,
       "colour": null,
       "elapsed": 0.015535116195678711,
       "initial": 0,
       "n": 0,
       "ncols": null,
       "nrows": 24,
       "postfix": null,
       "prefix": "",
       "rate": null,
       "total": 6,
       "unit": "it",
       "unit_divisor": 1000,
       "unit_scale": false
      },
      "application/vnd.jupyter.widget-view+json": {
       "model_id": "",
       "version_major": 2,
       "version_minor": 0
      },
      "text/plain": [
       "  0%|          | 0/6 [00:00<?, ?it/s]"
      ]
     },
     "metadata": {},
     "output_type": "display_data"
    },
    {
     "data": {
      "application/json": {
       "ascii": false,
       "bar_format": null,
       "colour": null,
       "elapsed": 0.016359567642211914,
       "initial": 0,
       "n": 0,
       "ncols": null,
       "nrows": 24,
       "postfix": null,
       "prefix": "",
       "rate": null,
       "total": 4,
       "unit": "it",
       "unit_divisor": 1000,
       "unit_scale": false
      },
      "application/vnd.jupyter.widget-view+json": {
       "model_id": "",
       "version_major": 2,
       "version_minor": 0
      },
      "text/plain": [
       "  0%|          | 0/4 [00:00<?, ?it/s]"
      ]
     },
     "metadata": {},
     "output_type": "display_data"
    },
    {
     "data": {
      "application/json": {
       "ascii": false,
       "bar_format": null,
       "colour": null,
       "elapsed": 0.015268564224243164,
       "initial": 0,
       "n": 0,
       "ncols": null,
       "nrows": 24,
       "postfix": null,
       "prefix": "",
       "rate": null,
       "total": 12,
       "unit": "it",
       "unit_divisor": 1000,
       "unit_scale": false
      },
      "application/vnd.jupyter.widget-view+json": {
       "model_id": "",
       "version_major": 2,
       "version_minor": 0
      },
      "text/plain": [
       "  0%|          | 0/12 [00:00<?, ?it/s]"
      ]
     },
     "metadata": {},
     "output_type": "display_data"
    },
    {
     "data": {
      "application/json": {
       "ascii": false,
       "bar_format": null,
       "colour": null,
       "elapsed": 0.015588760375976562,
       "initial": 0,
       "n": 0,
       "ncols": null,
       "nrows": 24,
       "postfix": null,
       "prefix": "",
       "rate": null,
       "total": 5,
       "unit": "it",
       "unit_divisor": 1000,
       "unit_scale": false
      },
      "application/vnd.jupyter.widget-view+json": {
       "model_id": "",
       "version_major": 2,
       "version_minor": 0
      },
      "text/plain": [
       "  0%|          | 0/5 [00:00<?, ?it/s]"
      ]
     },
     "metadata": {},
     "output_type": "display_data"
    },
    {
     "data": {
      "application/json": {
       "ascii": false,
       "bar_format": null,
       "colour": null,
       "elapsed": 0.0165560245513916,
       "initial": 0,
       "n": 0,
       "ncols": null,
       "nrows": 24,
       "postfix": null,
       "prefix": "",
       "rate": null,
       "total": 9,
       "unit": "it",
       "unit_divisor": 1000,
       "unit_scale": false
      },
      "application/vnd.jupyter.widget-view+json": {
       "model_id": "",
       "version_major": 2,
       "version_minor": 0
      },
      "text/plain": [
       "  0%|          | 0/9 [00:00<?, ?it/s]"
      ]
     },
     "metadata": {},
     "output_type": "display_data"
    },
    {
     "data": {
      "application/json": {
       "ascii": false,
       "bar_format": null,
       "colour": null,
       "elapsed": 0.01527547836303711,
       "initial": 0,
       "n": 0,
       "ncols": null,
       "nrows": 24,
       "postfix": null,
       "prefix": "",
       "rate": null,
       "total": 6,
       "unit": "it",
       "unit_divisor": 1000,
       "unit_scale": false
      },
      "application/vnd.jupyter.widget-view+json": {
       "model_id": "9e45c281ba80442bbb61308de51d6a2a",
       "version_major": 2,
       "version_minor": 0
      },
      "text/plain": [
       "  0%|          | 0/6 [00:00<?, ?it/s]"
      ]
     },
     "metadata": {},
     "output_type": "display_data"
    }
   ],
   "source": [
    "# Redo calculations to make sure there is only a single number for \n",
    "\n",
    "projects_to_compare = dict(\n",
    "    nospacer_gfp = all_projects_gfp_exp12_smaller,\n",
    "    exp12 = all_projects_exp12,\n",
    "    gcamp7b = all_projects_gcamp7b,\n",
    "    gcamp7b_spacer = all_projects_spacer,\n",
    "    gcamp7b_spacer_2per = all_projects_spacer_2per,\n",
    "    gcamp7b_spacer_2per_round2 = all_projects_spacer_2per_day2\n",
    ")\n",
    "\n",
    "avg_speed_dict = {}\n",
    "for key, project_list in tqdm(projects_to_compare.items()):\n",
    "    i = 0\n",
    "    for p in tqdm(project_list, leave=False):\n",
    "        new_key = f\"{key}_{i}\"\n",
    "        avg_speed = np.nanmean(p.worm_posture_class.worm_speed_fluorescence_fps)\n",
    "        avg_speed_dict[new_key] = [avg_speed, key]\n",
    "        i += 1\n",
    "        \n",
    "df_speed = pd.DataFrame(avg_speed_dict).T\n",
    "df_speed.columns = [\"speed\", \"dataset_title\"]\n",
    "\n",
    "num_tracked_dict = {}\n",
    "thresholds = [0.9]\n",
    "for key, project_list in tqdm(projects_to_compare.items()):\n",
    "    i = 0\n",
    "    for p in project_list:\n",
    "        for t in thresholds:\n",
    "            new_key = f\"{key}_{i}\"\n",
    "            try:\n",
    "                num_tracked = len(p.well_tracked_neuron_names(t))\n",
    "                num_tracked_dict[new_key] = [num_tracked, t, key]\n",
    "                i += 1\n",
    "            except AttributeError:\n",
    "                pass\n",
    "        \n",
    "df_tracked = pd.DataFrame(num_tracked_dict).T\n",
    "df_tracked.columns = [\"num_tracked\", \"tracking_threshold\", \"dataset_title\"]"
   ]
  },
  {
   "cell_type": "code",
   "execution_count": 32,
   "id": "d5a7b7c6-3c64-4269-a1d7-48d3f804fa78",
   "metadata": {},
   "outputs": [],
   "source": [
    "df_pairplot = df_all.join(df_speed, how='outer').join(df_tracked[['num_tracked', 'tracking_threshold']], how='outer').join(df_rev[['num_reversals']], how='outer')\n",
    "df_pairplot.dropna(axis=0, inplace=True) # Drop old datasets that I didn't do speed calculations for"
   ]
  },
  {
   "cell_type": "code",
   "execution_count": 35,
   "id": "199b46ff-af76-4956-94e6-b93ddfbbb179",
   "metadata": {},
   "outputs": [
    {
     "data": {
      "text/plain": [
       "<seaborn.axisgrid.PairGrid at 0x7f5879cc8590>"
      ]
     },
     "execution_count": 35,
     "metadata": {},
     "output_type": "execute_result"
    },
    {
     "data": {
      "image/png": "[encoded data removed]",
      "text/plain": [
       "<Figure size 868.75x720 with 20 Axes>"
      ]
     },
     "metadata": {
      "needs_background": "light"
     },
     "output_type": "display_data"
    }
   ],
   "source": [
    "sns.pairplot(df_pairplot, vars=['high', 'speed', 'num_tracked', 'num_reversals'], hue='title')\n",
    "\n",
    "# if to_save:\n",
    "#     plt.savefig('hardware_quantifications/pairplot_speed-num_tracked-high_activity.png')"
   ]
  },
  {
   "cell_type": "code",
   "execution_count": null,
   "id": "7d98eb8d-4d59-4bdf-a1ba-7adb207420b4",
   "metadata": {},
   "outputs": [],
   "source": [
    "# tmp = df_all.join(df_speed, how='outer').join(df_tracked[['num_tracked', 'tracking_threshold']], how='outer').join(df_rev[['num_reversals']])\n",
    "# tmp"
   ]
  },
  {
   "cell_type": "code",
   "execution_count": null,
   "id": "dd3aba4b-502c-4cea-846e-3d9eae48676d",
   "metadata": {},
   "outputs": [],
   "source": []
  }
 ],
 "metadata": {
  "kernelspec": {
   "display_name": "Python 3 (ipykernel)",
   "language": "python",
   "name": "python3"
  },
  "language_info": {
   "codemirror_mode": {
    "name": "ipython",
    "version": 3
   },
   "file_extension": ".py",
   "mimetype": "text/x-python",
   "name": "python",
   "nbconvert_exporter": "python",
   "pygments_lexer": "ipython3",
   "version": "3.7.12"
  }
 },
 "nbformat": 4,
 "nbformat_minor": 5
}
