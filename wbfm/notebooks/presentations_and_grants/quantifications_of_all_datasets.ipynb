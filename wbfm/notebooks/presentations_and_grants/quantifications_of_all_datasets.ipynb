{
 "cells": [
  {
   "cell_type": "code",
   "execution_count": 1,
   "id": "a2945f0b-8b2c-41f4-8de1-0d4383c11eea",
   "metadata": {},
   "outputs": [
    {
     "name": "stderr",
     "output_type": "stream",
     "text": [
      "/home/charles/anaconda3/envs/wbfm/lib/python3.7/site-packages/tqdm/auto.py:22: TqdmWarning: IProgress not found. Please update jupyter and ipywidgets. See https://ipywidgets.readthedocs.io/en/stable/user_install.html\n",
      "  from .autonotebook import tqdm as notebook_tqdm\n"
     ]
    }
   ],
   "source": [
    "%load_ext autoreload\n",
    "%autoreload 2\n",
    "import matplotlib.pyplot as plt\n",
    "from wbfm.utils.projects.finished_project_data import ProjectData\n",
    "import napari\n",
    "import pandas as pd\n",
    "from tqdm.auto import tqdm\n",
    "import numpy as np\n",
    "from pathlib import Path\n",
    "from collections import defaultdict\n",
    "import zarr"
   ]
  },
  {
   "cell_type": "markdown",
   "id": "6bf62703-5547-4b6f-a360-93cd52b745fe",
   "metadata": {},
   "source": [
    "# Functions"
   ]
  },
  {
   "cell_type": "code",
   "execution_count": 96,
   "id": "c849fe4a-1753-4a7d-999e-19ea69b8afa4",
   "metadata": {},
   "outputs": [],
   "source": [
    "\n",
    "def df_from_list(list_of_annotations, col_name_base):\n",
    "    all_vals = defaultdict(list)\n",
    "    for proj in list_of_annotations:\n",
    "        for k, v in proj.items():\n",
    "            if isinstance(v, list):\n",
    "                all_vals[k].append(len(v))\n",
    "                \n",
    "    all_vals['title'] = [col_name_base] * len(list_of_annotations)\n",
    "\n",
    "    idx_names = [f'{col_name_base}_{i}' for i in range(len(list_of_annotations))]\n",
    "    df = pd.DataFrame(all_vals, index=idx_names)\n",
    "    \n",
    "    return df"
   ]
  },
  {
   "cell_type": "markdown",
   "id": "ac58972c-b6ba-4768-b3f7-6fd83965da77",
   "metadata": {
    "jp-MarkdownHeadingCollapsed": true,
    "tags": []
   },
   "source": [
    "# Loading all projects"
   ]
  },
  {
   "cell_type": "markdown",
   "id": "6306c121-2ad3-4a03-b377-3a4bd2bad467",
   "metadata": {
    "jp-MarkdownHeadingCollapsed": true,
    "tags": []
   },
   "source": [
    "## Original, low laser power"
   ]
  },
  {
   "cell_type": "code",
   "execution_count": 2,
   "id": "67260c18-4cb1-4922-9967-13484bdb37f7",
   "metadata": {
    "tags": []
   },
   "outputs": [
    {
     "name": "stdout",
     "output_type": "stream",
     "text": [
      "ConfigFile  : INFO     Set up logger with name: ConfigFile\n",
      "Checking path /scratch/neurobiology/zimmer/Charles/dlc_stacks/manually_annotated/round1_worm1/dat/2022-01-27_19-31_worm1_Ch0bigtiff.btf_preprocessed.zarr.zip on os posix...\n",
      "Checking path /scratch/neurobiology/zimmer/Charles/dlc_stacks/manually_annotated/round1_worm1/dat/2022-01-27_19-31_worm1_Ch1bigtiff.btf_preprocessed.zarr.zip on os posix...\n"
     ]
    },
    {
     "name": "stderr",
     "output_type": "stream",
     "text": [
      "WARNING:root:Not using most recently modified file (mode fdnc)\n"
     ]
    },
    {
     "name": "stdout",
     "output_type": "stream",
     "text": [
      "File for mode automatic exists at precendence: 1/3\n",
      "Read data from: /scratch/neurobiology/zimmer/Charles/dlc_stacks/manually_annotated/round1_worm1/3-tracking/postprocessing/combined_3d_tracks---9.h5\n",
      "ConfigFile  : INFO     Starting threads to read data...\n",
      "ConfigFile  : INFO     behavior_fname not found; searching\n",
      "Checking path /scratch/neurobiology/zimmer/ulises/wbfm/20220127/data/worm1/2022-01-27_19-31_worm1_Ch0/2022-01-27_19-31_worm1_Ch0bigtiff.btf on os posix...\n",
      "Annotations are already stable style\n",
      "Checking path /scratch/neurobiology/zimmer/ulises/wbfm/20220127/data/worm1/2022-01-27_19-31-00_worm1-channel-0-behaviour-/skeleton_spline_K.csv on os posix...\n",
      "Checking path /scratch/neurobiology/zimmer/ulises/wbfm/20220127/data/worm1/2022-01-27_19-31-00_worm1-channel-0-behaviour-/skeleton_spline_X_coords.csv on os posix...\n",
      "Checking path /scratch/neurobiology/zimmer/ulises/wbfm/20220127/data/worm1/2022-01-27_19-31-00_worm1-channel-0-behaviour-/skeleton_spline_Y_coords.csv on os posix...\n",
      "ConfigFile  : INFO     Read all data from files: ['/scratch/neurobiology/zimmer/Charles/dlc_stacks/manually_annotated/round1_worm1/3-tracking/postprocessing/combined_3d_tracks---9.h5', '/scratch/neurobiology/zimmer/Charles/dlc_stacks/manually_annotated/round1_worm1/dat/2022-01-27_19-31_worm1_Ch0bigtiff.btf_preprocessed.zarr.zip', '/scratch/neurobiology/zimmer/Charles/dlc_stacks/manually_annotated/round1_worm1/dat/2022-01-27_19-31_worm1_Ch1bigtiff.btf_preprocessed.zarr.zip', '/scratch/neurobiology/zimmer/Charles/dlc_stacks/manually_annotated/round1_worm1/4-traces/red_traces.h5', '/scratch/neurobiology/zimmer/Charles/dlc_stacks/manually_annotated/round1_worm1/4-traces/green_traces.h5', '/scratch/neurobiology/zimmer/Charles/dlc_stacks/manually_annotated/round1_worm1/1-segmentation/masks3d.zarr', '/scratch/neurobiology/zimmer/Charles/dlc_stacks/manually_annotated/round1_worm1/4-traces/reindexed_masks.zarr.zip']\n",
      "ConfigFile  : INFO     =======================================\n",
      "Project data for directory:\n",
      "/scratch/neurobiology/zimmer/Charles/dlc_stacks/manually_annotated/round1_worm1 \n",
      "Found the following data files:\n",
      "============Raw========================\n",
      "red_data:                 True\n",
      "green_data:               True\n",
      "============Annotations================\n",
      "manual_tracking:          True\n",
      "============Segmentation===============\n",
      "raw_segmentation:         True\n",
      "colored_segmentation:     True\n",
      "============Traces=====================\n",
      "red_traces:               True\n",
      "green_traces:             True\n",
      "\n"
     ]
    }
   ],
   "source": [
    "fname = \"/scratch/neurobiology/zimmer/Charles/dlc_stacks/manually_annotated/round1_worm1/project_config.yaml\"\n",
    "project_data1 = ProjectData.load_final_project_data_from_config(fname)"
   ]
  },
  {
   "cell_type": "code",
   "execution_count": 3,
   "id": "c99d60a8-c92e-4ff0-8c69-11634ed440b7",
   "metadata": {
    "tags": []
   },
   "outputs": [
    {
     "name": "stdout",
     "output_type": "stream",
     "text": [
      "ConfigFile  : INFO     Set up logger with name: ConfigFile\n",
      "Checking path /scratch/neurobiology/zimmer/Charles/dlc_stacks/manually_annotated/round1_worm4/dat/2022-01-27_21-26_worm4_Ch0bigtiff.btf_preprocessed.zarr.zip on os posix...\n",
      "Checking path /scratch/neurobiology/zimmer/Charles/dlc_stacks/manually_annotated/round1_worm4/dat/2022-01-27_21-26_worm4_Ch1bigtiff.btf_preprocessed.zarr.zip on os posix...\n",
      "File for mode automatic exists at precendence: 1/3\n",
      "Read data from: /scratch/neurobiology/zimmer/Charles/dlc_stacks/manually_annotated/round1_worm4/3-tracking/postprocessing/combined_3d_tracks-3.h5\n",
      "ConfigFile  : INFO     Starting threads to read data...\n",
      "ConfigFile  : INFO     behavior_fname not found; searching\n",
      "Checking path /scratch/neurobiology/zimmer/ulises/wbfm/20220127/data/worm4/2022-01-27_21-26_worm4_Ch0/2022-01-27_21-26_worm4_Ch0bigtiff.btf on os posix...\n",
      "Checking path /scratch/neurobiology/zimmer/ulises/wbfm/20220127/data/worm4/2022-01-27_21-26-53_worm4-channel-0-behaviour-/skeleton_spline_K.csv on os posix...\n",
      "Checking path /scratch/neurobiology/zimmer/ulises/wbfm/20220127/data/worm4/2022-01-27_21-26-53_worm4-channel-0-behaviour-/skeleton_spline_X_coords.csv on os posix...\n",
      "Checking path /scratch/neurobiology/zimmer/ulises/wbfm/20220127/data/worm4/2022-01-27_21-26-53_worm4-channel-0-behaviour-/skeleton_spline_Y_coords.csv on os posix...\n",
      "ConfigFile  : INFO     Read all data from files: ['/scratch/neurobiology/zimmer/Charles/dlc_stacks/manually_annotated/round1_worm4/3-tracking/postprocessing/combined_3d_tracks-3.h5', '/scratch/neurobiology/zimmer/Charles/dlc_stacks/manually_annotated/round1_worm4/dat/2022-01-27_21-26_worm4_Ch0bigtiff.btf_preprocessed.zarr.zip', '/scratch/neurobiology/zimmer/Charles/dlc_stacks/manually_annotated/round1_worm4/dat/2022-01-27_21-26_worm4_Ch1bigtiff.btf_preprocessed.zarr.zip', '/scratch/neurobiology/zimmer/Charles/dlc_stacks/manually_annotated/round1_worm4/4-traces/red_traces.h5', '/scratch/neurobiology/zimmer/Charles/dlc_stacks/manually_annotated/round1_worm4/4-traces/green_traces.h5', '/scratch/neurobiology/zimmer/Charles/dlc_stacks/manually_annotated/round1_worm4/1-segmentation/masks.zarr', '/scratch/neurobiology/zimmer/Charles/dlc_stacks/manually_annotated/round1_worm4/4-traces/reindexed_masks.zarr.zip']\n",
      "ConfigFile  : INFO     =======================================\n",
      "Project data for directory:\n",
      "/scratch/neurobiology/zimmer/Charles/dlc_stacks/manually_annotated/round1_worm4 \n",
      "Found the following data files:\n",
      "============Raw========================\n",
      "red_data:                 True\n",
      "green_data:               True\n",
      "============Annotations================\n",
      "manual_tracking:          True\n",
      "============Segmentation===============\n",
      "raw_segmentation:         True\n",
      "colored_segmentation:     True\n",
      "============Traces=====================\n",
      "red_traces:               True\n",
      "green_traces:             True\n",
      "\n"
     ]
    }
   ],
   "source": [
    "# Same project, but remote = most updated\n",
    "# fname = \"/home/charles/dlc_stacks/students-worm4-reanalysis/project_config-workstation.yaml\"\n",
    "fname = \"/scratch/neurobiology/zimmer/Charles/dlc_stacks/manually_annotated/round1_worm4/project_config.yaml\"\n",
    "project_data2 = ProjectData.load_final_project_data_from_config(fname)"
   ]
  },
  {
   "cell_type": "code",
   "execution_count": 4,
   "id": "60b1ec82-27b0-495b-b0b8-cb4332801fbd",
   "metadata": {},
   "outputs": [],
   "source": [
    "# # Partial... still uint8\n",
    "# fname = \"/home/charles/dlc_stacks/round2-worm6-short-newseg/project_config-workstation.yaml\"\n",
    "# project_data3 = ProjectData.load_final_project_data_from_config(fname, to_load_frames=True)"
   ]
  },
  {
   "cell_type": "code",
   "execution_count": 5,
   "id": "0d80db6f-3f3d-43d8-90a7-3f3753e65fad",
   "metadata": {},
   "outputs": [
    {
     "name": "stdout",
     "output_type": "stream",
     "text": [
      "ConfigFile  : INFO     Set up logger with name: ConfigFile\n",
      "Checking path /scratch/neurobiology/zimmer/Charles/dlc_stacks/manually_annotated/round2_worm3/dat/2022-02-23_17-22_worm3_1_Ch0bigtiff_preprocessed.zarr.zip on os posix...\n",
      "Did not successfully resolve path; returning raw /scratch/neurobiology/zimmer/Charles/dlc_stacks/manually_annotated/round2_worm3/dat/2022-02-23_17-22_worm3_1_Ch0bigtiff_preprocessed.zarr.zip\n",
      "Checking path /scratch/neurobiology/zimmer/Charles/dlc_stacks/manually_annotated/round2_worm3/dat/2022-02-23_17-22_worm3_1_Ch1bigtiff_preprocessed.zarr.zip on os posix...\n",
      "Did not successfully resolve path; returning raw /scratch/neurobiology/zimmer/Charles/dlc_stacks/manually_annotated/round2_worm3/dat/2022-02-23_17-22_worm3_1_Ch1bigtiff_preprocessed.zarr.zip\n",
      "File for mode automatic exists at precendence: 1/3\n",
      "Read data from: /scratch/neurobiology/zimmer/Charles/dlc_stacks/manually_annotated/round2_worm3/3-tracking/postprocessing/combined_3d_tracks-11.h5\n",
      "ConfigFile  : INFO     Starting threads to read data...\n"
     ]
    },
    {
     "name": "stderr",
     "output_type": "stream",
     "text": [
      "WARNING:root:Did not find file /scratch/neurobiology/zimmer/Charles/dlc_stacks/manually_annotated/round2_worm3/dat/2022-02-23_17-22_worm3_1_Ch0bigtiff_preprocessed.zarr.zip\n",
      "WARNING:root:Did not find file /scratch/neurobiology/zimmer/Charles/dlc_stacks/manually_annotated/round2_worm3/dat/2022-02-23_17-22_worm3_1_Ch1bigtiff_preprocessed.zarr.zip\n"
     ]
    },
    {
     "name": "stdout",
     "output_type": "stream",
     "text": [
      "ConfigFile  : INFO     behavior_fname not found; searching\n",
      "Checking path /scratch/neurobiology/zimmer/ulises/wbfm/20220223/data/worm3/2022-02-23_17-22_worm3_1_Ch0/2022-02-23_17-22_worm3_1_Ch0bigtiff.btf on os posix...\n",
      "Checking path /scratch/neurobiology/zimmer/ulises/wbfm/20220223/data/worm3/2022-02-23_17-22-34_worm3_1-channel-0-behaviour-/skeleton_spline_K.csv on os posix...\n",
      "Checking path /scratch/neurobiology/zimmer/ulises/wbfm/20220223/data/worm3/2022-02-23_17-22-34_worm3_1-channel-0-behaviour-/skeleton_spline_X_coords.csv on os posix...\n",
      "Checking path /scratch/neurobiology/zimmer/ulises/wbfm/20220223/data/worm3/2022-02-23_17-22-34_worm3_1-channel-0-behaviour-/skeleton_spline_Y_coords.csv on os posix...\n",
      "ConfigFile  : INFO     Read all data from files: ['/scratch/neurobiology/zimmer/Charles/dlc_stacks/manually_annotated/round2_worm3/3-tracking/postprocessing/combined_3d_tracks-11.h5', '/scratch/neurobiology/zimmer/Charles/dlc_stacks/manually_annotated/round2_worm3/dat/2022-02-23_17-22_worm3_1_Ch0bigtiff_preprocessed.zarr.zip', '/scratch/neurobiology/zimmer/Charles/dlc_stacks/manually_annotated/round2_worm3/dat/2022-02-23_17-22_worm3_1_Ch1bigtiff_preprocessed.zarr.zip', '/scratch/neurobiology/zimmer/Charles/dlc_stacks/manually_annotated/round2_worm3/4-traces/red_traces.h5', '/scratch/neurobiology/zimmer/Charles/dlc_stacks/manually_annotated/round2_worm3/4-traces/green_traces.h5', '/scratch/neurobiology/zimmer/Charles/dlc_stacks/manually_annotated/round2_worm3/1-segmentation/masks.zarr', '/scratch/neurobiology/zimmer/Charles/dlc_stacks/manually_annotated/round2_worm3/4-traces/reindexed_masks.zarr.zip']\n",
      "ConfigFile  : INFO     =======================================\n",
      "Project data for directory:\n",
      "/scratch/neurobiology/zimmer/Charles/dlc_stacks/manually_annotated/round2_worm3 \n",
      "Found the following data files:\n",
      "============Raw========================\n",
      "red_data:                 False\n",
      "green_data:               False\n",
      "============Annotations================\n",
      "manual_tracking:          True\n",
      "============Segmentation===============\n",
      "raw_segmentation:         True\n",
      "colored_segmentation:     True\n",
      "============Traces=====================\n",
      "red_traces:               True\n",
      "green_traces:             True\n",
      "\n"
     ]
    }
   ],
   "source": [
    "# REMOTE\n",
    "fname = \"/scratch/neurobiology/zimmer/Charles/dlc_stacks/manually_annotated/round2_worm3/project_config.yaml\"\n",
    "project_data4 = ProjectData.load_final_project_data_from_config(fname)"
   ]
  },
  {
   "cell_type": "markdown",
   "id": "0e605df3-c022-4eb5-90ba-4097cd1e4117",
   "metadata": {
    "jp-MarkdownHeadingCollapsed": true,
    "tags": []
   },
   "source": [
    "## GFP"
   ]
  },
  {
   "cell_type": "code",
   "execution_count": 6,
   "id": "8e1d9662-3bd8-4ca7-8e08-f64981ead584",
   "metadata": {},
   "outputs": [
    {
     "name": "stdout",
     "output_type": "stream",
     "text": [
      "ConfigFile  : INFO     Set up logger with name: ConfigFile\n",
      "Checking path /scratch/neurobiology/zimmer/Charles/dlc_stacks/manually_annotated/gfp_ZIM2319_worm5/dat/2022-04-09_14-51_ZIM2319_worm5_Ch0bigtiff_preprocessed.zarr.zip on os posix...\n",
      "Checking path /scratch/neurobiology/zimmer/Charles/dlc_stacks/manually_annotated/gfp_ZIM2319_worm5/dat/2022-04-09_14-51_ZIM2319_worm5_Ch1bigtiff_preprocessed.zarr.zip on os posix...\n",
      "File for mode automatic exists at precendence: 1/3\n",
      "Read data from: /scratch/neurobiology/zimmer/Charles/dlc_stacks/manually_annotated/gfp_ZIM2319_worm5/3-tracking/postprocessing/combined_3d_tracks-4.h5\n",
      "ConfigFile  : INFO     Starting threads to read data...\n",
      "ConfigFile  : INFO     behavior_fname not found; searching\n",
      "Checking path /scratch/neurobiology/zimmer/ulises/wbfm/20220409/data/ZIM2319_worm5/2022-04-09_14-51_ZIM2319_worm5_Ch0/2022-04-09_14-51_ZIM2319_worm5_Ch0bigtiff.btf on os posix...\n",
      "ConfigFile  : WARNING  Project does not have a behavior config file\n",
      "ConfigFile  : WARNING  Did not find behavioral annotations\n",
      "Checking path /scratch/neurobiology/zimmer/ulises/wbfm/20220409/data/ZIM2319_worm5/2022-04-09_14-51-53_ZIM2319_worm5-channel-0-behaviour-/skeleton_spline_K.csv on os posix...\n",
      "Checking path /scratch/neurobiology/zimmer/ulises/wbfm/20220409/data/ZIM2319_worm5/2022-04-09_14-51-53_ZIM2319_worm5-channel-0-behaviour-/skeleton_spline_X_coords.csv on os posix...\n",
      "Checking path /scratch/neurobiology/zimmer/ulises/wbfm/20220409/data/ZIM2319_worm5/2022-04-09_14-51-53_ZIM2319_worm5-channel-0-behaviour-/skeleton_spline_Y_coords.csv on os posix...\n",
      "ConfigFile  : INFO     Read all data from files: ['/scratch/neurobiology/zimmer/Charles/dlc_stacks/manually_annotated/gfp_ZIM2319_worm5/3-tracking/postprocessing/combined_3d_tracks-4.h5', '/scratch/neurobiology/zimmer/Charles/dlc_stacks/manually_annotated/gfp_ZIM2319_worm5/dat/2022-04-09_14-51_ZIM2319_worm5_Ch0bigtiff_preprocessed.zarr.zip', '/scratch/neurobiology/zimmer/Charles/dlc_stacks/manually_annotated/gfp_ZIM2319_worm5/dat/2022-04-09_14-51_ZIM2319_worm5_Ch1bigtiff_preprocessed.zarr.zip', '/scratch/neurobiology/zimmer/Charles/dlc_stacks/manually_annotated/gfp_ZIM2319_worm5/4-traces/red_traces.h5', '/scratch/neurobiology/zimmer/Charles/dlc_stacks/manually_annotated/gfp_ZIM2319_worm5/4-traces/green_traces.h5', '/scratch/neurobiology/zimmer/Charles/dlc_stacks/manually_annotated/gfp_ZIM2319_worm5/1-segmentation/masks.zarr', '/scratch/neurobiology/zimmer/Charles/dlc_stacks/manually_annotated/gfp_ZIM2319_worm5/4-traces/reindexed_masks.zarr.zip']\n",
      "ConfigFile  : INFO     =======================================\n",
      "Project data for directory:\n",
      "/scratch/neurobiology/zimmer/Charles/dlc_stacks/manually_annotated/gfp_ZIM2319_worm5 \n",
      "Found the following data files:\n",
      "============Raw========================\n",
      "red_data:                 True\n",
      "green_data:               True\n",
      "============Annotations================\n",
      "manual_tracking:          True\n",
      "============Segmentation===============\n",
      "raw_segmentation:         True\n",
      "colored_segmentation:     True\n",
      "============Traces=====================\n",
      "red_traces:               True\n",
      "green_traces:             True\n",
      "\n"
     ]
    }
   ],
   "source": [
    "fname = \"/scratch/neurobiology/zimmer/Charles/dlc_stacks/manually_annotated/gfp_ZIM2319_worm5/project_config.yaml\"\n",
    "project_data_gfp1 = ProjectData.load_final_project_data_from_config(fname)"
   ]
  },
  {
   "cell_type": "markdown",
   "id": "f1917ba1-5ea1-4554-97f9-1b1aca592605",
   "metadata": {
    "jp-MarkdownHeadingCollapsed": true,
    "tags": []
   },
   "source": [
    "## Bright worms (old)"
   ]
  },
  {
   "cell_type": "code",
   "execution_count": 8,
   "id": "3a0adf2d-acef-4472-b146-f2e7e70d809c",
   "metadata": {},
   "outputs": [
    {
     "name": "stdout",
     "output_type": "stream",
     "text": [
      "ConfigFile  : INFO     Set up logger with name: ConfigFile\n",
      "Checking path /scratch/neurobiology/zimmer/Charles/dlc_stacks/manually_annotated/bright_worm5/dat/2021-12-17_16-28-19_worm5-channel-0-pco_camera1bigtiff_preprocessed.zarr.zip on os posix...\n",
      "Checking path /scratch/neurobiology/zimmer/Charles/dlc_stacks/manually_annotated/bright_worm5/dat/2021-12-17_16-28-19_worm5-channel-1-pco_camera2bigtiff_preprocessed.zarr.zip on os posix...\n"
     ]
    },
    {
     "name": "stderr",
     "output_type": "stream",
     "text": [
      "WARNING:root:Not using most recently modified file (mode fdnc)\n"
     ]
    },
    {
     "name": "stdout",
     "output_type": "stream",
     "text": [
      "File for mode automatic exists at precendence: 1/3\n",
      "Read data from: /scratch/neurobiology/zimmer/Charles/dlc_stacks/manually_annotated/bright_worm5/3-tracking/postprocessing/combined_3d_tracks-1.h5\n",
      "ConfigFile  : INFO     Starting threads to read data...\n",
      "ConfigFile  : INFO     behavior_fname not found; searching\n",
      "Checking path /scratch/neurobiology/zimmer/ulises/wbfm/20211217/data/worm5/2021-12-17_16-28-19_worm5-channel-0-pco_camera1/2021-12-17_16-28-19_worm5-channel-0-pco_camera1bigtiff.btf on os posix...\n",
      "ConfigFile  : WARNING  Did not find at least one centerline related file: [None, None, None]\n",
      "Annotations are already stable style\n",
      "ConfigFile  : INFO     Read all data from files: ['/scratch/neurobiology/zimmer/Charles/dlc_stacks/manually_annotated/bright_worm5/3-tracking/postprocessing/combined_3d_tracks-1.h5', '/scratch/neurobiology/zimmer/Charles/dlc_stacks/manually_annotated/bright_worm5/dat/2021-12-17_16-28-19_worm5-channel-0-pco_camera1bigtiff_preprocessed.zarr.zip', '/scratch/neurobiology/zimmer/Charles/dlc_stacks/manually_annotated/bright_worm5/dat/2021-12-17_16-28-19_worm5-channel-1-pco_camera2bigtiff_preprocessed.zarr.zip', '/scratch/neurobiology/zimmer/Charles/dlc_stacks/manually_annotated/bright_worm5/4-traces/red_traces.h5', '/scratch/neurobiology/zimmer/Charles/dlc_stacks/manually_annotated/bright_worm5/4-traces/green_traces.h5', '/scratch/neurobiology/zimmer/Charles/dlc_stacks/manually_annotated/bright_worm5/1-segmentation/masks.zarr', '/scratch/neurobiology/zimmer/Charles/dlc_stacks/manually_annotated/bright_worm5/4-traces/reindexed_masks.zarr.zip']\n",
      "ConfigFile  : INFO     =======================================\n",
      "Project data for directory:\n",
      "/scratch/neurobiology/zimmer/Charles/dlc_stacks/manually_annotated/bright_worm5 \n",
      "Found the following data files:\n",
      "============Raw========================\n",
      "red_data:                 True\n",
      "green_data:               True\n",
      "============Annotations================\n",
      "manual_tracking:          True\n",
      "============Segmentation===============\n",
      "raw_segmentation:         True\n",
      "colored_segmentation:     True\n",
      "============Traces=====================\n",
      "red_traces:               True\n",
      "green_traces:             True\n",
      "\n"
     ]
    }
   ],
   "source": [
    "fname = \"/scratch/neurobiology/zimmer/Charles/dlc_stacks/manually_annotated/bright_worm5/project_config.yaml\"\n",
    "project_data_bright1 = ProjectData.load_final_project_data_from_config(fname)"
   ]
  },
  {
   "cell_type": "code",
   "execution_count": 19,
   "id": "aaef9343-06d6-4f95-b4c2-9dd38617d175",
   "metadata": {},
   "outputs": [
    {
     "name": "stdout",
     "output_type": "stream",
     "text": [
      "ConfigFile  : INFO     Set up logger with name: ConfigFile\n",
      "Checking path /scratch/neurobiology/zimmer/Charles/dlc_stacks/manually_annotated/bright_worm7/dat/2021-12-17_17-38-56_worm7-channel-0-pco_camera1bigtiff_preprocessed.zarr.zip on os posix...\n",
      "Checking path /scratch/neurobiology/zimmer/Charles/dlc_stacks/manually_annotated/bright_worm7/dat/2021-12-17_17-38-56_worm7-channel-1-pco_camera2bigtiff_preprocessed.zarr.zip on os posix...\n",
      "File for mode automatic exists at precendence: 1/3\n",
      "Read data from: /scratch/neurobiology/zimmer/Charles/dlc_stacks/manually_annotated/bright_worm7/3-tracking/postprocessing/combined_3d_tracks-1.h5\n",
      "ConfigFile  : INFO     Starting threads to read data...\n",
      "ConfigFile  : INFO     behavior_fname not found; searching\n",
      "Checking path /scratch/neurobiology/zimmer/ulises/wbfm/20211217/data/worm7/2021-12-17_17-38-56_worm7-channel-0-pco_camera1/2021-12-17_17-38-56_worm7-channel-0-pco_camera1bigtiff.btf on os posix...\n",
      "ConfigFile  : WARNING  Did not find at least one centerline related file: [None, None, None]\n",
      "ConfigFile  : WARNING  Project does not have a behavior config file\n",
      "ConfigFile  : WARNING  Did not find behavioral annotations\n",
      "ConfigFile  : INFO     Read all data from files: ['/scratch/neurobiology/zimmer/Charles/dlc_stacks/manually_annotated/bright_worm7/3-tracking/postprocessing/combined_3d_tracks-1.h5', '/scratch/neurobiology/zimmer/Charles/dlc_stacks/manually_annotated/bright_worm7/dat/2021-12-17_17-38-56_worm7-channel-0-pco_camera1bigtiff_preprocessed.zarr.zip', '/scratch/neurobiology/zimmer/Charles/dlc_stacks/manually_annotated/bright_worm7/dat/2021-12-17_17-38-56_worm7-channel-1-pco_camera2bigtiff_preprocessed.zarr.zip', '/scratch/neurobiology/zimmer/Charles/dlc_stacks/manually_annotated/bright_worm7/4-traces/red_traces.h5', '/scratch/neurobiology/zimmer/Charles/dlc_stacks/manually_annotated/bright_worm7/4-traces/green_traces.h5', '/scratch/neurobiology/zimmer/Charles/dlc_stacks/manually_annotated/bright_worm7/1-segmentation/masks.zarr', '/scratch/neurobiology/zimmer/Charles/dlc_stacks/manually_annotated/bright_worm7/4-traces/reindexed_masks.zarr.zip']\n"
     ]
    },
    {
     "name": "stderr",
     "output_type": "stream",
     "text": [
      "WARNING:root:Did not find file /scratch/neurobiology/zimmer/Charles/dlc_stacks/manually_annotated/bright_worm7/3-tracking/manual_annotation/manual_tracking.csv\n"
     ]
    },
    {
     "name": "stdout",
     "output_type": "stream",
     "text": [
      "ConfigFile  : INFO     =======================================\n",
      "Project data for directory:\n",
      "/scratch/neurobiology/zimmer/Charles/dlc_stacks/manually_annotated/bright_worm7 \n",
      "Found the following data files:\n",
      "============Raw========================\n",
      "red_data:                 True\n",
      "green_data:               True\n",
      "============Annotations================\n",
      "manual_tracking:          False\n",
      "============Segmentation===============\n",
      "raw_segmentation:         True\n",
      "colored_segmentation:     True\n",
      "============Traces=====================\n",
      "red_traces:               True\n",
      "green_traces:             True\n",
      "\n"
     ]
    }
   ],
   "source": [
    "fname = \"/scratch/neurobiology/zimmer/Charles/dlc_stacks/manually_annotated/bright_worm7/project_config.yaml\"\n",
    "project_data_bright2 = ProjectData.load_final_project_data_from_config(fname)"
   ]
  },
  {
   "cell_type": "markdown",
   "id": "46820d3b-effc-4445-91e6-191cfc960df0",
   "metadata": {
    "jp-MarkdownHeadingCollapsed": true,
    "tags": []
   },
   "source": [
    "## Bright worms (new)"
   ]
  },
  {
   "cell_type": "code",
   "execution_count": 15,
   "id": "0a62e03e-432b-4da3-8d4f-54edfd009910",
   "metadata": {},
   "outputs": [
    {
     "name": "stdout",
     "output_type": "stream",
     "text": [
      "ConfigFile  : INFO     Set up logger with name: ConfigFile\n",
      "Checking path /scratch/neurobiology/zimmer/Charles/dlc_stacks/incomplete/C-NewBright6-2022_07_12/dat/2022-06-14_14-04_ZIM2156_worm6_Ch0bigtiff_preprocessed.zarr.zip on os posix...\n",
      "Checking path /scratch/neurobiology/zimmer/Charles/dlc_stacks/incomplete/C-NewBright6-2022_07_12/dat/2022-06-14_14-04_ZIM2156_worm6_Ch1bigtiff_preprocessed.zarr.zip on os posix...\n",
      "File for mode automatic exists at precendence: 1/3\n",
      "Read data from: /scratch/neurobiology/zimmer/Charles/dlc_stacks/incomplete/C-NewBright6-2022_07_12/3-tracking/postprocessing/combined_3d_tracks.h5\n",
      "ConfigFile  : INFO     Starting threads to read data...\n",
      "ConfigFile  : INFO     behavior_fname not found; searching\n",
      "Checking path /scratch/neurobiology/zimmer/ulises/wbfm/20220614/data/ZIM2156_worm6/2022-06-14_14-04_ZIM2156_worm6_Ch0/2022-06-14_14-04_ZIM2156_worm6_Ch0bigtiff.btf on os posix...\n",
      "Found no behavior subfolder in /scratch/neurobiology/zimmer/ulises/wbfm/20220614/data/ZIM2156_worm6, aborting\n",
      "ConfigFile  : WARNING  behavior_fname search failed; returning empty object\n",
      "ConfigFile  : WARNING  This means all calculations with curvature (kymograph) will fail!\n",
      "ConfigFile  : INFO     Read all data from files: ['/scratch/neurobiology/zimmer/Charles/dlc_stacks/incomplete/C-NewBright6-2022_07_12/3-tracking/postprocessing/combined_3d_tracks.h5', '/scratch/neurobiology/zimmer/Charles/dlc_stacks/incomplete/C-NewBright6-2022_07_12/dat/2022-06-14_14-04_ZIM2156_worm6_Ch0bigtiff_preprocessed.zarr.zip', '/scratch/neurobiology/zimmer/Charles/dlc_stacks/incomplete/C-NewBright6-2022_07_12/dat/2022-06-14_14-04_ZIM2156_worm6_Ch1bigtiff_preprocessed.zarr.zip', '/scratch/neurobiology/zimmer/Charles/dlc_stacks/incomplete/C-NewBright6-2022_07_12/4-traces/red_traces.h5', '/scratch/neurobiology/zimmer/Charles/dlc_stacks/incomplete/C-NewBright6-2022_07_12/4-traces/green_traces.h5', '/scratch/neurobiology/zimmer/Charles/dlc_stacks/incomplete/C-NewBright6-2022_07_12/1-segmentation/masks.zarr', '/scratch/neurobiology/zimmer/Charles/dlc_stacks/incomplete/C-NewBright6-2022_07_12/4-traces/reindexed_masks.zarr.zip']\n"
     ]
    },
    {
     "name": "stderr",
     "output_type": "stream",
     "text": [
      "WARNING:root:Did not find file /scratch/neurobiology/zimmer/Charles/dlc_stacks/incomplete/C-NewBright6-2022_07_12/3-tracking/manual_annotation/manual_tracking.csv\n"
     ]
    },
    {
     "name": "stdout",
     "output_type": "stream",
     "text": [
      "ConfigFile  : INFO     =======================================\n",
      "Project data for directory:\n",
      "/scratch/neurobiology/zimmer/Charles/dlc_stacks/incomplete/C-NewBright6-2022_07_12 \n",
      "Found the following data files:\n",
      "============Raw========================\n",
      "red_data:                 True\n",
      "green_data:               True\n",
      "============Annotations================\n",
      "manual_tracking:          False\n",
      "============Segmentation===============\n",
      "raw_segmentation:         True\n",
      "colored_segmentation:     True\n",
      "============Traces=====================\n",
      "red_traces:               True\n",
      "green_traces:             True\n",
      "\n"
     ]
    }
   ],
   "source": [
    "fname = \"/scratch/neurobiology/zimmer/Charles/dlc_stacks/incomplete/C-NewBright6-2022_07_12/project_config.yaml\"\n",
    "project_data1_C = ProjectData.load_final_project_data_from_config(fname)"
   ]
  },
  {
   "cell_type": "code",
   "execution_count": 16,
   "id": "861b4de4-e8d1-40a8-b2ad-bcd582750398",
   "metadata": {},
   "outputs": [
    {
     "name": "stdout",
     "output_type": "stream",
     "text": [
      "ConfigFile  : INFO     Set up logger with name: ConfigFile\n",
      "Checking path /scratch/neurobiology/zimmer/Charles/dlc_stacks/incomplete/C-NewBright7-2022_06_30/dat/2022-06-14_14-23_ZIM2156_worm7_Ch0bigtiff_preprocessed.zarr.zip on os posix...\n",
      "Checking path /scratch/neurobiology/zimmer/Charles/dlc_stacks/incomplete/C-NewBright7-2022_06_30/dat/2022-06-14_14-23_ZIM2156_worm7_Ch1bigtiff_preprocessed.zarr.zip on os posix...\n",
      "File for mode automatic exists at precendence: 1/3\n",
      "Read data from: /scratch/neurobiology/zimmer/Charles/dlc_stacks/incomplete/C-NewBright7-2022_06_30/3-tracking/postprocessing/combined_3d_tracks.h5\n",
      "ConfigFile  : INFO     Starting threads to read data...\n",
      "ConfigFile  : INFO     behavior_fname not found; searching\n",
      "Checking path /scratch/neurobiology/zimmer/ulises/wbfm/20220614/data/ZIM2156_worm7/2022-06-14_14-23_ZIM2156_worm7_Ch0/2022-06-14_14-23_ZIM2156_worm7_Ch0bigtiff.btf on os posix...\n",
      "Found no behavior subfolder in /scratch/neurobiology/zimmer/ulises/wbfm/20220614/data/ZIM2156_worm7, aborting\n",
      "ConfigFile  : WARNING  behavior_fname search failed; returning empty object\n",
      "ConfigFile  : WARNING  This means all calculations with curvature (kymograph) will fail!\n",
      "ConfigFile  : INFO     Read all data from files: ['/scratch/neurobiology/zimmer/Charles/dlc_stacks/incomplete/C-NewBright7-2022_06_30/3-tracking/postprocessing/combined_3d_tracks.h5', '/scratch/neurobiology/zimmer/Charles/dlc_stacks/incomplete/C-NewBright7-2022_06_30/dat/2022-06-14_14-23_ZIM2156_worm7_Ch0bigtiff_preprocessed.zarr.zip', '/scratch/neurobiology/zimmer/Charles/dlc_stacks/incomplete/C-NewBright7-2022_06_30/dat/2022-06-14_14-23_ZIM2156_worm7_Ch1bigtiff_preprocessed.zarr.zip', '/scratch/neurobiology/zimmer/Charles/dlc_stacks/incomplete/C-NewBright7-2022_06_30/4-traces/red_traces.h5', '/scratch/neurobiology/zimmer/Charles/dlc_stacks/incomplete/C-NewBright7-2022_06_30/4-traces/green_traces.h5', '/scratch/neurobiology/zimmer/Charles/dlc_stacks/incomplete/C-NewBright7-2022_06_30/1-segmentation/masks.zarr', '/scratch/neurobiology/zimmer/Charles/dlc_stacks/incomplete/C-NewBright7-2022_06_30/4-traces/reindexed_masks.zarr.zip']\n"
     ]
    },
    {
     "name": "stderr",
     "output_type": "stream",
     "text": [
      "WARNING:root:Did not find file /scratch/neurobiology/zimmer/Charles/dlc_stacks/incomplete/C-NewBright7-2022_06_30/3-tracking/manual_annotation/manual_tracking.csv\n"
     ]
    },
    {
     "name": "stdout",
     "output_type": "stream",
     "text": [
      "ConfigFile  : INFO     =======================================\n",
      "Project data for directory:\n",
      "/scratch/neurobiology/zimmer/Charles/dlc_stacks/incomplete/C-NewBright7-2022_06_30 \n",
      "Found the following data files:\n",
      "============Raw========================\n",
      "red_data:                 True\n",
      "green_data:               True\n",
      "============Annotations================\n",
      "manual_tracking:          False\n",
      "============Segmentation===============\n",
      "raw_segmentation:         True\n",
      "colored_segmentation:     True\n",
      "============Traces=====================\n",
      "red_traces:               True\n",
      "green_traces:             True\n",
      "\n"
     ]
    }
   ],
   "source": [
    "fname = \"/scratch/neurobiology/zimmer/Charles/dlc_stacks/incomplete/C-NewBright7-2022_06_30/project_config.yaml\"\n",
    "\n",
    "project_data2_C = ProjectData.load_final_project_data_from_config(fname)"
   ]
  },
  {
   "cell_type": "code",
   "execution_count": 17,
   "id": "7ce0c286-75c1-4087-b7a4-8790e932da10",
   "metadata": {},
   "outputs": [
    {
     "name": "stdout",
     "output_type": "stream",
     "text": [
      "ConfigFile  : INFO     Set up logger with name: ConfigFile\n",
      "Checking path /scratch/neurobiology/zimmer/Charles/dlc_stacks/incomplete/C-NewBright8-2022_06_30/dat/2022-06-14_14-41_ZIM2156_worm8_Ch0bigtiff_preprocessed.zarr.zip on os posix...\n",
      "Checking path /scratch/neurobiology/zimmer/Charles/dlc_stacks/incomplete/C-NewBright8-2022_06_30/dat/2022-06-14_14-41_ZIM2156_worm8_Ch1bigtiff_preprocessed.zarr.zip on os posix...\n",
      "File for mode automatic exists at precendence: 1/3\n",
      "Read data from: /scratch/neurobiology/zimmer/Charles/dlc_stacks/incomplete/C-NewBright8-2022_06_30/3-tracking/postprocessing/combined_3d_tracks.h5\n",
      "ConfigFile  : INFO     Starting threads to read data...\n",
      "ConfigFile  : INFO     behavior_fname not found; searching\n",
      "Checking path /scratch/neurobiology/zimmer/ulises/wbfm/20220614/data/ZIM2156_worm8/2022-06-14_14-41_ZIM2156_worm8_Ch0/2022-06-14_14-41_ZIM2156_worm8_Ch0bigtiff.btf on os posix...\n",
      "Found no behavior subfolder in /scratch/neurobiology/zimmer/ulises/wbfm/20220614/data/ZIM2156_worm8, aborting\n",
      "ConfigFile  : WARNING  behavior_fname search failed; returning empty object\n",
      "ConfigFile  : WARNING  This means all calculations with curvature (kymograph) will fail!\n",
      "ConfigFile  : INFO     Read all data from files: ['/scratch/neurobiology/zimmer/Charles/dlc_stacks/incomplete/C-NewBright8-2022_06_30/3-tracking/postprocessing/combined_3d_tracks.h5', '/scratch/neurobiology/zimmer/Charles/dlc_stacks/incomplete/C-NewBright8-2022_06_30/dat/2022-06-14_14-41_ZIM2156_worm8_Ch0bigtiff_preprocessed.zarr.zip', '/scratch/neurobiology/zimmer/Charles/dlc_stacks/incomplete/C-NewBright8-2022_06_30/dat/2022-06-14_14-41_ZIM2156_worm8_Ch1bigtiff_preprocessed.zarr.zip', '/scratch/neurobiology/zimmer/Charles/dlc_stacks/incomplete/C-NewBright8-2022_06_30/4-traces/red_traces.h5', '/scratch/neurobiology/zimmer/Charles/dlc_stacks/incomplete/C-NewBright8-2022_06_30/4-traces/green_traces.h5', '/scratch/neurobiology/zimmer/Charles/dlc_stacks/incomplete/C-NewBright8-2022_06_30/1-segmentation/masks.zarr', '/scratch/neurobiology/zimmer/Charles/dlc_stacks/incomplete/C-NewBright8-2022_06_30/4-traces/reindexed_masks.zarr.zip']\n"
     ]
    },
    {
     "name": "stderr",
     "output_type": "stream",
     "text": [
      "WARNING:root:Did not find file /scratch/neurobiology/zimmer/Charles/dlc_stacks/incomplete/C-NewBright8-2022_06_30/3-tracking/manual_annotation/manual_tracking.csv\n"
     ]
    },
    {
     "name": "stdout",
     "output_type": "stream",
     "text": [
      "ConfigFile  : INFO     =======================================\n",
      "Project data for directory:\n",
      "/scratch/neurobiology/zimmer/Charles/dlc_stacks/incomplete/C-NewBright8-2022_06_30 \n",
      "Found the following data files:\n",
      "============Raw========================\n",
      "red_data:                 True\n",
      "green_data:               True\n",
      "============Annotations================\n",
      "manual_tracking:          False\n",
      "============Segmentation===============\n",
      "raw_segmentation:         True\n",
      "colored_segmentation:     True\n",
      "============Traces=====================\n",
      "red_traces:               True\n",
      "green_traces:             True\n",
      "\n"
     ]
    }
   ],
   "source": [
    "fname = \"/scratch/neurobiology/zimmer/Charles/dlc_stacks/incomplete/C-NewBright8-2022_06_30/project_config.yaml\"\n",
    "project_data3_C = ProjectData.load_final_project_data_from_config(fname)"
   ]
  },
  {
   "cell_type": "code",
   "execution_count": 18,
   "id": "11acc4b3-6f5a-4fad-b7eb-d72512622a15",
   "metadata": {},
   "outputs": [
    {
     "name": "stdout",
     "output_type": "stream",
     "text": [
      "ConfigFile  : INFO     Set up logger with name: ConfigFile\n",
      "Checking path /scratch/neurobiology/zimmer/Charles/dlc_stacks/incomplete/C-NewBright9-2022_06_30/dat/2022-06-14_15-04_ZIM2156_worm9_Ch0bigtiff_preprocessed.zarr.zip on os posix...\n",
      "Checking path /scratch/neurobiology/zimmer/Charles/dlc_stacks/incomplete/C-NewBright9-2022_06_30/dat/2022-06-14_15-04_ZIM2156_worm9_Ch1bigtiff_preprocessed.zarr.zip on os posix...\n",
      "File for mode automatic exists at precendence: 1/3\n",
      "Read data from: /scratch/neurobiology/zimmer/Charles/dlc_stacks/incomplete/C-NewBright9-2022_06_30/3-tracking/postprocessing/combined_3d_tracks.h5\n",
      "ConfigFile  : INFO     Starting threads to read data...\n",
      "ConfigFile  : INFO     behavior_fname not found; searching\n",
      "Checking path /scratch/neurobiology/zimmer/ulises/wbfm/20220614/data/ZIM2156_worm9/2022-06-14_15-04_ZIM2156_worm9_Ch0/2022-06-14_15-04_ZIM2156_worm9_Ch0bigtiff.btf on os posix...\n",
      "Found no behavior subfolder in /scratch/neurobiology/zimmer/ulises/wbfm/20220614/data/ZIM2156_worm9, aborting\n",
      "ConfigFile  : WARNING  behavior_fname search failed; returning empty object\n",
      "ConfigFile  : WARNING  This means all calculations with curvature (kymograph) will fail!\n",
      "ConfigFile  : INFO     Read all data from files: ['/scratch/neurobiology/zimmer/Charles/dlc_stacks/incomplete/C-NewBright9-2022_06_30/3-tracking/postprocessing/combined_3d_tracks.h5', '/scratch/neurobiology/zimmer/Charles/dlc_stacks/incomplete/C-NewBright9-2022_06_30/dat/2022-06-14_15-04_ZIM2156_worm9_Ch0bigtiff_preprocessed.zarr.zip', '/scratch/neurobiology/zimmer/Charles/dlc_stacks/incomplete/C-NewBright9-2022_06_30/dat/2022-06-14_15-04_ZIM2156_worm9_Ch1bigtiff_preprocessed.zarr.zip', '/scratch/neurobiology/zimmer/Charles/dlc_stacks/incomplete/C-NewBright9-2022_06_30/4-traces/red_traces.h5', '/scratch/neurobiology/zimmer/Charles/dlc_stacks/incomplete/C-NewBright9-2022_06_30/4-traces/green_traces.h5', '/scratch/neurobiology/zimmer/Charles/dlc_stacks/incomplete/C-NewBright9-2022_06_30/1-segmentation/masks.zarr', '/scratch/neurobiology/zimmer/Charles/dlc_stacks/incomplete/C-NewBright9-2022_06_30/4-traces/reindexed_masks.zarr.zip']\n"
     ]
    },
    {
     "name": "stderr",
     "output_type": "stream",
     "text": [
      "WARNING:root:Did not find file /scratch/neurobiology/zimmer/Charles/dlc_stacks/incomplete/C-NewBright9-2022_06_30/3-tracking/manual_annotation/manual_tracking.csv\n"
     ]
    },
    {
     "name": "stdout",
     "output_type": "stream",
     "text": [
      "ConfigFile  : INFO     =======================================\n",
      "Project data for directory:\n",
      "/scratch/neurobiology/zimmer/Charles/dlc_stacks/incomplete/C-NewBright9-2022_06_30 \n",
      "Found the following data files:\n",
      "============Raw========================\n",
      "red_data:                 True\n",
      "green_data:               True\n",
      "============Annotations================\n",
      "manual_tracking:          False\n",
      "============Segmentation===============\n",
      "raw_segmentation:         True\n",
      "colored_segmentation:     True\n",
      "============Traces=====================\n",
      "red_traces:               True\n",
      "green_traces:             True\n",
      "\n"
     ]
    }
   ],
   "source": [
    "fname = \"/scratch/neurobiology/zimmer/Charles/dlc_stacks/incomplete/C-NewBright9-2022_06_30/project_config.yaml\"\n",
    "project_data4_C = ProjectData.load_final_project_data_from_config(fname)"
   ]
  },
  {
   "cell_type": "markdown",
   "id": "deca2b7b-3054-4501-b30b-163fdbe8a262",
   "metadata": {
    "jp-MarkdownHeadingCollapsed": true,
    "tags": []
   },
   "source": [
    "## 12ms exposure (and bright)"
   ]
  },
  {
   "cell_type": "code",
   "execution_count": 9,
   "id": "8e21b879-e44f-4d4f-af52-b7f9f18ec29b",
   "metadata": {},
   "outputs": [
    {
     "name": "stdout",
     "output_type": "stream",
     "text": [
      "ConfigFile  : INFO     Set up logger with name: ConfigFile\n",
      "Checking path /scratch/neurobiology/zimmer/Charles/dlc_stacks/exposure_12ms/C-exp12_worm3-2022_08_01/dat/2022-07-29_12-25_ZIM2156_worm3good_Ch0bigtiff_preprocessed.zarr.zip on os posix...\n",
      "Checking path /scratch/neurobiology/zimmer/Charles/dlc_stacks/exposure_12ms/C-exp12_worm3-2022_08_01/dat/2022-07-29_12-25_ZIM2156_worm3good_Ch1bigtiff_preprocessed.zarr.zip on os posix...\n",
      "File for mode automatic exists at precendence: 1/3\n",
      "Read data from: /scratch/neurobiology/zimmer/Charles/dlc_stacks/exposure_12ms/C-exp12_worm3-2022_08_01/3-tracking/postprocessing/combined_3d_tracks.h5\n",
      "ConfigFile  : INFO     Starting threads to read data...\n",
      "ConfigFile  : INFO     behavior_fname not found; searching\n",
      "Checking path /scratch/neurobiology/zimmer/ulises/wbfm/20220729/20220729_12ms/data/ZIM2156_worm3/2022-07-29_12-25_ZIM2156_worm3good_Ch0/2022-07-29_12-25_ZIM2156_worm3good_Ch0bigtiff.btf on os posix...\n",
      "Found no behavior subfolder in /scratch/neurobiology/zimmer/ulises/wbfm/20220729/20220729_12ms/data/ZIM2156_worm3, aborting\n",
      "ConfigFile  : WARNING  behavior_fname search failed; returning empty object\n",
      "ConfigFile  : WARNING  This means all calculations with curvature (kymograph) will fail!\n",
      "ConfigFile  : INFO     Read all data from files: ['/scratch/neurobiology/zimmer/Charles/dlc_stacks/exposure_12ms/C-exp12_worm3-2022_08_01/3-tracking/postprocessing/combined_3d_tracks.h5', '/scratch/neurobiology/zimmer/Charles/dlc_stacks/exposure_12ms/C-exp12_worm3-2022_08_01/dat/2022-07-29_12-25_ZIM2156_worm3good_Ch0bigtiff_preprocessed.zarr.zip', '/scratch/neurobiology/zimmer/Charles/dlc_stacks/exposure_12ms/C-exp12_worm3-2022_08_01/dat/2022-07-29_12-25_ZIM2156_worm3good_Ch1bigtiff_preprocessed.zarr.zip', '/scratch/neurobiology/zimmer/Charles/dlc_stacks/exposure_12ms/C-exp12_worm3-2022_08_01/4-traces/red_traces.h5', '/scratch/neurobiology/zimmer/Charles/dlc_stacks/exposure_12ms/C-exp12_worm3-2022_08_01/4-traces/green_traces.h5', '/scratch/neurobiology/zimmer/Charles/dlc_stacks/exposure_12ms/C-exp12_worm3-2022_08_01/1-segmentation/masks.zarr', '/scratch/neurobiology/zimmer/Charles/dlc_stacks/exposure_12ms/C-exp12_worm3-2022_08_01/4-traces/reindexed_masks.zarr.zip']\n"
     ]
    },
    {
     "name": "stderr",
     "output_type": "stream",
     "text": [
      "WARNING:root:Did not find file /scratch/neurobiology/zimmer/Charles/dlc_stacks/exposure_12ms/C-exp12_worm3-2022_08_01/3-tracking/manual_annotation/manual_tracking.csv\n"
     ]
    },
    {
     "name": "stdout",
     "output_type": "stream",
     "text": [
      "ConfigFile  : INFO     =======================================\n",
      "Project data for directory:\n",
      "/scratch/neurobiology/zimmer/Charles/dlc_stacks/exposure_12ms/C-exp12_worm3-2022_08_01 \n",
      "Found the following data files:\n",
      "============Raw========================\n",
      "red_data:                 True\n",
      "green_data:               True\n",
      "============Annotations================\n",
      "manual_tracking:          False\n",
      "============Segmentation===============\n",
      "raw_segmentation:         True\n",
      "colored_segmentation:     True\n",
      "============Traces=====================\n",
      "red_traces:               True\n",
      "green_traces:             True\n",
      "\n"
     ]
    }
   ],
   "source": [
    "fname = \"/scratch/neurobiology/zimmer/Charles/dlc_stacks/exposure_12ms/C-exp12_worm3-2022_08_01/project_config.yaml\"\n",
    "project_data1_12ms = ProjectData.load_final_project_data_from_config(fname)"
   ]
  },
  {
   "cell_type": "code",
   "execution_count": 10,
   "id": "d34f15fc-5d3e-4d9e-a923-9980821fd7b4",
   "metadata": {},
   "outputs": [
    {
     "name": "stdout",
     "output_type": "stream",
     "text": [
      "ConfigFile  : INFO     Set up logger with name: ConfigFile\n",
      "Checking path /scratch/neurobiology/zimmer/Charles/dlc_stacks/exposure_12ms/C-exp12_worm6-2022_08_01/dat/2022-07-29_15-25_ZIM2156_worm6_Ch0bigtiff_preprocessed.zarr.zip on os posix...\n",
      "Checking path /scratch/neurobiology/zimmer/Charles/dlc_stacks/exposure_12ms/C-exp12_worm6-2022_08_01/dat/2022-07-29_15-25_ZIM2156_worm6_Ch1bigtiff_preprocessed.zarr.zip on os posix...\n",
      "File for mode automatic exists at precendence: 1/3\n",
      "Read data from: /scratch/neurobiology/zimmer/Charles/dlc_stacks/exposure_12ms/C-exp12_worm6-2022_08_01/3-tracking/postprocessing/combined_3d_tracks.h5\n",
      "ConfigFile  : INFO     Starting threads to read data...\n",
      "ConfigFile  : INFO     behavior_fname not found; searching\n",
      "Checking path /scratch/neurobiology/zimmer/ulises/wbfm/20220729/20220729_12ms/data/ZIM2156_worm6/2022-07-29_15-25_ZIM2156_worm6_Ch0/2022-07-29_15-25_ZIM2156_worm6_Ch0bigtiff.btf on os posix...\n",
      "Found no behavior subfolder in /scratch/neurobiology/zimmer/ulises/wbfm/20220729/20220729_12ms/data/ZIM2156_worm6, aborting\n",
      "ConfigFile  : WARNING  behavior_fname search failed; returning empty object\n",
      "ConfigFile  : WARNING  This means all calculations with curvature (kymograph) will fail!\n",
      "ConfigFile  : INFO     Read all data from files: ['/scratch/neurobiology/zimmer/Charles/dlc_stacks/exposure_12ms/C-exp12_worm6-2022_08_01/3-tracking/postprocessing/combined_3d_tracks.h5', '/scratch/neurobiology/zimmer/Charles/dlc_stacks/exposure_12ms/C-exp12_worm6-2022_08_01/dat/2022-07-29_15-25_ZIM2156_worm6_Ch0bigtiff_preprocessed.zarr.zip', '/scratch/neurobiology/zimmer/Charles/dlc_stacks/exposure_12ms/C-exp12_worm6-2022_08_01/dat/2022-07-29_15-25_ZIM2156_worm6_Ch1bigtiff_preprocessed.zarr.zip', '/scratch/neurobiology/zimmer/Charles/dlc_stacks/exposure_12ms/C-exp12_worm6-2022_08_01/4-traces/red_traces.h5', '/scratch/neurobiology/zimmer/Charles/dlc_stacks/exposure_12ms/C-exp12_worm6-2022_08_01/4-traces/green_traces.h5', '/scratch/neurobiology/zimmer/Charles/dlc_stacks/exposure_12ms/C-exp12_worm6-2022_08_01/1-segmentation/masks.zarr', '/scratch/neurobiology/zimmer/Charles/dlc_stacks/exposure_12ms/C-exp12_worm6-2022_08_01/4-traces/reindexed_masks.zarr.zip']\n"
     ]
    },
    {
     "name": "stderr",
     "output_type": "stream",
     "text": [
      "WARNING:root:Did not find file /scratch/neurobiology/zimmer/Charles/dlc_stacks/exposure_12ms/C-exp12_worm6-2022_08_01/3-tracking/manual_annotation/manual_tracking.csv\n"
     ]
    },
    {
     "name": "stdout",
     "output_type": "stream",
     "text": [
      "ConfigFile  : INFO     =======================================\n",
      "Project data for directory:\n",
      "/scratch/neurobiology/zimmer/Charles/dlc_stacks/exposure_12ms/C-exp12_worm6-2022_08_01 \n",
      "Found the following data files:\n",
      "============Raw========================\n",
      "red_data:                 True\n",
      "green_data:               True\n",
      "============Annotations================\n",
      "manual_tracking:          False\n",
      "============Segmentation===============\n",
      "raw_segmentation:         True\n",
      "colored_segmentation:     True\n",
      "============Traces=====================\n",
      "red_traces:               True\n",
      "green_traces:             True\n",
      "\n"
     ]
    }
   ],
   "source": [
    "fname = \"/scratch/neurobiology/zimmer/Charles/dlc_stacks/exposure_12ms/C-exp12_worm6-2022_08_01/project_config.yaml\"\n",
    "project_data2_12ms = ProjectData.load_final_project_data_from_config(fname)"
   ]
  },
  {
   "cell_type": "code",
   "execution_count": 11,
   "id": "e2927a63-3b08-45e4-960a-9b08cd02a061",
   "metadata": {},
   "outputs": [
    {
     "name": "stdout",
     "output_type": "stream",
     "text": [
      "ConfigFile  : INFO     Set up logger with name: ConfigFile\n",
      "Checking path /scratch/neurobiology/zimmer/Charles/dlc_stacks/exposure_12ms/C-exp12_worm12-2022_08_01/dat/2022-07-29_18-08_ZIM2156_worm12_Ch0bigtiff_preprocessed.zarr.zip on os posix...\n",
      "Checking path /scratch/neurobiology/zimmer/Charles/dlc_stacks/exposure_12ms/C-exp12_worm12-2022_08_01/dat/2022-07-29_18-08_ZIM2156_worm12_Ch1bigtiff_preprocessed.zarr.zip on os posix...\n",
      "File for mode automatic exists at precendence: 1/3\n",
      "Read data from: /scratch/neurobiology/zimmer/Charles/dlc_stacks/exposure_12ms/C-exp12_worm12-2022_08_01/3-tracking/postprocessing/combined_3d_tracks.h5\n",
      "ConfigFile  : INFO     Starting threads to read data...\n",
      "ConfigFile  : INFO     behavior_fname not found; searching\n",
      "Checking path /scratch/neurobiology/zimmer/ulises/wbfm/20220729/20220729_12ms/data/ZIM2156_worm12/2022-07-29_18-08_ZIM2156_worm12_Ch0/2022-07-29_18-08_ZIM2156_worm12_Ch0bigtiff.btf on os posix...\n",
      "Found no behavior subfolder in /scratch/neurobiology/zimmer/ulises/wbfm/20220729/20220729_12ms/data/ZIM2156_worm12, aborting\n",
      "ConfigFile  : WARNING  behavior_fname search failed; returning empty object\n",
      "ConfigFile  : WARNING  This means all calculations with curvature (kymograph) will fail!\n",
      "ConfigFile  : INFO     Read all data from files: ['/scratch/neurobiology/zimmer/Charles/dlc_stacks/exposure_12ms/C-exp12_worm12-2022_08_01/3-tracking/postprocessing/combined_3d_tracks.h5', '/scratch/neurobiology/zimmer/Charles/dlc_stacks/exposure_12ms/C-exp12_worm12-2022_08_01/dat/2022-07-29_18-08_ZIM2156_worm12_Ch0bigtiff_preprocessed.zarr.zip', '/scratch/neurobiology/zimmer/Charles/dlc_stacks/exposure_12ms/C-exp12_worm12-2022_08_01/dat/2022-07-29_18-08_ZIM2156_worm12_Ch1bigtiff_preprocessed.zarr.zip', '/scratch/neurobiology/zimmer/Charles/dlc_stacks/exposure_12ms/C-exp12_worm12-2022_08_01/4-traces/red_traces.h5', '/scratch/neurobiology/zimmer/Charles/dlc_stacks/exposure_12ms/C-exp12_worm12-2022_08_01/4-traces/green_traces.h5', '/scratch/neurobiology/zimmer/Charles/dlc_stacks/exposure_12ms/C-exp12_worm12-2022_08_01/1-segmentation/masks.zarr', '/scratch/neurobiology/zimmer/Charles/dlc_stacks/exposure_12ms/C-exp12_worm12-2022_08_01/4-traces/reindexed_masks.zarr.zip']\n"
     ]
    },
    {
     "name": "stderr",
     "output_type": "stream",
     "text": [
      "WARNING:root:Did not find file /scratch/neurobiology/zimmer/Charles/dlc_stacks/exposure_12ms/C-exp12_worm12-2022_08_01/3-tracking/manual_annotation/manual_tracking.csv\n"
     ]
    },
    {
     "name": "stdout",
     "output_type": "stream",
     "text": [
      "ConfigFile  : INFO     =======================================\n",
      "Project data for directory:\n",
      "/scratch/neurobiology/zimmer/Charles/dlc_stacks/exposure_12ms/C-exp12_worm12-2022_08_01 \n",
      "Found the following data files:\n",
      "============Raw========================\n",
      "red_data:                 True\n",
      "green_data:               True\n",
      "============Annotations================\n",
      "manual_tracking:          False\n",
      "============Segmentation===============\n",
      "raw_segmentation:         True\n",
      "colored_segmentation:     True\n",
      "============Traces=====================\n",
      "red_traces:               True\n",
      "green_traces:             True\n",
      "\n"
     ]
    }
   ],
   "source": [
    "fname = \"/scratch/neurobiology/zimmer/Charles/dlc_stacks/exposure_12ms/C-exp12_worm12-2022_08_01/project_config.yaml\"\n",
    "project_data3_12ms = ProjectData.load_final_project_data_from_config(fname)"
   ]
  },
  {
   "cell_type": "markdown",
   "id": "a3a89254-59cb-47f7-bf07-8e441b4840bf",
   "metadata": {
    "jp-MarkdownHeadingCollapsed": true,
    "tags": []
   },
   "source": [
    "## 24ms exposure (and bright)"
   ]
  },
  {
   "cell_type": "code",
   "execution_count": 12,
   "id": "bedb8308-b751-4846-ad4e-2980cefee59e",
   "metadata": {},
   "outputs": [
    {
     "name": "stdout",
     "output_type": "stream",
     "text": [
      "ConfigFile  : INFO     Set up logger with name: ConfigFile\n",
      "Checking path /scratch/neurobiology/zimmer/Charles/dlc_stacks/exposure_24ms/C-exp24_worm7-2022_08_01/dat/2022-07-29_16-02_ZIM2156_worm7_Ch0bigtiff_preprocessed.zarr.zip on os posix...\n",
      "Checking path /scratch/neurobiology/zimmer/Charles/dlc_stacks/exposure_24ms/C-exp24_worm7-2022_08_01/dat/2022-07-29_16-02_ZIM2156_worm7_Ch1bigtiff_preprocessed.zarr.zip on os posix...\n",
      "File for mode automatic exists at precendence: 1/3\n",
      "Read data from: /scratch/neurobiology/zimmer/Charles/dlc_stacks/exposure_24ms/C-exp24_worm7-2022_08_01/3-tracking/postprocessing/combined_3d_tracks.h5\n",
      "ConfigFile  : INFO     Starting threads to read data...\n"
     ]
    },
    {
     "name": "stderr",
     "output_type": "stream",
     "text": [
      "WARNING:root:Did not find file /scratch/neurobiology/zimmer/Charles/dlc_stacks/exposure_24ms/C-exp24_worm7-2022_08_01/4-traces/red_traces.h5\n",
      "WARNING:root:Did not find file /scratch/neurobiology/zimmer/Charles/dlc_stacks/exposure_24ms/C-exp24_worm7-2022_08_01/4-traces/green_traces.h5\n"
     ]
    },
    {
     "name": "stdout",
     "output_type": "stream",
     "text": [
      "ConfigFile  : INFO     behavior_fname not found; searching\n",
      "Checking path /scratch/neurobiology/zimmer/ulises/wbfm/20220729/20220729_24ms/data/ZIM2156_worm7/2022-07-29_16-02_ZIM2156_worm7_Ch0/2022-07-29_16-02_ZIM2156_worm7_Ch0bigtiff.btf on os posix...\n",
      "Found no behavior subfolder in /scratch/neurobiology/zimmer/ulises/wbfm/20220729/20220729_24ms/data/ZIM2156_worm7, aborting\n",
      "ConfigFile  : WARNING  behavior_fname search failed; returning empty object\n",
      "ConfigFile  : WARNING  This means all calculations with curvature (kymograph) will fail!\n",
      "ConfigFile  : INFO     Read all data from files: ['/scratch/neurobiology/zimmer/Charles/dlc_stacks/exposure_24ms/C-exp24_worm7-2022_08_01/3-tracking/postprocessing/combined_3d_tracks.h5', '/scratch/neurobiology/zimmer/Charles/dlc_stacks/exposure_24ms/C-exp24_worm7-2022_08_01/dat/2022-07-29_16-02_ZIM2156_worm7_Ch0bigtiff_preprocessed.zarr.zip', '/scratch/neurobiology/zimmer/Charles/dlc_stacks/exposure_24ms/C-exp24_worm7-2022_08_01/dat/2022-07-29_16-02_ZIM2156_worm7_Ch1bigtiff_preprocessed.zarr.zip', '/scratch/neurobiology/zimmer/Charles/dlc_stacks/exposure_24ms/C-exp24_worm7-2022_08_01/4-traces/red_traces.h5', '/scratch/neurobiology/zimmer/Charles/dlc_stacks/exposure_24ms/C-exp24_worm7-2022_08_01/4-traces/green_traces.h5', '/scratch/neurobiology/zimmer/Charles/dlc_stacks/exposure_24ms/C-exp24_worm7-2022_08_01/1-segmentation/masks.zarr', '/scratch/neurobiology/zimmer/Charles/dlc_stacks/exposure_24ms/C-exp24_worm7-2022_08_01/4-traces/reindexed_masks.zarr.zip']\n"
     ]
    },
    {
     "name": "stderr",
     "output_type": "stream",
     "text": [
      "WARNING:root:Did not find file /scratch/neurobiology/zimmer/Charles/dlc_stacks/exposure_24ms/C-exp24_worm7-2022_08_01/3-tracking/manual_annotation/manual_tracking.csv\n"
     ]
    },
    {
     "name": "stdout",
     "output_type": "stream",
     "text": [
      "ConfigFile  : INFO     =======================================\n",
      "Project data for directory:\n",
      "/scratch/neurobiology/zimmer/Charles/dlc_stacks/exposure_24ms/C-exp24_worm7-2022_08_01 \n",
      "Found the following data files:\n",
      "============Raw========================\n",
      "red_data:                 True\n",
      "green_data:               True\n",
      "============Annotations================\n",
      "manual_tracking:          False\n",
      "============Segmentation===============\n",
      "raw_segmentation:         True\n",
      "colored_segmentation:     True\n",
      "============Traces=====================\n",
      "red_traces:               False\n",
      "green_traces:             False\n",
      "\n"
     ]
    }
   ],
   "source": [
    "fname = \"/scratch/neurobiology/zimmer/Charles/dlc_stacks/exposure_24ms/C-exp24_worm7-2022_08_01/project_config.yaml\"\n",
    "project_data1_24ms = ProjectData.load_final_project_data_from_config(fname)"
   ]
  },
  {
   "cell_type": "code",
   "execution_count": 13,
   "id": "cf1ef65c-3551-486b-b5aa-c539a466880a",
   "metadata": {},
   "outputs": [
    {
     "name": "stdout",
     "output_type": "stream",
     "text": [
      "ConfigFile  : INFO     Set up logger with name: ConfigFile\n",
      "Checking path /scratch/neurobiology/zimmer/Charles/dlc_stacks/exposure_24ms/C-exp24_worm8-2022_08_01/dat/2022-07-29_16-33_ZIM2156_worm8_Ch0bigtiff_preprocessed.zarr.zip on os posix...\n",
      "Checking path /scratch/neurobiology/zimmer/Charles/dlc_stacks/exposure_24ms/C-exp24_worm8-2022_08_01/dat/2022-07-29_16-33_ZIM2156_worm8_Ch1bigtiff_preprocessed.zarr.zip on os posix...\n",
      "File for mode automatic exists at precendence: 1/3\n",
      "Read data from: /scratch/neurobiology/zimmer/Charles/dlc_stacks/exposure_24ms/C-exp24_worm8-2022_08_01/3-tracking/postprocessing/combined_3d_tracks.h5\n",
      "ConfigFile  : INFO     Starting threads to read data...\n",
      "ConfigFile  : INFO     behavior_fname not found; searching\n",
      "Checking path /scratch/neurobiology/zimmer/ulises/wbfm/20220729/20220729_24ms/data/ZIM2156_worm8/2022-07-29_16-33_ZIM2156_worm8_Ch0/2022-07-29_16-33_ZIM2156_worm8_Ch0bigtiff.btf on os posix...\n",
      "Found no behavior subfolder in /scratch/neurobiology/zimmer/ulises/wbfm/20220729/20220729_24ms/data/ZIM2156_worm8, aborting\n",
      "ConfigFile  : WARNING  behavior_fname search failed; returning empty object\n",
      "ConfigFile  : WARNING  This means all calculations with curvature (kymograph) will fail!\n",
      "ConfigFile  : INFO     Read all data from files: ['/scratch/neurobiology/zimmer/Charles/dlc_stacks/exposure_24ms/C-exp24_worm8-2022_08_01/3-tracking/postprocessing/combined_3d_tracks.h5', '/scratch/neurobiology/zimmer/Charles/dlc_stacks/exposure_24ms/C-exp24_worm8-2022_08_01/dat/2022-07-29_16-33_ZIM2156_worm8_Ch0bigtiff_preprocessed.zarr.zip', '/scratch/neurobiology/zimmer/Charles/dlc_stacks/exposure_24ms/C-exp24_worm8-2022_08_01/dat/2022-07-29_16-33_ZIM2156_worm8_Ch1bigtiff_preprocessed.zarr.zip', '/scratch/neurobiology/zimmer/Charles/dlc_stacks/exposure_24ms/C-exp24_worm8-2022_08_01/4-traces/red_traces.h5', '/scratch/neurobiology/zimmer/Charles/dlc_stacks/exposure_24ms/C-exp24_worm8-2022_08_01/4-traces/green_traces.h5', '/scratch/neurobiology/zimmer/Charles/dlc_stacks/exposure_24ms/C-exp24_worm8-2022_08_01/1-segmentation/masks.zarr', '/scratch/neurobiology/zimmer/Charles/dlc_stacks/exposure_24ms/C-exp24_worm8-2022_08_01/4-traces/reindexed_masks.zarr.zip']\n"
     ]
    },
    {
     "name": "stderr",
     "output_type": "stream",
     "text": [
      "WARNING:root:Did not find file /scratch/neurobiology/zimmer/Charles/dlc_stacks/exposure_24ms/C-exp24_worm8-2022_08_01/3-tracking/manual_annotation/manual_tracking.csv\n"
     ]
    },
    {
     "name": "stdout",
     "output_type": "stream",
     "text": [
      "ConfigFile  : INFO     =======================================\n",
      "Project data for directory:\n",
      "/scratch/neurobiology/zimmer/Charles/dlc_stacks/exposure_24ms/C-exp24_worm8-2022_08_01 \n",
      "Found the following data files:\n",
      "============Raw========================\n",
      "red_data:                 True\n",
      "green_data:               True\n",
      "============Annotations================\n",
      "manual_tracking:          False\n",
      "============Segmentation===============\n",
      "raw_segmentation:         True\n",
      "colored_segmentation:     True\n",
      "============Traces=====================\n",
      "red_traces:               True\n",
      "green_traces:             True\n",
      "\n"
     ]
    }
   ],
   "source": [
    "fname = \"/scratch/neurobiology/zimmer/Charles/dlc_stacks/exposure_24ms/C-exp24_worm8-2022_08_01/project_config.yaml\"\n",
    "project_data2_24ms = ProjectData.load_final_project_data_from_config(fname)"
   ]
  },
  {
   "cell_type": "code",
   "execution_count": 14,
   "id": "dea49d50-1247-43d0-bcd9-94de0e05adcd",
   "metadata": {},
   "outputs": [
    {
     "name": "stdout",
     "output_type": "stream",
     "text": [
      "ConfigFile  : INFO     Set up logger with name: ConfigFile\n",
      "Checking path /scratch/neurobiology/zimmer/Charles/dlc_stacks/exposure_24ms/C-exp24_worm9-2022_08_01/dat/2022-07-29_17-10_ZIM2156_worm9_Ch0bigtiff_preprocessed.zarr.zip on os posix...\n",
      "Checking path /scratch/neurobiology/zimmer/Charles/dlc_stacks/exposure_24ms/C-exp24_worm9-2022_08_01/dat/2022-07-29_17-10_ZIM2156_worm9_Ch1bigtiff_preprocessed.zarr.zip on os posix...\n",
      "File for mode automatic exists at precendence: 1/3\n",
      "Read data from: /scratch/neurobiology/zimmer/Charles/dlc_stacks/exposure_24ms/C-exp24_worm9-2022_08_01/3-tracking/postprocessing/combined_3d_tracks.h5\n",
      "ConfigFile  : INFO     Starting threads to read data...\n",
      "ConfigFile  : INFO     behavior_fname not found; searching\n",
      "Checking path /scratch/neurobiology/zimmer/ulises/wbfm/20220729/20220729_24ms/data/ZIM2156_worm9/2022-07-29_17-10_ZIM2156_worm9_Ch0/2022-07-29_17-10_ZIM2156_worm9_Ch0bigtiff.btf on os posix...\n",
      "Found no behavior subfolder in /scratch/neurobiology/zimmer/ulises/wbfm/20220729/20220729_24ms/data/ZIM2156_worm9, aborting\n",
      "ConfigFile  : WARNING  behavior_fname search failed; returning empty object\n",
      "ConfigFile  : WARNING  This means all calculations with curvature (kymograph) will fail!\n",
      "ConfigFile  : INFO     Read all data from files: ['/scratch/neurobiology/zimmer/Charles/dlc_stacks/exposure_24ms/C-exp24_worm9-2022_08_01/3-tracking/postprocessing/combined_3d_tracks.h5', '/scratch/neurobiology/zimmer/Charles/dlc_stacks/exposure_24ms/C-exp24_worm9-2022_08_01/dat/2022-07-29_17-10_ZIM2156_worm9_Ch0bigtiff_preprocessed.zarr.zip', '/scratch/neurobiology/zimmer/Charles/dlc_stacks/exposure_24ms/C-exp24_worm9-2022_08_01/dat/2022-07-29_17-10_ZIM2156_worm9_Ch1bigtiff_preprocessed.zarr.zip', '/scratch/neurobiology/zimmer/Charles/dlc_stacks/exposure_24ms/C-exp24_worm9-2022_08_01/4-traces/red_traces.h5', '/scratch/neurobiology/zimmer/Charles/dlc_stacks/exposure_24ms/C-exp24_worm9-2022_08_01/4-traces/green_traces.h5', '/scratch/neurobiology/zimmer/Charles/dlc_stacks/exposure_24ms/C-exp24_worm9-2022_08_01/1-segmentation/masks.zarr', '/scratch/neurobiology/zimmer/Charles/dlc_stacks/exposure_24ms/C-exp24_worm9-2022_08_01/4-traces/reindexed_masks.zarr.zip']\n"
     ]
    },
    {
     "name": "stderr",
     "output_type": "stream",
     "text": [
      "WARNING:root:Did not find file /scratch/neurobiology/zimmer/Charles/dlc_stacks/exposure_24ms/C-exp24_worm9-2022_08_01/3-tracking/manual_annotation/manual_tracking.csv\n"
     ]
    },
    {
     "name": "stdout",
     "output_type": "stream",
     "text": [
      "ConfigFile  : INFO     =======================================\n",
      "Project data for directory:\n",
      "/scratch/neurobiology/zimmer/Charles/dlc_stacks/exposure_24ms/C-exp24_worm9-2022_08_01 \n",
      "Found the following data files:\n",
      "============Raw========================\n",
      "red_data:                 True\n",
      "green_data:               True\n",
      "============Annotations================\n",
      "manual_tracking:          False\n",
      "============Segmentation===============\n",
      "raw_segmentation:         True\n",
      "colored_segmentation:     True\n",
      "============Traces=====================\n",
      "red_traces:               True\n",
      "green_traces:             True\n",
      "\n"
     ]
    }
   ],
   "source": [
    "fname = \"/scratch/neurobiology/zimmer/Charles/dlc_stacks/exposure_24ms/C-exp24_worm9-2022_08_01/project_config.yaml\"\n",
    "project_data3_24ms = ProjectData.load_final_project_data_from_config(fname)"
   ]
  },
  {
   "cell_type": "markdown",
   "id": "6837293c-7b49-4e0c-94db-30e4862dbc05",
   "metadata": {},
   "source": [
    "# Manually annotate which neurons show high, low, or possible activity\n",
    "\n",
    "High - Can almost certainly get good behavioral correlations. May still show motion artifacts\n",
    "\n",
    "Low - Probably can't do good correlation based work, but might after additional cleanup. Show low signal, significant artifacts, or lots of gaps\n",
    "\n",
    "Possible - Can't do work with this without significant cleanup. May be entirely artifact\n",
    "\n",
    "Also: a description of the level of motion artifacts. 0 = Not visible (none of the datasets); 1 = Low (Many neurons seem undisturbed by artifacts, but they are clear in low signal ones); 2 = Medium (Even neurons with signal have visible artifacts, but they are clearly lower amplitude); 3 = High (Even highest signal neurons have comparible artifacts)"
   ]
  },
  {
   "cell_type": "markdown",
   "id": "0b5a39cc-769f-4794-b901-5107f3660620",
   "metadata": {
    "jp-MarkdownHeadingCollapsed": true,
    "tags": []
   },
   "source": [
    "## Original dim"
   ]
  },
  {
   "cell_type": "code",
   "execution_count": 134,
   "id": "bc69ca38-ca8e-4653-b9eb-348cd4e9a1fb",
   "metadata": {},
   "outputs": [],
   "source": [
    "project1_active = dict(\n",
    "    high = [1, 41, 111, 7, 17, 22, 27, 117, 28, 33, 118, 128, 20],\n",
    "    low = [6, 16, 21, 36, 71, 47, 122, 142, 13, 68, 105],\n",
    "    possible = [26, 76, 91, 116, 141, 12, 57, 102, 107, 83, 123, 29, 54, 59, 69, 74, 15, 25, 55, 60, 120, 125],\n",
    "    motion_artifact_level = 1)\n",
    "\n",
    "project2_active = dict(\n",
    "    high = [61, 87, 102, 128, 4, 103, 80],\n",
    "    low = [66, 62, 97, 3, 8, 93, 108, 118, 9, 24, 34, 93, 74, 94, 15, 40, 95],\n",
    "    possible = [7, 1, 6, 21, 26, 12, 147, 13, 38, 58, 68, 64, 79, 114, 20, 45, 70, 160],\n",
    "    motion_artifact_level = 1)\n",
    "\n",
    "\n",
    "project4_active = dict(\n",
    "    high = [83],\n",
    "    low = [88, 103, 119, 40, 70, 65, 130],\n",
    "    possible = [113, 140, 65, 14, 117],\n",
    "    motion_artifact_level = 2)\n",
    "\n",
    "annotations = [project1_active, project2_active, project4_active]\n",
    "df_dim = df_from_list(annotations, 'dim')"
   ]
  },
  {
   "cell_type": "code",
   "execution_count": 135,
   "id": "c4de16f5-5c9d-4ec1-8647-659b35e820a0",
   "metadata": {},
   "outputs": [
    {
     "data": {
      "text/html": [
       "<div>\n",
       "<style scoped>\n",
       "    .dataframe tbody tr th:only-of-type {\n",
       "        vertical-align: middle;\n",
       "    }\n",
       "\n",
       "    .dataframe tbody tr th {\n",
       "        vertical-align: top;\n",
       "    }\n",
       "\n",
       "    .dataframe thead th {\n",
       "        text-align: right;\n",
       "    }\n",
       "</style>\n",
       "<table border=\"1\" class=\"dataframe\">\n",
       "  <thead>\n",
       "    <tr style=\"text-align: right;\">\n",
       "      <th></th>\n",
       "      <th>high</th>\n",
       "      <th>low</th>\n",
       "      <th>possible</th>\n",
       "      <th>title</th>\n",
       "    </tr>\n",
       "  </thead>\n",
       "  <tbody>\n",
       "    <tr>\n",
       "      <th>dim_0</th>\n",
       "      <td>13</td>\n",
       "      <td>11</td>\n",
       "      <td>22</td>\n",
       "      <td>dim</td>\n",
       "    </tr>\n",
       "    <tr>\n",
       "      <th>dim_1</th>\n",
       "      <td>7</td>\n",
       "      <td>17</td>\n",
       "      <td>18</td>\n",
       "      <td>dim</td>\n",
       "    </tr>\n",
       "    <tr>\n",
       "      <th>dim_2</th>\n",
       "      <td>1</td>\n",
       "      <td>7</td>\n",
       "      <td>5</td>\n",
       "      <td>dim</td>\n",
       "    </tr>\n",
       "  </tbody>\n",
       "</table>\n",
       "</div>"
      ],
      "text/plain": [
       "       high  low  possible title\n",
       "dim_0    13   11        22   dim\n",
       "dim_1     7   17        18   dim\n",
       "dim_2     1    7         5   dim"
      ]
     },
     "execution_count": 135,
     "metadata": {},
     "output_type": "execute_result"
    }
   ],
   "source": [
    "df_dim"
   ]
  },
  {
   "cell_type": "code",
   "execution_count": 137,
   "id": "f5e2fb0a-c0a1-4336-990d-d2b874e5b152",
   "metadata": {},
   "outputs": [],
   "source": [
    "# Not manually annotated\n",
    "\n",
    "# Round 2 worm 3\n",
    "project3_active = dict(\n",
    "    high = [76, 121, 22, 32, 62, 143, 4, 59, 134, 75],\n",
    "    low = [11, 16, 56, 91, 126, 17, 8, 29, 34, 39, 84, 84, 94, 129, 139, 5, 35, 40, 85],\n",
    "    possible = [2, 52, 82, 132, 13, 33, 43, 63, 68, 103, 108, 99, 25, 140, 125],\n",
    "    motion_artifact_level = 1)\n",
    "\n",
    "# round2 worm4\n",
    "project5_active = dict(\n",
    "    high = [30, ],\n",
    "    low = [1, 138, 24, 138, 64, 15, 85, 145, 155],\n",
    "    possible = [],\n",
    "    motion_artifact_level = 1)\n",
    "\n",
    "# round2 worm4_1\n",
    "project6_active = dict(\n",
    "    high = [72, 19],\n",
    "    low = [11, 136, 57, 63, 19, 64, 124, 135],\n",
    "    possible = [],\n",
    "    motion_artifact_level = 1)\n",
    "\n",
    "\n",
    "annotations = [project1_active, project2_active, project3_active, project4_active, project5_active, project6_active]\n",
    "df_dim_all = df_from_list(annotations, 'dim')"
   ]
  },
  {
   "cell_type": "markdown",
   "id": "647cfc6c-aef8-46c8-bbbe-4e96d147223c",
   "metadata": {
    "jp-MarkdownHeadingCollapsed": true,
    "tags": []
   },
   "source": [
    "## Old bright"
   ]
  },
  {
   "cell_type": "code",
   "execution_count": 99,
   "id": "711b4ecb-47e1-4e55-b642-338c4c3a3b9c",
   "metadata": {},
   "outputs": [],
   "source": [
    "project_bright1_active = dict(\n",
    "    high = [1, 46, 26, 72, 117, 8, 23, 33, 38, 29, 39, 139, 55, ],\n",
    "    low = [6, 11 , 31, 36, 51, 61, 66, 106, 116, 136, 32, 102, 112, 122, 147, 13, 18, 128, 9, 19, 24, 34, 54, 79, 94, 20, 35, 40, 45, 50, 70, 95, 110, 120, 125, 140, 135, 145],\n",
    "    possible = [31, 7, 47],\n",
    "    motion_artifact_level = 1)\n",
    "\n",
    "project_bright2_active = dict(\n",
    "    high = [41, 91, 2, 62, 146, 20],\n",
    "    low = [16, 21, 56, 61, 71, 136, 27, 32, 57, 77, 87, 68, 73, 78, 133, 4, 94, 99, 114, 40, ],\n",
    "    possible = [103, 65, 85, 100, 115, 120, 145, 1, 7, 22, 31, 81, 126, 17, 8, 138],\n",
    "    motion_artifact_level = 3)\n",
    "\n",
    "annotations = [project_bright1_active, project_bright2_active]\n",
    "df_bright = df_from_list(annotations, 'bright')"
   ]
  },
  {
   "cell_type": "code",
   "execution_count": 132,
   "id": "b959de0d-7be6-4a37-a2d8-8d0125c74129",
   "metadata": {},
   "outputs": [],
   "source": [
    "# Not manually annotated\n",
    "\n",
    "# Bright6\n",
    "project_bright3_active = dict(\n",
    "    high = [6, 26, 61, 61, 116, 102, 33, 43, 78, 108, 4, 39, 109, 70, 140, 4],\n",
    "    low = [86, 71, 111, 121, 141, 2, 27, 22, 77, 112, 137, 58, 108, 14, 24, 29, 34, 44, 94, 119, 10, 20, 25, 35, 30, 45, 55, 60, 90, 100, 105, 135],\n",
    "    possible = [],\n",
    "    motion_artifact_level = 1)\n",
    "\n",
    "annotations = [project_bright1_active, project_bright2_active, project_bright3_active]\n",
    "df_bright_all = df_from_list(annotations, 'bright')"
   ]
  },
  {
   "cell_type": "markdown",
   "id": "3ff8b524-c1a5-431e-9864-37443cd5b1c8",
   "metadata": {
    "jp-MarkdownHeadingCollapsed": true,
    "tags": []
   },
   "source": [
    "## New bright"
   ]
  },
  {
   "cell_type": "code",
   "execution_count": 142,
   "id": "7b0a613d-d33c-42d9-87a8-37c4db53d2a7",
   "metadata": {},
   "outputs": [],
   "source": [
    "# None manually annotated\n",
    "\n",
    "project_bright_C1_active = dict(\n",
    "    high = [138, 13, 86, ],\n",
    "    low = [41, 112, 113, ],\n",
    "    possible = [],\n",
    "    motion_artifact_level = 1)\n",
    "\n",
    "project_bright_C2_active = dict(\n",
    "    high = [7, 22, 68, 83, 19, 105, 135, 59],\n",
    "    low = [73, 98, 54, 74, 69, 35, 70, 100, 140],\n",
    "    possible = [],\n",
    "    motion_artifact_level = 2)\n",
    "\n",
    "project_bright_C3_active = dict(\n",
    "    high = [17, 38, 64, ],\n",
    "    low = [6, 31, 72, 56, 103, 4, 25, 100, 125],\n",
    "    possible = [],\n",
    "    motion_artifact_level = 1)\n",
    "\n",
    "project_bright_C4_active = dict(\n",
    "    high = [11, 26, 86, 17, 62, 3, 8, 64, 25, 60, ],\n",
    "    low = [6, 16, 96, 111, 47, 33, 4, 29, 49, 89, 104, 129, 75, 95, 100, 120],\n",
    "    possible = [],\n",
    "    motion_artifact_level = 1)\n",
    "\n",
    "\n",
    "annotations = [project_bright_C1_active, project_bright_C2_active, project_bright_C3_active, project_bright_C4_active]\n",
    "df_bright_new = df_from_list(annotations, 'bright_new')"
   ]
  },
  {
   "cell_type": "markdown",
   "id": "f2dc7afc-4e17-4a1b-896f-065c3ed353d2",
   "metadata": {},
   "source": [
    "# Exposure 12ms"
   ]
  },
  {
   "cell_type": "code",
   "execution_count": 153,
   "id": "581ab7d5-875b-4136-8726-0442661ac35a",
   "metadata": {},
   "outputs": [],
   "source": [
    "project_12exp1_active = dict(\n",
    "    high = [111, 126, 48, 44, 54, 59, 119, 25, 40, 45, 50],\n",
    "    low = [6, 141, 7, 22, 92, 127, 142, 123, 109, 35, 105, 135],\n",
    "    possible = [],\n",
    "    motion_artifact_level = 1)\n",
    "\n",
    "project_12exp3_active = dict(\n",
    "    high = [46, 61, 81, 122, 3, 28, 118, 49, 74, 135],\n",
    "    low = [6, 36, 96, 101, 126, 52, 57, 97, 8, 58, 63, 9, 4, 104, 94, 119, 144, 20, 10, 5, 40, 25, 75, 90, 100, 145, 155],\n",
    "    possible = [],\n",
    "    motion_artifact_level = 1)\n",
    "\n",
    "project_12exp6_active = dict(\n",
    "    high = [21, 31, 76, 131, 186, 115, 10, 85, 94],\n",
    "    low = [11, 56, 96, 151, 196, 127, 172, 182, 207, 3, 18, 53, 88, 163, 4, 134, 10, 85, 75, 60, ],\n",
    "    possible = [],\n",
    "    motion_artifact_level = 2)\n",
    "\n",
    "project_12exp11_active = dict(\n",
    "    high = [46, 56, 81, 106, 17, 47, 57, 97, 122, 157, 13, 23, 58, 83, 39, 44, 59, 69, 30, 80, 100, 110],\n",
    "    low = [16, 86, 146, 32, 72, 82, 132, 8, 68, 78, 98, 4, 14, 64, 74, 139, 30, 15, 105],\n",
    "    possible = [],\n",
    "    motion_artifact_level = 1)\n",
    "\n",
    "project_12exp12_active = dict(\n",
    "    high = [31, 66, 106, 121, 22, 37, 23, 33, 63, 118, 14, 84, 119, 5, 35, 40, 75, 85, 90, 95, 130, 119],\n",
    "    low = [1, 6, 56, 61, 81, 101, 141, 2, 7, 67, 82, 87, 92, 97, 152, 3, 8, 48, 93, 4, 49, 79, 84, 94, 25, 30, 50, 80, 140],\n",
    "    possible = [],\n",
    "    motion_artifact_level = 1)\n",
    "\n",
    "annotations = [project_12exp1_active, project_12exp3_active, project_12exp6_active, project_12exp11_active, project_12exp12_active]\n",
    "df_exp12 = df_from_list(annotations, 'exp12')"
   ]
  },
  {
   "cell_type": "code",
   "execution_count": null,
   "id": "5eab58bd-029a-47db-8cf2-165df1f7a0f1",
   "metadata": {},
   "outputs": [],
   "source": [
    "project_12exp3_active = dict(\n",
    "    high = [],\n",
    "    low = [],\n",
    "    possible = [],\n",
    "    motion_artifact_level = 1)"
   ]
  },
  {
   "cell_type": "markdown",
   "id": "eac6227f-386e-4eeb-b3cd-6846a077cb1a",
   "metadata": {
    "jp-MarkdownHeadingCollapsed": true,
    "tags": []
   },
   "source": [
    "# Individual bar plots"
   ]
  },
  {
   "cell_type": "code",
   "execution_count": 104,
   "id": "1b40a7aa-2344-4064-bb19-ff8e2229a7d8",
   "metadata": {},
   "outputs": [
    {
     "data": {
      "text/plain": [
       "(0.0, 40.0)"
      ]
     },
     "execution_count": 104,
     "metadata": {},
     "output_type": "execute_result"
    },
    {
     "data": {
      "image/png": "[encoded data removed]",
      "text/plain": [
       "<Figure size 432x288 with 1 Axes>"
      ]
     },
     "metadata": {
      "needs_background": "light"
     },
     "output_type": "display_data"
    }
   ],
   "source": [
    "df_dim.plot(kind='bar')\n",
    "plt.title(\"Dim (original laser)\");\n",
    "plt.ylim([0, 40])"
   ]
  },
  {
   "cell_type": "code",
   "execution_count": 105,
   "id": "aa0fce65-d6f1-405d-9120-0e64364728b8",
   "metadata": {},
   "outputs": [
    {
     "data": {
      "text/plain": [
       "(0.0, 40.0)"
      ]
     },
     "execution_count": 105,
     "metadata": {},
     "output_type": "execute_result"
    },
    {
     "data": {
      "image/png": "[encoded data removed]",
      "text/plain": [
       "<Figure size 432x288 with 1 Axes>"
      ]
     },
     "metadata": {
      "needs_background": "light"
     },
     "output_type": "display_data"
    }
   ],
   "source": [
    "df_bright.plot(kind='bar')\n",
    "plt.title(\"Bright (old datsets)\");\n",
    "plt.ylim([0, 40])"
   ]
  },
  {
   "cell_type": "code",
   "execution_count": 106,
   "id": "f87df19d-fc0e-4275-b2d9-c360d9430fb3",
   "metadata": {},
   "outputs": [
    {
     "data": {
      "text/plain": [
       "(0.0, 40.0)"
      ]
     },
     "execution_count": 106,
     "metadata": {},
     "output_type": "execute_result"
    },
    {
     "data": {
      "image/png": "[encoded data removed]",
      "text/plain": [
       "<Figure size 432x288 with 1 Axes>"
      ]
     },
     "metadata": {
      "needs_background": "light"
     },
     "output_type": "display_data"
    }
   ],
   "source": [
    "df_bright_new.plot(kind='bar')\n",
    "plt.title(\"Bright (new datsets)\");\n",
    "plt.ylim([0, 40])"
   ]
  },
  {
   "cell_type": "code",
   "execution_count": 107,
   "id": "91911938-330e-4d0b-9efb-fcab780456d2",
   "metadata": {},
   "outputs": [
    {
     "data": {
      "text/plain": [
       "(0.0, 40.0)"
      ]
     },
     "execution_count": 107,
     "metadata": {},
     "output_type": "execute_result"
    },
    {
     "data": {
      "image/png": "[encoded data removed]",
      "text/plain": [
       "<Figure size 432x288 with 1 Axes>"
      ]
     },
     "metadata": {
      "needs_background": "light"
     },
     "output_type": "display_data"
    }
   ],
   "source": [
    "df_exp12.plot(kind='bar')\n",
    "plt.title(\"Exposure 12ms\");\n",
    "plt.ylim([0, 40])"
   ]
  },
  {
   "cell_type": "markdown",
   "id": "ac910fa6-efe0-45b0-9f3c-b24523c3024a",
   "metadata": {},
   "source": [
    "# Multiclass box plots\n",
    "\n",
    "First, only include manually annotated data"
   ]
  },
  {
   "cell_type": "code",
   "execution_count": 159,
   "id": "1512494f-0203-4287-91d1-3c707aefbdef",
   "metadata": {},
   "outputs": [],
   "source": [
    "import seaborn as sns\n",
    "import matplotlib\n",
    "matplotlib.rcParams.update({'font.size': 22})\n"
   ]
  },
  {
   "cell_type": "code",
   "execution_count": 160,
   "id": "a9a60771-7fe0-4e4b-ba80-4266b7c8544d",
   "metadata": {},
   "outputs": [],
   "source": [
    "df_manual = pd.concat([df_dim, df_bright])"
   ]
  },
  {
   "cell_type": "code",
   "execution_count": 161,
   "id": "cb05d4a8-c295-4e49-9d59-920225074880",
   "metadata": {},
   "outputs": [
    {
     "data": {
      "text/plain": [
       "Text(0.5, 1.0, 'Only manually annotated datasets')"
      ]
     },
     "execution_count": 161,
     "metadata": {},
     "output_type": "execute_result"
    },
    {
     "data": {
      "image/png": "[encoded data removed]",
      "text/plain": [
       "<Figure size 1080x1080 with 1 Axes>"
      ]
     },
     "metadata": {
      "needs_background": "light"
     },
     "output_type": "display_data"
    }
   ],
   "source": [
    "plt.figure(figsize=(15, 15))\n",
    "to_plot = 'high'\n",
    "\n",
    "sns.barplot(data=df_manual, y=to_plot, x='title')\n",
    "sns.scatterplot(data=df_manual, y=to_plot, x='title', legend=False, zorder=10, color='k')\n",
    "plt.xlabel(\"Type of dataset\")\n",
    "plt.ylabel(f\"Number of {to_plot} activity neurons\")\n",
    "plt.title(\"Only manually annotated datasets\")"
   ]
  },
  {
   "cell_type": "code",
   "execution_count": 166,
   "id": "565704eb-d382-4780-99c1-3481c973ee6b",
   "metadata": {},
   "outputs": [
    {
     "data": {
      "text/plain": [
       "Text(0.5, 1.0, 'Only manually annotated datasets')"
      ]
     },
     "execution_count": 166,
     "metadata": {},
     "output_type": "execute_result"
    },
    {
     "data": {
      "image/png": "[encoded data removed]",
      "text/plain": [
       "<Figure size 1080x1080 with 1 Axes>"
      ]
     },
     "metadata": {
      "needs_background": "light"
     },
     "output_type": "display_data"
    }
   ],
   "source": [
    "plt.figure(figsize=(15, 15))\n",
    "to_plot = 'low'\n",
    "\n",
    "sns.barplot(data=df_manual, y=to_plot, x='title')\n",
    "sns.scatterplot(data=df_manual, y=to_plot, x='title', legend=False, zorder=10, color='k')\n",
    "plt.xlabel(\"Type of dataset\")\n",
    "plt.ylabel(f\"Number of {to_plot} activity neurons\")\n",
    "plt.title(\"Only manually annotated datasets\")"
   ]
  },
  {
   "cell_type": "markdown",
   "id": "cb2e5142-d5f8-443c-906b-d0705fe16e9a",
   "metadata": {},
   "source": [
    "## Same, but include non manually annotated data"
   ]
  },
  {
   "cell_type": "code",
   "execution_count": 163,
   "id": "7f304b53-21d7-4334-b787-16a03e43acae",
   "metadata": {},
   "outputs": [],
   "source": [
    "df_all = pd.concat([df_dim_all, df_bright_all, df_bright_new, df_exp12])"
   ]
  },
  {
   "cell_type": "code",
   "execution_count": 189,
   "id": "1d517fb0-fcfe-4ed7-8a79-fd7d0f456747",
   "metadata": {},
   "outputs": [
    {
     "data": {
      "text/plain": [
       "Text(0.5, 1.0, 'Including automated-only datasets')"
      ]
     },
     "execution_count": 189,
     "metadata": {},
     "output_type": "execute_result"
    },
    {
     "data": {
      "image/png": "[encoded data removed]",
      "text/plain": [
       "<Figure size 1080x1080 with 1 Axes>"
      ]
     },
     "metadata": {
      "needs_background": "light"
     },
     "output_type": "display_data"
    }
   ],
   "source": [
    "plt.figure(figsize=(15, 15))\n",
    "\n",
    "to_plot = 'high'\n",
    "df = df_all\n",
    "\n",
    "ax = sns.barplot(data=df, y=to_plot, x='title')\n",
    "for index, row in df.iterrows():\n",
    "    ax.text(row.title, 2, f\"n={(df['title'] == row.title).value_counts()[True]}\",\n",
    "            color='white', ha='center')\n",
    "    \n",
    "sns.scatterplot(data=df, y=to_plot, x='title', legend=False, zorder=10, color='k')\n",
    "plt.xlabel(\"Type of dataset\")\n",
    "plt.ylabel(f\"Number of {to_plot} activity neurons\")\n",
    "plt.title(\"Including automated-only datasets\")"
   ]
  },
  {
   "cell_type": "code",
   "execution_count": 185,
   "id": "35b9fcbe-b4b7-475f-95ac-1464e3ddbdf5",
   "metadata": {},
   "outputs": [
    {
     "data": {
      "text/plain": [
       "6"
      ]
     },
     "execution_count": 185,
     "metadata": {},
     "output_type": "execute_result"
    }
   ],
   "source": [
    "(df['title'] == 'dim').value_counts()[True]"
   ]
  },
  {
   "cell_type": "code",
   "execution_count": 191,
   "id": "700b5c1f-51ab-4661-920f-c10d69e6154c",
   "metadata": {},
   "outputs": [
    {
     "data": {
      "text/plain": [
       "Text(0.5, 1.0, 'Including automated-only datasets')"
      ]
     },
     "execution_count": 191,
     "metadata": {},
     "output_type": "execute_result"
    },
    {
     "data": {
      "image/png": "[encoded data removed]",
      "text/plain": [
       "<Figure size 1080x1080 with 1 Axes>"
      ]
     },
     "metadata": {
      "needs_background": "light"
     },
     "output_type": "display_data"
    }
   ],
   "source": [
    "plt.figure(figsize=(15, 15))\n",
    "\n",
    "to_plot = 'low'\n",
    "df = df_all\n",
    "\n",
    "ax = sns.barplot(data=df, y=to_plot, x='title')\n",
    "for index, row in df.iterrows():\n",
    "    ax.text(row.title, 2, f\"n={(df['title'] == row.title).value_counts()[True]}\",\n",
    "            color='white', ha='center')\n",
    "    \n",
    "sns.scatterplot(data=df, y=to_plot, x='title', legend=False, zorder=10, color='k')\n",
    "plt.xlabel(\"Type of dataset\")\n",
    "plt.ylabel(f\"Number of {to_plot} activity neurons\")\n",
    "plt.title(\"Including automated-only datasets\")"
   ]
  },
  {
   "cell_type": "code",
   "execution_count": 211,
   "id": "73d808cf-d98b-4935-9281-2eaddee6d0d3",
   "metadata": {},
   "outputs": [
    {
     "data": {
      "text/plain": [
       "Text(0.5, 1.0, 'Including automated-only datasets')"
      ]
     },
     "execution_count": 211,
     "metadata": {},
     "output_type": "execute_result"
    },
    {
     "data": {
      "text/plain": [
       "<Figure size 1080x1080 with 0 Axes>"
      ]
     },
     "metadata": {},
     "output_type": "display_data"
    },
    {
     "data": {
      "image/png": "[encoded data removed]",
      "text/plain": [
       "<Figure size 1080x1080 with 1 Axes>"
      ]
     },
     "metadata": {
      "needs_background": "light"
     },
     "output_type": "display_data"
    }
   ],
   "source": [
    "plt.figure(figsize=(15, 15))\n",
    "\n",
    "to_plot = 'low'\n",
    "df = df_all\n",
    "\n",
    "df_to_plot = df.drop(columns=['possible']).groupby('title')\n",
    "df_to_plot.mean().plot(kind='bar', stacked=True, figsize=(15,15))\n",
    "\n",
    "plt.xlabel(\"Type of dataset\")\n",
    "# plt.ylabel(f\"Number of {to_plot} activity neurons\")\n",
    "plt.title(\"Including automated-only datasets\")"
   ]
  },
  {
   "cell_type": "code",
   "execution_count": 210,
   "id": "351a898b-a120-4618-8da3-682093de5785",
   "metadata": {},
   "outputs": [
    {
     "data": {
      "text/plain": [
       "<pandas.core.groupby.generic.DataFrameGroupBy object at 0x7f86054faad0>"
      ]
     },
     "execution_count": 210,
     "metadata": {},
     "output_type": "execute_result"
    }
   ],
   "source": [
    "df_to_plot"
   ]
  },
  {
   "cell_type": "code",
   "execution_count": null,
   "id": "5f773597-1322-4292-b62b-f90defffa820",
   "metadata": {},
   "outputs": [],
   "source": []
  }
 ],
 "metadata": {
  "kernelspec": {
   "display_name": "Python 3 (ipykernel)",
   "language": "python",
   "name": "python3"
  },
  "language_info": {
   "codemirror_mode": {
    "name": "ipython",
    "version": 3
   },
   "file_extension": ".py",
   "mimetype": "text/x-python",
   "name": "python",
   "nbconvert_exporter": "python",
   "pygments_lexer": "ipython3",
   "version": "3.7.12"
  }
 },
 "nbformat": 4,
 "nbformat_minor": 5
}
