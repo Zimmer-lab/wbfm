{
 "cells": [
  {
   "cell_type": "code",
   "execution_count": null,
   "id": "basic-bangladesh",
   "metadata": {},
   "outputs": [],
   "source": [
    "%load_ext line_profiler"
   ]
  },
  {
   "cell_type": "code",
   "execution_count": null,
   "id": "painted-characterization",
   "metadata": {},
   "outputs": [],
   "source": [
    "from segmentation.util.utils_pipeline import segment_video_using_config_2d\n",
    "from wbfm.utils.projects.utils_project import load_config, safe_cd\n",
    "from wbfm.utils.video_and_data_conversion.import_video_as_array import get_single_volume\n",
    "from pathlib import Path\n",
    "import zarr\n",
    "import os"
   ]
  },
  {
   "cell_type": "code",
   "execution_count": null,
   "id": "threatened-relief",
   "metadata": {},
   "outputs": [],
   "source": [
    "project_fname = r'Y:\\shared_projects\\wbfm\\dlc_stacks\\Charlie-test-2021_04_26\\project_config.yaml'\n",
    "project_cfg = load_config(project_fname)\n",
    "segment_fname = project_cfg['subfolder_configs']['segmentation']\n",
    "project_dir = Path(project_fname).parent\n",
    "with safe_cd(project_dir):\n",
    "    segment_cfg = load_config(segment_fname)\n",
    "\n",
    "this_config = segment_cfg.copy()\n",
    "this_config['dataset_params'] = project_cfg['dataset_params'].copy()"
   ]
  },
  {
   "cell_type": "markdown",
   "id": "geographic-performer",
   "metadata": {},
   "source": [
    "# Hypothesis 1: early vs. late frames"
   ]
  },
  {
   "cell_type": "code",
   "execution_count": null,
   "id": "pharmaceutical-pilot",
   "metadata": {},
   "outputs": [],
   "source": [
    "def benchmark_get_volumes(fname, start_volume, num_frames):\n",
    "    for i in range(start_volume, start_volume + num_frames):\n",
    "        _ = get_single_volume(fname, i, num_slices=33)"
   ]
  },
  {
   "cell_type": "code",
   "execution_count": null,
   "id": "ranging-australian",
   "metadata": {},
   "outputs": [],
   "source": [
    "# fname = project_cfg['red_bigtiff_fname']\n",
    "# fname = 'Y:/shared_projects/ForCharlie/27082020_freelyimmobilized_trial2_ome_tiff_1601990420/ZIM2051_trial_21_HEAD_mcherry_FULL.ome.tiff'\n",
    "# LOCAL\n",
    "fname = r'D:\\freely_immobilized\\ZIM2051_trial_21_HEAD_mcherry_FULL_bigtiff.btf'\n",
    "\n",
    "%lprun -f benchmark_get_volumes benchmark_get_volumes(fname, 100, 110)"
   ]
  },
  {
   "cell_type": "code",
   "execution_count": null,
   "id": "confidential-marathon",
   "metadata": {},
   "outputs": [],
   "source": [
    "import tifffile\n",
    "with tifffile.TiffFile(fname) as f:\n",
    "    print(f\"Number of series in this file: {len(f.series)}\")"
   ]
  },
  {
   "cell_type": "markdown",
   "id": "infectious-valuable",
   "metadata": {},
   "source": [
    "# Hypothesis 2: single reader object"
   ]
  },
  {
   "cell_type": "code",
   "execution_count": null,
   "id": "catholic-screw",
   "metadata": {},
   "outputs": [],
   "source": [
    "fname = r'D:\\freely_immobilized\\ZIM2051_trial_21_HEAD_mcherry_FULL_bigtiff.btf'\n",
    "import tifffile\n",
    "\n",
    "def benchmark_get_volumes2(fname, start_volume, num_frames, num_slices=33):\n",
    "    with tifffile.TiffFile(fname) as f:\n",
    "        for which_vol in range(start_volume, start_volume + num_frames):\n",
    "#             start_ind = num_slices*which_vol\n",
    "#             key = range(start_ind, start_ind+num_slices)\n",
    "#             tmp = [f.pages[i].asarray() for i in key]\n",
    "#             dat = (f.pages[start_ind:start_ind+num_slices]).asarray()\n",
    "            get_single_volume(f, which_vol, num_slices=33)\n",
    "    return None"
   ]
  },
  {
   "cell_type": "code",
   "execution_count": null,
   "id": "adjacent-stranger",
   "metadata": {},
   "outputs": [],
   "source": [
    "%lprun -f benchmark_get_volumes2 benchmark_get_volumes2(fname, 500, 510)"
   ]
  },
  {
   "cell_type": "markdown",
   "id": "protecting-division",
   "metadata": {},
   "source": [
    "# Related: trying to write better bigtiffs"
   ]
  },
  {
   "cell_type": "code",
   "execution_count": null,
   "id": "liable-wellington",
   "metadata": {},
   "outputs": [],
   "source": [
    "%load_ext autoreload\n",
    "%autoreload 2\n",
    "from video_conversions.bigtiff.ometiff2bigtiff import ometiff2bigtiff"
   ]
  },
  {
   "cell_type": "code",
   "execution_count": null,
   "id": "congressional-headline",
   "metadata": {},
   "outputs": [],
   "source": [
    "fname = project_cfg['red_bigtiff_fname']"
   ]
  },
  {
   "cell_type": "code",
   "execution_count": null,
   "id": "educational-mother",
   "metadata": {},
   "outputs": [],
   "source": [
    "ometiff2bigtiff(fname, actually_write=True, num_slices=33)"
   ]
  },
  {
   "cell_type": "code",
   "execution_count": null,
   "id": "exclusive-remove",
   "metadata": {},
   "outputs": [],
   "source": [
    "# Re-benchmark\n",
    "\n",
    "fname = 'Y:/shared_projects/ForCharlie/27082020_freelyimmobilized_trial2_ome_tiff_1601990420/ZIM2051_trial_21_HEAD_gcamp_FULL_bigtiff.btf'\n",
    "%lprun -f benchmark_get_volumes benchmark_get_volumes(fname, 100, 110)"
   ]
  },
  {
   "cell_type": "code",
   "execution_count": null,
   "id": "acting-variance",
   "metadata": {},
   "outputs": [],
   "source": [
    "import tifffile"
   ]
  },
  {
   "cell_type": "code",
   "execution_count": null,
   "id": "offshore-least",
   "metadata": {},
   "outputs": [],
   "source": [
    "fname = 'Y:/shared_projects/ForCharlie/27082020_freelyimmobilized_trial2_ome_tiff_1601990420/ZIM2051_trial_21_HEAD_gcamp_FULL_bigtiff.btf'\n",
    "\n",
    "with tifffile.TiffFile(fname) as f:\n",
    "    print(len(f.series))"
   ]
  },
  {
   "cell_type": "code",
   "execution_count": null,
   "id": "flush-birmingham",
   "metadata": {},
   "outputs": [],
   "source": [
    "# OLD\n",
    "fname = 'Y:/shared_projects/ForCharlie/27082020_freelyimmobilized_trial2_ome_tiff_1601990420/ZIM2051_trial_21_HEAD_mcherry_FULL.ome.tiff'\n",
    "\n",
    "with tifffile.TiffFile(fname) as f:\n",
    "    print(len(f.series))"
   ]
  },
  {
   "cell_type": "markdown",
   "id": "advanced-provision",
   "metadata": {},
   "source": [
    "# Write it as a zarr"
   ]
  },
  {
   "cell_type": "code",
   "execution_count": 54,
   "id": "exotic-winter",
   "metadata": {},
   "outputs": [],
   "source": [
    "fname_in = r'D:\\freely_immobilized\\ZIM2051_trial_21_HEAD_mcherry_FULL_bigtiff.btf'\n",
    "# fname_out = r'D:\\freely_immobilized\\mcherry_test.zarr'\n",
    "import tifffile\n",
    "\n",
    "\n",
    "import zarr\n",
    "import dbm\n",
    "import numpy as np\n",
    "import os\n",
    "from wbfm.utils.video_and_data_conversion.import_video_as_array import get_single_volume\n",
    "from numcodecs import Blosc"
   ]
  },
  {
   "cell_type": "markdown",
   "id": "4b7da63f",
   "metadata": {},
   "source": [
    "## Write several different formats"
   ]
  },
  {
   "cell_type": "code",
   "execution_count": 22,
   "id": "worldwide-munich",
   "metadata": {},
   "outputs": [],
   "source": [
    "# Get some real data\n",
    "\n",
    "num_frames = 50\n",
    "with tifffile.TiffFile(fname_in) as f:\n",
    "    dat = [get_single_volume(f, i, 33) for i in range(num_frames)]"
   ]
  },
  {
   "cell_type": "code",
   "execution_count": 37,
   "id": "30486b76",
   "metadata": {},
   "outputs": [
    {
     "data": {
      "text/plain": [
       "(50, 33, 133, 333)"
      ]
     },
     "execution_count": 37,
     "metadata": {},
     "output_type": "execute_result"
    }
   ],
   "source": [
    "dat = np.array(dat)\n",
    "dat.shape"
   ]
  },
  {
   "cell_type": "code",
   "execution_count": 42,
   "id": "7e86a729",
   "metadata": {},
   "outputs": [],
   "source": [
    "dir_out = r'D:\\zarr_tests'\n",
    "chunks=(1, 33, 133, 333)"
   ]
  },
  {
   "cell_type": "code",
   "execution_count": 48,
   "id": "50132bb3",
   "metadata": {},
   "outputs": [],
   "source": [
    "\n",
    "fname_out = os.path.join(dir_out, 'tiff_test.btf')\n",
    "tifffile.imsave(fname_out, dat)"
   ]
  },
  {
   "cell_type": "code",
   "execution_count": 95,
   "id": "sitting-evans",
   "metadata": {},
   "outputs": [],
   "source": [
    "fname_out = os.path.join(dir_out, 'zip_test.zip')\n",
    "zarr.save_array(fname_out, dat, chunks=chunks)\n",
    "# with zarr.ZipStore(fname_out, mode='w') as store:\n",
    "#     zarr.save_array(fname_out, dat, chunks=chunks)"
   ]
  },
  {
   "cell_type": "code",
   "execution_count": 100,
   "id": "060ff897",
   "metadata": {},
   "outputs": [],
   "source": [
    "fname_out = os.path.join(dir_out, 'zip_compressor_test.zip')\n",
    "compressor = Blosc(cname='zstd', clevel=3, shuffle=Blosc.BITSHUFFLE)\n",
    "zarr.save_array(fname_out, dat, chunks=chunks, compressor=compressor)"
   ]
  },
  {
   "cell_type": "code",
   "execution_count": 44,
   "id": "95a0d95c",
   "metadata": {},
   "outputs": [],
   "source": [
    "fname_out = os.path.join(dir_out, 'default_test.zarr')\n",
    "zarr.save_array(fname_out, dat, chunks=chunks)"
   ]
  },
  {
   "cell_type": "code",
   "execution_count": 57,
   "id": "cb38d739",
   "metadata": {},
   "outputs": [],
   "source": [
    "\n",
    "fname_out = os.path.join(dir_out, 'default_compressor_test.zarr')\n",
    "compressor = Blosc(cname='zstd', clevel=3, shuffle=Blosc.BITSHUFFLE)\n",
    "zarr.save_array(fname_out, dat, chunks=chunks, compressor=compressor)"
   ]
  },
  {
   "cell_type": "code",
   "execution_count": 104,
   "id": "8d350019",
   "metadata": {},
   "outputs": [],
   "source": [
    "fname_out = os.path.join(dir_out, 'dbm_test.db')\n",
    "with zarr.DBMStore(fname_out, open=dbm.open) as store:\n",
    "\n",
    "    z = zarr.zeros((num_frames, 33, 133, 333), chunks=chunks, store=store, overwrite=True)\n",
    "\n",
    "    for i in range(num_frames):\n",
    "        z[i,...] = dat[i,...]"
   ]
  },
  {
   "cell_type": "code",
   "execution_count": 105,
   "id": "08740bd5",
   "metadata": {},
   "outputs": [],
   "source": [
    "fname_out = os.path.join(dir_out, 'dbm_compressor_test.db')\n",
    "compressor = Blosc(cname='zstd', clevel=3, shuffle=Blosc.BITSHUFFLE)\n",
    "with zarr.DBMStore(fname_out, open=dbm.open) as store:\n",
    "#     store = zarr.storage.DBMStore(fname_out)\n",
    "\n",
    "    z = zarr.zeros((num_frames, 33, 133, 333), chunks=chunks, store=store, compressor=compressor, overwrite=True)\n",
    "\n",
    "    for i in range(num_frames):\n",
    "        z[i,...] = dat[i,...]"
   ]
  },
  {
   "cell_type": "code",
   "execution_count": 52,
   "id": "018f61a5",
   "metadata": {},
   "outputs": [],
   "source": [
    "fname_out = os.path.join(dir_out, 'sql_test.sqldb')\n",
    "store = zarr.SQLiteStore(fname_out)\n",
    "\n",
    "z = zarr.zeros((num_frames, 33, 133, 333), chunks=chunks, store=store, overwrite=True)\n",
    "for i in range(num_frames):\n",
    "    z[i,...] = dat[i,...]\n",
    "\n",
    "store.close()"
   ]
  },
  {
   "cell_type": "code",
   "execution_count": 73,
   "id": "fe7ec1ea",
   "metadata": {},
   "outputs": [],
   "source": [
    "fname_out = os.path.join(dir_out, 'sql_compressor_test.sqldb')\n",
    "store = zarr.SQLiteStore(fname_out)\n",
    "\n",
    "compressor = Blosc(cname='zstd', clevel=3, shuffle=Blosc.BITSHUFFLE)\n",
    "z = zarr.zeros((num_frames, 33, 133, 333), chunks=chunks, store=store, compressor=compressor, overwrite=True)\n",
    "for i in range(num_frames):\n",
    "    z[i,...] = dat[i,...]\n",
    "\n",
    "store.close()"
   ]
  },
  {
   "cell_type": "markdown",
   "id": "25974244",
   "metadata": {},
   "source": [
    "## Test full-file read speeds"
   ]
  },
  {
   "cell_type": "code",
   "execution_count": 62,
   "id": "33688f59",
   "metadata": {},
   "outputs": [
    {
     "name": "stdout",
     "output_type": "stream",
     "text": [
      "124 ms ± 3.61 ms per loop (mean ± std. dev. of 7 runs, 10 loops each)\n"
     ]
    }
   ],
   "source": [
    "%%timeit\n",
    "\n",
    "fname_out = os.path.join(dir_out, 'tiff_test.btf')\n",
    "tmp = np.array(tifffile.imread(fname_out))"
   ]
  },
  {
   "cell_type": "code",
   "execution_count": 67,
   "id": "b7c7e4ee",
   "metadata": {},
   "outputs": [
    {
     "name": "stdout",
     "output_type": "stream",
     "text": [
      "166 ms ± 3.99 ms per loop (mean ± std. dev. of 7 runs, 1 loop each)\n"
     ]
    }
   ],
   "source": [
    "%%timeit\n",
    "\n",
    "fname_out = os.path.join(dir_out, 'default_test.zarr')\n",
    "tmp = np.array(zarr.open(fname_out))"
   ]
  },
  {
   "cell_type": "code",
   "execution_count": 68,
   "id": "68394f79",
   "metadata": {},
   "outputs": [
    {
     "name": "stdout",
     "output_type": "stream",
     "text": [
      "195 ms ± 4.51 ms per loop (mean ± std. dev. of 7 runs, 1 loop each)\n"
     ]
    }
   ],
   "source": [
    "%%timeit\n",
    "\n",
    "fname_out = os.path.join(dir_out, 'default_compressor_test.zarr')\n",
    "tmp = np.array(zarr.open(fname_out))"
   ]
  },
  {
   "cell_type": "code",
   "execution_count": 99,
   "id": "c1564f1f",
   "metadata": {},
   "outputs": [
    {
     "name": "stdout",
     "output_type": "stream",
     "text": [
      "235 ms ± 2.54 ms per loop (mean ± std. dev. of 7 runs, 1 loop each)\n"
     ]
    }
   ],
   "source": [
    "%%timeit\n",
    "\n",
    "fname_out = os.path.join(dir_out, 'zip_test.zip')\n",
    "tmp = np.array(zarr.load(fname_out))"
   ]
  },
  {
   "cell_type": "code",
   "execution_count": 101,
   "id": "e2fa10d7",
   "metadata": {},
   "outputs": [
    {
     "name": "stdout",
     "output_type": "stream",
     "text": [
      "252 ms ± 3.59 ms per loop (mean ± std. dev. of 7 runs, 1 loop each)\n"
     ]
    }
   ],
   "source": [
    "%%timeit\n",
    "\n",
    "fname_out = os.path.join(dir_out, 'zip_compressor_test.zip')\n",
    "tmp = np.array(zarr.load(fname_out))"
   ]
  },
  {
   "cell_type": "code",
   "execution_count": 148,
   "id": "41f0948e",
   "metadata": {},
   "outputs": [
    {
     "name": "stdout",
     "output_type": "stream",
     "text": [
      "872 ms ± 13.3 ms per loop (mean ± std. dev. of 7 runs, 1 loop each)\n"
     ]
    }
   ],
   "source": [
    "%%timeit\n",
    "\n",
    "fname_out = os.path.join(dir_out, 'dbm_test.db')\n",
    "store = zarr.DBMStore(fname_out)\n",
    "tmp = np.array(zarr.open_array(store=store, mode='r'))\n",
    "store.close()"
   ]
  },
  {
   "cell_type": "code",
   "execution_count": 147,
   "id": "bb235e8d",
   "metadata": {},
   "outputs": [
    {
     "name": "stdout",
     "output_type": "stream",
     "text": [
      "804 ms ± 14.6 ms per loop (mean ± std. dev. of 7 runs, 1 loop each)\n"
     ]
    }
   ],
   "source": [
    "%%timeit\n",
    "\n",
    "fname_out = os.path.join(dir_out, 'dbm_compressor_test.db')\n",
    "store = zarr.DBMStore(fname_out)\n",
    "tmp = np.array(zarr.open_array(store=store, mode='r'))\n",
    "store.close()"
   ]
  },
  {
   "cell_type": "code",
   "execution_count": 144,
   "id": "cc7dac0d",
   "metadata": {},
   "outputs": [
    {
     "name": "stdout",
     "output_type": "stream",
     "text": [
      "1.09 s ± 10.5 ms per loop (mean ± std. dev. of 7 runs, 1 loop each)\n"
     ]
    }
   ],
   "source": [
    "%%timeit\n",
    "\n",
    "fname_out = os.path.join(dir_out, 'sql_test.sqldb')\n",
    "store = zarr.SQLiteStore(fname_out)\n",
    "tmp = np.array(zarr.open_array(store=store, mode='r'))\n",
    "store.close()"
   ]
  },
  {
   "cell_type": "code",
   "execution_count": 146,
   "id": "54f09aa6",
   "metadata": {},
   "outputs": [
    {
     "name": "stdout",
     "output_type": "stream",
     "text": [
      "888 ms ± 13 ms per loop (mean ± std. dev. of 7 runs, 1 loop each)\n"
     ]
    }
   ],
   "source": [
    "%%timeit\n",
    "\n",
    "fname_out = os.path.join(dir_out, 'sql_compressor_test.sqldb')\n",
    "store = zarr.SQLiteStore(fname_out)\n",
    "tmp = np.array(zarr.open_array(store=store, mode='r'))\n",
    "store.close()"
   ]
  },
  {
   "cell_type": "markdown",
   "id": "9f47583f",
   "metadata": {},
   "source": [
    "## Test just last frame"
   ]
  },
  {
   "cell_type": "code",
   "execution_count": 149,
   "id": "54e4d4b6",
   "metadata": {},
   "outputs": [
    {
     "name": "stdout",
     "output_type": "stream",
     "text": [
      "17.4 ms ± 1.07 ms per loop (mean ± std. dev. of 7 runs, 100 loops each)\n"
     ]
    }
   ],
   "source": [
    "%%timeit\n",
    "\n",
    "fname_out = os.path.join(dir_out, 'tiff_test.btf')\n",
    "tmp = get_single_volume(fname_out, 49, 33)\n",
    "# tmp = np.array(tifffile.imread(fname_out))"
   ]
  },
  {
   "cell_type": "code",
   "execution_count": 150,
   "id": "26b1d4b4",
   "metadata": {},
   "outputs": [
    {
     "name": "stdout",
     "output_type": "stream",
     "text": [
      "4.6 ms ± 30.1 µs per loop (mean ± std. dev. of 7 runs, 100 loops each)\n"
     ]
    }
   ],
   "source": [
    "%%timeit\n",
    "\n",
    "fname_out = os.path.join(dir_out, 'default_test.zarr')\n",
    "tmp = np.array(zarr.open(fname_out)[49,...])"
   ]
  },
  {
   "cell_type": "code",
   "execution_count": 151,
   "id": "1d4ff39e",
   "metadata": {},
   "outputs": [
    {
     "name": "stdout",
     "output_type": "stream",
     "text": [
      "5.06 ms ± 28.1 µs per loop (mean ± std. dev. of 7 runs, 100 loops each)\n"
     ]
    }
   ],
   "source": [
    "%%timeit\n",
    "\n",
    "fname_out = os.path.join(dir_out, 'default_compressor_test.zarr')\n",
    "tmp = np.array(zarr.open(fname_out)[49,...])"
   ]
  },
  {
   "cell_type": "code",
   "execution_count": 152,
   "id": "3123cb68",
   "metadata": {},
   "outputs": [
    {
     "name": "stdout",
     "output_type": "stream",
     "text": [
      "190 ms ± 729 µs per loop (mean ± std. dev. of 7 runs, 10 loops each)\n"
     ]
    }
   ],
   "source": [
    "%%timeit\n",
    "\n",
    "fname_out = os.path.join(dir_out, 'zip_test.zip')\n",
    "tmp = np.array(zarr.load(fname_out)[49,...])"
   ]
  },
  {
   "cell_type": "code",
   "execution_count": 153,
   "id": "4f9270b4",
   "metadata": {},
   "outputs": [
    {
     "name": "stdout",
     "output_type": "stream",
     "text": [
      "207 ms ± 4.28 ms per loop (mean ± std. dev. of 7 runs, 1 loop each)\n"
     ]
    }
   ],
   "source": [
    "%%timeit\n",
    "\n",
    "fname_out = os.path.join(dir_out, 'zip_compressor_test.zip')\n",
    "tmp = np.array(zarr.load(fname_out)[49,...])"
   ]
  },
  {
   "cell_type": "code",
   "execution_count": 154,
   "id": "99ebcfed",
   "metadata": {},
   "outputs": [
    {
     "name": "stdout",
     "output_type": "stream",
     "text": [
      "28.8 ms ± 704 µs per loop (mean ± std. dev. of 7 runs, 10 loops each)\n"
     ]
    }
   ],
   "source": [
    "%%timeit\n",
    "\n",
    "fname_out = os.path.join(dir_out, 'dbm_test.db')\n",
    "store = zarr.DBMStore(fname_out)\n",
    "tmp = np.array(zarr.open_array(store=store, mode='r')[49,...])\n",
    "store.close()"
   ]
  },
  {
   "cell_type": "code",
   "execution_count": 155,
   "id": "7f444aac",
   "metadata": {},
   "outputs": [
    {
     "name": "stdout",
     "output_type": "stream",
     "text": [
      "25.6 ms ± 604 µs per loop (mean ± std. dev. of 7 runs, 10 loops each)\n"
     ]
    }
   ],
   "source": [
    "%%timeit\n",
    "\n",
    "fname_out = os.path.join(dir_out, 'dbm_compressor_test.db')\n",
    "store = zarr.DBMStore(fname_out)\n",
    "tmp = np.array(zarr.open_array(store=store, mode='r')[49,...])\n",
    "store.close()"
   ]
  },
  {
   "cell_type": "code",
   "execution_count": 156,
   "id": "37c06e03",
   "metadata": {},
   "outputs": [
    {
     "name": "stdout",
     "output_type": "stream",
     "text": [
      "32.6 ms ± 716 µs per loop (mean ± std. dev. of 7 runs, 10 loops each)\n"
     ]
    }
   ],
   "source": [
    "%%timeit\n",
    "\n",
    "fname_out = os.path.join(dir_out, 'sql_test.sqldb')\n",
    "store = zarr.SQLiteStore(fname_out)\n",
    "tmp = np.array(zarr.open_array(store=store, mode='r')[49,...])\n",
    "store.close()"
   ]
  },
  {
   "cell_type": "code",
   "execution_count": 157,
   "id": "34343f4c",
   "metadata": {},
   "outputs": [
    {
     "name": "stdout",
     "output_type": "stream",
     "text": [
      "27.7 ms ± 526 µs per loop (mean ± std. dev. of 7 runs, 10 loops each)\n"
     ]
    }
   ],
   "source": [
    "%%timeit\n",
    "\n",
    "fname_out = os.path.join(dir_out, 'sql_compressor_test.sqldb')\n",
    "store = zarr.SQLiteStore(fname_out)\n",
    "tmp = np.array(zarr.open_array(store=store, mode='r')[49,...])\n",
    "store.close()"
   ]
  },
  {
   "cell_type": "markdown",
   "id": "f7220337",
   "metadata": {},
   "source": [
    "## Don't test reopening the file"
   ]
  },
  {
   "cell_type": "code",
   "execution_count": 161,
   "id": "497a5feb",
   "metadata": {},
   "outputs": [
    {
     "name": "stdout",
     "output_type": "stream",
     "text": [
      "9.16 ms ± 247 µs per loop (mean ± std. dev. of 7 runs, 100 loops each)\n"
     ]
    }
   ],
   "source": [
    "fname_out = os.path.join(dir_out, 'tiff_test.btf')\n",
    "with tifffile.TiffFile(fname_out) as f:\n",
    "    %timeit tmp = get_single_volume(f, 49, 33)"
   ]
  },
  {
   "cell_type": "code",
   "execution_count": 173,
   "id": "d7525529",
   "metadata": {},
   "outputs": [
    {
     "name": "stdout",
     "output_type": "stream",
     "text": [
      "4.11 ms ± 24 µs per loop (mean ± std. dev. of 7 runs, 100 loops each)\n"
     ]
    }
   ],
   "source": [
    "fname_out = os.path.join(dir_out, 'default_test.zarr')\n",
    "z = zarr.open(fname_out)\n",
    "%timeit tmp = np.array(z[49,...])"
   ]
  },
  {
   "cell_type": "code",
   "execution_count": 172,
   "id": "bab40e26",
   "metadata": {},
   "outputs": [
    {
     "name": "stdout",
     "output_type": "stream",
     "text": [
      "4.83 ms ± 38 µs per loop (mean ± std. dev. of 7 runs, 100 loops each)\n"
     ]
    }
   ],
   "source": [
    "fname_out = os.path.join(dir_out, 'default_compressor_test.zarr')\n",
    "z = zarr.open(fname_out)\n",
    "%timeit tmp = np.array(z[49,...])"
   ]
  },
  {
   "cell_type": "code",
   "execution_count": 168,
   "id": "5ed3d12b",
   "metadata": {},
   "outputs": [
    {
     "name": "stdout",
     "output_type": "stream",
     "text": [
      "24.6 ms ± 587 µs per loop (mean ± std. dev. of 7 runs, 10 loops each)\n"
     ]
    }
   ],
   "source": [
    "fname_out = os.path.join(dir_out, 'dbm_test.db')\n",
    "store = zarr.DBMStore(fname_out)\n",
    "z = zarr.open_array(store=store, mode='r')\n",
    "%timeit tmp = np.array(z[49,...])\n",
    "store.close()"
   ]
  },
  {
   "cell_type": "code",
   "execution_count": 169,
   "id": "04040d73",
   "metadata": {},
   "outputs": [
    {
     "name": "stdout",
     "output_type": "stream",
     "text": [
      "27.7 ms ± 652 µs per loop (mean ± std. dev. of 7 runs, 10 loops each)\n"
     ]
    }
   ],
   "source": [
    "fname_out = os.path.join(dir_out, 'dbm_compressor_test.db')\n",
    "store = zarr.DBMStore(fname_out)\n",
    "z = zarr.open_array(store=store, mode='r')\n",
    "%timeit tmp = np.array(z[49,...])\n",
    "store.close()"
   ]
  },
  {
   "cell_type": "code",
   "execution_count": 166,
   "id": "ddda9789",
   "metadata": {},
   "outputs": [
    {
     "name": "stdout",
     "output_type": "stream",
     "text": [
      "25.6 ms ± 491 µs per loop (mean ± std. dev. of 7 runs, 10 loops each)\n"
     ]
    }
   ],
   "source": [
    "\n",
    "fname_out = os.path.join(dir_out, 'sql_compressor_test.sqldb')\n",
    "store = zarr.SQLiteStore(fname_out)\n",
    "z = zarr.open_array(store=store, mode='r')\n",
    "%timeit tmp = np.array(z[49,...])\n",
    "store.close()"
   ]
  },
  {
   "cell_type": "code",
   "execution_count": 167,
   "id": "3270fd4b",
   "metadata": {},
   "outputs": [
    {
     "name": "stdout",
     "output_type": "stream",
     "text": [
      "25.7 ms ± 760 µs per loop (mean ± std. dev. of 7 runs, 10 loops each)\n"
     ]
    }
   ],
   "source": [
    "fname_out = os.path.join(dir_out, 'sql_compressor_test.sqldb')\n",
    "store = zarr.SQLiteStore(fname_out)\n",
    "z = zarr.open_array(store=store, mode='r')\n",
    "%timeit tmp = np.array(z[49,...])\n",
    "store.close()"
   ]
  },
  {
   "cell_type": "markdown",
   "id": "3ff31069",
   "metadata": {},
   "source": [
    "## Look at the actually loaded variables"
   ]
  },
  {
   "cell_type": "code",
   "execution_count": 142,
   "id": "9ab0b0bc",
   "metadata": {},
   "outputs": [],
   "source": [
    "fname_out = os.path.join(dir_out, 'sql_test.sqldb')\n",
    "store = zarr.SQLiteStore(fname_out)\n",
    "z = zarr.open_array(store=store, mode='r')\n",
    "store.close()"
   ]
  },
  {
   "cell_type": "code",
   "execution_count": 139,
   "id": "b795c7c6",
   "metadata": {},
   "outputs": [],
   "source": []
  },
  {
   "cell_type": "code",
   "execution_count": null,
   "id": "a8172e59",
   "metadata": {},
   "outputs": [],
   "source": []
  },
  {
   "cell_type": "code",
   "execution_count": 133,
   "id": "e6a224f6",
   "metadata": {},
   "outputs": [
    {
     "data": {
      "text/plain": [
       "array('D:\\\\zarr_tests\\\\sql_test.sqldb', dtype='<U28')"
      ]
     },
     "execution_count": 133,
     "metadata": {},
     "output_type": "execute_result"
    }
   ],
   "source": [
    "np.array(z)"
   ]
  },
  {
   "cell_type": "code",
   "execution_count": null,
   "id": "82594566",
   "metadata": {},
   "outputs": [],
   "source": []
  },
  {
   "cell_type": "code",
   "execution_count": 17,
   "id": "ed78c407",
   "metadata": {},
   "outputs": [],
   "source": [
    "# from dbm.gnu import open as dbm_open\n",
    "with zarr.DBMStore(fname_out, open=dbm.open) as store:\n",
    "    z = zarr.zeros((10, 10), chunks=(5, 5), store=store, overwrite=True)"
   ]
  },
  {
   "cell_type": "code",
   "execution_count": null,
   "id": "1d9fd20a",
   "metadata": {},
   "outputs": [],
   "source": []
  },
  {
   "cell_type": "code",
   "execution_count": null,
   "id": "5f4abfa7-995b-44e0-b0f0-7836d257230d",
   "metadata": {},
   "outputs": [],
   "source": []
  },
  {
   "cell_type": "markdown",
   "id": "0f45760e-1136-400f-9f2e-0736ed0c46a5",
   "metadata": {},
   "source": [
    "# Look at sparse dataframes in pandas, especially for adding new columns"
   ]
  },
  {
   "cell_type": "code",
   "execution_count": null,
   "id": "8ce77df0-a931-43ec-8d0c-64988a868e43",
   "metadata": {},
   "outputs": [],
   "source": []
  },
  {
   "cell_type": "code",
   "execution_count": 27,
   "id": "a218ed1a-ede6-409e-90c9-b7112dd905b5",
   "metadata": {},
   "outputs": [
    {
     "name": "stdout",
     "output_type": "stream",
     "text": [
      "347 ms ± 3.65 ms per loop (mean ± std. dev. of 7 runs, 1 loop each)\n"
     ]
    }
   ],
   "source": [
    "%%timeit\n",
    "fname = 'test.parquet'\n",
    "df.to_parquet(fname)"
   ]
  },
  {
   "cell_type": "code",
   "execution_count": 31,
   "id": "44b307f7-06f0-4e0d-8f1d-f77a4b82cd42",
   "metadata": {},
   "outputs": [
    {
     "name": "stdout",
     "output_type": "stream",
     "text": [
      "232 ms ± 16.3 ms per loop (mean ± std. dev. of 7 runs, 1 loop each)\n"
     ]
    }
   ],
   "source": [
    "%%timeit\n",
    "fname = 'test.parquet'\n",
    "pd.read_parquet(fname)"
   ]
  },
  {
   "cell_type": "code",
   "execution_count": 29,
   "id": "20d094a2-73c6-4e78-afcb-1c578020f40a",
   "metadata": {},
   "outputs": [
    {
     "name": "stdout",
     "output_type": "stream",
     "text": [
      "68.7 ms ± 2.06 ms per loop (mean ± std. dev. of 7 runs, 10 loops each)\n"
     ]
    }
   ],
   "source": [
    "%%timeit\n",
    "fname = 'test.h5'\n",
    "df.to_hdf(fname, key='df_with_missing')"
   ]
  },
  {
   "cell_type": "code",
   "execution_count": 32,
   "id": "9afb7cab-d2b4-4e31-8304-735735eb4c94",
   "metadata": {},
   "outputs": [
    {
     "name": "stdout",
     "output_type": "stream",
     "text": [
      "45.1 ms ± 199 µs per loop (mean ± std. dev. of 7 runs, 10 loops each)\n"
     ]
    }
   ],
   "source": [
    "%%timeit\n",
    "fname = 'test.h5'\n",
    "pd.read_hdf(fname, key='df_with_missing')"
   ]
  },
  {
   "cell_type": "code",
   "execution_count": 33,
   "id": "c4a9d45e-18a5-4b73-8441-fbe946ea9c5b",
   "metadata": {},
   "outputs": [
    {
     "data": {
      "text/plain": [
       "Index                            26392\n",
       "(neuron_001, z)                  26392\n",
       "(neuron_001, x)                  26392\n",
       "(neuron_001, y)                  26392\n",
       "(neuron_001, likelihood)         26392\n",
       "                                 ...  \n",
       "(neuron_002, raw_tracklet_id)    26392\n",
       "(neuron_001, raw_tracklet_id)    26392\n",
       "(neuron_092, raw_tracklet_id)    26392\n",
       "(neuron_097, raw_tracklet_id)    26392\n",
       "(neuron_007, raw_tracklet_id)    26392\n",
       "Length: 1288, dtype: int64"
      ]
     },
     "execution_count": 33,
     "metadata": {},
     "output_type": "execute_result"
    }
   ],
   "source": [
    "df.memory_usage(deep=True)"
   ]
  },
  {
   "cell_type": "code",
   "execution_count": 54,
   "id": "2c1ab6d4-1d78-4931-a8d3-cebeb451a67a",
   "metadata": {},
   "outputs": [],
   "source": [
    "# df"
   ]
  },
  {
   "cell_type": "code",
   "execution_count": 55,
   "id": "05073959-9e6f-4180-a7d8-33ff1474888c",
   "metadata": {},
   "outputs": [],
   "source": [
    "df_sparse = df.astype(pd.SparseDtype(\"float\", np.nan))"
   ]
  },
  {
   "cell_type": "code",
   "execution_count": 56,
   "id": "ee3e3827-79b4-4106-9074-63489c4707bf",
   "metadata": {},
   "outputs": [
    {
     "data": {
      "text/plain": [
       "Index                            26392\n",
       "(neuron_001, z)                   9708\n",
       "(neuron_001, x)                   9708\n",
       "(neuron_001, y)                   9708\n",
       "(neuron_001, likelihood)          9708\n",
       "                                 ...  \n",
       "(neuron_002, raw_tracklet_id)    10800\n",
       "(neuron_001, raw_tracklet_id)     9708\n",
       "(neuron_092, raw_tracklet_id)     2688\n",
       "(neuron_097, raw_tracklet_id)     1860\n",
       "(neuron_007, raw_tracklet_id)     6948\n",
       "Length: 1288, dtype: int64"
      ]
     },
     "execution_count": 56,
     "metadata": {},
     "output_type": "execute_result"
    }
   ],
   "source": [
    "df_sparse.memory_usage(deep=True)"
   ]
  },
  {
   "cell_type": "code",
   "execution_count": 53,
   "id": "7c3c5f06-8b17-44eb-acae-6df3058fa4d3",
   "metadata": {},
   "outputs": [],
   "source": [
    "from wbfm.utils.neuron_matching.long_range_matching import empty_dataframe_like"
   ]
  },
  {
   "cell_type": "code",
   "execution_count": 62,
   "id": "a280df8c-244b-4e2b-b3c4-aa425f89eb77",
   "metadata": {},
   "outputs": [],
   "source": [
    "new_col = empty_dataframe_like(df, ['new_col'])"
   ]
  },
  {
   "cell_type": "code",
   "execution_count": 63,
   "id": "c00616c8-44d6-41c8-8b76-dceb710147b7",
   "metadata": {},
   "outputs": [
    {
     "name": "stdout",
     "output_type": "stream",
     "text": [
      "56 ms ± 183 µs per loop (mean ± std. dev. of 7 runs, 10 loops each)\n"
     ]
    }
   ],
   "source": [
    "%%timeit\n",
    "pd.concat([df, new_col])"
   ]
  },
  {
   "cell_type": "code",
   "execution_count": 64,
   "id": "5590f0fd-b7c1-4d1c-8527-563d857ecd9d",
   "metadata": {},
   "outputs": [],
   "source": [
    "new_col_sparse = empty_dataframe_like(df_sparse, ['new_col'])"
   ]
  },
  {
   "cell_type": "code",
   "execution_count": 65,
   "id": "9a5f5e0d-5002-41dd-8d44-d80559027c73",
   "metadata": {},
   "outputs": [
    {
     "name": "stdout",
     "output_type": "stream",
     "text": [
      "361 ms ± 6.32 ms per loop (mean ± std. dev. of 7 runs, 1 loop each)\n"
     ]
    }
   ],
   "source": [
    "%%timeit\n",
    "pd.concat([df_sparse, new_col_sparse])"
   ]
  }
 ],
 "metadata": {
  "kernelspec": {
   "display_name": "Python 3 (ipykernel)",
   "language": "python",
   "name": "python3"
  },
  "language_info": {
   "codemirror_mode": {
    "name": "ipython",
    "version": 3
   },
   "file_extension": ".py",
   "mimetype": "text/x-python",
   "name": "python",
   "nbconvert_exporter": "python",
   "pygments_lexer": "ipython3",
   "version": "3.7.11"
  }
 },
 "nbformat": 4,
 "nbformat_minor": 5
}
