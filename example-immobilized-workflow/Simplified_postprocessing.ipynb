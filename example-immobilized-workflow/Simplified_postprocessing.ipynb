{
 "cells": [
  {
   "cell_type": "markdown",
   "metadata": {},
   "source": [
    "# Get all neuron traces, then visualize"
   ]
  },
  {
   "cell_type": "code",
   "execution_count": 1,
   "metadata": {},
   "outputs": [
    {
     "name": "stderr",
     "output_type": "stream",
     "text": [
      "/users/charles.fieseler/dNMF_parent/dNMF/WUtils/Transformations.py:1916: UserWarning: No module named 'dNMF.WUtils._transformations'\n",
      "  warnings.warn(str(err))\n"
     ]
    }
   ],
   "source": [
    "from DLC_for_WBFM.utils.postprocessing.postprocessing_utils import *\n"
   ]
  },
  {
   "cell_type": "markdown",
   "metadata": {},
   "source": [
    "### Get the video folder, then the annotation"
   ]
  },
  {
   "cell_type": "code",
   "execution_count": 2,
   "metadata": {},
   "outputs": [],
   "source": [
    "# folder_name = '/users/charles.fieseler/shared_projects/wbfm/dat/immobilized_wbfm_hardware/'\n",
    "project_folder = '/users/charles.fieseler/DLC_for_WBFM/DLC_Projects/Chip_with_WBFM_hardware_z8-Charlie-2020-10-12/'\n",
    "\n",
    "annotation_fname = 'videos/27082020_trial2_HEAD_500frames_mcherry_slice8DLC_resnet50_Chip_with_WBFM_hardware_z8Oct12shuffle1_5000.h5'\n",
    "annotation_fname = os.path.join(project_folder, annotation_fname)\n",
    "\n",
    "# Will get traces from two videos:\n",
    "video_fname_mcherry = 'videos/27082020_trial2_HEAD_500frames_mcherry_slice8.avi'\n",
    "video_fname_mcherry = os.path.join(project_folder, video_fname_mcherry)\n",
    "video_fname_gcamp = 'videos/27082020_trial2_HEAD_500frames_gcamp_slice8.avi'\n",
    "video_fname_gcamp = os.path.join(project_folder, video_fname_gcamp)"
   ]
  },
  {
   "cell_type": "markdown",
   "metadata": {},
   "source": [
    "### Extract traces"
   ]
  },
  {
   "cell_type": "code",
   "execution_count": null,
   "metadata": {},
   "outputs": [
    {
     "name": "stdout",
     "output_type": "stream",
     "text": [
      "Found annotations for 4 neurons\n",
      "Starting analysis of neuron 0/4...\n"
     ]
    },
    {
     "name": "stderr",
     "output_type": "stream",
     "text": [
      "/users/charles.fieseler/dNMF_parent/dNMF/Demix/dNMF.py:100: UserWarning: To copy construct from a tensor, it is recommended to use sourceTensor.clone().detach() or sourceTensor.clone().detach().requires_grad_(True), rather than torch.tensor(sourceTensor).\n",
      "  scale = torch.tensor(params['scale']).float().to(device=device).squeeze() # microns per pixel\n"
     ]
    },
    {
     "name": "stdout",
     "output_type": "stream",
     "text": [
      "Finished extracting mCherry\n",
      "Finished extracting GCaMP\n",
      "Starting analysis of neuron 1/4...\n",
      "Finished extracting mCherry\n",
      "Finished extracting GCaMP\n",
      "Starting analysis of neuron 2/4...\n",
      "Finished extracting mCherry\n",
      "Finished extracting GCaMP\n",
      "Starting analysis of neuron 3/4...\n",
      "Finished extracting mCherry\n"
     ]
    }
   ],
   "source": [
    "all_traces = extract_all_traces(annotation_fname,\n",
    "                                video_fname_mcherry,\n",
    "                                video_fname_gcamp,\n",
    "                                num_frames=500)"
   ]
  },
  {
   "cell_type": "markdown",
   "metadata": {},
   "source": [
    "### Visualize"
   ]
  },
  {
   "cell_type": "code",
   "execution_count": null,
   "metadata": {},
   "outputs": [],
   "source": [
    "visualize_all_traces(all_traces)"
   ]
  },
  {
   "cell_type": "code",
   "execution_count": null,
   "metadata": {},
   "outputs": [],
   "source": []
  }
 ],
 "metadata": {
  "kernelspec": {
   "display_name": "Python [conda env:.conda-DLC-postprocessing]",
   "language": "python",
   "name": "conda-env-.conda-DLC-postprocessing-py"
  },
  "language_info": {
   "codemirror_mode": {
    "name": "ipython",
    "version": 3
   },
   "file_extension": ".py",
   "mimetype": "text/x-python",
   "name": "python",
   "nbconvert_exporter": "python",
   "pygments_lexer": "ipython3",
   "version": "3.7.9"
  }
 },
 "nbformat": 4,
 "nbformat_minor": 4
}
