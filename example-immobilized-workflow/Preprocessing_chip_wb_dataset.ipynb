{
 "cells": [
  {
   "cell_type": "markdown",
   "metadata": {},
   "source": [
    "# Preprocessing\n",
    "\n",
    "Data life cycle for this project:\n",
    "- .stk (Volumes; Initial recording from microscope)\n",
    "- .stk -> .ome.tiff (Volumes; Fiji conversion; take only ~500 frames)\n",
    "- .ome.tiff -> .ome.tiff (Volumes to planes; this file)\n",
    "- .ome.tiff -> .avi (planes to video; this file)"
   ]
  },
  {
   "cell_type": "code",
   "execution_count": 2,
   "metadata": {},
   "outputs": [],
   "source": [
    "import numpy as np\n",
    "import tifffile\n",
    "import os\n",
    "\n",
    "from DLC_for_WBFM.utils.video_and_data_conversion.video_conversion_utils import *"
   ]
  },
  {
   "cell_type": "markdown",
   "metadata": {},
   "source": [
    "## Read the data in, and save a slice as .avi"
   ]
  },
  {
   "cell_type": "code",
   "execution_count": null,
   "metadata": {},
   "outputs": [],
   "source": [
    "# Read in mCherry data\n",
    "input_foldername = '/users/charles.fieseler/dat/test_immobilized_data/'\n",
    "fname = '27082020_trial2_dual1_HEAD_500frames_mcherry.ome.tif'\n",
    "input_fname = os.path.join(foldername, fname)\n",
    "\n",
    "dat = tifffile.imread(input_fname)"
   ]
  },
  {
   "cell_type": "code",
   "execution_count": null,
   "metadata": {},
   "outputs": [],
   "source": [
    "# Take a single slice\n",
    "which_slice = 8\n",
    "dat_slice = dat[8,...]"
   ]
  },
  {
   "cell_type": "code",
   "execution_count": null,
   "metadata": {},
   "outputs": [],
   "source": [
    "\n",
    "output_foldername = input_foldername\n",
    "fname = f'27082020_trial2_dual1_HEAD_500frames_mcherry_slice{which_slice}.avi'\n",
    "output_fname = os.path.join(foldername, fname)\n",
    "\n",
    "write_numpy_as_avi(dat_slice, fname=output_fname) # e.g. from above OME-TIFF"
   ]
  }
 ],
 "metadata": {
  "kernelspec": {
   "display_name": "Python [conda env:.conda-DLC-preprocessing]",
   "language": "python",
   "name": "conda-env-.conda-DLC-preprocessing-py"
  },
  "language_info": {
   "codemirror_mode": {
    "name": "ipython",
    "version": 3
   },
   "file_extension": ".py",
   "mimetype": "text/x-python",
   "name": "python",
   "nbconvert_exporter": "python",
   "pygments_lexer": "ipython3",
   "version": "3.7.9"
  }
 },
 "nbformat": 4,
 "nbformat_minor": 4
}
