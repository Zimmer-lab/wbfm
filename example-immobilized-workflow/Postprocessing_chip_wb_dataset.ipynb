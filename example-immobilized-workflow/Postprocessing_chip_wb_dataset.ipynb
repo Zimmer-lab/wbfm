{
 "cells": [
  {
   "cell_type": "markdown",
   "metadata": {},
   "source": [
    "# Postprocess locations from DLC and a video"
   ]
  },
  {
   "cell_type": "code",
   "execution_count": 2,
   "metadata": {},
   "outputs": [
    {
     "name": "stderr",
     "output_type": "stream",
     "text": [
      "/users/charles.fieseler/dNMF_parent/dNMF/WUtils/Transformations.py:1916: UserWarning: No module named 'dNMF.WUtils._transformations'\n",
      "  warnings.warn(str(err))\n"
     ]
    }
   ],
   "source": [
    "import h5py\n",
    "import os\n",
    "import matplotlib.pyplot as plt\n",
    "\n",
    "from DLC_for_WBFM.utils.postprocessing.postprocessing_utils import *\n",
    "import cv2\n",
    "import torch\n",
    "import tifffile\n",
    "\n",
    "from ipywidgets import interact, interactive, fixed, interact_manual\n",
    "from dNMF.Demix.dNMF import dNMF\n",
    "import time"
   ]
  },
  {
   "cell_type": "markdown",
   "metadata": {},
   "source": [
    "## First, read the locations from DLC"
   ]
  },
  {
   "cell_type": "code",
   "execution_count": 3,
   "metadata": {},
   "outputs": [],
   "source": [
    "which_neuron = 0;"
   ]
  },
  {
   "cell_type": "code",
   "execution_count": 4,
   "metadata": {},
   "outputs": [],
   "source": [
    "# Get the video folder, then the annotation\n",
    "folder_name = '/users/charles.fieseler/shared_projects/wbfm/dat/immobilized_wbfm_hardware/'\n",
    "annotation_fname = '27082020_trial2_dual1_HEAD_500frames_mcherry_slice8DLC_resnet50_Chip_with_WBFM_hardware_z8Oct8shuffle1_3000.h5'\n",
    "annotation_fname = os.path.join(folder_name, annotation_fname)\n",
    "\n",
    "video_fname = '27082020_trial2_dual1_HEAD_500frames_mcherry_slice8.avi'\n",
    "video_fname = os.path.join(folder_name, video_fname)"
   ]
  },
  {
   "cell_type": "code",
   "execution_count": 5,
   "metadata": {},
   "outputs": [],
   "source": [
    "# Get the positions from the annotation: ONE neuron\n",
    "this_xy, this_prob = xy_from_dlc_dat(annotation_fname, which_neuron=which_neuron, num_frames=500)"
   ]
  },
  {
   "cell_type": "code",
   "execution_count": 6,
   "metadata": {},
   "outputs": [
    {
     "data": {
      "image/png": "[encoded data removed]",
      "text/plain": [
       "<Figure size 432x288 with 1 Axes>"
      ]
     },
     "metadata": {
      "needs_background": "light"
     },
     "output_type": "display_data"
    }
   ],
   "source": [
    "plt.plot(this_prob, lw=2)\n",
    "# plt.ylim([0,1])\n",
    "plt.title(f'Confidence for neuron {which_neuron}');"
   ]
  },
  {
   "cell_type": "code",
   "execution_count": null,
   "metadata": {},
   "outputs": [],
   "source": []
  },
  {
   "cell_type": "markdown",
   "metadata": {},
   "source": [
    "## Second, get a moving crop centering this neuron"
   ]
  },
  {
   "cell_type": "code",
   "execution_count": 7,
   "metadata": {},
   "outputs": [],
   "source": [
    "# Use video from above\n",
    "\n",
    "num_frames = 500\n",
    "sz=(29,29)\n",
    "\n",
    "cropped_dat = get_crop_from_avi(video_fname, this_xy, num_frames, sz=sz)"
   ]
  },
  {
   "cell_type": "code",
   "execution_count": 8,
   "metadata": {},
   "outputs": [
    {
     "data": {
      "application/vnd.jupyter.widget-view+json": {
       "model_id": "c572d3e8795b4461aa45d350e8c1bae0",
       "version_major": 2,
       "version_minor": 0
      },
      "text/plain": [
       "interactive(children=(IntSlider(value=249, description='i', max=499), Output()), _dom_classes=('widget-interac…"
      ]
     },
     "metadata": {},
     "output_type": "display_data"
    }
   ],
   "source": [
    "f = lambda i : plt.imshow(cropped_dat[:,:,0,i]);\n",
    "interact(f, i=(0,num_frames-1));"
   ]
  },
  {
   "cell_type": "code",
   "execution_count": null,
   "metadata": {},
   "outputs": [],
   "source": []
  },
  {
   "cell_type": "markdown",
   "metadata": {},
   "source": [
    "## Run dNMF"
   ]
  },
  {
   "cell_type": "code",
   "execution_count": 9,
   "metadata": {},
   "outputs": [],
   "source": [
    "# %% Choosing the parameters\n",
    "params = {'n_trials':5, 'noise_level':1e-2, 'sigma_inv':.2, \n",
    "          'radius':10, 'step_S':.1, 'gamma':0, 'stride_factor':2, 'density':.1, 'varfact':5,\n",
    "          'traj_means':[.0,.0,.0], 'traj_variances':[2e-4,2e-4,1e-5], 'sz':[20,20,1], \n",
    "          'K':20, 'T':100, 'roi_window':[4,4,0]}"
   ]
  },
  {
   "cell_type": "code",
   "execution_count": 10,
   "metadata": {},
   "outputs": [],
   "source": [
    "# Build position and convert to pytorch\n",
    "positions =[list(sz + (0,)),[0, 0, 0]] # Add a dummy position\n",
    "positions = np.expand_dims(positions,2)/2.0 # Return the center of the crop\n",
    "positions =  torch.tensor(positions).float()\n",
    "\n",
    "# Also convert video to pytorch\n",
    "dat = torch.tensor(cropped_dat).float()"
   ]
  },
  {
   "cell_type": "code",
   "execution_count": null,
   "metadata": {},
   "outputs": [
    {
     "name": "stderr",
     "output_type": "stream",
     "text": [
      "/users/charles.fieseler/dNMF_parent/dNMF/Demix/dNMF.py:100: UserWarning: To copy construct from a tensor, it is recommended to use sourceTensor.clone().detach() or sourceTensor.clone().detach().requires_grad_(True), rather than torch.tensor(sourceTensor).\n",
      "  scale = torch.tensor(params['scale']).float().to(device=device).squeeze() # microns per pixel\n"
     ]
    }
   ],
   "source": [
    "start = time.time()\n",
    "# Initialize using the following from the ground truth:\n",
    "#  Initial positions\n",
    "#  Radius\n",
    "#  \n",
    "dnmf = dNMF(dat,params={'positions':positions[:,:,0][:,:,np.newaxis],\\\n",
    "    'radius':params['radius'],'step_S':params['step_S'],'gamma':params['gamma'],\\\n",
    "    'use_gpu':False,'initial_p':positions[:,:,0],'sigma_inv':params['sigma_inv'],\\\n",
    "    'method':'1->t', 'verbose':True})\n",
    "\n",
    "dnmf.optimize(lr=1e-4,n_iter=20,n_iter_c=2)\n",
    "end = time.time()\n",
    "print('dNMF finished in ' + str(end-start) + ' seconds')"
   ]
  },
  {
   "cell_type": "code",
   "execution_count": null,
   "metadata": {},
   "outputs": [],
   "source": []
  }
 ],
 "metadata": {
  "kernelspec": {
   "display_name": "Python [conda env:.conda-DLC-postprocessing]",
   "language": "python",
   "name": "conda-env-.conda-DLC-postprocessing-py"
  },
  "language_info": {
   "codemirror_mode": {
    "name": "ipython",
    "version": 3
   },
   "file_extension": ".py",
   "mimetype": "text/x-python",
   "name": "python",
   "nbconvert_exporter": "python",
   "pygments_lexer": "ipython3",
   "version": "3.7.9"
  }
 },
 "nbformat": 4,
 "nbformat_minor": 4
}
