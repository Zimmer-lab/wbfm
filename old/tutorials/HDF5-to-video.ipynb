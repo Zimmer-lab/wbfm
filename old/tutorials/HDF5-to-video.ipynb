{
 "cells": [
  {
   "cell_type": "markdown",
   "metadata": {},
   "source": [
    "# Convert HDF5 to DLC-readable video\n",
    "Note: this doesn't load the entire file into memory"
   ]
  },
  {
   "cell_type": "code",
   "execution_count": 1,
   "metadata": {},
   "outputs": [],
   "source": [
    "import h5py\n",
    "import numpy as np\n",
    "import imageio"
   ]
  },
  {
   "cell_type": "code",
   "execution_count": 22,
   "metadata": {},
   "outputs": [
    {
     "name": "stdout",
     "output_type": "stream",
     "text": [
      "Writing frame 0/20\n",
      "Writing frame 1/20\n",
      "Writing frame 2/20\n",
      "Writing frame 3/20\n",
      "Writing frame 4/20\n",
      "Writing frame 5/20\n",
      "Writing frame 6/20\n",
      "Writing frame 7/20\n",
      "Writing frame 8/20\n",
      "Writing frame 9/20\n",
      "Writing frame 10/20\n",
      "Writing frame 11/20\n",
      "Writing frame 12/20\n",
      "Writing frame 13/20\n",
      "Writing frame 14/20\n",
      "Writing frame 15/20\n",
      "Writing frame 16/20\n",
      "Writing frame 17/20\n",
      "Writing frame 18/20\n",
      "Writing frame 19/20\n"
     ]
    }
   ],
   "source": [
    "# Take a subset of data\n",
    "num_frames = 20\n",
    "which_z = 15 # Can be a list of indices\n",
    "to_take_max = False # whether to make a max projection\n",
    "\n",
    "# File location\n",
    "which_worm = 'worm1'\n",
    "in_fname = '/groups/zimmer/Ulises/wbfm/wbfm_december/20181220/data/{}/hdf5/'.format(which_worm)\n",
    "which_file = 'mCherry' # Is also the name of the field in the file\n",
    "in_fname = in_fname + which_file + '.hdf5'\n",
    "\n",
    "# Output location and imageio writer\n",
    "out_fname = which_file + '-{}-z_{}-max_{}.avi'.format(which_worm, which_z, to_take_max)\n",
    "writer = imageio.get_writer(out_fname)\n",
    "\n",
    "with h5py.File(in_fname, 'r') as x_load:\n",
    "    for i in range(num_frames):\n",
    "        #writer.append_data(np.squeeze(x_load[which_file][i, :, which_z, :, :]).astype('uint8'))\n",
    "        #print(np.squeeze(x_load[which_file][i, :, which_z, :, :]).astype('uint8'))\n",
    "        \n",
    "        print(\"Writing frame {}/{}\".format(i, num_frames))\n",
    "    \n",
    "    x8 = np.squeeze(x_load[which_file][0:num_frames, :, which_z, :, :]).astype('uint8')\n",
    "    x16 = np.squeeze(x_load[which_file][0:num_frames, :, which_z, :, :])\n",
    "\n",
    "writer.close()"
   ]
  },
  {
   "cell_type": "code",
   "execution_count": 25,
   "metadata": {},
   "outputs": [
    {
     "name": "stdout",
     "output_type": "stream",
     "text": [
      "255\n",
      "183.5\n"
     ]
    }
   ],
   "source": [
    "#x.dtype\n",
    "print(np.max(x8))\n",
    "print(np.max(x16)/4)"
   ]
  },
  {
   "cell_type": "code",
   "execution_count": null,
   "metadata": {},
   "outputs": [],
   "source": []
  }
 ],
 "metadata": {
  "kernelspec": {
   "display_name": "Python [conda env:.conda-DLC-CPU]",
   "language": "python",
   "name": "conda-env-.conda-DLC-CPU-py"
  },
  "language_info": {
   "codemirror_mode": {
    "name": "ipython",
    "version": 2
   },
   "file_extension": ".py",
   "mimetype": "text/x-python",
   "name": "python",
   "nbconvert_exporter": "python",
   "pygments_lexer": "ipython2",
   "version": "2.7.18"
  }
 },
 "nbformat": 4,
 "nbformat_minor": 4
}
