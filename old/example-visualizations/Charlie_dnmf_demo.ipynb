{
 "cells": [
  {
   "cell_type": "code",
   "execution_count": 1,
   "metadata": {},
   "outputs": [
    {
     "name": "stderr",
     "output_type": "stream",
     "text": [
      "/users/charles.fieseler/dNMF_parent/dNMF/WUtils/Transformations.py:1916: UserWarning: No module named 'dNMF.WUtils._transformations'\n",
      "  warnings.warn(str(err))\n"
     ]
    }
   ],
   "source": [
    "from dNMF.Demix.MotionCorrect import MotionCorrect\n",
    "from dNMF.WUtils import Simulator\n",
    "from dNMF.Demix.dNMF import dNMF\n",
    "import numpy as np\n",
    "import torch\n",
    "import time"
   ]
  },
  {
   "cell_type": "code",
   "execution_count": 4,
   "metadata": {},
   "outputs": [],
   "source": [
    "# %% Choosing the parameters\n",
    "params = {'n_trials':5, 'noise_level':1e-4, 'sigma_inv':.2, \n",
    "          'radius':10, 'step_S':.1, 'gamma':0, 'stride_factor':2, 'density':.1, 'varfact':5,\n",
    "          'traj_means':[.0,.0,.0], 'traj_variances':[2e-4,2e-4,1e-5], 'sz':[20,20,1], \n",
    "          'K':20, 'T':10, 'roi_window':[4,4,0]}"
   ]
  },
  {
   "cell_type": "code",
   "execution_count": 5,
   "metadata": {},
   "outputs": [
    {
     "name": "stdout",
     "output_type": "stream",
     "text": [
      "ROI finished in 0.06409788131713867 seconds\n"
     ]
    }
   ],
   "source": [
    "# %% Simulating video\n",
    "video,positions,traces = Simulator.generate_quadratic_video(K=params['K'],T=params['T'],sz=params['sz'],\\\n",
    "                                                varfact=params['varfact'],traj_variances=params['traj_variances'],\\\n",
    "                                                traj_means=params['traj_means'],density=params['density'],bg_noise=params['noise_level'])\n",
    "neuron_names = [str(i) for i in range(positions.shape[0])]\n",
    "\n",
    "# %% Running ROI using ground truth tracking\n",
    "start = time.time()\n",
    "roi_signals = Simulator.get_roi_signals(video,positions,window=np.array(params['roi_window']))\n",
    "end = time.time()\n",
    "print('ROI finished in ' + str(end-start) + ' seconds')"
   ]
  },
  {
   "cell_type": "code",
   "execution_count": 4,
   "metadata": {},
   "outputs": [],
   "source": [
    "# %% Running normcorre motion correction\n",
    "# start = time.time()\n",
    "# shape = video.shape[:3]\n",
    "\n",
    "# strides = (shape[0]//params['stride_factor']+1,shape[1]//params['stride_factor']+1,shape[2]//params['stride_factor']+1)\n",
    "# overlaps = (shape[0]//(2*params['stride_factor'])+1,shape[1]//(2*params['stride_factor'])+1,shape[2]//(2*params['stride_factor'])+1)\n",
    "# max_shifts = (shape[0]//params['stride_factor']+1,shape[1]//params['stride_factor']+1,shape[2]//params['stride_factor']+1)\n",
    "\n",
    "\n",
    "# data = video.numpy().transpose([3,0,1,2])\n",
    "# m = MotionCorrect(data,strides=strides,\n",
    "#                   overlaps=overlaps,max_shifts=max_shifts,\n",
    "#                   pw_rigid=True,is3D=True,border_nan='copy')\n",
    "\n",
    "# m.motion_correct()\n",
    "# A = m.apply_shifts_frame(data,positions[:,:,0].numpy(),1)\n",
    "# A = torch.tensor(A).float()"
   ]
  },
  {
   "cell_type": "code",
   "execution_count": 5,
   "metadata": {},
   "outputs": [],
   "source": [
    "# %% Running NMF on motion corrected data\n",
    "# n_nmf = dNMF(torch.tensor(m.mc[0]).float(),params={'positions':A[:,:,np.newaxis],\\\n",
    "#             'radius':params['radius'],'step_S':params['step_S'],'gamma':params['gamma'],\n",
    "#             'use_gpu':False,'initial_p':A,'sigma_inv':params['sigma_inv'],\n",
    "#             'method':'1->t', 'verbose':True})\n",
    "# n_nmf.optimize(lr=.1,n_iter=0,n_iter_c=20)\n",
    "# end = time.time()\n",
    "# print('normcorre-nmf finished in ' + str(end-start) + ' seconds')"
   ]
  },
  {
   "cell_type": "code",
   "execution_count": 11,
   "metadata": {
    "collapsed": true,
    "jupyter": {
     "outputs_hidden": true
    }
   },
   "outputs": [
    {
     "name": "stderr",
     "output_type": "stream",
     "text": [
      "/users/charles.fieseler/dNMF_parent/dNMF/Demix/dNMF.py:100: UserWarning: To copy construct from a tensor, it is recommended to use sourceTensor.clone().detach() or sourceTensor.clone().detach().requires_grad_(True), rather than torch.tensor(sourceTensor).\n",
      "  scale = torch.tensor(params['scale']).float().to(device=device).squeeze() # microns per pixel\n"
     ]
    },
    {
     "name": "stdout",
     "output_type": "stream",
     "text": [
      "tensor(0.2000, grad_fn=<MeanBackward0>)\n",
      "Update C:\n",
      "tensor(0.0022)\n",
      "Update A:\n",
      "tensor(0.1000, grad_fn=<MeanBackward0>)\n",
      "tensor(12.0804, grad_fn=<AddBackward0>)\n",
      "Backward:\n",
      "tensor(-0.4446)\n",
      "Iter: 0 - Cost: tensor(12.0804, grad_fn=<AddBackward0>)\n",
      "tensor(0.1999, grad_fn=<MeanBackward0>)\n",
      "Update C:\n",
      "tensor(0.0020)\n",
      "Update A:\n",
      "tensor(0.1000, grad_fn=<MeanBackward0>)\n",
      "tensor(4.9579, grad_fn=<AddBackward0>)\n",
      "Backward:\n",
      "tensor(-0.3535)\n",
      "Iter: 1 - Cost: tensor(4.9579, grad_fn=<AddBackward0>)\n",
      "tensor(0.1999, grad_fn=<MeanBackward0>)\n",
      "Update C:\n",
      "tensor(0.0019)\n",
      "Update A:\n",
      "tensor(0.1000, grad_fn=<MeanBackward0>)\n",
      "tensor(3.2822, grad_fn=<AddBackward0>)\n",
      "Backward:\n",
      "tensor(-0.2611)\n",
      "Iter: 2 - Cost: tensor(3.2822, grad_fn=<AddBackward0>)\n",
      "tensor(0.1999, grad_fn=<MeanBackward0>)\n",
      "Update C:\n",
      "tensor(0.0019)\n",
      "Update A:\n",
      "tensor(0.1000, grad_fn=<MeanBackward0>)\n",
      "tensor(2.3786, grad_fn=<AddBackward0>)\n",
      "Backward:\n",
      "tensor(-0.1960)\n",
      "Iter: 3 - Cost: tensor(2.3786, grad_fn=<AddBackward0>)\n",
      "tensor(0.1999, grad_fn=<MeanBackward0>)\n",
      "Update C:\n",
      "tensor(0.0019)\n",
      "Update A:\n",
      "tensor(0.1000, grad_fn=<MeanBackward0>)\n",
      "tensor(1.8652, grad_fn=<AddBackward0>)\n",
      "Backward:\n",
      "tensor(-0.1311)\n",
      "Iter: 4 - Cost: tensor(1.8652, grad_fn=<AddBackward0>)\n",
      "tensor(0.1999, grad_fn=<MeanBackward0>)\n",
      "Update C:\n",
      "tensor(0.0019)\n",
      "Update A:\n",
      "tensor(0.1000, grad_fn=<MeanBackward0>)\n",
      "tensor(1.5354, grad_fn=<AddBackward0>)\n",
      "Backward:\n",
      "tensor(-0.0764)\n",
      "Iter: 5 - Cost: tensor(1.5354, grad_fn=<AddBackward0>)\n",
      "tensor(0.1999, grad_fn=<MeanBackward0>)\n",
      "Update C:\n",
      "tensor(0.0020)\n",
      "Update A:\n",
      "tensor(0.1000, grad_fn=<MeanBackward0>)\n",
      "tensor(1.3205, grad_fn=<AddBackward0>)\n",
      "Backward:\n",
      "tensor(-0.0289)\n",
      "Iter: 6 - Cost: tensor(1.3205, grad_fn=<AddBackward0>)\n",
      "tensor(0.1999, grad_fn=<MeanBackward0>)\n",
      "Update C:\n",
      "tensor(0.0020)\n",
      "Update A:\n",
      "tensor(0.1000, grad_fn=<MeanBackward0>)\n",
      "tensor(1.1662, grad_fn=<AddBackward0>)\n",
      "Backward:\n",
      "tensor(0.0085)\n",
      "Iter: 7 - Cost: tensor(1.1662, grad_fn=<AddBackward0>)\n",
      "tensor(0.2000, grad_fn=<MeanBackward0>)\n",
      "Update C:\n",
      "tensor(0.0020)\n",
      "Update A:\n",
      "tensor(0.1000, grad_fn=<MeanBackward0>)\n",
      "tensor(1.0526, grad_fn=<AddBackward0>)\n",
      "Backward:\n",
      "tensor(0.0370)\n",
      "Iter: 8 - Cost: tensor(1.0526, grad_fn=<AddBackward0>)\n",
      "tensor(0.2000, grad_fn=<MeanBackward0>)\n",
      "Update C:\n",
      "tensor(0.0020)\n",
      "Update A:\n",
      "tensor(0.1000, grad_fn=<MeanBackward0>)\n",
      "tensor(0.9629, grad_fn=<AddBackward0>)\n",
      "Backward:\n",
      "tensor(0.0566)\n",
      "Iter: 9 - Cost: tensor(0.9629, grad_fn=<AddBackward0>)\n",
      "tensor(0.2000, grad_fn=<MeanBackward0>)\n",
      "Update C:\n",
      "tensor(0.0020)\n",
      "Update A:\n",
      "tensor(0.1000, grad_fn=<MeanBackward0>)\n",
      "tensor(0.8897, grad_fn=<AddBackward0>)\n",
      "Backward:\n",
      "tensor(0.0686)\n",
      "Iter: 10 - Cost: tensor(0.8897, grad_fn=<AddBackward0>)\n",
      "tensor(0.2000, grad_fn=<MeanBackward0>)\n",
      "Update C:\n",
      "tensor(0.0020)\n",
      "Update A:\n",
      "tensor(0.1000, grad_fn=<MeanBackward0>)\n",
      "tensor(0.8272, grad_fn=<AddBackward0>)\n",
      "Backward:\n",
      "tensor(0.0740)\n",
      "Iter: 11 - Cost: tensor(0.8272, grad_fn=<AddBackward0>)\n",
      "tensor(0.2001, grad_fn=<MeanBackward0>)\n",
      "Update C:\n",
      "tensor(0.0020)\n",
      "Update A:\n",
      "tensor(0.1000, grad_fn=<MeanBackward0>)\n",
      "tensor(0.7725, grad_fn=<AddBackward0>)\n",
      "Backward:\n",
      "tensor(0.0742)\n",
      "Iter: 12 - Cost: tensor(0.7725, grad_fn=<AddBackward0>)\n",
      "tensor(0.2001, grad_fn=<MeanBackward0>)\n",
      "Update C:\n",
      "tensor(0.0020)\n",
      "Update A:\n",
      "tensor(0.1000, grad_fn=<MeanBackward0>)\n",
      "tensor(0.7236, grad_fn=<AddBackward0>)\n",
      "Backward:\n",
      "tensor(0.0704)\n",
      "Iter: 13 - Cost: tensor(0.7236, grad_fn=<AddBackward0>)\n",
      "tensor(0.2001, grad_fn=<MeanBackward0>)\n",
      "Update C:\n",
      "tensor(0.0020)\n",
      "Update A:\n",
      "tensor(0.1000, grad_fn=<MeanBackward0>)\n",
      "tensor(0.6797, grad_fn=<AddBackward0>)\n",
      "Backward:\n",
      "tensor(0.0638)\n",
      "Iter: 14 - Cost: tensor(0.6797, grad_fn=<AddBackward0>)\n",
      "tensor(0.2002, grad_fn=<MeanBackward0>)\n",
      "Update C:\n",
      "tensor(0.0020)\n",
      "Update A:\n",
      "tensor(0.1000, grad_fn=<MeanBackward0>)\n",
      "tensor(0.6400, grad_fn=<AddBackward0>)\n",
      "Backward:\n",
      "tensor(0.0556)\n",
      "Iter: 15 - Cost: tensor(0.6400, grad_fn=<AddBackward0>)\n",
      "tensor(0.2002, grad_fn=<MeanBackward0>)\n",
      "Update C:\n",
      "tensor(0.0020)\n",
      "Update A:\n",
      "tensor(0.1000, grad_fn=<MeanBackward0>)\n",
      "tensor(0.6041, grad_fn=<AddBackward0>)\n",
      "Backward:\n",
      "tensor(0.0466)\n",
      "Iter: 16 - Cost: tensor(0.6041, grad_fn=<AddBackward0>)\n",
      "tensor(0.2002, grad_fn=<MeanBackward0>)\n",
      "Update C:\n",
      "tensor(0.0020)\n",
      "Update A:\n",
      "tensor(0.1000, grad_fn=<MeanBackward0>)\n",
      "tensor(0.5717, grad_fn=<AddBackward0>)\n",
      "Backward:\n",
      "tensor(0.0377)\n",
      "Iter: 17 - Cost: tensor(0.5717, grad_fn=<AddBackward0>)\n",
      "tensor(0.2003, grad_fn=<MeanBackward0>)\n",
      "Update C:\n",
      "tensor(0.0020)\n",
      "Update A:\n",
      "tensor(0.1000, grad_fn=<MeanBackward0>)\n",
      "tensor(0.5425, grad_fn=<AddBackward0>)\n",
      "Backward:\n",
      "tensor(0.0294)\n",
      "Iter: 18 - Cost: tensor(0.5425, grad_fn=<AddBackward0>)\n",
      "tensor(0.2003, grad_fn=<MeanBackward0>)\n",
      "Update C:\n",
      "tensor(0.0020)\n",
      "Update A:\n",
      "tensor(0.1000, grad_fn=<MeanBackward0>)\n",
      "tensor(0.5163, grad_fn=<AddBackward0>)\n",
      "Backward:\n",
      "tensor(0.0221)\n",
      "Iter: 19 - Cost: tensor(0.5163, grad_fn=<AddBackward0>)\n",
      "Inner Iter: 0\n",
      "Inner Iter: 1\n",
      "dNMF finished in 16.41341757774353 seconds\n"
     ]
    }
   ],
   "source": [
    "# %% Running dNMF\n",
    "start = time.time()\n",
    "# Initialize using the following from the ground truth:\n",
    "#  Initial positions\n",
    "#  Radius\n",
    "#  \n",
    "dnmf = dNMF(video,params={'positions':positions[:,:,0][:,:,np.newaxis],\\\n",
    "    'radius':params['radius'],'step_S':params['step_S'],'gamma':params['gamma'],\n",
    "    'use_gpu':False,'initial_p':positions[:,:,0],'sigma_inv':params['sigma_inv'],\n",
    "    'method':'1->t', 'verbose':True})\n",
    "\n",
    "dnmf.optimize(lr=1e-4,n_iter=20,n_iter_c=2)\n",
    "end = time.time()\n",
    "print('dNMF finished in ' + str(end-start) + ' seconds')"
   ]
  },
  {
   "cell_type": "code",
   "execution_count": null,
   "metadata": {},
   "outputs": [],
   "source": [
    "# %% Visualizing dNMF results\n",
    "dnmf.visualize_tracks('result',video)\n",
    "dnmf.visualize_stats('result')\n",
    "dnmf.visualize_neurons('result', [['0','1','2']], neuron_names, video)"
   ]
  },
  {
   "cell_type": "code",
   "execution_count": 19,
   "metadata": {},
   "outputs": [
    {
     "ename": "AttributeError",
     "evalue": "'list' object has no attribute 'shape'",
     "output_type": "error",
     "traceback": [
      "\u001b[0;31m---------------------------------------------------------------------------\u001b[0m",
      "\u001b[0;31mAttributeError\u001b[0m                            Traceback (most recent call last)",
      "\u001b[0;32m<ipython-input-19-9ddd7d39c561>\u001b[0m in \u001b[0;36m<module>\u001b[0;34m\u001b[0m\n\u001b[0;32m----> 1\u001b[0;31m \u001b[0mneuron_names\u001b[0m\u001b[0;34m.\u001b[0m\u001b[0mshape\u001b[0m\u001b[0;34m\u001b[0m\u001b[0;34m\u001b[0m\u001b[0m\n\u001b[0m",
      "\u001b[0;31mAttributeError\u001b[0m: 'list' object has no attribute 'shape'"
     ]
    }
   ],
   "source": [
    "neuron_names"
   ]
  },
  {
   "cell_type": "markdown",
   "metadata": {},
   "source": [
    "# Plot traces"
   ]
  },
  {
   "cell_type": "code",
   "execution_count": 17,
   "metadata": {},
   "outputs": [],
   "source": [
    "import matplotlib.pyplot as plt"
   ]
  },
  {
   "cell_type": "code",
   "execution_count": null,
   "metadata": {},
   "outputs": [],
   "source": [
    "which_neuron = 9\n",
    "\n",
    "plt.plot(dnmf.C[which_neuron,:]/max(dnmf.C[which_neuron,:]))\n",
    "plt.plot(traces[which_neuron,:]/max(traces[which_neuron,:]))\n",
    "plt.legend(('dNMF', 'Ground truth'))\n",
    "plt.title('Traces for neuron {}'.format(which_neuron))\n"
   ]
  },
  {
   "cell_type": "code",
   "execution_count": null,
   "metadata": {},
   "outputs": [],
   "source": [
    "plt.savefig('bad_single_neuron.jpg')"
   ]
  },
  {
   "cell_type": "markdown",
   "metadata": {},
   "source": [
    "# What are the data formats?"
   ]
  },
  {
   "cell_type": "code",
   "execution_count": 11,
   "metadata": {},
   "outputs": [
    {
     "name": "stdout",
     "output_type": "stream",
     "text": [
      "<class 'torch.Tensor'>\n",
      "torch.Size([27, 28, 1, 100])\n"
     ]
    }
   ],
   "source": [
    "print(type(video))\n",
    "print(video.shape)"
   ]
  },
  {
   "cell_type": "code",
   "execution_count": 19,
   "metadata": {},
   "outputs": [
    {
     "data": {
      "text/plain": [
       "<matplotlib.colorbar.Colorbar at 0x2b9effe86c50>"
      ]
     },
     "execution_count": 19,
     "metadata": {},
     "output_type": "execute_result"
    },
    {
     "data": {
      "image/png": "[encoded data removed]",
      "text/plain": [
       "<Figure size 432x288 with 2 Axes>"
      ]
     },
     "metadata": {
      "needs_background": "light"
     },
     "output_type": "display_data"
    }
   ],
   "source": [
    "plt.imshow(video[:,:,0,0])\n",
    "plt.colorbar()"
   ]
  },
  {
   "cell_type": "code",
   "execution_count": 6,
   "metadata": {},
   "outputs": [
    {
     "data": {
      "text/plain": [
       "torch.Tensor"
      ]
     },
     "execution_count": 6,
     "metadata": {},
     "output_type": "execute_result"
    }
   ],
   "source": [
    "type(positions)"
   ]
  },
  {
   "cell_type": "code",
   "execution_count": 7,
   "metadata": {},
   "outputs": [
    {
     "data": {
      "text/plain": [
       "torch.Size([20, 3, 1])"
      ]
     },
     "execution_count": 7,
     "metadata": {},
     "output_type": "execute_result"
    }
   ],
   "source": [
    "positions[:,:,0][:,:,np.newaxis].shape"
   ]
  },
  {
   "cell_type": "code",
   "execution_count": 8,
   "metadata": {},
   "outputs": [
    {
     "data": {
      "text/plain": [
       "torch.Size([20, 3, 10])"
      ]
     },
     "execution_count": 8,
     "metadata": {},
     "output_type": "execute_result"
    }
   ],
   "source": [
    "positions.shape"
   ]
  },
  {
   "cell_type": "code",
   "execution_count": 9,
   "metadata": {},
   "outputs": [
    {
     "data": {
      "text/plain": [
       "tensor([17.2985, 21.2046,  0.0000])"
      ]
     },
     "execution_count": 9,
     "metadata": {},
     "output_type": "execute_result"
    }
   ],
   "source": [
    "positions[0,:,0]"
   ]
  },
  {
   "cell_type": "code",
   "execution_count": 10,
   "metadata": {},
   "outputs": [
    {
     "data": {
      "text/plain": [
       "tensor([[ 1.7299e+01,  1.7169e+01,  1.7153e+01,  1.7163e+01,  1.7282e+01,\n",
       "          1.7330e+01,  1.7237e+01,  1.7204e+01,  1.6977e+01,  1.7022e+01],\n",
       "        [ 2.1205e+01,  2.1091e+01,  2.1077e+01,  2.1167e+01,  2.1024e+01,\n",
       "          2.1044e+01,  2.1045e+01,  2.1115e+01,  2.1043e+01,  2.1080e+01],\n",
       "        [ 0.0000e+00,  4.5772e-03, -8.0972e-03, -1.4349e-02, -1.0588e-02,\n",
       "         -1.0867e-02, -5.2809e-03, -1.8780e-03,  1.4154e-03,  2.3916e-03]])"
      ]
     },
     "execution_count": 10,
     "metadata": {},
     "output_type": "execute_result"
    }
   ],
   "source": [
    "positions[:,:,np.newaxis][0,:,0]"
   ]
  },
  {
   "cell_type": "code",
   "execution_count": 13,
   "metadata": {},
   "outputs": [
    {
     "data": {
      "text/plain": [
       "float"
      ]
     },
     "execution_count": 13,
     "metadata": {},
     "output_type": "execute_result"
    }
   ],
   "source": [
    "type(positions[0,0,0].item())"
   ]
  },
  {
   "cell_type": "code",
   "execution_count": 16,
   "metadata": {},
   "outputs": [
    {
     "data": {
      "text/plain": [
       "float"
      ]
     },
     "execution_count": 16,
     "metadata": {},
     "output_type": "execute_result"
    }
   ],
   "source": [
    "type(video[0,0,0,0].item())"
   ]
  },
  {
   "cell_type": "code",
   "execution_count": null,
   "metadata": {},
   "outputs": [],
   "source": []
  }
 ],
 "metadata": {
  "kernelspec": {
   "display_name": "Python [conda env:.conda-dNMF]",
   "language": "python",
   "name": "conda-env-.conda-dNMF-py"
  },
  "language_info": {
   "codemirror_mode": {
    "name": "ipython",
    "version": 3
   },
   "file_extension": ".py",
   "mimetype": "text/x-python",
   "name": "python",
   "nbconvert_exporter": "python",
   "pygments_lexer": "ipython3",
   "version": "3.7.7"
  }
 },
 "nbformat": 4,
 "nbformat_minor": 4
}
