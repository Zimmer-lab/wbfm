{
 "cells": [
  {
   "cell_type": "markdown",
   "metadata": {},
   "source": [
    "# Roi-based traces"
   ]
  },
  {
   "cell_type": "code",
   "execution_count": 1,
   "metadata": {},
   "outputs": [],
   "source": [
    "import numpy as np\n",
    "import cv2\n",
    "import tifffile\n",
    "import h5py\n",
    "import os\n",
    "import matplotlib.pyplot as plt\n",
    "from ipywidgets import interact, fixed\n",
    "\n",
    "from vis_utils import *"
   ]
  },
  {
   "cell_type": "markdown",
   "metadata": {},
   "source": [
    "## First, read the locations from DLC"
   ]
  },
  {
   "cell_type": "code",
   "execution_count": 2,
   "metadata": {},
   "outputs": [],
   "source": [
    "which_neuron = 7\n",
    "num_frames = 100\n",
    "sz=(18,18)"
   ]
  },
  {
   "cell_type": "code",
   "execution_count": 3,
   "metadata": {},
   "outputs": [],
   "source": [
    "# Raw video\n",
    "# folder_name = '/users/charles.fieseler/test_worm1_data/mCherry_slices_long/'\n",
    "# fname = 'test_1000frames_13sliceDLC_resnet50_WormTestJul16shuffle1_34000.h5'\n",
    "# fname = os.path.join(folder_name, fname)\n",
    "\n",
    "# Pre-aligned (within volumes)\n",
    "folder_name = '/users/charles.fieseler/test_worm1_data/mCherry_volume_aligned/'\n",
    "fname = 'test_100frames_13sliceDLC_resnet50_volume_aligned_aviJul20shuffle1_5500.h5'\n",
    "# fname = 'test_100frames_13sliceDLC_resnet50_volume_aligned_aviJul20shuffle1_4500.h5' # Tightened training\n",
    "\n",
    "annotation_fname = os.path.join(folder_name, fname)\n",
    "\n",
    "this_xy, this_prob = xy_from_dlc_dat(annotation_fname, which_neuron=which_neuron, num_frames=num_frames)"
   ]
  },
  {
   "cell_type": "code",
   "execution_count": 4,
   "metadata": {},
   "outputs": [
    {
     "data": {
      "text/plain": [
       "Text(0.5, 1.0, 'Confidence of tracking')"
      ]
     },
     "execution_count": 4,
     "metadata": {},
     "output_type": "execute_result"
    },
    {
     "data": {
      "image/png": "[encoded data removed]",
      "text/plain": [
       "<Figure size 432x288 with 1 Axes>"
      ]
     },
     "metadata": {
      "needs_background": "light"
     },
     "output_type": "display_data"
    }
   ],
   "source": [
    "plt.plot(this_prob)\n",
    "plt.title('Confidence of tracking')"
   ]
  },
  {
   "cell_type": "markdown",
   "metadata": {},
   "source": [
    "## Next, read in 3d video"
   ]
  },
  {
   "cell_type": "code",
   "execution_count": 35,
   "metadata": {},
   "outputs": [],
   "source": [
    "which_z = 13 # The actually tracked slice\n",
    "num_frames = 50\n",
    "sz=(201,201,11)"
   ]
  },
  {
   "cell_type": "code",
   "execution_count": 36,
   "metadata": {},
   "outputs": [
    {
     "name": "stdout",
     "output_type": "stream",
     "text": [
      "Reading video...\n",
      "Read video of shape (100, 39, 650, 850)\n",
      "Reading frame 0/49 at position [451.515625   185.43045044  13.        ]\n",
      "Reading frame 1/49 at position [209.50746155 325.68475342  13.        ]\n",
      "Reading frame 2/49 at position [391.40966797 427.63674927  13.        ]\n",
      "Reading frame 3/49 at position [412.24954224 276.28253174  13.        ]\n",
      "Reading frame 4/49 at position [500.80776978 230.54702759  13.        ]\n",
      "Reading frame 5/49 at position [444.69400024 197.21801758  13.        ]\n",
      "Reading frame 6/49 at position [425.56283569 366.03787231  13.        ]\n",
      "Reading frame 7/49 at position [437.87957764 131.86729431  13.        ]\n",
      "Reading frame 8/49 at position [508.41940308 130.55912781  13.        ]\n",
      "Reading frame 9/49 at position [456.88497925  33.77458572  13.        ]\n",
      "Reading frame 10/49 at position [385.60809326 229.50692749  13.        ]\n",
      "Reading frame 11/49 at position [601.2130127  282.32281494  13.        ]\n",
      "Reading frame 12/49 at position [442.4887085  334.32943726  13.        ]\n",
      "Reading frame 13/49 at position [341.18618774 116.58940887  13.        ]\n",
      "Reading frame 14/49 at position [166.45925903 444.61630249  13.        ]\n",
      "Reading frame 15/49 at position [381.26202393 458.00231934  13.        ]\n",
      "Reading frame 16/49 at position [523.94793701 260.10205078  13.        ]\n",
      "Reading frame 17/49 at position [511.41348267 205.41905212  13.        ]\n",
      "Reading frame 18/49 at position [521.06634521 284.15612793  13.        ]\n",
      "Reading frame 19/49 at position [528.18780518 277.31738281  13.        ]\n",
      "Reading frame 20/49 at position [367.58834839 359.87936401  13.        ]\n",
      "Reading frame 21/49 at position [449.01544189 153.16287231  13.        ]\n",
      "Reading frame 22/49 at position [397.24789429 299.18795776  13.        ]\n",
      "Reading frame 23/49 at position [486.94140625 250.93946838  13.        ]\n",
      "Reading frame 24/49 at position [448.42715454  98.66304016  13.        ]\n",
      "Reading frame 25/49 at position [364.85748291 308.9727478   13.        ]\n",
      "Reading frame 26/49 at position [611.32427979 211.58314514  13.        ]\n",
      "Reading frame 27/49 at position [476.27279663 308.10040283  13.        ]\n",
      "Reading frame 28/49 at position [445.2802124  407.10855103  13.        ]\n",
      "Reading frame 29/49 at position [445.56582642 502.63754272  13.        ]\n",
      "Reading frame 30/49 at position [530.03997803 196.14001465  13.        ]\n",
      "Reading frame 31/49 at position [529.54498291 251.99266052  13.        ]\n",
      "Reading frame 32/49 at position [407.09109497 159.6758728   13.        ]\n",
      "Reading frame 33/49 at position [331.69436646 140.12992859  13.        ]\n",
      "Reading frame 34/49 at position [487.82904053 210.19590759  13.        ]\n",
      "Reading frame 35/49 at position [565.37854004 275.08694458  13.        ]\n",
      "Reading frame 36/49 at position [428.69961548 227.29898071  13.        ]\n",
      "Reading frame 37/49 at position [484.46987915 250.58587646  13.        ]\n",
      "Reading frame 38/49 at position [423.00714111  93.13397217  13.        ]\n",
      "Reading frame 39/49 at position [446.81048584 290.6338501   13.        ]\n",
      "Reading frame 40/49 at position [475.48309326 275.84057617  13.        ]\n",
      "Reading frame 41/49 at position [445.23516846 588.97717285  13.        ]\n",
      "Reading frame 42/49 at position [382.98410034 319.27108765  13.        ]\n",
      "Reading frame 43/49 at position [480.90274048 312.87841797  13.        ]\n",
      "Reading frame 44/49 at position [512.78210449 238.88414001  13.        ]\n",
      "Reading frame 45/49 at position [319.37387085 181.04811096  13.        ]\n",
      "Reading frame 46/49 at position [414.79525757 108.63140869  13.        ]\n",
      "Reading frame 47/49 at position [ 30.78796577 265.96936035  13.        ]\n",
      "Reading frame 48/49 at position [623.65081787 377.9621582   13.        ]\n",
      "Reading frame 49/49 at position [279.50296021 210.3374939   13.        ]\n"
     ]
    }
   ],
   "source": [
    "folder_name = '/users/charles.fieseler/test_worm1_data/mCherry_volume_aligned/'\n",
    "fname = 'test_100frames.ome.tiff'\n",
    "# Pre-aligned and background subtracted\n",
    "# fname = 'test_bg_subtract_100frames.ome.tiff'\n",
    "\n",
    "video3d_fname = os.path.join(folder_name, fname)\n",
    "\n",
    "cropped_dat = get_crop_from_ometiff(video3d_fname, this_xy, which_z, num_frames, sz)"
   ]
  },
  {
   "cell_type": "code",
   "execution_count": 37,
   "metadata": {},
   "outputs": [
    {
     "name": "stdout",
     "output_type": "stream",
     "text": [
      "Cropped data\n"
     ]
    },
    {
     "data": {
      "application/vnd.jupyter.widget-view+json": {
       "model_id": "21db0edd55e6400898be9543b7f145b4",
       "version_major": 2,
       "version_minor": 0
      },
      "text/plain": [
       "interactive(children=(IntSlider(value=5, description='z', max=10), IntSlider(value=24, description='t', max=49…"
      ]
     },
     "metadata": {},
     "output_type": "display_data"
    },
    {
     "data": {
      "text/plain": [
       "<function __main__.<lambda>(z, t)>"
      ]
     },
     "execution_count": 37,
     "metadata": {},
     "output_type": "execute_result"
    }
   ],
   "source": [
    "f = lambda z, t : plt.imshow(cropped_dat[:,:,z,t], vmin=100, vmax=500)\n",
    "print(\"Cropped data\")\n",
    "interact(f, **{'t':(0,num_frames-1), 'z':(0,sz[2]-1)})"
   ]
  },
  {
   "cell_type": "markdown",
   "metadata": {},
   "source": [
    "## Find Peaks in 3d"
   ]
  },
  {
   "cell_type": "code",
   "execution_count": 38,
   "metadata": {},
   "outputs": [],
   "source": [
    "peaks_ind = np.zeros((num_frames,3))\n",
    "peaks_val = []\n",
    "frame_sz = cropped_dat.shape[:-1]\n",
    "for t in range(num_frames):\n",
    "    frame = cropped_dat[...,t]\n",
    "    max_ind = np.argmax(frame)\n",
    "    max_ind = np.unravel_index(max_ind, frame_sz)\n",
    "    peaks_ind[t,:] = np.array(max_ind)\n",
    "    peaks_val.append(frame[max_ind])\n"
   ]
  },
  {
   "cell_type": "code",
   "execution_count": 39,
   "metadata": {},
   "outputs": [
    {
     "data": {
      "image/png": "[encoded data removed]",
      "text/plain": [
       "<Figure size 432x288 with 1 Axes>"
      ]
     },
     "metadata": {
      "needs_background": "light"
     },
     "output_type": "display_data"
    }
   ],
   "source": [
    "plt.plot(peaks_val)\n",
    "plt.plot(100*np.array([i>0.6 for i in this_prob[:num_frames]]))\n",
    "plt.legend(('Peak value', 'High tracking confidence'))\n",
    "plt.title('Value of all peaks');"
   ]
  },
  {
   "cell_type": "code",
   "execution_count": 40,
   "metadata": {},
   "outputs": [],
   "source": [
    "# fig = plt.figure(figsize=(20,20))\n",
    "# ax = fig.add_subplot(111, projection='3d')\n",
    "# ax.scatter(peaks_ind[:,0], peaks_ind[:,1], peaks_ind[:,2])\n",
    "# plt.title('All peak locations')"
   ]
  },
  {
   "cell_type": "code",
   "execution_count": 41,
   "metadata": {},
   "outputs": [
    {
     "data": {
      "application/vnd.jupyter.widget-view+json": {
       "model_id": "3556c10869e545d2bff286ced3669566",
       "version_major": 2,
       "version_minor": 0
      },
      "text/plain": [
       "interactive(children=(IntSlider(value=24, description='t', max=49), IntSlider(value=5, description='z', max=10…"
      ]
     },
     "metadata": {},
     "output_type": "display_data"
    },
    {
     "data": {
      "text/plain": [
       "<function __main__.<lambda>(t, z)>"
      ]
     },
     "execution_count": 41,
     "metadata": {},
     "output_type": "execute_result"
    }
   ],
   "source": [
    "# interact(plot3d_with_max, t=(0,num_frames-1), z=(0,sz[2]-1), max_ind=fixed(peaks_ind))\n",
    "# f = lambda t, z : plot3d_with_max(cropped_dat, z, t, peaks_ind)\n",
    "# interact(f, **{'t':(0,num_frames-1), 'z':(0,sz[2]-1)})"
   ]
  },
  {
   "cell_type": "markdown",
   "metadata": {},
   "source": [
    "## Do a Gaussian blur, then find the peaks again"
   ]
  },
  {
   "cell_type": "code",
   "execution_count": 42,
   "metadata": {},
   "outputs": [],
   "source": [
    "import cv2\n",
    "from itertools import product"
   ]
  },
  {
   "cell_type": "code",
   "execution_count": 43,
   "metadata": {},
   "outputs": [
    {
     "data": {
      "text/plain": [
       "(201, 201, 11, 50)"
      ]
     },
     "execution_count": 43,
     "metadata": {},
     "output_type": "execute_result"
    }
   ],
   "source": [
    "cropped_dat.shape"
   ]
  },
  {
   "cell_type": "code",
   "execution_count": 44,
   "metadata": {},
   "outputs": [],
   "source": [
    "blurred_dat = np.zeros_like(cropped_dat)\n",
    "sz = blurred_dat.shape\n",
    "for z, t in product(range(sz[2]), range(sz[3])):\n",
    "    blurred_dat[:,:,z,t] = cv2.GaussianBlur(cropped_dat[:,:,z,t],(5,5),0)"
   ]
  },
  {
   "cell_type": "code",
   "execution_count": 45,
   "metadata": {},
   "outputs": [],
   "source": [
    "peaks_ind = np.zeros((num_frames,3))\n",
    "peaks_val = []\n",
    "frame_sz = blurred_dat.shape[:-1]\n",
    "for t in range(num_frames):\n",
    "    frame = blurred_dat[...,t]\n",
    "    max_ind = np.argmax(frame)\n",
    "    max_ind = np.unravel_index(max_ind, frame_sz)\n",
    "    peaks_ind[t,:] = np.array(max_ind)\n",
    "    peaks_val.append(frame[max_ind])\n"
   ]
  },
  {
   "cell_type": "code",
   "execution_count": 46,
   "metadata": {},
   "outputs": [
    {
     "data": {
      "image/png": "[encoded data removed]",
      "text/plain": [
       "<Figure size 432x288 with 1 Axes>"
      ]
     },
     "metadata": {
      "needs_background": "light"
     },
     "output_type": "display_data"
    }
   ],
   "source": [
    "plt.plot(peaks_ind[:,2])\n",
    "plt.title('Z location of maximum');\n",
    "plt.savefig('z_of_max')"
   ]
  },
  {
   "cell_type": "code",
   "execution_count": 47,
   "metadata": {},
   "outputs": [],
   "source": [
    "# interact(plot3d_with_max, t=(0,num_frames-1), z=(0,sz[2]-1), max_ind=fixed(peaks_ind))\n",
    "# interact(plot3d_with_max, **{'t':(0,num_frames-1), 'z':(0,sz[2]-1), 'max_ind':fixed(peaks_ind)});"
   ]
  },
  {
   "cell_type": "code",
   "execution_count": 48,
   "metadata": {},
   "outputs": [
    {
     "data": {
      "application/vnd.jupyter.widget-view+json": {
       "model_id": "52d4059f55594039a30d02799b362150",
       "version_major": 2,
       "version_minor": 0
      },
      "text/plain": [
       "interactive(children=(IntSlider(value=24, description='t', max=49), IntSlider(value=5, description='z', max=10…"
      ]
     },
     "metadata": {},
     "output_type": "display_data"
    }
   ],
   "source": [
    "f = lambda t, z : plot3d_with_max_and_hist(cropped_dat, z, t, peaks_ind)\n",
    "# interact(plot3d_with_max, t=(0,num_frames-1), z=(0,sz[2]-1), max_ind=fixed(peaks_ind))\n",
    "interact(f, **{'t':(0,num_frames-1), 'z':(0,sz[2]-1)});"
   ]
  },
  {
   "cell_type": "code",
   "execution_count": 61,
   "metadata": {},
   "outputs": [
    {
     "data": {
      "application/vnd.jupyter.widget-view+json": {
       "model_id": "38a6a8c7be904f2c8753719f59e35c76",
       "version_major": 2,
       "version_minor": 0
      },
      "text/plain": [
       "interactive(children=(IntSlider(value=24, description='t', max=49), Output()), _dom_classes=('widget-interact'…"
      ]
     },
     "metadata": {},
     "output_type": "display_data"
    }
   ],
   "source": [
    "f = lambda t : plt.imshow(np.max(cropped_dat[...,t], axis=2), vmin=100, vmax=500)\n",
    "interact(f, **{'t':(0,num_frames-1)});"
   ]
  },
  {
   "cell_type": "code",
   "execution_count": 57,
   "metadata": {},
   "outputs": [
    {
     "data": {
      "text/plain": [
       "(201, 201, 11, 50)"
      ]
     },
     "execution_count": 57,
     "metadata": {},
     "output_type": "execute_result"
    }
   ],
   "source": [
    "cropped_dat.shape"
   ]
  },
  {
   "cell_type": "code",
   "execution_count": null,
   "metadata": {},
   "outputs": [],
   "source": [
    "plt.plot(peaks_ind[:,2])\n",
    "plt.title('Z location of maximum');"
   ]
  },
  {
   "cell_type": "markdown",
   "metadata": {},
   "source": [
    "## Take a 3x3x3 average around the peak"
   ]
  },
  {
   "cell_type": "code",
   "execution_count": null,
   "metadata": {},
   "outputs": [],
   "source": [
    "peaks333_val = np.zeros_like(peaks_val)\n",
    "# peaks333_val_blur = np.zeros_like(peaks_val)\n",
    "crop_sz=(3,3,3)\n",
    "clip_sz=cropped_dat.shape\n",
    "\n",
    "for i in range(num_frames):\n",
    "    x_ind, y_ind, z_ind = get_crop_coords3d(peaks_ind[i,:], crop_sz, clip_sz=clip_sz)\n",
    "    peaks333_val[i] = np.mean(cropped_dat[...,i][x_ind,:,:][:, y_ind,:][:,:, z_ind])\n",
    "#     peaks333_val_blur[i] = np.mean(blurred_dat[...,i][x_ind,:,:][:, y_ind,:][:,:, z_ind])\n",
    "    if peaks333_val[i] == 0:\n",
    "        print(x_ind, y_ind, z_ind)\n"
   ]
  },
  {
   "cell_type": "code",
   "execution_count": null,
   "metadata": {},
   "outputs": [],
   "source": [
    "plt.plot(peaks333_val)\n",
    "# plt.plot(peaks333_val_blur)\n",
    "plt.plot(peaks_val)\n",
    "# plt.legend(('3x3x3 box', '3x3x3 box on blurred data', 'Peak value'))\n",
    "plt.legend(('3x3x3 box', 'Peak value'))\n",
    "plt.title('Mean of 3x3x3 box around the peak');"
   ]
  },
  {
   "cell_type": "markdown",
   "metadata": {},
   "source": [
    "## Same neuron, but with GCaMP"
   ]
  },
  {
   "cell_type": "code",
   "execution_count": 1,
   "metadata": {},
   "outputs": [],
   "source": [
    "import numpy as np\n",
    "import cv2\n",
    "import tifffile\n",
    "import h5py\n",
    "import os\n",
    "import matplotlib.pyplot as plt\n",
    "from ipywidgets import interact, fixed\n",
    "\n",
    "from vis_utils import *"
   ]
  },
  {
   "cell_type": "code",
   "execution_count": 14,
   "metadata": {},
   "outputs": [],
   "source": [
    "folder_name = '/users/charles.fieseler/test_worm1_data/mCherry_slices/'\n",
    "fname = 'test_100frames_13sliceDLC_resnet50_WormTestJul9shuffle1_64000.h5' # Use tracked mCherry\n",
    "annotation_fname = os.path.join(folder_name, fname)\n",
    "\n",
    "which_neuron = 1;\n",
    "num_frames = 50;\n",
    "\n",
    "this_xy, this_prob = xy_from_dlc_dat(annotation_fname, which_neuron=which_neuron, num_frames=num_frames)"
   ]
  },
  {
   "cell_type": "code",
   "execution_count": 15,
   "metadata": {},
   "outputs": [
    {
     "data": {
      "text/plain": [
       "[<matplotlib.lines.Line2D at 0x2aff69c1ed10>]"
      ]
     },
     "execution_count": 15,
     "metadata": {},
     "output_type": "execute_result"
    },
    {
     "data": {
      "image/png": "[encoded data removed]",
      "text/plain": [
       "<Figure size 432x288 with 1 Axes>"
      ]
     },
     "metadata": {
      "needs_background": "light"
     },
     "output_type": "display_data"
    }
   ],
   "source": [
    "plt.plot(this_prob)"
   ]
  },
  {
   "cell_type": "code",
   "execution_count": 16,
   "metadata": {},
   "outputs": [],
   "source": [
    "folder_name = '/users/charles.fieseler/test_worm1_data/mCherry_slices/'\n",
    "fname = 'test_100frames_13slice.avi' # Use tracked mCherry\n",
    "video_fname = os.path.join(folder_name, fname)\n",
    "\n",
    "sz = (20, 20)\n",
    "\n",
    "cropped_dat = get_crop_from_avi(video_fname, this_xy, num_frames, sz=(28,28))"
   ]
  },
  {
   "cell_type": "code",
   "execution_count": 17,
   "metadata": {},
   "outputs": [],
   "source": [
    "peaks_ind = np.zeros((num_frames,3))\n",
    "peaks_val = []\n",
    "frame_sz = cropped_dat.shape[:-1]\n",
    "for t in range(num_frames):\n",
    "    frame = cropped_dat[...,t]\n",
    "    max_ind = np.argmax(frame)\n",
    "    max_ind = np.unravel_index(max_ind, frame_sz)\n",
    "    peaks_ind[t,:] = np.array(max_ind)\n",
    "    peaks_val.append(frame[max_ind])"
   ]
  },
  {
   "cell_type": "code",
   "execution_count": 18,
   "metadata": {},
   "outputs": [
    {
     "data": {
      "application/vnd.jupyter.widget-view+json": {
       "model_id": "e0650a4d4df243d7a1fb57d2e1606e6a",
       "version_major": 2,
       "version_minor": 0
      },
      "text/plain": [
       "interactive(children=(IntSlider(value=24, description='t', max=49), Output()), _dom_classes=('widget-interact'…"
      ]
     },
     "metadata": {},
     "output_type": "display_data"
    }
   ],
   "source": [
    "f = lambda t : plot3d_with_max_and_hist(cropped_dat, 0, t, peaks_ind)\n",
    "interact(f, **{'t':(0,num_frames-1)});"
   ]
  },
  {
   "cell_type": "markdown",
   "metadata": {},
   "source": [
    "# Scratch\n",
    "\n",
    "Fit a 3d Gaussian\n",
    "\n",
    "Based on:\n",
    "https://stackoverflow.com/questions/24666877/2d-gaussian-fitting-to-histogram"
   ]
  },
  {
   "cell_type": "code",
   "execution_count": 42,
   "metadata": {},
   "outputs": [],
   "source": [
    "def mult_gaussFun_Fit(x,y,z,*m):\n",
    "    A,x0,y0,z0,varx,vary,varz,rho,alpha = m\n",
    "    X,Y,Z = np.meshgrid(x,y,z)\n",
    "    assert rho != 1\n",
    "    a = 1/(2*(1-rho**2))\n",
    "    dist = A*np.exp(-a*( (X-x0)**2/(varx) + (Y-y0)**2/(vary) + (Z-z0)**2/(varz) - (2*rho/(np.sqrt(varx*vary*varz) ) )*(X-x0)*(Y-y0)*(Z-z0)))\n",
    "    return dist.ravel()"
   ]
  },
  {
   "cell_type": "code",
   "execution_count": 43,
   "metadata": {},
   "outputs": [],
   "source": [
    "from scipy.optimize import curve_fit"
   ]
  },
  {
   "cell_type": "code",
   "execution_count": 52,
   "metadata": {},
   "outputs": [],
   "source": [
    "# Produce a number of points in x-y from 1 distribution. \n",
    "mean = [0,0,0]\n",
    "cov = np.eye(3)\n",
    "N = 3000\n",
    "# x,y,z = np.random.multivariate_normal(mean,cov,N).T\n",
    "xyz = np.random.multivariate_normal(mean,cov,N)"
   ]
  },
  {
   "cell_type": "code",
   "execution_count": 53,
   "metadata": {},
   "outputs": [
    {
     "data": {
      "text/plain": [
       "(3000, 3)"
      ]
     },
     "execution_count": 53,
     "metadata": {},
     "output_type": "execute_result"
    }
   ],
   "source": [
    "xyz.shape"
   ]
  },
  {
   "cell_type": "code",
   "execution_count": 54,
   "metadata": {},
   "outputs": [],
   "source": [
    "H, edges = np.histogramdd(xyz)"
   ]
  },
  {
   "cell_type": "code",
   "execution_count": null,
   "metadata": {},
   "outputs": [],
   "source": [
    "# Prep bins for histogram\n",
    "bin_size = 0.2\n",
    "max_edge = 2.5*(np.sqrt(cov[0][0])+np.sqrt(cov[1][1])) \n",
    "min_edge = -max_edge\n",
    "bin_num = (max_edge-min_edge)/bin_size\n",
    "bin_numPlus1 = bin_num + 1\n",
    "bins = np.linspace(min_edge,max_edge,bin_numPlus1)\n",
    "\n",
    "# Produce 2D histogram\n",
    "H,xedges,yedges = np.histogram2d(x,y,bins,normed=False)\n",
    "bin_centers_x = (xedges[:-1]+xedges[1:])/2.0\n",
    "bin_centers_y = (yedges[:-1]+yedges[1:])/2.0"
   ]
  },
  {
   "cell_type": "code",
   "execution_count": null,
   "metadata": {},
   "outputs": [],
   "source": [
    "# Initial Guess\n",
    "p0 = (H.max(),mean[0],mean[1],cov[0][0],cov[1][1],0.5,np.pi/4)\n",
    "\n",
    "# Curve Fit parameters\n",
    "coeff, var_matrix = curve_fit(gauss.mult_gaussFun_Fit,(bin_centers_x,bin_centers_y),H,p0=p0)"
   ]
  },
  {
   "cell_type": "code",
   "execution_count": 58,
   "metadata": {},
   "outputs": [],
   "source": []
  },
  {
   "cell_type": "markdown",
   "metadata": {},
   "source": [
    "## Actually just do a Gaussian kernel"
   ]
  },
  {
   "cell_type": "code",
   "execution_count": 60,
   "metadata": {},
   "outputs": [
    {
     "data": {
      "image/png": "[encoded data removed]",
      "text/plain": [
       "<Figure size 432x288 with 2 Axes>"
      ]
     },
     "metadata": {
      "needs_background": "light"
     },
     "output_type": "display_data"
    }
   ],
   "source": [
    "mean = [0, 0]\n",
    "cov = [[1, 1], [1, 2]]\n",
    "x, y = np.random.multivariate_normal(mean, cov, 10000).T\n",
    "\n",
    "# fit an array of size [Ndim, Nsamples]\n",
    "data = np.vstack([x, y])\n",
    "kde = gaussian_kde(data)\n",
    "\n",
    "# evaluate on a regular grid\n",
    "xgrid = np.linspace(-3.5, 3.5, 40)\n",
    "ygrid = np.linspace(-6, 6, 40)\n",
    "Xgrid, Ygrid = np.meshgrid(xgrid, ygrid)\n",
    "Z = kde.evaluate(np.vstack([Xgrid.ravel(), Ygrid.ravel()]))\n",
    "\n",
    "# Plot the result as an image\n",
    "plt.imshow(Z.reshape(Xgrid.shape),\n",
    "           origin='lower', aspect='auto',\n",
    "           extent=[-3.5, 3.5, -6, 6],\n",
    "           cmap='Blues')\n",
    "cb = plt.colorbar()\n",
    "cb.set_label(\"density\")"
   ]
  },
  {
   "cell_type": "code",
   "execution_count": 62,
   "metadata": {},
   "outputs": [
    {
     "data": {
      "text/plain": [
       "(array([ 0.02787812, -0.49209117, -1.24973747, ..., -0.29762827,\n",
       "        -1.51089312, -0.09095426]),\n",
       " array([ 0.15469938, -0.16263896, -2.33547902, ..., -0.49756739,\n",
       "        -1.4176045 ,  0.31548077]))"
      ]
     },
     "execution_count": 62,
     "metadata": {},
     "output_type": "execute_result"
    }
   ],
   "source": []
  },
  {
   "cell_type": "code",
   "execution_count": null,
   "metadata": {},
   "outputs": [],
   "source": []
  }
 ],
 "metadata": {
  "kernelspec": {
   "display_name": "Python [conda env:.conda-DLC-preprocessing]",
   "language": "python",
   "name": "conda-env-.conda-DLC-preprocessing-py"
  },
  "language_info": {
   "codemirror_mode": {
    "name": "ipython",
    "version": 3
   },
   "file_extension": ".py",
   "mimetype": "text/x-python",
   "name": "python",
   "nbconvert_exporter": "python",
   "pygments_lexer": "ipython3",
   "version": "3.7.7"
  }
 },
 "nbformat": 4,
 "nbformat_minor": 4
}
