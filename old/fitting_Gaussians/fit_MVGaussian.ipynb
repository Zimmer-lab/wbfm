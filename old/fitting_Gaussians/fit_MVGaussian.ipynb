{
 "cells": [
  {
   "cell_type": "markdown",
   "metadata": {},
   "source": [
    "# First try 1d"
   ]
  },
  {
   "cell_type": "code",
   "execution_count": null,
   "metadata": {},
   "outputs": [],
   "source": [
    "# From: https://stackoverflow.com/questions/44480137/how-can-i-fit-a-gaussian-curve-in-python/44480190\n",
    "import numpy as np\n",
    "from scipy.stats import norm\n",
    "import matplotlib.pyplot as plt\n",
    "\n",
    "data = np.random.normal(loc=5.0, scale=2.0, size=1000)\n",
    "mean,std=norm.fit(data)"
   ]
  },
  {
   "cell_type": "code",
   "execution_count": null,
   "metadata": {},
   "outputs": [],
   "source": [
    "plt.hist(data, bins=30, density=True)\n",
    "xmin, xmax = plt.xlim()\n",
    "x = np.linspace(xmin, xmax, 100)\n",
    "y = norm.pdf(x, mean, std)\n",
    "plt.plot(x, y)\n",
    "plt.show()"
   ]
  },
  {
   "cell_type": "markdown",
   "metadata": {},
   "source": [
    "# Now, try 2D\n",
    "Actually moving away from just distributions\n",
    "\n",
    "Following: https://scipy-cookbook.readthedocs.io/items/FittingData.html"
   ]
  },
  {
   "cell_type": "code",
   "execution_count": null,
   "metadata": {},
   "outputs": [],
   "source": [
    "from scipy.stats import multivariate_normal\n",
    "from scipy import optimize\n"
   ]
  },
  {
   "cell_type": "code",
   "execution_count": null,
   "metadata": {},
   "outputs": [],
   "source": [
    "def gaussian(height, center_x, center_y, width_x, width_y):\n",
    "    \"\"\"Returns a gaussian function with the given parameters\"\"\"\n",
    "    width_x = float(width_x)\n",
    "    width_y = float(width_y)\n",
    "    return lambda x,y: height*np.exp(\n",
    "                -(((center_x-x)/width_x)**2+((center_y-y)/width_y)**2)/2)\n",
    "\n",
    "def moments(data):\n",
    "    \"\"\"Returns (height, x, y, width_x, width_y)\n",
    "    the gaussian parameters of a 2D distribution by calculating its\n",
    "    moments \"\"\"\n",
    "    total = data.sum()\n",
    "    X, Y = np.indices(data.shape)\n",
    "    x = (X*data).sum()/total\n",
    "    y = (Y*data).sum()/total\n",
    "    col = data[:, int(y)]\n",
    "    width_x = np.sqrt(np.abs((np.arange(col.size)-x)**2*col).sum()/col.sum())\n",
    "    row = data[int(x), :]\n",
    "    width_y = np.sqrt(np.abs((np.arange(row.size)-y)**2*row).sum()/row.sum())\n",
    "    height = data.max()\n",
    "    return height, x, y, width_x, width_y\n",
    "\n",
    "def fitgaussian(data):\n",
    "    \"\"\"Returns (height, x, y, width_x, width_y)\n",
    "    the gaussian parameters of a 2D distribution found by a fit\"\"\"\n",
    "    params = moments(data)\n",
    "    errorfunction = lambda p: np.ravel(gaussian(*p)(*np.indices(data.shape)) -\n",
    "                                 data)\n",
    "    p, success = optimize.leastsq(errorfunction, params)\n",
    "    return p"
   ]
  },
  {
   "cell_type": "code",
   "execution_count": null,
   "metadata": {
    "collapsed": true,
    "jupyter": {
     "outputs_hidden": true
    }
   },
   "outputs": [],
   "source": [
    "# Create the gaussian data\n",
    "Xin, Yin = np.mgrid[0:201, 0:201]\n",
    "data = gaussian(3, 50, 100, 20, 40)(Xin, Yin) + np.random.random(Xin.shape)\n",
    "\n",
    "plt.matshow(data, cmap=plt.cm.gist_earth_r)\n",
    "\n",
    "params = fitgaussian(data)\n",
    "fit = gaussian(*params)\n",
    "\n",
    "plt.contour(fit(*np.indices(data.shape)), cmap=plt.cm.copper)\n",
    "ax = plt.gca()\n",
    "(height, x, y, width_x, width_y) = params\n",
    "\n",
    "plt.text(0.95, 0.05, \"\"\"\n",
    "x : %.1f\n",
    "y : %.1f\n",
    "width_x : %.1f\n",
    "width_y : %.1f\"\"\" %(x, y, width_x, width_y),\n",
    "        fontsize=16, horizontalalignment='right',\n",
    "        verticalalignment='bottom', transform=ax.transAxes)"
   ]
  },
  {
   "cell_type": "code",
   "execution_count": null,
   "metadata": {},
   "outputs": [],
   "source": []
  },
  {
   "cell_type": "markdown",
   "metadata": {},
   "source": [
    "# Now, try 3D!!\n",
    "Actually moving away from just distributions\n",
    "\n",
    "Following: https://scipy-cookbook.readthedocs.io/items/FittingData.html"
   ]
  },
  {
   "cell_type": "code",
   "execution_count": 5,
   "metadata": {},
   "outputs": [],
   "source": [
    "from scipy.stats import multivariate_normal\n",
    "from scipy import optimize\n",
    "import numpy as np\n",
    "from scipy.stats import norm\n",
    "import matplotlib.pyplot as plt\n",
    "\n",
    "from sklearn import mixture"
   ]
  },
  {
   "cell_type": "code",
   "execution_count": 3,
   "metadata": {},
   "outputs": [],
   "source": [
    "def gaussian3d(height, center_x, center_y, center_z, width_x, width_y, width_z):\n",
    "    \"\"\"Returns a gaussian function with the given parameters\"\"\"\n",
    "    width_x = float(width_x)\n",
    "    width_y = float(width_y)\n",
    "    width_z = float(width_z)\n",
    "    return lambda x,y,z: height*np.exp(\n",
    "                -(((center_x-x)/width_x)**2+\\\n",
    "                  ((center_y-y)/width_y)**2+\\\n",
    "                  ((center_z-z)/width_z)**2)/2)\n",
    "\n",
    "def moments3d(data):\n",
    "    \"\"\"Returns (height, x, y, z, width_x, width_y, width_z)\n",
    "    the gaussian parameters of a 3D distribution by calculating its\n",
    "    moments \"\"\"\n",
    "    total = data.sum()\n",
    "    X, Y, Z = np.indices(data.shape)\n",
    "    x = (X*data).sum()/total\n",
    "    y = (Y*data).sum()/total\n",
    "    z = (Z*data).sum()/total\n",
    "    col = data[:, int(y), :]\n",
    "    width_x = np.sqrt(np.abs((np.arange(col.size)-x)**2*col).sum()/col.sum())\n",
    "    row = data[int(x), :, :]\n",
    "    width_y = np.sqrt(np.abs((np.arange(row.size)-y)**2*row).sum()/row.sum())\n",
    "    depth = data[:, :, int(z)]\n",
    "    width_z = np.sqrt(np.abs((np.arange(row.size)-z)**2*depth).sum()/depth.sum())\n",
    "    height = data.max()\n",
    "    return height, x, y, z, width_x, width_y, width_z\n",
    "\n",
    "def fitgaussian3d(data):\n",
    "    \"\"\"Returns (height, x, y, z, width_x, width_y, width_z)\n",
    "    the gaussian parameters of a 3D distribution found by a fit\"\"\"\n",
    "    params = moments3d(data)\n",
    "    errorfunction = lambda p: np.ravel(gaussian3d(*p)(*np.indices(data.shape)) -\n",
    "                                 data)\n",
    "    p, success = optimize.leastsq(errorfunction, params)\n",
    "    return p"
   ]
  },
  {
   "cell_type": "code",
   "execution_count": 4,
   "metadata": {},
   "outputs": [],
   "source": [
    "# Create the gaussian data\n",
    "Xin, Yin, Zin = np.mgrid[0:21, 0:21, 0:21]\n",
    "data = gaussian3d(3, 5, 10, 1, 2, 4, 1)(Xin, Yin, Zin) + np.random.random(Xin.shape)"
   ]
  },
  {
   "cell_type": "code",
   "execution_count": 7,
   "metadata": {
    "collapsed": true,
    "jupyter": {
     "outputs_hidden": true,
     "source_hidden": true
    }
   },
   "outputs": [
    {
     "ename": "ValueError",
     "evalue": "Found array with dim 3. Estimator expected <= 2.",
     "output_type": "error",
     "traceback": [
      "\u001b[0;31m---------------------------------------------------------------------------\u001b[0m",
      "\u001b[0;31mValueError\u001b[0m                                Traceback (most recent call last)",
      "\u001b[0;32m<ipython-input-7-d736a7fdedda>\u001b[0m in \u001b[0;36m<module>\u001b[0;34m\u001b[0m\n\u001b[1;32m      1\u001b[0m \u001b[0mg\u001b[0m \u001b[0;34m=\u001b[0m \u001b[0mmixture\u001b[0m\u001b[0;34m.\u001b[0m\u001b[0mGaussianMixture\u001b[0m\u001b[0;34m(\u001b[0m\u001b[0;34m)\u001b[0m\u001b[0;34m\u001b[0m\u001b[0;34m\u001b[0m\u001b[0m\n\u001b[1;32m      2\u001b[0m \u001b[0;34m\u001b[0m\u001b[0m\n\u001b[0;32m----> 3\u001b[0;31m \u001b[0mg\u001b[0m\u001b[0;34m.\u001b[0m\u001b[0mfit\u001b[0m\u001b[0;34m(\u001b[0m\u001b[0mdata\u001b[0m\u001b[0;34m)\u001b[0m\u001b[0;34m\u001b[0m\u001b[0;34m\u001b[0m\u001b[0m\n\u001b[0m",
      "\u001b[0;32m~/.conda/envs/DLC-preprocessing/lib/python3.7/site-packages/sklearn/mixture/_base.py\u001b[0m in \u001b[0;36mfit\u001b[0;34m(self, X, y)\u001b[0m\n\u001b[1;32m    191\u001b[0m         \u001b[0mself\u001b[0m\u001b[0;34m\u001b[0m\u001b[0;34m\u001b[0m\u001b[0m\n\u001b[1;32m    192\u001b[0m         \"\"\"\n\u001b[0;32m--> 193\u001b[0;31m         \u001b[0mself\u001b[0m\u001b[0;34m.\u001b[0m\u001b[0mfit_predict\u001b[0m\u001b[0;34m(\u001b[0m\u001b[0mX\u001b[0m\u001b[0;34m,\u001b[0m \u001b[0my\u001b[0m\u001b[0;34m)\u001b[0m\u001b[0;34m\u001b[0m\u001b[0;34m\u001b[0m\u001b[0m\n\u001b[0m\u001b[1;32m    194\u001b[0m         \u001b[0;32mreturn\u001b[0m \u001b[0mself\u001b[0m\u001b[0;34m\u001b[0m\u001b[0;34m\u001b[0m\u001b[0m\n\u001b[1;32m    195\u001b[0m \u001b[0;34m\u001b[0m\u001b[0m\n",
      "\u001b[0;32m~/.conda/envs/DLC-preprocessing/lib/python3.7/site-packages/sklearn/mixture/_base.py\u001b[0m in \u001b[0;36mfit_predict\u001b[0;34m(self, X, y)\u001b[0m\n\u001b[1;32m    218\u001b[0m             \u001b[0mComponent\u001b[0m \u001b[0mlabels\u001b[0m\u001b[0;34m.\u001b[0m\u001b[0;34m\u001b[0m\u001b[0;34m\u001b[0m\u001b[0m\n\u001b[1;32m    219\u001b[0m         \"\"\"\n\u001b[0;32m--> 220\u001b[0;31m         \u001b[0mX\u001b[0m \u001b[0;34m=\u001b[0m \u001b[0m_check_X\u001b[0m\u001b[0;34m(\u001b[0m\u001b[0mX\u001b[0m\u001b[0;34m,\u001b[0m \u001b[0mself\u001b[0m\u001b[0;34m.\u001b[0m\u001b[0mn_components\u001b[0m\u001b[0;34m,\u001b[0m \u001b[0mensure_min_samples\u001b[0m\u001b[0;34m=\u001b[0m\u001b[0;36m2\u001b[0m\u001b[0;34m)\u001b[0m\u001b[0;34m\u001b[0m\u001b[0;34m\u001b[0m\u001b[0m\n\u001b[0m\u001b[1;32m    221\u001b[0m         \u001b[0mself\u001b[0m\u001b[0;34m.\u001b[0m\u001b[0m_check_n_features\u001b[0m\u001b[0;34m(\u001b[0m\u001b[0mX\u001b[0m\u001b[0;34m,\u001b[0m \u001b[0mreset\u001b[0m\u001b[0;34m=\u001b[0m\u001b[0;32mTrue\u001b[0m\u001b[0;34m)\u001b[0m\u001b[0;34m\u001b[0m\u001b[0;34m\u001b[0m\u001b[0m\n\u001b[1;32m    222\u001b[0m         \u001b[0mself\u001b[0m\u001b[0;34m.\u001b[0m\u001b[0m_check_initial_parameters\u001b[0m\u001b[0;34m(\u001b[0m\u001b[0mX\u001b[0m\u001b[0;34m)\u001b[0m\u001b[0;34m\u001b[0m\u001b[0;34m\u001b[0m\u001b[0m\n",
      "\u001b[0;32m~/.conda/envs/DLC-preprocessing/lib/python3.7/site-packages/sklearn/mixture/_base.py\u001b[0m in \u001b[0;36m_check_X\u001b[0;34m(X, n_components, n_features, ensure_min_samples)\u001b[0m\n\u001b[1;32m     51\u001b[0m     \"\"\"\n\u001b[1;32m     52\u001b[0m     X = check_array(X, dtype=[np.float64, np.float32],\n\u001b[0;32m---> 53\u001b[0;31m                     ensure_min_samples=ensure_min_samples)\n\u001b[0m\u001b[1;32m     54\u001b[0m     \u001b[0;32mif\u001b[0m \u001b[0mn_components\u001b[0m \u001b[0;32mis\u001b[0m \u001b[0;32mnot\u001b[0m \u001b[0;32mNone\u001b[0m \u001b[0;32mand\u001b[0m \u001b[0mX\u001b[0m\u001b[0;34m.\u001b[0m\u001b[0mshape\u001b[0m\u001b[0;34m[\u001b[0m\u001b[0;36m0\u001b[0m\u001b[0;34m]\u001b[0m \u001b[0;34m<\u001b[0m \u001b[0mn_components\u001b[0m\u001b[0;34m:\u001b[0m\u001b[0;34m\u001b[0m\u001b[0;34m\u001b[0m\u001b[0m\n\u001b[1;32m     55\u001b[0m         raise ValueError('Expected n_samples >= n_components '\n",
      "\u001b[0;32m~/.conda/envs/DLC-preprocessing/lib/python3.7/site-packages/sklearn/utils/validation.py\u001b[0m in \u001b[0;36minner_f\u001b[0;34m(*args, **kwargs)\u001b[0m\n\u001b[1;32m     71\u001b[0m                           FutureWarning)\n\u001b[1;32m     72\u001b[0m         \u001b[0mkwargs\u001b[0m\u001b[0;34m.\u001b[0m\u001b[0mupdate\u001b[0m\u001b[0;34m(\u001b[0m\u001b[0;34m{\u001b[0m\u001b[0mk\u001b[0m\u001b[0;34m:\u001b[0m \u001b[0marg\u001b[0m \u001b[0;32mfor\u001b[0m \u001b[0mk\u001b[0m\u001b[0;34m,\u001b[0m \u001b[0marg\u001b[0m \u001b[0;32min\u001b[0m \u001b[0mzip\u001b[0m\u001b[0;34m(\u001b[0m\u001b[0msig\u001b[0m\u001b[0;34m.\u001b[0m\u001b[0mparameters\u001b[0m\u001b[0;34m,\u001b[0m \u001b[0margs\u001b[0m\u001b[0;34m)\u001b[0m\u001b[0;34m}\u001b[0m\u001b[0;34m)\u001b[0m\u001b[0;34m\u001b[0m\u001b[0;34m\u001b[0m\u001b[0m\n\u001b[0;32m---> 73\u001b[0;31m         \u001b[0;32mreturn\u001b[0m \u001b[0mf\u001b[0m\u001b[0;34m(\u001b[0m\u001b[0;34m**\u001b[0m\u001b[0mkwargs\u001b[0m\u001b[0;34m)\u001b[0m\u001b[0;34m\u001b[0m\u001b[0;34m\u001b[0m\u001b[0m\n\u001b[0m\u001b[1;32m     74\u001b[0m     \u001b[0;32mreturn\u001b[0m \u001b[0minner_f\u001b[0m\u001b[0;34m\u001b[0m\u001b[0;34m\u001b[0m\u001b[0m\n\u001b[1;32m     75\u001b[0m \u001b[0;34m\u001b[0m\u001b[0m\n",
      "\u001b[0;32m~/.conda/envs/DLC-preprocessing/lib/python3.7/site-packages/sklearn/utils/validation.py\u001b[0m in \u001b[0;36mcheck_array\u001b[0;34m(array, accept_sparse, accept_large_sparse, dtype, order, copy, force_all_finite, ensure_2d, allow_nd, ensure_min_samples, ensure_min_features, estimator)\u001b[0m\n\u001b[1;32m    640\u001b[0m         \u001b[0;32mif\u001b[0m \u001b[0;32mnot\u001b[0m \u001b[0mallow_nd\u001b[0m \u001b[0;32mand\u001b[0m \u001b[0marray\u001b[0m\u001b[0;34m.\u001b[0m\u001b[0mndim\u001b[0m \u001b[0;34m>=\u001b[0m \u001b[0;36m3\u001b[0m\u001b[0;34m:\u001b[0m\u001b[0;34m\u001b[0m\u001b[0;34m\u001b[0m\u001b[0m\n\u001b[1;32m    641\u001b[0m             raise ValueError(\"Found array with dim %d. %s expected <= 2.\"\n\u001b[0;32m--> 642\u001b[0;31m                              % (array.ndim, estimator_name))\n\u001b[0m\u001b[1;32m    643\u001b[0m \u001b[0;34m\u001b[0m\u001b[0m\n\u001b[1;32m    644\u001b[0m         \u001b[0;32mif\u001b[0m \u001b[0mforce_all_finite\u001b[0m\u001b[0;34m:\u001b[0m\u001b[0;34m\u001b[0m\u001b[0;34m\u001b[0m\u001b[0m\n",
      "\u001b[0;31mValueError\u001b[0m: Found array with dim 3. Estimator expected <= 2."
     ]
    }
   ],
   "source": [
    "g = mixture.\n",
    "\n",
    "g.fit(data)"
   ]
  },
  {
   "cell_type": "code",
   "execution_count": 17,
   "metadata": {
    "collapsed": true,
    "jupyter": {
     "outputs_hidden": true,
     "source_hidden": true
    }
   },
   "outputs": [
    {
     "ename": "ValueError",
     "evalue": "operands could not be broadcast together with shapes (441,) (21,21) ",
     "output_type": "error",
     "traceback": [
      "\u001b[0;31m---------------------------------------------------------------------------\u001b[0m",
      "\u001b[0;31mValueError\u001b[0m                                Traceback (most recent call last)",
      "\u001b[0;32m<ipython-input-17-70c19d6c3fdf>\u001b[0m in \u001b[0;36m<module>\u001b[0;34m\u001b[0m\n\u001b[1;32m      5\u001b[0m \u001b[0mplt\u001b[0m\u001b[0;34m.\u001b[0m\u001b[0mmatshow\u001b[0m\u001b[0;34m(\u001b[0m\u001b[0mdata\u001b[0m\u001b[0;34m[\u001b[0m\u001b[0;36m10\u001b[0m\u001b[0;34m,\u001b[0m\u001b[0;34m...\u001b[0m\u001b[0;34m]\u001b[0m\u001b[0;34m,\u001b[0m \u001b[0mcmap\u001b[0m\u001b[0;34m=\u001b[0m\u001b[0mplt\u001b[0m\u001b[0;34m.\u001b[0m\u001b[0mcm\u001b[0m\u001b[0;34m.\u001b[0m\u001b[0mgist_earth_r\u001b[0m\u001b[0;34m)\u001b[0m\u001b[0;34m\u001b[0m\u001b[0;34m\u001b[0m\u001b[0m\n\u001b[1;32m      6\u001b[0m \u001b[0;34m\u001b[0m\u001b[0m\n\u001b[0;32m----> 7\u001b[0;31m \u001b[0mparams\u001b[0m \u001b[0;34m=\u001b[0m \u001b[0mfitgaussian3d\u001b[0m\u001b[0;34m(\u001b[0m\u001b[0mdata\u001b[0m\u001b[0;34m)\u001b[0m\u001b[0;34m\u001b[0m\u001b[0;34m\u001b[0m\u001b[0m\n\u001b[0m\u001b[1;32m      8\u001b[0m \u001b[0mfit\u001b[0m \u001b[0;34m=\u001b[0m \u001b[0mgaussian3d\u001b[0m\u001b[0;34m(\u001b[0m\u001b[0;34m*\u001b[0m\u001b[0mparams\u001b[0m\u001b[0;34m)\u001b[0m\u001b[0;34m\u001b[0m\u001b[0;34m\u001b[0m\u001b[0m\n\u001b[1;32m      9\u001b[0m \u001b[0;34m\u001b[0m\u001b[0m\n",
      "\u001b[0;32m<ipython-input-13-af7061f27d03>\u001b[0m in \u001b[0;36mfitgaussian3d\u001b[0;34m(data)\u001b[0m\n\u001b[1;32m     30\u001b[0m     \"\"\"Returns (height, x, y, z, width_x, width_y, width_z)\n\u001b[1;32m     31\u001b[0m     the gaussian parameters of a 3D distribution found by a fit\"\"\"\n\u001b[0;32m---> 32\u001b[0;31m     \u001b[0mparams\u001b[0m \u001b[0;34m=\u001b[0m \u001b[0mmoments3d\u001b[0m\u001b[0;34m(\u001b[0m\u001b[0mdata\u001b[0m\u001b[0;34m)\u001b[0m\u001b[0;34m\u001b[0m\u001b[0;34m\u001b[0m\u001b[0m\n\u001b[0m\u001b[1;32m     33\u001b[0m     errorfunction = lambda p: np.ravel(gaussian3d(*p)(*np.indices(data.shape)) -\n\u001b[1;32m     34\u001b[0m                                  data)\n",
      "\u001b[0;32m<ipython-input-13-af7061f27d03>\u001b[0m in \u001b[0;36mmoments3d\u001b[0;34m(data)\u001b[0m\n\u001b[1;32m     19\u001b[0m     \u001b[0mz\u001b[0m \u001b[0;34m=\u001b[0m \u001b[0;34m(\u001b[0m\u001b[0mZ\u001b[0m\u001b[0;34m*\u001b[0m\u001b[0mdata\u001b[0m\u001b[0;34m)\u001b[0m\u001b[0;34m.\u001b[0m\u001b[0msum\u001b[0m\u001b[0;34m(\u001b[0m\u001b[0;34m)\u001b[0m\u001b[0;34m/\u001b[0m\u001b[0mtotal\u001b[0m\u001b[0;34m\u001b[0m\u001b[0;34m\u001b[0m\u001b[0m\n\u001b[1;32m     20\u001b[0m     \u001b[0mcol\u001b[0m \u001b[0;34m=\u001b[0m \u001b[0mdata\u001b[0m\u001b[0;34m[\u001b[0m\u001b[0;34m:\u001b[0m\u001b[0;34m,\u001b[0m \u001b[0mint\u001b[0m\u001b[0;34m(\u001b[0m\u001b[0my\u001b[0m\u001b[0;34m)\u001b[0m\u001b[0;34m,\u001b[0m \u001b[0;34m:\u001b[0m\u001b[0;34m]\u001b[0m\u001b[0;34m\u001b[0m\u001b[0;34m\u001b[0m\u001b[0m\n\u001b[0;32m---> 21\u001b[0;31m     \u001b[0mwidth_x\u001b[0m \u001b[0;34m=\u001b[0m \u001b[0mnp\u001b[0m\u001b[0;34m.\u001b[0m\u001b[0msqrt\u001b[0m\u001b[0;34m(\u001b[0m\u001b[0mnp\u001b[0m\u001b[0;34m.\u001b[0m\u001b[0mabs\u001b[0m\u001b[0;34m(\u001b[0m\u001b[0;34m(\u001b[0m\u001b[0mnp\u001b[0m\u001b[0;34m.\u001b[0m\u001b[0marange\u001b[0m\u001b[0;34m(\u001b[0m\u001b[0mcol\u001b[0m\u001b[0;34m.\u001b[0m\u001b[0msize\u001b[0m\u001b[0;34m)\u001b[0m\u001b[0;34m-\u001b[0m\u001b[0mx\u001b[0m\u001b[0;34m)\u001b[0m\u001b[0;34m**\u001b[0m\u001b[0;36m2\u001b[0m\u001b[0;34m*\u001b[0m\u001b[0mcol\u001b[0m\u001b[0;34m)\u001b[0m\u001b[0;34m.\u001b[0m\u001b[0msum\u001b[0m\u001b[0;34m(\u001b[0m\u001b[0;34m)\u001b[0m\u001b[0;34m/\u001b[0m\u001b[0mcol\u001b[0m\u001b[0;34m.\u001b[0m\u001b[0msum\u001b[0m\u001b[0;34m(\u001b[0m\u001b[0;34m)\u001b[0m\u001b[0;34m)\u001b[0m\u001b[0;34m\u001b[0m\u001b[0;34m\u001b[0m\u001b[0m\n\u001b[0m\u001b[1;32m     22\u001b[0m     \u001b[0mrow\u001b[0m \u001b[0;34m=\u001b[0m \u001b[0mdata\u001b[0m\u001b[0;34m[\u001b[0m\u001b[0mint\u001b[0m\u001b[0;34m(\u001b[0m\u001b[0mx\u001b[0m\u001b[0;34m)\u001b[0m\u001b[0;34m,\u001b[0m \u001b[0;34m:\u001b[0m\u001b[0;34m,\u001b[0m \u001b[0;34m:\u001b[0m\u001b[0;34m]\u001b[0m\u001b[0;34m\u001b[0m\u001b[0;34m\u001b[0m\u001b[0m\n\u001b[1;32m     23\u001b[0m     \u001b[0mwidth_y\u001b[0m \u001b[0;34m=\u001b[0m \u001b[0mnp\u001b[0m\u001b[0;34m.\u001b[0m\u001b[0msqrt\u001b[0m\u001b[0;34m(\u001b[0m\u001b[0mnp\u001b[0m\u001b[0;34m.\u001b[0m\u001b[0mabs\u001b[0m\u001b[0;34m(\u001b[0m\u001b[0;34m(\u001b[0m\u001b[0mnp\u001b[0m\u001b[0;34m.\u001b[0m\u001b[0marange\u001b[0m\u001b[0;34m(\u001b[0m\u001b[0mrow\u001b[0m\u001b[0;34m.\u001b[0m\u001b[0msize\u001b[0m\u001b[0;34m)\u001b[0m\u001b[0;34m-\u001b[0m\u001b[0my\u001b[0m\u001b[0;34m)\u001b[0m\u001b[0;34m**\u001b[0m\u001b[0;36m2\u001b[0m\u001b[0;34m*\u001b[0m\u001b[0mrow\u001b[0m\u001b[0;34m)\u001b[0m\u001b[0;34m.\u001b[0m\u001b[0msum\u001b[0m\u001b[0;34m(\u001b[0m\u001b[0;34m)\u001b[0m\u001b[0;34m/\u001b[0m\u001b[0mrow\u001b[0m\u001b[0;34m.\u001b[0m\u001b[0msum\u001b[0m\u001b[0;34m(\u001b[0m\u001b[0;34m)\u001b[0m\u001b[0;34m)\u001b[0m\u001b[0;34m\u001b[0m\u001b[0;34m\u001b[0m\u001b[0m\n",
      "\u001b[0;31mValueError\u001b[0m: operands could not be broadcast together with shapes (441,) (21,21) "
     ]
    },
    {
     "data": {
      "image/png": "[encoded data removed]",
      "text/plain": [
       "<Figure size 288x288 with 1 Axes>"
      ]
     },
     "metadata": {
      "needs_background": "light"
     },
     "output_type": "display_data"
    }
   ],
   "source": [
    "plt.matshow(data[10,...], cmap=plt.cm.gist_earth_r)\n",
    "\n",
    "params = fitgaussian3d(data)\n",
    "fit = gaussian3d(*params)\n",
    "\n",
    "plt.contour(fit(*np.indices(data.shape)), cmap=plt.cm.copper)\n",
    "ax = plt.gca()\n",
    "(height, x, y, z, width_x, width_y, width_z) = params\n",
    "\n",
    "plt.text(0.95, 0.05, \"\"\"\n",
    "x : %.1f\n",
    "y : %.1f\n",
    "width_x : %.1f\n",
    "width_y : %.1f\"\"\" %(x, y, width_x, width_y),\n",
    "        fontsize=16, horizontalalignment='right',\n",
    "        verticalalignment='bottom', transform=ax.transAxes)"
   ]
  },
  {
   "cell_type": "code",
   "execution_count": 15,
   "metadata": {},
   "outputs": [
    {
     "data": {
      "text/plain": [
       "array([[[3.51263886e-03, 5.79136241e-03, 3.51263886e-03, ...,\n",
       "         1.01678261e-65, 2.55314026e-73, 2.35845047e-81],\n",
       "        [6.36056728e-03, 1.04868026e-02, 6.36056728e-03, ...,\n",
       "         1.84115544e-65, 4.62313977e-73, 4.27060209e-81],\n",
       "        [1.08196894e-02, 1.78386521e-02, 1.08196894e-02, ...,\n",
       "         3.13191091e-65, 7.86422566e-73, 7.26453886e-81],\n",
       "        ...,\n",
       "        [1.08196894e-02, 1.78386521e-02, 1.08196894e-02, ...,\n",
       "         3.13191091e-65, 7.86422566e-73, 7.26453886e-81],\n",
       "        [6.36056728e-03, 1.04868026e-02, 6.36056728e-03, ...,\n",
       "         1.84115544e-65, 4.62313977e-73, 4.27060209e-81],\n",
       "        [3.51263886e-03, 5.79136241e-03, 3.51263886e-03, ...,\n",
       "         1.01678261e-65, 2.55314026e-73, 2.35845047e-81]],\n",
       "\n",
       "       [[1.08196894e-02, 1.78386521e-02, 1.08196894e-02, ...,\n",
       "         3.13191091e-65, 7.86422566e-73, 7.26453886e-81],\n",
       "        [1.95919265e-02, 3.23016259e-02, 1.95919265e-02, ...,\n",
       "         5.67115802e-65, 1.42402730e-72, 1.31543805e-80],\n",
       "        [3.33269896e-02, 5.49469167e-02, 3.33269896e-02, ...,\n",
       "         9.64696476e-65, 2.42235204e-72, 2.23763550e-80],\n",
       "        ...,\n",
       "        [3.33269896e-02, 5.49469167e-02, 3.33269896e-02, ...,\n",
       "         9.64696476e-65, 2.42235204e-72, 2.23763550e-80],\n",
       "        [1.95919265e-02, 3.23016259e-02, 1.95919265e-02, ...,\n",
       "         5.67115802e-65, 1.42402730e-72, 1.31543805e-80],\n",
       "        [1.08196894e-02, 1.78386521e-02, 1.08196894e-02, ...,\n",
       "         3.13191091e-65, 7.86422566e-73, 7.26453886e-81]],\n",
       "\n",
       "       [[2.59550856e-02, 4.27927017e-02, 2.59550856e-02, ...,\n",
       "         7.51306371e-65, 1.88652966e-72, 1.74267228e-80],\n",
       "        [4.69985884e-02, 7.74875724e-02, 4.69985884e-02, ...,\n",
       "         1.36044009e-64, 3.41606391e-72, 3.15557184e-80],\n",
       "        [7.99472920e-02, 1.31810801e-01, 7.99472920e-02, ...,\n",
       "         2.31418654e-64, 5.81092045e-72, 5.36780852e-80],\n",
       "        ...,\n",
       "        [7.99472920e-02, 1.31810801e-01, 7.99472920e-02, ...,\n",
       "         2.31418654e-64, 5.81092045e-72, 5.36780852e-80],\n",
       "        [4.69985884e-02, 7.74875724e-02, 4.69985884e-02, ...,\n",
       "         1.36044009e-64, 3.41606391e-72, 3.15557184e-80],\n",
       "        [2.59550856e-02, 4.27927017e-02, 2.59550856e-02, ...,\n",
       "         7.51306371e-65, 1.88652966e-72, 1.74267228e-80]],\n",
       "\n",
       "       ...,\n",
       "\n",
       "       [[5.34974187e-11, 8.82023322e-11, 5.34974187e-11, ...,\n",
       "         1.54855785e-73, 3.88842745e-81, 3.59191528e-89],\n",
       "        [9.68713108e-11, 1.59713791e-10, 9.68713108e-11, ...,\n",
       "         2.80407601e-73, 7.04103250e-81, 6.50411833e-89],\n",
       "        [1.64783651e-10, 2.71682310e-10, 1.64783651e-10, ...,\n",
       "         4.76989398e-73, 1.19771997e-80, 1.10638780e-88],\n",
       "        ...,\n",
       "        [1.64783651e-10, 2.71682310e-10, 1.64783651e-10, ...,\n",
       "         4.76989398e-73, 1.19771997e-80, 1.10638780e-88],\n",
       "        [9.68713108e-11, 1.59713791e-10, 9.68713108e-11, ...,\n",
       "         2.80407601e-73, 7.04103250e-81, 6.50411833e-89],\n",
       "        [5.34974187e-11, 8.82023322e-11, 5.34974187e-11, ...,\n",
       "         1.54855785e-73, 3.88842745e-81, 3.59191528e-89]],\n",
       "\n",
       "       [[1.83058100e-12, 3.01811784e-12, 1.83058100e-12, ...,\n",
       "         5.29887357e-75, 1.33054671e-82, 1.22908582e-90],\n",
       "        [3.31475397e-12, 5.46510538e-12, 3.31475397e-12, ...,\n",
       "         9.59502047e-75, 2.40930883e-82, 2.22558690e-90],\n",
       "        [5.63858645e-12, 9.29645742e-12, 5.63858645e-12, ...,\n",
       "         1.63216796e-74, 4.09837238e-82, 3.78585085e-90],\n",
       "        ...,\n",
       "        [5.63858645e-12, 9.29645742e-12, 5.63858645e-12, ...,\n",
       "         1.63216796e-74, 4.09837238e-82, 3.78585085e-90],\n",
       "        [3.31475397e-12, 5.46510538e-12, 3.31475397e-12, ...,\n",
       "         9.59502047e-75, 2.40930883e-82, 2.22558690e-90],\n",
       "        [1.83058100e-12, 3.01811784e-12, 1.83058100e-12, ...,\n",
       "         5.29887357e-75, 1.33054671e-82, 1.22908582e-90]],\n",
       "\n",
       "       [[4.87833313e-14, 8.04301160e-14, 4.87833313e-14, ...,\n",
       "         1.41210197e-76, 3.54578687e-84, 3.27540277e-92],\n",
       "        [8.83352013e-14, 1.45640125e-13, 8.83352013e-14, ...,\n",
       "         2.55698635e-76, 6.42059055e-84, 5.93098820e-92],\n",
       "        [1.50263239e-13, 2.47742199e-13, 1.50263239e-13, ...,\n",
       "         4.34958029e-76, 1.09217924e-83, 1.00889508e-91],\n",
       "        ...,\n",
       "        [1.50263239e-13, 2.47742199e-13, 1.50263239e-13, ...,\n",
       "         4.34958029e-76, 1.09217924e-83, 1.00889508e-91],\n",
       "        [8.83352013e-14, 1.45640125e-13, 8.83352013e-14, ...,\n",
       "         2.55698635e-76, 6.42059055e-84, 5.93098820e-92],\n",
       "        [4.87833313e-14, 8.04301160e-14, 4.87833313e-14, ...,\n",
       "         1.41210197e-76, 3.54578687e-84, 3.27540277e-92]]])"
      ]
     },
     "execution_count": 15,
     "metadata": {},
     "output_type": "execute_result"
    }
   ],
   "source": [
    "gaussian3d(3, 5, 10, 1, 2, 4, 1)(Xin, Yin, Zin)"
   ]
  },
  {
   "cell_type": "code",
   "execution_count": 11,
   "metadata": {},
   "outputs": [
    {
     "data": {
      "text/plain": [
       "(array([[[ 0,  0,  0, ...,  0,  0,  0],\n",
       "         [ 0,  0,  0, ...,  0,  0,  0],\n",
       "         [ 0,  0,  0, ...,  0,  0,  0],\n",
       "         ...,\n",
       "         [ 0,  0,  0, ...,  0,  0,  0],\n",
       "         [ 0,  0,  0, ...,  0,  0,  0],\n",
       "         [ 0,  0,  0, ...,  0,  0,  0]],\n",
       " \n",
       "        [[ 1,  1,  1, ...,  1,  1,  1],\n",
       "         [ 1,  1,  1, ...,  1,  1,  1],\n",
       "         [ 1,  1,  1, ...,  1,  1,  1],\n",
       "         ...,\n",
       "         [ 1,  1,  1, ...,  1,  1,  1],\n",
       "         [ 1,  1,  1, ...,  1,  1,  1],\n",
       "         [ 1,  1,  1, ...,  1,  1,  1]],\n",
       " \n",
       "        [[ 2,  2,  2, ...,  2,  2,  2],\n",
       "         [ 2,  2,  2, ...,  2,  2,  2],\n",
       "         [ 2,  2,  2, ...,  2,  2,  2],\n",
       "         ...,\n",
       "         [ 2,  2,  2, ...,  2,  2,  2],\n",
       "         [ 2,  2,  2, ...,  2,  2,  2],\n",
       "         [ 2,  2,  2, ...,  2,  2,  2]],\n",
       " \n",
       "        ...,\n",
       " \n",
       "        [[18, 18, 18, ..., 18, 18, 18],\n",
       "         [18, 18, 18, ..., 18, 18, 18],\n",
       "         [18, 18, 18, ..., 18, 18, 18],\n",
       "         ...,\n",
       "         [18, 18, 18, ..., 18, 18, 18],\n",
       "         [18, 18, 18, ..., 18, 18, 18],\n",
       "         [18, 18, 18, ..., 18, 18, 18]],\n",
       " \n",
       "        [[19, 19, 19, ..., 19, 19, 19],\n",
       "         [19, 19, 19, ..., 19, 19, 19],\n",
       "         [19, 19, 19, ..., 19, 19, 19],\n",
       "         ...,\n",
       "         [19, 19, 19, ..., 19, 19, 19],\n",
       "         [19, 19, 19, ..., 19, 19, 19],\n",
       "         [19, 19, 19, ..., 19, 19, 19]],\n",
       " \n",
       "        [[20, 20, 20, ..., 20, 20, 20],\n",
       "         [20, 20, 20, ..., 20, 20, 20],\n",
       "         [20, 20, 20, ..., 20, 20, 20],\n",
       "         ...,\n",
       "         [20, 20, 20, ..., 20, 20, 20],\n",
       "         [20, 20, 20, ..., 20, 20, 20],\n",
       "         [20, 20, 20, ..., 20, 20, 20]]]),\n",
       " array([[[ 0,  0,  0, ...,  0,  0,  0],\n",
       "         [ 1,  1,  1, ...,  1,  1,  1],\n",
       "         [ 2,  2,  2, ...,  2,  2,  2],\n",
       "         ...,\n",
       "         [18, 18, 18, ..., 18, 18, 18],\n",
       "         [19, 19, 19, ..., 19, 19, 19],\n",
       "         [20, 20, 20, ..., 20, 20, 20]],\n",
       " \n",
       "        [[ 0,  0,  0, ...,  0,  0,  0],\n",
       "         [ 1,  1,  1, ...,  1,  1,  1],\n",
       "         [ 2,  2,  2, ...,  2,  2,  2],\n",
       "         ...,\n",
       "         [18, 18, 18, ..., 18, 18, 18],\n",
       "         [19, 19, 19, ..., 19, 19, 19],\n",
       "         [20, 20, 20, ..., 20, 20, 20]],\n",
       " \n",
       "        [[ 0,  0,  0, ...,  0,  0,  0],\n",
       "         [ 1,  1,  1, ...,  1,  1,  1],\n",
       "         [ 2,  2,  2, ...,  2,  2,  2],\n",
       "         ...,\n",
       "         [18, 18, 18, ..., 18, 18, 18],\n",
       "         [19, 19, 19, ..., 19, 19, 19],\n",
       "         [20, 20, 20, ..., 20, 20, 20]],\n",
       " \n",
       "        ...,\n",
       " \n",
       "        [[ 0,  0,  0, ...,  0,  0,  0],\n",
       "         [ 1,  1,  1, ...,  1,  1,  1],\n",
       "         [ 2,  2,  2, ...,  2,  2,  2],\n",
       "         ...,\n",
       "         [18, 18, 18, ..., 18, 18, 18],\n",
       "         [19, 19, 19, ..., 19, 19, 19],\n",
       "         [20, 20, 20, ..., 20, 20, 20]],\n",
       " \n",
       "        [[ 0,  0,  0, ...,  0,  0,  0],\n",
       "         [ 1,  1,  1, ...,  1,  1,  1],\n",
       "         [ 2,  2,  2, ...,  2,  2,  2],\n",
       "         ...,\n",
       "         [18, 18, 18, ..., 18, 18, 18],\n",
       "         [19, 19, 19, ..., 19, 19, 19],\n",
       "         [20, 20, 20, ..., 20, 20, 20]],\n",
       " \n",
       "        [[ 0,  0,  0, ...,  0,  0,  0],\n",
       "         [ 1,  1,  1, ...,  1,  1,  1],\n",
       "         [ 2,  2,  2, ...,  2,  2,  2],\n",
       "         ...,\n",
       "         [18, 18, 18, ..., 18, 18, 18],\n",
       "         [19, 19, 19, ..., 19, 19, 19],\n",
       "         [20, 20, 20, ..., 20, 20, 20]]]),\n",
       " array([[[ 0,  1,  2, ..., 18, 19, 20],\n",
       "         [ 0,  1,  2, ..., 18, 19, 20],\n",
       "         [ 0,  1,  2, ..., 18, 19, 20],\n",
       "         ...,\n",
       "         [ 0,  1,  2, ..., 18, 19, 20],\n",
       "         [ 0,  1,  2, ..., 18, 19, 20],\n",
       "         [ 0,  1,  2, ..., 18, 19, 20]],\n",
       " \n",
       "        [[ 0,  1,  2, ..., 18, 19, 20],\n",
       "         [ 0,  1,  2, ..., 18, 19, 20],\n",
       "         [ 0,  1,  2, ..., 18, 19, 20],\n",
       "         ...,\n",
       "         [ 0,  1,  2, ..., 18, 19, 20],\n",
       "         [ 0,  1,  2, ..., 18, 19, 20],\n",
       "         [ 0,  1,  2, ..., 18, 19, 20]],\n",
       " \n",
       "        [[ 0,  1,  2, ..., 18, 19, 20],\n",
       "         [ 0,  1,  2, ..., 18, 19, 20],\n",
       "         [ 0,  1,  2, ..., 18, 19, 20],\n",
       "         ...,\n",
       "         [ 0,  1,  2, ..., 18, 19, 20],\n",
       "         [ 0,  1,  2, ..., 18, 19, 20],\n",
       "         [ 0,  1,  2, ..., 18, 19, 20]],\n",
       " \n",
       "        ...,\n",
       " \n",
       "        [[ 0,  1,  2, ..., 18, 19, 20],\n",
       "         [ 0,  1,  2, ..., 18, 19, 20],\n",
       "         [ 0,  1,  2, ..., 18, 19, 20],\n",
       "         ...,\n",
       "         [ 0,  1,  2, ..., 18, 19, 20],\n",
       "         [ 0,  1,  2, ..., 18, 19, 20],\n",
       "         [ 0,  1,  2, ..., 18, 19, 20]],\n",
       " \n",
       "        [[ 0,  1,  2, ..., 18, 19, 20],\n",
       "         [ 0,  1,  2, ..., 18, 19, 20],\n",
       "         [ 0,  1,  2, ..., 18, 19, 20],\n",
       "         ...,\n",
       "         [ 0,  1,  2, ..., 18, 19, 20],\n",
       "         [ 0,  1,  2, ..., 18, 19, 20],\n",
       "         [ 0,  1,  2, ..., 18, 19, 20]],\n",
       " \n",
       "        [[ 0,  1,  2, ..., 18, 19, 20],\n",
       "         [ 0,  1,  2, ..., 18, 19, 20],\n",
       "         [ 0,  1,  2, ..., 18, 19, 20],\n",
       "         ...,\n",
       "         [ 0,  1,  2, ..., 18, 19, 20],\n",
       "         [ 0,  1,  2, ..., 18, 19, 20],\n",
       "         [ 0,  1,  2, ..., 18, 19, 20]]]))"
      ]
     },
     "execution_count": 11,
     "metadata": {},
     "output_type": "execute_result"
    }
   ],
   "source": [
    "Xin, Yin, Zin"
   ]
  },
  {
   "cell_type": "code",
   "execution_count": null,
   "metadata": {},
   "outputs": [],
   "source": []
  }
 ],
 "metadata": {
  "kernelspec": {
   "display_name": "Python [conda env:.conda-DLC-preprocessing]",
   "language": "python",
   "name": "conda-env-.conda-DLC-preprocessing-py"
  },
  "language_info": {
   "codemirror_mode": {
    "name": "ipython",
    "version": 3
   },
   "file_extension": ".py",
   "mimetype": "text/x-python",
   "name": "python",
   "nbconvert_exporter": "python",
   "pygments_lexer": "ipython3",
   "version": "3.7.7"
  }
 },
 "nbformat": 4,
 "nbformat_minor": 4
}
