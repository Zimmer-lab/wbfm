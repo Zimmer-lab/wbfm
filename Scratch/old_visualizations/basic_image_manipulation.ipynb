{
 "cells": [
  {
   "cell_type": "markdown",
   "metadata": {},
   "source": [
    "# Basic image manipulation"
   ]
  },
  {
   "cell_type": "code",
   "execution_count": 1,
   "metadata": {},
   "outputs": [],
   "source": [
    "from skimage.transform import downscale_local_mean"
   ]
  },
  {
   "cell_type": "code",
   "execution_count": null,
   "metadata": {},
   "outputs": [],
   "source": [
    "target_shape = (64,64)\n",
    "\n",
    "def my_downscale(x_train, target_shape):\n",
    "    downscale_factors = (x_train.shape[1]//target_shape[0], x_train.shape[2]//target_shape[1])\n",
    "    x_train2 = np.zeros((x_train.shape[0], target_shape[0], target_shape[1]))\n",
    "    for i in range(x_train.shape[0]):\n",
    "        tmp = downscale_local_mean(x_train[i, :, :], downscale_factors)\n",
    "        #print(tmp.shape)\n",
    "        x_train2[i,:,:] = tmp[0:target_shape[0], 0:target_shape[1]] # Note: sometimes the downscaling function gives a extra pixel on one side; remove it\n",
    "    \n",
    "    return x_train2\n",
    "\n",
    "x_train2 = my_downscale(x_train, target_shape)\n",
    "\n",
    "# verify\n",
    "print('shape of training data', x_train2.shape)"
   ]
  }
 ],
 "metadata": {
  "kernelspec": {
   "display_name": "Python [conda env:.conda-deepcell-gpu]",
   "language": "python",
   "name": "conda-env-.conda-deepcell-gpu-py"
  },
  "language_info": {
   "codemirror_mode": {
    "name": "ipython",
    "version": 3
   },
   "file_extension": ".py",
   "mimetype": "text/x-python",
   "name": "python",
   "nbconvert_exporter": "python",
   "pygments_lexer": "ipython3",
   "version": "3.6.6"
  }
 },
 "nbformat": 4,
 "nbformat_minor": 4
}
