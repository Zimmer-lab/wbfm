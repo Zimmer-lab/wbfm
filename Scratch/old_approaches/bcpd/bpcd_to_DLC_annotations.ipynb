{
 "cells": [
  {
   "cell_type": "code",
   "execution_count": 28,
   "metadata": {},
   "outputs": [
    {
     "name": "stdout",
     "output_type": "stream",
     "text": [
      "The autoreload extension is already loaded. To reload it, use:\n",
      "  %reload_ext autoreload\n"
     ]
    }
   ],
   "source": [
    "\n",
    "%load_ext autoreload\n",
    "%autoreload 2\n",
    "\n",
    "from test_bcpd_package import *\n",
    "# import importlib\n",
    "# importlib.reload(test_bcpd_package)\n",
    "\n",
    "import numpy as np\n",
    "import open3d as o3\n",
    "import transformations as trans\n",
    "from probreg import bcpd\n",
    "from probreg import callbacks\n",
    "import copy\n",
    "import os\n",
    "import csv\n",
    "\n",
    "# My imports\n",
    "import pandas as pd\n",
    "from sklearn.neighbors import NearestNeighbors\n",
    "import glob"
   ]
  },
  {
   "cell_type": "code",
   "execution_count": 6,
   "metadata": {},
   "outputs": [
    {
     "name": "stdout",
     "output_type": "stream",
     "text": [
      "Source filename:  .\\Statistics for img3-emin.csv\n",
      "Target fnames:  ['.\\\\Statistics for img0-emin.csv', '.\\\\Statistics for img1-emin.csv', '.\\\\Statistics for img2-emin.csv', '.\\\\Statistics for img4-emin.csv']\n",
      "geometry::PointCloud with 89 points.\n",
      "geometry::PointCloud with 81 points.\n",
      "Note: the value of w may need to be tweaked\n",
      "geometry::PointCloud with 89 points.\n",
      "geometry::PointCloud with 113 points.\n",
      "Note: the value of w may need to be tweaked\n",
      "geometry::PointCloud with 89 points.\n",
      "geometry::PointCloud with 96 points.\n",
      "Note: the value of w may need to be tweaked\n",
      "geometry::PointCloud with 89 points.\n",
      "geometry::PointCloud with 1640 points.\n",
      "Note: the value of w may need to be tweaked\n"
     ]
    }
   ],
   "source": [
    "# Visualization\n",
    "to_plot = False\n",
    "\n",
    "# Get list of processed frames in folder\n",
    "output_path='.'\n",
    "# target_fnames=[]\n",
    "target_fnames = [fn for fn in glob.glob(os.path.join(output_path,'*.csv')) if ('Statistics' in fn)]\n",
    "\n",
    "# Choose a source frame; the rest are targets\n",
    "source_index = 3\n",
    "source_fname = target_fnames.pop(source_index)\n",
    "print(\"Source filename: \", source_fname)\n",
    "print(\"Target fnames: \", target_fnames)\n",
    "\n",
    "# Loop over the pairs\n",
    "all_indices = None\n",
    "for t_fname in target_fnames:\n",
    "    # All the same source\n",
    "    source, target = prepare_source_and_target_nonrigid_3d(source_fname,\n",
    "                                                           t_fname,\n",
    "                                                           0.005)\n",
    "    if to_plot:\n",
    "        cbs = [callbacks.Open3dVisualizerCallback(source, target)]\n",
    "    else:\n",
    "        cbs = []\n",
    "    # Do BCPD\n",
    "    print(\"Note: the value of w may need to be tweaked\")\n",
    "    tf_param = bcpd.registration_bcpd(source, target, w=1e-12,\n",
    "                                      #gamma=10.0, #lmd=0.2, #k = 1e2,\n",
    "                                      maxiter=100,\n",
    "                                      callbacks=cbs)\n",
    "    # Compute correspondence\n",
    "    indices = correspondence_from_transform(tf_param, source, target)\n",
    "    # save_indices(indices)\n",
    "    if all_indices is None:\n",
    "        all_indices = indices\n",
    "    else:\n",
    "        # print(all_indices.shape)\n",
    "        # print(indices.shape)\n",
    "        all_indices = np.hstack((all_indices, indices))\n",
    "\n",
    "ind_fname = save_indices(all_indices)"
   ]
  },
  {
   "cell_type": "code",
   "execution_count": 30,
   "metadata": {},
   "outputs": [
    {
     "name": "stdout",
     "output_type": "stream",
     "text": [
      "[3, 0, 1, 2, 4]\n",
      "5 images found ['.\\\\Statistics for img3-emin.csv', '.\\\\Statistics for img0-emin.csv', '.\\\\Statistics for img1-emin.csv', '.\\\\Statistics for img2-emin.csv', '.\\\\Statistics for img4-emin.csv']\n",
      "Working on folder: .\n",
      "Note: this does not have the exact DLC format, but is specific to Linux\n",
      "[3, 0, 1, 2, 4]\n",
      "['labeled-data/test_100frames.ome/img3.tif', 'labeled-data/test_100frames.ome/img0.tif', 'labeled-data/test_100frames.ome/img1.tif', 'labeled-data/test_100frames.ome/img2.tif', 'labeled-data/test_100frames.ome/img4.tif']\n"
     ]
    }
   ],
   "source": [
    "## directly output in DLC format\n",
    "all_fnames = [source_fname]\n",
    "all_fnames.extend(target_fnames)\n",
    "# print(all_fnames)\n",
    "save_indices_DLC(all_indices, all_fnames)"
   ]
  },
  {
   "cell_type": "code",
   "execution_count": null,
   "metadata": {},
   "outputs": [],
   "source": [
    "all_indices.shape"
   ]
  },
  {
   "cell_type": "code",
   "execution_count": 7,
   "metadata": {},
   "outputs": [
    {
     "data": {
      "text/plain": [
       "(89, 1)"
      ]
     },
     "execution_count": 7,
     "metadata": {},
     "output_type": "execute_result"
    }
   ],
   "source": [
    "indices.shape"
   ]
  },
  {
   "cell_type": "code",
   "execution_count": 4,
   "metadata": {},
   "outputs": [
    {
     "data": {
      "text/plain": [
       "['.\\\\Statistics for img3-emin.csv',\n",
       " '.\\\\Statistics for img0-emin.csv',\n",
       " '.\\\\Statistics for img1-emin.csv',\n",
       " '.\\\\Statistics for img2-emin.csv',\n",
       " '.\\\\Statistics for img4-emin.csv']"
      ]
     },
     "execution_count": 4,
     "metadata": {},
     "output_type": "execute_result"
    }
   ],
   "source": [
    "all_fnames"
   ]
  },
  {
   "cell_type": "code",
   "execution_count": null,
   "metadata": {},
   "outputs": [],
   "source": []
  }
 ],
 "metadata": {
  "kernelspec": {
   "display_name": "Python [conda env:DLC-dev] *",
   "language": "python",
   "name": "conda-env-DLC-dev-py"
  },
  "language_info": {
   "codemirror_mode": {
    "name": "ipython",
    "version": 3
   },
   "file_extension": ".py",
   "mimetype": "text/x-python",
   "name": "python",
   "nbconvert_exporter": "python",
   "pygments_lexer": "ipython3",
   "version": "3.7.7"
  }
 },
 "nbformat": 4,
 "nbformat_minor": 4
}
