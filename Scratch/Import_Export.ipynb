{
 "cells": [
  {
   "cell_type": "markdown",
   "metadata": {},
   "source": [
    "# HDF5\n",
    "\n",
    "Takes a single z-slice and the first 'num_frames' frames and loads it into memory as a numpy array"
   ]
  },
  {
   "cell_type": "code",
   "execution_count": 1,
   "metadata": {},
   "outputs": [],
   "source": [
    "import h5py\n",
    "import numpy as np"
   ]
  },
  {
   "cell_type": "code",
   "execution_count": null,
   "metadata": {},
   "outputs": [],
   "source": [
    "# Take a subset of data\n",
    "which_z = 15\n",
    "num_frames = 1000\n",
    "\n",
    "# File location\n",
    "fname = '/groups/zimmer/Ulises/wbfm/wbfm_december2018/20181220/data/worm1/hdf5/'\n",
    "which_file = 'mCherry' # Is also the name of the field in the file\n",
    "fname = fname + which_file + '.hdf5'\n",
    "\n",
    "with h5py.File(fname, 'r') as x_load:\n",
    "    print(x_load.keys())\n",
    "    x_raw = np.squeeze(x_load[which_file][0:num_frames, :, which_z, :, :])\n",
    "    print(x_raw.shape)"
   ]
  },
  {
   "cell_type": "markdown",
   "metadata": {},
   "source": [
    "# OME-TIFF"
   ]
  },
  {
   "cell_type": "markdown",
   "metadata": {},
   "source": [
    "# Save: .avi"
   ]
  },
  {
   "cell_type": "code",
   "execution_count": null,
   "metadata": {},
   "outputs": [],
   "source": [
    "# Following:\n",
    "#  https://stackoverflow.com/questions/29317262/opencv-video-saving-in-python/45868817\n",
    "# Note: I'm not using the main answer, as that's for a captured video stream, not just an array\n",
    "\n",
    "import numpy as np\n",
    "import cv2"
   ]
  },
  {
   "cell_type": "code",
   "execution_count": null,
   "metadata": {},
   "outputs": [],
   "source": [
    "# Must have a numpy array (or hdf5 file?) named 'data'\n",
    "#  Frames should be stored in the first axis of 'data'\n",
    "\n",
    "sz = data.shape\n",
    "\n",
    "writer = cv2.VideoWriter(\"output.avi\",cv2.VideoWriter_fourcc(*\"MJPG\"), 30,sz[1:])\n",
    "\n",
    "for frame in range(sz[0]):\n",
    "    writer.write(data).astype('uint8'))\n",
    "\n",
    "writer.release()"
   ]
  }
 ],
 "metadata": {
  "kernelspec": {
   "display_name": "Python [conda env:.conda-DLC-CPU]",
   "language": "python",
   "name": "conda-env-.conda-DLC-CPU-py"
  },
  "language_info": {
   "codemirror_mode": {
    "name": "ipython",
    "version": 2
   },
   "file_extension": ".py",
   "mimetype": "text/x-python",
   "name": "python",
   "nbconvert_exporter": "python",
   "pygments_lexer": "ipython2",
   "version": "2.7.18"
  }
 },
 "nbformat": 4,
 "nbformat_minor": 4
}
