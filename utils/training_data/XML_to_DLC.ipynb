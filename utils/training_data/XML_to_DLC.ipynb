{
 "cells": [
  {
   "cell_type": "code",
   "execution_count": 1,
   "metadata": {},
   "outputs": [],
   "source": [
    "from lxml import etree as ET\n",
    "import pandas as pd\n",
    "import os\n",
    "from xml_utils import xml_pretty_print\n",
    "import numpy as np"
   ]
  },
  {
   "cell_type": "markdown",
   "metadata": {},
   "source": [
    "# Import DLC database as a template"
   ]
  },
  {
   "cell_type": "code",
   "execution_count": 2,
   "metadata": {},
   "outputs": [
    {
     "data": {
      "text/html": [
       "<div>\n",
       "<style scoped>\n",
       "    .dataframe tbody tr th:only-of-type {\n",
       "        vertical-align: middle;\n",
       "    }\n",
       "\n",
       "    .dataframe tbody tr th {\n",
       "        vertical-align: top;\n",
       "    }\n",
       "\n",
       "    .dataframe thead tr th {\n",
       "        text-align: left;\n",
       "    }\n",
       "</style>\n",
       "<table border=\"1\" class=\"dataframe\">\n",
       "  <thead>\n",
       "    <tr>\n",
       "      <th>scorer</th>\n",
       "      <th colspan=\"21\" halign=\"left\">Charlie</th>\n",
       "    </tr>\n",
       "    <tr>\n",
       "      <th>bodyparts</th>\n",
       "      <th colspan=\"2\" halign=\"left\">neuron0</th>\n",
       "      <th colspan=\"2\" halign=\"left\">neuron1</th>\n",
       "      <th colspan=\"2\" halign=\"left\">neuron2</th>\n",
       "      <th colspan=\"2\" halign=\"left\">neuron3</th>\n",
       "      <th colspan=\"2\" halign=\"left\">neuron4</th>\n",
       "      <th>...</th>\n",
       "      <th colspan=\"2\" halign=\"left\">neuron24</th>\n",
       "      <th colspan=\"2\" halign=\"left\">neuron25</th>\n",
       "      <th colspan=\"2\" halign=\"left\">neuron26</th>\n",
       "      <th colspan=\"2\" halign=\"left\">neuron27</th>\n",
       "      <th colspan=\"2\" halign=\"left\">neuron28</th>\n",
       "    </tr>\n",
       "    <tr>\n",
       "      <th>coords</th>\n",
       "      <th>x</th>\n",
       "      <th>y</th>\n",
       "      <th>x</th>\n",
       "      <th>y</th>\n",
       "      <th>x</th>\n",
       "      <th>y</th>\n",
       "      <th>x</th>\n",
       "      <th>y</th>\n",
       "      <th>x</th>\n",
       "      <th>y</th>\n",
       "      <th>...</th>\n",
       "      <th>x</th>\n",
       "      <th>y</th>\n",
       "      <th>x</th>\n",
       "      <th>y</th>\n",
       "      <th>x</th>\n",
       "      <th>y</th>\n",
       "      <th>x</th>\n",
       "      <th>y</th>\n",
       "      <th>x</th>\n",
       "      <th>y</th>\n",
       "    </tr>\n",
       "  </thead>\n",
       "  <tbody>\n",
       "    <tr>\n",
       "      <th>labeled-data/Aligned 100 of 100/img00.png</th>\n",
       "      <td>219.0</td>\n",
       "      <td>347.0</td>\n",
       "      <td>248.0</td>\n",
       "      <td>327.0</td>\n",
       "      <td>260.0</td>\n",
       "      <td>319.0</td>\n",
       "      <td>298.0</td>\n",
       "      <td>317.0</td>\n",
       "      <td>283.0</td>\n",
       "      <td>298.0</td>\n",
       "      <td>...</td>\n",
       "      <td>394.0</td>\n",
       "      <td>246.0</td>\n",
       "      <td>409.0</td>\n",
       "      <td>242.0</td>\n",
       "      <td>440.0</td>\n",
       "      <td>243.0</td>\n",
       "      <td>458.0</td>\n",
       "      <td>239.0</td>\n",
       "      <td>441.0</td>\n",
       "      <td>175.0</td>\n",
       "    </tr>\n",
       "    <tr>\n",
       "      <th>labeled-data/Aligned 100 of 100/img01.png</th>\n",
       "      <td>227.0</td>\n",
       "      <td>357.0</td>\n",
       "      <td>255.0</td>\n",
       "      <td>333.0</td>\n",
       "      <td>265.0</td>\n",
       "      <td>321.0</td>\n",
       "      <td>300.0</td>\n",
       "      <td>308.0</td>\n",
       "      <td>283.0</td>\n",
       "      <td>301.0</td>\n",
       "      <td>...</td>\n",
       "      <td>389.0</td>\n",
       "      <td>247.0</td>\n",
       "      <td>410.0</td>\n",
       "      <td>245.0</td>\n",
       "      <td>446.0</td>\n",
       "      <td>250.0</td>\n",
       "      <td>465.0</td>\n",
       "      <td>247.0</td>\n",
       "      <td>444.0</td>\n",
       "      <td>183.0</td>\n",
       "    </tr>\n",
       "    <tr>\n",
       "      <th>labeled-data/Aligned 100 of 100/img02.png</th>\n",
       "      <td>194.0</td>\n",
       "      <td>330.0</td>\n",
       "      <td>232.0</td>\n",
       "      <td>322.0</td>\n",
       "      <td>246.0</td>\n",
       "      <td>317.0</td>\n",
       "      <td>285.0</td>\n",
       "      <td>319.0</td>\n",
       "      <td>273.0</td>\n",
       "      <td>308.0</td>\n",
       "      <td>...</td>\n",
       "      <td>392.0</td>\n",
       "      <td>243.0</td>\n",
       "      <td>413.0</td>\n",
       "      <td>235.0</td>\n",
       "      <td>453.0</td>\n",
       "      <td>226.0</td>\n",
       "      <td>467.0</td>\n",
       "      <td>216.0</td>\n",
       "      <td>425.0</td>\n",
       "      <td>169.0</td>\n",
       "    </tr>\n",
       "    <tr>\n",
       "      <th>labeled-data/Aligned 100 of 100/img03.png</th>\n",
       "      <td>195.0</td>\n",
       "      <td>316.0</td>\n",
       "      <td>230.0</td>\n",
       "      <td>312.0</td>\n",
       "      <td>248.0</td>\n",
       "      <td>313.0</td>\n",
       "      <td>283.0</td>\n",
       "      <td>319.0</td>\n",
       "      <td>275.0</td>\n",
       "      <td>309.0</td>\n",
       "      <td>...</td>\n",
       "      <td>391.0</td>\n",
       "      <td>241.0</td>\n",
       "      <td>409.0</td>\n",
       "      <td>229.0</td>\n",
       "      <td>441.0</td>\n",
       "      <td>215.0</td>\n",
       "      <td>457.0</td>\n",
       "      <td>198.0</td>\n",
       "      <td>409.0</td>\n",
       "      <td>157.0</td>\n",
       "    </tr>\n",
       "    <tr>\n",
       "      <th>labeled-data/Aligned 100 of 100/img04.png</th>\n",
       "      <td>183.0</td>\n",
       "      <td>294.0</td>\n",
       "      <td>219.0</td>\n",
       "      <td>300.0</td>\n",
       "      <td>237.0</td>\n",
       "      <td>301.0</td>\n",
       "      <td>272.0</td>\n",
       "      <td>320.0</td>\n",
       "      <td>266.0</td>\n",
       "      <td>303.0</td>\n",
       "      <td>...</td>\n",
       "      <td>395.0</td>\n",
       "      <td>241.0</td>\n",
       "      <td>410.0</td>\n",
       "      <td>224.0</td>\n",
       "      <td>440.0</td>\n",
       "      <td>202.0</td>\n",
       "      <td>450.0</td>\n",
       "      <td>183.0</td>\n",
       "      <td>398.0</td>\n",
       "      <td>153.0</td>\n",
       "    </tr>\n",
       "  </tbody>\n",
       "</table>\n",
       "<p>5 rows × 58 columns</p>\n",
       "</div>"
      ],
      "text/plain": [
       "scorer                                    Charlie                        \\\n",
       "bodyparts                                 neuron0        neuron1          \n",
       "coords                                          x      y       x      y   \n",
       "labeled-data/Aligned 100 of 100/img00.png   219.0  347.0   248.0  327.0   \n",
       "labeled-data/Aligned 100 of 100/img01.png   227.0  357.0   255.0  333.0   \n",
       "labeled-data/Aligned 100 of 100/img02.png   194.0  330.0   232.0  322.0   \n",
       "labeled-data/Aligned 100 of 100/img03.png   195.0  316.0   230.0  312.0   \n",
       "labeled-data/Aligned 100 of 100/img04.png   183.0  294.0   219.0  300.0   \n",
       "\n",
       "scorer                                                                   \\\n",
       "bodyparts                                 neuron2        neuron3          \n",
       "coords                                          x      y       x      y   \n",
       "labeled-data/Aligned 100 of 100/img00.png   260.0  319.0   298.0  317.0   \n",
       "labeled-data/Aligned 100 of 100/img01.png   265.0  321.0   300.0  308.0   \n",
       "labeled-data/Aligned 100 of 100/img02.png   246.0  317.0   285.0  319.0   \n",
       "labeled-data/Aligned 100 of 100/img03.png   248.0  313.0   283.0  319.0   \n",
       "labeled-data/Aligned 100 of 100/img04.png   237.0  301.0   272.0  320.0   \n",
       "\n",
       "scorer                                                    ...                  \\\n",
       "bodyparts                                 neuron4         ... neuron24          \n",
       "coords                                          x      y  ...        x      y   \n",
       "labeled-data/Aligned 100 of 100/img00.png   283.0  298.0  ...    394.0  246.0   \n",
       "labeled-data/Aligned 100 of 100/img01.png   283.0  301.0  ...    389.0  247.0   \n",
       "labeled-data/Aligned 100 of 100/img02.png   273.0  308.0  ...    392.0  243.0   \n",
       "labeled-data/Aligned 100 of 100/img03.png   275.0  309.0  ...    391.0  241.0   \n",
       "labeled-data/Aligned 100 of 100/img04.png   266.0  303.0  ...    395.0  241.0   \n",
       "\n",
       "scorer                                                                     \\\n",
       "bodyparts                                 neuron25        neuron26          \n",
       "coords                                           x      y        x      y   \n",
       "labeled-data/Aligned 100 of 100/img00.png    409.0  242.0    440.0  243.0   \n",
       "labeled-data/Aligned 100 of 100/img01.png    410.0  245.0    446.0  250.0   \n",
       "labeled-data/Aligned 100 of 100/img02.png    413.0  235.0    453.0  226.0   \n",
       "labeled-data/Aligned 100 of 100/img03.png    409.0  229.0    441.0  215.0   \n",
       "labeled-data/Aligned 100 of 100/img04.png    410.0  224.0    440.0  202.0   \n",
       "\n",
       "scorer                                                                     \n",
       "bodyparts                                 neuron27        neuron28         \n",
       "coords                                           x      y        x      y  \n",
       "labeled-data/Aligned 100 of 100/img00.png    458.0  239.0    441.0  175.0  \n",
       "labeled-data/Aligned 100 of 100/img01.png    465.0  247.0    444.0  183.0  \n",
       "labeled-data/Aligned 100 of 100/img02.png    467.0  216.0    425.0  169.0  \n",
       "labeled-data/Aligned 100 of 100/img03.png    457.0  198.0    409.0  157.0  \n",
       "labeled-data/Aligned 100 of 100/img04.png    450.0  183.0    398.0  153.0  \n",
       "\n",
       "[5 rows x 58 columns]"
      ]
     },
     "execution_count": 2,
     "metadata": {},
     "output_type": "execute_result"
    }
   ],
   "source": [
    "dlc_fname = 'CollectedData_Charlie.h5'\n",
    "\n",
    "df_original = pd.read_hdf(dlc_fname)\n",
    "df_original"
   ]
  },
  {
   "cell_type": "code",
   "execution_count": 3,
   "metadata": {},
   "outputs": [
    {
     "name": "stdout",
     "output_type": "stream",
     "text": [
      "Index(['labeled-data/Aligned 100 of 100/img00.png',\n",
      "       'labeled-data/Aligned 100 of 100/img01.png',\n",
      "       'labeled-data/Aligned 100 of 100/img02.png',\n",
      "       'labeled-data/Aligned 100 of 100/img03.png',\n",
      "       'labeled-data/Aligned 100 of 100/img04.png'],\n",
      "      dtype='object')\n"
     ]
    }
   ],
   "source": [
    "df_original = df_original.sort_index()\n",
    "all_files = df_original.index"
   ]
  },
  {
   "cell_type": "markdown",
   "metadata": {},
   "source": [
    "# Import XML from Icy"
   ]
  },
  {
   "cell_type": "code",
   "execution_count": 4,
   "metadata": {},
   "outputs": [],
   "source": [
    "# fname = os.path.join('few_frame_videos', 'icy_40neurons_tracked.xml')\n",
    "fname = os.path.join('few_frame_videos', 'icy_7neurons_slice13_25frames.xml')\n",
    "et_icy = ET.parse(fname)"
   ]
  },
  {
   "cell_type": "code",
   "execution_count": 5,
   "metadata": {},
   "outputs": [
    {
     "name": "stdout",
     "output_type": "stream",
     "text": [
      "Found 1 group(s) of tracks\n"
     ]
    }
   ],
   "source": [
    "et2 = et_icy.getroot()\n",
    "num_trackgroups = len(et2) - 2\n",
    "print(\"Found {} group(s) of tracks\".format(num_trackgroups))"
   ]
  },
  {
   "cell_type": "markdown",
   "metadata": {},
   "source": [
    "# Write dataframe in DLC format"
   ]
  },
  {
   "cell_type": "code",
   "execution_count": 6,
   "metadata": {},
   "outputs": [],
   "source": [
    "save_z_coordinate = False\n",
    "using_original_fnames = False"
   ]
  },
  {
   "cell_type": "code",
   "execution_count": 18,
   "metadata": {},
   "outputs": [
    {
     "name": "stdout",
     "output_type": "stream",
     "text": [
      "['labeled-data/test_1000frames_13slice/img00.png', 'labeled-data/test_1000frames_13slice/img01.png', 'labeled-data/test_1000frames_13slice/img02.png', 'labeled-data/test_1000frames_13slice/img03.png', 'labeled-data/test_1000frames_13slice/img04.png', 'labeled-data/test_1000frames_13slice/img05.png', 'labeled-data/test_1000frames_13slice/img06.png', 'labeled-data/test_1000frames_13slice/img07.png', 'labeled-data/test_1000frames_13slice/img08.png', 'labeled-data/test_1000frames_13slice/img09.png', 'labeled-data/test_1000frames_13slice/img10.png', 'labeled-data/test_1000frames_13slice/img11.png', 'labeled-data/test_1000frames_13slice/img12.png', 'labeled-data/test_1000frames_13slice/img13.png', 'labeled-data/test_1000frames_13slice/img14.png', 'labeled-data/test_1000frames_13slice/img15.png', 'labeled-data/test_1000frames_13slice/img16.png', 'labeled-data/test_1000frames_13slice/img17.png', 'labeled-data/test_1000frames_13slice/img18.png', 'labeled-data/test_1000frames_13slice/img19.png', 'labeled-data/test_1000frames_13slice/img20.png', 'labeled-data/test_1000frames_13slice/img21.png', 'labeled-data/test_1000frames_13slice/img22.png', 'labeled-data/test_1000frames_13slice/img23.png', 'labeled-data/test_1000frames_13slice/img24.png']\n",
      "Assumes filenames in the DLC annotation are same as the Icy tracker, after alphabetizing\n"
     ]
    }
   ],
   "source": [
    "scorer = df_original.columns.levels[0][0]\n",
    "\n",
    "if save_z_coordinate:\n",
    "    coord_names = ['x', 'y', 'z']\n",
    "else:\n",
    "    coord_names = ['x', 'y']\n",
    "\n",
    "if using_original_fnames:\n",
    "    relativeimagenames=df_original.index\n",
    "else:\n",
    "    folder_1 = 'labeled-data'\n",
    "    folder_2 = 'test_1000frames_13slice'\n",
    "    fname_template = 'img{:2d}.png'\n",
    "    num_files = 25\n",
    "    relativeimagenames = ['/'.join((folder_1, folder_2, fname_template.format(i))).replace(' ', '0') for i in range(num_files)]\n",
    "#     relativeimagenames = ['labeled-data/test_100frames_13slice/img00.png',\n",
    "#        'labeled-data/test_100frames_13slice/img01.png',\n",
    "#        'labeled-data/test_100frames_13slice/img02.png',\n",
    "#        'labeled-data/test_100frames_13slice/img03.png',\n",
    "#        'labeled-data/test_100frames_13slice/img04.png']\n",
    "print(relativeimagenames)\n",
    "print(\"Assumes filenames in the DLC annotation are same as the Icy tracker, after alphabetizing\")\n",
    "\n",
    "output_path = '.'"
   ]
  },
  {
   "cell_type": "code",
   "execution_count": 19,
   "metadata": {},
   "outputs": [],
   "source": [
    "\n",
    "def add_detection_to_df(this_detections, \n",
    "                        relativeimagenames, save_z_coordinate,\n",
    "                        scorer, bodypart, coord_names):\n",
    "    # Get xyz or xy coordinates for one neuron, for all files\n",
    "    coords = np.empty((len(relativeimagenames),len(coord_names),))\n",
    "    for i2 in range(len(relativeimagenames)):\n",
    "        try:\n",
    "            this_track = this_detections[i2]\n",
    "        except:\n",
    "            print(\"Track not long enough; skipping: \", bodypart)\n",
    "            return\n",
    "        if save_z_coordinate:\n",
    "            coords[i2,:] = np.array([int(float(this_track.get('x'))), \n",
    "                                     int(float(this_track.get('y'))), \n",
    "                                     int(float(this_track.get('z'))) ])\n",
    "        else:\n",
    "            coords[i2,:] = np.array([int(float(this_track.get('x'))), \n",
    "                                     int(float(this_track.get('y')))])\n",
    "                \n",
    "    # Then, append to the dataframe (write at the end)\n",
    "    index = pd.MultiIndex.from_product([[scorer], [bodypart],\n",
    "                                        coord_names],\n",
    "                                        names=['scorer', 'bodyparts', 'coords'])\n",
    "\n",
    "    frame = pd.DataFrame(coords, columns = index, index = relativeimagenames)\n",
    "\n",
    "    return frame\n"
   ]
  },
  {
   "cell_type": "code",
   "execution_count": 20,
   "metadata": {},
   "outputs": [
    {
     "name": "stdout",
     "output_type": "stream",
     "text": [
      "Finished; wrote 7 neurons\n"
     ]
    }
   ],
   "source": [
    "\n",
    "dataFrame = None\n",
    "i_neuron_name = 0\n",
    "# Build correctly DLC-formatted dataframe\n",
    "for i_trackgroup in range(num_trackgroups):\n",
    "    \n",
    "    i_xml = i_trackgroup + 1 # The first entry in the xml file is the 'trackfile' class\n",
    "    for this_detection in et2[i_xml]:\n",
    "        bodypart = 'neuron{}'.format(i_neuron_name)\n",
    "        frame = add_detection_to_df(this_detection, \n",
    "                                    relativeimagenames, save_z_coordinate,\n",
    "                                    scorer, bodypart, coord_names)\n",
    "        if frame is not None:\n",
    "            dataFrame = pd.concat([dataFrame, frame],axis=1)\n",
    "            i_neuron_name = i_neuron_name + 1\n",
    "\n",
    "# Last: save\n",
    "dataFrame.to_csv(os.path.join(output_path,\"CollectedData_\" + scorer + \".csv\"))\n",
    "dataFrame.to_hdf(os.path.join(output_path,\"CollectedData_\" + scorer + '.h5'),'df_with_missing',format='table', mode='w')\n",
    "\n",
    "    \n",
    "print(\"Finished; wrote {} neurons\".format(i_neuron_name))"
   ]
  },
  {
   "cell_type": "markdown",
   "metadata": {},
   "source": [
    "# Scratch"
   ]
  },
  {
   "cell_type": "code",
   "execution_count": null,
   "metadata": {},
   "outputs": [],
   "source": []
  },
  {
   "cell_type": "code",
   "execution_count": 8,
   "metadata": {},
   "outputs": [
    {
     "name": "stdout",
     "output_type": "stream",
     "text": [
      "<class 'lxml.etree._Element'>\n",
      "5\n"
     ]
    },
    {
     "data": {
      "text/plain": [
       "'297.6748300071666'"
      ]
     },
     "execution_count": 8,
     "metadata": {},
     "output_type": "execute_result"
    }
   ],
   "source": [
    "i = 2\n",
    "print(type(et2[i][0]))\n",
    "print(len(et2[i][0]))\n",
    "et2[i][0][1].get('x')\n",
    "et2[i][0][0].get('x')"
   ]
  },
  {
   "cell_type": "code",
   "execution_count": 8,
   "metadata": {},
   "outputs": [
    {
     "name": "stdout",
     "output_type": "stream",
     "text": [
      "track\n",
      "{'id': '-744387789'}\n"
     ]
    }
   ],
   "source": [
    "xml_pretty_print(et2[2], 1)"
   ]
  },
  {
   "cell_type": "code",
   "execution_count": 9,
   "metadata": {},
   "outputs": [
    {
     "data": {
      "text/plain": [
       "0"
      ]
     },
     "execution_count": 9,
     "metadata": {},
     "output_type": "execute_result"
    }
   ],
   "source": [
    "len(et2[1])"
   ]
  },
  {
   "cell_type": "code",
   "execution_count": 3,
   "metadata": {},
   "outputs": [
    {
     "data": {
      "text/plain": [
       "'Charlie'"
      ]
     },
     "execution_count": 3,
     "metadata": {},
     "output_type": "execute_result"
    }
   ],
   "source": []
  }
 ],
 "metadata": {
  "kernelspec": {
   "display_name": "Python [conda env:DLC-dev]",
   "language": "python",
   "name": "conda-env-DLC-dev-py"
  },
  "language_info": {
   "codemirror_mode": {
    "name": "ipython",
    "version": 3
   },
   "file_extension": ".py",
   "mimetype": "text/x-python",
   "name": "python",
   "nbconvert_exporter": "python",
   "pygments_lexer": "ipython3",
   "version": "3.7.7"
  }
 },
 "nbformat": 4,
 "nbformat_minor": 4
}
