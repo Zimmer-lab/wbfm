{
 "cells": [
  {
   "cell_type": "markdown",
   "metadata": {},
   "source": [
    "# Preprocessing: Cropping"
   ]
  },
  {
   "cell_type": "code",
   "execution_count": 7,
   "metadata": {},
   "outputs": [],
   "source": [
    "import numpy as np\n",
    "import matplotlib.pyplot as plt\n",
    "import os\n",
    "import tifffile as tiff\n",
    "from tifffile import imsave\n",
    "from tifffile import TiffWriter\n",
    "from PIL import Image\n",
    "import natsort\n",
    "from ipywidgets import interact, interactive, fixed, interact_manual\n"
   ]
  },
  {
   "cell_type": "markdown",
   "metadata": {},
   "source": [
    "### First, read an example image file"
   ]
  },
  {
   "cell_type": "code",
   "execution_count": 8,
   "metadata": {},
   "outputs": [],
   "source": [
    "# Find the data\n",
    "\n",
    "data_folder = '/users/charles.fieseler/shared_projects/ForCharlie/27082020_freelyimmobilized_trial2/'\n",
    "data_file = 'ZIM2051_trial_21_w2dual2-GFP-mCherry-SD-DV--488Ex--561Ex_t9.stk'\n",
    "# data_file = 'ZIM2051_trial_11_w2dual2-GFP-mCherry-SD-DV--488Ex--561Ex_t9.stk'\n",
    "\n",
    "full_fname = os.path.join(data_folder, data_file)\n"
   ]
  },
  {
   "cell_type": "code",
   "execution_count": 9,
   "metadata": {},
   "outputs": [],
   "source": [
    "# Actually read the data in\n",
    "im = tiff.imread(full_fname)"
   ]
  },
  {
   "cell_type": "code",
   "execution_count": 20,
   "metadata": {},
   "outputs": [
    {
     "data": {
      "application/vnd.jupyter.widget-view+json": {
       "model_id": "da2942e09ba348208119b298a136053b",
       "version_major": 2,
       "version_minor": 0
      },
      "text/plain": [
       "interactive(children=(IntSlider(value=16, description='i', max=33), Output()), _dom_classes=('widget-interact'…"
      ]
     },
     "metadata": {},
     "output_type": "display_data"
    },
    {
     "data": {
      "text/plain": [
       "<function __main__.myplt(i)>"
      ]
     },
     "execution_count": 20,
     "metadata": {},
     "output_type": "execute_result"
    }
   ],
   "source": [
    "def myplt(i):\n",
    "    plt.figure(figsize=[15,15])\n",
    "    plt.imshow(im[i,...])\n",
    "    plt.title(f\"Slice {i}\")\n",
    "    plt.colorbar()\n",
    "interact(myplt, i=(0, 33))"
   ]
  },
  {
   "cell_type": "markdown",
   "metadata": {},
   "source": [
    "### Determine the crop via a GUI\n",
    "\n",
    "Uses this package:\n",
    "https://openbits.app/posts/python-interactive-cropping/\n",
    "\n",
    "pip install interactivecrop"
   ]
  },
  {
   "cell_type": "code",
   "execution_count": null,
   "metadata": {},
   "outputs": [],
   "source": []
  }
 ],
 "metadata": {
  "kernelspec": {
   "display_name": "Python [conda env:.conda-DLC-preprocessing]",
   "language": "python",
   "name": "conda-env-.conda-DLC-preprocessing-py"
  },
  "language_info": {
   "codemirror_mode": {
    "name": "ipython",
    "version": 3
   },
   "file_extension": ".py",
   "mimetype": "text/x-python",
   "name": "python",
   "nbconvert_exporter": "python",
   "pygments_lexer": "ipython3",
   "version": "3.7.7"
  }
 },
 "nbformat": 4,
 "nbformat_minor": 4
}
