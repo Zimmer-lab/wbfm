{
 "cells": [
  {
   "cell_type": "markdown",
   "metadata": {},
   "source": [
    "# Converts STK to video in the same way Ulises did"
   ]
  },
  {
   "cell_type": "code",
   "execution_count": 1,
   "metadata": {},
   "outputs": [
    {
     "ename": "ImportError",
     "evalue": "No module named matplotlib.pyplot",
     "output_type": "error",
     "traceback": [
      "\u001b[0;31m\u001b[0m",
      "\u001b[0;31mImportError\u001b[0mTraceback (most recent call last)",
      "\u001b[0;32m<ipython-input-1-6480c6cd80f1>\u001b[0m in \u001b[0;36m<module>\u001b[0;34m()\u001b[0m\n\u001b[1;32m      1\u001b[0m \u001b[0;32mimport\u001b[0m \u001b[0mnumpy\u001b[0m \u001b[0;32mas\u001b[0m \u001b[0mnp\u001b[0m\u001b[0;34m\u001b[0m\u001b[0m\n\u001b[0;32m----> 2\u001b[0;31m \u001b[0;32mimport\u001b[0m \u001b[0mmatplotlib\u001b[0m\u001b[0;34m.\u001b[0m\u001b[0mpyplot\u001b[0m \u001b[0;32mas\u001b[0m \u001b[0mplt\u001b[0m\u001b[0;34m\u001b[0m\u001b[0m\n\u001b[0m\u001b[1;32m      3\u001b[0m \u001b[0;32mfrom\u001b[0m \u001b[0mmatplotlib\u001b[0m\u001b[0;34m.\u001b[0m\u001b[0mpyplot\u001b[0m \u001b[0;32mimport\u001b[0m \u001b[0mfigure\u001b[0m\u001b[0;34m\u001b[0m\u001b[0m\n\u001b[1;32m      4\u001b[0m \u001b[0;32mimport\u001b[0m \u001b[0mos\u001b[0m\u001b[0;34m\u001b[0m\u001b[0m\n\u001b[1;32m      5\u001b[0m \u001b[0;32mimport\u001b[0m \u001b[0mtifffile\u001b[0m \u001b[0;32mas\u001b[0m \u001b[0mtiff\u001b[0m\u001b[0;34m\u001b[0m\u001b[0m\n",
      "\u001b[0;31mImportError\u001b[0m: No module named matplotlib.pyplot"
     ]
    }
   ],
   "source": [
    "import numpy as np\n",
    "import matplotlib.pyplot as plt\n",
    "from matplotlib.pyplot import figure\n",
    "import os\n",
    "import tifffile as tiff\n",
    "from tifffile import imsave\n",
    "from tifffile import TiffWriter\n",
    "from PIL import Image\n",
    "import natsort\n",
    "import argparse\n",
    "from IPython.display import clear_output\n",
    "import time"
   ]
  },
  {
   "cell_type": "markdown",
   "metadata": {},
   "source": [
    "# Construct the argument parser and parse the arguments"
   ]
  },
  {
   "cell_type": "code",
   "execution_count": null,
   "metadata": {},
   "outputs": [],
   "source": [
    "# ap = argparse.ArgumentParser()\n",
    "# ap.add_argument(\"-i\", \"--i_path\", required=True, help=\"path to input images\")\n",
    "# ap.add_argument(\"-o\", \"--o_path\", required=True, help=\"path to the output image\")\n",
    "# ap.add_argument(\"-n\", \"--name\", required=True, help=\"name of the output file\")\n",
    "# ap.add_argument(\"-c\", \"--compression\", help=\"Compression, set to 0 for none\", default=0)\n",
    "# args = vars(ap.parse_args())\n",
    "\n",
    "\n",
    "##selects some frames to do the max projection (only works on axis=0)\n",
    "fri=15\n",
    "frf=18\n",
    "\n",
    "data_folder=('../../groups/zimmer/Ulises/wbfm/chemotaxis_assay/20191114_cal01/control/worm1/rec1/data/mCherry/')\n",
    "output_folder=('./max_projections/')\n",
    "\n",
    "i_directory=os.path.join(data_folder, 'stk/')\n",
    "o_directory=os.path.join(path, 'mCherry_z-{}{}_MAX_time-{}/'.format(fri,frf, int(time.time())))\n",
    "os.makedirs(o_directory)\n",
    "filename=os.listdir(i_directory)[0]\n",
    "print('Reading all files in directory {}'.format(filename))\n",
    "IM=tiff.imread(os.path.join(i_directory,filename))\n",
    "#fold increase for better visuTiffWriteron of the very 'short' z axis. Set to 1 for no increase.\n",
    "#set it to have the same pixel size as XY (0.3um vs 1um zstep size)\n",
    "fold_increase=3\n",
    "\n",
    "\n",
    "#creates an empty matrix for the lower right part of the image. It should have the dimensions of Z-stacks times the fold increase. (now 150)\n",
    "corner_matrix=np.full((fold_increase*IM.shape[0],fold_increase*IM.shape[0]),100, dtype='uint16')"
   ]
  },
  {
   "cell_type": "code",
   "execution_count": null,
   "metadata": {},
   "outputs": [],
   "source": [
    "# Finally, actually import\n",
    "\n",
    "with TiffWriter((o_directory + filename +'.tif'), bigtiff=True) as tif_w:\n",
    "    for filename in natsort.natsorted(os.listdir(i_directory)):\n",
    "        print('Reading file {}'.format(filename))\n",
    "        if filename.endswith(\".stk\"):\n",
    "            IM = tiff.imread(os.path.join(i_directory, filename))\n",
    "            # creates max projections in all axes\n",
    "            IM_MAX_0 = np.max(IM[fri:frf], axis=0)\n",
    "\n",
    "            final_image = IM_MAX_0\n",
    "\n",
    "            # convert to 16bit\n",
    "            #final_image16bit = np.int16(final_image)\n",
    "\n",
    "            # data = numpy.random.randint(0, 255, (5, 2, 3, 301, 219), 'uint8')\n",
    "            tif_w.save(final_image, compress=0, photometric='minisblack')\n",
    "            clear_output()\n",
    "print('end')"
   ]
  }
 ],
 "metadata": {
  "kernelspec": {
   "display_name": "Python [conda env:.conda-DLC-preprocessing]",
   "language": "python",
   "name": "conda-env-.conda-DLC-preprocessing-py"
  },
  "language_info": {
   "codemirror_mode": {
    "name": "ipython",
    "version": 3
   },
   "file_extension": ".py",
   "mimetype": "text/x-python",
   "name": "python",
   "nbconvert_exporter": "python",
   "pygments_lexer": "ipython3",
   "version": "3.7.7"
  }
 },
 "nbformat": 4,
 "nbformat_minor": 4
}
