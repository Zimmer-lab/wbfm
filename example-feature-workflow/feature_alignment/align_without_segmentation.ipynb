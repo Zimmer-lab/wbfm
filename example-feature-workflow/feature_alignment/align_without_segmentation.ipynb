{
 "cells": [
  {
   "cell_type": "markdown",
   "metadata": {},
   "source": [
    "# First, import data"
   ]
  },
  {
   "cell_type": "code",
   "execution_count": 39,
   "metadata": {},
   "outputs": [
    {
     "name": "stdout",
     "output_type": "stream",
     "text": [
      "The autoreload extension is already loaded. To reload it, use:\n",
      "  %reload_ext autoreload\n"
     ]
    }
   ],
   "source": [
    "import os\n",
    "import numpy as np\n",
    "import tifffile\n",
    "import matplotlib.pyplot as plt\n",
    "%load_ext autoreload\n",
    "%autoreload 2\n",
    "\n",
    "from DLC_for_WBFM.utils.feature_detection.utils_features import *\n",
    "from DLC_for_WBFM.utils.feature_detection.utils_tracklets import *\n",
    "from DLC_for_WBFM.utils.feature_detection.utils_detection import *\n",
    "from DLC_for_WBFM.utils.feature_detection.visualization_tracks import *"
   ]
  },
  {
   "cell_type": "code",
   "execution_count": 5,
   "metadata": {},
   "outputs": [],
   "source": [
    "dat_foldername = r'..\\point_cloud_alignment'\n",
    "\n",
    "\n",
    "vol0 = os.path.join(dat_foldername, 'img100.tif')\n",
    "with tifffile.TiffFile(vol0) as tif:\n",
    "    dat0 = tif.asarray()\n",
    "\n",
    "vol1 = os.path.join(dat_foldername, 'img101.tif')\n",
    "with tifffile.TiffFile(vol1) as tif:\n",
    "    dat1 = tif.asarray()"
   ]
  },
  {
   "cell_type": "code",
   "execution_count": 37,
   "metadata": {
    "scrolled": true
   },
   "outputs": [
    {
     "name": "stdout",
     "output_type": "stream",
     "text": [
      "Building pairwise correspondence...\n",
      "[Open3D WARNING] [KDTreeFlann::SetRawData] Failed due to no data.\n",
      "Building clusters...\n",
      "Finished ID'ing neurons\n",
      "Building pairwise correspondence...\n",
      "[Open3D WARNING] [KDTreeFlann::SetRawData] Failed due to no data.\n",
      "[Open3D WARNING] [KDTreeFlann::SetRawData] Failed due to no data.\n",
      "[Open3D WARNING] [KDTreeFlann::SetRawData] Failed due to no data.\n",
      "[Open3D WARNING] [KDTreeFlann::SetRawData] Failed due to no data.\n",
      "[Open3D WARNING] [KDTreeFlann::SetRawData] Failed due to no data.\n",
      "Building clusters...\n",
      "Finished ID'ing neurons\n"
     ]
    }
   ],
   "source": [
    "# Detect neurons for each\n",
    "num_slices = 33\n",
    "neurons0, df0, icp0, pcs0 = detect_neurons_using_ICP(dat0, num_slices, alpha=0.15, verbose=1)\n",
    "neurons1, df1, icp1, pcs1 = detect_neurons_using_ICP(dat1, num_slices, alpha=0.15, verbose=1)"
   ]
  },
  {
   "cell_type": "code",
   "execution_count": 28,
   "metadata": {},
   "outputs": [],
   "source": [
    "#neurons0 = get_centroids_from_df(df0, 3)\n",
    "#neurons1 = get_centroids_from_df(df1, 3)"
   ]
  },
  {
   "cell_type": "code",
   "execution_count": 34,
   "metadata": {},
   "outputs": [],
   "source": [
    "all_features0, all_features1, kp0, kp1 = build_features_on_all_planes('img100.tif','img101.tif',\n",
    "                                                                      verbose=1, \n",
    "                                                                      detect_keypoints=True,\n",
    "                                                                      kp0=neurons0,\n",
    "                                                                      kp1=neurons1)"
   ]
  },
  {
   "cell_type": "code",
   "execution_count": 65,
   "metadata": {
    "scrolled": true
   },
   "outputs": [
    {
     "name": "stdout",
     "output_type": "stream",
     "text": [
      "Could not match neuron 0\n",
      "Matched neuron 1 based on 44 features\n",
      "Matched neuron 2 based on 33 features\n",
      "Matched neuron 3 based on 18 features\n",
      "Matched neuron 4 based on 35 features\n",
      "Matched neuron 5 based on 30 features\n",
      "Matched neuron 6 based on 39 features\n",
      "Matched neuron 7 based on 33 features\n",
      "Matched neuron 8 based on 36 features\n",
      "Matched neuron 9 based on 50 features\n",
      "Matched neuron 10 based on 15 features\n",
      "Matched neuron 11 based on 26 features\n",
      "Matched neuron 12 based on 19 features\n",
      "Matched neuron 13 based on 27 features\n",
      "Matched neuron 14 based on 6 features\n",
      "Matched neuron 15 based on 29 features\n",
      "Matched neuron 16 based on 50 features\n",
      "Matched neuron 17 based on 12 features\n",
      "Matched neuron 18 based on 39 features\n",
      "Matched neuron 19 based on 47 features\n",
      "Matched neuron 20 based on 29 features\n",
      "Matched neuron 21 based on 45 features\n",
      "Matched neuron 22 based on 44 features\n",
      "Could not match neuron 23\n",
      "Could not match neuron 24\n",
      "Matched neuron 25 based on 21 features\n",
      "Matched neuron 26 based on 16 features\n",
      "Matched neuron 27 based on 50 features\n",
      "Matched neuron 28 based on 20 features\n",
      "Matched neuron 29 based on 36 features\n",
      "Matched neuron 30 based on 12 features\n",
      "Matched neuron 31 based on 43 features\n",
      "Matched neuron 32 based on 11 features\n",
      "Could not match neuron 33\n",
      "Matched neuron 34 based on 9 features\n",
      "Matched neuron 35 based on 26 features\n",
      "Matched neuron 36 based on 50 features\n",
      "Matched neuron 37 based on 30 features\n",
      "Matched neuron 38 based on 50 features\n",
      "Matched neuron 39 based on 10 features\n",
      "Matched neuron 40 based on 50 features\n",
      "Could not match neuron 41\n",
      "Matched neuron 42 based on 47 features\n",
      "Matched neuron 43 based on 24 features\n",
      "Matched neuron 44 based on 48 features\n",
      "Matched neuron 45 based on 35 features\n",
      "Matched neuron 46 based on 10 features\n",
      "Matched neuron 47 based on 39 features\n",
      "Matched neuron 48 based on 40 features\n",
      "Matched neuron 49 based on 31 features\n",
      "Matched neuron 50 based on 27 features\n",
      "Matched neuron 51 based on 10 features\n",
      "Matched neuron 52 based on 31 features\n",
      "Matched neuron 53 based on 38 features\n",
      "Matched neuron 54 based on 18 features\n",
      "Matched neuron 55 based on 50 features\n",
      "Matched neuron 56 based on 11 features\n",
      "Matched neuron 57 based on 50 features\n",
      "Matched neuron 58 based on 41 features\n",
      "Matched neuron 59 based on 36 features\n",
      "Matched neuron 60 based on 18 features\n",
      "Matched neuron 61 based on 43 features\n",
      "Matched neuron 62 based on 50 features\n",
      "Matched neuron 63 based on 5 features\n",
      "Matched neuron 64 based on 50 features\n",
      "Could not match neuron 65\n",
      "Matched neuron 66 based on 17 features\n",
      "Matched neuron 67 based on 27 features\n",
      "Matched neuron 68 based on 50 features\n",
      "Matched neuron 69 based on 50 features\n",
      "Matched neuron 70 based on 33 features\n",
      "Matched neuron 71 based on 50 features\n",
      "Matched neuron 72 based on 33 features\n",
      "Matched neuron 73 based on 41 features\n",
      "Matched neuron 74 based on 13 features\n",
      "Matched neuron 75 based on 8 features\n",
      "Matched neuron 76 based on 15 features\n",
      "Matched neuron 77 based on 17 features\n",
      "Matched neuron 78 based on 35 features\n",
      "Matched neuron 79 based on 10 features\n",
      "Matched neuron 80 based on 35 features\n",
      "Matched neuron 81 based on 32 features\n",
      "Matched neuron 82 based on 50 features\n",
      "Matched neuron 83 based on 36 features\n",
      "Could not match neuron 84\n",
      "Matched neuron 85 based on 6 features\n",
      "Matched neuron 86 based on 9 features\n",
      "Matched neuron 87 based on 24 features\n",
      "Matched neuron 88 based on 50 features\n",
      "Matched neuron 89 based on 50 features\n",
      "Matched neuron 90 based on 50 features\n",
      "Matched neuron 91 based on 50 features\n",
      "Matched neuron 92 based on 35 features\n",
      "Matched neuron 93 based on 42 features\n",
      "Matched neuron 94 based on 24 features\n",
      "Matched neuron 95 based on 50 features\n",
      "Could not match neuron 96\n",
      "Matched neuron 97 based on 9 features\n",
      "Matched neuron 98 based on 43 features\n",
      "Matched neuron 99 based on 43 features\n",
      "Could not match neuron 100\n",
      "Could not match neuron 101\n",
      "Matched neuron 102 based on 50 features\n",
      "Could not match neuron 103\n",
      "Matched neuron 104 based on 28 features\n",
      "Matched neuron 105 based on 50 features\n",
      "Matched neuron 106 based on 50 features\n",
      "Matched neuron 107 based on 31 features\n",
      "Matched neuron 108 based on 32 features\n",
      "Matched neuron 109 based on 12 features\n",
      "Could not match neuron 110\n",
      "Matched neuron 111 based on 7 features\n",
      "Could not match neuron 112\n",
      "Matched neuron 113 based on 45 features\n",
      "Matched neuron 114 based on 13 features\n",
      "Matched neuron 115 based on 5 features\n",
      "Matched neuron 116 based on 12 features\n",
      "Matched neuron 117 based on 9 features\n",
      "Matched neuron 118 based on 8 features\n",
      "Matched neuron 119 based on 14 features\n",
      "Could not match neuron 120\n",
      "Matched neuron 121 based on 33 features\n",
      "Could not match neuron 122\n",
      "Could not match neuron 123\n",
      "Matched neuron 124 based on 50 features\n",
      "Matched neuron 125 based on 6 features\n",
      "Matched neuron 126 based on 47 features\n",
      "Matched neuron 127 based on 12 features\n",
      "Could not match neuron 128\n",
      "Matched neuron 129 based on 16 features\n",
      "Matched neuron 130 based on 33 features\n",
      "Matched neuron 131 based on 6 features\n",
      "Matched neuron 132 based on 34 features\n",
      "Matched neuron 133 based on 7 features\n",
      "Matched neuron 134 based on 35 features\n",
      "Could not match neuron 135\n",
      "Could not match neuron 136\n",
      "Matched neuron 137 based on 14 features\n",
      "Matched neuron 138 based on 36 features\n",
      "Matched neuron 139 based on 14 features\n",
      "Matched neuron 140 based on 16 features\n",
      "Could not match neuron 141\n",
      "Could not match neuron 142\n",
      "Could not match neuron 143\n",
      "Matched neuron 144 based on 28 features\n",
      "Matched neuron 145 based on 5 features\n",
      "Could not match neuron 146\n"
     ]
    }
   ],
   "source": [
    "all_matches, f2n = match_centroids_using_tree(np.array(neurons0), \n",
    "                               np.array(neurons1), \n",
    "                               all_features0, \n",
    "                               all_features1,\n",
    "                               radius=8,\n",
    "                               max_nn=50,\n",
    "                               min_features_needed=5,\n",
    "                                   verbose=1,\n",
    "                                     to_mirror=False)"
   ]
  },
  {
   "cell_type": "code",
   "execution_count": 66,
   "metadata": {},
   "outputs": [],
   "source": [
    "visualize_tracks(neurons0, neurons1, all_matches, to_plot_failed_lines=False)"
   ]
  },
  {
   "cell_type": "markdown",
   "metadata": {},
   "source": [
    "# Visualization of indermediate results"
   ]
  },
  {
   "cell_type": "code",
   "execution_count": 43,
   "metadata": {},
   "outputs": [],
   "source": [
    "full_pc0 = build_full_pc_from_list(pcs0)\n",
    "full_pc1 = build_full_pc_from_list(pcs1)"
   ]
  },
  {
   "cell_type": "code",
   "execution_count": 44,
   "metadata": {},
   "outputs": [],
   "source": [
    "visualize_clusters_from_dataframe(full_pc0, df0)"
   ]
  },
  {
   "cell_type": "code",
   "execution_count": 45,
   "metadata": {},
   "outputs": [],
   "source": [
    "visualize_clusters_from_dataframe(full_pc1, df1)"
   ]
  },
  {
   "cell_type": "code",
   "execution_count": null,
   "metadata": {},
   "outputs": [],
   "source": []
  }
 ],
 "metadata": {
  "kernelspec": {
   "display_name": "Python [conda env:track_using_features] *",
   "language": "python",
   "name": "conda-env-track_using_features-py"
  },
  "language_info": {
   "codemirror_mode": {
    "name": "ipython",
    "version": 3
   },
   "file_extension": ".py",
   "mimetype": "text/x-python",
   "name": "python",
   "nbconvert_exporter": "python",
   "pygments_lexer": "ipython3",
   "version": "3.7.9"
  }
 },
 "nbformat": 4,
 "nbformat_minor": 4
}
