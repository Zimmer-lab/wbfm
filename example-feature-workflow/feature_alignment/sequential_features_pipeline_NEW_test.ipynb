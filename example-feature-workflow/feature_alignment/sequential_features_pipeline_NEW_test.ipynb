{
 "cells": [
  {
   "cell_type": "code",
   "execution_count": 1,
   "id": "administrative-evidence",
   "metadata": {},
   "outputs": [],
   "source": [
    "import os\n",
    "import numpy as np\n",
    "import tifffile\n",
    "import matplotlib.pyplot as plt\n",
    "%load_ext autoreload\n",
    "%autoreload 2\n",
    "\n",
    "from DLC_for_WBFM.utils.feature_detection.feature_pipeline import *\n",
    "from DLC_for_WBFM.utils.feature_detection.utils_tracklets import *\n",
    "from DLC_for_WBFM.utils.feature_detection.utils_detection import *\n",
    "from DLC_for_WBFM.utils.feature_detection.visualization_tracks import *\n",
    "from DLC_for_WBFM.utils.video_and_data_conversion.import_video_as_array import *\n",
    "import networkx as nx\n",
    "from DLC_for_WBFM.utils.feature_detection.utils_reference_frames import *\n"
   ]
  },
  {
   "cell_type": "code",
   "execution_count": 2,
   "id": "talented-father",
   "metadata": {},
   "outputs": [],
   "source": [
    "# Get the 3d bigtiff folder\n",
    "bigtiff_folder = r'D:\\More-stabilized-wbfm'\n",
    "\n",
    "btf_fname_red = r'test2020-10-22_16-15-20_test4-channel-0-pco_camera1\\test2020-10-22_16-15-20_test4-channel-0-pco_camera1bigtiff.btf'\n",
    "btf_fname_red = os.path.join(bigtiff_folder, btf_fname_red)\n"
   ]
  },
  {
   "cell_type": "code",
   "execution_count": 206,
   "id": "smaller-wound",
   "metadata": {},
   "outputs": [
    {
     "name": "stderr",
     "output_type": "stream",
     "text": [
      "  4%|██▉                                                                             | 18/500 [09:14<3:46:37, 28.21s/it]"
     ]
    },
    {
     "name": "stdout",
     "output_type": "stream",
     "text": [
      "[Open3D WARNING] [KDTreeFlann::SetRawData] Failed due to no data.\n"
     ]
    },
    {
     "name": "stderr",
     "output_type": "stream",
     "text": [
      " 97%|████████████████████████████████████████████████████████████████████████████▉  | 487/500 [3:32:45<04:46, 22.06s/it]"
     ]
    },
    {
     "name": "stdout",
     "output_type": "stream",
     "text": [
      "[Open3D WARNING] [KDTreeFlann::SetRawData] Failed due to no data.\n"
     ]
    },
    {
     "name": "stderr",
     "output_type": "stream",
     "text": [
      "\r",
      " 98%|█████████████████████████████████████████████████████████████████████████████  | 488/500 [3:33:07<04:23, 21.95s/it]"
     ]
    },
    {
     "name": "stdout",
     "output_type": "stream",
     "text": [
      "[Open3D WARNING] [KDTreeFlann::SetRawData] Failed due to no data.\n"
     ]
    },
    {
     "name": "stderr",
     "output_type": "stream",
     "text": [
      "\r",
      " 98%|█████████████████████████████████████████████████████████████████████████████▎ | 489/500 [3:33:29<04:01, 21.92s/it]"
     ]
    },
    {
     "name": "stdout",
     "output_type": "stream",
     "text": [
      "[Open3D WARNING] [KDTreeFlann::SetRawData] Failed due to no data.\n"
     ]
    },
    {
     "name": "stderr",
     "output_type": "stream",
     "text": [
      "100%|███████████████████████████████████████████████████████████████████████████████| 500/500 [3:37:30<00:00, 26.10s/it]\n"
     ]
    }
   ],
   "source": [
    "# Same opt for both\n",
    "opt = {'start_frame':0,\n",
    "       'num_frames':500,\n",
    "       'verbose':0,\n",
    "       'num_subsequent_matches':3,\n",
    "       'save_candidate_matches':True,\n",
    "       'add_affine_to_candidates':True}\n",
    "\n",
    "p = PreprocessingSettings()\n",
    "p.do_filtering=False\n",
    "p.do_rigid_alignment=True\n",
    "p.do_mini_max_projection=True\n",
    "out = track_neurons_full_video_window(btf_fname_red, **opt, preprocessing_settings=p)\n",
    "all_matches, all_conf, all_frames, candidates = out"
   ]
  },
  {
   "cell_type": "code",
   "execution_count": null,
   "id": "answering-cylinder",
   "metadata": {},
   "outputs": [],
   "source": []
  },
  {
   "cell_type": "markdown",
   "id": "fewer-finnish",
   "metadata": {},
   "source": [
    "## Postprocess "
   ]
  },
  {
   "cell_type": "code",
   "execution_count": 204,
   "id": "ambient-institution",
   "metadata": {},
   "outputs": [],
   "source": [
    "bp_match_dict = {}\n",
    "min_edge_weight = 0.5\n",
    "for key in all_matches:\n",
    "    these_candidates = [c for c in candidates[key] if c[-1]>min_edge_weight]\n",
    "    bp_matches = calc_bipartite_matches(these_candidates)\n",
    "    bp_match_dict[key] = bp_matches\n",
    "DG_bp = build_digraph_from_matches(bp_match_dict, verbose=0)"
   ]
  },
  {
   "cell_type": "code",
   "execution_count": 205,
   "id": "quarterly-popularity",
   "metadata": {},
   "outputs": [
    {
     "name": "stdout",
     "output_type": "stream",
     "text": [
      "Largest connected component size:  9\n",
      "Sizes and number of components:\n",
      "[2, 21]\n",
      "[3, 18]\n",
      "[4, 45]\n",
      "[5, 65]\n",
      "[6, 5]\n",
      "[7, 2]\n",
      "[8, 1]\n",
      "[9, 2]\n"
     ]
    },
    {
     "data": {
      "image/png": "[encoded data removed]",
      "text/plain": [
       "<Figure size 432x288 with 1 Axes>"
      ]
     },
     "metadata": {
      "needs_background": "light"
     },
     "output_type": "display_data"
    }
   ],
   "source": [
    "%matplotlib inline\n",
    "thresh = 0.0\n",
    "\n",
    "G = get_subgraph_with_strong_weights(DG_bp, thresh)\n",
    "big_G, all_sz, all_neurons = calc_connected_components(G, False)\n",
    "plt.hist([z for z in all_sz if z > 1], bins=list(range(1,max(all_sz)+2)));\n",
    "plt.title('All component sizes; bipartite matching')\n",
    "\n",
    "[vals, counts] = np.unique(all_sz, return_counts=True)\n",
    "print(\"Sizes and number of components:\")\n",
    "for v, c in zip(vals, counts):\n",
    "      print([v, c])"
   ]
  },
  {
   "cell_type": "code",
   "execution_count": 161,
   "id": "another-barcelona",
   "metadata": {},
   "outputs": [],
   "source": [
    "# nx.draw(DG_bp)"
   ]
  },
  {
   "cell_type": "code",
   "execution_count": 200,
   "id": "defensive-cosmetic",
   "metadata": {},
   "outputs": [],
   "source": [
    "tmp = nx.DiGraph()\n",
    "# tmp.add_weighted_edges_from(candidates[(0,1)])\n",
    "key = (0,1)\n",
    "for e in candidates[key]:\n",
    "    if tmp.has_edge(e[0],e[1]):\n",
    "        tmp[e[0]][e[1]]['weight'] += e[2]\n",
    "    else:\n",
    "        tmp.add_weighted_edges_from([e])"
   ]
  },
  {
   "cell_type": "markdown",
   "id": "national-agency",
   "metadata": {},
   "source": [
    "### Just do a smaller network (fewer neurons)\n"
   ]
  },
  {
   "cell_type": "code",
   "execution_count": 130,
   "id": "allied-trunk",
   "metadata": {},
   "outputs": [
    {
     "name": "stdout",
     "output_type": "stream",
     "text": [
      "Only including:\n",
      "[(0, 1), (0, 2), (1, 2)]\n"
     ]
    }
   ],
   "source": [
    "# test_keys = list(all_matches.keys())[:6]\n",
    "# test_keys = list(all_matches.keys())[:10]\n",
    "test_keys = [(0,1),(0,2),(1,2)]\n",
    "print(\"Only including:\")\n",
    "print(test_keys)\n",
    "\n",
    "bp_match_dict_small = {}\n",
    "for key in test_keys:\n",
    "    bp_matches = calc_bipartite_matches(candidates[key])\n",
    "    bp_match_dict_small[key] = bp_matches\n",
    "DG_bp_small = build_digraph_from_matches(bp_match_dict_small, verbose=0)"
   ]
  },
  {
   "cell_type": "code",
   "execution_count": 131,
   "id": "fuzzy-mentor",
   "metadata": {},
   "outputs": [
    {
     "name": "stdout",
     "output_type": "stream",
     "text": [
      "Largest connected component size:  19\n",
      "Sizes and number of components:\n",
      "[2, 5]\n",
      "[3, 104]\n",
      "[4, 3]\n",
      "[5, 5]\n",
      "[6, 1]\n",
      "[7, 3]\n",
      "[8, 2]\n",
      "[11, 1]\n",
      "[14, 1]\n",
      "[17, 1]\n",
      "[19, 1]\n"
     ]
    },
    {
     "data": {
      "image/png": "[encoded data removed]",
      "text/plain": [
       "<Figure size 432x288 with 1 Axes>"
      ]
     },
     "metadata": {
      "needs_background": "light"
     },
     "output_type": "display_data"
    }
   ],
   "source": [
    "%matplotlib inline\n",
    "thresh = 0.0\n",
    "\n",
    "G = get_subgraph_with_strong_weights(DG_bp_small, thresh)\n",
    "big_G, all_sz, all_neurons = calc_connected_components(G, False)\n",
    "plt.hist([z for z in all_sz if z > 1], bins=list(range(1,max(all_sz)+2)));\n",
    "plt.title('All component sizes; bipartite matching')\n",
    "\n",
    "[vals, counts] = np.unique(all_sz, return_counts=True)\n",
    "print(\"Sizes and number of components:\")\n",
    "for v, c in zip(vals, counts):\n",
    "      print([v, c])"
   ]
  },
  {
   "cell_type": "code",
   "execution_count": 193,
   "id": "happy-promotion",
   "metadata": {},
   "outputs": [
    {
     "data": {
      "text/plain": [
       "[]"
      ]
     },
     "execution_count": 193,
     "metadata": {},
     "output_type": "execute_result"
    }
   ],
   "source": [
    "k = (0,2)\n",
    "to_match = 2\n",
    "f = lambda i : print(f\"{to_match} matched with {i}\")\n",
    "\n",
    "[i for i,m in enumerate(bp_match_dict_small[k]) if m[0]==to_match]"
   ]
  },
  {
   "cell_type": "markdown",
   "id": "assumed-pocket",
   "metadata": {},
   "source": [
    "## Draw matches with three planes"
   ]
  },
  {
   "cell_type": "code",
   "execution_count": 194,
   "id": "revised-violation",
   "metadata": {},
   "outputs": [],
   "source": [
    "lines01 = plot_matched_point_clouds(all_frames,\n",
    "                                            bp_match_dict,\n",
    "                                            (0,1), \n",
    "                                            color=[1,0,0],\n",
    "                                            actually_draw=False)\n",
    "lines02 = plot_matched_point_clouds(all_frames,\n",
    "                                            bp_match_dict,\n",
    "                                            (0,2), \n",
    "                                            color=[0,1,0],\n",
    "                                            actually_draw=False)\n",
    "lines12 = plot_matched_point_clouds(all_frames,\n",
    "                                            bp_match_dict,\n",
    "                                            (1,2), \n",
    "                                            color=[0,0,1],\n",
    "                                            actually_draw=False)"
   ]
  },
  {
   "cell_type": "code",
   "execution_count": 196,
   "id": "fiscal-endorsement",
   "metadata": {},
   "outputs": [],
   "source": [
    "to_draw = list(lines01)\n",
    "to_draw.extend(lines02)\n",
    "to_draw.extend(lines12)\n",
    "o3d.visualization.draw_geometries(to_draw)"
   ]
  },
  {
   "cell_type": "code",
   "execution_count": 49,
   "id": "alternative-skiing",
   "metadata": {},
   "outputs": [
    {
     "data": {
      "text/plain": [
       "4"
      ]
     },
     "execution_count": 49,
     "metadata": {},
     "output_type": "execute_result"
    }
   ],
   "source": [
    "all_frames[7].frame_ind"
   ]
  },
  {
   "cell_type": "markdown",
   "id": "lesser-spectacular",
   "metadata": {},
   "source": [
    "# Attempts to cluster (failed so far)"
   ]
  },
  {
   "attachments": {},
   "cell_type": "markdown",
   "id": "coastal-relation",
   "metadata": {},
   "source": [
    "## Try to cluster these: k_edge_components\n",
    "\n",
    "Generates nodes in subgraphs that must be k-edge-connected"
   ]
  },
  {
   "cell_type": "code",
   "execution_count": 132,
   "id": "composite-melissa",
   "metadata": {},
   "outputs": [],
   "source": [
    "c = nx.algorithms.connectivity.edge_kcomponents.k_edge_components(DG_bp_small, k=2)\n",
    "communities = list(c)"
   ]
  },
  {
   "cell_type": "code",
   "execution_count": null,
   "id": "rental-cancellation",
   "metadata": {},
   "outputs": [],
   "source": []
  },
  {
   "cell_type": "code",
   "execution_count": null,
   "id": "substantial-payment",
   "metadata": {},
   "outputs": [],
   "source": []
  },
  {
   "cell_type": "code",
   "execution_count": null,
   "id": "remarkable-understanding",
   "metadata": {},
   "outputs": [],
   "source": []
  },
  {
   "cell_type": "markdown",
   "id": "constitutional-atmosphere",
   "metadata": {},
   "source": [
    "## Try to cluster these: label_propagation\n",
    "\n",
    "Neighbor based. This does not remove any edges or nodes, but is similar to a KNN vote"
   ]
  },
  {
   "cell_type": "code",
   "execution_count": 121,
   "id": "violent-chocolate",
   "metadata": {},
   "outputs": [],
   "source": [
    "c = nx.algorithms.community.label_propagation.asyn_lpa_communities(DG_bp)\n",
    "communities = list(c)"
   ]
  },
  {
   "cell_type": "code",
   "execution_count": 122,
   "id": "divided-manchester",
   "metadata": {},
   "outputs": [
    {
     "data": {
      "text/plain": [
       "(array([567.,  94.,  41.,  17.,  34.,  24.,  10.,  13.,   5.,   3.]),\n",
       " array([ 1. ,  2.7,  4.4,  6.1,  7.8,  9.5, 11.2, 12.9, 14.6, 16.3, 18. ]),\n",
       " <BarContainer object of 10 artists>)"
      ]
     },
     "execution_count": 122,
     "metadata": {},
     "output_type": "execute_result"
    },
    {
     "data": {
      "image/png": "[encoded data removed]",
      "text/plain": [
       "<Figure size 432x288 with 1 Axes>"
      ]
     },
     "metadata": {
      "needs_background": "light"
     },
     "output_type": "display_data"
    }
   ],
   "source": [
    "all_len = [len(c) for c in communities]\n",
    "plt.hist(all_len)"
   ]
  },
  {
   "cell_type": "markdown",
   "id": "noted-brunei",
   "metadata": {},
   "source": [
    "## Try to cluster these: greedy_modularity_communities\n",
    "\n",
    "Modularity degree based. This does not remove any edges or nodes, but is similar to a KNN vote"
   ]
  },
  {
   "cell_type": "code",
   "execution_count": 107,
   "id": "complimentary-chicken",
   "metadata": {},
   "outputs": [
    {
     "ename": "IndexError",
     "evalue": "list index out of range",
     "output_type": "error",
     "traceback": [
      "\u001b[1;31m---------------------------------------------------------------------------\u001b[0m",
      "\u001b[1;31mIndexError\u001b[0m                                Traceback (most recent call last)",
      "\u001b[1;32m<ipython-input-107-c08dc25831ca>\u001b[0m in \u001b[0;36m<module>\u001b[1;34m\u001b[0m\n\u001b[1;32m----> 1\u001b[1;33m \u001b[0mc\u001b[0m \u001b[1;33m=\u001b[0m \u001b[0mnx\u001b[0m\u001b[1;33m.\u001b[0m\u001b[0malgorithms\u001b[0m\u001b[1;33m.\u001b[0m\u001b[0mcommunity\u001b[0m\u001b[1;33m.\u001b[0m\u001b[0mgreedy_modularity_communities\u001b[0m\u001b[1;33m(\u001b[0m\u001b[0mDG_bp\u001b[0m\u001b[1;33m)\u001b[0m\u001b[1;33m\u001b[0m\u001b[1;33m\u001b[0m\u001b[0m\n\u001b[0m",
      "\u001b[1;32m~\\Anaconda3\\envs\\track_using_features\\lib\\site-packages\\networkx\\algorithms\\community\\modularity_max.py\u001b[0m in \u001b[0;36mgreedy_modularity_communities\u001b[1;34m(G, weight)\u001b[0m\n\u001b[0;32m    108\u001b[0m         \u001b[1;31m# If this element was also at the root of row j, we need to remove the\u001b[0m\u001b[1;33m\u001b[0m\u001b[1;33m\u001b[0m\u001b[1;33m\u001b[0m\u001b[0m\n\u001b[0;32m    109\u001b[0m         \u001b[1;31m# duplicate entry from H\u001b[0m\u001b[1;33m\u001b[0m\u001b[1;33m\u001b[0m\u001b[1;33m\u001b[0m\u001b[0m\n\u001b[1;32m--> 110\u001b[1;33m         \u001b[1;32mif\u001b[0m \u001b[0mdq_heap\u001b[0m\u001b[1;33m[\u001b[0m\u001b[0mj\u001b[0m\u001b[1;33m]\u001b[0m\u001b[1;33m.\u001b[0m\u001b[0mh\u001b[0m\u001b[1;33m[\u001b[0m\u001b[1;36m0\u001b[0m\u001b[1;33m]\u001b[0m \u001b[1;33m==\u001b[0m \u001b[1;33m(\u001b[0m\u001b[1;33m-\u001b[0m\u001b[0mdq\u001b[0m\u001b[1;33m,\u001b[0m \u001b[0mj\u001b[0m\u001b[1;33m,\u001b[0m \u001b[0mi\u001b[0m\u001b[1;33m)\u001b[0m\u001b[1;33m:\u001b[0m\u001b[1;33m\u001b[0m\u001b[1;33m\u001b[0m\u001b[0m\n\u001b[0m\u001b[0;32m    111\u001b[0m             \u001b[0mH\u001b[0m\u001b[1;33m.\u001b[0m\u001b[0mremove\u001b[0m\u001b[1;33m(\u001b[0m\u001b[1;33m(\u001b[0m\u001b[1;33m-\u001b[0m\u001b[0mdq\u001b[0m\u001b[1;33m,\u001b[0m \u001b[0mj\u001b[0m\u001b[1;33m,\u001b[0m \u001b[0mi\u001b[0m\u001b[1;33m)\u001b[0m\u001b[1;33m)\u001b[0m\u001b[1;33m\u001b[0m\u001b[1;33m\u001b[0m\u001b[0m\n\u001b[0;32m    112\u001b[0m             \u001b[1;31m# Remove best merge from row j heap\u001b[0m\u001b[1;33m\u001b[0m\u001b[1;33m\u001b[0m\u001b[1;33m\u001b[0m\u001b[0m\n",
      "\u001b[1;31mIndexError\u001b[0m: list index out of range"
     ]
    }
   ],
   "source": [
    "c = nx.algorithms.community.greedy_modularity_communities(DG_bp)"
   ]
  },
  {
   "cell_type": "markdown",
   "id": "rising-madagascar",
   "metadata": {},
   "source": [
    "## Try to cluster these: k-core\n",
    "\n",
    "Naive degree based. This removes edges if they have few connections"
   ]
  },
  {
   "cell_type": "code",
   "execution_count": 102,
   "id": "sporting-bumper",
   "metadata": {},
   "outputs": [],
   "source": [
    "DG_bp_kcore = nx.algorithms.core.k_core(DG_bp, k=4)\n"
   ]
  },
  {
   "cell_type": "code",
   "execution_count": 103,
   "id": "missing-honduras",
   "metadata": {},
   "outputs": [
    {
     "data": {
      "text/plain": [
       "1276"
      ]
     },
     "execution_count": 103,
     "metadata": {},
     "output_type": "execute_result"
    }
   ],
   "source": [
    "len(DG_bp_kcore.nodes())"
   ]
  },
  {
   "cell_type": "code",
   "execution_count": 104,
   "id": "permanent-testing",
   "metadata": {},
   "outputs": [
    {
     "name": "stdout",
     "output_type": "stream",
     "text": [
      "Largest connected component size:  1276\n",
      "Sizes and number of components:\n",
      "[1276, 1]\n"
     ]
    },
    {
     "data": {
      "image/png": "[encoded data removed]",
      "text/plain": [
       "<Figure size 432x288 with 1 Axes>"
      ]
     },
     "metadata": {
      "needs_background": "light"
     },
     "output_type": "display_data"
    }
   ],
   "source": [
    "%matplotlib inline\n",
    "\n",
    "G = DG_bp_kcore\n",
    "\n",
    "big_G, all_sz, all_neurons = calc_connected_components(G, False)\n",
    "plt.hist([z for z in all_sz if z > 1], bins=list(range(1,max(all_sz)+2)));\n",
    "plt.title('All component sizes; bipartite matching')\n",
    "\n",
    "[vals, counts] = np.unique(all_sz, return_counts=True)\n",
    "print(\"Sizes and number of components:\")\n",
    "for v, c in zip(vals, counts):\n",
    "      print([v, c])"
   ]
  },
  {
   "cell_type": "markdown",
   "id": "separated-concept",
   "metadata": {},
   "source": [
    "## Try to cluster these: girvan_newman\n",
    "\n",
    "Betweenness-centrality based. This removes edges if they are bottlenecks, which most of the incorrectly labeled neurons should be"
   ]
  },
  {
   "cell_type": "code",
   "execution_count": 133,
   "id": "decimal-spare",
   "metadata": {},
   "outputs": [
    {
     "name": "stdout",
     "output_type": "stream",
     "text": [
      "([67, 1103, 2134], [56, 1075, 2056], [114, 1112, 2133], [109, 1121, 1139, 2135, 2148], [137, 1148, 2166], [40, 1065, 2052], [16, 125, 127, 1012, 1118, 1169, 2001, 2004, 2118], [128, 1111, 2123], [90, 1108, 2081], [14, 1022, 2011], [105, 116, 145, 1135, 1155, 1159, 1164, 2107, 2126, 2159, 2173], [123, 1132, 2137], [79, 1087, 2069], [117, 1160, 2164], [18, 1034, 2032], [124, 1141, 2163], [99, 1149, 2172], [112, 136, 1154, 1171, 2108, 2138], [75, 1080, 2076], [12, 1014, 2025], [82, 1082, 2073], [126, 1144, 2155], [39, 1060, 2061], [3, 48, 80, 89, 142, 1058, 1098, 1105, 1158, 2046, 2082, 2088, 2121, 2153], [61, 1042, 2054], [122, 1162, 2157], [70, 93, 1072, 1078, 2063, 2071, 2093], [115, 1114, 2136], [46, 1047, 2051], [98, 1094, 2130], [28, 1052, 2044], [32, 1036, 2040], [106, 1097, 2085, 2116], [141, 1150, 2178], [68, 1091, 2079], [102, 1131, 2129], [107, 1130, 2122], [110, 1101, 2152], [119, 1123, 2117], [129, 1138, 2154], [58, 1049, 2042], [5, 1019, 1167, 2008, 2015], [60, 1051, 2043], [6, 1020, 1165, 2005, 2023], [92, 1088, 1147, 2101, 2128], [135, 1129, 2139], [45, 1032, 2027], [41, 1073, 2066], [132, 1136, 2168], [9, 10, 33, 53, 81, 1021, 1039, 1041, 1096, 1137, 1163, 2003, 2010, 2034, 2080, 2091, 2094], [29, 1050, 2045], [42, 1030, 2024], [25, 64, 1017, 1033, 1056, 2007, 2028], [11, 1024, 2002], [26, 1031, 2029], [100, 1119, 2124], [120, 1066, 2119, 2158], [74, 1081, 2084], [138, 1156, 2174], [49, 1063, 2064], [91, 1107, 2144], [147, 1153, 2175], [19, 1015, 2016], [13, 1023, 2013], [108, 1116, 2150], [63, 1070, 2050], [95, 1104, 2143], [85, 1083, 2087], [47, 1037, 2033], [78, 1095, 2083], [96, 111, 1106, 1117, 1126, 2132, 2140, 2141], [73, 1085, 2059], [139, 1146, 2165], [94, 1100, 2106], [69, 1077, 2062], [23, 30, 31, 1025, 1026, 1109, 2014, 2017, 2019, 2147], [133, 1125, 2161], [44, 83, 1089, 1092, 1110, 2070, 2075, 2077], [144, 1161, 2176], [87, 1084, 2090, 2111], [65, 1043, 2031], [4, 1013, 2000], [71, 1048, 2036], [101, 1127, 2096], [77, 1071, 2060], [121, 1133, 2142], [143, 1134, 2170], [8, 1018, 2006], [43, 1046, 2037], [134, 1140, 2162], [130, 1145, 2169], [7, 15, 1016, 1122, 2012, 2109, 2151], [37, 1086, 2072], [21, 1053, 2041], [17, 1045, 2022], [97, 1035, 1170, 2021, 2115], [20, 1079, 2078], [54, 1062, 2058], [113, 1124, 2146], [86, 1143, 2149], [76, 1027, 2020], [27, 1038, 2030], [88, 1093, 2086], [59, 1067, 2057], [22, 1029, 2009], [66, 1028, 2018], [35, 1057, 2039], [57, 1054, 2035], [72, 1090, 2074], [146, 1152, 2177], [103, 1120, 2097], [24, 1059, 2048], [131, 1157, 2167], [50, 1068, 2049], [118, 1128, 2160], [104, 1142, 2156], [52, 1055, 2038], [34, 1040, 2026], [36, 1069, 2055], [140, 1151, 2171], [84, 1099, 2047], [55, 1076, 2067], [51, 1061, 2053], [1102, 2131], [1113, 2105], [1115, 2120], [1074, 2068], [1064, 2089])\n",
      "([67, 1103, 2134], [56, 1075, 2056], [114, 1112, 2133], [109, 1121, 1139, 2135, 2148], [137, 1148, 2166], [40, 1065, 2052], [16, 125, 127, 1012, 1118, 1169, 2001, 2004, 2118], [128, 1111, 2123], [90, 1108, 2081], [14, 1022, 2011], [105, 116, 145, 1135, 1155, 1159, 1164, 2107, 2126, 2159, 2173], [123, 1132, 2137], [79, 1087, 2069], [117, 1160, 2164], [18, 1034, 2032], [124, 1141, 2163], [99, 1149, 2172], [112, 136, 1154, 1171, 2108, 2138], [75, 1080, 2076], [12, 1014, 2025], [82, 1082, 2073], [126, 1144, 2155], [39, 1060, 2061], [3, 48, 80, 89, 142, 1058, 1098, 1105, 1158, 2046, 2082, 2088, 2121, 2153], [61, 1042, 2054], [122, 1162, 2157], [70, 93, 1072, 1078, 2063, 2071, 2093], [115, 1114, 2136], [46, 1047, 2051], [98, 1094, 2130], [28, 1052, 2044], [32, 1036, 2040], [106, 1097, 2085, 2116], [141, 1150, 2178], [68, 1091, 2079], [102, 1131, 2129], [107, 1130, 2122], [110, 1101, 2152], [119, 1123, 2117], [129, 1138, 2154], [58, 1049, 2042], [5, 1019, 1167, 2008, 2015], [60, 1051, 2043], [6, 1020, 1165, 2005, 2023], [92, 1088, 1147, 2101, 2128], [135, 1129, 2139], [45, 1032, 2027], [41, 1073, 2066], [132, 1136, 2168], [9, 10, 53, 1021, 1137, 1163, 2003, 2010, 2080], [29, 1050, 2045], [42, 1030, 2024], [25, 64, 1017, 1033, 1056, 2007, 2028], [11, 1024, 2002], [26, 1031, 2029], [100, 1119, 2124], [120, 1066, 2119, 2158], [74, 1081, 2084], [138, 1156, 2174], [49, 1063, 2064], [91, 1107, 2144], [147, 1153, 2175], [19, 1015, 2016], [13, 1023, 2013], [108, 1116, 2150], [63, 1070, 2050], [95, 1104, 2143], [85, 1083, 2087], [47, 1037, 2033], [78, 1095, 2083], [96, 111, 1106, 1117, 1126, 2132, 2140, 2141], [73, 1085, 2059], [139, 1146, 2165], [94, 1100, 2106], [69, 1077, 2062], [23, 30, 31, 1025, 1026, 1109, 2014, 2017, 2019, 2147], [133, 1125, 2161], [44, 83, 1089, 1092, 1110, 2070, 2075, 2077], [144, 1161, 2176], [87, 1084, 2090, 2111], [65, 1043, 2031], [4, 1013, 2000], [71, 1048, 2036], [101, 1127, 2096], [77, 1071, 2060], [121, 1133, 2142], [143, 1134, 2170], [8, 1018, 2006], [43, 1046, 2037], [134, 1140, 2162], [130, 1145, 2169], [33, 81, 1039, 1041, 1096, 2034, 2091, 2094], [7, 15, 1016, 1122, 2012, 2109, 2151], [37, 1086, 2072], [21, 1053, 2041], [17, 1045, 2022], [97, 1035, 1170, 2021, 2115], [20, 1079, 2078], [54, 1062, 2058], [113, 1124, 2146], [86, 1143, 2149], [76, 1027, 2020], [27, 1038, 2030], [88, 1093, 2086], [59, 1067, 2057], [22, 1029, 2009], [66, 1028, 2018], [35, 1057, 2039], [57, 1054, 2035], [72, 1090, 2074], [146, 1152, 2177], [103, 1120, 2097], [24, 1059, 2048], [131, 1157, 2167], [50, 1068, 2049], [118, 1128, 2160], [104, 1142, 2156], [52, 1055, 2038], [34, 1040, 2026], [36, 1069, 2055], [140, 1151, 2171], [84, 1099, 2047], [55, 1076, 2067], [51, 1061, 2053], [1102, 2131], [1113, 2105], [1115, 2120], [1074, 2068], [1064, 2089])\n"
     ]
    }
   ],
   "source": [
    "# import itertools\n",
    "k = 2\n",
    "\n",
    "all_communities = []\n",
    "comp = nx.algorithms.community.girvan_newman(DG_bp_small)\n",
    "for communities in itertools.islice(comp, k):\n",
    "    print(tuple(sorted(c) for c in communities))  "
   ]
  },
  {
   "cell_type": "code",
   "execution_count": null,
   "id": "strange-reservoir",
   "metadata": {},
   "outputs": [],
   "source": [
    "%matplotlib inline\n",
    "thresh = 0.0\n",
    "\n",
    "G = get_subgraph_with_strong_weights(DG_bp, thresh)\n",
    "big_G, all_sz, all_neurons = calc_connected_components(G, False)\n",
    "plt.hist([z for z in all_sz if z > 1], bins=list(range(1,max(all_sz)+2)));\n",
    "plt.title('All component sizes; bipartite matching')\n",
    "\n",
    "[vals, counts] = np.unique(all_sz, return_counts=True)\n",
    "print(\"Sizes and number of components:\")\n",
    "for v, c in zip(vals, counts):\n",
    "      print([v, c])"
   ]
  },
  {
   "cell_type": "markdown",
   "id": "literary-davis",
   "metadata": {},
   "source": [
    "## Try to cluster these: node2vec"
   ]
  },
  {
   "cell_type": "code",
   "execution_count": 77,
   "id": "brave-exhibit",
   "metadata": {},
   "outputs": [
    {
     "data": {
      "application/vnd.jupyter.widget-view+json": {
       "model_id": "fef3a9ed6149497780b7909522504c71",
       "version_major": 2,
       "version_minor": 0
      },
      "text/plain": [
       "Computing transition probabilities:   0%|          | 0/2312 [00:00<?, ?it/s]"
      ]
     },
     "metadata": {},
     "output_type": "display_data"
    }
   ],
   "source": [
    "# Cluster based on graph embedding:\n",
    "# https://stackoverflow.com/questions/62902871/how-can-i-cluster-a-graph-g-created-in-networkx\n",
    "\n",
    "from node2vec import Node2Vec\n",
    "# Generate walks\n",
    "node2vec = Node2Vec(DG_bp, dimensions=2, walk_length=3, num_walks=10,workers=4)\n",
    "# Learn embeddings \n",
    "model = node2vec.fit(window=10, min_count=1)\n",
    "#model.wv.most_similar('1')\n",
    "model.wv.save_word2vec_format(\"embedding.emb\") #save the embedding in file embedding.emb"
   ]
  },
  {
   "cell_type": "code",
   "execution_count": 80,
   "id": "existing-ministry",
   "metadata": {},
   "outputs": [
    {
     "name": "stdout",
     "output_type": "stream",
     "text": [
      "[136  22  19 ... 111  96  45]\n"
     ]
    }
   ],
   "source": [
    "from sklearn.cluster import KMeans\n",
    "\n",
    "# X = model.wv\n",
    "X = np.loadtxt(\"embedding.emb\", skiprows=1) # load the embedding of the nodes of the graph\n",
    "#print(X)\n",
    "# sort the embedding based on node index in the first column in X\n",
    "X=X[X[:,0].argsort()]; \n",
    "Z=X[0:X.shape[0],1:X.shape[1]]; # remove the node index from X and save in Z\n",
    "\n",
    "kmeans = KMeans(n_clusters=150, random_state=0).fit(Z) # apply kmeans on Z\n",
    "labels=kmeans.labels_  # get the cluster labels of the nodes.\n",
    "print(labels)"
   ]
  },
  {
   "cell_type": "code",
   "execution_count": 81,
   "id": "instrumental-suggestion",
   "metadata": {},
   "outputs": [
    {
     "data": {
      "text/plain": [
       "(array([  0,   1,   2,   3,   4,   5,   6,   7,   8,   9,  10,  11,  12,\n",
       "         13,  14,  15,  16,  17,  18,  19,  20,  21,  22,  23,  24,  25,\n",
       "         26,  27,  28,  29,  30,  31,  32,  33,  34,  35,  36,  37,  38,\n",
       "         39,  40,  41,  42,  43,  44,  45,  46,  47,  48,  49,  50,  51,\n",
       "         52,  53,  54,  55,  56,  57,  58,  59,  60,  61,  62,  63,  64,\n",
       "         65,  66,  67,  68,  69,  70,  71,  72,  73,  74,  75,  76,  77,\n",
       "         78,  79,  80,  81,  82,  83,  84,  85,  86,  87,  88,  89,  90,\n",
       "         91,  92,  93,  94,  95,  96,  97,  98,  99, 100, 101, 102, 103,\n",
       "        104, 105, 106, 107, 108, 109, 110, 111, 112, 113, 114, 115, 116,\n",
       "        117, 118, 119, 120, 121, 122, 123, 124, 125, 126, 127, 128, 129,\n",
       "        130, 131, 132, 133, 134, 135, 136, 137, 138, 139, 140, 141, 142,\n",
       "        143, 144, 145, 146, 147, 148, 149]),\n",
       " array([15, 26, 17, 15, 25, 16, 18, 22, 30, 13, 18,  9, 10, 19, 11, 17, 21,\n",
       "        17, 27, 17, 18, 18, 24, 13, 15, 27,  8, 18,  7, 12, 16,  6, 10, 21,\n",
       "         4, 20,  9,  8,  6, 31, 22, 23, 15,  4,  7, 11, 22, 21, 20, 18,  6,\n",
       "        14, 23,  2, 19,  2, 30, 24, 12, 18, 23, 22, 18, 22, 10, 20,  6, 27,\n",
       "        18, 25, 21, 12, 19,  1, 17, 17, 26, 29, 18, 12,  2,  9, 24, 20,  4,\n",
       "        21, 14, 25,  1,  3, 17, 15,  9, 13, 10, 19, 22, 27, 15, 22, 17,  2,\n",
       "         6, 24, 10, 17, 16, 17, 16, 20,  9, 15, 17,  9, 16, 10, 19, 15, 14,\n",
       "        17, 16, 16,  3, 14, 17, 21, 18, 10,  1,  6,  1, 17, 14, 22, 16, 24,\n",
       "        17, 14, 18, 11, 15, 14, 12, 12,  6,  3, 23, 10, 19, 14],\n",
       "       dtype=int64))"
      ]
     },
     "execution_count": 81,
     "metadata": {},
     "output_type": "execute_result"
    }
   ],
   "source": [
    "np.unique(labels, return_counts=True)"
   ]
  },
  {
   "cell_type": "code",
   "execution_count": null,
   "id": "novel-camel",
   "metadata": {},
   "outputs": [],
   "source": []
  }
 ],
 "metadata": {
  "kernelspec": {
   "display_name": "Python [conda env:track_using_features] *",
   "language": "python",
   "name": "conda-env-track_using_features-py"
  },
  "language_info": {
   "codemirror_mode": {
    "name": "ipython",
    "version": 3
   },
   "file_extension": ".py",
   "mimetype": "text/x-python",
   "name": "python",
   "nbconvert_exporter": "python",
   "pygments_lexer": "ipython3",
   "version": "3.7.9"
  }
 },
 "nbformat": 4,
 "nbformat_minor": 5
}
