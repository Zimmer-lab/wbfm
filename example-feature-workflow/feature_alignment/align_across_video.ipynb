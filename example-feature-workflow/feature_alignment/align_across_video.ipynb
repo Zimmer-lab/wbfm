{
 "cells": [
  {
   "cell_type": "code",
   "execution_count": 1,
   "metadata": {},
   "outputs": [],
   "source": [
    "import os\n",
    "import numpy as np\n",
    "import tifffile\n",
    "import matplotlib.pyplot as plt\n",
    "%load_ext autoreload\n",
    "%autoreload 2\n",
    "\n",
    "from DLC_for_WBFM.utils.feature_detection.utils_features import *\n",
    "from DLC_for_WBFM.utils.feature_detection.utils_tracklets import *\n",
    "from DLC_for_WBFM.utils.feature_detection.utils_detection import *\n",
    "from DLC_for_WBFM.utils.feature_detection.visualization_tracks import *\n",
    "from DLC_for_WBFM.utils.video_and_data_conversion.import_video_as_array import *"
   ]
  },
  {
   "cell_type": "code",
   "execution_count": 2,
   "metadata": {},
   "outputs": [],
   "source": [
    "# Get the 3d bigtiff folder\n",
    "bigtiff_folder = r'D:\\More-stabilized-wbfm'\n",
    "\n",
    "# Will get traces from two videos:\n",
    "btf_fname_red = r'test2020-10-22_16-15-20_test4-channel-0-pco_camera1\\test2020-10-22_16-15-20_test4-channel-0-pco_camera1bigtiff.btf'\n",
    "btf_fname_red = os.path.join(bigtiff_folder, btf_fname_red)\n",
    "#btf_fname_green = r'test2020-10-22_16-15-20_test4-channel-1-pco_camera2\\test2020-10-22_16-15-20_test4-channel-1-pco_camera2bigtiff.btf'\n",
    "#btf_fname_green = os.path.join(bigtiff_folder, btf_fname_green)"
   ]
  },
  {
   "cell_type": "code",
   "execution_count": 16,
   "metadata": {},
   "outputs": [],
   "source": [
    "vol0 = get_single_volume(btf_fname_red, 0, num_slices=33, alpha=0.15)"
   ]
  },
  {
   "cell_type": "code",
   "execution_count": 17,
   "metadata": {},
   "outputs": [],
   "source": [
    "alpha = 0.15\n",
    "dat_foldername = r'..\\point_cloud_alignment'\n",
    "fname = os.path.join(dat_foldername, 'img100.tif')\n",
    "f = lambda tif : (alpha*tif.asarray()).astype('uint8')\n",
    "with tifffile.TiffFile(fname) as tif0:\n",
    "    vol0_old = f(tif0)"
   ]
  },
  {
   "cell_type": "markdown",
   "metadata": {},
   "source": [
    "## Use single function to track"
   ]
  },
  {
   "cell_type": "code",
   "execution_count": 20,
   "metadata": {},
   "outputs": [],
   "source": [
    "from DLC_for_WBFM.utils.feature_detection.feature_pipeline import *\n"
   ]
  },
  {
   "cell_type": "code",
   "execution_count": 51,
   "metadata": {
    "scrolled": true
   },
   "outputs": [
    {
     "name": "stdout",
     "output_type": "stream",
     "text": [
      "===========================================================\n",
      "Matching frames 0 and 1 (end at 3)\n",
      "===========================================================\n",
      "Matching frames 1 and 2 (end at 3)\n",
      "Finished 3 frames in 30.148225784301758 seconds\n"
     ]
    }
   ],
   "source": [
    "all_matches, all_conf, all_neurons = track_neurons_full_video(btf_fname_red,\n",
    "                             start_frame=0,\n",
    "                             num_frames=3,\n",
    "                             num_slices=33,\n",
    "                             alpha=0.15,\n",
    "                             verbose=2)"
   ]
  },
  {
   "cell_type": "code",
   "execution_count": 40,
   "metadata": {},
   "outputs": [
    {
     "name": "stdout",
     "output_type": "stream",
     "text": [
      "==============================================================\n",
      "0 / 2\n"
     ]
    },
    {
     "ename": "IndexError",
     "evalue": "too many indices for array: array is 1-dimensional, but 2 were indexed",
     "output_type": "error",
     "traceback": [
      "\u001b[1;31m---------------------------------------------------------------------------\u001b[0m",
      "\u001b[1;31mIndexError\u001b[0m                                Traceback (most recent call last)",
      "\u001b[1;32m<ipython-input-40-d09c23ed39a7>\u001b[0m in \u001b[0;36m<module>\u001b[1;34m\u001b[0m\n\u001b[1;32m----> 1\u001b[1;33m \u001b[0mclust_df\u001b[0m \u001b[1;33m=\u001b[0m \u001b[0mbuild_tracklets_from_matches\u001b[0m\u001b[1;33m(\u001b[0m\u001b[0mall_neurons\u001b[0m\u001b[1;33m,\u001b[0m \u001b[0mall_matches\u001b[0m\u001b[1;33m,\u001b[0m \u001b[0mverbose\u001b[0m\u001b[1;33m=\u001b[0m\u001b[1;36m2\u001b[0m\u001b[1;33m)\u001b[0m\u001b[1;33m\u001b[0m\u001b[1;33m\u001b[0m\u001b[0m\n\u001b[0m",
      "\u001b[1;32mc:\\users\\charles.fieseler\\documents\\current_work\\dlc_for_wbfm\\DLC_for_WBFM\\utils\\feature_detection\\utils_tracklets.py\u001b[0m in \u001b[0;36mbuild_tracklets_from_matches\u001b[1;34m(all_neurons, all_matches, verbose)\u001b[0m\n\u001b[0;32m     93\u001b[0m         \u001b[1;32mfor\u001b[0m \u001b[0mi0\u001b[0m\u001b[1;33m,\u001b[0m \u001b[0mi1\u001b[0m \u001b[1;32min\u001b[0m \u001b[0mpairs\u001b[0m\u001b[1;33m:\u001b[0m\u001b[1;33m\u001b[0m\u001b[1;33m\u001b[0m\u001b[0m\n\u001b[0;32m     94\u001b[0m             next_point = {'i1':i1,\n\u001b[1;32m---> 95\u001b[1;33m                           \u001b[1;34m'i1_xyz'\u001b[0m\u001b[1;33m:\u001b[0m\u001b[0mnext_xyz\u001b[0m\u001b[1;33m[\u001b[0m\u001b[0mi1\u001b[0m\u001b[1;33m,\u001b[0m\u001b[1;33m:\u001b[0m\u001b[1;33m]\u001b[0m\u001b[1;33m,\u001b[0m\u001b[1;33m\u001b[0m\u001b[1;33m\u001b[0m\u001b[0m\n\u001b[0m\u001b[0;32m     96\u001b[0m                           'i1_global':next_point_cloud_offset+i1}\n\u001b[0;32m     97\u001b[0m             current_point = {'i0':i0,\n",
      "\u001b[1;31mIndexError\u001b[0m: too many indices for array: array is 1-dimensional, but 2 were indexed"
     ]
    }
   ],
   "source": [
    "clust_df = build_tracklets_from_matches(all_neurons, all_matches, verbose=2)"
   ]
  },
  {
   "cell_type": "code",
   "execution_count": 43,
   "metadata": {
    "scrolled": true
   },
   "outputs": [],
   "source": [
    "n = all_neurons[0]"
   ]
  },
  {
   "cell_type": "code",
   "execution_count": 46,
   "metadata": {},
   "outputs": [],
   "source": [
    "n2 = np.array([r for r in n])"
   ]
  },
  {
   "cell_type": "code",
   "execution_count": 47,
   "metadata": {},
   "outputs": [
    {
     "data": {
      "text/plain": [
       "array([[  6.        , 405.47446289, 269.86676636],\n",
       "       [  7.5       , 425.46964264, 240.61898994],\n",
       "       [  7.5       , 417.27278137, 247.66906166],\n",
       "       [  7.        , 401.239951  , 227.98054722],\n",
       "       [  6.5       , 372.39982096, 301.49717712],\n",
       "       [  7.5       , 419.25033569, 277.7630806 ],\n",
       "       [  7.5       , 409.27627055, 241.19137319],\n",
       "       [  8.        , 367.72521537, 319.98017229],\n",
       "       [ 10.5       , 373.39053955, 344.57333069],\n",
       "       [  7.5       , 416.37030792, 228.77507401],\n",
       "       [  9.5       , 400.12728119, 215.41918564],\n",
       "       [  9.5       , 460.54410553, 198.54844666],\n",
       "       [  9.5       , 480.78538513, 213.92084503],\n",
       "       [ 12.5       , 434.4360466 , 250.36151123],\n",
       "       [ 12.        , 375.8926566 , 236.89836121],\n",
       "       [ 12.5       , 417.9247818 , 265.31040192],\n",
       "       [ 13.        , 494.81366403, 202.02605329],\n",
       "       [ 13.        , 430.84035645, 215.67511902],\n",
       "       [ 13.5       , 372.49023946, 372.02395121],\n",
       "       [ 13.        , 480.56080933, 195.41922607],\n",
       "       [ 13.5       , 370.43289693, 396.48699443],\n",
       "       [ 13.5       , 398.39809163, 255.3380483 ],\n",
       "       [ 13.5       , 488.46958415, 212.95826721],\n",
       "       [ 13.5       , 370.24680074, 410.80003357],\n",
       "       [ 14.        , 491.15599365, 187.25907898],\n",
       "       [ 14.        , 445.5645813 , 199.93668518],\n",
       "       [ 14.        , 398.37938843, 208.92042236],\n",
       "       [ 14.        , 393.06725464, 212.68764343],\n",
       "       [ 13.5       , 442.74085236, 236.84763718],\n",
       "       [ 14.        , 374.73501587, 421.9939209 ],\n",
       "       [ 14.        , 376.7788269 , 354.55048218],\n",
       "       [ 14.        , 425.91842041, 255.94070129],\n",
       "       [ 14.        , 381.5659668 , 438.21201172],\n",
       "       [ 23.        , 409.67389193, 280.29118763],\n",
       "       [ 20.5       , 489.72431437, 567.71109009],\n",
       "       [ 21.        , 468.50197056, 174.1918335 ],\n",
       "       [ 19.5       , 624.37202454, 183.35143661],\n",
       "       [ 21.        , 508.64119611, 585.1870466 ],\n",
       "       [ 23.        , 409.99768621, 198.76252885],\n",
       "       [ 19.5       , 418.29186249, 490.63999939],\n",
       "       [ 19.5       , 474.32499695, 235.49889374],\n",
       "       [ 20.5       , 392.71281942, 323.40093486],\n",
       "       [ 21.        , 487.1292899 , 226.87263707],\n",
       "       [ 20.5       , 485.82987976, 175.1738561 ],\n",
       "       [ 20.5       , 384.26209005, 333.54362996],\n",
       "       [ 21.        , 500.70809937, 576.63424247],\n",
       "       [ 23.5       , 510.07109578, 164.92051697],\n",
       "       [ 19.5       , 445.2122345 , 525.71794128],\n",
       "       [ 23.5       , 428.67805227, 249.79784775],\n",
       "       [ 19.5       , 379.34055328, 347.44097137],\n",
       "       [ 19.5       , 378.6995697 , 231.99070358],\n",
       "       [ 20.        , 554.04036865, 625.01536865],\n",
       "       [ 20.        , 409.42052612, 477.76812134],\n",
       "       [ 20.        , 455.19162598, 247.52920227],\n",
       "       [ 23.        , 427.11057906, 192.10835682],\n",
       "       [ 21.5       , 367.22755432, 320.1738739 ],\n",
       "       [ 20.        , 375.27722778, 382.88103027],\n",
       "       [ 20.5       , 438.60836792, 181.77972921],\n",
       "       [ 20.5       , 379.25508626, 407.17807515],\n",
       "       [ 20.        , 519.80345459, 598.09273682],\n",
       "       [ 19.5       , 381.44802856, 422.87552643],\n",
       "       [ 22.        , 562.58627755, 166.5367715 ],\n",
       "       [ 24.        , 493.3434254 , 170.7013314 ],\n",
       "       [ 24.5       , 407.30157979, 185.06958644],\n",
       "       [ 24.        , 411.98147306, 269.99498402],\n",
       "       [ 21.5       , 397.14886983, 276.45748393],\n",
       "       [ 22.        , 441.41539307, 190.94928284],\n",
       "       [ 22.        , 537.50450439, 170.54142456],\n",
       "       [ 22.        , 549.44650879, 172.02518616],\n",
       "       [ 25.        , 362.48287286, 241.16482035],\n",
       "       [ 22.5       , 400.20728302, 204.20207596],\n",
       "       [ 23.5       , 420.55404663, 255.97939301],\n",
       "       [ 24.5       , 406.29055405, 289.58524704],\n",
       "       [ 25.        , 389.39649794, 211.27422587],\n",
       "       [ 23.        , 441.66575317, 239.45097656],\n",
       "       [ 27.        , 390.05711781, 254.00830356],\n",
       "       [ 25.        , 406.63601249, 214.29299927],\n",
       "       [ 27.        , 328.29786513, 249.03823683],\n",
       "       [ 27.5       , 429.32611389, 202.93835144],\n",
       "       [ 26.        , 518.90094866, 156.52051871],\n",
       "       [ 25.        , 420.64399414, 263.56843262],\n",
       "       [ 25.5       , 477.0444692 , 226.2678655 ],\n",
       "       [ 26.5       , 394.1091156 , 222.33698082],\n",
       "       [ 24.5       , 418.43658447, 203.6137886 ],\n",
       "       [ 26.5       , 428.35249329, 182.69188944],\n",
       "       [ 26.5       , 438.97894287, 199.4687144 ],\n",
       "       [ 26.5       , 505.54936727, 175.79718526],\n",
       "       [ 27.        , 419.668396  , 234.07041059],\n",
       "       [ 27.        , 378.42008318, 208.23972212],\n",
       "       [ 26.5       , 411.40617371, 237.07607015],\n",
       "       [ 27.        , 483.35447998, 182.34657593],\n",
       "       [ 28.        , 494.34780884, 208.44545637],\n",
       "       [ 28.5       , 369.31871033, 294.14156723],\n",
       "       [ 28.5       , 610.60410309, 184.76717377],\n",
       "       [ 27.        , 380.47844238, 216.88786011],\n",
       "       [ 27.        , 524.33039551, 214.87228088],\n",
       "       [ 27.        , 431.82076416, 238.73424377],\n",
       "       [ 28.        , 347.6031189 , 310.37708391],\n",
       "       [ 28.5       , 402.49555969, 244.40044594],\n",
       "       [ 28.5       , 340.49533081, 330.43839645],\n",
       "       [ 28.5       , 375.74557877, 342.33456421],\n",
       "       [ 27.5       , 416.91651917, 214.15247854],\n",
       "       [ 28.5       , 342.322155  , 341.01373672],\n",
       "       [ 28.5       , 498.75302887, 196.98547745],\n",
       "       [ 28.        , 536.47540283, 193.34252014],\n",
       "       [ 29.        , 366.0098005 , 221.87813677],\n",
       "       [ 28.5       , 477.91366577, 208.71357727],\n",
       "       [ 29.5       , 514.99298604, 181.57822418],\n",
       "       [ 29.5       , 375.41690063, 230.59826152],\n",
       "       [ 29.5       , 478.8381602 , 193.23012288],\n",
       "       [ 29.5       , 502.12073263, 184.40265656],\n",
       "       [ 29.5       , 382.25654602, 276.68562826],\n",
       "       [ 29.5       , 565.31108602, 192.79496002],\n",
       "       [ 29.5       , 556.52401733, 194.04522196],\n",
       "       [ 29.5       , 386.08140564, 233.49557749],\n",
       "       [ 28.5       , 426.01844025, 216.76843643],\n",
       "       [ 30.        , 443.73128052, 194.74855652],\n",
       "       [ 30.5       , 486.73631287, 182.8065567 ],\n",
       "       [ 30.5       , 401.48110199, 229.67107391],\n",
       "       [ 30.5       , 467.08102417, 191.16562271]])"
      ]
     },
     "execution_count": 47,
     "metadata": {},
     "output_type": "execute_result"
    }
   ],
   "source": [
    "n2\n"
   ]
  },
  {
   "cell_type": "markdown",
   "metadata": {},
   "source": [
    "# Aside: timing tests"
   ]
  },
  {
   "cell_type": "code",
   "execution_count": 15,
   "metadata": {},
   "outputs": [],
   "source": [
    "# Open video\n",
    "def open_tif(vid_fname):\n",
    "    with tifffile.TiffFile(vid_fname) as tif:\n",
    "        1+1\n",
    "\n",
    "def open_page(vid_fname):\n",
    "    with tifffile.TiffFile(vid_fname) as tif:\n",
    "        for i, page in enumerate(tif.pages):\n",
    "            dat = page.asarray()\n",
    "            if i>0:\n",
    "                break\n",
    "\n",
    "def open_volume(vid_fname, num_slices=33):\n",
    "    dat = []\n",
    "    with tifffile.TiffFile(vid_fname) as tif:\n",
    "        for i, page in enumerate(tif.pages):\n",
    "            dat.append(page.asarray())\n",
    "            if i>num_slices:\n",
    "                break\n",
    "                \n",
    "def open_with_imread(vid_fname, num_slices=33):\n",
    "    dat = tifffile.imread(vid_fname, key=range(num_slices))"
   ]
  },
  {
   "cell_type": "code",
   "execution_count": 9,
   "metadata": {},
   "outputs": [
    {
     "name": "stdout",
     "output_type": "stream",
     "text": [
      "269 µs ± 4.12 µs per loop (mean ± std. dev. of 7 runs, 1000 loops each)\n"
     ]
    }
   ],
   "source": [
    "%timeit open_tif(btf_fname_red)"
   ]
  },
  {
   "cell_type": "code",
   "execution_count": 11,
   "metadata": {},
   "outputs": [
    {
     "name": "stdout",
     "output_type": "stream",
     "text": [
      "2 ms ± 32.1 µs per loop (mean ± std. dev. of 7 runs, 1000 loops each)\n"
     ]
    }
   ],
   "source": [
    "%timeit open_page(btf_fname_red)"
   ]
  },
  {
   "cell_type": "code",
   "execution_count": 13,
   "metadata": {},
   "outputs": [
    {
     "name": "stdout",
     "output_type": "stream",
     "text": [
      "38.8 ms ± 3.79 ms per loop (mean ± std. dev. of 7 runs, 10 loops each)\n"
     ]
    }
   ],
   "source": [
    "%timeit open_volume(btf_fname_red)"
   ]
  },
  {
   "cell_type": "code",
   "execution_count": 16,
   "metadata": {},
   "outputs": [
    {
     "name": "stdout",
     "output_type": "stream",
     "text": [
      "31.5 ms ± 4.02 ms per loop (mean ± std. dev. of 7 runs, 10 loops each)\n"
     ]
    }
   ],
   "source": [
    "%timeit open_with_imread(btf_fname_red)"
   ]
  },
  {
   "cell_type": "code",
   "execution_count": null,
   "metadata": {},
   "outputs": [],
   "source": []
  }
 ],
 "metadata": {
  "kernelspec": {
   "display_name": "Python [conda env:track_using_features] *",
   "language": "python",
   "name": "conda-env-track_using_features-py"
  },
  "language_info": {
   "codemirror_mode": {
    "name": "ipython",
    "version": 3
   },
   "file_extension": ".py",
   "mimetype": "text/x-python",
   "name": "python",
   "nbconvert_exporter": "python",
   "pygments_lexer": "ipython3",
   "version": "3.7.9"
  }
 },
 "nbformat": 4,
 "nbformat_minor": 4
}
