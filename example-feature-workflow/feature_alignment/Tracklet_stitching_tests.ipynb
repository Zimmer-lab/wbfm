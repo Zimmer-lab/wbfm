{
 "cells": [
  {
   "cell_type": "code",
   "execution_count": 175,
   "id": "forty-import",
   "metadata": {},
   "outputs": [
    {
     "name": "stdout",
     "output_type": "stream",
     "text": [
      "The autoreload extension is already loaded. To reload it, use:\n",
      "  %reload_ext autoreload\n"
     ]
    }
   ],
   "source": [
    "import os\n",
    "from DLC_for_WBFM.bin.configuration_definition import *\n",
    "import pandas as pd\n",
    "from DLC_for_WBFM.utils.video_and_data_conversion.video_conversion_utils import write_minimax_projection_from_btf\n",
    "from DLC_for_WBFM.utils.feature_detection.utils_features import *\n",
    "from DLC_for_WBFM.utils.feature_detection.utils_tracklets import *\n",
    "from DLC_for_WBFM.utils.feature_detection.feature_pipeline import *\n",
    "from DLC_for_WBFM.utils.feature_detection.visualization_tracks import *\n",
    "import numpy as np\n",
    "from tqdm import tqdm\n",
    "#from DLC_for_WBFM.utils.preprocessing.DLC_utils import create_dlc_project_from_config\n",
    "#from DLC_for_WBFM.utils.preprocessing.convert_matlab_annotations_to_DLC import csv_annotations2config_names\n",
    "#from DLC_for_WBFM.utils.feature_detection.visualize_using_dlc import *\n",
    "%load_ext autoreload\n",
    "%autoreload 2\n"
   ]
  },
  {
   "cell_type": "markdown",
   "id": "internal-racing",
   "metadata": {},
   "source": [
    "# Build tracklets\n",
    "\n",
    "i.e. pairwise matches and Frame objects"
   ]
  },
  {
   "cell_type": "code",
   "execution_count": 10,
   "id": "promising-childhood",
   "metadata": {},
   "outputs": [],
   "source": [
    "# Get the 3d bigtiff folder\n",
    "bigtiff_folder = r'D:\\More-stabilized-wbfm'\n",
    "\n",
    "btf_fname_red = r'test2020-10-22_16-15-20_test4-channel-0-pco_camera1\\test2020-10-22_16-15-20_test4-channel-0-pco_camera1bigtiff.btf'\n",
    "btf_fname_red = os.path.join(bigtiff_folder, btf_fname_red)"
   ]
  },
  {
   "cell_type": "code",
   "execution_count": 235,
   "id": "graduate-florist",
   "metadata": {},
   "outputs": [
    {
     "name": "stdout",
     "output_type": "stream",
     "text": [
      "Building initial frame...\n"
     ]
    },
    {
     "ename": "NameError",
     "evalue": "name 'opt' is not defined",
     "output_type": "error",
     "traceback": [
      "\u001b[1;31m---------------------------------------------------------------------------\u001b[0m",
      "\u001b[1;31mNameError\u001b[0m                                 Traceback (most recent call last)",
      "\u001b[1;32m<ipython-input-235-1af9b735d2d4>\u001b[0m in \u001b[0;36m<module>\u001b[1;34m\u001b[0m\n\u001b[0;32m      5\u001b[0m       'num_frames':10}\n\u001b[0;32m      6\u001b[0m \u001b[1;33m\u001b[0m\u001b[0m\n\u001b[1;32m----> 7\u001b[1;33m \u001b[0mout\u001b[0m \u001b[1;33m=\u001b[0m \u001b[0mtrack_neurons_full_video\u001b[0m\u001b[1;33m(\u001b[0m\u001b[0mbtf_fname_red\u001b[0m\u001b[1;33m,\u001b[0m \u001b[1;33m**\u001b[0m\u001b[0mopt\u001b[0m\u001b[1;33m)\u001b[0m\u001b[1;33m\u001b[0m\u001b[1;33m\u001b[0m\u001b[0m\n\u001b[0m\u001b[0;32m      8\u001b[0m \u001b[0mall_matches_dict\u001b[0m\u001b[1;33m,\u001b[0m \u001b[0mall_likelihoods_dict\u001b[0m\u001b[1;33m,\u001b[0m \u001b[0mall_frames\u001b[0m \u001b[1;33m=\u001b[0m \u001b[0mout\u001b[0m\u001b[1;33m\u001b[0m\u001b[1;33m\u001b[0m\u001b[0m\n",
      "\u001b[1;32mc:\\users\\charles.fieseler\\documents\\current_work\\dlc_for_wbfm\\DLC_for_WBFM\\utils\\feature_detection\\feature_pipeline.py\u001b[0m in \u001b[0;36mtrack_neurons_full_video\u001b[1;34m(vid_fname, start_frame, num_frames, num_slices, alpha, neuron_feature_radius, do_mini_max_projections, verbose)\u001b[0m\n\u001b[0;32m    150\u001b[0m     \u001b[1;32mif\u001b[0m \u001b[0mverbose\u001b[0m \u001b[1;33m>=\u001b[0m \u001b[1;36m1\u001b[0m\u001b[1;33m:\u001b[0m\u001b[1;33m\u001b[0m\u001b[1;33m\u001b[0m\u001b[0m\n\u001b[0;32m    151\u001b[0m         \u001b[0mprint\u001b[0m\u001b[1;33m(\u001b[0m\u001b[1;34m\"Building initial frame...\"\u001b[0m\u001b[1;33m)\u001b[0m\u001b[1;33m\u001b[0m\u001b[1;33m\u001b[0m\u001b[0m\n\u001b[1;32m--> 152\u001b[1;33m     \u001b[0mframe0\u001b[0m \u001b[1;33m=\u001b[0m \u001b[0mlocal_build_frame\u001b[0m\u001b[1;33m(\u001b[0m\u001b[0mstart_frame\u001b[0m\u001b[1;33m)\u001b[0m\u001b[1;33m\u001b[0m\u001b[1;33m\u001b[0m\u001b[0m\n\u001b[0m\u001b[0;32m    153\u001b[0m \u001b[1;33m\u001b[0m\u001b[0m\n\u001b[0;32m    154\u001b[0m     \u001b[1;31m# Loop through all pairs\u001b[0m\u001b[1;33m\u001b[0m\u001b[1;33m\u001b[0m\u001b[1;33m\u001b[0m\u001b[0m\n",
      "\u001b[1;32mc:\\users\\charles.fieseler\\documents\\current_work\\dlc_for_wbfm\\DLC_for_WBFM\\utils\\feature_detection\\feature_pipeline.py\u001b[0m in \u001b[0;36mlocal_build_frame\u001b[1;34m(frame_ind, vid_fname, import_opt, ref_opt)\u001b[0m\n\u001b[0;32m    141\u001b[0m                     \u001b[1;34m'vol_shape'\u001b[0m\u001b[1;33m:\u001b[0m\u001b[0mdat\u001b[0m\u001b[1;33m.\u001b[0m\u001b[0mshape\u001b[0m\u001b[1;33m,\u001b[0m\u001b[1;33m\u001b[0m\u001b[1;33m\u001b[0m\u001b[0m\n\u001b[0;32m    142\u001b[0m                     \u001b[1;34m'video_fname'\u001b[0m\u001b[1;33m:\u001b[0m\u001b[0mvid_fname\u001b[0m\u001b[1;33m,\u001b[0m\u001b[1;33m\u001b[0m\u001b[1;33m\u001b[0m\u001b[0m\n\u001b[1;32m--> 143\u001b[1;33m                     'alpha':opt['alpha']}\n\u001b[0m\u001b[0;32m    144\u001b[0m         f = build_reference_frame(dat,\n\u001b[0;32m    145\u001b[0m                                   \u001b[0mnum_slices\u001b[0m\u001b[1;33m=\u001b[0m\u001b[0mopt\u001b[0m\u001b[1;33m[\u001b[0m\u001b[1;34m'num_slices'\u001b[0m\u001b[1;33m]\u001b[0m\u001b[1;33m,\u001b[0m\u001b[1;33m\u001b[0m\u001b[1;33m\u001b[0m\u001b[0m\n",
      "\u001b[1;31mNameError\u001b[0m: name 'opt' is not defined"
     ]
    }
   ],
   "source": [
    "opt = {'num_slices':33, 'alpha':0.15, 'verbose':1,\n",
    "       'do_mini_max_projections':True,\n",
    "       'neuron_feature_radius':5.0,\n",
    "      'start_frame':15,\n",
    "      'num_frames':10}\n",
    "\n",
    "out = track_neurons_full_video(btf_fname_red, **opt)\n",
    "all_matches_dict, all_likelihoods_dict, all_frames = out"
   ]
  },
  {
   "cell_type": "code",
   "execution_count": 233,
   "id": "associate-accountability",
   "metadata": {
    "scrolled": false
   },
   "outputs": [
    {
     "name": "stdout",
     "output_type": "stream",
     "text": [
      "> \u001b[1;32mc:\\users\\charles.fieseler\\documents\\current_work\\dlc_for_wbfm\\dlc_for_wbfm\\utils\\feature_detection\\utils_features.py\u001b[0m(218)\u001b[0;36mbuild_neuron_tree\u001b[1;34m()\u001b[0m\n",
      "\u001b[1;32m    216 \u001b[1;33m\u001b[1;33m\u001b[0m\u001b[0m\n",
      "\u001b[0m\u001b[1;32m    217 \u001b[1;33m    \u001b[1;31m# Build point cloud and tree\u001b[0m\u001b[1;33m\u001b[0m\u001b[1;33m\u001b[0m\u001b[1;33m\u001b[0m\u001b[0m\n",
      "\u001b[0m\u001b[1;32m--> 218 \u001b[1;33m    \u001b[0mpc\u001b[0m\u001b[1;33m.\u001b[0m\u001b[0mpoints\u001b[0m \u001b[1;33m=\u001b[0m \u001b[0mo3d\u001b[0m\u001b[1;33m.\u001b[0m\u001b[0mutility\u001b[0m\u001b[1;33m.\u001b[0m\u001b[0mVector3dVector\u001b[0m\u001b[1;33m(\u001b[0m\u001b[0mneurons\u001b[0m\u001b[1;33m)\u001b[0m\u001b[1;33m\u001b[0m\u001b[1;33m\u001b[0m\u001b[0m\n",
      "\u001b[0m\u001b[1;32m    219 \u001b[1;33m    \u001b[0mpc_tree\u001b[0m \u001b[1;33m=\u001b[0m \u001b[0mo3d\u001b[0m\u001b[1;33m.\u001b[0m\u001b[0mgeometry\u001b[0m\u001b[1;33m.\u001b[0m\u001b[0mKDTreeFlann\u001b[0m\u001b[1;33m(\u001b[0m\u001b[0mpc\u001b[0m\u001b[1;33m)\u001b[0m\u001b[1;33m\u001b[0m\u001b[1;33m\u001b[0m\u001b[0m\n",
      "\u001b[0m\u001b[1;32m    220 \u001b[1;33m\u001b[1;33m\u001b[0m\u001b[0m\n",
      "\u001b[0m\n",
      "ipdb> u\n",
      "> \u001b[1;32mc:\\users\\charles.fieseler\\documents\\current_work\\dlc_for_wbfm\\dlc_for_wbfm\\utils\\feature_detection\\utils_reference_frames.py\u001b[0m(146)\u001b[0;36mbuild_reference_frame\u001b[1;34m()\u001b[0m\n",
      "\u001b[1;32m    144 \u001b[1;33m    \u001b[0mfeature_opt\u001b[0m \u001b[1;33m=\u001b[0m \u001b[1;33m{\u001b[0m\u001b[1;34m'num_features_per_plane'\u001b[0m\u001b[1;33m:\u001b[0m\u001b[1;36m1000\u001b[0m\u001b[1;33m,\u001b[0m \u001b[1;34m'start_plane'\u001b[0m\u001b[1;33m:\u001b[0m\u001b[1;36m5\u001b[0m\u001b[1;33m}\u001b[0m\u001b[1;33m\u001b[0m\u001b[1;33m\u001b[0m\u001b[0m\n",
      "\u001b[0m\u001b[1;32m    145 \u001b[1;33m    \u001b[0mkps\u001b[0m\u001b[1;33m,\u001b[0m \u001b[0mkp_3d_locs\u001b[0m\u001b[1;33m,\u001b[0m \u001b[0mfeatures\u001b[0m \u001b[1;33m=\u001b[0m \u001b[0mbuild_features_1volume\u001b[0m\u001b[1;33m(\u001b[0m\u001b[0mdat\u001b[0m\u001b[1;33m,\u001b[0m \u001b[1;33m**\u001b[0m\u001b[0mfeature_opt\u001b[0m\u001b[1;33m)\u001b[0m\u001b[1;33m\u001b[0m\u001b[1;33m\u001b[0m\u001b[0m\n",
      "\u001b[0m\u001b[1;32m--> 146 \u001b[1;33m\u001b[1;33m\u001b[0m\u001b[0m\n",
      "\u001b[0m\u001b[1;32m    147 \u001b[1;33m    \u001b[1;31m# The map requires some open3d subfunctions\u001b[0m\u001b[1;33m\u001b[0m\u001b[1;33m\u001b[0m\u001b[1;33m\u001b[0m\u001b[0m\n",
      "\u001b[0m\u001b[1;32m    148 \u001b[1;33m    \u001b[0mnum_f\u001b[0m\u001b[1;33m,\u001b[0m \u001b[0mpc_f\u001b[0m\u001b[1;33m,\u001b[0m \u001b[0m_\u001b[0m \u001b[1;33m=\u001b[0m \u001b[0mbuild_feature_tree\u001b[0m\u001b[1;33m(\u001b[0m\u001b[0mkp_3d_locs\u001b[0m\u001b[1;33m,\u001b[0m \u001b[0mwhich_slice\u001b[0m\u001b[1;33m=\u001b[0m\u001b[1;32mNone\u001b[0m\u001b[1;33m)\u001b[0m\u001b[1;33m\u001b[0m\u001b[1;33m\u001b[0m\u001b[0m\n",
      "\u001b[0m\n",
      "ipdb> len(neuron_locs)\n",
      "0\n",
      "ipdb> q\n"
     ]
    }
   ],
   "source": [
    "%debug"
   ]
  },
  {
   "cell_type": "code",
   "execution_count": null,
   "id": "interim-spotlight",
   "metadata": {},
   "outputs": [],
   "source": [
    "clust_df = build_tracklets_from_classes(all_frames,\n",
    "                                 all_matches_dict,\n",
    "                                 all_likelihoods_dict=None,\n",
    "                                 verbose=0)"
   ]
  },
  {
   "cell_type": "code",
   "execution_count": null,
   "id": "natural-insertion",
   "metadata": {
    "scrolled": false
   },
   "outputs": [],
   "source": [
    "df, out = stitch_tracklets(clust_df,\n",
    "                     all_frames,\n",
    "                     max_stitch_distance=10,\n",
    "                     min_starting_tracklet_length=20,\n",
    "                     minimum_match_confidence=0.4,\n",
    "                     verbose=1)"
   ]
  },
  {
   "cell_type": "code",
   "execution_count": null,
   "id": "acknowledged-warren",
   "metadata": {},
   "outputs": [],
   "source": [
    "import pickle\n",
    "\n",
    "fname = 'stitched_df_dat.pickle'\n",
    "pickle.dump(df,open(fname,'wb'))\n",
    "\n",
    "fname = 'all_frames_dat.pickle'\n",
    "pickle.dump((all_matches, all_conf, all_neurons), open(fname,'wb'))"
   ]
  }
 ],
 "metadata": {
  "kernelspec": {
   "display_name": "Python [conda env:track_using_features] *",
   "language": "python",
   "name": "conda-env-track_using_features-py"
  },
  "language_info": {
   "codemirror_mode": {
    "name": "ipython",
    "version": 3
   },
   "file_extension": ".py",
   "mimetype": "text/x-python",
   "name": "python",
   "nbconvert_exporter": "python",
   "pygments_lexer": "ipython3",
   "version": "3.7.9"
  }
 },
 "nbformat": 4,
 "nbformat_minor": 5
}
