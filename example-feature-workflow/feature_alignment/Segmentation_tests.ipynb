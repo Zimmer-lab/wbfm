{
 "cells": [
  {
   "cell_type": "code",
   "execution_count": 1,
   "metadata": {},
   "outputs": [],
   "source": [
    "import cv2\n",
    "\n",
    "import numpy as np;\n",
    "import tifffile\n",
    "import os\n",
    "import matplotlib.pyplot as plt\n",
    "import copy\n",
    "%load_ext autoreload\n",
    "%autoreload 2"
   ]
  },
  {
   "cell_type": "code",
   "execution_count": 2,
   "metadata": {},
   "outputs": [],
   "source": [
    "# From: https://stackoverflow.com/questions/8076889/how-to-use-opencv-simpleblobdetector\n",
    "\n",
    "# Get images with segmentation\n",
    "\n",
    "which_slice = 13\n",
    "alpha = 0.15\n",
    "\n",
    "f = lambda tif : (alpha*tif.asarray()[which_slice]).astype('uint8')\n",
    "\n",
    "dat_foldername = r'..\\point_cloud_alignment'\n",
    "\n",
    "vol0 = os.path.join(dat_foldername, 'img100.tif')\n",
    "with tifffile.TiffFile(vol0) as tif:\n",
    "    im1_raw = f(tif)\n",
    "\n",
    "vol1 = os.path.join(dat_foldername, 'img101.tif')\n",
    "with tifffile.TiffFile(vol1) as tif:\n",
    "    im2_raw = f(tif)"
   ]
  },
  {
   "cell_type": "markdown",
   "metadata": {},
   "source": [
    "## Blob detector"
   ]
  },
  {
   "cell_type": "code",
   "execution_count": 3,
   "metadata": {},
   "outputs": [],
   "source": [
    "from DLC_for_WBFM.utils.feature_detection.utils_detection import detect_blobs\n"
   ]
  },
  {
   "cell_type": "code",
   "execution_count": 4,
   "metadata": {},
   "outputs": [],
   "source": [
    "keypoints, _ = detect_blobs(im1_raw)\n",
    "\n",
    "# Draw detected blobs as red circles.\n",
    "# cv2.DRAW_MATCHES_FLAGS_DRAW_RICH_KEYPOINTS ensures\n",
    "# the size of the circle corresponds to the size of blob\n",
    "im1 = cv2.GaussianBlur(im1_raw,(3,3),0)\n",
    "\n",
    "im_with_keypoints = cv2.drawKeypoints(im1, keypoints, np.array([]), (255,0,0), cv2.DRAW_MATCHES_FLAGS_DRAW_RICH_KEYPOINTS)\n",
    "\n",
    "# Show blobs\n",
    "#cv2.imshow(\"Keypoints\", im_with_keypoints)"
   ]
  },
  {
   "cell_type": "code",
   "execution_count": 5,
   "metadata": {},
   "outputs": [
    {
     "data": {
      "text/plain": [
       "Text(0.5, 1.0, 'Found 38 keypoints')"
      ]
     },
     "execution_count": 5,
     "metadata": {},
     "output_type": "execute_result"
    },
    {
     "data": {
      "image/png": "[encoded data removed]",
      "text/plain": [
       "<Figure size 432x288 with 1 Axes>"
      ]
     },
     "metadata": {
      "needs_background": "light"
     },
     "output_type": "display_data"
    }
   ],
   "source": [
    "%matplotlib inline\n",
    "plt.imshow(im_with_keypoints)\n",
    "plt.title(f\"Found {len(keypoints)} keypoints\")"
   ]
  },
  {
   "cell_type": "markdown",
   "metadata": {},
   "source": [
    "## 3d blob detection"
   ]
  },
  {
   "cell_type": "code",
   "execution_count": 6,
   "metadata": {},
   "outputs": [],
   "source": [
    "from ipywidgets import interact\n",
    "import open3d as o3d\n",
    "from DLC_for_WBFM.utils.feature_detection.utils_features import build_feature_tree\n",
    "from DLC_for_WBFM.utils.feature_detection.visualization_tracks import visualize_cluster_labels\n",
    "import pandas as pd"
   ]
  },
  {
   "cell_type": "code",
   "execution_count": 7,
   "metadata": {},
   "outputs": [],
   "source": [
    "alpha = 0.15\n",
    "\n",
    "f = lambda dat, which_slice : (alpha*dat[which_slice]).astype('uint8')\n",
    "\n",
    "dat_foldername = r'..\\point_cloud_alignment'\n",
    "\n",
    "vol0 = os.path.join(dat_foldername, 'img100.tif')\n",
    "\n",
    "\n",
    "num_slices = 33\n",
    "with tifffile.TiffFile(vol0) as tif:\n",
    "    dat = tif.asarray()"
   ]
  },
  {
   "cell_type": "markdown",
   "metadata": {},
   "source": [
    "## Try to track via ICP on planes"
   ]
  },
  {
   "cell_type": "code",
   "execution_count": 8,
   "metadata": {},
   "outputs": [],
   "source": [
    "from DLC_for_WBFM.utils.feature_detection.utils_detection import build_point_clouds_for_volume, build_correspondence_icp\n"
   ]
  },
  {
   "cell_type": "code",
   "execution_count": 9,
   "metadata": {},
   "outputs": [],
   "source": [
    "# Build point clouds for each plane\n",
    "\n",
    "all_keypoints_pcs = build_point_clouds_for_volume(dat,\n",
    "                                                  num_slices,\n",
    "                                                  alpha)"
   ]
  },
  {
   "cell_type": "code",
   "execution_count": 10,
   "metadata": {},
   "outputs": [
    {
     "name": "stdout",
     "output_type": "stream",
     "text": [
      "[Open3D WARNING] [KDTreeFlann::SetRawData] Failed due to no data.\n"
     ]
    }
   ],
   "source": [
    "all_icp = build_correspondence_icp(all_keypoints_pcs)"
   ]
  },
  {
   "cell_type": "markdown",
   "metadata": {},
   "source": [
    "## Build tracklets from the above matches"
   ]
  },
  {
   "cell_type": "code",
   "execution_count": 78,
   "metadata": {},
   "outputs": [],
   "source": [
    "# From: http://www.open3d.org/docs/release/tutorial/pipelines/icp_registration.html\n",
    "import copy\n",
    "from DLC_for_WBFM.utils.feature_detection.visualization_tracks import visualize_tracks_simple\n",
    "from DLC_for_WBFM.utils.feature_detection.utils_tracklets import build_tracklets_from_matches"
   ]
  },
  {
   "cell_type": "code",
   "execution_count": 98,
   "metadata": {
    "scrolled": false
   },
   "outputs": [],
   "source": [
    "clust_df = build_tracklets_from_matches(all_keypoints_pcs, all_icp)"
   ]
  },
  {
   "cell_type": "code",
   "execution_count": 105,
   "metadata": {},
   "outputs": [
    {
     "data": {
      "text/plain": [
       "(9, 3)"
      ]
     },
     "execution_count": 105,
     "metadata": {},
     "output_type": "execute_result"
    }
   ],
   "source": [
    "np.array(clust_df['all_xyz'][0]).shape"
   ]
  },
  {
   "cell_type": "markdown",
   "metadata": {},
   "source": [
    "## Visualize the tracklets 1: by cluster"
   ]
  },
  {
   "cell_type": "code",
   "execution_count": null,
   "metadata": {},
   "outputs": [],
   "source": [
    "# Build full point cloud\n",
    "\n",
    "full_pc = o3d.geometry.PointCloud()\n",
    "for pc in all_keypoints_pcs:\n",
    "    full_pc = full_pc + pc\n",
    "full_pc.paint_uniform_color([0.5,0.5,0.5])"
   ]
  },
  {
   "cell_type": "code",
   "execution_count": 87,
   "metadata": {},
   "outputs": [],
   "source": [
    "from DLC_for_WBFM.utils.feature_detection.visualization_tracks import visualize_clusters_from_dataframe"
   ]
  },
  {
   "cell_type": "code",
   "execution_count": 90,
   "metadata": {},
   "outputs": [],
   "source": [
    "visualize_clusters_from_dataframe(full_pc, clust_df)"
   ]
  },
  {
   "cell_type": "markdown",
   "metadata": {},
   "source": [
    "## Visualize the tracklets 2: using connecting lines"
   ]
  },
  {
   "cell_type": "code",
   "execution_count": 91,
   "metadata": {},
   "outputs": [],
   "source": [
    "from DLC_for_WBFM.utils.feature_detection.visualization_tracks import *"
   ]
  },
  {
   "cell_type": "code",
   "execution_count": 92,
   "metadata": {},
   "outputs": [],
   "source": [
    "all_matches = [np.array(icp.correspondence_set) for icp in all_icp]\n",
    "all_pc = copy.copy(all_keypoints_pcs)"
   ]
  },
  {
   "cell_type": "code",
   "execution_count": 93,
   "metadata": {},
   "outputs": [],
   "source": [
    "visualize_tracks_multiple_matches(all_pc, all_matches)"
   ]
  },
  {
   "cell_type": "code",
   "execution_count": null,
   "metadata": {},
   "outputs": [],
   "source": [
    "line = build_line_set_from_matches(all_pc[0], all_pc[1], all_matches[0])"
   ]
  },
  {
   "cell_type": "code",
   "execution_count": null,
   "metadata": {},
   "outputs": [],
   "source": []
  },
  {
   "cell_type": "markdown",
   "metadata": {},
   "source": [
    "## Get centroid locations from dataframe"
   ]
  },
  {
   "cell_type": "code",
   "execution_count": 94,
   "metadata": {},
   "outputs": [
    {
     "data": {
      "text/html": [
       "<div>\n",
       "<style scoped>\n",
       "    .dataframe tbody tr th:only-of-type {\n",
       "        vertical-align: middle;\n",
       "    }\n",
       "\n",
       "    .dataframe tbody tr th {\n",
       "        vertical-align: top;\n",
       "    }\n",
       "\n",
       "    .dataframe thead th {\n",
       "        text-align: right;\n",
       "    }\n",
       "</style>\n",
       "<table border=\"1\" class=\"dataframe\">\n",
       "  <thead>\n",
       "    <tr style=\"text-align: right;\">\n",
       "      <th></th>\n",
       "      <th>clust_ind</th>\n",
       "      <th>all_ind_local</th>\n",
       "      <th>all_ind_global</th>\n",
       "      <th>slice_ind</th>\n",
       "      <th>extended_this_slice</th>\n",
       "      <th>not_finished</th>\n",
       "      <th>colors</th>\n",
       "    </tr>\n",
       "  </thead>\n",
       "  <tbody>\n",
       "    <tr>\n",
       "      <th>0</th>\n",
       "      <td>0</td>\n",
       "      <td>[0, 0, 0, 0, 0, 0, 0, 0, 23]</td>\n",
       "      <td>[68, 69, 70, 71, 72, 74, 78, 82, 115]</td>\n",
       "      <td>[3, 4, 5, 6, 7, 8, 9, 10, 11]</td>\n",
       "      <td>False</td>\n",
       "      <td>False</td>\n",
       "      <td>[0.12156862745098039, 0.4666666666666667, 0.70...</td>\n",
       "    </tr>\n",
       "    <tr>\n",
       "      <th>1</th>\n",
       "      <td>1</td>\n",
       "      <td>[1, 2, 2, 3, 1, 0, 0, 4, 27, 41, 49]</td>\n",
       "      <td>[73, 76, 80, 85, 93, 116, 150, 192, 259, 320, ...</td>\n",
       "      <td>[7, 8, 9, 10, 11, 12, 13, 14, 15, 16, 17]</td>\n",
       "      <td>False</td>\n",
       "      <td>False</td>\n",
       "      <td>[0.12156862745098039, 0.4666666666666667, 0.70...</td>\n",
       "    </tr>\n",
       "    <tr>\n",
       "      <th>2</th>\n",
       "      <td>2</td>\n",
       "      <td>[3, 3, 2, 2, 5, 28, 38]</td>\n",
       "      <td>[77, 81, 84, 94, 121, 178, 226]</td>\n",
       "      <td>[8, 9, 10, 11, 12, 13, 14]</td>\n",
       "      <td>False</td>\n",
       "      <td>False</td>\n",
       "      <td>[0.12156862745098039, 0.4666666666666667, 0.70...</td>\n",
       "    </tr>\n",
       "    <tr>\n",
       "      <th>3</th>\n",
       "      <td>3</td>\n",
       "      <td>[1, 1, 1, 0, 2, 24, 39]</td>\n",
       "      <td>[75, 79, 83, 92, 118, 174, 227]</td>\n",
       "      <td>[8, 9, 10, 11, 12, 13, 14]</td>\n",
       "      <td>False</td>\n",
       "      <td>False</td>\n",
       "      <td>[0.12156862745098039, 0.4666666666666667, 0.70...</td>\n",
       "    </tr>\n",
       "    <tr>\n",
       "      <th>4</th>\n",
       "      <td>4</td>\n",
       "      <td>[8, 9, 11, 8, 17, 36, 45]</td>\n",
       "      <td>[90, 101, 127, 158, 205, 268, 324]</td>\n",
       "      <td>[10, 11, 12, 13, 14, 15, 16]</td>\n",
       "      <td>False</td>\n",
       "      <td>False</td>\n",
       "      <td>[0.12156862745098039, 0.4666666666666667, 0.70...</td>\n",
       "    </tr>\n",
       "    <tr>\n",
       "      <th>...</th>\n",
       "      <td>...</td>\n",
       "      <td>...</td>\n",
       "      <td>...</td>\n",
       "      <td>...</td>\n",
       "      <td>...</td>\n",
       "      <td>...</td>\n",
       "      <td>...</td>\n",
       "    </tr>\n",
       "    <tr>\n",
       "      <th>166</th>\n",
       "      <td>166</td>\n",
       "      <td>[41, 20, 8, 6]</td>\n",
       "      <td>[1021, 1055, 1083, 1117]</td>\n",
       "      <td>[29, 30, 31, 32]</td>\n",
       "      <td>True</td>\n",
       "      <td>True</td>\n",
       "      <td>[0.6196078431372549, 0.8549019607843137, 0.898...</td>\n",
       "    </tr>\n",
       "    <tr>\n",
       "      <th>167</th>\n",
       "      <td>167</td>\n",
       "      <td>[6, 7, 10]</td>\n",
       "      <td>[1041, 1082, 1121]</td>\n",
       "      <td>[30, 31, 32]</td>\n",
       "      <td>True</td>\n",
       "      <td>True</td>\n",
       "      <td>[0.6196078431372549, 0.8549019607843137, 0.898...</td>\n",
       "    </tr>\n",
       "    <tr>\n",
       "      <th>168</th>\n",
       "      <td>168</td>\n",
       "      <td>[22, 6, 5]</td>\n",
       "      <td>[1057, 1081, 1116]</td>\n",
       "      <td>[30, 31, 32]</td>\n",
       "      <td>True</td>\n",
       "      <td>True</td>\n",
       "      <td>[0.6196078431372549, 0.8549019607843137, 0.898...</td>\n",
       "    </tr>\n",
       "    <tr>\n",
       "      <th>169</th>\n",
       "      <td>169</td>\n",
       "      <td>[14, 0]</td>\n",
       "      <td>[1089, 1111]</td>\n",
       "      <td>[31, 32]</td>\n",
       "      <td>True</td>\n",
       "      <td>True</td>\n",
       "      <td>[0.6196078431372549, 0.8549019607843137, 0.898...</td>\n",
       "    </tr>\n",
       "    <tr>\n",
       "      <th>170</th>\n",
       "      <td>170</td>\n",
       "      <td>[23, 7]</td>\n",
       "      <td>[1098, 1118]</td>\n",
       "      <td>[31, 32]</td>\n",
       "      <td>True</td>\n",
       "      <td>True</td>\n",
       "      <td>[0.6196078431372549, 0.8549019607843137, 0.898...</td>\n",
       "    </tr>\n",
       "  </tbody>\n",
       "</table>\n",
       "<p>171 rows × 7 columns</p>\n",
       "</div>"
      ],
      "text/plain": [
       "    clust_ind                         all_ind_local  \\\n",
       "0           0          [0, 0, 0, 0, 0, 0, 0, 0, 23]   \n",
       "1           1  [1, 2, 2, 3, 1, 0, 0, 4, 27, 41, 49]   \n",
       "2           2               [3, 3, 2, 2, 5, 28, 38]   \n",
       "3           3               [1, 1, 1, 0, 2, 24, 39]   \n",
       "4           4             [8, 9, 11, 8, 17, 36, 45]   \n",
       "..        ...                                   ...   \n",
       "166       166                        [41, 20, 8, 6]   \n",
       "167       167                            [6, 7, 10]   \n",
       "168       168                            [22, 6, 5]   \n",
       "169       169                               [14, 0]   \n",
       "170       170                               [23, 7]   \n",
       "\n",
       "                                        all_ind_global  \\\n",
       "0                [68, 69, 70, 71, 72, 74, 78, 82, 115]   \n",
       "1    [73, 76, 80, 85, 93, 116, 150, 192, 259, 320, ...   \n",
       "2                      [77, 81, 84, 94, 121, 178, 226]   \n",
       "3                      [75, 79, 83, 92, 118, 174, 227]   \n",
       "4                   [90, 101, 127, 158, 205, 268, 324]   \n",
       "..                                                 ...   \n",
       "166                           [1021, 1055, 1083, 1117]   \n",
       "167                                 [1041, 1082, 1121]   \n",
       "168                                 [1057, 1081, 1116]   \n",
       "169                                       [1089, 1111]   \n",
       "170                                       [1098, 1118]   \n",
       "\n",
       "                                     slice_ind  extended_this_slice  \\\n",
       "0                [3, 4, 5, 6, 7, 8, 9, 10, 11]                False   \n",
       "1    [7, 8, 9, 10, 11, 12, 13, 14, 15, 16, 17]                False   \n",
       "2                   [8, 9, 10, 11, 12, 13, 14]                False   \n",
       "3                   [8, 9, 10, 11, 12, 13, 14]                False   \n",
       "4                 [10, 11, 12, 13, 14, 15, 16]                False   \n",
       "..                                         ...                  ...   \n",
       "166                           [29, 30, 31, 32]                 True   \n",
       "167                               [30, 31, 32]                 True   \n",
       "168                               [30, 31, 32]                 True   \n",
       "169                                   [31, 32]                 True   \n",
       "170                                   [31, 32]                 True   \n",
       "\n",
       "    not_finished                                             colors  \n",
       "0          False  [0.12156862745098039, 0.4666666666666667, 0.70...  \n",
       "1          False  [0.12156862745098039, 0.4666666666666667, 0.70...  \n",
       "2          False  [0.12156862745098039, 0.4666666666666667, 0.70...  \n",
       "3          False  [0.12156862745098039, 0.4666666666666667, 0.70...  \n",
       "4          False  [0.12156862745098039, 0.4666666666666667, 0.70...  \n",
       "..           ...                                                ...  \n",
       "166         True  [0.6196078431372549, 0.8549019607843137, 0.898...  \n",
       "167         True  [0.6196078431372549, 0.8549019607843137, 0.898...  \n",
       "168         True  [0.6196078431372549, 0.8549019607843137, 0.898...  \n",
       "169         True  [0.6196078431372549, 0.8549019607843137, 0.898...  \n",
       "170         True  [0.6196078431372549, 0.8549019607843137, 0.898...  \n",
       "\n",
       "[171 rows x 7 columns]"
      ]
     },
     "execution_count": 94,
     "metadata": {},
     "output_type": "execute_result"
    }
   ],
   "source": [
    "centroids = clust_df[]"
   ]
  },
  {
   "cell_type": "code",
   "execution_count": null,
   "metadata": {},
   "outputs": [],
   "source": []
  },
  {
   "cell_type": "code",
   "execution_count": null,
   "metadata": {},
   "outputs": [],
   "source": []
  },
  {
   "cell_type": "code",
   "execution_count": null,
   "metadata": {},
   "outputs": [],
   "source": []
  },
  {
   "cell_type": "markdown",
   "metadata": {},
   "source": [
    "# OLD"
   ]
  },
  {
   "cell_type": "markdown",
   "metadata": {},
   "source": [
    "## Align the volume before blob identification"
   ]
  },
  {
   "cell_type": "code",
   "execution_count": null,
   "metadata": {},
   "outputs": [],
   "source": [
    "\n",
    "from DLC_for_WBFM.utils.feature_detection.utils_features import *\n",
    "from DLC_for_WBFM.utils.feature_detection.visualization_tracks import *"
   ]
  },
  {
   "cell_type": "code",
   "execution_count": null,
   "metadata": {},
   "outputs": [],
   "source": [
    "def align_pair_of_images(im1, im2, use_skimage=True):\n",
    "    \"\"\"\n",
    "    Aligns two images using orb-generated features\n",
    "    \n",
    "    Args:\n",
    "        im1: numpy image in XY or XYC (color optional)\n",
    "        \n",
    "        im2: same format as im1\n",
    "    \"\"\"\n",
    "    \n",
    "    # Convert images to grayscale\n",
    "    im1Gray, im2Gray = convert_to_grayscale(im1, im2)\n",
    "\n",
    "    # Features\n",
    "    keypoints1, keypoints2, matches = detect_features_and_match(im1, im1Gray, im2, im2Gray)\n",
    "\n",
    "    # Extract location of good matches\n",
    "    points1, points2 = extract_location_of_matches(matches, keypoints1, keypoints2)\n",
    "\n",
    "    # Find homography\n",
    "#     h, mask = cv2.estimateAffine2D(points1, points2)\n",
    "    if use_skimage:\n",
    "        h = transform.estimate_transform('euclidean', points1, points2)\n",
    "    else:\n",
    "        h, mask = cv2.estimateAffinePartial2D(points1, points2)\n",
    "\n",
    "    # Use homography\n",
    "    # Only width and height, removing color channels if any\n",
    "    if use_skimage:\n",
    "        im1Reg = transform.warp(im1, inverse_map=h.inverse) \n",
    "#         im1Reg = None\n",
    "    else:\n",
    "        im1Reg = cv2.warpAffine(im1, h, im2.shape[:2])\n",
    "\n",
    "    return im1Reg, h, keypoints1, keypoints2, matches"
   ]
  },
  {
   "cell_type": "code",
   "execution_count": null,
   "metadata": {},
   "outputs": [],
   "source": []
  },
  {
   "cell_type": "code",
   "execution_count": null,
   "metadata": {},
   "outputs": [],
   "source": []
  },
  {
   "cell_type": "code",
   "execution_count": null,
   "metadata": {},
   "outputs": [],
   "source": []
  },
  {
   "cell_type": "markdown",
   "metadata": {},
   "source": [
    "# ===============================================================================\n",
    "# OLD"
   ]
  },
  {
   "cell_type": "markdown",
   "metadata": {},
   "source": [
    "### Alternate clustering tests"
   ]
  },
  {
   "cell_type": "code",
   "execution_count": null,
   "metadata": {},
   "outputs": [],
   "source": [
    "# def remove_outliers_from_2_clouds(this_pc, next_pc):\n",
    "#     combined_pc = this_pc + next_pc\n",
    "#     if len(this_pc.points) > 0 and len(next_pc.points) > 0:   \n",
    "#         cl, ind = combined_pc.remove_radius_outlier(nb_points=1, radius=3.0)\n",
    "\n",
    "#         cut = len(this_pc.points)\n",
    "#         print(ind)\n",
    "\n",
    "#         out1 = this_pc.select_by_index(ind[:cut])\n",
    "#         out2 = next_pc.select_by_index(ind[cut:])\n",
    "#     else:\n",
    "#         print(\"Empty point cloud; removing no outliers\")\n",
    "    \n",
    "#     return out1, out2"
   ]
  },
  {
   "cell_type": "code",
   "execution_count": null,
   "metadata": {},
   "outputs": [],
   "source": [
    "# Build correspondence between each pair of planes\n",
    "# import copy\n",
    "\n",
    "# all_icp = []\n",
    "# opt = {'max_correspondence_distance':10.0}\n",
    "\n",
    "# for i in range(10, num_slices-1):\n",
    "# #     print(f\"{i} / {num_slices}\")\n",
    "# #     this_pc = \n",
    "# #     next_pc = \n",
    "    \n",
    "#     this_pc, next_pc = remove_outliers_from_2_clouds(copy.deepcopy(all_keypoints_pcs[i]), copy.deepcopy(all_keypoints_pcs[i+1]))\n",
    "    \n",
    "#     reg = o3d.pipelines.registration.registration_icp(this_pc, next_pc, **opt)\n",
    "    \n",
    "#     all_icp.append(reg)"
   ]
  },
  {
   "cell_type": "code",
   "execution_count": null,
   "metadata": {},
   "outputs": [],
   "source": [
    "# # Try correspondence via global registration, not ICP\n",
    "\n",
    "# all_icp = []\n",
    "# feature_opt = {'search_param':o3d.geometry.KDTreeSearchParamHybrid(radius=50.0, max_nn=10)}\n",
    "\n",
    "# for i in range(10, num_slices-1):\n",
    "# #     print(f\"{i} / {num_slices}\")\n",
    "#     this_pc = all_keypoints_pcs[i]\n",
    "#     next_pc = all_keypoints_pcs[i+1]\n",
    "    \n",
    "#     # Generate features\n",
    "#     f1 = o3d.pipelines.registration.compute_fpfh_feature(this_pc, **feature_opt)\n",
    "#     f2 = o3d.pipelines.registration.compute_fpfh_feature(next_pc, **feature_opt)\n",
    "    \n",
    "#     reg =  o3d.pipelines.registration.registration_ransac_based_on_feature_matching(this_pc, next_pc, f1, f2)\n",
    "    \n",
    "#     all_icp.append(reg)"
   ]
  },
  {
   "cell_type": "markdown",
   "metadata": {},
   "source": [
    "## Simplest: find peaks"
   ]
  },
  {
   "cell_type": "code",
   "execution_count": null,
   "metadata": {},
   "outputs": [],
   "source": [
    "from skimage.feature import peak_local_max"
   ]
  },
  {
   "cell_type": "code",
   "execution_count": null,
   "metadata": {},
   "outputs": [],
   "source": [
    "# Background subtraction:\n",
    "# https://docs.opencv.org/3.3.0/db/d5c/tutorial_py_bg_subtraction.html\n",
    "# Peak detection:\n",
    "# https://scikit-image.org/docs/dev/auto_examples/segmentation/plot_peak_local_max.html\n",
    "\n",
    "#im1 = np.abs(cv2.GaussianBlur(im1_raw,(3,3),0) - np.min(im1_raw))\n",
    "im1 = cv2.GaussianBlur(im1_raw,(3,3),0)\n",
    "fgbg = cv2.createBackgroundSubtractorKNN()\n",
    "fgbg.apply(im1)\n",
    "\n",
    "%matplotlib notebook\n",
    "plt.imshow(im1)\n",
    "\n",
    "thresh = np.mean(im1)+10\n",
    "coordinates = peak_local_max(im1, min_distance=5, num_peaks=200, threshold_abs=thresh)"
   ]
  },
  {
   "cell_type": "code",
   "execution_count": null,
   "metadata": {},
   "outputs": [],
   "source": [
    "\n",
    "plt.imshow(im1, cmap=plt.cm.gray)\n",
    "plt.plot(coordinates[:, 1], coordinates[:, 0], 'r.')"
   ]
  },
  {
   "cell_type": "code",
   "execution_count": null,
   "metadata": {},
   "outputs": [],
   "source": []
  },
  {
   "cell_type": "markdown",
   "metadata": {},
   "source": [
    "## Thresholds"
   ]
  },
  {
   "cell_type": "code",
   "execution_count": null,
   "metadata": {},
   "outputs": [],
   "source": [
    "# Do some preprocessing\n",
    "# From: https://opencv-python-tutroals.readthedocs.io/en/latest/py_tutorials/py_imgproc/py_thresholding/py_thresholding.html\n",
    "# Otsu's thresholding\n",
    "im1 = cv2.GaussianBlur(im1_raw,(5,5),0)\n",
    "#ret2,im1 = cv2.threshold(im1,0,255,cv2.THRESH_BINARY+cv2.THRESH_OTSU)\n",
    "im1 = cv2.adaptiveThreshold(im1,255,cv2.ADAPTIVE_THRESH_GAUSSIAN_C,\\\n",
    "            cv2.THRESH_BINARY,11,2)\n",
    "\n",
    "# Make neurons dark spts\n",
    "#im1 = cv2.bitwise_not(im1)"
   ]
  },
  {
   "cell_type": "code",
   "execution_count": null,
   "metadata": {},
   "outputs": [],
   "source": [
    "%matplotlib inline\n",
    "plt.imshow(im1)"
   ]
  },
  {
   "cell_type": "markdown",
   "metadata": {},
   "source": [
    "## Contours"
   ]
  },
  {
   "cell_type": "code",
   "execution_count": null,
   "metadata": {},
   "outputs": [],
   "source": [
    "# Just find contours\n",
    "%matplotlib inline\n",
    "contours, hierarchy = cv2.findContours(im1, cv2.RETR_TREE, cv2.CHAIN_APPROX_SIMPLE)\n",
    "\n",
    "im = np.expand_dims(im1, axis=2).repeat(3, axis=2) \n",
    "for k, _ in enumerate(contours):\n",
    "    im = cv2.drawContours(im, contours, k, (0, 230, 255), 6)\n",
    "plt.imshow(im)"
   ]
  },
  {
   "cell_type": "markdown",
   "metadata": {},
   "source": [
    "## Try to track via clustering"
   ]
  },
  {
   "cell_type": "code",
   "execution_count": null,
   "metadata": {
    "scrolled": true
   },
   "outputs": [],
   "source": [
    "\n",
    "all_keypoints = []\n",
    "all_ims_with_kps = []\n",
    "    \n",
    "for i in range(num_slices):\n",
    "#     print(f\"{i} / {num_slices}\")\n",
    "    im1_raw = f(dat, i)\n",
    "    kp, im1 = detect_blobs(im1_raw)\n",
    "    # Add to make the format: ZXY\n",
    "    kp_3d = np.array([np.hstack((i, row.pt)) for row in kp])\n",
    "    all_keypoints.extend(kp_3d)\n",
    "    \n",
    "    im_with_keypoints = cv2.drawKeypoints(im1, kp, np.array([]), (255,0,0), cv2.DRAW_MATCHES_FLAGS_DRAW_RICH_KEYPOINTS)\n",
    "    all_ims_with_kps.append(im_with_keypoints)\n",
    "\n",
    "all_keypoints = np.array(all_keypoints)"
   ]
  },
  {
   "cell_type": "code",
   "execution_count": null,
   "metadata": {},
   "outputs": [],
   "source": [
    "def my_plot(i): \n",
    "    plt.imshow(all_ims_with_kps[i])\n",
    "    plt.title(f\"{i}\")"
   ]
  },
  {
   "cell_type": "code",
   "execution_count": null,
   "metadata": {},
   "outputs": [],
   "source": [
    "interact(my_plot, i=(0,num_slices-1))"
   ]
  },
  {
   "cell_type": "code",
   "execution_count": null,
   "metadata": {},
   "outputs": [],
   "source": [
    "\n",
    "def combine_2d_blobs(all_keypoints, min_z_detections=3):\n",
    "    \"\"\"\n",
    "    Assumes that a real neuron will be detected on more than one plane, and combines them\n",
    "    \"\"\"\n",
    "    \n",
    "#     all_xyz = all_keypoints[:].pt\n",
    "    n, point_cloud, tree = build_feature_tree(all_keypoints)\n",
    "    \n",
    "    return point_cloud"
   ]
  },
  {
   "cell_type": "code",
   "execution_count": null,
   "metadata": {},
   "outputs": [],
   "source": [
    "pc = combine_2d_blobs(all_keypoints)"
   ]
  },
  {
   "cell_type": "code",
   "execution_count": null,
   "metadata": {},
   "outputs": [],
   "source": [
    "#o3d.visualization.draw_geometries([pc])"
   ]
  },
  {
   "cell_type": "code",
   "execution_count": null,
   "metadata": {},
   "outputs": [],
   "source": [
    "# from sklearn.cluster import SpectralClustering\n",
    "# opt = {'n_neighbors':2,\n",
    "#        'n_clusters':150}\n",
    "# clusterer = SpectralClustering(**opt)"
   ]
  },
  {
   "cell_type": "code",
   "execution_count": null,
   "metadata": {},
   "outputs": [],
   "source": [
    "# from sklearn.cluster import AgglomerativeClustering\n",
    "# opt = {'distance_threshold':2.0,\n",
    "#        'compute_full_tree':True,\n",
    "#        'linkage':'single',\n",
    "#        'n_clusters':None}\n",
    "# clusterer = AgglomerativeClustering(**opt)"
   ]
  },
  {
   "cell_type": "code",
   "execution_count": null,
   "metadata": {},
   "outputs": [],
   "source": [
    "from sklearn.cluster import OPTICS\n",
    "opt = {'min_samples':2,\n",
    "       'max_eps':3.0}\n",
    "clusterer = OPTICS(**opt)"
   ]
  },
  {
   "cell_type": "code",
   "execution_count": null,
   "metadata": {},
   "outputs": [],
   "source": []
  },
  {
   "cell_type": "code",
   "execution_count": null,
   "metadata": {},
   "outputs": [],
   "source": [
    "labels = clusterer.fit_predict(pc.points)"
   ]
  },
  {
   "cell_type": "code",
   "execution_count": null,
   "metadata": {},
   "outputs": [],
   "source": [
    "visualize_cluster_labels(labels, pc)"
   ]
  },
  {
   "cell_type": "markdown",
   "metadata": {},
   "source": [
    "## Simple test: dbscan"
   ]
  },
  {
   "cell_type": "code",
   "execution_count": null,
   "metadata": {},
   "outputs": [],
   "source": [
    "labels = np.array(pc.cluster_dbscan(eps=1.5, min_points=3))"
   ]
  },
  {
   "cell_type": "code",
   "execution_count": null,
   "metadata": {},
   "outputs": [],
   "source": [
    "visualize_cluster_labels(labels, pc)"
   ]
  },
  {
   "cell_type": "code",
   "execution_count": null,
   "metadata": {},
   "outputs": [],
   "source": []
  }
 ],
 "metadata": {
  "kernelspec": {
   "display_name": "Python 3",
   "language": "python",
   "name": "python3"
  },
  "language_info": {
   "codemirror_mode": {
    "name": "ipython",
    "version": 3
   },
   "file_extension": ".py",
   "mimetype": "text/x-python",
   "name": "python",
   "nbconvert_exporter": "python",
   "pygments_lexer": "ipython3",
   "version": "3.7.9"
  }
 },
 "nbformat": 4,
 "nbformat_minor": 4
}
