{
 "cells": [
  {
   "cell_type": "markdown",
   "metadata": {},
   "source": [
    "# DLC-style visualization of tracked points"
   ]
  },
  {
   "cell_type": "markdown",
   "metadata": {},
   "source": [
    "## First: what format does DLC expect?"
   ]
  },
  {
   "cell_type": "code",
   "execution_count": 1,
   "metadata": {},
   "outputs": [],
   "source": [
    "\n",
    "import os\n",
    "import deeplabcut\n",
    "from DLC_for_WBFM.bin.configuration_definition import *\n",
    "import pandas as pd\n",
    "from DLC_for_WBFM.utils.video_and_data_conversion.video_conversion_utils import write_minimax_projection_from_btf\n",
    "import numpy as np\n",
    "from tqdm import tqdm\n",
    "import deeplabcut\n",
    "from DLC_for_WBFM.utils.preprocessing.DLC_utils import create_dlc_project_from_config\n",
    "from DLC_for_WBFM.utils.preprocessing.convert_matlab_annotations_to_DLC import csv_annotations2config_names\n",
    "from DLC_for_WBFM.utils.feature_detection.visualize_using_dlc import *\n",
    "%load_ext autoreload\n",
    "%autoreload 2\n"
   ]
  },
  {
   "cell_type": "code",
   "execution_count": 2,
   "metadata": {},
   "outputs": [],
   "source": [
    "# Get the format for a DLC annotation\n",
    "proj_folder = r'C:\\Users\\charles.fieseler\\Documents\\Current_work\\DLC_for_WBFM\\DLC_Projects\\wbfm_3d-Charlie-2020-11-02'\n",
    "annotations = r'videos\\test2020-10-22_mcherry_fr1000_sl10_15DLC_resnet50_wbfm_3dNov2shuffle1_200000.h5'\n",
    "\n",
    "fname = os.path.join(proj_folder, annotations)\n"
   ]
  },
  {
   "cell_type": "code",
   "execution_count": 14,
   "metadata": {},
   "outputs": [],
   "source": [
    "dlc_df = pd.read_hdf(fname)"
   ]
  },
  {
   "cell_type": "code",
   "execution_count": 15,
   "metadata": {},
   "outputs": [],
   "source": [
    "# list(dlc_df.columns)"
   ]
  },
  {
   "cell_type": "code",
   "execution_count": 16,
   "metadata": {},
   "outputs": [],
   "source": [
    "#dlc_df"
   ]
  },
  {
   "cell_type": "markdown",
   "metadata": {},
   "source": [
    "## Import tracklets and write in this format"
   ]
  },
  {
   "cell_type": "code",
   "execution_count": 58,
   "metadata": {},
   "outputs": [],
   "source": [
    "#df"
   ]
  },
  {
   "cell_type": "code",
   "execution_count": 60,
   "metadata": {},
   "outputs": [],
   "source": [
    "#new_dlc_df"
   ]
  },
  {
   "cell_type": "markdown",
   "metadata": {},
   "source": [
    "# Make a raw and labeled .avi video\n",
    "\n",
    "## Use a config file to organize everything"
   ]
  },
  {
   "cell_type": "code",
   "execution_count": 11,
   "metadata": {},
   "outputs": [
    {
     "name": "stdout",
     "output_type": "stream",
     "text": [
      "Created Project folder \"C:\\Users\\charles.fieseler\\Documents\\Current_work\\DLC_for_WBFM\\example-feature-workflow\\feature_alignment\\feature_alignment-Charlie-2021-02-19\"\n"
     ]
    }
   ],
   "source": [
    "# Define the project folder\n",
    "project_folder = r'C:\\Users\\charles.fieseler\\Documents\\Current_work\\DLC_for_WBFM\\example-feature-workflow\\feature_alignment'\n",
    "\n",
    "# Initialize the config files\n",
    "task_name = 'feature_alignment'\n",
    "experimenter = 'Charlie'\n",
    "\n",
    "config = DLCForWBFMConfig(task_name=task_name, experimenter=experimenter)\n",
    "\n",
    "# Note: Windows-style filename\n",
    "# working_directory = '.'\n",
    "\n",
    "config = create_project(config, project_folder)"
   ]
  },
  {
   "cell_type": "code",
   "execution_count": null,
   "metadata": {},
   "outputs": [],
   "source": []
  },
  {
   "cell_type": "code",
   "execution_count": null,
   "metadata": {},
   "outputs": [],
   "source": []
  },
  {
   "cell_type": "code",
   "execution_count": 12,
   "metadata": {},
   "outputs": [],
   "source": [
    "# Get the 3d bigtiff folder\n",
    "bigtiff_folder = r'D:\\More-stabilized-wbfm'\n",
    "\n",
    "# Will get traces from two videos:\n",
    "btf_fname_red = r'test2020-10-22_16-15-20_test4-channel-0-pco_camera1\\test2020-10-22_16-15-20_test4-channel-0-pco_camera1bigtiff.btf'\n",
    "btf_fname_red = os.path.join(bigtiff_folder, btf_fname_red)\n",
    "btf_fname_green = r'test2020-10-22_16-15-20_test4-channel-1-pco_camera2\\test2020-10-22_16-15-20_test4-channel-1-pco_camera2bigtiff.btf'\n",
    "btf_fname_green = os.path.join(bigtiff_folder, btf_fname_green)\n",
    "\n",
    "red_avi_fname = None\n",
    "green_avi_fname = None\n",
    "\n",
    "# Create the first sub-object\n",
    "# This remembers the location of the raw data\n",
    "datafiles = DLCForWBFMDatafiles(btf_fname_red, btf_fname_green, red_avi_fname, green_avi_fname)\n",
    "\n",
    "config.datafiles = datafiles\n",
    "save_config(config)"
   ]
  },
  {
   "cell_type": "code",
   "execution_count": 13,
   "metadata": {},
   "outputs": [
    {
     "name": "stdout",
     "output_type": "stream",
     "text": [
      "=======================================\n",
      "                Field values:\n",
      "                task_name: feature_alignment \n",
      "                experimenter: Charlie \n",
      "                config_filename: C:\\Users\\charles.fieseler\\Documents\\Current_work\\DLC_for_WBFM\\example-feature-workflow\\feature_alignment\\feature_alignment-Charlie-2021-02-19\\config.pickle\n",
      "                =======================================\n",
      "                Which subclasses are initialized?\n",
      "                datafiles: True\n",
      "                preprocessing: False\n",
      "                tracking: False\n",
      "                traces: False\n",
      "\n"
     ]
    }
   ],
   "source": [
    "print(config)"
   ]
  },
  {
   "cell_type": "code",
   "execution_count": 16,
   "metadata": {},
   "outputs": [],
   "source": [
    "# Set up options for the .avi video\n",
    "# opt = {'start_volume':           0, \n",
    "#        'num_frames':             500, \n",
    "#        'num_total_slices':       33, \n",
    "#        'num_crop_slices':        11, \n",
    "#        'center_slice':           12, \n",
    "#        'alpha':                  0.15,\n",
    "#        'fps':                    5.0,\n",
    "#        'red_and_green_mirrored': True}\n",
    "opt = {'start_volume':           50, \n",
    "       'num_frames':             500, \n",
    "       'num_total_slices':       33, \n",
    "       'num_crop_slices':        11, \n",
    "       'center_slice':           14, \n",
    "       'alpha':                  0.15,\n",
    "       'fps':                    5.0,\n",
    "       'red_and_green_mirrored': True}\n",
    "preprocessing = DLCForWBFMPreprocessing(**opt)\n",
    "\n",
    "config.preprocessing = preprocessing\n",
    "save_config(config)"
   ]
  },
  {
   "cell_type": "code",
   "execution_count": 17,
   "metadata": {},
   "outputs": [
    {
     "name": "stdout",
     "output_type": "stream",
     "text": [
      "Converting volume index 50 to frame index 1650\n",
      "Converting volume index 50 to frame index 1650\n"
     ]
    }
   ],
   "source": [
    "# Actually write the RAW video\n",
    "\n",
    "config = write_minimax_projection_from_btf(config)"
   ]
  },
  {
   "cell_type": "markdown",
   "metadata": {},
   "source": [
    "## Use the new DLC folder to hold everything\n",
    "\n",
    "i.e. import the tracklets, and write in DLC format\n",
    "\n",
    "NOTE: MOVE THE PICKLE FILES INTO THIS FOLDER MANUALLY (for now)"
   ]
  },
  {
   "cell_type": "code",
   "execution_count": 14,
   "metadata": {},
   "outputs": [],
   "source": [
    "project_folder = config.get_dirname()"
   ]
  },
  {
   "cell_type": "code",
   "execution_count": 4,
   "metadata": {},
   "outputs": [],
   "source": [
    "#fname = os.path.join(project_folder, 'clust_df_dat.pickle')\n",
    "# fname = os.path.join(project_folder, 'clust_df_dat_minimax.pickle')\n",
    "fname = os.path.join(project_folder, 'stitched_df_dat.pickle')\n",
    "clust_df = pd.read_pickle(fname)"
   ]
  },
  {
   "cell_type": "code",
   "execution_count": 5,
   "metadata": {},
   "outputs": [
    {
     "name": "stderr",
     "output_type": "stream",
     "text": [
      "100%|████████████████████████████████████████████████████████████████████████████| 8518/8518 [00:02<00:00, 3189.75it/s]\n"
     ]
    }
   ],
   "source": [
    "new_dlc_df = build_dlc_annotation_all(clust_df, min_length=50, num_frames=500, verbose=0)"
   ]
  },
  {
   "cell_type": "code",
   "execution_count": 15,
   "metadata": {},
   "outputs": [],
   "source": [
    "#scorer = 'feature_tracker'\n",
    "scorer = 'feature_tracker_stitched'\n",
    "\n",
    "# output_path = os.path.join(project_folder)\n",
    "new_dlc_df.to_csv(os.path.join(project_folder,\"CollectedData_\" + scorer + \".csv\"))\n",
    "new_dlc_df.to_hdf(os.path.join(project_folder,\"CollectedData_\" + scorer + \".h5\"), key=\"df_with_missing\", mode=\"w\")\n",
    "new_dlc_df.to_pickle(os.path.join(project_folder,\"CollectedData_\" + scorer + \".pickle\"))\n",
    "# deeplabcut.convertcsv2h5(path_config_file, userfeedback=False)"
   ]
  },
  {
   "cell_type": "markdown",
   "metadata": {},
   "source": [
    "## Now, the annotations themselves"
   ]
  },
  {
   "cell_type": "code",
   "execution_count": 3,
   "metadata": {},
   "outputs": [],
   "source": [
    "######\n",
    "# Only if restarting\n",
    "# fname = os.path.join('feature_alignment-Charlie-2021-01-06','config.pickle')\n",
    "# config = load_config(fname)"
   ]
  },
  {
   "cell_type": "code",
   "execution_count": 17,
   "metadata": {},
   "outputs": [],
   "source": [
    "# Save the annotations in the config file\n",
    "project_folder = config.get_dirname()\n",
    "\n",
    "#annotation_fname = 'CollectedData_feature_tracker.h5'\n",
    "annotation_fname = 'CollectedData_feature_tracker_stitched.h5'\n",
    "annotation_fname = os.path.join(project_folder, annotation_fname)\n",
    "\n",
    "vid_fname = r'redfr1000_sl7_17.avi'\n",
    "vid_fname = os.path.join(project_folder, vid_fname)\n",
    "\n",
    "tracking = DLCForWBFMTracking(project_folder, vid_fname, annotation_fname)\n",
    "\n",
    "config.tracking = tracking\n",
    "save_config(config)"
   ]
  },
  {
   "cell_type": "markdown",
   "metadata": {},
   "source": [
    "## Finally, label the video using the config file"
   ]
  },
  {
   "cell_type": "markdown",
   "metadata": {},
   "source": [
    "### Only create a project if needed"
   ]
  },
  {
   "cell_type": "code",
   "execution_count": 20,
   "metadata": {},
   "outputs": [
    {
     "name": "stdout",
     "output_type": "stream",
     "text": [
      "Created \"C:\\Users\\charles.fieseler\\Documents\\Current_work\\DLC_for_WBFM\\example-feature-workflow\\feature_alignment\\feature_alignment-Charlie-2021-02-19\\f1-C-2021-02-19\\videos\"\n",
      "Created \"C:\\Users\\charles.fieseler\\Documents\\Current_work\\DLC_for_WBFM\\example-feature-workflow\\feature_alignment\\feature_alignment-Charlie-2021-02-19\\f1-C-2021-02-19\\labeled-data\"\n",
      "Created \"C:\\Users\\charles.fieseler\\Documents\\Current_work\\DLC_for_WBFM\\example-feature-workflow\\feature_alignment\\feature_alignment-Charlie-2021-02-19\\f1-C-2021-02-19\\training-datasets\"\n",
      "Created \"C:\\Users\\charles.fieseler\\Documents\\Current_work\\DLC_for_WBFM\\example-feature-workflow\\feature_alignment\\feature_alignment-Charlie-2021-02-19\\f1-C-2021-02-19\\dlc-models\"\n",
      "Copying the videos\n",
      "C:\\Users\\charles.fieseler\\Documents\\Current_work\\DLC_for_WBFM\\example-feature-workflow\\feature_alignment\\feature_alignment-Charlie-2021-02-19\\f1-C-2021-02-19\\videos\\redfr500_sl5_15.avi\n",
      "Generated \"C:\\Users\\charles.fieseler\\Documents\\Current_work\\DLC_for_WBFM\\example-feature-workflow\\feature_alignment\\feature_alignment-Charlie-2021-02-19\\f1-C-2021-02-19\\config.yaml\"\n",
      "\n",
      "A new project with name f1-C-2021-02-19 is created at C:\\Users\\charles.fieseler\\Documents\\Current_work\\DLC_for_WBFM\\example-feature-workflow\\feature_alignment\\feature_alignment-Charlie-2021-02-19 and a configurable file (config.yaml) is stored there. Change the parameters in this file to adapt to your project's needs.\n",
      " Once you have changed the configuration file, use the function 'extract_frames' to select frames for labeling.\n",
      ". [OPTIONAL] Use the function 'add_new_videos' to add new videos to your project (at any stage).\n"
     ]
    }
   ],
   "source": [
    "dlc_config = create_dlc_project_from_config(config, '1')"
   ]
  },
  {
   "cell_type": "code",
   "execution_count": 31,
   "metadata": {},
   "outputs": [
    {
     "data": {
      "text/plain": [
       "'C:\\\\Users\\\\charles.fieseler\\\\Documents\\\\Current_work\\\\DLC_for_WBFM\\\\example-feature-workflow\\\\feature_alignment\\\\feature_alignment-Charlie-2021-01-06\\\\f1-C-2021-01-06\\\\config.yaml'"
      ]
     },
     "execution_count": 31,
     "metadata": {},
     "output_type": "execute_result"
    }
   ],
   "source": [
    "# IF NOT DEFINED ABOVE\n",
    "dlc_config = config.tracking.DLC_config_fname\n",
    "dlc_config"
   ]
  },
  {
   "cell_type": "code",
   "execution_count": 39,
   "metadata": {},
   "outputs": [],
   "source": [
    "#config"
   ]
  },
  {
   "cell_type": "code",
   "execution_count": 12,
   "metadata": {},
   "outputs": [],
   "source": [
    "#bugfix\n",
    "#dlc_config = os.path.join('C:\\\\Users\\\\charles.fieseler\\\\Documents\\\\Current_work\\\\DLC_for_WBFM\\\\example-feature-workflow\\\\feature_alignment\\\\feature_alignment-Charlie-2021-01-06\\\\f1-C-2021-01-06', 'config.yaml')\n",
    "#dlc_config = os.path.join(dlc_config, 'config.yaml')\n",
    "#config.tracking.DLC_config_fname = dlc_config\n",
    "#save_config(config)"
   ]
  },
  {
   "cell_type": "code",
   "execution_count": 19,
   "metadata": {},
   "outputs": [
    {
     "name": "stdout",
     "output_type": "stream",
     "text": [
      "Adding body part annotations for 429 neurons\n",
      "Finished! Check the config.yaml file to make sure the bodyparts are properly written\n"
     ]
    }
   ],
   "source": [
    "# Make sure the dlc config file has all the neuron names\n",
    "csv_annotations = config.tracking.annotation_fname.replace('h5', 'csv')\n",
    "csv_annotations2config_names(dlc_config, csv_annotations)"
   ]
  },
  {
   "cell_type": "code",
   "execution_count": 22,
   "metadata": {},
   "outputs": [],
   "source": [
    "# Use my wrapper function\n",
    "project_folder = config.get_dirname()\n",
    "\n",
    "video_fname = config.datafiles.red_avi_fname\n",
    "\n",
    "#scorer = 'feature_tracker'\n",
    "scorer = 'feature_tracker_stitched'\n",
    "df = pd.read_hdf(os.path.join(project_folder,\"CollectedData_\" + scorer + \".h5\"), key=\"df_with_missing\")\n"
   ]
  },
  {
   "cell_type": "code",
   "execution_count": 28,
   "metadata": {},
   "outputs": [
    {
     "name": "stderr",
     "output_type": "stream",
     "text": [
      "  2%|█▊                                                                               | 11/500 [00:00<00:05, 90.06it/s]"
     ]
    },
    {
     "name": "stdout",
     "output_type": "stream",
     "text": [
      "Duration of video [s]: 50.0, recorded with 10.0 fps!\n",
      "Overall # of frames: 500 with cropped frame dimensions: 900 700\n",
      "Generating frames and creating video.\n"
     ]
    },
    {
     "name": "stderr",
     "output_type": "stream",
     "text": [
      "100%|████████████████████████████████████████████████████████████████████████████████| 500/500 [00:06<00:00, 77.57it/s]\n"
     ]
    }
   ],
   "source": [
    "make_labeled_video_custom_annotations(dlc_config, video_fname, df)"
   ]
  },
  {
   "cell_type": "code",
   "execution_count": null,
   "metadata": {},
   "outputs": [],
   "source": []
  },
  {
   "cell_type": "markdown",
   "metadata": {},
   "source": [
    "# Do this using a unified function\n",
    "\n",
    "## First, assuming the raw video and DLC folder is already made"
   ]
  },
  {
   "cell_type": "code",
   "execution_count": 31,
   "metadata": {},
   "outputs": [],
   "source": [
    "\n",
    "                         "
   ]
  },
  {
   "cell_type": "code",
   "execution_count": 20,
   "metadata": {},
   "outputs": [],
   "source": [
    "project_folder = 'feature_alignment-Charlie-2021-01-22'\n",
    "\n",
    "# Overall project settings, including link to video\n",
    "config_fname = 'config.pickle'\n",
    "config_fname = os.path.join(project_folder, config_fname)\n",
    "# The tracks, saved as a dataframe\n",
    "# df_fname = 'clust_df_dat_affine.pickle'\n",
    "# df_fname = 'clust_df_dat_prealigned.pickle'\n",
    "# df_fname = 'clust_df_dat_affine_nominimax.pickle'\n",
    "# df_fname = 'clust_df_dat_prealigned-stitched.pickle'\n",
    "df_fname = 'clust_df_dat_affine-and-features.pickle'\n",
    "# df_fname = 'clust_df_dat_affine-and-features-stitched.pickle'\n",
    "# df_fname = 'clust_df_dat_prealigned-stitched100-2.pickle'\n",
    "# df_fname = 'clust_df_dat_sequential7.pickle'\n",
    "\n",
    "opt = {'total_num_frames':500, 'min_track_length':300}"
   ]
  },
  {
   "cell_type": "code",
   "execution_count": 21,
   "metadata": {},
   "outputs": [
    {
     "name": "stderr",
     "output_type": "stream",
     "text": [
      "100%|████████████████████████████████████████████████████████| 4813/4813 [00:00<00:00, 13155.85it/s]\n",
      "  0%|                                                                       | 0/500 [00:00<?, ?it/s]"
     ]
    },
    {
     "name": "stdout",
     "output_type": "stream",
     "text": [
      "Found 500 tracks of length >300\n",
      "Adding body part annotations for 5 neurons\n",
      "Finished! Check the config.yaml file to make sure the bodyparts are properly written\n",
      "Duration of video [s]: 50.0, recorded with 10.0 fps!\n",
      "Overall # of frames: 500 with cropped frame dimensions: 900 700\n",
      "Generating frames and creating video.\n"
     ]
    },
    {
     "name": "stderr",
     "output_type": "stream",
     "text": [
      "100%|████████████████████████████████████████████████████████████| 500/500 [00:04<00:00, 109.04it/s]\n"
     ]
    }
   ],
   "source": [
    "new_dlc_df = create_video_from_annotations(config_fname, df_fname, **opt)"
   ]
  },
  {
   "cell_type": "markdown",
   "metadata": {},
   "source": [
    "### OTHER FOLDER, for starting at volume 50\n"
   ]
  },
  {
   "cell_type": "code",
   "execution_count": null,
   "metadata": {},
   "outputs": [],
   "source": []
  },
  {
   "cell_type": "code",
   "execution_count": 3,
   "metadata": {},
   "outputs": [],
   "source": [
    "project_folder = 'feature_alignment-Charlie-2021-02-19'\n",
    "config_fname = 'config.pickle'\n",
    "config_fname = os.path.join(project_folder, config_fname)\n",
    "\n",
    "# df_fname = 'clust_df_dat_sequential7.pickle'\n",
    "# df_fname = 'clust_df_dat_sequential19-gp.pickle'\n",
    "# df_fname = 'clust_df_dat_sequential19.pickle'\n",
    "# df_fname = 'clust_df_dat_sequential7-fullbipartite.pickle'\n",
    "# df_fname = 'clust_df_dat_sequential-stardist.pickle'\n",
    "# df_fname = 'clust_df_dat_reference-11.pickle'\n",
    "# df_fname = 'clust_df_dat_reference-31.pickle'\n",
    "df_fname = 'clust_df_dat_bipartite-stardist.pickle'\n",
    "\n",
    "\n",
    "opt = {'total_num_frames':500, 'min_track_length':400}"
   ]
  },
  {
   "cell_type": "code",
   "execution_count": 4,
   "metadata": {},
   "outputs": [
    {
     "name": "stderr",
     "output_type": "stream",
     "text": [
      "100%|███████████████████████████████████████████████████████████████████████████| 3001/3001 [00:00<00:00, 13712.67it/s]"
     ]
    },
    {
     "name": "stdout",
     "output_type": "stream",
     "text": [
      "Found no tracks long enough; aborting\n"
     ]
    },
    {
     "name": "stderr",
     "output_type": "stream",
     "text": [
      "\n"
     ]
    }
   ],
   "source": [
    "new_dlc_df = create_video_from_annotations(config_fname, df_fname, **opt)"
   ]
  },
  {
   "cell_type": "code",
   "execution_count": 5,
   "metadata": {},
   "outputs": [],
   "source": [
    "new_dlc_df"
   ]
  },
  {
   "cell_type": "code",
   "execution_count": 4,
   "metadata": {},
   "outputs": [
    {
     "data": {
      "text/plain": [
       "DLCForWBFMConfig(task_name='feature_alignment', experimenter='Charlie', datafiles=DLCForWBFMDatafiles(red_bigtiff_fname='D:\\\\More-stabilized-wbfm\\\\test2020-10-22_16-15-20_test4-channel-0-pco_camera1\\\\test2020-10-22_16-15-20_test4-channel-0-pco_camera1bigtiff.btf', green_bigtiff_fname='D:\\\\More-stabilized-wbfm\\\\test2020-10-22_16-15-20_test4-channel-1-pco_camera2\\\\test2020-10-22_16-15-20_test4-channel-1-pco_camera2bigtiff.btf', red_avi_fname='C:\\\\Users\\\\charles.fieseler\\\\Documents\\\\Current_work\\\\DLC_for_WBFM\\\\example-feature-workflow\\\\feature_alignment\\\\feature_alignment-Charlie-2021-02-19\\\\redfr500_sl5_15.avi', green_avi_fname='C:\\\\Users\\\\charles.fieseler\\\\Documents\\\\Current_work\\\\DLC_for_WBFM\\\\example-feature-workflow\\\\feature_alignment\\\\feature_alignment-Charlie-2021-01-22\\\\greenfr500_sl7_17.avi'), preprocessing=DLCForWBFMPreprocessing(start_volume=0, num_frames=500, fps=5.0, alpha=0.15, num_total_slices=33, num_crop_slices=11, center_slice=12, red_and_green_mirrored=True), tracking=DLCForWBFMTracking(DLC_config_fname='C:\\\\Users\\\\charles.fieseler\\\\Documents\\\\Current_work\\\\DLC_for_WBFM\\\\example-feature-workflow\\\\feature_alignment\\\\feature_alignment-Charlie-2021-02-19\\\\f1-C-2021-02-19\\\\config.yaml', labeled_video_fname='C:\\\\Users\\\\charles.fieseler\\\\Documents\\\\Current_work\\\\DLC_for_WBFM\\\\example-feature-workflow\\\\feature_alignment\\\\feature_alignment-Charlie-2021-02-19\\\\redfr500_sl5_15.avi', annotation_fname='C:\\\\Users\\\\charles.fieseler\\\\Documents\\\\Current_work\\\\DLC_for_WBFM\\\\example-feature-workflow\\\\feature_alignment\\\\feature_alignment-Charlie-2021-02-19\\\\CollectedData_feature_tracker_sequential7-fullbipartite.h5'), traces=None, config_filename='C:\\\\Users\\\\charles.fieseler\\\\Documents\\\\Current_work\\\\DLC_for_WBFM\\\\example-feature-workflow\\\\feature_alignment\\\\feature_alignment-Charlie-2021-02-19\\\\config.pickle', verbose=1)"
      ]
     },
     "execution_count": 4,
     "metadata": {},
     "output_type": "execute_result"
    }
   ],
   "source": [
    "c = load_config(config_fname)\n",
    "c"
   ]
  },
  {
   "cell_type": "code",
   "execution_count": 33,
   "metadata": {},
   "outputs": [],
   "source": [
    "# Fix folders of this config file\n",
    "# c.datafiles.red_avi_fname = c.datafiles.red_avi_fname.replace('2021-01-22', '2021-02-19')\n",
    "c.datafiles.red_avi_fname = 'C:\\\\Users\\\\charles.fieseler\\\\Documents\\\\Current_work\\\\DLC_for_WBFM\\\\example-feature-workflow\\\\feature_alignment\\\\feature_alignment-Charlie-2021-02-19\\\\redfr500_sl5_15.avi'\n",
    "c.tracking.DLC_config_fname = c.tracking.DLC_config_fname.replace('2021-01-22', '2021-02-19')\n",
    "c.config_filename = c.config_filename.replace('2021-01-22', '2021-02-19')\n",
    "\n",
    "save_config(c)"
   ]
  },
  {
   "cell_type": "markdown",
   "metadata": {},
   "source": [
    "### Create one file per neuron\n"
   ]
  },
  {
   "cell_type": "code",
   "execution_count": 17,
   "metadata": {
    "scrolled": true
   },
   "outputs": [
    {
     "name": "stderr",
     "output_type": "stream",
     "text": [
      "  2%|█▉                                                                              | 12/500 [00:00<00:04, 111.05it/s]"
     ]
    },
    {
     "name": "stdout",
     "output_type": "stream",
     "text": [
      "Adding body part annotations for 2 neurons\n",
      "Finished! Check the config.yaml file to make sure the bodyparts are properly written\n",
      "Duration of video [s]: 50.0, recorded with 10.0 fps!\n",
      "Overall # of frames: 500 with cropped frame dimensions: 900 700\n",
      "Generating frames and creating video.\n"
     ]
    },
    {
     "name": "stderr",
     "output_type": "stream",
     "text": [
      "100%|███████████████████████████████████████████████████████████████████████████████| 500/500 [00:04<00:00, 107.60it/s]\n",
      "  2%|█▊                                                                              | 11/500 [00:00<00:04, 104.38it/s]"
     ]
    },
    {
     "name": "stdout",
     "output_type": "stream",
     "text": [
      "Adding body part annotations for 2 neurons\n",
      "Finished! Check the config.yaml file to make sure the bodyparts are properly written\n",
      "Duration of video [s]: 50.0, recorded with 10.0 fps!\n",
      "Overall # of frames: 500 with cropped frame dimensions: 900 700\n",
      "Generating frames and creating video.\n"
     ]
    },
    {
     "name": "stderr",
     "output_type": "stream",
     "text": [
      "100%|███████████████████████████████████████████████████████████████████████████████| 500/500 [00:04<00:00, 106.18it/s]\n",
      "  2%|█▌                                                                               | 10/500 [00:00<00:05, 93.31it/s]"
     ]
    },
    {
     "name": "stdout",
     "output_type": "stream",
     "text": [
      "Adding body part annotations for 2 neurons\n",
      "Finished! Check the config.yaml file to make sure the bodyparts are properly written\n",
      "Duration of video [s]: 50.0, recorded with 10.0 fps!\n",
      "Overall # of frames: 500 with cropped frame dimensions: 900 700\n",
      "Generating frames and creating video.\n"
     ]
    },
    {
     "name": "stderr",
     "output_type": "stream",
     "text": [
      "100%|███████████████████████████████████████████████████████████████████████████████| 500/500 [00:04<00:00, 110.06it/s]\n",
      "  2%|█▊                                                                               | 11/500 [00:00<00:04, 97.85it/s]"
     ]
    },
    {
     "name": "stdout",
     "output_type": "stream",
     "text": [
      "Adding body part annotations for 2 neurons\n",
      "Finished! Check the config.yaml file to make sure the bodyparts are properly written\n",
      "Duration of video [s]: 50.0, recorded with 10.0 fps!\n",
      "Overall # of frames: 500 with cropped frame dimensions: 900 700\n",
      "Generating frames and creating video.\n"
     ]
    },
    {
     "name": "stderr",
     "output_type": "stream",
     "text": [
      "100%|███████████████████████████████████████████████████████████████████████████████| 500/500 [00:04<00:00, 109.70it/s]\n",
      "  2%|█▊                                                                               | 11/500 [00:00<00:05, 95.24it/s]"
     ]
    },
    {
     "name": "stdout",
     "output_type": "stream",
     "text": [
      "Adding body part annotations for 2 neurons\n",
      "Finished! Check the config.yaml file to make sure the bodyparts are properly written\n",
      "Duration of video [s]: 50.0, recorded with 10.0 fps!\n",
      "Overall # of frames: 500 with cropped frame dimensions: 900 700\n",
      "Generating frames and creating video.\n"
     ]
    },
    {
     "name": "stderr",
     "output_type": "stream",
     "text": [
      "100%|███████████████████████████████████████████████████████████████████████████████| 500/500 [00:04<00:00, 109.99it/s]\n",
      "  2%|█▌                                                                               | 10/500 [00:00<00:05, 97.96it/s]"
     ]
    },
    {
     "name": "stdout",
     "output_type": "stream",
     "text": [
      "Adding body part annotations for 2 neurons\n",
      "Finished! Check the config.yaml file to make sure the bodyparts are properly written\n",
      "Duration of video [s]: 50.0, recorded with 10.0 fps!\n",
      "Overall # of frames: 500 with cropped frame dimensions: 900 700\n",
      "Generating frames and creating video.\n"
     ]
    },
    {
     "name": "stderr",
     "output_type": "stream",
     "text": [
      "100%|███████████████████████████████████████████████████████████████████████████████| 500/500 [00:04<00:00, 109.74it/s]\n",
      "  2%|█▌                                                                               | 10/500 [00:00<00:05, 87.13it/s]"
     ]
    },
    {
     "name": "stdout",
     "output_type": "stream",
     "text": [
      "Adding body part annotations for 2 neurons\n",
      "Finished! Check the config.yaml file to make sure the bodyparts are properly written\n",
      "Duration of video [s]: 50.0, recorded with 10.0 fps!\n",
      "Overall # of frames: 500 with cropped frame dimensions: 900 700\n",
      "Generating frames and creating video.\n"
     ]
    },
    {
     "name": "stderr",
     "output_type": "stream",
     "text": [
      "100%|███████████████████████████████████████████████████████████████████████████████| 500/500 [00:04<00:00, 109.12it/s]\n",
      "  2%|█▊                                                                               | 11/500 [00:00<00:05, 95.71it/s]"
     ]
    },
    {
     "name": "stdout",
     "output_type": "stream",
     "text": [
      "Adding body part annotations for 2 neurons\n",
      "Finished! Check the config.yaml file to make sure the bodyparts are properly written\n",
      "Duration of video [s]: 50.0, recorded with 10.0 fps!\n",
      "Overall # of frames: 500 with cropped frame dimensions: 900 700\n",
      "Generating frames and creating video.\n"
     ]
    },
    {
     "name": "stderr",
     "output_type": "stream",
     "text": [
      "100%|███████████████████████████████████████████████████████████████████████████████| 500/500 [00:04<00:00, 109.25it/s]\n",
      "  2%|█▍                                                                                | 9/500 [00:00<00:05, 89.98it/s]"
     ]
    },
    {
     "name": "stdout",
     "output_type": "stream",
     "text": [
      "Adding body part annotations for 2 neurons\n",
      "Finished! Check the config.yaml file to make sure the bodyparts are properly written\n",
      "Duration of video [s]: 50.0, recorded with 10.0 fps!\n",
      "Overall # of frames: 500 with cropped frame dimensions: 900 700\n",
      "Generating frames and creating video.\n"
     ]
    },
    {
     "name": "stderr",
     "output_type": "stream",
     "text": [
      "100%|███████████████████████████████████████████████████████████████████████████████| 500/500 [00:04<00:00, 109.18it/s]\n",
      "  2%|█▍                                                                                | 9/500 [00:00<00:05, 88.21it/s]"
     ]
    },
    {
     "name": "stdout",
     "output_type": "stream",
     "text": [
      "Adding body part annotations for 2 neurons\n",
      "Finished! Check the config.yaml file to make sure the bodyparts are properly written\n",
      "Duration of video [s]: 50.0, recorded with 10.0 fps!\n",
      "Overall # of frames: 500 with cropped frame dimensions: 900 700\n",
      "Generating frames and creating video.\n"
     ]
    },
    {
     "name": "stderr",
     "output_type": "stream",
     "text": [
      "100%|███████████████████████████████████████████████████████████████████████████████| 500/500 [00:04<00:00, 109.18it/s]"
     ]
    },
    {
     "name": "stdout",
     "output_type": "stream",
     "text": [
      "Finished making videos for 10 neurons\n"
     ]
    },
    {
     "name": "stderr",
     "output_type": "stream",
     "text": [
      "\n"
     ]
    }
   ],
   "source": [
    "out = create_many_videos_from_annotations(config_fname, df_fname, **opt, num_videos_to_make=10)"
   ]
  },
  {
   "cell_type": "code",
   "execution_count": 52,
   "metadata": {},
   "outputs": [
    {
     "name": "stderr",
     "output_type": "stream",
     "text": [
      "100%|██████████████████████████████████████████████████████████████████████| 3862/3862 [00:00<00:00, 11475.51it/s]\n"
     ]
    }
   ],
   "source": [
    "\n",
    "c = load_config(config_fname)\n",
    "project_folder = c.get_dirname()\n",
    "\n",
    "# Load the dataframe name, and produce DLC-style annotations\n",
    "with open(df_fname, 'rb') as f:\n",
    "    clust_df = pickle.load(f)\n",
    "opt = {'min_length':450, 'num_frames':500, 'verbose':0}\n",
    "new_dlc_df = build_dlc_annotation_all(clust_df, **opt)"
   ]
  },
  {
   "cell_type": "code",
   "execution_count": 31,
   "metadata": {},
   "outputs": [
    {
     "data": {
      "text/plain": [
       "'C:\\\\Users\\\\charles.fieseler\\\\Documents\\\\Current_work\\\\DLC_for_WBFM\\\\example-feature-workflow\\\\feature_alignment\\\\feature_alignment-Charlie-2021-01-22'"
      ]
     },
     "execution_count": 31,
     "metadata": {},
     "output_type": "execute_result"
    }
   ],
   "source": [
    "\n",
    "c = load_config(config_fname)\n",
    "project_folder = c.get_dirname()\n",
    "project_folder"
   ]
  },
  {
   "cell_type": "code",
   "execution_count": null,
   "metadata": {},
   "outputs": [],
   "source": []
  }
 ],
 "metadata": {
  "kernelspec": {
   "display_name": "Python [conda env:DLC-preprocessing]",
   "language": "python",
   "name": "conda-env-DLC-preprocessing-py"
  },
  "language_info": {
   "codemirror_mode": {
    "name": "ipython",
    "version": 3
   },
   "file_extension": ".py",
   "mimetype": "text/x-python",
   "name": "python",
   "nbconvert_exporter": "python",
   "pygments_lexer": "ipython3",
   "version": "3.7.9"
  }
 },
 "nbformat": 4,
 "nbformat_minor": 4
}
