{
 "cells": [
  {
   "cell_type": "markdown",
   "metadata": {},
   "source": [
    "# Full pipeline one step at a time"
   ]
  },
  {
   "cell_type": "code",
   "execution_count": 35,
   "metadata": {},
   "outputs": [
    {
     "name": "stdout",
     "output_type": "stream",
     "text": [
      "The autoreload extension is already loaded. To reload it, use:\n",
      "  %reload_ext autoreload\n"
     ]
    }
   ],
   "source": [
    "import os\n",
    "import numpy as np\n",
    "import tifffile\n",
    "import matplotlib.pyplot as plt\n",
    "%load_ext autoreload\n",
    "%autoreload 2\n",
    "\n",
    "import itertools\n",
    "from tqdm import tqdm\n",
    "\n",
    "from DLC_for_WBFM.utils.feature_detection.utils_features import *\n",
    "from DLC_for_WBFM.utils.feature_detection.utils_tracklets import *\n",
    "from DLC_for_WBFM.utils.feature_detection.utils_detection import *\n",
    "from DLC_for_WBFM.utils.feature_detection.visualization_tracks import *\n",
    "from DLC_for_WBFM.utils.video_and_data_conversion.import_video_as_array import *\n",
    "from DLC_for_WBFM.utils.point_clouds.utils_bcpd import match_2vol_BCPD, match_2vol_rigid\n"
   ]
  },
  {
   "cell_type": "code",
   "execution_count": 2,
   "metadata": {},
   "outputs": [],
   "source": [
    "# Get the 3d bigtiff folder\n",
    "bigtiff_folder = r'D:\\More-stabilized-wbfm'\n",
    "\n",
    "btf_fname_red = r'test2020-10-22_16-15-20_test4-channel-0-pco_camera1\\test2020-10-22_16-15-20_test4-channel-0-pco_camera1bigtiff.btf'\n",
    "btf_fname_red = os.path.join(bigtiff_folder, btf_fname_red)\n",
    "\n",
    "# Actually import\n",
    "import_opt = {'num_slices':33, 'alpha':0.15}\n",
    "\n",
    "dat0_vid = get_single_volume(btf_fname_red, 0, **import_opt)\n",
    "dat1_vid = get_single_volume(btf_fname_red, 1, **import_opt)"
   ]
  },
  {
   "cell_type": "markdown",
   "metadata": {},
   "source": [
    "## First, single-volume segmentation"
   ]
  },
  {
   "cell_type": "code",
   "execution_count": 3,
   "metadata": {},
   "outputs": [
    {
     "name": "stdout",
     "output_type": "stream",
     "text": [
      "[Open3D WARNING] [KDTreeFlann::SetRawData] Failed due to no data.\n",
      "[Open3D WARNING] [KDTreeFlann::SetRawData] Failed due to no data.\n",
      "[Open3D WARNING] [KDTreeFlann::SetRawData] Failed due to no data.\n",
      "[Open3D WARNING] [KDTreeFlann::SetRawData] Failed due to no data.\n",
      "[Open3D WARNING] [KDTreeFlann::SetRawData] Failed due to no data.\n",
      "[Open3D WARNING] [KDTreeFlann::SetRawData] Failed due to no data.\n",
      "[Open3D WARNING] [KDTreeFlann::SetRawData] Failed due to no data.\n",
      "[Open3D WARNING] [KDTreeFlann::SetRawData] Failed due to no data.\n",
      "[Open3D WARNING] [KDTreeFlann::SetRawData] Failed due to no data.\n",
      "[Open3D WARNING] [KDTreeFlann::SetRawData] Failed due to no data.\n"
     ]
    }
   ],
   "source": [
    "opt = {'num_slices':33, 'alpha':1.0}\n",
    "# Build point clouds for each plane\n",
    "all_keypoints_pcs0 = build_point_clouds_for_volume(dat0_vid, **import_opt)\n",
    "all_icp0 = build_correspondence_icp(all_keypoints_pcs0)\n",
    "\n",
    "all_keypoints_pcs1 = build_point_clouds_for_volume(dat0_vid, **import_opt)\n",
    "all_icp1 = build_correspondence_icp(all_keypoints_pcs1)"
   ]
  },
  {
   "cell_type": "code",
   "execution_count": 4,
   "metadata": {},
   "outputs": [],
   "source": [
    "all_neurons = [k.points for k in all_keypoints_pcs0]\n",
    "all_matches = [m.correspondence_set for m in all_icp0]\n",
    "clust_df0 = build_tracklets_from_matches(all_neurons, all_matches)\n",
    "\n",
    "all_neurons = [k.points for k in all_keypoints_pcs1]\n",
    "all_matches = [m.correspondence_set for m in all_icp1]\n",
    "clust_df1 = build_tracklets_from_matches(all_neurons, all_matches)"
   ]
  },
  {
   "cell_type": "code",
   "execution_count": 5,
   "metadata": {},
   "outputs": [
    {
     "data": {
      "text/plain": [
       "PointCloud with 326 points."
      ]
     },
     "execution_count": 5,
     "metadata": {},
     "output_type": "execute_result"
    }
   ],
   "source": [
    "# Visualize\n",
    "# Build full point cloud\n",
    "\n",
    "full_pc = o3d.geometry.PointCloud()\n",
    "for pc in all_keypoints_pcs0:\n",
    "    full_pc = full_pc + pc\n",
    "full_pc.paint_uniform_color([0.5,0.5,0.5])\n",
    "\n",
    "#out = visualize_clusters_from_dataframe(full_pc, clust_df0)"
   ]
  },
  {
   "cell_type": "code",
   "execution_count": 6,
   "metadata": {},
   "outputs": [
    {
     "name": "stdout",
     "output_type": "stream",
     "text": [
      "Building pairwise correspondence...\n",
      "Building clusters...\n",
      "Finished ID'ing neurons\n",
      "Building pairwise correspondence...\n",
      "Building clusters...\n",
      "Finished ID'ing neurons\n"
     ]
    }
   ],
   "source": [
    "opt = {'num_slices':33, 'alpha':1.0, 'verbose':1}\n",
    "neurons0, df0, icp0, pcs0 = detect_neurons_using_ICP(dat0_vid, **opt)\n",
    "neurons1, df1, icp1, pcs1 = detect_neurons_using_ICP(dat1_vid, **opt)"
   ]
  },
  {
   "cell_type": "markdown",
   "metadata": {},
   "source": [
    "# Next, matching two volumes via BCPD"
   ]
  },
  {
   "cell_type": "code",
   "execution_count": 31,
   "metadata": {},
   "outputs": [],
   "source": [
    "from probreg import bcpd\n",
    "from tqdm import tqdm\n",
    "import itertools\n",
    "#bcpd.registration_bcpd()"
   ]
  },
  {
   "cell_type": "code",
   "execution_count": 152,
   "metadata": {},
   "outputs": [],
   "source": [
    "def test_bcp_params(pts0, pts1, params, opt={}):\n",
    "\n",
    "    all_matches = []\n",
    "    for l, k, g in tqdm(params, total=len(params)):\n",
    "        bcpd_kwargs = {'lmd':l, 'k':k, 'gamma':g}\n",
    "        try:\n",
    "            m, all_conf = match_2vol_BCPD(C,pts1,\n",
    "                                          do_zscore=True,\n",
    "                                            bcpd_kwargs=bcpd_kwargs,\n",
    "                                            **opt)\n",
    "        except:\n",
    "            counts = [0]\n",
    "            m = []\n",
    "        all_matches.append(m)\n",
    "        \n",
    "    all_counts = []\n",
    "    all_overmatch = []\n",
    "    for m in all_matches:\n",
    "        if len(m)>0:\n",
    "            vals, counts = np.unique(np.array(m)[:,1], return_counts=True)\n",
    "        else:\n",
    "            counts = [0]\n",
    "        all_counts.append(counts)\n",
    "        all_overmatch.append(max(counts))\n",
    "    \n",
    "    return all_counts, all_matches, all_overmatch"
   ]
  },
  {
   "cell_type": "code",
   "execution_count": 149,
   "metadata": {},
   "outputs": [
    {
     "name": "stderr",
     "output_type": "stream",
     "text": [
      "100%|█████████████████████████████████████████████████████████████████████| 4/4 [00:00<?, ?it/s]\n"
     ]
    }
   ],
   "source": [
    "lmd_vec = [0.5, 10.0]\n",
    "k_vec = [1e20]\n",
    "gamma_vec = [0.1, 1.0]\n",
    "params = list(itertools.product(lmd_vec,k_vec,gamma_vec))\n",
    "\n",
    "all_counts, all_matches, all_overmatch = \\\n",
    "    test_bcp_params(neurons0, neurons1, params)"
   ]
  },
  {
   "cell_type": "code",
   "execution_count": 150,
   "metadata": {},
   "outputs": [
    {
     "data": {
      "text/plain": [
       "Text(0, 0.5, '0')"
      ]
     },
     "execution_count": 150,
     "metadata": {},
     "output_type": "execute_result"
    },
    {
     "data": {
      "image/png": "[encoded data removed]",
      "text/plain": [
       "<Figure size 432x288 with 1 Axes>"
      ]
     },
     "metadata": {
      "needs_background": "light"
     },
     "output_type": "display_data"
    }
   ],
   "source": [
    "this_var = 0\n",
    "x = [p[this_var] for p in params]\n",
    "y = [len(c) for c in all_counts]\n",
    "use_x = False\n",
    "if use_x:\n",
    "    plt.plot(x, y, 'o')\n",
    "    plt.plot(x, all_overmatch, '.')\n",
    "else:\n",
    "    plt.plot(y, 'o')\n",
    "    plt.plot(all_overmatch)\n",
    "plt.ylabel(this_var)"
   ]
  },
  {
   "cell_type": "code",
   "execution_count": 148,
   "metadata": {},
   "outputs": [
    {
     "name": "stdout",
     "output_type": "stream",
     "text": [
      "Number of matches found:  0\n",
      "(10.0, 1e+20, 0.1)\n"
     ]
    }
   ],
   "source": [
    "which_p = 2\n",
    "m = all_matches[which_p]\n",
    "print(\"Number of matches found: \", len(m))\n",
    "print(params[which_p])\n",
    "if len(m)>0:\n",
    "    visualize_tracks(neurons0, neurons1, m, to_plot_failed_lines=False)"
   ]
  },
  {
   "cell_type": "markdown",
   "metadata": {},
   "source": [
    "# Match keypoints instead of the neurons"
   ]
  },
  {
   "cell_type": "code",
   "execution_count": 174,
   "metadata": {},
   "outputs": [
    {
     "name": "stderr",
     "output_type": "stream",
     "text": [
      "100%|█████████████████████████████████████████████████████████████| 2/2 [00:25<00:00, 12.69s/it]\n",
      "  0%|                                                                     | 0/2 [00:00<?, ?it/s]"
     ]
    },
    {
     "name": "stdout",
     "output_type": "stream",
     "text": [
      "Pairwise matching all reference frames...\n"
     ]
    },
    {
     "name": "stderr",
     "output_type": "stream",
     "text": [
      "100%|█████████████████████████████████████████████████████████████| 2/2 [00:03<00:00,  1.53s/it]"
     ]
    },
    {
     "name": "stdout",
     "output_type": "stream",
     "text": [
      "WIP... aborting early\n"
     ]
    },
    {
     "name": "stderr",
     "output_type": "stream",
     "text": [
      "\n"
     ]
    }
   ],
   "source": [
    "from DLC_for_WBFM.utils.feature_detection.feature_pipeline import *\n",
    "\n",
    "ref_frames, all_matches, pairwise_matches, pairwise_conf, feature_matches = track_via_reference_frames(btf_fname_red, num_reference_frames=2)"
   ]
  },
  {
   "cell_type": "code",
   "execution_count": 187,
   "metadata": {},
   "outputs": [
    {
     "name": "stderr",
     "output_type": "stream",
     "text": [
      "100%|███████████████████████████████████████████████████████████████████| 18/18 [00:00<?, ?it/s]\n"
     ]
    }
   ],
   "source": [
    "kp0 = ref_frames[0].keypoint_locs#[:200]\n",
    "kp1 = ref_frames[1].keypoint_locs#[:200]\n",
    "\n",
    "lmd_vec = [0.1, 1.0, 10.0]\n",
    "k_vec = [1e10, 1e20]\n",
    "gamma_vec = [0.1, 1.0, 10.0]\n",
    "params = list(itertools.product(lmd_vec,k_vec,gamma_vec))\n",
    "\n",
    "opt = {'voxel_size':1.0}\n",
    "\n",
    "all_counts, all_matches, all_overmatch = \\\n",
    "    test_bcp_params(kp0, kp1, params, opt)"
   ]
  },
  {
   "cell_type": "code",
   "execution_count": 188,
   "metadata": {},
   "outputs": [
    {
     "data": {
      "text/plain": [
       "[<matplotlib.lines.Line2D at 0x2a72b79d1f0>]"
      ]
     },
     "execution_count": 188,
     "metadata": {},
     "output_type": "execute_result"
    },
    {
     "data": {
      "image/png": "[encoded data removed]",
      "text/plain": [
       "<Figure size 432x288 with 1 Axes>"
      ]
     },
     "metadata": {
      "needs_background": "light"
     },
     "output_type": "display_data"
    }
   ],
   "source": [
    "\n",
    "y = [len(c) for c in all_counts]\n",
    "plt.plot(x, y, 'o')\n",
    "plt.plot(x, all_overmatch, '.')\n"
   ]
  },
  {
   "cell_type": "code",
   "execution_count": 189,
   "metadata": {},
   "outputs": [
    {
     "name": "stdout",
     "output_type": "stream",
     "text": [
      "[]\n"
     ]
    }
   ],
   "source": [
    "m = all_matches[0]\n",
    "print(m)\n",
    "if len(m)>0:\n",
    "    visualize_tracks(kp0, kp1, m, to_plot_failed_lines=False)"
   ]
  },
  {
   "cell_type": "markdown",
   "metadata": {},
   "source": [
    "# Match Blobs instead of neurons"
   ]
  },
  {
   "cell_type": "code",
   "execution_count": 45,
   "metadata": {},
   "outputs": [
    {
     "name": "stdout",
     "output_type": "stream",
     "text": [
      "Building pairwise correspondence...\n",
      "Building clusters...\n",
      "Finished ID'ing neurons\n",
      "Building pairwise correspondence...\n",
      "Building clusters...\n",
      "Finished ID'ing neurons\n"
     ]
    }
   ],
   "source": [
    "opt = {'num_slices':33, 'alpha':1.0, 'verbose':1}\n",
    "neurons0, df0, icp0, pcs0 = detect_neurons_using_ICP(dat0_vid, **opt)\n",
    "neurons1, df1, icp1, pcs1 = detect_neurons_using_ICP(dat1_vid, **opt)"
   ]
  },
  {
   "cell_type": "code",
   "execution_count": 153,
   "metadata": {},
   "outputs": [],
   "source": [
    "all_pts0 = []\n",
    "all_pts1 = []\n",
    "start_plane = 1\n",
    "\n",
    "for i, (p0, p1) in enumerate(zip(pcs0, pcs1)):\n",
    "    if i < start_plane:\n",
    "        continue\n",
    "    all_pts0.extend(np.array(p0.points))\n",
    "    all_pts1.extend(np.array(p1.points))\n",
    "\n",
    "all_pts0 = np.array(all_pts0)\n",
    "all_pts1 = np.array(all_pts1)"
   ]
  },
  {
   "cell_type": "code",
   "execution_count": 266,
   "metadata": {},
   "outputs": [
    {
     "name": "stderr",
     "output_type": "stream",
     "text": [
      "100%|█████████████████████████████████████████████████████████████| 1/1 [00:05<00:00,  5.75s/it]\n"
     ]
    }
   ],
   "source": [
    "lmd_vec = [0.1]\n",
    "k_vec = [1e10]\n",
    "gamma_vec = [10.0]\n",
    "params = list(itertools.product(lmd_vec,k_vec,gamma_vec))\n",
    "\n",
    "opt = {'voxel_size':0.3, 'tf_type_name':'rigid'}\n",
    "\n",
    "all_counts, all_matches, all_overmatch = \\\n",
    "    test_rigid_params(all_pts0, all_pts1, params, opt)"
   ]
  },
  {
   "cell_type": "code",
   "execution_count": 267,
   "metadata": {},
   "outputs": [
    {
     "data": {
      "text/plain": [
       "[<matplotlib.lines.Line2D at 0x2a72c630eb0>]"
      ]
     },
     "execution_count": 267,
     "metadata": {},
     "output_type": "execute_result"
    },
    {
     "data": {
      "image/png": "[encoded data removed]",
      "text/plain": [
       "<Figure size 432x288 with 1 Axes>"
      ]
     },
     "metadata": {
      "needs_background": "light"
     },
     "output_type": "display_data"
    }
   ],
   "source": [
    "\n",
    "y = [len(c) for c in all_counts]\n",
    "plt.plot(y, 'o')\n",
    "plt.plot(all_overmatch, '.')\n"
   ]
  },
  {
   "cell_type": "code",
   "execution_count": 268,
   "metadata": {},
   "outputs": [],
   "source": [
    "m = all_matches[0]\n",
    "visualize_tracks(all_pts0, all_pts1, m, to_plot_failed_lines=False)"
   ]
  },
  {
   "cell_type": "markdown",
   "metadata": {},
   "source": [
    "# Back to matching neurons, but just rigidly"
   ]
  },
  {
   "cell_type": "code",
   "execution_count": 259,
   "metadata": {},
   "outputs": [],
   "source": [
    "def test_rigid_params(pts0, pts1, params, opt={}):\n",
    "\n",
    "    all_matches = []\n",
    "    for l, k, g in tqdm(params, total=len(params)):\n",
    "        bcpd_kwargs = {'lmd':l, 'k':k, 'gamma':g}\n",
    "        #try:\n",
    "        m, all_conf = match_2vol_rigid(pts0,pts1,\n",
    "                                            **opt)\n",
    "        #except:\n",
    "        #    counts = [0]\n",
    "        #    m = []\n",
    "        all_matches.append(m)\n",
    "        \n",
    "    all_counts = []\n",
    "    all_overmatch = []\n",
    "    for m in all_matches:\n",
    "        if len(m)>0:\n",
    "            vals, counts = np.unique(np.array(m)[:,1], return_counts=True)\n",
    "        else:\n",
    "            counts = [0]\n",
    "        all_counts.append(counts)\n",
    "        all_overmatch.append(max(counts))\n",
    "    \n",
    "    return all_counts, all_matches, all_overmatch"
   ]
  },
  {
   "cell_type": "code",
   "execution_count": 234,
   "metadata": {},
   "outputs": [
    {
     "name": "stderr",
     "output_type": "stream",
     "text": [
      "100%|█████████████████████████████████████████████████████████████| 1/1 [00:00<00:00,  9.97it/s]\n"
     ]
    }
   ],
   "source": [
    "lmd_vec = [0.1]\n",
    "k_vec = [1e10]\n",
    "gamma_vec = [0.1]\n",
    "params = list(itertools.product(lmd_vec,k_vec,gamma_vec))\n",
    "\n",
    "opt = {'voxel_size':None, 'DEBUG':False}\n",
    "\n",
    "all_counts, all_matches, all_overmatch = \\\n",
    "    test_rigid_params(neurons0, neurons1, params, opt)"
   ]
  },
  {
   "cell_type": "code",
   "execution_count": 235,
   "metadata": {},
   "outputs": [
    {
     "data": {
      "text/plain": [
       "[<matplotlib.lines.Line2D at 0x2a72c2df790>]"
      ]
     },
     "execution_count": 235,
     "metadata": {},
     "output_type": "execute_result"
    },
    {
     "data": {
      "image/png": "[encoded data removed]",
      "text/plain": [
       "<Figure size 432x288 with 1 Axes>"
      ]
     },
     "metadata": {
      "needs_background": "light"
     },
     "output_type": "display_data"
    }
   ],
   "source": [
    "\n",
    "y = [len(c) for c in all_counts]\n",
    "plt.plot(y, 'o')\n",
    "plt.plot(all_overmatch, '.')\n"
   ]
  },
  {
   "cell_type": "code",
   "execution_count": 236,
   "metadata": {},
   "outputs": [],
   "source": [
    "m = all_matches[0]\n",
    "visualize_tracks(neurons0, neurons1, m, to_plot_failed_lines=False)"
   ]
  },
  {
   "cell_type": "markdown",
   "metadata": {},
   "source": [
    "# Matching neurons with FilterReg"
   ]
  },
  {
   "cell_type": "code",
   "execution_count": null,
   "metadata": {},
   "outputs": [],
   "source": []
  },
  {
   "cell_type": "code",
   "execution_count": null,
   "metadata": {},
   "outputs": [],
   "source": []
  },
  {
   "cell_type": "code",
   "execution_count": null,
   "metadata": {},
   "outputs": [],
   "source": []
  },
  {
   "cell_type": "code",
   "execution_count": null,
   "metadata": {},
   "outputs": [],
   "source": []
  },
  {
   "cell_type": "markdown",
   "metadata": {},
   "source": [
    "# Matching neurons, but using open3d not probreg"
   ]
  },
  {
   "cell_type": "code",
   "execution_count": 33,
   "metadata": {},
   "outputs": [],
   "source": [
    "def preprocess_point_cloud(dat, voxel_size, radius_feature_factor=5, is_numpy=True, verbose=0):\n",
    "    # Start with numpy array\n",
    "    if is_numpy:\n",
    "        pcd = o3d.geometry.PointCloud()\n",
    "        pcd.points = o3d.utility.Vector3dVector(dat)\n",
    "    else:\n",
    "        pcd = dat\n",
    "    if verbose >= 1:\n",
    "        print(\":: Downsample with a voxel size %.3f.\" % voxel_size)\n",
    "    pcd_down = pcd.voxel_down_sample(voxel_size)\n",
    "\n",
    "    radius_normal = voxel_size * 2\n",
    "    if verbose >= 1:\n",
    "        print(\":: Estimate normal with search radius %.3f.\" % radius_normal)\n",
    "    pcd_down.estimate_normals(\n",
    "        o3d.geometry.KDTreeSearchParamHybrid(radius=radius_normal, max_nn=30))\n",
    "\n",
    "    radius_feature = voxel_size * radius_feature_factor\n",
    "    if verbose >= 1:\n",
    "        print(\":: Compute FPFH feature with search radius %.3f.\" % radius_feature)\n",
    "    pcd_fpfh = o3d.pipelines.registration.compute_fpfh_feature(\n",
    "        pcd_down,\n",
    "        o3d.geometry.KDTreeSearchParamHybrid(radius=radius_feature, max_nn=100))\n",
    "    return pcd_down, pcd_fpfh\n",
    "\n",
    "\n",
    "def execute_global_registration(source_down, target_down, source_fpfh,\n",
    "                                target_fpfh, voxel_size, radius_feature_factor=4.0,\n",
    "                               verbose=0):\n",
    "    # See http://www.open3d.org/docs/0.11.1/python_api/open3d.geometry.html\n",
    "    # Note: this this a slightly old version\n",
    "    distance_threshold = voxel_size * radius_feature_factor\n",
    "    if verbose >= 1:\n",
    "        print(\":: RANSAC registration on downsampled point clouds.\")\n",
    "        print(\"   Since the downsampling voxel size is %.3f,\" % voxel_size)\n",
    "        print(\"   we use a liberal distance threshold %.3f.\" % distance_threshold)\n",
    "    result = o3d.pipelines.registration.registration_ransac_based_on_feature_matching(\n",
    "        source_down, target_down, source_fpfh, target_fpfh, distance_threshold,\n",
    "        o3d.pipelines.registration.TransformationEstimationPointToPoint(False),\n",
    "        4, [\n",
    "            o3d.pipelines.registration.CorrespondenceCheckerBasedOnEdgeLength(\n",
    "                0.9),\n",
    "            o3d.pipelines.registration.CorrespondenceCheckerBasedOnDistance(\n",
    "                distance_threshold)\n",
    "        ], o3d.pipelines.registration.RANSACConvergenceCriteria(4000000, 500))\n",
    "    \n",
    "    return result"
   ]
  },
  {
   "cell_type": "code",
   "execution_count": 8,
   "metadata": {},
   "outputs": [
    {
     "name": "stdout",
     "output_type": "stream",
     "text": [
      ":: Downsample with a voxel size 10.000.\n",
      ":: Estimate normal with search radius 20.000.\n",
      ":: Compute FPFH feature with search radius 50.000.\n",
      ":: Downsample with a voxel size 10.000.\n",
      ":: Estimate normal with search radius 20.000.\n",
      ":: Compute FPFH feature with search radius 50.000.\n"
     ]
    }
   ],
   "source": [
    "voxel_size = 10.0\n",
    "\n",
    "pc0_down, pc0_fpfh = preprocess_point_cloud(neurons0, voxel_size)\n",
    "pc1_down, pc1_fpfh = preprocess_point_cloud(neurons1, voxel_size)"
   ]
  },
  {
   "cell_type": "code",
   "execution_count": 9,
   "metadata": {},
   "outputs": [
    {
     "name": "stdout",
     "output_type": "stream",
     "text": [
      ":: RANSAC registration on downsampled point clouds.\n",
      "   Since the downsampling voxel size is 10.000,\n",
      "   we use a liberal distance threshold 20.000.\n"
     ]
    },
    {
     "data": {
      "text/plain": [
       "RegistrationResult with fitness=9.310345e-01, inlier_rmse=9.559601e+00, and correspondence_set size of 108\n",
       "Access transformation to get result."
      ]
     },
     "execution_count": 9,
     "metadata": {},
     "output_type": "execute_result"
    }
   ],
   "source": [
    "reg = execute_global_registration(pc0_down, pc1_down,\n",
    "                                 pc0_fpfh, pc1_fpfh, voxel_size)\n",
    "reg"
   ]
  },
  {
   "cell_type": "code",
   "execution_count": 10,
   "metadata": {},
   "outputs": [],
   "source": [
    "#draw_registration_result(pc0_down, pc1_down, reg.transformation)\n"
   ]
  },
  {
   "cell_type": "code",
   "execution_count": 11,
   "metadata": {},
   "outputs": [],
   "source": [
    "lines = o3d.geometry.LineSet.create_from_point_cloud_correspondences(pc0_down, pc1_down, reg.correspondence_set)\n",
    "\n",
    "o3d.visualization.draw_geometries([pc0_down, pc1_down, lines])"
   ]
  },
  {
   "cell_type": "markdown",
   "metadata": {},
   "source": [
    "## Same as above, but with a subset of points"
   ]
  },
  {
   "cell_type": "code",
   "execution_count": 10,
   "metadata": {},
   "outputs": [
    {
     "name": "stdout",
     "output_type": "stream",
     "text": [
      "Radius oulier removal\n",
      "Showing outliers (red) and inliers (gray): \n"
     ]
    }
   ],
   "source": [
    "def display_inlier_outlier(cloud, ind):\n",
    "    inlier_cloud = cloud.select_by_index(ind)\n",
    "    outlier_cloud = cloud.select_by_index(ind, invert=True)\n",
    "\n",
    "    print(\"Showing outliers (red) and inliers (gray): \")\n",
    "    outlier_cloud.paint_uniform_color([1, 0, 0])\n",
    "    inlier_cloud.paint_uniform_color([0, 1, 0])\n",
    "    o3d.visualization.draw_geometries([inlier_cloud, outlier_cloud])\n",
    "\n",
    "print(\"Radius oulier removal\")\n",
    "cl, ind = pc0_down.remove_radius_outlier(nb_points=50, radius=100.0)\n",
    "display_inlier_outlier(pc0_down, ind)"
   ]
  },
  {
   "cell_type": "code",
   "execution_count": 11,
   "metadata": {},
   "outputs": [
    {
     "name": "stdout",
     "output_type": "stream",
     "text": [
      "Subsampling...\n",
      "Building features...\n",
      ":: Downsample with a voxel size 10.000.\n",
      ":: Estimate normal with search radius 20.000.\n",
      ":: Compute FPFH feature with search radius 50.000.\n",
      ":: Downsample with a voxel size 10.000.\n",
      ":: Estimate normal with search radius 20.000.\n",
      ":: Compute FPFH feature with search radius 50.000.\n",
      "Registering...\n",
      ":: RANSAC registration on downsampled point clouds.\n",
      "   Since the downsampling voxel size is 10.000,\n",
      "   we use a liberal distance threshold 20.000.\n"
     ]
    },
    {
     "data": {
      "text/plain": [
       "RegistrationResult with fitness=9.605263e-01, inlier_rmse=9.530082e+00, and correspondence_set size of 73\n",
       "Access transformation to get result."
      ]
     },
     "execution_count": 11,
     "metadata": {},
     "output_type": "execute_result"
    }
   ],
   "source": [
    "print(\"Subsampling...\")\n",
    "opt = {'nb_points':50, 'radius':100.0}\n",
    "\n",
    "cl, ind = pc0_down.remove_radius_outlier(**opt)\n",
    "inlier0 = pc0_down.select_by_index(ind)\n",
    "\n",
    "cl, ind = pc1_down.remove_radius_outlier(**opt)\n",
    "inlier1 = pc1_down.select_by_index(ind)\n",
    "\n",
    "print(\"Building features...\")\n",
    "voxel_size = 10.0\n",
    "\n",
    "_, inlier0_fpfh = preprocess_point_cloud(inlier0, voxel_size, False)\n",
    "_, inlier1_fpfh = preprocess_point_cloud(inlier1, voxel_size, False)\n",
    "\n",
    "print(\"Registering...\")\n",
    "reg = execute_global_registration(inlier0, inlier1,\n",
    "                                 inlier0_fpfh, inlier1_fpfh, voxel_size)\n",
    "reg"
   ]
  },
  {
   "cell_type": "code",
   "execution_count": 13,
   "metadata": {},
   "outputs": [],
   "source": [
    "lines = o3d.geometry.LineSet.create_from_point_cloud_correspondences(inlier0, inlier1, reg.correspondence_set)\n",
    "\n",
    "o3d.visualization.draw_geometries([inlier0, inlier1, lines])"
   ]
  },
  {
   "cell_type": "markdown",
   "metadata": {},
   "source": [
    "## Geometric feature correspondence for blobs"
   ]
  },
  {
   "cell_type": "code",
   "execution_count": 12,
   "metadata": {},
   "outputs": [],
   "source": [
    "all_pts0 = []\n",
    "all_pts1 = []\n",
    "start_plane = 1\n",
    "\n",
    "for i, (p0, p1) in enumerate(zip(pcs0, pcs1)):\n",
    "    if i < start_plane:\n",
    "        continue\n",
    "    all_pts0.extend(np.array(p0.points))\n",
    "    all_pts1.extend(np.array(p1.points))\n",
    "\n",
    "all_pts0 = np.array(all_pts0)\n",
    "all_pts1 = np.array(all_pts1)"
   ]
  },
  {
   "cell_type": "code",
   "execution_count": 63,
   "metadata": {},
   "outputs": [],
   "source": [
    "blobs = False\n",
    "if blobs:\n",
    "    voxel_size = 5.0\n",
    "\n",
    "    pc0_down, pc0_fpfh = preprocess_point_cloud(all_pts0, voxel_size)\n",
    "    pc1_down, pc1_fpfh = preprocess_point_cloud(all_pts1, voxel_size)\n",
    "else:\n",
    "    voxel_size = 1.0\n",
    "    radius_feature_factor = 20.0\n",
    "\n",
    "    pc0_down, pc0_fpfh = preprocess_point_cloud(neurons0, voxel_size, radius_feature_factor)\n",
    "    pc1_down, pc1_fpfh = preprocess_point_cloud(neurons1, voxel_size, radius_feature_factor)"
   ]
  },
  {
   "cell_type": "code",
   "execution_count": 31,
   "metadata": {},
   "outputs": [
    {
     "name": "stdout",
     "output_type": "stream",
     "text": [
      ":: RANSAC registration on downsampled point clouds.\n",
      "   Since the downsampling voxel size is 1.000,\n",
      "   we use a liberal distance threshold 4.000.\n"
     ]
    },
    {
     "data": {
      "text/plain": [
       "RegistrationResult with fitness=1.416667e-01, inlier_rmse=2.807679e+00, and correspondence_set size of 17\n",
       "Access transformation to get result."
      ]
     },
     "execution_count": 31,
     "metadata": {},
     "output_type": "execute_result"
    }
   ],
   "source": [
    "reg = execute_global_registration(pc0_down, pc1_down,\n",
    "                                 pc0_fpfh, pc1_fpfh, voxel_size)\n",
    "reg"
   ]
  },
  {
   "cell_type": "code",
   "execution_count": 32,
   "metadata": {},
   "outputs": [],
   "source": [
    "lines = o3d.geometry.LineSet.create_from_point_cloud_correspondences(pc0_down, pc1_down, reg.correspondence_set)\n",
    "pc0_down.paint_uniform_color([0.5,0.5,0.5])\n",
    "pc1_down.paint_uniform_color([0,0,0])\n",
    "\n",
    "o3d.visualization.draw_geometries([pc0_down, pc1_down, lines])"
   ]
  },
  {
   "cell_type": "markdown",
   "metadata": {},
   "source": [
    "## Parameter tests"
   ]
  },
  {
   "cell_type": "code",
   "execution_count": 53,
   "metadata": {},
   "outputs": [],
   "source": [
    "def test_geo_features_params(pts0, pts1, params, opt={}):\n",
    "\n",
    "    all_reg = []\n",
    "    all_pc = []\n",
    "    for v1, v2 in tqdm(params, total=len(params)):\n",
    "        pc_kwargs = {'voxel_size':v1, 'radius_feature_factor':v2}\n",
    "        try:\n",
    "\n",
    "            pc0_down, pc0_fpfh = preprocess_point_cloud(pts0, **pc_kwargs)\n",
    "            pc1_down, pc1_fpfh = preprocess_point_cloud(pts1, **pc_kwargs)\n",
    "            \n",
    "            all_pc.append([pc0_down, pc1_down])\n",
    "            \n",
    "            reg = execute_global_registration(pc0_down, pc1_down,\n",
    "                                 pc0_fpfh, pc1_fpfh, **pc_kwargs)\n",
    "        except:\n",
    "            counts = [0]\n",
    "            reg = []\n",
    "        all_reg.append(reg)\n",
    "        \n",
    "#     all_counts = []\n",
    "#     all_overmatch = []\n",
    "#     for m in all_matches:\n",
    "#         if len(m)>0:\n",
    "#             vals, counts = np.unique(np.array(m)[:,1], return_counts=True)\n",
    "#         else:\n",
    "#             counts = [0]\n",
    "#         all_counts.append(counts)\n",
    "#         all_overmatch.append(max(counts))\n",
    "    \n",
    "    return all_reg, all_pc"
   ]
  },
  {
   "cell_type": "code",
   "execution_count": 64,
   "metadata": {},
   "outputs": [
    {
     "name": "stderr",
     "output_type": "stream",
     "text": [
      "100%|███████████████████████████████████████████████████████████| 65/65 [00:01<00:00, 33.58it/s]\n"
     ]
    }
   ],
   "source": [
    "voxel_sizes = list(range(1,10,2))\n",
    "radius_factors = list(range(1,50,4))\n",
    "params = list(itertools.product(voxel_sizes, radius_factors))\n",
    "\n",
    "#all_reg, all_pc = test_geo_features_params(all_pts0, all_pts1, params)\n",
    "all_reg, all_pc = test_geo_features_params(neurons0, neurons1, params)"
   ]
  },
  {
   "cell_type": "code",
   "execution_count": 65,
   "metadata": {},
   "outputs": [
    {
     "data": {
      "text/plain": [
       "[<matplotlib.lines.Line2D at 0x183a8225e80>]"
      ]
     },
     "execution_count": 65,
     "metadata": {},
     "output_type": "execute_result"
    },
    {
     "data": {
      "image/png": "[encoded data removed]",
      "text/plain": [
       "<Figure size 432x288 with 1 Axes>"
      ]
     },
     "metadata": {
      "needs_background": "light"
     },
     "output_type": "display_data"
    },
    {
     "data": {
      "image/png": "[encoded data removed]",
      "text/plain": [
       "<Figure size 432x288 with 1 Axes>"
      ]
     },
     "metadata": {
      "needs_background": "light"
     },
     "output_type": "display_data"
    }
   ],
   "source": [
    "y1 = [r.fitness for r in all_reg]\n",
    "y2 = [r.inlier_rmse/20.0 for r in all_reg]\n",
    "plt.plot(y1,'o', label='fitness')\n",
    "plt.plot(y2,'o', label='rmse')\n",
    "plt.legend()\n",
    "\n",
    "y3 = [len(r.correspondence_set) for r in all_reg]\n",
    "plt.figure()\n",
    "plt.plot(y3,'o')\n",
    "\n"
   ]
  },
  {
   "cell_type": "code",
   "execution_count": 73,
   "metadata": {},
   "outputs": [],
   "source": [
    "i = 3\n",
    "\n",
    "pc0, pc1 = all_pc[i]\n",
    "reg = all_reg[i]\n",
    "lines = o3d.geometry.LineSet.create_from_point_cloud_correspondences(pc0, pc1, reg.correspondence_set)\n",
    "\n",
    "o3d.visualization.draw_geometries([pc0, pc1, lines])"
   ]
  },
  {
   "cell_type": "markdown",
   "metadata": {},
   "source": [
    "## Scratch for clustering"
   ]
  },
  {
   "cell_type": "code",
   "execution_count": 48,
   "metadata": {},
   "outputs": [
    {
     "name": "stdout",
     "output_type": "stream",
     "text": [
      "[Open3D WARNING] Read PLY failed: unable to open file: ../../test_data/fragment.ply\n",
      "[Open3D DEBUG] Precompute Neighbours\n",
      "[Open3D DEBUG] Done Precompute Neighbours\n",
      "[Open3D DEBUG] Compute Clusters\n",
      "[Open3D DEBUG] Done Compute Clusters: 1\n",
      "point cloud has 1 clusters\n"
     ]
    }
   ],
   "source": [
    "with o3d.utility.VerbosityContextManager(\n",
    "        o3d.utility.VerbosityLevel.Debug) as cm:\n",
    "    labels = np.array(\n",
    "        pc0_down.cluster_dbscan(eps=100.0, min_points=10, print_progress=True))\n",
    "\n",
    "max_label = labels.max()\n",
    "print(f\"point cloud has {max_label + 1} clusters\")\n",
    "colors = plt.get_cmap(\"tab20\")(labels / (max_label if max_label > 0 else 1))\n",
    "colors[labels < 0] = 0\n",
    "pc0_down.colors = o3d.utility.Vector3dVector(colors[:, :3])\n",
    "o3d.visualization.draw_geometries([pc0_down])"
   ]
  },
  {
   "cell_type": "code",
   "execution_count": null,
   "metadata": {},
   "outputs": [],
   "source": []
  }
 ],
 "metadata": {
  "kernelspec": {
   "display_name": "Python [conda env:bcpd]",
   "language": "python",
   "name": "conda-env-bcpd-py"
  },
  "language_info": {
   "codemirror_mode": {
    "name": "ipython",
    "version": 3
   },
   "file_extension": ".py",
   "mimetype": "text/x-python",
   "name": "python",
   "nbconvert_exporter": "python",
   "pygments_lexer": "ipython3",
   "version": "3.8.5"
  }
 },
 "nbformat": 4,
 "nbformat_minor": 4
}
