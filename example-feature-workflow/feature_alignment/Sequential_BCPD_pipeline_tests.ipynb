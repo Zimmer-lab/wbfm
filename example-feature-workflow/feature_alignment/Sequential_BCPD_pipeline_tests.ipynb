{
 "cells": [
  {
   "cell_type": "markdown",
   "metadata": {},
   "source": [
    "# Full pipeline one step at a time"
   ]
  },
  {
   "cell_type": "code",
   "execution_count": 208,
   "metadata": {},
   "outputs": [
    {
     "name": "stdout",
     "output_type": "stream",
     "text": [
      "The autoreload extension is already loaded. To reload it, use:\n",
      "  %reload_ext autoreload\n"
     ]
    }
   ],
   "source": [
    "import os\n",
    "import numpy as np\n",
    "import tifffile\n",
    "import matplotlib.pyplot as plt\n",
    "%load_ext autoreload\n",
    "%autoreload 2\n",
    "\n",
    "from DLC_for_WBFM.utils.feature_detection.utils_features import *\n",
    "from DLC_for_WBFM.utils.feature_detection.utils_tracklets import *\n",
    "from DLC_for_WBFM.utils.feature_detection.utils_detection import *\n",
    "from DLC_for_WBFM.utils.feature_detection.visualization_tracks import *\n",
    "from DLC_for_WBFM.utils.video_and_data_conversion.import_video_as_array import *\n",
    "from DLC_for_WBFM.utils.point_clouds.utils_bcpd import match_2vol_BCPD, match_2vol_rigid\n"
   ]
  },
  {
   "cell_type": "code",
   "execution_count": 2,
   "metadata": {},
   "outputs": [],
   "source": [
    "# Get the 3d bigtiff folder\n",
    "bigtiff_folder = r'D:\\More-stabilized-wbfm'\n",
    "\n",
    "btf_fname_red = r'test2020-10-22_16-15-20_test4-channel-0-pco_camera1\\test2020-10-22_16-15-20_test4-channel-0-pco_camera1bigtiff.btf'\n",
    "btf_fname_red = os.path.join(bigtiff_folder, btf_fname_red)\n",
    "\n",
    "# Actually import\n",
    "import_opt = {'num_slices':33, 'alpha':0.15}\n",
    "\n",
    "dat0_vid = get_single_volume(btf_fname_red, 0, **import_opt)\n",
    "dat1_vid = get_single_volume(btf_fname_red, 1, **import_opt)"
   ]
  },
  {
   "cell_type": "markdown",
   "metadata": {},
   "source": [
    "## First, single-volume segmentation"
   ]
  },
  {
   "cell_type": "code",
   "execution_count": 3,
   "metadata": {},
   "outputs": [
    {
     "name": "stdout",
     "output_type": "stream",
     "text": [
      "[Open3D WARNING] [KDTreeFlann::SetRawData] Failed due to no data.\n",
      "[Open3D WARNING] [KDTreeFlann::SetRawData] Failed due to no data.\n",
      "[Open3D WARNING] [KDTreeFlann::SetRawData] Failed due to no data.\n",
      "[Open3D WARNING] [KDTreeFlann::SetRawData] Failed due to no data.\n",
      "[Open3D WARNING] [KDTreeFlann::SetRawData] Failed due to no data.\n",
      "[Open3D WARNING] [KDTreeFlann::SetRawData] Failed due to no data.\n",
      "[Open3D WARNING] [KDTreeFlann::SetRawData] Failed due to no data.\n",
      "[Open3D WARNING] [KDTreeFlann::SetRawData] Failed due to no data.\n",
      "[Open3D WARNING] [KDTreeFlann::SetRawData] Failed due to no data.\n",
      "[Open3D WARNING] [KDTreeFlann::SetRawData] Failed due to no data.\n"
     ]
    }
   ],
   "source": [
    "opt = {'num_slices':33, 'alpha':1.0}\n",
    "# Build point clouds for each plane\n",
    "all_keypoints_pcs0 = build_point_clouds_for_volume(dat0_vid, **import_opt)\n",
    "all_icp0 = build_correspondence_icp(all_keypoints_pcs0)\n",
    "\n",
    "all_keypoints_pcs1 = build_point_clouds_for_volume(dat0_vid, **import_opt)\n",
    "all_icp1 = build_correspondence_icp(all_keypoints_pcs1)"
   ]
  },
  {
   "cell_type": "code",
   "execution_count": 4,
   "metadata": {},
   "outputs": [],
   "source": [
    "all_neurons = [k.points for k in all_keypoints_pcs0]\n",
    "all_matches = [m.correspondence_set for m in all_icp0]\n",
    "clust_df0 = build_tracklets_from_matches(all_neurons, all_matches)\n",
    "\n",
    "all_neurons = [k.points for k in all_keypoints_pcs1]\n",
    "all_matches = [m.correspondence_set for m in all_icp1]\n",
    "clust_df1 = build_tracklets_from_matches(all_neurons, all_matches)"
   ]
  },
  {
   "cell_type": "code",
   "execution_count": 5,
   "metadata": {},
   "outputs": [
    {
     "data": {
      "text/plain": [
       "PointCloud with 326 points."
      ]
     },
     "execution_count": 5,
     "metadata": {},
     "output_type": "execute_result"
    }
   ],
   "source": [
    "# Visualize\n",
    "# Build full point cloud\n",
    "\n",
    "full_pc = o3d.geometry.PointCloud()\n",
    "for pc in all_keypoints_pcs0:\n",
    "    full_pc = full_pc + pc\n",
    "full_pc.paint_uniform_color([0.5,0.5,0.5])\n",
    "\n",
    "#out = visualize_clusters_from_dataframe(full_pc, clust_df0)"
   ]
  },
  {
   "cell_type": "markdown",
   "metadata": {},
   "source": [
    "## Next, matching two volumes"
   ]
  },
  {
   "cell_type": "code",
   "execution_count": 6,
   "metadata": {},
   "outputs": [
    {
     "name": "stdout",
     "output_type": "stream",
     "text": [
      "Building pairwise correspondence...\n",
      "Building clusters...\n",
      "Finished ID'ing neurons\n",
      "Building pairwise correspondence...\n",
      "Building clusters...\n",
      "Finished ID'ing neurons\n"
     ]
    }
   ],
   "source": [
    "opt = {'num_slices':33, 'alpha':1.0, 'verbose':1}\n",
    "neurons0, df0, icp0, pcs0 = detect_neurons_using_ICP(dat0_vid, **opt)\n",
    "neurons1, df1, icp1, pcs1 = detect_neurons_using_ICP(dat1_vid, **opt)"
   ]
  },
  {
   "cell_type": "code",
   "execution_count": 31,
   "metadata": {},
   "outputs": [],
   "source": [
    "from probreg import bcpd\n",
    "from tqdm import tqdm\n",
    "import itertools\n",
    "#bcpd.registration_bcpd()"
   ]
  },
  {
   "cell_type": "code",
   "execution_count": 152,
   "metadata": {},
   "outputs": [],
   "source": [
    "def test_bcp_params(pts0, pts1, params, opt={}):\n",
    "\n",
    "    all_matches = []\n",
    "    for l, k, g in tqdm(params, total=len(params)):\n",
    "        bcpd_kwargs = {'lmd':l, 'k':k, 'gamma':g}\n",
    "        try:\n",
    "            m, all_conf = match_2vol_BCPD(C,pts1,\n",
    "                                          do_zscore=True,\n",
    "                                            bcpd_kwargs=bcpd_kwargs,\n",
    "                                            **opt)\n",
    "        except:\n",
    "            counts = [0]\n",
    "            m = []\n",
    "        all_matches.append(m)\n",
    "        \n",
    "    all_counts = []\n",
    "    all_overmatch = []\n",
    "    for m in all_matches:\n",
    "        if len(m)>0:\n",
    "            vals, counts = np.unique(np.array(m)[:,1], return_counts=True)\n",
    "        else:\n",
    "            counts = [0]\n",
    "        all_counts.append(counts)\n",
    "        all_overmatch.append(max(counts))\n",
    "    \n",
    "    return all_counts, all_matches, all_overmatch"
   ]
  },
  {
   "cell_type": "code",
   "execution_count": 149,
   "metadata": {},
   "outputs": [
    {
     "name": "stderr",
     "output_type": "stream",
     "text": [
      "100%|█████████████████████████████████████████████████████████████████████| 4/4 [00:00<?, ?it/s]\n"
     ]
    }
   ],
   "source": [
    "lmd_vec = [0.5, 10.0]\n",
    "k_vec = [1e20]\n",
    "gamma_vec = [0.1, 1.0]\n",
    "params = list(itertools.product(lmd_vec,k_vec,gamma_vec))\n",
    "\n",
    "all_counts, all_matches, all_overmatch = \\\n",
    "    test_bcp_params(neurons0, neurons1, params)"
   ]
  },
  {
   "cell_type": "code",
   "execution_count": 150,
   "metadata": {},
   "outputs": [
    {
     "data": {
      "text/plain": [
       "Text(0, 0.5, '0')"
      ]
     },
     "execution_count": 150,
     "metadata": {},
     "output_type": "execute_result"
    },
    {
     "data": {
      "image/png": "[encoded data removed]",
      "text/plain": [
       "<Figure size 432x288 with 1 Axes>"
      ]
     },
     "metadata": {
      "needs_background": "light"
     },
     "output_type": "display_data"
    }
   ],
   "source": [
    "this_var = 0\n",
    "x = [p[this_var] for p in params]\n",
    "y = [len(c) for c in all_counts]\n",
    "use_x = False\n",
    "if use_x:\n",
    "    plt.plot(x, y, 'o')\n",
    "    plt.plot(x, all_overmatch, '.')\n",
    "else:\n",
    "    plt.plot(y, 'o')\n",
    "    plt.plot(all_overmatch)\n",
    "plt.ylabel(this_var)"
   ]
  },
  {
   "cell_type": "code",
   "execution_count": 148,
   "metadata": {},
   "outputs": [
    {
     "name": "stdout",
     "output_type": "stream",
     "text": [
      "Number of matches found:  0\n",
      "(10.0, 1e+20, 0.1)\n"
     ]
    }
   ],
   "source": [
    "which_p = 2\n",
    "m = all_matches[which_p]\n",
    "print(\"Number of matches found: \", len(m))\n",
    "print(params[which_p])\n",
    "if len(m)>0:\n",
    "    visualize_tracks(neurons0, neurons1, m, to_plot_failed_lines=False)"
   ]
  },
  {
   "cell_type": "markdown",
   "metadata": {},
   "source": [
    "# Match keypoints instead of the neurons"
   ]
  },
  {
   "cell_type": "code",
   "execution_count": 174,
   "metadata": {},
   "outputs": [
    {
     "name": "stderr",
     "output_type": "stream",
     "text": [
      "100%|█████████████████████████████████████████████████████████████| 2/2 [00:25<00:00, 12.69s/it]\n",
      "  0%|                                                                     | 0/2 [00:00<?, ?it/s]"
     ]
    },
    {
     "name": "stdout",
     "output_type": "stream",
     "text": [
      "Pairwise matching all reference frames...\n"
     ]
    },
    {
     "name": "stderr",
     "output_type": "stream",
     "text": [
      "100%|█████████████████████████████████████████████████████████████| 2/2 [00:03<00:00,  1.53s/it]"
     ]
    },
    {
     "name": "stdout",
     "output_type": "stream",
     "text": [
      "WIP... aborting early\n"
     ]
    },
    {
     "name": "stderr",
     "output_type": "stream",
     "text": [
      "\n"
     ]
    }
   ],
   "source": [
    "from DLC_for_WBFM.utils.feature_detection.feature_pipeline import *\n",
    "\n",
    "ref_frames, all_matches, pairwise_matches, pairwise_conf, feature_matches = track_via_reference_frames(btf_fname_red, num_reference_frames=2)"
   ]
  },
  {
   "cell_type": "code",
   "execution_count": 187,
   "metadata": {},
   "outputs": [
    {
     "name": "stderr",
     "output_type": "stream",
     "text": [
      "100%|███████████████████████████████████████████████████████████████████| 18/18 [00:00<?, ?it/s]\n"
     ]
    }
   ],
   "source": [
    "kp0 = ref_frames[0].keypoint_locs#[:200]\n",
    "kp1 = ref_frames[1].keypoint_locs#[:200]\n",
    "\n",
    "lmd_vec = [0.1, 1.0, 10.0]\n",
    "k_vec = [1e10, 1e20]\n",
    "gamma_vec = [0.1, 1.0, 10.0]\n",
    "params = list(itertools.product(lmd_vec,k_vec,gamma_vec))\n",
    "\n",
    "opt = {'voxel_size':1.0}\n",
    "\n",
    "all_counts, all_matches, all_overmatch = \\\n",
    "    test_bcp_params(kp0, kp1, params, opt)"
   ]
  },
  {
   "cell_type": "code",
   "execution_count": 188,
   "metadata": {},
   "outputs": [
    {
     "data": {
      "text/plain": [
       "[<matplotlib.lines.Line2D at 0x2a72b79d1f0>]"
      ]
     },
     "execution_count": 188,
     "metadata": {},
     "output_type": "execute_result"
    },
    {
     "data": {
      "image/png": "[encoded data removed]",
      "text/plain": [
       "<Figure size 432x288 with 1 Axes>"
      ]
     },
     "metadata": {
      "needs_background": "light"
     },
     "output_type": "display_data"
    }
   ],
   "source": [
    "\n",
    "y = [len(c) for c in all_counts]\n",
    "plt.plot(x, y, 'o')\n",
    "plt.plot(x, all_overmatch, '.')\n"
   ]
  },
  {
   "cell_type": "code",
   "execution_count": 189,
   "metadata": {},
   "outputs": [
    {
     "name": "stdout",
     "output_type": "stream",
     "text": [
      "[]\n"
     ]
    }
   ],
   "source": [
    "m = all_matches[0]\n",
    "print(m)\n",
    "if len(m)>0:\n",
    "    visualize_tracks(kp0, kp1, m, to_plot_failed_lines=False)"
   ]
  },
  {
   "cell_type": "markdown",
   "metadata": {},
   "source": [
    "# Match Blobs instead of neurons"
   ]
  },
  {
   "cell_type": "code",
   "execution_count": 45,
   "metadata": {},
   "outputs": [
    {
     "name": "stdout",
     "output_type": "stream",
     "text": [
      "Building pairwise correspondence...\n",
      "Building clusters...\n",
      "Finished ID'ing neurons\n",
      "Building pairwise correspondence...\n",
      "Building clusters...\n",
      "Finished ID'ing neurons\n"
     ]
    }
   ],
   "source": [
    "opt = {'num_slices':33, 'alpha':1.0, 'verbose':1}\n",
    "neurons0, df0, icp0, pcs0 = detect_neurons_using_ICP(dat0_vid, **opt)\n",
    "neurons1, df1, icp1, pcs1 = detect_neurons_using_ICP(dat1_vid, **opt)"
   ]
  },
  {
   "cell_type": "code",
   "execution_count": 153,
   "metadata": {},
   "outputs": [],
   "source": [
    "all_pts0 = []\n",
    "all_pts1 = []\n",
    "start_plane = 1\n",
    "\n",
    "for i, (p0, p1) in enumerate(zip(pcs0, pcs1)):\n",
    "    if i < start_plane:\n",
    "        continue\n",
    "    \n",
    "    all_pts0.extend(np.array(p0.points))\n",
    "    all_pts1.extend(np.array(p1.points))\n",
    "\n",
    "all_pts0 = np.array(all_pts0)\n",
    "all_pts1 = np.array(all_pts1)"
   ]
  },
  {
   "cell_type": "code",
   "execution_count": 266,
   "metadata": {},
   "outputs": [
    {
     "name": "stderr",
     "output_type": "stream",
     "text": [
      "100%|█████████████████████████████████████████████████████████████| 1/1 [00:05<00:00,  5.75s/it]\n"
     ]
    }
   ],
   "source": [
    "lmd_vec = [0.1]\n",
    "k_vec = [1e10]\n",
    "gamma_vec = [10.0]\n",
    "params = list(itertools.product(lmd_vec,k_vec,gamma_vec))\n",
    "\n",
    "opt = {'voxel_size':0.3, 'tf_type_name':'rigid'}\n",
    "\n",
    "all_counts, all_matches, all_overmatch = \\\n",
    "    test_rigid_params(all_pts0, all_pts1, params, opt)"
   ]
  },
  {
   "cell_type": "code",
   "execution_count": 267,
   "metadata": {},
   "outputs": [
    {
     "data": {
      "text/plain": [
       "[<matplotlib.lines.Line2D at 0x2a72c630eb0>]"
      ]
     },
     "execution_count": 267,
     "metadata": {},
     "output_type": "execute_result"
    },
    {
     "data": {
      "image/png": "[encoded data removed]",
      "text/plain": [
       "<Figure size 432x288 with 1 Axes>"
      ]
     },
     "metadata": {
      "needs_background": "light"
     },
     "output_type": "display_data"
    }
   ],
   "source": [
    "\n",
    "y = [len(c) for c in all_counts]\n",
    "plt.plot(y, 'o')\n",
    "plt.plot(all_overmatch, '.')\n"
   ]
  },
  {
   "cell_type": "code",
   "execution_count": 268,
   "metadata": {},
   "outputs": [],
   "source": [
    "m = all_matches[0]\n",
    "visualize_tracks(all_pts0, all_pts1, m, to_plot_failed_lines=False)"
   ]
  },
  {
   "cell_type": "markdown",
   "metadata": {},
   "source": [
    "# Back to matching neurons, but just rigidly"
   ]
  },
  {
   "cell_type": "code",
   "execution_count": 259,
   "metadata": {},
   "outputs": [],
   "source": [
    "def test_rigid_params(pts0, pts1, params, opt={}):\n",
    "\n",
    "    all_matches = []\n",
    "    for l, k, g in tqdm(params, total=len(params)):\n",
    "        bcpd_kwargs = {'lmd':l, 'k':k, 'gamma':g}\n",
    "        #try:\n",
    "        m, all_conf = match_2vol_rigid(pts0,pts1,\n",
    "                                            **opt)\n",
    "        #except:\n",
    "        #    counts = [0]\n",
    "        #    m = []\n",
    "        all_matches.append(m)\n",
    "        \n",
    "    all_counts = []\n",
    "    all_overmatch = []\n",
    "    for m in all_matches:\n",
    "        if len(m)>0:\n",
    "            vals, counts = np.unique(np.array(m)[:,1], return_counts=True)\n",
    "        else:\n",
    "            counts = [0]\n",
    "        all_counts.append(counts)\n",
    "        all_overmatch.append(max(counts))\n",
    "    \n",
    "    return all_counts, all_matches, all_overmatch"
   ]
  },
  {
   "cell_type": "code",
   "execution_count": 234,
   "metadata": {},
   "outputs": [
    {
     "name": "stderr",
     "output_type": "stream",
     "text": [
      "100%|█████████████████████████████████████████████████████████████| 1/1 [00:00<00:00,  9.97it/s]\n"
     ]
    }
   ],
   "source": [
    "lmd_vec = [0.1]\n",
    "k_vec = [1e10]\n",
    "gamma_vec = [0.1]\n",
    "params = list(itertools.product(lmd_vec,k_vec,gamma_vec))\n",
    "\n",
    "opt = {'voxel_size':None, 'DEBUG':False}\n",
    "\n",
    "all_counts, all_matches, all_overmatch = \\\n",
    "    test_rigid_params(neurons0, neurons1, params, opt)"
   ]
  },
  {
   "cell_type": "code",
   "execution_count": 235,
   "metadata": {},
   "outputs": [
    {
     "data": {
      "text/plain": [
       "[<matplotlib.lines.Line2D at 0x2a72c2df790>]"
      ]
     },
     "execution_count": 235,
     "metadata": {},
     "output_type": "execute_result"
    },
    {
     "data": {
      "image/png": "[encoded data removed]",
      "text/plain": [
       "<Figure size 432x288 with 1 Axes>"
      ]
     },
     "metadata": {
      "needs_background": "light"
     },
     "output_type": "display_data"
    }
   ],
   "source": [
    "\n",
    "y = [len(c) for c in all_counts]\n",
    "plt.plot(y, 'o')\n",
    "plt.plot(all_overmatch, '.')\n"
   ]
  },
  {
   "cell_type": "code",
   "execution_count": 236,
   "metadata": {},
   "outputs": [],
   "source": [
    "m = all_matches[0]\n",
    "visualize_tracks(neurons0, neurons1, m, to_plot_failed_lines=False)"
   ]
  },
  {
   "cell_type": "code",
   "execution_count": null,
   "metadata": {},
   "outputs": [],
   "source": []
  }
 ],
 "metadata": {
  "kernelspec": {
   "display_name": "Python [conda env:bcpd]",
   "language": "python",
   "name": "conda-env-bcpd-py"
  },
  "language_info": {
   "codemirror_mode": {
    "name": "ipython",
    "version": 3
   },
   "file_extension": ".py",
   "mimetype": "text/x-python",
   "name": "python",
   "nbconvert_exporter": "python",
   "pygments_lexer": "ipython3",
   "version": "3.8.5"
  }
 },
 "nbformat": 4,
 "nbformat_minor": 4
}
