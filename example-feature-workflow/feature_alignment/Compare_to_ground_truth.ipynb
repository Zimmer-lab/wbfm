{
 "cells": [
  {
   "cell_type": "markdown",
   "id": "indonesian-credit",
   "metadata": {},
   "source": [
    "## Compare to ground truth (3d DLC annotations)"
   ]
  },
  {
   "cell_type": "code",
   "execution_count": 1,
   "id": "unavailable-alexander",
   "metadata": {},
   "outputs": [],
   "source": [
    "import os\n",
    "import numpy as np\n",
    "import matplotlib.pyplot as plt\n",
    "import open3d as o3d\n",
    "import pandas as pd\n",
    "%load_ext autoreload\n",
    "%autoreload 2\n",
    "\n",
    "from DLC_for_WBFM.utils.feature_detection.utils_features import *\n",
    "from DLC_for_WBFM.utils.feature_detection.utils_tracklets import *\n",
    "from DLC_for_WBFM.utils.feature_detection.utils_detection import *\n",
    "from DLC_for_WBFM.utils.feature_detection.visualization_tracks import *\n",
    "from DLC_for_WBFM.utils.feature_detection.feature_pipeline import *\n",
    "from DLC_for_WBFM.utils.feature_detection.utils_affine import *"
   ]
  },
  {
   "cell_type": "code",
   "execution_count": 2,
   "id": "elegant-protein",
   "metadata": {},
   "outputs": [],
   "source": [
    "# Get the 3d bigtiff folder\n",
    "# Note: actually only 5 frames\n",
    "bigtiff_folder = r'D:\\Old_annotated_DLC\\3d_annotations'\n",
    "\n",
    "btf_fname_red = r'combined_img.btf'\n",
    "btf_fname_red = os.path.join(bigtiff_folder, btf_fname_red)\n",
    "\n",
    "annotations_fname = 'CollectedData_Charlie.h5'\n",
    "annotations_fname = os.path.join(bigtiff_folder, annotations_fname)"
   ]
  },
  {
   "cell_type": "markdown",
   "id": "indie-metro",
   "metadata": {},
   "source": [
    "## Get two sets of matches: affine, and feature-based\n"
   ]
  },
  {
   "cell_type": "code",
   "execution_count": 10,
   "id": "wired-costs",
   "metadata": {},
   "outputs": [
    {
     "name": "stderr",
     "output_type": "stream",
     "text": [
      "\r",
      "  0%|                                                                         | 0/1 [00:00<?, ?it/s]"
     ]
    },
    {
     "name": "stdout",
     "output_type": "stream",
     "text": [
      "[Open3D WARNING] [KDTreeFlann::SetRawData] Failed due to no data.\n"
     ]
    },
    {
     "name": "stderr",
     "output_type": "stream",
     "text": [
      "100%|█████████████████████████████████████████████████████████████████| 1/1 [00:11<00:00, 11.49s/it]\n",
      "  0%|                                                                         | 0/1 [00:00<?, ?it/s]"
     ]
    },
    {
     "name": "stdout",
     "output_type": "stream",
     "text": [
      "[Open3D WARNING] [KDTreeFlann::SetRawData] Failed due to no data.\n"
     ]
    },
    {
     "name": "stderr",
     "output_type": "stream",
     "text": [
      "100%|█████████████████████████████████████████████████████████████████| 1/1 [00:08<00:00,  8.86s/it]\n"
     ]
    }
   ],
   "source": [
    "p = PreprocessingSettings()\n",
    "p.do_filtering=False\n",
    "p.do_rigid_alignment=False\n",
    "p.do_mini_max_projection=True\n",
    "\n",
    "opt = {'start_frame':0,\n",
    "       'num_frames':2,\n",
    "      'use_affine_matching':True}\n",
    "a_matches, a_conf, a_frames, a_candidates = track_neurons_full_video(btf_fname_red, **opt, preprocessing_settings=p)\n",
    "\n",
    "opt = {'start_frame':0,\n",
    "       'num_frames':2,\n",
    "      'use_affine_matching':False}\n",
    "f_matches, f_conf, f_frames, f_candidates = track_neurons_full_video(btf_fname_red, **opt, preprocessing_settings=p)"
   ]
  },
  {
   "cell_type": "markdown",
   "id": "hourly-therapy",
   "metadata": {},
   "source": [
    "## Get the DLC annotations\n"
   ]
  },
  {
   "cell_type": "code",
   "execution_count": 11,
   "id": "convertible-article",
   "metadata": {},
   "outputs": [],
   "source": [
    "k = (0,1) # Which frames to compare"
   ]
  },
  {
   "cell_type": "code",
   "execution_count": 12,
   "id": "coupled-expense",
   "metadata": {},
   "outputs": [],
   "source": [
    "df = pd.read_hdf(annotations_fname, key=\"df_with_missing\")\n",
    "df = df['Charlie']\n",
    "\n",
    "num_neurons = int(len(df.columns)/3)\n",
    "xyz_gt0 = np.zeros((num_neurons, 3))\n",
    "xyz_gt1 = np.zeros((num_neurons, 3))\n",
    "dat_gt = np.zeros((num_neurons, 3))\n",
    "for i in range(num_neurons):\n",
    "    name = f\"neuron{i}\"\n",
    "    v0 = np.array(df[name].iloc[k[0],:])\n",
    "    v1 = np.array(df[name].iloc[k[1],:])\n",
    "    ind = [2,0,1]\n",
    "    v0, v1 = v0[ind], v1[ind]\n",
    "    xyz_gt0[i,:] = v0\n",
    "    xyz_gt1[i,:] = v1\n",
    "    dat_gt[i,:] = v1-v0"
   ]
  },
  {
   "cell_type": "markdown",
   "id": "protecting-manchester",
   "metadata": {},
   "source": [
    "## Make these into point clouds, with lines for matches"
   ]
  },
  {
   "cell_type": "code",
   "execution_count": 13,
   "id": "stone-moscow",
   "metadata": {},
   "outputs": [],
   "source": [
    "# First, the automated matches\n",
    "\n",
    "a0_unmatched = a_frames[k[0]].neuron_locs\n",
    "a1_unmatched = a_frames[k[1]].neuron_locs\n",
    "this_match, this_conf = a_matches[k], a_conf[k]\n",
    "# all_m, all_c, to_remove_ind = keep_best_match(this_match, this_conf)\n",
    "\n",
    "a_xyz = np.zeros((len(this_match), 3), dtype=np.float32) # Start point\n",
    "a_dat = np.zeros((len(this_match), 3), dtype=np.float32) # Difference vector\n",
    "for m, match in enumerate(this_match):\n",
    "    v0 = a0_unmatched[match[0]]\n",
    "    v1 = a1_unmatched[match[1]]\n",
    "    a_xyz[m, :] = v0\n",
    "    a_dat[m, :] = v1 - v0\n",
    "\n",
    "f0_unmatched = f_frames[k[0]].neuron_locs\n",
    "f1_unmatched = f_frames[k[1]].neuron_locs\n",
    "this_match, this_conf = f_matches[k], f_conf[k]\n",
    "# all_m, all_c, to_remove_ind = keep_best_match(this_match, this_conf)\n",
    "\n",
    "f_xyz = np.zeros((len(this_match), 3), dtype=np.float32) # Start point\n",
    "f_dat = np.zeros((len(this_match), 3), dtype=np.float32) # Difference vector\n",
    "for m, match in enumerate(this_match):\n",
    "    v0 = f0_unmatched[match[0]]\n",
    "    v1 = f1_unmatched[match[1]]\n",
    "    f_xyz[m, :] = v0\n",
    "    f_dat[m, :] = v1 - v0"
   ]
  },
  {
   "cell_type": "code",
   "execution_count": 14,
   "id": "racial-gross",
   "metadata": {},
   "outputs": [
    {
     "data": {
      "text/plain": [
       "PointCloud with 117 points."
      ]
     },
     "execution_count": 14,
     "metadata": {},
     "output_type": "execute_result"
    }
   ],
   "source": [
    "# Affine\n",
    "pc0 = build_neuron_tree(a_xyz, False)[1]\n",
    "pc1 = build_neuron_tree(a_xyz+a_dat, False)[1]\n",
    "\n",
    "affine_lines = build_line_set_from_matches(pc0, pc1, matches=None, color=[0,0,1])\n",
    "affine_lines.translate(np.array([0.0,0.0,0.5]))\n",
    "\n",
    "# Feature (same points, ordered differently)\n",
    "pc0 = build_neuron_tree(f_xyz, False)[1]\n",
    "pc1 = build_neuron_tree(f_xyz+f_dat, False)[1]\n",
    "\n",
    "feature_lines = build_line_set_from_matches(pc0, pc1, matches=None, color=[1,0,0])\n",
    "# Offset for visualization\n",
    "feature_lines.translate(np.array([0.0,0.5,0.0]))\n",
    "\n",
    "# Define full point clouds\n",
    "pc0 = build_neuron_tree(a0_unmatched, False)[1]\n",
    "pc0.paint_uniform_color([0,0,0])\n",
    "pc1 = build_neuron_tree(a1_unmatched, False)[1]\n",
    "pc1.paint_uniform_color([0.5,0.5,0.5])"
   ]
  },
  {
   "cell_type": "code",
   "execution_count": 15,
   "id": "welcome-restaurant",
   "metadata": {},
   "outputs": [],
   "source": [
    "\n",
    "pc0_gt = build_neuron_tree(xyz_gt0, False)[1]\n",
    "pc1_gt = build_neuron_tree(xyz_gt1, False)[1]\n",
    "\n",
    "gt_lines = build_line_set_from_matches(pc0_gt, pc1_gt, matches=None, color=[0,1,0])"
   ]
  },
  {
   "cell_type": "markdown",
   "id": "fundamental-trail",
   "metadata": {},
   "source": [
    "## Finally, visualize"
   ]
  },
  {
   "cell_type": "code",
   "execution_count": 21,
   "id": "patent-eating",
   "metadata": {},
   "outputs": [],
   "source": [
    "o3d.visualization.draw_geometries([pc0, pc1, feature_lines, gt_lines])"
   ]
  },
  {
   "cell_type": "code",
   "execution_count": null,
   "id": "nonprofit-premium",
   "metadata": {},
   "outputs": [],
   "source": [
    "o3d.visualization.draw_geometries([pc0, pc1, feature_lines])"
   ]
  },
  {
   "cell_type": "code",
   "execution_count": 25,
   "id": "comparable-pizza",
   "metadata": {},
   "outputs": [],
   "source": [
    "o3d.visualization.draw_geometries([pc0, pc1, affine_lines])"
   ]
  },
  {
   "cell_type": "code",
   "execution_count": 24,
   "id": "aerial-characteristic",
   "metadata": {},
   "outputs": [],
   "source": [
    "o3d.visualization.draw_geometries([pc0, pc1, affine_lines, gt_lines])"
   ]
  },
  {
   "cell_type": "code",
   "execution_count": null,
   "id": "excessive-proportion",
   "metadata": {},
   "outputs": [],
   "source": [
    "o3d.visualization.draw_geometries([pc0, pc1, affine_lines, feature_lines, gt_lines])"
   ]
  }
 ],
 "metadata": {
  "kernelspec": {
   "display_name": "Python [conda env:track_using_features] *",
   "language": "python",
   "name": "conda-env-track_using_features-py"
  },
  "language_info": {
   "codemirror_mode": {
    "name": "ipython",
    "version": 3
   },
   "file_extension": ".py",
   "mimetype": "text/x-python",
   "name": "python",
   "nbconvert_exporter": "python",
   "pygments_lexer": "ipython3",
   "version": "3.7.9"
  }
 },
 "nbformat": 4,
 "nbformat_minor": 5
}
