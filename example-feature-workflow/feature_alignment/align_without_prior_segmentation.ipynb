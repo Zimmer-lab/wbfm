{
 "cells": [
  {
   "cell_type": "markdown",
   "metadata": {},
   "source": [
    "# First, import data"
   ]
  },
  {
   "cell_type": "code",
   "execution_count": 1,
   "metadata": {},
   "outputs": [],
   "source": [
    "import os\n",
    "import numpy as np\n",
    "import tifffile\n",
    "import matplotlib.pyplot as plt\n",
    "%load_ext autoreload\n",
    "%autoreload 2\n",
    "\n",
    "from DLC_for_WBFM.utils.feature_detection.utils_features import *\n",
    "from DLC_for_WBFM.utils.feature_detection.utils_tracklets import *\n",
    "from DLC_for_WBFM.utils.feature_detection.utils_detection import *\n",
    "from DLC_for_WBFM.utils.feature_detection.visualization_tracks import *"
   ]
  },
  {
   "cell_type": "code",
   "execution_count": 2,
   "metadata": {},
   "outputs": [],
   "source": [
    "dat_foldername = r'..\\point_cloud_alignment'\n",
    "\n",
    "\n",
    "vol0 = os.path.join(dat_foldername, 'img100.tif')\n",
    "with tifffile.TiffFile(vol0) as tif:\n",
    "    dat0 = tif.asarray()\n",
    "\n",
    "vol1 = os.path.join(dat_foldername, 'img101.tif')\n",
    "with tifffile.TiffFile(vol1) as tif:\n",
    "    dat1 = tif.asarray()"
   ]
  },
  {
   "cell_type": "code",
   "execution_count": 3,
   "metadata": {
    "scrolled": true
   },
   "outputs": [
    {
     "name": "stdout",
     "output_type": "stream",
     "text": [
      "Building pairwise correspondence...\n",
      "[Open3D WARNING] [KDTreeFlann::SetRawData] Failed due to no data.\n",
      "Building clusters...\n",
      "Finished ID'ing neurons\n",
      "Building pairwise correspondence...\n",
      "[Open3D WARNING] [KDTreeFlann::SetRawData] Failed due to no data.\n",
      "[Open3D WARNING] [KDTreeFlann::SetRawData] Failed due to no data.\n",
      "[Open3D WARNING] [KDTreeFlann::SetRawData] Failed due to no data.\n",
      "[Open3D WARNING] [KDTreeFlann::SetRawData] Failed due to no data.\n",
      "[Open3D WARNING] [KDTreeFlann::SetRawData] Failed due to no data.\n",
      "Building clusters...\n",
      "Finished ID'ing neurons\n"
     ]
    }
   ],
   "source": [
    "# Detect neurons for each\n",
    "num_slices = 33\n",
    "neurons0, df0, icp0, pcs0 = detect_neurons_using_ICP(dat0, num_slices, alpha=0.15, verbose=1)\n",
    "neurons1, df1, icp1, pcs1 = detect_neurons_using_ICP(dat1, num_slices, alpha=0.15, verbose=1)"
   ]
  },
  {
   "cell_type": "code",
   "execution_count": 4,
   "metadata": {},
   "outputs": [],
   "source": [
    "#neurons0 = get_centroids_from_df(df0, 3)\n",
    "#neurons1 = get_centroids_from_df(df1, 3)"
   ]
  },
  {
   "cell_type": "code",
   "execution_count": 5,
   "metadata": {},
   "outputs": [],
   "source": [
    "all_features0, all_features1, kp0, kp1 = build_features_on_all_planes('img100.tif','img101.tif',\n",
    "                                                                      verbose=1,\n",
    "                                                                      matches_to_keep=0.8,\n",
    "                                                                      num_features_per_plane=10000,\n",
    "                                                                      detect_keypoints=True,\n",
    "                                                                      kp0=neurons0,\n",
    "                                                                      kp1=neurons1)"
   ]
  },
  {
   "cell_type": "code",
   "execution_count": 6,
   "metadata": {
    "scrolled": true
   },
   "outputs": [
    {
     "name": "stdout",
     "output_type": "stream",
     "text": [
      "Could not match neuron 0\n",
      "Matched neuron 1 based on 50 features\n",
      "Matched neuron 2 based on 34 features\n",
      "Matched neuron 3 based on 37 features\n",
      "Matched neuron 4 based on 50 features\n",
      "Matched neuron 5 based on 45 features\n",
      "Matched neuron 6 based on 50 features\n",
      "Matched neuron 7 based on 41 features\n",
      "Matched neuron 8 based on 50 features\n",
      "Matched neuron 9 based on 50 features\n",
      "Matched neuron 10 based on 50 features\n",
      "Matched neuron 11 based on 50 features\n",
      "Matched neuron 12 based on 50 features\n",
      "Matched neuron 13 based on 15 features\n",
      "Matched neuron 14 based on 34 features\n",
      "Matched neuron 15 based on 50 features\n",
      "Matched neuron 16 based on 26 features\n",
      "Matched neuron 17 based on 49 features\n",
      "Matched neuron 18 based on 50 features\n",
      "Matched neuron 19 based on 50 features\n",
      "Matched neuron 20 based on 15 features\n",
      "Matched neuron 21 based on 49 features\n",
      "Matched neuron 22 based on 45 features\n",
      "Matched neuron 23 based on 27 features\n",
      "Matched neuron 24 based on 50 features\n",
      "Could not match neuron 25\n",
      "Matched neuron 26 based on 26 features\n",
      "Matched neuron 27 based on 50 features\n",
      "Matched neuron 28 based on 16 features\n",
      "Matched neuron 29 based on 29 features\n",
      "Matched neuron 30 based on 50 features\n",
      "Matched neuron 31 based on 37 features\n",
      "Matched neuron 32 based on 16 features\n",
      "Matched neuron 33 based on 45 features\n",
      "Matched neuron 34 based on 44 features\n",
      "Matched neuron 35 based on 14 features\n",
      "Matched neuron 36 based on 50 features\n",
      "Matched neuron 37 based on 45 features\n",
      "Matched neuron 38 based on 11 features\n",
      "Matched neuron 39 based on 50 features\n",
      "Matched neuron 40 based on 50 features\n",
      "Matched neuron 41 based on 50 features\n",
      "Matched neuron 42 based on 50 features\n",
      "Matched neuron 43 based on 50 features\n",
      "Matched neuron 44 based on 50 features\n",
      "Matched neuron 45 based on 50 features\n",
      "Matched neuron 46 based on 50 features\n",
      "Matched neuron 47 based on 27 features\n",
      "Matched neuron 48 based on 50 features\n",
      "Matched neuron 49 based on 49 features\n",
      "Matched neuron 50 based on 50 features\n",
      "Matched neuron 51 based on 50 features\n",
      "Matched neuron 52 based on 39 features\n",
      "Matched neuron 53 based on 24 features\n",
      "Matched neuron 54 based on 50 features\n",
      "Matched neuron 55 based on 31 features\n",
      "Matched neuron 56 based on 18 features\n",
      "Matched neuron 57 based on 50 features\n",
      "Matched neuron 58 based on 21 features\n",
      "Matched neuron 59 based on 50 features\n",
      "Matched neuron 60 based on 50 features\n",
      "Matched neuron 61 based on 50 features\n",
      "Matched neuron 62 based on 50 features\n",
      "Matched neuron 63 based on 50 features\n",
      "Matched neuron 64 based on 35 features\n",
      "Matched neuron 65 based on 50 features\n",
      "Matched neuron 66 based on 50 features\n",
      "Matched neuron 67 based on 46 features\n",
      "Matched neuron 68 based on 26 features\n",
      "Matched neuron 69 based on 6 features\n",
      "Matched neuron 70 based on 50 features\n",
      "Matched neuron 71 based on 50 features\n",
      "Matched neuron 72 based on 50 features\n",
      "Matched neuron 73 based on 48 features\n",
      "Matched neuron 74 based on 26 features\n",
      "Matched neuron 75 based on 28 features\n",
      "Matched neuron 76 based on 38 features\n",
      "Matched neuron 77 based on 28 features\n",
      "Matched neuron 78 based on 50 features\n",
      "Matched neuron 79 based on 50 features\n",
      "Matched neuron 80 based on 21 features\n",
      "Matched neuron 81 based on 7 features\n",
      "Matched neuron 82 based on 50 features\n",
      "Matched neuron 83 based on 40 features\n",
      "Matched neuron 84 based on 50 features\n",
      "Matched neuron 85 based on 50 features\n",
      "Matched neuron 86 based on 50 features\n",
      "Matched neuron 87 based on 50 features\n",
      "Matched neuron 88 based on 45 features\n",
      "Matched neuron 89 based on 50 features\n",
      "Matched neuron 90 based on 50 features\n",
      "Matched neuron 91 based on 34 features\n",
      "Matched neuron 92 based on 50 features\n",
      "Matched neuron 93 based on 25 features\n",
      "Matched neuron 94 based on 50 features\n",
      "Matched neuron 95 based on 41 features\n",
      "Matched neuron 96 based on 6 features\n",
      "Matched neuron 97 based on 50 features\n",
      "Matched neuron 98 based on 50 features\n",
      "Matched neuron 99 based on 30 features\n",
      "Matched neuron 100 based on 50 features\n",
      "Matched neuron 101 based on 29 features\n",
      "Matched neuron 102 based on 33 features\n",
      "Matched neuron 103 based on 50 features\n",
      "Matched neuron 104 based on 50 features\n",
      "Could not match neuron 105\n",
      "Matched neuron 106 based on 10 features\n",
      "Matched neuron 107 based on 43 features\n",
      "Matched neuron 108 based on 30 features\n",
      "Matched neuron 109 based on 49 features\n",
      "Matched neuron 110 based on 33 features\n",
      "Matched neuron 111 based on 7 features\n",
      "Matched neuron 112 based on 38 features\n",
      "Matched neuron 113 based on 50 features\n",
      "Matched neuron 114 based on 50 features\n",
      "Matched neuron 115 based on 50 features\n",
      "Matched neuron 116 based on 27 features\n",
      "Matched neuron 117 based on 27 features\n",
      "Matched neuron 118 based on 49 features\n",
      "Matched neuron 119 based on 40 features\n",
      "Matched neuron 120 based on 37 features\n",
      "Matched neuron 121 based on 35 features\n",
      "Matched neuron 122 based on 11 features\n",
      "Matched neuron 123 based on 6 features\n",
      "Matched neuron 124 based on 12 features\n",
      "Could not match neuron 125\n",
      "Matched neuron 126 based on 14 features\n",
      "Matched neuron 127 based on 12 features\n",
      "Matched neuron 128 based on 39 features\n",
      "Matched neuron 129 based on 42 features\n",
      "Could not match neuron 130\n",
      "Matched neuron 131 based on 18 features\n",
      "Matched neuron 132 based on 22 features\n",
      "Matched neuron 133 based on 50 features\n",
      "Matched neuron 134 based on 50 features\n",
      "Could not match neuron 135\n",
      "Matched neuron 136 based on 6 features\n",
      "Matched neuron 137 based on 36 features\n",
      "Matched neuron 138 based on 32 features\n",
      "Matched neuron 139 based on 48 features\n",
      "Could not match neuron 140\n",
      "Matched neuron 141 based on 30 features\n",
      "Could not match neuron 142\n",
      "Matched neuron 143 based on 42 features\n",
      "Could not match neuron 144\n",
      "Matched neuron 145 based on 34 features\n",
      "Matched neuron 146 based on 12 features\n",
      "Removed the following duplicates: [137, 120, 112, 111, 108, 105, 103, 97, 94, 67, 46, 43, 40, 37, 36, 33, 16]\n"
     ]
    }
   ],
   "source": [
    "all_matches, f2n, all_conf = match_centroids_using_tree(np.array(neurons0), \n",
    "                               np.array(neurons1), \n",
    "                               all_features0, \n",
    "                               all_features1,\n",
    "                               radius=8,\n",
    "                               max_nn=50,\n",
    "                               min_features_needed=5,\n",
    "                                   verbose=1,\n",
    "                                     to_mirror=False)"
   ]
  },
  {
   "cell_type": "code",
   "execution_count": null,
   "metadata": {},
   "outputs": [],
   "source": [
    "visualize_tracks(neurons0, neurons1, all_matches, to_plot_failed_lines=False)"
   ]
  },
  {
   "cell_type": "markdown",
   "metadata": {},
   "source": [
    "# Visualization of indermediate results"
   ]
  },
  {
   "cell_type": "code",
   "execution_count": 68,
   "metadata": {},
   "outputs": [],
   "source": [
    "full_pc0 = build_full_pc_from_list(pcs0)\n",
    "full_pc1 = build_full_pc_from_list(pcs1)"
   ]
  },
  {
   "cell_type": "code",
   "execution_count": 69,
   "metadata": {},
   "outputs": [],
   "source": [
    "visualize_clusters_from_dataframe(full_pc0, df0)"
   ]
  },
  {
   "cell_type": "code",
   "execution_count": 45,
   "metadata": {},
   "outputs": [],
   "source": [
    "visualize_clusters_from_dataframe(full_pc1, df1)"
   ]
  },
  {
   "cell_type": "code",
   "execution_count": null,
   "metadata": {},
   "outputs": [],
   "source": []
  }
 ],
 "metadata": {
  "kernelspec": {
   "display_name": "Python [conda env:track_using_features] *",
   "language": "python",
   "name": "conda-env-track_using_features-py"
  },
  "language_info": {
   "codemirror_mode": {
    "name": "ipython",
    "version": 3
   },
   "file_extension": ".py",
   "mimetype": "text/x-python",
   "name": "python",
   "nbconvert_exporter": "python",
   "pygments_lexer": "ipython3",
   "version": "3.7.9"
  }
 },
 "nbformat": 4,
 "nbformat_minor": 4
}
