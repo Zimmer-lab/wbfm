{
 "cells": [
  {
   "cell_type": "code",
   "execution_count": 1,
   "id": "therapeutic-postage",
   "metadata": {},
   "outputs": [],
   "source": [
    "import os\n",
    "import numpy as np\n",
    "import tifffile\n",
    "import matplotlib.pyplot as plt\n",
    "%load_ext autoreload\n",
    "%autoreload 2\n",
    "\n",
    "from DLC_for_WBFM.utils.feature_detection.feature_pipeline import *\n",
    "from DLC_for_WBFM.utils.feature_detection.utils_tracklets import *\n",
    "from DLC_for_WBFM.utils.feature_detection.utils_detection import *\n",
    "from DLC_for_WBFM.utils.feature_detection.visualization_tracks import *\n",
    "from DLC_for_WBFM.utils.feature_detection.utils_candidate_matches import *\n",
    "from DLC_for_WBFM.utils.video_and_data_conversion.import_video_as_array import *\n",
    "import networkx as nx\n",
    "from DLC_for_WBFM.utils.feature_detection.utils_reference_frames import *\n",
    "import pickle"
   ]
  },
  {
   "cell_type": "code",
   "execution_count": 2,
   "id": "novel-lighting",
   "metadata": {},
   "outputs": [],
   "source": [
    "# Get the 3d bigtiff folder\n",
    "bigtiff_folder = r'D:\\More-stabilized-wbfm'\n",
    "\n",
    "btf_fname_red = r'test2020-10-22_16-15-20_test4-channel-0-pco_camera1\\test2020-10-22_16-15-20_test4-channel-0-pco_camera1bigtiff.btf'\n",
    "btf_fname_red = os.path.join(bigtiff_folder, btf_fname_red)\n",
    "\n",
    "# Annotations in the same folder as the .btf\n",
    "external_annotations = r'test2020-10-22_16-15-20_test4-channel-0-pco_camera1\\masks-500.pickle'\n",
    "external_annotations = os.path.join(bigtiff_folder, external_annotations)"
   ]
  },
  {
   "cell_type": "markdown",
   "id": "disabled-korea",
   "metadata": {},
   "source": [
    "# First, only subsequent matches"
   ]
  },
  {
   "cell_type": "code",
   "execution_count": 73,
   "id": "gentle-dominican",
   "metadata": {},
   "outputs": [
    {
     "name": "stderr",
     "output_type": "stream",
     "text": [
      "100%|████████████████████████████████████████████████████████████████████████████████| 499/499 [47:08<00:00,  5.67s/it]\n"
     ]
    }
   ],
   "source": [
    "opt = {'start_frame':50,\n",
    "       'num_frames':500,\n",
    "       'verbose':0,\n",
    "       'num_slices':33,\n",
    "       #'num_subsequent_matches':1,\n",
    "       'save_candidate_matches':True,\n",
    "       'add_affine_to_candidates':False,\n",
    "       'add_gp_to_candidates':False,\n",
    "       'external_detections':external_annotations}\n",
    "\n",
    "p = PreprocessingSettings()\n",
    "p.do_filtering=False\n",
    "p.do_rigid_alignment=True\n",
    "p.do_mini_max_projection=True\n",
    "\n",
    "out = track_neurons_full_video(btf_fname_red, **opt, preprocessing_settings=p)\n",
    "# out = track_neurons_full_video_window(btf_fname_red, **opt, preprocessing_settings=p)\n",
    "all_matches, all_conf, all_frames, candidates = out"
   ]
  },
  {
   "cell_type": "code",
   "execution_count": 102,
   "id": "nuclear-cornell",
   "metadata": {
    "scrolled": false
   },
   "outputs": [],
   "source": [
    "# Force a restart at 0; the video later will have to start at the same point\n",
    "list_frames = list(all_frames.values())\n",
    "offset = opt['start_frame']\n",
    "reindexed_matches = {(k[0]-offset,k[1]-offset):v for k,v in all_matches.items()}\n",
    "clust_df = build_tracklets_from_classes(list_frames, reindexed_matches, verbose=0)"
   ]
  },
  {
   "cell_type": "code",
   "execution_count": 103,
   "id": "indirect-tyler",
   "metadata": {},
   "outputs": [],
   "source": [
    "suffix = 'sequential-stardist'\n",
    "\n",
    "fname = f'clust_df_dat_{suffix}.pickle'\n",
    "with open(fname, 'wb') as f:\n",
    "    pickle.dump(clust_df,f)\n",
    "fname = f'match_dat_{suffix}.pickle'\n",
    "with open(fname, 'wb') as f:\n",
    "    pickle.dump(all_matches, f)\n",
    "fname = f'frame_dat_{suffix}.pickle'\n",
    "\n",
    "[frame.prep_for_pickle() for frame in all_frames.values()]\n",
    "with open(fname, 'wb') as f:\n",
    "    pickle.dump(all_frames, f)"
   ]
  },
  {
   "cell_type": "markdown",
   "id": "illegal-escape",
   "metadata": {},
   "source": [
    "## Visualize"
   ]
  },
  {
   "cell_type": "code",
   "execution_count": 104,
   "id": "norman-moisture",
   "metadata": {},
   "outputs": [
    {
     "data": {
      "text/plain": [
       "0        66\n",
       "1        60\n",
       "2       500\n",
       "3       257\n",
       "4       256\n",
       "       ... \n",
       "6499      2\n",
       "6500      2\n",
       "6501      2\n",
       "6502      2\n",
       "6503      2\n",
       "Name: slice_ind, Length: 6504, dtype: int64"
      ]
     },
     "execution_count": 104,
     "metadata": {},
     "output_type": "execute_result"
    },
    {
     "data": {
      "image/png": "[encoded data removed]",
      "text/plain": [
       "<Figure size 432x288 with 1 Axes>"
      ]
     },
     "metadata": {
      "needs_background": "light"
     },
     "output_type": "display_data"
    }
   ],
   "source": [
    "hist_of_tracklet_lens(clust_df)"
   ]
  },
  {
   "cell_type": "code",
   "execution_count": 79,
   "id": "muslim-macintosh",
   "metadata": {},
   "outputs": [],
   "source": [
    "k = (51,52)\n",
    "plot_matched_point_clouds(all_frames, all_matches, k);"
   ]
  },
  {
   "cell_type": "markdown",
   "id": "burning-darkness",
   "metadata": {},
   "source": [
    "# Step 2: window consensus"
   ]
  },
  {
   "cell_type": "code",
   "execution_count": 58,
   "id": "super-bridal",
   "metadata": {
    "scrolled": true
   },
   "outputs": [],
   "source": [
    "# opt = {'start_frame':50,\n",
    "#        'num_frames':490,\n",
    "#        'verbose':0,\n",
    "#        'num_slices':33,\n",
    "#        'num_subsequent_matches':7,\n",
    "#        'save_candidate_matches':True,\n",
    "#        'add_affine_to_candidates':True,\n",
    "#        'add_gp_to_candidates':True,\n",
    "#        'external_detections':external_annotations}\n",
    "\n",
    "# p = PreprocessingSettings()\n",
    "# p.do_filtering=False\n",
    "# p.do_rigid_alignment=True\n",
    "# p.do_mini_max_projection=True\n",
    "\n",
    "# out = track_neurons_full_video_window(btf_fname_red, **opt, preprocessing_settings=p)\n",
    "# all_matches, all_conf, all_frames, candidates = out"
   ]
  },
  {
   "cell_type": "code",
   "execution_count": null,
   "id": "suited-railway",
   "metadata": {},
   "outputs": [],
   "source": [
    "all_communities = calc_neurons_using_k_cliques(candidates,\n",
    "                                 k_values = [6,5,4,3],\n",
    "                                 list_min_sizes = [450, 400],\n",
    "                                 max_size = 500)"
   ]
  },
  {
   "cell_type": "code",
   "execution_count": null,
   "id": "miniature-communications",
   "metadata": {},
   "outputs": [],
   "source": [
    "clique_matches = community_to_matches(all_communities)\n",
    "# Force a restart at 0; the video later will have to start at the same point\n",
    "list_frames = list(all_frames.values())\n",
    "clust_df = build_tracklets_from_classes(list_frames, dict(clique_matches), verbose=0)"
   ]
  },
  {
   "cell_type": "code",
   "execution_count": null,
   "id": "opening-advice",
   "metadata": {},
   "outputs": [],
   "source": [
    "suffix = 'sequential-7-stardist'\n",
    "\n",
    "fname = f'clust_df_dat_{suffix}.pickle'\n",
    "with open(fname, 'wb') as f:\n",
    "    pickle.dump(clust_df,f)\n",
    "fname = f'match_dat_{suffix}.pickle'\n",
    "with open(fname, 'wb') as f:\n",
    "    pickle.dump(clique_matches, f)\n",
    "fname = f'frame_dat_{suffix}.pickle'\n",
    "[frame.prep_for_pickle() for frame in list_frames]\n",
    "with open(fname, 'wb') as f:\n",
    "    pickle.dump(list_frames, f)"
   ]
  },
  {
   "cell_type": "markdown",
   "id": "chemical-olive",
   "metadata": {},
   "source": [
    "# Step 3: Reference frame pipeline"
   ]
  },
  {
   "cell_type": "code",
   "execution_count": 34,
   "id": "angry-lease",
   "metadata": {},
   "outputs": [
    {
     "name": "stderr",
     "output_type": "stream",
     "text": [
      "100%|██████████████████████████████████████████████████████████████████████████████████| 31/31 [01:01<00:00,  1.98s/it]\n",
      "100%|██████████████████████████████████████████████████████████████████████████████████| 31/31 [09:50<00:00, 19.06s/it]\n",
      "100%|██████████████████████████████████████████████████████████████████████████████| 469/469 [2:47:22<00:00, 21.41s/it]\n"
     ]
    }
   ],
   "source": [
    "opt = {'start_frame':50,\n",
    "       'num_frames':500,\n",
    "       'num_reference_frames':31,\n",
    "       'num_slices':33,\n",
    "       'add_gp_to_candidates':False,\n",
    "       'add_affine_to_candidates':False,\n",
    "       'use_affine_matching':False,\n",
    "       'neuron_cluster_mode':'voronoi',\n",
    "       'external_detections':external_annotations}\n",
    "\n",
    "p = PreprocessingSettings()\n",
    "p.do_filtering=False\n",
    "p.do_rigid_alignment=True\n",
    "p.do_mini_max_projection=True\n",
    "\n",
    "out = track_via_reference_frames(btf_fname_red, **opt)\n",
    "all_matches, all_other_frames, reference_set = out"
   ]
  },
  {
   "cell_type": "code",
   "execution_count": null,
   "id": "judicial-wrestling",
   "metadata": {
    "scrolled": true
   },
   "outputs": [],
   "source": [
    "# # Fix bug above\n",
    "# for m, f, in zip(all_matches, all_other_frames):\n",
    "#     f.neuron_ids = m"
   ]
  },
  {
   "cell_type": "code",
   "execution_count": 35,
   "id": "creative-medium",
   "metadata": {},
   "outputs": [],
   "source": [
    "# Cast these matches into dataframe format\n",
    "# Force reset at 0\n",
    "columns=['clust_ind', 'all_ind_local', 'all_ind_global', 'all_xyz',\n",
    "             'all_prob',\n",
    "             'slice_ind','extended_this_slice', 'not_finished']\n",
    "\n",
    "from collections import defaultdict\n",
    "all_all_ind_local = defaultdict(list)\n",
    "all_all_xyz = defaultdict(list)\n",
    "all_all_slice_ind = defaultdict(list)\n",
    "# Do reference frames and other frames\n",
    "all_frames = list(reference_set.reference_frames.values())\n",
    "all_frames.extend(all_other_frames)\n",
    "for f in all_frames:\n",
    "#     Add all neurons to each cluster, if present\n",
    "    for i in range(len(f.neuron_ids)):\n",
    "        clust_ind = f.neuron_ids[i][1] # Global ID\n",
    "        i_local = f.neuron_ids[i][0]\n",
    "        all_all_ind_local[clust_ind].append(i_local)\n",
    "        all_all_xyz[clust_ind].append(f.neuron_locs[i_local])\n",
    "        all_all_slice_ind[clust_ind].append(f.frame_ind)\n",
    "\n",
    "# Format to be made into a dataframe\n",
    "offset = 50\n",
    "big_dict = {'clust_ind':[],'all_ind_local':[],'all_xyz':[],'slice_ind':[],'all_prob':[]}\n",
    "for i,k in enumerate(all_all_ind_local.keys()):\n",
    "    big_dict['clust_ind'].append(k)\n",
    "    big_dict['all_ind_local'].append(all_all_ind_local[k])\n",
    "    big_dict['all_xyz'].append(all_all_xyz[k])\n",
    "    big_dict['slice_ind'].append([i-offset for i in all_all_slice_ind[k]])\n",
    "    big_dict['all_prob'].append(np.ones(len(all_all_xyz[k])))\n",
    "\n",
    "clust_df = pd.DataFrame(big_dict)"
   ]
  },
  {
   "cell_type": "code",
   "execution_count": 45,
   "id": "helpful-wilderness",
   "metadata": {},
   "outputs": [
    {
     "data": {
      "text/plain": [
       "[]"
      ]
     },
     "execution_count": 45,
     "metadata": {},
     "output_type": "execute_result"
    }
   ],
   "source": [
    "all_matches[0]"
   ]
  },
  {
   "cell_type": "code",
   "execution_count": 36,
   "id": "supposed-howard",
   "metadata": {},
   "outputs": [],
   "source": [
    "suffix = 'reference-31'\n",
    "\n",
    "fname = f'clust_df_dat_{suffix}.pickle'\n",
    "with open(fname, 'wb') as f:\n",
    "    pickle.dump(clust_df,f)\n",
    "fname = f'match_dat_{suffix}.pickle'\n",
    "with open(fname, 'wb') as f:\n",
    "    pickle.dump(all_matches, f)\n",
    "fname = f'frame_dat_{suffix}.pickle'\n",
    "[frame.prep_for_pickle() for frame in all_frames]\n",
    "with open(fname, 'wb') as f:\n",
    "    pickle.dump(all_frames, f)"
   ]
  },
  {
   "cell_type": "markdown",
   "id": "positive-decimal",
   "metadata": {},
   "source": [
    "## Better ways to get reference frame neurons"
   ]
  },
  {
   "cell_type": "code",
   "execution_count": 134,
   "id": "actual-manner",
   "metadata": {},
   "outputs": [],
   "source": [
    "G = build_digraph_from_matches(reference_set.pairwise_matches, reference_set.pairwise_conf, verbose=0)\n",
    "G = G.to_undirected()"
   ]
  },
  {
   "cell_type": "markdown",
   "id": "infectious-blair",
   "metadata": {},
   "source": [
    "### Modified k-cliques"
   ]
  },
  {
   "cell_type": "code",
   "execution_count": 132,
   "id": "changed-wallet",
   "metadata": {},
   "outputs": [],
   "source": [
    "# Do not remove nodes so we can keep the total clique list\n",
    "all_cliques = list(nx.find_cliques(G))"
   ]
  },
  {
   "cell_type": "code",
   "execution_count": null,
   "id": "protecting-animation",
   "metadata": {
    "scrolled": true
   },
   "outputs": [],
   "source": [
    "# Loop through decreasing sizes of cliques\n",
    "# If a clique is found, use it to label neurons\n",
    "current_global_ind = 0\n",
    "for k in range(30,7,-1):\n",
    "    communities = list(k_clique_communities(G, k=k, cliques=all_cliques))\n",
    "    print(f\"Found {len(communities)} communities at k={k}\")\n",
    "    \n",
    "    for c in communities:\n",
    "        # First check if labels already exist\n",
    "        old_labels = set()\n",
    "        for n in c:\n",
    "            tmp = G.nodes()[n].get('label', None)\n",
    "            if tmp is not None:\n",
    "                old_labels.add(tmp)\n",
    "        if len(old_labels) > 1:\n",
    "            print(\"Found multiple old labels; skipping\")\n",
    "            continue\n",
    "        elif len(old_labels) == 1:\n",
    "            current_local_ind = list(old_labels)[0]\n",
    "            print(f\"Found single old label; extending {current_local_ind}\")\n",
    "        else:\n",
    "            current_local_ind = current_global_ind\n",
    "            current_global_ind += 1\n",
    "            print(f\"Found no old labels; creating {current_local_ind}\")\n",
    "        for n in c:\n",
    "            G.nodes()[n]['label'] = current_local_ind\n",
    "print(f\"In total, created {current_global_ind} neuron clusters\")"
   ]
  },
  {
   "cell_type": "code",
   "execution_count": 124,
   "id": "raised-devices",
   "metadata": {},
   "outputs": [],
   "source": [
    "all_sz = defaultdict(int)\n",
    "\n",
    "for n in G.nodes():\n",
    "    this_label = G.nodes()[n].get('label', None)\n",
    "    if this_label is not None:\n",
    "        all_sz[this_label] += 1"
   ]
  },
  {
   "cell_type": "code",
   "execution_count": 125,
   "id": "traditional-disease",
   "metadata": {},
   "outputs": [
    {
     "data": {
      "text/plain": [
       "(array([2., 2., 2., 2., 2., 2., 2., 2., 2., 3.]),\n",
       " array([ 0.,  2.,  4.,  6.,  8., 10., 12., 14., 16., 18., 20.]),\n",
       " <BarContainer object of 10 artists>)"
      ]
     },
     "execution_count": 125,
     "metadata": {},
     "output_type": "execute_result"
    },
    {
     "data": {
      "image/png": "[encoded data removed]",
      "text/plain": [
       "<Figure size 432x288 with 1 Axes>"
      ]
     },
     "metadata": {
      "needs_background": "light"
     },
     "output_type": "display_data"
    }
   ],
   "source": [
    "plt.hist(all_sz)"
   ]
  },
  {
   "cell_type": "markdown",
   "id": "colonial-yahoo",
   "metadata": {},
   "source": [
    "### Sequential"
   ]
  },
  {
   "cell_type": "code",
   "execution_count": null,
   "id": "cellular-conjunction",
   "metadata": {},
   "outputs": [],
   "source": [
    "matches_fwd = {k:v}"
   ]
  },
  {
   "cell_type": "code",
   "execution_count": null,
   "id": "biblical-chorus",
   "metadata": {},
   "outputs": [],
   "source": []
  },
  {
   "cell_type": "markdown",
   "id": "absent-measure",
   "metadata": {},
   "source": [
    "### Girvan-newman"
   ]
  },
  {
   "cell_type": "code",
   "execution_count": 135,
   "id": "following-nudist",
   "metadata": {},
   "outputs": [],
   "source": [
    "from networkx.algorithms import community\n",
    "#https://networkx.org/documentation/stable/reference/algorithms/generated/networkx.algorithms.community.centrality.girvan_newman.html#networkx.algorithms.community.centrality.girvan_newman"
   ]
  },
  {
   "cell_type": "code",
   "execution_count": 137,
   "id": "ambient-elder",
   "metadata": {},
   "outputs": [],
   "source": [
    "# comp = community.girvan_newman(G)\n",
    "# tuple(sorted(c) for c in next(comp))"
   ]
  },
  {
   "cell_type": "code",
   "execution_count": 133,
   "id": "essential-certificate",
   "metadata": {},
   "outputs": [],
   "source": []
  },
  {
   "cell_type": "code",
   "execution_count": null,
   "id": "emotional-pepper",
   "metadata": {},
   "outputs": [],
   "source": []
  },
  {
   "cell_type": "markdown",
   "id": "functioning-value",
   "metadata": {},
   "source": [
    "## Details of the reference set"
   ]
  },
  {
   "cell_type": "code",
   "execution_count": 51,
   "id": "recent-abortion",
   "metadata": {},
   "outputs": [],
   "source": [
    "new_matches = convert_labels_to_matches(reference_set.local2global)"
   ]
  },
  {
   "cell_type": "code",
   "execution_count": 53,
   "id": "structured-newark",
   "metadata": {},
   "outputs": [
    {
     "data": {
      "text/plain": [
       "[PointCloud with 164 points.,\n",
       " PointCloud with 156 points.,\n",
       " LineSet with 24 lines.,\n",
       " PointCloud with 164 points.,\n",
       " PointCloud with 151 points.,\n",
       " LineSet with 33 lines.,\n",
       " PointCloud with 156 points.,\n",
       " PointCloud with 151 points.,\n",
       " LineSet with 30 lines.]"
      ]
     },
     "execution_count": 53,
     "metadata": {},
     "output_type": "execute_result"
    }
   ],
   "source": [
    "plot_three_point_clouds(reference_set.reference_frames, new_matches, 50)"
   ]
  },
  {
   "cell_type": "code",
   "execution_count": 166,
   "id": "grand-savings",
   "metadata": {},
   "outputs": [
    {
     "name": "stderr",
     "output_type": "stream",
     "text": [
      "100%|████████████████████████████████████████████████████████████████████████████████████| 9/9 [00:01<00:00,  4.57it/s]\n",
      "100%|████████████████████████████████████████████████████████████████████████████████████| 1/1 [00:07<00:00,  7.97s/it]\n"
     ]
    }
   ],
   "source": [
    "# Reuse the previous reference frames\n",
    "opt = {'start_frame':50,\n",
    "       'num_frames':10,\n",
    "       'num_reference_frames':9,\n",
    "       'num_slices':33,\n",
    "       'add_gp_to_candidates':False,\n",
    "       'add_affine_to_candidates':False,\n",
    "       'use_affine_matching':False,\n",
    "       'neuron_cluster_mode':'voronoi',\n",
    "       'external_detections':external_annotations}\n",
    "out = track_via_reference_frames(btf_fname_red, **opt, reference_set=reference_set)\n",
    "all_matches2, all_other_frames2, reference_set2 = out"
   ]
  },
  {
   "cell_type": "code",
   "execution_count": 57,
   "id": "martial-decade",
   "metadata": {},
   "outputs": [],
   "source": [
    "# all_matches2"
   ]
  },
  {
   "cell_type": "code",
   "execution_count": 141,
   "id": "intellectual-ocean",
   "metadata": {},
   "outputs": [
    {
     "data": {
      "text/plain": [
       "{50, 51, 52}"
      ]
     },
     "execution_count": 141,
     "metadata": {},
     "output_type": "execute_result"
    }
   ],
   "source": [
    "all_pairs = reference_set.pairwise_matches.keys()\n",
    "unique_nodes = set(node for pair in all_pairs for node in pair)\n",
    "unique_nodes"
   ]
  },
  {
   "cell_type": "markdown",
   "id": "periodic-laundry",
   "metadata": {},
   "source": [
    "## Details of a single match"
   ]
  },
  {
   "cell_type": "code",
   "execution_count": 7,
   "id": "banner-injection",
   "metadata": {},
   "outputs": [],
   "source": [
    "f = all_other_frames[0]\n",
    "f_bp_matches, f_conf, f_global_matches = match_to_reference_frames(f, reference_set)"
   ]
  },
  {
   "cell_type": "code",
   "execution_count": 56,
   "id": "individual-sociology",
   "metadata": {},
   "outputs": [],
   "source": [
    "# f_global_matches"
   ]
  },
  {
   "cell_type": "code",
   "execution_count": 15,
   "id": "honest-methodology",
   "metadata": {},
   "outputs": [],
   "source": [
    "l2g = dict(f_bp_matches)\n",
    "g2l = {v:k for k,v in l2g.items()}"
   ]
  },
  {
   "cell_type": "code",
   "execution_count": 28,
   "id": "armed-interaction",
   "metadata": {},
   "outputs": [
    {
     "data": {
      "text/plain": [
       "8"
      ]
     },
     "execution_count": 28,
     "metadata": {},
     "output_type": "execute_result"
    }
   ],
   "source": [
    "l2g[6]"
   ]
  },
  {
   "cell_type": "markdown",
   "id": "loved-trash",
   "metadata": {},
   "source": [
    "# Compare to old method"
   ]
  },
  {
   "cell_type": "code",
   "execution_count": 34,
   "id": "unusual-platinum",
   "metadata": {},
   "outputs": [
    {
     "name": "stderr",
     "output_type": "stream",
     "text": [
      "100%|████████████████████████████████████████████████████████████████████████████████████| 2/2 [00:33<00:00, 16.76s/it]\n"
     ]
    }
   ],
   "source": [
    "opt = {'start_frame':51,\n",
    "       'num_frames':3,\n",
    "       'verbose':0,\n",
    "       'num_slices':33,\n",
    "       #'num_subsequent_matches':1,\n",
    "       'save_candidate_matches':True,\n",
    "       'add_affine_to_candidates':False,\n",
    "       'add_gp_to_candidates':False,\n",
    "       'external_detections':None}\n",
    "\n",
    "p = PreprocessingSettings()\n",
    "p.do_filtering=False\n",
    "p.do_rigid_alignment=True\n",
    "p.do_mini_max_projection=True\n",
    "\n",
    "out = track_neurons_full_video(btf_fname_red, **opt, preprocessing_settings=p)\n",
    "# out = track_neurons_full_video_window(btf_fname_red, **opt, preprocessing_settings=p)\n",
    "all_matches2, all_conf2, all_frames2, candidates2 = out"
   ]
  },
  {
   "cell_type": "code",
   "execution_count": 35,
   "id": "recorded-socket",
   "metadata": {},
   "outputs": [],
   "source": [
    "k = (51,52)\n",
    "plot_matched_point_clouds(all_frames2, all_matches2, k);"
   ]
  },
  {
   "cell_type": "markdown",
   "id": "activated-movie",
   "metadata": {},
   "source": [
    "## Two point clouds on top of one another"
   ]
  },
  {
   "cell_type": "code",
   "execution_count": 67,
   "id": "advisory-graduate",
   "metadata": {},
   "outputs": [
    {
     "data": {
      "text/plain": [
       "PointCloud with 143 points."
      ]
     },
     "execution_count": 67,
     "metadata": {},
     "output_type": "execute_result"
    }
   ],
   "source": [
    "i = 52\n",
    "\n",
    "# Reflect the x index\n",
    "zxy = all_frames[i].vol_shape\n",
    "neuron_locs = all_frames[i].neuron_locs.copy()\n",
    "neuron_locs = neuron_locs[:, [0,2,1]]\n",
    "# neuron_locs[:,2] = zxy[2] - neuron_locs[:,2]\n",
    "pc_new = build_neuron_tree(neuron_locs, False)[1]\n",
    "pc_new.paint_uniform_color([0,1,0])\n",
    "\n",
    "pc_old = build_neuron_tree(all_frames2[i].neuron_locs, False)[1]\n",
    "pc_old.paint_uniform_color([0.5,.5,0.5])"
   ]
  },
  {
   "cell_type": "code",
   "execution_count": 68,
   "id": "numerical-bridges",
   "metadata": {},
   "outputs": [],
   "source": [
    "o3d.visualization.draw_geometries([pc_old, pc_new])"
   ]
  },
  {
   "cell_type": "code",
   "execution_count": 45,
   "id": "improved-webcam",
   "metadata": {},
   "outputs": [
    {
     "data": {
      "text/plain": [
       "array([369.02657219, 485.58744395, 492.09069212, 475.68562874,\n",
       "       477.01346154, 571.71272115, 424.84378563, 586.24503311,\n",
       "       339.58541459, 485.80743494, 403.13101904, 329.23891626,\n",
       "       558.40498034, 410.16290727, 388.69257951, 389.09010459,\n",
       "       366.72797527, 472.62327718, 374.51398026, 532.08779631,\n",
       "       488.11659664, 358.66783831, 282.05089059, 514.98863636,\n",
       "       502.27384615, 489.82801932, 444.11418048, 379.33460076,\n",
       "       368.38700291, 372.87755102, 412.64166667, 384.00630631,\n",
       "       540.5813282 , 399.70223979, 356.25837989, 452.47216495,\n",
       "       469.0482866 , 456.11661808, 458.65347722, 394.95739015,\n",
       "       436.34782609, 476.48628193, 462.16389245, 438.00242718,\n",
       "       485.7029549 , 433.72076372, 442.68024691, 476.25827815,\n",
       "       464.775     , 281.02160864, 517.23133236, 378.5915493 ,\n",
       "       448.1641791 , 510.60475162, 331.79354839, 425.6468254 ,\n",
       "       513.50639135, 479.3653484 , 459.08008214, 450.25336927,\n",
       "       469.58024691, 487.53658537, 460.11977716, 496.74700109,\n",
       "       562.78127589, 503.74096386, 327.1925    , 553.21348315,\n",
       "       433.20180723, 101.        , 399.74130879, 452.93598234,\n",
       "       454.93442623, 418.55787037, 340.18128655, 587.02994652,\n",
       "       434.4851229 , 316.88888889, 447.06158153, 376.31053036,\n",
       "       405.52139303, 500.65485564, 551.578     , 348.25022502,\n",
       "       502.88580247, 345.88095238, 364.88888889, 418.21115538,\n",
       "       415.09040334, 435.19848975, 363.84365782, 279.88043478,\n",
       "       426.28410915, 479.5       , 461.16393443, 358.11752988,\n",
       "       266.95468915, 562.26727642, 452.80510018, 595.31724138,\n",
       "       252.982706  , 400.16066212, 458.31756757, 576.09546539,\n",
       "       477.18100559, 242.33249686, 488.5579096 , 341.82156863,\n",
       "       470.07898659, 465.21993127, 422.89285714, 410.36009732,\n",
       "       510.10430839, 380.84946237, 444.5019084 , 499.88590604,\n",
       "       418.43478261, 451.86956522, 454.61486486, 456.06896552,\n",
       "       406.64942529, 510.38518519, 470.68783784, 421.4469496 ,\n",
       "       463.3032491 , 416.52088452, 278.67934783, 470.56483516,\n",
       "       553.4363354 , 487.39087948, 497.01729107, 442.23611111,\n",
       "       484.23098996, 476.89424861, 480.53773585, 539.88860759,\n",
       "       448.33550489, 560.80753138, 526.24766355, 464.04186047,\n",
       "       326.01125704, 522.03554869, 570.73013789, 473.84055459,\n",
       "       470.95110156, 433.76058293, 391.8686217 , 486.83541147,\n",
       "       354.68965517, 420.7262181 , 391.32415254, 448.0454902 ,\n",
       "       104.16111111, 429.87545126, 138.47997644, 295.53865337])"
      ]
     },
     "execution_count": 45,
     "metadata": {},
     "output_type": "execute_result"
    }
   ],
   "source": [
    "neuron_locs"
   ]
  },
  {
   "cell_type": "code",
   "execution_count": null,
   "id": "innovative-inside",
   "metadata": {},
   "outputs": [],
   "source": []
  }
 ],
 "metadata": {
  "kernelspec": {
   "display_name": "Python [conda env:track_using_features] *",
   "language": "python",
   "name": "conda-env-track_using_features-py"
  },
  "language_info": {
   "codemirror_mode": {
    "name": "ipython",
    "version": 3
   },
   "file_extension": ".py",
   "mimetype": "text/x-python",
   "name": "python",
   "nbconvert_exporter": "python",
   "pygments_lexer": "ipython3",
   "version": "3.7.9"
  }
 },
 "nbformat": 4,
 "nbformat_minor": 5
}
