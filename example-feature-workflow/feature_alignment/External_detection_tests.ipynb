{
 "cells": [
  {
   "cell_type": "code",
   "execution_count": 2,
   "id": "apart-right",
   "metadata": {},
   "outputs": [],
   "source": [
    "import os\n",
    "import numpy as np\n",
    "import tifffile\n",
    "import matplotlib.pyplot as plt\n",
    "%load_ext autoreload\n",
    "%autoreload 2\n",
    "\n",
    "from DLC_for_WBFM.utils.feature_detection.feature_pipeline import *\n",
    "from DLC_for_WBFM.utils.feature_detection.utils_tracklets import *\n",
    "from DLC_for_WBFM.utils.feature_detection.utils_detection import *\n",
    "from DLC_for_WBFM.utils.feature_detection.visualization_tracks import *\n",
    "from DLC_for_WBFM.utils.feature_detection.utils_candidate_matches import *\n",
    "from DLC_for_WBFM.utils.video_and_data_conversion.import_video_as_array import *\n",
    "import networkx as nx\n",
    "from DLC_for_WBFM.utils.feature_detection.utils_reference_frames import *\n",
    "import pickle"
   ]
  },
  {
   "cell_type": "code",
   "execution_count": 3,
   "id": "threatened-woman",
   "metadata": {},
   "outputs": [],
   "source": [
    "# Get the 3d bigtiff folder\n",
    "bigtiff_folder = r'D:\\More-stabilized-wbfm'\n",
    "\n",
    "btf_fname_red = r'test2020-10-22_16-15-20_test4-channel-0-pco_camera1\\test2020-10-22_16-15-20_test4-channel-0-pco_camera1bigtiff.btf'\n",
    "btf_fname_red = os.path.join(bigtiff_folder, btf_fname_red)\n",
    "\n",
    "# Annotations in the same folder as the .btf\n",
    "external_annotations = r'test2020-10-22_16-15-20_test4-channel-0-pco_camera1\\masks-500.pickle'\n",
    "external_annotations = os.path.join(bigtiff_folder, external_annotations)"
   ]
  },
  {
   "cell_type": "markdown",
   "id": "mature-aviation",
   "metadata": {},
   "source": [
    "# First, only subsequent matches"
   ]
  },
  {
   "cell_type": "code",
   "execution_count": 73,
   "id": "nominated-jersey",
   "metadata": {},
   "outputs": [
    {
     "name": "stderr",
     "output_type": "stream",
     "text": [
      "100%|████████████████████████████████████████████████████████████████████████████████| 499/499 [47:08<00:00,  5.67s/it]\n"
     ]
    }
   ],
   "source": [
    "opt = {'start_frame':50,\n",
    "       'num_frames':500,\n",
    "       'verbose':0,\n",
    "       'num_slices':33,\n",
    "       #'num_subsequent_matches':1,\n",
    "       'save_candidate_matches':False,\n",
    "       'add_affine_to_candidates':False,\n",
    "       'add_gp_to_candidates':False,\n",
    "       'external_detections':external_annotations}\n",
    "\n",
    "p = PreprocessingSettings()\n",
    "p.do_filtering=False\n",
    "p.do_rigid_alignment=True\n",
    "p.do_mini_max_projection=True\n",
    "\n",
    "out = track_neurons_full_video(btf_fname_red, **opt, preprocessing_settings=p)\n",
    "# out = track_neurons_full_video_window(btf_fname_red, **opt, preprocessing_settings=p)\n",
    "all_matches, all_conf, all_frames, candidates = out"
   ]
  },
  {
   "cell_type": "code",
   "execution_count": 102,
   "id": "brave-commission",
   "metadata": {
    "scrolled": false
   },
   "outputs": [],
   "source": [
    "# Force a restart at 0; the video later will have to start at the same point\n",
    "list_frames = list(all_frames.values())\n",
    "offset = opt['start_frame']\n",
    "reindexed_matches = {(k[0]-offset,k[1]-offset):v for k,v in all_matches.items()}\n",
    "clust_df = build_tracklets_from_classes(list_frames, reindexed_matches, verbose=0)"
   ]
  },
  {
   "cell_type": "code",
   "execution_count": 103,
   "id": "above-distribution",
   "metadata": {},
   "outputs": [],
   "source": [
    "suffix = 'sequential-stardist'\n",
    "\n",
    "fname = f'clust_df_dat_{suffix}.pickle'\n",
    "with open(fname, 'wb') as f:\n",
    "    pickle.dump(clust_df,f)\n",
    "fname = f'match_dat_{suffix}.pickle'\n",
    "with open(fname, 'wb') as f:\n",
    "    pickle.dump(all_matches, f)\n",
    "fname = f'frame_dat_{suffix}.pickle'\n",
    "\n",
    "[frame.prep_for_pickle() for frame in all_frames.values()]\n",
    "with open(fname, 'wb') as f:\n",
    "    pickle.dump(all_frames, f)"
   ]
  },
  {
   "cell_type": "markdown",
   "id": "wound-clerk",
   "metadata": {},
   "source": [
    "## Visualize"
   ]
  },
  {
   "cell_type": "code",
   "execution_count": 104,
   "id": "assured-opening",
   "metadata": {},
   "outputs": [
    {
     "data": {
      "text/plain": [
       "0        66\n",
       "1        60\n",
       "2       500\n",
       "3       257\n",
       "4       256\n",
       "       ... \n",
       "6499      2\n",
       "6500      2\n",
       "6501      2\n",
       "6502      2\n",
       "6503      2\n",
       "Name: slice_ind, Length: 6504, dtype: int64"
      ]
     },
     "execution_count": 104,
     "metadata": {},
     "output_type": "execute_result"
    },
    {
     "data": {
      "image/png": "[encoded data removed]",
      "text/plain": [
       "<Figure size 432x288 with 1 Axes>"
      ]
     },
     "metadata": {
      "needs_background": "light"
     },
     "output_type": "display_data"
    }
   ],
   "source": [
    "hist_of_tracklet_lens(clust_df)"
   ]
  },
  {
   "cell_type": "code",
   "execution_count": 79,
   "id": "sticky-number",
   "metadata": {},
   "outputs": [],
   "source": [
    "k = (51,52)\n",
    "plot_matched_point_clouds(all_frames, all_matches, k);"
   ]
  },
  {
   "cell_type": "markdown",
   "id": "vital-webster",
   "metadata": {},
   "source": [
    "# Step 2: window consensus"
   ]
  },
  {
   "cell_type": "code",
   "execution_count": 58,
   "id": "controlled-header",
   "metadata": {
    "scrolled": true
   },
   "outputs": [],
   "source": [
    "# opt = {'start_frame':50,\n",
    "#        'num_frames':490,\n",
    "#        'verbose':0,\n",
    "#        'num_slices':33,\n",
    "#        'num_subsequent_matches':7,\n",
    "#        'save_candidate_matches':True,\n",
    "#        'add_affine_to_candidates':True,\n",
    "#        'add_gp_to_candidates':True,\n",
    "#        'external_detections':external_annotations}\n",
    "\n",
    "# p = PreprocessingSettings()\n",
    "# p.do_filtering=False\n",
    "# p.do_rigid_alignment=True\n",
    "# p.do_mini_max_projection=True\n",
    "\n",
    "# out = track_neurons_full_video_window(btf_fname_red, **opt, preprocessing_settings=p)\n",
    "# all_matches, all_conf, all_frames, candidates = out"
   ]
  },
  {
   "cell_type": "code",
   "execution_count": null,
   "id": "palestinian-underwear",
   "metadata": {},
   "outputs": [],
   "source": [
    "all_communities = calc_neurons_using_k_cliques(candidates,\n",
    "                                 k_values = [6,5,4,3],\n",
    "                                 list_min_sizes = [450, 400],\n",
    "                                 max_size = 500)"
   ]
  },
  {
   "cell_type": "code",
   "execution_count": null,
   "id": "decimal-mount",
   "metadata": {},
   "outputs": [],
   "source": [
    "clique_matches = community_to_matches(all_communities)\n",
    "# Force a restart at 0; the video later will have to start at the same point\n",
    "list_frames = list(all_frames.values())\n",
    "clust_df = build_tracklets_from_classes(list_frames, dict(clique_matches), verbose=0)"
   ]
  },
  {
   "cell_type": "code",
   "execution_count": null,
   "id": "welcome-superintendent",
   "metadata": {},
   "outputs": [],
   "source": [
    "suffix = 'sequential-7-stardist'\n",
    "\n",
    "fname = f'clust_df_dat_{suffix}.pickle'\n",
    "with open(fname, 'wb') as f:\n",
    "    pickle.dump(clust_df,f)\n",
    "fname = f'match_dat_{suffix}.pickle'\n",
    "with open(fname, 'wb') as f:\n",
    "    pickle.dump(clique_matches, f)\n",
    "fname = f'frame_dat_{suffix}.pickle'\n",
    "[frame.prep_for_pickle() for frame in list_frames]\n",
    "with open(fname, 'wb') as f:\n",
    "    pickle.dump(list_frames, f)"
   ]
  },
  {
   "cell_type": "markdown",
   "id": "consecutive-extent",
   "metadata": {},
   "source": [
    "# Step 3: Reference frame pipeline"
   ]
  },
  {
   "cell_type": "code",
   "execution_count": 3,
   "id": "reported-saver",
   "metadata": {},
   "outputs": [
    {
     "name": "stderr",
     "output_type": "stream",
     "text": [
      "100%|████████████████████████████████████████████████████████████████████████████████████| 5/5 [00:09<00:00,  1.93s/it]\n",
      "100%|████████████████████████████████████████████████████████████████████████████████████| 5/5 [01:02<00:00, 12.41s/it]\n",
      "100%|████████████████████████████████████████████████████████████████████████████████████| 1/1 [00:05<00:00,  5.36s/it]\n"
     ]
    }
   ],
   "source": [
    "opt = {'start_frame':50,\n",
    "       'num_frames':6,\n",
    "       'num_reference_frames':5,\n",
    "       'num_slices':33,\n",
    "       'use_affine_matching':True,\n",
    "#        'add_gp_to_candidates':False,\n",
    "#        'add_affine_to_candidates':False,\n",
    "#        'use_affine_matching':False,\n",
    "       'neuron_cluster_mode':'voronoi',\n",
    "       'external_detections':external_annotations}\n",
    "\n",
    "p = PreprocessingSettings()\n",
    "p.do_filtering=False\n",
    "p.do_rigid_alignment=True\n",
    "p.do_mini_max_projection=True\n",
    "\n",
    "out = track_via_reference_frames(btf_fname_red, **opt)\n",
    "all_matches, all_other_frames, reference_set = out"
   ]
  },
  {
   "cell_type": "code",
   "execution_count": null,
   "id": "polyphonic-jewel",
   "metadata": {
    "scrolled": true
   },
   "outputs": [],
   "source": [
    "# # Fix bug above\n",
    "# for m, f, in zip(all_matches, all_other_frames):\n",
    "#     f.neuron_ids = m"
   ]
  },
  {
   "cell_type": "code",
   "execution_count": 35,
   "id": "parallel-spotlight",
   "metadata": {},
   "outputs": [],
   "source": [
    "# Cast these matches into dataframe format\n",
    "# Force reset at 0\n",
    "columns=['clust_ind', 'all_ind_local', 'all_ind_global', 'all_xyz',\n",
    "             'all_prob',\n",
    "             'slice_ind','extended_this_slice', 'not_finished']\n",
    "\n",
    "from collections import defaultdict\n",
    "all_all_ind_local = defaultdict(list)\n",
    "all_all_xyz = defaultdict(list)\n",
    "all_all_slice_ind = defaultdict(list)\n",
    "# Do reference frames and other frames\n",
    "all_frames = list(reference_set.reference_frames.values())\n",
    "all_frames.extend(all_other_frames)\n",
    "for f in all_frames:\n",
    "#     Add all neurons to each cluster, if present\n",
    "    for i in range(len(f.neuron_ids)):\n",
    "        clust_ind = f.neuron_ids[i][1] # Global ID\n",
    "        i_local = f.neuron_ids[i][0]\n",
    "        all_all_ind_local[clust_ind].append(i_local)\n",
    "        all_all_xyz[clust_ind].append(f.neuron_locs[i_local])\n",
    "        all_all_slice_ind[clust_ind].append(f.frame_ind)\n",
    "\n",
    "# Format to be made into a dataframe\n",
    "offset = 50\n",
    "big_dict = {'clust_ind':[],'all_ind_local':[],'all_xyz':[],'slice_ind':[],'all_prob':[]}\n",
    "for i,k in enumerate(all_all_ind_local.keys()):\n",
    "    big_dict['clust_ind'].append(k)\n",
    "    big_dict['all_ind_local'].append(all_all_ind_local[k])\n",
    "    big_dict['all_xyz'].append(all_all_xyz[k])\n",
    "    big_dict['slice_ind'].append([i-offset for i in all_all_slice_ind[k]])\n",
    "    big_dict['all_prob'].append(np.ones(len(all_all_xyz[k])))\n",
    "\n",
    "clust_df = pd.DataFrame(big_dict)"
   ]
  },
  {
   "cell_type": "code",
   "execution_count": 45,
   "id": "unable-recommendation",
   "metadata": {},
   "outputs": [
    {
     "data": {
      "text/plain": [
       "[]"
      ]
     },
     "execution_count": 45,
     "metadata": {},
     "output_type": "execute_result"
    }
   ],
   "source": [
    "all_matches[0]"
   ]
  },
  {
   "cell_type": "code",
   "execution_count": 36,
   "id": "ecological-release",
   "metadata": {},
   "outputs": [],
   "source": [
    "suffix = 'reference-31'\n",
    "\n",
    "fname = f'clust_df_dat_{suffix}.pickle'\n",
    "with open(fname, 'wb') as f:\n",
    "    pickle.dump(clust_df,f)\n",
    "fname = f'match_dat_{suffix}.pickle'\n",
    "with open(fname, 'wb') as f:\n",
    "    pickle.dump(all_matches, f)\n",
    "fname = f'frame_dat_{suffix}.pickle'\n",
    "[frame.prep_for_pickle() for frame in all_frames]\n",
    "with open(fname, 'wb') as f:\n",
    "    pickle.dump(all_frames, f)"
   ]
  },
  {
   "cell_type": "markdown",
   "id": "buried-convertible",
   "metadata": {},
   "source": [
    "## Other: use GP and affine"
   ]
  },
  {
   "cell_type": "code",
   "execution_count": 4,
   "id": "improving-europe",
   "metadata": {},
   "outputs": [
    {
     "name": "stderr",
     "output_type": "stream",
     "text": [
      "  0%|▏                                                                               | 1/499 [00:09<1:17:13,  9.30s/it]C:\\Users\\charles.fieseler\\Anaconda3\\envs\\track_using_features\\lib\\site-packages\\sklearn\\gaussian_process\\_gpr.py:504: ConvergenceWarning: lbfgs failed to converge (status=2):\n",
      "ABNORMAL_TERMINATION_IN_LNSRCH.\n",
      "\n",
      "Increase the number of iterations (max_iter) or scale the data as shown in:\n",
      "    https://scikit-learn.org/stable/modules/preprocessing.html\n",
      "  _check_optimize_result(\"lbfgs\", opt_res)\n",
      "  1%|▋                                                                               | 4/499 [00:36<1:15:29,  9.15s/it]C:\\Users\\charles.fieseler\\Anaconda3\\envs\\track_using_features\\lib\\site-packages\\sklearn\\gaussian_process\\_gpr.py:504: ConvergenceWarning: lbfgs failed to converge (status=2):\n",
      "ABNORMAL_TERMINATION_IN_LNSRCH.\n",
      "\n",
      "Increase the number of iterations (max_iter) or scale the data as shown in:\n",
      "    https://scikit-learn.org/stable/modules/preprocessing.html\n",
      "  _check_optimize_result(\"lbfgs\", opt_res)\n",
      "C:\\Users\\charles.fieseler\\Anaconda3\\envs\\track_using_features\\lib\\site-packages\\sklearn\\gaussian_process\\_gpr.py:504: ConvergenceWarning: lbfgs failed to converge (status=2):\n",
      "ABNORMAL_TERMINATION_IN_LNSRCH.\n",
      "\n",
      "Increase the number of iterations (max_iter) or scale the data as shown in:\n",
      "    https://scikit-learn.org/stable/modules/preprocessing.html\n",
      "  _check_optimize_result(\"lbfgs\", opt_res)\n",
      "  3%|██▎                                                                            | 15/499 [02:18<1:15:24,  9.35s/it]C:\\Users\\charles.fieseler\\Anaconda3\\envs\\track_using_features\\lib\\site-packages\\sklearn\\gaussian_process\\_gpr.py:504: ConvergenceWarning: lbfgs failed to converge (status=2):\n",
      "ABNORMAL_TERMINATION_IN_LNSRCH.\n",
      "\n",
      "Increase the number of iterations (max_iter) or scale the data as shown in:\n",
      "    https://scikit-learn.org/stable/modules/preprocessing.html\n",
      "  _check_optimize_result(\"lbfgs\", opt_res)\n",
      "  4%|███▍                                                                           | 22/499 [03:19<1:09:57,  8.80s/it]C:\\Users\\charles.fieseler\\Anaconda3\\envs\\track_using_features\\lib\\site-packages\\sklearn\\gaussian_process\\_gpr.py:504: ConvergenceWarning: lbfgs failed to converge (status=2):\n",
      "ABNORMAL_TERMINATION_IN_LNSRCH.\n",
      "\n",
      "Increase the number of iterations (max_iter) or scale the data as shown in:\n",
      "    https://scikit-learn.org/stable/modules/preprocessing.html\n",
      "  _check_optimize_result(\"lbfgs\", opt_res)\n",
      "  6%|████▍                                                                          | 28/499 [04:16<1:13:54,  9.42s/it]C:\\Users\\charles.fieseler\\Anaconda3\\envs\\track_using_features\\lib\\site-packages\\sklearn\\gaussian_process\\_gpr.py:504: ConvergenceWarning: lbfgs failed to converge (status=2):\n",
      "ABNORMAL_TERMINATION_IN_LNSRCH.\n",
      "\n",
      "Increase the number of iterations (max_iter) or scale the data as shown in:\n",
      "    https://scikit-learn.org/stable/modules/preprocessing.html\n",
      "  _check_optimize_result(\"lbfgs\", opt_res)\n",
      "  6%|████▌                                                                          | 29/499 [04:26<1:13:40,  9.40s/it]C:\\Users\\charles.fieseler\\Anaconda3\\envs\\track_using_features\\lib\\site-packages\\sklearn\\gaussian_process\\_gpr.py:504: ConvergenceWarning: lbfgs failed to converge (status=2):\n",
      "ABNORMAL_TERMINATION_IN_LNSRCH.\n",
      "\n",
      "Increase the number of iterations (max_iter) or scale the data as shown in:\n",
      "    https://scikit-learn.org/stable/modules/preprocessing.html\n",
      "  _check_optimize_result(\"lbfgs\", opt_res)\n",
      "  7%|█████▋                                                                         | 36/499 [05:27<1:08:17,  8.85s/it]C:\\Users\\charles.fieseler\\Anaconda3\\envs\\track_using_features\\lib\\site-packages\\sklearn\\gaussian_process\\_gpr.py:504: ConvergenceWarning: lbfgs failed to converge (status=2):\n",
      "ABNORMAL_TERMINATION_IN_LNSRCH.\n",
      "\n",
      "Increase the number of iterations (max_iter) or scale the data as shown in:\n",
      "    https://scikit-learn.org/stable/modules/preprocessing.html\n",
      "  _check_optimize_result(\"lbfgs\", opt_res)\n",
      "  7%|█████▊                                                                         | 37/499 [05:36<1:08:33,  8.90s/it]C:\\Users\\charles.fieseler\\Anaconda3\\envs\\track_using_features\\lib\\site-packages\\sklearn\\gaussian_process\\_gpr.py:504: ConvergenceWarning: lbfgs failed to converge (status=2):\n",
      "ABNORMAL_TERMINATION_IN_LNSRCH.\n",
      "\n",
      "Increase the number of iterations (max_iter) or scale the data as shown in:\n",
      "    https://scikit-learn.org/stable/modules/preprocessing.html\n",
      "  _check_optimize_result(\"lbfgs\", opt_res)\n",
      "  8%|██████▎                                                                        | 40/499 [06:02<1:07:04,  8.77s/it]C:\\Users\\charles.fieseler\\Anaconda3\\envs\\track_using_features\\lib\\site-packages\\sklearn\\gaussian_process\\_gpr.py:504: ConvergenceWarning: lbfgs failed to converge (status=2):\n",
      "ABNORMAL_TERMINATION_IN_LNSRCH.\n",
      "\n",
      "Increase the number of iterations (max_iter) or scale the data as shown in:\n",
      "    https://scikit-learn.org/stable/modules/preprocessing.html\n",
      "  _check_optimize_result(\"lbfgs\", opt_res)\n",
      "  9%|███████▎                                                                       | 46/499 [06:54<1:05:16,  8.64s/it]C:\\Users\\charles.fieseler\\Anaconda3\\envs\\track_using_features\\lib\\site-packages\\sklearn\\gaussian_process\\_gpr.py:504: ConvergenceWarning: lbfgs failed to converge (status=2):\n",
      "ABNORMAL_TERMINATION_IN_LNSRCH.\n",
      "\n",
      "Increase the number of iterations (max_iter) or scale the data as shown in:\n",
      "    https://scikit-learn.org/stable/modules/preprocessing.html\n",
      "  _check_optimize_result(\"lbfgs\", opt_res)\n",
      " 10%|████████                                                                       | 51/499 [07:40<1:06:52,  8.96s/it]C:\\Users\\charles.fieseler\\Anaconda3\\envs\\track_using_features\\lib\\site-packages\\sklearn\\gaussian_process\\_gpr.py:504: ConvergenceWarning: lbfgs failed to converge (status=2):\n",
      "ABNORMAL_TERMINATION_IN_LNSRCH.\n",
      "\n",
      "Increase the number of iterations (max_iter) or scale the data as shown in:\n",
      "    https://scikit-learn.org/stable/modules/preprocessing.html\n",
      "  _check_optimize_result(\"lbfgs\", opt_res)\n",
      " 10%|████████▏                                                                      | 52/499 [07:49<1:07:06,  9.01s/it]C:\\Users\\charles.fieseler\\Anaconda3\\envs\\track_using_features\\lib\\site-packages\\sklearn\\gaussian_process\\_gpr.py:504: ConvergenceWarning: lbfgs failed to converge (status=2):\n",
      "ABNORMAL_TERMINATION_IN_LNSRCH.\n",
      "\n",
      "Increase the number of iterations (max_iter) or scale the data as shown in:\n",
      "    https://scikit-learn.org/stable/modules/preprocessing.html\n",
      "  _check_optimize_result(\"lbfgs\", opt_res)\n",
      "C:\\Users\\charles.fieseler\\Anaconda3\\envs\\track_using_features\\lib\\site-packages\\sklearn\\gaussian_process\\_gpr.py:504: ConvergenceWarning: lbfgs failed to converge (status=2):\n",
      "ABNORMAL_TERMINATION_IN_LNSRCH.\n",
      "\n",
      "Increase the number of iterations (max_iter) or scale the data as shown in:\n",
      "    https://scikit-learn.org/stable/modules/preprocessing.html\n",
      "  _check_optimize_result(\"lbfgs\", opt_res)\n",
      " 11%|████████▌                                                                      | 54/499 [08:08<1:08:29,  9.23s/it]C:\\Users\\charles.fieseler\\Anaconda3\\envs\\track_using_features\\lib\\site-packages\\sklearn\\gaussian_process\\_gpr.py:504: ConvergenceWarning: lbfgs failed to converge (status=2):\n",
      "ABNORMAL_TERMINATION_IN_LNSRCH.\n",
      "\n",
      "Increase the number of iterations (max_iter) or scale the data as shown in:\n",
      "    https://scikit-learn.org/stable/modules/preprocessing.html\n",
      "  _check_optimize_result(\"lbfgs\", opt_res)\n",
      " 13%|██████████▏                                                                    | 64/499 [09:37<1:06:11,  9.13s/it]C:\\Users\\charles.fieseler\\Anaconda3\\envs\\track_using_features\\lib\\site-packages\\sklearn\\gaussian_process\\_gpr.py:504: ConvergenceWarning: lbfgs failed to converge (status=2):\n",
      "ABNORMAL_TERMINATION_IN_LNSRCH.\n",
      "\n",
      "Increase the number of iterations (max_iter) or scale the data as shown in:\n",
      "    https://scikit-learn.org/stable/modules/preprocessing.html\n",
      "  _check_optimize_result(\"lbfgs\", opt_res)\n",
      " 13%|██████████▍                                                                    | 66/499 [09:58<1:09:34,  9.64s/it]C:\\Users\\charles.fieseler\\Anaconda3\\envs\\track_using_features\\lib\\site-packages\\sklearn\\gaussian_process\\_gpr.py:504: ConvergenceWarning: lbfgs failed to converge (status=2):\n",
      "ABNORMAL_TERMINATION_IN_LNSRCH.\n",
      "\n",
      "Increase the number of iterations (max_iter) or scale the data as shown in:\n",
      "    https://scikit-learn.org/stable/modules/preprocessing.html\n",
      "  _check_optimize_result(\"lbfgs\", opt_res)\n"
     ]
    },
    {
     "name": "stderr",
     "output_type": "stream",
     "text": [
      " 13%|██████████▌                                                                    | 67/499 [10:08<1:10:38,  9.81s/it]C:\\Users\\charles.fieseler\\Anaconda3\\envs\\track_using_features\\lib\\site-packages\\sklearn\\gaussian_process\\_gpr.py:504: ConvergenceWarning: lbfgs failed to converge (status=2):\n",
      "ABNORMAL_TERMINATION_IN_LNSRCH.\n",
      "\n",
      "Increase the number of iterations (max_iter) or scale the data as shown in:\n",
      "    https://scikit-learn.org/stable/modules/preprocessing.html\n",
      "  _check_optimize_result(\"lbfgs\", opt_res)\n",
      " 14%|███████████                                                                    | 70/499 [10:38<1:10:46,  9.90s/it]C:\\Users\\charles.fieseler\\Anaconda3\\envs\\track_using_features\\lib\\site-packages\\sklearn\\gaussian_process\\_gpr.py:504: ConvergenceWarning: lbfgs failed to converge (status=2):\n",
      "ABNORMAL_TERMINATION_IN_LNSRCH.\n",
      "\n",
      "Increase the number of iterations (max_iter) or scale the data as shown in:\n",
      "    https://scikit-learn.org/stable/modules/preprocessing.html\n",
      "  _check_optimize_result(\"lbfgs\", opt_res)\n",
      " 16%|████████████▋                                                                  | 80/499 [12:12<1:04:11,  9.19s/it]C:\\Users\\charles.fieseler\\Anaconda3\\envs\\track_using_features\\lib\\site-packages\\sklearn\\gaussian_process\\_gpr.py:504: ConvergenceWarning: lbfgs failed to converge (status=2):\n",
      "ABNORMAL_TERMINATION_IN_LNSRCH.\n",
      "\n",
      "Increase the number of iterations (max_iter) or scale the data as shown in:\n",
      "    https://scikit-learn.org/stable/modules/preprocessing.html\n",
      "  _check_optimize_result(\"lbfgs\", opt_res)\n",
      " 17%|█████████████▍                                                                 | 85/499 [12:57<1:01:09,  8.86s/it]C:\\Users\\charles.fieseler\\Anaconda3\\envs\\track_using_features\\lib\\site-packages\\sklearn\\gaussian_process\\_gpr.py:504: ConvergenceWarning: lbfgs failed to converge (status=2):\n",
      "ABNORMAL_TERMINATION_IN_LNSRCH.\n",
      "\n",
      "Increase the number of iterations (max_iter) or scale the data as shown in:\n",
      "    https://scikit-learn.org/stable/modules/preprocessing.html\n",
      "  _check_optimize_result(\"lbfgs\", opt_res)\n",
      " 20%|████████████████▏                                                               | 101/499 [15:18<58:22,  8.80s/it]C:\\Users\\charles.fieseler\\Anaconda3\\envs\\track_using_features\\lib\\site-packages\\sklearn\\gaussian_process\\_gpr.py:504: ConvergenceWarning: lbfgs failed to converge (status=2):\n",
      "ABNORMAL_TERMINATION_IN_LNSRCH.\n",
      "\n",
      "Increase the number of iterations (max_iter) or scale the data as shown in:\n",
      "    https://scikit-learn.org/stable/modules/preprocessing.html\n",
      "  _check_optimize_result(\"lbfgs\", opt_res)\n",
      " 22%|█████████████████▎                                                              | 108/499 [16:19<56:55,  8.73s/it]C:\\Users\\charles.fieseler\\Anaconda3\\envs\\track_using_features\\lib\\site-packages\\sklearn\\gaussian_process\\_gpr.py:504: ConvergenceWarning: lbfgs failed to converge (status=2):\n",
      "ABNORMAL_TERMINATION_IN_LNSRCH.\n",
      "\n",
      "Increase the number of iterations (max_iter) or scale the data as shown in:\n",
      "    https://scikit-learn.org/stable/modules/preprocessing.html\n",
      "  _check_optimize_result(\"lbfgs\", opt_res)\n",
      " 23%|██████████████████▊                                                             | 117/499 [17:37<55:21,  8.69s/it]C:\\Users\\charles.fieseler\\Anaconda3\\envs\\track_using_features\\lib\\site-packages\\sklearn\\gaussian_process\\_gpr.py:504: ConvergenceWarning: lbfgs failed to converge (status=2):\n",
      "ABNORMAL_TERMINATION_IN_LNSRCH.\n",
      "\n",
      "Increase the number of iterations (max_iter) or scale the data as shown in:\n",
      "    https://scikit-learn.org/stable/modules/preprocessing.html\n",
      "  _check_optimize_result(\"lbfgs\", opt_res)\n",
      " 24%|███████████████████▍                                                            | 121/499 [18:13<56:25,  8.96s/it]C:\\Users\\charles.fieseler\\Anaconda3\\envs\\track_using_features\\lib\\site-packages\\sklearn\\gaussian_process\\_gpr.py:504: ConvergenceWarning: lbfgs failed to converge (status=2):\n",
      "ABNORMAL_TERMINATION_IN_LNSRCH.\n",
      "\n",
      "Increase the number of iterations (max_iter) or scale the data as shown in:\n",
      "    https://scikit-learn.org/stable/modules/preprocessing.html\n",
      "  _check_optimize_result(\"lbfgs\", opt_res)\n",
      " 25%|████████████████████                                                            | 125/499 [18:48<54:15,  8.70s/it]C:\\Users\\charles.fieseler\\Anaconda3\\envs\\track_using_features\\lib\\site-packages\\sklearn\\gaussian_process\\_gpr.py:504: ConvergenceWarning: lbfgs failed to converge (status=2):\n",
      "ABNORMAL_TERMINATION_IN_LNSRCH.\n",
      "\n",
      "Increase the number of iterations (max_iter) or scale the data as shown in:\n",
      "    https://scikit-learn.org/stable/modules/preprocessing.html\n",
      "  _check_optimize_result(\"lbfgs\", opt_res)\n",
      " 26%|█████████████████████▏                                                          | 132/499 [19:47<53:06,  8.68s/it]C:\\Users\\charles.fieseler\\Anaconda3\\envs\\track_using_features\\lib\\site-packages\\sklearn\\gaussian_process\\_gpr.py:504: ConvergenceWarning: lbfgs failed to converge (status=2):\n",
      "ABNORMAL_TERMINATION_IN_LNSRCH.\n",
      "\n",
      "Increase the number of iterations (max_iter) or scale the data as shown in:\n",
      "    https://scikit-learn.org/stable/modules/preprocessing.html\n",
      "  _check_optimize_result(\"lbfgs\", opt_res)\n",
      " 27%|█████████████████████▋                                                          | 135/499 [20:13<52:22,  8.63s/it]C:\\Users\\charles.fieseler\\Anaconda3\\envs\\track_using_features\\lib\\site-packages\\sklearn\\gaussian_process\\_gpr.py:504: ConvergenceWarning: lbfgs failed to converge (status=2):\n",
      "ABNORMAL_TERMINATION_IN_LNSRCH.\n",
      "\n",
      "Increase the number of iterations (max_iter) or scale the data as shown in:\n",
      "    https://scikit-learn.org/stable/modules/preprocessing.html\n",
      "  _check_optimize_result(\"lbfgs\", opt_res)\n",
      " 27%|█████████████████████▉                                                          | 137/499 [20:31<53:22,  8.85s/it]C:\\Users\\charles.fieseler\\Anaconda3\\envs\\track_using_features\\lib\\site-packages\\sklearn\\gaussian_process\\_gpr.py:504: ConvergenceWarning: lbfgs failed to converge (status=2):\n",
      "ABNORMAL_TERMINATION_IN_LNSRCH.\n",
      "\n",
      "Increase the number of iterations (max_iter) or scale the data as shown in:\n",
      "    https://scikit-learn.org/stable/modules/preprocessing.html\n",
      "  _check_optimize_result(\"lbfgs\", opt_res)\n",
      " 28%|██████████████████████▊                                                         | 142/499 [21:16<53:25,  8.98s/it]C:\\Users\\charles.fieseler\\Anaconda3\\envs\\track_using_features\\lib\\site-packages\\sklearn\\gaussian_process\\_gpr.py:504: ConvergenceWarning: lbfgs failed to converge (status=2):\n",
      "ABNORMAL_TERMINATION_IN_LNSRCH.\n",
      "\n",
      "Increase the number of iterations (max_iter) or scale the data as shown in:\n",
      "    https://scikit-learn.org/stable/modules/preprocessing.html\n",
      "  _check_optimize_result(\"lbfgs\", opt_res)\n",
      " 29%|███████████████████████▍                                                        | 146/499 [21:51<50:50,  8.64s/it]C:\\Users\\charles.fieseler\\Anaconda3\\envs\\track_using_features\\lib\\site-packages\\sklearn\\gaussian_process\\_gpr.py:504: ConvergenceWarning: lbfgs failed to converge (status=2):\n",
      "ABNORMAL_TERMINATION_IN_LNSRCH.\n",
      "\n",
      "Increase the number of iterations (max_iter) or scale the data as shown in:\n",
      "    https://scikit-learn.org/stable/modules/preprocessing.html\n",
      "  _check_optimize_result(\"lbfgs\", opt_res)\n",
      " 30%|████████████████████████▏                                                       | 151/499 [22:35<51:33,  8.89s/it]C:\\Users\\charles.fieseler\\Anaconda3\\envs\\track_using_features\\lib\\site-packages\\sklearn\\gaussian_process\\_gpr.py:504: ConvergenceWarning: lbfgs failed to converge (status=2):\n",
      "ABNORMAL_TERMINATION_IN_LNSRCH.\n",
      "\n",
      "Increase the number of iterations (max_iter) or scale the data as shown in:\n",
      "    https://scikit-learn.org/stable/modules/preprocessing.html\n",
      "  _check_optimize_result(\"lbfgs\", opt_res)\n",
      " 31%|█████████████████████████▏                                                      | 157/499 [23:29<51:12,  8.99s/it]C:\\Users\\charles.fieseler\\Anaconda3\\envs\\track_using_features\\lib\\site-packages\\sklearn\\gaussian_process\\_gpr.py:504: ConvergenceWarning: lbfgs failed to converge (status=2):\n",
      "ABNORMAL_TERMINATION_IN_LNSRCH.\n",
      "\n",
      "Increase the number of iterations (max_iter) or scale the data as shown in:\n",
      "    https://scikit-learn.org/stable/modules/preprocessing.html\n",
      "  _check_optimize_result(\"lbfgs\", opt_res)\n"
     ]
    },
    {
     "name": "stderr",
     "output_type": "stream",
     "text": [
      " 32%|█████████████████████████▎                                                      | 158/499 [23:38<50:51,  8.95s/it]C:\\Users\\charles.fieseler\\Anaconda3\\envs\\track_using_features\\lib\\site-packages\\sklearn\\gaussian_process\\_gpr.py:504: ConvergenceWarning: lbfgs failed to converge (status=2):\n",
      "ABNORMAL_TERMINATION_IN_LNSRCH.\n",
      "\n",
      "Increase the number of iterations (max_iter) or scale the data as shown in:\n",
      "    https://scikit-learn.org/stable/modules/preprocessing.html\n",
      "  _check_optimize_result(\"lbfgs\", opt_res)\n",
      " 32%|█████████████████████████▊                                                      | 161/499 [24:05<50:25,  8.95s/it]C:\\Users\\charles.fieseler\\Anaconda3\\envs\\track_using_features\\lib\\site-packages\\sklearn\\gaussian_process\\_gpr.py:504: ConvergenceWarning: lbfgs failed to converge (status=2):\n",
      "ABNORMAL_TERMINATION_IN_LNSRCH.\n",
      "\n",
      "Increase the number of iterations (max_iter) or scale the data as shown in:\n",
      "    https://scikit-learn.org/stable/modules/preprocessing.html\n",
      "  _check_optimize_result(\"lbfgs\", opt_res)\n",
      " 33%|██████████████████████████▊                                                     | 167/499 [24:58<50:35,  9.14s/it]C:\\Users\\charles.fieseler\\Anaconda3\\envs\\track_using_features\\lib\\site-packages\\sklearn\\gaussian_process\\_gpr.py:504: ConvergenceWarning: lbfgs failed to converge (status=2):\n",
      "ABNORMAL_TERMINATION_IN_LNSRCH.\n",
      "\n",
      "Increase the number of iterations (max_iter) or scale the data as shown in:\n",
      "    https://scikit-learn.org/stable/modules/preprocessing.html\n",
      "  _check_optimize_result(\"lbfgs\", opt_res)\n",
      " 34%|███████████████████████████▌                                                    | 172/499 [25:43<48:33,  8.91s/it]C:\\Users\\charles.fieseler\\Anaconda3\\envs\\track_using_features\\lib\\site-packages\\sklearn\\gaussian_process\\_gpr.py:504: ConvergenceWarning: lbfgs failed to converge (status=2):\n",
      "ABNORMAL_TERMINATION_IN_LNSRCH.\n",
      "\n",
      "Increase the number of iterations (max_iter) or scale the data as shown in:\n",
      "    https://scikit-learn.org/stable/modules/preprocessing.html\n",
      "  _check_optimize_result(\"lbfgs\", opt_res)\n",
      " 36%|█████████████████████████████▏                                                  | 182/499 [27:16<51:12,  9.69s/it]C:\\Users\\charles.fieseler\\Anaconda3\\envs\\track_using_features\\lib\\site-packages\\sklearn\\gaussian_process\\_gpr.py:504: ConvergenceWarning: lbfgs failed to converge (status=2):\n",
      "ABNORMAL_TERMINATION_IN_LNSRCH.\n",
      "\n",
      "Increase the number of iterations (max_iter) or scale the data as shown in:\n",
      "    https://scikit-learn.org/stable/modules/preprocessing.html\n",
      "  _check_optimize_result(\"lbfgs\", opt_res)\n",
      " 37%|█████████████████████████████▎                                                  | 183/499 [27:25<50:35,  9.61s/it]C:\\Users\\charles.fieseler\\Anaconda3\\envs\\track_using_features\\lib\\site-packages\\sklearn\\gaussian_process\\_gpr.py:504: ConvergenceWarning: lbfgs failed to converge (status=2):\n",
      "ABNORMAL_TERMINATION_IN_LNSRCH.\n",
      "\n",
      "Increase the number of iterations (max_iter) or scale the data as shown in:\n",
      "    https://scikit-learn.org/stable/modules/preprocessing.html\n",
      "  _check_optimize_result(\"lbfgs\", opt_res)\n",
      " 37%|█████████████████████████████▊                                                  | 186/499 [27:53<48:53,  9.37s/it]C:\\Users\\charles.fieseler\\Anaconda3\\envs\\track_using_features\\lib\\site-packages\\sklearn\\gaussian_process\\_gpr.py:504: ConvergenceWarning: lbfgs failed to converge (status=2):\n",
      "ABNORMAL_TERMINATION_IN_LNSRCH.\n",
      "\n",
      "Increase the number of iterations (max_iter) or scale the data as shown in:\n",
      "    https://scikit-learn.org/stable/modules/preprocessing.html\n",
      "  _check_optimize_result(\"lbfgs\", opt_res)\n",
      " 38%|██████████████████████████████▌                                                 | 191/499 [28:40<47:01,  9.16s/it]C:\\Users\\charles.fieseler\\Anaconda3\\envs\\track_using_features\\lib\\site-packages\\sklearn\\gaussian_process\\_gpr.py:504: ConvergenceWarning: lbfgs failed to converge (status=2):\n",
      "ABNORMAL_TERMINATION_IN_LNSRCH.\n",
      "\n",
      "Increase the number of iterations (max_iter) or scale the data as shown in:\n",
      "    https://scikit-learn.org/stable/modules/preprocessing.html\n",
      "  _check_optimize_result(\"lbfgs\", opt_res)\n",
      " 41%|████████████████████████████████▌                                               | 203/499 [30:26<44:13,  8.97s/it]C:\\Users\\charles.fieseler\\Anaconda3\\envs\\track_using_features\\lib\\site-packages\\sklearn\\gaussian_process\\_gpr.py:504: ConvergenceWarning: lbfgs failed to converge (status=2):\n",
      "ABNORMAL_TERMINATION_IN_LNSRCH.\n",
      "\n",
      "Increase the number of iterations (max_iter) or scale the data as shown in:\n",
      "    https://scikit-learn.org/stable/modules/preprocessing.html\n",
      "  _check_optimize_result(\"lbfgs\", opt_res)\n",
      " 43%|██████████████████████████████████▋                                             | 216/499 [32:22<41:30,  8.80s/it]C:\\Users\\charles.fieseler\\Anaconda3\\envs\\track_using_features\\lib\\site-packages\\sklearn\\gaussian_process\\_gpr.py:504: ConvergenceWarning: lbfgs failed to converge (status=2):\n",
      "ABNORMAL_TERMINATION_IN_LNSRCH.\n",
      "\n",
      "Increase the number of iterations (max_iter) or scale the data as shown in:\n",
      "    https://scikit-learn.org/stable/modules/preprocessing.html\n",
      "  _check_optimize_result(\"lbfgs\", opt_res)\n",
      " 44%|███████████████████████████████████▍                                            | 221/499 [33:06<40:27,  8.73s/it]C:\\Users\\charles.fieseler\\Anaconda3\\envs\\track_using_features\\lib\\site-packages\\sklearn\\gaussian_process\\_gpr.py:504: ConvergenceWarning: lbfgs failed to converge (status=2):\n",
      "ABNORMAL_TERMINATION_IN_LNSRCH.\n",
      "\n",
      "Increase the number of iterations (max_iter) or scale the data as shown in:\n",
      "    https://scikit-learn.org/stable/modules/preprocessing.html\n",
      "  _check_optimize_result(\"lbfgs\", opt_res)\n",
      " 45%|███████████████████████████████████▊                                            | 223/499 [33:24<40:46,  8.87s/it]C:\\Users\\charles.fieseler\\Anaconda3\\envs\\track_using_features\\lib\\site-packages\\sklearn\\gaussian_process\\_gpr.py:504: ConvergenceWarning: lbfgs failed to converge (status=2):\n",
      "ABNORMAL_TERMINATION_IN_LNSRCH.\n",
      "\n",
      "Increase the number of iterations (max_iter) or scale the data as shown in:\n",
      "    https://scikit-learn.org/stable/modules/preprocessing.html\n",
      "  _check_optimize_result(\"lbfgs\", opt_res)\n",
      " 46%|████████████████████████████████████▌                                           | 228/499 [34:07<38:40,  8.56s/it]C:\\Users\\charles.fieseler\\Anaconda3\\envs\\track_using_features\\lib\\site-packages\\sklearn\\gaussian_process\\_gpr.py:504: ConvergenceWarning: lbfgs failed to converge (status=2):\n",
      "ABNORMAL_TERMINATION_IN_LNSRCH.\n",
      "\n",
      "Increase the number of iterations (max_iter) or scale the data as shown in:\n",
      "    https://scikit-learn.org/stable/modules/preprocessing.html\n",
      "  _check_optimize_result(\"lbfgs\", opt_res)\n",
      " 47%|█████████████████████████████████████▎                                          | 233/499 [34:51<38:21,  8.65s/it]C:\\Users\\charles.fieseler\\Anaconda3\\envs\\track_using_features\\lib\\site-packages\\sklearn\\gaussian_process\\_gpr.py:504: ConvergenceWarning: lbfgs failed to converge (status=2):\n",
      "ABNORMAL_TERMINATION_IN_LNSRCH.\n",
      "\n",
      "Increase the number of iterations (max_iter) or scale the data as shown in:\n",
      "    https://scikit-learn.org/stable/modules/preprocessing.html\n",
      "  _check_optimize_result(\"lbfgs\", opt_res)\n",
      "C:\\Users\\charles.fieseler\\Anaconda3\\envs\\track_using_features\\lib\\site-packages\\sklearn\\gaussian_process\\_gpr.py:504: ConvergenceWarning: lbfgs failed to converge (status=2):\n",
      "ABNORMAL_TERMINATION_IN_LNSRCH.\n",
      "\n",
      "Increase the number of iterations (max_iter) or scale the data as shown in:\n",
      "    https://scikit-learn.org/stable/modules/preprocessing.html\n",
      "  _check_optimize_result(\"lbfgs\", opt_res)\n",
      " 47%|█████████████████████████████████████▌                                          | 234/499 [35:00<39:06,  8.85s/it]C:\\Users\\charles.fieseler\\Anaconda3\\envs\\track_using_features\\lib\\site-packages\\sklearn\\gaussian_process\\_gpr.py:504: ConvergenceWarning: lbfgs failed to converge (status=2):\n",
      "ABNORMAL_TERMINATION_IN_LNSRCH.\n",
      "\n",
      "Increase the number of iterations (max_iter) or scale the data as shown in:\n",
      "    https://scikit-learn.org/stable/modules/preprocessing.html\n",
      "  _check_optimize_result(\"lbfgs\", opt_res)\n",
      " 49%|██████████████████████████████████████▉                                         | 243/499 [36:24<38:26,  9.01s/it]C:\\Users\\charles.fieseler\\Anaconda3\\envs\\track_using_features\\lib\\site-packages\\sklearn\\gaussian_process\\_gpr.py:504: ConvergenceWarning: lbfgs failed to converge (status=2):\n",
      "ABNORMAL_TERMINATION_IN_LNSRCH.\n",
      "\n",
      "Increase the number of iterations (max_iter) or scale the data as shown in:\n",
      "    https://scikit-learn.org/stable/modules/preprocessing.html\n",
      "  _check_optimize_result(\"lbfgs\", opt_res)\n"
     ]
    },
    {
     "name": "stderr",
     "output_type": "stream",
     "text": [
      " 50%|███████████████████████████████████████▊                                        | 248/499 [37:09<37:17,  8.91s/it]C:\\Users\\charles.fieseler\\Anaconda3\\envs\\track_using_features\\lib\\site-packages\\sklearn\\gaussian_process\\_gpr.py:504: ConvergenceWarning: lbfgs failed to converge (status=2):\n",
      "ABNORMAL_TERMINATION_IN_LNSRCH.\n",
      "\n",
      "Increase the number of iterations (max_iter) or scale the data as shown in:\n",
      "    https://scikit-learn.org/stable/modules/preprocessing.html\n",
      "  _check_optimize_result(\"lbfgs\", opt_res)\n",
      " 50%|████████████████████████████████████████▏                                       | 251/499 [37:35<36:14,  8.77s/it]C:\\Users\\charles.fieseler\\Anaconda3\\envs\\track_using_features\\lib\\site-packages\\sklearn\\gaussian_process\\_gpr.py:504: ConvergenceWarning: lbfgs failed to converge (status=2):\n",
      "ABNORMAL_TERMINATION_IN_LNSRCH.\n",
      "\n",
      "Increase the number of iterations (max_iter) or scale the data as shown in:\n",
      "    https://scikit-learn.org/stable/modules/preprocessing.html\n",
      "  _check_optimize_result(\"lbfgs\", opt_res)\n",
      " 51%|████████████████████████████████████████▍                                       | 252/499 [37:44<36:56,  8.97s/it]C:\\Users\\charles.fieseler\\Anaconda3\\envs\\track_using_features\\lib\\site-packages\\sklearn\\gaussian_process\\_gpr.py:504: ConvergenceWarning: lbfgs failed to converge (status=2):\n",
      "ABNORMAL_TERMINATION_IN_LNSRCH.\n",
      "\n",
      "Increase the number of iterations (max_iter) or scale the data as shown in:\n",
      "    https://scikit-learn.org/stable/modules/preprocessing.html\n",
      "  _check_optimize_result(\"lbfgs\", opt_res)\n",
      " 51%|████████████████████████████████████████▉                                       | 255/499 [38:12<37:01,  9.10s/it]C:\\Users\\charles.fieseler\\Anaconda3\\envs\\track_using_features\\lib\\site-packages\\sklearn\\gaussian_process\\_gpr.py:504: ConvergenceWarning: lbfgs failed to converge (status=2):\n",
      "ABNORMAL_TERMINATION_IN_LNSRCH.\n",
      "\n",
      "Increase the number of iterations (max_iter) or scale the data as shown in:\n",
      "    https://scikit-learn.org/stable/modules/preprocessing.html\n",
      "  _check_optimize_result(\"lbfgs\", opt_res)\n",
      "C:\\Users\\charles.fieseler\\Anaconda3\\envs\\track_using_features\\lib\\site-packages\\sklearn\\gaussian_process\\_gpr.py:504: ConvergenceWarning: lbfgs failed to converge (status=2):\n",
      "ABNORMAL_TERMINATION_IN_LNSRCH.\n",
      "\n",
      "Increase the number of iterations (max_iter) or scale the data as shown in:\n",
      "    https://scikit-learn.org/stable/modules/preprocessing.html\n",
      "  _check_optimize_result(\"lbfgs\", opt_res)\n",
      " 52%|█████████████████████████████████████████▎                                      | 258/499 [38:39<36:17,  9.04s/it]C:\\Users\\charles.fieseler\\Anaconda3\\envs\\track_using_features\\lib\\site-packages\\sklearn\\gaussian_process\\_gpr.py:504: ConvergenceWarning: lbfgs failed to converge (status=2):\n",
      "ABNORMAL_TERMINATION_IN_LNSRCH.\n",
      "\n",
      "Increase the number of iterations (max_iter) or scale the data as shown in:\n",
      "    https://scikit-learn.org/stable/modules/preprocessing.html\n",
      "  _check_optimize_result(\"lbfgs\", opt_res)\n",
      " 54%|███████████████████████████████████████████▎                                    | 270/499 [40:25<32:55,  8.63s/it]C:\\Users\\charles.fieseler\\Anaconda3\\envs\\track_using_features\\lib\\site-packages\\sklearn\\gaussian_process\\_gpr.py:504: ConvergenceWarning: lbfgs failed to converge (status=2):\n",
      "ABNORMAL_TERMINATION_IN_LNSRCH.\n",
      "\n",
      "Increase the number of iterations (max_iter) or scale the data as shown in:\n",
      "    https://scikit-learn.org/stable/modules/preprocessing.html\n",
      "  _check_optimize_result(\"lbfgs\", opt_res)\n",
      " 54%|███████████████████████████████████████████▍                                    | 271/499 [40:34<33:05,  8.71s/it]C:\\Users\\charles.fieseler\\Anaconda3\\envs\\track_using_features\\lib\\site-packages\\sklearn\\gaussian_process\\_gpr.py:504: ConvergenceWarning: lbfgs failed to converge (status=2):\n",
      "ABNORMAL_TERMINATION_IN_LNSRCH.\n",
      "\n",
      "Increase the number of iterations (max_iter) or scale the data as shown in:\n",
      "    https://scikit-learn.org/stable/modules/preprocessing.html\n",
      "  _check_optimize_result(\"lbfgs\", opt_res)\n",
      "C:\\Users\\charles.fieseler\\Anaconda3\\envs\\track_using_features\\lib\\site-packages\\sklearn\\gaussian_process\\_gpr.py:504: ConvergenceWarning: lbfgs failed to converge (status=2):\n",
      "ABNORMAL_TERMINATION_IN_LNSRCH.\n",
      "\n",
      "Increase the number of iterations (max_iter) or scale the data as shown in:\n",
      "    https://scikit-learn.org/stable/modules/preprocessing.html\n",
      "  _check_optimize_result(\"lbfgs\", opt_res)\n",
      " 55%|███████████████████████████████████████████▌                                    | 272/499 [40:44<34:00,  8.99s/it]C:\\Users\\charles.fieseler\\Anaconda3\\envs\\track_using_features\\lib\\site-packages\\sklearn\\gaussian_process\\_gpr.py:504: ConvergenceWarning: lbfgs failed to converge (status=2):\n",
      "ABNORMAL_TERMINATION_IN_LNSRCH.\n",
      "\n",
      "Increase the number of iterations (max_iter) or scale the data as shown in:\n",
      "    https://scikit-learn.org/stable/modules/preprocessing.html\n",
      "  _check_optimize_result(\"lbfgs\", opt_res)\n",
      "C:\\Users\\charles.fieseler\\Anaconda3\\envs\\track_using_features\\lib\\site-packages\\sklearn\\gaussian_process\\_gpr.py:504: ConvergenceWarning: lbfgs failed to converge (status=2):\n",
      "ABNORMAL_TERMINATION_IN_LNSRCH.\n",
      "\n",
      "Increase the number of iterations (max_iter) or scale the data as shown in:\n",
      "    https://scikit-learn.org/stable/modules/preprocessing.html\n",
      "  _check_optimize_result(\"lbfgs\", opt_res)\n",
      " 55%|███████████████████████████████████████████▊                                    | 273/499 [40:53<33:56,  9.01s/it]C:\\Users\\charles.fieseler\\Anaconda3\\envs\\track_using_features\\lib\\site-packages\\sklearn\\gaussian_process\\_gpr.py:504: ConvergenceWarning: lbfgs failed to converge (status=2):\n",
      "ABNORMAL_TERMINATION_IN_LNSRCH.\n",
      "\n",
      "Increase the number of iterations (max_iter) or scale the data as shown in:\n",
      "    https://scikit-learn.org/stable/modules/preprocessing.html\n",
      "  _check_optimize_result(\"lbfgs\", opt_res)\n",
      " 56%|████████████████████████████████████████████▋                                   | 279/499 [41:46<32:31,  8.87s/it]C:\\Users\\charles.fieseler\\Anaconda3\\envs\\track_using_features\\lib\\site-packages\\sklearn\\gaussian_process\\_gpr.py:504: ConvergenceWarning: lbfgs failed to converge (status=2):\n",
      "ABNORMAL_TERMINATION_IN_LNSRCH.\n",
      "\n",
      "Increase the number of iterations (max_iter) or scale the data as shown in:\n",
      "    https://scikit-learn.org/stable/modules/preprocessing.html\n",
      "  _check_optimize_result(\"lbfgs\", opt_res)\n",
      " 57%|█████████████████████████████████████████████▎                                  | 283/499 [42:22<31:25,  8.73s/it]C:\\Users\\charles.fieseler\\Anaconda3\\envs\\track_using_features\\lib\\site-packages\\sklearn\\gaussian_process\\_gpr.py:504: ConvergenceWarning: lbfgs failed to converge (status=2):\n",
      "ABNORMAL_TERMINATION_IN_LNSRCH.\n",
      "\n",
      "Increase the number of iterations (max_iter) or scale the data as shown in:\n",
      "    https://scikit-learn.org/stable/modules/preprocessing.html\n",
      "  _check_optimize_result(\"lbfgs\", opt_res)\n",
      " 57%|█████████████████████████████████████████████▌                                  | 284/499 [42:31<32:01,  8.94s/it]C:\\Users\\charles.fieseler\\Anaconda3\\envs\\track_using_features\\lib\\site-packages\\sklearn\\gaussian_process\\_gpr.py:504: ConvergenceWarning: lbfgs failed to converge (status=2):\n",
      "ABNORMAL_TERMINATION_IN_LNSRCH.\n",
      "\n",
      "Increase the number of iterations (max_iter) or scale the data as shown in:\n",
      "    https://scikit-learn.org/stable/modules/preprocessing.html\n",
      "  _check_optimize_result(\"lbfgs\", opt_res)\n",
      " 58%|██████████████████████████████████████████████                                  | 287/499 [42:58<30:52,  8.74s/it]C:\\Users\\charles.fieseler\\Anaconda3\\envs\\track_using_features\\lib\\site-packages\\sklearn\\gaussian_process\\_gpr.py:504: ConvergenceWarning: lbfgs failed to converge (status=2):\n",
      "ABNORMAL_TERMINATION_IN_LNSRCH.\n",
      "\n",
      "Increase the number of iterations (max_iter) or scale the data as shown in:\n",
      "    https://scikit-learn.org/stable/modules/preprocessing.html\n",
      "  _check_optimize_result(\"lbfgs\", opt_res)\n",
      " 58%|██████████████████████████████████████████████▏                                 | 288/499 [43:06<30:51,  8.77s/it]C:\\Users\\charles.fieseler\\Anaconda3\\envs\\track_using_features\\lib\\site-packages\\sklearn\\gaussian_process\\_gpr.py:504: ConvergenceWarning: lbfgs failed to converge (status=2):\n",
      "ABNORMAL_TERMINATION_IN_LNSRCH.\n",
      "\n",
      "Increase the number of iterations (max_iter) or scale the data as shown in:\n",
      "    https://scikit-learn.org/stable/modules/preprocessing.html\n",
      "  _check_optimize_result(\"lbfgs\", opt_res)\n"
     ]
    },
    {
     "name": "stderr",
     "output_type": "stream",
     "text": [
      " 59%|██████████████████████████████████████████████▉                                 | 293/499 [43:51<30:42,  8.95s/it]C:\\Users\\charles.fieseler\\Anaconda3\\envs\\track_using_features\\lib\\site-packages\\sklearn\\gaussian_process\\_gpr.py:504: ConvergenceWarning: lbfgs failed to converge (status=2):\n",
      "ABNORMAL_TERMINATION_IN_LNSRCH.\n",
      "\n",
      "Increase the number of iterations (max_iter) or scale the data as shown in:\n",
      "    https://scikit-learn.org/stable/modules/preprocessing.html\n",
      "  _check_optimize_result(\"lbfgs\", opt_res)\n",
      " 61%|████████████████████████████████████████████████▉                               | 305/499 [45:36<27:45,  8.58s/it]C:\\Users\\charles.fieseler\\Anaconda3\\envs\\track_using_features\\lib\\site-packages\\sklearn\\gaussian_process\\_gpr.py:504: ConvergenceWarning: lbfgs failed to converge (status=2):\n",
      "ABNORMAL_TERMINATION_IN_LNSRCH.\n",
      "\n",
      "Increase the number of iterations (max_iter) or scale the data as shown in:\n",
      "    https://scikit-learn.org/stable/modules/preprocessing.html\n",
      "  _check_optimize_result(\"lbfgs\", opt_res)\n",
      " 62%|█████████████████████████████████████████████████▊                              | 311/499 [46:29<27:51,  8.89s/it]C:\\Users\\charles.fieseler\\Anaconda3\\envs\\track_using_features\\lib\\site-packages\\sklearn\\gaussian_process\\_gpr.py:504: ConvergenceWarning: lbfgs failed to converge (status=2):\n",
      "ABNORMAL_TERMINATION_IN_LNSRCH.\n",
      "\n",
      "Increase the number of iterations (max_iter) or scale the data as shown in:\n",
      "    https://scikit-learn.org/stable/modules/preprocessing.html\n",
      "  _check_optimize_result(\"lbfgs\", opt_res)\n",
      " 63%|██████████████████████████████████████████████████▋                             | 316/499 [47:14<27:06,  8.89s/it]C:\\Users\\charles.fieseler\\Anaconda3\\envs\\track_using_features\\lib\\site-packages\\sklearn\\gaussian_process\\_gpr.py:504: ConvergenceWarning: lbfgs failed to converge (status=2):\n",
      "ABNORMAL_TERMINATION_IN_LNSRCH.\n",
      "\n",
      "Increase the number of iterations (max_iter) or scale the data as shown in:\n",
      "    https://scikit-learn.org/stable/modules/preprocessing.html\n",
      "  _check_optimize_result(\"lbfgs\", opt_res)\n",
      " 66%|████████████████████████████████████████████████████▉                           | 330/499 [49:19<25:19,  8.99s/it]C:\\Users\\charles.fieseler\\Anaconda3\\envs\\track_using_features\\lib\\site-packages\\sklearn\\gaussian_process\\_gpr.py:504: ConvergenceWarning: lbfgs failed to converge (status=2):\n",
      "ABNORMAL_TERMINATION_IN_LNSRCH.\n",
      "\n",
      "Increase the number of iterations (max_iter) or scale the data as shown in:\n",
      "    https://scikit-learn.org/stable/modules/preprocessing.html\n",
      "  _check_optimize_result(\"lbfgs\", opt_res)\n",
      " 68%|██████████████████████████████████████████████████████                          | 337/499 [50:22<24:12,  8.97s/it]C:\\Users\\charles.fieseler\\Anaconda3\\envs\\track_using_features\\lib\\site-packages\\sklearn\\gaussian_process\\_gpr.py:504: ConvergenceWarning: lbfgs failed to converge (status=2):\n",
      "ABNORMAL_TERMINATION_IN_LNSRCH.\n",
      "\n",
      "Increase the number of iterations (max_iter) or scale the data as shown in:\n",
      "    https://scikit-learn.org/stable/modules/preprocessing.html\n",
      "  _check_optimize_result(\"lbfgs\", opt_res)\n",
      " 70%|███████████████████████████████████████████████████████▋                        | 347/499 [51:53<22:56,  9.06s/it]C:\\Users\\charles.fieseler\\Anaconda3\\envs\\track_using_features\\lib\\site-packages\\sklearn\\gaussian_process\\_gpr.py:504: ConvergenceWarning: lbfgs failed to converge (status=2):\n",
      "ABNORMAL_TERMINATION_IN_LNSRCH.\n",
      "\n",
      "Increase the number of iterations (max_iter) or scale the data as shown in:\n",
      "    https://scikit-learn.org/stable/modules/preprocessing.html\n",
      "  _check_optimize_result(\"lbfgs\", opt_res)\n",
      " 70%|████████████████████████████████████████████████████████                        | 350/499 [52:19<22:03,  8.88s/it]C:\\Users\\charles.fieseler\\Anaconda3\\envs\\track_using_features\\lib\\site-packages\\sklearn\\gaussian_process\\_gpr.py:504: ConvergenceWarning: lbfgs failed to converge (status=2):\n",
      "ABNORMAL_TERMINATION_IN_LNSRCH.\n",
      "\n",
      "Increase the number of iterations (max_iter) or scale the data as shown in:\n",
      "    https://scikit-learn.org/stable/modules/preprocessing.html\n",
      "  _check_optimize_result(\"lbfgs\", opt_res)\n",
      " 71%|████████████████████████████████████████████████████████▊                       | 354/499 [52:54<21:15,  8.80s/it]C:\\Users\\charles.fieseler\\Anaconda3\\envs\\track_using_features\\lib\\site-packages\\sklearn\\gaussian_process\\_gpr.py:504: ConvergenceWarning: lbfgs failed to converge (status=2):\n",
      "ABNORMAL_TERMINATION_IN_LNSRCH.\n",
      "\n",
      "Increase the number of iterations (max_iter) or scale the data as shown in:\n",
      "    https://scikit-learn.org/stable/modules/preprocessing.html\n",
      "  _check_optimize_result(\"lbfgs\", opt_res)\n",
      " 72%|█████████████████████████████████████████████████████████▍                      | 358/499 [53:31<21:14,  9.04s/it]C:\\Users\\charles.fieseler\\Anaconda3\\envs\\track_using_features\\lib\\site-packages\\sklearn\\gaussian_process\\_gpr.py:504: ConvergenceWarning: lbfgs failed to converge (status=2):\n",
      "ABNORMAL_TERMINATION_IN_LNSRCH.\n",
      "\n",
      "Increase the number of iterations (max_iter) or scale the data as shown in:\n",
      "    https://scikit-learn.org/stable/modules/preprocessing.html\n",
      "  _check_optimize_result(\"lbfgs\", opt_res)\n",
      " 72%|█████████████████████████████████████████████████████████▌                      | 359/499 [53:40<21:16,  9.12s/it]C:\\Users\\charles.fieseler\\Anaconda3\\envs\\track_using_features\\lib\\site-packages\\sklearn\\gaussian_process\\_gpr.py:504: ConvergenceWarning: lbfgs failed to converge (status=2):\n",
      "ABNORMAL_TERMINATION_IN_LNSRCH.\n",
      "\n",
      "Increase the number of iterations (max_iter) or scale the data as shown in:\n",
      "    https://scikit-learn.org/stable/modules/preprocessing.html\n",
      "  _check_optimize_result(\"lbfgs\", opt_res)\n",
      " 73%|██████████████████████████████████████████████████████████▎                     | 364/499 [54:25<20:05,  8.93s/it]C:\\Users\\charles.fieseler\\Anaconda3\\envs\\track_using_features\\lib\\site-packages\\sklearn\\gaussian_process\\_gpr.py:504: ConvergenceWarning: lbfgs failed to converge (status=2):\n",
      "ABNORMAL_TERMINATION_IN_LNSRCH.\n",
      "\n",
      "Increase the number of iterations (max_iter) or scale the data as shown in:\n",
      "    https://scikit-learn.org/stable/modules/preprocessing.html\n",
      "  _check_optimize_result(\"lbfgs\", opt_res)\n",
      " 73%|██████████████████████████████████████████████████████████▋                     | 366/499 [54:43<20:17,  9.15s/it]C:\\Users\\charles.fieseler\\Anaconda3\\envs\\track_using_features\\lib\\site-packages\\sklearn\\gaussian_process\\_gpr.py:504: ConvergenceWarning: lbfgs failed to converge (status=2):\n",
      "ABNORMAL_TERMINATION_IN_LNSRCH.\n",
      "\n",
      "Increase the number of iterations (max_iter) or scale the data as shown in:\n",
      "    https://scikit-learn.org/stable/modules/preprocessing.html\n",
      "  _check_optimize_result(\"lbfgs\", opt_res)\n",
      " 74%|██████████████████████████████████████████████████████████▊                     | 367/499 [54:53<20:11,  9.17s/it]C:\\Users\\charles.fieseler\\Anaconda3\\envs\\track_using_features\\lib\\site-packages\\sklearn\\gaussian_process\\_gpr.py:504: ConvergenceWarning: lbfgs failed to converge (status=2):\n",
      "ABNORMAL_TERMINATION_IN_LNSRCH.\n",
      "\n",
      "Increase the number of iterations (max_iter) or scale the data as shown in:\n",
      "    https://scikit-learn.org/stable/modules/preprocessing.html\n",
      "  _check_optimize_result(\"lbfgs\", opt_res)\n",
      " 78%|██████████████████████████████████████████████████████████████▎                 | 389/499 [58:08<16:37,  9.07s/it]C:\\Users\\charles.fieseler\\Anaconda3\\envs\\track_using_features\\lib\\site-packages\\sklearn\\gaussian_process\\_gpr.py:504: ConvergenceWarning: lbfgs failed to converge (status=2):\n",
      "ABNORMAL_TERMINATION_IN_LNSRCH.\n",
      "\n",
      "Increase the number of iterations (max_iter) or scale the data as shown in:\n",
      "    https://scikit-learn.org/stable/modules/preprocessing.html\n",
      "  _check_optimize_result(\"lbfgs\", opt_res)\n",
      " 80%|███████████████████████████████████████████████████████████████▊                | 398/499 [59:28<14:59,  8.91s/it]C:\\Users\\charles.fieseler\\Anaconda3\\envs\\track_using_features\\lib\\site-packages\\sklearn\\gaussian_process\\_gpr.py:504: ConvergenceWarning: lbfgs failed to converge (status=2):\n",
      "ABNORMAL_TERMINATION_IN_LNSRCH.\n",
      "\n",
      "Increase the number of iterations (max_iter) or scale the data as shown in:\n",
      "    https://scikit-learn.org/stable/modules/preprocessing.html\n",
      "  _check_optimize_result(\"lbfgs\", opt_res)\n"
     ]
    },
    {
     "name": "stderr",
     "output_type": "stream",
     "text": [
      " 81%|███████████████████████████████████████████████████████████████▎              | 405/499 [1:00:29<13:42,  8.75s/it]C:\\Users\\charles.fieseler\\Anaconda3\\envs\\track_using_features\\lib\\site-packages\\sklearn\\gaussian_process\\_gpr.py:504: ConvergenceWarning: lbfgs failed to converge (status=2):\n",
      "ABNORMAL_TERMINATION_IN_LNSRCH.\n",
      "\n",
      "Increase the number of iterations (max_iter) or scale the data as shown in:\n",
      "    https://scikit-learn.org/stable/modules/preprocessing.html\n",
      "  _check_optimize_result(\"lbfgs\", opt_res)\n",
      " 82%|███████████████████████████████████████████████████████████████▌              | 407/499 [1:00:46<13:21,  8.71s/it]C:\\Users\\charles.fieseler\\Anaconda3\\envs\\track_using_features\\lib\\site-packages\\sklearn\\gaussian_process\\_gpr.py:504: ConvergenceWarning: lbfgs failed to converge (status=2):\n",
      "ABNORMAL_TERMINATION_IN_LNSRCH.\n",
      "\n",
      "Increase the number of iterations (max_iter) or scale the data as shown in:\n",
      "    https://scikit-learn.org/stable/modules/preprocessing.html\n",
      "  _check_optimize_result(\"lbfgs\", opt_res)\n",
      " 82%|████████████████████████████████████████████████████████████████              | 410/499 [1:01:14<13:18,  8.97s/it]C:\\Users\\charles.fieseler\\Anaconda3\\envs\\track_using_features\\lib\\site-packages\\sklearn\\gaussian_process\\_gpr.py:504: ConvergenceWarning: lbfgs failed to converge (status=2):\n",
      "ABNORMAL_TERMINATION_IN_LNSRCH.\n",
      "\n",
      "Increase the number of iterations (max_iter) or scale the data as shown in:\n",
      "    https://scikit-learn.org/stable/modules/preprocessing.html\n",
      "  _check_optimize_result(\"lbfgs\", opt_res)\n",
      " 85%|██████████████████████████████████████████████████████████████████            | 423/499 [1:03:11<11:31,  9.10s/it]C:\\Users\\charles.fieseler\\Anaconda3\\envs\\track_using_features\\lib\\site-packages\\sklearn\\gaussian_process\\_gpr.py:504: ConvergenceWarning: lbfgs failed to converge (status=2):\n",
      "ABNORMAL_TERMINATION_IN_LNSRCH.\n",
      "\n",
      "Increase the number of iterations (max_iter) or scale the data as shown in:\n",
      "    https://scikit-learn.org/stable/modules/preprocessing.html\n",
      "  _check_optimize_result(\"lbfgs\", opt_res)\n",
      " 86%|██████████████████████████████████████████████████████████████████▋           | 427/499 [1:03:46<10:32,  8.78s/it]C:\\Users\\charles.fieseler\\Anaconda3\\envs\\track_using_features\\lib\\site-packages\\sklearn\\gaussian_process\\_gpr.py:504: ConvergenceWarning: lbfgs failed to converge (status=2):\n",
      "ABNORMAL_TERMINATION_IN_LNSRCH.\n",
      "\n",
      "Increase the number of iterations (max_iter) or scale the data as shown in:\n",
      "    https://scikit-learn.org/stable/modules/preprocessing.html\n",
      "  _check_optimize_result(\"lbfgs\", opt_res)\n",
      " 87%|███████████████████████████████████████████████████████████████████▋          | 433/499 [1:04:40<09:47,  8.90s/it]C:\\Users\\charles.fieseler\\Anaconda3\\envs\\track_using_features\\lib\\site-packages\\sklearn\\gaussian_process\\_gpr.py:504: ConvergenceWarning: lbfgs failed to converge (status=2):\n",
      "ABNORMAL_TERMINATION_IN_LNSRCH.\n",
      "\n",
      "Increase the number of iterations (max_iter) or scale the data as shown in:\n",
      "    https://scikit-learn.org/stable/modules/preprocessing.html\n",
      "  _check_optimize_result(\"lbfgs\", opt_res)\n",
      " 88%|████████████████████████████████████████████████████████████████████▊         | 440/499 [1:05:43<08:53,  9.04s/it]C:\\Users\\charles.fieseler\\Anaconda3\\envs\\track_using_features\\lib\\site-packages\\sklearn\\gaussian_process\\_gpr.py:504: ConvergenceWarning: lbfgs failed to converge (status=2):\n",
      "ABNORMAL_TERMINATION_IN_LNSRCH.\n",
      "\n",
      "Increase the number of iterations (max_iter) or scale the data as shown in:\n",
      "    https://scikit-learn.org/stable/modules/preprocessing.html\n",
      "  _check_optimize_result(\"lbfgs\", opt_res)\n",
      " 89%|█████████████████████████████████████████████████████████████████████▍        | 444/499 [1:06:19<08:17,  9.05s/it]C:\\Users\\charles.fieseler\\Anaconda3\\envs\\track_using_features\\lib\\site-packages\\sklearn\\gaussian_process\\_gpr.py:504: ConvergenceWarning: lbfgs failed to converge (status=2):\n",
      "ABNORMAL_TERMINATION_IN_LNSRCH.\n",
      "\n",
      "Increase the number of iterations (max_iter) or scale the data as shown in:\n",
      "    https://scikit-learn.org/stable/modules/preprocessing.html\n",
      "  _check_optimize_result(\"lbfgs\", opt_res)\n",
      " 91%|███████████████████████████████████████████████████████████████████████       | 455/499 [1:07:56<06:27,  8.81s/it]C:\\Users\\charles.fieseler\\Anaconda3\\envs\\track_using_features\\lib\\site-packages\\sklearn\\gaussian_process\\_gpr.py:504: ConvergenceWarning: lbfgs failed to converge (status=2):\n",
      "ABNORMAL_TERMINATION_IN_LNSRCH.\n",
      "\n",
      "Increase the number of iterations (max_iter) or scale the data as shown in:\n",
      "    https://scikit-learn.org/stable/modules/preprocessing.html\n",
      "  _check_optimize_result(\"lbfgs\", opt_res)\n",
      " 92%|███████████████████████████████████████████████████████████████████████▍      | 457/499 [1:08:13<06:09,  8.80s/it]C:\\Users\\charles.fieseler\\Anaconda3\\envs\\track_using_features\\lib\\site-packages\\sklearn\\gaussian_process\\_gpr.py:504: ConvergenceWarning: lbfgs failed to converge (status=2):\n",
      "ABNORMAL_TERMINATION_IN_LNSRCH.\n",
      "\n",
      "Increase the number of iterations (max_iter) or scale the data as shown in:\n",
      "    https://scikit-learn.org/stable/modules/preprocessing.html\n",
      "  _check_optimize_result(\"lbfgs\", opt_res)\n",
      " 92%|███████████████████████████████████████████████████████████████████████▉      | 460/499 [1:08:39<05:42,  8.77s/it]C:\\Users\\charles.fieseler\\Anaconda3\\envs\\track_using_features\\lib\\site-packages\\sklearn\\gaussian_process\\_gpr.py:504: ConvergenceWarning: lbfgs failed to converge (status=2):\n",
      "ABNORMAL_TERMINATION_IN_LNSRCH.\n",
      "\n",
      "Increase the number of iterations (max_iter) or scale the data as shown in:\n",
      "    https://scikit-learn.org/stable/modules/preprocessing.html\n",
      "  _check_optimize_result(\"lbfgs\", opt_res)\n",
      " 93%|████████████████████████████████████████████████████████████████████████▎     | 463/499 [1:09:06<05:19,  8.88s/it]C:\\Users\\charles.fieseler\\Anaconda3\\envs\\track_using_features\\lib\\site-packages\\sklearn\\gaussian_process\\_gpr.py:504: ConvergenceWarning: lbfgs failed to converge (status=2):\n",
      "ABNORMAL_TERMINATION_IN_LNSRCH.\n",
      "\n",
      "Increase the number of iterations (max_iter) or scale the data as shown in:\n",
      "    https://scikit-learn.org/stable/modules/preprocessing.html\n",
      "  _check_optimize_result(\"lbfgs\", opt_res)\n",
      " 95%|█████████████████████████████████████████████████████████████████████████▉    | 473/499 [1:10:36<03:55,  9.06s/it]C:\\Users\\charles.fieseler\\Anaconda3\\envs\\track_using_features\\lib\\site-packages\\sklearn\\gaussian_process\\_gpr.py:504: ConvergenceWarning: lbfgs failed to converge (status=2):\n",
      "ABNORMAL_TERMINATION_IN_LNSRCH.\n",
      "\n",
      "Increase the number of iterations (max_iter) or scale the data as shown in:\n",
      "    https://scikit-learn.org/stable/modules/preprocessing.html\n",
      "  _check_optimize_result(\"lbfgs\", opt_res)\n",
      " 95%|██████████████████████████████████████████████████████████████████████████▏   | 475/499 [1:10:55<03:41,  9.21s/it]C:\\Users\\charles.fieseler\\Anaconda3\\envs\\track_using_features\\lib\\site-packages\\sklearn\\gaussian_process\\_gpr.py:504: ConvergenceWarning: lbfgs failed to converge (status=2):\n",
      "ABNORMAL_TERMINATION_IN_LNSRCH.\n",
      "\n",
      "Increase the number of iterations (max_iter) or scale the data as shown in:\n",
      "    https://scikit-learn.org/stable/modules/preprocessing.html\n",
      "  _check_optimize_result(\"lbfgs\", opt_res)\n",
      " 97%|███████████████████████████████████████████████████████████████████████████▎  | 482/499 [1:11:59<02:32,  8.97s/it]C:\\Users\\charles.fieseler\\Anaconda3\\envs\\track_using_features\\lib\\site-packages\\sklearn\\gaussian_process\\_gpr.py:504: ConvergenceWarning: lbfgs failed to converge (status=2):\n",
      "ABNORMAL_TERMINATION_IN_LNSRCH.\n",
      "\n",
      "Increase the number of iterations (max_iter) or scale the data as shown in:\n",
      "    https://scikit-learn.org/stable/modules/preprocessing.html\n",
      "  _check_optimize_result(\"lbfgs\", opt_res)\n",
      "100%|██████████████████████████████████████████████████████████████████████████████| 499/499 [1:14:30<00:00,  8.96s/it]\n"
     ]
    }
   ],
   "source": [
    "p = PreprocessingSettings()\n",
    "p.do_filtering=False\n",
    "p.do_rigid_alignment=True\n",
    "p.do_mini_max_projection=True\n",
    "\n",
    "opt = {'start_frame':50,\n",
    "       'num_frames':500,\n",
    "       'num_slices':33,\n",
    "       'save_candidate_matches':True,\n",
    "       'add_affine_to_candidates':True,\n",
    "       'add_gp_to_candidates':True,\n",
    "       'external_detections':external_annotations}\n",
    "out = track_neurons_full_video(btf_fname_red, **opt, preprocessing_settings=p)\n",
    "b_matches, b_conf, b_frames, b_candidates = out"
   ]
  },
  {
   "cell_type": "code",
   "execution_count": 5,
   "id": "herbal-faith",
   "metadata": {},
   "outputs": [],
   "source": [
    "# debug float neuron names\n",
    "new_candidates = {}\n",
    "for k, these_matches in b_candidates.items():\n",
    "    new_matches = []\n",
    "    for m in these_matches:\n",
    "        if len(m)==3:\n",
    "            m = (int(m[0]), int(m[1]), m[2])\n",
    "        else:\n",
    "            m = (int(m[0]), int(m[1]), 1.0)\n",
    "        new_matches.append(m)\n",
    "    new_candidates[k] = new_matches\n",
    "bp_matches = calc_all_bipartite_matches(new_candidates)"
   ]
  },
  {
   "cell_type": "code",
   "execution_count": 15,
   "id": "drawn-crime",
   "metadata": {},
   "outputs": [],
   "source": [
    "df_b = build_tracklets_from_classes(b_frames, bp_matches)"
   ]
  },
  {
   "cell_type": "code",
   "execution_count": 13,
   "id": "abroad-revolution",
   "metadata": {},
   "outputs": [],
   "source": [
    "suffix = 'bipartite-stardist'\n",
    "\n",
    "fname = f'clust_df_dat_{suffix}.pickle'\n",
    "with open(fname, 'wb') as f:\n",
    "    pickle.dump(df_b,f)\n",
    "fname = f'match_dat_{suffix}.pickle'\n",
    "with open(fname, 'wb') as f:\n",
    "    pickle.dump(b_matches, f)\n",
    "fname = f'frame_dat_{suffix}.pickle'\n",
    "[frame.prep_for_pickle() for frame in b_frames.values()]\n",
    "with open(fname, 'wb') as f:\n",
    "    pickle.dump(b_frames, f)"
   ]
  },
  {
   "cell_type": "markdown",
   "id": "irish-boating",
   "metadata": {},
   "source": [
    "### Compare bipartite and pure feature version"
   ]
  },
  {
   "cell_type": "code",
   "execution_count": null,
   "id": "guided-tutorial",
   "metadata": {},
   "outputs": [],
   "source": [
    "df_raw = build_tracklets_from_classes(b_frames, b_matches)"
   ]
  },
  {
   "cell_type": "code",
   "execution_count": 16,
   "id": "hired-amsterdam",
   "metadata": {},
   "outputs": [
    {
     "data": {
      "text/plain": [
       "0        11\n",
       "1         9\n",
       "2         9\n",
       "3        34\n",
       "4        74\n",
       "         ..\n",
       "10770     2\n",
       "10771     2\n",
       "10772     2\n",
       "10773     2\n",
       "10774     2\n",
       "Name: slice_ind, Length: 10775, dtype: int64"
      ]
     },
     "execution_count": 16,
     "metadata": {},
     "output_type": "execute_result"
    },
    {
     "data": {
      "image/png": "[encoded data removed]",
      "text/plain": [
       "<Figure size 432x288 with 1 Axes>"
      ]
     },
     "metadata": {
      "needs_background": "light"
     },
     "output_type": "display_data"
    }
   ],
   "source": [
    "hist_of_tracklet_lens(df_raw)"
   ]
  },
  {
   "cell_type": "code",
   "execution_count": 17,
   "id": "modified-infection",
   "metadata": {},
   "outputs": [
    {
     "data": {
      "text/plain": [
       "0       142\n",
       "1        13\n",
       "2       132\n",
       "3        22\n",
       "4         5\n",
       "       ... \n",
       "2996      2\n",
       "2997      2\n",
       "2998      2\n",
       "2999      2\n",
       "3000      2\n",
       "Name: slice_ind, Length: 3001, dtype: int64"
      ]
     },
     "execution_count": 17,
     "metadata": {},
     "output_type": "execute_result"
    },
    {
     "data": {
      "image/png": "[encoded data removed]",
      "text/plain": [
       "<Figure size 432x288 with 1 Axes>"
      ]
     },
     "metadata": {
      "needs_background": "light"
     },
     "output_type": "display_data"
    }
   ],
   "source": [
    "hist_of_tracklet_lens(df_b)"
   ]
  },
  {
   "cell_type": "code",
   "execution_count": null,
   "id": "wound-startup",
   "metadata": {},
   "outputs": [],
   "source": []
  },
  {
   "cell_type": "markdown",
   "id": "irish-circus",
   "metadata": {},
   "source": [
    "## Better ways to get reference frame neurons"
   ]
  },
  {
   "cell_type": "code",
   "execution_count": 134,
   "id": "rocky-immune",
   "metadata": {},
   "outputs": [],
   "source": [
    "G = build_digraph_from_matches(reference_set.pairwise_matches, reference_set.pairwise_conf, verbose=0)\n",
    "G = G.to_undirected()"
   ]
  },
  {
   "cell_type": "markdown",
   "id": "average-guest",
   "metadata": {},
   "source": [
    "### Modified k-cliques"
   ]
  },
  {
   "cell_type": "code",
   "execution_count": 132,
   "id": "anticipated-weight",
   "metadata": {},
   "outputs": [],
   "source": [
    "# Do not remove nodes so we can keep the total clique list\n",
    "all_cliques = list(nx.find_cliques(G))"
   ]
  },
  {
   "cell_type": "code",
   "execution_count": null,
   "id": "cellular-repeat",
   "metadata": {
    "scrolled": true
   },
   "outputs": [],
   "source": [
    "# Loop through decreasing sizes of cliques\n",
    "# If a clique is found, use it to label neurons\n",
    "current_global_ind = 0\n",
    "for k in range(30,7,-1):\n",
    "    communities = list(k_clique_communities(G, k=k, cliques=all_cliques))\n",
    "    print(f\"Found {len(communities)} communities at k={k}\")\n",
    "    \n",
    "    for c in communities:\n",
    "        # First check if labels already exist\n",
    "        old_labels = set()\n",
    "        for n in c:\n",
    "            tmp = G.nodes()[n].get('label', None)\n",
    "            if tmp is not None:\n",
    "                old_labels.add(tmp)\n",
    "        if len(old_labels) > 1:\n",
    "            print(\"Found multiple old labels; skipping\")\n",
    "            continue\n",
    "        elif len(old_labels) == 1:\n",
    "            current_local_ind = list(old_labels)[0]\n",
    "            print(f\"Found single old label; extending {current_local_ind}\")\n",
    "        else:\n",
    "            current_local_ind = current_global_ind\n",
    "            current_global_ind += 1\n",
    "            print(f\"Found no old labels; creating {current_local_ind}\")\n",
    "        for n in c:\n",
    "            G.nodes()[n]['label'] = current_local_ind\n",
    "print(f\"In total, created {current_global_ind} neuron clusters\")"
   ]
  },
  {
   "cell_type": "code",
   "execution_count": 124,
   "id": "golden-amplifier",
   "metadata": {},
   "outputs": [],
   "source": [
    "all_sz = defaultdict(int)\n",
    "\n",
    "for n in G.nodes():\n",
    "    this_label = G.nodes()[n].get('label', None)\n",
    "    if this_label is not None:\n",
    "        all_sz[this_label] += 1"
   ]
  },
  {
   "cell_type": "code",
   "execution_count": 125,
   "id": "angry-fossil",
   "metadata": {},
   "outputs": [
    {
     "data": {
      "text/plain": [
       "(array([2., 2., 2., 2., 2., 2., 2., 2., 2., 3.]),\n",
       " array([ 0.,  2.,  4.,  6.,  8., 10., 12., 14., 16., 18., 20.]),\n",
       " <BarContainer object of 10 artists>)"
      ]
     },
     "execution_count": 125,
     "metadata": {},
     "output_type": "execute_result"
    },
    {
     "data": {
      "image/png": "[encoded data removed]",
      "text/plain": [
       "<Figure size 432x288 with 1 Axes>"
      ]
     },
     "metadata": {
      "needs_background": "light"
     },
     "output_type": "display_data"
    }
   ],
   "source": [
    "plt.hist(all_sz)"
   ]
  },
  {
   "cell_type": "markdown",
   "id": "olympic-somewhere",
   "metadata": {},
   "source": [
    "### Sequential"
   ]
  },
  {
   "cell_type": "code",
   "execution_count": 4,
   "id": "public-daughter",
   "metadata": {},
   "outputs": [],
   "source": [
    "all_matches = reference_set.pairwise_matches\n",
    "matches_fwd = {k:v for k,v in all_matches.items() if k[1]-k[0]==1}\n",
    "matches_rev = {k:v for k,v in all_matches.items() if k[0]-k[1]==1}"
   ]
  },
  {
   "cell_type": "code",
   "execution_count": 5,
   "id": "empty-traffic",
   "metadata": {},
   "outputs": [
    {
     "name": "stdout",
     "output_type": "stream",
     "text": [
      "Found no matches; is the dictionary in the proper format?\n"
     ]
    }
   ],
   "source": [
    "all_frames = reference_set.reference_frames\n",
    "df_fwd = build_tracklets_from_classes(all_frames, matches_fwd)\n",
    "df_rev = build_tracklets_from_classes(all_frames, matches_rev)"
   ]
  },
  {
   "cell_type": "code",
   "execution_count": 12,
   "id": "spectacular-swimming",
   "metadata": {},
   "outputs": [
    {
     "data": {
      "text/plain": [
       "(array([2, 3, 4], dtype=int64), array([39, 19, 97], dtype=int64))"
      ]
     },
     "execution_count": 12,
     "metadata": {},
     "output_type": "execute_result"
    }
   ],
   "source": [
    "all_len = df_fwd['all_ind_global'].apply(len)\n",
    "np.unique(all_len, return_counts=True)"
   ]
  },
  {
   "cell_type": "code",
   "execution_count": null,
   "id": "stretch-saying",
   "metadata": {},
   "outputs": [],
   "source": []
  },
  {
   "cell_type": "code",
   "execution_count": null,
   "id": "tight-coast",
   "metadata": {},
   "outputs": [],
   "source": []
  },
  {
   "cell_type": "code",
   "execution_count": null,
   "id": "connected-telling",
   "metadata": {},
   "outputs": [],
   "source": []
  },
  {
   "cell_type": "code",
   "execution_count": null,
   "id": "respective-principle",
   "metadata": {},
   "outputs": [],
   "source": []
  },
  {
   "cell_type": "code",
   "execution_count": null,
   "id": "comprehensive-morning",
   "metadata": {},
   "outputs": [],
   "source": []
  },
  {
   "cell_type": "code",
   "execution_count": null,
   "id": "consecutive-shark",
   "metadata": {},
   "outputs": [],
   "source": []
  },
  {
   "cell_type": "markdown",
   "id": "attended-gibraltar",
   "metadata": {},
   "source": [
    "# Scratch"
   ]
  },
  {
   "cell_type": "markdown",
   "id": "threatened-qatar",
   "metadata": {},
   "source": [
    "### Girvan-newman"
   ]
  },
  {
   "cell_type": "code",
   "execution_count": 135,
   "id": "acoustic-material",
   "metadata": {},
   "outputs": [],
   "source": [
    "from networkx.algorithms import community\n",
    "#https://networkx.org/documentation/stable/reference/algorithms/generated/networkx.algorithms.community.centrality.girvan_newman.html#networkx.algorithms.community.centrality.girvan_newman"
   ]
  },
  {
   "cell_type": "code",
   "execution_count": 137,
   "id": "moving-eight",
   "metadata": {},
   "outputs": [],
   "source": [
    "# comp = community.girvan_newman(G)\n",
    "# tuple(sorted(c) for c in next(comp))"
   ]
  },
  {
   "cell_type": "code",
   "execution_count": 133,
   "id": "eight-england",
   "metadata": {},
   "outputs": [],
   "source": []
  },
  {
   "cell_type": "code",
   "execution_count": null,
   "id": "caroline-girlfriend",
   "metadata": {},
   "outputs": [],
   "source": []
  },
  {
   "cell_type": "markdown",
   "id": "useful-envelope",
   "metadata": {},
   "source": [
    "## Details of the reference set"
   ]
  },
  {
   "cell_type": "code",
   "execution_count": 51,
   "id": "endangered-exemption",
   "metadata": {},
   "outputs": [],
   "source": [
    "new_matches = convert_labels_to_matches(reference_set.local2global)"
   ]
  },
  {
   "cell_type": "code",
   "execution_count": 53,
   "id": "relative-rough",
   "metadata": {},
   "outputs": [
    {
     "data": {
      "text/plain": [
       "[PointCloud with 164 points.,\n",
       " PointCloud with 156 points.,\n",
       " LineSet with 24 lines.,\n",
       " PointCloud with 164 points.,\n",
       " PointCloud with 151 points.,\n",
       " LineSet with 33 lines.,\n",
       " PointCloud with 156 points.,\n",
       " PointCloud with 151 points.,\n",
       " LineSet with 30 lines.]"
      ]
     },
     "execution_count": 53,
     "metadata": {},
     "output_type": "execute_result"
    }
   ],
   "source": [
    "plot_three_point_clouds(reference_set.reference_frames, new_matches, 50)"
   ]
  },
  {
   "cell_type": "code",
   "execution_count": 166,
   "id": "cloudy-portfolio",
   "metadata": {},
   "outputs": [
    {
     "name": "stderr",
     "output_type": "stream",
     "text": [
      "100%|████████████████████████████████████████████████████████████████████████████████████| 9/9 [00:01<00:00,  4.57it/s]\n",
      "100%|████████████████████████████████████████████████████████████████████████████████████| 1/1 [00:07<00:00,  7.97s/it]\n"
     ]
    }
   ],
   "source": [
    "# Reuse the previous reference frames\n",
    "opt = {'start_frame':50,\n",
    "       'num_frames':10,\n",
    "       'num_reference_frames':9,\n",
    "       'num_slices':33,\n",
    "       'add_gp_to_candidates':False,\n",
    "       'add_affine_to_candidates':False,\n",
    "       'use_affine_matching':False,\n",
    "       'neuron_cluster_mode':'voronoi',\n",
    "       'external_detections':external_annotations}\n",
    "out = track_via_reference_frames(btf_fname_red, **opt, reference_set=reference_set)\n",
    "all_matches2, all_other_frames2, reference_set2 = out"
   ]
  },
  {
   "cell_type": "code",
   "execution_count": 57,
   "id": "hispanic-batch",
   "metadata": {},
   "outputs": [],
   "source": [
    "# all_matches2"
   ]
  },
  {
   "cell_type": "code",
   "execution_count": 141,
   "id": "nearby-improvement",
   "metadata": {},
   "outputs": [
    {
     "data": {
      "text/plain": [
       "{50, 51, 52}"
      ]
     },
     "execution_count": 141,
     "metadata": {},
     "output_type": "execute_result"
    }
   ],
   "source": [
    "all_pairs = reference_set.pairwise_matches.keys()\n",
    "unique_nodes = set(node for pair in all_pairs for node in pair)\n",
    "unique_nodes"
   ]
  },
  {
   "cell_type": "markdown",
   "id": "rubber-vaccine",
   "metadata": {},
   "source": [
    "## Details of a single match"
   ]
  },
  {
   "cell_type": "code",
   "execution_count": 7,
   "id": "strategic-macro",
   "metadata": {},
   "outputs": [],
   "source": [
    "f = all_other_frames[0]\n",
    "f_bp_matches, f_conf, f_global_matches = match_to_reference_frames(f, reference_set)"
   ]
  },
  {
   "cell_type": "code",
   "execution_count": 56,
   "id": "boolean-omaha",
   "metadata": {},
   "outputs": [],
   "source": [
    "# f_global_matches"
   ]
  },
  {
   "cell_type": "code",
   "execution_count": 15,
   "id": "technological-canvas",
   "metadata": {},
   "outputs": [],
   "source": [
    "l2g = dict(f_bp_matches)\n",
    "g2l = {v:k for k,v in l2g.items()}"
   ]
  },
  {
   "cell_type": "code",
   "execution_count": 28,
   "id": "representative-stuff",
   "metadata": {},
   "outputs": [
    {
     "data": {
      "text/plain": [
       "8"
      ]
     },
     "execution_count": 28,
     "metadata": {},
     "output_type": "execute_result"
    }
   ],
   "source": [
    "l2g[6]"
   ]
  },
  {
   "cell_type": "markdown",
   "id": "together-season",
   "metadata": {},
   "source": [
    "# Compare to old method"
   ]
  },
  {
   "cell_type": "code",
   "execution_count": 34,
   "id": "instrumental-isolation",
   "metadata": {},
   "outputs": [
    {
     "name": "stderr",
     "output_type": "stream",
     "text": [
      "100%|████████████████████████████████████████████████████████████████████████████████████| 2/2 [00:33<00:00, 16.76s/it]\n"
     ]
    }
   ],
   "source": [
    "opt = {'start_frame':51,\n",
    "       'num_frames':3,\n",
    "       'verbose':0,\n",
    "       'num_slices':33,\n",
    "       #'num_subsequent_matches':1,\n",
    "       'save_candidate_matches':True,\n",
    "       'add_affine_to_candidates':False,\n",
    "       'add_gp_to_candidates':False,\n",
    "       'external_detections':None}\n",
    "\n",
    "p = PreprocessingSettings()\n",
    "p.do_filtering=False\n",
    "p.do_rigid_alignment=True\n",
    "p.do_mini_max_projection=True\n",
    "\n",
    "out = track_neurons_full_video(btf_fname_red, **opt, preprocessing_settings=p)\n",
    "# out = track_neurons_full_video_window(btf_fname_red, **opt, preprocessing_settings=p)\n",
    "all_matches2, all_conf2, all_frames2, candidates2 = out"
   ]
  },
  {
   "cell_type": "code",
   "execution_count": 35,
   "id": "employed-confidence",
   "metadata": {},
   "outputs": [],
   "source": [
    "k = (51,52)\n",
    "plot_matched_point_clouds(all_frames2, all_matches2, k);"
   ]
  },
  {
   "cell_type": "markdown",
   "id": "considerable-casting",
   "metadata": {},
   "source": [
    "## Two point clouds on top of one another"
   ]
  },
  {
   "cell_type": "code",
   "execution_count": 67,
   "id": "blind-least",
   "metadata": {},
   "outputs": [
    {
     "data": {
      "text/plain": [
       "PointCloud with 143 points."
      ]
     },
     "execution_count": 67,
     "metadata": {},
     "output_type": "execute_result"
    }
   ],
   "source": [
    "i = 52\n",
    "\n",
    "# Reflect the x index\n",
    "zxy = all_frames[i].vol_shape\n",
    "neuron_locs = all_frames[i].neuron_locs.copy()\n",
    "neuron_locs = neuron_locs[:, [0,2,1]]\n",
    "# neuron_locs[:,2] = zxy[2] - neuron_locs[:,2]\n",
    "pc_new = build_neuron_tree(neuron_locs, False)[1]\n",
    "pc_new.paint_uniform_color([0,1,0])\n",
    "\n",
    "pc_old = build_neuron_tree(all_frames2[i].neuron_locs, False)[1]\n",
    "pc_old.paint_uniform_color([0.5,.5,0.5])"
   ]
  },
  {
   "cell_type": "code",
   "execution_count": 68,
   "id": "arbitrary-hearts",
   "metadata": {},
   "outputs": [],
   "source": [
    "o3d.visualization.draw_geometries([pc_old, pc_new])"
   ]
  },
  {
   "cell_type": "code",
   "execution_count": 45,
   "id": "promising-damage",
   "metadata": {},
   "outputs": [
    {
     "data": {
      "text/plain": [
       "array([369.02657219, 485.58744395, 492.09069212, 475.68562874,\n",
       "       477.01346154, 571.71272115, 424.84378563, 586.24503311,\n",
       "       339.58541459, 485.80743494, 403.13101904, 329.23891626,\n",
       "       558.40498034, 410.16290727, 388.69257951, 389.09010459,\n",
       "       366.72797527, 472.62327718, 374.51398026, 532.08779631,\n",
       "       488.11659664, 358.66783831, 282.05089059, 514.98863636,\n",
       "       502.27384615, 489.82801932, 444.11418048, 379.33460076,\n",
       "       368.38700291, 372.87755102, 412.64166667, 384.00630631,\n",
       "       540.5813282 , 399.70223979, 356.25837989, 452.47216495,\n",
       "       469.0482866 , 456.11661808, 458.65347722, 394.95739015,\n",
       "       436.34782609, 476.48628193, 462.16389245, 438.00242718,\n",
       "       485.7029549 , 433.72076372, 442.68024691, 476.25827815,\n",
       "       464.775     , 281.02160864, 517.23133236, 378.5915493 ,\n",
       "       448.1641791 , 510.60475162, 331.79354839, 425.6468254 ,\n",
       "       513.50639135, 479.3653484 , 459.08008214, 450.25336927,\n",
       "       469.58024691, 487.53658537, 460.11977716, 496.74700109,\n",
       "       562.78127589, 503.74096386, 327.1925    , 553.21348315,\n",
       "       433.20180723, 101.        , 399.74130879, 452.93598234,\n",
       "       454.93442623, 418.55787037, 340.18128655, 587.02994652,\n",
       "       434.4851229 , 316.88888889, 447.06158153, 376.31053036,\n",
       "       405.52139303, 500.65485564, 551.578     , 348.25022502,\n",
       "       502.88580247, 345.88095238, 364.88888889, 418.21115538,\n",
       "       415.09040334, 435.19848975, 363.84365782, 279.88043478,\n",
       "       426.28410915, 479.5       , 461.16393443, 358.11752988,\n",
       "       266.95468915, 562.26727642, 452.80510018, 595.31724138,\n",
       "       252.982706  , 400.16066212, 458.31756757, 576.09546539,\n",
       "       477.18100559, 242.33249686, 488.5579096 , 341.82156863,\n",
       "       470.07898659, 465.21993127, 422.89285714, 410.36009732,\n",
       "       510.10430839, 380.84946237, 444.5019084 , 499.88590604,\n",
       "       418.43478261, 451.86956522, 454.61486486, 456.06896552,\n",
       "       406.64942529, 510.38518519, 470.68783784, 421.4469496 ,\n",
       "       463.3032491 , 416.52088452, 278.67934783, 470.56483516,\n",
       "       553.4363354 , 487.39087948, 497.01729107, 442.23611111,\n",
       "       484.23098996, 476.89424861, 480.53773585, 539.88860759,\n",
       "       448.33550489, 560.80753138, 526.24766355, 464.04186047,\n",
       "       326.01125704, 522.03554869, 570.73013789, 473.84055459,\n",
       "       470.95110156, 433.76058293, 391.8686217 , 486.83541147,\n",
       "       354.68965517, 420.7262181 , 391.32415254, 448.0454902 ,\n",
       "       104.16111111, 429.87545126, 138.47997644, 295.53865337])"
      ]
     },
     "execution_count": 45,
     "metadata": {},
     "output_type": "execute_result"
    }
   ],
   "source": [
    "neuron_locs"
   ]
  },
  {
   "cell_type": "code",
   "execution_count": null,
   "id": "constitutional-blame",
   "metadata": {},
   "outputs": [],
   "source": []
  }
 ],
 "metadata": {
  "kernelspec": {
   "display_name": "Python [conda env:track_using_features] *",
   "language": "python",
   "name": "conda-env-track_using_features-py"
  },
  "language_info": {
   "codemirror_mode": {
    "name": "ipython",
    "version": 3
   },
   "file_extension": ".py",
   "mimetype": "text/x-python",
   "name": "python",
   "nbconvert_exporter": "python",
   "pygments_lexer": "ipython3",
   "version": "3.7.9"
  }
 },
 "nbformat": 4,
 "nbformat_minor": 5
}
