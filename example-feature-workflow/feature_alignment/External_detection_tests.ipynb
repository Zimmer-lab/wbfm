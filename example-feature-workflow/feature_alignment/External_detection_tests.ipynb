{
 "cells": [
  {
   "cell_type": "code",
   "execution_count": 2,
   "id": "sticky-numbers",
   "metadata": {},
   "outputs": [
    {
     "name": "stdout",
     "output_type": "stream",
     "text": [
      "The autoreload extension is already loaded. To reload it, use:\n",
      "  %reload_ext autoreload\n"
     ]
    }
   ],
   "source": [
    "import os\n",
    "import numpy as np\n",
    "import tifffile\n",
    "import matplotlib.pyplot as plt\n",
    "%load_ext autoreload\n",
    "%autoreload 2\n",
    "\n",
    "from DLC_for_WBFM.utils.feature_detection.feature_pipeline import *\n",
    "from DLC_for_WBFM.utils.feature_detection.utils_tracklets import *\n",
    "from DLC_for_WBFM.utils.feature_detection.utils_detection import *\n",
    "from DLC_for_WBFM.utils.feature_detection.visualization_tracks import *\n",
    "from DLC_for_WBFM.utils.feature_detection.utils_candidate_matches import *\n",
    "from DLC_for_WBFM.utils.video_and_data_conversion.import_video_as_array import *\n",
    "import networkx as nx\n",
    "from DLC_for_WBFM.utils.feature_detection.utils_reference_frames import *\n",
    "import pickle"
   ]
  },
  {
   "cell_type": "code",
   "execution_count": 3,
   "id": "honest-thanks",
   "metadata": {},
   "outputs": [],
   "source": [
    "# Get the 3d bigtiff folder\n",
    "bigtiff_folder = r'D:\\More-stabilized-wbfm'\n",
    "\n",
    "btf_fname_red = r'test2020-10-22_16-15-20_test4-channel-0-pco_camera1\\test2020-10-22_16-15-20_test4-channel-0-pco_camera1bigtiff.btf'\n",
    "btf_fname_red = os.path.join(bigtiff_folder, btf_fname_red)\n",
    "\n",
    "# Annotations in the same folder as the .btf\n",
    "external_annotations = r'test2020-10-22_16-15-20_test4-channel-0-pco_camera1\\masks-500.pickle'\n",
    "external_annotations = os.path.join(bigtiff_folder, external_annotations)"
   ]
  },
  {
   "cell_type": "code",
   "execution_count": null,
   "id": "clinical-devices",
   "metadata": {},
   "outputs": [],
   "source": [
    "opt = {'start_frame':50,\n",
    "       'num_frames':5,\n",
    "       'verbose':0,\n",
    "       'num_slices':33,\n",
    "       'num_subsequent_matches':1,\n",
    "       'save_candidate_matches':True,\n",
    "       'add_affine_to_candidates':True,\n",
    "       'add_gp_to_candidates':False,\n",
    "       'external_detections':external_detections}\n",
    "\n",
    "p = PreprocessingSettings()\n",
    "p.do_filtering=False\n",
    "p.do_rigid_alignment=True\n",
    "p.do_mini_max_projection=True\n",
    "\n",
    "out = track_neurons_full_video_window(btf_fname_red, **opt, preprocessing_settings=p)\n",
    "all_matches, all_conf, all_frames, candidates = out"
   ]
  }
 ],
 "metadata": {
  "kernelspec": {
   "display_name": "Python [conda env:track_using_features] *",
   "language": "python",
   "name": "conda-env-track_using_features-py"
  },
  "language_info": {
   "codemirror_mode": {
    "name": "ipython",
    "version": 3
   },
   "file_extension": ".py",
   "mimetype": "text/x-python",
   "name": "python",
   "nbconvert_exporter": "python",
   "pygments_lexer": "ipython3",
   "version": "3.7.9"
  }
 },
 "nbformat": 4,
 "nbformat_minor": 5
}
