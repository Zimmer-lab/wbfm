{
 "cells": [
  {
   "cell_type": "markdown",
   "id": "needed-guyana",
   "metadata": {},
   "source": [
    "# Compare the pipeline with and without rigid pre-alignment"
   ]
  },
  {
   "cell_type": "code",
   "execution_count": 1,
   "id": "referenced-heather",
   "metadata": {},
   "outputs": [],
   "source": [
    "import os\n",
    "import numpy as np\n",
    "import matplotlib.pyplot as plt\n",
    "import open3d as o3d\n",
    "import pandas as pd\n",
    "%load_ext autoreload\n",
    "%autoreload 2\n",
    "\n",
    "from DLC_for_WBFM.utils.feature_detection.utils_features import *\n",
    "from DLC_for_WBFM.utils.feature_detection.utils_tracklets import *\n",
    "from DLC_for_WBFM.utils.feature_detection.utils_detection import *\n",
    "from DLC_for_WBFM.utils.feature_detection.visualization_tracks import *\n",
    "from DLC_for_WBFM.utils.feature_detection.feature_pipeline import *\n",
    "from DLC_for_WBFM.utils.feature_detection.utils_affine import *\n",
    "from DLC_for_WBFM.utils.feature_detection.class_reference_frame import PreprocessingSettings\n",
    "import pickle"
   ]
  },
  {
   "cell_type": "code",
   "execution_count": 2,
   "id": "structural-dance",
   "metadata": {},
   "outputs": [],
   "source": [
    "# Get the 3d bigtiff folder\n",
    "bigtiff_folder = r'D:\\More-stabilized-wbfm'\n",
    "\n",
    "btf_fname_red = r'test2020-10-22_16-15-20_test4-channel-0-pco_camera1\\test2020-10-22_16-15-20_test4-channel-0-pco_camera1bigtiff.btf'\n",
    "btf_fname_red = os.path.join(bigtiff_folder, btf_fname_red)"
   ]
  },
  {
   "cell_type": "code",
   "execution_count": 7,
   "id": "another-chambers",
   "metadata": {},
   "outputs": [
    {
     "name": "stderr",
     "output_type": "stream",
     "text": [
      "  4%|███▏                                                                           | 20/499 [04:34<1:59:01, 14.91s/it]"
     ]
    },
    {
     "name": "stdout",
     "output_type": "stream",
     "text": [
      "[Open3D WARNING] [KDTreeFlann::SetRawData] Failed due to no data.\n"
     ]
    },
    {
     "name": "stderr",
     "output_type": "stream",
     "text": [
      " 98%|████████████████████████████████████████████████████████████████████████████▍ | 489/499 [1:50:50<02:12, 13.24s/it]"
     ]
    },
    {
     "name": "stdout",
     "output_type": "stream",
     "text": [
      "[Open3D WARNING] [KDTreeFlann::SetRawData] Failed due to no data.\n"
     ]
    },
    {
     "name": "stderr",
     "output_type": "stream",
     "text": [
      "\r",
      " 98%|████████████████████████████████████████████████████████████████████████████▌ | 490/499 [1:51:03<01:58, 13.19s/it]"
     ]
    },
    {
     "name": "stdout",
     "output_type": "stream",
     "text": [
      "[Open3D WARNING] [KDTreeFlann::SetRawData] Failed due to no data.\n"
     ]
    },
    {
     "name": "stderr",
     "output_type": "stream",
     "text": [
      "\r",
      " 98%|████████████████████████████████████████████████████████████████████████████▋ | 491/499 [1:51:16<01:45, 13.16s/it]"
     ]
    },
    {
     "name": "stdout",
     "output_type": "stream",
     "text": [
      "[Open3D WARNING] [KDTreeFlann::SetRawData] Failed due to no data.\n"
     ]
    },
    {
     "name": "stderr",
     "output_type": "stream",
     "text": [
      "100%|██████████████████████████████████████████████████████████████████████████████| 499/499 [1:53:02<00:00, 13.59s/it]\n"
     ]
    }
   ],
   "source": [
    "# Same opt for both\n",
    "opt = {'start_frame':0,\n",
    "       'num_frames':500,\n",
    "       'verbose':0}\n",
    "\n",
    "# old_matches, old_conf, old_frames = track_neurons_full_video(btf_fname_red, **opt)\n",
    "\n",
    "preprocessing_settings = PreprocessingSettings()\n",
    "preprocessing_settings.do_filtering=False\n",
    "preprocessing_settings.do_rigid_alignment=True\n",
    "preprocessing_settings.do_mini_max_projection=True\n",
    "new_matches, new_conf, new_frames = track_neurons_full_video(btf_fname_red, **opt, preprocessing_settings=preprocessing_settings)"
   ]
  },
  {
   "cell_type": "code",
   "execution_count": 17,
   "id": "italic-center",
   "metadata": {},
   "outputs": [],
   "source": [
    "clust_df = build_tracklets_from_classes(new_frames, new_matches, new_conf, verbose=0)"
   ]
  },
  {
   "cell_type": "code",
   "execution_count": null,
   "id": "based-philosophy",
   "metadata": {},
   "outputs": [],
   "source": [
    "fname = 'clust_df_dat_prealigned.pickle'\n",
    "with open(fname, 'wb') as f:\n",
    "    pickle.dump(clust_df,f)\n",
    "fname = 'match_dat_prealigned.pickle'\n",
    "with open(fname, 'wb') as f:\n",
    "    pickle.dump((new_matches, new_conf), f)"
   ]
  },
  {
   "cell_type": "code",
   "execution_count": 26,
   "id": "featured-spanish",
   "metadata": {},
   "outputs": [],
   "source": [
    "fname = 'frame_dat_prealigned.pickle'\n",
    "[frame.prep_for_pickle() for frame in new_frames]\n",
    "with open(fname, 'wb') as f:\n",
    "    pickle.dump(new_frames, f)"
   ]
  },
  {
   "cell_type": "code",
   "execution_count": 2,
   "id": "varying-fetish",
   "metadata": {},
   "outputs": [],
   "source": [
    "# Stitch \n",
    "#... Recover if crashed\n",
    "fname = 'clust_df_dat_prealigned.pickle'\n",
    "with open(fname, 'rb') as f:\n",
    "    clust_df = pickle.load(f)\n",
    "fname = 'frame_dat_prealigned.pickle'\n",
    "with open(fname, 'rb') as f:\n",
    "    new_frames = pickle.load(f)"
   ]
  },
  {
   "cell_type": "code",
   "execution_count": 3,
   "id": "imported-brunei",
   "metadata": {},
   "outputs": [],
   "source": [
    "[f.rebuild_keypoints() for f in new_frames];"
   ]
  },
  {
   "cell_type": "code",
   "execution_count": 10,
   "id": "fourth-robinson",
   "metadata": {},
   "outputs": [
    {
     "name": "stderr",
     "output_type": "stream",
     "text": [
      "\r",
      "  0%|                                                                                           | 0/667 [00:00<?, ?it/s]"
     ]
    },
    {
     "name": "stdout",
     "output_type": "stream",
     "text": [
      "Trying to consolidate 5835 tracklets\n",
      "Note: computational time of this function is front-loaded\n"
     ]
    },
    {
     "name": "stderr",
     "output_type": "stream",
     "text": [
      "100%|█████████████████████████████████████████████████████████████████████████████████| 667/667 [38:48<00:00,  3.49s/it]"
     ]
    },
    {
     "name": "stdout",
     "output_type": "stream",
     "text": [
      "Extended and dropped 175/5835 rows\n",
      "Finished\n"
     ]
    },
    {
     "name": "stderr",
     "output_type": "stream",
     "text": [
      "\n"
     ]
    }
   ],
   "source": [
    "df, out = stitch_tracklets(clust_df,\n",
    "                     new_frames,\n",
    "                     max_stitch_distance=20,\n",
    "                     min_starting_tracklet_length=20,\n",
    "                     minimum_match_confidence=0.4,\n",
    "                     verbose=1)"
   ]
  },
  {
   "cell_type": "code",
   "execution_count": 11,
   "id": "administrative-apparatus",
   "metadata": {},
   "outputs": [],
   "source": [
    "fname = 'clust_df_dat_prealigned-stitched.pickle'\n",
    "with open(fname, 'wb') as f:\n",
    "    pickle.dump(df,f)"
   ]
  },
  {
   "cell_type": "markdown",
   "id": "cellular-netscape",
   "metadata": {},
   "source": [
    "## TODO: compare neuron tubes"
   ]
  },
  {
   "cell_type": "markdown",
   "id": "technical-interval",
   "metadata": {},
   "source": [
    "## Visualize the neurons found"
   ]
  },
  {
   "cell_type": "code",
   "execution_count": 5,
   "id": "prostate-basics",
   "metadata": {},
   "outputs": [
    {
     "data": {
      "text/plain": [
       "PointCloud with 137 points."
      ]
     },
     "execution_count": 5,
     "metadata": {},
     "output_type": "execute_result"
    }
   ],
   "source": [
    "which_frame = 1\n",
    "\n",
    "f_old = old_frames[which_frame]\n",
    "n_old, pc_old, _ = build_neuron_tree(f_old.neuron_locs)\n",
    "pc_old.paint_uniform_color([0.5,0.5,0.5])\n",
    "\n",
    "f_new = new_frames[which_frame]\n",
    "n_new, pc_new, _ = build_neuron_tree(f_new.neuron_locs)\n",
    "pc_new.paint_uniform_color([0,1,0])"
   ]
  },
  {
   "cell_type": "code",
   "execution_count": 6,
   "id": "level-protocol",
   "metadata": {},
   "outputs": [],
   "source": [
    "o3d.visualization.draw_geometries([pc_old, pc_new])"
   ]
  },
  {
   "cell_type": "markdown",
   "id": "loving-cleveland",
   "metadata": {},
   "source": [
    "## Visualize the matches"
   ]
  },
  {
   "cell_type": "code",
   "execution_count": 4,
   "id": "pursuant-mathematics",
   "metadata": {},
   "outputs": [],
   "source": [
    "which_pair = (0,1)\n",
    "\n",
    "old_lines = plot_matched_point_clouds(old_frames,old_matches,which_pair, [0,0,1], False)"
   ]
  },
  {
   "cell_type": "code",
   "execution_count": 5,
   "id": "joined-vegetable",
   "metadata": {},
   "outputs": [],
   "source": [
    "new_lines = plot_matched_point_clouds(new_frames,new_matches,which_pair,[0,1,0], False)"
   ]
  },
  {
   "cell_type": "code",
   "execution_count": 6,
   "id": "fantastic-northern",
   "metadata": {},
   "outputs": [],
   "source": [
    "o3d.visualization.draw_geometries(old_lines + new_lines)"
   ]
  },
  {
   "cell_type": "code",
   "execution_count": null,
   "id": "promising-diameter",
   "metadata": {},
   "outputs": [],
   "source": []
  }
 ],
 "metadata": {
  "kernelspec": {
   "display_name": "Python [conda env:track_using_features] *",
   "language": "python",
   "name": "conda-env-track_using_features-py"
  },
  "language_info": {
   "codemirror_mode": {
    "name": "ipython",
    "version": 3
   },
   "file_extension": ".py",
   "mimetype": "text/x-python",
   "name": "python",
   "nbconvert_exporter": "python",
   "pygments_lexer": "ipython3",
   "version": "3.7.9"
  }
 },
 "nbformat": 4,
 "nbformat_minor": 5
}
