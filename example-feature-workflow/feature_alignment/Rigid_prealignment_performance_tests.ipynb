{
 "cells": [
  {
   "cell_type": "markdown",
   "id": "descending-instrument",
   "metadata": {},
   "source": [
    "# Compare the pipeline with and without rigid pre-alignment"
   ]
  },
  {
   "cell_type": "code",
   "execution_count": 1,
   "id": "developmental-killing",
   "metadata": {},
   "outputs": [],
   "source": [
    "import os\n",
    "import numpy as np\n",
    "import matplotlib.pyplot as plt\n",
    "import open3d as o3d\n",
    "import pandas as pd\n",
    "%load_ext autoreload\n",
    "%autoreload 2\n",
    "\n",
    "from DLC_for_WBFM.utils.feature_detection.utils_features import *\n",
    "from DLC_for_WBFM.utils.feature_detection.utils_tracklets import *\n",
    "from DLC_for_WBFM.utils.feature_detection.utils_detection import *\n",
    "from DLC_for_WBFM.utils.feature_detection.visualization_tracks import *\n",
    "from DLC_for_WBFM.utils.feature_detection.feature_pipeline import *\n",
    "from DLC_for_WBFM.utils.feature_detection.utils_affine import *\n",
    "from DLC_for_WBFM.utils.feature_detection.class_reference_frame import PreprocessingSettings\n"
   ]
  },
  {
   "cell_type": "code",
   "execution_count": 2,
   "id": "intense-jenny",
   "metadata": {},
   "outputs": [],
   "source": [
    "# Get the 3d bigtiff folder\n",
    "bigtiff_folder = r'D:\\More-stabilized-wbfm'\n",
    "\n",
    "btf_fname_red = r'test2020-10-22_16-15-20_test4-channel-0-pco_camera1\\test2020-10-22_16-15-20_test4-channel-0-pco_camera1bigtiff.btf'\n",
    "btf_fname_red = os.path.join(bigtiff_folder, btf_fname_red)"
   ]
  },
  {
   "cell_type": "code",
   "execution_count": 3,
   "id": "expanded-boating",
   "metadata": {},
   "outputs": [
    {
     "name": "stdout",
     "output_type": "stream",
     "text": [
      "Building initial frame...\n"
     ]
    },
    {
     "name": "stderr",
     "output_type": "stream",
     "text": [
      "100%|████████████████████████████████████████████████████████████████████████████████████| 1/1 [00:12<00:00, 12.41s/it]\n"
     ]
    },
    {
     "name": "stdout",
     "output_type": "stream",
     "text": [
      "Building initial frame...\n"
     ]
    },
    {
     "name": "stderr",
     "output_type": "stream",
     "text": [
      "100%|████████████████████████████████████████████████████████████████████████████████████| 1/1 [00:16<00:00, 16.09s/it]\n"
     ]
    }
   ],
   "source": [
    "# Same opt for both\n",
    "opt = {'start_frame':0,\n",
    "       'num_frames':2,\n",
    "       'verbose':2}\n",
    "\n",
    "old_matches, old_conf, old_frames = track_neurons_full_video(btf_fname_red, **opt)\n",
    "\n",
    "preprocessing_settings = PreprocessingSettings()\n",
    "preprocessing_settings.do_filtering=False\n",
    "preprocessing_settings.do_rigid_alignment=True\n",
    "new_matches, new_conf, new_frames = track_neurons_full_video(btf_fname_red, **opt, preprocessing_settings=preprocessing_settings)"
   ]
  },
  {
   "cell_type": "code",
   "execution_count": 4,
   "id": "acoustic-distance",
   "metadata": {},
   "outputs": [
    {
     "name": "stderr",
     "output_type": "stream",
     "text": [
      "ERROR:root:No traceback has been produced, nothing to debug.\n"
     ]
    }
   ],
   "source": [
    "%debug"
   ]
  },
  {
   "cell_type": "markdown",
   "id": "lightweight-plaintiff",
   "metadata": {},
   "source": [
    "## TODO: compare neuron tubes"
   ]
  },
  {
   "cell_type": "markdown",
   "id": "cloudy-jones",
   "metadata": {},
   "source": [
    "## Visualize the neurons found"
   ]
  },
  {
   "cell_type": "code",
   "execution_count": 5,
   "id": "solid-schema",
   "metadata": {},
   "outputs": [
    {
     "data": {
      "text/plain": [
       "PointCloud with 137 points."
      ]
     },
     "execution_count": 5,
     "metadata": {},
     "output_type": "execute_result"
    }
   ],
   "source": [
    "which_frame = 1\n",
    "\n",
    "f_old = old_frames[which_frame]\n",
    "n_old, pc_old, _ = build_neuron_tree(f_old.neuron_locs)\n",
    "pc_old.paint_uniform_color([0.5,0.5,0.5])\n",
    "\n",
    "f_new = new_frames[which_frame]\n",
    "n_new, pc_new, _ = build_neuron_tree(f_new.neuron_locs)\n",
    "pc_new.paint_uniform_color([0,1,0])"
   ]
  },
  {
   "cell_type": "code",
   "execution_count": 6,
   "id": "numerical-collector",
   "metadata": {},
   "outputs": [],
   "source": [
    "o3d.visualization.draw_geometries([pc_old, pc_new])"
   ]
  },
  {
   "cell_type": "markdown",
   "id": "dedicated-brass",
   "metadata": {},
   "source": [
    "## Visualize the matches"
   ]
  },
  {
   "cell_type": "code",
   "execution_count": null,
   "id": "controlled-toolbox",
   "metadata": {},
   "outputs": [],
   "source": [
    "which_pair = (0,1)\n",
    "\n",
    "old_lines = plot_matched_point_clouds(old_frames,old_matches,which_pair, [0,0,1], False)"
   ]
  },
  {
   "cell_type": "code",
   "execution_count": null,
   "id": "needed-tongue",
   "metadata": {},
   "outputs": [],
   "source": [
    "new_lines = plot_matched_point_clouds(new_frames,new_matches,which_pair,[0,1,0], False)"
   ]
  },
  {
   "cell_type": "code",
   "execution_count": null,
   "id": "fluid-berlin",
   "metadata": {},
   "outputs": [],
   "source": [
    "o3d.visualization.draw_geometries(old_lines + new_lines)"
   ]
  },
  {
   "cell_type": "code",
   "execution_count": null,
   "id": "biological-creator",
   "metadata": {},
   "outputs": [],
   "source": []
  }
 ],
 "metadata": {
  "kernelspec": {
   "display_name": "Python [conda env:track_using_features] *",
   "language": "python",
   "name": "conda-env-track_using_features-py"
  },
  "language_info": {
   "codemirror_mode": {
    "name": "ipython",
    "version": 3
   },
   "file_extension": ".py",
   "mimetype": "text/x-python",
   "name": "python",
   "nbconvert_exporter": "python",
   "pygments_lexer": "ipython3",
   "version": "3.7.9"
  }
 },
 "nbformat": 4,
 "nbformat_minor": 5
}
