{
 "cells": [
  {
   "cell_type": "code",
   "execution_count": 20,
   "id": "objective-nigeria",
   "metadata": {},
   "outputs": [
    {
     "name": "stdout",
     "output_type": "stream",
     "text": [
      "The autoreload extension is already loaded. To reload it, use:\n",
      "  %reload_ext autoreload\n"
     ]
    }
   ],
   "source": [
    "import os\n",
    "import numpy as np\n",
    "import tifffile\n",
    "import matplotlib.pyplot as plt\n",
    "%load_ext autoreload\n",
    "%autoreload 2\n",
    "\n",
    "from DLC_for_WBFM.utils.feature_detection.feature_pipeline import *\n",
    "from DLC_for_WBFM.utils.feature_detection.utils_tracklets import *\n",
    "from DLC_for_WBFM.utils.feature_detection.utils_detection import *\n",
    "from DLC_for_WBFM.utils.feature_detection.visualization_tracks import *\n",
    "from DLC_for_WBFM.utils.feature_detection.utils_candidate_matches import *\n",
    "from DLC_for_WBFM.utils.video_and_data_conversion.import_video_as_array import *\n",
    "import networkx as nx\n",
    "from DLC_for_WBFM.utils.feature_detection.utils_reference_frames import *\n",
    "import pickle"
   ]
  },
  {
   "cell_type": "code",
   "execution_count": 2,
   "id": "connected-xerox",
   "metadata": {},
   "outputs": [],
   "source": [
    "# Get the 3d bigtiff folder\n",
    "bigtiff_folder = r'D:\\Slow-worm'\n",
    "\n",
    "btf_fname_red = r'2021-01-21_17-31-26_worm1-channel-0-pco_camera1\\2021-01-21_17-31-26_worm1-channel-0-pco_camera1bigtiff.btf'\n",
    "btf_fname_red = os.path.join(bigtiff_folder, btf_fname_red)\n"
   ]
  },
  {
   "cell_type": "code",
   "execution_count": 10,
   "id": "american-satisfaction",
   "metadata": {},
   "outputs": [
    {
     "name": "stderr",
     "output_type": "stream",
     "text": [
      "100%|█████████████████████████████████████████████████████████████████| 5/5 [03:13<00:00, 38.80s/it]\n"
     ]
    }
   ],
   "source": [
    "# Same opt for both\n",
    "opt = {'start_frame':1000,\n",
    "       'num_frames':5,\n",
    "       'verbose':0,\n",
    "       'num_slices':35,\n",
    "       'num_subsequent_matches':1,\n",
    "       'save_candidate_matches':True,\n",
    "       'add_affine_to_candidates':True,\n",
    "       'add_gp_to_candidates':False}\n",
    "\n",
    "p = PreprocessingSettings()\n",
    "p.do_filtering=False\n",
    "p.do_rigid_alignment=True\n",
    "p.do_mini_max_projection=True\n",
    "out = track_neurons_full_video_window(btf_fname_red, **opt, preprocessing_settings=p)\n",
    "all_matches, all_conf, all_frames, candidates = out"
   ]
  },
  {
   "cell_type": "code",
   "execution_count": 12,
   "id": "delayed-deadline",
   "metadata": {},
   "outputs": [],
   "source": [
    "clust_df = build_tracklets_from_classes(list(all_frames.values()), all_matches, verbose=0)"
   ]
  },
  {
   "cell_type": "markdown",
   "id": "fitted-director",
   "metadata": {},
   "source": [
    "## Visualize"
   ]
  },
  {
   "cell_type": "code",
   "execution_count": 28,
   "id": "great-radio",
   "metadata": {},
   "outputs": [],
   "source": [
    "k = (1002,1003)\n",
    "plot_matched_point_clouds(all_frames, all_matches, k);"
   ]
  },
  {
   "cell_type": "code",
   "execution_count": 29,
   "id": "purple-lecture",
   "metadata": {},
   "outputs": [],
   "source": [
    "# to_draw = plot_three_point_clouds(all_frames, all_matches, (1000,1001,1002))"
   ]
  },
  {
   "cell_type": "code",
   "execution_count": 26,
   "id": "ready-margin",
   "metadata": {},
   "outputs": [
    {
     "data": {
      "text/plain": [
       "dict_keys([(1000, 1001), (1001, 1002), (1002, 1003), (1003, 1004), (1004, 1005)])"
      ]
     },
     "execution_count": 26,
     "metadata": {},
     "output_type": "execute_result"
    }
   ],
   "source": [
    "all_matches.keys()"
   ]
  },
  {
   "cell_type": "code",
   "execution_count": null,
   "id": "applicable-romance",
   "metadata": {},
   "outputs": [],
   "source": []
  }
 ],
 "metadata": {
  "kernelspec": {
   "display_name": "Python [conda env:track_using_features] *",
   "language": "python",
   "name": "conda-env-track_using_features-py"
  },
  "language_info": {
   "codemirror_mode": {
    "name": "ipython",
    "version": 3
   },
   "file_extension": ".py",
   "mimetype": "text/x-python",
   "name": "python",
   "nbconvert_exporter": "python",
   "pygments_lexer": "ipython3",
   "version": "3.7.9"
  }
 },
 "nbformat": 4,
 "nbformat_minor": 5
}
