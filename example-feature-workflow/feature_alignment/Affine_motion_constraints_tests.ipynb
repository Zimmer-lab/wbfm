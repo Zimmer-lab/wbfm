{
 "cells": [
  {
   "cell_type": "markdown",
   "id": "sorted-editing",
   "metadata": {},
   "source": [
    "# Build a motion model from feature matches"
   ]
  },
  {
   "cell_type": "markdown",
   "id": "sticky-tackle",
   "metadata": {},
   "source": [
    "## First, get keypoints\n",
    "\n",
    "Features and neurons"
   ]
  },
  {
   "cell_type": "code",
   "execution_count": 1,
   "id": "correct-colombia",
   "metadata": {},
   "outputs": [],
   "source": [
    "import os\n",
    "import numpy as np\n",
    "import tifffile\n",
    "import matplotlib.pyplot as plt\n",
    "%load_ext autoreload\n",
    "%autoreload 2\n",
    "\n",
    "from DLC_for_WBFM.utils.feature_detection.utils_features import *\n",
    "from DLC_for_WBFM.utils.feature_detection.utils_tracklets import *\n",
    "from DLC_for_WBFM.utils.feature_detection.utils_detection import *\n",
    "from DLC_for_WBFM.utils.feature_detection.visualization_tracks import *\n",
    "from DLC_for_WBFM.utils.video_and_data_conversion.import_video_as_array import *\n",
    "from DLC_for_WBFM.utils.feature_detection.feature_pipeline import *\n",
    "from DLC_for_WBFM.utils.feature_detection.utils_affine import *\n",
    "\n",
    "from tqdm import tqdm"
   ]
  },
  {
   "cell_type": "code",
   "execution_count": 2,
   "id": "authentic-thumb",
   "metadata": {},
   "outputs": [],
   "source": [
    "# Get the 3d bigtiff folder\n",
    "bigtiff_folder = r'D:\\More-stabilized-wbfm'\n",
    "\n",
    "btf_fname_red = r'test2020-10-22_16-15-20_test4-channel-0-pco_camera1\\test2020-10-22_16-15-20_test4-channel-0-pco_camera1bigtiff.btf'\n",
    "btf_fname_red = os.path.join(bigtiff_folder, btf_fname_red)\n",
    "\n",
    "# Actually import\n",
    "import_opt = {'num_slices':33, 'alpha':0.15}\n",
    "\n",
    "dat0_vid = get_single_volume(btf_fname_red, 15, **import_opt)\n",
    "dat1_vid = get_single_volume(btf_fname_red, 30, **import_opt)"
   ]
  },
  {
   "cell_type": "markdown",
   "id": "returning-yukon",
   "metadata": {},
   "source": [
    "## Segment 2 volumes"
   ]
  },
  {
   "cell_type": "code",
   "execution_count": null,
   "id": "caring-content",
   "metadata": {},
   "outputs": [
    {
     "name": "stdout",
     "output_type": "stream",
     "text": [
      "[Open3D WARNING] [KDTreeFlann::SetRawData] Failed due to no data.\n",
      "[Open3D WARNING] [KDTreeFlann::SetRawData] Failed due to no data.\n",
      "[Open3D WARNING] [KDTreeFlann::SetRawData] Failed due to no data.\n"
     ]
    }
   ],
   "source": [
    "opt = {'num_slices':33, 'alpha':1.0}\n",
    "# Build point clouds for each plane\n",
    "all_keypoints_pcs0 = build_point_clouds_for_volume(dat0_vid, **import_opt)\n",
    "all_icp0 = build_correspondence_icp(all_keypoints_pcs0)\n",
    "\n",
    "all_keypoints_pcs1 = build_point_clouds_for_volume(dat0_vid, **import_opt)\n",
    "all_icp1 = build_correspondence_icp(all_keypoints_pcs1)"
   ]
  },
  {
   "cell_type": "code",
   "execution_count": null,
   "id": "mathematical-lambda",
   "metadata": {},
   "outputs": [],
   "source": [
    "all_neurons = [k.points for k in all_keypoints_pcs0]\n",
    "all_matches = [m.correspondence_set for m in all_icp0]\n",
    "clust_df0 = build_tracklets_from_matches(all_neurons, all_matches)\n",
    "\n",
    "all_neurons = [k.points for k in all_keypoints_pcs1]\n",
    "all_matches = [m.correspondence_set for m in all_icp1]\n",
    "clust_df1 = build_tracklets_from_matches(all_neurons, all_matches)"
   ]
  },
  {
   "cell_type": "code",
   "execution_count": null,
   "id": "fixed-school",
   "metadata": {},
   "outputs": [],
   "source": [
    "opt = {'num_slices':33, 'alpha':1.0, 'verbose':1}\n",
    "neurons0, df0, icp0, pcs0 = detect_neurons_using_ICP(dat0_vid, **opt)\n",
    "neurons1, df1, icp1, pcs1 = detect_neurons_using_ICP(dat1_vid, **opt)\n",
    "\n",
    "all_features0, all_features1, kp0, kp1, feature_matches = build_features_and_match_2volumes(dat0_vid,dat1_vid,\n",
    "                                                                      verbose=1,\n",
    "                                                                      matches_to_keep=0.8,\n",
    "                                                                      num_features_per_plane=10000,\n",
    "                                                                      detect_keypoints=True,\n",
    "                                                                      kp0=neurons0,\n",
    "                                                                      kp1=neurons1)\n",
    "\n",
    "all_matches, f2n, all_conf = match_centroids_using_tree(np.array(neurons0), \n",
    "                               np.array(neurons1), \n",
    "                               all_features0, \n",
    "                               all_features1,\n",
    "                               radius=8,\n",
    "                               max_nn=50,\n",
    "                               min_features_needed=5,\n",
    "                                   verbose=1,\n",
    "                                     to_mirror=False)"
   ]
  },
  {
   "cell_type": "markdown",
   "id": "ordered-style",
   "metadata": {},
   "source": [
    "## Alternate way of getting keypoints: my Frame class"
   ]
  },
  {
   "cell_type": "code",
   "execution_count": 182,
   "id": "automotive-jones",
   "metadata": {},
   "outputs": [
    {
     "name": "stderr",
     "output_type": "stream",
     "text": [
      "100%|████████████████████████████████████████████████████████████████████████████████████| 2/2 [00:22<00:00, 11.45s/it]\n",
      "100%|████████████████████████████████████████████████████████████████████████████████████| 2/2 [00:01<00:00,  1.27it/s]\n",
      "100%|████████████████████████████████████████████████████████████████████████████████████| 1/1 [00:13<00:00, 13.79s/it]\n"
     ]
    }
   ],
   "source": [
    "opt = {'start_frame':0,\n",
    "       'num_frames':3,\n",
    "      'num_reference_frames':2,\n",
    "      'start_slice':4}\n",
    "all_matches, all_other_frames, reference_set = track_via_reference_frames(btf_fname_red, **opt)"
   ]
  },
  {
   "cell_type": "code",
   "execution_count": 183,
   "id": "active-formula",
   "metadata": {},
   "outputs": [
    {
     "name": "stdout",
     "output_type": "stream",
     "text": [
      "=======================================\n",
      "                ReferenceFrame:\n",
      "                Frame index: 0 \n",
      "                Number of neurons: 202 \n",
      "\n",
      "=======================================\n",
      "                ReferenceFrame:\n",
      "                Frame index: 1 \n",
      "                Number of neurons: 187 \n",
      "\n",
      "=======================================\n",
      "                RegisteredReferenceFrames:\n",
      "                Number of frames: 2 \n",
      "\n"
     ]
    }
   ],
   "source": [
    "print(reference_set)"
   ]
  },
  {
   "cell_type": "markdown",
   "id": "expensive-tackle",
   "metadata": {},
   "source": [
    "## An example of a full affine model"
   ]
  },
  {
   "cell_type": "code",
   "execution_count": 37,
   "id": "metallic-compensation",
   "metadata": {},
   "outputs": [],
   "source": [
    "pts0_unmatched = reference_set.reference_frames[0].keypoint_locs\n",
    "pts1_unmatched = reference_set.reference_frames[1].keypoint_locs\n",
    "\n",
    "feature_matches = reference_set.feature_matches[(0,1)]"
   ]
  },
  {
   "cell_type": "code",
   "execution_count": 38,
   "id": "civil-gallery",
   "metadata": {},
   "outputs": [],
   "source": [
    "# Align the keypoints via matches\n",
    "\n",
    "pts0 = np.zeros((len(feature_matches), 3), dtype=np.float32)\n",
    "pts1 = np.zeros((len(feature_matches), 3), dtype=np.float32)\n",
    "for m, match in enumerate(feature_matches):\n",
    "    pts0[m, :] = pts0_unmatched[match.queryIdx]\n",
    "    pts1[m, :] = pts1_unmatched[match.trainIdx]"
   ]
  },
  {
   "cell_type": "code",
   "execution_count": 39,
   "id": "continuing-prototype",
   "metadata": {},
   "outputs": [],
   "source": [
    "# h = np.transpose(h)\n",
    "# Note: neurons0 is a dataframe\n",
    "# n0_2d = np.array([np.array([n[1], n[2]]) for n in neurons0])\n",
    "\n",
    "val, h, inliers = cv2.estimateAffine3D(pts0,pts1, confidence=0.99)\n",
    "pts0_trans = cv2.transform(np.array([pts0]), h)[0]"
   ]
  },
  {
   "cell_type": "code",
   "execution_count": 40,
   "id": "optional-latter",
   "metadata": {},
   "outputs": [
    {
     "data": {
      "text/plain": [
       "array([[ 9.15033187e-01, -2.96604776e-02, -2.51493568e-03,\n",
       "         1.07420336e+01],\n",
       "       [-1.99451570e-01,  8.03839099e-01, -6.27004957e-01,\n",
       "         2.64056234e+02],\n",
       "       [-1.46517814e-01,  5.14687677e-01,  7.89790389e-01,\n",
       "        -1.47872252e+02]])"
      ]
     },
     "execution_count": 40,
     "metadata": {},
     "output_type": "execute_result"
    }
   ],
   "source": [
    "h"
   ]
  },
  {
   "cell_type": "code",
   "execution_count": 57,
   "id": "continuous-order",
   "metadata": {},
   "outputs": [],
   "source": [
    "# Make point clouds\n",
    "pc0 = o3d.geometry.PointCloud()\n",
    "pc0.points = o3d.utility.Vector3dVector(pts0)\n",
    "pc0.paint_uniform_color([0,0,0])\n",
    "\n",
    "pc0_trans = o3d.geometry.PointCloud()\n",
    "pc0_trans.points = o3d.utility.Vector3dVector(pts0_trans)\n",
    "pc0_trans.paint_uniform_color([0.5,0.5,0.5])\n",
    "\n",
    "pc1 = o3d.geometry.PointCloud()\n",
    "pc1.points = o3d.utility.Vector3dVector(pts1)\n",
    "pc1.paint_uniform_color([1,0,0])\n",
    "\n",
    "o3d.visualization.draw_geometries([pc0,pc0_trans, pc1])"
   ]
  },
  {
   "cell_type": "markdown",
   "id": "ideal-diagnosis",
   "metadata": {},
   "source": [
    "## Next, use the affine model locally"
   ]
  },
  {
   "cell_type": "code",
   "execution_count": 135,
   "id": "waiting-terminology",
   "metadata": {},
   "outputs": [],
   "source": [
    "i0, i1 = 0, 1\n",
    "\n",
    "f0 = reference_set.reference_frames[i0]\n",
    "f1 = reference_set.reference_frames[i1]\n",
    "all_feature_matches = reference_set.feature_matches[(i0, i1)]"
   ]
  },
  {
   "cell_type": "code",
   "execution_count": 136,
   "id": "fluid-gibson",
   "metadata": {},
   "outputs": [
    {
     "name": "stderr",
     "output_type": "stream",
     "text": [
      "100%|████████████████████████████████████████████████████████████████████████████████| 202/202 [00:04<00:00, 41.24it/s]\n"
     ]
    }
   ],
   "source": [
    "all_lines = None\n",
    "all_trans = None\n",
    "\n",
    "for which_neuron in tqdm(range(len(f0.neuron_locs))):\n",
    "    success, neuron0_trans = propagate_via_affine_model(which_neuron, f0, f1, all_feature_matches)\n",
    "#     if not success:\n",
    "#         continue\n",
    "    pc0_neuron, pc1_trans, pc1_neuron, line = create_affine_visualizations(which_neuron, f0, f1, neuron0_trans)\n",
    "\n",
    "    if all_lines is None:\n",
    "        all_lines = line\n",
    "        all_trans = pc1_trans\n",
    "    else:\n",
    "        all_lines = all_lines + line\n",
    "        all_trans = all_trans + pc1_trans"
   ]
  },
  {
   "cell_type": "code",
   "execution_count": 91,
   "id": "adjusted-egypt",
   "metadata": {},
   "outputs": [],
   "source": [
    "# propagate_via_affine_model(0, f0, f1, all_feature_matches)"
   ]
  },
  {
   "cell_type": "code",
   "execution_count": 92,
   "id": "extraordinary-crisis",
   "metadata": {},
   "outputs": [],
   "source": [
    "#o3d.visualization.draw_geometries([pc0_neuron, all_trans, pc1_neuron, all_lines])"
   ]
  },
  {
   "cell_type": "markdown",
   "id": "related-scene",
   "metadata": {},
   "source": [
    "# Finally, turn this into a set of matches\n",
    "\n",
    "There are three obvious forms of mismatch:\n",
    "1. Missing neuron in either v0 or v1\n",
    "2. Related, multiple v0 neurons near one v1 neuron\n",
    "3. Neuron pushed to an ambiguous location, not very close to a single v1 neuron\n",
    "\n",
    "To some extent this just needs better neuron segmentation. However, the features are what they are; theoretically the v0 neurons should be pushed close to a v1 neuron, even if it is missing\n",
    "\n",
    "Strategy 1: greedy\n",
    "1. Loop over v1 neurons, taking the closest one\n",
    "\n",
    "--- FOR NOW DO THIS:\n",
    "\n",
    "Strategy 1.5: greedy with best of 2\n",
    "1. Loop over v1 neurons, taking the closest two\n",
    "2. If the closest one is significantly closer, only keep that one\n",
    "\n",
    "\n",
    "Strategy 2: bipartite\n",
    "1. Loop over v0 or v1 neurons, getting distances to ~2 closest neighbors\n",
    "2. Bipartite matching on resulting graph"
   ]
  },
  {
   "cell_type": "code",
   "execution_count": 97,
   "id": "affiliated-session",
   "metadata": {},
   "outputs": [],
   "source": [
    "# Build tree to query v1 neurons\n",
    "num_n1, pc1_neuron, tree_n1 = build_neuron_tree(f1.neuron_locs, to_mirror=False)"
   ]
  },
  {
   "cell_type": "code",
   "execution_count": 103,
   "id": "emerging-parent",
   "metadata": {},
   "outputs": [
    {
     "data": {
      "text/plain": [
       "(PointCloud with 187 points., 187)"
      ]
     },
     "execution_count": 103,
     "metadata": {},
     "output_type": "execute_result"
    }
   ],
   "source": [
    "all_trans, len(f0.neuron_locs)"
   ]
  },
  {
   "cell_type": "code",
   "execution_count": 105,
   "id": "living-roller",
   "metadata": {},
   "outputs": [],
   "source": [
    "# Loop over locations of pushed v0 neurons\n",
    "all_matches = [] # Without confidence\n",
    "all_conf = []\n",
    "nn_opt = { 'radius':10.0, 'max_nn':1}\n",
    "verbose = 1\n",
    "dist_ratio = 1.5\n",
    "conf_func = lambda dist : 1.0 / (dist/10+1.0)\n",
    "for i, neuron in enumerate(np.array(all_trans.points)):\n",
    "    [k, two_neighbors, two_dist] = tree_n1.search_hybrid_vector_3d(neuron, **nn_opt)\n",
    "    if k==0:\n",
    "#         print(f\"No close neuron {i}\")\n",
    "        continue\n",
    "#     print(i, two_neighbors, two_dist)\n",
    "#     print(neuron, pc1_neuron.points[two_neighbors[0]])\n",
    "    \n",
    "    if k==1:\n",
    "        dist = two_dist[0]\n",
    "        i_match = two_neighbors[0]\n",
    "    else:\n",
    "        if two_dist[0]/two_dist[1] > dist_ratio:\n",
    "            dist = two_dist[1]\n",
    "            i_match = two_neighbors[1]\n",
    "        elif two_dist[1]/two_dist[0] > dist_ratio:\n",
    "            dist = two_dist[1]\n",
    "            i_match = two_neighbors[1]\n",
    "        else:\n",
    "            if verbose >= 2:\n",
    "                print(f\"Neuron {i} has two close neighbors\")\n",
    "            continue\n",
    "    \n",
    "    if verbose >= 2:\n",
    "        print(f\"Found good match for neuron {i}\")\n",
    "    all_matches.append([i, i_match])\n",
    "    all_conf.append(conf_func(dist))"
   ]
  },
  {
   "cell_type": "code",
   "execution_count": 107,
   "id": "annoying-possession",
   "metadata": {},
   "outputs": [],
   "source": [
    "to_draw = visualize_tracks(f0.neuron_locs, f1.neuron_locs, all_matches)\n",
    "to_draw.append(all_lines)\n"
   ]
  },
  {
   "cell_type": "code",
   "execution_count": 108,
   "id": "fuzzy-stocks",
   "metadata": {},
   "outputs": [],
   "source": [
    "o3d.visualization.draw_geometries(to_draw)"
   ]
  },
  {
   "cell_type": "code",
   "execution_count": 128,
   "id": "fleet-projection",
   "metadata": {},
   "outputs": [
    {
     "name": "stdout",
     "output_type": "stream",
     "text": [
      "[  4.         371.57849731 233.59176636] [ 14.         356.92935791 346.73193156]\n"
     ]
    }
   ],
   "source": [
    "# m = all_matches[3]\n",
    "m = [4, 26]\n",
    "n0 = f0.neuron_locs[m[0]]\n",
    "n1 = f1.neuron_locs[m[1]]\n",
    "print(n0, n1)"
   ]
  },
  {
   "cell_type": "markdown",
   "id": "respective-placement",
   "metadata": {},
   "source": [
    "# Full video"
   ]
  },
  {
   "cell_type": "code",
   "execution_count": 179,
   "id": "royal-wisdom",
   "metadata": {},
   "outputs": [
    {
     "name": "stderr",
     "output_type": "stream",
     "text": [
      "  1%|▋                                                                               | 4/499 [00:48<1:39:54, 12.11s/it]"
     ]
    },
    {
     "name": "stdout",
     "output_type": "stream",
     "text": [
      "[Open3D WARNING] [KDTreeFlann::SetRawData] Failed due to no data.\n"
     ]
    },
    {
     "name": "stderr",
     "output_type": "stream",
     "text": [
      "  1%|▉                                                                               | 6/499 [01:10<1:33:52, 11.43s/it]"
     ]
    },
    {
     "name": "stdout",
     "output_type": "stream",
     "text": [
      "[Open3D WARNING] [KDTreeFlann::SetRawData] Failed due to no data.\n"
     ]
    },
    {
     "name": "stderr",
     "output_type": "stream",
     "text": [
      "  2%|█▎                                                                              | 8/499 [01:33<1:33:47, 11.46s/it]"
     ]
    },
    {
     "name": "stdout",
     "output_type": "stream",
     "text": [
      "[Open3D WARNING] [KDTreeFlann::SetRawData] Failed due to no data.\n"
     ]
    },
    {
     "name": "stderr",
     "output_type": "stream",
     "text": [
      " 35%|███████████████████████████▌                                                  | 176/499 [35:40<1:03:04, 11.72s/it]"
     ]
    },
    {
     "name": "stdout",
     "output_type": "stream",
     "text": [
      "[Open3D WARNING] [KDTreeFlann::SetRawData] Failed due to no data.\n"
     ]
    },
    {
     "name": "stderr",
     "output_type": "stream",
     "text": [
      " 36%|████████████████████████████▏                                                 | 180/499 [36:27<1:02:13, 11.70s/it]"
     ]
    },
    {
     "name": "stdout",
     "output_type": "stream",
     "text": [
      "[Open3D WARNING] [KDTreeFlann::SetRawData] Failed due to no data.\n"
     ]
    },
    {
     "name": "stderr",
     "output_type": "stream",
     "text": [
      "\r",
      " 36%|████████████████████████████▎                                                 | 181/499 [36:39<1:02:04, 11.71s/it]"
     ]
    },
    {
     "name": "stdout",
     "output_type": "stream",
     "text": [
      "[Open3D WARNING] [KDTreeFlann::SetRawData] Failed due to no data.\n"
     ]
    },
    {
     "name": "stderr",
     "output_type": "stream",
     "text": [
      " 40%|████████████████████████████████▏                                               | 201/499 [40:34<58:26, 11.77s/it]"
     ]
    },
    {
     "name": "stdout",
     "output_type": "stream",
     "text": [
      "[Open3D WARNING] [KDTreeFlann::SetRawData] Failed due to no data.\n"
     ]
    },
    {
     "name": "stderr",
     "output_type": "stream",
     "text": [
      "\r",
      " 40%|████████████████████████████████▍                                               | 202/499 [40:46<58:42, 11.86s/it]"
     ]
    },
    {
     "name": "stdout",
     "output_type": "stream",
     "text": [
      "[Open3D WARNING] [KDTreeFlann::SetRawData] Failed due to no data.\n"
     ]
    },
    {
     "name": "stderr",
     "output_type": "stream",
     "text": [
      " 55%|███████████████████████████████████████████▊                                    | 273/499 [55:12<46:53, 12.45s/it]"
     ]
    },
    {
     "name": "stdout",
     "output_type": "stream",
     "text": [
      "[Open3D WARNING] [KDTreeFlann::SetRawData] Failed due to no data.\n"
     ]
    },
    {
     "name": "stderr",
     "output_type": "stream",
     "text": [
      " 56%|█████████████████████████████████████████████                                   | 281/499 [56:58<52:09, 14.35s/it]"
     ]
    },
    {
     "name": "stdout",
     "output_type": "stream",
     "text": [
      "[Open3D WARNING] [KDTreeFlann::SetRawData] Failed due to no data.\n"
     ]
    },
    {
     "name": "stderr",
     "output_type": "stream",
     "text": [
      "\r",
      " 57%|█████████████████████████████████████████████▏                                  | 282/499 [57:13<53:16, 14.73s/it]"
     ]
    },
    {
     "name": "stdout",
     "output_type": "stream",
     "text": [
      "[Open3D WARNING] [KDTreeFlann::SetRawData] Failed due to no data.\n"
     ]
    },
    {
     "name": "stderr",
     "output_type": "stream",
     "text": [
      " 57%|█████████████████████████████████████████████▌                                  | 284/499 [57:37<47:15, 13.19s/it]"
     ]
    },
    {
     "name": "stdout",
     "output_type": "stream",
     "text": [
      "[Open3D WARNING] [KDTreeFlann::SetRawData] Failed due to no data.\n"
     ]
    },
    {
     "name": "stderr",
     "output_type": "stream",
     "text": [
      "\r",
      " 57%|█████████████████████████████████████████████▋                                  | 285/499 [57:52<49:53, 13.99s/it]"
     ]
    },
    {
     "name": "stdout",
     "output_type": "stream",
     "text": [
      "[Open3D WARNING] [KDTreeFlann::SetRawData] Failed due to no data.\n"
     ]
    },
    {
     "name": "stderr",
     "output_type": "stream",
     "text": [
      " 58%|██████████████████████████████████████████████▎                                 | 289/499 [58:45<45:25, 12.98s/it]"
     ]
    },
    {
     "name": "stdout",
     "output_type": "stream",
     "text": [
      "[Open3D WARNING] [KDTreeFlann::SetRawData] Failed due to no data.\n"
     ]
    },
    {
     "name": "stderr",
     "output_type": "stream",
     "text": [
      " 59%|██████████████████████████████████████████████▊                                 | 292/499 [59:21<41:58, 12.17s/it]"
     ]
    },
    {
     "name": "stdout",
     "output_type": "stream",
     "text": [
      "[Open3D WARNING] [KDTreeFlann::SetRawData] Failed due to no data.\n"
     ]
    },
    {
     "name": "stderr",
     "output_type": "stream",
     "text": [
      " 63%|█████████████████████████████████████████████████▍                            | 316/499 [1:04:07<35:48, 11.74s/it]"
     ]
    },
    {
     "name": "stdout",
     "output_type": "stream",
     "text": [
      "[Open3D WARNING] [KDTreeFlann::SetRawData] Failed due to no data.\n"
     ]
    },
    {
     "name": "stderr",
     "output_type": "stream",
     "text": [
      " 68%|████████████████████████████████████████████████████▊                         | 338/499 [1:08:30<32:07, 11.97s/it]"
     ]
    },
    {
     "name": "stdout",
     "output_type": "stream",
     "text": [
      "[Open3D WARNING] [KDTreeFlann::SetRawData] Failed due to no data.\n"
     ]
    },
    {
     "name": "stderr",
     "output_type": "stream",
     "text": [
      " 71%|███████████████████████████████████████████████████████▋                      | 356/499 [1:12:07<28:51, 12.11s/it]"
     ]
    },
    {
     "name": "stdout",
     "output_type": "stream",
     "text": [
      "[Open3D WARNING] [KDTreeFlann::SetRawData] Failed due to no data.\n"
     ]
    },
    {
     "name": "stderr",
     "output_type": "stream",
     "text": [
      " 86%|███████████████████████████████████████████████████████████████████▎          | 431/499 [1:31:23<18:11, 16.05s/it]"
     ]
    },
    {
     "name": "stdout",
     "output_type": "stream",
     "text": [
      "[Open3D WARNING] [KDTreeFlann::SetRawData] Failed due to no data.\n"
     ]
    },
    {
     "name": "stderr",
     "output_type": "stream",
     "text": [
      " 87%|███████████████████████████████████████████████████████████████████▋          | 433/499 [1:31:58<18:51, 17.15s/it]"
     ]
    },
    {
     "name": "stdout",
     "output_type": "stream",
     "text": [
      "[Open3D WARNING] [KDTreeFlann::SetRawData] Failed due to no data.\n"
     ]
    },
    {
     "name": "stderr",
     "output_type": "stream",
     "text": [
      " 90%|██████████████████████████████████████████████████████████████████████▍       | 451/499 [1:36:01<09:37, 12.03s/it]"
     ]
    },
    {
     "name": "stdout",
     "output_type": "stream",
     "text": [
      "[Open3D WARNING] [KDTreeFlann::SetRawData] Failed due to no data.\n"
     ]
    },
    {
     "name": "stderr",
     "output_type": "stream",
     "text": [
      "\r",
      " 91%|██████████████████████████████████████████████████████████████████████▋       | 452/499 [1:36:13<09:24, 12.00s/it]"
     ]
    },
    {
     "name": "stdout",
     "output_type": "stream",
     "text": [
      "[Open3D WARNING] [KDTreeFlann::SetRawData] Failed due to no data.\n"
     ]
    },
    {
     "name": "stderr",
     "output_type": "stream",
     "text": [
      " 92%|███████████████████████████████████████████████████████████████████████▍      | 457/499 [1:37:14<08:29, 12.14s/it]"
     ]
    },
    {
     "name": "stdout",
     "output_type": "stream",
     "text": [
      "[Open3D WARNING] [KDTreeFlann::SetRawData] Failed due to no data.\n"
     ]
    },
    {
     "name": "stderr",
     "output_type": "stream",
     "text": [
      "\r",
      " 92%|███████████████████████████████████████████████████████████████████████▌      | 458/499 [1:37:26<08:19, 12.18s/it]"
     ]
    },
    {
     "name": "stdout",
     "output_type": "stream",
     "text": [
      "[Open3D WARNING] [KDTreeFlann::SetRawData] Failed due to no data.\n"
     ]
    },
    {
     "name": "stderr",
     "output_type": "stream",
     "text": [
      " 93%|████████████████████████████████████████████████████████████████████████▌     | 464/499 [1:38:38<07:00, 12.02s/it]"
     ]
    },
    {
     "name": "stdout",
     "output_type": "stream",
     "text": [
      "[Open3D WARNING] [KDTreeFlann::SetRawData] Failed due to no data.\n"
     ]
    },
    {
     "name": "stderr",
     "output_type": "stream",
     "text": [
      "\r",
      " 93%|████████████████████████████████████████████████████████████████████████▋     | 465/499 [1:38:50<06:48, 12.02s/it]"
     ]
    },
    {
     "name": "stdout",
     "output_type": "stream",
     "text": [
      "[Open3D WARNING] [KDTreeFlann::SetRawData] Failed due to no data.\n"
     ]
    },
    {
     "name": "stderr",
     "output_type": "stream",
     "text": [
      "\r",
      " 93%|████████████████████████████████████████████████████████████████████████▊     | 466/499 [1:39:02<06:37, 12.05s/it]"
     ]
    },
    {
     "name": "stdout",
     "output_type": "stream",
     "text": [
      "[Open3D WARNING] [KDTreeFlann::SetRawData] Failed due to no data.\n"
     ]
    },
    {
     "name": "stderr",
     "output_type": "stream",
     "text": [
      "\r",
      " 94%|████████████████████████████████████████████████████████████████████████▉     | 467/499 [1:39:14<06:24, 12.01s/it]"
     ]
    },
    {
     "name": "stdout",
     "output_type": "stream",
     "text": [
      "[Open3D WARNING] [KDTreeFlann::SetRawData] Failed due to no data.\n"
     ]
    },
    {
     "name": "stderr",
     "output_type": "stream",
     "text": [
      " 95%|█████████████████████████████████████████████████████████████████████████▊    | 472/499 [1:40:15<05:28, 12.17s/it]"
     ]
    },
    {
     "name": "stdout",
     "output_type": "stream",
     "text": [
      "[Open3D WARNING] [KDTreeFlann::SetRawData] Failed due to no data.\n"
     ]
    },
    {
     "name": "stderr",
     "output_type": "stream",
     "text": [
      "\r",
      " 95%|█████████████████████████████████████████████████████████████████████████▉    | 473/499 [1:40:27<05:17, 12.23s/it]"
     ]
    },
    {
     "name": "stdout",
     "output_type": "stream",
     "text": [
      "[Open3D WARNING] [KDTreeFlann::SetRawData] Failed due to no data.\n",
      "[Open3D WARNING] [KDTreeFlann::SetRawData] Failed due to no data.\n"
     ]
    },
    {
     "name": "stderr",
     "output_type": "stream",
     "text": [
      " 95%|██████████████████████████████████████████████████████████████████████████▏   | 475/499 [1:40:52<04:55, 12.30s/it]"
     ]
    },
    {
     "name": "stdout",
     "output_type": "stream",
     "text": [
      "[Open3D WARNING] [KDTreeFlann::SetRawData] Failed due to no data.\n"
     ]
    },
    {
     "name": "stderr",
     "output_type": "stream",
     "text": [
      " 97%|███████████████████████████████████████████████████████████████████████████▍  | 483/499 [1:42:28<03:12, 12.02s/it]"
     ]
    },
    {
     "name": "stdout",
     "output_type": "stream",
     "text": [
      "[Open3D WARNING] [KDTreeFlann::SetRawData] Failed due to no data.\n"
     ]
    },
    {
     "name": "stderr",
     "output_type": "stream",
     "text": [
      "\r",
      " 97%|███████████████████████████████████████████████████████████████████████████▋  | 484/499 [1:42:41<03:02, 12.14s/it]"
     ]
    },
    {
     "name": "stdout",
     "output_type": "stream",
     "text": [
      "[Open3D WARNING] [KDTreeFlann::SetRawData] Failed due to no data.\n"
     ]
    },
    {
     "name": "stderr",
     "output_type": "stream",
     "text": [
      " 97%|███████████████████████████████████████████████████████████████████████████▉  | 486/499 [1:43:05<02:38, 12.20s/it]"
     ]
    },
    {
     "name": "stdout",
     "output_type": "stream",
     "text": [
      "[Open3D WARNING] [KDTreeFlann::SetRawData] Failed due to no data.\n"
     ]
    },
    {
     "name": "stderr",
     "output_type": "stream",
     "text": [
      "\r",
      " 98%|████████████████████████████████████████████████████████████████████████████  | 487/499 [1:43:18<02:26, 12.19s/it]"
     ]
    },
    {
     "name": "stdout",
     "output_type": "stream",
     "text": [
      "[Open3D WARNING] [KDTreeFlann::SetRawData] Failed due to no data.\n"
     ]
    },
    {
     "name": "stderr",
     "output_type": "stream",
     "text": [
      "\r",
      " 98%|████████████████████████████████████████████████████████████████████████████▎ | 488/499 [1:43:30<02:13, 12.13s/it]"
     ]
    },
    {
     "name": "stdout",
     "output_type": "stream",
     "text": [
      "[Open3D WARNING] [KDTreeFlann::SetRawData] Failed due to no data.\n"
     ]
    },
    {
     "name": "stderr",
     "output_type": "stream",
     "text": [
      "\r",
      " 98%|████████████████████████████████████████████████████████████████████████████▍ | 489/499 [1:43:42<02:01, 12.11s/it]"
     ]
    },
    {
     "name": "stdout",
     "output_type": "stream",
     "text": [
      "[Open3D WARNING] [KDTreeFlann::SetRawData] Failed due to no data.\n"
     ]
    },
    {
     "name": "stderr",
     "output_type": "stream",
     "text": [
      "\r",
      " 98%|████████████████████████████████████████████████████████████████████████████▌ | 490/499 [1:43:54<01:49, 12.11s/it]"
     ]
    },
    {
     "name": "stdout",
     "output_type": "stream",
     "text": [
      "[Open3D WARNING] [KDTreeFlann::SetRawData] Failed due to no data.\n"
     ]
    },
    {
     "name": "stderr",
     "output_type": "stream",
     "text": [
      "\r",
      " 98%|████████████████████████████████████████████████████████████████████████████▋ | 491/499 [1:44:06<01:36, 12.12s/it]"
     ]
    },
    {
     "name": "stdout",
     "output_type": "stream",
     "text": [
      "[Open3D WARNING] [KDTreeFlann::SetRawData] Failed due to no data.\n",
      "[Open3D WARNING] [KDTreeFlann::SetRawData] Failed due to no data.\n"
     ]
    },
    {
     "name": "stderr",
     "output_type": "stream",
     "text": [
      " 99%|█████████████████████████████████████████████████████████████████████████████ | 493/499 [1:44:30<01:12, 12.08s/it]"
     ]
    },
    {
     "name": "stdout",
     "output_type": "stream",
     "text": [
      "[Open3D WARNING] [KDTreeFlann::SetRawData] Failed due to no data.\n"
     ]
    },
    {
     "name": "stderr",
     "output_type": "stream",
     "text": [
      "\r",
      " 99%|█████████████████████████████████████████████████████████████████████████████▏| 494/499 [1:44:42<01:00, 12.07s/it]"
     ]
    },
    {
     "name": "stdout",
     "output_type": "stream",
     "text": [
      "[Open3D WARNING] [KDTreeFlann::SetRawData] Failed due to no data.\n"
     ]
    },
    {
     "name": "stderr",
     "output_type": "stream",
     "text": [
      "\r",
      " 99%|█████████████████████████████████████████████████████████████████████████████▎| 495/499 [1:44:54<00:48, 12.08s/it]"
     ]
    },
    {
     "name": "stdout",
     "output_type": "stream",
     "text": [
      "[Open3D WARNING] [KDTreeFlann::SetRawData] Failed due to no data.\n"
     ]
    },
    {
     "name": "stderr",
     "output_type": "stream",
     "text": [
      "100%|██████████████████████████████████████████████████████████████████████████████| 499/499 [1:45:42<00:00, 12.71s/it]\n"
     ]
    }
   ],
   "source": [
    "# Now, full fv\n",
    "out = track_neurons_full_video(btf_fname_red,\n",
    "                             start_frame=0,\n",
    "                             num_frames=500,\n",
    "                             num_slices=33,\n",
    "                             alpha=0.15,\n",
    "                             neuron_feature_radius=5.0,\n",
    "                             do_mini_max_projections=False,\n",
    "                             use_affine_matching=True)"
   ]
  },
  {
   "cell_type": "code",
   "execution_count": 180,
   "id": "discrete-savannah",
   "metadata": {},
   "outputs": [],
   "source": [
    "all_matches, all_conf, all_frames = out\n",
    "clust_df = build_tracklets_from_classes(all_frames, all_matches, all_conf, verbose=0)"
   ]
  },
  {
   "cell_type": "code",
   "execution_count": 181,
   "id": "impressive-removal",
   "metadata": {},
   "outputs": [],
   "source": [
    "import pickle\n",
    "fname = 'clust_df_dat_affine_nominimax.pickle'\n",
    "with open(fname, 'wb') as f:\n",
    "    pickle.dump(clust_df,f)"
   ]
  },
  {
   "cell_type": "code",
   "execution_count": null,
   "id": "conceptual-exclusion",
   "metadata": {},
   "outputs": [],
   "source": [
    "i = 4\n",
    "print(clust_df.at[i, 'slice_ind'])\n",
    "print(clust_df.at[i, 'all_ind_local'])\n",
    "print(clust_df.at[i, 'all_prob'])\n",
    "clust_df.at[i,'all_xyz']"
   ]
  },
  {
   "cell_type": "code",
   "execution_count": 146,
   "id": "foreign-tyler",
   "metadata": {},
   "outputs": [
    {
     "name": "stdout",
     "output_type": "stream",
     "text": [
      "[  4.         364.75       291.36237793] [  8.         470.08862644 223.30122545]\n"
     ]
    }
   ],
   "source": [
    "m = [4, 26]\n",
    "n0 = all_frames[0].neuron_locs[m[0]]\n",
    "n1 = all_frames[1].neuron_locs[m[1]]\n",
    "print(n0, n1)"
   ]
  },
  {
   "cell_type": "code",
   "execution_count": 178,
   "id": "respected-solution",
   "metadata": {},
   "outputs": [
    {
     "data": {
      "text/html": [
       "<div>\n",
       "<style scoped>\n",
       "    .dataframe tbody tr th:only-of-type {\n",
       "        vertical-align: middle;\n",
       "    }\n",
       "\n",
       "    .dataframe tbody tr th {\n",
       "        vertical-align: top;\n",
       "    }\n",
       "\n",
       "    .dataframe thead th {\n",
       "        text-align: right;\n",
       "    }\n",
       "</style>\n",
       "<table border=\"1\" class=\"dataframe\">\n",
       "  <thead>\n",
       "    <tr style=\"text-align: right;\">\n",
       "      <th></th>\n",
       "      <th>clust_ind</th>\n",
       "      <th>all_ind_local</th>\n",
       "      <th>all_ind_global</th>\n",
       "      <th>all_xyz</th>\n",
       "      <th>all_prob</th>\n",
       "      <th>slice_ind</th>\n",
       "      <th>extended_this_slice</th>\n",
       "      <th>not_finished</th>\n",
       "    </tr>\n",
       "  </thead>\n",
       "  <tbody>\n",
       "    <tr>\n",
       "      <th>0</th>\n",
       "      <td>0</td>\n",
       "      <td>[12, 54, 27]</td>\n",
       "      <td>[12, 256, 416]</td>\n",
       "      <td>[[9.5, 440.61496353149414, 227.7713222503662],...</td>\n",
       "      <td>[0.6971265294625079, 0.9757246599386857]</td>\n",
       "      <td>[0, 1, 2]</td>\n",
       "      <td>False</td>\n",
       "      <td>False</td>\n",
       "    </tr>\n",
       "    <tr>\n",
       "      <th>1</th>\n",
       "      <td>1</td>\n",
       "      <td>[46, 16]</td>\n",
       "      <td>[46, 218]</td>\n",
       "      <td>[[6.0, 405.4782952202691, 269.23348659939234],...</td>\n",
       "      <td>[0.8531702536005109]</td>\n",
       "      <td>[0, 1]</td>\n",
       "      <td>False</td>\n",
       "      <td>False</td>\n",
       "    </tr>\n",
       "    <tr>\n",
       "      <th>2</th>\n",
       "      <td>2</td>\n",
       "      <td>[56, 10]</td>\n",
       "      <td>[56, 212]</td>\n",
       "      <td>[[7.0, 372.4322916666667, 301.4625481499566], ...</td>\n",
       "      <td>[0.7437136778305012]</td>\n",
       "      <td>[0, 1]</td>\n",
       "      <td>False</td>\n",
       "      <td>False</td>\n",
       "    </tr>\n",
       "    <tr>\n",
       "      <th>3</th>\n",
       "      <td>3</td>\n",
       "      <td>[59, 19, 6]</td>\n",
       "      <td>[59, 221, 395]</td>\n",
       "      <td>[[7.5, 415.73460388183594, 228.13738505045572]...</td>\n",
       "      <td>[0.8217044091495858, 0.7152378711616665]</td>\n",
       "      <td>[0, 1, 2]</td>\n",
       "      <td>False</td>\n",
       "      <td>False</td>\n",
       "    </tr>\n",
       "    <tr>\n",
       "      <th>4</th>\n",
       "      <td>4</td>\n",
       "      <td>[61, 12]</td>\n",
       "      <td>[61, 214]</td>\n",
       "      <td>[[10.5, 424.26441701253253, 239.15997823079428...</td>\n",
       "      <td>[0.7519919277968684]</td>\n",
       "      <td>[0, 1]</td>\n",
       "      <td>False</td>\n",
       "      <td>False</td>\n",
       "    </tr>\n",
       "    <tr>\n",
       "      <th>...</th>\n",
       "      <td>...</td>\n",
       "      <td>...</td>\n",
       "      <td>...</td>\n",
       "      <td>...</td>\n",
       "      <td>...</td>\n",
       "      <td>...</td>\n",
       "      <td>...</td>\n",
       "      <td>...</td>\n",
       "    </tr>\n",
       "    <tr>\n",
       "      <th>14483</th>\n",
       "      <td>14483</td>\n",
       "      <td>[107, 124]</td>\n",
       "      <td>[77923, 78073]</td>\n",
       "      <td>[[22.5, 387.4120819091797, 313.207177734375], ...</td>\n",
       "      <td>[0.7926921801850423]</td>\n",
       "      <td>[498, 499]</td>\n",
       "      <td>True</td>\n",
       "      <td>True</td>\n",
       "    </tr>\n",
       "    <tr>\n",
       "      <th>14484</th>\n",
       "      <td>14484</td>\n",
       "      <td>[116, 117]</td>\n",
       "      <td>[77932, 78066]</td>\n",
       "      <td>[[24.5, 449.2133305867513, 290.6131947835286],...</td>\n",
       "      <td>[0.8805861942045736]</td>\n",
       "      <td>[498, 499]</td>\n",
       "      <td>True</td>\n",
       "      <td>True</td>\n",
       "    </tr>\n",
       "    <tr>\n",
       "      <th>14485</th>\n",
       "      <td>14485</td>\n",
       "      <td>[118, 131]</td>\n",
       "      <td>[77934, 78080]</td>\n",
       "      <td>[[25.0, 399.94436922940343, 255.39791870117188...</td>\n",
       "      <td>[0.8436342044967696]</td>\n",
       "      <td>[498, 499]</td>\n",
       "      <td>True</td>\n",
       "      <td>True</td>\n",
       "    </tr>\n",
       "    <tr>\n",
       "      <th>14486</th>\n",
       "      <td>14486</td>\n",
       "      <td>[121, 114]</td>\n",
       "      <td>[77937, 78063]</td>\n",
       "      <td>[[24.0, 394.79122488839283, 320.8195234026228]...</td>\n",
       "      <td>[0.7801511030629661]</td>\n",
       "      <td>[498, 499]</td>\n",
       "      <td>True</td>\n",
       "      <td>True</td>\n",
       "    </tr>\n",
       "    <tr>\n",
       "      <th>14487</th>\n",
       "      <td>14487</td>\n",
       "      <td>[132, 138]</td>\n",
       "      <td>[77948, 78087]</td>\n",
       "      <td>[[30.5, 410.7922134399414, 281.0909652709961],...</td>\n",
       "      <td>[0.9684770013653845]</td>\n",
       "      <td>[498, 499]</td>\n",
       "      <td>True</td>\n",
       "      <td>True</td>\n",
       "    </tr>\n",
       "  </tbody>\n",
       "</table>\n",
       "<p>14488 rows × 8 columns</p>\n",
       "</div>"
      ],
      "text/plain": [
       "      clust_ind all_ind_local  all_ind_global  \\\n",
       "0             0  [12, 54, 27]  [12, 256, 416]   \n",
       "1             1      [46, 16]       [46, 218]   \n",
       "2             2      [56, 10]       [56, 212]   \n",
       "3             3   [59, 19, 6]  [59, 221, 395]   \n",
       "4             4      [61, 12]       [61, 214]   \n",
       "...         ...           ...             ...   \n",
       "14483     14483    [107, 124]  [77923, 78073]   \n",
       "14484     14484    [116, 117]  [77932, 78066]   \n",
       "14485     14485    [118, 131]  [77934, 78080]   \n",
       "14486     14486    [121, 114]  [77937, 78063]   \n",
       "14487     14487    [132, 138]  [77948, 78087]   \n",
       "\n",
       "                                                 all_xyz  \\\n",
       "0      [[9.5, 440.61496353149414, 227.7713222503662],...   \n",
       "1      [[6.0, 405.4782952202691, 269.23348659939234],...   \n",
       "2      [[7.0, 372.4322916666667, 301.4625481499566], ...   \n",
       "3      [[7.5, 415.73460388183594, 228.13738505045572]...   \n",
       "4      [[10.5, 424.26441701253253, 239.15997823079428...   \n",
       "...                                                  ...   \n",
       "14483  [[22.5, 387.4120819091797, 313.207177734375], ...   \n",
       "14484  [[24.5, 449.2133305867513, 290.6131947835286],...   \n",
       "14485  [[25.0, 399.94436922940343, 255.39791870117188...   \n",
       "14486  [[24.0, 394.79122488839283, 320.8195234026228]...   \n",
       "14487  [[30.5, 410.7922134399414, 281.0909652709961],...   \n",
       "\n",
       "                                       all_prob   slice_ind  \\\n",
       "0      [0.6971265294625079, 0.9757246599386857]   [0, 1, 2]   \n",
       "1                          [0.8531702536005109]      [0, 1]   \n",
       "2                          [0.7437136778305012]      [0, 1]   \n",
       "3      [0.8217044091495858, 0.7152378711616665]   [0, 1, 2]   \n",
       "4                          [0.7519919277968684]      [0, 1]   \n",
       "...                                         ...         ...   \n",
       "14483                      [0.7926921801850423]  [498, 499]   \n",
       "14484                      [0.8805861942045736]  [498, 499]   \n",
       "14485                      [0.8436342044967696]  [498, 499]   \n",
       "14486                      [0.7801511030629661]  [498, 499]   \n",
       "14487                      [0.9684770013653845]  [498, 499]   \n",
       "\n",
       "       extended_this_slice not_finished  \n",
       "0                    False        False  \n",
       "1                    False        False  \n",
       "2                    False        False  \n",
       "3                    False        False  \n",
       "4                    False        False  \n",
       "...                    ...          ...  \n",
       "14483                 True         True  \n",
       "14484                 True         True  \n",
       "14485                 True         True  \n",
       "14486                 True         True  \n",
       "14487                 True         True  \n",
       "\n",
       "[14488 rows x 8 columns]"
      ]
     },
     "execution_count": 178,
     "metadata": {},
     "output_type": "execute_result"
    }
   ],
   "source": [
    "clust_df"
   ]
  },
  {
   "cell_type": "markdown",
   "id": "opponent-vietnam",
   "metadata": {},
   "source": [
    "# Are the point clouds the same between the full function and this notebook?"
   ]
  },
  {
   "cell_type": "code",
   "execution_count": 148,
   "id": "demonstrated-jewel",
   "metadata": {},
   "outputs": [
    {
     "data": {
      "text/plain": [
       "PointCloud with 202 points."
      ]
     },
     "execution_count": 148,
     "metadata": {},
     "output_type": "execute_result"
    }
   ],
   "source": [
    "# This notebook\n",
    "\n",
    "pc0_neuron = o3d.geometry.PointCloud()\n",
    "pc0_neuron.points = o3d.utility.Vector3dVector(f0.neuron_locs)\n",
    "pc0_neuron.paint_uniform_color([0.5,0.5,0.5])\n",
    "\n",
    "pc0_vid = o3d.geometry.PointCloud()\n",
    "pc0_vid.points = o3d.utility.Vector3dVector(all_frames[0].neuron_locs)\n",
    "pc0_vid.paint_uniform_color([0,0,0])"
   ]
  },
  {
   "cell_type": "code",
   "execution_count": 150,
   "id": "technical-orlando",
   "metadata": {},
   "outputs": [],
   "source": [
    "# o3d.visualization.draw_geometries([pc0_neuron, pc0_vid])"
   ]
  },
  {
   "cell_type": "code",
   "execution_count": 168,
   "id": "plastic-scale",
   "metadata": {},
   "outputs": [
    {
     "data": {
      "text/plain": [
       "[LineSet with 98 lines.,\n",
       " PointCloud with 200 points.,\n",
       " PointCloud with 277 points.]"
      ]
     },
     "execution_count": 168,
     "metadata": {},
     "output_type": "execute_result"
    }
   ],
   "source": [
    "# Visualize matches in the video\n",
    "k = (2,3)\n",
    "visualize_tracks(all_frames[k[0]].neuron_locs, all_frames[k[1]].neuron_locs, all_matches[k])"
   ]
  },
  {
   "cell_type": "code",
   "execution_count": null,
   "id": "liquid-hygiene",
   "metadata": {},
   "outputs": [],
   "source": [
    "detect_neurons_using_ICP()"
   ]
  }
 ],
 "metadata": {
  "kernelspec": {
   "display_name": "Python [conda env:track_using_features] *",
   "language": "python",
   "name": "conda-env-track_using_features-py"
  },
  "language_info": {
   "codemirror_mode": {
    "name": "ipython",
    "version": 3
   },
   "file_extension": ".py",
   "mimetype": "text/x-python",
   "name": "python",
   "nbconvert_exporter": "python",
   "pygments_lexer": "ipython3",
   "version": "3.7.9"
  }
 },
 "nbformat": 4,
 "nbformat_minor": 5
}
