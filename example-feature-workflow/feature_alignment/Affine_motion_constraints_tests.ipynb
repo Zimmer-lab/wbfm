{
 "cells": [
  {
   "cell_type": "markdown",
   "id": "normal-arrangement",
   "metadata": {},
   "source": [
    "# Build a motion model from feature matches"
   ]
  },
  {
   "cell_type": "markdown",
   "id": "relative-sensitivity",
   "metadata": {},
   "source": [
    "## First, get keypoints\n",
    "\n",
    "Features and neurons"
   ]
  },
  {
   "cell_type": "code",
   "execution_count": 2,
   "id": "classified-participant",
   "metadata": {},
   "outputs": [
    {
     "name": "stdout",
     "output_type": "stream",
     "text": [
      "The autoreload extension is already loaded. To reload it, use:\n",
      "  %reload_ext autoreload\n"
     ]
    }
   ],
   "source": [
    "import os\n",
    "import numpy as np\n",
    "import tifffile\n",
    "import matplotlib.pyplot as plt\n",
    "%load_ext autoreload\n",
    "%autoreload 2\n",
    "\n",
    "from DLC_for_WBFM.utils.feature_detection.utils_features import *\n",
    "from DLC_for_WBFM.utils.feature_detection.utils_tracklets import *\n",
    "from DLC_for_WBFM.utils.feature_detection.utils_detection import *\n",
    "from DLC_for_WBFM.utils.feature_detection.visualization_tracks import *\n",
    "from DLC_for_WBFM.utils.video_and_data_conversion.import_video_as_array import *\n",
    "from DLC_for_WBFM.utils.feature_detection.feature_pipeline import *\n",
    "from DLC_for_WBFM.utils.feature_detection.utils_affine import *\n",
    "from DLC_for_WBFM.utils.feature_detection.utils_networkx import calc_bipartite_from_distance\n",
    "\n",
    "from tqdm import tqdm"
   ]
  },
  {
   "cell_type": "code",
   "execution_count": 3,
   "id": "automotive-apollo",
   "metadata": {},
   "outputs": [],
   "source": [
    "# Get the 3d bigtiff folder\n",
    "bigtiff_folder = r'D:\\More-stabilized-wbfm'\n",
    "\n",
    "btf_fname_red = r'test2020-10-22_16-15-20_test4-channel-0-pco_camera1\\test2020-10-22_16-15-20_test4-channel-0-pco_camera1bigtiff.btf'\n",
    "btf_fname_red = os.path.join(bigtiff_folder, btf_fname_red)\n",
    "\n",
    "# Actually import\n",
    "import_opt = {'num_slices':33, 'alpha':0.15}\n",
    "\n",
    "dat0_vid = get_single_volume(btf_fname_red, 15, **import_opt)\n",
    "dat1_vid = get_single_volume(btf_fname_red, 30, **import_opt)"
   ]
  },
  {
   "cell_type": "markdown",
   "id": "underlying-gather",
   "metadata": {},
   "source": [
    "## Segment 2 volumes"
   ]
  },
  {
   "cell_type": "code",
   "execution_count": 4,
   "id": "statistical-advancement",
   "metadata": {},
   "outputs": [
    {
     "name": "stdout",
     "output_type": "stream",
     "text": [
      "[Open3D WARNING] [KDTreeFlann::SetRawData] Failed due to no data.\n",
      "[Open3D WARNING] [KDTreeFlann::SetRawData] Failed due to no data.\n",
      "[Open3D WARNING] [KDTreeFlann::SetRawData] Failed due to no data.\n",
      "[Open3D WARNING] [KDTreeFlann::SetRawData] Failed due to no data.\n",
      "[Open3D WARNING] [KDTreeFlann::SetRawData] Failed due to no data.\n",
      "[Open3D WARNING] [KDTreeFlann::SetRawData] Failed due to no data.\n"
     ]
    }
   ],
   "source": [
    "opt = {'num_slices':33, 'alpha':1.0}\n",
    "# Build point clouds for each plane\n",
    "all_keypoints_pcs0 = build_point_clouds_for_volume(dat0_vid, **import_opt)\n",
    "all_icp0 = build_correspondence_icp(all_keypoints_pcs0)\n",
    "\n",
    "all_keypoints_pcs1 = build_point_clouds_for_volume(dat0_vid, **import_opt)\n",
    "all_icp1 = build_correspondence_icp(all_keypoints_pcs1)"
   ]
  },
  {
   "cell_type": "code",
   "execution_count": 5,
   "id": "vocational-hamburg",
   "metadata": {},
   "outputs": [],
   "source": [
    "all_neurons = [k.points for k in all_keypoints_pcs0]\n",
    "all_matches = [m.correspondence_set for m in all_icp0]\n",
    "clust_df0 = build_tracklets_from_matches(all_neurons, all_matches)\n",
    "\n",
    "all_neurons = [k.points for k in all_keypoints_pcs1]\n",
    "all_matches = [m.correspondence_set for m in all_icp1]\n",
    "clust_df1 = build_tracklets_from_matches(all_neurons, all_matches)"
   ]
  },
  {
   "cell_type": "code",
   "execution_count": 6,
   "id": "greater-python",
   "metadata": {},
   "outputs": [
    {
     "name": "stdout",
     "output_type": "stream",
     "text": [
      "Building pairwise correspondence...\n",
      "Building clusters...\n",
      "Finished ID'ing neurons\n",
      "Building pairwise correspondence...\n",
      "Building clusters...\n",
      "Finished ID'ing neurons\n"
     ]
    },
    {
     "ename": "RuntimeError",
     "evalue": "Unable to cast Python instance to C++ type (compile in debug mode for details)",
     "output_type": "error",
     "traceback": [
      "\u001b[1;31m---------------------------------------------------------------------------\u001b[0m",
      "\u001b[1;31mRuntimeError\u001b[0m                              Traceback (most recent call last)",
      "\u001b[1;32m<ipython-input-6-d2e6b72435e9>\u001b[0m in \u001b[0;36m<module>\u001b[1;34m\u001b[0m\n\u001b[0;32m     19\u001b[0m                                \u001b[0mmin_features_needed\u001b[0m\u001b[1;33m=\u001b[0m\u001b[1;36m5\u001b[0m\u001b[1;33m,\u001b[0m\u001b[1;33m\u001b[0m\u001b[1;33m\u001b[0m\u001b[0m\n\u001b[0;32m     20\u001b[0m                                    \u001b[0mverbose\u001b[0m\u001b[1;33m=\u001b[0m\u001b[1;36m1\u001b[0m\u001b[1;33m,\u001b[0m\u001b[1;33m\u001b[0m\u001b[1;33m\u001b[0m\u001b[0m\n\u001b[1;32m---> 21\u001b[1;33m                                      to_mirror=False)\n\u001b[0m",
      "\u001b[1;32mc:\\users\\charles.fieseler\\documents\\current_work\\dlc_for_wbfm\\DLC_for_WBFM\\utils\\feature_detection\\utils_features.py\u001b[0m in \u001b[0;36mmatch_centroids_using_tree\u001b[1;34m(neurons0, neurons1, features0, features1, radius, max_nn, min_features_needed, verbose, to_mirror, which_slice, only_keep_best_match)\u001b[0m\n\u001b[0;32m    443\u001b[0m     \u001b[0mnum_features0\u001b[0m\u001b[1;33m,\u001b[0m \u001b[0mpc_f0\u001b[0m\u001b[1;33m,\u001b[0m \u001b[0mtree_features0\u001b[0m \u001b[1;33m=\u001b[0m \u001b[0mbuild_feature_tree\u001b[0m\u001b[1;33m(\u001b[0m\u001b[0mfeatures0\u001b[0m\u001b[1;33m,\u001b[0m\u001b[0mwhich_slice\u001b[0m\u001b[1;33m)\u001b[0m\u001b[1;33m\u001b[0m\u001b[1;33m\u001b[0m\u001b[0m\n\u001b[0;32m    444\u001b[0m     \u001b[0mnum_features1\u001b[0m\u001b[1;33m,\u001b[0m \u001b[0mpc_f1\u001b[0m\u001b[1;33m,\u001b[0m \u001b[0mtree_features1\u001b[0m \u001b[1;33m=\u001b[0m \u001b[0mbuild_feature_tree\u001b[0m\u001b[1;33m(\u001b[0m\u001b[0mfeatures1\u001b[0m\u001b[1;33m,\u001b[0m\u001b[0mwhich_slice\u001b[0m\u001b[1;33m)\u001b[0m\u001b[1;33m\u001b[0m\u001b[1;33m\u001b[0m\u001b[0m\n\u001b[1;32m--> 445\u001b[1;33m     \u001b[0mnum_neurons0\u001b[0m\u001b[1;33m,\u001b[0m \u001b[0mpc_n0\u001b[0m\u001b[1;33m,\u001b[0m \u001b[0m_\u001b[0m \u001b[1;33m=\u001b[0m \u001b[0mbuild_neuron_tree\u001b[0m\u001b[1;33m(\u001b[0m\u001b[0mneurons0\u001b[0m\u001b[1;33m,\u001b[0m \u001b[0mto_mirror\u001b[0m\u001b[1;33m)\u001b[0m\u001b[1;33m\u001b[0m\u001b[1;33m\u001b[0m\u001b[0m\n\u001b[0m\u001b[0;32m    446\u001b[0m     \u001b[0mnum_neurons1\u001b[0m\u001b[1;33m,\u001b[0m \u001b[0mpc_n1\u001b[0m\u001b[1;33m,\u001b[0m \u001b[0mtree_neurons1\u001b[0m \u001b[1;33m=\u001b[0m \u001b[0mbuild_neuron_tree\u001b[0m\u001b[1;33m(\u001b[0m\u001b[0mneurons1\u001b[0m\u001b[1;33m,\u001b[0m \u001b[0mto_mirror\u001b[0m\u001b[1;33m)\u001b[0m\u001b[1;33m\u001b[0m\u001b[1;33m\u001b[0m\u001b[0m\n\u001b[0;32m    447\u001b[0m \u001b[1;33m\u001b[0m\u001b[0m\n",
      "\u001b[1;32mc:\\users\\charles.fieseler\\documents\\current_work\\dlc_for_wbfm\\DLC_for_WBFM\\utils\\feature_detection\\utils_features.py\u001b[0m in \u001b[0;36mbuild_neuron_tree\u001b[1;34m(neurons, to_mirror)\u001b[0m\n\u001b[0;32m    220\u001b[0m \u001b[1;33m\u001b[0m\u001b[0m\n\u001b[0;32m    221\u001b[0m     \u001b[1;31m# Build point cloud and tree\u001b[0m\u001b[1;33m\u001b[0m\u001b[1;33m\u001b[0m\u001b[1;33m\u001b[0m\u001b[0m\n\u001b[1;32m--> 222\u001b[1;33m     \u001b[0mpc\u001b[0m\u001b[1;33m.\u001b[0m\u001b[0mpoints\u001b[0m \u001b[1;33m=\u001b[0m \u001b[0mo3d\u001b[0m\u001b[1;33m.\u001b[0m\u001b[0mutility\u001b[0m\u001b[1;33m.\u001b[0m\u001b[0mVector3dVector\u001b[0m\u001b[1;33m(\u001b[0m\u001b[0mneurons\u001b[0m\u001b[1;33m)\u001b[0m\u001b[1;33m\u001b[0m\u001b[1;33m\u001b[0m\u001b[0m\n\u001b[0m\u001b[0;32m    223\u001b[0m     \u001b[0mpc_tree\u001b[0m \u001b[1;33m=\u001b[0m \u001b[0mo3d\u001b[0m\u001b[1;33m.\u001b[0m\u001b[0mgeometry\u001b[0m\u001b[1;33m.\u001b[0m\u001b[0mKDTreeFlann\u001b[0m\u001b[1;33m(\u001b[0m\u001b[0mpc\u001b[0m\u001b[1;33m)\u001b[0m\u001b[1;33m\u001b[0m\u001b[1;33m\u001b[0m\u001b[0m\n\u001b[0;32m    224\u001b[0m \u001b[1;33m\u001b[0m\u001b[0m\n",
      "\u001b[1;31mRuntimeError\u001b[0m: Unable to cast Python instance to C++ type (compile in debug mode for details)"
     ]
    }
   ],
   "source": [
    "opt = {'num_slices':33, 'alpha':1.0, 'verbose':1}\n",
    "neurons0, df0, icp0, pcs0 = detect_neurons_using_ICP(dat0_vid, **opt)\n",
    "neurons1, df1, icp1, pcs1 = detect_neurons_using_ICP(dat1_vid, **opt)\n",
    "\n",
    "all_features0, all_features1, kp0, kp1, feature_matches = build_features_and_match_2volumes(dat0_vid,dat1_vid,\n",
    "                                                                      verbose=1,\n",
    "                                                                      matches_to_keep=0.8,\n",
    "                                                                      num_features_per_plane=10000,\n",
    "                                                                      detect_keypoints=True,\n",
    "                                                                      kp0=neurons0,\n",
    "                                                                      kp1=neurons1)\n",
    "\n",
    "all_matches, f2n, all_conf = match_centroids_using_tree(np.array(neurons0), \n",
    "                               np.array(neurons1), \n",
    "                               all_features0, \n",
    "                               all_features1,\n",
    "                               radius=8,\n",
    "                               max_nn=50,\n",
    "                               min_features_needed=5,\n",
    "                                   verbose=1,\n",
    "                                     to_mirror=False)"
   ]
  },
  {
   "cell_type": "markdown",
   "id": "clean-brunswick",
   "metadata": {},
   "source": [
    "## Alternate way of getting keypoints: my Frame class"
   ]
  },
  {
   "cell_type": "code",
   "execution_count": 8,
   "id": "prostate-custom",
   "metadata": {},
   "outputs": [
    {
     "name": "stderr",
     "output_type": "stream",
     "text": [
      "100%|████████████████████████████████████████████████████████████████████████████████████| 2/2 [00:26<00:00, 13.25s/it]\n",
      "100%|████████████████████████████████████████████████████████████████████████████████████| 2/2 [00:01<00:00,  1.60it/s]\n",
      "100%|████████████████████████████████████████████████████████████████████████████████████| 1/1 [00:12<00:00, 12.93s/it]\n"
     ]
    }
   ],
   "source": [
    "opt = {'start_frame':0,\n",
    "       'num_frames':3,\n",
    "      'num_reference_frames':2,\n",
    "      'start_slice':4}\n",
    "all_matches, all_other_frames, reference_set = track_via_reference_frames(btf_fname_red, **opt)"
   ]
  },
  {
   "cell_type": "code",
   "execution_count": 9,
   "id": "bearing-territory",
   "metadata": {},
   "outputs": [
    {
     "name": "stdout",
     "output_type": "stream",
     "text": [
      "RegisteredReferenceFrames with 2 Frames \n",
      "\n"
     ]
    }
   ],
   "source": [
    "print(reference_set)"
   ]
  },
  {
   "cell_type": "markdown",
   "id": "affecting-kingdom",
   "metadata": {},
   "source": [
    "## An example of a full affine model"
   ]
  },
  {
   "cell_type": "code",
   "execution_count": 10,
   "id": "ranking-communications",
   "metadata": {},
   "outputs": [],
   "source": [
    "pts0_unmatched = reference_set.reference_frames[0].keypoint_locs\n",
    "pts1_unmatched = reference_set.reference_frames[1].keypoint_locs\n",
    "\n",
    "feature_matches = reference_set.feature_matches[(0,1)]"
   ]
  },
  {
   "cell_type": "code",
   "execution_count": 11,
   "id": "metropolitan-palace",
   "metadata": {},
   "outputs": [],
   "source": [
    "# Align the keypoints via matches\n",
    "\n",
    "pts0 = np.zeros((len(feature_matches), 3), dtype=np.float32)\n",
    "pts1 = np.zeros((len(feature_matches), 3), dtype=np.float32)\n",
    "for m, match in enumerate(feature_matches):\n",
    "    pts0[m, :] = pts0_unmatched[match.queryIdx]\n",
    "    pts1[m, :] = pts1_unmatched[match.trainIdx]"
   ]
  },
  {
   "cell_type": "code",
   "execution_count": 12,
   "id": "regulation-longitude",
   "metadata": {},
   "outputs": [],
   "source": [
    "# h = np.transpose(h)\n",
    "# Note: neurons0 is a dataframe\n",
    "# n0_2d = np.array([np.array([n[1], n[2]]) for n in neurons0])\n",
    "\n",
    "val, h, inliers = cv2.estimateAffine3D(pts0,pts1, confidence=0.99)\n",
    "pts0_trans = cv2.transform(np.array([pts0]), h)[0]"
   ]
  },
  {
   "cell_type": "code",
   "execution_count": 13,
   "id": "subsequent-advertising",
   "metadata": {},
   "outputs": [],
   "source": [
    "# h"
   ]
  },
  {
   "cell_type": "code",
   "execution_count": 14,
   "id": "continued-baseline",
   "metadata": {},
   "outputs": [],
   "source": [
    "# Make point clouds\n",
    "pc0 = o3d.geometry.PointCloud()\n",
    "pc0.points = o3d.utility.Vector3dVector(pts0)\n",
    "pc0.paint_uniform_color([0,0,0])\n",
    "\n",
    "pc0_trans = o3d.geometry.PointCloud()\n",
    "pc0_trans.points = o3d.utility.Vector3dVector(pts0_trans)\n",
    "pc0_trans.paint_uniform_color([0.5,0.5,0.5])\n",
    "\n",
    "pc1 = o3d.geometry.PointCloud()\n",
    "pc1.points = o3d.utility.Vector3dVector(pts1)\n",
    "pc1.paint_uniform_color([1,0,0])\n",
    "\n",
    "o3d.visualization.draw_geometries([pc0,pc0_trans, pc1])"
   ]
  },
  {
   "cell_type": "markdown",
   "id": "defensive-fundamentals",
   "metadata": {},
   "source": [
    "## Next, use the affine model locally"
   ]
  },
  {
   "cell_type": "code",
   "execution_count": 15,
   "id": "biological-feelings",
   "metadata": {},
   "outputs": [],
   "source": [
    "i0, i1 = 0, 1\n",
    "\n",
    "f0 = reference_set.reference_frames[i0]\n",
    "f1 = reference_set.reference_frames[i1]\n",
    "all_feature_matches = reference_set.feature_matches[(i0, i1)]"
   ]
  },
  {
   "cell_type": "code",
   "execution_count": 16,
   "id": "surgical-clause",
   "metadata": {},
   "outputs": [
    {
     "name": "stderr",
     "output_type": "stream",
     "text": [
      "100%|████████████████████████████████████████████████████████████████████████████████| 120/120 [00:02<00:00, 45.34it/s]\n"
     ]
    }
   ],
   "source": [
    "all_lines = None\n",
    "all_trans = None\n",
    "\n",
    "for which_neuron in tqdm(range(len(f0.neuron_locs))):\n",
    "    success, neuron0_trans = propagate_via_affine_model(which_neuron, f0, f1, all_feature_matches)\n",
    "#     if not success:\n",
    "#         continue\n",
    "    pc0_neuron, pc1_trans, pc1_neuron, line = create_affine_visualizations(which_neuron, f0, f1, neuron0_trans)\n",
    "\n",
    "    if all_lines is None:\n",
    "        all_lines = line\n",
    "        all_trans = pc1_trans\n",
    "    else:\n",
    "        all_lines = all_lines + line\n",
    "        all_trans = all_trans + pc1_trans"
   ]
  },
  {
   "cell_type": "code",
   "execution_count": 17,
   "id": "round-mistake",
   "metadata": {},
   "outputs": [
    {
     "data": {
      "text/plain": [
       "(True, array([[  3.53530052, 403.92587286, 257.82883942]]))"
      ]
     },
     "execution_count": 17,
     "metadata": {},
     "output_type": "execute_result"
    }
   ],
   "source": [
    "# propagate_via_affine_model(0, f0, f1, all_feature_matches)"
   ]
  },
  {
   "cell_type": "code",
   "execution_count": 20,
   "id": "tamil-outline",
   "metadata": {},
   "outputs": [],
   "source": [
    "o3d.visualization.draw_geometries([pc0_neuron, all_trans, pc1_neuron, all_lines])"
   ]
  },
  {
   "cell_type": "markdown",
   "id": "bridal-strand",
   "metadata": {},
   "source": [
    "# Finally, turn this into a set of matches\n",
    "\n",
    "There are three obvious forms of mismatch:\n",
    "1. Missing neuron in either v0 or v1\n",
    "2. Related, multiple v0 neurons near one v1 neuron\n",
    "3. Neuron pushed to an ambiguous location, not very close to a single v1 neuron\n",
    "\n",
    "To some extent this just needs better neuron segmentation. However, the features are what they are; theoretically the v0 neurons should be pushed close to a v1 neuron, even if it is missing\n",
    "\n",
    "Strategy 1: greedy\n",
    "1. Loop over v1 neurons, taking the closest one\n",
    "\n",
    "--- FOR NOW DO THIS:\n",
    "\n",
    "Strategy 1.5: greedy with best of 2\n",
    "1. Loop over v1 neurons, taking the closest two\n",
    "2. If the closest one is significantly closer, only keep that one\n",
    "\n",
    "\n",
    "Strategy 2: bipartite\n",
    "1. Loop over v0 or v1 neurons, getting distances to ~2 closest neighbors\n",
    "2. Bipartite matching on resulting graph"
   ]
  },
  {
   "cell_type": "code",
   "execution_count": 21,
   "id": "turned-buyer",
   "metadata": {},
   "outputs": [],
   "source": [
    "# Build tree to query v1 neurons\n",
    "num_n1, pc1_neuron, tree_n1 = build_neuron_tree(f1.neuron_locs, to_mirror=False)"
   ]
  },
  {
   "cell_type": "code",
   "execution_count": 22,
   "id": "incident-webcam",
   "metadata": {},
   "outputs": [
    {
     "data": {
      "text/plain": [
       "(PointCloud with 120 points., 120)"
      ]
     },
     "execution_count": 22,
     "metadata": {},
     "output_type": "execute_result"
    }
   ],
   "source": [
    "all_trans, len(f0.neuron_locs)"
   ]
  },
  {
   "cell_type": "code",
   "execution_count": 23,
   "id": "ruled-julian",
   "metadata": {},
   "outputs": [],
   "source": [
    "# Loop over locations of pushed v0 neurons\n",
    "all_matches = [] # Without confidence\n",
    "all_conf = []\n",
    "nn_opt = { 'radius':10.0, 'max_nn':1}\n",
    "verbose = 1\n",
    "dist_ratio = 1.5\n",
    "conf_func = lambda dist : 1.0 / (dist/10+1.0)\n",
    "for i, neuron in enumerate(np.array(all_trans.points)):\n",
    "    [k, two_neighbors, two_dist] = tree_n1.search_hybrid_vector_3d(neuron, **nn_opt)\n",
    "    if k==0:\n",
    "#         print(f\"No close neuron {i}\")\n",
    "        continue\n",
    "#     print(i, two_neighbors, two_dist)\n",
    "#     print(neuron, pc1_neuron.points[two_neighbors[0]])\n",
    "    \n",
    "    if k==1:\n",
    "        dist = two_dist[0]\n",
    "        i_match = two_neighbors[0]\n",
    "    else:\n",
    "        if two_dist[0]/two_dist[1] > dist_ratio:\n",
    "            dist = two_dist[1]\n",
    "            i_match = two_neighbors[1]\n",
    "        elif two_dist[1]/two_dist[0] > dist_ratio:\n",
    "            dist = two_dist[1]\n",
    "            i_match = two_neighbors[1]\n",
    "        else:\n",
    "            if verbose >= 2:\n",
    "                print(f\"Neuron {i} has two close neighbors\")\n",
    "            continue\n",
    "    \n",
    "    if verbose >= 2:\n",
    "        print(f\"Found good match for neuron {i}\")\n",
    "    all_matches.append([i, i_match])\n",
    "    all_conf.append(conf_func(dist))"
   ]
  },
  {
   "cell_type": "code",
   "execution_count": 24,
   "id": "beginning-london",
   "metadata": {},
   "outputs": [],
   "source": [
    "to_draw = visualize_tracks(f0.neuron_locs, f1.neuron_locs, all_matches)\n",
    "to_draw.append(all_lines)\n"
   ]
  },
  {
   "cell_type": "code",
   "execution_count": 108,
   "id": "secret-proportion",
   "metadata": {},
   "outputs": [],
   "source": [
    "o3d.visualization.draw_geometries(to_draw)"
   ]
  },
  {
   "cell_type": "code",
   "execution_count": 128,
   "id": "sustained-stations",
   "metadata": {},
   "outputs": [
    {
     "name": "stdout",
     "output_type": "stream",
     "text": [
      "[  4.         371.57849731 233.59176636] [ 14.         356.92935791 346.73193156]\n"
     ]
    }
   ],
   "source": [
    "# m = all_matches[3]\n",
    "m = [4, 26]\n",
    "n0 = f0.neuron_locs[m[0]]\n",
    "n1 = f1.neuron_locs[m[1]]\n",
    "print(n0, n1)"
   ]
  },
  {
   "cell_type": "markdown",
   "id": "further-lafayette",
   "metadata": {},
   "source": [
    "## Try 2 for set of matches: linear_sum_assignment"
   ]
  },
  {
   "cell_type": "code",
   "execution_count": 73,
   "id": "loved-peter",
   "metadata": {},
   "outputs": [],
   "source": [
    "xyz0 = np.array(all_trans.points)\n",
    "xyz1 = f1.neuron_locs\n",
    "\n",
    "matches_scipy = calc_bipartite_from_distance(xyz0, xyz1, max_dist=10)"
   ]
  },
  {
   "cell_type": "code",
   "execution_count": 75,
   "id": "introductory-treatment",
   "metadata": {},
   "outputs": [],
   "source": [
    "to_draw = visualize_tracks(f0.neuron_locs, f1.neuron_locs, matches_scipy)\n",
    "# to_draw.append(all_trans)\n",
    "# o3d.visualization.draw_geometries(to_draw)"
   ]
  },
  {
   "cell_type": "code",
   "execution_count": 42,
   "id": "spread-dylan",
   "metadata": {},
   "outputs": [],
   "source": [
    "# from scipy.spatial.distance import KDTree\n",
    "# from scipy.spatial import KDTree"
   ]
  },
  {
   "cell_type": "code",
   "execution_count": 44,
   "id": "hired-confidence",
   "metadata": {},
   "outputs": [],
   "source": [
    "# max_dist = 10\n",
    "# tree0 = KDTree(xyz0, leafsize=3)\n",
    "# tree1 = KDTree(xyz1, leafsize=3)\n",
    "# dist = tree0.sparse_distance_matrix(tree1, max_dist)\n"
   ]
  },
  {
   "cell_type": "code",
   "execution_count": 69,
   "id": "worthy-party",
   "metadata": {},
   "outputs": [
    {
     "data": {
      "text/plain": [
       "[[117, 85],\n",
       " [116, 28],\n",
       " [102, 130],\n",
       " [99, 86],\n",
       " [97, 88],\n",
       " [96, 97],\n",
       " [84, 107],\n",
       " [80, 14],\n",
       " [73, 106],\n",
       " [67, 36],\n",
       " [65, 55],\n",
       " [58, 17],\n",
       " [56, 66],\n",
       " [38, 12],\n",
       " [29, 72],\n",
       " [23, 33],\n",
       " [21, 31],\n",
       " [20, 73],\n",
       " [19, 11],\n",
       " [18, 92],\n",
       " [15, 68],\n",
       " [8, 9],\n",
       " [6, 43],\n",
       " [5, 18],\n",
       " [1, 26],\n",
       " [0, 6]]"
      ]
     },
     "execution_count": 69,
     "metadata": {},
     "output_type": "execute_result"
    }
   ],
   "source": [
    "from scipy.optimize import linear_sum_assignment\n",
    "from scipy.spatial.distance import cdist\n",
    "\n",
    "cost_matrix = cdist(np.array(xyz0), np.array(xyz1), 'euclidean')\n",
    "matches = linear_sum_assignment(cost_matrix)\n",
    "matches = [[m0, m1] for (m0, m1) in zip(matches[0], matches[1])]\n",
    "\n",
    "max_dist = 10.0\n",
    "match_dist = [cost_matrix[i,j] for (i,j) in matches]\n",
    "to_remove = [i for i, d in enumerate(match_dist) if d>max_dist]\n",
    "to_remove.reverse()\n",
    "[matches.pop(i) for i in to_remove]"
   ]
  },
  {
   "cell_type": "code",
   "execution_count": 70,
   "id": "personal-winner",
   "metadata": {},
   "outputs": [
    {
     "data": {
      "text/plain": [
       "[[2, 2],\n",
       " [3, 0],\n",
       " [4, 7],\n",
       " [7, 3],\n",
       " [9, 38],\n",
       " [10, 5],\n",
       " [11, 4],\n",
       " [12, 20],\n",
       " [13, 30],\n",
       " [14, 8],\n",
       " [16, 10],\n",
       " [17, 32],\n",
       " [22, 22],\n",
       " [24, 21],\n",
       " [25, 29],\n",
       " [26, 23],\n",
       " [27, 27],\n",
       " [28, 25],\n",
       " [30, 16],\n",
       " [31, 53],\n",
       " [32, 13],\n",
       " [33, 51],\n",
       " [34, 63],\n",
       " [35, 65],\n",
       " [36, 67],\n",
       " [37, 60],\n",
       " [39, 61],\n",
       " [40, 62],\n",
       " [41, 89],\n",
       " [42, 49],\n",
       " [43, 70],\n",
       " [44, 74],\n",
       " [45, 39],\n",
       " [46, 47],\n",
       " [47, 79],\n",
       " [48, 35],\n",
       " [49, 48],\n",
       " [50, 45],\n",
       " [51, 59],\n",
       " [52, 40],\n",
       " [53, 42],\n",
       " [54, 94],\n",
       " [55, 58],\n",
       " [57, 69],\n",
       " [59, 34],\n",
       " [60, 117],\n",
       " [61, 71],\n",
       " [62, 80],\n",
       " [63, 76],\n",
       " [64, 82],\n",
       " [66, 75],\n",
       " [68, 57],\n",
       " [69, 83],\n",
       " [70, 78],\n",
       " [71, 77],\n",
       " [72, 19],\n",
       " [74, 81],\n",
       " [75, 101],\n",
       " [76, 126],\n",
       " [77, 121],\n",
       " [78, 99],\n",
       " [79, 87],\n",
       " [81, 112],\n",
       " [82, 96],\n",
       " [83, 111],\n",
       " [85, 54],\n",
       " [86, 122],\n",
       " [87, 91],\n",
       " [88, 110],\n",
       " [89, 100],\n",
       " [90, 118],\n",
       " [91, 98],\n",
       " [92, 113],\n",
       " [93, 123],\n",
       " [94, 93],\n",
       " [95, 116],\n",
       " [98, 120],\n",
       " [100, 103],\n",
       " [101, 114],\n",
       " [103, 90],\n",
       " [104, 104],\n",
       " [105, 132],\n",
       " [106, 105],\n",
       " [107, 125],\n",
       " [108, 128],\n",
       " [109, 131],\n",
       " [110, 134],\n",
       " [111, 124],\n",
       " [112, 115],\n",
       " [113, 133],\n",
       " [114, 109],\n",
       " [115, 108],\n",
       " [118, 129],\n",
       " [119, 119]]"
      ]
     },
     "execution_count": 70,
     "metadata": {},
     "output_type": "execute_result"
    }
   ],
   "source": [
    "matches"
   ]
  },
  {
   "cell_type": "markdown",
   "id": "backed-dance",
   "metadata": {},
   "source": [
    "# Full video"
   ]
  },
  {
   "cell_type": "code",
   "execution_count": 179,
   "id": "italian-refund",
   "metadata": {},
   "outputs": [
    {
     "name": "stderr",
     "output_type": "stream",
     "text": [
      "  1%|▋                                                                               | 4/499 [00:48<1:39:54, 12.11s/it]"
     ]
    },
    {
     "name": "stdout",
     "output_type": "stream",
     "text": [
      "[Open3D WARNING] [KDTreeFlann::SetRawData] Failed due to no data.\n"
     ]
    },
    {
     "name": "stderr",
     "output_type": "stream",
     "text": [
      "  1%|▉                                                                               | 6/499 [01:10<1:33:52, 11.43s/it]"
     ]
    },
    {
     "name": "stdout",
     "output_type": "stream",
     "text": [
      "[Open3D WARNING] [KDTreeFlann::SetRawData] Failed due to no data.\n"
     ]
    },
    {
     "name": "stderr",
     "output_type": "stream",
     "text": [
      "  2%|█▎                                                                              | 8/499 [01:33<1:33:47, 11.46s/it]"
     ]
    },
    {
     "name": "stdout",
     "output_type": "stream",
     "text": [
      "[Open3D WARNING] [KDTreeFlann::SetRawData] Failed due to no data.\n"
     ]
    },
    {
     "name": "stderr",
     "output_type": "stream",
     "text": [
      " 35%|███████████████████████████▌                                                  | 176/499 [35:40<1:03:04, 11.72s/it]"
     ]
    },
    {
     "name": "stdout",
     "output_type": "stream",
     "text": [
      "[Open3D WARNING] [KDTreeFlann::SetRawData] Failed due to no data.\n"
     ]
    },
    {
     "name": "stderr",
     "output_type": "stream",
     "text": [
      " 36%|████████████████████████████▏                                                 | 180/499 [36:27<1:02:13, 11.70s/it]"
     ]
    },
    {
     "name": "stdout",
     "output_type": "stream",
     "text": [
      "[Open3D WARNING] [KDTreeFlann::SetRawData] Failed due to no data.\n"
     ]
    },
    {
     "name": "stderr",
     "output_type": "stream",
     "text": [
      "\r",
      " 36%|████████████████████████████▎                                                 | 181/499 [36:39<1:02:04, 11.71s/it]"
     ]
    },
    {
     "name": "stdout",
     "output_type": "stream",
     "text": [
      "[Open3D WARNING] [KDTreeFlann::SetRawData] Failed due to no data.\n"
     ]
    },
    {
     "name": "stderr",
     "output_type": "stream",
     "text": [
      " 40%|████████████████████████████████▏                                               | 201/499 [40:34<58:26, 11.77s/it]"
     ]
    },
    {
     "name": "stdout",
     "output_type": "stream",
     "text": [
      "[Open3D WARNING] [KDTreeFlann::SetRawData] Failed due to no data.\n"
     ]
    },
    {
     "name": "stderr",
     "output_type": "stream",
     "text": [
      "\r",
      " 40%|████████████████████████████████▍                                               | 202/499 [40:46<58:42, 11.86s/it]"
     ]
    },
    {
     "name": "stdout",
     "output_type": "stream",
     "text": [
      "[Open3D WARNING] [KDTreeFlann::SetRawData] Failed due to no data.\n"
     ]
    },
    {
     "name": "stderr",
     "output_type": "stream",
     "text": [
      " 55%|███████████████████████████████████████████▊                                    | 273/499 [55:12<46:53, 12.45s/it]"
     ]
    },
    {
     "name": "stdout",
     "output_type": "stream",
     "text": [
      "[Open3D WARNING] [KDTreeFlann::SetRawData] Failed due to no data.\n"
     ]
    },
    {
     "name": "stderr",
     "output_type": "stream",
     "text": [
      " 56%|█████████████████████████████████████████████                                   | 281/499 [56:58<52:09, 14.35s/it]"
     ]
    },
    {
     "name": "stdout",
     "output_type": "stream",
     "text": [
      "[Open3D WARNING] [KDTreeFlann::SetRawData] Failed due to no data.\n"
     ]
    },
    {
     "name": "stderr",
     "output_type": "stream",
     "text": [
      "\r",
      " 57%|█████████████████████████████████████████████▏                                  | 282/499 [57:13<53:16, 14.73s/it]"
     ]
    },
    {
     "name": "stdout",
     "output_type": "stream",
     "text": [
      "[Open3D WARNING] [KDTreeFlann::SetRawData] Failed due to no data.\n"
     ]
    },
    {
     "name": "stderr",
     "output_type": "stream",
     "text": [
      " 57%|█████████████████████████████████████████████▌                                  | 284/499 [57:37<47:15, 13.19s/it]"
     ]
    },
    {
     "name": "stdout",
     "output_type": "stream",
     "text": [
      "[Open3D WARNING] [KDTreeFlann::SetRawData] Failed due to no data.\n"
     ]
    },
    {
     "name": "stderr",
     "output_type": "stream",
     "text": [
      "\r",
      " 57%|█████████████████████████████████████████████▋                                  | 285/499 [57:52<49:53, 13.99s/it]"
     ]
    },
    {
     "name": "stdout",
     "output_type": "stream",
     "text": [
      "[Open3D WARNING] [KDTreeFlann::SetRawData] Failed due to no data.\n"
     ]
    },
    {
     "name": "stderr",
     "output_type": "stream",
     "text": [
      " 58%|██████████████████████████████████████████████▎                                 | 289/499 [58:45<45:25, 12.98s/it]"
     ]
    },
    {
     "name": "stdout",
     "output_type": "stream",
     "text": [
      "[Open3D WARNING] [KDTreeFlann::SetRawData] Failed due to no data.\n"
     ]
    },
    {
     "name": "stderr",
     "output_type": "stream",
     "text": [
      " 59%|██████████████████████████████████████████████▊                                 | 292/499 [59:21<41:58, 12.17s/it]"
     ]
    },
    {
     "name": "stdout",
     "output_type": "stream",
     "text": [
      "[Open3D WARNING] [KDTreeFlann::SetRawData] Failed due to no data.\n"
     ]
    },
    {
     "name": "stderr",
     "output_type": "stream",
     "text": [
      " 63%|█████████████████████████████████████████████████▍                            | 316/499 [1:04:07<35:48, 11.74s/it]"
     ]
    },
    {
     "name": "stdout",
     "output_type": "stream",
     "text": [
      "[Open3D WARNING] [KDTreeFlann::SetRawData] Failed due to no data.\n"
     ]
    },
    {
     "name": "stderr",
     "output_type": "stream",
     "text": [
      " 68%|████████████████████████████████████████████████████▊                         | 338/499 [1:08:30<32:07, 11.97s/it]"
     ]
    },
    {
     "name": "stdout",
     "output_type": "stream",
     "text": [
      "[Open3D WARNING] [KDTreeFlann::SetRawData] Failed due to no data.\n"
     ]
    },
    {
     "name": "stderr",
     "output_type": "stream",
     "text": [
      " 71%|███████████████████████████████████████████████████████▋                      | 356/499 [1:12:07<28:51, 12.11s/it]"
     ]
    },
    {
     "name": "stdout",
     "output_type": "stream",
     "text": [
      "[Open3D WARNING] [KDTreeFlann::SetRawData] Failed due to no data.\n"
     ]
    },
    {
     "name": "stderr",
     "output_type": "stream",
     "text": [
      " 86%|███████████████████████████████████████████████████████████████████▎          | 431/499 [1:31:23<18:11, 16.05s/it]"
     ]
    },
    {
     "name": "stdout",
     "output_type": "stream",
     "text": [
      "[Open3D WARNING] [KDTreeFlann::SetRawData] Failed due to no data.\n"
     ]
    },
    {
     "name": "stderr",
     "output_type": "stream",
     "text": [
      " 87%|███████████████████████████████████████████████████████████████████▋          | 433/499 [1:31:58<18:51, 17.15s/it]"
     ]
    },
    {
     "name": "stdout",
     "output_type": "stream",
     "text": [
      "[Open3D WARNING] [KDTreeFlann::SetRawData] Failed due to no data.\n"
     ]
    },
    {
     "name": "stderr",
     "output_type": "stream",
     "text": [
      " 90%|██████████████████████████████████████████████████████████████████████▍       | 451/499 [1:36:01<09:37, 12.03s/it]"
     ]
    },
    {
     "name": "stdout",
     "output_type": "stream",
     "text": [
      "[Open3D WARNING] [KDTreeFlann::SetRawData] Failed due to no data.\n"
     ]
    },
    {
     "name": "stderr",
     "output_type": "stream",
     "text": [
      "\r",
      " 91%|██████████████████████████████████████████████████████████████████████▋       | 452/499 [1:36:13<09:24, 12.00s/it]"
     ]
    },
    {
     "name": "stdout",
     "output_type": "stream",
     "text": [
      "[Open3D WARNING] [KDTreeFlann::SetRawData] Failed due to no data.\n"
     ]
    },
    {
     "name": "stderr",
     "output_type": "stream",
     "text": [
      " 92%|███████████████████████████████████████████████████████████████████████▍      | 457/499 [1:37:14<08:29, 12.14s/it]"
     ]
    },
    {
     "name": "stdout",
     "output_type": "stream",
     "text": [
      "[Open3D WARNING] [KDTreeFlann::SetRawData] Failed due to no data.\n"
     ]
    },
    {
     "name": "stderr",
     "output_type": "stream",
     "text": [
      "\r",
      " 92%|███████████████████████████████████████████████████████████████████████▌      | 458/499 [1:37:26<08:19, 12.18s/it]"
     ]
    },
    {
     "name": "stdout",
     "output_type": "stream",
     "text": [
      "[Open3D WARNING] [KDTreeFlann::SetRawData] Failed due to no data.\n"
     ]
    },
    {
     "name": "stderr",
     "output_type": "stream",
     "text": [
      " 93%|████████████████████████████████████████████████████████████████████████▌     | 464/499 [1:38:38<07:00, 12.02s/it]"
     ]
    },
    {
     "name": "stdout",
     "output_type": "stream",
     "text": [
      "[Open3D WARNING] [KDTreeFlann::SetRawData] Failed due to no data.\n"
     ]
    },
    {
     "name": "stderr",
     "output_type": "stream",
     "text": [
      "\r",
      " 93%|████████████████████████████████████████████████████████████████████████▋     | 465/499 [1:38:50<06:48, 12.02s/it]"
     ]
    },
    {
     "name": "stdout",
     "output_type": "stream",
     "text": [
      "[Open3D WARNING] [KDTreeFlann::SetRawData] Failed due to no data.\n"
     ]
    },
    {
     "name": "stderr",
     "output_type": "stream",
     "text": [
      "\r",
      " 93%|████████████████████████████████████████████████████████████████████████▊     | 466/499 [1:39:02<06:37, 12.05s/it]"
     ]
    },
    {
     "name": "stdout",
     "output_type": "stream",
     "text": [
      "[Open3D WARNING] [KDTreeFlann::SetRawData] Failed due to no data.\n"
     ]
    },
    {
     "name": "stderr",
     "output_type": "stream",
     "text": [
      "\r",
      " 94%|████████████████████████████████████████████████████████████████████████▉     | 467/499 [1:39:14<06:24, 12.01s/it]"
     ]
    },
    {
     "name": "stdout",
     "output_type": "stream",
     "text": [
      "[Open3D WARNING] [KDTreeFlann::SetRawData] Failed due to no data.\n"
     ]
    },
    {
     "name": "stderr",
     "output_type": "stream",
     "text": [
      " 95%|█████████████████████████████████████████████████████████████████████████▊    | 472/499 [1:40:15<05:28, 12.17s/it]"
     ]
    },
    {
     "name": "stdout",
     "output_type": "stream",
     "text": [
      "[Open3D WARNING] [KDTreeFlann::SetRawData] Failed due to no data.\n"
     ]
    },
    {
     "name": "stderr",
     "output_type": "stream",
     "text": [
      "\r",
      " 95%|█████████████████████████████████████████████████████████████████████████▉    | 473/499 [1:40:27<05:17, 12.23s/it]"
     ]
    },
    {
     "name": "stdout",
     "output_type": "stream",
     "text": [
      "[Open3D WARNING] [KDTreeFlann::SetRawData] Failed due to no data.\n",
      "[Open3D WARNING] [KDTreeFlann::SetRawData] Failed due to no data.\n"
     ]
    },
    {
     "name": "stderr",
     "output_type": "stream",
     "text": [
      " 95%|██████████████████████████████████████████████████████████████████████████▏   | 475/499 [1:40:52<04:55, 12.30s/it]"
     ]
    },
    {
     "name": "stdout",
     "output_type": "stream",
     "text": [
      "[Open3D WARNING] [KDTreeFlann::SetRawData] Failed due to no data.\n"
     ]
    },
    {
     "name": "stderr",
     "output_type": "stream",
     "text": [
      " 97%|███████████████████████████████████████████████████████████████████████████▍  | 483/499 [1:42:28<03:12, 12.02s/it]"
     ]
    },
    {
     "name": "stdout",
     "output_type": "stream",
     "text": [
      "[Open3D WARNING] [KDTreeFlann::SetRawData] Failed due to no data.\n"
     ]
    },
    {
     "name": "stderr",
     "output_type": "stream",
     "text": [
      "\r",
      " 97%|███████████████████████████████████████████████████████████████████████████▋  | 484/499 [1:42:41<03:02, 12.14s/it]"
     ]
    },
    {
     "name": "stdout",
     "output_type": "stream",
     "text": [
      "[Open3D WARNING] [KDTreeFlann::SetRawData] Failed due to no data.\n"
     ]
    },
    {
     "name": "stderr",
     "output_type": "stream",
     "text": [
      " 97%|███████████████████████████████████████████████████████████████████████████▉  | 486/499 [1:43:05<02:38, 12.20s/it]"
     ]
    },
    {
     "name": "stdout",
     "output_type": "stream",
     "text": [
      "[Open3D WARNING] [KDTreeFlann::SetRawData] Failed due to no data.\n"
     ]
    },
    {
     "name": "stderr",
     "output_type": "stream",
     "text": [
      "\r",
      " 98%|████████████████████████████████████████████████████████████████████████████  | 487/499 [1:43:18<02:26, 12.19s/it]"
     ]
    },
    {
     "name": "stdout",
     "output_type": "stream",
     "text": [
      "[Open3D WARNING] [KDTreeFlann::SetRawData] Failed due to no data.\n"
     ]
    },
    {
     "name": "stderr",
     "output_type": "stream",
     "text": [
      "\r",
      " 98%|████████████████████████████████████████████████████████████████████████████▎ | 488/499 [1:43:30<02:13, 12.13s/it]"
     ]
    },
    {
     "name": "stdout",
     "output_type": "stream",
     "text": [
      "[Open3D WARNING] [KDTreeFlann::SetRawData] Failed due to no data.\n"
     ]
    },
    {
     "name": "stderr",
     "output_type": "stream",
     "text": [
      "\r",
      " 98%|████████████████████████████████████████████████████████████████████████████▍ | 489/499 [1:43:42<02:01, 12.11s/it]"
     ]
    },
    {
     "name": "stdout",
     "output_type": "stream",
     "text": [
      "[Open3D WARNING] [KDTreeFlann::SetRawData] Failed due to no data.\n"
     ]
    },
    {
     "name": "stderr",
     "output_type": "stream",
     "text": [
      "\r",
      " 98%|████████████████████████████████████████████████████████████████████████████▌ | 490/499 [1:43:54<01:49, 12.11s/it]"
     ]
    },
    {
     "name": "stdout",
     "output_type": "stream",
     "text": [
      "[Open3D WARNING] [KDTreeFlann::SetRawData] Failed due to no data.\n"
     ]
    },
    {
     "name": "stderr",
     "output_type": "stream",
     "text": [
      "\r",
      " 98%|████████████████████████████████████████████████████████████████████████████▋ | 491/499 [1:44:06<01:36, 12.12s/it]"
     ]
    },
    {
     "name": "stdout",
     "output_type": "stream",
     "text": [
      "[Open3D WARNING] [KDTreeFlann::SetRawData] Failed due to no data.\n",
      "[Open3D WARNING] [KDTreeFlann::SetRawData] Failed due to no data.\n"
     ]
    },
    {
     "name": "stderr",
     "output_type": "stream",
     "text": [
      " 99%|█████████████████████████████████████████████████████████████████████████████ | 493/499 [1:44:30<01:12, 12.08s/it]"
     ]
    },
    {
     "name": "stdout",
     "output_type": "stream",
     "text": [
      "[Open3D WARNING] [KDTreeFlann::SetRawData] Failed due to no data.\n"
     ]
    },
    {
     "name": "stderr",
     "output_type": "stream",
     "text": [
      "\r",
      " 99%|█████████████████████████████████████████████████████████████████████████████▏| 494/499 [1:44:42<01:00, 12.07s/it]"
     ]
    },
    {
     "name": "stdout",
     "output_type": "stream",
     "text": [
      "[Open3D WARNING] [KDTreeFlann::SetRawData] Failed due to no data.\n"
     ]
    },
    {
     "name": "stderr",
     "output_type": "stream",
     "text": [
      "\r",
      " 99%|█████████████████████████████████████████████████████████████████████████████▎| 495/499 [1:44:54<00:48, 12.08s/it]"
     ]
    },
    {
     "name": "stdout",
     "output_type": "stream",
     "text": [
      "[Open3D WARNING] [KDTreeFlann::SetRawData] Failed due to no data.\n"
     ]
    },
    {
     "name": "stderr",
     "output_type": "stream",
     "text": [
      "100%|██████████████████████████████████████████████████████████████████████████████| 499/499 [1:45:42<00:00, 12.71s/it]\n"
     ]
    }
   ],
   "source": [
    "# Now, full fv\n",
    "out = track_neurons_full_video(btf_fname_red,\n",
    "                             start_frame=0,\n",
    "                             num_frames=500,\n",
    "                             num_slices=33,\n",
    "                             alpha=0.15,\n",
    "                             neuron_feature_radius=5.0,\n",
    "                             do_mini_max_projections=False,\n",
    "                             use_affine_matching=True)"
   ]
  },
  {
   "cell_type": "code",
   "execution_count": 180,
   "id": "plain-depth",
   "metadata": {},
   "outputs": [],
   "source": [
    "all_matches, all_conf, all_frames = out\n",
    "clust_df = build_tracklets_from_classes(all_frames, all_matches, all_conf, verbose=0)"
   ]
  },
  {
   "cell_type": "code",
   "execution_count": 181,
   "id": "motivated-camera",
   "metadata": {},
   "outputs": [],
   "source": [
    "import pickle\n",
    "fname = 'clust_df_dat_affine_nominimax.pickle'\n",
    "with open(fname, 'wb') as f:\n",
    "    pickle.dump(clust_df,f)"
   ]
  },
  {
   "cell_type": "code",
   "execution_count": null,
   "id": "periodic-packaging",
   "metadata": {},
   "outputs": [],
   "source": [
    "i = 4\n",
    "print(clust_df.at[i, 'slice_ind'])\n",
    "print(clust_df.at[i, 'all_ind_local'])\n",
    "print(clust_df.at[i, 'all_prob'])\n",
    "clust_df.at[i,'all_xyz']"
   ]
  },
  {
   "cell_type": "code",
   "execution_count": 146,
   "id": "limiting-species",
   "metadata": {},
   "outputs": [
    {
     "name": "stdout",
     "output_type": "stream",
     "text": [
      "[  4.         364.75       291.36237793] [  8.         470.08862644 223.30122545]\n"
     ]
    }
   ],
   "source": [
    "m = [4, 26]\n",
    "n0 = all_frames[0].neuron_locs[m[0]]\n",
    "n1 = all_frames[1].neuron_locs[m[1]]\n",
    "print(n0, n1)"
   ]
  },
  {
   "cell_type": "code",
   "execution_count": 178,
   "id": "meaning-prior",
   "metadata": {},
   "outputs": [
    {
     "data": {
      "text/html": [
       "<div>\n",
       "<style scoped>\n",
       "    .dataframe tbody tr th:only-of-type {\n",
       "        vertical-align: middle;\n",
       "    }\n",
       "\n",
       "    .dataframe tbody tr th {\n",
       "        vertical-align: top;\n",
       "    }\n",
       "\n",
       "    .dataframe thead th {\n",
       "        text-align: right;\n",
       "    }\n",
       "</style>\n",
       "<table border=\"1\" class=\"dataframe\">\n",
       "  <thead>\n",
       "    <tr style=\"text-align: right;\">\n",
       "      <th></th>\n",
       "      <th>clust_ind</th>\n",
       "      <th>all_ind_local</th>\n",
       "      <th>all_ind_global</th>\n",
       "      <th>all_xyz</th>\n",
       "      <th>all_prob</th>\n",
       "      <th>slice_ind</th>\n",
       "      <th>extended_this_slice</th>\n",
       "      <th>not_finished</th>\n",
       "    </tr>\n",
       "  </thead>\n",
       "  <tbody>\n",
       "    <tr>\n",
       "      <th>0</th>\n",
       "      <td>0</td>\n",
       "      <td>[12, 54, 27]</td>\n",
       "      <td>[12, 256, 416]</td>\n",
       "      <td>[[9.5, 440.61496353149414, 227.7713222503662],...</td>\n",
       "      <td>[0.6971265294625079, 0.9757246599386857]</td>\n",
       "      <td>[0, 1, 2]</td>\n",
       "      <td>False</td>\n",
       "      <td>False</td>\n",
       "    </tr>\n",
       "    <tr>\n",
       "      <th>1</th>\n",
       "      <td>1</td>\n",
       "      <td>[46, 16]</td>\n",
       "      <td>[46, 218]</td>\n",
       "      <td>[[6.0, 405.4782952202691, 269.23348659939234],...</td>\n",
       "      <td>[0.8531702536005109]</td>\n",
       "      <td>[0, 1]</td>\n",
       "      <td>False</td>\n",
       "      <td>False</td>\n",
       "    </tr>\n",
       "    <tr>\n",
       "      <th>2</th>\n",
       "      <td>2</td>\n",
       "      <td>[56, 10]</td>\n",
       "      <td>[56, 212]</td>\n",
       "      <td>[[7.0, 372.4322916666667, 301.4625481499566], ...</td>\n",
       "      <td>[0.7437136778305012]</td>\n",
       "      <td>[0, 1]</td>\n",
       "      <td>False</td>\n",
       "      <td>False</td>\n",
       "    </tr>\n",
       "    <tr>\n",
       "      <th>3</th>\n",
       "      <td>3</td>\n",
       "      <td>[59, 19, 6]</td>\n",
       "      <td>[59, 221, 395]</td>\n",
       "      <td>[[7.5, 415.73460388183594, 228.13738505045572]...</td>\n",
       "      <td>[0.8217044091495858, 0.7152378711616665]</td>\n",
       "      <td>[0, 1, 2]</td>\n",
       "      <td>False</td>\n",
       "      <td>False</td>\n",
       "    </tr>\n",
       "    <tr>\n",
       "      <th>4</th>\n",
       "      <td>4</td>\n",
       "      <td>[61, 12]</td>\n",
       "      <td>[61, 214]</td>\n",
       "      <td>[[10.5, 424.26441701253253, 239.15997823079428...</td>\n",
       "      <td>[0.7519919277968684]</td>\n",
       "      <td>[0, 1]</td>\n",
       "      <td>False</td>\n",
       "      <td>False</td>\n",
       "    </tr>\n",
       "    <tr>\n",
       "      <th>...</th>\n",
       "      <td>...</td>\n",
       "      <td>...</td>\n",
       "      <td>...</td>\n",
       "      <td>...</td>\n",
       "      <td>...</td>\n",
       "      <td>...</td>\n",
       "      <td>...</td>\n",
       "      <td>...</td>\n",
       "    </tr>\n",
       "    <tr>\n",
       "      <th>14483</th>\n",
       "      <td>14483</td>\n",
       "      <td>[107, 124]</td>\n",
       "      <td>[77923, 78073]</td>\n",
       "      <td>[[22.5, 387.4120819091797, 313.207177734375], ...</td>\n",
       "      <td>[0.7926921801850423]</td>\n",
       "      <td>[498, 499]</td>\n",
       "      <td>True</td>\n",
       "      <td>True</td>\n",
       "    </tr>\n",
       "    <tr>\n",
       "      <th>14484</th>\n",
       "      <td>14484</td>\n",
       "      <td>[116, 117]</td>\n",
       "      <td>[77932, 78066]</td>\n",
       "      <td>[[24.5, 449.2133305867513, 290.6131947835286],...</td>\n",
       "      <td>[0.8805861942045736]</td>\n",
       "      <td>[498, 499]</td>\n",
       "      <td>True</td>\n",
       "      <td>True</td>\n",
       "    </tr>\n",
       "    <tr>\n",
       "      <th>14485</th>\n",
       "      <td>14485</td>\n",
       "      <td>[118, 131]</td>\n",
       "      <td>[77934, 78080]</td>\n",
       "      <td>[[25.0, 399.94436922940343, 255.39791870117188...</td>\n",
       "      <td>[0.8436342044967696]</td>\n",
       "      <td>[498, 499]</td>\n",
       "      <td>True</td>\n",
       "      <td>True</td>\n",
       "    </tr>\n",
       "    <tr>\n",
       "      <th>14486</th>\n",
       "      <td>14486</td>\n",
       "      <td>[121, 114]</td>\n",
       "      <td>[77937, 78063]</td>\n",
       "      <td>[[24.0, 394.79122488839283, 320.8195234026228]...</td>\n",
       "      <td>[0.7801511030629661]</td>\n",
       "      <td>[498, 499]</td>\n",
       "      <td>True</td>\n",
       "      <td>True</td>\n",
       "    </tr>\n",
       "    <tr>\n",
       "      <th>14487</th>\n",
       "      <td>14487</td>\n",
       "      <td>[132, 138]</td>\n",
       "      <td>[77948, 78087]</td>\n",
       "      <td>[[30.5, 410.7922134399414, 281.0909652709961],...</td>\n",
       "      <td>[0.9684770013653845]</td>\n",
       "      <td>[498, 499]</td>\n",
       "      <td>True</td>\n",
       "      <td>True</td>\n",
       "    </tr>\n",
       "  </tbody>\n",
       "</table>\n",
       "<p>14488 rows × 8 columns</p>\n",
       "</div>"
      ],
      "text/plain": [
       "      clust_ind all_ind_local  all_ind_global  \\\n",
       "0             0  [12, 54, 27]  [12, 256, 416]   \n",
       "1             1      [46, 16]       [46, 218]   \n",
       "2             2      [56, 10]       [56, 212]   \n",
       "3             3   [59, 19, 6]  [59, 221, 395]   \n",
       "4             4      [61, 12]       [61, 214]   \n",
       "...         ...           ...             ...   \n",
       "14483     14483    [107, 124]  [77923, 78073]   \n",
       "14484     14484    [116, 117]  [77932, 78066]   \n",
       "14485     14485    [118, 131]  [77934, 78080]   \n",
       "14486     14486    [121, 114]  [77937, 78063]   \n",
       "14487     14487    [132, 138]  [77948, 78087]   \n",
       "\n",
       "                                                 all_xyz  \\\n",
       "0      [[9.5, 440.61496353149414, 227.7713222503662],...   \n",
       "1      [[6.0, 405.4782952202691, 269.23348659939234],...   \n",
       "2      [[7.0, 372.4322916666667, 301.4625481499566], ...   \n",
       "3      [[7.5, 415.73460388183594, 228.13738505045572]...   \n",
       "4      [[10.5, 424.26441701253253, 239.15997823079428...   \n",
       "...                                                  ...   \n",
       "14483  [[22.5, 387.4120819091797, 313.207177734375], ...   \n",
       "14484  [[24.5, 449.2133305867513, 290.6131947835286],...   \n",
       "14485  [[25.0, 399.94436922940343, 255.39791870117188...   \n",
       "14486  [[24.0, 394.79122488839283, 320.8195234026228]...   \n",
       "14487  [[30.5, 410.7922134399414, 281.0909652709961],...   \n",
       "\n",
       "                                       all_prob   slice_ind  \\\n",
       "0      [0.6971265294625079, 0.9757246599386857]   [0, 1, 2]   \n",
       "1                          [0.8531702536005109]      [0, 1]   \n",
       "2                          [0.7437136778305012]      [0, 1]   \n",
       "3      [0.8217044091495858, 0.7152378711616665]   [0, 1, 2]   \n",
       "4                          [0.7519919277968684]      [0, 1]   \n",
       "...                                         ...         ...   \n",
       "14483                      [0.7926921801850423]  [498, 499]   \n",
       "14484                      [0.8805861942045736]  [498, 499]   \n",
       "14485                      [0.8436342044967696]  [498, 499]   \n",
       "14486                      [0.7801511030629661]  [498, 499]   \n",
       "14487                      [0.9684770013653845]  [498, 499]   \n",
       "\n",
       "       extended_this_slice not_finished  \n",
       "0                    False        False  \n",
       "1                    False        False  \n",
       "2                    False        False  \n",
       "3                    False        False  \n",
       "4                    False        False  \n",
       "...                    ...          ...  \n",
       "14483                 True         True  \n",
       "14484                 True         True  \n",
       "14485                 True         True  \n",
       "14486                 True         True  \n",
       "14487                 True         True  \n",
       "\n",
       "[14488 rows x 8 columns]"
      ]
     },
     "execution_count": 178,
     "metadata": {},
     "output_type": "execute_result"
    }
   ],
   "source": [
    "clust_df"
   ]
  },
  {
   "cell_type": "markdown",
   "id": "congressional-henry",
   "metadata": {},
   "source": [
    "# Are the point clouds the same between the full function and this notebook?"
   ]
  },
  {
   "cell_type": "code",
   "execution_count": 148,
   "id": "downtown-investing",
   "metadata": {},
   "outputs": [
    {
     "data": {
      "text/plain": [
       "PointCloud with 202 points."
      ]
     },
     "execution_count": 148,
     "metadata": {},
     "output_type": "execute_result"
    }
   ],
   "source": [
    "# This notebook\n",
    "\n",
    "pc0_neuron = o3d.geometry.PointCloud()\n",
    "pc0_neuron.points = o3d.utility.Vector3dVector(f0.neuron_locs)\n",
    "pc0_neuron.paint_uniform_color([0.5,0.5,0.5])\n",
    "\n",
    "pc0_vid = o3d.geometry.PointCloud()\n",
    "pc0_vid.points = o3d.utility.Vector3dVector(all_frames[0].neuron_locs)\n",
    "pc0_vid.paint_uniform_color([0,0,0])"
   ]
  },
  {
   "cell_type": "code",
   "execution_count": 150,
   "id": "drawn-invasion",
   "metadata": {},
   "outputs": [],
   "source": [
    "# o3d.visualization.draw_geometries([pc0_neuron, pc0_vid])"
   ]
  },
  {
   "cell_type": "code",
   "execution_count": 168,
   "id": "given-worse",
   "metadata": {},
   "outputs": [
    {
     "data": {
      "text/plain": [
       "[LineSet with 98 lines.,\n",
       " PointCloud with 200 points.,\n",
       " PointCloud with 277 points.]"
      ]
     },
     "execution_count": 168,
     "metadata": {},
     "output_type": "execute_result"
    }
   ],
   "source": [
    "# Visualize matches in the video\n",
    "k = (2,3)\n",
    "visualize_tracks(all_frames[k[0]].neuron_locs, all_frames[k[1]].neuron_locs, all_matches[k])"
   ]
  },
  {
   "cell_type": "code",
   "execution_count": null,
   "id": "inclusive-indie",
   "metadata": {},
   "outputs": [],
   "source": [
    "detect_neurons_using_ICP()"
   ]
  }
 ],
 "metadata": {
  "kernelspec": {
   "display_name": "Python [conda env:track_using_features] *",
   "language": "python",
   "name": "conda-env-track_using_features-py"
  },
  "language_info": {
   "codemirror_mode": {
    "name": "ipython",
    "version": 3
   },
   "file_extension": ".py",
   "mimetype": "text/x-python",
   "name": "python",
   "nbconvert_exporter": "python",
   "pygments_lexer": "ipython3",
   "version": "3.7.9"
  }
 },
 "nbformat": 4,
 "nbformat_minor": 5
}
