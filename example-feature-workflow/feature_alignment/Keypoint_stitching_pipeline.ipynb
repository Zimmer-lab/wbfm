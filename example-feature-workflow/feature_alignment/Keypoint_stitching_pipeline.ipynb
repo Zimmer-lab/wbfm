{
 "cells": [
  {
   "cell_type": "code",
   "execution_count": 119,
   "id": "advised-bedroom",
   "metadata": {},
   "outputs": [
    {
     "name": "stdout",
     "output_type": "stream",
     "text": [
      "The autoreload extension is already loaded. To reload it, use:\n",
      "  %reload_ext autoreload\n"
     ]
    }
   ],
   "source": [
    "import os\n",
    "import numpy as np\n",
    "import matplotlib.pyplot as plt\n",
    "import open3d as o3d\n",
    "import pandas as pd\n",
    "%load_ext autoreload\n",
    "%autoreload 2\n",
    "import pickle\n",
    "\n",
    "from DLC_for_WBFM.utils.feature_detection.utils_keypoint_matching import *"
   ]
  },
  {
   "cell_type": "code",
   "execution_count": 199,
   "id": "better-payday",
   "metadata": {},
   "outputs": [],
   "source": [
    "which_suffix = 'prealigned'\n",
    "\n",
    "fname = f'clust_df_dat_{which_suffix}.pickle'\n",
    "with open(fname, 'rb') as f:\n",
    "    clust_df = pickle.load(f)\n",
    "    \n",
    "fname = f'frame_dat_{which_suffix}.pickle'\n",
    "with open(fname, 'rb') as f:\n",
    "    all_frames = pickle.load(f)"
   ]
  },
  {
   "cell_type": "markdown",
   "id": "suffering-exploration",
   "metadata": {},
   "source": [
    "## Do everything in 100 frame chunks"
   ]
  },
  {
   "cell_type": "code",
   "execution_count": 66,
   "id": "raised-matter",
   "metadata": {},
   "outputs": [],
   "source": [
    "all_window_matches = []\n",
    "all_starts = list(range(0,401,50))\n",
    "window_length = 99"
   ]
  },
  {
   "cell_type": "code",
   "execution_count": 69,
   "id": "characteristic-assurance",
   "metadata": {
    "scrolled": true
   },
   "outputs": [
    {
     "name": "stderr",
     "output_type": "stream",
     "text": [
      "  1%|▌                                                                                 | 7/1092 [00:00<00:20, 52.11it/s]"
     ]
    },
    {
     "name": "stdout",
     "output_type": "stream",
     "text": [
      "Calculating features for all tracklets\n"
     ]
    },
    {
     "name": "stderr",
     "output_type": "stream",
     "text": [
      "100%|███████████████████████████████████████████████████████████████████████████████| 1092/1092 [00:14<00:00, 74.41it/s]\n",
      "100%|███████████████████████████████████████████████████████████████████████████████| 1092/1092 [06:57<00:00,  2.62it/s]\n",
      "  0%|                                                                                  | 1/1024 [00:00<02:32,  6.69it/s]"
     ]
    },
    {
     "name": "stdout",
     "output_type": "stream",
     "text": [
      "Calculating features for all tracklets\n"
     ]
    },
    {
     "name": "stderr",
     "output_type": "stream",
     "text": [
      "100%|███████████████████████████████████████████████████████████████████████████████| 1024/1024 [00:21<00:00, 48.25it/s]\n",
      "100%|███████████████████████████████████████████████████████████████████████████████| 1024/1024 [07:05<00:00,  2.41it/s]\n",
      "  0%|                                                                                   | 1/899 [00:00<01:33,  9.62it/s]"
     ]
    },
    {
     "name": "stdout",
     "output_type": "stream",
     "text": [
      "Calculating features for all tracklets\n"
     ]
    },
    {
     "name": "stderr",
     "output_type": "stream",
     "text": [
      "100%|█████████████████████████████████████████████████████████████████████████████████| 899/899 [00:22<00:00, 39.24it/s]\n",
      "100%|█████████████████████████████████████████████████████████████████████████████████| 899/899 [05:50<00:00,  2.56it/s]\n",
      "  0%|                                                                                           | 0/798 [00:00<?, ?it/s]"
     ]
    },
    {
     "name": "stdout",
     "output_type": "stream",
     "text": [
      "Calculating features for all tracklets\n"
     ]
    },
    {
     "name": "stderr",
     "output_type": "stream",
     "text": [
      "100%|█████████████████████████████████████████████████████████████████████████████████| 798/798 [00:27<00:00, 28.65it/s]\n",
      "100%|█████████████████████████████████████████████████████████████████████████████████| 798/798 [04:07<00:00,  3.22it/s]\n",
      "  0%|                                                                                   | 1/789 [00:00<02:32,  5.15it/s]"
     ]
    },
    {
     "name": "stdout",
     "output_type": "stream",
     "text": [
      "Calculating features for all tracklets\n"
     ]
    },
    {
     "name": "stderr",
     "output_type": "stream",
     "text": [
      "100%|█████████████████████████████████████████████████████████████████████████████████| 789/789 [00:29<00:00, 26.50it/s]\n",
      "100%|█████████████████████████████████████████████████████████████████████████████████| 789/789 [04:19<00:00,  3.04it/s]\n",
      "  0%|                                                                                   | 1/776 [00:00<02:11,  5.91it/s]"
     ]
    },
    {
     "name": "stdout",
     "output_type": "stream",
     "text": [
      "Calculating features for all tracklets\n"
     ]
    },
    {
     "name": "stderr",
     "output_type": "stream",
     "text": [
      "100%|█████████████████████████████████████████████████████████████████████████████████| 776/776 [00:34<00:00, 22.77it/s]\n",
      "100%|█████████████████████████████████████████████████████████████████████████████████| 776/776 [03:59<00:00,  3.23it/s]\n",
      "  0%|▏                                                                                  | 2/779 [00:00<00:45, 17.24it/s]"
     ]
    },
    {
     "name": "stdout",
     "output_type": "stream",
     "text": [
      "Calculating features for all tracklets\n"
     ]
    },
    {
     "name": "stderr",
     "output_type": "stream",
     "text": [
      "100%|█████████████████████████████████████████████████████████████████████████████████| 779/779 [00:34<00:00, 22.33it/s]\n",
      "100%|█████████████████████████████████████████████████████████████████████████████████| 779/779 [04:19<00:00,  3.00it/s]\n",
      "  0%|                                                                                   | 1/729 [00:00<01:24,  8.62it/s]"
     ]
    },
    {
     "name": "stdout",
     "output_type": "stream",
     "text": [
      "Calculating features for all tracklets\n"
     ]
    },
    {
     "name": "stderr",
     "output_type": "stream",
     "text": [
      "100%|█████████████████████████████████████████████████████████████████████████████████| 729/729 [00:35<00:00, 20.60it/s]\n",
      "100%|█████████████████████████████████████████████████████████████████████████████████| 729/729 [03:37<00:00,  3.35it/s]\n",
      "  0%|                                                                                           | 0/695 [00:00<?, ?it/s]"
     ]
    },
    {
     "name": "stdout",
     "output_type": "stream",
     "text": [
      "Calculating features for all tracklets\n"
     ]
    },
    {
     "name": "stderr",
     "output_type": "stream",
     "text": [
      "100%|█████████████████████████████████████████████████████████████████████████████████| 695/695 [00:37<00:00, 18.77it/s]\n",
      "100%|█████████████████████████████████████████████████████████████████████████████████| 695/695 [03:32<00:00,  3.27it/s]\n"
     ]
    }
   ],
   "source": [
    "for start in all_starts:\n",
    "    kp_df, tracklet_df = separate_keypoints_and_tracklets(clust_df, start, window_length)\n",
    "    all_tracklet_features = calc_all_tracklet_features(kp_df, tracklet_df, start, window_length)\n",
    "    all_matches, _ = match_tracklets_using_features(all_tracklet_features, tracklet_df=tracklet_df)\n",
    "    all_window_matches.append(all_matches)"
   ]
  },
  {
   "cell_type": "code",
   "execution_count": 93,
   "id": "connected-sampling",
   "metadata": {},
   "outputs": [],
   "source": [
    "# Convert the local matches to the indices of the global dataframe\n",
    "global_matches = {}\n",
    "for start, this_match in zip(all_starts, all_window_matches):\n",
    "    kp_df, tracklet_df = separate_keypoints_and_tracklets(clust_df, start, window_length)\n",
    "    for k, val in this_match.items():\n",
    "        i0, i1 = tracklet_df['clust_ind'].iloc[list(k)]\n",
    "        if i1 > i0:\n",
    "            global_matches[(i0, i1)] = val"
   ]
  },
  {
   "cell_type": "code",
   "execution_count": 200,
   "id": "authorized-capitol",
   "metadata": {},
   "outputs": [
    {
     "name": "stdout",
     "output_type": "stream",
     "text": [
      "Extended and dropped 771/5835 rows\n"
     ]
    }
   ],
   "source": [
    "stitched_df = consolidate_tracklets(clust_df, global_matches.keys(), verbose=1)\n"
   ]
  },
  {
   "cell_type": "code",
   "execution_count": 202,
   "id": "continental-amino",
   "metadata": {},
   "outputs": [
    {
     "name": "stdout",
     "output_type": "stream",
     "text": [
      "(3, 907)\n",
      "Original track0:  [0, 1, 2, 3, 4, 5, 6, 7, 8, 9, 10, 11, 12, 13, 14, 15, 16, 17, 18, 19, 20, 21, 22]\n",
      "Original track1:  [35, 36, 37, 38, 39, 40, 41, 42, 43, 44, 45, 46, 47, 48, 49, 50, 51, 52, 53, 54, 55, 56, 57, 58, 59, 60, 61, 62, 63, 64, 65, 66, 67, 68, 69, 70, 71, 72, 73, 74, 75, 76, 77, 78, 79]\n",
      "Stitched track:  [0, 1, 2, 3, 4, 5, 6, 7, 8, 9, 10, 11, 12, 13, 14, 15, 16, 17, 18, 19, 20, 21, 22, 35, 36, 37, 38, 39, 40, 41, 42, 43, 44, 45, 46, 47, 48, 49, 50, 51, 52, 53, 54, 55, 56, 57, 58, 59, 60, 61, 62, 63, 64, 65, 66, 67, 68, 69, 70, 71, 72, 73, 74, 75, 76, 77, 78, 79]\n"
     ]
    }
   ],
   "source": [
    "# Did the consolidation function actually work?\n",
    "k = list(global_matches.keys())[1]\n",
    "print(k)\n",
    "print(\"Original track0: \", clust_df['slice_ind'].iloc[k[0]])\n",
    "print(\"Original track1: \",clust_df['slice_ind'].iloc[k[1]])\n",
    "print(\"Stitched track: \",stitched_df['slice_ind'].iloc[k[0]])"
   ]
  },
  {
   "cell_type": "code",
   "execution_count": 211,
   "id": "olive-adaptation",
   "metadata": {},
   "outputs": [],
   "source": [
    "which_suffix = 'prealigned-stitched100'\n",
    "\n",
    "fname = f'clust_df_dat_{which_suffix}.pickle'\n",
    "with open(fname, 'wb') as f:\n",
    "    pickle.dump(stitched_df, f)"
   ]
  },
  {
   "cell_type": "markdown",
   "id": "intelligent-fellowship",
   "metadata": {},
   "source": [
    "# Do once more"
   ]
  },
  {
   "cell_type": "code",
   "execution_count": 208,
   "id": "fifty-journey",
   "metadata": {},
   "outputs": [],
   "source": [
    "all_window_matches = []\n",
    "all_starts = list(range(0,301,50))\n",
    "window_length = 199"
   ]
  },
  {
   "cell_type": "code",
   "execution_count": null,
   "id": "direct-alias",
   "metadata": {
    "scrolled": false
   },
   "outputs": [
    {
     "name": "stderr",
     "output_type": "stream",
     "text": [
      "  0%|                                                                                  | 1/1633 [00:00<02:43,  9.97it/s]"
     ]
    },
    {
     "name": "stdout",
     "output_type": "stream",
     "text": [
      "Warning, few keypoints (7) detected\n",
      "Calculating features for all tracklets\n"
     ]
    },
    {
     "name": "stderr",
     "output_type": "stream",
     "text": [
      "100%|███████████████████████████████████████████████████████████████████████████████| 1633/1633 [00:19<00:00, 84.19it/s]\n",
      "100%|███████████████████████████████████████████████████████████████████████████████| 1633/1633 [27:06<00:00,  1.00it/s]\n",
      "  0%|                                                                                  | 1/1448 [00:00<03:42,  6.50it/s]"
     ]
    },
    {
     "name": "stdout",
     "output_type": "stream",
     "text": [
      "Calculating features for all tracklets\n"
     ]
    },
    {
     "name": "stderr",
     "output_type": "stream",
     "text": [
      "100%|███████████████████████████████████████████████████████████████████████████████| 1448/1448 [00:35<00:00, 41.03it/s]\n",
      "100%|███████████████████████████████████████████████████████████████████████████████| 1448/1448 [23:48<00:00,  1.01it/s]\n",
      "  0%|                                                                                          | 0/1315 [00:00<?, ?it/s]"
     ]
    },
    {
     "name": "stdout",
     "output_type": "stream",
     "text": [
      "Calculating features for all tracklets\n"
     ]
    },
    {
     "name": "stderr",
     "output_type": "stream",
     "text": [
      "100%|███████████████████████████████████████████████████████████████████████████████| 1315/1315 [00:36<00:00, 35.88it/s]\n",
      " 12%|█████████▊                                                                      | 161/1315 [06:17<20:06,  1.05s/it]"
     ]
    }
   ],
   "source": [
    "for start in all_starts:\n",
    "    kp_df, tracklet_df = separate_keypoints_and_tracklets(stitched_df, start, window_length)\n",
    "    all_tracklet_features = calc_all_tracklet_features(kp_df, tracklet_df, start, window_length)\n",
    "    all_matches, _ = match_tracklets_using_features(all_tracklet_features, tracklet_df=tracklet_df)\n",
    "    all_window_matches.append(all_matches)\n",
    "\n",
    "# Convert the local matches to the indices of the global dataframe\n",
    "global_matches = {}\n",
    "for start, this_match in zip(all_starts, all_window_matches):\n",
    "    kp_df, tracklet_df = separate_keypoints_and_tracklets(stitched_df, start, window_length)\n",
    "    for k, val in this_match.items():\n",
    "        i0, i1 = tracklet_df['clust_ind'].iloc[list(k)]\n",
    "        global_matches[(i0, i1)] = val"
   ]
  },
  {
   "cell_type": "code",
   "execution_count": null,
   "id": "fifteen-conditioning",
   "metadata": {},
   "outputs": [],
   "source": [
    "stitched_df2 = consolidate_tracklets(stitched_df, global_matches.keys(), verbose=1)\n"
   ]
  },
  {
   "cell_type": "code",
   "execution_count": 204,
   "id": "direct-ferry",
   "metadata": {},
   "outputs": [],
   "source": [
    "# match = list(global_matches.keys())[1]\n",
    "# ind = [list(stitched_df['clust_ind']).index(match[0]), list(stitched_df['clust_ind']).index(match[1])]\n",
    "# print(ind[0], stitched_df['slice_ind'][ind[0]])\n",
    "# print(ind[1], stitched_df['slice_ind'][ind[1]])"
   ]
  },
  {
   "cell_type": "markdown",
   "id": "economic-emission",
   "metadata": {},
   "source": [
    "# Compare stitched with pre-stitched"
   ]
  },
  {
   "cell_type": "code",
   "execution_count": 205,
   "id": "smooth-kidney",
   "metadata": {},
   "outputs": [],
   "source": [
    "from DLC_for_WBFM.utils.feature_detection.visualization_tracks import hist_of_tracklet_lens"
   ]
  },
  {
   "cell_type": "code",
   "execution_count": 206,
   "id": "expensive-patch",
   "metadata": {},
   "outputs": [
    {
     "data": {
      "image/png": "[encoded data removed]",
      "text/plain": [
       "<Figure size 432x288 with 1 Axes>"
      ]
     },
     "metadata": {
      "needs_background": "light"
     },
     "output_type": "display_data"
    }
   ],
   "source": [
    "hist_of_tracklet_lens(clust_df)"
   ]
  },
  {
   "cell_type": "code",
   "execution_count": 207,
   "id": "accurate-beginning",
   "metadata": {},
   "outputs": [
    {
     "data": {
      "image/png": "[encoded data removed]",
      "text/plain": [
       "<Figure size 432x288 with 1 Axes>"
      ]
     },
     "metadata": {
      "needs_background": "light"
     },
     "output_type": "display_data"
    }
   ],
   "source": [
    "hist_of_tracklet_lens(stitched_df)"
   ]
  },
  {
   "cell_type": "code",
   "execution_count": 210,
   "id": "incredible-worry",
   "metadata": {},
   "outputs": [
    {
     "data": {
      "image/png": "[encoded data removed]",
      "text/plain": [
       "<Figure size 432x288 with 1 Axes>"
      ]
     },
     "metadata": {
      "needs_background": "light"
     },
     "output_type": "display_data"
    }
   ],
   "source": [
    "hist_of_tracklet_lens(stitched_df2)"
   ]
  },
  {
   "cell_type": "code",
   "execution_count": null,
   "id": "beginning-illustration",
   "metadata": {},
   "outputs": [],
   "source": [
    "from collections import defaultdict\n",
    "all_num_tracks = defaultdict(int)\n",
    "min_len = 20\n",
    "window_len = 20\n",
    "# for row in clust_df['slice_ind']:\n",
    "#     if len(row) < min_len:\n",
    "#         continue\n",
    "#     for ind in row:\n",
    "#         if row[0]<:\n",
    "#             break\n",
    "#         all_num_tracks[ind] += 1\n",
    "\n",
    "num_frames = 500\n",
    "num_windows = num_frames - window_len\n",
    "all_num = np.zeros(num_frames)\n",
    "for k, val in all_num_tracks.items():\n",
    "    all_num[k] = val"
   ]
  }
 ],
 "metadata": {
  "kernelspec": {
   "display_name": "Python [conda env:track_using_features] *",
   "language": "python",
   "name": "conda-env-track_using_features-py"
  },
  "language_info": {
   "codemirror_mode": {
    "name": "ipython",
    "version": 3
   },
   "file_extension": ".py",
   "mimetype": "text/x-python",
   "name": "python",
   "nbconvert_exporter": "python",
   "pygments_lexer": "ipython3",
   "version": "3.7.9"
  }
 },
 "nbformat": 4,
 "nbformat_minor": 5
}
