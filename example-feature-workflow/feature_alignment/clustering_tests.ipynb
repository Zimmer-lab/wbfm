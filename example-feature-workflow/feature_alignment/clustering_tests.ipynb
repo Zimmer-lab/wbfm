{
 "cells": [
  {
   "cell_type": "code",
   "execution_count": 8,
   "metadata": {},
   "outputs": [
    {
     "name": "stdout",
     "output_type": "stream",
     "text": [
      "The autoreload extension is already loaded. To reload it, use:\n",
      "  %reload_ext autoreload\n"
     ]
    }
   ],
   "source": [
    "import os\n",
    "import numpy as np\n",
    "import tifffile\n",
    "import matplotlib.pyplot as plt\n",
    "%load_ext autoreload\n",
    "%autoreload 2\n",
    "\n",
    "from DLC_for_WBFM.utils.feature_detection.utils_features import *\n",
    "from DLC_for_WBFM.utils.feature_detection.visualization_tracks import *\n",
    "\n",
    "import cv2\n",
    "import open3d as o3d\n",
    "\n",
    "import matplotlib.pyplot as plt"
   ]
  },
  {
   "cell_type": "code",
   "execution_count": 6,
   "metadata": {},
   "outputs": [],
   "source": [
    "# Second, assign features to segmented neurons and match neurons\n",
    "\n",
    "# Load segmentation centroids\n",
    "seg_fname0 = os.path.join(dat_foldername, 'test_vol0.txt')\n",
    "seg_vol0 = np.loadtxt(seg_fname0)\n",
    "# TODO: text files are saved in a reduced location space\n",
    "neurons0 = np.array([bcpd_to_pixels(row) for row in seg_vol0])\n",
    "\n",
    "seg_fname1 = os.path.join(dat_foldername, 'test_vol1.txt')\n",
    "seg_vol1 = np.loadtxt(seg_fname1)\n",
    "neurons1 = np.array([bcpd_to_pixels(row) for row in seg_vol1])\n",
    "\n",
    "all_features0, all_features1, kp0, kp1 = build_features_and_match_2volumes('img100.tif','img101.tif',verbose=1, \n",
    "                                                            detect_keypoints=True,\n",
    "                                                            kp0=neurons0,\n",
    "                                                            kp1=neurons1)"
   ]
  },
  {
   "cell_type": "code",
   "execution_count": 7,
   "metadata": {},
   "outputs": [],
   "source": [
    "# Build the point clouds and cluster\n",
    "# From: http://www.open3d.org/docs/latest/tutorial/Basic/pointcloud.html\n",
    "f0, pc_f0, tree_f0 = build_feature_tree(all_features0)\n"
   ]
  },
  {
   "cell_type": "markdown",
   "metadata": {},
   "source": [
    "## Try 1: open3d built-in dbscan"
   ]
  },
  {
   "cell_type": "code",
   "execution_count": 42,
   "metadata": {},
   "outputs": [],
   "source": [
    "from DLC_for_WBFM.utils.feature_detection.visualization_tracks import visualize_cluster_labels"
   ]
  },
  {
   "cell_type": "code",
   "execution_count": 66,
   "metadata": {},
   "outputs": [],
   "source": [
    "labels = np.array(pc_f0.cluster_dbscan(eps=1.5, min_points=5,print_progress=True))"
   ]
  },
  {
   "cell_type": "code",
   "execution_count": 74,
   "metadata": {},
   "outputs": [
    {
     "name": "stdout",
     "output_type": "stream",
     "text": [
      "point cloud has 96 clusters\n"
     ]
    }
   ],
   "source": [
    "visualize_cluster_labels(labels, pc_f0)"
   ]
  },
  {
   "cell_type": "code",
   "execution_count": 72,
   "metadata": {},
   "outputs": [],
   "source": [
    "all_scores = []\n",
    "X = pc_f0.points\n",
    "vals = list(np.linspace(2.0,4.0,25))\n",
    "\n",
    "for i in vals:\n",
    "    labels = np.array(pc_f0.cluster_dbscan(eps=i, min_points=5))\n",
    "    scores = silhouette_score(X,labels)\n",
    "    all_scores.append(scores)"
   ]
  },
  {
   "cell_type": "code",
   "execution_count": 73,
   "metadata": {},
   "outputs": [
    {
     "data": {
      "text/plain": [
       "[<matplotlib.lines.Line2D at 0x1f0ad4fb640>]"
      ]
     },
     "execution_count": 73,
     "metadata": {},
     "output_type": "execute_result"
    },
    {
     "data": {
      "image/png": "[encoded data removed]",
      "text/plain": [
       "<Figure size 432x288 with 1 Axes>"
      ]
     },
     "metadata": {
      "needs_background": "light"
     },
     "output_type": "display_data"
    }
   ],
   "source": [
    "plt.plot(vals, all_scores)"
   ]
  },
  {
   "cell_type": "markdown",
   "metadata": {},
   "source": [
    "## Try 2: scikit learn gmm\n"
   ]
  },
  {
   "cell_type": "code",
   "execution_count": 29,
   "metadata": {},
   "outputs": [],
   "source": [
    "from sklearn.mixture import BayesianGaussianMixture"
   ]
  },
  {
   "cell_type": "code",
   "execution_count": 35,
   "metadata": {},
   "outputs": [],
   "source": [
    "n_components = 100\n",
    "random_state = 13\n",
    "\n",
    "bgm = BayesianGaussianMixture(\n",
    "        weight_concentration_prior_type=\"dirichlet_distribution\",\n",
    "        n_components=2 * n_components, reg_covar=0, init_params='random',\n",
    "        max_iter=1500, mean_precision_prior=.8,\n",
    "        random_state=random_state)"
   ]
  },
  {
   "cell_type": "code",
   "execution_count": 36,
   "metadata": {},
   "outputs": [
    {
     "data": {
      "text/plain": [
       "BayesianGaussianMixture(init_params='random', max_iter=1500,\n",
       "                        mean_precision_prior=0.8, n_components=200,\n",
       "                        random_state=13, reg_covar=0,\n",
       "                        weight_concentration_prior_type='dirichlet_distribution')"
      ]
     },
     "execution_count": 36,
     "metadata": {},
     "output_type": "execute_result"
    }
   ],
   "source": [
    "bgm.fit(pc_f0.points)"
   ]
  },
  {
   "cell_type": "code",
   "execution_count": 37,
   "metadata": {},
   "outputs": [],
   "source": [
    "labels = bgm.predict(pc_f0.points)"
   ]
  },
  {
   "cell_type": "code",
   "execution_count": 43,
   "metadata": {},
   "outputs": [
    {
     "name": "stdout",
     "output_type": "stream",
     "text": [
      "point cloud has 200 clusters\n"
     ]
    }
   ],
   "source": [
    "visualize_labels(labels, pc_f0)"
   ]
  },
  {
   "cell_type": "markdown",
   "metadata": {},
   "source": [
    "## Try 3: k-means"
   ]
  },
  {
   "cell_type": "code",
   "execution_count": 52,
   "metadata": {},
   "outputs": [],
   "source": [
    "from sklearn.cluster import KMeans\n",
    "from sklearn.metrics import silhouette_samples, silhouette_score"
   ]
  },
  {
   "cell_type": "code",
   "execution_count": 57,
   "metadata": {},
   "outputs": [],
   "source": [
    "X = pc_f0.points\n",
    "all_scores = []\n",
    "#all_means = []\n",
    "\n",
    "vals = list(range(100,200,10))\n",
    "\n",
    "for i in vals:\n",
    "    labels = KMeans(n_clusters=i, random_state=0).fit_predict(X)\n",
    "    scores = silhouette_score(X,labels)\n",
    "    all_scores.append(scores)\n",
    "    #all_means.append(np.mean(scores))"
   ]
  },
  {
   "cell_type": "code",
   "execution_count": 58,
   "metadata": {},
   "outputs": [
    {
     "data": {
      "text/plain": [
       "[<matplotlib.lines.Line2D at 0x1f0a8d52a90>]"
      ]
     },
     "execution_count": 58,
     "metadata": {},
     "output_type": "execute_result"
    },
    {
     "data": {
      "image/png": "[encoded data removed]",
      "text/plain": [
       "<Figure size 432x288 with 1 Axes>"
      ]
     },
     "metadata": {
      "needs_background": "light"
     },
     "output_type": "display_data"
    }
   ],
   "source": [
    "plt.plot(vals, all_scores)\n"
   ]
  },
  {
   "cell_type": "code",
   "execution_count": 59,
   "metadata": {},
   "outputs": [
    {
     "name": "stdout",
     "output_type": "stream",
     "text": [
      "point cloud has 190 clusters\n"
     ]
    }
   ],
   "source": [
    "visualize_labels(labels, pc_f0)"
   ]
  },
  {
   "cell_type": "code",
   "execution_count": null,
   "metadata": {},
   "outputs": [],
   "source": []
  }
 ],
 "metadata": {
  "kernelspec": {
   "display_name": "Python 3",
   "language": "python",
   "name": "python3"
  },
  "language_info": {
   "codemirror_mode": {
    "name": "ipython",
    "version": 3
   },
   "file_extension": ".py",
   "mimetype": "text/x-python",
   "name": "python",
   "nbconvert_exporter": "python",
   "pygments_lexer": "ipython3",
   "version": "3.8.5"
  }
 },
 "nbformat": 4,
 "nbformat_minor": 4
}
