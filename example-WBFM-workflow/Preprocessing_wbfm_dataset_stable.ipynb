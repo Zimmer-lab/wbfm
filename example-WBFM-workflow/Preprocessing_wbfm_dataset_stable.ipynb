{
 "cells": [
  {
   "cell_type": "markdown",
   "metadata": {},
   "source": [
    "# Preprocessing\n",
    "\n",
    "This workflow assumes the data is in the following format:\n",
    "- 2 very large .btf (bigtiff) files for the volumetric data\n",
    "\n",
    "This workflow then performs the following steps:\n",
    "1. Convert each channel to .avi\n",
    "2. Creates a DLC folder\n",
    "\n",
    "In later steps, the full DLC training will be used for tracking and, finally, trace extraction\n",
    "\n",
    "\n",
    "## Uses a config file to define all properties for the project"
   ]
  },
  {
   "cell_type": "code",
   "execution_count": 1,
   "metadata": {},
   "outputs": [],
   "source": [
    "from DLC_for_WBFM.bin.configuration_definition import *\n",
    "from DLC_for_WBFM.utils.video_and_data_conversion.video_conversion_utils import write_minimax_projection_from_btf\n",
    "import os\n",
    "%load_ext autoreload\n",
    "%autoreload 2"
   ]
  },
  {
   "cell_type": "markdown",
   "metadata": {},
   "source": [
    "## First, create the overall project folder"
   ]
  },
  {
   "cell_type": "code",
   "execution_count": 2,
   "metadata": {},
   "outputs": [],
   "source": [
    "# Initialize the config files\n",
    "task_name = 'test'\n",
    "experimenter = 'Charlie'\n",
    "\n",
    "config = DLCForWBFMConfig(task_name=task_name, experimenter=experimenter)"
   ]
  },
  {
   "cell_type": "code",
   "execution_count": 3,
   "metadata": {},
   "outputs": [
    {
     "name": "stdout",
     "output_type": "stream",
     "text": [
      "Created Project folder \"C:\\Users\\charles.fieseler\\Documents\\Current_work\\DLC_for_WBFM\\DLC_Projects\\test-Charlie-2020-12-16\"\n",
      "Saving config to filename 'C:\\Users\\charles.fieseler\\Documents\\Current_work\\DLC_for_WBFM\\DLC_Projects\\test-Charlie-2020-12-16\\config.pickle''\n"
     ]
    }
   ],
   "source": [
    "# Actually create the project folder\n",
    "\n",
    "# Note: Windows-style filename\n",
    "working_directory = r'C:\\Users\\charles.fieseler\\Documents\\Current_work\\DLC_for_WBFM\\DLC_Projects'\n",
    "\n",
    "config = create_project(config, working_directory)"
   ]
  },
  {
   "cell_type": "markdown",
   "metadata": {},
   "source": [
    "## Second, find the raw bigtiff files"
   ]
  },
  {
   "cell_type": "code",
   "execution_count": 4,
   "metadata": {},
   "outputs": [],
   "source": [
    "# Get the 3d bigtiff folder\n",
    "bigtiff_folder = r'D:\\More-stabilized-wbfm'\n",
    "\n",
    "# Will get traces from two videos:\n",
    "btf_fname_red = r'test2020-10-22_16-15-20_test4-channel-0-pco_camera1\\test2020-10-22_16-15-20_test4-channel-0-pco_camera1bigtiff.btf'\n",
    "btf_fname_red = os.path.join(bigtiff_folder, btf_fname_red)\n",
    "btf_fname_green = r'test2020-10-22_16-15-20_test4-channel-1-pco_camera2\\test2020-10-22_16-15-20_test4-channel-1-pco_camera2bigtiff.btf'\n",
    "btf_fname_green = os.path.join(bigtiff_folder, btf_fname_green)"
   ]
  },
  {
   "cell_type": "markdown",
   "metadata": {},
   "source": [
    "## Video Option 1: You already have .avi files"
   ]
  },
  {
   "cell_type": "code",
   "execution_count": 5,
   "metadata": {},
   "outputs": [],
   "source": [
    "red_avi_fname = None\n",
    "green_avi_fname = None"
   ]
  },
  {
   "cell_type": "markdown",
   "metadata": {},
   "source": [
    "## Shared between Video Options"
   ]
  },
  {
   "cell_type": "code",
   "execution_count": 6,
   "metadata": {},
   "outputs": [
    {
     "name": "stdout",
     "output_type": "stream",
     "text": [
      "Saving config to filename 'C:\\Users\\charles.fieseler\\Documents\\Current_work\\DLC_for_WBFM\\DLC_Projects\\test-Charlie-2020-12-16\\config.pickle''\n"
     ]
    }
   ],
   "source": [
    "# Create the first sub-object\n",
    "# This remembers the location of the raw data\n",
    "datafiles = DLCForWBFMDatafiles(btf_fname_red, btf_fname_green, red_avi_fname, green_avi_fname)\n",
    "\n",
    "config.datafiles = datafiles\n",
    "save_config(config)"
   ]
  },
  {
   "cell_type": "code",
   "execution_count": 7,
   "metadata": {},
   "outputs": [
    {
     "name": "stdout",
     "output_type": "stream",
     "text": [
      "=======================================\n",
      "                Field values:\n",
      "                task_name: test \n",
      "                experimenter: Charlie \n",
      "                config_filename: C:\\Users\\charles.fieseler\\Documents\\Current_work\\DLC_for_WBFM\\DLC_Projects\\test-Charlie-2020-12-16\\config.pickle\n",
      "                =======================================\n",
      "                Which subclasses are initialized?\n",
      "                datafiles: True\n",
      "                preprocessing: False\n",
      "                tracking: False\n",
      "                traces: False\n",
      "\n"
     ]
    }
   ],
   "source": [
    "print(config)"
   ]
  },
  {
   "cell_type": "markdown",
   "metadata": {},
   "source": [
    "## Video Option 2: You need to make .avi from .btf\n",
    "\n",
    "i.e. Convert .btf to .avi for DeepLabCut"
   ]
  },
  {
   "cell_type": "code",
   "execution_count": 8,
   "metadata": {},
   "outputs": [
    {
     "name": "stdout",
     "output_type": "stream",
     "text": [
      "Saving config to filename 'C:\\Users\\charles.fieseler\\Documents\\Current_work\\DLC_for_WBFM\\DLC_Projects\\test-Charlie-2020-12-16\\config.pickle''\n"
     ]
    }
   ],
   "source": [
    "# Set up options for the .avi video\n",
    "opt = {'start_volume':           100, \n",
    "       'num_frames':             10, \n",
    "       'num_total_slices':       33, \n",
    "       'num_crop_slices':        11, \n",
    "       'center_slice':           12, \n",
    "       'alpha':                  0.15,\n",
    "       'fps':                    5.0,\n",
    "       'red_and_green_mirrored': True}\n",
    "preprocessing = DLCForWBFMPreprocessing(**opt)\n",
    "\n",
    "config.preprocessing = preprocessing\n",
    "save_config(config)"
   ]
  },
  {
   "cell_type": "code",
   "execution_count": 9,
   "metadata": {},
   "outputs": [
    {
     "name": "stdout",
     "output_type": "stream",
     "text": [
      "=======================================\n",
      "                Field values:\n",
      "                task_name: test \n",
      "                experimenter: Charlie \n",
      "                config_filename: C:\\Users\\charles.fieseler\\Documents\\Current_work\\DLC_for_WBFM\\DLC_Projects\\test-Charlie-2020-12-16\\config.pickle\n",
      "                =======================================\n",
      "                Which subclasses are initialized?\n",
      "                datafiles: True\n",
      "                preprocessing: True\n",
      "                tracking: False\n",
      "                traces: False\n",
      "\n"
     ]
    }
   ],
   "source": [
    "print(config)"
   ]
  },
  {
   "cell_type": "code",
   "execution_count": 10,
   "metadata": {},
   "outputs": [
    {
     "name": "stdout",
     "output_type": "stream",
     "text": [
      "Saving config to filename 'C:\\Users\\charles.fieseler\\Documents\\Current_work\\DLC_for_WBFM\\DLC_Projects\\test-Charlie-2020-12-16\\config.pickle''\n",
      "Converting volume index 100 to frame index 3300\n",
      "Taking a max of 11 slices, starting at 7\n",
      "Page 3307/330; a portion of slice 0/10 to tmp array index 0\n",
      "Page 3308/330; a portion of slice 0/10 to tmp array index 1\n",
      "Page 3309/330; a portion of slice 0/10 to tmp array index 2\n",
      "Page 3310/330; a portion of slice 0/10 to tmp array index 3\n",
      "Page 3311/330; a portion of slice 0/10 to tmp array index 4\n",
      "Page 3312/330; a portion of slice 0/10 to tmp array index 5\n",
      "Page 3313/330; a portion of slice 0/10 to tmp array index 6\n",
      "Page 3314/330; a portion of slice 0/10 to tmp array index 7\n",
      "Page 3315/330; a portion of slice 0/10 to tmp array index 8\n",
      "Page 3316/330; a portion of slice 0/10 to tmp array index 9\n",
      "Page 3317/330; a portion of slice 0/10 to tmp array index 10\n",
      "Page 3340/330; a portion of slice 1/10 to tmp array index 0\n",
      "Page 3341/330; a portion of slice 1/10 to tmp array index 1\n",
      "Page 3342/330; a portion of slice 1/10 to tmp array index 2\n",
      "Page 3343/330; a portion of slice 1/10 to tmp array index 3\n",
      "Page 3344/330; a portion of slice 1/10 to tmp array index 4\n",
      "Page 3345/330; a portion of slice 1/10 to tmp array index 5\n",
      "Page 3346/330; a portion of slice 1/10 to tmp array index 6\n",
      "Page 3347/330; a portion of slice 1/10 to tmp array index 7\n",
      "Page 3348/330; a portion of slice 1/10 to tmp array index 8\n",
      "Page 3349/330; a portion of slice 1/10 to tmp array index 9\n",
      "Page 3350/330; a portion of slice 1/10 to tmp array index 10\n",
      "Page 3373/330; a portion of slice 2/10 to tmp array index 0\n",
      "Page 3374/330; a portion of slice 2/10 to tmp array index 1\n",
      "Page 3375/330; a portion of slice 2/10 to tmp array index 2\n",
      "Page 3376/330; a portion of slice 2/10 to tmp array index 3\n",
      "Page 3377/330; a portion of slice 2/10 to tmp array index 4\n",
      "Page 3378/330; a portion of slice 2/10 to tmp array index 5\n",
      "Page 3379/330; a portion of slice 2/10 to tmp array index 6\n",
      "Page 3380/330; a portion of slice 2/10 to tmp array index 7\n",
      "Page 3381/330; a portion of slice 2/10 to tmp array index 8\n",
      "Page 3382/330; a portion of slice 2/10 to tmp array index 9\n",
      "Page 3383/330; a portion of slice 2/10 to tmp array index 10\n",
      "Page 3406/330; a portion of slice 3/10 to tmp array index 0\n",
      "Page 3407/330; a portion of slice 3/10 to tmp array index 1\n",
      "Page 3408/330; a portion of slice 3/10 to tmp array index 2\n",
      "Page 3409/330; a portion of slice 3/10 to tmp array index 3\n",
      "Page 3410/330; a portion of slice 3/10 to tmp array index 4\n",
      "Page 3411/330; a portion of slice 3/10 to tmp array index 5\n",
      "Page 3412/330; a portion of slice 3/10 to tmp array index 6\n",
      "Page 3413/330; a portion of slice 3/10 to tmp array index 7\n",
      "Page 3414/330; a portion of slice 3/10 to tmp array index 8\n",
      "Page 3415/330; a portion of slice 3/10 to tmp array index 9\n",
      "Page 3416/330; a portion of slice 3/10 to tmp array index 10\n",
      "Page 3439/330; a portion of slice 4/10 to tmp array index 0\n",
      "Page 3440/330; a portion of slice 4/10 to tmp array index 1\n",
      "Page 3441/330; a portion of slice 4/10 to tmp array index 2\n",
      "Page 3442/330; a portion of slice 4/10 to tmp array index 3\n",
      "Page 3443/330; a portion of slice 4/10 to tmp array index 4\n",
      "Page 3444/330; a portion of slice 4/10 to tmp array index 5\n",
      "Page 3445/330; a portion of slice 4/10 to tmp array index 6\n",
      "Page 3446/330; a portion of slice 4/10 to tmp array index 7\n",
      "Page 3447/330; a portion of slice 4/10 to tmp array index 8\n",
      "Page 3448/330; a portion of slice 4/10 to tmp array index 9\n",
      "Page 3449/330; a portion of slice 4/10 to tmp array index 10\n",
      "Page 3472/330; a portion of slice 5/10 to tmp array index 0\n",
      "Page 3473/330; a portion of slice 5/10 to tmp array index 1\n",
      "Page 3474/330; a portion of slice 5/10 to tmp array index 2\n",
      "Page 3475/330; a portion of slice 5/10 to tmp array index 3\n",
      "Page 3476/330; a portion of slice 5/10 to tmp array index 4\n",
      "Page 3477/330; a portion of slice 5/10 to tmp array index 5\n",
      "Page 3478/330; a portion of slice 5/10 to tmp array index 6\n",
      "Page 3479/330; a portion of slice 5/10 to tmp array index 7\n",
      "Page 3480/330; a portion of slice 5/10 to tmp array index 8\n",
      "Page 3481/330; a portion of slice 5/10 to tmp array index 9\n",
      "Page 3482/330; a portion of slice 5/10 to tmp array index 10\n",
      "Page 3505/330; a portion of slice 6/10 to tmp array index 0\n",
      "Page 3506/330; a portion of slice 6/10 to tmp array index 1\n",
      "Page 3507/330; a portion of slice 6/10 to tmp array index 2\n",
      "Page 3508/330; a portion of slice 6/10 to tmp array index 3\n",
      "Page 3509/330; a portion of slice 6/10 to tmp array index 4\n",
      "Page 3510/330; a portion of slice 6/10 to tmp array index 5\n",
      "Page 3511/330; a portion of slice 6/10 to tmp array index 6\n",
      "Page 3512/330; a portion of slice 6/10 to tmp array index 7\n",
      "Page 3513/330; a portion of slice 6/10 to tmp array index 8\n",
      "Page 3514/330; a portion of slice 6/10 to tmp array index 9\n",
      "Page 3515/330; a portion of slice 6/10 to tmp array index 10\n",
      "Page 3538/330; a portion of slice 7/10 to tmp array index 0\n",
      "Page 3539/330; a portion of slice 7/10 to tmp array index 1\n",
      "Page 3540/330; a portion of slice 7/10 to tmp array index 2\n",
      "Page 3541/330; a portion of slice 7/10 to tmp array index 3\n",
      "Page 3542/330; a portion of slice 7/10 to tmp array index 4\n",
      "Page 3543/330; a portion of slice 7/10 to tmp array index 5\n",
      "Page 3544/330; a portion of slice 7/10 to tmp array index 6\n",
      "Page 3545/330; a portion of slice 7/10 to tmp array index 7\n",
      "Page 3546/330; a portion of slice 7/10 to tmp array index 8\n",
      "Page 3547/330; a portion of slice 7/10 to tmp array index 9\n",
      "Page 3548/330; a portion of slice 7/10 to tmp array index 10\n",
      "Page 3571/330; a portion of slice 8/10 to tmp array index 0\n",
      "Page 3572/330; a portion of slice 8/10 to tmp array index 1\n",
      "Page 3573/330; a portion of slice 8/10 to tmp array index 2\n",
      "Page 3574/330; a portion of slice 8/10 to tmp array index 3\n",
      "Page 3575/330; a portion of slice 8/10 to tmp array index 4\n",
      "Page 3576/330; a portion of slice 8/10 to tmp array index 5\n",
      "Page 3577/330; a portion of slice 8/10 to tmp array index 6\n",
      "Page 3578/330; a portion of slice 8/10 to tmp array index 7\n",
      "Page 3579/330; a portion of slice 8/10 to tmp array index 8\n",
      "Page 3580/330; a portion of slice 8/10 to tmp array index 9\n",
      "Page 3581/330; a portion of slice 8/10 to tmp array index 10\n",
      "Page 3604/330; a portion of slice 9/10 to tmp array index 0\n",
      "Page 3605/330; a portion of slice 9/10 to tmp array index 1\n",
      "Page 3606/330; a portion of slice 9/10 to tmp array index 2\n",
      "Page 3607/330; a portion of slice 9/10 to tmp array index 3\n",
      "Page 3608/330; a portion of slice 9/10 to tmp array index 4\n",
      "Page 3609/330; a portion of slice 9/10 to tmp array index 5\n",
      "Page 3610/330; a portion of slice 9/10 to tmp array index 6\n",
      "Page 3611/330; a portion of slice 9/10 to tmp array index 7\n",
      "Page 3612/330; a portion of slice 9/10 to tmp array index 8\n",
      "Page 3613/330; a portion of slice 9/10 to tmp array index 9\n",
      "Page 3614/330; a portion of slice 9/10 to tmp array index 10\n",
      "Page 3637/330; a portion of slice 10/10 to tmp array index 0\n",
      "Page 3638/330; a portion of slice 10/10 to tmp array index 1\n",
      "Page 3639/330; a portion of slice 10/10 to tmp array index 2\n",
      "Page 3640/330; a portion of slice 10/10 to tmp array index 3\n",
      "Page 3641/330; a portion of slice 10/10 to tmp array index 4\n",
      "Page 3642/330; a portion of slice 10/10 to tmp array index 5\n",
      "Page 3643/330; a portion of slice 10/10 to tmp array index 6\n",
      "Page 3644/330; a portion of slice 10/10 to tmp array index 7\n",
      "Page 3645/330; a portion of slice 10/10 to tmp array index 8\n",
      "Page 3646/330; a portion of slice 10/10 to tmp array index 9\n",
      "Page 3647/330; a portion of slice 10/10 to tmp array index 10\n",
      "Converting volume index 100 to frame index 3300\n",
      "Taking a max of 11 slices, starting at 7\n",
      "Page 3307/330; a portion of slice 0/10 to tmp array index 0\n",
      "Page 3308/330; a portion of slice 0/10 to tmp array index 1\n",
      "Page 3309/330; a portion of slice 0/10 to tmp array index 2\n",
      "Page 3310/330; a portion of slice 0/10 to tmp array index 3\n",
      "Page 3311/330; a portion of slice 0/10 to tmp array index 4\n",
      "Page 3312/330; a portion of slice 0/10 to tmp array index 5\n",
      "Page 3313/330; a portion of slice 0/10 to tmp array index 6\n",
      "Page 3314/330; a portion of slice 0/10 to tmp array index 7\n",
      "Page 3315/330; a portion of slice 0/10 to tmp array index 8\n",
      "Page 3316/330; a portion of slice 0/10 to tmp array index 9\n",
      "Page 3317/330; a portion of slice 0/10 to tmp array index 10\n",
      "Page 3340/330; a portion of slice 1/10 to tmp array index 0\n",
      "Page 3341/330; a portion of slice 1/10 to tmp array index 1\n",
      "Page 3342/330; a portion of slice 1/10 to tmp array index 2\n",
      "Page 3343/330; a portion of slice 1/10 to tmp array index 3\n",
      "Page 3344/330; a portion of slice 1/10 to tmp array index 4\n",
      "Page 3345/330; a portion of slice 1/10 to tmp array index 5\n",
      "Page 3346/330; a portion of slice 1/10 to tmp array index 6\n",
      "Page 3347/330; a portion of slice 1/10 to tmp array index 7\n",
      "Page 3348/330; a portion of slice 1/10 to tmp array index 8\n",
      "Page 3349/330; a portion of slice 1/10 to tmp array index 9\n",
      "Page 3350/330; a portion of slice 1/10 to tmp array index 10\n",
      "Page 3373/330; a portion of slice 2/10 to tmp array index 0\n"
     ]
    },
    {
     "name": "stdout",
     "output_type": "stream",
     "text": [
      "Page 3374/330; a portion of slice 2/10 to tmp array index 1\n",
      "Page 3375/330; a portion of slice 2/10 to tmp array index 2\n",
      "Page 3376/330; a portion of slice 2/10 to tmp array index 3\n",
      "Page 3377/330; a portion of slice 2/10 to tmp array index 4\n",
      "Page 3378/330; a portion of slice 2/10 to tmp array index 5\n",
      "Page 3379/330; a portion of slice 2/10 to tmp array index 6\n",
      "Page 3380/330; a portion of slice 2/10 to tmp array index 7\n",
      "Page 3381/330; a portion of slice 2/10 to tmp array index 8\n",
      "Page 3382/330; a portion of slice 2/10 to tmp array index 9\n",
      "Page 3383/330; a portion of slice 2/10 to tmp array index 10\n",
      "Page 3406/330; a portion of slice 3/10 to tmp array index 0\n",
      "Page 3407/330; a portion of slice 3/10 to tmp array index 1\n",
      "Page 3408/330; a portion of slice 3/10 to tmp array index 2\n",
      "Page 3409/330; a portion of slice 3/10 to tmp array index 3\n",
      "Page 3410/330; a portion of slice 3/10 to tmp array index 4\n",
      "Page 3411/330; a portion of slice 3/10 to tmp array index 5\n",
      "Page 3412/330; a portion of slice 3/10 to tmp array index 6\n",
      "Page 3413/330; a portion of slice 3/10 to tmp array index 7\n",
      "Page 3414/330; a portion of slice 3/10 to tmp array index 8\n",
      "Page 3415/330; a portion of slice 3/10 to tmp array index 9\n",
      "Page 3416/330; a portion of slice 3/10 to tmp array index 10\n",
      "Page 3439/330; a portion of slice 4/10 to tmp array index 0\n",
      "Page 3440/330; a portion of slice 4/10 to tmp array index 1\n",
      "Page 3441/330; a portion of slice 4/10 to tmp array index 2\n",
      "Page 3442/330; a portion of slice 4/10 to tmp array index 3\n",
      "Page 3443/330; a portion of slice 4/10 to tmp array index 4\n",
      "Page 3444/330; a portion of slice 4/10 to tmp array index 5\n",
      "Page 3445/330; a portion of slice 4/10 to tmp array index 6\n",
      "Page 3446/330; a portion of slice 4/10 to tmp array index 7\n",
      "Page 3447/330; a portion of slice 4/10 to tmp array index 8\n",
      "Page 3448/330; a portion of slice 4/10 to tmp array index 9\n",
      "Page 3449/330; a portion of slice 4/10 to tmp array index 10\n",
      "Page 3472/330; a portion of slice 5/10 to tmp array index 0\n",
      "Page 3473/330; a portion of slice 5/10 to tmp array index 1\n",
      "Page 3474/330; a portion of slice 5/10 to tmp array index 2\n",
      "Page 3475/330; a portion of slice 5/10 to tmp array index 3\n",
      "Page 3476/330; a portion of slice 5/10 to tmp array index 4\n",
      "Page 3477/330; a portion of slice 5/10 to tmp array index 5\n",
      "Page 3478/330; a portion of slice 5/10 to tmp array index 6\n",
      "Page 3479/330; a portion of slice 5/10 to tmp array index 7\n",
      "Page 3480/330; a portion of slice 5/10 to tmp array index 8\n",
      "Page 3481/330; a portion of slice 5/10 to tmp array index 9\n",
      "Page 3482/330; a portion of slice 5/10 to tmp array index 10\n",
      "Page 3505/330; a portion of slice 6/10 to tmp array index 0\n",
      "Page 3506/330; a portion of slice 6/10 to tmp array index 1\n",
      "Page 3507/330; a portion of slice 6/10 to tmp array index 2\n",
      "Page 3508/330; a portion of slice 6/10 to tmp array index 3\n",
      "Page 3509/330; a portion of slice 6/10 to tmp array index 4\n",
      "Page 3510/330; a portion of slice 6/10 to tmp array index 5\n",
      "Page 3511/330; a portion of slice 6/10 to tmp array index 6\n",
      "Page 3512/330; a portion of slice 6/10 to tmp array index 7\n",
      "Page 3513/330; a portion of slice 6/10 to tmp array index 8\n",
      "Page 3514/330; a portion of slice 6/10 to tmp array index 9\n",
      "Page 3515/330; a portion of slice 6/10 to tmp array index 10\n",
      "Page 3538/330; a portion of slice 7/10 to tmp array index 0\n",
      "Page 3539/330; a portion of slice 7/10 to tmp array index 1\n",
      "Page 3540/330; a portion of slice 7/10 to tmp array index 2\n",
      "Page 3541/330; a portion of slice 7/10 to tmp array index 3\n",
      "Page 3542/330; a portion of slice 7/10 to tmp array index 4\n",
      "Page 3543/330; a portion of slice 7/10 to tmp array index 5\n",
      "Page 3544/330; a portion of slice 7/10 to tmp array index 6\n",
      "Page 3545/330; a portion of slice 7/10 to tmp array index 7\n",
      "Page 3546/330; a portion of slice 7/10 to tmp array index 8\n",
      "Page 3547/330; a portion of slice 7/10 to tmp array index 9\n",
      "Page 3548/330; a portion of slice 7/10 to tmp array index 10\n",
      "Page 3571/330; a portion of slice 8/10 to tmp array index 0\n",
      "Page 3572/330; a portion of slice 8/10 to tmp array index 1\n",
      "Page 3573/330; a portion of slice 8/10 to tmp array index 2\n",
      "Page 3574/330; a portion of slice 8/10 to tmp array index 3\n",
      "Page 3575/330; a portion of slice 8/10 to tmp array index 4\n",
      "Page 3576/330; a portion of slice 8/10 to tmp array index 5\n",
      "Page 3577/330; a portion of slice 8/10 to tmp array index 6\n",
      "Page 3578/330; a portion of slice 8/10 to tmp array index 7\n",
      "Page 3579/330; a portion of slice 8/10 to tmp array index 8\n",
      "Page 3580/330; a portion of slice 8/10 to tmp array index 9\n",
      "Page 3581/330; a portion of slice 8/10 to tmp array index 10\n",
      "Page 3604/330; a portion of slice 9/10 to tmp array index 0\n",
      "Page 3605/330; a portion of slice 9/10 to tmp array index 1\n",
      "Page 3606/330; a portion of slice 9/10 to tmp array index 2\n",
      "Page 3607/330; a portion of slice 9/10 to tmp array index 3\n",
      "Page 3608/330; a portion of slice 9/10 to tmp array index 4\n",
      "Page 3609/330; a portion of slice 9/10 to tmp array index 5\n",
      "Page 3610/330; a portion of slice 9/10 to tmp array index 6\n",
      "Page 3611/330; a portion of slice 9/10 to tmp array index 7\n",
      "Page 3612/330; a portion of slice 9/10 to tmp array index 8\n",
      "Page 3613/330; a portion of slice 9/10 to tmp array index 9\n",
      "Page 3614/330; a portion of slice 9/10 to tmp array index 10\n",
      "Page 3637/330; a portion of slice 10/10 to tmp array index 0\n",
      "Page 3638/330; a portion of slice 10/10 to tmp array index 1\n",
      "Page 3639/330; a portion of slice 10/10 to tmp array index 2\n",
      "Page 3640/330; a portion of slice 10/10 to tmp array index 3\n",
      "Page 3641/330; a portion of slice 10/10 to tmp array index 4\n",
      "Page 3642/330; a portion of slice 10/10 to tmp array index 5\n",
      "Page 3643/330; a portion of slice 10/10 to tmp array index 6\n",
      "Page 3644/330; a portion of slice 10/10 to tmp array index 7\n",
      "Page 3645/330; a portion of slice 10/10 to tmp array index 8\n",
      "Page 3646/330; a portion of slice 10/10 to tmp array index 9\n",
      "Page 3647/330; a portion of slice 10/10 to tmp array index 10\n"
     ]
    },
    {
     "data": {
      "text/plain": [
       "DLCForWBFMConfig(task_name='test', experimenter='Charlie', datafiles=DLCForWBFMDatafiles(red_bigtiff_fname='D:\\\\More-stabilized-wbfm\\\\test2020-10-22_16-15-20_test4-channel-0-pco_camera1\\\\test2020-10-22_16-15-20_test4-channel-0-pco_camera1bigtiff.btf', green_bigtiff_fname='D:\\\\More-stabilized-wbfm\\\\test2020-10-22_16-15-20_test4-channel-1-pco_camera2\\\\test2020-10-22_16-15-20_test4-channel-1-pco_camera2bigtiff.btf', red_avi_fname='C:\\\\Users\\\\charles.fieseler\\\\Documents\\\\Current_work\\\\DLC_for_WBFM\\\\DLC_Projects\\\\test-Charlie-2020-12-16\\\\redfr10_sl7_17.avi', green_avi_fname='C:\\\\Users\\\\charles.fieseler\\\\Documents\\\\Current_work\\\\DLC_for_WBFM\\\\DLC_Projects\\\\test-Charlie-2020-12-16\\\\greenfr10_sl7_17.avi'), preprocessing=DLCForWBFMPreprocessing(start_volume=100, num_frames=10, num_total_slices=33, num_crop_slices=11, center_slice=12, alpha=0.15, fps=5.0, red_and_green_mirrored=True), tracking=None, traces=None, config_filename='C:\\\\Users\\\\charles.fieseler\\\\Documents\\\\Current_work\\\\DLC_for_WBFM\\\\DLC_Projects\\\\test-Charlie-2020-12-16\\\\config.pickle')"
      ]
     },
     "execution_count": 10,
     "metadata": {},
     "output_type": "execute_result"
    }
   ],
   "source": [
    "# Now make the .avi video, if not already made\n",
    "# Note: if the .avi was made elsewhere, check that the options above are correct!\n",
    "write_minimax_projection_from_btf(config)"
   ]
  },
  {
   "cell_type": "markdown",
   "metadata": {},
   "source": [
    "# Now, Make a DLC project folder and prep for annotations"
   ]
  },
  {
   "cell_type": "markdown",
   "metadata": {},
   "source": [
    "## Create a project and copy the mcherry from above"
   ]
  },
  {
   "cell_type": "code",
   "execution_count": 11,
   "metadata": {},
   "outputs": [
    {
     "name": "stderr",
     "output_type": "stream",
     "text": [
      "\n",
      "Bad key savefig.frameon in file C:\\Users\\charles.fieseler\\Anaconda3\\envs\\DLC-preprocessing\\lib\\site-packages\\matplotlib\\mpl-data\\stylelib\\_classic_test.mplstyle, line 421 ('savefig.frameon : True')\n",
      "You probably need to get an updated matplotlibrc file from\n",
      "https://github.com/matplotlib/matplotlib/blob/v3.3.1/matplotlibrc.template\n",
      "or from the matplotlib source distribution\n",
      "\n",
      "Bad key verbose.level in file C:\\Users\\charles.fieseler\\Anaconda3\\envs\\DLC-preprocessing\\lib\\site-packages\\matplotlib\\mpl-data\\stylelib\\_classic_test.mplstyle, line 472 ('verbose.level  : silent      # one of silent, helpful, debug, debug-annoying')\n",
      "You probably need to get an updated matplotlibrc file from\n",
      "https://github.com/matplotlib/matplotlib/blob/v3.3.1/matplotlibrc.template\n",
      "or from the matplotlib source distribution\n",
      "\n",
      "Bad key verbose.fileo in file C:\\Users\\charles.fieseler\\Anaconda3\\envs\\DLC-preprocessing\\lib\\site-packages\\matplotlib\\mpl-data\\stylelib\\_classic_test.mplstyle, line 473 ('verbose.fileo  : sys.stdout  # a log filename, sys.stdout or sys.stderr')\n",
      "You probably need to get an updated matplotlibrc file from\n",
      "https://github.com/matplotlib/matplotlib/blob/v3.3.1/matplotlibrc.template\n",
      "or from the matplotlib source distribution\n",
      "In C:\\Users\\charles.fieseler\\Anaconda3\\envs\\DLC-preprocessing\\lib\\site-packages\\matplotlib\\mpl-data\\stylelib\\_classic_test.mplstyle: \n",
      "The text.latex.preview rcparam was deprecated in Matplotlib 3.3 and will be removed two minor releases later.\n",
      "In C:\\Users\\charles.fieseler\\Anaconda3\\envs\\DLC-preprocessing\\lib\\site-packages\\matplotlib\\mpl-data\\stylelib\\_classic_test.mplstyle: \n",
      "The mathtext.fallback_to_cm rcparam was deprecated in Matplotlib 3.3 and will be removed two minor releases later.\n",
      "In C:\\Users\\charles.fieseler\\Anaconda3\\envs\\DLC-preprocessing\\lib\\site-packages\\matplotlib\\mpl-data\\stylelib\\_classic_test.mplstyle: Support for setting the 'mathtext.fallback_to_cm' rcParam is deprecated since 3.3 and will be removed two minor releases later; use 'mathtext.fallback : 'cm' instead.\n",
      "In C:\\Users\\charles.fieseler\\Anaconda3\\envs\\DLC-preprocessing\\lib\\site-packages\\matplotlib\\mpl-data\\stylelib\\_classic_test.mplstyle: \n",
      "The validate_bool_maybe_none function was deprecated in Matplotlib 3.3 and will be removed two minor releases later.\n",
      "In C:\\Users\\charles.fieseler\\Anaconda3\\envs\\DLC-preprocessing\\lib\\site-packages\\matplotlib\\mpl-data\\stylelib\\_classic_test.mplstyle: \n",
      "The savefig.jpeg_quality rcparam was deprecated in Matplotlib 3.3 and will be removed two minor releases later.\n",
      "In C:\\Users\\charles.fieseler\\Anaconda3\\envs\\DLC-preprocessing\\lib\\site-packages\\matplotlib\\mpl-data\\stylelib\\_classic_test.mplstyle: \n",
      "The keymap.all_axes rcparam was deprecated in Matplotlib 3.3 and will be removed two minor releases later.\n",
      "In C:\\Users\\charles.fieseler\\Anaconda3\\envs\\DLC-preprocessing\\lib\\site-packages\\matplotlib\\mpl-data\\stylelib\\_classic_test.mplstyle: \n",
      "The animation.avconv_path rcparam was deprecated in Matplotlib 3.3 and will be removed two minor releases later.\n",
      "In C:\\Users\\charles.fieseler\\Anaconda3\\envs\\DLC-preprocessing\\lib\\site-packages\\matplotlib\\mpl-data\\stylelib\\_classic_test.mplstyle: \n",
      "The animation.avconv_args rcparam was deprecated in Matplotlib 3.3 and will be removed two minor releases later.\n",
      "C:\\Users\\charles.fieseler\\Anaconda3\\envs\\DLC-preprocessing\\lib\\site-packages\\tensorflow\\python\\framework\\dtypes.py:526: FutureWarning: Passing (type, 1) or '1type' as a synonym of type is deprecated; in a future version of numpy, it will be understood as (type, (1,)) / '(1,)type'.\n",
      "  _np_qint8 = np.dtype([(\"qint8\", np.int8, 1)])\n",
      "C:\\Users\\charles.fieseler\\Anaconda3\\envs\\DLC-preprocessing\\lib\\site-packages\\tensorflow\\python\\framework\\dtypes.py:527: FutureWarning: Passing (type, 1) or '1type' as a synonym of type is deprecated; in a future version of numpy, it will be understood as (type, (1,)) / '(1,)type'.\n",
      "  _np_quint8 = np.dtype([(\"quint8\", np.uint8, 1)])\n",
      "C:\\Users\\charles.fieseler\\Anaconda3\\envs\\DLC-preprocessing\\lib\\site-packages\\tensorflow\\python\\framework\\dtypes.py:528: FutureWarning: Passing (type, 1) or '1type' as a synonym of type is deprecated; in a future version of numpy, it will be understood as (type, (1,)) / '(1,)type'.\n",
      "  _np_qint16 = np.dtype([(\"qint16\", np.int16, 1)])\n",
      "C:\\Users\\charles.fieseler\\Anaconda3\\envs\\DLC-preprocessing\\lib\\site-packages\\tensorflow\\python\\framework\\dtypes.py:529: FutureWarning: Passing (type, 1) or '1type' as a synonym of type is deprecated; in a future version of numpy, it will be understood as (type, (1,)) / '(1,)type'.\n",
      "  _np_quint16 = np.dtype([(\"quint16\", np.uint16, 1)])\n",
      "C:\\Users\\charles.fieseler\\Anaconda3\\envs\\DLC-preprocessing\\lib\\site-packages\\tensorflow\\python\\framework\\dtypes.py:530: FutureWarning: Passing (type, 1) or '1type' as a synonym of type is deprecated; in a future version of numpy, it will be understood as (type, (1,)) / '(1,)type'.\n",
      "  _np_qint32 = np.dtype([(\"qint32\", np.int32, 1)])\n",
      "C:\\Users\\charles.fieseler\\Anaconda3\\envs\\DLC-preprocessing\\lib\\site-packages\\tensorflow\\python\\framework\\dtypes.py:535: FutureWarning: Passing (type, 1) or '1type' as a synonym of type is deprecated; in a future version of numpy, it will be understood as (type, (1,)) / '(1,)type'.\n",
      "  np_resource = np.dtype([(\"resource\", np.ubyte, 1)])\n"
     ]
    }
   ],
   "source": [
    "from DLC_for_WBFM.utils.preprocessing.DLC_utils import create_dlc_project_from_config"
   ]
  },
  {
   "cell_type": "code",
   "execution_count": 12,
   "metadata": {},
   "outputs": [
    {
     "name": "stdout",
     "output_type": "stream",
     "text": [
      "Created \"C:\\Users\\charles.fieseler\\Documents\\Current_work\\DLC_for_WBFM\\DLC_Projects\\test-Charlie-2020-12-16\\t1-C-2020-12-16\\videos\"\n",
      "Created \"C:\\Users\\charles.fieseler\\Documents\\Current_work\\DLC_for_WBFM\\DLC_Projects\\test-Charlie-2020-12-16\\t1-C-2020-12-16\\labeled-data\"\n",
      "Created \"C:\\Users\\charles.fieseler\\Documents\\Current_work\\DLC_for_WBFM\\DLC_Projects\\test-Charlie-2020-12-16\\t1-C-2020-12-16\\training-datasets\"\n",
      "Created \"C:\\Users\\charles.fieseler\\Documents\\Current_work\\DLC_for_WBFM\\DLC_Projects\\test-Charlie-2020-12-16\\t1-C-2020-12-16\\dlc-models\"\n",
      "Copying the videos\n",
      "C:\\Users\\charles.fieseler\\Documents\\Current_work\\DLC_for_WBFM\\DLC_Projects\\test-Charlie-2020-12-16\\t1-C-2020-12-16\\videos\\redfr10_sl7_17.avi\n",
      "Generated \"C:\\Users\\charles.fieseler\\Documents\\Current_work\\DLC_for_WBFM\\DLC_Projects\\test-Charlie-2020-12-16\\t1-C-2020-12-16\\config.yaml\"\n",
      "\n",
      "A new project with name t1-C-2020-12-16 is created at C:\\Users\\charles.fieseler\\Documents\\Current_work\\DLC_for_WBFM\\DLC_Projects\\test-Charlie-2020-12-16 and a configurable file (config.yaml) is stored there. Change the parameters in this file to adapt to your project's needs.\n",
      " Once you have changed the configuration file, use the function 'extract_frames' to select frames for labeling.\n",
      ". [OPTIONAL] Use the function 'add_new_videos' to add new videos to your project (at any stage).\n"
     ]
    },
    {
     "data": {
      "text/plain": [
       "'C:\\\\Users\\\\charles.fieseler\\\\Documents\\\\Current_work\\\\DLC_for_WBFM\\\\DLC_Projects\\\\test-Charlie-2020-12-16\\\\t1-C-2020-12-16\\\\config.yaml'"
      ]
     },
     "execution_count": 12,
     "metadata": {},
     "output_type": "execute_result"
    }
   ],
   "source": [
    "create_dlc_project_from_config(config, '1')"
   ]
  },
  {
   "cell_type": "markdown",
   "metadata": {},
   "source": [
    "===========================================================================\n",
    "# WIP"
   ]
  },
  {
   "cell_type": "markdown",
   "metadata": {},
   "source": [
    "## Extract individual volumes to be annotated"
   ]
  },
  {
   "cell_type": "code",
   "execution_count": 9,
   "metadata": {},
   "outputs": [],
   "source": [
    "import deeplabcut\n",
    "from DLC_for_WBFM.utils.preprocessing.custom_frame_extraction import *"
   ]
  },
  {
   "cell_type": "code",
   "execution_count": 10,
   "metadata": {},
   "outputs": [],
   "source": [
    "# Get a couple volumes to annotate\n",
    "num_training_volumes = 30\n",
    "which_volumes = list(range(start_volume, start_volume + num_training_volumes))\n",
    "\n",
    "# Take the entire z stack\n",
    "which_slice = None\n",
    "nz = 33"
   ]
  },
  {
   "cell_type": "code",
   "execution_count": 11,
   "metadata": {},
   "outputs": [],
   "source": [
    "project_folder = 'C:\\\\Users\\\\charles.fieseler\\\\Documents\\\\Current_work\\\\DLC_for_WBFM\\\\DLC_Projects\\\\wbfm_3d-Charlie-2020-10-21\\\\'\n",
    "path_config_file = os.path.join(project_folder, 'config.yaml')\n",
    "\n",
    "video_fname = os.path.join(project_folder, 'videos\\\\mcherry_frames1000_slice17_22.btf')"
   ]
  },
  {
   "cell_type": "code",
   "execution_count": 13,
   "metadata": {},
   "outputs": [
    {
     "name": "stdout",
     "output_type": "stream",
     "text": [
      "Config file read successfully.\n",
      "Reading volume 100/29\n",
      "Converted volume indices: 3300 to 3332 (not including last frame)\n",
      "Saved volume to C:\\Users\\charles.fieseler\\Documents\\Current_work\\DLC_for_WBFM\\DLC_Projects\\wbfm_3d-Charlie-2020-10-21\\labeled-data\\mcherry_frames1000_slice17_22\\img100.tif\n",
      "Reading volume 101/29\n",
      "Converted volume indices: 3333 to 3365 (not including last frame)\n",
      "Saved volume to C:\\Users\\charles.fieseler\\Documents\\Current_work\\DLC_for_WBFM\\DLC_Projects\\wbfm_3d-Charlie-2020-10-21\\labeled-data\\mcherry_frames1000_slice17_22\\img101.tif\n",
      "Reading volume 102/29\n",
      "Converted volume indices: 3366 to 3398 (not including last frame)\n",
      "Saved volume to C:\\Users\\charles.fieseler\\Documents\\Current_work\\DLC_for_WBFM\\DLC_Projects\\wbfm_3d-Charlie-2020-10-21\\labeled-data\\mcherry_frames1000_slice17_22\\img102.tif\n",
      "Reading volume 103/29\n",
      "Converted volume indices: 3399 to 3431 (not including last frame)\n",
      "Saved volume to C:\\Users\\charles.fieseler\\Documents\\Current_work\\DLC_for_WBFM\\DLC_Projects\\wbfm_3d-Charlie-2020-10-21\\labeled-data\\mcherry_frames1000_slice17_22\\img103.tif\n",
      "Reading volume 104/29\n",
      "Converted volume indices: 3432 to 3464 (not including last frame)\n",
      "Saved volume to C:\\Users\\charles.fieseler\\Documents\\Current_work\\DLC_for_WBFM\\DLC_Projects\\wbfm_3d-Charlie-2020-10-21\\labeled-data\\mcherry_frames1000_slice17_22\\img104.tif\n",
      "Reading volume 105/29\n",
      "Converted volume indices: 3465 to 3497 (not including last frame)\n",
      "Saved volume to C:\\Users\\charles.fieseler\\Documents\\Current_work\\DLC_for_WBFM\\DLC_Projects\\wbfm_3d-Charlie-2020-10-21\\labeled-data\\mcherry_frames1000_slice17_22\\img105.tif\n",
      "Reading volume 106/29\n",
      "Converted volume indices: 3498 to 3530 (not including last frame)\n",
      "Saved volume to C:\\Users\\charles.fieseler\\Documents\\Current_work\\DLC_for_WBFM\\DLC_Projects\\wbfm_3d-Charlie-2020-10-21\\labeled-data\\mcherry_frames1000_slice17_22\\img106.tif\n",
      "Reading volume 107/29\n",
      "Converted volume indices: 3531 to 3563 (not including last frame)\n",
      "Saved volume to C:\\Users\\charles.fieseler\\Documents\\Current_work\\DLC_for_WBFM\\DLC_Projects\\wbfm_3d-Charlie-2020-10-21\\labeled-data\\mcherry_frames1000_slice17_22\\img107.tif\n",
      "Reading volume 108/29\n",
      "Converted volume indices: 3564 to 3596 (not including last frame)\n",
      "Saved volume to C:\\Users\\charles.fieseler\\Documents\\Current_work\\DLC_for_WBFM\\DLC_Projects\\wbfm_3d-Charlie-2020-10-21\\labeled-data\\mcherry_frames1000_slice17_22\\img108.tif\n",
      "Reading volume 109/29\n",
      "Converted volume indices: 3597 to 3629 (not including last frame)\n",
      "Saved volume to C:\\Users\\charles.fieseler\\Documents\\Current_work\\DLC_for_WBFM\\DLC_Projects\\wbfm_3d-Charlie-2020-10-21\\labeled-data\\mcherry_frames1000_slice17_22\\img109.tif\n",
      "Reading volume 110/29\n",
      "Converted volume indices: 3630 to 3662 (not including last frame)\n",
      "Saved volume to C:\\Users\\charles.fieseler\\Documents\\Current_work\\DLC_for_WBFM\\DLC_Projects\\wbfm_3d-Charlie-2020-10-21\\labeled-data\\mcherry_frames1000_slice17_22\\img110.tif\n",
      "Reading volume 111/29\n",
      "Converted volume indices: 3663 to 3695 (not including last frame)\n",
      "Saved volume to C:\\Users\\charles.fieseler\\Documents\\Current_work\\DLC_for_WBFM\\DLC_Projects\\wbfm_3d-Charlie-2020-10-21\\labeled-data\\mcherry_frames1000_slice17_22\\img111.tif\n",
      "Reading volume 112/29\n",
      "Converted volume indices: 3696 to 3728 (not including last frame)\n",
      "Saved volume to C:\\Users\\charles.fieseler\\Documents\\Current_work\\DLC_for_WBFM\\DLC_Projects\\wbfm_3d-Charlie-2020-10-21\\labeled-data\\mcherry_frames1000_slice17_22\\img112.tif\n",
      "Reading volume 113/29\n",
      "Converted volume indices: 3729 to 3761 (not including last frame)\n",
      "Saved volume to C:\\Users\\charles.fieseler\\Documents\\Current_work\\DLC_for_WBFM\\DLC_Projects\\wbfm_3d-Charlie-2020-10-21\\labeled-data\\mcherry_frames1000_slice17_22\\img113.tif\n",
      "Reading volume 114/29\n",
      "Converted volume indices: 3762 to 3794 (not including last frame)\n",
      "Saved volume to C:\\Users\\charles.fieseler\\Documents\\Current_work\\DLC_for_WBFM\\DLC_Projects\\wbfm_3d-Charlie-2020-10-21\\labeled-data\\mcherry_frames1000_slice17_22\\img114.tif\n",
      "Reading volume 115/29\n",
      "Converted volume indices: 3795 to 3827 (not including last frame)\n",
      "Saved volume to C:\\Users\\charles.fieseler\\Documents\\Current_work\\DLC_for_WBFM\\DLC_Projects\\wbfm_3d-Charlie-2020-10-21\\labeled-data\\mcherry_frames1000_slice17_22\\img115.tif\n",
      "Reading volume 116/29\n",
      "Converted volume indices: 3828 to 3860 (not including last frame)\n",
      "Saved volume to C:\\Users\\charles.fieseler\\Documents\\Current_work\\DLC_for_WBFM\\DLC_Projects\\wbfm_3d-Charlie-2020-10-21\\labeled-data\\mcherry_frames1000_slice17_22\\img116.tif\n",
      "Reading volume 117/29\n",
      "Converted volume indices: 3861 to 3893 (not including last frame)\n",
      "Saved volume to C:\\Users\\charles.fieseler\\Documents\\Current_work\\DLC_for_WBFM\\DLC_Projects\\wbfm_3d-Charlie-2020-10-21\\labeled-data\\mcherry_frames1000_slice17_22\\img117.tif\n",
      "Reading volume 118/29\n",
      "Converted volume indices: 3894 to 3926 (not including last frame)\n",
      "Saved volume to C:\\Users\\charles.fieseler\\Documents\\Current_work\\DLC_for_WBFM\\DLC_Projects\\wbfm_3d-Charlie-2020-10-21\\labeled-data\\mcherry_frames1000_slice17_22\\img118.tif\n",
      "Reading volume 119/29\n",
      "Converted volume indices: 3927 to 3959 (not including last frame)\n",
      "Saved volume to C:\\Users\\charles.fieseler\\Documents\\Current_work\\DLC_for_WBFM\\DLC_Projects\\wbfm_3d-Charlie-2020-10-21\\labeled-data\\mcherry_frames1000_slice17_22\\img119.tif\n",
      "Reading volume 120/29\n",
      "Converted volume indices: 3960 to 3992 (not including last frame)\n",
      "Saved volume to C:\\Users\\charles.fieseler\\Documents\\Current_work\\DLC_for_WBFM\\DLC_Projects\\wbfm_3d-Charlie-2020-10-21\\labeled-data\\mcherry_frames1000_slice17_22\\img120.tif\n",
      "Reading volume 121/29\n",
      "Converted volume indices: 3993 to 4025 (not including last frame)\n",
      "Saved volume to C:\\Users\\charles.fieseler\\Documents\\Current_work\\DLC_for_WBFM\\DLC_Projects\\wbfm_3d-Charlie-2020-10-21\\labeled-data\\mcherry_frames1000_slice17_22\\img121.tif\n",
      "Reading volume 122/29\n",
      "Converted volume indices: 4026 to 4058 (not including last frame)\n",
      "Saved volume to C:\\Users\\charles.fieseler\\Documents\\Current_work\\DLC_for_WBFM\\DLC_Projects\\wbfm_3d-Charlie-2020-10-21\\labeled-data\\mcherry_frames1000_slice17_22\\img122.tif\n",
      "Reading volume 123/29\n",
      "Converted volume indices: 4059 to 4091 (not including last frame)\n",
      "Saved volume to C:\\Users\\charles.fieseler\\Documents\\Current_work\\DLC_for_WBFM\\DLC_Projects\\wbfm_3d-Charlie-2020-10-21\\labeled-data\\mcherry_frames1000_slice17_22\\img123.tif\n",
      "Reading volume 124/29\n",
      "Converted volume indices: 4092 to 4124 (not including last frame)\n",
      "Saved volume to C:\\Users\\charles.fieseler\\Documents\\Current_work\\DLC_for_WBFM\\DLC_Projects\\wbfm_3d-Charlie-2020-10-21\\labeled-data\\mcherry_frames1000_slice17_22\\img124.tif\n",
      "Reading volume 125/29\n",
      "Converted volume indices: 4125 to 4157 (not including last frame)\n",
      "Saved volume to C:\\Users\\charles.fieseler\\Documents\\Current_work\\DLC_for_WBFM\\DLC_Projects\\wbfm_3d-Charlie-2020-10-21\\labeled-data\\mcherry_frames1000_slice17_22\\img125.tif\n",
      "Reading volume 126/29\n",
      "Converted volume indices: 4158 to 4190 (not including last frame)\n",
      "Saved volume to C:\\Users\\charles.fieseler\\Documents\\Current_work\\DLC_for_WBFM\\DLC_Projects\\wbfm_3d-Charlie-2020-10-21\\labeled-data\\mcherry_frames1000_slice17_22\\img126.tif\n",
      "Reading volume 127/29\n",
      "Converted volume indices: 4191 to 4223 (not including last frame)\n",
      "Saved volume to C:\\Users\\charles.fieseler\\Documents\\Current_work\\DLC_for_WBFM\\DLC_Projects\\wbfm_3d-Charlie-2020-10-21\\labeled-data\\mcherry_frames1000_slice17_22\\img127.tif\n",
      "Reading volume 128/29\n",
      "Converted volume indices: 4224 to 4256 (not including last frame)\n",
      "Saved volume to C:\\Users\\charles.fieseler\\Documents\\Current_work\\DLC_for_WBFM\\DLC_Projects\\wbfm_3d-Charlie-2020-10-21\\labeled-data\\mcherry_frames1000_slice17_22\\img128.tif\n",
      "Reading volume 129/29\n",
      "Converted volume indices: 4257 to 4289 (not including last frame)\n",
      "Saved volume to C:\\Users\\charles.fieseler\\Documents\\Current_work\\DLC_for_WBFM\\DLC_Projects\\wbfm_3d-Charlie-2020-10-21\\labeled-data\\mcherry_frames1000_slice17_22\\img129.tif\n"
     ]
    }
   ],
   "source": [
    "extract_volume_from_tiff_in_dlc_project(path_config_file, nz=nz, which_vol=which_volumes, which_slice=which_slice, video_fname=video_fname)"
   ]
  },
  {
   "cell_type": "markdown",
   "metadata": {},
   "source": [
    "### Synchronize the chosen volumes with training frames\n",
    "\n",
    "For now, just pops up the GUI to do it manually"
   ]
  },
  {
   "cell_type": "code",
   "execution_count": 14,
   "metadata": {},
   "outputs": [
    {
     "name": "stdout",
     "output_type": "stream",
     "text": [
      "Quitting for now!\n"
     ]
    }
   ],
   "source": [
    "deeplabcut.extract_frames(path_config_file, mode='manual')"
   ]
  },
  {
   "cell_type": "markdown",
   "metadata": {},
   "source": [
    "## Now, use ICY to annotate in 3d\n",
    "__DONE BY HAND AND SAVED IN CORRECT FOLDER__"
   ]
  },
  {
   "cell_type": "code",
   "execution_count": 47,
   "metadata": {},
   "outputs": [
    {
     "name": "stdout",
     "output_type": "stream",
     "text": [
      "The autoreload extension is already loaded. To reload it, use:\n",
      "  %reload_ext autoreload\n"
     ]
    }
   ],
   "source": [
    "%load_ext autoreload\n",
    "%autoreload 2"
   ]
  },
  {
   "cell_type": "code",
   "execution_count": 17,
   "metadata": {},
   "outputs": [],
   "source": [
    "# Convert the generated .xml file to DLC format\n",
    "from DLC_for_WBFM.utils.training_data.DLC_XML_conversion_utils import *\n",
    "import deeplabcut"
   ]
  },
  {
   "cell_type": "code",
   "execution_count": 18,
   "metadata": {},
   "outputs": [],
   "source": [
    "project_folder = 'C:\\\\Users\\\\charles.fieseler\\\\Documents\\\\Current_work\\\\DLC_for_WBFM\\\\DLC_Projects\\\\wbfm_3d-Charlie-2020-10-21\\\\'\n",
    "path_config_file = os.path.join(project_folder, 'config.yaml')\n",
    "\n",
    "video_fname = os.path.join(project_folder, 'videos\\\\mcherry_frames1000_slice17_22.btf')"
   ]
  },
  {
   "cell_type": "code",
   "execution_count": 20,
   "metadata": {},
   "outputs": [
    {
     "name": "stdout",
     "output_type": "stream",
     "text": [
      "Found .xml annotations: Icy_annotations.xml\n",
      "Found 1 group(s) of tracks\n",
      "Relative image names:\n",
      "['labeled-data\\\\mcherry_frames1000_slice17_22\\\\img0000.png', 'labeled-data\\\\mcherry_frames1000_slice17_22\\\\img0001.png', 'labeled-data\\\\mcherry_frames1000_slice17_22\\\\img0002.png', 'labeled-data\\\\mcherry_frames1000_slice17_22\\\\img0003.png', 'labeled-data\\\\mcherry_frames1000_slice17_22\\\\img0004.png', 'labeled-data\\\\mcherry_frames1000_slice17_22\\\\img0005.png', 'labeled-data\\\\mcherry_frames1000_slice17_22\\\\img0006.png', 'labeled-data\\\\mcherry_frames1000_slice17_22\\\\img0007.png', 'labeled-data\\\\mcherry_frames1000_slice17_22\\\\img0008.png', 'labeled-data\\\\mcherry_frames1000_slice17_22\\\\img0009.png', 'labeled-data\\\\mcherry_frames1000_slice17_22\\\\img0010.png', 'labeled-data\\\\mcherry_frames1000_slice17_22\\\\img0011.png', 'labeled-data\\\\mcherry_frames1000_slice17_22\\\\img0012.png', 'labeled-data\\\\mcherry_frames1000_slice17_22\\\\img0013.png', 'labeled-data\\\\mcherry_frames1000_slice17_22\\\\img0014.png', 'labeled-data\\\\mcherry_frames1000_slice17_22\\\\img0015.png', 'labeled-data\\\\mcherry_frames1000_slice17_22\\\\img0016.png', 'labeled-data\\\\mcherry_frames1000_slice17_22\\\\img0017.png', 'labeled-data\\\\mcherry_frames1000_slice17_22\\\\img0018.png', 'labeled-data\\\\mcherry_frames1000_slice17_22\\\\img0019.png', 'labeled-data\\\\mcherry_frames1000_slice17_22\\\\img0020.png', 'labeled-data\\\\mcherry_frames1000_slice17_22\\\\img0021.png', 'labeled-data\\\\mcherry_frames1000_slice17_22\\\\img0022.png', 'labeled-data\\\\mcherry_frames1000_slice17_22\\\\img0023.png', 'labeled-data\\\\mcherry_frames1000_slice17_22\\\\img0024.png', 'labeled-data\\\\mcherry_frames1000_slice17_22\\\\img0025.png', 'labeled-data\\\\mcherry_frames1000_slice17_22\\\\img0026.png', 'labeled-data\\\\mcherry_frames1000_slice17_22\\\\img0027.png', 'labeled-data\\\\mcherry_frames1000_slice17_22\\\\img0028.png', 'labeled-data\\\\mcherry_frames1000_slice17_22\\\\img0029.png']\n",
      "['neuron0', 'neuron1', 'neuron2']\n",
      "['neuron0', 'neuron1', 'neuron2', 'neuron3', 'neuron4', 'neuron5', 'neuron6', 'neuron7', 'neuron8', 'neuron9', 'neuron10', 'neuron11', 'neuron12', 'neuron13', 'neuron14', 'neuron15', 'neuron16', 'neuron17', 'neuron18', 'neuron19']\n",
      "Finished writing .csv and .h5; wrote 3 neurons\n",
      "Found .xml annotations: Icy_annotations.xml\n",
      "Adding body part annotations for 3 neurons\n",
      "Finished! Check the config.yaml file to make sure the bodyparts are properly written\n",
      "Finished updating config file with\n"
     ]
    }
   ],
   "source": [
    "df = icy_xml_to_dlc(path_config_file)"
   ]
  },
  {
   "cell_type": "code",
   "execution_count": 22,
   "metadata": {},
   "outputs": [
    {
     "name": "stdout",
     "output_type": "stream",
     "text": [
      "Creating images with labels by Charlie.\n",
      "C:\\Users\\charles.fieseler\\Documents\\Current_work\\DLC_for_WBFM\\DLC_Projects\\wbfm_3d-Charlie-2020-10-21\\labeled-data\\mcherry_frames1000_slice17_22_labeled  already exists!\n",
      "They are stored in the following folder: C:\\Users\\charles.fieseler\\Documents\\Current_work\\DLC_for_WBFM\\DLC_Projects\\wbfm_3d-Charlie-2020-10-21\\labeled-data\\mcherry_frames1000_slice17_22_labeled.\n",
      "If all the labels are ok, then use the function 'create_training_dataset' to create the training dataset!\n"
     ]
    }
   ],
   "source": [
    "# Check the annotations\n",
    "deeplabcut.check_labels(path_config_file)"
   ]
  },
  {
   "cell_type": "code",
   "execution_count": null,
   "metadata": {},
   "outputs": [],
   "source": []
  }
 ],
 "metadata": {
  "kernelspec": {
   "display_name": "Python 3",
   "language": "python",
   "name": "python3"
  },
  "language_info": {
   "codemirror_mode": {
    "name": "ipython",
    "version": 3
   },
   "file_extension": ".py",
   "mimetype": "text/x-python",
   "name": "python",
   "nbconvert_exporter": "python",
   "pygments_lexer": "ipython3",
   "version": "3.7.9"
  }
 },
 "nbformat": 4,
 "nbformat_minor": 4
}
