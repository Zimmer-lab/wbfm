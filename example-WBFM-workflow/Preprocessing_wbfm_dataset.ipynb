{
 "cells": [
  {
   "cell_type": "markdown",
   "metadata": {},
   "source": [
    "# Preprocessing\n",
    "\n",
    "Data life cycle for this project:\n",
    "- .stk (Volumes; Initial recording from microscope)\n",
    "- .stk -> .ome.tiff (Volumes; Fiji conversion; take only ~500 frames)\n",
    "- .ome.tiff -> .ome.tiff (Volumes to planes; this file)\n",
    "- .ome.tiff -> .avi (planes to video; this file)"
   ]
  },
  {
   "cell_type": "code",
   "execution_count": null,
   "metadata": {},
   "outputs": [],
   "source": [
    "import numpy as np\n",
    "import tifffile\n",
    "import os\n",
    "\n",
    "from DLC_for_WBFM.utils.video_and_data_conversion.video_conversion_utils import *"
   ]
  },
  {
   "cell_type": "markdown",
   "metadata": {},
   "source": [
    "## Read the FULL mcherry data, and save a smaller ome-tiff, then a slice as .avi"
   ]
  },
  {
   "cell_type": "code",
   "execution_count": null,
   "metadata": {},
   "outputs": [],
   "source": [
    "# Read in FULL mCherry data\n",
    "input_foldername = '/groups/zimmer/Ulises/wbfm/20200924and28/202009282020-09-28_17-30-28_worm4_chemotaxis-channel-0-pco_camera1/'\n",
    "fname = '202009282020-09-28_17-30-28_worm4_chemotaxis-channel-0-pco_camera1bigtiff.btf'\n",
    "input_fname = os.path.join(input_foldername, fname)\n",
    "\n",
    "num_frames = 400\n",
    "which_slices = [7,8,9,10,11]\n",
    "\n",
    "# Final .avi\n",
    "output_foldername = '/users/charles.fieseler/shared_projects/wbfm/dat/short_wbfm_z_stabilized/'\n",
    "fname = f'202009282020-09-28_17-30-28_worm4_chemotaxis-channel-0-pco_camera1_bigtiff_gcamp_frames{num_frames}_slice{which_slices[0]}_{which_slices[-1]}.avi'\n",
    "output_fname = os.path.join(output_foldername, fname)"
   ]
  },
  {
   "cell_type": "code",
   "execution_count": null,
   "metadata": {},
   "outputs": [],
   "source": [
    "\n",
    "# Get the exact frame size\n",
    "tif = tifffile.TiffFile(input_fname)\n",
    "with tifffile.TiffFile(input_fname) as tif:\n",
    "    frame_height, frame_width = tif.pages[0].shape\n",
    "#     alpha = 0.9 * 255.0 / np.max(tif.pages[0].asarray())\n",
    "\n",
    "alpha = 0.2"
   ]
  },
  {
   "cell_type": "code",
   "execution_count": null,
   "metadata": {},
   "outputs": [],
   "source": [
    "\n",
    "write_video_projection_from_ome_file_subset(input_fname, output_fname, which_slices=which_slices,\n",
    "                                             frame_width=frame_width, frame_height=frame_height,\n",
    "                                             num_slices=33,\n",
    "                                             num_frames=num_frames,\n",
    "                                             alpha=alpha) # e.g. from above OME-TIFF"
   ]
  },
  {
   "cell_type": "markdown",
   "metadata": {},
   "source": [
    "## Write the final max-projected .avi"
   ]
  },
  {
   "cell_type": "code",
   "execution_count": 15,
   "metadata": {
    "collapsed": true,
    "jupyter": {
     "outputs_hidden": true
    }
   },
   "outputs": [
    {
     "name": "stdout",
     "output_type": "stream",
     "text": [
      "Page 8/3355\n",
      "Page 41/3355\n",
      "Page 74/3355\n",
      "Page 107/3355\n",
      "Page 140/3355\n",
      "Page 173/3355\n",
      "Page 206/3355\n",
      "Page 239/3355\n",
      "Page 272/3355\n",
      "Page 305/3355\n",
      "Page 338/3355\n",
      "Page 371/3355\n",
      "Page 404/3355\n",
      "Page 437/3355\n",
      "Page 470/3355\n",
      "Page 503/3355\n",
      "Page 536/3355\n",
      "Page 569/3355\n",
      "Page 602/3355\n",
      "Page 635/3355\n",
      "Page 668/3355\n",
      "Page 701/3355\n",
      "Page 734/3355\n",
      "Page 767/3355\n",
      "Page 800/3355\n",
      "Page 833/3355\n",
      "Page 866/3355\n",
      "Page 899/3355\n",
      "Page 932/3355\n",
      "Page 965/3355\n",
      "Page 998/3355\n",
      "Page 1031/3355\n",
      "Page 1064/3355\n",
      "Page 1097/3355\n",
      "Page 1130/3355\n",
      "Page 1163/3355\n",
      "Page 1196/3355\n",
      "Page 1229/3355\n",
      "Page 1262/3355\n",
      "Page 1295/3355\n",
      "Page 1328/3355\n",
      "Page 1361/3355\n",
      "Page 1394/3355\n",
      "Page 1427/3355\n",
      "Page 1460/3355\n",
      "Page 1493/3355\n",
      "Page 1526/3355\n",
      "Page 1559/3355\n",
      "Page 1592/3355\n",
      "Page 1625/3355\n",
      "Page 1658/3355\n",
      "Page 1691/3355\n",
      "Page 1724/3355\n",
      "Page 1757/3355\n",
      "Page 1790/3355\n",
      "Page 1823/3355\n",
      "Page 1856/3355\n",
      "Page 1889/3355\n",
      "Page 1922/3355\n",
      "Page 1955/3355\n",
      "Page 1988/3355\n",
      "Page 2021/3355\n",
      "Page 2054/3355\n",
      "Page 2087/3355\n",
      "Page 2120/3355\n",
      "Page 2153/3355\n",
      "Page 2186/3355\n",
      "Page 2219/3355\n",
      "Page 2252/3355\n",
      "Page 2285/3355\n",
      "Page 2318/3355\n",
      "Page 2351/3355\n",
      "Page 2384/3355\n",
      "Page 2417/3355\n",
      "Page 2450/3355\n",
      "Page 2483/3355\n",
      "Page 2516/3355\n",
      "Page 2549/3355\n",
      "Page 2582/3355\n",
      "Page 2615/3355\n",
      "Page 2648/3355\n",
      "Page 2681/3355\n",
      "Page 2714/3355\n",
      "Page 2747/3355\n",
      "Page 2780/3355\n",
      "Page 2813/3355\n",
      "Page 2846/3355\n",
      "Page 2879/3355\n",
      "Page 2912/3355\n",
      "Page 2945/3355\n",
      "Page 2978/3355\n",
      "Page 3011/3355\n",
      "Page 3044/3355\n",
      "Page 3077/3355\n",
      "Page 3110/3355\n",
      "Page 3143/3355\n",
      "Page 3176/3355\n",
      "Page 3209/3355\n",
      "Page 3242/3355\n",
      "Page 3275/3355\n",
      "Page 3308/3355\n",
      "Page 3341/3355\n"
     ]
    }
   ],
   "source": [
    "slices_to_project = [6, 10]\n",
    "dat_projected = np.max(dat[slices_to_project[0]:slices_to_project[1]+1,...], axis=0)\n",
    "\n",
    "output_foldername = '/users/charles.fieseler/shared_projects/wbfm/dat/short_wbfm_z_stabilized/'\n",
    "fname = f'202009282020-09-28_17-30-28_worm4_chemotaxis-channel-0-pco_camera1_bigtiff_gcamp_frames{num_frames}.avi'\n",
    "output_fname = os.path.join(output_foldername, fname)\n"
   ]
  },
  {
   "cell_type": "code",
   "execution_count": null,
   "metadata": {},
   "outputs": [],
   "source": [
    " write_numpy_as_avi(data, fname=output_fname)"
   ]
  },
  {
   "cell_type": "markdown",
   "metadata": {},
   "source": [
    "## Do the same, but for other channel"
   ]
  },
  {
   "cell_type": "code",
   "execution_count": 16,
   "metadata": {},
   "outputs": [],
   "source": [
    "# Read in mCherry data\n",
    "input_foldername = '/users/charles.fieseler/shared_projects/wbfm/dat/short_wbfm_z_stabilized/'\n",
    "fname = '202009282020-09-28_17-30-28_worm4_chemotaxis-channel-0-pco_camera1_MMStack_2.ome.tif'\n",
    "input_fname = os.path.join(input_foldername, fname)\n",
    "\n",
    "which_slice = 8\n",
    "\n",
    "# Get the exact frame size\n",
    "tif = tifffile.TiffFile(input_fname)\n",
    "with tifffile.TiffFile(input_fname) as tif:\n",
    "    frame_height, frame_width = tif.pages[0].shape\n",
    "    alpha = 0.9 * 255.0 / np.max(tif.pages[0].asarray())\n",
    "    "
   ]
  },
  {
   "cell_type": "code",
   "execution_count": 17,
   "metadata": {
    "collapsed": true,
    "jupyter": {
     "outputs_hidden": true
    }
   },
   "outputs": [
    {
     "name": "stdout",
     "output_type": "stream",
     "text": [
      "Page 8/3355\n",
      "Page 41/3355\n",
      "Page 74/3355\n",
      "Page 107/3355\n",
      "Page 140/3355\n",
      "Page 173/3355\n",
      "Page 206/3355\n",
      "Page 239/3355\n",
      "Page 272/3355\n",
      "Page 305/3355\n",
      "Page 338/3355\n",
      "Page 371/3355\n",
      "Page 404/3355\n",
      "Page 437/3355\n",
      "Page 470/3355\n",
      "Page 503/3355\n",
      "Page 536/3355\n",
      "Page 569/3355\n",
      "Page 602/3355\n",
      "Page 635/3355\n",
      "Page 668/3355\n",
      "Page 701/3355\n",
      "Page 734/3355\n",
      "Page 767/3355\n",
      "Page 800/3355\n",
      "Page 833/3355\n",
      "Page 866/3355\n",
      "Page 899/3355\n",
      "Page 932/3355\n",
      "Page 965/3355\n",
      "Page 998/3355\n",
      "Page 1031/3355\n",
      "Page 1064/3355\n",
      "Page 1097/3355\n",
      "Page 1130/3355\n",
      "Page 1163/3355\n",
      "Page 1196/3355\n",
      "Page 1229/3355\n",
      "Page 1262/3355\n",
      "Page 1295/3355\n",
      "Page 1328/3355\n",
      "Page 1361/3355\n",
      "Page 1394/3355\n",
      "Page 1427/3355\n",
      "Page 1460/3355\n",
      "Page 1493/3355\n",
      "Page 1526/3355\n",
      "Page 1559/3355\n",
      "Page 1592/3355\n",
      "Page 1625/3355\n",
      "Page 1658/3355\n",
      "Page 1691/3355\n",
      "Page 1724/3355\n",
      "Page 1757/3355\n",
      "Page 1790/3355\n",
      "Page 1823/3355\n",
      "Page 1856/3355\n",
      "Page 1889/3355\n",
      "Page 1922/3355\n",
      "Page 1955/3355\n",
      "Page 1988/3355\n",
      "Page 2021/3355\n",
      "Page 2054/3355\n",
      "Page 2087/3355\n",
      "Page 2120/3355\n",
      "Page 2153/3355\n",
      "Page 2186/3355\n",
      "Page 2219/3355\n",
      "Page 2252/3355\n",
      "Page 2285/3355\n",
      "Page 2318/3355\n",
      "Page 2351/3355\n",
      "Page 2384/3355\n",
      "Page 2417/3355\n",
      "Page 2450/3355\n",
      "Page 2483/3355\n",
      "Page 2516/3355\n",
      "Page 2549/3355\n",
      "Page 2582/3355\n",
      "Page 2615/3355\n",
      "Page 2648/3355\n",
      "Page 2681/3355\n",
      "Page 2714/3355\n",
      "Page 2747/3355\n",
      "Page 2780/3355\n",
      "Page 2813/3355\n",
      "Page 2846/3355\n",
      "Page 2879/3355\n",
      "Page 2912/3355\n",
      "Page 2945/3355\n",
      "Page 2978/3355\n",
      "Page 3011/3355\n",
      "Page 3044/3355\n",
      "Page 3077/3355\n",
      "Page 3110/3355\n",
      "Page 3143/3355\n",
      "Page 3176/3355\n",
      "Page 3209/3355\n",
      "Page 3242/3355\n",
      "Page 3275/3355\n",
      "Page 3308/3355\n",
      "Page 3341/3355\n"
     ]
    }
   ],
   "source": [
    "\n",
    "output_foldername = '/users/charles.fieseler/shared_projects/wbfm/dat/short_wbfm_z_stabilized/'\n",
    "fname = f'202009282020-09-28_17-30-28_worm4_chemotaxis-channel-0-pco_camera1_MMStack_2_mcherry_slice{which_slice}.avi'\n",
    "output_fname = os.path.join(output_foldername, fname)\n",
    "\n",
    "write_video_from_ome_file_subset(input_fname, output_fname, \n",
    "                                 frame_width=frame_width, frame_height=frame_height, which_slice=which_slice,\n",
    "                                 num_slices=33,\n",
    "                                alpha=alpha) # e.g. from above OME-TIFF"
   ]
  },
  {
   "cell_type": "markdown",
   "metadata": {},
   "source": [
    "## Now, go to your local computer and track!"
   ]
  },
  {
   "cell_type": "code",
   "execution_count": null,
   "metadata": {},
   "outputs": [],
   "source": []
  },
  {
   "cell_type": "code",
   "execution_count": null,
   "metadata": {},
   "outputs": [],
   "source": []
  }
 ],
 "metadata": {
  "kernelspec": {
   "display_name": "Python [conda env:.conda-deep-cpd]",
   "language": "python",
   "name": "conda-env-.conda-deep-cpd-py"
  },
  "language_info": {
   "codemirror_mode": {
    "name": "ipython",
    "version": 2
   },
   "file_extension": ".py",
   "mimetype": "text/x-python",
   "name": "python",
   "nbconvert_exporter": "python",
   "pygments_lexer": "ipython2",
   "version": "2.7.18"
  }
 },
 "nbformat": 4,
 "nbformat_minor": 4
}
