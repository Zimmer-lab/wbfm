{
 "cells": [
  {
   "cell_type": "markdown",
   "metadata": {},
   "source": [
    "# Preprocessing\n",
    "\n",
    "Data life cycle for this project:\n",
    "- .stk (Volumes; Initial recording from microscope)\n",
    "- .stk -> .ome.tiff (Volumes; Fiji conversion; take only ~500 frames)\n",
    "- .ome.tiff -> .ome.tiff (Volumes to planes; this file)\n",
    "- .ome.tiff -> .avi (planes to video; this file)"
   ]
  },
  {
   "cell_type": "code",
   "execution_count": 1,
   "metadata": {},
   "outputs": [],
   "source": [
    "import numpy as np\n",
    "import tifffile\n",
    "import os\n",
    "\n",
    "from DLC_for_WBFM.utils.video_and_data_conversion.video_conversion_utils import *"
   ]
  },
  {
   "cell_type": "markdown",
   "metadata": {},
   "source": [
    "## Read the data in, and save a slice as .avi"
   ]
  },
  {
   "cell_type": "code",
   "execution_count": 2,
   "metadata": {},
   "outputs": [],
   "source": [
    "# Read in mCherry data\n",
    "input_foldername = '/users/charles.fieseler/shared_projects/ForCharlie/27082020_freelyimmobilized_trial2_ome_tiff_1601990420/'\n",
    "fname = '27082020_trial2_HEAD_500frames_mcherry.ome.tif'\n",
    "input_fname = os.path.join(input_foldername, fname)\n",
    "\n",
    "dat = tifffile.imread(input_fname)"
   ]
  },
  {
   "cell_type": "code",
   "execution_count": 2,
   "metadata": {},
   "outputs": [
    {
     "ename": "NameError",
     "evalue": "name 'dat' is not defined",
     "output_type": "error",
     "traceback": [
      "\u001b[0;31m---------------------------------------------------------------------------\u001b[0m",
      "\u001b[0;31mNameError\u001b[0m                                 Traceback (most recent call last)",
      "\u001b[0;32m<ipython-input-2-07302a7527b2>\u001b[0m in \u001b[0;36m<module>\u001b[0;34m\u001b[0m\n\u001b[1;32m      1\u001b[0m \u001b[0;31m# Take a single slice\u001b[0m\u001b[0;34m\u001b[0m\u001b[0;34m\u001b[0m\u001b[0;34m\u001b[0m\u001b[0m\n\u001b[1;32m      2\u001b[0m \u001b[0mwhich_slice\u001b[0m \u001b[0;34m=\u001b[0m \u001b[0;36m8\u001b[0m\u001b[0;34m\u001b[0m\u001b[0;34m\u001b[0m\u001b[0m\n\u001b[0;32m----> 3\u001b[0;31m \u001b[0mdat_slice\u001b[0m \u001b[0;34m=\u001b[0m \u001b[0mdat\u001b[0m\u001b[0;34m[\u001b[0m\u001b[0;34m:\u001b[0m\u001b[0;34m,\u001b[0m\u001b[0mwhich_slice\u001b[0m\u001b[0;34m,\u001b[0m\u001b[0;34m...\u001b[0m\u001b[0;34m]\u001b[0m\u001b[0;34m\u001b[0m\u001b[0;34m\u001b[0m\u001b[0m\n\u001b[0m",
      "\u001b[0;31mNameError\u001b[0m: name 'dat' is not defined"
     ]
    }
   ],
   "source": [
    "# Take a single slice\n",
    "which_slice = 8\n",
    "dat_slice = dat[:,which_slice,...]"
   ]
  },
  {
   "cell_type": "code",
   "execution_count": 4,
   "metadata": {},
   "outputs": [
    {
     "name": "stdout",
     "output_type": "stream",
     "text": [
      "Writing to /users/charles.fieseler/shared_projects/wbfm/dat/immobilized_wbfm_hardware/27082020_trial2_HEAD_500frames_mcherry_slice8.avi\n",
      "Writing frame 0/500\n",
      "Writing frame 10/500\n",
      "Writing frame 20/500\n",
      "Writing frame 30/500\n",
      "Writing frame 40/500\n",
      "Writing frame 50/500\n",
      "Writing frame 60/500\n",
      "Writing frame 70/500\n",
      "Writing frame 80/500\n",
      "Writing frame 90/500\n",
      "Writing frame 100/500\n",
      "Writing frame 110/500\n",
      "Writing frame 120/500\n",
      "Writing frame 130/500\n",
      "Writing frame 140/500\n",
      "Writing frame 150/500\n",
      "Writing frame 160/500\n",
      "Writing frame 170/500\n",
      "Writing frame 180/500\n",
      "Writing frame 190/500\n",
      "Writing frame 200/500\n",
      "Writing frame 210/500\n",
      "Writing frame 220/500\n",
      "Writing frame 230/500\n",
      "Writing frame 240/500\n",
      "Writing frame 250/500\n",
      "Writing frame 260/500\n",
      "Writing frame 270/500\n",
      "Writing frame 280/500\n",
      "Writing frame 290/500\n",
      "Writing frame 300/500\n",
      "Writing frame 310/500\n",
      "Writing frame 320/500\n",
      "Writing frame 330/500\n",
      "Writing frame 340/500\n",
      "Writing frame 350/500\n",
      "Writing frame 360/500\n",
      "Writing frame 370/500\n",
      "Writing frame 380/500\n",
      "Writing frame 390/500\n",
      "Writing frame 400/500\n",
      "Writing frame 410/500\n",
      "Writing frame 420/500\n",
      "Writing frame 430/500\n",
      "Writing frame 440/500\n",
      "Writing frame 450/500\n",
      "Writing frame 460/500\n",
      "Writing frame 470/500\n",
      "Writing frame 480/500\n",
      "Writing frame 490/500\n",
      "Finished\n"
     ]
    }
   ],
   "source": [
    "\n",
    "output_foldername = '/users/charles.fieseler/shared_projects/wbfm/dat/immobilized_wbfm_hardware/'\n",
    "fname = f'27082020_trial2_HEAD_500frames_mcherry_slice{which_slice}.avi'\n",
    "output_fname = os.path.join(output_foldername, fname)\n",
    "\n",
    "write_numpy_as_avi(dat_slice, fname=output_fname) # e.g. from above OME-TIFF"
   ]
  },
  {
   "cell_type": "markdown",
   "metadata": {},
   "source": [
    "## Do the same, but for GCaMP"
   ]
  },
  {
   "cell_type": "code",
   "execution_count": 4,
   "metadata": {},
   "outputs": [],
   "source": [
    "# Read in mCherry data\n",
    "input_foldername = '/users/charles.fieseler/shared_projects/ForCharlie/27082020_freelyimmobilized_trial2_ome_tiff_1601990420/'\n",
    "fname = '27082020_trial2_HEAD_500frames_gcamp.ome.tif'\n",
    "input_fname = os.path.join(input_foldername, fname)\n",
    "\n",
    "dat = tifffile.imread(input_fname)"
   ]
  },
  {
   "cell_type": "code",
   "execution_count": 7,
   "metadata": {},
   "outputs": [],
   "source": [
    "# Take a single slice: SAME AS ABOVE\n",
    "which_slice = 8\n",
    "dat_slice = dat[:,which_slice,...]"
   ]
  },
  {
   "cell_type": "code",
   "execution_count": 8,
   "metadata": {},
   "outputs": [
    {
     "name": "stdout",
     "output_type": "stream",
     "text": [
      "Writing to /users/charles.fieseler/shared_projects/wbfm/dat/immobilized_wbfm_hardware/27082020_trial2_HEAD_500frames_mcherry_slice8.avi\n",
      "Writing frame 0/500\n",
      "Writing frame 10/500\n",
      "Writing frame 20/500\n",
      "Writing frame 30/500\n",
      "Writing frame 40/500\n",
      "Writing frame 50/500\n",
      "Writing frame 60/500\n",
      "Writing frame 70/500\n",
      "Writing frame 80/500\n",
      "Writing frame 90/500\n",
      "Writing frame 100/500\n",
      "Writing frame 110/500\n",
      "Writing frame 120/500\n",
      "Writing frame 130/500\n",
      "Writing frame 140/500\n",
      "Writing frame 150/500\n",
      "Writing frame 160/500\n",
      "Writing frame 170/500\n",
      "Writing frame 180/500\n",
      "Writing frame 190/500\n",
      "Writing frame 200/500\n",
      "Writing frame 210/500\n",
      "Writing frame 220/500\n",
      "Writing frame 230/500\n",
      "Writing frame 240/500\n",
      "Writing frame 250/500\n",
      "Writing frame 260/500\n",
      "Writing frame 270/500\n",
      "Writing frame 280/500\n",
      "Writing frame 290/500\n",
      "Writing frame 300/500\n",
      "Writing frame 310/500\n",
      "Writing frame 320/500\n",
      "Writing frame 330/500\n",
      "Writing frame 340/500\n",
      "Writing frame 350/500\n",
      "Writing frame 360/500\n",
      "Writing frame 370/500\n",
      "Writing frame 380/500\n",
      "Writing frame 390/500\n",
      "Writing frame 400/500\n",
      "Writing frame 410/500\n",
      "Writing frame 420/500\n",
      "Writing frame 430/500\n",
      "Writing frame 440/500\n",
      "Writing frame 450/500\n",
      "Writing frame 460/500\n",
      "Writing frame 470/500\n",
      "Writing frame 480/500\n",
      "Writing frame 490/500\n",
      "Finished\n"
     ]
    }
   ],
   "source": [
    "\n",
    "output_foldername = '/users/charles.fieseler/shared_projects/wbfm/dat/immobilized_wbfm_hardware/'\n",
    "fname = f'27082020_trial2_HEAD_500frames_mcherry_slice{which_slice}.avi'\n",
    "output_fname = os.path.join(output_foldername, fname)\n",
    "\n",
    "write_numpy_as_avi(dat_slice, fname=output_fname) # e.g. from above OME-TIFF"
   ]
  },
  {
   "cell_type": "markdown",
   "metadata": {},
   "source": [
    "## Now, go to your local computer and track!"
   ]
  },
  {
   "cell_type": "code",
   "execution_count": null,
   "metadata": {},
   "outputs": [],
   "source": []
  }
 ],
 "metadata": {
  "kernelspec": {
   "display_name": "Python [conda env:.conda-DLC-preprocessing]",
   "language": "python",
   "name": "conda-env-.conda-DLC-preprocessing-py"
  },
  "language_info": {
   "codemirror_mode": {
    "name": "ipython",
    "version": 3
   },
   "file_extension": ".py",
   "mimetype": "text/x-python",
   "name": "python",
   "nbconvert_exporter": "python",
   "pygments_lexer": "ipython3",
   "version": "3.7.9"
  }
 },
 "nbformat": 4,
 "nbformat_minor": 4
}
