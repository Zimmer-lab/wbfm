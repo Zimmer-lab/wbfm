{
 "cells": [
  {
   "cell_type": "markdown",
   "metadata": {},
   "source": [
    "# First, just the motpy demo\n",
    "https://github.com/wmuron/motpy"
   ]
  },
  {
   "cell_type": "code",
   "execution_count": 21,
   "metadata": {},
   "outputs": [],
   "source": [
    "import cv2\n",
    "\n",
    "import matplotlib.pyplot as plt\n",
    "import motpy\n",
    "from motpy import MultiObjectTracker, ModelPreset\n",
    "from motpy.testing_viz import draw_rectangle, draw_text, image_generator\n",
    "\n",
    "motpy.set_log_level('DEBUG')\n",
    "\n",
    "\n",
    "def demo_tracking_visualization(num_steps: int = 1000, num_objects: int = 1):\n",
    "    gen = image_generator(\n",
    "        num_steps=num_steps,\n",
    "        num_objects=num_objects,\n",
    "        max_omega=0.03,\n",
    "        miss_prob=0.33,\n",
    "        disappear_prob=0.00,\n",
    "        det_err_sigma=3.33)\n",
    "\n",
    "    dt = 1 / 24\n",
    "    tracker = MultiObjectTracker(\n",
    "        dt=dt,\n",
    "        model_spec=ModelPreset.constant_acceleration_and_static_box_size_2d.value,\n",
    "        active_tracks_kwargs={'min_steps_alive': 2, 'max_staleness': 6},\n",
    "        tracker_kwargs={'max_staleness': 12})\n",
    "\n",
    "    fig = plt.figure(figsize=(45,15))\n",
    "    \n",
    "    all_images = []\n",
    "    \n",
    "    for i in range(num_steps):\n",
    "        print(f'Step {i}/{num_steps}')\n",
    "        img, _, detections = next(gen)\n",
    "\n",
    "        detections = [d for d in detections if d.box is not None]\n",
    "        active_tracks = tracker.step(detections=detections)\n",
    "\n",
    "        error\n",
    "        for track in active_tracks:\n",
    "            img = draw_rectangle(img, track.box, color=(10, 10, 220), thickness=5)\n",
    "            img = draw_text(img, track.id, above_box=track.box)\n",
    "\n",
    "        for det in detections:\n",
    "            img = draw_rectangle(img, det.box, color=(10, 220, 20), thickness=2)\n",
    "\n",
    "#         plt.imshow(img)\n",
    "#         fig.canvas.draw()\n",
    "#         fig.canvas.flush_events()\n",
    "        all_images.append(img)\n",
    "    \n",
    "    return all_images\n"
   ]
  },
  {
   "cell_type": "code",
   "execution_count": 22,
   "metadata": {
    "scrolled": true
   },
   "outputs": [
    {
     "name": "stdout",
     "output_type": "stream",
     "text": [
      "Step 0/100\n",
      "2020-12-09 15:43:15.855 | DEBUG    | motpy.tracker:__init__:60 - creating new object tracker with {'order_pos': 2, 'dim_pos': 2, 'order_size': 0, 'dim_size': 2} and id 7954b2c9-a0ef-4368-a4e7-61aefa987c7f\n",
      "2020-12-09 15:43:15.855 | DEBUG    | motpy.tracker:__init__:60 - creating new object tracker with {'order_pos': 2, 'dim_pos': 2, 'order_size': 0, 'dim_size': 2} and id 3de349ff-5634-4f00-a2a4-c65045b634a4\n"
     ]
    },
    {
     "ename": "NameError",
     "evalue": "name 'error' is not defined",
     "output_type": "error",
     "traceback": [
      "\u001b[1;31m---------------------------------------------------------------------------\u001b[0m",
      "\u001b[1;31mNameError\u001b[0m                                 Traceback (most recent call last)",
      "\u001b[1;32m<ipython-input-22-b0ca9915c24e>\u001b[0m in \u001b[0;36m<module>\u001b[1;34m\u001b[0m\n\u001b[1;32m----> 1\u001b[1;33m \u001b[0mall_images\u001b[0m \u001b[1;33m=\u001b[0m \u001b[0mdemo_tracking_visualization\u001b[0m\u001b[1;33m(\u001b[0m\u001b[1;36m100\u001b[0m\u001b[1;33m,\u001b[0m \u001b[1;36m4\u001b[0m\u001b[1;33m)\u001b[0m\u001b[1;33m\u001b[0m\u001b[1;33m\u001b[0m\u001b[0m\n\u001b[0m",
      "\u001b[1;32m<ipython-input-21-ada177c3c018>\u001b[0m in \u001b[0;36mdemo_tracking_visualization\u001b[1;34m(num_steps, num_objects)\u001b[0m\n\u001b[0;32m     36\u001b[0m         \u001b[0mactive_tracks\u001b[0m \u001b[1;33m=\u001b[0m \u001b[0mtracker\u001b[0m\u001b[1;33m.\u001b[0m\u001b[0mstep\u001b[0m\u001b[1;33m(\u001b[0m\u001b[0mdetections\u001b[0m\u001b[1;33m=\u001b[0m\u001b[0mdetections\u001b[0m\u001b[1;33m)\u001b[0m\u001b[1;33m\u001b[0m\u001b[1;33m\u001b[0m\u001b[0m\n\u001b[0;32m     37\u001b[0m \u001b[1;33m\u001b[0m\u001b[0m\n\u001b[1;32m---> 38\u001b[1;33m         \u001b[0merror\u001b[0m\u001b[1;33m\u001b[0m\u001b[1;33m\u001b[0m\u001b[0m\n\u001b[0m\u001b[0;32m     39\u001b[0m         \u001b[1;32mfor\u001b[0m \u001b[0mtrack\u001b[0m \u001b[1;32min\u001b[0m \u001b[0mactive_tracks\u001b[0m\u001b[1;33m:\u001b[0m\u001b[1;33m\u001b[0m\u001b[1;33m\u001b[0m\u001b[0m\n\u001b[0;32m     40\u001b[0m             \u001b[0mimg\u001b[0m \u001b[1;33m=\u001b[0m \u001b[0mdraw_rectangle\u001b[0m\u001b[1;33m(\u001b[0m\u001b[0mimg\u001b[0m\u001b[1;33m,\u001b[0m \u001b[0mtrack\u001b[0m\u001b[1;33m.\u001b[0m\u001b[0mbox\u001b[0m\u001b[1;33m,\u001b[0m \u001b[0mcolor\u001b[0m\u001b[1;33m=\u001b[0m\u001b[1;33m(\u001b[0m\u001b[1;36m10\u001b[0m\u001b[1;33m,\u001b[0m \u001b[1;36m10\u001b[0m\u001b[1;33m,\u001b[0m \u001b[1;36m220\u001b[0m\u001b[1;33m)\u001b[0m\u001b[1;33m,\u001b[0m \u001b[0mthickness\u001b[0m\u001b[1;33m=\u001b[0m\u001b[1;36m5\u001b[0m\u001b[1;33m)\u001b[0m\u001b[1;33m\u001b[0m\u001b[1;33m\u001b[0m\u001b[0m\n",
      "\u001b[1;31mNameError\u001b[0m: name 'error' is not defined"
     ]
    },
    {
     "data": {
      "text/plain": [
       "<Figure size 3240x1080 with 0 Axes>"
      ]
     },
     "metadata": {},
     "output_type": "display_data"
    }
   ],
   "source": [
    "\n",
    "all_images = demo_tracking_visualization(100, 4)"
   ]
  },
  {
   "cell_type": "code",
   "execution_count": 23,
   "metadata": {},
   "outputs": [
    {
     "name": "stdout",
     "output_type": "stream",
     "text": [
      "> \u001b[1;32m<ipython-input-21-ada177c3c018>\u001b[0m(38)\u001b[0;36mdemo_tracking_visualization\u001b[1;34m()\u001b[0m\n",
      "\u001b[1;32m     36 \u001b[1;33m        \u001b[0mactive_tracks\u001b[0m \u001b[1;33m=\u001b[0m \u001b[0mtracker\u001b[0m\u001b[1;33m.\u001b[0m\u001b[0mstep\u001b[0m\u001b[1;33m(\u001b[0m\u001b[0mdetections\u001b[0m\u001b[1;33m=\u001b[0m\u001b[0mdetections\u001b[0m\u001b[1;33m)\u001b[0m\u001b[1;33m\u001b[0m\u001b[1;33m\u001b[0m\u001b[0m\n",
      "\u001b[0m\u001b[1;32m     37 \u001b[1;33m\u001b[1;33m\u001b[0m\u001b[0m\n",
      "\u001b[0m\u001b[1;32m---> 38 \u001b[1;33m        \u001b[0merror\u001b[0m\u001b[1;33m\u001b[0m\u001b[1;33m\u001b[0m\u001b[0m\n",
      "\u001b[0m\u001b[1;32m     39 \u001b[1;33m        \u001b[1;32mfor\u001b[0m \u001b[0mtrack\u001b[0m \u001b[1;32min\u001b[0m \u001b[0mactive_tracks\u001b[0m\u001b[1;33m:\u001b[0m\u001b[1;33m\u001b[0m\u001b[1;33m\u001b[0m\u001b[0m\n",
      "\u001b[0m\u001b[1;32m     40 \u001b[1;33m            \u001b[0mimg\u001b[0m \u001b[1;33m=\u001b[0m \u001b[0mdraw_rectangle\u001b[0m\u001b[1;33m(\u001b[0m\u001b[0mimg\u001b[0m\u001b[1;33m,\u001b[0m \u001b[0mtrack\u001b[0m\u001b[1;33m.\u001b[0m\u001b[0mbox\u001b[0m\u001b[1;33m,\u001b[0m \u001b[0mcolor\u001b[0m\u001b[1;33m=\u001b[0m\u001b[1;33m(\u001b[0m\u001b[1;36m10\u001b[0m\u001b[1;33m,\u001b[0m \u001b[1;36m10\u001b[0m\u001b[1;33m,\u001b[0m \u001b[1;36m220\u001b[0m\u001b[1;33m)\u001b[0m\u001b[1;33m,\u001b[0m \u001b[0mthickness\u001b[0m\u001b[1;33m=\u001b[0m\u001b[1;36m5\u001b[0m\u001b[1;33m)\u001b[0m\u001b[1;33m\u001b[0m\u001b[1;33m\u001b[0m\u001b[0m\n",
      "\u001b[0m\n",
      "ipdb> detections\n",
      "[(box) [-1.0652339653512723, 395.626505656187, 85.03016129364114, 448.29417484902746],\t(score) 0.5716991866497618,\t(feature) [87.21622010420937, 225.2377110207311, 123.53007893499732]\n",
      ", (box) [716.588169543524, 878.1583349412426, 776.3105214147663, 953.5762486732671],\t(score) 0.8585545082231842,\t(feature) [245.74105017117438, 196.54345552505143, 134.35112160140596]\n",
      "]\n",
      "ipdb> q\n"
     ]
    }
   ],
   "source": [
    "%debug"
   ]
  },
  {
   "cell_type": "code",
   "execution_count": 13,
   "metadata": {},
   "outputs": [
    {
     "data": {
      "application/vnd.jupyter.widget-view+json": {
       "model_id": "dab7e05dfa65428b9514f78d645b96fc",
       "version_major": 2,
       "version_minor": 0
      },
      "text/plain": [
       "interactive(children=(IntSlider(value=49, description='t', max=99), Output()), _dom_classes=('widget-interact'…"
      ]
     },
     "metadata": {},
     "output_type": "display_data"
    },
    {
     "data": {
      "text/plain": [
       "<function __main__.f(t)>"
      ]
     },
     "execution_count": 13,
     "metadata": {},
     "output_type": "execute_result"
    }
   ],
   "source": [
    "from ipywidgets import interact, interactive, fixed, interact_manual\n",
    "\n",
    "def f(t):\n",
    "    plt.imshow(all_images[t])\n",
    "\n",
    "interact(f, t=(0,len(all_images)-1))"
   ]
  },
  {
   "cell_type": "markdown",
   "metadata": {},
   "source": [
    "# Second, actual cellpose detections"
   ]
  },
  {
   "cell_type": "code",
   "execution_count": 17,
   "metadata": {},
   "outputs": [
    {
     "name": "stdout",
     "output_type": "stream",
     "text": [
      "The autoreload extension is already loaded. To reload it, use:\n",
      "  %reload_ext autoreload\n"
     ]
    }
   ],
   "source": [
    "# Use the project config file\n",
    "from DLC_for_WBFM.bin.configuration_definition import *\n",
    "from DLC_for_WBFM.utils.postprocessing.postprocessing_utils import _get_crop_from_ometiff_virtual\n",
    "from DLC_for_WBFM.utils.visualization.plot_context_utils import _plot_video_crop_trace\n",
    "from DLC_for_WBFM.utils.postprocessing.cellpose_utils import *\n",
    "\n",
    "%load_ext autoreload\n",
    "%autoreload 2\n",
    "\n",
    "fname = 'test_project.pickle'\n",
    "proj = load_config(fname)\n"
   ]
  },
  {
   "cell_type": "markdown",
   "metadata": {},
   "source": [
    "### First, get a small number of masks"
   ]
  },
  {
   "cell_type": "code",
   "execution_count": 18,
   "metadata": {},
   "outputs": [
    {
     "name": "stdout",
     "output_type": "stream",
     "text": [
      "Cropping 7 slices, starting at 8\n",
      "Full size read as (700, 900)\n",
      "Page 3308/330; volume 0/10 to cropped array slice 0\n",
      "Page 3309/330; volume 0/10 to cropped array slice 1\n",
      "Page 3310/330; volume 0/10 to cropped array slice 2\n",
      "Page 3311/330; volume 0/10 to cropped array slice 3\n",
      "Page 3312/330; volume 0/10 to cropped array slice 4\n",
      "Page 3313/330; volume 0/10 to cropped array slice 5\n",
      "Page 3314/330; volume 0/10 to cropped array slice 6\n",
      "Page 3341/330; volume 1/10 to cropped array slice 0\n",
      "Page 3342/330; volume 1/10 to cropped array slice 1\n",
      "Page 3343/330; volume 1/10 to cropped array slice 2\n",
      "Page 3344/330; volume 1/10 to cropped array slice 3\n",
      "Page 3345/330; volume 1/10 to cropped array slice 4\n",
      "Page 3346/330; volume 1/10 to cropped array slice 5\n",
      "Page 3347/330; volume 1/10 to cropped array slice 6\n",
      "Page 3374/330; volume 2/10 to cropped array slice 0\n",
      "Page 3375/330; volume 2/10 to cropped array slice 1\n",
      "Page 3376/330; volume 2/10 to cropped array slice 2\n",
      "Page 3377/330; volume 2/10 to cropped array slice 3\n",
      "Page 3378/330; volume 2/10 to cropped array slice 4\n",
      "Page 3379/330; volume 2/10 to cropped array slice 5\n",
      "Page 3380/330; volume 2/10 to cropped array slice 6\n",
      "Page 3407/330; volume 3/10 to cropped array slice 0\n",
      "Page 3408/330; volume 3/10 to cropped array slice 1\n",
      "Page 3409/330; volume 3/10 to cropped array slice 2\n",
      "Page 3410/330; volume 3/10 to cropped array slice 3\n",
      "Page 3411/330; volume 3/10 to cropped array slice 4\n",
      "Page 3412/330; volume 3/10 to cropped array slice 5\n",
      "Page 3413/330; volume 3/10 to cropped array slice 6\n",
      "Page 3440/330; volume 4/10 to cropped array slice 0\n",
      "Page 3441/330; volume 4/10 to cropped array slice 1\n",
      "Page 3442/330; volume 4/10 to cropped array slice 2\n",
      "Page 3443/330; volume 4/10 to cropped array slice 3\n",
      "Page 3444/330; volume 4/10 to cropped array slice 4\n",
      "Page 3445/330; volume 4/10 to cropped array slice 5\n",
      "Page 3446/330; volume 4/10 to cropped array slice 6\n",
      "Page 3473/330; volume 5/10 to cropped array slice 0\n",
      "Page 3474/330; volume 5/10 to cropped array slice 1\n",
      "Page 3475/330; volume 5/10 to cropped array slice 2\n",
      "Page 3476/330; volume 5/10 to cropped array slice 3\n",
      "Page 3477/330; volume 5/10 to cropped array slice 4\n",
      "Page 3478/330; volume 5/10 to cropped array slice 5\n",
      "Page 3479/330; volume 5/10 to cropped array slice 6\n",
      "Page 3506/330; volume 6/10 to cropped array slice 0\n",
      "Page 3507/330; volume 6/10 to cropped array slice 1\n",
      "Page 3508/330; volume 6/10 to cropped array slice 2\n",
      "Page 3509/330; volume 6/10 to cropped array slice 3\n",
      "Page 3510/330; volume 6/10 to cropped array slice 4\n",
      "Page 3511/330; volume 6/10 to cropped array slice 5\n",
      "Page 3512/330; volume 6/10 to cropped array slice 6\n",
      "Page 3539/330; volume 7/10 to cropped array slice 0\n",
      "Page 3540/330; volume 7/10 to cropped array slice 1\n",
      "Page 3541/330; volume 7/10 to cropped array slice 2\n",
      "Page 3542/330; volume 7/10 to cropped array slice 3\n",
      "Page 3543/330; volume 7/10 to cropped array slice 4\n",
      "Page 3544/330; volume 7/10 to cropped array slice 5\n",
      "Page 3545/330; volume 7/10 to cropped array slice 6\n",
      "Page 3572/330; volume 8/10 to cropped array slice 0\n",
      "Page 3573/330; volume 8/10 to cropped array slice 1\n",
      "Page 3574/330; volume 8/10 to cropped array slice 2\n",
      "Page 3575/330; volume 8/10 to cropped array slice 3\n",
      "Page 3576/330; volume 8/10 to cropped array slice 4\n",
      "Page 3577/330; volume 8/10 to cropped array slice 5\n",
      "Page 3578/330; volume 8/10 to cropped array slice 6\n",
      "Page 3605/330; volume 9/10 to cropped array slice 0\n",
      "Page 3606/330; volume 9/10 to cropped array slice 1\n",
      "Page 3607/330; volume 9/10 to cropped array slice 2\n",
      "Page 3608/330; volume 9/10 to cropped array slice 3\n",
      "Page 3609/330; volume 9/10 to cropped array slice 4\n",
      "Page 3610/330; volume 9/10 to cropped array slice 5\n",
      "Page 3611/330; volume 9/10 to cropped array slice 6\n",
      "Cropping 7 slices, starting at 8\n",
      "Full size read as (700, 900)\n",
      "Page 3308/330; volume 0/10 to cropped array slice 0\n",
      "Page 3309/330; volume 0/10 to cropped array slice 1\n",
      "Page 3310/330; volume 0/10 to cropped array slice 2\n",
      "Page 3311/330; volume 0/10 to cropped array slice 3\n",
      "Page 3312/330; volume 0/10 to cropped array slice 4\n",
      "Page 3313/330; volume 0/10 to cropped array slice 5\n",
      "Page 3314/330; volume 0/10 to cropped array slice 6\n",
      "Page 3341/330; volume 1/10 to cropped array slice 0\n",
      "Page 3342/330; volume 1/10 to cropped array slice 1\n",
      "Page 3343/330; volume 1/10 to cropped array slice 2\n",
      "Page 3344/330; volume 1/10 to cropped array slice 3\n",
      "Page 3345/330; volume 1/10 to cropped array slice 4\n",
      "Page 3346/330; volume 1/10 to cropped array slice 5\n",
      "Page 3347/330; volume 1/10 to cropped array slice 6\n",
      "Page 3374/330; volume 2/10 to cropped array slice 0\n",
      "Page 3375/330; volume 2/10 to cropped array slice 1\n",
      "Page 3376/330; volume 2/10 to cropped array slice 2\n",
      "Page 3377/330; volume 2/10 to cropped array slice 3\n",
      "Page 3378/330; volume 2/10 to cropped array slice 4\n",
      "Page 3379/330; volume 2/10 to cropped array slice 5\n",
      "Page 3380/330; volume 2/10 to cropped array slice 6\n",
      "Page 3407/330; volume 3/10 to cropped array slice 0\n",
      "Page 3408/330; volume 3/10 to cropped array slice 1\n",
      "Page 3409/330; volume 3/10 to cropped array slice 2\n",
      "Page 3410/330; volume 3/10 to cropped array slice 3\n",
      "Page 3411/330; volume 3/10 to cropped array slice 4\n",
      "Page 3412/330; volume 3/10 to cropped array slice 5\n",
      "Page 3413/330; volume 3/10 to cropped array slice 6\n",
      "Page 3440/330; volume 4/10 to cropped array slice 0\n",
      "Page 3441/330; volume 4/10 to cropped array slice 1\n",
      "Page 3442/330; volume 4/10 to cropped array slice 2\n",
      "Page 3443/330; volume 4/10 to cropped array slice 3\n",
      "Page 3444/330; volume 4/10 to cropped array slice 4\n",
      "Page 3445/330; volume 4/10 to cropped array slice 5\n",
      "Page 3446/330; volume 4/10 to cropped array slice 6\n",
      "Page 3473/330; volume 5/10 to cropped array slice 0\n",
      "Page 3474/330; volume 5/10 to cropped array slice 1\n",
      "Page 3475/330; volume 5/10 to cropped array slice 2\n",
      "Page 3476/330; volume 5/10 to cropped array slice 3\n",
      "Page 3477/330; volume 5/10 to cropped array slice 4\n",
      "Page 3478/330; volume 5/10 to cropped array slice 5\n",
      "Page 3479/330; volume 5/10 to cropped array slice 6\n",
      "Page 3506/330; volume 6/10 to cropped array slice 0\n",
      "Page 3507/330; volume 6/10 to cropped array slice 1\n",
      "Page 3508/330; volume 6/10 to cropped array slice 2\n",
      "Page 3509/330; volume 6/10 to cropped array slice 3\n",
      "Page 3510/330; volume 6/10 to cropped array slice 4\n",
      "Page 3511/330; volume 6/10 to cropped array slice 5\n",
      "Page 3512/330; volume 6/10 to cropped array slice 6\n",
      "Page 3539/330; volume 7/10 to cropped array slice 0\n",
      "Page 3540/330; volume 7/10 to cropped array slice 1\n",
      "Page 3541/330; volume 7/10 to cropped array slice 2\n",
      "Page 3542/330; volume 7/10 to cropped array slice 3\n",
      "Page 3543/330; volume 7/10 to cropped array slice 4\n",
      "Page 3544/330; volume 7/10 to cropped array slice 5\n",
      "Page 3545/330; volume 7/10 to cropped array slice 6\n",
      "Page 3572/330; volume 8/10 to cropped array slice 0\n",
      "Page 3573/330; volume 8/10 to cropped array slice 1\n",
      "Page 3574/330; volume 8/10 to cropped array slice 2\n",
      "Page 3575/330; volume 8/10 to cropped array slice 3\n",
      "Page 3576/330; volume 8/10 to cropped array slice 4\n",
      "Page 3577/330; volume 8/10 to cropped array slice 5\n",
      "Page 3578/330; volume 8/10 to cropped array slice 6\n",
      "Page 3605/330; volume 9/10 to cropped array slice 0\n",
      "Page 3606/330; volume 9/10 to cropped array slice 1\n",
      "Page 3607/330; volume 9/10 to cropped array slice 2\n",
      "Page 3608/330; volume 9/10 to cropped array slice 3\n",
      "Page 3609/330; volume 9/10 to cropped array slice 4\n",
      "Page 3610/330; volume 9/10 to cropped array slice 5\n",
      "Page 3611/330; volume 9/10 to cropped array slice 6\n",
      ">>>> using CPU\n"
     ]
    },
    {
     "name": "stderr",
     "output_type": "stream",
     "text": [
      "\r",
      "  0%|                                                                                            | 0/1 [00:00<?, ?it/s]"
     ]
    },
    {
     "name": "stdout",
     "output_type": "stream",
     "text": [
      "cellpose_residual_on_style_on_concatenation_off\n",
      "processing 1 image(s)\n",
      "multi-stack tiff read in as having 7 planes 1 channels\n",
      "\n",
      " running YX: 7 planes of size (19, 19) \n",
      "\n",
      "\n"
     ]
    },
    {
     "name": "stderr",
     "output_type": "stream",
     "text": [
      "100%|████████████████████████████████████████████████████████████████████████████████████| 1/1 [00:00<00:00,  1.68it/s]\n",
      "100%|████████████████████████████████████████████████████████████████████████████████████| 1/1 [00:00<00:00,  3.52it/s]\n",
      "100%|████████████████████████████████████████████████████████████████████████████████████| 1/1 [00:00<00:00,  3.65it/s]\n",
      "100%|████████████████████████████████████████████████████████████████████████████████████| 1/1 [00:00<00:00,  3.63it/s]\n",
      "  0%|                                                                                            | 0/1 [00:00<?, ?it/s]"
     ]
    },
    {
     "name": "stdout",
     "output_type": "stream",
     "text": [
      "\n",
      " running ZY: 19 planes of size (7, 19) \n",
      "\n",
      "\n"
     ]
    },
    {
     "name": "stderr",
     "output_type": "stream",
     "text": [
      "100%|████████████████████████████████████████████████████████████████████████████████████| 1/1 [00:00<00:00,  3.18it/s]\n",
      "100%|████████████████████████████████████████████████████████████████████████████████████| 1/1 [00:00<00:00,  5.54it/s]\n",
      "100%|████████████████████████████████████████████████████████████████████████████████████| 1/1 [00:00<00:00,  5.50it/s]\n",
      "100%|████████████████████████████████████████████████████████████████████████████████████| 1/1 [00:00<00:00,  5.49it/s]\n",
      "  0%|                                                                                            | 0/1 [00:00<?, ?it/s]"
     ]
    },
    {
     "name": "stdout",
     "output_type": "stream",
     "text": [
      "\n",
      " running ZX: 19 planes of size (7, 19) \n",
      "\n",
      "\n"
     ]
    },
    {
     "name": "stderr",
     "output_type": "stream",
     "text": [
      "100%|████████████████████████████████████████████████████████████████████████████████████| 1/1 [00:00<00:00,  5.41it/s]\n",
      "100%|████████████████████████████████████████████████████████████████████████████████████| 1/1 [00:00<00:00,  5.48it/s]\n",
      "100%|████████████████████████████████████████████████████████████████████████████████████| 1/1 [00:00<00:00,  5.48it/s]\n",
      "100%|████████████████████████████████████████████████████████████████████████████████████| 1/1 [00:00<00:00,  4.99it/s]\n"
     ]
    },
    {
     "name": "stdout",
     "output_type": "stream",
     "text": [
      "flows computed 4.33s\n",
      "dynamics computed 4.34s\n",
      "masks computed 4.53s"
     ]
    },
    {
     "name": "stderr",
     "output_type": "stream",
     "text": [
      "\r",
      "  0%|                                                                                            | 0/1 [00:00<?, ?it/s]"
     ]
    },
    {
     "name": "stdout",
     "output_type": "stream",
     "text": [
      "\n",
      "estimated masks for 1 image(s) in 4.56 sec\n",
      ">>>> TOTAL TIME 4.56 sec\n",
      "0/10\n",
      "processing 1 image(s)\n",
      "multi-stack tiff read in as having 7 planes 1 channels\n",
      "\n",
      " running YX: 7 planes of size (19, 19) \n",
      "\n",
      "\n"
     ]
    },
    {
     "name": "stderr",
     "output_type": "stream",
     "text": [
      "100%|████████████████████████████████████████████████████████████████████████████████████| 1/1 [00:00<00:00,  2.62it/s]\n",
      "100%|████████████████████████████████████████████████████████████████████████████████████| 1/1 [00:00<00:00,  3.55it/s]\n",
      "100%|████████████████████████████████████████████████████████████████████████████████████| 1/1 [00:00<00:00,  3.65it/s]\n",
      "100%|████████████████████████████████████████████████████████████████████████████████████| 1/1 [00:00<00:00,  3.65it/s]\n",
      "  0%|                                                                                            | 0/1 [00:00<?, ?it/s]"
     ]
    },
    {
     "name": "stdout",
     "output_type": "stream",
     "text": [
      "\n",
      " running ZY: 19 planes of size (7, 19) \n",
      "\n",
      "\n"
     ]
    },
    {
     "name": "stderr",
     "output_type": "stream",
     "text": [
      "100%|████████████████████████████████████████████████████████████████████████████████████| 1/1 [00:00<00:00,  3.18it/s]\n",
      "100%|████████████████████████████████████████████████████████████████████████████████████| 1/1 [00:00<00:00,  5.80it/s]\n",
      "100%|████████████████████████████████████████████████████████████████████████████████████| 1/1 [00:00<00:00,  5.41it/s]\n",
      "100%|████████████████████████████████████████████████████████████████████████████████████| 1/1 [00:00<00:00,  5.42it/s]\n",
      "  0%|                                                                                            | 0/1 [00:00<?, ?it/s]"
     ]
    },
    {
     "name": "stdout",
     "output_type": "stream",
     "text": [
      "\n",
      " running ZX: 19 planes of size (7, 19) \n",
      "\n",
      "\n"
     ]
    },
    {
     "name": "stderr",
     "output_type": "stream",
     "text": [
      "100%|████████████████████████████████████████████████████████████████████████████████████| 1/1 [00:00<00:00,  4.93it/s]\n",
      "100%|████████████████████████████████████████████████████████████████████████████████████| 1/1 [00:00<00:00,  5.52it/s]\n",
      "100%|████████████████████████████████████████████████████████████████████████████████████| 1/1 [00:00<00:00,  5.27it/s]\n",
      "100%|████████████████████████████████████████████████████████████████████████████████████| 1/1 [00:00<00:00,  5.59it/s]\n"
     ]
    },
    {
     "name": "stdout",
     "output_type": "stream",
     "text": [
      "flows computed 4.14s\n",
      "dynamics computed 4.15s\n",
      "masks computed 4.28s\n",
      "estimated masks for 1 image(s) in 4.31 sec\n",
      ">>>> TOTAL TIME 4.31 sec\n",
      "1/10\n",
      "processing 1 image(s)\n",
      "multi-stack tiff read in as having 7 planes 1 channels\n",
      "\n",
      " running YX: 7 planes of size (19, 19) \n",
      "\n",
      "\n"
     ]
    },
    {
     "name": "stderr",
     "output_type": "stream",
     "text": [
      "100%|████████████████████████████████████████████████████████████████████████████████████| 1/1 [00:00<00:00,  2.60it/s]\n",
      "100%|████████████████████████████████████████████████████████████████████████████████████| 1/1 [00:00<00:00,  3.80it/s]\n",
      "100%|████████████████████████████████████████████████████████████████████████████████████| 1/1 [00:00<00:00,  3.80it/s]\n",
      "100%|████████████████████████████████████████████████████████████████████████████████████| 1/1 [00:00<00:00,  3.69it/s]\n",
      "  0%|                                                                                            | 0/1 [00:00<?, ?it/s]"
     ]
    },
    {
     "name": "stdout",
     "output_type": "stream",
     "text": [
      "\n",
      " running ZY: 19 planes of size (7, 19) \n",
      "\n",
      "\n"
     ]
    },
    {
     "name": "stderr",
     "output_type": "stream",
     "text": [
      "100%|████████████████████████████████████████████████████████████████████████████████████| 1/1 [00:00<00:00,  3.83it/s]\n",
      "100%|████████████████████████████████████████████████████████████████████████████████████| 1/1 [00:00<00:00,  5.75it/s]\n",
      "100%|████████████████████████████████████████████████████████████████████████████████████| 1/1 [00:00<00:00,  5.25it/s]\n",
      "100%|████████████████████████████████████████████████████████████████████████████████████| 1/1 [00:00<00:00,  5.73it/s]\n",
      "  0%|                                                                                            | 0/1 [00:00<?, ?it/s]"
     ]
    },
    {
     "name": "stdout",
     "output_type": "stream",
     "text": [
      "\n",
      " running ZX: 19 planes of size (7, 19) \n",
      "\n",
      "\n"
     ]
    },
    {
     "name": "stderr",
     "output_type": "stream",
     "text": [
      "100%|████████████████████████████████████████████████████████████████████████████████████| 1/1 [00:00<00:00,  5.51it/s]\n",
      "100%|████████████████████████████████████████████████████████████████████████████████████| 1/1 [00:00<00:00,  5.37it/s]\n",
      "100%|████████████████████████████████████████████████████████████████████████████████████| 1/1 [00:00<00:00,  5.42it/s]\n",
      "100%|████████████████████████████████████████████████████████████████████████████████████| 1/1 [00:00<00:00,  5.74it/s]\n"
     ]
    },
    {
     "name": "stdout",
     "output_type": "stream",
     "text": [
      "flows computed 4.04s\n",
      "dynamics computed 4.04s\n",
      "masks computed 4.21s\n",
      "estimated masks for 1 image(s) in 4.23 sec"
     ]
    },
    {
     "name": "stderr",
     "output_type": "stream",
     "text": [
      "\r",
      "  0%|                                                                                            | 0/1 [00:00<?, ?it/s]"
     ]
    },
    {
     "name": "stdout",
     "output_type": "stream",
     "text": [
      "\n",
      ">>>> TOTAL TIME 4.23 sec\n",
      "2/10\n",
      "processing 1 image(s)\n",
      "multi-stack tiff read in as having 7 planes 1 channels\n",
      "\n",
      " running YX: 7 planes of size (19, 19) \n",
      "\n",
      "\n"
     ]
    },
    {
     "name": "stderr",
     "output_type": "stream",
     "text": [
      "100%|████████████████████████████████████████████████████████████████████████████████████| 1/1 [00:00<00:00,  2.57it/s]\n",
      "100%|████████████████████████████████████████████████████████████████████████████████████| 1/1 [00:00<00:00,  3.68it/s]\n",
      "100%|████████████████████████████████████████████████████████████████████████████████████| 1/1 [00:00<00:00,  3.66it/s]\n",
      "100%|████████████████████████████████████████████████████████████████████████████████████| 1/1 [00:00<00:00,  3.65it/s]\n",
      "  0%|                                                                                            | 0/1 [00:00<?, ?it/s]"
     ]
    },
    {
     "name": "stdout",
     "output_type": "stream",
     "text": [
      "\n",
      " running ZY: 19 planes of size (7, 19) \n",
      "\n",
      "\n"
     ]
    },
    {
     "name": "stderr",
     "output_type": "stream",
     "text": [
      "100%|████████████████████████████████████████████████████████████████████████████████████| 1/1 [00:00<00:00,  3.68it/s]\n",
      "100%|████████████████████████████████████████████████████████████████████████████████████| 1/1 [00:00<00:00,  5.14it/s]\n",
      "100%|████████████████████████████████████████████████████████████████████████████████████| 1/1 [00:00<00:00,  5.73it/s]\n",
      "100%|████████████████████████████████████████████████████████████████████████████████████| 1/1 [00:00<00:00,  5.54it/s]\n",
      "  0%|                                                                                            | 0/1 [00:00<?, ?it/s]"
     ]
    },
    {
     "name": "stdout",
     "output_type": "stream",
     "text": [
      "\n",
      " running ZX: 19 planes of size (7, 19) \n",
      "\n",
      "\n"
     ]
    },
    {
     "name": "stderr",
     "output_type": "stream",
     "text": [
      "100%|████████████████████████████████████████████████████████████████████████████████████| 1/1 [00:00<00:00,  5.40it/s]\n",
      "100%|████████████████████████████████████████████████████████████████████████████████████| 1/1 [00:00<00:00,  5.49it/s]\n",
      "100%|████████████████████████████████████████████████████████████████████████████████████| 1/1 [00:00<00:00,  5.41it/s]\n",
      "100%|████████████████████████████████████████████████████████████████████████████████████| 1/1 [00:00<00:00,  5.49it/s]\n",
      "  0%|                                                                                            | 0/1 [00:00<?, ?it/s]"
     ]
    },
    {
     "name": "stdout",
     "output_type": "stream",
     "text": [
      "flows computed 4.03s\n",
      "dynamics computed 4.03s\n",
      "masks computed 4.12s\n",
      "estimated masks for 1 image(s) in 4.15 sec\n",
      ">>>> TOTAL TIME 4.15 sec\n",
      "3/10\n",
      "processing 1 image(s)\n",
      "multi-stack tiff read in as having 7 planes 1 channels\n",
      "\n",
      " running YX: 7 planes of size (19, 19) \n",
      "\n",
      "\n"
     ]
    },
    {
     "name": "stderr",
     "output_type": "stream",
     "text": [
      "100%|████████████████████████████████████████████████████████████████████████████████████| 1/1 [00:00<00:00,  2.73it/s]\n",
      "100%|████████████████████████████████████████████████████████████████████████████████████| 1/1 [00:00<00:00,  3.79it/s]\n",
      "100%|████████████████████████████████████████████████████████████████████████████████████| 1/1 [00:00<00:00,  3.68it/s]\n",
      "100%|████████████████████████████████████████████████████████████████████████████████████| 1/1 [00:00<00:00,  3.68it/s]\n",
      "  0%|                                                                                            | 0/1 [00:00<?, ?it/s]"
     ]
    },
    {
     "name": "stdout",
     "output_type": "stream",
     "text": [
      "\n",
      " running ZY: 19 planes of size (7, 19) \n",
      "\n",
      "\n"
     ]
    },
    {
     "name": "stderr",
     "output_type": "stream",
     "text": [
      "100%|████████████████████████████████████████████████████████████████████████████████████| 1/1 [00:00<00:00,  3.29it/s]\n",
      "100%|████████████████████████████████████████████████████████████████████████████████████| 1/1 [00:00<00:00,  5.74it/s]\n",
      "100%|████████████████████████████████████████████████████████████████████████████████████| 1/1 [00:00<00:00,  5.48it/s]\n",
      "100%|████████████████████████████████████████████████████████████████████████████████████| 1/1 [00:00<00:00,  5.81it/s]\n",
      "  0%|                                                                                            | 0/1 [00:00<?, ?it/s]"
     ]
    },
    {
     "name": "stdout",
     "output_type": "stream",
     "text": [
      "\n",
      " running ZX: 19 planes of size (7, 19) \n",
      "\n",
      "\n"
     ]
    },
    {
     "name": "stderr",
     "output_type": "stream",
     "text": [
      "100%|████████████████████████████████████████████████████████████████████████████████████| 1/1 [00:00<00:00,  4.75it/s]\n",
      "100%|████████████████████████████████████████████████████████████████████████████████████| 1/1 [00:00<00:00,  5.54it/s]\n",
      "100%|████████████████████████████████████████████████████████████████████████████████████| 1/1 [00:00<00:00,  4.91it/s]\n",
      "100%|████████████████████████████████████████████████████████████████████████████████████| 1/1 [00:00<00:00,  4.80it/s]\n",
      "  0%|                                                                                            | 0/1 [00:00<?, ?it/s]"
     ]
    },
    {
     "name": "stdout",
     "output_type": "stream",
     "text": [
      "flows computed 4.09s\n",
      "dynamics computed 4.10s\n",
      "masks computed 4.16s\n",
      "estimated masks for 1 image(s) in 4.18 sec\n",
      ">>>> TOTAL TIME 4.18 sec\n",
      "4/10\n",
      "processing 1 image(s)\n",
      "multi-stack tiff read in as having 7 planes 1 channels\n",
      "\n",
      " running YX: 7 planes of size (19, 19) \n",
      "\n",
      "\n"
     ]
    },
    {
     "name": "stderr",
     "output_type": "stream",
     "text": [
      "100%|████████████████████████████████████████████████████████████████████████████████████| 1/1 [00:00<00:00,  2.68it/s]\n",
      "100%|████████████████████████████████████████████████████████████████████████████████████| 1/1 [00:00<00:00,  3.72it/s]\n",
      "100%|████████████████████████████████████████████████████████████████████████████████████| 1/1 [00:00<00:00,  3.65it/s]\n",
      "100%|████████████████████████████████████████████████████████████████████████████████████| 1/1 [00:00<00:00,  3.59it/s]\n",
      "  0%|                                                                                            | 0/1 [00:00<?, ?it/s]"
     ]
    },
    {
     "name": "stdout",
     "output_type": "stream",
     "text": [
      "\n",
      " running ZY: 19 planes of size (7, 19) \n",
      "\n",
      "\n"
     ]
    },
    {
     "name": "stderr",
     "output_type": "stream",
     "text": [
      "100%|████████████████████████████████████████████████████████████████████████████████████| 1/1 [00:00<00:00,  3.29it/s]\n",
      "100%|████████████████████████████████████████████████████████████████████████████████████| 1/1 [00:00<00:00,  5.48it/s]\n",
      "100%|████████████████████████████████████████████████████████████████████████████████████| 1/1 [00:00<00:00,  5.41it/s]\n",
      "100%|████████████████████████████████████████████████████████████████████████████████████| 1/1 [00:00<00:00,  5.47it/s]\n",
      "  0%|                                                                                            | 0/1 [00:00<?, ?it/s]"
     ]
    },
    {
     "name": "stdout",
     "output_type": "stream",
     "text": [
      "\n",
      " running ZX: 19 planes of size (7, 19) \n",
      "\n",
      "\n"
     ]
    },
    {
     "name": "stderr",
     "output_type": "stream",
     "text": [
      "100%|████████████████████████████████████████████████████████████████████████████████████| 1/1 [00:00<00:00,  5.38it/s]\n",
      "100%|████████████████████████████████████████████████████████████████████████████████████| 1/1 [00:00<00:00,  5.14it/s]\n",
      "100%|████████████████████████████████████████████████████████████████████████████████████| 1/1 [00:00<00:00,  5.32it/s]\n",
      "100%|████████████████████████████████████████████████████████████████████████████████████| 1/1 [00:00<00:00,  5.29it/s]\n",
      "  0%|                                                                                            | 0/1 [00:00<?, ?it/s]"
     ]
    },
    {
     "name": "stdout",
     "output_type": "stream",
     "text": [
      "flows computed 4.12s\n",
      "dynamics computed 4.13s\n",
      "masks computed 4.21s\n",
      "estimated masks for 1 image(s) in 4.23 sec\n",
      ">>>> TOTAL TIME 4.23 sec\n",
      "5/10\n",
      "processing 1 image(s)\n",
      "multi-stack tiff read in as having 7 planes 1 channels\n",
      "\n",
      " running YX: 7 planes of size (19, 19) \n",
      "\n",
      "\n"
     ]
    },
    {
     "name": "stderr",
     "output_type": "stream",
     "text": [
      "100%|████████████████████████████████████████████████████████████████████████████████████| 1/1 [00:00<00:00,  2.68it/s]\n",
      "100%|████████████████████████████████████████████████████████████████████████████████████| 1/1 [00:00<00:00,  3.66it/s]\n",
      "100%|████████████████████████████████████████████████████████████████████████████████████| 1/1 [00:00<00:00,  3.63it/s]\n",
      "100%|████████████████████████████████████████████████████████████████████████████████████| 1/1 [00:00<00:00,  3.65it/s]\n",
      "  0%|                                                                                            | 0/1 [00:00<?, ?it/s]"
     ]
    },
    {
     "name": "stdout",
     "output_type": "stream",
     "text": [
      "\n",
      " running ZY: 19 planes of size (7, 19) \n",
      "\n",
      "\n"
     ]
    },
    {
     "name": "stderr",
     "output_type": "stream",
     "text": [
      "100%|████████████████████████████████████████████████████████████████████████████████████| 1/1 [00:00<00:00,  3.53it/s]\n",
      "100%|████████████████████████████████████████████████████████████████████████████████████| 1/1 [00:00<00:00,  5.21it/s]\n",
      "100%|████████████████████████████████████████████████████████████████████████████████████| 1/1 [00:00<00:00,  5.35it/s]\n",
      "100%|████████████████████████████████████████████████████████████████████████████████████| 1/1 [00:00<00:00,  5.48it/s]\n",
      "  0%|                                                                                            | 0/1 [00:00<?, ?it/s]"
     ]
    },
    {
     "name": "stdout",
     "output_type": "stream",
     "text": [
      "\n",
      " running ZX: 19 planes of size (7, 19) \n",
      "\n",
      "\n"
     ]
    },
    {
     "name": "stderr",
     "output_type": "stream",
     "text": [
      "100%|████████████████████████████████████████████████████████████████████████████████████| 1/1 [00:00<00:00,  5.66it/s]\n",
      "100%|████████████████████████████████████████████████████████████████████████████████████| 1/1 [00:00<00:00,  5.55it/s]\n",
      "100%|████████████████████████████████████████████████████████████████████████████████████| 1/1 [00:00<00:00,  5.42it/s]\n",
      "100%|████████████████████████████████████████████████████████████████████████████████████| 1/1 [00:00<00:00,  5.25it/s]\n"
     ]
    },
    {
     "name": "stdout",
     "output_type": "stream",
     "text": [
      "flows computed 4.05s\n",
      "dynamics computed 4.05s\n",
      "masks computed 4.16s\n",
      "estimated masks for 1 image(s) in 4.19 sec\n",
      ">>>> TOTAL TIME 4.20 sec\n",
      "6/10\n",
      "processing 1 image(s)\n",
      "multi-stack tiff read in as having 7 planes 1 channels\n",
      "\n",
      " running YX: 7 planes of size (19, 19) \n",
      "\n",
      "\n"
     ]
    },
    {
     "name": "stderr",
     "output_type": "stream",
     "text": [
      "100%|████████████████████████████████████████████████████████████████████████████████████| 1/1 [00:00<00:00,  2.60it/s]\n",
      "100%|████████████████████████████████████████████████████████████████████████████████████| 1/1 [00:00<00:00,  3.64it/s]\n",
      "100%|████████████████████████████████████████████████████████████████████████████████████| 1/1 [00:00<00:00,  3.74it/s]\n",
      "100%|████████████████████████████████████████████████████████████████████████████████████| 1/1 [00:00<00:00,  3.76it/s]\n",
      "  0%|                                                                                            | 0/1 [00:00<?, ?it/s]"
     ]
    },
    {
     "name": "stdout",
     "output_type": "stream",
     "text": [
      "\n",
      " running ZY: 19 planes of size (7, 19) \n",
      "\n",
      "\n"
     ]
    },
    {
     "name": "stderr",
     "output_type": "stream",
     "text": [
      "100%|████████████████████████████████████████████████████████████████████████████████████| 1/1 [00:00<00:00,  3.23it/s]\n",
      "100%|████████████████████████████████████████████████████████████████████████████████████| 1/1 [00:00<00:00,  5.55it/s]\n",
      "100%|████████████████████████████████████████████████████████████████████████████████████| 1/1 [00:00<00:00,  5.59it/s]\n",
      "100%|████████████████████████████████████████████████████████████████████████████████████| 1/1 [00:00<00:00,  4.94it/s]\n",
      "  0%|                                                                                            | 0/1 [00:00<?, ?it/s]"
     ]
    },
    {
     "name": "stdout",
     "output_type": "stream",
     "text": [
      "\n",
      " running ZX: 19 planes of size (7, 19) \n",
      "\n",
      "\n"
     ]
    },
    {
     "name": "stderr",
     "output_type": "stream",
     "text": [
      "100%|████████████████████████████████████████████████████████████████████████████████████| 1/1 [00:00<00:00,  5.24it/s]\n",
      "100%|████████████████████████████████████████████████████████████████████████████████████| 1/1 [00:00<00:00,  4.93it/s]\n",
      "100%|████████████████████████████████████████████████████████████████████████████████████| 1/1 [00:00<00:00,  5.07it/s]\n",
      "100%|████████████████████████████████████████████████████████████████████████████████████| 1/1 [00:00<00:00,  5.28it/s]\n"
     ]
    },
    {
     "name": "stdout",
     "output_type": "stream",
     "text": [
      "flows computed 4.14s\n",
      "dynamics computed 4.15s\n",
      "masks computed 4.30s\n",
      "estimated masks for 1 image(s) in 4.32 sec"
     ]
    },
    {
     "name": "stderr",
     "output_type": "stream",
     "text": [
      "\r",
      "  0%|                                                                                            | 0/1 [00:00<?, ?it/s]"
     ]
    },
    {
     "name": "stdout",
     "output_type": "stream",
     "text": [
      "\n",
      ">>>> TOTAL TIME 4.32 sec\n",
      "7/10\n",
      "processing 1 image(s)\n",
      "multi-stack tiff read in as having 7 planes 1 channels\n",
      "\n",
      " running YX: 7 planes of size (19, 19) \n",
      "\n",
      "\n"
     ]
    },
    {
     "name": "stderr",
     "output_type": "stream",
     "text": [
      "100%|████████████████████████████████████████████████████████████████████████████████████| 1/1 [00:00<00:00,  2.62it/s]\n",
      "100%|████████████████████████████████████████████████████████████████████████████████████| 1/1 [00:00<00:00,  3.59it/s]\n",
      "100%|████████████████████████████████████████████████████████████████████████████████████| 1/1 [00:00<00:00,  3.52it/s]\n",
      "100%|████████████████████████████████████████████████████████████████████████████████████| 1/1 [00:00<00:00,  3.76it/s]\n",
      "  0%|                                                                                            | 0/1 [00:00<?, ?it/s]"
     ]
    },
    {
     "name": "stdout",
     "output_type": "stream",
     "text": [
      "\n",
      " running ZY: 19 planes of size (7, 19) \n",
      "\n",
      "\n"
     ]
    },
    {
     "name": "stderr",
     "output_type": "stream",
     "text": [
      "100%|████████████████████████████████████████████████████████████████████████████████████| 1/1 [00:00<00:00,  3.22it/s]\n",
      "100%|████████████████████████████████████████████████████████████████████████████████████| 1/1 [00:00<00:00,  5.52it/s]\n",
      "100%|████████████████████████████████████████████████████████████████████████████████████| 1/1 [00:00<00:00,  5.48it/s]\n",
      "100%|████████████████████████████████████████████████████████████████████████████████████| 1/1 [00:00<00:00,  5.48it/s]\n",
      "  0%|                                                                                            | 0/1 [00:00<?, ?it/s]"
     ]
    },
    {
     "name": "stdout",
     "output_type": "stream",
     "text": [
      "\n",
      " running ZX: 19 planes of size (7, 19) \n",
      "\n",
      "\n"
     ]
    },
    {
     "name": "stderr",
     "output_type": "stream",
     "text": [
      "100%|████████████████████████████████████████████████████████████████████████████████████| 1/1 [00:00<00:00,  5.70it/s]\n",
      "100%|████████████████████████████████████████████████████████████████████████████████████| 1/1 [00:00<00:00,  5.66it/s]\n",
      "100%|████████████████████████████████████████████████████████████████████████████████████| 1/1 [00:00<00:00,  5.49it/s]\n",
      "100%|████████████████████████████████████████████████████████████████████████████████████| 1/1 [00:00<00:00,  5.53it/s]\n"
     ]
    },
    {
     "name": "stdout",
     "output_type": "stream",
     "text": [
      "flows computed 4.09s\n",
      "dynamics computed 4.09s\n",
      "masks computed 4.24s\n",
      "estimated masks for 1 image(s) in 4.27 sec\n",
      ">>>> TOTAL TIME 4.27 sec\n",
      "8/10\n",
      "processing 1 image(s)\n",
      "multi-stack tiff read in as having 7 planes 1 channels\n"
     ]
    },
    {
     "name": "stderr",
     "output_type": "stream",
     "text": [
      "\r",
      "  0%|                                                                                            | 0/1 [00:00<?, ?it/s]"
     ]
    },
    {
     "name": "stdout",
     "output_type": "stream",
     "text": [
      "\n",
      " running YX: 7 planes of size (19, 19) \n",
      "\n",
      "\n"
     ]
    },
    {
     "name": "stderr",
     "output_type": "stream",
     "text": [
      "100%|████████████████████████████████████████████████████████████████████████████████████| 1/1 [00:00<00:00,  2.53it/s]\n",
      "100%|████████████████████████████████████████████████████████████████████████████████████| 1/1 [00:00<00:00,  3.56it/s]\n",
      "100%|████████████████████████████████████████████████████████████████████████████████████| 1/1 [00:00<00:00,  3.71it/s]\n",
      "100%|████████████████████████████████████████████████████████████████████████████████████| 1/1 [00:00<00:00,  3.64it/s]\n",
      "  0%|                                                                                            | 0/1 [00:00<?, ?it/s]"
     ]
    },
    {
     "name": "stdout",
     "output_type": "stream",
     "text": [
      "\n",
      " running ZY: 19 planes of size (7, 19) \n",
      "\n",
      "\n"
     ]
    },
    {
     "name": "stderr",
     "output_type": "stream",
     "text": [
      "100%|████████████████████████████████████████████████████████████████████████████████████| 1/1 [00:00<00:00,  3.24it/s]\n",
      "100%|████████████████████████████████████████████████████████████████████████████████████| 1/1 [00:00<00:00,  4.94it/s]\n",
      "100%|████████████████████████████████████████████████████████████████████████████████████| 1/1 [00:00<00:00,  5.32it/s]\n",
      "100%|████████████████████████████████████████████████████████████████████████████████████| 1/1 [00:00<00:00,  4.89it/s]\n",
      "  0%|                                                                                            | 0/1 [00:00<?, ?it/s]"
     ]
    },
    {
     "name": "stdout",
     "output_type": "stream",
     "text": [
      "\n",
      " running ZX: 19 planes of size (7, 19) \n",
      "\n",
      "\n"
     ]
    },
    {
     "name": "stderr",
     "output_type": "stream",
     "text": [
      "100%|████████████████████████████████████████████████████████████████████████████████████| 1/1 [00:00<00:00,  4.86it/s]\n",
      "100%|████████████████████████████████████████████████████████████████████████████████████| 1/1 [00:00<00:00,  5.49it/s]\n",
      "100%|████████████████████████████████████████████████████████████████████████████████████| 1/1 [00:00<00:00,  5.37it/s]\n",
      "100%|████████████████████████████████████████████████████████████████████████████████████| 1/1 [00:00<00:00,  5.21it/s]"
     ]
    },
    {
     "name": "stdout",
     "output_type": "stream",
     "text": [
      "flows computed 4.17s\n",
      "dynamics computed 4.18s\n",
      "masks computed 4.25s\n",
      "estimated masks for 1 image(s) in 4.27 sec\n",
      ">>>> TOTAL TIME 4.27 sec\n",
      "9/10\n"
     ]
    },
    {
     "name": "stderr",
     "output_type": "stream",
     "text": [
      "\n"
     ]
    }
   ],
   "source": [
    "# Read in a small cube\n",
    "which_neuron = 1\n",
    "num_frames = 10\n",
    "\n",
    "cropped_dat_red = _get_crop_from_ometiff_virtual(fname,\n",
    "                                   which_neuron=which_neuron,\n",
    "                                   num_frames=num_frames,\n",
    "                                                use_red_channel=True)\n",
    "\n",
    "\n",
    "cropped_dat_green = _get_crop_from_ometiff_virtual(fname,\n",
    "                                   which_neuron=which_neuron,\n",
    "                                   num_frames=num_frames,\n",
    "                                                use_red_channel=False)\n",
    "\n",
    "# cropped_dat.shape\n",
    "# cropped_img = np.squeeze(cropped_dat[0,...])\n",
    "\n",
    "diameter = 8\n",
    "channels = [0,0]\n",
    "model = models.Cellpose(gpu=False, model_type='nuclei')\n",
    "\n",
    "# Get time series of segmentations\n",
    "all_multi_masks = []\n",
    "\n",
    "for i in range(num_frames):\n",
    "    this_vol = np.squeeze(cropped_dat_red[i,...])\n",
    "    m, f, s, d = model.eval(this_vol, diameter=diameter, channels=channels, do_3D=True)\n",
    "    \n",
    "    print(f\"{i}/{num_frames}\")\n",
    "    all_multi_masks.append(m)\n",
    "\n",
    "# Then, get the traces\n",
    "trace_red = np.zeros(num_frames)\n",
    "trace_green = np.zeros(num_frames)\n",
    "num_pixels = np.zeros(num_frames)\n",
    "\n",
    "for i, m in enumerate(all_multi_masks):\n",
    "    this_vol_red = np.squeeze(cropped_dat_red[i,...])\n",
    "    this_vol_green = np.squeeze(cropped_dat_green[i,...])\n",
    "    # Assume there is only one neuron detected\n",
    "    trace_red[i] = brightness_from_roi(this_vol_red, m, 1)\n",
    "    trace_green[i] = brightness_from_roi(this_vol_green, m, 1)\n",
    "    num_pixels[i] = np.count_nonzero(m)"
   ]
  },
  {
   "cell_type": "code",
   "execution_count": 20,
   "metadata": {},
   "outputs": [
    {
     "data": {
      "text/plain": [
       "10"
      ]
     },
     "execution_count": 20,
     "metadata": {},
     "output_type": "execute_result"
    }
   ],
   "source": [
    "len(all_multi_masks)"
   ]
  },
  {
   "cell_type": "markdown",
   "metadata": {},
   "source": [
    "### Second, actually track them"
   ]
  },
  {
   "cell_type": "code",
   "execution_count": null,
   "metadata": {},
   "outputs": [],
   "source": [
    "def cellpose_tracking_visualization(all_multi_masks, num_objects = 1):\n",
    "\n",
    "    num_steps = len(all_multi_masks)\n",
    "    \n",
    "    dt = 1 / 24\n",
    "    tracker = MultiObjectTracker(\n",
    "        dt=dt,\n",
    "        model_spec=ModelPreset.constant_acceleration_and_static_box_size_2d.value,\n",
    "        active_tracks_kwargs={'min_steps_alive': 2, 'max_staleness': 6},\n",
    "        tracker_kwargs={'max_staleness': 12})\n",
    "    \n",
    "    all_images = []\n",
    "    \n",
    "    for i in range(num_steps):\n",
    "        print(f'Step {i}/{num_steps}')\n",
    "        img, _, detections = next(gen)\n",
    "\n",
    "        detections = [d for d in detections if d.box is not None]\n",
    "        active_tracks = tracker.step(detections=detections)\n",
    "\n",
    "        for track in active_tracks:\n",
    "            img = draw_rectangle(img, track.box, color=(10, 10, 220), thickness=5)\n",
    "            img = draw_text(img, track.id, above_box=track.box)\n",
    "\n",
    "        for det in detections:\n",
    "            img = draw_rectangle(img, det.box, color=(10, 220, 20), thickness=2)\n",
    "\n",
    "#         plt.imshow(img)\n",
    "#         fig.canvas.draw()\n",
    "#         fig.canvas.flush_events()\n",
    "        all_images.append(img)\n",
    "    \n",
    "    return all_images"
   ]
  },
  {
   "cell_type": "markdown",
   "metadata": {},
   "source": [
    "# Quick test for bounding boxes\n",
    "\n",
    "http://scipy-lectures.org/advanced/image_processing/auto_examples/plot_find_object.html"
   ]
  },
  {
   "cell_type": "code",
   "execution_count": 24,
   "metadata": {},
   "outputs": [
    {
     "data": {
      "image/png": "[encoded data removed]",
      "text/plain": [
       "<Figure size 288x144 with 1 Axes>"
      ]
     },
     "metadata": {
      "needs_background": "light"
     },
     "output_type": "display_data"
    }
   ],
   "source": [
    "import numpy as np\n",
    "from scipy import ndimage\n",
    "import matplotlib.pyplot as plt\n",
    "\n",
    "np.random.seed(1)\n",
    "n = 10\n",
    "l = 256\n",
    "im = np.zeros((l, l))\n",
    "points = l*np.random.random((2, n**2))\n",
    "im[(points[0]).astype(np.int), (points[1]).astype(np.int)] = 1\n",
    "im = ndimage.gaussian_filter(im, sigma=l/(4.*n))\n",
    "\n",
    "mask = im > im.mean()\n",
    "\n",
    "label_im, nb_labels = ndimage.label(mask)\n",
    "\n",
    "# Find the largest connected component\n",
    "sizes = ndimage.sum(mask, label_im, range(nb_labels + 1))\n",
    "mask_size = sizes < 1000\n",
    "remove_pixel = mask_size[label_im]\n",
    "label_im[remove_pixel] = 0\n",
    "labels = np.unique(label_im)\n",
    "label_im = np.searchsorted(labels, label_im)\n",
    "\n",
    "# Now that we have only one connected component, extract it's bounding box\n",
    "slice_x, slice_y = ndimage.find_objects(label_im==4)[0]\n",
    "roi = im[slice_x, slice_y]\n",
    "\n",
    "plt.figure(figsize=(4, 2))\n",
    "plt.axes([0, 0, 1, 1])\n",
    "plt.imshow(roi)\n",
    "plt.axis('off')\n",
    "\n",
    "plt.show()"
   ]
  },
  {
   "cell_type": "code",
   "execution_count": 27,
   "metadata": {},
   "outputs": [
    {
     "data": {
      "text/plain": [
       "(slice(80, 124, None), slice(168, 256, None))"
      ]
     },
     "execution_count": 27,
     "metadata": {},
     "output_type": "execute_result"
    }
   ],
   "source": [
    "slice_x, slice_y"
   ]
  },
  {
   "cell_type": "code",
   "execution_count": 28,
   "metadata": {},
   "outputs": [],
   "source": [
    "ndimage.find_objects?"
   ]
  },
  {
   "cell_type": "code",
   "execution_count": null,
   "metadata": {},
   "outputs": [],
   "source": []
  }
 ],
 "metadata": {
  "kernelspec": {
   "display_name": "Python 3",
   "language": "python",
   "name": "python3"
  },
  "language_info": {
   "codemirror_mode": {
    "name": "ipython",
    "version": 3
   },
   "file_extension": ".py",
   "mimetype": "text/x-python",
   "name": "python",
   "nbconvert_exporter": "python",
   "pygments_lexer": "ipython3",
   "version": "3.7.9"
  }
 },
 "nbformat": 4,
 "nbformat_minor": 4
}
