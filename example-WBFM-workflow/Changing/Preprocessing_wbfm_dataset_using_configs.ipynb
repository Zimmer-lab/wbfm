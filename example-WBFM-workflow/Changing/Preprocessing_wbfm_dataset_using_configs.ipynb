{
 "cells": [
  {
   "cell_type": "markdown",
   "metadata": {},
   "source": [
    "# Preprocessing\n",
    "\n",
    "Data life cycle for this project:\n",
    "- .stk (Volumes; Initial recording from microscope)\n",
    "- .stk -> .ome.tiff (Volumes; Fiji conversion; take only ~500 frames)\n",
    "- .ome.tiff -> .ome.tiff (Volumes to planes; this file)\n",
    "- .ome.tiff -> .avi (planes to video; this file)"
   ]
  },
  {
   "cell_type": "code",
   "execution_count": 54,
   "metadata": {},
   "outputs": [
    {
     "name": "stdout",
     "output_type": "stream",
     "text": [
      "The autoreload extension is already loaded. To reload it, use:\n",
      "  %reload_ext autoreload\n"
     ]
    }
   ],
   "source": [
    "import numpy as np\n",
    "import tifffile\n",
    "import os\n",
    "\n",
    "from DLC_for_WBFM.utils.video_and_data_conversion.video_conversion_utils import *\n",
    "from DLC_for_WBFM.utils.postprocessing.postprocessing_utils import get_crop_coords3d\n",
    "from DLC_for_WBFM.bin.configuration_definition import *\n",
    "\n",
    "import deeplabcut\n",
    "%load_ext autoreload\n",
    "%autoreload 2"
   ]
  },
  {
   "cell_type": "markdown",
   "metadata": {},
   "source": [
    "## Read the mcherry data, and save a mini-max projection as .avi"
   ]
  },
  {
   "cell_type": "markdown",
   "metadata": {},
   "source": [
    "### Video settings for both channels"
   ]
  },
  {
   "cell_type": "code",
   "execution_count": 13,
   "metadata": {},
   "outputs": [],
   "source": [
    "\n",
    "start_volume = 100\n",
    "\n",
    "num_frames = 1000\n",
    "# which_slices = [18, 19, 20, 21, 22]\n",
    "# which_slices = [10, 11, 12, 13, 14]\n",
    "num_total_slices = 33\n",
    "num_crop_slices = 5\n",
    "# start_slice = 10\n",
    "# which_slices = list(range(start_slice, start_slice + 1 + num_slices))\n",
    "\n",
    "center_slice = 12\n",
    "\n",
    "which_slices = get_crop_coords3d((0,0,center_slice), (1,1,num_crop_slices))\n",
    "\n",
    "alpha = 0.15 # For consistency; should be decided by hand\n"
   ]
  },
  {
   "cell_type": "code",
   "execution_count": 14,
   "metadata": {},
   "outputs": [],
   "source": [
    "preprocessing = DLCForWBFMPreprocessing(start_volume, num_frames, num_total_slices, num_crop_slices, center_slice, 0.15)"
   ]
  },
  {
   "cell_type": "markdown",
   "metadata": {},
   "source": [
    "### Set up file names and project folder"
   ]
  },
  {
   "cell_type": "code",
   "execution_count": 20,
   "metadata": {},
   "outputs": [],
   "source": [
    "def get_mcherry_names():\n",
    "    \"\"\"\n",
    "    Local function, to be changed for each project\n",
    "    \"\"\"\n",
    "    # channel 1\n",
    "    if os.name == 'nt':\n",
    "        input_foldername = 'D:\\\\More-stabilized-wbfm\\\\test2020-10-22_16-15-20_test4-channel-0-pco_camera1'\n",
    "    else:\n",
    "        input_foldername = '/groups/zimmer/Ulises/wbfm/20200924and28/202009282020-09-28_17-30-28_worm4_chemotaxis-channel-0-pco_camera1/'\n",
    "    fname = 'test2020-10-22_16-15-20_test4-channel-0-pco_camera1bigtiff.btf'\n",
    "    input_fname = os.path.join(input_foldername, fname)\n",
    "    input_fname = os.path.normpath(input_fname) # Make it work on windows\n",
    "\n",
    "\n",
    "    # Final .avi\n",
    "    if os.name == 'nt':\n",
    "        output_foldername = input_foldername\n",
    "    else:\n",
    "        output_foldername = '/users/charles.fieseler/shared_projects/wbfm/dat/short_wbfm_z_stabilized/'\n",
    "    fname = f'test2020-10-22_mcherry_fr{num_frames}_sl{which_slices[0]}_{which_slices[-1]}.avi'\n",
    "    output_fname = os.path.join(output_foldername, fname)\n",
    "    \n",
    "    return input_fname, output_fname, input_foldername, output_foldername\n",
    "\n",
    "def get_gcamp_names():\n",
    "    \"\"\"\n",
    "    Local function, to be changed for each project\n",
    "    \"\"\"\n",
    "    if os.name == 'nt':\n",
    "        input_foldername = 'D:\\\\More-stabilized-wbfm\\\\test2020-10-22_16-15-20_test4-channel-1-pco_camera2'\n",
    "    else:\n",
    "        input_foldername = '/groups/zimmer/Ulises/wbfm/20200924and28/202009282020-09-28_17-30-28_worm4_chemotaxis-channel-0-pco_camera1/'\n",
    "    fname = 'test2020-10-22_16-15-20_test4-channel-1-pco_camera2bigtiff.btf'\n",
    "    input_fname = os.path.join(input_foldername, fname)\n",
    "    input_fname = os.path.normpath(input_fname) # Make it work on windows\n",
    "\n",
    "\n",
    "    # Final .avi\n",
    "    if os.name == 'nt':\n",
    "        output_foldername = input_foldername\n",
    "    else:\n",
    "        output_foldername = '/users/charles.fieseler/shared_projects/wbfm/dat/short_wbfm_z_stabilized/'\n",
    "    fname = f'test2020-10-22_gcamp_fr{num_frames}_sl{which_slices[0]}_{which_slices[-1]}.avi'\n",
    "    output_fname = os.path.join(output_foldername, fname)\n",
    "    \n",
    "    return input_fname, output_fname, input_foldername, output_foldername"
   ]
  },
  {
   "cell_type": "code",
   "execution_count": 21,
   "metadata": {},
   "outputs": [],
   "source": [
    "input_red_fname, output_red_fname, _, _ = get_mcherry_names()\n",
    "input_green_fname, output_green_fname, _, _ = get_mcherry_names()"
   ]
  },
  {
   "cell_type": "code",
   "execution_count": null,
   "metadata": {},
   "outputs": [],
   "source": [
    "if os.name == 'nt':\n",
    "    project_foldername = 'C:\\\\Users\\\\charles.fieseler\\\\Documents\\\\Current_work\\\\DLC_for_WBFM\\\\DLC_Projects'\n",
    "else:\n",
    "    raise Exception\n",
    "task_name = 'wbfm_3d'\n",
    "experimenter = 'Charlie'\n"
   ]
  },
  {
   "cell_type": "code",
   "execution_count": 33,
   "metadata": {},
   "outputs": [],
   "source": [
    "datafiles = DLCForWBFMDatafiles(input_red_fname, input_green_fname,\n",
    "                                   output_red_fname, output_green_fname)\n",
    "\n",
    "config = DLCForWBFMConfig(task_name, experimenter, datafiles, preprocessing)\n",
    "\n"
   ]
  },
  {
   "cell_type": "code",
   "execution_count": null,
   "metadata": {},
   "outputs": [],
   "source": [
    "create_project(\n",
    "    config,\n",
    "    working_directory=None)"
   ]
  },
  {
   "cell_type": "markdown",
   "metadata": {},
   "source": [
    "## NEW: just use config files"
   ]
  },
  {
   "cell_type": "code",
   "execution_count": 57,
   "metadata": {},
   "outputs": [
    {
     "name": "stdout",
     "output_type": "stream",
     "text": [
      "Taking a max of 5 slices, starting at 10\n",
      "Taking a max of 5 slices, starting at 10\n"
     ]
    }
   ],
   "source": [
    "write_all_video_projection_from_ome_file_subset_test(config)"
   ]
  },
  {
   "cell_type": "code",
   "execution_count": null,
   "metadata": {},
   "outputs": [],
   "source": []
  },
  {
   "cell_type": "markdown",
   "metadata": {},
   "source": [
    "# If doing 3d annotations"
   ]
  },
  {
   "cell_type": "markdown",
   "metadata": {},
   "source": [
    "## Create a project and copy the mcherry from above"
   ]
  },
  {
   "cell_type": "code",
   "execution_count": null,
   "metadata": {
    "scrolled": true
   },
   "outputs": [],
   "source": [
    "# %env DLClight=True\n",
    "import deeplabcut\n",
    "import os"
   ]
  },
  {
   "cell_type": "code",
   "execution_count": null,
   "metadata": {},
   "outputs": [],
   "source": [
    "mcherry_raw, mcherry_fname, input_foldername, _ = get_mcherry_names()"
   ]
  },
  {
   "cell_type": "code",
   "execution_count": null,
   "metadata": {},
   "outputs": [],
   "source": [
    "if os.name == 'nt':\n",
    "    project_foldername = 'C:\\\\Users\\\\charles.fieseler\\\\Documents\\\\Current_work\\\\DLC_for_WBFM\\\\DLC_Projects'\n",
    "else:\n",
    "    raise Exception\n",
    "task = 'wbfm_3d'\n",
    "experimenter = 'Charlie'\n"
   ]
  },
  {
   "cell_type": "code",
   "execution_count": null,
   "metadata": {},
   "outputs": [],
   "source": [
    "path_config_file = deeplabcut.create_new_project(task,experimenter,videos=[output_fname],copy_videos=True,working_directory=project_foldername) "
   ]
  },
  {
   "cell_type": "markdown",
   "metadata": {},
   "source": [
    "## Extract individual volumes to be annotated\n"
   ]
  },
  {
   "cell_type": "code",
   "execution_count": null,
   "metadata": {},
   "outputs": [],
   "source": [
    "import deeplabcut\n",
    "from DLC_for_WBFM.utils.preprocessing.custom_frame_extraction import *"
   ]
  },
  {
   "cell_type": "code",
   "execution_count": null,
   "metadata": {},
   "outputs": [],
   "source": [
    "# Get a couple volumes to annotate\n",
    "num_training_volumes = 30\n",
    "which_volumes = list(range(start_volume, start_volume + num_training_volumes))\n",
    "\n",
    "# Take the entire z stack\n",
    "which_slice = None\n",
    "nz = 33"
   ]
  },
  {
   "cell_type": "code",
   "execution_count": null,
   "metadata": {},
   "outputs": [],
   "source": [
    "project_folder = 'C:\\\\Users\\\\charles.fieseler\\\\Documents\\\\Current_work\\\\DLC_for_WBFM\\\\DLC_Projects\\\\wbfm_3d-Charlie-2020-11-02\\\\'\n",
    "path_config_file = os.path.join(project_folder, 'config.yaml')\n",
    "\n",
    "video_fname = os.path.join(mcherry_raw)"
   ]
  },
  {
   "cell_type": "code",
   "execution_count": null,
   "metadata": {},
   "outputs": [],
   "source": [
    "extract_volume_from_tiff_in_dlc_project(path_config_file, nz=nz, which_vol=which_volumes, which_slice=which_slice, video_fname=video_fname)"
   ]
  },
  {
   "cell_type": "markdown",
   "metadata": {},
   "source": [
    "### Synchronize the chosen volumes with training frames\n",
    "\n",
    "For now, just pops up the GUI to do it manually"
   ]
  },
  {
   "cell_type": "code",
   "execution_count": null,
   "metadata": {},
   "outputs": [],
   "source": [
    "deeplabcut.extract_frames(path_config_file, mode='manual')"
   ]
  },
  {
   "cell_type": "markdown",
   "metadata": {},
   "source": [
    "## Now, use ICY to annotate in 3d\n",
    "__DONE BY HAND AND SAVED IN CORRECT FOLDER__"
   ]
  },
  {
   "cell_type": "code",
   "execution_count": null,
   "metadata": {},
   "outputs": [],
   "source": [
    "%load_ext autoreload\n",
    "%autoreload 2"
   ]
  },
  {
   "cell_type": "code",
   "execution_count": null,
   "metadata": {},
   "outputs": [],
   "source": [
    "# Convert the generated .xml file to DLC format\n",
    "from DLC_for_WBFM.utils.training_data.DLC_XML_conversion_utils import *\n",
    "import deeplabcut"
   ]
  },
  {
   "cell_type": "code",
   "execution_count": null,
   "metadata": {},
   "outputs": [],
   "source": [
    "project_folder = 'C:\\\\Users\\\\charles.fieseler\\\\Documents\\\\Current_work\\\\DLC_for_WBFM\\\\DLC_Projects\\\\wbfm_3d-Charlie-2020-10-21\\\\'\n",
    "path_config_file = os.path.join(project_folder, 'config.yaml')\n",
    "\n",
    "video_fname = os.path.join(project_folder, 'videos\\\\mcherry_frames1000_slice17_22.btf')"
   ]
  },
  {
   "cell_type": "code",
   "execution_count": null,
   "metadata": {},
   "outputs": [],
   "source": [
    "df = icy_xml_to_dlc(path_config_file)"
   ]
  },
  {
   "cell_type": "code",
   "execution_count": null,
   "metadata": {},
   "outputs": [],
   "source": [
    "# Check the annotations\n",
    "deeplabcut.check_labels(path_config_file)"
   ]
  },
  {
   "cell_type": "code",
   "execution_count": null,
   "metadata": {},
   "outputs": [],
   "source": []
  }
 ],
 "metadata": {
  "kernelspec": {
   "display_name": "Python [conda env:DLC-preprocessing]",
   "language": "python",
   "name": "conda-env-DLC-preprocessing-py"
  },
  "language_info": {
   "codemirror_mode": {
    "name": "ipython",
    "version": 3
   },
   "file_extension": ".py",
   "mimetype": "text/x-python",
   "name": "python",
   "nbconvert_exporter": "python",
   "pygments_lexer": "ipython3",
   "version": "3.7.9"
  }
 },
 "nbformat": 4,
 "nbformat_minor": 4
}
