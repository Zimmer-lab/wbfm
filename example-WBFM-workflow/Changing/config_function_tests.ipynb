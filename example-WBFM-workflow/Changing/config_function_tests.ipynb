{
 "cells": [
  {
   "cell_type": "code",
   "execution_count": 31,
   "metadata": {},
   "outputs": [
    {
     "name": "stdout",
     "output_type": "stream",
     "text": [
      "The autoreload extension is already loaded. To reload it, use:\n",
      "  %reload_ext autoreload\n"
     ]
    }
   ],
   "source": [
    "%load_ext autoreload\n",
    "%autoreload 2\n",
    "\n",
    "from DLC_for_WBFM.bin.configuration_definition import *\n",
    "import os"
   ]
  },
  {
   "cell_type": "code",
   "execution_count": 2,
   "metadata": {},
   "outputs": [],
   "source": [
    "# Get the video folder, then the annotation\n",
    "bigtiff_folder = r'D:\\More-stabilized-wbfm'\n",
    "\n",
    "# Will get traces from two videos:\n",
    "btf_fname_mcherry = r'test2020-10-22_16-15-20_test4-channel-0-pco_camera1\\test2020-10-22_16-15-20_test4-channel-0-pco_camera1bigtiff.btf'\n",
    "btf_fname_mcherry = os.path.join(bigtiff_folder, btf_fname_mcherry)\n",
    "btf_fname_gcamp = r'test2020-10-22_16-15-20_test4-channel-1-pco_camera2\\test2020-10-22_16-15-20_test4-channel-1-pco_camera2bigtiff.btf'\n",
    "btf_fname_gcamp = os.path.join(bigtiff_folder, btf_fname_gcamp)"
   ]
  },
  {
   "cell_type": "code",
   "execution_count": 3,
   "metadata": {},
   "outputs": [],
   "source": [
    "datafiles = DLC_for_WBFM_datafiles(btf_fname_mcherry, btf_fname_gcamp)"
   ]
  },
  {
   "cell_type": "code",
   "execution_count": 4,
   "metadata": {},
   "outputs": [],
   "source": [
    "preprocessing = DLC_for_WBFM_preprocessing(100, 1000, 33, 10, 0.15)"
   ]
  },
  {
   "cell_type": "code",
   "execution_count": 5,
   "metadata": {},
   "outputs": [],
   "source": [
    "project_folder = r'C:\\Users\\charles.fieseler\\Documents\\Current_work\\DLC_for_WBFM\\DLC_Projects\\wbfm_3d-Charlie-2020-11-02'\n",
    "\n",
    "annotation_fname = r'videos\\test2020-10-22_mcherry_fr1000_sl10_15DLC_resnet50_wbfm_3dNov2shuffle1_200000.h5'\n",
    "annotation_fname = os.path.join(project_folder, annotation_fname)\n",
    "\n",
    "vid_fname = r'videos\\test2020-10-22_mcherry_fr1000_sl10_15DLC_resnet50_wbfm_3dNov2shuffle1_200000_labeled.mp4'\n",
    "vid_fname = os.path.join(project_folder, vid_fname)\n",
    "\n",
    "raw_vid_fname = r'videos\\test2020-10-22_mcherry_fr1000_sl10_15.avi'\n",
    "raw_vid_fname = os.path.join(project_folder, raw_vid_fname)"
   ]
  },
  {
   "cell_type": "code",
   "execution_count": 6,
   "metadata": {},
   "outputs": [],
   "source": [
    "tracking = DLC_for_WBFM_tracking(raw_vid_fname, project_folder, vid_fname, annotation_fname)"
   ]
  },
  {
   "cell_type": "code",
   "execution_count": 7,
   "metadata": {},
   "outputs": [],
   "source": [
    "traces = DLC_for_WBFM_traces(12, (19, 19, 7), 'all_traces_3d_7slices.pickle')"
   ]
  },
  {
   "cell_type": "code",
   "execution_count": 10,
   "metadata": {},
   "outputs": [],
   "source": [
    "config_file = DLC_for_WBFM_config('Charlie', datafiles, preprocessing, tracking, traces)"
   ]
  },
  {
   "cell_type": "markdown",
   "metadata": {},
   "source": [
    "## Save and load"
   ]
  },
  {
   "cell_type": "code",
   "execution_count": 11,
   "metadata": {},
   "outputs": [],
   "source": [
    "import pickle"
   ]
  },
  {
   "cell_type": "code",
   "execution_count": 12,
   "metadata": {},
   "outputs": [],
   "source": [
    "out_fname = 'test_project.pickle'\n",
    "pickle.dump(config_file, open(out_fname, 'wb'))"
   ]
  },
  {
   "cell_type": "code",
   "execution_count": 13,
   "metadata": {},
   "outputs": [],
   "source": [
    "config_file2 = pickle.load(open(out_fname, 'rb'))"
   ]
  },
  {
   "cell_type": "code",
   "execution_count": 17,
   "metadata": {},
   "outputs": [],
   "source": [
    "config_file2.datafiles.red_bigtiff_fname\n",
    "c = config_file"
   ]
  },
  {
   "cell_type": "markdown",
   "metadata": {},
   "source": [
    "## Initialize not all at once"
   ]
  },
  {
   "cell_type": "code",
   "execution_count": null,
   "metadata": {},
   "outputs": [],
   "source": [
    "# Get the video folder, then the annotation\n",
    "bigtiff_folder = r'D:\\More-stabilized-wbfm'\n",
    "\n",
    "# Will get traces from two videos:\n",
    "btf_fname_mcherry = r'test2020-10-22_16-15-20_test4-channel-0-pco_camera1\\test2020-10-22_16-15-20_test4-channel-0-pco_camera1bigtiff.btf'\n",
    "btf_fname_mcherry = os.path.join(bigtiff_folder, btf_fname_mcherry)\n",
    "btf_fname_gcamp = r'test2020-10-22_16-15-20_test4-channel-1-pco_camera2\\test2020-10-22_16-15-20_test4-channel-1-pco_camera2bigtiff.btf'\n",
    "btf_fname_gcamp = os.path.join(bigtiff_folder, btf_fname_gcamp)"
   ]
  },
  {
   "cell_type": "code",
   "execution_count": 32,
   "metadata": {},
   "outputs": [],
   "source": [
    "datafiles = DLC_for_WBFM_datafiles(btf_fname_mcherry, btf_fname_gcamp)\n",
    "preprocessing = DLC_for_WBFM_preprocessing(100, 1000, 33, 12, 0.15)"
   ]
  },
  {
   "cell_type": "code",
   "execution_count": 33,
   "metadata": {},
   "outputs": [],
   "source": [
    "config = DLC_for_WBFM_config('Charlie', datafiles, preprocessing)"
   ]
  },
  {
   "cell_type": "code",
   "execution_count": 34,
   "metadata": {},
   "outputs": [
    {
     "data": {
      "text/plain": [
       "DLC_for_WBFM_config(experimenter='Charlie', datafiles=DLC_for_WBFM_datafiles(red_bigtiff_fname='D:\\\\More-stabilized-wbfm\\\\test2020-10-22_16-15-20_test4-channel-0-pco_camera1\\\\test2020-10-22_16-15-20_test4-channel-0-pco_camera1bigtiff.btf', green_bigtiff_fname='D:\\\\More-stabilized-wbfm\\\\test2020-10-22_16-15-20_test4-channel-1-pco_camera2\\\\test2020-10-22_16-15-20_test4-channel-1-pco_camera2bigtiff.btf'), preprocessing=DLC_for_WBFM_preprocessing(start_volume=100, num_frames=1000, num_slices=33, center_slice=12, alpha=0.15, red_and_green_mirrored=True), tracking=None, traces=None)"
      ]
     },
     "execution_count": 34,
     "metadata": {},
     "output_type": "execute_result"
    }
   ],
   "source": [
    "config"
   ]
  },
  {
   "cell_type": "code",
   "execution_count": null,
   "metadata": {},
   "outputs": [],
   "source": []
  }
 ],
 "metadata": {
  "kernelspec": {
   "display_name": "Python [conda env:DLC-postprocessing] *",
   "language": "python",
   "name": "conda-env-DLC-postprocessing-py"
  },
  "language_info": {
   "codemirror_mode": {
    "name": "ipython",
    "version": 3
   },
   "file_extension": ".py",
   "mimetype": "text/x-python",
   "name": "python",
   "nbconvert_exporter": "python",
   "pygments_lexer": "ipython3",
   "version": "3.8.5"
  }
 },
 "nbformat": 4,
 "nbformat_minor": 4
}
