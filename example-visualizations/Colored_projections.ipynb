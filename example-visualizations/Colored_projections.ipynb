{
 "cells": [
  {
   "cell_type": "markdown",
   "metadata": {},
   "source": [
    "# Converting an ome.tiff file to a colored projection\n",
    "\n",
    "Purpose: track even when there is motion in z"
   ]
  },
  {
   "cell_type": "code",
   "execution_count": 1,
   "metadata": {},
   "outputs": [],
   "source": [
    "from DLC_for_WBFM.utils.video_and_data_conversion.colored_stacks_utils import *\n",
    "from DLC_for_WBFM.utils.video_and_data_conversion.import_video_as_array import *\n",
    "import numpy as np\n",
    "import tifffile\n",
    "import os\n",
    "import imageio"
   ]
  },
  {
   "cell_type": "markdown",
   "metadata": {},
   "source": [
    "## First, import a 3d stack"
   ]
  },
  {
   "cell_type": "code",
   "execution_count": 2,
   "metadata": {},
   "outputs": [],
   "source": [
    "# Read in mCherry data\n",
    "input_foldername = '/users/charles.fieseler/shared_projects/wbfm/dat/short_wbfm_z_stabilized/'\n",
    "fname = '202009282020-09-28_17-30-28_worm4_chemotaxis-channel-1-pco_camera2_MMStack_2.ome.tif'\n",
    "input_fname = os.path.join(input_foldername, fname)\n",
    "\n",
    "# Get the exact frame size\n",
    "# tif = tifffile.TiffFile(input_fname)\n",
    "with tifffile.TiffFile(input_fname) as tif:\n",
    "    frame_height, frame_width = tif.pages[0].shape\n",
    "    alpha =  0.9 * 255.0 / np.max(tif.pages[0].asarray())\n",
    "\n",
    "num_frames = 90"
   ]
  },
  {
   "cell_type": "code",
   "execution_count": 3,
   "metadata": {},
   "outputs": [
    {
     "name": "stdout",
     "output_type": "stream",
     "text": [
      "Page 0/2937\n",
      "Page 100/2937\n",
      "Page 200/2937\n",
      "Page 300/2937\n",
      "Page 400/2937\n",
      "Page 500/2937\n",
      "Page 600/2937\n",
      "Page 700/2937\n",
      "Page 800/2937\n",
      "Page 900/2937\n",
      "Page 1000/2937\n",
      "Page 1100/2937\n",
      "Page 1200/2937\n",
      "Page 1300/2937\n",
      "Page 1400/2937\n",
      "Page 1500/2937\n",
      "Page 1600/2937\n",
      "Page 1700/2937\n",
      "Page 1800/2937\n",
      "Page 1900/2937\n",
      "Page 2000/2937\n",
      "Page 2100/2937\n",
      "Page 2200/2937\n",
      "Page 2300/2937\n",
      "Page 2400/2937\n",
      "Page 2500/2937\n",
      "Page 2600/2937\n",
      "Page 2700/2937\n",
      "Page 2800/2937\n",
      "Page 2900/2937\n"
     ]
    }
   ],
   "source": [
    "\n",
    "dat = get_video_from_ome_file_subset(input_fname, \n",
    "                                     num_frames=num_frames,\n",
    "                                     frame_width=frame_width, frame_height=frame_height,\n",
    "                                     num_slices=33,\n",
    "                                     alpha=alpha) # e.g. from above OME-TIFF"
   ]
  },
  {
   "cell_type": "markdown",
   "metadata": {},
   "source": [
    "## Second, produce the colored video"
   ]
  },
  {
   "cell_type": "code",
   "execution_count": 4,
   "metadata": {},
   "outputs": [],
   "source": [
    "\n",
    "which_planes = [7, 8, 9]\n",
    "\n",
    "output_foldername = '/users/charles.fieseler/shared_projects/wbfm/dat/short_wbfm_z_stabilized/'\n",
    "fname = '202009282020-09-28_17-30-28_worm4_chemotaxis-channel-0-pco_camera1_MMStack_2_mcherry_slice789_colored.mp4'\n",
    "output_fname = os.path.join(output_foldername, fname)\n"
   ]
  },
  {
   "cell_type": "code",
   "execution_count": 5,
   "metadata": {},
   "outputs": [
    {
     "ename": "NameError",
     "evalue": "name 'coloriallze_3planes_keeping_intensity' is not defined",
     "output_type": "error",
     "traceback": [
      "\u001b[0;31m---------------------------------------------------------------------------\u001b[0m",
      "\u001b[0;31mNameError\u001b[0m                                 Traceback (most recent call last)",
      "\u001b[0;32m<ipython-input-5-fb08f2609a1f>\u001b[0m in \u001b[0;36m<module>\u001b[0;34m\u001b[0m\n\u001b[1;32m      1\u001b[0m \u001b[0;31m# Make the colored array\u001b[0m\u001b[0;34m\u001b[0m\u001b[0;34m\u001b[0m\u001b[0;34m\u001b[0m\u001b[0m\n\u001b[0;32m----> 2\u001b[0;31m \u001b[0mcolored_dat\u001b[0m \u001b[0;34m=\u001b[0m \u001b[0mcoloriallze_3planes_keeping_intensity\u001b[0m\u001b[0;34m(\u001b[0m\u001b[0mdat\u001b[0m\u001b[0;34m,\u001b[0m \u001b[0mwhich_planes\u001b[0m\u001b[0;34m)\u001b[0m\u001b[0;34m\u001b[0m\u001b[0;34m\u001b[0m\u001b[0m\n\u001b[0m",
      "\u001b[0;31mNameError\u001b[0m: name 'coloriallze_3planes_keeping_intensity' is not defined"
     ]
    }
   ],
   "source": [
    "# Make the colored array\n",
    "colored_dat = coloriallze_3planes_keeping_intensity(dat, which_planes)"
   ]
  },
  {
   "cell_type": "code",
   "execution_count": null,
   "metadata": {},
   "outputs": [],
   "source": [
    "# imageio.mimwrite(output_fname, colored_dat, fps=5)"
   ]
  }
 ],
 "metadata": {
  "kernelspec": {
   "display_name": "Python [conda env:.conda-DLC-preprocessing]",
   "language": "python",
   "name": "conda-env-.conda-DLC-preprocessing-py"
  },
  "language_info": {
   "codemirror_mode": {
    "name": "ipython",
    "version": 3
   },
   "file_extension": ".py",
   "mimetype": "text/x-python",
   "name": "python",
   "nbconvert_exporter": "python",
   "pygments_lexer": "ipython3",
   "version": "3.7.9"
  }
 },
 "nbformat": 4,
 "nbformat_minor": 4
}
