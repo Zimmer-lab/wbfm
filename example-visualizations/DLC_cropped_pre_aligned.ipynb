{
 "cells": [
  {
   "cell_type": "markdown",
   "metadata": {},
   "source": [
    "# Pre-aligned video"
   ]
  },
  {
   "cell_type": "code",
   "execution_count": 1,
   "metadata": {},
   "outputs": [],
   "source": [
    "import numpy as np\n",
    "import cv2\n",
    "import tifffile\n",
    "import h5py\n",
    "import os\n",
    "import matplotlib.pyplot as plt\n",
    "from ipywidgets import interact\n",
    "\n",
    "from vis_utils import *"
   ]
  },
  {
   "cell_type": "markdown",
   "metadata": {},
   "source": [
    "## First, read the locations from DLC (2d)"
   ]
  },
  {
   "cell_type": "code",
   "execution_count": 2,
   "metadata": {},
   "outputs": [],
   "source": [
    "which_neuron = 3\n",
    "num_frames = 100\n",
    "sz=(18,18)"
   ]
  },
  {
   "cell_type": "code",
   "execution_count": 3,
   "metadata": {},
   "outputs": [],
   "source": [
    "# Raw video\n",
    "# folder_name = '/users/charles.fieseler/test_worm1_data/mCherry_slices_long/'\n",
    "# fname = 'test_1000frames_13sliceDLC_resnet50_WormTestJul16shuffle1_34000.h5'\n",
    "# fname = os.path.join(folder_name, fname)\n",
    "\n",
    "# Pre-aligned (within volumes)\n",
    "folder_name = '/users/charles.fieseler/test_worm1_data/mCherry_volume_aligned/'\n",
    "fname = 'test_100frames_13sliceDLC_resnet50_volume_aligned_aviJul20shuffle1_5500.h5'\n",
    "# fname = 'test_100frames_13sliceDLC_resnet50_volume_aligned_aviJul20shuffle1_4500.h5' # Tightened training\n",
    "annotation_fname = os.path.join(folder_name, fname)\n",
    "\n",
    "this_xy, this_prob = xy_from_dlc_dat(annotation_fname, which_neuron=which_neuron, num_frames=num_frames)"
   ]
  },
  {
   "cell_type": "code",
   "execution_count": 4,
   "metadata": {},
   "outputs": [
    {
     "data": {
      "text/plain": [
       "Text(0.5, 1.0, 'Confidence')"
      ]
     },
     "execution_count": 4,
     "metadata": {},
     "output_type": "execute_result"
    },
    {
     "data": {
      "image/png": "[encoded data removed]",
      "text/plain": [
       "<Figure size 432x288 with 1 Axes>"
      ]
     },
     "metadata": {
      "needs_background": "light"
     },
     "output_type": "display_data"
    }
   ],
   "source": [
    "plt.plot(this_prob)\n",
    "plt.title('Confidence')"
   ]
  },
  {
   "cell_type": "markdown",
   "metadata": {},
   "source": [
    "## Second, get a moving crop centering this neuron (2d)"
   ]
  },
  {
   "cell_type": "code",
   "execution_count": 6,
   "metadata": {},
   "outputs": [],
   "source": [
    "folder_name = '/users/charles.fieseler/test_worm1_data/mCherry_volume_aligned/'\n",
    "fname = 'test_100frames_13slice.avi'\n",
    "video_fname = os.path.join(folder_name, fname)\n",
    "\n",
    "cropped_dat = get_crop_from_avi(video_fname, this_xy, num_frames, sz=sz)"
   ]
  },
  {
   "cell_type": "code",
   "execution_count": 7,
   "metadata": {},
   "outputs": [
    {
     "data": {
      "application/vnd.jupyter.widget-view+json": {
       "model_id": "a4f2a87a906a4387a76d2808bb596d9b",
       "version_major": 2,
       "version_minor": 0
      },
      "text/plain": [
       "interactive(children=(IntSlider(value=49, description='i', max=99), Output()), _dom_classes=('widget-interact'…"
      ]
     },
     "metadata": {},
     "output_type": "display_data"
    },
    {
     "data": {
      "text/plain": [
       "<function __main__.<lambda>(i)>"
      ]
     },
     "execution_count": 7,
     "metadata": {},
     "output_type": "execute_result"
    }
   ],
   "source": [
    "from ipywidgets import interact, interactive, fixed, interact_manual\n",
    "f = lambda i : plt.imshow(cropped_dat[:,:,0,i])\n",
    "interact(f, i=(0,num_frames-1))"
   ]
  },
  {
   "cell_type": "markdown",
   "metadata": {},
   "source": [
    "## Next, 3d "
   ]
  },
  {
   "cell_type": "code",
   "execution_count": 8,
   "metadata": {},
   "outputs": [],
   "source": [
    "which_z = 13 # The actually tracked slice\n",
    "num_frames = 50\n",
    "sz=(28,28,10)"
   ]
  },
  {
   "cell_type": "code",
   "execution_count": 9,
   "metadata": {
    "collapsed": true,
    "jupyter": {
     "outputs_hidden": true
    }
   },
   "outputs": [
    {
     "name": "stdout",
     "output_type": "stream",
     "text": [
      "Reading video...\n",
      "Reading frame 0/49\n",
      "Reading frame 1/49\n",
      "Reading frame 2/49\n",
      "Reading frame 3/49\n",
      "Reading frame 4/49\n",
      "Reading frame 5/49\n",
      "Reading frame 6/49\n",
      "Reading frame 7/49\n",
      "Reading frame 8/49\n",
      "Reading frame 9/49\n",
      "Reading frame 10/49\n",
      "Reading frame 11/49\n",
      "Reading frame 12/49\n",
      "Reading frame 13/49\n",
      "Reading frame 14/49\n",
      "Reading frame 15/49\n",
      "Reading frame 16/49\n",
      "Reading frame 17/49\n",
      "Reading frame 18/49\n",
      "Reading frame 19/49\n",
      "Reading frame 20/49\n",
      "Reading frame 21/49\n",
      "Reading frame 22/49\n",
      "Reading frame 23/49\n",
      "Reading frame 24/49\n",
      "Reading frame 25/49\n",
      "Reading frame 26/49\n",
      "Reading frame 27/49\n",
      "Reading frame 28/49\n",
      "Reading frame 29/49\n",
      "Reading frame 30/49\n",
      "Reading frame 31/49\n",
      "Reading frame 32/49\n",
      "Reading frame 33/49\n",
      "Reading frame 34/49\n",
      "Reading frame 35/49\n",
      "Reading frame 36/49\n",
      "Reading frame 37/49\n",
      "Reading frame 38/49\n",
      "Reading frame 39/49\n",
      "Reading frame 40/49\n",
      "Reading frame 41/49\n",
      "Reading frame 42/49\n",
      "Reading frame 43/49\n",
      "Reading frame 44/49\n",
      "Reading frame 45/49\n",
      "Reading frame 46/49\n",
      "Reading frame 47/49\n",
      "Reading frame 48/49\n",
      "Reading frame 49/49\n"
     ]
    }
   ],
   "source": [
    "folder_name = '/users/charles.fieseler/test_worm1_data/mCherry_volume_aligned/'\n",
    "fname = 'test_100frames.ome.tiff'\n",
    "video3d_fname = os.path.join(folder_name, fname)\n",
    "\n",
    "cropped_dat = get_crop_from_ometiff(video3d_fname, this_xy, which_z, num_frames, sz)"
   ]
  },
  {
   "cell_type": "code",
   "execution_count": 10,
   "metadata": {},
   "outputs": [
    {
     "data": {
      "application/vnd.jupyter.widget-view+json": {
       "model_id": "ce589d717933418da99b006b4f5437a4",
       "version_major": 2,
       "version_minor": 0
      },
      "text/plain": [
       "interactive(children=(IntSlider(value=4, description='z', max=9), IntSlider(value=24, description='t', max=49)…"
      ]
     },
     "metadata": {},
     "output_type": "display_data"
    },
    {
     "data": {
      "text/plain": [
       "<function __main__.<lambda>(z, t)>"
      ]
     },
     "execution_count": 10,
     "metadata": {},
     "output_type": "execute_result"
    }
   ],
   "source": [
    "f = lambda z, t : plt.imshow(cropped_dat[:,:,z,t])\n",
    "interact(f, **{'t':(0,num_frames-1), 'z':(0,sz[2]-1)})"
   ]
  },
  {
   "cell_type": "code",
   "execution_count": null,
   "metadata": {},
   "outputs": [],
   "source": []
  }
 ],
 "metadata": {
  "kernelspec": {
   "display_name": "Python [conda env:.conda-DLC-preprocessing]",
   "language": "python",
   "name": "conda-env-.conda-DLC-preprocessing-py"
  },
  "language_info": {
   "codemirror_mode": {
    "name": "ipython",
    "version": 3
   },
   "file_extension": ".py",
   "mimetype": "text/x-python",
   "name": "python",
   "nbconvert_exporter": "python",
   "pygments_lexer": "ipython3",
   "version": "3.7.7"
  }
 },
 "nbformat": 4,
 "nbformat_minor": 4
}
